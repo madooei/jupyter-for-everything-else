{
 "cells": [
  {
   "cell_type": "markdown",
   "metadata": {},
   "source": [
    "# Interact Exercises"
   ]
  },
  {
   "cell_type": "code",
   "execution_count": 1,
   "metadata": {
    "collapsed": false
   },
   "outputs": [],
   "source": [
    "%matplotlib inline"
   ]
  },
  {
   "cell_type": "code",
   "execution_count": 2,
   "metadata": {
    "collapsed": false
   },
   "outputs": [],
   "source": [
    "from matplotlib import pyplot as plt\n",
    "import numpy as np"
   ]
  },
  {
   "cell_type": "code",
   "execution_count": 3,
   "metadata": {
    "collapsed": false
   },
   "outputs": [
    {
     "name": "stderr",
     "output_type": "stream",
     "text": [
      "c:\\progs\\anaconda3\\lib\\site-packages\\IPython\\html.py:14: ShimWarning: The `IPython.html` package has been deprecated. You should import from `notebook` instead. `IPython.html.widgets` has moved to `ipywidgets`.\n",
      "  \"`IPython.html.widgets` has moved to `ipywidgets`.\", ShimWarning)\n"
     ]
    }
   ],
   "source": [
    "from IPython.html.widgets import *\n",
    "from IPython.display import display"
   ]
  },
  {
   "cell_type": "markdown",
   "metadata": {},
   "source": [
    "## String sorting"
   ]
  },
  {
   "cell_type": "markdown",
   "metadata": {},
   "source": [
    "Write a `sort_string` function that takes a string as its input and prints a new string consisting of the original one, sorted.  Add a `reverse` keyword argument with a default of `False` to allow for the sorting to be done in reverse.\n",
    "\n",
    "Then, use `interact` to create a user interface for exploring your `sort_string` function."
   ]
  },
  {
   "cell_type": "code",
   "execution_count": 11,
   "metadata": {
    "collapsed": false
   },
   "outputs": [
    {
     "name": "stdout",
     "output_type": "stream",
     "text": [
      "Hixxx\n"
     ]
    }
   ],
   "source": [
    "# %load soln/string_sorting.py\n",
    "def sort_string(s, reverse=False):\n",
    "    s = reversed(sorted(s)) if reverse else sorted(s)\n",
    "    print(''.join(s))\n",
    "\n",
    "interact(sort_string, s='Hi', reverse=False);\n"
   ]
  },
  {
   "cell_type": "markdown",
   "metadata": {},
   "source": [
    "## Plotting with parameters"
   ]
  },
  {
   "cell_type": "markdown",
   "metadata": {},
   "source": [
    "Write a `plot_sin` function that plots $sin(ax+b)$ over the interval $[0,4\\pi]$.\n",
    "\n",
    "Then use `interact` to create a user interface for exploring your function:\n",
    "\n",
    "* `a` should be a floating point number over the interval $[0.0,5.0]$.\n",
    "* `b` should be a floating point number over the interval $[-5.0,5.0]$."
   ]
  },
  {
   "cell_type": "code",
   "execution_count": 12,
   "metadata": {
    "collapsed": false
   },
   "outputs": [
    {
     "data": {
      "image/png": "[encoded data removed]",
      "text/plain": [
       "<matplotlib.figure.Figure at 0x835e358>"
      ]
     },
     "metadata": {},
     "output_type": "display_data"
    }
   ],
   "source": [
    "# %load soln/param_plot_1.py\n",
    "def plot_sin(a, b):\n",
    "    x = np.linspace(0,4*np.pi, 100)\n",
    "    y = np.sin(a*x+b)\n",
    "    plt.plot(x,y)\n",
    "\n",
    "interact(plot_sin, a=(0.0,5.0,0.1), b=(-5.0,5.0,0.1));"
   ]
  },
  {
   "cell_type": "markdown",
   "metadata": {},
   "source": [
    "In matplotlib, the line style and color can be set with a third argument to `plot`. Examples of this argument:\n",
    "\n",
    "* dashed red: `r--`\n",
    "* blue circles: `bo`\n",
    "* dotted black: `k.`\n",
    "\n",
    "Add a `style` argument to your `plot_sin` function that allows you to set the line style of the plot.\n",
    "\n",
    "Use `interact` to create a UI for `plot_sin` that has a drop down menu for selecting the line style between a **dotted red** line and a **dashed black line**. This time use `interact` as a decorator."
   ]
  },
  {
   "cell_type": "code",
   "execution_count": 13,
   "metadata": {
    "collapsed": false
   },
   "outputs": [
    {
     "data": {
      "image/png": "[encoded data removed]",
      "text/plain": [
       "<matplotlib.figure.Figure at 0x83a6e10>"
      ]
     },
     "metadata": {},
     "output_type": "display_data"
    }
   ],
   "source": [
    "# %load soln/param_plot_2.py\n",
    "@interact(a=(0.0,5.0,0.1), b=(-5.0,5.0,0.1),\n",
    "         style={'dotted red': 'r.', 'dashed black': 'k--'})\n",
    "def plot_sin2(a, b, style='r.'):\n",
    "    x = np.linspace(0,4*np.pi, 100)\n",
    "    y = np.sin(a*x+b)\n",
    "    plt.plot(x, y, style)"
   ]
  },
  {
   "cell_type": "markdown",
   "metadata": {},
   "source": [
    "## Simple data explorer"
   ]
  },
  {
   "cell_type": "markdown",
   "metadata": {},
   "source": [
    "In this exercise, you will use interact to build a UI for exploring correlations between different features in the [Iris dataset](http://en.wikipedia.org/wiki/Iris_flower_data_set) in [sklearn]http://scikit-learn.org/stable/(http://scikit-learn.org/stable/). This data contains 4 different measurements (called features in this content) of 150 different iris flowers of three different species.\n",
    "\n",
    "Load the dataset:"
   ]
  },
  {
   "cell_type": "code",
   "execution_count": 14,
   "metadata": {
    "collapsed": false
   },
   "outputs": [],
   "source": [
    "from sklearn.datasets import load_iris\n",
    "iris_data = load_iris()"
   ]
  },
  {
   "cell_type": "markdown",
   "metadata": {},
   "source": [
    "The actual data is stored as a NumPy array under the `data` attribute:"
   ]
  },
  {
   "cell_type": "code",
   "execution_count": 15,
   "metadata": {
    "collapsed": false
   },
   "outputs": [
    {
     "data": {
      "text/plain": [
       "(150, 4)"
      ]
     },
     "execution_count": 15,
     "metadata": {},
     "output_type": "execute_result"
    }
   ],
   "source": [
    "iris_data.data.shape"
   ]
  },
  {
   "cell_type": "markdown",
   "metadata": {},
   "source": [
    "You can see the meanings of the 4 columns of data by looking at the `feature_names` attribute:"
   ]
  },
  {
   "cell_type": "code",
   "execution_count": 16,
   "metadata": {
    "collapsed": false
   },
   "outputs": [
    {
     "data": {
      "text/plain": [
       "['sepal length (cm)',\n",
       " 'sepal width (cm)',\n",
       " 'petal length (cm)',\n",
       " 'petal width (cm)']"
      ]
     },
     "execution_count": 16,
     "metadata": {},
     "output_type": "execute_result"
    }
   ],
   "source": [
    "iris_data.feature_names"
   ]
  },
  {
   "cell_type": "markdown",
   "metadata": {},
   "source": [
    "Write a `plot_iris` function that creates a scatter plot (using `plt.scatter`) of two columns of this dataset. Your function should have the following signature:\n",
    "\n",
    "```python\n",
    "def plot_iris(a, col1, col2):\n",
    "    ...\n",
    "```\n",
    "\n",
    "where `a` is the NumPy array of data and `col1/col2` are the two columns to use for the scatter plot.\n",
    "\n",
    "Use `interact` to build a UI to explore the iris dataset using your `plot_iris` function. You will need to use the `fixed` function when passing the dataset to the function."
   ]
  },
  {
   "cell_type": "code",
   "execution_count": 17,
   "metadata": {
    "collapsed": false
   },
   "outputs": [
    {
     "data": {
      "image/png": "[encoded data removed]",
      "text/plain": [
       "<matplotlib.figure.Figure at 0x835e780>"
      ]
     },
     "metadata": {},
     "output_type": "display_data"
    }
   ],
   "source": [
    "# %load soln/data_explorer.py\n",
    "def plot_iris(a=None, col1=0, col2=0):\n",
    "    plt.scatter(a[:,col1], a[:,col2])\n",
    "\n",
    "interact(plot_iris, a=fixed(iris_data.data), col1=(0,3), col2=(0,3));"
   ]
  }
 ],
 "metadata": {
  "kernelspec": {
   "display_name": "Python 3",
   "language": "python",
   "name": "python3"
  },
  "language_info": {
   "codemirror_mode": {
    "name": "ipython",
    "version": 3
   },
   "file_extension": ".py",
   "mimetype": "text/x-python",
   "name": "python",
   "nbconvert_exporter": "python",
   "pygments_lexer": "ipython3",
   "version": "3.5.1"
  },
  "widgets": {
   "state": {
    "020db08d17f34b19b932eee846eb8899": {
     "views": []
    },
    "11d4372e47ab44b7989ffb11905ac9ad": {
     "views": []
    },
    "1dbb5d5ef62f4e18ac0d044caf97f5a9": {
     "views": []
    },
    "3526f0fa72dc4066ab9694d42f723c3e": {
     "views": []
    },
    "3e245be82306473090dff1bc91aadae1": {
     "views": []
    },
    "47aedaaafe334622a7ba7a855beace1c": {
     "views": []
    },
    "4dab85d649734821b328e193d75ddeb0": {
     "views": [
      {
       "cell_index": 20
      }
     ]
    },
    "4fb9fa45d5d147e3b9ac5f6bfe5b751a": {
     "views": []
    },
    "5698d59923d445d0be6a24964eeb261e": {
     "views": []
    },
    "6f49e734a06249fb95f59626f5995d82": {
     "views": []
    },
    "710688a4a13549a0aa7122f9cf1dd5e1": {
     "views": []
    },
    "8d797a5d132f4a0e94e0faf15bef3e57": {
     "views": []
    },
    "adc3f915dc0642298f7df2e0e90771ab": {
     "views": []
    },
    "b316ec742b0a430ab5a1138be9ba1b33": {
     "views": []
    },
    "b455ccc402064436a646094aeb9493d1": {
     "views": []
    },
    "c69a3b0475af458e80356cd96dcdb861": {
     "views": [
      {
       "cell_index": 9
      }
     ]
    },
    "cc7ad78d5e134546a7a70a1bdd9d9590": {
     "views": []
    },
    "e52d8ba0de4f439abf534fe621d40b6a": {
     "views": [
      {
       "cell_index": 6
      }
     ]
    },
    "e53ccb12241e48c0835a6300fadb6642": {
     "views": []
    },
    "e565c7af313948819881199b07cefa1d": {
     "views": []
    },
    "e5c9b5f9f6654991af21c91d40eb2aca": {
     "views": []
    },
    "e5f427fd7fe54021ad6a02511d12f608": {
     "views": []
    },
    "e6d67bcb50524ac3ba610e8595d16b09": {
     "views": []
    },
    "e7f1a89e7e434259bf23d050008cee6a": {
     "views": [
      {
       "cell_index": 11
      }
     ]
    },
    "e99432521ced4a56823334823f926636": {
     "views": []
    },
    "ed197d19a73e4b4d806c1b3c37dda1e5": {
     "views": []
    }
   },
   "version": "1.1.2"
  }
 },
 "nbformat": 4,
 "nbformat_minor": 0
}
