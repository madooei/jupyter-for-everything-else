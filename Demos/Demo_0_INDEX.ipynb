{
 "cells": [
  {
   "cell_type": "markdown",
   "metadata": {},
   "source": [
    "<a name=\"NOTEBOOK\"> </a>\n",
    "### The Jupyter Dashboard & Notebook\n",
    "- [Dashboard](http://localhost:8888/)\n",
    "- [Python Notebook](IPython-in-depth/Interactive%20Widgets/Interact%20Exercises.ipynb)\n",
    "  - Magics\n",
    "  - Interaction\n",
    "- [MOOC R Notebook](MOOC_Coursera_R.ipynb)\n",
    "- [Try Jupyter](https://try.jupyter.org/)"
   ]
  },
  {
   "cell_type": "markdown",
   "metadata": {},
   "source": [
    "<a name=\"BINDER\"> </a>\n",
    "### Live tutorials on Binder\n",
    "- [**[BLOG POST]** runnable tcpdump tutorial](http://mjbright.blogspot.com/2016/07/tcpdump-online-runnable-tutorial-under.html)\n",
    "- [**[github repo]**](https://github.com/mjbright/binder_jupyter_notebook)\n",
    "- [**[NEW SERVER]**](http://mybinder.org/repo/mjbright/binder_jupyter_notebook)\n",
    "- [**[NEW SERVER tcpdump tutorial]**](http://mybinder.org/repo/mjbright/binder_jupyter_notebook/Networking_tcpdump_tutorial.ipynb)"
   ]
  },
  {
   "cell_type": "markdown",
   "metadata": {},
   "source": [
    "<a name=\"METAKERNELS\"> </a>\n",
    "### Calysto Metakernels\n",
    "- [Metakernel_Bash basics]()\n",
    "- [Metakernel_Bash extended](http://localhost:8888/notebooks/TEST_Metakernel_bash.ipynb)\n",
    "  - Metakernel Magics\n",
    "  - [html_find](Demo_html_find.ipynb)\n",
    "  - pydot / GraphViz\n",
    "  - images\n",
    "- [[**VPN**] OpenStack Command-Line augmented](http://10.3.216.210:8888/notebooks/notebooks/OpenStack_CommandLine.ipynb)"
   ]
  },
  {
   "cell_type": "markdown",
   "metadata": {},
   "source": [
    "<a name=\"NBCONVERT\"> </a>\n",
    "### Nbconvert for automated (cron) reporting\n",
    "- [[**VPN**] OpenStack Monitoring](http://10.3.216.210:8888/notebooks/notebooks/OpenStack_Monitoring_Py3.ipynb)\n",
    "- [[**VPN**] OpenStack Monitoring2](http://10.3.216.210:8888/notebooks/notebooks/OpenStack_MultipleSystems_Monitoring_Py3.ipynb)"
   ]
  },
  {
   "cell_type": "markdown",
   "metadata": {
    "collapsed": false
   },
   "source": [
    "<a name=\"FUTURE\"> </a>\n",
    "### Future\n",
    "#### Xonsh\n",
    "  - Metakernel Magics\n",
    "\n",
    "#### CLing (C++ Interpreter)\n",
    "- Cling"
   ]
  },
  {
   "cell_type": "code",
   "execution_count": null,
   "metadata": {
    "collapsed": true
   },
   "outputs": [],
   "source": []
  }
 ],
 "metadata": {
  "celltoolbar": "Slideshow",
  "kernelspec": {
   "display_name": "MetaKernel Bash",
   "language": "bash",
   "name": "metakernel_bash"
  },
  "language_info": {
   "file_extension": ".sh",
   "help_links": [
    {
     "text": "MetaKernel Magics",
     "url": "https://github.com/calysto/metakernel/blob/master/metakernel/magics/README.md"
    }
   ],
   "mimetype": "text/x-bash",
   "name": "bash"
  },
  "widgets": {
   "state": {},
   "version": "1.1.2"
  }
 },
 "nbformat": 4,
 "nbformat_minor": 0
}
