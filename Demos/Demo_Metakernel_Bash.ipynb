{
 "cells": [
  {
   "cell_type": "markdown",
   "metadata": {},
   "source": [
    "# Adding HTML o/p capabilities to Bash in the Notebook\n",
    "\n",
    "I've provided an '*html*' function which enables display of html within the notebook\n",
    "\n",
    "Below examples of pretty printing HTML from various sources"
   ]
  },
  {
   "cell_type": "code",
   "execution_count": null,
   "metadata": {
    "collapsed": false
   },
   "outputs": [],
   "source": [
    "echo \"<h1>An html header <!-- A comment --></h1>\" | html"
   ]
  },
  {
   "cell_type": "code",
   "execution_count": null,
   "metadata": {
    "collapsed": false
   },
   "outputs": [],
   "source": [
    "echo \"<h1>A table <!-- A comment --></h1>\n",
    "<table><tr><th>col1</th>\n",
    "<th>col2</th>\n",
    "<th>col3</th>\n",
    "<th>col4</th>\n",
    "</tr>\n",
    "<tr><td>val1</td>\n",
    "    <td>val2</td>\n",
    "    <td>val3</td>\n",
    "    <td>val4</td>\n",
    "</tr>\n",
    "<tr><td>valu1</td>\n",
    "    <td>value2</td>\n",
    "    <td>value3</td>\n",
    "    <td>val4</td>\n",
    "</tr></table>\" | html"
   ]
  },
  {
   "cell_type": "markdown",
   "metadata": {},
   "source": [
    "# Below is the output from an openstack cli command, in mysql table format.\n",
    "\n",
    "```openstack --os-cloud demo8 server list```\n",
    "\n",
    "```\n",
    "+--------------------------------------+----------------+--------+-------------------------+\n",
    "| ID                                   | Name           | Status | Networks                |\n",
    "+--------------------------------------+----------------+--------+-------------------------+\n",
    "| f4abc2c8-48b3-49b2-a892-76fb240a0f04 | mikeu1         | ACTIVE | ExternalNet=10.3.161.81 |\n",
    "| e2d07009-20a1-48f9-bc70-739a5de17f66 | testfromvolume | ACTIVE | ExternalNet=10.3.161.19 |\n",
    "+--------------------------------------+----------------+--------+-------------------------+\n",
    "```"
   ]
  },
  {
   "cell_type": "code",
   "execution_count": null,
   "metadata": {
    "collapsed": false
   },
   "outputs": [],
   "source": [
    "echo \"\n",
    "+--------------------------------------+----------------+--------+-------------------------+\n",
    "| ID                                   | Name           | Status | Networks                |\n",
    "+--------------------------------------+----------------+--------+-------------------------+\n",
    "| f4abc2c8-48b3-49b2-a892-76fb240a0f04 | mikeu1         | ACTIVE | ExternalNet=10.3.161.81 |\n",
    "| e2d07009-20a1-48f9-bc70-739a5de17f66 | testfromvolume | ACTIVE | ExternalNet=10.3.161.19 |\n",
    "+--------------------------------------+----------------+--------+-------------------------+\n",
    "\" | html_table | html\n"
   ]
  },
  {
   "cell_type": "code",
   "execution_count": null,
   "metadata": {
    "collapsed": false
   },
   "outputs": [],
   "source": [
    "function highlight {\n",
    "   sed -e \"s/\\\\($1\\\\)/<b><p style='color: #000; background-color: #0d0'>\\\\1<\\/p><\\/b>/\"\n",
    "}"
   ]
  },
  {
   "cell_type": "code",
   "execution_count": null,
   "metadata": {
    "collapsed": false,
    "scrolled": true
   },
   "outputs": [],
   "source": [
    "echo \"\n",
    "+--------------------------------------+----------------+--------+-------------------------+\n",
    "| ID                                   | Name           | Status | Networks                |\n",
    "+--------------------------------------+----------------+--------+-------------------------+\n",
    "| f4abc2c8-48b3-49b2-a892-76fb240a0f04 | mikeu1         | ACTIVE | ExternalNet=10.3.161.81 |\n",
    "| e2d07009-20a1-48f9-bc70-739a5de17f66 | testfromvolume | ACTIVE | ExternalNet=10.3.161.19 |\n",
    "+--------------------------------------+----------------+--------+-------------------------+\n",
    "\" | highlight ACTIVE | html_table | html"
   ]
  },
  {
   "cell_type": "code",
   "execution_count": null,
   "metadata": {
    "collapsed": true,
    "slideshow": {
     "slide_type": "notes"
    }
   },
   "outputs": [],
   "source": [
    "%%javascript\n",
    "\n",
    "require('notebook/js/outputarea').OutputArea.auto_scroll_threshold = 9999;\n",
    "ddIPython.OutputArea.auto_scroll_threshold = 9999;"
   ]
  },
  {
   "cell_type": "code",
   "execution_count": null,
   "metadata": {
    "collapsed": false
   },
   "outputs": [],
   "source": [
    "cd /cygdrive/c/tools/cygwin/home/mjbright/src/git/GIT_mjbright/"
   ]
  },
  {
   "cell_type": "code",
   "execution_count": null,
   "metadata": {
    "collapsed": false
   },
   "outputs": [],
   "source": [
    "find ipython-in-depth -iname '*.ipynb' | wc -l"
   ]
  },
  {
   "cell_type": "code",
   "execution_count": null,
   "metadata": {
    "collapsed": false
   },
   "outputs": [],
   "source": [
    "#source /cygdrive/c/tools/cygwin/home/mjbright/.metakernelrc\n",
    "\n",
    "function html_find {\n",
    "  {\n",
    "    echo \"+------+\";\n",
    "    echo \"| Path |\" ;\n",
    "    echo \"+------+\";\n",
    "\n",
    "    find \"$@\" | sed -e 's/^/\\| /' -e 's/$/ \\|/' ;\n",
    "\n",
    "    echo \"+------+\" ;\n",
    "  } | html_table | html\n",
    "}"
   ]
  },
  {
   "cell_type": "code",
   "execution_count": null,
   "metadata": {
    "collapsed": false
   },
   "outputs": [],
   "source": [
    "html_find ipython-in-depth -iname '*.ipynb'"
   ]
  },
  {
   "cell_type": "code",
   "execution_count": null,
   "metadata": {
    "collapsed": false
   },
   "outputs": [],
   "source": [
    "cd /cygdrive/c/tools/cygwin/home/mjbright/src/git/GIT_mjbright/jupyter-for-everything-else/Demos"
   ]
  },
  {
   "cell_type": "markdown",
   "metadata": {},
   "source": [
    "# Bringing GraphView graphics to bash\n",
    "\n",
    "The metakernels provide %dot and %%dot magics to invoke GraphViz graphics:"
   ]
  },
  {
   "cell_type": "code",
   "execution_count": null,
   "metadata": {
    "collapsed": false
   },
   "outputs": [],
   "source": [
    "%lsmagic"
   ]
  },
  {
   "cell_type": "code",
   "execution_count": null,
   "metadata": {
    "collapsed": false
   },
   "outputs": [],
   "source": [
    "%dot graph A { a->b };"
   ]
  },
  {
   "cell_type": "markdown",
   "metadata": {},
   "source": [
    "We can extend the kernel to allow to pipe to a function to get the same functionality, dynamically ..."
   ]
  },
  {
   "cell_type": "code",
   "execution_count": null,
   "metadata": {
    "collapsed": false
   },
   "outputs": [],
   "source": [
    "echo \"graph A { a->b };\" | pydot"
   ]
  },
  {
   "cell_type": "code",
   "execution_count": null,
   "metadata": {
    "collapsed": false
   },
   "outputs": [],
   "source": [
    "# TODO: do you expect a file or text here (or adapt?)\n",
    "\n",
    "pydot \"digraph G { \n",
    "        a; \n",
    "        b; \n",
    "        c -> d; \n",
    "        a -> c; \n",
    "};\""
   ]
  },
  {
   "cell_type": "code",
   "execution_count": null,
   "metadata": {
    "collapsed": false
   },
   "outputs": [],
   "source": [
    "{\n",
    "    echo \"digraph G {  rankdir=LR;  //Rank Direction Left to Right\";\n",
    "\n",
    "    LAST=\"\"\n",
    "    for NODE in a b c d e f g; do\n",
    "        if [ -z \"$LAST\" ]; then\n",
    "            echo \"$NODE;\"\n",
    "        else\n",
    "            echo \"$NODE -> $LAST;\"\n",
    "        fi\n",
    "        LAST=$NODE\n",
    "    done\n",
    "    \n",
    "    echo \"}\"\n",
    "} | pydot"
   ]
  },
  {
   "cell_type": "code",
   "execution_count": null,
   "metadata": {
    "collapsed": false
   },
   "outputs": [],
   "source": [
    "echo 'digraph G { \n",
    "        bgcolor=azure; \n",
    "        node [shape=box, color=lightblue2, style=filled]; \n",
    "        edge [arrowsize=2, color=gold]; \n",
    "        \"zero\" -> \"dix\" [color=purple]; \n",
    "        \"un\" -> \"dix\"; \n",
    "        \"zero\" -> \"vingt\"; \n",
    "        \"deux\" -> \"vingt\"; \n",
    "        \"zero\" [shape=circle, color=thistle1, fontcolor=purple]; \n",
    "}' | pydot"
   ]
  },
  {
   "cell_type": "code",
   "execution_count": null,
   "metadata": {
    "collapsed": false
   },
   "outputs": [],
   "source": [
    "rm -rf /tmp/findtest\n",
    "\n",
    "mkdir -p /tmp/findtest/\n",
    "touch /tmp/findtest/file1\n",
    "mkdir /tmp/findtest/dir1\n",
    "  touch /tmp/findtest/dir1/file1\n",
    "  touch /tmp/findtest/dir1/file2\n",
    "  touch /tmp/findtest/dir1/file3\n",
    "mkdir /tmp/findtest/dir2\n",
    "  touch /tmp/findtest/dir2/file1\n",
    "  touch /tmp/findtest/dir2/file2\n",
    "\n",
    "source /home/mjbright/src/git/GIT_mjbright/metakernel/metakernel_bash/metakernelrc\n",
    "find /tmp/findtest | pydot_show_filetree"
   ]
  },
  {
   "cell_type": "markdown",
   "metadata": {},
   "source": [
    "# Javascript"
   ]
  },
  {
   "cell_type": "code",
   "execution_count": null,
   "metadata": {
    "collapsed": false
   },
   "outputs": [],
   "source": [
    "%javascript console.log(\"Print in the browser console - via \\\"%javascript magic (console.log)\\\"\")\n",
    "%javascript window.alert(\"Show this popup - via \\\"%javascript magic (alert())\\\"\")"
   ]
  },
  {
   "cell_type": "code",
   "execution_count": null,
   "metadata": {
    "collapsed": true
   },
   "outputs": [],
   "source": [
    "echo \"window.alert('hello world - via \\\"window.alert() | js\\\"')\" | js"
   ]
  },
  {
   "cell_type": "code",
   "execution_count": null,
   "metadata": {
    "collapsed": false
   },
   "outputs": [],
   "source": [
    "js \"window.alert('hello world - via \\\"window.alert()\\\" as argument')\""
   ]
  },
  {
   "cell_type": "markdown",
   "metadata": {},
   "source": [
    "# Python"
   ]
  },
  {
   "cell_type": "code",
   "execution_count": null,
   "metadata": {
    "collapsed": false
   },
   "outputs": [],
   "source": [
    "echo \"import sys; print('hello world from Python v{}.{}.{}({})'.format(sys.version_info[0],sys.version_info[1],sys.version_info[2],sys.version_info[3]))\" | PYTHON"
   ]
  },
  {
   "cell_type": "code",
   "execution_count": null,
   "metadata": {
    "collapsed": false
   },
   "outputs": [],
   "source": [
    "PYTHON \"import sys; print('hello world from Python v{}.{}.{}({})'.format(sys.version_info[0],sys.version_info[1],sys.version_info[2],sys.version_info[3]))\""
   ]
  },
  {
   "cell_type": "markdown",
   "metadata": {},
   "source": [
    "# Graphics\n",
    "\n",
    "Below data and initial csv_linechart copied/adapted from one of [d3noobs blocks](http://bl.ocks.org/d3noob) here:\n",
    " http://bl.ocks.org/d3noob/b3ff6ae1c120eea654b5"
   ]
  },
  {
   "cell_type": "markdown",
   "metadata": {},
   "source": [
    "How about displaying that csv data in d3.js, called from a bash function?"
   ]
  },
  {
   "cell_type": "code",
   "execution_count": null,
   "metadata": {
    "collapsed": false
   },
   "outputs": [],
   "source": [
    "%%html\n",
    "<script src=\"http://d3js.org/d3.v3.min.js\"></script>\n",
    "<script src=\"js/d3.v3.min.js\"></script>"
   ]
  },
  {
   "cell_type": "code",
   "execution_count": null,
   "metadata": {
    "collapsed": false
   },
   "outputs": [],
   "source": [
    "(echo \"item,value\"; du -s * | sort -nr | head -10 | awk '{ print $2\",\"$1;}') | tee disk_usage.csv"
   ]
  },
  {
   "cell_type": "code",
   "execution_count": null,
   "metadata": {
    "collapsed": false
   },
   "outputs": [],
   "source": [
    "csv_d3piechart disk_usage.csv"
   ]
  },
  {
   "cell_type": "markdown",
   "metadata": {},
   "source": [
    "# Using Lightning Visualization\n",
    "\n",
    "## From a bash_function"
   ]
  },
  {
   "cell_type": "code",
   "execution_count": null,
   "metadata": {
    "collapsed": false
   },
   "outputs": [],
   "source": [
    "lightning_line_test | html"
   ]
  },
  {
   "cell_type": "markdown",
   "metadata": {},
   "source": [
    "# Using Bokeh Visualization\n",
    "\n",
    "## From a bash_function"
   ]
  },
  {
   "cell_type": "code",
   "execution_count": null,
   "metadata": {
    "collapsed": false
   },
   "outputs": [],
   "source": [
    "bokeh_line_test|html"
   ]
  },
  {
   "cell_type": "code",
   "execution_count": null,
   "metadata": {
    "collapsed": false
   },
   "outputs": [],
   "source": [
    "bokeh_piechart_test | html"
   ]
  },
  {
   "cell_type": "markdown",
   "metadata": {},
   "source": [
    "# The End ..."
   ]
  },
  {
   "cell_type": "markdown",
   "metadata": {},
   "source": [
    "# Displaying Images"
   ]
  },
  {
   "cell_type": "code",
   "execution_count": null,
   "metadata": {
    "collapsed": false
   },
   "outputs": [],
   "source": [
    "wget -O test.png http://localhost:8888/files/node_modules/hawk/images/hawk.png"
   ]
  },
  {
   "cell_type": "code",
   "execution_count": null,
   "metadata": {
    "collapsed": false
   },
   "outputs": [],
   "source": [
    "ls -al test.png"
   ]
  },
  {
   "cell_type": "code",
   "execution_count": null,
   "metadata": {
    "collapsed": false
   },
   "outputs": [],
   "source": [
    "display test.png"
   ]
  },
  {
   "cell_type": "code",
   "execution_count": null,
   "metadata": {
    "collapsed": false
   },
   "outputs": [],
   "source": [
    "display < test.png"
   ]
  },
  {
   "cell_type": "code",
   "execution_count": null,
   "metadata": {
    "collapsed": false
   },
   "outputs": [],
   "source": [
    "cat test.png | display"
   ]
  },
  {
   "cell_type": "code",
   "execution_count": null,
   "metadata": {
    "collapsed": false
   },
   "outputs": [],
   "source": [
    "display http://localhost:8888/files/node_modules/hawk/images/hawk.png"
   ]
  },
  {
   "cell_type": "code",
   "execution_count": null,
   "metadata": {
    "collapsed": false
   },
   "outputs": [],
   "source": [
    "%ls"
   ]
  }
 ],
 "metadata": {
  "celltoolbar": "Slideshow",
  "kernelspec": {
   "display_name": "MetaKernel Bash",
   "language": "bash",
   "name": "metakernel_bash"
  },
  "language_info": {
   "file_extension": ".sh",
   "help_links": [
    {
     "text": "MetaKernel Magics",
     "url": "https://github.com/calysto/metakernel/blob/master/metakernel/magics/README.md"
    }
   ],
   "mimetype": "text/x-bash",
   "name": "bash"
  },
  "nav_menu": {},
  "toc": {
   "navigate_menu": true,
   "number_sections": true,
   "sideBar": true,
   "threshold": 6,
   "toc_cell": false,
   "toc_section_display": "block",
   "toc_window_display": false
  },
  "toc_position": {
   "height": "653px",
   "left": "0px",
   "right": "auto",
   "top": "106px",
   "width": "212px"
  },
  "widgets": {
   "state": {},
   "version": "1.1.2"
  }
 },
 "nbformat": 4,
 "nbformat_minor": 0
}
