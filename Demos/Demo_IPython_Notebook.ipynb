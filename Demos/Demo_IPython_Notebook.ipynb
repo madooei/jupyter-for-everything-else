{
 "cells": [
  {
   "cell_type": "markdown",
   "metadata": {},
   "source": [
    "# Example IPython Notebook"
   ]
  },
  {
   "cell_type": "markdown",
   "metadata": {},
   "source": [
    "## The notebook menus\n",
    "\n",
    "- **File** menu we can save the notebook, create a new notebook, or download a notebook in various formats\n",
    "- **Edit** menu we can perform cell-level operations such as copy/paste/cut/split/merge/search-replace\n",
    "- **View** menu allows to determine toolbar visibility\n",
    "- **Insert** menu to insert new cells\n",
    "- **Cell** menu run groups of cells, clear output\n",
    "- **Kernel** menu allows to interrupt or restart the kernel\n",
    "- **Help** menu provides access to a '*UI tour*', '*Keyboard shortcuts*' and links to online help\n",
    "\n",
    "Top right we can see that this notebook is running under a Python3 kernel, and so we see the Python logo.\n"
   ]
  },
  {
   "cell_type": "markdown",
   "metadata": {},
   "source": [
    "## IPython magics\n",
    "\n",
    "As we are running the IPython kernel we have access to the kernel magics as shown here by the %lsmagic command.\n",
    "\n",
    "These commands allow to create aliases, to break out into shell commands, Ruby, Perl, HTML, javascript, SVG as required.\n"
   ]
  },
  {
   "cell_type": "code",
   "execution_count": 27,
   "metadata": {
    "collapsed": false
   },
   "outputs": [
    {
     "data": {
      "application/json": {
       "cell": {
        "!": "OSMagics",
        "HTML": "Other",
        "SVG": "Other",
        "bash": "Other",
        "capture": "ExecutionMagics",
        "cmd": "Other",
        "debug": "ExecutionMagics",
        "file": "Other",
        "html": "DisplayMagics",
        "javascript": "DisplayMagics",
        "js": "DisplayMagics",
        "latex": "DisplayMagics",
        "perl": "Other",
        "prun": "ExecutionMagics",
        "pypy": "Other",
        "python": "Other",
        "python2": "Other",
        "python3": "Other",
        "ruby": "Other",
        "script": "ScriptMagics",
        "sh": "Other",
        "svg": "DisplayMagics",
        "sx": "OSMagics",
        "system": "OSMagics",
        "time": "ExecutionMagics",
        "timeit": "ExecutionMagics",
        "writefile": "OSMagics"
       },
       "line": {
        "alias": "OSMagics",
        "alias_magic": "BasicMagics",
        "autocall": "AutoMagics",
        "automagic": "AutoMagics",
        "autosave": "KernelMagics",
        "bookmark": "OSMagics",
        "cd": "OSMagics",
        "clear": "KernelMagics",
        "cls": "KernelMagics",
        "colors": "BasicMagics",
        "config": "ConfigMagics",
        "connect_info": "KernelMagics",
        "copy": "Other",
        "ddir": "Other",
        "debug": "ExecutionMagics",
        "dhist": "OSMagics",
        "dirs": "OSMagics",
        "doctest_mode": "BasicMagics",
        "echo": "Other",
        "ed": "Other",
        "edit": "KernelMagics",
        "env": "OSMagics",
        "gui": "BasicMagics",
        "hist": "Other",
        "history": "HistoryMagics",
        "killbgscripts": "ScriptMagics",
        "ldir": "Other",
        "less": "KernelMagics",
        "load": "CodeMagics",
        "load_ext": "ExtensionMagics",
        "loadpy": "CodeMagics",
        "logoff": "LoggingMagics",
        "logon": "LoggingMagics",
        "logstart": "LoggingMagics",
        "logstate": "LoggingMagics",
        "logstop": "LoggingMagics",
        "ls": "Other",
        "lsmagic": "BasicMagics",
        "macro": "ExecutionMagics",
        "magic": "BasicMagics",
        "matplotlib": "PylabMagics",
        "mkdir": "Other",
        "more": "KernelMagics",
        "notebook": "BasicMagics",
        "page": "BasicMagics",
        "pastebin": "CodeMagics",
        "pdb": "ExecutionMagics",
        "pdef": "NamespaceMagics",
        "pdoc": "NamespaceMagics",
        "pfile": "NamespaceMagics",
        "pinfo": "NamespaceMagics",
        "pinfo2": "NamespaceMagics",
        "popd": "OSMagics",
        "pprint": "BasicMagics",
        "precision": "BasicMagics",
        "profile": "BasicMagics",
        "prun": "ExecutionMagics",
        "psearch": "NamespaceMagics",
        "psource": "NamespaceMagics",
        "pushd": "OSMagics",
        "pwd": "OSMagics",
        "pycat": "OSMagics",
        "pylab": "PylabMagics",
        "qtconsole": "KernelMagics",
        "quickref": "BasicMagics",
        "recall": "HistoryMagics",
        "rehashx": "OSMagics",
        "reload_ext": "ExtensionMagics",
        "ren": "Other",
        "rep": "Other",
        "rerun": "HistoryMagics",
        "reset": "NamespaceMagics",
        "reset_selective": "NamespaceMagics",
        "rmdir": "Other",
        "run": "ExecutionMagics",
        "save": "CodeMagics",
        "sc": "OSMagics",
        "set_env": "OSMagics",
        "store": "StoreMagics",
        "sx": "OSMagics",
        "system": "OSMagics",
        "tb": "ExecutionMagics",
        "time": "ExecutionMagics",
        "timeit": "ExecutionMagics",
        "unalias": "OSMagics",
        "unload_ext": "ExtensionMagics",
        "who": "NamespaceMagics",
        "who_ls": "NamespaceMagics",
        "whos": "NamespaceMagics",
        "xdel": "NamespaceMagics",
        "xmode": "BasicMagics"
       }
      },
      "text/plain": [
       "Available line magics:\n",
       "%alias  %alias_magic  %autocall  %automagic  %autosave  %bookmark  %cd  %clear  %cls  %colors  %config  %connect_info  %copy  %ddir  %debug  %dhist  %dirs  %doctest_mode  %echo  %ed  %edit  %env  %gui  %hist  %history  %killbgscripts  %ldir  %less  %load  %load_ext  %loadpy  %logoff  %logon  %logstart  %logstate  %logstop  %ls  %lsmagic  %macro  %magic  %matplotlib  %mkdir  %more  %notebook  %page  %pastebin  %pdb  %pdef  %pdoc  %pfile  %pinfo  %pinfo2  %popd  %pprint  %precision  %profile  %prun  %psearch  %psource  %pushd  %pwd  %pycat  %pylab  %qtconsole  %quickref  %recall  %rehashx  %reload_ext  %ren  %rep  %rerun  %reset  %reset_selective  %rmdir  %run  %save  %sc  %set_env  %store  %sx  %system  %tb  %time  %timeit  %unalias  %unload_ext  %who  %who_ls  %whos  %xdel  %xmode\n",
       "\n",
       "Available cell magics:\n",
       "%%!  %%HTML  %%SVG  %%bash  %%capture  %%cmd  %%debug  %%file  %%html  %%javascript  %%js  %%latex  %%perl  %%prun  %%pypy  %%python  %%python2  %%python3  %%ruby  %%script  %%sh  %%svg  %%sx  %%system  %%time  %%timeit  %%writefile\n",
       "\n",
       "Automagic is ON, % prefix IS NOT needed for line magics."
      ]
     },
     "execution_count": 27,
     "metadata": {},
     "output_type": "execute_result"
    }
   ],
   "source": [
    "%lsmagic"
   ]
  },
  {
   "cell_type": "markdown",
   "metadata": {},
   "source": [
    "#### For example we can specify the %%html cell magic\n",
    "\n",
    "This will have access to javascript, CSS, SVG (unlike the markdown)\n",
    "\n"
   ]
  },
  {
   "cell_type": "code",
   "execution_count": 30,
   "metadata": {
    "collapsed": false
   },
   "outputs": [
    {
     "data": {
      "text/html": [
       "\n",
       "<div id=\"TEST_DIV\"> HERE IS SOME PLACEHOLDER TEXT </div>"
      ],
      "text/plain": [
       "<IPython.core.display.HTML object>"
      ]
     },
     "metadata": {},
     "output_type": "display_data"
    }
   ],
   "source": [
    "%%html\n",
    "\n",
    "<div id=\"TEST_DIV\"> HERE IS SOME PLACEHOLDER TEXT </div>"
   ]
  },
  {
   "cell_type": "markdown",
   "metadata": {},
   "source": [
    "#### Now we can execute some javascript (*jQuery*) to modify the above text"
   ]
  },
  {
   "cell_type": "code",
   "execution_count": 29,
   "metadata": {
    "collapsed": false
   },
   "outputs": [
    {
     "data": {
      "text/html": [
       "\n",
       "<script>\n",
       "    $('#TEST_DIV').text('I used to say <' + $('#TEST_DIV').text() + '>');\n",
       "</script>"
      ],
      "text/plain": [
       "<IPython.core.display.HTML object>"
      ]
     },
     "metadata": {},
     "output_type": "display_data"
    }
   ],
   "source": [
    "%%html\n",
    "\n",
    "<script>\n",
    "    $('#TEST_DIV').text('I used to say <' + $('#TEST_DIV').text() + '>');\n",
    "</script>"
   ]
  },
  {
   "cell_type": "code",
   "execution_count": 31,
   "metadata": {
    "collapsed": false
   },
   "outputs": [
    {
     "name": "stdout",
     "output_type": "stream",
     "text": [
      "Hello EuroPython - can we be friends?"
     ]
    }
   ],
   "source": [
    "%%perl\n",
    "\n",
    "print(\"Hello EuroPython - can we be friends?\")"
   ]
  },
  {
   "cell_type": "markdown",
   "metadata": {},
   "source": [
    "#### We can use '*!*' to execute an external shell and return the results"
   ]
  },
  {
   "cell_type": "code",
   "execution_count": 25,
   "metadata": {
    "collapsed": false
   },
   "outputs": [
    {
     "name": "stdout",
     "output_type": "stream",
     "text": [
      "['Demo__HTML_CSS_JavaScript_SVG.ipynb', 'Demo_0_INDEX.ipynb', 'Demo_html_find.ipynb', 'Demo_IPython_Notebook.ipynb', 'Demo_Metakernel_Bash.ipynb', 'Demo_Perl6-1liners.ipynb', 'MOOC_Coursera_R.ipynb', 'pythreejs.ipynb']\n"
     ]
    }
   ],
   "source": [
    "FILES = !ls *.ipynb\n",
    "\n",
    "print(FILES)"
   ]
  },
  {
   "cell_type": "code",
   "execution_count": 26,
   "metadata": {
    "collapsed": false
   },
   "outputs": [
    {
     "name": "stdout",
     "output_type": "stream",
     "text": [
      "['Demo__HTML_CSS_JavaScript_SVG.ipynb']\n"
     ]
    }
   ],
   "source": [
    "FILTER=\"HTML\"\n",
    "\n",
    "FILES = !ls | grep $FILTER\n",
    "print(FILES)"
   ]
  },
  {
   "cell_type": "markdown",
   "metadata": {},
   "source": [
    "# Markdown cells"
   ]
  },
  {
   "cell_type": "markdown",
   "metadata": {},
   "source": [
    "This is a markdown cell, where we can put markdown text and even HTML to be rendered.\n",
    "\n",
    "<b style=\"color:red;\">DOUBLE CLICK on the cell TO EDIT</b>\n",
    "- list item 1\n",
    "- list item 2\n",
    "\n",
    "** Some bold text **\n"
   ]
  },
  {
   "cell_type": "markdown",
   "metadata": {},
   "source": [
    "#### Markdown can even be used to create mathematical formulae"
   ]
  },
  {
   "cell_type": "markdown",
   "metadata": {},
   "source": [
    "This formula can be created\n",
    "    $$F(k) = \\int_{-\\infty}^{\\infty} f(x) e^{2\\pi i k} dx$$\n",
    "\n",
    "by entering this text into the markdown\n",
    "\n",
    "```\n",
    "$$F(k) = \\int_{-\\infty}^{\\infty} f(x) e^{2\\pi i k} dx$$\n",
    "```\n",
    "\n",
    "it will be rendered as a mathematical formula by the MathJax library"
   ]
  },
  {
   "cell_type": "markdown",
   "metadata": {},
   "source": [
    "# Rich Media and Plotting from Python\n",
    "\n",
    "We use '*%matplotlib inline*' magic to specify that plots should appear in the notebook, not in an external window."
   ]
  },
  {
   "cell_type": "code",
   "execution_count": 32,
   "metadata": {
    "collapsed": false
   },
   "outputs": [],
   "source": [
    "%matplotlib inline"
   ]
  },
  {
   "cell_type": "code",
   "execution_count": 33,
   "metadata": {
    "collapsed": false
   },
   "outputs": [],
   "source": [
    "from matplotlib import pyplot as plt\n",
    "import numpy as np"
   ]
  },
  {
   "cell_type": "code",
   "execution_count": 37,
   "metadata": {
    "collapsed": false
   },
   "outputs": [],
   "source": [
    "from ipywidgets import *\n",
    "from IPython.display import display\n",
    "from IPython.display import HTML"
   ]
  },
  {
   "cell_type": "markdown",
   "metadata": {},
   "source": [
    "#### Inserting HTML from within Python\n"
   ]
  },
  {
   "cell_type": "code",
   "execution_count": 40,
   "metadata": {
    "collapsed": false
   },
   "outputs": [
    {
     "data": {
      "text/html": [
       "<b> some bold text </b>"
      ],
      "text/plain": [
       "<IPython.core.display.HTML object>"
      ]
     },
     "execution_count": 40,
     "metadata": {},
     "output_type": "execute_result"
    }
   ],
   "source": [
    "html='<b> some bold text </b>'\n",
    "\n",
    "HTML( html )"
   ]
  },
  {
   "cell_type": "markdown",
   "metadata": {},
   "source": [
    "#### We can even embed an IFrame in an output cell"
   ]
  },
  {
   "cell_type": "code",
   "execution_count": 41,
   "metadata": {
    "collapsed": false,
    "scrolled": true
   },
   "outputs": [
    {
     "data": {
      "text/html": [
       "<iframe src=\"http://localhost:8888/notebooks/Demos/Demo_0_INDEX.ipynb#NOTEBOOK\" width=1400 height=350></iframe>"
      ],
      "text/plain": [
       "<IPython.core.display.HTML object>"
      ]
     },
     "execution_count": 41,
     "metadata": {},
     "output_type": "execute_result"
    }
   ],
   "source": [
    "html='<iframe src=\"http://localhost:8888/notebooks/Demos/Demo_0_INDEX.ipynb#NOTEBOOK\" width=1400 height=350></iframe>'\n",
    "\n",
    "HTML(html)"
   ]
  },
  {
   "cell_type": "markdown",
   "metadata": {},
   "source": [
    "## Plotting with --interactive-- parameters"
   ]
  },
  {
   "cell_type": "markdown",
   "metadata": {},
   "source": [
    "Below we have defined a `plot_sin` function that plots $sin(ax+b)$ over the interval $[0,4\\pi]$."
   ]
  },
  {
   "cell_type": "code",
   "execution_count": 51,
   "metadata": {
    "collapsed": true
   },
   "outputs": [],
   "source": [
    "# %load soln/param_plot_1.py\n",
    "def plot_sin(freq, phase, color, reverse=True):\n",
    "    x = np.linspace(0,4*np.pi, 100)\n",
    "    rev=1\n",
    "    if reverse:\n",
    "        rev=-1\n",
    "    y = rev * np.sin(freq*x+phase)\n",
    "    plt.plot(x,y, color)"
   ]
  },
  {
   "cell_type": "markdown",
   "metadata": {},
   "source": [
    "Now we can use `interact` to create a user interface for exploring your function.\n",
    "\n",
    "We provide parameters a and b as tuples specifying that:\n",
    "\n",
    "* `freq` will be a floating point number over the interval $[0.0,5.0]$.\n",
    "* `phase` will be a floating point number over the interval $[-5.0,5.0]$."
   ]
  },
  {
   "cell_type": "code",
   "execution_count": 52,
   "metadata": {
    "collapsed": false
   },
   "outputs": [
    {
     "data": {
      "image/png": "[encoded data removed]",
      "text/plain": [
       "<matplotlib.figure.Figure at 0xa1e0da0>"
      ]
     },
     "metadata": {},
     "output_type": "display_data"
    }
   ],
   "source": [
    "interact(plot_sin, freq=(0.0,5.0,0.1), phase=(-5.0,5.0,0.1), color=['red','blue','green'], rev=True);"
   ]
  },
  {
   "cell_type": "markdown",
   "metadata": {},
   "source": [
    "In matplotlib, the line style and color can be set with a third argument to `plot`. Examples of this argument:\n",
    "\n",
    "* dashed red: `r--`\n",
    "* blue circles: `bo`\n",
    "* dotted black: `k.`\n",
    "\n",
    "Add a `style` argument to your `plot_sin` function that allows you to set the line style of the plot.\n",
    "\n",
    "Use `interact` to create a UI for `plot_sin` that has a drop down menu for selecting the line style between a **dotted red** line and a **dashed black line**. This time use `interact` as a decorator."
   ]
  },
  {
   "cell_type": "code",
   "execution_count": 47,
   "metadata": {
    "collapsed": false
   },
   "outputs": [
    {
     "data": {
      "image/png": "[encoded data removed]",
      "text/plain": [
       "<matplotlib.figure.Figure at 0x901acf8>"
      ]
     },
     "metadata": {},
     "output_type": "display_data"
    }
   ],
   "source": [
    "# %load soln/param_plot_2.py\n",
    "@interact(a=(0.0,5.0,0.1), b=(-5.0,5.0,0.1),\n",
    "         style={'dotted red': 'r.', 'dashed black': 'k--'})\n",
    "def plot_sin2(a, b, style='r.'):\n",
    "    x = np.linspace(0,4*np.pi, 100)\n",
    "    y = np.sin(a*x+b)\n",
    "    plt.plot(x, y, style)"
   ]
  },
  {
   "cell_type": "markdown",
   "metadata": {},
   "source": [
    "## Simple data explorer"
   ]
  },
  {
   "cell_type": "markdown",
   "metadata": {},
   "source": [
    "In this exercise, you will use interact to build a UI for exploring correlations between different features in the [Iris dataset](http://en.wikipedia.org/wiki/Iris_flower_data_set) in [sklearn]http://scikit-learn.org/stable/(http://scikit-learn.org/stable/). This data contains 4 different measurements (called features in this content) of 150 different iris flowers of three different species.\n",
    "\n",
    "Load the dataset:"
   ]
  },
  {
   "cell_type": "code",
   "execution_count": 14,
   "metadata": {
    "collapsed": false
   },
   "outputs": [],
   "source": [
    "from sklearn.datasets import load_iris\n",
    "iris_data = load_iris()"
   ]
  },
  {
   "cell_type": "markdown",
   "metadata": {},
   "source": [
    "The actual data is stored as a NumPy array under the `data` attribute:"
   ]
  },
  {
   "cell_type": "code",
   "execution_count": 15,
   "metadata": {
    "collapsed": false
   },
   "outputs": [
    {
     "data": {
      "text/plain": [
       "(150, 4)"
      ]
     },
     "execution_count": 15,
     "metadata": {},
     "output_type": "execute_result"
    }
   ],
   "source": [
    "iris_data.data.shape"
   ]
  },
  {
   "cell_type": "markdown",
   "metadata": {},
   "source": [
    "You can see the meanings of the 4 columns of data by looking at the `feature_names` attribute:"
   ]
  },
  {
   "cell_type": "code",
   "execution_count": 16,
   "metadata": {
    "collapsed": false
   },
   "outputs": [
    {
     "data": {
      "text/plain": [
       "['sepal length (cm)',\n",
       " 'sepal width (cm)',\n",
       " 'petal length (cm)',\n",
       " 'petal width (cm)']"
      ]
     },
     "execution_count": 16,
     "metadata": {},
     "output_type": "execute_result"
    }
   ],
   "source": [
    "iris_data.feature_names"
   ]
  },
  {
   "cell_type": "markdown",
   "metadata": {},
   "source": [
    "Write a `plot_iris` function that creates a scatter plot (using `plt.scatter`) of two columns of this dataset. Your function should have the following signature:\n",
    "\n",
    "```python\n",
    "def plot_iris(a, col1, col2):\n",
    "    ...\n",
    "```\n",
    "\n",
    "where `a` is the NumPy array of data and `col1/col2` are the two columns to use for the scatter plot.\n",
    "\n",
    "Use `interact` to build a UI to explore the iris dataset using your `plot_iris` function. You will need to use the `fixed` function when passing the dataset to the function."
   ]
  },
  {
   "cell_type": "code",
   "execution_count": 17,
   "metadata": {
    "collapsed": false
   },
   "outputs": [
    {
     "data": {
      "image/png": "[encoded data removed]",
      "text/plain": [
       "<matplotlib.figure.Figure at 0x835e780>"
      ]
     },
     "metadata": {},
     "output_type": "display_data"
    }
   ],
   "source": [
    "# %load soln/data_explorer.py\n",
    "def plot_iris(a=None, col1=0, col2=0):\n",
    "    plt.scatter(a[:,col1], a[:,col2])\n",
    "\n",
    "interact(plot_iris, a=fixed(iris_data.data), col1=(0,3), col2=(0,3));"
   ]
  }
 ],
 "metadata": {
  "kernelspec": {
   "display_name": "Python 3",
   "language": "python",
   "name": "python3"
  },
  "language_info": {
   "codemirror_mode": {
    "name": "ipython",
    "version": 3
   },
   "file_extension": ".py",
   "mimetype": "text/x-python",
   "name": "python",
   "nbconvert_exporter": "python",
   "pygments_lexer": "ipython3",
   "version": "3.5.1"
  },
  "widgets": {
   "state": {
    "010cb852103c472c8b9791cdb93d7fa0": {
     "views": []
    },
    "0dc46113bcc24115a6e779c696e02cb0": {
     "views": []
    },
    "14d550808ba047bab5d323569bcd7709": {
     "views": []
    },
    "15b719aafb4b4b74a7d6c31940fd9eba": {
     "views": []
    },
    "19afddc78ca843beb6855bacf1e5f95e": {
     "views": []
    },
    "1b3ad0b49b854e74bf8c7b44db4d7f06": {
     "views": []
    },
    "21e83041435c4d939107f7f22b690c78": {
     "views": [
      {
       "cell_index": 30
      }
     ]
    },
    "26dbf30e47eb472ca2b4212506936b63": {
     "views": []
    },
    "28fff7519b644e49824c87158cdef6c9": {
     "views": []
    },
    "2cc5a937198b47b1be5962275dc4059d": {
     "views": []
    },
    "2d7123069e5d4441a1bc8bd60e79c327": {
     "views": []
    },
    "2d9371b40f8042a6b17c43914cfc6690": {
     "views": []
    },
    "2dd2bffa09f24cf79d2462f92165bba3": {
     "views": []
    },
    "365650b887aa47d8b6b07c6ef5c8d484": {
     "views": []
    },
    "418e21a840db4fa298ad12df9b586967": {
     "views": []
    },
    "4b3f60132eb0467cab0c8fd4053151d6": {
     "views": []
    },
    "4dcfdd332a354cd0a761260e0511a90a": {
     "views": []
    },
    "53691a40b778486d9c5d133fee96733a": {
     "views": []
    },
    "5c762c494cb844d894a6445d6732be30": {
     "views": []
    },
    "66b76776a1ad4876939aed592a0fca09": {
     "views": []
    },
    "6e57306cbdc44b81a45484fac224ebb2": {
     "views": []
    },
    "6e6d0cd04fc34da7908bcf7765292f67": {
     "views": []
    },
    "73babe89fa694515ae6119a9debbc950": {
     "views": []
    },
    "7ad3a62cd20b4e4e8acfa8911b0dab19": {
     "views": []
    },
    "7d323ab50d6d46018b3de8b750b8f7d6": {
     "views": []
    },
    "7fc8983554b34874913ad9f2e0103326": {
     "views": []
    },
    "9babf579c07e44f9b2e7fa3176bfd5e9": {
     "views": []
    },
    "acb1b606c9844dc69c207a4021065544": {
     "views": []
    },
    "b533785e19d14d329fb19e42f68e0be0": {
     "views": []
    },
    "b6439378317e4d7d9221c7732e427b22": {
     "views": []
    },
    "bb4c6c5012d74cfea188d767e2e25a88": {
     "views": []
    },
    "bdf7d2a4bf67496fa219e6b64a679a9f": {
     "views": [
      {
       "cell_index": 28
      }
     ]
    },
    "c9c8553dab0545eca1ce0a51834bf6b2": {
     "views": []
    },
    "ceb057323da342e8ad80bfbf38a6ae37": {
     "views": []
    },
    "d6ef3c7f48e346de97a7f2fc3ac495c4": {
     "views": []
    },
    "e5d2e75b00e94d9ea5563689164ba9c9": {
     "views": []
    },
    "ee9af52449014213ad7c5bc1c60f7bdb": {
     "views": []
    },
    "f39aaad166624e9ea1db96c8fb5deff1": {
     "views": []
    },
    "faa0414e4d4d45d7aac9ecd275fc7eab": {
     "views": []
    },
    "fdd712a1bd924483a9ff24bff9edad96": {
     "views": []
    }
   },
   "version": "1.1.2"
  }
 },
 "nbformat": 4,
 "nbformat_minor": 0
}
