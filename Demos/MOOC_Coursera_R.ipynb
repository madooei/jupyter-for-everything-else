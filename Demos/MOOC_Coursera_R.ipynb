{
 "cells": [
  {
   "cell_type": "markdown",
   "metadata": {},
   "source": [
    "## TOP\n",
    "# [MOOC] Coursera: ExploratoryDataAnalysis\n",
    "\n",
    "Courses: https://www.coursera.org/specialization/jhudatascience/1/courses\n",
    "\n",
    "\n",
    "### Sections:\n",
    "[Quiz1](#Quiz1)\n",
    "[Quiz2](#Quiz2)\n",
    "[Quiz3](#Quiz3)\n",
    "[Quiz4](#Quiz4)\n",
    "[PA1](#PA1)\n",
    "[PA2](#PA2)\n",
    "[Swirl](#Swirl)\n",
    "\n"
   ]
  },
  {
   "cell_type": "code",
   "execution_count": 1,
   "metadata": {
    "collapsed": false
   },
   "outputs": [
    {
     "name": "stdout",
     "output_type": "stream",
     "text": [
      "[1] \"Setting default repo to ' http://cran.rstudio.com/ '\"\n"
     ]
    }
   ],
   "source": [
    "repo=\"http://cran.rstudio.com/\"\n",
    "print( paste(\"Setting default repo to '\", repo, \"'\"))\n",
    "options(repos=structure(c(CRAN=repo)))\n",
    "\n",
    "pkgTest <- function(x) {\n",
    "    if (!require(x,character.only = TRUE)) {\n",
    "        install.packages(x,dep=TRUE)\n",
    "        if(!require(x,character.only = TRUE))\n",
    "            stop(\"Package not found\")\n",
    "    }\n",
    "}\n",
    "\n",
    "downloadFile <- function(url, destfile, method) {\n",
    "    if (!file.exists(destfile)) {\n",
    "        print( paste(\"Downloading '\", destfile, \"' from url '\", url, \"'\") )\n",
    "        download.file(url, destfile, method)\n",
    "    } else {\n",
    "        print( paste(\"File '\", destfile, \"' already downloaded\") )   \n",
    "    }\n",
    "}\n",
    "\n",
    "summarizeDF <- function(name, df, headL=2L, tailL=2L) {\n",
    "    print( paste(\"Table[\", name, \"] has \", nrow(df), \" rows, \", ncol(df), \" cols\") )\n",
    "    str(df)\n",
    "    summary(df)\n",
    "    if (headL != 0) {\n",
    "        print( head(df, n=headL) )\n",
    "    }\n",
    "    if (tailL + headL != 0) {\n",
    "        #print (labels(df))\n",
    "    } else {\n",
    "        print(\"...\")\n",
    "    }\n",
    "    if (tailL != 0) {\n",
    "        print ( tail(df, n=tailL) )\n",
    "    }\n",
    "}\n",
    "   "
   ]
  },
  {
   "cell_type": "markdown",
   "metadata": {},
   "source": [
    "# Quiz1:"
   ]
  },
  {
   "cell_type": "markdown",
   "metadata": {},
   "source": [
    "## Question 1\n",
    "Which of the following is a principle of analytic graphics?\n",
    "Your Answer\t\tScore\tExplanation\n",
    "Don't plot more than two variables at at time\t\t\t\n",
    "Show causality, mechanism, explanation\tCorrect\t1.00\t\n",
    "Make judicious use of color in your scatterplots\t\t\t\n",
    "Only do what your tools allow you to do\t\t\t\n",
    "Show box plots (univariate summaries)\t\t\t\n",
    "Total\t\t1.00 / 1.00\t"
   ]
  },
  {
   "cell_type": "markdown",
   "metadata": {},
   "source": [
    "## Question 2\n",
    "What is the role of exploratory graphs in data analysis?\n",
    "Your Answer\t\tScore\tExplanation\n",
    "Only a few are constructed.\t\t\t\n",
    "The goal is for personal understanding.\tCorrect\t1.00\t\n",
    "They are used in place of formal modeling.\t\t\t\n",
    "Axes, legends, and other details are clean and exactly detailed.\t\t\t\n",
    "Total\t\t1.00 / 1.00\t"
   ]
  },
  {
   "cell_type": "markdown",
   "metadata": {},
   "source": [
    "## Question 3\n",
    "Which of the following is true about the base plotting system?\n",
    "Your Answer\t\tScore\tExplanation\n",
    "The system is most useful for conditioning plots\t\t\t\n",
    "Plots are created and annotated with separate functions\tCorrect\t1.00\tFunctions like 'plot' or 'hist' typically create the plot on the graphics device and functions like 'lines', 'text', or 'points' will annotate or add data to the plot.\n",
    "Margins and spacings are adjusted automatically depending on the type of plot and the data\t\t\t\n",
    "Plots are typically created with a single function call\t\t\t\n",
    "Total\t\t1.00 / 1.00\t"
   ]
  },
  {
   "cell_type": "markdown",
   "metadata": {},
   "source": [
    "## Question 4\n",
    "Which of the following is an example of a valid graphics device in R?\n",
    "Your Answer\t\tScore\tExplanation\n",
    "A Microsoft Word document\t\t\t\n",
    "A file folder\t\t\t\n",
    "A socket connection\t\t\t\n",
    "A PDF file\tCorrect\t1.00\t\n",
    "Total\t\t1.00 / 1.00\t"
   ]
  },
  {
   "cell_type": "markdown",
   "metadata": {},
   "source": [
    "## Question 5\n",
    "Which of the following is an example of a vector graphics device in R?\n",
    "Your Answer\t\tScore\tExplanation\n",
    "TIFF\t\t\t\n",
    "GIF\t\t\t\n",
    "Postscript\tCorrect\t1.00\t\n",
    "JPEG\t\t\t\n",
    "Total\t\t1.00 / 1.00\t"
   ]
  },
  {
   "cell_type": "markdown",
   "metadata": {},
   "source": [
    "## Question 6\n",
    "Bitmapped file formats can be most useful for\n",
    "Your Answer\t\tScore\tExplanation\n",
    "Plots that may need to be resized\t\t\t\n",
    "Plots that are not scaled to a specific resolution\t\t\t\n",
    "Plots that require animation or interactivity\t\t\t\n",
    "Scatterplots with many many points\tCorrect\t1.00\t\n",
    "Total\t\t1.00 / 1.00\t"
   ]
  },
  {
   "cell_type": "markdown",
   "metadata": {},
   "source": [
    "## Question 7\n",
    "Which of the following functions is typically used to add elements to a plot in the base graphics system?\n",
    "Your Answer\t\tScore\tExplanation\n",
    "lines()\tCorrect\t1.00\t\n",
    "boxplot()\t\t\t\n",
    "plot()\t\t\t\n",
    "hist()\t\t\t\n",
    "Total\t\t1.00 / 1.00\t"
   ]
  },
  {
   "cell_type": "markdown",
   "metadata": {},
   "source": [
    "## Question 8\n",
    "Which function opens the screen graphics device on Windows?\n",
    "Your Answer\t\tScore\tExplanation\n",
    "jpeg()\t\t\t\n",
    "xfig()\t\t\t\n",
    "postscript()\t\t\t\n",
    "windows()\tCorrect\t1.00\t\n",
    "Total\t\t1.00 / 1.00\t"
   ]
  },
  {
   "cell_type": "markdown",
   "metadata": {},
   "source": [
    "## Question 9\n",
    "What does the 'pch' option to par() control?\n",
    "Your Answer\t\tScore\tExplanation\n",
    "the orientation of the axis labels on the plot\t\t\t\n",
    "the line width in the base graphics system\t\t\t\n",
    "the plotting symbol/character in the base graphics system\tCorrect\t1.00\t\n",
    "the size of the plotting symbol in a scatterplot\t\t\t\n",
    "Total\t\t1.00 / 1.00\t"
   ]
  },
  {
   "cell_type": "markdown",
   "metadata": {},
   "source": [
    "## Question 10\n",
    "If I want to save a plot to a PDF file, which of the following is a correct way of doing that?\n",
    "Your Answer\t\tScore\tExplanation\n",
    "Construct the plot on the screen device and then copy it to a PDF file with dev.copy2pdf()\tCorrect\t1.00\t\n",
    "Open the screen device with quartz(), construct the plot, and then close the device with dev.off().\t\t\t\n",
    "Construct the plot on the PNG device with png(), then copy it to a PDF with dev.copy2pdf().\t\t\t\n",
    "Open the PostScript device with postscript(), construct the plot, then close the device with dev.off().\t\t\t\n",
    "Total\t\t1.00 / 1.00\t"
   ]
  },
  {
   "cell_type": "markdown",
   "metadata": {},
   "source": [
    "---\n",
    "[TOP](#TOP)\n",
    "# Quiz2"
   ]
  },
  {
   "cell_type": "markdown",
   "metadata": {
    "collapsed": true
   },
   "source": [
    "---\n",
    "[TOP](#TOP)\n",
    "# Quiz3\n"
   ]
  },
  {
   "cell_type": "markdown",
   "metadata": {},
   "source": [
    "---\n",
    "[TOP](#TOP)\n",
    "# Quiz4"
   ]
  },
  {
   "cell_type": "markdown",
   "metadata": {},
   "source": [
    "---\n",
    "[TOP](#TOP)\n",
    "# PA1"
   ]
  },
  {
   "cell_type": "markdown",
   "metadata": {},
   "source": [
    "Introduction\n",
    "\n",
    "This assignment uses data from the UC Irvine Machine Learning Repository, a popular repository for machine learning datasets. In particular, we will be using the “Individual household electric power consumption Data Set” which I have made available on the course web site:\n",
    "\n",
    "Dataset: Electric power consumption [20Mb]\n",
    "\n",
    "Description: Measurements of electric power consumption in one household with a one-minute sampling rate over a period of almost 4 years. Different electrical quantities and some sub-metering values are available.\n",
    "\n",
    "The following descriptions of the 9 variables in the dataset are taken from the UCI web site:\n",
    "\n",
    "Date: Date in format dd/mm/yyyy\n",
    "Time: time in format hh:mm:ss\n",
    "Global_active_power: household global minute-averaged active power (in kilowatt)\n",
    "Global_reactive_power: household global minute-averaged reactive power (in kilowatt)\n",
    "Voltage: minute-averaged voltage (in volt)\n",
    "Global_intensity: household global minute-averaged current intensity (in ampere)\n",
    "Sub_metering_1: energy sub-metering No. 1 (in watt-hour of active energy). It corresponds to the kitchen, containing mainly a dishwasher, an oven and a microwave (hot plates are not electric but gas powered).\n",
    "Sub_metering_2: energy sub-metering No. 2 (in watt-hour of active energy). It corresponds to the laundry room, containing a washing-machine, a tumble-drier, a refrigerator and a light.\n",
    "Sub_metering_3: energy sub-metering No. 3 (in watt-hour of active energy). It corresponds to an electric water-heater and an air-conditioner.\n",
    "Loading the data\n",
    "\n",
    "When loading the dataset into R, please consider the following:\n",
    "\n",
    "The dataset has 2,075,259 rows and 9 columns. First calculate a rough estimate of how much memory the dataset will require in memory before reading into R. Make sure your computer has enough memory (most modern computers should be fine).\n",
    "\n",
    "We will only be using data from the dates 2007-02-01 and 2007-02-02. One alternative is to read the data from just those dates rather than reading in the entire dataset and subsetting to those dates.\n",
    "\n",
    "You may find it useful to convert the Date and Time variables to Date/Time classes in R using the strptime() and as.Date() functions.\n",
    "\n",
    "Note that in this dataset missing values are coded as ?.\n",
    "\n",
    "Making Plots\n",
    "\n",
    "Our overall goal here is simply to examine how household energy usage varies over a 2-day period in February, 2007. Your task is to reconstruct the following plots below, all of which were constructed using the base plotting system.\n",
    "\n",
    "First you will need to fork and clone the following GitHub repository: https://github.com/rdpeng/ExData_Plotting1\n",
    "\n",
    "For each plot you should\n",
    "\n",
    "Construct the plot and save it to a PNG file with a width of 480 pixels and a height of 480 pixels.\n",
    "\n",
    "Name each of the plot files as plot1.png, plot2.png, etc.\n",
    "\n",
    "Create a separate R code file (plot1.R, plot2.R, etc.) that constructs the corresponding plot, i.e. code in plot1.R constructs the plot1.png plot. Your code file should include code for reading the data so that the plot can be fully reproduced. You must also include the code that creates the PNG file.\n",
    "Add the PNG file and R code file to the top-level folder of your git repository (no need for separate sub-folders)\n",
    "When you are finished with the assignment, push your git repository to GitHub so that the GitHub version of your repository is up to date. There should be four PNG files and four R code files, a total of eight files in the top-level folder of the repo.\n",
    "\n",
    "The four plots that you will need to construct are shown below.\n",
    "\n",
    "Plot 1\n",
    "\n",
    "ExDataCP1Plot1.png\n",
    "\n",
    "Plot 2\n",
    "\n",
    "ExDataCP1Plot2.png\n",
    "\n",
    "Plot 3\n",
    "\n",
    "ExDataCP1Plot3.png\n",
    "\n",
    "Plot 4\n",
    "\n",
    "ExDataCP1Plot4.png\n",
    "\n",
    "Reviewing the Assignments\n",
    "\n",
    "Keep in mind this course is about exploratory graphs, understanding the data, and developing strategies. Here's a good quote from a swirl lesson about exploratory graphs: \"They help us find patterns in data and understand its properties. They suggest modeling strategies and help to debug analyses. We DON'T use exploratory graphs to communicate results.\"\n",
    "\n",
    "The rubrics should always be interpreted in that context.\n",
    "\n",
    "As you do your evaluation, please keep an open mind and focus on the positive. The goal is not to deduct points over small deviations from the requirements or for legitimate differences in implementation styles, etc. Look for ways to give points when it's clear that the submitter has given a good faith effort to do the project, and when it's likely that they've succeeded. Most importantly, it's okay if a person did something differently from the way that you did it. The point is not to see if someone managed to match your way of doing things, but to see if someone objectively accomplished the task at hand.\n",
    "\n",
    "To that end, keep the following things in mind:\n",
    "\n",
    "DO\n",
    "\n",
    "Review the source code.\n",
    "Keep an open mind and focus on the positive.≤/li>\n",
    "When in doubt, err on the side of giving too many points, rather than giving too few.\n",
    "Ask yourself if a plot might answer a question for the person who created it.\n",
    "Remember that not everyone has the same statistical background and knowledge.\n",
    "DON'T:\n",
    "\n",
    "Deduct just because you disagree with someone's statistical methods.\n",
    "Deduct just because you disagree with someone's plotting methods.\n",
    "Deduct based on aesthetics."
   ]
  },
  {
   "cell_type": "code",
   "execution_count": 2,
   "metadata": {
    "collapsed": false
   },
   "outputs": [
    {
     "name": "stdout",
     "output_type": "stream",
     "text": [
      "[1] \"File ' expdata-PA1-data.zip ' already downloaded\"\n",
      "[1] \"File ' household_power_consumption.txt ' already present\"\n"
     ]
    }
   ],
   "source": [
    "url <- 'https://d396qusza40orc.cloudfront.net/exdata%2Fdata%2Fhousehold_power_consumption.zip'\n",
    "zip=\"expdata-PA1-data.zip\"\n",
    "dataFile=\"household_power_consumption.txt\"\n",
    "#dataFile=\"household_power_consumption.100\"\n",
    "\n",
    "downloadFile(url, zip)\n",
    "\n",
    "if (!file.exists(dataFile)) {\n",
    "    print( paste(\"Unzipping file \", zip, \" because no '\", dataFile, \"' file present\") )\n",
    "    unzip(zip)\n",
    "} else {\n",
    "    print( paste(\"File '\", dataFile, \"' already present\") )    \n",
    "}\n",
    "\n",
    "if (!file.exists(dataFile)) {\n",
    "    print( paste(\"Failed to unzip \", zip, \" file\") )\n",
    "}"
   ]
  },
  {
   "cell_type": "code",
   "execution_count": 3,
   "metadata": {
    "collapsed": false
   },
   "outputs": [
    {
     "data": {
      "text/plain": [
       "     Date               Time           Global_active_power\n",
       " Length:2075259     Length:2075259     Min.   : 0.076     \n",
       " Class :character   Class :character   1st Qu.: 0.308     \n",
       " Mode  :character   Mode  :character   Median : 0.602     \n",
       "                                       Mean   : 1.092     \n",
       "                                       3rd Qu.: 1.528     \n",
       "                                       Max.   :11.122     \n",
       "                                       NA's   :25979      \n",
       " Global_reactive_power    Voltage      Global_intensity Sub_metering_1  \n",
       " Min.   :0.000         Min.   :223.2   Min.   : 0.200   Min.   : 0.000  \n",
       " 1st Qu.:0.048         1st Qu.:239.0   1st Qu.: 1.400   1st Qu.: 0.000  \n",
       " Median :0.100         Median :241.0   Median : 2.600   Median : 0.000  \n",
       " Mean   :0.124         Mean   :240.8   Mean   : 4.628   Mean   : 1.122  \n",
       " 3rd Qu.:0.194         3rd Qu.:242.9   3rd Qu.: 6.400   3rd Qu.: 0.000  \n",
       " Max.   :1.390         Max.   :254.2   Max.   :48.400   Max.   :88.000  \n",
       " NA's   :25979         NA's   :25979   NA's   :25979    NA's   :25979   \n",
       " Sub_metering_2   Sub_metering_3  \n",
       " Min.   : 0.000   Min.   : 0.000  \n",
       " 1st Qu.: 0.000   1st Qu.: 0.000  \n",
       " Median : 0.000   Median : 1.000  \n",
       " Mean   : 1.299   Mean   : 6.458  \n",
       " 3rd Qu.: 1.000   3rd Qu.:17.000  \n",
       " Max.   :80.000   Max.   :31.000  \n",
       " NA's   :25979    NA's   :25979   "
      ]
     },
     "metadata": {},
     "output_type": "display_data"
    },
    {
     "name": "stdout",
     "output_type": "stream",
     "text": [
      "[1] \"nrow(df)=2075259\"\n"
     ]
    }
   ],
   "source": [
    "df <- read.csv(dataFile, sep=';', na.strings='?', stringsAsFactors=FALSE)\n",
    "#pkgTest(\"sqldf\")\n",
    "#?sqldf\n",
    "summary(df)\n",
    "#?read.csv\n",
    "print(paste0(\"nrow(df)=\", nrow(df)))\n",
    "    "
   ]
  },
  {
   "cell_type": "code",
   "execution_count": 4,
   "metadata": {
    "collapsed": false
   },
   "outputs": [
    {
     "name": "stdout",
     "output_type": "stream",
     "text": [
      "[1] \"nrow(df)=2075259\"\n"
     ]
    },
    {
     "data": {
      "text/html": [
       "<table>\n",
       "<thead><tr><th></th><th scope=col>Date</th><th scope=col>Time</th><th scope=col>Global_active_power</th><th scope=col>Global_reactive_power</th><th scope=col>Voltage</th><th scope=col>Global_intensity</th><th scope=col>Sub_metering_1</th><th scope=col>Sub_metering_2</th><th scope=col>Sub_metering_3</th></tr></thead>\n",
       "<tbody>\n",
       "\t<tr><th scope=row>1</th><td>2006-12-16</td><td>17:24:00</td><td>4.216</td><td>0.418</td><td>234.84</td><td>18.4</td><td>0</td><td>1</td><td>17</td></tr>\n",
       "\t<tr><th scope=row>2</th><td>2006-12-16</td><td>17:25:00</td><td>5.36</td><td>0.436</td><td>233.63</td><td>23</td><td>0</td><td>1</td><td>16</td></tr>\n",
       "\t<tr><th scope=row>3</th><td>2006-12-16</td><td>17:26:00</td><td>5.374</td><td>0.498</td><td>233.29</td><td>23</td><td>0</td><td>2</td><td>17</td></tr>\n",
       "\t<tr><th scope=row>4</th><td>2006-12-16</td><td>17:27:00</td><td>5.388</td><td>0.502</td><td>233.74</td><td>23</td><td>0</td><td>1</td><td>17</td></tr>\n",
       "\t<tr><th scope=row>5</th><td>2006-12-16</td><td>17:28:00</td><td>3.666</td><td>0.528</td><td>235.68</td><td>15.8</td><td>0</td><td>1</td><td>17</td></tr>\n",
       "\t<tr><th scope=row>6</th><td>2006-12-16</td><td>17:29:00</td><td>3.52</td><td>0.522</td><td>235.02</td><td>15</td><td>0</td><td>2</td><td>17</td></tr>\n",
       "</tbody>\n",
       "</table>\n"
      ],
      "text/latex": [
       "\\begin{tabular}{r|lllllllll}\n",
       "  & Date & Time & Global_active_power & Global_reactive_power & Voltage & Global_intensity & Sub_metering_1 & Sub_metering_2 & Sub_metering_3\\\\\n",
       "\\hline\n",
       "\t1 & 2006-12-16 & 17:24:00 & 4.216 & 0.418 & 234.84 & 18.4 & 0 & 1 & 17\\\\\n",
       "\t2 & 2006-12-16 & 17:25:00 & 5.36 & 0.436 & 233.63 & 23 & 0 & 1 & 16\\\\\n",
       "\t3 & 2006-12-16 & 17:26:00 & 5.374 & 0.498 & 233.29 & 23 & 0 & 2 & 17\\\\\n",
       "\t4 & 2006-12-16 & 17:27:00 & 5.388 & 0.502 & 233.74 & 23 & 0 & 1 & 17\\\\\n",
       "\t5 & 2006-12-16 & 17:28:00 & 3.666 & 0.528 & 235.68 & 15.8 & 0 & 1 & 17\\\\\n",
       "\t6 & 2006-12-16 & 17:29:00 & 3.52 & 0.522 & 235.02 & 15 & 0 & 2 & 17\\\\\n",
       "\\end{tabular}\n"
      ],
      "text/plain": [
       "        Date     Time Global_active_power Global_reactive_power Voltage\n",
       "1 2006-12-16 17:24:00               4.216                 0.418  234.84\n",
       "2 2006-12-16 17:25:00               5.360                 0.436  233.63\n",
       "3 2006-12-16 17:26:00               5.374                 0.498  233.29\n",
       "4 2006-12-16 17:27:00               5.388                 0.502  233.74\n",
       "5 2006-12-16 17:28:00               3.666                 0.528  235.68\n",
       "6 2006-12-16 17:29:00               3.520                 0.522  235.02\n",
       "  Global_intensity Sub_metering_1 Sub_metering_2 Sub_metering_3\n",
       "1             18.4              0              1             17\n",
       "2             23.0              0              1             16\n",
       "3             23.0              0              2             17\n",
       "4             23.0              0              1             17\n",
       "5             15.8              0              1             17\n",
       "6             15.0              0              2             17"
      ]
     },
     "metadata": {},
     "output_type": "display_data"
    },
    {
     "data": {
      "text/html": [
       "<table>\n",
       "<thead><tr><th></th><th scope=col>Date</th><th scope=col>Time</th><th scope=col>Global_active_power</th><th scope=col>Global_reactive_power</th><th scope=col>Voltage</th><th scope=col>Global_intensity</th><th scope=col>Sub_metering_1</th><th scope=col>Sub_metering_2</th><th scope=col>Sub_metering_3</th></tr></thead>\n",
       "<tbody>\n",
       "\t<tr><th scope=row>66637</th><td>2007-02-01</td><td>00:00:00</td><td>0.326</td><td>0.128</td><td>243.15</td><td>1.4</td><td>0</td><td>0</td><td>0</td></tr>\n",
       "\t<tr><th scope=row>66638</th><td>2007-02-01</td><td>00:01:00</td><td>0.326</td><td>0.13</td><td>243.32</td><td>1.4</td><td>0</td><td>0</td><td>0</td></tr>\n",
       "\t<tr><th scope=row>66639</th><td>2007-02-01</td><td>00:02:00</td><td>0.324</td><td>0.132</td><td>243.51</td><td>1.4</td><td>0</td><td>0</td><td>0</td></tr>\n",
       "\t<tr><th scope=row>66640</th><td>2007-02-01</td><td>00:03:00</td><td>0.324</td><td>0.134</td><td>243.9</td><td>1.4</td><td>0</td><td>0</td><td>0</td></tr>\n",
       "\t<tr><th scope=row>66641</th><td>2007-02-01</td><td>00:04:00</td><td>0.322</td><td>0.13</td><td>243.16</td><td>1.4</td><td>0</td><td>0</td><td>0</td></tr>\n",
       "\t<tr><th scope=row>66642</th><td>2007-02-01</td><td>00:05:00</td><td>0.32</td><td>0.126</td><td>242.29</td><td>1.4</td><td>0</td><td>0</td><td>0</td></tr>\n",
       "</tbody>\n",
       "</table>\n"
      ],
      "text/latex": [
       "\\begin{tabular}{r|lllllllll}\n",
       "  & Date & Time & Global_active_power & Global_reactive_power & Voltage & Global_intensity & Sub_metering_1 & Sub_metering_2 & Sub_metering_3\\\\\n",
       "\\hline\n",
       "\t66637 & 2007-02-01 & 00:00:00 & 0.326 & 0.128 & 243.15 & 1.4 & 0 & 0 & 0\\\\\n",
       "\t66638 & 2007-02-01 & 00:01:00 & 0.326 & 0.13 & 243.32 & 1.4 & 0 & 0 & 0\\\\\n",
       "\t66639 & 2007-02-01 & 00:02:00 & 0.324 & 0.132 & 243.51 & 1.4 & 0 & 0 & 0\\\\\n",
       "\t66640 & 2007-02-01 & 00:03:00 & 0.324 & 0.134 & 243.9 & 1.4 & 0 & 0 & 0\\\\\n",
       "\t66641 & 2007-02-01 & 00:04:00 & 0.322 & 0.13 & 243.16 & 1.4 & 0 & 0 & 0\\\\\n",
       "\t66642 & 2007-02-01 & 00:05:00 & 0.32 & 0.126 & 242.29 & 1.4 & 0 & 0 & 0\\\\\n",
       "\\end{tabular}\n"
      ],
      "text/plain": [
       "            Date     Time Global_active_power Global_reactive_power Voltage\n",
       "66637 2007-02-01 00:00:00               0.326                 0.128  243.15\n",
       "66638 2007-02-01 00:01:00               0.326                 0.130  243.32\n",
       "66639 2007-02-01 00:02:00               0.324                 0.132  243.51\n",
       "66640 2007-02-01 00:03:00               0.324                 0.134  243.90\n",
       "66641 2007-02-01 00:04:00               0.322                 0.130  243.16\n",
       "66642 2007-02-01 00:05:00               0.320                 0.126  242.29\n",
       "      Global_intensity Sub_metering_1 Sub_metering_2 Sub_metering_3\n",
       "66637              1.4              0              0              0\n",
       "66638              1.4              0              0              0\n",
       "66639              1.4              0              0              0\n",
       "66640              1.4              0              0              0\n",
       "66641              1.4              0              0              0\n",
       "66642              1.4              0              0              0"
      ]
     },
     "metadata": {},
     "output_type": "display_data"
    },
    {
     "data": {
      "text/plain": [
       "      Date                Time           Global_active_power\n",
       " Min.   :2007-02-01   Length:2880        Min.   :0.220      \n",
       " 1st Qu.:2007-02-01   Class :character   1st Qu.:0.320      \n",
       " Median :2007-02-01   Mode  :character   Median :1.060      \n",
       " Mean   :2007-02-01                      Mean   :1.213      \n",
       " 3rd Qu.:2007-02-02                      3rd Qu.:1.688      \n",
       " Max.   :2007-02-02                      Max.   :7.482      \n",
       " Global_reactive_power    Voltage      Global_intensity Sub_metering_1   \n",
       " Min.   :0.0000        Min.   :233.1   Min.   : 1.000   Min.   : 0.0000  \n",
       " 1st Qu.:0.0000        1st Qu.:238.4   1st Qu.: 1.400   1st Qu.: 0.0000  \n",
       " Median :0.1040        Median :240.6   Median : 4.600   Median : 0.0000  \n",
       " Mean   :0.1006        Mean   :240.4   Mean   : 5.102   Mean   : 0.4062  \n",
       " 3rd Qu.:0.1440        3rd Qu.:242.4   3rd Qu.: 7.000   3rd Qu.: 0.0000  \n",
       " Max.   :0.5000        Max.   :246.6   Max.   :32.000   Max.   :38.0000  \n",
       " Sub_metering_2   Sub_metering_3  \n",
       " Min.   :0.0000   Min.   : 0.000  \n",
       " 1st Qu.:0.0000   1st Qu.: 0.000  \n",
       " Median :0.0000   Median : 0.000  \n",
       " Mean   :0.2576   Mean   : 8.501  \n",
       " 3rd Qu.:0.0000   3rd Qu.:17.000  \n",
       " Max.   :2.0000   Max.   :19.000  "
      ]
     },
     "metadata": {},
     "output_type": "display_data"
    },
    {
     "name": "stdout",
     "output_type": "stream",
     "text": [
      "[1] \"nrow(ss)=2880\"\n"
     ]
    }
   ],
   "source": [
    "# parse dates, subset rows, and name columns\n",
    "print(paste0(\"nrow(df)=\", nrow(df)))\n",
    "df$Date <- as.Date(df$Date,  format='%d/%m/%Y')\n",
    "head(df)\n",
    "\n",
    "ss <- subset(df, Date >= as.Date('2007-02-01') & Date <= as.Date('2007-02-02'))\n",
    "names(ss) <- c('Date', 'Time', 'Global_active_power', 'Global_reactive_power', 'Voltage', 'Global_intensity', 'Sub_metering_1', 'Sub_metering_2', 'Sub_metering_3')\n",
    "\n",
    "head(ss)\n",
    "summary(ss)\n",
    "#nrow(ss)\n",
    "print(paste0(\"nrow(ss)=\", nrow(ss)))\n"
   ]
  },
  {
   "cell_type": "code",
   "execution_count": 5,
   "metadata": {
    "collapsed": false
   },
   "outputs": [
    {
     "data": {
      "text/html": [
       "<table>\n",
       "<thead><tr><th></th><th scope=col>Date</th><th scope=col>Time</th><th scope=col>Global_active_power</th><th scope=col>Global_reactive_power</th><th scope=col>Voltage</th><th scope=col>Global_intensity</th><th scope=col>Sub_metering_1</th><th scope=col>Sub_metering_2</th><th scope=col>Sub_metering_3</th></tr></thead>\n",
       "<tbody>\n",
       "\t<tr><th scope=row>66637</th><td>2007-02-01</td><td>00:00:00</td><td>0.326</td><td>0.128</td><td>243.15</td><td>1.4</td><td>0</td><td>0</td><td>0</td></tr>\n",
       "\t<tr><th scope=row>66638</th><td>2007-02-01</td><td>00:01:00</td><td>0.326</td><td>0.13</td><td>243.32</td><td>1.4</td><td>0</td><td>0</td><td>0</td></tr>\n",
       "\t<tr><th scope=row>66639</th><td>2007-02-01</td><td>00:02:00</td><td>0.324</td><td>0.132</td><td>243.51</td><td>1.4</td><td>0</td><td>0</td><td>0</td></tr>\n",
       "\t<tr><th scope=row>66640</th><td>2007-02-01</td><td>00:03:00</td><td>0.324</td><td>0.134</td><td>243.9</td><td>1.4</td><td>0</td><td>0</td><td>0</td></tr>\n",
       "\t<tr><th scope=row>66641</th><td>2007-02-01</td><td>00:04:00</td><td>0.322</td><td>0.13</td><td>243.16</td><td>1.4</td><td>0</td><td>0</td><td>0</td></tr>\n",
       "\t<tr><th scope=row>66642</th><td>2007-02-01</td><td>00:05:00</td><td>0.32</td><td>0.126</td><td>242.29</td><td>1.4</td><td>0</td><td>0</td><td>0</td></tr>\n",
       "</tbody>\n",
       "</table>\n"
      ],
      "text/latex": [
       "\\begin{tabular}{r|lllllllll}\n",
       "  & Date & Time & Global_active_power & Global_reactive_power & Voltage & Global_intensity & Sub_metering_1 & Sub_metering_2 & Sub_metering_3\\\\\n",
       "\\hline\n",
       "\t66637 & 2007-02-01 & 00:00:00 & 0.326 & 0.128 & 243.15 & 1.4 & 0 & 0 & 0\\\\\n",
       "\t66638 & 2007-02-01 & 00:01:00 & 0.326 & 0.13 & 243.32 & 1.4 & 0 & 0 & 0\\\\\n",
       "\t66639 & 2007-02-01 & 00:02:00 & 0.324 & 0.132 & 243.51 & 1.4 & 0 & 0 & 0\\\\\n",
       "\t66640 & 2007-02-01 & 00:03:00 & 0.324 & 0.134 & 243.9 & 1.4 & 0 & 0 & 0\\\\\n",
       "\t66641 & 2007-02-01 & 00:04:00 & 0.322 & 0.13 & 243.16 & 1.4 & 0 & 0 & 0\\\\\n",
       "\t66642 & 2007-02-01 & 00:05:00 & 0.32 & 0.126 & 242.29 & 1.4 & 0 & 0 & 0\\\\\n",
       "\\end{tabular}\n"
      ],
      "text/plain": [
       "            Date     Time Global_active_power Global_reactive_power Voltage\n",
       "66637 2007-02-01 00:00:00               0.326                 0.128  243.15\n",
       "66638 2007-02-01 00:01:00               0.326                 0.130  243.32\n",
       "66639 2007-02-01 00:02:00               0.324                 0.132  243.51\n",
       "66640 2007-02-01 00:03:00               0.324                 0.134  243.90\n",
       "66641 2007-02-01 00:04:00               0.322                 0.130  243.16\n",
       "66642 2007-02-01 00:05:00               0.320                 0.126  242.29\n",
       "      Global_intensity Sub_metering_1 Sub_metering_2 Sub_metering_3\n",
       "66637              1.4              0              0              0\n",
       "66638              1.4              0              0              0\n",
       "66639              1.4              0              0              0\n",
       "66640              1.4              0              0              0\n",
       "66641              1.4              0              0              0\n",
       "66642              1.4              0              0              0"
      ]
     },
     "metadata": {},
     "output_type": "display_data"
    },
    {
     "data": {
      "text/html": [
       "<table>\n",
       "<thead><tr><th></th><th scope=col>Date</th><th scope=col>Time</th><th scope=col>Global_active_power</th><th scope=col>Global_reactive_power</th><th scope=col>Voltage</th><th scope=col>Global_intensity</th><th scope=col>Sub_metering_1</th><th scope=col>Sub_metering_2</th><th scope=col>Sub_metering_3</th></tr></thead>\n",
       "<tbody>\n",
       "\t<tr><th scope=row>66637</th><td>2007-02-01</td><td>00:00:00</td><td>0.326</td><td>0.128</td><td>243.15</td><td>1.4</td><td>0</td><td>0</td><td>0</td></tr>\n",
       "</tbody>\n",
       "</table>\n"
      ],
      "text/latex": [
       "\\begin{tabular}{r|lllllllll}\n",
       "  & Date & Time & Global_active_power & Global_reactive_power & Voltage & Global_intensity & Sub_metering_1 & Sub_metering_2 & Sub_metering_3\\\\\n",
       "\\hline\n",
       "\t66637 & 2007-02-01 & 00:00:00 & 0.326 & 0.128 & 243.15 & 1.4 & 0 & 0 & 0\\\\\n",
       "\\end{tabular}\n"
      ],
      "text/plain": [
       "            Date     Time Global_active_power Global_reactive_power Voltage\n",
       "66637 2007-02-01 00:00:00               0.326                 0.128  243.15\n",
       "      Global_intensity Sub_metering_1 Sub_metering_2 Sub_metering_3\n",
       "66637              1.4              0              0              0"
      ]
     },
     "metadata": {},
     "output_type": "display_data"
    },
    {
     "data": {
      "text/html": [
       "\"Date\""
      ],
      "text/latex": [
       "\"Date\""
      ],
      "text/markdown": [
       "\"Date\""
      ],
      "text/plain": [
       "[1] \"Date\""
      ]
     },
     "metadata": {},
     "output_type": "display_data"
    },
    {
     "data": {
      "text/html": [
       "\"character\""
      ],
      "text/latex": [
       "\"character\""
      ],
      "text/markdown": [
       "\"character\""
      ],
      "text/plain": [
       "[1] \"character\""
      ]
     },
     "metadata": {},
     "output_type": "display_data"
    },
    {
     "data": {
      "text/html": [
       "<ol class=list-inline>\n",
       "\t<li>\"POSIXlt\"</li>\n",
       "\t<li>\"POSIXt\"</li>\n",
       "</ol>\n"
      ],
      "text/latex": [
       "\\begin{enumerate*}\n",
       "\\item \"POSIXlt\"\n",
       "\\item \"POSIXt\"\n",
       "\\end{enumerate*}\n"
      ],
      "text/markdown": [
       "1. \"POSIXlt\"\n",
       "2. \"POSIXt\"\n",
       "\n",
       "\n"
      ],
      "text/plain": [
       "[1] \"POSIXlt\" \"POSIXt\" "
      ]
     },
     "metadata": {},
     "output_type": "display_data"
    }
   ],
   "source": [
    "head(ss)\n",
    "\n",
    "head(ss[1,])\n",
    "class(ss$Date[1])\n",
    "\n",
    "dt <- paste(ss$Date[1], ss$Time[1])\n",
    "class(dt)\n",
    "\n",
    "dt <- strptime(dt, format = \"%Y-%m-%d %H:%M:%S\")\n",
    "class(dt)\n"
   ]
  },
  {
   "cell_type": "code",
   "execution_count": 6,
   "metadata": {
    "collapsed": false
   },
   "outputs": [
    {
     "data": {
      "text/html": [
       "<table>\n",
       "<thead><tr><th></th><th scope=col>Date</th><th scope=col>Time</th><th scope=col>Global_active_power</th><th scope=col>Global_reactive_power</th><th scope=col>Voltage</th><th scope=col>Global_intensity</th><th scope=col>Sub_metering_1</th><th scope=col>Sub_metering_2</th><th scope=col>Sub_metering_3</th><th scope=col>DateTime</th></tr></thead>\n",
       "<tbody>\n",
       "\t<tr><th scope=row>66637</th><td>2007-02-01</td><td>00:00:00</td><td>0.326</td><td>0.128</td><td>243.15</td><td>1.4</td><td>0</td><td>0</td><td>0</td><td>2007-02-01</td></tr>\n",
       "\t<tr><th scope=row>66638</th><td>2007-02-01</td><td>00:01:00</td><td>0.326</td><td>0.13</td><td>243.32</td><td>1.4</td><td>0</td><td>0</td><td>0</td><td>2007-02-01 00:01:00</td></tr>\n",
       "\t<tr><th scope=row>66639</th><td>2007-02-01</td><td>00:02:00</td><td>0.324</td><td>0.132</td><td>243.51</td><td>1.4</td><td>0</td><td>0</td><td>0</td><td>2007-02-01 00:02:00</td></tr>\n",
       "\t<tr><th scope=row>66640</th><td>2007-02-01</td><td>00:03:00</td><td>0.324</td><td>0.134</td><td>243.9</td><td>1.4</td><td>0</td><td>0</td><td>0</td><td>2007-02-01 00:03:00</td></tr>\n",
       "\t<tr><th scope=row>66641</th><td>2007-02-01</td><td>00:04:00</td><td>0.322</td><td>0.13</td><td>243.16</td><td>1.4</td><td>0</td><td>0</td><td>0</td><td>2007-02-01 00:04:00</td></tr>\n",
       "\t<tr><th scope=row>66642</th><td>2007-02-01</td><td>00:05:00</td><td>0.32</td><td>0.126</td><td>242.29</td><td>1.4</td><td>0</td><td>0</td><td>0</td><td>2007-02-01 00:05:00</td></tr>\n",
       "</tbody>\n",
       "</table>\n"
      ],
      "text/latex": [
       "\\begin{tabular}{r|llllllllll}\n",
       "  & Date & Time & Global_active_power & Global_reactive_power & Voltage & Global_intensity & Sub_metering_1 & Sub_metering_2 & Sub_metering_3 & DateTime\\\\\n",
       "\\hline\n",
       "\t66637 & 2007-02-01 & 00:00:00 & 0.326 & 0.128 & 243.15 & 1.4 & 0 & 0 & 0 & 2007-02-01\\\\\n",
       "\t66638 & 2007-02-01 & 00:01:00 & 0.326 & 0.13 & 243.32 & 1.4 & 0 & 0 & 0 & 2007-02-01 00:01:00\\\\\n",
       "\t66639 & 2007-02-01 & 00:02:00 & 0.324 & 0.132 & 243.51 & 1.4 & 0 & 0 & 0 & 2007-02-01 00:02:00\\\\\n",
       "\t66640 & 2007-02-01 & 00:03:00 & 0.324 & 0.134 & 243.9 & 1.4 & 0 & 0 & 0 & 2007-02-01 00:03:00\\\\\n",
       "\t66641 & 2007-02-01 & 00:04:00 & 0.322 & 0.13 & 243.16 & 1.4 & 0 & 0 & 0 & 2007-02-01 00:04:00\\\\\n",
       "\t66642 & 2007-02-01 & 00:05:00 & 0.32 & 0.126 & 242.29 & 1.4 & 0 & 0 & 0 & 2007-02-01 00:05:00\\\\\n",
       "\\end{tabular}\n"
      ],
      "text/plain": [
       "            Date     Time Global_active_power Global_reactive_power Voltage\n",
       "66637 2007-02-01 00:00:00               0.326                 0.128  243.15\n",
       "66638 2007-02-01 00:01:00               0.326                 0.130  243.32\n",
       "66639 2007-02-01 00:02:00               0.324                 0.132  243.51\n",
       "66640 2007-02-01 00:03:00               0.324                 0.134  243.90\n",
       "66641 2007-02-01 00:04:00               0.322                 0.130  243.16\n",
       "66642 2007-02-01 00:05:00               0.320                 0.126  242.29\n",
       "      Global_intensity Sub_metering_1 Sub_metering_2 Sub_metering_3\n",
       "66637              1.4              0              0              0\n",
       "66638              1.4              0              0              0\n",
       "66639              1.4              0              0              0\n",
       "66640              1.4              0              0              0\n",
       "66641              1.4              0              0              0\n",
       "66642              1.4              0              0              0\n",
       "                 DateTime\n",
       "66637 2007-02-01 00:00:00\n",
       "66638 2007-02-01 00:01:00\n",
       "66639 2007-02-01 00:02:00\n",
       "66640 2007-02-01 00:03:00\n",
       "66641 2007-02-01 00:04:00\n",
       "66642 2007-02-01 00:05:00"
      ]
     },
     "metadata": {},
     "output_type": "display_data"
    },
    {
     "data": {
      "text/html": [
       "<table>\n",
       "<thead><tr><th></th><th scope=col>Global_active_power</th><th scope=col>Global_reactive_power</th><th scope=col>Voltage</th><th scope=col>Global_intensity</th><th scope=col>Sub_metering_1</th><th scope=col>Sub_metering_2</th><th scope=col>Sub_metering_3</th><th scope=col>DateTime</th></tr></thead>\n",
       "<tbody>\n",
       "\t<tr><th scope=row>66637</th><td>0.326</td><td>0.128</td><td>243.15</td><td>1.4</td><td>0</td><td>0</td><td>0</td><td>2007-02-01</td></tr>\n",
       "\t<tr><th scope=row>66638</th><td>0.326</td><td>0.13</td><td>243.32</td><td>1.4</td><td>0</td><td>0</td><td>0</td><td>2007-02-01 00:01:00</td></tr>\n",
       "\t<tr><th scope=row>66639</th><td>0.324</td><td>0.132</td><td>243.51</td><td>1.4</td><td>0</td><td>0</td><td>0</td><td>2007-02-01 00:02:00</td></tr>\n",
       "\t<tr><th scope=row>66640</th><td>0.324</td><td>0.134</td><td>243.9</td><td>1.4</td><td>0</td><td>0</td><td>0</td><td>2007-02-01 00:03:00</td></tr>\n",
       "\t<tr><th scope=row>66641</th><td>0.322</td><td>0.13</td><td>243.16</td><td>1.4</td><td>0</td><td>0</td><td>0</td><td>2007-02-01 00:04:00</td></tr>\n",
       "\t<tr><th scope=row>66642</th><td>0.32</td><td>0.126</td><td>242.29</td><td>1.4</td><td>0</td><td>0</td><td>0</td><td>2007-02-01 00:05:00</td></tr>\n",
       "</tbody>\n",
       "</table>\n"
      ],
      "text/latex": [
       "\\begin{tabular}{r|llllllll}\n",
       "  & Global_active_power & Global_reactive_power & Voltage & Global_intensity & Sub_metering_1 & Sub_metering_2 & Sub_metering_3 & DateTime\\\\\n",
       "\\hline\n",
       "\t66637 & 0.326 & 0.128 & 243.15 & 1.4 & 0 & 0 & 0 & 2007-02-01\\\\\n",
       "\t66638 & 0.326 & 0.13 & 243.32 & 1.4 & 0 & 0 & 0 & 2007-02-01 00:01:00\\\\\n",
       "\t66639 & 0.324 & 0.132 & 243.51 & 1.4 & 0 & 0 & 0 & 2007-02-01 00:02:00\\\\\n",
       "\t66640 & 0.324 & 0.134 & 243.9 & 1.4 & 0 & 0 & 0 & 2007-02-01 00:03:00\\\\\n",
       "\t66641 & 0.322 & 0.13 & 243.16 & 1.4 & 0 & 0 & 0 & 2007-02-01 00:04:00\\\\\n",
       "\t66642 & 0.32 & 0.126 & 242.29 & 1.4 & 0 & 0 & 0 & 2007-02-01 00:05:00\\\\\n",
       "\\end{tabular}\n"
      ],
      "text/plain": [
       "      Global_active_power Global_reactive_power Voltage Global_intensity\n",
       "66637               0.326                 0.128  243.15              1.4\n",
       "66638               0.326                 0.130  243.32              1.4\n",
       "66639               0.324                 0.132  243.51              1.4\n",
       "66640               0.324                 0.134  243.90              1.4\n",
       "66641               0.322                 0.130  243.16              1.4\n",
       "66642               0.320                 0.126  242.29              1.4\n",
       "      Sub_metering_1 Sub_metering_2 Sub_metering_3            DateTime\n",
       "66637              0              0              0 2007-02-01 00:00:00\n",
       "66638              0              0              0 2007-02-01 00:01:00\n",
       "66639              0              0              0 2007-02-01 00:02:00\n",
       "66640              0              0              0 2007-02-01 00:03:00\n",
       "66641              0              0              0 2007-02-01 00:04:00\n",
       "66642              0              0              0 2007-02-01 00:05:00"
      ]
     },
     "metadata": {},
     "output_type": "display_data"
    }
   ],
   "source": [
    "\n",
    "dts <- strptime(paste(ss$Date, ss$Time), format = \"%Y-%m-%d %H:%M:%S\")\n",
    "#dts[1]\n",
    "#dts[2]\n",
    "#dts[3]\n",
    "#dts[4]\n",
    " \n",
    "#df$dtime <- dts\n",
    "#df$dtime <- NULL\n",
    "#df$Date <- dts\n",
    "\n",
    "ss$DateTime <- dts\n",
    "head(ss)\n",
    "ss$Date <- NULL\n",
    "ss$Time <- NULL\n",
    "\n",
    "#names(ss[,1]) <- c('DateTime')\n",
    "head(ss)\n",
    "#newdf <- df[,3:]\n",
    "#head(newdf)"
   ]
  },
  {
   "cell_type": "code",
   "execution_count": 10,
   "metadata": {
    "collapsed": false,
    "scrolled": true
   },
   "outputs": [
    {
     "data": {
      "image/png": "[encoded data removed]",
      "text/plain": [
       "Plot with title \"Global Active Power\""
      ]
     },
     "metadata": {
      "image/svg+xml": {
       "isolated": true
      }
     },
     "output_type": "display_data"
    }
   ],
   "source": [
    "hist(ss$Global_active_power, col='red', main='Global Active Power', xlab='Global Active Power (killowatts)')"
   ]
  },
  {
   "cell_type": "code",
   "execution_count": null,
   "metadata": {
    "collapsed": false
   },
   "outputs": [],
   "source": [
    "#strftime('2007-02-01 00:09:13', format='%a')\n",
    "\n",
    "ss$DoW <- strftime(ss$DateTime, format='%a')\n",
    "#head(ss)\n",
    "\n",
    "ss$DoW <- factor(ss$DoW, levels=c(\"Mon\", \"Tue\", \"Wed\", \"Thu\", \"Fri\", \"Sat\", \"Sun\"), ordered = TRUE)\n",
    "#head(ss)\n",
    "#tail(ss)\n",
    "#?strptime\n",
    "\n",
    "plot(as.numeric(ss$DateTime), ss$Global_active_power, type='l', ylab='Global Active Power (kilowatts)', xlab='', xaxt=\"n\") #, xlim=ss$DoW)\n",
    "axis(1, at=1:7, labels=c(\"Mon\", \"Tue\", \"Wed\", \"Thu\", \"Fri\", \"Sat\", \"Sun\"))\n",
    "\n",
    "#plot(ss$Global_active_power, ss$Global_active_power)\n",
    "#?plot"
   ]
  },
  {
   "cell_type": "code",
   "execution_count": null,
   "metadata": {
    "collapsed": false
   },
   "outputs": [],
   "source": [
    "colors = c(\"black\",\"red\", \"blue\")\n",
    "matplot(as.numeric(ss$DateTime), cbind(ss$Sub_metering_1,ss$Sub_metering_2,ss$Sub_metering_3),\n",
    "                                 col=colors,\n",
    "                                 lty=c(1,1,1),\n",
    "       type='l', ylab='Energy Sub Metering', xlab='', xaxt=\"n\")\n",
    "\n",
    "legend('topright', names(c[,6:9])[-1] , \n",
    "   lty=1, col=colors, bty='o', cex=.75,border = \"black\", lwd=1, box.lwd=1 )\n",
    "\n",
    "#axis(1, at=1:7, labels=c(\"Mon\", \"Tue\", \"Wed\", \"Thu\", \"Fri\", \"Sat\", \"Sun\"))\n",
    "#?matplot\n",
    "#plot(as.numeric(ss$DateTime), ss$Sub_metering_1, col='red', type='l', ylab='Energy Sub Metering', xlab='', xaxt=\"n\") #, xlim=ss$DoW)\n",
    "#par(new=TRUE)\n",
    "#plot(as.numeric(ss$DateTime), ss$Sub_metering_2, col='blue', type='l', ylab='', xlab='', xaxt=\"n\") #, xlim=ss$DoW)\n",
    "#par(new=TRUE)\n",
    "#plot(as.numeric(ss$DateTime), ss$Sub_metering_3, col='black', type='l', ylab='', xlab='', xaxt=\"n\") #, xlim=ss$DoW)\n",
    "\n"
   ]
  },
  {
   "cell_type": "code",
   "execution_count": null,
   "metadata": {
    "collapsed": false
   },
   "outputs": [],
   "source": [
    "# Display a 2x2 array of plots\n",
    "\n",
    "par(mfrow=c(2,2))\n",
    "\n",
    "plot(as.numeric(ss$DateTime), ss$Global_active_power, type='l', ylab='Global Active Power (kilowatts)', xlab='', xaxt=\"n\") #, xlim=ss$DoW)\n",
    "\n",
    "plot(as.numeric(ss$DateTime), ss$Voltage, type='l', ylab='Voltage', xlab='datetime', xaxt=\"n\") #, xlim=ss$DoW)\n",
    "\n",
    "colors = c(\"black\",\"red\", \"blue\")\n",
    "matplot(as.numeric(ss$DateTime), cbind(ss$Sub_metering_1,ss$Sub_metering_2,ss$Sub_metering_3),\n",
    "                                 col=colors,\n",
    "                                 lty=c(1,1,1),\n",
    "       type='l', ylab='Energy Sub Metering', xlab='', xaxt=\"n\")\n",
    "\n",
    "legend('topright', names(c[,6:9])[-1] , \n",
    "   lty=1, col=colors, bty='o', cex=.75,border = \"black\", lwd=1, box.lwd=1 )\n",
    "\n",
    "plot(as.numeric(ss$DateTime), ss$Global_reactive_power, type='l', ylab='Global_reactive_power', xlab='', xaxt=\"n\") #, xlim=ss$DoW)\n",
    "\n"
   ]
  },
  {
   "cell_type": "markdown",
   "metadata": {},
   "source": [
    "---\n",
    "[TOP](#TOP)\n",
    "# PA2"
   ]
  },
  {
   "cell_type": "code",
   "execution_count": null,
   "metadata": {
    "collapsed": false
   },
   "outputs": [],
   "source": [
    "#!ls\n",
    "\n",
    "url <- 'https://d396qusza40orc.cloudfront.net/exdata%2Fdata%2FNEI_data.zip'\n",
    "zip=\"exdata-data-NEI_data.zip\"\n",
    "\n",
    "dataFile=\"summarySCC_PM25.rds\"\n",
    "\n",
    "downloadFile(url, zip)\n",
    "\n",
    "if (!file.exists(dataFile)) {\n",
    "    print( paste(\"Unzipping file \", zip, \" because no '\", dataFile, \"' file present\") )\n",
    "    unzip(zip)\n",
    "} else {\n",
    "    print( paste(\"File '\", dataFile, \"' already present\") )    \n",
    "}\n",
    "\n",
    "if (!file.exists(dataFile)) {\n",
    "    print( paste(\"Failed to unzip \", zip, \" file\") )\n",
    "}"
   ]
  },
  {
   "cell_type": "code",
   "execution_count": null,
   "metadata": {
    "collapsed": true
   },
   "outputs": [],
   "source": [
    "## This first line will likely take a few seconds. Be patient!\n",
    "NEI <- readRDS(\"summarySCC_PM25.rds\")\n",
    "SCC <- readRDS(\"Source_Classification_Code.rds\")"
   ]
  },
  {
   "cell_type": "code",
   "execution_count": null,
   "metadata": {
    "collapsed": false
   },
   "outputs": [],
   "source": [
    "summary(NEI)\n",
    "summary(SCC)"
   ]
  },
  {
   "cell_type": "markdown",
   "metadata": {
    "collapsed": false
   },
   "source": [
    "# Plot1\n",
    "\n",
    "#### How to save plot and display?\n",
    "\n",
    "#### Use:\n",
    "dev.copy(png, \"plot1.png\")\n",
    "\n",
    "\n",
    "#### See:\n",
    "     http://stackoverflow.com/questions/8058606/saving-plot-as-pdf-and-simultaneously-display-it-in-the-window-x11"
   ]
  },
  {
   "cell_type": "code",
   "execution_count": null,
   "metadata": {
    "collapsed": false
   },
   "outputs": [],
   "source": [
    "## This first line will likely take a few seconds. Be patient!\n",
    "if(!exists(\"NEI\")){ NEI <- readRDS(\"summarySCC_PM25.rds\") }\n",
    "if(!exists(\"SCC\")){ SCC <- readRDS(\"Source_Classification_Code.rds\") }\n",
    "\n",
    "# Q1: Have total emissions from PM2.5 decreased in the United States from 1999 to 2008?\n",
    "#     Using the base plotting system, make a plot showing the total PM2.5 emission from all sources for each of the years 1999, 2002, 2005, and 2008.\n",
    "\n",
    "aggregatedTotalByYear <- aggregate(Emissions ~ year, NEI, sum)\n",
    "\n",
    "#png('plot1.png')\n",
    "barplot(height=aggregatedTotalByYear$Emissions,\n",
    "        names.arg=aggregatedTotalByYear$year,\n",
    "        xlab=\"years\",\n",
    "        ylab=expression('total PM'[2.5]*' emissions'),\n",
    "        main=expression('MAIN TITLE - Total PM'[2.5]*' emissions [1999-2008]'))\n",
    "dev.copy(png, \"plot1.png\")\n",
    "\n",
    "dev.off()"
   ]
  },
  {
   "cell_type": "markdown",
   "metadata": {},
   "source": [
    "###### Peers - plot1"
   ]
  },
  {
   "cell_type": "code",
   "execution_count": null,
   "metadata": {
    "collapsed": false
   },
   "outputs": [],
   "source": [
    "# Peer1\n",
    "\n",
    "#ssc_data_url <- \"https://d396qusza40orc.cloudfront.net/exdata%2Fdata%2FNEI_data.zip\"\n",
    "#ssc_data_dir <- file.path(getwd(), \"data\")\n",
    "#dir.create(ssc_data_dir, showWarnings = FALSE)\n",
    "#ssc_plots_dir <- file.path(getwd(), \"plots\")\n",
    "#dir.create(ssc_plots_dir, showWarnings = FALSE)\n",
    "#exdata_data_zip <- file.path(ssc_data_dir, \"exdata-data-NEI_data.zip\")\n",
    "#if (!file.exists(exdata_data_zip)) \n",
    "#  download.file(ssc_data_url, exdata_data_zip, quiet = TRUE)\n",
    "#if (!file.exists(ssc_rds) | !file.exists(nei_rds)) \n",
    "#  unzip(exdata_data_zip, exdir = ssc_data_dir)\n",
    "\n",
    "stopifnot(file.exists(ssc_rds) & file.exists(nei_rds))\n",
    "\n",
    "ssc_data_dir  <- '.'\n",
    "ssc_plots_dir <- '.'\n",
    "nei_rds <- file.path(ssc_data_dir, \"summarySCC_PM25.rds\")\n",
    "ssc_rds <- file.path(ssc_data_dir, \"Source_Classification_Code.rds\")\n",
    "\n",
    "if(!exists(\"nei_clean\"))\n",
    "  nei_clean <- readRDS(nei_rds)\n",
    "if(!exists(\"scc_clean\"))\n",
    "  scc_clean <- readRDS(ssc_rds)\n",
    "\n",
    "nei <- nei_clean\n",
    "scc <- scc_clean\n",
    "\n",
    "nei_agg <- aggregate(Emissions ~ year, nei, sum)\n",
    "\n",
    "#png(file = file.path(getwd(), \"./plot1.png\"))\n",
    "opt <- options(\"scipen\" = 20)\n",
    "barplot(nei_agg$Emissions/1000, names=nei_agg$year, xlab = 'Year', ylab = 'Emissions (thousand tons of PM2.5)', main='United States of America PM2.5 Emissions')\n",
    "dev.copy(png, \"plot1.png\")\n",
    "dev.off()\n"
   ]
  },
  {
   "cell_type": "code",
   "execution_count": null,
   "metadata": {
    "collapsed": false
   },
   "outputs": [],
   "source": [
    "# Peer2\n",
    "\n",
    "# Load Data\n",
    "NEI <- readRDS(\"summarySCC_PM25.rds\")\n",
    "SCC <- readRDS(\"Source_Classification_Code.rds\")\n",
    "\n",
    "# Aggregate Data\n",
    "emissions_by_year <- aggregate(Emissions ~ year, NEI, sum, na.omit = TRUE)\n",
    "\n",
    "# Image Device\n",
    "#png(filename=\"plot1.png\", height=600, width=600, bg=\"transparent\")\n",
    "windows()\n",
    "\n",
    "# Create Plot\n",
    "barplot(height = emissions_by_year$Emissions\n",
    "        ,names.arg=emissions_by_year$year\n",
    "        ,xlab = \"Years\"\n",
    "        ,ylab = \"Total PM2.5\"\n",
    "        ,main = \"Total emissions of PM2.5\\nUnited States\")\n",
    "\n",
    "dev.copy(png, \"plot1.png\")\n",
    "#Close device\n",
    "dev.off()\n"
   ]
  },
  {
   "cell_type": "code",
   "execution_count": null,
   "metadata": {
    "collapsed": false
   },
   "outputs": [],
   "source": [
    "# Peer3\n",
    "# Download and unzip data\n",
    "#data.url <- \"https://d396qusza40orc.cloudfront.net/exdata%2Fdata%2FNEI_data.zip\"\n",
    "#if (!file.exists(\"data\"))\n",
    "#    dir.create(\"data\")\n",
    "\n",
    "#data.path <- file.path(\"data\", \"NEI.zip\")\n",
    "#download.file(data.url, data.path, method = \"curl\")\n",
    "#unzip(data.path, exdir = \"data\")\n",
    "\n",
    "# Load data\n",
    "NEI <- readRDS(file.path(\"data\", \"summarySCC_PM25.rds\"))\n",
    "SCC <- readRDS(file.path(\"data\", \"Source_Classification_Code.rds\"))\n",
    "\n",
    "NEI.table <- tbl_df(NEI)\n",
    "SCC.table <- tbl_df(SCC)\n",
    "\n",
    "rm(NEI)\n",
    "rm(SCC)\n",
    "\n",
    "#transformations\n",
    "library(dplyr)\n",
    "NEI.table <- tbl_df(NEI)\n",
    "NEI.table <- mutate(NEI.table, fips= factor(fips, exclude = NULL))\n",
    "NEI.table <- mutate(NEI.table, SCC= factor(SCC, exclude = NULL))\n",
    "NEI.table <- mutate(NEI.table, Pollutant= factor(Pollutant, exclude = NULL))\n",
    "NEI.table <- mutate(NEI.table, type= factor(type, exclude = NULL))\n",
    "NEI.table <- mutate(NEI.table, year= factor(year, exclude = NULL))\n",
    "\n",
    "# Q 1\n",
    "emission.yearly <- summarise(group_by(NEI.table, year), emission=sum(Emissions))\n",
    "\n",
    "options(scipen = 5)\n",
    "plot.default(x= levels(emission.yearly$year), y= emission.yearly$emission / 1000000, \n",
    "             xlab= \"year\", ylab= \"Total Emissions\", type=\"b\", \n",
    "             main= \"Total Annual Emissions\", axes = F)\n",
    "\n",
    "axis(1)\n",
    "pts <- pretty(emission.yearly$emission / 1000000)\n",
    "axis(2, at= pts, labels=paste(pts, \"K\", sep = \"\"))\n",
    "box()\n",
    "dev.copy(png, file= \"plot1.png\")\n",
    "dev.off()\n",
    "    "
   ]
  },
  {
   "cell_type": "code",
   "execution_count": null,
   "metadata": {
    "collapsed": false
   },
   "outputs": [],
   "source": [
    "# Peer4\n",
    "neiData <- readRDS(\"./summarySCC_PM25.rds\")\n",
    "sccData <- readRDS(\"./Source_Classification_Code.rds\")\n",
    "\n",
    "par(\"mar\"=c(5.1, 4.5, 4.1, 2.1))\n",
    "#png(filename = \"plot1.png\", width = 480, height = 480, units = \"px\")\n",
    "totalEmissions <- aggregate(neiData$Emissions, list(neiData$year), FUN = \"sum\")\n",
    "# options(scipen=0)\n",
    "# options(scipen=999)\n",
    "plot(totalEmissions, type = \"l\", xlab = \"Year\", \n",
    "     main = \"Total Emissions in the United States from 1999 to 2008\", \n",
    "     ylab = expression('Total PM'[2.5]*\" Emission\"))\n",
    "dev.copy(png, \"plot2.png\")\n",
    "dev.off()"
   ]
  },
  {
   "cell_type": "markdown",
   "metadata": {},
   "source": [
    "# Plot2"
   ]
  },
  {
   "cell_type": "code",
   "execution_count": null,
   "metadata": {
    "collapsed": false
   },
   "outputs": [],
   "source": [
    "## This first line will likely take a few seconds. Be patient!\n",
    "if(!exists(\"NEI\")){ NEI <- readRDS(\"summarySCC_PM25.rds\") }\n",
    "if(!exists(\"SCC\")){ SCC <- readRDS(\"Source_Classification_Code.rds\") }\n",
    "\n",
    "# Q2: Have total emissions from PM2.5 decreased in the Baltimore City, Maryland (fips == \"24510\") from 1999 to 2008?\n",
    "#     Use the base plotting system to make a plot answering this question.\n",
    "\n",
    "# Select Maryland/Baltimore subset:\n",
    "MarylandNEI  <- NEI[NEI$fips==\"24510\", ]\n",
    "\n",
    "aggregatedTotalByYear <- aggregate(Emissions ~ year, MarylandNEI, sum)\n",
    "\n",
    "#png('plot2.png')\n",
    "barplot(height=aggregatedTotalByYear$Emissions,\n",
    "        names.arg=aggregatedTotalByYear$year,\n",
    "        xlab=\"years\",\n",
    "        ylab=expression('total PM'[2.5]*' emissions'),\n",
    "        main=expression('Total PM'[2.5]*' emissions [1999-2008]'))\n",
    "#g <- ggplot(aggregatedTotalByYearAndType, aes(year, Emissions, color = type))\n",
    "#g <- g + geom_line() + xlab(\"year\") + ylab(expression('Total PM'[2.5]*\" Emissions\")) +\n",
    "#         ggtitle('Total Emissions in Baltimore City, Maryland (fips == \"24510\") [1999-2008]')\n",
    "print(g)\n",
    "dev.copy(png, \"plot2.png\")\n",
    "\n",
    "dev.off()"
   ]
  },
  {
   "cell_type": "markdown",
   "metadata": {},
   "source": [
    "###### Peers - plot2"
   ]
  },
  {
   "cell_type": "code",
   "execution_count": null,
   "metadata": {
    "collapsed": false
   },
   "outputs": [],
   "source": [
    "#Peer1\n",
    "\n",
    "#ssc_data_url <- \"https://d396qusza40orc.cloudfront.net/exdata%2Fdata%2FNEI_data.zip\"\n",
    "#ssc_data_dir <- file.path(getwd(), \"data\")\n",
    "#dir.create(ssc_data_dir, showWarnings = FALSE)\n",
    "\n",
    "#ssc_plots_dir <- file.path(getwd(), \"plots\")\n",
    "#dir.create(ssc_plots_dir, showWarnings = FALSE)\n",
    "\n",
    "#exdata_data_zip <- file.path(ssc_data_dir, \"exdata-data-NEI_data.zip\")\n",
    "nei_rds <- file.path(ssc_data_dir, \"summarySCC_PM25.rds\")\n",
    "ssc_rds <- file.path(ssc_data_dir, \"Source_Classification_Code.rds\")\n",
    "\n",
    "#if (!file.exists(exdata_data_zip)) \n",
    "#  download.file(ssc_data_url, exdata_data_zip, quiet = TRUE)\n",
    "#if (!file.exists(ssc_rds) | !file.exists(nei_rds)) \n",
    "#  unzip(exdata_data_zip, exdir = ssc_data_dir)\n",
    "\n",
    "stopifnot(file.exists(ssc_rds) & file.exists(nei_rds))\n",
    "\n",
    "if(!exists(\"nei_clean\"))\n",
    "  nei_clean <- readRDS(nei_rds)\n",
    "if(!exists(\"scc_clean\"))\n",
    "  scc_clean <- readRDS(ssc_rds)\n",
    "\n",
    "nei <- nei_clean[nei_clean$fips == '24510' & (nei_clean$year == 1999 | nei_clean$year == 2008) ,]\n",
    "scc <- scc_clean\n",
    "\n",
    "nei_agg <- aggregate(Emissions ~ year, nei, sum)\n",
    "\n",
    "#png(file = file.path(getwd(), \"plots/plot2.png\"))\n",
    "opt <- options(\"scipen\" = 20)\n",
    "barplot(nei_agg$Emissions, names=nei_agg$year, xlab = 'Year', ylab = 'Emissions (tons of PM2.5)', main='Baltimore City, Maryland PM2.5 Emissions')\n",
    "dev.copy(png, \"plot2.png\")\n",
    "dev.off()"
   ]
  },
  {
   "cell_type": "code",
   "execution_count": null,
   "metadata": {
    "collapsed": false
   },
   "outputs": [],
   "source": [
    "# Peer2\n",
    "\n",
    "# Load Data\n",
    "NEI <- readRDS(\"summarySCC_PM25.rds\")\n",
    "SCC <- readRDS(\"Source_Classification_Code.rds\")\n",
    "\n",
    "# Filter Baltimore Data\n",
    "Baltimore <- NEI[NEI$fips == \"24510\",]\n",
    "\n",
    "# Aggregate Data\n",
    "emissions_by_year <- aggregate(Emissions ~ year, Baltimore, sum, na.omit = TRUE)\n",
    "\n",
    "# Image Device\n",
    "#png(filename=\"plot2.png\", height=600, width=600, bg=\"transparent\")\n",
    "\n",
    "# Create Plot\n",
    "barplot(height = emissions_by_year$Emissions\n",
    "        ,names.arg=emissions_by_year$year\n",
    "        ,xlab = \"Years\"\n",
    "        ,ylab = \"Total PM2.5\"\n",
    "        ,main = \"Total emissions of PM2.5\\nBaltimore City, Maryland\")\n",
    "\n",
    "dev.copy(png, \"plot2.png\")\n",
    "\n",
    "#Close device\n",
    "dev.off()\n"
   ]
  },
  {
   "cell_type": "code",
   "execution_count": null,
   "metadata": {
    "collapsed": false
   },
   "outputs": [],
   "source": [
    "# Peer3\n",
    "\n",
    "# Download and unzip data\n",
    "#data.url <- \"https://d396qusza40orc.cloudfront.net/exdata%2Fdata%2FNEI_data.zip\"\n",
    "\n",
    "#if (!file.exists(\"data\"))\n",
    "#    dir.create(\"data\")\n",
    "\n",
    "#data.path <- file.path(\"data\", \"NEI.zip\")\n",
    "#download.file(data.url, data.path, method = \"curl\")\n",
    "#unzip(data.path, exdir = \"data\")\n",
    "\n",
    "# Load data\n",
    "NEI <- readRDS(file.path(\"data\", \"summarySCC_PM25.rds\"))\n",
    "SCC <- readRDS(file.path(\"data\", \"Source_Classification_Code.rds\"))\n",
    "\n",
    "NEI.table <- tbl_df(NEI)\n",
    "SCC.table <- tbl_df(SCC)\n",
    "\n",
    "rm(NEI)\n",
    "rm(SCC)\n",
    "\n",
    "#transformations\n",
    "library(dplyr)\n",
    "NEI.table <- tbl_df(NEI)\n",
    "NEI.table <- mutate(NEI.table, fips= factor(fips, exclude = NULL))\n",
    "NEI.table <- mutate(NEI.table, SCC= factor(SCC, exclude = NULL))\n",
    "NEI.table <- mutate(NEI.table, Pollutant= factor(Pollutant, exclude = NULL))\n",
    "NEI.table <- mutate(NEI.table, type= factor(type, exclude = NULL))\n",
    "NEI.table <- mutate(NEI.table, year= factor(year, exclude = NULL))\n",
    "\n",
    "# Q 2\n",
    "\n",
    "baltimore.emission <- filter(NEI.table, fips==\"24510\")\n",
    "baltimore.yearly <- summarise(group_by(baltimore.emission, year), emission=sum(Emissions))\n",
    "plot.default(x= levels(baltimore.yearly$year), y= baltimore.yearly$emission, \n",
    "             xlab= \"year\", ylab= \"Total Emissions\", type=\"b\",\n",
    "             main= \"Baltimore Annual Emissions\")\n",
    "\n",
    "dev.copy(png, \"plot2.png\")\n",
    "dev.off()\n",
    "\n"
   ]
  },
  {
   "cell_type": "code",
   "execution_count": null,
   "metadata": {
    "collapsed": true
   },
   "outputs": [],
   "source": []
  },
  {
   "cell_type": "markdown",
   "metadata": {},
   "source": [
    "# Plot3"
   ]
  },
  {
   "cell_type": "code",
   "execution_count": null,
   "metadata": {
    "collapsed": false
   },
   "outputs": [],
   "source": [
    "## This first line will likely take a few seconds. Be patient!\n",
    "if(!exists(\"NEI\")){ NEI <- readRDS(\"summarySCC_PM25.rds\") }\n",
    "if(!exists(\"SCC\")){ SCC <- readRDS(\"Source_Classification_Code.rds\") }\n",
    "\n",
    "library(ggplot2)\n",
    "\n",
    "# Q3: Of the four types of sources indicated by the type (point, nonpoint, onroad, nonroad) variable,\n",
    "#     which of these four sources have seen decreases in emissions from 1999–2008 for Baltimore City?\n",
    "#   Which have seen increases in emissions from 1999–2008?\n",
    "#   Use the ggplot2 plotting system to make a plot answer this question.\n",
    "\n",
    "# Select Maryland/Baltimore subset:\n",
    "MarylandNEI  <- NEI[NEI$fips==\"24510\", ]\n",
    "\n",
    "aggregatedTotalByYearAndType <- aggregate(Emissions ~ year + type, MarylandNEI, sum)\n",
    "\n",
    "#png(\"plot3.png\")\n",
    "g <- ggplot(aggregatedTotalByYearAndType, aes(year, Emissions, color = type))\n",
    "g <- g + geom_line() + xlab(\"year\") + ylab(expression('Total PM'[2.5]*\" Emissions\")) +\n",
    "         ggtitle('Total Emissions in Baltimore City, Maryland (fips == \"24510\") [1999-2008]')\n",
    "print(g)\n",
    "dev.copy(png, \"plot3.png\")\n",
    "\n",
    "dev.off()"
   ]
  },
  {
   "cell_type": "code",
   "execution_count": null,
   "metadata": {
    "collapsed": false
   },
   "outputs": [],
   "source": [
    "# Peer1\n",
    "\n",
    "#ssc_data_url <- \"https://d396qusza40orc.cloudfront.net/exdata%2Fdata%2FNEI_data.zip\"\n",
    "#ssc_data_dir <- file.path(getwd(), \"data\")\n",
    "#dir.create(ssc_data_dir, showWarnings = FALSE)\n",
    "\n",
    "#ssc_plots_dir <- file.path(getwd(), \"plots\")\n",
    "#dir.create(ssc_plots_dir, showWarnings = FALSE)\n",
    "\n",
    "#exdata_data_zip <- file.path(ssc_data_dir, \"exdata-data-NEI_data.zip\")\n",
    "nei_rds <- file.path(ssc_data_dir, \"summarySCC_PM25.rds\")\n",
    "ssc_rds <- file.path(ssc_data_dir, \"Source_Classification_Code.rds\")\n",
    "\n",
    "#if (!file.exists(exdata_data_zip)) \n",
    "#  download.file(ssc_data_url, exdata_data_zip, quiet = TRUE)\n",
    "#if (!file.exists(ssc_rds) | !file.exists(nei_rds)) \n",
    "#  unzip(exdata_data_zip, exdir = ssc_data_dir)\n",
    "\n",
    "stopifnot(file.exists(ssc_rds) & file.exists(nei_rds))\n",
    "\n",
    "if(!exists(\"nei_clean\"))\n",
    "  nei_clean <- readRDS(nei_rds)\n",
    "if(!exists(\"scc_clean\"))\n",
    "  scc_clean <- readRDS(ssc_rds)\n",
    "\n",
    "nei <- nei_clean[nei_clean$fips == '24510',]\n",
    "scc <- scc_clean\n",
    "\n",
    "nei_agg <- aggregate(Emissions ~ year+type, nei, sum)\n",
    "\n",
    "library(ggplot2) \n",
    "\n",
    "#png(file = file.path(getwd(), \"plots/plot3.png\"))\n",
    "\n",
    "ggplot(nei_agg, aes(year, Emissions, colour=type)) + \n",
    "  geom_line(size = 2) + \n",
    "  ylab('Emissions (tons of PM2.5)') + \n",
    "  xlab('Year') + \n",
    "  ggtitle('Baltimore City, Maryland PM2.5 Emissions') + \n",
    "  theme(plot.title = element_text(size = rel(1.5))) +\n",
    "  theme(axis.title.y = element_text(size = rel(1.2))) +\n",
    "  theme(axis.title.x = element_text(size = rel(1.2))) +\n",
    "  theme(axis.text = element_text(size = rel(1.2)))\n",
    "dev.copy(png, \"plot3.png\")\n",
    "dev.off()"
   ]
  },
  {
   "cell_type": "code",
   "execution_count": null,
   "metadata": {
    "collapsed": false
   },
   "outputs": [],
   "source": [
    "# Peer2\n",
    "\n",
    "library(\"ggplot2\")\n",
    "\n",
    "# Load Data\n",
    "NEI <- readRDS(\"summarySCC_PM25.rds\")\n",
    "SCC <- readRDS(\"Source_Classification_Code.rds\")\n",
    "\n",
    "# Filter Baltimore Data\n",
    "Baltimore <- NEI[NEI$fips == \"24510\",]\n",
    "\n",
    "# Aggregate Data\n",
    "emissions_by_year_type <- aggregate(Emissions ~ year + type, Baltimore, sum, na.omit = TRUE)\n",
    "\n",
    "# Image Device\n",
    "#png(filename=\"plot3.png\", height=600, width=600, bg=\"transparent\")\n",
    "\n",
    "# Create Plot\n",
    "ggplot(emissions_by_year_type, aes(x = factor(year), y = Emissions)) +\n",
    "       geom_bar(stat=\"identity\") +\n",
    "       facet_grid(. ~ type) +\n",
    "       xlab(\"Year\") +\n",
    "       ylab(\"Total PM2.5\") +\n",
    "       ggtitle(\"Total emissions of PM2.5\\nBaltimore City, Maryland\")\n",
    "\n",
    "#Close device\n",
    "dev.copy(png, \"plot3.png\")\n",
    "dev.off()"
   ]
  },
  {
   "cell_type": "code",
   "execution_count": null,
   "metadata": {
    "collapsed": false
   },
   "outputs": [],
   "source": [
    "# Peer3\n",
    "\n",
    "# Download and unzip data\n",
    "#data.url <- \"https://d396qusza40orc.cloudfront.net/exdata%2Fdata%2FNEI_data.zip\"\n",
    "\n",
    "#if (!file.exists(\"data\"))\n",
    "#    dir.create(\"data\")\n",
    "\n",
    "#data.path <- file.path(\"data\", \"NEI.zip\")\n",
    "#download.file(data.url, data.path, method = \"curl\")\n",
    "#unzip(data.path, exdir = \"data\")\n",
    "\n",
    "# Load data\n",
    "NEI <- readRDS(file.path(\"data\", \"summarySCC_PM25.rds\"))\n",
    "SCC <- readRDS(file.path(\"data\", \"Source_Classification_Code.rds\"))\n",
    "\n",
    "NEI.table <- tbl_df(NEI)\n",
    "SCC.table <- tbl_df(SCC)\n",
    "\n",
    "rm(NEI)\n",
    "rm(SCC)\n",
    "\n",
    "#transformations\n",
    "library(dplyr)\n",
    "NEI.table <- tbl_df(NEI)\n",
    "NEI.table <- mutate(NEI.table, fips= factor(fips, exclude = NULL))\n",
    "NEI.table <- mutate(NEI.table, SCC= factor(SCC, exclude = NULL))\n",
    "NEI.table <- mutate(NEI.table, Pollutant= factor(Pollutant, exclude = NULL))\n",
    "NEI.table <- mutate(NEI.table, type= factor(type, exclude = NULL))\n",
    "NEI.table <- mutate(NEI.table, year= factor(year, exclude = NULL))\n",
    "\n",
    "# Q 3\n",
    "# Baltimore yearly trends for different types of emissions\n",
    "baltimore.emission <- filter(NEI.table, fips==\"24510\")\n",
    "\n",
    "library(ggplot2)\n",
    "\n",
    "# For checking the chart\n",
    "# tapply(baltimore.emission$Emissions, list(baltimore.emission$type, baltimore.emission$year), sum)\n",
    "\n",
    "ggplot(data=baltimore.emission, aes(x=year, y= Emissions, group= type))+        # prepare data\n",
    "    stat_summary(fun.y= sum, geom= \"bar\", aes(fill= type)) +  # use sum(y) in each group as data point, show results as bar graphs\n",
    "    facet_wrap(~type) + # separate panels for different types\n",
    "    ggtitle(\"Emission Trend in Baltimore City\")\n",
    "\n",
    "ggsave(\"plot3.png\")\n",
    "    "
   ]
  },
  {
   "cell_type": "code",
   "execution_count": null,
   "metadata": {
    "collapsed": false
   },
   "outputs": [],
   "source": [
    "# Peer4\n",
    "\n",
    "neiData <- readRDS(\"./summarySCC_PM25.rds\")\n",
    "sccData <- readRDS(\"./Source_Classification_Code.rds\")\n",
    "subset <- neiData[neiData$fips == \"24510\", ] \n",
    "\n",
    "library(ggplot2)\n",
    "par(\"mar\"=c(5.1, 4.5, 4.1, 2.1))\n",
    "#png(filename = \"plot3.png\", width = 480, height = 480, units = \"px\")\n",
    "g <- ggplot(subset, aes(year, Emissions, color = type))\n",
    "g + geom_line(stat = \"summary\", fun.y = \"sum\") +\n",
    "  ylab(expression('Total PM'[2.5]*\" Emissions\")) +\n",
    "  ggtitle(\"Total Emissions in Baltimore City from 1999 to 2008\")\n",
    "\n",
    "dev.copy(png, \"plot3.png\")\n",
    "dev.off()\n"
   ]
  },
  {
   "cell_type": "markdown",
   "metadata": {},
   "source": [
    "# Plot4"
   ]
  },
  {
   "cell_type": "code",
   "execution_count": null,
   "metadata": {
    "collapsed": false
   },
   "outputs": [],
   "source": [
    "## This first line will likely take a few seconds. Be patient!\n",
    "if(!exists(\"NEI\")){ NEI <- readRDS(\"summarySCC_PM25.rds\") }\n",
    "if(!exists(\"SCC\")){ SCC <- readRDS(\"Source_Classification_Code.rds\") }\n",
    "\n",
    "# merge the two data sets\n",
    "if(!exists(\"NEISCC\")){ NEISCC <- merge(NEI, SCC, by=\"SCC\") }\n",
    "\n",
    "library(ggplot2)\n",
    "\n",
    "# Q4: Across the United States, how have emissions from coal combustion-related sources changed from 1999–2008?\n",
    "\n",
    "# Get NEIxSCC records with Short.Name (SCC) Coal\n",
    "coalSS  <- grepl(\"coal\", NEISCC$Short.Name, ignore.case=TRUE)\n",
    "subsetNEISCC <- NEISCC[coalSS, ]\n",
    "\n",
    "aggregatedTotalByYear <- aggregate(Emissions ~ year, subsetNEISCC, sum)\n",
    "\n",
    "#png(\"plot4.png\")\n",
    "g <- ggplot(aggregatedTotalByYear, aes(factor(year), Emissions))\n",
    "g <- g + geom_bar(stat=\"identity\") + xlab(\"year\") + ylab(expression('Total PM'[2.5]*\" Emissions\")) +\n",
    "         ggtitle('Total Emissions from coal sources [1999-2008]')\n",
    "print(g)\n",
    "\n",
    "dev.copy(png, \"plot4.png\")\n",
    "dev.off()"
   ]
  },
  {
   "cell_type": "code",
   "execution_count": null,
   "metadata": {
    "collapsed": false
   },
   "outputs": [],
   "source": [
    "# Peer1\n",
    "\n",
    "#ssc_data_url <- \"https://d396qusza40orc.cloudfront.net/exdata%2Fdata%2FNEI_data.zip\"\n",
    "#ssc_data_dir <- file.path(getwd(), \"data\")\n",
    "#dir.create(ssc_data_dir, showWarnings = FALSE)\n",
    "\n",
    "#ssc_plots_dir <- file.path(getwd(), \"plots\")\n",
    "#dir.create(ssc_plots_dir, showWarnings = FALSE)\n",
    "\n",
    "#exdata_data_zip <- file.path(ssc_data_dir, \"exdata-data-NEI_data.zip\")\n",
    "nei_rds <- file.path(ssc_data_dir, \"summarySCC_PM25.rds\")\n",
    "ssc_rds <- file.path(ssc_data_dir, \"Source_Classification_Code.rds\")\n",
    "\n",
    "if (!file.exists(exdata_data_zip)) \n",
    "  download.file(ssc_data_url, exdata_data_zip, quiet = TRUE)\n",
    "if (!file.exists(ssc_rds) | !file.exists(nei_rds)) \n",
    "  unzip(exdata_data_zip, exdir = ssc_data_dir)\n",
    "\n",
    "stopifnot(file.exists(ssc_rds) & file.exists(nei_rds))\n",
    "\n",
    "if(!exists(\"nei_clean\"))\n",
    "  nei_clean <- readRDS(nei_rds)\n",
    "if(!exists(\"scc_clean\"))\n",
    "  scc_clean <- readRDS(ssc_rds)\n",
    "\n",
    "scc <- subset(scc_clean, grepl(\"Coal\", EI.Sector))\n",
    "nei <- nei_clean[nei_clean$SCC %in% scc$SCC,]\n",
    "\n",
    "nei_agg <- aggregate(Emissions ~ year, nei, sum)\n",
    "\n",
    "#png(file = file.path(getwd(), \"plots/plot4.png\"))\n",
    "opt <- options(\"scipen\" = 20)\n",
    "barplot(nei_agg$Emissions/1000, names=nei_agg$year, xlab = 'Year', ylab = 'Emissions (thousand tons of PM2.5)', main='United States of America PM2.5 Emissions from Coal')\n",
    "dev.copy(png, \"plot4.png\")\n",
    "dev.off()"
   ]
  },
  {
   "cell_type": "code",
   "execution_count": null,
   "metadata": {
    "collapsed": false
   },
   "outputs": [],
   "source": [
    "# Peer2\n",
    "\n",
    "library(\"ggplot2\")\n",
    "\n",
    "# Load Data\n",
    "NEI <- readRDS(\"summarySCC_PM25.rds\")\n",
    "SCC <- readRDS(\"Source_Classification_Code.rds\")\n",
    "\n",
    "# Filter Coal Combustion Data\n",
    "sources <- SCC[grepl(\"Fuel Comb.*Coal\", SCC$EI.Sector),]\n",
    "coal_combustion <- NEI[(NEI$SCC %in% sources$SCC), ]\n",
    "\n",
    "# Aggregate Data\n",
    "emissions_by_year <- aggregate(Emissions ~ year, coal_combustion, sum, na.omit = TRUE)\n",
    "\n",
    "# Image Device\n",
    "#png(filename=\"plot4.png\", height=600, width=600, bg=\"transparent\")\n",
    "\n",
    "# Create Plot\n",
    "ggplot(emissions_by_year, aes(x = factor(year), y = Emissions)) +\n",
    "       geom_bar(stat=\"identity\") +\n",
    "       xlab(\"Year\") +\n",
    "       ylab(\"Total PM2.5\") +\n",
    "       ggtitle(\"Total emissions of PM2.5 of Coal Combustion\\nUnited States\")\n",
    "\n",
    "#Close device\n",
    "dev.copy(png, \"plot4.png\")\n",
    "dev.off()"
   ]
  },
  {
   "cell_type": "code",
   "execution_count": null,
   "metadata": {
    "collapsed": false
   },
   "outputs": [],
   "source": [
    "# Peer3\n",
    "\n",
    "# Download and unzip data\n",
    "#data.url <- \"https://d396qusza40orc.cloudfront.net/exdata%2Fdata%2FNEI_data.zip\"\n",
    "\n",
    "#if (!file.exists(\"data\"))\n",
    "#    dir.create(\"data\")\n",
    "\n",
    "#data.path <- file.path(\"data\", \"NEI.zip\")\n",
    "#download.file(data.url, data.path, method = \"curl\")\n",
    "#unzip(data.path, exdir = \"data\")\n",
    "\n",
    "# Load data\n",
    "NEI <- readRDS(file.path(\"data\", \"summarySCC_PM25.rds\"))\n",
    "SCC <- readRDS(file.path(\"data\", \"Source_Classification_Code.rds\"))\n",
    "\n",
    "NEI.table <- tbl_df(NEI)\n",
    "SCC.table <- tbl_df(SCC)\n",
    "\n",
    "rm(NEI)\n",
    "rm(SCC)\n",
    "\n",
    "#transformations\n",
    "library(dplyr)\n",
    "NEI.table <- tbl_df(NEI)\n",
    "NEI.table <- mutate(NEI.table, fips= factor(fips, exclude = NULL))\n",
    "NEI.table <- mutate(NEI.table, SCC= factor(SCC, exclude = NULL))\n",
    "NEI.table <- mutate(NEI.table, Pollutant= factor(Pollutant, exclude = NULL))\n",
    "NEI.table <- mutate(NEI.table, type= factor(type, exclude = NULL))\n",
    "NEI.table <- mutate(NEI.table, year= factor(year, exclude = NULL))\n",
    "\n",
    "# Q 5\n",
    "# Criteria:\n",
    "# I decided to go with the following criteria for motor vehicles\n",
    "# SCC.Level.One = Mobile Sources\n",
    "# EI.Sector contains \"On-Road\"\n",
    "\n",
    "mobile <- filter(SCC.table, SCC.Level.One == \"Mobile Sources\", Data.Category== \"Onroad\")\n",
    "\n",
    "# Remove totals to prevent double counting\n",
    "mobile.no.total <- filter(mobile, !grepl(\"[[Tt]otal\", mobile$Short.Name))\n",
    "\n",
    "baltimore.emission <- filter(NEI.table, fips==\"24510\")\n",
    "baltimore.mobile <- filter(baltimore.emission, SCC %in% mobile.no.total$SCC)\n",
    "baltimore.mobile <- merge(baltimore.mobile, mobile.no.total[,c(1,4)], by= \"SCC\")\n",
    "\n",
    "# Check sums with the plot\n",
    "# list <- split(baltimore.mobile$Emissions, list(baltimore.mobile$year, baltimore.mobile$EI.Sector), drop = T)\n",
    "# sum.list <- lapply(list, sum, na.rm=T)\n",
    "# sum.list\n",
    "\n",
    "ggplot(data= baltimore.mobile, aes(x= year, y= Emissions, group= EI.Sector, fill= EI.Sector)) +\n",
    "    stat_summary(fun.y= sum, geom=\"bar\", position= \"dodge\") + \n",
    "    facet_wrap(~EI.Sector, scales= \"free_y\") +\n",
    "    theme(legend.position=\"none\")\n",
    "\n",
    "ggsave(\"plot5.png\", width = 7, height = 7)"
   ]
  },
  {
   "cell_type": "code",
   "execution_count": null,
   "metadata": {
    "collapsed": false
   },
   "outputs": [],
   "source": [
    "# Peer4\n",
    "\n",
    "neiData <- readRDS(\"./summarySCC_PM25.rds\")\n",
    "sccData <- readRDS(\"./Source_Classification_Code.rds\")\n",
    "\n",
    "par(\"mar\"=c(5.1, 4.5, 4.1, 2.1))\n",
    "#png(filename = \"plot4.png\", width = 480, height = 480, units = \"px\")\n",
    "coal <- grep(\"coal\", sccData$Short.Name, ignore.case = T)\n",
    "coal <- sccData[coal, ]\n",
    "coal <- neiData[neiData$SCC %in% coal$SCC, ]\n",
    "\n",
    "coalEmissions <- aggregate(coal$Emissions, list(coal$year), FUN = \"sum\")\n",
    "\n",
    "plot(coalEmissions, type = \"l\", xlab = \"Year\", \n",
    "     main = \"Total Emissions From Coal Combustion-related\\n Sources from 1999 to 2008\", \n",
    "     ylab = expression('Total PM'[2.5]*\" Emission\"))\n",
    "\n",
    "dev.copy(png, \"plot4.png\")\n",
    "dev.off()"
   ]
  },
  {
   "cell_type": "markdown",
   "metadata": {},
   "source": [
    "# Plot5"
   ]
  },
  {
   "cell_type": "code",
   "execution_count": null,
   "metadata": {
    "collapsed": false
   },
   "outputs": [],
   "source": [
    "## This first line will likely take a few seconds. Be patient!\n",
    "if(!exists(\"NEI\")){ NEI <- readRDS(\"summarySCC_PM25.rds\") }\n",
    "if(!exists(\"SCC\")){ SCC <- readRDS(\"Source_Classification_Code.rds\") }\n",
    "\n",
    "# merge the two data sets\n",
    "if(!exists(\"NEISCC\")){ NEISCC <- merge(NEI, SCC, by=\"SCC\") }\n",
    "\n",
    "library(ggplot2)\n",
    "\n",
    "# Q5: How have emissions from motor vehicle sources changed from 1999–2008 in Baltimore City?\n",
    "\n",
    "# Select Maryland/Baltimore and ON-ROAD subset:\n",
    "ssNEI <- NEI[NEI$fips==\"24510\" & NEI$type==\"ON-ROAD\",  ]\n",
    "\n",
    "aggregatedTotalByYear <- aggregate(Emissions ~ year, ssNEI, sum)\n",
    "\n",
    "#png(\"plot5.png\", width=840, height=480)\n",
    "g <- ggplot(aggregatedTotalByYear, aes(factor(year), Emissions))\n",
    "g <- g + geom_bar(stat=\"identity\") + xlab(\"year\") + ylab(expression('Total PM'[2.5]*\" Emissions\")) +\n",
    "         ggtitle('Total Emissions from cars (ON-ROAD) in Baltimore City [1999-2008]')\n",
    "print(g)\n",
    "dev.copy(png, \"plot5.png\")\n",
    "dev.off()"
   ]
  },
  {
   "cell_type": "code",
   "execution_count": null,
   "metadata": {
    "collapsed": false
   },
   "outputs": [],
   "source": [
    "# Peer1\n",
    "\n",
    "#ssc_data_url <- \"https://d396qusza40orc.cloudfront.net/exdata%2Fdata%2FNEI_data.zip\"\n",
    "#ssc_data_dir <- file.path(getwd(), \"data\")\n",
    "#dir.create(ssc_data_dir, showWarnings = FALSE)\n",
    "\n",
    "#ssc_plots_dir <- file.path(getwd(), \"plots\")\n",
    "#dir.create(ssc_plots_dir, showWarnings = FALSE)\n",
    "\n",
    "#exdata_data_zip <- file.path(ssc_data_dir, \"exdata-data-NEI_data.zip\")\n",
    "nei_rds <- file.path(ssc_data_dir, \"summarySCC_PM25.rds\")\n",
    "ssc_rds <- file.path(ssc_data_dir, \"Source_Classification_Code.rds\")\n",
    "\n",
    "#if (!file.exists(exdata_data_zip)) \n",
    "#  download.file(ssc_data_url, exdata_data_zip, quiet = TRUE)\n",
    "#if (!file.exists(ssc_rds) | !file.exists(nei_rds)) \n",
    "#  unzip(exdata_data_zip, exdir = ssc_data_dir)\n",
    "\n",
    "stopifnot(file.exists(ssc_rds) & file.exists(nei_rds))\n",
    "\n",
    "if(!exists(\"nei_clean\"))\n",
    "  nei_clean <- readRDS(nei_rds)\n",
    "if(!exists(\"scc_clean\"))\n",
    "  scc_clean <- readRDS(ssc_rds)\n",
    "\n",
    "scc <- subset(scc_clean, grepl(\"Vehicles\", EI.Sector))\n",
    "nei <- nei_clean[nei_clean$SCC %in% scc$SCC & nei_clean$fips == '24510',]\n",
    "\n",
    "nei_agg <- aggregate(Emissions ~ year, nei, sum)\n",
    "\n",
    "#png(file = file.path(getwd(), \"plots/plot5.png\"))\n",
    "opt <- options(\"scipen\" = 20)\n",
    "barplot(nei_agg$Emissions, names=nei_agg$year, xlab = 'Year', ylab = 'Emissions (tons of PM2.5)', main='Baltimore City, Maryland PM2.5 Emissions from Vehicles')\n",
    "dev.copy(png, \"plot5.png\")\n",
    "dev.off()"
   ]
  },
  {
   "cell_type": "code",
   "execution_count": null,
   "metadata": {
    "collapsed": false
   },
   "outputs": [],
   "source": [
    "# Peer2\n",
    "\n",
    "library(\"ggplot2\")\n",
    "\n",
    "# Load Data\n",
    "NEI <- readRDS(\"summarySCC_PM25.rds\")\n",
    "SCC <- readRDS(\"Source_Classification_Code.rds\")\n",
    "\n",
    "# Filter Baltimore Data\n",
    "Bal_Vehicles <- NEI[NEI$fips == \"24510\" & NEI$type == \"ON-ROAD\",]\n",
    "\n",
    "# Aggregate Data\n",
    "emissions_by_year <- aggregate(Emissions ~ year, Bal_Vehicles, sum, na.omit = TRUE)\n",
    "\n",
    "# Image Device\n",
    "#png(filename=\"plot5.png\", height=600, width=600, bg=\"transparent\")\n",
    "\n",
    "# Create Plot\n",
    "ggplot(emissions_by_year, aes(x = factor(year), y = Emissions)) +\n",
    "       geom_bar(stat=\"identity\") +\n",
    "       xlab(\"Year\") +\n",
    "       ylab(\"Total PM2.5\") +\n",
    "       ggtitle(\"Total emissions of PM2.5 for Motor Vehicles\\nBaltimore City, Maryland\")\n",
    "\n",
    "dev.copy(png, \"plot5.png\")\n",
    "\n",
    "#Close device\n",
    "dev.off()\n"
   ]
  },
  {
   "cell_type": "code",
   "execution_count": null,
   "metadata": {
    "collapsed": false
   },
   "outputs": [],
   "source": [
    "# Peer3\n",
    "\n",
    "# Download and unzip data\n",
    "#data.url <- \"https://d396qusza40orc.cloudfront.net/exdata%2Fdata%2FNEI_data.zip\"\n",
    "\n",
    "#if (!file.exists(\"data\"))\n",
    "#    dir.create(\"data\")\n",
    "\n",
    "#data.path <- file.path(\"data\", \"NEI.zip\")\n",
    "#download.file(data.url, data.path, method = \"curl\")\n",
    "#unzip(data.path, exdir = \"data\")\n",
    "\n",
    "# Load data\n",
    "NEI <- readRDS(file.path(\"data\", \"summarySCC_PM25.rds\"))\n",
    "SCC <- readRDS(file.path(\"data\", \"Source_Classification_Code.rds\"))\n",
    "\n",
    "NEI.table <- tbl_df(NEI)\n",
    "SCC.table <- tbl_df(SCC)\n",
    "\n",
    "rm(NEI)\n",
    "rm(SCC)\n",
    "\n",
    "#transformations\n",
    "library(dplyr)\n",
    "NEI.table <- tbl_df(NEI)\n",
    "NEI.table <- mutate(NEI.table, fips= factor(fips, exclude = NULL))\n",
    "NEI.table <- mutate(NEI.table, SCC= factor(SCC, exclude = NULL))\n",
    "NEI.table <- mutate(NEI.table, Pollutant= factor(Pollutant, exclude = NULL))\n",
    "NEI.table <- mutate(NEI.table, type= factor(type, exclude = NULL))\n",
    "NEI.table <- mutate(NEI.table, year= factor(year, exclude = NULL))\n",
    "\n",
    "# Q 5\n",
    "# Criteria:\n",
    "# I decided to go with the following criteria for motor vehicles\n",
    "# SCC.Level.One = Mobile Sources\n",
    "# EI.Sector contains \"On-Road\"\n",
    "\n",
    "mobile <- filter(SCC.table, SCC.Level.One == \"Mobile Sources\", Data.Category== \"Onroad\")\n",
    "\n",
    "# Remove totals to prevent double counting\n",
    "mobile.no.total <- filter(mobile, !grepl(\"[[Tt]otal\", mobile$Short.Name))\n",
    "\n",
    "baltimore.emission <- filter(NEI.table, fips==\"24510\")\n",
    "baltimore.mobile <- filter(baltimore.emission, SCC %in% mobile.no.total$SCC)\n",
    "baltimore.mobile <- merge(baltimore.mobile, mobile.no.total[,c(1,4)], by= \"SCC\")\n",
    "\n",
    "# Check sums with the plot\n",
    "# list <- split(baltimore.mobile$Emissions, list(baltimore.mobile$year, baltimore.mobile$EI.Sector), drop = T)\n",
    "# sum.list <- lapply(list, sum, na.rm=T)\n",
    "# sum.list\n",
    "\n",
    "ggplot(data= baltimore.mobile, aes(x= year, y= Emissions, group= EI.Sector, fill= EI.Sector)) +\n",
    "    stat_summary(fun.y= sum, geom=\"bar\", position= \"dodge\") + \n",
    "    facet_wrap(~EI.Sector, scales= \"free_y\") +\n",
    "    theme(legend.position=\"none\")\n",
    "\n",
    "ggsave(\"plot5.png\", width = 7, height = 7)\n"
   ]
  },
  {
   "cell_type": "code",
   "execution_count": null,
   "metadata": {
    "collapsed": false
   },
   "outputs": [],
   "source": [
    "# Peer4\n",
    "\n",
    "neiData <- readRDS(\"./summarySCC_PM25.rds\")\n",
    "sccData <- readRDS(\"./Source_Classification_Code.rds\")\n",
    "\n",
    "subset <- neiData[neiData$fips == \"24510\", ] \n",
    "\n",
    "#par(\"mar\"=c(5.1, 4.5, 4.1, 2.1))\n",
    "#png(filename = \"plot5.png\", width = 480, height = 480, units = \"px\")\n",
    "motor <- grep(\"motor\", sccData$Short.Name, ignore.case = T)\n",
    "motor <- sccData[motor, ]\n",
    "motor <- subset[subset$SCC %in% motor$SCC, ]\n",
    "motorEmissions <- aggregate(motor$Emissions, list(motor$year), FUN = \"sum\")\n",
    "\n",
    "plot(motorEmissions, type = \"l\", xlab = \"Year\", \n",
    "     main = \"Total Emissions From Motor Vehicle Sources\\n from 1999 to 2008 in Baltimore City\", \n",
    "     ylab = expression('Total PM'[2.5]*\" Emission\"))\n",
    "\n",
    "dev.copy(png, \"plot5.png\")\n",
    "dev.off()\n"
   ]
  },
  {
   "cell_type": "markdown",
   "metadata": {},
   "source": [
    "# Plot6"
   ]
  },
  {
   "cell_type": "code",
   "execution_count": null,
   "metadata": {
    "collapsed": false
   },
   "outputs": [],
   "source": [
    "## This first line will likely take a few seconds. Be patient!\n",
    "if(!exists(\"NEI\")){ NEI <- readRDS(\"summarySCC_PM25.rds\") }\n",
    "if(!exists(\"SCC\")){ SCC <- readRDS(\"Source_Classification_Code.rds\") }\n",
    "\n",
    "# merge the two data sets\n",
    "if(!exists(\"NEISCC\")){ NEISCC <- merge(NEI, SCC, by=\"SCC\") }\n",
    "\n",
    "library(ggplot2)\n",
    "\n",
    "# Q6: Compare emissions from motor vehicle sources in Baltimore City with emissions from motor vehicle sources in Los Angeles County, California (fips == \"06037\").\n",
    "#     Which city has seen greater changes over time in motor vehicle emissions?\n",
    "\n",
    "# Select Maryland/Baltimore or LA/Ca and ON-ROAD subset:\n",
    "subsetNEI <- NEI[(NEI$fips==\"24510\"|NEI$fips==\"06037\") & NEI$type==\"ON-ROAD\",  ]\n",
    "\n",
    "aggregatedTotalByYearAndFips <- aggregate(Emissions ~ year + fips, subsetNEI, sum)\n",
    "aggregatedTotalByYearAndFips$fips[aggregatedTotalByYearAndFips$fips==\"24510\"] <- \"Baltimore, MD\"\n",
    "aggregatedTotalByYearAndFips$fips[aggregatedTotalByYearAndFips$fips==\"06037\"] <- \"Los Angeles, CA\"\n",
    "\n",
    "#png(\"plot6.png\")\n",
    "g <- ggplot(aggregatedTotalByYearAndFips, aes(factor(year), Emissions))\n",
    "g <- g + facet_grid(. ~ fips)\n",
    "g <- g + geom_bar(stat=\"identity\") + xlab(\"year\") + ylab(expression('Total PM'[2.5]*\" Emissions\")) +\n",
    "         ggtitle('Total Emissions from motor vehicle (type=ON-ROAD) in Baltimore City, MD vs Los Angeles, CA [1999-2008]')\n",
    "print(g)\n",
    "dev.copy(png, \"plot6.png\")\n",
    "dev.off()"
   ]
  },
  {
   "cell_type": "code",
   "execution_count": null,
   "metadata": {
    "collapsed": false
   },
   "outputs": [],
   "source": [
    "# Peer1\n",
    "\n",
    "#ssc_data_url <- \"https://d396qusza40orc.cloudfront.net/exdata%2Fdata%2FNEI_data.zip\"\n",
    "#ssc_data_dir <- file.path(getwd(), \"data\")\n",
    "#dir.create(ssc_data_dir, showWarnings = FALSE)\n",
    "\n",
    "#ssc_plots_dir <- file.path(getwd(), \"plots\")\n",
    "#dir.create(ssc_plots_dir, showWarnings = FALSE)\n",
    "\n",
    "#exdata_data_zip <- file.path(ssc_data_dir, \"exdata-data-NEI_data.zip\")\n",
    "nei_rds <- file.path(ssc_data_dir, \"summarySCC_PM25.rds\")\n",
    "ssc_rds <- file.path(ssc_data_dir, \"Source_Classification_Code.rds\")\n",
    "\n",
    "#if (!file.exists(exdata_data_zip)) \n",
    "#  download.file(ssc_data_url, exdata_data_zip, quiet = TRUE)\n",
    "#if (!file.exists(ssc_rds) | !file.exists(nei_rds)) \n",
    "#  unzip(exdata_data_zip, exdir = ssc_data_dir)\n",
    "\n",
    "stopifnot(file.exists(ssc_rds) & file.exists(nei_rds))\n",
    "\n",
    "if(!exists(\"nei_clean\"))\n",
    "  nei_clean <- readRDS(nei_rds)\n",
    "if(!exists(\"scc_clean\"))\n",
    "  scc_clean <- readRDS(ssc_rds)\n",
    "\n",
    "scc <- subset(scc_clean, grepl(\"Vehicles\", EI.Sector))\n",
    "nei <- nei_clean[nei_clean$SCC %in% scc$SCC & (nei_clean$fips == '24510' | nei_clean$fips == '06037'),]\n",
    "\n",
    "nei_agg <- aggregate(Emissions ~ year+fips, nei, sum)\n",
    "\n",
    "nei_agg$area[nei_agg$fips=='24510'] <- \"Baltimore City, Maryland\"\n",
    "nei_agg$area[nei_agg$fips=='06037'] <- \"Los Angeles County, California\"\n",
    "\n",
    "balitmore_first_year <- min(nei_agg[nei_agg$fips == '24510','year'])\n",
    "nei_agg$EmissionsIndex[nei_agg$fips=='24510'] <- \n",
    "  nei_agg$Emissions[nei_agg$fips=='24510'] / \n",
    "  nei_agg[nei_agg$year == balitmore_first_year & nei_agg$fips == '24510','Emissions']\n",
    "\n",
    "la_first_year <- min(nei_agg[nei_agg$fips == '06037','year']) \n",
    "nei_agg$EmissionsIndex[nei_agg$fips=='06037'] <- \n",
    "  nei_agg$Emissions[nei_agg$fips=='06037'] / \n",
    "  nei_agg[nei_agg$year == la_first_year & nei_agg$fips == '06037','Emissions']\n",
    "\n",
    "#png(file = file.path(getwd(), \"plots/plot6.png\"))\n",
    "\n",
    "ggplot(nei_agg, aes(year, EmissionsIndex, colour=area)) + \n",
    "  geom_line(size = 2) + \n",
    "  ylab('PM2.5 Vehicles Emission Index') + \n",
    "  xlab('Year') + \n",
    "  ggtitle('Baltimore City, Maryland \\n versus \\n Los Angeles County, California \\n PM2.5 Vehicles Emission Index') + \n",
    "  theme(plot.title = element_text(size = rel(1.5))) +\n",
    "  theme(axis.title.y = element_text(size = rel(1.2))) +\n",
    "  theme(axis.title.x = element_text(size = rel(1.2))) +\n",
    "  theme(axis.text = element_text(size = rel(1.2))) +\n",
    "  theme(legend.position=\"bottom\")\n",
    "\n",
    "dev.copy(png, \"plot6.png\")\n",
    "dev.off()\n"
   ]
  },
  {
   "cell_type": "code",
   "execution_count": null,
   "metadata": {
    "collapsed": false
   },
   "outputs": [],
   "source": [
    "# Peer2\n",
    "\n",
    "library(\"ggplot2\")\n",
    "\n",
    "# Load Data\n",
    "NEI <- readRDS(\"summarySCC_PM25.rds\")\n",
    "SCC <- readRDS(\"Source_Classification_Code.rds\")\n",
    "\n",
    "# Filter Baltimore and Los Angeles Data\n",
    "Bal_LA_Vehicles <- NEI[(NEI$fips == \"24510\" | NEI$fips == \"06037\") & NEI$type == \"ON-ROAD\",]\n",
    "Bal_LA_Vehicles$City <- as.factor(ifelse(Bal_LA_Vehicles$fips == \"24510\", \"Baltimore City\", \"Los Angeles County\"))\n",
    "\n",
    "\n",
    "# Aggregate Data\n",
    "emissions_by_year_fips <- aggregate(Emissions ~ year + City, Bal_LA_Vehicles, mean, na.omit = TRUE)\n",
    "\n",
    "# Image Device\n",
    "#png(filename=\"plot6.png\", height=600, width=600, bg=\"transparent\")\n",
    "\n",
    "# Create Plot\n",
    "ggplot(emissions_by_year_fips, aes(x = factor(year), y = Emissions)) +\n",
    "       geom_bar(stat=\"identity\") +\n",
    "       facet_grid(City  ~ ., scales=\"free\") +\n",
    "       xlab(\"Year\") +\n",
    "       ylab(\"Average PM2.5\") +\n",
    "       ggtitle(\"Average emissions of PM2.5\\n\")\n",
    "\n",
    "#Close device\n",
    "dev.copy(png, \"plot6.png\")\n",
    "dev.off()\n"
   ]
  },
  {
   "cell_type": "code",
   "execution_count": null,
   "metadata": {
    "collapsed": false
   },
   "outputs": [],
   "source": [
    "# Peer3\n",
    "\n",
    "\n",
    "\n",
    "# Download and unzip data\n",
    "#data.url <- \"https://d396qusza40orc.cloudfront.net/exdata%2Fdata%2FNEI_data.zip\"\n",
    "\n",
    "#if (!file.exists(\"data\"))\n",
    "#    dir.create(\"data\")\n",
    "\n",
    "#data.path <- file.path(\"data\", \"NEI.zip\")\n",
    "#download.file(data.url, data.path, method = \"curl\")\n",
    "#unzip(data.path, exdir = \"data\")\n",
    "\n",
    "# Load data\n",
    "NEI <- readRDS(file.path(\"data\", \"summarySCC_PM25.rds\"))\n",
    "SCC <- readRDS(file.path(\"data\", \"Source_Classification_Code.rds\"))\n",
    "\n",
    "NEI.table <- tbl_df(NEI)\n",
    "SCC.table <- tbl_df(SCC)\n",
    "\n",
    "rm(NEI)\n",
    "rm(SCC)\n",
    "\n",
    "#transformations\n",
    "library(dplyr)\n",
    "NEI.table <- tbl_df(NEI)\n",
    "NEI.table <- mutate(NEI.table, fips= factor(fips, exclude = NULL))\n",
    "NEI.table <- mutate(NEI.table, SCC= factor(SCC, exclude = NULL))\n",
    "NEI.table <- mutate(NEI.table, Pollutant= factor(Pollutant, exclude = NULL))\n",
    "NEI.table <- mutate(NEI.table, type= factor(type, exclude = NULL))\n",
    "NEI.table <- mutate(NEI.table, year= factor(year, exclude = NULL))\n",
    "\n",
    "# Q 6\n",
    "# Motor Vehicle Emission: Baltimore vs. Los Angeles\n",
    "mobile <- filter(SCC.table, SCC.Level.One == \"Mobile Sources\", Data.Category== \"Onroad\")\n",
    "\n",
    "# Remove totals to prevent double counting\n",
    "mobile.no.total <- filter(mobile, !grepl(\"[[Tt]otal\", mobile$Short.Name))\n",
    "\n",
    "baltimore.emission <- filter(NEI.table, fips==\"24510\")\n",
    "baltimore.mobile <- filter(baltimore.emission, SCC %in% mobile.no.total$SCC)\n",
    "baltimore.mobile <- merge(baltimore.mobile, mobile.no.total[,c(1,4)], by= \"SCC\")\n",
    "\n",
    "la.emission <- filter(NEI.table, fips==\"06037\")\n",
    "la.mobile <- filter(la.emission, SCC %in% mobile.no.total$SCC)\n",
    "la.mobile <- merge(la.mobile, mobile.no.total[,c(1,4)], by= \"SCC\")\n",
    "\n",
    "# Check sums with the plots\n",
    "# list <- split(baltimore.mobile$Emissions, list(baltimore.mobile$year), drop = T)\n",
    "# baltimore.sum.list <- lapply(list, sum, na.rm=T)\n",
    "# \n",
    "# list <- split(la.mobile$Emissions, list(la.mobile$year), drop = T)\n",
    "# la.sum.list <- lapply(list, sum, na.rm=T)\n",
    "\n",
    "la.mobile <- mutate(la.mobile, city=factor(\"Los Angeles\"))\n",
    "baltimore.mobile <- mutate(baltimore.mobile, city=factor(\"Baltimore\"))\n",
    "\n",
    "data <- rbind(baltimore.mobile, la.mobile)\n",
    "\n",
    "ggplot(data, aes(x= year, y= Emissions, group= city, fill= city)) +\n",
    "    stat_summary(fun.y= sum, geom=\"bar\") +\n",
    "    facet_wrap(~city, scales = \"free_y\")\n",
    "\n",
    "ggsave(\"plot6.png\")"
   ]
  },
  {
   "cell_type": "code",
   "execution_count": null,
   "metadata": {
    "collapsed": false
   },
   "outputs": [],
   "source": [
    "# Peer4\n",
    "\n",
    "neiData <- readRDS(\"./summarySCC_PM25.rds\")\n",
    "sccData <- readRDS(\"./Source_Classification_Code.rds\")\n",
    "\n",
    "subset <- neiData[neiData$fips == \"24510\"|neiData$fips == \"06037\", ]\n",
    "\n",
    "library(ggplot2)\n",
    "par(\"mar\"=c(5.1, 4.5, 4.1, 2.1))\n",
    "#png(filename = \"plot6.png\", width = 480, height = 480, units = \"px\", bg = \"transparent\")\n",
    "motor <- grep(\"motor\", sccData$Short.Name, ignore.case = T)\n",
    "motor <- sccData[motor, ]\n",
    "motor <- subset[subset$SCC %in% motor$SCC, ]\n",
    "\n",
    "g <- ggplot(motor, aes(year, Emissions, color = fips))\n",
    "g + geom_line(stat = \"summary\", fun.y = \"sum\") +\n",
    "  ylab(expression('Total PM'[2.5]*\" Emissions\")) +\n",
    "  ggtitle(\"Comparison of Total Emissions From Motor\\n Vehicle Sources in Baltimore City\\n and Los Angeles County from 1999 to 2008\") +\n",
    "  scale_colour_discrete(name = \"Group\", label = c(\"Los Angeles\",\"Baltimore\"))\n",
    "\n",
    "dev.copy(png, \"plot6.png\")\n",
    "dev.off()\n"
   ]
  },
  {
   "cell_type": "markdown",
   "metadata": {
    "collapsed": true
   },
   "source": [
    "---\n",
    "[TOP](#TOP)\n",
    "\n",
    "## Swirl\n"
   ]
  },
  {
   "cell_type": "code",
   "execution_count": null,
   "metadata": {
    "collapsed": false
   },
   "outputs": [],
   "source": [
    "pkgTest(\"ggplot2\")\n",
    "pkgTest(\"colorspace\")\n",
    "pkgTest(\"RColorBrewer\")\n",
    "pkgTest(\"dichromat\")\n",
    "pkgTest(\"munsell\")\n",
    "pkgTest(\"labeling\")\n",
    "pkgTest(\"gtable\")\n",
    "pkgTest(\"scales\")\n",
    "pkgTest(\"jpeg\")\n"
   ]
  },
  {
   "cell_type": "markdown",
   "metadata": {},
   "source": [
    "## DataScience Specialization materials https://github.com/DataScienceSpecialization/courses/\n",
    "\n",
    "## Edward Tuftes' principles: [here](http://www.edwardtufte.com)\n",
    "\n",
    "## Simpsons Paradox (or Yule-Simspson effect) [here](http://en.wikipedia.org/wiki/Simpson%27s_paradox)\n",
    "Simpson's paradox, or the Yule–Simpson effect, is a paradox in probability and statistics, in which a trend appears in different groups of data but disappears or reverses when these groups are combined. It is sometimes given the impersonal title reversal paradox or amalgamation paradox"
   ]
  },
  {
   "cell_type": "code",
   "execution_count": null,
   "metadata": {
    "collapsed": false
   },
   "outputs": [],
   "source": [
    "pkgTest(\"datasets\")\n",
    "mtcars\n",
    "summary(mtcars)\n",
    "summary(mtcars$wt)\n",
    "quantile(mtcars$wt)"
   ]
  },
  {
   "cell_type": "code",
   "execution_count": null,
   "metadata": {
    "collapsed": false
   },
   "outputs": [],
   "source": [
    "boxplot(mtcars$wt, col=\"blue\")\n",
    "# Note: the whiskers (horizontal lines above/below the box) represent 1.5*quartiles (ro represent outliers but not the max. values)\n",
    "\n",
    "abline(h=4)"
   ]
  },
  {
   "cell_type": "code",
   "execution_count": null,
   "metadata": {
    "collapsed": false
   },
   "outputs": [],
   "source": [
    "hist(mtcars$wt, col=\"green\")\n",
    "\n",
    "# Draws black frequency marks below histogram\n",
    "rug(mtcars$wt)\n",
    "# e.g. to show there are 4 tick marks below 2:\n",
    "mtcars$wt[mtcars$wt < 2]"
   ]
  },
  {
   "cell_type": "code",
   "execution_count": null,
   "metadata": {
    "collapsed": false
   },
   "outputs": [],
   "source": [
    "hist(mtcars$wt, col=\"green\", breaks=100) # Break histogram into 100 buckets\n",
    "\n",
    "rug(mtcars$wt)\n",
    "\n",
    "abline(v=3.5, col='magenta', lwd=4)\n",
    "abline(v = median(mtcars$wt), col = \"yellow\", lwd = 4)"
   ]
  },
  {
   "cell_type": "code",
   "execution_count": null,
   "metadata": {
    "collapsed": false
   },
   "outputs": [],
   "source": [
    "names(mtcars)\n",
    "weight <- table(mtcars$wt)\n",
    "barplot(weight, col='purple', main='Plot Title - weight distribution')"
   ]
  },
  {
   "cell_type": "code",
   "execution_count": null,
   "metadata": {
    "collapsed": false
   },
   "outputs": [],
   "source": [
    "names(mtcars)\n",
    "boxplot(mpg ~ carb, data=mtcars, col='green')\n",
    "?mtcars"
   ]
  },
  {
   "cell_type": "code",
   "execution_count": null,
   "metadata": {
    "collapsed": false
   },
   "outputs": [],
   "source": [
    "# Setup for parallel plots with row/cols=2/1, margins\n",
    "#par(mfrow=c(2,1),mar=c(4,4,2,1))\n",
    "\n",
    "# Setup for parallel plots with row/cols=1/2, margins\n",
    "# doesn't work? par(mfrow=c(1,2),mar=c(4,4,2,1))\n",
    "\n",
    "lowmpg <- subset(mtcars, mpg < 15)\n",
    "highmpg <- subset(mtcars, mpg >=15)\n",
    "\n",
    "lowmpg\n",
    "highmpg"
   ]
  },
  {
   "cell_type": "code",
   "execution_count": null,
   "metadata": {
    "collapsed": false
   },
   "outputs": [],
   "source": [
    "hist(lowmpg$mpg, col='green')\n",
    "hist(highmpg$mpg, col='red')\n",
    "hist(subset(mtcars, mpg >=15)$mpg, col='red')"
   ]
  },
  {
   "cell_type": "code",
   "execution_count": null,
   "metadata": {
    "collapsed": false
   },
   "outputs": [],
   "source": [
    "with(mtcars, plot(wt, mpg, col='red'))\n",
    "abline(h=20, lwd=2, lty=2) # lwd=width of 2, lty=dotted line\n"
   ]
  },
  {
   "cell_type": "code",
   "execution_count": null,
   "metadata": {
    "collapsed": false
   },
   "outputs": [],
   "source": [
    "plot(mtcars$wt, mtcars$mpg, col=mtcars$cyl) # coloured by number of cylinders\n",
    "abline(h=20, lwd=2, lty=2, col='blue')"
   ]
  },
  {
   "cell_type": "code",
   "execution_count": null,
   "metadata": {
    "collapsed": false
   },
   "outputs": [],
   "source": [
    "par(mfrow = c(1, 2), mar = c(5, 4, 2, 1))\n",
    "\n",
    "plot(lowmpg$wt, lowmpg$mpg, main=\"Low MPG\")\n",
    "plot(highmpg$wt, highmpg$mpg, main=\"High MPG\")"
   ]
  },
  {
   "cell_type": "code",
   "execution_count": null,
   "metadata": {
    "collapsed": true
   },
   "outputs": [],
   "source": [
    "library(help = \"datasets\")\n"
   ]
  },
  {
   "cell_type": "code",
   "execution_count": null,
   "metadata": {
    "collapsed": false
   },
   "outputs": [],
   "source": [
    "pkgTest(\"dplyr\")"
   ]
  },
  {
   "cell_type": "code",
   "execution_count": null,
   "metadata": {
    "collapsed": true
   },
   "outputs": [],
   "source": []
  }
 ],
 "metadata": {
  "kernelspec": {
   "display_name": "R",
   "language": "R",
   "name": "ir"
  },
  "language_info": {
   "codemirror_mode": "r",
   "file_extension": ".r",
   "mimetype": "text/x-r-source",
   "name": "R",
   "pygments_lexer": "r",
   "version": "3.2.4"
  },
  "widgets": {
   "state": {},
   "version": "1.1.2"
  }
 },
 "nbformat": 4,
 "nbformat_minor": 0
}
