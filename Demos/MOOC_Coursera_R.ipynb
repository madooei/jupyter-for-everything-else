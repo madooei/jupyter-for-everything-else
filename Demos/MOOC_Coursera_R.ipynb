{
 "cells": [
  {
   "cell_type": "markdown",
   "metadata": {},
   "source": [
    "## TOP\n",
    "# [MOOC] Coursera: ExploratoryDataAnalysis\n",
    "\n",
    "Courses: https://www.coursera.org/specialization/jhudatascience/1/courses\n",
    "\n",
    "\n",
    "### Sections:\n",
    "[Quiz1](#Quiz1)\n",
    "[Quiz2](#Quiz2)\n",
    "[Quiz3](#Quiz3)\n",
    "[Quiz4](#Quiz4)\n",
    "[PA1](#PA1)\n",
    "[PA2](#PA2)\n",
    "[Swirl](#Swirl)\n",
    "\n"
   ]
  },
  {
   "cell_type": "code",
   "execution_count": 1,
   "metadata": {
    "collapsed": false
   },
   "outputs": [
    {
     "name": "stdout",
     "output_type": "stream",
     "text": [
      "[1] \"Setting default repo to ' http://cran.rstudio.com/ '\"\n"
     ]
    }
   ],
   "source": [
    "repo=\"http://cran.rstudio.com/\"\n",
    "print( paste(\"Setting default repo to '\", repo, \"'\"))\n",
    "options(repos=structure(c(CRAN=repo)))\n",
    "\n",
    "pkgTest <- function(x) {\n",
    "    if (!require(x,character.only = TRUE)) {\n",
    "        install.packages(x,dep=TRUE)\n",
    "        if(!require(x,character.only = TRUE))\n",
    "            stop(\"Package not found\")\n",
    "    }\n",
    "}\n",
    "\n",
    "downloadFile <- function(url, destfile, method) {\n",
    "    if (!file.exists(destfile)) {\n",
    "        print( paste(\"Downloading '\", destfile, \"' from url '\", url, \"'\") )\n",
    "        download.file(url, destfile, method)\n",
    "    } else {\n",
    "        print( paste(\"File '\", destfile, \"' already downloaded\") )   \n",
    "    }\n",
    "}\n",
    "\n",
    "summarizeDF <- function(name, df, headL=2L, tailL=2L) {\n",
    "    print( paste(\"Table[\", name, \"] has \", nrow(df), \" rows, \", ncol(df), \" cols\") )\n",
    "    str(df)\n",
    "    summary(df)\n",
    "    if (headL != 0) {\n",
    "        print( head(df, n=headL) )\n",
    "    }\n",
    "    if (tailL + headL != 0) {\n",
    "        #print (labels(df))\n",
    "    } else {\n",
    "        print(\"...\")\n",
    "    }\n",
    "    if (tailL != 0) {\n",
    "        print ( tail(df, n=tailL) )\n",
    "    }\n",
    "}\n",
    "   "
   ]
  },
  {
   "cell_type": "markdown",
   "metadata": {},
   "source": [
    "# Quiz1:"
   ]
  },
  {
   "cell_type": "markdown",
   "metadata": {},
   "source": [
    "## Question 1\n",
    "Which of the following is a principle of analytic graphics?\n",
    "Your Answer\t\tScore\tExplanation\n",
    "Don't plot more than two variables at at time\t\t\t\n",
    "Show causality, mechanism, explanation\tCorrect\t1.00\t\n",
    "Make judicious use of color in your scatterplots\t\t\t\n",
    "Only do what your tools allow you to do\t\t\t\n",
    "Show box plots (univariate summaries)\t\t\t\n",
    "Total\t\t1.00 / 1.00\t"
   ]
  },
  {
   "cell_type": "markdown",
   "metadata": {},
   "source": [
    "## Question 2\n",
    "What is the role of exploratory graphs in data analysis?\n",
    "Your Answer\t\tScore\tExplanation\n",
    "Only a few are constructed.\t\t\t\n",
    "The goal is for personal understanding.\tCorrect\t1.00\t\n",
    "They are used in place of formal modeling.\t\t\t\n",
    "Axes, legends, and other details are clean and exactly detailed.\t\t\t\n",
    "Total\t\t1.00 / 1.00\t"
   ]
  },
  {
   "cell_type": "markdown",
   "metadata": {},
   "source": [
    "## Question 3\n",
    "Which of the following is true about the base plotting system?\n",
    "Your Answer\t\tScore\tExplanation\n",
    "The system is most useful for conditioning plots\t\t\t\n",
    "Plots are created and annotated with separate functions\tCorrect\t1.00\tFunctions like 'plot' or 'hist' typically create the plot on the graphics device and functions like 'lines', 'text', or 'points' will annotate or add data to the plot.\n",
    "Margins and spacings are adjusted automatically depending on the type of plot and the data\t\t\t\n",
    "Plots are typically created with a single function call\t\t\t\n",
    "Total\t\t1.00 / 1.00\t"
   ]
  },
  {
   "cell_type": "markdown",
   "metadata": {},
   "source": [
    "## Question 4\n",
    "Which of the following is an example of a valid graphics device in R?\n",
    "Your Answer\t\tScore\tExplanation\n",
    "A Microsoft Word document\t\t\t\n",
    "A file folder\t\t\t\n",
    "A socket connection\t\t\t\n",
    "A PDF file\tCorrect\t1.00\t\n",
    "Total\t\t1.00 / 1.00\t"
   ]
  },
  {
   "cell_type": "markdown",
   "metadata": {},
   "source": [
    "## Question 5\n",
    "Which of the following is an example of a vector graphics device in R?\n",
    "Your Answer\t\tScore\tExplanation\n",
    "TIFF\t\t\t\n",
    "GIF\t\t\t\n",
    "Postscript\tCorrect\t1.00\t\n",
    "JPEG\t\t\t\n",
    "Total\t\t1.00 / 1.00\t"
   ]
  },
  {
   "cell_type": "markdown",
   "metadata": {},
   "source": [
    "## Question 6\n",
    "Bitmapped file formats can be most useful for\n",
    "Your Answer\t\tScore\tExplanation\n",
    "Plots that may need to be resized\t\t\t\n",
    "Plots that are not scaled to a specific resolution\t\t\t\n",
    "Plots that require animation or interactivity\t\t\t\n",
    "Scatterplots with many many points\tCorrect\t1.00\t\n",
    "Total\t\t1.00 / 1.00\t"
   ]
  },
  {
   "cell_type": "markdown",
   "metadata": {},
   "source": [
    "## Question 7\n",
    "Which of the following functions is typically used to add elements to a plot in the base graphics system?\n",
    "Your Answer\t\tScore\tExplanation\n",
    "lines()\tCorrect\t1.00\t\n",
    "boxplot()\t\t\t\n",
    "plot()\t\t\t\n",
    "hist()\t\t\t\n",
    "Total\t\t1.00 / 1.00\t"
   ]
  },
  {
   "cell_type": "markdown",
   "metadata": {},
   "source": [
    "## Question 8\n",
    "Which function opens the screen graphics device on Windows?\n",
    "Your Answer\t\tScore\tExplanation\n",
    "jpeg()\t\t\t\n",
    "xfig()\t\t\t\n",
    "postscript()\t\t\t\n",
    "windows()\tCorrect\t1.00\t\n",
    "Total\t\t1.00 / 1.00\t"
   ]
  },
  {
   "cell_type": "markdown",
   "metadata": {},
   "source": [
    "## Question 9\n",
    "What does the 'pch' option to par() control?\n",
    "Your Answer\t\tScore\tExplanation\n",
    "the orientation of the axis labels on the plot\t\t\t\n",
    "the line width in the base graphics system\t\t\t\n",
    "the plotting symbol/character in the base graphics system\tCorrect\t1.00\t\n",
    "the size of the plotting symbol in a scatterplot\t\t\t\n",
    "Total\t\t1.00 / 1.00\t"
   ]
  },
  {
   "cell_type": "markdown",
   "metadata": {},
   "source": [
    "## Question 10\n",
    "If I want to save a plot to a PDF file, which of the following is a correct way of doing that?\n",
    "Your Answer\t\tScore\tExplanation\n",
    "Construct the plot on the screen device and then copy it to a PDF file with dev.copy2pdf()\tCorrect\t1.00\t\n",
    "Open the screen device with quartz(), construct the plot, and then close the device with dev.off().\t\t\t\n",
    "Construct the plot on the PNG device with png(), then copy it to a PDF with dev.copy2pdf().\t\t\t\n",
    "Open the PostScript device with postscript(), construct the plot, then close the device with dev.off().\t\t\t\n",
    "Total\t\t1.00 / 1.00\t"
   ]
  },
  {
   "cell_type": "markdown",
   "metadata": {},
   "source": [
    "---\n",
    "[TOP](#TOP)\n",
    "# Quiz2"
   ]
  },
  {
   "cell_type": "markdown",
   "metadata": {
    "collapsed": true
   },
   "source": [
    "---\n",
    "[TOP](#TOP)\n",
    "# Quiz3\n"
   ]
  },
  {
   "cell_type": "markdown",
   "metadata": {},
   "source": [
    "---\n",
    "[TOP](#TOP)\n",
    "# Quiz4"
   ]
  },
  {
   "cell_type": "markdown",
   "metadata": {},
   "source": [
    "---\n",
    "[TOP](#TOP)\n",
    "# PA1"
   ]
  },
  {
   "cell_type": "markdown",
   "metadata": {},
   "source": [
    "Introduction\n",
    "\n",
    "This assignment uses data from the UC Irvine Machine Learning Repository, a popular repository for machine learning datasets. In particular, we will be using the “Individual household electric power consumption Data Set” which I have made available on the course web site:\n",
    "\n",
    "Dataset: Electric power consumption [20Mb]\n",
    "\n",
    "Description: Measurements of electric power consumption in one household with a one-minute sampling rate over a period of almost 4 years. Different electrical quantities and some sub-metering values are available.\n",
    "\n",
    "The following descriptions of the 9 variables in the dataset are taken from the UCI web site:\n",
    "\n",
    "Date: Date in format dd/mm/yyyy\n",
    "Time: time in format hh:mm:ss\n",
    "Global_active_power: household global minute-averaged active power (in kilowatt)\n",
    "Global_reactive_power: household global minute-averaged reactive power (in kilowatt)\n",
    "Voltage: minute-averaged voltage (in volt)\n",
    "Global_intensity: household global minute-averaged current intensity (in ampere)\n",
    "Sub_metering_1: energy sub-metering No. 1 (in watt-hour of active energy). It corresponds to the kitchen, containing mainly a dishwasher, an oven and a microwave (hot plates are not electric but gas powered).\n",
    "Sub_metering_2: energy sub-metering No. 2 (in watt-hour of active energy). It corresponds to the laundry room, containing a washing-machine, a tumble-drier, a refrigerator and a light.\n",
    "Sub_metering_3: energy sub-metering No. 3 (in watt-hour of active energy). It corresponds to an electric water-heater and an air-conditioner.\n",
    "Loading the data\n",
    "\n",
    "When loading the dataset into R, please consider the following:\n",
    "\n",
    "The dataset has 2,075,259 rows and 9 columns. First calculate a rough estimate of how much memory the dataset will require in memory before reading into R. Make sure your computer has enough memory (most modern computers should be fine).\n",
    "\n",
    "We will only be using data from the dates 2007-02-01 and 2007-02-02. One alternative is to read the data from just those dates rather than reading in the entire dataset and subsetting to those dates.\n",
    "\n",
    "You may find it useful to convert the Date and Time variables to Date/Time classes in R using the strptime() and as.Date() functions.\n",
    "\n",
    "Note that in this dataset missing values are coded as ?.\n",
    "\n",
    "Making Plots\n",
    "\n",
    "Our overall goal here is simply to examine how household energy usage varies over a 2-day period in February, 2007. Your task is to reconstruct the following plots below, all of which were constructed using the base plotting system.\n",
    "\n",
    "First you will need to fork and clone the following GitHub repository: https://github.com/rdpeng/ExData_Plotting1\n",
    "\n",
    "For each plot you should\n",
    "\n",
    "Construct the plot and save it to a PNG file with a width of 480 pixels and a height of 480 pixels.\n",
    "\n",
    "Name each of the plot files as plot1.png, plot2.png, etc.\n",
    "\n",
    "Create a separate R code file (plot1.R, plot2.R, etc.) that constructs the corresponding plot, i.e. code in plot1.R constructs the plot1.png plot. Your code file should include code for reading the data so that the plot can be fully reproduced. You must also include the code that creates the PNG file.\n",
    "Add the PNG file and R code file to the top-level folder of your git repository (no need for separate sub-folders)\n",
    "When you are finished with the assignment, push your git repository to GitHub so that the GitHub version of your repository is up to date. There should be four PNG files and four R code files, a total of eight files in the top-level folder of the repo.\n",
    "\n",
    "The four plots that you will need to construct are shown below.\n",
    "\n",
    "Plot 1\n",
    "\n",
    "ExDataCP1Plot1.png\n",
    "\n",
    "Plot 2\n",
    "\n",
    "ExDataCP1Plot2.png\n",
    "\n",
    "Plot 3\n",
    "\n",
    "ExDataCP1Plot3.png\n",
    "\n",
    "Plot 4\n",
    "\n",
    "ExDataCP1Plot4.png\n",
    "\n",
    "Reviewing the Assignments\n",
    "\n",
    "Keep in mind this course is about exploratory graphs, understanding the data, and developing strategies. Here's a good quote from a swirl lesson about exploratory graphs: \"They help us find patterns in data and understand its properties. They suggest modeling strategies and help to debug analyses. We DON'T use exploratory graphs to communicate results.\"\n",
    "\n",
    "The rubrics should always be interpreted in that context.\n",
    "\n",
    "As you do your evaluation, please keep an open mind and focus on the positive. The goal is not to deduct points over small deviations from the requirements or for legitimate differences in implementation styles, etc. Look for ways to give points when it's clear that the submitter has given a good faith effort to do the project, and when it's likely that they've succeeded. Most importantly, it's okay if a person did something differently from the way that you did it. The point is not to see if someone managed to match your way of doing things, but to see if someone objectively accomplished the task at hand.\n",
    "\n",
    "To that end, keep the following things in mind:\n",
    "\n",
    "DO\n",
    "\n",
    "Review the source code.\n",
    "Keep an open mind and focus on the positive.≤/li>\n",
    "When in doubt, err on the side of giving too many points, rather than giving too few.\n",
    "Ask yourself if a plot might answer a question for the person who created it.\n",
    "Remember that not everyone has the same statistical background and knowledge.\n",
    "DON'T:\n",
    "\n",
    "Deduct just because you disagree with someone's statistical methods.\n",
    "Deduct just because you disagree with someone's plotting methods.\n",
    "Deduct based on aesthetics."
   ]
  },
  {
   "cell_type": "code",
   "execution_count": 2,
   "metadata": {
    "collapsed": false
   },
   "outputs": [
    {
     "name": "stdout",
     "output_type": "stream",
     "text": [
      "[1] \"Downloading ' expdata-PA1-data.zip ' from url ' https://d396qusza40orc.cloudfront.net/exdata%2Fdata%2Fhousehold_power_consumption.zip '\"\n",
      "[1] \"Unzipping file  expdata-PA1-data.zip  because no ' household_power_consumption.txt ' file present\"\n"
     ]
    }
   ],
   "source": [
    "url <- 'https://d396qusza40orc.cloudfront.net/exdata%2Fdata%2Fhousehold_power_consumption.zip'\n",
    "zip=\"expdata-PA1-data.zip\"\n",
    "dataFile=\"household_power_consumption.txt\"\n",
    "#dataFile=\"household_power_consumption.100\"\n",
    "\n",
    "downloadFile(url, zip)\n",
    "\n",
    "if (!file.exists(dataFile)) {\n",
    "    print( paste(\"Unzipping file \", zip, \" because no '\", dataFile, \"' file present\") )\n",
    "    unzip(zip)\n",
    "} else {\n",
    "    print( paste(\"File '\", dataFile, \"' already present\") )    \n",
    "}\n",
    "\n",
    "if (!file.exists(dataFile)) {\n",
    "    print( paste(\"Failed to unzip \", zip, \" file\") )\n",
    "}"
   ]
  },
  {
   "cell_type": "code",
   "execution_count": 3,
   "metadata": {
    "collapsed": false
   },
   "outputs": [
    {
     "data": {
      "text/plain": [
       "     Date               Time           Global_active_power\n",
       " Length:2075259     Length:2075259     Min.   : 0.076     \n",
       " Class :character   Class :character   1st Qu.: 0.308     \n",
       " Mode  :character   Mode  :character   Median : 0.602     \n",
       "                                       Mean   : 1.092     \n",
       "                                       3rd Qu.: 1.528     \n",
       "                                       Max.   :11.122     \n",
       "                                       NA's   :25979      \n",
       " Global_reactive_power    Voltage      Global_intensity Sub_metering_1  \n",
       " Min.   :0.000         Min.   :223.2   Min.   : 0.200   Min.   : 0.000  \n",
       " 1st Qu.:0.048         1st Qu.:239.0   1st Qu.: 1.400   1st Qu.: 0.000  \n",
       " Median :0.100         Median :241.0   Median : 2.600   Median : 0.000  \n",
       " Mean   :0.124         Mean   :240.8   Mean   : 4.628   Mean   : 1.122  \n",
       " 3rd Qu.:0.194         3rd Qu.:242.9   3rd Qu.: 6.400   3rd Qu.: 0.000  \n",
       " Max.   :1.390         Max.   :254.2   Max.   :48.400   Max.   :88.000  \n",
       " NA's   :25979         NA's   :25979   NA's   :25979    NA's   :25979   \n",
       " Sub_metering_2   Sub_metering_3  \n",
       " Min.   : 0.000   Min.   : 0.000  \n",
       " 1st Qu.: 0.000   1st Qu.: 0.000  \n",
       " Median : 0.000   Median : 1.000  \n",
       " Mean   : 1.299   Mean   : 6.458  \n",
       " 3rd Qu.: 1.000   3rd Qu.:17.000  \n",
       " Max.   :80.000   Max.   :31.000  \n",
       " NA's   :25979    NA's   :25979   "
      ]
     },
     "metadata": {},
     "output_type": "display_data"
    },
    {
     "name": "stdout",
     "output_type": "stream",
     "text": [
      "[1] \"nrow(df)=2075259\"\n"
     ]
    }
   ],
   "source": [
    "df <- read.csv(dataFile, sep=';', na.strings='?', stringsAsFactors=FALSE)\n",
    "#pkgTest(\"sqldf\")\n",
    "#?sqldf\n",
    "summary(df)\n",
    "#?read.csv\n",
    "print(paste0(\"nrow(df)=\", nrow(df)))\n",
    "    "
   ]
  },
  {
   "cell_type": "code",
   "execution_count": 4,
   "metadata": {
    "collapsed": false
   },
   "outputs": [
    {
     "name": "stdout",
     "output_type": "stream",
     "text": [
      "[1] \"nrow(df)=2075259\"\n"
     ]
    },
    {
     "data": {
      "text/html": [
       "<table>\n",
       "<thead><tr><th></th><th scope=col>Date</th><th scope=col>Time</th><th scope=col>Global_active_power</th><th scope=col>Global_reactive_power</th><th scope=col>Voltage</th><th scope=col>Global_intensity</th><th scope=col>Sub_metering_1</th><th scope=col>Sub_metering_2</th><th scope=col>Sub_metering_3</th></tr></thead>\n",
       "<tbody>\n",
       "\t<tr><th scope=row>1</th><td>2006-12-16</td><td>17:24:00</td><td>4.216</td><td>0.418</td><td>234.84</td><td>18.4</td><td>0</td><td>1</td><td>17</td></tr>\n",
       "\t<tr><th scope=row>2</th><td>2006-12-16</td><td>17:25:00</td><td>5.36</td><td>0.436</td><td>233.63</td><td>23</td><td>0</td><td>1</td><td>16</td></tr>\n",
       "\t<tr><th scope=row>3</th><td>2006-12-16</td><td>17:26:00</td><td>5.374</td><td>0.498</td><td>233.29</td><td>23</td><td>0</td><td>2</td><td>17</td></tr>\n",
       "\t<tr><th scope=row>4</th><td>2006-12-16</td><td>17:27:00</td><td>5.388</td><td>0.502</td><td>233.74</td><td>23</td><td>0</td><td>1</td><td>17</td></tr>\n",
       "\t<tr><th scope=row>5</th><td>2006-12-16</td><td>17:28:00</td><td>3.666</td><td>0.528</td><td>235.68</td><td>15.8</td><td>0</td><td>1</td><td>17</td></tr>\n",
       "\t<tr><th scope=row>6</th><td>2006-12-16</td><td>17:29:00</td><td>3.52</td><td>0.522</td><td>235.02</td><td>15</td><td>0</td><td>2</td><td>17</td></tr>\n",
       "</tbody>\n",
       "</table>\n"
      ],
      "text/latex": [
       "\\begin{tabular}{r|lllllllll}\n",
       "  & Date & Time & Global_active_power & Global_reactive_power & Voltage & Global_intensity & Sub_metering_1 & Sub_metering_2 & Sub_metering_3\\\\\n",
       "\\hline\n",
       "\t1 & 2006-12-16 & 17:24:00 & 4.216 & 0.418 & 234.84 & 18.4 & 0 & 1 & 17\\\\\n",
       "\t2 & 2006-12-16 & 17:25:00 & 5.36 & 0.436 & 233.63 & 23 & 0 & 1 & 16\\\\\n",
       "\t3 & 2006-12-16 & 17:26:00 & 5.374 & 0.498 & 233.29 & 23 & 0 & 2 & 17\\\\\n",
       "\t4 & 2006-12-16 & 17:27:00 & 5.388 & 0.502 & 233.74 & 23 & 0 & 1 & 17\\\\\n",
       "\t5 & 2006-12-16 & 17:28:00 & 3.666 & 0.528 & 235.68 & 15.8 & 0 & 1 & 17\\\\\n",
       "\t6 & 2006-12-16 & 17:29:00 & 3.52 & 0.522 & 235.02 & 15 & 0 & 2 & 17\\\\\n",
       "\\end{tabular}\n"
      ],
      "text/plain": [
       "        Date     Time Global_active_power Global_reactive_power Voltage\n",
       "1 2006-12-16 17:24:00               4.216                 0.418  234.84\n",
       "2 2006-12-16 17:25:00               5.360                 0.436  233.63\n",
       "3 2006-12-16 17:26:00               5.374                 0.498  233.29\n",
       "4 2006-12-16 17:27:00               5.388                 0.502  233.74\n",
       "5 2006-12-16 17:28:00               3.666                 0.528  235.68\n",
       "6 2006-12-16 17:29:00               3.520                 0.522  235.02\n",
       "  Global_intensity Sub_metering_1 Sub_metering_2 Sub_metering_3\n",
       "1             18.4              0              1             17\n",
       "2             23.0              0              1             16\n",
       "3             23.0              0              2             17\n",
       "4             23.0              0              1             17\n",
       "5             15.8              0              1             17\n",
       "6             15.0              0              2             17"
      ]
     },
     "metadata": {},
     "output_type": "display_data"
    },
    {
     "data": {
      "text/html": [
       "<table>\n",
       "<thead><tr><th></th><th scope=col>Date</th><th scope=col>Time</th><th scope=col>Global_active_power</th><th scope=col>Global_reactive_power</th><th scope=col>Voltage</th><th scope=col>Global_intensity</th><th scope=col>Sub_metering_1</th><th scope=col>Sub_metering_2</th><th scope=col>Sub_metering_3</th></tr></thead>\n",
       "<tbody>\n",
       "\t<tr><th scope=row>66637</th><td>2007-02-01</td><td>00:00:00</td><td>0.326</td><td>0.128</td><td>243.15</td><td>1.4</td><td>0</td><td>0</td><td>0</td></tr>\n",
       "\t<tr><th scope=row>66638</th><td>2007-02-01</td><td>00:01:00</td><td>0.326</td><td>0.13</td><td>243.32</td><td>1.4</td><td>0</td><td>0</td><td>0</td></tr>\n",
       "\t<tr><th scope=row>66639</th><td>2007-02-01</td><td>00:02:00</td><td>0.324</td><td>0.132</td><td>243.51</td><td>1.4</td><td>0</td><td>0</td><td>0</td></tr>\n",
       "\t<tr><th scope=row>66640</th><td>2007-02-01</td><td>00:03:00</td><td>0.324</td><td>0.134</td><td>243.9</td><td>1.4</td><td>0</td><td>0</td><td>0</td></tr>\n",
       "\t<tr><th scope=row>66641</th><td>2007-02-01</td><td>00:04:00</td><td>0.322</td><td>0.13</td><td>243.16</td><td>1.4</td><td>0</td><td>0</td><td>0</td></tr>\n",
       "\t<tr><th scope=row>66642</th><td>2007-02-01</td><td>00:05:00</td><td>0.32</td><td>0.126</td><td>242.29</td><td>1.4</td><td>0</td><td>0</td><td>0</td></tr>\n",
       "</tbody>\n",
       "</table>\n"
      ],
      "text/latex": [
       "\\begin{tabular}{r|lllllllll}\n",
       "  & Date & Time & Global_active_power & Global_reactive_power & Voltage & Global_intensity & Sub_metering_1 & Sub_metering_2 & Sub_metering_3\\\\\n",
       "\\hline\n",
       "\t66637 & 2007-02-01 & 00:00:00 & 0.326 & 0.128 & 243.15 & 1.4 & 0 & 0 & 0\\\\\n",
       "\t66638 & 2007-02-01 & 00:01:00 & 0.326 & 0.13 & 243.32 & 1.4 & 0 & 0 & 0\\\\\n",
       "\t66639 & 2007-02-01 & 00:02:00 & 0.324 & 0.132 & 243.51 & 1.4 & 0 & 0 & 0\\\\\n",
       "\t66640 & 2007-02-01 & 00:03:00 & 0.324 & 0.134 & 243.9 & 1.4 & 0 & 0 & 0\\\\\n",
       "\t66641 & 2007-02-01 & 00:04:00 & 0.322 & 0.13 & 243.16 & 1.4 & 0 & 0 & 0\\\\\n",
       "\t66642 & 2007-02-01 & 00:05:00 & 0.32 & 0.126 & 242.29 & 1.4 & 0 & 0 & 0\\\\\n",
       "\\end{tabular}\n"
      ],
      "text/plain": [
       "            Date     Time Global_active_power Global_reactive_power Voltage\n",
       "66637 2007-02-01 00:00:00               0.326                 0.128  243.15\n",
       "66638 2007-02-01 00:01:00               0.326                 0.130  243.32\n",
       "66639 2007-02-01 00:02:00               0.324                 0.132  243.51\n",
       "66640 2007-02-01 00:03:00               0.324                 0.134  243.90\n",
       "66641 2007-02-01 00:04:00               0.322                 0.130  243.16\n",
       "66642 2007-02-01 00:05:00               0.320                 0.126  242.29\n",
       "      Global_intensity Sub_metering_1 Sub_metering_2 Sub_metering_3\n",
       "66637              1.4              0              0              0\n",
       "66638              1.4              0              0              0\n",
       "66639              1.4              0              0              0\n",
       "66640              1.4              0              0              0\n",
       "66641              1.4              0              0              0\n",
       "66642              1.4              0              0              0"
      ]
     },
     "metadata": {},
     "output_type": "display_data"
    },
    {
     "data": {
      "text/plain": [
       "      Date                Time           Global_active_power\n",
       " Min.   :2007-02-01   Length:2880        Min.   :0.220      \n",
       " 1st Qu.:2007-02-01   Class :character   1st Qu.:0.320      \n",
       " Median :2007-02-01   Mode  :character   Median :1.060      \n",
       " Mean   :2007-02-01                      Mean   :1.213      \n",
       " 3rd Qu.:2007-02-02                      3rd Qu.:1.688      \n",
       " Max.   :2007-02-02                      Max.   :7.482      \n",
       " Global_reactive_power    Voltage      Global_intensity Sub_metering_1   \n",
       " Min.   :0.0000        Min.   :233.1   Min.   : 1.000   Min.   : 0.0000  \n",
       " 1st Qu.:0.0000        1st Qu.:238.4   1st Qu.: 1.400   1st Qu.: 0.0000  \n",
       " Median :0.1040        Median :240.6   Median : 4.600   Median : 0.0000  \n",
       " Mean   :0.1006        Mean   :240.4   Mean   : 5.102   Mean   : 0.4062  \n",
       " 3rd Qu.:0.1440        3rd Qu.:242.4   3rd Qu.: 7.000   3rd Qu.: 0.0000  \n",
       " Max.   :0.5000        Max.   :246.6   Max.   :32.000   Max.   :38.0000  \n",
       " Sub_metering_2   Sub_metering_3  \n",
       " Min.   :0.0000   Min.   : 0.000  \n",
       " 1st Qu.:0.0000   1st Qu.: 0.000  \n",
       " Median :0.0000   Median : 0.000  \n",
       " Mean   :0.2576   Mean   : 8.501  \n",
       " 3rd Qu.:0.0000   3rd Qu.:17.000  \n",
       " Max.   :2.0000   Max.   :19.000  "
      ]
     },
     "metadata": {},
     "output_type": "display_data"
    },
    {
     "name": "stdout",
     "output_type": "stream",
     "text": [
      "[1] \"nrow(ss)=2880\"\n"
     ]
    }
   ],
   "source": [
    "# parse dates, subset rows, and name columns\n",
    "print(paste0(\"nrow(df)=\", nrow(df)))\n",
    "df$Date <- as.Date(df$Date,  format='%d/%m/%Y')\n",
    "head(df)\n",
    "\n",
    "ss <- subset(df, Date >= as.Date('2007-02-01') & Date <= as.Date('2007-02-02'))\n",
    "names(ss) <- c('Date', 'Time', 'Global_active_power', 'Global_reactive_power', 'Voltage', 'Global_intensity', 'Sub_metering_1', 'Sub_metering_2', 'Sub_metering_3')\n",
    "\n",
    "head(ss)\n",
    "summary(ss)\n",
    "#nrow(ss)\n",
    "print(paste0(\"nrow(ss)=\", nrow(ss)))\n"
   ]
  },
  {
   "cell_type": "code",
   "execution_count": 5,
   "metadata": {
    "collapsed": false
   },
   "outputs": [
    {
     "data": {
      "text/html": [
       "<table>\n",
       "<thead><tr><th></th><th scope=col>Date</th><th scope=col>Time</th><th scope=col>Global_active_power</th><th scope=col>Global_reactive_power</th><th scope=col>Voltage</th><th scope=col>Global_intensity</th><th scope=col>Sub_metering_1</th><th scope=col>Sub_metering_2</th><th scope=col>Sub_metering_3</th></tr></thead>\n",
       "<tbody>\n",
       "\t<tr><th scope=row>66637</th><td>2007-02-01</td><td>00:00:00</td><td>0.326</td><td>0.128</td><td>243.15</td><td>1.4</td><td>0</td><td>0</td><td>0</td></tr>\n",
       "\t<tr><th scope=row>66638</th><td>2007-02-01</td><td>00:01:00</td><td>0.326</td><td>0.13</td><td>243.32</td><td>1.4</td><td>0</td><td>0</td><td>0</td></tr>\n",
       "\t<tr><th scope=row>66639</th><td>2007-02-01</td><td>00:02:00</td><td>0.324</td><td>0.132</td><td>243.51</td><td>1.4</td><td>0</td><td>0</td><td>0</td></tr>\n",
       "\t<tr><th scope=row>66640</th><td>2007-02-01</td><td>00:03:00</td><td>0.324</td><td>0.134</td><td>243.9</td><td>1.4</td><td>0</td><td>0</td><td>0</td></tr>\n",
       "\t<tr><th scope=row>66641</th><td>2007-02-01</td><td>00:04:00</td><td>0.322</td><td>0.13</td><td>243.16</td><td>1.4</td><td>0</td><td>0</td><td>0</td></tr>\n",
       "\t<tr><th scope=row>66642</th><td>2007-02-01</td><td>00:05:00</td><td>0.32</td><td>0.126</td><td>242.29</td><td>1.4</td><td>0</td><td>0</td><td>0</td></tr>\n",
       "</tbody>\n",
       "</table>\n"
      ],
      "text/latex": [
       "\\begin{tabular}{r|lllllllll}\n",
       "  & Date & Time & Global_active_power & Global_reactive_power & Voltage & Global_intensity & Sub_metering_1 & Sub_metering_2 & Sub_metering_3\\\\\n",
       "\\hline\n",
       "\t66637 & 2007-02-01 & 00:00:00 & 0.326 & 0.128 & 243.15 & 1.4 & 0 & 0 & 0\\\\\n",
       "\t66638 & 2007-02-01 & 00:01:00 & 0.326 & 0.13 & 243.32 & 1.4 & 0 & 0 & 0\\\\\n",
       "\t66639 & 2007-02-01 & 00:02:00 & 0.324 & 0.132 & 243.51 & 1.4 & 0 & 0 & 0\\\\\n",
       "\t66640 & 2007-02-01 & 00:03:00 & 0.324 & 0.134 & 243.9 & 1.4 & 0 & 0 & 0\\\\\n",
       "\t66641 & 2007-02-01 & 00:04:00 & 0.322 & 0.13 & 243.16 & 1.4 & 0 & 0 & 0\\\\\n",
       "\t66642 & 2007-02-01 & 00:05:00 & 0.32 & 0.126 & 242.29 & 1.4 & 0 & 0 & 0\\\\\n",
       "\\end{tabular}\n"
      ],
      "text/plain": [
       "            Date     Time Global_active_power Global_reactive_power Voltage\n",
       "66637 2007-02-01 00:00:00               0.326                 0.128  243.15\n",
       "66638 2007-02-01 00:01:00               0.326                 0.130  243.32\n",
       "66639 2007-02-01 00:02:00               0.324                 0.132  243.51\n",
       "66640 2007-02-01 00:03:00               0.324                 0.134  243.90\n",
       "66641 2007-02-01 00:04:00               0.322                 0.130  243.16\n",
       "66642 2007-02-01 00:05:00               0.320                 0.126  242.29\n",
       "      Global_intensity Sub_metering_1 Sub_metering_2 Sub_metering_3\n",
       "66637              1.4              0              0              0\n",
       "66638              1.4              0              0              0\n",
       "66639              1.4              0              0              0\n",
       "66640              1.4              0              0              0\n",
       "66641              1.4              0              0              0\n",
       "66642              1.4              0              0              0"
      ]
     },
     "metadata": {},
     "output_type": "display_data"
    },
    {
     "data": {
      "text/html": [
       "<table>\n",
       "<thead><tr><th></th><th scope=col>Date</th><th scope=col>Time</th><th scope=col>Global_active_power</th><th scope=col>Global_reactive_power</th><th scope=col>Voltage</th><th scope=col>Global_intensity</th><th scope=col>Sub_metering_1</th><th scope=col>Sub_metering_2</th><th scope=col>Sub_metering_3</th></tr></thead>\n",
       "<tbody>\n",
       "\t<tr><th scope=row>66637</th><td>2007-02-01</td><td>00:00:00</td><td>0.326</td><td>0.128</td><td>243.15</td><td>1.4</td><td>0</td><td>0</td><td>0</td></tr>\n",
       "</tbody>\n",
       "</table>\n"
      ],
      "text/latex": [
       "\\begin{tabular}{r|lllllllll}\n",
       "  & Date & Time & Global_active_power & Global_reactive_power & Voltage & Global_intensity & Sub_metering_1 & Sub_metering_2 & Sub_metering_3\\\\\n",
       "\\hline\n",
       "\t66637 & 2007-02-01 & 00:00:00 & 0.326 & 0.128 & 243.15 & 1.4 & 0 & 0 & 0\\\\\n",
       "\\end{tabular}\n"
      ],
      "text/plain": [
       "            Date     Time Global_active_power Global_reactive_power Voltage\n",
       "66637 2007-02-01 00:00:00               0.326                 0.128  243.15\n",
       "      Global_intensity Sub_metering_1 Sub_metering_2 Sub_metering_3\n",
       "66637              1.4              0              0              0"
      ]
     },
     "metadata": {},
     "output_type": "display_data"
    },
    {
     "data": {
      "text/html": [
       "\"Date\""
      ],
      "text/latex": [
       "\"Date\""
      ],
      "text/markdown": [
       "\"Date\""
      ],
      "text/plain": [
       "[1] \"Date\""
      ]
     },
     "metadata": {},
     "output_type": "display_data"
    },
    {
     "data": {
      "text/html": [
       "\"character\""
      ],
      "text/latex": [
       "\"character\""
      ],
      "text/markdown": [
       "\"character\""
      ],
      "text/plain": [
       "[1] \"character\""
      ]
     },
     "metadata": {},
     "output_type": "display_data"
    },
    {
     "data": {
      "text/html": [
       "<ol class=list-inline>\n",
       "\t<li>\"POSIXlt\"</li>\n",
       "\t<li>\"POSIXt\"</li>\n",
       "</ol>\n"
      ],
      "text/latex": [
       "\\begin{enumerate*}\n",
       "\\item \"POSIXlt\"\n",
       "\\item \"POSIXt\"\n",
       "\\end{enumerate*}\n"
      ],
      "text/markdown": [
       "1. \"POSIXlt\"\n",
       "2. \"POSIXt\"\n",
       "\n",
       "\n"
      ],
      "text/plain": [
       "[1] \"POSIXlt\" \"POSIXt\" "
      ]
     },
     "metadata": {},
     "output_type": "display_data"
    }
   ],
   "source": [
    "head(ss)\n",
    "\n",
    "head(ss[1,])\n",
    "class(ss$Date[1])\n",
    "\n",
    "dt <- paste(ss$Date[1], ss$Time[1])\n",
    "class(dt)\n",
    "\n",
    "dt <- strptime(dt, format = \"%Y-%m-%d %H:%M:%S\")\n",
    "class(dt)\n"
   ]
  },
  {
   "cell_type": "code",
   "execution_count": 6,
   "metadata": {
    "collapsed": false
   },
   "outputs": [
    {
     "data": {
      "text/html": [
       "<table>\n",
       "<thead><tr><th></th><th scope=col>Date</th><th scope=col>Time</th><th scope=col>Global_active_power</th><th scope=col>Global_reactive_power</th><th scope=col>Voltage</th><th scope=col>Global_intensity</th><th scope=col>Sub_metering_1</th><th scope=col>Sub_metering_2</th><th scope=col>Sub_metering_3</th><th scope=col>DateTime</th></tr></thead>\n",
       "<tbody>\n",
       "\t<tr><th scope=row>66637</th><td>2007-02-01</td><td>00:00:00</td><td>0.326</td><td>0.128</td><td>243.15</td><td>1.4</td><td>0</td><td>0</td><td>0</td><td>2007-02-01</td></tr>\n",
       "\t<tr><th scope=row>66638</th><td>2007-02-01</td><td>00:01:00</td><td>0.326</td><td>0.13</td><td>243.32</td><td>1.4</td><td>0</td><td>0</td><td>0</td><td>2007-02-01 00:01:00</td></tr>\n",
       "\t<tr><th scope=row>66639</th><td>2007-02-01</td><td>00:02:00</td><td>0.324</td><td>0.132</td><td>243.51</td><td>1.4</td><td>0</td><td>0</td><td>0</td><td>2007-02-01 00:02:00</td></tr>\n",
       "\t<tr><th scope=row>66640</th><td>2007-02-01</td><td>00:03:00</td><td>0.324</td><td>0.134</td><td>243.9</td><td>1.4</td><td>0</td><td>0</td><td>0</td><td>2007-02-01 00:03:00</td></tr>\n",
       "\t<tr><th scope=row>66641</th><td>2007-02-01</td><td>00:04:00</td><td>0.322</td><td>0.13</td><td>243.16</td><td>1.4</td><td>0</td><td>0</td><td>0</td><td>2007-02-01 00:04:00</td></tr>\n",
       "\t<tr><th scope=row>66642</th><td>2007-02-01</td><td>00:05:00</td><td>0.32</td><td>0.126</td><td>242.29</td><td>1.4</td><td>0</td><td>0</td><td>0</td><td>2007-02-01 00:05:00</td></tr>\n",
       "</tbody>\n",
       "</table>\n"
      ],
      "text/latex": [
       "\\begin{tabular}{r|llllllllll}\n",
       "  & Date & Time & Global_active_power & Global_reactive_power & Voltage & Global_intensity & Sub_metering_1 & Sub_metering_2 & Sub_metering_3 & DateTime\\\\\n",
       "\\hline\n",
       "\t66637 & 2007-02-01 & 00:00:00 & 0.326 & 0.128 & 243.15 & 1.4 & 0 & 0 & 0 & 2007-02-01\\\\\n",
       "\t66638 & 2007-02-01 & 00:01:00 & 0.326 & 0.13 & 243.32 & 1.4 & 0 & 0 & 0 & 2007-02-01 00:01:00\\\\\n",
       "\t66639 & 2007-02-01 & 00:02:00 & 0.324 & 0.132 & 243.51 & 1.4 & 0 & 0 & 0 & 2007-02-01 00:02:00\\\\\n",
       "\t66640 & 2007-02-01 & 00:03:00 & 0.324 & 0.134 & 243.9 & 1.4 & 0 & 0 & 0 & 2007-02-01 00:03:00\\\\\n",
       "\t66641 & 2007-02-01 & 00:04:00 & 0.322 & 0.13 & 243.16 & 1.4 & 0 & 0 & 0 & 2007-02-01 00:04:00\\\\\n",
       "\t66642 & 2007-02-01 & 00:05:00 & 0.32 & 0.126 & 242.29 & 1.4 & 0 & 0 & 0 & 2007-02-01 00:05:00\\\\\n",
       "\\end{tabular}\n"
      ],
      "text/plain": [
       "            Date     Time Global_active_power Global_reactive_power Voltage\n",
       "66637 2007-02-01 00:00:00               0.326                 0.128  243.15\n",
       "66638 2007-02-01 00:01:00               0.326                 0.130  243.32\n",
       "66639 2007-02-01 00:02:00               0.324                 0.132  243.51\n",
       "66640 2007-02-01 00:03:00               0.324                 0.134  243.90\n",
       "66641 2007-02-01 00:04:00               0.322                 0.130  243.16\n",
       "66642 2007-02-01 00:05:00               0.320                 0.126  242.29\n",
       "      Global_intensity Sub_metering_1 Sub_metering_2 Sub_metering_3\n",
       "66637              1.4              0              0              0\n",
       "66638              1.4              0              0              0\n",
       "66639              1.4              0              0              0\n",
       "66640              1.4              0              0              0\n",
       "66641              1.4              0              0              0\n",
       "66642              1.4              0              0              0\n",
       "                 DateTime\n",
       "66637 2007-02-01 00:00:00\n",
       "66638 2007-02-01 00:01:00\n",
       "66639 2007-02-01 00:02:00\n",
       "66640 2007-02-01 00:03:00\n",
       "66641 2007-02-01 00:04:00\n",
       "66642 2007-02-01 00:05:00"
      ]
     },
     "metadata": {},
     "output_type": "display_data"
    },
    {
     "data": {
      "text/html": [
       "<table>\n",
       "<thead><tr><th></th><th scope=col>Global_active_power</th><th scope=col>Global_reactive_power</th><th scope=col>Voltage</th><th scope=col>Global_intensity</th><th scope=col>Sub_metering_1</th><th scope=col>Sub_metering_2</th><th scope=col>Sub_metering_3</th><th scope=col>DateTime</th></tr></thead>\n",
       "<tbody>\n",
       "\t<tr><th scope=row>66637</th><td>0.326</td><td>0.128</td><td>243.15</td><td>1.4</td><td>0</td><td>0</td><td>0</td><td>2007-02-01</td></tr>\n",
       "\t<tr><th scope=row>66638</th><td>0.326</td><td>0.13</td><td>243.32</td><td>1.4</td><td>0</td><td>0</td><td>0</td><td>2007-02-01 00:01:00</td></tr>\n",
       "\t<tr><th scope=row>66639</th><td>0.324</td><td>0.132</td><td>243.51</td><td>1.4</td><td>0</td><td>0</td><td>0</td><td>2007-02-01 00:02:00</td></tr>\n",
       "\t<tr><th scope=row>66640</th><td>0.324</td><td>0.134</td><td>243.9</td><td>1.4</td><td>0</td><td>0</td><td>0</td><td>2007-02-01 00:03:00</td></tr>\n",
       "\t<tr><th scope=row>66641</th><td>0.322</td><td>0.13</td><td>243.16</td><td>1.4</td><td>0</td><td>0</td><td>0</td><td>2007-02-01 00:04:00</td></tr>\n",
       "\t<tr><th scope=row>66642</th><td>0.32</td><td>0.126</td><td>242.29</td><td>1.4</td><td>0</td><td>0</td><td>0</td><td>2007-02-01 00:05:00</td></tr>\n",
       "</tbody>\n",
       "</table>\n"
      ],
      "text/latex": [
       "\\begin{tabular}{r|llllllll}\n",
       "  & Global_active_power & Global_reactive_power & Voltage & Global_intensity & Sub_metering_1 & Sub_metering_2 & Sub_metering_3 & DateTime\\\\\n",
       "\\hline\n",
       "\t66637 & 0.326 & 0.128 & 243.15 & 1.4 & 0 & 0 & 0 & 2007-02-01\\\\\n",
       "\t66638 & 0.326 & 0.13 & 243.32 & 1.4 & 0 & 0 & 0 & 2007-02-01 00:01:00\\\\\n",
       "\t66639 & 0.324 & 0.132 & 243.51 & 1.4 & 0 & 0 & 0 & 2007-02-01 00:02:00\\\\\n",
       "\t66640 & 0.324 & 0.134 & 243.9 & 1.4 & 0 & 0 & 0 & 2007-02-01 00:03:00\\\\\n",
       "\t66641 & 0.322 & 0.13 & 243.16 & 1.4 & 0 & 0 & 0 & 2007-02-01 00:04:00\\\\\n",
       "\t66642 & 0.32 & 0.126 & 242.29 & 1.4 & 0 & 0 & 0 & 2007-02-01 00:05:00\\\\\n",
       "\\end{tabular}\n"
      ],
      "text/plain": [
       "      Global_active_power Global_reactive_power Voltage Global_intensity\n",
       "66637               0.326                 0.128  243.15              1.4\n",
       "66638               0.326                 0.130  243.32              1.4\n",
       "66639               0.324                 0.132  243.51              1.4\n",
       "66640               0.324                 0.134  243.90              1.4\n",
       "66641               0.322                 0.130  243.16              1.4\n",
       "66642               0.320                 0.126  242.29              1.4\n",
       "      Sub_metering_1 Sub_metering_2 Sub_metering_3            DateTime\n",
       "66637              0              0              0 2007-02-01 00:00:00\n",
       "66638              0              0              0 2007-02-01 00:01:00\n",
       "66639              0              0              0 2007-02-01 00:02:00\n",
       "66640              0              0              0 2007-02-01 00:03:00\n",
       "66641              0              0              0 2007-02-01 00:04:00\n",
       "66642              0              0              0 2007-02-01 00:05:00"
      ]
     },
     "metadata": {},
     "output_type": "display_data"
    }
   ],
   "source": [
    "\n",
    "dts <- strptime(paste(ss$Date, ss$Time), format = \"%Y-%m-%d %H:%M:%S\")\n",
    "#dts[1]\n",
    "#dts[2]\n",
    "#dts[3]\n",
    "#dts[4]\n",
    " \n",
    "#df$dtime <- dts\n",
    "#df$dtime <- NULL\n",
    "#df$Date <- dts\n",
    "\n",
    "ss$DateTime <- dts\n",
    "head(ss)\n",
    "ss$Date <- NULL\n",
    "ss$Time <- NULL\n",
    "\n",
    "#names(ss[,1]) <- c('DateTime')\n",
    "head(ss)\n",
    "#newdf <- df[,3:]\n",
    "#head(newdf)"
   ]
  },
  {
   "cell_type": "code",
   "execution_count": 8,
   "metadata": {
    "collapsed": false
   },
   "outputs": [],
   "source": [
    "#?strptime"
   ]
  },
  {
   "cell_type": "code",
   "execution_count": 9,
   "metadata": {
    "collapsed": false
   },
   "outputs": [
    {
     "data": {
      "text/html": [
       "<table>\n",
       "<thead><tr><th></th><th scope=col>Global_active_power</th><th scope=col>Global_reactive_power</th><th scope=col>Voltage</th><th scope=col>Global_intensity</th><th scope=col>Sub_metering_1</th><th scope=col>Sub_metering_2</th><th scope=col>Sub_metering_3</th><th scope=col>DateTime</th></tr></thead>\n",
       "<tbody>\n",
       "\t<tr><th scope=row>69511</th><td>3.696</td><td>0.226</td><td>240.71</td><td>15.2</td><td>0</td><td>1</td><td>17</td><td>2007-02-02 23:54:00</td></tr>\n",
       "\t<tr><th scope=row>69512</th><td>3.696</td><td>0.226</td><td>240.9</td><td>15.2</td><td>0</td><td>1</td><td>18</td><td>2007-02-02 23:55:00</td></tr>\n",
       "\t<tr><th scope=row>69513</th><td>3.698</td><td>0.226</td><td>241.02</td><td>15.2</td><td>0</td><td>2</td><td>18</td><td>2007-02-02 23:56:00</td></tr>\n",
       "\t<tr><th scope=row>69514</th><td>3.684</td><td>0.224</td><td>240.48</td><td>15.2</td><td>0</td><td>1</td><td>18</td><td>2007-02-02 23:57:00</td></tr>\n",
       "\t<tr><th scope=row>69515</th><td>3.658</td><td>0.22</td><td>239.61</td><td>15.2</td><td>0</td><td>1</td><td>17</td><td>2007-02-02 23:58:00</td></tr>\n",
       "\t<tr><th scope=row>69516</th><td>3.68</td><td>0.224</td><td>240.37</td><td>15.2</td><td>0</td><td>2</td><td>18</td><td>2007-02-02 23:59:00</td></tr>\n",
       "</tbody>\n",
       "</table>\n"
      ],
      "text/latex": [
       "\\begin{tabular}{r|llllllll}\n",
       "  & Global_active_power & Global_reactive_power & Voltage & Global_intensity & Sub_metering_1 & Sub_metering_2 & Sub_metering_3 & DateTime\\\\\n",
       "\\hline\n",
       "\t69511 & 3.696 & 0.226 & 240.71 & 15.2 & 0 & 1 & 17 & 2007-02-02 23:54:00\\\\\n",
       "\t69512 & 3.696 & 0.226 & 240.9 & 15.2 & 0 & 1 & 18 & 2007-02-02 23:55:00\\\\\n",
       "\t69513 & 3.698 & 0.226 & 241.02 & 15.2 & 0 & 2 & 18 & 2007-02-02 23:56:00\\\\\n",
       "\t69514 & 3.684 & 0.224 & 240.48 & 15.2 & 0 & 1 & 18 & 2007-02-02 23:57:00\\\\\n",
       "\t69515 & 3.658 & 0.22 & 239.61 & 15.2 & 0 & 1 & 17 & 2007-02-02 23:58:00\\\\\n",
       "\t69516 & 3.68 & 0.224 & 240.37 & 15.2 & 0 & 2 & 18 & 2007-02-02 23:59:00\\\\\n",
       "\\end{tabular}\n"
      ],
      "text/plain": [
       "      Global_active_power Global_reactive_power Voltage Global_intensity\n",
       "69511               3.696                 0.226  240.71             15.2\n",
       "69512               3.696                 0.226  240.90             15.2\n",
       "69513               3.698                 0.226  241.02             15.2\n",
       "69514               3.684                 0.224  240.48             15.2\n",
       "69515               3.658                 0.220  239.61             15.2\n",
       "69516               3.680                 0.224  240.37             15.2\n",
       "      Sub_metering_1 Sub_metering_2 Sub_metering_3            DateTime\n",
       "69511              0              1             17 2007-02-02 23:54:00\n",
       "69512              0              1             18 2007-02-02 23:55:00\n",
       "69513              0              2             18 2007-02-02 23:56:00\n",
       "69514              0              1             18 2007-02-02 23:57:00\n",
       "69515              0              1             17 2007-02-02 23:58:00\n",
       "69516              0              2             18 2007-02-02 23:59:00"
      ]
     },
     "metadata": {},
     "output_type": "display_data"
    }
   ],
   "source": [
    "#?strftime\n",
    "#?as.Date\n",
    "\n",
    "tail(ss)"
   ]
  },
  {
   "cell_type": "code",
   "execution_count": 10,
   "metadata": {
    "collapsed": false,
    "scrolled": true
   },
   "outputs": [
    {
     "data": {
      "image/png": "[encoded data removed]",
      "text/plain": [
       "Plot with title \"Global Active Power\""
      ]
     },
     "metadata": {
      "image/svg+xml": {
       "isolated": true
      }
     },
     "output_type": "display_data"
    }
   ],
   "source": [
    "hist(ss$Global_active_power, col='red', main='Global Active Power', xlab='Global Active Power (killowatts)')"
   ]
  },
  {
   "cell_type": "code",
   "execution_count": 11,
   "metadata": {
    "collapsed": false
   },
   "outputs": [
    {
     "data": {
      "image/png": "[encoded data removed]",
      "text/plain": [
       "plot without title"
      ]
     },
     "metadata": {
      "image/svg+xml": {
       "isolated": true
      }
     },
     "output_type": "display_data"
    }
   ],
   "source": [
    "#strftime('2007-02-01 00:09:13', format='%a')\n",
    "\n",
    "ss$DoW <- strftime(ss$DateTime, format='%a')\n",
    "#head(ss)\n",
    "\n",
    "ss$DoW <- factor(ss$DoW, levels=c(\"Mon\", \"Tue\", \"Wed\", \"Thu\", \"Fri\", \"Sat\", \"Sun\"), ordered = TRUE)\n",
    "#head(ss)\n",
    "#tail(ss)\n",
    "#?strptime\n",
    "\n",
    "plot(as.numeric(ss$DateTime), ss$Global_active_power, type='l', ylab='Global Active Power (kilowatts)', xlab='', xaxt=\"n\") #, xlim=ss$DoW)\n",
    "axis(1, at=1:7, labels=c(\"Mon\", \"Tue\", \"Wed\", \"Thu\", \"Fri\", \"Sat\", \"Sun\"))\n",
    "\n",
    "#plot(ss$Global_active_power, ss$Global_active_power)\n",
    "#?plot"
   ]
  },
  {
   "cell_type": "code",
   "execution_count": 12,
   "metadata": {
    "collapsed": false
   },
   "outputs": [
    {
     "ename": "ERROR",
     "evalue": "Error in c[, 6:9]: object of type 'builtin' is not subsettable\n",
     "output_type": "error",
     "traceback": [
      "Error in c[, 6:9]: object of type 'builtin' is not subsettable\nTraceback:\n",
      "1. legend(\"topright\", names(c[, 6:9])[-1], lty = 1, col = colors, \n .     bty = \"o\", cex = 0.75, border = \"black\", lwd = 1, box.lwd = 1)"
     ]
    },
    {
     "data": {
      "image/png": "[encoded data removed]",
      "text/plain": [
       "plot without title"
      ]
     },
     "metadata": {
      "image/svg+xml": {
       "isolated": true
      }
     },
     "output_type": "display_data"
    }
   ],
   "source": [
    "colors = c(\"black\",\"red\", \"blue\")\n",
    "matplot(as.numeric(ss$DateTime), cbind(ss$Sub_metering_1,ss$Sub_metering_2,ss$Sub_metering_3),\n",
    "                                 col=colors,\n",
    "                                 lty=c(1,1,1),\n",
    "       type='l', ylab='Energy Sub Metering', xlab='', xaxt=\"n\")\n",
    "\n",
    "legend('topright', names(c[,6:9])[-1] , \n",
    "   lty=1, col=colors, bty='o', cex=.75,border = \"black\", lwd=1, box.lwd=1 )\n",
    "\n",
    "#axis(1, at=1:7, labels=c(\"Mon\", \"Tue\", \"Wed\", \"Thu\", \"Fri\", \"Sat\", \"Sun\"))\n",
    "#?matplot\n",
    "#plot(as.numeric(ss$DateTime), ss$Sub_metering_1, col='red', type='l', ylab='Energy Sub Metering', xlab='', xaxt=\"n\") #, xlim=ss$DoW)\n",
    "#par(new=TRUE)\n",
    "#plot(as.numeric(ss$DateTime), ss$Sub_metering_2, col='blue', type='l', ylab='', xlab='', xaxt=\"n\") #, xlim=ss$DoW)\n",
    "#par(new=TRUE)\n",
    "#plot(as.numeric(ss$DateTime), ss$Sub_metering_3, col='black', type='l', ylab='', xlab='', xaxt=\"n\") #, xlim=ss$DoW)\n",
    "\n"
   ]
  },
  {
   "cell_type": "code",
   "execution_count": 13,
   "metadata": {
    "collapsed": false
   },
   "outputs": [
    {
     "ename": "ERROR",
     "evalue": "Error in c[, 6:9]: object of type 'builtin' is not subsettable\n",
     "output_type": "error",
     "traceback": [
      "Error in c[, 6:9]: object of type 'builtin' is not subsettable\nTraceback:\n",
      "1. legend(\"topright\", names(c[, 6:9])[-1], lty = 1, col = colors, \n .     bty = \"o\", cex = 0.75, border = \"black\", lwd = 1, box.lwd = 1)"
     ]
    }
   ],
   "source": [
    "# Display a 2x2 array of plots\n",
    "\n",
    "par(mfrow=c(2,2))\n",
    "\n",
    "plot(as.numeric(ss$DateTime), ss$Global_active_power, type='l', ylab='Global Active Power (kilowatts)', xlab='', xaxt=\"n\") #, xlim=ss$DoW)\n",
    "\n",
    "plot(as.numeric(ss$DateTime), ss$Voltage, type='l', ylab='Voltage', xlab='datetime', xaxt=\"n\") #, xlim=ss$DoW)\n",
    "\n",
    "colors = c(\"black\",\"red\", \"blue\")\n",
    "matplot(as.numeric(ss$DateTime), cbind(ss$Sub_metering_1,ss$Sub_metering_2,ss$Sub_metering_3),\n",
    "                                 col=colors,\n",
    "                                 lty=c(1,1,1),\n",
    "       type='l', ylab='Energy Sub Metering', xlab='', xaxt=\"n\")\n",
    "\n",
    "legend('topright', names(c[,6:9])[-1] , \n",
    "   lty=1, col=colors, bty='o', cex=.75,border = \"black\", lwd=1, box.lwd=1 )\n",
    "\n",
    "plot(as.numeric(ss$DateTime), ss$Global_reactive_power, type='l', ylab='Global_reactive_power', xlab='', xaxt=\"n\") #, xlim=ss$DoW)\n",
    "\n"
   ]
  },
  {
   "cell_type": "markdown",
   "metadata": {},
   "source": [
    "---\n",
    "[TOP](#TOP)\n",
    "# PA2"
   ]
  },
  {
   "cell_type": "code",
   "execution_count": 14,
   "metadata": {
    "collapsed": false
   },
   "outputs": [
    {
     "name": "stdout",
     "output_type": "stream",
     "text": [
      "[1] \"Downloading ' exdata-data-NEI_data.zip ' from url ' https://d396qusza40orc.cloudfront.net/exdata%2Fdata%2FNEI_data.zip '\"\n",
      "[1] \"Unzipping file  exdata-data-NEI_data.zip  because no ' summarySCC_PM25.rds ' file present\"\n"
     ]
    }
   ],
   "source": [
    "#!ls\n",
    "\n",
    "url <- 'https://d396qusza40orc.cloudfront.net/exdata%2Fdata%2FNEI_data.zip'\n",
    "zip=\"exdata-data-NEI_data.zip\"\n",
    "\n",
    "dataFile=\"summarySCC_PM25.rds\"\n",
    "\n",
    "downloadFile(url, zip)\n",
    "\n",
    "if (!file.exists(dataFile)) {\n",
    "    print( paste(\"Unzipping file \", zip, \" because no '\", dataFile, \"' file present\") )\n",
    "    unzip(zip)\n",
    "} else {\n",
    "    print( paste(\"File '\", dataFile, \"' already present\") )    \n",
    "}\n",
    "\n",
    "if (!file.exists(dataFile)) {\n",
    "    print( paste(\"Failed to unzip \", zip, \" file\") )\n",
    "}"
   ]
  },
  {
   "cell_type": "code",
   "execution_count": 15,
   "metadata": {
    "collapsed": true
   },
   "outputs": [],
   "source": [
    "## This first line will likely take a few seconds. Be patient!\n",
    "NEI <- readRDS(\"summarySCC_PM25.rds\")\n",
    "SCC <- readRDS(\"Source_Classification_Code.rds\")"
   ]
  },
  {
   "cell_type": "code",
   "execution_count": 16,
   "metadata": {
    "collapsed": false
   },
   "outputs": [
    {
     "data": {
      "text/plain": [
       "     fips               SCC             Pollutant           Emissions       \n",
       " Length:6497651     Length:6497651     Length:6497651     Min.   :     0.0  \n",
       " Class :character   Class :character   Class :character   1st Qu.:     0.0  \n",
       " Mode  :character   Mode  :character   Mode  :character   Median :     0.0  \n",
       "                                                          Mean   :     3.4  \n",
       "                                                          3rd Qu.:     0.1  \n",
       "                                                          Max.   :646952.0  \n",
       "     type                year     \n",
       " Length:6497651     Min.   :1999  \n",
       " Class :character   1st Qu.:2002  \n",
       " Mode  :character   Median :2005  \n",
       "                    Mean   :2004  \n",
       "                    3rd Qu.:2008  \n",
       "                    Max.   :2008  "
      ]
     },
     "metadata": {},
     "output_type": "display_data"
    },
    {
     "data": {
      "text/plain": [
       "       SCC         Data.Category \n",
       " 10100101:    1   Biogenic:  82  \n",
       " 10100102:    1   Event   :  71  \n",
       " 10100201:    1   Nonpoint:2305  \n",
       " 10100202:    1   Nonroad : 572  \n",
       " 10100203:    1   Onroad  :1137  \n",
       " 10100204:    1   Point   :7550  \n",
       " (Other) :11711                  \n",
       "                                                          Short.Name   \n",
       "                                                               :   61  \n",
       " Paved Roads /unknown /unknown                                 :   12  \n",
       " Unpaved Roads /unknown /unknown                               :   12  \n",
       " Misc Manuf / Indus Processes /Other Not Classified            :   10  \n",
       " Marine Vessels, Military /unknown                             :    8  \n",
       " Pulp&Paper&Wood /Fugitive Emissions /Specify in Comments Field:    6  \n",
       " (Other)                                                       :11608  \n",
       "                                              EI.Sector   \n",
       " Industrial Processes - Storage and Transfer       :1955  \n",
       " Industrial Processes - Chemical Manuf             :1702  \n",
       " Industrial Processes - NEC                        :1573  \n",
       " Solvent - Industrial Surface Coating & Solvent Use: 992  \n",
       " Mobile - On-Road Gasoline Light Duty Vehicles     : 518  \n",
       " Solvent - Degreasing                              : 390  \n",
       " (Other)                                           :4587  \n",
       "               Option.Group     Option.Set   \n",
       "                     :11450          :11436  \n",
       " P and P Product Tran:   44   B      :   84  \n",
       " Consumer/Commercial :   40   B1B    :   44  \n",
       " Commercial          :   30   B2B    :   37  \n",
       " Cattle              :   24   A      :   24  \n",
       " Poultry             :   20   B7B    :   19  \n",
       " (Other)             :  109   (Other):   73  \n",
       "                           SCC.Level.One                      SCC.Level.Two \n",
       " Industrial Processes             :4787   Chemical Manufacturing     :1264  \n",
       " Mobile Sources                   :1787   Mineral Products           : 867  \n",
       " Petroleum and Solvent Evaporation:1563   Highway Vehicles - Gasoline: 621  \n",
       " Solvent Utilization              :1061   Organic Chemical Storage   : 605  \n",
       " MACT Source Categories           : 686   Food and Agriculture       : 528  \n",
       " Storage and Transport            : 489   Highway Vehicles - Diesel  : 516  \n",
       " (Other)                          :1344   (Other)                    :7316  \n",
       "                                               SCC.Level.Three \n",
       " All Processes                                         :  168  \n",
       " Lawn and Garden Equipment                             :  143  \n",
       " Construction and Mining Equipment                     :  138  \n",
       " Heavy Duty Gasoline Vehicles 2B thru 8B & Buses (HDGV):  112  \n",
       " Light Duty Gasoline Trucks 1 & 2 (M6) = LDGT1 (M5)    :  112  \n",
       " Light Duty Gasoline Trucks 3 & 4 (M6) = LDGT2 (M5)    :  112  \n",
       " (Other)                                               :10932  \n",
       "                  SCC.Level.Four      Map.To          Last.Inventory.Year\n",
       " Other Not Classified    :  204   Min.   :2.020e+07   Min.   :1999       \n",
       " Total                   :  197   1st Qu.:3.040e+07   1st Qu.:1999       \n",
       " Total: All Solvent Types:  152   Median :3.079e+07   Median :2002       \n",
       " General                 :  114   Mean   :3.017e+08   Mean   :2002       \n",
       " Special Naphthas        :  106   3rd Qu.:4.030e+07   3rd Qu.:2005       \n",
       " Solvents: NEC           :   98   Max.   :2.805e+09   Max.   :2008       \n",
       " (Other)                 :10846   NA's   :11358       NA's   :8972       \n",
       "             Created_Date             Revised_Date \n",
       "                   :9988                    :9090  \n",
       " 2/13/2002 0:00:00 : 492   4/14/2003 0:00:00: 874  \n",
       " 12/10/1999 0:00:00: 363   7/25/2008 0:00:00: 838  \n",
       " 4/14/2009 0:00:00 : 166   7/27/2008 0:00:00: 272  \n",
       " 10/19/2011 0:00:00:  62   2/13/2002 0:00:00:  95  \n",
       " 4/15/2010 0:00:00 :  61   4/15/2010 0:00:00:  61  \n",
       " (Other)           : 585   (Other)          : 487  \n",
       "                                                                                                                                                             Usage.Notes   \n",
       "                                                                                                                                                                   :11693  \n",
       "                                                                                                                                                                   :    5  \n",
       " includes bleaching towers, washer hoods, filtrate tanks, vacuum pump exhausts                                                                                     :    1  \n",
       " includes causticizer vents only or slaker and causticizer vents combined                                                                                          :    1  \n",
       " includes components within vacuum drum and non-vacuum drum systems including washer hoods, filtrate tank vents, and vacuum pump exhaust (some deckers and screens):    1  \n",
       " includes gases not in other low volume high concentration (LVHC) vent sources                                                                                     :    1  \n",
       " (Other)                                                                                                                                                           :   15  "
      ]
     },
     "metadata": {},
     "output_type": "display_data"
    }
   ],
   "source": [
    "summary(NEI)\n",
    "summary(SCC)"
   ]
  },
  {
   "cell_type": "markdown",
   "metadata": {
    "collapsed": false
   },
   "source": [
    "# Plot1\n",
    "\n",
    "#### How to save plot and display?\n",
    "\n",
    "#### Use:\n",
    "dev.copy(png, \"plot1.png\")\n",
    "\n",
    "\n",
    "#### See:\n",
    "     http://stackoverflow.com/questions/8058606/saving-plot-as-pdf-and-simultaneously-display-it-in-the-window-x11"
   ]
  },
  {
   "cell_type": "code",
   "execution_count": 17,
   "metadata": {
    "collapsed": false
   },
   "outputs": [
    {
     "data": {
      "text/html": [
       "<strong>png:</strong> 3"
      ],
      "text/latex": [
       "\\textbf{png:} 3"
      ],
      "text/markdown": [
       "**png:** 3"
      ],
      "text/plain": [
       "png \n",
       "  3 "
      ]
     },
     "metadata": {},
     "output_type": "display_data"
    },
    {
     "data": {
      "text/html": [
       "<strong>pdf:</strong> 2"
      ],
      "text/latex": [
       "\\textbf{pdf:} 2"
      ],
      "text/markdown": [
       "**pdf:** 2"
      ],
      "text/plain": [
       "pdf \n",
       "  2 "
      ]
     },
     "metadata": {},
     "output_type": "display_data"
    },
    {
     "data": {
      "image/png": "[encoded data removed]",
      "text/plain": [
       "Plot with title \"\"Total PM\"[2.5] * \" emissions [1999-2008]\"\""
      ]
     },
     "metadata": {
      "image/svg+xml": {
       "isolated": true
      }
     },
     "output_type": "display_data"
    }
   ],
   "source": [
    "## This first line will likely take a few seconds. Be patient!\n",
    "if(!exists(\"NEI\")){ NEI <- readRDS(\"summarySCC_PM25.rds\") }\n",
    "if(!exists(\"SCC\")){ SCC <- readRDS(\"Source_Classification_Code.rds\") }\n",
    "\n",
    "# Q1: Have total emissions from PM2.5 decreased in the United States from 1999 to 2008?\n",
    "#     Using the base plotting system, make a plot showing the total PM2.5 emission from all sources for each of the years 1999, 2002, 2005, and 2008.\n",
    "\n",
    "aggregatedTotalByYear <- aggregate(Emissions ~ year, NEI, sum)\n",
    "\n",
    "#png('plot1.png')\n",
    "barplot(height=aggregatedTotalByYear$Emissions,\n",
    "        names.arg=aggregatedTotalByYear$year,\n",
    "        xlab=\"years\",\n",
    "        ylab=expression('total PM'[2.5]*' emissions'),\n",
    "        main=expression('Total PM'[2.5]*' emissions [1999-2008]'))\n",
    "dev.copy(png, \"plot1.png\")\n",
    "\n",
    "dev.off()"
   ]
  },
  {
   "cell_type": "markdown",
   "metadata": {},
   "source": [
    "###### Peers - plot1"
   ]
  },
  {
   "cell_type": "code",
   "execution_count": 18,
   "metadata": {
    "collapsed": false
   },
   "outputs": [
    {
     "ename": "ERROR",
     "evalue": "Error in file.exists(ssc_rds): object 'ssc_rds' not found\n",
     "output_type": "error",
     "traceback": [
      "Error in file.exists(ssc_rds): object 'ssc_rds' not found\nTraceback:\n",
      "1. stopifnot(file.exists(ssc_rds) & file.exists(nei_rds))",
      "2. file.exists(ssc_rds)"
     ]
    }
   ],
   "source": [
    "# Peer1\n",
    "\n",
    "#ssc_data_url <- \"https://d396qusza40orc.cloudfront.net/exdata%2Fdata%2FNEI_data.zip\"\n",
    "#ssc_data_dir <- file.path(getwd(), \"data\")\n",
    "#dir.create(ssc_data_dir, showWarnings = FALSE)\n",
    "#ssc_plots_dir <- file.path(getwd(), \"plots\")\n",
    "#dir.create(ssc_plots_dir, showWarnings = FALSE)\n",
    "#exdata_data_zip <- file.path(ssc_data_dir, \"exdata-data-NEI_data.zip\")\n",
    "#if (!file.exists(exdata_data_zip)) \n",
    "#  download.file(ssc_data_url, exdata_data_zip, quiet = TRUE)\n",
    "#if (!file.exists(ssc_rds) | !file.exists(nei_rds)) \n",
    "#  unzip(exdata_data_zip, exdir = ssc_data_dir)\n",
    "\n",
    "stopifnot(file.exists(ssc_rds) & file.exists(nei_rds))\n",
    "\n",
    "ssc_data_dir  <- '.'\n",
    "ssc_plots_dir <- '.'\n",
    "nei_rds <- file.path(ssc_data_dir, \"summarySCC_PM25.rds\")\n",
    "ssc_rds <- file.path(ssc_data_dir, \"Source_Classification_Code.rds\")\n",
    "\n",
    "if(!exists(\"nei_clean\"))\n",
    "  nei_clean <- readRDS(nei_rds)\n",
    "if(!exists(\"scc_clean\"))\n",
    "  scc_clean <- readRDS(ssc_rds)\n",
    "\n",
    "nei <- nei_clean\n",
    "scc <- scc_clean\n",
    "\n",
    "nei_agg <- aggregate(Emissions ~ year, nei, sum)\n",
    "\n",
    "#png(file = file.path(getwd(), \"./plot1.png\"))\n",
    "opt <- options(\"scipen\" = 20)\n",
    "barplot(nei_agg$Emissions/1000, names=nei_agg$year, xlab = 'Year', ylab = 'Emissions (thousand tons of PM2.5)', main='United States of America PM2.5 Emissions')\n",
    "dev.copy(png, \"plot1.png\")\n",
    "dev.off()\n"
   ]
  },
  {
   "cell_type": "code",
   "execution_count": 19,
   "metadata": {
    "collapsed": false
   },
   "outputs": [
    {
     "data": {
      "text/html": [
       "<strong>png:</strong> 4"
      ],
      "text/latex": [
       "\\textbf{png:} 4"
      ],
      "text/markdown": [
       "**png:** 4"
      ],
      "text/plain": [
       "png \n",
       "  4 "
      ]
     },
     "metadata": {},
     "output_type": "display_data"
    },
    {
     "data": {
      "text/html": [
       "<strong>pdf:</strong> 2"
      ],
      "text/latex": [
       "\\textbf{pdf:} 2"
      ],
      "text/markdown": [
       "**pdf:** 2"
      ],
      "text/plain": [
       "pdf \n",
       "  2 "
      ]
     },
     "metadata": {},
     "output_type": "display_data"
    },
    {
     "data": {
      "image/png": "[encoded data removed]",
      "text/plain": [
       "Plot with title \"Total emissions of PM2.5\n",
       "United States\""
      ]
     },
     "metadata": {
      "image/svg+xml": {
       "isolated": true
      }
     },
     "output_type": "display_data"
    }
   ],
   "source": [
    "# Peer2\n",
    "\n",
    "# Load Data\n",
    "NEI <- readRDS(\"summarySCC_PM25.rds\")\n",
    "SCC <- readRDS(\"Source_Classification_Code.rds\")\n",
    "\n",
    "# Aggregate Data\n",
    "emissions_by_year <- aggregate(Emissions ~ year, NEI, sum, na.omit = TRUE)\n",
    "\n",
    "# Image Device\n",
    "#png(filename=\"plot1.png\", height=600, width=600, bg=\"transparent\")\n",
    "windows()\n",
    "\n",
    "# Create Plot\n",
    "barplot(height = emissions_by_year$Emissions\n",
    "        ,names.arg=emissions_by_year$year\n",
    "        ,xlab = \"Years\"\n",
    "        ,ylab = \"Total PM2.5\"\n",
    "        ,main = \"Total emissions of PM2.5\\nUnited States\")\n",
    "\n",
    "dev.copy(png, \"plot1.png\")\n",
    "#Close device\n",
    "dev.off()\n"
   ]
  },
  {
   "cell_type": "code",
   "execution_count": 20,
   "metadata": {
    "collapsed": false
   },
   "outputs": [
    {
     "name": "stderr",
     "output_type": "stream",
     "text": [
      "Warning message:\n",
      "In gzfile(file, \"rb\"): cannot open compressed file 'data/summarySCC_PM25.rds', probable reason 'No such file or directory'"
     ]
    },
    {
     "ename": "ERROR",
     "evalue": "Error in gzfile(file, \"rb\"): cannot open the connection\n",
     "output_type": "error",
     "traceback": [
      "Error in gzfile(file, \"rb\"): cannot open the connection\nTraceback:\n",
      "1. readRDS(file.path(\"data\", \"summarySCC_PM25.rds\"))",
      "2. gzfile(file, \"rb\")"
     ]
    }
   ],
   "source": [
    "# Peer3\n",
    "# Download and unzip data\n",
    "#data.url <- \"https://d396qusza40orc.cloudfront.net/exdata%2Fdata%2FNEI_data.zip\"\n",
    "#if (!file.exists(\"data\"))\n",
    "#    dir.create(\"data\")\n",
    "\n",
    "#data.path <- file.path(\"data\", \"NEI.zip\")\n",
    "#download.file(data.url, data.path, method = \"curl\")\n",
    "#unzip(data.path, exdir = \"data\")\n",
    "\n",
    "# Load data\n",
    "NEI <- readRDS(file.path(\"data\", \"summarySCC_PM25.rds\"))\n",
    "SCC <- readRDS(file.path(\"data\", \"Source_Classification_Code.rds\"))\n",
    "\n",
    "NEI.table <- tbl_df(NEI)\n",
    "SCC.table <- tbl_df(SCC)\n",
    "\n",
    "rm(NEI)\n",
    "rm(SCC)\n",
    "\n",
    "#transformations\n",
    "library(dplyr)\n",
    "NEI.table <- tbl_df(NEI)\n",
    "NEI.table <- mutate(NEI.table, fips= factor(fips, exclude = NULL))\n",
    "NEI.table <- mutate(NEI.table, SCC= factor(SCC, exclude = NULL))\n",
    "NEI.table <- mutate(NEI.table, Pollutant= factor(Pollutant, exclude = NULL))\n",
    "NEI.table <- mutate(NEI.table, type= factor(type, exclude = NULL))\n",
    "NEI.table <- mutate(NEI.table, year= factor(year, exclude = NULL))\n",
    "\n",
    "# Q 1\n",
    "emission.yearly <- summarise(group_by(NEI.table, year), emission=sum(Emissions))\n",
    "\n",
    "options(scipen = 5)\n",
    "plot.default(x= levels(emission.yearly$year), y= emission.yearly$emission / 1000000, \n",
    "             xlab= \"year\", ylab= \"Total Emissions\", type=\"b\", \n",
    "             main= \"Total Annual Emissions\", axes = F)\n",
    "\n",
    "axis(1)\n",
    "pts <- pretty(emission.yearly$emission / 1000000)\n",
    "axis(2, at= pts, labels=paste(pts, \"K\", sep = \"\"))\n",
    "box()\n",
    "dev.copy(png, file= \"plot1.png\")\n",
    "dev.off()\n",
    "    "
   ]
  },
  {
   "cell_type": "code",
   "execution_count": 21,
   "metadata": {
    "collapsed": false
   },
   "outputs": [
    {
     "data": {
      "text/html": [
       "<strong>png:</strong> 4"
      ],
      "text/latex": [
       "\\textbf{png:} 4"
      ],
      "text/markdown": [
       "**png:** 4"
      ],
      "text/plain": [
       "png \n",
       "  4 "
      ]
     },
     "metadata": {},
     "output_type": "display_data"
    },
    {
     "data": {
      "text/html": [
       "<strong>pdf:</strong> 2"
      ],
      "text/latex": [
       "\\textbf{pdf:} 2"
      ],
      "text/markdown": [
       "**pdf:** 2"
      ],
      "text/plain": [
       "pdf \n",
       "  2 "
      ]
     },
     "metadata": {},
     "output_type": "display_data"
    },
    {
     "data": {
      "image/png": "[encoded data removed]",
      "text/plain": [
       "Plot with title \"Total Emissions in the United States from 1999 to 2008\""
      ]
     },
     "metadata": {
      "image/svg+xml": {
       "isolated": true
      }
     },
     "output_type": "display_data"
    }
   ],
   "source": [
    "# Peer4\n",
    "neiData <- readRDS(\"./summarySCC_PM25.rds\")\n",
    "sccData <- readRDS(\"./Source_Classification_Code.rds\")\n",
    "\n",
    "par(\"mar\"=c(5.1, 4.5, 4.1, 2.1))\n",
    "#png(filename = \"plot1.png\", width = 480, height = 480, units = \"px\")\n",
    "totalEmissions <- aggregate(neiData$Emissions, list(neiData$year), FUN = \"sum\")\n",
    "# options(scipen=0)\n",
    "# options(scipen=999)\n",
    "plot(totalEmissions, type = \"l\", xlab = \"Year\", \n",
    "     main = \"Total Emissions in the United States from 1999 to 2008\", \n",
    "     ylab = expression('Total PM'[2.5]*\" Emission\"))\n",
    "dev.copy(png, \"plot2.png\")\n",
    "dev.off()"
   ]
  },
  {
   "cell_type": "markdown",
   "metadata": {},
   "source": [
    "# Plot2"
   ]
  },
  {
   "cell_type": "code",
   "execution_count": 22,
   "metadata": {
    "collapsed": false
   },
   "outputs": [
    {
     "ename": "ERROR",
     "evalue": "Error in print(g): object 'g' not found\n",
     "output_type": "error",
     "traceback": [
      "Error in print(g): object 'g' not found\nTraceback:\n",
      "1. print(g)"
     ]
    },
    {
     "data": {
      "image/png": "[encoded data removed]",
      "text/plain": [
       "Plot with title \"\"Total PM\"[2.5] * \" emissions [1999-2008]\"\""
      ]
     },
     "metadata": {
      "image/svg+xml": {
       "isolated": true
      }
     },
     "output_type": "display_data"
    }
   ],
   "source": [
    "## This first line will likely take a few seconds. Be patient!\n",
    "if(!exists(\"NEI\")){ NEI <- readRDS(\"summarySCC_PM25.rds\") }\n",
    "if(!exists(\"SCC\")){ SCC <- readRDS(\"Source_Classification_Code.rds\") }\n",
    "\n",
    "# Q2: Have total emissions from PM2.5 decreased in the Baltimore City, Maryland (fips == \"24510\") from 1999 to 2008?\n",
    "#     Use the base plotting system to make a plot answering this question.\n",
    "\n",
    "# Select Maryland/Baltimore subset:\n",
    "MarylandNEI  <- NEI[NEI$fips==\"24510\", ]\n",
    "\n",
    "aggregatedTotalByYear <- aggregate(Emissions ~ year, MarylandNEI, sum)\n",
    "\n",
    "#png('plot2.png')\n",
    "barplot(height=aggregatedTotalByYear$Emissions,\n",
    "        names.arg=aggregatedTotalByYear$year,\n",
    "        xlab=\"years\",\n",
    "        ylab=expression('total PM'[2.5]*' emissions'),\n",
    "        main=expression('Total PM'[2.5]*' emissions [1999-2008]'))\n",
    "#g <- ggplot(aggregatedTotalByYearAndType, aes(year, Emissions, color = type))\n",
    "#g <- g + geom_line() + xlab(\"year\") + ylab(expression('Total PM'[2.5]*\" Emissions\")) +\n",
    "#         ggtitle('Total Emissions in Baltimore City, Maryland (fips == \"24510\") [1999-2008]')\n",
    "print(g)\n",
    "dev.copy(png, \"plot2.png\")\n",
    "\n",
    "dev.off()"
   ]
  },
  {
   "cell_type": "markdown",
   "metadata": {},
   "source": [
    "###### Peers - plot2"
   ]
  },
  {
   "cell_type": "code",
   "execution_count": 23,
   "metadata": {
    "collapsed": false
   },
   "outputs": [
    {
     "ename": "ERROR",
     "evalue": "Error in file.path(ssc_data_dir, \"summarySCC_PM25.rds\"): object 'ssc_data_dir' not found\n",
     "output_type": "error",
     "traceback": [
      "Error in file.path(ssc_data_dir, \"summarySCC_PM25.rds\"): object 'ssc_data_dir' not found\nTraceback:\n",
      "1. file.path(ssc_data_dir, \"summarySCC_PM25.rds\")"
     ]
    }
   ],
   "source": [
    "#Peer1\n",
    "\n",
    "#ssc_data_url <- \"https://d396qusza40orc.cloudfront.net/exdata%2Fdata%2FNEI_data.zip\"\n",
    "#ssc_data_dir <- file.path(getwd(), \"data\")\n",
    "#dir.create(ssc_data_dir, showWarnings = FALSE)\n",
    "\n",
    "#ssc_plots_dir <- file.path(getwd(), \"plots\")\n",
    "#dir.create(ssc_plots_dir, showWarnings = FALSE)\n",
    "\n",
    "#exdata_data_zip <- file.path(ssc_data_dir, \"exdata-data-NEI_data.zip\")\n",
    "nei_rds <- file.path(ssc_data_dir, \"summarySCC_PM25.rds\")\n",
    "ssc_rds <- file.path(ssc_data_dir, \"Source_Classification_Code.rds\")\n",
    "\n",
    "#if (!file.exists(exdata_data_zip)) \n",
    "#  download.file(ssc_data_url, exdata_data_zip, quiet = TRUE)\n",
    "#if (!file.exists(ssc_rds) | !file.exists(nei_rds)) \n",
    "#  unzip(exdata_data_zip, exdir = ssc_data_dir)\n",
    "\n",
    "stopifnot(file.exists(ssc_rds) & file.exists(nei_rds))\n",
    "\n",
    "if(!exists(\"nei_clean\"))\n",
    "  nei_clean <- readRDS(nei_rds)\n",
    "if(!exists(\"scc_clean\"))\n",
    "  scc_clean <- readRDS(ssc_rds)\n",
    "\n",
    "nei <- nei_clean[nei_clean$fips == '24510' & (nei_clean$year == 1999 | nei_clean$year == 2008) ,]\n",
    "scc <- scc_clean\n",
    "\n",
    "nei_agg <- aggregate(Emissions ~ year, nei, sum)\n",
    "\n",
    "#png(file = file.path(getwd(), \"plots/plot2.png\"))\n",
    "opt <- options(\"scipen\" = 20)\n",
    "barplot(nei_agg$Emissions, names=nei_agg$year, xlab = 'Year', ylab = 'Emissions (tons of PM2.5)', main='Baltimore City, Maryland PM2.5 Emissions')\n",
    "dev.copy(png, \"plot2.png\")\n",
    "dev.off()"
   ]
  },
  {
   "cell_type": "code",
   "execution_count": 24,
   "metadata": {
    "collapsed": false
   },
   "outputs": [
    {
     "data": {
      "text/html": [
       "<strong>png:</strong> 4"
      ],
      "text/latex": [
       "\\textbf{png:} 4"
      ],
      "text/markdown": [
       "**png:** 4"
      ],
      "text/plain": [
       "png \n",
       "  4 "
      ]
     },
     "metadata": {},
     "output_type": "display_data"
    },
    {
     "data": {
      "text/html": [
       "<strong>pdf:</strong> 2"
      ],
      "text/latex": [
       "\\textbf{pdf:} 2"
      ],
      "text/markdown": [
       "**pdf:** 2"
      ],
      "text/plain": [
       "pdf \n",
       "  2 "
      ]
     },
     "metadata": {},
     "output_type": "display_data"
    },
    {
     "data": {
      "image/png": "[encoded data removed]",
      "text/plain": [
       "Plot with title \"Total emissions of PM2.5\n",
       "Baltimore City, Maryland\""
      ]
     },
     "metadata": {
      "image/svg+xml": {
       "isolated": true
      }
     },
     "output_type": "display_data"
    }
   ],
   "source": [
    "# Peer2\n",
    "\n",
    "# Load Data\n",
    "NEI <- readRDS(\"summarySCC_PM25.rds\")\n",
    "SCC <- readRDS(\"Source_Classification_Code.rds\")\n",
    "\n",
    "# Filter Baltimore Data\n",
    "Baltimore <- NEI[NEI$fips == \"24510\",]\n",
    "\n",
    "# Aggregate Data\n",
    "emissions_by_year <- aggregate(Emissions ~ year, Baltimore, sum, na.omit = TRUE)\n",
    "\n",
    "# Image Device\n",
    "#png(filename=\"plot2.png\", height=600, width=600, bg=\"transparent\")\n",
    "\n",
    "# Create Plot\n",
    "barplot(height = emissions_by_year$Emissions\n",
    "        ,names.arg=emissions_by_year$year\n",
    "        ,xlab = \"Years\"\n",
    "        ,ylab = \"Total PM2.5\"\n",
    "        ,main = \"Total emissions of PM2.5\\nBaltimore City, Maryland\")\n",
    "\n",
    "dev.copy(png, \"plot2.png\")\n",
    "\n",
    "#Close device\n",
    "dev.off()\n"
   ]
  },
  {
   "cell_type": "code",
   "execution_count": 25,
   "metadata": {
    "collapsed": false
   },
   "outputs": [
    {
     "name": "stderr",
     "output_type": "stream",
     "text": [
      "Warning message:\n",
      "In gzfile(file, \"rb\"): cannot open compressed file 'data/summarySCC_PM25.rds', probable reason 'No such file or directory'"
     ]
    },
    {
     "ename": "ERROR",
     "evalue": "Error in gzfile(file, \"rb\"): cannot open the connection\n",
     "output_type": "error",
     "traceback": [
      "Error in gzfile(file, \"rb\"): cannot open the connection\nTraceback:\n",
      "1. readRDS(file.path(\"data\", \"summarySCC_PM25.rds\"))",
      "2. gzfile(file, \"rb\")"
     ]
    }
   ],
   "source": [
    "# Peer3\n",
    "\n",
    "# Download and unzip data\n",
    "#data.url <- \"https://d396qusza40orc.cloudfront.net/exdata%2Fdata%2FNEI_data.zip\"\n",
    "\n",
    "#if (!file.exists(\"data\"))\n",
    "#    dir.create(\"data\")\n",
    "\n",
    "#data.path <- file.path(\"data\", \"NEI.zip\")\n",
    "#download.file(data.url, data.path, method = \"curl\")\n",
    "#unzip(data.path, exdir = \"data\")\n",
    "\n",
    "# Load data\n",
    "NEI <- readRDS(file.path(\"data\", \"summarySCC_PM25.rds\"))\n",
    "SCC <- readRDS(file.path(\"data\", \"Source_Classification_Code.rds\"))\n",
    "\n",
    "NEI.table <- tbl_df(NEI)\n",
    "SCC.table <- tbl_df(SCC)\n",
    "\n",
    "rm(NEI)\n",
    "rm(SCC)\n",
    "\n",
    "#transformations\n",
    "library(dplyr)\n",
    "NEI.table <- tbl_df(NEI)\n",
    "NEI.table <- mutate(NEI.table, fips= factor(fips, exclude = NULL))\n",
    "NEI.table <- mutate(NEI.table, SCC= factor(SCC, exclude = NULL))\n",
    "NEI.table <- mutate(NEI.table, Pollutant= factor(Pollutant, exclude = NULL))\n",
    "NEI.table <- mutate(NEI.table, type= factor(type, exclude = NULL))\n",
    "NEI.table <- mutate(NEI.table, year= factor(year, exclude = NULL))\n",
    "\n",
    "# Q 2\n",
    "\n",
    "baltimore.emission <- filter(NEI.table, fips==\"24510\")\n",
    "baltimore.yearly <- summarise(group_by(baltimore.emission, year), emission=sum(Emissions))\n",
    "plot.default(x= levels(baltimore.yearly$year), y= baltimore.yearly$emission, \n",
    "             xlab= \"year\", ylab= \"Total Emissions\", type=\"b\",\n",
    "             main= \"Baltimore Annual Emissions\")\n",
    "\n",
    "dev.copy(png, \"plot2.png\")\n",
    "dev.off()\n",
    "\n"
   ]
  },
  {
   "cell_type": "code",
   "execution_count": null,
   "metadata": {
    "collapsed": true
   },
   "outputs": [],
   "source": []
  },
  {
   "cell_type": "markdown",
   "metadata": {},
   "source": [
    "# Plot3"
   ]
  },
  {
   "cell_type": "code",
   "execution_count": 26,
   "metadata": {
    "collapsed": false
   },
   "outputs": [
    {
     "data": {
      "text/html": [
       "<strong>png:</strong> 4"
      ],
      "text/latex": [
       "\\textbf{png:} 4"
      ],
      "text/markdown": [
       "**png:** 4"
      ],
      "text/plain": [
       "png \n",
       "  4 "
      ]
     },
     "metadata": {},
     "output_type": "display_data"
    },
    {
     "data": {
      "text/html": [
       "<strong>pdf:</strong> 2"
      ],
      "text/latex": [
       "\\textbf{pdf:} 2"
      ],
      "text/markdown": [
       "**pdf:** 2"
      ],
      "text/plain": [
       "pdf \n",
       "  2 "
      ]
     },
     "metadata": {},
     "output_type": "display_data"
    },
    {
     "data": {
      "image/png": "[encoded data removed]",
      "text/plain": [
       "plot without title"
      ]
     },
     "metadata": {
      "image/svg+xml": {
       "isolated": true
      }
     },
     "output_type": "display_data"
    }
   ],
   "source": [
    "## This first line will likely take a few seconds. Be patient!\n",
    "if(!exists(\"NEI\")){ NEI <- readRDS(\"summarySCC_PM25.rds\") }\n",
    "if(!exists(\"SCC\")){ SCC <- readRDS(\"Source_Classification_Code.rds\") }\n",
    "\n",
    "library(ggplot2)\n",
    "\n",
    "# Q3: Of the four types of sources indicated by the type (point, nonpoint, onroad, nonroad) variable,\n",
    "#     which of these four sources have seen decreases in emissions from 1999–2008 for Baltimore City?\n",
    "#   Which have seen increases in emissions from 1999–2008?\n",
    "#   Use the ggplot2 plotting system to make a plot answer this question.\n",
    "\n",
    "# Select Maryland/Baltimore subset:\n",
    "MarylandNEI  <- NEI[NEI$fips==\"24510\", ]\n",
    "\n",
    "aggregatedTotalByYearAndType <- aggregate(Emissions ~ year + type, MarylandNEI, sum)\n",
    "\n",
    "#png(\"plot3.png\")\n",
    "g <- ggplot(aggregatedTotalByYearAndType, aes(year, Emissions, color = type))\n",
    "g <- g + geom_line() + xlab(\"year\") + ylab(expression('Total PM'[2.5]*\" Emissions\")) +\n",
    "         ggtitle('Total Emissions in Baltimore City, Maryland (fips == \"24510\") [1999-2008]')\n",
    "print(g)\n",
    "dev.copy(png, \"plot3.png\")\n",
    "\n",
    "dev.off()"
   ]
  },
  {
   "cell_type": "code",
   "execution_count": 27,
   "metadata": {
    "collapsed": false
   },
   "outputs": [
    {
     "ename": "ERROR",
     "evalue": "Error in file.path(ssc_data_dir, \"summarySCC_PM25.rds\"): object 'ssc_data_dir' not found\n",
     "output_type": "error",
     "traceback": [
      "Error in file.path(ssc_data_dir, \"summarySCC_PM25.rds\"): object 'ssc_data_dir' not found\nTraceback:\n",
      "1. file.path(ssc_data_dir, \"summarySCC_PM25.rds\")"
     ]
    }
   ],
   "source": [
    "# Peer1\n",
    "\n",
    "#ssc_data_url <- \"https://d396qusza40orc.cloudfront.net/exdata%2Fdata%2FNEI_data.zip\"\n",
    "#ssc_data_dir <- file.path(getwd(), \"data\")\n",
    "#dir.create(ssc_data_dir, showWarnings = FALSE)\n",
    "\n",
    "#ssc_plots_dir <- file.path(getwd(), \"plots\")\n",
    "#dir.create(ssc_plots_dir, showWarnings = FALSE)\n",
    "\n",
    "#exdata_data_zip <- file.path(ssc_data_dir, \"exdata-data-NEI_data.zip\")\n",
    "nei_rds <- file.path(ssc_data_dir, \"summarySCC_PM25.rds\")\n",
    "ssc_rds <- file.path(ssc_data_dir, \"Source_Classification_Code.rds\")\n",
    "\n",
    "#if (!file.exists(exdata_data_zip)) \n",
    "#  download.file(ssc_data_url, exdata_data_zip, quiet = TRUE)\n",
    "#if (!file.exists(ssc_rds) | !file.exists(nei_rds)) \n",
    "#  unzip(exdata_data_zip, exdir = ssc_data_dir)\n",
    "\n",
    "stopifnot(file.exists(ssc_rds) & file.exists(nei_rds))\n",
    "\n",
    "if(!exists(\"nei_clean\"))\n",
    "  nei_clean <- readRDS(nei_rds)\n",
    "if(!exists(\"scc_clean\"))\n",
    "  scc_clean <- readRDS(ssc_rds)\n",
    "\n",
    "nei <- nei_clean[nei_clean$fips == '24510',]\n",
    "scc <- scc_clean\n",
    "\n",
    "nei_agg <- aggregate(Emissions ~ year+type, nei, sum)\n",
    "\n",
    "library(ggplot2) \n",
    "\n",
    "#png(file = file.path(getwd(), \"plots/plot3.png\"))\n",
    "\n",
    "ggplot(nei_agg, aes(year, Emissions, colour=type)) + \n",
    "  geom_line(size = 2) + \n",
    "  ylab('Emissions (tons of PM2.5)') + \n",
    "  xlab('Year') + \n",
    "  ggtitle('Baltimore City, Maryland PM2.5 Emissions') + \n",
    "  theme(plot.title = element_text(size = rel(1.5))) +\n",
    "  theme(axis.title.y = element_text(size = rel(1.2))) +\n",
    "  theme(axis.title.x = element_text(size = rel(1.2))) +\n",
    "  theme(axis.text = element_text(size = rel(1.2)))\n",
    "dev.copy(png, \"plot3.png\")\n",
    "dev.off()"
   ]
  },
  {
   "cell_type": "code",
   "execution_count": 28,
   "metadata": {
    "collapsed": false
   },
   "outputs": [
    {
     "data": {
      "text/html": [
       "<strong>png:</strong> 4"
      ],
      "text/latex": [
       "\\textbf{png:} 4"
      ],
      "text/markdown": [
       "**png:** 4"
      ],
      "text/plain": [
       "png \n",
       "  4 "
      ]
     },
     "metadata": {},
     "output_type": "display_data"
    },
    {
     "data": {
      "text/html": [
       "<strong>pdf:</strong> 2"
      ],
      "text/latex": [
       "\\textbf{pdf:} 2"
      ],
      "text/markdown": [
       "**pdf:** 2"
      ],
      "text/plain": [
       "pdf \n",
       "  2 "
      ]
     },
     "metadata": {},
     "output_type": "display_data"
    },
    {
     "data": {
      "image/png": "[encoded data removed]",
      "text/plain": [
       "plot without title"
      ]
     },
     "metadata": {
      "image/svg+xml": {
       "isolated": true
      }
     },
     "output_type": "display_data"
    }
   ],
   "source": [
    "# Peer2\n",
    "\n",
    "library(\"ggplot2\")\n",
    "\n",
    "# Load Data\n",
    "NEI <- readRDS(\"summarySCC_PM25.rds\")\n",
    "SCC <- readRDS(\"Source_Classification_Code.rds\")\n",
    "\n",
    "# Filter Baltimore Data\n",
    "Baltimore <- NEI[NEI$fips == \"24510\",]\n",
    "\n",
    "# Aggregate Data\n",
    "emissions_by_year_type <- aggregate(Emissions ~ year + type, Baltimore, sum, na.omit = TRUE)\n",
    "\n",
    "# Image Device\n",
    "#png(filename=\"plot3.png\", height=600, width=600, bg=\"transparent\")\n",
    "\n",
    "# Create Plot\n",
    "ggplot(emissions_by_year_type, aes(x = factor(year), y = Emissions)) +\n",
    "       geom_bar(stat=\"identity\") +\n",
    "       facet_grid(. ~ type) +\n",
    "       xlab(\"Year\") +\n",
    "       ylab(\"Total PM2.5\") +\n",
    "       ggtitle(\"Total emissions of PM2.5\\nBaltimore City, Maryland\")\n",
    "\n",
    "#Close device\n",
    "dev.copy(png, \"plot3.png\")\n",
    "dev.off()"
   ]
  },
  {
   "cell_type": "code",
   "execution_count": 29,
   "metadata": {
    "collapsed": false
   },
   "outputs": [
    {
     "name": "stderr",
     "output_type": "stream",
     "text": [
      "Warning message:\n",
      "In gzfile(file, \"rb\"): cannot open compressed file 'data/summarySCC_PM25.rds', probable reason 'No such file or directory'"
     ]
    },
    {
     "ename": "ERROR",
     "evalue": "Error in gzfile(file, \"rb\"): cannot open the connection\n",
     "output_type": "error",
     "traceback": [
      "Error in gzfile(file, \"rb\"): cannot open the connection\nTraceback:\n",
      "1. readRDS(file.path(\"data\", \"summarySCC_PM25.rds\"))",
      "2. gzfile(file, \"rb\")"
     ]
    }
   ],
   "source": [
    "# Peer3\n",
    "\n",
    "# Download and unzip data\n",
    "#data.url <- \"https://d396qusza40orc.cloudfront.net/exdata%2Fdata%2FNEI_data.zip\"\n",
    "\n",
    "#if (!file.exists(\"data\"))\n",
    "#    dir.create(\"data\")\n",
    "\n",
    "#data.path <- file.path(\"data\", \"NEI.zip\")\n",
    "#download.file(data.url, data.path, method = \"curl\")\n",
    "#unzip(data.path, exdir = \"data\")\n",
    "\n",
    "# Load data\n",
    "NEI <- readRDS(file.path(\"data\", \"summarySCC_PM25.rds\"))\n",
    "SCC <- readRDS(file.path(\"data\", \"Source_Classification_Code.rds\"))\n",
    "\n",
    "NEI.table <- tbl_df(NEI)\n",
    "SCC.table <- tbl_df(SCC)\n",
    "\n",
    "rm(NEI)\n",
    "rm(SCC)\n",
    "\n",
    "#transformations\n",
    "library(dplyr)\n",
    "NEI.table <- tbl_df(NEI)\n",
    "NEI.table <- mutate(NEI.table, fips= factor(fips, exclude = NULL))\n",
    "NEI.table <- mutate(NEI.table, SCC= factor(SCC, exclude = NULL))\n",
    "NEI.table <- mutate(NEI.table, Pollutant= factor(Pollutant, exclude = NULL))\n",
    "NEI.table <- mutate(NEI.table, type= factor(type, exclude = NULL))\n",
    "NEI.table <- mutate(NEI.table, year= factor(year, exclude = NULL))\n",
    "\n",
    "# Q 3\n",
    "# Baltimore yearly trends for different types of emissions\n",
    "baltimore.emission <- filter(NEI.table, fips==\"24510\")\n",
    "\n",
    "library(ggplot2)\n",
    "\n",
    "# For checking the chart\n",
    "# tapply(baltimore.emission$Emissions, list(baltimore.emission$type, baltimore.emission$year), sum)\n",
    "\n",
    "ggplot(data=baltimore.emission, aes(x=year, y= Emissions, group= type))+        # prepare data\n",
    "    stat_summary(fun.y= sum, geom= \"bar\", aes(fill= type)) +  # use sum(y) in each group as data point, show results as bar graphs\n",
    "    facet_wrap(~type) + # separate panels for different types\n",
    "    ggtitle(\"Emission Trend in Baltimore City\")\n",
    "\n",
    "ggsave(\"plot3.png\")\n",
    "    "
   ]
  },
  {
   "cell_type": "code",
   "execution_count": 30,
   "metadata": {
    "collapsed": false
   },
   "outputs": [
    {
     "data": {
      "text/html": [
       "<strong>png:</strong> 4"
      ],
      "text/latex": [
       "\\textbf{png:} 4"
      ],
      "text/markdown": [
       "**png:** 4"
      ],
      "text/plain": [
       "png \n",
       "  4 "
      ]
     },
     "metadata": {},
     "output_type": "display_data"
    },
    {
     "data": {
      "text/html": [
       "<strong>pdf:</strong> 2"
      ],
      "text/latex": [
       "\\textbf{pdf:} 2"
      ],
      "text/markdown": [
       "**pdf:** 2"
      ],
      "text/plain": [
       "pdf \n",
       "  2 "
      ]
     },
     "metadata": {},
     "output_type": "display_data"
    },
    {
     "data": {
      "image/png": "[encoded data removed]",
      "text/plain": [
       "plot without title"
      ]
     },
     "metadata": {
      "image/svg+xml": {
       "isolated": true
      }
     },
     "output_type": "display_data"
    }
   ],
   "source": [
    "# Peer4\n",
    "\n",
    "neiData <- readRDS(\"./summarySCC_PM25.rds\")\n",
    "sccData <- readRDS(\"./Source_Classification_Code.rds\")\n",
    "subset <- neiData[neiData$fips == \"24510\", ] \n",
    "\n",
    "library(ggplot2)\n",
    "par(\"mar\"=c(5.1, 4.5, 4.1, 2.1))\n",
    "#png(filename = \"plot3.png\", width = 480, height = 480, units = \"px\")\n",
    "g <- ggplot(subset, aes(year, Emissions, color = type))\n",
    "g + geom_line(stat = \"summary\", fun.y = \"sum\") +\n",
    "  ylab(expression('Total PM'[2.5]*\" Emissions\")) +\n",
    "  ggtitle(\"Total Emissions in Baltimore City from 1999 to 2008\")\n",
    "\n",
    "dev.copy(png, \"plot3.png\")\n",
    "dev.off()\n"
   ]
  },
  {
   "cell_type": "markdown",
   "metadata": {},
   "source": [
    "# Plot4"
   ]
  },
  {
   "cell_type": "code",
   "execution_count": 31,
   "metadata": {
    "collapsed": false
   },
   "outputs": [
    {
     "data": {
      "text/html": [
       "<strong>png:</strong> 4"
      ],
      "text/latex": [
       "\\textbf{png:} 4"
      ],
      "text/markdown": [
       "**png:** 4"
      ],
      "text/plain": [
       "png \n",
       "  4 "
      ]
     },
     "metadata": {},
     "output_type": "display_data"
    },
    {
     "data": {
      "text/html": [
       "<strong>pdf:</strong> 2"
      ],
      "text/latex": [
       "\\textbf{pdf:} 2"
      ],
      "text/markdown": [
       "**pdf:** 2"
      ],
      "text/plain": [
       "pdf \n",
       "  2 "
      ]
     },
     "metadata": {},
     "output_type": "display_data"
    },
    {
     "data": {
      "image/png": "[encoded data removed]",
      "text/plain": [
       "plot without title"
      ]
     },
     "metadata": {
      "image/svg+xml": {
       "isolated": true
      }
     },
     "output_type": "display_data"
    }
   ],
   "source": [
    "## This first line will likely take a few seconds. Be patient!\n",
    "if(!exists(\"NEI\")){ NEI <- readRDS(\"summarySCC_PM25.rds\") }\n",
    "if(!exists(\"SCC\")){ SCC <- readRDS(\"Source_Classification_Code.rds\") }\n",
    "\n",
    "# merge the two data sets\n",
    "if(!exists(\"NEISCC\")){ NEISCC <- merge(NEI, SCC, by=\"SCC\") }\n",
    "\n",
    "library(ggplot2)\n",
    "\n",
    "# Q4: Across the United States, how have emissions from coal combustion-related sources changed from 1999–2008?\n",
    "\n",
    "# Get NEIxSCC records with Short.Name (SCC) Coal\n",
    "coalSS  <- grepl(\"coal\", NEISCC$Short.Name, ignore.case=TRUE)\n",
    "subsetNEISCC <- NEISCC[coalSS, ]\n",
    "\n",
    "aggregatedTotalByYear <- aggregate(Emissions ~ year, subsetNEISCC, sum)\n",
    "\n",
    "#png(\"plot4.png\")\n",
    "g <- ggplot(aggregatedTotalByYear, aes(factor(year), Emissions))\n",
    "g <- g + geom_bar(stat=\"identity\") + xlab(\"year\") + ylab(expression('Total PM'[2.5]*\" Emissions\")) +\n",
    "         ggtitle('Total Emissions from coal sources [1999-2008]')\n",
    "print(g)\n",
    "\n",
    "dev.copy(png, \"plot4.png\")\n",
    "dev.off()"
   ]
  },
  {
   "cell_type": "code",
   "execution_count": 32,
   "metadata": {
    "collapsed": false
   },
   "outputs": [
    {
     "ename": "ERROR",
     "evalue": "Error in file.path(ssc_data_dir, \"summarySCC_PM25.rds\"): object 'ssc_data_dir' not found\n",
     "output_type": "error",
     "traceback": [
      "Error in file.path(ssc_data_dir, \"summarySCC_PM25.rds\"): object 'ssc_data_dir' not found\nTraceback:\n",
      "1. file.path(ssc_data_dir, \"summarySCC_PM25.rds\")"
     ]
    }
   ],
   "source": [
    "# Peer1\n",
    "\n",
    "#ssc_data_url <- \"https://d396qusza40orc.cloudfront.net/exdata%2Fdata%2FNEI_data.zip\"\n",
    "#ssc_data_dir <- file.path(getwd(), \"data\")\n",
    "#dir.create(ssc_data_dir, showWarnings = FALSE)\n",
    "\n",
    "#ssc_plots_dir <- file.path(getwd(), \"plots\")\n",
    "#dir.create(ssc_plots_dir, showWarnings = FALSE)\n",
    "\n",
    "#exdata_data_zip <- file.path(ssc_data_dir, \"exdata-data-NEI_data.zip\")\n",
    "nei_rds <- file.path(ssc_data_dir, \"summarySCC_PM25.rds\")\n",
    "ssc_rds <- file.path(ssc_data_dir, \"Source_Classification_Code.rds\")\n",
    "\n",
    "if (!file.exists(exdata_data_zip)) \n",
    "  download.file(ssc_data_url, exdata_data_zip, quiet = TRUE)\n",
    "if (!file.exists(ssc_rds) | !file.exists(nei_rds)) \n",
    "  unzip(exdata_data_zip, exdir = ssc_data_dir)\n",
    "\n",
    "stopifnot(file.exists(ssc_rds) & file.exists(nei_rds))\n",
    "\n",
    "if(!exists(\"nei_clean\"))\n",
    "  nei_clean <- readRDS(nei_rds)\n",
    "if(!exists(\"scc_clean\"))\n",
    "  scc_clean <- readRDS(ssc_rds)\n",
    "\n",
    "scc <- subset(scc_clean, grepl(\"Coal\", EI.Sector))\n",
    "nei <- nei_clean[nei_clean$SCC %in% scc$SCC,]\n",
    "\n",
    "nei_agg <- aggregate(Emissions ~ year, nei, sum)\n",
    "\n",
    "#png(file = file.path(getwd(), \"plots/plot4.png\"))\n",
    "opt <- options(\"scipen\" = 20)\n",
    "barplot(nei_agg$Emissions/1000, names=nei_agg$year, xlab = 'Year', ylab = 'Emissions (thousand tons of PM2.5)', main='United States of America PM2.5 Emissions from Coal')\n",
    "dev.copy(png, \"plot4.png\")\n",
    "dev.off()"
   ]
  },
  {
   "cell_type": "code",
   "execution_count": 33,
   "metadata": {
    "collapsed": false
   },
   "outputs": [
    {
     "data": {
      "text/html": [
       "<strong>png:</strong> 4"
      ],
      "text/latex": [
       "\\textbf{png:} 4"
      ],
      "text/markdown": [
       "**png:** 4"
      ],
      "text/plain": [
       "png \n",
       "  4 "
      ]
     },
     "metadata": {},
     "output_type": "display_data"
    },
    {
     "data": {
      "text/html": [
       "<strong>pdf:</strong> 2"
      ],
      "text/latex": [
       "\\textbf{pdf:} 2"
      ],
      "text/markdown": [
       "**pdf:** 2"
      ],
      "text/plain": [
       "pdf \n",
       "  2 "
      ]
     },
     "metadata": {},
     "output_type": "display_data"
    },
    {
     "data": {
      "image/png": "[encoded data removed]",
      "text/plain": [
       "plot without title"
      ]
     },
     "metadata": {
      "image/svg+xml": {
       "isolated": true
      }
     },
     "output_type": "display_data"
    }
   ],
   "source": [
    "# Peer2\n",
    "\n",
    "library(\"ggplot2\")\n",
    "\n",
    "# Load Data\n",
    "NEI <- readRDS(\"summarySCC_PM25.rds\")\n",
    "SCC <- readRDS(\"Source_Classification_Code.rds\")\n",
    "\n",
    "# Filter Coal Combustion Data\n",
    "sources <- SCC[grepl(\"Fuel Comb.*Coal\", SCC$EI.Sector),]\n",
    "coal_combustion <- NEI[(NEI$SCC %in% sources$SCC), ]\n",
    "\n",
    "# Aggregate Data\n",
    "emissions_by_year <- aggregate(Emissions ~ year, coal_combustion, sum, na.omit = TRUE)\n",
    "\n",
    "# Image Device\n",
    "#png(filename=\"plot4.png\", height=600, width=600, bg=\"transparent\")\n",
    "\n",
    "# Create Plot\n",
    "ggplot(emissions_by_year, aes(x = factor(year), y = Emissions)) +\n",
    "       geom_bar(stat=\"identity\") +\n",
    "       xlab(\"Year\") +\n",
    "       ylab(\"Total PM2.5\") +\n",
    "       ggtitle(\"Total emissions of PM2.5 of Coal Combustion\\nUnited States\")\n",
    "\n",
    "#Close device\n",
    "dev.copy(png, \"plot4.png\")\n",
    "dev.off()"
   ]
  },
  {
   "cell_type": "code",
   "execution_count": 34,
   "metadata": {
    "collapsed": false
   },
   "outputs": [
    {
     "name": "stderr",
     "output_type": "stream",
     "text": [
      "Warning message:\n",
      "In gzfile(file, \"rb\"): cannot open compressed file 'data/summarySCC_PM25.rds', probable reason 'No such file or directory'"
     ]
    },
    {
     "ename": "ERROR",
     "evalue": "Error in gzfile(file, \"rb\"): cannot open the connection\n",
     "output_type": "error",
     "traceback": [
      "Error in gzfile(file, \"rb\"): cannot open the connection\nTraceback:\n",
      "1. readRDS(file.path(\"data\", \"summarySCC_PM25.rds\"))",
      "2. gzfile(file, \"rb\")"
     ]
    }
   ],
   "source": [
    "# Peer3\n",
    "\n",
    "# Download and unzip data\n",
    "#data.url <- \"https://d396qusza40orc.cloudfront.net/exdata%2Fdata%2FNEI_data.zip\"\n",
    "\n",
    "#if (!file.exists(\"data\"))\n",
    "#    dir.create(\"data\")\n",
    "\n",
    "#data.path <- file.path(\"data\", \"NEI.zip\")\n",
    "#download.file(data.url, data.path, method = \"curl\")\n",
    "#unzip(data.path, exdir = \"data\")\n",
    "\n",
    "# Load data\n",
    "NEI <- readRDS(file.path(\"data\", \"summarySCC_PM25.rds\"))\n",
    "SCC <- readRDS(file.path(\"data\", \"Source_Classification_Code.rds\"))\n",
    "\n",
    "NEI.table <- tbl_df(NEI)\n",
    "SCC.table <- tbl_df(SCC)\n",
    "\n",
    "rm(NEI)\n",
    "rm(SCC)\n",
    "\n",
    "#transformations\n",
    "library(dplyr)\n",
    "NEI.table <- tbl_df(NEI)\n",
    "NEI.table <- mutate(NEI.table, fips= factor(fips, exclude = NULL))\n",
    "NEI.table <- mutate(NEI.table, SCC= factor(SCC, exclude = NULL))\n",
    "NEI.table <- mutate(NEI.table, Pollutant= factor(Pollutant, exclude = NULL))\n",
    "NEI.table <- mutate(NEI.table, type= factor(type, exclude = NULL))\n",
    "NEI.table <- mutate(NEI.table, year= factor(year, exclude = NULL))\n",
    "\n",
    "# Q 5\n",
    "# Criteria:\n",
    "# I decided to go with the following criteria for motor vehicles\n",
    "# SCC.Level.One = Mobile Sources\n",
    "# EI.Sector contains \"On-Road\"\n",
    "\n",
    "mobile <- filter(SCC.table, SCC.Level.One == \"Mobile Sources\", Data.Category== \"Onroad\")\n",
    "\n",
    "# Remove totals to prevent double counting\n",
    "mobile.no.total <- filter(mobile, !grepl(\"[[Tt]otal\", mobile$Short.Name))\n",
    "\n",
    "baltimore.emission <- filter(NEI.table, fips==\"24510\")\n",
    "baltimore.mobile <- filter(baltimore.emission, SCC %in% mobile.no.total$SCC)\n",
    "baltimore.mobile <- merge(baltimore.mobile, mobile.no.total[,c(1,4)], by= \"SCC\")\n",
    "\n",
    "# Check sums with the plot\n",
    "# list <- split(baltimore.mobile$Emissions, list(baltimore.mobile$year, baltimore.mobile$EI.Sector), drop = T)\n",
    "# sum.list <- lapply(list, sum, na.rm=T)\n",
    "# sum.list\n",
    "\n",
    "ggplot(data= baltimore.mobile, aes(x= year, y= Emissions, group= EI.Sector, fill= EI.Sector)) +\n",
    "    stat_summary(fun.y= sum, geom=\"bar\", position= \"dodge\") + \n",
    "    facet_wrap(~EI.Sector, scales= \"free_y\") +\n",
    "    theme(legend.position=\"none\")\n",
    "\n",
    "ggsave(\"plot5.png\", width = 7, height = 7)"
   ]
  },
  {
   "cell_type": "code",
   "execution_count": 35,
   "metadata": {
    "collapsed": false
   },
   "outputs": [
    {
     "data": {
      "text/html": [
       "<strong>png:</strong> 4"
      ],
      "text/latex": [
       "\\textbf{png:} 4"
      ],
      "text/markdown": [
       "**png:** 4"
      ],
      "text/plain": [
       "png \n",
       "  4 "
      ]
     },
     "metadata": {},
     "output_type": "display_data"
    },
    {
     "data": {
      "text/html": [
       "<strong>pdf:</strong> 2"
      ],
      "text/latex": [
       "\\textbf{pdf:} 2"
      ],
      "text/markdown": [
       "**pdf:** 2"
      ],
      "text/plain": [
       "pdf \n",
       "  2 "
      ]
     },
     "metadata": {},
     "output_type": "display_data"
    },
    {
     "data": {
      "image/png": "[encoded data removed]",
      "text/plain": [
       "Plot with title \"Total Emissions From Coal Combustion-related\n",
       " Sources from 1999 to 2008\""
      ]
     },
     "metadata": {
      "image/svg+xml": {
       "isolated": true
      }
     },
     "output_type": "display_data"
    }
   ],
   "source": [
    "# Peer4\n",
    "\n",
    "neiData <- readRDS(\"./summarySCC_PM25.rds\")\n",
    "sccData <- readRDS(\"./Source_Classification_Code.rds\")\n",
    "\n",
    "par(\"mar\"=c(5.1, 4.5, 4.1, 2.1))\n",
    "#png(filename = \"plot4.png\", width = 480, height = 480, units = \"px\")\n",
    "coal <- grep(\"coal\", sccData$Short.Name, ignore.case = T)\n",
    "coal <- sccData[coal, ]\n",
    "coal <- neiData[neiData$SCC %in% coal$SCC, ]\n",
    "\n",
    "coalEmissions <- aggregate(coal$Emissions, list(coal$year), FUN = \"sum\")\n",
    "\n",
    "plot(coalEmissions, type = \"l\", xlab = \"Year\", \n",
    "     main = \"Total Emissions From Coal Combustion-related\\n Sources from 1999 to 2008\", \n",
    "     ylab = expression('Total PM'[2.5]*\" Emission\"))\n",
    "\n",
    "dev.copy(png, \"plot4.png\")\n",
    "dev.off()"
   ]
  },
  {
   "cell_type": "markdown",
   "metadata": {},
   "source": [
    "# Plot5"
   ]
  },
  {
   "cell_type": "code",
   "execution_count": 36,
   "metadata": {
    "collapsed": false
   },
   "outputs": [
    {
     "data": {
      "text/html": [
       "<strong>png:</strong> 4"
      ],
      "text/latex": [
       "\\textbf{png:} 4"
      ],
      "text/markdown": [
       "**png:** 4"
      ],
      "text/plain": [
       "png \n",
       "  4 "
      ]
     },
     "metadata": {},
     "output_type": "display_data"
    },
    {
     "data": {
      "text/html": [
       "<strong>pdf:</strong> 2"
      ],
      "text/latex": [
       "\\textbf{pdf:} 2"
      ],
      "text/markdown": [
       "**pdf:** 2"
      ],
      "text/plain": [
       "pdf \n",
       "  2 "
      ]
     },
     "metadata": {},
     "output_type": "display_data"
    },
    {
     "data": {
      "image/png": "[encoded data removed]",
      "text/plain": [
       "plot without title"
      ]
     },
     "metadata": {
      "image/svg+xml": {
       "isolated": true
      }
     },
     "output_type": "display_data"
    }
   ],
   "source": [
    "## This first line will likely take a few seconds. Be patient!\n",
    "if(!exists(\"NEI\")){ NEI <- readRDS(\"summarySCC_PM25.rds\") }\n",
    "if(!exists(\"SCC\")){ SCC <- readRDS(\"Source_Classification_Code.rds\") }\n",
    "\n",
    "# merge the two data sets\n",
    "if(!exists(\"NEISCC\")){ NEISCC <- merge(NEI, SCC, by=\"SCC\") }\n",
    "\n",
    "library(ggplot2)\n",
    "\n",
    "# Q5: How have emissions from motor vehicle sources changed from 1999–2008 in Baltimore City?\n",
    "\n",
    "# Select Maryland/Baltimore and ON-ROAD subset:\n",
    "ssNEI <- NEI[NEI$fips==\"24510\" & NEI$type==\"ON-ROAD\",  ]\n",
    "\n",
    "aggregatedTotalByYear <- aggregate(Emissions ~ year, ssNEI, sum)\n",
    "\n",
    "#png(\"plot5.png\", width=840, height=480)\n",
    "g <- ggplot(aggregatedTotalByYear, aes(factor(year), Emissions))\n",
    "g <- g + geom_bar(stat=\"identity\") + xlab(\"year\") + ylab(expression('Total PM'[2.5]*\" Emissions\")) +\n",
    "         ggtitle('Total Emissions from cars (ON-ROAD) in Baltimore City [1999-2008]')\n",
    "print(g)\n",
    "dev.copy(png, \"plot5.png\")\n",
    "dev.off()"
   ]
  },
  {
   "cell_type": "code",
   "execution_count": 37,
   "metadata": {
    "collapsed": false
   },
   "outputs": [
    {
     "ename": "ERROR",
     "evalue": "Error in file.path(ssc_data_dir, \"summarySCC_PM25.rds\"): object 'ssc_data_dir' not found\n",
     "output_type": "error",
     "traceback": [
      "Error in file.path(ssc_data_dir, \"summarySCC_PM25.rds\"): object 'ssc_data_dir' not found\nTraceback:\n",
      "1. file.path(ssc_data_dir, \"summarySCC_PM25.rds\")"
     ]
    }
   ],
   "source": [
    "# Peer1\n",
    "\n",
    "#ssc_data_url <- \"https://d396qusza40orc.cloudfront.net/exdata%2Fdata%2FNEI_data.zip\"\n",
    "#ssc_data_dir <- file.path(getwd(), \"data\")\n",
    "#dir.create(ssc_data_dir, showWarnings = FALSE)\n",
    "\n",
    "#ssc_plots_dir <- file.path(getwd(), \"plots\")\n",
    "#dir.create(ssc_plots_dir, showWarnings = FALSE)\n",
    "\n",
    "#exdata_data_zip <- file.path(ssc_data_dir, \"exdata-data-NEI_data.zip\")\n",
    "nei_rds <- file.path(ssc_data_dir, \"summarySCC_PM25.rds\")\n",
    "ssc_rds <- file.path(ssc_data_dir, \"Source_Classification_Code.rds\")\n",
    "\n",
    "#if (!file.exists(exdata_data_zip)) \n",
    "#  download.file(ssc_data_url, exdata_data_zip, quiet = TRUE)\n",
    "#if (!file.exists(ssc_rds) | !file.exists(nei_rds)) \n",
    "#  unzip(exdata_data_zip, exdir = ssc_data_dir)\n",
    "\n",
    "stopifnot(file.exists(ssc_rds) & file.exists(nei_rds))\n",
    "\n",
    "if(!exists(\"nei_clean\"))\n",
    "  nei_clean <- readRDS(nei_rds)\n",
    "if(!exists(\"scc_clean\"))\n",
    "  scc_clean <- readRDS(ssc_rds)\n",
    "\n",
    "scc <- subset(scc_clean, grepl(\"Vehicles\", EI.Sector))\n",
    "nei <- nei_clean[nei_clean$SCC %in% scc$SCC & nei_clean$fips == '24510',]\n",
    "\n",
    "nei_agg <- aggregate(Emissions ~ year, nei, sum)\n",
    "\n",
    "#png(file = file.path(getwd(), \"plots/plot5.png\"))\n",
    "opt <- options(\"scipen\" = 20)\n",
    "barplot(nei_agg$Emissions, names=nei_agg$year, xlab = 'Year', ylab = 'Emissions (tons of PM2.5)', main='Baltimore City, Maryland PM2.5 Emissions from Vehicles')\n",
    "dev.copy(png, \"plot5.png\")\n",
    "dev.off()"
   ]
  },
  {
   "cell_type": "code",
   "execution_count": 38,
   "metadata": {
    "collapsed": false
   },
   "outputs": [
    {
     "data": {
      "text/html": [
       "<strong>png:</strong> 4"
      ],
      "text/latex": [
       "\\textbf{png:} 4"
      ],
      "text/markdown": [
       "**png:** 4"
      ],
      "text/plain": [
       "png \n",
       "  4 "
      ]
     },
     "metadata": {},
     "output_type": "display_data"
    },
    {
     "data": {
      "text/html": [
       "<strong>pdf:</strong> 2"
      ],
      "text/latex": [
       "\\textbf{pdf:} 2"
      ],
      "text/markdown": [
       "**pdf:** 2"
      ],
      "text/plain": [
       "pdf \n",
       "  2 "
      ]
     },
     "metadata": {},
     "output_type": "display_data"
    },
    {
     "data": {
      "image/png": "[encoded data removed]",
      "text/plain": [
       "plot without title"
      ]
     },
     "metadata": {
      "image/svg+xml": {
       "isolated": true
      }
     },
     "output_type": "display_data"
    }
   ],
   "source": [
    "# Peer2\n",
    "\n",
    "library(\"ggplot2\")\n",
    "\n",
    "# Load Data\n",
    "NEI <- readRDS(\"summarySCC_PM25.rds\")\n",
    "SCC <- readRDS(\"Source_Classification_Code.rds\")\n",
    "\n",
    "# Filter Baltimore Data\n",
    "Bal_Vehicles <- NEI[NEI$fips == \"24510\" & NEI$type == \"ON-ROAD\",]\n",
    "\n",
    "# Aggregate Data\n",
    "emissions_by_year <- aggregate(Emissions ~ year, Bal_Vehicles, sum, na.omit = TRUE)\n",
    "\n",
    "# Image Device\n",
    "#png(filename=\"plot5.png\", height=600, width=600, bg=\"transparent\")\n",
    "\n",
    "# Create Plot\n",
    "ggplot(emissions_by_year, aes(x = factor(year), y = Emissions)) +\n",
    "       geom_bar(stat=\"identity\") +\n",
    "       xlab(\"Year\") +\n",
    "       ylab(\"Total PM2.5\") +\n",
    "       ggtitle(\"Total emissions of PM2.5 for Motor Vehicles\\nBaltimore City, Maryland\")\n",
    "\n",
    "dev.copy(png, \"plot5.png\")\n",
    "\n",
    "#Close device\n",
    "dev.off()\n"
   ]
  },
  {
   "cell_type": "code",
   "execution_count": 39,
   "metadata": {
    "collapsed": false
   },
   "outputs": [
    {
     "name": "stderr",
     "output_type": "stream",
     "text": [
      "Warning message:\n",
      "In gzfile(file, \"rb\"): cannot open compressed file 'data/summarySCC_PM25.rds', probable reason 'No such file or directory'"
     ]
    },
    {
     "ename": "ERROR",
     "evalue": "Error in gzfile(file, \"rb\"): cannot open the connection\n",
     "output_type": "error",
     "traceback": [
      "Error in gzfile(file, \"rb\"): cannot open the connection\nTraceback:\n",
      "1. readRDS(file.path(\"data\", \"summarySCC_PM25.rds\"))",
      "2. gzfile(file, \"rb\")"
     ]
    }
   ],
   "source": [
    "# Peer3\n",
    "\n",
    "# Download and unzip data\n",
    "#data.url <- \"https://d396qusza40orc.cloudfront.net/exdata%2Fdata%2FNEI_data.zip\"\n",
    "\n",
    "#if (!file.exists(\"data\"))\n",
    "#    dir.create(\"data\")\n",
    "\n",
    "#data.path <- file.path(\"data\", \"NEI.zip\")\n",
    "#download.file(data.url, data.path, method = \"curl\")\n",
    "#unzip(data.path, exdir = \"data\")\n",
    "\n",
    "# Load data\n",
    "NEI <- readRDS(file.path(\"data\", \"summarySCC_PM25.rds\"))\n",
    "SCC <- readRDS(file.path(\"data\", \"Source_Classification_Code.rds\"))\n",
    "\n",
    "NEI.table <- tbl_df(NEI)\n",
    "SCC.table <- tbl_df(SCC)\n",
    "\n",
    "rm(NEI)\n",
    "rm(SCC)\n",
    "\n",
    "#transformations\n",
    "library(dplyr)\n",
    "NEI.table <- tbl_df(NEI)\n",
    "NEI.table <- mutate(NEI.table, fips= factor(fips, exclude = NULL))\n",
    "NEI.table <- mutate(NEI.table, SCC= factor(SCC, exclude = NULL))\n",
    "NEI.table <- mutate(NEI.table, Pollutant= factor(Pollutant, exclude = NULL))\n",
    "NEI.table <- mutate(NEI.table, type= factor(type, exclude = NULL))\n",
    "NEI.table <- mutate(NEI.table, year= factor(year, exclude = NULL))\n",
    "\n",
    "# Q 5\n",
    "# Criteria:\n",
    "# I decided to go with the following criteria for motor vehicles\n",
    "# SCC.Level.One = Mobile Sources\n",
    "# EI.Sector contains \"On-Road\"\n",
    "\n",
    "mobile <- filter(SCC.table, SCC.Level.One == \"Mobile Sources\", Data.Category== \"Onroad\")\n",
    "\n",
    "# Remove totals to prevent double counting\n",
    "mobile.no.total <- filter(mobile, !grepl(\"[[Tt]otal\", mobile$Short.Name))\n",
    "\n",
    "baltimore.emission <- filter(NEI.table, fips==\"24510\")\n",
    "baltimore.mobile <- filter(baltimore.emission, SCC %in% mobile.no.total$SCC)\n",
    "baltimore.mobile <- merge(baltimore.mobile, mobile.no.total[,c(1,4)], by= \"SCC\")\n",
    "\n",
    "# Check sums with the plot\n",
    "# list <- split(baltimore.mobile$Emissions, list(baltimore.mobile$year, baltimore.mobile$EI.Sector), drop = T)\n",
    "# sum.list <- lapply(list, sum, na.rm=T)\n",
    "# sum.list\n",
    "\n",
    "ggplot(data= baltimore.mobile, aes(x= year, y= Emissions, group= EI.Sector, fill= EI.Sector)) +\n",
    "    stat_summary(fun.y= sum, geom=\"bar\", position= \"dodge\") + \n",
    "    facet_wrap(~EI.Sector, scales= \"free_y\") +\n",
    "    theme(legend.position=\"none\")\n",
    "\n",
    "ggsave(\"plot5.png\", width = 7, height = 7)\n"
   ]
  },
  {
   "cell_type": "code",
   "execution_count": 40,
   "metadata": {
    "collapsed": false
   },
   "outputs": [
    {
     "data": {
      "text/html": [
       "<strong>png:</strong> 4"
      ],
      "text/latex": [
       "\\textbf{png:} 4"
      ],
      "text/markdown": [
       "**png:** 4"
      ],
      "text/plain": [
       "png \n",
       "  4 "
      ]
     },
     "metadata": {},
     "output_type": "display_data"
    },
    {
     "data": {
      "text/html": [
       "<strong>pdf:</strong> 2"
      ],
      "text/latex": [
       "\\textbf{pdf:} 2"
      ],
      "text/markdown": [
       "**pdf:** 2"
      ],
      "text/plain": [
       "pdf \n",
       "  2 "
      ]
     },
     "metadata": {},
     "output_type": "display_data"
    },
    {
     "data": {
      "image/png": "[encoded data removed]",
      "text/plain": [
       "Plot with title \"Total Emissions From Motor Vehicle Sources\n",
       " from 1999 to 2008 in Baltimore City\""
      ]
     },
     "metadata": {
      "image/svg+xml": {
       "isolated": true
      }
     },
     "output_type": "display_data"
    }
   ],
   "source": [
    "# Peer4\n",
    "\n",
    "neiData <- readRDS(\"./summarySCC_PM25.rds\")\n",
    "sccData <- readRDS(\"./Source_Classification_Code.rds\")\n",
    "\n",
    "subset <- neiData[neiData$fips == \"24510\", ] \n",
    "\n",
    "#par(\"mar\"=c(5.1, 4.5, 4.1, 2.1))\n",
    "#png(filename = \"plot5.png\", width = 480, height = 480, units = \"px\")\n",
    "motor <- grep(\"motor\", sccData$Short.Name, ignore.case = T)\n",
    "motor <- sccData[motor, ]\n",
    "motor <- subset[subset$SCC %in% motor$SCC, ]\n",
    "motorEmissions <- aggregate(motor$Emissions, list(motor$year), FUN = \"sum\")\n",
    "\n",
    "plot(motorEmissions, type = \"l\", xlab = \"Year\", \n",
    "     main = \"Total Emissions From Motor Vehicle Sources\\n from 1999 to 2008 in Baltimore City\", \n",
    "     ylab = expression('Total PM'[2.5]*\" Emission\"))\n",
    "\n",
    "dev.copy(png, \"plot5.png\")\n",
    "dev.off()\n"
   ]
  },
  {
   "cell_type": "markdown",
   "metadata": {},
   "source": [
    "# Plot6"
   ]
  },
  {
   "cell_type": "code",
   "execution_count": 41,
   "metadata": {
    "collapsed": false
   },
   "outputs": [
    {
     "data": {
      "text/html": [
       "<strong>png:</strong> 4"
      ],
      "text/latex": [
       "\\textbf{png:} 4"
      ],
      "text/markdown": [
       "**png:** 4"
      ],
      "text/plain": [
       "png \n",
       "  4 "
      ]
     },
     "metadata": {},
     "output_type": "display_data"
    },
    {
     "data": {
      "text/html": [
       "<strong>pdf:</strong> 2"
      ],
      "text/latex": [
       "\\textbf{pdf:} 2"
      ],
      "text/markdown": [
       "**pdf:** 2"
      ],
      "text/plain": [
       "pdf \n",
       "  2 "
      ]
     },
     "metadata": {},
     "output_type": "display_data"
    },
    {
     "data": {
      "image/png": "[encoded data removed]",
      "text/plain": [
       "plot without title"
      ]
     },
     "metadata": {
      "image/svg+xml": {
       "isolated": true
      }
     },
     "output_type": "display_data"
    }
   ],
   "source": [
    "## This first line will likely take a few seconds. Be patient!\n",
    "if(!exists(\"NEI\")){ NEI <- readRDS(\"summarySCC_PM25.rds\") }\n",
    "if(!exists(\"SCC\")){ SCC <- readRDS(\"Source_Classification_Code.rds\") }\n",
    "\n",
    "# merge the two data sets\n",
    "if(!exists(\"NEISCC\")){ NEISCC <- merge(NEI, SCC, by=\"SCC\") }\n",
    "\n",
    "library(ggplot2)\n",
    "\n",
    "# Q6: Compare emissions from motor vehicle sources in Baltimore City with emissions from motor vehicle sources in Los Angeles County, California (fips == \"06037\").\n",
    "#     Which city has seen greater changes over time in motor vehicle emissions?\n",
    "\n",
    "# Select Maryland/Baltimore or LA/Ca and ON-ROAD subset:\n",
    "subsetNEI <- NEI[(NEI$fips==\"24510\"|NEI$fips==\"06037\") & NEI$type==\"ON-ROAD\",  ]\n",
    "\n",
    "aggregatedTotalByYearAndFips <- aggregate(Emissions ~ year + fips, subsetNEI, sum)\n",
    "aggregatedTotalByYearAndFips$fips[aggregatedTotalByYearAndFips$fips==\"24510\"] <- \"Baltimore, MD\"\n",
    "aggregatedTotalByYearAndFips$fips[aggregatedTotalByYearAndFips$fips==\"06037\"] <- \"Los Angeles, CA\"\n",
    "\n",
    "#png(\"plot6.png\")\n",
    "g <- ggplot(aggregatedTotalByYearAndFips, aes(factor(year), Emissions))\n",
    "g <- g + facet_grid(. ~ fips)\n",
    "g <- g + geom_bar(stat=\"identity\") + xlab(\"year\") + ylab(expression('Total PM'[2.5]*\" Emissions\")) +\n",
    "         ggtitle('Total Emissions from motor vehicle (type=ON-ROAD) in Baltimore City, MD vs Los Angeles, CA [1999-2008]')\n",
    "print(g)\n",
    "dev.copy(png, \"plot6.png\")\n",
    "dev.off()"
   ]
  },
  {
   "cell_type": "code",
   "execution_count": 42,
   "metadata": {
    "collapsed": false
   },
   "outputs": [
    {
     "ename": "ERROR",
     "evalue": "Error in file.path(ssc_data_dir, \"summarySCC_PM25.rds\"): object 'ssc_data_dir' not found\n",
     "output_type": "error",
     "traceback": [
      "Error in file.path(ssc_data_dir, \"summarySCC_PM25.rds\"): object 'ssc_data_dir' not found\nTraceback:\n",
      "1. file.path(ssc_data_dir, \"summarySCC_PM25.rds\")"
     ]
    }
   ],
   "source": [
    "# Peer1\n",
    "\n",
    "#ssc_data_url <- \"https://d396qusza40orc.cloudfront.net/exdata%2Fdata%2FNEI_data.zip\"\n",
    "#ssc_data_dir <- file.path(getwd(), \"data\")\n",
    "#dir.create(ssc_data_dir, showWarnings = FALSE)\n",
    "\n",
    "#ssc_plots_dir <- file.path(getwd(), \"plots\")\n",
    "#dir.create(ssc_plots_dir, showWarnings = FALSE)\n",
    "\n",
    "#exdata_data_zip <- file.path(ssc_data_dir, \"exdata-data-NEI_data.zip\")\n",
    "nei_rds <- file.path(ssc_data_dir, \"summarySCC_PM25.rds\")\n",
    "ssc_rds <- file.path(ssc_data_dir, \"Source_Classification_Code.rds\")\n",
    "\n",
    "#if (!file.exists(exdata_data_zip)) \n",
    "#  download.file(ssc_data_url, exdata_data_zip, quiet = TRUE)\n",
    "#if (!file.exists(ssc_rds) | !file.exists(nei_rds)) \n",
    "#  unzip(exdata_data_zip, exdir = ssc_data_dir)\n",
    "\n",
    "stopifnot(file.exists(ssc_rds) & file.exists(nei_rds))\n",
    "\n",
    "if(!exists(\"nei_clean\"))\n",
    "  nei_clean <- readRDS(nei_rds)\n",
    "if(!exists(\"scc_clean\"))\n",
    "  scc_clean <- readRDS(ssc_rds)\n",
    "\n",
    "scc <- subset(scc_clean, grepl(\"Vehicles\", EI.Sector))\n",
    "nei <- nei_clean[nei_clean$SCC %in% scc$SCC & (nei_clean$fips == '24510' | nei_clean$fips == '06037'),]\n",
    "\n",
    "nei_agg <- aggregate(Emissions ~ year+fips, nei, sum)\n",
    "\n",
    "nei_agg$area[nei_agg$fips=='24510'] <- \"Baltimore City, Maryland\"\n",
    "nei_agg$area[nei_agg$fips=='06037'] <- \"Los Angeles County, California\"\n",
    "\n",
    "balitmore_first_year <- min(nei_agg[nei_agg$fips == '24510','year'])\n",
    "nei_agg$EmissionsIndex[nei_agg$fips=='24510'] <- \n",
    "  nei_agg$Emissions[nei_agg$fips=='24510'] / \n",
    "  nei_agg[nei_agg$year == balitmore_first_year & nei_agg$fips == '24510','Emissions']\n",
    "\n",
    "la_first_year <- min(nei_agg[nei_agg$fips == '06037','year']) \n",
    "nei_agg$EmissionsIndex[nei_agg$fips=='06037'] <- \n",
    "  nei_agg$Emissions[nei_agg$fips=='06037'] / \n",
    "  nei_agg[nei_agg$year == la_first_year & nei_agg$fips == '06037','Emissions']\n",
    "\n",
    "#png(file = file.path(getwd(), \"plots/plot6.png\"))\n",
    "\n",
    "ggplot(nei_agg, aes(year, EmissionsIndex, colour=area)) + \n",
    "  geom_line(size = 2) + \n",
    "  ylab('PM2.5 Vehicles Emission Index') + \n",
    "  xlab('Year') + \n",
    "  ggtitle('Baltimore City, Maryland \\n versus \\n Los Angeles County, California \\n PM2.5 Vehicles Emission Index') + \n",
    "  theme(plot.title = element_text(size = rel(1.5))) +\n",
    "  theme(axis.title.y = element_text(size = rel(1.2))) +\n",
    "  theme(axis.title.x = element_text(size = rel(1.2))) +\n",
    "  theme(axis.text = element_text(size = rel(1.2))) +\n",
    "  theme(legend.position=\"bottom\")\n",
    "\n",
    "dev.copy(png, \"plot6.png\")\n",
    "dev.off()\n"
   ]
  },
  {
   "cell_type": "code",
   "execution_count": 43,
   "metadata": {
    "collapsed": false
   },
   "outputs": [
    {
     "data": {
      "text/html": [
       "<strong>png:</strong> 4"
      ],
      "text/latex": [
       "\\textbf{png:} 4"
      ],
      "text/markdown": [
       "**png:** 4"
      ],
      "text/plain": [
       "png \n",
       "  4 "
      ]
     },
     "metadata": {},
     "output_type": "display_data"
    },
    {
     "data": {
      "text/html": [
       "<strong>pdf:</strong> 2"
      ],
      "text/latex": [
       "\\textbf{pdf:} 2"
      ],
      "text/markdown": [
       "**pdf:** 2"
      ],
      "text/plain": [
       "pdf \n",
       "  2 "
      ]
     },
     "metadata": {},
     "output_type": "display_data"
    },
    {
     "data": {
      "image/png": "[encoded data removed]",
      "text/plain": [
       "plot without title"
      ]
     },
     "metadata": {
      "image/svg+xml": {
       "isolated": true
      }
     },
     "output_type": "display_data"
    }
   ],
   "source": [
    "# Peer2\n",
    "\n",
    "library(\"ggplot2\")\n",
    "\n",
    "# Load Data\n",
    "NEI <- readRDS(\"summarySCC_PM25.rds\")\n",
    "SCC <- readRDS(\"Source_Classification_Code.rds\")\n",
    "\n",
    "# Filter Baltimore and Los Angeles Data\n",
    "Bal_LA_Vehicles <- NEI[(NEI$fips == \"24510\" | NEI$fips == \"06037\") & NEI$type == \"ON-ROAD\",]\n",
    "Bal_LA_Vehicles$City <- as.factor(ifelse(Bal_LA_Vehicles$fips == \"24510\", \"Baltimore City\", \"Los Angeles County\"))\n",
    "\n",
    "\n",
    "# Aggregate Data\n",
    "emissions_by_year_fips <- aggregate(Emissions ~ year + City, Bal_LA_Vehicles, mean, na.omit = TRUE)\n",
    "\n",
    "# Image Device\n",
    "#png(filename=\"plot6.png\", height=600, width=600, bg=\"transparent\")\n",
    "\n",
    "# Create Plot\n",
    "ggplot(emissions_by_year_fips, aes(x = factor(year), y = Emissions)) +\n",
    "       geom_bar(stat=\"identity\") +\n",
    "       facet_grid(City  ~ ., scales=\"free\") +\n",
    "       xlab(\"Year\") +\n",
    "       ylab(\"Average PM2.5\") +\n",
    "       ggtitle(\"Average emissions of PM2.5\\n\")\n",
    "\n",
    "#Close device\n",
    "dev.copy(png, \"plot6.png\")\n",
    "dev.off()\n"
   ]
  },
  {
   "cell_type": "code",
   "execution_count": 44,
   "metadata": {
    "collapsed": false
   },
   "outputs": [
    {
     "name": "stderr",
     "output_type": "stream",
     "text": [
      "Warning message:\n",
      "In gzfile(file, \"rb\"): cannot open compressed file 'data/summarySCC_PM25.rds', probable reason 'No such file or directory'"
     ]
    },
    {
     "ename": "ERROR",
     "evalue": "Error in gzfile(file, \"rb\"): cannot open the connection\n",
     "output_type": "error",
     "traceback": [
      "Error in gzfile(file, \"rb\"): cannot open the connection\nTraceback:\n",
      "1. readRDS(file.path(\"data\", \"summarySCC_PM25.rds\"))",
      "2. gzfile(file, \"rb\")"
     ]
    }
   ],
   "source": [
    "# Peer3\n",
    "\n",
    "\n",
    "\n",
    "# Download and unzip data\n",
    "#data.url <- \"https://d396qusza40orc.cloudfront.net/exdata%2Fdata%2FNEI_data.zip\"\n",
    "\n",
    "#if (!file.exists(\"data\"))\n",
    "#    dir.create(\"data\")\n",
    "\n",
    "#data.path <- file.path(\"data\", \"NEI.zip\")\n",
    "#download.file(data.url, data.path, method = \"curl\")\n",
    "#unzip(data.path, exdir = \"data\")\n",
    "\n",
    "# Load data\n",
    "NEI <- readRDS(file.path(\"data\", \"summarySCC_PM25.rds\"))\n",
    "SCC <- readRDS(file.path(\"data\", \"Source_Classification_Code.rds\"))\n",
    "\n",
    "NEI.table <- tbl_df(NEI)\n",
    "SCC.table <- tbl_df(SCC)\n",
    "\n",
    "rm(NEI)\n",
    "rm(SCC)\n",
    "\n",
    "#transformations\n",
    "library(dplyr)\n",
    "NEI.table <- tbl_df(NEI)\n",
    "NEI.table <- mutate(NEI.table, fips= factor(fips, exclude = NULL))\n",
    "NEI.table <- mutate(NEI.table, SCC= factor(SCC, exclude = NULL))\n",
    "NEI.table <- mutate(NEI.table, Pollutant= factor(Pollutant, exclude = NULL))\n",
    "NEI.table <- mutate(NEI.table, type= factor(type, exclude = NULL))\n",
    "NEI.table <- mutate(NEI.table, year= factor(year, exclude = NULL))\n",
    "\n",
    "# Q 6\n",
    "# Motor Vehicle Emission: Baltimore vs. Los Angeles\n",
    "mobile <- filter(SCC.table, SCC.Level.One == \"Mobile Sources\", Data.Category== \"Onroad\")\n",
    "\n",
    "# Remove totals to prevent double counting\n",
    "mobile.no.total <- filter(mobile, !grepl(\"[[Tt]otal\", mobile$Short.Name))\n",
    "\n",
    "baltimore.emission <- filter(NEI.table, fips==\"24510\")\n",
    "baltimore.mobile <- filter(baltimore.emission, SCC %in% mobile.no.total$SCC)\n",
    "baltimore.mobile <- merge(baltimore.mobile, mobile.no.total[,c(1,4)], by= \"SCC\")\n",
    "\n",
    "la.emission <- filter(NEI.table, fips==\"06037\")\n",
    "la.mobile <- filter(la.emission, SCC %in% mobile.no.total$SCC)\n",
    "la.mobile <- merge(la.mobile, mobile.no.total[,c(1,4)], by= \"SCC\")\n",
    "\n",
    "# Check sums with the plots\n",
    "# list <- split(baltimore.mobile$Emissions, list(baltimore.mobile$year), drop = T)\n",
    "# baltimore.sum.list <- lapply(list, sum, na.rm=T)\n",
    "# \n",
    "# list <- split(la.mobile$Emissions, list(la.mobile$year), drop = T)\n",
    "# la.sum.list <- lapply(list, sum, na.rm=T)\n",
    "\n",
    "la.mobile <- mutate(la.mobile, city=factor(\"Los Angeles\"))\n",
    "baltimore.mobile <- mutate(baltimore.mobile, city=factor(\"Baltimore\"))\n",
    "\n",
    "data <- rbind(baltimore.mobile, la.mobile)\n",
    "\n",
    "ggplot(data, aes(x= year, y= Emissions, group= city, fill= city)) +\n",
    "    stat_summary(fun.y= sum, geom=\"bar\") +\n",
    "    facet_wrap(~city, scales = \"free_y\")\n",
    "\n",
    "ggsave(\"plot6.png\")"
   ]
  },
  {
   "cell_type": "code",
   "execution_count": 45,
   "metadata": {
    "collapsed": false
   },
   "outputs": [
    {
     "data": {
      "text/html": [
       "<strong>png:</strong> 4"
      ],
      "text/latex": [
       "\\textbf{png:} 4"
      ],
      "text/markdown": [
       "**png:** 4"
      ],
      "text/plain": [
       "png \n",
       "  4 "
      ]
     },
     "metadata": {},
     "output_type": "display_data"
    },
    {
     "data": {
      "text/html": [
       "<strong>pdf:</strong> 2"
      ],
      "text/latex": [
       "\\textbf{pdf:} 2"
      ],
      "text/markdown": [
       "**pdf:** 2"
      ],
      "text/plain": [
       "pdf \n",
       "  2 "
      ]
     },
     "metadata": {},
     "output_type": "display_data"
    },
    {
     "data": {
      "image/png": "[encoded data removed]",
      "text/plain": [
       "plot without title"
      ]
     },
     "metadata": {
      "image/svg+xml": {
       "isolated": true
      }
     },
     "output_type": "display_data"
    }
   ],
   "source": [
    "# Peer4\n",
    "\n",
    "neiData <- readRDS(\"./summarySCC_PM25.rds\")\n",
    "sccData <- readRDS(\"./Source_Classification_Code.rds\")\n",
    "\n",
    "subset <- neiData[neiData$fips == \"24510\"|neiData$fips == \"06037\", ]\n",
    "\n",
    "library(ggplot2)\n",
    "par(\"mar\"=c(5.1, 4.5, 4.1, 2.1))\n",
    "#png(filename = \"plot6.png\", width = 480, height = 480, units = \"px\", bg = \"transparent\")\n",
    "motor <- grep(\"motor\", sccData$Short.Name, ignore.case = T)\n",
    "motor <- sccData[motor, ]\n",
    "motor <- subset[subset$SCC %in% motor$SCC, ]\n",
    "\n",
    "g <- ggplot(motor, aes(year, Emissions, color = fips))\n",
    "g + geom_line(stat = \"summary\", fun.y = \"sum\") +\n",
    "  ylab(expression('Total PM'[2.5]*\" Emissions\")) +\n",
    "  ggtitle(\"Comparison of Total Emissions From Motor\\n Vehicle Sources in Baltimore City\\n and Los Angeles County from 1999 to 2008\") +\n",
    "  scale_colour_discrete(name = \"Group\", label = c(\"Los Angeles\",\"Baltimore\"))\n",
    "\n",
    "dev.copy(png, \"plot6.png\")\n",
    "dev.off()\n"
   ]
  },
  {
   "cell_type": "markdown",
   "metadata": {
    "collapsed": true
   },
   "source": [
    "---\n",
    "[TOP](#TOP)\n",
    "\n",
    "## Swirl\n"
   ]
  },
  {
   "cell_type": "code",
   "execution_count": 46,
   "metadata": {
    "collapsed": false
   },
   "outputs": [
    {
     "name": "stderr",
     "output_type": "stream",
     "text": [
      "Loading required package: colorspace\n",
      "Loading required package: RColorBrewer\n",
      "Loading required package: dichromat\n",
      "Loading required package: munsell\n",
      "\n",
      "Attaching package: 'munsell'\n",
      "\n",
      "The following object is masked from 'package:colorspace':\n",
      "\n",
      "    desaturate\n",
      "\n",
      "Loading required package: labeling\n",
      "Loading required package: gtable\n",
      "Loading required package: scales\n",
      "Loading required package: jpeg\n",
      "Warning message:\n",
      "In library(package, lib.loc = lib.loc, character.only = TRUE, logical.return = TRUE, : there is no package called 'jpeg'"
     ]
    },
    {
     "name": "stdout",
     "output_type": "stream",
     "text": [
      "package 'jpeg' successfully unpacked and MD5 sums checked\n",
      "\n",
      "The downloaded binary packages are in\n",
      "\tC:\\tools\\cygwin\\tmp\\RtmpU9O9Gd\\downloaded_packages\n"
     ]
    },
    {
     "name": "stderr",
     "output_type": "stream",
     "text": [
      "Loading required package: jpeg\n"
     ]
    }
   ],
   "source": [
    "pkgTest(\"ggplot2\")\n",
    "pkgTest(\"colorspace\")\n",
    "pkgTest(\"RColorBrewer\")\n",
    "pkgTest(\"dichromat\")\n",
    "pkgTest(\"munsell\")\n",
    "pkgTest(\"labeling\")\n",
    "pkgTest(\"gtable\")\n",
    "pkgTest(\"scales\")\n",
    "pkgTest(\"jpeg\")\n"
   ]
  },
  {
   "cell_type": "markdown",
   "metadata": {},
   "source": [
    "## DataScience Specialization materials https://github.com/DataScienceSpecialization/courses/\n",
    "\n",
    "## Edward Tuftes' principles: [here](http://www.edwardtufte.com)\n",
    "\n",
    "## Simpsons Paradox (or Yule-Simspson effect) [here](http://en.wikipedia.org/wiki/Simpson%27s_paradox)\n",
    "Simpson's paradox, or the Yule–Simpson effect, is a paradox in probability and statistics, in which a trend appears in different groups of data but disappears or reverses when these groups are combined. It is sometimes given the impersonal title reversal paradox or amalgamation paradox"
   ]
  },
  {
   "cell_type": "code",
   "execution_count": 47,
   "metadata": {
    "collapsed": false
   },
   "outputs": [
    {
     "data": {
      "text/html": [
       "<table>\n",
       "<thead><tr><th></th><th scope=col>mpg</th><th scope=col>cyl</th><th scope=col>disp</th><th scope=col>hp</th><th scope=col>drat</th><th scope=col>wt</th><th scope=col>qsec</th><th scope=col>vs</th><th scope=col>am</th><th scope=col>gear</th><th scope=col>carb</th></tr></thead>\n",
       "<tbody>\n",
       "\t<tr><th scope=row>Mazda RX4</th><td>21</td><td>6</td><td>160</td><td>110</td><td>3.9</td><td>2.62</td><td>16.46</td><td>0</td><td>1</td><td>4</td><td>4</td></tr>\n",
       "\t<tr><th scope=row>Mazda RX4 Wag</th><td>21</td><td>6</td><td>160</td><td>110</td><td>3.9</td><td>2.875</td><td>17.02</td><td>0</td><td>1</td><td>4</td><td>4</td></tr>\n",
       "\t<tr><th scope=row>Datsun 710</th><td>22.8</td><td>4</td><td>108</td><td>93</td><td>3.85</td><td>2.32</td><td>18.61</td><td>1</td><td>1</td><td>4</td><td>1</td></tr>\n",
       "\t<tr><th scope=row>Hornet 4 Drive</th><td>21.4</td><td>6</td><td>258</td><td>110</td><td>3.08</td><td>3.215</td><td>19.44</td><td>1</td><td>0</td><td>3</td><td>1</td></tr>\n",
       "\t<tr><th scope=row>Hornet Sportabout</th><td>18.7</td><td>8</td><td>360</td><td>175</td><td>3.15</td><td>3.44</td><td>17.02</td><td>0</td><td>0</td><td>3</td><td>2</td></tr>\n",
       "\t<tr><th scope=row>Valiant</th><td>18.1</td><td>6</td><td>225</td><td>105</td><td>2.76</td><td>3.46</td><td>20.22</td><td>1</td><td>0</td><td>3</td><td>1</td></tr>\n",
       "\t<tr><th scope=row>Duster 360</th><td>14.3</td><td>8</td><td>360</td><td>245</td><td>3.21</td><td>3.57</td><td>15.84</td><td>0</td><td>0</td><td>3</td><td>4</td></tr>\n",
       "\t<tr><th scope=row>Merc 240D</th><td>24.4</td><td>4</td><td>146.7</td><td>62</td><td>3.69</td><td>3.19</td><td>20</td><td>1</td><td>0</td><td>4</td><td>2</td></tr>\n",
       "\t<tr><th scope=row>Merc 230</th><td>22.8</td><td>4</td><td>140.8</td><td>95</td><td>3.92</td><td>3.15</td><td>22.9</td><td>1</td><td>0</td><td>4</td><td>2</td></tr>\n",
       "\t<tr><th scope=row>Merc 280</th><td>19.2</td><td>6</td><td>167.6</td><td>123</td><td>3.92</td><td>3.44</td><td>18.3</td><td>1</td><td>0</td><td>4</td><td>4</td></tr>\n",
       "\t<tr><th scope=row>Merc 280C</th><td>17.8</td><td>6</td><td>167.6</td><td>123</td><td>3.92</td><td>3.44</td><td>18.9</td><td>1</td><td>0</td><td>4</td><td>4</td></tr>\n",
       "\t<tr><th scope=row>Merc 450SE</th><td>16.4</td><td>8</td><td>275.8</td><td>180</td><td>3.07</td><td>4.07</td><td>17.4</td><td>0</td><td>0</td><td>3</td><td>3</td></tr>\n",
       "\t<tr><th scope=row>Merc 450SL</th><td>17.3</td><td>8</td><td>275.8</td><td>180</td><td>3.07</td><td>3.73</td><td>17.6</td><td>0</td><td>0</td><td>3</td><td>3</td></tr>\n",
       "\t<tr><th scope=row>Merc 450SLC</th><td>15.2</td><td>8</td><td>275.8</td><td>180</td><td>3.07</td><td>3.78</td><td>18</td><td>0</td><td>0</td><td>3</td><td>3</td></tr>\n",
       "\t<tr><th scope=row>Cadillac Fleetwood</th><td>10.4</td><td>8</td><td>472</td><td>205</td><td>2.93</td><td>5.25</td><td>17.98</td><td>0</td><td>0</td><td>3</td><td>4</td></tr>\n",
       "\t<tr><th scope=row>Lincoln Continental</th><td>10.4</td><td>8</td><td>460</td><td>215</td><td>3</td><td>5.424</td><td>17.82</td><td>0</td><td>0</td><td>3</td><td>4</td></tr>\n",
       "\t<tr><th scope=row>Chrysler Imperial</th><td>14.7</td><td>8</td><td>440</td><td>230</td><td>3.23</td><td>5.345</td><td>17.42</td><td>0</td><td>0</td><td>3</td><td>4</td></tr>\n",
       "\t<tr><th scope=row>Fiat 128</th><td>32.4</td><td>4</td><td>78.7</td><td>66</td><td>4.08</td><td>2.2</td><td>19.47</td><td>1</td><td>1</td><td>4</td><td>1</td></tr>\n",
       "\t<tr><th scope=row>Honda Civic</th><td>30.4</td><td>4</td><td>75.7</td><td>52</td><td>4.93</td><td>1.615</td><td>18.52</td><td>1</td><td>1</td><td>4</td><td>2</td></tr>\n",
       "\t<tr><th scope=row>Toyota Corolla</th><td>33.9</td><td>4</td><td>71.1</td><td>65</td><td>4.22</td><td>1.835</td><td>19.9</td><td>1</td><td>1</td><td>4</td><td>1</td></tr>\n",
       "\t<tr><th scope=row>Toyota Corona</th><td>21.5</td><td>4</td><td>120.1</td><td>97</td><td>3.7</td><td>2.465</td><td>20.01</td><td>1</td><td>0</td><td>3</td><td>1</td></tr>\n",
       "\t<tr><th scope=row>Dodge Challenger</th><td>15.5</td><td>8</td><td>318</td><td>150</td><td>2.76</td><td>3.52</td><td>16.87</td><td>0</td><td>0</td><td>3</td><td>2</td></tr>\n",
       "\t<tr><th scope=row>AMC Javelin</th><td>15.2</td><td>8</td><td>304</td><td>150</td><td>3.15</td><td>3.435</td><td>17.3</td><td>0</td><td>0</td><td>3</td><td>2</td></tr>\n",
       "\t<tr><th scope=row>Camaro Z28</th><td>13.3</td><td>8</td><td>350</td><td>245</td><td>3.73</td><td>3.84</td><td>15.41</td><td>0</td><td>0</td><td>3</td><td>4</td></tr>\n",
       "\t<tr><th scope=row>Pontiac Firebird</th><td>19.2</td><td>8</td><td>400</td><td>175</td><td>3.08</td><td>3.845</td><td>17.05</td><td>0</td><td>0</td><td>3</td><td>2</td></tr>\n",
       "\t<tr><th scope=row>Fiat X1-9</th><td>27.3</td><td>4</td><td>79</td><td>66</td><td>4.08</td><td>1.935</td><td>18.9</td><td>1</td><td>1</td><td>4</td><td>1</td></tr>\n",
       "\t<tr><th scope=row>Porsche 914-2</th><td>26</td><td>4</td><td>120.3</td><td>91</td><td>4.43</td><td>2.14</td><td>16.7</td><td>0</td><td>1</td><td>5</td><td>2</td></tr>\n",
       "\t<tr><th scope=row>Lotus Europa</th><td>30.4</td><td>4</td><td>95.1</td><td>113</td><td>3.77</td><td>1.513</td><td>16.9</td><td>1</td><td>1</td><td>5</td><td>2</td></tr>\n",
       "\t<tr><th scope=row>Ford Pantera L</th><td>15.8</td><td>8</td><td>351</td><td>264</td><td>4.22</td><td>3.17</td><td>14.5</td><td>0</td><td>1</td><td>5</td><td>4</td></tr>\n",
       "\t<tr><th scope=row>Ferrari Dino</th><td>19.7</td><td>6</td><td>145</td><td>175</td><td>3.62</td><td>2.77</td><td>15.5</td><td>0</td><td>1</td><td>5</td><td>6</td></tr>\n",
       "\t<tr><th scope=row>Maserati Bora</th><td>15</td><td>8</td><td>301</td><td>335</td><td>3.54</td><td>3.57</td><td>14.6</td><td>0</td><td>1</td><td>5</td><td>8</td></tr>\n",
       "\t<tr><th scope=row>Volvo 142E</th><td>21.4</td><td>4</td><td>121</td><td>109</td><td>4.11</td><td>2.78</td><td>18.6</td><td>1</td><td>1</td><td>4</td><td>2</td></tr>\n",
       "</tbody>\n",
       "</table>\n"
      ],
      "text/latex": [
       "\\begin{tabular}{r|lllllllllll}\n",
       "  & mpg & cyl & disp & hp & drat & wt & qsec & vs & am & gear & carb\\\\\n",
       "\\hline\n",
       "\tMazda RX4 & 21 & 6 & 160 & 110 & 3.9 & 2.62 & 16.46 & 0 & 1 & 4 & 4\\\\\n",
       "\tMazda RX4 Wag & 21 & 6 & 160 & 110 & 3.9 & 2.875 & 17.02 & 0 & 1 & 4 & 4\\\\\n",
       "\tDatsun 710 & 22.8 & 4 & 108 & 93 & 3.85 & 2.32 & 18.61 & 1 & 1 & 4 & 1\\\\\n",
       "\tHornet 4 Drive & 21.4 & 6 & 258 & 110 & 3.08 & 3.215 & 19.44 & 1 & 0 & 3 & 1\\\\\n",
       "\tHornet Sportabout & 18.7 & 8 & 360 & 175 & 3.15 & 3.44 & 17.02 & 0 & 0 & 3 & 2\\\\\n",
       "\tValiant & 18.1 & 6 & 225 & 105 & 2.76 & 3.46 & 20.22 & 1 & 0 & 3 & 1\\\\\n",
       "\tDuster 360 & 14.3 & 8 & 360 & 245 & 3.21 & 3.57 & 15.84 & 0 & 0 & 3 & 4\\\\\n",
       "\tMerc 240D & 24.4 & 4 & 146.7 & 62 & 3.69 & 3.19 & 20 & 1 & 0 & 4 & 2\\\\\n",
       "\tMerc 230 & 22.8 & 4 & 140.8 & 95 & 3.92 & 3.15 & 22.9 & 1 & 0 & 4 & 2\\\\\n",
       "\tMerc 280 & 19.2 & 6 & 167.6 & 123 & 3.92 & 3.44 & 18.3 & 1 & 0 & 4 & 4\\\\\n",
       "\tMerc 280C & 17.8 & 6 & 167.6 & 123 & 3.92 & 3.44 & 18.9 & 1 & 0 & 4 & 4\\\\\n",
       "\tMerc 450SE & 16.4 & 8 & 275.8 & 180 & 3.07 & 4.07 & 17.4 & 0 & 0 & 3 & 3\\\\\n",
       "\tMerc 450SL & 17.3 & 8 & 275.8 & 180 & 3.07 & 3.73 & 17.6 & 0 & 0 & 3 & 3\\\\\n",
       "\tMerc 450SLC & 15.2 & 8 & 275.8 & 180 & 3.07 & 3.78 & 18 & 0 & 0 & 3 & 3\\\\\n",
       "\tCadillac Fleetwood & 10.4 & 8 & 472 & 205 & 2.93 & 5.25 & 17.98 & 0 & 0 & 3 & 4\\\\\n",
       "\tLincoln Continental & 10.4 & 8 & 460 & 215 & 3 & 5.424 & 17.82 & 0 & 0 & 3 & 4\\\\\n",
       "\tChrysler Imperial & 14.7 & 8 & 440 & 230 & 3.23 & 5.345 & 17.42 & 0 & 0 & 3 & 4\\\\\n",
       "\tFiat 128 & 32.4 & 4 & 78.7 & 66 & 4.08 & 2.2 & 19.47 & 1 & 1 & 4 & 1\\\\\n",
       "\tHonda Civic & 30.4 & 4 & 75.7 & 52 & 4.93 & 1.615 & 18.52 & 1 & 1 & 4 & 2\\\\\n",
       "\tToyota Corolla & 33.9 & 4 & 71.1 & 65 & 4.22 & 1.835 & 19.9 & 1 & 1 & 4 & 1\\\\\n",
       "\tToyota Corona & 21.5 & 4 & 120.1 & 97 & 3.7 & 2.465 & 20.01 & 1 & 0 & 3 & 1\\\\\n",
       "\tDodge Challenger & 15.5 & 8 & 318 & 150 & 2.76 & 3.52 & 16.87 & 0 & 0 & 3 & 2\\\\\n",
       "\tAMC Javelin & 15.2 & 8 & 304 & 150 & 3.15 & 3.435 & 17.3 & 0 & 0 & 3 & 2\\\\\n",
       "\tCamaro Z28 & 13.3 & 8 & 350 & 245 & 3.73 & 3.84 & 15.41 & 0 & 0 & 3 & 4\\\\\n",
       "\tPontiac Firebird & 19.2 & 8 & 400 & 175 & 3.08 & 3.845 & 17.05 & 0 & 0 & 3 & 2\\\\\n",
       "\tFiat X1-9 & 27.3 & 4 & 79 & 66 & 4.08 & 1.935 & 18.9 & 1 & 1 & 4 & 1\\\\\n",
       "\tPorsche 914-2 & 26 & 4 & 120.3 & 91 & 4.43 & 2.14 & 16.7 & 0 & 1 & 5 & 2\\\\\n",
       "\tLotus Europa & 30.4 & 4 & 95.1 & 113 & 3.77 & 1.513 & 16.9 & 1 & 1 & 5 & 2\\\\\n",
       "\tFord Pantera L & 15.8 & 8 & 351 & 264 & 4.22 & 3.17 & 14.5 & 0 & 1 & 5 & 4\\\\\n",
       "\tFerrari Dino & 19.7 & 6 & 145 & 175 & 3.62 & 2.77 & 15.5 & 0 & 1 & 5 & 6\\\\\n",
       "\tMaserati Bora & 15 & 8 & 301 & 335 & 3.54 & 3.57 & 14.6 & 0 & 1 & 5 & 8\\\\\n",
       "\tVolvo 142E & 21.4 & 4 & 121 & 109 & 4.11 & 2.78 & 18.6 & 1 & 1 & 4 & 2\\\\\n",
       "\\end{tabular}\n"
      ],
      "text/plain": [
       "                     mpg cyl  disp  hp drat    wt  qsec vs am gear carb\n",
       "Mazda RX4           21.0   6 160.0 110 3.90 2.620 16.46  0  1    4    4\n",
       "Mazda RX4 Wag       21.0   6 160.0 110 3.90 2.875 17.02  0  1    4    4\n",
       "Datsun 710          22.8   4 108.0  93 3.85 2.320 18.61  1  1    4    1\n",
       "Hornet 4 Drive      21.4   6 258.0 110 3.08 3.215 19.44  1  0    3    1\n",
       "Hornet Sportabout   18.7   8 360.0 175 3.15 3.440 17.02  0  0    3    2\n",
       "Valiant             18.1   6 225.0 105 2.76 3.460 20.22  1  0    3    1\n",
       "Duster 360          14.3   8 360.0 245 3.21 3.570 15.84  0  0    3    4\n",
       "Merc 240D           24.4   4 146.7  62 3.69 3.190 20.00  1  0    4    2\n",
       "Merc 230            22.8   4 140.8  95 3.92 3.150 22.90  1  0    4    2\n",
       "Merc 280            19.2   6 167.6 123 3.92 3.440 18.30  1  0    4    4\n",
       "Merc 280C           17.8   6 167.6 123 3.92 3.440 18.90  1  0    4    4\n",
       "Merc 450SE          16.4   8 275.8 180 3.07 4.070 17.40  0  0    3    3\n",
       "Merc 450SL          17.3   8 275.8 180 3.07 3.730 17.60  0  0    3    3\n",
       "Merc 450SLC         15.2   8 275.8 180 3.07 3.780 18.00  0  0    3    3\n",
       "Cadillac Fleetwood  10.4   8 472.0 205 2.93 5.250 17.98  0  0    3    4\n",
       "Lincoln Continental 10.4   8 460.0 215 3.00 5.424 17.82  0  0    3    4\n",
       "Chrysler Imperial   14.7   8 440.0 230 3.23 5.345 17.42  0  0    3    4\n",
       "Fiat 128            32.4   4  78.7  66 4.08 2.200 19.47  1  1    4    1\n",
       "Honda Civic         30.4   4  75.7  52 4.93 1.615 18.52  1  1    4    2\n",
       "Toyota Corolla      33.9   4  71.1  65 4.22 1.835 19.90  1  1    4    1\n",
       "Toyota Corona       21.5   4 120.1  97 3.70 2.465 20.01  1  0    3    1\n",
       "Dodge Challenger    15.5   8 318.0 150 2.76 3.520 16.87  0  0    3    2\n",
       "AMC Javelin         15.2   8 304.0 150 3.15 3.435 17.30  0  0    3    2\n",
       "Camaro Z28          13.3   8 350.0 245 3.73 3.840 15.41  0  0    3    4\n",
       "Pontiac Firebird    19.2   8 400.0 175 3.08 3.845 17.05  0  0    3    2\n",
       "Fiat X1-9           27.3   4  79.0  66 4.08 1.935 18.90  1  1    4    1\n",
       "Porsche 914-2       26.0   4 120.3  91 4.43 2.140 16.70  0  1    5    2\n",
       "Lotus Europa        30.4   4  95.1 113 3.77 1.513 16.90  1  1    5    2\n",
       "Ford Pantera L      15.8   8 351.0 264 4.22 3.170 14.50  0  1    5    4\n",
       "Ferrari Dino        19.7   6 145.0 175 3.62 2.770 15.50  0  1    5    6\n",
       "Maserati Bora       15.0   8 301.0 335 3.54 3.570 14.60  0  1    5    8\n",
       "Volvo 142E          21.4   4 121.0 109 4.11 2.780 18.60  1  1    4    2"
      ]
     },
     "metadata": {},
     "output_type": "display_data"
    },
    {
     "data": {
      "text/plain": [
       "      mpg             cyl             disp             hp       \n",
       " Min.   :10.40   Min.   :4.000   Min.   : 71.1   Min.   : 52.0  \n",
       " 1st Qu.:15.43   1st Qu.:4.000   1st Qu.:120.8   1st Qu.: 96.5  \n",
       " Median :19.20   Median :6.000   Median :196.3   Median :123.0  \n",
       " Mean   :20.09   Mean   :6.188   Mean   :230.7   Mean   :146.7  \n",
       " 3rd Qu.:22.80   3rd Qu.:8.000   3rd Qu.:326.0   3rd Qu.:180.0  \n",
       " Max.   :33.90   Max.   :8.000   Max.   :472.0   Max.   :335.0  \n",
       "      drat             wt             qsec             vs        \n",
       " Min.   :2.760   Min.   :1.513   Min.   :14.50   Min.   :0.0000  \n",
       " 1st Qu.:3.080   1st Qu.:2.581   1st Qu.:16.89   1st Qu.:0.0000  \n",
       " Median :3.695   Median :3.325   Median :17.71   Median :0.0000  \n",
       " Mean   :3.597   Mean   :3.217   Mean   :17.85   Mean   :0.4375  \n",
       " 3rd Qu.:3.920   3rd Qu.:3.610   3rd Qu.:18.90   3rd Qu.:1.0000  \n",
       " Max.   :4.930   Max.   :5.424   Max.   :22.90   Max.   :1.0000  \n",
       "       am              gear            carb      \n",
       " Min.   :0.0000   Min.   :3.000   Min.   :1.000  \n",
       " 1st Qu.:0.0000   1st Qu.:3.000   1st Qu.:2.000  \n",
       " Median :0.0000   Median :4.000   Median :2.000  \n",
       " Mean   :0.4062   Mean   :3.688   Mean   :2.812  \n",
       " 3rd Qu.:1.0000   3rd Qu.:4.000   3rd Qu.:4.000  \n",
       " Max.   :1.0000   Max.   :5.000   Max.   :8.000  "
      ]
     },
     "metadata": {},
     "output_type": "display_data"
    },
    {
     "data": {
      "text/plain": [
       "   Min. 1st Qu.  Median    Mean 3rd Qu.    Max. \n",
       "  1.513   2.581   3.325   3.217   3.610   5.424 "
      ]
     },
     "metadata": {},
     "output_type": "display_data"
    },
    {
     "data": {
      "text/html": [
       "<dl class=dl-horizontal>\n",
       "\t<dt>0%</dt>\n",
       "\t\t<dd>1.513</dd>\n",
       "\t<dt>25%</dt>\n",
       "\t\t<dd>2.58125</dd>\n",
       "\t<dt>50%</dt>\n",
       "\t\t<dd>3.325</dd>\n",
       "\t<dt>75%</dt>\n",
       "\t\t<dd>3.61</dd>\n",
       "\t<dt>100%</dt>\n",
       "\t\t<dd>5.424</dd>\n",
       "</dl>\n"
      ],
      "text/latex": [
       "\\begin{description*}\n",
       "\\item[0%] 1.513\n",
       "\\item[25%] 2.58125\n",
       "\\item[50%] 3.325\n",
       "\\item[75%] 3.61\n",
       "\\item[100%] 5.424\n",
       "\\end{description*}\n"
      ],
      "text/markdown": [
       "0%\n",
       ":   1.51325%\n",
       ":   2.5812550%\n",
       ":   3.32575%\n",
       ":   3.61100%\n",
       ":   5.424\n",
       "\n"
      ],
      "text/plain": [
       "     0%     25%     50%     75%    100% \n",
       "1.51300 2.58125 3.32500 3.61000 5.42400 "
      ]
     },
     "metadata": {},
     "output_type": "display_data"
    }
   ],
   "source": [
    "pkgTest(\"datasets\")\n",
    "mtcars\n",
    "summary(mtcars)\n",
    "summary(mtcars$wt)\n",
    "quantile(mtcars$wt)"
   ]
  },
  {
   "cell_type": "code",
   "execution_count": 48,
   "metadata": {
    "collapsed": false
   },
   "outputs": [
    {
     "data": {
      "image/png": "[encoded data removed]",
      "text/plain": [
       "plot without title"
      ]
     },
     "metadata": {
      "image/svg+xml": {
       "isolated": true
      }
     },
     "output_type": "display_data"
    }
   ],
   "source": [
    "boxplot(mtcars$wt, col=\"blue\")\n",
    "# Note: the whiskers (horizontal lines above/below the box) represent 1.5*quartiles (ro represent outliers but not the max. values)\n",
    "\n",
    "abline(h=4)"
   ]
  },
  {
   "cell_type": "code",
   "execution_count": 49,
   "metadata": {
    "collapsed": false
   },
   "outputs": [
    {
     "data": {
      "text/html": [
       "<ol class=list-inline>\n",
       "\t<li>1.615</li>\n",
       "\t<li>1.835</li>\n",
       "\t<li>1.935</li>\n",
       "\t<li>1.513</li>\n",
       "</ol>\n"
      ],
      "text/latex": [
       "\\begin{enumerate*}\n",
       "\\item 1.615\n",
       "\\item 1.835\n",
       "\\item 1.935\n",
       "\\item 1.513\n",
       "\\end{enumerate*}\n"
      ],
      "text/markdown": [
       "1. 1.615\n",
       "2. 1.835\n",
       "3. 1.935\n",
       "4. 1.513\n",
       "\n",
       "\n"
      ],
      "text/plain": [
       "[1] 1.615 1.835 1.935 1.513"
      ]
     },
     "metadata": {},
     "output_type": "display_data"
    },
    {
     "data": {
      "image/png": "[encoded data removed]",
      "text/plain": [
       "Plot with title \"Histogram of mtcars$wt\""
      ]
     },
     "metadata": {
      "image/svg+xml": {
       "isolated": true
      }
     },
     "output_type": "display_data"
    }
   ],
   "source": [
    "hist(mtcars$wt, col=\"green\")\n",
    "\n",
    "# Draws black frequency marks below histogram\n",
    "rug(mtcars$wt)\n",
    "# e.g. to show there are 4 tick marks below 2:\n",
    "mtcars$wt[mtcars$wt < 2]"
   ]
  },
  {
   "cell_type": "code",
   "execution_count": 50,
   "metadata": {
    "collapsed": false
   },
   "outputs": [
    {
     "data": {
      "image/png": "[encoded data removed]",
      "text/plain": [
       "Plot with title \"Histogram of mtcars$wt\""
      ]
     },
     "metadata": {
      "image/svg+xml": {
       "isolated": true
      }
     },
     "output_type": "display_data"
    }
   ],
   "source": [
    "hist(mtcars$wt, col=\"green\", breaks=100) # Break histogram into 100 buckets\n",
    "\n",
    "rug(mtcars$wt)\n",
    "\n",
    "abline(v=3.5, col='magenta', lwd=4)\n",
    "abline(v = median(mtcars$wt), col = \"yellow\", lwd = 4)"
   ]
  },
  {
   "cell_type": "code",
   "execution_count": 60,
   "metadata": {
    "collapsed": false
   },
   "outputs": [
    {
     "data": {
      "text/html": [
       "<ol class=list-inline>\n",
       "\t<li>\"mpg\"</li>\n",
       "\t<li>\"cyl\"</li>\n",
       "\t<li>\"disp\"</li>\n",
       "\t<li>\"hp\"</li>\n",
       "\t<li>\"drat\"</li>\n",
       "\t<li>\"wt\"</li>\n",
       "\t<li>\"qsec\"</li>\n",
       "\t<li>\"vs\"</li>\n",
       "\t<li>\"am\"</li>\n",
       "\t<li>\"gear\"</li>\n",
       "\t<li>\"carb\"</li>\n",
       "</ol>\n"
      ],
      "text/latex": [
       "\\begin{enumerate*}\n",
       "\\item \"mpg\"\n",
       "\\item \"cyl\"\n",
       "\\item \"disp\"\n",
       "\\item \"hp\"\n",
       "\\item \"drat\"\n",
       "\\item \"wt\"\n",
       "\\item \"qsec\"\n",
       "\\item \"vs\"\n",
       "\\item \"am\"\n",
       "\\item \"gear\"\n",
       "\\item \"carb\"\n",
       "\\end{enumerate*}\n"
      ],
      "text/markdown": [
       "1. \"mpg\"\n",
       "2. \"cyl\"\n",
       "3. \"disp\"\n",
       "4. \"hp\"\n",
       "5. \"drat\"\n",
       "6. \"wt\"\n",
       "7. \"qsec\"\n",
       "8. \"vs\"\n",
       "9. \"am\"\n",
       "10. \"gear\"\n",
       "11. \"carb\"\n",
       "\n",
       "\n"
      ],
      "text/plain": [
       " [1] \"mpg\"  \"cyl\"  \"disp\" \"hp\"   \"drat\" \"wt\"   \"qsec\" \"vs\"   \"am\"   \"gear\"\n",
       "[11] \"carb\""
      ]
     },
     "metadata": {},
     "output_type": "display_data"
    },
    {
     "data": {
      "image/png": "[encoded data removed]",
      "text/plain": [
       "Plot with title \"Plot Title - weight distribution\""
      ]
     },
     "metadata": {
      "image/svg+xml": {
       "isolated": true
      }
     },
     "output_type": "display_data"
    }
   ],
   "source": [
    "names(mtcars)\n",
    "weight <- table(mtcars$wt)\n",
    "barplot(weight, col='purple', main='Plot Title - weight distribution')"
   ]
  },
  {
   "cell_type": "code",
   "execution_count": 52,
   "metadata": {
    "collapsed": false
   },
   "outputs": [
    {
     "data": {
      "text/html": [
       "<ol class=list-inline>\n",
       "\t<li>\"mpg\"</li>\n",
       "\t<li>\"cyl\"</li>\n",
       "\t<li>\"disp\"</li>\n",
       "\t<li>\"hp\"</li>\n",
       "\t<li>\"drat\"</li>\n",
       "\t<li>\"wt\"</li>\n",
       "\t<li>\"qsec\"</li>\n",
       "\t<li>\"vs\"</li>\n",
       "\t<li>\"am\"</li>\n",
       "\t<li>\"gear\"</li>\n",
       "\t<li>\"carb\"</li>\n",
       "</ol>\n"
      ],
      "text/latex": [
       "\\begin{enumerate*}\n",
       "\\item \"mpg\"\n",
       "\\item \"cyl\"\n",
       "\\item \"disp\"\n",
       "\\item \"hp\"\n",
       "\\item \"drat\"\n",
       "\\item \"wt\"\n",
       "\\item \"qsec\"\n",
       "\\item \"vs\"\n",
       "\\item \"am\"\n",
       "\\item \"gear\"\n",
       "\\item \"carb\"\n",
       "\\end{enumerate*}\n"
      ],
      "text/markdown": [
       "1. \"mpg\"\n",
       "2. \"cyl\"\n",
       "3. \"disp\"\n",
       "4. \"hp\"\n",
       "5. \"drat\"\n",
       "6. \"wt\"\n",
       "7. \"qsec\"\n",
       "8. \"vs\"\n",
       "9. \"am\"\n",
       "10. \"gear\"\n",
       "11. \"carb\"\n",
       "\n",
       "\n"
      ],
      "text/plain": [
       " [1] \"mpg\"  \"cyl\"  \"disp\" \"hp\"   \"drat\" \"wt\"   \"qsec\" \"vs\"   \"am\"   \"gear\"\n",
       "[11] \"carb\""
      ]
     },
     "metadata": {},
     "output_type": "display_data"
    },
    {
     "data": {
      "text/html": [
       "\n",
       "<table width=\"100%\" summary=\"page for mtcars {datasets}\"><tr><td>mtcars {datasets}</td><td style=\"text-align: right;\">R Documentation</td></tr></table>\n",
       "\n",
       "<h2>Motor Trend Car Road Tests</h2>\n",
       "\n",
       "<h3>Description</h3>\n",
       "\n",
       "<p>The data was extracted from the 1974 <em>Motor Trend</em> US magazine,\n",
       "and comprises fuel consumption and 10 aspects of\n",
       "automobile design and performance for 32 automobiles (1973&ndash;74\n",
       "models).\n",
       "</p>\n",
       "\n",
       "\n",
       "<h3>Usage</h3>\n",
       "\n",
       "<pre>mtcars</pre>\n",
       "\n",
       "\n",
       "<h3>Format</h3>\n",
       "\n",
       "<p>A data frame with 32 observations on 11 variables.\n",
       "</p>\n",
       "\n",
       "<table summary=\"Rd table\">\n",
       "<tr>\n",
       " <td style=\"text-align: right;\">\n",
       "    [, 1] </td><td style=\"text-align: left;\"> mpg  </td><td style=\"text-align: left;\"> Miles/(US) gallon </td>\n",
       "</tr>\n",
       "<tr>\n",
       " <td style=\"text-align: right;\">\n",
       "    [, 2] </td><td style=\"text-align: left;\"> cyl  </td><td style=\"text-align: left;\"> Number of cylinders </td>\n",
       "</tr>\n",
       "<tr>\n",
       " <td style=\"text-align: right;\">\n",
       "    [, 3] </td><td style=\"text-align: left;\"> disp </td><td style=\"text-align: left;\"> Displacement (cu.in.) </td>\n",
       "</tr>\n",
       "<tr>\n",
       " <td style=\"text-align: right;\">\n",
       "    [, 4] </td><td style=\"text-align: left;\"> hp   </td><td style=\"text-align: left;\"> Gross horsepower </td>\n",
       "</tr>\n",
       "<tr>\n",
       " <td style=\"text-align: right;\">\n",
       "    [, 5] </td><td style=\"text-align: left;\"> drat </td><td style=\"text-align: left;\"> Rear axle ratio </td>\n",
       "</tr>\n",
       "<tr>\n",
       " <td style=\"text-align: right;\">\n",
       "    [, 6] </td><td style=\"text-align: left;\"> wt   </td><td style=\"text-align: left;\"> Weight (1000 lbs) </td>\n",
       "</tr>\n",
       "<tr>\n",
       " <td style=\"text-align: right;\">\n",
       "    [, 7] </td><td style=\"text-align: left;\"> qsec </td><td style=\"text-align: left;\"> 1/4 mile time </td>\n",
       "</tr>\n",
       "<tr>\n",
       " <td style=\"text-align: right;\">\n",
       "    [, 8] </td><td style=\"text-align: left;\"> vs   </td><td style=\"text-align: left;\"> V/S </td>\n",
       "</tr>\n",
       "<tr>\n",
       " <td style=\"text-align: right;\">\n",
       "    [, 9] </td><td style=\"text-align: left;\"> am   </td><td style=\"text-align: left;\"> Transmission (0 = automatic, 1 = manual) </td>\n",
       "</tr>\n",
       "<tr>\n",
       " <td style=\"text-align: right;\">\n",
       "    [,10] </td><td style=\"text-align: left;\"> gear </td><td style=\"text-align: left;\"> Number of forward gears </td>\n",
       "</tr>\n",
       "<tr>\n",
       " <td style=\"text-align: right;\">\n",
       "    [,11] </td><td style=\"text-align: left;\"> carb </td><td style=\"text-align: left;\"> Number of carburetors\n",
       "  </td>\n",
       "</tr>\n",
       "\n",
       "</table>\n",
       "\n",
       "\n",
       "\n",
       "<h3>Source</h3>\n",
       "\n",
       "<p>Henderson and Velleman (1981),\n",
       "Building multiple regression models interactively.\n",
       "<em>Biometrics</em>, <b>37</b>, 391&ndash;411.\n",
       "</p>\n",
       "\n",
       "\n",
       "<h3>Examples</h3>\n",
       "\n",
       "<pre>\n",
       "require(graphics)\n",
       "pairs(mtcars, main = \"mtcars data\")\n",
       "coplot(mpg ~ disp | as.factor(cyl), data = mtcars,\n",
       "       panel = panel.smooth, rows = 1)\n",
       "</pre>\n",
       "\n",
       "<hr /><div style=\"text-align: center;\">[Package <em>datasets</em> version 3.2.4 ]</div>"
      ],
      "text/latex": [
       "\\inputencoding{utf8}\n",
       "\\HeaderA{mtcars}{Motor Trend Car Road Tests}{mtcars}\n",
       "\\keyword{datasets}{mtcars}\n",
       "%\n",
       "\\begin{Description}\\relax\n",
       "The data was extracted from the 1974 \\emph{Motor Trend} US magazine,\n",
       "and comprises fuel consumption and 10 aspects of\n",
       "automobile design and performance for 32 automobiles (1973--74\n",
       "models).\n",
       "\\end{Description}\n",
       "%\n",
       "\\begin{Usage}\n",
       "\\begin{verbatim}\n",
       "mtcars\n",
       "\\end{verbatim}\n",
       "\\end{Usage}\n",
       "%\n",
       "\\begin{Format}\n",
       "A data frame with 32 observations on 11 variables.\n",
       "\n",
       "\\Tabular{rll}{\n",
       "[, 1] & mpg  & Miles/(US) gallon \\\\{}\n",
       "[, 2] & cyl  & Number of cylinders \\\\{}\n",
       "[, 3] & disp & Displacement (cu.in.) \\\\{}\n",
       "[, 4] & hp   & Gross horsepower \\\\{}\n",
       "[, 5] & drat & Rear axle ratio \\\\{}\n",
       "[, 6] & wt   & Weight (1000 lbs) \\\\{}\n",
       "[, 7] & qsec & 1/4 mile time \\\\{}\n",
       "[, 8] & vs   & V/S \\\\{}\n",
       "[, 9] & am   & Transmission (0 = automatic, 1 = manual) \\\\{}\n",
       "[,10] & gear & Number of forward gears \\\\{}\n",
       "[,11] & carb & Number of carburetors\n",
       "}\n",
       "\\end{Format}\n",
       "%\n",
       "\\begin{Source}\\relax\n",
       "Henderson and Velleman (1981),\n",
       "Building multiple regression models interactively.\n",
       "\\emph{Biometrics}, \\bold{37}, 391--411.\n",
       "\\end{Source}\n",
       "%\n",
       "\\begin{Examples}\n",
       "\\begin{ExampleCode}\n",
       "require(graphics)\n",
       "pairs(mtcars, main = \"mtcars data\")\n",
       "coplot(mpg ~ disp | as.factor(cyl), data = mtcars,\n",
       "       panel = panel.smooth, rows = 1)\n",
       "\\end{ExampleCode}\n",
       "\\end{Examples}"
      ],
      "text/plain": [
       "mtcars                package:datasets                 R Documentation\n",
       "\n",
       "_\bM_\bo_\bt_\bo_\br _\bT_\br_\be_\bn_\bd _\bC_\ba_\br _\bR_\bo_\ba_\bd _\bT_\be_\bs_\bt_\bs\n",
       "\n",
       "_\bD_\be_\bs_\bc_\br_\bi_\bp_\bt_\bi_\bo_\bn:\n",
       "\n",
       "     The data was extracted from the 1974 _Motor Trend_ US magazine,\n",
       "     and comprises fuel consumption and 10 aspects of automobile design\n",
       "     and performance for 32 automobiles (1973-74 models).\n",
       "\n",
       "_\bU_\bs_\ba_\bg_\be:\n",
       "\n",
       "     mtcars\n",
       "     \n",
       "_\bF_\bo_\br_\bm_\ba_\bt:\n",
       "\n",
       "     A data frame with 32 observations on 11 variables.\n",
       "\n",
       "       [, 1]  mpg   Miles/(US) gallon                        \n",
       "       [, 2]  cyl   Number of cylinders                      \n",
       "       [, 3]  disp  Displacement (cu.in.)                    \n",
       "       [, 4]  hp    Gross horsepower                         \n",
       "       [, 5]  drat  Rear axle ratio                          \n",
       "       [, 6]  wt    Weight (1000 lbs)                        \n",
       "       [, 7]  qsec  1/4 mile time                            \n",
       "       [, 8]  vs    V/S                                      \n",
       "       [, 9]  am    Transmission (0 = automatic, 1 = manual) \n",
       "       [,10]  gear  Number of forward gears                  \n",
       "       [,11]  carb  Number of carburetors                    \n",
       "      \n",
       "_\bS_\bo_\bu_\br_\bc_\be:\n",
       "\n",
       "     Henderson and Velleman (1981), Building multiple regression models\n",
       "     interactively.  _Biometrics_, *37*, 391-411.\n",
       "\n",
       "_\bE_\bx_\ba_\bm_\bp_\bl_\be_\bs:\n",
       "\n",
       "     require(graphics)\n",
       "     pairs(mtcars, main = \"mtcars data\")\n",
       "     coplot(mpg ~ disp | as.factor(cyl), data = mtcars,\n",
       "            panel = panel.smooth, rows = 1)\n",
       "     "
      ]
     },
     "metadata": {},
     "output_type": "display_data"
    },
    {
     "data": {
      "image/png": "[encoded data removed]",
      "text/plain": [
       "plot without title"
      ]
     },
     "metadata": {
      "image/svg+xml": {
       "isolated": true
      }
     },
     "output_type": "display_data"
    }
   ],
   "source": [
    "names(mtcars)\n",
    "boxplot(mpg ~ carb, data=mtcars, col='green')\n",
    "?mtcars"
   ]
  },
  {
   "cell_type": "code",
   "execution_count": 53,
   "metadata": {
    "collapsed": false
   },
   "outputs": [
    {
     "data": {
      "text/html": [
       "<table>\n",
       "<thead><tr><th></th><th scope=col>mpg</th><th scope=col>cyl</th><th scope=col>disp</th><th scope=col>hp</th><th scope=col>drat</th><th scope=col>wt</th><th scope=col>qsec</th><th scope=col>vs</th><th scope=col>am</th><th scope=col>gear</th><th scope=col>carb</th></tr></thead>\n",
       "<tbody>\n",
       "\t<tr><th scope=row>Duster 360</th><td>14.3</td><td>8</td><td>360</td><td>245</td><td>3.21</td><td>3.57</td><td>15.84</td><td>0</td><td>0</td><td>3</td><td>4</td></tr>\n",
       "\t<tr><th scope=row>Cadillac Fleetwood</th><td>10.4</td><td>8</td><td>472</td><td>205</td><td>2.93</td><td>5.25</td><td>17.98</td><td>0</td><td>0</td><td>3</td><td>4</td></tr>\n",
       "\t<tr><th scope=row>Lincoln Continental</th><td>10.4</td><td>8</td><td>460</td><td>215</td><td>3</td><td>5.424</td><td>17.82</td><td>0</td><td>0</td><td>3</td><td>4</td></tr>\n",
       "\t<tr><th scope=row>Chrysler Imperial</th><td>14.7</td><td>8</td><td>440</td><td>230</td><td>3.23</td><td>5.345</td><td>17.42</td><td>0</td><td>0</td><td>3</td><td>4</td></tr>\n",
       "\t<tr><th scope=row>Camaro Z28</th><td>13.3</td><td>8</td><td>350</td><td>245</td><td>3.73</td><td>3.84</td><td>15.41</td><td>0</td><td>0</td><td>3</td><td>4</td></tr>\n",
       "</tbody>\n",
       "</table>\n"
      ],
      "text/latex": [
       "\\begin{tabular}{r|lllllllllll}\n",
       "  & mpg & cyl & disp & hp & drat & wt & qsec & vs & am & gear & carb\\\\\n",
       "\\hline\n",
       "\tDuster 360 & 14.3 & 8 & 360 & 245 & 3.21 & 3.57 & 15.84 & 0 & 0 & 3 & 4\\\\\n",
       "\tCadillac Fleetwood & 10.4 & 8 & 472 & 205 & 2.93 & 5.25 & 17.98 & 0 & 0 & 3 & 4\\\\\n",
       "\tLincoln Continental & 10.4 & 8 & 460 & 215 & 3 & 5.424 & 17.82 & 0 & 0 & 3 & 4\\\\\n",
       "\tChrysler Imperial & 14.7 & 8 & 440 & 230 & 3.23 & 5.345 & 17.42 & 0 & 0 & 3 & 4\\\\\n",
       "\tCamaro Z28 & 13.3 & 8 & 350 & 245 & 3.73 & 3.84 & 15.41 & 0 & 0 & 3 & 4\\\\\n",
       "\\end{tabular}\n"
      ],
      "text/plain": [
       "                     mpg cyl disp  hp drat    wt  qsec vs am gear carb\n",
       "Duster 360          14.3   8  360 245 3.21 3.570 15.84  0  0    3    4\n",
       "Cadillac Fleetwood  10.4   8  472 205 2.93 5.250 17.98  0  0    3    4\n",
       "Lincoln Continental 10.4   8  460 215 3.00 5.424 17.82  0  0    3    4\n",
       "Chrysler Imperial   14.7   8  440 230 3.23 5.345 17.42  0  0    3    4\n",
       "Camaro Z28          13.3   8  350 245 3.73 3.840 15.41  0  0    3    4"
      ]
     },
     "metadata": {},
     "output_type": "display_data"
    },
    {
     "data": {
      "text/html": [
       "<table>\n",
       "<thead><tr><th></th><th scope=col>mpg</th><th scope=col>cyl</th><th scope=col>disp</th><th scope=col>hp</th><th scope=col>drat</th><th scope=col>wt</th><th scope=col>qsec</th><th scope=col>vs</th><th scope=col>am</th><th scope=col>gear</th><th scope=col>carb</th></tr></thead>\n",
       "<tbody>\n",
       "\t<tr><th scope=row>Mazda RX4</th><td>21</td><td>6</td><td>160</td><td>110</td><td>3.9</td><td>2.62</td><td>16.46</td><td>0</td><td>1</td><td>4</td><td>4</td></tr>\n",
       "\t<tr><th scope=row>Mazda RX4 Wag</th><td>21</td><td>6</td><td>160</td><td>110</td><td>3.9</td><td>2.875</td><td>17.02</td><td>0</td><td>1</td><td>4</td><td>4</td></tr>\n",
       "\t<tr><th scope=row>Datsun 710</th><td>22.8</td><td>4</td><td>108</td><td>93</td><td>3.85</td><td>2.32</td><td>18.61</td><td>1</td><td>1</td><td>4</td><td>1</td></tr>\n",
       "\t<tr><th scope=row>Hornet 4 Drive</th><td>21.4</td><td>6</td><td>258</td><td>110</td><td>3.08</td><td>3.215</td><td>19.44</td><td>1</td><td>0</td><td>3</td><td>1</td></tr>\n",
       "\t<tr><th scope=row>Hornet Sportabout</th><td>18.7</td><td>8</td><td>360</td><td>175</td><td>3.15</td><td>3.44</td><td>17.02</td><td>0</td><td>0</td><td>3</td><td>2</td></tr>\n",
       "\t<tr><th scope=row>Valiant</th><td>18.1</td><td>6</td><td>225</td><td>105</td><td>2.76</td><td>3.46</td><td>20.22</td><td>1</td><td>0</td><td>3</td><td>1</td></tr>\n",
       "\t<tr><th scope=row>Merc 240D</th><td>24.4</td><td>4</td><td>146.7</td><td>62</td><td>3.69</td><td>3.19</td><td>20</td><td>1</td><td>0</td><td>4</td><td>2</td></tr>\n",
       "\t<tr><th scope=row>Merc 230</th><td>22.8</td><td>4</td><td>140.8</td><td>95</td><td>3.92</td><td>3.15</td><td>22.9</td><td>1</td><td>0</td><td>4</td><td>2</td></tr>\n",
       "\t<tr><th scope=row>Merc 280</th><td>19.2</td><td>6</td><td>167.6</td><td>123</td><td>3.92</td><td>3.44</td><td>18.3</td><td>1</td><td>0</td><td>4</td><td>4</td></tr>\n",
       "\t<tr><th scope=row>Merc 280C</th><td>17.8</td><td>6</td><td>167.6</td><td>123</td><td>3.92</td><td>3.44</td><td>18.9</td><td>1</td><td>0</td><td>4</td><td>4</td></tr>\n",
       "\t<tr><th scope=row>Merc 450SE</th><td>16.4</td><td>8</td><td>275.8</td><td>180</td><td>3.07</td><td>4.07</td><td>17.4</td><td>0</td><td>0</td><td>3</td><td>3</td></tr>\n",
       "\t<tr><th scope=row>Merc 450SL</th><td>17.3</td><td>8</td><td>275.8</td><td>180</td><td>3.07</td><td>3.73</td><td>17.6</td><td>0</td><td>0</td><td>3</td><td>3</td></tr>\n",
       "\t<tr><th scope=row>Merc 450SLC</th><td>15.2</td><td>8</td><td>275.8</td><td>180</td><td>3.07</td><td>3.78</td><td>18</td><td>0</td><td>0</td><td>3</td><td>3</td></tr>\n",
       "\t<tr><th scope=row>Fiat 128</th><td>32.4</td><td>4</td><td>78.7</td><td>66</td><td>4.08</td><td>2.2</td><td>19.47</td><td>1</td><td>1</td><td>4</td><td>1</td></tr>\n",
       "\t<tr><th scope=row>Honda Civic</th><td>30.4</td><td>4</td><td>75.7</td><td>52</td><td>4.93</td><td>1.615</td><td>18.52</td><td>1</td><td>1</td><td>4</td><td>2</td></tr>\n",
       "\t<tr><th scope=row>Toyota Corolla</th><td>33.9</td><td>4</td><td>71.1</td><td>65</td><td>4.22</td><td>1.835</td><td>19.9</td><td>1</td><td>1</td><td>4</td><td>1</td></tr>\n",
       "\t<tr><th scope=row>Toyota Corona</th><td>21.5</td><td>4</td><td>120.1</td><td>97</td><td>3.7</td><td>2.465</td><td>20.01</td><td>1</td><td>0</td><td>3</td><td>1</td></tr>\n",
       "\t<tr><th scope=row>Dodge Challenger</th><td>15.5</td><td>8</td><td>318</td><td>150</td><td>2.76</td><td>3.52</td><td>16.87</td><td>0</td><td>0</td><td>3</td><td>2</td></tr>\n",
       "\t<tr><th scope=row>AMC Javelin</th><td>15.2</td><td>8</td><td>304</td><td>150</td><td>3.15</td><td>3.435</td><td>17.3</td><td>0</td><td>0</td><td>3</td><td>2</td></tr>\n",
       "\t<tr><th scope=row>Pontiac Firebird</th><td>19.2</td><td>8</td><td>400</td><td>175</td><td>3.08</td><td>3.845</td><td>17.05</td><td>0</td><td>0</td><td>3</td><td>2</td></tr>\n",
       "\t<tr><th scope=row>Fiat X1-9</th><td>27.3</td><td>4</td><td>79</td><td>66</td><td>4.08</td><td>1.935</td><td>18.9</td><td>1</td><td>1</td><td>4</td><td>1</td></tr>\n",
       "\t<tr><th scope=row>Porsche 914-2</th><td>26</td><td>4</td><td>120.3</td><td>91</td><td>4.43</td><td>2.14</td><td>16.7</td><td>0</td><td>1</td><td>5</td><td>2</td></tr>\n",
       "\t<tr><th scope=row>Lotus Europa</th><td>30.4</td><td>4</td><td>95.1</td><td>113</td><td>3.77</td><td>1.513</td><td>16.9</td><td>1</td><td>1</td><td>5</td><td>2</td></tr>\n",
       "\t<tr><th scope=row>Ford Pantera L</th><td>15.8</td><td>8</td><td>351</td><td>264</td><td>4.22</td><td>3.17</td><td>14.5</td><td>0</td><td>1</td><td>5</td><td>4</td></tr>\n",
       "\t<tr><th scope=row>Ferrari Dino</th><td>19.7</td><td>6</td><td>145</td><td>175</td><td>3.62</td><td>2.77</td><td>15.5</td><td>0</td><td>1</td><td>5</td><td>6</td></tr>\n",
       "\t<tr><th scope=row>Maserati Bora</th><td>15</td><td>8</td><td>301</td><td>335</td><td>3.54</td><td>3.57</td><td>14.6</td><td>0</td><td>1</td><td>5</td><td>8</td></tr>\n",
       "\t<tr><th scope=row>Volvo 142E</th><td>21.4</td><td>4</td><td>121</td><td>109</td><td>4.11</td><td>2.78</td><td>18.6</td><td>1</td><td>1</td><td>4</td><td>2</td></tr>\n",
       "</tbody>\n",
       "</table>\n"
      ],
      "text/latex": [
       "\\begin{tabular}{r|lllllllllll}\n",
       "  & mpg & cyl & disp & hp & drat & wt & qsec & vs & am & gear & carb\\\\\n",
       "\\hline\n",
       "\tMazda RX4 & 21 & 6 & 160 & 110 & 3.9 & 2.62 & 16.46 & 0 & 1 & 4 & 4\\\\\n",
       "\tMazda RX4 Wag & 21 & 6 & 160 & 110 & 3.9 & 2.875 & 17.02 & 0 & 1 & 4 & 4\\\\\n",
       "\tDatsun 710 & 22.8 & 4 & 108 & 93 & 3.85 & 2.32 & 18.61 & 1 & 1 & 4 & 1\\\\\n",
       "\tHornet 4 Drive & 21.4 & 6 & 258 & 110 & 3.08 & 3.215 & 19.44 & 1 & 0 & 3 & 1\\\\\n",
       "\tHornet Sportabout & 18.7 & 8 & 360 & 175 & 3.15 & 3.44 & 17.02 & 0 & 0 & 3 & 2\\\\\n",
       "\tValiant & 18.1 & 6 & 225 & 105 & 2.76 & 3.46 & 20.22 & 1 & 0 & 3 & 1\\\\\n",
       "\tMerc 240D & 24.4 & 4 & 146.7 & 62 & 3.69 & 3.19 & 20 & 1 & 0 & 4 & 2\\\\\n",
       "\tMerc 230 & 22.8 & 4 & 140.8 & 95 & 3.92 & 3.15 & 22.9 & 1 & 0 & 4 & 2\\\\\n",
       "\tMerc 280 & 19.2 & 6 & 167.6 & 123 & 3.92 & 3.44 & 18.3 & 1 & 0 & 4 & 4\\\\\n",
       "\tMerc 280C & 17.8 & 6 & 167.6 & 123 & 3.92 & 3.44 & 18.9 & 1 & 0 & 4 & 4\\\\\n",
       "\tMerc 450SE & 16.4 & 8 & 275.8 & 180 & 3.07 & 4.07 & 17.4 & 0 & 0 & 3 & 3\\\\\n",
       "\tMerc 450SL & 17.3 & 8 & 275.8 & 180 & 3.07 & 3.73 & 17.6 & 0 & 0 & 3 & 3\\\\\n",
       "\tMerc 450SLC & 15.2 & 8 & 275.8 & 180 & 3.07 & 3.78 & 18 & 0 & 0 & 3 & 3\\\\\n",
       "\tFiat 128 & 32.4 & 4 & 78.7 & 66 & 4.08 & 2.2 & 19.47 & 1 & 1 & 4 & 1\\\\\n",
       "\tHonda Civic & 30.4 & 4 & 75.7 & 52 & 4.93 & 1.615 & 18.52 & 1 & 1 & 4 & 2\\\\\n",
       "\tToyota Corolla & 33.9 & 4 & 71.1 & 65 & 4.22 & 1.835 & 19.9 & 1 & 1 & 4 & 1\\\\\n",
       "\tToyota Corona & 21.5 & 4 & 120.1 & 97 & 3.7 & 2.465 & 20.01 & 1 & 0 & 3 & 1\\\\\n",
       "\tDodge Challenger & 15.5 & 8 & 318 & 150 & 2.76 & 3.52 & 16.87 & 0 & 0 & 3 & 2\\\\\n",
       "\tAMC Javelin & 15.2 & 8 & 304 & 150 & 3.15 & 3.435 & 17.3 & 0 & 0 & 3 & 2\\\\\n",
       "\tPontiac Firebird & 19.2 & 8 & 400 & 175 & 3.08 & 3.845 & 17.05 & 0 & 0 & 3 & 2\\\\\n",
       "\tFiat X1-9 & 27.3 & 4 & 79 & 66 & 4.08 & 1.935 & 18.9 & 1 & 1 & 4 & 1\\\\\n",
       "\tPorsche 914-2 & 26 & 4 & 120.3 & 91 & 4.43 & 2.14 & 16.7 & 0 & 1 & 5 & 2\\\\\n",
       "\tLotus Europa & 30.4 & 4 & 95.1 & 113 & 3.77 & 1.513 & 16.9 & 1 & 1 & 5 & 2\\\\\n",
       "\tFord Pantera L & 15.8 & 8 & 351 & 264 & 4.22 & 3.17 & 14.5 & 0 & 1 & 5 & 4\\\\\n",
       "\tFerrari Dino & 19.7 & 6 & 145 & 175 & 3.62 & 2.77 & 15.5 & 0 & 1 & 5 & 6\\\\\n",
       "\tMaserati Bora & 15 & 8 & 301 & 335 & 3.54 & 3.57 & 14.6 & 0 & 1 & 5 & 8\\\\\n",
       "\tVolvo 142E & 21.4 & 4 & 121 & 109 & 4.11 & 2.78 & 18.6 & 1 & 1 & 4 & 2\\\\\n",
       "\\end{tabular}\n"
      ],
      "text/plain": [
       "                   mpg cyl  disp  hp drat    wt  qsec vs am gear carb\n",
       "Mazda RX4         21.0   6 160.0 110 3.90 2.620 16.46  0  1    4    4\n",
       "Mazda RX4 Wag     21.0   6 160.0 110 3.90 2.875 17.02  0  1    4    4\n",
       "Datsun 710        22.8   4 108.0  93 3.85 2.320 18.61  1  1    4    1\n",
       "Hornet 4 Drive    21.4   6 258.0 110 3.08 3.215 19.44  1  0    3    1\n",
       "Hornet Sportabout 18.7   8 360.0 175 3.15 3.440 17.02  0  0    3    2\n",
       "Valiant           18.1   6 225.0 105 2.76 3.460 20.22  1  0    3    1\n",
       "Merc 240D         24.4   4 146.7  62 3.69 3.190 20.00  1  0    4    2\n",
       "Merc 230          22.8   4 140.8  95 3.92 3.150 22.90  1  0    4    2\n",
       "Merc 280          19.2   6 167.6 123 3.92 3.440 18.30  1  0    4    4\n",
       "Merc 280C         17.8   6 167.6 123 3.92 3.440 18.90  1  0    4    4\n",
       "Merc 450SE        16.4   8 275.8 180 3.07 4.070 17.40  0  0    3    3\n",
       "Merc 450SL        17.3   8 275.8 180 3.07 3.730 17.60  0  0    3    3\n",
       "Merc 450SLC       15.2   8 275.8 180 3.07 3.780 18.00  0  0    3    3\n",
       "Fiat 128          32.4   4  78.7  66 4.08 2.200 19.47  1  1    4    1\n",
       "Honda Civic       30.4   4  75.7  52 4.93 1.615 18.52  1  1    4    2\n",
       "Toyota Corolla    33.9   4  71.1  65 4.22 1.835 19.90  1  1    4    1\n",
       "Toyota Corona     21.5   4 120.1  97 3.70 2.465 20.01  1  0    3    1\n",
       "Dodge Challenger  15.5   8 318.0 150 2.76 3.520 16.87  0  0    3    2\n",
       "AMC Javelin       15.2   8 304.0 150 3.15 3.435 17.30  0  0    3    2\n",
       "Pontiac Firebird  19.2   8 400.0 175 3.08 3.845 17.05  0  0    3    2\n",
       "Fiat X1-9         27.3   4  79.0  66 4.08 1.935 18.90  1  1    4    1\n",
       "Porsche 914-2     26.0   4 120.3  91 4.43 2.140 16.70  0  1    5    2\n",
       "Lotus Europa      30.4   4  95.1 113 3.77 1.513 16.90  1  1    5    2\n",
       "Ford Pantera L    15.8   8 351.0 264 4.22 3.170 14.50  0  1    5    4\n",
       "Ferrari Dino      19.7   6 145.0 175 3.62 2.770 15.50  0  1    5    6\n",
       "Maserati Bora     15.0   8 301.0 335 3.54 3.570 14.60  0  1    5    8\n",
       "Volvo 142E        21.4   4 121.0 109 4.11 2.780 18.60  1  1    4    2"
      ]
     },
     "metadata": {},
     "output_type": "display_data"
    }
   ],
   "source": [
    "# Setup for parallel plots with row/cols=2/1, margins\n",
    "#par(mfrow=c(2,1),mar=c(4,4,2,1))\n",
    "\n",
    "# Setup for parallel plots with row/cols=1/2, margins\n",
    "# doesn't work? par(mfrow=c(1,2),mar=c(4,4,2,1))\n",
    "\n",
    "lowmpg <- subset(mtcars, mpg < 15)\n",
    "highmpg <- subset(mtcars, mpg >=15)\n",
    "\n",
    "lowmpg\n",
    "highmpg"
   ]
  },
  {
   "cell_type": "code",
   "execution_count": 54,
   "metadata": {
    "collapsed": false
   },
   "outputs": [
    {
     "data": {
      "image/png": "[encoded data removed]",
      "text/plain": [
       "Plot with title \"Histogram of lowmpg$mpg\""
      ]
     },
     "metadata": {
      "image/svg+xml": {
       "isolated": true
      }
     },
     "output_type": "display_data"
    },
    {
     "data": {
      "image/png": "[encoded data removed]",
      "text/plain": [
       "Plot with title \"Histogram of highmpg$mpg\""
      ]
     },
     "metadata": {
      "image/svg+xml": {
       "isolated": true
      }
     },
     "output_type": "display_data"
    },
    {
     "data": {
      "image/png": "[encoded data removed]",
      "text/plain": [
       "Plot with title \"Histogram of subset(mtcars, mpg >= 15)$mpg\""
      ]
     },
     "metadata": {
      "image/svg+xml": {
       "isolated": true
      }
     },
     "output_type": "display_data"
    }
   ],
   "source": [
    "hist(lowmpg$mpg, col='green')\n",
    "hist(highmpg$mpg, col='red')\n",
    "hist(subset(mtcars, mpg >=15)$mpg, col='red')"
   ]
  },
  {
   "cell_type": "code",
   "execution_count": 55,
   "metadata": {
    "collapsed": false
   },
   "outputs": [
    {
     "data": {
      "image/png": "[encoded data removed]",
      "text/plain": [
       "plot without title"
      ]
     },
     "metadata": {
      "image/svg+xml": {
       "isolated": true
      }
     },
     "output_type": "display_data"
    }
   ],
   "source": [
    "with(mtcars, plot(wt, mpg, col='red'))\n",
    "abline(h=20, lwd=2, lty=2) # lwd=width of 2, lty=dotted line\n"
   ]
  },
  {
   "cell_type": "code",
   "execution_count": 56,
   "metadata": {
    "collapsed": false
   },
   "outputs": [
    {
     "data": {
      "image/png": "[encoded data removed]",
      "text/plain": [
       "plot without title"
      ]
     },
     "metadata": {
      "image/svg+xml": {
       "isolated": true
      }
     },
     "output_type": "display_data"
    }
   ],
   "source": [
    "plot(mtcars$wt, mtcars$mpg, col=mtcars$cyl) # coloured by number of cylinders\n",
    "abline(h=20, lwd=2, lty=2, col='blue')"
   ]
  },
  {
   "cell_type": "code",
   "execution_count": 57,
   "metadata": {
    "collapsed": false
   },
   "outputs": [
    {
     "data": {
      "image/png": "[encoded data removed]",
      "text/plain": [
       "Plot with title \"High MPG\""
      ]
     },
     "metadata": {
      "image/svg+xml": {
       "isolated": true
      }
     },
     "output_type": "display_data"
    }
   ],
   "source": [
    "par(mfrow = c(1, 2), mar = c(5, 4, 2, 1))\n",
    "\n",
    "plot(lowmpg$wt, lowmpg$mpg, main=\"Low MPG\")\n",
    "plot(highmpg$wt, highmpg$mpg, main=\"High MPG\")"
   ]
  },
  {
   "cell_type": "code",
   "execution_count": 58,
   "metadata": {
    "collapsed": true
   },
   "outputs": [],
   "source": [
    "library(help = \"datasets\")\n"
   ]
  },
  {
   "cell_type": "code",
   "execution_count": 59,
   "metadata": {
    "collapsed": false
   },
   "outputs": [
    {
     "name": "stderr",
     "output_type": "stream",
     "text": [
      "Loading required package: dplyr\n",
      "\n",
      "Attaching package: 'dplyr'\n",
      "\n",
      "The following objects are masked from 'package:stats':\n",
      "\n",
      "    filter, lag\n",
      "\n",
      "The following objects are masked from 'package:base':\n",
      "\n",
      "    intersect, setdiff, setequal, union\n",
      "\n"
     ]
    }
   ],
   "source": [
    "pkgTest(\"dplyr\")"
   ]
  },
  {
   "cell_type": "code",
   "execution_count": null,
   "metadata": {
    "collapsed": true
   },
   "outputs": [],
   "source": []
  }
 ],
 "metadata": {
  "kernelspec": {
   "display_name": "R",
   "language": "R",
   "name": "ir"
  },
  "language_info": {
   "codemirror_mode": "r",
   "file_extension": ".r",
   "mimetype": "text/x-r-source",
   "name": "R",
   "pygments_lexer": "r",
   "version": "3.2.4"
  },
  "widgets": {
   "state": {},
   "version": "1.1.2"
  }
 },
 "nbformat": 4,
 "nbformat_minor": 0
}
