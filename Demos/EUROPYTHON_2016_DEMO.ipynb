{
 "cells": [
  {
   "cell_type": "code",
   "execution_count": null,
   "metadata": {
    "collapsed": false
   },
   "outputs": [],
   "source": [
    "%%html\n",
    "<style>\n",
    ".output_wrapper, .output { height:auto !important; max-height:10000px; } /* your desired max-height here */\n",
    ".output_scroll {     box-shadow:none !important; webkit-box-shadow:none !important; }\n",
    ".noborder, .noborder tr, .noborder th, .noborder td { border-collapse: collapse; border: 0px; border: none!important; }\n",
    "</style>"
   ]
  },
  {
   "cell_type": "markdown",
   "metadata": {},
   "source": [
    "# Adding HTML o/p capabilities to Bash in the Notebook\n",
    "\n",
    "I've provided an '*html*' function which enables display of html within the notebook\n",
    "\n",
    "Below examples of pretty printing HTML from various sources"
   ]
  },
  {
   "cell_type": "code",
   "execution_count": null,
   "metadata": {
    "collapsed": false
   },
   "outputs": [],
   "source": [
    "echo \"Notebook last run $(date)\""
   ]
  },
  {
   "cell_type": "code",
   "execution_count": null,
   "metadata": {
    "collapsed": false
   },
   "outputs": [],
   "source": [
    "echo \"<h1>An html header <!-- A comment --></h1>\" | html"
   ]
  },
  {
   "cell_type": "code",
   "execution_count": null,
   "metadata": {
    "collapsed": false
   },
   "outputs": [],
   "source": [
    "echo \"<h1>A table <!-- A comment --></h1>\n",
    "<table><tr><th>col1</th>\n",
    "<th>col2</th>\n",
    "<th>col3</th>\n",
    "<th>col4</th>\n",
    "</tr>\n",
    "<tr><td>val1</td>\n",
    "    <td>val2</td>\n",
    "    <td>val3</td>\n",
    "    <td>val4</td>\n",
    "</tr>\n",
    "<tr><td>valu1</td>\n",
    "    <td>value2</td>\n",
    "    <td>value3</td>\n",
    "    <td>val4</td>\n",
    "</tr></table>\" | html"
   ]
  },
  {
   "cell_type": "markdown",
   "metadata": {},
   "source": [
    "# Below is the output from an openstack cli command, in mysql table format.\n",
    "\n",
    "```openstack --os-cloud demo8 server list```\n",
    "\n",
    "```\n",
    "+--------------------------------------+----------------+--------+-------------------------+\n",
    "| ID                                   | Name           | Status | Networks                |\n",
    "+--------------------------------------+----------------+--------+-------------------------+\n",
    "| f4abc2c8-48b3-49b2-a892-76fb240a0f04 | mikeu1         | ACTIVE | ExternalNet=10.3.161.81 |\n",
    "| e2d07009-20a1-48f9-bc70-739a5de17f66 | testfromvolume | ACTIVE | ExternalNet=10.3.161.19 |\n",
    "+--------------------------------------+----------------+--------+-------------------------+\n",
    "```"
   ]
  },
  {
   "cell_type": "code",
   "execution_count": null,
   "metadata": {
    "collapsed": false
   },
   "outputs": [],
   "source": [
    "echo \"\n",
    "+--------------------------------------+----------------+--------+-------------------------+\n",
    "| ID                                   | Name           | Status | Networks                |\n",
    "+--------------------------------------+----------------+--------+-------------------------+\n",
    "| f4abc2c8-48b3-49b2-a892-76fb240a0f04 | mikeu1         | ACTIVE | ExternalNet=10.3.161.81 |\n",
    "| e2d07009-20a1-48f9-bc70-739a5de17f66 | testfromvolume | ACTIVE | ExternalNet=10.3.161.19 |\n",
    "+--------------------------------------+----------------+--------+-------------------------+\n",
    "\" | html_table | html\n"
   ]
  },
  {
   "cell_type": "code",
   "execution_count": null,
   "metadata": {
    "collapsed": false
   },
   "outputs": [],
   "source": [
    "function highlight {\n",
    "   sed -e \"s/\\\\($1\\\\)/<b><p style='color: #000; background-color: lightgreen'>\\\\1<\\/p><\\/b>/\"\n",
    "}"
   ]
  },
  {
   "cell_type": "code",
   "execution_count": null,
   "metadata": {
    "collapsed": false,
    "scrolled": true
   },
   "outputs": [],
   "source": [
    "echo \"\n",
    "+--------------------------------------+----------------+--------+-------------------------+\n",
    "| ID                                   | Name           | Status | Networks                |\n",
    "+--------------------------------------+----------------+--------+-------------------------+\n",
    "| f4abc2c8-48b3-49b2-a892-76fb240a0f04 | mikeu1         | ACTIVE | ExternalNet=10.3.161.81 |\n",
    "| e2d07009-20a1-48f9-bc70-739a5de17f66 | testfromvolume | ACTIVE | ExternalNet=10.3.161.19 |\n",
    "+--------------------------------------+----------------+--------+-------------------------+\n",
    "\" | highlight ACTIVE | html_table | html"
   ]
  },
  {
   "cell_type": "code",
   "execution_count": null,
   "metadata": {
    "collapsed": false
   },
   "outputs": [],
   "source": [
    "cd /cygdrive/c/tools/cygwin/home/mjbright/src/git/GIT_mjbright/"
   ]
  },
  {
   "cell_type": "code",
   "execution_count": null,
   "metadata": {
    "collapsed": false
   },
   "outputs": [],
   "source": [
    "find ipython-in-depth -iname '*.ipynb' | wc -l"
   ]
  },
  {
   "cell_type": "code",
   "execution_count": null,
   "metadata": {
    "collapsed": false
   },
   "outputs": [],
   "source": [
    "#source /cygdrive/c/tools/cygwin/home/mjbright/.metakernelrc\n",
    "\n",
    "function html_find {\n",
    "  {\n",
    "    echo \"+------+\";\n",
    "    echo \"| Path |\" ;\n",
    "    echo \"+------+\";\n",
    "\n",
    "    find \"$@\" | sed -e 's/^/\\| /' -e 's/$/ \\|/' ;\n",
    "\n",
    "    echo \"+------+\" ;\n",
    "  } | html_table | html\n",
    "}"
   ]
  },
  {
   "cell_type": "code",
   "execution_count": null,
   "metadata": {
    "collapsed": false
   },
   "outputs": [],
   "source": [
    "html_find ipython-in-depth -iname '*.ipynb'"
   ]
  },
  {
   "cell_type": "code",
   "execution_count": null,
   "metadata": {
    "collapsed": false
   },
   "outputs": [],
   "source": [
    "cd /cygdrive/c/tools/cygwin/home/mjbright/src/git/GIT_mjbright/jupyter-for-everything-else/Demos"
   ]
  },
  {
   "cell_type": "markdown",
   "metadata": {},
   "source": [
    "# Bringing GraphView graphics to bash\n",
    "\n",
    "The metakernels provide %dot and %%dot magics to invoke GraphViz graphics:"
   ]
  },
  {
   "cell_type": "code",
   "execution_count": null,
   "metadata": {
    "collapsed": false
   },
   "outputs": [],
   "source": [
    "%lsmagic"
   ]
  },
  {
   "cell_type": "code",
   "execution_count": null,
   "metadata": {
    "collapsed": false
   },
   "outputs": [],
   "source": [
    "%dot graph A { a->b };"
   ]
  },
  {
   "cell_type": "markdown",
   "metadata": {},
   "source": [
    "We can extend the kernel to allow to pipe to a function to get the same functionality, dynamically ..."
   ]
  },
  {
   "cell_type": "code",
   "execution_count": null,
   "metadata": {
    "collapsed": false
   },
   "outputs": [],
   "source": [
    "echo \"graph A { a->b };\" | pydot"
   ]
  },
  {
   "cell_type": "code",
   "execution_count": null,
   "metadata": {
    "collapsed": false
   },
   "outputs": [],
   "source": [
    "# TODO: do you expect a file or text here (or adapt?)\n",
    "\n",
    "pydot \"digraph G { \n",
    "        a; \n",
    "        b; \n",
    "        c -> d; \n",
    "        a -> c; \n",
    "};\""
   ]
  },
  {
   "cell_type": "code",
   "execution_count": null,
   "metadata": {
    "collapsed": false
   },
   "outputs": [],
   "source": [
    "{\n",
    "    echo \"digraph G {  rankdir=LR;  //Rank Direction Left to Right\";\n",
    "\n",
    "    LAST=\"\"\n",
    "    for NODE in a b c d e f g; do\n",
    "        if [ -z \"$LAST\" ]; then\n",
    "            echo \"$NODE;\"\n",
    "        else\n",
    "            echo \"$NODE -> $LAST;\"\n",
    "        fi\n",
    "        LAST=$NODE\n",
    "    done\n",
    "    \n",
    "    echo \"}\"\n",
    "} | pydot"
   ]
  },
  {
   "cell_type": "code",
   "execution_count": null,
   "metadata": {
    "collapsed": false
   },
   "outputs": [],
   "source": [
    "echo 'digraph G { \n",
    "        bgcolor=azure; \n",
    "        node [shape=box, color=lightblue2, style=filled]; \n",
    "        edge [arrowsize=2, color=gold]; \n",
    "        \"zero\" -> \"dix\" [color=purple]; \n",
    "        \"un\" -> \"dix\"; \n",
    "        \"zero\" -> \"vingt\"; \n",
    "        \"deux\" -> \"vingt\"; \n",
    "        \"zero\" [shape=circle, color=thistle1, fontcolor=purple]; \n",
    "}' | pydot"
   ]
  },
  {
   "cell_type": "code",
   "execution_count": null,
   "metadata": {
    "collapsed": false
   },
   "outputs": [],
   "source": [
    "rm -rf /tmp/findtest\n",
    "\n",
    "mkdir -p /tmp/findtest/\n",
    "touch /tmp/findtest/file1\n",
    "mkdir /tmp/findtest/dir1\n",
    "  touch /tmp/findtest/dir1/file1\n",
    "  touch /tmp/findtest/dir1/file2\n",
    "  touch /tmp/findtest/dir1/file3\n",
    "mkdir /tmp/findtest/dir2\n",
    "  touch /tmp/findtest/dir2/file1\n",
    "  touch /tmp/findtest/dir2/file2\n",
    "\n",
    "source /home/mjbright/src/git/GIT_mjbright/metakernel/metakernel_bash/metakernelrc\n",
    "find /tmp/findtest | pydot_show_filetree"
   ]
  },
  {
   "cell_type": "markdown",
   "metadata": {},
   "source": [
    "# Javascript"
   ]
  },
  {
   "cell_type": "code",
   "execution_count": null,
   "metadata": {
    "collapsed": false
   },
   "outputs": [],
   "source": [
    "%javascript console.log(\"Print in the browser console - via \\\"%javascript magic (console.log)\\\"\")\n",
    "%javascript window.alert(\"Show this popup - via \\\"%javascript magic (alert())\\\"\")"
   ]
  },
  {
   "cell_type": "code",
   "execution_count": null,
   "metadata": {
    "collapsed": false
   },
   "outputs": [],
   "source": [
    "echo \"window.alert('hello world - via \\\"window.alert() | js\\\"')\" | js"
   ]
  },
  {
   "cell_type": "code",
   "execution_count": null,
   "metadata": {
    "collapsed": false
   },
   "outputs": [],
   "source": [
    "js \"window.alert('hello world - via \\\"window.alert()\\\" as argument')\""
   ]
  },
  {
   "cell_type": "markdown",
   "metadata": {},
   "source": [
    "# Python"
   ]
  },
  {
   "cell_type": "code",
   "execution_count": null,
   "metadata": {
    "collapsed": false
   },
   "outputs": [],
   "source": [
    "echo \"import sys; print('hello world from Python v{}.{}.{}({})'.format(sys.version_info[0],sys.version_info[1],sys.version_info[2],sys.version_info[3]))\" | PYTHON"
   ]
  },
  {
   "cell_type": "code",
   "execution_count": null,
   "metadata": {
    "collapsed": false
   },
   "outputs": [],
   "source": [
    "PYTHON \"import sys; print('hello world from Python v{}.{}.{}({})'.format(sys.version_info[0],sys.version_info[1],sys.version_info[2],sys.version_info[3]))\""
   ]
  },
  {
   "cell_type": "markdown",
   "metadata": {},
   "source": [
    "# Graphics\n",
    "\n",
    "Below data and initial csv_linechart copied/adapted from one of [d3noobs blocks](http://bl.ocks.org/d3noob) here:\n",
    " http://bl.ocks.org/d3noob/b3ff6ae1c120eea654b5"
   ]
  },
  {
   "cell_type": "markdown",
   "metadata": {},
   "source": [
    "How about displaying that csv data in d3.js, called from a bash function?"
   ]
  },
  {
   "cell_type": "code",
   "execution_count": null,
   "metadata": {
    "collapsed": false
   },
   "outputs": [],
   "source": [
    "%%html\n",
    "<script src=\"http://d3js.org/d3.v3.min.js\"></script>\n",
    "<script src=\"js/d3.v3.min.js\"></script>"
   ]
  },
  {
   "cell_type": "code",
   "execution_count": null,
   "metadata": {
    "collapsed": false
   },
   "outputs": [],
   "source": [
    "(echo \"item,value\"; du -s * | sort -nr | head -10 | awk '{ print $2\",\"$1;}') | tee disk_usage.csv"
   ]
  },
  {
   "cell_type": "code",
   "execution_count": null,
   "metadata": {
    "collapsed": false
   },
   "outputs": [],
   "source": [
    "csv_d3piechart disk_usage.csv"
   ]
  },
  {
   "cell_type": "markdown",
   "metadata": {},
   "source": [
    "# Using Lightning Visualization\n",
    "\n",
    "## From a bash_function"
   ]
  },
  {
   "cell_type": "code",
   "execution_count": null,
   "metadata": {
    "collapsed": false
   },
   "outputs": [],
   "source": [
    "lightning_line_test | html"
   ]
  },
  {
   "cell_type": "markdown",
   "metadata": {},
   "source": [
    "# Using Bokeh Visualization\n",
    "\n",
    "## From a bash_function"
   ]
  },
  {
   "cell_type": "code",
   "execution_count": null,
   "metadata": {
    "collapsed": false
   },
   "outputs": [],
   "source": [
    "bokeh_line_test|html"
   ]
  },
  {
   "cell_type": "code",
   "execution_count": null,
   "metadata": {
    "collapsed": false
   },
   "outputs": [],
   "source": [
    "bokeh_line_test|html"
   ]
  },
  {
   "cell_type": "code",
   "execution_count": null,
   "metadata": {
    "collapsed": false
   },
   "outputs": [],
   "source": [
    "bokeh_piechart_test | html"
   ]
  },
  {
   "cell_type": "markdown",
   "metadata": {},
   "source": [
    "# Displaying Images"
   ]
  },
  {
   "cell_type": "code",
   "execution_count": null,
   "metadata": {
    "collapsed": false
   },
   "outputs": [],
   "source": [
    "wget -O test.png http://localhost:8888/files/node_modules/hawk/images/hawk.png"
   ]
  },
  {
   "cell_type": "code",
   "execution_count": null,
   "metadata": {
    "collapsed": false
   },
   "outputs": [],
   "source": [
    "ls -al test.png"
   ]
  },
  {
   "cell_type": "code",
   "execution_count": null,
   "metadata": {
    "collapsed": false
   },
   "outputs": [],
   "source": [
    "display test.png"
   ]
  },
  {
   "cell_type": "code",
   "execution_count": null,
   "metadata": {
    "collapsed": false
   },
   "outputs": [],
   "source": [
    "display < test.png"
   ]
  },
  {
   "cell_type": "code",
   "execution_count": null,
   "metadata": {
    "collapsed": false
   },
   "outputs": [],
   "source": [
    "cat test.png | display"
   ]
  },
  {
   "cell_type": "code",
   "execution_count": null,
   "metadata": {
    "collapsed": false
   },
   "outputs": [],
   "source": [
    "display http://localhost:8888/files/node_modules/hawk/images/hawk.png"
   ]
  },
  {
   "cell_type": "code",
   "execution_count": null,
   "metadata": {
    "collapsed": false
   },
   "outputs": [],
   "source": [
    "%ls"
   ]
  },
  {
   "cell_type": "raw",
   "metadata": {},
   "source": [
    "# TODO NEXT\n",
    "\n",
    "- rename functions as _xfuncn and xfuncn where former outputs raw info, second renders\n",
    "  e.g. _xls and xls (where xls is _xls | html)\n",
    "  \n",
    "- **DONE**: rename disk as df_bar, include \"id\" parameter, bar as coloured width html table\n",
    "  - WHY?: 1-line of javascript - if ! exists create.\n",
    "    \n",
    "- Reimplement in Python in OpenStack_MultipleSystem.ipynb \n",
    "  - show disk usage for each node\n",
    "  - summarize worst case disk usage for each platform\n",
    "    - optional: show average and max\n",
    "  - implement HTML table barchart\n",
    "    - show trend of node disk space\n",
    "  - implement HTML table piechart\n",
    "    - show disk space usage\n",
    "      - extend to show top-4 dirs"
   ]
  },
  {
   "cell_type": "markdown",
   "metadata": {},
   "source": [
    "# SVG"
   ]
  },
  {
   "cell_type": "code",
   "execution_count": null,
   "metadata": {
    "collapsed": false
   },
   "outputs": [],
   "source": [
    "%%html\n",
    "\n",
    "<svg width=\"600\" height=\"200\">\n",
    "\n",
    "  <rect id=\"rec\" x=\"300\" y=\"100\" width=\"300\" height=\"100\" style=\"fill:lime\"> \n",
    "  </rect>\n",
    "</svg>"
   ]
  },
  {
   "cell_type": "code",
   "execution_count": null,
   "metadata": {
    "collapsed": false
   },
   "outputs": [],
   "source": [
    "%%html\n",
    "\n",
    "<svg width=\"600\" height=\"300\">\n",
    "  <rect id=\"rec\" x=\"300\" y=\"100\" width=\"300\" height=\"100\" style=\"fill:lime\"> \n",
    "    <animate attributeName=\"x\" attributeType=\"XML\" begin=\"0s\" dur=\"6s\" fill=\"freeze\" from=\"300\" to=\"0\" /> \n",
    "    <animate attributeName=\"y\" attributeType=\"XML\" begin=\"0s\" dur=\"6s\" fill=\"freeze\" from=\"100\" to=\"0\" /> \n",
    "    <animate attributeName=\"width\" attributeType=\"XML\" begin=\"0s\" dur=\"6s\" fill=\"freeze\" from=\"300\" to=\"800\" /> \n",
    "    <animate attributeName=\"height\" attributeType=\"XML\" begin=\"0s\" dur=\"6s\" fill=\"freeze\" from=\"100\" to=\"300\" /> \n",
    "    <animate attributeName=\"fill\" attributeType=\"CSS\" from=\"lime\" to=\"red\" begin=\"2s\" dur=\"4s\" fill=\"freeze\" />\n",
    "  </rect>\n",
    "  <g transform=\"translate(100,100)\"> \n",
    "    <text id=\"TextElement\" x=\"0\" y=\"0\" style=\"font-family:Verdana;font-size:24; visibility:hidden\"> It's SVG!\n",
    "      <set attributeName=\"visibility\" attributeType=\"CSS\" to=\"visible\" begin=\"1s\" dur=\"5s\" fill=\"freeze\" />\n",
    "      <animateMotion path=\"M 0 0 L 100 100\" begin=\"1s\" dur=\"5s\" fill=\"freeze\" />\n",
    "      <animate attributeName=\"fill\" attributeType=\"CSS\" from=\"red\" to=\"blue\" begin=\"1s\" dur=\"5s\" fill=\"freeze\" /> \n",
    "      <animateTransform attributeName=\"transform\" attributeType=\"XML\" type=\"rotate\" from=\"-30\" to=\"0\" begin=\"1s\" dur=\"5s\" fill=\"freeze\" /> \n",
    "      <animateTransform attributeName=\"transform\" attributeType=\"XML\" type=\"scale\" from=\"1\" to=\"3\" additive=\"sum\" begin=\"1s\" dur=\"5s\" fill=\"freeze\" /> \n",
    "    </text> \n",
    "  </g>\n",
    "  Sorry, your browser does not support inline SVG.\n",
    "</svg>"
   ]
  },
  {
   "cell_type": "markdown",
   "metadata": {},
   "source": [
    "# HTML from bash"
   ]
  },
  {
   "cell_type": "code",
   "execution_count": null,
   "metadata": {
    "collapsed": false
   },
   "outputs": [],
   "source": [
    "echo \"\n",
    "+---+\n",
    "| A |\n",
    "+---+\n",
    "| B |\n",
    "+---+\n",
    "| C |\n",
    "+---+\n",
    "\" | html_table|html"
   ]
  },
  {
   "cell_type": "markdown",
   "metadata": {},
   "source": [
    "## Refer to OpenStack_Command-line example"
   ]
  },
  {
   "cell_type": "code",
   "execution_count": null,
   "metadata": {
    "collapsed": false
   },
   "outputs": [],
   "source": [
    "%%file nova-list.txt\n",
    "\n",
    "+--------------------------------------+-------------------------+--------+---------------------------------------------------------------------------------------------------------------+\n",
    "| ID                                   | Name                    | Status | Networks                                                                                                      |\n",
    "+--------------------------------------+-------------------------+--------+---------------------------------------------------------------------------------------------------------------+\n",
    "| 42d4515f-9b73-4edb-83bc-6f1531acf12d | homestead-0.example.com | ACTIVE | clearwater-private-management=192.168.0.7, 10.27.10.69; clearwater-private-signaling=192.168.1.6              |\n",
    "| da0996e6-2213-48aa-8fa7-bb03a220731e | ralf-0.example.com      | ACTIVE | clearwater-private-management=192.168.0.8, 10.27.10.70; clearwater-private-signaling=192.168.1.7              |\n",
    "| 6af66553-d1aa-4952-86ac-a33d79d8a060 | sprout-0.example.com    | ACTIVE | clearwater-private-management=192.168.0.6, 10.27.10.68; clearwater-private-signaling=192.168.1.5              |\n",
    "| 33fc9867-ed39-41d6-9073-4652ab11384a | homer-0.example.com     | ACTIVE | clearwater-private-management=192.168.0.4, 10.27.10.66; clearwater-private-signaling=192.168.1.3, 10.27.10.64 |\n",
    "| cda7d1f2-daf6-4269-91aa-88ba6be4c7a9 | bono-0.example.com      | ACTIVE | clearwater-private-management=192.168.0.5, 10.27.10.65; clearwater-private-signaling=192.168.1.4, 10.27.10.67 |\n",
    "| 83df72fd-713a-4dba-8e19-52e49a079dd5 | ellis-0.example.com     | ACTIVE | clearwater-private-management=192.168.0.3, 10.27.10.63                                                        |\n",
    "| e8b0d7f3-568d-4e88-aba7-a1761de8f8b3 | ns.example.com          | ACTIVE | clearwater-private-management=192.168.0.2, 10.27.10.62; clearwater-private-signaling=192.168.1.2              |\n",
    "| c343eca4-cab9-4526-bd0c-16985df7cf0d | mmsc-n2                 | ACTIVE | A-net2=192.168.12.7, 10.27.10.12                                                                              |\n",
    "| cdf0f4f2-1f97-49cd-9ed3-3b97313969cd | mmsc-robottest          | ACTIVE | A_Net1=192.168.11.6, 10.27.10.8                                                                               |\n",
    "| c470275e-23d6-4270-a3b1-65475a478c8c | mmsc-n1                 | ACTIVE | A-net2=192.168.12.5, 10.27.10.14                                                                              |\n",
    "| 1846e7d7-a564-4c8b-a633-2f6cb14d6381 | mmsc_lb                 | ACTIVE | A-net2=192.168.12.3, 10.27.10.7; A_Net1=192.168.11.3                                                          |\n",
    "| c2b83dcc-93e6-413e-8d6e-cdfd0f6fbd77 | karimvm2                | ACTIVE | InternalNET1=192.168.20.6, 10.27.10.5                                                                         |\n",
    "| 2bfe927e-e15e-44c2-ab9d-0fba6f735b9a | karimvm                 | ACTIVE | ExternalNetwork=10.27.10.3                                                                                    |\n",
    "+--------------------------------------+-------------------------+--------+---------------------------------------------------------------------------------------------------------------+\n"
   ]
  },
  {
   "cell_type": "code",
   "execution_count": null,
   "metadata": {
    "collapsed": false
   },
   "outputs": [],
   "source": [
    "cat nova-list.txt | html_table | html"
   ]
  },
  {
   "cell_type": "code",
   "execution_count": null,
   "metadata": {
    "collapsed": false
   },
   "outputs": [],
   "source": [
    "cat nova-list.txt | sed 's/ACTIVE/<b><p style=\"color: #000; background-color: lightgreen\">ACTIVE<\\/p><\\/b>/' | html_table | html"
   ]
  },
  {
   "cell_type": "code",
   "execution_count": null,
   "metadata": {
    "collapsed": false
   },
   "outputs": [],
   "source": [
    "function highlight_ACTIVE { sed 's/ACTIVE/<b><p style=\"color: #000; background-color: lightgreen\">ACTIVE<\\/p><\\/b>/'; }"
   ]
  },
  {
   "cell_type": "code",
   "execution_count": null,
   "metadata": {
    "collapsed": false
   },
   "outputs": [],
   "source": [
    "cat nova-list.txt | highlight_ACTIVE | html_table | html"
   ]
  },
  {
   "cell_type": "markdown",
   "metadata": {},
   "source": [
    "# Creating an HTML table from CSV data (for the shell)\n",
    "\n",
    "Let's first write some Python to do the job.\n",
    "\n",
    "We're not going to do all this in bash - we just want the result available as a callable bash function\n",
    "\n",
    "As long as the end user uses the bash paradigm supplemented with bash graphical functions, this is fine."
   ]
  },
  {
   "cell_type": "code",
   "execution_count": null,
   "metadata": {
    "collapsed": false
   },
   "outputs": [],
   "source": [
    "cd /home/mjbright/src/git/GIT_mjbright/jupyter-for-everything-else"
   ]
  },
  {
   "cell_type": "code",
   "execution_count": null,
   "metadata": {
    "collapsed": false
   },
   "outputs": [],
   "source": [
    "%%file csv2htmltable.py\n",
    "\n",
    "import sys\n",
    "import csv\n",
    "import io\n",
    "\n",
    "'''\n",
    "    Read optional command line arguments\n",
    "    \n",
    "    -h: header: Use <th> tags for first row (will be highlighted as header)\n",
    "\n",
    "    -d: delimiter: Used to explicitly specify what csv delimiter to use\n",
    "                   By default: none, we will sniff the data\n",
    "    -v: verbosity:\n",
    "'''\n",
    "header=False\n",
    "delimiter=None\n",
    "verbosity=0\n",
    "\n",
    "a=1\n",
    "while len(sys.argv) > a:\n",
    "    arg=sys.argv[a]\n",
    "    a += 1\n",
    "    if arg == \"-v\":\n",
    "        verbosity += 1\n",
    "    if arg == \"-h\":\n",
    "        header=True\n",
    "    if arg == \"-d\":\n",
    "        delimiter=sys.argv[a]\n",
    "        a += 1\n",
    "    \n",
    "def stderr(*args, **kwargs):\n",
    "    ''' print to stderr '''\n",
    "    print(*args, file=sys.stderr, **kwargs)\n",
    "    \n",
    "def tohex(str):\n",
    "    ''' convert string to hexadecimal string '''\n",
    "    return \":\".join(\"{:02x}\".format(ord(c)) for c in str)\n",
    "\n",
    "def compressMultipleSpaces(text):\n",
    "    ''' If delimiter 'SPACES' is used rather than space ' ', we want multiple spaces to act as\n",
    "        only one delimiter - so we reduce multiple spaces down to just one space here\n",
    "    '''\n",
    "\n",
    "    for line in text:\n",
    "        # Compress multiple spaces\n",
    "        templine=''\n",
    "        lastchar=''\n",
    "        for char in line:\n",
    "            if char == ' ' and lastchar == ' ':\n",
    "                pass\n",
    "            templine += char\n",
    "            lastchar=char\n",
    "        line=templine\n",
    "        \n",
    "        text += line\n",
    "\n",
    "    return text\n",
    "\n",
    "''' Read in all the data from stdin in advance, so that we can sniff the data to determine it's dialect '''\n",
    "text=' '.join(sys.stdin.readlines())\n",
    "\n",
    "''' Handle special delimiter values TAB and SPACES '''\n",
    "if delimiter == 'TAB':\n",
    "    delimiter=chr(9)\n",
    "\n",
    "if delimiter == 'SPACES':\n",
    "    delimiter=' '\n",
    "    text = compressMultipleSpaces(text)\n",
    "\n",
    "''' Create the csvreader using either the specified delimiter, or the sniffed dialect '''\n",
    "if delimiter:\n",
    "    csvreader = csv.reader(text.splitlines(), delimiter=delimiter, quotechar='|')\n",
    "else:\n",
    "    sample_len = 100\n",
    "    if len(text) < 100:\n",
    "        sample_len = len(text)\n",
    "    \n",
    "    dialect = csv.Sniffer().sniff(text[:sample_len])\n",
    "    if verbosity > 1:\n",
    "        stderr(\"DELIMITER=<\" + tohex(dialect.delimiter) + \">\")\n",
    "    csvreader = csv.reader(text.splitlines(), dialect=dialect, quotechar='|')\n",
    "\n",
    "'''\n",
    "    Output the data as an html table\n",
    "'''\n",
    "print('<table>')\n",
    "\n",
    "for row in csvreader:\n",
    "    #print(\"COLS=\" + str(len(row)))\n",
    "    #print(\"ROW=<\" + str(row) + \">\")\n",
    "    #continue\n",
    "    if header:\n",
    "        print('<tr><th>')\n",
    "        print('</th><th>'.join(row))\n",
    "        print('</th></tr>')\n",
    "        header=False\n",
    "    else:\n",
    "        print('<tr><td>')\n",
    "        print('</td><td>'.join(row))\n",
    "        print('</td></tr>')\n",
    "        \n",
    "print('</table>')"
   ]
  },
  {
   "cell_type": "markdown",
   "metadata": {},
   "source": [
    "# Displaying data as a table\n",
    "\n",
    "Now let's see how we can use this to display some html from within the bash shell.\n",
    "\n",
    "In the first cells we will look at\n",
    "- the output of du -s, du -sh, sorted\n",
    "- the output converted into html, then displayed as html"
   ]
  },
  {
   "cell_type": "code",
   "execution_count": null,
   "metadata": {
    "collapsed": false
   },
   "outputs": [],
   "source": [
    "du -s * | head -5"
   ]
  },
  {
   "cell_type": "code",
   "execution_count": null,
   "metadata": {
    "collapsed": false
   },
   "outputs": [],
   "source": [
    "du -sh * | head -5"
   ]
  },
  {
   "cell_type": "code",
   "execution_count": null,
   "metadata": {
    "collapsed": false
   },
   "outputs": [],
   "source": [
    "du -sh * | sort -hr | head -5"
   ]
  },
  {
   "cell_type": "code",
   "execution_count": null,
   "metadata": {
    "collapsed": false
   },
   "outputs": [],
   "source": [
    "du -sh * | sort -hr | python csv2htmltable.py TAB | head -15"
   ]
  },
  {
   "cell_type": "code",
   "execution_count": null,
   "metadata": {
    "collapsed": false
   },
   "outputs": [],
   "source": [
    "du -sh * | sort -hr | python csv2htmltable.py TAB | html"
   ]
  },
  {
   "cell_type": "code",
   "execution_count": null,
   "metadata": {
    "collapsed": false
   },
   "outputs": [],
   "source": [
    "source ~/.metakernelrc"
   ]
  },
  {
   "cell_type": "code",
   "execution_count": null,
   "metadata": {
    "collapsed": false
   },
   "outputs": [],
   "source": [
    "du -sh * | sort -hr | head -5 | csv2html TAB  | html"
   ]
  },
  {
   "cell_type": "markdown",
   "metadata": {},
   "source": [
    "# Let's look at some 'real' csv files"
   ]
  },
  {
   "cell_type": "code",
   "execution_count": null,
   "metadata": {
    "collapsed": false
   },
   "outputs": [],
   "source": [
    "ls *.csv"
   ]
  },
  {
   "cell_type": "code",
   "execution_count": null,
   "metadata": {
    "collapsed": false
   },
   "outputs": [],
   "source": [
    "cat pop_age.csv"
   ]
  },
  {
   "cell_type": "code",
   "execution_count": null,
   "metadata": {
    "collapsed": false
   },
   "outputs": [],
   "source": [
    "cat pop_age.csv  | csv2html -h | html"
   ]
  },
  {
   "cell_type": "code",
   "execution_count": null,
   "metadata": {
    "collapsed": false
   },
   "outputs": [],
   "source": [
    "cat date_trend.csv"
   ]
  },
  {
   "cell_type": "code",
   "execution_count": null,
   "metadata": {
    "collapsed": false
   },
   "outputs": [],
   "source": [
    "cat date_trend.csv | python csv2htmltable.py | html"
   ]
  },
  {
   "cell_type": "code",
   "execution_count": null,
   "metadata": {
    "collapsed": false
   },
   "outputs": [],
   "source": [
    "cat date_trend.csv | python csv2htmltable.py |& html"
   ]
  },
  {
   "cell_type": "code",
   "execution_count": null,
   "metadata": {
    "collapsed": false
   },
   "outputs": [],
   "source": [
    "head -5 date_trend.csv | python csv2htmltable.py -h  -d ',' | html"
   ]
  },
  {
   "cell_type": "code",
   "execution_count": null,
   "metadata": {
    "collapsed": false
   },
   "outputs": [],
   "source": [
    "head -5 date_trend.csv | csv2html -h | html"
   ]
  },
  {
   "cell_type": "markdown",
   "metadata": {},
   "source": [
    "## Great we can use this for pretty printing any lists ..."
   ]
  },
  {
   "cell_type": "code",
   "execution_count": null,
   "metadata": {
    "collapsed": false
   },
   "outputs": [],
   "source": [
    "find | python csv2htmltable.py |& html"
   ]
  },
  {
   "cell_type": "code",
   "execution_count": null,
   "metadata": {
    "collapsed": false
   },
   "outputs": [],
   "source": [
    "source ~/.metakernelrc"
   ]
  },
  {
   "cell_type": "code",
   "execution_count": null,
   "metadata": {
    "collapsed": false
   },
   "outputs": [],
   "source": [
    "find | head -5 | list2html | html"
   ]
  },
  {
   "cell_type": "code",
   "execution_count": null,
   "metadata": {
    "collapsed": false
   },
   "outputs": [],
   "source": [
    "html_find ./images -name '*.PNG'"
   ]
  },
  {
   "cell_type": "markdown",
   "metadata": {},
   "source": [
    "# Maybe we could enhance our shell ...\n",
    "\n",
    "## This reminds me of *xmlterm* my favourite doomed Mozilla project ~ circa 2000\n",
    "\n",
    "![xmlterm](http://www.xml.com/2000/06/07/xmlterm/fig3.gif)"
   ]
  },
  {
   "cell_type": "code",
   "execution_count": null,
   "metadata": {
    "collapsed": false
   },
   "outputs": [],
   "source": [
    "html '<iframe height=900 width=900 src=\"http://www.mozillazine.org/talkback.html?article=1243\"> </iframe>'"
   ]
  },
  {
   "cell_type": "markdown",
   "metadata": {},
   "source": [
    "# Which led on to GraphTerm from the same guy ....\n",
    "\n",
    "![](https://github.com/mitotic/graphterm/raw/master/doc-images/gt-screen-gadmin-terminals.png)"
   ]
  },
  {
   "cell_type": "markdown",
   "metadata": {},
   "source": [
    "## Can I do something similar?\n",
    "\n",
    "Of course we can building upon the display capabilities I added to metakernel_bash, I quickly hacked together an \"xls\" function\n",
    "\n",
    "Here's a quick and dirty hack to display image files and html in an ls thumbnail listing - from the command line !"
   ]
  },
  {
   "cell_type": "code",
   "execution_count": null,
   "metadata": {
    "collapsed": false
   },
   "outputs": [],
   "source": [
    "type xls"
   ]
  },
  {
   "cell_type": "code",
   "execution_count": null,
   "metadata": {
    "collapsed": false
   },
   "outputs": [],
   "source": [
    "type _xls"
   ]
  },
  {
   "cell_type": "code",
   "execution_count": null,
   "metadata": {
    "collapsed": false
   },
   "outputs": [],
   "source": [
    "type display_file"
   ]
  },
  {
   "cell_type": "code",
   "execution_count": null,
   "metadata": {
    "collapsed": false
   },
   "outputs": [],
   "source": [
    "source ~/.metakernelrc;"
   ]
  },
  {
   "cell_type": "code",
   "execution_count": null,
   "metadata": {
    "collapsed": false
   },
   "outputs": [],
   "source": [
    "pwd\n",
    "#_xls 2015-Oct-17_Pyconfr_Pau_IPython_vers_Jupyter.ipynb"
   ]
  },
  {
   "cell_type": "code",
   "execution_count": null,
   "metadata": {
    "collapsed": false
   },
   "outputs": [],
   "source": [
    "xls"
   ]
  },
  {
   "cell_type": "code",
   "execution_count": null,
   "metadata": {
    "collapsed": false
   },
   "outputs": [],
   "source": [
    "xls -l images/*.svg"
   ]
  },
  {
   "cell_type": "markdown",
   "metadata": {},
   "source": [
    "# GraphViz functionality in bash\n",
    "\n",
    "Metakernel magics allow to use %%dot cell magic to specify GraphViz graphics"
   ]
  },
  {
   "cell_type": "code",
   "execution_count": null,
   "metadata": {
    "collapsed": false
   },
   "outputs": [],
   "source": [
    "%%dot\n",
    "\n",
    "graph A { a->b };"
   ]
  },
  {
   "cell_type": "code",
   "execution_count": null,
   "metadata": {
    "collapsed": false
   },
   "outputs": [],
   "source": [
    "echo \"graph A { a->b };\" | pydot\n"
   ]
  },
  {
   "cell_type": "code",
   "execution_count": null,
   "metadata": {
    "collapsed": false
   },
   "outputs": [],
   "source": [
    "echo \"digraph G { \n",
    "        a; \n",
    "        b; \n",
    "        c -> d; \n",
    "        a -> c; \n",
    "}\" | pydot"
   ]
  },
  {
   "cell_type": "code",
   "execution_count": null,
   "metadata": {
    "collapsed": false
   },
   "outputs": [],
   "source": [
    "{ \n",
    "  echo \"digraph G {\";\n",
    "  for i in $(seq 10); do\n",
    "      if [ $i -gt 1 ];then\n",
    "          echo \"$i -> $j;\"\n",
    "      else\n",
    "          echo $i;\n",
    "      fi\n",
    "      j=$i\n",
    "  done;\n",
    "  echo \"}\"\n",
    "} | pydot"
   ]
  },
  {
   "cell_type": "code",
   "execution_count": null,
   "metadata": {
    "collapsed": false
   },
   "outputs": [],
   "source": [
    "find . | pydot_show_filetree"
   ]
  },
  {
   "cell_type": "code",
   "execution_count": null,
   "metadata": {
    "collapsed": false
   },
   "outputs": [],
   "source": [
    "source ~/.metakernelrc"
   ]
  },
  {
   "cell_type": "code",
   "execution_count": null,
   "metadata": {
    "collapsed": false
   },
   "outputs": [],
   "source": [
    "find  ./TESTS  | pydot_show_filetree  | pydot"
   ]
  },
  {
   "cell_type": "code",
   "execution_count": null,
   "metadata": {
    "collapsed": false
   },
   "outputs": [],
   "source": [
    "function xfindtree {\n",
    "    find \"$@\" | pydot_show_filetree  | pydot\n",
    "}"
   ]
  },
  {
   "cell_type": "code",
   "execution_count": null,
   "metadata": {
    "collapsed": false
   },
   "outputs": [],
   "source": [
    "xfindtree ./TESTS -iname '*.ipynb'"
   ]
  },
  {
   "cell_type": "code",
   "execution_count": null,
   "metadata": {
    "collapsed": false
   },
   "outputs": [],
   "source": [
    "#xfindtree ./TESTS \\! -iname '*.ipynb'\n",
    "#xfindtree ./images\n",
    "#xfindtree ./images -iname '*.gif'"
   ]
  },
  {
   "cell_type": "code",
   "execution_count": null,
   "metadata": {
    "collapsed": false
   },
   "outputs": [],
   "source": [
    "function progress_bar {\n",
    "    ID=$1; shift\n",
    "    \n",
    "    [ -z \"$1\" ] && {\n",
    "        echo \"<h2>Progress: $ID</h2><div id=progress_$ID><table width=800><tr><td></td></table></div>\" | html;\n",
    "        return\n",
    "    }\n",
    "    \n",
    "    echo \"\\$('#progress_$ID').html('<table width=700><tr><td width=${1}% style=\\'background-color:red\\';><b>${1}%</b></td><td></td></table>')\" | js\n",
    "}"
   ]
  },
  {
   "cell_type": "code",
   "execution_count": null,
   "metadata": {
    "collapsed": false
   },
   "outputs": [],
   "source": [
    "progress_bar TEST1"
   ]
  },
  {
   "cell_type": "code",
   "execution_count": null,
   "metadata": {
    "collapsed": false
   },
   "outputs": [],
   "source": [
    "progress_bar TEST2"
   ]
  },
  {
   "cell_type": "code",
   "execution_count": null,
   "metadata": {
    "collapsed": false
   },
   "outputs": [],
   "source": [
    "progress_bar TEST1 10; "
   ]
  },
  {
   "cell_type": "code",
   "execution_count": null,
   "metadata": {
    "collapsed": false
   },
   "outputs": [],
   "source": [
    "progress_bar TEST2 20"
   ]
  },
  {
   "cell_type": "code",
   "execution_count": null,
   "metadata": {
    "collapsed": false
   },
   "outputs": [],
   "source": [
    "progress_bar TEST1 30"
   ]
  },
  {
   "cell_type": "code",
   "execution_count": null,
   "metadata": {
    "collapsed": false
   },
   "outputs": [],
   "source": [
    "progress_bar TEST1 15\n",
    "progress_bar TEST2 15"
   ]
  },
  {
   "cell_type": "code",
   "execution_count": null,
   "metadata": {
    "collapsed": false
   },
   "outputs": [],
   "source": [
    "progress_bar TEST1 100"
   ]
  },
  {
   "cell_type": "code",
   "execution_count": null,
   "metadata": {
    "collapsed": false
   },
   "outputs": [],
   "source": [
    "function df_bar {\n",
    "    NAME=$1; shift\n",
    "    ID=$(echo $NAME | sed -e 's/:/_/g' -e 's/\\//_/g')\n",
    "    \n",
    "    LOW=70\n",
    "    HIGH=90\n",
    "    [ -z \"$1\" ] && {\n",
    "        echo \"<h2>Disk usage: $NAME</h2><div id=disk_$ID><table width=800><tr><td></td></table></div>\" | html;\n",
    "        return\n",
    "    }\n",
    "    \n",
    "    COLOR=\"yellow\"\n",
    "    [ $1 -ge $LOW ]  && COLOR=\"orange\"\n",
    "    [ $1 -ge $HIGH ] && COLOR=\"red\"\n",
    "    echo \"\\$('#disk_$ID').html('<table width=700><tr><td width=${1}% style=\\'background-color:$COLOR\\';><b>${1}%</b></td><td></td></table>')\" | js\n",
    "}"
   ]
  },
  {
   "cell_type": "code",
   "execution_count": null,
   "metadata": {
    "collapsed": false
   },
   "outputs": [],
   "source": [
    "df_bar \"wrco1:/\""
   ]
  },
  {
   "cell_type": "code",
   "execution_count": null,
   "metadata": {
    "collapsed": false
   },
   "outputs": [],
   "source": [
    "df_bar \"wrco1:/mnt/state\""
   ]
  },
  {
   "cell_type": "code",
   "execution_count": null,
   "metadata": {
    "collapsed": false
   },
   "outputs": [],
   "source": [
    "df_bar \"wrco1:/\" 90"
   ]
  },
  {
   "cell_type": "code",
   "execution_count": null,
   "metadata": {
    "collapsed": false
   },
   "outputs": [],
   "source": [
    "df_bar \"wrco1:/mnt/state\" 40"
   ]
  },
  {
   "cell_type": "code",
   "execution_count": null,
   "metadata": {
    "collapsed": false
   },
   "outputs": [],
   "source": [
    "df_bar \"wrco1:/mnt/state\" 70"
   ]
  },
  {
   "cell_type": "markdown",
   "metadata": {},
   "source": [
    "# Experiments"
   ]
  },
  {
   "cell_type": "code",
   "execution_count": null,
   "metadata": {
    "collapsed": false
   },
   "outputs": [],
   "source": [
    "echo \"<h2>Progress:</h2><div id=prog><table width=700><tr><td></td></table></div>\" | html;"
   ]
  },
  {
   "cell_type": "code",
   "execution_count": null,
   "metadata": {
    "collapsed": false
   },
   "outputs": [],
   "source": [
    "echo \"\\$('#prog').text('stdin')\" | js"
   ]
  },
  {
   "cell_type": "code",
   "execution_count": null,
   "metadata": {
    "collapsed": false
   },
   "outputs": [],
   "source": [
    "echo \"\\$('#prog').html('<h1>XXXX</h1>')\" | js"
   ]
  },
  {
   "cell_type": "code",
   "execution_count": null,
   "metadata": {
    "collapsed": false
   },
   "outputs": [],
   "source": [
    "echo \"\\$('#prog').html('<table width=700><tr><td width=90% style=\\'background-color:red\\';></td><td></td></table>')\" | js"
   ]
  },
  {
   "cell_type": "code",
   "execution_count": null,
   "metadata": {
    "collapsed": false
   },
   "outputs": [],
   "source": [
    "#while true; do echo \"hello\"; sleep 1; done"
   ]
  },
  {
   "cell_type": "code",
   "execution_count": null,
   "metadata": {
    "collapsed": false
   },
   "outputs": [],
   "source": [
    "#for i in $(seq 1 10); do echo \"\\$('#prog').html('<table width=700><tr><td width=${i}0% style=\\'background-color:blue\\';></td><td></td></table>')\" | js; done"
   ]
  },
  {
   "cell_type": "code",
   "execution_count": null,
   "metadata": {
    "collapsed": false
   },
   "outputs": [],
   "source": [
    "%%html\n",
    "\n",
    "<h1> Testing HTML and JS interaction </h1>\n",
    "\n",
    "<div id=\"test_div\"><b> A test div </b></div>"
   ]
  },
  {
   "cell_type": "code",
   "execution_count": null,
   "metadata": {
    "collapsed": false
   },
   "outputs": [],
   "source": [
    "%%javascript\n",
    "\n",
    "$('#test_div').text('Replacement text sent by using the %%javascript cellmagic');"
   ]
  },
  {
   "cell_type": "markdown",
   "metadata": {},
   "source": [
    "# Interactive functions in bash?"
   ]
  },
  {
   "cell_type": "code",
   "execution_count": null,
   "metadata": {
    "collapsed": false
   },
   "outputs": [],
   "source": [
    "%%python\n",
    "\n",
    "from ipywidgets import *\n",
    "#from IPython.display import HTML\n",
    "from metakernel.display import display\n",
    "from metakernel.display import HTML\n",
    "\n",
    "def myfn(freq, phase, color, rev):\n",
    "    print(\"hw\" + str(freq) + str(phase) + color + str(rev))\n",
    "\n",
    "html=interact(myfn, freq=(0.0,5.0,0.1), phase=(-5.0,5.0,0.1), color=['red','blue','green'], rev=True);\n",
    "display(html)"
   ]
  },
  {
   "cell_type": "markdown",
   "metadata": {},
   "source": [
    "We can't define and use a function as a one-liner: see syntax error below"
   ]
  },
  {
   "cell_type": "code",
   "execution_count": null,
   "metadata": {
    "collapsed": false
   },
   "outputs": [],
   "source": [
    "PYTHON \"\n",
    "def myfn(freq, phase, color, rev):\n",
    "    print(\"hw\" + str(freq) + str(phase) + color + str(rev))\n",
    "    \n",
    "html=interact(myfn, freq=(0.0,5.0,0.1), phase=(-5.0,5.0,0.1), color=['red','blue','green'], rev=True);display(html)\""
   ]
  },
  {
   "cell_type": "code",
   "execution_count": null,
   "metadata": {
    "collapsed": false
   },
   "outputs": [],
   "source": [
    "PYTHON \"\n",
    "html=interact(lambda x: display(HTML('<b>' + str(x) + '</b>')), x=True)\n",
    "\""
   ]
  },
  {
   "cell_type": "code",
   "execution_count": null,
   "metadata": {
    "collapsed": false
   },
   "outputs": [],
   "source": [
    "PYTHON \"\n",
    "def myfn(msg):\n",
    "    print(msg);\n",
    "    print(msg);\n",
    "    pass;\n",
    "\n",
    "\n",
    "myfn('hello1')\n",
    "\""
   ]
  }
 ],
 "metadata": {
  "celltoolbar": "Slideshow",
  "kernelspec": {
   "display_name": "MetaKernel Bash",
   "language": "bash",
   "name": "metakernel_bash"
  },
  "language_info": {
   "file_extension": ".sh",
   "help_links": [
    {
     "text": "MetaKernel Magics",
     "url": "https://github.com/calysto/metakernel/blob/master/metakernel/magics/README.md"
    }
   ],
   "mimetype": "text/x-bash",
   "name": "bash"
  },
  "nav_menu": {},
  "toc": {
   "navigate_menu": true,
   "number_sections": true,
   "sideBar": true,
   "threshold": 6,
   "toc_cell": false,
   "toc_section_display": "block",
   "toc_window_display": false
  },
  "toc_position": {
   "height": "653px",
   "left": "0px",
   "right": "auto",
   "top": "106px",
   "width": "212px"
  },
  "widgets": {
   "state": {},
   "version": "1.1.2"
  }
 },
 "nbformat": 4,
 "nbformat_minor": 0
}
