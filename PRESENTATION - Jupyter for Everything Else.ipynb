{
 "cells": [
  {
   "cell_type": "code",
   "execution_count": 2,
   "metadata": {
    "collapsed": false,
    "slideshow": {
     "slide_type": "notes"
    }
   },
   "outputs": [
    {
     "data": {
      "text/plain": [
       "Last update: Tue, Jun 14, 2016  9:05:06 PM"
      ]
     },
     "execution_count": 2,
     "metadata": {},
     "output_type": "execute_result"
    }
   ],
   "source": [
    "echo \"Last update: $(date)\"\n",
    "#import datetime\n",
    "#print(\"Last update: \" + str(datetime.datetime.now())) "
   ]
  },
  {
   "cell_type": "markdown",
   "metadata": {
    "slideshow": {
     "slide_type": "notes"
    }
   },
   "source": [
    "45 mins inc. Q&A, English\n",
    "So ~ 13 slides\n",
    "Friday 22 July at 10:30\n",
    "https://ep2016.europython.eu/conference/talks/jupyter-for-everything-else"
   ]
  },
  {
   "cell_type": "markdown",
   "metadata": {
    "slideshow": {
     "slide_type": "slide"
    }
   },
   "source": [
    "<center> <h1>Jupyter for Everything Else</h1>\n",
    "<br/>\n",
    "<h3>Michael Bright, <a href=\"https://ep2016.europython.eu/conference/talks/jupyter-for-everything-else\">EuroPython 2016 - Bilbao, 22 July</a>.</h3>\n",
    "<img src=\"images/DEMO_OpenStack_API_D3.png\" width=300 />\n",
    "<br/>\n",
    "<font size=-1>\n",
    "<i class=\"fa-github fa-2x fa\"> [mjbright](https://github.com/mjbright)</i>&nbsp;&nbsp;\n",
    "<i class=\"fa-twitter fa-2x fa\"> [@mjbright](http://twitter.com/mjbright)</i>&nbsp;&nbsp;\n",
    "<i class=\"fa-envelope fa-2x fa\"> mjbrightfr AT gmail</i>&nbsp;&nbsp;\n",
    "<i class=\"fa-user fa-2x fa\"> [mjbright.github.io](http://mjbright.github.io)</i>\n",
    "</font>\n",
    "</center>"
   ]
  },
  {
   "cell_type": "markdown",
   "metadata": {
    "slideshow": {
     "slide_type": "notes"
    }
   },
   "source": [
    "Qns: program@europython.eu\n",
    "\n",
    "Dear Mike, -- please use program@europython.eu for all speaker related matters in the future -- The room has 180 seats but this doesn't necessarily mean 180 people will attend, last years' trainings had between 50-100 attendees on average. I hope this - unfortunately vague - information helps. The room for your talk has 120 seats, please note that the talk rooms may still change. Best, Alexander\n",
    "\n",
    "Qns: projector details - hdmi? vga? resolutions?"
   ]
  },
  {
   "cell_type": "markdown",
   "metadata": {
    "slideshow": {
     "slide_type": "slide"
    }
   },
   "source": [
    "<center> <h1> Outline </h1> </center>\n",
    "- Introduction: From IPython to Jupyter\n",
    "- \"*Classic*\" use\n",
    "  - Data analysis, scientific investigation, visualisation\n",
    "- The Jupyter Project & Ecosystem:\n",
    "  - Project: kernels, widgets, extensions, tools, incubating\n",
    "  - External: Phebe, Hosting, Binder ...\n",
    "- Jupyter for Everything Else"
   ]
  },
  {
   "cell_type": "markdown",
   "metadata": {
    "slideshow": {
     "slide_type": "notes"
    }
   },
   "source": [
    "OUTLINE (NOTES)\n",
    "- Introduction: From IPython to Jupyter\n",
    "  - What are Jupyter & IPython ?\n",
    "      - IPython beginnings\n",
    "          - The console and notebook\n",
    "          - The messaging protocol and kernels\n",
    "      - Jupyter Project\n",
    "       \n",
    "- \"*Classic*\" use (Python/R/Julia/..)\n",
    "  - What is Jupyter being used for?\n",
    "  - Data analysis, scientific investigation, visualisation\n",
    " \n",
    "- The Jupyter Project & Ecosystem:\n",
    "  - Project: kernels, widgets, extensions, tools, incubating\n",
    "             nb*, tmpnb, jupyterhub, \n",
    "  - External: Phebe, Hosting, Binder ...\n",
    "    - Static hosting: nbviewer, github, IPython Gallery\n",
    "    - Dynamic hosting: Binder, Azure, GCE, AWS?\n",
    "  - Related Projects\n",
    "    \n",
    "- Jupyter for Everything Else"
   ]
  },
  {
   "cell_type": "markdown",
   "metadata": {
    "slideshow": {
     "slide_type": "subslide"
    }
   },
   "source": [
    "<center> <h1> Introduction: From IPython to Jupyter </h1> </center>\n",
    "\n",
    "- How IPython started: A REPL\n",
    "- IPython evolution / architecture\n",
    "  - magics"
   ]
  },
  {
   "cell_type": "markdown",
   "metadata": {
    "slideshow": {
     "slide_type": "fragment"
    }
   },
   "source": [
    "  - zeromq protocol enabling\n",
    "    - IPyParallel\n",
    "    - multiple front-ends\n",
    "    - different language kernels"
   ]
  },
  {
   "cell_type": "markdown",
   "metadata": {
    "slideshow": {
     "slide_type": "fragment"
    }
   },
   "source": [
    "- \"The Big Split\"\n",
    "  - Project Jupyter: the language independent notebook\n",
    "  "
   ]
  },
  {
   "cell_type": "markdown",
   "metadata": {
    "slideshow": {
     "slide_type": "notes"
    }
   },
   "source": [
    "# Introduction\n",
    "- What is Jupyter / IPython ?\n",
    "    - A bit of history\n",
    "    - Show basic REPL (as secn 2 of user guide)\n",
    "    - Zeromq: allows parallel and multiple front-ends\n",
    "    - Show use of protocol for parallel, but also multiple front-ends\n",
    "    - Now multiple kernels\n",
    "      - Also magics (for IPython at least)\n",
    "    - Notebooks (show screenshot)\n",
    "- How is it architected\n",
    "  - image(s) with magics also"
   ]
  },
  {
   "cell_type": "markdown",
   "metadata": {
    "slideshow": {
     "slide_type": "slide"
    }
   },
   "source": [
    "<center><h1> IPython - the Console </h1>\n",
    "<br/>\n",
    "<br/>\n",
    "<a href=\"http://ipython.org/\"><img src=\"http://www.i-programmer.info/images/stories/News/2013/Aug/A/ipython.jpg\" border=0 height=300 width=300/></a>\n",
    "</center>"
   ]
  },
  {
   "cell_type": "markdown",
   "metadata": {
    "slideshow": {
     "slide_type": "subslide"
    }
   },
   "source": [
    "<center> <h1> IPython - the Console </h1> </center>\n",
    "\n",
    "\"*an afternoon hack*\" (Nov 2001) by Fernando Perez, to facilitate *Scientific Exploration*:\n",
    "* Individual Exploratory Analysis\n",
    "* Collaborative work\n",
    "* Publication of **reproducible results**\n",
    "* Education\n",
    "<br/>\n",
    "<center>\n",
    "<img src=\"images/IPythonConsole.png\" width=600 />IPython - console-based **REPL** (Read-Eval-Print-Loop)\n",
    "</center>"
   ]
  },
  {
   "cell_type": "markdown",
   "metadata": {
    "slideshow": {
     "slide_type": "subslide"
    }
   },
   "source": [
    "<center> <h1> The messaging protocol </h1>  \n",
    "<img src=\"images/IPython_Architecture1.png\" width=600 />\n",
    "Created in 2010, inspired by the need to support multi-processing\n",
    "<br/><br/>\n",
    "it enabled multiple front-ends for the IPython kernel\n",
    "</center>"
   ]
  },
  {
   "cell_type": "markdown",
   "metadata": {
    "slideshow": {
     "slide_type": "subslide"
    }
   },
   "source": [
    "<center> <h1> ... the protocol enables different kernels </h1>  \n",
    "<img src=\"images/IPython_Architecture2.png\" width=600/>\n",
    "<br/>\n",
    "**Note**: these are persistent kernels - \n",
    "unlike IPython **cell magics**.\n",
    "<br/>\n",
    "<br/>\n",
    "A notebook runs under one kernel\n",
    "</center>"
   ]
  },
  {
   "cell_type": "markdown",
   "metadata": {
    "slideshow": {
     "slide_type": "subslide"
    }
   },
   "source": [
    "<center> <h1> IPython - the QtConsole </h1> \n",
    "<br/><br/>\n",
    "![QtConsole](images/ExampleConsole.png)\n",
    "</center>"
   ]
  },
  {
   "cell_type": "markdown",
   "metadata": {
    "slideshow": {
     "slide_type": "subslide"
    }
   },
   "source": [
    "<center><h1>The Jupyter Notebook</h1></center>\n",
    "- A web application to create and share documents containing live code, equations, visualizations and explanatory text as a **(reproducible) narrative**.\n",
    "- Used across a vast number of application domains\n",
    "<img class=\"img-responsive\" src=\"images/NotebookRichOutput.png\" width=1000 />\n",
    "\n",
    "<!--\n",
    "![Notebook](images/JupyterNotebook.png) \n",
    "The Jupyter Notebook is a web application that allows you to create and share documents that contain live code, equations, visualizations and explanatory text.\n",
    "<br/>Uses include: data cleaning and transformation, numerical simulation, statistical modeling, machine learning and much more.\n",
    "<img class=\"img-responsive\" src=\"http://jupyter.org/assets/jupyterpreview.png\" width=600 />\n",
    "-->\n"
   ]
  },
  {
   "cell_type": "markdown",
   "metadata": {
    "slideshow": {
     "slide_type": "notes"
    }
   },
   "source": [
    "# What is Jupyter (& IPython) ?\n",
    "\n",
    "The Jupyter [notebook interface](http://localhost:8870/tree) consists of\n",
    "- a Dashboard (File explorer, Running, Clusters)\n",
    "- a File editor\n",
    "- a Terminal\n",
    "- The notebook itself running the selected kernel, comprised of\n",
    "  - input cells: code or markdown\n",
    " ** ability to mix code, markdown and rich media allows to create a narrative **\n",
    "  - output cells: can include plots, graphics\n",
    "\n",
    "Notebooks are stored in the JSON-based .ipynb file format"
   ]
  },
  {
   "cell_type": "markdown",
   "metadata": {
    "slideshow": {
     "slide_type": "slide"
    }
   },
   "source": [
    "<center><h1>The Jupyter Project</h1></center>\n",
    "<br/><br/>The Jupyter Project was announced at SciPy in July 2014.\n",
    "<br/><br/>\n",
    "The **Big Split** was finalized in 2015 with the release of **Jupyter 1.0** and **IPython 4.0**.\n",
    "<table border=\"0\"><tr><td>\n",
    "<a href=\"http://jupyter.org/\"><img src=\"https://encrypted-tbn3.gstatic.com/images?q=tbn:ANd9GcSnQKaJ94EsgiFwt6RrjGxvYV_LbJKAW0KZkpM9TUuk4F28wLTbWQ\" border=0 height=100 width=200/>jupyter.org</a></td><td>\n",
    "<a href=\"http://www.splung.com/cosmology/images/galileonotebook.gif\"><img src=\"images/Gallileo_Jupiter_Moons_Notebook.png\" border=0 height=100 width=400/>Gallileos' public notebooks</a></td></tr></table><br/><br/>\n",
    "A repackaging / renaming of the formerly monolithic IPython code:\n",
    "- IPython - one of many kernels\n",
    "- Jupyter - notebook front-end\n",
    "- Facilitates use of web technologies in the notebook"
   ]
  },
  {
   "cell_type": "markdown",
   "metadata": {
    "slideshow": {
     "slide_type": "slide"
    }
   },
   "source": [
    "<center> <h1> Jupyter: \"*Classic*\" uses </h1> </center>\n",
    "  - Data analysis, visualisation, multi-language\n",
    "  \n",
    "  - TODO: fillup with examples from nbviewer.org\n"
   ]
  },
  {
   "cell_type": "markdown",
   "metadata": {
    "slideshow": {
     "slide_type": "notes"
    }
   },
   "source": [
    "<center> <h1> Installing Jupyter </h1> </center>\n",
    "<br/>\n",
    "For a native installation\n",
    "- Recommended: install Jupyter using the Anaconda distribution [Continuum Analytics]\n",
    "<br/>\n",
    "This provides the IPython kernel only.\n",
    "<br/>\n",
    "- or pip install jupyter\n",
    "<br/>\n",
    "<br/>\n",
    "You can then customize your config and install\n",
    "  - Kernels for other languages/environments, e.g. Anaconda's R-Essentials package\n",
    "  - Extension widgets\n",
    "  - Notebooks !!\n",
    "\n",
    "Or\n",
    "- Alternatively, several docker images are available on DockerHub (e.g. [jupyter/demo](https://hub.docker.com/r/jupyter/demo/))\n",
    "- or you can try out [try.jupyter.org](https://try.jupyter.org/)"
   ]
  },
  {
   "cell_type": "markdown",
   "metadata": {
    "slideshow": {
     "slide_type": "slide"
    }
   },
   "source": [
    "<center>\n",
    "    <h1> Kernels & Extensions </h1>\n",
    "</center>"
   ]
  },
  {
   "cell_type": "markdown",
   "metadata": {
    "slideshow": {
     "slide_type": "fragment"
    }
   },
   "source": [
    "<center><h1>Currently ~ 51 Kernels</h1>\n",
    "[[Kernels Page]](https://github.com/ipython/ipython/wiki/IPython-kernels-for-other-languages)<br/>\n",
    "A Kernel represents an execution profile - typically a language<br/>\n",
    "</center>\n",
    "\n",
    "|||||\n",
    "---- | ---\n",
    "**IJulia** | IHaskell | IFSharp | IRuby | IGo\n",
    "IScilab | IMatlab | **Bash** | Clojure | Hy\n",
    "idl_kernel | Mochi | Lua | **Spark** | Skulpt Pyt\n",
    "**MetaKernel** | MetaKernel_Bash | Brython | IVisual VP | Brainfuck\n",
    "IScala | IMathics | IAldor | Calico Pro | LuaJIT/Tor\n",
    "IForth | **IPerl** | **IPerl6** | IPHP | IOctave\n",
    "KDB+/Q Ker | ICryptol | **C++ (cling)** | Xonsh | Prolog\n",
    "cl-jupyter | **IRKernel** | Calysto LC | Java 9 |\n",
    "Redis | jove | IJavascrip | Calysto Sc | Calysto Pr\n",
    "Lua | Simple exa | IErlang | IElixir | IOCaml"
   ]
  },
  {
   "cell_type": "markdown",
   "metadata": {
    "slideshow": {
     "slide_type": "subslide"
    }
   },
   "source": [
    "<center><h1>Extension Widgets</h1>\n",
    "#### Notebook Extensions [[Extensions page]](https://carreau.gitbooks.io/jupyter-book/content/notebook-extensions.html)\n",
    "</center>\n",
    "Many customizations and extensions available,<br/><br/>some of my favourites:\n",
    "- [**RISE**](https://github.com/damianavila/RISE) - **these slides are running under Jupyter**\n",
    "- [nbgrader](https://nbgrader.readthedocs.org/en/stable/) - creation/grading of classroom assignments\n",
    "- [plotchecker](https://github.com/jhamrick/plotchecker) - grading of plots\n",
    "- [hide_code](https://pypi.python.org/pypi/hide_code) - hide code cells\n",
    "- [clicker](https://athena.brynmawr.edu/jupyter/hub/dblank/public//Activity%20Magic.ipynb) - anonymous polls\n",
    "\n",
    "Generally installable via pip or from github repo"
   ]
  },
  {
   "cell_type": "markdown",
   "metadata": {
    "slideshow": {
     "slide_type": "slide"
    }
   },
   "source": [
    "<center>\n",
    "    <h1> The Ecosystem & Future Projects </h1>\n",
    "</center>"
   ]
  },
  {
   "cell_type": "markdown",
   "metadata": {},
   "source": [
    "<center><h1>What is Jupyter being used for ?</h1></center>\n",
    "<br/>\n",
    "Professionals (science, data, financials,...)\n",
    "  - exploratory analyses, collaboration, publishing\n",
    "\n",
    "Publishers\n",
    "  - books, blogs, reports, theses\n",
    "  - executable books, articles\n",
    "    - e.g. [**Phebe** (O'Reilly)](https://github.com/phebe),[example](https://www.oreilly.com/learning/introducing-pandas-objects) simplified notebook interfce\n",
    "    - Nature, Scientific American Magazines\n",
    "\n",
    "Educators\n",
    "  - tutorials, assignments, presentations, documenting\n",
    "  - MOOCs - online education:\n",
    "    - notebook-based (**Edx/Apache Spark**)\n",
    "    - jupyter-integrated (**F.U.N.**)\n",
    "  - in classrooms using JupyterHub\n",
    "</font>"
   ]
  },
  {
   "cell_type": "markdown",
   "metadata": {
    "slideshow": {
     "slide_type": "subslide"
    }
   },
   "source": [
    "<center><h1>OReilly Blog Article - embedding Jupyter</h1></center>\n",
    "\n",
    "<img src=\"images/OReilly_Phebe_PandasArticle.PNG\" width=500/>"
   ]
  },
  {
   "cell_type": "markdown",
   "metadata": {
    "slideshow": {
     "slide_type": "subslide"
    }
   },
   "source": [
    "<center><h1> MOOCs, e.g. F.U.N. </h1></center>\n",
    "<br/><a href=\"https://www.france-universite-numerique-mooc.fr/courses/inria/41001S02/session02/courseware/5ec24fe4d294490795d69befc8e19870/8ff1435df3c846fdb0cb42adfd11c3ab/\">\n",
    "<img src=\"images/MOOC_FUN_Jupyter_Integrated.png\" width=1400 />\n",
    "</a>"
   ]
  },
  {
   "cell_type": "markdown",
   "metadata": {
    "slideshow": {
     "slide_type": "subslide"
    }
   },
   "source": [
    "<center><h1>Jupyter Ecosystem</h1><br/>\n",
    "The \"*Big Split*\" facilitates innovation around the platform<br/><br/>\n",
    "</center>\n",
    "\n",
    "There are many ongoing projects\n",
    "- static notebook viewers:\n",
    "  - [*IPython Gallery*]() &nbsp;**-->** &nbsp;[nbviewer](http://nbviewer.org), &nbsp;[github](https://github.com)\n",
    "- dynamic notebook viewers:\n",
    "  - [tryjupyter.org](http://tryjupyter.org),&nbsp; JupyterHub,&nbsp; [Bindr](http://bindr.org),&nbsp; [Quantopian](http://quantopian.org)\n",
    "- alternative front-ends:\n",
    "  - Sidecar,&nbsp; [Rodeo IDE v2](http://blog.yhat.com/posts/rodeo-2.0-release.html),&nbsp; [Hydrogen (ATOM)](https://atom.io/packages/hydrogen),&nbsp; [EIN (emacs)](http://millejoh.github.io/emacs-ipython-notebook/)\n",
    "- tools\n",
    "  - nbconvert  (convert between .ipynb and other formats: PDF, html, ...)\n",
    "- kernels & extensions\n",
    "</center>"
   ]
  },
  {
   "cell_type": "markdown",
   "metadata": {
    "slideshow": {
     "slide_type": "subslide"
    }
   },
   "source": [
    "# Jupyter projects - static notebook rendering\n",
    "**[IPython Gallery](https://github.com/ipython/ipython/wiki/A-gallery-of-interesting-IPython-Notebooks)**\n",
    "Has a list of interesting notebooks ... rendered on **nbviewer** or **github** ...\n",
    "\n",
    "**[nbviewer](http://nbviewer.org)** -You can upload your notebooks to nbviewer which renders them statically (the output cells you already created).\n",
    "Users can download the original notebook.\n",
    "\n",
    "**[github - (example)](https://github.com/rasbt/algorithms_in_ipython_notebooks) ** also renders notebooks statically"
   ]
  },
  {
   "cell_type": "markdown",
   "metadata": {
    "slideshow": {
     "slide_type": "subslide"
    }
   },
   "source": [
    "# Jupyter projects - dynamic notebook rendering\n",
    "\n",
    "- Try Jupyter: [try.jupyter.org](https://try.jupyter.org/)\n",
    "\n",
    "- JupyterHub: multi-user environment for education\n",
    "\n",
    "- Binder (mybinder.org)\n",
    "\n",
    "- [**Thebe** (O'Reilly)](https://www.oreilly.com/learning/introducing-pandas-objects)\n",
    "OReilly publishing - simplified notebook widget\n",
    "\n",
    "- Watakari (Continuum Analytics)\n",
    "\n",
    "- Stocks Analysis (Quantopian)\n",
    "[quantopian](https://www.quantopian.com/research/survey)\n",
    "\n",
    "- Escherpad"
   ]
  },
  {
   "cell_type": "markdown",
   "metadata": {
    "slideshow": {
     "slide_type": "slide"
    }
   },
   "source": [
    "<center><h1>Jupyter Core Projects</h1></center>\n",
    "<br/><br/><font size=+1>Basic UI enhancements: e.g. shortcuts, cell marking</font>\n",
    "<br/><br/><font size=+1>Notebook tests\n",
    "- unit testing\n",
    "- regression testing\n",
    "- dependency testing\n",
    "</font><font size=+1>\n",
    "\n",
    "\n",
    "Currently [incubating sub-projects](https://github.com/jupyter-incubator) (IBM, MSFT involvement)\n",
    "</font>\n",
    "  - [Content Management](https://github.com/jupyter-incubator/contentmanagement)\n",
    "    - Search, include, modularity, ToC  [ex](http://jupyter.cloudet.xyz/user/BWjC4e69eYwv/notebooks/index.ipynb)\n",
    "  - [Dashboards](https://github.com/jupyter-incubator/dashboards)\n",
    "    - Different notebook layouts, bundling as web apps [ex](http://jupyter.cloudet.xyz/user/BWjC4e69eYwv/notebooks/index.ipynb)\n",
    "  - [SparkMagic](https://github.com/jupyter-incubator/sparkmagic)\n",
    "    - Connecting to external Spark Engines\n",
    "  - [Declarative Widgets](https://github.com/jupyter-incubator/declarativewidgets)\n",
    "    - Widgets with less code [ex](http://jupyter.cloudet.xyz/user/BWjC4e69eYwv/notebooks/index.ipynb)\n",
    "  - [Kernel Gateway](https://github.com/jupyter-incubator/kernel_gateway)\n",
    "    - Enable more deployment scenarios at scale\n",
    "</font>"
   ]
  },
  {
   "cell_type": "markdown",
   "metadata": {
    "slideshow": {
     "slide_type": "subslide"
    }
   },
   "source": [
    "# The Jupyter Project\n",
    "- magics, lanugage kernels, extensions, widgets \n",
    "- nbviewer.org\n",
    "- nbconvert\n",
    "- tmpnb, jupyterhub\n",
    "- incubating projects"
   ]
  },
  {
   "cell_type": "markdown",
   "metadata": {
    "slideshow": {
     "slide_type": "subslide"
    }
   },
   "source": [
    "# The Jupyter Ecosystem: External projects\n",
    "\n",
    "- Phebe: \"????\"\n",
    "- Hosting: Azure, GCE, ...\n",
    "- Blogs, Books, ...\n",
    "- Binder: [mybinder.org](http://mybinder.org)\n"
   ]
  },
  {
   "cell_type": "markdown",
   "metadata": {},
   "source": [
    "# Jupyter for Everything Else\n",
    "\n",
    "- Write command-line tutorials, cheat sheets in an easy to maintain format.\n",
    "- Supplement command-line tools with graphics\n",
    "- Write blog posts\n",
    "- Create interactive presentations (thanks *RISE* extension !)\n",
    "- Publish interactive books, articles and blog posts\n",
    "  - OReilly, ... (bring in Pao slides)\n",
    "- HTML/JavaScript/css experimentation\n",
    "  - Show useful d3.js animation (chart, or chart+js widget)"
   ]
  },
  {
   "cell_type": "markdown",
   "metadata": {
    "slideshow": {
     "slide_type": "subslide"
    }
   },
   "source": [
    "# Use cases\n",
    "\n",
    "- Create HTML snapshot status e-mails (>>>>)\n",
    "  - Automatically run notebook\n",
    "  - Convert notebook to html\n",
    "  - send html as e-mail via cron\n",
    "  - SNAPSHOT image of status e-mail\n",
    "  \n",
    "- Metakernel_Bash experimebts\n",
    "\n",
    "- Xonsh\n"
   ]
  },
  {
   "cell_type": "markdown",
   "metadata": {
    "slideshow": {
     "slide_type": "subslide"
    }
   },
   "source": [
    "- Create interactive presentations (thanks Damian !)"
   ]
  },
  {
   "cell_type": "markdown",
   "metadata": {
    "slideshow": {
     "slide_type": "slide"
    }
   },
   "source": [
    "<center><h1>IPython / Jupyter Books</h1></center>\n",
    "\n",
    "|  | \n",
    "------------- | -------------\n",
    "<a href=\"https://www.gitbook.com/book/carreau/jupyter-book/details\"><h3>The Jupyter GitBook</h3></a> <h6>Extension writing</h6> | <img src=\"images/Books/gitbook_jupyter-book.jpg\" width=180 />\n",
    "<a href=\"http://cyrille.rossant.net/books/\"><h3>Learning IPython for Interactive Computing & Data Visualization </h3> </a> Cyrille Rossant <h6> Introductory usage</h6> | <img src=\"images/Books/PPub_Rossant_minibook.jpg\" width=180 />\n",
    "<a href=\"http://cyrille.rossant.net/books/\"><h3> IPython Interactive Computing & Visualization Cookbook  </h3></a> Cyrille Rossant<h6>Advanced usage </h6>  | <img src=\"images/Books/PPub_Rossant_cookbook.jpg\" width=180 />"
   ]
  },
  {
   "cell_type": "markdown",
   "metadata": {
    "slideshow": {
     "slide_type": "slide"
    }
   },
   "source": [
    "<center>\n",
    "<br/><br/>\n",
    "<h3> <font color=\"#88f\"> Jupyter is a fast-moving Open Source project<br/>\n",
    "widely used for Data Analysis<br/>\n",
    "with a vibrant ecosystem ... <br/>\n",
    "<b>but it has many uses outside Python/R/Julia, and data science</font></h3>\n",
    "<br/><br/><br/>\n",
    "    <h1> Questions ?</h1>\n",
    "<br/><br/><br/>\n",
    "    ![The End](images/END_sillywalk.jpg)\n",
    "    <br/>\n",
    "<font size=+1>\n",
    "<i class=\"fa-github fa-2x fa\"> [mjbright](https://github.com/mjbright)</i>&nbsp;&nbsp;\n",
    "<i class=\"fa-twitter fa-2x fa\"> [@mjbright](http://twitter.com/mjbright)</i>&nbsp;&nbsp;\n",
    "<i class=\"fa-envelope fa-2x fa\"> mjbrightfr AT gmail</i>&nbsp;&nbsp;\n",
    "<i class=\"fa-user fa-2x fa\"> [mjbright.github.io](http://mjbright.github.io)</i>\n",
    "</font>\n",
    "</center>\n"
   ]
  },
  {
   "cell_type": "code",
   "execution_count": null,
   "metadata": {
    "collapsed": true,
    "slideshow": {
     "slide_type": "fragment"
    }
   },
   "outputs": [],
   "source": [
    "print(\"Hello World\")"
   ]
  },
  {
   "cell_type": "markdown",
   "metadata": {
    "slideshow": {
     "slide_type": "notes"
    }
   },
   "source": [
    "# Outline\n",
    "- Introduction: From IPython to Jupyter\n",
    "  - IPython kernel (with magics)\n",
    "  - Jupyter notebook and kernels (diagram)\n",
    "- \"*Classic*\" use\n",
    "  - Data analysis, visualisation, multi-language\n",
    "- The Jupyter Ecosystem:\n",
    "  - The \"inner\" ecosystem: nbviewer, nbconvert, tmpnb, binder, jupyterhub, incubating, ...\n",
    "  - The \"outer\" ecosystem: Phebe, Azure, ...\n",
    "- Doing everything else with Jupyter\n",
    "\n",
    "- From IPython to Jupyter\n",
    "  - IPython\n",
    "      - magics, notebook\n",
    "  - Jupyter (diagram)\n",
    "  - Show IPython+magics(langs), Jupyter + kernels(IPython,bash,...)\n",
    "  - Show Python data anal+graphics\n",
    "  - Show R + graphics\n",
    "  - Show bash_kernel + graphics\n",
    "      \n",
    "- Jupyter Ecosystem\n",
    "- Doing lots of stuff with Jupyter\n",
    "- Doing everything else with Jupyter\n",
    "\n",
    "\n",
    "Very rough draft of Jupyter presn (scenarii, search ideas, look at “awesome-python++”)\n",
    "What is Jupyter and why?\n",
    "Getting started\t\n",
    "What it’s used for\n",
    "Many uses, extensions, eco-system\n",
    "What Else?\n",
    "My favourites; bash_kernel, RISE, nbgrader, jupyter-hub\n",
    "HTML? JavaScript? BrythonMagic? Polymer? NodeJS?\n",
    "End? Alternatives? (Zeppelin, SMC, MathLab)"
   ]
  },
  {
   "cell_type": "markdown",
   "metadata": {
    "collapsed": true,
    "slideshow": {
     "slide_type": "notes"
    }
   },
   "source": [
    "From:\n",
    "    https://ep2016.europython.eu/conference/talks/jupyter-for-everything-else\n",
    "    \n",
    "# JUPYTER FOR EVERYTHING ELSE\n",
    "\n",
    "Speaker(s) Mike BRIGHT\n",
    "\n",
    "Sure you can do a chunk of scientific exploration and stuff in Jupyter in your choice of language supplemented with visuals and that’s already awesome !\n",
    "\n",
    "But let’s head off the beaten track a little to look at other uses, especially command-line.\n",
    "\n",
    "We’ll look at some alternate uses of Jupyter …\n",
    "\n",
    "- Write command-line tutorials, cheat sheets in an easy to maintain format.\n",
    "- Perform visualization tasks for command-line tools\n",
    "- Write blog posts\n",
    "- Create interactive presentations (thanks Damian !)\n",
    "- Publish interactive books, articles and blog posts\n",
    "- HTML/js/css experimentation\n",
    "\n",
    "is on Friday 22 July at 10:30\n",
    "EN, Duration 45 minutes (inc. Q&A)\n",
    "TAGs: Visualization, Docker, Jupyter/iPython Notebook, Command-Line, Use Case\n",
    "    \n",
    "CONTACTS EUROPYTHON 2016 TEAM PRIVACY POLICY CODE OF CONDUCT\n",
    "© 2015-2016 EUROPYTHON SOCIETY (EPS) | TRADEMARKS | IMPRINT | CODE OF CONDUCT | PHOTO REFERENCES"
   ]
  },
  {
   "cell_type": "markdown",
   "metadata": {
    "slideshow": {
     "slide_type": "notes"
    }
   },
   "source": [
    "## Things to investigate, references ...\n",
    "\n",
    "Ask on Google Groups about HTML/CSS/JS limits and workarounds, e.g. IFrames for HTML ...\n",
    "- [Use of HTML in Jupyter](https://www.google.fr/webhp?sourceid=chrome-instant&ion=1&espv=2&ie=UTF-8#q=using%20html%20in%20jupyter%20ipython)\n",
    "- [Use of CSS in Jupyter](https://www.google.fr/webhp?sourceid=chrome-instant&ion=1&espv=2&ie=UTF-8#q=using+css+in+jupyter+ipython)\n",
    "- [Use of JS in Jupyter](https://www.google.fr/webhp?sourceid=chrome-instant&ion=1&espv=2&ie=UTF-8#q=using%20javascript%20in%20jupyter%20ipython)\n",
    "\n",
    "- [BashPlotlib ??!!](https://github.com/glamp/bashplotlib)\n",
    "- [DataFrame as table](http://stackoverflow.com/questions/26873127/print-dataframe-as-table-in-ipython-notebook)\n",
    "\n"
   ]
  },
  {
   "cell_type": "markdown",
   "metadata": {
    "slideshow": {
     "slide_type": "slide"
    }
   },
   "source": [
    "# The End ..."
   ]
  },
  {
   "cell_type": "code",
   "execution_count": null,
   "metadata": {
    "collapsed": false
   },
   "outputs": [],
   "source": [
    "%lsmagic"
   ]
  }
 ],
 "metadata": {
  "celltoolbar": "Slideshow",
  "kernelspec": {
   "display_name": "MetaKernel Bash",
   "language": "bash",
   "name": "metakernel_bash"
  },
  "language_info": {
   "file_extension": ".sh",
   "help_links": [
    {
     "text": "MetaKernel Magics",
     "url": "https://github.com/calysto/metakernel/blob/master/metakernel/magics/README.md"
    }
   ],
   "mimetype": "text/x-bash",
   "name": "bash"
  },
  "livereveal": {
   "height": "768",
   "theme": "sky",
   "width": "1024"
  }
 },
 "nbformat": 4,
 "nbformat_minor": 0
}
