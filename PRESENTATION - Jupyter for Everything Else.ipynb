{
 "cells": [
  {
   "cell_type": "markdown",
   "metadata": {
    "slideshow": {
     "slide_type": "slide"
    }
   },
   "source": [
    "# TITLE: Jupyter for Everything Else (\"chips\")\n",
    "Remember: Abstract!, remember run on Mac\n",
    "Qns: projector details - hdmi? vga? resolutions?"
   ]
  },
  {
   "cell_type": "markdown",
   "metadata": {
    "slideshow": {
     "slide_type": "notes"
    }
   },
   "source": [
    "Qns: program@europython.eu\n",
    "\n",
    "Dear Mike, -- please use program@europython.eu for all speaker related matters in the future -- The room has 180 seats but this doesn't necessarily mean 180 people will attend, last years' trainings had between 50-100 attendees on average. I hope this - unfortunately vague - information helps. The room for your talk has 120 seats, please note that the talk rooms may still change. Best, Alexander"
   ]
  },
  {
   "cell_type": "markdown",
   "metadata": {
    "slideshow": {
     "slide_type": "subslide"
    }
   },
   "source": [
    "# Outline\n",
    "- Introdction: From IPython to Jupyter\n",
    "  - IPython kernel (with magics)\n",
    "  - Jupyter notebook and kernels (diagram)\n",
    "- \"*Classic*\" use\n",
    "  - Data analysis, visualisation, multi-language\n",
    "- The Jupyter Ecosystem: many new uses\n",
    "- Doing everything else with Jupyter"
   ]
  },
  {
   "cell_type": "markdown",
   "metadata": {
    "slideshow": {
     "slide_type": "slide"
    }
   },
   "source": [
    "# Outline\n",
    "- From IPython to Jupyter\n",
    "  - IPython\n",
    "      - magics, notebook\n",
    "  - Jupyter (diagram)\n",
    "  - Show IPython+magics(langs), Jupyter + kernels(IPython,bash,...)\n",
    "  - Show Python data anal+graphics\n",
    "  - Show R + graphics\n",
    "  - Show bash_kernel + graphics\n",
    "      \n",
    "- Jupyter Ecosystem\n",
    "- Doing lots of stuff with Jupyter\n",
    "- Doing everything else with Jupyter"
   ]
  },
  {
   "cell_type": "markdown",
   "metadata": {
    "collapsed": true,
    "slideshow": {
     "slide_type": "notes"
    }
   },
   "source": [
    "From:\n",
    "    https://ep2016.europython.eu/conference/talks/jupyter-for-everything-else\n",
    "    \n",
    "# JUPYTER FOR EVERYTHING ELSE\n",
    "\n",
    "Speaker(s) Mike BRIGHT\n",
    "\n",
    "Sure you can do a chunk of scientific exploration and stuff in Jupyter in your choice of language supplemented with visuals and that’s already awesome !\n",
    "\n",
    "But let’s head off the beaten track a little to look at other uses, especially command-line.\n",
    "\n",
    "We’ll look at some alternate uses of Jupyter …\n",
    "\n",
    "- Write command-line tutorials, cheat sheets in an easy to maintain format.\n",
    "- Perform visualization tasks for command-line tools\n",
    "- Write blog posts\n",
    "- Create interactive presentations (thanks Damian !)\n",
    "- Publish interactive books, articles and blog posts\n",
    "- HTML/js/css experimentation\n",
    "\n",
    "is on Friday 22 July at 10:30\n",
    "EN, Duration 45 minutes (inc. Q&A)\n",
    "TAGs: Visualization, Docker, Jupyter/iPython Notebook, Command-Line, Use Case\n",
    "    \n",
    "CONTACTS EUROPYTHON 2016 TEAM PRIVACY POLICY CODE OF CONDUCT\n",
    "© 2015-2016 EUROPYTHON SOCIETY (EPS) | TRADEMARKS | IMPRINT | CODE OF CONDUCT | PHOTO REFERENCES"
   ]
  },
  {
   "cell_type": "code",
   "execution_count": 4,
   "metadata": {
    "collapsed": false
   },
   "outputs": [
    {
     "name": "stdout",
     "output_type": "stream",
     "text": [
      "Available line magics:\n",
      "%activity  %cd  %connect_info  %dot  %download  %edit  %get  %help  %html  %include  %install  %install_magic  %javascript  %jigsaw  %kernel  %kx  %latex  %load  %ls  %lsmagic  %macro  %magic  %parallel  %plot  %pmap  %px  %python  %reload_magics  %restart  %run  %set  %shell\n",
      "\n",
      "Available cell magics:\n",
      "%%activity  %%brain  %%debug  %%dot  %%file  %%help  %%html  %%javascript  %%kx  %%latex  %%macro  %%processing  %%px  %%python  %%shell  %%show  %%time  %%tutor\n"
     ]
    }
   ],
   "source": [
    "%lsmagic"
   ]
  },
  {
   "cell_type": "code",
   "execution_count": 5,
   "metadata": {
    "collapsed": false,
    "slideshow": {
     "slide_type": "slide"
    }
   },
   "outputs": [
    {
     "name": "stderr",
     "output_type": "stream",
     "text": [
      "Traceback (most recent call last):\n",
      "  File \"C:\\Progs\\Anaconda3\\lib\\site-packages\\metakernel-0.12.6-py3.5.egg\\metakernel\\magics\\python_magic.py\", line 19, in exec_code\n",
      "    exec(code, env)\n",
      "  File \"<string>\", line 1\n",
      "    %matplotlib inline\n",
      "    ^\n",
      "SyntaxError: invalid syntax\n",
      "\n"
     ]
    }
   ],
   "source": [
    "%%python\n",
    "%matplotlib inline\n",
    "\n",
    "import matplotlib\n",
    "import numpy as np\n",
    "import matplotlib.pyplot as plt\n",
    "\n",
    "x = np.linspace(0, 3*np.pi, 500)\n",
    "plt.plot(x, np.sin(x**2))\n",
    "plt.title('A simple chirp')\n",
    "plt.show()"
   ]
  },
  {
   "cell_type": "code",
   "execution_count": null,
   "metadata": {
    "collapsed": true
   },
   "outputs": [],
   "source": []
  }
 ],
 "metadata": {
  "celltoolbar": "Slideshow",
  "kernelspec": {
   "display_name": "MetaKernel Bash",
   "language": "bash",
   "name": "metakernel_bash"
  },
  "language_info": {
   "file_extension": ".sh",
   "help_links": [
    {
     "text": "MetaKernel Magics",
     "url": "https://github.com/calysto/metakernel/blob/master/metakernel/magics/README.md"
    }
   ],
   "mimetype": "text/x-bash",
   "name": "bash"
  }
 },
 "nbformat": 4,
 "nbformat_minor": 0
}
