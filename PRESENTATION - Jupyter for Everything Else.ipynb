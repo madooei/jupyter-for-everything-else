{
 "cells": [
  {
   "cell_type": "markdown",
   "metadata": {
    "slideshow": {
     "slide_type": "slide"
    }
   },
   "source": [
    "# TITLE: Jupyter for Everything Else (\"chips\")\n",
    "Remember: Abstract!, remember run on Mac\n",
    "-"
   ]
  },
  {
   "cell_type": "markdown",
   "metadata": {
    "slideshow": {
     "slide_type": "slide"
    }
   },
   "source": [
    "# Outline\n",
    "- From IPython to Jupyter\n",
    "  - IPython\n",
    "      - magics, notebook\n",
    "  - Jupyter (diagram)\n",
    "  - Show IPython+magics(langs), Jupyter + kernels(IPython,bash,...)\n",
    "  - Show Python data anal+graphics\n",
    "  - Show R + graphics\n",
    "  - Show bash_kernel + graphics\n",
    "      \n",
    "- Jupyter Ecosystem\n",
    "- Doing lots of stuff with Jupyter\n",
    "- Doing everything else with Jupyter"
   ]
  },
  {
   "cell_type": "code",
   "execution_count": null,
   "metadata": {
    "collapsed": true,
    "slideshow": {
     "slide_type": "slide"
    }
   },
   "outputs": [],
   "source": []
  }
 ],
 "metadata": {
  "celltoolbar": "Slideshow",
  "kernelspec": {
   "display_name": "MetaKernel Bash",
   "language": "bash",
   "name": "metakernel_bash"
  },
  "language_info": {
   "file_extension": ".sh",
   "help_links": [
    {
     "text": "MetaKernel Magics",
     "url": "https://github.com/calysto/metakernel/blob/master/metakernel/magics/README.md"
    }
   ],
   "mimetype": "text/x-bash",
   "name": "bash"
  }
 },
 "nbformat": 4,
 "nbformat_minor": 0
}
