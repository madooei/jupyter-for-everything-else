{
 "cells": [
  {
   "cell_type": "markdown",
   "metadata": {},
   "source": [
    "First let's look at what notebooks are stored in the current directory"
   ]
  },
  {
   "cell_type": "code",
   "execution_count": 7,
   "metadata": {
    "collapsed": false
   },
   "outputs": [
    {
     "data": {
      "text/plain": [
       "Available OpenStack environments:\r\n",
       "total 60\r\n",
       "drwxrwxr-x  7 monitor monitor 4096 Jul 12 09:49 \u001b[0m\u001b[01;34m.\u001b[0m\r\n",
       "drwxr-xr-x 31 monitor monitor 4096 Jul 12 20:41 \u001b[01;34m..\u001b[0m\r\n",
       "-rw-r--r--  1 monitor monitor 1170 Jul  8 20:15 clouds.yaml\r\n",
       "-rw-r--r--  1 monitor monitor  943 Jun  9 18:06 clouds.yaml.old\r\n",
       "drwxrwxr-x  2 monitor monitor 4096 Jul  8 11:31 \u001b[01;34mDEMO8_HCG2.1\u001b[0m\r\n",
       "-rw-r--r--  1 monitor monitor 2759 Jul 12 09:44 demo8_hosts.ini\r\n",
       "drwxrwxr-x  2 monitor monitor 4096 Jul  8 20:17 \u001b[01;34mNFV5\u001b[0m\r\n",
       "-rw-r--r--  1 monitor monitor 3898 Jul  9 12:09 nfv5_hosts.ini\r\n",
       "drwxrwxr-x  3 monitor monitor 4096 Jul  8 10:49 \u001b[01;34mOLD\u001b[0m\r\n",
       "drwxrwxr-x  2 monitor monitor 4096 May 31 14:17 \u001b[01;34mPOC1_HCG1.1\u001b[0m\r\n",
       "-rw-r--r--  1 monitor monitor 1085 Jul 12 09:49 poc1_hosts.ini\r\n",
       "drwxrwxr-x  2 monitor monitor 4096 Jun 11 21:56 \u001b[01;34mPOC2_HCG2.1\u001b[0m\r\n",
       "-rw-r--r--  1 monitor monitor 3356 Jul  3 07:42 poc2_hosts.ini\r\n",
       "-rw-rw-r--  1 monitor monitor 1175 Jun 28 17:15 poc2_hosts.ini.old\r\n",
       "-rw-r--r--  1 monitor monitor 1671 Apr  6 15:07 UNSET.rc"
      ]
     },
     "execution_count": 7,
     "metadata": {},
     "output_type": "execute_result"
    }
   ],
   "source": [
    "echo; echo \"Available OpenStack environments:\"; ls -al /home/monitor/env"
   ]
  },
  {
   "cell_type": "code",
   "execution_count": 2,
   "metadata": {
    "collapsed": false
   },
   "outputs": [
    {
     "data": {
      "text/plain": [
       "+----------------------+----------------------+--------+-----------------------+\r\n",
       "| ID                   | Name                 | Status | Networks              |\r\n",
       "+----------------------+----------------------+--------+-----------------------+\r\n",
       "| c3b26e60-8e28-45b4-9 | jumphost3            | ACTIVE | clearwater-private-ma |\r\n",
       "| 4d5-64353085e6d4     |                      |        | nagement=192.168.0.9, |\r\n",
       "|                      |                      |        | 10.27.10.42           |\r\n",
       "| 4dcdd430-c9f9-43f5-8 | JumpHost2            | ACTIVE | clearwater-private-si |\r\n",
       "| 981-d7529b09c0f4     |                      |        | gnaling=192.168.1.8,  |\r\n",
       "|                      |                      |        | 10.27.10.41           |\r\n",
       "| 7fd75c7e-1c75-46b1-9 | JumpHost             | ACTIVE | ExternalNetwork=10.27 |\r\n",
       "| 4ed-0d6a73fdc92e     |                      |        | .10.40                |\r\n",
       "| db52f15c-c0d3-4500-9 | homer-0.example.com  | ACTIVE | clearwater-private-si |\r\n",
       "| 88d-d2a533df2362     |                      |        | gnaling=192.168.1.7,  |\r\n",
       "|                      |                      |        | 10.27.10.38;          |\r\n",
       "|                      |                      |        | clearwater-private-ma |\r\n",
       "|                      |                      |        | nagement=192.168.0.8, |\r\n",
       "|                      |                      |        | 10.27.10.39           |\r\n",
       "| d9b02b34-2e76-4a4d-b | homestead-0.example. | ACTIVE | clearwater-private-si |\r\n",
       "| b7b-7e92394ea886     | com                  |        | gnaling=192.168.1.6;  |\r\n",
       "|                      |                      |        | clearwater-private-ma |\r\n",
       "|                      |                      |        | nagement=192.168.0.7, |\r\n",
       "|                      |                      |        | 10.27.10.37           |\r\n",
       "| 93902a2c-e86b-4294-8 | ralf-0.example.com   | ACTIVE | clearwater-private-si |\r\n",
       "| 9e2-5956de8e17b6     |                      |        | gnaling=192.168.1.5;  |\r\n",
       "|                      |                      |        | clearwater-private-ma |\r\n",
       "|                      |                      |        | nagement=192.168.0.6, |\r\n",
       "|                      |                      |        | 10.27.10.36           |\r\n",
       "| a7dc2246-967a-4cc4-b | sprout-0.example.com | ACTIVE | clearwater-private-si |\r\n",
       "| e55-a070dc288dbd     |                      |        | gnaling=192.168.1.4;  |\r\n",
       "|                      |                      |        | clearwater-private-ma |\r\n",
       "|                      |                      |        | nagement=192.168.0.5, |\r\n",
       "|                      |                      |        | 10.27.10.35           |\r\n",
       "| 9e478496-add0-4843-b | bono-0.example.com   | ACTIVE | clearwater-private-si |\r\n",
       "| 0e0-3db7c8599559     |                      |        | gnaling=192.168.1.3,  |\r\n",
       "|                      |                      |        | 10.27.10.33;          |\r\n",
       "|                      |                      |        | clearwater-private-ma |\r\n",
       "|                      |                      |        | nagement=192.168.0.4, |\r\n",
       "|                      |                      |        | 10.27.10.34           |\r\n",
       "| 4a758851-305c-48d9-b | ellis-0.example.com  | ACTIVE | clearwater-private-ma |\r\n",
       "| b27-792539ed83bd     |                      |        | nagement=192.168.0.3, |\r\n",
       "|                      |                      |        | 10.27.10.32           |\r\n",
       "| 057ee488-ca29-4bd2-9 | ns.example.com       | ACTIVE | clearwater-private-si |\r\n",
       "| ee3-1a7c6df34ad6     |                      |        | gnaling=192.168.1.2;  |\r\n",
       "|                      |                      |        | clearwater-private-ma |\r\n",
       "|                      |                      |        | nagement=192.168.0.2, |\r\n",
       "|                      |                      |        | 10.27.10.31           |\r\n",
       "| f4b010ce-e260-4980-b | nicovm1              | ACTIVE | ExternalNetwork=10.27 |\r\n",
       "| c6f-b3e88d8b93be     |                      |        | .10.15                |\r\n",
       "| c343eca4-cab9-4526-b | mmsc-n2              | ACTIVE | A-net2=192.168.12.7,  |\r\n",
       "| d0c-16985df7cf0d     |                      |        | 10.27.10.12           |\r\n",
       "| cdf0f4f2-1f97-49cd-9 | mmsc-robottest       | ACTIVE | A_Net1=192.168.11.6,  |\r\n",
       "| ed3-3b97313969cd     |                      |        | 10.27.10.8            |\r\n",
       "| c470275e-23d6-4270-a | mmsc-n1              | ACTIVE | A-net2=192.168.12.5,  |\r\n",
       "| 3b1-65475a478c8c     |                      |        | 10.27.10.14           |\r\n",
       "| 1846e7d7-a564-4c8b-a | mmsc_lb              | ACTIVE | A_Net1=192.168.11.3;  |\r\n",
       "| 633-2f6cb14d6381     |                      |        | A-net2=192.168.12.3,  |\r\n",
       "|                      |                      |        | 10.27.10.7            |\r\n",
       "| c2b83dcc-93e6-413e-8 | karimvm2             | ACTIVE | InternalNET1=192.168. |\r\n",
       "| d6e-cdfd0f6fbd77     |                      |        | 20.6, 10.27.10.5      |\r\n",
       "| 2bfe927e-e15e-44c2-a | karimvm1             | ACTIVE | ExternalNetwork=10.27 |\r\n",
       "| b9d-0fba6f735b9a     |                      |        | .10.3                 |\r\n",
       "+----------------------+----------------------+--------+-----------------------+"
      ]
     },
     "execution_count": 2,
     "metadata": {},
     "output_type": "execute_result"
    }
   ],
   "source": [
    "openstack --os-cloud nfv5 server list --all-projects"
   ]
  },
  {
   "cell_type": "code",
   "execution_count": null,
   "metadata": {
    "collapsed": true
   },
   "outputs": [],
   "source": [
    "openstack --os-cloud nfv5 server list --all-projects | html_table | html"
   ]
  },
  {
   "cell_type": "code",
   "execution_count": 19,
   "metadata": {
    "collapsed": false
   },
   "outputs": [
    {
     "data": {},
     "execution_count": 19,
     "metadata": {},
     "output_type": "execute_result"
    }
   ],
   "source": [
    "function highlight_ACTIVE { sed 's/ACTIVE/<b><p style=\"color: #000; background-color: #0d0\">ACTIVE<\\/p><\\/b>/'; }"
   ]
  },
  {
   "cell_type": "code",
   "execution_count": 18,
   "metadata": {
    "collapsed": false
   },
   "outputs": [
    {
     "data": {
      "text/html": [
       "<table><tr><th>ID</th>\n",
       "\n",
       "<th>Name</th>\n",
       "\n",
       "<th>Status</th>\n",
       "\n",
       "<th>Networks</th>\n",
       "\n",
       "</tr>\n",
       "\n",
       "<tr><td>c3b26e60-8e28-45b4-94d5-64353085e6d4</td>\n",
       "\n",
       "    <td>jumphost3</td>\n",
       "\n",
       "    <td><b><p style=\"color: #000; background-color: #0d0\">ACTIVE</p></b></td>\n",
       "\n",
       "    <td>clearwater-private-management=192.168.0.9, 10.27.10.42</td>\n",
       "\n",
       "</tr>\n",
       "\n",
       "<tr><td>4dcdd430-c9f9-43f5-8981-d7529b09c0f4</td>\n",
       "\n",
       "    <td>JumpHost2</td>\n",
       "\n",
       "    <td><b><p style=\"color: #000; background-color: #0d0\">ACTIVE</p></b></td>\n",
       "\n",
       "    <td>clearwater-private-signaling=192.168.1.8, 10.27.10.41</td>\n",
       "\n",
       "</tr>\n",
       "\n",
       "<tr><td>7fd75c7e-1c75-46b1-94ed-0d6a73fdc92e</td>\n",
       "\n",
       "    <td>JumpHost</td>\n",
       "\n",
       "    <td><b><p style=\"color: #000; background-color: #0d0\">ACTIVE</p></b></td>\n",
       "\n",
       "    <td>ExternalNetwork=10.27.10.40</td>\n",
       "\n",
       "</tr>\n",
       "\n",
       "<tr><td>db52f15c-c0d3-4500-988d-d2a533df2362</td>\n",
       "\n",
       "    <td>homer-0.example.com</td>\n",
       "\n",
       "    <td><b><p style=\"color: #000; background-color: #0d0\">ACTIVE</p></b></td>\n",
       "\n",
       "    <td>clearwater-private-management=192.168.0.8, 10.27.10.39; clearwater-private-signaling=192.168.1.7, 10.27.10.38</td>\n",
       "\n",
       "</tr>\n",
       "\n",
       "<tr><td>d9b02b34-2e76-4a4d-bb7b-7e92394ea886</td>\n",
       "\n",
       "    <td>homestead-0.example.com</td>\n",
       "\n",
       "    <td><b><p style=\"color: #000; background-color: #0d0\">ACTIVE</p></b></td>\n",
       "\n",
       "    <td>clearwater-private-management=192.168.0.7, 10.27.10.37; clearwater-private-signaling=192.168.1.6</td>\n",
       "\n",
       "</tr>\n",
       "\n",
       "<tr><td>93902a2c-e86b-4294-89e2-5956de8e17b6</td>\n",
       "\n",
       "    <td>ralf-0.example.com</td>\n",
       "\n",
       "    <td><b><p style=\"color: #000; background-color: #0d0\">ACTIVE</p></b></td>\n",
       "\n",
       "    <td>clearwater-private-management=192.168.0.6, 10.27.10.36; clearwater-private-signaling=192.168.1.5</td>\n",
       "\n",
       "</tr>\n",
       "\n",
       "<tr><td>a7dc2246-967a-4cc4-be55-a070dc288dbd</td>\n",
       "\n",
       "    <td>sprout-0.example.com</td>\n",
       "\n",
       "    <td><b><p style=\"color: #000; background-color: #0d0\">ACTIVE</p></b></td>\n",
       "\n",
       "    <td>clearwater-private-management=192.168.0.5, 10.27.10.35; clearwater-private-signaling=192.168.1.4</td>\n",
       "\n",
       "</tr>\n",
       "\n",
       "<tr><td>9e478496-add0-4843-b0e0-3db7c8599559</td>\n",
       "\n",
       "    <td>bono-0.example.com</td>\n",
       "\n",
       "    <td><b><p style=\"color: #000; background-color: #0d0\">ACTIVE</p></b></td>\n",
       "\n",
       "    <td>clearwater-private-management=192.168.0.4, 10.27.10.34; clearwater-private-signaling=192.168.1.3, 10.27.10.33</td>\n",
       "\n",
       "</tr>\n",
       "\n",
       "<tr><td>4a758851-305c-48d9-bb27-792539ed83bd</td>\n",
       "\n",
       "    <td>ellis-0.example.com</td>\n",
       "\n",
       "    <td><b><p style=\"color: #000; background-color: #0d0\">ACTIVE</p></b></td>\n",
       "\n",
       "    <td>clearwater-private-management=192.168.0.3, 10.27.10.32</td>\n",
       "\n",
       "</tr>\n",
       "\n",
       "<tr><td>057ee488-ca29-4bd2-9ee3-1a7c6df34ad6</td>\n",
       "\n",
       "    <td>ns.example.com</td>\n",
       "\n",
       "    <td><b><p style=\"color: #000; background-color: #0d0\">ACTIVE</p></b></td>\n",
       "\n",
       "    <td>clearwater-private-management=192.168.0.2, 10.27.10.31; clearwater-private-signaling=192.168.1.2</td>\n",
       "\n",
       "</tr>\n",
       "\n",
       "<tr><td>f4b010ce-e260-4980-bc6f-b3e88d8b93be</td>\n",
       "\n",
       "    <td>nicovm1</td>\n",
       "\n",
       "    <td><b><p style=\"color: #000; background-color: #0d0\">ACTIVE</p></b></td>\n",
       "\n",
       "    <td>ExternalNetwork=10.27.10.15</td>\n",
       "\n",
       "</tr>\n",
       "\n",
       "<tr><td>c343eca4-cab9-4526-bd0c-16985df7cf0d</td>\n",
       "\n",
       "    <td>mmsc-n2</td>\n",
       "\n",
       "    <td><b><p style=\"color: #000; background-color: #0d0\">ACTIVE</p></b></td>\n",
       "\n",
       "    <td>A-net2=192.168.12.7, 10.27.10.12</td>\n",
       "\n",
       "</tr>\n",
       "\n",
       "<tr><td>cdf0f4f2-1f97-49cd-9ed3-3b97313969cd</td>\n",
       "\n",
       "    <td>mmsc-robottest</td>\n",
       "\n",
       "    <td><b><p style=\"color: #000; background-color: #0d0\">ACTIVE</p></b></td>\n",
       "\n",
       "    <td>A_Net1=192.168.11.6, 10.27.10.8</td>\n",
       "\n",
       "</tr>\n",
       "\n",
       "<tr><td>c470275e-23d6-4270-a3b1-65475a478c8c</td>\n",
       "\n",
       "    <td>mmsc-n1</td>\n",
       "\n",
       "    <td><b><p style=\"color: #000; background-color: #0d0\">ACTIVE</p></b></td>\n",
       "\n",
       "    <td>A-net2=192.168.12.5, 10.27.10.14</td>\n",
       "\n",
       "</tr>\n",
       "\n",
       "<tr><td>1846e7d7-a564-4c8b-a633-2f6cb14d6381</td>\n",
       "\n",
       "    <td>mmsc_lb</td>\n",
       "\n",
       "    <td><b><p style=\"color: #000; background-color: #0d0\">ACTIVE</p></b></td>\n",
       "\n",
       "    <td>A_Net1=192.168.11.3; A-net2=192.168.12.3, 10.27.10.7</td>\n",
       "\n",
       "</tr>\n",
       "\n",
       "<tr><td>c2b83dcc-93e6-413e-8d6e-cdfd0f6fbd77</td>\n",
       "\n",
       "    <td>karimvm2</td>\n",
       "\n",
       "    <td><b><p style=\"color: #000; background-color: #0d0\">ACTIVE</p></b></td>\n",
       "\n",
       "    <td>InternalNET1=192.168.20.6, 10.27.10.5</td>\n",
       "\n",
       "</tr>\n",
       "\n",
       "<tr><td>2bfe927e-e15e-44c2-ab9d-0fba6f735b9a</td>\n",
       "\n",
       "    <td>karimvm1</td>\n",
       "\n",
       "    <td><b><p style=\"color: #000; background-color: #0d0\">ACTIVE</p></b></td>\n",
       "\n",
       "    <td>ExternalNetwork=10.27.10.3</td>\n",
       "\n",
       "</tr></table>\n"
      ],
      "text/plain": [
       "<IPython.core.display.HTML object>"
      ]
     },
     "metadata": {},
     "output_type": "display_data"
    }
   ],
   "source": [
    "openstack --os-cloud nfv5 server list --all-projects | sed 's/ACTIVE/<b><p style=\"color: #000; background-color: #0d0\">ACTIVE<\\/p><\\/b>/' | html_table | html"
   ]
  },
  {
   "cell_type": "code",
   "execution_count": null,
   "metadata": {
    "collapsed": true
   },
   "outputs": [],
   "source": []
  }
 ],
 "metadata": {
  "kernelspec": {
   "display_name": "MetaKernel Bash",
   "language": "bash",
   "name": "metakernel_bash"
  },
  "language_info": {
   "file_extension": ".sh",
   "help_links": [
    {
     "text": "MetaKernel Magics",
     "url": "https://github.com/calysto/metakernel/blob/master/metakernel/magics/README.md"
    }
   ],
   "mimetype": "text/x-bash",
   "name": "bash"
  }
 },
 "nbformat": 4,
 "nbformat_minor": 0
}
