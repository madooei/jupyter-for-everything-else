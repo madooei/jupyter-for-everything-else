{
 "cells": [
  {
   "cell_type": "code",
   "execution_count": 2,
   "metadata": {
    "collapsed": false
   },
   "outputs": [],
   "source": [
    "import sys, os\n",
    "sys.path.append('./modules')\n",
    "from Monitoring_Tools import *\n",
    "from OpenStack_Tools  import *"
   ]
  },
  {
   "cell_type": "code",
   "execution_count": null,
   "metadata": {
    "collapsed": true
   },
   "outputs": [],
   "source": [
    "platform=os.getenv('OS_PLATFORM', 'demo8')\n",
    "display_platform(platform)\n",
    "inventory = read_inventory(\"$HOME/env/{}_hosts.ini\".format(platform))\n",
    "conn = connectToCloud(platform)\n",
    "#inventory"
   ]
  },
  {
   "cell_type": "code",
   "execution_count": 69,
   "metadata": {
    "collapsed": false
   },
   "outputs": [
    {
     "data": {
      "text/html": [
       "<h1>Platform status(es)</h1><div id=\"status\"></div>"
      ],
      "text/plain": [
       "<IPython.core.display.HTML object>"
      ]
     },
     "execution_count": 69,
     "metadata": {},
     "output_type": "execute_result"
    }
   ],
   "source": [
    "import IPython\n",
    "\n",
    "IPython.display.HTML('<h1>Platform status(es)</h1><div id=\"status\"></div>')"
   ]
  },
  {
   "cell_type": "code",
   "execution_count": null,
   "metadata": {
    "collapsed": true
   },
   "outputs": [],
   "source": [
    "import IPython\n",
    "\n",
    "js = \"\"\"\n",
    "    $('#status').html('');\n",
    "\n",
    "\"\"\"\n",
    "js = Javascript(js)\n",
    "display(js)\n",
    "\n",
    "for platform in ['demo8', 'poc1', 'poc2', 'nfv5']:\n",
    "    #platform=os.getenv('OS_PLATFORM', 'demo8')\n",
    "    #print(platform)\n",
    "    js = \"\"\"\n",
    "    console.log('plaform=\"\"\" + platform + \"\"\"');\n",
    "    $('#status').html($('#status').html() + '<h2>Platform:\"\"\" + platform + \"\"\"</h2>');\n",
    "\n",
    "\"\"\"\n",
    "    js = Javascript(js)\n",
    "    display(js)"
   ]
  },
  {
   "cell_type": "code",
   "execution_count": 84,
   "metadata": {
    "collapsed": false
   },
   "outputs": [
    {
     "data": {
      "application/javascript": [
       "require(\"notebook/js/outputarea\").OutputArea.auto_scroll_threshold = 9999;\n",
       "/*\n",
       "IPython.OutputArea.auto_scroll_threshold = 9999;\n",
       "\n",
       "accessing `OutputArea` is deprecated. Use `require(\"notebook/js/outputarea\").OutputArea`\n",
       "*/"
      ],
      "text/plain": [
       "<IPython.core.display.Javascript object>"
      ]
     },
     "metadata": {},
     "output_type": "display_data"
    }
   ],
   "source": [
    "%%javascript\n",
    "require(\"notebook/js/outputarea\").OutputArea.auto_scroll_threshold = 9999;\n",
    "/*\n",
    "IPython.OutputArea.auto_scroll_threshold = 9999;\n",
    "\n",
    "accessing `OutputArea` is deprecated. Use `require(\"notebook/js/outputarea\").OutputArea`\n",
    "*/"
   ]
  },
  {
   "cell_type": "code",
   "execution_count": 82,
   "metadata": {
    "collapsed": false
   },
   "outputs": [
    {
     "name": "stdout",
     "output_type": "stream",
     "text": [
      "ls: cannot access 'a': No such file or directory\n",
      "ls: cannot access 'b': No such file or directory\n",
      "ls: cannot access 'c': No such file or directory\n"
     ]
    }
   ],
   "source": [
    "for h in ['a', 'b', 'c']:\n",
    "    !ls -al $h"
   ]
  },
  {
   "cell_type": "code",
   "execution_count": 85,
   "metadata": {
    "collapsed": true
   },
   "outputs": [],
   "source": [
    "def archive_df(inventory):\n",
    "    ! [ ! -d history ] && mkdir history\n",
    "\n",
    "    import datetime\n",
    "    import time\n",
    "\n",
    "    #d = datetime.date.today().strftime(\"%B %d, %Y\")\n",
    "    #dt = datetime.datetime.now().strftime(\"%I:%M%p on %B %d, %Y\")\n",
    "    d = datetime.date.today().strftime(\"%Y-%m-%d\")\n",
    "    dt = datetime.datetime.now().strftime(\"%Y-%m-%d_%H:%M\")\n",
    "    print(d)\n",
    "    print(dt)\n",
    "\n",
    "    for host in sorted(inventory['df_check']):    \n",
    "        ip = inventory['hosts'][host]['ansible_host']\n",
    "        user = inventory['hosts'][host]['ansible_user']\n",
    "        pkey = inventory['hosts'][host]['ssh_key']\n",
    "        df_check = inventory['hosts'][host]['df_check']\n",
    "\n",
    "        # write to history subdir (~/notebooks/cron for cron jobs)\n",
    "        history_file='history/df_history_' + platform + '_' + host + '.txt'\n",
    "        history_fd = open(history_file, 'a')\n",
    "\n",
    "        full_df_cmd=\"hostname; df 2>&1\"\n",
    "        df_op, stderr = ssh_command(host, ip, user, pkey, full_df_cmd)    \n",
    "        history_fd.write('DATE:' + dt + '\\n' + df_op)\n",
    "        history_fd.close()\n",
    "\n",
    "        df_cmd=\"df \" + df_check.replace(\",\", \" \") + \"| grep -v ^Filesystem\"\n",
    "        df_op, stderr = ssh_command(host, ip, user, pkey, df_cmd)    \n",
    "        #df_op = stdout.decode('utf8')\n",
    "        #print(\"HOST[\" + host + \"]<\" + df_check + \">{\" + df_cmd +\"}:\" + df_op)\n",
    "\n",
    "        df_lines=df_op.split(\"\\n\")\n",
    "        for df_line in df_lines:\n",
    "            #print(\"LINE: \" + df_line)\n",
    "            pc_pos = df_line.find(\"%\")\n",
    "            if pc_pos != -1:\n",
    "                pc=int(df_line[pc_pos-3:pc_pos])\n",
    "                partn=df_line[pc_pos+1:]\n",
    "                print(host + \" \" + str(pc) + \"% \" + partn)\n"
   ]
  },
  {
   "cell_type": "code",
   "execution_count": 88,
   "metadata": {
    "collapsed": false
   },
   "outputs": [
    {
     "name": "stdout",
     "output_type": "stream",
     "text": [
      "(1, 2)\n"
     ]
    }
   ],
   "source": [
    "def rtpl():\n",
    "    return 1,2\n",
    "\n",
    "a=rtpl()\n",
    "print(a)"
   ]
  },
  {
   "cell_type": "code",
   "execution_count": 86,
   "metadata": {
    "collapsed": false
   },
   "outputs": [
    {
     "data": {
      "text/html": [
       "<h4>The latest version of this status is available at <a href=\"http://10.3.216.210:8888/tree/notebooks/cron/OpenStack_Monitoring_demo8.html\">http://10.3.216.210:8888/tree/notebooks/cron/OpenStack_Monitoring_demo8.html</a></h4>"
      ],
      "text/plain": [
       "<IPython.core.display.HTML object>"
      ]
     },
     "metadata": {},
     "output_type": "display_data"
    },
    {
     "data": {
      "text/plain": [
       "'http://10.3.216.210:8888/tree/notebooks/cron/OpenStack_Monitoring_demo8.html'"
      ]
     },
     "metadata": {},
     "output_type": "display_data"
    },
    {
     "data": {
      "text/html": [
       "<h1>Platform: demo8</h1><h4>Run at: 2016-07-10 21:54:53</h4>"
      ],
      "text/plain": [
       "<IPython.core.display.HTML object>"
      ]
     },
     "metadata": {},
     "output_type": "display_data"
    },
    {
     "name": "stdout",
     "output_type": "stream",
     "text": [
      "ls: cannot access 'ini_file': No such file or directory\n",
      "ping(kvm[10.3.162.10]) ... "
     ]
    },
    {
     "data": {
      "text/html": [
       "<table style=\"border: 1px solid black; border-style: collapse;\" border=\"1\" width=100%>\"<tr><td>kvm[10.3.162.10]</td><td><div style=\"background-color: red; color: white\"><b>TIMEOUT</b></div></td></tr></table>"
      ],
      "text/plain": [
       "<IPython.core.display.HTML object>"
      ]
     },
     "metadata": {},
     "output_type": "display_data"
    },
    {
     "name": "stdout",
     "output_type": "stream",
     "text": [
      "2 flavors\n",
      "6 images\n",
      "2 servers\n",
      "Failed to determine number of servers\n",
      "ping(demo8co0[10.3.162.143:22]) ... ping(demo8co1[10.3.162.141:22]) ... ping(demo8co10[10.3.162.146:22]) ... ping(demo8co11[10.3.162.140:22]) ... ping(demo8co12[10.3.162.139:22]) ... ping(demo8co13[10.3.162.134:22]) ... ping(demo8co14[10.3.162.144:22]) ... ping(demo8co15[10.3.162.145:22]) ... ping(demo8co2[10.3.162.178:22]) ... ping(demo8co3[10.3.162.142:22]) ... ping(demo8co4[10.3.162.149:22]) ... ping(demo8co5[10.3.162.137:22]) ... ping(demo8co6[10.3.162.138:22]) ... ping(demo8co7[10.3.162.153:22]) ... ping(demo8co8[10.3.162.154:22]) ... ping(demo8co9[10.3.162.136:22]) ... ping(hlmvm[10.3.162.30:22]) ... ping(kvm[10.3.162.10:22]) ... ping(wrcl0[10.3.162.131:22]) ... ping(wrcl1[10.3.162.132:22]) ... "
     ]
    },
    {
     "data": {
      "text/html": [
       "<table style=\"border: 1px solid black; border-style: collapse;\" border=\"1\" width=100%>\"<tr><td>demo8co0[10.3.162.143:22]</td><td><div style=\"background-color: green; color: white\"><b>OK</b></div></td></tr><tr><td>demo8co10[10.3.162.146:22]</td><td><div style=\"background-color: green; color: white\"><b>OK</b></div></td></tr><tr><td>demo8co11[10.3.162.140:22]</td><td><div style=\"background-color: green; color: white\"><b>OK</b></div></td></tr><tr><td>demo8co12[10.3.162.139:22]</td><td><div style=\"background-color: green; color: white\"><b>OK</b></div></td></tr><tr><td>demo8co13[10.3.162.134:22]</td><td><div style=\"background-color: green; color: white\"><b>OK</b></div></td></tr><tr><td>demo8co14[10.3.162.144:22]</td><td><div style=\"background-color: green; color: white\"><b>OK</b></div></td></tr><tr><td>demo8co15[10.3.162.145:22]</td><td><div style=\"background-color: green; color: white\"><b>OK</b></div></td></tr><tr><td>demo8co1[10.3.162.141:22]</td><td><div style=\"background-color: green; color: white\"><b>OK</b></div></td></tr><tr><td>demo8co2[10.3.162.178:22]</td><td><div style=\"background-color: green; color: white\"><b>OK</b></div></td></tr><tr><td>demo8co3[10.3.162.142:22]</td><td><div style=\"background-color: green; color: white\"><b>OK</b></div></td></tr><tr><td>demo8co4[10.3.162.149:22]</td><td><div style=\"background-color: green; color: white\"><b>OK</b></div></td></tr><tr><td>demo8co5[10.3.162.137:22]</td><td><div style=\"background-color: green; color: white\"><b>OK</b></div></td></tr><tr><td>demo8co6[10.3.162.138:22]</td><td><div style=\"background-color: green; color: white\"><b>OK</b></div></td></tr><tr><td>demo8co7[10.3.162.153:22]</td><td><div style=\"background-color: green; color: white\"><b>OK</b></div></td></tr><tr><td>demo8co8[10.3.162.154:22]</td><td><div style=\"background-color: green; color: white\"><b>OK</b></div></td></tr><tr><td>demo8co9[10.3.162.136:22]</td><td><div style=\"background-color: green; color: white\"><b>OK</b></div></td></tr><tr><td>hlmvm[10.3.162.30:22]</td><td><div style=\"background-color: green; color: white\"><b>OK</b></div></td></tr><tr><td>kvm[10.3.162.10:22]</td><td><div style=\"background-color: green; color: white\"><b>OK</b></div></td></tr><tr><td>wrcl0[10.3.162.131:22]</td><td><div style=\"background-color: green; color: white\"><b>OK</b></div></td></tr><tr><td>wrcl1[10.3.162.132:22]</td><td><div style=\"background-color: green; color: white\"><b>OK</b></div></td></tr></table>"
      ],
      "text/plain": [
       "<IPython.core.display.HTML object>"
      ]
     },
     "metadata": {},
     "output_type": "display_data"
    },
    {
     "data": {
      "text/html": [
       "<table style=\"border: 1px solid black; border-style: collapse;\" border=\"1\" width=100%>\"<tr><td>10.3.160.130:8774 [compute]</td><td><div style=\"background-color: green; color: white\"><b>OK</b></div></td></tr><tr><td>10.3.160.130:9696 [network]</td><td><div style=\"background-color: green; color: white\"><b>OK</b></div></td></tr><tr><td>10.3.160.30:5000 [identity]</td><td><div style=\"background-color: green; color: white\"><b>OK</b></div></td></tr><tr><td>10.3.160.30:8776 [volume]</td><td><div style=\"background-color: green; color: white\"><b>OK</b></div></td></tr><tr><td>10.3.160.30:9292 [image]</td><td><div style=\"background-color: green; color: white\"><b>OK</b></div></td></tr></table>"
      ],
      "text/plain": [
       "<IPython.core.display.HTML object>"
      ]
     },
     "metadata": {},
     "output_type": "display_data"
    }
   ],
   "source": [
    "def platformStatus(platform):\n",
    "    HTML_URL = show_notebook_url(platform, host_ip=\"10.3.216.210\", port=8888)\n",
    "    display(HTML_URL)\n",
    "    display_platform(platform)\n",
    "    ini_file=\"$HOME/env/{}_hosts.ini\".format(platform)\n",
    "    inventory = read_inventory(ini_file)\n",
    "    #!ls -al ini_file\n",
    "    conn = connectToCloud(platform)\n",
    "    html, ok = html_ping_all(inventory)\n",
    "    showServerList( conn )\n",
    "    \n",
    "    display_html_ping_ports_all(inventory)\n",
    "    display_html_endpoint_urls(conn)\n",
    "    #archive_df(inventory)\n",
    "\n",
    "#for platform in ['demo8', 'poc1', 'poc2', 'nfv5']:\n",
    "for platform in ['demo8']:\n",
    "    platformStatus(platform)\n",
    "    "
   ]
  },
  {
   "cell_type": "code",
   "execution_count": 3,
   "metadata": {
    "collapsed": false
   },
   "outputs": [
    {
     "data": {
      "text/html": [
       "<h4>The latest version of this status is available at <a href=\"http://10.3.216.210:8888/tree/notebooks/cron/OpenStack_Monitoring_demo8.html\">http://10.3.216.210:8888/tree/notebooks/cron/OpenStack_Monitoring_demo8.html</a></h4>"
      ],
      "text/plain": [
       "<IPython.core.display.HTML object>"
      ]
     },
     "metadata": {},
     "output_type": "display_data"
    }
   ],
   "source": [
    "HTML_URL = show_notebook_url(platform, host_ip=\"10.3.216.210\", port=8888)"
   ]
  },
  {
   "cell_type": "markdown",
   "metadata": {},
   "source": [
    "#### Servers status (ping servers in 'ping_check' group)"
   ]
  },
  {
   "cell_type": "code",
   "execution_count": null,
   "metadata": {
    "collapsed": false,
    "scrolled": true
   },
   "outputs": [
    {
     "name": "stdout",
     "output_type": "stream",
     "text": [
      "ping(seed[10.3.160.10]) ... "
     ]
    },
    {
     "data": {
      "text/html": [
       "<table style=\"border: 1px solid black; border-style: collapse;\" border=\"1\" width=100%>\"<tr><td>seed[10.3.160.10]</td><td><div style=\"background-color: red; color: white\"><b>TIMEOUT</b></div></td></tr></table>"
      ],
      "text/plain": [
       "<IPython.core.display.HTML object>"
      ]
     },
     "metadata": {},
     "output_type": "display_data"
    }
   ],
   "source": [
    "display_html_ping_all(inventory)"
   ]
  },
  {
   "cell_type": "markdown",
   "metadata": {},
   "source": [
    "#### Show VMs (servers)"
   ]
  },
  {
   "cell_type": "code",
   "execution_count": null,
   "metadata": {
    "collapsed": false
   },
   "outputs": [],
   "source": [
    "showServerList( conn )"
   ]
  },
  {
   "cell_type": "markdown",
   "metadata": {},
   "source": [
    "#### Show server port status\n",
    "Note: display_html_ping_ports_all defaults to group 'ssh_check' and port 22"
   ]
  },
  {
   "cell_type": "code",
   "execution_count": null,
   "metadata": {
    "collapsed": true
   },
   "outputs": [],
   "source": [
    "display_html_ping_ports_all(inventory)"
   ]
  },
  {
   "cell_type": "markdown",
   "metadata": {},
   "source": [
    "#### Show Endpoint URLs status (check ports open)"
   ]
  },
  {
   "cell_type": "code",
   "execution_count": null,
   "metadata": {
    "collapsed": false
   },
   "outputs": [],
   "source": [
    "display_html_endpoint_urls(conn)"
   ]
  },
  {
   "cell_type": "code",
   "execution_count": null,
   "metadata": {
    "collapsed": false
   },
   "outputs": [],
   "source": [
    "for host in sorted(inventory['ssh_check']):    \n",
    "    ip = inventory['hosts'][host]['ansible_host']\n",
    "    user = inventory['hosts'][host]['ansible_user']\n",
    "    pkey = inventory['hosts'][host]['ssh_key']\n",
    "    \n",
    "    stdout, stderr = ssh_command(host, ip, user, pkey, \"uptime\")\n",
    "    \n",
    "    #print(\"LINE=\" + stdout)\n",
    "    uptime = strip_uptime(stdout)\n",
    "    print(host + \":\" + uptime)"
   ]
  },
  {
   "cell_type": "code",
   "execution_count": null,
   "metadata": {
    "collapsed": false
   },
   "outputs": [],
   "source": [
    "! [ ! -d history ] && mkdir history\n",
    "\n",
    "import datetime\n",
    "import time\n",
    "\n",
    "#d = datetime.date.today().strftime(\"%B %d, %Y\")\n",
    "#dt = datetime.datetime.now().strftime(\"%I:%M%p on %B %d, %Y\")\n",
    "d = datetime.date.today().strftime(\"%Y-%m-%d\")\n",
    "dt = datetime.datetime.now().strftime(\"%Y-%m-%d_%H:%M\")\n",
    "print(d)\n",
    "print(dt)"
   ]
  },
  {
   "cell_type": "code",
   "execution_count": null,
   "metadata": {
    "collapsed": false,
    "scrolled": false
   },
   "outputs": [],
   "source": [
    "for host in sorted(inventory['df_check']):    \n",
    "    ip = inventory['hosts'][host]['ansible_host']\n",
    "    user = inventory['hosts'][host]['ansible_user']\n",
    "    pkey = inventory['hosts'][host]['ssh_key']\n",
    "    df_check = inventory['hosts'][host]['df_check']\n",
    "    \n",
    "    # write to history subdir (~/notebooks/cron for cron jobs)\n",
    "    history_file='history/df_history_' + platform + '_' + host + '.txt'\n",
    "    history_fd = open(history_file, 'a')\n",
    "    \n",
    "    full_df_cmd=\"hostname; df 2>&1\"\n",
    "    df_op, stderr = ssh_command(host, ip, user, pkey, full_df_cmd)    \n",
    "    history_fd.write('DATE:' + dt + '\\n' + df_op)\n",
    "    history_fd.close()\n",
    "    \n",
    "    df_cmd=\"df \" + df_check.replace(\",\", \" \") + \"| grep -v ^Filesystem\"\n",
    "    df_op, stderr = ssh_command(host, ip, user, pkey, df_cmd)    \n",
    "    #df_op = stdout.decode('utf8')\n",
    "    #print(\"HOST[\" + host + \"]<\" + df_check + \">{\" + df_cmd +\"}:\" + df_op)\n",
    "    \n",
    "    df_lines=df_op.split(\"\\n\")\n",
    "    for df_line in df_lines:\n",
    "        #print(\"LINE: \" + df_line)\n",
    "        pc_pos = df_line.find(\"%\")\n",
    "        if pc_pos != -1:\n",
    "            pc=int(df_line[pc_pos-3:pc_pos])\n",
    "            partn=df_line[pc_pos+1:]\n",
    "            print(host + \" \" + str(pc) + \"% \" + partn)\n",
    "\n"
   ]
  },
  {
   "cell_type": "markdown",
   "metadata": {},
   "source": [
    "#### Although graphics will not be included in the e-mail, they are included in the nbconvert generated html"
   ]
  },
  {
   "cell_type": "code",
   "execution_count": null,
   "metadata": {
    "collapsed": false
   },
   "outputs": [],
   "source": [
    "%matplotlib inline\n",
    "\n",
    "import matplotlib\n",
    "import numpy as np\n",
    "import matplotlib.pyplot as plt\n",
    "\n",
    "x = np.linspace(0, 3*np.pi, 500)\n",
    "plt.plot(x, np.sin(x**2))\n",
    "plt.title('A simple chirp');"
   ]
  },
  {
   "cell_type": "code",
   "execution_count": null,
   "metadata": {
    "collapsed": false
   },
   "outputs": [],
   "source": [
    "from ipywidgets import interactive\n",
    "from IPython.display import Audio, display\n",
    "import numpy as np"
   ]
  },
  {
   "cell_type": "markdown",
   "metadata": {},
   "source": [
    "#### Similarly other graphics generated through SVG, CSS are displayed in the nbconvert generated html"
   ]
  },
  {
   "cell_type": "code",
   "execution_count": null,
   "metadata": {
    "collapsed": false
   },
   "outputs": [],
   "source": [
    "%%html\n",
    "\n",
    "<style>\n",
    "     .pieContainer {\n",
    "          height: 260px;\n",
    "          position: relative;\n",
    "     }\n",
    "     .pieBackground {\n",
    "          background-color: lightgrey;\n",
    "          position: relative;\n",
    "          width: 180px;\n",
    "          height: 180px;\n",
    "          -moz-border-radius: 90px;\n",
    "          -webkit-border-radius: 90px;\n",
    "          -o-border-radius: 90px;\n",
    "          border-radius: 90px;\n",
    "          -moz-box-shadow: -1px 1px 3px #000;\n",
    "          -webkit-box-shadow: -1px 1px 3px #000;\n",
    "          -o-box-shadow: -1px 1px 3px #000;\n",
    "          box-shadow: -1px 1px 3px #000;\n",
    "     } \n",
    "     .pie {\n",
    "          position: absolute;\n",
    "          width: 180px;\n",
    "          height: 180px;\n",
    "          -moz-border-radius: 90px;\n",
    "          -webkit-border-radius: 90px;\n",
    "          -o-border-radius: 90px;\n",
    "          border-radius: 90px;\n",
    "          clip: rect(0px, 90px, 180px, 0px);\n",
    "     }\n",
    "     .hold {\n",
    "          position: absolute;\n",
    "          width: 180px;\n",
    "          height: 180px;\n",
    "          -moz-border-radius: 90px;\n",
    "          -webkit-border-radius: 90px;\n",
    "          -o-border-radius: 90px;\n",
    "          border-radius: 90px;\n",
    "          clip: rect(0px, 180px, 180px, 90px);\n",
    "     }\n",
    "     #pieSliceX10 .pie {\n",
    "          background-color: #1b458b;\n",
    "          -webkit-transform:rotate(10deg);\n",
    "          -moz-transform:rotate(10deg);\n",
    "          -o-transform:rotate(10deg);\n",
    "          transform:rotate(10deg);\n",
    "     }\n",
    "</style>\n",
    "\n",
    "<div class=\"pieContainer\">\n",
    "     <h3>Disk usage</h3><p/>\n",
    "     <div class=\"pieBackground\"> <div id=\"pieSliceX10\" class=\"hold\"><div class=\"pie\"></div></div></div>\n",
    "    \n",
    "</div>"
   ]
  },
  {
   "cell_type": "code",
   "execution_count": null,
   "metadata": {
    "collapsed": false
   },
   "outputs": [],
   "source": [
    "%%html\n",
    "\n",
    "\n",
    "<!-- ADAPTED from https://codepen.io/AtomicNoggin/pen/fEish -->\n",
    "    \n",
    "<div class=\"pieContainer2\">\n",
    "  <div class=\"pie2\" data-start=\"0\" data-value=\"30\"></div>\n",
    "  <div class=\"pie2 highlight\" data-start=\"30\" data-value=\"30\"></div>\n",
    "  <div class=\"pie2\" data-start=\"60\" data-value=\"40\"></div>\n",
    "  <div class=\"pie2 big\" data-start=\"100\" data-value=\"260\"></div>\n",
    "</div>\n",
    "\n",
    "<style>\n",
    "     .pieContainer2 {\n",
    "          height: 260px;\n",
    "          position: relative;\n",
    "     }\n",
    "\n",
    ".pie2 {\n",
    "\t\tposition:absolute;\n",
    "\t\twidth:100px;\n",
    "\t\theight:200px;\n",
    "\t\toverflow:hidden;\n",
    "\t\tleft:150px;\n",
    "\t\t-moz-transform-origin:left center;\n",
    "\t\t-ms-transform-origin:left center;\n",
    "\t\t-o-transform-origin:left center;\n",
    "\t\t-webkit-transform-origin:left center;\n",
    "\t\ttransform-origin:left center;\n",
    "\t}\n",
    "/*\n",
    "  unless the piece represents more than 50% of the whole chart.\n",
    "  then make it a square, and ensure the transform origin is\n",
    "  back in the center.\n",
    "\n",
    "  NOTE: since this is only ever a single piece, you could\n",
    "  move this to a piece specific rule and remove the extra class\n",
    "*/\n",
    "\t.pie2.big {\n",
    "\t\twidth:200px;\n",
    "\t\theight:200px;\n",
    "\t\tleft:50px;\n",
    "\t\t-moz-transform-origin:center center;\n",
    "\t\t-ms-transform-origin:center center;\n",
    "\t\t-o-transform-origin:center center;\n",
    "\t\t-webkit-transform-origin:center center;\n",
    "\t\ttransform-origin:center center;\n",
    "\t}\n",
    "/*\n",
    "  this is the actual visible part of the pie. \n",
    "  Give it the same dimensions as the regular piece.\n",
    "  Use border radius make it a half circle.\n",
    "  move transform origin to the middle of the right side.\n",
    "  Push it out to the left of the containing box.\n",
    "*/\n",
    "\t.pie2:BEFORE {\n",
    "\t\tcontent:\"\";\n",
    "\t\tposition:absolute;\n",
    "\t\twidth:100px;\n",
    "\t\theight:200px;\n",
    "\t\tleft:-100px;\n",
    "\t\tborder-radius:100px 0 0 100px;\n",
    "\t\t-moz-transform-origin:right center;\n",
    "\t\t-ms-transform-origin:right center;\n",
    "\t\t-o-transform-origin:right center;\n",
    "\t\t-webkit-transform-origin:right center;\n",
    "\t\ttransform-origin:right center;\n",
    "\t\t\n",
    "\t}\n",
    " /* if it's part of a big piece, bring it back into the square */\n",
    "\t.pie2.big:BEFORE {\n",
    "\t\tleft:0px;\n",
    "\t}\n",
    "/* \n",
    "  big pieces will also need a second semicircle, pointed in the\n",
    "  opposite direction to hide the first part behind.\n",
    "*/\n",
    "\t.pie2.big:AFTER {\n",
    "\t\tcontent:\"\";\n",
    "\t\tposition:absolute;\n",
    "\t\twidth:100px;\n",
    "\t\theight:200px;\n",
    "\t\tleft:100px;\n",
    "\t\tborder-radius:0 100px 100px 0;\n",
    "\t}\n",
    "/*\n",
    "  add colour to each piece.\n",
    "*/\n",
    "\t.pie2:nth-of-type(1):BEFORE,\n",
    "\t.pie2:nth-of-type(1):AFTER {\n",
    "\t\tbackground-color:blue;\t\n",
    "\t}\n",
    "\t.pie2:nth-of-type(2):AFTER,\n",
    "\t.pie2:nth-of-type(2):BEFORE {\n",
    "\t\tbackground-color:green;\t\n",
    "\t}\n",
    "\t.pie2:nth-of-type(3):AFTER,\n",
    "\t.pie2:nth-of-type(3):BEFORE {\n",
    "\t\tbackground-color:red;\t\n",
    "\t}\n",
    "\t.pie2:nth-of-type(4):AFTER,\n",
    "\t.pie2:nth-of-type(4):BEFORE {\n",
    "\t\tbackground-color:orange;\t\n",
    "\t}\n",
    "/*\n",
    "  now rotate each piece based on their cumulative starting\n",
    "  position\n",
    "*/\n",
    "\t.pie2[data-start=\"30\"] {\n",
    "\t\t-moz-transform: rotate(30deg); /* Firefox */\n",
    "\t\t-ms-transform: rotate(30deg); /* IE */\n",
    "\t\t-webkit-transform: rotate(30deg); /* Safari and Chrome */\n",
    "\t\t-o-transform: rotate(30deg); /* Opera */\n",
    "\t\ttransform:rotate(30deg);\n",
    "\t}\n",
    "\t.pie2[data-start=\"60\"] {\n",
    "\t\t-moz-transform: rotate(60deg); /* Firefox */\n",
    "\t\t-ms-transform: rotate(60deg); /* IE */\n",
    "\t\t-webkit-transform: rotate(60deg); /* Safari and Chrome */\n",
    "\t\t-o-transform: rotate(60deg); /* Opera */\n",
    "\t\ttransform:rotate(60deg);\n",
    "\t}\n",
    "\t.pie2[data-start=\"100\"] {\n",
    "\t\t-moz-transform: rotate(100deg); /* Firefox */\n",
    "\t\t-ms-transform: rotate(100deg); /* IE */\n",
    "\t\t-webkit-transform: rotate(100deg); /* Safari and Chrome */\n",
    "\t\t-o-transform: rotate(100deg); /* Opera */\n",
    "\t\ttransform:rotate(100deg);\n",
    "\t}\n",
    "/*\n",
    "  and rotate the amount of the pie that's showing.\n",
    "\n",
    "  NOTE: add an extra degree to all but the final piece, \n",
    "  to fill in unsightly gaps.\n",
    "*/\n",
    "\t.pie2[data-value=\"30\"]:BEFORE {\n",
    "\t\t-moz-transform: rotate(31deg); /* Firefox */\n",
    "\t\t-ms-transform: rotate(31deg); /* IE */\n",
    "\t\t-webkit-transform: rotate(31deg); /* Safari and Chrome */\n",
    "\t\t-o-transform: rotate(31deg); /* Opera */\n",
    "\t\ttransform:rotate(31deg);\n",
    "\t}\n",
    "\t.pie2[data-value=\"40\"]:BEFORE {\n",
    "\t\t-moz-transform: rotate(41deg); /* Firefox */\n",
    "\t\t-ms-transform: rotate(41deg); /* IE */\n",
    "\t\t-webkit-transform: rotate(41deg); /* Safari and Chrome */\n",
    "\t\t-o-transform: rotate(41deg); /* Opera */\n",
    "\t\ttransform:rotate(41deg);\n",
    "\t}\n",
    "\t.pie2[data-value=\"260\"]:BEFORE {\n",
    "\t\t-moz-transform: rotate(260deg); /* Firefox */\n",
    "\t\t-ms-transform: rotate(260deg); /* IE */\n",
    "\t\t-webkit-transform: rotate(260deg); /* Safari and Chrome */\n",
    "\t\t-o-transform: rotate(260deg); /* Opera */\n",
    "\t\ttransform:rotate(260deg);\n",
    "\t}\n",
    "\n",
    "</style> "
   ]
  },
  {
   "cell_type": "markdown",
   "metadata": {
    "collapsed": true
   },
   "source": [
    "### TODO:\n",
    "- Create status at top of page (without Javascript - so visible in email?)\n",
    "- df processing to show trends (as html table, as pie chart)\n",
    "- use of openstack clientmanager for equivalent to \"openstack service list\" status"
   ]
  },
  {
   "cell_type": "code",
   "execution_count": null,
   "metadata": {
    "collapsed": true
   },
   "outputs": [],
   "source": [
    "# TODO: \n",
    "# equivalent of openstack service list\n",
    "\n",
    "# See: how service list is implemented:\n",
    "#    https://github.com/openstack/python-openstackclient/blob/master/openstackclient/compute/v2/service.py\n",
    "# (compute_client = client_manager.compute)\n",
    "#\n",
    "# See also: how to create/use a clientmanager:\n",
    "#    https://github.com/openstack/python-openstackclient/blob/master/examples/osc-lib.py\n",
    "\n",
    "#from openstackclient.common import clientmanager\n",
    "#from openstackclient.common import utils"
   ]
  },
  {
   "cell_type": "code",
   "execution_count": null,
   "metadata": {
    "collapsed": false
   },
   "outputs": [],
   "source": [
    "from IPython.display import display\n",
    "from IPython.display import HTML\n",
    "import IPython.core.display as di\n",
    "\n",
    "# This line will hide code by default when the notebook is exported as HTML\n",
    "di.display_html('<script>jQuery(function() {if (jQuery(\"body.notebook_app\").length == 0) { jQuery(\".input_area\").toggle(); jQuery(\".prompt\").toggle();}});</script>', raw=True)\n",
    "\n",
    "# This line will add a button to toggle visibility of code blocks, for use with the HTML export version\n",
    "di.display_html('''<button onclick=\"jQuery('.input_area').toggle(); jQuery('.prompt').toggle();\">Toggle code</button>''', raw=True)"
   ]
  }
 ],
 "metadata": {
  "kernelspec": {
   "display_name": "Python 3",
   "language": "python",
   "name": "python3"
  },
  "language_info": {
   "codemirror_mode": {
    "name": "ipython",
    "version": 3
   },
   "file_extension": ".py",
   "mimetype": "text/x-python",
   "name": "python",
   "nbconvert_exporter": "python",
   "pygments_lexer": "ipython3",
   "version": "3.5.1"
  }
 },
 "nbformat": 4,
 "nbformat_minor": 0
}
