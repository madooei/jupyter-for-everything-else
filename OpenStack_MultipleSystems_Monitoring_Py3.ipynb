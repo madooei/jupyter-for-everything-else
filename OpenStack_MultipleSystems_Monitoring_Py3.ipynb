{
 "cells": [
  {
   "cell_type": "code",
   "execution_count": 1,
   "metadata": {
    "collapsed": false
   },
   "outputs": [
    {
     "data": {
      "text/html": [
       "<style>\n",
       ".output_wrapper, .output { height:auto !important; max-height:10000px; } /* your desired max-height here */\n",
       ".output_scroll {     box-shadow:none !important; webkit-box-shadow:none !important; }\n",
       ".noborder, .noborder tr, .noborder th, .noborder td { border-collapse: collapse; border: 0px; border: none!important; }\n",
       "</style>"
      ],
      "text/plain": [
       "<IPython.core.display.HTML object>"
      ]
     },
     "metadata": {},
     "output_type": "display_data"
    }
   ],
   "source": [
    "%%html\n",
    "<style>\n",
    ".output_wrapper, .output { height:auto !important; max-height:10000px; } /* your desired max-height here */\n",
    ".output_scroll {     box-shadow:none !important; webkit-box-shadow:none !important; }\n",
    ".noborder, .noborder tr, .noborder th, .noborder td { border-collapse: collapse; border: 0px; border: none!important; }\n",
    "</style>"
   ]
  },
  {
   "cell_type": "code",
   "execution_count": null,
   "metadata": {
    "collapsed": false
   },
   "outputs": [],
   "source": [
    "import sys, os\n",
    "sys.path.append('./modules')\n",
    "from Monitoring_Tools import *\n",
    "from OpenStack_Tools  import *"
   ]
  },
  {
   "cell_type": "code",
   "execution_count": null,
   "metadata": {
    "collapsed": false
   },
   "outputs": [
    {
     "name": "stdout",
     "output_type": "stream",
     "text": [
      "Checking platform <demo8>\n",
      "2 flavors, 8 images, 0 servers\n",
      "ping(demo8co0[10.3.162.143:22]) ... ping(demo8co1[10.3.162.141:22]) ... ping(demo8co10[10.3.162.146:22]) ... ping(demo8co11[10.3.162.140:22]) ... ping(demo8co12[10.3.162.139:22]) ... ping(demo8co13[10.3.162.134:22]) ... ping(demo8co14[10.3.162.144:22]) ... ping(demo8co15[10.3.162.145:22]) ... ping(demo8co2[10.3.162.178:22]) ... ping(demo8co3[10.3.162.142:22]) ... ping(demo8co4[10.3.162.149:22]) ... ping(demo8co5[10.3.162.137:22]) ... ping(demo8co6[10.3.162.138:22]) ... ping(demo8co7[10.3.162.153:22]) ... ping(demo8co8[10.3.162.154:22]) ... ping(demo8co9[10.3.162.136:22]) ... ping(hlmvm[10.3.162.30:22]) ... ping(kvm[10.3.162.10:22]) ... ping(wrcl0[10.3.162.131:22]) ... ping(wrcl1[10.3.162.132:22]) ... Checking platform <poc1>\n",
      "ping(wrcllr0[10.3.30.21]) ... ping(wrcllr1[10.3.30.22]) ... 8 flavors, 25 images, 10 servers\n",
      "ping(hlm1[10.3.28.46:22]) ... ping(hlm1vm[10.3.29.10:22]) ... ping(wrcllr0[10.3.30.21:22]) ... ping(wrcllr1[10.3.30.22:22]) ... Checking platform <poc2>\n",
      "ping(hlm1[10.3.216.10]) ... ping(hlm1vm[10.3.219.30]) ... ping(hos1[10.3.219.31]) ... ping(hos2[10.3.219.32]) ... ping(hos3[10.3.219.33]) ... ping(hos_vip[10.3.216.30]) ... ping(wrcl1[10.3.219.131]) ... ping(wrcl2[10.3.219.132]) ... ping(wrcl_vip[10.3.219.130]) ... ping(wrco0[10.3.219.177]) ... ping(wrco1[10.3.219.178]) ... ping(wrco2[10.3.219.179]) ... ping(wrco3[10.3.219.134]) ... ping(wrco4[10.3.219.135]) ... ping(wrco5[10.3.219.135]) ... ping(wrco6[10.3.219.137]) ... ping(wrco7[10.3.219.138]) ... 2 flavors, 10 images, 0 servers\n",
      "ping(hlm1[10.3.216.10:22]) ... ping(hlm1vm[10.3.219.30:22]) ... ping(hos1[10.3.219.31:22]) ... ping(hos2[10.3.219.32:22]) ... ping(hos3[10.3.219.33:22]) ... ping(hos_vip[10.3.216.30:22]) ... ping(wrcl1[10.3.219.131:22]) ... ping(wrcl2[10.3.219.132:22]) ... ping(wrcl_vip[10.3.219.130:22]) ... ping(wrco0[10.3.219.177:22]) ... ping(wrco1[10.3.219.178:22]) ... ping(wrco2[10.3.219.179:22]) ... ping(wrco3[10.3.219.134:22]) ... ping(wrco4[10.3.219.135:22]) ... ping(wrco5[10.3.219.135:22]) ... ping(wrco6[10.3.219.137:22]) ... ping(wrco7[10.3.219.138:22]) ... "
     ]
    }
   ],
   "source": [
    "platforms = ['demo8', 'poc1', 'poc2', 'nfv5']\n",
    "#platforms = ['demo8', 'poc1' ]\n",
    "#platforms = ['demo8']\n",
    "\n",
    "HTML_OPS={}\n",
    "STATUSES={}\n",
    "DISK_USAGE={}\n",
    "\n",
    "thresholds=[70,90]\n",
    "colours=['lightgreen','orange','red']\n",
    "for platform in platforms:\n",
    "    inventory, HTML_OP, PING_STATUS, PING_PORTS_STATUS, ENDPOINTS_STATUS, VMS_STATUS, \\\n",
    "    HIGHEST_DISK_PC, HIGHEST_DISK_PC_HOST, SUMMARY_HIGHEST_DISK_HTML, HIGHEST_DISK_HTML = platformStatus(platform, disk_thresholds=[70,90])\n",
    "    HTML_OPS[platform] = HTML_OP +HIGHEST_DISK_HTML # + '<h2>Disk Usage</h2>' + DF_TABLE_HTML\n",
    "    STATUSES[platform] = [ SUMMARY_HIGHEST_DISK_HTML, HIGHEST_DISK_PC_HOST, PING_STATUS, PING_PORTS_STATUS, ENDPOINTS_STATUS, VMS_STATUS ]"
   ]
  },
  {
   "cell_type": "code",
   "execution_count": null,
   "metadata": {
    "collapsed": false
   },
   "outputs": [],
   "source": [
    "display( HTML( '<h1><a name=\"RESULTS_STATUS\" /> Platforms Status Summary </h1>' ))\n",
    "\n",
    "DISP_STATUSES={}\n",
    "DISP_STATUSES['--Platform']=[ 'Worst case Disk usage', 'Host:Partn', 'Ping', 'Ports', 'Endpoints', 'VMs' ]\n",
    "for platform in platforms:\n",
    "    LINK='<a href=\"#RESULTS_' + platform + '\">' + platform +'</a>'\n",
    "    DISP_STATUSES[LINK]=STATUSES[platform]\n",
    "\n",
    "display( HTML( DictTable._repr_html_(DISP_STATUSES, STATUS_HIGHLIGHTS) ))\n",
    "#print(DISP_STATUSES)\n",
    "\n",
    "display( HTML( '<h1>Platforms results </h1>' ))\n",
    "for platform in platforms:\n",
    "    display( HTML( '<a name=\"RESULTS_{}\">_</a>'.format(platform) ))\n",
    "    HTML_OP = HTML_OPS[platform]\n",
    "    display( HTML( HTML_OP )) "
   ]
  },
  {
   "cell_type": "markdown",
   "metadata": {
    "collapsed": true
   },
   "source": [
    "### TODO:\n",
    "- use of openstack clientmanager for equivalent to \"openstack service list\" status"
   ]
  },
  {
   "cell_type": "code",
   "execution_count": null,
   "metadata": {
    "collapsed": true
   },
   "outputs": [],
   "source": [
    "# TODO: \n",
    "# equivalent of openstack service list\n",
    "\n",
    "# See: how service list is implemented:\n",
    "#    https://github.com/openstack/python-openstackclient/blob/master/openstackclient/compute/v2/service.py\n",
    "# (compute_client = client_manager.compute)\n",
    "#\n",
    "# See also: how to create/use a clientmanager:\n",
    "#    https://github.com/openstack/python-openstackclient/blob/master/examples/osc-lib.py\n",
    "\n",
    "#from openstackclient.common import clientmanager\n",
    "#from openstackclient.common import utils"
   ]
  }
 ],
 "metadata": {
  "kernelspec": {
   "display_name": "Python 3",
   "language": "python",
   "name": "python3"
  },
  "language_info": {
   "codemirror_mode": {
    "name": "ipython",
    "version": 3
   },
   "file_extension": ".py",
   "mimetype": "text/x-python",
   "name": "python",
   "nbconvert_exporter": "python",
   "pygments_lexer": "ipython3",
   "version": "3.5.1"
  }
 },
 "nbformat": 4,
 "nbformat_minor": 0
}
