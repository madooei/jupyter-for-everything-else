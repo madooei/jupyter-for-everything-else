{
 "cells": [
  {
   "cell_type": "code",
   "execution_count": 1,
   "metadata": {
    "collapsed": false
   },
   "outputs": [],
   "source": [
    "import sys, os\n",
    "sys.path.append('./modules')\n",
    "from Monitoring_Tools import *\n",
    "from OpenStack_Tools  import *"
   ]
  },
  {
   "cell_type": "code",
   "execution_count": 2,
   "metadata": {
    "collapsed": false
   },
   "outputs": [
    {
     "data": {
      "text/html": [
       "<h4>The latest version of this status is available at <a href=\"http://10.3.216.210:8888/tree/notebooks/cron/OpenStack_Monitoring_demo8.html\">http://10.3.216.210:8888/tree/notebooks/cron/OpenStack_Monitoring_demo8.html</a></h4>"
      ],
      "text/plain": [
       "<IPython.core.display.HTML object>"
      ]
     },
     "metadata": {},
     "output_type": "display_data"
    },
    {
     "name": "stdout",
     "output_type": "stream",
     "text": [
      "Reading $HOME/env/demo8_hosts.ini\n",
      "Connecting to cloud: demo8\n",
      "Pinging ...\n",
      "Get server/flavor/image list ...\n",
      "2 flavors\n",
      "7 images\n",
      "2 servers\n",
      "Pinging ports ...\n",
      "ping(demo8co0[10.3.162.143:22]) ... ping(demo8co1[10.3.162.141:22]) ... ping(demo8co10[10.3.162.146:22]) ... ping(demo8co11[10.3.162.140:22]) ... ping(demo8co12[10.3.162.139:22]) ... ping(demo8co13[10.3.162.134:22]) ... ping(demo8co14[10.3.162.144:22]) ... ping(demo8co15[10.3.162.145:22]) ... ping(demo8co2[10.3.162.178:22]) ... ping(demo8co3[10.3.162.142:22]) ... ping(demo8co4[10.3.162.149:22]) ... ping(demo8co5[10.3.162.137:22]) ... ping(demo8co6[10.3.162.138:22]) ... ping(demo8co7[10.3.162.153:22]) ... ping(demo8co8[10.3.162.154:22]) ... ping(demo8co9[10.3.162.136:22]) ... ping(hlmvm[10.3.162.30:22]) ... ping(kvm[10.3.162.10:22]) ... ping(wrcl0[10.3.162.131:22]) ... ping(wrcl1[10.3.162.132:22]) ... Pinging endpoints ...\n"
     ]
    },
    {
     "data": {
      "text/html": [
       "<h4>The latest version of this status is available at <a href=\"http://10.3.216.210:8888/tree/notebooks/cron/OpenStack_Monitoring_poc1.html\">http://10.3.216.210:8888/tree/notebooks/cron/OpenStack_Monitoring_poc1.html</a></h4>"
      ],
      "text/plain": [
       "<IPython.core.display.HTML object>"
      ]
     },
     "metadata": {},
     "output_type": "display_data"
    },
    {
     "name": "stdout",
     "output_type": "stream",
     "text": [
      "Reading $HOME/env/poc1_hosts.ini\n",
      "Connecting to cloud: poc1\n",
      "Pinging ...\n",
      "ping(wrcllr0[10.3.30.21]) ... ping(wrcllr1[10.3.30.22]) ... Get server/flavor/image list ...\n",
      "8 flavors\n",
      "25 images\n",
      "10 servers\n",
      "Pinging ports ...\n",
      "ping(hlm1[10.3.28.46:22]) ... ping(hlm1vm[10.3.29.10:22]) ... ping(wrcllr0[10.3.30.21:22]) ... ping(wrcllr1[10.3.30.22:22]) ... Pinging endpoints ...\n"
     ]
    }
   ],
   "source": [
    "def platformStatus(platform):\n",
    "    HTML_OP=''\n",
    "    \n",
    "    show_notebook_url(platform, host_ip=\"10.3.216.210\", port=8888)\n",
    "    HTML_OP += '<b>' + html_platform_info(platform)+ '</b>'\n",
    "    \n",
    "    ini_file=\"$HOME/env/{}_hosts.ini\".format(platform)\n",
    "    print(\"Reading \" + ini_file)\n",
    "\n",
    "    inventory = read_inventory(ini_file)\n",
    "    \n",
    "    print(\"Connecting to cloud: \" + platform)\n",
    "    conn = connectToCloud(platform)\n",
    "    \n",
    "    print(\"Pinging ...\")\n",
    "    HTML, PING_STATUS = html_ping_all(inventory)\n",
    "    HTML_OP += HTML\n",
    "    \n",
    "    print(\"Get server/flavor/image list ...\")\n",
    "    HTML, VMS_STATUS = getServerList( conn )\n",
    "    HTML_OP += HTML\n",
    "    \n",
    "    print(\"Pinging ports ...\")\n",
    "    HTML, PING_PORTS_STATUS = html_ping_ports_all(inventory)\n",
    "    HTML_OP += HTML\n",
    "    \n",
    "    print(\"Pinging endpoints ...\")\n",
    "    HTML, ENDPOINTS_STATUS = html_endpoint_urls(conn)\n",
    "    HTML_OP += HTML\n",
    "    \n",
    "    #archive_df(inventory)\n",
    "    return HTML_OP, PING_STATUS, VMS_STATUS, PING_PORTS_STATUS, ENDPOINTS_STATUS\n",
    "\n",
    "platforms = ['demo8', 'poc1', 'poc2', 'nfv5']\n",
    "#platforms = ['demo8', 'poc1' ]\n",
    "\n",
    "HTML_OPS={}\n",
    "STATUSES={}\n",
    "for platform in platforms:\n",
    "    HTML_OP, PING_STATUS, VMS_STATUS, PING_PORTS_STATUS, ENDPOINTS_STATUS = platformStatus(platform)\n",
    "    HTML_OPS[platform] = HTML_OP\n",
    "    STATUSES[platform] = [ PING_STATUS, VMS_STATUS, PING_PORTS_STATUS, ENDPOINTS_STATUS ]"
   ]
  },
  {
   "cell_type": "code",
   "execution_count": 10,
   "metadata": {
    "collapsed": false
   },
   "outputs": [
    {
     "data": {
      "text/html": [
       "<h1>Platforms Status Summary </h1>"
      ],
      "text/plain": [
       "<IPython.core.display.HTML object>"
      ]
     },
     "metadata": {},
     "output_type": "display_data"
    },
    {
     "data": {
      "text/html": [
       "<table style=\"border: 1px solid black; border-style: collapse;\" border=\"1\" width=100%><tr><td><a href=\"#RESULTS_demo8\">demo8</a></td><td><div style=\"background-color: green; color: white\"><b>OK</b></div></td><td><div style=\"background-color: green; color: white\"><b>OK</b></div></td><td><div style=\"background-color: green; color: white\"><b>OK</b></div></td><td><div style=\"background-color: green; color: white\"><b>OK</b></div></td></tr><tr><td><a href=\"#RESULTS_poc1\">poc1</a></td><td><div style=\"background-color: green; color: white\"><b>OK</b></div></td><td><div style=\"background-color: green; color: white\"><b>OK</b></div></td><td><div style=\"background-color: green; color: white\"><b>OK</b></div></td><td><div style=\"background-color: green; color: white\"><b>OK</b></div></td></tr></table>"
      ],
      "text/plain": [
       "<IPython.core.display.HTML object>"
      ]
     },
     "metadata": {},
     "output_type": "display_data"
    },
    {
     "data": {
      "text/html": [
       "<h1>Platforms results </h1>"
      ],
      "text/plain": [
       "<IPython.core.display.HTML object>"
      ]
     },
     "metadata": {},
     "output_type": "display_data"
    },
    {
     "data": {
      "text/html": [
       "<a name=\"RESULTS_demo8\"></a>"
      ],
      "text/plain": [
       "<IPython.core.display.HTML object>"
      ]
     },
     "metadata": {},
     "output_type": "display_data"
    },
    {
     "data": {
      "text/html": [
       "<b><h1>Platform: demo8</h1><h4>Run at: 2016-07-12 18:13:12</h4></b><b>No ping_check entries in inventory</b><table style=\"border: 1px solid black; border-style: collapse;\" border=\"1\" width=100%><tr><td><center><b>name</b></center></td><td><center><b>status</b></center></td><td><center><b>flavor</b></center></td><td><center><b>image</b></center></td><td><center><b>addresses</b></center></td></tr><tr><td>mikeu1</td><td><div style=\"background-color: green; color: white\"><b>active</b></div></td><td><u>f_aci_4_cpu_16_ram_40_disk</u><br/>[0c7e31d4-ecd6-4305-9cfa-e1ec07112a40]</td><td><u>ubuntu-14.04</u><br/>[a66535b1-dffa-48e5-bb6b-68003290d04f]</td><td><u>ExternalNet</u><br/>10.3.161.81<br/></td></tr><tr><td>karimtestfromvolume</td><td><div style=\"background-color: green; color: white\"><b>active</b></div></td><td><u>f.mini</u><br/>[56d1ced8-022b-4685-8d45-f8bae36e2e0a]</td><td><u>None</u><br/>[None]</td><td><u>ExternalNet</u><br/>10.3.161.19<br/></td></tr></table><table style=\"border: 1px solid black; border-style: collapse;\" border=\"1\" width=100%><tr><td>demo8co0[10.3.162.143:22]</td><td><div style=\"background-color: green; color: white\"><b>OK</b></div></td></tr><tr><td>demo8co10[10.3.162.146:22]</td><td><div style=\"background-color: green; color: white\"><b>OK</b></div></td></tr><tr><td>demo8co11[10.3.162.140:22]</td><td><div style=\"background-color: green; color: white\"><b>OK</b></div></td></tr><tr><td>demo8co12[10.3.162.139:22]</td><td><div style=\"background-color: green; color: white\"><b>OK</b></div></td></tr><tr><td>demo8co13[10.3.162.134:22]</td><td><div style=\"background-color: green; color: white\"><b>OK</b></div></td></tr><tr><td>demo8co14[10.3.162.144:22]</td><td><div style=\"background-color: green; color: white\"><b>OK</b></div></td></tr><tr><td>demo8co15[10.3.162.145:22]</td><td><div style=\"background-color: green; color: white\"><b>OK</b></div></td></tr><tr><td>demo8co1[10.3.162.141:22]</td><td><div style=\"background-color: green; color: white\"><b>OK</b></div></td></tr><tr><td>demo8co2[10.3.162.178:22]</td><td><div style=\"background-color: green; color: white\"><b>OK</b></div></td></tr><tr><td>demo8co3[10.3.162.142:22]</td><td><div style=\"background-color: green; color: white\"><b>OK</b></div></td></tr><tr><td>demo8co4[10.3.162.149:22]</td><td><div style=\"background-color: green; color: white\"><b>OK</b></div></td></tr><tr><td>demo8co5[10.3.162.137:22]</td><td><div style=\"background-color: green; color: white\"><b>OK</b></div></td></tr><tr><td>demo8co6[10.3.162.138:22]</td><td><div style=\"background-color: green; color: white\"><b>OK</b></div></td></tr><tr><td>demo8co7[10.3.162.153:22]</td><td><div style=\"background-color: green; color: white\"><b>OK</b></div></td></tr><tr><td>demo8co8[10.3.162.154:22]</td><td><div style=\"background-color: green; color: white\"><b>OK</b></div></td></tr><tr><td>demo8co9[10.3.162.136:22]</td><td><div style=\"background-color: green; color: white\"><b>OK</b></div></td></tr><tr><td>hlmvm[10.3.162.30:22]</td><td><div style=\"background-color: green; color: white\"><b>OK</b></div></td></tr><tr><td>kvm[10.3.162.10:22]</td><td><div style=\"background-color: green; color: white\"><b>OK</b></div></td></tr><tr><td>wrcl0[10.3.162.131:22]</td><td><div style=\"background-color: green; color: white\"><b>OK</b></div></td></tr><tr><td>wrcl1[10.3.162.132:22]</td><td><div style=\"background-color: green; color: white\"><b>OK</b></div></td></tr></table><table style=\"border: 1px solid black; border-style: collapse;\" border=\"1\" width=100%><tr><td>10.3.160.130:8774 [compute]</td><td><div style=\"background-color: green; color: white\"><b>OK</b></div></td></tr><tr><td>10.3.160.130:9696 [network]</td><td><div style=\"background-color: green; color: white\"><b>OK</b></div></td></tr><tr><td>10.3.160.30:5000 [identity]</td><td><div style=\"background-color: green; color: white\"><b>OK</b></div></td></tr><tr><td>10.3.160.30:8776 [volume]</td><td><div style=\"background-color: green; color: white\"><b>OK</b></div></td></tr><tr><td>10.3.160.30:9292 [image]</td><td><div style=\"background-color: green; color: white\"><b>OK</b></div></td></tr></table>"
      ],
      "text/plain": [
       "<IPython.core.display.HTML object>"
      ]
     },
     "metadata": {},
     "output_type": "display_data"
    },
    {
     "data": {
      "text/html": [
       "<a name=\"RESULTS_poc1\"></a>"
      ],
      "text/plain": [
       "<IPython.core.display.HTML object>"
      ]
     },
     "metadata": {},
     "output_type": "display_data"
    },
    {
     "data": {
      "text/html": [
       "<b><h1>Platform: poc1</h1><h4>Run at: 2016-07-12 18:13:16</h4></b><table style=\"border: 1px solid black; border-style: collapse;\" border=\"1\" width=100%><tr><td>wrcllr0[10.3.30.21]</td><td><div style=\"background-color: green; color: white\"><b>OK: 0.471 msec</b></div></td></tr><tr><td>wrcllr1[10.3.30.22]</td><td><div style=\"background-color: green; color: white\"><b>OK: 0.417 msec</b></div></td></tr></table><table style=\"border: 1px solid black; border-style: collapse;\" border=\"1\" width=100%><tr><td><center><b>name</b></center></td><td><center><b>status</b></center></td><td><center><b>flavor</b></center></td><td><center><b>image</b></center></td><td><center><b>addresses</b></center></td></tr><tr><td>Ixia_Load_Win2</td><td><div style=\"background-color: green; color: white\"><b>active</b></div></td><td><u>Ixia_Chassis</u><br/>[1e3a0fa1-fc0f-488b-9ffc-56dc694277d9]</td><td><u>Win7</u><br/>[07e534fa-bcf5-47b4-8e0c-5c7463e517f3]</td><td><u>Net-External</u><br/>10.3.48.10<br/><u>net2440</u><br/>10.24.40.162<br/></td></tr><tr><td>Ixia_Chassis</td><td><div style=\"background-color: green; color: white\"><b>active</b></div></td><td><u>Ixia_Chassis</u><br/>[1e3a0fa1-fc0f-488b-9ffc-56dc694277d9]</td><td><u>Ixia_Chassis</u><br/>[6e938fa5-d577-4ad0-a94d-4bf189f7f941]</td><td><u>Net-External</u><br/>10.3.48.8<br/><u>net2440</u><br/>10.24.40.160<br/></td></tr><tr><td>Ixia_Load2</td><td><div style=\"background-color: green; color: white\"><b>active</b></div></td><td><u>mse.small</u><br/>[bbe180d9-62aa-4215-90ec-cfb3aa46717d]</td><td><u>Ixia_Load</u><br/>[d5625b5c-0be3-4e17-ba5a-e329002e9377]</td><td><u>Net-External</u><br/>10.3.48.249<br/><u>net2440</u><br/>10.24.40.156<br/></td></tr><tr><td>Ixia_Load1</td><td><div style=\"background-color: green; color: white\"><b>active</b></div></td><td><u>mse.small</u><br/>[bbe180d9-62aa-4215-90ec-cfb3aa46717d]</td><td><u>Ixia_Load</u><br/>[d5625b5c-0be3-4e17-ba5a-e329002e9377]</td><td><u>Net-External</u><br/>10.3.48.247<br/><u>net2440</u><br/>10.24.40.154<br/></td></tr><tr><td>SPROUT-2</td><td><div style=\"background-color: green; color: white\"><b>active</b></div></td><td><u>tim</u><br/>[c04a0294-a05a-4721-93cd-caef9d42499f]</td><td><u>CW-SPROUT</u><br/>[c24ce399-eebb-4085-9143-acf8c6022846]</td><td><u>Net-External</u><br/>10.3.48.238<br/></td></tr><tr><td>HOMER-1</td><td><div style=\"background-color: green; color: white\"><b>active</b></div></td><td><u>tim</u><br/>[c04a0294-a05a-4721-93cd-caef9d42499f]</td><td><u>CW-HOMER</u><br/>[f1295c35-b979-45cb-943e-8876cc7781a3]</td><td><u>Net-External</u><br/>10.3.48.235<br/></td></tr><tr><td>ELLIS-1</td><td><div style=\"background-color: green; color: white\"><b>active</b></div></td><td><u>tim</u><br/>[c04a0294-a05a-4721-93cd-caef9d42499f]</td><td><u>CW-ELLIS</u><br/>[7f51432a-6f57-4ade-bc4c-949ec4f5e3cb]</td><td><u>Net-External</u><br/>10.3.48.237<br/></td></tr><tr><td>BONO-1</td><td><div style=\"background-color: green; color: white\"><b>active</b></div></td><td><u>tim</u><br/>[c04a0294-a05a-4721-93cd-caef9d42499f]</td><td><u>CW-BONO</u><br/>[7867b1d9-2dd0-4db1-8776-c1000066bbc7]</td><td><u>Net-External</u><br/>10.3.48.236<br/></td></tr><tr><td>RALF-1</td><td><div style=\"background-color: green; color: white\"><b>active</b></div></td><td><u>tim</u><br/>[c04a0294-a05a-4721-93cd-caef9d42499f]</td><td><u>CW-RALF</u><br/>[b60d77dd-9f27-42a5-8e43-beef40a3f78e]</td><td><u>Net-External</u><br/>10.3.48.234<br/></td></tr><tr><td>HOMESTEAD-1</td><td><div style=\"background-color: green; color: white\"><b>active</b></div></td><td><u>tim</u><br/>[c04a0294-a05a-4721-93cd-caef9d42499f]</td><td><u>CW-HOMESTEAD</u><br/>[d48c6523-f377-47e2-85b7-3fc40f92b0b2]</td><td><u>Net-External</u><br/>10.3.48.232<br/></td></tr></table><table style=\"border: 1px solid black; border-style: collapse;\" border=\"1\" width=100%><tr><td>hlm1[10.3.28.46:22]</td><td><div style=\"background-color: green; color: white\"><b>OK</b></div></td></tr><tr><td>hlm1vm[10.3.29.10:22]</td><td><div style=\"background-color: green; color: white\"><b>OK</b></div></td></tr><tr><td>wrcllr0[10.3.30.21:22]</td><td><div style=\"background-color: green; color: white\"><b>OK</b></div></td></tr><tr><td>wrcllr1[10.3.30.22:22]</td><td><div style=\"background-color: green; color: white\"><b>OK</b></div></td></tr></table><table style=\"border: 1px solid black; border-style: collapse;\" border=\"1\" width=100%><tr><td>10.3.30.10:5000 [identity]</td><td><div style=\"background-color: green; color: white\"><b>OK</b></div></td></tr><tr><td>10.3.30.10:8776 [volume]</td><td><div style=\"background-color: green; color: white\"><b>OK</b></div></td></tr><tr><td>10.3.30.10:9292 [image]</td><td><div style=\"background-color: green; color: white\"><b>OK</b></div></td></tr><tr><td>10.3.30.20:8774 [compute]</td><td><div style=\"background-color: green; color: white\"><b>OK</b></div></td></tr><tr><td>10.3.30.20:9696 [network]</td><td><div style=\"background-color: green; color: white\"><b>OK</b></div></td></tr></table>"
      ],
      "text/plain": [
       "<IPython.core.display.HTML object>"
      ]
     },
     "metadata": {},
     "output_type": "display_data"
    }
   ],
   "source": [
    "#print(STATUSES)\n",
    "display( HTML( '<h1>Platforms Status Summary </h1>' ))\n",
    "DISP_STATUSES={}\n",
    "for platform in platforms:\n",
    "    LINK='<a href=\"#RESULTS_' + platform + '\">' + platform +'</a>'\n",
    "    #print(platform + \" \" + LINK)\n",
    "    DISP_STATUSES[LINK]=STATUSES[platform]\n",
    "#print(DISP_STATUSES)  \n",
    "\n",
    "\n",
    "error_highlight='<div style=\"background-color: red; color: white\"><b>{}</b></div>'\n",
    "warn_highlight='<div style=\"background-color: orange; color: white\"><b>{}</b></div>'\n",
    "ok_highlight='<div style=\"background-color: green; color: white\"><b>{}</b></div>'\n",
    "\n",
    "highlights={\n",
    "    'OK':      ok_highlight,\n",
    "    'WARN':  warn_highlight,\n",
    "    'ERROR': error_highlight,\n",
    "}\n",
    "\n",
    "display( HTML( DictTable._repr_html_(DISP_STATUSES, highlights) ))\n",
    "\n",
    "display( HTML( '<h1>Platforms results </h1>' ))\n",
    "for platform in platforms:\n",
    "    display( HTML( '<a name=\"RESULTS_{}\"></a>'.format(platform) ))\n",
    "    #display( HTML( '<h1><a name=\"{}\">Platform {} results</a></h1>'.format(platform, platform) ))\n",
    "    HTML_OP = HTML_OPS[platform]\n",
    "    display( HTML( HTML_OP )) "
   ]
  },
  {
   "cell_type": "code",
   "execution_count": 4,
   "metadata": {
    "collapsed": true
   },
   "outputs": [],
   "source": [
    "def archive_df(inventory):\n",
    "    ! [ ! -d history ] && mkdir history\n",
    "\n",
    "    import datetime\n",
    "    import time\n",
    "\n",
    "    #d = datetime.date.today().strftime(\"%B %d, %Y\")\n",
    "    #dt = datetime.datetime.now().strftime(\"%I:%M%p on %B %d, %Y\")\n",
    "    d = datetime.date.today().strftime(\"%Y-%m-%d\")\n",
    "    dt = datetime.datetime.now().strftime(\"%Y-%m-%d_%H:%M\")\n",
    "    print(d)\n",
    "    print(dt)\n",
    "\n",
    "    for host in sorted(inventory['df_check']):    \n",
    "        ip = inventory['hosts'][host]['ansible_host']\n",
    "        user = inventory['hosts'][host]['ansible_user']\n",
    "        pkey = inventory['hosts'][host]['ssh_key']\n",
    "        df_check = inventory['hosts'][host]['df_check']\n",
    "\n",
    "        # write to history subdir (~/notebooks/cron for cron jobs)\n",
    "        history_file='history/df_history_' + platform + '_' + host + '.txt'\n",
    "        history_fd = open(history_file, 'a')\n",
    "\n",
    "        full_df_cmd=\"hostname; df 2>&1\"\n",
    "        df_op, stderr = ssh_command(host, ip, user, pkey, full_df_cmd)    \n",
    "        history_fd.write('DATE:' + dt + '\\n' + df_op)\n",
    "        history_fd.close()\n",
    "\n",
    "        df_cmd=\"df \" + df_check.replace(\",\", \" \") + \"| grep -v ^Filesystem\"\n",
    "        df_op, stderr = ssh_command(host, ip, user, pkey, df_cmd)    \n",
    "        #df_op = stdout.decode('utf8')\n",
    "        #print(\"HOST[\" + host + \"]<\" + df_check + \">{\" + df_cmd +\"}:\" + df_op)\n",
    "\n",
    "        df_lines=df_op.split(\"\\n\")\n",
    "        for df_line in df_lines:\n",
    "            #print(\"LINE: \" + df_line)\n",
    "            pc_pos = df_line.find(\"%\")\n",
    "            if pc_pos != -1:\n",
    "                pc=int(df_line[pc_pos-3:pc_pos])\n",
    "                partn=df_line[pc_pos+1:]\n",
    "                print(host + \" \" + str(pc) + \"% \" + partn)\n"
   ]
  },
  {
   "cell_type": "code",
   "execution_count": 5,
   "metadata": {
    "collapsed": false
   },
   "outputs": [],
   "source": [
    "def showUptimes():\n",
    "    for host in sorted(inventory['ssh_check']):    \n",
    "        ip = inventory['hosts'][host]['ansible_host']\n",
    "        user = inventory['hosts'][host]['ansible_user']\n",
    "        pkey = inventory['hosts'][host]['ssh_key']\n",
    "\n",
    "        stdout, stderr = ssh_command(host, ip, user, pkey, \"uptime\")\n",
    "\n",
    "        #print(\"LINE=\" + stdout)\n",
    "        uptime = strip_uptime(stdout)\n",
    "        print(host + \":\" + uptime)"
   ]
  },
  {
   "cell_type": "markdown",
   "metadata": {
    "collapsed": true
   },
   "source": [
    "### TODO:\n",
    "- Create status at top of page (without Javascript - so visible in email?)\n",
    "- df processing to show trends (as html table, as pie chart)\n",
    "- use of openstack clientmanager for equivalent to \"openstack service list\" status"
   ]
  },
  {
   "cell_type": "code",
   "execution_count": 6,
   "metadata": {
    "collapsed": true
   },
   "outputs": [],
   "source": [
    "# TODO: \n",
    "# equivalent of openstack service list\n",
    "\n",
    "# See: how service list is implemented:\n",
    "#    https://github.com/openstack/python-openstackclient/blob/master/openstackclient/compute/v2/service.py\n",
    "# (compute_client = client_manager.compute)\n",
    "#\n",
    "# See also: how to create/use a clientmanager:\n",
    "#    https://github.com/openstack/python-openstackclient/blob/master/examples/osc-lib.py\n",
    "\n",
    "#from openstackclient.common import clientmanager\n",
    "#from openstackclient.common import utils"
   ]
  }
 ],
 "metadata": {
  "kernelspec": {
   "display_name": "Python 3",
   "language": "python",
   "name": "python3"
  },
  "language_info": {
   "codemirror_mode": {
    "name": "ipython",
    "version": 3
   },
   "file_extension": ".py",
   "mimetype": "text/x-python",
   "name": "python",
   "nbconvert_exporter": "python",
   "pygments_lexer": "ipython3",
   "version": "3.5.1"
  }
 },
 "nbformat": 4,
 "nbformat_minor": 0
}
