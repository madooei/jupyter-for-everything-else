{
 "cells": [
  {
   "cell_type": "code",
   "execution_count": 1,
   "metadata": {
    "collapsed": false
   },
   "outputs": [],
   "source": [
    "import sys, os\n",
    "sys.path.append('./modules')\n",
    "from Monitoring_Tools import *\n",
    "from OpenStack_Tools  import *"
   ]
  },
  {
   "cell_type": "code",
   "execution_count": 2,
   "metadata": {
    "collapsed": false
   },
   "outputs": [
    {
     "data": {
      "text/html": [
       "<h4>The latest version of this status is available at <a href=\"http://10.3.216.210:8888/tree/notebooks/cron/OpenStack_Monitoring_demo8.html\">http://10.3.216.210:8888/tree/notebooks/cron/OpenStack_Monitoring_demo8.html</a></h4>"
      ],
      "text/plain": [
       "<IPython.core.display.HTML object>"
      ]
     },
     "metadata": {},
     "output_type": "display_data"
    },
    {
     "name": "stdout",
     "output_type": "stream",
     "text": [
      "2 flavors\n",
      "7 images\n",
      "2 servers\n",
      "ping(demo8co0[10.3.162.143:22]) ... ping(demo8co1[10.3.162.141:22]) ... ping(demo8co10[10.3.162.146:22]) ... ping(demo8co11[10.3.162.140:22]) ... ping(demo8co12[10.3.162.139:22]) ... ping(demo8co13[10.3.162.134:22]) ... ping(demo8co14[10.3.162.144:22]) ... ping(demo8co15[10.3.162.145:22]) ... ping(demo8co2[10.3.162.178:22]) ... ping(demo8co3[10.3.162.142:22]) ... ping(demo8co4[10.3.162.149:22]) ... ping(demo8co5[10.3.162.137:22]) ... ping(demo8co6[10.3.162.138:22]) ... ping(demo8co7[10.3.162.153:22]) ... ping(demo8co8[10.3.162.154:22]) ... ping(demo8co9[10.3.162.136:22]) ... ping(hlmvm[10.3.162.30:22]) ... ping(kvm[10.3.162.10:22]) ... ping(wrcl0[10.3.162.131:22]) ... ping(wrcl1[10.3.162.132:22]) ... "
     ]
    },
    {
     "data": {
      "text/html": [
       "<h4>The latest version of this status is available at <a href=\"http://10.3.216.210:8888/tree/notebooks/cron/OpenStack_Monitoring_poc1.html\">http://10.3.216.210:8888/tree/notebooks/cron/OpenStack_Monitoring_poc1.html</a></h4>"
      ],
      "text/plain": [
       "<IPython.core.display.HTML object>"
      ]
     },
     "metadata": {},
     "output_type": "display_data"
    },
    {
     "name": "stdout",
     "output_type": "stream",
     "text": [
      "ping(wrcllr0[10.3.30.21]) ... ping(wrcllr1[10.3.30.22]) ... 8 flavors\n",
      "25 images\n",
      "10 servers\n",
      "ping(hlm1[10.3.28.46:22]) ... ping(hlm1vm[10.3.29.10:22]) ... ping(wrcllr0[10.3.30.21:22]) ... ping(wrcllr1[10.3.30.22:22]) ... "
     ]
    },
    {
     "data": {
      "text/html": [
       "<h4>The latest version of this status is available at <a href=\"http://10.3.216.210:8888/tree/notebooks/cron/OpenStack_Monitoring_poc2.html\">http://10.3.216.210:8888/tree/notebooks/cron/OpenStack_Monitoring_poc2.html</a></h4>"
      ],
      "text/plain": [
       "<IPython.core.display.HTML object>"
      ]
     },
     "metadata": {},
     "output_type": "display_data"
    },
    {
     "name": "stdout",
     "output_type": "stream",
     "text": [
      "ping(hlm1[10.3.216.10]) ... ping(hlm1vm[10.3.219.30]) ... ping(hos1[10.3.219.31]) ... ping(hos2[10.3.219.32]) ... ping(hos3[10.3.219.33]) ... ping(hos_vip[10.3.216.30]) ... ping(wrcl1[10.3.219.131]) ... ping(wrcl2[10.3.219.132]) ... ping(wrcl_vip[10.3.219.130]) ... ping(wrco0[10.3.219.177]) ... ping(wrco1[10.3.219.178]) ... ping(wrco2[10.3.219.179]) ... ping(wrco3[10.3.219.134]) ... ping(wrco4[10.3.219.135]) ... ping(wrco5[10.3.219.135]) ... ping(wrco6[10.3.219.137]) ... ping(wrco7[10.3.219.138]) ... 2 flavors\n",
      "11 images\n",
      "0 servers\n",
      "ping(hlm1[10.3.216.10:22]) ... ping(hlm1vm[10.3.219.30:22]) ... ping(hos1[10.3.219.31:22]) ... ping(hos2[10.3.219.32:22]) ... ping(hos3[10.3.219.33:22]) ... ping(hos_vip[10.3.216.30:22]) ... ping(wrcl1[10.3.219.131:22]) ... ping(wrcl2[10.3.219.132:22]) ... ping(wrcl_vip[10.3.219.130:22]) ... ping(wrco0[10.3.219.177:22]) ... ping(wrco1[10.3.219.178:22]) ... ping(wrco2[10.3.219.179:22]) ... ping(wrco3[10.3.219.134:22]) ... ping(wrco4[10.3.219.135:22]) ... ping(wrco5[10.3.219.135:22]) ... ping(wrco6[10.3.219.137:22]) ... ping(wrco7[10.3.219.138:22]) ... "
     ]
    },
    {
     "data": {
      "text/html": [
       "<h4>The latest version of this status is available at <a href=\"http://10.3.216.210:8888/tree/notebooks/cron/OpenStack_Monitoring_nfv5.html\">http://10.3.216.210:8888/tree/notebooks/cron/OpenStack_Monitoring_nfv5.html</a></h4>"
      ],
      "text/plain": [
       "<IPython.core.display.HTML object>"
      ]
     },
     "metadata": {},
     "output_type": "display_data"
    },
    {
     "name": "stdout",
     "output_type": "stream",
     "text": [
      "ping(nfv5co1[10.206.61.215]) ... ping(nfv5co10[10.206.61.154]) ... ping(nfv5co11[10.206.61.162]) ... ping(nfv5co12[10.206.61.171]) ... ping(nfv5co13[10.206.61.225]) ... ping(nfv5co14[10.206.61.155]) ... ping(nfv5co15[10.206.61.246]) ... ping(nfv5co16[10.206.61.193]) ... ping(nfv5co2[10.206.61.161]) ... ping(nfv5co3[10.206.61.170]) ... ping(nfv5co4[10.206.61.172]) ... ping(nfv5co5[10.206.61.209]) ... ping(nfv5co6[10.206.61.243]) ... ping(nfv5co7[10.206.61.230]) ... ping(nfv5co8[10.206.61.156]) ... ping(nfv5co9[10.206.61.157]) ... ping(nfv5hlmva[10.206.61.4]) ... ping(nfv5hlmvm[10.206.61.100]) ... ping(nfv5hos[10.206.61.101]) ... ping(nfv5hos1[10.206.61.102]) ... ping(nfv5hos2[10.206.61.103]) ... ping(nfv5hos3[10.206.61.104]) ... ping(nfv5kvm1[10.206.61.6]) ... ping(nfv5kvm2[10.206.61.7]) ... ping(nfv5seedvm[10.206.61.2]) ... ping(nfv5wrcl[10.206.61.150]) ... ping(nfv5wrcl0[10.206.61.151]) ... ping(nfv5wrcl1[10.206.61.153]) ... 1 flavors\n",
      "7 images\n",
      "2 servers\n",
      "ping(nfv5co1[10.206.61.215:22]) ... ping(nfv5co10[10.206.61.154:22]) ... ping(nfv5co11[10.206.61.162:22]) ... ping(nfv5co12[10.206.61.171:22]) ... ping(nfv5co13[10.206.61.225:22]) ... ping(nfv5co14[10.206.61.155:22]) ... ping(nfv5co15[10.206.61.246:22]) ... ping(nfv5co16[10.206.61.193:22]) ... ping(nfv5co2[10.206.61.161:22]) ... ping(nfv5co3[10.206.61.170:22]) ... ping(nfv5co4[10.206.61.172:22]) ... ping(nfv5co5[10.206.61.209:22]) ... ping(nfv5co6[10.206.61.243:22]) ... ping(nfv5co7[10.206.61.230:22]) ... ping(nfv5co8[10.206.61.156:22]) ... ping(nfv5co9[10.206.61.157:22]) ... ping(nfv5hlmva[10.206.61.4:22]) ... ping(nfv5hlmvm[10.206.61.100:22]) ... ping(nfv5hos[10.206.61.101:22]) ... ping(nfv5hos1[10.206.61.102:22]) ... ping(nfv5hos2[10.206.61.103:22]) ... ping(nfv5hos3[10.206.61.104:22]) ... ping(nfv5kvm1[10.206.61.6:22]) ... ping(nfv5kvm2[10.206.61.7:22]) ... ping(nfv5seedvm[10.206.61.2:22]) ... ping(nfv5wrcl[10.206.61.150:22]) ... ping(nfv5wrcl0[10.206.61.151:22]) ... ping(nfv5wrcl1[10.206.61.153:22]) ... "
     ]
    }
   ],
   "source": [
    "\n",
    "platforms = ['demo8', 'poc1', 'poc2', 'nfv5']\n",
    "#platforms = ['demo8', 'poc1' ]\n",
    "\n",
    "HTML_OPS={}\n",
    "STATUSES={}\n",
    "for platform in platforms:\n",
    "    HTML_OP, PING_STATUS, PING_PORTS_STATUS, ENDPOINTS_STATUS, VMS_STATUS = platformStatus(platform)\n",
    "    HTML_OPS[platform] = HTML_OP\n",
    "    STATUSES[platform] = [ PING_STATUS, PING_PORTS_STATUS, ENDPOINTS_STATUS, VMS_STATUS ]"
   ]
  },
  {
   "cell_type": "code",
   "execution_count": 3,
   "metadata": {
    "collapsed": false
   },
   "outputs": [
    {
     "data": {
      "text/html": [
       "<h1><a name=\"RESULTS_STATUS\" /> Platforms Status Summary </h1>"
      ],
      "text/plain": [
       "<IPython.core.display.HTML object>"
      ]
     },
     "metadata": {},
     "output_type": "display_data"
    },
    {
     "data": {
      "text/html": [
       "<table style=\"border: 1px solid black; border-style: collapse;\" border=\"1\" width=100%><tr><td><b>PLATFORM</b></td><td><b>Ping</b></td><td><b>Port Pings</b></td><td><b>Endpoints</b></td><td><b>VMs status</b></td></tr><tr><td><a href=\"#RESULTS_demo8\">demo8</a></td><td><div style=\"background-color: green; color: white\"><b>OK</b></div></td><td><div style=\"background-color: green; color: white\"><b>OK</b></div></td><td><div style=\"background-color: green; color: white\"><b>OK</b></div></td><td><div style=\"background-color: green; color: white\"><b>OK</b></div></td></tr><tr><td><a href=\"#RESULTS_nfv5\">nfv5</a></td><td><div style=\"background-color: green; color: white\"><b>OK</b></div></td><td><div style=\"background-color: green; color: white\"><b>OK</b></div></td><td><div style=\"background-color: green; color: white\"><b>OK</b></div></td><td><div style=\"background-color: green; color: white\"><b>OK</b></div></td></tr><tr><td><a href=\"#RESULTS_poc1\">poc1</a></td><td><div style=\"background-color: green; color: white\"><b>OK</b></div></td><td><div style=\"background-color: green; color: white\"><b>OK</b></div></td><td><div style=\"background-color: green; color: white\"><b>OK</b></div></td><td><div style=\"background-color: green; color: white\"><b>OK</b></div></td></tr><tr><td><a href=\"#RESULTS_poc2\">poc2</a></td><td><div style=\"background-color: green; color: white\"><b>OK</b></div></td><td><div style=\"background-color: green; color: white\"><b>OK</b></div></td><td><div style=\"background-color: green; color: white\"><b>OK</b></div></td><td><div style=\"background-color: green; color: white\"><b>OK</b></div></td></tr></table>"
      ],
      "text/plain": [
       "<IPython.core.display.HTML object>"
      ]
     },
     "metadata": {},
     "output_type": "display_data"
    },
    {
     "data": {
      "text/html": [
       "<h1>Platforms results </h1>"
      ],
      "text/plain": [
       "<IPython.core.display.HTML object>"
      ]
     },
     "metadata": {},
     "output_type": "display_data"
    },
    {
     "data": {
      "text/html": [
       "<a name=\"RESULTS_demo8\"></a>"
      ],
      "text/plain": [
       "<IPython.core.display.HTML object>"
      ]
     },
     "metadata": {},
     "output_type": "display_data"
    },
    {
     "data": {
      "text/html": [
       "<b><h2>Platform: demo8</h2><h4>Run at: 2016-07-12 20:11:09</h4><a href=\"#RESULTS_STATUS\"> Return to Top (RESULTS_STATUS) </a></b><b>No ping_check entries in inventory</b><table style=\"border: 1px solid black; border-style: collapse;\" border=\"1\" width=100%><tr><td><center><b>name</b></center></td><td><center><b>status</b></center></td><td><center><b>flavor</b></center></td><td><center><b>image</b></center></td><td><center><b>addresses</b></center></td></tr><tr><td>mikeu1</td><td><div style=\"background-color: green; color: white\"><b>active</b></div></td><td><u>f_aci_4_cpu_16_ram_40_disk</u><br/>[0c7e31d4-ecd6-4305-9cfa-e1ec07112a40]</td><td><u>ubuntu-14.04</u><br/>[a66535b1-dffa-48e5-bb6b-68003290d04f]</td><td><u>ExternalNet</u><br/>10.3.161.81<br/></td></tr><tr><td>karimtestfromvolume</td><td><div style=\"background-color: green; color: white\"><b>active</b></div></td><td><u>f.mini</u><br/>[56d1ced8-022b-4685-8d45-f8bae36e2e0a]</td><td><u>None</u><br/>[None]</td><td><u>ExternalNet</u><br/>10.3.161.19<br/></td></tr></table><table style=\"border: 1px solid black; border-style: collapse;\" border=\"1\" width=100%><tr><td>demo8co0[10.3.162.143:22]</td><td><div style=\"background-color: green; color: white\"><b>OK</b></div></td></tr><tr><td>demo8co10[10.3.162.146:22]</td><td><div style=\"background-color: green; color: white\"><b>OK</b></div></td></tr><tr><td>demo8co11[10.3.162.140:22]</td><td><div style=\"background-color: green; color: white\"><b>OK</b></div></td></tr><tr><td>demo8co12[10.3.162.139:22]</td><td><div style=\"background-color: green; color: white\"><b>OK</b></div></td></tr><tr><td>demo8co13[10.3.162.134:22]</td><td><div style=\"background-color: green; color: white\"><b>OK</b></div></td></tr><tr><td>demo8co14[10.3.162.144:22]</td><td><div style=\"background-color: green; color: white\"><b>OK</b></div></td></tr><tr><td>demo8co15[10.3.162.145:22]</td><td><div style=\"background-color: green; color: white\"><b>OK</b></div></td></tr><tr><td>demo8co1[10.3.162.141:22]</td><td><div style=\"background-color: green; color: white\"><b>OK</b></div></td></tr><tr><td>demo8co2[10.3.162.178:22]</td><td><div style=\"background-color: green; color: white\"><b>OK</b></div></td></tr><tr><td>demo8co3[10.3.162.142:22]</td><td><div style=\"background-color: green; color: white\"><b>OK</b></div></td></tr><tr><td>demo8co4[10.3.162.149:22]</td><td><div style=\"background-color: green; color: white\"><b>OK</b></div></td></tr><tr><td>demo8co5[10.3.162.137:22]</td><td><div style=\"background-color: green; color: white\"><b>OK</b></div></td></tr><tr><td>demo8co6[10.3.162.138:22]</td><td><div style=\"background-color: green; color: white\"><b>OK</b></div></td></tr><tr><td>demo8co7[10.3.162.153:22]</td><td><div style=\"background-color: green; color: white\"><b>OK</b></div></td></tr><tr><td>demo8co8[10.3.162.154:22]</td><td><div style=\"background-color: green; color: white\"><b>OK</b></div></td></tr><tr><td>demo8co9[10.3.162.136:22]</td><td><div style=\"background-color: green; color: white\"><b>OK</b></div></td></tr><tr><td>hlmvm[10.3.162.30:22]</td><td><div style=\"background-color: green; color: white\"><b>OK</b></div></td></tr><tr><td>kvm[10.3.162.10:22]</td><td><div style=\"background-color: green; color: white\"><b>OK</b></div></td></tr><tr><td>wrcl0[10.3.162.131:22]</td><td><div style=\"background-color: green; color: white\"><b>OK</b></div></td></tr><tr><td>wrcl1[10.3.162.132:22]</td><td><div style=\"background-color: green; color: white\"><b>OK</b></div></td></tr></table><table style=\"border: 1px solid black; border-style: collapse;\" border=\"1\" width=100%><tr><td>10.3.160.130:8774 [compute]</td><td><div style=\"background-color: green; color: white\"><b>OK</b></div></td></tr><tr><td>10.3.160.130:9696 [network]</td><td><div style=\"background-color: green; color: white\"><b>OK</b></div></td></tr><tr><td>10.3.160.30:5000 [identity]</td><td><div style=\"background-color: green; color: white\"><b>OK</b></div></td></tr><tr><td>10.3.160.30:8776 [volume]</td><td><div style=\"background-color: green; color: white\"><b>OK</b></div></td></tr><tr><td>10.3.160.30:9292 [image]</td><td><div style=\"background-color: green; color: white\"><b>OK</b></div></td></tr></table>"
      ],
      "text/plain": [
       "<IPython.core.display.HTML object>"
      ]
     },
     "metadata": {},
     "output_type": "display_data"
    },
    {
     "data": {
      "text/html": [
       "<a name=\"RESULTS_poc1\"></a>"
      ],
      "text/plain": [
       "<IPython.core.display.HTML object>"
      ]
     },
     "metadata": {},
     "output_type": "display_data"
    },
    {
     "data": {
      "text/html": [
       "<b><h2>Platform: poc1</h2><h4>Run at: 2016-07-12 20:11:12</h4><a href=\"#RESULTS_STATUS\"> Return to Top (RESULTS_STATUS) </a></b><table style=\"border: 1px solid black; border-style: collapse;\" border=\"1\" width=100%><tr><td>wrcllr0[10.3.30.21]</td><td><div style=\"background-color: green; color: white\"><b>OK: 0.515 msec</b></div></td></tr><tr><td>wrcllr1[10.3.30.22]</td><td><div style=\"background-color: green; color: white\"><b>OK: 0.508 msec</b></div></td></tr></table><table style=\"border: 1px solid black; border-style: collapse;\" border=\"1\" width=100%><tr><td><center><b>name</b></center></td><td><center><b>status</b></center></td><td><center><b>flavor</b></center></td><td><center><b>image</b></center></td><td><center><b>addresses</b></center></td></tr><tr><td>Ixia_Load_Win2</td><td><div style=\"background-color: green; color: white\"><b>active</b></div></td><td><u>Ixia_Chassis</u><br/>[1e3a0fa1-fc0f-488b-9ffc-56dc694277d9]</td><td><u>Win7</u><br/>[07e534fa-bcf5-47b4-8e0c-5c7463e517f3]</td><td><u>net2440</u><br/>10.24.40.162<br/><u>Net-External</u><br/>10.3.48.10<br/></td></tr><tr><td>Ixia_Chassis</td><td><div style=\"background-color: green; color: white\"><b>active</b></div></td><td><u>Ixia_Chassis</u><br/>[1e3a0fa1-fc0f-488b-9ffc-56dc694277d9]</td><td><u>Ixia_Chassis</u><br/>[6e938fa5-d577-4ad0-a94d-4bf189f7f941]</td><td><u>net2440</u><br/>10.24.40.160<br/><u>Net-External</u><br/>10.3.48.8<br/></td></tr><tr><td>Ixia_Load2</td><td><div style=\"background-color: green; color: white\"><b>active</b></div></td><td><u>mse.small</u><br/>[bbe180d9-62aa-4215-90ec-cfb3aa46717d]</td><td><u>Ixia_Load</u><br/>[d5625b5c-0be3-4e17-ba5a-e329002e9377]</td><td><u>net2440</u><br/>10.24.40.156<br/><u>Net-External</u><br/>10.3.48.249<br/></td></tr><tr><td>Ixia_Load1</td><td><div style=\"background-color: green; color: white\"><b>active</b></div></td><td><u>mse.small</u><br/>[bbe180d9-62aa-4215-90ec-cfb3aa46717d]</td><td><u>Ixia_Load</u><br/>[d5625b5c-0be3-4e17-ba5a-e329002e9377]</td><td><u>net2440</u><br/>10.24.40.154<br/><u>Net-External</u><br/>10.3.48.247<br/></td></tr><tr><td>SPROUT-2</td><td><div style=\"background-color: green; color: white\"><b>active</b></div></td><td><u>tim</u><br/>[c04a0294-a05a-4721-93cd-caef9d42499f]</td><td><u>CW-SPROUT</u><br/>[c24ce399-eebb-4085-9143-acf8c6022846]</td><td><u>Net-External</u><br/>10.3.48.238<br/></td></tr><tr><td>HOMER-1</td><td><div style=\"background-color: green; color: white\"><b>active</b></div></td><td><u>tim</u><br/>[c04a0294-a05a-4721-93cd-caef9d42499f]</td><td><u>CW-HOMER</u><br/>[f1295c35-b979-45cb-943e-8876cc7781a3]</td><td><u>Net-External</u><br/>10.3.48.235<br/></td></tr><tr><td>ELLIS-1</td><td><div style=\"background-color: green; color: white\"><b>active</b></div></td><td><u>tim</u><br/>[c04a0294-a05a-4721-93cd-caef9d42499f]</td><td><u>CW-ELLIS</u><br/>[7f51432a-6f57-4ade-bc4c-949ec4f5e3cb]</td><td><u>Net-External</u><br/>10.3.48.237<br/></td></tr><tr><td>BONO-1</td><td><div style=\"background-color: green; color: white\"><b>active</b></div></td><td><u>tim</u><br/>[c04a0294-a05a-4721-93cd-caef9d42499f]</td><td><u>CW-BONO</u><br/>[7867b1d9-2dd0-4db1-8776-c1000066bbc7]</td><td><u>Net-External</u><br/>10.3.48.236<br/></td></tr><tr><td>RALF-1</td><td><div style=\"background-color: green; color: white\"><b>active</b></div></td><td><u>tim</u><br/>[c04a0294-a05a-4721-93cd-caef9d42499f]</td><td><u>CW-RALF</u><br/>[b60d77dd-9f27-42a5-8e43-beef40a3f78e]</td><td><u>Net-External</u><br/>10.3.48.234<br/></td></tr><tr><td>HOMESTEAD-1</td><td><div style=\"background-color: green; color: white\"><b>active</b></div></td><td><u>tim</u><br/>[c04a0294-a05a-4721-93cd-caef9d42499f]</td><td><u>CW-HOMESTEAD</u><br/>[d48c6523-f377-47e2-85b7-3fc40f92b0b2]</td><td><u>Net-External</u><br/>10.3.48.232<br/></td></tr></table><table style=\"border: 1px solid black; border-style: collapse;\" border=\"1\" width=100%><tr><td>hlm1[10.3.28.46:22]</td><td><div style=\"background-color: green; color: white\"><b>OK</b></div></td></tr><tr><td>hlm1vm[10.3.29.10:22]</td><td><div style=\"background-color: green; color: white\"><b>OK</b></div></td></tr><tr><td>wrcllr0[10.3.30.21:22]</td><td><div style=\"background-color: green; color: white\"><b>OK</b></div></td></tr><tr><td>wrcllr1[10.3.30.22:22]</td><td><div style=\"background-color: green; color: white\"><b>OK</b></div></td></tr></table><table style=\"border: 1px solid black; border-style: collapse;\" border=\"1\" width=100%><tr><td>10.3.30.10:5000 [identity]</td><td><div style=\"background-color: green; color: white\"><b>OK</b></div></td></tr><tr><td>10.3.30.10:8776 [volume]</td><td><div style=\"background-color: green; color: white\"><b>OK</b></div></td></tr><tr><td>10.3.30.10:9292 [image]</td><td><div style=\"background-color: green; color: white\"><b>OK</b></div></td></tr><tr><td>10.3.30.20:8774 [compute]</td><td><div style=\"background-color: green; color: white\"><b>OK</b></div></td></tr><tr><td>10.3.30.20:9696 [network]</td><td><div style=\"background-color: green; color: white\"><b>OK</b></div></td></tr></table>"
      ],
      "text/plain": [
       "<IPython.core.display.HTML object>"
      ]
     },
     "metadata": {},
     "output_type": "display_data"
    },
    {
     "data": {
      "text/html": [
       "<a name=\"RESULTS_poc2\"></a>"
      ],
      "text/plain": [
       "<IPython.core.display.HTML object>"
      ]
     },
     "metadata": {},
     "output_type": "display_data"
    },
    {
     "data": {
      "text/html": [
       "<b><h2>Platform: poc2</h2><h4>Run at: 2016-07-12 20:11:19</h4><a href=\"#RESULTS_STATUS\"> Return to Top (RESULTS_STATUS) </a></b><table style=\"border: 1px solid black; border-style: collapse;\" border=\"1\" width=100%><tr><td>hlm1[10.3.216.10]</td><td><div style=\"background-color: green; color: white\"><b>OK: 0.150 msec</b></div></td></tr><tr><td>hlm1vm[10.3.219.30]</td><td><div style=\"background-color: green; color: white\"><b>OK: 0.292 msec</b></div></td></tr><tr><td>hos1[10.3.219.31]</td><td><div style=\"background-color: green; color: white\"><b>OK: 0.219 msec</b></div></td></tr><tr><td>hos2[10.3.219.32]</td><td><div style=\"background-color: green; color: white\"><b>OK: 0.253 msec</b></div></td></tr><tr><td>hos3[10.3.219.33]</td><td><div style=\"background-color: green; color: white\"><b>OK: 0.185 msec</b></div></td></tr><tr><td>hos_vip[10.3.216.30]</td><td><div style=\"background-color: green; color: white\"><b>OK: 0.186 msec</b></div></td></tr><tr><td>wrcl1[10.3.219.131]</td><td><div style=\"background-color: green; color: white\"><b>OK: 0.149 msec</b></div></td></tr><tr><td>wrcl2[10.3.219.132]</td><td><div style=\"background-color: green; color: white\"><b>OK: 0.150 msec</b></div></td></tr><tr><td>wrcl_vip[10.3.219.130]</td><td><div style=\"background-color: green; color: white\"><b>OK: 0.141 msec</b></div></td></tr><tr><td>wrco0[10.3.219.177]</td><td><div style=\"background-color: green; color: white\"><b>OK: 0.095 msec</b></div></td></tr><tr><td>wrco1[10.3.219.178]</td><td><div style=\"background-color: green; color: white\"><b>OK: 0.104 msec</b></div></td></tr><tr><td>wrco2[10.3.219.179]</td><td><div style=\"background-color: green; color: white\"><b>OK: 0.092 msec</b></div></td></tr><tr><td>wrco3[10.3.219.134]</td><td><div style=\"background-color: green; color: white\"><b>OK: 0.103 msec</b></div></td></tr><tr><td>wrco4[10.3.219.135]</td><td><div style=\"background-color: green; color: white\"><b>OK: 0.113 msec</b></div></td></tr><tr><td>wrco5[10.3.219.135]</td><td><div style=\"background-color: green; color: white\"><b>OK: 0.116 msec</b></div></td></tr><tr><td>wrco6[10.3.219.137]</td><td><div style=\"background-color: green; color: white\"><b>OK: 0.137 msec</b></div></td></tr><tr><td>wrco7[10.3.219.138]</td><td><div style=\"background-color: green; color: white\"><b>OK: 0.141 msec</b></div></td></tr></table><table style=\"border: 1px solid black; border-style: collapse;\" border=\"1\" width=100%><tr><td><center><b>name</b></center></td><td><center><b>status</b></center></td><td><center><b>flavor</b></center></td><td><center><b>image</b></center></td><td><center><b>addresses</b></center></td></tr></table><table style=\"border: 1px solid black; border-style: collapse;\" border=\"1\" width=100%><tr><td>hlm1[10.3.216.10:22]</td><td><div style=\"background-color: green; color: white\"><b>OK</b></div></td></tr><tr><td>hlm1vm[10.3.219.30:22]</td><td><div style=\"background-color: green; color: white\"><b>OK</b></div></td></tr><tr><td>hos1[10.3.219.31:22]</td><td><div style=\"background-color: green; color: white\"><b>OK</b></div></td></tr><tr><td>hos2[10.3.219.32:22]</td><td><div style=\"background-color: green; color: white\"><b>OK</b></div></td></tr><tr><td>hos3[10.3.219.33:22]</td><td><div style=\"background-color: green; color: white\"><b>OK</b></div></td></tr><tr><td>hos_vip[10.3.216.30:22]</td><td><div style=\"background-color: green; color: white\"><b>OK</b></div></td></tr><tr><td>wrcl1[10.3.219.131:22]</td><td><div style=\"background-color: green; color: white\"><b>OK</b></div></td></tr><tr><td>wrcl2[10.3.219.132:22]</td><td><div style=\"background-color: green; color: white\"><b>OK</b></div></td></tr><tr><td>wrcl_vip[10.3.219.130:22]</td><td><div style=\"background-color: green; color: white\"><b>OK</b></div></td></tr><tr><td>wrco0[10.3.219.177:22]</td><td><div style=\"background-color: green; color: white\"><b>OK</b></div></td></tr><tr><td>wrco1[10.3.219.178:22]</td><td><div style=\"background-color: green; color: white\"><b>OK</b></div></td></tr><tr><td>wrco2[10.3.219.179:22]</td><td><div style=\"background-color: green; color: white\"><b>OK</b></div></td></tr><tr><td>wrco3[10.3.219.134:22]</td><td><div style=\"background-color: green; color: white\"><b>OK</b></div></td></tr><tr><td>wrco4[10.3.219.135:22]</td><td><div style=\"background-color: green; color: white\"><b>OK</b></div></td></tr><tr><td>wrco5[10.3.219.135:22]</td><td><div style=\"background-color: green; color: white\"><b>OK</b></div></td></tr><tr><td>wrco6[10.3.219.137:22]</td><td><div style=\"background-color: green; color: white\"><b>OK</b></div></td></tr><tr><td>wrco7[10.3.219.138:22]</td><td><div style=\"background-color: green; color: white\"><b>OK</b></div></td></tr></table><table style=\"border: 1px solid black; border-style: collapse;\" border=\"1\" width=100%><tr><td>10.3.216.130:8774 [compute]</td><td><div style=\"background-color: green; color: white\"><b>OK</b></div></td></tr><tr><td>10.3.216.130:9696 [network]</td><td><div style=\"background-color: green; color: white\"><b>OK</b></div></td></tr><tr><td>10.3.216.30:5000 [identity]</td><td><div style=\"background-color: green; color: white\"><b>OK</b></div></td></tr><tr><td>10.3.216.30:8776 [volume]</td><td><div style=\"background-color: green; color: white\"><b>OK</b></div></td></tr><tr><td>10.3.216.30:9292 [image]</td><td><div style=\"background-color: green; color: white\"><b>OK</b></div></td></tr></table>"
      ],
      "text/plain": [
       "<IPython.core.display.HTML object>"
      ]
     },
     "metadata": {},
     "output_type": "display_data"
    },
    {
     "data": {
      "text/html": [
       "<a name=\"RESULTS_nfv5\"></a>"
      ],
      "text/plain": [
       "<IPython.core.display.HTML object>"
      ]
     },
     "metadata": {},
     "output_type": "display_data"
    },
    {
     "data": {
      "text/html": [
       "<b><h2>Platform: nfv5</h2><h4>Run at: 2016-07-12 20:11:43</h4><a href=\"#RESULTS_STATUS\"> Return to Top (RESULTS_STATUS) </a></b><table style=\"border: 1px solid black; border-style: collapse;\" border=\"1\" width=100%><tr><td>nfv5co10[10.206.61.154]</td><td><div style=\"background-color: green; color: white\"><b>OK: 0.491 msec</b></div></td></tr><tr><td>nfv5co11[10.206.61.162]</td><td><div style=\"background-color: green; color: white\"><b>OK: 0.380 msec</b></div></td></tr><tr><td>nfv5co12[10.206.61.171]</td><td><div style=\"background-color: green; color: white\"><b>OK: 0.591 msec</b></div></td></tr><tr><td>nfv5co13[10.206.61.225]</td><td><div style=\"background-color: green; color: white\"><b>OK: 0.367 msec</b></div></td></tr><tr><td>nfv5co14[10.206.61.155]</td><td><div style=\"background-color: green; color: white\"><b>OK: 0.408 msec</b></div></td></tr><tr><td>nfv5co15[10.206.61.246]</td><td><div style=\"background-color: green; color: white\"><b>OK: 0.420 msec</b></div></td></tr><tr><td>nfv5co16[10.206.61.193]</td><td><div style=\"background-color: green; color: white\"><b>OK: 0.382 msec</b></div></td></tr><tr><td>nfv5co1[10.206.61.215]</td><td><div style=\"background-color: green; color: white\"><b>OK: 0.429 msec</b></div></td></tr><tr><td>nfv5co2[10.206.61.161]</td><td><div style=\"background-color: green; color: white\"><b>OK: 0.412 msec</b></div></td></tr><tr><td>nfv5co3[10.206.61.170]</td><td><div style=\"background-color: green; color: white\"><b>OK: 0.427 msec</b></div></td></tr><tr><td>nfv5co4[10.206.61.172]</td><td><div style=\"background-color: green; color: white\"><b>OK: 0.415 msec</b></div></td></tr><tr><td>nfv5co5[10.206.61.209]</td><td><div style=\"background-color: green; color: white\"><b>OK: 0.413 msec</b></div></td></tr><tr><td>nfv5co6[10.206.61.243]</td><td><div style=\"background-color: green; color: white\"><b>OK: 0.389 msec</b></div></td></tr><tr><td>nfv5co7[10.206.61.230]</td><td><div style=\"background-color: green; color: white\"><b>OK: 0.461 msec</b></div></td></tr><tr><td>nfv5co8[10.206.61.156]</td><td><div style=\"background-color: green; color: white\"><b>OK: 0.426 msec</b></div></td></tr><tr><td>nfv5co9[10.206.61.157]</td><td><div style=\"background-color: green; color: white\"><b>OK: 0.563 msec</b></div></td></tr><tr><td>nfv5hlmva[10.206.61.4]</td><td><div style=\"background-color: green; color: white\"><b>OK: 0.602 msec</b></div></td></tr><tr><td>nfv5hlmvm[10.206.61.100]</td><td><div style=\"background-color: green; color: white\"><b>OK: 0.649 msec</b></div></td></tr><tr><td>nfv5hos1[10.206.61.102]</td><td><div style=\"background-color: green; color: white\"><b>OK: 0.425 msec</b></div></td></tr><tr><td>nfv5hos2[10.206.61.103]</td><td><div style=\"background-color: green; color: white\"><b>OK: 0.504 msec</b></div></td></tr><tr><td>nfv5hos3[10.206.61.104]</td><td><div style=\"background-color: green; color: white\"><b>OK: 0.535 msec</b></div></td></tr><tr><td>nfv5hos[10.206.61.101]</td><td><div style=\"background-color: green; color: white\"><b>OK: 0.503 msec</b></div></td></tr><tr><td>nfv5kvm1[10.206.61.6]</td><td><div style=\"background-color: green; color: white\"><b>OK: 0.714 msec</b></div></td></tr><tr><td>nfv5kvm2[10.206.61.7]</td><td><div style=\"background-color: green; color: white\"><b>OK: 0.603 msec</b></div></td></tr><tr><td>nfv5seedvm[10.206.61.2]</td><td><div style=\"background-color: green; color: white\"><b>OK: 0.719 msec</b></div></td></tr><tr><td>nfv5wrcl0[10.206.61.151]</td><td><div style=\"background-color: green; color: white\"><b>OK: 0.403 msec</b></div></td></tr><tr><td>nfv5wrcl1[10.206.61.153]</td><td><div style=\"background-color: green; color: white\"><b>OK: 0.519 msec</b></div></td></tr><tr><td>nfv5wrcl[10.206.61.150]</td><td><div style=\"background-color: green; color: white\"><b>OK: 0.399 msec</b></div></td></tr></table><table style=\"border: 1px solid black; border-style: collapse;\" border=\"1\" width=100%><tr><td><center><b>name</b></center></td><td><center><b>status</b></center></td><td><center><b>flavor</b></center></td><td><center><b>image</b></center></td><td><center><b>addresses</b></center></td></tr><tr><td>karimvm2</td><td><div style=\"background-color: green; color: white\"><b>active</b></div></td><td><u>test</u><br/>[ce73dd94-2716-408a-b47a-8f9a797bbf4b]</td><td><u>Cirros</u><br/>[998a9987-2ce5-4459-9c54-a89b46a07009]</td><td><u>InternalNET1</u><br/>192.168.20.6<br/></td></tr><tr><td>karimvm1</td><td><div style=\"background-color: green; color: white\"><b>active</b></div></td><td><u>test</u><br/>[ce73dd94-2716-408a-b47a-8f9a797bbf4b]</td><td><u>Cirros</u><br/>[998a9987-2ce5-4459-9c54-a89b46a07009]</td><td><u>ExternalNetwork</u><br/>10.27.10.3<br/></td></tr></table><table style=\"border: 1px solid black; border-style: collapse;\" border=\"1\" width=100%><tr><td>nfv5co10[10.206.61.154:22]</td><td><div style=\"background-color: green; color: white\"><b>OK</b></div></td></tr><tr><td>nfv5co11[10.206.61.162:22]</td><td><div style=\"background-color: green; color: white\"><b>OK</b></div></td></tr><tr><td>nfv5co12[10.206.61.171:22]</td><td><div style=\"background-color: green; color: white\"><b>OK</b></div></td></tr><tr><td>nfv5co13[10.206.61.225:22]</td><td><div style=\"background-color: green; color: white\"><b>OK</b></div></td></tr><tr><td>nfv5co14[10.206.61.155:22]</td><td><div style=\"background-color: green; color: white\"><b>OK</b></div></td></tr><tr><td>nfv5co15[10.206.61.246:22]</td><td><div style=\"background-color: green; color: white\"><b>OK</b></div></td></tr><tr><td>nfv5co16[10.206.61.193:22]</td><td><div style=\"background-color: green; color: white\"><b>OK</b></div></td></tr><tr><td>nfv5co1[10.206.61.215:22]</td><td><div style=\"background-color: green; color: white\"><b>OK</b></div></td></tr><tr><td>nfv5co2[10.206.61.161:22]</td><td><div style=\"background-color: green; color: white\"><b>OK</b></div></td></tr><tr><td>nfv5co3[10.206.61.170:22]</td><td><div style=\"background-color: green; color: white\"><b>OK</b></div></td></tr><tr><td>nfv5co4[10.206.61.172:22]</td><td><div style=\"background-color: green; color: white\"><b>OK</b></div></td></tr><tr><td>nfv5co5[10.206.61.209:22]</td><td><div style=\"background-color: green; color: white\"><b>OK</b></div></td></tr><tr><td>nfv5co6[10.206.61.243:22]</td><td><div style=\"background-color: green; color: white\"><b>OK</b></div></td></tr><tr><td>nfv5co7[10.206.61.230:22]</td><td><div style=\"background-color: green; color: white\"><b>OK</b></div></td></tr><tr><td>nfv5co8[10.206.61.156:22]</td><td><div style=\"background-color: green; color: white\"><b>OK</b></div></td></tr><tr><td>nfv5co9[10.206.61.157:22]</td><td><div style=\"background-color: green; color: white\"><b>OK</b></div></td></tr><tr><td>nfv5hlmva[10.206.61.4:22]</td><td><div style=\"background-color: green; color: white\"><b>OK</b></div></td></tr><tr><td>nfv5hlmvm[10.206.61.100:22]</td><td><div style=\"background-color: green; color: white\"><b>OK</b></div></td></tr><tr><td>nfv5hos1[10.206.61.102:22]</td><td><div style=\"background-color: green; color: white\"><b>OK</b></div></td></tr><tr><td>nfv5hos2[10.206.61.103:22]</td><td><div style=\"background-color: green; color: white\"><b>OK</b></div></td></tr><tr><td>nfv5hos3[10.206.61.104:22]</td><td><div style=\"background-color: green; color: white\"><b>OK</b></div></td></tr><tr><td>nfv5hos[10.206.61.101:22]</td><td><div style=\"background-color: green; color: white\"><b>OK</b></div></td></tr><tr><td>nfv5kvm1[10.206.61.6:22]</td><td><div style=\"background-color: green; color: white\"><b>OK</b></div></td></tr><tr><td>nfv5kvm2[10.206.61.7:22]</td><td><div style=\"background-color: green; color: white\"><b>OK</b></div></td></tr><tr><td>nfv5seedvm[10.206.61.2:22]</td><td><div style=\"background-color: green; color: white\"><b>OK</b></div></td></tr><tr><td>nfv5wrcl0[10.206.61.151:22]</td><td><div style=\"background-color: green; color: white\"><b>OK</b></div></td></tr><tr><td>nfv5wrcl1[10.206.61.153:22]</td><td><div style=\"background-color: green; color: white\"><b>OK</b></div></td></tr><tr><td>nfv5wrcl[10.206.61.150:22]</td><td><div style=\"background-color: green; color: white\"><b>OK</b></div></td></tr></table><table style=\"border: 1px solid black; border-style: collapse;\" border=\"1\" width=100%><tr><td>10.206.62.100:5000 [identity]</td><td><div style=\"background-color: green; color: white\"><b>OK</b></div></td></tr><tr><td>10.206.62.100:8776 [volume]</td><td><div style=\"background-color: green; color: white\"><b>OK</b></div></td></tr><tr><td>10.206.62.100:9292 [image]</td><td><div style=\"background-color: green; color: white\"><b>OK</b></div></td></tr><tr><td>10.206.62.150:8774 [compute]</td><td><div style=\"background-color: green; color: white\"><b>OK</b></div></td></tr><tr><td>10.206.62.150:9696 [network]</td><td><div style=\"background-color: green; color: white\"><b>OK</b></div></td></tr></table>"
      ],
      "text/plain": [
       "<IPython.core.display.HTML object>"
      ]
     },
     "metadata": {},
     "output_type": "display_data"
    }
   ],
   "source": [
    "display( HTML( '<h1><a name=\"RESULTS_STATUS\" /> Platforms Status Summary </h1>' ))\n",
    "\n",
    "DISP_STATUSES={}\n",
    "DISP_STATUSES['--PLATFORM']=[ 'Ping', 'Port Pings', 'Endpoints', 'VMs status' ]\n",
    "for platform in platforms:\n",
    "    LINK='<a href=\"#RESULTS_' + platform + '\">' + platform +'</a>'\n",
    "    DISP_STATUSES[LINK]=STATUSES[platform]\n",
    "\n",
    "display( HTML( DictTable._repr_html_(DISP_STATUSES, STATUS_HIGHLIGHTS) ))\n",
    "\n",
    "display( HTML( '<h1>Platforms results </h1>' ))\n",
    "for platform in platforms:\n",
    "    display( HTML( '<a name=\"RESULTS_{}\"></a>'.format(platform) ))\n",
    "    HTML_OP = HTML_OPS[platform]\n",
    "    display( HTML( HTML_OP )) "
   ]
  },
  {
   "cell_type": "code",
   "execution_count": 4,
   "metadata": {
    "collapsed": true
   },
   "outputs": [],
   "source": [
    "def archive_df(inventory):\n",
    "    ! [ ! -d history ] && mkdir history\n",
    "\n",
    "    import datetime\n",
    "    import time\n",
    "\n",
    "    #d = datetime.date.today().strftime(\"%B %d, %Y\")\n",
    "    #dt = datetime.datetime.now().strftime(\"%I:%M%p on %B %d, %Y\")\n",
    "    d = datetime.date.today().strftime(\"%Y-%m-%d\")\n",
    "    dt = datetime.datetime.now().strftime(\"%Y-%m-%d_%H:%M\")\n",
    "    print(d)\n",
    "    print(dt)\n",
    "\n",
    "    for host in sorted(inventory['df_check']):    \n",
    "        ip = inventory['hosts'][host]['ansible_host']\n",
    "        user = inventory['hosts'][host]['ansible_user']\n",
    "        pkey = inventory['hosts'][host]['ssh_key']\n",
    "        df_check = inventory['hosts'][host]['df_check']\n",
    "\n",
    "        # write to history subdir (~/notebooks/cron for cron jobs)\n",
    "        history_file='history/df_history_' + platform + '_' + host + '.txt'\n",
    "        history_fd = open(history_file, 'a')\n",
    "\n",
    "        full_df_cmd=\"hostname; df 2>&1\"\n",
    "        df_op, stderr = ssh_command(host, ip, user, pkey, full_df_cmd)    \n",
    "        history_fd.write('DATE:' + dt + '\\n' + df_op)\n",
    "        history_fd.close()\n",
    "\n",
    "        df_cmd=\"df \" + df_check.replace(\",\", \" \") + \"| grep -v ^Filesystem\"\n",
    "        df_op, stderr = ssh_command(host, ip, user, pkey, df_cmd)    \n",
    "        #df_op = stdout.decode('utf8')\n",
    "        #print(\"HOST[\" + host + \"]<\" + df_check + \">{\" + df_cmd +\"}:\" + df_op)\n",
    "\n",
    "        df_lines=df_op.split(\"\\n\")\n",
    "        for df_line in df_lines:\n",
    "            #print(\"LINE: \" + df_line)\n",
    "            pc_pos = df_line.find(\"%\")\n",
    "            if pc_pos != -1:\n",
    "                pc=int(df_line[pc_pos-3:pc_pos])\n",
    "                partn=df_line[pc_pos+1:]\n",
    "                print(host + \" \" + str(pc) + \"% \" + partn)\n"
   ]
  },
  {
   "cell_type": "code",
   "execution_count": 5,
   "metadata": {
    "collapsed": false
   },
   "outputs": [],
   "source": [
    "def showUptimes():\n",
    "    for host in sorted(inventory['ssh_check']):    \n",
    "        ip = inventory['hosts'][host]['ansible_host']\n",
    "        user = inventory['hosts'][host]['ansible_user']\n",
    "        pkey = inventory['hosts'][host]['ssh_key']\n",
    "\n",
    "        stdout, stderr = ssh_command(host, ip, user, pkey, \"uptime\")\n",
    "\n",
    "        #print(\"LINE=\" + stdout)\n",
    "        uptime = strip_uptime(stdout)\n",
    "        print(host + \":\" + uptime)"
   ]
  },
  {
   "cell_type": "markdown",
   "metadata": {
    "collapsed": true
   },
   "source": [
    "### TODO:\n",
    "- Create status at top of page (without Javascript - so visible in email?)\n",
    "- df processing to show trends (as html table, as pie chart)\n",
    "- use of openstack clientmanager for equivalent to \"openstack service list\" status"
   ]
  },
  {
   "cell_type": "code",
   "execution_count": 6,
   "metadata": {
    "collapsed": true
   },
   "outputs": [],
   "source": [
    "# TODO: \n",
    "# equivalent of openstack service list\n",
    "\n",
    "# See: how service list is implemented:\n",
    "#    https://github.com/openstack/python-openstackclient/blob/master/openstackclient/compute/v2/service.py\n",
    "# (compute_client = client_manager.compute)\n",
    "#\n",
    "# See also: how to create/use a clientmanager:\n",
    "#    https://github.com/openstack/python-openstackclient/blob/master/examples/osc-lib.py\n",
    "\n",
    "#from openstackclient.common import clientmanager\n",
    "#from openstackclient.common import utils"
   ]
  }
 ],
 "metadata": {
  "kernelspec": {
   "display_name": "Python 3",
   "language": "python",
   "name": "python3"
  },
  "language_info": {
   "codemirror_mode": {
    "name": "ipython",
    "version": 3
   },
   "file_extension": ".py",
   "mimetype": "text/x-python",
   "name": "python",
   "nbconvert_exporter": "python",
   "pygments_lexer": "ipython3",
   "version": "3.5.1"
  }
 },
 "nbformat": 4,
 "nbformat_minor": 0
}
