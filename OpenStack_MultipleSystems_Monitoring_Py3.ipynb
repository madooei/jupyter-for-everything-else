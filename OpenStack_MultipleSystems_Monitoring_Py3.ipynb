{
 "cells": [
  {
   "cell_type": "code",
   "execution_count": 1,
   "metadata": {
    "collapsed": false
   },
   "outputs": [
    {
     "data": {
      "text/html": [
       "<style>\n",
       ".output_wrapper, .output { height:auto !important; max-height:10000px; } /* your desired max-height here */\n",
       ".output_scroll {     box-shadow:none !important; webkit-box-shadow:none !important; }\n",
       ".noborder, .noborder tr, .noborder th, .noborder td { border-collapse: collapse; border: 0px; border: none!important; }\n",
       "</style>\n",
       "\n",
       "<h1>TODO: Barchart, df_trends?? </h1>\n",
       "<h1>TODO: Show #flavors etc in summary table </h1>\n",
       "<h2> TODO: Put labels in details </h2>"
      ],
      "text/plain": [
       "<IPython.core.display.HTML object>"
      ]
     },
     "metadata": {},
     "output_type": "display_data"
    }
   ],
   "source": [
    "%%html\n",
    "<style>\n",
    ".output_wrapper, .output { height:auto !important; max-height:10000px; } /* your desired max-height here */\n",
    ".output_scroll {     box-shadow:none !important; webkit-box-shadow:none !important; }\n",
    ".noborder, .noborder tr, .noborder th, .noborder td { border-collapse: collapse; border: 0px; border: none!important; }\n",
    "</style>\n",
    "\n",
    "<h1>TODO: Barchart, df_trends?? </h1>\n",
    "<h1>TODO: Show #flavors etc in summary table </h1>\n",
    "<h2> TODO: Put labels in details </h2>"
   ]
  },
  {
   "cell_type": "code",
   "execution_count": 2,
   "metadata": {
    "collapsed": false
   },
   "outputs": [],
   "source": [
    "import sys, os\n",
    "sys.path.append('./modules')\n",
    "from Monitoring_Tools import *\n",
    "from OpenStack_Tools  import *"
   ]
  },
  {
   "cell_type": "code",
   "execution_count": 4,
   "metadata": {
    "collapsed": false
   },
   "outputs": [
    {
     "data": {
      "text/html": [
       "<h4>The latest version of this status is available at <a href=\"http://10.3.216.210:8888/tree/notebooks/cron/OpenStack_Monitoring_demo8.html\">http://10.3.216.210:8888/tree/notebooks/cron/OpenStack_Monitoring_demo8.html</a></h4>"
      ],
      "text/plain": [
       "<IPython.core.display.HTML object>"
      ]
     },
     "metadata": {},
     "output_type": "display_data"
    },
    {
     "name": "stdout",
     "output_type": "stream",
     "text": [
      "2 flavors\n",
      "8 images\n",
      "0 servers\n",
      "ping(demo8co0[10.3.162.143:22]) ... ping(demo8co1[10.3.162.141:22]) ... ping(demo8co10[10.3.162.146:22]) ... ping(demo8co11[10.3.162.140:22]) ... ping(demo8co12[10.3.162.139:22]) ... ping(demo8co13[10.3.162.134:22]) ... ping(demo8co14[10.3.162.144:22]) ... ping(demo8co15[10.3.162.145:22]) ... ping(demo8co2[10.3.162.178:22]) ... ping(demo8co3[10.3.162.142:22]) ... ping(demo8co4[10.3.162.149:22]) ... ping(demo8co5[10.3.162.137:22]) ... ping(demo8co6[10.3.162.138:22]) ... ping(demo8co7[10.3.162.153:22]) ... ping(demo8co8[10.3.162.154:22]) ... ping(demo8co9[10.3.162.136:22]) ... ping(hlmvm[10.3.162.30:22]) ... ping(kvm[10.3.162.10:22]) ... ping(wrcl0[10.3.162.131:22]) ... ping(wrcl1[10.3.162.132:22]) ... "
     ]
    }
   ],
   "source": [
    "platforms = ['demo8', 'poc1', 'poc2', 'nfv5']\n",
    "#platforms = ['demo8', 'poc1' ]\n",
    "#platforms = ['demo8']\n",
    "\n",
    "HTML_OPS={}\n",
    "STATUSES={}\n",
    "DISK_USAGE={}\n",
    "\n",
    "thresholds=[70,90]\n",
    "colours=['lightgreen','orange','red']\n",
    "for platform in platforms:\n",
    "    inventory, HTML_OP, PING_STATUS, PING_PORTS_STATUS, ENDPOINTS_STATUS, VMS_STATUS = platformStatus(platform)\n",
    "    DISK_USAGE = archive_df(inventory, platform)\n",
    "    highestpc, highestpc_label, DF_TABLE_HTML = diskPCTable(DISK_USAGE, thresholds, colours)\n",
    "    HIGHEST_DISK_PC = diskPCCell(highestpc, 0.5, thresholds, colours)\n",
    "    HIGHEST_DISK_PC_HOST = '<b>{}</b>'.format(highestpc_label)\n",
    "\n",
    "    HTML_OPS[platform] = HTML_OP + '<h2>Disk Usage</h2>' + DF_TABLE_HTML\n",
    "    STATUSES[platform] = [ HIGHEST_DISK_PC, HIGHEST_DISK_PC_HOST, PING_STATUS, PING_PORTS_STATUS, ENDPOINTS_STATUS, VMS_STATUS ]"
   ]
  },
  {
   "cell_type": "code",
   "execution_count": 5,
   "metadata": {
    "collapsed": false
   },
   "outputs": [
    {
     "data": {
      "text/html": [
       "<h1><a name=\"RESULTS_STATUS\" /> Platforms Status Summary </h1>"
      ],
      "text/plain": [
       "<IPython.core.display.HTML object>"
      ]
     },
     "metadata": {},
     "output_type": "display_data"
    },
    {
     "data": {
      "text/html": [
       "<table style=\"border: 1px solid black; border-style: collapse;\" border=\"1\" width=100%><tr><td><b>Platform</b></td><td><b>Disk host</b></td><td><b>Disk usage</b></td><td><b>Ping</b></td><td><b>Ports open</b></td><td><b>Endpoints reachable</b></td><td><b>VMs ACTIVE</b></td></tr><tr><td><a href=\"#RESULTS_demo8\">demo8</a></td><td><b>['kvm: /']</b></td><td><table><tr><td width=18% border=0 class='noborder' style='color: #000; background-color: lightgreen;'><b>35%</b></td><td></td></tr></table></td><td><div style=\"background-color: lightgreen; color: white\"><b>OK</b></div></td><td><div style=\"background-color: lightgreen; color: white\"><b>OK</b></div></td><td><div style=\"background-color: lightgreen; color: white\"><b>OK</b></div></td><td><div style=\"background-color: lightgreen; color: white\"><b>OK</b></div></td></tr></table>"
      ],
      "text/plain": [
       "<IPython.core.display.HTML object>"
      ]
     },
     "metadata": {},
     "output_type": "display_data"
    },
    {
     "data": {
      "text/html": [
       "<h1>Platforms results </h1>"
      ],
      "text/plain": [
       "<IPython.core.display.HTML object>"
      ]
     },
     "metadata": {},
     "output_type": "display_data"
    },
    {
     "data": {
      "text/html": [
       "<a name=\"RESULTS_demo8\"></a>"
      ],
      "text/plain": [
       "<IPython.core.display.HTML object>"
      ]
     },
     "metadata": {},
     "output_type": "display_data"
    },
    {
     "data": {
      "text/html": [
       "<b><h3>Platform: demo8</h3><h4>Run at: 2016-07-20 11:32:29</h4><a href=\"#RESULTS_STATUS\"> Return to Top (RESULTS_STATUS) </a></b><b>No ping_check entries in inventory</b><table style=\"border: 1px solid black; border-style: collapse;\" border=\"1\" width=100%><tr><td><center><b>name</b></center></td><td><center><b>status</b></center></td><td><center><b>flavor</b></center></td><td><center><b>image</b></center></td><td><center><b>addresses</b></center></td></tr></table><table style=\"border: 1px solid black; border-style: collapse;\" border=\"1\" width=100%><tr><td>demo8co0[10.3.162.143:22]</td><td><div style=\"background-color: lightgreen; color: white\"><b>OK</b></div></td></tr><tr><td>demo8co10[10.3.162.146:22]</td><td><div style=\"background-color: lightgreen; color: white\"><b>OK</b></div></td></tr><tr><td>demo8co11[10.3.162.140:22]</td><td><div style=\"background-color: lightgreen; color: white\"><b>OK</b></div></td></tr><tr><td>demo8co12[10.3.162.139:22]</td><td><div style=\"background-color: lightgreen; color: white\"><b>OK</b></div></td></tr><tr><td>demo8co13[10.3.162.134:22]</td><td><div style=\"background-color: lightgreen; color: white\"><b>OK</b></div></td></tr><tr><td>demo8co14[10.3.162.144:22]</td><td><div style=\"background-color: lightgreen; color: white\"><b>OK</b></div></td></tr><tr><td>demo8co15[10.3.162.145:22]</td><td><div style=\"background-color: lightgreen; color: white\"><b>OK</b></div></td></tr><tr><td>demo8co1[10.3.162.141:22]</td><td><div style=\"background-color: lightgreen; color: white\"><b>OK</b></div></td></tr><tr><td>demo8co2[10.3.162.178:22]</td><td><div style=\"background-color: lightgreen; color: white\"><b>OK</b></div></td></tr><tr><td>demo8co3[10.3.162.142:22]</td><td><div style=\"background-color: lightgreen; color: white\"><b>OK</b></div></td></tr><tr><td>demo8co4[10.3.162.149:22]</td><td><div style=\"background-color: lightgreen; color: white\"><b>OK</b></div></td></tr><tr><td>demo8co5[10.3.162.137:22]</td><td><div style=\"background-color: lightgreen; color: white\"><b>OK</b></div></td></tr><tr><td>demo8co6[10.3.162.138:22]</td><td><div style=\"background-color: lightgreen; color: white\"><b>OK</b></div></td></tr><tr><td>demo8co7[10.3.162.153:22]</td><td><div style=\"background-color: lightgreen; color: white\"><b>OK</b></div></td></tr><tr><td>demo8co8[10.3.162.154:22]</td><td><div style=\"background-color: lightgreen; color: white\"><b>OK</b></div></td></tr><tr><td>demo8co9[10.3.162.136:22]</td><td><div style=\"background-color: lightgreen; color: white\"><b>OK</b></div></td></tr><tr><td>hlmvm[10.3.162.30:22]</td><td><div style=\"background-color: lightgreen; color: white\"><b>OK</b></div></td></tr><tr><td>kvm[10.3.162.10:22]</td><td><div style=\"background-color: lightgreen; color: white\"><b>OK</b></div></td></tr><tr><td>wrcl0[10.3.162.131:22]</td><td><div style=\"background-color: lightgreen; color: white\"><b>OK</b></div></td></tr><tr><td>wrcl1[10.3.162.132:22]</td><td><div style=\"background-color: lightgreen; color: white\"><b>OK</b></div></td></tr></table><table style=\"border: 1px solid black; border-style: collapse;\" border=\"1\" width=100%><tr><td>10.3.160.130:8774 [compute]</td><td><div style=\"background-color: lightgreen; color: white\"><b>OK</b></div></td></tr><tr><td>10.3.160.130:9696 [network]</td><td><div style=\"background-color: lightgreen; color: white\"><b>OK</b></div></td></tr><tr><td>10.3.160.30:5000 [identity]</td><td><div style=\"background-color: lightgreen; color: white\"><b>OK</b></div></td></tr><tr><td>10.3.160.30:8776 [volume]</td><td><div style=\"background-color: lightgreen; color: white\"><b>OK</b></div></td></tr><tr><td>10.3.160.30:9292 [image]</td><td><div style=\"background-color: lightgreen; color: white\"><b>OK</b></div></td></tr></table><h2>Disk Usage</h2><table><tbody><table width=700 class='noborder'><tr><td width=20%><b>hlmvm: /</b></td><td><table><tr><td width=2% border=0 class='noborder' style='color: #000; background-color: lightgreen;'><b>2%</b></td><td></td></tr></table></td></tr></tbody></table>"
      ],
      "text/plain": [
       "<IPython.core.display.HTML object>"
      ]
     },
     "metadata": {},
     "output_type": "display_data"
    }
   ],
   "source": [
    "display( HTML( '<h1><a name=\"RESULTS_STATUS\" /> Platforms Status Summary </h1>' ))\n",
    "\n",
    "DISP_STATUSES={}\n",
    "DISP_STATUSES['--Platform']=[ 'Disk usage', 'Worst case Disk host', 'Ping', 'Ports open', 'Endpoints reachable', 'VMs ACTIVE' ]\n",
    "for platform in platforms:\n",
    "    LINK='<a href=\"#RESULTS_' + platform + '\">' + platform +'</a>'\n",
    "    DISP_STATUSES[LINK]=STATUSES[platform]\n",
    "\n",
    "display( HTML( DictTable._repr_html_(DISP_STATUSES, STATUS_HIGHLIGHTS) ))\n",
    "\n",
    "display( HTML( '<h1>Platforms results </h1>' ))\n",
    "for platform in platforms:\n",
    "    display( HTML( '<a name=\"RESULTS_{}\"></a>'.format(platform) ))\n",
    "    HTML_OP = HTML_OPS[platform]\n",
    "    display( HTML( HTML_OP )) "
   ]
  },
  {
   "cell_type": "code",
   "execution_count": null,
   "metadata": {
    "collapsed": false
   },
   "outputs": [],
   "source": [
    "def showUptimes():\n",
    "    for host in sorted(inventory['ssh_check']):    \n",
    "        ip = inventory['hosts'][host]['ansible_host']\n",
    "        user = inventory['hosts'][host]['ansible_user']\n",
    "        pkey = inventory['hosts'][host]['ssh_key']\n",
    "\n",
    "        stdout, stderr = ssh_command(host, ip, user, pkey, \"uptime\")\n",
    "\n",
    "        #print(\"LINE=\" + stdout)\n",
    "        uptime = strip_uptime(stdout)\n",
    "        print(host + \":\" + uptime)"
   ]
  },
  {
   "cell_type": "markdown",
   "metadata": {
    "collapsed": true
   },
   "source": [
    "### TODO:\n",
    "- Create status at top of page (without Javascript - so visible in email?)\n",
    "- df processing to show trends (as html table, as pie chart)\n",
    "- use of openstack clientmanager for equivalent to \"openstack service list\" status"
   ]
  },
  {
   "cell_type": "code",
   "execution_count": null,
   "metadata": {
    "collapsed": true
   },
   "outputs": [],
   "source": [
    "# TODO: \n",
    "# equivalent of openstack service list\n",
    "\n",
    "# See: how service list is implemented:\n",
    "#    https://github.com/openstack/python-openstackclient/blob/master/openstackclient/compute/v2/service.py\n",
    "# (compute_client = client_manager.compute)\n",
    "#\n",
    "# See also: how to create/use a clientmanager:\n",
    "#    https://github.com/openstack/python-openstackclient/blob/master/examples/osc-lib.py\n",
    "\n",
    "#from openstackclient.common import clientmanager\n",
    "#from openstackclient.common import utils"
   ]
  }
 ],
 "metadata": {
  "kernelspec": {
   "display_name": "Python 3",
   "language": "python",
   "name": "python3"
  },
  "language_info": {
   "codemirror_mode": {
    "name": "ipython",
    "version": 3
   },
   "file_extension": ".py",
   "mimetype": "text/x-python",
   "name": "python",
   "nbconvert_exporter": "python",
   "pygments_lexer": "ipython3",
   "version": "3.5.1"
  }
 },
 "nbformat": 4,
 "nbformat_minor": 0
}
