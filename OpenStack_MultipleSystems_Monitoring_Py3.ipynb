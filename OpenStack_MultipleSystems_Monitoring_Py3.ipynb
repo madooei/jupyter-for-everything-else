{
 "cells": [
  {
   "cell_type": "code",
   "execution_count": null,
   "metadata": {
    "collapsed": false
   },
   "outputs": [],
   "source": [
    "%%html\n",
    "<style>\n",
    ".output_wrapper, .output { height:auto !important; max-height:10000px; } /* your desired max-height here */\n",
    ".output_scroll {     box-shadow:none !important; webkit-box-shadow:none !important; }\n",
    ".noborder, .noborder tr, .noborder th, .noborder td { border-collapse: collapse; border: 0px; border: none!important; }\n",
    "</style>"
   ]
  },
  {
   "cell_type": "code",
   "execution_count": null,
   "metadata": {
    "collapsed": false
   },
   "outputs": [],
   "source": [
    "import sys, os\n",
    "sys.path.append('./modules')\n",
    "from Monitoring_Tools import *\n",
    "from OpenStack_Tools  import *"
   ]
  },
  {
   "cell_type": "code",
   "execution_count": null,
   "metadata": {
    "collapsed": false
   },
   "outputs": [],
   "source": [
    "platforms = ['demo8', 'poc1', 'poc2', 'nfv5']\n",
    "#platforms = ['demo8', 'poc1' ]\n",
    "platforms = ['demo8', 'poc2', 'nfv5']\n",
    "platforms = ['nfv5']\n",
    "platforms = ['poc2']\n",
    "platforms = ['demo8']\n",
    "platforms = ['poc1']\n",
    "\n",
    "HTML_OPS, STATUSES, DISK_USAGE = getplatformStatuses(platforms)"
   ]
  },
  {
   "cell_type": "code",
   "execution_count": null,
   "metadata": {
    "collapsed": false
   },
   "outputs": [],
   "source": [
    "showPlatformStatuses(platforms, HTML_OPS, STATUSES, DISK_USAGE)"
   ]
  },
  {
   "cell_type": "markdown",
   "metadata": {
    "collapsed": true
   },
   "source": [
    "### TODO:\n",
    "- use of openstack clientmanager for equivalent to \"openstack service list\" status"
   ]
  },
  {
   "cell_type": "code",
   "execution_count": null,
   "metadata": {
    "collapsed": true
   },
   "outputs": [],
   "source": [
    "# TODO: \n",
    "# equivalent of openstack service list\n",
    "\n",
    "# See: how service list is implemented:\n",
    "#    https://github.com/openstack/python-openstackclient/blob/master/openstackclient/compute/v2/service.py\n",
    "# (compute_client = client_manager.compute)\n",
    "#\n",
    "# See also: how to create/use a clientmanager:\n",
    "#    https://github.com/openstack/python-openstackclient/blob/master/examples/osc-lib.py\n",
    "\n",
    "#from openstackclient.common import clientmanager\n",
    "#from openstackclient.common import utils"
   ]
  }
 ],
 "metadata": {
  "kernelspec": {
   "display_name": "Python 3",
   "language": "python",
   "name": "python3"
  },
  "language_info": {
   "codemirror_mode": {
    "name": "ipython",
    "version": 3
   },
   "file_extension": ".py",
   "mimetype": "text/x-python",
   "name": "python",
   "nbconvert_exporter": "python",
   "pygments_lexer": "ipython3",
   "version": "3.5.1"
  }
 },
 "nbformat": 4,
 "nbformat_minor": 0
}
