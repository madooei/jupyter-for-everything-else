{
 "cells": [
  {
   "cell_type": "markdown",
   "metadata": {},
   "source": [
    "# Test notebook for Metakernel_bash\n",
    "\n",
    "## Setup\n"
   ]
  },
  {
   "cell_type": "code",
   "execution_count": 1,
   "metadata": {
    "collapsed": false
   },
   "outputs": [
    {
     "data": {},
     "execution_count": 1,
     "metadata": {},
     "output_type": "execute_result"
    }
   ],
   "source": [
    "# Functions to reload local metakernelrcs:\n",
    "function reread_local_metakernelrc { source /home/mjbright/src/git/GIT_mjbright/metakernel/metakernel_bash/metakernelrc; }\n",
    "function reread_local_user_metakernelrc { source /home/mjbright/src/git/GIT_mjbright/metakernel/metakernel_bash/metakernelrc.user; }"
   ]
  },
  {
   "cell_type": "code",
   "execution_count": 2,
   "metadata": {
    "collapsed": false
   },
   "outputs": [
    {
     "data": {
      "text/plain": [
       "/home/mjbright/src/git/GIT_mjbright/jupyter-for-everything-else"
      ]
     },
     "execution_count": 2,
     "metadata": {},
     "output_type": "execute_result"
    }
   ],
   "source": [
    "pwd"
   ]
  },
  {
   "cell_type": "code",
   "execution_count": 3,
   "metadata": {
    "collapsed": false
   },
   "outputs": [
    {
     "data": {
      "text/plain": [
       "c:/tools/cygwin"
      ]
     },
     "execution_count": 3,
     "metadata": {},
     "output_type": "execute_result"
    }
   ],
   "source": [
    "echo $ROOT_PATH_PREFIX"
   ]
  },
  {
   "cell_type": "code",
   "execution_count": 4,
   "metadata": {
    "collapsed": false
   },
   "outputs": [
    {
     "data": {
      "text/plain": [
       "[Tue, Jul 05, 2016 12:32:36 PM] Sourcing <<C:/Progs/Anaconda3/lib/site-packages/metakernel-0.12.6-py3.5.egg/rcfiles/metakernelrc>>"
      ]
     },
     "execution_count": 4,
     "metadata": {},
     "output_type": "execute_result"
    }
   ],
   "source": [
    "reread_metakernelrc"
   ]
  },
  {
   "cell_type": "code",
   "execution_count": 5,
   "metadata": {
    "collapsed": false
   },
   "outputs": [
    {
     "data": {
      "text/plain": [
       "[Tue, Jul 05, 2016 12:32:36 PM] Sourcing <</home/mjbright/.metakernelrc>>"
      ]
     },
     "execution_count": 5,
     "metadata": {},
     "output_type": "execute_result"
    }
   ],
   "source": [
    "reread_user_metakernelrc"
   ]
  },
  {
   "cell_type": "markdown",
   "metadata": {},
   "source": [
    "## Javascript magics"
   ]
  },
  {
   "cell_type": "code",
   "execution_count": 6,
   "metadata": {
    "collapsed": false
   },
   "outputs": [
    {
     "data": {
      "application/javascript": [
       "- console.log(\"Print in the browser console via \\\"%javascript magic (console.log)\\\"\")"
      ],
      "text/plain": [
       "<IPython.core.display.Javascript object>"
      ]
     },
     "metadata": {},
     "output_type": "display_data"
    },
    {
     "data": {
      "application/javascript": [
       "- window.alert(\"Show this popup via \\\"%javascript magic (alert())\\\"\")"
      ],
      "text/plain": [
       "<IPython.core.display.Javascript object>"
      ]
     },
     "metadata": {},
     "output_type": "display_data"
    }
   ],
   "source": [
    "%javascript console.log(\"Print in the browser console - via \\\"%javascript magic (console.log)\\\"\")\n",
    "%javascript window.alert(\"Show this popup - via \\\"%javascript magic (alert())\\\"\")"
   ]
  },
  {
   "cell_type": "code",
   "execution_count": 7,
   "metadata": {
    "collapsed": false
   },
   "outputs": [
    {
     "data": {
      "application/javascript": [
       "window.alert('hello world - via \"window.alert() | js\"')\n"
      ],
      "text/plain": [
       "<IPython.core.display.Javascript object>"
      ]
     },
     "metadata": {},
     "output_type": "display_data"
    }
   ],
   "source": [
    "echo \"window.alert('hello world - via \\\"window.alert() | js\\\"')\" | js"
   ]
  },
  {
   "cell_type": "code",
   "execution_count": 8,
   "metadata": {
    "collapsed": false
   },
   "outputs": [
    {
     "data": {
      "application/javascript": [
       "window.alert('hello world - via \"window.alert() | js\"')\n"
      ],
      "text/plain": [
       "<IPython.core.display.Javascript object>"
      ]
     },
     "metadata": {},
     "output_type": "display_data"
    }
   ],
   "source": [
    "# TODO: need to interpret (display) returned object: <IPython.core.display.Javascript object>\n",
    "\n",
    "js \"window.alert('hello world - via \\\"window.alert() | js\\\"')\""
   ]
  },
  {
   "cell_type": "markdown",
   "metadata": {},
   "source": [
    "## Python magics"
   ]
  },
  {
   "cell_type": "code",
   "execution_count": 9,
   "metadata": {
    "collapsed": false
   },
   "outputs": [
    {
     "name": "stdout",
     "output_type": "stream",
     "text": [
      "hello world from Python v3.5.1(final)\n"
     ]
    }
   ],
   "source": [
    "# TODO: ???\n",
    "\n",
    "PYTHON \"import sys; print('hello world from Python v{}.{}.{}({})'.format(sys.version_info[0],sys.version_info[1],sys.version_info[2],sys.version_info[3]))\""
   ]
  },
  {
   "cell_type": "code",
   "execution_count": 10,
   "metadata": {
    "collapsed": false
   },
   "outputs": [
    {
     "name": "stdout",
     "output_type": "stream",
     "text": [
      "hello world from Python v3.5.1(final)\n"
     ]
    }
   ],
   "source": [
    "echo \"import sys; print('hello world from Python v{}.{}.{}({})'.format(sys.version_info[0],sys.version_info[1],sys.version_info[2],sys.version_info[3]))\" | PYTHON"
   ]
  },
  {
   "cell_type": "markdown",
   "metadata": {},
   "source": [
    "## HTML magics"
   ]
  },
  {
   "cell_type": "code",
   "execution_count": 11,
   "metadata": {
    "collapsed": false
   },
   "outputs": [
    {
     "data": {
      "text/html": [
       "<h1>An html header <!-- A comment --></h1>\n"
      ],
      "text/plain": [
       "<IPython.core.display.HTML object>"
      ]
     },
     "metadata": {},
     "output_type": "display_data"
    }
   ],
   "source": [
    "# TODO: need to interpret (display) returned object: <IPython.core.display.HTML object>\n",
    "\n",
    "html \"<h1>An html header <!-- A comment --></h1>\""
   ]
  },
  {
   "cell_type": "code",
   "execution_count": 12,
   "metadata": {
    "collapsed": false
   },
   "outputs": [
    {
     "data": {
      "text/html": [
       "<h1>A table <!-- A comment --></h1>\n",
       "\n",
       "<table><tr><th>col1</th>\n",
       "\n",
       "<th>col2</th>\n",
       "\n",
       "<th>col3</th>\n",
       "\n",
       "<th>col4</th>\n",
       "\n",
       "</tr>\n",
       "\n",
       "<tr><td>val1</td>\n",
       "\n",
       "    <td>val2</td>\n",
       "\n",
       "    <td>val3</td>\n",
       "\n",
       "    <td>val4</td>\n",
       "\n",
       "</tr>\n",
       "\n",
       "<tr><td>valu1</td>\n",
       "\n",
       "    <td>value2</td>\n",
       "\n",
       "    <td>value3</td>\n",
       "\n",
       "    <td>val4</td>\n",
       "\n",
       "</tr></table>\n"
      ],
      "text/plain": [
       "<IPython.core.display.HTML object>"
      ]
     },
     "metadata": {},
     "output_type": "display_data"
    }
   ],
   "source": [
    "echo \"<h1>A table <!-- A comment --></h1>\n",
    "<table><tr><th>col1</th>\n",
    "<th>col2</th>\n",
    "<th>col3</th>\n",
    "<th>col4</th>\n",
    "</tr>\n",
    "<tr><td>val1</td>\n",
    "    <td>val2</td>\n",
    "    <td>val3</td>\n",
    "    <td>val4</td>\n",
    "</tr>\n",
    "<tr><td>valu1</td>\n",
    "    <td>value2</td>\n",
    "    <td>value3</td>\n",
    "    <td>val4</td>\n",
    "</tr></table>\" | html"
   ]
  },
  {
   "cell_type": "markdown",
   "metadata": {},
   "source": [
    "## Image display magics"
   ]
  },
  {
   "cell_type": "code",
   "execution_count": 13,
   "metadata": {
    "collapsed": false,
    "slideshow": {
     "slide_type": "-"
    }
   },
   "outputs": [
    {
     "data": {},
     "execution_count": 13,
     "metadata": {},
     "output_type": "execute_result"
    }
   ],
   "source": [
    "#display < /cygdrive/c/HP/drivers/touchpad/img_clicking.png"
   ]
  },
  {
   "cell_type": "code",
   "execution_count": 14,
   "metadata": {
    "collapsed": false
   },
   "outputs": [
    {
     "data": {
      "image/png": "[encoded data removed]"
     },
     "metadata": {},
     "output_type": "display_data"
    },
    {
     "data": {
      "text/plain": [
       "\n"
      ]
     },
     "execution_count": 14,
     "metadata": {},
     "output_type": "execute_result"
    }
   ],
   "source": [
    "display /cygdrive/c/HP/drivers/touchpad/img_clicking.png"
   ]
  },
  {
   "cell_type": "code",
   "execution_count": null,
   "metadata": {
    "collapsed": false
   },
   "outputs": [],
   "source": [
    "#display http://smallbang.fr/wp-content/themes/nemesis/images/icon_link.png"
   ]
  },
  {
   "cell_type": "markdown",
   "metadata": {},
   "source": [
    "## CSV data - Graphics\n",
    "\n",
    "Below data and initial csv_linechart copied/adapted from one of [d3noobs blocks](http://bl.ocks.org/d3noob) here:\n",
    " http://bl.ocks.org/d3noob/b3ff6ae1c120eea654b5"
   ]
  },
  {
   "cell_type": "code",
   "execution_count": 16,
   "metadata": {
    "collapsed": false
   },
   "outputs": [
    {
     "name": "stdout",
     "output_type": "stream",
     "text": [
      "Created file 'C:\\tools\\cygwin\\home\\mjbright\\src\\git\\GIT_mjbright\\jupyter-for-everything-else\\data.csv'.\n"
     ]
    }
   ],
   "source": [
    "%%file data.csv\n",
    "xValue,yValue\n",
    "1,10\n",
    "2,20\n",
    "3,30\n",
    "4,20\n",
    "5,10\n",
    "6,0"
   ]
  },
  {
   "cell_type": "code",
   "execution_count": 17,
   "metadata": {
    "collapsed": false
   },
   "outputs": [
    {
     "name": "stdout",
     "output_type": "stream",
     "text": [
      "Created file 'C:\\tools\\cygwin\\home\\mjbright\\src\\git\\GIT_mjbright\\jupyter-for-everything-else\\date_trend.csv'.\n"
     ]
    }
   ],
   "source": [
    "%%file date_trend.csv\n",
    "date,yValue\n",
    "1-May-12,58.13\n",
    "30-Apr-12,53.98\n",
    "27-Apr-12,67.00\n",
    "26-Apr-12,89.70\n",
    "25-Apr-12,99.00\n",
    "24-Apr-12,130.28\n",
    "23-Apr-12,166.70\n",
    "20-Apr-12,234.98\n",
    "19-Apr-12,345.44\n",
    "18-Apr-12,443.34\n",
    "17-Apr-12,543.70\n",
    "16-Apr-12,580.13\n",
    "13-Apr-12,605.23\n",
    "12-Apr-12,622.77\n",
    "11-Apr-12,626.20\n",
    "10-Apr-12,628.44\n",
    "9-Apr-12,636.23\n",
    "5-Apr-12,633.68\n",
    "4-Apr-12,624.31\n",
    "3-Apr-12,629.32\n",
    "2-Apr-12,618.63\n",
    "30-Mar-12,599.55\n",
    "29-Mar-12,609.86\n",
    "28-Mar-12,617.62\n",
    "27-Mar-12,614.48\n",
    "26-Mar-12,606.98"
   ]
  },
  {
   "cell_type": "markdown",
   "metadata": {},
   "source": [
    "How about displaying that csv data in d3.js, called from a bash function?"
   ]
  },
  {
   "cell_type": "code",
   "execution_count": 18,
   "metadata": {
    "collapsed": false
   },
   "outputs": [
    {
     "data": {
      "text/html": [
       "<!DOCTYPE html>\n",
       "\n",
       "<meta charset=\"utf-8\">\n",
       "\n",
       "<style> /* set the CSS */\n",
       "\n",
       "\n",
       "\n",
       "body { font: 12px Arial;}\n",
       "\n",
       "\n",
       "\n",
       "path { \n",
       "\n",
       "    stroke: steelblue;\n",
       "\n",
       "    stroke-width: 2;\n",
       "\n",
       "    fill: none;\n",
       "\n",
       "}\n",
       "\n",
       "\n",
       "\n",
       ".axis path,\n",
       "\n",
       ".axis line {\n",
       "\n",
       "    fill: none;\n",
       "\n",
       "    stroke: grey;\n",
       "\n",
       "    stroke-width: 1;\n",
       "\n",
       "    shape-rendering: crispEdges;\n",
       "\n",
       "}\n",
       "\n",
       "\n",
       "\n",
       "</style>\n",
       "\n",
       "<div id=\"myd3_date_linechart\">\n",
       "\n",
       "\n",
       "\n",
       "<!-- load the d3.js library -->    \n",
       "\n",
       "<script src=\"http://d3js.org/d3.v3.min.js\"></script>\n",
       "\n",
       "\n",
       "\n",
       "<script>\n",
       "\n",
       "\n",
       "\n",
       "// Set the dimensions of the canvas / graph\n",
       "\n",
       "var margin = {top: 30, right: 20, bottom: 30, left: 50},\n",
       "\n",
       "    width = 600 - margin.left - margin.right,\n",
       "\n",
       "    height = 270 - margin.top - margin.bottom;\n",
       "\n",
       "\n",
       "\n",
       "// Parse the date / time\n",
       "\n",
       "var parseDate = d3.time.format(\"%d-%b-%y\").parse;\n",
       "\n",
       "\n",
       "\n",
       "// Set the ranges\n",
       "\n",
       "var x = d3.time.scale().range([0, width]);\n",
       "\n",
       "var y = d3.scale.linear().range([height, 0]);\n",
       "\n",
       "\n",
       "\n",
       "// Define the axes\n",
       "\n",
       "var xAxis = d3.svg.axis().scale(x)\n",
       "\n",
       "    .orient(\"bottom\").ticks(5);\n",
       "\n",
       "\n",
       "\n",
       "var yAxis = d3.svg.axis().scale(y)\n",
       "\n",
       "    .orient(\"left\").ticks(5);\n",
       "\n",
       "\n",
       "\n",
       "// Define the line\n",
       "\n",
       "var valueline = d3.svg.line()\n",
       "\n",
       "    .x(function(d) { return x(d.date); })\n",
       "\n",
       "    .y(function(d) { return y(d.yValue); });\n",
       "\n",
       "    \n",
       "\n",
       "// Adds the svg canvas\n",
       "\n",
       "var svg = d3.select(\"#myd3_date_linechart\")\n",
       "\n",
       "    .append(\"svg\")\n",
       "\n",
       "        .attr(\"width\", width + margin.left + margin.right)\n",
       "\n",
       "        .attr(\"height\", height + margin.top + margin.bottom)\n",
       "\n",
       "    .append(\"g\")\n",
       "\n",
       "        .attr(\"transform\", \n",
       "\n",
       "              \"translate(\" + margin.left + \",\" + margin.top + \")\");\n",
       "\n",
       "\n",
       "\n",
       "// Get the data\n",
       "\n",
       "d3.csv(\"tmp/image.VB7iuj\", function(error, data) {\n",
       "\n",
       "    data.forEach(function(d) {\n",
       "\n",
       "        d.date = parseDate(d.date);\n",
       "\n",
       "        d.yValue = +d.yValue;\n",
       "\n",
       "    });\n",
       "\n",
       "\n",
       "\n",
       "    // Scale the range of the data\n",
       "\n",
       "    x.domain(d3.extent(data, function(d) { return d.date; }));\n",
       "\n",
       "    y.domain([0, d3.max(data, function(d) { return d.yValue; })]);\n",
       "\n",
       "\n",
       "\n",
       "    // Add the valueline path.\n",
       "\n",
       "    svg.append(\"path\")\n",
       "\n",
       "        .attr(\"class\", \"line\")\n",
       "\n",
       "        .attr(\"d\", valueline(data));\n",
       "\n",
       "\n",
       "\n",
       "    // Add the X Axis\n",
       "\n",
       "    svg.append(\"g\")\n",
       "\n",
       "        .attr(\"class\", \"x axis\")\n",
       "\n",
       "        .attr(\"transform\", \"translate(0,\" + height + \")\")\n",
       "\n",
       "        .call(xAxis);\n",
       "\n",
       "\n",
       "\n",
       "    // Add the Y Axis\n",
       "\n",
       "    svg.append(\"g\")\n",
       "\n",
       "        .attr(\"class\", \"y axis\")\n",
       "\n",
       "        .call(yAxis);\n",
       "\n",
       "\n",
       "\n",
       "});\n",
       "\n",
       "\n",
       "\n",
       "</script>\n",
       "\n",
       "</div>\n",
       "\n",
       "\n"
      ],
      "text/plain": [
       "<IPython.core.display.HTML object>"
      ]
     },
     "metadata": {},
     "output_type": "display_data"
    }
   ],
   "source": [
    "csv_date_linechart date_trend.csv"
   ]
  },
  {
   "cell_type": "code",
   "execution_count": 19,
   "metadata": {
    "collapsed": false
   },
   "outputs": [
    {
     "data": {
      "text/html": [
       "<!DOCTYPE html>\n",
       "\n",
       "<meta charset=\"utf-8\">\n",
       "\n",
       "<style> /* set the CSS */\n",
       "\n",
       "\n",
       "\n",
       "body { font: 12px Arial;}\n",
       "\n",
       "\n",
       "\n",
       "path { \n",
       "\n",
       "    stroke: steelblue;\n",
       "\n",
       "    stroke-width: 2;\n",
       "\n",
       "    fill: none;\n",
       "\n",
       "}\n",
       "\n",
       "\n",
       "\n",
       ".axis path,\n",
       "\n",
       ".axis line {\n",
       "\n",
       "    fill: none;\n",
       "\n",
       "    stroke: grey;\n",
       "\n",
       "    stroke-width: 1;\n",
       "\n",
       "    shape-rendering: crispEdges;\n",
       "\n",
       "}\n",
       "\n",
       "\n",
       "\n",
       "</style>\n",
       "\n",
       "<div id=\"myd3_linechart\">\n",
       "\n",
       "\n",
       "\n",
       "<!-- load the d3.js library -->    \n",
       "\n",
       "<script src=\"http://d3js.org/d3.v3.min.js\"></script>\n",
       "\n",
       "\n",
       "\n",
       "<script>\n",
       "\n",
       "\n",
       "\n",
       "// Set the dimensions of the canvas / graph\n",
       "\n",
       "var margin = {top: 30, right: 20, bottom: 30, left: 50},\n",
       "\n",
       "    width = 600 - margin.left - margin.right,\n",
       "\n",
       "    height = 270 - margin.top - margin.bottom;\n",
       "\n",
       "\n",
       "\n",
       "// Set the ranges\n",
       "\n",
       "var x = d3.scale.linear().range([0, width]);\n",
       "\n",
       "var y = d3.scale.linear().range([height, 0]);\n",
       "\n",
       "\n",
       "\n",
       "// Define the axes\n",
       "\n",
       "var xAxis = d3.svg.axis().scale(x)\n",
       "\n",
       "    .orient(\"bottom\").ticks(5);\n",
       "\n",
       "\n",
       "\n",
       "var yAxis = d3.svg.axis().scale(y)\n",
       "\n",
       "    .orient(\"left\").ticks(5);\n",
       "\n",
       "\n",
       "\n",
       "// Define the line\n",
       "\n",
       "var valueline = d3.svg.line()\n",
       "\n",
       "    .x(function(d) { return x(d.xValue); })\n",
       "\n",
       "    .y(function(d) { return y(d.yValue); });\n",
       "\n",
       "    \n",
       "\n",
       "// Adds the svg canvas\n",
       "\n",
       "var svg = d3.select(\"#myd3_linechart\")\n",
       "\n",
       "    .append(\"svg\")\n",
       "\n",
       "        .attr(\"width\", width + margin.left + margin.right)\n",
       "\n",
       "        .attr(\"height\", height + margin.top + margin.bottom)\n",
       "\n",
       "    .append(\"g\")\n",
       "\n",
       "        .attr(\"transform\", \n",
       "\n",
       "              \"translate(\" + margin.left + \",\" + margin.top + \")\");\n",
       "\n",
       "\n",
       "\n",
       "// Get the data\n",
       "\n",
       "d3.csv(\"tmp/image.VB7iuj\", function(error, data) {\n",
       "\n",
       "    data.forEach(function(d) {\n",
       "\n",
       "        d.xValue = d.xValue;\n",
       "\n",
       "        d.yValue = +d.yValue;\n",
       "\n",
       "    });\n",
       "\n",
       "\n",
       "\n",
       "    // Scale the range of the data\n",
       "\n",
       "    x.domain(d3.extent(data, function(d) { return d.xValue; }));\n",
       "\n",
       "    y.domain([0, d3.max(data, function(d) { return d.yValue; })]);\n",
       "\n",
       "\n",
       "\n",
       "    // Add the valueline path.\n",
       "\n",
       "    svg.append(\"path\")\n",
       "\n",
       "        .attr(\"class\", \"line\")\n",
       "\n",
       "        .attr(\"d\", valueline(data));\n",
       "\n",
       "\n",
       "\n",
       "    // Add the X Axis\n",
       "\n",
       "    svg.append(\"g\")\n",
       "\n",
       "        .attr(\"class\", \"x axis\")\n",
       "\n",
       "        .attr(\"transform\", \"translate(0,\" + height + \")\")\n",
       "\n",
       "        .call(xAxis);\n",
       "\n",
       "\n",
       "\n",
       "    // Add the Y Axis\n",
       "\n",
       "    svg.append(\"g\")\n",
       "\n",
       "        .attr(\"class\", \"y axis\")\n",
       "\n",
       "        .call(yAxis);\n",
       "\n",
       "\n",
       "\n",
       "});\n",
       "\n",
       "\n",
       "\n",
       "</script>\n",
       "\n",
       "</div>\n",
       "\n",
       "\n"
      ],
      "text/plain": [
       "<IPython.core.display.HTML object>"
      ]
     },
     "metadata": {},
     "output_type": "display_data"
    }
   ],
   "source": [
    "cat data.csv | csv_linechart"
   ]
  },
  {
   "cell_type": "code",
   "execution_count": 20,
   "metadata": {
    "collapsed": false
   },
   "outputs": [
    {
     "data": {
      "text/plain": [
       "xValue,yValue\n",
       "0,jupyter.log\n",
       "0,jupyter.log.bak\n",
       "1,2015-Oct-17_Pyconfr_Pau_IPython_vers_Jupyter\n",
       "1,clouds.yaml\n",
       "1,data.csv\n",
       "1,date_trend.csv\n",
       "1,disk_usage.csv\n",
       "1,lightning_test.py\n",
       "1,pop_age.csv\n",
       "1,README.md\n",
       "1,reveal.js\n",
       "1,test.dot\n",
       "4,Dockerfile\n",
       "4,Example_Coconut.ipynb\n",
       "4,Python3_example.ipynb\n",
       "6,env\n",
       "17,d3-colorpicker\n",
       "20,OpenStack_Monitoring_Py3.ipynb\n",
       "24,2015-Oct-17_Pyconfr_Pau_IPython_vers_Jupyter.ipynb\n",
       "24,example1_graph.png\n",
       "29,__pycache__\n",
       "38,scripts\n",
       "38,xkcd\n",
       "64,openstack_errorlog.txt\n",
       "80,PRESENTATION-JupyterForEverythingElse-2016-07-04_Unreliable.ipynb\n",
       "96,PRESENTATION-JupyterForEverythingElse.ipynb\n",
       "100,RISE_themes\n",
       "106,modules\n",
       "120,CSS_Graphics_and_Charts.ipynb\n",
       "180,TEST_Metakernel_bash.ipynb\n",
       "236,OTHER\n",
       "336,pie.html\n",
       "368,tmp\n",
       "596,lightning-examples\n",
       "934,Demos\n",
       "2057,Experiments\n",
       "3448,images\n",
       "7500,lightning-example-notebooks\n",
       "14241,node_modules\n",
       "16695,js\n",
       "20955,stitchfix-d3-jupyter-tutorial\n",
       "24367,OLD"
      ]
     },
     "execution_count": 20,
     "metadata": {},
     "output_type": "execute_result"
    }
   ],
   "source": [
    "du -s * | sort -n | awk 'BEGIN { print \"xValue,yValue\"; }; { print $1\",\"$2; }'"
   ]
  },
  {
   "cell_type": "code",
   "execution_count": 21,
   "metadata": {
    "collapsed": false
   },
   "outputs": [
    {
     "data": {
      "text/plain": [
       "[Tue, Jul 05, 2016 12:32:42 PM] Sourcing <</home/mjbright/.metakernelrc>>"
      ]
     },
     "execution_count": 21,
     "metadata": {},
     "output_type": "execute_result"
    }
   ],
   "source": [
    "source ~/.metakernelrc"
   ]
  },
  {
   "cell_type": "code",
   "execution_count": 22,
   "metadata": {
    "collapsed": false
   },
   "outputs": [
    {
     "name": "stdout",
     "output_type": "stream",
     "text": [
      "Created file 'C:\\tools\\cygwin\\home\\mjbright\\src\\git\\GIT_mjbright\\jupyter-for-everything-else\\pop_age.csv'.\n"
     ]
    }
   ],
   "source": [
    "%%file pop_age.csv\n",
    "age,population\n",
    "<5,2704659\n",
    "5-13,4499890\n",
    "14-17,2159981\n",
    "18-24,3853788\n",
    "25-44,14106543\n",
    "45-64,8819342\n",
    ">65,612463"
   ]
  },
  {
   "cell_type": "code",
   "execution_count": 23,
   "metadata": {
    "collapsed": false
   },
   "outputs": [
    {
     "data": {
      "text/plain": [
       "-rw-r--r-- 1 mjbright Domain Users 188 Jul  5 12:30 disk_usage.csv\n",
       "-rwxr-xr-x 1 mjbright Domain Users  48 Jul  5 12:32 data.csv\n",
       "-rwxr-xr-x 1 mjbright Domain Users 468 Jul  5 12:32 date_trend.csv\n",
       "-rwxr-xr-x 1 mjbright Domain Users 113 Jul  5 12:32 pop_age.csv"
      ]
     },
     "execution_count": 23,
     "metadata": {},
     "output_type": "execute_result"
    }
   ],
   "source": [
    "ls -altr *.csv"
   ]
  },
  {
   "cell_type": "code",
   "execution_count": 24,
   "metadata": {
    "collapsed": false
   },
   "outputs": [
    {
     "data": {
      "text/html": [
       "\n",
       "\n",
       "<!DOCTYPE html>\n",
       "\n",
       "<meta charset=\"utf-8\">\n",
       "\n",
       "<style>\n",
       "\n",
       "\n",
       "\n",
       ".arc text {\n",
       "\n",
       "  font: 10px sans-serif;\n",
       "\n",
       "  text-anchor: middle;\n",
       "\n",
       "}\n",
       "\n",
       "\n",
       "\n",
       ".arc path {\n",
       "\n",
       "  stroke: #fff;\n",
       "\n",
       "}\n",
       "\n",
       "\n",
       "\n",
       "</style>\n",
       "\n",
       "<div id=\"csv_d3piechart_1467714763\">\n",
       "\n",
       "</div>\n",
       "\n",
       "<script src=\"//d3js.org/d3.v3.min.js\"></script>\n",
       "\n",
       "<script>\n",
       "\n",
       "\n",
       "\n",
       "var width = 960,\n",
       "\n",
       "    height = 500,\n",
       "\n",
       "    radius = Math.min(width, height) / 2;\n",
       "\n",
       "\n",
       "\n",
       "    //.range([\"#98abc5\", \"#8a89a6\", \"#7b6888\", \"#6b486b\", \"#a05d56\", \"#d0743c\", \"#ff8c00\"]);\n",
       "\n",
       "var color = d3.scale.ordinal()\n",
       "\n",
       " .range([\"#98abc5\", \"#8a89a6\", \"#7b6888\", \"#6b486b\", \"#a05d56\", \"#d0743c\", \"#ff8c00\", \"#333333\", \"#336666\", \"#339999\"]);\n",
       "\n",
       "\n",
       "\n",
       "var arc = d3.svg.arc()\n",
       "\n",
       "    .outerRadius(radius - 10)\n",
       "\n",
       "    .innerRadius(0);\n",
       "\n",
       "\n",
       "\n",
       "var labelArc = d3.svg.arc()\n",
       "\n",
       "    .outerRadius(radius - 40)\n",
       "\n",
       "    .innerRadius(radius - 40);\n",
       "\n",
       "\n",
       "\n",
       "var pie = d3.layout.pie()\n",
       "\n",
       "    .sort(null)\n",
       "\n",
       "    .value(function(d) { return d.value; });\n",
       "\n",
       "\n",
       "\n",
       "var svg = d3.select(\"#csv_d3piechart_1467714763\").append(\"svg\")\n",
       "\n",
       "    .attr(\"width\", width)\n",
       "\n",
       "    .attr(\"height\", height)\n",
       "\n",
       "  .append(\"g\")\n",
       "\n",
       "    .attr(\"transform\", \"translate(\" + width / 2 + \",\" + height / 2 + \")\");\n",
       "\n",
       "\n",
       "\n",
       "d3.csv(\"tmp/csv_d3piechart.dn2AKw\", type, function(error, data) {\n",
       "\n",
       "  if (error) throw error;\n",
       "\n",
       "\n",
       "\n",
       "  var g = svg.selectAll(\".arc\")\n",
       "\n",
       "      .data(pie(data))\n",
       "\n",
       "    .enter().append(\"g\")\n",
       "\n",
       "      .attr(\"class\", \"arc\");\n",
       "\n",
       "\n",
       "\n",
       "  g.append(\"path\")\n",
       "\n",
       "      .attr(\"d\", arc)\n",
       "\n",
       "      .style(\"fill\", function(d) { return color(d.value); }); // color based on value\n",
       "\n",
       "\n",
       "\n",
       "  g.append(\"text\")\n",
       "\n",
       "      .attr(\"transform\", function(d) { return \"translate(\" + labelArc.centroid(d) + \")\"; })\n",
       "\n",
       "      .attr(\"dy\", \".35em\")\n",
       "\n",
       "      .text(function(d) { return \"\"+d.data.item+\"  \"+d.value+\" by\"; });\n",
       "\n",
       "});\n",
       "\n",
       "\n",
       "\n",
       "function type(d) {\n",
       "\n",
       "  d.value = +d.value;\n",
       "\n",
       "  return d;\n",
       "\n",
       "}\n",
       "\n",
       "\n",
       "\n",
       "</script>\n",
       "\n",
       "\n",
       "\n",
       "\n"
      ],
      "text/plain": [
       "<IPython.core.display.HTML object>"
      ]
     },
     "metadata": {},
     "output_type": "display_data"
    }
   ],
   "source": [
    "csv_d3piechart pop_age.csv"
   ]
  },
  {
   "cell_type": "code",
   "execution_count": 25,
   "metadata": {
    "collapsed": false
   },
   "outputs": [
    {
     "data": {
      "text/plain": [
       "[Tue, Jul 05, 2016 12:32:43 PM] Sourcing <</home/mjbright/.metakernelrc>>"
      ]
     },
     "execution_count": 25,
     "metadata": {},
     "output_type": "execute_result"
    }
   ],
   "source": [
    "source ~/.metakernelrc"
   ]
  },
  {
   "cell_type": "code",
   "execution_count": 26,
   "metadata": {
    "collapsed": false
   },
   "outputs": [
    {
     "data": {},
     "execution_count": 26,
     "metadata": {},
     "output_type": "execute_result"
    }
   ],
   "source": [
    "(echo \"item,value\"; du -s * | sort -nr | head -10 | awk '{ print $2\",\"$1;}') > disk_usage.csv"
   ]
  },
  {
   "cell_type": "code",
   "execution_count": 27,
   "metadata": {
    "collapsed": false
   },
   "outputs": [
    {
     "data": {
      "text/plain": [
       "-rwxr-xr-x 1 mjbright Domain Users  48 Jul  5 12:32 data.csv\n",
       "-rwxr-xr-x 1 mjbright Domain Users 468 Jul  5 12:32 date_trend.csv\n",
       "-rwxr-xr-x 1 mjbright Domain Users 113 Jul  5 12:32 pop_age.csv\n",
       "-rw-r--r-- 1 mjbright Domain Users 188 Jul  5 12:32 disk_usage.csv\n",
       "item,value\n",
       "OLD,24367\n",
       "stitchfix-d3-jupyter-tutorial,20955\n",
       "js,16695\n",
       "node_modules,14241\n",
       "lightning-example-notebooks,7500\n",
       "images,3448\n",
       "Experiments,2057\n",
       "Demos,934\n",
       "lightning-examples,596\n",
       "tmp,373"
      ]
     },
     "execution_count": 27,
     "metadata": {},
     "output_type": "execute_result"
    }
   ],
   "source": [
    "ls -altr *.csv; cat disk_usage.csv"
   ]
  },
  {
   "cell_type": "code",
   "execution_count": 28,
   "metadata": {
    "collapsed": false
   },
   "outputs": [
    {
     "data": {
      "text/plain": [
       "[Tue, Jul 05, 2016 12:32:44 PM] Sourcing <</home/mjbright/.metakernelrc>>"
      ]
     },
     "execution_count": 28,
     "metadata": {},
     "output_type": "execute_result"
    }
   ],
   "source": [
    "source ~/.metakernelrc"
   ]
  },
  {
   "cell_type": "code",
   "execution_count": 29,
   "metadata": {
    "collapsed": false
   },
   "outputs": [
    {
     "data": {
      "text/html": [
       "\n",
       "\n",
       "<!DOCTYPE html>\n",
       "\n",
       "<meta charset=\"utf-8\">\n",
       "\n",
       "<style>\n",
       "\n",
       "\n",
       "\n",
       ".arc text {\n",
       "\n",
       "  font: 10px sans-serif;\n",
       "\n",
       "  text-anchor: middle;\n",
       "\n",
       "}\n",
       "\n",
       "\n",
       "\n",
       ".arc path {\n",
       "\n",
       "  stroke: #fff;\n",
       "\n",
       "}\n",
       "\n",
       "\n",
       "\n",
       "</style>\n",
       "\n",
       "<div id=\"csv_d3piechart_1467714765\">\n",
       "\n",
       "</div>\n",
       "\n",
       "<script src=\"//d3js.org/d3.v3.min.js\"></script>\n",
       "\n",
       "<script>\n",
       "\n",
       "\n",
       "\n",
       "var width = 960,\n",
       "\n",
       "    height = 500,\n",
       "\n",
       "    radius = Math.min(width, height) / 2;\n",
       "\n",
       "\n",
       "\n",
       "    //.range([\"#98abc5\", \"#8a89a6\", \"#7b6888\", \"#6b486b\", \"#a05d56\", \"#d0743c\", \"#ff8c00\"]);\n",
       "\n",
       "var color = d3.scale.ordinal()\n",
       "\n",
       " .range([\"#98abc5\", \"#8a89a6\", \"#7b6888\", \"#6b486b\", \"#a05d56\", \"#d0743c\", \"#ff8c00\", \"#333333\", \"#336666\", \"#339999\"]);\n",
       "\n",
       "\n",
       "\n",
       "var arc = d3.svg.arc()\n",
       "\n",
       "    .outerRadius(radius - 10)\n",
       "\n",
       "    .innerRadius(0);\n",
       "\n",
       "\n",
       "\n",
       "var labelArc = d3.svg.arc()\n",
       "\n",
       "    .outerRadius(radius - 40)\n",
       "\n",
       "    .innerRadius(radius - 40);\n",
       "\n",
       "\n",
       "\n",
       "var pie = d3.layout.pie()\n",
       "\n",
       "    .sort(null)\n",
       "\n",
       "    .value(function(d) { return d.value; });\n",
       "\n",
       "\n",
       "\n",
       "var svg = d3.select(\"#csv_d3piechart_1467714765\").append(\"svg\")\n",
       "\n",
       "    .attr(\"width\", width)\n",
       "\n",
       "    .attr(\"height\", height)\n",
       "\n",
       "  .append(\"g\")\n",
       "\n",
       "    .attr(\"transform\", \"translate(\" + width / 2 + \",\" + height / 2 + \")\");\n",
       "\n",
       "\n",
       "\n",
       "d3.csv(\"tmp/csv_d3piechart.lQOHOF\", type, function(error, data) {\n",
       "\n",
       "  if (error) throw error;\n",
       "\n",
       "\n",
       "\n",
       "  var g = svg.selectAll(\".arc\")\n",
       "\n",
       "      .data(pie(data))\n",
       "\n",
       "    .enter().append(\"g\")\n",
       "\n",
       "      .attr(\"class\", \"arc\");\n",
       "\n",
       "\n",
       "\n",
       "  g.append(\"path\")\n",
       "\n",
       "      .attr(\"d\", arc)\n",
       "\n",
       "      .style(\"fill\", function(d) { return color(d.value); }); // color based on value\n",
       "\n",
       "\n",
       "\n",
       "  g.append(\"text\")\n",
       "\n",
       "      .attr(\"transform\", function(d) { return \"translate(\" + labelArc.centroid(d) + \")\"; })\n",
       "\n",
       "      .attr(\"dy\", \".35em\")\n",
       "\n",
       "      .text(function(d) { return \"\"+d.data.item+\"  \"+d.value+\" by\"; });\n",
       "\n",
       "});\n",
       "\n",
       "\n",
       "\n",
       "function type(d) {\n",
       "\n",
       "  d.value = +d.value;\n",
       "\n",
       "  return d;\n",
       "\n",
       "}\n",
       "\n",
       "\n",
       "\n",
       "</script>\n",
       "\n",
       "\n",
       "\n",
       "\n"
      ],
      "text/plain": [
       "<IPython.core.display.HTML object>"
      ]
     },
     "metadata": {},
     "output_type": "display_data"
    }
   ],
   "source": [
    "csv_d3piechart disk_usage.csv"
   ]
  },
  {
   "cell_type": "markdown",
   "metadata": {},
   "source": [
    "# Using Lightning Visualization\n",
    "\n",
    "## From Python (from metakernel_bash)"
   ]
  },
  {
   "cell_type": "code",
   "execution_count": 30,
   "metadata": {
    "collapsed": false
   },
   "outputs": [
    {
     "name": "stdout",
     "output_type": "stream",
     "text": [
      "Lightning initialized\n",
      "Connected to server at http://public.lightning-viz.org\n"
     ]
    },
    {
     "name": "stderr",
     "output_type": "stream",
     "text": [
      "Traceback (most recent call last):\n",
      "  File \"C:\\Progs\\Anaconda3\\lib\\site-packages\\metakernel-0.12.6-py3.5.egg\\metakernel\\magics\\python_magic.py\", line 19, in exec_code\n",
      "    exec(code, env)\n",
      "  File \"<string>\", line 7, in <module>\n",
      "  File \"<string>\", line 1, in <lambda>\n",
      "  File \"C:\\Progs\\Anaconda3\\lib\\site-packages\\lightning\\types\\decorators.py\", line 27, in plotter\n",
      "    self.create_session()\n",
      "  File \"C:\\Progs\\Anaconda3\\lib\\site-packages\\lightning\\main.py\", line 104, in create_session\n",
      "    self.session = Session.create(self, name=name)\n",
      "  File \"C:\\Progs\\Anaconda3\\lib\\site-packages\\lightning\\session.py\", line 45, in create\n",
      "    return cls(lgn=lgn, json=r.json())\n",
      "  File \"C:\\Progs\\Anaconda3\\lib\\site-packages\\requests\\models.py\", line 812, in json\n",
      "    return complexjson.loads(self.text, **kwargs)\n",
      "  File \"C:\\Progs\\Anaconda3\\lib\\site-packages\\simplejson\\__init__.py\", line 516, in loads\n",
      "    return _default_decoder.decode(s)\n",
      "  File \"C:\\Progs\\Anaconda3\\lib\\site-packages\\simplejson\\decoder.py\", line 370, in decode\n",
      "    obj, end = self.raw_decode(s)\n",
      "  File \"C:\\Progs\\Anaconda3\\lib\\site-packages\\simplejson\\decoder.py\", line 400, in raw_decode\n",
      "    return self.scan_once(s, idx=_w(s, idx).end())\n",
      "simplejson.scanner.JSONDecodeError: Expecting value: line 1 column 1 (char 0)\n",
      "\n"
     ]
    }
   ],
   "source": [
    "%%python\n",
    "\n",
    "import IPython\n",
    "from lightning import Lightning\n",
    "lgn = Lightning(host=\"http://public.lightning-viz.org\")\n",
    "#lgn = Lightning(local=True)\n",
    "\n",
    "from numpy import random\n",
    "viz=lgn.line(random.random(100))\n",
    "\n",
    "html=viz.get_html()\n",
    "\n",
    "# NOTE: use of retval makes this html displayable:\n",
    "retval=IPython.display.HTML(html)"
   ]
  },
  {
   "cell_type": "code",
   "execution_count": 31,
   "metadata": {
    "collapsed": false
   },
   "outputs": [
    {
     "name": "stdout",
     "output_type": "stream",
     "text": [
      "Lightning initialized\n",
      "Connected to server at http://public.lightning-viz.org\n"
     ]
    },
    {
     "name": "stderr",
     "output_type": "stream",
     "text": [
      "Traceback (most recent call last):\n",
      "  File \"C:\\Progs\\Anaconda3\\lib\\site-packages\\metakernel-0.12.6-py3.5.egg\\metakernel\\magics\\python_magic.py\", line 19, in exec_code\n",
      "    exec(code, env)\n",
      "  File \"<string>\", line 12, in <module>\n",
      "  File \"<string>\", line 1, in <lambda>\n",
      "  File \"C:\\Progs\\Anaconda3\\lib\\site-packages\\lightning\\types\\decorators.py\", line 27, in plotter\n",
      "    self.create_session()\n",
      "  File \"C:\\Progs\\Anaconda3\\lib\\site-packages\\lightning\\main.py\", line 104, in create_session\n",
      "    self.session = Session.create(self, name=name)\n",
      "  File \"C:\\Progs\\Anaconda3\\lib\\site-packages\\lightning\\session.py\", line 45, in create\n",
      "    return cls(lgn=lgn, json=r.json())\n",
      "  File \"C:\\Progs\\Anaconda3\\lib\\site-packages\\requests\\models.py\", line 812, in json\n",
      "    return complexjson.loads(self.text, **kwargs)\n",
      "  File \"C:\\Progs\\Anaconda3\\lib\\site-packages\\simplejson\\__init__.py\", line 516, in loads\n",
      "    return _default_decoder.decode(s)\n",
      "  File \"C:\\Progs\\Anaconda3\\lib\\site-packages\\simplejson\\decoder.py\", line 370, in decode\n",
      "    obj, end = self.raw_decode(s)\n",
      "  File \"C:\\Progs\\Anaconda3\\lib\\site-packages\\simplejson\\decoder.py\", line 400, in raw_decode\n",
      "    return self.scan_once(s, idx=_w(s, idx).end())\n",
      "simplejson.scanner.JSONDecodeError: Expecting value: line 1 column 1 (char 0)\n",
      "\n"
     ]
    }
   ],
   "source": [
    "%%python\n",
    "# Doesn't work (can't use IPython display from metakernel_python magic)\n",
    "\n",
    "from lightning import Lightning\n",
    "\n",
    "from numpy import random, asarray\n",
    "\n",
    "#lgn = Lightning(ipython=True, host='http://public.lightning-viz.org')\n",
    "lgn = Lightning(ipython=False, host='http://public.lightning-viz.org')\n",
    "\n",
    "series = random.randn(5, 50)\n",
    "\n",
    "op = lgn.line(series)\n",
    "#print(op)\n",
    "#retval=op\n",
    "import IPython\n",
    "retval=IPython.display.HTML(op.get_html())"
   ]
  },
  {
   "cell_type": "markdown",
   "metadata": {},
   "source": [
    "## From a bash function:"
   ]
  },
  {
   "cell_type": "code",
   "execution_count": 32,
   "metadata": {
    "collapsed": false
   },
   "outputs": [
    {
     "data": {
      "text/plain": [
       "[Tue, Jul 05, 2016 12:32:46 PM] Sourcing <</home/mjbright/.metakernelrc>>"
      ]
     },
     "execution_count": 32,
     "metadata": {},
     "output_type": "execute_result"
    }
   ],
   "source": [
    "reread_user_metakernelrc"
   ]
  },
  {
   "cell_type": "code",
   "execution_count": 33,
   "metadata": {
    "collapsed": false
   },
   "outputs": [
    {
     "data": {
      "text/plain": [
       "c:/tools/cygwin"
      ]
     },
     "execution_count": 33,
     "metadata": {},
     "output_type": "execute_result"
    }
   ],
   "source": [
    "echo $ROOT_PATH_PREFIX"
   ]
  },
  {
   "cell_type": "code",
   "execution_count": 34,
   "metadata": {
    "collapsed": false
   },
   "outputs": [
    {
     "data": {
      "text/html": [
       "Lightning initialized\n",
       "\n",
       "Connected to server at http://public.lightning-viz.org\n",
       "\n",
       "Traceback (most recent call last):\n",
       "\n",
       "  File \"c:/tools/cygwin/tmp/metakernel_bash_kernel/_lightning_line_test.py\", line 12, in <module>\n",
       "\n",
       "    viz = lgn.line(series)\n",
       "\n",
       "  File \"<string>\", line 1, in <lambda>\n",
       "\n",
       "  File \"C:\\Progs\\Anaconda3\\lib\\site-packages\\lightning\\types\\decorators.py\", line 27, in plotter\n",
       "\n",
       "    self.create_session()\n",
       "\n",
       "  File \"C:\\Progs\\Anaconda3\\lib\\site-packages\\lightning\\main.py\", line 104, in create_session\n",
       "\n",
       "    self.session = Session.create(self, name=name)\n",
       "\n",
       "  File \"C:\\Progs\\Anaconda3\\lib\\site-packages\\lightning\\session.py\", line 45, in create\n",
       "\n",
       "    return cls(lgn=lgn, json=r.json())\n",
       "\n",
       "  File \"C:\\Progs\\Anaconda3\\lib\\site-packages\\requests\\models.py\", line 812, in json\n",
       "\n",
       "    return complexjson.loads(self.text, **kwargs)\n",
       "\n",
       "  File \"C:\\Progs\\Anaconda3\\lib\\site-packages\\simplejson\\__init__.py\", line 516, in loads\n",
       "\n",
       "    return _default_decoder.decode(s)\n",
       "\n",
       "  File \"C:\\Progs\\Anaconda3\\lib\\site-packages\\simplejson\\decoder.py\", line 370, in decode\n",
       "\n",
       "    obj, end = self.raw_decode(s)\n",
       "\n",
       "  File \"C:\\Progs\\Anaconda3\\lib\\site-packages\\simplejson\\decoder.py\", line 400, in raw_decode\n",
       "\n",
       "    return self.scan_once(s, idx=_w(s, idx).end())\n",
       "\n",
       "simplejson.scanner.JSONDecodeError: Expecting value: line 1 column 1 (char 0)\n"
      ],
      "text/plain": [
       "<IPython.core.display.HTML object>"
      ]
     },
     "metadata": {},
     "output_type": "display_data"
    }
   ],
   "source": [
    "lightning_line_test | html"
   ]
  },
  {
   "cell_type": "code",
   "execution_count": 35,
   "metadata": {
    "collapsed": false
   },
   "outputs": [
    {
     "data": {
      "text/plain": [
       "d.yValue; })]);\n",
       "\n",
       "    // Add the valueline path.\n",
       "    svg.append(\"path\")\n",
       "    csv_linechart is a function\n",
       "csv_linechart () \n",
       "{ \n",
       "    echo \"Invoked ${FUNCNAME[0]} $*\" 1>&2;\n",
       "    getinput_src \"${FUNCNAME[0]}\" \"$1\";\n",
       "    [ ! -d tmp ] && mkdir -p tmp;\n",
       "    cp $TMPFILE ./tmp/;\n",
       "    TMPFILE=tmp/${TMPFILE##*/};\n",
       "    echo \"csv_linechart: data file=$TMPFILE\";\n",
       "    HTMLSCRIPT=${ROOT_PATH_PREFIX}$TMPDIR/${FUNCNAME[0]}.html;\n",
       "    cat  > $HTMLSCRIPT <<EOF\n",
       "<!DOCTYPE html>\n",
       "<meta charset=\"utf-8\">\n",
       "<style> /* set the CSS */\n",
       "\n",
       "body { font: 12px Arial;}\n",
       "\n",
       "path { \n",
       "    stroke: steelblue;\n",
       "    stroke-width: 2;\n",
       "    fill: none;\n",
       "}\n",
       "\n",
       ".axis path,\n",
       ".axis line {\n",
       "    fill: none;\n",
       "    stroke: grey;\n",
       "    stroke-width: 1;\n",
       "    shape-rendering: crispEdges;\n",
       "}\n",
       "\n",
       "</style>\n",
       "<div id=\"myd3_linechart\">\n",
       "\n",
       "<!-- load the d3.js library -->    \n",
       "<script src=\"http://d3js.org/d3.v3.min.js\"></script>\n",
       "\n",
       "<script>\n",
       "\n",
       "// Set the dimensions of the canvas / graph\n",
       "var margin = {top: 30, right: 20, bottom: 30, left: 50},\n",
       "    width = 600 - margin.left - margin.right,\n",
       "    height = 270 - margin.top - margin.bottom;\n",
       "\n",
       "// Set the ranges\n",
       "var x = d3.scale.linear().range([0, width]);\n",
       "var y = d3.scale.linear().range([height, 0]);\n",
       "\n",
       "// Define the axes\n",
       "var xAxis = d3.svg.axis().scale(x)\n",
       "    .orient(\"bottom\").ticks(5);\n",
       "\n",
       "var yAxis = d3.svg.axis().scale(y)\n",
       "    .orient(\"left\").ticks(5);\n",
       "\n",
       "// Define the line\n",
       "var valueline = d3.svg.line()\n",
       "    .x(function(d) { return x(d.xValue); })\n",
       "    .y(function(d) { return y(d.yValue); });\n",
       "    \n",
       "// Adds the svg canvas\n",
       "var svg = d3.select(\"#myd3_linechart\")\n",
       "    .append(\"svg\")\n",
       "        .attr(\"width\", width + margin.left + margin.right)\n",
       "        .attr(\"height\", height + margin.top + margin.bottom)\n",
       "    .append(\"g\")\n",
       "        .attr(\"transform\", \n",
       "              \"translate(\" + margin.left + \",\" + margin.top + \")\");\n",
       "\n",
       "// Get the data\n",
       "d3.csv(\"$TMPFILE\", function(error, data) {\n",
       "    data.forEach(function(d) {\n",
       "        d.xValue = d.xValue;\n",
       "        d.yValue = +d.yValue;\n",
       "    });\n",
       "\n",
       "    // Scale the range of the data\n",
       "    x.domain(d3.extent(data, function(d) { return d.xValue; }));\n",
       "    y.domain([0, d3.max(data, function(d) { return    .attr(\"class\", \"line\")\n",
       "        .attr(\"d\", valueline(data));\n",
       "\n",
       "    // Add the X Axis\n",
       "    svg.append(\"g\")\n",
       "        .attr(\"class\", \"x axis\")\n",
       "        .attr(\"transform\", \"translate(0,\" + height + \")\")\n",
       "        .call(xAxis);\n",
       "\n",
       "    // Add the Y Axis\n",
       "    svg.append(\"g\")\n",
       "        .attr(\"class\", \"y axis\")\n",
       "        .call(yAxis);\n",
       "\n",
       "});\n",
       "\n",
       "</script>\n",
       "</div>\n",
       "\n",
       "EOF\n",
       "\n",
       "    cat $HTMLSCRIPT 2>&1 | tee $TMPDIR/${FUNCNAME[0]}.stdout | html\n",
       "}"
      ]
     },
     "execution_count": 35,
     "metadata": {},
     "output_type": "execute_result"
    }
   ],
   "source": [
    "type csv_linechart"
   ]
  },
  {
   "cell_type": "markdown",
   "metadata": {},
   "source": [
    "# Using Bokeh Visualization\n",
    "\n",
    "## From Python (from metakernel_bash)"
   ]
  },
  {
   "cell_type": "code",
   "execution_count": 36,
   "metadata": {
    "collapsed": false
   },
   "outputs": [
    {
     "data": {
      "text/html": [
       "\n",
       "<!DOCTYPE html>\n",
       "<html lang=\"en\">\n",
       "    <head>\n",
       "        <meta charset=\"utf-8\">\n",
       "        <title>my plot</title>\n",
       "        \n",
       "<link rel=\"stylesheet\" href=\"https://cdn.pydata.org/bokeh/release/bokeh-0.11.1.min.css\" type=\"text/css\" />\n",
       "        \n",
       "<script type=\"text/javascript\" src=\"https://cdn.pydata.org/bokeh/release/bokeh-0.11.1.min.js\"></script>\n",
       "<script type=\"text/javascript\">\n",
       "    Bokeh.set_log_level(\"info\");\n",
       "</script>\n",
       "    </head>\n",
       "    <body>\n",
       "        \n",
       "        <div class=\"plotdiv\" id=\"ccb5eb9e-47da-433f-bc8f-c69579163cb3\"></div>\n",
       "        \n",
       "        <script type=\"text/javascript\">\n",
       "            Bokeh.$(function() {\n",
       "            var docs_json = {\"959f7e12-d2e0-474d-ac14-e710f5003a53\":{\"roots\":{\"references\":[{\"attributes\":{\"plot\":{\"id\":\"5806546e-d454-4786-ac77-9898c854fe55\",\"subtype\":\"Figure\",\"type\":\"Plot\"}},\"id\":\"a30c60bd-5107-4c6b-8023-33b5359ed117\",\"type\":\"PreviewSaveTool\"},{\"attributes\":{\"plot\":{\"id\":\"5806546e-d454-4786-ac77-9898c854fe55\",\"subtype\":\"Figure\",\"type\":\"Plot\"}},\"id\":\"75c6ad67-d6fd-4279-9513-a65db6722765\",\"type\":\"HelpTool\"},{\"attributes\":{},\"id\":\"227abb84-ca77-4ad3-9432-21ed7369696b\",\"type\":\"BasicTickFormatter\"},{\"attributes\":{},\"id\":\"b0e10c94-989b-4213-b9de-be309686e303\",\"type\":\"ToolEvents\"},{\"attributes\":{\"callback\":null,\"column_names\":[\"y\",\"x\"],\"data\":{\"x\":[1,2],\"y\":[3,4]}},\"id\":\"275a2190-0221-4f57-a9b0-01e8eca63c60\",\"type\":\"ColumnDataSource\"},{\"attributes\":{\"fill_alpha\":{\"value\":0.1},\"fill_color\":{\"value\":\"#1f77b4\"},\"line_alpha\":{\"value\":0.1},\"line_color\":{\"value\":\"#1f77b4\"},\"x\":{\"field\":\"x\"},\"y\":{\"field\":\"y\"}},\"id\":\"f9385787-2002-4044-ba57-a0e73ad7f303\",\"type\":\"Circle\"},{\"attributes\":{\"callback\":null},\"id\":\"ae55fafe-9aa4-4ebb-b698-e39f3ca65c0e\",\"type\":\"DataRange1d\"},{\"attributes\":{\"overlay\":{\"id\":\"676c476a-5913-4f51-9413-25fe794b4786\",\"type\":\"BoxAnnotation\"},\"plot\":{\"id\":\"5806546e-d454-4786-ac77-9898c854fe55\",\"subtype\":\"Figure\",\"type\":\"Plot\"}},\"id\":\"7a585487-8f25-48c7-8ca0-55d93e9bc28f\",\"type\":\"BoxZoomTool\"},{\"attributes\":{\"plot\":{\"id\":\"5806546e-d454-4786-ac77-9898c854fe55\",\"subtype\":\"Figure\",\"type\":\"Plot\"}},\"id\":\"43b70098-fceb-4025-a12c-1ee970550a37\",\"type\":\"WheelZoomTool\"},{\"attributes\":{},\"id\":\"ffc80d70-b6b2-4ead-af41-6fb07caf6f43\",\"type\":\"BasicTicker\"},{\"attributes\":{\"below\":[{\"id\":\"7db95045-1410-46cc-b949-36ede5e3cacc\",\"type\":\"LinearAxis\"}],\"left\":[{\"id\":\"4785a311-40d9-4c01-941c-5d3684003203\",\"type\":\"LinearAxis\"}],\"renderers\":[{\"id\":\"7db95045-1410-46cc-b949-36ede5e3cacc\",\"type\":\"LinearAxis\"},{\"id\":\"dece1431-5572-43c3-903e-8613417836ee\",\"type\":\"Grid\"},{\"id\":\"4785a311-40d9-4c01-941c-5d3684003203\",\"type\":\"LinearAxis\"},{\"id\":\"65acb15b-432e-4911-aaeb-2b3a7c7d4757\",\"type\":\"Grid\"},{\"id\":\"676c476a-5913-4f51-9413-25fe794b4786\",\"type\":\"BoxAnnotation\"},{\"id\":\"c463645a-65dc-4946-b57e-b502a38a1ba2\",\"type\":\"GlyphRenderer\"}],\"tool_events\":{\"id\":\"b0e10c94-989b-4213-b9de-be309686e303\",\"type\":\"ToolEvents\"},\"tools\":[{\"id\":\"d7d8f6ef-4f82-47a6-aa46-181194c389da\",\"type\":\"PanTool\"},{\"id\":\"43b70098-fceb-4025-a12c-1ee970550a37\",\"type\":\"WheelZoomTool\"},{\"id\":\"7a585487-8f25-48c7-8ca0-55d93e9bc28f\",\"type\":\"BoxZoomTool\"},{\"id\":\"a30c60bd-5107-4c6b-8023-33b5359ed117\",\"type\":\"PreviewSaveTool\"},{\"id\":\"f51ec8f2-6566-416f-8076-f24a2d7c9b7b\",\"type\":\"ResizeTool\"},{\"id\":\"a4610080-8a17-48eb-938c-c18d086e0842\",\"type\":\"ResetTool\"},{\"id\":\"75c6ad67-d6fd-4279-9513-a65db6722765\",\"type\":\"HelpTool\"}],\"x_range\":{\"id\":\"ae55fafe-9aa4-4ebb-b698-e39f3ca65c0e\",\"type\":\"DataRange1d\"},\"y_range\":{\"id\":\"5465c6c1-ca1d-4ef3-b2d1-97396b0ee276\",\"type\":\"DataRange1d\"}},\"id\":\"5806546e-d454-4786-ac77-9898c854fe55\",\"subtype\":\"Figure\",\"type\":\"Plot\"},{\"attributes\":{\"plot\":{\"id\":\"5806546e-d454-4786-ac77-9898c854fe55\",\"subtype\":\"Figure\",\"type\":\"Plot\"},\"ticker\":{\"id\":\"2d8585d1-6dc6-4c85-afa3-f2f8f70ac3e4\",\"type\":\"BasicTicker\"}},\"id\":\"dece1431-5572-43c3-903e-8613417836ee\",\"type\":\"Grid\"},{\"attributes\":{\"formatter\":{\"id\":\"6da4639a-a88c-45c7-9742-00aa0f0fc49e\",\"type\":\"BasicTickFormatter\"},\"plot\":{\"id\":\"5806546e-d454-4786-ac77-9898c854fe55\",\"subtype\":\"Figure\",\"type\":\"Plot\"},\"ticker\":{\"id\":\"2d8585d1-6dc6-4c85-afa3-f2f8f70ac3e4\",\"type\":\"BasicTicker\"}},\"id\":\"7db95045-1410-46cc-b949-36ede5e3cacc\",\"type\":\"LinearAxis\"},{\"attributes\":{\"fill_color\":{\"value\":\"#1f77b4\"},\"line_color\":{\"value\":\"#1f77b4\"},\"x\":{\"field\":\"x\"},\"y\":{\"field\":\"y\"}},\"id\":\"463c4166-ac8f-4585-b9bf-06c9b120c2b4\",\"type\":\"Circle\"},{\"attributes\":{\"bottom_units\":\"screen\",\"fill_alpha\":{\"value\":0.5},\"fill_color\":{\"value\":\"lightgrey\"},\"left_units\":\"screen\",\"level\":\"overlay\",\"line_alpha\":{\"value\":1.0},\"line_color\":{\"value\":\"black\"},\"line_dash\":[4,4],\"line_width\":{\"value\":2},\"plot\":null,\"render_mode\":\"css\",\"right_units\":\"screen\",\"top_units\":\"screen\"},\"id\":\"676c476a-5913-4f51-9413-25fe794b4786\",\"type\":\"BoxAnnotation\"},{\"attributes\":{\"callback\":null},\"id\":\"5465c6c1-ca1d-4ef3-b2d1-97396b0ee276\",\"type\":\"DataRange1d\"},{\"attributes\":{\"plot\":{\"id\":\"5806546e-d454-4786-ac77-9898c854fe55\",\"subtype\":\"Figure\",\"type\":\"Plot\"}},\"id\":\"a4610080-8a17-48eb-938c-c18d086e0842\",\"type\":\"ResetTool\"},{\"attributes\":{\"dimension\":1,\"plot\":{\"id\":\"5806546e-d454-4786-ac77-9898c854fe55\",\"subtype\":\"Figure\",\"type\":\"Plot\"},\"ticker\":{\"id\":\"ffc80d70-b6b2-4ead-af41-6fb07caf6f43\",\"type\":\"BasicTicker\"}},\"id\":\"65acb15b-432e-4911-aaeb-2b3a7c7d4757\",\"type\":\"Grid\"},{\"attributes\":{\"formatter\":{\"id\":\"227abb84-ca77-4ad3-9432-21ed7369696b\",\"type\":\"BasicTickFormatter\"},\"plot\":{\"id\":\"5806546e-d454-4786-ac77-9898c854fe55\",\"subtype\":\"Figure\",\"type\":\"Plot\"},\"ticker\":{\"id\":\"ffc80d70-b6b2-4ead-af41-6fb07caf6f43\",\"type\":\"BasicTicker\"}},\"id\":\"4785a311-40d9-4c01-941c-5d3684003203\",\"type\":\"LinearAxis\"},{\"attributes\":{},\"id\":\"6da4639a-a88c-45c7-9742-00aa0f0fc49e\",\"type\":\"BasicTickFormatter\"},{\"attributes\":{},\"id\":\"2d8585d1-6dc6-4c85-afa3-f2f8f70ac3e4\",\"type\":\"BasicTicker\"},{\"attributes\":{\"data_source\":{\"id\":\"275a2190-0221-4f57-a9b0-01e8eca63c60\",\"type\":\"ColumnDataSource\"},\"glyph\":{\"id\":\"463c4166-ac8f-4585-b9bf-06c9b120c2b4\",\"type\":\"Circle\"},\"hover_glyph\":null,\"nonselection_glyph\":{\"id\":\"f9385787-2002-4044-ba57-a0e73ad7f303\",\"type\":\"Circle\"},\"selection_glyph\":null},\"id\":\"c463645a-65dc-4946-b57e-b502a38a1ba2\",\"type\":\"GlyphRenderer\"},{\"attributes\":{\"plot\":{\"id\":\"5806546e-d454-4786-ac77-9898c854fe55\",\"subtype\":\"Figure\",\"type\":\"Plot\"}},\"id\":\"d7d8f6ef-4f82-47a6-aa46-181194c389da\",\"type\":\"PanTool\"},{\"attributes\":{\"plot\":{\"id\":\"5806546e-d454-4786-ac77-9898c854fe55\",\"subtype\":\"Figure\",\"type\":\"Plot\"}},\"id\":\"f51ec8f2-6566-416f-8076-f24a2d7c9b7b\",\"type\":\"ResizeTool\"}],\"root_ids\":[\"5806546e-d454-4786-ac77-9898c854fe55\"]},\"title\":\"Bokeh Application\",\"version\":\"0.11.1\"}};\n",
       "            var render_items = [{\"docid\":\"959f7e12-d2e0-474d-ac14-e710f5003a53\",\"elementid\":\"ccb5eb9e-47da-433f-bc8f-c69579163cb3\",\"modelid\":\"5806546e-d454-4786-ac77-9898c854fe55\"}];\n",
       "            \n",
       "            Bokeh.embed.embed_items(docs_json, render_items);\n",
       "        });\n",
       "        </script>\n",
       "    </body>\n",
       "</html>"
      ],
      "text/plain": [
       "<IPython.core.display.HTML object>"
      ]
     },
     "execution_count": 36,
     "metadata": {},
     "output_type": "execute_result"
    }
   ],
   "source": [
    "%%python\n",
    "\n",
    "from bokeh.plotting import figure\n",
    "from bokeh.resources import CDN\n",
    "from bokeh.embed import file_html\n",
    "\n",
    "plot = figure()\n",
    "plot.circle([1,2], [3,4])\n",
    "\n",
    "html = file_html(plot, CDN, \"my plot\")\n",
    "#DONT PRINT - this crashes the browser tab: print(html)\n",
    "\n",
    "import IPython\n",
    "retval=IPython.display.HTML(html)"
   ]
  },
  {
   "cell_type": "code",
   "execution_count": 37,
   "metadata": {
    "collapsed": false
   },
   "outputs": [
    {
     "data": {
      "text/html": [
       "\n",
       "<!DOCTYPE html>\n",
       "<html lang=\"en\">\n",
       "    <head>\n",
       "        <meta charset=\"utf-8\">\n",
       "        <title>my 2nd plot</title>\n",
       "        \n",
       "<link rel=\"stylesheet\" href=\"https://cdn.pydata.org/bokeh/release/bokeh-0.11.1.min.css\" type=\"text/css\" />\n",
       "        \n",
       "<script type=\"text/javascript\" src=\"https://cdn.pydata.org/bokeh/release/bokeh-0.11.1.min.js\"></script>\n",
       "<script type=\"text/javascript\">\n",
       "    Bokeh.set_log_level(\"info\");\n",
       "</script>\n",
       "    </head>\n",
       "    <body>\n",
       "        \n",
       "        <div class=\"plotdiv\" id=\"13f3d490-8ce7-42b6-a6e2-2fb197cc4578\"></div>\n",
       "        \n",
       "        <script type=\"text/javascript\">\n",
       "            Bokeh.$(function() {\n",
       "            var docs_json = {\"b436e505-5672-47fb-bca5-3eb9d840c936\":{\"roots\":{\"references\":[{\"attributes\":{\"plot\":{\"id\":\"5806546e-d454-4786-ac77-9898c854fe55\",\"subtype\":\"Figure\",\"type\":\"Plot\"}},\"id\":\"75c6ad67-d6fd-4279-9513-a65db6722765\",\"type\":\"HelpTool\"},{\"attributes\":{\"overlay\":{\"id\":\"62995407-fd51-49c9-ae3c-712ef406852f\",\"type\":\"BoxAnnotation\"},\"plot\":{\"id\":\"6de13133-c9d5-40b1-914d-17e42dc360b7\",\"subtype\":\"Figure\",\"type\":\"Plot\"}},\"id\":\"dc5d6fcd-7872-4c99-b90c-41861850df50\",\"type\":\"BoxZoomTool\"},{\"attributes\":{\"below\":[{\"id\":\"7db95045-1410-46cc-b949-36ede5e3cacc\",\"type\":\"LinearAxis\"}],\"left\":[{\"id\":\"4785a311-40d9-4c01-941c-5d3684003203\",\"type\":\"LinearAxis\"}],\"renderers\":[{\"id\":\"7db95045-1410-46cc-b949-36ede5e3cacc\",\"type\":\"LinearAxis\"},{\"id\":\"dece1431-5572-43c3-903e-8613417836ee\",\"type\":\"Grid\"},{\"id\":\"4785a311-40d9-4c01-941c-5d3684003203\",\"type\":\"LinearAxis\"},{\"id\":\"65acb15b-432e-4911-aaeb-2b3a7c7d4757\",\"type\":\"Grid\"},{\"id\":\"676c476a-5913-4f51-9413-25fe794b4786\",\"type\":\"BoxAnnotation\"},{\"id\":\"c463645a-65dc-4946-b57e-b502a38a1ba2\",\"type\":\"GlyphRenderer\"}],\"tool_events\":{\"id\":\"b0e10c94-989b-4213-b9de-be309686e303\",\"type\":\"ToolEvents\"},\"tools\":[{\"id\":\"d7d8f6ef-4f82-47a6-aa46-181194c389da\",\"type\":\"PanTool\"},{\"id\":\"43b70098-fceb-4025-a12c-1ee970550a37\",\"type\":\"WheelZoomTool\"},{\"id\":\"7a585487-8f25-48c7-8ca0-55d93e9bc28f\",\"type\":\"BoxZoomTool\"},{\"id\":\"a30c60bd-5107-4c6b-8023-33b5359ed117\",\"type\":\"PreviewSaveTool\"},{\"id\":\"f51ec8f2-6566-416f-8076-f24a2d7c9b7b\",\"type\":\"ResizeTool\"},{\"id\":\"a4610080-8a17-48eb-938c-c18d086e0842\",\"type\":\"ResetTool\"},{\"id\":\"75c6ad67-d6fd-4279-9513-a65db6722765\",\"type\":\"HelpTool\"}],\"x_range\":{\"id\":\"ae55fafe-9aa4-4ebb-b698-e39f3ca65c0e\",\"type\":\"DataRange1d\"},\"y_range\":{\"id\":\"5465c6c1-ca1d-4ef3-b2d1-97396b0ee276\",\"type\":\"DataRange1d\"}},\"id\":\"5806546e-d454-4786-ac77-9898c854fe55\",\"subtype\":\"Figure\",\"type\":\"Plot\"},{\"attributes\":{},\"id\":\"b0e10c94-989b-4213-b9de-be309686e303\",\"type\":\"ToolEvents\"},{\"attributes\":{\"bottom_units\":\"screen\",\"fill_alpha\":{\"value\":0.5},\"fill_color\":{\"value\":\"lightgrey\"},\"left_units\":\"screen\",\"level\":\"overlay\",\"line_alpha\":{\"value\":1.0},\"line_color\":{\"value\":\"black\"},\"line_dash\":[4,4],\"line_width\":{\"value\":2},\"plot\":null,\"render_mode\":\"css\",\"right_units\":\"screen\",\"top_units\":\"screen\"},\"id\":\"62995407-fd51-49c9-ae3c-712ef406852f\",\"type\":\"BoxAnnotation\"},{\"attributes\":{\"callback\":null,\"column_names\":[\"y\",\"x\"],\"data\":{\"x\":[1,2],\"y\":[3,4]}},\"id\":\"275a2190-0221-4f57-a9b0-01e8eca63c60\",\"type\":\"ColumnDataSource\"},{\"attributes\":{\"callback\":null},\"id\":\"79f48553-04ff-49c0-a2ba-cc316476dd0a\",\"type\":\"DataRange1d\"},{\"attributes\":{\"fill_alpha\":{\"value\":0.1},\"fill_color\":{\"value\":\"#1f77b4\"},\"line_alpha\":{\"value\":0.1},\"line_color\":{\"value\":\"#1f77b4\"},\"x\":{\"field\":\"x\"},\"y\":{\"field\":\"y\"}},\"id\":\"f9385787-2002-4044-ba57-a0e73ad7f303\",\"type\":\"Circle\"},{\"attributes\":{\"data_source\":{\"id\":\"77bb39ca-aeda-445e-944c-8486728c9ae1\",\"type\":\"ColumnDataSource\"},\"glyph\":{\"id\":\"8eb79b0b-d096-4fca-aa4a-5892ed64812c\",\"type\":\"Line\"},\"hover_glyph\":null,\"nonselection_glyph\":{\"id\":\"a903c242-3643-4e10-978c-44d64fff3e94\",\"type\":\"Line\"},\"selection_glyph\":null},\"id\":\"efa3a492-582b-4abe-bd44-34ae66749c99\",\"type\":\"GlyphRenderer\"},{\"attributes\":{\"callback\":null},\"id\":\"ae55fafe-9aa4-4ebb-b698-e39f3ca65c0e\",\"type\":\"DataRange1d\"},{\"attributes\":{\"plot\":{\"id\":\"6de13133-c9d5-40b1-914d-17e42dc360b7\",\"subtype\":\"Figure\",\"type\":\"Plot\"}},\"id\":\"d6b912fd-7cee-47f0-b0b2-f80ef4f5a7d3\",\"type\":\"WheelZoomTool\"},{\"attributes\":{\"below\":[{\"id\":\"b4e81a4f-7b00-4083-ba93-468832b049f1\",\"type\":\"LinearAxis\"}],\"left\":[{\"id\":\"3413a12c-2248-4bb7-97ac-f67afafb8582\",\"type\":\"LinearAxis\"}],\"plot_height\":300,\"renderers\":[{\"id\":\"b4e81a4f-7b00-4083-ba93-468832b049f1\",\"type\":\"LinearAxis\"},{\"id\":\"c4fa0306-84a4-4ee1-9939-0cdffd640866\",\"type\":\"Grid\"},{\"id\":\"3413a12c-2248-4bb7-97ac-f67afafb8582\",\"type\":\"LinearAxis\"},{\"id\":\"6b6463e0-3fea-43b0-9c01-8cdce39ad73f\",\"type\":\"Grid\"},{\"id\":\"62995407-fd51-49c9-ae3c-712ef406852f\",\"type\":\"BoxAnnotation\"},{\"id\":\"efa3a492-582b-4abe-bd44-34ae66749c99\",\"type\":\"GlyphRenderer\"}],\"title\":\"simple line example\",\"tool_events\":{\"id\":\"d0f7f822-a936-4471-bb55-c36743a7db50\",\"type\":\"ToolEvents\"},\"tools\":[{\"id\":\"adcdf43e-021d-402f-8fa0-454d842f5901\",\"type\":\"PanTool\"},{\"id\":\"d6b912fd-7cee-47f0-b0b2-f80ef4f5a7d3\",\"type\":\"WheelZoomTool\"},{\"id\":\"dc5d6fcd-7872-4c99-b90c-41861850df50\",\"type\":\"BoxZoomTool\"},{\"id\":\"7b38daf3-7d2a-4ad5-876d-62bfa81eac26\",\"type\":\"PreviewSaveTool\"},{\"id\":\"1280c645-2069-4c91-9536-fd6498255104\",\"type\":\"ResizeTool\"},{\"id\":\"4cb2affd-6af1-49b2-8863-68cf03680fcc\",\"type\":\"ResetTool\"},{\"id\":\"0ebc105e-8b11-4603-898a-9f9a61110ca8\",\"type\":\"HelpTool\"}],\"x_range\":{\"id\":\"79f48553-04ff-49c0-a2ba-cc316476dd0a\",\"type\":\"DataRange1d\"},\"y_range\":{\"id\":\"14a9b932-6061-4ede-a7c7-377599f86238\",\"type\":\"Range1d\"}},\"id\":\"6de13133-c9d5-40b1-914d-17e42dc360b7\",\"subtype\":\"Figure\",\"type\":\"Plot\"},{\"attributes\":{\"plot\":{\"id\":\"5806546e-d454-4786-ac77-9898c854fe55\",\"subtype\":\"Figure\",\"type\":\"Plot\"}},\"id\":\"43b70098-fceb-4025-a12c-1ee970550a37\",\"type\":\"WheelZoomTool\"},{\"attributes\":{\"formatter\":{\"id\":\"6da4639a-a88c-45c7-9742-00aa0f0fc49e\",\"type\":\"BasicTickFormatter\"},\"plot\":{\"id\":\"5806546e-d454-4786-ac77-9898c854fe55\",\"subtype\":\"Figure\",\"type\":\"Plot\"},\"ticker\":{\"id\":\"2d8585d1-6dc6-4c85-afa3-f2f8f70ac3e4\",\"type\":\"BasicTicker\"}},\"id\":\"7db95045-1410-46cc-b949-36ede5e3cacc\",\"type\":\"LinearAxis\"},{\"attributes\":{\"line_color\":{\"value\":\"#2222aa\"},\"line_width\":{\"value\":3},\"x\":{\"field\":\"x\"},\"y\":{\"field\":\"y\"}},\"id\":\"8eb79b0b-d096-4fca-aa4a-5892ed64812c\",\"type\":\"Line\"},{\"attributes\":{},\"id\":\"d6fa3269-2ecd-46b2-ad9c-1d33e58c776a\",\"type\":\"BasicTicker\"},{\"attributes\":{\"fill_color\":{\"value\":\"#1f77b4\"},\"line_color\":{\"value\":\"#1f77b4\"},\"x\":{\"field\":\"x\"},\"y\":{\"field\":\"y\"}},\"id\":\"463c4166-ac8f-4585-b9bf-06c9b120c2b4\",\"type\":\"Circle\"},{\"attributes\":{\"formatter\":{\"id\":\"37f3db02-14d8-445c-aca7-01293ef9e245\",\"type\":\"BasicTickFormatter\"},\"plot\":{\"id\":\"6de13133-c9d5-40b1-914d-17e42dc360b7\",\"subtype\":\"Figure\",\"type\":\"Plot\"},\"ticker\":{\"id\":\"d6fa3269-2ecd-46b2-ad9c-1d33e58c776a\",\"type\":\"BasicTicker\"}},\"id\":\"b4e81a4f-7b00-4083-ba93-468832b049f1\",\"type\":\"LinearAxis\"},{\"attributes\":{},\"id\":\"0fc9a605-ee7c-44f7-823d-fd8df9ffdf88\",\"type\":\"BasicTickFormatter\"},{\"attributes\":{\"formatter\":{\"id\":\"227abb84-ca77-4ad3-9432-21ed7369696b\",\"type\":\"BasicTickFormatter\"},\"plot\":{\"id\":\"5806546e-d454-4786-ac77-9898c854fe55\",\"subtype\":\"Figure\",\"type\":\"Plot\"},\"ticker\":{\"id\":\"ffc80d70-b6b2-4ead-af41-6fb07caf6f43\",\"type\":\"BasicTicker\"}},\"id\":\"4785a311-40d9-4c01-941c-5d3684003203\",\"type\":\"LinearAxis\"},{\"attributes\":{\"plot\":{\"id\":\"5806546e-d454-4786-ac77-9898c854fe55\",\"subtype\":\"Figure\",\"type\":\"Plot\"}},\"id\":\"a4610080-8a17-48eb-938c-c18d086e0842\",\"type\":\"ResetTool\"},{\"attributes\":{},\"id\":\"37f3db02-14d8-445c-aca7-01293ef9e245\",\"type\":\"BasicTickFormatter\"},{\"attributes\":{\"plot\":{\"id\":\"6de13133-c9d5-40b1-914d-17e42dc360b7\",\"subtype\":\"Figure\",\"type\":\"Plot\"},\"ticker\":{\"id\":\"d6fa3269-2ecd-46b2-ad9c-1d33e58c776a\",\"type\":\"BasicTicker\"}},\"id\":\"c4fa0306-84a4-4ee1-9939-0cdffd640866\",\"type\":\"Grid\"},{\"attributes\":{},\"id\":\"2d8585d1-6dc6-4c85-afa3-f2f8f70ac3e4\",\"type\":\"BasicTicker\"},{\"attributes\":{\"formatter\":{\"id\":\"0fc9a605-ee7c-44f7-823d-fd8df9ffdf88\",\"type\":\"BasicTickFormatter\"},\"plot\":{\"id\":\"6de13133-c9d5-40b1-914d-17e42dc360b7\",\"subtype\":\"Figure\",\"type\":\"Plot\"},\"ticker\":{\"id\":\"2a2e7441-40db-4db5-ad41-5bb4bcb89792\",\"type\":\"BasicTicker\"}},\"id\":\"3413a12c-2248-4bb7-97ac-f67afafb8582\",\"type\":\"LinearAxis\"},{\"attributes\":{},\"id\":\"6da4639a-a88c-45c7-9742-00aa0f0fc49e\",\"type\":\"BasicTickFormatter\"},{\"attributes\":{\"plot\":{\"id\":\"5806546e-d454-4786-ac77-9898c854fe55\",\"subtype\":\"Figure\",\"type\":\"Plot\"}},\"id\":\"a30c60bd-5107-4c6b-8023-33b5359ed117\",\"type\":\"PreviewSaveTool\"},{\"attributes\":{\"plot\":{\"id\":\"6de13133-c9d5-40b1-914d-17e42dc360b7\",\"subtype\":\"Figure\",\"type\":\"Plot\"}},\"id\":\"adcdf43e-021d-402f-8fa0-454d842f5901\",\"type\":\"PanTool\"},{\"attributes\":{},\"id\":\"2a2e7441-40db-4db5-ad41-5bb4bcb89792\",\"type\":\"BasicTicker\"},{\"attributes\":{},\"id\":\"227abb84-ca77-4ad3-9432-21ed7369696b\",\"type\":\"BasicTickFormatter\"},{\"attributes\":{\"callback\":null},\"id\":\"5465c6c1-ca1d-4ef3-b2d1-97396b0ee276\",\"type\":\"DataRange1d\"},{\"attributes\":{\"plot\":{\"id\":\"6de13133-c9d5-40b1-914d-17e42dc360b7\",\"subtype\":\"Figure\",\"type\":\"Plot\"}},\"id\":\"4cb2affd-6af1-49b2-8863-68cf03680fcc\",\"type\":\"ResetTool\"},{\"attributes\":{\"callback\":null,\"column_names\":[\"y\",\"x\"],\"data\":{\"x\":[0.0,0.003143164235707647,0.006286328471415294,0.009429492707122941,0.012572656942830588,0.015715821178538234,0.018858985414245882,0.022002149649953527,0.025145313885661175,0.028288478121368824,0.03143164235707647,0.03457480659278411,0.037717970828491765,0.04086113506419941,0.044004299299907054,0.047147463535614706,0.05029062777132235,0.053433792007029995,0.05657695624273765,0.05972012047844529,0.06286328471415294,0.06600644894986059,0.06914961318556823,0.07229277742127588,0.07543594165698353,0.07857910589269117,0.08172227012839882,0.08486543436410647,0.08800859859981411,0.09115176283552176,0.09429492707122941,0.09743809130693705,0.1005812555426447,0.10372441977835235,0.10686758401405999,0.11001074824976764,0.1131539124854753,0.11629707672118293,0.11944024095689058,0.12258340519259824,0.12572656942830587,0.12886973366401352,0.13201289789972118,0.13515606213542883,0.13829922637113645,0.1414423906068441,0.14458555484255176,0.1477287190782594,0.15087188331396706,0.1540150475496747,0.15715821178538233,0.16030137602109,0.16344454025679764,0.1665877044925053,0.16973086872821294,0.1728740329639206,0.17601719719962822,0.17916036143533587,0.18230352567104352,0.18544668990675117,0.18858985414245882,0.19173301837816648,0.1948761826138741,0.19801934684958175,0.2011625110852894,0.20430567532099705,0.2074488395567047,0.21059200379241233,0.21373516802811998,0.21687833226382763,0.22002149649953529,0.22316466073524294,0.2263078249709506,0.2294509892066582,0.23259415344236586,0.23573731767807352,0.23888048191378117,0.24202364614948882,0.24516681038519647,0.2483099746209041,0.25145313885661175,0.2545963030923194,0.25773946732802705,0.2608826315637347,0.26402579579944235,0.26716896003515,0.27031212427085766,0.2734552885065653,0.2765984527422729,0.27974161697798056,0.2828847812136882,0.28602794544939586,0.2891711096851035,0.29231427392081116,0.2954574381565188,0.29860060239222647,0.3017437666279341,0.30488693086364177,0.3080300950993494,0.311173259335057,0.31431642357076467,0.3174595878064723,0.32060275204218,0.3237459162778876,0.3268890805135953,0.3300322447493029,0.3331754089850106,0.33631857322071823,0.3394617374564259,0.34260490169213353,0.3457480659278412,0.3488912301635488,0.35203439439925643,0.3551775586349641,0.35832072287067174,0.3614638871063794,0.36460705134208704,0.3677502155777947,0.37089337981350234,0.37403654404921,0.37717970828491765,0.3803228725206253,0.38346603675633295,0.38660920099204055,0.3897523652277482,0.39289552946345585,0.3960386936991635,0.39918185793487115,0.4023250221705788,0.40546818640628646,0.4086113506419941,0.41175451487770176,0.4148976791134094,0.41804084334911706,0.42118400758482466,0.4243271718205323,0.42747033605623996,0.4306135002919476,0.43375666452765527,0.4368998287633629,0.44004299299907057,0.4431861572347782,0.4463293214704859,0.4494724857061935,0.4526156499419012,0.45575881417760883,0.4589019784133164,0.4620451426490241,0.46518830688473173,0.4683314711204394,0.47147463535614703,0.4746177995918547,0.47776096382756233,0.48090412806327,0.48404729229897764,0.4871904565346853,0.49033362077039294,0.4934767850061006,0.4966199492418082,0.49976311347751584,0.5029062777132235,0.5060494419489312,0.5091926061846388,0.5123357704203464,0.5154789346560541,0.5186220988917617,0.5217652631274694,0.524908427363177,0.5280515915988847,0.5311947558345923,0.5343379200703,0.5374810843060076,0.5406242485417153,0.5437674127774229,0.5469105770131306,0.5500537412488382,0.5531969054845458,0.5563400697202535,0.5594832339559611,0.5626263981916688,0.5657695624273764,0.5689127266630841,0.5720558908987917,0.5751990551344994,0.578342219370207,0.5814853836059147,0.5846285478416223,0.5877717120773299,0.5909148763130376,0.5940580405487452,0.5972012047844529,0.6003443690201605,0.6034875332558682,0.6066306974915758,0.6097738617272835,0.6129170259629911,0.6160601901986988,0.6192033544344064,0.622346518670114,0.6254896829058217,0.6286328471415293,0.631776011377237,0.6349191756129446,0.6380623398486523,0.64120550408436,0.6443486683200677,0.6474918325557752,0.650634996791483,0.6537781610271906,0.6569213252628983,0.6600644894986059,0.6632076537343135,0.6663508179700212,0.6694939822057288,0.6726371464414365,0.6757803106771441,0.6789234749128518,0.6820666391485594,0.6852098033842671,0.6883529676199747,0.6914961318556824,0.69463929609139,0.6977824603270976,0.7009256245628053,0.7040687887985129,0.7072119530342206,0.7103551172699282,0.7134982815056359,0.7166414457413435,0.7197846099770512,0.7229277742127588,0.7260709384484665,0.7292141026841741,0.7323572669198817,0.7355004311555894,0.738643595391297,0.7417867596270047,0.7449299238627123,0.74807308809842,0.7512162523341276,0.7543594165698353,0.7575025808055429,0.7606457450412506,0.7637889092769582,0.7669320735126659,0.7700752377483735,0.7732184019840811,0.7763615662197888,0.7795047304554964,0.7826478946912041,0.7857910589269117,0.7889342231626194,0.792077387398327,0.7952205516340347,0.7983637158697423,0.80150688010545,0.8046500443411576,0.8077932085768652,0.8109363728125729,0.8140795370482805,0.8172227012839882,0.8203658655196958,0.8235090297554035,0.8266521939911111,0.8297953582268188,0.8329385224625264,0.8360816866982341,0.8392248509339417,0.8423680151696493,0.845511179405357,0.8486543436410646,0.8517975078767723,0.8549406721124799,0.8580838363481876,0.8612270005838952,0.8643701648196029,0.8675133290553105,0.8706564932910182,0.8737996575267258,0.8769428217624335,0.8800859859981411,0.8832291502338487,0.8863723144695564,0.889515478705264,0.8926586429409717,0.8958018071766793,0.898944971412387,0.9020881356480946,0.9052312998838024,0.90837446411951,0.9115176283552177,0.9146607925909253,0.9178039568266328,0.9209471210623406,0.9240902852980482,0.9272334495337559,0.9303766137694635,0.9335197780051712,0.9366629422408788,0.9398061064765865,0.9429492707122941,0.9460924349480018,0.9492355991837094,0.952378763419417,0.9555219276551247,0.9586650918908323,0.96180825612654,0.9649514203622476,0.9680945845979553,0.9712377488336629,0.9743809130693706,0.9775240773050782,0.9806672415407859,0.9838104057764935,0.9869535700122012,0.9900967342479088,0.9932398984836164,0.9963830627193241,0.9995262269550317,1.0026693911907394,1.005812555426447,1.0089557196621546,1.0120988838978624,1.01524204813357,1.0183852123692776,1.0215283766049852,1.0246715408406928,1.0278147050764006,1.0309578693121082,1.0341010335478158,1.0372441977835234,1.0403873620192312,1.0435305262549388,1.0466736904906464,1.049816854726354,1.0529600189620618,1.0561031831977694,1.059246347433477,1.0623895116691846,1.0655326759048922,1.0686758401406,1.0718190043763076,1.0749621686120152,1.0781053328477228,1.0812484970834306,1.0843916613191382,1.0875348255548458,1.0906779897905534,1.0938211540262612,1.0969643182619688,1.1001074824976764,1.103250646733384,1.1063938109690916,1.1095369752047994,1.112680139440507,1.1158233036762146,1.1189664679119222,1.12210963214763,1.1252527963833376,1.1283959606190452,1.1315391248547528,1.1346822890904604,1.1378254533261682,1.1409686175618758,1.1441117817975834,1.147254946033291,1.1503981102689989,1.1535412745047064,1.156684438740414,1.1598276029761216,1.1629707672118295,1.166113931447537,1.1692570956832447,1.1724002599189522,1.1755434241546598,1.1786865883903677,1.1818297526260753,1.1849729168617829,1.1881160810974905,1.1912592453331983,1.1944024095689059,1.1975455738046135,1.200688738040321,1.2038319022760289,1.2069750665117365,1.210118230747444,1.2132613949831517,1.2164045592188593,1.219547723454567,1.2226908876902747,1.2258340519259823,1.2289772161616899,1.2321203803973977,1.2352635446331053,1.2384067088688129,1.2415498731045205,1.244693037340228,1.2478362015759359,1.2509793658116435,1.254122530047351,1.2572656942830587,1.2604088585187665,1.263552022754474,1.2666951869901817,1.2698383512258893,1.272981515461597,1.2761246796973047,1.2792678439330123,1.28241100816872,1.2855541724044275,1.2886973366401353,1.291840500875843,1.2949836651115505,1.298126829347258,1.301269993582966,1.3044131578186735,1.307556322054381,1.3106994862900887,1.3138426505257965,1.3169858147615041,1.3201289789972117,1.3232721432329193,1.326415307468627,1.3295584717043347,1.3327016359400423,1.33584480017575,1.3389879644114575,1.3421311286471653,1.345274292882873,1.3484174571185805,1.3515606213542881,1.3547037855899957,1.3578469498257035,1.3609901140614111,1.3641332782971187,1.3672764425328263,1.3704196067685341,1.3735627710042417,1.3767059352399493,1.379849099475657,1.3829922637113647,1.3861354279470723,1.38927859218278,1.3924217564184875,1.3955649206541951,1.398708084889903,1.4018512491256105,1.4049944133613181,1.4081375775970257,1.4112807418327336,1.4144239060684412,1.4175670703041487,1.4207102345398563,1.4238533987755642,1.4269965630112718,1.4301397272469794,1.433282891482687,1.4364260557183945,1.4395692199541024,1.44271238418981,1.4458555484255176,1.4489987126612252,1.452141876896933,1.4552850411326406,1.4584282053683482,1.4615713696040558,1.4647145338397634,1.4678576980754712,1.4710008623111788,1.4741440265468864,1.477287190782594,1.4804303550183018,1.4835735192540094,1.486716683489717,1.4898598477254246,1.4930030119611324,1.49614617619684,1.4992893404325476,1.5024325046682552,1.5055756689039628,1.5087188331396706,1.5118619973753782,1.5150051616110858,1.5181483258467934,1.5212914900825012,1.5244346543182088,1.5275778185539164,1.530720982789624,1.5338641470253318,1.5370073112610394,1.540150475496747,1.5432936397324546,1.5464368039681622,1.54957996820387,1.5527231324395776,1.5558662966752852,1.5590094609109928,1.5621526251467006,1.5652957893824082,1.5684389536181158,1.5715821178538234,1.574725282089531,1.5778684463252388,1.5810116105609464,1.584154774796654,1.5872979390323616,1.5904411032680694,1.593584267503777,1.5967274317394846,1.5998705959751922,1.6030137602109,1.6061569244466076,1.6093000886823152,1.6124432529180228,1.6155864171537304,1.6187295813894382,1.6218727456251458,1.6250159098608534,1.628159074096561,1.6313022383322688,1.6344454025679764,1.637588566803684,1.6407317310393916,1.6438748952750994,1.647018059510807,1.6501612237465146,1.6533043879822222,1.6564475522179298,1.6595907164536376,1.6627338806893452,1.6658770449250528,1.6690202091607604,1.6721633733964683,1.6753065376321759,1.6784497018678834,1.681592866103591,1.6847360303392986,1.6878791945750065,1.691022358810714,1.6941655230464217,1.6973086872821292,1.700451851517837,1.7035950157535447,1.7067381799892523,1.7098813442249599,1.7130245084606677,1.7161676726963753,1.7193108369320829,1.7224540011677905,1.725597165403498,1.7287403296392059,1.7318834938749135,1.735026658110621,1.7381698223463287,1.7413129865820365,1.744456150817744,1.7475993150534517,1.7507424792891593,1.753885643524867,1.7570288077605747,1.7601719719962823,1.7633151362319899,1.7664583004676975,1.7696014647034053,1.7727446289391129,1.7758877931748205,1.779030957410528,1.782174121646236,1.7853172858819435,1.788460450117651,1.7916036143533587,1.7947467785890663,1.797889942824774,1.8010331070604817,1.8041762712961893,1.807319435531897,1.8104625997676047,1.8136057640033123,1.81674892823902,1.8198920924747275,1.8230352567104353,1.826178420946143,1.8293215851818505,1.832464749417558,1.8356079136532657,1.8387510778889735,1.8418942421246811,1.8450374063603887,1.8481805705960963,1.8513237348318041,1.8544668990675117,1.8576100633032193,1.860753227538927,1.8638963917746347,1.8670395560103423,1.87018272024605,1.8733258844817575,1.8764690487174651,1.879612212953173,1.8827553771888805,1.8858985414245881,1.8890417056602957,1.8921848698960035,1.8953280341317111,1.8984711983674187,1.9016143626031263,1.904757526838834,1.9079006910745417,1.9110438553102493,1.914187019545957,1.9173301837816645,1.9204733480173724,1.92361651225308,1.9267596764887875,1.9299028407244951,1.933046004960203,1.9361891691959106,1.9393323334316181,1.9424754976673257,1.9456186619030333,1.9487618261387412,1.9519049903744488,1.9550481546101564,1.958191318845864,1.9613344830815718,1.9644776473172794,1.967620811552987,1.9707639757886946,1.9739071400244024,1.97705030426011,1.9801934684958176,1.9833366327315252,1.9864797969672328,1.9896229612029406,1.9927661254386482,1.9959092896743558,1.9990524539100634,2.002195618145771,2.005338782381479,2.0084819466171866,2.011625110852894,2.014768275088602,2.017911439324309,2.021054603560017,2.024197767795725,2.027340932031432,2.03048409626714,2.0336272605028474,2.036770424738555,2.039913588974263,2.0430567532099704,2.046199917445678,2.0493430816813856,2.0524862459170934,2.055629410152801,2.0587725743885086,2.0619157386242164,2.065058902859924,2.0682020670956316,2.0713452313313394,2.074488395567047,2.0776315598027546,2.0807747240384624,2.08391788827417,2.0870610525098776,2.090204216745585,2.093347380981293,2.0964905452170006,2.099633709452708,2.102776873688416,2.1059200379241236,2.109063202159831,2.112206366395539,2.115349530631246,2.118492694866954,2.121635859102662,2.124779023338369,2.127922187574077,2.1310653518097844,2.134208516045492,2.1373516802812,2.1404948445169074,2.1436380087526152,2.146781172988323,2.1499243372240304,2.1530675014597382,2.1562106656954456,2.1593538299311534,2.1624969941668613,2.1656401584025686,2.1687833226382764,2.171926486873984,2.1750696511096916,2.1782128153453995,2.181355979581107,2.1844991438168146,2.1876423080525225,2.19078547228823,2.1939286365239377,2.197071800759645,2.200214964995353,2.2033581292310607,2.206501293466768,2.209644457702476,2.2127876219381832,2.215930786173891,2.219073950409599,2.2222171146453062,2.225360278881014,2.228503443116722,2.2316466073524293,2.234789771588137,2.2379329358238444,2.2410761000595523,2.24421926429526,2.2473624285309675,2.2505055927666753,2.2536487570023827,2.2567919212380905,2.2599350854737983,2.2630782497095057,2.2662214139452135,2.269364578180921,2.2725077424166287,2.2756509066523365,2.278794070888044,2.2819372351237517,2.2850803993594595,2.288223563595167,2.2913667278308747,2.294509892066582,2.29765305630229,2.3007962205379977,2.303939384773705,2.307082549009413,2.3102257132451203,2.313368877480828,2.316512041716536,2.3196552059522433,2.322798370187951,2.325941534423659,2.3290846986593663,2.332227862895074,2.3353710271307815,2.3385141913664893,2.341657355602197,2.3448005198379045,2.3479436840736123,2.3510868483093197,2.3542300125450275,2.3573731767807353,2.3605163410164427,2.3636595052521505,2.3668026694878583,2.3699458337235657,2.3730889979592735,2.376232162194981,2.3793753264306887,2.3825184906663965,2.385661654902104,2.3888048191378117,2.391947983373519,2.395091147609227,2.3982343118449347,2.401377476080642,2.40452064031635,2.4076638045520578,2.410806968787765,2.413950133023473,2.4170932972591803,2.420236461494888,2.423379625730596,2.4265227899663033,2.429665954202011,2.4328091184377185,2.4359522826734263,2.439095446909134,2.4422386111448415,2.4453817753805493,2.448524939616257,2.4516681038519645,2.4548112680876724,2.4579544323233797,2.4610975965590876,2.4642407607947954,2.4673839250305027,2.4705270892662106,2.473670253501918,2.4768134177376258,2.4799565819733336,2.483099746209041,2.4862429104447488,2.489386074680456,2.492529238916164,2.4956724031518718,2.498815567387579,2.501958731623287,2.505101895858995,2.508245060094702,2.51138822433041,2.5145313885661174,2.517674552801825,2.520817717037533,2.5239608812732404,2.527104045508948,2.5302472097446556,2.5333903739803634,2.536533538216071,2.5396767024517786,2.5428198666874864,2.545963030923194,2.5491061951589016,2.5522493593946094,2.5553925236303168,2.5585356878660246,2.5616788521017324,2.56482201633744,2.5679651805731476,2.571108344808855,2.574251509044563,2.5773946732802706,2.580537837515978,2.583681001751686,2.5868241659873936,2.589967330223101,2.593110494458809,2.596253658694516,2.599396822930224,2.602539987165932,2.605683151401639,2.608826315637347,2.6119694798730544,2.615112644108762,2.61825580834447,2.6213989725801774,2.624542136815885,2.627685301051593,2.6308284652873004,2.6339716295230082,2.6371147937587156,2.6402579579944234,2.6434011222301312,2.6465442864658386,2.6496874507015464,2.652830614937254,2.6559737791729616,2.6591169434086694,2.662260107644377,2.6654032718800846,2.6685464361157925,2.6716896003515,2.6748327645872076,2.677975928822915,2.681119093058623,2.6842622572943307,2.687405421530038,2.690548585765746,2.6936917500014532,2.696834914237161,2.699978078472869,2.7031212427085762,2.706264406944284,2.7094075711799914,2.7125507354156992,2.715693899651407,2.7188370638871144,2.7219802281228223,2.72512339235853,2.7282665565942374,2.7314097208299453,2.7345528850656526,2.7376960493013605,2.7408392135370683,2.7439823777727756,2.7471255420084835,2.750268706244191,2.7534118704798987,2.7565550347156065,2.759698198951314,2.7628413631870217,2.7659845274227295,2.769127691658437,2.7722708558941447,2.775414020129852,2.77855718436556,2.7817003486012677,2.784843512836975,2.787986677072683,2.7911298413083903,2.794273005544098,2.797416169779806,2.8005593340155133,2.803702498251221,2.806845662486929,2.8099888267226363,2.813131990958344,2.8162751551940515,2.8194183194297593,2.822561483665467,2.8257046479011745,2.8288478121368823,2.8319909763725897,2.8351341406082975,2.8382773048440053,2.8414204690797127,2.8445636333154205,2.8477067975511283,2.8508499617868357,2.8539931260225435,2.857136290258251,2.8602794544939587,2.8634226187296665,2.866565782965374,2.8697089472010817,2.872852111436789,2.875995275672497,2.8791384399082047,2.882281604143912,2.88542476837962,2.8885679326153277,2.891711096851035,2.894854261086743,2.8979974253224503,2.901140589558158,2.904283753793866,2.9074269180295733,2.910570082265281,2.9137132465009885,2.9168564107366963,2.919999574972404,2.9231427392081115,2.9262859034438193,2.9294290676795267,2.9325722319152345,2.9357153961509423,2.9388585603866497,2.9420017246223575,2.9451448888580654,2.9482880530937727,2.9514312173294805,2.954574381565188,2.9577175458008957,2.9608607100366036,2.964003874272311,2.9671470385080188,2.970290202743726,2.973433366979434,2.9765765312151418,2.979719695450849,2.982862859686557,2.9860060239222648,2.989149188157972,2.99229235239368,2.9954355166293873,2.998578680865095,3.001721845100803,3.0048650093365104,3.008008173572218,3.0111513378079255,3.0142945020436334,3.017437666279341,3.0205808305150486,3.0237239947507564,3.026867158986464,3.0300103232221716,3.0331534874578794,3.0362966516935868,3.0394398159292946,3.0425829801650024,3.0457261444007098,3.0488693086364176,3.052012472872125,3.0551556371078328,3.0582988013435406,3.061441965579248,3.064585129814956,3.0677282940506636,3.070871458286371,3.074014622522079,3.077157786757786,3.080300950993494,3.083444115229202,3.086587279464909,3.089730443700617,3.0928736079363244,3.096016772172032,3.09915993640774,3.1023031006434474,3.105446264879155,3.108589429114863,3.1117325933505704,3.114875757586278,3.1180189218219856,3.1211620860576934,3.1243052502934012,3.1274484145291086,3.1305915787648164,3.133734743000524,3.1368779072362316,3.1400210714719394,3.143164235707647,3.1463073999433546,3.149450564179062,3.15259372841477,3.1557368926504776,3.158880056886185,3.162023221121893,3.1651663853576006,3.168309549593308,3.171452713829016,3.174595878064723,3.177739042300431,3.180882206536139,3.184025370771846,3.187168535007554,3.1903116992432614,3.1934548634789692,3.196598027714677,3.1997411919503844,3.2028843561860922,3.2060275204218,3.2091706846575074,3.2123138488932153,3.2154570131289226,3.2186001773646304,3.2217433416003383,3.2248865058360456,3.2280296700717535,3.231172834307461,3.2343159985431686,3.2374591627788765,3.240602327014584,3.2437454912502917,3.2468886554859995,3.250031819721707,3.2531749839574147,3.256318148193122,3.25946131242883,3.2626044766645377,3.265747640900245,3.268890805135953,3.2720339693716602,3.275177133607368,3.278320297843076,3.2814634620787833,3.284606626314491,3.287749790550199,3.2908929547859063,3.294036119021614,3.2971792832573215,3.3003224474930293,3.303465611728737,3.3066087759644445,3.3097519402001523,3.3128951044358597,3.3160382686715675,3.3191814329072753,3.3223245971429827,3.3254677613786905,3.328610925614398,3.3317540898501057,3.3348972540858135,3.338040418321521,3.3411835825572287,3.3443267467929365,3.347469911028644,3.3506130752643517,3.353756239500059,3.356899403735767,3.3600425679714747,3.363185732207182,3.36632889644289,3.3694720606785973,3.372615224914305,3.375758389150013,3.3789015533857203,3.382044717621428,3.385187881857136,3.3883310460928433,3.391474210328551,3.3946173745642585,3.3977605387999663,3.400903703035674,3.4040468672713815,3.4071900315070893,3.4103331957427967,3.4134763599785045,3.4166195242142123,3.4197626884499197,3.4229058526856275,3.4260490169213353,3.4291921811570427,3.4323353453927505,3.435478509628458,3.4386216738641657,3.4417648380998735,3.444908002335581,3.4480511665712887,3.451194330806996,3.454337495042704,3.4574806592784117,3.460623823514119,3.463766987749827,3.4669101519855348,3.470053316221242,3.47319648045695,3.4763396446926573,3.479482808928365,3.482625973164073,3.4857691373997803,3.488912301635488,3.4920554658711955,3.4951986301069033,3.498341794342611,3.5014849585783185,3.5046281228140264,3.507771287049734,3.5109144512854416,3.5140576155211494,3.5172007797568567,3.5203439439925646,3.5234871082282724,3.5266302724639798,3.5297734366996876,3.532916600935395,3.5360597651711028,3.5392029294068106,3.542346093642518,3.5454892578782258,3.548632422113933,3.551775586349641,3.554918750585349,3.558061914821056,3.561205079056764,3.564348243292472,3.567491407528179,3.570634571763887,3.5737777359995944,3.576920900235302,3.58006406447101,3.5832072287067174,3.586350392942425,3.5894935571781326,3.5926367214138404,3.595779885649548,3.5989230498852556,3.6020662141209634,3.605209378356671,3.6083525425923786,3.6114957068280864,3.614638871063794,3.6177820352995016,3.6209251995352094,3.624068363770917,3.6272115280066246,3.630354692242332,3.63349785647804,3.6366410207137476,3.639784184949455,3.642927349185163,3.6460705134208706,3.649213677656578,3.652356841892286,3.655500006127993,3.658643170363701,3.661786334599409,3.664929498835116,3.668072663070824,3.6712158273065314,3.674358991542239,3.677502155777947,3.6806453200136544,3.6837884842493622,3.68693164848507,3.6900748127207774,3.6932179769564852,3.6963611411921926,3.6995043054279004,3.7026474696636082,3.7057906338993156,3.7089337981350234,3.712076962370731,3.7152201266064386,3.7183632908421465,3.721506455077854,3.7246496193135616,3.7277927835492695,3.730935947784977,3.7340791120206847,3.737222276256392,3.7403654404921,3.7435086047278077,3.746651768963515,3.749794933199223,3.7529380974349302,3.756081261670638,3.759224425906346,3.7623675901420532,3.765510754377761,3.7686539186134684,3.7717970828491763,3.774940247084884,3.7780834113205914,3.7812265755562993,3.784369739792007,3.7875129040277145,3.7906560682634223,3.7937992324991296,3.7969423967348375,3.8000855609705453,3.8032287252062527,3.8063718894419605,3.809515053677668,3.8126582179133757,3.8158013821490835,3.818944546384791,3.8220877106204987,3.8252308748562065,3.828374039091914,3.8315172033276217,3.834660367563329,3.837803531799037,3.8409466960347447,3.844089860270452,3.84723302450616,3.8503761887418673,3.853519352977575,3.856662517213283,3.8598056814489903,3.862948845684698,3.866092009920406,3.8692351741561133,3.872378338391821,3.8755215026275285,3.8786646668632363,3.881807831098944,3.8849509953346515,3.8880941595703593,3.8912373238060667,3.8943804880417745,3.8975236522774823,3.9006668165131897,3.9038099807488975,3.9069531449846053,3.9100963092203127,3.9132394734560205,3.916382637691728,3.9195258019274357,3.9226689661631435,3.925812130398851,3.9289552946345587,3.932098458870266,3.935241623105974,3.9383847873416817,3.941527951577389,3.944671115813097,3.9478142800488047,3.950957444284512,3.95410060852022,3.9572437727559273,3.960386936991635,3.963530101227343,3.9666732654630503,3.969816429698758,3.9729595939344655,3.9761027581701733,3.979245922405881,3.9823890866415885,3.9855322508772963,3.9886754151130037,3.9918185793487115,3.9949617435844194,3.9981049078201267,4.0012480720558345,4.004391236291542,4.00753440052725,4.010677564762958,4.013820728998665,4.016963893234373,4.020107057470081,4.023250221705788,4.026393385941495,4.029536550177204,4.032679714412911,4.035822878648618,4.038966042884327,4.042109207120034,4.045252371355741,4.04839553559145,4.051538699827157,4.054681864062864,4.057825028298573,4.06096819253428,4.064111356769987,4.067254521005695,4.070397685241403,4.07354084947711,4.076684013712818,4.079827177948526,4.082970342184233,4.086113506419941,4.089256670655649,4.092399834891356,4.095542999127064,4.098686163362771,4.101829327598479,4.104972491834187,4.108115656069894,4.111258820305602,4.11440198454131,4.117545148777017,4.120688313012725,4.123831477248433,4.12697464148414,4.130117805719848,4.133260969955556,4.136404134191263,4.139547298426971,4.142690462662679,4.145833626898386,4.148976791134094,4.152119955369802,4.155263119605509,4.158406283841217,4.161549448076925,4.164692612312632,4.16783577654834,4.170978940784048,4.174122105019755,4.177265269255463,4.18040843349117,4.183551597726878,4.186694761962586,4.189837926198293,4.192981090434001,4.196124254669709,4.199267418905416,4.202410583141124,4.205553747376832,4.208696911612539,4.211840075848247,4.214983240083955,4.218126404319662,4.221269568555369,4.224412732791078,4.227555897026785,4.230699061262492,4.233842225498201,4.236985389733908,4.240128553969615,4.243271718205324,4.246414882441031,4.249558046676738,4.252701210912447,4.255844375148154,4.258987539383861,4.262130703619569,4.265273867855277,4.268417032090984,4.271560196326692,4.2747033605624,4.2778465247981075,4.280989689033815,4.284132853269523,4.2872760175052305,4.290419181740938,4.293562345976646,4.2967055102123535,4.299848674448061,4.302991838683768,4.3061350029194765,4.309278167155184,4.312421331390891,4.3155644956265995,4.318707659862307,4.321850824098014,4.3249939883337225,4.32813715256943,4.331280316805137,4.3344234810408455,4.337566645276553,4.34070980951226,4.343852973747968,4.346996137983676,4.350139302219383,4.353282466455091,4.356425630690799,4.359568794926506,4.362711959162214,4.365855123397922,4.368998287633629,4.372141451869337,4.375284616105045,4.378427780340752,4.38157094457646,4.384714108812167,4.387857273047875,4.391000437283583,4.39414360151929,4.397286765754998,4.400429929990706,4.403573094226413,4.406716258462121,4.409859422697829,4.413002586933536,4.416145751169244,4.419288915404952,4.422432079640659,4.4255752438763665,4.428718408112075,4.431861572347782,4.4350047365834895,4.438147900819198,4.441291065054905,4.4444342292906125,4.447577393526321,4.450720557762028,4.4538637219977355,4.457006886233444,4.460150050469151,4.4632932147048585,4.466436378940566,4.469579543176274,4.4727227074119815,4.475865871647689,4.479009035883397,4.4821522001191045,4.485295364354812,4.48843852859052,4.4915816928262275,4.494724857061935,4.497868021297643,4.501011185533351,4.504154349769058,4.507297514004765,4.510440678240474,4.513583842476181,4.516727006711888,4.519870170947597,4.523013335183304,4.526156499419011,4.52929966365472,4.532442827890427,4.535585992126134,4.538729156361842,4.54187232059755,4.545015484833257,4.548158649068965,4.551301813304673,4.55444497754038,4.557588141776088,4.560731306011796,4.563874470247503,4.567017634483211,4.570160798718919,4.573303962954626,4.576447127190334,4.579590291426041,4.582733455661749,4.585876619897457,4.589019784133164,4.592162948368872,4.59530611260458,4.598449276840287,4.601592441075995,4.604735605311703,4.60787876954741,4.611021933783118,4.614165098018826,4.617308262254533,4.6204514264902405,4.623594590725949,4.626737754961656,4.6298809191973636,4.633024083433072,4.636167247668779,4.639310411904487,4.642453576140195,4.645596740375902,4.64873990461161,4.651883068847318,4.655026233083025,4.658169397318733,4.66131256155444,4.664455725790148,4.667598890025856,4.670742054261563,4.673885218497271,4.677028382732979,4.680171546968686,4.683314711204394,4.686457875440102,4.689601039675809,4.692744203911517,4.695887368147225,4.699030532382932,4.702173696618639,4.705316860854348,4.708460025090055,4.711603189325762,4.714746353561471,4.717889517797178,4.721032682032885,4.724175846268594,4.727319010504301,4.730462174740008,4.733605338975717,4.736748503211424,4.739891667447131,4.743034831682839,4.746177995918547,4.749321160154254,4.752464324389962,4.75560748862567,4.758750652861377,4.761893817097085,4.765036981332793,4.7681801455685004,4.771323309804208,4.774466474039916,4.7776096382756235,4.780752802511331,4.783895966747038,4.7870391309827465,4.790182295218454,4.793325459454161,4.7964686236898695,4.799611787925577,4.802754952161284,4.8058981163969925,4.8090412806327,4.812184444868407,4.8153276091041155,4.818470773339823,4.82161393757553,4.824757101811238,4.827900266046946,4.831043430282653,4.834186594518361,4.837329758754069,4.840472922989776,4.843616087225484,4.846759251461192,4.849902415696899,4.853045579932607,4.856188744168315,4.859331908404022,4.86247507263973,4.865618236875437,4.868761401111145,4.871904565346853,4.87504772958256,4.878190893818268,4.881334058053976,4.884477222289683,4.887620386525391,4.890763550761099,4.893906714996806,4.897049879232514,4.900193043468222,4.903336207703929,4.9064793719396365,4.909622536175345,4.912765700411052,4.9159088646467595,4.919052028882468,4.922195193118175,4.9253383573538825,4.928481521589591,4.931624685825298,4.9347678500610055,4.937911014296713,4.941054178532421,4.9441973427681285,4.947340507003836,4.950483671239544,4.9536268354752515,4.956769999710959,4.959913163946667,4.9630563281823745,4.966199492418082,4.96934265665379,4.9724858208894975,4.975628985125205,4.978772149360912,4.9819153135966205,4.985058477832328,4.988201642068035,4.9913448063037436,4.994487970539451,4.997631134775158,5.000774299010867,5.003917463246574,5.007060627482281,5.01020379171799,5.013346955953697,5.016490120189404,5.019633284425112,5.02277644866082,5.025919612896527,5.029062777132235,5.032205941367943,5.03534910560365,5.038492269839358,5.041635434075066,5.044778598310773,5.047921762546481,5.051064926782189,5.054208091017896,5.057351255253604,5.060494419489311,5.063637583725019,5.066780747960727,5.069923912196434,5.073067076432142,5.07621024066785,5.079353404903557,5.082496569139265,5.085639733374973,5.08878289761068,5.091926061846388,5.095069226082096,5.098212390317803,5.1013555545535105,5.104498718789219,5.107641883024926,5.1107850472606335,5.113928211496342,5.117071375732049,5.1202145399677566,5.123357704203465,5.126500868439172,5.12964403267488,5.132787196910588,5.135930361146295,5.139073525382003,5.14221668961771,5.145359853853418,5.148503018089126,5.151646182324833,5.154789346560541,5.157932510796249,5.161075675031956,5.164218839267664,5.167362003503372,5.170505167739079,5.173648331974787,5.176791496210495,5.179934660446202,5.183077824681909,5.186220988917618,5.189364153153325,5.192507317389032,5.195650481624741,5.198793645860448,5.201936810096155,5.205079974331864,5.208223138567571,5.211366302803278,5.214509467038987,5.217652631274694,5.220795795510401,5.223938959746109,5.227082123981817,5.230225288217524,5.233368452453232,5.23651161668894,5.239654780924647,5.242797945160355,5.245941109396063,5.24908427363177,5.252227437867478,5.255370602103186,5.2585137663388934,5.261656930574601,5.264800094810308,5.2679432590460165,5.271086423281724,5.274229587517431,5.2773727517531395,5.280515915988847,5.283659080224554,5.2868022444602625,5.28994540869597,5.293088572931677,5.2962317371673855,5.299374901403093,5.3025180656388,5.305661229874508,5.308804394110216,5.311947558345923,5.315090722581631,5.318233886817339,5.321377051053046,5.324520215288754,5.327663379524462,5.330806543760169,5.333949707995877,5.337092872231585,5.340236036467292,5.343379200703,5.346522364938707,5.349665529174415,5.352808693410123,5.35595185764583,5.359095021881538,5.362238186117246,5.365381350352953,5.368524514588661,5.371667678824369,5.374810843060076,5.377954007295783,5.381097171531492,5.384240335767199,5.3873835000029064,5.390526664238615,5.393669828474322,5.3968129927100295,5.399956156945738,5.403099321181445,5.4062424854171525,5.409385649652861,5.412528813888568,5.4156719781242755,5.418815142359983,5.421958306595691,5.4251014708313985,5.428244635067106,5.431387799302814,5.4345309635385215,5.437674127774229,5.440817292009937,5.4439604562456445,5.447103620481352,5.45024678471706,5.4533899489527675,5.456533113188475,5.459676277424182,5.4628194416598905,5.465962605895598,5.469105770131305,5.4722489343670135,5.475392098602721,5.478535262838428,5.4816784270741366,5.484821591309844,5.487964755545551,5.49110791978126,5.494251084016967,5.497394248252674,5.500537412488382,5.50368057672409,5.506823740959797,5.509966905195505,5.513110069431213,5.51625323366692,5.519396397902628,5.522539562138336,5.525682726374043,5.528825890609751,5.531969054845459,5.535112219081166,5.538255383316874,5.541398547552581,5.544541711788289,5.547684876023997,5.550828040259704,5.553971204495412,5.55711436873112,5.560257532966827,5.563400697202535,5.566543861438243,5.56968702567395,5.572830189909658,5.575973354145366,5.579116518381073,5.5822596826167805,5.585402846852489,5.588546011088196,5.5916891753239035,5.594832339559612,5.597975503795319,5.6011186680310265,5.604261832266735,5.607404996502442,5.6105481607381495,5.613691324973858,5.616834489209565,5.619977653445273,5.62312081768098,5.626263981916688,5.629407146152396,5.632550310388103,5.635693474623811,5.638836638859519,5.641979803095226,5.645122967330934,5.648266131566642,5.651409295802349,5.654552460038057,5.657695624273765,5.660838788509472,5.663981952745179,5.667125116980888,5.670268281216595,5.673411445452302,5.676554609688011,5.679697773923718,5.682840938159425,5.685984102395134,5.689127266630841,5.692270430866548,5.695413595102257,5.698556759337964,5.701699923573671,5.704843087809379,5.707986252045087,5.711129416280794,5.714272580516502,5.71741574475221,5.720558908987917,5.723702073223625,5.726845237459333,5.72998840169504,5.733131565930748,5.736274730166456,5.739417894402163,5.742561058637871,5.745704222873578,5.7488473871092864,5.751990551344994,5.755133715580701,5.7582768798164095,5.761420044052117,5.764563208287824,5.7677063725235325,5.77084953675924,5.773992700994947,5.7771358652306555,5.780279029466363,5.78342219370207,5.786565357937778,5.789708522173486,5.792851686409193,5.795994850644901,5.799138014880609,5.802281179116316,5.805424343352024,5.808567507587732,5.811710671823439,5.814853836059147,5.817997000294854,5.821140164530562,5.82428332876627,5.827426493001977,5.830569657237685,5.833712821473393,5.8368559857091,5.839999149944808,5.843142314180516,5.846285478416223,5.849428642651931,5.852571806887639,5.855714971123346,5.858858135359053,5.862001299594762,5.865144463830469,5.868287628066176,5.871430792301885,5.874573956537592,5.877717120773299,5.880860285009008,5.884003449244715,5.8871466134804225,5.890289777716131,5.893432941951838,5.8965761061875455,5.899719270423253,5.902862434658961,5.9060055988946685,5.909148763130376,5.912291927366084,5.9154350916017915,5.918578255837499,5.921721420073207,5.9248645843089145,5.928007748544622,5.93115091278033,5.9342940770160375,5.937437241251745,5.940580405487452,5.9437235697231605,5.946866733958868,5.950009898194575,5.9531530624302835,5.956296226665991,5.959439390901698,5.9625825551374065,5.965725719373114,5.968868883608821,5.9720120478445295,5.975155212080237,5.978298376315944,5.981441540551652,5.98458470478736,5.987727869023067,5.990871033258775,5.994014197494483,5.99715736173019,6.000300525965898,6.003443690201606,6.006586854437313,6.009730018673021,6.012873182908729,6.016016347144436,6.019159511380144,6.022302675615851,6.025445839851559,6.028589004087267,6.031732168322974,6.034875332558682,6.03801849679439,6.041161661030097,6.044304825265805,6.047447989501513,6.05059115373722,6.053734317972928,6.056877482208636,6.060020646444343,6.0631638106800505,6.066306974915759,6.069450139151466,6.0725933033871735,6.075736467622882,6.078879631858589,6.0820227960942965,6.085165960330005,6.088309124565712,6.0914522888014195,6.094595453037128,6.097738617272835,6.1008817815085425,6.10402494574425,6.107168109979958,6.1103112742156656,6.113454438451373,6.116597602687081,6.119740766922789,6.122883931158496,6.126027095394204,6.129170259629912,6.132313423865619,6.135456588101327,6.138599752337035,6.141742916572742,6.144886080808449,6.148029245044158,6.151172409279865,6.154315573515572,6.157458737751281,6.160601901986988,6.163745066222695,6.166888230458404,6.170031394694111,6.173174558929818,6.176317723165527,6.179460887401234,6.182604051636941,6.185747215872649,6.188890380108357,6.192033544344064,6.195176708579772,6.19831987281548,6.201463037051187,6.204606201286895,6.207749365522603,6.21089252975831,6.214035693994018,6.217178858229726,6.220322022465433,6.223465186701141,6.226608350936848,6.229751515172556,6.232894679408264,6.236037843643971,6.239181007879679,6.242324172115387,6.245467336351094,6.2486105005868025,6.25175366482251,6.254896829058217,6.258039993293925,6.261183157529633,6.26432632176534,6.267469486001048,6.270612650236756,6.273755814472463,6.276898978708171,6.280042142943879,6.283185307179586],\"y\":[0.0,0.003143159060238096,0.006286287067720245,0.009429352969997286,0.01257232571523362,0.015715174252513998,0.018857867532150272,0.022000374505988164,0.025142664127713998,0.028284705353161424,0.0314264671406181,0.03456791845113242,0.03770902824882009,0.040849765501170796,0.04399009917935478,0.04712999825852939,0.05026943171814557,0.05340836854225433,0.056546777719813215,0.059684628244992606,0.06282188911748207,0.0659585293427967,0.06909451793258313,0.07222982390492594,0.07536441628465354,0.07849826410364426,0.08163133640113233,0.08476360222401372,0.08789503062715187,0.09102559067368361,0.09415525143532459,0.09728398199267493,0.10041175143552472,0.1035385288631593,0.10666428338466463,0.10978898411923245,0.11291260019646535,0.11603510075668172,0.11915645495122076,0.12227663194274711,0.12539560090555552,0.1285133310258755,0.1316297915021756,0.13474495154546787,0.13785878037961183,0.1409712472416188,0.14408232138195554,0.1471919720648482,0.150300168568586,0.15340688018582457,0.15651207622388952,0.15961572600507962,0.16271779886696974,0.16581826416271395,0.1689170912613482,0.17201424954809297,0.17510970842465573,0.17820343730953322,0.1812954056383136,0.18438558286397838,0.18747393845720423,0.1905604419066646,0.1936450627193311,0.19672777042077488,0.19980853455546754,0.20288732468708218,0.20596411039879395,0.20903886129358054,0.21211154699452278,0.2151821371451043,0.21825060140951183,0.2213169094729346,0.22438103104186405,0.22744293584439296,0.23050259363051478,0.23355997417242208,0.2366150472648055,0.23966778272515207,0.2427181503940434,0.24576612013545354,0.24881166183704698,0.2518547454104758,0.25489534079167714,0.25793341794117025,0.260968946844353,0.2640018975117988,0.26703223997955255,0.27005994430942676,0.2730849805892974,0.2761073189333995,0.27912692948262213,0.2821437824048034,0.28515784789502563,0.2881690961759093,0.29117749749790744,0.2941830221395997,0.2971856404079855,0.30018532263877806,0.3031820391966969,0.3061757604757607,0.30916645689958033,0.3121540989216503,0.315138657025641,0.31812010172569044,0.32109840356669545,0.32407353312460246,0.32704546100669857,0.33001415785190163,0.3329795943310505,0.33594174114719483,0.3389005690358841,0.3418560487654574,0.34480815113733165,0.34775684698629045,0.3507021071807718,0.3536439026231564,0.3565822042500548,0.35951698303259455,0.3624482099767071,0.36537585612341417,0.36829989254911394,0.37122029036586657,0.3741370207216799,0.37705005480079434,0.3799593638239676,0.3828649190487589,0.385766691769813,0.3886646533191438,0.3915587750664177,0.3944490284192361,0.39733538482341846,0.4002178157632836,0.40309629276193215,0.4059707873815275,0.40884127122357683,0.41170771592921185,0.4145700931794686,0.41742837469556754,0.42028253223919276,0.42313253761277114,0.4259783626597507,0.42881997926487897,0.43165735935448063,0.4344904748967348,0.43731929790195234,0.4401438004228519,0.44296395455483617,0.44577973243626795,0.4485911062487449,0.4513980482173744,0.45420053061104837,0.4569985257427169,0.45979200596966185,0.4625809436937699,0.4653653113618054,0.46814508146568234,0.4709202265427363,0.4736907191759956,0.47645653199445226,0.47921763767333253,0.4819740089343666,0.4847256185460583,0.48747243932395384,0.4902144441309109,0.4929516058773663,0.49568389752160347,0.4984112920700204,0.5011337625773953,0.5038512821471537,0.5065638239316335,0.5092713611323508,0.5119738670002639,0.5146713148360386,0.5173636779903108,0.5200509298639509,0.5227330439083256,0.525409993625561,0.528081752568804,0.5307482943424833,0.5334095926025708,0.5360656210568414,0.5387163534651331,0.5413617636396058,0.5440018254450003,0.5466365127988966,0.5492657996719715,0.5518896600882554,0.5545080681253896,0.5571209979148817,0.5597284236423617,0.5623303195478371,0.5649266599259464,0.5675174191262146,0.5701025715533049,0.5726820916672735,0.57525595398382,0.5778241330745406,0.5803866035671786,0.5829433401458751,0.5854943175514196,0.5880395105814988,0.5905788940909463,0.5931124429919904,0.5956401322545027,0.5981619369062444,0.600677832033114,0.6031877927793927,0.6056917943479906,0.6081898120006908,0.6106818210583949,0.6131677969013658,0.6156477149694718,0.6181215507624285,0.6205892798400412,0.6230508778224466,0.6255063203903531,0.6279555832852816,0.6303986423098045,0.6328354733277857,0.6352660522646181,0.6376903551074622,0.6401083579054827,0.6425200367700856,0.6449253678751542,0.6473243274572839,0.6497168918160177,0.6521030373140798,0.6544827403776098,0.6568559774963945,0.6592227252241015,0.6615829601785098,0.6639366590417412,0.6662837985604906,0.6686243555462559,0.670958306875567,0.6732856294902141,0.6756063003974755,0.6779202966703449,0.6802275954477582,0.6825281739348187,0.6848220094030226,0.6871090791904838,0.6893893607021574,0.6916628314100631,0.6939294688535079,0.6961892506393077,0.6984421544420086,0.700688158004108,0.7029272391362733,0.7051593757175627,0.7073845456956421,0.7096027270870046,0.711813897977186,0.7140180365209827,0.7162151209426669,0.718405129536202,0.7205880406654561,0.7227638327644174,0.7249324843374059,0.7270939739592863,0.7292482802756799,0.7313953820031746,0.7335352579295364,0.7356678869139185,0.7377932478870696,0.7399113198515427,0.7420220818819026,0.7441255131249321,0.7462215927998385,0.7483103001984588,0.7503916146854637,0.7524655156985628,0.754531982748706,0.7565909954202877,0.7586425333713469,0.7606865763337695,0.7627231041134874,0.7647520965906791,0.7667735337199675,0.7687873955306185,0.7707936621267382,0.7727923136874691,0.774783330467187,0.7767666927956944,0.7787423810784165,0.7807103757965934,0.7826706575074741,0.7846232068445077,0.7865680045175353,0.7885050313129801,0.7904342680940378,0.7923556958008651,0.7942692954507682,0.7961750481383906,0.7980729350358996,0.7999629373931723,0.8018450365379808,0.8037192138761771,0.8055854508918759,0.8074437291476388,0.8092940302846554,0.8111363360229249,0.8129706281614371,0.8147968885783518,0.816615099231178,0.8184252421569521,0.8202272994724157,0.8220212533741913,0.8238070861389596,0.8255847801236331,0.8273543177655321,0.8291156815825564,0.8308688541733595,0.8326138182175193,0.8343505564757104,0.8360790517898736,0.8377992870833855,0.8395112453612275,0.8412149097101534,0.8429102632988572,0.8445972893781382,0.8462759712810671,0.8479462924231513,0.8496082363024975,0.8512617864999755,0.8529069266793804,0.8545436405875937,0.8561719120547442,0.8577917249943673,0.8594030634035643,0.8610059113631607,0.8626002530378628,0.8641860726764146,0.8657633546117531,0.8673320832611641,0.8688922431264344,0.8704438187940066,0.87198679493513,0.8735211563060132,0.8750468877479742,0.8765639741875899,0.8780724006368452,0.8795721521932816,0.8810632140401432,0.8825455714465249,0.8840192097675159,0.8854841144443459,0.8869402710045283,0.8883876650620035,0.8898262823172801,0.8912561085575778,0.8926771296569662,0.8940893315765054,0.8954927003643844,0.8968872221560586,0.8982728831743872,0.8996496697297693,0.9010175682202791,0.9023765651317996,0.9037266470381573,0.9050678006012541,0.9064000125711993,0.9077232697864404,0.9090375591738927,0.9103428677490696,0.9116391826162099,0.9129264909684057,0.9142047800877281,0.9154740373453542,0.9167342502016907,0.9179854062064986,0.9192274929990153,0.9204604983080776,0.9216844099522427,0.9228992158399079,0.9241049039694311,0.9253014624292485,0.9264888793979928,0.9276671431446101,0.9288362420284748,0.9299961644995058,0.9311468990982801,0.932288434456146,0.9334207592953355,0.9345438624290754,0.9356577327616985,0.9367623592887524,0.9378577310971091,0.938943837365072,0.9400206673624831,0.9410882104508294,0.9421464560833474,0.9431953938051277,0.944235013253218,0.9452653041567258,0.9462862563369197,0.9472978597073298,0.9483001042738479,0.9492929801348252,0.9502764774811715,0.9512505865964508,0.9522152978569783,0.9531706017319148,0.9541164887833612,0.9550529496664516,0.9559799751294459,0.9568975560138205,0.9578056832543599,0.9587043478792451,0.959593541010143,0.960473253862294,0.9613434777445982,0.9622042040597021,0.9630554243040831,0.9638971300681336,0.9647293130362439,0.9655519649868846,0.9663650777926878,0.9671686434205272,0.9679626539315976,0.9687471014814936,0.9695219783202864,0.970287276792601,0.9710429893376917,0.9717891084895165,0.9725256268768111,0.973252537223162,0.9739698323470777,0.9746775051620601,0.9753755486766748,0.9760639559946193,0.976742720314792,0.9774118349313591,0.9780712932338202,0.9787210887070751,0.9793612149314864,0.9799916655829445,0.9806124344329288,0.9812235153485701,0.9818249022927109,0.9824165893239648,0.9829985705967758,0.9835708403614751,0.9841333929643393,0.9846862228476447,0.9852293245497233,0.9857626927050165,0.9862863220441276,0.9868002073938746,0.9873043436773412,0.9877987259139261,0.9882833492193934,0.98875820880592,0.9892232999821434,0.9896786181532077,0.9901241588208092,0.9905599175832408,0.9909858901354354,0.9914020722690086,0.9918084598723,0.9922050489304145,0.9925918355252606,0.9929688158355909,0.9933359861370382,0.9936933428021535,0.9940408823004411,0.9943786011983938,0.9947064961595269,0.9950245639444106,0.995332801410703,0.9956312055131803,0.9959197733037669,0.9961985019315652,0.9964673886428831,0.9967264307812617,0.9969756257875008,0.9972149711996852,0.9974444646532082,0.9976641038807956,0.9978738867125272,0.9980738110758594,0.9982638749956445,0.9984440765941512,0.9986144140910828,0.9987748858035943,0.9989254901463098,0.9990662256313378,0.9991970908682858,0.9993180845642742,0.9994292055239488,0.9995304526494934,0.9996218249406393,0.9997033214946769,0.9997749415064627,0.9998366842684291,0.9998885491705899,0.9999305357005471,0.9999626434434962,0.9999848720822294,0.9999972213971394,0.9999996912662218,0.9999922816650751,0.9999749926669027,0.9999478244425106,0.9999107772603066,0.9998638514862973,0.9998070475840847,0.9997403661148613,0.9996638077374049,0.9995773732080722,0.9994810633807905,0.9993748792070504,0.9992588217358954,0.9991328921139124,0.9989970915852197,0.9988514214914548,0.9986958832717616,0.998530478462776,0.99835520869861,0.9981700757108368,0.9979750813284729,0.9977702274779598,0.997555516183146,0.9973309495652656,0.9970965298429187,0.9968522593320488,0.9965981404459197,0.9963341756950921,0.9960603676873989,0.995776719127919,0.9954832328189506,0.9951799116599839,0.9948667586476722,0.9945437768758023,0.994210969535264,0.9938683399140186,0.9935158913970662,0.9931536274664124,0.9927815517010343,0.9923996677768443,0.9920079794666544,0.991606490640139,0.9911952052637959,0.9907741274009082,0.9903432612115034,0.9899026109523125,0.9894521809767279,0.9889919757347606,0.9885219997729958,0.9880422577345487,0.9875527543590178,0.9870534944824386,0.9865444830372357,0.9860257250521743,0.9854972256523098,0.984958990058938,0.984411023589543,0.983853331657745,0.9832859197732465,0.982708793541778,0.9821219586650427,0.9815254209406601,0.9809191862621087,0.9803032606186678,0.9796776500953583,0.9790423608728828,0.978397399227564,0.9777427715312833,0.9770784842514176,0.9764045439507755,0.9757209572875317,0.9750277310151628,0.974324871982379,0.9736123871330575,0.9728902835061733,0.9721585682357299,0.9714172485506886,0.9706663317748975,0.9699058253270189,0.9691357367204558,0.9683560735632782,0.9675668435581473,0.9667680545022398,0.965959714287171,0.9651418308989163,0.9643144124177327,0.9634774670180793,0.9626310029685355,0.9617750286317205,0.9609095524642097,0.9600345830164518,0.9591501289326843,0.9582561989508472,0.9573528019024984,0.9564399467127246,0.9555176424000543,0.9545858980763684,0.9536447229468099,0.9526941263096935,0.9517341175564132,0.9507647061713498,0.9497859017317772,0.9487977139077678,0.9478001524620966,0.9467932272501455,0.945776948219805,0.9447513254113767,0.9437163689574737,0.9426720890829208,0.9416184961046529,0.9405556004316138,0.9394834125646527,0.9384019430964213,0.9373112027112682,0.9362112021851339,0.9351019523854439,0.9339834642710024,0.9328557488918827,0.9317188173893186,0.9305726809955946,0.9294173510339345,0.92825283891839,0.9270791561537273,0.9258963143353139,0.9247043251490038,0.9235032003710226,0.9222929518678503,0.9210735915961046,0.9198451316024228,0.9186075840233425,0.9173609610851821,0.9161052751039194,0.9148405384850706,0.9135667637235674,0.9122839634036334,0.9109921501986602,0.9096913368710817,0.9083815362722486,0.9070627613423007,0.9057350251100397,0.9043983406928006,0.9030527212963207,0.9016981802146117,0.9003347308298253,0.8989623866121235,0.8975811611195446,0.8961910679978685,0.8947921209804836,0.893384333888249,0.8919677206293598,0.8905422951992092,0.8891080716802493,0.8876650642418533,0.8862132871401742,0.8847527547180054,0.8832834814046381,0.8818054817157183,0.8803187702531046,0.8788233617047235,0.8773192708444233,0.8758065125318298,0.8742851017121981,0.8727550534162658,0.8712163827601044,0.8696691049449691,0.8681132352571502,0.8665487890678203,0.8649757818328839,0.8633942290928242,0.8618041464725485,0.8602055496812363,0.8585984545121818,0.8569828768426383,0.8553588326336627,0.853726337929956,0.8520854088597062,0.8504360616344284,0.848778312548804,0.8471121779805212,0.8454376743901115,0.8437548183207888,0.8420636263982847,0.8403641153306841,0.8386563019082616,0.8369402030033143,0.8352158355699951,0.8334832166441466,0.8317423633431305,0.8299932928656607,0.8282360224916326,0.8264705695819514,0.8246969515783624,0.8229151860032768,0.8211252904596004,0.8193272826305583,0.8175211802795205,0.8157070012498272,0.8138847634646118,0.8120544849266234,0.8102161837180503,0.8083698780003398,0.80651558601402,0.8046533260785194,0.8027831165919848,0.8009049760311012,0.7990189229509077,0.7971249759846155,0.7952231538434233,0.7933134753163317,0.7913959592699589,0.7894706246483536,0.7875374904728074,0.7855965758416681,0.7836478999301495,0.7816914819901434,0.7797273413500289,0.7777554974144804,0.7757759696642779,0.7737887776561122,0.7717939410223943,0.7697914794710594,0.7677814127853725,0.7657637608237341,0.7637385435194824,0.7617057808806978,0.7596654929900051,0.757617700004373,0.755562422154918,0.7534996797467031,0.7514294931585361,0.7493518828427708,0.747266869325102,0.7451744732043656,0.7430747151523333,0.740967615913508,0.738853196304921,0.7367314772159238,0.7346024796079836,0.7324662245144758,0.7303227330404749,0.728172026362548,0.7260141257285443,0.7238490524573851,0.7216768279388545,0.7194974736333859,0.7173110110718521,0.7151174618553523,0.7129168476549963,0.7107091902116941,0.7084945113359379,0.7062728329075885,0.7040441768756591,0.7018085652580968,0.6995660201415671,0.6973165636812348,0.6950602181005443,0.6927970056910022,0.6905269488119543,0.6882500698903672,0.6859663914206058,0.6836759359642096,0.681378726149673,0.6790747846722183,0.6767641342935738,0.6744467978417489,0.6721227982108063,0.6697921583606385,0.6674549013167402,0.6651110501699791,0.6627606280763705,0.6604036582568462,0.6580401639970268,0.6556701686469911,0.6532936956210441,0.6509107683974883,0.6485214105183887,0.646125645589343,0.6437234972792474,0.6413149893200609,0.638900145506574,0.636478989696172,0.6340515458085985,0.6316178378257209,0.6291778897912916,0.6267317258107125,0.6242793700507955,0.6218208467395231,0.6193561801658114,0.6168853946792673,0.6144085146899502,0.6119255646681303,0.6094365691440451,0.6069415527076603,0.6044405400084232,0.6019335557550224,0.5994206247151421,0.5969017717152167,0.5943770216401876,0.5918463994332559,0.5893099300956354,0.5867676386863079,0.5842195503217725,0.5816656901758008,0.5791060834791861,0.5765407555194936,0.573969731640813,0.5713930372435054,0.5688106977839547,0.5662227387743147,0.5636291857822566,0.5610300644307185,0.5584254003976504,0.5558152194157605,0.5531995472722627,0.5505784098086193,0.5479518329202883,0.545319842556466,0.5426824647198305,0.5400397254662861,0.5373916509047041,0.5347382671966666,0.5320796005562075,0.529415677249552,0.5267465235948596,0.524072165961963,0.5213926307721063,0.5187079444976863,0.5160181336619887,0.513323224838928,0.5106232446527845,0.5079182197779395,0.5052081769386148,0.5024931429086051,0.4997731445110173,0.49704820861800314,0.4943183621504932,0.4915836320779331,0.48884404541801585,0.486099629236414,0.48335041064651457,0.4805964168091484,0.4778376749323244,0.4750742122709596,0.47230605612660875,0.4695332338471973,0.4667557728267481,0.4639737005051135,0.46118704436770297,0.4583958319452106,0.45560009081334535,0.45279984859255745,0.4499951329477642,0.4471859715880798,0.44437239226653796,0.4415544227798208,0.43873209096798305,0.4359054247141755,0.4330744519443727,0.43023920062709375,0.42739969877312867,0.4245559744352605,0.4217080557079871,0.4188559707272462,0.41599974767013437,0.41313941475463134,0.41027500023932023,0.4074065324231068,0.4045340396449426,0.4016575502835437,0.39877709275710915,0.3958926955230428,0.39300438707766927,0.39011219595595514,0.3872161507312257,0.38431628001488144,0.38141261245611857,0.37850517674164225,0.37559400159538636,0.37267911577822843,0.3697605480877041,0.3668383273577253,0.3639124824582941,0.3609830422952162,0.3580500358098182,0.35511349197865844,0.35217343981324367,0.34922990835974116,0.3462829266986904,0.3433325239447187,0.3403787292462505,0.33742157178522203,0.33446108077679176,0.33149728546905066,0.3285302151427358,0.32555989911093947,0.32258636671881874,0.31960964734330827,0.3166297703928268,0.3136467653069894,0.31066066155631555,0.30767148864193655,0.3046792760953073,0.3016840534779108,0.29868585038096923,0.2956846964251505,0.29268062126027394,0.2896736545650204,0.2866638260466374,0.28365116544064456,0.2806357025105426,0.2776174670475161,0.27459648887014215,0.2715727978240943,0.26854642378184673,0.2655173966423816,0.26248574633089083,0.2594515027984831,0.2564146960218867,0.2533753560031522,0.2503335127693585,0.247289196372315,0.24424243688826333,0.2411932644175833,0.23814170908449195,0.23508780103674906,0.2320315704453581,0.22897304750426659,0.2259122624300711,0.2228492454617151,0.21978402686019335,0.21671663690825152,0.21364710591008582,0.21057546419104656,0.2075017420973352,0.20442596999570747,0.20134817827317206,0.19826839733668922,0.19518665761287282,0.19210298954768854,0.1890174236061518,0.18592999027202972,0.18284072004753657,0.17974964345303537,0.17665679102673523,0.1735621933243882,0.17046588091899034,0.1673678844004766,0.16426823437542112,0.161166961466734,0.15806409631335722,0.15495966956996451,0.15185371190665742,0.1487462540086608,0.14563732657602277,0.142526960323308,0.13941518597929717,0.13630203428668222,0.13318753600176125,0.13007172189413768,0.12695462274641287,0.123836269353885,0.12071669252424352,0.11759592307726349,0.1144739918445037,0.11135092966900079,0.10822676740496319,0.10510153591746937,0.10197526608215945,0.09884798878493316,0.09571973492164343,0.09259053539778982,0.08946042112821631,0.0863294230368023,0.08319757205616021,0.08006489912732856,0.07693143519946496,0.073797211229543,0.07066225818204507,0.06752660702865515,0.06439028874795592,0.061253334325119146,0.05811577475160265,0.05497764102484286,0.051838964147947184,0.04869977512939083,0.04556010498270696,0.04241998472618333,0.03927944538255454,0.036138517978694246,0.032997233545311234,0.029855623116641576,0.026713717730140668,0.023571548426179704,0.02042914624773548,0.01728654224008679,0.014143767450506394,0.011000852927952965,0.007857829722767433,0.00471472888636268,0.001571581470919876,-0.001571581470919631,-0.0047147288863624345,-0.007857829722766744,-0.01100085292795272,-0.01414376745050615,-0.017286542240086543,-0.020429146247735234,-0.02357154842617946,-0.026713717730140422,-0.02985562311664133,-0.032997233545310985,-0.036138517978693996,-0.0392794453825543,-0.04241998472618309,-0.04556010498270672,-0.048699775129390145,-0.051838964147946934,-0.054977641024842615,-0.05811577475160241,-0.061253334325118904,-0.06439028874795567,-0.06752660702865491,-0.07066225818204482,-0.07379721122954275,-0.07693143519946471,-0.08006489912732832,-0.08319757205615996,-0.08632942303680206,-0.08946042112821563,-0.09259053539778958,-0.09571973492164318,-0.09884798878493291,-0.1019752660821592,-0.10510153591746914,-0.10822676740496294,-0.11135092966900055,-0.11447399184450346,-0.11759592307726326,-0.12071669252424329,-0.12383626935388475,-0.12695462274641264,-0.130071721894137,-0.133187536001761,-0.136302034286682,-0.13941518597929692,-0.14252696032330775,-0.14563732657602252,-0.14874625400866054,-0.15185371190665717,-0.15495966956996426,-0.15806409631335697,-0.1611669614667338,-0.1642682343754209,-0.16736788440047634,-0.17046588091898968,-0.17356219332438794,-0.176656791026735,-0.17974964345303515,-0.18284072004753632,-0.18592999027202906,-0.18901742360615156,-0.1921029895476883,-0.19518665761287257,-0.19826839733668897,-0.20134817827317184,-0.20442596999570722,-0.20750174209733496,-0.2105754641910459,-0.21364710591008557,-0.21671663690825127,-0.2197840268601931,-0.22284924546171486,-0.22591226243007043,-0.22897304750426634,-0.23203157044535785,-0.23508780103674884,-0.2381417090844917,-0.24119326441758304,-0.2442424368882631,-0.24728919637231475,-0.2503335127693582,-0.2533753560031519,-0.25641469602188643,-0.25945150279848284,-0.2624857463308906,-0.26551739664238094,-0.26854642378184646,-0.2715727978240941,-0.27459648887014193,-0.27761746704751583,-0.2806357025105423,-0.28365116544064434,-0.2866638260466372,-0.2896736545650202,-0.2926806212602737,-0.2956846964251502,-0.298685850380969,-0.30168405347791055,-0.30467927609530665,-0.30767148864193633,-0.3106606615563153,-0.31364676530698915,-0.3166297703928266,-0.31960964734330805,-0.3225863667188185,-0.3255598991109392,-0.32853021514273556,-0.33149728546905044,-0.33446108077679154,-0.3374215717852218,-0.3403787292462503,-0.343332523944718,-0.34628292669869015,-0.34922990835974094,-0.35217343981324345,-0.3551134919786582,-0.3580500358098179,-0.360983042295216,-0.3639124824582939,-0.3668383273577251,-0.36976054808770387,-0.3726791157782282,-0.37559400159538614,-0.378505176741642,-0.3814126124561179,-0.3843162800148812,-0.38721615073122545,-0.3901121959559549,-0.39300438707766905,-0.3958926955230422,-0.39877709275710893,-0.4016575502835435,-0.4045340396449424,-0.4074065324231066,-0.41027500023932,-0.4131394147546311,-0.41599974767013415,-0.41885597072724556,-0.42170805570798686,-0.4245559744352603,-0.42739969877312844,-0.43023920062709353,-0.4330744519443721,-0.43590542471417526,-0.4387320909679828,-0.4415544227798206,-0.44437239226653774,-0.4471859715880796,-0.44999513294776405,-0.45279984859255723,-0.4556000908133451,-0.4583958319452104,-0.46118704436770275,-0.4639737005051133,-0.4667557728267479,-0.4695332338471967,-0.47230605612660853,-0.47507421227095936,-0.47783767493232415,-0.48059641680914816,-0.48335041064651435,-0.4860996292364138,-0.4888440454180157,-0.4915836320779329,-0.49431836215049296,-0.4970482086180029,-0.49977314451101706,-0.5024931429086049,-0.5052081769386141,-0.5079182197779393,-0.5106232446527843,-0.5133232248389278,-0.5160181336619885,-0.5187079444976861,-0.5213926307721061,-0.5240721659619629,-0.5267465235948594,-0.5294156772495517,-0.5320796005562073,-0.5347382671966664,-0.5373916509047039,-0.5400397254662855,-0.5426824647198303,-0.5453198425564658,-0.547951832920288,-0.5505784098086192,-0.5531995472722625,-0.5558152194157603,-0.5584254003976502,-0.5610300644307183,-0.5636291857822565,-0.5662227387743145,-0.5688106977839544,-0.5713930372435052,-0.5739697316408124,-0.5765407555194934,-0.5791060834791859,-0.5816656901758006,-0.5842195503217723,-0.5867676386863072,-0.5893099300956351,-0.5918463994332557,-0.5943770216401875,-0.5969017717152165,-0.5994206247151419,-0.6019335557550222,-0.604440540008423,-0.6069415527076597,-0.6094365691440449,-0.6119255646681301,-0.6144085146899501,-0.6168853946792671,-0.6193561801658108,-0.6218208467395229,-0.6242793700507953,-0.6267317258107123,-0.6291778897912914,-0.6316178378257207,-0.6340515458085982,-0.6364789896961719,-0.6389001455065738,-0.6413149893200607,-0.6437234972792472,-0.6461256455893429,-0.6485214105183885,-0.6509107683974877,-0.6532936956210439,-0.6556701686469909,-0.6580401639970267,-0.660403658256846,-0.6627606280763703,-0.6651110501699788,-0.66745490131674,-0.6697921583606384,-0.6721227982108061,-0.6744467978417488,-0.6767641342935737,-0.679074784672218,-0.6813787261496725,-0.6836759359642095,-0.6859663914206056,-0.6882500698903671,-0.6905269488119541,-0.692797005691002,-0.6950602181005442,-0.6973165636812346,-0.6995660201415669,-0.7018085652580967,-0.704044176875659,-0.7062728329075884,-0.7084945113359377,-0.7107091902116937,-0.7129168476549961,-0.7151174618553521,-0.717311011071852,-0.7194974736333857,-0.7216768279388543,-0.723849052457385,-0.7260141257285442,-0.7281720263625479,-0.7303227330404748,-0.7324662245144757,-0.7346024796079834,-0.7367314772159236,-0.7388531963049205,-0.7409676159135078,-0.743074715152333,-0.7451744732043655,-0.7472668693251019,-0.7493518828427703,-0.7514294931585359,-0.753499679746703,-0.7555624221549179,-0.7576177000043728,-0.7596654929900046,-0.7617057808806981,-0.7637385435194822,-0.7657637608237337,-0.7677814127853726,-0.7697914794710593,-0.7717939410223942,-0.7737887776561119,-0.7757759696642776,-0.7777554974144802,-0.7797273413500284,-0.7816914819901435,-0.7836478999301494,-0.7855965758416676,-0.7875374904728075,-0.7894706246483535,-0.7913959592699588,-0.7933134753163319,-0.7952231538434232,-0.7971249759846153,-0.7990189229509073,-0.800904976031101,-0.8027831165919846,-0.804653326078519,-0.8065155860140201,-0.8083698780003397,-0.8102161837180499,-0.8120544849266235,-0.8138847634646117,-0.815707001249827,-0.8175211802795201,-0.8193272826305581,-0.8211252904596001,-0.8229151860032765,-0.8246969515783623,-0.8264705695819513,-0.8282360224916322,-0.8299932928656608,-0.8317423633431303,-0.8334832166441462,-0.8352158355699952,-0.8369402030033142,-0.8386563019082613,-0.8403641153306838,-0.8420636263982846,-0.8437548183207887,-0.8454376743901112,-0.8471121779805211,-0.8487783125488039,-0.8504360616344281,-0.8520854088597063,-0.8537263379299559,-0.8553588326336623,-0.8569828768426383,-0.8585984545121816,-0.8602055496812362,-0.8618041464725482,-0.863394229092824,-0.8649757818328837,-0.86654878906782,-0.8681132352571501,-0.869669104944969,-0.871216382760104,-0.8727550534162659,-0.874285101712198,-0.8758065125318295,-0.8773192708444233,-0.8788233617047233,-0.8803187702531045,-0.8818054817157179,-0.883283481404638,-0.8847527547180053,-0.8862132871401739,-0.8876650642418532,-0.8891080716802492,-0.890542295199209,-0.8919677206293599,-0.8933843338882489,-0.8947921209804832,-0.8961910679978686,-0.8975811611195444,-0.8989623866121234,-0.900334730829825,-0.9016981802146116,-0.9030527212963206,-0.9043983406928002,-0.9057350251100398,-0.9070627613423006,-0.9083815362722483,-0.9096913368710817,-0.9109921501986601,-0.9122839634036333,-0.9135667637235675,-0.9148405384850705,-0.9161052751039193,-0.9173609610851817,-0.9186075840233424,-0.9198451316024226,-0.9210735915961044,-0.9222929518678502,-0.9235032003710225,-0.9247043251490037,-0.9258963143353138,-0.9270791561537273,-0.9282528389183898,-0.9294173510339346,-0.9305726809955945,-0.9317188173893184,-0.9328557488918824,-0.9339834642710024,-0.9351019523854439,-0.9362112021851337,-0.9373112027112682,-0.9384019430964213,-0.9394834125646526,-0.9405556004316138,-0.9416184961046528,-0.9426720890829206,-0.9437163689574738,-0.9447513254113766,-0.9457769482198048,-0.9467932272501453,-0.9478001524620966,-0.9487977139077677,-0.949785901731777,-0.9507647061713498,-0.9517341175564131,-0.9526941263096933,-0.9536447229468099,-0.9545858980763683,-0.9555176424000542,-0.9564399467127246,-0.9573528019024984,-0.9582561989508471,-0.959150128932684,-0.9600345830164518,-0.9609095524642096,-0.9617750286317204,-0.9626310029685355,-0.9634774670180792,-0.9643144124177326,-0.9651418308989163,-0.965959714287171,-0.9667680545022397,-0.9675668435581474,-0.9683560735632782,-0.9691357367204557,-0.9699058253270187,-0.9706663317748975,-0.9714172485506885,-0.9721585682357297,-0.9728902835061733,-0.9736123871330575,-0.9743248719823789,-0.9750277310151628,-0.9757209572875317,-0.9764045439507754,-0.9770784842514177,-0.9777427715312833,-0.978397399227564,-0.9790423608728827,-0.9796776500953583,-0.9803032606186677,-0.9809191862621086,-0.9815254209406601,-0.9821219586650426,-0.9827087935417779,-0.9832859197732465,-0.983853331657745,-0.984411023589543,-0.9849589900589379,-0.9854972256523098,-0.9860257250521742,-0.9865444830372356,-0.9870534944824386,-0.9875527543590177,-0.9880422577345486,-0.9885219997729958,-0.9889919757347605,-0.9894521809767278,-0.9899026109523126,-0.9903432612115034,-0.9907741274009082,-0.9911952052637958,-0.991606490640139,-0.9920079794666544,-0.9923996677768442,-0.9927815517010343,-0.9931536274664124,-0.9935158913970661,-0.9938683399140186,-0.994210969535264,-0.9945437768758022,-0.9948667586476722,-0.9951799116599839,-0.9954832328189505,-0.9957767191279189,-0.9960603676873989,-0.9963341756950921,-0.9965981404459195,-0.9968522593320487,-0.9970965298429187,-0.9973309495652656,-0.9975555161831459,-0.9977702274779598,-0.9979750813284729,-0.9981700757108369,-0.99835520869861,-0.9985304784627759,-0.9986958832717616,-0.9988514214914548,-0.9989970915852197,-0.9991328921139124,-0.9992588217358954,-0.9993748792070504,-0.9994810633807905,-0.9995773732080722,-0.9996638077374049,-0.9997403661148613,-0.9998070475840847,-0.9998638514862973,-0.9999107772603066,-0.9999478244425106,-0.9999749926669027,-0.9999922816650751,-0.9999996912662218,-0.9999972213971394,-0.9999848720822294,-0.9999626434434962,-0.9999305357005471,-0.9998885491705899,-0.9998366842684291,-0.9997749415064627,-0.9997033214946769,-0.9996218249406393,-0.9995304526494934,-0.9994292055239488,-0.9993180845642742,-0.9991970908682858,-0.9990662256313378,-0.9989254901463098,-0.9987748858035943,-0.9986144140910828,-0.9984440765941512,-0.9982638749956445,-0.9980738110758594,-0.9978738867125272,-0.9976641038807956,-0.9974444646532084,-0.9972149711996852,-0.9969756257875008,-0.9967264307812617,-0.9964673886428831,-0.9961985019315652,-0.9959197733037669,-0.9956312055131803,-0.995332801410703,-0.9950245639444106,-0.9947064961595268,-0.9943786011983938,-0.9940408823004412,-0.9936933428021536,-0.9933359861370382,-0.9929688158355909,-0.9925918355252608,-0.9922050489304145,-0.9918084598723002,-0.9914020722690087,-0.9909858901354354,-0.9905599175832408,-0.9901241588208093,-0.9896786181532077,-0.9892232999821434,-0.9887582088059201,-0.9882833492193935,-0.9877987259139261,-0.9873043436773412,-0.9868002073938748,-0.9862863220441276,-0.9857626927050165,-0.9852293245497235,-0.9846862228476447,-0.9841333929643393,-0.9835708403614752,-0.9829985705967756,-0.9824165893239648,-0.9818249022927109,-0.9812235153485702,-0.9806124344329288,-0.9799916655829446,-0.9793612149314866,-0.9787210887070751,-0.9780712932338204,-0.9774118349313592,-0.976742720314792,-0.9760639559946194,-0.9753755486766749,-0.9746775051620603,-0.9739698323470777,-0.9732525372231621,-0.9725256268768113,-0.9717891084895165,-0.9710429893376917,-0.9702872767926012,-0.9695219783202864,-0.9687471014814937,-0.9679626539315977,-0.9671686434205271,-0.9663650777926878,-0.9655519649868847,-0.964729313036244,-0.9638971300681336,-0.9630554243040832,-0.9622042040597023,-0.9613434777445982,-0.9604732538622941,-0.9595935410101433,-0.9587043478792452,-0.95780568325436,-0.9568975560138206,-0.9559799751294458,-0.9550529496664516,-0.9541164887833613,-0.953170601731915,-0.9522152978569783,-0.9512505865964509,-0.9502764774811717,-0.9492929801348252,-0.9483001042738479,-0.94729785970733,-0.9462862563369197,-0.9452653041567259,-0.9442350132532181,-0.9431953938051276,-0.9421464560833475,-0.9410882104508296,-0.9400206673624834,-0.938943837365072,-0.9378577310971092,-0.9367623592887527,-0.9356577327616985,-0.9345438624290755,-0.9334207592953356,-0.9322884344561461,-0.9311468990982802,-0.929996164499506,-0.9288362420284747,-0.9276671431446101,-0.9264888793979931,-0.9253014624292488,-0.9241049039694311,-0.922899215839908,-0.9216844099522429,-0.9204604983080776,-0.9192274929990154,-0.9179854062064988,-0.9167342502016907,-0.9154740373453543,-0.9142047800877283,-0.9129264909684056,-0.91163918261621,-0.9103428677490698,-0.909037559173893,-0.9077232697864404,-0.9064000125711995,-0.9050678006012545,-0.9037266470381573,-0.9023765651317998,-0.9010175682202793,-0.8996496697297695,-0.8982728831743874,-0.8968872221560589,-0.8954927003643843,-0.8940893315765055,-0.8926771296569664,-0.8912561085575781,-0.8898262823172802,-0.8883876650620036,-0.8869402710045287,-0.8854841144443459,-0.884019209767516,-0.8825455714465251,-0.8810632140401433,-0.8795721521932817,-0.8780724006368454,-0.8765639741875898,-0.8750468877479743,-0.8735211563060135,-0.8719867949351303,-0.8704438187940066,-0.8688922431264346,-0.8673320832611644,-0.8657633546117532,-0.8641860726764147,-0.862600253037863,-0.8610059113631607,-0.8594030634035644,-0.8577917249943675,-0.8561719120547441,-0.8545436405875938,-0.8529069266793806,-0.8512617864999759,-0.8496082363024975,-0.8479462924231514,-0.8462759712810675,-0.8445972893781382,-0.8429102632988574,-0.8412149097101538,-0.8395112453612273,-0.8377992870833856,-0.8360790517898739,-0.8343505564757103,-0.8326138182175195,-0.8308688541733596,-0.8291156815825569,-0.8273543177655321,-0.8255847801236333,-0.8238070861389598,-0.8220212533741913,-0.8202272994724158,-0.8184252421569524,-0.816615099231178,-0.8147968885783519,-0.8129706281614374,-0.8111363360229248,-0.8092940302846554,-0.8074437291476391,-0.8055854508918763,-0.8037192138761771,-0.801845036537981,-0.7999629373931727,-0.7980729350358996,-0.7961750481383908,-0.7942692954507685,-0.792355695800865,-0.7904342680940378,-0.7885050313129803,-0.7865680045175357,-0.7846232068445078,-0.7826706575074743,-0.7807103757965939,-0.7787423810784165,-0.7767666927956947,-0.7747833304671874,-0.7727923136874691,-0.7707936621267383,-0.7687873955306188,-0.7667735337199675,-0.7647520965906792,-0.7627231041134878,-0.7606865763337699,-0.758642533371347,-0.7565909954202878,-0.7545319827487065,-0.7524655156985628,-0.750391614685464,-0.7483103001984591,-0.7462215927998386,-0.7441255131249322,-0.742022081881903,-0.7399113198515426,-0.7377932478870697,-0.7356678869139188,-0.733535257929537,-0.7313953820031747,-0.7292482802756801,-0.7270939739592869,-0.724932484337406,-0.7227638327644176,-0.7205880406654565,-0.7184051295362018,-0.7162151209426671,-0.7140180365209831,-0.7118138979771859,-0.7096027270870047,-0.7073845456956425,-0.7051593757175632,-0.7029272391362734,-0.7006881580041082,-0.6984421544420092,-0.6961892506393077,-0.6939294688535081,-0.6916628314100636,-0.6893893607021574,-0.6871090791904839,-0.684822009403023,-0.6825281739348186,-0.6802275954477583,-0.6779202966703453,-0.6756063003974759,-0.6732856294902141,-0.6709583068755673,-0.6686243555462564,-0.6662837985604906,-0.6639366590417414,-0.6615829601785101,-0.6592227252241014,-0.6568559774963947,-0.6544827403776101,-0.6521030373140797,-0.6497168918160178,-0.6473243274572842,-0.6449253678751548,-0.6425200367700857,-0.640108357905483,-0.6376903551074626,-0.6352660522646181,-0.6328354733277859,-0.6303986423098049,-0.6279555832852814,-0.6255063203903533,-0.6230508778224471,-0.6205892798400411,-0.6181215507624286,-0.6156477149694721,-0.6131677969013664,-0.610681821058395,-0.6081898120006911,-0.605691794347991,-0.6031877927793927,-0.6006778320331142,-0.5981619369062449,-0.5956401322545026,-0.5931124429919906,-0.5905788940909467,-0.5880395105814987,-0.5854943175514197,-0.5829433401458755,-0.5803866035671792,-0.5778241330745407,-0.5752559539838203,-0.5726820916672739,-0.5701025715533049,-0.5675174191262147,-0.5649266599259469,-0.5623303195478371,-0.559728423642362,-0.5571209979148821,-0.5545080681253894,-0.5518896600882555,-0.5492657996719718,-0.5466365127988971,-0.5440018254450003,-0.541361763639606,-0.5387163534651336,-0.5360656210568414,-0.533409592602571,-0.5307482943424837,-0.5280817525688039,-0.5254099936255612,-0.522733043908326,-0.5200509298639507,-0.5173636779903109,-0.5146713148360389,-0.5119738670002645,-0.5092713611323508,-0.5065638239316338,-0.5038512821471542,-0.5011337625773953,-0.4984112920700206,-0.49568389752160397,-0.4929516058773662,-0.4902144441309111,-0.4874724393239543,-0.4847256185460581,-0.4819740089343667,-0.47921763767333286,-0.4764565319944528,-0.4736907191759956,-0.4709202265427366,-0.4681450814656829,-0.46536531136180537,-0.4625809436937701,-0.4597920059696623,-0.4569985257427168,-0.45420053061104854,-0.4513980482173748,-0.44859110624874554,-0.4457797324362681,-0.44296395455483656,-0.44014380042285245,-0.4373192979019524,-0.4344904748967351,-0.43165735935448113,-0.42881997926487897,-0.4259783626597509,-0.4231325376127716,-0.4202825322391927,-0.4174283746955677,-0.414570093179469,-0.4117077159292125,-0.40884127122357694,-0.4059707873815278,-0.4030962927619327,-0.4002178157632836,-0.39733538482341874,-0.3944490284192367,-0.3915587750664176,-0.388664653319144,-0.38576669176981343,-0.3828649190487588,-0.3799593638239678,-0.3770500548007948,-0.3741370207216806,-0.3712202903658666,-0.36829989254911427,-0.3653758561234148,-0.3624482099767071,-0.35951698303259483,-0.3565822042500554,-0.3536439026231564,-0.35070210718077205,-0.34775684698629095,-0.3448081511373316,-0.34185604876545755,-0.3389005690358845,-0.33594174114719544,-0.3329795943310506,-0.33001415785190197,-0.3270454610066992,-0.32407353312460246,-0.3210984035666957,-0.318120101725691,-0.315138657025641,-0.3121540989216505,-0.30916645689958083,-0.3061757604757606,-0.303182039196697,-0.30018532263877845,-0.2971856404079862,-0.29418302213959974,-0.2911774974979078,-0.2881690961759099,-0.2851578478950257,-0.2821437824048037,-0.2791269294826227,-0.2761073189333995,-0.2730849805892977,-0.2700599443094272,-0.2670322399795524,-0.2640018975117989,-0.2609689468443534,-0.2579334179411709,-0.25489534079167725,-0.25185474541047614,-0.2488116618370476,-0.24576612013545357,-0.24271815039404365,-0.2396677827251526,-0.23661504726480545,-0.23355997417242227,-0.23050259363051526,-0.22744293584439285,-0.22438103104186416,-0.221316909472935,-0.2182506014095125,-0.2151821371451044,-0.21211154699452314,-0.20903886129358118,-0.20596411039879395,-0.20288732468708245,-0.1998085345554681,-0.1967277704207748,-0.1936450627193313,-0.19056044190666505,-0.1874739384572041,-0.18438558286397852,-0.181295405638314,-0.1782034373095339,-0.17510970842465579,-0.1720142495480933,-0.1689170912613488,-0.16581826416271395,-0.16271779886697002,-0.15961572600508017,-0.15651207622388946,-0.15340688018582477,-0.15030016856858644,-0.14719197206484805,-0.14408232138195565,-0.1409712472416192,-0.13785878037961252,-0.13474495154546792,-0.13162979150217594,-0.1285133310258761,-0.12539560090555552,-0.12227663194274736,-0.1191564549512213,-0.11603510075668165,-0.11291260019646553,-0.10978898411923292,-0.1066642833846645,-0.10353852886315942,-0.10041175143552511,-0.09728398199267561,-0.09415525143532465,-0.09102559067368395,-0.08789503062715248,-0.08476360222401369,-0.0816313364011326,-0.0784982641036448,-0.07536441628465346,-0.07222982390492613,-0.06909451793258359,-0.06595852934279653,-0.0628218891174822,-0.059684628244992995,-0.05654677771981388,-0.053408368542254385,-0.050269431718145886,-0.04712999825852999,-0.043990099179354765,-0.040849765501171045,-0.03770902824882061,-0.03456791845113233,-0.03142646714061829,-0.028284705353161875,-0.025142664127714726,-0.022000374505988275,-0.018857867532150657,-0.015715174252514653,-0.012572325715233661,-0.0094293529699976,-0.006286287067720833,-0.0031431590602380684,-2.4492935982947064e-16]}},\"id\":\"77bb39ca-aeda-445e-944c-8486728c9ae1\",\"type\":\"ColumnDataSource\"},{\"attributes\":{\"overlay\":{\"id\":\"676c476a-5913-4f51-9413-25fe794b4786\",\"type\":\"BoxAnnotation\"},\"plot\":{\"id\":\"5806546e-d454-4786-ac77-9898c854fe55\",\"subtype\":\"Figure\",\"type\":\"Plot\"}},\"id\":\"7a585487-8f25-48c7-8ca0-55d93e9bc28f\",\"type\":\"BoxZoomTool\"},{\"attributes\":{},\"id\":\"ffc80d70-b6b2-4ead-af41-6fb07caf6f43\",\"type\":\"BasicTicker\"},{\"attributes\":{},\"id\":\"d0f7f822-a936-4471-bb55-c36743a7db50\",\"type\":\"ToolEvents\"},{\"attributes\":{\"plot\":{\"id\":\"6de13133-c9d5-40b1-914d-17e42dc360b7\",\"subtype\":\"Figure\",\"type\":\"Plot\"}},\"id\":\"7b38daf3-7d2a-4ad5-876d-62bfa81eac26\",\"type\":\"PreviewSaveTool\"},{\"attributes\":{\"plot\":{\"id\":\"5806546e-d454-4786-ac77-9898c854fe55\",\"subtype\":\"Figure\",\"type\":\"Plot\"},\"ticker\":{\"id\":\"2d8585d1-6dc6-4c85-afa3-f2f8f70ac3e4\",\"type\":\"BasicTicker\"}},\"id\":\"dece1431-5572-43c3-903e-8613417836ee\",\"type\":\"Grid\"},{\"attributes\":{\"bottom_units\":\"screen\",\"fill_alpha\":{\"value\":0.5},\"fill_color\":{\"value\":\"lightgrey\"},\"left_units\":\"screen\",\"level\":\"overlay\",\"line_alpha\":{\"value\":1.0},\"line_color\":{\"value\":\"black\"},\"line_dash\":[4,4],\"line_width\":{\"value\":2},\"plot\":null,\"render_mode\":\"css\",\"right_units\":\"screen\",\"top_units\":\"screen\"},\"id\":\"676c476a-5913-4f51-9413-25fe794b4786\",\"type\":\"BoxAnnotation\"},{\"attributes\":{\"plot\":{\"id\":\"6de13133-c9d5-40b1-914d-17e42dc360b7\",\"subtype\":\"Figure\",\"type\":\"Plot\"}},\"id\":\"1280c645-2069-4c91-9536-fd6498255104\",\"type\":\"ResizeTool\"},{\"attributes\":{\"dimension\":1,\"plot\":{\"id\":\"6de13133-c9d5-40b1-914d-17e42dc360b7\",\"subtype\":\"Figure\",\"type\":\"Plot\"},\"ticker\":{\"id\":\"2a2e7441-40db-4db5-ad41-5bb4bcb89792\",\"type\":\"BasicTicker\"}},\"id\":\"6b6463e0-3fea-43b0-9c01-8cdce39ad73f\",\"type\":\"Grid\"},{\"attributes\":{\"plot\":{\"id\":\"6de13133-c9d5-40b1-914d-17e42dc360b7\",\"subtype\":\"Figure\",\"type\":\"Plot\"}},\"id\":\"0ebc105e-8b11-4603-898a-9f9a61110ca8\",\"type\":\"HelpTool\"},{\"attributes\":{\"callback\":null,\"end\":5,\"start\":-5},\"id\":\"14a9b932-6061-4ede-a7c7-377599f86238\",\"type\":\"Range1d\"},{\"attributes\":{\"dimension\":1,\"plot\":{\"id\":\"5806546e-d454-4786-ac77-9898c854fe55\",\"subtype\":\"Figure\",\"type\":\"Plot\"},\"ticker\":{\"id\":\"ffc80d70-b6b2-4ead-af41-6fb07caf6f43\",\"type\":\"BasicTicker\"}},\"id\":\"65acb15b-432e-4911-aaeb-2b3a7c7d4757\",\"type\":\"Grid\"},{\"attributes\":{\"line_alpha\":{\"value\":0.1},\"line_color\":{\"value\":\"#1f77b4\"},\"line_width\":{\"value\":3},\"x\":{\"field\":\"x\"},\"y\":{\"field\":\"y\"}},\"id\":\"a903c242-3643-4e10-978c-44d64fff3e94\",\"type\":\"Line\"},{\"attributes\":{\"data_source\":{\"id\":\"275a2190-0221-4f57-a9b0-01e8eca63c60\",\"type\":\"ColumnDataSource\"},\"glyph\":{\"id\":\"463c4166-ac8f-4585-b9bf-06c9b120c2b4\",\"type\":\"Circle\"},\"hover_glyph\":null,\"nonselection_glyph\":{\"id\":\"f9385787-2002-4044-ba57-a0e73ad7f303\",\"type\":\"Circle\"},\"selection_glyph\":null},\"id\":\"c463645a-65dc-4946-b57e-b502a38a1ba2\",\"type\":\"GlyphRenderer\"},{\"attributes\":{\"plot\":{\"id\":\"5806546e-d454-4786-ac77-9898c854fe55\",\"subtype\":\"Figure\",\"type\":\"Plot\"}},\"id\":\"d7d8f6ef-4f82-47a6-aa46-181194c389da\",\"type\":\"PanTool\"},{\"attributes\":{\"plot\":{\"id\":\"5806546e-d454-4786-ac77-9898c854fe55\",\"subtype\":\"Figure\",\"type\":\"Plot\"}},\"id\":\"f51ec8f2-6566-416f-8076-f24a2d7c9b7b\",\"type\":\"ResizeTool\"}],\"root_ids\":[\"5806546e-d454-4786-ac77-9898c854fe55\",\"6de13133-c9d5-40b1-914d-17e42dc360b7\"]},\"title\":\"Bokeh Application\",\"version\":\"0.11.1\"}};\n",
       "            var render_items = [{\"docid\":\"b436e505-5672-47fb-bca5-3eb9d840c936\",\"elementid\":\"13f3d490-8ce7-42b6-a6e2-2fb197cc4578\",\"modelid\":\"6de13133-c9d5-40b1-914d-17e42dc360b7\"}];\n",
       "            \n",
       "            Bokeh.embed.embed_items(docs_json, render_items);\n",
       "        });\n",
       "        </script>\n",
       "    </body>\n",
       "</html>"
      ],
      "text/plain": [
       "<IPython.core.display.HTML object>"
      ]
     },
     "execution_count": 37,
     "metadata": {},
     "output_type": "execute_result"
    }
   ],
   "source": [
    "%%python\n",
    "\n",
    "from ipywidgets import interact\n",
    "import numpy as np\n",
    "\n",
    "from bokeh.io import push_notebook\n",
    "from bokeh.plotting import figure, show, output_file\n",
    "from bokeh.resources import CDN\n",
    "from bokeh.embed import file_html\n",
    "\n",
    "\n",
    "x = np.linspace(0, 2*np.pi, 2000)\n",
    "y = np.sin(x)\n",
    "\n",
    "p = figure(title=\"simple line example\", plot_height=300, plot_width=600, y_range=(-5,5))\n",
    "r = p.line(x, y, color=\"#2222aa\", line_width=3)\n",
    "\n",
    "html = file_html(p, CDN, \"my 2nd plot\")\n",
    "#DONT PRINT - this crashes the browser tab: print(html)\n",
    "\n",
    "import IPython\n",
    "retval=IPython.display.HTML(html)"
   ]
  },
  {
   "cell_type": "code",
   "execution_count": 38,
   "metadata": {
    "collapsed": false
   },
   "outputs": [
    {
     "data": {
      "text/html": [
       "\n",
       "<!DOCTYPE html>\n",
       "<html lang=\"en\">\n",
       "    <head>\n",
       "        <meta charset=\"utf-8\">\n",
       "        <title>my pie-chart plot</title>\n",
       "        \n",
       "<link rel=\"stylesheet\" href=\"https://cdn.pydata.org/bokeh/release/bokeh-0.11.1.min.css\" type=\"text/css\" />\n",
       "        \n",
       "<script type=\"text/javascript\" src=\"https://cdn.pydata.org/bokeh/release/bokeh-0.11.1.min.js\"></script>\n",
       "<script type=\"text/javascript\">\n",
       "    Bokeh.set_log_level(\"info\");\n",
       "</script>\n",
       "    </head>\n",
       "    <body>\n",
       "        \n",
       "        <div class=\"plotdiv\" id=\"d81517b2-4bf6-491c-be9d-3865f3a9e68e\"></div>\n",
       "        \n",
       "        <script type=\"text/javascript\">\n",
       "            Bokeh.$(function() {\n",
       "            var docs_json = {\"6af28881-328d-4fab-bac3-0205b642d9fd\":{\"roots\":{\"references\":[{\"attributes\":{\"below\":[{\"id\":\"b4e81a4f-7b00-4083-ba93-468832b049f1\",\"type\":\"LinearAxis\"}],\"left\":[{\"id\":\"3413a12c-2248-4bb7-97ac-f67afafb8582\",\"type\":\"LinearAxis\"}],\"plot_height\":300,\"renderers\":[{\"id\":\"b4e81a4f-7b00-4083-ba93-468832b049f1\",\"type\":\"LinearAxis\"},{\"id\":\"c4fa0306-84a4-4ee1-9939-0cdffd640866\",\"type\":\"Grid\"},{\"id\":\"3413a12c-2248-4bb7-97ac-f67afafb8582\",\"type\":\"LinearAxis\"},{\"id\":\"6b6463e0-3fea-43b0-9c01-8cdce39ad73f\",\"type\":\"Grid\"},{\"id\":\"62995407-fd51-49c9-ae3c-712ef406852f\",\"type\":\"BoxAnnotation\"},{\"id\":\"efa3a492-582b-4abe-bd44-34ae66749c99\",\"type\":\"GlyphRenderer\"}],\"title\":\"simple line example\",\"tool_events\":{\"id\":\"d0f7f822-a936-4471-bb55-c36743a7db50\",\"type\":\"ToolEvents\"},\"tools\":[{\"id\":\"adcdf43e-021d-402f-8fa0-454d842f5901\",\"type\":\"PanTool\"},{\"id\":\"d6b912fd-7cee-47f0-b0b2-f80ef4f5a7d3\",\"type\":\"WheelZoomTool\"},{\"id\":\"dc5d6fcd-7872-4c99-b90c-41861850df50\",\"type\":\"BoxZoomTool\"},{\"id\":\"7b38daf3-7d2a-4ad5-876d-62bfa81eac26\",\"type\":\"PreviewSaveTool\"},{\"id\":\"1280c645-2069-4c91-9536-fd6498255104\",\"type\":\"ResizeTool\"},{\"id\":\"4cb2affd-6af1-49b2-8863-68cf03680fcc\",\"type\":\"ResetTool\"},{\"id\":\"0ebc105e-8b11-4603-898a-9f9a61110ca8\",\"type\":\"HelpTool\"}],\"x_range\":{\"id\":\"79f48553-04ff-49c0-a2ba-cc316476dd0a\",\"type\":\"DataRange1d\"},\"y_range\":{\"id\":\"14a9b932-6061-4ede-a7c7-377599f86238\",\"type\":\"Range1d\"}},\"id\":\"6de13133-c9d5-40b1-914d-17e42dc360b7\",\"subtype\":\"Figure\",\"type\":\"Plot\"},{\"attributes\":{\"plot\":{\"id\":\"5806546e-d454-4786-ac77-9898c854fe55\",\"subtype\":\"Figure\",\"type\":\"Plot\"}},\"id\":\"75c6ad67-d6fd-4279-9513-a65db6722765\",\"type\":\"HelpTool\"},{\"attributes\":{\"plot\":{\"id\":\"204142a8-e26b-406a-98e5-cad90c8fbd0b\",\"subtype\":\"Figure\",\"type\":\"Plot\"}},\"id\":\"eb2b869b-dac7-42a6-9b73-fd37188f30b1\",\"type\":\"WheelZoomTool\"},{\"attributes\":{\"data_source\":{\"id\":\"130b5933-8080-474e-bf06-7707e7693797\",\"type\":\"ColumnDataSource\"},\"glyph\":{\"id\":\"a2067635-df13-4600-994f-d1ccbfd02c02\",\"type\":\"Wedge\"},\"hover_glyph\":null,\"nonselection_glyph\":{\"id\":\"ee3f33e2-e621-4b0a-809d-fc1cc61bd0be\",\"type\":\"Wedge\"},\"selection_glyph\":null},\"id\":\"57687910-06c6-48b5-b232-c23235a66b0f\",\"type\":\"GlyphRenderer\"},{\"attributes\":{\"overlay\":{\"id\":\"62995407-fd51-49c9-ae3c-712ef406852f\",\"type\":\"BoxAnnotation\"},\"plot\":{\"id\":\"6de13133-c9d5-40b1-914d-17e42dc360b7\",\"subtype\":\"Figure\",\"type\":\"Plot\"}},\"id\":\"dc5d6fcd-7872-4c99-b90c-41861850df50\",\"type\":\"BoxZoomTool\"},{\"attributes\":{\"formatter\":{\"id\":\"91058b23-8cf3-4bd9-af3e-5a8ec677fea8\",\"type\":\"BasicTickFormatter\"},\"plot\":{\"id\":\"204142a8-e26b-406a-98e5-cad90c8fbd0b\",\"subtype\":\"Figure\",\"type\":\"Plot\"},\"ticker\":{\"id\":\"95ed5978-b6a6-4a96-8a45-f7bd81fc5cc8\",\"type\":\"BasicTicker\"}},\"id\":\"396d895d-429e-42a5-b55b-a18a9f140106\",\"type\":\"LinearAxis\"},{\"attributes\":{},\"id\":\"b0e10c94-989b-4213-b9de-be309686e303\",\"type\":\"ToolEvents\"},{\"attributes\":{\"bottom_units\":\"screen\",\"fill_alpha\":{\"value\":0.5},\"fill_color\":{\"value\":\"lightgrey\"},\"left_units\":\"screen\",\"level\":\"overlay\",\"line_alpha\":{\"value\":1.0},\"line_color\":{\"value\":\"black\"},\"line_dash\":[4,4],\"line_width\":{\"value\":2},\"plot\":null,\"render_mode\":\"css\",\"right_units\":\"screen\",\"top_units\":\"screen\"},\"id\":\"62995407-fd51-49c9-ae3c-712ef406852f\",\"type\":\"BoxAnnotation\"},{\"attributes\":{},\"id\":\"91058b23-8cf3-4bd9-af3e-5a8ec677fea8\",\"type\":\"BasicTickFormatter\"},{\"attributes\":{\"callback\":null,\"column_names\":[\"y\",\"x\"],\"data\":{\"x\":[1,2],\"y\":[3,4]}},\"id\":\"275a2190-0221-4f57-a9b0-01e8eca63c60\",\"type\":\"ColumnDataSource\"},{\"attributes\":{\"callback\":null},\"id\":\"79f48553-04ff-49c0-a2ba-cc316476dd0a\",\"type\":\"DataRange1d\"},{\"attributes\":{\"fill_alpha\":{\"value\":0.1},\"fill_color\":{\"value\":\"#1f77b4\"},\"line_alpha\":{\"value\":0.1},\"line_color\":{\"value\":\"#1f77b4\"},\"x\":{\"field\":\"x\"},\"y\":{\"field\":\"y\"}},\"id\":\"f9385787-2002-4044-ba57-a0e73ad7f303\",\"type\":\"Circle\"},{\"attributes\":{\"dimension\":1,\"plot\":{\"id\":\"204142a8-e26b-406a-98e5-cad90c8fbd0b\",\"subtype\":\"Figure\",\"type\":\"Plot\"},\"ticker\":{\"id\":\"95ed5978-b6a6-4a96-8a45-f7bd81fc5cc8\",\"type\":\"BasicTicker\"}},\"id\":\"2ebc2169-08df-441a-8868-8f03e52b28f0\",\"type\":\"Grid\"},{\"attributes\":{\"callback\":null},\"id\":\"ae55fafe-9aa4-4ebb-b698-e39f3ca65c0e\",\"type\":\"DataRange1d\"},{\"attributes\":{\"plot\":{\"id\":\"5806546e-d454-4786-ac77-9898c854fe55\",\"subtype\":\"Figure\",\"type\":\"Plot\"}},\"id\":\"f51ec8f2-6566-416f-8076-f24a2d7c9b7b\",\"type\":\"ResizeTool\"},{\"attributes\":{\"bottom_units\":\"screen\",\"fill_alpha\":{\"value\":0.5},\"fill_color\":{\"value\":\"lightgrey\"},\"left_units\":\"screen\",\"level\":\"overlay\",\"line_alpha\":{\"value\":1.0},\"line_color\":{\"value\":\"black\"},\"line_dash\":[4,4],\"line_width\":{\"value\":2},\"plot\":null,\"render_mode\":\"css\",\"right_units\":\"screen\",\"top_units\":\"screen\"},\"id\":\"2caaf9b3-f8c9-4486-afc5-18aa8c7a81a7\",\"type\":\"BoxAnnotation\"},{\"attributes\":{\"plot\":{\"id\":\"5806546e-d454-4786-ac77-9898c854fe55\",\"subtype\":\"Figure\",\"type\":\"Plot\"}},\"id\":\"43b70098-fceb-4025-a12c-1ee970550a37\",\"type\":\"WheelZoomTool\"},{\"attributes\":{\"formatter\":{\"id\":\"6da4639a-a88c-45c7-9742-00aa0f0fc49e\",\"type\":\"BasicTickFormatter\"},\"plot\":{\"id\":\"5806546e-d454-4786-ac77-9898c854fe55\",\"subtype\":\"Figure\",\"type\":\"Plot\"},\"ticker\":{\"id\":\"2d8585d1-6dc6-4c85-afa3-f2f8f70ac3e4\",\"type\":\"BasicTicker\"}},\"id\":\"7db95045-1410-46cc-b949-36ede5e3cacc\",\"type\":\"LinearAxis\"},{\"attributes\":{},\"id\":\"93a1acd2-49b3-41d6-80d8-fe7726746186\",\"type\":\"BasicTickFormatter\"},{\"attributes\":{\"plot\":{\"id\":\"204142a8-e26b-406a-98e5-cad90c8fbd0b\",\"subtype\":\"Figure\",\"type\":\"Plot\"}},\"id\":\"b1f31348-ff51-4087-bbd0-c65c778d87f4\",\"type\":\"PanTool\"},{\"attributes\":{\"formatter\":{\"id\":\"0fc9a605-ee7c-44f7-823d-fd8df9ffdf88\",\"type\":\"BasicTickFormatter\"},\"plot\":{\"id\":\"6de13133-c9d5-40b1-914d-17e42dc360b7\",\"subtype\":\"Figure\",\"type\":\"Plot\"},\"ticker\":{\"id\":\"2a2e7441-40db-4db5-ad41-5bb4bcb89792\",\"type\":\"BasicTicker\"}},\"id\":\"3413a12c-2248-4bb7-97ac-f67afafb8582\",\"type\":\"LinearAxis\"},{\"attributes\":{\"line_color\":{\"value\":\"#2222aa\"},\"line_width\":{\"value\":3},\"x\":{\"field\":\"x\"},\"y\":{\"field\":\"y\"}},\"id\":\"8eb79b0b-d096-4fca-aa4a-5892ed64812c\",\"type\":\"Line\"},{\"attributes\":{\"dimension\":1,\"plot\":{\"id\":\"6de13133-c9d5-40b1-914d-17e42dc360b7\",\"subtype\":\"Figure\",\"type\":\"Plot\"},\"ticker\":{\"id\":\"2a2e7441-40db-4db5-ad41-5bb4bcb89792\",\"type\":\"BasicTicker\"}},\"id\":\"6b6463e0-3fea-43b0-9c01-8cdce39ad73f\",\"type\":\"Grid\"},{\"attributes\":{},\"id\":\"d6fa3269-2ecd-46b2-ad9c-1d33e58c776a\",\"type\":\"BasicTicker\"},{\"attributes\":{\"callback\":null,\"start\":-1},\"id\":\"f2017f6e-8516-4516-ba75-2e107226568b\",\"type\":\"Range1d\"},{\"attributes\":{\"fill_color\":{\"value\":\"#1f77b4\"},\"line_color\":{\"value\":\"#1f77b4\"},\"x\":{\"field\":\"x\"},\"y\":{\"field\":\"y\"}},\"id\":\"463c4166-ac8f-4585-b9bf-06c9b120c2b4\",\"type\":\"Circle\"},{\"attributes\":{\"formatter\":{\"id\":\"37f3db02-14d8-445c-aca7-01293ef9e245\",\"type\":\"BasicTickFormatter\"},\"plot\":{\"id\":\"6de13133-c9d5-40b1-914d-17e42dc360b7\",\"subtype\":\"Figure\",\"type\":\"Plot\"},\"ticker\":{\"id\":\"d6fa3269-2ecd-46b2-ad9c-1d33e58c776a\",\"type\":\"BasicTicker\"}},\"id\":\"b4e81a4f-7b00-4083-ba93-468832b049f1\",\"type\":\"LinearAxis\"},{\"attributes\":{},\"id\":\"0fc9a605-ee7c-44f7-823d-fd8df9ffdf88\",\"type\":\"BasicTickFormatter\"},{\"attributes\":{\"plot\":{\"id\":\"6de13133-c9d5-40b1-914d-17e42dc360b7\",\"subtype\":\"Figure\",\"type\":\"Plot\"}},\"id\":\"d6b912fd-7cee-47f0-b0b2-f80ef4f5a7d3\",\"type\":\"WheelZoomTool\"},{\"attributes\":{\"plot\":{\"id\":\"5806546e-d454-4786-ac77-9898c854fe55\",\"subtype\":\"Figure\",\"type\":\"Plot\"}},\"id\":\"a4610080-8a17-48eb-938c-c18d086e0842\",\"type\":\"ResetTool\"},{\"attributes\":{},\"id\":\"95ed5978-b6a6-4a96-8a45-f7bd81fc5cc8\",\"type\":\"BasicTicker\"},{\"attributes\":{},\"id\":\"37f3db02-14d8-445c-aca7-01293ef9e245\",\"type\":\"BasicTickFormatter\"},{\"attributes\":{\"plot\":{\"id\":\"6de13133-c9d5-40b1-914d-17e42dc360b7\",\"subtype\":\"Figure\",\"type\":\"Plot\"},\"ticker\":{\"id\":\"d6fa3269-2ecd-46b2-ad9c-1d33e58c776a\",\"type\":\"BasicTicker\"}},\"id\":\"c4fa0306-84a4-4ee1-9939-0cdffd640866\",\"type\":\"Grid\"},{\"attributes\":{\"below\":[{\"id\":\"7db95045-1410-46cc-b949-36ede5e3cacc\",\"type\":\"LinearAxis\"}],\"left\":[{\"id\":\"4785a311-40d9-4c01-941c-5d3684003203\",\"type\":\"LinearAxis\"}],\"renderers\":[{\"id\":\"7db95045-1410-46cc-b949-36ede5e3cacc\",\"type\":\"LinearAxis\"},{\"id\":\"dece1431-5572-43c3-903e-8613417836ee\",\"type\":\"Grid\"},{\"id\":\"4785a311-40d9-4c01-941c-5d3684003203\",\"type\":\"LinearAxis\"},{\"id\":\"65acb15b-432e-4911-aaeb-2b3a7c7d4757\",\"type\":\"Grid\"},{\"id\":\"676c476a-5913-4f51-9413-25fe794b4786\",\"type\":\"BoxAnnotation\"},{\"id\":\"c463645a-65dc-4946-b57e-b502a38a1ba2\",\"type\":\"GlyphRenderer\"}],\"tool_events\":{\"id\":\"b0e10c94-989b-4213-b9de-be309686e303\",\"type\":\"ToolEvents\"},\"tools\":[{\"id\":\"d7d8f6ef-4f82-47a6-aa46-181194c389da\",\"type\":\"PanTool\"},{\"id\":\"43b70098-fceb-4025-a12c-1ee970550a37\",\"type\":\"WheelZoomTool\"},{\"id\":\"7a585487-8f25-48c7-8ca0-55d93e9bc28f\",\"type\":\"BoxZoomTool\"},{\"id\":\"a30c60bd-5107-4c6b-8023-33b5359ed117\",\"type\":\"PreviewSaveTool\"},{\"id\":\"f51ec8f2-6566-416f-8076-f24a2d7c9b7b\",\"type\":\"ResizeTool\"},{\"id\":\"a4610080-8a17-48eb-938c-c18d086e0842\",\"type\":\"ResetTool\"},{\"id\":\"75c6ad67-d6fd-4279-9513-a65db6722765\",\"type\":\"HelpTool\"}],\"x_range\":{\"id\":\"ae55fafe-9aa4-4ebb-b698-e39f3ca65c0e\",\"type\":\"DataRange1d\"},\"y_range\":{\"id\":\"5465c6c1-ca1d-4ef3-b2d1-97396b0ee276\",\"type\":\"DataRange1d\"}},\"id\":\"5806546e-d454-4786-ac77-9898c854fe55\",\"subtype\":\"Figure\",\"type\":\"Plot\"},{\"attributes\":{\"formatter\":{\"id\":\"227abb84-ca77-4ad3-9432-21ed7369696b\",\"type\":\"BasicTickFormatter\"},\"plot\":{\"id\":\"5806546e-d454-4786-ac77-9898c854fe55\",\"subtype\":\"Figure\",\"type\":\"Plot\"},\"ticker\":{\"id\":\"ffc80d70-b6b2-4ead-af41-6fb07caf6f43\",\"type\":\"BasicTicker\"}},\"id\":\"4785a311-40d9-4c01-941c-5d3684003203\",\"type\":\"LinearAxis\"},{\"attributes\":{},\"id\":\"6da4639a-a88c-45c7-9742-00aa0f0fc49e\",\"type\":\"BasicTickFormatter\"},{\"attributes\":{\"plot\":{\"id\":\"204142a8-e26b-406a-98e5-cad90c8fbd0b\",\"subtype\":\"Figure\",\"type\":\"Plot\"}},\"id\":\"8f4fa6c0-4929-4270-87ec-ce445a639a5d\",\"type\":\"ResizeTool\"},{\"attributes\":{\"plot\":{\"id\":\"5806546e-d454-4786-ac77-9898c854fe55\",\"subtype\":\"Figure\",\"type\":\"Plot\"}},\"id\":\"a30c60bd-5107-4c6b-8023-33b5359ed117\",\"type\":\"PreviewSaveTool\"},{\"attributes\":{\"formatter\":{\"id\":\"93a1acd2-49b3-41d6-80d8-fe7726746186\",\"type\":\"BasicTickFormatter\"},\"plot\":{\"id\":\"204142a8-e26b-406a-98e5-cad90c8fbd0b\",\"subtype\":\"Figure\",\"type\":\"Plot\"},\"ticker\":{\"id\":\"dfdc5577-ecf0-441e-b662-8880bb2ebd8e\",\"type\":\"BasicTicker\"}},\"id\":\"4d1a5c11-60c4-4fe6-80a3-4a341c9b7304\",\"type\":\"LinearAxis\"},{\"attributes\":{\"plot\":{\"id\":\"204142a8-e26b-406a-98e5-cad90c8fbd0b\",\"subtype\":\"Figure\",\"type\":\"Plot\"}},\"id\":\"43eeb094-8de5-4b9f-8487-426210de2540\",\"type\":\"HelpTool\"},{\"attributes\":{\"plot\":{\"id\":\"6de13133-c9d5-40b1-914d-17e42dc360b7\",\"subtype\":\"Figure\",\"type\":\"Plot\"}},\"id\":\"adcdf43e-021d-402f-8fa0-454d842f5901\",\"type\":\"PanTool\"},{\"attributes\":{},\"id\":\"2a2e7441-40db-4db5-ad41-5bb4bcb89792\",\"type\":\"BasicTicker\"},{\"attributes\":{},\"id\":\"227abb84-ca77-4ad3-9432-21ed7369696b\",\"type\":\"BasicTickFormatter\"},{\"attributes\":{\"callback\":null},\"id\":\"5465c6c1-ca1d-4ef3-b2d1-97396b0ee276\",\"type\":\"DataRange1d\"},{\"attributes\":{\"plot\":{\"id\":\"5806546e-d454-4786-ac77-9898c854fe55\",\"subtype\":\"Figure\",\"type\":\"Plot\"}},\"id\":\"d7d8f6ef-4f82-47a6-aa46-181194c389da\",\"type\":\"PanTool\"},{\"attributes\":{\"plot\":{\"id\":\"6de13133-c9d5-40b1-914d-17e42dc360b7\",\"subtype\":\"Figure\",\"type\":\"Plot\"}},\"id\":\"4cb2affd-6af1-49b2-8863-68cf03680fcc\",\"type\":\"ResetTool\"},{\"attributes\":{\"plot\":{\"id\":\"204142a8-e26b-406a-98e5-cad90c8fbd0b\",\"subtype\":\"Figure\",\"type\":\"Plot\"}},\"id\":\"54ebcb2a-3296-4d0c-9cbc-7b1324b3eb21\",\"type\":\"PreviewSaveTool\"},{\"attributes\":{\"callback\":null,\"column_names\":[\"y\",\"x\"],\"data\":{\"x\":[0.0,0.003143164235707647,0.006286328471415294,0.009429492707122941,0.012572656942830588,0.015715821178538234,0.018858985414245882,0.022002149649953527,0.025145313885661175,0.028288478121368824,0.03143164235707647,0.03457480659278411,0.037717970828491765,0.04086113506419941,0.044004299299907054,0.047147463535614706,0.05029062777132235,0.053433792007029995,0.05657695624273765,0.05972012047844529,0.06286328471415294,0.06600644894986059,0.06914961318556823,0.07229277742127588,0.07543594165698353,0.07857910589269117,0.08172227012839882,0.08486543436410647,0.08800859859981411,0.09115176283552176,0.09429492707122941,0.09743809130693705,0.1005812555426447,0.10372441977835235,0.10686758401405999,0.11001074824976764,0.1131539124854753,0.11629707672118293,0.11944024095689058,0.12258340519259824,0.12572656942830587,0.12886973366401352,0.13201289789972118,0.13515606213542883,0.13829922637113645,0.1414423906068441,0.14458555484255176,0.1477287190782594,0.15087188331396706,0.1540150475496747,0.15715821178538233,0.16030137602109,0.16344454025679764,0.1665877044925053,0.16973086872821294,0.1728740329639206,0.17601719719962822,0.17916036143533587,0.18230352567104352,0.18544668990675117,0.18858985414245882,0.19173301837816648,0.1948761826138741,0.19801934684958175,0.2011625110852894,0.20430567532099705,0.2074488395567047,0.21059200379241233,0.21373516802811998,0.21687833226382763,0.22002149649953529,0.22316466073524294,0.2263078249709506,0.2294509892066582,0.23259415344236586,0.23573731767807352,0.23888048191378117,0.24202364614948882,0.24516681038519647,0.2483099746209041,0.25145313885661175,0.2545963030923194,0.25773946732802705,0.2608826315637347,0.26402579579944235,0.26716896003515,0.27031212427085766,0.2734552885065653,0.2765984527422729,0.27974161697798056,0.2828847812136882,0.28602794544939586,0.2891711096851035,0.29231427392081116,0.2954574381565188,0.29860060239222647,0.3017437666279341,0.30488693086364177,0.3080300950993494,0.311173259335057,0.31431642357076467,0.3174595878064723,0.32060275204218,0.3237459162778876,0.3268890805135953,0.3300322447493029,0.3331754089850106,0.33631857322071823,0.3394617374564259,0.34260490169213353,0.3457480659278412,0.3488912301635488,0.35203439439925643,0.3551775586349641,0.35832072287067174,0.3614638871063794,0.36460705134208704,0.3677502155777947,0.37089337981350234,0.37403654404921,0.37717970828491765,0.3803228725206253,0.38346603675633295,0.38660920099204055,0.3897523652277482,0.39289552946345585,0.3960386936991635,0.39918185793487115,0.4023250221705788,0.40546818640628646,0.4086113506419941,0.41175451487770176,0.4148976791134094,0.41804084334911706,0.42118400758482466,0.4243271718205323,0.42747033605623996,0.4306135002919476,0.43375666452765527,0.4368998287633629,0.44004299299907057,0.4431861572347782,0.4463293214704859,0.4494724857061935,0.4526156499419012,0.45575881417760883,0.4589019784133164,0.4620451426490241,0.46518830688473173,0.4683314711204394,0.47147463535614703,0.4746177995918547,0.47776096382756233,0.48090412806327,0.48404729229897764,0.4871904565346853,0.49033362077039294,0.4934767850061006,0.4966199492418082,0.49976311347751584,0.5029062777132235,0.5060494419489312,0.5091926061846388,0.5123357704203464,0.5154789346560541,0.5186220988917617,0.5217652631274694,0.524908427363177,0.5280515915988847,0.5311947558345923,0.5343379200703,0.5374810843060076,0.5406242485417153,0.5437674127774229,0.5469105770131306,0.5500537412488382,0.5531969054845458,0.5563400697202535,0.5594832339559611,0.5626263981916688,0.5657695624273764,0.5689127266630841,0.5720558908987917,0.5751990551344994,0.578342219370207,0.5814853836059147,0.5846285478416223,0.5877717120773299,0.5909148763130376,0.5940580405487452,0.5972012047844529,0.6003443690201605,0.6034875332558682,0.6066306974915758,0.6097738617272835,0.6129170259629911,0.6160601901986988,0.6192033544344064,0.622346518670114,0.6254896829058217,0.6286328471415293,0.631776011377237,0.6349191756129446,0.6380623398486523,0.64120550408436,0.6443486683200677,0.6474918325557752,0.650634996791483,0.6537781610271906,0.6569213252628983,0.6600644894986059,0.6632076537343135,0.6663508179700212,0.6694939822057288,0.6726371464414365,0.6757803106771441,0.6789234749128518,0.6820666391485594,0.6852098033842671,0.6883529676199747,0.6914961318556824,0.69463929609139,0.6977824603270976,0.7009256245628053,0.7040687887985129,0.7072119530342206,0.7103551172699282,0.7134982815056359,0.7166414457413435,0.7197846099770512,0.7229277742127588,0.7260709384484665,0.7292141026841741,0.7323572669198817,0.7355004311555894,0.738643595391297,0.7417867596270047,0.7449299238627123,0.74807308809842,0.7512162523341276,0.7543594165698353,0.7575025808055429,0.7606457450412506,0.7637889092769582,0.7669320735126659,0.7700752377483735,0.7732184019840811,0.7763615662197888,0.7795047304554964,0.7826478946912041,0.7857910589269117,0.7889342231626194,0.792077387398327,0.7952205516340347,0.7983637158697423,0.80150688010545,0.8046500443411576,0.8077932085768652,0.8109363728125729,0.8140795370482805,0.8172227012839882,0.8203658655196958,0.8235090297554035,0.8266521939911111,0.8297953582268188,0.8329385224625264,0.8360816866982341,0.8392248509339417,0.8423680151696493,0.845511179405357,0.8486543436410646,0.8517975078767723,0.8549406721124799,0.8580838363481876,0.8612270005838952,0.8643701648196029,0.8675133290553105,0.8706564932910182,0.8737996575267258,0.8769428217624335,0.8800859859981411,0.8832291502338487,0.8863723144695564,0.889515478705264,0.8926586429409717,0.8958018071766793,0.898944971412387,0.9020881356480946,0.9052312998838024,0.90837446411951,0.9115176283552177,0.9146607925909253,0.9178039568266328,0.9209471210623406,0.9240902852980482,0.9272334495337559,0.9303766137694635,0.9335197780051712,0.9366629422408788,0.9398061064765865,0.9429492707122941,0.9460924349480018,0.9492355991837094,0.952378763419417,0.9555219276551247,0.9586650918908323,0.96180825612654,0.9649514203622476,0.9680945845979553,0.9712377488336629,0.9743809130693706,0.9775240773050782,0.9806672415407859,0.9838104057764935,0.9869535700122012,0.9900967342479088,0.9932398984836164,0.9963830627193241,0.9995262269550317,1.0026693911907394,1.005812555426447,1.0089557196621546,1.0120988838978624,1.01524204813357,1.0183852123692776,1.0215283766049852,1.0246715408406928,1.0278147050764006,1.0309578693121082,1.0341010335478158,1.0372441977835234,1.0403873620192312,1.0435305262549388,1.0466736904906464,1.049816854726354,1.0529600189620618,1.0561031831977694,1.059246347433477,1.0623895116691846,1.0655326759048922,1.0686758401406,1.0718190043763076,1.0749621686120152,1.0781053328477228,1.0812484970834306,1.0843916613191382,1.0875348255548458,1.0906779897905534,1.0938211540262612,1.0969643182619688,1.1001074824976764,1.103250646733384,1.1063938109690916,1.1095369752047994,1.112680139440507,1.1158233036762146,1.1189664679119222,1.12210963214763,1.1252527963833376,1.1283959606190452,1.1315391248547528,1.1346822890904604,1.1378254533261682,1.1409686175618758,1.1441117817975834,1.147254946033291,1.1503981102689989,1.1535412745047064,1.156684438740414,1.1598276029761216,1.1629707672118295,1.166113931447537,1.1692570956832447,1.1724002599189522,1.1755434241546598,1.1786865883903677,1.1818297526260753,1.1849729168617829,1.1881160810974905,1.1912592453331983,1.1944024095689059,1.1975455738046135,1.200688738040321,1.2038319022760289,1.2069750665117365,1.210118230747444,1.2132613949831517,1.2164045592188593,1.219547723454567,1.2226908876902747,1.2258340519259823,1.2289772161616899,1.2321203803973977,1.2352635446331053,1.2384067088688129,1.2415498731045205,1.244693037340228,1.2478362015759359,1.2509793658116435,1.254122530047351,1.2572656942830587,1.2604088585187665,1.263552022754474,1.2666951869901817,1.2698383512258893,1.272981515461597,1.2761246796973047,1.2792678439330123,1.28241100816872,1.2855541724044275,1.2886973366401353,1.291840500875843,1.2949836651115505,1.298126829347258,1.301269993582966,1.3044131578186735,1.307556322054381,1.3106994862900887,1.3138426505257965,1.3169858147615041,1.3201289789972117,1.3232721432329193,1.326415307468627,1.3295584717043347,1.3327016359400423,1.33584480017575,1.3389879644114575,1.3421311286471653,1.345274292882873,1.3484174571185805,1.3515606213542881,1.3547037855899957,1.3578469498257035,1.3609901140614111,1.3641332782971187,1.3672764425328263,1.3704196067685341,1.3735627710042417,1.3767059352399493,1.379849099475657,1.3829922637113647,1.3861354279470723,1.38927859218278,1.3924217564184875,1.3955649206541951,1.398708084889903,1.4018512491256105,1.4049944133613181,1.4081375775970257,1.4112807418327336,1.4144239060684412,1.4175670703041487,1.4207102345398563,1.4238533987755642,1.4269965630112718,1.4301397272469794,1.433282891482687,1.4364260557183945,1.4395692199541024,1.44271238418981,1.4458555484255176,1.4489987126612252,1.452141876896933,1.4552850411326406,1.4584282053683482,1.4615713696040558,1.4647145338397634,1.4678576980754712,1.4710008623111788,1.4741440265468864,1.477287190782594,1.4804303550183018,1.4835735192540094,1.486716683489717,1.4898598477254246,1.4930030119611324,1.49614617619684,1.4992893404325476,1.5024325046682552,1.5055756689039628,1.5087188331396706,1.5118619973753782,1.5150051616110858,1.5181483258467934,1.5212914900825012,1.5244346543182088,1.5275778185539164,1.530720982789624,1.5338641470253318,1.5370073112610394,1.540150475496747,1.5432936397324546,1.5464368039681622,1.54957996820387,1.5527231324395776,1.5558662966752852,1.5590094609109928,1.5621526251467006,1.5652957893824082,1.5684389536181158,1.5715821178538234,1.574725282089531,1.5778684463252388,1.5810116105609464,1.584154774796654,1.5872979390323616,1.5904411032680694,1.593584267503777,1.5967274317394846,1.5998705959751922,1.6030137602109,1.6061569244466076,1.6093000886823152,1.6124432529180228,1.6155864171537304,1.6187295813894382,1.6218727456251458,1.6250159098608534,1.628159074096561,1.6313022383322688,1.6344454025679764,1.637588566803684,1.6407317310393916,1.6438748952750994,1.647018059510807,1.6501612237465146,1.6533043879822222,1.6564475522179298,1.6595907164536376,1.6627338806893452,1.6658770449250528,1.6690202091607604,1.6721633733964683,1.6753065376321759,1.6784497018678834,1.681592866103591,1.6847360303392986,1.6878791945750065,1.691022358810714,1.6941655230464217,1.6973086872821292,1.700451851517837,1.7035950157535447,1.7067381799892523,1.7098813442249599,1.7130245084606677,1.7161676726963753,1.7193108369320829,1.7224540011677905,1.725597165403498,1.7287403296392059,1.7318834938749135,1.735026658110621,1.7381698223463287,1.7413129865820365,1.744456150817744,1.7475993150534517,1.7507424792891593,1.753885643524867,1.7570288077605747,1.7601719719962823,1.7633151362319899,1.7664583004676975,1.7696014647034053,1.7727446289391129,1.7758877931748205,1.779030957410528,1.782174121646236,1.7853172858819435,1.788460450117651,1.7916036143533587,1.7947467785890663,1.797889942824774,1.8010331070604817,1.8041762712961893,1.807319435531897,1.8104625997676047,1.8136057640033123,1.81674892823902,1.8198920924747275,1.8230352567104353,1.826178420946143,1.8293215851818505,1.832464749417558,1.8356079136532657,1.8387510778889735,1.8418942421246811,1.8450374063603887,1.8481805705960963,1.8513237348318041,1.8544668990675117,1.8576100633032193,1.860753227538927,1.8638963917746347,1.8670395560103423,1.87018272024605,1.8733258844817575,1.8764690487174651,1.879612212953173,1.8827553771888805,1.8858985414245881,1.8890417056602957,1.8921848698960035,1.8953280341317111,1.8984711983674187,1.9016143626031263,1.904757526838834,1.9079006910745417,1.9110438553102493,1.914187019545957,1.9173301837816645,1.9204733480173724,1.92361651225308,1.9267596764887875,1.9299028407244951,1.933046004960203,1.9361891691959106,1.9393323334316181,1.9424754976673257,1.9456186619030333,1.9487618261387412,1.9519049903744488,1.9550481546101564,1.958191318845864,1.9613344830815718,1.9644776473172794,1.967620811552987,1.9707639757886946,1.9739071400244024,1.97705030426011,1.9801934684958176,1.9833366327315252,1.9864797969672328,1.9896229612029406,1.9927661254386482,1.9959092896743558,1.9990524539100634,2.002195618145771,2.005338782381479,2.0084819466171866,2.011625110852894,2.014768275088602,2.017911439324309,2.021054603560017,2.024197767795725,2.027340932031432,2.03048409626714,2.0336272605028474,2.036770424738555,2.039913588974263,2.0430567532099704,2.046199917445678,2.0493430816813856,2.0524862459170934,2.055629410152801,2.0587725743885086,2.0619157386242164,2.065058902859924,2.0682020670956316,2.0713452313313394,2.074488395567047,2.0776315598027546,2.0807747240384624,2.08391788827417,2.0870610525098776,2.090204216745585,2.093347380981293,2.0964905452170006,2.099633709452708,2.102776873688416,2.1059200379241236,2.109063202159831,2.112206366395539,2.115349530631246,2.118492694866954,2.121635859102662,2.124779023338369,2.127922187574077,2.1310653518097844,2.134208516045492,2.1373516802812,2.1404948445169074,2.1436380087526152,2.146781172988323,2.1499243372240304,2.1530675014597382,2.1562106656954456,2.1593538299311534,2.1624969941668613,2.1656401584025686,2.1687833226382764,2.171926486873984,2.1750696511096916,2.1782128153453995,2.181355979581107,2.1844991438168146,2.1876423080525225,2.19078547228823,2.1939286365239377,2.197071800759645,2.200214964995353,2.2033581292310607,2.206501293466768,2.209644457702476,2.2127876219381832,2.215930786173891,2.219073950409599,2.2222171146453062,2.225360278881014,2.228503443116722,2.2316466073524293,2.234789771588137,2.2379329358238444,2.2410761000595523,2.24421926429526,2.2473624285309675,2.2505055927666753,2.2536487570023827,2.2567919212380905,2.2599350854737983,2.2630782497095057,2.2662214139452135,2.269364578180921,2.2725077424166287,2.2756509066523365,2.278794070888044,2.2819372351237517,2.2850803993594595,2.288223563595167,2.2913667278308747,2.294509892066582,2.29765305630229,2.3007962205379977,2.303939384773705,2.307082549009413,2.3102257132451203,2.313368877480828,2.316512041716536,2.3196552059522433,2.322798370187951,2.325941534423659,2.3290846986593663,2.332227862895074,2.3353710271307815,2.3385141913664893,2.341657355602197,2.3448005198379045,2.3479436840736123,2.3510868483093197,2.3542300125450275,2.3573731767807353,2.3605163410164427,2.3636595052521505,2.3668026694878583,2.3699458337235657,2.3730889979592735,2.376232162194981,2.3793753264306887,2.3825184906663965,2.385661654902104,2.3888048191378117,2.391947983373519,2.395091147609227,2.3982343118449347,2.401377476080642,2.40452064031635,2.4076638045520578,2.410806968787765,2.413950133023473,2.4170932972591803,2.420236461494888,2.423379625730596,2.4265227899663033,2.429665954202011,2.4328091184377185,2.4359522826734263,2.439095446909134,2.4422386111448415,2.4453817753805493,2.448524939616257,2.4516681038519645,2.4548112680876724,2.4579544323233797,2.4610975965590876,2.4642407607947954,2.4673839250305027,2.4705270892662106,2.473670253501918,2.4768134177376258,2.4799565819733336,2.483099746209041,2.4862429104447488,2.489386074680456,2.492529238916164,2.4956724031518718,2.498815567387579,2.501958731623287,2.505101895858995,2.508245060094702,2.51138822433041,2.5145313885661174,2.517674552801825,2.520817717037533,2.5239608812732404,2.527104045508948,2.5302472097446556,2.5333903739803634,2.536533538216071,2.5396767024517786,2.5428198666874864,2.545963030923194,2.5491061951589016,2.5522493593946094,2.5553925236303168,2.5585356878660246,2.5616788521017324,2.56482201633744,2.5679651805731476,2.571108344808855,2.574251509044563,2.5773946732802706,2.580537837515978,2.583681001751686,2.5868241659873936,2.589967330223101,2.593110494458809,2.596253658694516,2.599396822930224,2.602539987165932,2.605683151401639,2.608826315637347,2.6119694798730544,2.615112644108762,2.61825580834447,2.6213989725801774,2.624542136815885,2.627685301051593,2.6308284652873004,2.6339716295230082,2.6371147937587156,2.6402579579944234,2.6434011222301312,2.6465442864658386,2.6496874507015464,2.652830614937254,2.6559737791729616,2.6591169434086694,2.662260107644377,2.6654032718800846,2.6685464361157925,2.6716896003515,2.6748327645872076,2.677975928822915,2.681119093058623,2.6842622572943307,2.687405421530038,2.690548585765746,2.6936917500014532,2.696834914237161,2.699978078472869,2.7031212427085762,2.706264406944284,2.7094075711799914,2.7125507354156992,2.715693899651407,2.7188370638871144,2.7219802281228223,2.72512339235853,2.7282665565942374,2.7314097208299453,2.7345528850656526,2.7376960493013605,2.7408392135370683,2.7439823777727756,2.7471255420084835,2.750268706244191,2.7534118704798987,2.7565550347156065,2.759698198951314,2.7628413631870217,2.7659845274227295,2.769127691658437,2.7722708558941447,2.775414020129852,2.77855718436556,2.7817003486012677,2.784843512836975,2.787986677072683,2.7911298413083903,2.794273005544098,2.797416169779806,2.8005593340155133,2.803702498251221,2.806845662486929,2.8099888267226363,2.813131990958344,2.8162751551940515,2.8194183194297593,2.822561483665467,2.8257046479011745,2.8288478121368823,2.8319909763725897,2.8351341406082975,2.8382773048440053,2.8414204690797127,2.8445636333154205,2.8477067975511283,2.8508499617868357,2.8539931260225435,2.857136290258251,2.8602794544939587,2.8634226187296665,2.866565782965374,2.8697089472010817,2.872852111436789,2.875995275672497,2.8791384399082047,2.882281604143912,2.88542476837962,2.8885679326153277,2.891711096851035,2.894854261086743,2.8979974253224503,2.901140589558158,2.904283753793866,2.9074269180295733,2.910570082265281,2.9137132465009885,2.9168564107366963,2.919999574972404,2.9231427392081115,2.9262859034438193,2.9294290676795267,2.9325722319152345,2.9357153961509423,2.9388585603866497,2.9420017246223575,2.9451448888580654,2.9482880530937727,2.9514312173294805,2.954574381565188,2.9577175458008957,2.9608607100366036,2.964003874272311,2.9671470385080188,2.970290202743726,2.973433366979434,2.9765765312151418,2.979719695450849,2.982862859686557,2.9860060239222648,2.989149188157972,2.99229235239368,2.9954355166293873,2.998578680865095,3.001721845100803,3.0048650093365104,3.008008173572218,3.0111513378079255,3.0142945020436334,3.017437666279341,3.0205808305150486,3.0237239947507564,3.026867158986464,3.0300103232221716,3.0331534874578794,3.0362966516935868,3.0394398159292946,3.0425829801650024,3.0457261444007098,3.0488693086364176,3.052012472872125,3.0551556371078328,3.0582988013435406,3.061441965579248,3.064585129814956,3.0677282940506636,3.070871458286371,3.074014622522079,3.077157786757786,3.080300950993494,3.083444115229202,3.086587279464909,3.089730443700617,3.0928736079363244,3.096016772172032,3.09915993640774,3.1023031006434474,3.105446264879155,3.108589429114863,3.1117325933505704,3.114875757586278,3.1180189218219856,3.1211620860576934,3.1243052502934012,3.1274484145291086,3.1305915787648164,3.133734743000524,3.1368779072362316,3.1400210714719394,3.143164235707647,3.1463073999433546,3.149450564179062,3.15259372841477,3.1557368926504776,3.158880056886185,3.162023221121893,3.1651663853576006,3.168309549593308,3.171452713829016,3.174595878064723,3.177739042300431,3.180882206536139,3.184025370771846,3.187168535007554,3.1903116992432614,3.1934548634789692,3.196598027714677,3.1997411919503844,3.2028843561860922,3.2060275204218,3.2091706846575074,3.2123138488932153,3.2154570131289226,3.2186001773646304,3.2217433416003383,3.2248865058360456,3.2280296700717535,3.231172834307461,3.2343159985431686,3.2374591627788765,3.240602327014584,3.2437454912502917,3.2468886554859995,3.250031819721707,3.2531749839574147,3.256318148193122,3.25946131242883,3.2626044766645377,3.265747640900245,3.268890805135953,3.2720339693716602,3.275177133607368,3.278320297843076,3.2814634620787833,3.284606626314491,3.287749790550199,3.2908929547859063,3.294036119021614,3.2971792832573215,3.3003224474930293,3.303465611728737,3.3066087759644445,3.3097519402001523,3.3128951044358597,3.3160382686715675,3.3191814329072753,3.3223245971429827,3.3254677613786905,3.328610925614398,3.3317540898501057,3.3348972540858135,3.338040418321521,3.3411835825572287,3.3443267467929365,3.347469911028644,3.3506130752643517,3.353756239500059,3.356899403735767,3.3600425679714747,3.363185732207182,3.36632889644289,3.3694720606785973,3.372615224914305,3.375758389150013,3.3789015533857203,3.382044717621428,3.385187881857136,3.3883310460928433,3.391474210328551,3.3946173745642585,3.3977605387999663,3.400903703035674,3.4040468672713815,3.4071900315070893,3.4103331957427967,3.4134763599785045,3.4166195242142123,3.4197626884499197,3.4229058526856275,3.4260490169213353,3.4291921811570427,3.4323353453927505,3.435478509628458,3.4386216738641657,3.4417648380998735,3.444908002335581,3.4480511665712887,3.451194330806996,3.454337495042704,3.4574806592784117,3.460623823514119,3.463766987749827,3.4669101519855348,3.470053316221242,3.47319648045695,3.4763396446926573,3.479482808928365,3.482625973164073,3.4857691373997803,3.488912301635488,3.4920554658711955,3.4951986301069033,3.498341794342611,3.5014849585783185,3.5046281228140264,3.507771287049734,3.5109144512854416,3.5140576155211494,3.5172007797568567,3.5203439439925646,3.5234871082282724,3.5266302724639798,3.5297734366996876,3.532916600935395,3.5360597651711028,3.5392029294068106,3.542346093642518,3.5454892578782258,3.548632422113933,3.551775586349641,3.554918750585349,3.558061914821056,3.561205079056764,3.564348243292472,3.567491407528179,3.570634571763887,3.5737777359995944,3.576920900235302,3.58006406447101,3.5832072287067174,3.586350392942425,3.5894935571781326,3.5926367214138404,3.595779885649548,3.5989230498852556,3.6020662141209634,3.605209378356671,3.6083525425923786,3.6114957068280864,3.614638871063794,3.6177820352995016,3.6209251995352094,3.624068363770917,3.6272115280066246,3.630354692242332,3.63349785647804,3.6366410207137476,3.639784184949455,3.642927349185163,3.6460705134208706,3.649213677656578,3.652356841892286,3.655500006127993,3.658643170363701,3.661786334599409,3.664929498835116,3.668072663070824,3.6712158273065314,3.674358991542239,3.677502155777947,3.6806453200136544,3.6837884842493622,3.68693164848507,3.6900748127207774,3.6932179769564852,3.6963611411921926,3.6995043054279004,3.7026474696636082,3.7057906338993156,3.7089337981350234,3.712076962370731,3.7152201266064386,3.7183632908421465,3.721506455077854,3.7246496193135616,3.7277927835492695,3.730935947784977,3.7340791120206847,3.737222276256392,3.7403654404921,3.7435086047278077,3.746651768963515,3.749794933199223,3.7529380974349302,3.756081261670638,3.759224425906346,3.7623675901420532,3.765510754377761,3.7686539186134684,3.7717970828491763,3.774940247084884,3.7780834113205914,3.7812265755562993,3.784369739792007,3.7875129040277145,3.7906560682634223,3.7937992324991296,3.7969423967348375,3.8000855609705453,3.8032287252062527,3.8063718894419605,3.809515053677668,3.8126582179133757,3.8158013821490835,3.818944546384791,3.8220877106204987,3.8252308748562065,3.828374039091914,3.8315172033276217,3.834660367563329,3.837803531799037,3.8409466960347447,3.844089860270452,3.84723302450616,3.8503761887418673,3.853519352977575,3.856662517213283,3.8598056814489903,3.862948845684698,3.866092009920406,3.8692351741561133,3.872378338391821,3.8755215026275285,3.8786646668632363,3.881807831098944,3.8849509953346515,3.8880941595703593,3.8912373238060667,3.8943804880417745,3.8975236522774823,3.9006668165131897,3.9038099807488975,3.9069531449846053,3.9100963092203127,3.9132394734560205,3.916382637691728,3.9195258019274357,3.9226689661631435,3.925812130398851,3.9289552946345587,3.932098458870266,3.935241623105974,3.9383847873416817,3.941527951577389,3.944671115813097,3.9478142800488047,3.950957444284512,3.95410060852022,3.9572437727559273,3.960386936991635,3.963530101227343,3.9666732654630503,3.969816429698758,3.9729595939344655,3.9761027581701733,3.979245922405881,3.9823890866415885,3.9855322508772963,3.9886754151130037,3.9918185793487115,3.9949617435844194,3.9981049078201267,4.0012480720558345,4.004391236291542,4.00753440052725,4.010677564762958,4.013820728998665,4.016963893234373,4.020107057470081,4.023250221705788,4.026393385941495,4.029536550177204,4.032679714412911,4.035822878648618,4.038966042884327,4.042109207120034,4.045252371355741,4.04839553559145,4.051538699827157,4.054681864062864,4.057825028298573,4.06096819253428,4.064111356769987,4.067254521005695,4.070397685241403,4.07354084947711,4.076684013712818,4.079827177948526,4.082970342184233,4.086113506419941,4.089256670655649,4.092399834891356,4.095542999127064,4.098686163362771,4.101829327598479,4.104972491834187,4.108115656069894,4.111258820305602,4.11440198454131,4.117545148777017,4.120688313012725,4.123831477248433,4.12697464148414,4.130117805719848,4.133260969955556,4.136404134191263,4.139547298426971,4.142690462662679,4.145833626898386,4.148976791134094,4.152119955369802,4.155263119605509,4.158406283841217,4.161549448076925,4.164692612312632,4.16783577654834,4.170978940784048,4.174122105019755,4.177265269255463,4.18040843349117,4.183551597726878,4.186694761962586,4.189837926198293,4.192981090434001,4.196124254669709,4.199267418905416,4.202410583141124,4.205553747376832,4.208696911612539,4.211840075848247,4.214983240083955,4.218126404319662,4.221269568555369,4.224412732791078,4.227555897026785,4.230699061262492,4.233842225498201,4.236985389733908,4.240128553969615,4.243271718205324,4.246414882441031,4.249558046676738,4.252701210912447,4.255844375148154,4.258987539383861,4.262130703619569,4.265273867855277,4.268417032090984,4.271560196326692,4.2747033605624,4.2778465247981075,4.280989689033815,4.284132853269523,4.2872760175052305,4.290419181740938,4.293562345976646,4.2967055102123535,4.299848674448061,4.302991838683768,4.3061350029194765,4.309278167155184,4.312421331390891,4.3155644956265995,4.318707659862307,4.321850824098014,4.3249939883337225,4.32813715256943,4.331280316805137,4.3344234810408455,4.337566645276553,4.34070980951226,4.343852973747968,4.346996137983676,4.350139302219383,4.353282466455091,4.356425630690799,4.359568794926506,4.362711959162214,4.365855123397922,4.368998287633629,4.372141451869337,4.375284616105045,4.378427780340752,4.38157094457646,4.384714108812167,4.387857273047875,4.391000437283583,4.39414360151929,4.397286765754998,4.400429929990706,4.403573094226413,4.406716258462121,4.409859422697829,4.413002586933536,4.416145751169244,4.419288915404952,4.422432079640659,4.4255752438763665,4.428718408112075,4.431861572347782,4.4350047365834895,4.438147900819198,4.441291065054905,4.4444342292906125,4.447577393526321,4.450720557762028,4.4538637219977355,4.457006886233444,4.460150050469151,4.4632932147048585,4.466436378940566,4.469579543176274,4.4727227074119815,4.475865871647689,4.479009035883397,4.4821522001191045,4.485295364354812,4.48843852859052,4.4915816928262275,4.494724857061935,4.497868021297643,4.501011185533351,4.504154349769058,4.507297514004765,4.510440678240474,4.513583842476181,4.516727006711888,4.519870170947597,4.523013335183304,4.526156499419011,4.52929966365472,4.532442827890427,4.535585992126134,4.538729156361842,4.54187232059755,4.545015484833257,4.548158649068965,4.551301813304673,4.55444497754038,4.557588141776088,4.560731306011796,4.563874470247503,4.567017634483211,4.570160798718919,4.573303962954626,4.576447127190334,4.579590291426041,4.582733455661749,4.585876619897457,4.589019784133164,4.592162948368872,4.59530611260458,4.598449276840287,4.601592441075995,4.604735605311703,4.60787876954741,4.611021933783118,4.614165098018826,4.617308262254533,4.6204514264902405,4.623594590725949,4.626737754961656,4.6298809191973636,4.633024083433072,4.636167247668779,4.639310411904487,4.642453576140195,4.645596740375902,4.64873990461161,4.651883068847318,4.655026233083025,4.658169397318733,4.66131256155444,4.664455725790148,4.667598890025856,4.670742054261563,4.673885218497271,4.677028382732979,4.680171546968686,4.683314711204394,4.686457875440102,4.689601039675809,4.692744203911517,4.695887368147225,4.699030532382932,4.702173696618639,4.705316860854348,4.708460025090055,4.711603189325762,4.714746353561471,4.717889517797178,4.721032682032885,4.724175846268594,4.727319010504301,4.730462174740008,4.733605338975717,4.736748503211424,4.739891667447131,4.743034831682839,4.746177995918547,4.749321160154254,4.752464324389962,4.75560748862567,4.758750652861377,4.761893817097085,4.765036981332793,4.7681801455685004,4.771323309804208,4.774466474039916,4.7776096382756235,4.780752802511331,4.783895966747038,4.7870391309827465,4.790182295218454,4.793325459454161,4.7964686236898695,4.799611787925577,4.802754952161284,4.8058981163969925,4.8090412806327,4.812184444868407,4.8153276091041155,4.818470773339823,4.82161393757553,4.824757101811238,4.827900266046946,4.831043430282653,4.834186594518361,4.837329758754069,4.840472922989776,4.843616087225484,4.846759251461192,4.849902415696899,4.853045579932607,4.856188744168315,4.859331908404022,4.86247507263973,4.865618236875437,4.868761401111145,4.871904565346853,4.87504772958256,4.878190893818268,4.881334058053976,4.884477222289683,4.887620386525391,4.890763550761099,4.893906714996806,4.897049879232514,4.900193043468222,4.903336207703929,4.9064793719396365,4.909622536175345,4.912765700411052,4.9159088646467595,4.919052028882468,4.922195193118175,4.9253383573538825,4.928481521589591,4.931624685825298,4.9347678500610055,4.937911014296713,4.941054178532421,4.9441973427681285,4.947340507003836,4.950483671239544,4.9536268354752515,4.956769999710959,4.959913163946667,4.9630563281823745,4.966199492418082,4.96934265665379,4.9724858208894975,4.975628985125205,4.978772149360912,4.9819153135966205,4.985058477832328,4.988201642068035,4.9913448063037436,4.994487970539451,4.997631134775158,5.000774299010867,5.003917463246574,5.007060627482281,5.01020379171799,5.013346955953697,5.016490120189404,5.019633284425112,5.02277644866082,5.025919612896527,5.029062777132235,5.032205941367943,5.03534910560365,5.038492269839358,5.041635434075066,5.044778598310773,5.047921762546481,5.051064926782189,5.054208091017896,5.057351255253604,5.060494419489311,5.063637583725019,5.066780747960727,5.069923912196434,5.073067076432142,5.07621024066785,5.079353404903557,5.082496569139265,5.085639733374973,5.08878289761068,5.091926061846388,5.095069226082096,5.098212390317803,5.1013555545535105,5.104498718789219,5.107641883024926,5.1107850472606335,5.113928211496342,5.117071375732049,5.1202145399677566,5.123357704203465,5.126500868439172,5.12964403267488,5.132787196910588,5.135930361146295,5.139073525382003,5.14221668961771,5.145359853853418,5.148503018089126,5.151646182324833,5.154789346560541,5.157932510796249,5.161075675031956,5.164218839267664,5.167362003503372,5.170505167739079,5.173648331974787,5.176791496210495,5.179934660446202,5.183077824681909,5.186220988917618,5.189364153153325,5.192507317389032,5.195650481624741,5.198793645860448,5.201936810096155,5.205079974331864,5.208223138567571,5.211366302803278,5.214509467038987,5.217652631274694,5.220795795510401,5.223938959746109,5.227082123981817,5.230225288217524,5.233368452453232,5.23651161668894,5.239654780924647,5.242797945160355,5.245941109396063,5.24908427363177,5.252227437867478,5.255370602103186,5.2585137663388934,5.261656930574601,5.264800094810308,5.2679432590460165,5.271086423281724,5.274229587517431,5.2773727517531395,5.280515915988847,5.283659080224554,5.2868022444602625,5.28994540869597,5.293088572931677,5.2962317371673855,5.299374901403093,5.3025180656388,5.305661229874508,5.308804394110216,5.311947558345923,5.315090722581631,5.318233886817339,5.321377051053046,5.324520215288754,5.327663379524462,5.330806543760169,5.333949707995877,5.337092872231585,5.340236036467292,5.343379200703,5.346522364938707,5.349665529174415,5.352808693410123,5.35595185764583,5.359095021881538,5.362238186117246,5.365381350352953,5.368524514588661,5.371667678824369,5.374810843060076,5.377954007295783,5.381097171531492,5.384240335767199,5.3873835000029064,5.390526664238615,5.393669828474322,5.3968129927100295,5.399956156945738,5.403099321181445,5.4062424854171525,5.409385649652861,5.412528813888568,5.4156719781242755,5.418815142359983,5.421958306595691,5.4251014708313985,5.428244635067106,5.431387799302814,5.4345309635385215,5.437674127774229,5.440817292009937,5.4439604562456445,5.447103620481352,5.45024678471706,5.4533899489527675,5.456533113188475,5.459676277424182,5.4628194416598905,5.465962605895598,5.469105770131305,5.4722489343670135,5.475392098602721,5.478535262838428,5.4816784270741366,5.484821591309844,5.487964755545551,5.49110791978126,5.494251084016967,5.497394248252674,5.500537412488382,5.50368057672409,5.506823740959797,5.509966905195505,5.513110069431213,5.51625323366692,5.519396397902628,5.522539562138336,5.525682726374043,5.528825890609751,5.531969054845459,5.535112219081166,5.538255383316874,5.541398547552581,5.544541711788289,5.547684876023997,5.550828040259704,5.553971204495412,5.55711436873112,5.560257532966827,5.563400697202535,5.566543861438243,5.56968702567395,5.572830189909658,5.575973354145366,5.579116518381073,5.5822596826167805,5.585402846852489,5.588546011088196,5.5916891753239035,5.594832339559612,5.597975503795319,5.6011186680310265,5.604261832266735,5.607404996502442,5.6105481607381495,5.613691324973858,5.616834489209565,5.619977653445273,5.62312081768098,5.626263981916688,5.629407146152396,5.632550310388103,5.635693474623811,5.638836638859519,5.641979803095226,5.645122967330934,5.648266131566642,5.651409295802349,5.654552460038057,5.657695624273765,5.660838788509472,5.663981952745179,5.667125116980888,5.670268281216595,5.673411445452302,5.676554609688011,5.679697773923718,5.682840938159425,5.685984102395134,5.689127266630841,5.692270430866548,5.695413595102257,5.698556759337964,5.701699923573671,5.704843087809379,5.707986252045087,5.711129416280794,5.714272580516502,5.71741574475221,5.720558908987917,5.723702073223625,5.726845237459333,5.72998840169504,5.733131565930748,5.736274730166456,5.739417894402163,5.742561058637871,5.745704222873578,5.7488473871092864,5.751990551344994,5.755133715580701,5.7582768798164095,5.761420044052117,5.764563208287824,5.7677063725235325,5.77084953675924,5.773992700994947,5.7771358652306555,5.780279029466363,5.78342219370207,5.786565357937778,5.789708522173486,5.792851686409193,5.795994850644901,5.799138014880609,5.802281179116316,5.805424343352024,5.808567507587732,5.811710671823439,5.814853836059147,5.817997000294854,5.821140164530562,5.82428332876627,5.827426493001977,5.830569657237685,5.833712821473393,5.8368559857091,5.839999149944808,5.843142314180516,5.846285478416223,5.849428642651931,5.852571806887639,5.855714971123346,5.858858135359053,5.862001299594762,5.865144463830469,5.868287628066176,5.871430792301885,5.874573956537592,5.877717120773299,5.880860285009008,5.884003449244715,5.8871466134804225,5.890289777716131,5.893432941951838,5.8965761061875455,5.899719270423253,5.902862434658961,5.9060055988946685,5.909148763130376,5.912291927366084,5.9154350916017915,5.918578255837499,5.921721420073207,5.9248645843089145,5.928007748544622,5.93115091278033,5.9342940770160375,5.937437241251745,5.940580405487452,5.9437235697231605,5.946866733958868,5.950009898194575,5.9531530624302835,5.956296226665991,5.959439390901698,5.9625825551374065,5.965725719373114,5.968868883608821,5.9720120478445295,5.975155212080237,5.978298376315944,5.981441540551652,5.98458470478736,5.987727869023067,5.990871033258775,5.994014197494483,5.99715736173019,6.000300525965898,6.003443690201606,6.006586854437313,6.009730018673021,6.012873182908729,6.016016347144436,6.019159511380144,6.022302675615851,6.025445839851559,6.028589004087267,6.031732168322974,6.034875332558682,6.03801849679439,6.041161661030097,6.044304825265805,6.047447989501513,6.05059115373722,6.053734317972928,6.056877482208636,6.060020646444343,6.0631638106800505,6.066306974915759,6.069450139151466,6.0725933033871735,6.075736467622882,6.078879631858589,6.0820227960942965,6.085165960330005,6.088309124565712,6.0914522888014195,6.094595453037128,6.097738617272835,6.1008817815085425,6.10402494574425,6.107168109979958,6.1103112742156656,6.113454438451373,6.116597602687081,6.119740766922789,6.122883931158496,6.126027095394204,6.129170259629912,6.132313423865619,6.135456588101327,6.138599752337035,6.141742916572742,6.144886080808449,6.148029245044158,6.151172409279865,6.154315573515572,6.157458737751281,6.160601901986988,6.163745066222695,6.166888230458404,6.170031394694111,6.173174558929818,6.176317723165527,6.179460887401234,6.182604051636941,6.185747215872649,6.188890380108357,6.192033544344064,6.195176708579772,6.19831987281548,6.201463037051187,6.204606201286895,6.207749365522603,6.21089252975831,6.214035693994018,6.217178858229726,6.220322022465433,6.223465186701141,6.226608350936848,6.229751515172556,6.232894679408264,6.236037843643971,6.239181007879679,6.242324172115387,6.245467336351094,6.2486105005868025,6.25175366482251,6.254896829058217,6.258039993293925,6.261183157529633,6.26432632176534,6.267469486001048,6.270612650236756,6.273755814472463,6.276898978708171,6.280042142943879,6.283185307179586],\"y\":[0.0,0.003143159060238096,0.006286287067720245,0.009429352969997286,0.01257232571523362,0.015715174252513998,0.018857867532150272,0.022000374505988164,0.025142664127713998,0.028284705353161424,0.0314264671406181,0.03456791845113242,0.03770902824882009,0.040849765501170796,0.04399009917935478,0.04712999825852939,0.05026943171814557,0.05340836854225433,0.056546777719813215,0.059684628244992606,0.06282188911748207,0.0659585293427967,0.06909451793258313,0.07222982390492594,0.07536441628465354,0.07849826410364426,0.08163133640113233,0.08476360222401372,0.08789503062715187,0.09102559067368361,0.09415525143532459,0.09728398199267493,0.10041175143552472,0.1035385288631593,0.10666428338466463,0.10978898411923245,0.11291260019646535,0.11603510075668172,0.11915645495122076,0.12227663194274711,0.12539560090555552,0.1285133310258755,0.1316297915021756,0.13474495154546787,0.13785878037961183,0.1409712472416188,0.14408232138195554,0.1471919720648482,0.150300168568586,0.15340688018582457,0.15651207622388952,0.15961572600507962,0.16271779886696974,0.16581826416271395,0.1689170912613482,0.17201424954809297,0.17510970842465573,0.17820343730953322,0.1812954056383136,0.18438558286397838,0.18747393845720423,0.1905604419066646,0.1936450627193311,0.19672777042077488,0.19980853455546754,0.20288732468708218,0.20596411039879395,0.20903886129358054,0.21211154699452278,0.2151821371451043,0.21825060140951183,0.2213169094729346,0.22438103104186405,0.22744293584439296,0.23050259363051478,0.23355997417242208,0.2366150472648055,0.23966778272515207,0.2427181503940434,0.24576612013545354,0.24881166183704698,0.2518547454104758,0.25489534079167714,0.25793341794117025,0.260968946844353,0.2640018975117988,0.26703223997955255,0.27005994430942676,0.2730849805892974,0.2761073189333995,0.27912692948262213,0.2821437824048034,0.28515784789502563,0.2881690961759093,0.29117749749790744,0.2941830221395997,0.2971856404079855,0.30018532263877806,0.3031820391966969,0.3061757604757607,0.30916645689958033,0.3121540989216503,0.315138657025641,0.31812010172569044,0.32109840356669545,0.32407353312460246,0.32704546100669857,0.33001415785190163,0.3329795943310505,0.33594174114719483,0.3389005690358841,0.3418560487654574,0.34480815113733165,0.34775684698629045,0.3507021071807718,0.3536439026231564,0.3565822042500548,0.35951698303259455,0.3624482099767071,0.36537585612341417,0.36829989254911394,0.37122029036586657,0.3741370207216799,0.37705005480079434,0.3799593638239676,0.3828649190487589,0.385766691769813,0.3886646533191438,0.3915587750664177,0.3944490284192361,0.39733538482341846,0.4002178157632836,0.40309629276193215,0.4059707873815275,0.40884127122357683,0.41170771592921185,0.4145700931794686,0.41742837469556754,0.42028253223919276,0.42313253761277114,0.4259783626597507,0.42881997926487897,0.43165735935448063,0.4344904748967348,0.43731929790195234,0.4401438004228519,0.44296395455483617,0.44577973243626795,0.4485911062487449,0.4513980482173744,0.45420053061104837,0.4569985257427169,0.45979200596966185,0.4625809436937699,0.4653653113618054,0.46814508146568234,0.4709202265427363,0.4736907191759956,0.47645653199445226,0.47921763767333253,0.4819740089343666,0.4847256185460583,0.48747243932395384,0.4902144441309109,0.4929516058773663,0.49568389752160347,0.4984112920700204,0.5011337625773953,0.5038512821471537,0.5065638239316335,0.5092713611323508,0.5119738670002639,0.5146713148360386,0.5173636779903108,0.5200509298639509,0.5227330439083256,0.525409993625561,0.528081752568804,0.5307482943424833,0.5334095926025708,0.5360656210568414,0.5387163534651331,0.5413617636396058,0.5440018254450003,0.5466365127988966,0.5492657996719715,0.5518896600882554,0.5545080681253896,0.5571209979148817,0.5597284236423617,0.5623303195478371,0.5649266599259464,0.5675174191262146,0.5701025715533049,0.5726820916672735,0.57525595398382,0.5778241330745406,0.5803866035671786,0.5829433401458751,0.5854943175514196,0.5880395105814988,0.5905788940909463,0.5931124429919904,0.5956401322545027,0.5981619369062444,0.600677832033114,0.6031877927793927,0.6056917943479906,0.6081898120006908,0.6106818210583949,0.6131677969013658,0.6156477149694718,0.6181215507624285,0.6205892798400412,0.6230508778224466,0.6255063203903531,0.6279555832852816,0.6303986423098045,0.6328354733277857,0.6352660522646181,0.6376903551074622,0.6401083579054827,0.6425200367700856,0.6449253678751542,0.6473243274572839,0.6497168918160177,0.6521030373140798,0.6544827403776098,0.6568559774963945,0.6592227252241015,0.6615829601785098,0.6639366590417412,0.6662837985604906,0.6686243555462559,0.670958306875567,0.6732856294902141,0.6756063003974755,0.6779202966703449,0.6802275954477582,0.6825281739348187,0.6848220094030226,0.6871090791904838,0.6893893607021574,0.6916628314100631,0.6939294688535079,0.6961892506393077,0.6984421544420086,0.700688158004108,0.7029272391362733,0.7051593757175627,0.7073845456956421,0.7096027270870046,0.711813897977186,0.7140180365209827,0.7162151209426669,0.718405129536202,0.7205880406654561,0.7227638327644174,0.7249324843374059,0.7270939739592863,0.7292482802756799,0.7313953820031746,0.7335352579295364,0.7356678869139185,0.7377932478870696,0.7399113198515427,0.7420220818819026,0.7441255131249321,0.7462215927998385,0.7483103001984588,0.7503916146854637,0.7524655156985628,0.754531982748706,0.7565909954202877,0.7586425333713469,0.7606865763337695,0.7627231041134874,0.7647520965906791,0.7667735337199675,0.7687873955306185,0.7707936621267382,0.7727923136874691,0.774783330467187,0.7767666927956944,0.7787423810784165,0.7807103757965934,0.7826706575074741,0.7846232068445077,0.7865680045175353,0.7885050313129801,0.7904342680940378,0.7923556958008651,0.7942692954507682,0.7961750481383906,0.7980729350358996,0.7999629373931723,0.8018450365379808,0.8037192138761771,0.8055854508918759,0.8074437291476388,0.8092940302846554,0.8111363360229249,0.8129706281614371,0.8147968885783518,0.816615099231178,0.8184252421569521,0.8202272994724157,0.8220212533741913,0.8238070861389596,0.8255847801236331,0.8273543177655321,0.8291156815825564,0.8308688541733595,0.8326138182175193,0.8343505564757104,0.8360790517898736,0.8377992870833855,0.8395112453612275,0.8412149097101534,0.8429102632988572,0.8445972893781382,0.8462759712810671,0.8479462924231513,0.8496082363024975,0.8512617864999755,0.8529069266793804,0.8545436405875937,0.8561719120547442,0.8577917249943673,0.8594030634035643,0.8610059113631607,0.8626002530378628,0.8641860726764146,0.8657633546117531,0.8673320832611641,0.8688922431264344,0.8704438187940066,0.87198679493513,0.8735211563060132,0.8750468877479742,0.8765639741875899,0.8780724006368452,0.8795721521932816,0.8810632140401432,0.8825455714465249,0.8840192097675159,0.8854841144443459,0.8869402710045283,0.8883876650620035,0.8898262823172801,0.8912561085575778,0.8926771296569662,0.8940893315765054,0.8954927003643844,0.8968872221560586,0.8982728831743872,0.8996496697297693,0.9010175682202791,0.9023765651317996,0.9037266470381573,0.9050678006012541,0.9064000125711993,0.9077232697864404,0.9090375591738927,0.9103428677490696,0.9116391826162099,0.9129264909684057,0.9142047800877281,0.9154740373453542,0.9167342502016907,0.9179854062064986,0.9192274929990153,0.9204604983080776,0.9216844099522427,0.9228992158399079,0.9241049039694311,0.9253014624292485,0.9264888793979928,0.9276671431446101,0.9288362420284748,0.9299961644995058,0.9311468990982801,0.932288434456146,0.9334207592953355,0.9345438624290754,0.9356577327616985,0.9367623592887524,0.9378577310971091,0.938943837365072,0.9400206673624831,0.9410882104508294,0.9421464560833474,0.9431953938051277,0.944235013253218,0.9452653041567258,0.9462862563369197,0.9472978597073298,0.9483001042738479,0.9492929801348252,0.9502764774811715,0.9512505865964508,0.9522152978569783,0.9531706017319148,0.9541164887833612,0.9550529496664516,0.9559799751294459,0.9568975560138205,0.9578056832543599,0.9587043478792451,0.959593541010143,0.960473253862294,0.9613434777445982,0.9622042040597021,0.9630554243040831,0.9638971300681336,0.9647293130362439,0.9655519649868846,0.9663650777926878,0.9671686434205272,0.9679626539315976,0.9687471014814936,0.9695219783202864,0.970287276792601,0.9710429893376917,0.9717891084895165,0.9725256268768111,0.973252537223162,0.9739698323470777,0.9746775051620601,0.9753755486766748,0.9760639559946193,0.976742720314792,0.9774118349313591,0.9780712932338202,0.9787210887070751,0.9793612149314864,0.9799916655829445,0.9806124344329288,0.9812235153485701,0.9818249022927109,0.9824165893239648,0.9829985705967758,0.9835708403614751,0.9841333929643393,0.9846862228476447,0.9852293245497233,0.9857626927050165,0.9862863220441276,0.9868002073938746,0.9873043436773412,0.9877987259139261,0.9882833492193934,0.98875820880592,0.9892232999821434,0.9896786181532077,0.9901241588208092,0.9905599175832408,0.9909858901354354,0.9914020722690086,0.9918084598723,0.9922050489304145,0.9925918355252606,0.9929688158355909,0.9933359861370382,0.9936933428021535,0.9940408823004411,0.9943786011983938,0.9947064961595269,0.9950245639444106,0.995332801410703,0.9956312055131803,0.9959197733037669,0.9961985019315652,0.9964673886428831,0.9967264307812617,0.9969756257875008,0.9972149711996852,0.9974444646532082,0.9976641038807956,0.9978738867125272,0.9980738110758594,0.9982638749956445,0.9984440765941512,0.9986144140910828,0.9987748858035943,0.9989254901463098,0.9990662256313378,0.9991970908682858,0.9993180845642742,0.9994292055239488,0.9995304526494934,0.9996218249406393,0.9997033214946769,0.9997749415064627,0.9998366842684291,0.9998885491705899,0.9999305357005471,0.9999626434434962,0.9999848720822294,0.9999972213971394,0.9999996912662218,0.9999922816650751,0.9999749926669027,0.9999478244425106,0.9999107772603066,0.9998638514862973,0.9998070475840847,0.9997403661148613,0.9996638077374049,0.9995773732080722,0.9994810633807905,0.9993748792070504,0.9992588217358954,0.9991328921139124,0.9989970915852197,0.9988514214914548,0.9986958832717616,0.998530478462776,0.99835520869861,0.9981700757108368,0.9979750813284729,0.9977702274779598,0.997555516183146,0.9973309495652656,0.9970965298429187,0.9968522593320488,0.9965981404459197,0.9963341756950921,0.9960603676873989,0.995776719127919,0.9954832328189506,0.9951799116599839,0.9948667586476722,0.9945437768758023,0.994210969535264,0.9938683399140186,0.9935158913970662,0.9931536274664124,0.9927815517010343,0.9923996677768443,0.9920079794666544,0.991606490640139,0.9911952052637959,0.9907741274009082,0.9903432612115034,0.9899026109523125,0.9894521809767279,0.9889919757347606,0.9885219997729958,0.9880422577345487,0.9875527543590178,0.9870534944824386,0.9865444830372357,0.9860257250521743,0.9854972256523098,0.984958990058938,0.984411023589543,0.983853331657745,0.9832859197732465,0.982708793541778,0.9821219586650427,0.9815254209406601,0.9809191862621087,0.9803032606186678,0.9796776500953583,0.9790423608728828,0.978397399227564,0.9777427715312833,0.9770784842514176,0.9764045439507755,0.9757209572875317,0.9750277310151628,0.974324871982379,0.9736123871330575,0.9728902835061733,0.9721585682357299,0.9714172485506886,0.9706663317748975,0.9699058253270189,0.9691357367204558,0.9683560735632782,0.9675668435581473,0.9667680545022398,0.965959714287171,0.9651418308989163,0.9643144124177327,0.9634774670180793,0.9626310029685355,0.9617750286317205,0.9609095524642097,0.9600345830164518,0.9591501289326843,0.9582561989508472,0.9573528019024984,0.9564399467127246,0.9555176424000543,0.9545858980763684,0.9536447229468099,0.9526941263096935,0.9517341175564132,0.9507647061713498,0.9497859017317772,0.9487977139077678,0.9478001524620966,0.9467932272501455,0.945776948219805,0.9447513254113767,0.9437163689574737,0.9426720890829208,0.9416184961046529,0.9405556004316138,0.9394834125646527,0.9384019430964213,0.9373112027112682,0.9362112021851339,0.9351019523854439,0.9339834642710024,0.9328557488918827,0.9317188173893186,0.9305726809955946,0.9294173510339345,0.92825283891839,0.9270791561537273,0.9258963143353139,0.9247043251490038,0.9235032003710226,0.9222929518678503,0.9210735915961046,0.9198451316024228,0.9186075840233425,0.9173609610851821,0.9161052751039194,0.9148405384850706,0.9135667637235674,0.9122839634036334,0.9109921501986602,0.9096913368710817,0.9083815362722486,0.9070627613423007,0.9057350251100397,0.9043983406928006,0.9030527212963207,0.9016981802146117,0.9003347308298253,0.8989623866121235,0.8975811611195446,0.8961910679978685,0.8947921209804836,0.893384333888249,0.8919677206293598,0.8905422951992092,0.8891080716802493,0.8876650642418533,0.8862132871401742,0.8847527547180054,0.8832834814046381,0.8818054817157183,0.8803187702531046,0.8788233617047235,0.8773192708444233,0.8758065125318298,0.8742851017121981,0.8727550534162658,0.8712163827601044,0.8696691049449691,0.8681132352571502,0.8665487890678203,0.8649757818328839,0.8633942290928242,0.8618041464725485,0.8602055496812363,0.8585984545121818,0.8569828768426383,0.8553588326336627,0.853726337929956,0.8520854088597062,0.8504360616344284,0.848778312548804,0.8471121779805212,0.8454376743901115,0.8437548183207888,0.8420636263982847,0.8403641153306841,0.8386563019082616,0.8369402030033143,0.8352158355699951,0.8334832166441466,0.8317423633431305,0.8299932928656607,0.8282360224916326,0.8264705695819514,0.8246969515783624,0.8229151860032768,0.8211252904596004,0.8193272826305583,0.8175211802795205,0.8157070012498272,0.8138847634646118,0.8120544849266234,0.8102161837180503,0.8083698780003398,0.80651558601402,0.8046533260785194,0.8027831165919848,0.8009049760311012,0.7990189229509077,0.7971249759846155,0.7952231538434233,0.7933134753163317,0.7913959592699589,0.7894706246483536,0.7875374904728074,0.7855965758416681,0.7836478999301495,0.7816914819901434,0.7797273413500289,0.7777554974144804,0.7757759696642779,0.7737887776561122,0.7717939410223943,0.7697914794710594,0.7677814127853725,0.7657637608237341,0.7637385435194824,0.7617057808806978,0.7596654929900051,0.757617700004373,0.755562422154918,0.7534996797467031,0.7514294931585361,0.7493518828427708,0.747266869325102,0.7451744732043656,0.7430747151523333,0.740967615913508,0.738853196304921,0.7367314772159238,0.7346024796079836,0.7324662245144758,0.7303227330404749,0.728172026362548,0.7260141257285443,0.7238490524573851,0.7216768279388545,0.7194974736333859,0.7173110110718521,0.7151174618553523,0.7129168476549963,0.7107091902116941,0.7084945113359379,0.7062728329075885,0.7040441768756591,0.7018085652580968,0.6995660201415671,0.6973165636812348,0.6950602181005443,0.6927970056910022,0.6905269488119543,0.6882500698903672,0.6859663914206058,0.6836759359642096,0.681378726149673,0.6790747846722183,0.6767641342935738,0.6744467978417489,0.6721227982108063,0.6697921583606385,0.6674549013167402,0.6651110501699791,0.6627606280763705,0.6604036582568462,0.6580401639970268,0.6556701686469911,0.6532936956210441,0.6509107683974883,0.6485214105183887,0.646125645589343,0.6437234972792474,0.6413149893200609,0.638900145506574,0.636478989696172,0.6340515458085985,0.6316178378257209,0.6291778897912916,0.6267317258107125,0.6242793700507955,0.6218208467395231,0.6193561801658114,0.6168853946792673,0.6144085146899502,0.6119255646681303,0.6094365691440451,0.6069415527076603,0.6044405400084232,0.6019335557550224,0.5994206247151421,0.5969017717152167,0.5943770216401876,0.5918463994332559,0.5893099300956354,0.5867676386863079,0.5842195503217725,0.5816656901758008,0.5791060834791861,0.5765407555194936,0.573969731640813,0.5713930372435054,0.5688106977839547,0.5662227387743147,0.5636291857822566,0.5610300644307185,0.5584254003976504,0.5558152194157605,0.5531995472722627,0.5505784098086193,0.5479518329202883,0.545319842556466,0.5426824647198305,0.5400397254662861,0.5373916509047041,0.5347382671966666,0.5320796005562075,0.529415677249552,0.5267465235948596,0.524072165961963,0.5213926307721063,0.5187079444976863,0.5160181336619887,0.513323224838928,0.5106232446527845,0.5079182197779395,0.5052081769386148,0.5024931429086051,0.4997731445110173,0.49704820861800314,0.4943183621504932,0.4915836320779331,0.48884404541801585,0.486099629236414,0.48335041064651457,0.4805964168091484,0.4778376749323244,0.4750742122709596,0.47230605612660875,0.4695332338471973,0.4667557728267481,0.4639737005051135,0.46118704436770297,0.4583958319452106,0.45560009081334535,0.45279984859255745,0.4499951329477642,0.4471859715880798,0.44437239226653796,0.4415544227798208,0.43873209096798305,0.4359054247141755,0.4330744519443727,0.43023920062709375,0.42739969877312867,0.4245559744352605,0.4217080557079871,0.4188559707272462,0.41599974767013437,0.41313941475463134,0.41027500023932023,0.4074065324231068,0.4045340396449426,0.4016575502835437,0.39877709275710915,0.3958926955230428,0.39300438707766927,0.39011219595595514,0.3872161507312257,0.38431628001488144,0.38141261245611857,0.37850517674164225,0.37559400159538636,0.37267911577822843,0.3697605480877041,0.3668383273577253,0.3639124824582941,0.3609830422952162,0.3580500358098182,0.35511349197865844,0.35217343981324367,0.34922990835974116,0.3462829266986904,0.3433325239447187,0.3403787292462505,0.33742157178522203,0.33446108077679176,0.33149728546905066,0.3285302151427358,0.32555989911093947,0.32258636671881874,0.31960964734330827,0.3166297703928268,0.3136467653069894,0.31066066155631555,0.30767148864193655,0.3046792760953073,0.3016840534779108,0.29868585038096923,0.2956846964251505,0.29268062126027394,0.2896736545650204,0.2866638260466374,0.28365116544064456,0.2806357025105426,0.2776174670475161,0.27459648887014215,0.2715727978240943,0.26854642378184673,0.2655173966423816,0.26248574633089083,0.2594515027984831,0.2564146960218867,0.2533753560031522,0.2503335127693585,0.247289196372315,0.24424243688826333,0.2411932644175833,0.23814170908449195,0.23508780103674906,0.2320315704453581,0.22897304750426659,0.2259122624300711,0.2228492454617151,0.21978402686019335,0.21671663690825152,0.21364710591008582,0.21057546419104656,0.2075017420973352,0.20442596999570747,0.20134817827317206,0.19826839733668922,0.19518665761287282,0.19210298954768854,0.1890174236061518,0.18592999027202972,0.18284072004753657,0.17974964345303537,0.17665679102673523,0.1735621933243882,0.17046588091899034,0.1673678844004766,0.16426823437542112,0.161166961466734,0.15806409631335722,0.15495966956996451,0.15185371190665742,0.1487462540086608,0.14563732657602277,0.142526960323308,0.13941518597929717,0.13630203428668222,0.13318753600176125,0.13007172189413768,0.12695462274641287,0.123836269353885,0.12071669252424352,0.11759592307726349,0.1144739918445037,0.11135092966900079,0.10822676740496319,0.10510153591746937,0.10197526608215945,0.09884798878493316,0.09571973492164343,0.09259053539778982,0.08946042112821631,0.0863294230368023,0.08319757205616021,0.08006489912732856,0.07693143519946496,0.073797211229543,0.07066225818204507,0.06752660702865515,0.06439028874795592,0.061253334325119146,0.05811577475160265,0.05497764102484286,0.051838964147947184,0.04869977512939083,0.04556010498270696,0.04241998472618333,0.03927944538255454,0.036138517978694246,0.032997233545311234,0.029855623116641576,0.026713717730140668,0.023571548426179704,0.02042914624773548,0.01728654224008679,0.014143767450506394,0.011000852927952965,0.007857829722767433,0.00471472888636268,0.001571581470919876,-0.001571581470919631,-0.0047147288863624345,-0.007857829722766744,-0.01100085292795272,-0.01414376745050615,-0.017286542240086543,-0.020429146247735234,-0.02357154842617946,-0.026713717730140422,-0.02985562311664133,-0.032997233545310985,-0.036138517978693996,-0.0392794453825543,-0.04241998472618309,-0.04556010498270672,-0.048699775129390145,-0.051838964147946934,-0.054977641024842615,-0.05811577475160241,-0.061253334325118904,-0.06439028874795567,-0.06752660702865491,-0.07066225818204482,-0.07379721122954275,-0.07693143519946471,-0.08006489912732832,-0.08319757205615996,-0.08632942303680206,-0.08946042112821563,-0.09259053539778958,-0.09571973492164318,-0.09884798878493291,-0.1019752660821592,-0.10510153591746914,-0.10822676740496294,-0.11135092966900055,-0.11447399184450346,-0.11759592307726326,-0.12071669252424329,-0.12383626935388475,-0.12695462274641264,-0.130071721894137,-0.133187536001761,-0.136302034286682,-0.13941518597929692,-0.14252696032330775,-0.14563732657602252,-0.14874625400866054,-0.15185371190665717,-0.15495966956996426,-0.15806409631335697,-0.1611669614667338,-0.1642682343754209,-0.16736788440047634,-0.17046588091898968,-0.17356219332438794,-0.176656791026735,-0.17974964345303515,-0.18284072004753632,-0.18592999027202906,-0.18901742360615156,-0.1921029895476883,-0.19518665761287257,-0.19826839733668897,-0.20134817827317184,-0.20442596999570722,-0.20750174209733496,-0.2105754641910459,-0.21364710591008557,-0.21671663690825127,-0.2197840268601931,-0.22284924546171486,-0.22591226243007043,-0.22897304750426634,-0.23203157044535785,-0.23508780103674884,-0.2381417090844917,-0.24119326441758304,-0.2442424368882631,-0.24728919637231475,-0.2503335127693582,-0.2533753560031519,-0.25641469602188643,-0.25945150279848284,-0.2624857463308906,-0.26551739664238094,-0.26854642378184646,-0.2715727978240941,-0.27459648887014193,-0.27761746704751583,-0.2806357025105423,-0.28365116544064434,-0.2866638260466372,-0.2896736545650202,-0.2926806212602737,-0.2956846964251502,-0.298685850380969,-0.30168405347791055,-0.30467927609530665,-0.30767148864193633,-0.3106606615563153,-0.31364676530698915,-0.3166297703928266,-0.31960964734330805,-0.3225863667188185,-0.3255598991109392,-0.32853021514273556,-0.33149728546905044,-0.33446108077679154,-0.3374215717852218,-0.3403787292462503,-0.343332523944718,-0.34628292669869015,-0.34922990835974094,-0.35217343981324345,-0.3551134919786582,-0.3580500358098179,-0.360983042295216,-0.3639124824582939,-0.3668383273577251,-0.36976054808770387,-0.3726791157782282,-0.37559400159538614,-0.378505176741642,-0.3814126124561179,-0.3843162800148812,-0.38721615073122545,-0.3901121959559549,-0.39300438707766905,-0.3958926955230422,-0.39877709275710893,-0.4016575502835435,-0.4045340396449424,-0.4074065324231066,-0.41027500023932,-0.4131394147546311,-0.41599974767013415,-0.41885597072724556,-0.42170805570798686,-0.4245559744352603,-0.42739969877312844,-0.43023920062709353,-0.4330744519443721,-0.43590542471417526,-0.4387320909679828,-0.4415544227798206,-0.44437239226653774,-0.4471859715880796,-0.44999513294776405,-0.45279984859255723,-0.4556000908133451,-0.4583958319452104,-0.46118704436770275,-0.4639737005051133,-0.4667557728267479,-0.4695332338471967,-0.47230605612660853,-0.47507421227095936,-0.47783767493232415,-0.48059641680914816,-0.48335041064651435,-0.4860996292364138,-0.4888440454180157,-0.4915836320779329,-0.49431836215049296,-0.4970482086180029,-0.49977314451101706,-0.5024931429086049,-0.5052081769386141,-0.5079182197779393,-0.5106232446527843,-0.5133232248389278,-0.5160181336619885,-0.5187079444976861,-0.5213926307721061,-0.5240721659619629,-0.5267465235948594,-0.5294156772495517,-0.5320796005562073,-0.5347382671966664,-0.5373916509047039,-0.5400397254662855,-0.5426824647198303,-0.5453198425564658,-0.547951832920288,-0.5505784098086192,-0.5531995472722625,-0.5558152194157603,-0.5584254003976502,-0.5610300644307183,-0.5636291857822565,-0.5662227387743145,-0.5688106977839544,-0.5713930372435052,-0.5739697316408124,-0.5765407555194934,-0.5791060834791859,-0.5816656901758006,-0.5842195503217723,-0.5867676386863072,-0.5893099300956351,-0.5918463994332557,-0.5943770216401875,-0.5969017717152165,-0.5994206247151419,-0.6019335557550222,-0.604440540008423,-0.6069415527076597,-0.6094365691440449,-0.6119255646681301,-0.6144085146899501,-0.6168853946792671,-0.6193561801658108,-0.6218208467395229,-0.6242793700507953,-0.6267317258107123,-0.6291778897912914,-0.6316178378257207,-0.6340515458085982,-0.6364789896961719,-0.6389001455065738,-0.6413149893200607,-0.6437234972792472,-0.6461256455893429,-0.6485214105183885,-0.6509107683974877,-0.6532936956210439,-0.6556701686469909,-0.6580401639970267,-0.660403658256846,-0.6627606280763703,-0.6651110501699788,-0.66745490131674,-0.6697921583606384,-0.6721227982108061,-0.6744467978417488,-0.6767641342935737,-0.679074784672218,-0.6813787261496725,-0.6836759359642095,-0.6859663914206056,-0.6882500698903671,-0.6905269488119541,-0.692797005691002,-0.6950602181005442,-0.6973165636812346,-0.6995660201415669,-0.7018085652580967,-0.704044176875659,-0.7062728329075884,-0.7084945113359377,-0.7107091902116937,-0.7129168476549961,-0.7151174618553521,-0.717311011071852,-0.7194974736333857,-0.7216768279388543,-0.723849052457385,-0.7260141257285442,-0.7281720263625479,-0.7303227330404748,-0.7324662245144757,-0.7346024796079834,-0.7367314772159236,-0.7388531963049205,-0.7409676159135078,-0.743074715152333,-0.7451744732043655,-0.7472668693251019,-0.7493518828427703,-0.7514294931585359,-0.753499679746703,-0.7555624221549179,-0.7576177000043728,-0.7596654929900046,-0.7617057808806981,-0.7637385435194822,-0.7657637608237337,-0.7677814127853726,-0.7697914794710593,-0.7717939410223942,-0.7737887776561119,-0.7757759696642776,-0.7777554974144802,-0.7797273413500284,-0.7816914819901435,-0.7836478999301494,-0.7855965758416676,-0.7875374904728075,-0.7894706246483535,-0.7913959592699588,-0.7933134753163319,-0.7952231538434232,-0.7971249759846153,-0.7990189229509073,-0.800904976031101,-0.8027831165919846,-0.804653326078519,-0.8065155860140201,-0.8083698780003397,-0.8102161837180499,-0.8120544849266235,-0.8138847634646117,-0.815707001249827,-0.8175211802795201,-0.8193272826305581,-0.8211252904596001,-0.8229151860032765,-0.8246969515783623,-0.8264705695819513,-0.8282360224916322,-0.8299932928656608,-0.8317423633431303,-0.8334832166441462,-0.8352158355699952,-0.8369402030033142,-0.8386563019082613,-0.8403641153306838,-0.8420636263982846,-0.8437548183207887,-0.8454376743901112,-0.8471121779805211,-0.8487783125488039,-0.8504360616344281,-0.8520854088597063,-0.8537263379299559,-0.8553588326336623,-0.8569828768426383,-0.8585984545121816,-0.8602055496812362,-0.8618041464725482,-0.863394229092824,-0.8649757818328837,-0.86654878906782,-0.8681132352571501,-0.869669104944969,-0.871216382760104,-0.8727550534162659,-0.874285101712198,-0.8758065125318295,-0.8773192708444233,-0.8788233617047233,-0.8803187702531045,-0.8818054817157179,-0.883283481404638,-0.8847527547180053,-0.8862132871401739,-0.8876650642418532,-0.8891080716802492,-0.890542295199209,-0.8919677206293599,-0.8933843338882489,-0.8947921209804832,-0.8961910679978686,-0.8975811611195444,-0.8989623866121234,-0.900334730829825,-0.9016981802146116,-0.9030527212963206,-0.9043983406928002,-0.9057350251100398,-0.9070627613423006,-0.9083815362722483,-0.9096913368710817,-0.9109921501986601,-0.9122839634036333,-0.9135667637235675,-0.9148405384850705,-0.9161052751039193,-0.9173609610851817,-0.9186075840233424,-0.9198451316024226,-0.9210735915961044,-0.9222929518678502,-0.9235032003710225,-0.9247043251490037,-0.9258963143353138,-0.9270791561537273,-0.9282528389183898,-0.9294173510339346,-0.9305726809955945,-0.9317188173893184,-0.9328557488918824,-0.9339834642710024,-0.9351019523854439,-0.9362112021851337,-0.9373112027112682,-0.9384019430964213,-0.9394834125646526,-0.9405556004316138,-0.9416184961046528,-0.9426720890829206,-0.9437163689574738,-0.9447513254113766,-0.9457769482198048,-0.9467932272501453,-0.9478001524620966,-0.9487977139077677,-0.949785901731777,-0.9507647061713498,-0.9517341175564131,-0.9526941263096933,-0.9536447229468099,-0.9545858980763683,-0.9555176424000542,-0.9564399467127246,-0.9573528019024984,-0.9582561989508471,-0.959150128932684,-0.9600345830164518,-0.9609095524642096,-0.9617750286317204,-0.9626310029685355,-0.9634774670180792,-0.9643144124177326,-0.9651418308989163,-0.965959714287171,-0.9667680545022397,-0.9675668435581474,-0.9683560735632782,-0.9691357367204557,-0.9699058253270187,-0.9706663317748975,-0.9714172485506885,-0.9721585682357297,-0.9728902835061733,-0.9736123871330575,-0.9743248719823789,-0.9750277310151628,-0.9757209572875317,-0.9764045439507754,-0.9770784842514177,-0.9777427715312833,-0.978397399227564,-0.9790423608728827,-0.9796776500953583,-0.9803032606186677,-0.9809191862621086,-0.9815254209406601,-0.9821219586650426,-0.9827087935417779,-0.9832859197732465,-0.983853331657745,-0.984411023589543,-0.9849589900589379,-0.9854972256523098,-0.9860257250521742,-0.9865444830372356,-0.9870534944824386,-0.9875527543590177,-0.9880422577345486,-0.9885219997729958,-0.9889919757347605,-0.9894521809767278,-0.9899026109523126,-0.9903432612115034,-0.9907741274009082,-0.9911952052637958,-0.991606490640139,-0.9920079794666544,-0.9923996677768442,-0.9927815517010343,-0.9931536274664124,-0.9935158913970661,-0.9938683399140186,-0.994210969535264,-0.9945437768758022,-0.9948667586476722,-0.9951799116599839,-0.9954832328189505,-0.9957767191279189,-0.9960603676873989,-0.9963341756950921,-0.9965981404459195,-0.9968522593320487,-0.9970965298429187,-0.9973309495652656,-0.9975555161831459,-0.9977702274779598,-0.9979750813284729,-0.9981700757108369,-0.99835520869861,-0.9985304784627759,-0.9986958832717616,-0.9988514214914548,-0.9989970915852197,-0.9991328921139124,-0.9992588217358954,-0.9993748792070504,-0.9994810633807905,-0.9995773732080722,-0.9996638077374049,-0.9997403661148613,-0.9998070475840847,-0.9998638514862973,-0.9999107772603066,-0.9999478244425106,-0.9999749926669027,-0.9999922816650751,-0.9999996912662218,-0.9999972213971394,-0.9999848720822294,-0.9999626434434962,-0.9999305357005471,-0.9998885491705899,-0.9998366842684291,-0.9997749415064627,-0.9997033214946769,-0.9996218249406393,-0.9995304526494934,-0.9994292055239488,-0.9993180845642742,-0.9991970908682858,-0.9990662256313378,-0.9989254901463098,-0.9987748858035943,-0.9986144140910828,-0.9984440765941512,-0.9982638749956445,-0.9980738110758594,-0.9978738867125272,-0.9976641038807956,-0.9974444646532084,-0.9972149711996852,-0.9969756257875008,-0.9967264307812617,-0.9964673886428831,-0.9961985019315652,-0.9959197733037669,-0.9956312055131803,-0.995332801410703,-0.9950245639444106,-0.9947064961595268,-0.9943786011983938,-0.9940408823004412,-0.9936933428021536,-0.9933359861370382,-0.9929688158355909,-0.9925918355252608,-0.9922050489304145,-0.9918084598723002,-0.9914020722690087,-0.9909858901354354,-0.9905599175832408,-0.9901241588208093,-0.9896786181532077,-0.9892232999821434,-0.9887582088059201,-0.9882833492193935,-0.9877987259139261,-0.9873043436773412,-0.9868002073938748,-0.9862863220441276,-0.9857626927050165,-0.9852293245497235,-0.9846862228476447,-0.9841333929643393,-0.9835708403614752,-0.9829985705967756,-0.9824165893239648,-0.9818249022927109,-0.9812235153485702,-0.9806124344329288,-0.9799916655829446,-0.9793612149314866,-0.9787210887070751,-0.9780712932338204,-0.9774118349313592,-0.976742720314792,-0.9760639559946194,-0.9753755486766749,-0.9746775051620603,-0.9739698323470777,-0.9732525372231621,-0.9725256268768113,-0.9717891084895165,-0.9710429893376917,-0.9702872767926012,-0.9695219783202864,-0.9687471014814937,-0.9679626539315977,-0.9671686434205271,-0.9663650777926878,-0.9655519649868847,-0.964729313036244,-0.9638971300681336,-0.9630554243040832,-0.9622042040597023,-0.9613434777445982,-0.9604732538622941,-0.9595935410101433,-0.9587043478792452,-0.95780568325436,-0.9568975560138206,-0.9559799751294458,-0.9550529496664516,-0.9541164887833613,-0.953170601731915,-0.9522152978569783,-0.9512505865964509,-0.9502764774811717,-0.9492929801348252,-0.9483001042738479,-0.94729785970733,-0.9462862563369197,-0.9452653041567259,-0.9442350132532181,-0.9431953938051276,-0.9421464560833475,-0.9410882104508296,-0.9400206673624834,-0.938943837365072,-0.9378577310971092,-0.9367623592887527,-0.9356577327616985,-0.9345438624290755,-0.9334207592953356,-0.9322884344561461,-0.9311468990982802,-0.929996164499506,-0.9288362420284747,-0.9276671431446101,-0.9264888793979931,-0.9253014624292488,-0.9241049039694311,-0.922899215839908,-0.9216844099522429,-0.9204604983080776,-0.9192274929990154,-0.9179854062064988,-0.9167342502016907,-0.9154740373453543,-0.9142047800877283,-0.9129264909684056,-0.91163918261621,-0.9103428677490698,-0.909037559173893,-0.9077232697864404,-0.9064000125711995,-0.9050678006012545,-0.9037266470381573,-0.9023765651317998,-0.9010175682202793,-0.8996496697297695,-0.8982728831743874,-0.8968872221560589,-0.8954927003643843,-0.8940893315765055,-0.8926771296569664,-0.8912561085575781,-0.8898262823172802,-0.8883876650620036,-0.8869402710045287,-0.8854841144443459,-0.884019209767516,-0.8825455714465251,-0.8810632140401433,-0.8795721521932817,-0.8780724006368454,-0.8765639741875898,-0.8750468877479743,-0.8735211563060135,-0.8719867949351303,-0.8704438187940066,-0.8688922431264346,-0.8673320832611644,-0.8657633546117532,-0.8641860726764147,-0.862600253037863,-0.8610059113631607,-0.8594030634035644,-0.8577917249943675,-0.8561719120547441,-0.8545436405875938,-0.8529069266793806,-0.8512617864999759,-0.8496082363024975,-0.8479462924231514,-0.8462759712810675,-0.8445972893781382,-0.8429102632988574,-0.8412149097101538,-0.8395112453612273,-0.8377992870833856,-0.8360790517898739,-0.8343505564757103,-0.8326138182175195,-0.8308688541733596,-0.8291156815825569,-0.8273543177655321,-0.8255847801236333,-0.8238070861389598,-0.8220212533741913,-0.8202272994724158,-0.8184252421569524,-0.816615099231178,-0.8147968885783519,-0.8129706281614374,-0.8111363360229248,-0.8092940302846554,-0.8074437291476391,-0.8055854508918763,-0.8037192138761771,-0.801845036537981,-0.7999629373931727,-0.7980729350358996,-0.7961750481383908,-0.7942692954507685,-0.792355695800865,-0.7904342680940378,-0.7885050313129803,-0.7865680045175357,-0.7846232068445078,-0.7826706575074743,-0.7807103757965939,-0.7787423810784165,-0.7767666927956947,-0.7747833304671874,-0.7727923136874691,-0.7707936621267383,-0.7687873955306188,-0.7667735337199675,-0.7647520965906792,-0.7627231041134878,-0.7606865763337699,-0.758642533371347,-0.7565909954202878,-0.7545319827487065,-0.7524655156985628,-0.750391614685464,-0.7483103001984591,-0.7462215927998386,-0.7441255131249322,-0.742022081881903,-0.7399113198515426,-0.7377932478870697,-0.7356678869139188,-0.733535257929537,-0.7313953820031747,-0.7292482802756801,-0.7270939739592869,-0.724932484337406,-0.7227638327644176,-0.7205880406654565,-0.7184051295362018,-0.7162151209426671,-0.7140180365209831,-0.7118138979771859,-0.7096027270870047,-0.7073845456956425,-0.7051593757175632,-0.7029272391362734,-0.7006881580041082,-0.6984421544420092,-0.6961892506393077,-0.6939294688535081,-0.6916628314100636,-0.6893893607021574,-0.6871090791904839,-0.684822009403023,-0.6825281739348186,-0.6802275954477583,-0.6779202966703453,-0.6756063003974759,-0.6732856294902141,-0.6709583068755673,-0.6686243555462564,-0.6662837985604906,-0.6639366590417414,-0.6615829601785101,-0.6592227252241014,-0.6568559774963947,-0.6544827403776101,-0.6521030373140797,-0.6497168918160178,-0.6473243274572842,-0.6449253678751548,-0.6425200367700857,-0.640108357905483,-0.6376903551074626,-0.6352660522646181,-0.6328354733277859,-0.6303986423098049,-0.6279555832852814,-0.6255063203903533,-0.6230508778224471,-0.6205892798400411,-0.6181215507624286,-0.6156477149694721,-0.6131677969013664,-0.610681821058395,-0.6081898120006911,-0.605691794347991,-0.6031877927793927,-0.6006778320331142,-0.5981619369062449,-0.5956401322545026,-0.5931124429919906,-0.5905788940909467,-0.5880395105814987,-0.5854943175514197,-0.5829433401458755,-0.5803866035671792,-0.5778241330745407,-0.5752559539838203,-0.5726820916672739,-0.5701025715533049,-0.5675174191262147,-0.5649266599259469,-0.5623303195478371,-0.559728423642362,-0.5571209979148821,-0.5545080681253894,-0.5518896600882555,-0.5492657996719718,-0.5466365127988971,-0.5440018254450003,-0.541361763639606,-0.5387163534651336,-0.5360656210568414,-0.533409592602571,-0.5307482943424837,-0.5280817525688039,-0.5254099936255612,-0.522733043908326,-0.5200509298639507,-0.5173636779903109,-0.5146713148360389,-0.5119738670002645,-0.5092713611323508,-0.5065638239316338,-0.5038512821471542,-0.5011337625773953,-0.4984112920700206,-0.49568389752160397,-0.4929516058773662,-0.4902144441309111,-0.4874724393239543,-0.4847256185460581,-0.4819740089343667,-0.47921763767333286,-0.4764565319944528,-0.4736907191759956,-0.4709202265427366,-0.4681450814656829,-0.46536531136180537,-0.4625809436937701,-0.4597920059696623,-0.4569985257427168,-0.45420053061104854,-0.4513980482173748,-0.44859110624874554,-0.4457797324362681,-0.44296395455483656,-0.44014380042285245,-0.4373192979019524,-0.4344904748967351,-0.43165735935448113,-0.42881997926487897,-0.4259783626597509,-0.4231325376127716,-0.4202825322391927,-0.4174283746955677,-0.414570093179469,-0.4117077159292125,-0.40884127122357694,-0.4059707873815278,-0.4030962927619327,-0.4002178157632836,-0.39733538482341874,-0.3944490284192367,-0.3915587750664176,-0.388664653319144,-0.38576669176981343,-0.3828649190487588,-0.3799593638239678,-0.3770500548007948,-0.3741370207216806,-0.3712202903658666,-0.36829989254911427,-0.3653758561234148,-0.3624482099767071,-0.35951698303259483,-0.3565822042500554,-0.3536439026231564,-0.35070210718077205,-0.34775684698629095,-0.3448081511373316,-0.34185604876545755,-0.3389005690358845,-0.33594174114719544,-0.3329795943310506,-0.33001415785190197,-0.3270454610066992,-0.32407353312460246,-0.3210984035666957,-0.318120101725691,-0.315138657025641,-0.3121540989216505,-0.30916645689958083,-0.3061757604757606,-0.303182039196697,-0.30018532263877845,-0.2971856404079862,-0.29418302213959974,-0.2911774974979078,-0.2881690961759099,-0.2851578478950257,-0.2821437824048037,-0.2791269294826227,-0.2761073189333995,-0.2730849805892977,-0.2700599443094272,-0.2670322399795524,-0.2640018975117989,-0.2609689468443534,-0.2579334179411709,-0.25489534079167725,-0.25185474541047614,-0.2488116618370476,-0.24576612013545357,-0.24271815039404365,-0.2396677827251526,-0.23661504726480545,-0.23355997417242227,-0.23050259363051526,-0.22744293584439285,-0.22438103104186416,-0.221316909472935,-0.2182506014095125,-0.2151821371451044,-0.21211154699452314,-0.20903886129358118,-0.20596411039879395,-0.20288732468708245,-0.1998085345554681,-0.1967277704207748,-0.1936450627193313,-0.19056044190666505,-0.1874739384572041,-0.18438558286397852,-0.181295405638314,-0.1782034373095339,-0.17510970842465579,-0.1720142495480933,-0.1689170912613488,-0.16581826416271395,-0.16271779886697002,-0.15961572600508017,-0.15651207622388946,-0.15340688018582477,-0.15030016856858644,-0.14719197206484805,-0.14408232138195565,-0.1409712472416192,-0.13785878037961252,-0.13474495154546792,-0.13162979150217594,-0.1285133310258761,-0.12539560090555552,-0.12227663194274736,-0.1191564549512213,-0.11603510075668165,-0.11291260019646553,-0.10978898411923292,-0.1066642833846645,-0.10353852886315942,-0.10041175143552511,-0.09728398199267561,-0.09415525143532465,-0.09102559067368395,-0.08789503062715248,-0.08476360222401369,-0.0816313364011326,-0.0784982641036448,-0.07536441628465346,-0.07222982390492613,-0.06909451793258359,-0.06595852934279653,-0.0628218891174822,-0.059684628244992995,-0.05654677771981388,-0.053408368542254385,-0.050269431718145886,-0.04712999825852999,-0.043990099179354765,-0.040849765501171045,-0.03770902824882061,-0.03456791845113233,-0.03142646714061829,-0.028284705353161875,-0.025142664127714726,-0.022000374505988275,-0.018857867532150657,-0.015715174252514653,-0.012572325715233661,-0.0094293529699976,-0.006286287067720833,-0.0031431590602380684,-2.4492935982947064e-16]}},\"id\":\"77bb39ca-aeda-445e-944c-8486728c9ae1\",\"type\":\"ColumnDataSource\"},{\"attributes\":{\"end_angle\":{\"field\":\"end_angle\",\"units\":\"rad\"},\"fill_alpha\":{\"value\":0.1},\"fill_color\":{\"value\":\"#1f77b4\"},\"line_alpha\":{\"value\":0.1},\"line_color\":{\"value\":\"#1f77b4\"},\"radius\":{\"units\":\"data\",\"value\":1},\"start_angle\":{\"field\":\"start_angle\",\"units\":\"rad\"},\"x\":{\"value\":0},\"y\":{\"value\":0}},\"id\":\"ee3f33e2-e621-4b0a-809d-fc1cc61bd0be\",\"type\":\"Wedge\"},{\"attributes\":{},\"id\":\"dfdc5577-ecf0-441e-b662-8880bb2ebd8e\",\"type\":\"BasicTicker\"},{\"attributes\":{\"below\":[{\"id\":\"4d1a5c11-60c4-4fe6-80a3-4a341c9b7304\",\"type\":\"LinearAxis\"}],\"left\":[{\"id\":\"396d895d-429e-42a5-b55b-a18a9f140106\",\"type\":\"LinearAxis\"}],\"renderers\":[{\"id\":\"4d1a5c11-60c4-4fe6-80a3-4a341c9b7304\",\"type\":\"LinearAxis\"},{\"id\":\"38dec17c-790d-4de4-9d8c-ada4a2c5c1c0\",\"type\":\"Grid\"},{\"id\":\"396d895d-429e-42a5-b55b-a18a9f140106\",\"type\":\"LinearAxis\"},{\"id\":\"2ebc2169-08df-441a-8868-8f03e52b28f0\",\"type\":\"Grid\"},{\"id\":\"2caaf9b3-f8c9-4486-afc5-18aa8c7a81a7\",\"type\":\"BoxAnnotation\"},{\"id\":\"57687910-06c6-48b5-b232-c23235a66b0f\",\"type\":\"GlyphRenderer\"}],\"tool_events\":{\"id\":\"51fdd4e0-6b42-42cd-ba0b-79de26a874a5\",\"type\":\"ToolEvents\"},\"tools\":[{\"id\":\"b1f31348-ff51-4087-bbd0-c65c778d87f4\",\"type\":\"PanTool\"},{\"id\":\"eb2b869b-dac7-42a6-9b73-fd37188f30b1\",\"type\":\"WheelZoomTool\"},{\"id\":\"701f20a5-639b-4f63-a524-1914c7753904\",\"type\":\"BoxZoomTool\"},{\"id\":\"54ebcb2a-3296-4d0c-9cbc-7b1324b3eb21\",\"type\":\"PreviewSaveTool\"},{\"id\":\"8f4fa6c0-4929-4270-87ec-ce445a639a5d\",\"type\":\"ResizeTool\"},{\"id\":\"0080741f-3aed-462f-a582-0287560d5a25\",\"type\":\"ResetTool\"},{\"id\":\"43eeb094-8de5-4b9f-8487-426210de2540\",\"type\":\"HelpTool\"}],\"x_range\":{\"id\":\"40e50fa9-598e-4312-b8d8-7974ac5e389c\",\"type\":\"Range1d\"},\"y_range\":{\"id\":\"f2017f6e-8516-4516-ba75-2e107226568b\",\"type\":\"Range1d\"}},\"id\":\"204142a8-e26b-406a-98e5-cad90c8fbd0b\",\"subtype\":\"Figure\",\"type\":\"Plot\"},{\"attributes\":{\"data_source\":{\"id\":\"77bb39ca-aeda-445e-944c-8486728c9ae1\",\"type\":\"ColumnDataSource\"},\"glyph\":{\"id\":\"8eb79b0b-d096-4fca-aa4a-5892ed64812c\",\"type\":\"Line\"},\"hover_glyph\":null,\"nonselection_glyph\":{\"id\":\"a903c242-3643-4e10-978c-44d64fff3e94\",\"type\":\"Line\"},\"selection_glyph\":null},\"id\":\"efa3a492-582b-4abe-bd44-34ae66749c99\",\"type\":\"GlyphRenderer\"},{\"attributes\":{\"overlay\":{\"id\":\"2caaf9b3-f8c9-4486-afc5-18aa8c7a81a7\",\"type\":\"BoxAnnotation\"},\"plot\":{\"id\":\"204142a8-e26b-406a-98e5-cad90c8fbd0b\",\"subtype\":\"Figure\",\"type\":\"Plot\"}},\"id\":\"701f20a5-639b-4f63-a524-1914c7753904\",\"type\":\"BoxZoomTool\"},{\"attributes\":{},\"id\":\"2d8585d1-6dc6-4c85-afa3-f2f8f70ac3e4\",\"type\":\"BasicTicker\"},{\"attributes\":{},\"id\":\"ffc80d70-b6b2-4ead-af41-6fb07caf6f43\",\"type\":\"BasicTicker\"},{\"attributes\":{},\"id\":\"d0f7f822-a936-4471-bb55-c36743a7db50\",\"type\":\"ToolEvents\"},{\"attributes\":{\"plot\":{\"id\":\"204142a8-e26b-406a-98e5-cad90c8fbd0b\",\"subtype\":\"Figure\",\"type\":\"Plot\"}},\"id\":\"0080741f-3aed-462f-a582-0287560d5a25\",\"type\":\"ResetTool\"},{\"attributes\":{\"plot\":{\"id\":\"6de13133-c9d5-40b1-914d-17e42dc360b7\",\"subtype\":\"Figure\",\"type\":\"Plot\"}},\"id\":\"7b38daf3-7d2a-4ad5-876d-62bfa81eac26\",\"type\":\"PreviewSaveTool\"},{\"attributes\":{\"plot\":{\"id\":\"5806546e-d454-4786-ac77-9898c854fe55\",\"subtype\":\"Figure\",\"type\":\"Plot\"},\"ticker\":{\"id\":\"2d8585d1-6dc6-4c85-afa3-f2f8f70ac3e4\",\"type\":\"BasicTicker\"}},\"id\":\"dece1431-5572-43c3-903e-8613417836ee\",\"type\":\"Grid\"},{\"attributes\":{\"bottom_units\":\"screen\",\"fill_alpha\":{\"value\":0.5},\"fill_color\":{\"value\":\"lightgrey\"},\"left_units\":\"screen\",\"level\":\"overlay\",\"line_alpha\":{\"value\":1.0},\"line_color\":{\"value\":\"black\"},\"line_dash\":[4,4],\"line_width\":{\"value\":2},\"plot\":null,\"render_mode\":\"css\",\"right_units\":\"screen\",\"top_units\":\"screen\"},\"id\":\"676c476a-5913-4f51-9413-25fe794b4786\",\"type\":\"BoxAnnotation\"},{\"attributes\":{\"plot\":{\"id\":\"6de13133-c9d5-40b1-914d-17e42dc360b7\",\"subtype\":\"Figure\",\"type\":\"Plot\"}},\"id\":\"1280c645-2069-4c91-9536-fd6498255104\",\"type\":\"ResizeTool\"},{\"attributes\":{\"callback\":null,\"start\":-1},\"id\":\"40e50fa9-598e-4312-b8d8-7974ac5e389c\",\"type\":\"Range1d\"},{\"attributes\":{},\"id\":\"51fdd4e0-6b42-42cd-ba0b-79de26a874a5\",\"type\":\"ToolEvents\"},{\"attributes\":{\"callback\":null,\"column_names\":[\"start_angle\",\"end_angle\",\"fill_color\",\"line_color\"],\"data\":{\"end_angle\":[1.8849555921538759,2.5132741228718345,3.7699111843077517,5.654866776461628,6.283185307179586],\"fill_color\":[\"red\",\"green\",\"blue\",\"orange\",\"yellow\"],\"line_color\":[\"red\",\"green\",\"blue\",\"orange\",\"yellow\"],\"start_angle\":[0.0,1.8849555921538759,2.5132741228718345,3.7699111843077517,5.654866776461628]}},\"id\":\"130b5933-8080-474e-bf06-7707e7693797\",\"type\":\"ColumnDataSource\"},{\"attributes\":{\"callback\":null,\"end\":5,\"start\":-5},\"id\":\"14a9b932-6061-4ede-a7c7-377599f86238\",\"type\":\"Range1d\"},{\"attributes\":{\"end_angle\":{\"field\":\"end_angle\",\"units\":\"rad\"},\"fill_color\":{\"field\":\"fill_color\"},\"line_color\":{\"field\":\"line_color\"},\"radius\":{\"units\":\"data\",\"value\":1},\"start_angle\":{\"field\":\"start_angle\",\"units\":\"rad\"},\"x\":{\"value\":0},\"y\":{\"value\":0}},\"id\":\"a2067635-df13-4600-994f-d1ccbfd02c02\",\"type\":\"Wedge\"},{\"attributes\":{\"dimension\":1,\"plot\":{\"id\":\"5806546e-d454-4786-ac77-9898c854fe55\",\"subtype\":\"Figure\",\"type\":\"Plot\"},\"ticker\":{\"id\":\"ffc80d70-b6b2-4ead-af41-6fb07caf6f43\",\"type\":\"BasicTicker\"}},\"id\":\"65acb15b-432e-4911-aaeb-2b3a7c7d4757\",\"type\":\"Grid\"},{\"attributes\":{\"plot\":{\"id\":\"204142a8-e26b-406a-98e5-cad90c8fbd0b\",\"subtype\":\"Figure\",\"type\":\"Plot\"},\"ticker\":{\"id\":\"dfdc5577-ecf0-441e-b662-8880bb2ebd8e\",\"type\":\"BasicTicker\"}},\"id\":\"38dec17c-790d-4de4-9d8c-ada4a2c5c1c0\",\"type\":\"Grid\"},{\"attributes\":{\"line_alpha\":{\"value\":0.1},\"line_color\":{\"value\":\"#1f77b4\"},\"line_width\":{\"value\":3},\"x\":{\"field\":\"x\"},\"y\":{\"field\":\"y\"}},\"id\":\"a903c242-3643-4e10-978c-44d64fff3e94\",\"type\":\"Line\"},{\"attributes\":{\"data_source\":{\"id\":\"275a2190-0221-4f57-a9b0-01e8eca63c60\",\"type\":\"ColumnDataSource\"},\"glyph\":{\"id\":\"463c4166-ac8f-4585-b9bf-06c9b120c2b4\",\"type\":\"Circle\"},\"hover_glyph\":null,\"nonselection_glyph\":{\"id\":\"f9385787-2002-4044-ba57-a0e73ad7f303\",\"type\":\"Circle\"},\"selection_glyph\":null},\"id\":\"c463645a-65dc-4946-b57e-b502a38a1ba2\",\"type\":\"GlyphRenderer\"},{\"attributes\":{\"plot\":{\"id\":\"6de13133-c9d5-40b1-914d-17e42dc360b7\",\"subtype\":\"Figure\",\"type\":\"Plot\"}},\"id\":\"0ebc105e-8b11-4603-898a-9f9a61110ca8\",\"type\":\"HelpTool\"},{\"attributes\":{\"overlay\":{\"id\":\"676c476a-5913-4f51-9413-25fe794b4786\",\"type\":\"BoxAnnotation\"},\"plot\":{\"id\":\"5806546e-d454-4786-ac77-9898c854fe55\",\"subtype\":\"Figure\",\"type\":\"Plot\"}},\"id\":\"7a585487-8f25-48c7-8ca0-55d93e9bc28f\",\"type\":\"BoxZoomTool\"}],\"root_ids\":[\"5806546e-d454-4786-ac77-9898c854fe55\",\"6de13133-c9d5-40b1-914d-17e42dc360b7\",\"204142a8-e26b-406a-98e5-cad90c8fbd0b\"]},\"title\":\"Bokeh Application\",\"version\":\"0.11.1\"}};\n",
       "            var render_items = [{\"docid\":\"6af28881-328d-4fab-bac3-0205b642d9fd\",\"elementid\":\"d81517b2-4bf6-491c-be9d-3865f3a9e68e\",\"modelid\":\"204142a8-e26b-406a-98e5-cad90c8fbd0b\"}];\n",
       "            \n",
       "            Bokeh.embed.embed_items(docs_json, render_items);\n",
       "        });\n",
       "        </script>\n",
       "    </body>\n",
       "</html>"
      ],
      "text/plain": [
       "<IPython.core.display.HTML object>"
      ]
     },
     "execution_count": 38,
     "metadata": {},
     "output_type": "execute_result"
    }
   ],
   "source": [
    "%%python\n",
    "\n",
    "from bokeh.plotting import *\n",
    "from numpy import pi\n",
    "\n",
    "# define starts/ends for wedges from percentages of a circle\n",
    "percents = [0, 0.3, 0.4, 0.6, 0.9, 1]\n",
    "starts = [p*2*pi for p in percents[:-1]]\n",
    "ends = [p*2*pi for p in percents[1:]]\n",
    "\n",
    "# a color for each pie piece\n",
    "colors = [\"red\", \"green\", \"blue\", \"orange\", \"yellow\"]\n",
    "\n",
    "p = figure(x_range=(-1,1), y_range=(-1,1))\n",
    "\n",
    "p.wedge(x=0, y=0, radius=1, start_angle=starts, end_angle=ends, color=colors)\n",
    "\n",
    "# display/save everything  \n",
    "output_file(\"pie.html\")\n",
    "#show(p)\n",
    "\n",
    "html = file_html(p, CDN, \"my pie-chart plot\")\n",
    "#DONT PRINT - this crashes the browser tab: print(html)\n",
    "\n",
    "\n",
    "\n",
    "import IPython\n",
    "retval=IPython.display.HTML(html)"
   ]
  },
  {
   "cell_type": "code",
   "execution_count": 39,
   "metadata": {
    "collapsed": false
   },
   "outputs": [
    {
     "data": {
      "text/plain": [
       "-rwxr-xr-x  1 mjbright Domain Users    113 Jul  5 12:32 pop_age.csv\n",
       "-rw-r--r--  1 mjbright Domain Users    188 Jul  5 12:32 disk_usage.csv\n",
       "drwxr-xr-x+ 1 mjbright Domain Users      0 Jul  5 12:32 tmp"
      ]
     },
     "execution_count": 39,
     "metadata": {},
     "output_type": "execute_result"
    }
   ],
   "source": [
    "ls -altr | tail -3"
   ]
  },
  {
   "cell_type": "code",
   "execution_count": 40,
   "metadata": {
    "collapsed": false
   },
   "outputs": [
    {
     "name": "stderr",
     "output_type": "stream",
     "text": [
      "Traceback (most recent call last):\n",
      "  File \"C:\\Progs\\Anaconda3\\lib\\site-packages\\metakernel-0.12.6-py3.5.egg\\metakernel\\magics\\python_magic.py\", line 19, in exec_code\n",
      "    exec(code, env)\n",
      "  File \"<string>\", line 8, in <module>\n",
      "  File \"C:\\Progs\\Anaconda3\\lib\\site-packages\\bokeh\\charts\\builders\\donut_builder.py\", line 114, in Donut\n",
      "    chart = create_and_build(DonutBuilder, data, **kw)\n",
      "  File \"C:\\Progs\\Anaconda3\\lib\\site-packages\\bokeh\\charts\\builder.py\", line 62, in create_and_build\n",
      "    builder = builder_class(*data, **builder_kws)\n",
      "  File \"C:\\Progs\\Anaconda3\\lib\\site-packages\\bokeh\\charts\\builder.py\", line 282, in __init__\n",
      "    attributes = self._setup_attrs(data, kws)\n",
      "  File \"C:\\Progs\\Anaconda3\\lib\\site-packages\\bokeh\\charts\\builder.py\", line 333, in _setup_attrs\n",
      "    attributes[attr_name].setup(data=source, columns=attr)\n",
      "  File \"C:\\Progs\\Anaconda3\\lib\\site-packages\\bokeh\\charts\\attributes.py\", line 195, in setup\n",
      "    self.set_columns(columns)\n",
      "  File \"C:\\Progs\\Anaconda3\\lib\\site-packages\\bokeh\\charts\\attributes.py\", line 187, in set_columns\n",
      "    self._setup_default()\n",
      "  File \"C:\\Progs\\Anaconda3\\lib\\site-packages\\bokeh\\charts\\attributes.py\", line 144, in _setup_default\n",
      "    self.default = next(self._setup_iterable())\n",
      "  File \"C:\\Progs\\Anaconda3\\lib\\site-packages\\bokeh\\charts\\attributes.py\", line 322, in _setup_iterable\n",
      "    return iter(self.items)\n",
      "TypeError: 'NoneType' object is not iterable\n",
      "\n"
     ]
    }
   ],
   "source": [
    "%%python\n",
    "\n",
    "from bokeh.charts import Donut, output_file, show\n",
    "\n",
    "#output_file('donut.html')\n",
    "\n",
    "# prepare the data\n",
    "data = [[2., 5., 3.], [4., 1., 4.], [6., 4., 3.]]\n",
    "\n",
    "donut = Donut(data, ['cpu1', 'cpu2', 'cpu3'])\n",
    "\n",
    "#show(donut)\n",
    "\n",
    "#html = file_html(donut, CDN, \"my donut plot\")\n",
    "#DONT PRINT - this crashes the browser tab: print(html)\n",
    "\n",
    "#import IPython\n",
    "#retval=IPython.display.HTML(html)"
   ]
  },
  {
   "cell_type": "markdown",
   "metadata": {},
   "source": [
    "## From a bash function:"
   ]
  },
  {
   "cell_type": "code",
   "execution_count": 41,
   "metadata": {
    "collapsed": false
   },
   "outputs": [
    {
     "data": {
      "text/plain": [
       "[Tue, Jul 05, 2016 12:32:51 PM] Sourcing <</home/mjbright/.metakernelrc>>"
      ]
     },
     "execution_count": 41,
     "metadata": {},
     "output_type": "execute_result"
    }
   ],
   "source": [
    "source ~/.metakernelrc"
   ]
  },
  {
   "cell_type": "code",
   "execution_count": 42,
   "metadata": {
    "collapsed": false
   },
   "outputs": [
    {
     "data": {
      "text/html": [
       "\n",
       "\n",
       "<!DOCTYPE html>\n",
       "\n",
       "<html lang=\"en\">\n",
       "\n",
       "    <head>\n",
       "\n",
       "        <meta charset=\"utf-8\">\n",
       "\n",
       "        <title>my 2nd plot</title>\n",
       "\n",
       "        \n",
       "\n",
       "<link rel=\"stylesheet\" href=\"https://cdn.pydata.org/bokeh/release/bokeh-0.11.1.min.css\" type=\"text/css\" />\n",
       "\n",
       "        \n",
       "\n",
       "<script type=\"text/javascript\" src=\"https://cdn.pydata.org/bokeh/release/bokeh-0.11.1.min.js\"></script>\n",
       "\n",
       "<script type=\"text/javascript\">\n",
       "\n",
       "    Bokeh.set_log_level(\"info\");\n",
       "\n",
       "</script>\n",
       "\n",
       "    </head>\n",
       "\n",
       "    <body>\n",
       "\n",
       "        \n",
       "\n",
       "        <div class=\"plotdiv\" id=\"f49a6817-8243-4291-8f7c-ea343d55e260\"></div>\n",
       "\n",
       "        \n",
       "\n",
       "        <script type=\"text/javascript\">\n",
       "\n",
       "            Bokeh.$(function() {\n",
       "\n",
       "            var docs_json = {\"c05b6d9c-14f0-44f7-9ae5-bfdadda7a8f6\":{\"roots\":{\"references\":[{\"attributes\":{},\"id\":\"cecb042b-5c38-4e78-8f71-7d385fccfd27\",\"type\":\"BasicTickFormatter\"},{\"attributes\":{\"bottom_units\":\"screen\",\"fill_alpha\":{\"value\":0.5},\"fill_color\":{\"value\":\"lightgrey\"},\"left_units\":\"screen\",\"level\":\"overlay\",\"line_alpha\":{\"value\":1.0},\"line_color\":{\"value\":\"black\"},\"line_dash\":[4,4],\"line_width\":{\"value\":2},\"plot\":null,\"render_mode\":\"css\",\"right_units\":\"screen\",\"top_units\":\"screen\"},\"id\":\"781a2185-8147-45c6-9094-d798f42479ec\",\"type\":\"BoxAnnotation\"},{\"attributes\":{\"line_alpha\":{\"value\":0.1},\"line_color\":{\"value\":\"#1f77b4\"},\"line_width\":{\"value\":3},\"x\":{\"field\":\"x\"},\"y\":{\"field\":\"y\"}},\"id\":\"4e7b2a5e-f190-417e-a7f0-e24a2034ff1f\",\"type\":\"Line\"},{\"attributes\":{\"data_source\":{\"id\":\"cab701b1-8197-42cc-a44d-fffb6cfd05ff\",\"type\":\"ColumnDataSource\"},\"glyph\":{\"id\":\"877f4113-2d42-496c-b4d5-098cd558704b\",\"type\":\"Line\"},\"hover_glyph\":null,\"nonselection_glyph\":{\"id\":\"4e7b2a5e-f190-417e-a7f0-e24a2034ff1f\",\"type\":\"Line\"},\"selection_glyph\":null},\"id\":\"5addf804-7954-4d9d-9794-c2b9b985657d\",\"type\":\"GlyphRenderer\"},{\"attributes\":{\"dimension\":1,\"plot\":{\"id\":\"a38c7fb6-4171-4a21-84c7-3f07a3faba42\",\"subtype\":\"Figure\",\"type\":\"Plot\"},\"ticker\":{\"id\":\"31d889b9-56b5-4966-9916-622e215e66c3\",\"type\":\"BasicTicker\"}},\"id\":\"0ec87696-463c-473d-bd07-96760e1baaca\",\"type\":\"Grid\"},{\"attributes\":{\"callback\":null},\"id\":\"2a3035b6-3268-45e3-80f2-6116607310bd\",\"type\":\"DataRange1d\"},{\"attributes\":{\"plot\":{\"id\":\"a38c7fb6-4171-4a21-84c7-3f07a3faba42\",\"subtype\":\"Figure\",\"type\":\"Plot\"},\"ticker\":{\"id\":\"7bc964f8-1410-45b6-99e5-9a36c4c5527c\",\"type\":\"BasicTicker\"}},\"id\":\"ba1bacb3-4e92-47ed-9f99-c922f511126e\",\"type\":\"Grid\"},{\"attributes\":{\"callback\":null,\"column_names\":[\"x\",\"y\"],\"data\":{\"x\":[0.0,0.003143164235707647,0.006286328471415294,0.009429492707122941,0.012572656942830588,0.015715821178538234,0.018858985414245882,0.022002149649953527,0.025145313885661175,0.028288478121368824,0.03143164235707647,0.03457480659278411,0.037717970828491765,0.04086113506419941,0.044004299299907054,0.047147463535614706,0.05029062777132235,0.053433792007029995,0.05657695624273765,0.05972012047844529,0.06286328471415294,0.06600644894986059,0.06914961318556823,0.07229277742127588,0.07543594165698353,0.07857910589269117,0.08172227012839882,0.08486543436410647,0.08800859859981411,0.09115176283552176,0.09429492707122941,0.09743809130693705,0.1005812555426447,0.10372441977835235,0.10686758401405999,0.11001074824976764,0.1131539124854753,0.11629707672118293,0.11944024095689058,0.12258340519259824,0.12572656942830587,0.12886973366401352,0.13201289789972118,0.13515606213542883,0.13829922637113645,0.1414423906068441,0.14458555484255176,0.1477287190782594,0.15087188331396706,0.1540150475496747,0.15715821178538233,0.16030137602109,0.16344454025679764,0.1665877044925053,0.16973086872821294,0.1728740329639206,0.17601719719962822,0.17916036143533587,0.18230352567104352,0.18544668990675117,0.18858985414245882,0.19173301837816648,0.1948761826138741,0.19801934684958175,0.2011625110852894,0.20430567532099705,0.2074488395567047,0.21059200379241233,0.21373516802811998,0.21687833226382763,0.22002149649953529,0.22316466073524294,0.2263078249709506,0.2294509892066582,0.23259415344236586,0.23573731767807352,0.23888048191378117,0.24202364614948882,0.24516681038519647,0.2483099746209041,0.25145313885661175,0.2545963030923194,0.25773946732802705,0.2608826315637347,0.26402579579944235,0.26716896003515,0.27031212427085766,0.2734552885065653,0.2765984527422729,0.27974161697798056,0.2828847812136882,0.28602794544939586,0.2891711096851035,0.29231427392081116,0.2954574381565188,0.29860060239222647,0.3017437666279341,0.30488693086364177,0.3080300950993494,0.311173259335057,0.31431642357076467,0.3174595878064723,0.32060275204218,0.3237459162778876,0.3268890805135953,0.3300322447493029,0.3331754089850106,0.33631857322071823,0.3394617374564259,0.34260490169213353,0.3457480659278412,0.3488912301635488,0.35203439439925643,0.3551775586349641,0.35832072287067174,0.3614638871063794,0.36460705134208704,0.3677502155777947,0.37089337981350234,0.37403654404921,0.37717970828491765,0.3803228725206253,0.38346603675633295,0.38660920099204055,0.3897523652277482,0.39289552946345585,0.3960386936991635,0.39918185793487115,0.4023250221705788,0.40546818640628646,0.4086113506419941,0.41175451487770176,0.4148976791134094,0.41804084334911706,0.42118400758482466,0.4243271718205323,0.42747033605623996,0.4306135002919476,0.43375666452765527,0.4368998287633629,0.44004299299907057,0.4431861572347782,0.4463293214704859,0.4494724857061935,0.4526156499419012,0.45575881417760883,0.4589019784133164,0.4620451426490241,0.46518830688473173,0.4683314711204394,0.47147463535614703,0.4746177995918547,0.47776096382756233,0.48090412806327,0.48404729229897764,0.4871904565346853,0.49033362077039294,0.4934767850061006,0.4966199492418082,0.49976311347751584,0.5029062777132235,0.5060494419489312,0.5091926061846388,0.5123357704203464,0.5154789346560541,0.5186220988917617,0.5217652631274694,0.524908427363177,0.5280515915988847,0.5311947558345923,0.5343379200703,0.5374810843060076,0.5406242485417153,0.5437674127774229,0.5469105770131306,0.5500537412488382,0.5531969054845458,0.5563400697202535,0.5594832339559611,0.5626263981916688,0.5657695624273764,0.5689127266630841,0.5720558908987917,0.5751990551344994,0.578342219370207,0.5814853836059147,0.5846285478416223,0.5877717120773299,0.5909148763130376,0.5940580405487452,0.5972012047844529,0.6003443690201605,0.6034875332558682,0.6066306974915758,0.6097738617272835,0.6129170259629911,0.6160601901986988,0.6192033544344064,0.622346518670114,0.6254896829058217,0.6286328471415293,0.631776011377237,0.6349191756129446,0.6380623398486523,0.64120550408436,0.6443486683200677,0.6474918325557752,0.650634996791483,0.6537781610271906,0.6569213252628983,0.6600644894986059,0.6632076537343135,0.6663508179700212,0.6694939822057288,0.6726371464414365,0.6757803106771441,0.6789234749128518,0.6820666391485594,0.6852098033842671,0.6883529676199747,0.6914961318556824,0.69463929609139,0.6977824603270976,0.7009256245628053,0.7040687887985129,0.7072119530342206,0.7103551172699282,0.7134982815056359,0.7166414457413435,0.7197846099770512,0.7229277742127588,0.7260709384484665,0.7292141026841741,0.7323572669198817,0.7355004311555894,0.738643595391297,0.7417867596270047,0.7449299238627123,0.74807308809842,0.7512162523341276,0.7543594165698353,0.7575025808055429,0.7606457450412506,0.7637889092769582,0.7669320735126659,0.7700752377483735,0.7732184019840811,0.7763615662197888,0.7795047304554964,0.7826478946912041,0.7857910589269117,0.7889342231626194,0.792077387398327,0.7952205516340347,0.7983637158697423,0.80150688010545,0.8046500443411576,0.8077932085768652,0.8109363728125729,0.8140795370482805,0.8172227012839882,0.8203658655196958,0.8235090297554035,0.8266521939911111,0.8297953582268188,0.8329385224625264,0.8360816866982341,0.8392248509339417,0.8423680151696493,0.845511179405357,0.8486543436410646,0.8517975078767723,0.8549406721124799,0.8580838363481876,0.8612270005838952,0.8643701648196029,0.8675133290553105,0.8706564932910182,0.8737996575267258,0.8769428217624335,0.8800859859981411,0.8832291502338487,0.8863723144695564,0.889515478705264,0.8926586429409717,0.8958018071766793,0.898944971412387,0.9020881356480946,0.9052312998838024,0.90837446411951,0.9115176283552177,0.9146607925909253,0.9178039568266328,0.9209471210623406,0.9240902852980482,0.9272334495337559,0.9303766137694635,0.9335197780051712,0.9366629422408788,0.9398061064765865,0.9429492707122941,0.9460924349480018,0.9492355991837094,0.952378763419417,0.9555219276551247,0.9586650918908323,0.96180825612654,0.9649514203622476,0.9680945845979553,0.9712377488336629,0.9743809130693706,0.9775240773050782,0.9806672415407859,0.9838104057764935,0.9869535700122012,0.9900967342479088,0.9932398984836164,0.9963830627193241,0.9995262269550317,1.0026693911907394,1.005812555426447,1.0089557196621546,1.0120988838978624,1.01524204813357,1.0183852123692776,1.0215283766049852,1.0246715408406928,1.0278147050764006,1.0309578693121082,1.0341010335478158,1.0372441977835234,1.0403873620192312,1.0435305262549388,1.0466736904906464,1.049816854726354,1.0529600189620618,1.0561031831977694,1.059246347433477,1.0623895116691846,1.0655326759048922,1.0686758401406,1.0718190043763076,1.0749621686120152,1.0781053328477228,1.0812484970834306,1.0843916613191382,1.0875348255548458,1.0906779897905534,1.0938211540262612,1.0969643182619688,1.1001074824976764,1.103250646733384,1.1063938109690916,1.1095369752047994,1.112680139440507,1.1158233036762146,1.1189664679119222,1.12210963214763,1.1252527963833376,1.1283959606190452,1.1315391248547528,1.1346822890904604,1.1378254533261682,1.1409686175618758,1.1441117817975834,1.147254946033291,1.1503981102689989,1.1535412745047064,1.156684438740414,1.1598276029761216,1.1629707672118295,1.166113931447537,1.1692570956832447,1.1724002599189522,1.1755434241546598,1.1786865883903677,1.1818297526260753,1.1849729168617829,1.1881160810974905,1.1912592453331983,1.1944024095689059,1.1975455738046135,1.200688738040321,1.2038319022760289,1.2069750665117365,1.210118230747444,1.2132613949831517,1.2164045592188593,1.219547723454567,1.2226908876902747,1.2258340519259823,1.2289772161616899,1.2321203803973977,1.2352635446331053,1.2384067088688129,1.2415498731045205,1.244693037340228,1.2478362015759359,1.2509793658116435,1.254122530047351,1.2572656942830587,1.2604088585187665,1.263552022754474,1.2666951869901817,1.2698383512258893,1.272981515461597,1.2761246796973047,1.2792678439330123,1.28241100816872,1.2855541724044275,1.2886973366401353,1.291840500875843,1.2949836651115505,1.298126829347258,1.301269993582966,1.3044131578186735,1.307556322054381,1.3106994862900887,1.3138426505257965,1.3169858147615041,1.3201289789972117,1.3232721432329193,1.326415307468627,1.3295584717043347,1.3327016359400423,1.33584480017575,1.3389879644114575,1.3421311286471653,1.345274292882873,1.3484174571185805,1.3515606213542881,1.3547037855899957,1.3578469498257035,1.3609901140614111,1.3641332782971187,1.3672764425328263,1.3704196067685341,1.3735627710042417,1.3767059352399493,1.379849099475657,1.3829922637113647,1.3861354279470723,1.38927859218278,1.3924217564184875,1.3955649206541951,1.398708084889903,1.4018512491256105,1.4049944133613181,1.4081375775970257,1.4112807418327336,1.4144239060684412,1.4175670703041487,1.4207102345398563,1.4238533987755642,1.4269965630112718,1.4301397272469794,1.433282891482687,1.4364260557183945,1.4395692199541024,1.44271238418981,1.4458555484255176,1.4489987126612252,1.452141876896933,1.4552850411326406,1.4584282053683482,1.4615713696040558,1.4647145338397634,1.4678576980754712,1.4710008623111788,1.4741440265468864,1.477287190782594,1.4804303550183018,1.4835735192540094,1.486716683489717,1.4898598477254246,1.4930030119611324,1.49614617619684,1.4992893404325476,1.5024325046682552,1.5055756689039628,1.5087188331396706,1.5118619973753782,1.5150051616110858,1.5181483258467934,1.5212914900825012,1.5244346543182088,1.5275778185539164,1.530720982789624,1.5338641470253318,1.5370073112610394,1.540150475496747,1.5432936397324546,1.5464368039681622,1.54957996820387,1.5527231324395776,1.5558662966752852,1.5590094609109928,1.5621526251467006,1.5652957893824082,1.5684389536181158,1.5715821178538234,1.574725282089531,1.5778684463252388,1.5810116105609464,1.584154774796654,1.5872979390323616,1.5904411032680694,1.593584267503777,1.5967274317394846,1.5998705959751922,1.6030137602109,1.6061569244466076,1.6093000886823152,1.6124432529180228,1.6155864171537304,1.6187295813894382,1.6218727456251458,1.6250159098608534,1.628159074096561,1.6313022383322688,1.6344454025679764,1.637588566803684,1.6407317310393916,1.6438748952750994,1.647018059510807,1.6501612237465146,1.6533043879822222,1.6564475522179298,1.6595907164536376,1.6627338806893452,1.6658770449250528,1.6690202091607604,1.6721633733964683,1.6753065376321759,1.6784497018678834,1.681592866103591,1.6847360303392986,1.6878791945750065,1.691022358810714,1.6941655230464217,1.6973086872821292,1.700451851517837,1.7035950157535447,1.7067381799892523,1.7098813442249599,1.7130245084606677,1.7161676726963753,1.7193108369320829,1.7224540011677905,1.725597165403498,1.7287403296392059,1.7318834938749135,1.735026658110621,1.7381698223463287,1.7413129865820365,1.744456150817744,1.7475993150534517,1.7507424792891593,1.753885643524867,1.7570288077605747,1.7601719719962823,1.7633151362319899,1.7664583004676975,1.7696014647034053,1.7727446289391129,1.7758877931748205,1.779030957410528,1.782174121646236,1.7853172858819435,1.788460450117651,1.7916036143533587,1.7947467785890663,1.797889942824774,1.8010331070604817,1.8041762712961893,1.807319435531897,1.8104625997676047,1.8136057640033123,1.81674892823902,1.8198920924747275,1.8230352567104353,1.826178420946143,1.8293215851818505,1.832464749417558,1.8356079136532657,1.8387510778889735,1.8418942421246811,1.8450374063603887,1.8481805705960963,1.8513237348318041,1.8544668990675117,1.8576100633032193,1.860753227538927,1.8638963917746347,1.8670395560103423,1.87018272024605,1.8733258844817575,1.8764690487174651,1.879612212953173,1.8827553771888805,1.8858985414245881,1.8890417056602957,1.8921848698960035,1.8953280341317111,1.8984711983674187,1.9016143626031263,1.904757526838834,1.9079006910745417,1.9110438553102493,1.914187019545957,1.9173301837816645,1.9204733480173724,1.92361651225308,1.9267596764887875,1.9299028407244951,1.933046004960203,1.9361891691959106,1.9393323334316181,1.9424754976673257,1.9456186619030333,1.9487618261387412,1.9519049903744488,1.9550481546101564,1.958191318845864,1.9613344830815718,1.9644776473172794,1.967620811552987,1.9707639757886946,1.9739071400244024,1.97705030426011,1.9801934684958176,1.9833366327315252,1.9864797969672328,1.9896229612029406,1.9927661254386482,1.9959092896743558,1.9990524539100634,2.002195618145771,2.005338782381479,2.0084819466171866,2.011625110852894,2.014768275088602,2.017911439324309,2.021054603560017,2.024197767795725,2.027340932031432,2.03048409626714,2.0336272605028474,2.036770424738555,2.039913588974263,2.0430567532099704,2.046199917445678,2.0493430816813856,2.0524862459170934,2.055629410152801,2.0587725743885086,2.0619157386242164,2.065058902859924,2.0682020670956316,2.0713452313313394,2.074488395567047,2.0776315598027546,2.0807747240384624,2.08391788827417,2.0870610525098776,2.090204216745585,2.093347380981293,2.0964905452170006,2.099633709452708,2.102776873688416,2.1059200379241236,2.109063202159831,2.112206366395539,2.115349530631246,2.118492694866954,2.121635859102662,2.124779023338369,2.127922187574077,2.1310653518097844,2.134208516045492,2.1373516802812,2.1404948445169074,2.1436380087526152,2.146781172988323,2.1499243372240304,2.1530675014597382,2.1562106656954456,2.1593538299311534,2.1624969941668613,2.1656401584025686,2.1687833226382764,2.171926486873984,2.1750696511096916,2.1782128153453995,2.181355979581107,2.1844991438168146,2.1876423080525225,2.19078547228823,2.1939286365239377,2.197071800759645,2.200214964995353,2.2033581292310607,2.206501293466768,2.209644457702476,2.2127876219381832,2.215930786173891,2.219073950409599,2.2222171146453062,2.225360278881014,2.228503443116722,2.2316466073524293,2.234789771588137,2.2379329358238444,2.2410761000595523,2.24421926429526,2.2473624285309675,2.2505055927666753,2.2536487570023827,2.2567919212380905,2.2599350854737983,2.2630782497095057,2.2662214139452135,2.269364578180921,2.2725077424166287,2.2756509066523365,2.278794070888044,2.2819372351237517,2.2850803993594595,2.288223563595167,2.2913667278308747,2.294509892066582,2.29765305630229,2.3007962205379977,2.303939384773705,2.307082549009413,2.3102257132451203,2.313368877480828,2.316512041716536,2.3196552059522433,2.322798370187951,2.325941534423659,2.3290846986593663,2.332227862895074,2.3353710271307815,2.3385141913664893,2.341657355602197,2.3448005198379045,2.3479436840736123,2.3510868483093197,2.3542300125450275,2.3573731767807353,2.3605163410164427,2.3636595052521505,2.3668026694878583,2.3699458337235657,2.3730889979592735,2.376232162194981,2.3793753264306887,2.3825184906663965,2.385661654902104,2.3888048191378117,2.391947983373519,2.395091147609227,2.3982343118449347,2.401377476080642,2.40452064031635,2.4076638045520578,2.410806968787765,2.413950133023473,2.4170932972591803,2.420236461494888,2.423379625730596,2.4265227899663033,2.429665954202011,2.4328091184377185,2.4359522826734263,2.439095446909134,2.4422386111448415,2.4453817753805493,2.448524939616257,2.4516681038519645,2.4548112680876724,2.4579544323233797,2.4610975965590876,2.4642407607947954,2.4673839250305027,2.4705270892662106,2.473670253501918,2.4768134177376258,2.4799565819733336,2.483099746209041,2.4862429104447488,2.489386074680456,2.492529238916164,2.4956724031518718,2.498815567387579,2.501958731623287,2.505101895858995,2.508245060094702,2.51138822433041,2.5145313885661174,2.517674552801825,2.520817717037533,2.5239608812732404,2.527104045508948,2.5302472097446556,2.5333903739803634,2.536533538216071,2.5396767024517786,2.5428198666874864,2.545963030923194,2.5491061951589016,2.5522493593946094,2.5553925236303168,2.5585356878660246,2.5616788521017324,2.56482201633744,2.5679651805731476,2.571108344808855,2.574251509044563,2.5773946732802706,2.580537837515978,2.583681001751686,2.5868241659873936,2.589967330223101,2.593110494458809,2.596253658694516,2.599396822930224,2.602539987165932,2.605683151401639,2.608826315637347,2.6119694798730544,2.615112644108762,2.61825580834447,2.6213989725801774,2.624542136815885,2.627685301051593,2.6308284652873004,2.6339716295230082,2.6371147937587156,2.6402579579944234,2.6434011222301312,2.6465442864658386,2.6496874507015464,2.652830614937254,2.6559737791729616,2.6591169434086694,2.662260107644377,2.6654032718800846,2.6685464361157925,2.6716896003515,2.6748327645872076,2.677975928822915,2.681119093058623,2.6842622572943307,2.687405421530038,2.690548585765746,2.6936917500014532,2.696834914237161,2.699978078472869,2.7031212427085762,2.706264406944284,2.7094075711799914,2.7125507354156992,2.715693899651407,2.7188370638871144,2.7219802281228223,2.72512339235853,2.7282665565942374,2.7314097208299453,2.7345528850656526,2.7376960493013605,2.7408392135370683,2.7439823777727756,2.7471255420084835,2.750268706244191,2.7534118704798987,2.7565550347156065,2.759698198951314,2.7628413631870217,2.7659845274227295,2.769127691658437,2.7722708558941447,2.775414020129852,2.77855718436556,2.7817003486012677,2.784843512836975,2.787986677072683,2.7911298413083903,2.794273005544098,2.797416169779806,2.8005593340155133,2.803702498251221,2.806845662486929,2.8099888267226363,2.813131990958344,2.8162751551940515,2.8194183194297593,2.822561483665467,2.8257046479011745,2.8288478121368823,2.8319909763725897,2.8351341406082975,2.8382773048440053,2.8414204690797127,2.8445636333154205,2.8477067975511283,2.8508499617868357,2.8539931260225435,2.857136290258251,2.8602794544939587,2.8634226187296665,2.866565782965374,2.8697089472010817,2.872852111436789,2.875995275672497,2.8791384399082047,2.882281604143912,2.88542476837962,2.8885679326153277,2.891711096851035,2.894854261086743,2.8979974253224503,2.901140589558158,2.904283753793866,2.9074269180295733,2.910570082265281,2.9137132465009885,2.9168564107366963,2.919999574972404,2.9231427392081115,2.9262859034438193,2.9294290676795267,2.9325722319152345,2.9357153961509423,2.9388585603866497,2.9420017246223575,2.9451448888580654,2.9482880530937727,2.9514312173294805,2.954574381565188,2.9577175458008957,2.9608607100366036,2.964003874272311,2.9671470385080188,2.970290202743726,2.973433366979434,2.9765765312151418,2.979719695450849,2.982862859686557,2.9860060239222648,2.989149188157972,2.99229235239368,2.9954355166293873,2.998578680865095,3.001721845100803,3.0048650093365104,3.008008173572218,3.0111513378079255,3.0142945020436334,3.017437666279341,3.0205808305150486,3.0237239947507564,3.026867158986464,3.0300103232221716,3.0331534874578794,3.0362966516935868,3.0394398159292946,3.0425829801650024,3.0457261444007098,3.0488693086364176,3.052012472872125,3.0551556371078328,3.0582988013435406,3.061441965579248,3.064585129814956,3.0677282940506636,3.070871458286371,3.074014622522079,3.077157786757786,3.080300950993494,3.083444115229202,3.086587279464909,3.089730443700617,3.0928736079363244,3.096016772172032,3.09915993640774,3.1023031006434474,3.105446264879155,3.108589429114863,3.1117325933505704,3.114875757586278,3.1180189218219856,3.1211620860576934,3.1243052502934012,3.1274484145291086,3.1305915787648164,3.133734743000524,3.1368779072362316,3.1400210714719394,3.143164235707647,3.1463073999433546,3.149450564179062,3.15259372841477,3.1557368926504776,3.158880056886185,3.162023221121893,3.1651663853576006,3.168309549593308,3.171452713829016,3.174595878064723,3.177739042300431,3.180882206536139,3.184025370771846,3.187168535007554,3.1903116992432614,3.1934548634789692,3.196598027714677,3.1997411919503844,3.2028843561860922,3.2060275204218,3.2091706846575074,3.2123138488932153,3.2154570131289226,3.2186001773646304,3.2217433416003383,3.2248865058360456,3.2280296700717535,3.231172834307461,3.2343159985431686,3.2374591627788765,3.240602327014584,3.2437454912502917,3.2468886554859995,3.250031819721707,3.2531749839574147,3.256318148193122,3.25946131242883,3.2626044766645377,3.265747640900245,3.268890805135953,3.2720339693716602,3.275177133607368,3.278320297843076,3.2814634620787833,3.284606626314491,3.287749790550199,3.2908929547859063,3.294036119021614,3.2971792832573215,3.3003224474930293,3.303465611728737,3.3066087759644445,3.3097519402001523,3.3128951044358597,3.3160382686715675,3.3191814329072753,3.3223245971429827,3.3254677613786905,3.328610925614398,3.3317540898501057,3.3348972540858135,3.338040418321521,3.3411835825572287,3.3443267467929365,3.347469911028644,3.3506130752643517,3.353756239500059,3.356899403735767,3.3600425679714747,3.363185732207182,3.36632889644289,3.3694720606785973,3.372615224914305,3.375758389150013,3.3789015533857203,3.382044717621428,3.385187881857136,3.3883310460928433,3.391474210328551,3.3946173745642585,3.3977605387999663,3.400903703035674,3.4040468672713815,3.4071900315070893,3.4103331957427967,3.4134763599785045,3.4166195242142123,3.4197626884499197,3.4229058526856275,3.4260490169213353,3.4291921811570427,3.4323353453927505,3.435478509628458,3.4386216738641657,3.4417648380998735,3.444908002335581,3.4480511665712887,3.451194330806996,3.454337495042704,3.4574806592784117,3.460623823514119,3.463766987749827,3.4669101519855348,3.470053316221242,3.47319648045695,3.4763396446926573,3.479482808928365,3.482625973164073,3.4857691373997803,3.488912301635488,3.4920554658711955,3.4951986301069033,3.498341794342611,3.5014849585783185,3.5046281228140264,3.507771287049734,3.5109144512854416,3.5140576155211494,3.5172007797568567,3.5203439439925646,3.5234871082282724,3.5266302724639798,3.5297734366996876,3.532916600935395,3.5360597651711028,3.5392029294068106,3.542346093642518,3.5454892578782258,3.548632422113933,3.551775586349641,3.554918750585349,3.558061914821056,3.561205079056764,3.564348243292472,3.567491407528179,3.570634571763887,3.5737777359995944,3.576920900235302,3.58006406447101,3.5832072287067174,3.586350392942425,3.5894935571781326,3.5926367214138404,3.595779885649548,3.5989230498852556,3.6020662141209634,3.605209378356671,3.6083525425923786,3.6114957068280864,3.614638871063794,3.6177820352995016,3.6209251995352094,3.624068363770917,3.6272115280066246,3.630354692242332,3.63349785647804,3.6366410207137476,3.639784184949455,3.642927349185163,3.6460705134208706,3.649213677656578,3.652356841892286,3.655500006127993,3.658643170363701,3.661786334599409,3.664929498835116,3.668072663070824,3.6712158273065314,3.674358991542239,3.677502155777947,3.6806453200136544,3.6837884842493622,3.68693164848507,3.6900748127207774,3.6932179769564852,3.6963611411921926,3.6995043054279004,3.7026474696636082,3.7057906338993156,3.7089337981350234,3.712076962370731,3.7152201266064386,3.7183632908421465,3.721506455077854,3.7246496193135616,3.7277927835492695,3.730935947784977,3.7340791120206847,3.737222276256392,3.7403654404921,3.7435086047278077,3.746651768963515,3.749794933199223,3.7529380974349302,3.756081261670638,3.759224425906346,3.7623675901420532,3.765510754377761,3.7686539186134684,3.7717970828491763,3.774940247084884,3.7780834113205914,3.7812265755562993,3.784369739792007,3.7875129040277145,3.7906560682634223,3.7937992324991296,3.7969423967348375,3.8000855609705453,3.8032287252062527,3.8063718894419605,3.809515053677668,3.8126582179133757,3.8158013821490835,3.818944546384791,3.8220877106204987,3.8252308748562065,3.828374039091914,3.8315172033276217,3.834660367563329,3.837803531799037,3.8409466960347447,3.844089860270452,3.84723302450616,3.8503761887418673,3.853519352977575,3.856662517213283,3.8598056814489903,3.862948845684698,3.866092009920406,3.8692351741561133,3.872378338391821,3.8755215026275285,3.8786646668632363,3.881807831098944,3.8849509953346515,3.8880941595703593,3.8912373238060667,3.8943804880417745,3.8975236522774823,3.9006668165131897,3.9038099807488975,3.9069531449846053,3.9100963092203127,3.9132394734560205,3.916382637691728,3.9195258019274357,3.9226689661631435,3.925812130398851,3.9289552946345587,3.932098458870266,3.935241623105974,3.9383847873416817,3.941527951577389,3.944671115813097,3.9478142800488047,3.950957444284512,3.95410060852022,3.9572437727559273,3.960386936991635,3.963530101227343,3.9666732654630503,3.969816429698758,3.9729595939344655,3.9761027581701733,3.979245922405881,3.9823890866415885,3.9855322508772963,3.9886754151130037,3.9918185793487115,3.9949617435844194,3.9981049078201267,4.0012480720558345,4.004391236291542,4.00753440052725,4.010677564762958,4.013820728998665,4.016963893234373,4.020107057470081,4.023250221705788,4.026393385941495,4.029536550177204,4.032679714412911,4.035822878648618,4.038966042884327,4.042109207120034,4.045252371355741,4.04839553559145,4.051538699827157,4.054681864062864,4.057825028298573,4.06096819253428,4.064111356769987,4.067254521005695,4.070397685241403,4.07354084947711,4.076684013712818,4.079827177948526,4.082970342184233,4.086113506419941,4.089256670655649,4.092399834891356,4.095542999127064,4.098686163362771,4.101829327598479,4.104972491834187,4.108115656069894,4.111258820305602,4.11440198454131,4.117545148777017,4.120688313012725,4.123831477248433,4.12697464148414,4.130117805719848,4.133260969955556,4.136404134191263,4.139547298426971,4.142690462662679,4.145833626898386,4.148976791134094,4.152119955369802,4.155263119605509,4.158406283841217,4.161549448076925,4.164692612312632,4.16783577654834,4.170978940784048,4.174122105019755,4.177265269255463,4.18040843349117,4.183551597726878,4.186694761962586,4.189837926198293,4.192981090434001,4.196124254669709,4.199267418905416,4.202410583141124,4.205553747376832,4.208696911612539,4.211840075848247,4.214983240083955,4.218126404319662,4.221269568555369,4.224412732791078,4.227555897026785,4.230699061262492,4.233842225498201,4.236985389733908,4.240128553969615,4.243271718205324,4.246414882441031,4.249558046676738,4.252701210912447,4.255844375148154,4.258987539383861,4.262130703619569,4.265273867855277,4.268417032090984,4.271560196326692,4.2747033605624,4.2778465247981075,4.280989689033815,4.284132853269523,4.2872760175052305,4.290419181740938,4.293562345976646,4.2967055102123535,4.299848674448061,4.302991838683768,4.3061350029194765,4.309278167155184,4.312421331390891,4.3155644956265995,4.318707659862307,4.321850824098014,4.3249939883337225,4.32813715256943,4.331280316805137,4.3344234810408455,4.337566645276553,4.34070980951226,4.343852973747968,4.346996137983676,4.350139302219383,4.353282466455091,4.356425630690799,4.359568794926506,4.362711959162214,4.365855123397922,4.368998287633629,4.372141451869337,4.375284616105045,4.378427780340752,4.38157094457646,4.384714108812167,4.387857273047875,4.391000437283583,4.39414360151929,4.397286765754998,4.400429929990706,4.403573094226413,4.406716258462121,4.409859422697829,4.413002586933536,4.416145751169244,4.419288915404952,4.422432079640659,4.4255752438763665,4.428718408112075,4.431861572347782,4.4350047365834895,4.438147900819198,4.441291065054905,4.4444342292906125,4.447577393526321,4.450720557762028,4.4538637219977355,4.457006886233444,4.460150050469151,4.4632932147048585,4.466436378940566,4.469579543176274,4.4727227074119815,4.475865871647689,4.479009035883397,4.4821522001191045,4.485295364354812,4.48843852859052,4.4915816928262275,4.494724857061935,4.497868021297643,4.501011185533351,4.504154349769058,4.507297514004765,4.510440678240474,4.513583842476181,4.516727006711888,4.519870170947597,4.523013335183304,4.526156499419011,4.52929966365472,4.532442827890427,4.535585992126134,4.538729156361842,4.54187232059755,4.545015484833257,4.548158649068965,4.551301813304673,4.55444497754038,4.557588141776088,4.560731306011796,4.563874470247503,4.567017634483211,4.570160798718919,4.573303962954626,4.576447127190334,4.579590291426041,4.582733455661749,4.585876619897457,4.589019784133164,4.592162948368872,4.59530611260458,4.598449276840287,4.601592441075995,4.604735605311703,4.60787876954741,4.611021933783118,4.614165098018826,4.617308262254533,4.6204514264902405,4.623594590725949,4.626737754961656,4.6298809191973636,4.633024083433072,4.636167247668779,4.639310411904487,4.642453576140195,4.645596740375902,4.64873990461161,4.651883068847318,4.655026233083025,4.658169397318733,4.66131256155444,4.664455725790148,4.667598890025856,4.670742054261563,4.673885218497271,4.677028382732979,4.680171546968686,4.683314711204394,4.686457875440102,4.689601039675809,4.692744203911517,4.695887368147225,4.699030532382932,4.702173696618639,4.705316860854348,4.708460025090055,4.711603189325762,4.714746353561471,4.717889517797178,4.721032682032885,4.724175846268594,4.727319010504301,4.730462174740008,4.733605338975717,4.736748503211424,4.739891667447131,4.743034831682839,4.746177995918547,4.749321160154254,4.752464324389962,4.75560748862567,4.758750652861377,4.761893817097085,4.765036981332793,4.7681801455685004,4.771323309804208,4.774466474039916,4.7776096382756235,4.780752802511331,4.783895966747038,4.7870391309827465,4.790182295218454,4.793325459454161,4.7964686236898695,4.799611787925577,4.802754952161284,4.8058981163969925,4.8090412806327,4.812184444868407,4.8153276091041155,4.818470773339823,4.82161393757553,4.824757101811238,4.827900266046946,4.831043430282653,4.834186594518361,4.837329758754069,4.840472922989776,4.843616087225484,4.846759251461192,4.849902415696899,4.853045579932607,4.856188744168315,4.859331908404022,4.86247507263973,4.865618236875437,4.868761401111145,4.871904565346853,4.87504772958256,4.878190893818268,4.881334058053976,4.884477222289683,4.887620386525391,4.890763550761099,4.893906714996806,4.897049879232514,4.900193043468222,4.903336207703929,4.9064793719396365,4.909622536175345,4.912765700411052,4.9159088646467595,4.919052028882468,4.922195193118175,4.9253383573538825,4.928481521589591,4.931624685825298,4.9347678500610055,4.937911014296713,4.941054178532421,4.9441973427681285,4.947340507003836,4.950483671239544,4.9536268354752515,4.956769999710959,4.959913163946667,4.9630563281823745,4.966199492418082,4.96934265665379,4.9724858208894975,4.975628985125205,4.978772149360912,4.9819153135966205,4.985058477832328,4.988201642068035,4.9913448063037436,4.994487970539451,4.997631134775158,5.000774299010867,5.003917463246574,5.007060627482281,5.01020379171799,5.013346955953697,5.016490120189404,5.019633284425112,5.02277644866082,5.025919612896527,5.029062777132235,5.032205941367943,5.03534910560365,5.038492269839358,5.041635434075066,5.044778598310773,5.047921762546481,5.051064926782189,5.054208091017896,5.057351255253604,5.060494419489311,5.063637583725019,5.066780747960727,5.069923912196434,5.073067076432142,5.07621024066785,5.079353404903557,5.082496569139265,5.085639733374973,5.08878289761068,5.091926061846388,5.095069226082096,5.098212390317803,5.1013555545535105,5.104498718789219,5.107641883024926,5.1107850472606335,5.113928211496342,5.117071375732049,5.1202145399677566,5.123357704203465,5.126500868439172,5.12964403267488,5.132787196910588,5.135930361146295,5.139073525382003,5.14221668961771,5.145359853853418,5.148503018089126,5.151646182324833,5.154789346560541,5.157932510796249,5.161075675031956,5.164218839267664,5.167362003503372,5.170505167739079,5.173648331974787,5.176791496210495,5.179934660446202,5.183077824681909,5.186220988917618,5.189364153153325,5.192507317389032,5.195650481624741,5.198793645860448,5.201936810096155,5.205079974331864,5.208223138567571,5.211366302803278,5.214509467038987,5.217652631274694,5.220795795510401,5.223938959746109,5.227082123981817,5.230225288217524,5.233368452453232,5.23651161668894,5.239654780924647,5.242797945160355,5.245941109396063,5.24908427363177,5.252227437867478,5.255370602103186,5.2585137663388934,5.261656930574601,5.264800094810308,5.2679432590460165,5.271086423281724,5.274229587517431,5.2773727517531395,5.280515915988847,5.283659080224554,5.2868022444602625,5.28994540869597,5.293088572931677,5.2962317371673855,5.299374901403093,5.3025180656388,5.305661229874508,5.308804394110216,5.311947558345923,5.315090722581631,5.318233886817339,5.321377051053046,5.324520215288754,5.327663379524462,5.330806543760169,5.333949707995877,5.337092872231585,5.340236036467292,5.343379200703,5.346522364938707,5.349665529174415,5.352808693410123,5.35595185764583,5.359095021881538,5.362238186117246,5.365381350352953,5.368524514588661,5.371667678824369,5.374810843060076,5.377954007295783,5.381097171531492,5.384240335767199,5.3873835000029064,5.390526664238615,5.393669828474322,5.3968129927100295,5.399956156945738,5.403099321181445,5.4062424854171525,5.409385649652861,5.412528813888568,5.4156719781242755,5.418815142359983,5.421958306595691,5.4251014708313985,5.428244635067106,5.431387799302814,5.4345309635385215,5.437674127774229,5.440817292009937,5.4439604562456445,5.447103620481352,5.45024678471706,5.4533899489527675,5.456533113188475,5.459676277424182,5.4628194416598905,5.465962605895598,5.469105770131305,5.4722489343670135,5.475392098602721,5.478535262838428,5.4816784270741366,5.484821591309844,5.487964755545551,5.49110791978126,5.494251084016967,5.497394248252674,5.500537412488382,5.50368057672409,5.506823740959797,5.509966905195505,5.513110069431213,5.51625323366692,5.519396397902628,5.522539562138336,5.525682726374043,5.528825890609751,5.531969054845459,5.535112219081166,5.538255383316874,5.541398547552581,5.544541711788289,5.547684876023997,5.550828040259704,5.553971204495412,5.55711436873112,5.560257532966827,5.563400697202535,5.566543861438243,5.56968702567395,5.572830189909658,5.575973354145366,5.579116518381073,5.5822596826167805,5.585402846852489,5.588546011088196,5.5916891753239035,5.594832339559612,5.597975503795319,5.6011186680310265,5.604261832266735,5.607404996502442,5.6105481607381495,5.613691324973858,5.616834489209565,5.619977653445273,5.62312081768098,5.626263981916688,5.629407146152396,5.632550310388103,5.635693474623811,5.638836638859519,5.641979803095226,5.645122967330934,5.648266131566642,5.651409295802349,5.654552460038057,5.657695624273765,5.660838788509472,5.663981952745179,5.667125116980888,5.670268281216595,5.673411445452302,5.676554609688011,5.679697773923718,5.682840938159425,5.685984102395134,5.689127266630841,5.692270430866548,5.695413595102257,5.698556759337964,5.701699923573671,5.704843087809379,5.707986252045087,5.711129416280794,5.714272580516502,5.71741574475221,5.720558908987917,5.723702073223625,5.726845237459333,5.72998840169504,5.733131565930748,5.736274730166456,5.739417894402163,5.742561058637871,5.745704222873578,5.7488473871092864,5.751990551344994,5.755133715580701,5.7582768798164095,5.761420044052117,5.764563208287824,5.7677063725235325,5.77084953675924,5.773992700994947,5.7771358652306555,5.780279029466363,5.78342219370207,5.786565357937778,5.789708522173486,5.792851686409193,5.795994850644901,5.799138014880609,5.802281179116316,5.805424343352024,5.808567507587732,5.811710671823439,5.814853836059147,5.817997000294854,5.821140164530562,5.82428332876627,5.827426493001977,5.830569657237685,5.833712821473393,5.8368559857091,5.839999149944808,5.843142314180516,5.846285478416223,5.849428642651931,5.852571806887639,5.855714971123346,5.858858135359053,5.862001299594762,5.865144463830469,5.868287628066176,5.871430792301885,5.874573956537592,5.877717120773299,5.880860285009008,5.884003449244715,5.8871466134804225,5.890289777716131,5.893432941951838,5.8965761061875455,5.899719270423253,5.902862434658961,5.9060055988946685,5.909148763130376,5.912291927366084,5.9154350916017915,5.918578255837499,5.921721420073207,5.9248645843089145,5.928007748544622,5.93115091278033,5.9342940770160375,5.937437241251745,5.940580405487452,5.9437235697231605,5.946866733958868,5.950009898194575,5.9531530624302835,5.956296226665991,5.959439390901698,5.9625825551374065,5.965725719373114,5.968868883608821,5.9720120478445295,5.975155212080237,5.978298376315944,5.981441540551652,5.98458470478736,5.987727869023067,5.990871033258775,5.994014197494483,5.99715736173019,6.000300525965898,6.003443690201606,6.006586854437313,6.009730018673021,6.012873182908729,6.016016347144436,6.019159511380144,6.022302675615851,6.025445839851559,6.028589004087267,6.031732168322974,6.034875332558682,6.03801849679439,6.041161661030097,6.044304825265805,6.047447989501513,6.05059115373722,6.053734317972928,6.056877482208636,6.060020646444343,6.0631638106800505,6.066306974915759,6.069450139151466,6.0725933033871735,6.075736467622882,6.078879631858589,6.0820227960942965,6.085165960330005,6.088309124565712,6.0914522888014195,6.094595453037128,6.097738617272835,6.1008817815085425,6.10402494574425,6.107168109979958,6.1103112742156656,6.113454438451373,6.116597602687081,6.119740766922789,6.122883931158496,6.126027095394204,6.129170259629912,6.132313423865619,6.135456588101327,6.138599752337035,6.141742916572742,6.144886080808449,6.148029245044158,6.151172409279865,6.154315573515572,6.157458737751281,6.160601901986988,6.163745066222695,6.166888230458404,6.170031394694111,6.173174558929818,6.176317723165527,6.179460887401234,6.182604051636941,6.185747215872649,6.188890380108357,6.192033544344064,6.195176708579772,6.19831987281548,6.201463037051187,6.204606201286895,6.207749365522603,6.21089252975831,6.214035693994018,6.217178858229726,6.220322022465433,6.223465186701141,6.226608350936848,6.229751515172556,6.232894679408264,6.236037843643971,6.239181007879679,6.242324172115387,6.245467336351094,6.2486105005868025,6.25175366482251,6.254896829058217,6.258039993293925,6.261183157529633,6.26432632176534,6.267469486001048,6.270612650236756,6.273755814472463,6.276898978708171,6.280042142943879,6.283185307179586],\"y\":[0.0,0.003143159060238096,0.006286287067720245,0.009429352969997286,0.01257232571523362,0.015715174252513998,0.018857867532150272,0.022000374505988164,0.025142664127713998,0.028284705353161424,0.0314264671406181,0.03456791845113242,0.03770902824882009,0.040849765501170796,0.04399009917935478,0.04712999825852939,0.05026943171814557,0.05340836854225433,0.056546777719813215,0.059684628244992606,0.06282188911748207,0.0659585293427967,0.06909451793258313,0.07222982390492594,0.07536441628465354,0.07849826410364426,0.08163133640113233,0.08476360222401372,0.08789503062715187,0.09102559067368361,0.09415525143532459,0.09728398199267493,0.10041175143552472,0.1035385288631593,0.10666428338466463,0.10978898411923245,0.11291260019646535,0.11603510075668172,0.11915645495122076,0.12227663194274711,0.12539560090555552,0.1285133310258755,0.1316297915021756,0.13474495154546787,0.13785878037961183,0.1409712472416188,0.14408232138195554,0.1471919720648482,0.150300168568586,0.15340688018582457,0.15651207622388952,0.15961572600507962,0.16271779886696974,0.16581826416271395,0.1689170912613482,0.17201424954809297,0.17510970842465573,0.17820343730953322,0.1812954056383136,0.18438558286397838,0.18747393845720423,0.1905604419066646,0.1936450627193311,0.19672777042077488,0.19980853455546754,0.20288732468708218,0.20596411039879395,0.20903886129358054,0.21211154699452278,0.2151821371451043,0.21825060140951183,0.2213169094729346,0.22438103104186405,0.22744293584439296,0.23050259363051478,0.23355997417242208,0.2366150472648055,0.23966778272515207,0.2427181503940434,0.24576612013545354,0.24881166183704698,0.2518547454104758,0.25489534079167714,0.25793341794117025,0.260968946844353,0.2640018975117988,0.26703223997955255,0.27005994430942676,0.2730849805892974,0.2761073189333995,0.27912692948262213,0.2821437824048034,0.28515784789502563,0.2881690961759093,0.29117749749790744,0.2941830221395997,0.2971856404079855,0.30018532263877806,0.3031820391966969,0.3061757604757607,0.30916645689958033,0.3121540989216503,0.315138657025641,0.31812010172569044,0.32109840356669545,0.32407353312460246,0.32704546100669857,0.33001415785190163,0.3329795943310505,0.33594174114719483,0.3389005690358841,0.3418560487654574,0.34480815113733165,0.34775684698629045,0.3507021071807718,0.3536439026231564,0.3565822042500548,0.35951698303259455,0.3624482099767071,0.36537585612341417,0.36829989254911394,0.37122029036586657,0.3741370207216799,0.37705005480079434,0.3799593638239676,0.3828649190487589,0.385766691769813,0.3886646533191438,0.3915587750664177,0.3944490284192361,0.39733538482341846,0.4002178157632836,0.40309629276193215,0.4059707873815275,0.40884127122357683,0.41170771592921185,0.4145700931794686,0.41742837469556754,0.42028253223919276,0.42313253761277114,0.4259783626597507,0.42881997926487897,0.43165735935448063,0.4344904748967348,0.43731929790195234,0.4401438004228519,0.44296395455483617,0.44577973243626795,0.4485911062487449,0.4513980482173744,0.45420053061104837,0.4569985257427169,0.45979200596966185,0.4625809436937699,0.4653653113618054,0.46814508146568234,0.4709202265427363,0.4736907191759956,0.47645653199445226,0.47921763767333253,0.4819740089343666,0.4847256185460583,0.48747243932395384,0.4902144441309109,0.4929516058773663,0.49568389752160347,0.4984112920700204,0.5011337625773953,0.5038512821471537,0.5065638239316335,0.5092713611323508,0.5119738670002639,0.5146713148360386,0.5173636779903108,0.5200509298639509,0.5227330439083256,0.525409993625561,0.528081752568804,0.5307482943424833,0.5334095926025708,0.5360656210568414,0.5387163534651331,0.5413617636396058,0.5440018254450003,0.5466365127988966,0.5492657996719715,0.5518896600882554,0.5545080681253896,0.5571209979148817,0.5597284236423617,0.5623303195478371,0.5649266599259464,0.5675174191262146,0.5701025715533049,0.5726820916672735,0.57525595398382,0.5778241330745406,0.5803866035671786,0.5829433401458751,0.5854943175514196,0.5880395105814988,0.5905788940909463,0.5931124429919904,0.5956401322545027,0.5981619369062444,0.600677832033114,0.6031877927793927,0.6056917943479906,0.6081898120006908,0.6106818210583949,0.6131677969013658,0.6156477149694718,0.6181215507624285,0.6205892798400412,0.6230508778224466,0.6255063203903531,0.6279555832852816,0.6303986423098045,0.6328354733277857,0.6352660522646181,0.6376903551074622,0.6401083579054827,0.6425200367700856,0.6449253678751542,0.6473243274572839,0.6497168918160177,0.6521030373140798,0.6544827403776098,0.6568559774963945,0.6592227252241015,0.6615829601785098,0.6639366590417412,0.6662837985604906,0.6686243555462559,0.670958306875567,0.6732856294902141,0.6756063003974755,0.6779202966703449,0.6802275954477582,0.6825281739348187,0.6848220094030226,0.6871090791904838,0.6893893607021574,0.6916628314100631,0.6939294688535079,0.6961892506393077,0.6984421544420086,0.700688158004108,0.7029272391362733,0.7051593757175627,0.7073845456956421,0.7096027270870046,0.711813897977186,0.7140180365209827,0.7162151209426669,0.718405129536202,0.7205880406654561,0.7227638327644174,0.7249324843374059,0.7270939739592863,0.7292482802756799,0.7313953820031746,0.7335352579295364,0.7356678869139185,0.7377932478870696,0.7399113198515427,0.7420220818819026,0.7441255131249321,0.7462215927998385,0.7483103001984588,0.7503916146854637,0.7524655156985628,0.754531982748706,0.7565909954202877,0.7586425333713469,0.7606865763337695,0.7627231041134874,0.7647520965906791,0.7667735337199675,0.7687873955306185,0.7707936621267382,0.7727923136874691,0.774783330467187,0.7767666927956944,0.7787423810784165,0.7807103757965934,0.7826706575074741,0.7846232068445077,0.7865680045175353,0.7885050313129801,0.7904342680940378,0.7923556958008651,0.7942692954507682,0.7961750481383906,0.7980729350358996,0.7999629373931723,0.8018450365379808,0.8037192138761771,0.8055854508918759,0.8074437291476388,0.8092940302846554,0.8111363360229249,0.8129706281614371,0.8147968885783518,0.816615099231178,0.8184252421569521,0.8202272994724157,0.8220212533741913,0.8238070861389596,0.8255847801236331,0.8273543177655321,0.8291156815825564,0.8308688541733595,0.8326138182175193,0.8343505564757104,0.8360790517898736,0.8377992870833855,0.8395112453612275,0.8412149097101534,0.8429102632988572,0.8445972893781382,0.8462759712810671,0.8479462924231513,0.8496082363024975,0.8512617864999755,0.8529069266793804,0.8545436405875937,0.8561719120547442,0.8577917249943673,0.8594030634035643,0.8610059113631607,0.8626002530378628,0.8641860726764146,0.8657633546117531,0.8673320832611641,0.8688922431264344,0.8704438187940066,0.87198679493513,0.8735211563060132,0.8750468877479742,0.8765639741875899,0.8780724006368452,0.8795721521932816,0.8810632140401432,0.8825455714465249,0.8840192097675159,0.8854841144443459,0.8869402710045283,0.8883876650620035,0.8898262823172801,0.8912561085575778,0.8926771296569662,0.8940893315765054,0.8954927003643844,0.8968872221560586,0.8982728831743872,0.8996496697297693,0.9010175682202791,0.9023765651317996,0.9037266470381573,0.9050678006012541,0.9064000125711993,0.9077232697864404,0.9090375591738927,0.9103428677490696,0.9116391826162099,0.9129264909684057,0.9142047800877281,0.9154740373453542,0.9167342502016907,0.9179854062064986,0.9192274929990153,0.9204604983080776,0.9216844099522427,0.9228992158399079,0.9241049039694311,0.9253014624292485,0.9264888793979928,0.9276671431446101,0.9288362420284748,0.9299961644995058,0.9311468990982801,0.932288434456146,0.9334207592953355,0.9345438624290754,0.9356577327616985,0.9367623592887524,0.9378577310971091,0.938943837365072,0.9400206673624831,0.9410882104508294,0.9421464560833474,0.9431953938051277,0.944235013253218,0.9452653041567258,0.9462862563369197,0.9472978597073298,0.9483001042738479,0.9492929801348252,0.9502764774811715,0.9512505865964508,0.9522152978569783,0.9531706017319148,0.9541164887833612,0.9550529496664516,0.9559799751294459,0.9568975560138205,0.9578056832543599,0.9587043478792451,0.959593541010143,0.960473253862294,0.9613434777445982,0.9622042040597021,0.9630554243040831,0.9638971300681336,0.9647293130362439,0.9655519649868846,0.9663650777926878,0.9671686434205272,0.9679626539315976,0.9687471014814936,0.9695219783202864,0.970287276792601,0.9710429893376917,0.9717891084895165,0.9725256268768111,0.973252537223162,0.9739698323470777,0.9746775051620601,0.9753755486766748,0.9760639559946193,0.976742720314792,0.9774118349313591,0.9780712932338202,0.9787210887070751,0.9793612149314864,0.9799916655829445,0.9806124344329288,0.9812235153485701,0.9818249022927109,0.9824165893239648,0.9829985705967758,0.9835708403614751,0.9841333929643393,0.9846862228476447,0.9852293245497233,0.9857626927050165,0.9862863220441276,0.9868002073938746,0.9873043436773412,0.9877987259139261,0.9882833492193934,0.98875820880592,0.9892232999821434,0.9896786181532077,0.9901241588208092,0.9905599175832408,0.9909858901354354,0.9914020722690086,0.9918084598723,0.9922050489304145,0.9925918355252606,0.9929688158355909,0.9933359861370382,0.9936933428021535,0.9940408823004411,0.9943786011983938,0.9947064961595269,0.9950245639444106,0.995332801410703,0.9956312055131803,0.9959197733037669,0.9961985019315652,0.9964673886428831,0.9967264307812617,0.9969756257875008,0.9972149711996852,0.9974444646532082,0.9976641038807956,0.9978738867125272,0.9980738110758594,0.9982638749956445,0.9984440765941512,0.9986144140910828,0.9987748858035943,0.9989254901463098,0.9990662256313378,0.9991970908682858,0.9993180845642742,0.9994292055239488,0.9995304526494934,0.9996218249406393,0.9997033214946769,0.9997749415064627,0.9998366842684291,0.9998885491705899,0.9999305357005471,0.9999626434434962,0.9999848720822294,0.9999972213971394,0.9999996912662218,0.9999922816650751,0.9999749926669027,0.9999478244425106,0.9999107772603066,0.9998638514862973,0.9998070475840847,0.9997403661148613,0.9996638077374049,0.9995773732080722,0.9994810633807905,0.9993748792070504,0.9992588217358954,0.9991328921139124,0.9989970915852197,0.9988514214914548,0.9986958832717616,0.998530478462776,0.99835520869861,0.9981700757108368,0.9979750813284729,0.9977702274779598,0.997555516183146,0.9973309495652656,0.9970965298429187,0.9968522593320488,0.9965981404459197,0.9963341756950921,0.9960603676873989,0.995776719127919,0.9954832328189506,0.9951799116599839,0.9948667586476722,0.9945437768758023,0.994210969535264,0.9938683399140186,0.9935158913970662,0.9931536274664124,0.9927815517010343,0.9923996677768443,0.9920079794666544,0.991606490640139,0.9911952052637959,0.9907741274009082,0.9903432612115034,0.9899026109523125,0.9894521809767279,0.9889919757347606,0.9885219997729958,0.9880422577345487,0.9875527543590178,0.9870534944824386,0.9865444830372357,0.9860257250521743,0.9854972256523098,0.984958990058938,0.984411023589543,0.983853331657745,0.9832859197732465,0.982708793541778,0.9821219586650427,0.9815254209406601,0.9809191862621087,0.9803032606186678,0.9796776500953583,0.9790423608728828,0.978397399227564,0.9777427715312833,0.9770784842514176,0.9764045439507755,0.9757209572875317,0.9750277310151628,0.974324871982379,0.9736123871330575,0.9728902835061733,0.9721585682357299,0.9714172485506886,0.9706663317748975,0.9699058253270189,0.9691357367204558,0.9683560735632782,0.9675668435581473,0.9667680545022398,0.965959714287171,0.9651418308989163,0.9643144124177327,0.9634774670180793,0.9626310029685355,0.9617750286317205,0.9609095524642097,0.9600345830164518,0.9591501289326843,0.9582561989508472,0.9573528019024984,0.9564399467127246,0.9555176424000543,0.9545858980763684,0.9536447229468099,0.9526941263096935,0.9517341175564132,0.9507647061713498,0.9497859017317772,0.9487977139077678,0.9478001524620966,0.9467932272501455,0.945776948219805,0.9447513254113767,0.9437163689574737,0.9426720890829208,0.9416184961046529,0.9405556004316138,0.9394834125646527,0.9384019430964213,0.9373112027112682,0.9362112021851339,0.9351019523854439,0.9339834642710024,0.9328557488918827,0.9317188173893186,0.9305726809955946,0.9294173510339345,0.92825283891839,0.9270791561537273,0.9258963143353139,0.9247043251490038,0.9235032003710226,0.9222929518678503,0.9210735915961046,0.9198451316024228,0.9186075840233425,0.9173609610851821,0.9161052751039194,0.9148405384850706,0.9135667637235674,0.9122839634036334,0.9109921501986602,0.9096913368710817,0.9083815362722486,0.9070627613423007,0.9057350251100397,0.9043983406928006,0.9030527212963207,0.9016981802146117,0.9003347308298253,0.8989623866121235,0.8975811611195446,0.8961910679978685,0.8947921209804836,0.893384333888249,0.8919677206293598,0.8905422951992092,0.8891080716802493,0.8876650642418533,0.8862132871401742,0.8847527547180054,0.8832834814046381,0.8818054817157183,0.8803187702531046,0.8788233617047235,0.8773192708444233,0.8758065125318298,0.8742851017121981,0.8727550534162658,0.8712163827601044,0.8696691049449691,0.8681132352571502,0.8665487890678203,0.8649757818328839,0.8633942290928242,0.8618041464725485,0.8602055496812363,0.8585984545121818,0.8569828768426383,0.8553588326336627,0.853726337929956,0.8520854088597062,0.8504360616344284,0.848778312548804,0.8471121779805212,0.8454376743901115,0.8437548183207888,0.8420636263982847,0.8403641153306841,0.8386563019082616,0.8369402030033143,0.8352158355699951,0.8334832166441466,0.8317423633431305,0.8299932928656607,0.8282360224916326,0.8264705695819514,0.8246969515783624,0.8229151860032768,0.8211252904596004,0.8193272826305583,0.8175211802795205,0.8157070012498272,0.8138847634646118,0.8120544849266234,0.8102161837180503,0.8083698780003398,0.80651558601402,0.8046533260785194,0.8027831165919848,0.8009049760311012,0.7990189229509077,0.7971249759846155,0.7952231538434233,0.7933134753163317,0.7913959592699589,0.7894706246483536,0.7875374904728074,0.7855965758416681,0.7836478999301495,0.7816914819901434,0.7797273413500289,0.7777554974144804,0.7757759696642779,0.7737887776561122,0.7717939410223943,0.7697914794710594,0.7677814127853725,0.7657637608237341,0.7637385435194824,0.7617057808806978,0.7596654929900051,0.757617700004373,0.755562422154918,0.7534996797467031,0.7514294931585361,0.7493518828427708,0.747266869325102,0.7451744732043656,0.7430747151523333,0.740967615913508,0.738853196304921,0.7367314772159238,0.7346024796079836,0.7324662245144758,0.7303227330404749,0.728172026362548,0.7260141257285443,0.7238490524573851,0.7216768279388545,0.7194974736333859,0.7173110110718521,0.7151174618553523,0.7129168476549963,0.7107091902116941,0.7084945113359379,0.7062728329075885,0.7040441768756591,0.7018085652580968,0.6995660201415671,0.6973165636812348,0.6950602181005443,0.6927970056910022,0.6905269488119543,0.6882500698903672,0.6859663914206058,0.6836759359642096,0.681378726149673,0.6790747846722183,0.6767641342935738,0.6744467978417489,0.6721227982108063,0.6697921583606385,0.6674549013167402,0.6651110501699791,0.6627606280763705,0.6604036582568462,0.6580401639970268,0.6556701686469911,0.6532936956210441,0.6509107683974883,0.6485214105183887,0.646125645589343,0.6437234972792474,0.6413149893200609,0.638900145506574,0.636478989696172,0.6340515458085985,0.6316178378257209,0.6291778897912916,0.6267317258107125,0.6242793700507955,0.6218208467395231,0.6193561801658114,0.6168853946792673,0.6144085146899502,0.6119255646681303,0.6094365691440451,0.6069415527076603,0.6044405400084232,0.6019335557550224,0.5994206247151421,0.5969017717152167,0.5943770216401876,0.5918463994332559,0.5893099300956354,0.5867676386863079,0.5842195503217725,0.5816656901758008,0.5791060834791861,0.5765407555194936,0.573969731640813,0.5713930372435054,0.5688106977839547,0.5662227387743147,0.5636291857822566,0.5610300644307185,0.5584254003976504,0.5558152194157605,0.5531995472722627,0.5505784098086193,0.5479518329202883,0.545319842556466,0.5426824647198305,0.5400397254662861,0.5373916509047041,0.5347382671966666,0.5320796005562075,0.529415677249552,0.5267465235948596,0.524072165961963,0.5213926307721063,0.5187079444976863,0.5160181336619887,0.513323224838928,0.5106232446527845,0.5079182197779395,0.5052081769386148,0.5024931429086051,0.4997731445110173,0.49704820861800314,0.4943183621504932,0.4915836320779331,0.48884404541801585,0.486099629236414,0.48335041064651457,0.4805964168091484,0.4778376749323244,0.4750742122709596,0.47230605612660875,0.4695332338471973,0.4667557728267481,0.4639737005051135,0.46118704436770297,0.4583958319452106,0.45560009081334535,0.45279984859255745,0.4499951329477642,0.4471859715880798,0.44437239226653796,0.4415544227798208,0.43873209096798305,0.4359054247141755,0.4330744519443727,0.43023920062709375,0.42739969877312867,0.4245559744352605,0.4217080557079871,0.4188559707272462,0.41599974767013437,0.41313941475463134,0.41027500023932023,0.4074065324231068,0.4045340396449426,0.4016575502835437,0.39877709275710915,0.3958926955230428,0.39300438707766927,0.39011219595595514,0.3872161507312257,0.38431628001488144,0.38141261245611857,0.37850517674164225,0.37559400159538636,0.37267911577822843,0.3697605480877041,0.3668383273577253,0.3639124824582941,0.3609830422952162,0.3580500358098182,0.35511349197865844,0.35217343981324367,0.34922990835974116,0.3462829266986904,0.3433325239447187,0.3403787292462505,0.33742157178522203,0.33446108077679176,0.33149728546905066,0.3285302151427358,0.32555989911093947,0.32258636671881874,0.31960964734330827,0.3166297703928268,0.3136467653069894,0.31066066155631555,0.30767148864193655,0.3046792760953073,0.3016840534779108,0.29868585038096923,0.2956846964251505,0.29268062126027394,0.2896736545650204,0.2866638260466374,0.28365116544064456,0.2806357025105426,0.2776174670475161,0.27459648887014215,0.2715727978240943,0.26854642378184673,0.2655173966423816,0.26248574633089083,0.2594515027984831,0.2564146960218867,0.2533753560031522,0.2503335127693585,0.247289196372315,0.24424243688826333,0.2411932644175833,0.23814170908449195,0.23508780103674906,0.2320315704453581,0.22897304750426659,0.2259122624300711,0.2228492454617151,0.21978402686019335,0.21671663690825152,0.21364710591008582,0.21057546419104656,0.2075017420973352,0.20442596999570747,0.20134817827317206,0.19826839733668922,0.19518665761287282,0.19210298954768854,0.1890174236061518,0.18592999027202972,0.18284072004753657,0.17974964345303537,0.17665679102673523,0.1735621933243882,0.17046588091899034,0.1673678844004766,0.16426823437542112,0.161166961466734,0.15806409631335722,0.15495966956996451,0.15185371190665742,0.1487462540086608,0.14563732657602277,0.142526960323308,0.13941518597929717,0.13630203428668222,0.13318753600176125,0.13007172189413768,0.12695462274641287,0.123836269353885,0.12071669252424352,0.11759592307726349,0.1144739918445037,0.11135092966900079,0.10822676740496319,0.10510153591746937,0.10197526608215945,0.09884798878493316,0.09571973492164343,0.09259053539778982,0.08946042112821631,0.0863294230368023,0.08319757205616021,0.08006489912732856,0.07693143519946496,0.073797211229543,0.07066225818204507,0.06752660702865515,0.06439028874795592,0.061253334325119146,0.05811577475160265,0.05497764102484286,0.051838964147947184,0.04869977512939083,0.04556010498270696,0.04241998472618333,0.03927944538255454,0.036138517978694246,0.032997233545311234,0.029855623116641576,0.026713717730140668,0.023571548426179704,0.02042914624773548,0.01728654224008679,0.014143767450506394,0.011000852927952965,0.007857829722767433,0.00471472888636268,0.001571581470919876,-0.001571581470919631,-0.0047147288863624345,-0.007857829722766744,-0.01100085292795272,-0.01414376745050615,-0.017286542240086543,-0.020429146247735234,-0.02357154842617946,-0.026713717730140422,-0.02985562311664133,-0.032997233545310985,-0.036138517978693996,-0.0392794453825543,-0.04241998472618309,-0.04556010498270672,-0.048699775129390145,-0.051838964147946934,-0.054977641024842615,-0.05811577475160241,-0.061253334325118904,-0.06439028874795567,-0.06752660702865491,-0.07066225818204482,-0.07379721122954275,-0.07693143519946471,-0.08006489912732832,-0.08319757205615996,-0.08632942303680206,-0.08946042112821563,-0.09259053539778958,-0.09571973492164318,-0.09884798878493291,-0.1019752660821592,-0.10510153591746914,-0.10822676740496294,-0.11135092966900055,-0.11447399184450346,-0.11759592307726326,-0.12071669252424329,-0.12383626935388475,-0.12695462274641264,-0.130071721894137,-0.133187536001761,-0.136302034286682,-0.13941518597929692,-0.14252696032330775,-0.14563732657602252,-0.14874625400866054,-0.15185371190665717,-0.15495966956996426,-0.15806409631335697,-0.1611669614667338,-0.1642682343754209,-0.16736788440047634,-0.17046588091898968,-0.17356219332438794,-0.176656791026735,-0.17974964345303515,-0.18284072004753632,-0.18592999027202906,-0.18901742360615156,-0.1921029895476883,-0.19518665761287257,-0.19826839733668897,-0.20134817827317184,-0.20442596999570722,-0.20750174209733496,-0.2105754641910459,-0.21364710591008557,-0.21671663690825127,-0.2197840268601931,-0.22284924546171486,-0.22591226243007043,-0.22897304750426634,-0.23203157044535785,-0.23508780103674884,-0.2381417090844917,-0.24119326441758304,-0.2442424368882631,-0.24728919637231475,-0.2503335127693582,-0.2533753560031519,-0.25641469602188643,-0.25945150279848284,-0.2624857463308906,-0.26551739664238094,-0.26854642378184646,-0.2715727978240941,-0.27459648887014193,-0.27761746704751583,-0.2806357025105423,-0.28365116544064434,-0.2866638260466372,-0.2896736545650202,-0.2926806212602737,-0.2956846964251502,-0.298685850380969,-0.30168405347791055,-0.30467927609530665,-0.30767148864193633,-0.3106606615563153,-0.31364676530698915,-0.3166297703928266,-0.31960964734330805,-0.3225863667188185,-0.3255598991109392,-0.32853021514273556,-0.33149728546905044,-0.33446108077679154,-0.3374215717852218,-0.3403787292462503,-0.343332523944718,-0.34628292669869015,-0.34922990835974094,-0.35217343981324345,-0.3551134919786582,-0.3580500358098179,-0.360983042295216,-0.3639124824582939,-0.3668383273577251,-0.36976054808770387,-0.3726791157782282,-0.37559400159538614,-0.378505176741642,-0.3814126124561179,-0.3843162800148812,-0.38721615073122545,-0.3901121959559549,-0.39300438707766905,-0.3958926955230422,-0.39877709275710893,-0.4016575502835435,-0.4045340396449424,-0.4074065324231066,-0.41027500023932,-0.4131394147546311,-0.41599974767013415,-0.41885597072724556,-0.42170805570798686,-0.4245559744352603,-0.42739969877312844,-0.43023920062709353,-0.4330744519443721,-0.43590542471417526,-0.4387320909679828,-0.4415544227798206,-0.44437239226653774,-0.4471859715880796,-0.44999513294776405,-0.45279984859255723,-0.4556000908133451,-0.4583958319452104,-0.46118704436770275,-0.4639737005051133,-0.4667557728267479,-0.4695332338471967,-0.47230605612660853,-0.47507421227095936,-0.47783767493232415,-0.48059641680914816,-0.48335041064651435,-0.4860996292364138,-0.4888440454180157,-0.4915836320779329,-0.49431836215049296,-0.4970482086180029,-0.49977314451101706,-0.5024931429086049,-0.5052081769386141,-0.5079182197779393,-0.5106232446527843,-0.5133232248389278,-0.5160181336619885,-0.5187079444976861,-0.5213926307721061,-0.5240721659619629,-0.5267465235948594,-0.5294156772495517,-0.5320796005562073,-0.5347382671966664,-0.5373916509047039,-0.5400397254662855,-0.5426824647198303,-0.5453198425564658,-0.547951832920288,-0.5505784098086192,-0.5531995472722625,-0.5558152194157603,-0.5584254003976502,-0.5610300644307183,-0.5636291857822565,-0.5662227387743145,-0.5688106977839544,-0.5713930372435052,-0.5739697316408124,-0.5765407555194934,-0.5791060834791859,-0.5816656901758006,-0.5842195503217723,-0.5867676386863072,-0.5893099300956351,-0.5918463994332557,-0.5943770216401875,-0.5969017717152165,-0.5994206247151419,-0.6019335557550222,-0.604440540008423,-0.6069415527076597,-0.6094365691440449,-0.6119255646681301,-0.6144085146899501,-0.6168853946792671,-0.6193561801658108,-0.6218208467395229,-0.6242793700507953,-0.6267317258107123,-0.6291778897912914,-0.6316178378257207,-0.6340515458085982,-0.6364789896961719,-0.6389001455065738,-0.6413149893200607,-0.6437234972792472,-0.6461256455893429,-0.6485214105183885,-0.6509107683974877,-0.6532936956210439,-0.6556701686469909,-0.6580401639970267,-0.660403658256846,-0.6627606280763703,-0.6651110501699788,-0.66745490131674,-0.6697921583606384,-0.6721227982108061,-0.6744467978417488,-0.6767641342935737,-0.679074784672218,-0.6813787261496725,-0.6836759359642095,-0.6859663914206056,-0.6882500698903671,-0.6905269488119541,-0.692797005691002,-0.6950602181005442,-0.6973165636812346,-0.6995660201415669,-0.7018085652580967,-0.704044176875659,-0.7062728329075884,-0.7084945113359377,-0.7107091902116937,-0.7129168476549961,-0.7151174618553521,-0.717311011071852,-0.7194974736333857,-0.7216768279388543,-0.723849052457385,-0.7260141257285442,-0.7281720263625479,-0.7303227330404748,-0.7324662245144757,-0.7346024796079834,-0.7367314772159236,-0.7388531963049205,-0.7409676159135078,-0.743074715152333,-0.7451744732043655,-0.7472668693251019,-0.7493518828427703,-0.7514294931585359,-0.753499679746703,-0.7555624221549179,-0.7576177000043728,-0.7596654929900046,-0.7617057808806981,-0.7637385435194822,-0.7657637608237337,-0.7677814127853726,-0.7697914794710593,-0.7717939410223942,-0.7737887776561119,-0.7757759696642776,-0.7777554974144802,-0.7797273413500284,-0.7816914819901435,-0.7836478999301494,-0.7855965758416676,-0.7875374904728075,-0.7894706246483535,-0.7913959592699588,-0.7933134753163319,-0.7952231538434232,-0.7971249759846153,-0.7990189229509073,-0.800904976031101,-0.8027831165919846,-0.804653326078519,-0.8065155860140201,-0.8083698780003397,-0.8102161837180499,-0.8120544849266235,-0.8138847634646117,-0.815707001249827,-0.8175211802795201,-0.8193272826305581,-0.8211252904596001,-0.8229151860032765,-0.8246969515783623,-0.8264705695819513,-0.8282360224916322,-0.8299932928656608,-0.8317423633431303,-0.8334832166441462,-0.8352158355699952,-0.8369402030033142,-0.8386563019082613,-0.8403641153306838,-0.8420636263982846,-0.8437548183207887,-0.8454376743901112,-0.8471121779805211,-0.8487783125488039,-0.8504360616344281,-0.8520854088597063,-0.8537263379299559,-0.8553588326336623,-0.8569828768426383,-0.8585984545121816,-0.8602055496812362,-0.8618041464725482,-0.863394229092824,-0.8649757818328837,-0.86654878906782,-0.8681132352571501,-0.869669104944969,-0.871216382760104,-0.8727550534162659,-0.874285101712198,-0.8758065125318295,-0.8773192708444233,-0.8788233617047233,-0.8803187702531045,-0.8818054817157179,-0.883283481404638,-0.8847527547180053,-0.8862132871401739,-0.8876650642418532,-0.8891080716802492,-0.890542295199209,-0.8919677206293599,-0.8933843338882489,-0.8947921209804832,-0.8961910679978686,-0.8975811611195444,-0.8989623866121234,-0.900334730829825,-0.9016981802146116,-0.9030527212963206,-0.9043983406928002,-0.9057350251100398,-0.9070627613423006,-0.9083815362722483,-0.9096913368710817,-0.9109921501986601,-0.9122839634036333,-0.9135667637235675,-0.9148405384850705,-0.9161052751039193,-0.9173609610851817,-0.9186075840233424,-0.9198451316024226,-0.9210735915961044,-0.9222929518678502,-0.9235032003710225,-0.9247043251490037,-0.9258963143353138,-0.9270791561537273,-0.9282528389183898,-0.9294173510339346,-0.9305726809955945,-0.9317188173893184,-0.9328557488918824,-0.9339834642710024,-0.9351019523854439,-0.9362112021851337,-0.9373112027112682,-0.9384019430964213,-0.9394834125646526,-0.9405556004316138,-0.9416184961046528,-0.9426720890829206,-0.9437163689574738,-0.9447513254113766,-0.9457769482198048,-0.9467932272501453,-0.9478001524620966,-0.9487977139077677,-0.949785901731777,-0.9507647061713498,-0.9517341175564131,-0.9526941263096933,-0.9536447229468099,-0.9545858980763683,-0.9555176424000542,-0.9564399467127246,-0.9573528019024984,-0.9582561989508471,-0.959150128932684,-0.9600345830164518,-0.9609095524642096,-0.9617750286317204,-0.9626310029685355,-0.9634774670180792,-0.9643144124177326,-0.9651418308989163,-0.965959714287171,-0.9667680545022397,-0.9675668435581474,-0.9683560735632782,-0.9691357367204557,-0.9699058253270187,-0.9706663317748975,-0.9714172485506885,-0.9721585682357297,-0.9728902835061733,-0.9736123871330575,-0.9743248719823789,-0.9750277310151628,-0.9757209572875317,-0.9764045439507754,-0.9770784842514177,-0.9777427715312833,-0.978397399227564,-0.9790423608728827,-0.9796776500953583,-0.9803032606186677,-0.9809191862621086,-0.9815254209406601,-0.9821219586650426,-0.9827087935417779,-0.9832859197732465,-0.983853331657745,-0.984411023589543,-0.9849589900589379,-0.9854972256523098,-0.9860257250521742,-0.9865444830372356,-0.9870534944824386,-0.9875527543590177,-0.9880422577345486,-0.9885219997729958,-0.9889919757347605,-0.9894521809767278,-0.9899026109523126,-0.9903432612115034,-0.9907741274009082,-0.9911952052637958,-0.991606490640139,-0.9920079794666544,-0.9923996677768442,-0.9927815517010343,-0.9931536274664124,-0.9935158913970661,-0.9938683399140186,-0.994210969535264,-0.9945437768758022,-0.9948667586476722,-0.9951799116599839,-0.9954832328189505,-0.9957767191279189,-0.9960603676873989,-0.9963341756950921,-0.9965981404459195,-0.9968522593320487,-0.9970965298429187,-0.9973309495652656,-0.9975555161831459,-0.9977702274779598,-0.9979750813284729,-0.9981700757108369,-0.99835520869861,-0.9985304784627759,-0.9986958832717616,-0.9988514214914548,-0.9989970915852197,-0.9991328921139124,-0.9992588217358954,-0.9993748792070504,-0.9994810633807905,-0.9995773732080722,-0.9996638077374049,-0.9997403661148613,-0.9998070475840847,-0.9998638514862973,-0.9999107772603066,-0.9999478244425106,-0.9999749926669027,-0.9999922816650751,-0.9999996912662218,-0.9999972213971394,-0.9999848720822294,-0.9999626434434962,-0.9999305357005471,-0.9998885491705899,-0.9998366842684291,-0.9997749415064627,-0.9997033214946769,-0.9996218249406393,-0.9995304526494934,-0.9994292055239488,-0.9993180845642742,-0.9991970908682858,-0.9990662256313378,-0.9989254901463098,-0.9987748858035943,-0.9986144140910828,-0.9984440765941512,-0.9982638749956445,-0.9980738110758594,-0.9978738867125272,-0.9976641038807956,-0.9974444646532084,-0.9972149711996852,-0.9969756257875008,-0.9967264307812617,-0.9964673886428831,-0.9961985019315652,-0.9959197733037669,-0.9956312055131803,-0.995332801410703,-0.9950245639444106,-0.9947064961595268,-0.9943786011983938,-0.9940408823004412,-0.9936933428021536,-0.9933359861370382,-0.9929688158355909,-0.9925918355252608,-0.9922050489304145,-0.9918084598723002,-0.9914020722690087,-0.9909858901354354,-0.9905599175832408,-0.9901241588208093,-0.9896786181532077,-0.9892232999821434,-0.9887582088059201,-0.9882833492193935,-0.9877987259139261,-0.9873043436773412,-0.9868002073938748,-0.9862863220441276,-0.9857626927050165,-0.9852293245497235,-0.9846862228476447,-0.9841333929643393,-0.9835708403614752,-0.9829985705967756,-0.9824165893239648,-0.9818249022927109,-0.9812235153485702,-0.9806124344329288,-0.9799916655829446,-0.9793612149314866,-0.9787210887070751,-0.9780712932338204,-0.9774118349313592,-0.976742720314792,-0.9760639559946194,-0.9753755486766749,-0.9746775051620603,-0.9739698323470777,-0.9732525372231621,-0.9725256268768113,-0.9717891084895165,-0.9710429893376917,-0.9702872767926012,-0.9695219783202864,-0.9687471014814937,-0.9679626539315977,-0.9671686434205271,-0.9663650777926878,-0.9655519649868847,-0.964729313036244,-0.9638971300681336,-0.9630554243040832,-0.9622042040597023,-0.9613434777445982,-0.9604732538622941,-0.9595935410101433,-0.9587043478792452,-0.95780568325436,-0.9568975560138206,-0.9559799751294458,-0.9550529496664516,-0.9541164887833613,-0.953170601731915,-0.9522152978569783,-0.9512505865964509,-0.9502764774811717,-0.9492929801348252,-0.9483001042738479,-0.94729785970733,-0.9462862563369197,-0.9452653041567259,-0.9442350132532181,-0.9431953938051276,-0.9421464560833475,-0.9410882104508296,-0.9400206673624834,-0.938943837365072,-0.9378577310971092,-0.9367623592887527,-0.9356577327616985,-0.9345438624290755,-0.9334207592953356,-0.9322884344561461,-0.9311468990982802,-0.929996164499506,-0.9288362420284747,-0.9276671431446101,-0.9264888793979931,-0.9253014624292488,-0.9241049039694311,-0.922899215839908,-0.9216844099522429,-0.9204604983080776,-0.9192274929990154,-0.9179854062064988,-0.9167342502016907,-0.9154740373453543,-0.9142047800877283,-0.9129264909684056,-0.91163918261621,-0.9103428677490698,-0.909037559173893,-0.9077232697864404,-0.9064000125711995,-0.9050678006012545,-0.9037266470381573,-0.9023765651317998,-0.9010175682202793,-0.8996496697297695,-0.8982728831743874,-0.8968872221560589,-0.8954927003643843,-0.8940893315765055,-0.8926771296569664,-0.8912561085575781,-0.8898262823172802,-0.8883876650620036,-0.8869402710045287,-0.8854841144443459,-0.884019209767516,-0.8825455714465251,-0.8810632140401433,-0.8795721521932817,-0.8780724006368454,-0.8765639741875898,-0.8750468877479743,-0.8735211563060135,-0.8719867949351303,-0.8704438187940066,-0.8688922431264346,-0.8673320832611644,-0.8657633546117532,-0.8641860726764147,-0.862600253037863,-0.8610059113631607,-0.8594030634035644,-0.8577917249943675,-0.8561719120547441,-0.8545436405875938,-0.8529069266793806,-0.8512617864999759,-0.8496082363024975,-0.8479462924231514,-0.8462759712810675,-0.8445972893781382,-0.8429102632988574,-0.8412149097101538,-0.8395112453612273,-0.8377992870833856,-0.8360790517898739,-0.8343505564757103,-0.8326138182175195,-0.8308688541733596,-0.8291156815825569,-0.8273543177655321,-0.8255847801236333,-0.8238070861389598,-0.8220212533741913,-0.8202272994724158,-0.8184252421569524,-0.816615099231178,-0.8147968885783519,-0.8129706281614374,-0.8111363360229248,-0.8092940302846554,-0.8074437291476391,-0.8055854508918763,-0.8037192138761771,-0.801845036537981,-0.7999629373931727,-0.7980729350358996,-0.7961750481383908,-0.7942692954507685,-0.792355695800865,-0.7904342680940378,-0.7885050313129803,-0.7865680045175357,-0.7846232068445078,-0.7826706575074743,-0.7807103757965939,-0.7787423810784165,-0.7767666927956947,-0.7747833304671874,-0.7727923136874691,-0.7707936621267383,-0.7687873955306188,-0.7667735337199675,-0.7647520965906792,-0.7627231041134878,-0.7606865763337699,-0.758642533371347,-0.7565909954202878,-0.7545319827487065,-0.7524655156985628,-0.750391614685464,-0.7483103001984591,-0.7462215927998386,-0.7441255131249322,-0.742022081881903,-0.7399113198515426,-0.7377932478870697,-0.7356678869139188,-0.733535257929537,-0.7313953820031747,-0.7292482802756801,-0.7270939739592869,-0.724932484337406,-0.7227638327644176,-0.7205880406654565,-0.7184051295362018,-0.7162151209426671,-0.7140180365209831,-0.7118138979771859,-0.7096027270870047,-0.7073845456956425,-0.7051593757175632,-0.7029272391362734,-0.7006881580041082,-0.6984421544420092,-0.6961892506393077,-0.6939294688535081,-0.6916628314100636,-0.6893893607021574,-0.6871090791904839,-0.684822009403023,-0.6825281739348186,-0.6802275954477583,-0.6779202966703453,-0.6756063003974759,-0.6732856294902141,-0.6709583068755673,-0.6686243555462564,-0.6662837985604906,-0.6639366590417414,-0.6615829601785101,-0.6592227252241014,-0.6568559774963947,-0.6544827403776101,-0.6521030373140797,-0.6497168918160178,-0.6473243274572842,-0.6449253678751548,-0.6425200367700857,-0.640108357905483,-0.6376903551074626,-0.6352660522646181,-0.6328354733277859,-0.6303986423098049,-0.6279555832852814,-0.6255063203903533,-0.6230508778224471,-0.6205892798400411,-0.6181215507624286,-0.6156477149694721,-0.6131677969013664,-0.610681821058395,-0.6081898120006911,-0.605691794347991,-0.6031877927793927,-0.6006778320331142,-0.5981619369062449,-0.5956401322545026,-0.5931124429919906,-0.5905788940909467,-0.5880395105814987,-0.5854943175514197,-0.5829433401458755,-0.5803866035671792,-0.5778241330745407,-0.5752559539838203,-0.5726820916672739,-0.5701025715533049,-0.5675174191262147,-0.5649266599259469,-0.5623303195478371,-0.559728423642362,-0.5571209979148821,-0.5545080681253894,-0.5518896600882555,-0.5492657996719718,-0.5466365127988971,-0.5440018254450003,-0.541361763639606,-0.5387163534651336,-0.5360656210568414,-0.533409592602571,-0.5307482943424837,-0.5280817525688039,-0.5254099936255612,-0.522733043908326,-0.5200509298639507,-0.5173636779903109,-0.5146713148360389,-0.5119738670002645,-0.5092713611323508,-0.5065638239316338,-0.5038512821471542,-0.5011337625773953,-0.4984112920700206,-0.49568389752160397,-0.4929516058773662,-0.4902144441309111,-0.4874724393239543,-0.4847256185460581,-0.4819740089343667,-0.47921763767333286,-0.4764565319944528,-0.4736907191759956,-0.4709202265427366,-0.4681450814656829,-0.46536531136180537,-0.4625809436937701,-0.4597920059696623,-0.4569985257427168,-0.45420053061104854,-0.4513980482173748,-0.44859110624874554,-0.4457797324362681,-0.44296395455483656,-0.44014380042285245,-0.4373192979019524,-0.4344904748967351,-0.43165735935448113,-0.42881997926487897,-0.4259783626597509,-0.4231325376127716,-0.4202825322391927,-0.4174283746955677,-0.414570093179469,-0.4117077159292125,-0.40884127122357694,-0.4059707873815278,-0.4030962927619327,-0.4002178157632836,-0.39733538482341874,-0.3944490284192367,-0.3915587750664176,-0.388664653319144,-0.38576669176981343,-0.3828649190487588,-0.3799593638239678,-0.3770500548007948,-0.3741370207216806,-0.3712202903658666,-0.36829989254911427,-0.3653758561234148,-0.3624482099767071,-0.35951698303259483,-0.3565822042500554,-0.3536439026231564,-0.35070210718077205,-0.34775684698629095,-0.3448081511373316,-0.34185604876545755,-0.3389005690358845,-0.33594174114719544,-0.3329795943310506,-0.33001415785190197,-0.3270454610066992,-0.32407353312460246,-0.3210984035666957,-0.318120101725691,-0.315138657025641,-0.3121540989216505,-0.30916645689958083,-0.3061757604757606,-0.303182039196697,-0.30018532263877845,-0.2971856404079862,-0.29418302213959974,-0.2911774974979078,-0.2881690961759099,-0.2851578478950257,-0.2821437824048037,-0.2791269294826227,-0.2761073189333995,-0.2730849805892977,-0.2700599443094272,-0.2670322399795524,-0.2640018975117989,-0.2609689468443534,-0.2579334179411709,-0.25489534079167725,-0.25185474541047614,-0.2488116618370476,-0.24576612013545357,-0.24271815039404365,-0.2396677827251526,-0.23661504726480545,-0.23355997417242227,-0.23050259363051526,-0.22744293584439285,-0.22438103104186416,-0.221316909472935,-0.2182506014095125,-0.2151821371451044,-0.21211154699452314,-0.20903886129358118,-0.20596411039879395,-0.20288732468708245,-0.1998085345554681,-0.1967277704207748,-0.1936450627193313,-0.19056044190666505,-0.1874739384572041,-0.18438558286397852,-0.181295405638314,-0.1782034373095339,-0.17510970842465579,-0.1720142495480933,-0.1689170912613488,-0.16581826416271395,-0.16271779886697002,-0.15961572600508017,-0.15651207622388946,-0.15340688018582477,-0.15030016856858644,-0.14719197206484805,-0.14408232138195565,-0.1409712472416192,-0.13785878037961252,-0.13474495154546792,-0.13162979150217594,-0.1285133310258761,-0.12539560090555552,-0.12227663194274736,-0.1191564549512213,-0.11603510075668165,-0.11291260019646553,-0.10978898411923292,-0.1066642833846645,-0.10353852886315942,-0.10041175143552511,-0.09728398199267561,-0.09415525143532465,-0.09102559067368395,-0.08789503062715248,-0.08476360222401369,-0.0816313364011326,-0.0784982641036448,-0.07536441628465346,-0.07222982390492613,-0.06909451793258359,-0.06595852934279653,-0.0628218891174822,-0.059684628244992995,-0.05654677771981388,-0.053408368542254385,-0.050269431718145886,-0.04712999825852999,-0.043990099179354765,-0.040849765501171045,-0.03770902824882061,-0.03456791845113233,-0.03142646714061829,-0.028284705353161875,-0.025142664127714726,-0.022000374505988275,-0.018857867532150657,-0.015715174252514653,-0.012572325715233661,-0.0094293529699976,-0.006286287067720833,-0.0031431590602380684,-2.4492935982947064e-16]}},\"id\":\"cab701b1-8197-42cc-a44d-fffb6cfd05ff\",\"type\":\"ColumnDataSource\"},{\"attributes\":{\"formatter\":{\"id\":\"d19ff29a-84a7-40fa-b81d-6a4599ddf5c7\",\"type\":\"BasicTickFormatter\"},\"plot\":{\"id\":\"a38c7fb6-4171-4a21-84c7-3f07a3faba42\",\"subtype\":\"Figure\",\"type\":\"Plot\"},\"ticker\":{\"id\":\"7bc964f8-1410-45b6-99e5-9a36c4c5527c\",\"type\":\"BasicTicker\"}},\"id\":\"9c79a6a5-6310-49ba-9cbd-8f6e38ce8209\",\"type\":\"LinearAxis\"},{\"attributes\":{\"below\":[{\"id\":\"9c79a6a5-6310-49ba-9cbd-8f6e38ce8209\",\"type\":\"LinearAxis\"}],\"left\":[{\"id\":\"1deef5dc-222f-4c5c-ad4c-b919bb65f700\",\"type\":\"LinearAxis\"}],\"plot_height\":300,\"renderers\":[{\"id\":\"9c79a6a5-6310-49ba-9cbd-8f6e38ce8209\",\"type\":\"LinearAxis\"},{\"id\":\"ba1bacb3-4e92-47ed-9f99-c922f511126e\",\"type\":\"Grid\"},{\"id\":\"1deef5dc-222f-4c5c-ad4c-b919bb65f700\",\"type\":\"LinearAxis\"},{\"id\":\"0ec87696-463c-473d-bd07-96760e1baaca\",\"type\":\"Grid\"},{\"id\":\"781a2185-8147-45c6-9094-d798f42479ec\",\"type\":\"BoxAnnotation\"},{\"id\":\"5addf804-7954-4d9d-9794-c2b9b985657d\",\"type\":\"GlyphRenderer\"}],\"title\":\"simple line example\",\"tool_events\":{\"id\":\"2c3fcaf0-e700-489a-bceb-3e1f5db64c71\",\"type\":\"ToolEvents\"},\"tools\":[{\"id\":\"11bca8e0-3477-4cb0-ad7f-7e962b5dd597\",\"type\":\"PanTool\"},{\"id\":\"55160f52-3d12-4d98-9fb0-41286976144c\",\"type\":\"WheelZoomTool\"},{\"id\":\"18f02b82-b772-443b-91cf-2e2111840c43\",\"type\":\"BoxZoomTool\"},{\"id\":\"10880c62-08ec-416e-b8a4-ba4a331433ae\",\"type\":\"PreviewSaveTool\"},{\"id\":\"4e5ad550-4b76-417d-8c95-f5a48e6d7112\",\"type\":\"ResizeTool\"},{\"id\":\"c8cc9739-b762-448c-944a-0eb86d8f1d06\",\"type\":\"ResetTool\"},{\"id\":\"c4577f0f-b38a-46f1-bba3-a47fb0f87df4\",\"type\":\"HelpTool\"}],\"x_range\":{\"id\":\"2a3035b6-3268-45e3-80f2-6116607310bd\",\"type\":\"DataRange1d\"},\"y_range\":{\"id\":\"ea1f4b06-8e66-43bb-b000-87b01d3f8c06\",\"type\":\"Range1d\"}},\"id\":\"a38c7fb6-4171-4a21-84c7-3f07a3faba42\",\"subtype\":\"Figure\",\"type\":\"Plot\"},{\"attributes\":{\"line_color\":{\"value\":\"#2222aa\"},\"line_width\":{\"value\":3},\"x\":{\"field\":\"x\"},\"y\":{\"field\":\"y\"}},\"id\":\"877f4113-2d42-496c-b4d5-098cd558704b\",\"type\":\"Line\"},{\"attributes\":{},\"id\":\"d19ff29a-84a7-40fa-b81d-6a4599ddf5c7\",\"type\":\"BasicTickFormatter\"},{\"attributes\":{},\"id\":\"7bc964f8-1410-45b6-99e5-9a36c4c5527c\",\"type\":\"BasicTicker\"},{\"attributes\":{\"callback\":null,\"end\":5,\"start\":-5},\"id\":\"ea1f4b06-8e66-43bb-b000-87b01d3f8c06\",\"type\":\"Range1d\"},{\"attributes\":{\"plot\":{\"id\":\"a38c7fb6-4171-4a21-84c7-3f07a3faba42\",\"subtype\":\"Figure\",\"type\":\"Plot\"}},\"id\":\"55160f52-3d12-4d98-9fb0-41286976144c\",\"type\":\"WheelZoomTool\"},{\"attributes\":{\"plot\":{\"id\":\"a38c7fb6-4171-4a21-84c7-3f07a3faba42\",\"subtype\":\"Figure\",\"type\":\"Plot\"}},\"id\":\"10880c62-08ec-416e-b8a4-ba4a331433ae\",\"type\":\"PreviewSaveTool\"},{\"attributes\":{},\"id\":\"31d889b9-56b5-4966-9916-622e215e66c3\",\"type\":\"BasicTicker\"},{\"attributes\":{\"formatter\":{\"id\":\"cecb042b-5c38-4e78-8f71-7d385fccfd27\",\"type\":\"BasicTickFormatter\"},\"plot\":{\"id\":\"a38c7fb6-4171-4a21-84c7-3f07a3faba42\",\"subtype\":\"Figure\",\"type\":\"Plot\"},\"ticker\":{\"id\":\"31d889b9-56b5-4966-9916-622e215e66c3\",\"type\":\"BasicTicker\"}},\"id\":\"1deef5dc-222f-4c5c-ad4c-b919bb65f700\",\"type\":\"LinearAxis\"},{\"attributes\":{\"plot\":{\"id\":\"a38c7fb6-4171-4a21-84c7-3f07a3faba42\",\"subtype\":\"Figure\",\"type\":\"Plot\"}},\"id\":\"4e5ad550-4b76-417d-8c95-f5a48e6d7112\",\"type\":\"ResizeTool\"},{\"attributes\":{\"plot\":{\"id\":\"a38c7fb6-4171-4a21-84c7-3f07a3faba42\",\"subtype\":\"Figure\",\"type\":\"Plot\"}},\"id\":\"11bca8e0-3477-4cb0-ad7f-7e962b5dd597\",\"type\":\"PanTool\"},{\"attributes\":{\"plot\":{\"id\":\"a38c7fb6-4171-4a21-84c7-3f07a3faba42\",\"subtype\":\"Figure\",\"type\":\"Plot\"}},\"id\":\"c8cc9739-b762-448c-944a-0eb86d8f1d06\",\"type\":\"ResetTool\"},{\"attributes\":{},\"id\":\"2c3fcaf0-e700-489a-bceb-3e1f5db64c71\",\"type\":\"ToolEvents\"},{\"attributes\":{\"plot\":{\"id\":\"a38c7fb6-4171-4a21-84c7-3f07a3faba42\",\"subtype\":\"Figure\",\"type\":\"Plot\"}},\"id\":\"c4577f0f-b38a-46f1-bba3-a47fb0f87df4\",\"type\":\"HelpTool\"},{\"attributes\":{\"overlay\":{\"id\":\"781a2185-8147-45c6-9094-d798f42479ec\",\"type\":\"BoxAnnotation\"},\"plot\":{\"id\":\"a38c7fb6-4171-4a21-84c7-3f07a3faba42\",\"subtype\":\"Figure\",\"type\":\"Plot\"}},\"id\":\"18f02b82-b772-443b-91cf-2e2111840c43\",\"type\":\"BoxZoomTool\"}],\"root_ids\":[\"a38c7fb6-4171-4a21-84c7-3f07a3faba42\"]},\"title\":\"Bokeh Application\",\"version\":\"0.11.1\"}};\n",
       "\n",
       "            var render_items = [{\"docid\":\"c05b6d9c-14f0-44f7-9ae5-bfdadda7a8f6\",\"elementid\":\"f49a6817-8243-4291-8f7c-ea343d55e260\",\"modelid\":\"a38c7fb6-4171-4a21-84c7-3f07a3faba42\"}];\n",
       "\n",
       "            \n",
       "\n",
       "            Bokeh.embed.embed_items(docs_json, render_items);\n",
       "\n",
       "        });\n",
       "\n",
       "        </script>\n",
       "\n",
       "    </body>\n",
       "\n",
       "</html>\n"
      ],
      "text/plain": [
       "<IPython.core.display.HTML object>"
      ]
     },
     "metadata": {},
     "output_type": "display_data"
    }
   ],
   "source": [
    "bokeh_line_test|html"
   ]
  },
  {
   "cell_type": "code",
   "execution_count": 43,
   "metadata": {
    "collapsed": false
   },
   "outputs": [
    {
     "data": {
      "text/html": [
       "<table><tr><th>col1</th>\n",
       "\n",
       "<th>col2</th>\n",
       "\n",
       "<th>col3</th>\n",
       "\n",
       "<th>col4</th>\n",
       "\n",
       "</tr>\n",
       "\n",
       "<tr><td>val1</td>\n",
       "\n",
       "    <td>val2</td>\n",
       "\n",
       "    <td>val3</td>\n",
       "\n",
       "    <td>val4</td>\n",
       "\n",
       "</tr>\n",
       "\n",
       "<tr><td>valu1</td>\n",
       "\n",
       "    <td>value2</td>\n",
       "\n",
       "    <td>value3</td>\n",
       "\n",
       "    <td>val4</td>\n",
       "\n",
       "</tr></table>\n"
      ],
      "text/plain": [
       "<IPython.core.display.HTML object>"
      ]
     },
     "metadata": {},
     "output_type": "display_data"
    }
   ],
   "source": [
    "test_html_table|html"
   ]
  },
  {
   "cell_type": "code",
   "execution_count": 44,
   "metadata": {
    "collapsed": false
   },
   "outputs": [
    {
     "data": {
      "text/html": [
       "<table><tr><th>col1</th>\n",
       "\n",
       "<th>col2</th>\n",
       "\n",
       "<th>col3</th>\n",
       "\n",
       "<th>col4</th>\n",
       "\n",
       "</tr>\n",
       "\n",
       "<tr><td>val1</td>\n",
       "\n",
       "    <td>val2</td>\n",
       "\n",
       "    <td>val3</td>\n",
       "\n",
       "    <td>val4</td>\n",
       "\n",
       "</tr>\n",
       "\n",
       "<tr><td>valu1</td>\n",
       "\n",
       "    <td>value2</td>\n",
       "\n",
       "    <td>value3</td>\n",
       "\n",
       "    <td>val4</td>\n",
       "\n",
       "</tr></table>\n"
      ],
      "text/plain": [
       "<IPython.core.display.HTML object>"
      ]
     },
     "metadata": {},
     "output_type": "display_data"
    }
   ],
   "source": [
    "#{bokeh_piechart_test;test_html_table}|html\n",
    "test_html_table|html"
   ]
  },
  {
   "cell_type": "code",
   "execution_count": 45,
   "metadata": {
    "collapsed": false
   },
   "outputs": [
    {
     "data": {
      "text/html": [
       "\n",
       "\n",
       "<!DOCTYPE html>\n",
       "\n",
       "<html lang=\"en\">\n",
       "\n",
       "    <head>\n",
       "\n",
       "        <meta charset=\"utf-8\">\n",
       "\n",
       "        <title>my pie-chart plot</title>\n",
       "\n",
       "        \n",
       "\n",
       "<link rel=\"stylesheet\" href=\"https://cdn.pydata.org/bokeh/release/bokeh-0.11.1.min.css\" type=\"text/css\" />\n",
       "\n",
       "        \n",
       "\n",
       "<script type=\"text/javascript\" src=\"https://cdn.pydata.org/bokeh/release/bokeh-0.11.1.min.js\"></script>\n",
       "\n",
       "<script type=\"text/javascript\">\n",
       "\n",
       "    Bokeh.set_log_level(\"info\");\n",
       "\n",
       "</script>\n",
       "\n",
       "    </head>\n",
       "\n",
       "    <body>\n",
       "\n",
       "        \n",
       "\n",
       "        <div class=\"plotdiv\" id=\"cd96248e-c86c-4337-9c83-cf4fe4681e23\"></div>\n",
       "\n",
       "        \n",
       "\n",
       "        <script type=\"text/javascript\">\n",
       "\n",
       "            Bokeh.$(function() {\n",
       "\n",
       "            var docs_json = {\"42973189-3ef2-4fbd-8a5c-e4b62214848b\":{\"roots\":{\"references\":[{\"attributes\":{\"bottom_units\":\"screen\",\"fill_alpha\":{\"value\":0.5},\"fill_color\":{\"value\":\"lightgrey\"},\"left_units\":\"screen\",\"level\":\"overlay\",\"line_alpha\":{\"value\":1.0},\"line_color\":{\"value\":\"black\"},\"line_dash\":[4,4],\"line_width\":{\"value\":2},\"plot\":null,\"render_mode\":\"css\",\"right_units\":\"screen\",\"top_units\":\"screen\"},\"id\":\"4a38daa3-196b-47db-b57a-0b39252fb2f2\",\"type\":\"BoxAnnotation\"},{\"attributes\":{},\"id\":\"4e41a41f-7eea-4d53-a72e-9f070f0781bd\",\"type\":\"ToolEvents\"},{\"attributes\":{\"overlay\":{\"id\":\"4a38daa3-196b-47db-b57a-0b39252fb2f2\",\"type\":\"BoxAnnotation\"},\"plot\":{\"id\":\"d1269640-8c3d-456a-93e2-7405b10687fa\",\"subtype\":\"Figure\",\"type\":\"Plot\"}},\"id\":\"3b780e71-a932-4f84-88dd-71007e863a16\",\"type\":\"BoxZoomTool\"},{\"attributes\":{\"callback\":null,\"start\":-1},\"id\":\"8553dac5-e525-4537-b55c-f0698de270ef\",\"type\":\"Range1d\"},{\"attributes\":{\"formatter\":{\"id\":\"9670fe88-67b0-40ef-888f-7266920290cf\",\"type\":\"BasicTickFormatter\"},\"plot\":{\"id\":\"d1269640-8c3d-456a-93e2-7405b10687fa\",\"subtype\":\"Figure\",\"type\":\"Plot\"},\"ticker\":{\"id\":\"e32116d2-0b74-4234-a9b4-6b205775f078\",\"type\":\"BasicTicker\"}},\"id\":\"ac91918e-2965-4d10-b034-6e255d15427d\",\"type\":\"LinearAxis\"},{\"attributes\":{},\"id\":\"1ce0d1de-3870-4f5e-9d1e-b076e44cf395\",\"type\":\"BasicTickFormatter\"},{\"attributes\":{\"plot\":{\"id\":\"d1269640-8c3d-456a-93e2-7405b10687fa\",\"subtype\":\"Figure\",\"type\":\"Plot\"}},\"id\":\"ed98d298-1538-4139-ac22-2f3299953f2d\",\"type\":\"WheelZoomTool\"},{\"attributes\":{\"dimension\":1,\"plot\":{\"id\":\"d1269640-8c3d-456a-93e2-7405b10687fa\",\"subtype\":\"Figure\",\"type\":\"Plot\"},\"ticker\":{\"id\":\"6ae26472-7a98-47cd-be70-17cdf90a038a\",\"type\":\"BasicTicker\"}},\"id\":\"b5f0ede7-6f6c-4fb1-a174-7568c1c6a04f\",\"type\":\"Grid\"},{\"attributes\":{\"plot\":{\"id\":\"d1269640-8c3d-456a-93e2-7405b10687fa\",\"subtype\":\"Figure\",\"type\":\"Plot\"}},\"id\":\"58b8f49f-2b4f-4f7a-b5ca-70a39e4c6ea0\",\"type\":\"ResizeTool\"},{\"attributes\":{\"end_angle\":{\"field\":\"end_angle\",\"units\":\"rad\"},\"fill_alpha\":{\"value\":0.1},\"fill_color\":{\"value\":\"#1f77b4\"},\"line_alpha\":{\"value\":0.1},\"line_color\":{\"value\":\"#1f77b4\"},\"radius\":{\"units\":\"data\",\"value\":1},\"start_angle\":{\"field\":\"start_angle\",\"units\":\"rad\"},\"x\":{\"value\":0},\"y\":{\"value\":0}},\"id\":\"d3ccd498-fc3f-4432-a80f-98dc2a51189a\",\"type\":\"Wedge\"},{\"attributes\":{\"callback\":null,\"start\":-1},\"id\":\"28fcc832-ecb1-4a93-9d53-b3179e2d3a83\",\"type\":\"Range1d\"},{\"attributes\":{\"plot\":{\"id\":\"d1269640-8c3d-456a-93e2-7405b10687fa\",\"subtype\":\"Figure\",\"type\":\"Plot\"}},\"id\":\"d5ddf1ab-438f-4bba-93a8-0f205d7b02d7\",\"type\":\"PreviewSaveTool\"},{\"attributes\":{\"plot\":{\"id\":\"d1269640-8c3d-456a-93e2-7405b10687fa\",\"subtype\":\"Figure\",\"type\":\"Plot\"}},\"id\":\"19669c3c-98f4-47c8-9dee-759fb5906c5e\",\"type\":\"ResetTool\"},{\"attributes\":{\"below\":[{\"id\":\"ac91918e-2965-4d10-b034-6e255d15427d\",\"type\":\"LinearAxis\"}],\"left\":[{\"id\":\"18c93bfb-0f8c-4c3a-881f-2041a2d847d2\",\"type\":\"LinearAxis\"}],\"renderers\":[{\"id\":\"ac91918e-2965-4d10-b034-6e255d15427d\",\"type\":\"LinearAxis\"},{\"id\":\"66e0fb86-c13f-4a9e-8302-6570a3c8cd59\",\"type\":\"Grid\"},{\"id\":\"18c93bfb-0f8c-4c3a-881f-2041a2d847d2\",\"type\":\"LinearAxis\"},{\"id\":\"b5f0ede7-6f6c-4fb1-a174-7568c1c6a04f\",\"type\":\"Grid\"},{\"id\":\"4a38daa3-196b-47db-b57a-0b39252fb2f2\",\"type\":\"BoxAnnotation\"},{\"id\":\"5d175dfd-1d34-4485-944f-105e940b1b61\",\"type\":\"GlyphRenderer\"}],\"tool_events\":{\"id\":\"4e41a41f-7eea-4d53-a72e-9f070f0781bd\",\"type\":\"ToolEvents\"},\"tools\":[{\"id\":\"c49b68fd-a149-480c-b8a2-a44490bf5da8\",\"type\":\"PanTool\"},{\"id\":\"ed98d298-1538-4139-ac22-2f3299953f2d\",\"type\":\"WheelZoomTool\"},{\"id\":\"3b780e71-a932-4f84-88dd-71007e863a16\",\"type\":\"BoxZoomTool\"},{\"id\":\"d5ddf1ab-438f-4bba-93a8-0f205d7b02d7\",\"type\":\"PreviewSaveTool\"},{\"id\":\"58b8f49f-2b4f-4f7a-b5ca-70a39e4c6ea0\",\"type\":\"ResizeTool\"},{\"id\":\"19669c3c-98f4-47c8-9dee-759fb5906c5e\",\"type\":\"ResetTool\"},{\"id\":\"a6b18808-f976-4f79-afec-7b2f312fa955\",\"type\":\"HelpTool\"}],\"x_range\":{\"id\":\"8553dac5-e525-4537-b55c-f0698de270ef\",\"type\":\"Range1d\"},\"y_range\":{\"id\":\"28fcc832-ecb1-4a93-9d53-b3179e2d3a83\",\"type\":\"Range1d\"}},\"id\":\"d1269640-8c3d-456a-93e2-7405b10687fa\",\"subtype\":\"Figure\",\"type\":\"Plot\"},{\"attributes\":{},\"id\":\"9670fe88-67b0-40ef-888f-7266920290cf\",\"type\":\"BasicTickFormatter\"},{\"attributes\":{},\"id\":\"6ae26472-7a98-47cd-be70-17cdf90a038a\",\"type\":\"BasicTicker\"},{\"attributes\":{\"data_source\":{\"id\":\"7d5c5bbe-0e91-44e1-a1f1-a8e5568aa34b\",\"type\":\"ColumnDataSource\"},\"glyph\":{\"id\":\"b3bf2023-7074-47a3-b5df-db2dbf2b13de\",\"type\":\"Wedge\"},\"hover_glyph\":null,\"nonselection_glyph\":{\"id\":\"d3ccd498-fc3f-4432-a80f-98dc2a51189a\",\"type\":\"Wedge\"},\"selection_glyph\":null},\"id\":\"5d175dfd-1d34-4485-944f-105e940b1b61\",\"type\":\"GlyphRenderer\"},{\"attributes\":{\"formatter\":{\"id\":\"1ce0d1de-3870-4f5e-9d1e-b076e44cf395\",\"type\":\"BasicTickFormatter\"},\"plot\":{\"id\":\"d1269640-8c3d-456a-93e2-7405b10687fa\",\"subtype\":\"Figure\",\"type\":\"Plot\"},\"ticker\":{\"id\":\"6ae26472-7a98-47cd-be70-17cdf90a038a\",\"type\":\"BasicTicker\"}},\"id\":\"18c93bfb-0f8c-4c3a-881f-2041a2d847d2\",\"type\":\"LinearAxis\"},{\"attributes\":{\"end_angle\":{\"field\":\"end_angle\",\"units\":\"rad\"},\"fill_color\":{\"field\":\"fill_color\"},\"line_color\":{\"field\":\"line_color\"},\"radius\":{\"units\":\"data\",\"value\":1},\"start_angle\":{\"field\":\"start_angle\",\"units\":\"rad\"},\"x\":{\"value\":0},\"y\":{\"value\":0}},\"id\":\"b3bf2023-7074-47a3-b5df-db2dbf2b13de\",\"type\":\"Wedge\"},{\"attributes\":{\"plot\":{\"id\":\"d1269640-8c3d-456a-93e2-7405b10687fa\",\"subtype\":\"Figure\",\"type\":\"Plot\"},\"ticker\":{\"id\":\"e32116d2-0b74-4234-a9b4-6b205775f078\",\"type\":\"BasicTicker\"}},\"id\":\"66e0fb86-c13f-4a9e-8302-6570a3c8cd59\",\"type\":\"Grid\"},{\"attributes\":{\"callback\":null,\"column_names\":[\"start_angle\",\"end_angle\",\"line_color\",\"fill_color\"],\"data\":{\"end_angle\":[1.8849555921538759,2.5132741228718345,3.7699111843077517,5.654866776461628,6.283185307179586],\"fill_color\":[\"red\",\"green\",\"blue\",\"orange\",\"yellow\"],\"line_color\":[\"red\",\"green\",\"blue\",\"orange\",\"yellow\"],\"start_angle\":[0.0,1.8849555921538759,2.5132741228718345,3.7699111843077517,5.654866776461628]}},\"id\":\"7d5c5bbe-0e91-44e1-a1f1-a8e5568aa34b\",\"type\":\"ColumnDataSource\"},{\"attributes\":{\"plot\":{\"id\":\"d1269640-8c3d-456a-93e2-7405b10687fa\",\"subtype\":\"Figure\",\"type\":\"Plot\"}},\"id\":\"c49b68fd-a149-480c-b8a2-a44490bf5da8\",\"type\":\"PanTool\"},{\"attributes\":{\"plot\":{\"id\":\"d1269640-8c3d-456a-93e2-7405b10687fa\",\"subtype\":\"Figure\",\"type\":\"Plot\"}},\"id\":\"a6b18808-f976-4f79-afec-7b2f312fa955\",\"type\":\"HelpTool\"},{\"attributes\":{},\"id\":\"e32116d2-0b74-4234-a9b4-6b205775f078\",\"type\":\"BasicTicker\"}],\"root_ids\":[\"d1269640-8c3d-456a-93e2-7405b10687fa\"]},\"title\":\"Bokeh Application\",\"version\":\"0.11.1\"}};\n",
       "\n",
       "            var render_items = [{\"docid\":\"42973189-3ef2-4fbd-8a5c-e4b62214848b\",\"elementid\":\"cd96248e-c86c-4337-9c83-cf4fe4681e23\",\"modelid\":\"d1269640-8c3d-456a-93e2-7405b10687fa\"}];\n",
       "\n",
       "            \n",
       "\n",
       "            Bokeh.embed.embed_items(docs_json, render_items);\n",
       "\n",
       "        });\n",
       "\n",
       "        </script>\n",
       "\n",
       "    </body>\n",
       "\n",
       "</html>\n",
       "\n",
       "<table><tr><th>col1</th>\n",
       "\n",
       "<th>col2</th>\n",
       "\n",
       "<th>col3</th>\n",
       "\n",
       "<th>col4</th>\n",
       "\n",
       "</tr>\n",
       "\n",
       "<tr><td>val1</td>\n",
       "\n",
       "    <td>val2</td>\n",
       "\n",
       "    <td>val3</td>\n",
       "\n",
       "    <td>val4</td>\n",
       "\n",
       "</tr>\n",
       "\n",
       "<tr><td>valu1</td>\n",
       "\n",
       "    <td>value2</td>\n",
       "\n",
       "    <td>value3</td>\n",
       "\n",
       "    <td>val4</td>\n",
       "\n",
       "</tr></table>\n"
      ],
      "text/plain": [
       "<IPython.core.display.HTML object>"
      ]
     },
     "metadata": {},
     "output_type": "display_data"
    }
   ],
   "source": [
    "(bokeh_piechart_test;test_html_table)|html"
   ]
  },
  {
   "cell_type": "code",
   "execution_count": 46,
   "metadata": {
    "collapsed": false
   },
   "outputs": [
    {
     "data": {
      "text/plain": [
       "[Tue, Jul 05, 2016 12:33:00 PM] Sourcing <</home/mjbright/.metakernelrc>>"
      ]
     },
     "execution_count": 46,
     "metadata": {},
     "output_type": "execute_result"
    }
   ],
   "source": [
    "source ~/.metakernelrc"
   ]
  },
  {
   "cell_type": "code",
   "execution_count": 47,
   "metadata": {
    "collapsed": false
   },
   "outputs": [
    {
     "data": {
      "text/html": [
       "<table><tr><th>A</th>\n",
       "\n",
       "</tr>\n",
       "\n",
       "<tr><td>B</td>\n",
       "\n",
       "</tr></table>\n"
      ],
      "text/plain": [
       "<IPython.core.display.HTML object>"
      ]
     },
     "metadata": {},
     "output_type": "display_data"
    }
   ],
   "source": [
    "echo \"\n",
    "+---+\n",
    "| A |\n",
    "+---+\n",
    "| B |\n",
    "+---+\n",
    "\" | html_table|html"
   ]
  },
  {
   "cell_type": "code",
   "execution_count": 48,
   "metadata": {
    "collapsed": false
   },
   "outputs": [
    {
     "data": {
      "text/html": [
       "\n",
       "\n",
       "<!DOCTYPE html>\n",
       "\n",
       "<html lang=\"en\">\n",
       "\n",
       "    <head>\n",
       "\n",
       "        <meta charset=\"utf-8\">\n",
       "\n",
       "        <title>my pie-chart plot</title>\n",
       "\n",
       "        \n",
       "\n",
       "<link rel=\"stylesheet\" href=\"https://cdn.pydata.org/bokeh/release/bokeh-0.11.1.min.css\" type=\"text/css\" />\n",
       "\n",
       "        \n",
       "\n",
       "<script type=\"text/javascript\" src=\"https://cdn.pydata.org/bokeh/release/bokeh-0.11.1.min.js\"></script>\n",
       "\n",
       "<script type=\"text/javascript\">\n",
       "\n",
       "    Bokeh.set_log_level(\"info\");\n",
       "\n",
       "</script>\n",
       "\n",
       "    </head>\n",
       "\n",
       "    <body>\n",
       "\n",
       "        \n",
       "\n",
       "        <div class=\"plotdiv\" id=\"4bc5c68b-818a-4b4c-826e-db53bfd145b2\"></div>\n",
       "\n",
       "        \n",
       "\n",
       "        <script type=\"text/javascript\">\n",
       "\n",
       "            Bokeh.$(function() {\n",
       "\n",
       "            var docs_json = {\"8c6e4015-78fd-437c-a6e5-7de92acb76ad\":{\"roots\":{\"references\":[{\"attributes\":{\"plot\":{\"id\":\"b9159d39-cf2f-4b55-a630-d325382f45cd\",\"subtype\":\"Figure\",\"type\":\"Plot\"}},\"id\":\"a4754559-cded-4820-a5ce-4749b709e980\",\"type\":\"PreviewSaveTool\"},{\"attributes\":{\"plot\":{\"id\":\"b9159d39-cf2f-4b55-a630-d325382f45cd\",\"subtype\":\"Figure\",\"type\":\"Plot\"}},\"id\":\"e1cb41dd-ce5a-4b68-9718-553f18deb3bb\",\"type\":\"ResetTool\"},{\"attributes\":{\"bottom_units\":\"screen\",\"fill_alpha\":{\"value\":0.5},\"fill_color\":{\"value\":\"lightgrey\"},\"left_units\":\"screen\",\"level\":\"overlay\",\"line_alpha\":{\"value\":1.0},\"line_color\":{\"value\":\"black\"},\"line_dash\":[4,4],\"line_width\":{\"value\":2},\"plot\":null,\"render_mode\":\"css\",\"right_units\":\"screen\",\"top_units\":\"screen\"},\"id\":\"39c55030-533c-4f09-a934-9c3328d99adf\",\"type\":\"BoxAnnotation\"},{\"attributes\":{\"formatter\":{\"id\":\"1054e357-f7ad-48f4-896f-1154341da257\",\"type\":\"BasicTickFormatter\"},\"plot\":{\"id\":\"b9159d39-cf2f-4b55-a630-d325382f45cd\",\"subtype\":\"Figure\",\"type\":\"Plot\"},\"ticker\":{\"id\":\"687978b8-d989-4ea0-8723-6820f453d852\",\"type\":\"BasicTicker\"}},\"id\":\"c61444ab-c784-499f-9ccb-4a4999a89e25\",\"type\":\"LinearAxis\"},{\"attributes\":{},\"id\":\"6c61deb1-b3f4-477f-a244-a6103376a5ee\",\"type\":\"BasicTicker\"},{\"attributes\":{\"callback\":null,\"column_names\":[\"start_angle\",\"end_angle\",\"line_color\",\"fill_color\"],\"data\":{\"end_angle\":[1.8849555921538759,2.5132741228718345,3.7699111843077517,5.654866776461628,6.283185307179586],\"fill_color\":[\"red\",\"green\",\"blue\",\"orange\",\"yellow\"],\"line_color\":[\"red\",\"green\",\"blue\",\"orange\",\"yellow\"],\"start_angle\":[0.0,1.8849555921538759,2.5132741228718345,3.7699111843077517,5.654866776461628]}},\"id\":\"e1c8e80b-8be9-492e-8898-cc8881d5abbf\",\"type\":\"ColumnDataSource\"},{\"attributes\":{\"end_angle\":{\"field\":\"end_angle\",\"units\":\"rad\"},\"fill_alpha\":{\"value\":0.1},\"fill_color\":{\"value\":\"#1f77b4\"},\"line_alpha\":{\"value\":0.1},\"line_color\":{\"value\":\"#1f77b4\"},\"radius\":{\"units\":\"data\",\"value\":1},\"start_angle\":{\"field\":\"start_angle\",\"units\":\"rad\"},\"x\":{\"value\":0},\"y\":{\"value\":0}},\"id\":\"c01f4751-fdd1-4aa7-b4d9-a83538f6cd66\",\"type\":\"Wedge\"},{\"attributes\":{\"callback\":null,\"start\":-1},\"id\":\"3b89f9a1-d819-4bd9-952b-426a87e7e540\",\"type\":\"Range1d\"},{\"attributes\":{\"data_source\":{\"id\":\"e1c8e80b-8be9-492e-8898-cc8881d5abbf\",\"type\":\"ColumnDataSource\"},\"glyph\":{\"id\":\"708e46c7-9e49-420a-844e-038a432e4eed\",\"type\":\"Wedge\"},\"hover_glyph\":null,\"nonselection_glyph\":{\"id\":\"c01f4751-fdd1-4aa7-b4d9-a83538f6cd66\",\"type\":\"Wedge\"},\"selection_glyph\":null},\"id\":\"4969e57e-30a2-4378-ab98-59c7540311a9\",\"type\":\"GlyphRenderer\"},{\"attributes\":{\"plot\":{\"id\":\"b9159d39-cf2f-4b55-a630-d325382f45cd\",\"subtype\":\"Figure\",\"type\":\"Plot\"}},\"id\":\"cd5781e0-bedc-4f8b-b400-219c7514ebce\",\"type\":\"ResizeTool\"},{\"attributes\":{\"callback\":null,\"start\":-1},\"id\":\"2f5f4136-6aeb-4a2b-bfd7-0a94288bf8db\",\"type\":\"Range1d\"},{\"attributes\":{},\"id\":\"f08f95f3-08ca-4af4-8136-cf4967a087cc\",\"type\":\"BasicTickFormatter\"},{\"attributes\":{\"formatter\":{\"id\":\"f08f95f3-08ca-4af4-8136-cf4967a087cc\",\"type\":\"BasicTickFormatter\"},\"plot\":{\"id\":\"b9159d39-cf2f-4b55-a630-d325382f45cd\",\"subtype\":\"Figure\",\"type\":\"Plot\"},\"ticker\":{\"id\":\"6c61deb1-b3f4-477f-a244-a6103376a5ee\",\"type\":\"BasicTicker\"}},\"id\":\"d0a2fa09-68db-4635-8f90-40b1f18ef679\",\"type\":\"LinearAxis\"},{\"attributes\":{\"plot\":{\"id\":\"b9159d39-cf2f-4b55-a630-d325382f45cd\",\"subtype\":\"Figure\",\"type\":\"Plot\"}},\"id\":\"02bca8ae-969d-47e3-bc3f-f6adca53e8a4\",\"type\":\"HelpTool\"},{\"attributes\":{},\"id\":\"ad14345a-d756-487c-827d-03f9b72f8f32\",\"type\":\"ToolEvents\"},{\"attributes\":{\"end_angle\":{\"field\":\"end_angle\",\"units\":\"rad\"},\"fill_color\":{\"field\":\"fill_color\"},\"line_color\":{\"field\":\"line_color\"},\"radius\":{\"units\":\"data\",\"value\":1},\"start_angle\":{\"field\":\"start_angle\",\"units\":\"rad\"},\"x\":{\"value\":0},\"y\":{\"value\":0}},\"id\":\"708e46c7-9e49-420a-844e-038a432e4eed\",\"type\":\"Wedge\"},{\"attributes\":{\"plot\":{\"id\":\"b9159d39-cf2f-4b55-a630-d325382f45cd\",\"subtype\":\"Figure\",\"type\":\"Plot\"}},\"id\":\"f215501f-91d3-409f-9822-3edb64cb991f\",\"type\":\"PanTool\"},{\"attributes\":{\"plot\":{\"id\":\"b9159d39-cf2f-4b55-a630-d325382f45cd\",\"subtype\":\"Figure\",\"type\":\"Plot\"},\"ticker\":{\"id\":\"687978b8-d989-4ea0-8723-6820f453d852\",\"type\":\"BasicTicker\"}},\"id\":\"881698c0-721a-4d57-a71d-ce87cac09c1d\",\"type\":\"Grid\"},{\"attributes\":{},\"id\":\"1054e357-f7ad-48f4-896f-1154341da257\",\"type\":\"BasicTickFormatter\"},{\"attributes\":{\"dimension\":1,\"plot\":{\"id\":\"b9159d39-cf2f-4b55-a630-d325382f45cd\",\"subtype\":\"Figure\",\"type\":\"Plot\"},\"ticker\":{\"id\":\"6c61deb1-b3f4-477f-a244-a6103376a5ee\",\"type\":\"BasicTicker\"}},\"id\":\"8b04945d-63aa-48df-b70f-dfc60a8f1c7b\",\"type\":\"Grid\"},{\"attributes\":{\"overlay\":{\"id\":\"39c55030-533c-4f09-a934-9c3328d99adf\",\"type\":\"BoxAnnotation\"},\"plot\":{\"id\":\"b9159d39-cf2f-4b55-a630-d325382f45cd\",\"subtype\":\"Figure\",\"type\":\"Plot\"}},\"id\":\"92e571c7-5395-4ebb-bd96-fc8b6ebd4028\",\"type\":\"BoxZoomTool\"},{\"attributes\":{\"below\":[{\"id\":\"c61444ab-c784-499f-9ccb-4a4999a89e25\",\"type\":\"LinearAxis\"}],\"left\":[{\"id\":\"d0a2fa09-68db-4635-8f90-40b1f18ef679\",\"type\":\"LinearAxis\"}],\"renderers\":[{\"id\":\"c61444ab-c784-499f-9ccb-4a4999a89e25\",\"type\":\"LinearAxis\"},{\"id\":\"881698c0-721a-4d57-a71d-ce87cac09c1d\",\"type\":\"Grid\"},{\"id\":\"d0a2fa09-68db-4635-8f90-40b1f18ef679\",\"type\":\"LinearAxis\"},{\"id\":\"8b04945d-63aa-48df-b70f-dfc60a8f1c7b\",\"type\":\"Grid\"},{\"id\":\"39c55030-533c-4f09-a934-9c3328d99adf\",\"type\":\"BoxAnnotation\"},{\"id\":\"4969e57e-30a2-4378-ab98-59c7540311a9\",\"type\":\"GlyphRenderer\"}],\"tool_events\":{\"id\":\"ad14345a-d756-487c-827d-03f9b72f8f32\",\"type\":\"ToolEvents\"},\"tools\":[{\"id\":\"f215501f-91d3-409f-9822-3edb64cb991f\",\"type\":\"PanTool\"},{\"id\":\"8788d7fc-6f90-49b9-93cc-0c5471bd4da8\",\"type\":\"WheelZoomTool\"},{\"id\":\"92e571c7-5395-4ebb-bd96-fc8b6ebd4028\",\"type\":\"BoxZoomTool\"},{\"id\":\"a4754559-cded-4820-a5ce-4749b709e980\",\"type\":\"PreviewSaveTool\"},{\"id\":\"cd5781e0-bedc-4f8b-b400-219c7514ebce\",\"type\":\"ResizeTool\"},{\"id\":\"e1cb41dd-ce5a-4b68-9718-553f18deb3bb\",\"type\":\"ResetTool\"},{\"id\":\"02bca8ae-969d-47e3-bc3f-f6adca53e8a4\",\"type\":\"HelpTool\"}],\"x_range\":{\"id\":\"3b89f9a1-d819-4bd9-952b-426a87e7e540\",\"type\":\"Range1d\"},\"y_range\":{\"id\":\"2f5f4136-6aeb-4a2b-bfd7-0a94288bf8db\",\"type\":\"Range1d\"}},\"id\":\"b9159d39-cf2f-4b55-a630-d325382f45cd\",\"subtype\":\"Figure\",\"type\":\"Plot\"},{\"attributes\":{\"plot\":{\"id\":\"b9159d39-cf2f-4b55-a630-d325382f45cd\",\"subtype\":\"Figure\",\"type\":\"Plot\"}},\"id\":\"8788d7fc-6f90-49b9-93cc-0c5471bd4da8\",\"type\":\"WheelZoomTool\"},{\"attributes\":{},\"id\":\"687978b8-d989-4ea0-8723-6820f453d852\",\"type\":\"BasicTicker\"}],\"root_ids\":[\"b9159d39-cf2f-4b55-a630-d325382f45cd\"]},\"title\":\"Bokeh Application\",\"version\":\"0.11.1\"}};\n",
       "\n",
       "            var render_items = [{\"docid\":\"8c6e4015-78fd-437c-a6e5-7de92acb76ad\",\"elementid\":\"4bc5c68b-818a-4b4c-826e-db53bfd145b2\",\"modelid\":\"b9159d39-cf2f-4b55-a630-d325382f45cd\"}];\n",
       "\n",
       "            \n",
       "\n",
       "            Bokeh.embed.embed_items(docs_json, render_items);\n",
       "\n",
       "        });\n",
       "\n",
       "        </script>\n",
       "\n",
       "    </body>\n",
       "\n",
       "</html>\n",
       "\n",
       "<table><tr><th>col1</th>\n",
       "\n",
       "<th>col2</th>\n",
       "\n",
       "<th>col3</th>\n",
       "\n",
       "<th>col4</th>\n",
       "\n",
       "</tr>\n",
       "\n",
       "<tr><td>val1</td>\n",
       "\n",
       "    <td>val2</td>\n",
       "\n",
       "    <td>val3</td>\n",
       "\n",
       "    <td>val4</td>\n",
       "\n",
       "</tr>\n",
       "\n",
       "<tr><td>valu1</td>\n",
       "\n",
       "    <td>value2</td>\n",
       "\n",
       "    <td>value3</td>\n",
       "\n",
       "    <td>val4</td>\n",
       "\n",
       "</tr></table>\n"
      ],
      "text/plain": [
       "<IPython.core.display.HTML object>"
      ]
     },
     "metadata": {},
     "output_type": "display_data"
    }
   ],
   "source": [
    "(bokeh_piechart_test;test_html_table;)|html"
   ]
  },
  {
   "cell_type": "code",
   "execution_count": 49,
   "metadata": {
    "collapsed": false
   },
   "outputs": [
    {
     "data": {
      "text/html": [
       "\n",
       "<!DOCTYPE html>\n",
       "<html lang=\"en\">\n",
       "    <head>\n",
       "        <meta charset=\"utf-8\">\n",
       "        <title>my plot</title>\n",
       "        \n",
       "<link rel=\"stylesheet\" href=\"https://cdn.pydata.org/bokeh/release/bokeh-0.11.1.min.css\" type=\"text/css\" />\n",
       "        \n",
       "<script type=\"text/javascript\" src=\"https://cdn.pydata.org/bokeh/release/bokeh-0.11.1.min.js\"></script>\n",
       "<script type=\"text/javascript\">\n",
       "    Bokeh.set_log_level(\"info\");\n",
       "</script>\n",
       "    </head>\n",
       "    <body>\n",
       "        \n",
       "        <div class=\"plotdiv\" id=\"c81bae67-9635-4c20-b28f-c7337eb04d8b\"></div>\n",
       "        \n",
       "        <script type=\"text/javascript\">\n",
       "            Bokeh.$(function() {\n",
       "            var docs_json = {\"f972127a-8cd3-4427-b23c-a9826155da8b\":{\"roots\":{\"references\":[{\"attributes\":{\"formatter\":{\"id\":\"6da4639a-a88c-45c7-9742-00aa0f0fc49e\",\"type\":\"BasicTickFormatter\"},\"plot\":{\"id\":\"5806546e-d454-4786-ac77-9898c854fe55\",\"subtype\":\"Figure\",\"type\":\"Plot\"},\"ticker\":{\"id\":\"2d8585d1-6dc6-4c85-afa3-f2f8f70ac3e4\",\"type\":\"BasicTicker\"}},\"id\":\"7db95045-1410-46cc-b949-36ede5e3cacc\",\"type\":\"LinearAxis\"},{\"attributes\":{},\"id\":\"91058b23-8cf3-4bd9-af3e-5a8ec677fea8\",\"type\":\"BasicTickFormatter\"},{\"attributes\":{\"data_source\":{\"id\":\"130b5933-8080-474e-bf06-7707e7693797\",\"type\":\"ColumnDataSource\"},\"glyph\":{\"id\":\"a2067635-df13-4600-994f-d1ccbfd02c02\",\"type\":\"Wedge\"},\"hover_glyph\":null,\"nonselection_glyph\":{\"id\":\"ee3f33e2-e621-4b0a-809d-fc1cc61bd0be\",\"type\":\"Wedge\"},\"selection_glyph\":null},\"id\":\"57687910-06c6-48b5-b232-c23235a66b0f\",\"type\":\"GlyphRenderer\"},{\"attributes\":{\"overlay\":{\"id\":\"62995407-fd51-49c9-ae3c-712ef406852f\",\"type\":\"BoxAnnotation\"},\"plot\":{\"id\":\"6de13133-c9d5-40b1-914d-17e42dc360b7\",\"subtype\":\"Figure\",\"type\":\"Plot\"}},\"id\":\"dc5d6fcd-7872-4c99-b90c-41861850df50\",\"type\":\"BoxZoomTool\"},{\"attributes\":{\"plot\":{\"id\":\"1eee09c1-f8ed-4894-b717-5ef17bd9c572\",\"subtype\":\"Figure\",\"type\":\"Plot\"}},\"id\":\"9a1a751a-c334-46b0-b685-0e5a2873f0aa\",\"type\":\"WheelZoomTool\"},{\"attributes\":{},\"id\":\"42216b07-ba08-4654-8047-ebb44c1b0019\",\"type\":\"BasicTicker\"},{\"attributes\":{\"below\":[{\"id\":\"602a5fa6-c5a6-445e-bacf-7240a2e5b1c3\",\"type\":\"LinearAxis\"}],\"left\":[{\"id\":\"751fe6a9-29fb-48cd-9368-9a3a5a0dd992\",\"type\":\"LinearAxis\"}],\"plot_height\":300,\"renderers\":[{\"id\":\"602a5fa6-c5a6-445e-bacf-7240a2e5b1c3\",\"type\":\"LinearAxis\"},{\"id\":\"5d11efdd-cb19-49ac-a26d-f3d30f7798fd\",\"type\":\"Grid\"},{\"id\":\"751fe6a9-29fb-48cd-9368-9a3a5a0dd992\",\"type\":\"LinearAxis\"},{\"id\":\"3f813de9-9d2c-413e-9002-28fef2ffbfb2\",\"type\":\"Grid\"},{\"id\":\"6d8b0508-7b7f-4b85-bf99-3f8850b0b6a6\",\"type\":\"BoxAnnotation\"},{\"id\":\"867f22f8-a395-414f-b4b9-782af23ccbd3\",\"type\":\"GlyphRenderer\"}],\"title\":\"simple line example\",\"tool_events\":{\"id\":\"abb6948e-f0cc-4eef-8378-bfce4a428ee9\",\"type\":\"ToolEvents\"},\"tools\":[{\"id\":\"4893b29f-273e-48dc-aea6-5884677fe8ed\",\"type\":\"PanTool\"},{\"id\":\"9a1a751a-c334-46b0-b685-0e5a2873f0aa\",\"type\":\"WheelZoomTool\"},{\"id\":\"1043f784-c8d2-44e4-bf91-940286be392a\",\"type\":\"BoxZoomTool\"},{\"id\":\"b754c638-603c-4892-a3f2-72cd196d0a77\",\"type\":\"PreviewSaveTool\"},{\"id\":\"09da53d5-7599-427c-953a-77a416379312\",\"type\":\"ResizeTool\"},{\"id\":\"79a0fc0d-4b14-445b-be58-8234a1d0d777\",\"type\":\"ResetTool\"},{\"id\":\"6f4fb9e4-6f74-42c7-865a-ffc9101f6eb6\",\"type\":\"HelpTool\"}],\"x_range\":{\"id\":\"ffb4b77a-3696-4ebf-af4c-8bbc4f8a6869\",\"type\":\"DataRange1d\"},\"y_range\":{\"id\":\"48ac1504-d565-4188-b36f-b3a79d6f652a\",\"type\":\"Range1d\"}},\"id\":\"1eee09c1-f8ed-4894-b717-5ef17bd9c572\",\"subtype\":\"Figure\",\"type\":\"Plot\"},{\"attributes\":{\"callback\":null},\"id\":\"ffb4b77a-3696-4ebf-af4c-8bbc4f8a6869\",\"type\":\"DataRange1d\"},{\"attributes\":{\"bottom_units\":\"screen\",\"fill_alpha\":{\"value\":0.5},\"fill_color\":{\"value\":\"lightgrey\"},\"left_units\":\"screen\",\"level\":\"overlay\",\"line_alpha\":{\"value\":1.0},\"line_color\":{\"value\":\"black\"},\"line_dash\":[4,4],\"line_width\":{\"value\":2},\"plot\":null,\"render_mode\":\"css\",\"right_units\":\"screen\",\"top_units\":\"screen\"},\"id\":\"6d8b0508-7b7f-4b85-bf99-3f8850b0b6a6\",\"type\":\"BoxAnnotation\"},{\"attributes\":{\"plot\":{\"id\":\"1eee09c1-f8ed-4894-b717-5ef17bd9c572\",\"subtype\":\"Figure\",\"type\":\"Plot\"}},\"id\":\"6f4fb9e4-6f74-42c7-865a-ffc9101f6eb6\",\"type\":\"HelpTool\"},{\"attributes\":{\"plot\":{\"id\":\"6de13133-c9d5-40b1-914d-17e42dc360b7\",\"subtype\":\"Figure\",\"type\":\"Plot\"}},\"id\":\"d6b912fd-7cee-47f0-b0b2-f80ef4f5a7d3\",\"type\":\"WheelZoomTool\"},{\"attributes\":{\"bottom_units\":\"screen\",\"fill_alpha\":{\"value\":0.5},\"fill_color\":{\"value\":\"lightgrey\"},\"left_units\":\"screen\",\"level\":\"overlay\",\"line_alpha\":{\"value\":1.0},\"line_color\":{\"value\":\"black\"},\"line_dash\":[4,4],\"line_width\":{\"value\":2},\"plot\":null,\"render_mode\":\"css\",\"right_units\":\"screen\",\"top_units\":\"screen\"},\"id\":\"2caaf9b3-f8c9-4486-afc5-18aa8c7a81a7\",\"type\":\"BoxAnnotation\"},{\"attributes\":{\"plot\":{\"id\":\"5806546e-d454-4786-ac77-9898c854fe55\",\"subtype\":\"Figure\",\"type\":\"Plot\"}},\"id\":\"43b70098-fceb-4025-a12c-1ee970550a37\",\"type\":\"WheelZoomTool\"},{\"attributes\":{},\"id\":\"93a1acd2-49b3-41d6-80d8-fe7726746186\",\"type\":\"BasicTickFormatter\"},{\"attributes\":{\"line_color\":{\"value\":\"#2222aa\"},\"line_width\":{\"value\":3},\"x\":{\"field\":\"x\"},\"y\":{\"field\":\"y\"}},\"id\":\"8eb79b0b-d096-4fca-aa4a-5892ed64812c\",\"type\":\"Line\"},{\"attributes\":{\"overlay\":{\"id\":\"6d8b0508-7b7f-4b85-bf99-3f8850b0b6a6\",\"type\":\"BoxAnnotation\"},\"plot\":{\"id\":\"1eee09c1-f8ed-4894-b717-5ef17bd9c572\",\"subtype\":\"Figure\",\"type\":\"Plot\"}},\"id\":\"1043f784-c8d2-44e4-bf91-940286be392a\",\"type\":\"BoxZoomTool\"},{\"attributes\":{\"fill_color\":{\"value\":\"#1f77b4\"},\"line_color\":{\"value\":\"#1f77b4\"},\"x\":{\"field\":\"x\"},\"y\":{\"field\":\"y\"}},\"id\":\"463c4166-ac8f-4585-b9bf-06c9b120c2b4\",\"type\":\"Circle\"},{\"attributes\":{},\"id\":\"b624bf25-883f-43f1-85ec-74b27d108da7\",\"type\":\"BasicTickFormatter\"},{\"attributes\":{},\"id\":\"0fc9a605-ee7c-44f7-823d-fd8df9ffdf88\",\"type\":\"BasicTickFormatter\"},{\"attributes\":{\"plot\":{\"id\":\"5806546e-d454-4786-ac77-9898c854fe55\",\"subtype\":\"Figure\",\"type\":\"Plot\"}},\"id\":\"a4610080-8a17-48eb-938c-c18d086e0842\",\"type\":\"ResetTool\"},{\"attributes\":{\"formatter\":{\"id\":\"fe282f1f-23e5-464a-8fe6-6cde9eee6646\",\"type\":\"BasicTickFormatter\"},\"plot\":{\"id\":\"1eee09c1-f8ed-4894-b717-5ef17bd9c572\",\"subtype\":\"Figure\",\"type\":\"Plot\"},\"ticker\":{\"id\":\"42216b07-ba08-4654-8047-ebb44c1b0019\",\"type\":\"BasicTicker\"}},\"id\":\"751fe6a9-29fb-48cd-9368-9a3a5a0dd992\",\"type\":\"LinearAxis\"},{\"attributes\":{},\"id\":\"37f3db02-14d8-445c-aca7-01293ef9e245\",\"type\":\"BasicTickFormatter\"},{\"attributes\":{\"plot\":{\"id\":\"6de13133-c9d5-40b1-914d-17e42dc360b7\",\"subtype\":\"Figure\",\"type\":\"Plot\"},\"ticker\":{\"id\":\"d6fa3269-2ecd-46b2-ad9c-1d33e58c776a\",\"type\":\"BasicTicker\"}},\"id\":\"c4fa0306-84a4-4ee1-9939-0cdffd640866\",\"type\":\"Grid\"},{\"attributes\":{\"formatter\":{\"id\":\"0fc9a605-ee7c-44f7-823d-fd8df9ffdf88\",\"type\":\"BasicTickFormatter\"},\"plot\":{\"id\":\"6de13133-c9d5-40b1-914d-17e42dc360b7\",\"subtype\":\"Figure\",\"type\":\"Plot\"},\"ticker\":{\"id\":\"2a2e7441-40db-4db5-ad41-5bb4bcb89792\",\"type\":\"BasicTicker\"}},\"id\":\"3413a12c-2248-4bb7-97ac-f67afafb8582\",\"type\":\"LinearAxis\"},{\"attributes\":{\"plot\":{\"id\":\"5806546e-d454-4786-ac77-9898c854fe55\",\"subtype\":\"Figure\",\"type\":\"Plot\"}},\"id\":\"d7d8f6ef-4f82-47a6-aa46-181194c389da\",\"type\":\"PanTool\"},{\"attributes\":{\"plot\":{\"id\":\"204142a8-e26b-406a-98e5-cad90c8fbd0b\",\"subtype\":\"Figure\",\"type\":\"Plot\"}},\"id\":\"eb2b869b-dac7-42a6-9b73-fd37188f30b1\",\"type\":\"WheelZoomTool\"},{\"attributes\":{\"plot\":{\"id\":\"1eee09c1-f8ed-4894-b717-5ef17bd9c572\",\"subtype\":\"Figure\",\"type\":\"Plot\"}},\"id\":\"4893b29f-273e-48dc-aea6-5884677fe8ed\",\"type\":\"PanTool\"},{\"attributes\":{\"line_color\":{\"value\":\"#2222aa\"},\"line_width\":{\"value\":3},\"x\":{\"field\":\"x\"},\"y\":{\"field\":\"y\"}},\"id\":\"a73faf0e-37d3-4b85-bf43-2b6e45374eb9\",\"type\":\"Line\"},{\"attributes\":{\"bottom_units\":\"screen\",\"fill_alpha\":{\"value\":0.5},\"fill_color\":{\"value\":\"lightgrey\"},\"left_units\":\"screen\",\"level\":\"overlay\",\"line_alpha\":{\"value\":1.0},\"line_color\":{\"value\":\"black\"},\"line_dash\":[4,4],\"line_width\":{\"value\":2},\"plot\":null,\"render_mode\":\"css\",\"right_units\":\"screen\",\"top_units\":\"screen\"},\"id\":\"62995407-fd51-49c9-ae3c-712ef406852f\",\"type\":\"BoxAnnotation\"},{\"attributes\":{},\"id\":\"2a2e7441-40db-4db5-ad41-5bb4bcb89792\",\"type\":\"BasicTicker\"},{\"attributes\":{\"formatter\":{\"id\":\"37f3db02-14d8-445c-aca7-01293ef9e245\",\"type\":\"BasicTickFormatter\"},\"plot\":{\"id\":\"6de13133-c9d5-40b1-914d-17e42dc360b7\",\"subtype\":\"Figure\",\"type\":\"Plot\"},\"ticker\":{\"id\":\"d6fa3269-2ecd-46b2-ad9c-1d33e58c776a\",\"type\":\"BasicTicker\"}},\"id\":\"b4e81a4f-7b00-4083-ba93-468832b049f1\",\"type\":\"LinearAxis\"},{\"attributes\":{\"plot\":{\"id\":\"6de13133-c9d5-40b1-914d-17e42dc360b7\",\"subtype\":\"Figure\",\"type\":\"Plot\"}},\"id\":\"4cb2affd-6af1-49b2-8863-68cf03680fcc\",\"type\":\"ResetTool\"},{\"attributes\":{},\"id\":\"abb6948e-f0cc-4eef-8378-bfce4a428ee9\",\"type\":\"ToolEvents\"},{\"attributes\":{\"below\":[{\"id\":\"4d1a5c11-60c4-4fe6-80a3-4a341c9b7304\",\"type\":\"LinearAxis\"}],\"left\":[{\"id\":\"396d895d-429e-42a5-b55b-a18a9f140106\",\"type\":\"LinearAxis\"}],\"renderers\":[{\"id\":\"4d1a5c11-60c4-4fe6-80a3-4a341c9b7304\",\"type\":\"LinearAxis\"},{\"id\":\"38dec17c-790d-4de4-9d8c-ada4a2c5c1c0\",\"type\":\"Grid\"},{\"id\":\"396d895d-429e-42a5-b55b-a18a9f140106\",\"type\":\"LinearAxis\"},{\"id\":\"2ebc2169-08df-441a-8868-8f03e52b28f0\",\"type\":\"Grid\"},{\"id\":\"2caaf9b3-f8c9-4486-afc5-18aa8c7a81a7\",\"type\":\"BoxAnnotation\"},{\"id\":\"57687910-06c6-48b5-b232-c23235a66b0f\",\"type\":\"GlyphRenderer\"}],\"tool_events\":{\"id\":\"51fdd4e0-6b42-42cd-ba0b-79de26a874a5\",\"type\":\"ToolEvents\"},\"tools\":[{\"id\":\"b1f31348-ff51-4087-bbd0-c65c778d87f4\",\"type\":\"PanTool\"},{\"id\":\"eb2b869b-dac7-42a6-9b73-fd37188f30b1\",\"type\":\"WheelZoomTool\"},{\"id\":\"701f20a5-639b-4f63-a524-1914c7753904\",\"type\":\"BoxZoomTool\"},{\"id\":\"54ebcb2a-3296-4d0c-9cbc-7b1324b3eb21\",\"type\":\"PreviewSaveTool\"},{\"id\":\"8f4fa6c0-4929-4270-87ec-ce445a639a5d\",\"type\":\"ResizeTool\"},{\"id\":\"0080741f-3aed-462f-a582-0287560d5a25\",\"type\":\"ResetTool\"},{\"id\":\"43eeb094-8de5-4b9f-8487-426210de2540\",\"type\":\"HelpTool\"}],\"x_range\":{\"id\":\"40e50fa9-598e-4312-b8d8-7974ac5e389c\",\"type\":\"Range1d\"},\"y_range\":{\"id\":\"f2017f6e-8516-4516-ba75-2e107226568b\",\"type\":\"Range1d\"}},\"id\":\"204142a8-e26b-406a-98e5-cad90c8fbd0b\",\"subtype\":\"Figure\",\"type\":\"Plot\"},{\"attributes\":{\"overlay\":{\"id\":\"2caaf9b3-f8c9-4486-afc5-18aa8c7a81a7\",\"type\":\"BoxAnnotation\"},\"plot\":{\"id\":\"204142a8-e26b-406a-98e5-cad90c8fbd0b\",\"subtype\":\"Figure\",\"type\":\"Plot\"}},\"id\":\"701f20a5-639b-4f63-a524-1914c7753904\",\"type\":\"BoxZoomTool\"},{\"attributes\":{\"plot\":{\"id\":\"204142a8-e26b-406a-98e5-cad90c8fbd0b\",\"subtype\":\"Figure\",\"type\":\"Plot\"}},\"id\":\"8f4fa6c0-4929-4270-87ec-ce445a639a5d\",\"type\":\"ResizeTool\"},{\"attributes\":{},\"id\":\"d0f7f822-a936-4471-bb55-c36743a7db50\",\"type\":\"ToolEvents\"},{\"attributes\":{\"plot\":{\"id\":\"204142a8-e26b-406a-98e5-cad90c8fbd0b\",\"subtype\":\"Figure\",\"type\":\"Plot\"}},\"id\":\"0080741f-3aed-462f-a582-0287560d5a25\",\"type\":\"ResetTool\"},{\"attributes\":{\"plot\":{\"id\":\"6de13133-c9d5-40b1-914d-17e42dc360b7\",\"subtype\":\"Figure\",\"type\":\"Plot\"}},\"id\":\"7b38daf3-7d2a-4ad5-876d-62bfa81eac26\",\"type\":\"PreviewSaveTool\"},{\"attributes\":{\"plot\":{\"id\":\"6de13133-c9d5-40b1-914d-17e42dc360b7\",\"subtype\":\"Figure\",\"type\":\"Plot\"}},\"id\":\"1280c645-2069-4c91-9536-fd6498255104\",\"type\":\"ResizeTool\"},{\"attributes\":{\"dimension\":1,\"plot\":{\"id\":\"6de13133-c9d5-40b1-914d-17e42dc360b7\",\"subtype\":\"Figure\",\"type\":\"Plot\"},\"ticker\":{\"id\":\"2a2e7441-40db-4db5-ad41-5bb4bcb89792\",\"type\":\"BasicTicker\"}},\"id\":\"6b6463e0-3fea-43b0-9c01-8cdce39ad73f\",\"type\":\"Grid\"},{\"attributes\":{\"plot\":{\"id\":\"204142a8-e26b-406a-98e5-cad90c8fbd0b\",\"subtype\":\"Figure\",\"type\":\"Plot\"}},\"id\":\"b1f31348-ff51-4087-bbd0-c65c778d87f4\",\"type\":\"PanTool\"},{\"attributes\":{\"callback\":null,\"end\":5,\"start\":-5},\"id\":\"14a9b932-6061-4ede-a7c7-377599f86238\",\"type\":\"Range1d\"},{\"attributes\":{\"plot\":{\"id\":\"1eee09c1-f8ed-4894-b717-5ef17bd9c572\",\"subtype\":\"Figure\",\"type\":\"Plot\"}},\"id\":\"09da53d5-7599-427c-953a-77a416379312\",\"type\":\"ResizeTool\"},{\"attributes\":{\"data_source\":{\"id\":\"275a2190-0221-4f57-a9b0-01e8eca63c60\",\"type\":\"ColumnDataSource\"},\"glyph\":{\"id\":\"463c4166-ac8f-4585-b9bf-06c9b120c2b4\",\"type\":\"Circle\"},\"hover_glyph\":null,\"nonselection_glyph\":{\"id\":\"f9385787-2002-4044-ba57-a0e73ad7f303\",\"type\":\"Circle\"},\"selection_glyph\":null},\"id\":\"c463645a-65dc-4946-b57e-b502a38a1ba2\",\"type\":\"GlyphRenderer\"},{\"attributes\":{\"plot\":{\"id\":\"6de13133-c9d5-40b1-914d-17e42dc360b7\",\"subtype\":\"Figure\",\"type\":\"Plot\"}},\"id\":\"0ebc105e-8b11-4603-898a-9f9a61110ca8\",\"type\":\"HelpTool\"},{\"attributes\":{\"plot\":{\"id\":\"5806546e-d454-4786-ac77-9898c854fe55\",\"subtype\":\"Figure\",\"type\":\"Plot\"}},\"id\":\"f51ec8f2-6566-416f-8076-f24a2d7c9b7b\",\"type\":\"ResizeTool\"},{\"attributes\":{\"plot\":{\"id\":\"5806546e-d454-4786-ac77-9898c854fe55\",\"subtype\":\"Figure\",\"type\":\"Plot\"}},\"id\":\"a30c60bd-5107-4c6b-8023-33b5359ed117\",\"type\":\"PreviewSaveTool\"},{\"attributes\":{},\"id\":\"fe282f1f-23e5-464a-8fe6-6cde9eee6646\",\"type\":\"BasicTickFormatter\"},{\"attributes\":{\"dimension\":1,\"plot\":{\"id\":\"204142a8-e26b-406a-98e5-cad90c8fbd0b\",\"subtype\":\"Figure\",\"type\":\"Plot\"},\"ticker\":{\"id\":\"95ed5978-b6a6-4a96-8a45-f7bd81fc5cc8\",\"type\":\"BasicTicker\"}},\"id\":\"2ebc2169-08df-441a-8868-8f03e52b28f0\",\"type\":\"Grid\"},{\"attributes\":{\"formatter\":{\"id\":\"b624bf25-883f-43f1-85ec-74b27d108da7\",\"type\":\"BasicTickFormatter\"},\"plot\":{\"id\":\"1eee09c1-f8ed-4894-b717-5ef17bd9c572\",\"subtype\":\"Figure\",\"type\":\"Plot\"},\"ticker\":{\"id\":\"842b0aae-d85a-4a9a-9c7d-bec7b0977049\",\"type\":\"BasicTicker\"}},\"id\":\"602a5fa6-c5a6-445e-bacf-7240a2e5b1c3\",\"type\":\"LinearAxis\"},{\"attributes\":{},\"id\":\"b0e10c94-989b-4213-b9de-be309686e303\",\"type\":\"ToolEvents\"},{\"attributes\":{\"below\":[{\"id\":\"b4e81a4f-7b00-4083-ba93-468832b049f1\",\"type\":\"LinearAxis\"}],\"left\":[{\"id\":\"3413a12c-2248-4bb7-97ac-f67afafb8582\",\"type\":\"LinearAxis\"}],\"plot_height\":300,\"renderers\":[{\"id\":\"b4e81a4f-7b00-4083-ba93-468832b049f1\",\"type\":\"LinearAxis\"},{\"id\":\"c4fa0306-84a4-4ee1-9939-0cdffd640866\",\"type\":\"Grid\"},{\"id\":\"3413a12c-2248-4bb7-97ac-f67afafb8582\",\"type\":\"LinearAxis\"},{\"id\":\"6b6463e0-3fea-43b0-9c01-8cdce39ad73f\",\"type\":\"Grid\"},{\"id\":\"62995407-fd51-49c9-ae3c-712ef406852f\",\"type\":\"BoxAnnotation\"},{\"id\":\"efa3a492-582b-4abe-bd44-34ae66749c99\",\"type\":\"GlyphRenderer\"}],\"title\":\"simple line example\",\"tool_events\":{\"id\":\"d0f7f822-a936-4471-bb55-c36743a7db50\",\"type\":\"ToolEvents\"},\"tools\":[{\"id\":\"adcdf43e-021d-402f-8fa0-454d842f5901\",\"type\":\"PanTool\"},{\"id\":\"d6b912fd-7cee-47f0-b0b2-f80ef4f5a7d3\",\"type\":\"WheelZoomTool\"},{\"id\":\"dc5d6fcd-7872-4c99-b90c-41861850df50\",\"type\":\"BoxZoomTool\"},{\"id\":\"7b38daf3-7d2a-4ad5-876d-62bfa81eac26\",\"type\":\"PreviewSaveTool\"},{\"id\":\"1280c645-2069-4c91-9536-fd6498255104\",\"type\":\"ResizeTool\"},{\"id\":\"4cb2affd-6af1-49b2-8863-68cf03680fcc\",\"type\":\"ResetTool\"},{\"id\":\"0ebc105e-8b11-4603-898a-9f9a61110ca8\",\"type\":\"HelpTool\"}],\"x_range\":{\"id\":\"79f48553-04ff-49c0-a2ba-cc316476dd0a\",\"type\":\"DataRange1d\"},\"y_range\":{\"id\":\"14a9b932-6061-4ede-a7c7-377599f86238\",\"type\":\"Range1d\"}},\"id\":\"6de13133-c9d5-40b1-914d-17e42dc360b7\",\"subtype\":\"Figure\",\"type\":\"Plot\"},{\"attributes\":{\"callback\":null,\"column_names\":[\"y\",\"x\"],\"data\":{\"x\":[1,2],\"y\":[3,4]}},\"id\":\"275a2190-0221-4f57-a9b0-01e8eca63c60\",\"type\":\"ColumnDataSource\"},{\"attributes\":{\"callback\":null},\"id\":\"79f48553-04ff-49c0-a2ba-cc316476dd0a\",\"type\":\"DataRange1d\"},{\"attributes\":{\"callback\":null,\"end\":5,\"start\":-5},\"id\":\"48ac1504-d565-4188-b36f-b3a79d6f652a\",\"type\":\"Range1d\"},{\"attributes\":{\"callback\":null},\"id\":\"ae55fafe-9aa4-4ebb-b698-e39f3ca65c0e\",\"type\":\"DataRange1d\"},{\"attributes\":{},\"id\":\"51fdd4e0-6b42-42cd-ba0b-79de26a874a5\",\"type\":\"ToolEvents\"},{\"attributes\":{\"fill_alpha\":{\"value\":0.1},\"fill_color\":{\"value\":\"#1f77b4\"},\"line_alpha\":{\"value\":0.1},\"line_color\":{\"value\":\"#1f77b4\"},\"x\":{\"field\":\"x\"},\"y\":{\"field\":\"y\"}},\"id\":\"f9385787-2002-4044-ba57-a0e73ad7f303\",\"type\":\"Circle\"},{\"attributes\":{\"below\":[{\"id\":\"7db95045-1410-46cc-b949-36ede5e3cacc\",\"type\":\"LinearAxis\"}],\"left\":[{\"id\":\"4785a311-40d9-4c01-941c-5d3684003203\",\"type\":\"LinearAxis\"}],\"renderers\":[{\"id\":\"7db95045-1410-46cc-b949-36ede5e3cacc\",\"type\":\"LinearAxis\"},{\"id\":\"dece1431-5572-43c3-903e-8613417836ee\",\"type\":\"Grid\"},{\"id\":\"4785a311-40d9-4c01-941c-5d3684003203\",\"type\":\"LinearAxis\"},{\"id\":\"65acb15b-432e-4911-aaeb-2b3a7c7d4757\",\"type\":\"Grid\"},{\"id\":\"676c476a-5913-4f51-9413-25fe794b4786\",\"type\":\"BoxAnnotation\"},{\"id\":\"c463645a-65dc-4946-b57e-b502a38a1ba2\",\"type\":\"GlyphRenderer\"}],\"tool_events\":{\"id\":\"b0e10c94-989b-4213-b9de-be309686e303\",\"type\":\"ToolEvents\"},\"tools\":[{\"id\":\"d7d8f6ef-4f82-47a6-aa46-181194c389da\",\"type\":\"PanTool\"},{\"id\":\"43b70098-fceb-4025-a12c-1ee970550a37\",\"type\":\"WheelZoomTool\"},{\"id\":\"7a585487-8f25-48c7-8ca0-55d93e9bc28f\",\"type\":\"BoxZoomTool\"},{\"id\":\"a30c60bd-5107-4c6b-8023-33b5359ed117\",\"type\":\"PreviewSaveTool\"},{\"id\":\"f51ec8f2-6566-416f-8076-f24a2d7c9b7b\",\"type\":\"ResizeTool\"},{\"id\":\"a4610080-8a17-48eb-938c-c18d086e0842\",\"type\":\"ResetTool\"},{\"id\":\"75c6ad67-d6fd-4279-9513-a65db6722765\",\"type\":\"HelpTool\"}],\"x_range\":{\"id\":\"ae55fafe-9aa4-4ebb-b698-e39f3ca65c0e\",\"type\":\"DataRange1d\"},\"y_range\":{\"id\":\"5465c6c1-ca1d-4ef3-b2d1-97396b0ee276\",\"type\":\"DataRange1d\"}},\"id\":\"5806546e-d454-4786-ac77-9898c854fe55\",\"subtype\":\"Figure\",\"type\":\"Plot\"},{\"attributes\":{},\"id\":\"d6fa3269-2ecd-46b2-ad9c-1d33e58c776a\",\"type\":\"BasicTicker\"},{\"attributes\":{\"callback\":null,\"start\":-1},\"id\":\"f2017f6e-8516-4516-ba75-2e107226568b\",\"type\":\"Range1d\"},{\"attributes\":{\"formatter\":{\"id\":\"93a1acd2-49b3-41d6-80d8-fe7726746186\",\"type\":\"BasicTickFormatter\"},\"plot\":{\"id\":\"204142a8-e26b-406a-98e5-cad90c8fbd0b\",\"subtype\":\"Figure\",\"type\":\"Plot\"},\"ticker\":{\"id\":\"dfdc5577-ecf0-441e-b662-8880bb2ebd8e\",\"type\":\"BasicTicker\"}},\"id\":\"4d1a5c11-60c4-4fe6-80a3-4a341c9b7304\",\"type\":\"LinearAxis\"},{\"attributes\":{\"formatter\":{\"id\":\"227abb84-ca77-4ad3-9432-21ed7369696b\",\"type\":\"BasicTickFormatter\"},\"plot\":{\"id\":\"5806546e-d454-4786-ac77-9898c854fe55\",\"subtype\":\"Figure\",\"type\":\"Plot\"},\"ticker\":{\"id\":\"ffc80d70-b6b2-4ead-af41-6fb07caf6f43\",\"type\":\"BasicTicker\"}},\"id\":\"4785a311-40d9-4c01-941c-5d3684003203\",\"type\":\"LinearAxis\"},{\"attributes\":{},\"id\":\"6da4639a-a88c-45c7-9742-00aa0f0fc49e\",\"type\":\"BasicTickFormatter\"},{\"attributes\":{\"plot\":{\"id\":\"1eee09c1-f8ed-4894-b717-5ef17bd9c572\",\"subtype\":\"Figure\",\"type\":\"Plot\"}},\"id\":\"b754c638-603c-4892-a3f2-72cd196d0a77\",\"type\":\"PreviewSaveTool\"},{\"attributes\":{\"plot\":{\"id\":\"5806546e-d454-4786-ac77-9898c854fe55\",\"subtype\":\"Figure\",\"type\":\"Plot\"}},\"id\":\"75c6ad67-d6fd-4279-9513-a65db6722765\",\"type\":\"HelpTool\"},{\"attributes\":{\"plot\":{\"id\":\"204142a8-e26b-406a-98e5-cad90c8fbd0b\",\"subtype\":\"Figure\",\"type\":\"Plot\"}},\"id\":\"43eeb094-8de5-4b9f-8487-426210de2540\",\"type\":\"HelpTool\"},{\"attributes\":{\"plot\":{\"id\":\"6de13133-c9d5-40b1-914d-17e42dc360b7\",\"subtype\":\"Figure\",\"type\":\"Plot\"}},\"id\":\"adcdf43e-021d-402f-8fa0-454d842f5901\",\"type\":\"PanTool\"},{\"attributes\":{\"plot\":{\"id\":\"204142a8-e26b-406a-98e5-cad90c8fbd0b\",\"subtype\":\"Figure\",\"type\":\"Plot\"},\"ticker\":{\"id\":\"dfdc5577-ecf0-441e-b662-8880bb2ebd8e\",\"type\":\"BasicTicker\"}},\"id\":\"38dec17c-790d-4de4-9d8c-ada4a2c5c1c0\",\"type\":\"Grid\"},{\"attributes\":{},\"id\":\"227abb84-ca77-4ad3-9432-21ed7369696b\",\"type\":\"BasicTickFormatter\"},{\"attributes\":{\"callback\":null},\"id\":\"5465c6c1-ca1d-4ef3-b2d1-97396b0ee276\",\"type\":\"DataRange1d\"},{\"attributes\":{\"line_alpha\":{\"value\":0.1},\"line_color\":{\"value\":\"#1f77b4\"},\"line_width\":{\"value\":3},\"x\":{\"field\":\"x\"},\"y\":{\"field\":\"y\"}},\"id\":\"a903c242-3643-4e10-978c-44d64fff3e94\",\"type\":\"Line\"},{\"attributes\":{\"plot\":{\"id\":\"204142a8-e26b-406a-98e5-cad90c8fbd0b\",\"subtype\":\"Figure\",\"type\":\"Plot\"}},\"id\":\"54ebcb2a-3296-4d0c-9cbc-7b1324b3eb21\",\"type\":\"PreviewSaveTool\"},{\"attributes\":{\"callback\":null,\"column_names\":[\"y\",\"x\"],\"data\":{\"x\":[0.0,0.003143164235707647,0.006286328471415294,0.009429492707122941,0.012572656942830588,0.015715821178538234,0.018858985414245882,0.022002149649953527,0.025145313885661175,0.028288478121368824,0.03143164235707647,0.03457480659278411,0.037717970828491765,0.04086113506419941,0.044004299299907054,0.047147463535614706,0.05029062777132235,0.053433792007029995,0.05657695624273765,0.05972012047844529,0.06286328471415294,0.06600644894986059,0.06914961318556823,0.07229277742127588,0.07543594165698353,0.07857910589269117,0.08172227012839882,0.08486543436410647,0.08800859859981411,0.09115176283552176,0.09429492707122941,0.09743809130693705,0.1005812555426447,0.10372441977835235,0.10686758401405999,0.11001074824976764,0.1131539124854753,0.11629707672118293,0.11944024095689058,0.12258340519259824,0.12572656942830587,0.12886973366401352,0.13201289789972118,0.13515606213542883,0.13829922637113645,0.1414423906068441,0.14458555484255176,0.1477287190782594,0.15087188331396706,0.1540150475496747,0.15715821178538233,0.16030137602109,0.16344454025679764,0.1665877044925053,0.16973086872821294,0.1728740329639206,0.17601719719962822,0.17916036143533587,0.18230352567104352,0.18544668990675117,0.18858985414245882,0.19173301837816648,0.1948761826138741,0.19801934684958175,0.2011625110852894,0.20430567532099705,0.2074488395567047,0.21059200379241233,0.21373516802811998,0.21687833226382763,0.22002149649953529,0.22316466073524294,0.2263078249709506,0.2294509892066582,0.23259415344236586,0.23573731767807352,0.23888048191378117,0.24202364614948882,0.24516681038519647,0.2483099746209041,0.25145313885661175,0.2545963030923194,0.25773946732802705,0.2608826315637347,0.26402579579944235,0.26716896003515,0.27031212427085766,0.2734552885065653,0.2765984527422729,0.27974161697798056,0.2828847812136882,0.28602794544939586,0.2891711096851035,0.29231427392081116,0.2954574381565188,0.29860060239222647,0.3017437666279341,0.30488693086364177,0.3080300950993494,0.311173259335057,0.31431642357076467,0.3174595878064723,0.32060275204218,0.3237459162778876,0.3268890805135953,0.3300322447493029,0.3331754089850106,0.33631857322071823,0.3394617374564259,0.34260490169213353,0.3457480659278412,0.3488912301635488,0.35203439439925643,0.3551775586349641,0.35832072287067174,0.3614638871063794,0.36460705134208704,0.3677502155777947,0.37089337981350234,0.37403654404921,0.37717970828491765,0.3803228725206253,0.38346603675633295,0.38660920099204055,0.3897523652277482,0.39289552946345585,0.3960386936991635,0.39918185793487115,0.4023250221705788,0.40546818640628646,0.4086113506419941,0.41175451487770176,0.4148976791134094,0.41804084334911706,0.42118400758482466,0.4243271718205323,0.42747033605623996,0.4306135002919476,0.43375666452765527,0.4368998287633629,0.44004299299907057,0.4431861572347782,0.4463293214704859,0.4494724857061935,0.4526156499419012,0.45575881417760883,0.4589019784133164,0.4620451426490241,0.46518830688473173,0.4683314711204394,0.47147463535614703,0.4746177995918547,0.47776096382756233,0.48090412806327,0.48404729229897764,0.4871904565346853,0.49033362077039294,0.4934767850061006,0.4966199492418082,0.49976311347751584,0.5029062777132235,0.5060494419489312,0.5091926061846388,0.5123357704203464,0.5154789346560541,0.5186220988917617,0.5217652631274694,0.524908427363177,0.5280515915988847,0.5311947558345923,0.5343379200703,0.5374810843060076,0.5406242485417153,0.5437674127774229,0.5469105770131306,0.5500537412488382,0.5531969054845458,0.5563400697202535,0.5594832339559611,0.5626263981916688,0.5657695624273764,0.5689127266630841,0.5720558908987917,0.5751990551344994,0.578342219370207,0.5814853836059147,0.5846285478416223,0.5877717120773299,0.5909148763130376,0.5940580405487452,0.5972012047844529,0.6003443690201605,0.6034875332558682,0.6066306974915758,0.6097738617272835,0.6129170259629911,0.6160601901986988,0.6192033544344064,0.622346518670114,0.6254896829058217,0.6286328471415293,0.631776011377237,0.6349191756129446,0.6380623398486523,0.64120550408436,0.6443486683200677,0.6474918325557752,0.650634996791483,0.6537781610271906,0.6569213252628983,0.6600644894986059,0.6632076537343135,0.6663508179700212,0.6694939822057288,0.6726371464414365,0.6757803106771441,0.6789234749128518,0.6820666391485594,0.6852098033842671,0.6883529676199747,0.6914961318556824,0.69463929609139,0.6977824603270976,0.7009256245628053,0.7040687887985129,0.7072119530342206,0.7103551172699282,0.7134982815056359,0.7166414457413435,0.7197846099770512,0.7229277742127588,0.7260709384484665,0.7292141026841741,0.7323572669198817,0.7355004311555894,0.738643595391297,0.7417867596270047,0.7449299238627123,0.74807308809842,0.7512162523341276,0.7543594165698353,0.7575025808055429,0.7606457450412506,0.7637889092769582,0.7669320735126659,0.7700752377483735,0.7732184019840811,0.7763615662197888,0.7795047304554964,0.7826478946912041,0.7857910589269117,0.7889342231626194,0.792077387398327,0.7952205516340347,0.7983637158697423,0.80150688010545,0.8046500443411576,0.8077932085768652,0.8109363728125729,0.8140795370482805,0.8172227012839882,0.8203658655196958,0.8235090297554035,0.8266521939911111,0.8297953582268188,0.8329385224625264,0.8360816866982341,0.8392248509339417,0.8423680151696493,0.845511179405357,0.8486543436410646,0.8517975078767723,0.8549406721124799,0.8580838363481876,0.8612270005838952,0.8643701648196029,0.8675133290553105,0.8706564932910182,0.8737996575267258,0.8769428217624335,0.8800859859981411,0.8832291502338487,0.8863723144695564,0.889515478705264,0.8926586429409717,0.8958018071766793,0.898944971412387,0.9020881356480946,0.9052312998838024,0.90837446411951,0.9115176283552177,0.9146607925909253,0.9178039568266328,0.9209471210623406,0.9240902852980482,0.9272334495337559,0.9303766137694635,0.9335197780051712,0.9366629422408788,0.9398061064765865,0.9429492707122941,0.9460924349480018,0.9492355991837094,0.952378763419417,0.9555219276551247,0.9586650918908323,0.96180825612654,0.9649514203622476,0.9680945845979553,0.9712377488336629,0.9743809130693706,0.9775240773050782,0.9806672415407859,0.9838104057764935,0.9869535700122012,0.9900967342479088,0.9932398984836164,0.9963830627193241,0.9995262269550317,1.0026693911907394,1.005812555426447,1.0089557196621546,1.0120988838978624,1.01524204813357,1.0183852123692776,1.0215283766049852,1.0246715408406928,1.0278147050764006,1.0309578693121082,1.0341010335478158,1.0372441977835234,1.0403873620192312,1.0435305262549388,1.0466736904906464,1.049816854726354,1.0529600189620618,1.0561031831977694,1.059246347433477,1.0623895116691846,1.0655326759048922,1.0686758401406,1.0718190043763076,1.0749621686120152,1.0781053328477228,1.0812484970834306,1.0843916613191382,1.0875348255548458,1.0906779897905534,1.0938211540262612,1.0969643182619688,1.1001074824976764,1.103250646733384,1.1063938109690916,1.1095369752047994,1.112680139440507,1.1158233036762146,1.1189664679119222,1.12210963214763,1.1252527963833376,1.1283959606190452,1.1315391248547528,1.1346822890904604,1.1378254533261682,1.1409686175618758,1.1441117817975834,1.147254946033291,1.1503981102689989,1.1535412745047064,1.156684438740414,1.1598276029761216,1.1629707672118295,1.166113931447537,1.1692570956832447,1.1724002599189522,1.1755434241546598,1.1786865883903677,1.1818297526260753,1.1849729168617829,1.1881160810974905,1.1912592453331983,1.1944024095689059,1.1975455738046135,1.200688738040321,1.2038319022760289,1.2069750665117365,1.210118230747444,1.2132613949831517,1.2164045592188593,1.219547723454567,1.2226908876902747,1.2258340519259823,1.2289772161616899,1.2321203803973977,1.2352635446331053,1.2384067088688129,1.2415498731045205,1.244693037340228,1.2478362015759359,1.2509793658116435,1.254122530047351,1.2572656942830587,1.2604088585187665,1.263552022754474,1.2666951869901817,1.2698383512258893,1.272981515461597,1.2761246796973047,1.2792678439330123,1.28241100816872,1.2855541724044275,1.2886973366401353,1.291840500875843,1.2949836651115505,1.298126829347258,1.301269993582966,1.3044131578186735,1.307556322054381,1.3106994862900887,1.3138426505257965,1.3169858147615041,1.3201289789972117,1.3232721432329193,1.326415307468627,1.3295584717043347,1.3327016359400423,1.33584480017575,1.3389879644114575,1.3421311286471653,1.345274292882873,1.3484174571185805,1.3515606213542881,1.3547037855899957,1.3578469498257035,1.3609901140614111,1.3641332782971187,1.3672764425328263,1.3704196067685341,1.3735627710042417,1.3767059352399493,1.379849099475657,1.3829922637113647,1.3861354279470723,1.38927859218278,1.3924217564184875,1.3955649206541951,1.398708084889903,1.4018512491256105,1.4049944133613181,1.4081375775970257,1.4112807418327336,1.4144239060684412,1.4175670703041487,1.4207102345398563,1.4238533987755642,1.4269965630112718,1.4301397272469794,1.433282891482687,1.4364260557183945,1.4395692199541024,1.44271238418981,1.4458555484255176,1.4489987126612252,1.452141876896933,1.4552850411326406,1.4584282053683482,1.4615713696040558,1.4647145338397634,1.4678576980754712,1.4710008623111788,1.4741440265468864,1.477287190782594,1.4804303550183018,1.4835735192540094,1.486716683489717,1.4898598477254246,1.4930030119611324,1.49614617619684,1.4992893404325476,1.5024325046682552,1.5055756689039628,1.5087188331396706,1.5118619973753782,1.5150051616110858,1.5181483258467934,1.5212914900825012,1.5244346543182088,1.5275778185539164,1.530720982789624,1.5338641470253318,1.5370073112610394,1.540150475496747,1.5432936397324546,1.5464368039681622,1.54957996820387,1.5527231324395776,1.5558662966752852,1.5590094609109928,1.5621526251467006,1.5652957893824082,1.5684389536181158,1.5715821178538234,1.574725282089531,1.5778684463252388,1.5810116105609464,1.584154774796654,1.5872979390323616,1.5904411032680694,1.593584267503777,1.5967274317394846,1.5998705959751922,1.6030137602109,1.6061569244466076,1.6093000886823152,1.6124432529180228,1.6155864171537304,1.6187295813894382,1.6218727456251458,1.6250159098608534,1.628159074096561,1.6313022383322688,1.6344454025679764,1.637588566803684,1.6407317310393916,1.6438748952750994,1.647018059510807,1.6501612237465146,1.6533043879822222,1.6564475522179298,1.6595907164536376,1.6627338806893452,1.6658770449250528,1.6690202091607604,1.6721633733964683,1.6753065376321759,1.6784497018678834,1.681592866103591,1.6847360303392986,1.6878791945750065,1.691022358810714,1.6941655230464217,1.6973086872821292,1.700451851517837,1.7035950157535447,1.7067381799892523,1.7098813442249599,1.7130245084606677,1.7161676726963753,1.7193108369320829,1.7224540011677905,1.725597165403498,1.7287403296392059,1.7318834938749135,1.735026658110621,1.7381698223463287,1.7413129865820365,1.744456150817744,1.7475993150534517,1.7507424792891593,1.753885643524867,1.7570288077605747,1.7601719719962823,1.7633151362319899,1.7664583004676975,1.7696014647034053,1.7727446289391129,1.7758877931748205,1.779030957410528,1.782174121646236,1.7853172858819435,1.788460450117651,1.7916036143533587,1.7947467785890663,1.797889942824774,1.8010331070604817,1.8041762712961893,1.807319435531897,1.8104625997676047,1.8136057640033123,1.81674892823902,1.8198920924747275,1.8230352567104353,1.826178420946143,1.8293215851818505,1.832464749417558,1.8356079136532657,1.8387510778889735,1.8418942421246811,1.8450374063603887,1.8481805705960963,1.8513237348318041,1.8544668990675117,1.8576100633032193,1.860753227538927,1.8638963917746347,1.8670395560103423,1.87018272024605,1.8733258844817575,1.8764690487174651,1.879612212953173,1.8827553771888805,1.8858985414245881,1.8890417056602957,1.8921848698960035,1.8953280341317111,1.8984711983674187,1.9016143626031263,1.904757526838834,1.9079006910745417,1.9110438553102493,1.914187019545957,1.9173301837816645,1.9204733480173724,1.92361651225308,1.9267596764887875,1.9299028407244951,1.933046004960203,1.9361891691959106,1.9393323334316181,1.9424754976673257,1.9456186619030333,1.9487618261387412,1.9519049903744488,1.9550481546101564,1.958191318845864,1.9613344830815718,1.9644776473172794,1.967620811552987,1.9707639757886946,1.9739071400244024,1.97705030426011,1.9801934684958176,1.9833366327315252,1.9864797969672328,1.9896229612029406,1.9927661254386482,1.9959092896743558,1.9990524539100634,2.002195618145771,2.005338782381479,2.0084819466171866,2.011625110852894,2.014768275088602,2.017911439324309,2.021054603560017,2.024197767795725,2.027340932031432,2.03048409626714,2.0336272605028474,2.036770424738555,2.039913588974263,2.0430567532099704,2.046199917445678,2.0493430816813856,2.0524862459170934,2.055629410152801,2.0587725743885086,2.0619157386242164,2.065058902859924,2.0682020670956316,2.0713452313313394,2.074488395567047,2.0776315598027546,2.0807747240384624,2.08391788827417,2.0870610525098776,2.090204216745585,2.093347380981293,2.0964905452170006,2.099633709452708,2.102776873688416,2.1059200379241236,2.109063202159831,2.112206366395539,2.115349530631246,2.118492694866954,2.121635859102662,2.124779023338369,2.127922187574077,2.1310653518097844,2.134208516045492,2.1373516802812,2.1404948445169074,2.1436380087526152,2.146781172988323,2.1499243372240304,2.1530675014597382,2.1562106656954456,2.1593538299311534,2.1624969941668613,2.1656401584025686,2.1687833226382764,2.171926486873984,2.1750696511096916,2.1782128153453995,2.181355979581107,2.1844991438168146,2.1876423080525225,2.19078547228823,2.1939286365239377,2.197071800759645,2.200214964995353,2.2033581292310607,2.206501293466768,2.209644457702476,2.2127876219381832,2.215930786173891,2.219073950409599,2.2222171146453062,2.225360278881014,2.228503443116722,2.2316466073524293,2.234789771588137,2.2379329358238444,2.2410761000595523,2.24421926429526,2.2473624285309675,2.2505055927666753,2.2536487570023827,2.2567919212380905,2.2599350854737983,2.2630782497095057,2.2662214139452135,2.269364578180921,2.2725077424166287,2.2756509066523365,2.278794070888044,2.2819372351237517,2.2850803993594595,2.288223563595167,2.2913667278308747,2.294509892066582,2.29765305630229,2.3007962205379977,2.303939384773705,2.307082549009413,2.3102257132451203,2.313368877480828,2.316512041716536,2.3196552059522433,2.322798370187951,2.325941534423659,2.3290846986593663,2.332227862895074,2.3353710271307815,2.3385141913664893,2.341657355602197,2.3448005198379045,2.3479436840736123,2.3510868483093197,2.3542300125450275,2.3573731767807353,2.3605163410164427,2.3636595052521505,2.3668026694878583,2.3699458337235657,2.3730889979592735,2.376232162194981,2.3793753264306887,2.3825184906663965,2.385661654902104,2.3888048191378117,2.391947983373519,2.395091147609227,2.3982343118449347,2.401377476080642,2.40452064031635,2.4076638045520578,2.410806968787765,2.413950133023473,2.4170932972591803,2.420236461494888,2.423379625730596,2.4265227899663033,2.429665954202011,2.4328091184377185,2.4359522826734263,2.439095446909134,2.4422386111448415,2.4453817753805493,2.448524939616257,2.4516681038519645,2.4548112680876724,2.4579544323233797,2.4610975965590876,2.4642407607947954,2.4673839250305027,2.4705270892662106,2.473670253501918,2.4768134177376258,2.4799565819733336,2.483099746209041,2.4862429104447488,2.489386074680456,2.492529238916164,2.4956724031518718,2.498815567387579,2.501958731623287,2.505101895858995,2.508245060094702,2.51138822433041,2.5145313885661174,2.517674552801825,2.520817717037533,2.5239608812732404,2.527104045508948,2.5302472097446556,2.5333903739803634,2.536533538216071,2.5396767024517786,2.5428198666874864,2.545963030923194,2.5491061951589016,2.5522493593946094,2.5553925236303168,2.5585356878660246,2.5616788521017324,2.56482201633744,2.5679651805731476,2.571108344808855,2.574251509044563,2.5773946732802706,2.580537837515978,2.583681001751686,2.5868241659873936,2.589967330223101,2.593110494458809,2.596253658694516,2.599396822930224,2.602539987165932,2.605683151401639,2.608826315637347,2.6119694798730544,2.615112644108762,2.61825580834447,2.6213989725801774,2.624542136815885,2.627685301051593,2.6308284652873004,2.6339716295230082,2.6371147937587156,2.6402579579944234,2.6434011222301312,2.6465442864658386,2.6496874507015464,2.652830614937254,2.6559737791729616,2.6591169434086694,2.662260107644377,2.6654032718800846,2.6685464361157925,2.6716896003515,2.6748327645872076,2.677975928822915,2.681119093058623,2.6842622572943307,2.687405421530038,2.690548585765746,2.6936917500014532,2.696834914237161,2.699978078472869,2.7031212427085762,2.706264406944284,2.7094075711799914,2.7125507354156992,2.715693899651407,2.7188370638871144,2.7219802281228223,2.72512339235853,2.7282665565942374,2.7314097208299453,2.7345528850656526,2.7376960493013605,2.7408392135370683,2.7439823777727756,2.7471255420084835,2.750268706244191,2.7534118704798987,2.7565550347156065,2.759698198951314,2.7628413631870217,2.7659845274227295,2.769127691658437,2.7722708558941447,2.775414020129852,2.77855718436556,2.7817003486012677,2.784843512836975,2.787986677072683,2.7911298413083903,2.794273005544098,2.797416169779806,2.8005593340155133,2.803702498251221,2.806845662486929,2.8099888267226363,2.813131990958344,2.8162751551940515,2.8194183194297593,2.822561483665467,2.8257046479011745,2.8288478121368823,2.8319909763725897,2.8351341406082975,2.8382773048440053,2.8414204690797127,2.8445636333154205,2.8477067975511283,2.8508499617868357,2.8539931260225435,2.857136290258251,2.8602794544939587,2.8634226187296665,2.866565782965374,2.8697089472010817,2.872852111436789,2.875995275672497,2.8791384399082047,2.882281604143912,2.88542476837962,2.8885679326153277,2.891711096851035,2.894854261086743,2.8979974253224503,2.901140589558158,2.904283753793866,2.9074269180295733,2.910570082265281,2.9137132465009885,2.9168564107366963,2.919999574972404,2.9231427392081115,2.9262859034438193,2.9294290676795267,2.9325722319152345,2.9357153961509423,2.9388585603866497,2.9420017246223575,2.9451448888580654,2.9482880530937727,2.9514312173294805,2.954574381565188,2.9577175458008957,2.9608607100366036,2.964003874272311,2.9671470385080188,2.970290202743726,2.973433366979434,2.9765765312151418,2.979719695450849,2.982862859686557,2.9860060239222648,2.989149188157972,2.99229235239368,2.9954355166293873,2.998578680865095,3.001721845100803,3.0048650093365104,3.008008173572218,3.0111513378079255,3.0142945020436334,3.017437666279341,3.0205808305150486,3.0237239947507564,3.026867158986464,3.0300103232221716,3.0331534874578794,3.0362966516935868,3.0394398159292946,3.0425829801650024,3.0457261444007098,3.0488693086364176,3.052012472872125,3.0551556371078328,3.0582988013435406,3.061441965579248,3.064585129814956,3.0677282940506636,3.070871458286371,3.074014622522079,3.077157786757786,3.080300950993494,3.083444115229202,3.086587279464909,3.089730443700617,3.0928736079363244,3.096016772172032,3.09915993640774,3.1023031006434474,3.105446264879155,3.108589429114863,3.1117325933505704,3.114875757586278,3.1180189218219856,3.1211620860576934,3.1243052502934012,3.1274484145291086,3.1305915787648164,3.133734743000524,3.1368779072362316,3.1400210714719394,3.143164235707647,3.1463073999433546,3.149450564179062,3.15259372841477,3.1557368926504776,3.158880056886185,3.162023221121893,3.1651663853576006,3.168309549593308,3.171452713829016,3.174595878064723,3.177739042300431,3.180882206536139,3.184025370771846,3.187168535007554,3.1903116992432614,3.1934548634789692,3.196598027714677,3.1997411919503844,3.2028843561860922,3.2060275204218,3.2091706846575074,3.2123138488932153,3.2154570131289226,3.2186001773646304,3.2217433416003383,3.2248865058360456,3.2280296700717535,3.231172834307461,3.2343159985431686,3.2374591627788765,3.240602327014584,3.2437454912502917,3.2468886554859995,3.250031819721707,3.2531749839574147,3.256318148193122,3.25946131242883,3.2626044766645377,3.265747640900245,3.268890805135953,3.2720339693716602,3.275177133607368,3.278320297843076,3.2814634620787833,3.284606626314491,3.287749790550199,3.2908929547859063,3.294036119021614,3.2971792832573215,3.3003224474930293,3.303465611728737,3.3066087759644445,3.3097519402001523,3.3128951044358597,3.3160382686715675,3.3191814329072753,3.3223245971429827,3.3254677613786905,3.328610925614398,3.3317540898501057,3.3348972540858135,3.338040418321521,3.3411835825572287,3.3443267467929365,3.347469911028644,3.3506130752643517,3.353756239500059,3.356899403735767,3.3600425679714747,3.363185732207182,3.36632889644289,3.3694720606785973,3.372615224914305,3.375758389150013,3.3789015533857203,3.382044717621428,3.385187881857136,3.3883310460928433,3.391474210328551,3.3946173745642585,3.3977605387999663,3.400903703035674,3.4040468672713815,3.4071900315070893,3.4103331957427967,3.4134763599785045,3.4166195242142123,3.4197626884499197,3.4229058526856275,3.4260490169213353,3.4291921811570427,3.4323353453927505,3.435478509628458,3.4386216738641657,3.4417648380998735,3.444908002335581,3.4480511665712887,3.451194330806996,3.454337495042704,3.4574806592784117,3.460623823514119,3.463766987749827,3.4669101519855348,3.470053316221242,3.47319648045695,3.4763396446926573,3.479482808928365,3.482625973164073,3.4857691373997803,3.488912301635488,3.4920554658711955,3.4951986301069033,3.498341794342611,3.5014849585783185,3.5046281228140264,3.507771287049734,3.5109144512854416,3.5140576155211494,3.5172007797568567,3.5203439439925646,3.5234871082282724,3.5266302724639798,3.5297734366996876,3.532916600935395,3.5360597651711028,3.5392029294068106,3.542346093642518,3.5454892578782258,3.548632422113933,3.551775586349641,3.554918750585349,3.558061914821056,3.561205079056764,3.564348243292472,3.567491407528179,3.570634571763887,3.5737777359995944,3.576920900235302,3.58006406447101,3.5832072287067174,3.586350392942425,3.5894935571781326,3.5926367214138404,3.595779885649548,3.5989230498852556,3.6020662141209634,3.605209378356671,3.6083525425923786,3.6114957068280864,3.614638871063794,3.6177820352995016,3.6209251995352094,3.624068363770917,3.6272115280066246,3.630354692242332,3.63349785647804,3.6366410207137476,3.639784184949455,3.642927349185163,3.6460705134208706,3.649213677656578,3.652356841892286,3.655500006127993,3.658643170363701,3.661786334599409,3.664929498835116,3.668072663070824,3.6712158273065314,3.674358991542239,3.677502155777947,3.6806453200136544,3.6837884842493622,3.68693164848507,3.6900748127207774,3.6932179769564852,3.6963611411921926,3.6995043054279004,3.7026474696636082,3.7057906338993156,3.7089337981350234,3.712076962370731,3.7152201266064386,3.7183632908421465,3.721506455077854,3.7246496193135616,3.7277927835492695,3.730935947784977,3.7340791120206847,3.737222276256392,3.7403654404921,3.7435086047278077,3.746651768963515,3.749794933199223,3.7529380974349302,3.756081261670638,3.759224425906346,3.7623675901420532,3.765510754377761,3.7686539186134684,3.7717970828491763,3.774940247084884,3.7780834113205914,3.7812265755562993,3.784369739792007,3.7875129040277145,3.7906560682634223,3.7937992324991296,3.7969423967348375,3.8000855609705453,3.8032287252062527,3.8063718894419605,3.809515053677668,3.8126582179133757,3.8158013821490835,3.818944546384791,3.8220877106204987,3.8252308748562065,3.828374039091914,3.8315172033276217,3.834660367563329,3.837803531799037,3.8409466960347447,3.844089860270452,3.84723302450616,3.8503761887418673,3.853519352977575,3.856662517213283,3.8598056814489903,3.862948845684698,3.866092009920406,3.8692351741561133,3.872378338391821,3.8755215026275285,3.8786646668632363,3.881807831098944,3.8849509953346515,3.8880941595703593,3.8912373238060667,3.8943804880417745,3.8975236522774823,3.9006668165131897,3.9038099807488975,3.9069531449846053,3.9100963092203127,3.9132394734560205,3.916382637691728,3.9195258019274357,3.9226689661631435,3.925812130398851,3.9289552946345587,3.932098458870266,3.935241623105974,3.9383847873416817,3.941527951577389,3.944671115813097,3.9478142800488047,3.950957444284512,3.95410060852022,3.9572437727559273,3.960386936991635,3.963530101227343,3.9666732654630503,3.969816429698758,3.9729595939344655,3.9761027581701733,3.979245922405881,3.9823890866415885,3.9855322508772963,3.9886754151130037,3.9918185793487115,3.9949617435844194,3.9981049078201267,4.0012480720558345,4.004391236291542,4.00753440052725,4.010677564762958,4.013820728998665,4.016963893234373,4.020107057470081,4.023250221705788,4.026393385941495,4.029536550177204,4.032679714412911,4.035822878648618,4.038966042884327,4.042109207120034,4.045252371355741,4.04839553559145,4.051538699827157,4.054681864062864,4.057825028298573,4.06096819253428,4.064111356769987,4.067254521005695,4.070397685241403,4.07354084947711,4.076684013712818,4.079827177948526,4.082970342184233,4.086113506419941,4.089256670655649,4.092399834891356,4.095542999127064,4.098686163362771,4.101829327598479,4.104972491834187,4.108115656069894,4.111258820305602,4.11440198454131,4.117545148777017,4.120688313012725,4.123831477248433,4.12697464148414,4.130117805719848,4.133260969955556,4.136404134191263,4.139547298426971,4.142690462662679,4.145833626898386,4.148976791134094,4.152119955369802,4.155263119605509,4.158406283841217,4.161549448076925,4.164692612312632,4.16783577654834,4.170978940784048,4.174122105019755,4.177265269255463,4.18040843349117,4.183551597726878,4.186694761962586,4.189837926198293,4.192981090434001,4.196124254669709,4.199267418905416,4.202410583141124,4.205553747376832,4.208696911612539,4.211840075848247,4.214983240083955,4.218126404319662,4.221269568555369,4.224412732791078,4.227555897026785,4.230699061262492,4.233842225498201,4.236985389733908,4.240128553969615,4.243271718205324,4.246414882441031,4.249558046676738,4.252701210912447,4.255844375148154,4.258987539383861,4.262130703619569,4.265273867855277,4.268417032090984,4.271560196326692,4.2747033605624,4.2778465247981075,4.280989689033815,4.284132853269523,4.2872760175052305,4.290419181740938,4.293562345976646,4.2967055102123535,4.299848674448061,4.302991838683768,4.3061350029194765,4.309278167155184,4.312421331390891,4.3155644956265995,4.318707659862307,4.321850824098014,4.3249939883337225,4.32813715256943,4.331280316805137,4.3344234810408455,4.337566645276553,4.34070980951226,4.343852973747968,4.346996137983676,4.350139302219383,4.353282466455091,4.356425630690799,4.359568794926506,4.362711959162214,4.365855123397922,4.368998287633629,4.372141451869337,4.375284616105045,4.378427780340752,4.38157094457646,4.384714108812167,4.387857273047875,4.391000437283583,4.39414360151929,4.397286765754998,4.400429929990706,4.403573094226413,4.406716258462121,4.409859422697829,4.413002586933536,4.416145751169244,4.419288915404952,4.422432079640659,4.4255752438763665,4.428718408112075,4.431861572347782,4.4350047365834895,4.438147900819198,4.441291065054905,4.4444342292906125,4.447577393526321,4.450720557762028,4.4538637219977355,4.457006886233444,4.460150050469151,4.4632932147048585,4.466436378940566,4.469579543176274,4.4727227074119815,4.475865871647689,4.479009035883397,4.4821522001191045,4.485295364354812,4.48843852859052,4.4915816928262275,4.494724857061935,4.497868021297643,4.501011185533351,4.504154349769058,4.507297514004765,4.510440678240474,4.513583842476181,4.516727006711888,4.519870170947597,4.523013335183304,4.526156499419011,4.52929966365472,4.532442827890427,4.535585992126134,4.538729156361842,4.54187232059755,4.545015484833257,4.548158649068965,4.551301813304673,4.55444497754038,4.557588141776088,4.560731306011796,4.563874470247503,4.567017634483211,4.570160798718919,4.573303962954626,4.576447127190334,4.579590291426041,4.582733455661749,4.585876619897457,4.589019784133164,4.592162948368872,4.59530611260458,4.598449276840287,4.601592441075995,4.604735605311703,4.60787876954741,4.611021933783118,4.614165098018826,4.617308262254533,4.6204514264902405,4.623594590725949,4.626737754961656,4.6298809191973636,4.633024083433072,4.636167247668779,4.639310411904487,4.642453576140195,4.645596740375902,4.64873990461161,4.651883068847318,4.655026233083025,4.658169397318733,4.66131256155444,4.664455725790148,4.667598890025856,4.670742054261563,4.673885218497271,4.677028382732979,4.680171546968686,4.683314711204394,4.686457875440102,4.689601039675809,4.692744203911517,4.695887368147225,4.699030532382932,4.702173696618639,4.705316860854348,4.708460025090055,4.711603189325762,4.714746353561471,4.717889517797178,4.721032682032885,4.724175846268594,4.727319010504301,4.730462174740008,4.733605338975717,4.736748503211424,4.739891667447131,4.743034831682839,4.746177995918547,4.749321160154254,4.752464324389962,4.75560748862567,4.758750652861377,4.761893817097085,4.765036981332793,4.7681801455685004,4.771323309804208,4.774466474039916,4.7776096382756235,4.780752802511331,4.783895966747038,4.7870391309827465,4.790182295218454,4.793325459454161,4.7964686236898695,4.799611787925577,4.802754952161284,4.8058981163969925,4.8090412806327,4.812184444868407,4.8153276091041155,4.818470773339823,4.82161393757553,4.824757101811238,4.827900266046946,4.831043430282653,4.834186594518361,4.837329758754069,4.840472922989776,4.843616087225484,4.846759251461192,4.849902415696899,4.853045579932607,4.856188744168315,4.859331908404022,4.86247507263973,4.865618236875437,4.868761401111145,4.871904565346853,4.87504772958256,4.878190893818268,4.881334058053976,4.884477222289683,4.887620386525391,4.890763550761099,4.893906714996806,4.897049879232514,4.900193043468222,4.903336207703929,4.9064793719396365,4.909622536175345,4.912765700411052,4.9159088646467595,4.919052028882468,4.922195193118175,4.9253383573538825,4.928481521589591,4.931624685825298,4.9347678500610055,4.937911014296713,4.941054178532421,4.9441973427681285,4.947340507003836,4.950483671239544,4.9536268354752515,4.956769999710959,4.959913163946667,4.9630563281823745,4.966199492418082,4.96934265665379,4.9724858208894975,4.975628985125205,4.978772149360912,4.9819153135966205,4.985058477832328,4.988201642068035,4.9913448063037436,4.994487970539451,4.997631134775158,5.000774299010867,5.003917463246574,5.007060627482281,5.01020379171799,5.013346955953697,5.016490120189404,5.019633284425112,5.02277644866082,5.025919612896527,5.029062777132235,5.032205941367943,5.03534910560365,5.038492269839358,5.041635434075066,5.044778598310773,5.047921762546481,5.051064926782189,5.054208091017896,5.057351255253604,5.060494419489311,5.063637583725019,5.066780747960727,5.069923912196434,5.073067076432142,5.07621024066785,5.079353404903557,5.082496569139265,5.085639733374973,5.08878289761068,5.091926061846388,5.095069226082096,5.098212390317803,5.1013555545535105,5.104498718789219,5.107641883024926,5.1107850472606335,5.113928211496342,5.117071375732049,5.1202145399677566,5.123357704203465,5.126500868439172,5.12964403267488,5.132787196910588,5.135930361146295,5.139073525382003,5.14221668961771,5.145359853853418,5.148503018089126,5.151646182324833,5.154789346560541,5.157932510796249,5.161075675031956,5.164218839267664,5.167362003503372,5.170505167739079,5.173648331974787,5.176791496210495,5.179934660446202,5.183077824681909,5.186220988917618,5.189364153153325,5.192507317389032,5.195650481624741,5.198793645860448,5.201936810096155,5.205079974331864,5.208223138567571,5.211366302803278,5.214509467038987,5.217652631274694,5.220795795510401,5.223938959746109,5.227082123981817,5.230225288217524,5.233368452453232,5.23651161668894,5.239654780924647,5.242797945160355,5.245941109396063,5.24908427363177,5.252227437867478,5.255370602103186,5.2585137663388934,5.261656930574601,5.264800094810308,5.2679432590460165,5.271086423281724,5.274229587517431,5.2773727517531395,5.280515915988847,5.283659080224554,5.2868022444602625,5.28994540869597,5.293088572931677,5.2962317371673855,5.299374901403093,5.3025180656388,5.305661229874508,5.308804394110216,5.311947558345923,5.315090722581631,5.318233886817339,5.321377051053046,5.324520215288754,5.327663379524462,5.330806543760169,5.333949707995877,5.337092872231585,5.340236036467292,5.343379200703,5.346522364938707,5.349665529174415,5.352808693410123,5.35595185764583,5.359095021881538,5.362238186117246,5.365381350352953,5.368524514588661,5.371667678824369,5.374810843060076,5.377954007295783,5.381097171531492,5.384240335767199,5.3873835000029064,5.390526664238615,5.393669828474322,5.3968129927100295,5.399956156945738,5.403099321181445,5.4062424854171525,5.409385649652861,5.412528813888568,5.4156719781242755,5.418815142359983,5.421958306595691,5.4251014708313985,5.428244635067106,5.431387799302814,5.4345309635385215,5.437674127774229,5.440817292009937,5.4439604562456445,5.447103620481352,5.45024678471706,5.4533899489527675,5.456533113188475,5.459676277424182,5.4628194416598905,5.465962605895598,5.469105770131305,5.4722489343670135,5.475392098602721,5.478535262838428,5.4816784270741366,5.484821591309844,5.487964755545551,5.49110791978126,5.494251084016967,5.497394248252674,5.500537412488382,5.50368057672409,5.506823740959797,5.509966905195505,5.513110069431213,5.51625323366692,5.519396397902628,5.522539562138336,5.525682726374043,5.528825890609751,5.531969054845459,5.535112219081166,5.538255383316874,5.541398547552581,5.544541711788289,5.547684876023997,5.550828040259704,5.553971204495412,5.55711436873112,5.560257532966827,5.563400697202535,5.566543861438243,5.56968702567395,5.572830189909658,5.575973354145366,5.579116518381073,5.5822596826167805,5.585402846852489,5.588546011088196,5.5916891753239035,5.594832339559612,5.597975503795319,5.6011186680310265,5.604261832266735,5.607404996502442,5.6105481607381495,5.613691324973858,5.616834489209565,5.619977653445273,5.62312081768098,5.626263981916688,5.629407146152396,5.632550310388103,5.635693474623811,5.638836638859519,5.641979803095226,5.645122967330934,5.648266131566642,5.651409295802349,5.654552460038057,5.657695624273765,5.660838788509472,5.663981952745179,5.667125116980888,5.670268281216595,5.673411445452302,5.676554609688011,5.679697773923718,5.682840938159425,5.685984102395134,5.689127266630841,5.692270430866548,5.695413595102257,5.698556759337964,5.701699923573671,5.704843087809379,5.707986252045087,5.711129416280794,5.714272580516502,5.71741574475221,5.720558908987917,5.723702073223625,5.726845237459333,5.72998840169504,5.733131565930748,5.736274730166456,5.739417894402163,5.742561058637871,5.745704222873578,5.7488473871092864,5.751990551344994,5.755133715580701,5.7582768798164095,5.761420044052117,5.764563208287824,5.7677063725235325,5.77084953675924,5.773992700994947,5.7771358652306555,5.780279029466363,5.78342219370207,5.786565357937778,5.789708522173486,5.792851686409193,5.795994850644901,5.799138014880609,5.802281179116316,5.805424343352024,5.808567507587732,5.811710671823439,5.814853836059147,5.817997000294854,5.821140164530562,5.82428332876627,5.827426493001977,5.830569657237685,5.833712821473393,5.8368559857091,5.839999149944808,5.843142314180516,5.846285478416223,5.849428642651931,5.852571806887639,5.855714971123346,5.858858135359053,5.862001299594762,5.865144463830469,5.868287628066176,5.871430792301885,5.874573956537592,5.877717120773299,5.880860285009008,5.884003449244715,5.8871466134804225,5.890289777716131,5.893432941951838,5.8965761061875455,5.899719270423253,5.902862434658961,5.9060055988946685,5.909148763130376,5.912291927366084,5.9154350916017915,5.918578255837499,5.921721420073207,5.9248645843089145,5.928007748544622,5.93115091278033,5.9342940770160375,5.937437241251745,5.940580405487452,5.9437235697231605,5.946866733958868,5.950009898194575,5.9531530624302835,5.956296226665991,5.959439390901698,5.9625825551374065,5.965725719373114,5.968868883608821,5.9720120478445295,5.975155212080237,5.978298376315944,5.981441540551652,5.98458470478736,5.987727869023067,5.990871033258775,5.994014197494483,5.99715736173019,6.000300525965898,6.003443690201606,6.006586854437313,6.009730018673021,6.012873182908729,6.016016347144436,6.019159511380144,6.022302675615851,6.025445839851559,6.028589004087267,6.031732168322974,6.034875332558682,6.03801849679439,6.041161661030097,6.044304825265805,6.047447989501513,6.05059115373722,6.053734317972928,6.056877482208636,6.060020646444343,6.0631638106800505,6.066306974915759,6.069450139151466,6.0725933033871735,6.075736467622882,6.078879631858589,6.0820227960942965,6.085165960330005,6.088309124565712,6.0914522888014195,6.094595453037128,6.097738617272835,6.1008817815085425,6.10402494574425,6.107168109979958,6.1103112742156656,6.113454438451373,6.116597602687081,6.119740766922789,6.122883931158496,6.126027095394204,6.129170259629912,6.132313423865619,6.135456588101327,6.138599752337035,6.141742916572742,6.144886080808449,6.148029245044158,6.151172409279865,6.154315573515572,6.157458737751281,6.160601901986988,6.163745066222695,6.166888230458404,6.170031394694111,6.173174558929818,6.176317723165527,6.179460887401234,6.182604051636941,6.185747215872649,6.188890380108357,6.192033544344064,6.195176708579772,6.19831987281548,6.201463037051187,6.204606201286895,6.207749365522603,6.21089252975831,6.214035693994018,6.217178858229726,6.220322022465433,6.223465186701141,6.226608350936848,6.229751515172556,6.232894679408264,6.236037843643971,6.239181007879679,6.242324172115387,6.245467336351094,6.2486105005868025,6.25175366482251,6.254896829058217,6.258039993293925,6.261183157529633,6.26432632176534,6.267469486001048,6.270612650236756,6.273755814472463,6.276898978708171,6.280042142943879,6.283185307179586],\"y\":[0.0,0.003143159060238096,0.006286287067720245,0.009429352969997286,0.01257232571523362,0.015715174252513998,0.018857867532150272,0.022000374505988164,0.025142664127713998,0.028284705353161424,0.0314264671406181,0.03456791845113242,0.03770902824882009,0.040849765501170796,0.04399009917935478,0.04712999825852939,0.05026943171814557,0.05340836854225433,0.056546777719813215,0.059684628244992606,0.06282188911748207,0.0659585293427967,0.06909451793258313,0.07222982390492594,0.07536441628465354,0.07849826410364426,0.08163133640113233,0.08476360222401372,0.08789503062715187,0.09102559067368361,0.09415525143532459,0.09728398199267493,0.10041175143552472,0.1035385288631593,0.10666428338466463,0.10978898411923245,0.11291260019646535,0.11603510075668172,0.11915645495122076,0.12227663194274711,0.12539560090555552,0.1285133310258755,0.1316297915021756,0.13474495154546787,0.13785878037961183,0.1409712472416188,0.14408232138195554,0.1471919720648482,0.150300168568586,0.15340688018582457,0.15651207622388952,0.15961572600507962,0.16271779886696974,0.16581826416271395,0.1689170912613482,0.17201424954809297,0.17510970842465573,0.17820343730953322,0.1812954056383136,0.18438558286397838,0.18747393845720423,0.1905604419066646,0.1936450627193311,0.19672777042077488,0.19980853455546754,0.20288732468708218,0.20596411039879395,0.20903886129358054,0.21211154699452278,0.2151821371451043,0.21825060140951183,0.2213169094729346,0.22438103104186405,0.22744293584439296,0.23050259363051478,0.23355997417242208,0.2366150472648055,0.23966778272515207,0.2427181503940434,0.24576612013545354,0.24881166183704698,0.2518547454104758,0.25489534079167714,0.25793341794117025,0.260968946844353,0.2640018975117988,0.26703223997955255,0.27005994430942676,0.2730849805892974,0.2761073189333995,0.27912692948262213,0.2821437824048034,0.28515784789502563,0.2881690961759093,0.29117749749790744,0.2941830221395997,0.2971856404079855,0.30018532263877806,0.3031820391966969,0.3061757604757607,0.30916645689958033,0.3121540989216503,0.315138657025641,0.31812010172569044,0.32109840356669545,0.32407353312460246,0.32704546100669857,0.33001415785190163,0.3329795943310505,0.33594174114719483,0.3389005690358841,0.3418560487654574,0.34480815113733165,0.34775684698629045,0.3507021071807718,0.3536439026231564,0.3565822042500548,0.35951698303259455,0.3624482099767071,0.36537585612341417,0.36829989254911394,0.37122029036586657,0.3741370207216799,0.37705005480079434,0.3799593638239676,0.3828649190487589,0.385766691769813,0.3886646533191438,0.3915587750664177,0.3944490284192361,0.39733538482341846,0.4002178157632836,0.40309629276193215,0.4059707873815275,0.40884127122357683,0.41170771592921185,0.4145700931794686,0.41742837469556754,0.42028253223919276,0.42313253761277114,0.4259783626597507,0.42881997926487897,0.43165735935448063,0.4344904748967348,0.43731929790195234,0.4401438004228519,0.44296395455483617,0.44577973243626795,0.4485911062487449,0.4513980482173744,0.45420053061104837,0.4569985257427169,0.45979200596966185,0.4625809436937699,0.4653653113618054,0.46814508146568234,0.4709202265427363,0.4736907191759956,0.47645653199445226,0.47921763767333253,0.4819740089343666,0.4847256185460583,0.48747243932395384,0.4902144441309109,0.4929516058773663,0.49568389752160347,0.4984112920700204,0.5011337625773953,0.5038512821471537,0.5065638239316335,0.5092713611323508,0.5119738670002639,0.5146713148360386,0.5173636779903108,0.5200509298639509,0.5227330439083256,0.525409993625561,0.528081752568804,0.5307482943424833,0.5334095926025708,0.5360656210568414,0.5387163534651331,0.5413617636396058,0.5440018254450003,0.5466365127988966,0.5492657996719715,0.5518896600882554,0.5545080681253896,0.5571209979148817,0.5597284236423617,0.5623303195478371,0.5649266599259464,0.5675174191262146,0.5701025715533049,0.5726820916672735,0.57525595398382,0.5778241330745406,0.5803866035671786,0.5829433401458751,0.5854943175514196,0.5880395105814988,0.5905788940909463,0.5931124429919904,0.5956401322545027,0.5981619369062444,0.600677832033114,0.6031877927793927,0.6056917943479906,0.6081898120006908,0.6106818210583949,0.6131677969013658,0.6156477149694718,0.6181215507624285,0.6205892798400412,0.6230508778224466,0.6255063203903531,0.6279555832852816,0.6303986423098045,0.6328354733277857,0.6352660522646181,0.6376903551074622,0.6401083579054827,0.6425200367700856,0.6449253678751542,0.6473243274572839,0.6497168918160177,0.6521030373140798,0.6544827403776098,0.6568559774963945,0.6592227252241015,0.6615829601785098,0.6639366590417412,0.6662837985604906,0.6686243555462559,0.670958306875567,0.6732856294902141,0.6756063003974755,0.6779202966703449,0.6802275954477582,0.6825281739348187,0.6848220094030226,0.6871090791904838,0.6893893607021574,0.6916628314100631,0.6939294688535079,0.6961892506393077,0.6984421544420086,0.700688158004108,0.7029272391362733,0.7051593757175627,0.7073845456956421,0.7096027270870046,0.711813897977186,0.7140180365209827,0.7162151209426669,0.718405129536202,0.7205880406654561,0.7227638327644174,0.7249324843374059,0.7270939739592863,0.7292482802756799,0.7313953820031746,0.7335352579295364,0.7356678869139185,0.7377932478870696,0.7399113198515427,0.7420220818819026,0.7441255131249321,0.7462215927998385,0.7483103001984588,0.7503916146854637,0.7524655156985628,0.754531982748706,0.7565909954202877,0.7586425333713469,0.7606865763337695,0.7627231041134874,0.7647520965906791,0.7667735337199675,0.7687873955306185,0.7707936621267382,0.7727923136874691,0.774783330467187,0.7767666927956944,0.7787423810784165,0.7807103757965934,0.7826706575074741,0.7846232068445077,0.7865680045175353,0.7885050313129801,0.7904342680940378,0.7923556958008651,0.7942692954507682,0.7961750481383906,0.7980729350358996,0.7999629373931723,0.8018450365379808,0.8037192138761771,0.8055854508918759,0.8074437291476388,0.8092940302846554,0.8111363360229249,0.8129706281614371,0.8147968885783518,0.816615099231178,0.8184252421569521,0.8202272994724157,0.8220212533741913,0.8238070861389596,0.8255847801236331,0.8273543177655321,0.8291156815825564,0.8308688541733595,0.8326138182175193,0.8343505564757104,0.8360790517898736,0.8377992870833855,0.8395112453612275,0.8412149097101534,0.8429102632988572,0.8445972893781382,0.8462759712810671,0.8479462924231513,0.8496082363024975,0.8512617864999755,0.8529069266793804,0.8545436405875937,0.8561719120547442,0.8577917249943673,0.8594030634035643,0.8610059113631607,0.8626002530378628,0.8641860726764146,0.8657633546117531,0.8673320832611641,0.8688922431264344,0.8704438187940066,0.87198679493513,0.8735211563060132,0.8750468877479742,0.8765639741875899,0.8780724006368452,0.8795721521932816,0.8810632140401432,0.8825455714465249,0.8840192097675159,0.8854841144443459,0.8869402710045283,0.8883876650620035,0.8898262823172801,0.8912561085575778,0.8926771296569662,0.8940893315765054,0.8954927003643844,0.8968872221560586,0.8982728831743872,0.8996496697297693,0.9010175682202791,0.9023765651317996,0.9037266470381573,0.9050678006012541,0.9064000125711993,0.9077232697864404,0.9090375591738927,0.9103428677490696,0.9116391826162099,0.9129264909684057,0.9142047800877281,0.9154740373453542,0.9167342502016907,0.9179854062064986,0.9192274929990153,0.9204604983080776,0.9216844099522427,0.9228992158399079,0.9241049039694311,0.9253014624292485,0.9264888793979928,0.9276671431446101,0.9288362420284748,0.9299961644995058,0.9311468990982801,0.932288434456146,0.9334207592953355,0.9345438624290754,0.9356577327616985,0.9367623592887524,0.9378577310971091,0.938943837365072,0.9400206673624831,0.9410882104508294,0.9421464560833474,0.9431953938051277,0.944235013253218,0.9452653041567258,0.9462862563369197,0.9472978597073298,0.9483001042738479,0.9492929801348252,0.9502764774811715,0.9512505865964508,0.9522152978569783,0.9531706017319148,0.9541164887833612,0.9550529496664516,0.9559799751294459,0.9568975560138205,0.9578056832543599,0.9587043478792451,0.959593541010143,0.960473253862294,0.9613434777445982,0.9622042040597021,0.9630554243040831,0.9638971300681336,0.9647293130362439,0.9655519649868846,0.9663650777926878,0.9671686434205272,0.9679626539315976,0.9687471014814936,0.9695219783202864,0.970287276792601,0.9710429893376917,0.9717891084895165,0.9725256268768111,0.973252537223162,0.9739698323470777,0.9746775051620601,0.9753755486766748,0.9760639559946193,0.976742720314792,0.9774118349313591,0.9780712932338202,0.9787210887070751,0.9793612149314864,0.9799916655829445,0.9806124344329288,0.9812235153485701,0.9818249022927109,0.9824165893239648,0.9829985705967758,0.9835708403614751,0.9841333929643393,0.9846862228476447,0.9852293245497233,0.9857626927050165,0.9862863220441276,0.9868002073938746,0.9873043436773412,0.9877987259139261,0.9882833492193934,0.98875820880592,0.9892232999821434,0.9896786181532077,0.9901241588208092,0.9905599175832408,0.9909858901354354,0.9914020722690086,0.9918084598723,0.9922050489304145,0.9925918355252606,0.9929688158355909,0.9933359861370382,0.9936933428021535,0.9940408823004411,0.9943786011983938,0.9947064961595269,0.9950245639444106,0.995332801410703,0.9956312055131803,0.9959197733037669,0.9961985019315652,0.9964673886428831,0.9967264307812617,0.9969756257875008,0.9972149711996852,0.9974444646532082,0.9976641038807956,0.9978738867125272,0.9980738110758594,0.9982638749956445,0.9984440765941512,0.9986144140910828,0.9987748858035943,0.9989254901463098,0.9990662256313378,0.9991970908682858,0.9993180845642742,0.9994292055239488,0.9995304526494934,0.9996218249406393,0.9997033214946769,0.9997749415064627,0.9998366842684291,0.9998885491705899,0.9999305357005471,0.9999626434434962,0.9999848720822294,0.9999972213971394,0.9999996912662218,0.9999922816650751,0.9999749926669027,0.9999478244425106,0.9999107772603066,0.9998638514862973,0.9998070475840847,0.9997403661148613,0.9996638077374049,0.9995773732080722,0.9994810633807905,0.9993748792070504,0.9992588217358954,0.9991328921139124,0.9989970915852197,0.9988514214914548,0.9986958832717616,0.998530478462776,0.99835520869861,0.9981700757108368,0.9979750813284729,0.9977702274779598,0.997555516183146,0.9973309495652656,0.9970965298429187,0.9968522593320488,0.9965981404459197,0.9963341756950921,0.9960603676873989,0.995776719127919,0.9954832328189506,0.9951799116599839,0.9948667586476722,0.9945437768758023,0.994210969535264,0.9938683399140186,0.9935158913970662,0.9931536274664124,0.9927815517010343,0.9923996677768443,0.9920079794666544,0.991606490640139,0.9911952052637959,0.9907741274009082,0.9903432612115034,0.9899026109523125,0.9894521809767279,0.9889919757347606,0.9885219997729958,0.9880422577345487,0.9875527543590178,0.9870534944824386,0.9865444830372357,0.9860257250521743,0.9854972256523098,0.984958990058938,0.984411023589543,0.983853331657745,0.9832859197732465,0.982708793541778,0.9821219586650427,0.9815254209406601,0.9809191862621087,0.9803032606186678,0.9796776500953583,0.9790423608728828,0.978397399227564,0.9777427715312833,0.9770784842514176,0.9764045439507755,0.9757209572875317,0.9750277310151628,0.974324871982379,0.9736123871330575,0.9728902835061733,0.9721585682357299,0.9714172485506886,0.9706663317748975,0.9699058253270189,0.9691357367204558,0.9683560735632782,0.9675668435581473,0.9667680545022398,0.965959714287171,0.9651418308989163,0.9643144124177327,0.9634774670180793,0.9626310029685355,0.9617750286317205,0.9609095524642097,0.9600345830164518,0.9591501289326843,0.9582561989508472,0.9573528019024984,0.9564399467127246,0.9555176424000543,0.9545858980763684,0.9536447229468099,0.9526941263096935,0.9517341175564132,0.9507647061713498,0.9497859017317772,0.9487977139077678,0.9478001524620966,0.9467932272501455,0.945776948219805,0.9447513254113767,0.9437163689574737,0.9426720890829208,0.9416184961046529,0.9405556004316138,0.9394834125646527,0.9384019430964213,0.9373112027112682,0.9362112021851339,0.9351019523854439,0.9339834642710024,0.9328557488918827,0.9317188173893186,0.9305726809955946,0.9294173510339345,0.92825283891839,0.9270791561537273,0.9258963143353139,0.9247043251490038,0.9235032003710226,0.9222929518678503,0.9210735915961046,0.9198451316024228,0.9186075840233425,0.9173609610851821,0.9161052751039194,0.9148405384850706,0.9135667637235674,0.9122839634036334,0.9109921501986602,0.9096913368710817,0.9083815362722486,0.9070627613423007,0.9057350251100397,0.9043983406928006,0.9030527212963207,0.9016981802146117,0.9003347308298253,0.8989623866121235,0.8975811611195446,0.8961910679978685,0.8947921209804836,0.893384333888249,0.8919677206293598,0.8905422951992092,0.8891080716802493,0.8876650642418533,0.8862132871401742,0.8847527547180054,0.8832834814046381,0.8818054817157183,0.8803187702531046,0.8788233617047235,0.8773192708444233,0.8758065125318298,0.8742851017121981,0.8727550534162658,0.8712163827601044,0.8696691049449691,0.8681132352571502,0.8665487890678203,0.8649757818328839,0.8633942290928242,0.8618041464725485,0.8602055496812363,0.8585984545121818,0.8569828768426383,0.8553588326336627,0.853726337929956,0.8520854088597062,0.8504360616344284,0.848778312548804,0.8471121779805212,0.8454376743901115,0.8437548183207888,0.8420636263982847,0.8403641153306841,0.8386563019082616,0.8369402030033143,0.8352158355699951,0.8334832166441466,0.8317423633431305,0.8299932928656607,0.8282360224916326,0.8264705695819514,0.8246969515783624,0.8229151860032768,0.8211252904596004,0.8193272826305583,0.8175211802795205,0.8157070012498272,0.8138847634646118,0.8120544849266234,0.8102161837180503,0.8083698780003398,0.80651558601402,0.8046533260785194,0.8027831165919848,0.8009049760311012,0.7990189229509077,0.7971249759846155,0.7952231538434233,0.7933134753163317,0.7913959592699589,0.7894706246483536,0.7875374904728074,0.7855965758416681,0.7836478999301495,0.7816914819901434,0.7797273413500289,0.7777554974144804,0.7757759696642779,0.7737887776561122,0.7717939410223943,0.7697914794710594,0.7677814127853725,0.7657637608237341,0.7637385435194824,0.7617057808806978,0.7596654929900051,0.757617700004373,0.755562422154918,0.7534996797467031,0.7514294931585361,0.7493518828427708,0.747266869325102,0.7451744732043656,0.7430747151523333,0.740967615913508,0.738853196304921,0.7367314772159238,0.7346024796079836,0.7324662245144758,0.7303227330404749,0.728172026362548,0.7260141257285443,0.7238490524573851,0.7216768279388545,0.7194974736333859,0.7173110110718521,0.7151174618553523,0.7129168476549963,0.7107091902116941,0.7084945113359379,0.7062728329075885,0.7040441768756591,0.7018085652580968,0.6995660201415671,0.6973165636812348,0.6950602181005443,0.6927970056910022,0.6905269488119543,0.6882500698903672,0.6859663914206058,0.6836759359642096,0.681378726149673,0.6790747846722183,0.6767641342935738,0.6744467978417489,0.6721227982108063,0.6697921583606385,0.6674549013167402,0.6651110501699791,0.6627606280763705,0.6604036582568462,0.6580401639970268,0.6556701686469911,0.6532936956210441,0.6509107683974883,0.6485214105183887,0.646125645589343,0.6437234972792474,0.6413149893200609,0.638900145506574,0.636478989696172,0.6340515458085985,0.6316178378257209,0.6291778897912916,0.6267317258107125,0.6242793700507955,0.6218208467395231,0.6193561801658114,0.6168853946792673,0.6144085146899502,0.6119255646681303,0.6094365691440451,0.6069415527076603,0.6044405400084232,0.6019335557550224,0.5994206247151421,0.5969017717152167,0.5943770216401876,0.5918463994332559,0.5893099300956354,0.5867676386863079,0.5842195503217725,0.5816656901758008,0.5791060834791861,0.5765407555194936,0.573969731640813,0.5713930372435054,0.5688106977839547,0.5662227387743147,0.5636291857822566,0.5610300644307185,0.5584254003976504,0.5558152194157605,0.5531995472722627,0.5505784098086193,0.5479518329202883,0.545319842556466,0.5426824647198305,0.5400397254662861,0.5373916509047041,0.5347382671966666,0.5320796005562075,0.529415677249552,0.5267465235948596,0.524072165961963,0.5213926307721063,0.5187079444976863,0.5160181336619887,0.513323224838928,0.5106232446527845,0.5079182197779395,0.5052081769386148,0.5024931429086051,0.4997731445110173,0.49704820861800314,0.4943183621504932,0.4915836320779331,0.48884404541801585,0.486099629236414,0.48335041064651457,0.4805964168091484,0.4778376749323244,0.4750742122709596,0.47230605612660875,0.4695332338471973,0.4667557728267481,0.4639737005051135,0.46118704436770297,0.4583958319452106,0.45560009081334535,0.45279984859255745,0.4499951329477642,0.4471859715880798,0.44437239226653796,0.4415544227798208,0.43873209096798305,0.4359054247141755,0.4330744519443727,0.43023920062709375,0.42739969877312867,0.4245559744352605,0.4217080557079871,0.4188559707272462,0.41599974767013437,0.41313941475463134,0.41027500023932023,0.4074065324231068,0.4045340396449426,0.4016575502835437,0.39877709275710915,0.3958926955230428,0.39300438707766927,0.39011219595595514,0.3872161507312257,0.38431628001488144,0.38141261245611857,0.37850517674164225,0.37559400159538636,0.37267911577822843,0.3697605480877041,0.3668383273577253,0.3639124824582941,0.3609830422952162,0.3580500358098182,0.35511349197865844,0.35217343981324367,0.34922990835974116,0.3462829266986904,0.3433325239447187,0.3403787292462505,0.33742157178522203,0.33446108077679176,0.33149728546905066,0.3285302151427358,0.32555989911093947,0.32258636671881874,0.31960964734330827,0.3166297703928268,0.3136467653069894,0.31066066155631555,0.30767148864193655,0.3046792760953073,0.3016840534779108,0.29868585038096923,0.2956846964251505,0.29268062126027394,0.2896736545650204,0.2866638260466374,0.28365116544064456,0.2806357025105426,0.2776174670475161,0.27459648887014215,0.2715727978240943,0.26854642378184673,0.2655173966423816,0.26248574633089083,0.2594515027984831,0.2564146960218867,0.2533753560031522,0.2503335127693585,0.247289196372315,0.24424243688826333,0.2411932644175833,0.23814170908449195,0.23508780103674906,0.2320315704453581,0.22897304750426659,0.2259122624300711,0.2228492454617151,0.21978402686019335,0.21671663690825152,0.21364710591008582,0.21057546419104656,0.2075017420973352,0.20442596999570747,0.20134817827317206,0.19826839733668922,0.19518665761287282,0.19210298954768854,0.1890174236061518,0.18592999027202972,0.18284072004753657,0.17974964345303537,0.17665679102673523,0.1735621933243882,0.17046588091899034,0.1673678844004766,0.16426823437542112,0.161166961466734,0.15806409631335722,0.15495966956996451,0.15185371190665742,0.1487462540086608,0.14563732657602277,0.142526960323308,0.13941518597929717,0.13630203428668222,0.13318753600176125,0.13007172189413768,0.12695462274641287,0.123836269353885,0.12071669252424352,0.11759592307726349,0.1144739918445037,0.11135092966900079,0.10822676740496319,0.10510153591746937,0.10197526608215945,0.09884798878493316,0.09571973492164343,0.09259053539778982,0.08946042112821631,0.0863294230368023,0.08319757205616021,0.08006489912732856,0.07693143519946496,0.073797211229543,0.07066225818204507,0.06752660702865515,0.06439028874795592,0.061253334325119146,0.05811577475160265,0.05497764102484286,0.051838964147947184,0.04869977512939083,0.04556010498270696,0.04241998472618333,0.03927944538255454,0.036138517978694246,0.032997233545311234,0.029855623116641576,0.026713717730140668,0.023571548426179704,0.02042914624773548,0.01728654224008679,0.014143767450506394,0.011000852927952965,0.007857829722767433,0.00471472888636268,0.001571581470919876,-0.001571581470919631,-0.0047147288863624345,-0.007857829722766744,-0.01100085292795272,-0.01414376745050615,-0.017286542240086543,-0.020429146247735234,-0.02357154842617946,-0.026713717730140422,-0.02985562311664133,-0.032997233545310985,-0.036138517978693996,-0.0392794453825543,-0.04241998472618309,-0.04556010498270672,-0.048699775129390145,-0.051838964147946934,-0.054977641024842615,-0.05811577475160241,-0.061253334325118904,-0.06439028874795567,-0.06752660702865491,-0.07066225818204482,-0.07379721122954275,-0.07693143519946471,-0.08006489912732832,-0.08319757205615996,-0.08632942303680206,-0.08946042112821563,-0.09259053539778958,-0.09571973492164318,-0.09884798878493291,-0.1019752660821592,-0.10510153591746914,-0.10822676740496294,-0.11135092966900055,-0.11447399184450346,-0.11759592307726326,-0.12071669252424329,-0.12383626935388475,-0.12695462274641264,-0.130071721894137,-0.133187536001761,-0.136302034286682,-0.13941518597929692,-0.14252696032330775,-0.14563732657602252,-0.14874625400866054,-0.15185371190665717,-0.15495966956996426,-0.15806409631335697,-0.1611669614667338,-0.1642682343754209,-0.16736788440047634,-0.17046588091898968,-0.17356219332438794,-0.176656791026735,-0.17974964345303515,-0.18284072004753632,-0.18592999027202906,-0.18901742360615156,-0.1921029895476883,-0.19518665761287257,-0.19826839733668897,-0.20134817827317184,-0.20442596999570722,-0.20750174209733496,-0.2105754641910459,-0.21364710591008557,-0.21671663690825127,-0.2197840268601931,-0.22284924546171486,-0.22591226243007043,-0.22897304750426634,-0.23203157044535785,-0.23508780103674884,-0.2381417090844917,-0.24119326441758304,-0.2442424368882631,-0.24728919637231475,-0.2503335127693582,-0.2533753560031519,-0.25641469602188643,-0.25945150279848284,-0.2624857463308906,-0.26551739664238094,-0.26854642378184646,-0.2715727978240941,-0.27459648887014193,-0.27761746704751583,-0.2806357025105423,-0.28365116544064434,-0.2866638260466372,-0.2896736545650202,-0.2926806212602737,-0.2956846964251502,-0.298685850380969,-0.30168405347791055,-0.30467927609530665,-0.30767148864193633,-0.3106606615563153,-0.31364676530698915,-0.3166297703928266,-0.31960964734330805,-0.3225863667188185,-0.3255598991109392,-0.32853021514273556,-0.33149728546905044,-0.33446108077679154,-0.3374215717852218,-0.3403787292462503,-0.343332523944718,-0.34628292669869015,-0.34922990835974094,-0.35217343981324345,-0.3551134919786582,-0.3580500358098179,-0.360983042295216,-0.3639124824582939,-0.3668383273577251,-0.36976054808770387,-0.3726791157782282,-0.37559400159538614,-0.378505176741642,-0.3814126124561179,-0.3843162800148812,-0.38721615073122545,-0.3901121959559549,-0.39300438707766905,-0.3958926955230422,-0.39877709275710893,-0.4016575502835435,-0.4045340396449424,-0.4074065324231066,-0.41027500023932,-0.4131394147546311,-0.41599974767013415,-0.41885597072724556,-0.42170805570798686,-0.4245559744352603,-0.42739969877312844,-0.43023920062709353,-0.4330744519443721,-0.43590542471417526,-0.4387320909679828,-0.4415544227798206,-0.44437239226653774,-0.4471859715880796,-0.44999513294776405,-0.45279984859255723,-0.4556000908133451,-0.4583958319452104,-0.46118704436770275,-0.4639737005051133,-0.4667557728267479,-0.4695332338471967,-0.47230605612660853,-0.47507421227095936,-0.47783767493232415,-0.48059641680914816,-0.48335041064651435,-0.4860996292364138,-0.4888440454180157,-0.4915836320779329,-0.49431836215049296,-0.4970482086180029,-0.49977314451101706,-0.5024931429086049,-0.5052081769386141,-0.5079182197779393,-0.5106232446527843,-0.5133232248389278,-0.5160181336619885,-0.5187079444976861,-0.5213926307721061,-0.5240721659619629,-0.5267465235948594,-0.5294156772495517,-0.5320796005562073,-0.5347382671966664,-0.5373916509047039,-0.5400397254662855,-0.5426824647198303,-0.5453198425564658,-0.547951832920288,-0.5505784098086192,-0.5531995472722625,-0.5558152194157603,-0.5584254003976502,-0.5610300644307183,-0.5636291857822565,-0.5662227387743145,-0.5688106977839544,-0.5713930372435052,-0.5739697316408124,-0.5765407555194934,-0.5791060834791859,-0.5816656901758006,-0.5842195503217723,-0.5867676386863072,-0.5893099300956351,-0.5918463994332557,-0.5943770216401875,-0.5969017717152165,-0.5994206247151419,-0.6019335557550222,-0.604440540008423,-0.6069415527076597,-0.6094365691440449,-0.6119255646681301,-0.6144085146899501,-0.6168853946792671,-0.6193561801658108,-0.6218208467395229,-0.6242793700507953,-0.6267317258107123,-0.6291778897912914,-0.6316178378257207,-0.6340515458085982,-0.6364789896961719,-0.6389001455065738,-0.6413149893200607,-0.6437234972792472,-0.6461256455893429,-0.6485214105183885,-0.6509107683974877,-0.6532936956210439,-0.6556701686469909,-0.6580401639970267,-0.660403658256846,-0.6627606280763703,-0.6651110501699788,-0.66745490131674,-0.6697921583606384,-0.6721227982108061,-0.6744467978417488,-0.6767641342935737,-0.679074784672218,-0.6813787261496725,-0.6836759359642095,-0.6859663914206056,-0.6882500698903671,-0.6905269488119541,-0.692797005691002,-0.6950602181005442,-0.6973165636812346,-0.6995660201415669,-0.7018085652580967,-0.704044176875659,-0.7062728329075884,-0.7084945113359377,-0.7107091902116937,-0.7129168476549961,-0.7151174618553521,-0.717311011071852,-0.7194974736333857,-0.7216768279388543,-0.723849052457385,-0.7260141257285442,-0.7281720263625479,-0.7303227330404748,-0.7324662245144757,-0.7346024796079834,-0.7367314772159236,-0.7388531963049205,-0.7409676159135078,-0.743074715152333,-0.7451744732043655,-0.7472668693251019,-0.7493518828427703,-0.7514294931585359,-0.753499679746703,-0.7555624221549179,-0.7576177000043728,-0.7596654929900046,-0.7617057808806981,-0.7637385435194822,-0.7657637608237337,-0.7677814127853726,-0.7697914794710593,-0.7717939410223942,-0.7737887776561119,-0.7757759696642776,-0.7777554974144802,-0.7797273413500284,-0.7816914819901435,-0.7836478999301494,-0.7855965758416676,-0.7875374904728075,-0.7894706246483535,-0.7913959592699588,-0.7933134753163319,-0.7952231538434232,-0.7971249759846153,-0.7990189229509073,-0.800904976031101,-0.8027831165919846,-0.804653326078519,-0.8065155860140201,-0.8083698780003397,-0.8102161837180499,-0.8120544849266235,-0.8138847634646117,-0.815707001249827,-0.8175211802795201,-0.8193272826305581,-0.8211252904596001,-0.8229151860032765,-0.8246969515783623,-0.8264705695819513,-0.8282360224916322,-0.8299932928656608,-0.8317423633431303,-0.8334832166441462,-0.8352158355699952,-0.8369402030033142,-0.8386563019082613,-0.8403641153306838,-0.8420636263982846,-0.8437548183207887,-0.8454376743901112,-0.8471121779805211,-0.8487783125488039,-0.8504360616344281,-0.8520854088597063,-0.8537263379299559,-0.8553588326336623,-0.8569828768426383,-0.8585984545121816,-0.8602055496812362,-0.8618041464725482,-0.863394229092824,-0.8649757818328837,-0.86654878906782,-0.8681132352571501,-0.869669104944969,-0.871216382760104,-0.8727550534162659,-0.874285101712198,-0.8758065125318295,-0.8773192708444233,-0.8788233617047233,-0.8803187702531045,-0.8818054817157179,-0.883283481404638,-0.8847527547180053,-0.8862132871401739,-0.8876650642418532,-0.8891080716802492,-0.890542295199209,-0.8919677206293599,-0.8933843338882489,-0.8947921209804832,-0.8961910679978686,-0.8975811611195444,-0.8989623866121234,-0.900334730829825,-0.9016981802146116,-0.9030527212963206,-0.9043983406928002,-0.9057350251100398,-0.9070627613423006,-0.9083815362722483,-0.9096913368710817,-0.9109921501986601,-0.9122839634036333,-0.9135667637235675,-0.9148405384850705,-0.9161052751039193,-0.9173609610851817,-0.9186075840233424,-0.9198451316024226,-0.9210735915961044,-0.9222929518678502,-0.9235032003710225,-0.9247043251490037,-0.9258963143353138,-0.9270791561537273,-0.9282528389183898,-0.9294173510339346,-0.9305726809955945,-0.9317188173893184,-0.9328557488918824,-0.9339834642710024,-0.9351019523854439,-0.9362112021851337,-0.9373112027112682,-0.9384019430964213,-0.9394834125646526,-0.9405556004316138,-0.9416184961046528,-0.9426720890829206,-0.9437163689574738,-0.9447513254113766,-0.9457769482198048,-0.9467932272501453,-0.9478001524620966,-0.9487977139077677,-0.949785901731777,-0.9507647061713498,-0.9517341175564131,-0.9526941263096933,-0.9536447229468099,-0.9545858980763683,-0.9555176424000542,-0.9564399467127246,-0.9573528019024984,-0.9582561989508471,-0.959150128932684,-0.9600345830164518,-0.9609095524642096,-0.9617750286317204,-0.9626310029685355,-0.9634774670180792,-0.9643144124177326,-0.9651418308989163,-0.965959714287171,-0.9667680545022397,-0.9675668435581474,-0.9683560735632782,-0.9691357367204557,-0.9699058253270187,-0.9706663317748975,-0.9714172485506885,-0.9721585682357297,-0.9728902835061733,-0.9736123871330575,-0.9743248719823789,-0.9750277310151628,-0.9757209572875317,-0.9764045439507754,-0.9770784842514177,-0.9777427715312833,-0.978397399227564,-0.9790423608728827,-0.9796776500953583,-0.9803032606186677,-0.9809191862621086,-0.9815254209406601,-0.9821219586650426,-0.9827087935417779,-0.9832859197732465,-0.983853331657745,-0.984411023589543,-0.9849589900589379,-0.9854972256523098,-0.9860257250521742,-0.9865444830372356,-0.9870534944824386,-0.9875527543590177,-0.9880422577345486,-0.9885219997729958,-0.9889919757347605,-0.9894521809767278,-0.9899026109523126,-0.9903432612115034,-0.9907741274009082,-0.9911952052637958,-0.991606490640139,-0.9920079794666544,-0.9923996677768442,-0.9927815517010343,-0.9931536274664124,-0.9935158913970661,-0.9938683399140186,-0.994210969535264,-0.9945437768758022,-0.9948667586476722,-0.9951799116599839,-0.9954832328189505,-0.9957767191279189,-0.9960603676873989,-0.9963341756950921,-0.9965981404459195,-0.9968522593320487,-0.9970965298429187,-0.9973309495652656,-0.9975555161831459,-0.9977702274779598,-0.9979750813284729,-0.9981700757108369,-0.99835520869861,-0.9985304784627759,-0.9986958832717616,-0.9988514214914548,-0.9989970915852197,-0.9991328921139124,-0.9992588217358954,-0.9993748792070504,-0.9994810633807905,-0.9995773732080722,-0.9996638077374049,-0.9997403661148613,-0.9998070475840847,-0.9998638514862973,-0.9999107772603066,-0.9999478244425106,-0.9999749926669027,-0.9999922816650751,-0.9999996912662218,-0.9999972213971394,-0.9999848720822294,-0.9999626434434962,-0.9999305357005471,-0.9998885491705899,-0.9998366842684291,-0.9997749415064627,-0.9997033214946769,-0.9996218249406393,-0.9995304526494934,-0.9994292055239488,-0.9993180845642742,-0.9991970908682858,-0.9990662256313378,-0.9989254901463098,-0.9987748858035943,-0.9986144140910828,-0.9984440765941512,-0.9982638749956445,-0.9980738110758594,-0.9978738867125272,-0.9976641038807956,-0.9974444646532084,-0.9972149711996852,-0.9969756257875008,-0.9967264307812617,-0.9964673886428831,-0.9961985019315652,-0.9959197733037669,-0.9956312055131803,-0.995332801410703,-0.9950245639444106,-0.9947064961595268,-0.9943786011983938,-0.9940408823004412,-0.9936933428021536,-0.9933359861370382,-0.9929688158355909,-0.9925918355252608,-0.9922050489304145,-0.9918084598723002,-0.9914020722690087,-0.9909858901354354,-0.9905599175832408,-0.9901241588208093,-0.9896786181532077,-0.9892232999821434,-0.9887582088059201,-0.9882833492193935,-0.9877987259139261,-0.9873043436773412,-0.9868002073938748,-0.9862863220441276,-0.9857626927050165,-0.9852293245497235,-0.9846862228476447,-0.9841333929643393,-0.9835708403614752,-0.9829985705967756,-0.9824165893239648,-0.9818249022927109,-0.9812235153485702,-0.9806124344329288,-0.9799916655829446,-0.9793612149314866,-0.9787210887070751,-0.9780712932338204,-0.9774118349313592,-0.976742720314792,-0.9760639559946194,-0.9753755486766749,-0.9746775051620603,-0.9739698323470777,-0.9732525372231621,-0.9725256268768113,-0.9717891084895165,-0.9710429893376917,-0.9702872767926012,-0.9695219783202864,-0.9687471014814937,-0.9679626539315977,-0.9671686434205271,-0.9663650777926878,-0.9655519649868847,-0.964729313036244,-0.9638971300681336,-0.9630554243040832,-0.9622042040597023,-0.9613434777445982,-0.9604732538622941,-0.9595935410101433,-0.9587043478792452,-0.95780568325436,-0.9568975560138206,-0.9559799751294458,-0.9550529496664516,-0.9541164887833613,-0.953170601731915,-0.9522152978569783,-0.9512505865964509,-0.9502764774811717,-0.9492929801348252,-0.9483001042738479,-0.94729785970733,-0.9462862563369197,-0.9452653041567259,-0.9442350132532181,-0.9431953938051276,-0.9421464560833475,-0.9410882104508296,-0.9400206673624834,-0.938943837365072,-0.9378577310971092,-0.9367623592887527,-0.9356577327616985,-0.9345438624290755,-0.9334207592953356,-0.9322884344561461,-0.9311468990982802,-0.929996164499506,-0.9288362420284747,-0.9276671431446101,-0.9264888793979931,-0.9253014624292488,-0.9241049039694311,-0.922899215839908,-0.9216844099522429,-0.9204604983080776,-0.9192274929990154,-0.9179854062064988,-0.9167342502016907,-0.9154740373453543,-0.9142047800877283,-0.9129264909684056,-0.91163918261621,-0.9103428677490698,-0.909037559173893,-0.9077232697864404,-0.9064000125711995,-0.9050678006012545,-0.9037266470381573,-0.9023765651317998,-0.9010175682202793,-0.8996496697297695,-0.8982728831743874,-0.8968872221560589,-0.8954927003643843,-0.8940893315765055,-0.8926771296569664,-0.8912561085575781,-0.8898262823172802,-0.8883876650620036,-0.8869402710045287,-0.8854841144443459,-0.884019209767516,-0.8825455714465251,-0.8810632140401433,-0.8795721521932817,-0.8780724006368454,-0.8765639741875898,-0.8750468877479743,-0.8735211563060135,-0.8719867949351303,-0.8704438187940066,-0.8688922431264346,-0.8673320832611644,-0.8657633546117532,-0.8641860726764147,-0.862600253037863,-0.8610059113631607,-0.8594030634035644,-0.8577917249943675,-0.8561719120547441,-0.8545436405875938,-0.8529069266793806,-0.8512617864999759,-0.8496082363024975,-0.8479462924231514,-0.8462759712810675,-0.8445972893781382,-0.8429102632988574,-0.8412149097101538,-0.8395112453612273,-0.8377992870833856,-0.8360790517898739,-0.8343505564757103,-0.8326138182175195,-0.8308688541733596,-0.8291156815825569,-0.8273543177655321,-0.8255847801236333,-0.8238070861389598,-0.8220212533741913,-0.8202272994724158,-0.8184252421569524,-0.816615099231178,-0.8147968885783519,-0.8129706281614374,-0.8111363360229248,-0.8092940302846554,-0.8074437291476391,-0.8055854508918763,-0.8037192138761771,-0.801845036537981,-0.7999629373931727,-0.7980729350358996,-0.7961750481383908,-0.7942692954507685,-0.792355695800865,-0.7904342680940378,-0.7885050313129803,-0.7865680045175357,-0.7846232068445078,-0.7826706575074743,-0.7807103757965939,-0.7787423810784165,-0.7767666927956947,-0.7747833304671874,-0.7727923136874691,-0.7707936621267383,-0.7687873955306188,-0.7667735337199675,-0.7647520965906792,-0.7627231041134878,-0.7606865763337699,-0.758642533371347,-0.7565909954202878,-0.7545319827487065,-0.7524655156985628,-0.750391614685464,-0.7483103001984591,-0.7462215927998386,-0.7441255131249322,-0.742022081881903,-0.7399113198515426,-0.7377932478870697,-0.7356678869139188,-0.733535257929537,-0.7313953820031747,-0.7292482802756801,-0.7270939739592869,-0.724932484337406,-0.7227638327644176,-0.7205880406654565,-0.7184051295362018,-0.7162151209426671,-0.7140180365209831,-0.7118138979771859,-0.7096027270870047,-0.7073845456956425,-0.7051593757175632,-0.7029272391362734,-0.7006881580041082,-0.6984421544420092,-0.6961892506393077,-0.6939294688535081,-0.6916628314100636,-0.6893893607021574,-0.6871090791904839,-0.684822009403023,-0.6825281739348186,-0.6802275954477583,-0.6779202966703453,-0.6756063003974759,-0.6732856294902141,-0.6709583068755673,-0.6686243555462564,-0.6662837985604906,-0.6639366590417414,-0.6615829601785101,-0.6592227252241014,-0.6568559774963947,-0.6544827403776101,-0.6521030373140797,-0.6497168918160178,-0.6473243274572842,-0.6449253678751548,-0.6425200367700857,-0.640108357905483,-0.6376903551074626,-0.6352660522646181,-0.6328354733277859,-0.6303986423098049,-0.6279555832852814,-0.6255063203903533,-0.6230508778224471,-0.6205892798400411,-0.6181215507624286,-0.6156477149694721,-0.6131677969013664,-0.610681821058395,-0.6081898120006911,-0.605691794347991,-0.6031877927793927,-0.6006778320331142,-0.5981619369062449,-0.5956401322545026,-0.5931124429919906,-0.5905788940909467,-0.5880395105814987,-0.5854943175514197,-0.5829433401458755,-0.5803866035671792,-0.5778241330745407,-0.5752559539838203,-0.5726820916672739,-0.5701025715533049,-0.5675174191262147,-0.5649266599259469,-0.5623303195478371,-0.559728423642362,-0.5571209979148821,-0.5545080681253894,-0.5518896600882555,-0.5492657996719718,-0.5466365127988971,-0.5440018254450003,-0.541361763639606,-0.5387163534651336,-0.5360656210568414,-0.533409592602571,-0.5307482943424837,-0.5280817525688039,-0.5254099936255612,-0.522733043908326,-0.5200509298639507,-0.5173636779903109,-0.5146713148360389,-0.5119738670002645,-0.5092713611323508,-0.5065638239316338,-0.5038512821471542,-0.5011337625773953,-0.4984112920700206,-0.49568389752160397,-0.4929516058773662,-0.4902144441309111,-0.4874724393239543,-0.4847256185460581,-0.4819740089343667,-0.47921763767333286,-0.4764565319944528,-0.4736907191759956,-0.4709202265427366,-0.4681450814656829,-0.46536531136180537,-0.4625809436937701,-0.4597920059696623,-0.4569985257427168,-0.45420053061104854,-0.4513980482173748,-0.44859110624874554,-0.4457797324362681,-0.44296395455483656,-0.44014380042285245,-0.4373192979019524,-0.4344904748967351,-0.43165735935448113,-0.42881997926487897,-0.4259783626597509,-0.4231325376127716,-0.4202825322391927,-0.4174283746955677,-0.414570093179469,-0.4117077159292125,-0.40884127122357694,-0.4059707873815278,-0.4030962927619327,-0.4002178157632836,-0.39733538482341874,-0.3944490284192367,-0.3915587750664176,-0.388664653319144,-0.38576669176981343,-0.3828649190487588,-0.3799593638239678,-0.3770500548007948,-0.3741370207216806,-0.3712202903658666,-0.36829989254911427,-0.3653758561234148,-0.3624482099767071,-0.35951698303259483,-0.3565822042500554,-0.3536439026231564,-0.35070210718077205,-0.34775684698629095,-0.3448081511373316,-0.34185604876545755,-0.3389005690358845,-0.33594174114719544,-0.3329795943310506,-0.33001415785190197,-0.3270454610066992,-0.32407353312460246,-0.3210984035666957,-0.318120101725691,-0.315138657025641,-0.3121540989216505,-0.30916645689958083,-0.3061757604757606,-0.303182039196697,-0.30018532263877845,-0.2971856404079862,-0.29418302213959974,-0.2911774974979078,-0.2881690961759099,-0.2851578478950257,-0.2821437824048037,-0.2791269294826227,-0.2761073189333995,-0.2730849805892977,-0.2700599443094272,-0.2670322399795524,-0.2640018975117989,-0.2609689468443534,-0.2579334179411709,-0.25489534079167725,-0.25185474541047614,-0.2488116618370476,-0.24576612013545357,-0.24271815039404365,-0.2396677827251526,-0.23661504726480545,-0.23355997417242227,-0.23050259363051526,-0.22744293584439285,-0.22438103104186416,-0.221316909472935,-0.2182506014095125,-0.2151821371451044,-0.21211154699452314,-0.20903886129358118,-0.20596411039879395,-0.20288732468708245,-0.1998085345554681,-0.1967277704207748,-0.1936450627193313,-0.19056044190666505,-0.1874739384572041,-0.18438558286397852,-0.181295405638314,-0.1782034373095339,-0.17510970842465579,-0.1720142495480933,-0.1689170912613488,-0.16581826416271395,-0.16271779886697002,-0.15961572600508017,-0.15651207622388946,-0.15340688018582477,-0.15030016856858644,-0.14719197206484805,-0.14408232138195565,-0.1409712472416192,-0.13785878037961252,-0.13474495154546792,-0.13162979150217594,-0.1285133310258761,-0.12539560090555552,-0.12227663194274736,-0.1191564549512213,-0.11603510075668165,-0.11291260019646553,-0.10978898411923292,-0.1066642833846645,-0.10353852886315942,-0.10041175143552511,-0.09728398199267561,-0.09415525143532465,-0.09102559067368395,-0.08789503062715248,-0.08476360222401369,-0.0816313364011326,-0.0784982641036448,-0.07536441628465346,-0.07222982390492613,-0.06909451793258359,-0.06595852934279653,-0.0628218891174822,-0.059684628244992995,-0.05654677771981388,-0.053408368542254385,-0.050269431718145886,-0.04712999825852999,-0.043990099179354765,-0.040849765501171045,-0.03770902824882061,-0.03456791845113233,-0.03142646714061829,-0.028284705353161875,-0.025142664127714726,-0.022000374505988275,-0.018857867532150657,-0.015715174252514653,-0.012572325715233661,-0.0094293529699976,-0.006286287067720833,-0.0031431590602380684,-2.4492935982947064e-16]}},\"id\":\"77bb39ca-aeda-445e-944c-8486728c9ae1\",\"type\":\"ColumnDataSource\"},{\"attributes\":{\"end_angle\":{\"field\":\"end_angle\",\"units\":\"rad\"},\"fill_alpha\":{\"value\":0.1},\"fill_color\":{\"value\":\"#1f77b4\"},\"line_alpha\":{\"value\":0.1},\"line_color\":{\"value\":\"#1f77b4\"},\"radius\":{\"units\":\"data\",\"value\":1},\"start_angle\":{\"field\":\"start_angle\",\"units\":\"rad\"},\"x\":{\"value\":0},\"y\":{\"value\":0}},\"id\":\"ee3f33e2-e621-4b0a-809d-fc1cc61bd0be\",\"type\":\"Wedge\"},{\"attributes\":{\"formatter\":{\"id\":\"91058b23-8cf3-4bd9-af3e-5a8ec677fea8\",\"type\":\"BasicTickFormatter\"},\"plot\":{\"id\":\"204142a8-e26b-406a-98e5-cad90c8fbd0b\",\"subtype\":\"Figure\",\"type\":\"Plot\"},\"ticker\":{\"id\":\"95ed5978-b6a6-4a96-8a45-f7bd81fc5cc8\",\"type\":\"BasicTicker\"}},\"id\":\"396d895d-429e-42a5-b55b-a18a9f140106\",\"type\":\"LinearAxis\"},{\"attributes\":{\"data_source\":{\"id\":\"77bb39ca-aeda-445e-944c-8486728c9ae1\",\"type\":\"ColumnDataSource\"},\"glyph\":{\"id\":\"8eb79b0b-d096-4fca-aa4a-5892ed64812c\",\"type\":\"Line\"},\"hover_glyph\":null,\"nonselection_glyph\":{\"id\":\"a903c242-3643-4e10-978c-44d64fff3e94\",\"type\":\"Line\"},\"selection_glyph\":null},\"id\":\"efa3a492-582b-4abe-bd44-34ae66749c99\",\"type\":\"GlyphRenderer\"},{\"attributes\":{},\"id\":\"ffc80d70-b6b2-4ead-af41-6fb07caf6f43\",\"type\":\"BasicTicker\"},{\"attributes\":{\"plot\":{\"id\":\"1eee09c1-f8ed-4894-b717-5ef17bd9c572\",\"subtype\":\"Figure\",\"type\":\"Plot\"}},\"id\":\"79a0fc0d-4b14-445b-be58-8234a1d0d777\",\"type\":\"ResetTool\"},{\"attributes\":{},\"id\":\"95ed5978-b6a6-4a96-8a45-f7bd81fc5cc8\",\"type\":\"BasicTicker\"},{\"attributes\":{},\"id\":\"2d8585d1-6dc6-4c85-afa3-f2f8f70ac3e4\",\"type\":\"BasicTicker\"},{\"attributes\":{\"plot\":{\"id\":\"5806546e-d454-4786-ac77-9898c854fe55\",\"subtype\":\"Figure\",\"type\":\"Plot\"},\"ticker\":{\"id\":\"2d8585d1-6dc6-4c85-afa3-f2f8f70ac3e4\",\"type\":\"BasicTicker\"}},\"id\":\"dece1431-5572-43c3-903e-8613417836ee\",\"type\":\"Grid\"},{\"attributes\":{\"line_alpha\":{\"value\":0.1},\"line_color\":{\"value\":\"#1f77b4\"},\"line_width\":{\"value\":3},\"x\":{\"field\":\"x\"},\"y\":{\"field\":\"y\"}},\"id\":\"5b0241c3-fb71-4280-a5a5-e10c231238af\",\"type\":\"Line\"},{\"attributes\":{},\"id\":\"842b0aae-d85a-4a9a-9c7d-bec7b0977049\",\"type\":\"BasicTicker\"},{\"attributes\":{\"bottom_units\":\"screen\",\"fill_alpha\":{\"value\":0.5},\"fill_color\":{\"value\":\"lightgrey\"},\"left_units\":\"screen\",\"level\":\"overlay\",\"line_alpha\":{\"value\":1.0},\"line_color\":{\"value\":\"black\"},\"line_dash\":[4,4],\"line_width\":{\"value\":2},\"plot\":null,\"render_mode\":\"css\",\"right_units\":\"screen\",\"top_units\":\"screen\"},\"id\":\"676c476a-5913-4f51-9413-25fe794b4786\",\"type\":\"BoxAnnotation\"},{\"attributes\":{\"callback\":null,\"start\":-1},\"id\":\"40e50fa9-598e-4312-b8d8-7974ac5e389c\",\"type\":\"Range1d\"},{\"attributes\":{\"callback\":null,\"column_names\":[\"y\",\"x\"],\"data\":{\"x\":[0.0,0.003143164235707647,0.006286328471415294,0.009429492707122941,0.012572656942830588,0.015715821178538234,0.018858985414245882,0.022002149649953527,0.025145313885661175,0.028288478121368824,0.03143164235707647,0.03457480659278411,0.037717970828491765,0.04086113506419941,0.044004299299907054,0.047147463535614706,0.05029062777132235,0.053433792007029995,0.05657695624273765,0.05972012047844529,0.06286328471415294,0.06600644894986059,0.06914961318556823,0.07229277742127588,0.07543594165698353,0.07857910589269117,0.08172227012839882,0.08486543436410647,0.08800859859981411,0.09115176283552176,0.09429492707122941,0.09743809130693705,0.1005812555426447,0.10372441977835235,0.10686758401405999,0.11001074824976764,0.1131539124854753,0.11629707672118293,0.11944024095689058,0.12258340519259824,0.12572656942830587,0.12886973366401352,0.13201289789972118,0.13515606213542883,0.13829922637113645,0.1414423906068441,0.14458555484255176,0.1477287190782594,0.15087188331396706,0.1540150475496747,0.15715821178538233,0.16030137602109,0.16344454025679764,0.1665877044925053,0.16973086872821294,0.1728740329639206,0.17601719719962822,0.17916036143533587,0.18230352567104352,0.18544668990675117,0.18858985414245882,0.19173301837816648,0.1948761826138741,0.19801934684958175,0.2011625110852894,0.20430567532099705,0.2074488395567047,0.21059200379241233,0.21373516802811998,0.21687833226382763,0.22002149649953529,0.22316466073524294,0.2263078249709506,0.2294509892066582,0.23259415344236586,0.23573731767807352,0.23888048191378117,0.24202364614948882,0.24516681038519647,0.2483099746209041,0.25145313885661175,0.2545963030923194,0.25773946732802705,0.2608826315637347,0.26402579579944235,0.26716896003515,0.27031212427085766,0.2734552885065653,0.2765984527422729,0.27974161697798056,0.2828847812136882,0.28602794544939586,0.2891711096851035,0.29231427392081116,0.2954574381565188,0.29860060239222647,0.3017437666279341,0.30488693086364177,0.3080300950993494,0.311173259335057,0.31431642357076467,0.3174595878064723,0.32060275204218,0.3237459162778876,0.3268890805135953,0.3300322447493029,0.3331754089850106,0.33631857322071823,0.3394617374564259,0.34260490169213353,0.3457480659278412,0.3488912301635488,0.35203439439925643,0.3551775586349641,0.35832072287067174,0.3614638871063794,0.36460705134208704,0.3677502155777947,0.37089337981350234,0.37403654404921,0.37717970828491765,0.3803228725206253,0.38346603675633295,0.38660920099204055,0.3897523652277482,0.39289552946345585,0.3960386936991635,0.39918185793487115,0.4023250221705788,0.40546818640628646,0.4086113506419941,0.41175451487770176,0.4148976791134094,0.41804084334911706,0.42118400758482466,0.4243271718205323,0.42747033605623996,0.4306135002919476,0.43375666452765527,0.4368998287633629,0.44004299299907057,0.4431861572347782,0.4463293214704859,0.4494724857061935,0.4526156499419012,0.45575881417760883,0.4589019784133164,0.4620451426490241,0.46518830688473173,0.4683314711204394,0.47147463535614703,0.4746177995918547,0.47776096382756233,0.48090412806327,0.48404729229897764,0.4871904565346853,0.49033362077039294,0.4934767850061006,0.4966199492418082,0.49976311347751584,0.5029062777132235,0.5060494419489312,0.5091926061846388,0.5123357704203464,0.5154789346560541,0.5186220988917617,0.5217652631274694,0.524908427363177,0.5280515915988847,0.5311947558345923,0.5343379200703,0.5374810843060076,0.5406242485417153,0.5437674127774229,0.5469105770131306,0.5500537412488382,0.5531969054845458,0.5563400697202535,0.5594832339559611,0.5626263981916688,0.5657695624273764,0.5689127266630841,0.5720558908987917,0.5751990551344994,0.578342219370207,0.5814853836059147,0.5846285478416223,0.5877717120773299,0.5909148763130376,0.5940580405487452,0.5972012047844529,0.6003443690201605,0.6034875332558682,0.6066306974915758,0.6097738617272835,0.6129170259629911,0.6160601901986988,0.6192033544344064,0.622346518670114,0.6254896829058217,0.6286328471415293,0.631776011377237,0.6349191756129446,0.6380623398486523,0.64120550408436,0.6443486683200677,0.6474918325557752,0.650634996791483,0.6537781610271906,0.6569213252628983,0.6600644894986059,0.6632076537343135,0.6663508179700212,0.6694939822057288,0.6726371464414365,0.6757803106771441,0.6789234749128518,0.6820666391485594,0.6852098033842671,0.6883529676199747,0.6914961318556824,0.69463929609139,0.6977824603270976,0.7009256245628053,0.7040687887985129,0.7072119530342206,0.7103551172699282,0.7134982815056359,0.7166414457413435,0.7197846099770512,0.7229277742127588,0.7260709384484665,0.7292141026841741,0.7323572669198817,0.7355004311555894,0.738643595391297,0.7417867596270047,0.7449299238627123,0.74807308809842,0.7512162523341276,0.7543594165698353,0.7575025808055429,0.7606457450412506,0.7637889092769582,0.7669320735126659,0.7700752377483735,0.7732184019840811,0.7763615662197888,0.7795047304554964,0.7826478946912041,0.7857910589269117,0.7889342231626194,0.792077387398327,0.7952205516340347,0.7983637158697423,0.80150688010545,0.8046500443411576,0.8077932085768652,0.8109363728125729,0.8140795370482805,0.8172227012839882,0.8203658655196958,0.8235090297554035,0.8266521939911111,0.8297953582268188,0.8329385224625264,0.8360816866982341,0.8392248509339417,0.8423680151696493,0.845511179405357,0.8486543436410646,0.8517975078767723,0.8549406721124799,0.8580838363481876,0.8612270005838952,0.8643701648196029,0.8675133290553105,0.8706564932910182,0.8737996575267258,0.8769428217624335,0.8800859859981411,0.8832291502338487,0.8863723144695564,0.889515478705264,0.8926586429409717,0.8958018071766793,0.898944971412387,0.9020881356480946,0.9052312998838024,0.90837446411951,0.9115176283552177,0.9146607925909253,0.9178039568266328,0.9209471210623406,0.9240902852980482,0.9272334495337559,0.9303766137694635,0.9335197780051712,0.9366629422408788,0.9398061064765865,0.9429492707122941,0.9460924349480018,0.9492355991837094,0.952378763419417,0.9555219276551247,0.9586650918908323,0.96180825612654,0.9649514203622476,0.9680945845979553,0.9712377488336629,0.9743809130693706,0.9775240773050782,0.9806672415407859,0.9838104057764935,0.9869535700122012,0.9900967342479088,0.9932398984836164,0.9963830627193241,0.9995262269550317,1.0026693911907394,1.005812555426447,1.0089557196621546,1.0120988838978624,1.01524204813357,1.0183852123692776,1.0215283766049852,1.0246715408406928,1.0278147050764006,1.0309578693121082,1.0341010335478158,1.0372441977835234,1.0403873620192312,1.0435305262549388,1.0466736904906464,1.049816854726354,1.0529600189620618,1.0561031831977694,1.059246347433477,1.0623895116691846,1.0655326759048922,1.0686758401406,1.0718190043763076,1.0749621686120152,1.0781053328477228,1.0812484970834306,1.0843916613191382,1.0875348255548458,1.0906779897905534,1.0938211540262612,1.0969643182619688,1.1001074824976764,1.103250646733384,1.1063938109690916,1.1095369752047994,1.112680139440507,1.1158233036762146,1.1189664679119222,1.12210963214763,1.1252527963833376,1.1283959606190452,1.1315391248547528,1.1346822890904604,1.1378254533261682,1.1409686175618758,1.1441117817975834,1.147254946033291,1.1503981102689989,1.1535412745047064,1.156684438740414,1.1598276029761216,1.1629707672118295,1.166113931447537,1.1692570956832447,1.1724002599189522,1.1755434241546598,1.1786865883903677,1.1818297526260753,1.1849729168617829,1.1881160810974905,1.1912592453331983,1.1944024095689059,1.1975455738046135,1.200688738040321,1.2038319022760289,1.2069750665117365,1.210118230747444,1.2132613949831517,1.2164045592188593,1.219547723454567,1.2226908876902747,1.2258340519259823,1.2289772161616899,1.2321203803973977,1.2352635446331053,1.2384067088688129,1.2415498731045205,1.244693037340228,1.2478362015759359,1.2509793658116435,1.254122530047351,1.2572656942830587,1.2604088585187665,1.263552022754474,1.2666951869901817,1.2698383512258893,1.272981515461597,1.2761246796973047,1.2792678439330123,1.28241100816872,1.2855541724044275,1.2886973366401353,1.291840500875843,1.2949836651115505,1.298126829347258,1.301269993582966,1.3044131578186735,1.307556322054381,1.3106994862900887,1.3138426505257965,1.3169858147615041,1.3201289789972117,1.3232721432329193,1.326415307468627,1.3295584717043347,1.3327016359400423,1.33584480017575,1.3389879644114575,1.3421311286471653,1.345274292882873,1.3484174571185805,1.3515606213542881,1.3547037855899957,1.3578469498257035,1.3609901140614111,1.3641332782971187,1.3672764425328263,1.3704196067685341,1.3735627710042417,1.3767059352399493,1.379849099475657,1.3829922637113647,1.3861354279470723,1.38927859218278,1.3924217564184875,1.3955649206541951,1.398708084889903,1.4018512491256105,1.4049944133613181,1.4081375775970257,1.4112807418327336,1.4144239060684412,1.4175670703041487,1.4207102345398563,1.4238533987755642,1.4269965630112718,1.4301397272469794,1.433282891482687,1.4364260557183945,1.4395692199541024,1.44271238418981,1.4458555484255176,1.4489987126612252,1.452141876896933,1.4552850411326406,1.4584282053683482,1.4615713696040558,1.4647145338397634,1.4678576980754712,1.4710008623111788,1.4741440265468864,1.477287190782594,1.4804303550183018,1.4835735192540094,1.486716683489717,1.4898598477254246,1.4930030119611324,1.49614617619684,1.4992893404325476,1.5024325046682552,1.5055756689039628,1.5087188331396706,1.5118619973753782,1.5150051616110858,1.5181483258467934,1.5212914900825012,1.5244346543182088,1.5275778185539164,1.530720982789624,1.5338641470253318,1.5370073112610394,1.540150475496747,1.5432936397324546,1.5464368039681622,1.54957996820387,1.5527231324395776,1.5558662966752852,1.5590094609109928,1.5621526251467006,1.5652957893824082,1.5684389536181158,1.5715821178538234,1.574725282089531,1.5778684463252388,1.5810116105609464,1.584154774796654,1.5872979390323616,1.5904411032680694,1.593584267503777,1.5967274317394846,1.5998705959751922,1.6030137602109,1.6061569244466076,1.6093000886823152,1.6124432529180228,1.6155864171537304,1.6187295813894382,1.6218727456251458,1.6250159098608534,1.628159074096561,1.6313022383322688,1.6344454025679764,1.637588566803684,1.6407317310393916,1.6438748952750994,1.647018059510807,1.6501612237465146,1.6533043879822222,1.6564475522179298,1.6595907164536376,1.6627338806893452,1.6658770449250528,1.6690202091607604,1.6721633733964683,1.6753065376321759,1.6784497018678834,1.681592866103591,1.6847360303392986,1.6878791945750065,1.691022358810714,1.6941655230464217,1.6973086872821292,1.700451851517837,1.7035950157535447,1.7067381799892523,1.7098813442249599,1.7130245084606677,1.7161676726963753,1.7193108369320829,1.7224540011677905,1.725597165403498,1.7287403296392059,1.7318834938749135,1.735026658110621,1.7381698223463287,1.7413129865820365,1.744456150817744,1.7475993150534517,1.7507424792891593,1.753885643524867,1.7570288077605747,1.7601719719962823,1.7633151362319899,1.7664583004676975,1.7696014647034053,1.7727446289391129,1.7758877931748205,1.779030957410528,1.782174121646236,1.7853172858819435,1.788460450117651,1.7916036143533587,1.7947467785890663,1.797889942824774,1.8010331070604817,1.8041762712961893,1.807319435531897,1.8104625997676047,1.8136057640033123,1.81674892823902,1.8198920924747275,1.8230352567104353,1.826178420946143,1.8293215851818505,1.832464749417558,1.8356079136532657,1.8387510778889735,1.8418942421246811,1.8450374063603887,1.8481805705960963,1.8513237348318041,1.8544668990675117,1.8576100633032193,1.860753227538927,1.8638963917746347,1.8670395560103423,1.87018272024605,1.8733258844817575,1.8764690487174651,1.879612212953173,1.8827553771888805,1.8858985414245881,1.8890417056602957,1.8921848698960035,1.8953280341317111,1.8984711983674187,1.9016143626031263,1.904757526838834,1.9079006910745417,1.9110438553102493,1.914187019545957,1.9173301837816645,1.9204733480173724,1.92361651225308,1.9267596764887875,1.9299028407244951,1.933046004960203,1.9361891691959106,1.9393323334316181,1.9424754976673257,1.9456186619030333,1.9487618261387412,1.9519049903744488,1.9550481546101564,1.958191318845864,1.9613344830815718,1.9644776473172794,1.967620811552987,1.9707639757886946,1.9739071400244024,1.97705030426011,1.9801934684958176,1.9833366327315252,1.9864797969672328,1.9896229612029406,1.9927661254386482,1.9959092896743558,1.9990524539100634,2.002195618145771,2.005338782381479,2.0084819466171866,2.011625110852894,2.014768275088602,2.017911439324309,2.021054603560017,2.024197767795725,2.027340932031432,2.03048409626714,2.0336272605028474,2.036770424738555,2.039913588974263,2.0430567532099704,2.046199917445678,2.0493430816813856,2.0524862459170934,2.055629410152801,2.0587725743885086,2.0619157386242164,2.065058902859924,2.0682020670956316,2.0713452313313394,2.074488395567047,2.0776315598027546,2.0807747240384624,2.08391788827417,2.0870610525098776,2.090204216745585,2.093347380981293,2.0964905452170006,2.099633709452708,2.102776873688416,2.1059200379241236,2.109063202159831,2.112206366395539,2.115349530631246,2.118492694866954,2.121635859102662,2.124779023338369,2.127922187574077,2.1310653518097844,2.134208516045492,2.1373516802812,2.1404948445169074,2.1436380087526152,2.146781172988323,2.1499243372240304,2.1530675014597382,2.1562106656954456,2.1593538299311534,2.1624969941668613,2.1656401584025686,2.1687833226382764,2.171926486873984,2.1750696511096916,2.1782128153453995,2.181355979581107,2.1844991438168146,2.1876423080525225,2.19078547228823,2.1939286365239377,2.197071800759645,2.200214964995353,2.2033581292310607,2.206501293466768,2.209644457702476,2.2127876219381832,2.215930786173891,2.219073950409599,2.2222171146453062,2.225360278881014,2.228503443116722,2.2316466073524293,2.234789771588137,2.2379329358238444,2.2410761000595523,2.24421926429526,2.2473624285309675,2.2505055927666753,2.2536487570023827,2.2567919212380905,2.2599350854737983,2.2630782497095057,2.2662214139452135,2.269364578180921,2.2725077424166287,2.2756509066523365,2.278794070888044,2.2819372351237517,2.2850803993594595,2.288223563595167,2.2913667278308747,2.294509892066582,2.29765305630229,2.3007962205379977,2.303939384773705,2.307082549009413,2.3102257132451203,2.313368877480828,2.316512041716536,2.3196552059522433,2.322798370187951,2.325941534423659,2.3290846986593663,2.332227862895074,2.3353710271307815,2.3385141913664893,2.341657355602197,2.3448005198379045,2.3479436840736123,2.3510868483093197,2.3542300125450275,2.3573731767807353,2.3605163410164427,2.3636595052521505,2.3668026694878583,2.3699458337235657,2.3730889979592735,2.376232162194981,2.3793753264306887,2.3825184906663965,2.385661654902104,2.3888048191378117,2.391947983373519,2.395091147609227,2.3982343118449347,2.401377476080642,2.40452064031635,2.4076638045520578,2.410806968787765,2.413950133023473,2.4170932972591803,2.420236461494888,2.423379625730596,2.4265227899663033,2.429665954202011,2.4328091184377185,2.4359522826734263,2.439095446909134,2.4422386111448415,2.4453817753805493,2.448524939616257,2.4516681038519645,2.4548112680876724,2.4579544323233797,2.4610975965590876,2.4642407607947954,2.4673839250305027,2.4705270892662106,2.473670253501918,2.4768134177376258,2.4799565819733336,2.483099746209041,2.4862429104447488,2.489386074680456,2.492529238916164,2.4956724031518718,2.498815567387579,2.501958731623287,2.505101895858995,2.508245060094702,2.51138822433041,2.5145313885661174,2.517674552801825,2.520817717037533,2.5239608812732404,2.527104045508948,2.5302472097446556,2.5333903739803634,2.536533538216071,2.5396767024517786,2.5428198666874864,2.545963030923194,2.5491061951589016,2.5522493593946094,2.5553925236303168,2.5585356878660246,2.5616788521017324,2.56482201633744,2.5679651805731476,2.571108344808855,2.574251509044563,2.5773946732802706,2.580537837515978,2.583681001751686,2.5868241659873936,2.589967330223101,2.593110494458809,2.596253658694516,2.599396822930224,2.602539987165932,2.605683151401639,2.608826315637347,2.6119694798730544,2.615112644108762,2.61825580834447,2.6213989725801774,2.624542136815885,2.627685301051593,2.6308284652873004,2.6339716295230082,2.6371147937587156,2.6402579579944234,2.6434011222301312,2.6465442864658386,2.6496874507015464,2.652830614937254,2.6559737791729616,2.6591169434086694,2.662260107644377,2.6654032718800846,2.6685464361157925,2.6716896003515,2.6748327645872076,2.677975928822915,2.681119093058623,2.6842622572943307,2.687405421530038,2.690548585765746,2.6936917500014532,2.696834914237161,2.699978078472869,2.7031212427085762,2.706264406944284,2.7094075711799914,2.7125507354156992,2.715693899651407,2.7188370638871144,2.7219802281228223,2.72512339235853,2.7282665565942374,2.7314097208299453,2.7345528850656526,2.7376960493013605,2.7408392135370683,2.7439823777727756,2.7471255420084835,2.750268706244191,2.7534118704798987,2.7565550347156065,2.759698198951314,2.7628413631870217,2.7659845274227295,2.769127691658437,2.7722708558941447,2.775414020129852,2.77855718436556,2.7817003486012677,2.784843512836975,2.787986677072683,2.7911298413083903,2.794273005544098,2.797416169779806,2.8005593340155133,2.803702498251221,2.806845662486929,2.8099888267226363,2.813131990958344,2.8162751551940515,2.8194183194297593,2.822561483665467,2.8257046479011745,2.8288478121368823,2.8319909763725897,2.8351341406082975,2.8382773048440053,2.8414204690797127,2.8445636333154205,2.8477067975511283,2.8508499617868357,2.8539931260225435,2.857136290258251,2.8602794544939587,2.8634226187296665,2.866565782965374,2.8697089472010817,2.872852111436789,2.875995275672497,2.8791384399082047,2.882281604143912,2.88542476837962,2.8885679326153277,2.891711096851035,2.894854261086743,2.8979974253224503,2.901140589558158,2.904283753793866,2.9074269180295733,2.910570082265281,2.9137132465009885,2.9168564107366963,2.919999574972404,2.9231427392081115,2.9262859034438193,2.9294290676795267,2.9325722319152345,2.9357153961509423,2.9388585603866497,2.9420017246223575,2.9451448888580654,2.9482880530937727,2.9514312173294805,2.954574381565188,2.9577175458008957,2.9608607100366036,2.964003874272311,2.9671470385080188,2.970290202743726,2.973433366979434,2.9765765312151418,2.979719695450849,2.982862859686557,2.9860060239222648,2.989149188157972,2.99229235239368,2.9954355166293873,2.998578680865095,3.001721845100803,3.0048650093365104,3.008008173572218,3.0111513378079255,3.0142945020436334,3.017437666279341,3.0205808305150486,3.0237239947507564,3.026867158986464,3.0300103232221716,3.0331534874578794,3.0362966516935868,3.0394398159292946,3.0425829801650024,3.0457261444007098,3.0488693086364176,3.052012472872125,3.0551556371078328,3.0582988013435406,3.061441965579248,3.064585129814956,3.0677282940506636,3.070871458286371,3.074014622522079,3.077157786757786,3.080300950993494,3.083444115229202,3.086587279464909,3.089730443700617,3.0928736079363244,3.096016772172032,3.09915993640774,3.1023031006434474,3.105446264879155,3.108589429114863,3.1117325933505704,3.114875757586278,3.1180189218219856,3.1211620860576934,3.1243052502934012,3.1274484145291086,3.1305915787648164,3.133734743000524,3.1368779072362316,3.1400210714719394,3.143164235707647,3.1463073999433546,3.149450564179062,3.15259372841477,3.1557368926504776,3.158880056886185,3.162023221121893,3.1651663853576006,3.168309549593308,3.171452713829016,3.174595878064723,3.177739042300431,3.180882206536139,3.184025370771846,3.187168535007554,3.1903116992432614,3.1934548634789692,3.196598027714677,3.1997411919503844,3.2028843561860922,3.2060275204218,3.2091706846575074,3.2123138488932153,3.2154570131289226,3.2186001773646304,3.2217433416003383,3.2248865058360456,3.2280296700717535,3.231172834307461,3.2343159985431686,3.2374591627788765,3.240602327014584,3.2437454912502917,3.2468886554859995,3.250031819721707,3.2531749839574147,3.256318148193122,3.25946131242883,3.2626044766645377,3.265747640900245,3.268890805135953,3.2720339693716602,3.275177133607368,3.278320297843076,3.2814634620787833,3.284606626314491,3.287749790550199,3.2908929547859063,3.294036119021614,3.2971792832573215,3.3003224474930293,3.303465611728737,3.3066087759644445,3.3097519402001523,3.3128951044358597,3.3160382686715675,3.3191814329072753,3.3223245971429827,3.3254677613786905,3.328610925614398,3.3317540898501057,3.3348972540858135,3.338040418321521,3.3411835825572287,3.3443267467929365,3.347469911028644,3.3506130752643517,3.353756239500059,3.356899403735767,3.3600425679714747,3.363185732207182,3.36632889644289,3.3694720606785973,3.372615224914305,3.375758389150013,3.3789015533857203,3.382044717621428,3.385187881857136,3.3883310460928433,3.391474210328551,3.3946173745642585,3.3977605387999663,3.400903703035674,3.4040468672713815,3.4071900315070893,3.4103331957427967,3.4134763599785045,3.4166195242142123,3.4197626884499197,3.4229058526856275,3.4260490169213353,3.4291921811570427,3.4323353453927505,3.435478509628458,3.4386216738641657,3.4417648380998735,3.444908002335581,3.4480511665712887,3.451194330806996,3.454337495042704,3.4574806592784117,3.460623823514119,3.463766987749827,3.4669101519855348,3.470053316221242,3.47319648045695,3.4763396446926573,3.479482808928365,3.482625973164073,3.4857691373997803,3.488912301635488,3.4920554658711955,3.4951986301069033,3.498341794342611,3.5014849585783185,3.5046281228140264,3.507771287049734,3.5109144512854416,3.5140576155211494,3.5172007797568567,3.5203439439925646,3.5234871082282724,3.5266302724639798,3.5297734366996876,3.532916600935395,3.5360597651711028,3.5392029294068106,3.542346093642518,3.5454892578782258,3.548632422113933,3.551775586349641,3.554918750585349,3.558061914821056,3.561205079056764,3.564348243292472,3.567491407528179,3.570634571763887,3.5737777359995944,3.576920900235302,3.58006406447101,3.5832072287067174,3.586350392942425,3.5894935571781326,3.5926367214138404,3.595779885649548,3.5989230498852556,3.6020662141209634,3.605209378356671,3.6083525425923786,3.6114957068280864,3.614638871063794,3.6177820352995016,3.6209251995352094,3.624068363770917,3.6272115280066246,3.630354692242332,3.63349785647804,3.6366410207137476,3.639784184949455,3.642927349185163,3.6460705134208706,3.649213677656578,3.652356841892286,3.655500006127993,3.658643170363701,3.661786334599409,3.664929498835116,3.668072663070824,3.6712158273065314,3.674358991542239,3.677502155777947,3.6806453200136544,3.6837884842493622,3.68693164848507,3.6900748127207774,3.6932179769564852,3.6963611411921926,3.6995043054279004,3.7026474696636082,3.7057906338993156,3.7089337981350234,3.712076962370731,3.7152201266064386,3.7183632908421465,3.721506455077854,3.7246496193135616,3.7277927835492695,3.730935947784977,3.7340791120206847,3.737222276256392,3.7403654404921,3.7435086047278077,3.746651768963515,3.749794933199223,3.7529380974349302,3.756081261670638,3.759224425906346,3.7623675901420532,3.765510754377761,3.7686539186134684,3.7717970828491763,3.774940247084884,3.7780834113205914,3.7812265755562993,3.784369739792007,3.7875129040277145,3.7906560682634223,3.7937992324991296,3.7969423967348375,3.8000855609705453,3.8032287252062527,3.8063718894419605,3.809515053677668,3.8126582179133757,3.8158013821490835,3.818944546384791,3.8220877106204987,3.8252308748562065,3.828374039091914,3.8315172033276217,3.834660367563329,3.837803531799037,3.8409466960347447,3.844089860270452,3.84723302450616,3.8503761887418673,3.853519352977575,3.856662517213283,3.8598056814489903,3.862948845684698,3.866092009920406,3.8692351741561133,3.872378338391821,3.8755215026275285,3.8786646668632363,3.881807831098944,3.8849509953346515,3.8880941595703593,3.8912373238060667,3.8943804880417745,3.8975236522774823,3.9006668165131897,3.9038099807488975,3.9069531449846053,3.9100963092203127,3.9132394734560205,3.916382637691728,3.9195258019274357,3.9226689661631435,3.925812130398851,3.9289552946345587,3.932098458870266,3.935241623105974,3.9383847873416817,3.941527951577389,3.944671115813097,3.9478142800488047,3.950957444284512,3.95410060852022,3.9572437727559273,3.960386936991635,3.963530101227343,3.9666732654630503,3.969816429698758,3.9729595939344655,3.9761027581701733,3.979245922405881,3.9823890866415885,3.9855322508772963,3.9886754151130037,3.9918185793487115,3.9949617435844194,3.9981049078201267,4.0012480720558345,4.004391236291542,4.00753440052725,4.010677564762958,4.013820728998665,4.016963893234373,4.020107057470081,4.023250221705788,4.026393385941495,4.029536550177204,4.032679714412911,4.035822878648618,4.038966042884327,4.042109207120034,4.045252371355741,4.04839553559145,4.051538699827157,4.054681864062864,4.057825028298573,4.06096819253428,4.064111356769987,4.067254521005695,4.070397685241403,4.07354084947711,4.076684013712818,4.079827177948526,4.082970342184233,4.086113506419941,4.089256670655649,4.092399834891356,4.095542999127064,4.098686163362771,4.101829327598479,4.104972491834187,4.108115656069894,4.111258820305602,4.11440198454131,4.117545148777017,4.120688313012725,4.123831477248433,4.12697464148414,4.130117805719848,4.133260969955556,4.136404134191263,4.139547298426971,4.142690462662679,4.145833626898386,4.148976791134094,4.152119955369802,4.155263119605509,4.158406283841217,4.161549448076925,4.164692612312632,4.16783577654834,4.170978940784048,4.174122105019755,4.177265269255463,4.18040843349117,4.183551597726878,4.186694761962586,4.189837926198293,4.192981090434001,4.196124254669709,4.199267418905416,4.202410583141124,4.205553747376832,4.208696911612539,4.211840075848247,4.214983240083955,4.218126404319662,4.221269568555369,4.224412732791078,4.227555897026785,4.230699061262492,4.233842225498201,4.236985389733908,4.240128553969615,4.243271718205324,4.246414882441031,4.249558046676738,4.252701210912447,4.255844375148154,4.258987539383861,4.262130703619569,4.265273867855277,4.268417032090984,4.271560196326692,4.2747033605624,4.2778465247981075,4.280989689033815,4.284132853269523,4.2872760175052305,4.290419181740938,4.293562345976646,4.2967055102123535,4.299848674448061,4.302991838683768,4.3061350029194765,4.309278167155184,4.312421331390891,4.3155644956265995,4.318707659862307,4.321850824098014,4.3249939883337225,4.32813715256943,4.331280316805137,4.3344234810408455,4.337566645276553,4.34070980951226,4.343852973747968,4.346996137983676,4.350139302219383,4.353282466455091,4.356425630690799,4.359568794926506,4.362711959162214,4.365855123397922,4.368998287633629,4.372141451869337,4.375284616105045,4.378427780340752,4.38157094457646,4.384714108812167,4.387857273047875,4.391000437283583,4.39414360151929,4.397286765754998,4.400429929990706,4.403573094226413,4.406716258462121,4.409859422697829,4.413002586933536,4.416145751169244,4.419288915404952,4.422432079640659,4.4255752438763665,4.428718408112075,4.431861572347782,4.4350047365834895,4.438147900819198,4.441291065054905,4.4444342292906125,4.447577393526321,4.450720557762028,4.4538637219977355,4.457006886233444,4.460150050469151,4.4632932147048585,4.466436378940566,4.469579543176274,4.4727227074119815,4.475865871647689,4.479009035883397,4.4821522001191045,4.485295364354812,4.48843852859052,4.4915816928262275,4.494724857061935,4.497868021297643,4.501011185533351,4.504154349769058,4.507297514004765,4.510440678240474,4.513583842476181,4.516727006711888,4.519870170947597,4.523013335183304,4.526156499419011,4.52929966365472,4.532442827890427,4.535585992126134,4.538729156361842,4.54187232059755,4.545015484833257,4.548158649068965,4.551301813304673,4.55444497754038,4.557588141776088,4.560731306011796,4.563874470247503,4.567017634483211,4.570160798718919,4.573303962954626,4.576447127190334,4.579590291426041,4.582733455661749,4.585876619897457,4.589019784133164,4.592162948368872,4.59530611260458,4.598449276840287,4.601592441075995,4.604735605311703,4.60787876954741,4.611021933783118,4.614165098018826,4.617308262254533,4.6204514264902405,4.623594590725949,4.626737754961656,4.6298809191973636,4.633024083433072,4.636167247668779,4.639310411904487,4.642453576140195,4.645596740375902,4.64873990461161,4.651883068847318,4.655026233083025,4.658169397318733,4.66131256155444,4.664455725790148,4.667598890025856,4.670742054261563,4.673885218497271,4.677028382732979,4.680171546968686,4.683314711204394,4.686457875440102,4.689601039675809,4.692744203911517,4.695887368147225,4.699030532382932,4.702173696618639,4.705316860854348,4.708460025090055,4.711603189325762,4.714746353561471,4.717889517797178,4.721032682032885,4.724175846268594,4.727319010504301,4.730462174740008,4.733605338975717,4.736748503211424,4.739891667447131,4.743034831682839,4.746177995918547,4.749321160154254,4.752464324389962,4.75560748862567,4.758750652861377,4.761893817097085,4.765036981332793,4.7681801455685004,4.771323309804208,4.774466474039916,4.7776096382756235,4.780752802511331,4.783895966747038,4.7870391309827465,4.790182295218454,4.793325459454161,4.7964686236898695,4.799611787925577,4.802754952161284,4.8058981163969925,4.8090412806327,4.812184444868407,4.8153276091041155,4.818470773339823,4.82161393757553,4.824757101811238,4.827900266046946,4.831043430282653,4.834186594518361,4.837329758754069,4.840472922989776,4.843616087225484,4.846759251461192,4.849902415696899,4.853045579932607,4.856188744168315,4.859331908404022,4.86247507263973,4.865618236875437,4.868761401111145,4.871904565346853,4.87504772958256,4.878190893818268,4.881334058053976,4.884477222289683,4.887620386525391,4.890763550761099,4.893906714996806,4.897049879232514,4.900193043468222,4.903336207703929,4.9064793719396365,4.909622536175345,4.912765700411052,4.9159088646467595,4.919052028882468,4.922195193118175,4.9253383573538825,4.928481521589591,4.931624685825298,4.9347678500610055,4.937911014296713,4.941054178532421,4.9441973427681285,4.947340507003836,4.950483671239544,4.9536268354752515,4.956769999710959,4.959913163946667,4.9630563281823745,4.966199492418082,4.96934265665379,4.9724858208894975,4.975628985125205,4.978772149360912,4.9819153135966205,4.985058477832328,4.988201642068035,4.9913448063037436,4.994487970539451,4.997631134775158,5.000774299010867,5.003917463246574,5.007060627482281,5.01020379171799,5.013346955953697,5.016490120189404,5.019633284425112,5.02277644866082,5.025919612896527,5.029062777132235,5.032205941367943,5.03534910560365,5.038492269839358,5.041635434075066,5.044778598310773,5.047921762546481,5.051064926782189,5.054208091017896,5.057351255253604,5.060494419489311,5.063637583725019,5.066780747960727,5.069923912196434,5.073067076432142,5.07621024066785,5.079353404903557,5.082496569139265,5.085639733374973,5.08878289761068,5.091926061846388,5.095069226082096,5.098212390317803,5.1013555545535105,5.104498718789219,5.107641883024926,5.1107850472606335,5.113928211496342,5.117071375732049,5.1202145399677566,5.123357704203465,5.126500868439172,5.12964403267488,5.132787196910588,5.135930361146295,5.139073525382003,5.14221668961771,5.145359853853418,5.148503018089126,5.151646182324833,5.154789346560541,5.157932510796249,5.161075675031956,5.164218839267664,5.167362003503372,5.170505167739079,5.173648331974787,5.176791496210495,5.179934660446202,5.183077824681909,5.186220988917618,5.189364153153325,5.192507317389032,5.195650481624741,5.198793645860448,5.201936810096155,5.205079974331864,5.208223138567571,5.211366302803278,5.214509467038987,5.217652631274694,5.220795795510401,5.223938959746109,5.227082123981817,5.230225288217524,5.233368452453232,5.23651161668894,5.239654780924647,5.242797945160355,5.245941109396063,5.24908427363177,5.252227437867478,5.255370602103186,5.2585137663388934,5.261656930574601,5.264800094810308,5.2679432590460165,5.271086423281724,5.274229587517431,5.2773727517531395,5.280515915988847,5.283659080224554,5.2868022444602625,5.28994540869597,5.293088572931677,5.2962317371673855,5.299374901403093,5.3025180656388,5.305661229874508,5.308804394110216,5.311947558345923,5.315090722581631,5.318233886817339,5.321377051053046,5.324520215288754,5.327663379524462,5.330806543760169,5.333949707995877,5.337092872231585,5.340236036467292,5.343379200703,5.346522364938707,5.349665529174415,5.352808693410123,5.35595185764583,5.359095021881538,5.362238186117246,5.365381350352953,5.368524514588661,5.371667678824369,5.374810843060076,5.377954007295783,5.381097171531492,5.384240335767199,5.3873835000029064,5.390526664238615,5.393669828474322,5.3968129927100295,5.399956156945738,5.403099321181445,5.4062424854171525,5.409385649652861,5.412528813888568,5.4156719781242755,5.418815142359983,5.421958306595691,5.4251014708313985,5.428244635067106,5.431387799302814,5.4345309635385215,5.437674127774229,5.440817292009937,5.4439604562456445,5.447103620481352,5.45024678471706,5.4533899489527675,5.456533113188475,5.459676277424182,5.4628194416598905,5.465962605895598,5.469105770131305,5.4722489343670135,5.475392098602721,5.478535262838428,5.4816784270741366,5.484821591309844,5.487964755545551,5.49110791978126,5.494251084016967,5.497394248252674,5.500537412488382,5.50368057672409,5.506823740959797,5.509966905195505,5.513110069431213,5.51625323366692,5.519396397902628,5.522539562138336,5.525682726374043,5.528825890609751,5.531969054845459,5.535112219081166,5.538255383316874,5.541398547552581,5.544541711788289,5.547684876023997,5.550828040259704,5.553971204495412,5.55711436873112,5.560257532966827,5.563400697202535,5.566543861438243,5.56968702567395,5.572830189909658,5.575973354145366,5.579116518381073,5.5822596826167805,5.585402846852489,5.588546011088196,5.5916891753239035,5.594832339559612,5.597975503795319,5.6011186680310265,5.604261832266735,5.607404996502442,5.6105481607381495,5.613691324973858,5.616834489209565,5.619977653445273,5.62312081768098,5.626263981916688,5.629407146152396,5.632550310388103,5.635693474623811,5.638836638859519,5.641979803095226,5.645122967330934,5.648266131566642,5.651409295802349,5.654552460038057,5.657695624273765,5.660838788509472,5.663981952745179,5.667125116980888,5.670268281216595,5.673411445452302,5.676554609688011,5.679697773923718,5.682840938159425,5.685984102395134,5.689127266630841,5.692270430866548,5.695413595102257,5.698556759337964,5.701699923573671,5.704843087809379,5.707986252045087,5.711129416280794,5.714272580516502,5.71741574475221,5.720558908987917,5.723702073223625,5.726845237459333,5.72998840169504,5.733131565930748,5.736274730166456,5.739417894402163,5.742561058637871,5.745704222873578,5.7488473871092864,5.751990551344994,5.755133715580701,5.7582768798164095,5.761420044052117,5.764563208287824,5.7677063725235325,5.77084953675924,5.773992700994947,5.7771358652306555,5.780279029466363,5.78342219370207,5.786565357937778,5.789708522173486,5.792851686409193,5.795994850644901,5.799138014880609,5.802281179116316,5.805424343352024,5.808567507587732,5.811710671823439,5.814853836059147,5.817997000294854,5.821140164530562,5.82428332876627,5.827426493001977,5.830569657237685,5.833712821473393,5.8368559857091,5.839999149944808,5.843142314180516,5.846285478416223,5.849428642651931,5.852571806887639,5.855714971123346,5.858858135359053,5.862001299594762,5.865144463830469,5.868287628066176,5.871430792301885,5.874573956537592,5.877717120773299,5.880860285009008,5.884003449244715,5.8871466134804225,5.890289777716131,5.893432941951838,5.8965761061875455,5.899719270423253,5.902862434658961,5.9060055988946685,5.909148763130376,5.912291927366084,5.9154350916017915,5.918578255837499,5.921721420073207,5.9248645843089145,5.928007748544622,5.93115091278033,5.9342940770160375,5.937437241251745,5.940580405487452,5.9437235697231605,5.946866733958868,5.950009898194575,5.9531530624302835,5.956296226665991,5.959439390901698,5.9625825551374065,5.965725719373114,5.968868883608821,5.9720120478445295,5.975155212080237,5.978298376315944,5.981441540551652,5.98458470478736,5.987727869023067,5.990871033258775,5.994014197494483,5.99715736173019,6.000300525965898,6.003443690201606,6.006586854437313,6.009730018673021,6.012873182908729,6.016016347144436,6.019159511380144,6.022302675615851,6.025445839851559,6.028589004087267,6.031732168322974,6.034875332558682,6.03801849679439,6.041161661030097,6.044304825265805,6.047447989501513,6.05059115373722,6.053734317972928,6.056877482208636,6.060020646444343,6.0631638106800505,6.066306974915759,6.069450139151466,6.0725933033871735,6.075736467622882,6.078879631858589,6.0820227960942965,6.085165960330005,6.088309124565712,6.0914522888014195,6.094595453037128,6.097738617272835,6.1008817815085425,6.10402494574425,6.107168109979958,6.1103112742156656,6.113454438451373,6.116597602687081,6.119740766922789,6.122883931158496,6.126027095394204,6.129170259629912,6.132313423865619,6.135456588101327,6.138599752337035,6.141742916572742,6.144886080808449,6.148029245044158,6.151172409279865,6.154315573515572,6.157458737751281,6.160601901986988,6.163745066222695,6.166888230458404,6.170031394694111,6.173174558929818,6.176317723165527,6.179460887401234,6.182604051636941,6.185747215872649,6.188890380108357,6.192033544344064,6.195176708579772,6.19831987281548,6.201463037051187,6.204606201286895,6.207749365522603,6.21089252975831,6.214035693994018,6.217178858229726,6.220322022465433,6.223465186701141,6.226608350936848,6.229751515172556,6.232894679408264,6.236037843643971,6.239181007879679,6.242324172115387,6.245467336351094,6.2486105005868025,6.25175366482251,6.254896829058217,6.258039993293925,6.261183157529633,6.26432632176534,6.267469486001048,6.270612650236756,6.273755814472463,6.276898978708171,6.280042142943879,6.283185307179586],\"y\":[0.0,0.003143159060238096,0.006286287067720245,0.009429352969997286,0.01257232571523362,0.015715174252513998,0.018857867532150272,0.022000374505988164,0.025142664127713998,0.028284705353161424,0.0314264671406181,0.03456791845113242,0.03770902824882009,0.040849765501170796,0.04399009917935478,0.04712999825852939,0.05026943171814557,0.05340836854225433,0.056546777719813215,0.059684628244992606,0.06282188911748207,0.0659585293427967,0.06909451793258313,0.07222982390492594,0.07536441628465354,0.07849826410364426,0.08163133640113233,0.08476360222401372,0.08789503062715187,0.09102559067368361,0.09415525143532459,0.09728398199267493,0.10041175143552472,0.1035385288631593,0.10666428338466463,0.10978898411923245,0.11291260019646535,0.11603510075668172,0.11915645495122076,0.12227663194274711,0.12539560090555552,0.1285133310258755,0.1316297915021756,0.13474495154546787,0.13785878037961183,0.1409712472416188,0.14408232138195554,0.1471919720648482,0.150300168568586,0.15340688018582457,0.15651207622388952,0.15961572600507962,0.16271779886696974,0.16581826416271395,0.1689170912613482,0.17201424954809297,0.17510970842465573,0.17820343730953322,0.1812954056383136,0.18438558286397838,0.18747393845720423,0.1905604419066646,0.1936450627193311,0.19672777042077488,0.19980853455546754,0.20288732468708218,0.20596411039879395,0.20903886129358054,0.21211154699452278,0.2151821371451043,0.21825060140951183,0.2213169094729346,0.22438103104186405,0.22744293584439296,0.23050259363051478,0.23355997417242208,0.2366150472648055,0.23966778272515207,0.2427181503940434,0.24576612013545354,0.24881166183704698,0.2518547454104758,0.25489534079167714,0.25793341794117025,0.260968946844353,0.2640018975117988,0.26703223997955255,0.27005994430942676,0.2730849805892974,0.2761073189333995,0.27912692948262213,0.2821437824048034,0.28515784789502563,0.2881690961759093,0.29117749749790744,0.2941830221395997,0.2971856404079855,0.30018532263877806,0.3031820391966969,0.3061757604757607,0.30916645689958033,0.3121540989216503,0.315138657025641,0.31812010172569044,0.32109840356669545,0.32407353312460246,0.32704546100669857,0.33001415785190163,0.3329795943310505,0.33594174114719483,0.3389005690358841,0.3418560487654574,0.34480815113733165,0.34775684698629045,0.3507021071807718,0.3536439026231564,0.3565822042500548,0.35951698303259455,0.3624482099767071,0.36537585612341417,0.36829989254911394,0.37122029036586657,0.3741370207216799,0.37705005480079434,0.3799593638239676,0.3828649190487589,0.385766691769813,0.3886646533191438,0.3915587750664177,0.3944490284192361,0.39733538482341846,0.4002178157632836,0.40309629276193215,0.4059707873815275,0.40884127122357683,0.41170771592921185,0.4145700931794686,0.41742837469556754,0.42028253223919276,0.42313253761277114,0.4259783626597507,0.42881997926487897,0.43165735935448063,0.4344904748967348,0.43731929790195234,0.4401438004228519,0.44296395455483617,0.44577973243626795,0.4485911062487449,0.4513980482173744,0.45420053061104837,0.4569985257427169,0.45979200596966185,0.4625809436937699,0.4653653113618054,0.46814508146568234,0.4709202265427363,0.4736907191759956,0.47645653199445226,0.47921763767333253,0.4819740089343666,0.4847256185460583,0.48747243932395384,0.4902144441309109,0.4929516058773663,0.49568389752160347,0.4984112920700204,0.5011337625773953,0.5038512821471537,0.5065638239316335,0.5092713611323508,0.5119738670002639,0.5146713148360386,0.5173636779903108,0.5200509298639509,0.5227330439083256,0.525409993625561,0.528081752568804,0.5307482943424833,0.5334095926025708,0.5360656210568414,0.5387163534651331,0.5413617636396058,0.5440018254450003,0.5466365127988966,0.5492657996719715,0.5518896600882554,0.5545080681253896,0.5571209979148817,0.5597284236423617,0.5623303195478371,0.5649266599259464,0.5675174191262146,0.5701025715533049,0.5726820916672735,0.57525595398382,0.5778241330745406,0.5803866035671786,0.5829433401458751,0.5854943175514196,0.5880395105814988,0.5905788940909463,0.5931124429919904,0.5956401322545027,0.5981619369062444,0.600677832033114,0.6031877927793927,0.6056917943479906,0.6081898120006908,0.6106818210583949,0.6131677969013658,0.6156477149694718,0.6181215507624285,0.6205892798400412,0.6230508778224466,0.6255063203903531,0.6279555832852816,0.6303986423098045,0.6328354733277857,0.6352660522646181,0.6376903551074622,0.6401083579054827,0.6425200367700856,0.6449253678751542,0.6473243274572839,0.6497168918160177,0.6521030373140798,0.6544827403776098,0.6568559774963945,0.6592227252241015,0.6615829601785098,0.6639366590417412,0.6662837985604906,0.6686243555462559,0.670958306875567,0.6732856294902141,0.6756063003974755,0.6779202966703449,0.6802275954477582,0.6825281739348187,0.6848220094030226,0.6871090791904838,0.6893893607021574,0.6916628314100631,0.6939294688535079,0.6961892506393077,0.6984421544420086,0.700688158004108,0.7029272391362733,0.7051593757175627,0.7073845456956421,0.7096027270870046,0.711813897977186,0.7140180365209827,0.7162151209426669,0.718405129536202,0.7205880406654561,0.7227638327644174,0.7249324843374059,0.7270939739592863,0.7292482802756799,0.7313953820031746,0.7335352579295364,0.7356678869139185,0.7377932478870696,0.7399113198515427,0.7420220818819026,0.7441255131249321,0.7462215927998385,0.7483103001984588,0.7503916146854637,0.7524655156985628,0.754531982748706,0.7565909954202877,0.7586425333713469,0.7606865763337695,0.7627231041134874,0.7647520965906791,0.7667735337199675,0.7687873955306185,0.7707936621267382,0.7727923136874691,0.774783330467187,0.7767666927956944,0.7787423810784165,0.7807103757965934,0.7826706575074741,0.7846232068445077,0.7865680045175353,0.7885050313129801,0.7904342680940378,0.7923556958008651,0.7942692954507682,0.7961750481383906,0.7980729350358996,0.7999629373931723,0.8018450365379808,0.8037192138761771,0.8055854508918759,0.8074437291476388,0.8092940302846554,0.8111363360229249,0.8129706281614371,0.8147968885783518,0.816615099231178,0.8184252421569521,0.8202272994724157,0.8220212533741913,0.8238070861389596,0.8255847801236331,0.8273543177655321,0.8291156815825564,0.8308688541733595,0.8326138182175193,0.8343505564757104,0.8360790517898736,0.8377992870833855,0.8395112453612275,0.8412149097101534,0.8429102632988572,0.8445972893781382,0.8462759712810671,0.8479462924231513,0.8496082363024975,0.8512617864999755,0.8529069266793804,0.8545436405875937,0.8561719120547442,0.8577917249943673,0.8594030634035643,0.8610059113631607,0.8626002530378628,0.8641860726764146,0.8657633546117531,0.8673320832611641,0.8688922431264344,0.8704438187940066,0.87198679493513,0.8735211563060132,0.8750468877479742,0.8765639741875899,0.8780724006368452,0.8795721521932816,0.8810632140401432,0.8825455714465249,0.8840192097675159,0.8854841144443459,0.8869402710045283,0.8883876650620035,0.8898262823172801,0.8912561085575778,0.8926771296569662,0.8940893315765054,0.8954927003643844,0.8968872221560586,0.8982728831743872,0.8996496697297693,0.9010175682202791,0.9023765651317996,0.9037266470381573,0.9050678006012541,0.9064000125711993,0.9077232697864404,0.9090375591738927,0.9103428677490696,0.9116391826162099,0.9129264909684057,0.9142047800877281,0.9154740373453542,0.9167342502016907,0.9179854062064986,0.9192274929990153,0.9204604983080776,0.9216844099522427,0.9228992158399079,0.9241049039694311,0.9253014624292485,0.9264888793979928,0.9276671431446101,0.9288362420284748,0.9299961644995058,0.9311468990982801,0.932288434456146,0.9334207592953355,0.9345438624290754,0.9356577327616985,0.9367623592887524,0.9378577310971091,0.938943837365072,0.9400206673624831,0.9410882104508294,0.9421464560833474,0.9431953938051277,0.944235013253218,0.9452653041567258,0.9462862563369197,0.9472978597073298,0.9483001042738479,0.9492929801348252,0.9502764774811715,0.9512505865964508,0.9522152978569783,0.9531706017319148,0.9541164887833612,0.9550529496664516,0.9559799751294459,0.9568975560138205,0.9578056832543599,0.9587043478792451,0.959593541010143,0.960473253862294,0.9613434777445982,0.9622042040597021,0.9630554243040831,0.9638971300681336,0.9647293130362439,0.9655519649868846,0.9663650777926878,0.9671686434205272,0.9679626539315976,0.9687471014814936,0.9695219783202864,0.970287276792601,0.9710429893376917,0.9717891084895165,0.9725256268768111,0.973252537223162,0.9739698323470777,0.9746775051620601,0.9753755486766748,0.9760639559946193,0.976742720314792,0.9774118349313591,0.9780712932338202,0.9787210887070751,0.9793612149314864,0.9799916655829445,0.9806124344329288,0.9812235153485701,0.9818249022927109,0.9824165893239648,0.9829985705967758,0.9835708403614751,0.9841333929643393,0.9846862228476447,0.9852293245497233,0.9857626927050165,0.9862863220441276,0.9868002073938746,0.9873043436773412,0.9877987259139261,0.9882833492193934,0.98875820880592,0.9892232999821434,0.9896786181532077,0.9901241588208092,0.9905599175832408,0.9909858901354354,0.9914020722690086,0.9918084598723,0.9922050489304145,0.9925918355252606,0.9929688158355909,0.9933359861370382,0.9936933428021535,0.9940408823004411,0.9943786011983938,0.9947064961595269,0.9950245639444106,0.995332801410703,0.9956312055131803,0.9959197733037669,0.9961985019315652,0.9964673886428831,0.9967264307812617,0.9969756257875008,0.9972149711996852,0.9974444646532082,0.9976641038807956,0.9978738867125272,0.9980738110758594,0.9982638749956445,0.9984440765941512,0.9986144140910828,0.9987748858035943,0.9989254901463098,0.9990662256313378,0.9991970908682858,0.9993180845642742,0.9994292055239488,0.9995304526494934,0.9996218249406393,0.9997033214946769,0.9997749415064627,0.9998366842684291,0.9998885491705899,0.9999305357005471,0.9999626434434962,0.9999848720822294,0.9999972213971394,0.9999996912662218,0.9999922816650751,0.9999749926669027,0.9999478244425106,0.9999107772603066,0.9998638514862973,0.9998070475840847,0.9997403661148613,0.9996638077374049,0.9995773732080722,0.9994810633807905,0.9993748792070504,0.9992588217358954,0.9991328921139124,0.9989970915852197,0.9988514214914548,0.9986958832717616,0.998530478462776,0.99835520869861,0.9981700757108368,0.9979750813284729,0.9977702274779598,0.997555516183146,0.9973309495652656,0.9970965298429187,0.9968522593320488,0.9965981404459197,0.9963341756950921,0.9960603676873989,0.995776719127919,0.9954832328189506,0.9951799116599839,0.9948667586476722,0.9945437768758023,0.994210969535264,0.9938683399140186,0.9935158913970662,0.9931536274664124,0.9927815517010343,0.9923996677768443,0.9920079794666544,0.991606490640139,0.9911952052637959,0.9907741274009082,0.9903432612115034,0.9899026109523125,0.9894521809767279,0.9889919757347606,0.9885219997729958,0.9880422577345487,0.9875527543590178,0.9870534944824386,0.9865444830372357,0.9860257250521743,0.9854972256523098,0.984958990058938,0.984411023589543,0.983853331657745,0.9832859197732465,0.982708793541778,0.9821219586650427,0.9815254209406601,0.9809191862621087,0.9803032606186678,0.9796776500953583,0.9790423608728828,0.978397399227564,0.9777427715312833,0.9770784842514176,0.9764045439507755,0.9757209572875317,0.9750277310151628,0.974324871982379,0.9736123871330575,0.9728902835061733,0.9721585682357299,0.9714172485506886,0.9706663317748975,0.9699058253270189,0.9691357367204558,0.9683560735632782,0.9675668435581473,0.9667680545022398,0.965959714287171,0.9651418308989163,0.9643144124177327,0.9634774670180793,0.9626310029685355,0.9617750286317205,0.9609095524642097,0.9600345830164518,0.9591501289326843,0.9582561989508472,0.9573528019024984,0.9564399467127246,0.9555176424000543,0.9545858980763684,0.9536447229468099,0.9526941263096935,0.9517341175564132,0.9507647061713498,0.9497859017317772,0.9487977139077678,0.9478001524620966,0.9467932272501455,0.945776948219805,0.9447513254113767,0.9437163689574737,0.9426720890829208,0.9416184961046529,0.9405556004316138,0.9394834125646527,0.9384019430964213,0.9373112027112682,0.9362112021851339,0.9351019523854439,0.9339834642710024,0.9328557488918827,0.9317188173893186,0.9305726809955946,0.9294173510339345,0.92825283891839,0.9270791561537273,0.9258963143353139,0.9247043251490038,0.9235032003710226,0.9222929518678503,0.9210735915961046,0.9198451316024228,0.9186075840233425,0.9173609610851821,0.9161052751039194,0.9148405384850706,0.9135667637235674,0.9122839634036334,0.9109921501986602,0.9096913368710817,0.9083815362722486,0.9070627613423007,0.9057350251100397,0.9043983406928006,0.9030527212963207,0.9016981802146117,0.9003347308298253,0.8989623866121235,0.8975811611195446,0.8961910679978685,0.8947921209804836,0.893384333888249,0.8919677206293598,0.8905422951992092,0.8891080716802493,0.8876650642418533,0.8862132871401742,0.8847527547180054,0.8832834814046381,0.8818054817157183,0.8803187702531046,0.8788233617047235,0.8773192708444233,0.8758065125318298,0.8742851017121981,0.8727550534162658,0.8712163827601044,0.8696691049449691,0.8681132352571502,0.8665487890678203,0.8649757818328839,0.8633942290928242,0.8618041464725485,0.8602055496812363,0.8585984545121818,0.8569828768426383,0.8553588326336627,0.853726337929956,0.8520854088597062,0.8504360616344284,0.848778312548804,0.8471121779805212,0.8454376743901115,0.8437548183207888,0.8420636263982847,0.8403641153306841,0.8386563019082616,0.8369402030033143,0.8352158355699951,0.8334832166441466,0.8317423633431305,0.8299932928656607,0.8282360224916326,0.8264705695819514,0.8246969515783624,0.8229151860032768,0.8211252904596004,0.8193272826305583,0.8175211802795205,0.8157070012498272,0.8138847634646118,0.8120544849266234,0.8102161837180503,0.8083698780003398,0.80651558601402,0.8046533260785194,0.8027831165919848,0.8009049760311012,0.7990189229509077,0.7971249759846155,0.7952231538434233,0.7933134753163317,0.7913959592699589,0.7894706246483536,0.7875374904728074,0.7855965758416681,0.7836478999301495,0.7816914819901434,0.7797273413500289,0.7777554974144804,0.7757759696642779,0.7737887776561122,0.7717939410223943,0.7697914794710594,0.7677814127853725,0.7657637608237341,0.7637385435194824,0.7617057808806978,0.7596654929900051,0.757617700004373,0.755562422154918,0.7534996797467031,0.7514294931585361,0.7493518828427708,0.747266869325102,0.7451744732043656,0.7430747151523333,0.740967615913508,0.738853196304921,0.7367314772159238,0.7346024796079836,0.7324662245144758,0.7303227330404749,0.728172026362548,0.7260141257285443,0.7238490524573851,0.7216768279388545,0.7194974736333859,0.7173110110718521,0.7151174618553523,0.7129168476549963,0.7107091902116941,0.7084945113359379,0.7062728329075885,0.7040441768756591,0.7018085652580968,0.6995660201415671,0.6973165636812348,0.6950602181005443,0.6927970056910022,0.6905269488119543,0.6882500698903672,0.6859663914206058,0.6836759359642096,0.681378726149673,0.6790747846722183,0.6767641342935738,0.6744467978417489,0.6721227982108063,0.6697921583606385,0.6674549013167402,0.6651110501699791,0.6627606280763705,0.6604036582568462,0.6580401639970268,0.6556701686469911,0.6532936956210441,0.6509107683974883,0.6485214105183887,0.646125645589343,0.6437234972792474,0.6413149893200609,0.638900145506574,0.636478989696172,0.6340515458085985,0.6316178378257209,0.6291778897912916,0.6267317258107125,0.6242793700507955,0.6218208467395231,0.6193561801658114,0.6168853946792673,0.6144085146899502,0.6119255646681303,0.6094365691440451,0.6069415527076603,0.6044405400084232,0.6019335557550224,0.5994206247151421,0.5969017717152167,0.5943770216401876,0.5918463994332559,0.5893099300956354,0.5867676386863079,0.5842195503217725,0.5816656901758008,0.5791060834791861,0.5765407555194936,0.573969731640813,0.5713930372435054,0.5688106977839547,0.5662227387743147,0.5636291857822566,0.5610300644307185,0.5584254003976504,0.5558152194157605,0.5531995472722627,0.5505784098086193,0.5479518329202883,0.545319842556466,0.5426824647198305,0.5400397254662861,0.5373916509047041,0.5347382671966666,0.5320796005562075,0.529415677249552,0.5267465235948596,0.524072165961963,0.5213926307721063,0.5187079444976863,0.5160181336619887,0.513323224838928,0.5106232446527845,0.5079182197779395,0.5052081769386148,0.5024931429086051,0.4997731445110173,0.49704820861800314,0.4943183621504932,0.4915836320779331,0.48884404541801585,0.486099629236414,0.48335041064651457,0.4805964168091484,0.4778376749323244,0.4750742122709596,0.47230605612660875,0.4695332338471973,0.4667557728267481,0.4639737005051135,0.46118704436770297,0.4583958319452106,0.45560009081334535,0.45279984859255745,0.4499951329477642,0.4471859715880798,0.44437239226653796,0.4415544227798208,0.43873209096798305,0.4359054247141755,0.4330744519443727,0.43023920062709375,0.42739969877312867,0.4245559744352605,0.4217080557079871,0.4188559707272462,0.41599974767013437,0.41313941475463134,0.41027500023932023,0.4074065324231068,0.4045340396449426,0.4016575502835437,0.39877709275710915,0.3958926955230428,0.39300438707766927,0.39011219595595514,0.3872161507312257,0.38431628001488144,0.38141261245611857,0.37850517674164225,0.37559400159538636,0.37267911577822843,0.3697605480877041,0.3668383273577253,0.3639124824582941,0.3609830422952162,0.3580500358098182,0.35511349197865844,0.35217343981324367,0.34922990835974116,0.3462829266986904,0.3433325239447187,0.3403787292462505,0.33742157178522203,0.33446108077679176,0.33149728546905066,0.3285302151427358,0.32555989911093947,0.32258636671881874,0.31960964734330827,0.3166297703928268,0.3136467653069894,0.31066066155631555,0.30767148864193655,0.3046792760953073,0.3016840534779108,0.29868585038096923,0.2956846964251505,0.29268062126027394,0.2896736545650204,0.2866638260466374,0.28365116544064456,0.2806357025105426,0.2776174670475161,0.27459648887014215,0.2715727978240943,0.26854642378184673,0.2655173966423816,0.26248574633089083,0.2594515027984831,0.2564146960218867,0.2533753560031522,0.2503335127693585,0.247289196372315,0.24424243688826333,0.2411932644175833,0.23814170908449195,0.23508780103674906,0.2320315704453581,0.22897304750426659,0.2259122624300711,0.2228492454617151,0.21978402686019335,0.21671663690825152,0.21364710591008582,0.21057546419104656,0.2075017420973352,0.20442596999570747,0.20134817827317206,0.19826839733668922,0.19518665761287282,0.19210298954768854,0.1890174236061518,0.18592999027202972,0.18284072004753657,0.17974964345303537,0.17665679102673523,0.1735621933243882,0.17046588091899034,0.1673678844004766,0.16426823437542112,0.161166961466734,0.15806409631335722,0.15495966956996451,0.15185371190665742,0.1487462540086608,0.14563732657602277,0.142526960323308,0.13941518597929717,0.13630203428668222,0.13318753600176125,0.13007172189413768,0.12695462274641287,0.123836269353885,0.12071669252424352,0.11759592307726349,0.1144739918445037,0.11135092966900079,0.10822676740496319,0.10510153591746937,0.10197526608215945,0.09884798878493316,0.09571973492164343,0.09259053539778982,0.08946042112821631,0.0863294230368023,0.08319757205616021,0.08006489912732856,0.07693143519946496,0.073797211229543,0.07066225818204507,0.06752660702865515,0.06439028874795592,0.061253334325119146,0.05811577475160265,0.05497764102484286,0.051838964147947184,0.04869977512939083,0.04556010498270696,0.04241998472618333,0.03927944538255454,0.036138517978694246,0.032997233545311234,0.029855623116641576,0.026713717730140668,0.023571548426179704,0.02042914624773548,0.01728654224008679,0.014143767450506394,0.011000852927952965,0.007857829722767433,0.00471472888636268,0.001571581470919876,-0.001571581470919631,-0.0047147288863624345,-0.007857829722766744,-0.01100085292795272,-0.01414376745050615,-0.017286542240086543,-0.020429146247735234,-0.02357154842617946,-0.026713717730140422,-0.02985562311664133,-0.032997233545310985,-0.036138517978693996,-0.0392794453825543,-0.04241998472618309,-0.04556010498270672,-0.048699775129390145,-0.051838964147946934,-0.054977641024842615,-0.05811577475160241,-0.061253334325118904,-0.06439028874795567,-0.06752660702865491,-0.07066225818204482,-0.07379721122954275,-0.07693143519946471,-0.08006489912732832,-0.08319757205615996,-0.08632942303680206,-0.08946042112821563,-0.09259053539778958,-0.09571973492164318,-0.09884798878493291,-0.1019752660821592,-0.10510153591746914,-0.10822676740496294,-0.11135092966900055,-0.11447399184450346,-0.11759592307726326,-0.12071669252424329,-0.12383626935388475,-0.12695462274641264,-0.130071721894137,-0.133187536001761,-0.136302034286682,-0.13941518597929692,-0.14252696032330775,-0.14563732657602252,-0.14874625400866054,-0.15185371190665717,-0.15495966956996426,-0.15806409631335697,-0.1611669614667338,-0.1642682343754209,-0.16736788440047634,-0.17046588091898968,-0.17356219332438794,-0.176656791026735,-0.17974964345303515,-0.18284072004753632,-0.18592999027202906,-0.18901742360615156,-0.1921029895476883,-0.19518665761287257,-0.19826839733668897,-0.20134817827317184,-0.20442596999570722,-0.20750174209733496,-0.2105754641910459,-0.21364710591008557,-0.21671663690825127,-0.2197840268601931,-0.22284924546171486,-0.22591226243007043,-0.22897304750426634,-0.23203157044535785,-0.23508780103674884,-0.2381417090844917,-0.24119326441758304,-0.2442424368882631,-0.24728919637231475,-0.2503335127693582,-0.2533753560031519,-0.25641469602188643,-0.25945150279848284,-0.2624857463308906,-0.26551739664238094,-0.26854642378184646,-0.2715727978240941,-0.27459648887014193,-0.27761746704751583,-0.2806357025105423,-0.28365116544064434,-0.2866638260466372,-0.2896736545650202,-0.2926806212602737,-0.2956846964251502,-0.298685850380969,-0.30168405347791055,-0.30467927609530665,-0.30767148864193633,-0.3106606615563153,-0.31364676530698915,-0.3166297703928266,-0.31960964734330805,-0.3225863667188185,-0.3255598991109392,-0.32853021514273556,-0.33149728546905044,-0.33446108077679154,-0.3374215717852218,-0.3403787292462503,-0.343332523944718,-0.34628292669869015,-0.34922990835974094,-0.35217343981324345,-0.3551134919786582,-0.3580500358098179,-0.360983042295216,-0.3639124824582939,-0.3668383273577251,-0.36976054808770387,-0.3726791157782282,-0.37559400159538614,-0.378505176741642,-0.3814126124561179,-0.3843162800148812,-0.38721615073122545,-0.3901121959559549,-0.39300438707766905,-0.3958926955230422,-0.39877709275710893,-0.4016575502835435,-0.4045340396449424,-0.4074065324231066,-0.41027500023932,-0.4131394147546311,-0.41599974767013415,-0.41885597072724556,-0.42170805570798686,-0.4245559744352603,-0.42739969877312844,-0.43023920062709353,-0.4330744519443721,-0.43590542471417526,-0.4387320909679828,-0.4415544227798206,-0.44437239226653774,-0.4471859715880796,-0.44999513294776405,-0.45279984859255723,-0.4556000908133451,-0.4583958319452104,-0.46118704436770275,-0.4639737005051133,-0.4667557728267479,-0.4695332338471967,-0.47230605612660853,-0.47507421227095936,-0.47783767493232415,-0.48059641680914816,-0.48335041064651435,-0.4860996292364138,-0.4888440454180157,-0.4915836320779329,-0.49431836215049296,-0.4970482086180029,-0.49977314451101706,-0.5024931429086049,-0.5052081769386141,-0.5079182197779393,-0.5106232446527843,-0.5133232248389278,-0.5160181336619885,-0.5187079444976861,-0.5213926307721061,-0.5240721659619629,-0.5267465235948594,-0.5294156772495517,-0.5320796005562073,-0.5347382671966664,-0.5373916509047039,-0.5400397254662855,-0.5426824647198303,-0.5453198425564658,-0.547951832920288,-0.5505784098086192,-0.5531995472722625,-0.5558152194157603,-0.5584254003976502,-0.5610300644307183,-0.5636291857822565,-0.5662227387743145,-0.5688106977839544,-0.5713930372435052,-0.5739697316408124,-0.5765407555194934,-0.5791060834791859,-0.5816656901758006,-0.5842195503217723,-0.5867676386863072,-0.5893099300956351,-0.5918463994332557,-0.5943770216401875,-0.5969017717152165,-0.5994206247151419,-0.6019335557550222,-0.604440540008423,-0.6069415527076597,-0.6094365691440449,-0.6119255646681301,-0.6144085146899501,-0.6168853946792671,-0.6193561801658108,-0.6218208467395229,-0.6242793700507953,-0.6267317258107123,-0.6291778897912914,-0.6316178378257207,-0.6340515458085982,-0.6364789896961719,-0.6389001455065738,-0.6413149893200607,-0.6437234972792472,-0.6461256455893429,-0.6485214105183885,-0.6509107683974877,-0.6532936956210439,-0.6556701686469909,-0.6580401639970267,-0.660403658256846,-0.6627606280763703,-0.6651110501699788,-0.66745490131674,-0.6697921583606384,-0.6721227982108061,-0.6744467978417488,-0.6767641342935737,-0.679074784672218,-0.6813787261496725,-0.6836759359642095,-0.6859663914206056,-0.6882500698903671,-0.6905269488119541,-0.692797005691002,-0.6950602181005442,-0.6973165636812346,-0.6995660201415669,-0.7018085652580967,-0.704044176875659,-0.7062728329075884,-0.7084945113359377,-0.7107091902116937,-0.7129168476549961,-0.7151174618553521,-0.717311011071852,-0.7194974736333857,-0.7216768279388543,-0.723849052457385,-0.7260141257285442,-0.7281720263625479,-0.7303227330404748,-0.7324662245144757,-0.7346024796079834,-0.7367314772159236,-0.7388531963049205,-0.7409676159135078,-0.743074715152333,-0.7451744732043655,-0.7472668693251019,-0.7493518828427703,-0.7514294931585359,-0.753499679746703,-0.7555624221549179,-0.7576177000043728,-0.7596654929900046,-0.7617057808806981,-0.7637385435194822,-0.7657637608237337,-0.7677814127853726,-0.7697914794710593,-0.7717939410223942,-0.7737887776561119,-0.7757759696642776,-0.7777554974144802,-0.7797273413500284,-0.7816914819901435,-0.7836478999301494,-0.7855965758416676,-0.7875374904728075,-0.7894706246483535,-0.7913959592699588,-0.7933134753163319,-0.7952231538434232,-0.7971249759846153,-0.7990189229509073,-0.800904976031101,-0.8027831165919846,-0.804653326078519,-0.8065155860140201,-0.8083698780003397,-0.8102161837180499,-0.8120544849266235,-0.8138847634646117,-0.815707001249827,-0.8175211802795201,-0.8193272826305581,-0.8211252904596001,-0.8229151860032765,-0.8246969515783623,-0.8264705695819513,-0.8282360224916322,-0.8299932928656608,-0.8317423633431303,-0.8334832166441462,-0.8352158355699952,-0.8369402030033142,-0.8386563019082613,-0.8403641153306838,-0.8420636263982846,-0.8437548183207887,-0.8454376743901112,-0.8471121779805211,-0.8487783125488039,-0.8504360616344281,-0.8520854088597063,-0.8537263379299559,-0.8553588326336623,-0.8569828768426383,-0.8585984545121816,-0.8602055496812362,-0.8618041464725482,-0.863394229092824,-0.8649757818328837,-0.86654878906782,-0.8681132352571501,-0.869669104944969,-0.871216382760104,-0.8727550534162659,-0.874285101712198,-0.8758065125318295,-0.8773192708444233,-0.8788233617047233,-0.8803187702531045,-0.8818054817157179,-0.883283481404638,-0.8847527547180053,-0.8862132871401739,-0.8876650642418532,-0.8891080716802492,-0.890542295199209,-0.8919677206293599,-0.8933843338882489,-0.8947921209804832,-0.8961910679978686,-0.8975811611195444,-0.8989623866121234,-0.900334730829825,-0.9016981802146116,-0.9030527212963206,-0.9043983406928002,-0.9057350251100398,-0.9070627613423006,-0.9083815362722483,-0.9096913368710817,-0.9109921501986601,-0.9122839634036333,-0.9135667637235675,-0.9148405384850705,-0.9161052751039193,-0.9173609610851817,-0.9186075840233424,-0.9198451316024226,-0.9210735915961044,-0.9222929518678502,-0.9235032003710225,-0.9247043251490037,-0.9258963143353138,-0.9270791561537273,-0.9282528389183898,-0.9294173510339346,-0.9305726809955945,-0.9317188173893184,-0.9328557488918824,-0.9339834642710024,-0.9351019523854439,-0.9362112021851337,-0.9373112027112682,-0.9384019430964213,-0.9394834125646526,-0.9405556004316138,-0.9416184961046528,-0.9426720890829206,-0.9437163689574738,-0.9447513254113766,-0.9457769482198048,-0.9467932272501453,-0.9478001524620966,-0.9487977139077677,-0.949785901731777,-0.9507647061713498,-0.9517341175564131,-0.9526941263096933,-0.9536447229468099,-0.9545858980763683,-0.9555176424000542,-0.9564399467127246,-0.9573528019024984,-0.9582561989508471,-0.959150128932684,-0.9600345830164518,-0.9609095524642096,-0.9617750286317204,-0.9626310029685355,-0.9634774670180792,-0.9643144124177326,-0.9651418308989163,-0.965959714287171,-0.9667680545022397,-0.9675668435581474,-0.9683560735632782,-0.9691357367204557,-0.9699058253270187,-0.9706663317748975,-0.9714172485506885,-0.9721585682357297,-0.9728902835061733,-0.9736123871330575,-0.9743248719823789,-0.9750277310151628,-0.9757209572875317,-0.9764045439507754,-0.9770784842514177,-0.9777427715312833,-0.978397399227564,-0.9790423608728827,-0.9796776500953583,-0.9803032606186677,-0.9809191862621086,-0.9815254209406601,-0.9821219586650426,-0.9827087935417779,-0.9832859197732465,-0.983853331657745,-0.984411023589543,-0.9849589900589379,-0.9854972256523098,-0.9860257250521742,-0.9865444830372356,-0.9870534944824386,-0.9875527543590177,-0.9880422577345486,-0.9885219997729958,-0.9889919757347605,-0.9894521809767278,-0.9899026109523126,-0.9903432612115034,-0.9907741274009082,-0.9911952052637958,-0.991606490640139,-0.9920079794666544,-0.9923996677768442,-0.9927815517010343,-0.9931536274664124,-0.9935158913970661,-0.9938683399140186,-0.994210969535264,-0.9945437768758022,-0.9948667586476722,-0.9951799116599839,-0.9954832328189505,-0.9957767191279189,-0.9960603676873989,-0.9963341756950921,-0.9965981404459195,-0.9968522593320487,-0.9970965298429187,-0.9973309495652656,-0.9975555161831459,-0.9977702274779598,-0.9979750813284729,-0.9981700757108369,-0.99835520869861,-0.9985304784627759,-0.9986958832717616,-0.9988514214914548,-0.9989970915852197,-0.9991328921139124,-0.9992588217358954,-0.9993748792070504,-0.9994810633807905,-0.9995773732080722,-0.9996638077374049,-0.9997403661148613,-0.9998070475840847,-0.9998638514862973,-0.9999107772603066,-0.9999478244425106,-0.9999749926669027,-0.9999922816650751,-0.9999996912662218,-0.9999972213971394,-0.9999848720822294,-0.9999626434434962,-0.9999305357005471,-0.9998885491705899,-0.9998366842684291,-0.9997749415064627,-0.9997033214946769,-0.9996218249406393,-0.9995304526494934,-0.9994292055239488,-0.9993180845642742,-0.9991970908682858,-0.9990662256313378,-0.9989254901463098,-0.9987748858035943,-0.9986144140910828,-0.9984440765941512,-0.9982638749956445,-0.9980738110758594,-0.9978738867125272,-0.9976641038807956,-0.9974444646532084,-0.9972149711996852,-0.9969756257875008,-0.9967264307812617,-0.9964673886428831,-0.9961985019315652,-0.9959197733037669,-0.9956312055131803,-0.995332801410703,-0.9950245639444106,-0.9947064961595268,-0.9943786011983938,-0.9940408823004412,-0.9936933428021536,-0.9933359861370382,-0.9929688158355909,-0.9925918355252608,-0.9922050489304145,-0.9918084598723002,-0.9914020722690087,-0.9909858901354354,-0.9905599175832408,-0.9901241588208093,-0.9896786181532077,-0.9892232999821434,-0.9887582088059201,-0.9882833492193935,-0.9877987259139261,-0.9873043436773412,-0.9868002073938748,-0.9862863220441276,-0.9857626927050165,-0.9852293245497235,-0.9846862228476447,-0.9841333929643393,-0.9835708403614752,-0.9829985705967756,-0.9824165893239648,-0.9818249022927109,-0.9812235153485702,-0.9806124344329288,-0.9799916655829446,-0.9793612149314866,-0.9787210887070751,-0.9780712932338204,-0.9774118349313592,-0.976742720314792,-0.9760639559946194,-0.9753755486766749,-0.9746775051620603,-0.9739698323470777,-0.9732525372231621,-0.9725256268768113,-0.9717891084895165,-0.9710429893376917,-0.9702872767926012,-0.9695219783202864,-0.9687471014814937,-0.9679626539315977,-0.9671686434205271,-0.9663650777926878,-0.9655519649868847,-0.964729313036244,-0.9638971300681336,-0.9630554243040832,-0.9622042040597023,-0.9613434777445982,-0.9604732538622941,-0.9595935410101433,-0.9587043478792452,-0.95780568325436,-0.9568975560138206,-0.9559799751294458,-0.9550529496664516,-0.9541164887833613,-0.953170601731915,-0.9522152978569783,-0.9512505865964509,-0.9502764774811717,-0.9492929801348252,-0.9483001042738479,-0.94729785970733,-0.9462862563369197,-0.9452653041567259,-0.9442350132532181,-0.9431953938051276,-0.9421464560833475,-0.9410882104508296,-0.9400206673624834,-0.938943837365072,-0.9378577310971092,-0.9367623592887527,-0.9356577327616985,-0.9345438624290755,-0.9334207592953356,-0.9322884344561461,-0.9311468990982802,-0.929996164499506,-0.9288362420284747,-0.9276671431446101,-0.9264888793979931,-0.9253014624292488,-0.9241049039694311,-0.922899215839908,-0.9216844099522429,-0.9204604983080776,-0.9192274929990154,-0.9179854062064988,-0.9167342502016907,-0.9154740373453543,-0.9142047800877283,-0.9129264909684056,-0.91163918261621,-0.9103428677490698,-0.909037559173893,-0.9077232697864404,-0.9064000125711995,-0.9050678006012545,-0.9037266470381573,-0.9023765651317998,-0.9010175682202793,-0.8996496697297695,-0.8982728831743874,-0.8968872221560589,-0.8954927003643843,-0.8940893315765055,-0.8926771296569664,-0.8912561085575781,-0.8898262823172802,-0.8883876650620036,-0.8869402710045287,-0.8854841144443459,-0.884019209767516,-0.8825455714465251,-0.8810632140401433,-0.8795721521932817,-0.8780724006368454,-0.8765639741875898,-0.8750468877479743,-0.8735211563060135,-0.8719867949351303,-0.8704438187940066,-0.8688922431264346,-0.8673320832611644,-0.8657633546117532,-0.8641860726764147,-0.862600253037863,-0.8610059113631607,-0.8594030634035644,-0.8577917249943675,-0.8561719120547441,-0.8545436405875938,-0.8529069266793806,-0.8512617864999759,-0.8496082363024975,-0.8479462924231514,-0.8462759712810675,-0.8445972893781382,-0.8429102632988574,-0.8412149097101538,-0.8395112453612273,-0.8377992870833856,-0.8360790517898739,-0.8343505564757103,-0.8326138182175195,-0.8308688541733596,-0.8291156815825569,-0.8273543177655321,-0.8255847801236333,-0.8238070861389598,-0.8220212533741913,-0.8202272994724158,-0.8184252421569524,-0.816615099231178,-0.8147968885783519,-0.8129706281614374,-0.8111363360229248,-0.8092940302846554,-0.8074437291476391,-0.8055854508918763,-0.8037192138761771,-0.801845036537981,-0.7999629373931727,-0.7980729350358996,-0.7961750481383908,-0.7942692954507685,-0.792355695800865,-0.7904342680940378,-0.7885050313129803,-0.7865680045175357,-0.7846232068445078,-0.7826706575074743,-0.7807103757965939,-0.7787423810784165,-0.7767666927956947,-0.7747833304671874,-0.7727923136874691,-0.7707936621267383,-0.7687873955306188,-0.7667735337199675,-0.7647520965906792,-0.7627231041134878,-0.7606865763337699,-0.758642533371347,-0.7565909954202878,-0.7545319827487065,-0.7524655156985628,-0.750391614685464,-0.7483103001984591,-0.7462215927998386,-0.7441255131249322,-0.742022081881903,-0.7399113198515426,-0.7377932478870697,-0.7356678869139188,-0.733535257929537,-0.7313953820031747,-0.7292482802756801,-0.7270939739592869,-0.724932484337406,-0.7227638327644176,-0.7205880406654565,-0.7184051295362018,-0.7162151209426671,-0.7140180365209831,-0.7118138979771859,-0.7096027270870047,-0.7073845456956425,-0.7051593757175632,-0.7029272391362734,-0.7006881580041082,-0.6984421544420092,-0.6961892506393077,-0.6939294688535081,-0.6916628314100636,-0.6893893607021574,-0.6871090791904839,-0.684822009403023,-0.6825281739348186,-0.6802275954477583,-0.6779202966703453,-0.6756063003974759,-0.6732856294902141,-0.6709583068755673,-0.6686243555462564,-0.6662837985604906,-0.6639366590417414,-0.6615829601785101,-0.6592227252241014,-0.6568559774963947,-0.6544827403776101,-0.6521030373140797,-0.6497168918160178,-0.6473243274572842,-0.6449253678751548,-0.6425200367700857,-0.640108357905483,-0.6376903551074626,-0.6352660522646181,-0.6328354733277859,-0.6303986423098049,-0.6279555832852814,-0.6255063203903533,-0.6230508778224471,-0.6205892798400411,-0.6181215507624286,-0.6156477149694721,-0.6131677969013664,-0.610681821058395,-0.6081898120006911,-0.605691794347991,-0.6031877927793927,-0.6006778320331142,-0.5981619369062449,-0.5956401322545026,-0.5931124429919906,-0.5905788940909467,-0.5880395105814987,-0.5854943175514197,-0.5829433401458755,-0.5803866035671792,-0.5778241330745407,-0.5752559539838203,-0.5726820916672739,-0.5701025715533049,-0.5675174191262147,-0.5649266599259469,-0.5623303195478371,-0.559728423642362,-0.5571209979148821,-0.5545080681253894,-0.5518896600882555,-0.5492657996719718,-0.5466365127988971,-0.5440018254450003,-0.541361763639606,-0.5387163534651336,-0.5360656210568414,-0.533409592602571,-0.5307482943424837,-0.5280817525688039,-0.5254099936255612,-0.522733043908326,-0.5200509298639507,-0.5173636779903109,-0.5146713148360389,-0.5119738670002645,-0.5092713611323508,-0.5065638239316338,-0.5038512821471542,-0.5011337625773953,-0.4984112920700206,-0.49568389752160397,-0.4929516058773662,-0.4902144441309111,-0.4874724393239543,-0.4847256185460581,-0.4819740089343667,-0.47921763767333286,-0.4764565319944528,-0.4736907191759956,-0.4709202265427366,-0.4681450814656829,-0.46536531136180537,-0.4625809436937701,-0.4597920059696623,-0.4569985257427168,-0.45420053061104854,-0.4513980482173748,-0.44859110624874554,-0.4457797324362681,-0.44296395455483656,-0.44014380042285245,-0.4373192979019524,-0.4344904748967351,-0.43165735935448113,-0.42881997926487897,-0.4259783626597509,-0.4231325376127716,-0.4202825322391927,-0.4174283746955677,-0.414570093179469,-0.4117077159292125,-0.40884127122357694,-0.4059707873815278,-0.4030962927619327,-0.4002178157632836,-0.39733538482341874,-0.3944490284192367,-0.3915587750664176,-0.388664653319144,-0.38576669176981343,-0.3828649190487588,-0.3799593638239678,-0.3770500548007948,-0.3741370207216806,-0.3712202903658666,-0.36829989254911427,-0.3653758561234148,-0.3624482099767071,-0.35951698303259483,-0.3565822042500554,-0.3536439026231564,-0.35070210718077205,-0.34775684698629095,-0.3448081511373316,-0.34185604876545755,-0.3389005690358845,-0.33594174114719544,-0.3329795943310506,-0.33001415785190197,-0.3270454610066992,-0.32407353312460246,-0.3210984035666957,-0.318120101725691,-0.315138657025641,-0.3121540989216505,-0.30916645689958083,-0.3061757604757606,-0.303182039196697,-0.30018532263877845,-0.2971856404079862,-0.29418302213959974,-0.2911774974979078,-0.2881690961759099,-0.2851578478950257,-0.2821437824048037,-0.2791269294826227,-0.2761073189333995,-0.2730849805892977,-0.2700599443094272,-0.2670322399795524,-0.2640018975117989,-0.2609689468443534,-0.2579334179411709,-0.25489534079167725,-0.25185474541047614,-0.2488116618370476,-0.24576612013545357,-0.24271815039404365,-0.2396677827251526,-0.23661504726480545,-0.23355997417242227,-0.23050259363051526,-0.22744293584439285,-0.22438103104186416,-0.221316909472935,-0.2182506014095125,-0.2151821371451044,-0.21211154699452314,-0.20903886129358118,-0.20596411039879395,-0.20288732468708245,-0.1998085345554681,-0.1967277704207748,-0.1936450627193313,-0.19056044190666505,-0.1874739384572041,-0.18438558286397852,-0.181295405638314,-0.1782034373095339,-0.17510970842465579,-0.1720142495480933,-0.1689170912613488,-0.16581826416271395,-0.16271779886697002,-0.15961572600508017,-0.15651207622388946,-0.15340688018582477,-0.15030016856858644,-0.14719197206484805,-0.14408232138195565,-0.1409712472416192,-0.13785878037961252,-0.13474495154546792,-0.13162979150217594,-0.1285133310258761,-0.12539560090555552,-0.12227663194274736,-0.1191564549512213,-0.11603510075668165,-0.11291260019646553,-0.10978898411923292,-0.1066642833846645,-0.10353852886315942,-0.10041175143552511,-0.09728398199267561,-0.09415525143532465,-0.09102559067368395,-0.08789503062715248,-0.08476360222401369,-0.0816313364011326,-0.0784982641036448,-0.07536441628465346,-0.07222982390492613,-0.06909451793258359,-0.06595852934279653,-0.0628218891174822,-0.059684628244992995,-0.05654677771981388,-0.053408368542254385,-0.050269431718145886,-0.04712999825852999,-0.043990099179354765,-0.040849765501171045,-0.03770902824882061,-0.03456791845113233,-0.03142646714061829,-0.028284705353161875,-0.025142664127714726,-0.022000374505988275,-0.018857867532150657,-0.015715174252514653,-0.012572325715233661,-0.0094293529699976,-0.006286287067720833,-0.0031431590602380684,-2.4492935982947064e-16]}},\"id\":\"5613682f-0652-4166-9d0d-0fe4829bd6f5\",\"type\":\"ColumnDataSource\"},{\"attributes\":{\"dimension\":1,\"plot\":{\"id\":\"1eee09c1-f8ed-4894-b717-5ef17bd9c572\",\"subtype\":\"Figure\",\"type\":\"Plot\"},\"ticker\":{\"id\":\"42216b07-ba08-4654-8047-ebb44c1b0019\",\"type\":\"BasicTicker\"}},\"id\":\"3f813de9-9d2c-413e-9002-28fef2ffbfb2\",\"type\":\"Grid\"},{\"attributes\":{\"callback\":null,\"column_names\":[\"start_angle\",\"end_angle\",\"fill_color\",\"line_color\"],\"data\":{\"end_angle\":[1.8849555921538759,2.5132741228718345,3.7699111843077517,5.654866776461628,6.283185307179586],\"fill_color\":[\"red\",\"green\",\"blue\",\"orange\",\"yellow\"],\"line_color\":[\"red\",\"green\",\"blue\",\"orange\",\"yellow\"],\"start_angle\":[0.0,1.8849555921538759,2.5132741228718345,3.7699111843077517,5.654866776461628]}},\"id\":\"130b5933-8080-474e-bf06-7707e7693797\",\"type\":\"ColumnDataSource\"},{\"attributes\":{\"end_angle\":{\"field\":\"end_angle\",\"units\":\"rad\"},\"fill_color\":{\"field\":\"fill_color\"},\"line_color\":{\"field\":\"line_color\"},\"radius\":{\"units\":\"data\",\"value\":1},\"start_angle\":{\"field\":\"start_angle\",\"units\":\"rad\"},\"x\":{\"value\":0},\"y\":{\"value\":0}},\"id\":\"a2067635-df13-4600-994f-d1ccbfd02c02\",\"type\":\"Wedge\"},{\"attributes\":{\"dimension\":1,\"plot\":{\"id\":\"5806546e-d454-4786-ac77-9898c854fe55\",\"subtype\":\"Figure\",\"type\":\"Plot\"},\"ticker\":{\"id\":\"ffc80d70-b6b2-4ead-af41-6fb07caf6f43\",\"type\":\"BasicTicker\"}},\"id\":\"65acb15b-432e-4911-aaeb-2b3a7c7d4757\",\"type\":\"Grid\"},{\"attributes\":{\"data_source\":{\"id\":\"5613682f-0652-4166-9d0d-0fe4829bd6f5\",\"type\":\"ColumnDataSource\"},\"glyph\":{\"id\":\"a73faf0e-37d3-4b85-bf43-2b6e45374eb9\",\"type\":\"Line\"},\"hover_glyph\":null,\"nonselection_glyph\":{\"id\":\"5b0241c3-fb71-4280-a5a5-e10c231238af\",\"type\":\"Line\"},\"selection_glyph\":null},\"id\":\"867f22f8-a395-414f-b4b9-782af23ccbd3\",\"type\":\"GlyphRenderer\"},{\"attributes\":{},\"id\":\"dfdc5577-ecf0-441e-b662-8880bb2ebd8e\",\"type\":\"BasicTicker\"},{\"attributes\":{\"plot\":{\"id\":\"1eee09c1-f8ed-4894-b717-5ef17bd9c572\",\"subtype\":\"Figure\",\"type\":\"Plot\"},\"ticker\":{\"id\":\"842b0aae-d85a-4a9a-9c7d-bec7b0977049\",\"type\":\"BasicTicker\"}},\"id\":\"5d11efdd-cb19-49ac-a26d-f3d30f7798fd\",\"type\":\"Grid\"},{\"attributes\":{\"overlay\":{\"id\":\"676c476a-5913-4f51-9413-25fe794b4786\",\"type\":\"BoxAnnotation\"},\"plot\":{\"id\":\"5806546e-d454-4786-ac77-9898c854fe55\",\"subtype\":\"Figure\",\"type\":\"Plot\"}},\"id\":\"7a585487-8f25-48c7-8ca0-55d93e9bc28f\",\"type\":\"BoxZoomTool\"}],\"root_ids\":[\"5806546e-d454-4786-ac77-9898c854fe55\",\"6de13133-c9d5-40b1-914d-17e42dc360b7\",\"204142a8-e26b-406a-98e5-cad90c8fbd0b\",\"1eee09c1-f8ed-4894-b717-5ef17bd9c572\"]},\"title\":\"Bokeh Application\",\"version\":\"0.11.1\"}};\n",
       "            var render_items = [{\"docid\":\"f972127a-8cd3-4427-b23c-a9826155da8b\",\"elementid\":\"c81bae67-9635-4c20-b28f-c7337eb04d8b\",\"modelid\":\"867f22f8-a395-414f-b4b9-782af23ccbd3\"}];\n",
       "            \n",
       "            Bokeh.embed.embed_items(docs_json, render_items);\n",
       "        });\n",
       "        </script>\n",
       "    </body>\n",
       "</html>"
      ],
      "text/plain": [
       "<IPython.core.display.HTML object>"
      ]
     },
     "execution_count": 49,
     "metadata": {},
     "output_type": "execute_result"
    }
   ],
   "source": [
    "%%python\n",
    "#output_notebook()\n",
    "\n",
    "#from bokeh.plotting import figure\n",
    "from bokeh.resources import CDN\n",
    "from bokeh.embed import file_html\n",
    "\n",
    "#plot = figure()\n",
    "#plot.circle([1,2], [3,4])\n",
    "\n",
    "p = figure(title=\"simple line example\", plot_height=300, plot_width=600, y_range=(-5,5))\n",
    "r = p.line(x, y, color=\"#2222aa\", line_width=3)\n",
    "\n",
    "html = file_html(r, CDN, \"my plot\")\n",
    "\n",
    "import IPython\n",
    "retval=IPython.display.HTML(html)"
   ]
  },
  {
   "cell_type": "code",
   "execution_count": 50,
   "metadata": {
    "collapsed": true
   },
   "outputs": [],
   "source": [
    "%%python\n",
    "\n",
    "p = figure(title=\"simple line example\", plot_height=300, plot_width=600, y_range=(-5,5))\n",
    "r = p.line(x, y, color=\"#2222aa\", line_width=3)\n",
    "\n",
    "def update(f, w=1, A=1, phi=0):\n",
    "    if   f == \"sin\": func = np.sin\n",
    "    elif f == \"cos\": func = np.cos\n",
    "    elif f == \"tan\": func = np.tan\n",
    "    r.data_source.data['y'] = A * func(w * x + phi)\n",
    "    push_notebook()\n",
    "    \n",
    "show(p)"
   ]
  },
  {
   "cell_type": "code",
   "execution_count": 51,
   "metadata": {
    "collapsed": false
   },
   "outputs": [],
   "source": [
    "%%python\n",
    "\n",
    "#from bokeh.plotting import figure, output_file, show\n",
    "from bokeh.plotting import figure, output_notebook, show\n",
    "\n",
    "# prepare some data\n",
    "x = [1, 2, 3, 4, 5]\n",
    "y = [6, 7, 2, 4, 5]\n",
    "\n",
    "# output to static HTML file\n",
    "#output_file(\"lines.html\", title=\"line plot example\")\n",
    "output_notebook()\n",
    "\n",
    "# create a new plot with a title and axis labels\n",
    "p = figure(title=\"simple line example\", x_axis_label='x', y_axis_label='y')\n",
    "\n",
    "# add a line renderer with legend and line thickness\n",
    "p.line(x, y, legend=\"Temp.\", line_width=2)\n",
    "\n",
    "# show the results\n",
    "#hdl = show(p, browser=None)\n",
    "#p\n",
    "#show"
   ]
  },
  {
   "cell_type": "code",
   "execution_count": 52,
   "metadata": {
    "collapsed": false
   },
   "outputs": [],
   "source": [
    "%%python\n",
    "\n",
    "from lightning import Lightning\n",
    "from numpy import random, asarray, sqrt, arctan2, pi, clip\n",
    "from seaborn import color_palette\n",
    "from sklearn import datasets\n",
    "from colorsys import hsv_to_rgb"
   ]
  },
  {
   "cell_type": "code",
   "execution_count": 53,
   "metadata": {
    "collapsed": false
   },
   "outputs": [
    {
     "name": "stdout",
     "output_type": "stream",
     "text": [
      "1\n"
     ]
    }
   ],
   "source": [
    "%%python\n",
    "from lightning import Lightning\n",
    "from numpy import random, asarray, sqrt, arctan2, pi, clip\n",
    "from seaborn import color_palette\n",
    "from sklearn import datasets\n",
    "from colorsys import hsv_to_rgb\n",
    "\n",
    "\n",
    "print(1)\n"
   ]
  },
  {
   "cell_type": "markdown",
   "metadata": {},
   "source": [
    "# Experimenting with templates"
   ]
  },
  {
   "cell_type": "code",
   "execution_count": 54,
   "metadata": {
    "collapsed": false
   },
   "outputs": [
    {
     "data": {
      "text/plain": [
       "[Tue, Jul 05, 2016 12:33:19 PM] Sourcing <</home/mjbright/.metakernelrc>>"
      ]
     },
     "execution_count": 54,
     "metadata": {},
     "output_type": "execute_result"
    }
   ],
   "source": [
    "source ~/.metakernelrc"
   ]
  },
  {
   "cell_type": "code",
   "execution_count": 55,
   "metadata": {
    "collapsed": false
   },
   "outputs": [
    {
     "data": {},
     "execution_count": 55,
     "metadata": {},
     "output_type": "execute_result"
    }
   ],
   "source": [
    "# BROKEN:\n",
    "# test_piechart_js 'test_piechart' disk_usage.csv"
   ]
  },
  {
   "cell_type": "code",
   "execution_count": 56,
   "metadata": {
    "collapsed": false
   },
   "outputs": [
    {
     "data": {
      "application/javascript": [
       "\n",
       "\n",
       "window.alert(\"ALERT: BE WARNED\");\n",
       "\n",
       "\n"
      ],
      "text/plain": [
       "<IPython.core.display.Javascript object>"
      ]
     },
     "metadata": {},
     "output_type": "display_data"
    }
   ],
   "source": [
    "test_alert_js \"BE WARNED\" \"ignored arguments\""
   ]
  },
  {
   "cell_type": "code",
   "execution_count": 57,
   "metadata": {
    "collapsed": false
   },
   "outputs": [
    {
     "data": {
      "text/html": [
       "<?xml version=\"1.0\" encoding=\"UTF-8\" standalone=\"no\"?>\r\n",
       "<!DOCTYPE svg PUBLIC \"-//W3C//DTD SVG 1.1//EN\"\r\n",
       " \"http://www.w3.org/Graphics/SVG/1.1/DTD/svg11.dtd\">\r\n",
       "<!-- Generated by graphviz version 2.38.0 (20140413.2041)\r\n",
       " -->\r\n",
       "<!-- Title: A Pages: 1 -->\r\n",
       "<svg width=\"62pt\" height=\"116pt\"\r\n",
       " viewBox=\"0.00 0.00 62.00 116.00\" xmlns=\"http://www.w3.org/2000/svg\" xmlns:xlink=\"http://www.w3.org/1999/xlink\">\r\n",
       "<g id=\"graph0\" class=\"graph\" transform=\"scale(1 1) rotate(0) translate(4 112)\">\r\n",
       "<title>A</title>\r\n",
       "<polygon fill=\"white\" stroke=\"none\" points=\"-4,4 -4,-112 58,-112 58,4 -4,4\"/>\r\n",
       "<!-- a -->\r\n",
       "<g id=\"node1\" class=\"node\"><title>a</title>\r\n",
       "<ellipse fill=\"none\" stroke=\"black\" cx=\"27\" cy=\"-90\" rx=\"27\" ry=\"18\"/>\r\n",
       "<text text-anchor=\"middle\" x=\"27\" y=\"-86.3\" font-family=\"Times New Roman,serif\" font-size=\"14.00\">a</text>\r\n",
       "</g>\r\n",
       "<!-- b -->\r\n",
       "<g id=\"node2\" class=\"node\"><title>b</title>\r\n",
       "<ellipse fill=\"none\" stroke=\"black\" cx=\"27\" cy=\"-18\" rx=\"27\" ry=\"18\"/>\r\n",
       "<text text-anchor=\"middle\" x=\"27\" y=\"-14.3\" font-family=\"Times New Roman,serif\" font-size=\"14.00\">b</text>\r\n",
       "</g>\r\n",
       "<!-- a&#45;&#45;b -->\r\n",
       "<g id=\"edge1\" class=\"edge\"><title>a&#45;&#45;b</title>\r\n",
       "<path fill=\"none\" stroke=\"black\" d=\"M27,-71.6966C27,-60.8463 27,-46.9167 27,-36.1043\"/>\r\n",
       "</g>\r\n",
       "</g>\r\n",
       "</svg>\r\n"
      ],
      "text/plain": [
       "<IPython.core.display.HTML object>"
      ]
     },
     "metadata": {},
     "output_type": "display_data"
    }
   ],
   "source": [
    "echo \"graph A { a->b };\" | pydot"
   ]
  },
  {
   "cell_type": "code",
   "execution_count": 58,
   "metadata": {
    "collapsed": false
   },
   "outputs": [
    {
     "data": {
      "text/html": [
       "<?xml version=\"1.0\" encoding=\"UTF-8\" standalone=\"no\"?>\r\n",
       "<!DOCTYPE svg PUBLIC \"-//W3C//DTD SVG 1.1//EN\"\r\n",
       " \"http://www.w3.org/Graphics/SVG/1.1/DTD/svg11.dtd\">\r\n",
       "<!-- Generated by graphviz version 2.38.0 (20140413.2041)\r\n",
       " -->\r\n",
       "<!-- Title: G Pages: 1 -->\r\n",
       "<svg width=\"134pt\" height=\"188pt\"\r\n",
       " viewBox=\"0.00 0.00 134.00 188.00\" xmlns=\"http://www.w3.org/2000/svg\" xmlns:xlink=\"http://www.w3.org/1999/xlink\">\r\n",
       "<g id=\"graph0\" class=\"graph\" transform=\"scale(1 1) rotate(0) translate(4 184)\">\r\n",
       "<title>G</title>\r\n",
       "<polygon fill=\"white\" stroke=\"none\" points=\"-4,4 -4,-184 130,-184 130,4 -4,4\"/>\r\n",
       "<!-- a -->\r\n",
       "<g id=\"node1\" class=\"node\"><title>a</title>\r\n",
       "<ellipse fill=\"none\" stroke=\"black\" cx=\"27\" cy=\"-162\" rx=\"27\" ry=\"18\"/>\r\n",
       "<text text-anchor=\"middle\" x=\"27\" y=\"-158.3\" font-family=\"Times New Roman,serif\" font-size=\"14.00\">a</text>\r\n",
       "</g>\r\n",
       "<!-- c -->\r\n",
       "<g id=\"node3\" class=\"node\"><title>c</title>\r\n",
       "<ellipse fill=\"none\" stroke=\"black\" cx=\"27\" cy=\"-90\" rx=\"27\" ry=\"18\"/>\r\n",
       "<text text-anchor=\"middle\" x=\"27\" y=\"-86.3\" font-family=\"Times New Roman,serif\" font-size=\"14.00\">c</text>\r\n",
       "</g>\r\n",
       "<!-- a&#45;&gt;c -->\r\n",
       "<g id=\"edge2\" class=\"edge\"><title>a&#45;&gt;c</title>\r\n",
       "<path fill=\"none\" stroke=\"black\" d=\"M27,-143.697C27,-135.983 27,-126.712 27,-118.112\"/>\r\n",
       "<polygon fill=\"black\" stroke=\"black\" points=\"30.5001,-118.104 27,-108.104 23.5001,-118.104 30.5001,-118.104\"/>\r\n",
       "</g>\r\n",
       "<!-- b -->\r\n",
       "<g id=\"node2\" class=\"node\"><title>b</title>\r\n",
       "<ellipse fill=\"none\" stroke=\"black\" cx=\"99\" cy=\"-162\" rx=\"27\" ry=\"18\"/>\r\n",
       "<text text-anchor=\"middle\" x=\"99\" y=\"-158.3\" font-family=\"Times New Roman,serif\" font-size=\"14.00\">b</text>\r\n",
       "</g>\r\n",
       "<!-- d -->\r\n",
       "<g id=\"node4\" class=\"node\"><title>d</title>\r\n",
       "<ellipse fill=\"none\" stroke=\"black\" cx=\"27\" cy=\"-18\" rx=\"27\" ry=\"18\"/>\r\n",
       "<text text-anchor=\"middle\" x=\"27\" y=\"-14.3\" font-family=\"Times New Roman,serif\" font-size=\"14.00\">d</text>\r\n",
       "</g>\r\n",
       "<!-- c&#45;&gt;d -->\r\n",
       "<g id=\"edge1\" class=\"edge\"><title>c&#45;&gt;d</title>\r\n",
       "<path fill=\"none\" stroke=\"black\" d=\"M27,-71.6966C27,-63.9827 27,-54.7125 27,-46.1124\"/>\r\n",
       "<polygon fill=\"black\" stroke=\"black\" points=\"30.5001,-46.1043 27,-36.1043 23.5001,-46.1044 30.5001,-46.1043\"/>\r\n",
       "</g>\r\n",
       "</g>\r\n",
       "</svg>\r\n"
      ],
      "text/plain": [
       "<IPython.core.display.HTML object>"
      ]
     },
     "metadata": {},
     "output_type": "display_data"
    }
   ],
   "source": [
    "echo \"digraph G { \n",
    "        a; \n",
    "        b; \n",
    "        c -> d; \n",
    "        a -> c; \n",
    "}\" | pydot"
   ]
  },
  {
   "cell_type": "code",
   "execution_count": 59,
   "metadata": {
    "collapsed": false
   },
   "outputs": [
    {
     "data": {
      "text/html": [
       "<?xml version=\"1.0\" encoding=\"UTF-8\" standalone=\"no\"?>\r\n",
       "<!DOCTYPE svg PUBLIC \"-//W3C//DTD SVG 1.1//EN\"\r\n",
       " \"http://www.w3.org/Graphics/SVG/1.1/DTD/svg11.dtd\">\r\n",
       "<!-- Generated by graphviz version 2.38.0 (20140413.2041)\r\n",
       " -->\r\n",
       "<!-- Title: graphname Pages: 1 -->\r\n",
       "<svg width=\"134pt\" height=\"188pt\"\r\n",
       " viewBox=\"0.00 0.00 134.00 188.00\" xmlns=\"http://www.w3.org/2000/svg\" xmlns:xlink=\"http://www.w3.org/1999/xlink\">\r\n",
       "<g id=\"graph0\" class=\"graph\" transform=\"scale(1 1) rotate(0) translate(4 184)\">\r\n",
       "<title>graphname</title>\r\n",
       "<polygon fill=\"white\" stroke=\"none\" points=\"-4,4 -4,-184 130,-184 130,4 -4,4\"/>\r\n",
       "<!-- a -->\r\n",
       "<g id=\"node1\" class=\"node\"><title>a</title>\r\n",
       "<ellipse fill=\"none\" stroke=\"black\" cx=\"71\" cy=\"-162\" rx=\"27\" ry=\"18\"/>\r\n",
       "<text text-anchor=\"middle\" x=\"71\" y=\"-158.3\" font-family=\"Times New Roman,serif\" font-size=\"14.00\">a</text>\r\n",
       "</g>\r\n",
       "<!-- b -->\r\n",
       "<g id=\"node2\" class=\"node\"><title>b</title>\r\n",
       "<ellipse fill=\"none\" stroke=\"black\" cx=\"44\" cy=\"-90\" rx=\"27\" ry=\"18\"/>\r\n",
       "<text text-anchor=\"middle\" x=\"44\" y=\"-86.3\" font-family=\"Times New Roman,serif\" font-size=\"14.00\">b</text>\r\n",
       "</g>\r\n",
       "<!-- a&#45;&#45;b -->\r\n",
       "<g id=\"edge1\" class=\"edge\"><title>a&#45;&#45;b</title>\r\n",
       "<path fill=\"none\" stroke=\"black\" d=\"M64.6014,-144.411C60.3597,-133.414 54.8106,-119.027 50.5403,-107.956\"/>\r\n",
       "</g>\r\n",
       "<!-- c -->\r\n",
       "<g id=\"node3\" class=\"node\"><title>c</title>\r\n",
       "<ellipse fill=\"none\" stroke=\"black\" cx=\"27\" cy=\"-18\" rx=\"27\" ry=\"18\"/>\r\n",
       "<text text-anchor=\"middle\" x=\"27\" y=\"-14.3\" font-family=\"Times New Roman,serif\" font-size=\"14.00\">c</text>\r\n",
       "</g>\r\n",
       "<!-- b&#45;&#45;c -->\r\n",
       "<g id=\"edge2\" class=\"edge\"><title>b&#45;&#45;c</title>\r\n",
       "<path fill=\"none\" stroke=\"black\" d=\"M39.8848,-72.055C37.2513,-61.2111 33.8444,-47.183 31.1954,-36.2753\"/>\r\n",
       "</g>\r\n",
       "<!-- d -->\r\n",
       "<g id=\"node4\" class=\"node\"><title>d</title>\r\n",
       "<ellipse fill=\"none\" stroke=\"black\" cx=\"99\" cy=\"-18\" rx=\"27\" ry=\"18\"/>\r\n",
       "<text text-anchor=\"middle\" x=\"99\" y=\"-14.3\" font-family=\"Times New Roman,serif\" font-size=\"14.00\">d</text>\r\n",
       "</g>\r\n",
       "<!-- b&#45;&#45;d -->\r\n",
       "<g id=\"edge3\" class=\"edge\"><title>b&#45;&#45;d</title>\r\n",
       "<path fill=\"none\" stroke=\"black\" d=\"M55.9342,-73.811C65.1595,-62.0697 77.8696,-45.8932 87.0891,-34.1593\"/>\r\n",
       "</g>\r\n",
       "<!-- d&#45;&#45;a -->\r\n",
       "<g id=\"edge4\" class=\"edge\"><title>d&#45;&#45;a</title>\r\n",
       "<path fill=\"none\" stroke=\"black\" d=\"M95.6106,-36.1893C90.2213,-63.5205 79.7592,-116.578 74.3775,-143.871\"/>\r\n",
       "</g>\r\n",
       "</g>\r\n",
       "</svg>\r\n"
      ],
      "text/plain": [
       "<IPython.core.display.HTML object>"
      ]
     },
     "metadata": {},
     "output_type": "display_data"
    }
   ],
   "source": [
    "echo 'graph graphname { \n",
    "                a -- b; \n",
    "                b -- c;\n",
    "                b -- d;\n",
    "                d -- a;\n",
    "        }' | pydot"
   ]
  },
  {
   "cell_type": "code",
   "execution_count": 60,
   "metadata": {
    "collapsed": false
   },
   "outputs": [
    {
     "data": {
      "text/html": [
       "<?xml version=\"1.0\" encoding=\"UTF-8\" standalone=\"no\"?>\r\n",
       "<!DOCTYPE svg PUBLIC \"-//W3C//DTD SVG 1.1//EN\"\r\n",
       " \"http://www.w3.org/Graphics/SVG/1.1/DTD/svg11.dtd\">\r\n",
       "<!-- Generated by graphviz version 2.38.0 (20140413.2041)\r\n",
       " -->\r\n",
       "<!-- Title: graphname Pages: 1 -->\r\n",
       "<svg width=\"242pt\" height=\"98pt\"\r\n",
       " viewBox=\"0.00 0.00 242.00 98.00\" xmlns=\"http://www.w3.org/2000/svg\" xmlns:xlink=\"http://www.w3.org/1999/xlink\">\r\n",
       "<g id=\"graph0\" class=\"graph\" transform=\"scale(1 1) rotate(0) translate(4 94)\">\r\n",
       "<title>graphname</title>\r\n",
       "<polygon fill=\"white\" stroke=\"none\" points=\"-4,4 -4,-94 238,-94 238,4 -4,4\"/>\r\n",
       "<!-- a -->\r\n",
       "<g id=\"node1\" class=\"node\"><title>a</title>\r\n",
       "<ellipse fill=\"none\" stroke=\"black\" cx=\"27\" cy=\"-41\" rx=\"27\" ry=\"18\"/>\r\n",
       "<text text-anchor=\"middle\" x=\"27\" y=\"-37.3\" font-family=\"Times New Roman,serif\" font-size=\"14.00\">a</text>\r\n",
       "</g>\r\n",
       "<!-- b -->\r\n",
       "<g id=\"node2\" class=\"node\"><title>b</title>\r\n",
       "<ellipse fill=\"none\" stroke=\"black\" cx=\"117\" cy=\"-64\" rx=\"27\" ry=\"18\"/>\r\n",
       "<text text-anchor=\"middle\" x=\"117\" y=\"-60.3\" font-family=\"Times New Roman,serif\" font-size=\"14.00\">b</text>\r\n",
       "</g>\r\n",
       "<!-- a&#45;&#45;b -->\r\n",
       "<g id=\"edge1\" class=\"edge\"><title>a&#45;&#45;b</title>\r\n",
       "<path fill=\"none\" stroke=\"black\" d=\"M52.5129,-47.4068C64.7184,-50.5969 79.4311,-54.4422 91.6186,-57.6276\"/>\r\n",
       "</g>\r\n",
       "<!-- c -->\r\n",
       "<g id=\"node3\" class=\"node\"><title>c</title>\r\n",
       "<ellipse fill=\"none\" stroke=\"black\" cx=\"207\" cy=\"-72\" rx=\"27\" ry=\"18\"/>\r\n",
       "<text text-anchor=\"middle\" x=\"207\" y=\"-68.3\" font-family=\"Times New Roman,serif\" font-size=\"14.00\">c</text>\r\n",
       "</g>\r\n",
       "<!-- b&#45;&#45;c -->\r\n",
       "<g id=\"edge2\" class=\"edge\"><title>b&#45;&#45;c</title>\r\n",
       "<path fill=\"none\" stroke=\"black\" d=\"M143.927,-66.357C155.283,-67.3894 168.584,-68.5986 179.954,-69.6322\"/>\r\n",
       "</g>\r\n",
       "<!-- d -->\r\n",
       "<g id=\"node4\" class=\"node\"><title>d</title>\r\n",
       "<ellipse fill=\"none\" stroke=\"black\" cx=\"207\" cy=\"-18\" rx=\"27\" ry=\"18\"/>\r\n",
       "<text text-anchor=\"middle\" x=\"207\" y=\"-14.3\" font-family=\"Times New Roman,serif\" font-size=\"14.00\">d</text>\r\n",
       "</g>\r\n",
       "<!-- b&#45;&#45;d -->\r\n",
       "<g id=\"edge3\" class=\"edge\"><title>b&#45;&#45;d</title>\r\n",
       "<path fill=\"none\" stroke=\"black\" d=\"M138.855,-53.0986C152.883,-45.7659 171.298,-36.1395 185.295,-28.8231\"/>\r\n",
       "</g>\r\n",
       "<!-- d&#45;&#45;a -->\r\n",
       "<g id=\"edge4\" class=\"edge\"><title>d&#45;&#45;a</title>\r\n",
       "<path fill=\"none\" stroke=\"black\" d=\"M180.375,-21.3111C146.659,-25.6677 87.7267,-33.2825 53.8827,-37.6556\"/>\r\n",
       "</g>\r\n",
       "</g>\r\n",
       "</svg>\r\n"
      ],
      "text/plain": [
       "<IPython.core.display.HTML object>"
      ]
     },
     "metadata": {},
     "output_type": "display_data"
    }
   ],
   "source": [
    "echo 'graph graphname {\n",
    "                rankdir=LR;  //Rank Direction Left to Right\n",
    "                a -- b; \n",
    "                b -- c;\n",
    "                b -- d;\n",
    "                d -- a;\n",
    "        }' | pydot"
   ]
  },
  {
   "cell_type": "code",
   "execution_count": 61,
   "metadata": {
    "collapsed": false
   },
   "outputs": [
    {
     "data": {
      "text/html": [
       "<?xml version=\"1.0\" encoding=\"UTF-8\" standalone=\"no\"?>\r\n",
       "<!DOCTYPE svg PUBLIC \"-//W3C//DTD SVG 1.1//EN\"\r\n",
       " \"http://www.w3.org/Graphics/SVG/1.1/DTD/svg11.dtd\">\r\n",
       "<!-- Generated by graphviz version 2.38.0 (20140413.2041)\r\n",
       " -->\r\n",
       "<!-- Title: graphname Pages: 1 -->\r\n",
       "<svg width=\"89pt\" height=\"188pt\"\r\n",
       " viewBox=\"0.00 0.00 89.00 188.00\" xmlns=\"http://www.w3.org/2000/svg\" xmlns:xlink=\"http://www.w3.org/1999/xlink\">\r\n",
       "<g id=\"graph0\" class=\"graph\" transform=\"scale(1 1) rotate(0) translate(4 184)\">\r\n",
       "<title>graphname</title>\r\n",
       "<polygon fill=\"white\" stroke=\"none\" points=\"-4,4 -4,-184 85,-184 85,4 -4,4\"/>\r\n",
       "<!-- a -->\r\n",
       "<g id=\"node1\" class=\"node\"><title>a</title>\r\n",
       "<ellipse fill=\"none\" stroke=\"black\" cx=\"54\" cy=\"-162\" rx=\"27\" ry=\"18\"/>\r\n",
       "<text text-anchor=\"middle\" x=\"54\" y=\"-158.3\" font-family=\"Times New Roman,serif\" font-size=\"14.00\">a</text>\r\n",
       "</g>\r\n",
       "<!-- b -->\r\n",
       "<g id=\"node2\" class=\"node\"><title>b</title>\r\n",
       "<ellipse fill=\"none\" stroke=\"black\" cx=\"27\" cy=\"-90\" rx=\"27\" ry=\"18\"/>\r\n",
       "<text text-anchor=\"middle\" x=\"27\" y=\"-86.3\" font-family=\"Times New Roman,serif\" font-size=\"14.00\">b</text>\r\n",
       "</g>\r\n",
       "<!-- a&#45;&gt;b -->\r\n",
       "<g id=\"edge1\" class=\"edge\"><title>a&#45;&gt;b</title>\r\n",
       "<path fill=\"none\" stroke=\"black\" d=\"M47.6014,-144.411C44.4864,-136.335 40.6663,-126.431 37.1654,-117.355\"/>\r\n",
       "<polygon fill=\"black\" stroke=\"black\" points=\"40.4045,-116.027 33.5403,-107.956 33.8735,-118.546 40.4045,-116.027\"/>\r\n",
       "</g>\r\n",
       "<!-- c -->\r\n",
       "<g id=\"node3\" class=\"node\"><title>c</title>\r\n",
       "<ellipse fill=\"none\" stroke=\"black\" cx=\"54\" cy=\"-18\" rx=\"27\" ry=\"18\"/>\r\n",
       "<text text-anchor=\"middle\" x=\"54\" y=\"-14.3\" font-family=\"Times New Roman,serif\" font-size=\"14.00\">c</text>\r\n",
       "</g>\r\n",
       "<!-- a&#45;&gt;c -->\r\n",
       "<g id=\"edge3\" class=\"edge\"><title>a&#45;&gt;c</title>\r\n",
       "<path fill=\"none\" stroke=\"black\" d=\"M57.6538,-143.908C59.6758,-133.569 61.9808,-120.09 63,-108 64.3441,-92.0566 64.3441,-87.9434 63,-72 62.2834,-63.4991 60.9311,-54.3119 59.4884,-46.0122\"/>\r\n",
       "<polygon fill=\"black\" stroke=\"black\" points=\"62.9142,-45.2892 57.6538,-36.0925 56.0309,-46.5623 62.9142,-45.2892\"/>\r\n",
       "</g>\r\n",
       "<!-- b&#45;&gt;c -->\r\n",
       "<g id=\"edge2\" class=\"edge\"><title>b&#45;&gt;c</title>\r\n",
       "<path fill=\"none\" stroke=\"black\" d=\"M33.3986,-72.411C36.5136,-64.3352 40.3337,-54.4312 43.8346,-45.3547\"/>\r\n",
       "<polygon fill=\"black\" stroke=\"black\" points=\"47.1265,-46.5458 47.4597,-35.9562 40.5955,-44.0267 47.1265,-46.5458\"/>\r\n",
       "</g>\r\n",
       "</g>\r\n",
       "</svg>\r\n"
      ],
      "text/plain": [
       "<IPython.core.display.HTML object>"
      ]
     },
     "metadata": {},
     "output_type": "display_data"
    }
   ],
   "source": [
    "echo 'digraph graphname{\n",
    "                a -> b;\n",
    "                b -> c;\n",
    "                a -> c;\n",
    "        }' | pydot"
   ]
  },
  {
   "cell_type": "code",
   "execution_count": 62,
   "metadata": {
    "collapsed": false
   },
   "outputs": [
    {
     "data": {
      "text/html": [
       "<?xml version=\"1.0\" encoding=\"UTF-8\" standalone=\"no\"?>\r\n",
       "<!DOCTYPE svg PUBLIC \"-//W3C//DTD SVG 1.1//EN\"\r\n",
       " \"http://www.w3.org/Graphics/SVG/1.1/DTD/svg11.dtd\">\r\n",
       "<!-- Generated by graphviz version 2.38.0 (20140413.2041)\r\n",
       " -->\r\n",
       "<!-- Title: graphname Pages: 1 -->\r\n",
       "<svg width=\"115pt\" height=\"131pt\"\r\n",
       " viewBox=\"0.00 0.00 115.30 131.00\" xmlns=\"http://www.w3.org/2000/svg\" xmlns:xlink=\"http://www.w3.org/1999/xlink\">\r\n",
       "<g id=\"graph0\" class=\"graph\" transform=\"scale(1 1) rotate(0) translate(4 127)\">\r\n",
       "<title>graphname</title>\r\n",
       "<polygon fill=\"white\" stroke=\"none\" points=\"-4,4 -4,-127 111.296,-127 111.296,4 -4,4\"/>\r\n",
       "<!-- T -->\r\n",
       "<g id=\"node1\" class=\"node\"><title>T</title>\r\n",
       "<ellipse fill=\"none\" stroke=\"black\" cx=\"40.2964\" cy=\"-105\" rx=\"40.0939\" ry=\"18\"/>\r\n",
       "<text text-anchor=\"middle\" x=\"40.2964\" y=\"-101.3\" font-family=\"Times New Roman,serif\" font-size=\"14.00\">Teacher</text>\r\n",
       "</g>\r\n",
       "<!-- P -->\r\n",
       "<g id=\"node2\" class=\"node\"><title>P</title>\r\n",
       "<ellipse fill=\"none\" stroke=\"black\" cx=\"40.2964\" cy=\"-18\" rx=\"29.4969\" ry=\"18\"/>\r\n",
       "<text text-anchor=\"middle\" x=\"40.2964\" y=\"-14.3\" font-family=\"Times New Roman,serif\" font-size=\"14.00\">Pupil</text>\r\n",
       "</g>\r\n",
       "<!-- T&#45;&gt;P -->\r\n",
       "<g id=\"edge1\" class=\"edge\"><title>T&#45;&gt;P</title>\r\n",
       "<path fill=\"none\" stroke=\"black\" d=\"M40.2964,-86.799C40.2964,-75.1626 40.2964,-59.5479 40.2964,-46.2368\"/>\r\n",
       "<polygon fill=\"black\" stroke=\"black\" points=\"43.7965,-46.1754 40.2964,-36.1754 36.7965,-46.1755 43.7965,-46.1754\"/>\r\n",
       "<text text-anchor=\"middle\" x=\"73.7964\" y=\"-57.8\" font-family=\"Times New Roman,serif\" font-size=\"14.00\" fill=\"darkgreen\">Instructions</text>\r\n",
       "</g>\r\n",
       "</g>\r\n",
       "</svg>\r\n"
      ],
      "text/plain": [
       "<IPython.core.display.HTML object>"
      ]
     },
     "metadata": {},
     "output_type": "display_data"
    }
   ],
   "source": [
    "echo 'digraph graphname{\n",
    "\n",
    "                T [label=\"Teacher\"]      // node T\n",
    "                P [label=\"Pupil\"]  // node P\n",
    "\n",
    "                T->P [label=\"Instructions\", fontcolor=darkgreen] // edge T->P\n",
    "}\n",
    "' | pydot"
   ]
  },
  {
   "cell_type": "code",
   "execution_count": 63,
   "metadata": {
    "collapsed": false
   },
   "outputs": [
    {
     "data": {
      "text/html": [
       "<?xml version=\"1.0\" encoding=\"UTF-8\" standalone=\"no\"?>\r\n",
       "<!DOCTYPE svg PUBLIC \"-//W3C//DTD SVG 1.1//EN\"\r\n",
       " \"http://www.w3.org/Graphics/SVG/1.1/DTD/svg11.dtd\">\r\n",
       "<!-- Generated by graphviz version 2.38.0 (20140413.2041)\r\n",
       " -->\r\n",
       "<!-- Title: graphname Pages: 1 -->\r\n",
       "<svg width=\"121pt\" height=\"131pt\"\r\n",
       " viewBox=\"0.00 0.00 121.00 131.00\" xmlns=\"http://www.w3.org/2000/svg\" xmlns:xlink=\"http://www.w3.org/1999/xlink\">\r\n",
       "<g id=\"graph0\" class=\"graph\" transform=\"scale(1 1) rotate(0) translate(4 127)\">\r\n",
       "<title>graphname</title>\r\n",
       "<polygon fill=\"white\" stroke=\"none\" points=\"-4,4 -4,-127 117,-127 117,4 -4,4\"/>\r\n",
       "<!-- T -->\r\n",
       "<g id=\"node1\" class=\"node\"><title>T</title>\r\n",
       "<polygon fill=\"none\" stroke=\"Blue\" points=\"92,-123 0,-123 0,-87 92,-87 92,-123\"/>\r\n",
       "<text text-anchor=\"middle\" x=\"46\" y=\"-98.8\" font-family=\"Times New Roman,serif\" font-size=\"24.00\" fill=\"Red\">Teacher</text>\r\n",
       "</g>\r\n",
       "<!-- P -->\r\n",
       "<g id=\"node2\" class=\"node\"><title>P</title>\r\n",
       "<polygon fill=\"none\" stroke=\"Blue\" points=\"79.5,-36 12.5,-36 12.5,-0 79.5,-0 79.5,-36\"/>\r\n",
       "<text text-anchor=\"middle\" x=\"46\" y=\"-11.8\" font-family=\"Times New Roman,serif\" font-size=\"24.00\" fill=\"Red\">Pupil</text>\r\n",
       "</g>\r\n",
       "<!-- T&#45;&gt;P -->\r\n",
       "<g id=\"edge1\" class=\"edge\"><title>T&#45;&gt;P</title>\r\n",
       "<path fill=\"none\" stroke=\"black\" d=\"M46,-86.799C46,-75.1626 46,-59.5479 46,-46.2368\"/>\r\n",
       "<polygon fill=\"black\" stroke=\"black\" points=\"49.5001,-46.1754 46,-36.1754 42.5001,-46.1755 49.5001,-46.1754\"/>\r\n",
       "<text text-anchor=\"middle\" x=\"79.5\" y=\"-57.8\" font-family=\"Times New Roman,serif\" font-size=\"14.00\" fill=\"darkgreen\">Instructions</text>\r\n",
       "</g>\r\n",
       "</g>\r\n",
       "</svg>\r\n"
      ],
      "text/plain": [
       "<IPython.core.display.HTML object>"
      ]
     },
     "metadata": {},
     "output_type": "display_data"
    }
   ],
   "source": [
    "echo 'digraph graphname {\n",
    "                T [label=\"Teacher\" color=Blue, fontcolor=Red, fontsize=24, shape=box]      // node T\n",
    "                P [label=\"Pupil\" color=Blue, fontcolor=Red, fontsize=24, shape=box]  // node P\n",
    "\n",
    "                T->P [label=\"Instructions\", fontcolor=darkgreen] // edge T->P\n",
    "}' | pydot"
   ]
  },
  {
   "cell_type": "code",
   "execution_count": 64,
   "metadata": {
    "collapsed": false
   },
   "outputs": [
    {
     "data": {
      "text/html": [
       "<?xml version=\"1.0\" encoding=\"UTF-8\" standalone=\"no\"?>\r\n",
       "<!DOCTYPE svg PUBLIC \"-//W3C//DTD SVG 1.1//EN\"\r\n",
       " \"http://www.w3.org/Graphics/SVG/1.1/DTD/svg11.dtd\">\r\n",
       "<!-- Generated by graphviz version 2.38.0 (20140413.2041)\r\n",
       " -->\r\n",
       "<!-- Title: summary Pages: 1 -->\r\n",
       "<svg width=\"201pt\" height=\"204pt\"\r\n",
       " viewBox=\"0.00 0.00 200.59 204.00\" xmlns=\"http://www.w3.org/2000/svg\" xmlns:xlink=\"http://www.w3.org/1999/xlink\">\r\n",
       "<g id=\"graph0\" class=\"graph\" transform=\"scale(1 1) rotate(0) translate(4 200)\">\r\n",
       "<title>summary</title>\r\n",
       "<polygon fill=\"white\" stroke=\"none\" points=\"-4,4 -4,-200 196.593,-200 196.593,4 -4,4\"/>\r\n",
       "<!-- start -->\r\n",
       "<g id=\"node1\" class=\"node\"><title>start</title>\r\n",
       "<ellipse fill=\"none\" stroke=\"black\" cx=\"118.5\" cy=\"-178\" rx=\"74.187\" ry=\"18\"/>\r\n",
       "<text text-anchor=\"middle\" x=\"118.5\" y=\"-174.3\" font-family=\"Times New Roman,serif\" font-size=\"14.00\">Start with a Node</text>\r\n",
       "</g>\r\n",
       "<!-- next -->\r\n",
       "<g id=\"node3\" class=\"node\"><title>next</title>\r\n",
       "<ellipse fill=\"none\" stroke=\"black\" cx=\"55.5\" cy=\"-105\" rx=\"27\" ry=\"18\"/>\r\n",
       "<text text-anchor=\"middle\" x=\"55.5\" y=\"-101.3\" font-family=\"Times New Roman,serif\" font-size=\"14.00\">next</text>\r\n",
       "</g>\r\n",
       "<!-- start&#45;&gt;next -->\r\n",
       "<g id=\"edge1\" class=\"edge\"><title>start&#45;&gt;next</title>\r\n",
       "<path fill=\"none\" stroke=\"black\" d=\"M103.57,-160.174C95.1862,-150.726 84.6133,-138.81 75.5194,-128.562\"/>\r\n",
       "<polygon fill=\"black\" stroke=\"black\" points=\"77.8685,-125.936 68.6134,-120.779 72.6326,-130.582 77.8685,-125.936\"/>\r\n",
       "</g>\r\n",
       "<!-- warning -->\r\n",
       "<g id=\"node4\" class=\"node\"><title>warning</title>\r\n",
       "<ellipse fill=\"none\" stroke=\"black\" cx=\"139.5\" cy=\"-105\" rx=\"38.9931\" ry=\"18\"/>\r\n",
       "<text text-anchor=\"middle\" x=\"139.5\" y=\"-101.3\" font-family=\"Times New Roman,serif\" font-size=\"14.00\">warning</text>\r\n",
       "</g>\r\n",
       "<!-- start&#45;&gt;warning -->\r\n",
       "<g id=\"edge2\" class=\"edge\"><title>start&#45;&gt;warning</title>\r\n",
       "<path fill=\"none\" stroke=\"black\" d=\"M123.584,-159.813C125.982,-151.702 128.901,-141.836 131.58,-132.777\"/>\r\n",
       "<polygon fill=\"black\" stroke=\"black\" points=\"134.983,-133.611 134.463,-123.029 128.271,-131.625 134.983,-133.611\"/>\r\n",
       "</g>\r\n",
       "<!-- end -->\r\n",
       "<g id=\"node2\" class=\"node\"><title>end</title>\r\n",
       "<polygon fill=\"yellow\" stroke=\"black\" points=\"111,-36 0,-36 0,-0 111,-0 111,-36\"/>\r\n",
       "<text text-anchor=\"middle\" x=\"55.5\" y=\"-14.3\" font-family=\"Times New Roman,serif\" font-size=\"14.00\">Draw your graph</text>\r\n",
       "</g>\r\n",
       "<!-- next&#45;&gt;end -->\r\n",
       "<g id=\"edge3\" class=\"edge\"><title>next&#45;&gt;end</title>\r\n",
       "<path fill=\"none\" stroke=\"black\" d=\"M55.5,-86.799C55.5,-75.1626 55.5,-59.5479 55.5,-46.2368\"/>\r\n",
       "<polygon fill=\"black\" stroke=\"black\" points=\"59.0001,-46.1754 55.5,-36.1754 52.0001,-46.1755 59.0001,-46.1754\"/>\r\n",
       "<text text-anchor=\"middle\" x=\"100\" y=\"-57.8\" font-family=\"Times New Roman,serif\" font-size=\"14.00\" fill=\"darkblue\">Getting Better...</text>\r\n",
       "</g>\r\n",
       "</g>\r\n",
       "</svg>\r\n"
      ],
      "text/plain": [
       "<IPython.core.display.HTML object>"
      ]
     },
     "metadata": {},
     "output_type": "display_data"
    }
   ],
   "source": [
    "echo 'digraph summary{\n",
    "                start [label=\"Start with a Node\"]\n",
    "                end [label=\"Draw your graph\", shape=box, style=filled, fillcolor=yellow]\n",
    "\n",
    "                start->next\n",
    "                start->warning \n",
    "                next->end [label=\"Getting Better...\", fontcolor=darkblue]\n",
    "\n",
    "}' | pydot"
   ]
  },
  {
   "cell_type": "code",
   "execution_count": 65,
   "metadata": {
    "collapsed": false
   },
   "outputs": [
    {
     "data": {
      "text/html": [
       "<?xml version=\"1.0\" encoding=\"UTF-8\" standalone=\"no\"?>\r\n",
       "<!DOCTYPE svg PUBLIC \"-//W3C//DTD SVG 1.1//EN\"\r\n",
       " \"http://www.w3.org/Graphics/SVG/1.1/DTD/svg11.dtd\">\r\n",
       "<!-- Generated by graphviz version 2.38.0 (20140413.2041)\r\n",
       " -->\r\n",
       "<!-- Title: summary Pages: 1 -->\r\n",
       "<svg width=\"452pt\" height=\"220pt\"\r\n",
       " viewBox=\"0.00 0.00 451.51 220.04\" xmlns=\"http://www.w3.org/2000/svg\" xmlns:xlink=\"http://www.w3.org/1999/xlink\">\r\n",
       "<g id=\"graph0\" class=\"graph\" transform=\"scale(1 1) rotate(0) translate(4 216.045)\">\r\n",
       "<title>summary</title>\r\n",
       "<polygon fill=\"white\" stroke=\"none\" points=\"-4,4 -4,-216.045 447.512,-216.045 447.512,4 -4,4\"/>\r\n",
       "<!-- start -->\r\n",
       "<g id=\"node1\" class=\"node\"><title>start</title>\r\n",
       "<ellipse fill=\"none\" stroke=\"black\" cx=\"235.5\" cy=\"-194.045\" rx=\"74.187\" ry=\"18\"/>\r\n",
       "<text text-anchor=\"middle\" x=\"235.5\" y=\"-190.345\" font-family=\"Times New Roman,serif\" font-size=\"14.00\">Start with a Node</text>\r\n",
       "</g>\r\n",
       "<!-- next -->\r\n",
       "<g id=\"node3\" class=\"node\"><title>next</title>\r\n",
       "<polygon fill=\"none\" stroke=\"black\" points=\"125,-131.022 0,-131.022 0,-95.0225 125,-95.0225 125,-131.022\"/>\r\n",
       "<text text-anchor=\"middle\" x=\"62.5\" y=\"-109.322\" font-family=\"Times New Roman,serif\" font-size=\"14.00\">Choose your shape</text>\r\n",
       "</g>\r\n",
       "<!-- start&#45;&gt;next -->\r\n",
       "<g id=\"edge1\" class=\"edge\"><title>start&#45;&gt;next</title>\r\n",
       "<path fill=\"none\" stroke=\"black\" d=\"M202.144,-177.809C175.742,-165.749 138.554,-148.762 109.193,-135.351\"/>\r\n",
       "<polygon fill=\"black\" stroke=\"black\" points=\"110.509,-132.104 99.9585,-131.133 107.6,-138.471 110.509,-132.104\"/>\r\n",
       "</g>\r\n",
       "<!-- warning -->\r\n",
       "<g id=\"node4\" class=\"node\"><title>warning</title>\r\n",
       "<polygon fill=\"green\" stroke=\"Blue\" points=\"443.524,-102.234 443.524,-123.811 355.642,-139.067 231.358,-139.067 143.476,-123.811 143.476,-102.234 231.358,-86.9775 355.642,-86.9775 443.524,-102.234\"/>\r\n",
       "<text text-anchor=\"middle\" x=\"293.5\" y=\"-106.822\" font-family=\"Times New Roman,serif\" font-size=\"24.00\" fill=\"Red\">Dont go overboard</text>\r\n",
       "</g>\r\n",
       "<!-- start&#45;&gt;warning -->\r\n",
       "<g id=\"edge2\" class=\"edge\"><title>start&#45;&gt;warning</title>\r\n",
       "<path fill=\"none\" stroke=\"black\" d=\"M247.8,-176.286C253.983,-167.862 261.702,-157.345 269.027,-147.366\"/>\r\n",
       "<polygon fill=\"black\" stroke=\"black\" points=\"271.948,-149.301 275.044,-139.168 266.305,-145.159 271.948,-149.301\"/>\r\n",
       "</g>\r\n",
       "<!-- end -->\r\n",
       "<g id=\"node2\" class=\"node\"><title>end</title>\r\n",
       "<polygon fill=\"yellow\" stroke=\"black\" points=\"118,-36 7,-36 7,-0 118,-0 118,-36\"/>\r\n",
       "<text text-anchor=\"middle\" x=\"62.5\" y=\"-14.3\" font-family=\"Times New Roman,serif\" font-size=\"14.00\">Draw your graph</text>\r\n",
       "</g>\r\n",
       "<!-- next&#45;&gt;end -->\r\n",
       "<g id=\"edge3\" class=\"edge\"><title>next&#45;&gt;end</title>\r\n",
       "<path fill=\"none\" stroke=\"black\" d=\"M62.5,-94.9607C62.5,-81.4087 62.5,-62.1903 62.5,-46.4756\"/>\r\n",
       "<polygon fill=\"black\" stroke=\"black\" points=\"66.0001,-46.2686 62.5,-36.2686 59.0001,-46.2686 66.0001,-46.2686\"/>\r\n",
       "<text text-anchor=\"middle\" x=\"107\" y=\"-57.8\" font-family=\"Times New Roman,serif\" font-size=\"14.00\" fill=\"darkblue\">Getting Better...</text>\r\n",
       "</g>\r\n",
       "</g>\r\n",
       "</svg>\r\n"
      ],
      "text/plain": [
       "<IPython.core.display.HTML object>"
      ]
     },
     "metadata": {},
     "output_type": "display_data"
    }
   ],
   "source": [
    "# Don't know how to put quote ' in \"Dont go overboard\"\n",
    "echo 'digraph summary{\n",
    "                start [label=\"Start with a Node\"]\n",
    "                end [label=\"Draw your graph\", shape=box, style=filled, fillcolor=yellow]\n",
    "                next [label=\"Choose your shape\", shape=box]\n",
    "                warning [label=\"Dont go overboard\", color=Blue, fontcolor=Red, fontsize=24, style=filled, fillcolor=green, shape=octagon]\n",
    "\n",
    "                start->next\n",
    "                start->warning \n",
    "                next->end [label=\"Getting Better...\", fontcolor=darkblue]\n",
    "\n",
    "}' | pydot"
   ]
  },
  {
   "cell_type": "code",
   "execution_count": 66,
   "metadata": {
    "collapsed": false
   },
   "outputs": [
    {
     "data": {
      "text/html": [
       "<?xml version=\"1.0\" encoding=\"UTF-8\" standalone=\"no\"?>\r\n",
       "<!DOCTYPE svg PUBLIC \"-//W3C//DTD SVG 1.1//EN\"\r\n",
       " \"http://www.w3.org/Graphics/SVG/1.1/DTD/svg11.dtd\">\r\n",
       "<!-- Generated by graphviz version 2.38.0 (20140413.2041)\r\n",
       " -->\r\n",
       "<!-- Title: G Pages: 1 -->\r\n",
       "<svg width=\"206pt\" height=\"116pt\"\r\n",
       " viewBox=\"0.00 0.00 206.00 116.00\" xmlns=\"http://www.w3.org/2000/svg\" xmlns:xlink=\"http://www.w3.org/1999/xlink\">\r\n",
       "<g id=\"graph0\" class=\"graph\" transform=\"scale(1 1) rotate(0) translate(4 112)\">\r\n",
       "<title>G</title>\r\n",
       "<polygon fill=\"azure\" stroke=\"none\" points=\"-4,4 -4,-112 202,-112 202,4 -4,4\"/>\r\n",
       "<!-- zero -->\r\n",
       "<g id=\"node1\" class=\"node\"><title>zero</title>\r\n",
       "<polygon fill=\"#b2dfee\" stroke=\"#b2dfee\" points=\"126,-108 72,-108 72,-72 126,-72 126,-108\"/>\r\n",
       "<text text-anchor=\"middle\" x=\"99\" y=\"-86.3\" font-family=\"Times New Roman,serif\" font-size=\"14.00\">zero</text>\r\n",
       "</g>\r\n",
       "<!-- dix -->\r\n",
       "<g id=\"node2\" class=\"node\"><title>dix</title>\r\n",
       "<polygon fill=\"#b2dfee\" stroke=\"#b2dfee\" points=\"72,-36 18,-36 18,-0 72,-0 72,-36\"/>\r\n",
       "<text text-anchor=\"middle\" x=\"45\" y=\"-14.3\" font-family=\"Times New Roman,serif\" font-size=\"14.00\">dix</text>\r\n",
       "</g>\r\n",
       "<!-- zero&#45;&gt;dix -->\r\n",
       "<g id=\"edge1\" class=\"edge\"><title>zero&#45;&gt;dix</title>\r\n",
       "<path fill=\"none\" stroke=\"gold\" d=\"M85.6517,-71.6966C81.0742,-65.7628 75.7863,-58.9082 70.5698,-52.146\"/>\r\n",
       "<polygon fill=\"gold\" stroke=\"gold\" points=\"75.9534,-47.6644 58.1948,-36.1043 64.8684,-56.2156 75.9534,-47.6644\"/>\r\n",
       "</g>\r\n",
       "<!-- vingt -->\r\n",
       "<g id=\"node4\" class=\"node\"><title>vingt</title>\r\n",
       "<polygon fill=\"#b2dfee\" stroke=\"#b2dfee\" points=\"180,-36 126,-36 126,-0 180,-0 180,-36\"/>\r\n",
       "<text text-anchor=\"middle\" x=\"153\" y=\"-14.3\" font-family=\"Times New Roman,serif\" font-size=\"14.00\">vingt</text>\r\n",
       "</g>\r\n",
       "<!-- zero&#45;&gt;vingt -->\r\n",
       "<g id=\"edge3\" class=\"edge\"><title>zero&#45;&gt;vingt</title>\r\n",
       "<path fill=\"none\" stroke=\"gold\" d=\"M112.348,-71.6966C116.926,-65.7628 122.214,-58.9082 127.43,-52.146\"/>\r\n",
       "<polygon fill=\"gold\" stroke=\"gold\" points=\"133.132,-56.2156 139.805,-36.1043 122.047,-47.6644 133.132,-56.2156\"/>\r\n",
       "</g>\r\n",
       "<!-- un -->\r\n",
       "<g id=\"node3\" class=\"node\"><title>un</title>\r\n",
       "<polygon fill=\"#b2dfee\" stroke=\"#b2dfee\" points=\"54,-108 0,-108 0,-72 54,-72 54,-108\"/>\r\n",
       "<text text-anchor=\"middle\" x=\"27\" y=\"-86.3\" font-family=\"Times New Roman,serif\" font-size=\"14.00\">un</text>\r\n",
       "</g>\r\n",
       "<!-- un&#45;&gt;dix -->\r\n",
       "<g id=\"edge2\" class=\"edge\"><title>un&#45;&gt;dix</title>\r\n",
       "<path fill=\"none\" stroke=\"gold\" d=\"M31.4494,-71.6966C32.7137,-66.7801 34.1405,-61.2313 35.5817,-55.6267\"/>\r\n",
       "<polygon fill=\"gold\" stroke=\"gold\" points=\"42.4003,-57.2175 40.6017,-36.1043 28.8414,-53.7309 42.4003,-57.2175\"/>\r\n",
       "</g>\r\n",
       "<!-- deux -->\r\n",
       "<g id=\"node5\" class=\"node\"><title>deux</title>\r\n",
       "<polygon fill=\"#b2dfee\" stroke=\"#b2dfee\" points=\"198,-108 144,-108 144,-72 198,-72 198,-108\"/>\r\n",
       "<text text-anchor=\"middle\" x=\"171\" y=\"-86.3\" font-family=\"Times New Roman,serif\" font-size=\"14.00\">deux</text>\r\n",
       "</g>\r\n",
       "<!-- deux&#45;&gt;vingt -->\r\n",
       "<g id=\"edge4\" class=\"edge\"><title>deux&#45;&gt;vingt</title>\r\n",
       "<path fill=\"none\" stroke=\"gold\" d=\"M166.551,-71.6966C165.286,-66.7801 163.859,-61.2313 162.418,-55.6267\"/>\r\n",
       "<polygon fill=\"gold\" stroke=\"gold\" points=\"169.159,-53.7309 157.398,-36.1043 155.6,-57.2175 169.159,-53.7309\"/>\r\n",
       "</g>\r\n",
       "</g>\r\n",
       "</svg>\r\n"
      ],
      "text/plain": [
       "<IPython.core.display.HTML object>"
      ]
     },
     "metadata": {},
     "output_type": "display_data"
    }
   ],
   "source": [
    "echo 'digraph G { \n",
    "        bgcolor=azure; \n",
    "        node [shape=box, color=lightblue2, style=filled]; \n",
    "        edge [arrowsize=2, color=gold]; \n",
    "        \"zero\" -> \"dix\"; \n",
    "        \"un\" -> \"dix\"; \n",
    "        \"zero\" -> \"vingt\"; \n",
    "        \"deux\" -> \"vingt\"; \n",
    "} ' | pydot"
   ]
  },
  {
   "cell_type": "code",
   "execution_count": 67,
   "metadata": {
    "collapsed": false
   },
   "outputs": [
    {
     "data": {
      "text/html": [
       "<?xml version=\"1.0\" encoding=\"UTF-8\" standalone=\"no\"?>\r\n",
       "<!DOCTYPE svg PUBLIC \"-//W3C//DTD SVG 1.1//EN\"\r\n",
       " \"http://www.w3.org/Graphics/SVG/1.1/DTD/svg11.dtd\">\r\n",
       "<!-- Generated by graphviz version 2.38.0 (20140413.2041)\r\n",
       " -->\r\n",
       "<!-- Title: G Pages: 1 -->\r\n",
       "<svg width=\"206pt\" height=\"133pt\"\r\n",
       " viewBox=\"0.00 0.00 206.00 133.30\" xmlns=\"http://www.w3.org/2000/svg\" xmlns:xlink=\"http://www.w3.org/1999/xlink\">\r\n",
       "<g id=\"graph0\" class=\"graph\" transform=\"scale(1 1) rotate(0) translate(4 129.295)\">\r\n",
       "<title>G</title>\r\n",
       "<polygon fill=\"azure\" stroke=\"none\" points=\"-4,4 -4,-129.295 202,-129.295 202,4 -4,4\"/>\r\n",
       "<!-- zero -->\r\n",
       "<g id=\"node1\" class=\"node\"><title>zero</title>\r\n",
       "<ellipse fill=\"#ffe1ff\" stroke=\"#ffe1ff\" cx=\"99\" cy=\"-98.6476\" rx=\"26.7961\" ry=\"26.7961\"/>\r\n",
       "<text text-anchor=\"middle\" x=\"99\" y=\"-94.9476\" font-family=\"Times New Roman,serif\" font-size=\"14.00\" fill=\"purple\">zero</text>\r\n",
       "</g>\r\n",
       "<!-- dix -->\r\n",
       "<g id=\"node2\" class=\"node\"><title>dix</title>\r\n",
       "<polygon fill=\"#b2dfee\" stroke=\"#b2dfee\" points=\"72,-36 18,-36 18,-0 72,-0 72,-36\"/>\r\n",
       "<text text-anchor=\"middle\" x=\"45\" y=\"-14.3\" font-family=\"Times New Roman,serif\" font-size=\"14.00\">dix</text>\r\n",
       "</g>\r\n",
       "<!-- zero&#45;&gt;dix -->\r\n",
       "<g id=\"edge1\" class=\"edge\"><title>zero&#45;&gt;dix</title>\r\n",
       "<path fill=\"none\" stroke=\"purple\" d=\"M84.2443,-76.1568C79.3289,-68.9979 73.7266,-60.8385 68.3244,-52.9705\"/>\r\n",
       "<polygon fill=\"purple\" stroke=\"purple\" points=\"73.9252,-48.7608 56.8338,-36.2352 62.3837,-56.6852 73.9252,-48.7608\"/>\r\n",
       "</g>\r\n",
       "<!-- vingt -->\r\n",
       "<g id=\"node4\" class=\"node\"><title>vingt</title>\r\n",
       "<polygon fill=\"#b2dfee\" stroke=\"#b2dfee\" points=\"180,-36 126,-36 126,-0 180,-0 180,-36\"/>\r\n",
       "<text text-anchor=\"middle\" x=\"153\" y=\"-14.3\" font-family=\"Times New Roman,serif\" font-size=\"14.00\">vingt</text>\r\n",
       "</g>\r\n",
       "<!-- zero&#45;&gt;vingt -->\r\n",
       "<g id=\"edge3\" class=\"edge\"><title>zero&#45;&gt;vingt</title>\r\n",
       "<path fill=\"none\" stroke=\"gold\" d=\"M113.756,-76.1568C118.671,-68.9979 124.273,-60.8385 129.676,-52.9705\"/>\r\n",
       "<polygon fill=\"gold\" stroke=\"gold\" points=\"135.616,-56.6852 141.166,-36.2352 124.075,-48.7608 135.616,-56.6852\"/>\r\n",
       "</g>\r\n",
       "<!-- un -->\r\n",
       "<g id=\"node3\" class=\"node\"><title>un</title>\r\n",
       "<polygon fill=\"#b2dfee\" stroke=\"#b2dfee\" points=\"54,-116.648 0,-116.648 0,-80.6476 54,-80.6476 54,-116.648\"/>\r\n",
       "<text text-anchor=\"middle\" x=\"27\" y=\"-94.9476\" font-family=\"Times New Roman,serif\" font-size=\"14.00\">un</text>\r\n",
       "</g>\r\n",
       "<!-- un&#45;&gt;dix -->\r\n",
       "<g id=\"edge2\" class=\"edge\"><title>un&#45;&gt;dix</title>\r\n",
       "<path fill=\"none\" stroke=\"gold\" d=\"M30.9057,-80.5823C32.5804,-73.2649 34.6061,-64.4144 36.593,-55.733\"/>\r\n",
       "<polygon fill=\"gold\" stroke=\"gold\" points=\"43.4634,-57.0897 41.1019,-36.0321 29.8162,-53.9662 43.4634,-57.0897\"/>\r\n",
       "</g>\r\n",
       "<!-- deux -->\r\n",
       "<g id=\"node5\" class=\"node\"><title>deux</title>\r\n",
       "<polygon fill=\"#b2dfee\" stroke=\"#b2dfee\" points=\"198,-116.648 144,-116.648 144,-80.6476 198,-80.6476 198,-116.648\"/>\r\n",
       "<text text-anchor=\"middle\" x=\"171\" y=\"-94.9476\" font-family=\"Times New Roman,serif\" font-size=\"14.00\">deux</text>\r\n",
       "</g>\r\n",
       "<!-- deux&#45;&gt;vingt -->\r\n",
       "<g id=\"edge4\" class=\"edge\"><title>deux&#45;&gt;vingt</title>\r\n",
       "<path fill=\"none\" stroke=\"gold\" d=\"M167.094,-80.5823C165.42,-73.2649 163.394,-64.4144 161.407,-55.733\"/>\r\n",
       "<polygon fill=\"gold\" stroke=\"gold\" points=\"168.184,-53.9662 156.898,-36.0321 154.537,-57.0897 168.184,-53.9662\"/>\r\n",
       "</g>\r\n",
       "</g>\r\n",
       "</svg>\r\n"
      ],
      "text/plain": [
       "<IPython.core.display.HTML object>"
      ]
     },
     "metadata": {},
     "output_type": "display_data"
    }
   ],
   "source": [
    "echo 'digraph G { \n",
    "        bgcolor=azure; \n",
    "        node [shape=box, color=lightblue2, style=filled]; \n",
    "        edge [arrowsize=2, color=gold]; \n",
    "        \"zero\" -> \"dix\" [color=purple]; \n",
    "        \"un\" -> \"dix\"; \n",
    "        \"zero\" -> \"vingt\"; \n",
    "        \"deux\" -> \"vingt\"; \n",
    "        \"zero\" [shape=circle, color=thistle1, fontcolor=purple]; \n",
    "}' | pydot"
   ]
  },
  {
   "cell_type": "code",
   "execution_count": 68,
   "metadata": {
    "collapsed": false
   },
   "outputs": [
    {
     "data": {
      "text/html": [
       "<?xml version=\"1.0\" encoding=\"UTF-8\" standalone=\"no\"?>\r\n",
       "<!DOCTYPE svg PUBLIC \"-//W3C//DTD SVG 1.1//EN\"\r\n",
       " \"http://www.w3.org/Graphics/SVG/1.1/DTD/svg11.dtd\">\r\n",
       "<!-- Generated by graphviz version 2.38.0 (20140413.2041)\r\n",
       " -->\r\n",
       "<!-- Title: G Pages: 1 -->\r\n",
       "<svg width=\"305pt\" height=\"238pt\"\r\n",
       " viewBox=\"0.00 0.00 305.07 238.19\" xmlns=\"http://www.w3.org/2000/svg\" xmlns:xlink=\"http://www.w3.org/1999/xlink\">\r\n",
       "<g id=\"graph0\" class=\"graph\" transform=\"scale(1 1) rotate(0) translate(4 234.194)\">\r\n",
       "<title>G</title>\r\n",
       "<polygon fill=\"#eeeed1\" stroke=\"none\" points=\"-4,4 -4,-234.194 301.07,-234.194 301.07,4 -4,4\"/>\r\n",
       "<!-- A1 -->\r\n",
       "<g id=\"node1\" class=\"node\"><title>A1</title>\r\n",
       "<ellipse fill=\"blue\" stroke=\"blue\" cx=\"91.0274\" cy=\"-195.097\" rx=\"35.194\" ry=\"35.194\"/>\r\n",
       "<text text-anchor=\"middle\" x=\"91.0274\" y=\"-191.397\" font-family=\"Verdana\" font-size=\"14.00\" fill=\"white\">Hugo</text>\r\n",
       "</g>\r\n",
       "<!-- A3 -->\r\n",
       "<g id=\"node2\" class=\"node\"><title>A3</title>\r\n",
       "<polygon fill=\"yellow\" stroke=\"yellow\" points=\"147.101,-91 119.064,-109 62.9903,-109 34.9533,-91 62.9903,-73 119.064,-73 147.101,-91\"/>\r\n",
       "<text text-anchor=\"middle\" x=\"91.0274\" y=\"-87.3\" font-family=\"Verdana\" font-size=\"14.00\">CÃ©cile</text>\r\n",
       "</g>\r\n",
       "<!-- A1&#45;&gt;A3 -->\r\n",
       "<g id=\"edge1\" class=\"edge\"><title>A1&#45;&gt;A3</title>\r\n",
       "<path fill=\"none\" stroke=\"red\" d=\"M91.0274,-159.816C91.0274,-149.97 91.0274,-139.187 91.0274,-129.175\"/>\r\n",
       "<polygon fill=\"red\" stroke=\"red\" points=\"91.0274,-109.151 100.027,-129.151 91.0274,-119.151 91.0275,-129.151 91.0275,-129.151 91.0275,-129.151 91.0274,-119.151 82.0275,-129.151 91.0274,-109.151 91.0274,-109.151\"/>\r\n",
       "<text text-anchor=\"middle\" x=\"129.027\" y=\"-130.8\" font-family=\"Times New Roman,serif\" font-size=\"14.00\">est parrain de</text>\r\n",
       "</g>\r\n",
       "<!-- A5 -->\r\n",
       "<g id=\"node3\" class=\"node\"><title>A5</title>\r\n",
       "<polygon fill=\"yellow\" stroke=\"yellow\" points=\"84.0821,-18 63.0547,-36 21,-36 -0.0273883,-18 21,-2.13163e-014 63.0547,-0 84.0821,-18\"/>\r\n",
       "<text text-anchor=\"middle\" x=\"42.0274\" y=\"-14.3\" font-family=\"Verdana\" font-size=\"14.00\">Frank</text>\r\n",
       "</g>\r\n",
       "<!-- A3&#45;&gt;A5 -->\r\n",
       "<g id=\"edge2\" class=\"edge\"><title>A3&#45;&gt;A5</title>\r\n",
       "<path fill=\"none\" stroke=\"red\" d=\"M79.1658,-72.8129C74.9527,-66.7081 70.0529,-59.6084 65.2211,-52.6072\"/>\r\n",
       "<polygon fill=\"red\" stroke=\"red\" points=\"70.901,-48.5133 53.7797,-36.0288 59.3786,-56.4654 70.901,-48.5133\"/>\r\n",
       "</g>\r\n",
       "<!-- A6 -->\r\n",
       "<g id=\"node4\" class=\"node\"><title>A6</title>\r\n",
       "<polygon fill=\"yellow\" stroke=\"yellow\" points=\"177.576,-18 158.802,-36 121.253,-36 102.478,-18 121.253,-2.13163e-014 158.802,-0 177.576,-18\"/>\r\n",
       "<text text-anchor=\"middle\" x=\"140.027\" y=\"-14.3\" font-family=\"Verdana\" font-size=\"14.00\">Elise</text>\r\n",
       "</g>\r\n",
       "<!-- A3&#45;&gt;A6 -->\r\n",
       "<g id=\"edge3\" class=\"edge\"><title>A3&#45;&gt;A6</title>\r\n",
       "<path fill=\"none\" stroke=\"red\" d=\"M102.889,-72.8129C107.102,-66.7081 112.002,-59.6084 116.834,-52.6072\"/>\r\n",
       "<polygon fill=\"red\" stroke=\"red\" points=\"122.676,-56.4654 128.275,-36.0288 111.154,-48.5133 122.676,-56.4654\"/>\r\n",
       "</g>\r\n",
       "<!-- A2 -->\r\n",
       "<g id=\"node5\" class=\"node\"><title>A2</title>\r\n",
       "<polygon fill=\"yellow\" stroke=\"yellow\" points=\"270.58,-195.097 250.804,-213.097 211.251,-213.097 191.474,-195.097 211.251,-177.097 250.804,-177.097 270.58,-195.097\"/>\r\n",
       "<text text-anchor=\"middle\" x=\"231.027\" y=\"-191.397\" font-family=\"Verdana\" font-size=\"14.00\">Boris</text>\r\n",
       "</g>\r\n",
       "<!-- A4 -->\r\n",
       "<g id=\"node6\" class=\"node\"><title>A4</title>\r\n",
       "<polygon fill=\"yellow\" stroke=\"yellow\" points=\"297.113,-91 264.07,-109 197.984,-109 164.941,-91 197.984,-73 264.07,-73 297.113,-91\"/>\r\n",
       "<text text-anchor=\"middle\" x=\"231.027\" y=\"-87.3\" font-family=\"Verdana\" font-size=\"14.00\">FranÃ§ois</text>\r\n",
       "</g>\r\n",
       "<!-- A2&#45;&gt;A4 -->\r\n",
       "<g id=\"edge4\" class=\"edge\"><title>A2&#45;&gt;A4</title>\r\n",
       "<path fill=\"none\" stroke=\"red\" d=\"M231.027,-176.778C231.027,-163.792 231.027,-145.536 231.027,-129.289\"/>\r\n",
       "<polygon fill=\"red\" stroke=\"red\" points=\"238.027,-129.064 231.027,-109.064 224.027,-129.064 238.027,-129.064\"/>\r\n",
       "</g>\r\n",
       "</g>\r\n",
       "</svg>\r\n"
      ],
      "text/plain": [
       "<IPython.core.display.HTML object>"
      ]
     },
     "metadata": {},
     "output_type": "display_data"
    }
   ],
   "source": [
    "echo 'digraph G { \n",
    "        graph [bgcolor=lightyellow2, splines=true]; \n",
    "        edge [color=red, arrowsize=2]; \n",
    "        node [color=yellow, style=filled, shape=polygon, sides=6, fontname=\"Verdana\"]; \n",
    "        A1 -> A3 [label=\"est parrain de\", arrowtail=dot, arrowhead=open]; \n",
    "        A3 -> A5; \n",
    "        A3 -> A6; \n",
    "        A2 -> A4; \n",
    "        A1 [label=\"Hugo\", shape=circle, color=blue, fontcolor=white]; \n",
    "        A2 [label=\"Boris\"]; \n",
    "        A3 [label=\"Cécile\"]; \n",
    "        A4 [label=\"François\"]; \n",
    "        A5 [label=\"Frank\"]; \n",
    "        A6 [label=\"Elise\"]; \n",
    "} ' | pydot"
   ]
  },
  {
   "cell_type": "code",
   "execution_count": 69,
   "metadata": {
    "collapsed": false
   },
   "outputs": [
    {
     "data": {
      "text/html": [
       "<?xml version=\"1.0\" encoding=\"UTF-8\" standalone=\"no\"?>\r\n",
       "<!DOCTYPE svg PUBLIC \"-//W3C//DTD SVG 1.1//EN\"\r\n",
       " \"http://www.w3.org/Graphics/SVG/1.1/DTD/svg11.dtd\">\r\n",
       "<!-- Generated by graphviz version 2.38.0 (20140413.2041)\r\n",
       " -->\r\n",
       "<!-- Title: G Pages: 1 -->\r\n",
       "<svg width=\"237pt\" height=\"188pt\"\r\n",
       " viewBox=\"0.00 0.00 236.59 188.00\" xmlns=\"http://www.w3.org/2000/svg\" xmlns:xlink=\"http://www.w3.org/1999/xlink\">\r\n",
       "<g id=\"graph0\" class=\"graph\" transform=\"scale(1 1) rotate(0) translate(4 184)\">\r\n",
       "<title>G</title>\r\n",
       "<polygon fill=\"white\" stroke=\"none\" points=\"-4,4 -4,-184 232.593,-184 232.593,4 -4,4\"/>\r\n",
       "<!-- A1 -->\r\n",
       "<g id=\"node1\" class=\"node\"><title>A1</title>\r\n",
       "<ellipse fill=\"#eeeed1\" stroke=\"#eeeed1\" cx=\"70.8472\" cy=\"-162\" rx=\"30.5947\" ry=\"18\"/>\r\n",
       "<text text-anchor=\"middle\" x=\"70.8472\" y=\"-158.3\" font-family=\"Times New Roman,serif\" font-size=\"14.00\">Hugo</text>\r\n",
       "</g>\r\n",
       "<!-- A3 -->\r\n",
       "<g id=\"node2\" class=\"node\"><title>A3</title>\r\n",
       "<ellipse fill=\"#eeeed1\" stroke=\"#eeeed1\" cx=\"70.8472\" cy=\"-90\" rx=\"42.4939\" ry=\"18\"/>\r\n",
       "<text text-anchor=\"middle\" x=\"70.8472\" y=\"-86.3\" font-family=\"Times New Roman,serif\" font-size=\"14.00\">CÃ©cile</text>\r\n",
       "</g>\r\n",
       "<!-- A1&#45;&gt;A3 -->\r\n",
       "<g id=\"edge1\" class=\"edge\"><title>A1&#45;&gt;A3</title>\r\n",
       "<path fill=\"none\" stroke=\"red\" d=\"M70.8472,-143.697C70.8472,-138.95 70.8472,-133.613 70.8472,-128.206\"/>\r\n",
       "<polygon fill=\"red\" stroke=\"red\" points=\"77.8473,-128.104 70.8472,-108.104 63.8473,-128.104 77.8473,-128.104\"/>\r\n",
       "</g>\r\n",
       "<!-- A5 -->\r\n",
       "<g id=\"node3\" class=\"node\"><title>A5</title>\r\n",
       "<ellipse fill=\"#eeeed1\" stroke=\"#eeeed1\" cx=\"31.8472\" cy=\"-18\" rx=\"31.6951\" ry=\"18\"/>\r\n",
       "<text text-anchor=\"middle\" x=\"31.8472\" y=\"-14.3\" font-family=\"Times New Roman,serif\" font-size=\"14.00\">Frank</text>\r\n",
       "</g>\r\n",
       "<!-- A3&#45;&gt;A5 -->\r\n",
       "<g id=\"edge2\" class=\"edge\"><title>A3&#45;&gt;A5</title>\r\n",
       "<path fill=\"none\" stroke=\"red\" d=\"M61.6047,-72.411C58.3506,-66.5702 54.5636,-59.7731 50.8036,-53.0244\"/>\r\n",
       "<polygon fill=\"red\" stroke=\"red\" points=\"56.8724,-49.5344 41.0233,-35.4699 44.6424,-56.3483 56.8724,-49.5344\"/>\r\n",
       "</g>\r\n",
       "<!-- A6 -->\r\n",
       "<g id=\"node4\" class=\"node\"><title>A6</title>\r\n",
       "<ellipse fill=\"#eeeed1\" stroke=\"#eeeed1\" cx=\"109.847\" cy=\"-18\" rx=\"27.8951\" ry=\"18\"/>\r\n",
       "<text text-anchor=\"middle\" x=\"109.847\" y=\"-14.3\" font-family=\"Times New Roman,serif\" font-size=\"14.00\">Elise</text>\r\n",
       "</g>\r\n",
       "<!-- A3&#45;&gt;A6 -->\r\n",
       "<g id=\"edge3\" class=\"edge\"><title>A3&#45;&gt;A6</title>\r\n",
       "<path fill=\"none\" stroke=\"red\" d=\"M80.0896,-72.411C83.3438,-66.5702 87.1308,-59.7731 90.8907,-53.0244\"/>\r\n",
       "<polygon fill=\"red\" stroke=\"red\" points=\"97.0519,-56.3483 100.671,-35.4699 84.822,-49.5344 97.0519,-56.3483\"/>\r\n",
       "</g>\r\n",
       "<!-- A2 -->\r\n",
       "<g id=\"node5\" class=\"node\"><title>A2</title>\r\n",
       "<ellipse fill=\"#eeeed1\" stroke=\"#eeeed1\" cx=\"179.847\" cy=\"-162\" rx=\"30.5947\" ry=\"18\"/>\r\n",
       "<text text-anchor=\"middle\" x=\"179.847\" y=\"-158.3\" font-family=\"Times New Roman,serif\" font-size=\"14.00\">Boris</text>\r\n",
       "</g>\r\n",
       "<!-- A4 -->\r\n",
       "<g id=\"node6\" class=\"node\"><title>A4</title>\r\n",
       "<ellipse fill=\"#eeeed1\" stroke=\"#eeeed1\" cx=\"179.847\" cy=\"-90\" rx=\"48.9926\" ry=\"18\"/>\r\n",
       "<text text-anchor=\"middle\" x=\"179.847\" y=\"-86.3\" font-family=\"Times New Roman,serif\" font-size=\"14.00\">FranÃ§ois</text>\r\n",
       "</g>\r\n",
       "<!-- A2&#45;&gt;A4 -->\r\n",
       "<g id=\"edge4\" class=\"edge\"><title>A2&#45;&gt;A4</title>\r\n",
       "<path fill=\"none\" stroke=\"red\" d=\"M179.847,-143.697C179.847,-138.95 179.847,-133.613 179.847,-128.206\"/>\r\n",
       "<polygon fill=\"red\" stroke=\"red\" points=\"186.847,-128.104 179.847,-108.104 172.847,-128.104 186.847,-128.104\"/>\r\n",
       "</g>\r\n",
       "</g>\r\n",
       "</svg>\r\n"
      ],
      "text/plain": [
       "<IPython.core.display.HTML object>"
      ]
     },
     "metadata": {},
     "output_type": "display_data"
    }
   ],
   "source": [
    "echo 'digraph G { \n",
    "        edge [color=red, arrowsize=2]; \n",
    "        node [color=lightyellow2, style=filled]; \n",
    "        A1 -> A3; \n",
    "        A3 -> A5; \n",
    "        A3 -> A6; \n",
    "        A2 -> A4; \n",
    "        A1 [label=\"Hugo\"]; \n",
    "        A2 [label=\"Boris\"]; \n",
    "        A3 [label=\"Cécile\"]; \n",
    "        A4 [label=\"François\"]; \n",
    "        A5 [label=\"Frank\"]; \n",
    "        A6 [label=\"Elise\"]; \n",
    "} ' | pydot"
   ]
  },
  {
   "cell_type": "code",
   "execution_count": 70,
   "metadata": {
    "collapsed": false
   },
   "outputs": [
    {
     "data": {
      "text/html": [
       "<?xml version=\"1.0\" encoding=\"UTF-8\" standalone=\"no\"?>\r\n",
       "<!DOCTYPE svg PUBLIC \"-//W3C//DTD SVG 1.1//EN\"\r\n",
       " \"http://www.w3.org/Graphics/SVG/1.1/DTD/svg11.dtd\">\r\n",
       "<!-- Generated by graphviz version 2.38.0 (20140413.2041)\r\n",
       " -->\r\n",
       "<!-- Title: G Pages: 1 -->\r\n",
       "<svg width=\"494pt\" height=\"332pt\"\r\n",
       " viewBox=\"0.00 0.00 494.00 332.00\" xmlns=\"http://www.w3.org/2000/svg\" xmlns:xlink=\"http://www.w3.org/1999/xlink\">\r\n",
       "<g id=\"graph0\" class=\"graph\" transform=\"scale(1 1) rotate(0) translate(4 328)\">\r\n",
       "<title>G</title>\r\n",
       "<polygon fill=\"white\" stroke=\"none\" points=\"-4,4 -4,-328 490,-328 490,4 -4,4\"/>\r\n",
       "<!-- a -->\r\n",
       "<g id=\"node1\" class=\"node\"><title>a</title>\r\n",
       "<ellipse fill=\"none\" stroke=\"black\" cx=\"27\" cy=\"-306\" rx=\"27\" ry=\"18\"/>\r\n",
       "<text text-anchor=\"middle\" x=\"27\" y=\"-302.3\" font-family=\"Times New Roman,serif\" font-size=\"14.00\">a</text>\r\n",
       "</g>\r\n",
       "<!-- b -->\r\n",
       "<g id=\"node2\" class=\"node\"><title>b</title>\r\n",
       "<ellipse fill=\"none\" stroke=\"black\" cx=\"27\" cy=\"-234\" rx=\"27\" ry=\"18\"/>\r\n",
       "<text text-anchor=\"middle\" x=\"27\" y=\"-230.3\" font-family=\"Times New Roman,serif\" font-size=\"14.00\">b</text>\r\n",
       "</g>\r\n",
       "<!-- a&#45;&#45;b -->\r\n",
       "<g id=\"edge1\" class=\"edge\"><title>a&#45;&#45;b</title>\r\n",
       "<path fill=\"none\" stroke=\"black\" d=\"M27,-287.697C27,-276.846 27,-262.917 27,-252.104\"/>\r\n",
       "</g>\r\n",
       "<!-- c -->\r\n",
       "<g id=\"node3\" class=\"node\"><title>c</title>\r\n",
       "<ellipse fill=\"none\" stroke=\"black\" cx=\"27\" cy=\"-162\" rx=\"27\" ry=\"18\"/>\r\n",
       "<text text-anchor=\"middle\" x=\"27\" y=\"-158.3\" font-family=\"Times New Roman,serif\" font-size=\"14.00\">c</text>\r\n",
       "</g>\r\n",
       "<!-- b&#45;&#45;c -->\r\n",
       "<g id=\"edge2\" class=\"edge\"><title>b&#45;&#45;c</title>\r\n",
       "<path fill=\"none\" stroke=\"black\" d=\"M27,-215.697C27,-204.846 27,-190.917 27,-180.104\"/>\r\n",
       "</g>\r\n",
       "<!-- d -->\r\n",
       "<g id=\"node4\" class=\"node\"><title>d</title>\r\n",
       "<ellipse fill=\"none\" stroke=\"black\" cx=\"27\" cy=\"-90\" rx=\"27\" ry=\"18\"/>\r\n",
       "<text text-anchor=\"middle\" x=\"27\" y=\"-86.3\" font-family=\"Times New Roman,serif\" font-size=\"14.00\">d</text>\r\n",
       "</g>\r\n",
       "<!-- c&#45;&#45;d -->\r\n",
       "<g id=\"edge3\" class=\"edge\"><title>c&#45;&#45;d</title>\r\n",
       "<path fill=\"none\" stroke=\"black\" d=\"M27,-143.697C27,-132.846 27,-118.917 27,-108.104\"/>\r\n",
       "</g>\r\n",
       "<!-- e -->\r\n",
       "<g id=\"node5\" class=\"node\"><title>e</title>\r\n",
       "<ellipse fill=\"none\" stroke=\"black\" cx=\"27\" cy=\"-18\" rx=\"27\" ry=\"18\"/>\r\n",
       "<text text-anchor=\"middle\" x=\"27\" y=\"-14.3\" font-family=\"Times New Roman,serif\" font-size=\"14.00\">e</text>\r\n",
       "</g>\r\n",
       "<!-- d&#45;&#45;e -->\r\n",
       "<g id=\"edge4\" class=\"edge\"><title>d&#45;&#45;e</title>\r\n",
       "<path fill=\"none\" stroke=\"black\" d=\"M27,-71.6966C27,-60.8463 27,-46.9167 27,-36.1043\"/>\r\n",
       "</g>\r\n",
       "<!-- 1 -->\r\n",
       "<g id=\"node6\" class=\"node\"><title>1</title>\r\n",
       "<ellipse fill=\"none\" stroke=\"black\" cx=\"279\" cy=\"-306\" rx=\"27\" ry=\"18\"/>\r\n",
       "<text text-anchor=\"middle\" x=\"279\" y=\"-302.3\" font-family=\"Times New Roman,serif\" font-size=\"14.00\">1</text>\r\n",
       "</g>\r\n",
       "<!-- 2 -->\r\n",
       "<g id=\"node7\" class=\"node\"><title>2</title>\r\n",
       "<ellipse fill=\"none\" stroke=\"black\" cx=\"99\" cy=\"-234\" rx=\"27\" ry=\"18\"/>\r\n",
       "<text text-anchor=\"middle\" x=\"99\" y=\"-230.3\" font-family=\"Times New Roman,serif\" font-size=\"14.00\">2</text>\r\n",
       "</g>\r\n",
       "<!-- 1&#45;&#45;2 -->\r\n",
       "<g id=\"edge5\" class=\"edge\"><title>1&#45;&#45;2</title>\r\n",
       "<path fill=\"none\" stroke=\"black\" d=\"M255.306,-297.002C226.563,-287.135 176.766,-269.507 135,-252 130.155,-249.969 125.014,-247.646 120.18,-245.383\"/>\r\n",
       "</g>\r\n",
       "<!-- 3 -->\r\n",
       "<g id=\"node8\" class=\"node\"><title>3</title>\r\n",
       "<ellipse fill=\"none\" stroke=\"black\" cx=\"171\" cy=\"-234\" rx=\"27\" ry=\"18\"/>\r\n",
       "<text text-anchor=\"middle\" x=\"171\" y=\"-230.3\" font-family=\"Times New Roman,serif\" font-size=\"14.00\">3</text>\r\n",
       "</g>\r\n",
       "<!-- 1&#45;&#45;3 -->\r\n",
       "<g id=\"edge6\" class=\"edge\"><title>1&#45;&#45;3</title>\r\n",
       "<path fill=\"none\" stroke=\"black\" d=\"M260.188,-292.807C240.365,-279.959 209.338,-259.848 189.597,-247.053\"/>\r\n",
       "</g>\r\n",
       "<!-- 4 -->\r\n",
       "<g id=\"node9\" class=\"node\"><title>4</title>\r\n",
       "<ellipse fill=\"none\" stroke=\"black\" cx=\"243\" cy=\"-234\" rx=\"27\" ry=\"18\"/>\r\n",
       "<text text-anchor=\"middle\" x=\"243\" y=\"-230.3\" font-family=\"Times New Roman,serif\" font-size=\"14.00\">4</text>\r\n",
       "</g>\r\n",
       "<!-- 1&#45;&#45;4 -->\r\n",
       "<g id=\"edge7\" class=\"edge\"><title>1&#45;&#45;4</title>\r\n",
       "<path fill=\"none\" stroke=\"black\" d=\"M270.65,-288.765C264.835,-277.456 257.11,-262.437 251.304,-251.147\"/>\r\n",
       "</g>\r\n",
       "<!-- 5 -->\r\n",
       "<g id=\"node10\" class=\"node\"><title>5</title>\r\n",
       "<ellipse fill=\"none\" stroke=\"black\" cx=\"315\" cy=\"-234\" rx=\"27\" ry=\"18\"/>\r\n",
       "<text text-anchor=\"middle\" x=\"315\" y=\"-230.3\" font-family=\"Times New Roman,serif\" font-size=\"14.00\">5</text>\r\n",
       "</g>\r\n",
       "<!-- 1&#45;&#45;5 -->\r\n",
       "<g id=\"edge8\" class=\"edge\"><title>1&#45;&#45;5</title>\r\n",
       "<path fill=\"none\" stroke=\"black\" d=\"M287.35,-288.765C293.165,-277.456 300.89,-262.437 306.696,-251.147\"/>\r\n",
       "</g>\r\n",
       "<!-- 6 -->\r\n",
       "<g id=\"node11\" class=\"node\"><title>6</title>\r\n",
       "<ellipse fill=\"none\" stroke=\"black\" cx=\"387\" cy=\"-234\" rx=\"27\" ry=\"18\"/>\r\n",
       "<text text-anchor=\"middle\" x=\"387\" y=\"-230.3\" font-family=\"Times New Roman,serif\" font-size=\"14.00\">6</text>\r\n",
       "</g>\r\n",
       "<!-- 1&#45;&#45;6 -->\r\n",
       "<g id=\"edge9\" class=\"edge\"><title>1&#45;&#45;6</title>\r\n",
       "<path fill=\"none\" stroke=\"black\" d=\"M297.812,-292.807C317.635,-279.959 348.662,-259.848 368.403,-247.053\"/>\r\n",
       "</g>\r\n",
       "<!-- 7 -->\r\n",
       "<g id=\"node12\" class=\"node\"><title>7</title>\r\n",
       "<ellipse fill=\"none\" stroke=\"black\" cx=\"459\" cy=\"-234\" rx=\"27\" ry=\"18\"/>\r\n",
       "<text text-anchor=\"middle\" x=\"459\" y=\"-230.3\" font-family=\"Times New Roman,serif\" font-size=\"14.00\">7</text>\r\n",
       "</g>\r\n",
       "<!-- 1&#45;&#45;7 -->\r\n",
       "<g id=\"edge10\" class=\"edge\"><title>1&#45;&#45;7</title>\r\n",
       "<path fill=\"none\" stroke=\"black\" d=\"M302.694,-297.002C331.437,-287.135 381.234,-269.507 423,-252 427.845,-249.969 432.986,-247.646 437.82,-245.383\"/>\r\n",
       "</g>\r\n",
       "</g>\r\n",
       "</svg>\r\n"
      ],
      "text/plain": [
       "<IPython.core.display.HTML object>"
      ]
     },
     "metadata": {},
     "output_type": "display_data"
    }
   ],
   "source": [
    "echo 'graph G { \n",
    "        a -- b -- c -- d -- e; \n",
    "        1 -- {2; 3; 4; 5; 6; 7;} \n",
    "}' | pydot"
   ]
  },
  {
   "cell_type": "code",
   "execution_count": 71,
   "metadata": {
    "collapsed": false
   },
   "outputs": [
    {
     "data": {
      "text/html": [
       "<?xml version=\"1.0\" encoding=\"UTF-8\" standalone=\"no\"?>\r\n",
       "<!DOCTYPE svg PUBLIC \"-//W3C//DTD SVG 1.1//EN\"\r\n",
       " \"http://www.w3.org/Graphics/SVG/1.1/DTD/svg11.dtd\">\r\n",
       "<!-- Generated by graphviz version 2.38.0 (20140413.2041)\r\n",
       " -->\r\n",
       "<!-- Title: G Pages: 1 -->\r\n",
       "<svg width=\"170pt\" height=\"260pt\"\r\n",
       " viewBox=\"0.00 0.00 170.00 260.00\" xmlns=\"http://www.w3.org/2000/svg\" xmlns:xlink=\"http://www.w3.org/1999/xlink\">\r\n",
       "<g id=\"graph0\" class=\"graph\" transform=\"scale(1 1) rotate(0) translate(4 256)\">\r\n",
       "<title>G</title>\r\n",
       "<polygon fill=\"white\" stroke=\"none\" points=\"-4,4 -4,-256 166,-256 166,4 -4,4\"/>\r\n",
       "<!-- root -->\r\n",
       "<g id=\"node1\" class=\"node\"><title>root</title>\r\n",
       "<ellipse fill=\"#eeeed1\" stroke=\"#eeeed1\" cx=\"63\" cy=\"-234\" rx=\"56.59\" ry=\"18\"/>\r\n",
       "<text text-anchor=\"middle\" x=\"63\" y=\"-230.3\" font-family=\"Times New Roman,serif\" font-size=\"14.00\">/tmp/findtest</text>\r\n",
       "</g>\r\n",
       "<!-- f1 -->\r\n",
       "<g id=\"node2\" class=\"node\"><title>f1</title>\r\n",
       "<ellipse fill=\"#eeeed1\" stroke=\"#eeeed1\" cx=\"27\" cy=\"-162\" rx=\"27\" ry=\"18\"/>\r\n",
       "<text text-anchor=\"middle\" x=\"27\" y=\"-158.3\" font-family=\"Times New Roman,serif\" font-size=\"14.00\">file1</text>\r\n",
       "</g>\r\n",
       "<!-- root&#45;&gt;f1 -->\r\n",
       "<g id=\"edge1\" class=\"edge\"><title>root&#45;&gt;f1</title>\r\n",
       "<path fill=\"none\" stroke=\"blue\" d=\"M54.2854,-216.055C51.3689,-210.384 48.0045,-203.842 44.6559,-197.331\"/>\r\n",
       "<polygon fill=\"blue\" stroke=\"blue\" points=\"50.7585,-193.891 35.3865,-179.307 38.3085,-200.294 50.7585,-193.891\"/>\r\n",
       "</g>\r\n",
       "<!-- f2 -->\r\n",
       "<g id=\"node3\" class=\"node\"><title>f2</title>\r\n",
       "<ellipse fill=\"#eeeed1\" stroke=\"#eeeed1\" cx=\"99\" cy=\"-162\" rx=\"27\" ry=\"18\"/>\r\n",
       "<text text-anchor=\"middle\" x=\"99\" y=\"-158.3\" font-family=\"Times New Roman,serif\" font-size=\"14.00\">file2</text>\r\n",
       "</g>\r\n",
       "<!-- root&#45;&gt;f2 -->\r\n",
       "<g id=\"edge2\" class=\"edge\"><title>root&#45;&gt;f2</title>\r\n",
       "<path fill=\"none\" stroke=\"blue\" d=\"M71.7146,-216.055C74.6311,-210.384 77.9955,-203.842 81.3441,-197.331\"/>\r\n",
       "<polygon fill=\"blue\" stroke=\"blue\" points=\"87.6915,-200.294 90.6135,-179.307 75.2415,-193.891 87.6915,-200.294\"/>\r\n",
       "</g>\r\n",
       "<!-- f4 -->\r\n",
       "<g id=\"node4\" class=\"node\"><title>f4</title>\r\n",
       "<ellipse fill=\"#eeeed1\" stroke=\"#eeeed1\" cx=\"27\" cy=\"-90\" rx=\"27\" ry=\"18\"/>\r\n",
       "<text text-anchor=\"middle\" x=\"27\" y=\"-86.3\" font-family=\"Times New Roman,serif\" font-size=\"14.00\">file4</text>\r\n",
       "</g>\r\n",
       "<!-- f1&#45;&gt;f4 -->\r\n",
       "<g id=\"edge3\" class=\"edge\"><title>f1&#45;&gt;f4</title>\r\n",
       "<path fill=\"none\" stroke=\"blue\" d=\"M27,-143.697C27,-138.95 27,-133.613 27,-128.206\"/>\r\n",
       "<polygon fill=\"blue\" stroke=\"blue\" points=\"34.0001,-128.104 27,-108.104 20.0001,-128.104 34.0001,-128.104\"/>\r\n",
       "</g>\r\n",
       "<!-- f3 -->\r\n",
       "<g id=\"node5\" class=\"node\"><title>f3</title>\r\n",
       "<ellipse fill=\"#eeeed1\" stroke=\"#eeeed1\" cx=\"99\" cy=\"-90\" rx=\"27\" ry=\"18\"/>\r\n",
       "<text text-anchor=\"middle\" x=\"99\" y=\"-86.3\" font-family=\"Times New Roman,serif\" font-size=\"14.00\">file3</text>\r\n",
       "</g>\r\n",
       "<!-- f2&#45;&gt;f3 -->\r\n",
       "<g id=\"edge6\" class=\"edge\"><title>f2&#45;&gt;f3</title>\r\n",
       "<path fill=\"none\" stroke=\"blue\" d=\"M99,-143.697C99,-138.95 99,-133.613 99,-128.206\"/>\r\n",
       "<polygon fill=\"blue\" stroke=\"blue\" points=\"106,-128.104 99,-108.104 92.0001,-128.104 106,-128.104\"/>\r\n",
       "</g>\r\n",
       "<!-- f5 -->\r\n",
       "<g id=\"node6\" class=\"node\"><title>f5</title>\r\n",
       "<ellipse fill=\"#eeeed1\" stroke=\"#eeeed1\" cx=\"63\" cy=\"-18\" rx=\"27\" ry=\"18\"/>\r\n",
       "<text text-anchor=\"middle\" x=\"63\" y=\"-14.3\" font-family=\"Times New Roman,serif\" font-size=\"14.00\">file5</text>\r\n",
       "</g>\r\n",
       "<!-- f3&#45;&gt;f5 -->\r\n",
       "<g id=\"edge4\" class=\"edge\"><title>f3&#45;&gt;f5</title>\r\n",
       "<path fill=\"none\" stroke=\"blue\" d=\"M90.6504,-72.7646C87.6061,-66.8453 84.039,-59.9092 80.4978,-53.0236\"/>\r\n",
       "<polygon fill=\"blue\" stroke=\"blue\" points=\"86.6764,-49.7316 71.3043,-35.1473 74.2263,-56.1345 86.6764,-49.7316\"/>\r\n",
       "</g>\r\n",
       "<!-- f6 -->\r\n",
       "<g id=\"node7\" class=\"node\"><title>f6</title>\r\n",
       "<ellipse fill=\"#eeeed1\" stroke=\"#eeeed1\" cx=\"135\" cy=\"-18\" rx=\"27\" ry=\"18\"/>\r\n",
       "<text text-anchor=\"middle\" x=\"135\" y=\"-14.3\" font-family=\"Times New Roman,serif\" font-size=\"14.00\">file6</text>\r\n",
       "</g>\r\n",
       "<!-- f3&#45;&gt;f6 -->\r\n",
       "<g id=\"edge5\" class=\"edge\"><title>f3&#45;&gt;f6</title>\r\n",
       "<path fill=\"none\" stroke=\"blue\" d=\"M107.35,-72.7646C110.394,-66.8453 113.961,-59.9092 117.502,-53.0236\"/>\r\n",
       "<polygon fill=\"blue\" stroke=\"blue\" points=\"123.774,-56.1345 126.696,-35.1473 111.324,-49.7316 123.774,-56.1345\"/>\r\n",
       "</g>\r\n",
       "</g>\r\n",
       "</svg>\r\n"
      ],
      "text/plain": [
       "<IPython.core.display.HTML object>"
      ]
     },
     "metadata": {},
     "output_type": "display_data"
    }
   ],
   "source": [
    "echo 'digraph G { \n",
    "        edge [color=blue, arrowsize=2]; \n",
    "        node [color=lightyellow2, style=filled]; \n",
    "        root -> f1; \n",
    "        root -> f2; \n",
    "        f1 -> f4;\n",
    "        f3 -> f5; \n",
    "        f3 -> f6; \n",
    "        f2 -> f3; \n",
    "        root [label=\"/tmp/findtest\"]; \n",
    "        f1 [label=\"file1\"]; \n",
    "        f2 [label=\"file2\"]; \n",
    "        f3 [label=\"file3\"]; \n",
    "        f4 [label=\"file4\"]; \n",
    "        f5 [label=\"file5\"]; \n",
    "        f6 [label=\"file6\"]; \n",
    "} ' | pydot"
   ]
  },
  {
   "cell_type": "code",
   "execution_count": 72,
   "metadata": {
    "collapsed": false
   },
   "outputs": [
    {
     "data": {
      "text/html": [
       "<?xml version=\"1.0\" encoding=\"UTF-8\" standalone=\"no\"?>\r\n",
       "<!DOCTYPE svg PUBLIC \"-//W3C//DTD SVG 1.1//EN\"\r\n",
       " \"http://www.w3.org/Graphics/SVG/1.1/DTD/svg11.dtd\">\r\n",
       "<!-- Generated by graphviz version 2.38.0 (20140413.2041)\r\n",
       " -->\r\n",
       "<!-- Title: G Pages: 1 -->\r\n",
       "<svg width=\"350pt\" height=\"188pt\"\r\n",
       " viewBox=\"0.00 0.00 350.00 188.00\" xmlns=\"http://www.w3.org/2000/svg\" xmlns:xlink=\"http://www.w3.org/1999/xlink\">\r\n",
       "<g id=\"graph0\" class=\"graph\" transform=\"scale(1 1) rotate(0) translate(4 184)\">\r\n",
       "<title>G</title>\r\n",
       "<polygon fill=\"white\" stroke=\"none\" points=\"-4,4 -4,-184 346,-184 346,4 -4,4\"/>\r\n",
       "<!-- _tmp_findtest -->\r\n",
       "<g id=\"node1\" class=\"node\"><title>_tmp_findtest</title>\r\n",
       "<ellipse fill=\"#eeeed1\" stroke=\"#eeeed1\" cx=\"243\" cy=\"-162\" rx=\"56.59\" ry=\"18\"/>\r\n",
       "<text text-anchor=\"middle\" x=\"243\" y=\"-158.3\" font-family=\"Times New Roman,serif\" font-size=\"14.00\">/tmp/findtest</text>\r\n",
       "</g>\r\n",
       "<!-- _tmp_findtest_dir1 -->\r\n",
       "<g id=\"node2\" class=\"node\"><title>_tmp_findtest_dir1</title>\r\n",
       "<ellipse fill=\"#eeeed1\" stroke=\"#eeeed1\" cx=\"135\" cy=\"-90\" rx=\"27\" ry=\"18\"/>\r\n",
       "<text text-anchor=\"middle\" x=\"135\" y=\"-86.3\" font-family=\"Times New Roman,serif\" font-size=\"14.00\">dir1</text>\r\n",
       "</g>\r\n",
       "<!-- _tmp_findtest&#45;&gt;_tmp_findtest_dir1 -->\r\n",
       "<g id=\"edge1\" class=\"edge\"><title>_tmp_findtest&#45;&gt;_tmp_findtest_dir1</title>\r\n",
       "<path fill=\"none\" stroke=\"blue\" d=\"M219.299,-145.638C205.03,-136.39 186.587,-124.436 170.592,-114.069\"/>\r\n",
       "<polygon fill=\"blue\" stroke=\"blue\" points=\"174.222,-108.08 153.632,-103.076 166.608,-119.828 174.222,-108.08\"/>\r\n",
       "</g>\r\n",
       "<!-- _tmp_findtest_dir2 -->\r\n",
       "<g id=\"node6\" class=\"node\"><title>_tmp_findtest_dir2</title>\r\n",
       "<ellipse fill=\"#eeeed1\" stroke=\"#eeeed1\" cx=\"243\" cy=\"-90\" rx=\"27\" ry=\"18\"/>\r\n",
       "<text text-anchor=\"middle\" x=\"243\" y=\"-86.3\" font-family=\"Times New Roman,serif\" font-size=\"14.00\">dir2</text>\r\n",
       "</g>\r\n",
       "<!-- _tmp_findtest&#45;&gt;_tmp_findtest_dir2 -->\r\n",
       "<g id=\"edge5\" class=\"edge\"><title>_tmp_findtest&#45;&gt;_tmp_findtest_dir2</title>\r\n",
       "<path fill=\"none\" stroke=\"blue\" d=\"M243,-143.697C243,-138.95 243,-133.613 243,-128.206\"/>\r\n",
       "<polygon fill=\"blue\" stroke=\"blue\" points=\"250,-128.104 243,-108.104 236,-128.104 250,-128.104\"/>\r\n",
       "</g>\r\n",
       "<!-- _tmp_findtest_file1 -->\r\n",
       "<g id=\"node9\" class=\"node\"><title>_tmp_findtest_file1</title>\r\n",
       "<ellipse fill=\"#eeeed1\" stroke=\"#eeeed1\" cx=\"315\" cy=\"-90\" rx=\"27\" ry=\"18\"/>\r\n",
       "<text text-anchor=\"middle\" x=\"315\" y=\"-86.3\" font-family=\"Times New Roman,serif\" font-size=\"14.00\">file1</text>\r\n",
       "</g>\r\n",
       "<!-- _tmp_findtest&#45;&gt;_tmp_findtest_file1 -->\r\n",
       "<g id=\"edge8\" class=\"edge\"><title>_tmp_findtest&#45;&gt;_tmp_findtest_file1</title>\r\n",
       "<path fill=\"none\" stroke=\"blue\" d=\"M259.699,-144.765C267.481,-137.199 276.97,-127.974 285.876,-119.315\"/>\r\n",
       "<polygon fill=\"blue\" stroke=\"blue\" points=\"290.883,-124.21 300.343,-105.25 281.123,-114.173 290.883,-124.21\"/>\r\n",
       "</g>\r\n",
       "<!-- _tmp_findtest_dir1_file1 -->\r\n",
       "<g id=\"node3\" class=\"node\"><title>_tmp_findtest_dir1_file1</title>\r\n",
       "<ellipse fill=\"#eeeed1\" stroke=\"#eeeed1\" cx=\"27\" cy=\"-18\" rx=\"27\" ry=\"18\"/>\r\n",
       "<text text-anchor=\"middle\" x=\"27\" y=\"-14.3\" font-family=\"Times New Roman,serif\" font-size=\"14.00\">file1</text>\r\n",
       "</g>\r\n",
       "<!-- _tmp_findtest_dir1&#45;&gt;_tmp_findtest_dir1_file1 -->\r\n",
       "<g id=\"edge2\" class=\"edge\"><title>_tmp_findtest_dir1&#45;&gt;_tmp_findtest_dir1_file1</title>\r\n",
       "<path fill=\"none\" stroke=\"blue\" d=\"M116.188,-76.8069C101.398,-67.2211 80.3714,-53.5926 62.4484,-41.9758\"/>\r\n",
       "<polygon fill=\"blue\" stroke=\"blue\" points=\"66.1869,-36.0572 45.5966,-31.0533 58.5724,-47.8054 66.1869,-36.0572\"/>\r\n",
       "</g>\r\n",
       "<!-- _tmp_findtest_dir1_file2 -->\r\n",
       "<g id=\"node4\" class=\"node\"><title>_tmp_findtest_dir1_file2</title>\r\n",
       "<ellipse fill=\"#eeeed1\" stroke=\"#eeeed1\" cx=\"99\" cy=\"-18\" rx=\"27\" ry=\"18\"/>\r\n",
       "<text text-anchor=\"middle\" x=\"99\" y=\"-14.3\" font-family=\"Times New Roman,serif\" font-size=\"14.00\">file2</text>\r\n",
       "</g>\r\n",
       "<!-- _tmp_findtest_dir1&#45;&gt;_tmp_findtest_dir1_file2 -->\r\n",
       "<g id=\"edge3\" class=\"edge\"><title>_tmp_findtest_dir1&#45;&gt;_tmp_findtest_dir1_file2</title>\r\n",
       "<path fill=\"none\" stroke=\"blue\" d=\"M126.65,-72.7646C123.606,-66.8453 120.039,-59.9092 116.498,-53.0236\"/>\r\n",
       "<polygon fill=\"blue\" stroke=\"blue\" points=\"122.676,-49.7316 107.304,-35.1473 110.226,-56.1345 122.676,-49.7316\"/>\r\n",
       "</g>\r\n",
       "<!-- _tmp_findtest_dir1_file3 -->\r\n",
       "<g id=\"node5\" class=\"node\"><title>_tmp_findtest_dir1_file3</title>\r\n",
       "<ellipse fill=\"#eeeed1\" stroke=\"#eeeed1\" cx=\"171\" cy=\"-18\" rx=\"27\" ry=\"18\"/>\r\n",
       "<text text-anchor=\"middle\" x=\"171\" y=\"-14.3\" font-family=\"Times New Roman,serif\" font-size=\"14.00\">file3</text>\r\n",
       "</g>\r\n",
       "<!-- _tmp_findtest_dir1&#45;&gt;_tmp_findtest_dir1_file3 -->\r\n",
       "<g id=\"edge4\" class=\"edge\"><title>_tmp_findtest_dir1&#45;&gt;_tmp_findtest_dir1_file3</title>\r\n",
       "<path fill=\"none\" stroke=\"blue\" d=\"M143.35,-72.7646C146.394,-66.8453 149.961,-59.9092 153.502,-53.0236\"/>\r\n",
       "<polygon fill=\"blue\" stroke=\"blue\" points=\"159.774,-56.1345 162.696,-35.1473 147.324,-49.7316 159.774,-56.1345\"/>\r\n",
       "</g>\r\n",
       "<!-- _tmp_findtest_dir2_file1 -->\r\n",
       "<g id=\"node7\" class=\"node\"><title>_tmp_findtest_dir2_file1</title>\r\n",
       "<ellipse fill=\"#eeeed1\" stroke=\"#eeeed1\" cx=\"243\" cy=\"-18\" rx=\"27\" ry=\"18\"/>\r\n",
       "<text text-anchor=\"middle\" x=\"243\" y=\"-14.3\" font-family=\"Times New Roman,serif\" font-size=\"14.00\">file1</text>\r\n",
       "</g>\r\n",
       "<!-- _tmp_findtest_dir2&#45;&gt;_tmp_findtest_dir2_file1 -->\r\n",
       "<g id=\"edge6\" class=\"edge\"><title>_tmp_findtest_dir2&#45;&gt;_tmp_findtest_dir2_file1</title>\r\n",
       "<path fill=\"none\" stroke=\"blue\" d=\"M243,-71.6966C243,-66.9496 243,-61.6132 243,-56.2063\"/>\r\n",
       "<polygon fill=\"blue\" stroke=\"blue\" points=\"250,-56.1043 243,-36.1043 236,-56.1044 250,-56.1043\"/>\r\n",
       "</g>\r\n",
       "<!-- _tmp_findtest_dir2_file2 -->\r\n",
       "<g id=\"node8\" class=\"node\"><title>_tmp_findtest_dir2_file2</title>\r\n",
       "<ellipse fill=\"#eeeed1\" stroke=\"#eeeed1\" cx=\"315\" cy=\"-18\" rx=\"27\" ry=\"18\"/>\r\n",
       "<text text-anchor=\"middle\" x=\"315\" y=\"-14.3\" font-family=\"Times New Roman,serif\" font-size=\"14.00\">file2</text>\r\n",
       "</g>\r\n",
       "<!-- _tmp_findtest_dir2&#45;&gt;_tmp_findtest_dir2_file2 -->\r\n",
       "<g id=\"edge7\" class=\"edge\"><title>_tmp_findtest_dir2&#45;&gt;_tmp_findtest_dir2_file2</title>\r\n",
       "<path fill=\"none\" stroke=\"blue\" d=\"M257.57,-74.8345C265.617,-67.0112 275.91,-57.0044 285.553,-47.6289\"/>\r\n",
       "<polygon fill=\"blue\" stroke=\"blue\" points=\"290.744,-52.3453 300.204,-33.3847 280.985,-42.3074 290.744,-52.3453\"/>\r\n",
       "</g>\r\n",
       "</g>\r\n",
       "</svg>\r\n"
      ],
      "text/plain": [
       "<IPython.core.display.HTML object>"
      ]
     },
     "metadata": {},
     "output_type": "display_data"
    }
   ],
   "source": [
    "rm -rf /tmp/findtest\n",
    "\n",
    "mkdir -p /tmp/findtest/\n",
    "touch /tmp/findtest/file1\n",
    "mkdir /tmp/findtest/dir1\n",
    "  touch /tmp/findtest/dir1/file1\n",
    "  touch /tmp/findtest/dir1/file2\n",
    "  touch /tmp/findtest/dir1/file3\n",
    "mkdir /tmp/findtest/dir2\n",
    "  touch /tmp/findtest/dir2/file1\n",
    "  touch /tmp/findtest/dir2/file2\n",
    "\n",
    "find /tmp/findtest | perl -ne '\n",
    "  BEGIN {\n",
    "    print \"digraph G {\\n  edge [color=blue, arrowsize=2];\\n  node [color=lightyellow2, style=filled];\\n\";\n",
    "  };\n",
    "\n",
    "  chomp();\n",
    "  if (!defined($ROOT)) {\n",
    "    $ROOT=\"$_\"; $ROOT =~ s/\\//_/g;\n",
    "    $ROOTLABEL=$_;\n",
    "    $NODES{$ROOT}=\"root\";\n",
    "    print \"\\n  $ROOT [label=\\\"$ROOTLABEL\\\"];\\n\"; \n",
    "  } else {\n",
    "    m/^(.+)\\/([^\\/]+)/;\n",
    "    ($PARENT,$CHILD)=($1,$2);\n",
    "    $NODE = $_;\n",
    "    $NODE =~ s/\\//_/g;\n",
    "    $PARENTNODE = $PARENT;\n",
    "    $PARENTNODE =~ s/\\//_/g;\n",
    "\n",
    "    $NODES{$NODE}=$CHILD;\n",
    "    print \"  $PARENTNODE -> $NODE;\\n\";\n",
    "    print \"\\n  $NODE [label=\\\"$CHILD\\\"];\\n\"; \n",
    "};\n",
    "\n",
    "END { print \"}\\n\"; }; ' | pydot"
   ]
  },
  {
   "cell_type": "code",
   "execution_count": 73,
   "metadata": {
    "collapsed": false
   },
   "outputs": [
    {
     "data": {
      "text/plain": [
       "[Tue, Jul 05, 2016 12:33:30 PM] Sourcing <</home/mjbright/src/git/GIT_mjbright/metakernel/metakernel_bash/metakernelrc>>"
      ]
     },
     "execution_count": 73,
     "metadata": {},
     "output_type": "execute_result"
    }
   ],
   "source": [
    "reread_local_metakernelrc"
   ]
  },
  {
   "cell_type": "code",
   "execution_count": 74,
   "metadata": {
    "collapsed": false
   },
   "outputs": [
    {
     "data": {
      "text/html": [
       "<?xml version=\"1.0\" encoding=\"UTF-8\" standalone=\"no\"?>\r\n",
       "<!DOCTYPE svg PUBLIC \"-//W3C//DTD SVG 1.1//EN\"\r\n",
       " \"http://www.w3.org/Graphics/SVG/1.1/DTD/svg11.dtd\">\r\n",
       "<!-- Generated by graphviz version 2.38.0 (20140413.2041)\r\n",
       " -->\r\n",
       "<!-- Title: G Pages: 1 -->\r\n",
       "<svg width=\"350pt\" height=\"188pt\"\r\n",
       " viewBox=\"0.00 0.00 350.00 188.00\" xmlns=\"http://www.w3.org/2000/svg\" xmlns:xlink=\"http://www.w3.org/1999/xlink\">\r\n",
       "<g id=\"graph0\" class=\"graph\" transform=\"scale(1 1) rotate(0) translate(4 184)\">\r\n",
       "<title>G</title>\r\n",
       "<polygon fill=\"white\" stroke=\"none\" points=\"-4,4 -4,-184 346,-184 346,4 -4,4\"/>\r\n",
       "<!-- _tmp_findtest -->\r\n",
       "<g id=\"node1\" class=\"node\"><title>_tmp_findtest</title>\r\n",
       "<ellipse fill=\"#eeeed1\" stroke=\"#eeeed1\" cx=\"243\" cy=\"-162\" rx=\"56.59\" ry=\"18\"/>\r\n",
       "<text text-anchor=\"middle\" x=\"243\" y=\"-158.3\" font-family=\"Times New Roman,serif\" font-size=\"14.00\">/tmp/findtest</text>\r\n",
       "</g>\r\n",
       "<!-- _tmp_findtest_dir1 -->\r\n",
       "<g id=\"node2\" class=\"node\"><title>_tmp_findtest_dir1</title>\r\n",
       "<ellipse fill=\"#eeeed1\" stroke=\"#eeeed1\" cx=\"135\" cy=\"-90\" rx=\"27\" ry=\"18\"/>\r\n",
       "<text text-anchor=\"middle\" x=\"135\" y=\"-86.3\" font-family=\"Times New Roman,serif\" font-size=\"14.00\">dir1</text>\r\n",
       "</g>\r\n",
       "<!-- _tmp_findtest&#45;&gt;_tmp_findtest_dir1 -->\r\n",
       "<g id=\"edge1\" class=\"edge\"><title>_tmp_findtest&#45;&gt;_tmp_findtest_dir1</title>\r\n",
       "<path fill=\"none\" stroke=\"blue\" d=\"M219.299,-145.638C205.03,-136.39 186.587,-124.436 170.592,-114.069\"/>\r\n",
       "<polygon fill=\"blue\" stroke=\"blue\" points=\"174.222,-108.08 153.632,-103.076 166.608,-119.828 174.222,-108.08\"/>\r\n",
       "</g>\r\n",
       "<!-- _tmp_findtest_dir2 -->\r\n",
       "<g id=\"node6\" class=\"node\"><title>_tmp_findtest_dir2</title>\r\n",
       "<ellipse fill=\"#eeeed1\" stroke=\"#eeeed1\" cx=\"243\" cy=\"-90\" rx=\"27\" ry=\"18\"/>\r\n",
       "<text text-anchor=\"middle\" x=\"243\" y=\"-86.3\" font-family=\"Times New Roman,serif\" font-size=\"14.00\">dir2</text>\r\n",
       "</g>\r\n",
       "<!-- _tmp_findtest&#45;&gt;_tmp_findtest_dir2 -->\r\n",
       "<g id=\"edge5\" class=\"edge\"><title>_tmp_findtest&#45;&gt;_tmp_findtest_dir2</title>\r\n",
       "<path fill=\"none\" stroke=\"blue\" d=\"M243,-143.697C243,-138.95 243,-133.613 243,-128.206\"/>\r\n",
       "<polygon fill=\"blue\" stroke=\"blue\" points=\"250,-128.104 243,-108.104 236,-128.104 250,-128.104\"/>\r\n",
       "</g>\r\n",
       "<!-- _tmp_findtest_file1 -->\r\n",
       "<g id=\"node9\" class=\"node\"><title>_tmp_findtest_file1</title>\r\n",
       "<ellipse fill=\"#eeeed1\" stroke=\"#eeeed1\" cx=\"315\" cy=\"-90\" rx=\"27\" ry=\"18\"/>\r\n",
       "<text text-anchor=\"middle\" x=\"315\" y=\"-86.3\" font-family=\"Times New Roman,serif\" font-size=\"14.00\">file1</text>\r\n",
       "</g>\r\n",
       "<!-- _tmp_findtest&#45;&gt;_tmp_findtest_file1 -->\r\n",
       "<g id=\"edge8\" class=\"edge\"><title>_tmp_findtest&#45;&gt;_tmp_findtest_file1</title>\r\n",
       "<path fill=\"none\" stroke=\"blue\" d=\"M259.699,-144.765C267.481,-137.199 276.97,-127.974 285.876,-119.315\"/>\r\n",
       "<polygon fill=\"blue\" stroke=\"blue\" points=\"290.883,-124.21 300.343,-105.25 281.123,-114.173 290.883,-124.21\"/>\r\n",
       "</g>\r\n",
       "<!-- _tmp_findtest_dir1_file1 -->\r\n",
       "<g id=\"node3\" class=\"node\"><title>_tmp_findtest_dir1_file1</title>\r\n",
       "<ellipse fill=\"#eeeed1\" stroke=\"#eeeed1\" cx=\"27\" cy=\"-18\" rx=\"27\" ry=\"18\"/>\r\n",
       "<text text-anchor=\"middle\" x=\"27\" y=\"-14.3\" font-family=\"Times New Roman,serif\" font-size=\"14.00\">file1</text>\r\n",
       "</g>\r\n",
       "<!-- _tmp_findtest_dir1&#45;&gt;_tmp_findtest_dir1_file1 -->\r\n",
       "<g id=\"edge2\" class=\"edge\"><title>_tmp_findtest_dir1&#45;&gt;_tmp_findtest_dir1_file1</title>\r\n",
       "<path fill=\"none\" stroke=\"blue\" d=\"M116.188,-76.8069C101.398,-67.2211 80.3714,-53.5926 62.4484,-41.9758\"/>\r\n",
       "<polygon fill=\"blue\" stroke=\"blue\" points=\"66.1869,-36.0572 45.5966,-31.0533 58.5724,-47.8054 66.1869,-36.0572\"/>\r\n",
       "</g>\r\n",
       "<!-- _tmp_findtest_dir1_file2 -->\r\n",
       "<g id=\"node4\" class=\"node\"><title>_tmp_findtest_dir1_file2</title>\r\n",
       "<ellipse fill=\"#eeeed1\" stroke=\"#eeeed1\" cx=\"99\" cy=\"-18\" rx=\"27\" ry=\"18\"/>\r\n",
       "<text text-anchor=\"middle\" x=\"99\" y=\"-14.3\" font-family=\"Times New Roman,serif\" font-size=\"14.00\">file2</text>\r\n",
       "</g>\r\n",
       "<!-- _tmp_findtest_dir1&#45;&gt;_tmp_findtest_dir1_file2 -->\r\n",
       "<g id=\"edge3\" class=\"edge\"><title>_tmp_findtest_dir1&#45;&gt;_tmp_findtest_dir1_file2</title>\r\n",
       "<path fill=\"none\" stroke=\"blue\" d=\"M126.65,-72.7646C123.606,-66.8453 120.039,-59.9092 116.498,-53.0236\"/>\r\n",
       "<polygon fill=\"blue\" stroke=\"blue\" points=\"122.676,-49.7316 107.304,-35.1473 110.226,-56.1345 122.676,-49.7316\"/>\r\n",
       "</g>\r\n",
       "<!-- _tmp_findtest_dir1_file3 -->\r\n",
       "<g id=\"node5\" class=\"node\"><title>_tmp_findtest_dir1_file3</title>\r\n",
       "<ellipse fill=\"#eeeed1\" stroke=\"#eeeed1\" cx=\"171\" cy=\"-18\" rx=\"27\" ry=\"18\"/>\r\n",
       "<text text-anchor=\"middle\" x=\"171\" y=\"-14.3\" font-family=\"Times New Roman,serif\" font-size=\"14.00\">file3</text>\r\n",
       "</g>\r\n",
       "<!-- _tmp_findtest_dir1&#45;&gt;_tmp_findtest_dir1_file3 -->\r\n",
       "<g id=\"edge4\" class=\"edge\"><title>_tmp_findtest_dir1&#45;&gt;_tmp_findtest_dir1_file3</title>\r\n",
       "<path fill=\"none\" stroke=\"blue\" d=\"M143.35,-72.7646C146.394,-66.8453 149.961,-59.9092 153.502,-53.0236\"/>\r\n",
       "<polygon fill=\"blue\" stroke=\"blue\" points=\"159.774,-56.1345 162.696,-35.1473 147.324,-49.7316 159.774,-56.1345\"/>\r\n",
       "</g>\r\n",
       "<!-- _tmp_findtest_dir2_file1 -->\r\n",
       "<g id=\"node7\" class=\"node\"><title>_tmp_findtest_dir2_file1</title>\r\n",
       "<ellipse fill=\"#eeeed1\" stroke=\"#eeeed1\" cx=\"243\" cy=\"-18\" rx=\"27\" ry=\"18\"/>\r\n",
       "<text text-anchor=\"middle\" x=\"243\" y=\"-14.3\" font-family=\"Times New Roman,serif\" font-size=\"14.00\">file1</text>\r\n",
       "</g>\r\n",
       "<!-- _tmp_findtest_dir2&#45;&gt;_tmp_findtest_dir2_file1 -->\r\n",
       "<g id=\"edge6\" class=\"edge\"><title>_tmp_findtest_dir2&#45;&gt;_tmp_findtest_dir2_file1</title>\r\n",
       "<path fill=\"none\" stroke=\"blue\" d=\"M243,-71.6966C243,-66.9496 243,-61.6132 243,-56.2063\"/>\r\n",
       "<polygon fill=\"blue\" stroke=\"blue\" points=\"250,-56.1043 243,-36.1043 236,-56.1044 250,-56.1043\"/>\r\n",
       "</g>\r\n",
       "<!-- _tmp_findtest_dir2_file2 -->\r\n",
       "<g id=\"node8\" class=\"node\"><title>_tmp_findtest_dir2_file2</title>\r\n",
       "<ellipse fill=\"#eeeed1\" stroke=\"#eeeed1\" cx=\"315\" cy=\"-18\" rx=\"27\" ry=\"18\"/>\r\n",
       "<text text-anchor=\"middle\" x=\"315\" y=\"-14.3\" font-family=\"Times New Roman,serif\" font-size=\"14.00\">file2</text>\r\n",
       "</g>\r\n",
       "<!-- _tmp_findtest_dir2&#45;&gt;_tmp_findtest_dir2_file2 -->\r\n",
       "<g id=\"edge7\" class=\"edge\"><title>_tmp_findtest_dir2&#45;&gt;_tmp_findtest_dir2_file2</title>\r\n",
       "<path fill=\"none\" stroke=\"blue\" d=\"M257.57,-74.8345C265.617,-67.0112 275.91,-57.0044 285.553,-47.6289\"/>\r\n",
       "<polygon fill=\"blue\" stroke=\"blue\" points=\"290.744,-52.3453 300.204,-33.3847 280.985,-42.3074 290.744,-52.3453\"/>\r\n",
       "</g>\r\n",
       "</g>\r\n",
       "</svg>\r\n"
      ],
      "text/plain": [
       "<IPython.core.display.HTML object>"
      ]
     },
     "metadata": {},
     "output_type": "display_data"
    }
   ],
   "source": [
    "rm -rf /tmp/findtest\n",
    "\n",
    "mkdir -p /tmp/findtest/\n",
    "touch /tmp/findtest/file1\n",
    "mkdir /tmp/findtest/dir1\n",
    "  touch /tmp/findtest/dir1/file1\n",
    "  touch /tmp/findtest/dir1/file2\n",
    "  touch /tmp/findtest/dir1/file3\n",
    "mkdir /tmp/findtest/dir2\n",
    "  touch /tmp/findtest/dir2/file1\n",
    "  touch /tmp/findtest/dir2/file2\n",
    "\n",
    "source /home/mjbright/src/git/GIT_mjbright/metakernel/metakernel_bash/metakernelrc\n",
    "find /tmp/findtest | pydot_show_filetree"
   ]
  },
  {
   "cell_type": "code",
   "execution_count": 75,
   "metadata": {
    "collapsed": false
   },
   "outputs": [
    {
     "data": {
      "text/plain": [
       "[Tue, Jul 05, 2016 12:33:31 PM] Sourcing <</home/mjbright/src/git/GIT_mjbright/metakernel/metakernel_bash/metakernelrc>>"
      ]
     },
     "execution_count": 75,
     "metadata": {},
     "output_type": "execute_result"
    }
   ],
   "source": [
    "reread_local_metakernelrc"
   ]
  },
  {
   "cell_type": "code",
   "execution_count": 76,
   "metadata": {
    "collapsed": false
   },
   "outputs": [
    {
     "data": {
      "text/html": [
       "<?xml version=\"1.0\" encoding=\"UTF-8\" standalone=\"no\"?>\r\n",
       "<!DOCTYPE svg PUBLIC \"-//W3C//DTD SVG 1.1//EN\"\r\n",
       " \"http://www.w3.org/Graphics/SVG/1.1/DTD/svg11.dtd\">\r\n",
       "<!-- Generated by graphviz version 2.38.0 (20140413.2041)\r\n",
       " -->\r\n",
       "<!-- Title: G Pages: 1 -->\r\n",
       "<svg width=\"960pt\" height=\"728pt\"\r\n",
       " viewBox=\"0.00 0.00 960.00 728.00\" xmlns=\"http://www.w3.org/2000/svg\" xmlns:xlink=\"http://www.w3.org/1999/xlink\">\r\n",
       "<g id=\"graph0\" class=\"graph\" transform=\"scale(1 1) rotate(0) translate(4 724)\">\r\n",
       "<title>G</title>\r\n",
       "<polygon fill=\"white\" stroke=\"none\" points=\"-4,4 -4,-724 956,-724 956,4 -4,4\"/>\r\n",
       "<g id=\"clust1\" class=\"cluster\"><title>cluster_01</title>\r\n",
       "<polygon fill=\"none\" stroke=\"black\" points=\"8,-334 8,-409 222,-409 222,-334 8,-334\"/>\r\n",
       "<text text-anchor=\"middle\" x=\"115\" y=\"-393.8\" font-family=\"Times New Roman,serif\" font-size=\"14.00\">Disk Usage under /tmp</text>\r\n",
       "</g>\r\n",
       "<!-- key3 -->\r\n",
       "<g id=\"node1\" class=\"node\"><title>key3</title>\r\n",
       "<polygon fill=\"lightgrey\" stroke=\"none\" points=\"214,-378 160,-378 160,-342 214,-342 214,-378\"/>\r\n",
       "<text text-anchor=\"middle\" x=\"187\" y=\"-356.3\" font-family=\"Times New Roman,serif\" font-size=\"14.00\">file1</text>\r\n",
       "</g>\r\n",
       "<!-- key2 -->\r\n",
       "<g id=\"node2\" class=\"node\"><title>key2</title>\r\n",
       "<polygon fill=\"lightgrey\" stroke=\"none\" points=\"142,-378 88,-378 88,-342 142,-342 142,-378\"/>\r\n",
       "<text text-anchor=\"middle\" x=\"115\" y=\"-356.3\" font-family=\"Times New Roman,serif\" font-size=\"14.00\">dir2/</text>\r\n",
       "</g>\r\n",
       "<!-- key1 -->\r\n",
       "<g id=\"node3\" class=\"node\"><title>key1</title>\r\n",
       "<polygon fill=\"lightgrey\" stroke=\"none\" points=\"70,-378 16,-378 16,-342 70,-342 70,-378\"/>\r\n",
       "<text text-anchor=\"middle\" x=\"43\" y=\"-356.3\" font-family=\"Times New Roman,serif\" font-size=\"14.00\">dir1/</text>\r\n",
       "</g>\r\n",
       "<!-- A -->\r\n",
       "<g id=\"node4\" class=\"node\"><title>A</title>\r\n",
       "<path fill=\"red\" stroke=\"black\" stroke-width=\"0.5\" d=\"M592,-360C592,-360 952,-360 952,-360 952,-363.534 951.948,-367.069 951.844,-370.601 951.74,-374.134 951.584,-377.665 951.376,-381.193 951.168,-384.722 950.908,-388.247 950.596,-391.767 950.284,-395.288 949.92,-398.804 949.505,-402.313 949.089,-405.823 948.622,-409.327 948.104,-412.823 947.585,-416.319 947.015,-419.807 946.394,-423.287 945.772,-426.766 945.1,-430.236 944.376,-433.695 943.653,-437.155 942.878,-440.604 942.053,-444.04 941.228,-447.477 940.352,-450.901 939.427,-454.312 938.501,-457.723 937.524,-461.12 936.499,-464.502 935.473,-467.885 934.397,-471.252 933.272,-474.602 932.147,-477.953 930.972,-481.286 929.749,-484.602 928.526,-487.918 927.254,-491.216 925.933,-494.494 924.613,-497.773 923.244,-501.031 921.828,-504.27 920.411,-507.508 918.947,-510.725 917.436,-513.92 915.925,-517.115 914.367,-520.287 912.762,-523.437 911.158,-526.586 909.507,-529.711 907.81,-532.812 906.114,-535.912 904.372,-538.987 902.584,-542.037 900.797,-545.086 898.965,-548.109 897.089,-551.104 895.213,-554.099 893.293,-557.067 891.329,-560.005 889.365,-562.944 887.359,-565.854 885.309,-568.733 883.26,-571.613 881.169,-574.462 879.035,-577.28 876.902,-580.098 874.728,-582.885 872.512,-585.639 870.297,-588.393 868.042,-591.114 865.746,-593.801 863.451,-596.489 861.116,-599.142 858.742,-601.761 856.369,-604.38 853.957,-606.964 851.507,-609.511 849.058,-612.059 846.571,-614.571 844.047,-617.045 841.524,-619.52 838.964,-621.957 836.368,-624.356 833.773,-626.755 831.142,-629.116 828.477,-631.438 825.813,-633.759 823.114,-636.042 820.382,-638.284 817.649,-640.526 814.885,-642.728 812.088,-644.889 809.291,-647.049 806.462,-649.169 803.603,-651.246 800.743,-653.324 797.854,-655.359 794.934,-657.351 792.015,-659.343 789.066,-661.293 786.09,-663.198 783.113,-665.104 780.108,-666.965 777.077,-668.782 774.045,-670.599 770.987,-672.372 767.904,-674.099 764.82,-675.826 761.711,-677.507 758.578,-679.142 755.444,-680.778 752.287,-682.367 749.107,-683.909 745.927,-685.452 742.725,-686.947 739.501,-688.395 736.277,-689.844 733.031,-691.244 729.766,-692.597 726.501,-693.949 723.216,-695.254 719.912,-696.509 716.608,-697.765 713.286,-698.972 709.947,-700.13 706.608,-701.288 703.251,-702.397 699.879,-703.456 696.508,-704.515 693.12,-705.525 689.719,-706.484 686.317,-707.443 682.901,-708.352 679.473,-709.211 676.044,-710.07 672.604,-710.878 669.151,-711.636 665.699,-712.393 662.236,-713.1 658.763,-713.755 655.29,-714.411 651.807,-715.015 648.316,-715.568 644.826,-716.121 641.327,-716.622 637.821,-717.072 634.316,-717.522 630.803,-717.92 627.286,-718.267 623.769,-718.613 620.247,-718.908 616.721,-719.15 613.195,-719.393 609.665,-719.584 606.134,-719.722 602.602,-719.861 599.068,-719.948 595.534,-719.983 592,-720.017 588.466,-720 584.932,-719.931 581.398,-719.861 577.866,-719.74 574.336,-719.566 570.806,-719.393 567.278,-719.168 563.755,-718.89 560.231,-718.613 556.712,-718.284 553.198,-717.903 549.685,-717.522 546.177,-717.089 542.676,-716.605 539.175,-716.121 535.681,-715.585 532.196,-714.998 528.71,-714.411 525.234,-713.772 521.767,-713.083 518.301,-712.393 514.845,-711.653 511.4,-710.861 507.956,-710.07 504.523,-709.228 501.103,-708.336 497.683,-707.443 494.277,-706.501 490.885,-705.508 487.493,-704.515 484.115,-703.473 480.754,-702.38 480.754,-702.38 592,-360 592,-360\"/>\r\n",
       "<path fill=\"green\" stroke=\"black\" stroke-width=\"0.5\" d=\"M592,-360C592,-360 480.754,-702.38 480.754,-702.38 477.392,-701.288 474.047,-700.147 470.72,-698.956 467.392,-697.765 464.082,-696.526 460.791,-695.237 457.499,-693.949 454.227,-692.613 450.975,-691.228 447.723,-689.844 444.492,-688.411 441.282,-686.932 438.073,-685.452 434.885,-683.925 431.72,-682.351 428.556,-680.778 425.414,-679.158 422.297,-677.492 419.18,-675.826 416.088,-674.114 413.021,-672.357 409.955,-670.599 406.914,-668.797 403.9,-666.95 400.887,-665.104 397.901,-663.213 394.943,-661.278 391.985,-659.343 389.056,-657.365 386.156,-655.345 383.257,-653.324 380.387,-651.26 377.548,-649.155 374.709,-647.049 371.902,-644.902 369.126,-642.714 366.351,-640.526 363.607,-638.297 360.897,-636.028 358.187,-633.759 355.511,-631.451 352.869,-629.103 350.227,-626.755 347.62,-624.369 345.048,-621.944 342.477,-619.52 339.941,-617.058 337.442,-614.558 334.942,-612.059 332.48,-609.523 330.056,-606.952 327.631,-604.38 325.245,-601.773 322.897,-599.131 320.549,-596.489 318.241,-593.813 315.972,-591.103 313.703,-588.393 311.474,-585.649 309.286,-582.874 307.098,-580.098 304.951,-577.291 302.845,-574.452 300.74,-571.613 298.676,-568.743 296.655,-565.844 294.635,-562.944 292.656,-560.015 290.722,-557.057 288.787,-554.099 286.896,-551.113 285.05,-548.099 283.203,-545.086 281.401,-542.045 279.643,-538.979 277.886,-535.912 276.174,-532.82 274.508,-529.703 272.842,-526.586 271.222,-523.444 269.649,-520.28 268.075,-517.115 266.548,-513.927 265.068,-510.717 263.589,-507.508 262.156,-504.276 260.772,-501.025 259.387,-497.773 258.051,-494.501 256.763,-491.209 255.474,-487.918 254.235,-484.608 253.044,-481.28 251.853,-477.953 250.712,-474.607 249.62,-471.246 248.527,-467.885 247.485,-464.507 246.492,-461.115 245.499,-457.723 244.557,-454.317 243.664,-450.897 242.772,-447.477 241.93,-444.044 241.139,-440.6 240.347,-437.155 239.607,-433.699 238.917,-430.232 238.228,-426.766 237.589,-423.29 237.002,-419.804 236.415,-416.319 235.879,-412.825 235.395,-409.324 234.911,-405.823 234.478,-402.315 234.097,-398.802 233.716,-395.288 233.387,-391.769 233.11,-388.245 232.832,-384.722 232.607,-381.194 232.434,-377.664 232.26,-374.134 232.139,-370.602 232.069,-367.068 232,-363.534 231.983,-360 232.017,-356.466 232.052,-352.932 232.139,-349.398 232.278,-345.866 232.416,-342.335 232.607,-338.805 232.85,-335.279 233.092,-331.753 233.387,-328.231 233.734,-324.714 234.08,-321.196 234.478,-317.684 234.928,-314.179 235.378,-310.673 235.879,-307.174 236.432,-303.684 236.985,-300.193 237.589,-296.71 238.245,-293.237 238.9,-289.764 239.607,-286.301 240.364,-282.849 241.122,-279.396 241.93,-275.956 242.789,-272.527 243.648,-269.099 244.557,-265.683 245.516,-262.281 246.475,-258.88 247.485,-255.492 248.544,-252.12 249.603,-248.749 250.712,-245.392 251.87,-242.053 253.028,-238.714 254.235,-235.392 255.491,-232.088 256.746,-228.784 258.051,-225.499 259.403,-222.234 260.756,-218.969 262.156,-215.723 263.605,-212.499 265.053,-209.275 266.548,-206.073 268.091,-202.893 269.633,-199.713 271.222,-196.555 272.858,-193.422 274.493,-190.289 276.175,-187.18 277.901,-184.096 279.628,-181.013 281.401,-177.954 283.218,-174.923 285.035,-171.891 286.896,-168.887 288.802,-165.91 290.707,-162.933 292.657,-159.985 294.649,-157.066 296.641,-154.146 298.676,-151.257 300.754,-148.397 302.831,-145.538 304.951,-142.709 307.112,-139.912 309.272,-137.115 311.474,-134.35 313.716,-131.618 315.958,-128.886 318.241,-126.187 320.562,-123.522 322.884,-120.858 325.245,-118.227 327.644,-115.632 330.043,-113.036 332.48,-110.476 334.955,-107.953 337.429,-105.429 339.941,-102.942 342.489,-100.493 345.036,-98.043 347.62,-95.6311 350.239,-93.2576 352.858,-90.884 355.511,-88.5492 358.199,-86.2538 360.886,-83.9584 363.607,-81.7028 366.361,-79.4875 369.115,-77.2723 371.902,-75.0977 374.72,-72.9645 377.538,-70.8313 380.387,-68.7398 383.267,-66.6905 386.146,-64.6412 389.056,-62.6345 391.995,-60.6709 394.933,-58.7073 397.901,-56.7871 400.896,-54.9109 403.891,-53.0347 406.914,-51.2028 409.963,-49.4156 413.013,-47.6284 416.088,-45.8862 419.188,-44.1896 422.289,-42.493 425.414,-40.8422 428.563,-39.2376 431.713,-37.6331 434.885,-36.075 438.08,-34.5638 441.275,-33.0527 444.492,-31.5887 447.73,-30.1723 450.969,-28.7559 454.227,-27.3873 457.506,-26.0669 460.784,-24.7465 464.082,-23.4744 467.398,-22.2511 470.714,-21.0278 474.048,-19.8534 477.398,-18.7283 480.749,-17.6032 484.115,-16.5274 487.498,-15.5015 490.88,-14.4755 494.277,-13.4994 497.688,-12.5735 501.099,-11.6475 504.523,-10.7719 507.96,-9.94681 511.396,-9.12174 514.845,-8.34731 518.305,-7.6238 521.764,-6.90028 525.234,-6.22775 528.713,-5.60642 532.193,-4.9851 535.681,-4.41504 539.177,-3.89645 542.673,-3.37785 546.177,-2.91077 549.687,-2.49535 553.196,-2.07993 556.712,-1.71622 560.233,-1.40434 563.753,-1.09246 567.278,-0.832446 570.807,-0.624376 574.335,-0.416307 577.866,-0.260207 581.399,-0.156127 584.932,-0.0520473 588.466,6.61814e-007 592,-6.30962e-012 595.534,-6.61827e-007 599.069,-0.05205 602.601,-0.156131 606.134,-0.260212 609.665,-0.416313 613.194,-0.624384 616.722,-0.832455 620.247,-1.09247 623.767,-1.40435 627.288,-1.71623 630.804,-2.07994 634.314,-2.49536 637.823,-2.91078 641.327,-3.37787 644.823,-3.89647 648.319,-4.41506 651.807,-4.98512 655.287,-5.60645 658.766,-6.22778 662.236,-6.90031 665.696,-7.62382 669.155,-8.34734 672.604,-9.12177 676.04,-9.94685 679.477,-10.7719 682.901,-11.6476 686.312,-12.5735 689.723,-13.4994 693.12,-14.4755 696.503,-15.5015 699.885,-16.5275 703.252,-17.6032 706.602,-18.7283 709.953,-19.8534 713.286,-21.0278 716.602,-22.2511 719.918,-23.4744 723.216,-24.7465 726.494,-26.0669 729.773,-27.3873 733.032,-28.756 736.27,-30.1724 739.508,-31.5888 742.725,-33.0528 745.92,-34.5639 749.115,-36.075 752.288,-37.6331 755.437,-39.2377 758.586,-40.8422 761.711,-42.4931 764.812,-44.1897 767.912,-45.8863 770.988,-47.6285 774.037,-49.4157 777.086,-51.2028 780.109,-53.0348 783.104,-54.911 786.099,-56.7872 789.067,-58.7074 792.005,-60.671 794.944,-62.6346 797.854,-64.6413 800.733,-66.6906 803.613,-68.7399 806.462,-70.8314 809.28,-72.9646 812.098,-75.0978 814.885,-77.2724 817.639,-79.4876 820.393,-81.7028 823.114,-83.9585 825.801,-86.2539 828.489,-88.5493 831.142,-90.8841 833.761,-93.2576 836.38,-95.6312 838.964,-98.0431 841.512,-100.493 844.059,-102.942 846.571,-105.429 849.045,-107.953 851.52,-110.477 853.957,-113.036 856.356,-115.632 858.755,-118.227 861.116,-120.858 863.438,-123.523 865.759,-126.187 868.042,-128.886 870.284,-131.618 872.526,-134.351 874.728,-137.116 876.889,-139.912 879.049,-142.709 881.169,-145.538 883.246,-148.397 883.246,-148.397 592,-360 592,-360\"/>\r\n",
       "<path fill=\"orange\" stroke=\"black\" stroke-width=\"0.5\" d=\"M592,-360C592,-360 883.246,-148.397 883.246,-148.397 884.631,-150.304 885.997,-152.223 887.345,-154.156 888.692,-156.089 890.02,-158.036 891.329,-159.995 892.638,-161.954 893.928,-163.926 895.198,-165.91 896.469,-167.895 897.719,-169.892 898.95,-171.901 900.182,-173.91 901.393,-175.931 902.584,-177.963 903.776,-179.996 904.947,-182.041 906.099,-184.096 907.25,-186.152 908.381,-188.219 909.492,-190.297 910.602,-192.375 911.693,-194.464 912.762,-196.563 913.832,-198.663 914.881,-200.773 915.909,-202.893 916.938,-205.013 917.945,-207.143 918.932,-209.283 919.918,-211.422 920.883,-213.572 921.828,-215.73 922.772,-217.889 923.695,-220.057 924.597,-222.234 925.498,-224.411 926.379,-226.597 927.237,-228.791 928.096,-230.985 928.933,-233.187 929.749,-235.398 930.564,-237.608 931.358,-239.827 932.13,-242.053 932.902,-244.279 933.652,-246.513 934.38,-248.754 935.108,-250.995 935.815,-253.243 936.499,-255.498 937.183,-257.752 937.844,-260.014 938.484,-262.281 939.123,-264.549 939.741,-266.823 940.336,-269.103 940.931,-271.383 941.503,-273.669 942.053,-275.96 942.603,-278.251 943.131,-280.547 943.636,-282.849 944.141,-285.15 944.623,-287.457 945.083,-289.768 945.542,-292.078 945.979,-294.394 946.394,-296.713 946.808,-299.033 947.199,-301.356 947.568,-303.684 947.936,-306.011 948.282,-308.342 948.605,-310.676 948.928,-313.01 949.228,-315.347 949.505,-317.687 949.782,-320.026 950.036,-322.369 950.267,-324.714 950.497,-327.059 950.705,-329.406 950.89,-331.755 951.075,-334.104 951.237,-336.454 951.376,-338.807 951.514,-341.159 951.63,-343.512 951.722,-345.866 951.815,-348.221 951.884,-350.576 951.931,-352.932 951.977,-355.288 952,-357.644 952,-360 952,-360 592,-360 592,-360\"/>\r\n",
       "<ellipse fill=\"none\" stroke=\"black\" cx=\"592\" cy=\"-360\" rx=\"360\" ry=\"360\"/>\r\n",
       "</g>\r\n",
       "</g>\r\n",
       "</svg>\r\n"
      ],
      "text/plain": [
       "<IPython.core.display.HTML object>"
      ]
     },
     "metadata": {},
     "output_type": "display_data"
    }
   ],
   "source": [
    "%%dot\n",
    "\n",
    "digraph G {\n",
    "    rankdir=TB;\n",
    "    node [shape=plaintext style=\"filled\"];\n",
    "    \n",
    "    subgraph cluster_01 {\n",
    "        label = \"Disk Usage under /tmp\";\n",
    "        key3 [label=\"file1\"]\n",
    "        key2 [label=\"dir2/\"]\n",
    "        key1 [label=\"dir1/\"]\n",
    "    };\n",
    "    node [shape=circle fizedsize=true width=10 style=wedged fillcolor=\"red;0.3:green;0.6:orange\"];\n",
    "    \n",
    "    A [label=\"\"]\n",
    "}"
   ]
  },
  {
   "cell_type": "code",
   "execution_count": 77,
   "metadata": {
    "collapsed": false
   },
   "outputs": [
    {
     "data": {
      "text/html": [
       "<?xml version=\"1.0\" encoding=\"UTF-8\" standalone=\"no\"?>\r\n",
       "<!DOCTYPE svg PUBLIC \"-//W3C//DTD SVG 1.1//EN\"\r\n",
       " \"http://www.w3.org/Graphics/SVG/1.1/DTD/svg11.dtd\">\r\n",
       "<!-- Generated by graphviz version 2.38.0 (20140413.2041)\r\n",
       " -->\r\n",
       "<!-- Title: G Pages: 1 -->\r\n",
       "<svg width=\"748pt\" height=\"472pt\"\r\n",
       " viewBox=\"0.00 0.00 748.00 472.00\" xmlns=\"http://www.w3.org/2000/svg\" xmlns:xlink=\"http://www.w3.org/1999/xlink\">\r\n",
       "<g id=\"graph0\" class=\"graph\" transform=\"scale(1 1) rotate(0) translate(4 468)\">\r\n",
       "<title>G</title>\r\n",
       "<polygon fill=\"white\" stroke=\"none\" points=\"-4,4 -4,-468 744,-468 744,4 -4,4\"/>\r\n",
       "<g id=\"clust1\" class=\"cluster\"><title>cluster_02</title>\r\n",
       "<polygon fill=\"none\" stroke=\"none\" points=\"8,-8 8,-456 456,-456 456,-8 8,-8\"/>\r\n",
       "</g>\r\n",
       "<g id=\"clust2\" class=\"cluster\"><title>cluster_01</title>\r\n",
       "<polygon fill=\"none\" stroke=\"black\" points=\"464,-206 464,-281 732,-281 732,-206 464,-206\"/>\r\n",
       "<text text-anchor=\"middle\" x=\"598\" y=\"-265.8\" font-family=\"Times New Roman,serif\" font-size=\"14.00\">Disk Usage under /tmp</text>\r\n",
       "</g>\r\n",
       "<!-- A -->\r\n",
       "<g id=\"node1\" class=\"node\"><title>A</title>\r\n",
       "<path fill=\"red\" stroke=\"black\" stroke-width=\"0.5\" d=\"M232,-232C232,-232 448,-232 448,-232 448,-234.121 447.969,-236.241 447.906,-238.361 447.844,-240.48 447.75,-242.599 447.625,-244.716 447.501,-246.833 447.345,-248.948 447.157,-251.06 446.97,-253.173 446.752,-255.282 446.503,-257.388 446.254,-259.494 445.973,-261.596 445.662,-263.694 445.351,-265.791 445.009,-267.884 444.636,-269.972 444.263,-272.06 443.86,-274.142 443.426,-276.217 442.992,-278.293 442.527,-280.362 442.032,-282.424 441.537,-284.486 441.011,-286.541 440.456,-288.587 439.9,-290.634 439.315,-292.672 438.699,-294.701 438.084,-296.731 437.438,-298.751 436.763,-300.761 436.088,-302.772 435.383,-304.772 434.649,-306.761 433.915,-308.751 433.152,-310.729 432.36,-312.697 431.568,-314.664 430.746,-316.619 429.897,-318.562 429.047,-320.505 428.168,-322.435 427.262,-324.352 426.355,-326.269 425.42,-328.172 424.457,-330.062 423.495,-331.951 422.504,-333.827 421.486,-335.687 420.468,-337.547 419.423,-339.392 418.351,-341.222 417.278,-343.052 416.179,-344.865 415.053,-346.662 413.928,-348.459 412.776,-350.24 411.597,-352.003 410.419,-353.766 409.215,-355.512 407.986,-357.24 406.756,-358.968 405.501,-360.677 404.221,-362.368 402.941,-364.059 401.637,-365.731 400.307,-367.383 398.978,-369.036 397.625,-370.668 396.248,-372.281 394.87,-373.893 393.47,-375.485 392.045,-377.057 390.621,-378.628 389.174,-380.178 387.704,-381.707 386.235,-383.236 384.742,-384.742 383.228,-386.227 381.714,-387.712 380.178,-389.174 378.621,-390.614 377.064,-392.053 375.485,-393.47 373.886,-394.863 372.288,-396.256 370.668,-397.625 369.029,-398.97 367.39,-400.316 365.731,-401.637 364.053,-402.933 362.374,-404.23 360.677,-405.501 358.962,-406.748 357.246,-407.994 355.512,-409.215 353.761,-410.411 352.009,-411.606 350.24,-412.776 348.454,-413.919 346.668,-415.062 344.865,-416.179 343.046,-417.269 341.227,-418.36 339.392,-419.423 337.542,-420.459 335.692,-421.495 333.827,-422.504 331.947,-423.485 330.067,-424.467 328.172,-425.42 326.264,-426.346 324.356,-427.271 322.435,-428.168 320.5,-429.037 318.566,-429.906 316.619,-430.746 314.66,-431.558 312.7,-432.37 310.729,-433.152 308.747,-433.906 306.765,-434.659 304.772,-435.383 302.768,-436.078 300.765,-436.773 298.751,-437.438 296.728,-438.074 294.705,-438.709 292.672,-439.315 290.631,-439.89 288.59,-440.466 286.541,-441.011 284.484,-441.527 282.427,-442.042 280.362,-442.527 278.291,-442.981 276.219,-443.436 274.141,-443.86 272.058,-444.253 269.974,-444.646 267.884,-445.009 265.79,-445.341 263.695,-445.672 261.596,-445.973 259.493,-446.243 257.389,-446.513 255.282,-446.752 253.172,-446.96 251.061,-447.168 248.948,-447.345 246.832,-447.49 244.717,-447.636 242.599,-447.75 240.48,-447.833 238.361,-447.917 236.241,-447.969 234.121,-447.99 232,-448.01 229.879,-448 227.759,-447.958 225.639,-447.917 223.519,-447.844 221.401,-447.74 219.283,-447.636 217.167,-447.501 215.053,-447.334 212.939,-447.168 210.827,-446.97 208.719,-446.742 206.611,-446.513 204.506,-446.254 202.405,-445.963 200.305,-445.672 198.208,-445.351 196.117,-444.999 194.026,-444.646 191.94,-444.263 189.86,-443.85 187.781,-443.436 185.707,-442.992 183.64,-442.517 181.573,-442.042 179.514,-441.537 177.462,-441.001 175.41,-440.466 173.366,-439.9 171.331,-439.305 169.296,-438.709 167.269,-438.084 165.252,-437.428 165.252,-437.428 232,-232 232,-232\"/>\r\n",
       "<path fill=\"green\" stroke=\"black\" stroke-width=\"0.5\" d=\"M232,-232C232,-232 165.252,-437.428 165.252,-437.428 163.235,-436.773 161.228,-436.088 159.232,-435.374 157.235,-434.659 155.249,-433.915 153.274,-433.142 151.3,-432.37 149.336,-431.568 147.385,-430.737 145.434,-429.906 143.495,-429.047 141.569,-428.159 139.644,-427.271 137.731,-426.355 135.832,-425.411 133.933,-424.467 132.049,-423.495 130.178,-422.495 128.308,-421.495 126.453,-420.468 124.613,-419.414 122.773,-418.36 120.948,-417.278 119.14,-416.17 117.332,-415.062 115.54,-413.928 113.766,-412.767 111.991,-411.606 110.234,-410.419 108.494,-409.207 106.754,-407.994 105.032,-406.756 103.329,-405.493 101.626,-404.23 99.941,-402.941 98.2757,-401.628 96.6103,-400.316 94.9644,-398.978 93.3384,-397.617 91.7125,-396.256 90.1066,-394.87 88.5215,-393.462 86.9363,-392.053 85.3719,-390.621 83.8289,-389.167 82.2859,-387.712 80.7644,-386.235 79.2649,-384.735 77.7654,-383.236 76.2881,-381.714 74.8334,-380.171 73.3787,-378.628 71.9468,-377.064 70.5382,-375.479 69.1296,-373.893 67.7444,-372.288 66.383,-370.662 65.0217,-369.036 63.6844,-367.39 62.3715,-365.724 61.0587,-364.059 59.7704,-362.374 58.5072,-360.671 57.2439,-358.968 56.0058,-357.246 54.7933,-355.506 53.5807,-353.766 52.3939,-352.009 51.2331,-350.234 50.0723,-348.459 48.9377,-346.668 47.8297,-344.86 46.7217,-343.052 45.6404,-341.227 44.5861,-339.387 43.5318,-337.547 42.5046,-335.692 41.505,-333.822 40.5053,-331.951 39.5333,-330.067 38.5891,-328.168 37.645,-326.269 36.7289,-324.356 35.8411,-322.43 34.9532,-320.505 34.0938,-318.566 33.2631,-316.615 32.4324,-314.664 31.6305,-312.7 30.8576,-310.726 30.0847,-308.751 29.3409,-306.765 28.6265,-304.768 27.9121,-302.772 27.2271,-300.764 26.5718,-298.748 25.9165,-296.731 25.2909,-294.704 24.6953,-292.669 24.0997,-290.634 23.534,-288.59 22.9986,-286.538 22.4632,-284.486 21.958,-282.427 21.4832,-280.36 21.0084,-278.293 20.5641,-276.219 20.1504,-274.139 19.7367,-272.06 19.3536,-269.974 19.0013,-267.883 18.649,-265.791 18.3276,-263.695 18.037,-261.595 17.7465,-259.494 17.4869,-257.389 17.2583,-255.281 17.0297,-253.173 16.8322,-251.061 16.6659,-248.947 16.4995,-246.833 16.3642,-244.717 16.2602,-242.599 16.1561,-240.481 16.0833,-238.361 16.0416,-236.241 16,-234.121 15.9896,-232 16.0104,-229.879 16.0312,-227.759 16.0833,-225.639 16.1665,-223.52 16.2498,-221.401 16.3642,-219.283 16.5099,-217.168 16.6555,-215.052 16.8322,-212.939 17.0401,-210.828 17.248,-208.718 17.4869,-206.611 17.7568,-204.507 18.0267,-202.404 18.3276,-200.305 18.6593,-198.21 18.9911,-196.116 19.3536,-194.026 19.7469,-191.942 20.1402,-189.858 20.5641,-187.781 21.0186,-185.709 21.473,-183.638 21.958,-181.573 22.4733,-179.516 22.9885,-177.459 23.5341,-175.41 24.1097,-173.369 24.6853,-171.328 25.2909,-169.295 25.9264,-167.272 26.5619,-165.249 27.2271,-163.235 27.9219,-161.232 28.6167,-159.228 29.3409,-157.235 30.0944,-155.253 30.8479,-153.271 31.6305,-151.3 32.442,-149.34 33.2536,-147.381 34.0939,-145.434 34.9628,-143.5 35.8316,-141.565 36.7289,-139.644 37.6544,-137.736 38.5798,-135.828 39.5333,-133.933 40.5146,-132.053 41.4958,-130.173 42.5047,-128.308 43.5409,-126.458 44.5771,-124.608 45.6404,-122.773 46.7306,-120.954 47.8208,-119.135 48.9378,-117.332 50.0811,-115.546 51.2244,-113.76 52.3939,-111.991 53.5893,-110.239 54.7847,-108.488 56.0059,-106.754 57.2523,-105.038 58.4988,-103.323 59.7705,-101.626 61.0669,-99.9474 62.3634,-98.2693 63.6845,-96.6103 65.0298,-94.971 66.3751,-93.3318 67.7444,-91.7124 69.1374,-90.1135 70.5304,-88.5146 71.9469,-86.9362 73.3864,-85.379 74.8258,-83.8218 76.2882,-82.2859 77.7729,-80.7717 79.2576,-79.2576 80.7645,-77.7654 82.2932,-76.2956 83.8218,-74.8258 85.372,-73.3787 86.9433,-71.9545 88.5146,-70.5304 90.1067,-69.1295 91.7192,-67.7523 93.3318,-66.3751 94.9645,-65.0217 96.6169,-63.6925 98.2693,-62.3634 99.9411,-61.0586 101.632,-59.7787 103.323,-58.4988 105.032,-57.2439 106.76,-56.0143 108.488,-54.7847 110.234,-53.5807 111.997,-52.4025 113.76,-51.2244 115.541,-50.0723 117.338,-48.9466 119.135,-47.8208 120.949,-46.7217 122.778,-45.6494 124.608,-44.5771 126.453,-43.5317 128.313,-42.5138 130.173,-41.4958 132.049,-40.5053 133.938,-39.5426 135.828,-38.5798 137.731,-37.645 139.648,-36.7383 141.565,-35.8316 143.495,-34.9532 145.438,-34.1034 147.381,-33.2536 149.336,-32.4324 151.304,-31.6401 153.271,-30.8479 155.249,-30.0846 157.239,-29.3507 159.228,-28.6167 161.229,-27.912 163.239,-27.237 165.249,-26.5619 167.269,-25.9165 169.299,-25.3009 171.328,-24.6853 173.366,-24.0996 175.413,-23.5441 177.459,-22.9885 179.514,-22.4631 181.576,-21.9681 183.638,-21.473 185.707,-21.0084 187.783,-20.5743 189.858,-20.1402 191.94,-19.7367 194.028,-19.3639 196.116,-18.9911 198.209,-18.649 200.306,-18.3379 202.404,-18.0267 204.506,-17.7465 206.612,-17.4972 208.718,-17.248 210.827,-17.0297 212.94,-16.8426 215.052,-16.6555 217.167,-16.4995 219.284,-16.3746 221.401,-16.2498 223.52,-16.1561 225.639,-16.0937 227.759,-16.0312 229.879,-16 232,-16 234.121,-16 236.241,-16.0312 238.361,-16.0937 240.481,-16.1561 242.599,-16.2498 244.716,-16.3746 246.833,-16.4995 248.948,-16.6555 251.06,-16.8426 253.173,-17.0297 255.282,-17.248 257.388,-17.4972 259.494,-17.7465 261.596,-18.0267 263.694,-18.3379 265.791,-18.649 267.884,-18.9911 269.972,-19.3639 272.06,-19.7367 274.142,-20.1402 276.217,-20.5743 278.293,-21.0084 280.362,-21.4731 282.424,-21.9681 284.486,-22.4632 286.541,-22.9885 288.587,-23.5441 290.634,-24.0997 292.672,-24.6853 294.702,-25.3009 296.731,-25.9165 298.751,-26.5619 300.761,-27.237 302.772,-27.9121 304.772,-28.6167 306.761,-29.3507 308.751,-30.0847 310.729,-30.8479 312.697,-31.6402 314.664,-32.4324 316.619,-33.2536 318.562,-34.1034 320.505,-34.9533 322.435,-35.8317 324.352,-36.7383 326.269,-37.645 328.173,-38.5799 330.062,-39.5426 331.951,-40.5053 333.827,-41.4959 335.687,-42.5138 337.547,-43.5318 339.393,-44.5771 341.222,-45.6494 343.052,-46.7217 344.865,-47.8209 346.662,-48.9466 348.46,-50.0723 350.24,-51.2244 352.003,-52.4026 353.766,-53.5807 355.512,-54.7848 357.24,-56.0144 358.968,-57.2439 360.677,-58.4989 362.368,-59.7788 364.059,-61.0587 365.731,-62.3634 367.383,-63.6926 369.036,-65.0217 370.668,-66.3751 372.281,-67.7523 373.893,-69.1296 375.485,-70.5305 377.057,-71.9546 378.628,-73.3787 380.178,-74.8259 381.707,-76.2957 383.236,-77.7654 384.742,-79.2576 386.227,-80.7718 387.712,-82.2859 389.174,-83.8219 390.614,-85.3791 392.053,-86.9363 393.47,-88.5146 394.863,-90.1135 396.256,-91.7125 397.625,-93.3318 398.97,-94.9711 400.316,-96.6103 401.637,-98.2693 402.933,-99.9475 404.23,-101.626 405.501,-103.323 406.748,-105.038 406.748,-105.038 232,-232 232,-232\"/>\r\n",
       "<path fill=\"orange\" stroke=\"black\" stroke-width=\"0.5\" d=\"M232,-232C232,-232 406.748,-105.038 406.748,-105.038 408.41,-107.326 410.027,-109.646 411.597,-111.997 413.168,-114.348 414.693,-116.729 416.17,-119.14 417.648,-121.551 419.078,-123.991 420.459,-126.458 421.841,-128.925 423.174,-131.419 424.457,-133.938 425.741,-136.457 426.975,-139.002 428.159,-141.57 429.343,-144.137 430.476,-146.728 431.558,-149.34 432.64,-151.953 433.671,-154.586 434.649,-157.239 435.628,-159.891 436.554,-162.563 437.428,-165.252 438.302,-167.941 439.123,-170.648 439.89,-173.369 440.658,-176.09 441.372,-178.826 442.032,-181.576 442.692,-184.325 443.298,-187.087 443.85,-189.861 444.401,-192.634 444.898,-195.417 445.341,-198.21 445.783,-201.003 446.17,-203.804 446.503,-206.612 446.835,-209.42 447.112,-212.234 447.334,-215.053 447.556,-217.872 447.722,-220.695 447.833,-223.52 447.944,-226.345 448,-229.172 448,-232 448,-232 232,-232 232,-232\"/>\r\n",
       "<ellipse fill=\"none\" stroke=\"black\" cx=\"232\" cy=\"-232\" rx=\"216\" ry=\"216\"/>\r\n",
       "</g>\r\n",
       "<!-- key1 -->\r\n",
       "<g id=\"node2\" class=\"node\"><title>key1</title>\r\n",
       "<polygon fill=\"red\" stroke=\"none\" points=\"724,-250 652,-250 652,-214 724,-214 724,-250\"/>\r\n",
       "<text text-anchor=\"middle\" x=\"688\" y=\"-228.3\" font-family=\"Times New Roman,serif\" font-size=\"14.00\">dir1/</text>\r\n",
       "</g>\r\n",
       "<!-- key2 -->\r\n",
       "<g id=\"node3\" class=\"node\"><title>key2</title>\r\n",
       "<polygon fill=\"green\" stroke=\"none\" points=\"634,-250 562,-250 562,-214 634,-214 634,-250\"/>\r\n",
       "<text text-anchor=\"middle\" x=\"598\" y=\"-228.3\" font-family=\"Times New Roman,serif\" font-size=\"14.00\">dir2/</text>\r\n",
       "</g>\r\n",
       "<!-- key3 -->\r\n",
       "<g id=\"node4\" class=\"node\"><title>key3</title>\r\n",
       "<polygon fill=\"orange\" stroke=\"none\" points=\"544,-250 472,-250 472,-214 544,-214 544,-250\"/>\r\n",
       "<text text-anchor=\"middle\" x=\"508\" y=\"-228.3\" font-family=\"Times New Roman,serif\" font-size=\"14.00\">file1</text>\r\n",
       "</g>\r\n",
       "</g>\r\n",
       "</svg>\r\n"
      ],
      "text/plain": [
       "<IPython.core.display.HTML object>"
      ]
     },
     "metadata": {},
     "output_type": "display_data"
    }
   ],
   "source": [
    "%%dot\n",
    "\n",
    "digraph G {\n",
    "    //rankdir=TB;\n",
    "    node [shape=circle fizedsize=true width=6 style=wedged fillcolor=\"red;0.3:green;0.6:orange\"];\n",
    "    \n",
    "    subgraph cluster_02 {\n",
    "        //rankType=\"same\";\n",
    "        color=\"invis\"; // No border on cluster\n",
    "\n",
    "    A [label=\"\"]\n",
    "    }\n",
    "    \n",
    "    //rankdir=TB;\n",
    "    node [shape=plaintext fixedsize=true width=1 style=\"filled\" fillcolor=\"lightyellow2\"];\n",
    "    subgraph cluster_01 {\n",
    "        //rankType=\"min\";\n",
    "\n",
    "        label = \"Disk Usage under /tmp\";\n",
    "        width=1\n",
    "        key1 [label=\"dir1/\" fillcolor=\"red\"]\n",
    "        key2 [label=\"dir2/\" fillcolor=\"green\"]\n",
    "        key3 [label=\"file1\" fillcolor=\"orange\"]\n",
    "    };\n",
    "    \n",
    "}"
   ]
  },
  {
   "cell_type": "code",
   "execution_count": 78,
   "metadata": {
    "collapsed": false
   },
   "outputs": [
    {
     "data": {
      "text/html": [
       "<?xml version=\"1.0\" encoding=\"UTF-8\" standalone=\"no\"?>\r\n",
       "<!DOCTYPE svg PUBLIC \"-//W3C//DTD SVG 1.1//EN\"\r\n",
       " \"http://www.w3.org/Graphics/SVG/1.1/DTD/svg11.dtd\">\r\n",
       "<!-- Generated by graphviz version 2.38.0 (20140413.2041)\r\n",
       " -->\r\n",
       "<!-- Title: G Pages: 1 -->\r\n",
       "<svg width=\"726pt\" height=\"440pt\"\r\n",
       " viewBox=\"0.00 0.00 726.00 440.00\" xmlns=\"http://www.w3.org/2000/svg\" xmlns:xlink=\"http://www.w3.org/1999/xlink\">\r\n",
       "<g id=\"graph0\" class=\"graph\" transform=\"scale(1 1) rotate(0) translate(4 436)\">\r\n",
       "<title>G</title>\r\n",
       "<polygon fill=\"white\" stroke=\"none\" points=\"-4,4 -4,-436 722,-436 722,4 -4,4\"/>\r\n",
       "<g id=\"clust1\" class=\"cluster\"><title>cluster_01</title>\r\n",
       "<polygon fill=\"none\" stroke=\"black\" points=\"442,-190 442,-265 710,-265 710,-190 442,-190\"/>\r\n",
       "<text text-anchor=\"middle\" x=\"576\" y=\"-249.8\" font-family=\"Times New Roman,serif\" font-size=\"14.00\">Disk Usage under /tmp</text>\r\n",
       "</g>\r\n",
       "<!-- A -->\r\n",
       "<g id=\"node1\" class=\"node\"><title>A</title>\r\n",
       "<path fill=\"red\" stroke=\"black\" stroke-width=\"0.5\" d=\"M216,-216C216,-216 432,-216 432,-216 432,-218.121 431.969,-220.241 431.906,-222.361 431.844,-224.48 431.75,-226.599 431.625,-228.716 431.501,-230.833 431.345,-232.948 431.157,-235.06 430.97,-237.173 430.752,-239.282 430.503,-241.388 430.254,-243.494 429.973,-245.596 429.662,-247.694 429.351,-249.791 429.009,-251.884 428.636,-253.972 428.263,-256.06 427.86,-258.142 427.426,-260.217 426.992,-262.293 426.527,-264.362 426.032,-266.424 425.537,-268.486 425.011,-270.541 424.456,-272.587 423.9,-274.634 423.315,-276.672 422.699,-278.701 422.084,-280.731 421.438,-282.751 420.763,-284.761 420.088,-286.772 419.383,-288.772 418.649,-290.761 417.915,-292.751 417.152,-294.729 416.36,-296.697 415.568,-298.664 414.746,-300.619 413.897,-302.562 413.047,-304.505 412.168,-306.435 411.262,-308.352 410.355,-310.269 409.42,-312.172 408.457,-314.062 407.495,-315.951 406.504,-317.827 405.486,-319.687 404.468,-321.547 403.423,-323.392 402.351,-325.222 401.278,-327.052 400.179,-328.865 399.053,-330.662 397.928,-332.459 396.776,-334.24 395.597,-336.003 394.419,-337.766 393.215,-339.512 391.986,-341.24 390.756,-342.968 389.501,-344.677 388.221,-346.368 386.941,-348.059 385.637,-349.731 384.307,-351.383 382.978,-353.036 381.625,-354.668 380.248,-356.281 378.87,-357.893 377.47,-359.485 376.045,-361.057 374.621,-362.628 373.174,-364.178 371.704,-365.707 370.235,-367.236 368.742,-368.742 367.228,-370.227 365.714,-371.712 364.178,-373.174 362.621,-374.614 361.064,-376.053 359.485,-377.47 357.886,-378.863 356.288,-380.256 354.668,-381.625 353.029,-382.97 351.39,-384.316 349.731,-385.637 348.053,-386.933 346.374,-388.23 344.677,-389.501 342.962,-390.748 341.246,-391.994 339.512,-393.215 337.761,-394.411 336.009,-395.606 334.24,-396.776 332.454,-397.919 330.668,-399.062 328.865,-400.179 327.046,-401.269 325.227,-402.36 323.392,-403.423 321.542,-404.459 319.692,-405.495 317.827,-406.504 315.947,-407.485 314.067,-408.467 312.172,-409.42 310.264,-410.346 308.356,-411.271 306.435,-412.168 304.5,-413.037 302.566,-413.906 300.619,-414.746 298.66,-415.558 296.7,-416.37 294.729,-417.152 292.747,-417.906 290.765,-418.659 288.772,-419.383 286.768,-420.078 284.765,-420.773 282.751,-421.438 280.728,-422.074 278.705,-422.709 276.672,-423.315 274.631,-423.89 272.59,-424.466 270.541,-425.011 268.484,-425.527 266.427,-426.042 264.362,-426.527 262.291,-426.981 260.219,-427.436 258.141,-427.86 256.058,-428.253 253.974,-428.646 251.884,-429.009 249.79,-429.341 247.695,-429.672 245.596,-429.973 243.493,-430.243 241.389,-430.513 239.282,-430.752 237.172,-430.96 235.061,-431.168 232.948,-431.345 230.832,-431.49 228.717,-431.636 226.599,-431.75 224.48,-431.833 222.361,-431.917 220.241,-431.969 218.121,-431.99 216,-432.01 213.879,-432 211.759,-431.958 209.639,-431.917 207.519,-431.844 205.401,-431.74 203.283,-431.636 201.167,-431.501 199.053,-431.334 196.939,-431.168 194.827,-430.97 192.719,-430.742 190.611,-430.513 188.506,-430.254 186.405,-429.963 184.305,-429.672 182.208,-429.351 180.117,-428.999 178.026,-428.646 175.94,-428.263 173.86,-427.85 171.781,-427.436 169.707,-426.992 167.64,-426.517 165.573,-426.042 163.514,-425.537 161.462,-425.001 159.41,-424.466 157.366,-423.9 155.331,-423.305 153.296,-422.709 151.269,-422.084 149.252,-421.428 149.252,-421.428 216,-216 216,-216\"/>\r\n",
       "<path fill=\"green\" stroke=\"black\" stroke-width=\"0.5\" d=\"M216,-216C216,-216 149.252,-421.428 149.252,-421.428 147.235,-420.773 145.228,-420.088 143.232,-419.374 141.235,-418.659 139.249,-417.915 137.274,-417.142 135.3,-416.37 133.336,-415.568 131.385,-414.737 129.434,-413.906 127.495,-413.047 125.569,-412.159 123.644,-411.271 121.731,-410.355 119.832,-409.411 117.933,-408.467 116.049,-407.495 114.178,-406.495 112.308,-405.495 110.453,-404.468 108.613,-403.414 106.773,-402.36 104.948,-401.278 103.14,-400.17 101.332,-399.062 99.5405,-397.928 97.7658,-396.767 95.9911,-395.606 94.2335,-394.419 92.4938,-393.207 90.754,-391.994 89.0322,-390.756 87.3289,-389.493 85.6256,-388.23 83.941,-386.941 82.2757,-385.628 80.6103,-384.316 78.9644,-382.978 77.3384,-381.617 75.7125,-380.256 74.1066,-378.87 72.5215,-377.462 70.9363,-376.053 69.3719,-374.621 67.8289,-373.167 66.2859,-371.712 64.7644,-370.235 63.2649,-368.735 61.7654,-367.236 60.2881,-365.714 58.8334,-364.171 57.3787,-362.628 55.9468,-361.064 54.5382,-359.479 53.1296,-357.893 51.7444,-356.288 50.383,-354.662 49.0217,-353.036 47.6844,-351.39 46.3715,-349.724 45.0587,-348.059 43.7704,-346.374 42.5072,-344.671 41.2439,-342.968 40.0058,-341.246 38.7933,-339.506 37.5807,-337.766 36.3939,-336.009 35.2331,-334.234 34.0723,-332.459 32.9377,-330.668 31.8297,-328.86 30.7217,-327.052 29.6404,-325.227 28.5861,-323.387 27.5318,-321.547 26.5046,-319.692 25.505,-317.822 24.5053,-315.951 23.5333,-314.067 22.5891,-312.168 21.645,-310.269 20.7289,-308.356 19.8411,-306.43 18.9532,-304.505 18.0938,-302.566 17.2631,-300.615 16.4324,-298.664 15.6305,-296.7 14.8576,-294.726 14.0847,-292.751 13.3409,-290.765 12.6265,-288.768 11.9121,-286.772 11.2271,-284.764 10.5718,-282.748 9.91648,-280.731 9.29091,-278.704 8.69528,-276.669 8.09965,-274.634 7.53403,-272.59 6.99859,-270.538 6.46315,-268.486 5.95796,-266.427 5.48318,-264.36 5.0084,-262.293 4.56409,-260.219 4.15037,-258.139 3.73666,-256.06 3.3536,-253.974 3.00132,-251.883 2.64904,-249.791 2.32757,-247.695 2.03702,-245.595 1.74647,-243.494 1.48687,-241.389 1.2583,-239.281 1.02974,-237.173 0.832235,-235.061 0.665854,-232.947 0.499473,-230.833 0.364233,-228.717 0.26018,-226.599 0.156127,-224.481 0.0832707,-222.361 0.0416355,-220.241 3.20543e-007,-218.121 -0.0104095,-216 0.0104095,-213.879 0.0312285,-211.759 0.0832741,-209.639 0.166529,-207.52 0.249784,-205.401 0.36424,-203.283 0.509859,-201.168 0.655478,-199.052 0.832245,-196.939 1.0401,-194.828 1.24796,-192.718 1.48688,-190.611 1.7568,-188.507 2.02671,-186.404 2.32759,-184.305 2.65932,-182.21 2.99106,-180.116 3.35362,-178.026 3.7469,-175.942 4.14017,-173.858 4.56411,-171.781 5.01858,-169.709 5.47304,-167.638 5.95799,-165.573 6.47326,-163.516 6.98852,-161.459 7.53406,-159.41 8.10968,-157.369 8.6853,-155.328 9.29094,-153.295 9.92642,-151.272 10.5619,-149.249 11.2271,-147.235 11.9219,-145.232 12.6167,-143.228 13.3409,-141.235 14.0944,-139.253 14.8479,-137.271 15.6305,-135.3 16.442,-133.34 17.2536,-131.381 18.0939,-129.434 18.9628,-127.5 19.8316,-125.565 20.7289,-123.644 21.6544,-121.736 22.5798,-119.828 23.5333,-117.933 24.5146,-116.053 25.4958,-114.173 26.5047,-112.308 27.5409,-110.458 28.5771,-108.608 29.6404,-106.773 30.7306,-104.954 31.8208,-103.135 32.9378,-101.332 34.0811,-99.5461 35.2244,-97.7601 36.3939,-95.991 37.5893,-94.2394 38.7847,-92.4878 40.0059,-90.754 41.2523,-89.0384 42.4988,-87.3227 43.7705,-85.6256 45.0669,-83.9474 46.3634,-82.2693 47.6845,-80.6103 49.0298,-78.971 50.3751,-77.3318 51.7444,-75.7124 53.1374,-74.1135 54.5304,-72.5146 55.9469,-70.9362 57.3864,-69.379 58.8258,-67.8218 60.2882,-66.2859 61.7729,-64.7717 63.2576,-63.2576 64.7645,-61.7654 66.2932,-60.2956 67.8218,-58.8258 69.372,-57.3787 70.9433,-55.9545 72.5146,-54.5304 74.1067,-53.1295 75.7192,-51.7523 77.3318,-50.3751 78.9645,-49.0217 80.6169,-47.6925 82.2693,-46.3634 83.9411,-45.0586 85.6319,-43.7787 87.3228,-42.4988 89.0323,-41.2439 90.7601,-40.0143 92.4879,-38.7847 94.2336,-37.5807 95.9969,-36.4025 97.7601,-35.2244 99.5406,-34.0723 101.338,-32.9466 103.135,-31.8208 104.949,-30.7217 106.778,-29.6494 108.608,-28.5771 110.453,-27.5317 112.313,-26.5138 114.173,-25.4958 116.049,-24.5053 117.938,-23.5426 119.828,-22.5798 121.731,-21.645 123.648,-20.7383 125.565,-19.8316 127.495,-18.9532 129.438,-18.1034 131.381,-17.2536 133.336,-16.4324 135.304,-15.6401 137.271,-14.8479 139.249,-14.0846 141.239,-13.3507 143.228,-12.6167 145.229,-11.912 147.239,-11.237 149.249,-10.5619 151.269,-9.91646 153.299,-9.30088 155.328,-8.6853 157.366,-8.09963 159.413,-7.54408 161.459,-6.98852 163.514,-6.46314 165.576,-5.96809 167.638,-5.47304 169.707,-5.00839 171.783,-4.57428 173.858,-4.14017 175.94,-3.73665 178.028,-3.36385 180.116,-2.99106 182.209,-2.64903 184.306,-2.33787 186.404,-2.02671 188.506,-1.74646 190.612,-1.49721 192.718,-1.24796 194.827,-1.02973 196.94,-0.842605 199.052,-0.655478 201.167,-0.499468 203.284,-0.374626 205.401,-0.249784 207.52,-0.156124 209.639,-0.0936762 211.759,-0.0312284 213.879,3.97089e-007 216,-3.78009e-012 218.121,-3.97096e-007 220.241,-0.03123 222.361,-0.0936786 224.481,-0.156127 226.599,-0.249788 228.716,-0.374631 230.833,-0.499473 232.948,-0.655484 235.06,-0.842612 237.173,-1.02974 239.282,-1.24797 241.388,-1.49722 243.494,-1.74647 245.596,-2.02672 247.694,-2.33788 249.791,-2.64904 251.884,-2.99107 253.972,-3.36387 256.06,-3.73667 258.142,-4.14018 260.217,-4.57429 262.293,-5.0084 264.362,-5.47306 266.424,-5.96811 268.486,-6.46315 270.541,-6.98854 272.587,-7.5441 274.634,-8.09965 276.672,-8.68532 278.702,-9.3009 280.731,-9.91648 282.751,-10.5619 284.761,-11.237 286.772,-11.9121 288.772,-12.6167 290.761,-13.3507 292.751,-14.0847 294.729,-14.8479 296.697,-15.6402 298.664,-16.4324 300.619,-17.2536 302.562,-18.1034 304.505,-18.9533 306.435,-19.8317 308.352,-20.7383 310.269,-21.645 312.173,-22.5799 314.062,-23.5426 315.951,-24.5053 317.827,-25.4959 319.687,-26.5138 321.547,-27.5318 323.393,-28.5771 325.222,-29.6494 327.052,-30.7217 328.865,-31.8209 330.662,-32.9466 332.46,-34.0723 334.24,-35.2244 336.003,-36.4026 337.766,-37.5807 339.512,-38.7848 341.24,-40.0144 342.968,-41.2439 344.677,-42.4989 346.368,-43.7788 348.059,-45.0587 349.731,-46.3634 351.383,-47.6926 353.036,-49.0217 354.668,-50.3751 356.281,-51.7523 357.893,-53.1296 359.485,-54.5305 361.057,-55.9546 362.628,-57.3787 364.178,-58.8259 365.707,-60.2957 367.236,-61.7654 368.742,-63.2576 370.227,-64.7718 371.712,-66.2859 373.174,-67.8219 374.614,-69.3791 376.053,-70.9363 377.47,-72.5146 378.863,-74.1135 380.256,-75.7125 381.625,-77.3318 382.97,-78.9711 384.316,-80.6103 385.637,-82.2693 386.933,-83.9475 388.23,-85.6256 389.501,-87.3228 390.748,-89.0384 390.748,-89.0384 216,-216 216,-216\"/>\r\n",
       "<path fill=\"orange\" stroke=\"black\" stroke-width=\"0.5\" d=\"M216,-216C216,-216 390.748,-89.0384 390.748,-89.0384 392.41,-91.3259 394.027,-93.6459 395.597,-95.9969 397.168,-98.3479 398.693,-100.729 400.17,-103.14 401.648,-105.551 403.078,-107.991 404.459,-110.458 405.841,-112.925 407.174,-115.419 408.457,-117.938 409.741,-120.457 410.975,-123.002 412.159,-125.57 413.343,-128.137 414.476,-130.728 415.558,-133.34 416.64,-135.953 417.671,-138.586 418.649,-141.239 419.628,-143.891 420.554,-146.563 421.428,-149.252 422.302,-151.941 423.123,-154.648 423.89,-157.369 424.658,-160.09 425.372,-162.826 426.032,-165.576 426.692,-168.325 427.298,-171.087 427.85,-173.861 428.401,-176.634 428.898,-179.417 429.341,-182.21 429.783,-185.003 430.17,-187.804 430.503,-190.612 430.835,-193.42 431.112,-196.234 431.334,-199.053 431.556,-201.872 431.722,-204.695 431.833,-207.52 431.944,-210.345 432,-213.172 432,-216 432,-216 216,-216 216,-216\"/>\r\n",
       "<ellipse fill=\"none\" stroke=\"black\" cx=\"216\" cy=\"-216\" rx=\"216\" ry=\"216\"/>\r\n",
       "</g>\r\n",
       "<!-- key1 -->\r\n",
       "<g id=\"node2\" class=\"node\"><title>key1</title>\r\n",
       "<polygon fill=\"red\" stroke=\"none\" points=\"702,-234 630,-234 630,-198 702,-198 702,-234\"/>\r\n",
       "<text text-anchor=\"middle\" x=\"666\" y=\"-212.3\" font-family=\"Times New Roman,serif\" font-size=\"14.00\">dir1/</text>\r\n",
       "</g>\r\n",
       "<!-- key2 -->\r\n",
       "<g id=\"node3\" class=\"node\"><title>key2</title>\r\n",
       "<polygon fill=\"green\" stroke=\"none\" points=\"612,-234 540,-234 540,-198 612,-198 612,-234\"/>\r\n",
       "<text text-anchor=\"middle\" x=\"576\" y=\"-212.3\" font-family=\"Times New Roman,serif\" font-size=\"14.00\">dir2/</text>\r\n",
       "</g>\r\n",
       "<!-- key3 -->\r\n",
       "<g id=\"node4\" class=\"node\"><title>key3</title>\r\n",
       "<polygon fill=\"orange\" stroke=\"none\" points=\"522,-234 450,-234 450,-198 522,-198 522,-234\"/>\r\n",
       "<text text-anchor=\"middle\" x=\"486\" y=\"-212.3\" font-family=\"Times New Roman,serif\" font-size=\"14.00\">file1</text>\r\n",
       "</g>\r\n",
       "</g>\r\n",
       "</svg>\r\n"
      ],
      "text/plain": [
       "<IPython.core.display.HTML object>"
      ]
     },
     "metadata": {},
     "output_type": "display_data"
    }
   ],
   "source": [
    "%%dot\n",
    "\n",
    "digraph G {\n",
    "    rankdir=TB;\n",
    "    node [shape=circle fizedsize=true width=6 style=wedged fillcolor=\"red;0.3:green;0.6:orange\"];\n",
    "    \n",
    "    A [label=\"\"]\n",
    "    \n",
    "    rankdir=TB;\n",
    "    node [shape=plaintext fixedsize=true width=1 style=\"filled\" fillcolor=\"lightyellow2\"];\n",
    "    subgraph cluster_01 {\n",
    "        rankdir=LR;\n",
    "\n",
    "        label = \"Disk Usage under /tmp\";\n",
    "        width=1\n",
    "        key1 [label=\"dir1/\" fillcolor=\"red\"]\n",
    "        key2 [label=\"dir2/\" fillcolor=\"green\"]\n",
    "        key3 [label=\"file1\" fillcolor=\"orange\"]\n",
    "    };\n",
    "    \n",
    "}"
   ]
  },
  {
   "cell_type": "code",
   "execution_count": 79,
   "metadata": {
    "collapsed": false
   },
   "outputs": [
    {
     "data": {
      "text/html": [
       "<?xml version=\"1.0\" encoding=\"UTF-8\" standalone=\"no\"?>\r\n",
       "<!DOCTYPE svg PUBLIC \"-//W3C//DTD SVG 1.1//EN\"\r\n",
       " \"http://www.w3.org/Graphics/SVG/1.1/DTD/svg11.dtd\">\r\n",
       "<!-- Generated by graphviz version 2.38.0 (20140413.2041)\r\n",
       " -->\r\n",
       "<!-- Title: G Pages: 1 -->\r\n",
       "<svg width=\"728pt\" height=\"927pt\"\r\n",
       " viewBox=\"0.00 0.00 728.00 927.00\" xmlns=\"http://www.w3.org/2000/svg\" xmlns:xlink=\"http://www.w3.org/1999/xlink\">\r\n",
       "<g id=\"graph0\" class=\"graph\" transform=\"scale(1 1) rotate(0) translate(4 923)\">\r\n",
       "<title>G</title>\r\n",
       "<polygon fill=\"white\" stroke=\"none\" points=\"-4,4 -4,-923 724,-923 724,4 -4,4\"/>\r\n",
       "<g id=\"clust1\" class=\"cluster\"><title>cluster_01</title>\r\n",
       "<polygon fill=\"none\" stroke=\"black\" points=\"325,-8 325,-191 395,-191 395,-8 325,-8\"/>\r\n",
       "<text text-anchor=\"middle\" x=\"360\" y=\"-175.8\" font-family=\"Times New Roman,serif\" font-size=\"14.00\">du</text>\r\n",
       "</g>\r\n",
       "<!-- key3 -->\r\n",
       "<g id=\"node1\" class=\"node\"><title>key3</title>\r\n",
       "<polygon fill=\"lightgrey\" stroke=\"none\" points=\"387,-160 333,-160 333,-124 387,-124 387,-160\"/>\r\n",
       "<text text-anchor=\"middle\" x=\"360\" y=\"-138.3\" font-family=\"Times New Roman,serif\" font-size=\"14.00\">key3</text>\r\n",
       "</g>\r\n",
       "<!-- key2 -->\r\n",
       "<g id=\"node2\" class=\"node\"><title>key2</title>\r\n",
       "<polygon fill=\"lightgrey\" stroke=\"none\" points=\"387,-106 333,-106 333,-70 387,-70 387,-106\"/>\r\n",
       "<text text-anchor=\"middle\" x=\"360\" y=\"-84.3\" font-family=\"Times New Roman,serif\" font-size=\"14.00\">key2</text>\r\n",
       "</g>\r\n",
       "<!-- key1 -->\r\n",
       "<g id=\"node3\" class=\"node\"><title>key1</title>\r\n",
       "<polygon fill=\"lightgrey\" stroke=\"none\" points=\"387,-52 333,-52 333,-16 387,-16 387,-52\"/>\r\n",
       "<text text-anchor=\"middle\" x=\"360\" y=\"-30.3\" font-family=\"Times New Roman,serif\" font-size=\"14.00\">key1</text>\r\n",
       "</g>\r\n",
       "<!-- A -->\r\n",
       "<g id=\"node4\" class=\"node\"><title>A</title>\r\n",
       "<path fill=\"red\" stroke=\"black\" stroke-width=\"0.5\" d=\"M360,-559C360,-559 720,-559 720,-559 720,-562.534 719.948,-566.069 719.844,-569.601 719.74,-573.134 719.584,-576.665 719.376,-580.193 719.168,-583.722 718.908,-587.247 718.596,-590.767 718.284,-594.288 717.92,-597.804 717.505,-601.313 717.089,-604.823 716.622,-608.327 716.104,-611.823 715.585,-615.319 715.015,-618.807 714.394,-622.287 713.772,-625.766 713.1,-629.236 712.376,-632.695 711.653,-636.155 710.878,-639.604 710.053,-643.04 709.228,-646.477 708.352,-649.901 707.427,-653.312 706.501,-656.723 705.524,-660.12 704.499,-663.502 703.473,-666.885 702.397,-670.252 701.272,-673.602 700.147,-676.953 698.972,-680.286 697.749,-683.602 696.526,-686.918 695.254,-690.216 693.933,-693.494 692.613,-696.773 691.244,-700.031 689.828,-703.27 688.411,-706.508 686.947,-709.725 685.436,-712.92 683.925,-716.115 682.367,-719.287 680.762,-722.437 679.158,-725.586 677.507,-728.711 675.81,-731.812 674.114,-734.912 672.372,-737.987 670.584,-741.037 668.797,-744.086 666.965,-747.109 665.089,-750.104 663.213,-753.099 661.293,-756.067 659.329,-759.005 657.365,-761.944 655.359,-764.854 653.309,-767.733 651.26,-770.613 649.169,-773.462 647.035,-776.28 644.902,-779.098 642.728,-781.885 640.512,-784.639 638.297,-787.393 636.042,-790.114 633.746,-792.801 631.451,-795.489 629.116,-798.142 626.742,-800.761 624.369,-803.38 621.957,-805.964 619.507,-808.511 617.058,-811.059 614.571,-813.571 612.047,-816.045 609.524,-818.52 606.964,-820.957 604.368,-823.356 601.773,-825.755 599.142,-828.116 596.477,-830.438 593.813,-832.759 591.114,-835.042 588.382,-837.284 585.649,-839.526 582.885,-841.728 580.088,-843.889 577.291,-846.049 574.462,-848.169 571.603,-850.246 568.743,-852.324 565.854,-854.359 562.934,-856.351 560.015,-858.343 557.066,-860.293 554.09,-862.198 551.113,-864.104 548.108,-865.965 545.077,-867.782 542.045,-869.599 538.987,-871.372 535.904,-873.099 532.82,-874.826 529.711,-876.507 526.578,-878.142 523.444,-879.778 520.287,-881.367 517.107,-882.909 513.927,-884.452 510.725,-885.947 507.501,-887.395 504.277,-888.844 501.031,-890.244 497.766,-891.597 494.501,-892.949 491.216,-894.254 487.912,-895.509 484.608,-896.765 481.286,-897.972 477.947,-899.13 474.608,-900.288 471.251,-901.397 467.879,-902.456 464.508,-903.515 461.12,-904.525 457.719,-905.484 454.317,-906.443 450.901,-907.352 447.473,-908.211 444.044,-909.07 440.604,-909.878 437.151,-910.636 433.699,-911.393 430.236,-912.1 426.763,-912.755 423.29,-913.411 419.807,-914.015 416.316,-914.568 412.826,-915.121 409.327,-915.622 405.821,-916.072 402.316,-916.522 398.803,-916.92 395.286,-917.267 391.769,-917.613 388.247,-917.908 384.721,-918.15 381.195,-918.393 377.665,-918.584 374.134,-918.722 370.602,-918.861 367.068,-918.948 363.534,-918.983 360,-919.017 356.466,-919 352.932,-918.931 349.398,-918.861 345.866,-918.74 342.336,-918.566 338.806,-918.393 335.278,-918.168 331.755,-917.89 328.231,-917.613 324.712,-917.284 321.198,-916.903 317.685,-916.522 314.177,-916.089 310.676,-915.605 307.175,-915.121 303.681,-914.585 300.196,-913.998 296.71,-913.411 293.234,-912.772 289.767,-912.083 286.301,-911.393 282.845,-910.653 279.4,-909.861 275.956,-909.07 272.523,-908.228 269.103,-907.336 265.683,-906.443 262.277,-905.501 258.885,-904.508 255.493,-903.515 252.115,-902.473 248.754,-901.38 248.754,-901.38 360,-559 360,-559\"/>\r\n",
       "<path fill=\"green\" stroke=\"black\" stroke-width=\"0.5\" d=\"M360,-559C360,-559 248.754,-901.38 248.754,-901.38 245.392,-900.288 242.047,-899.147 238.72,-897.956 235.392,-896.765 232.082,-895.526 228.791,-894.237 225.499,-892.949 222.227,-891.613 218.975,-890.228 215.723,-888.844 212.492,-887.411 209.282,-885.932 206.073,-884.452 202.885,-882.925 199.72,-881.351 196.556,-879.778 193.414,-878.158 190.297,-876.492 187.18,-874.826 184.088,-873.114 181.021,-871.357 177.955,-869.599 174.914,-867.797 171.9,-865.95 168.887,-864.104 165.901,-862.213 162.943,-860.278 159.985,-858.343 157.056,-856.365 154.156,-854.345 151.257,-852.324 148.387,-850.26 145.548,-848.155 142.709,-846.049 139.902,-843.902 137.126,-841.714 134.351,-839.526 131.607,-837.297 128.897,-835.028 126.187,-832.759 123.511,-830.451 120.869,-828.103 118.227,-825.755 115.62,-823.369 113.048,-820.944 110.477,-818.52 107.941,-816.058 105.442,-813.558 102.942,-811.059 100.48,-808.523 98.0557,-805.952 95.6312,-803.38 93.2447,-800.773 90.897,-798.131 88.5493,-795.489 86.2406,-792.813 83.9717,-790.103 81.7028,-787.393 79.474,-784.649 77.2859,-781.874 75.0978,-779.098 72.9507,-776.291 70.8453,-773.452 68.7399,-770.613 66.6764,-767.743 64.6555,-764.844 62.6346,-761.944 60.6565,-759.015 58.7218,-756.057 56.7872,-753.099 54.8962,-750.113 53.0495,-747.099 51.2028,-744.086 49.4006,-741.045 47.6435,-737.979 45.8863,-734.912 44.1744,-731.82 42.5083,-728.703 40.8422,-725.586 39.2222,-722.444 37.6486,-719.28 36.075,-716.115 34.5481,-712.927 33.0684,-709.717 31.5887,-706.508 30.1564,-703.276 28.7719,-700.025 27.3873,-696.773 26.0508,-693.501 24.7626,-690.209 23.4744,-686.918 22.2348,-683.608 21.0441,-680.28 19.8534,-676.953 18.7118,-673.607 17.6196,-670.246 16.5275,-666.885 15.4849,-663.507 14.4921,-660.115 13.4994,-656.723 12.5567,-653.317 11.6643,-649.897 10.7719,-646.477 9.92994,-643.044 9.13864,-639.6 8.34734,-636.155 7.60681,-632.699 6.91729,-629.232 6.22777,-625.766 5.58934,-622.29 5.0022,-618.804 4.41506,-615.319 3.87928,-611.825 3.39503,-608.324 2.91078,-604.823 2.47812,-601.315 2.09717,-597.802 1.71623,-594.288 1.38706,-590.769 1.10976,-587.245 0.832454,-583.722 0.607056,-580.194 0.433634,-576.664 0.260211,-573.134 0.138785,-569.602 0.0693925,-566.068 5.34238e-007,-562.534 -0.0173491,-559 0.0173492,-555.466 0.0520476,-551.932 0.13879,-548.398 0.277549,-544.866 0.416307,-541.335 0.607067,-537.805 0.849765,-534.279 1.09246,-530.753 1.38708,-527.231 1.7335,-523.714 2.07993,-520.196 2.47814,-516.684 2.92799,-513.179 3.37785,-509.673 3.87931,-506.174 4.4322,-502.684 4.9851,-499.193 5.58937,-495.71 6.24483,-492.237 6.90028,-488.764 7.60685,-485.301 8.36429,-481.849 9.12174,-478.396 9.92998,-474.956 10.7888,-471.527 11.6475,-468.099 12.5568,-464.683 13.5161,-461.281 14.4755,-457.88 15.4849,-454.492 16.544,-451.12 17.6032,-447.749 18.7119,-444.392 19.8698,-441.053 21.0278,-437.714 22.2349,-434.392 23.4907,-431.088 24.7465,-427.784 26.0508,-424.499 27.4034,-421.234 28.7559,-417.969 30.1565,-414.723 31.6046,-411.499 33.0527,-408.275 34.5482,-405.073 36.0906,-401.893 37.6331,-398.713 39.2222,-395.555 40.8576,-392.422 42.493,-389.289 44.1745,-386.18 45.9015,-383.096 47.6284,-380.013 49.4007,-376.954 51.2177,-373.923 53.0347,-370.891 54.8963,-367.887 56.8018,-364.91 58.7073,-361.933 60.6566,-358.985 62.6489,-356.066 64.6412,-353.146 66.6765,-350.257 68.7539,-347.397 70.8314,-344.538 72.9508,-341.709 75.1115,-338.912 77.2723,-336.115 79.4741,-333.35 81.7163,-330.618 83.9584,-327.886 86.2407,-325.187 88.5624,-322.522 90.884,-319.858 93.2448,-317.227 95.6439,-314.632 98.0431,-312.036 100.48,-309.476 102.955,-306.953 105.429,-304.429 107.941,-301.942 110.489,-299.493 113.036,-297.043 115.62,-294.631 118.239,-292.258 120.858,-289.884 123.511,-287.549 126.199,-285.254 128.886,-282.958 131.607,-280.703 134.361,-278.488 137.115,-276.272 139.902,-274.098 142.72,-271.965 145.538,-269.831 148.387,-267.74 151.267,-265.691 154.146,-263.641 157.056,-261.634 159.995,-259.671 162.933,-257.707 165.901,-255.787 168.896,-253.911 171.891,-252.035 174.914,-250.203 177.963,-248.416 181.013,-246.628 184.088,-244.886 187.188,-243.19 190.289,-241.493 193.414,-239.842 196.563,-238.238 199.713,-236.633 202.885,-235.075 206.08,-233.564 209.275,-232.053 212.492,-230.589 215.73,-229.172 218.969,-227.756 222.227,-226.387 225.506,-225.067 228.784,-223.746 232.082,-222.474 235.398,-221.251 238.714,-220.028 242.048,-218.853 245.398,-217.728 248.749,-216.603 252.115,-215.527 255.498,-214.501 258.88,-213.475 262.277,-212.499 265.688,-211.573 269.099,-210.648 272.523,-209.772 275.96,-208.947 279.396,-208.122 282.845,-207.347 286.305,-206.624 289.764,-205.9 293.234,-205.228 296.713,-204.606 300.193,-203.985 303.681,-203.415 307.177,-202.896 310.673,-202.378 314.177,-201.911 317.687,-201.495 321.196,-201.08 324.712,-200.716 328.233,-200.404 331.753,-200.092 335.278,-199.832 338.807,-199.624 342.335,-199.416 345.866,-199.26 349.399,-199.156 352.932,-199.052 356.466,-199 360,-199 363.534,-199 367.069,-199.052 370.601,-199.156 374.134,-199.26 377.665,-199.416 381.194,-199.624 384.722,-199.832 388.247,-200.092 391.767,-200.404 395.288,-200.716 398.804,-201.08 402.314,-201.495 405.823,-201.911 409.327,-202.378 412.823,-202.896 416.319,-203.415 419.807,-203.985 423.287,-204.606 426.766,-205.228 430.236,-205.9 433.696,-206.624 437.155,-207.347 440.604,-208.122 444.04,-208.947 447.477,-209.772 450.901,-210.648 454.312,-211.573 457.723,-212.499 461.12,-213.476 464.503,-214.501 467.885,-215.527 471.252,-216.603 474.602,-217.728 477.953,-218.853 481.286,-220.028 484.602,-221.251 487.918,-222.474 491.216,-223.747 494.494,-225.067 497.773,-226.387 501.032,-227.756 504.27,-229.172 507.508,-230.589 510.725,-232.053 513.92,-233.564 517.115,-235.075 520.288,-236.633 523.437,-238.238 526.586,-239.842 529.711,-241.493 532.812,-243.19 535.912,-244.886 538.988,-246.628 542.037,-248.416 545.086,-250.203 548.109,-252.035 551.104,-253.911 554.099,-255.787 557.067,-257.707 560.005,-259.671 562.944,-261.635 565.854,-263.641 568.733,-265.691 571.613,-267.74 574.462,-269.831 577.28,-271.965 580.098,-274.098 582.885,-276.272 585.639,-278.488 588.393,-280.703 591.114,-282.959 593.801,-285.254 596.489,-287.549 599.142,-289.884 601.761,-292.258 604.38,-294.631 606.964,-297.043 609.512,-299.493 612.059,-301.942 614.571,-304.429 617.045,-306.953 619.52,-309.477 621.957,-312.036 624.356,-314.632 626.755,-317.227 629.116,-319.858 631.438,-322.523 633.759,-325.187 636.042,-327.886 638.284,-330.618 640.526,-333.351 642.728,-336.116 644.889,-338.912 647.049,-341.709 649.169,-344.538 651.246,-347.397 651.246,-347.397 360,-559 360,-559\"/>\r\n",
       "<path fill=\"orange\" stroke=\"black\" stroke-width=\"0.5\" d=\"M360,-559C360,-559 651.246,-347.397 651.246,-347.397 652.631,-349.304 653.997,-351.223 655.345,-353.156 656.692,-355.089 658.02,-357.036 659.329,-358.995 660.638,-360.954 661.928,-362.926 663.198,-364.91 664.469,-366.895 665.719,-368.892 666.95,-370.901 668.182,-372.91 669.393,-374.931 670.584,-376.963 671.776,-378.996 672.947,-381.041 674.099,-383.096 675.25,-385.152 676.381,-387.219 677.492,-389.297 678.602,-391.375 679.693,-393.464 680.762,-395.563 681.832,-397.663 682.881,-399.773 683.909,-401.893 684.938,-404.013 685.945,-406.143 686.932,-408.283 687.918,-410.422 688.883,-412.572 689.828,-414.73 690.772,-416.889 691.695,-419.057 692.597,-421.234 693.498,-423.411 694.379,-425.597 695.237,-427.791 696.096,-429.985 696.933,-432.187 697.749,-434.398 698.564,-436.608 699.358,-438.827 700.13,-441.053 700.902,-443.279 701.652,-445.513 702.38,-447.754 703.108,-449.995 703.815,-452.243 704.499,-454.498 705.183,-456.752 705.844,-459.014 706.484,-461.281 707.123,-463.549 707.741,-465.823 708.336,-468.103 708.931,-470.383 709.503,-472.669 710.053,-474.96 710.603,-477.251 711.131,-479.547 711.636,-481.849 712.141,-484.15 712.623,-486.457 713.083,-488.768 713.542,-491.078 713.979,-493.394 714.394,-495.713 714.808,-498.033 715.199,-500.356 715.568,-502.684 715.936,-505.011 716.282,-507.342 716.605,-509.676 716.928,-512.01 717.228,-514.347 717.505,-516.687 717.782,-519.026 718.036,-521.369 718.267,-523.714 718.497,-526.059 718.705,-528.406 718.89,-530.755 719.075,-533.104 719.237,-535.454 719.376,-537.807 719.514,-540.159 719.63,-542.512 719.722,-544.866 719.815,-547.221 719.884,-549.576 719.931,-551.932 719.977,-554.288 720,-556.644 720,-559 720,-559 360,-559 360,-559\"/>\r\n",
       "<ellipse fill=\"none\" stroke=\"black\" cx=\"360\" cy=\"-559\" rx=\"360\" ry=\"360\"/>\r\n",
       "<text text-anchor=\"middle\" x=\"360\" y=\"-555.3\" font-family=\"Times New Roman,serif\" font-size=\"14.00\">A</text>\r\n",
       "</g>\r\n",
       "</g>\r\n",
       "</svg>\r\n"
      ],
      "text/plain": [
       "<IPython.core.display.HTML object>"
      ]
     },
     "metadata": {},
     "output_type": "display_data"
    }
   ],
   "source": [
    "source /home/mjbright/src/git/GIT_mjbright/metakernel/metakernel_bash/metakernelrc\n",
    "du -s /tmp/* | pydot_show_du"
   ]
  },
  {
   "cell_type": "raw",
   "metadata": {},
   "source": [
    "%%dot\n",
    "\n",
    "# Not working\n",
    "digraph hierarchy {\n",
    "\n",
    "                nodesep=1.0 // increases the separation between nodes\n",
    "                \n",
    "                node [color=Red,fontname=Courier,shape=box] //All nodes will this shape and colour\n",
    "                edge [color=Blue, style=dashed] //All the lines look like this\n",
    "\n",
    "                Headteacher->{Deputy1 Deputy2 BusinessManager}\n",
    "                Deputy1->{Teacher1 Teacher2}\n",
    "                BusinessManager->ITManager\n",
    "                {rank=same;ITManager Teacher1 Teacher2}  // Put them on the same level\n",
    "}"
   ]
  },
  {
   "cell_type": "raw",
   "metadata": {
    "collapsed": false
   },
   "source": [
    "# Same as above ... so ... not working either ...\n",
    "echo \"digraph hierarchy {\n",
    "\n",
    "                nodesep=1.0 // increases the separation between nodes\n",
    "                \n",
    "                node [color=Red,fontname=Courier,shape=box] //All nodes will this shape and colour\n",
    "                edge [color=Blue, style=dashed] //All the lines look like this\n",
    "\n",
    "                Headteacher->{Deputy1 Deputy2 BusinessManager}\n",
    "                Deputy1->{Teacher1 Teacher2}\n",
    "                BusinessManager->ITManager\n",
    "                {rank=same;ITManager Teacher1 Teacher2}  // Put them on the same level\n",
    "}\" | pydot"
   ]
  },
  {
   "cell_type": "code",
   "execution_count": 80,
   "metadata": {
    "collapsed": false
   },
   "outputs": [
    {
     "data": {
      "text/html": [
       "<?xml version=\"1.0\" encoding=\"UTF-8\" standalone=\"no\"?>\r\n",
       "<!DOCTYPE svg PUBLIC \"-//W3C//DTD SVG 1.1//EN\"\r\n",
       " \"http://www.w3.org/Graphics/SVG/1.1/DTD/svg11.dtd\">\r\n",
       "<!-- Generated by graphviz version 2.38.0 (20140413.2041)\r\n",
       " -->\r\n",
       "<!-- Title: hierarchy Pages: 1 -->\r\n",
       "<svg width=\"936pt\" height=\"116pt\"\r\n",
       " viewBox=\"0.00 0.00 936.00 116.00\" xmlns=\"http://www.w3.org/2000/svg\" xmlns:xlink=\"http://www.w3.org/1999/xlink\">\r\n",
       "<g id=\"graph0\" class=\"graph\" transform=\"scale(1 1) rotate(0) translate(4 112)\">\r\n",
       "<title>hierarchy</title>\r\n",
       "<polygon fill=\"white\" stroke=\"none\" points=\"-4,4 -4,-112 932,-112 932,4 -4,4\"/>\r\n",
       "<!-- CEO -->\r\n",
       "<g id=\"node1\" class=\"node\"><title>CEO</title>\r\n",
       "<ellipse fill=\"none\" stroke=\"Blue\" cx=\"593\" cy=\"-90\" rx=\"27\" ry=\"18\"/>\r\n",
       "<text text-anchor=\"middle\" x=\"593\" y=\"-86.3\" font-family=\"Courier,monospace\" font-size=\"14.00\">CEO</text>\r\n",
       "</g>\r\n",
       "<!-- CTO -->\r\n",
       "<g id=\"node2\" class=\"node\"><title>CTO</title>\r\n",
       "<ellipse fill=\"none\" stroke=\"Blue\" cx=\"27\" cy=\"-18\" rx=\"27\" ry=\"18\"/>\r\n",
       "<text text-anchor=\"middle\" x=\"27\" y=\"-14.3\" font-family=\"Courier,monospace\" font-size=\"14.00\">CTO</text>\r\n",
       "</g>\r\n",
       "<!-- CEO&#45;&gt;CTO -->\r\n",
       "<g id=\"edge1\" class=\"edge\"><title>CEO&#45;&gt;CTO</title>\r\n",
       "<path fill=\"none\" stroke=\"Blue\" d=\"M566.064,-87.6679C490.448,-83.6056 269.984,-69.5466 90,-36 80.431,-34.2165 70.1884,-31.7151 60.8023,-29.1787\"/>\r\n",
       "<polygon fill=\"Blue\" stroke=\"Blue\" points=\"61.5992,-25.7673 51.0261,-26.445 59.7141,-32.5087 61.5992,-25.7673\"/>\r\n",
       "</g>\r\n",
       "<!-- CFO -->\r\n",
       "<g id=\"node3\" class=\"node\"><title>CFO</title>\r\n",
       "<ellipse fill=\"none\" stroke=\"Blue\" cx=\"901\" cy=\"-18\" rx=\"27\" ry=\"18\"/>\r\n",
       "<text text-anchor=\"middle\" x=\"901\" y=\"-14.3\" font-family=\"Courier,monospace\" font-size=\"14.00\">CFO</text>\r\n",
       "</g>\r\n",
       "<!-- CEO&#45;&gt;CFO -->\r\n",
       "<g id=\"edge2\" class=\"edge\"><title>CEO&#45;&gt;CFO</title>\r\n",
       "<path fill=\"none\" stroke=\"Blue\" d=\"M619.094,-85.1829C666.729,-77.8978 770.726,-60.5238 856,-36 860.153,-34.8055 864.467,-33.3993 868.705,-31.9157\"/>\r\n",
       "<polygon fill=\"Blue\" stroke=\"Blue\" points=\"870.167,-35.1075 878.349,-28.3769 867.756,-28.5359 870.167,-35.1075\"/>\r\n",
       "</g>\r\n",
       "<!-- BusinessManager -->\r\n",
       "<g id=\"node4\" class=\"node\"><title>BusinessManager</title>\r\n",
       "<ellipse fill=\"none\" stroke=\"Blue\" cx=\"593\" cy=\"-18\" rx=\"90.9839\" ry=\"18\"/>\r\n",
       "<text text-anchor=\"middle\" x=\"593\" y=\"-14.3\" font-family=\"Courier,monospace\" font-size=\"14.00\">BusinessManager</text>\r\n",
       "</g>\r\n",
       "<!-- CEO&#45;&gt;BusinessManager -->\r\n",
       "<g id=\"edge3\" class=\"edge\"><title>CEO&#45;&gt;BusinessManager</title>\r\n",
       "<path fill=\"none\" stroke=\"Blue\" d=\"M593,-71.6966C593,-63.9827 593,-54.7125 593,-46.1124\"/>\r\n",
       "<polygon fill=\"Blue\" stroke=\"Blue\" points=\"596.5,-46.1043 593,-36.1043 589.5,-46.1044 596.5,-46.1043\"/>\r\n",
       "</g>\r\n",
       "<!-- CTO&#45;&gt;CTO -->\r\n",
       "<g id=\"edge4\" class=\"edge\"><title>CTO&#45;&gt;CTO</title>\r\n",
       "<path fill=\"none\" stroke=\"Blue\" d=\"M48.6268,-29.0075C68.5379,-34.5363 90,-30.8672 90,-18 90,-7.24384 75.0025,-2.91518 58.4504,-5.01402\"/>\r\n",
       "<polygon fill=\"Blue\" stroke=\"Blue\" points=\"57.7389,-1.58695 48.6268,-6.99252 59.1211,-8.44916 57.7389,-1.58695\"/>\r\n",
       "</g>\r\n",
       "<!-- CTO&#45;&gt;CFO -->\r\n",
       "<g id=\"edge5\" class=\"edge\"><title>CTO&#45;&gt;CFO</title>\r\n",
       "<path fill=\"none\" stroke=\"Blue\" d=\"M47.4984,-30.001C63.4036,-38.5842 86.3228,-49.3998 108,-54 187.344,-70.838 759.606,-74.8186 838,-54 850.841,-50.5899 863.795,-43.8792 874.588,-37.1663\"/>\r\n",
       "<polygon fill=\"Blue\" stroke=\"Blue\" points=\"876.645,-40.0032 883.097,-31.5994 872.813,-34.1454 876.645,-40.0032\"/>\r\n",
       "</g>\r\n",
       "<!-- CTO&#45;&gt;BusinessManager -->\r\n",
       "<g id=\"edge6\" class=\"edge\"><title>CTO&#45;&gt;BusinessManager</title>\r\n",
       "<path fill=\"none\" stroke=\"Blue\" d=\"M47.4984,-30.001C63.4036,-38.5842 86.3228,-49.3998 108,-54 185.822,-70.5151 387.202,-64.9525 466,-54 490.42,-50.6058 516.743,-43.7068 539.058,-36.8481\"/>\r\n",
       "<polygon fill=\"Blue\" stroke=\"Blue\" points=\"540.195,-40.1596 548.682,-33.8174 538.093,-33.4828 540.195,-40.1596\"/>\r\n",
       "</g>\r\n",
       "<!-- LabManager -->\r\n",
       "<g id=\"node5\" class=\"node\"><title>LabManager</title>\r\n",
       "<ellipse fill=\"none\" stroke=\"Blue\" cx=\"402\" cy=\"-18\" rx=\"64.189\" ry=\"18\"/>\r\n",
       "<text text-anchor=\"middle\" x=\"402\" y=\"-14.3\" font-family=\"Courier,monospace\" font-size=\"14.00\">LabManager</text>\r\n",
       "</g>\r\n",
       "<!-- CTO&#45;&gt;LabManager -->\r\n",
       "<g id=\"edge7\" class=\"edge\"><title>CTO&#45;&gt;LabManager</title>\r\n",
       "<path fill=\"none\" stroke=\"Blue\" d=\"M47.4984,-30.001C63.4036,-38.5842 86.3228,-49.3998 108,-54 192.344,-71.899 217.062,-68.8233 302,-54 320.994,-50.6853 341.142,-44.0787 358.339,-37.4199\"/>\r\n",
       "<polygon fill=\"Blue\" stroke=\"Blue\" points=\"360.107,-40.4821 368.092,-33.5177 357.507,-33.983 360.107,-40.4821\"/>\r\n",
       "</g>\r\n",
       "<!-- MarketingManager -->\r\n",
       "<g id=\"node6\" class=\"node\"><title>MarketingManager</title>\r\n",
       "<ellipse fill=\"none\" stroke=\"Blue\" cx=\"205\" cy=\"-18\" rx=\"96.6831\" ry=\"18\"/>\r\n",
       "<text text-anchor=\"middle\" x=\"205\" y=\"-14.3\" font-family=\"Courier,monospace\" font-size=\"14.00\">MarketingManager</text>\r\n",
       "</g>\r\n",
       "<!-- CTO&#45;&gt;MarketingManager -->\r\n",
       "<g id=\"edge8\" class=\"edge\"><title>CTO&#45;&gt;MarketingManager</title>\r\n",
       "<path fill=\"none\" stroke=\"Blue\" d=\"M54.1172,-18C68.7229,-18 83.3286,-18 97.9344,-18\"/>\r\n",
       "<polygon fill=\"Blue\" stroke=\"Blue\" points=\"98.046,-21.5001 108.046,-18 98.046,-14.5001 98.046,-21.5001\"/>\r\n",
       "</g>\r\n",
       "<!-- ITManager -->\r\n",
       "<g id=\"node7\" class=\"node\"><title>ITManager</title>\r\n",
       "<ellipse fill=\"none\" stroke=\"Blue\" cx=\"779\" cy=\"-18\" rx=\"59.2899\" ry=\"18\"/>\r\n",
       "<text text-anchor=\"middle\" x=\"779\" y=\"-14.3\" font-family=\"Courier,monospace\" font-size=\"14.00\">ITManager</text>\r\n",
       "</g>\r\n",
       "<!-- BusinessManager&#45;&gt;ITManager -->\r\n",
       "<g id=\"edge9\" class=\"edge\"><title>BusinessManager&#45;&gt;ITManager</title>\r\n",
       "<path fill=\"none\" stroke=\"Blue\" d=\"M684.184,-18C692.702,-18 701.221,-18 709.74,-18\"/>\r\n",
       "<polygon fill=\"Blue\" stroke=\"Blue\" points=\"709.74,-21.5001 719.74,-18 709.74,-14.5001 709.74,-21.5001\"/>\r\n",
       "</g>\r\n",
       "</g>\r\n",
       "</svg>\r\n"
      ],
      "text/plain": [
       "<IPython.core.display.HTML object>"
      ]
     },
     "metadata": {},
     "output_type": "display_data"
    }
   ],
   "source": [
    "echo \"digraph hierarchy {\n",
    "                nodesep=0.5 // increases the separation between nodes\n",
    "                \n",
    "                node [color=Blue, fontname=Courier,shape=oval] //All nodes will this shape and colour\n",
    "                edge [color=Blue, style=solid] //All the lines look like this\n",
    "\n",
    "                CEO->{CTO CFO BusinessManager}\n",
    "                CTO->{LabManager MarketingManager}\n",
    "                BusinessManager->ITManager\n",
    "                {rank=same;ITManager LabManager MarketingManager}  // Put them on the same level\n",
    "}\" | pydot"
   ]
  },
  {
   "cell_type": "code",
   "execution_count": 81,
   "metadata": {
    "collapsed": false
   },
   "outputs": [
    {
     "data": {
      "text/html": [
       "<?xml version=\"1.0\" encoding=\"UTF-8\" standalone=\"no\"?>\r\n",
       "<!DOCTYPE svg PUBLIC \"-//W3C//DTD SVG 1.1//EN\"\r\n",
       " \"http://www.w3.org/Graphics/SVG/1.1/DTD/svg11.dtd\">\r\n",
       "<!-- Generated by graphviz version 2.38.0 (20140413.2041)\r\n",
       " -->\r\n",
       "<!-- Title: hierarchy Pages: 1 -->\r\n",
       "<svg width=\"289pt\" height=\"305pt\"\r\n",
       " viewBox=\"0.00 0.00 288.64 305.00\" xmlns=\"http://www.w3.org/2000/svg\" xmlns:xlink=\"http://www.w3.org/1999/xlink\">\r\n",
       "<g id=\"graph0\" class=\"graph\" transform=\"scale(1 1) rotate(0) translate(4 301)\">\r\n",
       "<title>hierarchy</title>\r\n",
       "<polygon fill=\"white\" stroke=\"none\" points=\"-4,4 -4,-301 284.637,-301 284.637,4 -4,4\"/>\r\n",
       "<!-- S0 -->\r\n",
       "<g id=\"node1\" class=\"node\"><title>S0</title>\r\n",
       "<ellipse fill=\"none\" stroke=\"black\" cx=\"87.6369\" cy=\"-279\" rx=\"27\" ry=\"18\"/>\r\n",
       "<text text-anchor=\"middle\" x=\"87.6369\" y=\"-275.3\" font-family=\"Times New Roman,serif\" font-size=\"14.00\">S0</text>\r\n",
       "</g>\r\n",
       "<!-- S1 -->\r\n",
       "<g id=\"node2\" class=\"node\"><title>S1</title>\r\n",
       "<ellipse fill=\"none\" stroke=\"black\" cx=\"84.6369\" cy=\"-192\" rx=\"27\" ry=\"18\"/>\r\n",
       "<text text-anchor=\"middle\" x=\"84.6369\" y=\"-188.3\" font-family=\"Times New Roman,serif\" font-size=\"14.00\">S1</text>\r\n",
       "</g>\r\n",
       "<!-- S0&#45;&gt;S1 -->\r\n",
       "<g id=\"edge1\" class=\"edge\"><title>S0&#45;&gt;S1</title>\r\n",
       "<path fill=\"none\" stroke=\"black\" d=\"M61.1219,-274.716C41.6049,-270.758 16.344,-262.061 3.63695,-243 -10.4056,-221.936 21.3612,-208.178 49.142,-200.524\"/>\r\n",
       "<polygon fill=\"black\" stroke=\"black\" points=\"50.2824,-203.845 59.1045,-197.978 48.5492,-197.063 50.2824,-203.845\"/>\r\n",
       "<text text-anchor=\"middle\" x=\"34.6369\" y=\"-231.8\" font-family=\"Times New Roman,serif\" font-size=\"14.00\">Lift Nozzle</text>\r\n",
       "</g>\r\n",
       "<!-- S1&#45;&gt;S0 -->\r\n",
       "<g id=\"edge2\" class=\"edge\"><title>S1&#45;&gt;S0</title>\r\n",
       "<path fill=\"none\" stroke=\"black\" d=\"M85.2431,-210.175C85.6536,-221.806 86.2047,-237.419 86.6746,-250.734\"/>\r\n",
       "<polygon fill=\"black\" stroke=\"black\" points=\"83.1792,-250.929 87.0299,-260.799 90.1749,-250.682 83.1792,-250.929\"/>\r\n",
       "<text text-anchor=\"middle\" x=\"129.637\" y=\"-231.8\" font-family=\"Times New Roman,serif\" font-size=\"14.00\">Replace Nozzle</text>\r\n",
       "</g>\r\n",
       "<!-- S2 -->\r\n",
       "<g id=\"node3\" class=\"node\"><title>S2</title>\r\n",
       "<ellipse fill=\"none\" stroke=\"black\" cx=\"137.637\" cy=\"-105\" rx=\"27\" ry=\"18\"/>\r\n",
       "<text text-anchor=\"middle\" x=\"137.637\" y=\"-101.3\" font-family=\"Times New Roman,serif\" font-size=\"14.00\">S2</text>\r\n",
       "</g>\r\n",
       "<!-- S1&#45;&gt;S2 -->\r\n",
       "<g id=\"edge3\" class=\"edge\"><title>S1&#45;&gt;S2</title>\r\n",
       "<path fill=\"none\" stroke=\"black\" d=\"M81.1985,-173.788C80.0603,-163.649 80.2338,-150.91 85.6369,-141 90.3043,-132.44 98.0738,-125.585 106.202,-120.289\"/>\r\n",
       "<polygon fill=\"black\" stroke=\"black\" points=\"108.152,-123.204 115.034,-115.149 104.631,-117.154 108.152,-123.204\"/>\r\n",
       "<text text-anchor=\"middle\" x=\"131.137\" y=\"-144.8\" font-family=\"Times New Roman,serif\" font-size=\"14.00\">Authorize Pump</text>\r\n",
       "</g>\r\n",
       "<!-- S2&#45;&gt;S0 -->\r\n",
       "<g id=\"edge4\" class=\"edge\"><title>S2&#45;&gt;S0</title>\r\n",
       "<path fill=\"none\" stroke=\"black\" d=\"M156.833,-117.932C164.501,-123.833 172.485,-131.695 176.637,-141 195.11,-182.399 202.161,-205.535 176.637,-243 164.909,-260.214 143.303,-268.962 124.316,-273.407\"/>\r\n",
       "<polygon fill=\"black\" stroke=\"black\" points=\"123.513,-269.999 114.405,-275.411 124.9,-276.86 123.513,-269.999\"/>\r\n",
       "<text text-anchor=\"middle\" x=\"236.637\" y=\"-188.3\" font-family=\"Times New Roman,serif\" font-size=\"14.00\">Replace Nozzle</text>\r\n",
       "</g>\r\n",
       "<!-- S3 -->\r\n",
       "<g id=\"node4\" class=\"node\"><title>S3</title>\r\n",
       "<ellipse fill=\"none\" stroke=\"black\" cx=\"137.637\" cy=\"-18\" rx=\"27\" ry=\"18\"/>\r\n",
       "<text text-anchor=\"middle\" x=\"137.637\" y=\"-14.3\" font-family=\"Times New Roman,serif\" font-size=\"14.00\">S3</text>\r\n",
       "</g>\r\n",
       "<!-- S2&#45;&gt;S3 -->\r\n",
       "<g id=\"edge5\" class=\"edge\"><title>S2&#45;&gt;S3</title>\r\n",
       "<path fill=\"none\" stroke=\"black\" d=\"M116.973,-92.7878C108.391,-86.9347 99.3486,-78.9102 94.6369,-69 88.7823,-56.6857 97.681,-45.0079 108.873,-36.0394\"/>\r\n",
       "<polygon fill=\"black\" stroke=\"black\" points=\"111.174,-38.6964 117.25,-30.0174 107.088,-33.0126 111.174,-38.6964\"/>\r\n",
       "<text text-anchor=\"middle\" x=\"127.637\" y=\"-57.8\" font-family=\"Times New Roman,serif\" font-size=\"14.00\">Pull Trigger</text>\r\n",
       "</g>\r\n",
       "<!-- S3&#45;&gt;S2 -->\r\n",
       "<g id=\"edge6\" class=\"edge\"><title>S3&#45;&gt;S2</title>\r\n",
       "<path fill=\"none\" stroke=\"black\" d=\"M150.829,-33.8859C157.833,-43.6092 164.307,-56.7336 160.637,-69 159.474,-72.8857 157.727,-76.7398 155.704,-80.3915\"/>\r\n",
       "<polygon fill=\"black\" stroke=\"black\" points=\"152.674,-78.6331 150.285,-88.955 158.59,-82.3761 152.674,-78.6331\"/>\r\n",
       "<text text-anchor=\"middle\" x=\"205.637\" y=\"-57.8\" font-family=\"Times New Roman,serif\" font-size=\"14.00\">Release Trigger</text>\r\n",
       "</g>\r\n",
       "</g>\r\n",
       "</svg>\r\n"
      ],
      "text/plain": [
       "<IPython.core.display.HTML object>"
      ]
     },
     "metadata": {},
     "output_type": "display_data"
    }
   ],
   "source": [
    "# QUOTES IN THIS WAY, WORKS:\n",
    "echo 'digraph hierarchy {\n",
    "        S0->S1 [ label = \"Lift Nozzle\" ]\n",
    "        S1->S0 [ label = \"Replace Nozzle\" ]\n",
    "        S1->S2 [ label = \"Authorize Pump\" ]\n",
    "        S2->S0 [ label = \"Replace Nozzle\" ]\n",
    "        S2->S3 [ label = \"Pull Trigger\" ]\n",
    "        S3->S2 [ label = \"Release Trigger\" ]\n",
    "}' | pydot"
   ]
  },
  {
   "cell_type": "code",
   "execution_count": 82,
   "metadata": {
    "collapsed": false
   },
   "outputs": [
    {
     "data": {},
     "execution_count": 82,
     "metadata": {},
     "output_type": "execute_result"
    }
   ],
   "source": [
    "# QUOTES IN THIS WAY, FAILS: careful - may mess up following notebook execution ... \n",
    "# echo \"digraph hierarchy {\n",
    "#         S0->S1 [ label = 'Lift Nozzle' ]\n",
    "#         S1->S0 [ label = 'Replace Nozzle' ]\n",
    "#         S1->S2 [ label = 'Authorize Pump' ]\n",
    "#         S2->S0 [ label = 'Replace Nozzle' ]\n",
    "#         S2->S3 [ label = 'Pull Trigger\"' ]\n",
    "#         S3->S2 [ label = 'Release Trigger' ]\n",
    "# }\" | pydot"
   ]
  },
  {
   "cell_type": "code",
   "execution_count": 83,
   "metadata": {
    "collapsed": false
   },
   "outputs": [
    {
     "data": {
      "text/html": [
       "<?xml version=\"1.0\" encoding=\"UTF-8\" standalone=\"no\"?>\r\n",
       "<!DOCTYPE svg PUBLIC \"-//W3C//DTD SVG 1.1//EN\"\r\n",
       " \"http://www.w3.org/Graphics/SVG/1.1/DTD/svg11.dtd\">\r\n",
       "<!-- Generated by graphviz version 2.38.0 (20140413.2041)\r\n",
       " -->\r\n",
       "<!-- Title: finite_state_machine Pages: 1 -->\r\n",
       "<svg width=\"576pt\" height=\"85pt\"\r\n",
       " viewBox=\"0.00 0.00 576.00 84.66\" xmlns=\"http://www.w3.org/2000/svg\" xmlns:xlink=\"http://www.w3.org/1999/xlink\">\r\n",
       "<g id=\"graph0\" class=\"graph\" transform=\"scale(0.966785 0.966785) rotate(0) translate(4 83.568)\">\r\n",
       "<title>finite_state_machine</title>\r\n",
       "<polygon fill=\"white\" stroke=\"none\" points=\"-4,4 -4,-83.568 591.789,-83.568 591.789,4 -4,4\"/>\r\n",
       "<!-- S0 -->\r\n",
       "<g id=\"node1\" class=\"node\"><title>S0</title>\r\n",
       "<ellipse fill=\"none\" stroke=\"black\" cx=\"20.7982\" cy=\"-37.7699\" rx=\"20.5982\" ry=\"20.5982\"/>\r\n",
       "<text text-anchor=\"middle\" x=\"20.7982\" y=\"-34.0699\" font-family=\"Times New Roman,serif\" font-size=\"14.00\">S0</text>\r\n",
       "</g>\r\n",
       "<!-- S1 -->\r\n",
       "<g id=\"node2\" class=\"node\"><title>S1</title>\r\n",
       "<ellipse fill=\"none\" stroke=\"black\" cx=\"209.596\" cy=\"-58.7699\" rx=\"20.5982\" ry=\"20.5982\"/>\r\n",
       "<text text-anchor=\"middle\" x=\"209.596\" y=\"-55.0699\" font-family=\"Times New Roman,serif\" font-size=\"14.00\">S1</text>\r\n",
       "</g>\r\n",
       "<!-- S0&#45;&gt;S1 -->\r\n",
       "<g id=\"edge1\" class=\"edge\"><title>S0&#45;&gt;S1</title>\r\n",
       "<path fill=\"none\" stroke=\"black\" d=\"M39.8081,-46.9815C45.9304,-49.6789 52.9159,-52.2971 59.5963,-53.7699 99.8913,-62.6532 147.783,-62.4116 178.183,-60.9649\"/>\r\n",
       "<polygon fill=\"black\" stroke=\"black\" points=\"178.753,-64.4388 188.545,-60.3921 178.367,-57.4495 178.753,-64.4388\"/>\r\n",
       "<text text-anchor=\"middle\" x=\"103.596\" y=\"-64.5699\" font-family=\"Times New Roman,serif\" font-size=\"14.00\">Lift Nozzle</text>\r\n",
       "</g>\r\n",
       "<!-- S1&#45;&gt;S0 -->\r\n",
       "<g id=\"edge2\" class=\"edge\"><title>S1&#45;&gt;S0</title>\r\n",
       "<path fill=\"none\" stroke=\"black\" d=\"M190.712,-49.6718C178.829,-44.1501 162.691,-37.6325 147.596,-34.7699 115.294,-28.6438 77.494,-30.7575 51.825,-33.5401\"/>\r\n",
       "<polygon fill=\"black\" stroke=\"black\" points=\"51.1359,-30.0972 41.6181,-34.7515 51.9609,-37.0484 51.1359,-30.0972\"/>\r\n",
       "<text text-anchor=\"middle\" x=\"103.596\" y=\"-38.5699\" font-family=\"Times New Roman,serif\" font-size=\"14.00\">Replace Nozzle</text>\r\n",
       "</g>\r\n",
       "<!-- S2 -->\r\n",
       "<g id=\"node3\" class=\"node\"><title>S2</title>\r\n",
       "<ellipse fill=\"none\" stroke=\"black\" cx=\"401.394\" cy=\"-25.7699\" rx=\"20.5982\" ry=\"20.5982\"/>\r\n",
       "<text text-anchor=\"middle\" x=\"401.394\" y=\"-22.0699\" font-family=\"Times New Roman,serif\" font-size=\"14.00\">S2</text>\r\n",
       "</g>\r\n",
       "<!-- S1&#45;&gt;S2 -->\r\n",
       "<g id=\"edge3\" class=\"edge\"><title>S1&#45;&gt;S2</title>\r\n",
       "<path fill=\"none\" stroke=\"black\" d=\"M230.193,-55.3626C263.509,-49.5701 331.38,-37.7693 370.603,-30.9497\"/>\r\n",
       "<polygon fill=\"black\" stroke=\"black\" points=\"371.367,-34.3694 380.62,-29.2081 370.168,-27.4729 371.367,-34.3694\"/>\r\n",
       "<text text-anchor=\"middle\" x=\"317.096\" y=\"-52.5699\" font-family=\"Times New Roman,serif\" font-size=\"14.00\">Authorize Pump</text>\r\n",
       "</g>\r\n",
       "<!-- S2&#45;&gt;S0 -->\r\n",
       "<g id=\"edge4\" class=\"edge\"><title>S2&#45;&gt;S0</title>\r\n",
       "<path fill=\"none\" stroke=\"black\" d=\"M380.481,-23.6235C352.281,-20.7022 299.074,-15.6256 253.596,-13.7699 167.222,-10.2454 144.405,-11.0214 59.5963,-27.7699 56.7245,-28.337 53.7476,-28.9969 50.7825,-29.7021\"/>\r\n",
       "<polygon fill=\"black\" stroke=\"black\" points=\"49.7488,-26.3534 40.917,-32.2058 51.4707,-33.1383 49.7488,-26.3534\"/>\r\n",
       "<text text-anchor=\"middle\" x=\"209.596\" y=\"-17.5699\" font-family=\"Times New Roman,serif\" font-size=\"14.00\">Replace Nozzle</text>\r\n",
       "</g>\r\n",
       "<!-- S3 -->\r\n",
       "<g id=\"node4\" class=\"node\"><title>S3</title>\r\n",
       "<ellipse fill=\"none\" stroke=\"black\" cx=\"566.991\" cy=\"-25.7699\" rx=\"20.5982\" ry=\"20.5982\"/>\r\n",
       "<text text-anchor=\"middle\" x=\"566.991\" y=\"-22.0699\" font-family=\"Times New Roman,serif\" font-size=\"14.00\">S3</text>\r\n",
       "</g>\r\n",
       "<!-- S2&#45;&gt;S3 -->\r\n",
       "<g id=\"edge5\" class=\"edge\"><title>S2&#45;&gt;S3</title>\r\n",
       "<path fill=\"none\" stroke=\"black\" d=\"M422.455,-25.7699C450.741,-25.7699 502.576,-25.7699 535.604,-25.7699\"/>\r\n",
       "<polygon fill=\"black\" stroke=\"black\" points=\"536.023,-29.27 546.023,-25.7699 536.023,-22.27 536.023,-29.27\"/>\r\n",
       "<text text-anchor=\"middle\" x=\"484.193\" y=\"-29.5699\" font-family=\"Times New Roman,serif\" font-size=\"14.00\">Pull Trigger</text>\r\n",
       "</g>\r\n",
       "<!-- S3&#45;&gt;S2 -->\r\n",
       "<g id=\"edge6\" class=\"edge\"><title>S3&#45;&gt;S2</title>\r\n",
       "<path fill=\"none\" stroke=\"black\" d=\"M548.95,-15.0907C542.67,-11.7349 535.339,-8.46494 528.193,-6.76987 490.137,2.25662 478.248,2.25662 440.193,-6.76987 436.284,-7.69686 432.321,-9.09486 428.505,-10.7203\"/>\r\n",
       "<polygon fill=\"black\" stroke=\"black\" points=\"426.924,-7.59669 419.435,-15.0907 429.963,-13.9028 426.924,-7.59669\"/>\r\n",
       "<text text-anchor=\"middle\" x=\"484.193\" y=\"-10.5699\" font-family=\"Times New Roman,serif\" font-size=\"14.00\">Release Trigger</text>\r\n",
       "</g>\r\n",
       "</g>\r\n",
       "</svg>\r\n"
      ],
      "text/plain": [
       "<IPython.core.display.HTML object>"
      ]
     },
     "metadata": {},
     "output_type": "display_data"
    }
   ],
   "source": [
    "echo 'digraph finite_state_machine {\n",
    "        rankdir=LR;\n",
    "        size=\"8,5\"\n",
    "        node [shape = circle];\n",
    "        S0 -> S1 [ label = \"Lift Nozzle\" ]\n",
    "        S1 -> S0 [ label = \"Replace Nozzle\" ]\n",
    "        S1 -> S2 [ label = \"Authorize Pump\" ]\n",
    "        S2 -> S0 [ label = \"Replace Nozzle\" ]\n",
    "        S2 -> S3 [ label = \"Pull Trigger\" ]\n",
    "        S3 -> S2 [ label = \"Release Trigger\" ]\n",
    "}' | pydot"
   ]
  },
  {
   "cell_type": "code",
   "execution_count": 84,
   "metadata": {
    "collapsed": false
   },
   "outputs": [
    {
     "data": {
      "text/html": [
       "<?xml version=\"1.0\" encoding=\"UTF-8\" standalone=\"no\"?>\r\n",
       "<!DOCTYPE svg PUBLIC \"-//W3C//DTD SVG 1.1//EN\"\r\n",
       " \"http://www.w3.org/Graphics/SVG/1.1/DTD/svg11.dtd\">\r\n",
       "<!-- Generated by graphviz version 2.38.0 (20140413.2041)\r\n",
       " -->\r\n",
       "<!-- Title: dfd Pages: 1 -->\r\n",
       "<svg width=\"238pt\" height=\"160pt\"\r\n",
       " viewBox=\"0.00 0.00 238.00 160.00\" xmlns=\"http://www.w3.org/2000/svg\" xmlns:xlink=\"http://www.w3.org/1999/xlink\">\r\n",
       "<g id=\"graph0\" class=\"graph\" transform=\"scale(1 1) rotate(0) translate(4 156)\">\r\n",
       "<title>dfd</title>\r\n",
       "<polygon fill=\"white\" stroke=\"none\" points=\"-4,4 -4,-156 234,-156 234,4 -4,4\"/>\r\n",
       "<!-- store1 -->\r\n",
       "<g id=\"node1\" class=\"node\"><title>store1</title>\r\n",
       "<polygon fill=\"none\" stroke=\"black\" points=\"0,-115.5 0,-151.5 141,-151.5 141,-115.5 0,-115.5\"/>\r\n",
       "<text text-anchor=\"middle\" x=\"17\" y=\"-129.8\" font-family=\"Times New Roman,serif\" font-size=\"14.00\">left</text>\r\n",
       "<polyline fill=\"none\" stroke=\"black\" points=\"34,-115.5 34,-151.5 \"/>\r\n",
       "<text text-anchor=\"middle\" x=\"87.5\" y=\"-129.8\" font-family=\"Times New Roman,serif\" font-size=\"14.00\">Some data store</text>\r\n",
       "</g>\r\n",
       "<!-- proc1 -->\r\n",
       "<g id=\"node2\" class=\"node\"><title>proc1</title>\r\n",
       "<path fill=\"none\" stroke=\"black\" d=\"M90.5,-0.5C90.5,-0.5 190.5,-0.5 190.5,-0.5 196.5,-0.5 202.5,-6.5 202.5,-12.5 202.5,-12.5 202.5,-66.5 202.5,-66.5 202.5,-72.5 196.5,-78.5 190.5,-78.5 190.5,-78.5 90.5,-78.5 90.5,-78.5 84.5,-78.5 78.5,-72.5 78.5,-66.5 78.5,-66.5 78.5,-12.5 78.5,-12.5 78.5,-6.5 84.5,-0.5 90.5,-0.5\"/>\r\n",
       "<text text-anchor=\"middle\" x=\"140.5\" y=\"-63.3\" font-family=\"Times New Roman,serif\" font-size=\"14.00\">1.0</text>\r\n",
       "<polyline fill=\"none\" stroke=\"black\" points=\"78.5,-55.5 202.5,-55.5 \"/>\r\n",
       "<text text-anchor=\"middle\" x=\"140.5\" y=\"-40.3\" font-family=\"Times New Roman,serif\" font-size=\"14.00\">Some process here</text>\r\n",
       "</g>\r\n",
       "<!-- store1&#45;&gt;proc1 -->\r\n",
       "<g id=\"edge1\" class=\"edge\"><title>store1:f1&#45;&gt;proc1:f0</title>\r\n",
       "<path fill=\"none\" stroke=\"black\" d=\"M87.5,-115C87.5,-100.337 72.9137,-83.6624 70.3434,-74.485\"/>\r\n",
       "<polygon fill=\"black\" stroke=\"black\" points=\"72.7883,-76.9895 77.5,-67.5 67.899,-71.9801 72.7883,-76.9895\"/>\r\n",
       "</g>\r\n",
       "<!-- enti1 -->\r\n",
       "<g id=\"node3\" class=\"node\"><title>enti1</title>\r\n",
       "<polygon fill=\"none\" stroke=\"black\" points=\"230,-151.5 159,-151.5 159,-115.5 230,-115.5 230,-151.5\"/>\r\n",
       "<text text-anchor=\"middle\" x=\"194.5\" y=\"-129.8\" font-family=\"Times New Roman,serif\" font-size=\"14.00\">Customer</text>\r\n",
       "</g>\r\n",
       "<!-- enti1&#45;&gt;proc1 -->\r\n",
       "<g id=\"edge2\" class=\"edge\"><title>enti1&#45;&gt;proc1:f0</title>\r\n",
       "<path fill=\"none\" stroke=\"black\" d=\"M203.422,-115.422C210.405,-100.677 218.094,-80.4194 212.622,-71.7335\"/>\r\n",
       "<polygon fill=\"black\" stroke=\"black\" points=\"214.044,-68.5349 203.5,-67.5 211.097,-74.8844 214.044,-68.5349\"/>\r\n",
       "</g>\r\n",
       "</g>\r\n",
       "</svg>\r\n"
      ],
      "text/plain": [
       "<IPython.core.display.HTML object>"
      ]
     },
     "metadata": {},
     "output_type": "display_data"
    }
   ],
   "source": [
    "echo 'digraph dfd {    \n",
    "        node[shape=record]\n",
    "        store1 [label=\"<f0> left|<f1> Some data store\"];\n",
    "        proc1 [label=\"{<f0> 1.0|<f1> Some process here\\n\\n\\n}\" shape=Mrecord];\n",
    "        enti1 [label=\"Customer\" shape=box];\n",
    "        store1:f1 -> proc1:f0;\n",
    "        enti1-> proc1:f0;\n",
    "}' | pydot"
   ]
  },
  {
   "cell_type": "code",
   "execution_count": 85,
   "metadata": {
    "collapsed": false
   },
   "outputs": [
    {
     "data": {
      "text/html": [
       "<?xml version=\"1.0\" encoding=\"UTF-8\" standalone=\"no\"?>\r\n",
       "<!DOCTYPE svg PUBLIC \"-//W3C//DTD SVG 1.1//EN\"\r\n",
       " \"http://www.w3.org/Graphics/SVG/1.1/DTD/svg11.dtd\">\r\n",
       "<!-- Generated by graphviz version 2.38.0 (20140413.2041)\r\n",
       " -->\r\n",
       "<!-- Title: dfd2 Pages: 1 -->\r\n",
       "<svg width=\"362pt\" height=\"366pt\"\r\n",
       " viewBox=\"0.00 0.00 361.50 366.00\" xmlns=\"http://www.w3.org/2000/svg\" xmlns:xlink=\"http://www.w3.org/1999/xlink\">\r\n",
       "<g id=\"graph0\" class=\"graph\" transform=\"scale(1 1) rotate(0) translate(4 362)\">\r\n",
       "<title>dfd2</title>\r\n",
       "<polygon fill=\"white\" stroke=\"none\" points=\"-4,4 -4,-362 357.5,-362 357.5,4 -4,4\"/>\r\n",
       "<g id=\"clust2\" class=\"cluster\"><title>cluster_level1</title>\r\n",
       "<polygon fill=\"none\" stroke=\"black\" points=\"8,-8 8,-314 278,-314 278,-8 8,-8\"/>\r\n",
       "<text text-anchor=\"middle\" x=\"143\" y=\"-298.8\" font-family=\"Times New Roman,serif\" font-size=\"14.00\">Level 1</text>\r\n",
       "</g>\r\n",
       "<!-- enti1 -->\r\n",
       "<g id=\"node1\" class=\"node\"><title>enti1</title>\r\n",
       "<polygon fill=\"none\" stroke=\"black\" points=\"110.5,-358 39.5,-358 39.5,-322 110.5,-322 110.5,-358\"/>\r\n",
       "<text text-anchor=\"middle\" x=\"75\" y=\"-336.3\" font-family=\"Times New Roman,serif\" font-size=\"14.00\">Customer</text>\r\n",
       "</g>\r\n",
       "<!-- proc1 -->\r\n",
       "<g id=\"node3\" class=\"node\"><title>proc1</title>\r\n",
       "<path fill=\"none\" stroke=\"black\" d=\"M29.5,-204.5C29.5,-204.5 120.5,-204.5 120.5,-204.5 126.5,-204.5 132.5,-210.5 132.5,-216.5 132.5,-216.5 132.5,-270.5 132.5,-270.5 132.5,-276.5 126.5,-282.5 120.5,-282.5 120.5,-282.5 29.5,-282.5 29.5,-282.5 23.5,-282.5 17.5,-276.5 17.5,-270.5 17.5,-270.5 17.5,-216.5 17.5,-216.5 17.5,-210.5 23.5,-204.5 29.5,-204.5\"/>\r\n",
       "<text text-anchor=\"middle\" x=\"75\" y=\"-267.3\" font-family=\"Times New Roman,serif\" font-size=\"14.00\">1.0</text>\r\n",
       "<polyline fill=\"none\" stroke=\"black\" points=\"17.5,-259.5 132.5,-259.5 \"/>\r\n",
       "<text text-anchor=\"middle\" x=\"75\" y=\"-244.3\" font-family=\"Times New Roman,serif\" font-size=\"14.00\">One process here</text>\r\n",
       "</g>\r\n",
       "<!-- enti1&#45;&gt;proc1 -->\r\n",
       "<g id=\"edge1\" class=\"edge\"><title>enti1&#45;&gt;proc1</title>\r\n",
       "<path fill=\"none\" stroke=\"black\" d=\"M75,-321.667C75,-313.515 75,-303.344 75,-293.089\"/>\r\n",
       "<polygon fill=\"black\" stroke=\"black\" points=\"78.5001,-292.877 75,-282.877 71.5001,-292.877 78.5001,-292.877\"/>\r\n",
       "</g>\r\n",
       "<!-- enti2 -->\r\n",
       "<g id=\"node2\" class=\"node\"><title>enti2</title>\r\n",
       "<polygon fill=\"none\" stroke=\"black\" points=\"353.5,-167.5 288.5,-167.5 288.5,-131.5 353.5,-131.5 353.5,-167.5\"/>\r\n",
       "<text text-anchor=\"middle\" x=\"321\" y=\"-145.8\" font-family=\"Times New Roman,serif\" font-size=\"14.00\">Manager</text>\r\n",
       "</g>\r\n",
       "<!-- proc2 -->\r\n",
       "<g id=\"node4\" class=\"node\"><title>proc2</title>\r\n",
       "<path fill=\"none\" stroke=\"black\" d=\"M93.5,-16.5C93.5,-16.5 192.5,-16.5 192.5,-16.5 198.5,-16.5 204.5,-22.5 204.5,-28.5 204.5,-28.5 204.5,-82.5 204.5,-82.5 204.5,-88.5 198.5,-94.5 192.5,-94.5 192.5,-94.5 93.5,-94.5 93.5,-94.5 87.5,-94.5 81.5,-88.5 81.5,-82.5 81.5,-82.5 81.5,-28.5 81.5,-28.5 81.5,-22.5 87.5,-16.5 93.5,-16.5\"/>\r\n",
       "<text text-anchor=\"middle\" x=\"143\" y=\"-79.3\" font-family=\"Times New Roman,serif\" font-size=\"14.00\">2.0</text>\r\n",
       "<polyline fill=\"none\" stroke=\"black\" points=\"81.5,-71.5 204.5,-71.5 \"/>\r\n",
       "<text text-anchor=\"middle\" x=\"143\" y=\"-56.3\" font-family=\"Times New Roman,serif\" font-size=\"14.00\">Other process here</text>\r\n",
       "</g>\r\n",
       "<!-- enti2&#45;&gt;proc2 -->\r\n",
       "<g id=\"edge2\" class=\"edge\"><title>enti2&#45;&gt;proc2</title>\r\n",
       "<path fill=\"none\" stroke=\"black\" d=\"M288.352,-131.626C267.433,-120.814 239.459,-106.355 213.64,-93.0103\"/>\r\n",
       "<polygon fill=\"black\" stroke=\"black\" points=\"215.103,-89.8267 204.612,-88.3444 211.889,-96.0452 215.103,-89.8267\"/>\r\n",
       "</g>\r\n",
       "<!-- store2 -->\r\n",
       "<g id=\"node6\" class=\"node\"><title>store2</title>\r\n",
       "<polygon fill=\"none\" stroke=\"black\" points=\"16,-131.5 16,-167.5 134,-167.5 134,-131.5 16,-131.5\"/>\r\n",
       "<text text-anchor=\"middle\" x=\"26\" y=\"-145.8\" font-family=\"Times New Roman,serif\" font-size=\"14.00\"> </text>\r\n",
       "<polyline fill=\"none\" stroke=\"black\" points=\"36,-131.5 36,-167.5 \"/>\r\n",
       "<text text-anchor=\"middle\" x=\"85\" y=\"-145.8\" font-family=\"Times New Roman,serif\" font-size=\"14.00\">Data store two</text>\r\n",
       "</g>\r\n",
       "<!-- proc1&#45;&gt;store2 -->\r\n",
       "<g id=\"edge5\" class=\"edge\"><title>proc1&#45;&gt;store2</title>\r\n",
       "<path fill=\"none\" stroke=\"black\" d=\"M68.3366,-204.283C68.1393,-195.495 68.2791,-186.317 68.7559,-178.083\"/>\r\n",
       "<polygon fill=\"black\" stroke=\"black\" points=\"72.2608,-178.162 69.5768,-167.913 65.2835,-177.599 72.2608,-178.162\"/>\r\n",
       "</g>\r\n",
       "<!-- store1 -->\r\n",
       "<g id=\"node5\" class=\"node\"><title>store1</title>\r\n",
       "<polygon fill=\"none\" stroke=\"black\" points=\"152,-131.5 152,-167.5 270,-167.5 270,-131.5 152,-131.5\"/>\r\n",
       "<text text-anchor=\"middle\" x=\"162\" y=\"-145.8\" font-family=\"Times New Roman,serif\" font-size=\"14.00\"> </text>\r\n",
       "<polyline fill=\"none\" stroke=\"black\" points=\"172,-131.5 172,-167.5 \"/>\r\n",
       "<text text-anchor=\"middle\" x=\"221\" y=\"-145.8\" font-family=\"Times New Roman,serif\" font-size=\"14.00\">Data store one</text>\r\n",
       "</g>\r\n",
       "<!-- store1&#45;&gt;proc1 -->\r\n",
       "<g id=\"edge3\" class=\"edge\"><title>store1&#45;&gt;proc1</title>\r\n",
       "<path fill=\"none\" stroke=\"black\" d=\"M185.615,-167.672C172.628,-176.457 156.168,-187.592 139.94,-198.57\"/>\r\n",
       "<polygon fill=\"black\" stroke=\"black\" points=\"137.816,-195.781 131.495,-204.283 141.739,-201.579 137.816,-195.781\"/>\r\n",
       "</g>\r\n",
       "<!-- store2&#45;&gt;proc1 -->\r\n",
       "<g id=\"edge6\" class=\"edge\"><title>store2&#45;&gt;proc1</title>\r\n",
       "<path fill=\"none\" stroke=\"black\" d=\"M80.4232,-167.913C81.2387,-175.467 81.6783,-184.724 81.7419,-194.115\"/>\r\n",
       "<polygon fill=\"black\" stroke=\"black\" points=\"78.2408,-194.256 81.6634,-204.283 85.2406,-194.31 78.2408,-194.256\"/>\r\n",
       "</g>\r\n",
       "<!-- store2&#45;&gt;proc2 -->\r\n",
       "<g id=\"edge4\" class=\"edge\"><title>store2&#45;&gt;proc2</title>\r\n",
       "<path fill=\"none\" stroke=\"black\" d=\"M87.7903,-131.196C93.801,-123.063 101.284,-112.939 108.782,-102.795\"/>\r\n",
       "<polygon fill=\"black\" stroke=\"black\" points=\"111.64,-104.816 114.77,-94.6942 106.011,-100.656 111.64,-104.816\"/>\r\n",
       "</g>\r\n",
       "</g>\r\n",
       "</svg>\r\n"
      ],
      "text/plain": [
       "<IPython.core.display.HTML object>"
      ]
     },
     "metadata": {},
     "output_type": "display_data"
    }
   ],
   "source": [
    "echo 'digraph dfd2{\n",
    "        node[shape=record]\n",
    "        subgraph level0{\n",
    "        enti1 [label=\"Customer\" shape=box];\n",
    "        enti2 [label=\"Manager\" shape=box];\n",
    "        }\n",
    "        subgraph cluster_level1{\n",
    "                        label =\"Level 1\";\n",
    "                        proc1 [label=\"{<f0> 1.0|<f1> One process here\\n\\n\\n}\" shape=Mrecord];\n",
    "                        proc2 [label=\"{<f0> 2.0|<f1> Other process here\\n\\n\\n}\" shape=Mrecord];\n",
    "                        store1 [label=\"<f0>    |<f1> Data store one\"];\n",
    "                        store2 [label=\"<f0>   |<f1> Data store two\"];\n",
    "                        {rank=same; store1 store2}\n",
    "\n",
    "        }\n",
    "        enti1 -> proc1\n",
    "        enti2 -> proc2\n",
    "        store1 -> proc1\n",
    "        store2 -> proc2\n",
    "        proc1 -> store2\n",
    "        store2 -> proc1 \n",
    "}' | pydot"
   ]
  },
  {
   "cell_type": "code",
   "execution_count": 86,
   "metadata": {
    "collapsed": false
   },
   "outputs": [
    {
     "data": {
      "text/html": [
       "<?xml version=\"1.0\" encoding=\"UTF-8\" standalone=\"no\"?>\r\n",
       "<!DOCTYPE svg PUBLIC \"-//W3C//DTD SVG 1.1//EN\"\r\n",
       " \"http://www.w3.org/Graphics/SVG/1.1/DTD/svg11.dtd\">\r\n",
       "<!-- Generated by graphviz version 2.38.0 (20140413.2041)\r\n",
       " -->\r\n",
       "<!-- Title: obj Pages: 1 -->\r\n",
       "<svg width=\"355pt\" height=\"296pt\"\r\n",
       " viewBox=\"0.00 0.00 355.00 296.00\" xmlns=\"http://www.w3.org/2000/svg\" xmlns:xlink=\"http://www.w3.org/1999/xlink\">\r\n",
       "<g id=\"graph0\" class=\"graph\" transform=\"scale(1 1) rotate(0) translate(4 292)\">\r\n",
       "<title>obj</title>\r\n",
       "<polygon fill=\"white\" stroke=\"none\" points=\"-4,4 -4,-292 351,-292 351,4 -4,4\"/>\r\n",
       "<!-- teacher -->\r\n",
       "<g id=\"node1\" class=\"node\"><title>teacher</title>\r\n",
       "<polygon fill=\"none\" stroke=\"black\" points=\"0,-216.5 0,-287.5 62,-287.5 62,-216.5 0,-216.5\"/>\r\n",
       "<text text-anchor=\"middle\" x=\"31\" y=\"-272.3\" font-family=\"Times New Roman,serif\" font-size=\"14.00\">Teacher</text>\r\n",
       "<polyline fill=\"none\" stroke=\"black\" points=\"0,-264.5 62,-264.5 \"/>\r\n",
       "<polyline fill=\"none\" stroke=\"black\" points=\"0,-240.5 62,-240.5 \"/>\r\n",
       "</g>\r\n",
       "<!-- course -->\r\n",
       "<g id=\"node2\" class=\"node\"><title>course</title>\r\n",
       "<polygon fill=\"none\" stroke=\"black\" points=\"157.5,-216.5 157.5,-287.5 214.5,-287.5 214.5,-216.5 157.5,-216.5\"/>\r\n",
       "<text text-anchor=\"middle\" x=\"186\" y=\"-272.3\" font-family=\"Times New Roman,serif\" font-size=\"14.00\">Course</text>\r\n",
       "<polyline fill=\"none\" stroke=\"black\" points=\"157.5,-264.5 214.5,-264.5 \"/>\r\n",
       "<polyline fill=\"none\" stroke=\"black\" points=\"157.5,-240.5 214.5,-240.5 \"/>\r\n",
       "</g>\r\n",
       "<!-- teacher&#45;&gt;course -->\r\n",
       "<g id=\"edge1\" class=\"edge\"><title>teacher&#45;&gt;course</title>\r\n",
       "<path fill=\"none\" stroke=\"black\" d=\"M55.5051,-216.34C62.4826,-208.913 70.7402,-202.101 80,-198 104.382,-187.201 115.79,-186.82 140,-198 148.945,-202.131 156.791,-208.953 163.352,-216.381\"/>\r\n",
       "<text text-anchor=\"middle\" x=\"159.852\" y=\"-205.181\" font-family=\"Times New Roman,serif\" font-size=\"14.00\">1</text>\r\n",
       "<text text-anchor=\"middle\" x=\"63.0051\" y=\"-205.14\" font-family=\"Times New Roman,serif\" font-size=\"14.00\">1..</text>\r\n",
       "</g>\r\n",
       "<!-- student -->\r\n",
       "<g id=\"node3\" class=\"node\"><title>student</title>\r\n",
       "<polygon fill=\"none\" stroke=\"black\" points=\"80.5,-216.5 80.5,-287.5 139.5,-287.5 139.5,-216.5 80.5,-216.5\"/>\r\n",
       "<text text-anchor=\"middle\" x=\"110\" y=\"-272.3\" font-family=\"Times New Roman,serif\" font-size=\"14.00\">Student</text>\r\n",
       "<polyline fill=\"none\" stroke=\"black\" points=\"80.5,-264.5 139.5,-264.5 \"/>\r\n",
       "<polyline fill=\"none\" stroke=\"black\" points=\"80.5,-240.5 139.5,-240.5 \"/>\r\n",
       "</g>\r\n",
       "<!-- student&#45;&gt;course -->\r\n",
       "<g id=\"edge2\" class=\"edge\"><title>student&#45;&gt;course</title>\r\n",
       "<path fill=\"none\" stroke=\"black\" d=\"M139.688,-252C145.597,-252 151.507,-252 157.417,-252\"/>\r\n",
       "<text text-anchor=\"middle\" x=\"153.917\" y=\"-255.8\" font-family=\"Times New Roman,serif\" font-size=\"14.00\">1</text>\r\n",
       "<text text-anchor=\"middle\" x=\"147.188\" y=\"-240.8\" font-family=\"Times New Roman,serif\" font-size=\"14.00\">1..</text>\r\n",
       "</g>\r\n",
       "<!-- lesson -->\r\n",
       "<g id=\"node4\" class=\"node\"><title>lesson</title>\r\n",
       "<polygon fill=\"none\" stroke=\"black\" points=\"80.5,-108.5 80.5,-179.5 137.5,-179.5 137.5,-108.5 80.5,-108.5\"/>\r\n",
       "<text text-anchor=\"middle\" x=\"109\" y=\"-164.3\" font-family=\"Times New Roman,serif\" font-size=\"14.00\">Lesson</text>\r\n",
       "<polyline fill=\"none\" stroke=\"black\" points=\"80.5,-156.5 137.5,-156.5 \"/>\r\n",
       "<polyline fill=\"none\" stroke=\"black\" points=\"80.5,-132.5 137.5,-132.5 \"/>\r\n",
       "</g>\r\n",
       "<!-- lesson&#45;&gt;course -->\r\n",
       "<g id=\"edge3\" class=\"edge\"><title>lesson&#45;&gt;course</title>\r\n",
       "<path fill=\"none\" stroke=\"black\" d=\"M134.213,-179.708C140.395,-188.219 147.098,-197.447 153.567,-206.352\"/>\r\n",
       "<polygon fill=\"black\" stroke=\"black\" points=\"153.678,-206.505 160.441,-209.008 160.731,-216.214 153.968,-213.71 153.678,-206.505\"/>\r\n",
       "</g>\r\n",
       "<!-- tutorial -->\r\n",
       "<g id=\"node5\" class=\"node\"><title>tutorial</title>\r\n",
       "<polygon fill=\"none\" stroke=\"black\" points=\"156,-108.5 156,-179.5 216,-179.5 216,-108.5 156,-108.5\"/>\r\n",
       "<text text-anchor=\"middle\" x=\"186\" y=\"-164.3\" font-family=\"Times New Roman,serif\" font-size=\"14.00\">Tutorial</text>\r\n",
       "<polyline fill=\"none\" stroke=\"black\" points=\"156,-156.5 216,-156.5 \"/>\r\n",
       "<polyline fill=\"none\" stroke=\"black\" points=\"156,-132.5 216,-132.5 \"/>\r\n",
       "</g>\r\n",
       "<!-- tutorial&#45;&gt;course -->\r\n",
       "<g id=\"edge4\" class=\"edge\"><title>tutorial&#45;&gt;course</title>\r\n",
       "<path fill=\"none\" stroke=\"black\" d=\"M186,-179.708C186,-187.487 186,-195.865 186,-204.047\"/>\r\n",
       "<polygon fill=\"black\" stroke=\"black\" points=\"186,-204.214 190,-210.214 186,-216.214 182,-210.214 186,-204.214\"/>\r\n",
       "</g>\r\n",
       "<!-- assessment -->\r\n",
       "<g id=\"node6\" class=\"node\"><title>assessment</title>\r\n",
       "<polygon fill=\"none\" stroke=\"black\" points=\"234.5,-108.5 234.5,-179.5 317.5,-179.5 317.5,-108.5 234.5,-108.5\"/>\r\n",
       "<text text-anchor=\"middle\" x=\"276\" y=\"-164.3\" font-family=\"Times New Roman,serif\" font-size=\"14.00\">Assessment</text>\r\n",
       "<polyline fill=\"none\" stroke=\"black\" points=\"234.5,-156.5 317.5,-156.5 \"/>\r\n",
       "<polyline fill=\"none\" stroke=\"black\" points=\"234.5,-132.5 317.5,-132.5 \"/>\r\n",
       "</g>\r\n",
       "<!-- assessment&#45;&gt;course -->\r\n",
       "<g id=\"edge5\" class=\"edge\"><title>assessment&#45;&gt;course</title>\r\n",
       "<path fill=\"none\" stroke=\"black\" d=\"M246.531,-179.708C238.841,-188.765 230.461,-198.634 222.456,-208.062\"/>\r\n",
       "<polygon fill=\"black\" stroke=\"black\" points=\"222.382,-208.15 221.548,-215.312 214.616,-217.297 215.45,-210.134 222.382,-208.15\"/>\r\n",
       "</g>\r\n",
       "<!-- coursework -->\r\n",
       "<g id=\"node7\" class=\"node\"><title>coursework</title>\r\n",
       "<polygon fill=\"none\" stroke=\"black\" points=\"189,-0.5 189,-71.5 275,-71.5 275,-0.5 189,-0.5\"/>\r\n",
       "<text text-anchor=\"middle\" x=\"232\" y=\"-56.3\" font-family=\"Times New Roman,serif\" font-size=\"14.00\">Coursework</text>\r\n",
       "<polyline fill=\"none\" stroke=\"black\" points=\"189,-48.5 275,-48.5 \"/>\r\n",
       "<polyline fill=\"none\" stroke=\"black\" points=\"189,-24.5 275,-24.5 \"/>\r\n",
       "</g>\r\n",
       "<!-- coursework&#45;&gt;assessment -->\r\n",
       "<g id=\"edge6\" class=\"edge\"><title>coursework&#45;&gt;assessment</title>\r\n",
       "<path fill=\"none\" stroke=\"black\" d=\"M246.407,-71.7084C250.016,-80.402 253.935,-89.8441 257.705,-98.9261\"/>\r\n",
       "<polygon fill=\"black\" stroke=\"black\" points=\"254.494,-100.32 261.56,-108.214 260.959,-97.6359 254.494,-100.32\"/>\r\n",
       "</g>\r\n",
       "<!-- exam -->\r\n",
       "<g id=\"node8\" class=\"node\"><title>exam</title>\r\n",
       "<polygon fill=\"none\" stroke=\"black\" points=\"293,-0.5 293,-71.5 347,-71.5 347,-0.5 293,-0.5\"/>\r\n",
       "<text text-anchor=\"middle\" x=\"320\" y=\"-56.3\" font-family=\"Times New Roman,serif\" font-size=\"14.00\">Exam</text>\r\n",
       "<polyline fill=\"none\" stroke=\"black\" points=\"293,-48.5 347,-48.5 \"/>\r\n",
       "<polyline fill=\"none\" stroke=\"black\" points=\"293,-24.5 347,-24.5 \"/>\r\n",
       "</g>\r\n",
       "<!-- exam&#45;&gt;assessment -->\r\n",
       "<g id=\"edge7\" class=\"edge\"><title>exam&#45;&gt;assessment</title>\r\n",
       "<path fill=\"none\" stroke=\"black\" d=\"M305.593,-71.7084C301.984,-80.402 298.065,-89.8441 294.295,-98.9261\"/>\r\n",
       "<polygon fill=\"black\" stroke=\"black\" points=\"291.041,-97.6359 290.44,-108.214 297.506,-100.32 291.041,-97.6359\"/>\r\n",
       "</g>\r\n",
       "</g>\r\n",
       "</svg>\r\n"
      ],
      "text/plain": [
       "<IPython.core.display.HTML object>"
      ]
     },
     "metadata": {},
     "output_type": "display_data"
    }
   ],
   "source": [
    "echo 'digraph obj{\n",
    "        node[shape=record];\n",
    "        rankdir=\"BT\";\n",
    "        \n",
    "        teacher [label = \"{<f0> Teacher|<f1> \\n  |<f2> \\n   }\"];\n",
    "        course [label = \"{<f0> Course|<f1> \\n  |<f2> \\n   }\"];\n",
    "        student [label = \"{<f0> Student|<f1> \\n  |<f2> \\n   }\"];\n",
    "        lesson [label = \"{<f0> Lesson |<f1> \\n  |<f2> \\n   }\"];\n",
    "        tutorial [label = \"{<f0> Tutorial|<f1> \\n  |<f2> \\n   }\"];\n",
    "        assessment[label = \"{<f0> Assessment|<f1> \\n  |<f2> \\n   }\"];\n",
    "        coursework [label = \"{<f0> Coursework|<f1> \\n  |<f2> \\n   }\"];\n",
    "        exam [label = \"{<f0> Exam|<f1> \\n  |<f2> \\n   }\"];\n",
    "\n",
    "        {rank=same; teacher course student}\n",
    "\n",
    "        teacher->course [dir=\"forward\",arrowhead=\"none\",arrowtail=\"normal\",headlabel=\"1\",taillabel=\"1..\"];\n",
    "        student->course [dir=\"forward\",arrowhead=\"none\",arrowtail=\"normal\",headlabel=\"1\",taillabel=\"1..\"];\n",
    "        lesson->course [dir=\"forward\",arrowhead=\"diamond\",arrowtail=\"normal\"];\n",
    "        tutorial->course [dir=\"forward\",arrowhead=\"diamond\",arrowtail=\"normal\"];\n",
    "        assessment->course [dir=\"forward\",arrowhead=\"diamond\",arrowtail=\"normal\"];\n",
    "        coursework->assessment;\n",
    "        exam->assessment;\n",
    "\n",
    "}' | pydot"
   ]
  },
  {
   "cell_type": "code",
   "execution_count": 87,
   "metadata": {
    "collapsed": false
   },
   "outputs": [
    {
     "data": {
      "text/html": [
       "<?xml version=\"1.0\" encoding=\"UTF-8\" standalone=\"no\"?>\r\n",
       "<!DOCTYPE svg PUBLIC \"-//W3C//DTD SVG 1.1//EN\"\r\n",
       " \"http://www.w3.org/Graphics/SVG/1.1/DTD/svg11.dtd\">\r\n",
       "<!-- Generated by graphviz version 2.38.0 (20140413.2041)\r\n",
       " -->\r\n",
       "<!-- Title: ER Pages: 1 -->\r\n",
       "<svg width=\"224pt\" height=\"70pt\"\r\n",
       " viewBox=\"0.00 0.00 224.00 69.78\" xmlns=\"http://www.w3.org/2000/svg\" xmlns:xlink=\"http://www.w3.org/1999/xlink\">\r\n",
       "<g id=\"graph0\" class=\"graph\" transform=\"scale(1 1) rotate(0) translate(4 65.784)\">\r\n",
       "<title>ER</title>\r\n",
       "<polygon fill=\"white\" stroke=\"none\" points=\"-4,4 -4,-65.784 220,-65.784 220,4 -4,4\"/>\r\n",
       "<!-- Book -->\r\n",
       "<g id=\"node1\" class=\"node\"><title>Book</title>\r\n",
       "<polygon fill=\"none\" stroke=\"black\" points=\"54,-36 0,-36 0,-0 54,-0 54,-36\"/>\r\n",
       "<text text-anchor=\"middle\" x=\"27\" y=\"-14.3\" font-family=\"Times New Roman,serif\" font-size=\"14.00\">Book</text>\r\n",
       "</g>\r\n",
       "<!-- Loan -->\r\n",
       "<g id=\"node3\" class=\"node\"><title>Loan</title>\r\n",
       "<polygon fill=\"none\" stroke=\"black\" points=\"216,-36 162,-36 162,-0 216,-0 216,-36\"/>\r\n",
       "<text text-anchor=\"middle\" x=\"189\" y=\"-14.3\" font-family=\"Times New Roman,serif\" font-size=\"14.00\">Loan</text>\r\n",
       "</g>\r\n",
       "<!-- Book&#45;&gt;Loan -->\r\n",
       "<g id=\"edge1\" class=\"edge\"><title>Book&#45;&gt;Loan</title>\r\n",
       "<path fill=\"none\" stroke=\"black\" d=\"M44.5292,-36.2239C52.478,-43.2059 62.4541,-50.3639 73,-54 102.832,-64.2857 114.223,-64.4451 144,-54 151.14,-51.4955 157.988,-47.3291 164.094,-42.7013\"/>\r\n",
       "<polygon fill=\"black\" stroke=\"black\" points=\"164.219,-42.5981 174.79,-39.6821 168.069,-39.4077 171.919,-36.2173 171.919,-36.2173 171.919,-36.2173 168.069,-39.4077 169.047,-32.7524 164.219,-42.5981 164.219,-42.5981\"/>\r\n",
       "</g>\r\n",
       "<!-- Customer -->\r\n",
       "<g id=\"node2\" class=\"node\"><title>Customer</title>\r\n",
       "<polygon fill=\"none\" stroke=\"black\" points=\"143.5,-36 72.5,-36 72.5,-0 143.5,-0 143.5,-36\"/>\r\n",
       "<text text-anchor=\"middle\" x=\"108\" y=\"-14.3\" font-family=\"Times New Roman,serif\" font-size=\"14.00\">Customer</text>\r\n",
       "</g>\r\n",
       "<!-- Customer&#45;&gt;Loan -->\r\n",
       "<g id=\"edge2\" class=\"edge\"><title>Customer&#45;&gt;Loan</title>\r\n",
       "<path fill=\"none\" stroke=\"black\" d=\"M143.754,-18C146.383,-18 149.012,-18 151.641,-18\"/>\r\n",
       "<polygon fill=\"black\" stroke=\"black\" points=\"151.782,-18.0001 161.782,-22.5 156.782,-18 161.782,-18 161.782,-18 161.782,-18 156.782,-18 161.782,-13.5 151.782,-18.0001 151.782,-18.0001\"/>\r\n",
       "</g>\r\n",
       "</g>\r\n",
       "</svg>\r\n"
      ],
      "text/plain": [
       "<IPython.core.display.HTML object>"
      ]
     },
     "metadata": {},
     "output_type": "display_data"
    }
   ],
   "source": [
    "echo 'digraph ER{\n",
    "        node[shape=box];\n",
    "        Book;\n",
    "        Customer;\n",
    "        Loan;\n",
    "        {rank=same;Book Customer Loan}\n",
    "        Book->Loan[dir=\"forward\",arrowhead=\"crow\",arrowtail=\"normal\"];\n",
    "        Customer->Loan[dir=\"forward\",arrowhead=\"crow\",arrowtail=\"normal\"];\n",
    "}' | pydot"
   ]
  },
  {
   "cell_type": "code",
   "execution_count": 88,
   "metadata": {
    "collapsed": false
   },
   "outputs": [
    {
     "data": {
      "text/plain": [
       "digraph G { \n",
       "        a; \n",
       "        b; \n",
       "        c -> d; \n",
       "        a -> c; \n",
       "}"
      ]
     },
     "execution_count": 88,
     "metadata": {},
     "output_type": "execute_result"
    }
   ],
   "source": [
    "# HERE document:\n",
    "cat <<EOF\n",
    "digraph G { \n",
    "        a; \n",
    "        b; \n",
    "        c -> d; \n",
    "        a -> c; \n",
    "}\n",
    "EOF"
   ]
  },
  {
   "cell_type": "code",
   "execution_count": 89,
   "metadata": {
    "collapsed": false
   },
   "outputs": [
    {
     "data": {},
     "execution_count": 89,
     "metadata": {},
     "output_type": "execute_result"
    }
   ],
   "source": [
    "# HERE document, piped: (sometimes fails ... fails to see command-prompt in 'shell_magic.py'?)\n",
    "# cat <<EOF\n",
    "# digraph G { \n",
    "#         a; \n",
    "#         b; \n",
    "#         c -> d; \n",
    "#         a -> c; \n",
    "# }\n",
    "# EOF | cat"
   ]
  },
  {
   "cell_type": "code",
   "execution_count": 90,
   "metadata": {
    "collapsed": false
   },
   "outputs": [
    {
     "data": {},
     "execution_count": 90,
     "metadata": {},
     "output_type": "execute_result"
    }
   ],
   "source": [
    "# HERE document, piped to pydot:\n",
    "\n",
    "# FAILS: messes up kernel ...\n",
    "# type pydot\n",
    "# cat <<EOF\n",
    "# digraph G { \n",
    "#         piped; \n",
    "#         b; \n",
    "#         c -> d; \n",
    "#         a -> c; \n",
    "# }\n",
    "# EOF | pydot"
   ]
  },
  {
   "cell_type": "code",
   "execution_count": 91,
   "metadata": {
    "collapsed": false
   },
   "outputs": [
    {
     "data": {},
     "execution_count": 91,
     "metadata": {},
     "output_type": "execute_result"
    }
   ],
   "source": [
    "\n",
    "#type pydot\n",
    "#typeset +f"
   ]
  },
  {
   "cell_type": "code",
   "execution_count": 92,
   "metadata": {
    "collapsed": false
   },
   "outputs": [
    {
     "data": {
      "text/plain": [
       "pydot is a function\n",
       "pydot () \n",
       "{ \n",
       "    metakernel_magic 'pydot' $*\n",
       "}"
      ]
     },
     "execution_count": 92,
     "metadata": {},
     "output_type": "execute_result"
    }
   ],
   "source": [
    "type pydot"
   ]
  },
  {
   "cell_type": "code",
   "execution_count": 93,
   "metadata": {
    "collapsed": false
   },
   "outputs": [
    {
     "data": {
      "text/html": [
       "<?xml version=\"1.0\" encoding=\"UTF-8\" standalone=\"no\"?>\r\n",
       "<!DOCTYPE svg PUBLIC \"-//W3C//DTD SVG 1.1//EN\"\r\n",
       " \"http://www.w3.org/Graphics/SVG/1.1/DTD/svg11.dtd\">\r\n",
       "<!-- Generated by graphviz version 2.38.0 (20140413.2041)\r\n",
       " -->\r\n",
       "<!-- Title: A Pages: 1 -->\r\n",
       "<svg width=\"62pt\" height=\"116pt\"\r\n",
       " viewBox=\"0.00 0.00 62.00 116.00\" xmlns=\"http://www.w3.org/2000/svg\" xmlns:xlink=\"http://www.w3.org/1999/xlink\">\r\n",
       "<g id=\"graph0\" class=\"graph\" transform=\"scale(1 1) rotate(0) translate(4 112)\">\r\n",
       "<title>A</title>\r\n",
       "<polygon fill=\"white\" stroke=\"none\" points=\"-4,4 -4,-112 58,-112 58,4 -4,4\"/>\r\n",
       "<!-- a -->\r\n",
       "<g id=\"node1\" class=\"node\"><title>a</title>\r\n",
       "<ellipse fill=\"none\" stroke=\"black\" cx=\"27\" cy=\"-90\" rx=\"27\" ry=\"18\"/>\r\n",
       "<text text-anchor=\"middle\" x=\"27\" y=\"-86.3\" font-family=\"Times New Roman,serif\" font-size=\"14.00\">a</text>\r\n",
       "</g>\r\n",
       "<!-- b -->\r\n",
       "<g id=\"node2\" class=\"node\"><title>b</title>\r\n",
       "<ellipse fill=\"none\" stroke=\"black\" cx=\"27\" cy=\"-18\" rx=\"27\" ry=\"18\"/>\r\n",
       "<text text-anchor=\"middle\" x=\"27\" y=\"-14.3\" font-family=\"Times New Roman,serif\" font-size=\"14.00\">b</text>\r\n",
       "</g>\r\n",
       "<!-- a&#45;&#45;b -->\r\n",
       "<g id=\"edge1\" class=\"edge\"><title>a&#45;&#45;b</title>\r\n",
       "<path fill=\"none\" stroke=\"black\" d=\"M27,-71.6966C27,-60.8463 27,-46.9167 27,-36.1043\"/>\r\n",
       "</g>\r\n",
       "</g>\r\n",
       "</svg>\r\n"
      ],
      "text/plain": [
       "<IPython.core.display.HTML object>"
      ]
     },
     "metadata": {},
     "output_type": "display_data"
    }
   ],
   "source": [
    "%%dot\n",
    "\n",
    "graph A { a->b }\n",
    "\n"
   ]
  },
  {
   "cell_type": "code",
   "execution_count": 94,
   "metadata": {
    "collapsed": false
   },
   "outputs": [
    {
     "data": {
      "text/plain": [
       "Filesystem       Size  Used Avail Use% Mounted on\n",
       "C:/tools/cygwin  465G  233G  232G  51% /"
      ]
     },
     "execution_count": 94,
     "metadata": {},
     "output_type": "execute_result"
    }
   ],
   "source": [
    "df -h"
   ]
  },
  {
   "cell_type": "code",
   "execution_count": 95,
   "metadata": {
    "collapsed": false
   },
   "outputs": [
    {
     "data": {
      "text/plain": [
       "[Tue, Jul 05, 2016 12:33:37 PM] Sourcing <</home/mjbright/src/git/GIT_mjbright/metakernel/metakernel_bash/metakernelrc>>"
      ]
     },
     "execution_count": 95,
     "metadata": {},
     "output_type": "execute_result"
    }
   ],
   "source": [
    "reread_metakernelrc"
   ]
  },
  {
   "cell_type": "code",
   "execution_count": 96,
   "metadata": {
    "collapsed": false
   },
   "outputs": [
    {
     "name": "stdout",
     "output_type": "stream",
     "text": [
      "Not a valid image: b'<!DOCTYPE html PUBLIC \"-//W3C//DTD HTML 4.01//EN\">\\n<html>\\n  <head>\\n    <meta http-equiv=\"Content-Type\" content=\"text/html; charset=UTF-8\">\\n    <style type=\"text/css\">\\n      html,body{\\n        height:100%;\\n        padding:0;\\n        margin:0;\\n      }\\n      .oc{\\n        display:table;\\n        width:100%;\\n        height:100%;\\n      }\\n      .ic{\\n        display:table-cell;\\n        vertical-align:middle;\\n        height:100%;\\n      }\\n      div.msg{\\n        display:block;\\n        border:5px solid #0B6121;\\n        padding:0;\\n        width:800px;\\n        font-family:helvetica,sans-serif;\\n        margin:10px auto;\\n      }\\n      h1{\\n        font-weight:bold;\\n        color:#fff;\\n        font-size:20px;\\n        margin:0;\\n        padding:2px;\\n        text-align:center;\\n        background: #0B6121;\\n      }\\n      h2{\\n        font-weight:bold;\\n        color:#fff;\\n        font-size:14px;\\n        margin:0;\\n        padding:2px;\\n        text-align:center;\\n        background: #0B6121;\\n      }\\n      p{\\n        font-size:14px;\\n        margin:15px auto;\\n        width:75%;\\n        font-family:helvetica,sans-serif;\\n        text-align:center;\\n      }\\n      j{\\n        font-size:14px;\\n        margin-left:2in;\\n        15px auto;\\n        width:75%;\\n        font-family:helvetica,sans-serif;\\n        text-align:center;\\n      }\\n    </style>\\n    <title>\\n      The URL you requested has been blocked\\n    </title>\\n  </head>\\n  <body>\\n    <div class=\"oc\">\\n      <div class=\"ic\">\\n        <div class=\"msg\">\\n          <h1>\\n            Whoops!  \\n          </h1>\\n          <h2>\\n            Unfortunately, you do not have the correct \\n            proxy settings configured to access the internet.\\n          </h2>\\n          <p>\\n            <br />\\n          </head>\\n          \\n          <body lang=EN-US link=blue vlink=\"#954F72\" style=\\'tab-interval:.5in\\'>\\n            \\n            <div class=WordSection1>\\n              \\n              <p class=MsoNormal align=center style=\\'margin-top:2.0pt;margin-right:0in;\\nmargin-bottom:2.0pt;margin-left:1in;text-align:center;line-height:normal;\\ntext-autospace:none\\'>\\n  <span style=\\'font-size:13.0pt;font-family:\"Times New Roman\",serif\\'>\\n    Configure\\n    your proxy settings in the browser to use:\\n    <o:p>\\n    </o:p>\\n  </span>\\n              </p>\\n              \\n              <p class=MsoNormal align=center style=\\'margin-top:2.0pt;margin-right:0in;\\nmargin-bottom:2.0pt;margin-left:1in;text-align:center;line-height:normal;\\ntext-autospace:none\\'>\\n  <span style=\\'font-size:12.0pt;font-family:\"Times New Roman\",serif\\'>\\n    \\n  </span>\\n  <a\\n  <i>\\n    <span style=\\'font-size:12.0pt;font-family:\\n\"Times New Roman\",serif\\'>\\n  <b>\\n    <i>\\n      <u>\\n        http://autocache.hp.com\\n      </span>\\n    </i>\\n  </a>\\n    </b>\\n  </i>\\n              </u>\\n            </p>\\n            \\n            \\n            <p class=MsoNormal style=\\'margin-top:2.0pt;margin-right:0in;margin-bottom:2.0pt;\\nmargin-left:0in;line-height:normal;text-autospace:none\\'>\\n  <span style=\\'font-size:\\n10.0pt;font-family:\"Segoe UI\",sans-serif;color:black\\'>\\n  <o:p>\\n    \\n  </o:p>\\n  </span>\\n            </p>\\n            \\n            <p class=MsoNormal style=\\'margin-top:2.0pt;margin-right:0in;margin-bottom:2.0pt;\\nmargin-left:2.25in;line-height:normal;text-align:left;text-autospace:none\\'>\\n  <span\\n  style=\\'font-size:12.0pt;font-family:\"Times New Roman\",serif\\'>\\n    In Internet\\n    Explorer follow these steps:\\n  </span>\\n            </p>\\n            \\n            <p class=MsoNormal style=\\'margin-top:2.0pt;margin-right:0in;margin-bottom:2.0pt;\\nmargin-left:1.65in;text-indent:-.25in;line-height:normal;text-autospace:none\\'>\\n  <span\\n  style=\\'font-size:12.0pt;font-family:\"Times New Roman\",serif\\'>\\n    1.\\n  </span>\\n  <span\\n  style=\\'font-size:7.0pt;font-family:\"Times New Roman\",serif\\'>\\n    \\n  </span>\\n  <span style=\\'font-size:12.0pt;font-family:\"Times New Roman\",serif\\'>\\n    From\\n    the Internet Explorer \\n    <b>\\n      Tools\\n    </b>\\n    menu, select \\n    <b>\\n      Internet\\n      Options\\n    </b>\\n    .  \\n  </span>\\n            </p>\\n            \\n            <p class=MsoNormal style=\\'margin-top:2.0pt;margin-right:0in;margin-bottom:2.0pt;\\nmargin-left:2.62in;text-align:left;text-indent:-.25in;line-height:normal;text-autospace:none\\'>\\n  <span\\n  style=\\'font-size:12.0pt;font-family:\"Times New Roman\",serif\\'>\\n    2.\\n  </span>\\n  <span\\n  style=\\'font-size:7.0pt;font-family:\"Times New Roman\",serif\\'>\\n    \\n  </span>\\n  <span style=\\'font-size:12.0pt;font-family:\"Times New Roman\",serif\\'>\\n    Select the \\n    <b>\\n      Connections\\n    </b>\\n    tab.  \\n  </span>\\n            </p>\\n            \\n            <p class=MsoNormal style=\\'margin-top:2.0pt;margin-right:0in;margin-bottom:2.0pt;\\nmargin-left:2.62in;text-align:left;text-indent:-.25in;line-height:normal;text-autospace:none\\'>\\n  <span\\n  style=\\'font-size:12.0pt;font-family:\"Times New Roman\",serif\\'>\\n    3.\\n  </span>\\n  <span\\n  style=\\'font-size:7.0pt;font-family:\"Times New Roman\",serif\\'>\\n    \\n  </span>\\n  <span style=\\'font-size:12.0pt;font-family:\"Times New Roman\",serif\\'>\\n    Select \\n    <b>\\n      LAN\\n      Settings\\n    </b>\\n    .  \\n  </span>\\n            </p>\\n            \\n            <p class=MsoNormal style=\\'margin-top:2.0pt;margin-right:0in;margin-bottom:2.0pt;\\nmargin-left:1.66in;text-indent:-.25in;line-height:normal;text-autospace:none\\'>\\n  <span\\n  style=\\'font-size:12.0pt;font-family:\"Times New Roman\",serif\\'>\\n    4.\\n  </span>\\n  <span\\n  style=\\'font-size:7.0pt;font-family:\"Times New Roman\",serif\\'>\\n    \\n  </span>\\n  <span style=\\'font-size:12.0pt;font-family:\"Times New Roman\",serif\\'>\\n    Uncheck \\n    <b>\\n      Automatically\\n      detect settings, \\n    </b>\\n    if it is currently checked.  \\n  </span>\\n            </p>\\n            \\n            <p class=MsoNormal style=\\'margin-top:2.0pt;margin-right:0in;margin-bottom:2.0pt;\\nmargin-left:.95in;text-indent:-.25in;line-height:normal;text-autospace:none\\'>\\n  <span\\n  style=\\'font-size:12.0pt;font-family:\"Times New Roman\",serif\\'>\\n    5.\\n  </span>\\n  <span\\n  style=\\'font-size:7.0pt;font-family:\"Times New Roman\",serif\\'>\\n    \\n  </span>\\n  <span style=\\'font-size:12.0pt;font-family:\"Times New Roman\",serif\\'>\\n    Check \\n    <b>\\n      Use\\n      automatic configuration script\\n    </b>\\n    .  \\n  </span>\\n            </p>\\n            \\n            <p class=MsoNormal style=\\'margin-top:2.0pt;margin-right:0in;margin-bottom:2.0pt;\\nmargin-left:1.25in;text-indent:-.25in;line-height:normal;text-autospace:none\\'>\\n  <span\\n  style=\\'font-size:12.0pt;font-family:\"Times New Roman\",serif\\'>\\n    6.\\n  </span>\\n  <span\\n  style=\\'font-size:7.0pt;font-family:\"Times New Roman\",serif\\'>\\n    \\n  </span>\\n  <span style=\\'font-size:12.0pt;font-family:\"Times New Roman\",serif\\'>\\n    In\\n    the Address field, enter: \\n  </span>\\n  <b>\\n    <span\\n    style=\\'font-size:12.0pt;font-family:\"Times New Roman\",serif\\'>\\n      http://autocache.hp.com\\n    </span>\\n  </b>\\n            </a>\\n            <span\\n            style=\\'font-size:12.0pt;font-family:\"Times New Roman\",serif\\'>\\n              .  \\n            </span>\\n          </p>\\n          \\n          <p class=MsoNormal style=\\'margin-top:2.0pt;margin-right:0in;margin-bottom:2.0pt;\\nmargin-left:.965in;text-indent:-.25in;line-height:normal;text-autospace:none\\'>\\n  <span\\n  style=\\'font-size:12.0pt;font-family:\"Times New Roman\",serif\\'>\\n    7.\\n  </span>\\n  <span\\n  style=\\'font-size:7.0pt;font-family:\"Times New Roman\",serif\\'>\\n    \\n  </span>\\n  <span style=\\'font-size:12.0pt;font-family:\"Times New Roman\",serif\\'>\\n    Uncheck \\n    <b>\\n      Use\\n      a proxy server for your LAN\\n    </b>\\n    .  \\n  </span>\\n          </p>\\n          \\n          <p class=MsoNormal style=\\'margin-top:2.0pt;margin-right:0in;margin-bottom:2.0pt;\\nmargin-left:0.03in;text-indent:-.29in;line-height:normal;text-autospace:none\\'>\\n  <span\\n  style=\\'font-size:12.0pt;font-family:\"Times New Roman\",serif\\'>\\n    8.\\n  </span>\\n  <span\\n  style=\\'font-size:7.0pt;font-family:\"Times New Roman\",serif\\'>\\n    \\n  </span>\\n  <span style=\\'font-size:12.0pt;font-family:\"Times New Roman\",serif\\'>\\n    Select \\n    <b>\\n      OK\\n    </b>\\n    twice. \\n  </span>\\n  <span\\n  style=\\'font-size:10.0pt;font-family:\"Segoe UI\",sans-serif;color:black\\'>\\n    \\n  </span>\\n          </p>\\n          \\n          \\n          <br />\\n        </div>\\r\\n'"
     ]
    },
    {
     "data": {
      "text/plain": [
       "--2016-07-05 12:33:38--  http://images6.fanpop.com/image/photos/38500000/beautiful-wallpaper-2-beautiful-pictures-38538867-2560-1600.jpg\n",
       "Resolving images6.fanpop.com (images6.fanpop.com)... 104.25.112.32, 104.25.113.32\n",
       "Connecting to images6.fanpop.com (images6.fanpop.com)|104.25.112.32|:80... connected.\n",
       "HTTP request sent, awaiting response... 200 OK\n",
       "Length: 8127 (7.9K) [text/html]\n",
       "Saving to: ‘STDOUT’\n",
       "\n",
       "     0K .......                                               100%  104M=0s\n",
       "\n",
       "2016-07-05 12:33:38 (104 MB/s) - written to stdout [8127/8127]"
      ]
     },
     "execution_count": 96,
     "metadata": {},
     "output_type": "execute_result"
    }
   ],
   "source": [
    "display 'http://images6.fanpop.com/image/photos/38500000/beautiful-wallpaper-2-beautiful-pictures-38538867-2560-1600.jpg'"
   ]
  },
  {
   "cell_type": "code",
   "execution_count": 97,
   "metadata": {
    "collapsed": false
   },
   "outputs": [
    {
     "data": {
      "image/jpeg": "[encoded data removed]"
     },
     "metadata": {},
     "output_type": "display_data"
    },
    {
     "data": {
      "text/plain": [
       "\n"
      ]
     },
     "execution_count": 97,
     "metadata": {},
     "output_type": "execute_result"
    }
   ],
   "source": [
    "display 'data:image/jpeg;base64,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'"
   ]
  },
  {
   "cell_type": "code",
   "execution_count": 98,
   "metadata": {
    "collapsed": false
   },
   "outputs": [
    {
     "data": {
      "image/png": "[encoded data removed]"
     },
     "metadata": {},
     "output_type": "display_data"
    },
    {
     "data": {
      "text/plain": [
       "\n"
      ]
     },
     "execution_count": 98,
     "metadata": {},
     "output_type": "execute_result"
    }
   ],
   "source": [
    "display /cygdrive/c/HP/drivers/touchpad/img_clicking.png"
   ]
  },
  {
   "cell_type": "code",
   "execution_count": 99,
   "metadata": {
    "collapsed": false
   },
   "outputs": [
    {
     "data": {
      "image/png": "[encoded data removed]"
     },
     "metadata": {},
     "output_type": "display_data"
    },
    {
     "data": {
      "text/plain": [
       "\n"
      ]
     },
     "execution_count": 99,
     "metadata": {},
     "output_type": "execute_result"
    }
   ],
   "source": [
    "cat /cygdrive/c/HP/drivers/touchpad/img_clicking.png | display"
   ]
  },
  {
   "cell_type": "code",
   "execution_count": 100,
   "metadata": {
    "collapsed": false
   },
   "outputs": [
    {
     "name": "stdout",
     "output_type": "stream",
     "text": [
      "Not a valid image: b'<!DOCTYPE html PUBLIC \"-//W3C//DTD HTML 4.01//EN\">\\n<html>\\n  <head>\\n    <meta http-equiv=\"Content-Type\" content=\"text/html; charset=UTF-8\">\\n    <style type=\"text/css\">\\n      html,body{\\n        height:100%;\\n        padding:0;\\n        margin:0;\\n      }\\n      .oc{\\n        display:table;\\n        width:100%;\\n        height:100%;\\n      }\\n      .ic{\\n        display:table-cell;\\n        vertical-align:middle;\\n        height:100%;\\n      }\\n      div.msg{\\n        display:block;\\n        border:5px solid #0B6121;\\n        padding:0;\\n        width:800px;\\n        font-family:helvetica,sans-serif;\\n        margin:10px auto;\\n      }\\n      h1{\\n        font-weight:bold;\\n        color:#fff;\\n        font-size:20px;\\n        margin:0;\\n        padding:2px;\\n        text-align:center;\\n        background: #0B6121;\\n      }\\n      h2{\\n        font-weight:bold;\\n        color:#fff;\\n        font-size:14px;\\n        margin:0;\\n        padding:2px;\\n        text-align:center;\\n        background: #0B6121;\\n      }\\n      p{\\n        font-size:14px;\\n        margin:15px auto;\\n        width:75%;\\n        font-family:helvetica,sans-serif;\\n        text-align:center;\\n      }\\n      j{\\n        font-size:14px;\\n        margin-left:2in;\\n        15px auto;\\n        width:75%;\\n        font-family:helvetica,sans-serif;\\n        text-align:center;\\n      }\\n    </style>\\n    <title>\\n      The URL you requested has been blocked\\n    </title>\\n  </head>\\n  <body>\\n    <div class=\"oc\">\\n      <div class=\"ic\">\\n        <div class=\"msg\">\\n          <h1>\\n            Whoops!  \\n          </h1>\\n          <h2>\\n            Unfortunately, you do not have the correct \\n            proxy settings configured to access the internet.\\n          </h2>\\n          <p>\\n            <br />\\n          </head>\\n          \\n          <body lang=EN-US link=blue vlink=\"#954F72\" style=\\'tab-interval:.5in\\'>\\n            \\n            <div class=WordSection1>\\n              \\n              <p class=MsoNormal align=center style=\\'margin-top:2.0pt;margin-right:0in;\\nmargin-bottom:2.0pt;margin-left:1in;text-align:center;line-height:normal;\\ntext-autospace:none\\'>\\n  <span style=\\'font-size:13.0pt;font-family:\"Times New Roman\",serif\\'>\\n    Configure\\n    your proxy settings in the browser to use:\\n    <o:p>\\n    </o:p>\\n  </span>\\n              </p>\\n              \\n              <p class=MsoNormal align=center style=\\'margin-top:2.0pt;margin-right:0in;\\nmargin-bottom:2.0pt;margin-left:1in;text-align:center;line-height:normal;\\ntext-autospace:none\\'>\\n  <span style=\\'font-size:12.0pt;font-family:\"Times New Roman\",serif\\'>\\n    \\n  </span>\\n  <a\\n  <i>\\n    <span style=\\'font-size:12.0pt;font-family:\\n\"Times New Roman\",serif\\'>\\n  <b>\\n    <i>\\n      <u>\\n        http://autocache.hp.com\\n      </span>\\n    </i>\\n  </a>\\n    </b>\\n  </i>\\n              </u>\\n            </p>\\n            \\n            \\n            <p class=MsoNormal style=\\'margin-top:2.0pt;margin-right:0in;margin-bottom:2.0pt;\\nmargin-left:0in;line-height:normal;text-autospace:none\\'>\\n  <span style=\\'font-size:\\n10.0pt;font-family:\"Segoe UI\",sans-serif;color:black\\'>\\n  <o:p>\\n    \\n  </o:p>\\n  </span>\\n            </p>\\n            \\n            <p class=MsoNormal style=\\'margin-top:2.0pt;margin-right:0in;margin-bottom:2.0pt;\\nmargin-left:2.25in;line-height:normal;text-align:left;text-autospace:none\\'>\\n  <span\\n  style=\\'font-size:12.0pt;font-family:\"Times New Roman\",serif\\'>\\n    In Internet\\n    Explorer follow these steps:\\n  </span>\\n            </p>\\n            \\n            <p class=MsoNormal style=\\'margin-top:2.0pt;margin-right:0in;margin-bottom:2.0pt;\\nmargin-left:1.65in;text-indent:-.25in;line-height:normal;text-autospace:none\\'>\\n  <span\\n  style=\\'font-size:12.0pt;font-family:\"Times New Roman\",serif\\'>\\n    1.\\n  </span>\\n  <span\\n  style=\\'font-size:7.0pt;font-family:\"Times New Roman\",serif\\'>\\n    \\n  </span>\\n  <span style=\\'font-size:12.0pt;font-family:\"Times New Roman\",serif\\'>\\n    From\\n    the Internet Explorer \\n    <b>\\n      Tools\\n    </b>\\n    menu, select \\n    <b>\\n      Internet\\n      Options\\n    </b>\\n    .  \\n  </span>\\n            </p>\\n            \\n            <p class=MsoNormal style=\\'margin-top:2.0pt;margin-right:0in;margin-bottom:2.0pt;\\nmargin-left:2.62in;text-align:left;text-indent:-.25in;line-height:normal;text-autospace:none\\'>\\n  <span\\n  style=\\'font-size:12.0pt;font-family:\"Times New Roman\",serif\\'>\\n    2.\\n  </span>\\n  <span\\n  style=\\'font-size:7.0pt;font-family:\"Times New Roman\",serif\\'>\\n    \\n  </span>\\n  <span style=\\'font-size:12.0pt;font-family:\"Times New Roman\",serif\\'>\\n    Select the \\n    <b>\\n      Connections\\n    </b>\\n    tab.  \\n  </span>\\n            </p>\\n            \\n            <p class=MsoNormal style=\\'margin-top:2.0pt;margin-right:0in;margin-bottom:2.0pt;\\nmargin-left:2.62in;text-align:left;text-indent:-.25in;line-height:normal;text-autospace:none\\'>\\n  <span\\n  style=\\'font-size:12.0pt;font-family:\"Times New Roman\",serif\\'>\\n    3.\\n  </span>\\n  <span\\n  style=\\'font-size:7.0pt;font-family:\"Times New Roman\",serif\\'>\\n    \\n  </span>\\n  <span style=\\'font-size:12.0pt;font-family:\"Times New Roman\",serif\\'>\\n    Select \\n    <b>\\n      LAN\\n      Settings\\n    </b>\\n    .  \\n  </span>\\n            </p>\\n            \\n            <p class=MsoNormal style=\\'margin-top:2.0pt;margin-right:0in;margin-bottom:2.0pt;\\nmargin-left:1.66in;text-indent:-.25in;line-height:normal;text-autospace:none\\'>\\n  <span\\n  style=\\'font-size:12.0pt;font-family:\"Times New Roman\",serif\\'>\\n    4.\\n  </span>\\n  <span\\n  style=\\'font-size:7.0pt;font-family:\"Times New Roman\",serif\\'>\\n    \\n  </span>\\n  <span style=\\'font-size:12.0pt;font-family:\"Times New Roman\",serif\\'>\\n    Uncheck \\n    <b>\\n      Automatically\\n      detect settings, \\n    </b>\\n    if it is currently checked.  \\n  </span>\\n            </p>\\n            \\n            <p class=MsoNormal style=\\'margin-top:2.0pt;margin-right:0in;margin-bottom:2.0pt;\\nmargin-left:.95in;text-indent:-.25in;line-height:normal;text-autospace:none\\'>\\n  <span\\n  style=\\'font-size:12.0pt;font-family:\"Times New Roman\",serif\\'>\\n    5.\\n  </span>\\n  <span\\n  style=\\'font-size:7.0pt;font-family:\"Times New Roman\",serif\\'>\\n    \\n  </span>\\n  <span style=\\'font-size:12.0pt;font-family:\"Times New Roman\",serif\\'>\\n    Check \\n    <b>\\n      Use\\n      automatic configuration script\\n    </b>\\n    .  \\n  </span>\\n            </p>\\n            \\n            <p class=MsoNormal style=\\'margin-top:2.0pt;margin-right:0in;margin-bottom:2.0pt;\\nmargin-left:1.25in;text-indent:-.25in;line-height:normal;text-autospace:none\\'>\\n  <span\\n  style=\\'font-size:12.0pt;font-family:\"Times New Roman\",serif\\'>\\n    6.\\n  </span>\\n  <span\\n  style=\\'font-size:7.0pt;font-family:\"Times New Roman\",serif\\'>\\n    \\n  </span>\\n  <span style=\\'font-size:12.0pt;font-family:\"Times New Roman\",serif\\'>\\n    In\\n    the Address field, enter: \\n  </span>\\n  <b>\\n    <span\\n    style=\\'font-size:12.0pt;font-family:\"Times New Roman\",serif\\'>\\n      http://autocache.hp.com\\n    </span>\\n  </b>\\n            </a>\\n            <span\\n            style=\\'font-size:12.0pt;font-family:\"Times New Roman\",serif\\'>\\n              .  \\n            </span>\\n          </p>\\n          \\n          <p class=MsoNormal style=\\'margin-top:2.0pt;margin-right:0in;margin-bottom:2.0pt;\\nmargin-left:.965in;text-indent:-.25in;line-height:normal;text-autospace:none\\'>\\n  <span\\n  style=\\'font-size:12.0pt;font-family:\"Times New Roman\",serif\\'>\\n    7.\\n  </span>\\n  <span\\n  style=\\'font-size:7.0pt;font-family:\"Times New Roman\",serif\\'>\\n    \\n  </span>\\n  <span style=\\'font-size:12.0pt;font-family:\"Times New Roman\",serif\\'>\\n    Uncheck \\n    <b>\\n      Use\\n      a proxy server for your LAN\\n    </b>\\n    .  \\n  </span>\\n          </p>\\n          \\n          <p class=MsoNormal style=\\'margin-top:2.0pt;margin-right:0in;margin-bottom:2.0pt;\\nmargin-left:0.03in;text-indent:-.29in;line-height:normal;text-autospace:none\\'>\\n  <span\\n  style=\\'font-size:12.0pt;font-family:\"Times New Roman\",serif\\'>\\n    8.\\n  </span>\\n  <span\\n  style=\\'font-size:7.0pt;font-family:\"Times New Roman\",serif\\'>\\n    \\n  </span>\\n  <span style=\\'font-size:12.0pt;font-family:\"Times New Roman\",serif\\'>\\n    Select \\n    <b>\\n      OK\\n    </b>\\n    twice. \\n  </span>\\n  <span\\n  style=\\'font-size:10.0pt;font-family:\"Segoe UI\",sans-serif;color:black\\'>\\n    \\n  </span>\\n          </p>\\n          \\n          \\n          <br />\\n        </div>\\r\\n'"
     ]
    },
    {
     "data": {},
     "execution_count": 100,
     "metadata": {},
     "output_type": "execute_result"
    }
   ],
   "source": [
    "curl -s 'http://mjbright.github.io/images/Mike_4_Chili_Constitucion.smaller.png' | display"
   ]
  },
  {
   "cell_type": "code",
   "execution_count": 101,
   "metadata": {
    "collapsed": false,
    "slideshow": {
     "slide_type": "subslide"
    }
   },
   "outputs": [
    {
     "data": {
      "text/plain": [
       "uadruple-braces by single-braces (so formatting rosoft Visual Studio 11.0\\Common7\\Tools\\'\n",
       "VS120COMNTOOLS='C:\\Program Files (x86)\\Microsoft Visual Studio 12.0\\Common7\\Tools\\'\n",
       "VS140COMNTOOLS='C:\\Progs\\MS-VisualStudio14\\Common7\\Tools\\'\n",
       "VSEDEFLOGDIR='C:\\ProgramData\\McAfee\\DesktopProtection'\n",
       "WINDIR='C:\\windows'\n",
       "WINDOWS_TRACING_FLAGS=3\n",
       "WINDOWS_TRACING_LOGFILE='C:\\BVTBin\\Tests\\installpackage\\csilogfile.log'\n",
       "_="
      ]
     },
     "execution_count": 101,
     "metadata": {},
     "output_type": "execute_result"
    }
   ],
   "source": [
    "typeset +f"
   ]
  },
  {
   "cell_type": "code",
   "execution_count": 102,
   "metadata": {
    "collapsed": false
   },
   "outputs": [
    {
     "name": "stdout",
     "output_type": "stream",
     "text": [
      "Available line magics:\n",
      "%activity  %cd  %connect_info  %dot  %download  %edit  %get  %help  %html  %include  %install  %install_magic  %javascript  %jigsaw  %kernel  %kx  %latex  %load  %ls  %lsmagic  %macro  %magic  %parallel  %plot  %pmap  %px  %python  %reload_magics  %restart  %run  %set  %shell\n",
      "\n",
      "Available cell magics:\n",
      "%%activity  %%brain  %%debug  %%dot  %%file  %%help  %%html  %%javascript  %%kx  %%latex  %%macro  %%processing  %%px  %%python  %%shell  %%show  %%time  %%tutor\n"
     ]
    }
   ],
   "source": [
    "%lsmagic"
   ]
  },
  {
   "cell_type": "code",
   "execution_count": 103,
   "metadata": {
    "collapsed": false,
    "slideshow": {
     "slide_type": "slide"
    }
   },
   "outputs": [
    {
     "name": "stdout",
     "output_type": "stream",
     "text": [
      "Line magics:\n",
      "    %activity FILENAME - run a widget-based activity\n",
      "    %cd PATH - change current directory of session\n",
      "    %connect_info - show connection information\n",
      "    %dot CODE - render code as Graphviz image\n",
      "    %download URL [-f FILENAME] - download file from URL\n",
      "    %edit FILENAME - load code from filename into next cell for editing\n",
      "    %get VARIABLE - get a variable from the kernel in a Python-type.\n",
      "    %help TEXT - get help on the given text\n",
      "    %html CODE - display code as HTML\n",
      "    %include FILENAME ... - include code from filename into this code\n",
      "    %install PACKAGE - install package\n",
      "    %install_magic URL - download and install magic from URL\n",
      "    %javascript CODE - send code as JavaScript\n",
      "    %jigsaw LANGUAGE - show visual code editor/generator\n",
      "    %kernel MODULE CLASS [-k NAME] - construct a kernel for sending code.\n",
      "    %kx CODE [-k NAME] - send the code to the kernel.\n",
      "    %latex TEXT - display text as LaTeX\n",
      "    %load FILENAME - load code from filename into next cell\n",
      "    %ls PATH - list files and directories under PATH\n",
      "    %lsmagic - list the current line and cell magics\n",
      "    %macro NAME - execute a macro\n",
      "    %magic - show installed magics\n",
      "    %parallel MODULE CLASS [-k NAME] [-i [...]] - construct an interface to the cluster.\n",
      "    %plot [options] backend - configure plotting for the session.\n",
      "    %pmap FUNCTION [ARGS1,ARGS2,...] - (\"parallel map\") call a FUNCTION on args\n",
      "    %px EXPRESSION - send EXPRESSION to the cluster.\n",
      "    %python CODE - evaluate code as Python\n",
      "    %reload_magics - reload the magics from the installed files\n",
      "    %restart - restart session\n",
      "    %run [--language LANG] FILENAME - run code in filename by\n",
      "    %set VARIABLE VALUE - set a variable in the kernel.\n",
      "    %shell COMMAND - run the line as a shell command\n",
      "\n",
      "Cell magics:\n",
      "     %%shell - run the contents of the cell as shell commands\n",
      "    %%activity FILENAME - make an activity from\n",
      "    %%brain - run a cell as brain control code\n",
      "    %%debug - step through the code expression by expression\n",
      "    %%dot - render contents of cell as Graphviz image\n",
      "    %%file [--append|-a] FILENAME - write contents of cell to file\n",
      "    %%help TEXT - get detailed help on the given text\n",
      "    %%html - display contents of cell as HTML\n",
      "    %%javascript - send contents of cell as JavaScript\n",
      "    %%kx [-k NAME] - send the cell code to the kernel.\n",
      "    %%latex - display contents of cell as LaTeX\n",
      "    %%macro NAME - learn a new macro\n",
      "    %%processing - run the cell in the language Processing\n",
      "    %%px - send cell to the cluster.\n",
      "    %%python - evaluate contents of cell as Python\n",
      "    %%show [-o]- show cell contents or results in system pager\n",
      "    %%time - show time to run cell\n",
      "    %%tutor [--language=LANGUAGE] - show cell with\n",
      "\n",
      "Shell shortcut:\n",
      "    ! COMMAND ... - execute command in shell\n",
      "\n",
      "Any cell magic can be made persistent for rest of session by using %%% prefix.\n",
      "\n",
      "Help on items:\n"
     ]
    },
    {
     "name": "stderr",
     "output_type": "stream",
     "text": [
      "Error in calling magic 'magic' on line:\n",
      "    string indices must be integers\n",
      "    args: []\n",
      "    kwargs: {}\n",
      "Traceback (most recent call last):\n",
      "  File \"C:\\Progs\\Anaconda3\\lib\\site-packages\\metakernel-0.12.6-py3.5.egg\\metakernel\\magic.py\", line 81, in call_magic\n",
      "    func(*args, **kwargs)\n",
      "TypeError: line_magic() missing 1 required positional argument: 'line'\n",
      "\n",
      "During handling of the above exception, another exception occurred:\n",
      "\n",
      "Traceback (most recent call last):\n",
      "  File \"C:\\Progs\\Anaconda3\\lib\\site-packages\\metakernel-0.12.6-py3.5.egg\\metakernel\\magic.py\", line 83, in call_magic\n",
      "    func(old_args)\n",
      "  File \"C:\\Progs\\Anaconda3\\lib\\site-packages\\metakernel-0.12.6-py3.5.egg\\metakernel\\magics\\magic_magic.py\", line 44, in line_magic\n",
      "    for string in self.kernel.line_magics['help'].help_strings():\n",
      "  File \"C:\\Progs\\Anaconda3\\lib\\site-packages\\metakernel-0.12.6-py3.5.egg\\metakernel\\magics\\help_magic.py\", line 22, in help_strings\n",
      "    for s in suffixes]\n",
      "  File \"C:\\Progs\\Anaconda3\\lib\\site-packages\\metakernel-0.12.6-py3.5.egg\\metakernel\\magics\\help_magic.py\", line 22, in <listcomp>\n",
      "    for s in suffixes]\n",
      "TypeError: string indices must be integers\n",
      "\n",
      "%magic - show installed magics\n",
      "\n",
      "This line magic shows all of the install magics, either from\n",
      "the system magic folder, or your own private magic folder.\n"
     ]
    }
   ],
   "source": [
    "%magic"
   ]
  },
  {
   "cell_type": "code",
   "execution_count": 104,
   "metadata": {
    "collapsed": false,
    "slideshow": {
     "slide_type": "slide"
    }
   },
   "outputs": [
    {
     "name": "stdout",
     "output_type": "stream",
     "text": [
      "Hello World\n"
     ]
    }
   ],
   "source": [
    "%%python\n",
    "\n",
    "print(\"Hello World\")"
   ]
  },
  {
   "cell_type": "code",
   "execution_count": 105,
   "metadata": {
    "collapsed": false,
    "slideshow": {
     "slide_type": "slide"
    }
   },
   "outputs": [
    {
     "data": {
      "text/html": [
       "<h1> Some hypertext </h1>"
      ],
      "text/plain": [
       "<IPython.core.display.HTML object>"
      ]
     },
     "metadata": {},
     "output_type": "display_data"
    }
   ],
   "source": [
    "%%html\n",
    "<h1> Some hypertext </h1>"
   ]
  },
  {
   "cell_type": "code",
   "execution_count": 106,
   "metadata": {
    "collapsed": false
   },
   "outputs": [
    {
     "name": "stdout",
     "output_type": "stream",
     "text": [
      "C:/tools/cygwin\n"
     ]
    }
   ],
   "source": [
    "%%python\n",
    "\n",
    "import os, re\n",
    "\n",
    "def getCygwinPath():\n",
    "    ''' Search in available drives for a cygwin installation '''\n",
    "    \n",
    "    # Find available drives in form \"C:\\\"\n",
    "    drives = re.findall(r\"[A-Z]+:.*$\", os.popen(\"mountvol /\").read(),re.MULTILINE)\n",
    "\n",
    "    # For each drive look for C:\\cygwin, C:\\cygwin64, C:\\*\\cygwin, C:\\*\\cygwin64\n",
    "    for drive in drives:\n",
    "        drive_root = drive[:2] + '/'\n",
    "        \n",
    "        dirs = [ '' ]\n",
    "        dirs.extend( os.listdir( drive_root ) )\n",
    "        for path in dirs:\n",
    "            path = drive_root + path\n",
    "            for cygwin in ['cygwin', 'cygwin64']:\n",
    "                if os.path.exists( path + '/' + cygwin):\n",
    "                    return(path + '/' + cygwin)\n",
    "    return None\n",
    "\n",
    "cygwinPath = getCygwinPath()\n",
    "if cygwinPath: print(cygwinPath)"
   ]
  },
  {
   "cell_type": "code",
   "execution_count": 107,
   "metadata": {
    "collapsed": false
   },
   "outputs": [
    {
     "data": {
      "text/html": [
       "<table><tr><th>col1</th>\n",
       "<th>col2</th>\n",
       "<th>col3</th>\n",
       "<th>col4</th>\n",
       "</tr>\n",
       "<tr><td>val1</td>\n",
       "    <td>val2</td>\n",
       "    <td>val3</td>\n",
       "    <td>val4</td>\n",
       "</tr>\n",
       "<tr><td>valu1</td>\n",
       "    <td>value2</td>\n",
       "    <td>value3</td>\n",
       "    <td>val4</td>\n",
       "</tr></table>"
      ],
      "text/plain": [
       "<IPython.core.display.HTML object>"
      ]
     },
     "execution_count": 107,
     "metadata": {},
     "output_type": "execute_result"
    }
   ],
   "source": [
    "%%python\n",
    "\n",
    "import IPython\n",
    "\n",
    "# This is nice to have but we want rather something which is callable from a bash kernel\n",
    "# how?\n",
    "def displayMysqlTableTextAsHTML(text):\n",
    "    header=False\n",
    "    colNames=[]\n",
    "    values=[]\n",
    "    for line in text.split('\\n'):\n",
    "        line = line.strip()\n",
    "        row=[]\n",
    "        if len(line) != 0 and line[0] != '+' and line[0] == '|':\n",
    "            if not header:\n",
    "                header=True\n",
    "                colNames = [ colName.strip() for colName in (line.strip())[1:-1].split('|')]\n",
    "            else:\n",
    "                row = [ value.strip() for value in (line.strip())[1:-1].split('|')]\n",
    "                values.append(row)\n",
    "\n",
    "    table = '<table>' + \\\n",
    "        '<tr>' + '\\n'.join( [ '<th>'+colName+'</th>' for colName in colNames ] ) + '\\n</tr>\\n' + \\\n",
    "        '\\n'.join([ '<tr>'+ \\\n",
    "            #str(row) + \\\n",
    "                   '\\n    '.join( [ '<td>'+value+'</td>' for value in row ] ) +\n",
    "          '\\n</tr>' for row in values ]) +\\\n",
    "        '</table>'\n",
    "\n",
    "    #print(table)\n",
    "    return IPython.display.HTML(table)\n",
    "\n",
    "text='''\n",
    "+-------+-------+-------+-----+\n",
    "  |  col1 | col2  |  col3 |col4 |  \n",
    "+-------+-------+-------+-----+\n",
    "|  val1 | val2  |  val3 |val4 |\n",
    "|  valu1|value2 |value3|val4|\n",
    "+-------+-------+-------+-----+\n",
    "'''\n",
    "retval = displayMysqlTableTextAsHTML(text)"
   ]
  },
  {
   "cell_type": "code",
   "execution_count": 108,
   "metadata": {
    "collapsed": false
   },
   "outputs": [],
   "source": [
    "%%python\n",
    "\n",
    "s = \"\"\"<table>\n",
    "<tr>\n",
    "<th>Header 1</th>\n",
    "<th>Header 2</th>\n",
    "</tr>\n",
    "<tr>\n",
    "<td>row 1, cell 1</td>\n",
    "<td>row 1, cell 2</td>\n",
    "</tr>\n",
    "<tr>\n",
    "<td>row 2, cell 1</td>\n",
    "<td>row 2, cell 2</td>\n",
    "</tr>\n",
    "</table>\"\"\"\n",
    "\n",
    "#h = IPython.display.HTML(s); h\n",
    "h = IPython.display.HTML(s);\n",
    "#IPython.display(h)\n"
   ]
  },
  {
   "cell_type": "code",
   "execution_count": 109,
   "metadata": {
    "collapsed": false
   },
   "outputs": [
    {
     "name": "stdout",
     "output_type": "stream",
     "text": [
      "<IPython.core.display.HTML object>\n"
     ]
    }
   ],
   "source": [
    "%%python\n",
    "\n",
    "from IPython.core.display import display, HTML\n",
    "display(HTML('<h1>Hello, world!</h1>'))\n",
    "IPython.display.HTML(\"<b>bold</b>\")"
   ]
  },
  {
   "cell_type": "code",
   "execution_count": 110,
   "metadata": {
    "collapsed": true
   },
   "outputs": [],
   "source": [
    "%%python\n",
    "\n",
    "import IPython\n",
    "#from IPython.core.display import display, HTML\n",
    "IPython.display.HTML(\"<b>bold</b>\")"
   ]
  },
  {
   "cell_type": "code",
   "execution_count": 111,
   "metadata": {
    "collapsed": false
   },
   "outputs": [],
   "source": [
    "%python import IPython; IPython.core.display.display_html( \"<b>bold</b>\" )"
   ]
  },
  {
   "cell_type": "code",
   "execution_count": 112,
   "metadata": {
    "collapsed": false
   },
   "outputs": [
    {
     "name": "stdout",
     "output_type": "stream",
     "text": [
      "<IPython.core.display.HTML object>\n"
     ]
    }
   ],
   "source": [
    "%python import IPython; IPython.core.display.display(IPython.display.HTML(\"<b>bold</b>\"))"
   ]
  },
  {
   "cell_type": "code",
   "execution_count": 113,
   "metadata": {
    "collapsed": false
   },
   "outputs": [
    {
     "name": "stdout",
     "output_type": "stream",
     "text": [
      "Hi from Python\n",
      "Hi from Python\n",
      "Hi from Python\n"
     ]
    }
   ],
   "source": [
    "%python print(\"Hi from Python\")"
   ]
  },
  {
   "cell_type": "code",
   "execution_count": 114,
   "metadata": {
    "collapsed": true
   },
   "outputs": [],
   "source": [
    "%set A 1\n",
    "%get A\n",
    "echo $A\n",
    "set\n",
    "pwd\n",
    "echo $PWD"
   ]
  },
  {
   "cell_type": "code",
   "execution_count": 115,
   "metadata": {
    "collapsed": false
   },
   "outputs": [
    {
     "data": {
      "text/plain": [
       "RCE[0]})\";\n",
       "    echo $MESSAGE\n",
       "}\n",
       "/home/mjbright/srakernelrc.user\n",
       "}\n",
       "reread_metakernelrc () \n",
       "{ \n",
       "    source ${BASH_SOURCE[0]}\n",
       "}\n",
       "reread_user_metakernelrc () \n",
       "{ \n",
       "    source ${BASH_SOURCE[0]}\n",
       "}\n",
       "test_alert_js () \n",
       "{ \n",
       "    USE_TEMPLATE alert.js.template \"$1\" | js\n",
       "}\n",
       "test_fn () \n",
       "{ \n",
       "    MESSAGE=\"[$(date)] Hello from test_fn() (declared in ${BASH_SOURCE[0]})\";\n",
       "    echo $MESSAGE\n",
       "}\n",
       "test_html_table () \n",
       "{ \n",
       "    echo \"Invoked ${FUNCNAME[0]} $*\" 1>&2;\n",
       "    PYSCRIPT=${ROOT_PATH_PREFIX}$TMPDIR/${FUNCNAME[0]}.py;\n",
       "    cat  > $PYSCRIPT <<EOF\n",
       "\n",
       "import IPython\n",
       "\n",
       "# This is nice to have but we want rather something which is callable from a bash kernel\n",
       "# how?\n",
       "def displayMysqlTableTextAsHTML(text):\n",
       "    header=False\n",
       "    colNames=[]\n",
       "    values=[]\n",
       "    for line in text.split('\\n'):\n",
       "        line = line.strip()\n",
       "        row=[]\n",
       "        if len(line) != 0 and line[0] != '+' and line[0] == '|':\n",
       "            if not header:\n",
       "                header=True\n",
       "                colNames = [ colName.strip() for colName in (line.strip())[1:-1].split('|')]\n",
       "            else:\n",
       "                row      = [ value.strip()   for value   in (line.strip())[1:-1].split('|')]\n",
       "                values.append(row)\n",
       "\n",
       "    table = '<table>' +         '<tr>' + '\\n'.join( [ '<th>'+colName+'</th>' for colName in colNames ] ) + '\\n</tr>\\n' +         '\\n'.join([ '<tr>'+             '\\n    '.join( [ '<td>'+value+'</td>' for value in row ] ) +\n",
       "          '\\n</tr>' for row in values ]) +        '</table>'\n",
       "\n",
       "    return table\n",
       "\n",
       "text='''\n",
       "+-------+-------+-------+-----+\n",
       "  |  col1 | col2  |  col3 |col4 |  \n",
       "+-------+-------+-------+-----+\n",
       "|  val1 | val2  |  val3 |val4 |\n",
       "|  valu1|value2 |value3|val4|\n",
       "+-------+-------+-------+-----+\n",
       "'''\n",
       "\n",
       "retval = displayMysqlTableTextAsHTML(text)\n",
       "print(retval)\n",
       "\n",
       "EOF\n",
       "\n",
       "    python $PYSCRIPT 2>&1 | tee $TMPDIR/${FUNCNAME[0]}.stdout\n",
       "}\n",
       "test_piechart_js () \n",
       "{ \n",
       "    GETINPUT ${FUNCNAME[0]} \"$DATA_CSV\";\n",
       "    COPY_TMPFILE;\n",
       "    DATA_CSV=$TMPFILE;\n",
       "    USE_TEMPLATE d3_pie.js.template \"$1\" \"test_piechart\" | html\n",
       "}\n",
       "utest_fn () \n",
       "{ \n",
       "    MESSAGE=\"[$(date)] Hello from utest_fn() (declared in ${BASH_SOUc/git/GIT_mjbright/jupyter-for-everything-else\n",
       "/home/mjbright/src/git/GIT_mjbright/jupyter-for-everything-else"
      ]
     },
     "execution_count": 115,
     "metadata": {},
     "output_type": "execute_result"
    }
   ],
   "source": [
    "pwd"
   ]
  },
  {
   "cell_type": "code",
   "execution_count": 116,
   "metadata": {
    "collapsed": true
   },
   "outputs": [],
   "source": [
    "%help"
   ]
  },
  {
   "cell_type": "code",
   "execution_count": 117,
   "metadata": {
    "collapsed": false
   },
   "outputs": [
    {
     "data": {
      "text/html": [
       "\n",
       "<style type=\"text/css\">\n",
       "      .breakpoints {width: 1.5em;}\n",
       "      .styled-background { background-color: #ff7; }\n",
       "</style>\n",
       "\n",
       "<div class=\"animation\" align=\"left\" width=\"400\">\n",
       "  <button onclick=\"step()\">Step</button>\n",
       "  <button onclick=\"play()\">Play</button>\n",
       "  <button onclick=\"pause()\">Pause</button>\n",
       "  <button onclick=\"stop()\">Stop</button>\n",
       "  <button onclick=\"clear_breakpoints()\">Clear Breakpoints</button>\n",
       "  <button onclick=\"reset()\">Reset</button><br/>\n",
       "  Speed: <input type=\"range\" id=\"speed\" min=\"1\" max=\"100\"/>\n",
       "  Inspect: <input type=\"text\" id=\"inspect\" onkeydown=\"if (event.keyCode == 13) inspector()\"/>\n",
       "  <table width=\"100%\">\n",
       "  <tr>\n",
       "    <td width=\"50%\" style=\"vertical-align: top\"><div id=\"result_stream\"/></td>\n",
       "    <td width=\"50%\" style=\"vertical-align: top\"><div id=\"result_output\"/></td>\n",
       "  </tr>\n",
       "  </table>\n",
       "</div>\n",
       "\n",
       "<script>\n",
       "\n",
       "function inspector() {\n",
       "    var v = document.getElementById(\"inspect\").value;\n",
       "    document.getElementById(\"inspect\").value = \"\";\n",
       "    var msg_id = kernel.execute(\"~~META~~: inspect \" + v,\n",
       "                                callbacks,\n",
       "                                {silent: false});\n",
       "}\n",
       "\n",
       "function clear_breakpoints() {\n",
       "    for (var n = 0 ; n < cell.code_mirror.doc.size; n++) {\n",
       "        cell.code_mirror.setGutterMarker(n, \"breakpoints\", null);\n",
       "    }\n",
       "}\n",
       "\n",
       "function makeMarker() {\n",
       "    var marker = document.createElement(\"div\");\n",
       "    marker.style.color = \"#822\";\n",
       "    marker.innerHTML = \"●\";\n",
       "    return marker;\n",
       "}\n",
       "\n",
       "function breakpoint_q(line) {\n",
       "    var info = cell.code_mirror.lineInfo(line - 1);\n",
       "    return (info && info.gutterMarkers != null);\n",
       "}\n",
       "\n",
       "var cell = IPython.notebook.get_selected_cell();\n",
       "if (cell) {\n",
       "    // The following can be replaced once get_prev_cell is fixed\n",
       "    // see https://github.com/ipython/ipython/pull/6565\n",
       "    var index = IPython.notebook.find_cell_index(cell);\n",
       "    cell = IPython.notebook.get_cell(index - 1);\n",
       "    cell.code_mirror.setOption(\"lineNumbers\", true);\n",
       "    if (cell.code_mirror.getOption(\"gutters\").length < 2) {\n",
       "        cell.code_mirror.setOption(\"gutters\", [\"CodeMirror-linenumbers\", \"breakpoints\"]);\n",
       "        cell.code_mirror.refresh();\n",
       "        cell.code_mirror.on(\"gutterClick\", function(cm, n) {\n",
       "          var info = cm.lineInfo(n);\n",
       "          cm.setGutterMarker(n, \"breakpoints\", info.gutterMarkers ? null : makeMarker());\n",
       "        });\n",
       "    }\n",
       "}\n",
       "\n",
       "var mt;\n",
       "var i;\n",
       "\n",
       "function highlight(cell, data) {\n",
       "    if (cell) {\n",
       "        var line1 = data[0];\n",
       "        var col1 = data[1];\n",
       "        var line2 = data[2];\n",
       "        var col2 = data[3];\n",
       "        if (mt) {\n",
       "            mt.clear();\n",
       "        }\n",
       "        mt = cell.code_mirror.markText({line: line1 - 1, ch: col1 - 1},\n",
       "                                       {line: line2 - 1, ch: col2 },\n",
       "                                       {className: \"styled-background\"});\n",
       "    }\n",
       "}\n",
       "\n",
       "var running = false;  // is it running?\n",
       "var timer = null;\n",
       "var kernel = IPython.notebook.kernel;\n",
       "\n",
       "function handle_output(out){\n",
       "    var res = null;\n",
       "    var data = null;\n",
       "    if (out.msg_type == \"stream\") {\n",
       "        res = out.content.text;\n",
       "        document.getElementById(\"result_stream\").innerText = res.toString() + document.getElementById(\"result_stream\").innerText;\n",
       "    } else if (out.msg_type === \"pyout\") {\n",
       "        // if output is a python object\n",
       "        res = out.content.data[\"text/plain\"];\n",
       "        document.getElementById(\"result_stream\").innerText = res.toString() + document.getElementById(\"result_stream\").innerText;\n",
       "    } else if (out.msg_type == \"pyerr\") {\n",
       "        // if output is a python error\n",
       "        res = out.content.data[\"text/plain\"];\n",
       "        document.getElementById(\"result_stream\").innerText = res.toString() + document.getElementById(\"result_stream\").innerText;\n",
       "    } else if (out.msg_type == \"execute_result\") {\n",
       "        var str = out.content.data[\"text/plain\"];\n",
       "        if (str.indexOf(\"\\\"highlight: \") >= 0) { // is a highlight response:\n",
       "            data = JSON.parse(str.substring(12, str.length - 1));\n",
       "            var speed = Number(document.getElementById(\"speed\").value);\n",
       "            if (data) {\n",
       "                var breakp = breakpoint_q(data[0]);\n",
       "                if (speed < 100 || !running || breakp) { // max_speed\n",
       "                    highlight(cell, data);\n",
       "                }\n",
       "            }\n",
       "            if (running) {\n",
       "                if (data && breakpoint_q(data[0])) {\n",
       "                    pause();\n",
       "                } else {\n",
       "                    timer = setTimeout(step, 2000/speed);\n",
       "                }\n",
       "            }\n",
       "        } else { // display result\n",
       "            res = str;\n",
       "            if (res.indexOf(\"u\") == 0)\n",
       "                res = res.substring(2, res.length - 1) + \"\\n\";\n",
       "            if (res) {\n",
       "                document.getElementById(\"result_output\").innerText = res.toString() + document.getElementById(\"result_output\").innerText;\n",
       "            }\n",
       "        }\n",
       "    } else {\n",
       "        // if output is something we haven't thought of\n",
       "        res = out.toString();\n",
       "        document.getElementById(\"result_stream\").innerText = res.toString() + document.getElementById(\"result_stream\").innerText;\n",
       "    }\n",
       "}\n",
       "\n",
       "var callbacks = { 'iopub' : {'output' : handle_output}};\n",
       "\n",
       "function pause() {\n",
       "    running = false;\n",
       "    document.getElementById(\"result_output\").innerText = \"Pause\\n\" + document.getElementById(\"result_output\").innerText;\n",
       "    if (timer) {\n",
       "        clearInterval(timer);\n",
       "        timer = null;\n",
       "    }\n",
       "}\n",
       "\n",
       "function play() {\n",
       "    pause();\n",
       "    running = true;\n",
       "    step();\n",
       "}\n",
       "\n",
       "function step() {\n",
       "    var msg_id = kernel.execute(\"~~META~~: step\",\n",
       "                                callbacks,\n",
       "                                {silent: false});\n",
       "}\n",
       "\n",
       "function stop() {\n",
       "    pause();\n",
       "    if (mt) {\n",
       "        mt.clear();\n",
       "    }\n",
       "    var msg_id = kernel.execute(\"~~META~~: stop\",\n",
       "                                callbacks,\n",
       "                                {silent: false});\n",
       "}\n",
       "\n",
       "function reset() {\n",
       "    stop();\n",
       "    document.getElementById(\"result_output\").innerText = \"\";\n",
       "    document.getElementById(\"result_stream\").innerText = \"\";\n",
       "    var msg_id = kernel.execute(\"~~META~~: reset\",\n",
       "                                callbacks,\n",
       "                                {silent: false});\n",
       "}\n",
       "\n",
       "</script>\n"
      ],
      "text/plain": [
       "<IPython.core.display.HTML object>"
      ]
     },
     "metadata": {},
     "output_type": "display_data"
    }
   ],
   "source": [
    "%%debug\n",
    "echo \"HERE OK\"\n",
    "A=1\n",
    "B=2\n",
    "echo $A"
   ]
  },
  {
   "cell_type": "code",
   "execution_count": 118,
   "metadata": {
    "collapsed": false
   },
   "outputs": [
    {
     "data": {
      "text/plain": [
       "/home/mjbright/src/git/GIT_mjbright/jupyter-for-everything-else"
      ]
     },
     "execution_count": 118,
     "metadata": {},
     "output_type": "execute_result"
    }
   ],
   "source": [
    "A=\"Hello World\"\n",
    "echo $A\n",
    "echo hi\n",
    "export A"
   ]
  },
  {
   "cell_type": "code",
   "execution_count": 119,
   "metadata": {
    "collapsed": false
   },
   "outputs": [
    {
     "name": "stdout",
     "output_type": "stream",
     "text": [
      "None\n"
     ]
    }
   ],
   "source": [
    "%%python\n",
    "\n",
    "import os\n",
    "\n",
    "print(os.getenv(\"A\"))"
   ]
  },
  {
   "cell_type": "code",
   "execution_count": 120,
   "metadata": {
    "collapsed": false
   },
   "outputs": [
    {
     "data": {
      "text/html": [
       "<b>Be bold, ok!<b>"
      ],
      "text/plain": [
       "<IPython.core.display.HTML object>"
      ]
     },
     "metadata": {},
     "output_type": "display_data"
    }
   ],
   "source": [
    "%html <b>Be bold, ok!<b>"
   ]
  },
  {
   "cell_type": "code",
   "execution_count": null,
   "metadata": {
    "collapsed": true
   },
   "outputs": [],
   "source": [
    "%get A\n",
    "\n",
    "print(A)"
   ]
  },
  {
   "cell_type": "code",
   "execution_count": null,
   "metadata": {
    "collapsed": true
   },
   "outputs": [],
   "source": [
    "%help help"
   ]
  },
  {
   "cell_type": "code",
   "execution_count": 123,
   "metadata": {
    "collapsed": false
   },
   "outputs": [
    {
     "data": {
      "text/html": [
       "<?xml version=\"1.0\" encoding=\"UTF-8\" standalone=\"no\"?>\r\n",
       "<!DOCTYPE svg PUBLIC \"-//W3C//DTD SVG 1.1//EN\"\r\n",
       " \"http://www.w3.org/Graphics/SVG/1.1/DTD/svg11.dtd\">\r\n",
       "<!-- Generated by graphviz version 2.38.0 (20140413.2041)\r\n",
       " -->\r\n",
       "<!-- Title: A Pages: 1 -->\r\n",
       "<svg width=\"62pt\" height=\"116pt\"\r\n",
       " viewBox=\"0.00 0.00 62.00 116.00\" xmlns=\"http://www.w3.org/2000/svg\" xmlns:xlink=\"http://www.w3.org/1999/xlink\">\r\n",
       "<g id=\"graph0\" class=\"graph\" transform=\"scale(1 1) rotate(0) translate(4 112)\">\r\n",
       "<title>A</title>\r\n",
       "<polygon fill=\"white\" stroke=\"none\" points=\"-4,4 -4,-112 58,-112 58,4 -4,4\"/>\r\n",
       "<!-- a -->\r\n",
       "<g id=\"node1\" class=\"node\"><title>a</title>\r\n",
       "<ellipse fill=\"none\" stroke=\"black\" cx=\"27\" cy=\"-90\" rx=\"27\" ry=\"18\"/>\r\n",
       "<text text-anchor=\"middle\" x=\"27\" y=\"-86.3\" font-family=\"Times New Roman,serif\" font-size=\"14.00\">a</text>\r\n",
       "</g>\r\n",
       "<!-- b -->\r\n",
       "<g id=\"node2\" class=\"node\"><title>b</title>\r\n",
       "<ellipse fill=\"none\" stroke=\"black\" cx=\"27\" cy=\"-18\" rx=\"27\" ry=\"18\"/>\r\n",
       "<text text-anchor=\"middle\" x=\"27\" y=\"-14.3\" font-family=\"Times New Roman,serif\" font-size=\"14.00\">b</text>\r\n",
       "</g>\r\n",
       "<!-- a&#45;&#45;b -->\r\n",
       "<g id=\"edge1\" class=\"edge\"><title>a&#45;&#45;b</title>\r\n",
       "<path fill=\"none\" stroke=\"black\" d=\"M27,-71.6966C27,-60.8463 27,-46.9167 27,-36.1043\"/>\r\n",
       "</g>\r\n",
       "</g>\r\n",
       "</svg>\r\n"
      ],
      "text/plain": [
       "<IPython.core.display.HTML object>"
      ]
     },
     "metadata": {},
     "output_type": "display_data"
    }
   ],
   "source": [
    "%dot graph A { a->b };"
   ]
  },
  {
   "cell_type": "code",
   "execution_count": 124,
   "metadata": {
    "collapsed": false
   },
   "outputs": [],
   "source": [
    "%%python\n",
    "\n",
    "import pydotplus as pydot\n",
    "\n"
   ]
  },
  {
   "cell_type": "code",
   "execution_count": 125,
   "metadata": {
    "collapsed": false
   },
   "outputs": [
    {
     "name": "stdout",
     "output_type": "stream",
     "text": [
      "nt\n",
      "Windows\n",
      "Windows-7-6.1.7601-SP1\n",
      "AMD64\n",
      "7\n",
      "6.1.7601\n"
     ]
    }
   ],
   "source": [
    "%%python\n",
    "\n",
    "import os\n",
    "print(os.name)\n",
    "\n",
    "import platform\n",
    "print(platform.system())\n",
    "print(platform.platform())\n",
    "print(platform.machine())\n",
    "#print(platform.os)\n",
    "print(platform.release())\n",
    "print(platform.version())\n",
    "\n",
    "#print('\\n'.join(dir(platform)))\n"
   ]
  },
  {
   "cell_type": "code",
   "execution_count": null,
   "metadata": {
    "collapsed": false
   },
   "outputs": [],
   "source": [
    "uname -a"
   ]
  },
  {
   "cell_type": "code",
   "execution_count": null,
   "metadata": {
    "collapsed": false
   },
   "outputs": [],
   "source": [
    "uname"
   ]
  },
  {
   "cell_type": "code",
   "execution_count": 128,
   "metadata": {
    "collapsed": false
   },
   "outputs": [
    {
     "name": "stdout",
     "output_type": "stream",
     "text": [
      "Created file 'C:\\tools\\cygwin\\home\\mjbright\\src\\git\\GIT_mjbright\\jupyter-for-everything-else\\test.dot'.\n"
     ]
    }
   ],
   "source": [
    "%%file test.dot\n",
    "%%dot\n",
    "graph A { a->b->itworks };"
   ]
  },
  {
   "cell_type": "code",
   "execution_count": 129,
   "metadata": {
    "collapsed": true
   },
   "outputs": [],
   "source": [
    "%load test.dot"
   ]
  },
  {
   "cell_type": "code",
   "execution_count": null,
   "metadata": {
    "collapsed": true
   },
   "outputs": [],
   "source": [
    "%%dot\n",
    "graph A { a->b->itworks };"
   ]
  },
  {
   "cell_type": "code",
   "execution_count": 130,
   "metadata": {
    "collapsed": false
   },
   "outputs": [
    {
     "data": {
      "text/html": [
       "<?xml version=\"1.0\" encoding=\"UTF-8\" standalone=\"no\"?>\r\n",
       "<!DOCTYPE svg PUBLIC \"-//W3C//DTD SVG 1.1//EN\"\r\n",
       " \"http://www.w3.org/Graphics/SVG/1.1/DTD/svg11.dtd\">\r\n",
       "<!-- Generated by graphviz version 2.38.0 (20140413.2041)\r\n",
       " -->\r\n",
       "<!-- Title: A Pages: 1 -->\r\n",
       "<svg width=\"83pt\" height=\"188pt\"\r\n",
       " viewBox=\"0.00 0.00 83.39 188.00\" xmlns=\"http://www.w3.org/2000/svg\" xmlns:xlink=\"http://www.w3.org/1999/xlink\">\r\n",
       "<g id=\"graph0\" class=\"graph\" transform=\"scale(1 1) rotate(0) translate(4 184)\">\r\n",
       "<title>A</title>\r\n",
       "<polygon fill=\"white\" stroke=\"none\" points=\"-4,4 -4,-184 79.3933,-184 79.3933,4 -4,4\"/>\r\n",
       "<!-- a -->\r\n",
       "<g id=\"node1\" class=\"node\"><title>a</title>\r\n",
       "<ellipse fill=\"none\" stroke=\"black\" cx=\"37.6967\" cy=\"-162\" rx=\"27\" ry=\"18\"/>\r\n",
       "<text text-anchor=\"middle\" x=\"37.6967\" y=\"-158.3\" font-family=\"Times New Roman,serif\" font-size=\"14.00\">a</text>\r\n",
       "</g>\r\n",
       "<!-- b -->\r\n",
       "<g id=\"node2\" class=\"node\"><title>b</title>\r\n",
       "<ellipse fill=\"none\" stroke=\"black\" cx=\"37.6967\" cy=\"-90\" rx=\"27\" ry=\"18\"/>\r\n",
       "<text text-anchor=\"middle\" x=\"37.6967\" y=\"-86.3\" font-family=\"Times New Roman,serif\" font-size=\"14.00\">b</text>\r\n",
       "</g>\r\n",
       "<!-- a&#45;&#45;b -->\r\n",
       "<g id=\"edge1\" class=\"edge\"><title>a&#45;&#45;b</title>\r\n",
       "<path fill=\"none\" stroke=\"black\" d=\"M37.6967,-143.697C37.6967,-132.846 37.6967,-118.917 37.6967,-108.104\"/>\r\n",
       "</g>\r\n",
       "<!-- itworks -->\r\n",
       "<g id=\"node3\" class=\"node\"><title>itworks</title>\r\n",
       "<ellipse fill=\"none\" stroke=\"black\" cx=\"37.6967\" cy=\"-18\" rx=\"37.8943\" ry=\"18\"/>\r\n",
       "<text text-anchor=\"middle\" x=\"37.6967\" y=\"-14.3\" font-family=\"Times New Roman,serif\" font-size=\"14.00\">itworks</text>\r\n",
       "</g>\r\n",
       "<!-- b&#45;&#45;itworks -->\r\n",
       "<g id=\"edge2\" class=\"edge\"><title>b&#45;&#45;itworks</title>\r\n",
       "<path fill=\"none\" stroke=\"black\" d=\"M37.6967,-71.6966C37.6967,-60.8463 37.6967,-46.9167 37.6967,-36.1043\"/>\r\n",
       "</g>\r\n",
       "</g>\r\n",
       "</svg>\r\n"
      ],
      "text/plain": [
       "<IPython.core.display.HTML object>"
      ]
     },
     "metadata": {},
     "output_type": "display_data"
    }
   ],
   "source": [
    "%%dot\n",
    "graph A { a->b->itworks };"
   ]
  },
  {
   "cell_type": "code",
   "execution_count": 131,
   "metadata": {
    "collapsed": false
   },
   "outputs": [
    {
     "data": {
      "text/html": [
       "<?xml version=\"1.0\" encoding=\"UTF-8\" standalone=\"no\"?>\r\n",
       "<!DOCTYPE svg PUBLIC \"-//W3C//DTD SVG 1.1//EN\"\r\n",
       " \"http://www.w3.org/Graphics/SVG/1.1/DTD/svg11.dtd\">\r\n",
       "<!-- Generated by graphviz version 2.38.0 (20140413.2041)\r\n",
       " -->\r\n",
       "<!-- Title: A Pages: 1 -->\r\n",
       "<svg width=\"83pt\" height=\"188pt\"\r\n",
       " viewBox=\"0.00 0.00 83.39 188.00\" xmlns=\"http://www.w3.org/2000/svg\" xmlns:xlink=\"http://www.w3.org/1999/xlink\">\r\n",
       "<g id=\"graph0\" class=\"graph\" transform=\"scale(1 1) rotate(0) translate(4 184)\">\r\n",
       "<title>A</title>\r\n",
       "<polygon fill=\"white\" stroke=\"none\" points=\"-4,4 -4,-184 79.3933,-184 79.3933,4 -4,4\"/>\r\n",
       "<!-- a -->\r\n",
       "<g id=\"node1\" class=\"node\"><title>a</title>\r\n",
       "<ellipse fill=\"none\" stroke=\"black\" cx=\"37.6967\" cy=\"-162\" rx=\"27\" ry=\"18\"/>\r\n",
       "<text text-anchor=\"middle\" x=\"37.6967\" y=\"-158.3\" font-family=\"Times New Roman,serif\" font-size=\"14.00\">a</text>\r\n",
       "</g>\r\n",
       "<!-- b -->\r\n",
       "<g id=\"node2\" class=\"node\"><title>b</title>\r\n",
       "<ellipse fill=\"none\" stroke=\"black\" cx=\"37.6967\" cy=\"-90\" rx=\"27\" ry=\"18\"/>\r\n",
       "<text text-anchor=\"middle\" x=\"37.6967\" y=\"-86.3\" font-family=\"Times New Roman,serif\" font-size=\"14.00\">b</text>\r\n",
       "</g>\r\n",
       "<!-- a&#45;&#45;b -->\r\n",
       "<g id=\"edge1\" class=\"edge\"><title>a&#45;&#45;b</title>\r\n",
       "<path fill=\"none\" stroke=\"black\" d=\"M37.6967,-143.697C37.6967,-132.846 37.6967,-118.917 37.6967,-108.104\"/>\r\n",
       "</g>\r\n",
       "<!-- itworks -->\r\n",
       "<g id=\"node3\" class=\"node\"><title>itworks</title>\r\n",
       "<ellipse fill=\"none\" stroke=\"black\" cx=\"37.6967\" cy=\"-18\" rx=\"37.8943\" ry=\"18\"/>\r\n",
       "<text text-anchor=\"middle\" x=\"37.6967\" y=\"-14.3\" font-family=\"Times New Roman,serif\" font-size=\"14.00\">itworks</text>\r\n",
       "</g>\r\n",
       "<!-- b&#45;&#45;itworks -->\r\n",
       "<g id=\"edge2\" class=\"edge\"><title>b&#45;&#45;itworks</title>\r\n",
       "<path fill=\"none\" stroke=\"black\" d=\"M37.6967,-71.6966C37.6967,-60.8463 37.6967,-46.9167 37.6967,-36.1043\"/>\r\n",
       "</g>\r\n",
       "</g>\r\n",
       "</svg>\r\n"
      ],
      "text/plain": [
       "<IPython.core.display.HTML object>"
      ]
     },
     "metadata": {},
     "output_type": "display_data"
    }
   ],
   "source": [
    "%%dot\n",
    "graph A { a->b->itworks };"
   ]
  },
  {
   "cell_type": "code",
   "execution_count": 132,
   "metadata": {
    "collapsed": false
   },
   "outputs": [
    {
     "data": {
      "text/html": [
       "<?xml version=\"1.0\" encoding=\"UTF-8\" standalone=\"no\"?>\r\n",
       "<!DOCTYPE svg PUBLIC \"-//W3C//DTD SVG 1.1//EN\"\r\n",
       " \"http://www.w3.org/Graphics/SVG/1.1/DTD/svg11.dtd\">\r\n",
       "<!-- Generated by graphviz version 2.38.0 (20140413.2041)\r\n",
       " -->\r\n",
       "<!-- Title: A Pages: 1 -->\r\n",
       "<svg width=\"83pt\" height=\"188pt\"\r\n",
       " viewBox=\"0.00 0.00 83.39 188.00\" xmlns=\"http://www.w3.org/2000/svg\" xmlns:xlink=\"http://www.w3.org/1999/xlink\">\r\n",
       "<g id=\"graph0\" class=\"graph\" transform=\"scale(1 1) rotate(0) translate(4 184)\">\r\n",
       "<title>A</title>\r\n",
       "<polygon fill=\"white\" stroke=\"none\" points=\"-4,4 -4,-184 79.3933,-184 79.3933,4 -4,4\"/>\r\n",
       "<!-- a -->\r\n",
       "<g id=\"node1\" class=\"node\"><title>a</title>\r\n",
       "<ellipse fill=\"none\" stroke=\"black\" cx=\"37.6967\" cy=\"-162\" rx=\"27\" ry=\"18\"/>\r\n",
       "<text text-anchor=\"middle\" x=\"37.6967\" y=\"-158.3\" font-family=\"Times New Roman,serif\" font-size=\"14.00\">a</text>\r\n",
       "</g>\r\n",
       "<!-- b -->\r\n",
       "<g id=\"node2\" class=\"node\"><title>b</title>\r\n",
       "<ellipse fill=\"none\" stroke=\"black\" cx=\"37.6967\" cy=\"-90\" rx=\"27\" ry=\"18\"/>\r\n",
       "<text text-anchor=\"middle\" x=\"37.6967\" y=\"-86.3\" font-family=\"Times New Roman,serif\" font-size=\"14.00\">b</text>\r\n",
       "</g>\r\n",
       "<!-- a&#45;&#45;b -->\r\n",
       "<g id=\"edge1\" class=\"edge\"><title>a&#45;&#45;b</title>\r\n",
       "<path fill=\"none\" stroke=\"black\" d=\"M37.6967,-143.697C37.6967,-132.846 37.6967,-118.917 37.6967,-108.104\"/>\r\n",
       "</g>\r\n",
       "<!-- itworks -->\r\n",
       "<g id=\"node3\" class=\"node\"><title>itworks</title>\r\n",
       "<ellipse fill=\"none\" stroke=\"black\" cx=\"37.6967\" cy=\"-18\" rx=\"37.8943\" ry=\"18\"/>\r\n",
       "<text text-anchor=\"middle\" x=\"37.6967\" y=\"-14.3\" font-family=\"Times New Roman,serif\" font-size=\"14.00\">itworks</text>\r\n",
       "</g>\r\n",
       "<!-- b&#45;&#45;itworks -->\r\n",
       "<g id=\"edge2\" class=\"edge\"><title>b&#45;&#45;itworks</title>\r\n",
       "<path fill=\"none\" stroke=\"black\" d=\"M37.6967,-71.6966C37.6967,-60.8463 37.6967,-46.9167 37.6967,-36.1043\"/>\r\n",
       "</g>\r\n",
       "</g>\r\n",
       "</svg>\r\n"
      ],
      "text/plain": [
       "<IPython.core.display.HTML object>"
      ]
     },
     "metadata": {},
     "output_type": "display_data"
    }
   ],
   "source": [
    "%%dot\n",
    "graph A { a->b->itworks };"
   ]
  },
  {
   "cell_type": "code",
   "execution_count": 133,
   "metadata": {
    "collapsed": false
   },
   "outputs": [
    {
     "data": {
      "text/html": [
       "<?xml version=\"1.0\" encoding=\"UTF-8\" standalone=\"no\"?>\r\n",
       "<!DOCTYPE svg PUBLIC \"-//W3C//DTD SVG 1.1//EN\"\r\n",
       " \"http://www.w3.org/Graphics/SVG/1.1/DTD/svg11.dtd\">\r\n",
       "<!-- Generated by graphviz version 2.38.0 (20140413.2041)\r\n",
       " -->\r\n",
       "<!-- Title: A Pages: 1 -->\r\n",
       "<svg width=\"83pt\" height=\"188pt\"\r\n",
       " viewBox=\"0.00 0.00 83.39 188.00\" xmlns=\"http://www.w3.org/2000/svg\" xmlns:xlink=\"http://www.w3.org/1999/xlink\">\r\n",
       "<g id=\"graph0\" class=\"graph\" transform=\"scale(1 1) rotate(0) translate(4 184)\">\r\n",
       "<title>A</title>\r\n",
       "<polygon fill=\"white\" stroke=\"none\" points=\"-4,4 -4,-184 79.3933,-184 79.3933,4 -4,4\"/>\r\n",
       "<!-- a -->\r\n",
       "<g id=\"node1\" class=\"node\"><title>a</title>\r\n",
       "<ellipse fill=\"none\" stroke=\"black\" cx=\"37.6967\" cy=\"-162\" rx=\"27\" ry=\"18\"/>\r\n",
       "<text text-anchor=\"middle\" x=\"37.6967\" y=\"-158.3\" font-family=\"Times New Roman,serif\" font-size=\"14.00\">a</text>\r\n",
       "</g>\r\n",
       "<!-- b -->\r\n",
       "<g id=\"node2\" class=\"node\"><title>b</title>\r\n",
       "<ellipse fill=\"none\" stroke=\"black\" cx=\"37.6967\" cy=\"-90\" rx=\"27\" ry=\"18\"/>\r\n",
       "<text text-anchor=\"middle\" x=\"37.6967\" y=\"-86.3\" font-family=\"Times New Roman,serif\" font-size=\"14.00\">b</text>\r\n",
       "</g>\r\n",
       "<!-- a&#45;&#45;b -->\r\n",
       "<g id=\"edge1\" class=\"edge\"><title>a&#45;&#45;b</title>\r\n",
       "<path fill=\"none\" stroke=\"black\" d=\"M37.6967,-143.697C37.6967,-132.846 37.6967,-118.917 37.6967,-108.104\"/>\r\n",
       "</g>\r\n",
       "<!-- itworks -->\r\n",
       "<g id=\"node3\" class=\"node\"><title>itworks</title>\r\n",
       "<ellipse fill=\"none\" stroke=\"black\" cx=\"37.6967\" cy=\"-18\" rx=\"37.8943\" ry=\"18\"/>\r\n",
       "<text text-anchor=\"middle\" x=\"37.6967\" y=\"-14.3\" font-family=\"Times New Roman,serif\" font-size=\"14.00\">itworks</text>\r\n",
       "</g>\r\n",
       "<!-- b&#45;&#45;itworks -->\r\n",
       "<g id=\"edge2\" class=\"edge\"><title>b&#45;&#45;itworks</title>\r\n",
       "<path fill=\"none\" stroke=\"black\" d=\"M37.6967,-71.6966C37.6967,-60.8463 37.6967,-46.9167 37.6967,-36.1043\"/>\r\n",
       "</g>\r\n",
       "</g>\r\n",
       "</svg>\r\n"
      ],
      "text/plain": [
       "<IPython.core.display.HTML object>"
      ]
     },
     "metadata": {},
     "output_type": "display_data"
    }
   ],
   "source": [
    "%%dot\n",
    "graph A { a->b->itworks };"
   ]
  },
  {
   "cell_type": "code",
   "execution_count": 134,
   "metadata": {
    "collapsed": false
   },
   "outputs": [
    {
     "data": {
      "text/html": [
       "<?xml version=\"1.0\" encoding=\"UTF-8\" standalone=\"no\"?>\r\n",
       "<!DOCTYPE svg PUBLIC \"-//W3C//DTD SVG 1.1//EN\"\r\n",
       " \"http://www.w3.org/Graphics/SVG/1.1/DTD/svg11.dtd\">\r\n",
       "<!-- Generated by graphviz version 2.38.0 (20140413.2041)\r\n",
       " -->\r\n",
       "<!-- Title: A Pages: 1 -->\r\n",
       "<svg width=\"83pt\" height=\"188pt\"\r\n",
       " viewBox=\"0.00 0.00 83.39 188.00\" xmlns=\"http://www.w3.org/2000/svg\" xmlns:xlink=\"http://www.w3.org/1999/xlink\">\r\n",
       "<g id=\"graph0\" class=\"graph\" transform=\"scale(1 1) rotate(0) translate(4 184)\">\r\n",
       "<title>A</title>\r\n",
       "<polygon fill=\"white\" stroke=\"none\" points=\"-4,4 -4,-184 79.3933,-184 79.3933,4 -4,4\"/>\r\n",
       "<!-- a -->\r\n",
       "<g id=\"node1\" class=\"node\"><title>a</title>\r\n",
       "<ellipse fill=\"none\" stroke=\"black\" cx=\"37.6967\" cy=\"-162\" rx=\"27\" ry=\"18\"/>\r\n",
       "<text text-anchor=\"middle\" x=\"37.6967\" y=\"-158.3\" font-family=\"Times New Roman,serif\" font-size=\"14.00\">a</text>\r\n",
       "</g>\r\n",
       "<!-- b -->\r\n",
       "<g id=\"node2\" class=\"node\"><title>b</title>\r\n",
       "<ellipse fill=\"none\" stroke=\"black\" cx=\"37.6967\" cy=\"-90\" rx=\"27\" ry=\"18\"/>\r\n",
       "<text text-anchor=\"middle\" x=\"37.6967\" y=\"-86.3\" font-family=\"Times New Roman,serif\" font-size=\"14.00\">b</text>\r\n",
       "</g>\r\n",
       "<!-- a&#45;&#45;b -->\r\n",
       "<g id=\"edge1\" class=\"edge\"><title>a&#45;&#45;b</title>\r\n",
       "<path fill=\"none\" stroke=\"black\" d=\"M37.6967,-143.697C37.6967,-132.846 37.6967,-118.917 37.6967,-108.104\"/>\r\n",
       "</g>\r\n",
       "<!-- itworks -->\r\n",
       "<g id=\"node3\" class=\"node\"><title>itworks</title>\r\n",
       "<ellipse fill=\"none\" stroke=\"black\" cx=\"37.6967\" cy=\"-18\" rx=\"37.8943\" ry=\"18\"/>\r\n",
       "<text text-anchor=\"middle\" x=\"37.6967\" y=\"-14.3\" font-family=\"Times New Roman,serif\" font-size=\"14.00\">itworks</text>\r\n",
       "</g>\r\n",
       "<!-- b&#45;&#45;itworks -->\r\n",
       "<g id=\"edge2\" class=\"edge\"><title>b&#45;&#45;itworks</title>\r\n",
       "<path fill=\"none\" stroke=\"black\" d=\"M37.6967,-71.6966C37.6967,-60.8463 37.6967,-46.9167 37.6967,-36.1043\"/>\r\n",
       "</g>\r\n",
       "</g>\r\n",
       "</svg>\r\n"
      ],
      "text/plain": [
       "<IPython.core.display.HTML object>"
      ]
     },
     "metadata": {},
     "output_type": "display_data"
    }
   ],
   "source": [
    "%%dot\n",
    "graph A { a->b->itworks };"
   ]
  },
  {
   "cell_type": "code",
   "execution_count": 135,
   "metadata": {
    "collapsed": false
   },
   "outputs": [
    {
     "data": {
      "text/html": [
       "<?xml version=\"1.0\" encoding=\"UTF-8\" standalone=\"no\"?>\r\n",
       "<!DOCTYPE svg PUBLIC \"-//W3C//DTD SVG 1.1//EN\"\r\n",
       " \"http://www.w3.org/Graphics/SVG/1.1/DTD/svg11.dtd\">\r\n",
       "<!-- Generated by graphviz version 2.38.0 (20140413.2041)\r\n",
       " -->\r\n",
       "<!-- Title: A Pages: 1 -->\r\n",
       "<svg width=\"83pt\" height=\"188pt\"\r\n",
       " viewBox=\"0.00 0.00 83.39 188.00\" xmlns=\"http://www.w3.org/2000/svg\" xmlns:xlink=\"http://www.w3.org/1999/xlink\">\r\n",
       "<g id=\"graph0\" class=\"graph\" transform=\"scale(1 1) rotate(0) translate(4 184)\">\r\n",
       "<title>A</title>\r\n",
       "<polygon fill=\"white\" stroke=\"none\" points=\"-4,4 -4,-184 79.3933,-184 79.3933,4 -4,4\"/>\r\n",
       "<!-- a -->\r\n",
       "<g id=\"node1\" class=\"node\"><title>a</title>\r\n",
       "<ellipse fill=\"none\" stroke=\"black\" cx=\"37.6967\" cy=\"-162\" rx=\"27\" ry=\"18\"/>\r\n",
       "<text text-anchor=\"middle\" x=\"37.6967\" y=\"-158.3\" font-family=\"Times New Roman,serif\" font-size=\"14.00\">a</text>\r\n",
       "</g>\r\n",
       "<!-- b -->\r\n",
       "<g id=\"node2\" class=\"node\"><title>b</title>\r\n",
       "<ellipse fill=\"none\" stroke=\"black\" cx=\"37.6967\" cy=\"-90\" rx=\"27\" ry=\"18\"/>\r\n",
       "<text text-anchor=\"middle\" x=\"37.6967\" y=\"-86.3\" font-family=\"Times New Roman,serif\" font-size=\"14.00\">b</text>\r\n",
       "</g>\r\n",
       "<!-- a&#45;&#45;b -->\r\n",
       "<g id=\"edge1\" class=\"edge\"><title>a&#45;&#45;b</title>\r\n",
       "<path fill=\"none\" stroke=\"black\" d=\"M37.6967,-143.697C37.6967,-132.846 37.6967,-118.917 37.6967,-108.104\"/>\r\n",
       "</g>\r\n",
       "<!-- itworks -->\r\n",
       "<g id=\"node3\" class=\"node\"><title>itworks</title>\r\n",
       "<ellipse fill=\"none\" stroke=\"black\" cx=\"37.6967\" cy=\"-18\" rx=\"37.8943\" ry=\"18\"/>\r\n",
       "<text text-anchor=\"middle\" x=\"37.6967\" y=\"-14.3\" font-family=\"Times New Roman,serif\" font-size=\"14.00\">itworks</text>\r\n",
       "</g>\r\n",
       "<!-- b&#45;&#45;itworks -->\r\n",
       "<g id=\"edge2\" class=\"edge\"><title>b&#45;&#45;itworks</title>\r\n",
       "<path fill=\"none\" stroke=\"black\" d=\"M37.6967,-71.6966C37.6967,-60.8463 37.6967,-46.9167 37.6967,-36.1043\"/>\r\n",
       "</g>\r\n",
       "</g>\r\n",
       "</svg>\r\n"
      ],
      "text/plain": [
       "<IPython.core.display.HTML object>"
      ]
     },
     "metadata": {},
     "output_type": "display_data"
    }
   ],
   "source": [
    "%%dot\n",
    "graph A { a->b->itworks };"
   ]
  },
  {
   "cell_type": "code",
   "execution_count": 136,
   "metadata": {
    "collapsed": false
   },
   "outputs": [
    {
     "data": {
      "text/html": [
       "<?xml version=\"1.0\" encoding=\"UTF-8\" standalone=\"no\"?>\r\n",
       "<!DOCTYPE svg PUBLIC \"-//W3C//DTD SVG 1.1//EN\"\r\n",
       " \"http://www.w3.org/Graphics/SVG/1.1/DTD/svg11.dtd\">\r\n",
       "<!-- Generated by graphviz version 2.38.0 (20140413.2041)\r\n",
       " -->\r\n",
       "<!-- Title: A Pages: 1 -->\r\n",
       "<svg width=\"83pt\" height=\"188pt\"\r\n",
       " viewBox=\"0.00 0.00 83.39 188.00\" xmlns=\"http://www.w3.org/2000/svg\" xmlns:xlink=\"http://www.w3.org/1999/xlink\">\r\n",
       "<g id=\"graph0\" class=\"graph\" transform=\"scale(1 1) rotate(0) translate(4 184)\">\r\n",
       "<title>A</title>\r\n",
       "<polygon fill=\"white\" stroke=\"none\" points=\"-4,4 -4,-184 79.3933,-184 79.3933,4 -4,4\"/>\r\n",
       "<!-- a -->\r\n",
       "<g id=\"node1\" class=\"node\"><title>a</title>\r\n",
       "<ellipse fill=\"none\" stroke=\"black\" cx=\"37.6967\" cy=\"-162\" rx=\"27\" ry=\"18\"/>\r\n",
       "<text text-anchor=\"middle\" x=\"37.6967\" y=\"-158.3\" font-family=\"Times New Roman,serif\" font-size=\"14.00\">a</text>\r\n",
       "</g>\r\n",
       "<!-- b -->\r\n",
       "<g id=\"node2\" class=\"node\"><title>b</title>\r\n",
       "<ellipse fill=\"none\" stroke=\"black\" cx=\"37.6967\" cy=\"-90\" rx=\"27\" ry=\"18\"/>\r\n",
       "<text text-anchor=\"middle\" x=\"37.6967\" y=\"-86.3\" font-family=\"Times New Roman,serif\" font-size=\"14.00\">b</text>\r\n",
       "</g>\r\n",
       "<!-- a&#45;&#45;b -->\r\n",
       "<g id=\"edge1\" class=\"edge\"><title>a&#45;&#45;b</title>\r\n",
       "<path fill=\"none\" stroke=\"black\" d=\"M37.6967,-143.697C37.6967,-132.846 37.6967,-118.917 37.6967,-108.104\"/>\r\n",
       "</g>\r\n",
       "<!-- itworks -->\r\n",
       "<g id=\"node3\" class=\"node\"><title>itworks</title>\r\n",
       "<ellipse fill=\"none\" stroke=\"black\" cx=\"37.6967\" cy=\"-18\" rx=\"37.8943\" ry=\"18\"/>\r\n",
       "<text text-anchor=\"middle\" x=\"37.6967\" y=\"-14.3\" font-family=\"Times New Roman,serif\" font-size=\"14.00\">itworks</text>\r\n",
       "</g>\r\n",
       "<!-- b&#45;&#45;itworks -->\r\n",
       "<g id=\"edge2\" class=\"edge\"><title>b&#45;&#45;itworks</title>\r\n",
       "<path fill=\"none\" stroke=\"black\" d=\"M37.6967,-71.6966C37.6967,-60.8463 37.6967,-46.9167 37.6967,-36.1043\"/>\r\n",
       "</g>\r\n",
       "</g>\r\n",
       "</svg>\r\n"
      ],
      "text/plain": [
       "<IPython.core.display.HTML object>"
      ]
     },
     "metadata": {},
     "output_type": "display_data"
    }
   ],
   "source": [
    "%%dot\n",
    "graph A { a->b->itworks };"
   ]
  },
  {
   "cell_type": "code",
   "execution_count": 137,
   "metadata": {
    "collapsed": false
   },
   "outputs": [
    {
     "data": {
      "text/html": [
       "<?xml version=\"1.0\" encoding=\"UTF-8\" standalone=\"no\"?>\r\n",
       "<!DOCTYPE svg PUBLIC \"-//W3C//DTD SVG 1.1//EN\"\r\n",
       " \"http://www.w3.org/Graphics/SVG/1.1/DTD/svg11.dtd\">\r\n",
       "<!-- Generated by graphviz version 2.38.0 (20140413.2041)\r\n",
       " -->\r\n",
       "<!-- Title: A Pages: 1 -->\r\n",
       "<svg width=\"83pt\" height=\"188pt\"\r\n",
       " viewBox=\"0.00 0.00 83.39 188.00\" xmlns=\"http://www.w3.org/2000/svg\" xmlns:xlink=\"http://www.w3.org/1999/xlink\">\r\n",
       "<g id=\"graph0\" class=\"graph\" transform=\"scale(1 1) rotate(0) translate(4 184)\">\r\n",
       "<title>A</title>\r\n",
       "<polygon fill=\"white\" stroke=\"none\" points=\"-4,4 -4,-184 79.3933,-184 79.3933,4 -4,4\"/>\r\n",
       "<!-- a -->\r\n",
       "<g id=\"node1\" class=\"node\"><title>a</title>\r\n",
       "<ellipse fill=\"none\" stroke=\"black\" cx=\"37.6967\" cy=\"-162\" rx=\"27\" ry=\"18\"/>\r\n",
       "<text text-anchor=\"middle\" x=\"37.6967\" y=\"-158.3\" font-family=\"Times New Roman,serif\" font-size=\"14.00\">a</text>\r\n",
       "</g>\r\n",
       "<!-- b -->\r\n",
       "<g id=\"node2\" class=\"node\"><title>b</title>\r\n",
       "<ellipse fill=\"none\" stroke=\"black\" cx=\"37.6967\" cy=\"-90\" rx=\"27\" ry=\"18\"/>\r\n",
       "<text text-anchor=\"middle\" x=\"37.6967\" y=\"-86.3\" font-family=\"Times New Roman,serif\" font-size=\"14.00\">b</text>\r\n",
       "</g>\r\n",
       "<!-- a&#45;&#45;b -->\r\n",
       "<g id=\"edge1\" class=\"edge\"><title>a&#45;&#45;b</title>\r\n",
       "<path fill=\"none\" stroke=\"black\" d=\"M37.6967,-143.697C37.6967,-132.846 37.6967,-118.917 37.6967,-108.104\"/>\r\n",
       "</g>\r\n",
       "<!-- itworks -->\r\n",
       "<g id=\"node3\" class=\"node\"><title>itworks</title>\r\n",
       "<ellipse fill=\"none\" stroke=\"black\" cx=\"37.6967\" cy=\"-18\" rx=\"37.8943\" ry=\"18\"/>\r\n",
       "<text text-anchor=\"middle\" x=\"37.6967\" y=\"-14.3\" font-family=\"Times New Roman,serif\" font-size=\"14.00\">itworks</text>\r\n",
       "</g>\r\n",
       "<!-- b&#45;&#45;itworks -->\r\n",
       "<g id=\"edge2\" class=\"edge\"><title>b&#45;&#45;itworks</title>\r\n",
       "<path fill=\"none\" stroke=\"black\" d=\"M37.6967,-71.6966C37.6967,-60.8463 37.6967,-46.9167 37.6967,-36.1043\"/>\r\n",
       "</g>\r\n",
       "</g>\r\n",
       "</svg>\r\n"
      ],
      "text/plain": [
       "<IPython.core.display.HTML object>"
      ]
     },
     "metadata": {},
     "output_type": "display_data"
    }
   ],
   "source": [
    "%%dot\n",
    "graph A { a->b->itworks };"
   ]
  },
  {
   "cell_type": "code",
   "execution_count": 138,
   "metadata": {
    "collapsed": false
   },
   "outputs": [
    {
     "data": {
      "text/html": [
       "<?xml version=\"1.0\" encoding=\"UTF-8\" standalone=\"no\"?>\r\n",
       "<!DOCTYPE svg PUBLIC \"-//W3C//DTD SVG 1.1//EN\"\r\n",
       " \"http://www.w3.org/Graphics/SVG/1.1/DTD/svg11.dtd\">\r\n",
       "<!-- Generated by graphviz version 2.38.0 (20140413.2041)\r\n",
       " -->\r\n",
       "<!-- Title: A Pages: 1 -->\r\n",
       "<svg width=\"83pt\" height=\"188pt\"\r\n",
       " viewBox=\"0.00 0.00 83.39 188.00\" xmlns=\"http://www.w3.org/2000/svg\" xmlns:xlink=\"http://www.w3.org/1999/xlink\">\r\n",
       "<g id=\"graph0\" class=\"graph\" transform=\"scale(1 1) rotate(0) translate(4 184)\">\r\n",
       "<title>A</title>\r\n",
       "<polygon fill=\"white\" stroke=\"none\" points=\"-4,4 -4,-184 79.3933,-184 79.3933,4 -4,4\"/>\r\n",
       "<!-- a -->\r\n",
       "<g id=\"node1\" class=\"node\"><title>a</title>\r\n",
       "<ellipse fill=\"none\" stroke=\"black\" cx=\"37.6967\" cy=\"-162\" rx=\"27\" ry=\"18\"/>\r\n",
       "<text text-anchor=\"middle\" x=\"37.6967\" y=\"-158.3\" font-family=\"Times New Roman,serif\" font-size=\"14.00\">a</text>\r\n",
       "</g>\r\n",
       "<!-- b -->\r\n",
       "<g id=\"node2\" class=\"node\"><title>b</title>\r\n",
       "<ellipse fill=\"none\" stroke=\"black\" cx=\"37.6967\" cy=\"-90\" rx=\"27\" ry=\"18\"/>\r\n",
       "<text text-anchor=\"middle\" x=\"37.6967\" y=\"-86.3\" font-family=\"Times New Roman,serif\" font-size=\"14.00\">b</text>\r\n",
       "</g>\r\n",
       "<!-- a&#45;&#45;b -->\r\n",
       "<g id=\"edge1\" class=\"edge\"><title>a&#45;&#45;b</title>\r\n",
       "<path fill=\"none\" stroke=\"black\" d=\"M37.6967,-143.697C37.6967,-132.846 37.6967,-118.917 37.6967,-108.104\"/>\r\n",
       "</g>\r\n",
       "<!-- itworks -->\r\n",
       "<g id=\"node3\" class=\"node\"><title>itworks</title>\r\n",
       "<ellipse fill=\"none\" stroke=\"black\" cx=\"37.6967\" cy=\"-18\" rx=\"37.8943\" ry=\"18\"/>\r\n",
       "<text text-anchor=\"middle\" x=\"37.6967\" y=\"-14.3\" font-family=\"Times New Roman,serif\" font-size=\"14.00\">itworks</text>\r\n",
       "</g>\r\n",
       "<!-- b&#45;&#45;itworks -->\r\n",
       "<g id=\"edge2\" class=\"edge\"><title>b&#45;&#45;itworks</title>\r\n",
       "<path fill=\"none\" stroke=\"black\" d=\"M37.6967,-71.6966C37.6967,-60.8463 37.6967,-46.9167 37.6967,-36.1043\"/>\r\n",
       "</g>\r\n",
       "</g>\r\n",
       "</svg>\r\n"
      ],
      "text/plain": [
       "<IPython.core.display.HTML object>"
      ]
     },
     "metadata": {},
     "output_type": "display_data"
    }
   ],
   "source": [
    "%%dot\n",
    "graph A { a->b->itworks };"
   ]
  },
  {
   "cell_type": "code",
   "execution_count": 139,
   "metadata": {
    "collapsed": false
   },
   "outputs": [
    {
     "data": {
      "text/html": [
       "<?xml version=\"1.0\" encoding=\"UTF-8\" standalone=\"no\"?>\r\n",
       "<!DOCTYPE svg PUBLIC \"-//W3C//DTD SVG 1.1//EN\"\r\n",
       " \"http://www.w3.org/Graphics/SVG/1.1/DTD/svg11.dtd\">\r\n",
       "<!-- Generated by graphviz version 2.38.0 (20140413.2041)\r\n",
       " -->\r\n",
       "<!-- Title: A Pages: 1 -->\r\n",
       "<svg width=\"83pt\" height=\"188pt\"\r\n",
       " viewBox=\"0.00 0.00 83.39 188.00\" xmlns=\"http://www.w3.org/2000/svg\" xmlns:xlink=\"http://www.w3.org/1999/xlink\">\r\n",
       "<g id=\"graph0\" class=\"graph\" transform=\"scale(1 1) rotate(0) translate(4 184)\">\r\n",
       "<title>A</title>\r\n",
       "<polygon fill=\"white\" stroke=\"none\" points=\"-4,4 -4,-184 79.3933,-184 79.3933,4 -4,4\"/>\r\n",
       "<!-- a -->\r\n",
       "<g id=\"node1\" class=\"node\"><title>a</title>\r\n",
       "<ellipse fill=\"none\" stroke=\"black\" cx=\"37.6967\" cy=\"-162\" rx=\"27\" ry=\"18\"/>\r\n",
       "<text text-anchor=\"middle\" x=\"37.6967\" y=\"-158.3\" font-family=\"Times New Roman,serif\" font-size=\"14.00\">a</text>\r\n",
       "</g>\r\n",
       "<!-- b -->\r\n",
       "<g id=\"node2\" class=\"node\"><title>b</title>\r\n",
       "<ellipse fill=\"none\" stroke=\"black\" cx=\"37.6967\" cy=\"-90\" rx=\"27\" ry=\"18\"/>\r\n",
       "<text text-anchor=\"middle\" x=\"37.6967\" y=\"-86.3\" font-family=\"Times New Roman,serif\" font-size=\"14.00\">b</text>\r\n",
       "</g>\r\n",
       "<!-- a&#45;&#45;b -->\r\n",
       "<g id=\"edge1\" class=\"edge\"><title>a&#45;&#45;b</title>\r\n",
       "<path fill=\"none\" stroke=\"black\" d=\"M37.6967,-143.697C37.6967,-132.846 37.6967,-118.917 37.6967,-108.104\"/>\r\n",
       "</g>\r\n",
       "<!-- itworks -->\r\n",
       "<g id=\"node3\" class=\"node\"><title>itworks</title>\r\n",
       "<ellipse fill=\"none\" stroke=\"black\" cx=\"37.6967\" cy=\"-18\" rx=\"37.8943\" ry=\"18\"/>\r\n",
       "<text text-anchor=\"middle\" x=\"37.6967\" y=\"-14.3\" font-family=\"Times New Roman,serif\" font-size=\"14.00\">itworks</text>\r\n",
       "</g>\r\n",
       "<!-- b&#45;&#45;itworks -->\r\n",
       "<g id=\"edge2\" class=\"edge\"><title>b&#45;&#45;itworks</title>\r\n",
       "<path fill=\"none\" stroke=\"black\" d=\"M37.6967,-71.6966C37.6967,-60.8463 37.6967,-46.9167 37.6967,-36.1043\"/>\r\n",
       "</g>\r\n",
       "</g>\r\n",
       "</svg>\r\n"
      ],
      "text/plain": [
       "<IPython.core.display.HTML object>"
      ]
     },
     "metadata": {},
     "output_type": "display_data"
    }
   ],
   "source": [
    "%%dot\n",
    "graph A { a->b->itworks };"
   ]
  },
  {
   "cell_type": "code",
   "execution_count": 140,
   "metadata": {
    "collapsed": false
   },
   "outputs": [
    {
     "data": {
      "text/html": [
       "<?xml version=\"1.0\" encoding=\"UTF-8\" standalone=\"no\"?>\r\n",
       "<!DOCTYPE svg PUBLIC \"-//W3C//DTD SVG 1.1//EN\"\r\n",
       " \"http://www.w3.org/Graphics/SVG/1.1/DTD/svg11.dtd\">\r\n",
       "<!-- Generated by graphviz version 2.38.0 (20140413.2041)\r\n",
       " -->\r\n",
       "<!-- Title: A Pages: 1 -->\r\n",
       "<svg width=\"83pt\" height=\"188pt\"\r\n",
       " viewBox=\"0.00 0.00 83.39 188.00\" xmlns=\"http://www.w3.org/2000/svg\" xmlns:xlink=\"http://www.w3.org/1999/xlink\">\r\n",
       "<g id=\"graph0\" class=\"graph\" transform=\"scale(1 1) rotate(0) translate(4 184)\">\r\n",
       "<title>A</title>\r\n",
       "<polygon fill=\"white\" stroke=\"none\" points=\"-4,4 -4,-184 79.3933,-184 79.3933,4 -4,4\"/>\r\n",
       "<!-- a -->\r\n",
       "<g id=\"node1\" class=\"node\"><title>a</title>\r\n",
       "<ellipse fill=\"none\" stroke=\"black\" cx=\"37.6967\" cy=\"-162\" rx=\"27\" ry=\"18\"/>\r\n",
       "<text text-anchor=\"middle\" x=\"37.6967\" y=\"-158.3\" font-family=\"Times New Roman,serif\" font-size=\"14.00\">a</text>\r\n",
       "</g>\r\n",
       "<!-- b -->\r\n",
       "<g id=\"node2\" class=\"node\"><title>b</title>\r\n",
       "<ellipse fill=\"none\" stroke=\"black\" cx=\"37.6967\" cy=\"-90\" rx=\"27\" ry=\"18\"/>\r\n",
       "<text text-anchor=\"middle\" x=\"37.6967\" y=\"-86.3\" font-family=\"Times New Roman,serif\" font-size=\"14.00\">b</text>\r\n",
       "</g>\r\n",
       "<!-- a&#45;&#45;b -->\r\n",
       "<g id=\"edge1\" class=\"edge\"><title>a&#45;&#45;b</title>\r\n",
       "<path fill=\"none\" stroke=\"black\" d=\"M37.6967,-143.697C37.6967,-132.846 37.6967,-118.917 37.6967,-108.104\"/>\r\n",
       "</g>\r\n",
       "<!-- itworks -->\r\n",
       "<g id=\"node3\" class=\"node\"><title>itworks</title>\r\n",
       "<ellipse fill=\"none\" stroke=\"black\" cx=\"37.6967\" cy=\"-18\" rx=\"37.8943\" ry=\"18\"/>\r\n",
       "<text text-anchor=\"middle\" x=\"37.6967\" y=\"-14.3\" font-family=\"Times New Roman,serif\" font-size=\"14.00\">itworks</text>\r\n",
       "</g>\r\n",
       "<!-- b&#45;&#45;itworks -->\r\n",
       "<g id=\"edge2\" class=\"edge\"><title>b&#45;&#45;itworks</title>\r\n",
       "<path fill=\"none\" stroke=\"black\" d=\"M37.6967,-71.6966C37.6967,-60.8463 37.6967,-46.9167 37.6967,-36.1043\"/>\r\n",
       "</g>\r\n",
       "</g>\r\n",
       "</svg>\r\n"
      ],
      "text/plain": [
       "<IPython.core.display.HTML object>"
      ]
     },
     "metadata": {},
     "output_type": "display_data"
    }
   ],
   "source": [
    "%%dot\n",
    "graph A { a->b->itworks };"
   ]
  },
  {
   "cell_type": "code",
   "execution_count": 141,
   "metadata": {
    "collapsed": false
   },
   "outputs": [
    {
     "data": {
      "text/html": [
       "<?xml version=\"1.0\" encoding=\"UTF-8\" standalone=\"no\"?>\r\n",
       "<!DOCTYPE svg PUBLIC \"-//W3C//DTD SVG 1.1//EN\"\r\n",
       " \"http://www.w3.org/Graphics/SVG/1.1/DTD/svg11.dtd\">\r\n",
       "<!-- Generated by graphviz version 2.38.0 (20140413.2041)\r\n",
       " -->\r\n",
       "<!-- Title: A Pages: 1 -->\r\n",
       "<svg width=\"83pt\" height=\"188pt\"\r\n",
       " viewBox=\"0.00 0.00 83.39 188.00\" xmlns=\"http://www.w3.org/2000/svg\" xmlns:xlink=\"http://www.w3.org/1999/xlink\">\r\n",
       "<g id=\"graph0\" class=\"graph\" transform=\"scale(1 1) rotate(0) translate(4 184)\">\r\n",
       "<title>A</title>\r\n",
       "<polygon fill=\"white\" stroke=\"none\" points=\"-4,4 -4,-184 79.3933,-184 79.3933,4 -4,4\"/>\r\n",
       "<!-- a -->\r\n",
       "<g id=\"node1\" class=\"node\"><title>a</title>\r\n",
       "<ellipse fill=\"none\" stroke=\"black\" cx=\"37.6967\" cy=\"-162\" rx=\"27\" ry=\"18\"/>\r\n",
       "<text text-anchor=\"middle\" x=\"37.6967\" y=\"-158.3\" font-family=\"Times New Roman,serif\" font-size=\"14.00\">a</text>\r\n",
       "</g>\r\n",
       "<!-- b -->\r\n",
       "<g id=\"node2\" class=\"node\"><title>b</title>\r\n",
       "<ellipse fill=\"none\" stroke=\"black\" cx=\"37.6967\" cy=\"-90\" rx=\"27\" ry=\"18\"/>\r\n",
       "<text text-anchor=\"middle\" x=\"37.6967\" y=\"-86.3\" font-family=\"Times New Roman,serif\" font-size=\"14.00\">b</text>\r\n",
       "</g>\r\n",
       "<!-- a&#45;&#45;b -->\r\n",
       "<g id=\"edge1\" class=\"edge\"><title>a&#45;&#45;b</title>\r\n",
       "<path fill=\"none\" stroke=\"black\" d=\"M37.6967,-143.697C37.6967,-132.846 37.6967,-118.917 37.6967,-108.104\"/>\r\n",
       "</g>\r\n",
       "<!-- itworks -->\r\n",
       "<g id=\"node3\" class=\"node\"><title>itworks</title>\r\n",
       "<ellipse fill=\"none\" stroke=\"black\" cx=\"37.6967\" cy=\"-18\" rx=\"37.8943\" ry=\"18\"/>\r\n",
       "<text text-anchor=\"middle\" x=\"37.6967\" y=\"-14.3\" font-family=\"Times New Roman,serif\" font-size=\"14.00\">itworks</text>\r\n",
       "</g>\r\n",
       "<!-- b&#45;&#45;itworks -->\r\n",
       "<g id=\"edge2\" class=\"edge\"><title>b&#45;&#45;itworks</title>\r\n",
       "<path fill=\"none\" stroke=\"black\" d=\"M37.6967,-71.6966C37.6967,-60.8463 37.6967,-46.9167 37.6967,-36.1043\"/>\r\n",
       "</g>\r\n",
       "</g>\r\n",
       "</svg>\r\n"
      ],
      "text/plain": [
       "<IPython.core.display.HTML object>"
      ]
     },
     "metadata": {},
     "output_type": "display_data"
    }
   ],
   "source": [
    "%%dot\n",
    "graph A { a->b->itworks };"
   ]
  },
  {
   "cell_type": "code",
   "execution_count": 142,
   "metadata": {
    "collapsed": false
   },
   "outputs": [
    {
     "data": {
      "text/html": [
       "<?xml version=\"1.0\" encoding=\"UTF-8\" standalone=\"no\"?>\r\n",
       "<!DOCTYPE svg PUBLIC \"-//W3C//DTD SVG 1.1//EN\"\r\n",
       " \"http://www.w3.org/Graphics/SVG/1.1/DTD/svg11.dtd\">\r\n",
       "<!-- Generated by graphviz version 2.38.0 (20140413.2041)\r\n",
       " -->\r\n",
       "<!-- Title: A Pages: 1 -->\r\n",
       "<svg width=\"83pt\" height=\"188pt\"\r\n",
       " viewBox=\"0.00 0.00 83.39 188.00\" xmlns=\"http://www.w3.org/2000/svg\" xmlns:xlink=\"http://www.w3.org/1999/xlink\">\r\n",
       "<g id=\"graph0\" class=\"graph\" transform=\"scale(1 1) rotate(0) translate(4 184)\">\r\n",
       "<title>A</title>\r\n",
       "<polygon fill=\"white\" stroke=\"none\" points=\"-4,4 -4,-184 79.3933,-184 79.3933,4 -4,4\"/>\r\n",
       "<!-- a -->\r\n",
       "<g id=\"node1\" class=\"node\"><title>a</title>\r\n",
       "<ellipse fill=\"none\" stroke=\"black\" cx=\"37.6967\" cy=\"-162\" rx=\"27\" ry=\"18\"/>\r\n",
       "<text text-anchor=\"middle\" x=\"37.6967\" y=\"-158.3\" font-family=\"Times New Roman,serif\" font-size=\"14.00\">a</text>\r\n",
       "</g>\r\n",
       "<!-- b -->\r\n",
       "<g id=\"node2\" class=\"node\"><title>b</title>\r\n",
       "<ellipse fill=\"none\" stroke=\"black\" cx=\"37.6967\" cy=\"-90\" rx=\"27\" ry=\"18\"/>\r\n",
       "<text text-anchor=\"middle\" x=\"37.6967\" y=\"-86.3\" font-family=\"Times New Roman,serif\" font-size=\"14.00\">b</text>\r\n",
       "</g>\r\n",
       "<!-- a&#45;&#45;b -->\r\n",
       "<g id=\"edge1\" class=\"edge\"><title>a&#45;&#45;b</title>\r\n",
       "<path fill=\"none\" stroke=\"black\" d=\"M37.6967,-143.697C37.6967,-132.846 37.6967,-118.917 37.6967,-108.104\"/>\r\n",
       "</g>\r\n",
       "<!-- itworks -->\r\n",
       "<g id=\"node3\" class=\"node\"><title>itworks</title>\r\n",
       "<ellipse fill=\"none\" stroke=\"black\" cx=\"37.6967\" cy=\"-18\" rx=\"37.8943\" ry=\"18\"/>\r\n",
       "<text text-anchor=\"middle\" x=\"37.6967\" y=\"-14.3\" font-family=\"Times New Roman,serif\" font-size=\"14.00\">itworks</text>\r\n",
       "</g>\r\n",
       "<!-- b&#45;&#45;itworks -->\r\n",
       "<g id=\"edge2\" class=\"edge\"><title>b&#45;&#45;itworks</title>\r\n",
       "<path fill=\"none\" stroke=\"black\" d=\"M37.6967,-71.6966C37.6967,-60.8463 37.6967,-46.9167 37.6967,-36.1043\"/>\r\n",
       "</g>\r\n",
       "</g>\r\n",
       "</svg>\r\n"
      ],
      "text/plain": [
       "<IPython.core.display.HTML object>"
      ]
     },
     "metadata": {},
     "output_type": "display_data"
    }
   ],
   "source": [
    "%%dot\n",
    "graph A { a->b->itworks };"
   ]
  },
  {
   "cell_type": "code",
   "execution_count": null,
   "metadata": {
    "collapsed": false
   },
   "outputs": [],
   "source": [
    "echo -e \"%%dot\\ngraph A { a->b->\\\"$(date)\\\" };\" > test2.dot"
   ]
  },
  {
   "cell_type": "code",
   "execution_count": null,
   "metadata": {
    "collapsed": false
   },
   "outputs": [],
   "source": [
    "ls -al *.dot"
   ]
  },
  {
   "cell_type": "code",
   "execution_count": 145,
   "metadata": {
    "collapsed": false
   },
   "outputs": [
    {
     "name": "stderr",
     "output_type": "stream",
     "text": [
      "Error in calling magic 'run' on line:\n",
      "    [Errno 2] No such file or directory: 'C:\\\\tools\\\\cygwin\\\\home\\\\mjbright\\\\src\\\\git\\\\GIT_mjbright\\\\jupyter-for-everything-else\\\\test2.dot'\n",
      "    args: ['test2.dot']\n",
      "    kwargs: {'language': None}\n",
      "Traceback (most recent call last):\n",
      "  File \"C:\\Progs\\Anaconda3\\lib\\site-packages\\metakernel-0.12.6-py3.5.egg\\metakernel\\magic.py\", line 81, in call_magic\n",
      "    func(*args, **kwargs)\n",
      "  File \"C:\\Progs\\Anaconda3\\lib\\site-packages\\metakernel-0.12.6-py3.5.egg\\metakernel\\magics\\run_magic.py\", line 40, in line_run\n",
      "    self.kernel.do_execute_file(filename)\n",
      "  File \"C:\\Progs\\Anaconda3\\lib\\site-packages\\metakernel-0.12.6-py3.5.egg\\metakernel\\_metakernel.py\", line 213, in do_execute_file\n",
      "    code = \"\".join(open(filename).readlines())\n",
      "FileNotFoundError: [Errno 2] No such file or directory: 'C:\\\\tools\\\\cygwin\\\\home\\\\mjbright\\\\src\\\\git\\\\GIT_mjbright\\\\jupyter-for-everything-else\\\\test2.dot'\n",
      "\n",
      "%run [--language LANG] FILENAME - run code in filename by\n",
      "   kernel\n",
      "\n",
      "This magic will take the code in FILENAME and run it. The\n",
      "exact details of how the code runs are deterimined by your\n",
      "language.\n",
      "\n",
      "The --language LANG option will prefix the file contents with\n",
      "\"%%LANG\". You may also put information in the cell which will\n",
      "appear before the contents of the file.\n",
      "\n",
      "Examples:\n",
      "    %run filename.ss\n",
      "    %run -l python filename.py\n",
      "\n",
      "    %kx calysto_scheme.kernel CalystoScheme\n",
      "    %run --language kx filename.ss\n",
      "    %run --language \"kx default\" filename.ss\n",
      "\n",
      "Note: not all languages may support %run.\n",
      "\n",
      "Options:\n",
      "-------\n",
      "-l --language  use the provided language name as kernel [default: None]\n"
     ]
    }
   ],
   "source": [
    "%run test2.dot"
   ]
  },
  {
   "cell_type": "code",
   "execution_count": 146,
   "metadata": {
    "collapsed": false
   },
   "outputs": [
    {
     "data": {
      "text/html": [
       "<?xml version=\"1.0\" encoding=\"UTF-8\" standalone=\"no\"?>\r\n",
       "<!DOCTYPE svg PUBLIC \"-//W3C//DTD SVG 1.1//EN\"\r\n",
       " \"http://www.w3.org/Graphics/SVG/1.1/DTD/svg11.dtd\">\r\n",
       "<!-- Generated by graphviz version 2.38.0 (20140413.2041)\r\n",
       " -->\r\n",
       "<!-- Title: A Pages: 1 -->\r\n",
       "<svg width=\"83pt\" height=\"188pt\"\r\n",
       " viewBox=\"0.00 0.00 83.39 188.00\" xmlns=\"http://www.w3.org/2000/svg\" xmlns:xlink=\"http://www.w3.org/1999/xlink\">\r\n",
       "<g id=\"graph0\" class=\"graph\" transform=\"scale(1 1) rotate(0) translate(4 184)\">\r\n",
       "<title>A</title>\r\n",
       "<polygon fill=\"white\" stroke=\"none\" points=\"-4,4 -4,-184 79.3933,-184 79.3933,4 -4,4\"/>\r\n",
       "<!-- a -->\r\n",
       "<g id=\"node1\" class=\"node\"><title>a</title>\r\n",
       "<ellipse fill=\"none\" stroke=\"black\" cx=\"37.6967\" cy=\"-162\" rx=\"27\" ry=\"18\"/>\r\n",
       "<text text-anchor=\"middle\" x=\"37.6967\" y=\"-158.3\" font-family=\"Times New Roman,serif\" font-size=\"14.00\">a</text>\r\n",
       "</g>\r\n",
       "<!-- b -->\r\n",
       "<g id=\"node2\" class=\"node\"><title>b</title>\r\n",
       "<ellipse fill=\"none\" stroke=\"black\" cx=\"37.6967\" cy=\"-90\" rx=\"27\" ry=\"18\"/>\r\n",
       "<text text-anchor=\"middle\" x=\"37.6967\" y=\"-86.3\" font-family=\"Times New Roman,serif\" font-size=\"14.00\">b</text>\r\n",
       "</g>\r\n",
       "<!-- a&#45;&#45;b -->\r\n",
       "<g id=\"edge1\" class=\"edge\"><title>a&#45;&#45;b</title>\r\n",
       "<path fill=\"none\" stroke=\"black\" d=\"M37.6967,-143.697C37.6967,-132.846 37.6967,-118.917 37.6967,-108.104\"/>\r\n",
       "</g>\r\n",
       "<!-- itworks -->\r\n",
       "<g id=\"node3\" class=\"node\"><title>itworks</title>\r\n",
       "<ellipse fill=\"none\" stroke=\"black\" cx=\"37.6967\" cy=\"-18\" rx=\"37.8943\" ry=\"18\"/>\r\n",
       "<text text-anchor=\"middle\" x=\"37.6967\" y=\"-14.3\" font-family=\"Times New Roman,serif\" font-size=\"14.00\">itworks</text>\r\n",
       "</g>\r\n",
       "<!-- b&#45;&#45;itworks -->\r\n",
       "<g id=\"edge2\" class=\"edge\"><title>b&#45;&#45;itworks</title>\r\n",
       "<path fill=\"none\" stroke=\"black\" d=\"M37.6967,-71.6966C37.6967,-60.8463 37.6967,-46.9167 37.6967,-36.1043\"/>\r\n",
       "</g>\r\n",
       "</g>\r\n",
       "</svg>\r\n"
      ],
      "text/plain": [
       "<IPython.core.display.HTML object>"
      ]
     },
     "metadata": {},
     "output_type": "display_data"
    }
   ],
   "source": [
    "%%dot\n",
    "graph A { a->b->itworks };"
   ]
  },
  {
   "cell_type": "code",
   "execution_count": 147,
   "metadata": {
    "collapsed": false
   },
   "outputs": [
    {
     "data": {
      "text/html": [
       "<?xml version=\"1.0\" encoding=\"UTF-8\" standalone=\"no\"?>\r\n",
       "<!DOCTYPE svg PUBLIC \"-//W3C//DTD SVG 1.1//EN\"\r\n",
       " \"http://www.w3.org/Graphics/SVG/1.1/DTD/svg11.dtd\">\r\n",
       "<!-- Generated by graphviz version 2.38.0 (20140413.2041)\r\n",
       " -->\r\n",
       "<!-- Title: A Pages: 1 -->\r\n",
       "<svg width=\"83pt\" height=\"188pt\"\r\n",
       " viewBox=\"0.00 0.00 83.39 188.00\" xmlns=\"http://www.w3.org/2000/svg\" xmlns:xlink=\"http://www.w3.org/1999/xlink\">\r\n",
       "<g id=\"graph0\" class=\"graph\" transform=\"scale(1 1) rotate(0) translate(4 184)\">\r\n",
       "<title>A</title>\r\n",
       "<polygon fill=\"white\" stroke=\"none\" points=\"-4,4 -4,-184 79.3933,-184 79.3933,4 -4,4\"/>\r\n",
       "<!-- a -->\r\n",
       "<g id=\"node1\" class=\"node\"><title>a</title>\r\n",
       "<ellipse fill=\"none\" stroke=\"black\" cx=\"37.6967\" cy=\"-162\" rx=\"27\" ry=\"18\"/>\r\n",
       "<text text-anchor=\"middle\" x=\"37.6967\" y=\"-158.3\" font-family=\"Times New Roman,serif\" font-size=\"14.00\">a</text>\r\n",
       "</g>\r\n",
       "<!-- b -->\r\n",
       "<g id=\"node2\" class=\"node\"><title>b</title>\r\n",
       "<ellipse fill=\"none\" stroke=\"black\" cx=\"37.6967\" cy=\"-90\" rx=\"27\" ry=\"18\"/>\r\n",
       "<text text-anchor=\"middle\" x=\"37.6967\" y=\"-86.3\" font-family=\"Times New Roman,serif\" font-size=\"14.00\">b</text>\r\n",
       "</g>\r\n",
       "<!-- a&#45;&#45;b -->\r\n",
       "<g id=\"edge1\" class=\"edge\"><title>a&#45;&#45;b</title>\r\n",
       "<path fill=\"none\" stroke=\"black\" d=\"M37.6967,-143.697C37.6967,-132.846 37.6967,-118.917 37.6967,-108.104\"/>\r\n",
       "</g>\r\n",
       "<!-- itworks -->\r\n",
       "<g id=\"node3\" class=\"node\"><title>itworks</title>\r\n",
       "<ellipse fill=\"none\" stroke=\"black\" cx=\"37.6967\" cy=\"-18\" rx=\"37.8943\" ry=\"18\"/>\r\n",
       "<text text-anchor=\"middle\" x=\"37.6967\" y=\"-14.3\" font-family=\"Times New Roman,serif\" font-size=\"14.00\">itworks</text>\r\n",
       "</g>\r\n",
       "<!-- b&#45;&#45;itworks -->\r\n",
       "<g id=\"edge2\" class=\"edge\"><title>b&#45;&#45;itworks</title>\r\n",
       "<path fill=\"none\" stroke=\"black\" d=\"M37.6967,-71.6966C37.6967,-60.8463 37.6967,-46.9167 37.6967,-36.1043\"/>\r\n",
       "</g>\r\n",
       "</g>\r\n",
       "</svg>\r\n"
      ],
      "text/plain": [
       "<IPython.core.display.HTML object>"
      ]
     },
     "metadata": {},
     "output_type": "display_data"
    }
   ],
   "source": [
    "%run test.dot"
   ]
  },
  {
   "cell_type": "code",
   "execution_count": 148,
   "metadata": {
    "collapsed": false
   },
   "outputs": [
    {
     "data": {
      "text/html": [
       "<?xml version=\"1.0\" encoding=\"UTF-8\" standalone=\"no\"?>\r\n",
       "<!DOCTYPE svg PUBLIC \"-//W3C//DTD SVG 1.1//EN\"\r\n",
       " \"http://www.w3.org/Graphics/SVG/1.1/DTD/svg11.dtd\">\r\n",
       "<!-- Generated by graphviz version 2.38.0 (20140413.2041)\r\n",
       " -->\r\n",
       "<!-- Title: A Pages: 1 -->\r\n",
       "<svg width=\"89pt\" height=\"260pt\"\r\n",
       " viewBox=\"0.00 0.00 89.00 260.00\" xmlns=\"http://www.w3.org/2000/svg\" xmlns:xlink=\"http://www.w3.org/1999/xlink\">\r\n",
       "<g id=\"graph0\" class=\"graph\" transform=\"scale(1 1) rotate(0) translate(4 256)\">\r\n",
       "<title>A</title>\r\n",
       "<polygon fill=\"white\" stroke=\"none\" points=\"-4,4 -4,-256 85,-256 85,4 -4,4\"/>\r\n",
       "<!-- a -->\r\n",
       "<g id=\"node1\" class=\"node\"><title>a</title>\r\n",
       "<ellipse fill=\"none\" stroke=\"black\" cx=\"54\" cy=\"-234\" rx=\"27\" ry=\"18\"/>\r\n",
       "<text text-anchor=\"middle\" x=\"54\" y=\"-230.3\" font-family=\"Times New Roman,serif\" font-size=\"14.00\">a</text>\r\n",
       "</g>\r\n",
       "<!-- b -->\r\n",
       "<g id=\"node2\" class=\"node\"><title>b</title>\r\n",
       "<ellipse fill=\"none\" stroke=\"black\" cx=\"54\" cy=\"-162\" rx=\"27\" ry=\"18\"/>\r\n",
       "<text text-anchor=\"middle\" x=\"54\" y=\"-158.3\" font-family=\"Times New Roman,serif\" font-size=\"14.00\">b</text>\r\n",
       "</g>\r\n",
       "<!-- a&#45;&#45;b -->\r\n",
       "<g id=\"edge1\" class=\"edge\"><title>a&#45;&#45;b</title>\r\n",
       "<path fill=\"none\" stroke=\"black\" d=\"M54,-215.697C54,-204.846 54,-190.917 54,-180.104\"/>\r\n",
       "</g>\r\n",
       "<!-- c -->\r\n",
       "<g id=\"node3\" class=\"node\"><title>c</title>\r\n",
       "<ellipse fill=\"none\" stroke=\"black\" cx=\"27\" cy=\"-90\" rx=\"27\" ry=\"18\"/>\r\n",
       "<text text-anchor=\"middle\" x=\"27\" y=\"-86.3\" font-family=\"Times New Roman,serif\" font-size=\"14.00\">c</text>\r\n",
       "</g>\r\n",
       "<!-- b&#45;&#45;c -->\r\n",
       "<g id=\"edge2\" class=\"edge\"><title>b&#45;&#45;c</title>\r\n",
       "<path fill=\"none\" stroke=\"black\" d=\"M47.6014,-144.411C43.3597,-133.414 37.8106,-119.027 33.5403,-107.956\"/>\r\n",
       "</g>\r\n",
       "<!-- d -->\r\n",
       "<g id=\"node4\" class=\"node\"><title>d</title>\r\n",
       "<ellipse fill=\"none\" stroke=\"black\" cx=\"54\" cy=\"-18\" rx=\"27\" ry=\"18\"/>\r\n",
       "<text text-anchor=\"middle\" x=\"54\" y=\"-14.3\" font-family=\"Times New Roman,serif\" font-size=\"14.00\">d</text>\r\n",
       "</g>\r\n",
       "<!-- b&#45;&#45;d -->\r\n",
       "<g id=\"edge4\" class=\"edge\"><title>b&#45;&#45;d</title>\r\n",
       "<path fill=\"none\" stroke=\"black\" d=\"M57.6538,-143.908C59.6758,-133.569 61.9808,-120.09 63,-108 64.3441,-92.0566 64.3441,-87.9434 63,-72 61.9808,-59.9098 59.6758,-46.4315 57.6538,-36.0925\"/>\r\n",
       "</g>\r\n",
       "<!-- c&#45;&#45;d -->\r\n",
       "<g id=\"edge3\" class=\"edge\"><title>c&#45;&#45;d</title>\r\n",
       "<path fill=\"none\" stroke=\"black\" d=\"M33.3986,-72.411C37.6403,-61.4141 43.1894,-47.0274 47.4597,-35.9562\"/>\r\n",
       "</g>\r\n",
       "</g>\r\n",
       "</svg>\r\n"
      ],
      "text/plain": [
       "<IPython.core.display.HTML object>"
      ]
     },
     "metadata": {},
     "output_type": "display_data"
    }
   ],
   "source": [
    "%dot graph A { a->b->c->d; b->d };"
   ]
  },
  {
   "cell_type": "code",
   "execution_count": 149,
   "metadata": {
    "collapsed": false
   },
   "outputs": [
    {
     "data": {
      "text/html": [
       "<?xml version=\"1.0\" encoding=\"UTF-8\" standalone=\"no\"?>\r\n",
       "<!DOCTYPE svg PUBLIC \"-//W3C//DTD SVG 1.1//EN\"\r\n",
       " \"http://www.w3.org/Graphics/SVG/1.1/DTD/svg11.dtd\">\r\n",
       "<!-- Generated by graphviz version 2.38.0 (20140413.2041)\r\n",
       " -->\r\n",
       "<!-- Title: A Pages: 1 -->\r\n",
       "<svg width=\"62pt\" height=\"188pt\"\r\n",
       " viewBox=\"0.00 0.00 62.00 188.00\" xmlns=\"http://www.w3.org/2000/svg\" xmlns:xlink=\"http://www.w3.org/1999/xlink\">\r\n",
       "<g id=\"graph0\" class=\"graph\" transform=\"scale(1 1) rotate(0) translate(4 184)\">\r\n",
       "<title>A</title>\r\n",
       "<polygon fill=\"white\" stroke=\"none\" points=\"-4,4 -4,-184 58,-184 58,4 -4,4\"/>\r\n",
       "<!-- a -->\r\n",
       "<g id=\"node1\" class=\"node\"><title>a</title>\r\n",
       "<ellipse fill=\"none\" stroke=\"black\" cx=\"27\" cy=\"-162\" rx=\"27\" ry=\"18\"/>\r\n",
       "<text text-anchor=\"middle\" x=\"27\" y=\"-158.3\" font-family=\"Times New Roman,serif\" font-size=\"14.00\">a</text>\r\n",
       "</g>\r\n",
       "<!-- b -->\r\n",
       "<g id=\"node2\" class=\"node\"><title>b</title>\r\n",
       "<ellipse fill=\"none\" stroke=\"black\" cx=\"27\" cy=\"-90\" rx=\"27\" ry=\"18\"/>\r\n",
       "<text text-anchor=\"middle\" x=\"27\" y=\"-86.3\" font-family=\"Times New Roman,serif\" font-size=\"14.00\">b</text>\r\n",
       "</g>\r\n",
       "<!-- a&#45;&#45;b -->\r\n",
       "<g id=\"edge1\" class=\"edge\"><title>a&#45;&#45;b</title>\r\n",
       "<path fill=\"none\" stroke=\"black\" d=\"M27,-143.697C27,-132.846 27,-118.917 27,-108.104\"/>\r\n",
       "</g>\r\n",
       "<!-- c -->\r\n",
       "<g id=\"node3\" class=\"node\"><title>c</title>\r\n",
       "<ellipse fill=\"none\" stroke=\"black\" cx=\"27\" cy=\"-18\" rx=\"27\" ry=\"18\"/>\r\n",
       "<text text-anchor=\"middle\" x=\"27\" y=\"-14.3\" font-family=\"Times New Roman,serif\" font-size=\"14.00\">c</text>\r\n",
       "</g>\r\n",
       "<!-- b&#45;&#45;c -->\r\n",
       "<g id=\"edge2\" class=\"edge\"><title>b&#45;&#45;c</title>\r\n",
       "<path fill=\"none\" stroke=\"black\" d=\"M27,-71.6966C27,-60.8463 27,-46.9167 27,-36.1043\"/>\r\n",
       "</g>\r\n",
       "</g>\r\n",
       "</svg>\r\n"
      ],
      "text/plain": [
       "<IPython.core.display.HTML object>"
      ]
     },
     "metadata": {},
     "output_type": "display_data"
    }
   ],
   "source": [
    "%%dot\n",
    "graph A { a->b->c };"
   ]
  },
  {
   "cell_type": "code",
   "execution_count": null,
   "metadata": {
    "collapsed": false
   },
   "outputs": [],
   "source": [
    "echo \"Hello\""
   ]
  },
  {
   "cell_type": "code",
   "execution_count": 151,
   "metadata": {
    "collapsed": false
   },
   "outputs": [
    {
     "name": "stdout",
     "output_type": "stream",
     "text": [
      "echo hello world from bash\n"
     ]
    }
   ],
   "source": [
    "%%python -e\n",
    "print(\"echo hello world from bash\")"
   ]
  },
  {
   "cell_type": "code",
   "execution_count": null,
   "metadata": {
    "collapsed": true
   },
   "outputs": [],
   "source": [
    "%%python -e\n",
    "retval = \"'(echo this is code in the kernel language)\""
   ]
  },
  {
   "cell_type": "code",
   "execution_count": 153,
   "metadata": {
    "collapsed": true
   },
   "outputs": [],
   "source": [
    "%%python -e\n",
    "\"'(echo this is code in the kernel language)\""
   ]
  },
  {
   "cell_type": "code",
   "execution_count": 154,
   "metadata": {
    "collapsed": true
   },
   "outputs": [],
   "source": [
    "%%python -e\n",
    "\"date\""
   ]
  },
  {
   "cell_type": "code",
   "execution_count": 155,
   "metadata": {
    "collapsed": false
   },
   "outputs": [],
   "source": [
    "%%python -e\n",
    "\"'(date)\""
   ]
  },
  {
   "cell_type": "code",
   "execution_count": 156,
   "metadata": {
    "collapsed": false
   },
   "outputs": [],
   "source": [
    "%%python -e\n",
    "\"'echo this is code in the kernel language\""
   ]
  },
  {
   "cell_type": "code",
   "execution_count": null,
   "metadata": {
    "collapsed": true
   },
   "outputs": [],
   "source": [
    "%%show --output\n",
    "retval = 54 * 54"
   ]
  },
  {
   "cell_type": "code",
   "execution_count": 158,
   "metadata": {
    "collapsed": false
   },
   "outputs": [],
   "source": [
    "%set pycmd \"print('Hello World')\""
   ]
  },
  {
   "cell_type": "code",
   "execution_count": 159,
   "metadata": {
    "collapsed": false
   },
   "outputs": [],
   "source": [
    "%get pycmd"
   ]
  },
  {
   "cell_type": "code",
   "execution_count": null,
   "metadata": {
    "collapsed": false
   },
   "outputs": [],
   "source": [
    "%%time\n",
    "ls -al"
   ]
  },
  {
   "cell_type": "code",
   "execution_count": null,
   "metadata": {
    "collapsed": false
   },
   "outputs": [],
   "source": [
    "%%time\n",
    "sleep 2"
   ]
  },
  {
   "cell_type": "code",
   "execution_count": 162,
   "metadata": {
    "collapsed": false
   },
   "outputs": [
    {
     "data": {
      "text/html": [
       "<u>This is underlined!</u>"
      ],
      "text/plain": [
       "<IPython.core.display.HTML object>"
      ]
     },
     "metadata": {},
     "output_type": "display_data"
    }
   ],
   "source": [
    "%html <u>This is underlined!</u>"
   ]
  },
  {
   "cell_type": "code",
   "execution_count": null,
   "metadata": {
    "collapsed": false
   },
   "outputs": [],
   "source": [
    "#%kernel bash_kernel BashKernel -k bash\n",
    "%kernel bash_kernel MetaKernel_Bash -k bash\n",
    "#%kx echo hello\n",
    "%kernel ls -al\n",
    "%kx ls -al"
   ]
  },
  {
   "cell_type": "code",
   "execution_count": 164,
   "metadata": {
    "collapsed": false
   },
   "outputs": [
    {
     "name": "stderr",
     "output_type": "stream",
     "text": [
      "Error in calling magic 'kx' on line:\n",
      "    'bash ls -al'\n",
      "    args: ['-k', 'bash ls -al']\n",
      "    kwargs: {}\n",
      "Traceback (most recent call last):\n",
      "  File \"C:\\Progs\\Anaconda3\\lib\\site-packages\\metakernel-0.12.6-py3.5.egg\\metakernel\\magic.py\", line 81, in call_magic\n",
      "    func(*args, **kwargs)\n",
      "  File \"C:\\Progs\\Anaconda3\\lib\\site-packages\\metakernel-0.12.6-py3.5.egg\\metakernel\\magics\\kernel_magic.py\", line 89, in line_kx\n",
      "    self.retval = self.kernels[kernel_name].do_execute_direct(code)\n",
      "KeyError: 'bash ls -al'\n",
      "\n",
      "%kx CODE [-k NAME] - send the code to the kernel.\n",
      "\n",
      "This line magic will send the CODE to the kernel\n",
      "for execution.\n",
      "\n",
      "Returns the result of the execution as output.\n",
      "\n",
      "Example:\n",
      "\n",
      "    %kernel ls -al\n",
      "\n",
      "Use `%kernel MODULE CLASS [-k NAME]` to create a kernel.\n",
      "\n",
      "Options:\n",
      "-------\n",
      "-k --kernel_name kernel name given to use for execution [default: None]\n"
     ]
    }
   ],
   "source": [
    "%kx -k bash ls -al"
   ]
  },
  {
   "cell_type": "code",
   "execution_count": null,
   "metadata": {
    "collapsed": false
   },
   "outputs": [],
   "source": [
    "ls -al\n",
    "echo HELLO\n",
    "%load README.md"
   ]
  },
  {
   "cell_type": "code",
   "execution_count": 166,
   "metadata": {
    "collapsed": false
   },
   "outputs": [
    {
     "name": "stdout",
     "output_type": "stream",
     "text": [
      "Available macros:\n",
      "\n"
     ]
    }
   ],
   "source": [
    "%macro -l all"
   ]
  },
  {
   "cell_type": "code",
   "execution_count": 167,
   "metadata": {
    "collapsed": true
   },
   "outputs": [],
   "source": [
    "%%macro my_test_macro\n",
    "#print \"Ok!\"\n",
    "#ls -al\n",
    "echo \"This is a test macro!\""
   ]
  },
  {
   "cell_type": "code",
   "execution_count": null,
   "metadata": {
    "collapsed": false
   },
   "outputs": [],
   "source": [
    "%macro my_test_macro"
   ]
  },
  {
   "cell_type": "code",
   "execution_count": 169,
   "metadata": {
    "collapsed": false
   },
   "outputs": [
    {
     "name": "stdout",
     "output_type": "stream",
     "text": [
      "Available macros:\n",
      "    Learned:\n",
      "        my_test_macro\n",
      "\n"
     ]
    }
   ],
   "source": [
    "%macro -l learned"
   ]
  },
  {
   "cell_type": "code",
   "execution_count": 170,
   "metadata": {
    "collapsed": false
   },
   "outputs": [
    {
     "name": "stdout",
     "output_type": "stream",
     "text": [
      "%%macro my_test_macro\n",
      "#print \"Ok!\"\n",
      "#ls -al\n",
      "echo \"This is a test macro!\"\n"
     ]
    }
   ],
   "source": [
    "%macro -s my_test_macro"
   ]
  },
  {
   "cell_type": "code",
   "execution_count": null,
   "metadata": {
    "collapsed": false
   },
   "outputs": [],
   "source": [
    "myfunc() { echo \"My function with arg[$1]!\"; }"
   ]
  },
  {
   "cell_type": "code",
   "execution_count": null,
   "metadata": {
    "collapsed": false
   },
   "outputs": [],
   "source": [
    "myfunc test_arg"
   ]
  },
  {
   "cell_type": "code",
   "execution_count": 173,
   "metadata": {
    "collapsed": false
   },
   "outputs": [
    {
     "name": "stderr",
     "output_type": "stream",
     "text": [
      "Error in calling magic 'parallel' on line:\n",
      "    No module named 'parallel'\n",
      "    args: ['bash_kernel', 'BashKernel']\n",
      "    kwargs: {'kernel_name': 'default', 'ids': '[0,2:5,9,...]'}\n",
      "Traceback (most recent call last):\n",
      "  File \"C:\\Progs\\Anaconda3\\lib\\site-packages\\metakernel-0.12.6-py3.5.egg\\metakernel\\magics\\parallel_magic.py\", line 52, in line_parallel\n",
      "    from ipyparallel import Client\n",
      "ImportError: No module named 'ipyparallel'\n",
      "\n",
      "During handling of the above exception, another exception occurred:\n",
      "\n",
      "Traceback (most recent call last):\n",
      "  File \"C:\\Progs\\Anaconda3\\lib\\site-packages\\metakernel-0.12.6-py3.5.egg\\metakernel\\magic.py\", line 81, in call_magic\n",
      "    func(*args, **kwargs)\n",
      "  File \"C:\\Progs\\Anaconda3\\lib\\site-packages\\metakernel-0.12.6-py3.5.egg\\metakernel\\magics\\parallel_magic.py\", line 54, in line_parallel\n",
      "    from IPython.parallel import Client\n",
      "ImportError: No module named 'parallel'\n",
      "\n",
      "%parallel MODULE CLASS [-k NAME] [-i [...]] - construct an interface to the cluster.\n",
      "\n",
      "Example:\n",
      "\n",
      "    %parallel bash_kernel BashKernel\n",
      "    %parallel bash_kernel BashKernel -k bash\n",
      "    %parallel bash_kernel BashKernel --i [0,2:5,9,...]\n",
      "\n",
      "cluster_size and cluster_rank variables are set upon\n",
      "initialization of the remote node (if the kernel\n",
      "supports %set).\n",
      "\n",
      "Use %px or %%px to send code to the cluster.\n",
      "\n",
      "Options:\n",
      "-------\n",
      "-i --ids       the machine ids to use from the cluster [default: None]\n",
      "-k --kernel_name arbitrary name given to reference kernel [default: default]\n"
     ]
    }
   ],
   "source": [
    "%parallel bash_kernel BashKernel --i [0,2:5,9,...]"
   ]
  },
  {
   "cell_type": "code",
   "execution_count": 174,
   "metadata": {
    "collapsed": true
   },
   "outputs": [],
   "source": [
    "%plot qt --format=png\n",
    "%plot inline -s 640,480"
   ]
  },
  {
   "cell_type": "code",
   "execution_count": 175,
   "metadata": {
    "collapsed": false
   },
   "outputs": [
    {
     "name": "stderr",
     "output_type": "stream",
     "text": [
      "Error in calling magic 'pmap' on line:\n",
      "    No module named 'IPython.parallel.util'\n",
      "    args: ['function-name-in-language', range(0, 10)]\n",
      "    kwargs: {}\n",
      "Traceback (most recent call last):\n",
      "  File \"C:\\Progs\\Anaconda3\\lib\\site-packages\\metakernel-0.12.6-py3.5.egg\\metakernel\\magics\\parallel_magic.py\", line 274, in line_pmap\n",
      "    from ipyparallel.util import interactive\n",
      "ImportError: No module named 'ipyparallel'\n",
      "\n",
      "During handling of the above exception, another exception occurred:\n",
      "\n",
      "Traceback (most recent call last):\n",
      "  File \"C:\\Progs\\Anaconda3\\lib\\site-packages\\metakernel-0.12.6-py3.5.egg\\metakernel\\magic.py\", line 81, in call_magic\n",
      "    func(*args, **kwargs)\n",
      "  File \"C:\\Progs\\Anaconda3\\lib\\site-packages\\metakernel-0.12.6-py3.5.egg\\metakernel\\magics\\parallel_magic.py\", line 276, in line_pmap\n",
      "    from IPython.parallel.util import interactive\n",
      "ImportError: No module named 'IPython.parallel.util'\n",
      "\n",
      "%pmap FUNCTION [ARGS1,ARGS2,...] - (\"parallel map\") call a FUNCTION on args\n",
      "\n",
      "This line magic will apply a function name to all of the\n",
      "arguments given one at a time using a dynamic load balancing scheduler.\n",
      "\n",
      "Currently, the args are provided as a Python expression (with no spaces).\n",
      "\n",
      "You must first setup a cluster using the %parallel magic.\n",
      "\n",
      "Examples:\n",
      "\n",
      "    %pmap function-name-in-language range(10)\n",
      "    %pmap function-name-in-language [1,2,3,4]\n",
      "    %pmap run_experiment range(1,100,5)\n",
      "    %pmap run_experiment [\"test1\",\"test2\",\"test3\"]\n",
      "    %pmap f [(1,4,7),(2,3,5),(7,2,2)]\n",
      "\n",
      "The function name must be a function that is available on all\n",
      "nodes in the cluster. For example, you could:\n",
      "\n",
      "    %%px\n",
      "    (define myfunc\n",
      "       (lambda (n)\n",
      "         (+ n 1)))\n",
      "\n",
      "to define myfunc on all machines (use %%px -e to also define\n",
      "it in the running notebook or console). Then you can apply it\n",
      "to a list of arguments:\n",
      "\n",
      "    %%pmap myfunc range(100)\n",
      "\n",
      "The load balancer will run myfunc on the next available node\n",
      "in the cluster.\n",
      "\n",
      "Note: not all languages may support running a function via this magic.\n"
     ]
    }
   ],
   "source": [
    "%pmap function-name-in-language range(10)\n",
    "%pmap function-name-in-language [1,2,3,4]\n",
    "%pmap run_experiment range(1,100,5)\n",
    "%pmap run_experiment [\"test1\",\"test2\",\"test3\"]\n",
    "%pmap f [(1,4,7),(2,3,5),(7,2,2)]"
   ]
  },
  {
   "cell_type": "code",
   "execution_count": 176,
   "metadata": {
    "collapsed": false
   },
   "outputs": [
    {
     "name": "stderr",
     "output_type": "stream",
     "text": [
      "Error in calling magic 'px' on cell:\n",
      "    'NoneType' object is not subscriptable\n",
      "    args: []\n",
      "    kwargs: {}\n",
      "Traceback (most recent call last):\n",
      "  File \"C:\\Progs\\Anaconda3\\lib\\site-packages\\metakernel-0.12.6-py3.5.egg\\metakernel\\magic.py\", line 81, in call_magic\n",
      "    func(*args, **kwargs)\n",
      "  File \"C:\\Progs\\Anaconda3\\lib\\site-packages\\metakernel-0.12.6-py3.5.egg\\metakernel\\magics\\parallel_magic.py\", line 228, in cell_px\n",
      "    kernel_name, self._clean_code(self.code))]\n",
      "TypeError: 'NoneType' object is not subscriptable\n",
      "\n",
      "During handling of the above exception, another exception occurred:\n",
      "\n",
      "Traceback (most recent call last):\n",
      "  File \"C:\\Progs\\Anaconda3\\lib\\site-packages\\metakernel-0.12.6-py3.5.egg\\metakernel\\magic.py\", line 83, in call_magic\n",
      "    func(old_args)\n",
      "  File \"C:\\Progs\\Anaconda3\\lib\\site-packages\\metakernel-0.12.6-py3.5.egg\\metakernel\\magics\\parallel_magic.py\", line 228, in cell_px\n",
      "    kernel_name, self._clean_code(self.code))]\n",
      "TypeError: 'NoneType' object is not subscriptable\n",
      "\n",
      "%%px - send cell to the cluster.\n",
      "\n",
      "Example:\n",
      "\n",
      "    %%px\n",
      "    (define x 42)\n",
      "\n",
      "Use %parallel to initialize the cluster.\n",
      "\n",
      "Options:\n",
      "-------\n",
      "-e --evaluate  evaluate code in the current kernel, too. The current kernel should be of the same language as the cluster. [default: False]\n",
      "-k --kernel_name kernel name given to use for execution [default: None]\n"
     ]
    }
   ],
   "source": [
    "%%px\n",
    "(define myfunc\n",
    "   (lambda (n)\n",
    "     (+ n 1)))"
   ]
  },
  {
   "cell_type": "code",
   "execution_count": 177,
   "metadata": {
    "collapsed": false
   },
   "outputs": [
    {
     "data": {
      "text/plain": [
       "'NoneType' object is not subscriptable"
      ]
     },
     "execution_count": 177,
     "metadata": {},
     "output_type": "execute_result"
    }
   ],
   "source": [
    "%px sys.version"
   ]
  },
  {
   "cell_type": "code",
   "execution_count": 178,
   "metadata": {
    "collapsed": false
   },
   "outputs": [
    {
     "name": "stdout",
     "output_type": "stream",
     "text": [
      "Available line magics:\n",
      "%activity  %cd  %connect_info  %dot  %download  %edit  %get  %help  %html  %include  %install  %install_magic  %javascript  %jigsaw  %kernel  %kx  %latex  %load  %ls  %lsmagic  %macro  %magic  %parallel  %plot  %pmap  %px  %python  %reload_magics  %restart  %run  %set  %shell\n",
      "\n",
      "Available cell magics:\n",
      "%%activity  %%brain  %%debug  %%dot  %%file  %%help  %%html  %%javascript  %%kx  %%latex  %%macro  %%processing  %%px  %%python  %%shell  %%show  %%time  %%tutor\n"
     ]
    }
   ],
   "source": [
    "%lsmagic"
   ]
  },
  {
   "cell_type": "code",
   "execution_count": 179,
   "metadata": {
    "collapsed": false
   },
   "outputs": [
    {
     "data": {
      "text/html": [
       "\n",
       "        <iframe\n",
       "            width=\"100%\"\n",
       "            height=\"500\"\n",
       "            src=\"https://pythontutor.com/iframe-embed.html#code=%0Aa%3D1%0Aprint%28a%29&origin=opt-frontend.js&cumulative=false&heapPrimitives=false&textReferences=false&py=3&rawInputLstJSON=%5B%5D&curInstr=0&codeDivWidth=350&codeDivHeight=400\"\n",
       "            frameborder=\"0\"\n",
       "            allowfullscreen\n",
       "        ></iframe>\n",
       "        "
      ],
      "text/plain": [
       "<IPython.lib.display.IFrame object at 0x000000000F32A7B8>"
      ]
     },
     "metadata": {},
     "output_type": "display_data"
    }
   ],
   "source": [
    "%%tutor --language=python3\n",
    "\n",
    "a=1\n",
    "print(a)"
   ]
  },
  {
   "cell_type": "code",
   "execution_count": 180,
   "metadata": {
    "collapsed": false
   },
   "outputs": [
    {
     "name": "stdout",
     "output_type": "stream",
     "text": [
      "Line magics:\n",
      "    %activity FILENAME - run a widget-based activity\n",
      "    %cd PATH - change current directory of session\n",
      "    %connect_info - show connection information\n",
      "    %dot CODE - render code as Graphviz image\n",
      "    %download URL [-f FILENAME] - download file from URL\n",
      "    %edit FILENAME - load code from filename into next cell for editing\n",
      "    %get VARIABLE - get a variable from the kernel in a Python-type.\n",
      "    %help TEXT - get help on the given text\n",
      "    %html CODE - display code as HTML\n",
      "    %include FILENAME ... - include code from filename into this code\n",
      "    %install PACKAGE - install package\n",
      "    %install_magic URL - download and install magic from URL\n",
      "    %javascript CODE - send code as JavaScript\n",
      "    %jigsaw LANGUAGE - show visual code editor/generator\n",
      "    %kernel MODULE CLASS [-k NAME] - construct a kernel for sending code.\n",
      "    %kx CODE [-k NAME] - send the code to the kernel.\n",
      "    %latex TEXT - display text as LaTeX\n",
      "    %load FILENAME - load code from filename into next cell\n",
      "    %ls PATH - list files and directories under PATH\n",
      "    %lsmagic - list the current line and cell magics\n",
      "    %macro NAME - execute a macro\n",
      "    %magic - show installed magics\n",
      "    %parallel MODULE CLASS [-k NAME] [-i [...]] - construct an interface to the cluster.\n",
      "    %plot [options] backend - configure plotting for the session.\n",
      "    %pmap FUNCTION [ARGS1,ARGS2,...] - (\"parallel map\") call a FUNCTION on args\n",
      "    %px EXPRESSION - send EXPRESSION to the cluster.\n",
      "    %python CODE - evaluate code as Python\n",
      "    %reload_magics - reload the magics from the installed files\n",
      "    %restart - restart session\n",
      "    %run [--language LANG] FILENAME - run code in filename by\n",
      "    %set VARIABLE VALUE - set a variable in the kernel.\n",
      "    %shell COMMAND - run the line as a shell command\n",
      "\n",
      "Cell magics:\n",
      "     %%shell - run the contents of the cell as shell commands\n",
      "    %%activity FILENAME - make an activity from\n",
      "    %%brain - run a cell as brain control code\n",
      "    %%debug - step through the code expression by expression\n",
      "    %%dot - render contents of cell as Graphviz image\n",
      "    %%file [--append|-a] FILENAME - write contents of cell to file\n",
      "    %%help TEXT - get detailed help on the given text\n",
      "    %%html - display contents of cell as HTML\n",
      "    %%javascript - send contents of cell as JavaScript\n",
      "    %%kx [-k NAME] - send the cell code to the kernel.\n",
      "    %%latex - display contents of cell as LaTeX\n",
      "    %%macro NAME - learn a new macro\n",
      "    %%processing - run the cell in the language Processing\n",
      "    %%px - send cell to the cluster.\n",
      "    %%python - evaluate contents of cell as Python\n",
      "    %%show [-o]- show cell contents or results in system pager\n",
      "    %%time - show time to run cell\n",
      "    %%tutor [--language=LANGUAGE] - show cell with\n",
      "\n",
      "Shell shortcut:\n",
      "    ! COMMAND ... - execute command in shell\n",
      "\n",
      "Any cell magic can be made persistent for rest of session by using %%% prefix.\n",
      "\n",
      "Help on items:\n"
     ]
    },
    {
     "name": "stderr",
     "output_type": "stream",
     "text": [
      "Error in calling magic 'magic' on line:\n",
      "    string indices must be integers\n",
      "    args: []\n",
      "    kwargs: {}\n",
      "Traceback (most recent call last):\n",
      "  File \"C:\\Progs\\Anaconda3\\lib\\site-packages\\metakernel-0.12.6-py3.5.egg\\metakernel\\magic.py\", line 81, in call_magic\n",
      "    func(*args, **kwargs)\n",
      "TypeError: line_magic() missing 1 required positional argument: 'line'\n",
      "\n",
      "During handling of the above exception, another exception occurred:\n",
      "\n",
      "Traceback (most recent call last):\n",
      "  File \"C:\\Progs\\Anaconda3\\lib\\site-packages\\metakernel-0.12.6-py3.5.egg\\metakernel\\magic.py\", line 83, in call_magic\n",
      "    func(old_args)\n",
      "  File \"C:\\Progs\\Anaconda3\\lib\\site-packages\\metakernel-0.12.6-py3.5.egg\\metakernel\\magics\\magic_magic.py\", line 44, in line_magic\n",
      "    for string in self.kernel.line_magics['help'].help_strings():\n",
      "  File \"C:\\Progs\\Anaconda3\\lib\\site-packages\\metakernel-0.12.6-py3.5.egg\\metakernel\\magics\\help_magic.py\", line 22, in help_strings\n",
      "    for s in suffixes]\n",
      "  File \"C:\\Progs\\Anaconda3\\lib\\site-packages\\metakernel-0.12.6-py3.5.egg\\metakernel\\magics\\help_magic.py\", line 22, in <listcomp>\n",
      "    for s in suffixes]\n",
      "TypeError: string indices must be integers\n",
      "\n",
      "%magic - show installed magics\n",
      "\n",
      "This line magic shows all of the install magics, either from\n",
      "the system magic folder, or your own private magic folder.\n"
     ]
    }
   ],
   "source": [
    "%magic"
   ]
  },
  {
   "cell_type": "code",
   "execution_count": 181,
   "metadata": {
    "collapsed": false
   },
   "outputs": [
    {
     "name": "stdout",
     "output_type": "stream",
     "text": [
      "Available line magics:\n",
      "%activity  %cd  %connect_info  %dot  %download  %edit  %get  %help  %html  %include  %install  %install_magic  %javascript  %jigsaw  %kernel  %kx  %latex  %load  %ls  %lsmagic  %macro  %magic  %parallel  %plot  %pmap  %px  %python  %reload_magics  %restart  %run  %set  %shell\n",
      "\n",
      "Available cell magics:\n",
      "%%activity  %%brain  %%debug  %%dot  %%file  %%help  %%html  %%javascript  %%kx  %%latex  %%macro  %%processing  %%px  %%python  %%shell  %%show  %%time  %%tutor\n"
     ]
    }
   ],
   "source": [
    "%lsmagic"
   ]
  },
  {
   "cell_type": "code",
   "execution_count": 182,
   "metadata": {
    "collapsed": false
   },
   "outputs": [
    {
     "data": {
      "text/html": [
       "./<br>\n",
       "&nbsp;&nbsp;<a href='./2015-Oct-17_Pyconfr_Pau_IPython_vers_Jupyter' target='_blank'>2015-Oct-17_Pyconfr_Pau_IPython_vers_Jupyter</a><br>\n",
       "&nbsp;&nbsp;<a href='./2015-Oct-17_Pyconfr_Pau_IPython_vers_Jupyter.ipynb' target='_blank'>2015-Oct-17_Pyconfr_Pau_IPython_vers_Jupyter.ipynb</a><br>\n",
       "&nbsp;&nbsp;<a href='./clouds.yaml' target='_blank'>clouds.yaml</a><br>\n",
       "&nbsp;&nbsp;<a href='./CSS_Graphics_and_Charts.ipynb' target='_blank'>CSS_Graphics_and_Charts.ipynb</a><br>\n",
       "&nbsp;&nbsp;<a href='./data.csv' target='_blank'>data.csv</a><br>\n",
       "&nbsp;&nbsp;<a href='./date_trend.csv' target='_blank'>date_trend.csv</a><br>\n",
       "&nbsp;&nbsp;<a href='./disk_usage.csv' target='_blank'>disk_usage.csv</a><br>\n",
       "&nbsp;&nbsp;<a href='./Dockerfile' target='_blank'>Dockerfile</a><br>\n",
       "&nbsp;&nbsp;<a href='./example1_graph.png' target='_blank'>example1_graph.png</a><br>\n",
       "&nbsp;&nbsp;<a href='./Example_Coconut.ipynb' target='_blank'>Example_Coconut.ipynb</a><br>\n",
       "&nbsp;&nbsp;<a href='./jupyter.log' target='_blank'>jupyter.log</a><br>\n",
       "&nbsp;&nbsp;<a href='./jupyter.log.bak' target='_blank'>jupyter.log.bak</a><br>\n",
       "&nbsp;&nbsp;<a href='./lightning_test.py' target='_blank'>lightning_test.py</a><br>\n",
       "&nbsp;&nbsp;<a href='./openstack_errorlog.txt' target='_blank'>openstack_errorlog.txt</a><br>\n",
       "&nbsp;&nbsp;<a href='./OpenStack_Monitoring_Py3.ipynb' target='_blank'>OpenStack_Monitoring_Py3.ipynb</a><br>\n",
       "&nbsp;&nbsp;<a href='./pie.html' target='_blank'>pie.html</a><br>\n",
       "&nbsp;&nbsp;<a href='./pop_age.csv' target='_blank'>pop_age.csv</a><br>\n",
       "&nbsp;&nbsp;<a href='./PRESENTATION-JupyterForEverythingElse-2016-07-04_Unreliable.ipynb' target='_blank'>PRESENTATION-JupyterForEverythingElse-2016-07-04_Unreliable.ipynb</a><br>\n",
       "&nbsp;&nbsp;<a href='./PRESENTATION-JupyterForEverythingElse.ipynb' target='_blank'>PRESENTATION-JupyterForEverythingElse.ipynb</a><br>\n",
       "&nbsp;&nbsp;<a href='./Python3_example.ipynb' target='_blank'>Python3_example.ipynb</a><br>\n",
       "&nbsp;&nbsp;<a href='./README.md' target='_blank'>README.md</a><br>\n",
       "&nbsp;&nbsp;<a href='./reveal.js' target='_blank'>reveal.js</a><br>\n",
       "&nbsp;&nbsp;<a href='./test.dot' target='_blank'>test.dot</a><br>\n",
       "&nbsp;&nbsp;<a href='./TEST_Metakernel_bash.ipynb' target='_blank'>TEST_Metakernel_bash.ipynb</a><br>"
      ],
      "text/plain": [
       "./\n",
       "  2015-Oct-17_Pyconfr_Pau_IPython_vers_Jupyter\n",
       "  2015-Oct-17_Pyconfr_Pau_IPython_vers_Jupyter.ipynb\n",
       "  clouds.yaml\n",
       "  CSS_Graphics_and_Charts.ipynb\n",
       "  data.csv\n",
       "  date_trend.csv\n",
       "  disk_usage.csv\n",
       "  Dockerfile\n",
       "  example1_graph.png\n",
       "  Example_Coconut.ipynb\n",
       "  jupyter.log\n",
       "  jupyter.log.bak\n",
       "  lightning_test.py\n",
       "  openstack_errorlog.txt\n",
       "  OpenStack_Monitoring_Py3.ipynb\n",
       "  pie.html\n",
       "  pop_age.csv\n",
       "  PRESENTATION-JupyterForEverythingElse-2016-07-04_Unreliable.ipynb\n",
       "  PRESENTATION-JupyterForEverythingElse.ipynb\n",
       "  Python3_example.ipynb\n",
       "  README.md\n",
       "  reveal.js\n",
       "  test.dot\n",
       "  TEST_Metakernel_bash.ipynb"
      ]
     },
     "execution_count": 182,
     "metadata": {},
     "output_type": "execute_result"
    }
   ],
   "source": [
    "%ls"
   ]
  },
  {
   "cell_type": "code",
   "execution_count": 183,
   "metadata": {
    "collapsed": false
   },
   "outputs": [
    {
     "data": {
      "text/html": [
       "<?xml version=\"1.0\" encoding=\"UTF-8\" standalone=\"no\"?>\r\n",
       "<!DOCTYPE svg PUBLIC \"-//W3C//DTD SVG 1.1//EN\"\r\n",
       " \"http://www.w3.org/Graphics/SVG/1.1/DTD/svg11.dtd\">\r\n",
       "<!-- Generated by graphviz version 2.38.0 (20140413.2041)\r\n",
       " -->\r\n",
       "<!-- Title: A Pages: 1 -->\r\n",
       "<svg width=\"62pt\" height=\"116pt\"\r\n",
       " viewBox=\"0.00 0.00 62.00 116.00\" xmlns=\"http://www.w3.org/2000/svg\" xmlns:xlink=\"http://www.w3.org/1999/xlink\">\r\n",
       "<g id=\"graph0\" class=\"graph\" transform=\"scale(1 1) rotate(0) translate(4 112)\">\r\n",
       "<title>A</title>\r\n",
       "<polygon fill=\"white\" stroke=\"none\" points=\"-4,4 -4,-112 58,-112 58,4 -4,4\"/>\r\n",
       "<!-- a -->\r\n",
       "<g id=\"node1\" class=\"node\"><title>a</title>\r\n",
       "<ellipse fill=\"none\" stroke=\"black\" cx=\"27\" cy=\"-90\" rx=\"27\" ry=\"18\"/>\r\n",
       "<text text-anchor=\"middle\" x=\"27\" y=\"-86.3\" font-family=\"Times New Roman,serif\" font-size=\"14.00\">a</text>\r\n",
       "</g>\r\n",
       "<!-- b -->\r\n",
       "<g id=\"node2\" class=\"node\"><title>b</title>\r\n",
       "<ellipse fill=\"none\" stroke=\"black\" cx=\"27\" cy=\"-18\" rx=\"27\" ry=\"18\"/>\r\n",
       "<text text-anchor=\"middle\" x=\"27\" y=\"-14.3\" font-family=\"Times New Roman,serif\" font-size=\"14.00\">b</text>\r\n",
       "</g>\r\n",
       "<!-- a&#45;&#45;b -->\r\n",
       "<g id=\"edge1\" class=\"edge\"><title>a&#45;&#45;b</title>\r\n",
       "<path fill=\"none\" stroke=\"black\" d=\"M27,-71.6966C27,-60.8463 27,-46.9167 27,-36.1043\"/>\r\n",
       "</g>\r\n",
       "</g>\r\n",
       "</svg>\r\n"
      ],
      "text/plain": [
       "<IPython.core.display.HTML object>"
      ]
     },
     "metadata": {},
     "output_type": "display_data"
    }
   ],
   "source": [
    "%%dot\n",
    "# NOTE: Installed GraphViz for Windows from .msi (http://www.graphviz.org/Download_windows.php)\n",
    "# NOTE: Modified metakernel/magics/dot_magic.py to use\n",
    "#        import pydotplus as pydot\n",
    "graph A { a->b };"
   ]
  },
  {
   "cell_type": "code",
   "execution_count": 184,
   "metadata": {
    "collapsed": false
   },
   "outputs": [
    {
     "data": {
      "text/html": [
       "<?xml version=\"1.0\" encoding=\"UTF-8\" standalone=\"no\"?>\r\n",
       "<!DOCTYPE svg PUBLIC \"-//W3C//DTD SVG 1.1//EN\"\r\n",
       " \"http://www.w3.org/Graphics/SVG/1.1/DTD/svg11.dtd\">\r\n",
       "<!-- Generated by graphviz version 2.38.0 (20140413.2041)\r\n",
       " -->\r\n",
       "<!-- Title: A Pages: 1 -->\r\n",
       "<svg width=\"62pt\" height=\"116pt\"\r\n",
       " viewBox=\"0.00 0.00 62.00 116.00\" xmlns=\"http://www.w3.org/2000/svg\" xmlns:xlink=\"http://www.w3.org/1999/xlink\">\r\n",
       "<g id=\"graph0\" class=\"graph\" transform=\"scale(1 1) rotate(0) translate(4 112)\">\r\n",
       "<title>A</title>\r\n",
       "<polygon fill=\"white\" stroke=\"none\" points=\"-4,4 -4,-112 58,-112 58,4 -4,4\"/>\r\n",
       "<!-- a -->\r\n",
       "<g id=\"node1\" class=\"node\"><title>a</title>\r\n",
       "<ellipse fill=\"none\" stroke=\"black\" cx=\"27\" cy=\"-90\" rx=\"27\" ry=\"18\"/>\r\n",
       "<text text-anchor=\"middle\" x=\"27\" y=\"-86.3\" font-family=\"Times New Roman,serif\" font-size=\"14.00\">a</text>\r\n",
       "</g>\r\n",
       "<!-- b -->\r\n",
       "<g id=\"node2\" class=\"node\"><title>b</title>\r\n",
       "<ellipse fill=\"none\" stroke=\"black\" cx=\"27\" cy=\"-18\" rx=\"27\" ry=\"18\"/>\r\n",
       "<text text-anchor=\"middle\" x=\"27\" y=\"-14.3\" font-family=\"Times New Roman,serif\" font-size=\"14.00\">b</text>\r\n",
       "</g>\r\n",
       "<!-- a&#45;&#45;b -->\r\n",
       "<g id=\"edge1\" class=\"edge\"><title>a&#45;&#45;b</title>\r\n",
       "<path fill=\"none\" stroke=\"black\" d=\"M27,-71.6966C27,-60.8463 27,-46.9167 27,-36.1043\"/>\r\n",
       "</g>\r\n",
       "</g>\r\n",
       "</svg>\r\n"
      ],
      "text/plain": [
       "<IPython.core.display.HTML object>"
      ]
     },
     "metadata": {},
     "output_type": "display_data"
    }
   ],
   "source": [
    "%dot graph A { a->b };"
   ]
  },
  {
   "cell_type": "code",
   "execution_count": 185,
   "metadata": {
    "collapsed": false
   },
   "outputs": [],
   "source": [
    "%%python\n",
    "\n",
    "import pydotplus as pydot\n",
    "\n",
    "pydot.graph_from_dot_data(\"graph A { a->b }\")"
   ]
  },
  {
   "cell_type": "code",
   "execution_count": 186,
   "metadata": {
    "collapsed": false
   },
   "outputs": [],
   "source": [
    "%%python\n",
    "\n",
    "# -*- coding: utf-8 -*-\n",
    "\"\"\"\n",
    "pydot example 1\n",
    "@author: Federico Cáceres\n",
    "@url: http://pythonhaven.wordpress.com/2009/12/09/generating_graphs_with_pydot\n",
    "\"\"\"\n",
    "import pydotplus as pydot # import pydot or you're not going to get anywhere my friend :D\n",
    "\n",
    "# first you create a new graph, you do that with pydot.Dot()\n",
    "graph = pydot.Dot(graph_type='graph')\n",
    "\n",
    "# the idea here is not to cover how to represent the hierarchical data\n",
    "# but rather how to graph it, so I'm not going to work on some fancy\n",
    "# recursive function to traverse a multidimensional array...\n",
    "# I'm going to hardcode stuff... sorry if that offends you\n",
    "\n",
    "# let's add the relationship between the king and vassals\n",
    "for i in range(3):\n",
    "    # we can get right into action by \"drawing\" edges between the nodes in our graph\n",
    "    # we do not need to CREATE nodes, but if you want to give them some custom style\n",
    "    # then I would recomend you to do so... let's cover that later\n",
    "    # the pydot.Edge() constructor receives two parameters, a source node and a destination\n",
    "    # node, they are just strings like you can see\n",
    "    edge = pydot.Edge(\"king\", \"lord%d\" % i)\n",
    "    # and we obviosuly need to add the edge to our graph\n",
    "    graph.add_edge(edge)\n",
    "\n",
    "# now let us add some vassals\n",
    "vassal_num = 0\n",
    "for i in range(3):\n",
    "    # we create new edges, now between our previous lords and the new vassals\n",
    "    # let us create two vassals for each lord\n",
    "    for j in range(2):\n",
    "        edge = pydot.Edge(\"lord%d\" % i, \"vassal%d\" % vassal_num)\n",
    "        graph.add_edge(edge)\n",
    "        vassal_num += 1\n",
    "\n",
    "# ok, we are set, let's save our graph into a file\n",
    "graph.write_png('example1_graph.png')\n",
    "\n",
    "# and we are done!"
   ]
  },
  {
   "cell_type": "code",
   "execution_count": null,
   "metadata": {
    "collapsed": true
   },
   "outputs": [],
   "source": []
  }
 ],
 "metadata": {
  "celltoolbar": "Slideshow",
  "kernelspec": {
   "display_name": "MetaKernel Bash",
   "language": "bash",
   "name": "metakernel_bash"
  },
  "language_info": {
   "file_extension": ".sh",
   "help_links": [
    {
     "text": "MetaKernel Magics",
     "url": "https://github.com/calysto/metakernel/blob/master/metakernel/magics/README.md"
    }
   ],
   "mimetype": "text/x-bash",
   "name": "bash"
  },
  "widgets": {
   "state": {},
   "version": "1.1.2"
  }
 },
 "nbformat": 4,
 "nbformat_minor": 0
}
