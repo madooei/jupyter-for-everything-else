{
 "cells": [
  {
   "cell_type": "markdown",
   "metadata": {},
   "source": [
    "# TODO\n",
    "- Try \"display\" or D3.js like functionality for results of bash commands, e.g. du -s\n",
    "  - direct in cells, or via %%javascript, %%python magics\n",
    "- Try interactive widgets\n",
    "- Extend metakernel_bash with display, d3, interactive widgets, HTML table rendering"
   ]
  },
  {
   "cell_type": "code",
   "execution_count": 1,
   "metadata": {
    "collapsed": false,
    "slideshow": {
     "slide_type": "slide"
    }
   },
   "outputs": [
    {
     "name": "stdout",
     "output_type": "stream",
     "text": [
      "\n",
      "Metakernel_bash.ipynb\n",
      "Metakernel_echo.ipynb\n",
      "PRESENTATION - Jupyter for Everything Else.ipynb\n",
      "README.md\n",
      "Untitled.ipynb\n",
      "Untitled1.ipynb\n"
     ]
    },
    {
     "data": {
      "text/plain": [
       "Metakernel_bash.ipynb\n",
       "Metakernel_echo.ipynb\n",
       "PRESENTATION - Jupyter for Everything Else.ipynb\n",
       "README.md\n",
       "Untitled.ipynb\n",
       "Untitled1.ipynb"
      ]
     },
     "execution_count": 1,
     "metadata": {},
     "output_type": "execute_result"
    }
   ],
   "source": [
    "ls"
   ]
  },
  {
   "cell_type": "code",
   "execution_count": 2,
   "metadata": {
    "collapsed": false,
    "slideshow": {
     "slide_type": "subslide"
    }
   },
   "outputs": [
    {
     "name": "stdout",
     "output_type": "stream",
     "text": [
      "\n",
      "total 247\n",
      "-rwxr-xr-x  1 mjbright Domain Users   6563 May  6 19:58 Metakernel_echo.ipynb\n",
      "drwxr-xr-x+ 1 mjbright Domain Users      0 May  6 20:43 ..\n",
      "-rw-r--r--  1 mjbright Domain Users    103 May  6 20:43 README.md\n",
      "-rwxr-xr-x  1 mjbright Domain Users   1133 May  6 20:50 PRESENTATION - Jupyter for Everything Else.ipynb\n",
      "drwxr-xr-x+ 1 mjbright Domain Users      0 May  6 20:52 .git\n",
      "-rwxr-xr-x  1 mjbright Domain Users    318 May  6 21:01 Untitled.ipynb\n",
      "drwxr-xr-x+ 1 mjbright Domain Users      0 May  6 21:03 .ipynb_checkpoints\n",
      "-rwxr-xr-x  1 mjbright Domain Users    305 May  6 21:05 Untitled1.ipynb\n",
      "-rwxr-xr-x  1 mjbright Domain Users 205990 May  6 22:32 Metakernel_bash.ipynb\n",
      "drwxr-xr-x+ 1 mjbright Domain Users      0 May  6 22:32 .\n"
     ]
    },
    {
     "data": {
      "text/plain": [
       "total 247\n",
       "-rwxr-xr-x  1 mjbright Domain Users   6563 May  6 19:58 Metakernel_echo.ipynb\n",
       "drwxr-xr-x+ 1 mjbright Domain Users      0 May  6 20:43 ..\n",
       "-rw-r--r--  1 mjbright Domain Users    103 May  6 20:43 README.md\n",
       "-rwxr-xr-x  1 mjbright Domain Users   1133 May  6 20:50 PRESENTATION - Jupyter for Everything Else.ipynb\n",
       "drwxr-xr-x+ 1 mjbright Domain Users      0 May  6 20:52 .git\n",
       "-rwxr-xr-x  1 mjbright Domain Users    318 May  6 21:01 Untitled.ipynb\n",
       "drwxr-xr-x+ 1 mjbright Domain Users      0 May  6 21:03 .ipynb_checkpoints\n",
       "-rwxr-xr-x  1 mjbright Domain Users    305 May  6 21:05 Untitled1.ipynb\n",
       "-rwxr-xr-x  1 mjbright Domain Users 205990 May  6 22:32 Metakernel_bash.ipynb\n",
       "drwxr-xr-x+ 1 mjbright Domain Users      0 May  6 22:32 ."
      ]
     },
     "execution_count": 2,
     "metadata": {},
     "output_type": "execute_result"
    }
   ],
   "source": [
    "ls -altr"
   ]
  },
  {
   "cell_type": "code",
   "execution_count": 3,
   "metadata": {
    "collapsed": false,
    "slideshow": {
     "slide_type": "subslide"
    }
   },
   "outputs": [
    {
     "name": "stdout",
     "output_type": "stream",
     "text": [
      "zZuKDSl5\n",
      "-rw-------  1 mjbright Domain Users 14604-16b9tq1\n",
      "-rwxr-xr-x  1 mjbright Domain Users    80 May  5 10:05 vagrant20160505-9404-16b9tq12\n",
      "-rwxr-xr-x  1 mjbright Domain Users  1972 May  5 10:05 vagrant20160505-9404-16b9tq12.lock\n",
      "drwxr-xr-x+ 1 mjbright Domain Users     0 May  5 10:06 d20160505-14996-9t03q1\n",
      "-rwxr-xr-x  1 mjbright Domain Users     0 May  5 10:06 vagrant20160505-14996-1gcybmp\n",
      "-rwxr-xr-x  1 mjbright Domain Users     0 May  5 10:06 vagrant20160505-14996-1f659ll\n",
      "-rwxr-xr-x  1 mjbright Domain Users    80 May  5 10:06 vagrant20160505-14996-1gcybmp2\n",
      "-rwxr-xr-x  1 mjbright Domain Users  1972 May  5 10:06 vagrant20160505-14996-1gcybmp2.lock\n",
      "drwxr-xr-x+ 1 mjbright Domain Users     0 May  5 10:07 d20160505-11856-67ia28\n",
      "-rwxr-xr-x  1 mjbright Domain Users     0 May  5 10:07 vagrant20160505-11856-1sgozqn\n",
      "-rwxr-xr-x  1 mjbright Domain Users    80 May  5 10:07 vagrant20160505-11856-18v248f2\n",
      "-rwxr-xr-x  1 mjbright Domain Users     0 May  5 10:07 vagrant20160505-11856-18v248f\n",
      "-rwxr-xr-x  1 mjbright Domain Users  1972 May  5 10:07 vagrant20160505-11856-18v248f2.lock\n",
      "drwxr-xr-x+ 1 mjbright Domain Users     0 May  5 20:40 d20160505-7884-1oumyui\n",
      "-rwxr-xr-x  1 mjbright Domain Users     0 May  5 20:40 vagrant20160505-7884-lyqd39\n",
      "-rwxr-xr-x  1 mjbright Domain Users     0 May  5 20:40 vagrant20160505-7884-1ukim1o\n",
      "-rwxr-xr-x  1 mjbright Domain Users    80 May  5 20:40 vagrant20160505-7884-1ukim1o2\n",
      "-rwxr-xr-x  1 mjbright Domain Users  1972 May  5 20:40 vagrant20160505-7884-1ukim1o2.lock\n",
      "-rw-r--r--  1 mjbright Domain Users   133 May  6 16:24 matched1.txt\n",
      "-rw-r--r--  1 mjbright Domain Users  2058 May  6 16:24 matched.txt\n",
      "drwxr-xr-x+ 1 mjbright Domain Users     0 May  6 19:28 gen_py\n",
      "-rw-------  1 mjbright Domain Users    91 May  6 21:55 metakernel_bash_kernel.EBjk4EoGtT\n",
      "-rw-------  1 mjbright Domain Users 14699 May  6 22:04 metakernel_bash_kernel.oDui4F1Jay\n",
      "-rw-------  1 mjbright Domain Users 14699 May  6 22:05 metakernel_bash_kernel.iu3k8nzp2N\n",
      "-rw-------  1 mjbright Domain Users 14699 May  6 22:06 metakernel_bash_kernel.zI99 May  6 22:07 metakernel_bash_kernel.IbbImuQYlh\n",
      "-rw-------  1 mjbright Domain Users 14699 May  6 22:11 metakernel_bash_kernel.ProQk9mGc2\n",
      "-rw-------  1 mjbright Domain Users 14699 May  6 22:14 metakernel_bash_kernel.PCS54cTKTS\n",
      "-rw-------  1 mjbright Domain Users 14699 May  6 22:30 metakernel_bash_kernel.gqsQeLSYAd\n",
      "drwxrwxrwt+ 1 mjbright Domain Users     0 May  6 22:34 .\n"
     ]
    },
    {
     "data": {
      "text/plain": [
       "zZuKDSl5\n",
       "-rw-------  1 mjbright Domain Users 14604-16b9tq1\n",
       "-rwxr-xr-x  1 mjbright Domain Users    80 May  5 10:05 vagrant20160505-9404-16b9tq12\n",
       "-rwxr-xr-x  1 mjbright Domain Users  1972 May  5 10:05 vagrant20160505-9404-16b9tq12.lock\n",
       "drwxr-xr-x+ 1 mjbright Domain Users     0 May  5 10:06 d20160505-14996-9t03q1\n",
       "-rwxr-xr-x  1 mjbright Domain Users     0 May  5 10:06 vagrant20160505-14996-1gcybmp\n",
       "-rwxr-xr-x  1 mjbright Domain Users     0 May  5 10:06 vagrant20160505-14996-1f659ll\n",
       "-rwxr-xr-x  1 mjbright Domain Users    80 May  5 10:06 vagrant20160505-14996-1gcybmp2\n",
       "-rwxr-xr-x  1 mjbright Domain Users  1972 May  5 10:06 vagrant20160505-14996-1gcybmp2.lock\n",
       "drwxr-xr-x+ 1 mjbright Domain Users     0 May  5 10:07 d20160505-11856-67ia28\n",
       "-rwxr-xr-x  1 mjbright Domain Users     0 May  5 10:07 vagrant20160505-11856-1sgozqn\n",
       "-rwxr-xr-x  1 mjbright Domain Users    80 May  5 10:07 vagrant20160505-11856-18v248f2\n",
       "-rwxr-xr-x  1 mjbright Domain Users     0 May  5 10:07 vagrant20160505-11856-18v248f\n",
       "-rwxr-xr-x  1 mjbright Domain Users  1972 May  5 10:07 vagrant20160505-11856-18v248f2.lock\n",
       "drwxr-xr-x+ 1 mjbright Domain Users     0 May  5 20:40 d20160505-7884-1oumyui\n",
       "-rwxr-xr-x  1 mjbright Domain Users     0 May  5 20:40 vagrant20160505-7884-lyqd39\n",
       "-rwxr-xr-x  1 mjbright Domain Users     0 May  5 20:40 vagrant20160505-7884-1ukim1o\n",
       "-rwxr-xr-x  1 mjbright Domain Users    80 May  5 20:40 vagrant20160505-7884-1ukim1o2\n",
       "-rwxr-xr-x  1 mjbright Domain Users  1972 May  5 20:40 vagrant20160505-7884-1ukim1o2.lock\n",
       "-rw-r--r--  1 mjbright Domain Users   133 May  6 16:24 matched1.txt\n",
       "-rw-r--r--  1 mjbright Domain Users  2058 May  6 16:24 matched.txt\n",
       "drwxr-xr-x+ 1 mjbright Domain Users     0 May  6 19:28 gen_py\n",
       "-rw-------  1 mjbright Domain Users    91 May  6 21:55 metakernel_bash_kernel.EBjk4EoGtT\n",
       "-rw-------  1 mjbright Domain Users 14699 May  6 22:04 metakernel_bash_kernel.oDui4F1Jay\n",
       "-rw-------  1 mjbright Domain Users 14699 May  6 22:05 metakernel_bash_kernel.iu3k8nzp2N\n",
       "-rw-------  1 mjbright Domain Users 14699 May  6 22:06 metakernel_bash_kernel.zI99 May  6 22:07 metakernel_bash_kernel.IbbImuQYlh\n",
       "-rw-------  1 mjbright Domain Users 14699 May  6 22:11 metakernel_bash_kernel.ProQk9mGc2\n",
       "-rw-------  1 mjbright Domain Users 14699 May  6 22:14 metakernel_bash_kernel.PCS54cTKTS\n",
       "-rw-------  1 mjbright Domain Users 14699 May  6 22:30 metakernel_bash_kernel.gqsQeLSYAd\n",
       "drwxrwxrwt+ 1 mjbright Domain Users     0 May  6 22:34 ."
      ]
     },
     "execution_count": 3,
     "metadata": {},
     "output_type": "execute_result"
    }
   ],
   "source": [
    "cd /tmp\n",
    "ls -altr"
   ]
  },
  {
   "cell_type": "code",
   "execution_count": 4,
   "metadata": {
    "collapsed": false,
    "slideshow": {
     "slide_type": "subslide"
    }
   },
   "outputs": [
    {
     "name": "stdout",
     "output_type": "stream",
     "text": [
      "\n",
      "/tmp\n",
      "Fri, May 06, 2016 10:35:31 PM\n"
     ]
    },
    {
     "data": {
      "text/plain": [
       "/tmp\n",
       "Fri, May 06, 2016 10:35:31 PM"
      ]
     },
     "execution_count": 4,
     "metadata": {},
     "output_type": "execute_result"
    }
   ],
   "source": [
    "pwd; cd / ; date"
   ]
  },
  {
   "cell_type": "code",
   "execution_count": 1,
   "metadata": {
    "collapsed": false
   },
   "outputs": [
    {
     "data": {
      "text/plain": [
       "Filesystem       Size  Used Avail Use% Mounted on\n",
       "C:/tools/cygwin  465G  103G  363G  22% /"
      ]
     },
     "execution_count": 1,
     "metadata": {},
     "output_type": "execute_result"
    }
   ],
   "source": [
    "df -h"
   ]
  },
  {
   "cell_type": "code",
   "execution_count": 2,
   "metadata": {
    "collapsed": false
   },
   "outputs": [
    {
     "data": {
      "image/png": "[encoded data removed]"
     },
     "metadata": {},
     "output_type": "display_data"
    },
    {
     "data": {},
     "execution_count": 2,
     "metadata": {},
     "output_type": "execute_result"
    }
   ],
   "source": [
    "cat /cygdrive/c/HP/drivers/touchpad/img_clicking.png | display"
   ]
  },
  {
   "cell_type": "code",
   "execution_count": 3,
   "metadata": {
    "collapsed": false
   },
   "outputs": [
    {
     "data": {
      "image/png": "[encoded data removed]"
     },
     "metadata": {},
     "output_type": "display_data"
    },
    {
     "data": {},
     "execution_count": 3,
     "metadata": {},
     "output_type": "execute_result"
    }
   ],
   "source": [
    "curl -s 'http://mjbright.github.io/images/Mike_4_Chili_Constitucion.smaller.png' | display"
   ]
  },
  {
   "cell_type": "code",
   "execution_count": null,
   "metadata": {
    "collapsed": false,
    "slideshow": {
     "slide_type": "subslide"
    }
   },
   "outputs": [],
   "source": [
    "typeset +f"
   ]
  },
  {
   "cell_type": "code",
   "execution_count": 8,
   "metadata": {
    "collapsed": false,
    "slideshow": {
     "slide_type": "slide"
    }
   },
   "outputs": [
    {
     "name": "stdout",
     "output_type": "stream",
     "text": [
      "Line magics:\n",
      "    %activity FILENAME - run a widget-based activity\n",
      "    %cd PATH - change current directory of session\n",
      "    %connect_info - show connection information\n",
      "    %dot CODE - render code as Graphviz image\n",
      "    %download URL [-f FILENAME] - download file from URL\n",
      "    %edit FILENAME - load code from filename into next cell for editing\n",
      "    %get VARIABLE - get a variable from the kernel in a Python-type.\n",
      "    %help TEXT - get help on the given text\n",
      "    %html CODE - display code as HTML\n",
      "    %include FILENAME ... - include code from filename into this code\n",
      "    %install PACKAGE - install package\n",
      "    %install_magic URL - download and install magic from URL\n",
      "    %javascript CODE - send code as JavaScript\n",
      "    %jigsaw LANGUAGE - show visual code editor/generator\n",
      "    %kernel MODULE CLASS [-k NAME] - construct a kernel for sending code.\n",
      "    %kx CODE [-k NAME] - send the code to the kernel.\n",
      "    %latex TEXT - display text as LaTeX\n",
      "    %load FILENAME - load code from filename into next cell\n",
      "    %ls PATH - list files and directories under PATH\n",
      "    %lsmagic - list the current line and cell magics\n",
      "    %macro NAME - execute a macro\n",
      "    %magic - show installed magics\n",
      "    %parallel MODULE CLASS [-k NAME] [-i [...]] - construct an interface to the cluster.\n",
      "    %plot [options] backend - configure plotting for the session.\n",
      "    %pmap FUNCTION [ARGS1,ARGS2,...] - (\"parallel map\") call a FUNCTION on args\n",
      "    %px EXPRESSION - send EXPRESSION to the cluster.\n",
      "    %python CODE - evaluate code as Python\n",
      "    %reload_magics - reload the magics from the installed files\n",
      "    %restart - restart session\n",
      "    %run [--language LANG] FILENAME - run code in filename by\n",
      "    %set VARIABLE VALUE - set a variable in the kernel.\n",
      "    %shell COMMAND - run the line as a shell command\n",
      "\n",
      "Cell magics:\n",
      "     %%shell - run the contents of the cell as shell commands\n",
      "    %%activity FILENAME - make an activity from\n",
      "    %%brain - run a cell as brain control code\n",
      "    %%debug - step through the code expression by expression\n",
      "    %%dot - render contents of cell as Graphviz image\n",
      "    %%file [--append|-a] FILENAME - write contents of cell to file\n",
      "    %%help TEXT - get detailed help on the given text\n",
      "    %%html - display contents of cell as HTML\n",
      "    %%javascript - send contents of cell as JavaScript\n",
      "    %%kx [-k NAME] - send the cell code to the kernel.\n",
      "    %%latex - display contents of cell as LaTeX\n",
      "    %%macro NAME - learn a new macro\n",
      "    %%processing - run the cell in the language Processing\n",
      "    %%px - send cell to the cluster.\n",
      "    %%python - evaluate contents of cell as Python\n",
      "    %%show [-o]- show cell contents or results in system pager\n",
      "    %%time - show time to run cell\n",
      "    %%tutor [--language=LANGUAGE] - show cell with\n",
      "\n",
      "Shell shortcut:\n",
      "    ! COMMAND ... - execute command in shell\n",
      "\n",
      "Any cell magic can be made persistent for rest of session by using %%% prefix.\n",
      "\n",
      "Help on items:\n"
     ]
    },
    {
     "name": "stderr",
     "output_type": "stream",
     "text": [
      "Error in calling magic 'magic' on line:\n",
      "    string indices must be integers\n",
      "    args: []\n",
      "    kwargs: {}\n",
      "Traceback (most recent call last):\n",
      "  File \"C:\\Progs\\Anaconda3\\lib\\site-packages\\metakernel-0.12.6-py3.5.egg\\metakernel\\magic.py\", line 81, in call_magic\n",
      "    func(*args, **kwargs)\n",
      "TypeError: line_magic() missing 1 required positional argument: 'line'\n",
      "\n",
      "During handling of the above exception, another exception occurred:\n",
      "\n",
      "Traceback (most recent call last):\n",
      "  File \"C:\\Progs\\Anaconda3\\lib\\site-packages\\metakernel-0.12.6-py3.5.egg\\metakernel\\magic.py\", line 83, in call_magic\n",
      "    func(old_args)\n",
      "  File \"C:\\Progs\\Anaconda3\\lib\\site-packages\\metakernel-0.12.6-py3.5.egg\\metakernel\\magics\\magic_magic.py\", line 44, in line_magic\n",
      "    for string in self.kernel.line_magics['help'].help_strings():\n",
      "  File \"C:\\Progs\\Anaconda3\\lib\\site-packages\\metakernel-0.12.6-py3.5.egg\\metakernel\\magics\\help_magic.py\", line 22, in help_strings\n",
      "    for s in suffixes]\n",
      "  File \"C:\\Progs\\Anaconda3\\lib\\site-packages\\metakernel-0.12.6-py3.5.egg\\metakernel\\magics\\help_magic.py\", line 22, in <listcomp>\n",
      "    for s in suffixes]\n",
      "TypeError: string indices must be integers\n",
      "\n",
      "%magic - show installed magics\n",
      "\n",
      "This line magic shows all of the install magics, either from\n",
      "the system magic folder, or your own private magic folder.\n"
     ]
    }
   ],
   "source": [
    "%magic"
   ]
  },
  {
   "cell_type": "code",
   "execution_count": null,
   "metadata": {
    "collapsed": false,
    "slideshow": {
     "slide_type": "slide"
    }
   },
   "outputs": [],
   "source": [
    "%%python\n",
    "\n",
    "print(\"Hello World\")"
   ]
  },
  {
   "cell_type": "code",
   "execution_count": 2,
   "metadata": {
    "collapsed": false,
    "slideshow": {
     "slide_type": "slide"
    }
   },
   "outputs": [
    {
     "data": {
      "text/html": [
       "<h1> Some hypertext </h1>"
      ],
      "text/plain": [
       "<IPython.core.display.HTML object>"
      ]
     },
     "metadata": {},
     "output_type": "display_data"
    }
   ],
   "source": [
    "%%html\n",
    "<h1> Some hypertext </h1>"
   ]
  },
  {
   "cell_type": "code",
   "execution_count": 3,
   "metadata": {
    "collapsed": false
   },
   "outputs": [
    {
     "name": "stdout",
     "output_type": "stream",
     "text": [
      "C:/tools/cygwin\n"
     ]
    }
   ],
   "source": [
    "%%python\n",
    "\n",
    "import os, re\n",
    "\n",
    "def getCygwinPath():\n",
    "    ''' Search in available drives for a cygwin installation '''\n",
    "    \n",
    "    # Find available drives in form \"C:\\\"\n",
    "    drives = re.findall(r\"[A-Z]+:.*$\", os.popen(\"mountvol /\").read(),re.MULTILINE)\n",
    "\n",
    "    # For each drive look for C:\\cygwin, C:\\cygwin64, C:\\*\\cygwin, C:\\*\\cygwin64\n",
    "    for drive in drives:\n",
    "        drive_root = drive[:2] + '/'\n",
    "        \n",
    "        dirs = [ '' ]\n",
    "        dirs.extend( os.listdir( drive_root ) )\n",
    "        for path in dirs:\n",
    "            path = drive_root + path\n",
    "            for cygwin in ['cygwin', 'cygwin64']:\n",
    "                if os.path.exists( path + '/' + cygwin):\n",
    "                    return(path + '/' + cygwin)\n",
    "    return None\n",
    "\n",
    "cygwinPath = getCygwinPath()\n",
    "if cygwinPath: print(cygwinPath)"
   ]
  },
  {
   "cell_type": "code",
   "execution_count": 9,
   "metadata": {
    "collapsed": false
   },
   "outputs": [],
   "source": [
    "%%python\n",
    "\n",
    "import IPython\n",
    "\n",
    "def displayMysqlTableTextAsHTML(text):\n",
    "    header=False\n",
    "    colNames=[]\n",
    "    values=[]\n",
    "    for line in text.split('\\n'):\n",
    "        line = line.strip()\n",
    "        row=[]\n",
    "        if len(line) != 0 and line[0] != '+' and line[0] == '|':\n",
    "            if not header:\n",
    "                header=True\n",
    "                colNames = [ colName.strip() for colName in (line.strip())[1:-1].split('|')]\n",
    "            else:\n",
    "                row = [ value.strip() for value in (line.strip())[1:-1].split('|')]\n",
    "                values.append(row)\n",
    "\n",
    "            #print(\"line=\" + line)\n",
    "\n",
    "    #print(\"colNames=\" + str(colNames))\n",
    "    #print(\"values=\" + str(values))\n",
    "\n",
    "    #html = ''\n",
    "    #html_table = '<table>' + table + '</table'\n",
    "    '''\n",
    "    <table>\n",
    "    <tr>\n",
    "    <th>Header 1</th>\n",
    "    <th>Header 2</th>\n",
    "    </tr>\n",
    "    <tr>\n",
    "    <td>row 1, cell 1</td>\n",
    "    <td>row 1, cell 2</td>\n",
    "    </tr>\n",
    "    <tr>\n",
    "    <td>row 2, cell 1</td>\n",
    "    <td>row 2, cell 2</td>\n",
    "    </tr>\n",
    "    </table>'''\n",
    "\n",
    "    #print('\\n'.join([\"1\",\"2\"]))\n",
    "    table = '<table>' + \\\n",
    "        '<tr>' + '\\n'.join( [ '<th>'+colName+'</th>' for colName in colNames ] ) + '\\n</tr>\\n' + \\\n",
    "        '\\n'.join([ '<tr>'+ \\\n",
    "            #str(row) + \\\n",
    "                   '\\n    '.join( [ '<td>'+value+'</td>' for value in row ] ) +\n",
    "          '\\n</tr>' for row in values ]) +\\\n",
    "        '</table>'\n",
    "\n",
    "    #print(table)\n",
    "    \n",
    "    IPython.display.HTML(table)\n",
    "\n",
    "text='''\n",
    "+-------+-------+-------+-----+\n",
    "  |  col1 | col2  |  col3 |col4 |  \n",
    "+-------+-------+-------+-----+\n",
    "|  val1 | val2  |  val3 |val4 |\n",
    "|  valu1|value2 |value3|val4|\n",
    "+-------+-------+-------+-----+\n",
    "'''\n",
    "displayMysqlTableTextAsHTML(text)"
   ]
  },
  {
   "cell_type": "code",
   "execution_count": 20,
   "metadata": {
    "collapsed": false
   },
   "outputs": [],
   "source": [
    "%%python\n",
    "\n",
    "s = \"\"\"<table>\n",
    "<tr>\n",
    "<th>Header 1</th>\n",
    "<th>Header 2</th>\n",
    "</tr>\n",
    "<tr>\n",
    "<td>row 1, cell 1</td>\n",
    "<td>row 1, cell 2</td>\n",
    "</tr>\n",
    "<tr>\n",
    "<td>row 2, cell 1</td>\n",
    "<td>row 2, cell 2</td>\n",
    "</tr>\n",
    "</table>\"\"\"\n",
    "\n",
    "#h = IPython.display.HTML(s); h\n",
    "h = IPython.display.HTML(s);\n",
    "#IPython.display(h)\n"
   ]
  },
  {
   "cell_type": "code",
   "execution_count": 26,
   "metadata": {
    "collapsed": false
   },
   "outputs": [
    {
     "name": "stdout",
     "output_type": "stream",
     "text": [
      "<IPython.core.display.HTML object>\n"
     ]
    }
   ],
   "source": [
    "%%python\n",
    "\n",
    "from IPython.core.display import display, HTML\n",
    "display(HTML('<h1>Hello, world!</h1>'))\n",
    "IPython.display.HTML(\"<b>bold</b>\")"
   ]
  },
  {
   "cell_type": "code",
   "execution_count": 27,
   "metadata": {
    "collapsed": true
   },
   "outputs": [],
   "source": [
    "%%python\n",
    "\n",
    "import IPython\n",
    "#from IPython.core.display import display, HTML\n",
    "IPython.display.HTML(\"<b>bold</b>\")"
   ]
  },
  {
   "cell_type": "code",
   "execution_count": 28,
   "metadata": {
    "collapsed": true
   },
   "outputs": [],
   "source": [
    "%python import IPython; IPython.display.HTML(\"<b>bold</b>\")"
   ]
  },
  {
   "cell_type": "code",
   "execution_count": 32,
   "metadata": {
    "collapsed": false
   },
   "outputs": [
    {
     "name": "stdout",
     "output_type": "stream",
     "text": [
      "Hi from Python\n",
      "Hi from Python\n",
      "Hi from Python\n"
     ]
    }
   ],
   "source": [
    "%python print(\"Hi from Python\")"
   ]
  },
  {
   "cell_type": "code",
   "execution_count": 10,
   "metadata": {
    "collapsed": true
   },
   "outputs": [],
   "source": [
    "%set A 1\n",
    "%get A\n",
    "echo $A\n",
    "set\n",
    "pwd\n",
    "echo $PWD"
   ]
  },
  {
   "cell_type": "code",
   "execution_count": 11,
   "metadata": {
    "collapsed": false
   },
   "outputs": [
    {
     "data": {
      "text/plain": [
       "/home/mjbright/src/git/GIT_mjbright/jupyter-for-everything-else"
      ]
     },
     "execution_count": 11,
     "metadata": {},
     "output_type": "execute_result"
    }
   ],
   "source": [
    "pwd"
   ]
  },
  {
   "cell_type": "code",
   "execution_count": 12,
   "metadata": {
    "collapsed": true
   },
   "outputs": [],
   "source": [
    "%help"
   ]
  },
  {
   "cell_type": "code",
   "execution_count": 95,
   "metadata": {
    "collapsed": false
   },
   "outputs": [
    {
     "data": {
      "text/html": [
       "\n",
       "<style type=\"text/css\">\n",
       "      .breakpoints {width: 1.5em;}\n",
       "      .styled-background { background-color: #ff7; }\n",
       "</style>\n",
       "\n",
       "<div class=\"animation\" align=\"left\" width=\"400\">\n",
       "  <button onclick=\"step()\">Step</button>\n",
       "  <button onclick=\"play()\">Play</button>\n",
       "  <button onclick=\"pause()\">Pause</button>\n",
       "  <button onclick=\"stop()\">Stop</button>\n",
       "  <button onclick=\"clear_breakpoints()\">Clear Breakpoints</button>\n",
       "  <button onclick=\"reset()\">Reset</button><br/>\n",
       "  Speed: <input type=\"range\" id=\"speed\" min=\"1\" max=\"100\"/>\n",
       "  Inspect: <input type=\"text\" id=\"inspect\" onkeydown=\"if (event.keyCode == 13) inspector()\"/>\n",
       "  <table width=\"100%\">\n",
       "  <tr>\n",
       "    <td width=\"50%\" style=\"vertical-align: top\"><div id=\"result_stream\"/></td>\n",
       "    <td width=\"50%\" style=\"vertical-align: top\"><div id=\"result_output\"/></td>\n",
       "  </tr>\n",
       "  </table>\n",
       "</div>\n",
       "\n",
       "<script>\n",
       "\n",
       "function inspector() {\n",
       "    var v = document.getElementById(\"inspect\").value;\n",
       "    document.getElementById(\"inspect\").value = \"\";\n",
       "    var msg_id = kernel.execute(\"~~META~~: inspect \" + v,\n",
       "                                callbacks,\n",
       "                                {silent: false});\n",
       "}\n",
       "\n",
       "function clear_breakpoints() {\n",
       "    for (var n = 0 ; n < cell.code_mirror.doc.size; n++) {\n",
       "        cell.code_mirror.setGutterMarker(n, \"breakpoints\", null);\n",
       "    }\n",
       "}\n",
       "\n",
       "function makeMarker() {\n",
       "    var marker = document.createElement(\"div\");\n",
       "    marker.style.color = \"#822\";\n",
       "    marker.innerHTML = \"●\";\n",
       "    return marker;\n",
       "}\n",
       "\n",
       "function breakpoint_q(line) {\n",
       "    var info = cell.code_mirror.lineInfo(line - 1);\n",
       "    return (info && info.gutterMarkers != null);\n",
       "}\n",
       "\n",
       "var cell = IPython.notebook.get_selected_cell();\n",
       "if (cell) {\n",
       "    // The following can be replaced once get_prev_cell is fixed\n",
       "    // see https://github.com/ipython/ipython/pull/6565\n",
       "    var index = IPython.notebook.find_cell_index(cell);\n",
       "    cell = IPython.notebook.get_cell(index - 1);\n",
       "    cell.code_mirror.setOption(\"lineNumbers\", true);\n",
       "    if (cell.code_mirror.getOption(\"gutters\").length < 2) {\n",
       "        cell.code_mirror.setOption(\"gutters\", [\"CodeMirror-linenumbers\", \"breakpoints\"]);\n",
       "        cell.code_mirror.refresh();\n",
       "        cell.code_mirror.on(\"gutterClick\", function(cm, n) {\n",
       "          var info = cm.lineInfo(n);\n",
       "          cm.setGutterMarker(n, \"breakpoints\", info.gutterMarkers ? null : makeMarker());\n",
       "        });\n",
       "    }\n",
       "}\n",
       "\n",
       "var mt;\n",
       "var i;\n",
       "\n",
       "function highlight(cell, data) {\n",
       "    if (cell) {\n",
       "        var line1 = data[0];\n",
       "        var col1 = data[1];\n",
       "        var line2 = data[2];\n",
       "        var col2 = data[3];\n",
       "        if (mt) {\n",
       "            mt.clear();\n",
       "        }\n",
       "        mt = cell.code_mirror.markText({line: line1 - 1, ch: col1 - 1},\n",
       "                                       {line: line2 - 1, ch: col2 },\n",
       "                                       {className: \"styled-background\"});\n",
       "    }\n",
       "}\n",
       "\n",
       "var running = false;  // is it running?\n",
       "var timer = null;\n",
       "var kernel = IPython.notebook.kernel;\n",
       "\n",
       "function handle_output(out){\n",
       "    var res = null;\n",
       "    var data = null;\n",
       "    if (out.msg_type == \"stream\") {\n",
       "        res = out.content.text;\n",
       "        document.getElementById(\"result_stream\").innerText = res.toString() + document.getElementById(\"result_stream\").innerText;\n",
       "    } else if (out.msg_type === \"pyout\") {\n",
       "        // if output is a python object\n",
       "        res = out.content.data[\"text/plain\"];\n",
       "        document.getElementById(\"result_stream\").innerText = res.toString() + document.getElementById(\"result_stream\").innerText;\n",
       "    } else if (out.msg_type == \"pyerr\") {\n",
       "        // if output is a python error\n",
       "        res = out.content.data[\"text/plain\"];\n",
       "        document.getElementById(\"result_stream\").innerText = res.toString() + document.getElementById(\"result_stream\").innerText;\n",
       "    } else if (out.msg_type == \"execute_result\") {\n",
       "        var str = out.content.data[\"text/plain\"];\n",
       "        if (str.indexOf(\"\\\"highlight: \") >= 0) { // is a highlight response:\n",
       "            data = JSON.parse(str.substring(12, str.length - 1));\n",
       "            var speed = Number(document.getElementById(\"speed\").value);\n",
       "            if (data) {\n",
       "                var breakp = breakpoint_q(data[0]);\n",
       "                if (speed < 100 || !running || breakp) { // max_speed\n",
       "                    highlight(cell, data);\n",
       "                }\n",
       "            }\n",
       "            if (running) {\n",
       "                if (data && breakpoint_q(data[0])) {\n",
       "                    pause();\n",
       "                } else {\n",
       "                    timer = setTimeout(step, 2000/speed);\n",
       "                }\n",
       "            }\n",
       "        } else { // display result\n",
       "            res = str;\n",
       "            if (res.indexOf(\"u\") == 0)\n",
       "                res = res.substring(2, res.length - 1) + \"\\n\";\n",
       "            if (res) {\n",
       "                document.getElementById(\"result_output\").innerText = res.toString() + document.getElementById(\"result_output\").innerText;\n",
       "            }\n",
       "        }\n",
       "    } else {\n",
       "        // if output is something we haven't thought of\n",
       "        res = out.toString();\n",
       "        document.getElementById(\"result_stream\").innerText = res.toString() + document.getElementById(\"result_stream\").innerText;\n",
       "    }\n",
       "}\n",
       "\n",
       "var callbacks = { 'iopub' : {'output' : handle_output}};\n",
       "\n",
       "function pause() {\n",
       "    running = false;\n",
       "    document.getElementById(\"result_output\").innerText = \"Pause\\n\" + document.getElementById(\"result_output\").innerText;\n",
       "    if (timer) {\n",
       "        clearInterval(timer);\n",
       "        timer = null;\n",
       "    }\n",
       "}\n",
       "\n",
       "function play() {\n",
       "    pause();\n",
       "    running = true;\n",
       "    step();\n",
       "}\n",
       "\n",
       "function step() {\n",
       "    var msg_id = kernel.execute(\"~~META~~: step\",\n",
       "                                callbacks,\n",
       "                                {silent: false});\n",
       "}\n",
       "\n",
       "function stop() {\n",
       "    pause();\n",
       "    if (mt) {\n",
       "        mt.clear();\n",
       "    }\n",
       "    var msg_id = kernel.execute(\"~~META~~: stop\",\n",
       "                                callbacks,\n",
       "                                {silent: false});\n",
       "}\n",
       "\n",
       "function reset() {\n",
       "    stop();\n",
       "    document.getElementById(\"result_output\").innerText = \"\";\n",
       "    document.getElementById(\"result_stream\").innerText = \"\";\n",
       "    var msg_id = kernel.execute(\"~~META~~: reset\",\n",
       "                                callbacks,\n",
       "                                {silent: false});\n",
       "}\n",
       "\n",
       "</script>\n"
      ],
      "text/plain": [
       "<IPython.core.display.HTML object>"
      ]
     },
     "metadata": {},
     "output_type": "display_data"
    }
   ],
   "source": [
    "%%debug\n",
    "echo \"HERE OK\"\n",
    "A=1\n",
    "B=2\n",
    "echo $A"
   ]
  },
  {
   "cell_type": "code",
   "execution_count": 1,
   "metadata": {
    "collapsed": false
   },
   "outputs": [
    {
     "data": {
      "text/plain": [
       "Hello World\n",
       "hi"
      ]
     },
     "execution_count": 1,
     "metadata": {},
     "output_type": "execute_result"
    }
   ],
   "source": [
    "A=\"Hello World\"\n",
    "echo $A\n",
    "echo hi\n",
    "export A"
   ]
  },
  {
   "cell_type": "code",
   "execution_count": 2,
   "metadata": {
    "collapsed": false
   },
   "outputs": [
    {
     "name": "stdout",
     "output_type": "stream",
     "text": [
      "None\n"
     ]
    }
   ],
   "source": [
    "%%python\n",
    "\n",
    "import os\n",
    "\n",
    "print(os.getenv(\"A\"))"
   ]
  },
  {
   "cell_type": "code",
   "execution_count": 6,
   "metadata": {
    "collapsed": false
   },
   "outputs": [
    {
     "data": {
      "text/html": [
       "<b>Be bold, ok!<b>"
      ],
      "text/plain": [
       "<IPython.core.display.HTML object>"
      ]
     },
     "metadata": {},
     "output_type": "display_data"
    }
   ],
   "source": [
    "%html <b>Be bold, ok!<b>"
   ]
  },
  {
   "cell_type": "code",
   "execution_count": null,
   "metadata": {
    "collapsed": true
   },
   "outputs": [],
   "source": [
    "%get A\n",
    "\n",
    "print(A)"
   ]
  },
  {
   "cell_type": "code",
   "execution_count": null,
   "metadata": {
    "collapsed": true
   },
   "outputs": [],
   "source": [
    "%help help"
   ]
  },
  {
   "cell_type": "code",
   "execution_count": 10,
   "metadata": {
    "collapsed": false
   },
   "outputs": [
    {
     "data": {
      "text/html": [
       "<?xml version=\"1.0\" encoding=\"UTF-8\" standalone=\"no\"?>\r\n",
       "<!DOCTYPE svg PUBLIC \"-//W3C//DTD SVG 1.1//EN\"\r\n",
       " \"http://www.w3.org/Graphics/SVG/1.1/DTD/svg11.dtd\">\r\n",
       "<!-- Generated by graphviz version 2.38.0 (20140413.2041)\r\n",
       " -->\r\n",
       "<!-- Title: A Pages: 1 -->\r\n",
       "<svg width=\"62pt\" height=\"116pt\"\r\n",
       " viewBox=\"0.00 0.00 62.00 116.00\" xmlns=\"http://www.w3.org/2000/svg\" xmlns:xlink=\"http://www.w3.org/1999/xlink\">\r\n",
       "<g id=\"graph0\" class=\"graph\" transform=\"scale(1 1) rotate(0) translate(4 112)\">\r\n",
       "<title>A</title>\r\n",
       "<polygon fill=\"white\" stroke=\"none\" points=\"-4,4 -4,-112 58,-112 58,4 -4,4\"/>\r\n",
       "<!-- a -->\r\n",
       "<g id=\"node1\" class=\"node\"><title>a</title>\r\n",
       "<ellipse fill=\"none\" stroke=\"black\" cx=\"27\" cy=\"-90\" rx=\"27\" ry=\"18\"/>\r\n",
       "<text text-anchor=\"middle\" x=\"27\" y=\"-86.3\" font-family=\"Times New Roman,serif\" font-size=\"14.00\">a</text>\r\n",
       "</g>\r\n",
       "<!-- b -->\r\n",
       "<g id=\"node2\" class=\"node\"><title>b</title>\r\n",
       "<ellipse fill=\"none\" stroke=\"black\" cx=\"27\" cy=\"-18\" rx=\"27\" ry=\"18\"/>\r\n",
       "<text text-anchor=\"middle\" x=\"27\" y=\"-14.3\" font-family=\"Times New Roman,serif\" font-size=\"14.00\">b</text>\r\n",
       "</g>\r\n",
       "<!-- a&#45;&#45;b -->\r\n",
       "<g id=\"edge1\" class=\"edge\"><title>a&#45;&#45;b</title>\r\n",
       "<path fill=\"none\" stroke=\"black\" d=\"M27,-71.6966C27,-60.8463 27,-46.9167 27,-36.1043\"/>\r\n",
       "</g>\r\n",
       "</g>\r\n",
       "</svg>\r\n"
      ],
      "text/plain": [
       "<IPython.core.display.HTML object>"
      ]
     },
     "metadata": {},
     "output_type": "display_data"
    }
   ],
   "source": [
    "%dot graph A { a->b };"
   ]
  },
  {
   "cell_type": "code",
   "execution_count": 15,
   "metadata": {
    "collapsed": false
   },
   "outputs": [],
   "source": [
    "%%python\n",
    "\n",
    "import pydotplus as pydot\n",
    "\n"
   ]
  },
  {
   "cell_type": "code",
   "execution_count": 5,
   "metadata": {
    "collapsed": false
   },
   "outputs": [
    {
     "name": "stdout",
     "output_type": "stream",
     "text": [
      "nt\n"
     ]
    }
   ],
   "source": [
    "%%python\n",
    "\n",
    "import os\n",
    "print(os.name)"
   ]
  },
  {
   "cell_type": "code",
   "execution_count": 17,
   "metadata": {
    "collapsed": false
   },
   "outputs": [
    {
     "name": "stdout",
     "output_type": "stream",
     "text": [
      "Created file 'C:\\tools\\cygwin\\home\\mjbright\\src\\git\\GIT_mjbright\\jupyter-for-everything-else\\test.dot'.\n"
     ]
    }
   ],
   "source": [
    "%%file test.dot\n",
    "echo WHATS GOING ON\n",
    "%%dot\n",
    "graph A { a->b };"
   ]
  },
  {
   "cell_type": "code",
   "execution_count": 18,
   "metadata": {
    "collapsed": false
   },
   "outputs": [],
   "source": [
    "%run test.dot"
   ]
  },
  {
   "cell_type": "code",
   "execution_count": 7,
   "metadata": {
    "collapsed": false
   },
   "outputs": [
    {
     "data": {
      "text/html": [
       "<?xml version=\"1.0\" encoding=\"UTF-8\" standalone=\"no\"?>\r\n",
       "<!DOCTYPE svg PUBLIC \"-//W3C//DTD SVG 1.1//EN\"\r\n",
       " \"http://www.w3.org/Graphics/SVG/1.1/DTD/svg11.dtd\">\r\n",
       "<!-- Generated by graphviz version 2.38.0 (20140413.2041)\r\n",
       " -->\r\n",
       "<!-- Title: A Pages: 1 -->\r\n",
       "<svg width=\"89pt\" height=\"260pt\"\r\n",
       " viewBox=\"0.00 0.00 89.00 260.00\" xmlns=\"http://www.w3.org/2000/svg\" xmlns:xlink=\"http://www.w3.org/1999/xlink\">\r\n",
       "<g id=\"graph0\" class=\"graph\" transform=\"scale(1 1) rotate(0) translate(4 256)\">\r\n",
       "<title>A</title>\r\n",
       "<polygon fill=\"white\" stroke=\"none\" points=\"-4,4 -4,-256 85,-256 85,4 -4,4\"/>\r\n",
       "<!-- a -->\r\n",
       "<g id=\"node1\" class=\"node\"><title>a</title>\r\n",
       "<ellipse fill=\"none\" stroke=\"black\" cx=\"54\" cy=\"-234\" rx=\"27\" ry=\"18\"/>\r\n",
       "<text text-anchor=\"middle\" x=\"54\" y=\"-230.3\" font-family=\"Times New Roman,serif\" font-size=\"14.00\">a</text>\r\n",
       "</g>\r\n",
       "<!-- b -->\r\n",
       "<g id=\"node2\" class=\"node\"><title>b</title>\r\n",
       "<ellipse fill=\"none\" stroke=\"black\" cx=\"54\" cy=\"-162\" rx=\"27\" ry=\"18\"/>\r\n",
       "<text text-anchor=\"middle\" x=\"54\" y=\"-158.3\" font-family=\"Times New Roman,serif\" font-size=\"14.00\">b</text>\r\n",
       "</g>\r\n",
       "<!-- a&#45;&#45;b -->\r\n",
       "<g id=\"edge1\" class=\"edge\"><title>a&#45;&#45;b</title>\r\n",
       "<path fill=\"none\" stroke=\"black\" d=\"M54,-215.697C54,-204.846 54,-190.917 54,-180.104\"/>\r\n",
       "</g>\r\n",
       "<!-- c -->\r\n",
       "<g id=\"node3\" class=\"node\"><title>c</title>\r\n",
       "<ellipse fill=\"none\" stroke=\"black\" cx=\"27\" cy=\"-90\" rx=\"27\" ry=\"18\"/>\r\n",
       "<text text-anchor=\"middle\" x=\"27\" y=\"-86.3\" font-family=\"Times New Roman,serif\" font-size=\"14.00\">c</text>\r\n",
       "</g>\r\n",
       "<!-- b&#45;&#45;c -->\r\n",
       "<g id=\"edge2\" class=\"edge\"><title>b&#45;&#45;c</title>\r\n",
       "<path fill=\"none\" stroke=\"black\" d=\"M47.6014,-144.411C43.3597,-133.414 37.8106,-119.027 33.5403,-107.956\"/>\r\n",
       "</g>\r\n",
       "<!-- d -->\r\n",
       "<g id=\"node4\" class=\"node\"><title>d</title>\r\n",
       "<ellipse fill=\"none\" stroke=\"black\" cx=\"54\" cy=\"-18\" rx=\"27\" ry=\"18\"/>\r\n",
       "<text text-anchor=\"middle\" x=\"54\" y=\"-14.3\" font-family=\"Times New Roman,serif\" font-size=\"14.00\">d</text>\r\n",
       "</g>\r\n",
       "<!-- b&#45;&#45;d -->\r\n",
       "<g id=\"edge4\" class=\"edge\"><title>b&#45;&#45;d</title>\r\n",
       "<path fill=\"none\" stroke=\"black\" d=\"M57.6538,-143.908C59.6758,-133.569 61.9808,-120.09 63,-108 64.3441,-92.0566 64.3441,-87.9434 63,-72 61.9808,-59.9098 59.6758,-46.4315 57.6538,-36.0925\"/>\r\n",
       "</g>\r\n",
       "<!-- c&#45;&#45;d -->\r\n",
       "<g id=\"edge3\" class=\"edge\"><title>c&#45;&#45;d</title>\r\n",
       "<path fill=\"none\" stroke=\"black\" d=\"M33.3986,-72.411C37.6403,-61.4141 43.1894,-47.0274 47.4597,-35.9562\"/>\r\n",
       "</g>\r\n",
       "</g>\r\n",
       "</svg>\r\n"
      ],
      "text/plain": [
       "<IPython.core.display.HTML object>"
      ]
     },
     "metadata": {},
     "output_type": "display_data"
    }
   ],
   "source": [
    "%dot graph A { a->b->c->d; b->d };"
   ]
  },
  {
   "cell_type": "code",
   "execution_count": 5,
   "metadata": {
    "collapsed": false
   },
   "outputs": [
    {
     "data": {
      "text/html": [
       "<?xml version=\"1.0\" encoding=\"UTF-8\" standalone=\"no\"?>\r\n",
       "<!DOCTYPE svg PUBLIC \"-//W3C//DTD SVG 1.1//EN\"\r\n",
       " \"http://www.w3.org/Graphics/SVG/1.1/DTD/svg11.dtd\">\r\n",
       "<!-- Generated by graphviz version 2.38.0 (20140413.2041)\r\n",
       " -->\r\n",
       "<!-- Title: A Pages: 1 -->\r\n",
       "<svg width=\"62pt\" height=\"188pt\"\r\n",
       " viewBox=\"0.00 0.00 62.00 188.00\" xmlns=\"http://www.w3.org/2000/svg\" xmlns:xlink=\"http://www.w3.org/1999/xlink\">\r\n",
       "<g id=\"graph0\" class=\"graph\" transform=\"scale(1 1) rotate(0) translate(4 184)\">\r\n",
       "<title>A</title>\r\n",
       "<polygon fill=\"white\" stroke=\"none\" points=\"-4,4 -4,-184 58,-184 58,4 -4,4\"/>\r\n",
       "<!-- a -->\r\n",
       "<g id=\"node1\" class=\"node\"><title>a</title>\r\n",
       "<ellipse fill=\"none\" stroke=\"black\" cx=\"27\" cy=\"-162\" rx=\"27\" ry=\"18\"/>\r\n",
       "<text text-anchor=\"middle\" x=\"27\" y=\"-158.3\" font-family=\"Times New Roman,serif\" font-size=\"14.00\">a</text>\r\n",
       "</g>\r\n",
       "<!-- b -->\r\n",
       "<g id=\"node2\" class=\"node\"><title>b</title>\r\n",
       "<ellipse fill=\"none\" stroke=\"black\" cx=\"27\" cy=\"-90\" rx=\"27\" ry=\"18\"/>\r\n",
       "<text text-anchor=\"middle\" x=\"27\" y=\"-86.3\" font-family=\"Times New Roman,serif\" font-size=\"14.00\">b</text>\r\n",
       "</g>\r\n",
       "<!-- a&#45;&#45;b -->\r\n",
       "<g id=\"edge1\" class=\"edge\"><title>a&#45;&#45;b</title>\r\n",
       "<path fill=\"none\" stroke=\"black\" d=\"M27,-143.697C27,-132.846 27,-118.917 27,-108.104\"/>\r\n",
       "</g>\r\n",
       "<!-- c -->\r\n",
       "<g id=\"node3\" class=\"node\"><title>c</title>\r\n",
       "<ellipse fill=\"none\" stroke=\"black\" cx=\"27\" cy=\"-18\" rx=\"27\" ry=\"18\"/>\r\n",
       "<text text-anchor=\"middle\" x=\"27\" y=\"-14.3\" font-family=\"Times New Roman,serif\" font-size=\"14.00\">c</text>\r\n",
       "</g>\r\n",
       "<!-- b&#45;&#45;c -->\r\n",
       "<g id=\"edge2\" class=\"edge\"><title>b&#45;&#45;c</title>\r\n",
       "<path fill=\"none\" stroke=\"black\" d=\"M27,-71.6966C27,-60.8463 27,-46.9167 27,-36.1043\"/>\r\n",
       "</g>\r\n",
       "</g>\r\n",
       "</svg>\r\n"
      ],
      "text/plain": [
       "<IPython.core.display.HTML object>"
      ]
     },
     "metadata": {},
     "output_type": "display_data"
    }
   ],
   "source": [
    "%%dot\n",
    "graph A { a->b->c };"
   ]
  },
  {
   "cell_type": "code",
   "execution_count": 4,
   "metadata": {
    "collapsed": false
   },
   "outputs": [
    {
     "data": {
      "text/plain": [
       "Hello"
      ]
     },
     "execution_count": 4,
     "metadata": {},
     "output_type": "execute_result"
    }
   ],
   "source": [
    "echo \"Hello\""
   ]
  },
  {
   "cell_type": "code",
   "execution_count": 3,
   "metadata": {
    "collapsed": true
   },
   "outputs": [],
   "source": [
    "%%python -e\n",
    "\"echo hello world from bash\""
   ]
  },
  {
   "cell_type": "code",
   "execution_count": null,
   "metadata": {
    "collapsed": true
   },
   "outputs": [],
   "source": [
    "%%python -e\n",
    "retval = \"'(echo this is code in the kernel language)\""
   ]
  },
  {
   "cell_type": "code",
   "execution_count": null,
   "metadata": {
    "collapsed": true
   },
   "outputs": [],
   "source": [
    "%%python -e\n",
    "\"'(echo this is code in the kernel language)\""
   ]
  },
  {
   "cell_type": "code",
   "execution_count": null,
   "metadata": {
    "collapsed": true
   },
   "outputs": [],
   "source": [
    "%%python -e\n",
    "\"date\""
   ]
  },
  {
   "cell_type": "code",
   "execution_count": 9,
   "metadata": {
    "collapsed": false
   },
   "outputs": [],
   "source": [
    "%%python -e\n",
    "\"'(date)\""
   ]
  },
  {
   "cell_type": "code",
   "execution_count": 2,
   "metadata": {
    "collapsed": false
   },
   "outputs": [],
   "source": [
    "%%python -e\n",
    "\"'echo this is code in the kernel language\""
   ]
  },
  {
   "cell_type": "code",
   "execution_count": null,
   "metadata": {
    "collapsed": true
   },
   "outputs": [],
   "source": [
    "%%show --output\n",
    "retval = 54 * 54"
   ]
  },
  {
   "cell_type": "code",
   "execution_count": 14,
   "metadata": {
    "collapsed": false
   },
   "outputs": [
    {
     "name": "stdout",
     "output_type": "stream",
     "text": [
      "Time: 0.21399998664855957 seconds.\n",
      "\n"
     ]
    },
    {
     "data": {
      "text/plain": [
       "total 303\n",
       "drwxr-xr-x+ 1 mjbright Domain Users      0 May  7 06:20 .\n",
       "drwxr-xr-x+ 1 mjbright Domain Users      0 May  6 20:43 ..\n",
       "drwxr-xr-x+ 1 mjbright Domain Users      0 May  6 20:52 .git\n",
       "drwxr-xr-x+ 1 mjbright Domain Users      0 May  7 05:08 .ipynb_checkpoints\n",
       "-rwxr-xr-x  1 mjbright Domain Users 259218 May  7 06:20 Metakernel_bash.ipynb\n",
       "-rwxr-xr-x  1 mjbright Domain Users   6563 May  6 19:58 Metakernel_echo.ipynb\n",
       "-rwxr-xr-x  1 mjbright Domain Users   1133 May  6 20:50 PRESENTATION - Jupyter for Everything Else.ipynb\n",
       "-rwxr-xr-x  1 mjbright Domain Users   4021 May  7 05:10 Python3_render_html_table_from_MySQLTableText.ipynb\n",
       "-rw-r--r--  1 mjbright Domain Users    103 May  6 20:43 README.md\n",
       "-rwxr-xr-x  1 mjbright Domain Users    318 May  6 21:01 Untitled.ipynb\n",
       "-rwxr-xr-x  1 mjbright Domain Users    305 May  6 21:05 Untitled1.ipynb"
      ]
     },
     "execution_count": 14,
     "metadata": {},
     "output_type": "execute_result"
    }
   ],
   "source": [
    "%%time\n",
    "ls -al"
   ]
  },
  {
   "cell_type": "code",
   "execution_count": 50,
   "metadata": {
    "collapsed": false
   },
   "outputs": [
    {
     "data": {
      "text/html": [
       "<u>This is underlined!</u>"
      ],
      "text/plain": [
       "<IPython.core.display.HTML object>"
      ]
     },
     "metadata": {},
     "output_type": "display_data"
    }
   ],
   "source": [
    "%html <u>This is underlined!</u>"
   ]
  },
  {
   "cell_type": "code",
   "execution_count": null,
   "metadata": {
    "collapsed": true
   },
   "outputs": [],
   "source": [
    "%javascript console.log(\"Print in the browser console\")\n",
    "%javascript alert(\"Show this popup!\")"
   ]
  },
  {
   "cell_type": "code",
   "execution_count": null,
   "metadata": {
    "collapsed": true
   },
   "outputs": [],
   "source": [
    "#%kernel bash_kernel BashKernel -k bash\n",
    "%kernel bash_kernel MetaKernel_Bash -k bash\n",
    "#%kx echo hello\n",
    "%kernel ls -al\n",
    "%kx ls -al"
   ]
  },
  {
   "cell_type": "code",
   "execution_count": 29,
   "metadata": {
    "collapsed": false
   },
   "outputs": [
    {
     "name": "stderr",
     "output_type": "stream",
     "text": [
      "Error in calling magic 'kx' on line:\n",
      "    'bash ls -al'\n",
      "    args: ['-k', 'bash ls -al']\n",
      "    kwargs: {}\n",
      "Traceback (most recent call last):\n",
      "  File \"C:\\Progs\\Anaconda3\\lib\\site-packages\\metakernel-0.12.6-py3.5.egg\\metakernel\\magic.py\", line 81, in call_magic\n",
      "    func(*args, **kwargs)\n",
      "  File \"C:\\Progs\\Anaconda3\\lib\\site-packages\\metakernel-0.12.6-py3.5.egg\\metakernel\\magics\\kernel_magic.py\", line 89, in line_kx\n",
      "    self.retval = self.kernels[kernel_name].do_execute_direct(code)\n",
      "KeyError: 'bash ls -al'\n",
      "\n",
      "%kx CODE [-k NAME] - send the code to the kernel.\n",
      "\n",
      "This line magic will send the CODE to the kernel\n",
      "for execution.\n",
      "\n",
      "Returns the result of the execution as output.\n",
      "\n",
      "Example:\n",
      "\n",
      "    %kernel ls -al\n",
      "\n",
      "Use `%kernel MODULE CLASS [-k NAME]` to create a kernel.\n",
      "\n",
      "Options:\n",
      "-------\n",
      "-k --kernel_name kernel name given to use for execution [default: None]\n"
     ]
    }
   ],
   "source": [
    "%kx -k bash ls -al"
   ]
  },
  {
   "cell_type": "code",
   "execution_count": 19,
   "metadata": {
    "collapsed": false
   },
   "outputs": [
    {
     "data": {
      "text/plain": [
       "total 312\n",
       "drwxr-xr-x+ 1 mjbright Domain Users      0 May  7 08:06 .\n",
       "drwxr-xr-x+ 1 mjbright Domain Users      0 May  6 20:43 ..\n",
       "drwxr-xr-x+ 1 mjbright Domain Users      0 May  6 20:52 .git\n",
       "drwxr-xr-x+ 1 mjbright Domain Users      0 May  7 05:08 .ipynb_checkpoints\n",
       "-rw-r--r--  1 mjbright Domain Users      0 May  7 08:07 b\n",
       "-rwxr-xr-x  1 mjbright Domain Users      0 May  7 06:51 example1_graph.png\n",
       "-rwxr-xr-x  1 mjbright Domain Users 272661 May  7 08:03 Metakernel_bash.ipynb\n",
       "-rwxr-xr-x  1 mjbright Domain Users   6563 May  6 19:58 Metakernel_echo.ipynb\n",
       "-rwxr-xr-x  1 mjbright Domain Users   1133 May  6 20:50 PRESENTATION - Jupyter for Everything Else.ipynb\n",
       "-rwxr-xr-x  1 mjbright Domain Users   4021 May  7 05:10 Python3_render_html_table_from_MySQLTableText.ipynb\n",
       "-rw-r--r--  1 mjbright Domain Users    103 May  6 20:43 README.md\n",
       "-rwxr-xr-x  1 mjbright Domain Users     45 May  7 08:07 test.dot\n",
       "-rwxr-xr-x  1 mjbright Domain Users    318 May  6 21:01 Untitled.ipynb\n",
       "-rwxr-xr-x  1 mjbright Domain Users    305 May  6 21:05 Untitled1.ipynb\n",
       "HELLO\n",
       "/usr/bin/bash: line 35: fg: no job control"
      ]
     },
     "execution_count": 19,
     "metadata": {},
     "output_type": "execute_result"
    }
   ],
   "source": [
    "ls -al\n",
    "echo HELLO\n",
    "%load README.md"
   ]
  },
  {
   "cell_type": "code",
   "execution_count": 8,
   "metadata": {
    "collapsed": false
   },
   "outputs": [
    {
     "name": "stdout",
     "output_type": "stream",
     "text": [
      "Available macros:\n",
      "\n"
     ]
    }
   ],
   "source": [
    "%macro -l all"
   ]
  },
  {
   "cell_type": "code",
   "execution_count": 23,
   "metadata": {
    "collapsed": true
   },
   "outputs": [],
   "source": [
    "%%macro my_test_macro\n",
    "#print \"Ok!\"\n",
    "#ls -al\n",
    "echo \"This is a test macro!\""
   ]
  },
  {
   "cell_type": "code",
   "execution_count": 24,
   "metadata": {
    "collapsed": false
   },
   "outputs": [
    {
     "data": {
      "text/plain": [
       "This is a test macro!"
      ]
     },
     "execution_count": 24,
     "metadata": {},
     "output_type": "execute_result"
    }
   ],
   "source": [
    "%macro my_test_macro"
   ]
  },
  {
   "cell_type": "code",
   "execution_count": null,
   "metadata": {
    "collapsed": true
   },
   "outputs": [],
   "source": [
    "%macro -l learned"
   ]
  },
  {
   "cell_type": "code",
   "execution_count": null,
   "metadata": {
    "collapsed": true
   },
   "outputs": [],
   "source": [
    "%macro -s my_test_macro"
   ]
  },
  {
   "cell_type": "code",
   "execution_count": 33,
   "metadata": {
    "collapsed": false
   },
   "outputs": [
    {
     "data": {},
     "execution_count": 33,
     "metadata": {},
     "output_type": "execute_result"
    }
   ],
   "source": [
    "myfunc() { echo \"My function with arg[$1]!\"; }"
   ]
  },
  {
   "cell_type": "code",
   "execution_count": 35,
   "metadata": {
    "collapsed": false
   },
   "outputs": [
    {
     "data": {
      "text/plain": [
       "My function with arg[test_arg]!"
      ]
     },
     "execution_count": 35,
     "metadata": {},
     "output_type": "execute_result"
    }
   ],
   "source": [
    "myfunc test_arg"
   ]
  },
  {
   "cell_type": "code",
   "execution_count": 36,
   "metadata": {
    "collapsed": false
   },
   "outputs": [
    {
     "name": "stderr",
     "output_type": "stream",
     "text": [
      "Error in calling magic 'parallel' on line:\n",
      "    No module named 'parallel'\n",
      "    args: ['bash_kernel', 'BashKernel']\n",
      "    kwargs: {'kernel_name': 'default', 'ids': '[0,2:5,9,...]'}\n",
      "Traceback (most recent call last):\n",
      "  File \"C:\\Progs\\Anaconda3\\lib\\site-packages\\metakernel-0.12.6-py3.5.egg\\metakernel\\magics\\parallel_magic.py\", line 52, in line_parallel\n",
      "    from ipyparallel import Client\n",
      "ImportError: No module named 'ipyparallel'\n",
      "\n",
      "During handling of the above exception, another exception occurred:\n",
      "\n",
      "Traceback (most recent call last):\n",
      "  File \"C:\\Progs\\Anaconda3\\lib\\site-packages\\metakernel-0.12.6-py3.5.egg\\metakernel\\magic.py\", line 81, in call_magic\n",
      "    func(*args, **kwargs)\n",
      "  File \"C:\\Progs\\Anaconda3\\lib\\site-packages\\metakernel-0.12.6-py3.5.egg\\metakernel\\magics\\parallel_magic.py\", line 54, in line_parallel\n",
      "    from IPython.parallel import Client\n",
      "ImportError: No module named 'parallel'\n",
      "\n",
      "%parallel MODULE CLASS [-k NAME] [-i [...]] - construct an interface to the cluster.\n",
      "\n",
      "Example:\n",
      "\n",
      "    %parallel bash_kernel BashKernel\n",
      "    %parallel bash_kernel BashKernel -k bash\n",
      "    %parallel bash_kernel BashKernel --i [0,2:5,9,...]\n",
      "\n",
      "cluster_size and cluster_rank variables are set upon\n",
      "initialization of the remote node (if the kernel\n",
      "supports %set).\n",
      "\n",
      "Use %px or %%px to send code to the cluster.\n",
      "\n",
      "Options:\n",
      "-------\n",
      "-i --ids       the machine ids to use from the cluster [default: None]\n",
      "-k --kernel_name arbitrary name given to reference kernel [default: default]\n"
     ]
    }
   ],
   "source": [
    "%parallel bash_kernel BashKernel --i [0,2:5,9,...]"
   ]
  },
  {
   "cell_type": "code",
   "execution_count": null,
   "metadata": {
    "collapsed": true
   },
   "outputs": [],
   "source": [
    "%plot qt --format=png\n",
    "%plot inline -s 640,480"
   ]
  },
  {
   "cell_type": "code",
   "execution_count": 39,
   "metadata": {
    "collapsed": false
   },
   "outputs": [
    {
     "name": "stderr",
     "output_type": "stream",
     "text": [
      "Error in calling magic 'pmap' on line:\n",
      "    No module named 'IPython.parallel.util'\n",
      "    args: ['function-name-in-language', range(0, 10)]\n",
      "    kwargs: {}\n",
      "Traceback (most recent call last):\n",
      "  File \"C:\\Progs\\Anaconda3\\lib\\site-packages\\metakernel-0.12.6-py3.5.egg\\metakernel\\magics\\parallel_magic.py\", line 274, in line_pmap\n",
      "    from ipyparallel.util import interactive\n",
      "ImportError: No module named 'ipyparallel'\n",
      "\n",
      "During handling of the above exception, another exception occurred:\n",
      "\n",
      "Traceback (most recent call last):\n",
      "  File \"C:\\Progs\\Anaconda3\\lib\\site-packages\\metakernel-0.12.6-py3.5.egg\\metakernel\\magic.py\", line 81, in call_magic\n",
      "    func(*args, **kwargs)\n",
      "  File \"C:\\Progs\\Anaconda3\\lib\\site-packages\\metakernel-0.12.6-py3.5.egg\\metakernel\\magics\\parallel_magic.py\", line 276, in line_pmap\n",
      "    from IPython.parallel.util import interactive\n",
      "ImportError: No module named 'IPython.parallel.util'\n",
      "\n",
      "%pmap FUNCTION [ARGS1,ARGS2,...] - (\"parallel map\") call a FUNCTION on args\n",
      "\n",
      "This line magic will apply a function name to all of the\n",
      "arguments given one at a time using a dynamic load balancing scheduler.\n",
      "\n",
      "Currently, the args are provided as a Python expression (with no spaces).\n",
      "\n",
      "You must first setup a cluster using the %parallel magic.\n",
      "\n",
      "Examples:\n",
      "\n",
      "    %pmap function-name-in-language range(10)\n",
      "    %pmap function-name-in-language [1,2,3,4]\n",
      "    %pmap run_experiment range(1,100,5)\n",
      "    %pmap run_experiment [\"test1\",\"test2\",\"test3\"]\n",
      "    %pmap f [(1,4,7),(2,3,5),(7,2,2)]\n",
      "\n",
      "The function name must be a function that is available on all\n",
      "nodes in the cluster. For example, you could:\n",
      "\n",
      "    %%px\n",
      "    (define myfunc\n",
      "       (lambda (n)\n",
      "         (+ n 1)))\n",
      "\n",
      "to define myfunc on all machines (use %%px -e to also define\n",
      "it in the running notebook or console). Then you can apply it\n",
      "to a list of arguments:\n",
      "\n",
      "    %%pmap myfunc range(100)\n",
      "\n",
      "The load balancer will run myfunc on the next available node\n",
      "in the cluster.\n",
      "\n",
      "Note: not all languages may support running a function via this magic.\n"
     ]
    }
   ],
   "source": [
    "%pmap function-name-in-language range(10)\n",
    "%pmap function-name-in-language [1,2,3,4]\n",
    "%pmap run_experiment range(1,100,5)\n",
    "%pmap run_experiment [\"test1\",\"test2\",\"test3\"]\n",
    "%pmap f [(1,4,7),(2,3,5),(7,2,2)]"
   ]
  },
  {
   "cell_type": "code",
   "execution_count": 40,
   "metadata": {
    "collapsed": false
   },
   "outputs": [
    {
     "name": "stderr",
     "output_type": "stream",
     "text": [
      "Error in calling magic 'px' on cell:\n",
      "    'NoneType' object is not subscriptable\n",
      "    args: []\n",
      "    kwargs: {}\n",
      "Traceback (most recent call last):\n",
      "  File \"C:\\Progs\\Anaconda3\\lib\\site-packages\\metakernel-0.12.6-py3.5.egg\\metakernel\\magic.py\", line 81, in call_magic\n",
      "    func(*args, **kwargs)\n",
      "  File \"C:\\Progs\\Anaconda3\\lib\\site-packages\\metakernel-0.12.6-py3.5.egg\\metakernel\\magics\\parallel_magic.py\", line 228, in cell_px\n",
      "    kernel_name, self._clean_code(self.code))]\n",
      "TypeError: 'NoneType' object is not subscriptable\n",
      "\n",
      "During handling of the above exception, another exception occurred:\n",
      "\n",
      "Traceback (most recent call last):\n",
      "  File \"C:\\Progs\\Anaconda3\\lib\\site-packages\\metakernel-0.12.6-py3.5.egg\\metakernel\\magic.py\", line 83, in call_magic\n",
      "    func(old_args)\n",
      "  File \"C:\\Progs\\Anaconda3\\lib\\site-packages\\metakernel-0.12.6-py3.5.egg\\metakernel\\magics\\parallel_magic.py\", line 228, in cell_px\n",
      "    kernel_name, self._clean_code(self.code))]\n",
      "TypeError: 'NoneType' object is not subscriptable\n",
      "\n",
      "%%px - send cell to the cluster.\n",
      "\n",
      "Example:\n",
      "\n",
      "    %%px\n",
      "    (define x 42)\n",
      "\n",
      "Use %parallel to initialize the cluster.\n",
      "\n",
      "Options:\n",
      "-------\n",
      "-e --evaluate  evaluate code in the current kernel, too. The current kernel should be of the same language as the cluster. [default: False]\n",
      "-k --kernel_name kernel name given to use for execution [default: None]\n"
     ]
    }
   ],
   "source": [
    "%%px\n",
    "(define myfunc\n",
    "   (lambda (n)\n",
    "     (+ n 1)))"
   ]
  },
  {
   "cell_type": "code",
   "execution_count": 41,
   "metadata": {
    "collapsed": false
   },
   "outputs": [
    {
     "data": {
      "text/plain": [
       "'NoneType' object is not subscriptable"
      ]
     },
     "execution_count": 41,
     "metadata": {},
     "output_type": "execute_result"
    }
   ],
   "source": [
    "%px sys.version"
   ]
  },
  {
   "cell_type": "code",
   "execution_count": 5,
   "metadata": {
    "collapsed": false
   },
   "outputs": [
    {
     "name": "stdout",
     "output_type": "stream",
     "text": [
      "Available line magics:\n",
      "%activity  %cd  %connect_info  %dot  %download  %edit  %get  %help  %html  %include  %install  %install_magic  %javascript  %jigsaw  %kernel  %kx  %latex  %load  %ls  %lsmagic  %macro  %magic  %parallel  %plot  %pmap  %px  %python  %reload_magics  %restart  %run  %set  %shell\n",
      "\n",
      "Available cell magics:\n",
      "%%activity  %%brain  %%debug  %%dot  %%file  %%help  %%html  %%javascript  %%kx  %%latex  %%macro  %%processing  %%px  %%python  %%shell  %%show  %%time  %%tutor\n"
     ]
    }
   ],
   "source": [
    "%lsmagic"
   ]
  },
  {
   "cell_type": "code",
   "execution_count": 24,
   "metadata": {
    "collapsed": false
   },
   "outputs": [
    {
     "data": {
      "text/html": [
       "\n",
       "        <iframe\n",
       "            width=\"100%\"\n",
       "            height=\"500\"\n",
       "            src=\"https://pythontutor.com/iframe-embed.html#code=%0Aa%3D1%0Aprint%28a%29&origin=opt-frontend.js&cumulative=false&heapPrimitives=false&textReferences=false&py=3&rawInputLstJSON=%5B%5D&curInstr=0&codeDivWidth=350&codeDivHeight=400\"\n",
       "            frameborder=\"0\"\n",
       "            allowfullscreen\n",
       "        ></iframe>\n",
       "        "
      ],
      "text/plain": [
       "<IPython.lib.display.IFrame object at 0x0000000002A2D9E8>"
      ]
     },
     "metadata": {},
     "output_type": "display_data"
    }
   ],
   "source": [
    "%%tutor --language=python3\n",
    "\n",
    "a=1\n",
    "print(a)"
   ]
  },
  {
   "cell_type": "code",
   "execution_count": 5,
   "metadata": {
    "collapsed": false
   },
   "outputs": [
    {
     "name": "stdout",
     "output_type": "stream",
     "text": [
      "Line magics:\n",
      "    %activity FILENAME - run a widget-based activity\n",
      "    %cd PATH - change current directory of session\n",
      "    %connect_info - show connection information\n",
      "    %dot CODE - render code as Graphviz image\n",
      "    %download URL [-f FILENAME] - download file from URL\n",
      "    %edit FILENAME - load code from filename into next cell for editing\n",
      "    %get VARIABLE - get a variable from the kernel in a Python-type.\n",
      "    %help TEXT - get help on the given text\n",
      "    %html CODE - display code as HTML\n",
      "    %include FILENAME ... - include code from filename into this code\n",
      "    %install PACKAGE - install package\n",
      "    %install_magic URL - download and install magic from URL\n",
      "    %javascript CODE - send code as JavaScript\n",
      "    %jigsaw LANGUAGE - show visual code editor/generator\n",
      "    %kernel MODULE CLASS [-k NAME] - construct a kernel for sending code.\n",
      "    %kx CODE [-k NAME] - send the code to the kernel.\n",
      "    %latex TEXT - display text as LaTeX\n",
      "    %load FILENAME - load code from filename into next cell\n",
      "    %ls PATH - list files and directories under PATH\n",
      "    %lsmagic - list the current line and cell magics\n",
      "    %macro NAME - execute a macro\n",
      "    %magic - show installed magics\n",
      "    %parallel MODULE CLASS [-k NAME] [-i [...]] - construct an interface to the cluster.\n",
      "    %plot [options] backend - configure plotting for the session.\n",
      "    %pmap FUNCTION [ARGS1,ARGS2,...] - (\"parallel map\") call a FUNCTION on args\n",
      "    %px EXPRESSION - send EXPRESSION to the cluster.\n",
      "    %python CODE - evaluate code as Python\n",
      "    %reload_magics - reload the magics from the installed files\n",
      "    %restart - restart session\n",
      "    %run [--language LANG] FILENAME - run code in filename by\n",
      "    %set VARIABLE VALUE - set a variable in the kernel.\n",
      "    %shell COMMAND - run the line as a shell command\n",
      "\n",
      "Cell magics:\n",
      "     %%shell - run the contents of the cell as shell commands\n",
      "    %%activity FILENAME - make an activity from\n",
      "    %%brain - run a cell as brain control code\n",
      "    %%debug - step through the code expression by expression\n",
      "    %%dot - render contents of cell as Graphviz image\n",
      "    %%file [--append|-a] FILENAME - write contents of cell to file\n",
      "    %%help TEXT - get detailed help on the given text\n",
      "    %%html - display contents of cell as HTML\n",
      "    %%javascript - send contents of cell as JavaScript\n",
      "    %%kx [-k NAME] - send the cell code to the kernel.\n",
      "    %%latex - display contents of cell as LaTeX\n",
      "    %%macro NAME - learn a new macro\n",
      "    %%processing - run the cell in the language Processing\n",
      "    %%px - send cell to the cluster.\n",
      "    %%python - evaluate contents of cell as Python\n",
      "    %%show [-o]- show cell contents or results in system pager\n",
      "    %%time - show time to run cell\n",
      "    %%tutor [--language=LANGUAGE] - show cell with\n",
      "\n",
      "Shell shortcut:\n",
      "    ! COMMAND ... - execute command in shell\n",
      "\n",
      "Any cell magic can be made persistent for rest of session by using %%% prefix.\n",
      "\n",
      "Help on items:\n"
     ]
    },
    {
     "name": "stderr",
     "output_type": "stream",
     "text": [
      "Error in calling magic 'magic' on line:\n",
      "    string indices must be integers\n",
      "    args: []\n",
      "    kwargs: {}\n",
      "Traceback (most recent call last):\n",
      "  File \"C:\\Progs\\Anaconda3\\lib\\site-packages\\metakernel-0.12.6-py3.5.egg\\metakernel\\magic.py\", line 81, in call_magic\n",
      "    func(*args, **kwargs)\n",
      "TypeError: line_magic() missing 1 required positional argument: 'line'\n",
      "\n",
      "During handling of the above exception, another exception occurred:\n",
      "\n",
      "Traceback (most recent call last):\n",
      "  File \"C:\\Progs\\Anaconda3\\lib\\site-packages\\metakernel-0.12.6-py3.5.egg\\metakernel\\magic.py\", line 83, in call_magic\n",
      "    func(old_args)\n",
      "  File \"C:\\Progs\\Anaconda3\\lib\\site-packages\\metakernel-0.12.6-py3.5.egg\\metakernel\\magics\\magic_magic.py\", line 44, in line_magic\n",
      "    for string in self.kernel.line_magics['help'].help_strings():\n",
      "  File \"C:\\Progs\\Anaconda3\\lib\\site-packages\\metakernel-0.12.6-py3.5.egg\\metakernel\\magics\\help_magic.py\", line 22, in help_strings\n",
      "    for s in suffixes]\n",
      "  File \"C:\\Progs\\Anaconda3\\lib\\site-packages\\metakernel-0.12.6-py3.5.egg\\metakernel\\magics\\help_magic.py\", line 22, in <listcomp>\n",
      "    for s in suffixes]\n",
      "TypeError: string indices must be integers\n",
      "\n",
      "%magic - show installed magics\n",
      "\n",
      "This line magic shows all of the install magics, either from\n",
      "the system magic folder, or your own private magic folder.\n"
     ]
    }
   ],
   "source": [
    "%magic"
   ]
  },
  {
   "cell_type": "code",
   "execution_count": 8,
   "metadata": {
    "collapsed": false
   },
   "outputs": [
    {
     "data": {
      "text/html": [
       "./<br>\n",
       "&nbsp;&nbsp;<a href='./Metakernel_bash.ipynb' target='_blank'>Metakernel_bash.ipynb</a><br>\n",
       "&nbsp;&nbsp;<a href='./Metakernel_echo.ipynb' target='_blank'>Metakernel_echo.ipynb</a><br>\n",
       "&nbsp;&nbsp;<a href='./PRESENTATION - Jupyter for Everything Else.ipynb' target='_blank'>PRESENTATION - Jupyter for Everything Else.ipynb</a><br>\n",
       "&nbsp;&nbsp;<a href='./Python3_render_html_table_from_MySQLTableText.ipynb' target='_blank'>Python3_render_html_table_from_MySQLTableText.ipynb</a><br>\n",
       "&nbsp;&nbsp;<a href='./README.md' target='_blank'>README.md</a><br>\n",
       "&nbsp;&nbsp;<a href='./Untitled.ipynb' target='_blank'>Untitled.ipynb</a><br>\n",
       "&nbsp;&nbsp;<a href='./Untitled1.ipynb' target='_blank'>Untitled1.ipynb</a><br>"
      ],
      "text/plain": [
       "./\n",
       "  Metakernel_bash.ipynb\n",
       "  Metakernel_echo.ipynb\n",
       "  PRESENTATION - Jupyter for Everything Else.ipynb\n",
       "  Python3_render_html_table_from_MySQLTableText.ipynb\n",
       "  README.md\n",
       "  Untitled.ipynb\n",
       "  Untitled1.ipynb"
      ]
     },
     "execution_count": 8,
     "metadata": {},
     "output_type": "execute_result"
    }
   ],
   "source": [
    "%ls"
   ]
  },
  {
   "cell_type": "code",
   "execution_count": 3,
   "metadata": {
    "collapsed": false
   },
   "outputs": [
    {
     "data": {
      "text/plain": [
       "/usr/bin/bash: line 20: fg: no job control"
      ]
     },
     "execution_count": 3,
     "metadata": {},
     "output_type": "execute_result"
    }
   ],
   "source": [
    "# NOTE: Installed GraphViz for Windows from .msi (http://www.graphviz.org/Download_windows.php)\n",
    "# NOTE: Modified metakernel/magics/dot_magic.py to use\n",
    "#        import pydotplus as pydot\n",
    "%dot graph A { a->b };"
   ]
  },
  {
   "cell_type": "code",
   "execution_count": 4,
   "metadata": {
    "collapsed": false
   },
   "outputs": [],
   "source": [
    "%%python\n",
    "\n",
    "import pydotplus as pydot\n",
    "\n",
    "pydot.graph_from_dot_data(\"graph A { a->b }\")"
   ]
  },
  {
   "cell_type": "code",
   "execution_count": 1,
   "metadata": {
    "collapsed": false
   },
   "outputs": [
    {
     "name": "stderr",
     "output_type": "stream",
     "text": [
      "Traceback (most recent call last):\n",
      "  File \"C:\\Progs\\Anaconda3\\lib\\site-packages\\metakernel-0.12.6-py3.5.egg\\metakernel\\magics\\python_magic.py\", line 19, in exec_code\n",
      "    exec(code, env)\n",
      "  File \"<string>\", line 39, in <module>\n",
      "  File \"C:\\Progs\\Anaconda3\\lib\\site-packages\\pydotplus\\graphviz.py\", line 1810, in <lambda>\n",
      "    prog=self.prog: self.write(path, format=f, prog=prog)\n",
      "  File \"C:\\Progs\\Anaconda3\\lib\\site-packages\\pydotplus\\graphviz.py\", line 1918, in write\n",
      "    fobj.write(self.create(prog, format))\n",
      "  File \"C:\\Progs\\Anaconda3\\lib\\site-packages\\pydotplus\\graphviz.py\", line 1960, in create\n",
      "    'GraphViz\\'s executables not found')\n",
      "pydotplus.graphviz.InvocationException: GraphViz's executables not found\n",
      "\n"
     ]
    }
   ],
   "source": [
    "%%python\n",
    "\n",
    "# -*- coding: utf-8 -*-\n",
    "\"\"\"\n",
    "pydot example 1\n",
    "@author: Federico Cáceres\n",
    "@url: http://pythonhaven.wordpress.com/2009/12/09/generating_graphs_with_pydot\n",
    "\"\"\"\n",
    "import pydotplus as pydot # import pydot or you're not going to get anywhere my friend :D\n",
    "\n",
    "# first you create a new graph, you do that with pydot.Dot()\n",
    "graph = pydot.Dot(graph_type='graph')\n",
    "\n",
    "# the idea here is not to cover how to represent the hierarchical data\n",
    "# but rather how to graph it, so I'm not going to work on some fancy\n",
    "# recursive function to traverse a multidimensional array...\n",
    "# I'm going to hardcode stuff... sorry if that offends you\n",
    "\n",
    "# let's add the relationship between the king and vassals\n",
    "for i in range(3):\n",
    "    # we can get right into action by \"drawing\" edges between the nodes in our graph\n",
    "    # we do not need to CREATE nodes, but if you want to give them some custom style\n",
    "    # then I would recomend you to do so... let's cover that later\n",
    "    # the pydot.Edge() constructor receives two parameters, a source node and a destination\n",
    "    # node, they are just strings like you can see\n",
    "    edge = pydot.Edge(\"king\", \"lord%d\" % i)\n",
    "    # and we obviosuly need to add the edge to our graph\n",
    "    graph.add_edge(edge)\n",
    "\n",
    "# now let us add some vassals\n",
    "vassal_num = 0\n",
    "for i in range(3):\n",
    "    # we create new edges, now between our previous lords and the new vassals\n",
    "    # let us create two vassals for each lord\n",
    "    for j in range(2):\n",
    "        edge = pydot.Edge(\"lord%d\" % i, \"vassal%d\" % vassal_num)\n",
    "        graph.add_edge(edge)\n",
    "        vassal_num += 1\n",
    "\n",
    "# ok, we are set, let's save our graph into a file\n",
    "graph.write_png('example1_graph.png')\n",
    "\n",
    "# and we are done!"
   ]
  },
  {
   "cell_type": "code",
   "execution_count": null,
   "metadata": {
    "collapsed": true
   },
   "outputs": [],
   "source": []
  }
 ],
 "metadata": {
  "celltoolbar": "Slideshow",
  "kernelspec": {
   "display_name": "MetaKernel Bash",
   "language": "bash",
   "name": "metakernel_bash"
  },
  "language_info": {
   "file_extension": ".sh",
   "help_links": [
    {
     "text": "MetaKernel Magics",
     "url": "https://github.com/calysto/metakernel/blob/master/metakernel/magics/README.md"
    }
   ],
   "mimetype": "text/x-bash",
   "name": "bash"
  }
 },
 "nbformat": 4,
 "nbformat_minor": 0
}
