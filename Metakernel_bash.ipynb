{
 "cells": [
  {
   "cell_type": "markdown",
   "metadata": {},
   "source": [
    "# TODO\n",
    "\n",
    "#### Top level\n",
    "- Ability to display images (useful use cases?)\n",
    "- OpenStack cli\n",
    "  - nova list/nova images ==> html table\n",
    "- Docker cli\n",
    "  - docker ps ==> html table (or graphic showing image size/resources, coloured by image?)\n",
    "  - docker images ==> html table (or graphic showing relations, size/resources)\n",
    "- du -s (any spaced or csv tabular output) ==> html table OR graphics (histogram, pie chart)\n",
    "  - hierarchical pie chart like overdisk?\n",
    "- Integration with d3.js visualizations\n",
    "\n",
    "#### To add\n",
    "- %functions and %lsmagic: to list bash functions (display, pydot)\n",
    "- Create pydot function dimilar to display, allowing to create graphs by:\n",
    "    - echo -e \"%%dot\\nGRAPH\" | pydot\n",
    "- How to **pass variables** between bash and Python?\n",
    "- Try \"display\" or D3.js like functionality for results of bash commands, e.g. du -s\n",
    "  - direct in cells, or via %%javascript, %%python magics\n",
    "- Try interactive widgets\n",
    "- Extend metakernel_bash with display, d3, interactive widgets, HTML table rendering"
   ]
  },
  {
   "cell_type": "code",
   "execution_count": null,
   "metadata": {
    "collapsed": false
   },
   "outputs": [],
   "source": [
    "# Reload metakernelrc: (loaded initially on kernel start)\n",
    "source ~/.metakernelrc\n",
    "test_fn"
   ]
  },
  {
   "cell_type": "code",
   "execution_count": null,
   "metadata": {
    "collapsed": false
   },
   "outputs": [],
   "source": [
    "ls -al"
   ]
  },
  {
   "cell_type": "code",
   "execution_count": null,
   "metadata": {
    "collapsed": false
   },
   "outputs": [],
   "source": [
    "source /home/mjbright/src/git/GIT_mjbright/metakernel/metakernel_bash/metakernelrc"
   ]
  },
  {
   "cell_type": "code",
   "execution_count": null,
   "metadata": {
    "collapsed": false
   },
   "outputs": [],
   "source": [
    "echo \"window.alert('hello world')\" | invoke_js"
   ]
  },
  {
   "cell_type": "code",
   "execution_count": null,
   "metadata": {
    "collapsed": false
   },
   "outputs": [],
   "source": [
    "echo \"import sys; print('hello world from Python v{}.{}.{}({})'.format(sys.version_info[0],sys.version_info[1],sys.version_info[2],sys.version_info[3]))\" | invoke_python"
   ]
  },
  {
   "cell_type": "code",
   "execution_count": null,
   "metadata": {
    "collapsed": false
   },
   "outputs": [],
   "source": [
    "echo \"<h1>An html header <!-- A comment --></h1>\" | invoke_html"
   ]
  },
  {
   "cell_type": "code",
   "execution_count": null,
   "metadata": {
    "collapsed": false
   },
   "outputs": [],
   "source": [
    "echo \"<h1>A table <!-- A comment --></h1>\n",
    "<table><tr><th>col1</th>\n",
    "<th>col2</th>\n",
    "<th>col3</th>\n",
    "<th>col4</th>\n",
    "</tr>\n",
    "<tr><td>val1</td>\n",
    "    <td>val2</td>\n",
    "    <td>val3</td>\n",
    "    <td>val4</td>\n",
    "</tr>\n",
    "<tr><td>valu1</td>\n",
    "    <td>value2</td>\n",
    "    <td>value3</td>\n",
    "    <td>val4</td>\n",
    "</tr></table>\" | invoke_html"
   ]
  },
  {
   "cell_type": "code",
   "execution_count": null,
   "metadata": {
    "collapsed": false
   },
   "outputs": [],
   "source": [
    "test_html_table | invoke_html"
   ]
  },
  {
   "cell_type": "code",
   "execution_count": 53,
   "metadata": {
    "collapsed": false
   },
   "outputs": [
    {
     "data": {
      "text/plain": [
       "[Sat, May 14, 2016 8:45:50 AM] Sourcing /home/mjbright/src/git/GIT_mjbright/metakernel/metakernel_bash/metakernelrc"
      ]
     },
     "execution_count": 53,
     "metadata": {},
     "output_type": "execute_result"
    }
   ],
   "source": [
    "source /home/mjbright/src/git/GIT_mjbright/metakernel/metakernel_bash/metakernelrc"
   ]
  },
  {
   "cell_type": "code",
   "execution_count": 54,
   "metadata": {
    "collapsed": false
   },
   "outputs": [
    {
     "data": {
      "text/plain": [
       "total 3225\n",
       "drwxr-xr-x+ 1 mjbright Domain Users       0 May 14 08:45 .\n",
       "drwxr-xr-x+ 1 mjbright Domain Users       0 May 12 10:06 ..\n",
       "drwxr-xr-x+ 1 mjbright Domain Users       0 May 14 07:38 .git\n",
       "drwxr-xr-x+ 1 mjbright Domain Users       0 May 12 07:47 .ipynb_checkpoints\n",
       "-rwxr-xr-x  1 mjbright Domain Users   17780 May 13 21:21 2016-Jun-DockerCon-KeynoteHacks.ipynb\n",
       "-rw-r--r--  1 mjbright Domain Users       0 May  7 11:24 b\n",
       "-rwxr-xr-x  1 mjbright Domain Users     467 May 14 08:04 data.csv\n",
       "-rwxr-xr-x  1 mjbright Domain Users       0 May  7 06:51 example1_graph.png\n",
       "-rwxr-xr-x  1 mjbright Domain Users      30 May 13 18:24 jupyter.sh\n",
       "drwxr-xr-x+ 1 mjbright Domain Users       0 May 10 14:38 lightning-examples\n",
       "-rwxr-xr-x  1 mjbright Domain Users   50781 May 14 08:45 Metakernel_bash.ipynb\n",
       "-rwxr-xr-x  1 mjbright Domain Users    6563 May  6 19:58 Metakernel_echo.ipynb\n",
       "-rwxr-xr-x  1 mjbright Domain Users   27384 May 13 18:27 PRESENTATION - Jupyter for Everything Else.ipynb\n",
       "-rwxr-xr-x  1 mjbright Domain Users     921 May  9 17:31 Python3_LightningExperiments.ipynb\n",
       "-rwxr-xr-x  1 mjbright Domain Users    4021 May  7 20:58 Python3_render_html_table_from_MySQLTableText.ipynb\n",
       "-rw-r--r--  1 mjbright Domain Users     102 May  7 08:08 README.md\n",
       "-rw-r--r--  1 mjbright Domain Users       0 May  7 21:33 S0\n",
       "-rw-r--r--  1 mjbright Domain Users       0 May  7 21:33 S1\n",
       "-rw-r--r--  1 mjbright Domain Users       0 May  7 21:33 S2\n",
       "-rw-r--r--  1 mjbright Domain Users       0 May  7 21:33 S3\n",
       "-rw-r--r--  1 mjbright Domain Users 3134247 May  9 17:31 severless.ipynb\n",
       "-rwxr-xr-x  1 mjbright Domain Users      33 May  7 08:19 test.dot\n",
       "-rw-r--r--  1 mjbright Domain Users      57 May  7 08:56 test2.dot"
      ]
     },
     "execution_count": 54,
     "metadata": {},
     "output_type": "execute_result"
    }
   ],
   "source": [
    "ls -al"
   ]
  },
  {
   "cell_type": "markdown",
   "metadata": {},
   "source": [
    "Below data and initial simple_d3js copied/adapted from one of [d3noobs blocks](http://bl.ocks.org/d3noob) here:\n",
    " http://bl.ocks.org/d3noob/b3ff6ae1c120eea654b5"
   ]
  },
  {
   "cell_type": "code",
   "execution_count": 55,
   "metadata": {
    "collapsed": false
   },
   "outputs": [
    {
     "name": "stdout",
     "output_type": "stream",
     "text": [
      "Created file 'C:\\tools\\cygwin\\home\\mjbright\\src\\git\\GIT_mjbright\\jupyter-for-everything-else\\data.csv'.\n"
     ]
    }
   ],
   "source": [
    "%%file data.csv\n",
    "date,close\n",
    "1-May-12,58.13\n",
    "30-Apr-12,53.98\n",
    "27-Apr-12,67.00\n",
    "26-Apr-12,89.70\n",
    "25-Apr-12,99.00\n",
    "24-Apr-12,130.28\n",
    "23-Apr-12,166.70\n",
    "20-Apr-12,234.98\n",
    "19-Apr-12,345.44\n",
    "18-Apr-12,443.34\n",
    "17-Apr-12,543.70\n",
    "16-Apr-12,580.13\n",
    "13-Apr-12,605.23\n",
    "12-Apr-12,622.77\n",
    "11-Apr-12,626.20\n",
    "10-Apr-12,628.44\n",
    "9-Apr-12,636.23\n",
    "5-Apr-12,633.68\n",
    "4-Apr-12,624.31\n",
    "3-Apr-12,629.32\n",
    "2-Apr-12,618.63\n",
    "30-Mar-12,599.55\n",
    "29-Mar-12,609.86\n",
    "28-Mar-12,617.62\n",
    "27-Mar-12,614.48\n",
    "26-Mar-12,606.98"
   ]
  },
  {
   "cell_type": "markdown",
   "metadata": {},
   "source": [
    "How about displaying that csv data in d3.js, called from a bash function?"
   ]
  },
  {
   "cell_type": "code",
   "execution_count": 57,
   "metadata": {
    "collapsed": false
   },
   "outputs": [
    {
     "data": {
      "text/html": [
       "<!DOCTYPE html>\n",
       "\n",
       "<meta charset=\"utf-8\">\n",
       "\n",
       "<style> /* set the CSS */\n",
       "\n",
       "\n",
       "\n",
       "body { font: 12px Arial;}\n",
       "\n",
       "\n",
       "\n",
       "path { \n",
       "\n",
       "    stroke: steelblue;\n",
       "\n",
       "    stroke-width: 2;\n",
       "\n",
       "    fill: none;\n",
       "\n",
       "}\n",
       "\n",
       "\n",
       "\n",
       ".axis path,\n",
       "\n",
       ".axis line {\n",
       "\n",
       "    fill: none;\n",
       "\n",
       "    stroke: grey;\n",
       "\n",
       "    stroke-width: 1;\n",
       "\n",
       "    shape-rendering: crispEdges;\n",
       "\n",
       "}\n",
       "\n",
       "\n",
       "\n",
       "</style>\n",
       "\n",
       "<div id=\"myd3\">\n",
       "\n",
       "\n",
       "\n",
       "<!-- load the d3.js library -->    \n",
       "\n",
       "<script src=\"http://d3js.org/d3.v3.min.js\"></script>\n",
       "\n",
       "\n",
       "\n",
       "<script>\n",
       "\n",
       "\n",
       "\n",
       "// Set the dimensions of the canvas / graph\n",
       "\n",
       "var margin = {top: 30, right: 20, bottom: 30, left: 50},\n",
       "\n",
       "    width = 600 - margin.left - margin.right,\n",
       "\n",
       "    height = 270 - margin.top - margin.bottom;\n",
       "\n",
       "\n",
       "\n",
       "// Parse the date / time\n",
       "\n",
       "var parseDate = d3.time.format(\"%d-%b-%y\").parse;\n",
       "\n",
       "\n",
       "\n",
       "// Set the ranges\n",
       "\n",
       "var x = d3.time.scale().range([0, width]);\n",
       "\n",
       "var y = d3.scale.linear().range([height, 0]);\n",
       "\n",
       "\n",
       "\n",
       "// Define the axes\n",
       "\n",
       "var xAxis = d3.svg.axis().scale(x)\n",
       "\n",
       "    .orient(\"bottom\").ticks(5);\n",
       "\n",
       "\n",
       "\n",
       "var yAxis = d3.svg.axis().scale(y)\n",
       "\n",
       "    .orient(\"left\").ticks(5);\n",
       "\n",
       "\n",
       "\n",
       "// Define the line\n",
       "\n",
       "var valueline = d3.svg.line()\n",
       "\n",
       "    .x(function(d) { return x(d.date); })\n",
       "\n",
       "    .y(function(d) { return y(d.close); });\n",
       "\n",
       "    \n",
       "\n",
       "// Adds the svg canvas\n",
       "\n",
       "var svg = d3.select(\"#myd3\")\n",
       "\n",
       "    .append(\"svg\")\n",
       "\n",
       "        .attr(\"width\", width + margin.left + margin.right)\n",
       "\n",
       "        .attr(\"height\", height + margin.top + margin.bottom)\n",
       "\n",
       "    .append(\"g\")\n",
       "\n",
       "        .attr(\"transform\", \n",
       "\n",
       "              \"translate(\" + margin.left + \",\" + margin.top + \")\");\n",
       "\n",
       "\n",
       "\n",
       "// Get the data\n",
       "\n",
       "d3.csv(\"data.csv\", function(error, data) {\n",
       "\n",
       "    data.forEach(function(d) {\n",
       "\n",
       "        d.date = parseDate(d.date);\n",
       "\n",
       "        d.close = +d.close;\n",
       "\n",
       "    });\n",
       "\n",
       "\n",
       "\n",
       "    // Scale the range of the data\n",
       "\n",
       "    x.domain(d3.extent(data, function(d) { return d.date; }));\n",
       "\n",
       "    y.domain([0, d3.max(data, function(d) { return d.close; })]);\n",
       "\n",
       "\n",
       "\n",
       "    // Add the valueline path.\n",
       "\n",
       "    svg.append(\"path\")\n",
       "\n",
       "        .attr(\"class\", \"line\")\n",
       "\n",
       "        .attr(\"d\", valueline(data));\n",
       "\n",
       "\n",
       "\n",
       "    // Add the X Axis\n",
       "\n",
       "    svg.append(\"g\")\n",
       "\n",
       "        .attr(\"class\", \"x axis\")\n",
       "\n",
       "        .attr(\"transform\", \"translate(0,\" + height + \")\")\n",
       "\n",
       "        .call(xAxis);\n",
       "\n",
       "\n",
       "\n",
       "    // Add the Y Axis\n",
       "\n",
       "    svg.append(\"g\")\n",
       "\n",
       "        .attr(\"class\", \"y axis\")\n",
       "\n",
       "        .call(yAxis);\n",
       "\n",
       "\n",
       "\n",
       "});\n",
       "\n",
       "\n",
       "\n",
       "</script>\n",
       "\n",
       "</div>\n",
       "\n",
       "\n"
      ],
      "text/plain": [
       "<IPython.core.display.HTML object>"
      ]
     },
     "metadata": {},
     "output_type": "display_data"
    }
   ],
   "source": [
    "simple_d3js"
   ]
  },
  {
   "cell_type": "markdown",
   "metadata": {
    "slideshow": {
     "slide_type": "notes"
    }
   },
   "source": [
    "# TODO:\n",
    "  \n",
    "- Look at GraphTerm ([see e-mails](https://mail.google.com/mail/u/0/#search/xmlterm/138d5fe41f1ce24c), [see github](https://github.com/mitotic/graphterm))\n",
    "  - Investigate ideas, evaluate value of Jupyter/metakernel_bash versus GraphTerm\n",
    "  - Kudos to this guy for GraphTerm, xmlterm and [xmlterm](https://github.com/gandrewstone/xmlterm) and mention other projects mentioned in his github page\n",
    "  - Try out these other projects ..\n",
    "  \n",
    "- Try out ideas for bash under binder (see issue [here](https://github.com/binder-project/binder/issues/50))\n",
    "\n",
    "- Put forward bash advantages of pipelines\n",
    "\n",
    "- Use command-line data handling tools: See [dhoban](https://github.com/dbohdan/structured-text-tools?utm_source=hackernewsletter&utm_medium=email&utm_term=fav)\n",
    "\n",
    "- USE unique div ids (based on what -> cell number or *date_time*?)\n",
    "\n",
    "- simple_d3js <csvfile> # or stdin if no arg\n",
    "\n",
    "- du_d3js # show pie chart\n",
    "    - watch_du_d3js # show pie chart - with periodic updates\n",
    "    - interactive d3.js examples\n",
    "\n",
    "- xmlterm: xls, xfind, ...\n",
    "    - xwatch <watchoptions> [<du> -a/-s|df| ls -h]\n",
    "\n",
    "- merge pydot/image into \"magic_extensions\"\n",
    "\n",
    "- how to do lightning from js w/o npm ?\n",
    "  - Can I just ref js files from https://github.com/lightning-viz/lightning.js/tree/master/lib\n",
    "\n",
    "- Graphical or HTML/pretty displays of\n",
    "  - OpenStack images, instances, networks\n",
    "  - Docker images, instances, networks\n",
    "  - Database data: MySQL, PostgreSQL, MongoDB, BerkelyDB?\n",
    "  - bash structures (arrays, assoc. arrays)\n",
    "  \n",
    "- Create bash functions which invoke Python interactivity,\n",
    "  - e.g. du -s DIR (choose DIR from Python dropdown box?)\n",
    "\n"
   ]
  },
  {
   "cell_type": "code",
   "execution_count": 58,
   "metadata": {
    "collapsed": false
   },
   "outputs": [
    {
     "data": {
      "text/plain": [
       ");\n",
       "\n",
       "    // Add the X Axis\n",
       "    svg.append(\"g\")\n",
       "        .attr(\"class\", \"x axsimple_d3js is a function\n",
       "simple_d3js () \n",
       "{ \n",
       "    echo \"Invoked ${FUNCNAME[0]} $*\" 1>&2;\n",
       "    HTMLSCRIPT=$CYGROOT/$TMPDIR/${FUNCNAME[0]}.html;\n",
       "    cat  > $HTMLSCRIPT <<EOF\n",
       "<!DOCTYPE html>\n",
       "<meta charset=\"utf-8\">\n",
       "<style> /* set the CSS */\n",
       "\n",
       "body { font: 12px Arial;}\n",
       "\n",
       "path { \n",
       "    stroke: steelblue;\n",
       "    stroke-width: 2;\n",
       "    fill: none;\n",
       "}\n",
       "\n",
       ".axis path,\n",
       ".axis line {\n",
       "    fill: none;\n",
       "    stroke: grey;\n",
       "    stroke-width: 1;\n",
       "    shape-rendering: crispEdges;\n",
       "}\n",
       "\n",
       "</style>\n",
       "<div id=\"myd3\">\n",
       "\n",
       "<!-- load the d3.js library -->    \n",
       "<script src=\"http://d3js.org/d3.v3.min.js\"></script>\n",
       "\n",
       "<script>\n",
       "\n",
       "// Set the dimensions of the canvas / graph\n",
       "var margin = {top: 30, right: 20, bottom: 30, left: 50},\n",
       "    width = 600 - margin.left - margin.right,\n",
       "    height = 270 - margin.top - margin.bottom;\n",
       "\n",
       "// Parse the date / time\n",
       "var parseDate = d3.time.format(\"%d-%b-%y\").parse;\n",
       "\n",
       "// Set the ranges\n",
       "var x = d3.time.scale().range([0, width]);\n",
       "var y = d3.scale.linear().range([height, 0]);\n",
       "\n",
       "// Define the axes\n",
       "var xAxis = d3.svg.axis().scale(x)\n",
       "    .orient(\"bottom\").ticks(5);\n",
       "\n",
       "var yAxis = d3.svg.axis().scale(y)\n",
       "    .orient(\"left\").ticks(5);\n",
       "\n",
       "// Define the line\n",
       "var valueline = d3.svg.line()\n",
       "    .x(function(d) { return x(d.date); })\n",
       "    .y(function(d) { return y(d.close); });\n",
       "    \n",
       "// Adds the svg canvas\n",
       "var svg = d3.select(\"#myd3\")\n",
       "    .append(\"svg\")\n",
       "        .attr(\"width\", width + margin.left + margin.right)\n",
       "        .attr(\"height\", height + margin.top + margin.bottom)\n",
       "    .append(\"g\")\n",
       "        .attr(\"transform\", \n",
       "              \"translate(\" + margin.left + \",\" + margin.top + \")\");\n",
       "\n",
       "// Get the data\n",
       "d3.csv(\"data.csv\", function(error, data) {\n",
       "    data.forEach(function(d) {\n",
       "        d.date = parseDate(d.date);\n",
       "        d.close = +d.close;\n",
       "    });\n",
       "\n",
       "    // Scale the range of the data\n",
       "    x.domain(d3.extent(data, function(d) { return d.date; }));\n",
       "    y.domain([0, d3.max(data, function(d) { return d.close; })]);\n",
       "\n",
       "    // Add the valueline path.\n",
       "    svg.append(\"path\")\n",
       "        .attr(\"class\", \"line\")\n",
       "        .attr(\"d\", valueline(data)is\")\n",
       "        .attr(\"transform\", \"translate(0,\" + height + \")\")\n",
       "        .call(xAxis);\n",
       "\n",
       "    // Add the Y Axis\n",
       "    svg.append(\"g\")\n",
       "        .attr(\"class\", \"y axis\")\n",
       "        .call(yAxis);\n",
       "\n",
       "});\n",
       "\n",
       "</script>\n",
       "</div>\n",
       "\n",
       "EOF\n",
       "\n",
       "    cat $HTMLSCRIPT 2>&1 | tee $TMPDIR/${FUNCNAME[0]}.stdout | invoke_html\n",
       "}"
      ]
     },
     "execution_count": 58,
     "metadata": {},
     "output_type": "execute_result"
    }
   ],
   "source": [
    "type simple_d3js"
   ]
  },
  {
   "cell_type": "code",
   "execution_count": null,
   "metadata": {
    "collapsed": false
   },
   "outputs": [],
   "source": [
    "lightning | invoke_python"
   ]
  },
  {
   "cell_type": "code",
   "execution_count": null,
   "metadata": {
    "collapsed": false
   },
   "outputs": [],
   "source": [
    "%%python\n",
    "\n",
    "from lightning import Lightning\n",
    "\n",
    "from numpy import random, asarray\n",
    "\n",
    "#lgn = Lightning(ipython=True, host='http://public.lightning-viz.org')\n",
    "lgn = Lightning(ipython=False, host='http://public.lightning-viz.org')\n",
    "\n",
    "series = random.randn(5, 50)\n",
    "\n",
    "op = lgn.line(series)\n",
    "print(op)"
   ]
  },
  {
   "cell_type": "code",
   "execution_count": null,
   "metadata": {
    "collapsed": false
   },
   "outputs": [],
   "source": [
    "npm install lightning.js"
   ]
  },
  {
   "cell_type": "code",
   "execution_count": null,
   "metadata": {
    "collapsed": false
   },
   "outputs": [],
   "source": [
    "echo \"graph A { a->b };\" | pydot"
   ]
  },
  {
   "cell_type": "code",
   "execution_count": null,
   "metadata": {
    "collapsed": false
   },
   "outputs": [],
   "source": [
    "echo \"digraph G { \n",
    "        a; \n",
    "        b; \n",
    "        c -> d; \n",
    "        a -> c; \n",
    "}\" | pydot"
   ]
  },
  {
   "cell_type": "code",
   "execution_count": null,
   "metadata": {
    "collapsed": false
   },
   "outputs": [],
   "source": [
    "echo 'graph graphname { \n",
    "                a -- b; \n",
    "                b -- c;\n",
    "                b -- d;\n",
    "                d -- a;\n",
    "        }' | pydot"
   ]
  },
  {
   "cell_type": "code",
   "execution_count": null,
   "metadata": {
    "collapsed": false
   },
   "outputs": [],
   "source": [
    "echo 'graph graphname {\n",
    "                rankdir=LR;  //Rank Direction Left to Right\n",
    "                a -- b; \n",
    "                b -- c;\n",
    "                b -- d;\n",
    "                d -- a;\n",
    "        }' | pydot"
   ]
  },
  {
   "cell_type": "code",
   "execution_count": null,
   "metadata": {
    "collapsed": false
   },
   "outputs": [],
   "source": [
    "echo 'digraph graphname{\n",
    "                a -> b;\n",
    "                b -> c;\n",
    "                a -> c;\n",
    "        }' | pydot"
   ]
  },
  {
   "cell_type": "code",
   "execution_count": null,
   "metadata": {
    "collapsed": false
   },
   "outputs": [],
   "source": [
    "echo 'digraph graphname{\n",
    "\n",
    "                T [label=\"Teacher\"]      // node T\n",
    "                P [label=\"Pupil\"]  // node P\n",
    "\n",
    "                T->P [label=\"Instructions\", fontcolor=darkgreen] // edge T->P\n",
    "}\n",
    "' | pydot"
   ]
  },
  {
   "cell_type": "code",
   "execution_count": null,
   "metadata": {
    "collapsed": false
   },
   "outputs": [],
   "source": [
    "echo 'digraph graphname {\n",
    "                T [label=\"Teacher\" color=Blue, fontcolor=Red, fontsize=24, shape=box]      // node T\n",
    "                P [label=\"Pupil\" color=Blue, fontcolor=Red, fontsize=24, shape=box]  // node P\n",
    "\n",
    "                T->P [label=\"Instructions\", fontcolor=darkgreen] // edge T->P\n",
    "}' | pydot"
   ]
  },
  {
   "cell_type": "code",
   "execution_count": null,
   "metadata": {
    "collapsed": false
   },
   "outputs": [],
   "source": [
    "echo 'digraph summary{\n",
    "                start [label=\"Start with a Node\"]\n",
    "                end [label=\"Draw your graph\", shape=box, style=filled, fillcolor=yellow]\n",
    "\n",
    "                start->next\n",
    "                start->warning \n",
    "                next->end [label=\"Getting Better...\", fontcolor=darkblue]\n",
    "\n",
    "}' | pydot"
   ]
  },
  {
   "cell_type": "code",
   "execution_count": null,
   "metadata": {
    "collapsed": false
   },
   "outputs": [],
   "source": [
    "# Don't know how to put quote ' in \"Dont go overboard\"\n",
    "echo 'digraph summary{\n",
    "                start [label=\"Start with a Node\"]\n",
    "                end [label=\"Draw your graph\", shape=box, style=filled, fillcolor=yellow]\n",
    "                next [label=\"Choose your shape\", shape=box]\n",
    "                warning [label=\"Dont go overboard\", color=Blue, fontcolor=Red, fontsize=24, style=filled, fillcolor=green, shape=octagon]\n",
    "\n",
    "                start->next\n",
    "                start->warning \n",
    "                next->end [label=\"Getting Better...\", fontcolor=darkblue]\n",
    "\n",
    "}' | pydot"
   ]
  },
  {
   "cell_type": "code",
   "execution_count": null,
   "metadata": {
    "collapsed": false
   },
   "outputs": [],
   "source": [
    "echo 'digraph G { \n",
    "        bgcolor=azure; \n",
    "        node [shape=box, color=lightblue2, style=filled]; \n",
    "        edge [arrowsize=2, color=gold]; \n",
    "        \"zero\" -> \"dix\"; \n",
    "        \"un\" -> \"dix\"; \n",
    "        \"zero\" -> \"vingt\"; \n",
    "        \"deux\" -> \"vingt\"; \n",
    "} ' | pydot"
   ]
  },
  {
   "cell_type": "code",
   "execution_count": null,
   "metadata": {
    "collapsed": false
   },
   "outputs": [],
   "source": [
    "echo 'digraph G { \n",
    "        bgcolor=azure; \n",
    "        node [shape=box, color=lightblue2, style=filled]; \n",
    "        edge [arrowsize=2, color=gold]; \n",
    "        \"zero\" -> \"dix\" [color=purple]; \n",
    "        \"un\" -> \"dix\"; \n",
    "        \"zero\" -> \"vingt\"; \n",
    "        \"deux\" -> \"vingt\"; \n",
    "        \"zero\" [shape=circle, color=thistle1, fontcolor=purple]; \n",
    "}' | pydot"
   ]
  },
  {
   "cell_type": "code",
   "execution_count": null,
   "metadata": {
    "collapsed": false
   },
   "outputs": [],
   "source": [
    "echo 'digraph G { \n",
    "        graph [bgcolor=lightyellow2, splines=true]; \n",
    "        edge [color=red, arrowsize=2]; \n",
    "        node [color=yellow, style=filled, shape=polygon, sides=6, fontname=\"Verdana\"]; \n",
    "        A1 -> A3 [label=\"est parrain de\", arrowtail=dot, arrowhead=open]; \n",
    "        A3 -> A5; \n",
    "        A3 -> A6; \n",
    "        A2 -> A4; \n",
    "        A1 [label=\"Hugo\", shape=circle, color=blue, fontcolor=white]; \n",
    "        A2 [label=\"Boris\"]; \n",
    "        A3 [label=\"Cécile\"]; \n",
    "        A4 [label=\"François\"]; \n",
    "        A5 [label=\"Frank\"]; \n",
    "        A6 [label=\"Elise\"]; \n",
    "} ' | pydot"
   ]
  },
  {
   "cell_type": "code",
   "execution_count": null,
   "metadata": {
    "collapsed": false
   },
   "outputs": [],
   "source": [
    "echo 'digraph G { \n",
    "        edge [color=red, arrowsize=2]; \n",
    "        node [color=lightyellow2, style=filled]; \n",
    "        A1 -> A3; \n",
    "        A3 -> A5; \n",
    "        A3 -> A6; \n",
    "        A2 -> A4; \n",
    "        A1 [label=\"Hugo\"]; \n",
    "        A2 [label=\"Boris\"]; \n",
    "        A3 [label=\"Cécile\"]; \n",
    "        A4 [label=\"François\"]; \n",
    "        A5 [label=\"Frank\"]; \n",
    "        A6 [label=\"Elise\"]; \n",
    "} ' | pydot"
   ]
  },
  {
   "cell_type": "code",
   "execution_count": null,
   "metadata": {
    "collapsed": false
   },
   "outputs": [],
   "source": [
    "echo 'graph G { \n",
    "        a -- b -- c -- d -- e; \n",
    "        1 -- {2; 3; 4; 5; 6; 7;} \n",
    "}' | pydot"
   ]
  },
  {
   "cell_type": "code",
   "execution_count": null,
   "metadata": {
    "collapsed": false
   },
   "outputs": [],
   "source": [
    "echo 'digraph G { \n",
    "        edge [color=blue, arrowsize=2]; \n",
    "        node [color=lightyellow2, style=filled]; \n",
    "        root -> f1; \n",
    "        root -> f2; \n",
    "        f1 -> f4;\n",
    "        f3 -> f5; \n",
    "        f3 -> f6; \n",
    "        f2 -> f3; \n",
    "        root [label=\"/tmp/findtest\"]; \n",
    "        f1 [label=\"file1\"]; \n",
    "        f2 [label=\"file2\"]; \n",
    "        f3 [label=\"file3\"]; \n",
    "        f4 [label=\"file4\"]; \n",
    "        f5 [label=\"file5\"]; \n",
    "        f6 [label=\"file6\"]; \n",
    "} ' | pydot"
   ]
  },
  {
   "cell_type": "code",
   "execution_count": null,
   "metadata": {
    "collapsed": false
   },
   "outputs": [],
   "source": [
    "rm -rf /tmp/findtest\n",
    "\n",
    "mkdir -p /tmp/findtest/\n",
    "touch /tmp/findtest/file1\n",
    "mkdir /tmp/findtest/dir1\n",
    "  touch /tmp/findtest/dir1/file1\n",
    "  touch /tmp/findtest/dir1/file2\n",
    "  touch /tmp/findtest/dir1/file3\n",
    "mkdir /tmp/findtest/dir2\n",
    "  touch /tmp/findtest/dir2/file1\n",
    "  touch /tmp/findtest/dir2/file2\n",
    "\n",
    "find /tmp/findtest | perl -ne '\n",
    "  BEGIN {\n",
    "    print \"digraph G {\\n  edge [color=blue, arrowsize=2];\\n  node [color=lightyellow2, style=filled];\\n\";\n",
    "  };\n",
    "\n",
    "  chomp();\n",
    "  if (!defined($ROOT)) {\n",
    "    $ROOT=\"$_\"; $ROOT =~ s/\\//_/g;\n",
    "    $ROOTLABEL=$_;\n",
    "    $NODES{$ROOT}=\"root\";\n",
    "    print \"\\n  $ROOT [label=\\\"$ROOTLABEL\\\"];\\n\"; \n",
    "  } else {\n",
    "    m/^(.+)\\/([^\\/]+)/;\n",
    "    ($PARENT,$CHILD)=($1,$2);\n",
    "    $NODE = $_;\n",
    "    $NODE =~ s/\\//_/g;\n",
    "    $PARENTNODE = $PARENT;\n",
    "    $PARENTNODE =~ s/\\//_/g;\n",
    "\n",
    "    $NODES{$NODE}=$CHILD;\n",
    "    print \"  $PARENTNODE -> $NODE;\\n\";\n",
    "    print \"\\n  $NODE [label=\\\"$CHILD\\\"];\\n\"; \n",
    "};\n",
    "\n",
    "END { print \"}\\n\"; }; ' | pydot"
   ]
  },
  {
   "cell_type": "code",
   "execution_count": null,
   "metadata": {
    "collapsed": false
   },
   "outputs": [],
   "source": [
    "#source ~/.metakernelrc\n",
    "source /home/mjbright/src/git/GIT_mjbright/metakernel/metakernel_bash/metakernelrc"
   ]
  },
  {
   "cell_type": "code",
   "execution_count": null,
   "metadata": {
    "collapsed": false
   },
   "outputs": [],
   "source": [
    "rm -rf /tmp/findtest\n",
    "\n",
    "mkdir -p /tmp/findtest/\n",
    "touch /tmp/findtest/file1\n",
    "mkdir /tmp/findtest/dir1\n",
    "  touch /tmp/findtest/dir1/file1\n",
    "  touch /tmp/findtest/dir1/file2\n",
    "  touch /tmp/findtest/dir1/file3\n",
    "mkdir /tmp/findtest/dir2\n",
    "  touch /tmp/findtest/dir2/file1\n",
    "  touch /tmp/findtest/dir2/file2\n",
    "\n",
    "source /home/mjbright/src/git/GIT_mjbright/metakernel/metakernel_bash/metakernelrc\n",
    "find /tmp/findtest | pydot_show_filetree"
   ]
  },
  {
   "cell_type": "code",
   "execution_count": null,
   "metadata": {
    "collapsed": false
   },
   "outputs": [],
   "source": [
    "source /home/mjbright/src/git/GIT_mjbright/metakernel/metakernel_bash/metakernelrc"
   ]
  },
  {
   "cell_type": "code",
   "execution_count": null,
   "metadata": {
    "collapsed": false
   },
   "outputs": [],
   "source": [
    "%%dot\n",
    "\n",
    "digraph G {\n",
    "    rankdir=TB;\n",
    "    node [shape=plaintext style=\"filled\"];\n",
    "    \n",
    "    subgraph cluster_01 {\n",
    "        label = \"Disk Usage under /tmp\";\n",
    "        key3 [label=\"file1\"]\n",
    "        key2 [label=\"dir2/\"]\n",
    "        key1 [label=\"dir1/\"]\n",
    "    };\n",
    "    node [shape=circle fizedsize=true width=10 style=wedged fillcolor=\"red;0.3:green;0.6:orange\"];\n",
    "    \n",
    "    A [label=\"\"]\n",
    "}"
   ]
  },
  {
   "cell_type": "code",
   "execution_count": null,
   "metadata": {
    "collapsed": false
   },
   "outputs": [],
   "source": [
    "%%dot\n",
    "\n",
    "digraph G {\n",
    "    //rankdir=TB;\n",
    "    node [shape=circle fizedsize=true width=6 style=wedged fillcolor=\"red;0.3:green;0.6:orange\"];\n",
    "    \n",
    "    subgraph cluster_02 {\n",
    "        //rankType=\"same\";\n",
    "        color=\"invis\"; // No border on cluster\n",
    "\n",
    "    A [label=\"\"]\n",
    "    }\n",
    "    \n",
    "    //rankdir=TB;\n",
    "    node [shape=plaintext fixedsize=true width=1 style=\"filled\" fillcolor=\"lightyellow2\"];\n",
    "    subgraph cluster_01 {\n",
    "        //rankType=\"min\";\n",
    "\n",
    "        label = \"Disk Usage under /tmp\";\n",
    "        width=1\n",
    "        key1 [label=\"dir1/\" fillcolor=\"red\"]\n",
    "        key2 [label=\"dir2/\" fillcolor=\"green\"]\n",
    "        key3 [label=\"file1\" fillcolor=\"orange\"]\n",
    "    };\n",
    "    \n",
    "}"
   ]
  },
  {
   "cell_type": "code",
   "execution_count": null,
   "metadata": {
    "collapsed": false
   },
   "outputs": [],
   "source": [
    "%%dot\n",
    "\n",
    "digraph G {\n",
    "    rankdir=TB;\n",
    "    node [shape=circle fizedsize=true width=6 style=wedged fillcolor=\"red;0.3:green;0.6:orange\"];\n",
    "    \n",
    "    A [label=\"\"]\n",
    "    \n",
    "    rankdir=TB;\n",
    "    node [shape=plaintext fixedsize=true width=1 style=\"filled\" fillcolor=\"lightyellow2\"];\n",
    "    subgraph cluster_01 {\n",
    "        rankdir=LR;\n",
    "\n",
    "        label = \"Disk Usage under /tmp\";\n",
    "        width=1\n",
    "        key1 [label=\"dir1/\" fillcolor=\"red\"]\n",
    "        key2 [label=\"dir2/\" fillcolor=\"green\"]\n",
    "        key3 [label=\"file1\" fillcolor=\"orange\"]\n",
    "    };\n",
    "    \n",
    "}"
   ]
  },
  {
   "cell_type": "code",
   "execution_count": null,
   "metadata": {
    "collapsed": false
   },
   "outputs": [],
   "source": [
    "source /home/mjbright/src/git/GIT_mjbright/metakernel/metakernel_bash/metakernelrc\n",
    "du -s /tmp/* | pydot_show_du"
   ]
  },
  {
   "cell_type": "raw",
   "metadata": {
    "collapsed": false
   },
   "source": [
    "echo \"digraph hierarchy {\n",
    "\n",
    "                nodesep=1.0 // increases the separation between nodes\n",
    "                \n",
    "                node [color=Red,fontname=Courier,shape=box] //All nodes will this shape and colour\n",
    "                edge [color=Blue, style=dashed] //All the lines look like this\n",
    "\n",
    "                Headteacher->{Deputy1 Deputy2 BusinessManager}\n",
    "                Deputy1->{Teacher1 Teacher2}\n",
    "                BusinessManager->ITManager\n",
    "                {rank=same;ITManager Teacher1 Teacher2}  // Put them on the same level\n",
    "}\" | pydot"
   ]
  },
  {
   "cell_type": "code",
   "execution_count": null,
   "metadata": {
    "collapsed": false
   },
   "outputs": [],
   "source": [
    "echo \"digraph hierarchy {\n",
    "                nodesep=0.5 // increases the separation between nodes\n",
    "                \n",
    "                node [color=Blue, fontname=Courier,shape=oval] //All nodes will this shape and colour\n",
    "                edge [color=Blue, style=solid] //All the lines look like this\n",
    "\n",
    "                CEO->{CTO CFO BusinessManager}\n",
    "                CTO->{LabManager MarketingManager}\n",
    "                BusinessManager->ITManager\n",
    "                {rank=same;ITManager LabManager MarketingManager}  // Put them on the same level\n",
    "}\" | pydot"
   ]
  },
  {
   "cell_type": "code",
   "execution_count": null,
   "metadata": {
    "collapsed": false
   },
   "outputs": [],
   "source": [
    "# QUOTES IN THIS WAY, WORKS:\n",
    "echo 'digraph hierarchy {\n",
    "        S0->S1 [ label = \"Lift Nozzle\" ]\n",
    "        S1->S0 [ label = \"Replace Nozzle\" ]\n",
    "        S1->S2 [ label = \"Authorize Pump\" ]\n",
    "        S2->S0 [ label = \"Replace Nozzle\" ]\n",
    "        S2->S3 [ label = \"Pull Trigger\" ]\n",
    "        S3->S2 [ label = \"Release Trigger\" ]\n",
    "}' | pydot"
   ]
  },
  {
   "cell_type": "code",
   "execution_count": null,
   "metadata": {
    "collapsed": false
   },
   "outputs": [],
   "source": [
    "# QUOTES IN THIS WAY, FAILS:\n",
    "echo \"digraph hierarchy {\n",
    "        S0->S1 [ label = 'Lift Nozzle' ]\n",
    "        S1->S0 [ label = 'Replace Nozzle' ]\n",
    "        S1->S2 [ label = 'Authorize Pump' ]\n",
    "        S2->S0 [ label = 'Replace Nozzle' ]\n",
    "        S2->S3 [ label = 'Pull Trigger\"' ]\n",
    "        S3->S2 [ label = 'Release Trigger' ]\n",
    "}\" | pydot"
   ]
  },
  {
   "cell_type": "code",
   "execution_count": null,
   "metadata": {
    "collapsed": false
   },
   "outputs": [],
   "source": [
    "echo 'digraph finite_state_machine {\n",
    "        rankdir=LR;\n",
    "        size=\"8,5\"\n",
    "        node [shape = circle];\n",
    "        S0 -> S1 [ label = \"Lift Nozzle\" ]\n",
    "        S1 -> S0 [ label = \"Replace Nozzle\" ]\n",
    "        S1 -> S2 [ label = \"Authorize Pump\" ]\n",
    "        S2 -> S0 [ label = \"Replace Nozzle\" ]\n",
    "        S2 -> S3 [ label = \"Pull Trigger\" ]\n",
    "        S3 -> S2 [ label = \"Release Trigger\" ]\n",
    "}' | pydot"
   ]
  },
  {
   "cell_type": "code",
   "execution_count": null,
   "metadata": {
    "collapsed": false
   },
   "outputs": [],
   "source": [
    "echo 'digraph dfd {    \n",
    "        node[shape=record]\n",
    "        store1 [label=\"<f0> left|<f1> Some data store\"];\n",
    "        proc1 [label=\"{<f0> 1.0|<f1> Some process here\\n\\n\\n}\" shape=Mrecord];\n",
    "        enti1 [label=\"Customer\" shape=box];\n",
    "        store1:f1 -> proc1:f0;\n",
    "        enti1-> proc1:f0;\n",
    "}' | pydot"
   ]
  },
  {
   "cell_type": "code",
   "execution_count": null,
   "metadata": {
    "collapsed": false
   },
   "outputs": [],
   "source": [
    "echo 'digraph dfd2{\n",
    "        node[shape=record]\n",
    "        subgraph level0{\n",
    "        enti1 [label=\"Customer\" shape=box];\n",
    "        enti2 [label=\"Manager\" shape=box];\n",
    "        }\n",
    "        subgraph cluster_level1{\n",
    "                        label =\"Level 1\";\n",
    "                        proc1 [label=\"{<f0> 1.0|<f1> One process here\\n\\n\\n}\" shape=Mrecord];\n",
    "                        proc2 [label=\"{<f0> 2.0|<f1> Other process here\\n\\n\\n}\" shape=Mrecord];\n",
    "                        store1 [label=\"<f0>    |<f1> Data store one\"];\n",
    "                        store2 [label=\"<f0>   |<f1> Data store two\"];\n",
    "                        {rank=same; store1 store2}\n",
    "\n",
    "        }\n",
    "        enti1 -> proc1\n",
    "        enti2 -> proc2\n",
    "        store1 -> proc1\n",
    "        store2 -> proc2\n",
    "        proc1 -> store2\n",
    "        store2 -> proc1 \n",
    "}' | pydot"
   ]
  },
  {
   "cell_type": "code",
   "execution_count": null,
   "metadata": {
    "collapsed": false
   },
   "outputs": [],
   "source": [
    "echo 'digraph obj{\n",
    "        node[shape=record];\n",
    "        rankdir=\"BT\";\n",
    "        \n",
    "        teacher [label = \"{<f0> Teacher|<f1> \\n  |<f2> \\n   }\"];\n",
    "        course [label = \"{<f0> Course|<f1> \\n  |<f2> \\n   }\"];\n",
    "        student [label = \"{<f0> Student|<f1> \\n  |<f2> \\n   }\"];\n",
    "        lesson [label = \"{<f0> Lesson |<f1> \\n  |<f2> \\n   }\"];\n",
    "        tutorial [label = \"{<f0> Tutorial|<f1> \\n  |<f2> \\n   }\"];\n",
    "        assessment[label = \"{<f0> Assessment|<f1> \\n  |<f2> \\n   }\"];\n",
    "        coursework [label = \"{<f0> Coursework|<f1> \\n  |<f2> \\n   }\"];\n",
    "        exam [label = \"{<f0> Exam|<f1> \\n  |<f2> \\n   }\"];\n",
    "\n",
    "        {rank=same; teacher course student}\n",
    "\n",
    "        teacher->course [dir=\"forward\",arrowhead=\"none\",arrowtail=\"normal\",headlabel=\"1\",taillabel=\"1..\"];\n",
    "        student->course [dir=\"forward\",arrowhead=\"none\",arrowtail=\"normal\",headlabel=\"1\",taillabel=\"1..\"];\n",
    "        lesson->course [dir=\"forward\",arrowhead=\"diamond\",arrowtail=\"normal\"];\n",
    "        tutorial->course [dir=\"forward\",arrowhead=\"diamond\",arrowtail=\"normal\"];\n",
    "        assessment->course [dir=\"forward\",arrowhead=\"diamond\",arrowtail=\"normal\"];\n",
    "        coursework->assessment;\n",
    "        exam->assessment;\n",
    "\n",
    "}' | pydot"
   ]
  },
  {
   "cell_type": "code",
   "execution_count": null,
   "metadata": {
    "collapsed": false
   },
   "outputs": [],
   "source": [
    "echo 'digraph ER{\n",
    "        node[shape=box];\n",
    "        Book;\n",
    "        Customer;\n",
    "        Loan;\n",
    "        {rank=same;Book Customer Loan}\n",
    "        Book->Loan[dir=\"forward\",arrowhead=\"crow\",arrowtail=\"normal\"];\n",
    "        Customer->Loan[dir=\"forward\",arrowhead=\"crow\",arrowtail=\"normal\"];\n",
    "}' | pydot"
   ]
  },
  {
   "cell_type": "code",
   "execution_count": null,
   "metadata": {
    "collapsed": false
   },
   "outputs": [],
   "source": [
    "# HERE document:\n",
    "cat <<EOF\n",
    "digraph G { \n",
    "        a; \n",
    "        b; \n",
    "        c -> d; \n",
    "        a -> c; \n",
    "}\n",
    "EOF"
   ]
  },
  {
   "cell_type": "code",
   "execution_count": null,
   "metadata": {
    "collapsed": false
   },
   "outputs": [],
   "source": [
    "# HERE document, piped: (sometimes fails ... fails to see command-prompt in 'shell_magic.py'?)\n",
    "cat <<EOF\n",
    "digraph G { \n",
    "        a; \n",
    "        b; \n",
    "        c -> d; \n",
    "        a -> c; \n",
    "}\n",
    "EOF | cat"
   ]
  },
  {
   "cell_type": "code",
   "execution_count": null,
   "metadata": {
    "collapsed": false
   },
   "outputs": [],
   "source": [
    "# HERE document, piped to pydot:\n",
    "type pydot\n",
    "cat <<EOF\n",
    "digraph G { \n",
    "        piped; \n",
    "        b; \n",
    "        c -> d; \n",
    "        a -> c; \n",
    "}\n",
    "EOF | pydot"
   ]
  },
  {
   "cell_type": "code",
   "execution_count": null,
   "metadata": {
    "collapsed": false
   },
   "outputs": [],
   "source": [
    "typeset +f"
   ]
  },
  {
   "cell_type": "code",
   "execution_count": null,
   "metadata": {
    "collapsed": false
   },
   "outputs": [],
   "source": [
    "type pydot"
   ]
  },
  {
   "cell_type": "code",
   "execution_count": null,
   "metadata": {
    "collapsed": false,
    "slideshow": {
     "slide_type": "slide"
    }
   },
   "outputs": [],
   "source": [
    "cat <<EOF\n",
    "digraph G { \n",
    "        a; \n",
    "        b; \n",
    "        c -> d; \n",
    "        a -> c; \n",
    "}\n",
    "EOF | pydot"
   ]
  },
  {
   "cell_type": "code",
   "execution_count": null,
   "metadata": {
    "collapsed": false
   },
   "outputs": [],
   "source": [
    "%%dot\n",
    "\n",
    "graph A { a->b }\n",
    "\n"
   ]
  },
  {
   "cell_type": "code",
   "execution_count": null,
   "metadata": {
    "collapsed": false
   },
   "outputs": [],
   "source": [
    "%run c:/tools/cygwin/tmp/metakernel_bash_kernel/pydot.UTDx2u9M52"
   ]
  },
  {
   "cell_type": "code",
   "execution_count": null,
   "metadata": {
    "collapsed": false,
    "slideshow": {
     "slide_type": "subslide"
    }
   },
   "outputs": [],
   "source": [
    "ls -altr"
   ]
  },
  {
   "cell_type": "code",
   "execution_count": null,
   "metadata": {
    "collapsed": false,
    "slideshow": {
     "slide_type": "subslide"
    }
   },
   "outputs": [],
   "source": [
    "cd /tmp\n",
    "ls -altr"
   ]
  },
  {
   "cell_type": "code",
   "execution_count": null,
   "metadata": {
    "collapsed": false,
    "slideshow": {
     "slide_type": "subslide"
    }
   },
   "outputs": [],
   "source": [
    "pwd; cd / ; date"
   ]
  },
  {
   "cell_type": "code",
   "execution_count": null,
   "metadata": {
    "collapsed": false
   },
   "outputs": [],
   "source": [
    "df -h"
   ]
  },
  {
   "cell_type": "code",
   "execution_count": null,
   "metadata": {
    "collapsed": false
   },
   "outputs": [],
   "source": [
    "cat /cygdrive/c/HP/drivers/touchpad/img_clicking.png | display"
   ]
  },
  {
   "cell_type": "code",
   "execution_count": null,
   "metadata": {
    "collapsed": false
   },
   "outputs": [],
   "source": [
    "curl -s 'http://mjbright.github.io/images/Mike_4_Chili_Constitucion.smaller.png' | display"
   ]
  },
  {
   "cell_type": "code",
   "execution_count": null,
   "metadata": {
    "collapsed": false,
    "slideshow": {
     "slide_type": "subslide"
    }
   },
   "outputs": [],
   "source": [
    "typeset +f"
   ]
  },
  {
   "cell_type": "code",
   "execution_count": null,
   "metadata": {
    "collapsed": false,
    "slideshow": {
     "slide_type": "slide"
    }
   },
   "outputs": [],
   "source": [
    "%magic"
   ]
  },
  {
   "cell_type": "code",
   "execution_count": null,
   "metadata": {
    "collapsed": false,
    "slideshow": {
     "slide_type": "slide"
    }
   },
   "outputs": [],
   "source": [
    "%%python\n",
    "\n",
    "print(\"Hello World\")"
   ]
  },
  {
   "cell_type": "code",
   "execution_count": null,
   "metadata": {
    "collapsed": false,
    "slideshow": {
     "slide_type": "slide"
    }
   },
   "outputs": [],
   "source": [
    "%%html\n",
    "<h1> Some hypertext </h1>"
   ]
  },
  {
   "cell_type": "code",
   "execution_count": null,
   "metadata": {
    "collapsed": false
   },
   "outputs": [],
   "source": [
    "%%python\n",
    "\n",
    "import os, re\n",
    "\n",
    "def getCygwinPath():\n",
    "    ''' Search in available drives for a cygwin installation '''\n",
    "    \n",
    "    # Find available drives in form \"C:\\\"\n",
    "    drives = re.findall(r\"[A-Z]+:.*$\", os.popen(\"mountvol /\").read(),re.MULTILINE)\n",
    "\n",
    "    # For each drive look for C:\\cygwin, C:\\cygwin64, C:\\*\\cygwin, C:\\*\\cygwin64\n",
    "    for drive in drives:\n",
    "        drive_root = drive[:2] + '/'\n",
    "        \n",
    "        dirs = [ '' ]\n",
    "        dirs.extend( os.listdir( drive_root ) )\n",
    "        for path in dirs:\n",
    "            path = drive_root + path\n",
    "            for cygwin in ['cygwin', 'cygwin64']:\n",
    "                if os.path.exists( path + '/' + cygwin):\n",
    "                    return(path + '/' + cygwin)\n",
    "    return None\n",
    "\n",
    "cygwinPath = getCygwinPath()\n",
    "if cygwinPath: print(cygwinPath)"
   ]
  },
  {
   "cell_type": "code",
   "execution_count": null,
   "metadata": {
    "collapsed": false
   },
   "outputs": [],
   "source": [
    "%%python\n",
    "\n",
    "import IPython\n",
    "\n",
    "# This is nice to have but we want rather something which is callable from a bash kernel\n",
    "# how?\n",
    "def displayMysqlTableTextAsHTML(text):\n",
    "    header=False\n",
    "    colNames=[]\n",
    "    values=[]\n",
    "    for line in text.split('\\n'):\n",
    "        line = line.strip()\n",
    "        row=[]\n",
    "        if len(line) != 0 and line[0] != '+' and line[0] == '|':\n",
    "            if not header:\n",
    "                header=True\n",
    "                colNames = [ colName.strip() for colName in (line.strip())[1:-1].split('|')]\n",
    "            else:\n",
    "                row = [ value.strip() for value in (line.strip())[1:-1].split('|')]\n",
    "                values.append(row)\n",
    "\n",
    "    table = '<table>' + \\\n",
    "        '<tr>' + '\\n'.join( [ '<th>'+colName+'</th>' for colName in colNames ] ) + '\\n</tr>\\n' + \\\n",
    "        '\\n'.join([ '<tr>'+ \\\n",
    "            #str(row) + \\\n",
    "                   '\\n    '.join( [ '<td>'+value+'</td>' for value in row ] ) +\n",
    "          '\\n</tr>' for row in values ]) +\\\n",
    "        '</table>'\n",
    "\n",
    "    #print(table)\n",
    "    return IPython.display.HTML(table)\n",
    "\n",
    "text='''\n",
    "+-------+-------+-------+-----+\n",
    "  |  col1 | col2  |  col3 |col4 |  \n",
    "+-------+-------+-------+-----+\n",
    "|  val1 | val2  |  val3 |val4 |\n",
    "|  valu1|value2 |value3|val4|\n",
    "+-------+-------+-------+-----+\n",
    "'''\n",
    "retval = displayMysqlTableTextAsHTML(text)"
   ]
  },
  {
   "cell_type": "code",
   "execution_count": null,
   "metadata": {
    "collapsed": false
   },
   "outputs": [],
   "source": [
    "%%python\n",
    "\n",
    "s = \"\"\"<table>\n",
    "<tr>\n",
    "<th>Header 1</th>\n",
    "<th>Header 2</th>\n",
    "</tr>\n",
    "<tr>\n",
    "<td>row 1, cell 1</td>\n",
    "<td>row 1, cell 2</td>\n",
    "</tr>\n",
    "<tr>\n",
    "<td>row 2, cell 1</td>\n",
    "<td>row 2, cell 2</td>\n",
    "</tr>\n",
    "</table>\"\"\"\n",
    "\n",
    "#h = IPython.display.HTML(s); h\n",
    "h = IPython.display.HTML(s);\n",
    "#IPython.display(h)\n"
   ]
  },
  {
   "cell_type": "code",
   "execution_count": null,
   "metadata": {
    "collapsed": false
   },
   "outputs": [],
   "source": [
    "%%python\n",
    "\n",
    "from IPython.core.display import display, HTML\n",
    "display(HTML('<h1>Hello, world!</h1>'))\n",
    "IPython.display.HTML(\"<b>bold</b>\")"
   ]
  },
  {
   "cell_type": "code",
   "execution_count": null,
   "metadata": {
    "collapsed": true
   },
   "outputs": [],
   "source": [
    "%%python\n",
    "\n",
    "import IPython\n",
    "#from IPython.core.display import display, HTML\n",
    "IPython.display.HTML(\"<b>bold</b>\")"
   ]
  },
  {
   "cell_type": "code",
   "execution_count": null,
   "metadata": {
    "collapsed": true
   },
   "outputs": [],
   "source": [
    "%python import IPython; IPython.display.HTML(\"<b>bold</b>\")"
   ]
  },
  {
   "cell_type": "code",
   "execution_count": null,
   "metadata": {
    "collapsed": false
   },
   "outputs": [],
   "source": [
    "%python print(\"Hi from Python\")"
   ]
  },
  {
   "cell_type": "code",
   "execution_count": null,
   "metadata": {
    "collapsed": true
   },
   "outputs": [],
   "source": [
    "%set A 1\n",
    "%get A\n",
    "echo $A\n",
    "set\n",
    "pwd\n",
    "echo $PWD"
   ]
  },
  {
   "cell_type": "code",
   "execution_count": null,
   "metadata": {
    "collapsed": false
   },
   "outputs": [],
   "source": [
    "pwd"
   ]
  },
  {
   "cell_type": "code",
   "execution_count": null,
   "metadata": {
    "collapsed": true
   },
   "outputs": [],
   "source": [
    "%help"
   ]
  },
  {
   "cell_type": "code",
   "execution_count": null,
   "metadata": {
    "collapsed": false
   },
   "outputs": [],
   "source": [
    "%%debug\n",
    "echo \"HERE OK\"\n",
    "A=1\n",
    "B=2\n",
    "echo $A"
   ]
  },
  {
   "cell_type": "code",
   "execution_count": null,
   "metadata": {
    "collapsed": false
   },
   "outputs": [],
   "source": [
    "A=\"Hello World\"\n",
    "echo $A\n",
    "echo hi\n",
    "export A"
   ]
  },
  {
   "cell_type": "code",
   "execution_count": null,
   "metadata": {
    "collapsed": false
   },
   "outputs": [],
   "source": [
    "%%python\n",
    "\n",
    "import os\n",
    "\n",
    "print(os.getenv(\"A\"))"
   ]
  },
  {
   "cell_type": "code",
   "execution_count": null,
   "metadata": {
    "collapsed": false
   },
   "outputs": [],
   "source": [
    "%html <b>Be bold, ok!<b>"
   ]
  },
  {
   "cell_type": "code",
   "execution_count": null,
   "metadata": {
    "collapsed": true
   },
   "outputs": [],
   "source": [
    "%get A\n",
    "\n",
    "print(A)"
   ]
  },
  {
   "cell_type": "code",
   "execution_count": null,
   "metadata": {
    "collapsed": true
   },
   "outputs": [],
   "source": [
    "%help help"
   ]
  },
  {
   "cell_type": "code",
   "execution_count": null,
   "metadata": {
    "collapsed": false
   },
   "outputs": [],
   "source": [
    "%dot graph A { a->b };"
   ]
  },
  {
   "cell_type": "code",
   "execution_count": null,
   "metadata": {
    "collapsed": false
   },
   "outputs": [],
   "source": [
    "%%python\n",
    "\n",
    "import pydotplus as pydot\n",
    "\n"
   ]
  },
  {
   "cell_type": "code",
   "execution_count": null,
   "metadata": {
    "collapsed": false
   },
   "outputs": [],
   "source": [
    "%%python\n",
    "\n",
    "import os\n",
    "print(os.name)\n",
    "\n",
    "import platform\n",
    "print(platform.system())\n",
    "print(platform.platform())\n",
    "print(platform.machine())\n",
    "#print(platform.os)\n",
    "print(platform.release())\n",
    "print(platform.version())\n",
    "\n",
    "#print('\\n'.join(dir(platform)))\n"
   ]
  },
  {
   "cell_type": "code",
   "execution_count": null,
   "metadata": {
    "collapsed": false
   },
   "outputs": [],
   "source": [
    "uname -a"
   ]
  },
  {
   "cell_type": "code",
   "execution_count": null,
   "metadata": {
    "collapsed": false
   },
   "outputs": [],
   "source": [
    "uname"
   ]
  },
  {
   "cell_type": "code",
   "execution_count": null,
   "metadata": {
    "collapsed": false
   },
   "outputs": [],
   "source": [
    "%%file test.dot\n",
    "%%dot\n",
    "graph A { a->b->itworks };"
   ]
  },
  {
   "cell_type": "code",
   "execution_count": null,
   "metadata": {
    "collapsed": true
   },
   "outputs": [],
   "source": [
    "%load test.dot"
   ]
  },
  {
   "cell_type": "code",
   "execution_count": null,
   "metadata": {
    "collapsed": false
   },
   "outputs": [],
   "source": [
    "echo -e \"%%dot\\ngraph A { a->b->\\\"$(date)\\\" };\" > test2.dot"
   ]
  },
  {
   "cell_type": "code",
   "execution_count": null,
   "metadata": {
    "collapsed": false
   },
   "outputs": [],
   "source": [
    "%run test2.dot"
   ]
  },
  {
   "cell_type": "code",
   "execution_count": null,
   "metadata": {
    "collapsed": false
   },
   "outputs": [],
   "source": [
    "%%dot\n",
    "graph A { a->b->itworks };\n"
   ]
  },
  {
   "cell_type": "code",
   "execution_count": null,
   "metadata": {
    "collapsed": false
   },
   "outputs": [],
   "source": [
    "%%dot\n",
    "\n",
    "graph A { a->b->itworks };\n"
   ]
  },
  {
   "cell_type": "code",
   "execution_count": null,
   "metadata": {
    "collapsed": false
   },
   "outputs": [],
   "source": [
    "%%dot\n",
    "graph A { a->b->itworks };"
   ]
  },
  {
   "cell_type": "code",
   "execution_count": null,
   "metadata": {
    "collapsed": false
   },
   "outputs": [],
   "source": [
    "%run test.dot"
   ]
  },
  {
   "cell_type": "code",
   "execution_count": null,
   "metadata": {
    "collapsed": false
   },
   "outputs": [],
   "source": [
    "%dot graph A { a->b->c->d; b->d };"
   ]
  },
  {
   "cell_type": "code",
   "execution_count": null,
   "metadata": {
    "collapsed": false
   },
   "outputs": [],
   "source": [
    "%%dot\n",
    "graph A { a->b->c };"
   ]
  },
  {
   "cell_type": "code",
   "execution_count": null,
   "metadata": {
    "collapsed": false
   },
   "outputs": [],
   "source": [
    "echo \"Hello\""
   ]
  },
  {
   "cell_type": "code",
   "execution_count": null,
   "metadata": {
    "collapsed": false
   },
   "outputs": [],
   "source": [
    "%%python -e\n",
    "\"echo hello world from bash\""
   ]
  },
  {
   "cell_type": "code",
   "execution_count": null,
   "metadata": {
    "collapsed": true
   },
   "outputs": [],
   "source": [
    "%%python -e\n",
    "retval = \"'(echo this is code in the kernel language)\""
   ]
  },
  {
   "cell_type": "code",
   "execution_count": null,
   "metadata": {
    "collapsed": true
   },
   "outputs": [],
   "source": [
    "%%python -e\n",
    "\"'(echo this is code in the kernel language)\""
   ]
  },
  {
   "cell_type": "code",
   "execution_count": null,
   "metadata": {
    "collapsed": true
   },
   "outputs": [],
   "source": [
    "%%python -e\n",
    "\"date\""
   ]
  },
  {
   "cell_type": "code",
   "execution_count": null,
   "metadata": {
    "collapsed": false
   },
   "outputs": [],
   "source": [
    "%%python -e\n",
    "\"'(date)\""
   ]
  },
  {
   "cell_type": "code",
   "execution_count": null,
   "metadata": {
    "collapsed": false
   },
   "outputs": [],
   "source": [
    "%%python -e\n",
    "\"'echo this is code in the kernel language\""
   ]
  },
  {
   "cell_type": "code",
   "execution_count": null,
   "metadata": {
    "collapsed": true
   },
   "outputs": [],
   "source": [
    "%%show --output\n",
    "retval = 54 * 54"
   ]
  },
  {
   "cell_type": "code",
   "execution_count": null,
   "metadata": {
    "collapsed": false
   },
   "outputs": [],
   "source": [
    "%set pycmd \"print('Hello World')\""
   ]
  },
  {
   "cell_type": "code",
   "execution_count": null,
   "metadata": {
    "collapsed": false
   },
   "outputs": [],
   "source": [
    "%get pycmd"
   ]
  },
  {
   "cell_type": "code",
   "execution_count": null,
   "metadata": {
    "collapsed": true
   },
   "outputs": [],
   "source": []
  },
  {
   "cell_type": "code",
   "execution_count": null,
   "metadata": {
    "collapsed": false
   },
   "outputs": [],
   "source": [
    "%%time\n",
    "ls -al"
   ]
  },
  {
   "cell_type": "code",
   "execution_count": null,
   "metadata": {
    "collapsed": false
   },
   "outputs": [],
   "source": [
    "%html <u>This is underlined!</u>"
   ]
  },
  {
   "cell_type": "code",
   "execution_count": null,
   "metadata": {
    "collapsed": true
   },
   "outputs": [],
   "source": [
    "%javascript console.log(\"Print in the browser console\")\n",
    "%javascript alert(\"Show this popup!\")"
   ]
  },
  {
   "cell_type": "code",
   "execution_count": null,
   "metadata": {
    "collapsed": true
   },
   "outputs": [],
   "source": [
    "#%kernel bash_kernel BashKernel -k bash\n",
    "%kernel bash_kernel MetaKernel_Bash -k bash\n",
    "#%kx echo hello\n",
    "%kernel ls -al\n",
    "%kx ls -al"
   ]
  },
  {
   "cell_type": "code",
   "execution_count": null,
   "metadata": {
    "collapsed": false
   },
   "outputs": [],
   "source": [
    "%kx -k bash ls -al"
   ]
  },
  {
   "cell_type": "code",
   "execution_count": null,
   "metadata": {
    "collapsed": false
   },
   "outputs": [],
   "source": [
    "ls -al\n",
    "echo HELLO\n",
    "%load README.md"
   ]
  },
  {
   "cell_type": "code",
   "execution_count": null,
   "metadata": {
    "collapsed": false
   },
   "outputs": [],
   "source": [
    "%macro -l all"
   ]
  },
  {
   "cell_type": "code",
   "execution_count": null,
   "metadata": {
    "collapsed": true
   },
   "outputs": [],
   "source": [
    "%%macro my_test_macro\n",
    "#print \"Ok!\"\n",
    "#ls -al\n",
    "echo \"This is a test macro!\""
   ]
  },
  {
   "cell_type": "code",
   "execution_count": null,
   "metadata": {
    "collapsed": false
   },
   "outputs": [],
   "source": [
    "%macro my_test_macro"
   ]
  },
  {
   "cell_type": "code",
   "execution_count": null,
   "metadata": {
    "collapsed": true
   },
   "outputs": [],
   "source": [
    "%macro -l learned"
   ]
  },
  {
   "cell_type": "code",
   "execution_count": null,
   "metadata": {
    "collapsed": true
   },
   "outputs": [],
   "source": [
    "%macro -s my_test_macro"
   ]
  },
  {
   "cell_type": "code",
   "execution_count": null,
   "metadata": {
    "collapsed": false
   },
   "outputs": [],
   "source": [
    "myfunc() { echo \"My function with arg[$1]!\"; }"
   ]
  },
  {
   "cell_type": "code",
   "execution_count": null,
   "metadata": {
    "collapsed": false
   },
   "outputs": [],
   "source": [
    "myfunc test_arg"
   ]
  },
  {
   "cell_type": "code",
   "execution_count": null,
   "metadata": {
    "collapsed": false
   },
   "outputs": [],
   "source": [
    "%parallel bash_kernel BashKernel --i [0,2:5,9,...]"
   ]
  },
  {
   "cell_type": "code",
   "execution_count": null,
   "metadata": {
    "collapsed": true
   },
   "outputs": [],
   "source": [
    "%plot qt --format=png\n",
    "%plot inline -s 640,480"
   ]
  },
  {
   "cell_type": "code",
   "execution_count": null,
   "metadata": {
    "collapsed": false
   },
   "outputs": [],
   "source": [
    "%pmap function-name-in-language range(10)\n",
    "%pmap function-name-in-language [1,2,3,4]\n",
    "%pmap run_experiment range(1,100,5)\n",
    "%pmap run_experiment [\"test1\",\"test2\",\"test3\"]\n",
    "%pmap f [(1,4,7),(2,3,5),(7,2,2)]"
   ]
  },
  {
   "cell_type": "code",
   "execution_count": null,
   "metadata": {
    "collapsed": false
   },
   "outputs": [],
   "source": [
    "%%px\n",
    "(define myfunc\n",
    "   (lambda (n)\n",
    "     (+ n 1)))"
   ]
  },
  {
   "cell_type": "code",
   "execution_count": null,
   "metadata": {
    "collapsed": false
   },
   "outputs": [],
   "source": [
    "%px sys.version"
   ]
  },
  {
   "cell_type": "code",
   "execution_count": null,
   "metadata": {
    "collapsed": false
   },
   "outputs": [],
   "source": [
    "%lsmagic"
   ]
  },
  {
   "cell_type": "code",
   "execution_count": null,
   "metadata": {
    "collapsed": false
   },
   "outputs": [],
   "source": [
    "%%tutor --language=python3\n",
    "\n",
    "a=1\n",
    "print(a)"
   ]
  },
  {
   "cell_type": "code",
   "execution_count": null,
   "metadata": {
    "collapsed": false
   },
   "outputs": [],
   "source": [
    "%magic"
   ]
  },
  {
   "cell_type": "code",
   "execution_count": null,
   "metadata": {
    "collapsed": false
   },
   "outputs": [],
   "source": [
    "%ls"
   ]
  },
  {
   "cell_type": "code",
   "execution_count": null,
   "metadata": {
    "collapsed": false
   },
   "outputs": [],
   "source": [
    "# NOTE: Installed GraphViz for Windows from .msi (http://www.graphviz.org/Download_windows.php)\n",
    "# NOTE: Modified metakernel/magics/dot_magic.py to use\n",
    "#        import pydotplus as pydot\n",
    "%dot graph A { a->b };"
   ]
  },
  {
   "cell_type": "code",
   "execution_count": null,
   "metadata": {
    "collapsed": false
   },
   "outputs": [],
   "source": [
    "%%python\n",
    "\n",
    "import pydotplus as pydot\n",
    "\n",
    "pydot.graph_from_dot_data(\"graph A { a->b }\")"
   ]
  },
  {
   "cell_type": "code",
   "execution_count": null,
   "metadata": {
    "collapsed": false
   },
   "outputs": [],
   "source": [
    "%%python\n",
    "\n",
    "# -*- coding: utf-8 -*-\n",
    "\"\"\"\n",
    "pydot example 1\n",
    "@author: Federico Cáceres\n",
    "@url: http://pythonhaven.wordpress.com/2009/12/09/generating_graphs_with_pydot\n",
    "\"\"\"\n",
    "import pydotplus as pydot # import pydot or you're not going to get anywhere my friend :D\n",
    "\n",
    "# first you create a new graph, you do that with pydot.Dot()\n",
    "graph = pydot.Dot(graph_type='graph')\n",
    "\n",
    "# the idea here is not to cover how to represent the hierarchical data\n",
    "# but rather how to graph it, so I'm not going to work on some fancy\n",
    "# recursive function to traverse a multidimensional array...\n",
    "# I'm going to hardcode stuff... sorry if that offends you\n",
    "\n",
    "# let's add the relationship between the king and vassals\n",
    "for i in range(3):\n",
    "    # we can get right into action by \"drawing\" edges between the nodes in our graph\n",
    "    # we do not need to CREATE nodes, but if you want to give them some custom style\n",
    "    # then I would recomend you to do so... let's cover that later\n",
    "    # the pydot.Edge() constructor receives two parameters, a source node and a destination\n",
    "    # node, they are just strings like you can see\n",
    "    edge = pydot.Edge(\"king\", \"lord%d\" % i)\n",
    "    # and we obviosuly need to add the edge to our graph\n",
    "    graph.add_edge(edge)\n",
    "\n",
    "# now let us add some vassals\n",
    "vassal_num = 0\n",
    "for i in range(3):\n",
    "    # we create new edges, now between our previous lords and the new vassals\n",
    "    # let us create two vassals for each lord\n",
    "    for j in range(2):\n",
    "        edge = pydot.Edge(\"lord%d\" % i, \"vassal%d\" % vassal_num)\n",
    "        graph.add_edge(edge)\n",
    "        vassal_num += 1\n",
    "\n",
    "# ok, we are set, let's save our graph into a file\n",
    "graph.write_png('example1_graph.png')\n",
    "\n",
    "# and we are done!"
   ]
  },
  {
   "cell_type": "code",
   "execution_count": null,
   "metadata": {
    "collapsed": false
   },
   "outputs": [],
   "source": [
    "source /home/mjbright/src/git/GIT_mjbright/metakernel/metakernel_bash/metakernelrc"
   ]
  },
  {
   "cell_type": "code",
   "execution_count": null,
   "metadata": {
    "collapsed": false
   },
   "outputs": [],
   "source": [
    "lightning"
   ]
  },
  {
   "cell_type": "code",
   "execution_count": null,
   "metadata": {
    "collapsed": false
   },
   "outputs": [],
   "source": [
    "echo | html_table"
   ]
  },
  {
   "cell_type": "code",
   "execution_count": null,
   "metadata": {
    "collapsed": true
   },
   "outputs": [],
   "source": []
  }
 ],
 "metadata": {
  "celltoolbar": "Slideshow",
  "kernelspec": {
   "display_name": "MetaKernel Bash",
   "language": "bash",
   "name": "metakernel_bash"
  },
  "language_info": {
   "file_extension": ".sh",
   "help_links": [
    {
     "text": "MetaKernel Magics",
     "url": "https://github.com/calysto/metakernel/blob/master/metakernel/magics/README.md"
    }
   ],
   "mimetype": "text/x-bash",
   "name": "bash"
  }
 },
 "nbformat": 4,
 "nbformat_minor": 0
}
