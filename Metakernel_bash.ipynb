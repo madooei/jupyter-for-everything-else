{
 "cells": [
  {
   "cell_type": "markdown",
   "metadata": {
    "slideshow": {
     "slide_type": "notes"
    }
   },
   "source": [
    "# TODO:\n",
    "  \n",
    "- Look at GraphTerm ([see e-mails](https://mail.google.com/mail/u/0/#search/xmlterm/138d5fe41f1ce24c), [see github](https://github.com/mitotic/graphterm))\n",
    "  - Investigate ideas, evaluate value of Jupyter/metakernel_bash versus GraphTerm\n",
    "  - Kudos to this guy for GraphTerm, xmlterm and [xmlterm](https://github.com/gandrewstone/xmlterm) and mention other projects mentioned in his github page\n",
    "  - Try out these other projects ..\n",
    "  \n",
    "- Put forward bash advantages of pipelines (e.g. pipe cmd-line tools into graphic render functions)\n",
    "\n",
    "- Use command-line data handling tools: See [dhoban](https://github.com/dbohdan/structured-text-tools?utm_source=hackernewsletter&utm_medium=email&utm_term=fav)\n",
    "\n",
    "- csv_barchart <csvfile> (or stdin, or URL like metakernel_magics)\n",
    "    - USE unique div ids (based on what -> cell number or *date_time*?)\n",
    "    \n",
    "- du_d3js # show pie chart\n",
    "    - watch_du_d3js # show pie chart - with periodic updates\n",
    "    - interactive d3.js examples\n",
    "\n",
    "- xmlterm: xls, xfind, ...\n",
    "    - xwatch <watchoptions> [<du> -a/-s|df| ls -h]\n",
    "\n",
    "- how to do lightning from js w/o npm ?\n",
    "  - Can I just ref js files from https://github.com/lightning-viz/lightning.js/tree/master/lib\n",
    "\n",
    "- Graphical or HTML/pretty displays of\n",
    "  - OpenStack images, instances, networks\n",
    "  - Docker images, instances, networks\n",
    "  - Database data: MySQL, PostgreSQL, MongoDB, BerkelyDB?\n",
    "  - bash structures (arrays, assoc. arrays)\n",
    "  \n",
    "- Create bash functions which invoke Python interactivity,\n",
    "  - e.g. du -s DIR (choose DIR from Python dropdown box?)"
   ]
  },
  {
   "cell_type": "markdown",
   "metadata": {},
   "source": [
    "# TODO\n",
    "\n",
    "#### Top level\n",
    "- Ability to display images (useful use cases?)\n",
    "- OpenStack cli\n",
    "  - nova list/nova images ==> html table\n",
    "- Docker cli\n",
    "  - docker ps ==> html table (or graphic showing image size/resources, coloured by image?)\n",
    "  - docker images ==> html table (or graphic showing relations, size/resources)\n",
    "- du -s (any spaced or csv tabular output) ==> html table OR graphics (histogram, pie chart)\n",
    "  - hierarchical pie chart like overdisk?\n",
    "- Integration with d3.js visualizations\n",
    "\n",
    "#### To add\n",
    "- %functions and %lsmagic: to list bash functions (display, pydot)\n",
    "- Create pydot function dimilar to display, allowing to create graphs by:\n",
    "    - echo -e \"%%dot\\nGRAPH\" | pydot\n",
    "- How to **pass variables** between bash and Python?\n",
    "- Try \"display\" or D3.js like functionality for results of bash commands, e.g. du -s\n",
    "  - direct in cells, or via %%javascript, %%python magics\n",
    "- Try interactive widgets\n",
    "- Extend metakernel_bash with display, d3, interactive widgets, HTML table rendering"
   ]
  },
  {
   "cell_type": "code",
   "execution_count": null,
   "metadata": {
    "collapsed": false
   },
   "outputs": [],
   "source": [
    "# NO: don't do piped 'here' documents, this crashes the metakernel ...\n",
    "#cat <<EOF\n",
    "#hello\n",
    "#EOF | cat"
   ]
  },
  {
   "cell_type": "code",
   "execution_count": 8,
   "metadata": {
    "collapsed": false
   },
   "outputs": [
    {
     "data": {},
     "execution_count": 8,
     "metadata": {},
     "output_type": "execute_result"
    }
   ],
   "source": [
    "# Functions to reload local metakernelrcs:\n",
    "function reread_local_metakernelrc { source /home/mjbright/src/git/GIT_mjbright/metakernel/metakernel_bash/metakernelrc; }\n",
    "function reread_local_user_metakernelrc { source /home/mjbright/src/git/GIT_mjbright/metakernel/metakernel_bash/metakernelrc.user; }"
   ]
  },
  {
   "cell_type": "code",
   "execution_count": null,
   "metadata": {
    "collapsed": false
   },
   "outputs": [],
   "source": [
    "pwd"
   ]
  },
  {
   "cell_type": "code",
   "execution_count": null,
   "metadata": {
    "collapsed": false
   },
   "outputs": [],
   "source": [
    "%%javascript\n",
    "\n",
    "// NOT WORKING: maybe because of gvim path?\n",
    "//  **KILLS KERNEL*\n",
    "\n",
    "// -----------------------------------------------------------\n",
    "// To edit cell contents with gvim, type 'g':\n",
    "// -----------------------------------------------------------\n",
    "//var file='.toto.py';\n",
    "var file='c:/tools/cygwin/tmp/edit_file';\n",
    "\n",
    "IPython.keyboard_manager.command_shortcuts.add_shortcut('g', {\n",
    "    handler : function (event) {\n",
    "        var input = IPython.notebook.get_selected_cell().get_text();\n",
    "        var cmd = \"f = open('\" + file + \"', 'w');f.close()\";\n",
    "        if (input != \"\") {\n",
    "            //cmd = '%%writefile ' + file + '\\n' + input;\n",
    "            cmd = '%%file ' + file + '\\n' + input;\n",
    "        }\n",
    "        //var loc = window.location.pathname;\n",
    "        //window.alert('writing input <' + input + '> to file: <' + loc + '/' + file + '>');\n",
    "        window.alert('writing input <' + input + '> to file: <' + file + '>');\n",
    "        window.alert('running cmd <' + cmd + '> ');\n",
    "        IPython.notebook.kernel.execute(cmd);\n",
    "        \n",
    "        //cmd = \"import os;os.system('c:/tools/cygwin/bin/ls '\" + file + \")\";\n",
    "        //cmd = \"import os;os.system('ls -al')\";\n",
    "        //cmd = \"import os;os.system('c:/Portable/PortableApps/gVimPortable/gVimPortable.exe .toto.py')\";\n",
    "        cmd = \"import os;os.system('c:/Portable/PortableApps/gVimPortable/gVimPortable.exe \" + file + \"')\";\n",
    "        window.alert('running cmd <' + cmd + '> ');\n",
    "\n",
    "        IPython.notebook.kernel.execute(cmd);\n",
    "        return false;\n",
    "    }}\n",
    ");\n",
    "\n",
    "// -----------------------------------------------------------\n",
    "// To update cell contents with gvim saved text, type 'u':\n",
    "// -----------------------------------------------------------\n",
    "IPython.keyboard_manager.command_shortcuts.add_shortcut('u', {\n",
    "    handler : function (event) {\n",
    "        function handle_output(msg) {\n",
    "            var ret = msg.content.text;\n",
    "            IPython.notebook.get_selected_cell().set_text(ret);\n",
    "        }\n",
    "        var callback = {'output': handle_output};\n",
    "        var cmd = \"f = open('\" + file + \"', 'r');print(f.read())\";\n",
    "        IPython.notebook.kernel.execute(cmd, {iopub: callback}, {silent: false});\n",
    "        return false;\n",
    "    }}\n",
    ");"
   ]
  },
  {
   "cell_type": "code",
   "execution_count": null,
   "metadata": {
    "collapsed": false
   },
   "outputs": [],
   "source": [
    "%%file c:/tools/cygwin/tmp/test_file\n",
    "\n",
    "hello world"
   ]
  },
  {
   "cell_type": "code",
   "execution_count": null,
   "metadata": {
    "collapsed": false
   },
   "outputs": [],
   "source": [
    "ls -al"
   ]
  },
  {
   "cell_type": "code",
   "execution_count": null,
   "metadata": {
    "collapsed": false
   },
   "outputs": [],
   "source": [
    "reread_metakernelrc"
   ]
  },
  {
   "cell_type": "code",
   "execution_count": null,
   "metadata": {
    "collapsed": false
   },
   "outputs": [],
   "source": [
    "reread_user_metakernelrc"
   ]
  },
  {
   "cell_type": "code",
   "execution_count": null,
   "metadata": {
    "collapsed": false
   },
   "outputs": [],
   "source": [
    "reread_metakernelrc"
   ]
  },
  {
   "cell_type": "code",
   "execution_count": null,
   "metadata": {
    "collapsed": false
   },
   "outputs": [],
   "source": [
    "echo \"window.alert('hello world - via \\\"window.alert() | js\\\"')\" | js"
   ]
  },
  {
   "cell_type": "code",
   "execution_count": null,
   "metadata": {
    "collapsed": false
   },
   "outputs": [],
   "source": [
    "%javascript console.log(\"Print in the browser console - via \\\"%javascript magic (console.log)\\\"\")\n",
    "%javascript window.alert(\"Show this popup - via \\\"%javascript magic (alert())\\\"\")"
   ]
  },
  {
   "cell_type": "code",
   "execution_count": null,
   "metadata": {
    "collapsed": false
   },
   "outputs": [],
   "source": [
    "echo \"import sys; print('hello world from Python v{}.{}.{}({})'.format(sys.version_info[0],sys.version_info[1],sys.version_info[2],sys.version_info[3]))\" | PYTHON"
   ]
  },
  {
   "cell_type": "code",
   "execution_count": null,
   "metadata": {
    "collapsed": false
   },
   "outputs": [],
   "source": [
    "echo \"<h1>An html header <!-- A comment --></h1>\" | html"
   ]
  },
  {
   "cell_type": "code",
   "execution_count": null,
   "metadata": {
    "collapsed": false
   },
   "outputs": [],
   "source": [
    "echo \"<h1>A table <!-- A comment --></h1>\n",
    "<table><tr><th>col1</th>\n",
    "<th>col2</th>\n",
    "<th>col3</th>\n",
    "<th>col4</th>\n",
    "</tr>\n",
    "<tr><td>val1</td>\n",
    "    <td>val2</td>\n",
    "    <td>val3</td>\n",
    "    <td>val4</td>\n",
    "</tr>\n",
    "<tr><td>valu1</td>\n",
    "    <td>value2</td>\n",
    "    <td>value3</td>\n",
    "    <td>val4</td>\n",
    "</tr></table>\" | html"
   ]
  },
  {
   "cell_type": "code",
   "execution_count": null,
   "metadata": {
    "collapsed": false
   },
   "outputs": [],
   "source": [
    "test_html_table | html"
   ]
  },
  {
   "cell_type": "code",
   "execution_count": 55,
   "metadata": {
    "collapsed": false
   },
   "outputs": [
    {
     "data": {
      "text/plain": [
       "[Sat, May 21, 2016 10:42:51 PM] Sourcing <</home/mjbright/src/git/GIT_mjbright/metakernel/metakernel_bash/metakernelrc>>\n",
       "[Sat, May 21, 2016 10:42:51 PM] Sourcing <</home/mjbright/src/git/GIT_mjbright/metakernel/metakernel_bash/metakernelrc.user>>"
      ]
     },
     "execution_count": 55,
     "metadata": {},
     "output_type": "execute_result"
    }
   ],
   "source": [
    "reread_local_metakernelrc\n",
    "reread_local_user_metakernelrc"
   ]
  },
  {
   "cell_type": "markdown",
   "metadata": {},
   "source": [
    "Below data and initial csv_barchart copied/adapted from one of [d3noobs blocks](http://bl.ocks.org/d3noob) here:\n",
    " http://bl.ocks.org/d3noob/b3ff6ae1c120eea654b5"
   ]
  },
  {
   "cell_type": "code",
   "execution_count": 56,
   "metadata": {
    "collapsed": false
   },
   "outputs": [
    {
     "name": "stdout",
     "output_type": "stream",
     "text": [
      "Created file 'C:\\tools\\cygwin\\home\\mjbright\\src\\git\\GIT_mjbright\\jupyter-for-everything-else\\data.csv'.\n"
     ]
    }
   ],
   "source": [
    "%%file data.csv\n",
    "date,close\n",
    "1-May-12,58.13\n",
    "30-Apr-12,53.98\n",
    "27-Apr-12,67.00\n",
    "26-Apr-12,89.70\n",
    "25-Apr-12,99.00\n",
    "24-Apr-12,130.28\n",
    "23-Apr-12,166.70\n",
    "20-Apr-12,234.98\n",
    "19-Apr-12,345.44\n",
    "18-Apr-12,443.34\n",
    "17-Apr-12,543.70\n",
    "16-Apr-12,580.13\n",
    "13-Apr-12,605.23\n",
    "12-Apr-12,622.77\n",
    "11-Apr-12,626.20\n",
    "10-Apr-12,628.44\n",
    "9-Apr-12,636.23\n",
    "5-Apr-12,633.68\n",
    "4-Apr-12,624.31\n",
    "3-Apr-12,629.32\n",
    "2-Apr-12,618.63\n",
    "30-Mar-12,599.55\n",
    "29-Mar-12,609.86\n",
    "28-Mar-12,617.62\n",
    "27-Mar-12,614.48\n",
    "26-Mar-12,606.98"
   ]
  },
  {
   "cell_type": "markdown",
   "metadata": {},
   "source": [
    "How about displaying that csv data in d3.js, called from a bash function?"
   ]
  },
  {
   "cell_type": "code",
   "execution_count": 57,
   "metadata": {
    "collapsed": false
   },
   "outputs": [
    {
     "data": {
      "text/html": [
       "<?xml version=\"1.0\" encoding=\"UTF-8\" standalone=\"no\"?>\r\n",
       "<!DOCTYPE svg PUBLIC \"-//W3C//DTD SVG 1.1//EN\"\r\n",
       " \"http://www.w3.org/Graphics/SVG/1.1/DTD/svg11.dtd\">\r\n",
       "<!-- Generated by graphviz version 2.38.0 (20140413.2041)\r\n",
       " -->\r\n",
       "<!-- Title: A Pages: 1 -->\r\n",
       "<svg width=\"62pt\" height=\"116pt\"\r\n",
       " viewBox=\"0.00 0.00 62.00 116.00\" xmlns=\"http://www.w3.org/2000/svg\" xmlns:xlink=\"http://www.w3.org/1999/xlink\">\r\n",
       "<g id=\"graph0\" class=\"graph\" transform=\"scale(1 1) rotate(0) translate(4 112)\">\r\n",
       "<title>A</title>\r\n",
       "<polygon fill=\"white\" stroke=\"none\" points=\"-4,4 -4,-112 58,-112 58,4 -4,4\"/>\r\n",
       "<!-- a -->\r\n",
       "<g id=\"node1\" class=\"node\"><title>a</title>\r\n",
       "<ellipse fill=\"none\" stroke=\"black\" cx=\"27\" cy=\"-90\" rx=\"27\" ry=\"18\"/>\r\n",
       "<text text-anchor=\"middle\" x=\"27\" y=\"-86.3\" font-family=\"Times New Roman,serif\" font-size=\"14.00\">a</text>\r\n",
       "</g>\r\n",
       "<!-- b -->\r\n",
       "<g id=\"node2\" class=\"node\"><title>b</title>\r\n",
       "<ellipse fill=\"none\" stroke=\"black\" cx=\"27\" cy=\"-18\" rx=\"27\" ry=\"18\"/>\r\n",
       "<text text-anchor=\"middle\" x=\"27\" y=\"-14.3\" font-family=\"Times New Roman,serif\" font-size=\"14.00\">b</text>\r\n",
       "</g>\r\n",
       "<!-- a&#45;&#45;b -->\r\n",
       "<g id=\"edge1\" class=\"edge\"><title>a&#45;&#45;b</title>\r\n",
       "<path fill=\"none\" stroke=\"black\" d=\"M27,-71.6966C27,-60.8463 27,-46.9167 27,-36.1043\"/>\r\n",
       "</g>\r\n",
       "</g>\r\n",
       "</svg>\r\n"
      ],
      "text/plain": [
       "<IPython.core.display.HTML object>"
      ]
     },
     "metadata": {},
     "output_type": "display_data"
    }
   ],
   "source": [
    "echo \"graph A { a->b };\" | pydot"
   ]
  },
  {
   "cell_type": "code",
   "execution_count": null,
   "metadata": {
    "collapsed": true
   },
   "outputs": [],
   "source": [
    "csv_barchart data.csv"
   ]
  },
  {
   "cell_type": "code",
   "execution_count": 60,
   "metadata": {
    "collapsed": false
   },
   "outputs": [
    {
     "data": {
      "text/html": [
       "<!DOCTYPE html>\n",
       "\n",
       "<meta charset=\"utf-8\">\n",
       "\n",
       "<style> /* set the CSS */\n",
       "\n",
       "\n",
       "\n",
       "body { font: 12px Arial;}\n",
       "\n",
       "\n",
       "\n",
       "path { \n",
       "\n",
       "    stroke: steelblue;\n",
       "\n",
       "    stroke-width: 2;\n",
       "\n",
       "    fill: none;\n",
       "\n",
       "}\n",
       "\n",
       "\n",
       "\n",
       ".axis path,\n",
       "\n",
       ".axis line {\n",
       "\n",
       "    fill: none;\n",
       "\n",
       "    stroke: grey;\n",
       "\n",
       "    stroke-width: 1;\n",
       "\n",
       "    shape-rendering: crispEdges;\n",
       "\n",
       "}\n",
       "\n",
       "\n",
       "\n",
       "</style>\n",
       "\n",
       "<div id=\"myd3\">\n",
       "\n",
       "\n",
       "\n",
       "<!-- load the d3.js library -->    \n",
       "\n",
       "<script src=\"http://d3js.org/d3.v3.min.js\"></script>\n",
       "\n",
       "\n",
       "\n",
       "<script>\n",
       "\n",
       "\n",
       "\n",
       "// Set the dimensions of the canvas / graph\n",
       "\n",
       "var margin = {top: 30, right: 20, bottom: 30, left: 50},\n",
       "\n",
       "    width = 600 - margin.left - margin.right,\n",
       "\n",
       "    height = 270 - margin.top - margin.bottom;\n",
       "\n",
       "\n",
       "\n",
       "// Parse the date / time\n",
       "\n",
       "var parseDate = d3.time.format(\"%d-%b-%y\").parse;\n",
       "\n",
       "\n",
       "\n",
       "// Set the ranges\n",
       "\n",
       "var x = d3.time.scale().range([0, width]);\n",
       "\n",
       "var y = d3.scale.linear().range([height, 0]);\n",
       "\n",
       "\n",
       "\n",
       "// Define the axes\n",
       "\n",
       "var xAxis = d3.svg.axis().scale(x)\n",
       "\n",
       "    .orient(\"bottom\").ticks(5);\n",
       "\n",
       "\n",
       "\n",
       "var yAxis = d3.svg.axis().scale(y)\n",
       "\n",
       "    .orient(\"left\").ticks(5);\n",
       "\n",
       "\n",
       "\n",
       "// Define the line\n",
       "\n",
       "var valueline = d3.svg.line()\n",
       "\n",
       "    .x(function(d) { return x(d.date); })\n",
       "\n",
       "    .y(function(d) { return y(d.close); });\n",
       "\n",
       "    \n",
       "\n",
       "// Adds the svg canvas\n",
       "\n",
       "var svg = d3.select(\"#myd3\")\n",
       "\n",
       "    .append(\"svg\")\n",
       "\n",
       "        .attr(\"width\", width + margin.left + margin.right)\n",
       "\n",
       "        .attr(\"height\", height + margin.top + margin.bottom)\n",
       "\n",
       "    .append(\"g\")\n",
       "\n",
       "        .attr(\"transform\", \n",
       "\n",
       "              \"translate(\" + margin.left + \",\" + margin.top + \")\");\n",
       "\n",
       "\n",
       "\n",
       "// Get the data\n",
       "\n",
       "d3.csv(\"tmp/csv_barchart.omCPqX\", function(error, data) {\n",
       "\n",
       "    data.forEach(function(d) {\n",
       "\n",
       "        d.date = parseDate(d.date);\n",
       "\n",
       "        d.close = +d.close;\n",
       "\n",
       "    });\n",
       "\n",
       "\n",
       "\n",
       "    // Scale the range of the data\n",
       "\n",
       "    x.domain(d3.extent(data, function(d) { return d.date; }));\n",
       "\n",
       "    y.domain([0, d3.max(data, function(d) { return d.close; })]);\n",
       "\n",
       "\n",
       "\n",
       "    // Add the valueline path.\n",
       "\n",
       "    svg.append(\"path\")\n",
       "\n",
       "        .attr(\"class\", \"line\")\n",
       "\n",
       "        .attr(\"d\", valueline(data));\n",
       "\n",
       "\n",
       "\n",
       "    // Add the X Axis\n",
       "\n",
       "    svg.append(\"g\")\n",
       "\n",
       "        .attr(\"class\", \"x axis\")\n",
       "\n",
       "        .attr(\"transform\", \"translate(0,\" + height + \")\")\n",
       "\n",
       "        .call(xAxis);\n",
       "\n",
       "\n",
       "\n",
       "    // Add the Y Axis\n",
       "\n",
       "    svg.append(\"g\")\n",
       "\n",
       "        .attr(\"class\", \"y axis\")\n",
       "\n",
       "        .call(yAxis);\n",
       "\n",
       "\n",
       "\n",
       "});\n",
       "\n",
       "\n",
       "\n",
       "</script>\n",
       "\n",
       "</div>\n",
       "\n",
       "\n"
      ],
      "text/plain": [
       "<IPython.core.display.HTML object>"
      ]
     },
     "metadata": {},
     "output_type": "display_data"
    }
   ],
   "source": [
    "cat data.csv | csv_barchart"
   ]
  },
  {
   "cell_type": "code",
   "execution_count": 15,
   "metadata": {
    "collapsed": false
   },
   "outputs": [
    {
     "data": {
      "text/plain": [
       "\"line\")\n",
       "        .attr(\"d\", valueline(data));\n",
       "\n",
       "    // Add the X Axis\n",
       "    svgcsv_barchart is a function\n",
       "csv_barchart () \n",
       "{ \n",
       "    echo \"Invoked ${FUNCNAME[0]} $*\" 1>&2;\n",
       "    getinput_src \"${FUNCNAME[0]}\" \"$1\";\n",
       "    HTMLSCRIPT=$CYGROOT/$TMPDIR/${FUNCNAME[0]}.html;\n",
       "    cat  > $HTMLSCRIPT <<EOF\n",
       "<!DOCTYPE html>\n",
       "<meta charset=\"utf-8\">\n",
       "<style> /* set the CSS */\n",
       "\n",
       "body { font: 12px Arial;}\n",
       "\n",
       "path { \n",
       "    stroke: steelblue;\n",
       "    stroke-width: 2;\n",
       "    fill: none;\n",
       "}\n",
       "\n",
       ".axis path,\n",
       ".axis line {\n",
       "    fill: none;\n",
       "    stroke: grey;\n",
       "    stroke-width: 1;\n",
       "    shape-rendering: crispEdges;\n",
       "}\n",
       "\n",
       "</style>\n",
       "<div id=\"myd3\">\n",
       "\n",
       "<!-- load the d3.js library -->    \n",
       "<script src=\"http://d3js.org/d3.v3.min.js\"></script>\n",
       "\n",
       "<script>\n",
       "\n",
       "// Set the dimensions of the canvas / graph\n",
       "var margin = {top: 30, right: 20, bottom: 30, left: 50},\n",
       "    width = 600 - margin.left - margin.right,\n",
       "    height = 270 - margin.top - margin.bottom;\n",
       "\n",
       "// Parse the date / time\n",
       "var parseDate = d3.time.format(\"%d-%b-%y\").parse;\n",
       "\n",
       "// Set the ranges\n",
       "var x = d3.time.scale().range([0, width]);\n",
       "var y = d3.scale.linear().range([height, 0]);\n",
       "\n",
       "// Define the axes\n",
       "var xAxis = d3.svg.axis().scale(x)\n",
       "    .orient(\"bottom\").ticks(5);\n",
       "\n",
       "var yAxis = d3.svg.axis().scale(y)\n",
       "    .orient(\"left\").ticks(5);\n",
       "\n",
       "// Define the line\n",
       "var valueline = d3.svg.line()\n",
       "    .x(function(d) { return x(d.date); })\n",
       "    .y(function(d) { return y(d.close); });\n",
       "    \n",
       "// Adds the svg canvas\n",
       "var svg = d3.select(\"#myd3\")\n",
       "    .append(\"svg\")\n",
       "        .attr(\"width\", width + margin.left + margin.right)\n",
       "        .attr(\"height\", height + margin.top + margin.bottom)\n",
       "    .append(\"g\")\n",
       "        .attr(\"transform\", \n",
       "              \"translate(\" + margin.left + \",\" + margin.top + \")\");\n",
       "\n",
       "// Get the data\n",
       "d3.csv(\"$TMPFILE\", function(error, data) {\n",
       "    data.forEach(function(d) {\n",
       "        d.date = parseDate(d.date);\n",
       "        d.close = +d.close;\n",
       "    });\n",
       "\n",
       "    // Scale the range of the data\n",
       "    x.domain(d3.extent(data, function(d) { return d.date; }));\n",
       "    y.domain([0, d3.max(data, function(d) { return d.close; })]);\n",
       "\n",
       "    // Add the valueline path.\n",
       "    svg.append(\"path\")\n",
       "        .attr(\"class\", .append(\"g\")\n",
       "        .attr(\"class\", \"x axis\")\n",
       "        .attr(\"transform\", \"translate(0,\" + height + \")\")\n",
       "        .call(xAxis);\n",
       "\n",
       "    // Add the Y Axis\n",
       "    svg.append(\"g\")\n",
       "        .attr(\"class\", \"y axis\")\n",
       "        .call(yAxis);\n",
       "\n",
       "});\n",
       "\n",
       "</script>\n",
       "</div>\n",
       "\n",
       "EOF\n",
       "\n",
       "    cat $HTMLSCRIPT 2>&1 | tee $TMPDIR/${FUNCNAME[0]}.stdout | html\n",
       "}"
      ]
     },
     "execution_count": 15,
     "metadata": {},
     "output_type": "execute_result"
    }
   ],
   "source": [
    "type csv_barchart"
   ]
  },
  {
   "cell_type": "code",
   "execution_count": null,
   "metadata": {
    "collapsed": false
   },
   "outputs": [],
   "source": [
    "# Doesn't work (can't use IPython display from metakernel_python magic)\n",
    "# lightning | PYTHON"
   ]
  },
  {
   "cell_type": "code",
   "execution_count": null,
   "metadata": {
    "collapsed": false
   },
   "outputs": [],
   "source": [
    "%%javascript\n",
    "\n",
    "var Lightning = require('node_modules/lightning.js/index.js');\n",
    "\n",
    "var lightning = new Lightning();\n",
    "lightning.line([1,1,2,3,5,8,13,21])\n",
    "    .then(function(viz) {\n",
    "        viz.open(); // opens in web browser\n",
    "    });"
   ]
  },
  {
   "cell_type": "code",
   "execution_count": null,
   "metadata": {
    "collapsed": false
   },
   "outputs": [],
   "source": [
    "%%python\n",
    "\n",
    "from lightning import Lightning\n",
    "from numpy import random, asarray, sqrt, arctan2, pi, clip\n",
    "from seaborn import color_palette\n",
    "from sklearn import datasets\n",
    "from colorsys import hsv_to_rgb"
   ]
  },
  {
   "cell_type": "code",
   "execution_count": null,
   "metadata": {
    "collapsed": false
   },
   "outputs": [],
   "source": [
    "%%python\n",
    "from lightning import Lightning\n",
    "from numpy import random, asarray, sqrt, arctan2, pi, clip\n",
    "from seaborn import color_palette\n",
    "from sklearn import datasets\n",
    "from colorsys import hsv_to_rgb\n",
    "\n",
    "\n",
    "print(1)\n"
   ]
  },
  {
   "cell_type": "code",
   "execution_count": null,
   "metadata": {
    "collapsed": false
   },
   "outputs": [],
   "source": [
    "source ~/.metakernelrc"
   ]
  },
  {
   "cell_type": "code",
   "execution_count": null,
   "metadata": {
    "collapsed": false
   },
   "outputs": [],
   "source": [
    "test_lightning"
   ]
  },
  {
   "cell_type": "code",
   "execution_count": null,
   "metadata": {
    "collapsed": false
   },
   "outputs": [],
   "source": [
    "type test_lightning"
   ]
  },
  {
   "cell_type": "code",
   "execution_count": null,
   "metadata": {
    "collapsed": false
   },
   "outputs": [],
   "source": [
    "%%python\n",
    "# Doesn't work (can't use IPython display from metakernel_python magic)\n",
    "\n",
    "from lightning import Lightning\n",
    "\n",
    "from numpy import random, asarray\n",
    "\n",
    "#lgn = Lightning(ipython=True, host='http://public.lightning-viz.org')\n",
    "lgn = Lightning(ipython=False, host='http://public.lightning-viz.org')\n",
    "\n",
    "series = random.randn(5, 50)\n",
    "\n",
    "op = lgn.line(series)\n",
    "print(op)\n",
    "retval=op"
   ]
  },
  {
   "cell_type": "code",
   "execution_count": null,
   "metadata": {
    "collapsed": false
   },
   "outputs": [],
   "source": [
    "#npm install lightning.js"
   ]
  },
  {
   "cell_type": "code",
   "execution_count": null,
   "metadata": {
    "collapsed": false
   },
   "outputs": [],
   "source": [
    "echo \"graph A { a->b };\" | pydot"
   ]
  },
  {
   "cell_type": "code",
   "execution_count": null,
   "metadata": {
    "collapsed": false
   },
   "outputs": [],
   "source": [
    "echo \"digraph G { \n",
    "        a; \n",
    "        b; \n",
    "        c -> d; \n",
    "        a -> c; \n",
    "}\" | pydot"
   ]
  },
  {
   "cell_type": "code",
   "execution_count": null,
   "metadata": {
    "collapsed": false
   },
   "outputs": [],
   "source": [
    "echo 'graph graphname { \n",
    "                a -- b; \n",
    "                b -- c;\n",
    "                b -- d;\n",
    "                d -- a;\n",
    "        }' | pydot"
   ]
  },
  {
   "cell_type": "code",
   "execution_count": null,
   "metadata": {
    "collapsed": false
   },
   "outputs": [],
   "source": [
    "echo 'graph graphname {\n",
    "                rankdir=LR;  //Rank Direction Left to Right\n",
    "                a -- b; \n",
    "                b -- c;\n",
    "                b -- d;\n",
    "                d -- a;\n",
    "        }' | pydot"
   ]
  },
  {
   "cell_type": "code",
   "execution_count": null,
   "metadata": {
    "collapsed": false
   },
   "outputs": [],
   "source": [
    "echo 'digraph graphname{\n",
    "                a -> b;\n",
    "                b -> c;\n",
    "                a -> c;\n",
    "        }' | pydot"
   ]
  },
  {
   "cell_type": "code",
   "execution_count": null,
   "metadata": {
    "collapsed": false
   },
   "outputs": [],
   "source": [
    "echo 'digraph graphname{\n",
    "\n",
    "                T [label=\"Teacher\"]      // node T\n",
    "                P [label=\"Pupil\"]  // node P\n",
    "\n",
    "                T->P [label=\"Instructions\", fontcolor=darkgreen] // edge T->P\n",
    "}\n",
    "' | pydot"
   ]
  },
  {
   "cell_type": "code",
   "execution_count": null,
   "metadata": {
    "collapsed": false
   },
   "outputs": [],
   "source": [
    "echo 'digraph graphname {\n",
    "                T [label=\"Teacher\" color=Blue, fontcolor=Red, fontsize=24, shape=box]      // node T\n",
    "                P [label=\"Pupil\" color=Blue, fontcolor=Red, fontsize=24, shape=box]  // node P\n",
    "\n",
    "                T->P [label=\"Instructions\", fontcolor=darkgreen] // edge T->P\n",
    "}' | pydot"
   ]
  },
  {
   "cell_type": "code",
   "execution_count": null,
   "metadata": {
    "collapsed": false
   },
   "outputs": [],
   "source": [
    "echo 'digraph summary{\n",
    "                start [label=\"Start with a Node\"]\n",
    "                end [label=\"Draw your graph\", shape=box, style=filled, fillcolor=yellow]\n",
    "\n",
    "                start->next\n",
    "                start->warning \n",
    "                next->end [label=\"Getting Better...\", fontcolor=darkblue]\n",
    "\n",
    "}' | pydot"
   ]
  },
  {
   "cell_type": "code",
   "execution_count": null,
   "metadata": {
    "collapsed": false
   },
   "outputs": [],
   "source": [
    "# Don't know how to put quote ' in \"Dont go overboard\"\n",
    "echo 'digraph summary{\n",
    "                start [label=\"Start with a Node\"]\n",
    "                end [label=\"Draw your graph\", shape=box, style=filled, fillcolor=yellow]\n",
    "                next [label=\"Choose your shape\", shape=box]\n",
    "                warning [label=\"Dont go overboard\", color=Blue, fontcolor=Red, fontsize=24, style=filled, fillcolor=green, shape=octagon]\n",
    "\n",
    "                start->next\n",
    "                start->warning \n",
    "                next->end [label=\"Getting Better...\", fontcolor=darkblue]\n",
    "\n",
    "}' | pydot"
   ]
  },
  {
   "cell_type": "code",
   "execution_count": null,
   "metadata": {
    "collapsed": false
   },
   "outputs": [],
   "source": [
    "echo 'digraph G { \n",
    "        bgcolor=azure; \n",
    "        node [shape=box, color=lightblue2, style=filled]; \n",
    "        edge [arrowsize=2, color=gold]; \n",
    "        \"zero\" -> \"dix\"; \n",
    "        \"un\" -> \"dix\"; \n",
    "        \"zero\" -> \"vingt\"; \n",
    "        \"deux\" -> \"vingt\"; \n",
    "} ' | pydot"
   ]
  },
  {
   "cell_type": "code",
   "execution_count": null,
   "metadata": {
    "collapsed": false
   },
   "outputs": [],
   "source": [
    "echo 'digraph G { \n",
    "        bgcolor=azure; \n",
    "        node [shape=box, color=lightblue2, style=filled]; \n",
    "        edge [arrowsize=2, color=gold]; \n",
    "        \"zero\" -> \"dix\" [color=purple]; \n",
    "        \"un\" -> \"dix\"; \n",
    "        \"zero\" -> \"vingt\"; \n",
    "        \"deux\" -> \"vingt\"; \n",
    "        \"zero\" [shape=circle, color=thistle1, fontcolor=purple]; \n",
    "}' | pydot"
   ]
  },
  {
   "cell_type": "code",
   "execution_count": null,
   "metadata": {
    "collapsed": false
   },
   "outputs": [],
   "source": [
    "echo 'digraph G { \n",
    "        graph [bgcolor=lightyellow2, splines=true]; \n",
    "        edge [color=red, arrowsize=2]; \n",
    "        node [color=yellow, style=filled, shape=polygon, sides=6, fontname=\"Verdana\"]; \n",
    "        A1 -> A3 [label=\"est parrain de\", arrowtail=dot, arrowhead=open]; \n",
    "        A3 -> A5; \n",
    "        A3 -> A6; \n",
    "        A2 -> A4; \n",
    "        A1 [label=\"Hugo\", shape=circle, color=blue, fontcolor=white]; \n",
    "        A2 [label=\"Boris\"]; \n",
    "        A3 [label=\"Cécile\"]; \n",
    "        A4 [label=\"François\"]; \n",
    "        A5 [label=\"Frank\"]; \n",
    "        A6 [label=\"Elise\"]; \n",
    "} ' | pydot"
   ]
  },
  {
   "cell_type": "code",
   "execution_count": null,
   "metadata": {
    "collapsed": false
   },
   "outputs": [],
   "source": [
    "echo 'digraph G { \n",
    "        edge [color=red, arrowsize=2]; \n",
    "        node [color=lightyellow2, style=filled]; \n",
    "        A1 -> A3; \n",
    "        A3 -> A5; \n",
    "        A3 -> A6; \n",
    "        A2 -> A4; \n",
    "        A1 [label=\"Hugo\"]; \n",
    "        A2 [label=\"Boris\"]; \n",
    "        A3 [label=\"Cécile\"]; \n",
    "        A4 [label=\"François\"]; \n",
    "        A5 [label=\"Frank\"]; \n",
    "        A6 [label=\"Elise\"]; \n",
    "} ' | pydot"
   ]
  },
  {
   "cell_type": "code",
   "execution_count": null,
   "metadata": {
    "collapsed": false
   },
   "outputs": [],
   "source": [
    "echo 'graph G { \n",
    "        a -- b -- c -- d -- e; \n",
    "        1 -- {2; 3; 4; 5; 6; 7;} \n",
    "}' | pydot"
   ]
  },
  {
   "cell_type": "code",
   "execution_count": null,
   "metadata": {
    "collapsed": false
   },
   "outputs": [],
   "source": [
    "echo 'digraph G { \n",
    "        edge [color=blue, arrowsize=2]; \n",
    "        node [color=lightyellow2, style=filled]; \n",
    "        root -> f1; \n",
    "        root -> f2; \n",
    "        f1 -> f4;\n",
    "        f3 -> f5; \n",
    "        f3 -> f6; \n",
    "        f2 -> f3; \n",
    "        root [label=\"/tmp/findtest\"]; \n",
    "        f1 [label=\"file1\"]; \n",
    "        f2 [label=\"file2\"]; \n",
    "        f3 [label=\"file3\"]; \n",
    "        f4 [label=\"file4\"]; \n",
    "        f5 [label=\"file5\"]; \n",
    "        f6 [label=\"file6\"]; \n",
    "} ' | pydot"
   ]
  },
  {
   "cell_type": "code",
   "execution_count": null,
   "metadata": {
    "collapsed": false
   },
   "outputs": [],
   "source": [
    "rm -rf /tmp/findtest\n",
    "\n",
    "mkdir -p /tmp/findtest/\n",
    "touch /tmp/findtest/file1\n",
    "mkdir /tmp/findtest/dir1\n",
    "  touch /tmp/findtest/dir1/file1\n",
    "  touch /tmp/findtest/dir1/file2\n",
    "  touch /tmp/findtest/dir1/file3\n",
    "mkdir /tmp/findtest/dir2\n",
    "  touch /tmp/findtest/dir2/file1\n",
    "  touch /tmp/findtest/dir2/file2\n",
    "\n",
    "find /tmp/findtest | perl -ne '\n",
    "  BEGIN {\n",
    "    print \"digraph G {\\n  edge [color=blue, arrowsize=2];\\n  node [color=lightyellow2, style=filled];\\n\";\n",
    "  };\n",
    "\n",
    "  chomp();\n",
    "  if (!defined($ROOT)) {\n",
    "    $ROOT=\"$_\"; $ROOT =~ s/\\//_/g;\n",
    "    $ROOTLABEL=$_;\n",
    "    $NODES{$ROOT}=\"root\";\n",
    "    print \"\\n  $ROOT [label=\\\"$ROOTLABEL\\\"];\\n\"; \n",
    "  } else {\n",
    "    m/^(.+)\\/([^\\/]+)/;\n",
    "    ($PARENT,$CHILD)=($1,$2);\n",
    "    $NODE = $_;\n",
    "    $NODE =~ s/\\//_/g;\n",
    "    $PARENTNODE = $PARENT;\n",
    "    $PARENTNODE =~ s/\\//_/g;\n",
    "\n",
    "    $NODES{$NODE}=$CHILD;\n",
    "    print \"  $PARENTNODE -> $NODE;\\n\";\n",
    "    print \"\\n  $NODE [label=\\\"$CHILD\\\"];\\n\"; \n",
    "};\n",
    "\n",
    "END { print \"}\\n\"; }; ' | pydot"
   ]
  },
  {
   "cell_type": "code",
   "execution_count": null,
   "metadata": {
    "collapsed": false
   },
   "outputs": [],
   "source": [
    "reread_local_metakernelrc"
   ]
  },
  {
   "cell_type": "code",
   "execution_count": null,
   "metadata": {
    "collapsed": false
   },
   "outputs": [],
   "source": [
    "rm -rf /tmp/findtest\n",
    "\n",
    "mkdir -p /tmp/findtest/\n",
    "touch /tmp/findtest/file1\n",
    "mkdir /tmp/findtest/dir1\n",
    "  touch /tmp/findtest/dir1/file1\n",
    "  touch /tmp/findtest/dir1/file2\n",
    "  touch /tmp/findtest/dir1/file3\n",
    "mkdir /tmp/findtest/dir2\n",
    "  touch /tmp/findtest/dir2/file1\n",
    "  touch /tmp/findtest/dir2/file2\n",
    "\n",
    "source /home/mjbright/src/git/GIT_mjbright/metakernel/metakernel_bash/metakernelrc\n",
    "find /tmp/findtest | pydot_show_filetree"
   ]
  },
  {
   "cell_type": "code",
   "execution_count": null,
   "metadata": {
    "collapsed": false
   },
   "outputs": [],
   "source": [
    "reread_local_metakernelrc"
   ]
  },
  {
   "cell_type": "code",
   "execution_count": null,
   "metadata": {
    "collapsed": false
   },
   "outputs": [],
   "source": [
    "%%dot\n",
    "\n",
    "digraph G {\n",
    "    rankdir=TB;\n",
    "    node [shape=plaintext style=\"filled\"];\n",
    "    \n",
    "    subgraph cluster_01 {\n",
    "        label = \"Disk Usage under /tmp\";\n",
    "        key3 [label=\"file1\"]\n",
    "        key2 [label=\"dir2/\"]\n",
    "        key1 [label=\"dir1/\"]\n",
    "    };\n",
    "    node [shape=circle fizedsize=true width=10 style=wedged fillcolor=\"red;0.3:green;0.6:orange\"];\n",
    "    \n",
    "    A [label=\"\"]\n",
    "}"
   ]
  },
  {
   "cell_type": "code",
   "execution_count": null,
   "metadata": {
    "collapsed": false
   },
   "outputs": [],
   "source": [
    "%%dot\n",
    "\n",
    "digraph G {\n",
    "    //rankdir=TB;\n",
    "    node [shape=circle fizedsize=true width=6 style=wedged fillcolor=\"red;0.3:green;0.6:orange\"];\n",
    "    \n",
    "    subgraph cluster_02 {\n",
    "        //rankType=\"same\";\n",
    "        color=\"invis\"; // No border on cluster\n",
    "\n",
    "    A [label=\"\"]\n",
    "    }\n",
    "    \n",
    "    //rankdir=TB;\n",
    "    node [shape=plaintext fixedsize=true width=1 style=\"filled\" fillcolor=\"lightyellow2\"];\n",
    "    subgraph cluster_01 {\n",
    "        //rankType=\"min\";\n",
    "\n",
    "        label = \"Disk Usage under /tmp\";\n",
    "        width=1\n",
    "        key1 [label=\"dir1/\" fillcolor=\"red\"]\n",
    "        key2 [label=\"dir2/\" fillcolor=\"green\"]\n",
    "        key3 [label=\"file1\" fillcolor=\"orange\"]\n",
    "    };\n",
    "    \n",
    "}"
   ]
  },
  {
   "cell_type": "code",
   "execution_count": null,
   "metadata": {
    "collapsed": false
   },
   "outputs": [],
   "source": [
    "%%dot\n",
    "\n",
    "digraph G {\n",
    "    rankdir=TB;\n",
    "    node [shape=circle fizedsize=true width=6 style=wedged fillcolor=\"red;0.3:green;0.6:orange\"];\n",
    "    \n",
    "    A [label=\"\"]\n",
    "    \n",
    "    rankdir=TB;\n",
    "    node [shape=plaintext fixedsize=true width=1 style=\"filled\" fillcolor=\"lightyellow2\"];\n",
    "    subgraph cluster_01 {\n",
    "        rankdir=LR;\n",
    "\n",
    "        label = \"Disk Usage under /tmp\";\n",
    "        width=1\n",
    "        key1 [label=\"dir1/\" fillcolor=\"red\"]\n",
    "        key2 [label=\"dir2/\" fillcolor=\"green\"]\n",
    "        key3 [label=\"file1\" fillcolor=\"orange\"]\n",
    "    };\n",
    "    \n",
    "}"
   ]
  },
  {
   "cell_type": "code",
   "execution_count": null,
   "metadata": {
    "collapsed": false
   },
   "outputs": [],
   "source": [
    "source /home/mjbright/src/git/GIT_mjbright/metakernel/metakernel_bash/metakernelrc\n",
    "du -s /tmp/* | pydot_show_du"
   ]
  },
  {
   "cell_type": "raw",
   "metadata": {},
   "source": [
    "%%dot\n",
    "\n",
    "# Not working\n",
    "digraph hierarchy {\n",
    "\n",
    "                nodesep=1.0 // increases the separation between nodes\n",
    "                \n",
    "                node [color=Red,fontname=Courier,shape=box] //All nodes will this shape and colour\n",
    "                edge [color=Blue, style=dashed] //All the lines look like this\n",
    "\n",
    "                Headteacher->{Deputy1 Deputy2 BusinessManager}\n",
    "                Deputy1->{Teacher1 Teacher2}\n",
    "                BusinessManager->ITManager\n",
    "                {rank=same;ITManager Teacher1 Teacher2}  // Put them on the same level\n",
    "}"
   ]
  },
  {
   "cell_type": "raw",
   "metadata": {
    "collapsed": false
   },
   "source": [
    "# Same as above ... so ... not working either ...\n",
    "echo \"digraph hierarchy {\n",
    "\n",
    "                nodesep=1.0 // increases the separation between nodes\n",
    "                \n",
    "                node [color=Red,fontname=Courier,shape=box] //All nodes will this shape and colour\n",
    "                edge [color=Blue, style=dashed] //All the lines look like this\n",
    "\n",
    "                Headteacher->{Deputy1 Deputy2 BusinessManager}\n",
    "                Deputy1->{Teacher1 Teacher2}\n",
    "                BusinessManager->ITManager\n",
    "                {rank=same;ITManager Teacher1 Teacher2}  // Put them on the same level\n",
    "}\" | pydot"
   ]
  },
  {
   "cell_type": "code",
   "execution_count": null,
   "metadata": {
    "collapsed": false
   },
   "outputs": [],
   "source": [
    "echo \"digraph hierarchy {\n",
    "                nodesep=0.5 // increases the separation between nodes\n",
    "                \n",
    "                node [color=Blue, fontname=Courier,shape=oval] //All nodes will this shape and colour\n",
    "                edge [color=Blue, style=solid] //All the lines look like this\n",
    "\n",
    "                CEO->{CTO CFO BusinessManager}\n",
    "                CTO->{LabManager MarketingManager}\n",
    "                BusinessManager->ITManager\n",
    "                {rank=same;ITManager LabManager MarketingManager}  // Put them on the same level\n",
    "}\" | pydot"
   ]
  },
  {
   "cell_type": "code",
   "execution_count": null,
   "metadata": {
    "collapsed": false
   },
   "outputs": [],
   "source": [
    "# QUOTES IN THIS WAY, WORKS:\n",
    "echo 'digraph hierarchy {\n",
    "        S0->S1 [ label = \"Lift Nozzle\" ]\n",
    "        S1->S0 [ label = \"Replace Nozzle\" ]\n",
    "        S1->S2 [ label = \"Authorize Pump\" ]\n",
    "        S2->S0 [ label = \"Replace Nozzle\" ]\n",
    "        S2->S3 [ label = \"Pull Trigger\" ]\n",
    "        S3->S2 [ label = \"Release Trigger\" ]\n",
    "}' | pydot"
   ]
  },
  {
   "cell_type": "code",
   "execution_count": null,
   "metadata": {
    "collapsed": false
   },
   "outputs": [],
   "source": [
    "# QUOTES IN THIS WAY, FAILS: careful - may mess up following notebook execution ... \n",
    "# echo \"digraph hierarchy {\n",
    "#         S0->S1 [ label = 'Lift Nozzle' ]\n",
    "#         S1->S0 [ label = 'Replace Nozzle' ]\n",
    "#         S1->S2 [ label = 'Authorize Pump' ]\n",
    "#         S2->S0 [ label = 'Replace Nozzle' ]\n",
    "#         S2->S3 [ label = 'Pull Trigger\"' ]\n",
    "#         S3->S2 [ label = 'Release Trigger' ]\n",
    "# }\" | pydot"
   ]
  },
  {
   "cell_type": "code",
   "execution_count": null,
   "metadata": {
    "collapsed": false
   },
   "outputs": [],
   "source": [
    "echo 'digraph finite_state_machine {\n",
    "        rankdir=LR;\n",
    "        size=\"8,5\"\n",
    "        node [shape = circle];\n",
    "        S0 -> S1 [ label = \"Lift Nozzle\" ]\n",
    "        S1 -> S0 [ label = \"Replace Nozzle\" ]\n",
    "        S1 -> S2 [ label = \"Authorize Pump\" ]\n",
    "        S2 -> S0 [ label = \"Replace Nozzle\" ]\n",
    "        S2 -> S3 [ label = \"Pull Trigger\" ]\n",
    "        S3 -> S2 [ label = \"Release Trigger\" ]\n",
    "}' | pydot"
   ]
  },
  {
   "cell_type": "code",
   "execution_count": null,
   "metadata": {
    "collapsed": false
   },
   "outputs": [],
   "source": [
    "echo 'digraph dfd {    \n",
    "        node[shape=record]\n",
    "        store1 [label=\"<f0> left|<f1> Some data store\"];\n",
    "        proc1 [label=\"{<f0> 1.0|<f1> Some process here\\n\\n\\n}\" shape=Mrecord];\n",
    "        enti1 [label=\"Customer\" shape=box];\n",
    "        store1:f1 -> proc1:f0;\n",
    "        enti1-> proc1:f0;\n",
    "}' | pydot"
   ]
  },
  {
   "cell_type": "code",
   "execution_count": null,
   "metadata": {
    "collapsed": false
   },
   "outputs": [],
   "source": [
    "echo 'digraph dfd2{\n",
    "        node[shape=record]\n",
    "        subgraph level0{\n",
    "        enti1 [label=\"Customer\" shape=box];\n",
    "        enti2 [label=\"Manager\" shape=box];\n",
    "        }\n",
    "        subgraph cluster_level1{\n",
    "                        label =\"Level 1\";\n",
    "                        proc1 [label=\"{<f0> 1.0|<f1> One process here\\n\\n\\n}\" shape=Mrecord];\n",
    "                        proc2 [label=\"{<f0> 2.0|<f1> Other process here\\n\\n\\n}\" shape=Mrecord];\n",
    "                        store1 [label=\"<f0>    |<f1> Data store one\"];\n",
    "                        store2 [label=\"<f0>   |<f1> Data store two\"];\n",
    "                        {rank=same; store1 store2}\n",
    "\n",
    "        }\n",
    "        enti1 -> proc1\n",
    "        enti2 -> proc2\n",
    "        store1 -> proc1\n",
    "        store2 -> proc2\n",
    "        proc1 -> store2\n",
    "        store2 -> proc1 \n",
    "}' | pydot"
   ]
  },
  {
   "cell_type": "code",
   "execution_count": null,
   "metadata": {
    "collapsed": false
   },
   "outputs": [],
   "source": [
    "echo 'digraph obj{\n",
    "        node[shape=record];\n",
    "        rankdir=\"BT\";\n",
    "        \n",
    "        teacher [label = \"{<f0> Teacher|<f1> \\n  |<f2> \\n   }\"];\n",
    "        course [label = \"{<f0> Course|<f1> \\n  |<f2> \\n   }\"];\n",
    "        student [label = \"{<f0> Student|<f1> \\n  |<f2> \\n   }\"];\n",
    "        lesson [label = \"{<f0> Lesson |<f1> \\n  |<f2> \\n   }\"];\n",
    "        tutorial [label = \"{<f0> Tutorial|<f1> \\n  |<f2> \\n   }\"];\n",
    "        assessment[label = \"{<f0> Assessment|<f1> \\n  |<f2> \\n   }\"];\n",
    "        coursework [label = \"{<f0> Coursework|<f1> \\n  |<f2> \\n   }\"];\n",
    "        exam [label = \"{<f0> Exam|<f1> \\n  |<f2> \\n   }\"];\n",
    "\n",
    "        {rank=same; teacher course student}\n",
    "\n",
    "        teacher->course [dir=\"forward\",arrowhead=\"none\",arrowtail=\"normal\",headlabel=\"1\",taillabel=\"1..\"];\n",
    "        student->course [dir=\"forward\",arrowhead=\"none\",arrowtail=\"normal\",headlabel=\"1\",taillabel=\"1..\"];\n",
    "        lesson->course [dir=\"forward\",arrowhead=\"diamond\",arrowtail=\"normal\"];\n",
    "        tutorial->course [dir=\"forward\",arrowhead=\"diamond\",arrowtail=\"normal\"];\n",
    "        assessment->course [dir=\"forward\",arrowhead=\"diamond\",arrowtail=\"normal\"];\n",
    "        coursework->assessment;\n",
    "        exam->assessment;\n",
    "\n",
    "}' | pydot"
   ]
  },
  {
   "cell_type": "code",
   "execution_count": null,
   "metadata": {
    "collapsed": false
   },
   "outputs": [],
   "source": [
    "echo 'digraph ER{\n",
    "        node[shape=box];\n",
    "        Book;\n",
    "        Customer;\n",
    "        Loan;\n",
    "        {rank=same;Book Customer Loan}\n",
    "        Book->Loan[dir=\"forward\",arrowhead=\"crow\",arrowtail=\"normal\"];\n",
    "        Customer->Loan[dir=\"forward\",arrowhead=\"crow\",arrowtail=\"normal\"];\n",
    "}' | pydot"
   ]
  },
  {
   "cell_type": "code",
   "execution_count": null,
   "metadata": {
    "collapsed": false
   },
   "outputs": [],
   "source": [
    "# HERE document:\n",
    "cat <<EOF\n",
    "digraph G { \n",
    "        a; \n",
    "        b; \n",
    "        c -> d; \n",
    "        a -> c; \n",
    "}\n",
    "EOF"
   ]
  },
  {
   "cell_type": "code",
   "execution_count": null,
   "metadata": {
    "collapsed": false
   },
   "outputs": [],
   "source": [
    "# HERE document, piped: (sometimes fails ... fails to see command-prompt in 'shell_magic.py'?)\n",
    "# cat <<EOF\n",
    "# digraph G { \n",
    "#         a; \n",
    "#         b; \n",
    "#         c -> d; \n",
    "#         a -> c; \n",
    "# }\n",
    "# EOF | cat"
   ]
  },
  {
   "cell_type": "code",
   "execution_count": null,
   "metadata": {
    "collapsed": false
   },
   "outputs": [],
   "source": [
    "# HERE document, piped to pydot:\n",
    "\n",
    "# FAILS: messes up kernel ...\n",
    "# type pydot\n",
    "# cat <<EOF\n",
    "# digraph G { \n",
    "#         piped; \n",
    "#         b; \n",
    "#         c -> d; \n",
    "#         a -> c; \n",
    "# }\n",
    "# EOF | pydot"
   ]
  },
  {
   "cell_type": "code",
   "execution_count": null,
   "metadata": {
    "collapsed": false
   },
   "outputs": [],
   "source": [
    "\n",
    "#type pydot\n",
    "#typeset +f"
   ]
  },
  {
   "cell_type": "code",
   "execution_count": null,
   "metadata": {
    "collapsed": false
   },
   "outputs": [],
   "source": [
    "type pydot"
   ]
  },
  {
   "cell_type": "code",
   "execution_count": null,
   "metadata": {
    "collapsed": false
   },
   "outputs": [],
   "source": [
    "%%dot\n",
    "\n",
    "graph A { a->b }\n",
    "\n"
   ]
  },
  {
   "cell_type": "code",
   "execution_count": null,
   "metadata": {
    "collapsed": false
   },
   "outputs": [],
   "source": [
    "df -h"
   ]
  },
  {
   "cell_type": "code",
   "execution_count": null,
   "metadata": {
    "collapsed": false
   },
   "outputs": [],
   "source": [
    "reread_metakernelrc"
   ]
  },
  {
   "cell_type": "code",
   "execution_count": null,
   "metadata": {
    "collapsed": false
   },
   "outputs": [],
   "source": [
    "display 'http://images6.fanpop.com/image/photos/38500000/beautiful-wallpaper-2-beautiful-pictures-38538867-2560-1600.jpg'"
   ]
  },
  {
   "cell_type": "code",
   "execution_count": null,
   "metadata": {
    "collapsed": false
   },
   "outputs": [],
   "source": [
    "display 'data:image/jpeg;base64,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'"
   ]
  },
  {
   "cell_type": "code",
   "execution_count": null,
   "metadata": {
    "collapsed": false
   },
   "outputs": [],
   "source": [
    "display /cygdrive/c/HP/drivers/touchpad/img_clicking.png"
   ]
  },
  {
   "cell_type": "code",
   "execution_count": null,
   "metadata": {
    "collapsed": false
   },
   "outputs": [],
   "source": [
    "cat /cygdrive/c/HP/drivers/touchpad/img_clicking.png | display"
   ]
  },
  {
   "cell_type": "code",
   "execution_count": null,
   "metadata": {
    "collapsed": false
   },
   "outputs": [],
   "source": [
    "curl -s 'http://mjbright.github.io/images/Mike_4_Chili_Constitucion.smaller.png' | display"
   ]
  },
  {
   "cell_type": "code",
   "execution_count": null,
   "metadata": {
    "collapsed": false,
    "slideshow": {
     "slide_type": "subslide"
    }
   },
   "outputs": [],
   "source": [
    "typeset +f"
   ]
  },
  {
   "cell_type": "code",
   "execution_count": null,
   "metadata": {
    "collapsed": false
   },
   "outputs": [],
   "source": [
    "%lsmagic"
   ]
  },
  {
   "cell_type": "code",
   "execution_count": null,
   "metadata": {
    "collapsed": false,
    "slideshow": {
     "slide_type": "slide"
    }
   },
   "outputs": [],
   "source": [
    "%magic"
   ]
  },
  {
   "cell_type": "code",
   "execution_count": null,
   "metadata": {
    "collapsed": false,
    "slideshow": {
     "slide_type": "slide"
    }
   },
   "outputs": [],
   "source": [
    "%%python\n",
    "\n",
    "print(\"Hello World\")"
   ]
  },
  {
   "cell_type": "code",
   "execution_count": null,
   "metadata": {
    "collapsed": false,
    "slideshow": {
     "slide_type": "slide"
    }
   },
   "outputs": [],
   "source": [
    "%%html\n",
    "<h1> Some hypertext </h1>"
   ]
  },
  {
   "cell_type": "code",
   "execution_count": null,
   "metadata": {
    "collapsed": false
   },
   "outputs": [],
   "source": [
    "%%python\n",
    "\n",
    "import os, re\n",
    "\n",
    "def getCygwinPath():\n",
    "    ''' Search in available drives for a cygwin installation '''\n",
    "    \n",
    "    # Find available drives in form \"C:\\\"\n",
    "    drives = re.findall(r\"[A-Z]+:.*$\", os.popen(\"mountvol /\").read(),re.MULTILINE)\n",
    "\n",
    "    # For each drive look for C:\\cygwin, C:\\cygwin64, C:\\*\\cygwin, C:\\*\\cygwin64\n",
    "    for drive in drives:\n",
    "        drive_root = drive[:2] + '/'\n",
    "        \n",
    "        dirs = [ '' ]\n",
    "        dirs.extend( os.listdir( drive_root ) )\n",
    "        for path in dirs:\n",
    "            path = drive_root + path\n",
    "            for cygwin in ['cygwin', 'cygwin64']:\n",
    "                if os.path.exists( path + '/' + cygwin):\n",
    "                    return(path + '/' + cygwin)\n",
    "    return None\n",
    "\n",
    "cygwinPath = getCygwinPath()\n",
    "if cygwinPath: print(cygwinPath)"
   ]
  },
  {
   "cell_type": "code",
   "execution_count": null,
   "metadata": {
    "collapsed": false
   },
   "outputs": [],
   "source": [
    "%%python\n",
    "\n",
    "import IPython\n",
    "\n",
    "# This is nice to have but we want rather something which is callable from a bash kernel\n",
    "# how?\n",
    "def displayMysqlTableTextAsHTML(text):\n",
    "    header=False\n",
    "    colNames=[]\n",
    "    values=[]\n",
    "    for line in text.split('\\n'):\n",
    "        line = line.strip()\n",
    "        row=[]\n",
    "        if len(line) != 0 and line[0] != '+' and line[0] == '|':\n",
    "            if not header:\n",
    "                header=True\n",
    "                colNames = [ colName.strip() for colName in (line.strip())[1:-1].split('|')]\n",
    "            else:\n",
    "                row = [ value.strip() for value in (line.strip())[1:-1].split('|')]\n",
    "                values.append(row)\n",
    "\n",
    "    table = '<table>' + \\\n",
    "        '<tr>' + '\\n'.join( [ '<th>'+colName+'</th>' for colName in colNames ] ) + '\\n</tr>\\n' + \\\n",
    "        '\\n'.join([ '<tr>'+ \\\n",
    "            #str(row) + \\\n",
    "                   '\\n    '.join( [ '<td>'+value+'</td>' for value in row ] ) +\n",
    "          '\\n</tr>' for row in values ]) +\\\n",
    "        '</table>'\n",
    "\n",
    "    #print(table)\n",
    "    return IPython.display.HTML(table)\n",
    "\n",
    "text='''\n",
    "+-------+-------+-------+-----+\n",
    "  |  col1 | col2  |  col3 |col4 |  \n",
    "+-------+-------+-------+-----+\n",
    "|  val1 | val2  |  val3 |val4 |\n",
    "|  valu1|value2 |value3|val4|\n",
    "+-------+-------+-------+-----+\n",
    "'''\n",
    "retval = displayMysqlTableTextAsHTML(text)"
   ]
  },
  {
   "cell_type": "code",
   "execution_count": null,
   "metadata": {
    "collapsed": false
   },
   "outputs": [],
   "source": [
    "%%python\n",
    "\n",
    "s = \"\"\"<table>\n",
    "<tr>\n",
    "<th>Header 1</th>\n",
    "<th>Header 2</th>\n",
    "</tr>\n",
    "<tr>\n",
    "<td>row 1, cell 1</td>\n",
    "<td>row 1, cell 2</td>\n",
    "</tr>\n",
    "<tr>\n",
    "<td>row 2, cell 1</td>\n",
    "<td>row 2, cell 2</td>\n",
    "</tr>\n",
    "</table>\"\"\"\n",
    "\n",
    "#h = IPython.display.HTML(s); h\n",
    "h = IPython.display.HTML(s);\n",
    "#IPython.display(h)\n"
   ]
  },
  {
   "cell_type": "code",
   "execution_count": null,
   "metadata": {
    "collapsed": false
   },
   "outputs": [],
   "source": [
    "%%python\n",
    "\n",
    "from IPython.core.display import display, HTML\n",
    "display(HTML('<h1>Hello, world!</h1>'))\n",
    "IPython.display.HTML(\"<b>bold</b>\")"
   ]
  },
  {
   "cell_type": "code",
   "execution_count": null,
   "metadata": {
    "collapsed": true
   },
   "outputs": [],
   "source": [
    "%%python\n",
    "\n",
    "import IPython\n",
    "#from IPython.core.display import display, HTML\n",
    "IPython.display.HTML(\"<b>bold</b>\")"
   ]
  },
  {
   "cell_type": "code",
   "execution_count": null,
   "metadata": {
    "collapsed": false
   },
   "outputs": [],
   "source": [
    "%python import IPython; IPython.core.display.display_html( \"<b>bold</b>\" )"
   ]
  },
  {
   "cell_type": "code",
   "execution_count": null,
   "metadata": {
    "collapsed": false
   },
   "outputs": [],
   "source": [
    "%python import IPython; IPython.core.display.display(IPython.display.HTML(\"<b>bold</b>\"))"
   ]
  },
  {
   "cell_type": "code",
   "execution_count": null,
   "metadata": {
    "collapsed": false
   },
   "outputs": [],
   "source": [
    "%python print(\"Hi from Python\")"
   ]
  },
  {
   "cell_type": "code",
   "execution_count": null,
   "metadata": {
    "collapsed": true
   },
   "outputs": [],
   "source": [
    "%set A 1\n",
    "%get A\n",
    "echo $A\n",
    "set\n",
    "pwd\n",
    "echo $PWD"
   ]
  },
  {
   "cell_type": "code",
   "execution_count": null,
   "metadata": {
    "collapsed": false
   },
   "outputs": [],
   "source": [
    "pwd"
   ]
  },
  {
   "cell_type": "code",
   "execution_count": null,
   "metadata": {
    "collapsed": true
   },
   "outputs": [],
   "source": [
    "%help"
   ]
  },
  {
   "cell_type": "code",
   "execution_count": null,
   "metadata": {
    "collapsed": false
   },
   "outputs": [],
   "source": [
    "%%debug\n",
    "echo \"HERE OK\"\n",
    "A=1\n",
    "B=2\n",
    "echo $A"
   ]
  },
  {
   "cell_type": "code",
   "execution_count": null,
   "metadata": {
    "collapsed": false
   },
   "outputs": [],
   "source": [
    "A=\"Hello World\"\n",
    "echo $A\n",
    "echo hi\n",
    "export A"
   ]
  },
  {
   "cell_type": "code",
   "execution_count": null,
   "metadata": {
    "collapsed": false
   },
   "outputs": [],
   "source": [
    "%%python\n",
    "\n",
    "import os\n",
    "\n",
    "print(os.getenv(\"A\"))"
   ]
  },
  {
   "cell_type": "code",
   "execution_count": null,
   "metadata": {
    "collapsed": false
   },
   "outputs": [],
   "source": [
    "%html <b>Be bold, ok!<b>"
   ]
  },
  {
   "cell_type": "code",
   "execution_count": null,
   "metadata": {
    "collapsed": true
   },
   "outputs": [],
   "source": [
    "%get A\n",
    "\n",
    "print(A)"
   ]
  },
  {
   "cell_type": "code",
   "execution_count": null,
   "metadata": {
    "collapsed": true
   },
   "outputs": [],
   "source": [
    "%help help"
   ]
  },
  {
   "cell_type": "code",
   "execution_count": null,
   "metadata": {
    "collapsed": false
   },
   "outputs": [],
   "source": [
    "%dot graph A { a->b };"
   ]
  },
  {
   "cell_type": "code",
   "execution_count": null,
   "metadata": {
    "collapsed": false
   },
   "outputs": [],
   "source": [
    "%%python\n",
    "\n",
    "import pydotplus as pydot\n",
    "\n"
   ]
  },
  {
   "cell_type": "code",
   "execution_count": null,
   "metadata": {
    "collapsed": false
   },
   "outputs": [],
   "source": [
    "%%python\n",
    "\n",
    "import os\n",
    "print(os.name)\n",
    "\n",
    "import platform\n",
    "print(platform.system())\n",
    "print(platform.platform())\n",
    "print(platform.machine())\n",
    "#print(platform.os)\n",
    "print(platform.release())\n",
    "print(platform.version())\n",
    "\n",
    "#print('\\n'.join(dir(platform)))\n"
   ]
  },
  {
   "cell_type": "code",
   "execution_count": null,
   "metadata": {
    "collapsed": false
   },
   "outputs": [],
   "source": [
    "uname -a"
   ]
  },
  {
   "cell_type": "code",
   "execution_count": null,
   "metadata": {
    "collapsed": false
   },
   "outputs": [],
   "source": [
    "uname"
   ]
  },
  {
   "cell_type": "code",
   "execution_count": null,
   "metadata": {
    "collapsed": false
   },
   "outputs": [],
   "source": [
    "%%file test.dot\n",
    "%%dot\n",
    "graph A { a->b->itworks };"
   ]
  },
  {
   "cell_type": "code",
   "execution_count": null,
   "metadata": {
    "collapsed": true
   },
   "outputs": [],
   "source": [
    "%load test.dot"
   ]
  },
  {
   "cell_type": "code",
   "execution_count": null,
   "metadata": {
    "collapsed": true
   },
   "outputs": [],
   "source": [
    "%%dot\n",
    "graph A { a->b->itworks };"
   ]
  },
  {
   "cell_type": "code",
   "execution_count": null,
   "metadata": {
    "collapsed": false
   },
   "outputs": [],
   "source": [
    "%%dot\n",
    "graph A { a->b->itworks };"
   ]
  },
  {
   "cell_type": "code",
   "execution_count": null,
   "metadata": {
    "collapsed": false
   },
   "outputs": [],
   "source": [
    "%%dot\n",
    "graph A { a->b->itworks };"
   ]
  },
  {
   "cell_type": "code",
   "execution_count": null,
   "metadata": {
    "collapsed": false
   },
   "outputs": [],
   "source": [
    "%%dot\n",
    "graph A { a->b->itworks };"
   ]
  },
  {
   "cell_type": "code",
   "execution_count": null,
   "metadata": {
    "collapsed": false
   },
   "outputs": [],
   "source": [
    "%%dot\n",
    "graph A { a->b->itworks };"
   ]
  },
  {
   "cell_type": "code",
   "execution_count": null,
   "metadata": {
    "collapsed": false
   },
   "outputs": [],
   "source": [
    "%%dot\n",
    "graph A { a->b->itworks };"
   ]
  },
  {
   "cell_type": "code",
   "execution_count": null,
   "metadata": {
    "collapsed": false
   },
   "outputs": [],
   "source": [
    "%%dot\n",
    "graph A { a->b->itworks };"
   ]
  },
  {
   "cell_type": "code",
   "execution_count": null,
   "metadata": {
    "collapsed": false
   },
   "outputs": [],
   "source": [
    "%%dot\n",
    "graph A { a->b->itworks };"
   ]
  },
  {
   "cell_type": "code",
   "execution_count": null,
   "metadata": {
    "collapsed": false
   },
   "outputs": [],
   "source": [
    "%%dot\n",
    "graph A { a->b->itworks };"
   ]
  },
  {
   "cell_type": "code",
   "execution_count": null,
   "metadata": {
    "collapsed": false
   },
   "outputs": [],
   "source": [
    "echo -e \"%%dot\\ngraph A { a->b->\\\"$(date)\\\" };\" > test2.dot"
   ]
  },
  {
   "cell_type": "code",
   "execution_count": null,
   "metadata": {
    "collapsed": false
   },
   "outputs": [],
   "source": [
    "%run test2.dot"
   ]
  },
  {
   "cell_type": "code",
   "execution_count": null,
   "metadata": {
    "collapsed": false
   },
   "outputs": [],
   "source": [
    "%%dot\n",
    "graph A { a->b->itworks };\n"
   ]
  },
  {
   "cell_type": "code",
   "execution_count": null,
   "metadata": {
    "collapsed": false
   },
   "outputs": [],
   "source": [
    "%%dot\n",
    "\n",
    "graph A { a->b->itworks };\n"
   ]
  },
  {
   "cell_type": "code",
   "execution_count": null,
   "metadata": {
    "collapsed": false
   },
   "outputs": [],
   "source": [
    "%%dot\n",
    "graph A { a->b->itworks };"
   ]
  },
  {
   "cell_type": "code",
   "execution_count": null,
   "metadata": {
    "collapsed": false
   },
   "outputs": [],
   "source": [
    "%run test.dot"
   ]
  },
  {
   "cell_type": "code",
   "execution_count": null,
   "metadata": {
    "collapsed": false
   },
   "outputs": [],
   "source": [
    "%dot graph A { a->b->c->d; b->d };"
   ]
  },
  {
   "cell_type": "code",
   "execution_count": null,
   "metadata": {
    "collapsed": false
   },
   "outputs": [],
   "source": [
    "%%dot\n",
    "graph A { a->b->c };"
   ]
  },
  {
   "cell_type": "code",
   "execution_count": null,
   "metadata": {
    "collapsed": false
   },
   "outputs": [],
   "source": [
    "echo \"Hello\""
   ]
  },
  {
   "cell_type": "code",
   "execution_count": null,
   "metadata": {
    "collapsed": false
   },
   "outputs": [],
   "source": [
    "%%python -e\n",
    "\"echo hello world from bash\""
   ]
  },
  {
   "cell_type": "code",
   "execution_count": null,
   "metadata": {
    "collapsed": true
   },
   "outputs": [],
   "source": [
    "%%python -e\n",
    "retval = \"'(echo this is code in the kernel language)\""
   ]
  },
  {
   "cell_type": "code",
   "execution_count": null,
   "metadata": {
    "collapsed": true
   },
   "outputs": [],
   "source": [
    "%%python -e\n",
    "\"'(echo this is code in the kernel language)\""
   ]
  },
  {
   "cell_type": "code",
   "execution_count": null,
   "metadata": {
    "collapsed": true
   },
   "outputs": [],
   "source": [
    "%%python -e\n",
    "\"date\""
   ]
  },
  {
   "cell_type": "code",
   "execution_count": null,
   "metadata": {
    "collapsed": false
   },
   "outputs": [],
   "source": [
    "%%python -e\n",
    "\"'(date)\""
   ]
  },
  {
   "cell_type": "code",
   "execution_count": null,
   "metadata": {
    "collapsed": false
   },
   "outputs": [],
   "source": [
    "%%python -e\n",
    "\"'echo this is code in the kernel language\""
   ]
  },
  {
   "cell_type": "code",
   "execution_count": null,
   "metadata": {
    "collapsed": true
   },
   "outputs": [],
   "source": [
    "%%show --output\n",
    "retval = 54 * 54"
   ]
  },
  {
   "cell_type": "code",
   "execution_count": null,
   "metadata": {
    "collapsed": false
   },
   "outputs": [],
   "source": [
    "%set pycmd \"print('Hello World')\""
   ]
  },
  {
   "cell_type": "code",
   "execution_count": null,
   "metadata": {
    "collapsed": false
   },
   "outputs": [],
   "source": [
    "%get pycmd"
   ]
  },
  {
   "cell_type": "code",
   "execution_count": null,
   "metadata": {
    "collapsed": true
   },
   "outputs": [],
   "source": []
  },
  {
   "cell_type": "code",
   "execution_count": null,
   "metadata": {
    "collapsed": false
   },
   "outputs": [],
   "source": [
    "%%time\n",
    "ls -al"
   ]
  },
  {
   "cell_type": "code",
   "execution_count": null,
   "metadata": {
    "collapsed": false
   },
   "outputs": [],
   "source": [
    "%html <u>This is underlined!</u>"
   ]
  },
  {
   "cell_type": "code",
   "execution_count": null,
   "metadata": {
    "collapsed": true
   },
   "outputs": [],
   "source": [
    "#%kernel bash_kernel BashKernel -k bash\n",
    "%kernel bash_kernel MetaKernel_Bash -k bash\n",
    "#%kx echo hello\n",
    "%kernel ls -al\n",
    "%kx ls -al"
   ]
  },
  {
   "cell_type": "code",
   "execution_count": null,
   "metadata": {
    "collapsed": false
   },
   "outputs": [],
   "source": [
    "%kx -k bash ls -al"
   ]
  },
  {
   "cell_type": "code",
   "execution_count": null,
   "metadata": {
    "collapsed": false
   },
   "outputs": [],
   "source": [
    "ls -al\n",
    "echo HELLO\n",
    "%load README.md"
   ]
  },
  {
   "cell_type": "code",
   "execution_count": null,
   "metadata": {
    "collapsed": false
   },
   "outputs": [],
   "source": [
    "%macro -l all"
   ]
  },
  {
   "cell_type": "code",
   "execution_count": null,
   "metadata": {
    "collapsed": true
   },
   "outputs": [],
   "source": [
    "%%macro my_test_macro\n",
    "#print \"Ok!\"\n",
    "#ls -al\n",
    "echo \"This is a test macro!\""
   ]
  },
  {
   "cell_type": "code",
   "execution_count": null,
   "metadata": {
    "collapsed": false
   },
   "outputs": [],
   "source": [
    "%macro my_test_macro"
   ]
  },
  {
   "cell_type": "code",
   "execution_count": null,
   "metadata": {
    "collapsed": false
   },
   "outputs": [],
   "source": [
    "%macro -l learned"
   ]
  },
  {
   "cell_type": "code",
   "execution_count": null,
   "metadata": {
    "collapsed": false
   },
   "outputs": [],
   "source": [
    "%macro -s my_test_macro"
   ]
  },
  {
   "cell_type": "code",
   "execution_count": null,
   "metadata": {
    "collapsed": false
   },
   "outputs": [],
   "source": [
    "myfunc() { echo \"My function with arg[$1]!\"; }"
   ]
  },
  {
   "cell_type": "code",
   "execution_count": null,
   "metadata": {
    "collapsed": false
   },
   "outputs": [],
   "source": [
    "myfunc test_arg"
   ]
  },
  {
   "cell_type": "code",
   "execution_count": null,
   "metadata": {
    "collapsed": false
   },
   "outputs": [],
   "source": [
    "%parallel bash_kernel BashKernel --i [0,2:5,9,...]"
   ]
  },
  {
   "cell_type": "code",
   "execution_count": null,
   "metadata": {
    "collapsed": true
   },
   "outputs": [],
   "source": [
    "%plot qt --format=png\n",
    "%plot inline -s 640,480"
   ]
  },
  {
   "cell_type": "code",
   "execution_count": null,
   "metadata": {
    "collapsed": false
   },
   "outputs": [],
   "source": [
    "%pmap function-name-in-language range(10)\n",
    "%pmap function-name-in-language [1,2,3,4]\n",
    "%pmap run_experiment range(1,100,5)\n",
    "%pmap run_experiment [\"test1\",\"test2\",\"test3\"]\n",
    "%pmap f [(1,4,7),(2,3,5),(7,2,2)]"
   ]
  },
  {
   "cell_type": "code",
   "execution_count": null,
   "metadata": {
    "collapsed": false
   },
   "outputs": [],
   "source": [
    "%%px\n",
    "(define myfunc\n",
    "   (lambda (n)\n",
    "     (+ n 1)))"
   ]
  },
  {
   "cell_type": "code",
   "execution_count": null,
   "metadata": {
    "collapsed": false
   },
   "outputs": [],
   "source": [
    "%px sys.version"
   ]
  },
  {
   "cell_type": "code",
   "execution_count": null,
   "metadata": {
    "collapsed": false
   },
   "outputs": [],
   "source": [
    "%lsmagic"
   ]
  },
  {
   "cell_type": "code",
   "execution_count": null,
   "metadata": {
    "collapsed": false
   },
   "outputs": [],
   "source": [
    "%%tutor --language=python3\n",
    "\n",
    "a=1\n",
    "print(a)"
   ]
  },
  {
   "cell_type": "code",
   "execution_count": null,
   "metadata": {
    "collapsed": false
   },
   "outputs": [],
   "source": [
    "%magic"
   ]
  },
  {
   "cell_type": "code",
   "execution_count": null,
   "metadata": {
    "collapsed": false
   },
   "outputs": [],
   "source": [
    "%lsmagic"
   ]
  },
  {
   "cell_type": "code",
   "execution_count": null,
   "metadata": {
    "collapsed": false
   },
   "outputs": [],
   "source": [
    "%ls"
   ]
  },
  {
   "cell_type": "code",
   "execution_count": null,
   "metadata": {
    "collapsed": false
   },
   "outputs": [],
   "source": [
    "# NOTE: Installed GraphViz for Windows from .msi (http://www.graphviz.org/Download_windows.php)\n",
    "# NOTE: Modified metakernel/magics/dot_magic.py to use\n",
    "#        import pydotplus as pydot\n",
    "%dot graph A { a->b };"
   ]
  },
  {
   "cell_type": "code",
   "execution_count": null,
   "metadata": {
    "collapsed": false
   },
   "outputs": [],
   "source": [
    "%%python\n",
    "\n",
    "import pydotplus as pydot\n",
    "\n",
    "pydot.graph_from_dot_data(\"graph A { a->b }\")"
   ]
  },
  {
   "cell_type": "code",
   "execution_count": null,
   "metadata": {
    "collapsed": false
   },
   "outputs": [],
   "source": [
    "%%python\n",
    "\n",
    "# -*- coding: utf-8 -*-\n",
    "\"\"\"\n",
    "pydot example 1\n",
    "@author: Federico Cáceres\n",
    "@url: http://pythonhaven.wordpress.com/2009/12/09/generating_graphs_with_pydot\n",
    "\"\"\"\n",
    "import pydotplus as pydot # import pydot or you're not going to get anywhere my friend :D\n",
    "\n",
    "# first you create a new graph, you do that with pydot.Dot()\n",
    "graph = pydot.Dot(graph_type='graph')\n",
    "\n",
    "# the idea here is not to cover how to represent the hierarchical data\n",
    "# but rather how to graph it, so I'm not going to work on some fancy\n",
    "# recursive function to traverse a multidimensional array...\n",
    "# I'm going to hardcode stuff... sorry if that offends you\n",
    "\n",
    "# let's add the relationship between the king and vassals\n",
    "for i in range(3):\n",
    "    # we can get right into action by \"drawing\" edges between the nodes in our graph\n",
    "    # we do not need to CREATE nodes, but if you want to give them some custom style\n",
    "    # then I would recomend you to do so... let's cover that later\n",
    "    # the pydot.Edge() constructor receives two parameters, a source node and a destination\n",
    "    # node, they are just strings like you can see\n",
    "    edge = pydot.Edge(\"king\", \"lord%d\" % i)\n",
    "    # and we obviosuly need to add the edge to our graph\n",
    "    graph.add_edge(edge)\n",
    "\n",
    "# now let us add some vassals\n",
    "vassal_num = 0\n",
    "for i in range(3):\n",
    "    # we create new edges, now between our previous lords and the new vassals\n",
    "    # let us create two vassals for each lord\n",
    "    for j in range(2):\n",
    "        edge = pydot.Edge(\"lord%d\" % i, \"vassal%d\" % vassal_num)\n",
    "        graph.add_edge(edge)\n",
    "        vassal_num += 1\n",
    "\n",
    "# ok, we are set, let's save our graph into a file\n",
    "graph.write_png('example1_graph.png')\n",
    "\n",
    "# and we are done!"
   ]
  }
 ],
 "metadata": {
  "celltoolbar": "Slideshow",
  "kernelspec": {
   "display_name": "MetaKernel Bash",
   "language": "bash",
   "name": "metakernel_bash"
  },
  "language_info": {
   "file_extension": ".sh",
   "help_links": [
    {
     "text": "MetaKernel Magics",
     "url": "https://github.com/calysto/metakernel/blob/master/metakernel/magics/README.md"
    }
   ],
   "mimetype": "text/x-bash",
   "name": "bash"
  }
 },
 "nbformat": 4,
 "nbformat_minor": 0
}
