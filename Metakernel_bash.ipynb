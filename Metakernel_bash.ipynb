{
 "cells": [
  {
   "cell_type": "markdown",
   "metadata": {
    "slideshow": {
     "slide_type": "notes"
    }
   },
   "source": [
    "# TODO:\n",
    "  \n",
    "- Look at GraphTerm ([see e-mails](https://mail.google.com/mail/u/0/#search/xmlterm/138d5fe41f1ce24c), [see github](https://github.com/mitotic/graphterm))\n",
    "  - Investigate ideas, evaluate value of Jupyter/metakernel_bash versus GraphTerm\n",
    "  - Kudos to this guy for GraphTerm, xmlterm and [xmlterm](https://github.com/gandrewstone/xmlterm) and mention other projects mentioned in his github page\n",
    "  - Try out these other projects ..\n",
    "  \n",
    "- Try out ideas for bash under binder (see issue [here](https://github.com/binder-project/binder/issues/50))\n",
    "\n",
    "- Put forward bash advantages of pipelines\n",
    "\n",
    "- Use command-line data handling tools: See [dhoban](https://github.com/dbohdan/structured-text-tools?utm_source=hackernewsletter&utm_medium=email&utm_term=fav)\n",
    "\n",
    "- USE unique div ids (based on what -> cell number or *date_time*?)\n",
    "\n",
    "- simple_d3js <csvfile> # or stdin if no arg\n",
    "\n",
    "- du_d3js # show pie chart\n",
    "    - watch_du_d3js # show pie chart - with periodic updates\n",
    "    - interactive d3.js examples\n",
    "\n",
    "- xmlterm: xls, xfind, ...\n",
    "    - xwatch <watchoptions> [<du> -a/-s|df| ls -h]\n",
    "\n",
    "- how to do lightning from js w/o npm ?\n",
    "  - Can I just ref js files from https://github.com/lightning-viz/lightning.js/tree/master/lib\n",
    "\n",
    "- Graphical or HTML/pretty displays of\n",
    "  - OpenStack images, instances, networks\n",
    "  - Docker images, instances, networks\n",
    "  - Database data: MySQL, PostgreSQL, MongoDB, BerkelyDB?\n",
    "  - bash structures (arrays, assoc. arrays)\n",
    "  \n",
    "- Create bash functions which invoke Python interactivity,\n",
    "  - e.g. du -s DIR (choose DIR from Python dropdown box?)\n",
    "\n"
   ]
  },
  {
   "cell_type": "markdown",
   "metadata": {},
   "source": [
    "# TODO\n",
    "\n",
    "#### Top level\n",
    "- Ability to display images (useful use cases?)\n",
    "- OpenStack cli\n",
    "  - nova list/nova images ==> html table\n",
    "- Docker cli\n",
    "  - docker ps ==> html table (or graphic showing image size/resources, coloured by image?)\n",
    "  - docker images ==> html table (or graphic showing relations, size/resources)\n",
    "- du -s (any spaced or csv tabular output) ==> html table OR graphics (histogram, pie chart)\n",
    "  - hierarchical pie chart like overdisk?\n",
    "- Integration with d3.js visualizations\n",
    "\n",
    "#### To add\n",
    "- %functions and %lsmagic: to list bash functions (display, pydot)\n",
    "- Create pydot function dimilar to display, allowing to create graphs by:\n",
    "    - echo -e \"%%dot\\nGRAPH\" | pydot\n",
    "- How to **pass variables** between bash and Python?\n",
    "- Try \"display\" or D3.js like functionality for results of bash commands, e.g. du -s\n",
    "  - direct in cells, or via %%javascript, %%python magics\n",
    "- Try interactive widgets\n",
    "- Extend metakernel_bash with display, d3, interactive widgets, HTML table rendering"
   ]
  },
  {
   "cell_type": "code",
   "execution_count": 1,
   "metadata": {
    "collapsed": false
   },
   "outputs": [
    {
     "data": {},
     "execution_count": 1,
     "metadata": {},
     "output_type": "execute_result"
    }
   ],
   "source": [
    "# Functions to reload local metakernelrcs:\n",
    "function reread_local_metakernelrc { source /home/mjbright/src/git/GIT_mjbright/metakernel/metakernel_bash/metakernelrc; }\n",
    "function reread_local_user_metakernelrc { source /home/mjbright/src/git/GIT_mjbright/metakernel/metakernel_bash/metakernelrc.user; }"
   ]
  },
  {
   "cell_type": "code",
   "execution_count": 2,
   "metadata": {
    "collapsed": false
   },
   "outputs": [
    {
     "data": {
      "text/plain": [
       "total 3414\n",
       "drwxr-xr-x+ 1 mjbright Domain Users       0 May 15 17:09 .\n",
       "drwxr-xr-x+ 1 mjbright Domain Users       0 May 12 10:06 ..\n",
       "drwxr-xr-x+ 1 mjbright Domain Users       0 May 15 08:27 .git\n",
       "drwxr-xr-x+ 1 mjbright Domain Users       0 May 15 15:49 .ipynb_checkpoints\n",
       "-rwxr-xr-x  1 mjbright Domain Users   17780 May 13 21:21 2016-Jun-DockerCon-KeynoteHacks.ipynb\n",
       "-rw-r--r--  1 mjbright Domain Users       0 May  7 11:24 b\n",
       "-rwxr-xr-x  1 mjbright Domain Users     467 May 15 17:09 data.csv\n",
       "-rwxr-xr-x  1 mjbright Domain Users   24506 May 15 17:09 example1_graph.png\n",
       "-rwxr-xr-x  1 mjbright Domain Users      30 May 13 18:24 jupyter.sh\n",
       "drwxr-xr-x+ 1 mjbright Domain Users       0 May 10 14:38 lightning-examples\n",
       "-rwxr-xr-x  1 mjbright Domain Users  215675 May 15 17:09 Metakernel_bash.ipynb\n",
       "-rwxr-xr-x  1 mjbright Domain Users    6563 May  6 19:58 Metakernel_echo.ipynb\n",
       "-rwxr-xr-x  1 mjbright Domain Users   27384 May 13 18:27 PRESENTATION - Jupyter for Everything Else.ipynb\n",
       "-rw-r--r--  1 mjbright Domain Users       0 May 15 17:09 proc1:f0\n",
       "-rwxr-xr-x  1 mjbright Domain Users     921 May  9 17:31 Python3_LightningExperiments.ipynb\n",
       "-rwxr-xr-x  1 mjbright Domain Users    4021 May  7 20:58 Python3_render_html_table_from_MySQLTableText.ipynb\n",
       "-rw-r--r--  1 mjbright Domain Users     102 May  7 08:08 README.md\n",
       "-rw-r--r--  1 mjbright Domain Users       0 May 15 17:09 S0\n",
       "-rw-r--r--  1 mjbright Domain Users       0 May 15 17:09 S1\n",
       "-rw-r--r--  1 mjbright Domain Users       0 May 15 17:09 S2\n",
       "-rw-r--r--  1 mjbright Domain Users       0 May 15 17:09 S3\n",
       "-rw-r--r--  1 mjbright Domain Users 3134247 May  9 17:31 severless.ipynb\n",
       "-rwxr-xr-x  1 mjbright Domain Users      33 May 15 17:09 test.dot\n",
       "-rw-r--r--  1 mjbright Domain Users      57 May  7 08:56 test2.dot\n",
       "-rwxr-xr-x  1 mjbright Domain Users     592 May 15 15:51 Untitled.ipynb"
      ]
     },
     "execution_count": 2,
     "metadata": {},
     "output_type": "execute_result"
    }
   ],
   "source": [
    "ls -al"
   ]
  },
  {
   "cell_type": "code",
   "execution_count": 3,
   "metadata": {
    "collapsed": false
   },
   "outputs": [
    {
     "data": {
      "text/plain": [
       "[Sun, May 15, 2016 5:10:48 PM] Sourcing <<C:/Progs/Anaconda3/lib/site-packages/metakernel-0.12.6-py3.5.egg/rcfiles/metakernelrc>>"
      ]
     },
     "execution_count": 3,
     "metadata": {},
     "output_type": "execute_result"
    }
   ],
   "source": [
    "reread_metakernelrc"
   ]
  },
  {
   "cell_type": "code",
   "execution_count": 4,
   "metadata": {
    "collapsed": false
   },
   "outputs": [
    {
     "data": {
      "text/plain": [
       "[Sun, May 15, 2016 5:10:49 PM] Sourcing <</home/mjbright/.metakernelrc>>"
      ]
     },
     "execution_count": 4,
     "metadata": {},
     "output_type": "execute_result"
    }
   ],
   "source": [
    "reread_user_metakernelrc"
   ]
  },
  {
   "cell_type": "code",
   "execution_count": 5,
   "metadata": {
    "collapsed": false
   },
   "outputs": [
    {
     "data": {
      "text/plain": [
       "[Sun, May 15, 2016 5:10:50 PM] Sourcing <<C:/Progs/Anaconda3/lib/site-packages/metakernel-0.12.6-py3.5.egg/rcfiles/metakernelrc>>"
      ]
     },
     "execution_count": 5,
     "metadata": {},
     "output_type": "execute_result"
    }
   ],
   "source": [
    "reread_metakernelrc"
   ]
  },
  {
   "cell_type": "code",
   "execution_count": 6,
   "metadata": {
    "collapsed": false
   },
   "outputs": [
    {
     "data": {
      "application/javascript": [
       "window.alert('hello world')\n"
      ],
      "text/plain": [
       "<IPython.core.display.Javascript object>"
      ]
     },
     "metadata": {},
     "output_type": "display_data"
    }
   ],
   "source": [
    "echo \"window.alert('hello world')\" | js"
   ]
  },
  {
   "cell_type": "code",
   "execution_count": 7,
   "metadata": {
    "collapsed": false
   },
   "outputs": [
    {
     "name": "stdout",
     "output_type": "stream",
     "text": [
      "hello world from Python v3.5.1(final)\n"
     ]
    }
   ],
   "source": [
    "echo \"import sys; print('hello world from Python v{}.{}.{}({})'.format(sys.version_info[0],sys.version_info[1],sys.version_info[2],sys.version_info[3]))\" | PYTHON"
   ]
  },
  {
   "cell_type": "code",
   "execution_count": 8,
   "metadata": {
    "collapsed": false
   },
   "outputs": [
    {
     "data": {
      "text/html": [
       "<h1>An html header <!-- A comment --></h1>\n"
      ],
      "text/plain": [
       "<IPython.core.display.HTML object>"
      ]
     },
     "metadata": {},
     "output_type": "display_data"
    }
   ],
   "source": [
    "echo \"<h1>An html header <!-- A comment --></h1>\" | html"
   ]
  },
  {
   "cell_type": "code",
   "execution_count": 9,
   "metadata": {
    "collapsed": false
   },
   "outputs": [
    {
     "data": {
      "text/html": [
       "<h1>A table <!-- A comment --></h1>\n",
       "\n",
       "<table><tr><th>col1</th>\n",
       "\n",
       "<th>col2</th>\n",
       "\n",
       "<th>col3</th>\n",
       "\n",
       "<th>col4</th>\n",
       "\n",
       "</tr>\n",
       "\n",
       "<tr><td>val1</td>\n",
       "\n",
       "    <td>val2</td>\n",
       "\n",
       "    <td>val3</td>\n",
       "\n",
       "    <td>val4</td>\n",
       "\n",
       "</tr>\n",
       "\n",
       "<tr><td>valu1</td>\n",
       "\n",
       "    <td>value2</td>\n",
       "\n",
       "    <td>value3</td>\n",
       "\n",
       "    <td>val4</td>\n",
       "\n",
       "</tr></table>\n"
      ],
      "text/plain": [
       "<IPython.core.display.HTML object>"
      ]
     },
     "metadata": {},
     "output_type": "display_data"
    }
   ],
   "source": [
    "echo \"<h1>A table <!-- A comment --></h1>\n",
    "<table><tr><th>col1</th>\n",
    "<th>col2</th>\n",
    "<th>col3</th>\n",
    "<th>col4</th>\n",
    "</tr>\n",
    "<tr><td>val1</td>\n",
    "    <td>val2</td>\n",
    "    <td>val3</td>\n",
    "    <td>val4</td>\n",
    "</tr>\n",
    "<tr><td>valu1</td>\n",
    "    <td>value2</td>\n",
    "    <td>value3</td>\n",
    "    <td>val4</td>\n",
    "</tr></table>\" | html"
   ]
  },
  {
   "cell_type": "code",
   "execution_count": 10,
   "metadata": {
    "collapsed": false
   },
   "outputs": [
    {
     "data": {
      "text/html": [
       "<table><tr><th>col1</th>\n",
       "\n",
       "<th>col2</th>\n",
       "\n",
       "<th>col3</th>\n",
       "\n",
       "<th>col4</th>\n",
       "\n",
       "</tr>\n",
       "\n",
       "<tr><td>val1</td>\n",
       "\n",
       "    <td>val2</td>\n",
       "\n",
       "    <td>val3</td>\n",
       "\n",
       "    <td>val4</td>\n",
       "\n",
       "</tr>\n",
       "\n",
       "<tr><td>valu1</td>\n",
       "\n",
       "    <td>value2</td>\n",
       "\n",
       "    <td>value3</td>\n",
       "\n",
       "    <td>val4</td>\n",
       "\n",
       "</tr></table>\n"
      ],
      "text/plain": [
       "<IPython.core.display.HTML object>"
      ]
     },
     "metadata": {},
     "output_type": "display_data"
    }
   ],
   "source": [
    "test_html_table | html"
   ]
  },
  {
   "cell_type": "code",
   "execution_count": 11,
   "metadata": {
    "collapsed": false
   },
   "outputs": [
    {
     "data": {
      "text/plain": [
       "[Sun, May 15, 2016 5:11:03 PM] Sourcing <</home/mjbright/src/git/GIT_mjbright/metakernel/metakernel_bash/metakernelrc>>\n",
       "[Sun, May 15, 2016 5:11:03 PM] Sourcing <</home/mjbright/src/git/GIT_mjbright/metakernel/metakernel_bash/metakernelrc.user>>"
      ]
     },
     "execution_count": 11,
     "metadata": {},
     "output_type": "execute_result"
    }
   ],
   "source": [
    "reread_local_metakernelrc\n",
    "reread_local_user_metakernelrc"
   ]
  },
  {
   "cell_type": "code",
   "execution_count": null,
   "metadata": {
    "collapsed": false
   },
   "outputs": [],
   "source": []
  },
  {
   "cell_type": "markdown",
   "metadata": {},
   "source": [
    "Below data and initial simple_d3js copied/adapted from one of [d3noobs blocks](http://bl.ocks.org/d3noob) here:\n",
    " http://bl.ocks.org/d3noob/b3ff6ae1c120eea654b5"
   ]
  },
  {
   "cell_type": "code",
   "execution_count": 12,
   "metadata": {
    "collapsed": false
   },
   "outputs": [
    {
     "name": "stdout",
     "output_type": "stream",
     "text": [
      "Created file 'C:\\tools\\cygwin\\home\\mjbright\\src\\git\\GIT_mjbright\\jupyter-for-everything-else\\data.csv'.\n"
     ]
    }
   ],
   "source": [
    "%%file data.csv\n",
    "date,close\n",
    "1-May-12,58.13\n",
    "30-Apr-12,53.98\n",
    "27-Apr-12,67.00\n",
    "26-Apr-12,89.70\n",
    "25-Apr-12,99.00\n",
    "24-Apr-12,130.28\n",
    "23-Apr-12,166.70\n",
    "20-Apr-12,234.98\n",
    "19-Apr-12,345.44\n",
    "18-Apr-12,443.34\n",
    "17-Apr-12,543.70\n",
    "16-Apr-12,580.13\n",
    "13-Apr-12,605.23\n",
    "12-Apr-12,622.77\n",
    "11-Apr-12,626.20\n",
    "10-Apr-12,628.44\n",
    "9-Apr-12,636.23\n",
    "5-Apr-12,633.68\n",
    "4-Apr-12,624.31\n",
    "3-Apr-12,629.32\n",
    "2-Apr-12,618.63\n",
    "30-Mar-12,599.55\n",
    "29-Mar-12,609.86\n",
    "28-Mar-12,617.62\n",
    "27-Mar-12,614.48\n",
    "26-Mar-12,606.98"
   ]
  },
  {
   "cell_type": "markdown",
   "metadata": {},
   "source": [
    "How about displaying that csv data in d3.js, called from a bash function?"
   ]
  },
  {
   "cell_type": "code",
   "execution_count": 14,
   "metadata": {
    "collapsed": false
   },
   "outputs": [
    {
     "data": {
      "text/html": [
       "<!DOCTYPE html>\n",
       "\n",
       "<meta charset=\"utf-8\">\n",
       "\n",
       "<style> /* set the CSS */\n",
       "\n",
       "\n",
       "\n",
       "body { font: 12px Arial;}\n",
       "\n",
       "\n",
       "\n",
       "path { \n",
       "\n",
       "    stroke: steelblue;\n",
       "\n",
       "    stroke-width: 2;\n",
       "\n",
       "    fill: none;\n",
       "\n",
       "}\n",
       "\n",
       "\n",
       "\n",
       ".axis path,\n",
       "\n",
       ".axis line {\n",
       "\n",
       "    fill: none;\n",
       "\n",
       "    stroke: grey;\n",
       "\n",
       "    stroke-width: 1;\n",
       "\n",
       "    shape-rendering: crispEdges;\n",
       "\n",
       "}\n",
       "\n",
       "\n",
       "\n",
       "</style>\n",
       "\n",
       "<div id=\"myd3\">\n",
       "\n",
       "\n",
       "\n",
       "<!-- load the d3.js library -->    \n",
       "\n",
       "<script src=\"http://d3js.org/d3.v3.min.js\"></script>\n",
       "\n",
       "\n",
       "\n",
       "<script>\n",
       "\n",
       "\n",
       "\n",
       "// Set the dimensions of the canvas / graph\n",
       "\n",
       "var margin = {top: 30, right: 20, bottom: 30, left: 50},\n",
       "\n",
       "    width = 600 - margin.left - margin.right,\n",
       "\n",
       "    height = 270 - margin.top - margin.bottom;\n",
       "\n",
       "\n",
       "\n",
       "// Parse the date / time\n",
       "\n",
       "var parseDate = d3.time.format(\"%d-%b-%y\").parse;\n",
       "\n",
       "\n",
       "\n",
       "// Set the ranges\n",
       "\n",
       "var x = d3.time.scale().range([0, width]);\n",
       "\n",
       "var y = d3.scale.linear().range([height, 0]);\n",
       "\n",
       "\n",
       "\n",
       "// Define the axes\n",
       "\n",
       "var xAxis = d3.svg.axis().scale(x)\n",
       "\n",
       "    .orient(\"bottom\").ticks(5);\n",
       "\n",
       "\n",
       "\n",
       "var yAxis = d3.svg.axis().scale(y)\n",
       "\n",
       "    .orient(\"left\").ticks(5);\n",
       "\n",
       "\n",
       "\n",
       "// Define the line\n",
       "\n",
       "var valueline = d3.svg.line()\n",
       "\n",
       "    .x(function(d) { return x(d.date); })\n",
       "\n",
       "    .y(function(d) { return y(d.close); });\n",
       "\n",
       "    \n",
       "\n",
       "// Adds the svg canvas\n",
       "\n",
       "var svg = d3.select(\"#myd3\")\n",
       "\n",
       "    .append(\"svg\")\n",
       "\n",
       "        .attr(\"width\", width + margin.left + margin.right)\n",
       "\n",
       "        .attr(\"height\", height + margin.top + margin.bottom)\n",
       "\n",
       "    .append(\"g\")\n",
       "\n",
       "        .attr(\"transform\", \n",
       "\n",
       "              \"translate(\" + margin.left + \",\" + margin.top + \")\");\n",
       "\n",
       "\n",
       "\n",
       "// Get the data\n",
       "\n",
       "d3.csv(\"data.csv\", function(error, data) {\n",
       "\n",
       "    data.forEach(function(d) {\n",
       "\n",
       "        d.date = parseDate(d.date);\n",
       "\n",
       "        d.close = +d.close;\n",
       "\n",
       "    });\n",
       "\n",
       "\n",
       "\n",
       "    // Scale the range of the data\n",
       "\n",
       "    x.domain(d3.extent(data, function(d) { return d.date; }));\n",
       "\n",
       "    y.domain([0, d3.max(data, function(d) { return d.close; })]);\n",
       "\n",
       "\n",
       "\n",
       "    // Add the valueline path.\n",
       "\n",
       "    svg.append(\"path\")\n",
       "\n",
       "        .attr(\"class\", \"line\")\n",
       "\n",
       "        .attr(\"d\", valueline(data));\n",
       "\n",
       "\n",
       "\n",
       "    // Add the X Axis\n",
       "\n",
       "    svg.append(\"g\")\n",
       "\n",
       "        .attr(\"class\", \"x axis\")\n",
       "\n",
       "        .attr(\"transform\", \"translate(0,\" + height + \")\")\n",
       "\n",
       "        .call(xAxis);\n",
       "\n",
       "\n",
       "\n",
       "    // Add the Y Axis\n",
       "\n",
       "    svg.append(\"g\")\n",
       "\n",
       "        .attr(\"class\", \"y axis\")\n",
       "\n",
       "        .call(yAxis);\n",
       "\n",
       "\n",
       "\n",
       "});\n",
       "\n",
       "\n",
       "\n",
       "</script>\n",
       "\n",
       "</div>\n",
       "\n",
       "\n"
      ],
      "text/plain": [
       "<IPython.core.display.HTML object>"
      ]
     },
     "metadata": {},
     "output_type": "display_data"
    }
   ],
   "source": [
    "simple_d3js data.csv"
   ]
  },
  {
   "cell_type": "code",
   "execution_count": 15,
   "metadata": {
    "collapsed": false
   },
   "outputs": [
    {
     "data": {
      "text/plain": [
       ");\n",
       "\n",
       "    // Add the X Axis\n",
       "    svg.append(\"g\")\n",
       "        .attr(\"class\", \"x axsimple_d3js is a function\n",
       "simple_d3js () \n",
       "{ \n",
       "    echo \"Invoked ${FUNCNAME[0]} $*\" 1>&2;\n",
       "    HTMLSCRIPT=$CYGROOT/$TMPDIR/${FUNCNAME[0]}.html;\n",
       "    cat  > $HTMLSCRIPT <<EOF\n",
       "<!DOCTYPE html>\n",
       "<meta charset=\"utf-8\">\n",
       "<style> /* set the CSS */\n",
       "\n",
       "body { font: 12px Arial;}\n",
       "\n",
       "path { \n",
       "    stroke: steelblue;\n",
       "    stroke-width: 2;\n",
       "    fill: none;\n",
       "}\n",
       "\n",
       ".axis path,\n",
       ".axis line {\n",
       "    fill: none;\n",
       "    stroke: grey;\n",
       "    stroke-width: 1;\n",
       "    shape-rendering: crispEdges;\n",
       "}\n",
       "\n",
       "</style>\n",
       "<div id=\"myd3\">\n",
       "\n",
       "<!-- load the d3.js library -->    \n",
       "<script src=\"http://d3js.org/d3.v3.min.js\"></script>\n",
       "\n",
       "<script>\n",
       "\n",
       "// Set the dimensions of the canvas / graph\n",
       "var margin = {top: 30, right: 20, bottom: 30, left: 50},\n",
       "    width = 600 - margin.left - margin.right,\n",
       "    height = 270 - margin.top - margin.bottom;\n",
       "\n",
       "// Parse the date / time\n",
       "var parseDate = d3.time.format(\"%d-%b-%y\").parse;\n",
       "\n",
       "// Set the ranges\n",
       "var x = d3.time.scale().range([0, width]);\n",
       "var y = d3.scale.linear().range([height, 0]);\n",
       "\n",
       "// Define the axes\n",
       "var xAxis = d3.svg.axis().scale(x)\n",
       "    .orient(\"bottom\").ticks(5);\n",
       "\n",
       "var yAxis = d3.svg.axis().scale(y)\n",
       "    .orient(\"left\").ticks(5);\n",
       "\n",
       "// Define the line\n",
       "var valueline = d3.svg.line()\n",
       "    .x(function(d) { return x(d.date); })\n",
       "    .y(function(d) { return y(d.close); });\n",
       "    \n",
       "// Adds the svg canvas\n",
       "var svg = d3.select(\"#myd3\")\n",
       "    .append(\"svg\")\n",
       "        .attr(\"width\", width + margin.left + margin.right)\n",
       "        .attr(\"height\", height + margin.top + margin.bottom)\n",
       "    .append(\"g\")\n",
       "        .attr(\"transform\", \n",
       "              \"translate(\" + margin.left + \",\" + margin.top + \")\");\n",
       "\n",
       "// Get the data\n",
       "d3.csv(\"data.csv\", function(error, data) {\n",
       "    data.forEach(function(d) {\n",
       "        d.date = parseDate(d.date);\n",
       "        d.close = +d.close;\n",
       "    });\n",
       "\n",
       "    // Scale the range of the data\n",
       "    x.domain(d3.extent(data, function(d) { return d.date; }));\n",
       "    y.domain([0, d3.max(data, function(d) { return d.close; })]);\n",
       "\n",
       "    // Add the valueline path.\n",
       "    svg.append(\"path\")\n",
       "        .attr(\"class\", \"line\")\n",
       "        .attr(\"d\", valueline(data)is\")\n",
       "        .attr(\"transform\", \"translate(0,\" + height + \")\")\n",
       "        .call(xAxis);\n",
       "\n",
       "    // Add the Y Axis\n",
       "    svg.append(\"g\")\n",
       "        .attr(\"class\", \"y axis\")\n",
       "        .call(yAxis);\n",
       "\n",
       "});\n",
       "\n",
       "</script>\n",
       "</div>\n",
       "\n",
       "EOF\n",
       "\n",
       "    cat $HTMLSCRIPT 2>&1 | tee $TMPDIR/${FUNCNAME[0]}.stdout | html\n",
       "}"
      ]
     },
     "execution_count": 15,
     "metadata": {},
     "output_type": "execute_result"
    }
   ],
   "source": [
    "type simple_d3js"
   ]
  },
  {
   "cell_type": "code",
   "execution_count": 16,
   "metadata": {
    "collapsed": false
   },
   "outputs": [
    {
     "data": {},
     "execution_count": 16,
     "metadata": {},
     "output_type": "execute_result"
    }
   ],
   "source": [
    "# Doesn't work (can't use IPython display from metakernel_python magic)\n",
    "# lightning | PYTHON"
   ]
  },
  {
   "cell_type": "code",
   "execution_count": 17,
   "metadata": {
    "collapsed": false
   },
   "outputs": [
    {
     "name": "stdout",
     "output_type": "stream",
     "text": [
      "Lightning initialized\n",
      "Connected to server at http://public.lightning-viz.org\n",
      "<lightning.types.plots.Line object at 0x00000000073FC5F8>\n"
     ]
    }
   ],
   "source": [
    "%%python\n",
    "# Doesn't work (can't use IPython display from metakernel_python magic)\n",
    "\n",
    "from lightning import Lightning\n",
    "\n",
    "from numpy import random, asarray\n",
    "\n",
    "#lgn = Lightning(ipython=True, host='http://public.lightning-viz.org')\n",
    "lgn = Lightning(ipython=False, host='http://public.lightning-viz.org')\n",
    "\n",
    "series = random.randn(5, 50)\n",
    "\n",
    "op = lgn.line(series)\n",
    "print(op)"
   ]
  },
  {
   "cell_type": "code",
   "execution_count": 18,
   "metadata": {
    "collapsed": false
   },
   "outputs": [
    {
     "data": {},
     "execution_count": 18,
     "metadata": {},
     "output_type": "execute_result"
    }
   ],
   "source": [
    "#npm install lightning.js"
   ]
  },
  {
   "cell_type": "code",
   "execution_count": 19,
   "metadata": {
    "collapsed": false
   },
   "outputs": [
    {
     "data": {
      "text/html": [
       "<?xml version=\"1.0\" encoding=\"UTF-8\" standalone=\"no\"?>\r\n",
       "<!DOCTYPE svg PUBLIC \"-//W3C//DTD SVG 1.1//EN\"\r\n",
       " \"http://www.w3.org/Graphics/SVG/1.1/DTD/svg11.dtd\">\r\n",
       "<!-- Generated by graphviz version 2.38.0 (20140413.2041)\r\n",
       " -->\r\n",
       "<!-- Title: A Pages: 1 -->\r\n",
       "<svg width=\"62pt\" height=\"116pt\"\r\n",
       " viewBox=\"0.00 0.00 62.00 116.00\" xmlns=\"http://www.w3.org/2000/svg\" xmlns:xlink=\"http://www.w3.org/1999/xlink\">\r\n",
       "<g id=\"graph0\" class=\"graph\" transform=\"scale(1 1) rotate(0) translate(4 112)\">\r\n",
       "<title>A</title>\r\n",
       "<polygon fill=\"white\" stroke=\"none\" points=\"-4,4 -4,-112 58,-112 58,4 -4,4\"/>\r\n",
       "<!-- a -->\r\n",
       "<g id=\"node1\" class=\"node\"><title>a</title>\r\n",
       "<ellipse fill=\"none\" stroke=\"black\" cx=\"27\" cy=\"-90\" rx=\"27\" ry=\"18\"/>\r\n",
       "<text text-anchor=\"middle\" x=\"27\" y=\"-86.3\" font-family=\"Times New Roman,serif\" font-size=\"14.00\">a</text>\r\n",
       "</g>\r\n",
       "<!-- b -->\r\n",
       "<g id=\"node2\" class=\"node\"><title>b</title>\r\n",
       "<ellipse fill=\"none\" stroke=\"black\" cx=\"27\" cy=\"-18\" rx=\"27\" ry=\"18\"/>\r\n",
       "<text text-anchor=\"middle\" x=\"27\" y=\"-14.3\" font-family=\"Times New Roman,serif\" font-size=\"14.00\">b</text>\r\n",
       "</g>\r\n",
       "<!-- a&#45;&#45;b -->\r\n",
       "<g id=\"edge1\" class=\"edge\"><title>a&#45;&#45;b</title>\r\n",
       "<path fill=\"none\" stroke=\"black\" d=\"M27,-71.6966C27,-60.8463 27,-46.9167 27,-36.1043\"/>\r\n",
       "</g>\r\n",
       "</g>\r\n",
       "</svg>\r\n"
      ],
      "text/plain": [
       "<IPython.core.display.HTML object>"
      ]
     },
     "metadata": {},
     "output_type": "display_data"
    }
   ],
   "source": [
    "echo \"graph A { a->b };\" | pydot"
   ]
  },
  {
   "cell_type": "code",
   "execution_count": 20,
   "metadata": {
    "collapsed": false
   },
   "outputs": [
    {
     "data": {
      "text/html": [
       "<?xml version=\"1.0\" encoding=\"UTF-8\" standalone=\"no\"?>\r\n",
       "<!DOCTYPE svg PUBLIC \"-//W3C//DTD SVG 1.1//EN\"\r\n",
       " \"http://www.w3.org/Graphics/SVG/1.1/DTD/svg11.dtd\">\r\n",
       "<!-- Generated by graphviz version 2.38.0 (20140413.2041)\r\n",
       " -->\r\n",
       "<!-- Title: G Pages: 1 -->\r\n",
       "<svg width=\"134pt\" height=\"188pt\"\r\n",
       " viewBox=\"0.00 0.00 134.00 188.00\" xmlns=\"http://www.w3.org/2000/svg\" xmlns:xlink=\"http://www.w3.org/1999/xlink\">\r\n",
       "<g id=\"graph0\" class=\"graph\" transform=\"scale(1 1) rotate(0) translate(4 184)\">\r\n",
       "<title>G</title>\r\n",
       "<polygon fill=\"white\" stroke=\"none\" points=\"-4,4 -4,-184 130,-184 130,4 -4,4\"/>\r\n",
       "<!-- a -->\r\n",
       "<g id=\"node1\" class=\"node\"><title>a</title>\r\n",
       "<ellipse fill=\"none\" stroke=\"black\" cx=\"27\" cy=\"-162\" rx=\"27\" ry=\"18\"/>\r\n",
       "<text text-anchor=\"middle\" x=\"27\" y=\"-158.3\" font-family=\"Times New Roman,serif\" font-size=\"14.00\">a</text>\r\n",
       "</g>\r\n",
       "<!-- c -->\r\n",
       "<g id=\"node3\" class=\"node\"><title>c</title>\r\n",
       "<ellipse fill=\"none\" stroke=\"black\" cx=\"27\" cy=\"-90\" rx=\"27\" ry=\"18\"/>\r\n",
       "<text text-anchor=\"middle\" x=\"27\" y=\"-86.3\" font-family=\"Times New Roman,serif\" font-size=\"14.00\">c</text>\r\n",
       "</g>\r\n",
       "<!-- a&#45;&gt;c -->\r\n",
       "<g id=\"edge2\" class=\"edge\"><title>a&#45;&gt;c</title>\r\n",
       "<path fill=\"none\" stroke=\"black\" d=\"M27,-143.697C27,-135.983 27,-126.712 27,-118.112\"/>\r\n",
       "<polygon fill=\"black\" stroke=\"black\" points=\"30.5001,-118.104 27,-108.104 23.5001,-118.104 30.5001,-118.104\"/>\r\n",
       "</g>\r\n",
       "<!-- b -->\r\n",
       "<g id=\"node2\" class=\"node\"><title>b</title>\r\n",
       "<ellipse fill=\"none\" stroke=\"black\" cx=\"99\" cy=\"-162\" rx=\"27\" ry=\"18\"/>\r\n",
       "<text text-anchor=\"middle\" x=\"99\" y=\"-158.3\" font-family=\"Times New Roman,serif\" font-size=\"14.00\">b</text>\r\n",
       "</g>\r\n",
       "<!-- d -->\r\n",
       "<g id=\"node4\" class=\"node\"><title>d</title>\r\n",
       "<ellipse fill=\"none\" stroke=\"black\" cx=\"27\" cy=\"-18\" rx=\"27\" ry=\"18\"/>\r\n",
       "<text text-anchor=\"middle\" x=\"27\" y=\"-14.3\" font-family=\"Times New Roman,serif\" font-size=\"14.00\">d</text>\r\n",
       "</g>\r\n",
       "<!-- c&#45;&gt;d -->\r\n",
       "<g id=\"edge1\" class=\"edge\"><title>c&#45;&gt;d</title>\r\n",
       "<path fill=\"none\" stroke=\"black\" d=\"M27,-71.6966C27,-63.9827 27,-54.7125 27,-46.1124\"/>\r\n",
       "<polygon fill=\"black\" stroke=\"black\" points=\"30.5001,-46.1043 27,-36.1043 23.5001,-46.1044 30.5001,-46.1043\"/>\r\n",
       "</g>\r\n",
       "</g>\r\n",
       "</svg>\r\n"
      ],
      "text/plain": [
       "<IPython.core.display.HTML object>"
      ]
     },
     "metadata": {},
     "output_type": "display_data"
    }
   ],
   "source": [
    "echo \"digraph G { \n",
    "        a; \n",
    "        b; \n",
    "        c -> d; \n",
    "        a -> c; \n",
    "}\" | pydot"
   ]
  },
  {
   "cell_type": "code",
   "execution_count": 21,
   "metadata": {
    "collapsed": false
   },
   "outputs": [
    {
     "data": {
      "text/html": [
       "<?xml version=\"1.0\" encoding=\"UTF-8\" standalone=\"no\"?>\r\n",
       "<!DOCTYPE svg PUBLIC \"-//W3C//DTD SVG 1.1//EN\"\r\n",
       " \"http://www.w3.org/Graphics/SVG/1.1/DTD/svg11.dtd\">\r\n",
       "<!-- Generated by graphviz version 2.38.0 (20140413.2041)\r\n",
       " -->\r\n",
       "<!-- Title: graphname Pages: 1 -->\r\n",
       "<svg width=\"134pt\" height=\"188pt\"\r\n",
       " viewBox=\"0.00 0.00 134.00 188.00\" xmlns=\"http://www.w3.org/2000/svg\" xmlns:xlink=\"http://www.w3.org/1999/xlink\">\r\n",
       "<g id=\"graph0\" class=\"graph\" transform=\"scale(1 1) rotate(0) translate(4 184)\">\r\n",
       "<title>graphname</title>\r\n",
       "<polygon fill=\"white\" stroke=\"none\" points=\"-4,4 -4,-184 130,-184 130,4 -4,4\"/>\r\n",
       "<!-- a -->\r\n",
       "<g id=\"node1\" class=\"node\"><title>a</title>\r\n",
       "<ellipse fill=\"none\" stroke=\"black\" cx=\"71\" cy=\"-162\" rx=\"27\" ry=\"18\"/>\r\n",
       "<text text-anchor=\"middle\" x=\"71\" y=\"-158.3\" font-family=\"Times New Roman,serif\" font-size=\"14.00\">a</text>\r\n",
       "</g>\r\n",
       "<!-- b -->\r\n",
       "<g id=\"node2\" class=\"node\"><title>b</title>\r\n",
       "<ellipse fill=\"none\" stroke=\"black\" cx=\"44\" cy=\"-90\" rx=\"27\" ry=\"18\"/>\r\n",
       "<text text-anchor=\"middle\" x=\"44\" y=\"-86.3\" font-family=\"Times New Roman,serif\" font-size=\"14.00\">b</text>\r\n",
       "</g>\r\n",
       "<!-- a&#45;&#45;b -->\r\n",
       "<g id=\"edge1\" class=\"edge\"><title>a&#45;&#45;b</title>\r\n",
       "<path fill=\"none\" stroke=\"black\" d=\"M64.6014,-144.411C60.3597,-133.414 54.8106,-119.027 50.5403,-107.956\"/>\r\n",
       "</g>\r\n",
       "<!-- c -->\r\n",
       "<g id=\"node3\" class=\"node\"><title>c</title>\r\n",
       "<ellipse fill=\"none\" stroke=\"black\" cx=\"27\" cy=\"-18\" rx=\"27\" ry=\"18\"/>\r\n",
       "<text text-anchor=\"middle\" x=\"27\" y=\"-14.3\" font-family=\"Times New Roman,serif\" font-size=\"14.00\">c</text>\r\n",
       "</g>\r\n",
       "<!-- b&#45;&#45;c -->\r\n",
       "<g id=\"edge2\" class=\"edge\"><title>b&#45;&#45;c</title>\r\n",
       "<path fill=\"none\" stroke=\"black\" d=\"M39.8848,-72.055C37.2513,-61.2111 33.8444,-47.183 31.1954,-36.2753\"/>\r\n",
       "</g>\r\n",
       "<!-- d -->\r\n",
       "<g id=\"node4\" class=\"node\"><title>d</title>\r\n",
       "<ellipse fill=\"none\" stroke=\"black\" cx=\"99\" cy=\"-18\" rx=\"27\" ry=\"18\"/>\r\n",
       "<text text-anchor=\"middle\" x=\"99\" y=\"-14.3\" font-family=\"Times New Roman,serif\" font-size=\"14.00\">d</text>\r\n",
       "</g>\r\n",
       "<!-- b&#45;&#45;d -->\r\n",
       "<g id=\"edge3\" class=\"edge\"><title>b&#45;&#45;d</title>\r\n",
       "<path fill=\"none\" stroke=\"black\" d=\"M55.9342,-73.811C65.1595,-62.0697 77.8696,-45.8932 87.0891,-34.1593\"/>\r\n",
       "</g>\r\n",
       "<!-- d&#45;&#45;a -->\r\n",
       "<g id=\"edge4\" class=\"edge\"><title>d&#45;&#45;a</title>\r\n",
       "<path fill=\"none\" stroke=\"black\" d=\"M95.6106,-36.1893C90.2213,-63.5205 79.7592,-116.578 74.3775,-143.871\"/>\r\n",
       "</g>\r\n",
       "</g>\r\n",
       "</svg>\r\n"
      ],
      "text/plain": [
       "<IPython.core.display.HTML object>"
      ]
     },
     "metadata": {},
     "output_type": "display_data"
    }
   ],
   "source": [
    "echo 'graph graphname { \n",
    "                a -- b; \n",
    "                b -- c;\n",
    "                b -- d;\n",
    "                d -- a;\n",
    "        }' | pydot"
   ]
  },
  {
   "cell_type": "code",
   "execution_count": 22,
   "metadata": {
    "collapsed": false
   },
   "outputs": [
    {
     "data": {
      "text/html": [
       "<?xml version=\"1.0\" encoding=\"UTF-8\" standalone=\"no\"?>\r\n",
       "<!DOCTYPE svg PUBLIC \"-//W3C//DTD SVG 1.1//EN\"\r\n",
       " \"http://www.w3.org/Graphics/SVG/1.1/DTD/svg11.dtd\">\r\n",
       "<!-- Generated by graphviz version 2.38.0 (20140413.2041)\r\n",
       " -->\r\n",
       "<!-- Title: graphname Pages: 1 -->\r\n",
       "<svg width=\"242pt\" height=\"98pt\"\r\n",
       " viewBox=\"0.00 0.00 242.00 98.00\" xmlns=\"http://www.w3.org/2000/svg\" xmlns:xlink=\"http://www.w3.org/1999/xlink\">\r\n",
       "<g id=\"graph0\" class=\"graph\" transform=\"scale(1 1) rotate(0) translate(4 94)\">\r\n",
       "<title>graphname</title>\r\n",
       "<polygon fill=\"white\" stroke=\"none\" points=\"-4,4 -4,-94 238,-94 238,4 -4,4\"/>\r\n",
       "<!-- a -->\r\n",
       "<g id=\"node1\" class=\"node\"><title>a</title>\r\n",
       "<ellipse fill=\"none\" stroke=\"black\" cx=\"27\" cy=\"-41\" rx=\"27\" ry=\"18\"/>\r\n",
       "<text text-anchor=\"middle\" x=\"27\" y=\"-37.3\" font-family=\"Times New Roman,serif\" font-size=\"14.00\">a</text>\r\n",
       "</g>\r\n",
       "<!-- b -->\r\n",
       "<g id=\"node2\" class=\"node\"><title>b</title>\r\n",
       "<ellipse fill=\"none\" stroke=\"black\" cx=\"117\" cy=\"-64\" rx=\"27\" ry=\"18\"/>\r\n",
       "<text text-anchor=\"middle\" x=\"117\" y=\"-60.3\" font-family=\"Times New Roman,serif\" font-size=\"14.00\">b</text>\r\n",
       "</g>\r\n",
       "<!-- a&#45;&#45;b -->\r\n",
       "<g id=\"edge1\" class=\"edge\"><title>a&#45;&#45;b</title>\r\n",
       "<path fill=\"none\" stroke=\"black\" d=\"M52.5129,-47.4068C64.7184,-50.5969 79.4311,-54.4422 91.6186,-57.6276\"/>\r\n",
       "</g>\r\n",
       "<!-- c -->\r\n",
       "<g id=\"node3\" class=\"node\"><title>c</title>\r\n",
       "<ellipse fill=\"none\" stroke=\"black\" cx=\"207\" cy=\"-72\" rx=\"27\" ry=\"18\"/>\r\n",
       "<text text-anchor=\"middle\" x=\"207\" y=\"-68.3\" font-family=\"Times New Roman,serif\" font-size=\"14.00\">c</text>\r\n",
       "</g>\r\n",
       "<!-- b&#45;&#45;c -->\r\n",
       "<g id=\"edge2\" class=\"edge\"><title>b&#45;&#45;c</title>\r\n",
       "<path fill=\"none\" stroke=\"black\" d=\"M143.927,-66.357C155.283,-67.3894 168.584,-68.5986 179.954,-69.6322\"/>\r\n",
       "</g>\r\n",
       "<!-- d -->\r\n",
       "<g id=\"node4\" class=\"node\"><title>d</title>\r\n",
       "<ellipse fill=\"none\" stroke=\"black\" cx=\"207\" cy=\"-18\" rx=\"27\" ry=\"18\"/>\r\n",
       "<text text-anchor=\"middle\" x=\"207\" y=\"-14.3\" font-family=\"Times New Roman,serif\" font-size=\"14.00\">d</text>\r\n",
       "</g>\r\n",
       "<!-- b&#45;&#45;d -->\r\n",
       "<g id=\"edge3\" class=\"edge\"><title>b&#45;&#45;d</title>\r\n",
       "<path fill=\"none\" stroke=\"black\" d=\"M138.855,-53.0986C152.883,-45.7659 171.298,-36.1395 185.295,-28.8231\"/>\r\n",
       "</g>\r\n",
       "<!-- d&#45;&#45;a -->\r\n",
       "<g id=\"edge4\" class=\"edge\"><title>d&#45;&#45;a</title>\r\n",
       "<path fill=\"none\" stroke=\"black\" d=\"M180.375,-21.3111C146.659,-25.6677 87.7267,-33.2825 53.8827,-37.6556\"/>\r\n",
       "</g>\r\n",
       "</g>\r\n",
       "</svg>\r\n"
      ],
      "text/plain": [
       "<IPython.core.display.HTML object>"
      ]
     },
     "metadata": {},
     "output_type": "display_data"
    }
   ],
   "source": [
    "echo 'graph graphname {\n",
    "                rankdir=LR;  //Rank Direction Left to Right\n",
    "                a -- b; \n",
    "                b -- c;\n",
    "                b -- d;\n",
    "                d -- a;\n",
    "        }' | pydot"
   ]
  },
  {
   "cell_type": "code",
   "execution_count": 23,
   "metadata": {
    "collapsed": false
   },
   "outputs": [
    {
     "data": {
      "text/html": [
       "<?xml version=\"1.0\" encoding=\"UTF-8\" standalone=\"no\"?>\r\n",
       "<!DOCTYPE svg PUBLIC \"-//W3C//DTD SVG 1.1//EN\"\r\n",
       " \"http://www.w3.org/Graphics/SVG/1.1/DTD/svg11.dtd\">\r\n",
       "<!-- Generated by graphviz version 2.38.0 (20140413.2041)\r\n",
       " -->\r\n",
       "<!-- Title: graphname Pages: 1 -->\r\n",
       "<svg width=\"89pt\" height=\"188pt\"\r\n",
       " viewBox=\"0.00 0.00 89.00 188.00\" xmlns=\"http://www.w3.org/2000/svg\" xmlns:xlink=\"http://www.w3.org/1999/xlink\">\r\n",
       "<g id=\"graph0\" class=\"graph\" transform=\"scale(1 1) rotate(0) translate(4 184)\">\r\n",
       "<title>graphname</title>\r\n",
       "<polygon fill=\"white\" stroke=\"none\" points=\"-4,4 -4,-184 85,-184 85,4 -4,4\"/>\r\n",
       "<!-- a -->\r\n",
       "<g id=\"node1\" class=\"node\"><title>a</title>\r\n",
       "<ellipse fill=\"none\" stroke=\"black\" cx=\"54\" cy=\"-162\" rx=\"27\" ry=\"18\"/>\r\n",
       "<text text-anchor=\"middle\" x=\"54\" y=\"-158.3\" font-family=\"Times New Roman,serif\" font-size=\"14.00\">a</text>\r\n",
       "</g>\r\n",
       "<!-- b -->\r\n",
       "<g id=\"node2\" class=\"node\"><title>b</title>\r\n",
       "<ellipse fill=\"none\" stroke=\"black\" cx=\"27\" cy=\"-90\" rx=\"27\" ry=\"18\"/>\r\n",
       "<text text-anchor=\"middle\" x=\"27\" y=\"-86.3\" font-family=\"Times New Roman,serif\" font-size=\"14.00\">b</text>\r\n",
       "</g>\r\n",
       "<!-- a&#45;&gt;b -->\r\n",
       "<g id=\"edge1\" class=\"edge\"><title>a&#45;&gt;b</title>\r\n",
       "<path fill=\"none\" stroke=\"black\" d=\"M47.6014,-144.411C44.4864,-136.335 40.6663,-126.431 37.1654,-117.355\"/>\r\n",
       "<polygon fill=\"black\" stroke=\"black\" points=\"40.4045,-116.027 33.5403,-107.956 33.8735,-118.546 40.4045,-116.027\"/>\r\n",
       "</g>\r\n",
       "<!-- c -->\r\n",
       "<g id=\"node3\" class=\"node\"><title>c</title>\r\n",
       "<ellipse fill=\"none\" stroke=\"black\" cx=\"54\" cy=\"-18\" rx=\"27\" ry=\"18\"/>\r\n",
       "<text text-anchor=\"middle\" x=\"54\" y=\"-14.3\" font-family=\"Times New Roman,serif\" font-size=\"14.00\">c</text>\r\n",
       "</g>\r\n",
       "<!-- a&#45;&gt;c -->\r\n",
       "<g id=\"edge3\" class=\"edge\"><title>a&#45;&gt;c</title>\r\n",
       "<path fill=\"none\" stroke=\"black\" d=\"M57.6538,-143.908C59.6758,-133.569 61.9808,-120.09 63,-108 64.3441,-92.0566 64.3441,-87.9434 63,-72 62.2834,-63.4991 60.9311,-54.3119 59.4884,-46.0122\"/>\r\n",
       "<polygon fill=\"black\" stroke=\"black\" points=\"62.9142,-45.2892 57.6538,-36.0925 56.0309,-46.5623 62.9142,-45.2892\"/>\r\n",
       "</g>\r\n",
       "<!-- b&#45;&gt;c -->\r\n",
       "<g id=\"edge2\" class=\"edge\"><title>b&#45;&gt;c</title>\r\n",
       "<path fill=\"none\" stroke=\"black\" d=\"M33.3986,-72.411C36.5136,-64.3352 40.3337,-54.4312 43.8346,-45.3547\"/>\r\n",
       "<polygon fill=\"black\" stroke=\"black\" points=\"47.1265,-46.5458 47.4597,-35.9562 40.5955,-44.0267 47.1265,-46.5458\"/>\r\n",
       "</g>\r\n",
       "</g>\r\n",
       "</svg>\r\n"
      ],
      "text/plain": [
       "<IPython.core.display.HTML object>"
      ]
     },
     "metadata": {},
     "output_type": "display_data"
    }
   ],
   "source": [
    "echo 'digraph graphname{\n",
    "                a -> b;\n",
    "                b -> c;\n",
    "                a -> c;\n",
    "        }' | pydot"
   ]
  },
  {
   "cell_type": "code",
   "execution_count": 24,
   "metadata": {
    "collapsed": false
   },
   "outputs": [
    {
     "data": {
      "text/html": [
       "<?xml version=\"1.0\" encoding=\"UTF-8\" standalone=\"no\"?>\r\n",
       "<!DOCTYPE svg PUBLIC \"-//W3C//DTD SVG 1.1//EN\"\r\n",
       " \"http://www.w3.org/Graphics/SVG/1.1/DTD/svg11.dtd\">\r\n",
       "<!-- Generated by graphviz version 2.38.0 (20140413.2041)\r\n",
       " -->\r\n",
       "<!-- Title: graphname Pages: 1 -->\r\n",
       "<svg width=\"115pt\" height=\"131pt\"\r\n",
       " viewBox=\"0.00 0.00 115.30 131.00\" xmlns=\"http://www.w3.org/2000/svg\" xmlns:xlink=\"http://www.w3.org/1999/xlink\">\r\n",
       "<g id=\"graph0\" class=\"graph\" transform=\"scale(1 1) rotate(0) translate(4 127)\">\r\n",
       "<title>graphname</title>\r\n",
       "<polygon fill=\"white\" stroke=\"none\" points=\"-4,4 -4,-127 111.296,-127 111.296,4 -4,4\"/>\r\n",
       "<!-- T -->\r\n",
       "<g id=\"node1\" class=\"node\"><title>T</title>\r\n",
       "<ellipse fill=\"none\" stroke=\"black\" cx=\"40.2964\" cy=\"-105\" rx=\"40.0939\" ry=\"18\"/>\r\n",
       "<text text-anchor=\"middle\" x=\"40.2964\" y=\"-101.3\" font-family=\"Times New Roman,serif\" font-size=\"14.00\">Teacher</text>\r\n",
       "</g>\r\n",
       "<!-- P -->\r\n",
       "<g id=\"node2\" class=\"node\"><title>P</title>\r\n",
       "<ellipse fill=\"none\" stroke=\"black\" cx=\"40.2964\" cy=\"-18\" rx=\"29.4969\" ry=\"18\"/>\r\n",
       "<text text-anchor=\"middle\" x=\"40.2964\" y=\"-14.3\" font-family=\"Times New Roman,serif\" font-size=\"14.00\">Pupil</text>\r\n",
       "</g>\r\n",
       "<!-- T&#45;&gt;P -->\r\n",
       "<g id=\"edge1\" class=\"edge\"><title>T&#45;&gt;P</title>\r\n",
       "<path fill=\"none\" stroke=\"black\" d=\"M40.2964,-86.799C40.2964,-75.1626 40.2964,-59.5479 40.2964,-46.2368\"/>\r\n",
       "<polygon fill=\"black\" stroke=\"black\" points=\"43.7965,-46.1754 40.2964,-36.1754 36.7965,-46.1755 43.7965,-46.1754\"/>\r\n",
       "<text text-anchor=\"middle\" x=\"73.7964\" y=\"-57.8\" font-family=\"Times New Roman,serif\" font-size=\"14.00\" fill=\"darkgreen\">Instructions</text>\r\n",
       "</g>\r\n",
       "</g>\r\n",
       "</svg>\r\n"
      ],
      "text/plain": [
       "<IPython.core.display.HTML object>"
      ]
     },
     "metadata": {},
     "output_type": "display_data"
    }
   ],
   "source": [
    "echo 'digraph graphname{\n",
    "\n",
    "                T [label=\"Teacher\"]      // node T\n",
    "                P [label=\"Pupil\"]  // node P\n",
    "\n",
    "                T->P [label=\"Instructions\", fontcolor=darkgreen] // edge T->P\n",
    "}\n",
    "' | pydot"
   ]
  },
  {
   "cell_type": "code",
   "execution_count": 25,
   "metadata": {
    "collapsed": false
   },
   "outputs": [
    {
     "data": {
      "text/html": [
       "<?xml version=\"1.0\" encoding=\"UTF-8\" standalone=\"no\"?>\r\n",
       "<!DOCTYPE svg PUBLIC \"-//W3C//DTD SVG 1.1//EN\"\r\n",
       " \"http://www.w3.org/Graphics/SVG/1.1/DTD/svg11.dtd\">\r\n",
       "<!-- Generated by graphviz version 2.38.0 (20140413.2041)\r\n",
       " -->\r\n",
       "<!-- Title: graphname Pages: 1 -->\r\n",
       "<svg width=\"121pt\" height=\"131pt\"\r\n",
       " viewBox=\"0.00 0.00 121.00 131.00\" xmlns=\"http://www.w3.org/2000/svg\" xmlns:xlink=\"http://www.w3.org/1999/xlink\">\r\n",
       "<g id=\"graph0\" class=\"graph\" transform=\"scale(1 1) rotate(0) translate(4 127)\">\r\n",
       "<title>graphname</title>\r\n",
       "<polygon fill=\"white\" stroke=\"none\" points=\"-4,4 -4,-127 117,-127 117,4 -4,4\"/>\r\n",
       "<!-- T -->\r\n",
       "<g id=\"node1\" class=\"node\"><title>T</title>\r\n",
       "<polygon fill=\"none\" stroke=\"Blue\" points=\"92,-123 0,-123 0,-87 92,-87 92,-123\"/>\r\n",
       "<text text-anchor=\"middle\" x=\"46\" y=\"-98.8\" font-family=\"Times New Roman,serif\" font-size=\"24.00\" fill=\"Red\">Teacher</text>\r\n",
       "</g>\r\n",
       "<!-- P -->\r\n",
       "<g id=\"node2\" class=\"node\"><title>P</title>\r\n",
       "<polygon fill=\"none\" stroke=\"Blue\" points=\"79.5,-36 12.5,-36 12.5,-0 79.5,-0 79.5,-36\"/>\r\n",
       "<text text-anchor=\"middle\" x=\"46\" y=\"-11.8\" font-family=\"Times New Roman,serif\" font-size=\"24.00\" fill=\"Red\">Pupil</text>\r\n",
       "</g>\r\n",
       "<!-- T&#45;&gt;P -->\r\n",
       "<g id=\"edge1\" class=\"edge\"><title>T&#45;&gt;P</title>\r\n",
       "<path fill=\"none\" stroke=\"black\" d=\"M46,-86.799C46,-75.1626 46,-59.5479 46,-46.2368\"/>\r\n",
       "<polygon fill=\"black\" stroke=\"black\" points=\"49.5001,-46.1754 46,-36.1754 42.5001,-46.1755 49.5001,-46.1754\"/>\r\n",
       "<text text-anchor=\"middle\" x=\"79.5\" y=\"-57.8\" font-family=\"Times New Roman,serif\" font-size=\"14.00\" fill=\"darkgreen\">Instructions</text>\r\n",
       "</g>\r\n",
       "</g>\r\n",
       "</svg>\r\n"
      ],
      "text/plain": [
       "<IPython.core.display.HTML object>"
      ]
     },
     "metadata": {},
     "output_type": "display_data"
    }
   ],
   "source": [
    "echo 'digraph graphname {\n",
    "                T [label=\"Teacher\" color=Blue, fontcolor=Red, fontsize=24, shape=box]      // node T\n",
    "                P [label=\"Pupil\" color=Blue, fontcolor=Red, fontsize=24, shape=box]  // node P\n",
    "\n",
    "                T->P [label=\"Instructions\", fontcolor=darkgreen] // edge T->P\n",
    "}' | pydot"
   ]
  },
  {
   "cell_type": "code",
   "execution_count": 26,
   "metadata": {
    "collapsed": false
   },
   "outputs": [
    {
     "data": {
      "text/html": [
       "<?xml version=\"1.0\" encoding=\"UTF-8\" standalone=\"no\"?>\r\n",
       "<!DOCTYPE svg PUBLIC \"-//W3C//DTD SVG 1.1//EN\"\r\n",
       " \"http://www.w3.org/Graphics/SVG/1.1/DTD/svg11.dtd\">\r\n",
       "<!-- Generated by graphviz version 2.38.0 (20140413.2041)\r\n",
       " -->\r\n",
       "<!-- Title: summary Pages: 1 -->\r\n",
       "<svg width=\"201pt\" height=\"204pt\"\r\n",
       " viewBox=\"0.00 0.00 200.59 204.00\" xmlns=\"http://www.w3.org/2000/svg\" xmlns:xlink=\"http://www.w3.org/1999/xlink\">\r\n",
       "<g id=\"graph0\" class=\"graph\" transform=\"scale(1 1) rotate(0) translate(4 200)\">\r\n",
       "<title>summary</title>\r\n",
       "<polygon fill=\"white\" stroke=\"none\" points=\"-4,4 -4,-200 196.593,-200 196.593,4 -4,4\"/>\r\n",
       "<!-- start -->\r\n",
       "<g id=\"node1\" class=\"node\"><title>start</title>\r\n",
       "<ellipse fill=\"none\" stroke=\"black\" cx=\"118.5\" cy=\"-178\" rx=\"74.187\" ry=\"18\"/>\r\n",
       "<text text-anchor=\"middle\" x=\"118.5\" y=\"-174.3\" font-family=\"Times New Roman,serif\" font-size=\"14.00\">Start with a Node</text>\r\n",
       "</g>\r\n",
       "<!-- next -->\r\n",
       "<g id=\"node3\" class=\"node\"><title>next</title>\r\n",
       "<ellipse fill=\"none\" stroke=\"black\" cx=\"55.5\" cy=\"-105\" rx=\"27\" ry=\"18\"/>\r\n",
       "<text text-anchor=\"middle\" x=\"55.5\" y=\"-101.3\" font-family=\"Times New Roman,serif\" font-size=\"14.00\">next</text>\r\n",
       "</g>\r\n",
       "<!-- start&#45;&gt;next -->\r\n",
       "<g id=\"edge1\" class=\"edge\"><title>start&#45;&gt;next</title>\r\n",
       "<path fill=\"none\" stroke=\"black\" d=\"M103.57,-160.174C95.1862,-150.726 84.6133,-138.81 75.5194,-128.562\"/>\r\n",
       "<polygon fill=\"black\" stroke=\"black\" points=\"77.8685,-125.936 68.6134,-120.779 72.6326,-130.582 77.8685,-125.936\"/>\r\n",
       "</g>\r\n",
       "<!-- warning -->\r\n",
       "<g id=\"node4\" class=\"node\"><title>warning</title>\r\n",
       "<ellipse fill=\"none\" stroke=\"black\" cx=\"139.5\" cy=\"-105\" rx=\"38.9931\" ry=\"18\"/>\r\n",
       "<text text-anchor=\"middle\" x=\"139.5\" y=\"-101.3\" font-family=\"Times New Roman,serif\" font-size=\"14.00\">warning</text>\r\n",
       "</g>\r\n",
       "<!-- start&#45;&gt;warning -->\r\n",
       "<g id=\"edge2\" class=\"edge\"><title>start&#45;&gt;warning</title>\r\n",
       "<path fill=\"none\" stroke=\"black\" d=\"M123.584,-159.813C125.982,-151.702 128.901,-141.836 131.58,-132.777\"/>\r\n",
       "<polygon fill=\"black\" stroke=\"black\" points=\"134.983,-133.611 134.463,-123.029 128.271,-131.625 134.983,-133.611\"/>\r\n",
       "</g>\r\n",
       "<!-- end -->\r\n",
       "<g id=\"node2\" class=\"node\"><title>end</title>\r\n",
       "<polygon fill=\"yellow\" stroke=\"black\" points=\"111,-36 0,-36 0,-0 111,-0 111,-36\"/>\r\n",
       "<text text-anchor=\"middle\" x=\"55.5\" y=\"-14.3\" font-family=\"Times New Roman,serif\" font-size=\"14.00\">Draw your graph</text>\r\n",
       "</g>\r\n",
       "<!-- next&#45;&gt;end -->\r\n",
       "<g id=\"edge3\" class=\"edge\"><title>next&#45;&gt;end</title>\r\n",
       "<path fill=\"none\" stroke=\"black\" d=\"M55.5,-86.799C55.5,-75.1626 55.5,-59.5479 55.5,-46.2368\"/>\r\n",
       "<polygon fill=\"black\" stroke=\"black\" points=\"59.0001,-46.1754 55.5,-36.1754 52.0001,-46.1755 59.0001,-46.1754\"/>\r\n",
       "<text text-anchor=\"middle\" x=\"100\" y=\"-57.8\" font-family=\"Times New Roman,serif\" font-size=\"14.00\" fill=\"darkblue\">Getting Better...</text>\r\n",
       "</g>\r\n",
       "</g>\r\n",
       "</svg>\r\n"
      ],
      "text/plain": [
       "<IPython.core.display.HTML object>"
      ]
     },
     "metadata": {},
     "output_type": "display_data"
    }
   ],
   "source": [
    "echo 'digraph summary{\n",
    "                start [label=\"Start with a Node\"]\n",
    "                end [label=\"Draw your graph\", shape=box, style=filled, fillcolor=yellow]\n",
    "\n",
    "                start->next\n",
    "                start->warning \n",
    "                next->end [label=\"Getting Better...\", fontcolor=darkblue]\n",
    "\n",
    "}' | pydot"
   ]
  },
  {
   "cell_type": "code",
   "execution_count": 27,
   "metadata": {
    "collapsed": false
   },
   "outputs": [
    {
     "data": {
      "text/html": [
       "<?xml version=\"1.0\" encoding=\"UTF-8\" standalone=\"no\"?>\r\n",
       "<!DOCTYPE svg PUBLIC \"-//W3C//DTD SVG 1.1//EN\"\r\n",
       " \"http://www.w3.org/Graphics/SVG/1.1/DTD/svg11.dtd\">\r\n",
       "<!-- Generated by graphviz version 2.38.0 (20140413.2041)\r\n",
       " -->\r\n",
       "<!-- Title: summary Pages: 1 -->\r\n",
       "<svg width=\"452pt\" height=\"220pt\"\r\n",
       " viewBox=\"0.00 0.00 451.51 220.04\" xmlns=\"http://www.w3.org/2000/svg\" xmlns:xlink=\"http://www.w3.org/1999/xlink\">\r\n",
       "<g id=\"graph0\" class=\"graph\" transform=\"scale(1 1) rotate(0) translate(4 216.045)\">\r\n",
       "<title>summary</title>\r\n",
       "<polygon fill=\"white\" stroke=\"none\" points=\"-4,4 -4,-216.045 447.512,-216.045 447.512,4 -4,4\"/>\r\n",
       "<!-- start -->\r\n",
       "<g id=\"node1\" class=\"node\"><title>start</title>\r\n",
       "<ellipse fill=\"none\" stroke=\"black\" cx=\"235.5\" cy=\"-194.045\" rx=\"74.187\" ry=\"18\"/>\r\n",
       "<text text-anchor=\"middle\" x=\"235.5\" y=\"-190.345\" font-family=\"Times New Roman,serif\" font-size=\"14.00\">Start with a Node</text>\r\n",
       "</g>\r\n",
       "<!-- next -->\r\n",
       "<g id=\"node3\" class=\"node\"><title>next</title>\r\n",
       "<polygon fill=\"none\" stroke=\"black\" points=\"125,-131.022 0,-131.022 0,-95.0225 125,-95.0225 125,-131.022\"/>\r\n",
       "<text text-anchor=\"middle\" x=\"62.5\" y=\"-109.322\" font-family=\"Times New Roman,serif\" font-size=\"14.00\">Choose your shape</text>\r\n",
       "</g>\r\n",
       "<!-- start&#45;&gt;next -->\r\n",
       "<g id=\"edge1\" class=\"edge\"><title>start&#45;&gt;next</title>\r\n",
       "<path fill=\"none\" stroke=\"black\" d=\"M202.144,-177.809C175.742,-165.749 138.554,-148.762 109.193,-135.351\"/>\r\n",
       "<polygon fill=\"black\" stroke=\"black\" points=\"110.509,-132.104 99.9585,-131.133 107.6,-138.471 110.509,-132.104\"/>\r\n",
       "</g>\r\n",
       "<!-- warning -->\r\n",
       "<g id=\"node4\" class=\"node\"><title>warning</title>\r\n",
       "<polygon fill=\"green\" stroke=\"Blue\" points=\"443.524,-102.234 443.524,-123.811 355.642,-139.067 231.358,-139.067 143.476,-123.811 143.476,-102.234 231.358,-86.9775 355.642,-86.9775 443.524,-102.234\"/>\r\n",
       "<text text-anchor=\"middle\" x=\"293.5\" y=\"-106.822\" font-family=\"Times New Roman,serif\" font-size=\"24.00\" fill=\"Red\">Dont go overboard</text>\r\n",
       "</g>\r\n",
       "<!-- start&#45;&gt;warning -->\r\n",
       "<g id=\"edge2\" class=\"edge\"><title>start&#45;&gt;warning</title>\r\n",
       "<path fill=\"none\" stroke=\"black\" d=\"M247.8,-176.286C253.983,-167.862 261.702,-157.345 269.027,-147.366\"/>\r\n",
       "<polygon fill=\"black\" stroke=\"black\" points=\"271.948,-149.301 275.044,-139.168 266.305,-145.159 271.948,-149.301\"/>\r\n",
       "</g>\r\n",
       "<!-- end -->\r\n",
       "<g id=\"node2\" class=\"node\"><title>end</title>\r\n",
       "<polygon fill=\"yellow\" stroke=\"black\" points=\"118,-36 7,-36 7,-0 118,-0 118,-36\"/>\r\n",
       "<text text-anchor=\"middle\" x=\"62.5\" y=\"-14.3\" font-family=\"Times New Roman,serif\" font-size=\"14.00\">Draw your graph</text>\r\n",
       "</g>\r\n",
       "<!-- next&#45;&gt;end -->\r\n",
       "<g id=\"edge3\" class=\"edge\"><title>next&#45;&gt;end</title>\r\n",
       "<path fill=\"none\" stroke=\"black\" d=\"M62.5,-94.9607C62.5,-81.4087 62.5,-62.1903 62.5,-46.4756\"/>\r\n",
       "<polygon fill=\"black\" stroke=\"black\" points=\"66.0001,-46.2686 62.5,-36.2686 59.0001,-46.2686 66.0001,-46.2686\"/>\r\n",
       "<text text-anchor=\"middle\" x=\"107\" y=\"-57.8\" font-family=\"Times New Roman,serif\" font-size=\"14.00\" fill=\"darkblue\">Getting Better...</text>\r\n",
       "</g>\r\n",
       "</g>\r\n",
       "</svg>\r\n"
      ],
      "text/plain": [
       "<IPython.core.display.HTML object>"
      ]
     },
     "metadata": {},
     "output_type": "display_data"
    }
   ],
   "source": [
    "# Don't know how to put quote ' in \"Dont go overboard\"\n",
    "echo 'digraph summary{\n",
    "                start [label=\"Start with a Node\"]\n",
    "                end [label=\"Draw your graph\", shape=box, style=filled, fillcolor=yellow]\n",
    "                next [label=\"Choose your shape\", shape=box]\n",
    "                warning [label=\"Dont go overboard\", color=Blue, fontcolor=Red, fontsize=24, style=filled, fillcolor=green, shape=octagon]\n",
    "\n",
    "                start->next\n",
    "                start->warning \n",
    "                next->end [label=\"Getting Better...\", fontcolor=darkblue]\n",
    "\n",
    "}' | pydot"
   ]
  },
  {
   "cell_type": "code",
   "execution_count": 28,
   "metadata": {
    "collapsed": false
   },
   "outputs": [
    {
     "data": {
      "text/html": [
       "<?xml version=\"1.0\" encoding=\"UTF-8\" standalone=\"no\"?>\r\n",
       "<!DOCTYPE svg PUBLIC \"-//W3C//DTD SVG 1.1//EN\"\r\n",
       " \"http://www.w3.org/Graphics/SVG/1.1/DTD/svg11.dtd\">\r\n",
       "<!-- Generated by graphviz version 2.38.0 (20140413.2041)\r\n",
       " -->\r\n",
       "<!-- Title: G Pages: 1 -->\r\n",
       "<svg width=\"206pt\" height=\"116pt\"\r\n",
       " viewBox=\"0.00 0.00 206.00 116.00\" xmlns=\"http://www.w3.org/2000/svg\" xmlns:xlink=\"http://www.w3.org/1999/xlink\">\r\n",
       "<g id=\"graph0\" class=\"graph\" transform=\"scale(1 1) rotate(0) translate(4 112)\">\r\n",
       "<title>G</title>\r\n",
       "<polygon fill=\"azure\" stroke=\"none\" points=\"-4,4 -4,-112 202,-112 202,4 -4,4\"/>\r\n",
       "<!-- zero -->\r\n",
       "<g id=\"node1\" class=\"node\"><title>zero</title>\r\n",
       "<polygon fill=\"#b2dfee\" stroke=\"#b2dfee\" points=\"126,-108 72,-108 72,-72 126,-72 126,-108\"/>\r\n",
       "<text text-anchor=\"middle\" x=\"99\" y=\"-86.3\" font-family=\"Times New Roman,serif\" font-size=\"14.00\">zero</text>\r\n",
       "</g>\r\n",
       "<!-- dix -->\r\n",
       "<g id=\"node2\" class=\"node\"><title>dix</title>\r\n",
       "<polygon fill=\"#b2dfee\" stroke=\"#b2dfee\" points=\"72,-36 18,-36 18,-0 72,-0 72,-36\"/>\r\n",
       "<text text-anchor=\"middle\" x=\"45\" y=\"-14.3\" font-family=\"Times New Roman,serif\" font-size=\"14.00\">dix</text>\r\n",
       "</g>\r\n",
       "<!-- zero&#45;&gt;dix -->\r\n",
       "<g id=\"edge1\" class=\"edge\"><title>zero&#45;&gt;dix</title>\r\n",
       "<path fill=\"none\" stroke=\"gold\" d=\"M85.6517,-71.6966C81.0742,-65.7628 75.7863,-58.9082 70.5698,-52.146\"/>\r\n",
       "<polygon fill=\"gold\" stroke=\"gold\" points=\"75.9534,-47.6644 58.1948,-36.1043 64.8684,-56.2156 75.9534,-47.6644\"/>\r\n",
       "</g>\r\n",
       "<!-- vingt -->\r\n",
       "<g id=\"node4\" class=\"node\"><title>vingt</title>\r\n",
       "<polygon fill=\"#b2dfee\" stroke=\"#b2dfee\" points=\"180,-36 126,-36 126,-0 180,-0 180,-36\"/>\r\n",
       "<text text-anchor=\"middle\" x=\"153\" y=\"-14.3\" font-family=\"Times New Roman,serif\" font-size=\"14.00\">vingt</text>\r\n",
       "</g>\r\n",
       "<!-- zero&#45;&gt;vingt -->\r\n",
       "<g id=\"edge3\" class=\"edge\"><title>zero&#45;&gt;vingt</title>\r\n",
       "<path fill=\"none\" stroke=\"gold\" d=\"M112.348,-71.6966C116.926,-65.7628 122.214,-58.9082 127.43,-52.146\"/>\r\n",
       "<polygon fill=\"gold\" stroke=\"gold\" points=\"133.132,-56.2156 139.805,-36.1043 122.047,-47.6644 133.132,-56.2156\"/>\r\n",
       "</g>\r\n",
       "<!-- un -->\r\n",
       "<g id=\"node3\" class=\"node\"><title>un</title>\r\n",
       "<polygon fill=\"#b2dfee\" stroke=\"#b2dfee\" points=\"54,-108 0,-108 0,-72 54,-72 54,-108\"/>\r\n",
       "<text text-anchor=\"middle\" x=\"27\" y=\"-86.3\" font-family=\"Times New Roman,serif\" font-size=\"14.00\">un</text>\r\n",
       "</g>\r\n",
       "<!-- un&#45;&gt;dix -->\r\n",
       "<g id=\"edge2\" class=\"edge\"><title>un&#45;&gt;dix</title>\r\n",
       "<path fill=\"none\" stroke=\"gold\" d=\"M31.4494,-71.6966C32.7137,-66.7801 34.1405,-61.2313 35.5817,-55.6267\"/>\r\n",
       "<polygon fill=\"gold\" stroke=\"gold\" points=\"42.4003,-57.2175 40.6017,-36.1043 28.8414,-53.7309 42.4003,-57.2175\"/>\r\n",
       "</g>\r\n",
       "<!-- deux -->\r\n",
       "<g id=\"node5\" class=\"node\"><title>deux</title>\r\n",
       "<polygon fill=\"#b2dfee\" stroke=\"#b2dfee\" points=\"198,-108 144,-108 144,-72 198,-72 198,-108\"/>\r\n",
       "<text text-anchor=\"middle\" x=\"171\" y=\"-86.3\" font-family=\"Times New Roman,serif\" font-size=\"14.00\">deux</text>\r\n",
       "</g>\r\n",
       "<!-- deux&#45;&gt;vingt -->\r\n",
       "<g id=\"edge4\" class=\"edge\"><title>deux&#45;&gt;vingt</title>\r\n",
       "<path fill=\"none\" stroke=\"gold\" d=\"M166.551,-71.6966C165.286,-66.7801 163.859,-61.2313 162.418,-55.6267\"/>\r\n",
       "<polygon fill=\"gold\" stroke=\"gold\" points=\"169.159,-53.7309 157.398,-36.1043 155.6,-57.2175 169.159,-53.7309\"/>\r\n",
       "</g>\r\n",
       "</g>\r\n",
       "</svg>\r\n"
      ],
      "text/plain": [
       "<IPython.core.display.HTML object>"
      ]
     },
     "metadata": {},
     "output_type": "display_data"
    }
   ],
   "source": [
    "echo 'digraph G { \n",
    "        bgcolor=azure; \n",
    "        node [shape=box, color=lightblue2, style=filled]; \n",
    "        edge [arrowsize=2, color=gold]; \n",
    "        \"zero\" -> \"dix\"; \n",
    "        \"un\" -> \"dix\"; \n",
    "        \"zero\" -> \"vingt\"; \n",
    "        \"deux\" -> \"vingt\"; \n",
    "} ' | pydot"
   ]
  },
  {
   "cell_type": "code",
   "execution_count": 29,
   "metadata": {
    "collapsed": false
   },
   "outputs": [
    {
     "data": {
      "text/html": [
       "<?xml version=\"1.0\" encoding=\"UTF-8\" standalone=\"no\"?>\r\n",
       "<!DOCTYPE svg PUBLIC \"-//W3C//DTD SVG 1.1//EN\"\r\n",
       " \"http://www.w3.org/Graphics/SVG/1.1/DTD/svg11.dtd\">\r\n",
       "<!-- Generated by graphviz version 2.38.0 (20140413.2041)\r\n",
       " -->\r\n",
       "<!-- Title: G Pages: 1 -->\r\n",
       "<svg width=\"206pt\" height=\"133pt\"\r\n",
       " viewBox=\"0.00 0.00 206.00 133.30\" xmlns=\"http://www.w3.org/2000/svg\" xmlns:xlink=\"http://www.w3.org/1999/xlink\">\r\n",
       "<g id=\"graph0\" class=\"graph\" transform=\"scale(1 1) rotate(0) translate(4 129.295)\">\r\n",
       "<title>G</title>\r\n",
       "<polygon fill=\"azure\" stroke=\"none\" points=\"-4,4 -4,-129.295 202,-129.295 202,4 -4,4\"/>\r\n",
       "<!-- zero -->\r\n",
       "<g id=\"node1\" class=\"node\"><title>zero</title>\r\n",
       "<ellipse fill=\"#ffe1ff\" stroke=\"#ffe1ff\" cx=\"99\" cy=\"-98.6476\" rx=\"26.7961\" ry=\"26.7961\"/>\r\n",
       "<text text-anchor=\"middle\" x=\"99\" y=\"-94.9476\" font-family=\"Times New Roman,serif\" font-size=\"14.00\" fill=\"purple\">zero</text>\r\n",
       "</g>\r\n",
       "<!-- dix -->\r\n",
       "<g id=\"node2\" class=\"node\"><title>dix</title>\r\n",
       "<polygon fill=\"#b2dfee\" stroke=\"#b2dfee\" points=\"72,-36 18,-36 18,-0 72,-0 72,-36\"/>\r\n",
       "<text text-anchor=\"middle\" x=\"45\" y=\"-14.3\" font-family=\"Times New Roman,serif\" font-size=\"14.00\">dix</text>\r\n",
       "</g>\r\n",
       "<!-- zero&#45;&gt;dix -->\r\n",
       "<g id=\"edge1\" class=\"edge\"><title>zero&#45;&gt;dix</title>\r\n",
       "<path fill=\"none\" stroke=\"purple\" d=\"M84.2443,-76.1568C79.3289,-68.9979 73.7266,-60.8385 68.3244,-52.9705\"/>\r\n",
       "<polygon fill=\"purple\" stroke=\"purple\" points=\"73.9252,-48.7608 56.8338,-36.2352 62.3837,-56.6852 73.9252,-48.7608\"/>\r\n",
       "</g>\r\n",
       "<!-- vingt -->\r\n",
       "<g id=\"node4\" class=\"node\"><title>vingt</title>\r\n",
       "<polygon fill=\"#b2dfee\" stroke=\"#b2dfee\" points=\"180,-36 126,-36 126,-0 180,-0 180,-36\"/>\r\n",
       "<text text-anchor=\"middle\" x=\"153\" y=\"-14.3\" font-family=\"Times New Roman,serif\" font-size=\"14.00\">vingt</text>\r\n",
       "</g>\r\n",
       "<!-- zero&#45;&gt;vingt -->\r\n",
       "<g id=\"edge3\" class=\"edge\"><title>zero&#45;&gt;vingt</title>\r\n",
       "<path fill=\"none\" stroke=\"gold\" d=\"M113.756,-76.1568C118.671,-68.9979 124.273,-60.8385 129.676,-52.9705\"/>\r\n",
       "<polygon fill=\"gold\" stroke=\"gold\" points=\"135.616,-56.6852 141.166,-36.2352 124.075,-48.7608 135.616,-56.6852\"/>\r\n",
       "</g>\r\n",
       "<!-- un -->\r\n",
       "<g id=\"node3\" class=\"node\"><title>un</title>\r\n",
       "<polygon fill=\"#b2dfee\" stroke=\"#b2dfee\" points=\"54,-116.648 0,-116.648 0,-80.6476 54,-80.6476 54,-116.648\"/>\r\n",
       "<text text-anchor=\"middle\" x=\"27\" y=\"-94.9476\" font-family=\"Times New Roman,serif\" font-size=\"14.00\">un</text>\r\n",
       "</g>\r\n",
       "<!-- un&#45;&gt;dix -->\r\n",
       "<g id=\"edge2\" class=\"edge\"><title>un&#45;&gt;dix</title>\r\n",
       "<path fill=\"none\" stroke=\"gold\" d=\"M30.9057,-80.5823C32.5804,-73.2649 34.6061,-64.4144 36.593,-55.733\"/>\r\n",
       "<polygon fill=\"gold\" stroke=\"gold\" points=\"43.4634,-57.0897 41.1019,-36.0321 29.8162,-53.9662 43.4634,-57.0897\"/>\r\n",
       "</g>\r\n",
       "<!-- deux -->\r\n",
       "<g id=\"node5\" class=\"node\"><title>deux</title>\r\n",
       "<polygon fill=\"#b2dfee\" stroke=\"#b2dfee\" points=\"198,-116.648 144,-116.648 144,-80.6476 198,-80.6476 198,-116.648\"/>\r\n",
       "<text text-anchor=\"middle\" x=\"171\" y=\"-94.9476\" font-family=\"Times New Roman,serif\" font-size=\"14.00\">deux</text>\r\n",
       "</g>\r\n",
       "<!-- deux&#45;&gt;vingt -->\r\n",
       "<g id=\"edge4\" class=\"edge\"><title>deux&#45;&gt;vingt</title>\r\n",
       "<path fill=\"none\" stroke=\"gold\" d=\"M167.094,-80.5823C165.42,-73.2649 163.394,-64.4144 161.407,-55.733\"/>\r\n",
       "<polygon fill=\"gold\" stroke=\"gold\" points=\"168.184,-53.9662 156.898,-36.0321 154.537,-57.0897 168.184,-53.9662\"/>\r\n",
       "</g>\r\n",
       "</g>\r\n",
       "</svg>\r\n"
      ],
      "text/plain": [
       "<IPython.core.display.HTML object>"
      ]
     },
     "metadata": {},
     "output_type": "display_data"
    }
   ],
   "source": [
    "echo 'digraph G { \n",
    "        bgcolor=azure; \n",
    "        node [shape=box, color=lightblue2, style=filled]; \n",
    "        edge [arrowsize=2, color=gold]; \n",
    "        \"zero\" -> \"dix\" [color=purple]; \n",
    "        \"un\" -> \"dix\"; \n",
    "        \"zero\" -> \"vingt\"; \n",
    "        \"deux\" -> \"vingt\"; \n",
    "        \"zero\" [shape=circle, color=thistle1, fontcolor=purple]; \n",
    "}' | pydot"
   ]
  },
  {
   "cell_type": "code",
   "execution_count": 30,
   "metadata": {
    "collapsed": false
   },
   "outputs": [
    {
     "data": {
      "text/html": [
       "<?xml version=\"1.0\" encoding=\"UTF-8\" standalone=\"no\"?>\r\n",
       "<!DOCTYPE svg PUBLIC \"-//W3C//DTD SVG 1.1//EN\"\r\n",
       " \"http://www.w3.org/Graphics/SVG/1.1/DTD/svg11.dtd\">\r\n",
       "<!-- Generated by graphviz version 2.38.0 (20140413.2041)\r\n",
       " -->\r\n",
       "<!-- Title: G Pages: 1 -->\r\n",
       "<svg width=\"305pt\" height=\"238pt\"\r\n",
       " viewBox=\"0.00 0.00 305.07 238.19\" xmlns=\"http://www.w3.org/2000/svg\" xmlns:xlink=\"http://www.w3.org/1999/xlink\">\r\n",
       "<g id=\"graph0\" class=\"graph\" transform=\"scale(1 1) rotate(0) translate(4 234.194)\">\r\n",
       "<title>G</title>\r\n",
       "<polygon fill=\"#eeeed1\" stroke=\"none\" points=\"-4,4 -4,-234.194 301.07,-234.194 301.07,4 -4,4\"/>\r\n",
       "<!-- A1 -->\r\n",
       "<g id=\"node1\" class=\"node\"><title>A1</title>\r\n",
       "<ellipse fill=\"blue\" stroke=\"blue\" cx=\"91.0274\" cy=\"-195.097\" rx=\"35.194\" ry=\"35.194\"/>\r\n",
       "<text text-anchor=\"middle\" x=\"91.0274\" y=\"-191.397\" font-family=\"Verdana\" font-size=\"14.00\" fill=\"white\">Hugo</text>\r\n",
       "</g>\r\n",
       "<!-- A3 -->\r\n",
       "<g id=\"node2\" class=\"node\"><title>A3</title>\r\n",
       "<polygon fill=\"yellow\" stroke=\"yellow\" points=\"147.101,-91 119.064,-109 62.9903,-109 34.9533,-91 62.9903,-73 119.064,-73 147.101,-91\"/>\r\n",
       "<text text-anchor=\"middle\" x=\"91.0274\" y=\"-87.3\" font-family=\"Verdana\" font-size=\"14.00\">CÃ©cile</text>\r\n",
       "</g>\r\n",
       "<!-- A1&#45;&gt;A3 -->\r\n",
       "<g id=\"edge1\" class=\"edge\"><title>A1&#45;&gt;A3</title>\r\n",
       "<path fill=\"none\" stroke=\"red\" d=\"M91.0274,-159.816C91.0274,-149.97 91.0274,-139.187 91.0274,-129.175\"/>\r\n",
       "<polygon fill=\"red\" stroke=\"red\" points=\"91.0274,-109.151 100.027,-129.151 91.0274,-119.151 91.0275,-129.151 91.0275,-129.151 91.0275,-129.151 91.0274,-119.151 82.0275,-129.151 91.0274,-109.151 91.0274,-109.151\"/>\r\n",
       "<text text-anchor=\"middle\" x=\"129.027\" y=\"-130.8\" font-family=\"Times New Roman,serif\" font-size=\"14.00\">est parrain de</text>\r\n",
       "</g>\r\n",
       "<!-- A5 -->\r\n",
       "<g id=\"node3\" class=\"node\"><title>A5</title>\r\n",
       "<polygon fill=\"yellow\" stroke=\"yellow\" points=\"84.0821,-18 63.0547,-36 21,-36 -0.0273883,-18 21,-2.13163e-014 63.0547,-0 84.0821,-18\"/>\r\n",
       "<text text-anchor=\"middle\" x=\"42.0274\" y=\"-14.3\" font-family=\"Verdana\" font-size=\"14.00\">Frank</text>\r\n",
       "</g>\r\n",
       "<!-- A3&#45;&gt;A5 -->\r\n",
       "<g id=\"edge2\" class=\"edge\"><title>A3&#45;&gt;A5</title>\r\n",
       "<path fill=\"none\" stroke=\"red\" d=\"M79.1658,-72.8129C74.9527,-66.7081 70.0529,-59.6084 65.2211,-52.6072\"/>\r\n",
       "<polygon fill=\"red\" stroke=\"red\" points=\"70.901,-48.5133 53.7797,-36.0288 59.3786,-56.4654 70.901,-48.5133\"/>\r\n",
       "</g>\r\n",
       "<!-- A6 -->\r\n",
       "<g id=\"node4\" class=\"node\"><title>A6</title>\r\n",
       "<polygon fill=\"yellow\" stroke=\"yellow\" points=\"177.576,-18 158.802,-36 121.253,-36 102.478,-18 121.253,-2.13163e-014 158.802,-0 177.576,-18\"/>\r\n",
       "<text text-anchor=\"middle\" x=\"140.027\" y=\"-14.3\" font-family=\"Verdana\" font-size=\"14.00\">Elise</text>\r\n",
       "</g>\r\n",
       "<!-- A3&#45;&gt;A6 -->\r\n",
       "<g id=\"edge3\" class=\"edge\"><title>A3&#45;&gt;A6</title>\r\n",
       "<path fill=\"none\" stroke=\"red\" d=\"M102.889,-72.8129C107.102,-66.7081 112.002,-59.6084 116.834,-52.6072\"/>\r\n",
       "<polygon fill=\"red\" stroke=\"red\" points=\"122.676,-56.4654 128.275,-36.0288 111.154,-48.5133 122.676,-56.4654\"/>\r\n",
       "</g>\r\n",
       "<!-- A2 -->\r\n",
       "<g id=\"node5\" class=\"node\"><title>A2</title>\r\n",
       "<polygon fill=\"yellow\" stroke=\"yellow\" points=\"270.58,-195.097 250.804,-213.097 211.251,-213.097 191.474,-195.097 211.251,-177.097 250.804,-177.097 270.58,-195.097\"/>\r\n",
       "<text text-anchor=\"middle\" x=\"231.027\" y=\"-191.397\" font-family=\"Verdana\" font-size=\"14.00\">Boris</text>\r\n",
       "</g>\r\n",
       "<!-- A4 -->\r\n",
       "<g id=\"node6\" class=\"node\"><title>A4</title>\r\n",
       "<polygon fill=\"yellow\" stroke=\"yellow\" points=\"297.113,-91 264.07,-109 197.984,-109 164.941,-91 197.984,-73 264.07,-73 297.113,-91\"/>\r\n",
       "<text text-anchor=\"middle\" x=\"231.027\" y=\"-87.3\" font-family=\"Verdana\" font-size=\"14.00\">FranÃ§ois</text>\r\n",
       "</g>\r\n",
       "<!-- A2&#45;&gt;A4 -->\r\n",
       "<g id=\"edge4\" class=\"edge\"><title>A2&#45;&gt;A4</title>\r\n",
       "<path fill=\"none\" stroke=\"red\" d=\"M231.027,-176.778C231.027,-163.792 231.027,-145.536 231.027,-129.289\"/>\r\n",
       "<polygon fill=\"red\" stroke=\"red\" points=\"238.027,-129.064 231.027,-109.064 224.027,-129.064 238.027,-129.064\"/>\r\n",
       "</g>\r\n",
       "</g>\r\n",
       "</svg>\r\n"
      ],
      "text/plain": [
       "<IPython.core.display.HTML object>"
      ]
     },
     "metadata": {},
     "output_type": "display_data"
    }
   ],
   "source": [
    "echo 'digraph G { \n",
    "        graph [bgcolor=lightyellow2, splines=true]; \n",
    "        edge [color=red, arrowsize=2]; \n",
    "        node [color=yellow, style=filled, shape=polygon, sides=6, fontname=\"Verdana\"]; \n",
    "        A1 -> A3 [label=\"est parrain de\", arrowtail=dot, arrowhead=open]; \n",
    "        A3 -> A5; \n",
    "        A3 -> A6; \n",
    "        A2 -> A4; \n",
    "        A1 [label=\"Hugo\", shape=circle, color=blue, fontcolor=white]; \n",
    "        A2 [label=\"Boris\"]; \n",
    "        A3 [label=\"Cécile\"]; \n",
    "        A4 [label=\"François\"]; \n",
    "        A5 [label=\"Frank\"]; \n",
    "        A6 [label=\"Elise\"]; \n",
    "} ' | pydot"
   ]
  },
  {
   "cell_type": "code",
   "execution_count": 31,
   "metadata": {
    "collapsed": false
   },
   "outputs": [
    {
     "data": {
      "text/html": [
       "<?xml version=\"1.0\" encoding=\"UTF-8\" standalone=\"no\"?>\r\n",
       "<!DOCTYPE svg PUBLIC \"-//W3C//DTD SVG 1.1//EN\"\r\n",
       " \"http://www.w3.org/Graphics/SVG/1.1/DTD/svg11.dtd\">\r\n",
       "<!-- Generated by graphviz version 2.38.0 (20140413.2041)\r\n",
       " -->\r\n",
       "<!-- Title: G Pages: 1 -->\r\n",
       "<svg width=\"237pt\" height=\"188pt\"\r\n",
       " viewBox=\"0.00 0.00 236.59 188.00\" xmlns=\"http://www.w3.org/2000/svg\" xmlns:xlink=\"http://www.w3.org/1999/xlink\">\r\n",
       "<g id=\"graph0\" class=\"graph\" transform=\"scale(1 1) rotate(0) translate(4 184)\">\r\n",
       "<title>G</title>\r\n",
       "<polygon fill=\"white\" stroke=\"none\" points=\"-4,4 -4,-184 232.593,-184 232.593,4 -4,4\"/>\r\n",
       "<!-- A1 -->\r\n",
       "<g id=\"node1\" class=\"node\"><title>A1</title>\r\n",
       "<ellipse fill=\"#eeeed1\" stroke=\"#eeeed1\" cx=\"70.8472\" cy=\"-162\" rx=\"30.5947\" ry=\"18\"/>\r\n",
       "<text text-anchor=\"middle\" x=\"70.8472\" y=\"-158.3\" font-family=\"Times New Roman,serif\" font-size=\"14.00\">Hugo</text>\r\n",
       "</g>\r\n",
       "<!-- A3 -->\r\n",
       "<g id=\"node2\" class=\"node\"><title>A3</title>\r\n",
       "<ellipse fill=\"#eeeed1\" stroke=\"#eeeed1\" cx=\"70.8472\" cy=\"-90\" rx=\"42.4939\" ry=\"18\"/>\r\n",
       "<text text-anchor=\"middle\" x=\"70.8472\" y=\"-86.3\" font-family=\"Times New Roman,serif\" font-size=\"14.00\">CÃ©cile</text>\r\n",
       "</g>\r\n",
       "<!-- A1&#45;&gt;A3 -->\r\n",
       "<g id=\"edge1\" class=\"edge\"><title>A1&#45;&gt;A3</title>\r\n",
       "<path fill=\"none\" stroke=\"red\" d=\"M70.8472,-143.697C70.8472,-138.95 70.8472,-133.613 70.8472,-128.206\"/>\r\n",
       "<polygon fill=\"red\" stroke=\"red\" points=\"77.8473,-128.104 70.8472,-108.104 63.8473,-128.104 77.8473,-128.104\"/>\r\n",
       "</g>\r\n",
       "<!-- A5 -->\r\n",
       "<g id=\"node3\" class=\"node\"><title>A5</title>\r\n",
       "<ellipse fill=\"#eeeed1\" stroke=\"#eeeed1\" cx=\"31.8472\" cy=\"-18\" rx=\"31.6951\" ry=\"18\"/>\r\n",
       "<text text-anchor=\"middle\" x=\"31.8472\" y=\"-14.3\" font-family=\"Times New Roman,serif\" font-size=\"14.00\">Frank</text>\r\n",
       "</g>\r\n",
       "<!-- A3&#45;&gt;A5 -->\r\n",
       "<g id=\"edge2\" class=\"edge\"><title>A3&#45;&gt;A5</title>\r\n",
       "<path fill=\"none\" stroke=\"red\" d=\"M61.6047,-72.411C58.3506,-66.5702 54.5636,-59.7731 50.8036,-53.0244\"/>\r\n",
       "<polygon fill=\"red\" stroke=\"red\" points=\"56.8724,-49.5344 41.0233,-35.4699 44.6424,-56.3483 56.8724,-49.5344\"/>\r\n",
       "</g>\r\n",
       "<!-- A6 -->\r\n",
       "<g id=\"node4\" class=\"node\"><title>A6</title>\r\n",
       "<ellipse fill=\"#eeeed1\" stroke=\"#eeeed1\" cx=\"109.847\" cy=\"-18\" rx=\"27.8951\" ry=\"18\"/>\r\n",
       "<text text-anchor=\"middle\" x=\"109.847\" y=\"-14.3\" font-family=\"Times New Roman,serif\" font-size=\"14.00\">Elise</text>\r\n",
       "</g>\r\n",
       "<!-- A3&#45;&gt;A6 -->\r\n",
       "<g id=\"edge3\" class=\"edge\"><title>A3&#45;&gt;A6</title>\r\n",
       "<path fill=\"none\" stroke=\"red\" d=\"M80.0896,-72.411C83.3438,-66.5702 87.1308,-59.7731 90.8907,-53.0244\"/>\r\n",
       "<polygon fill=\"red\" stroke=\"red\" points=\"97.0519,-56.3483 100.671,-35.4699 84.822,-49.5344 97.0519,-56.3483\"/>\r\n",
       "</g>\r\n",
       "<!-- A2 -->\r\n",
       "<g id=\"node5\" class=\"node\"><title>A2</title>\r\n",
       "<ellipse fill=\"#eeeed1\" stroke=\"#eeeed1\" cx=\"179.847\" cy=\"-162\" rx=\"30.5947\" ry=\"18\"/>\r\n",
       "<text text-anchor=\"middle\" x=\"179.847\" y=\"-158.3\" font-family=\"Times New Roman,serif\" font-size=\"14.00\">Boris</text>\r\n",
       "</g>\r\n",
       "<!-- A4 -->\r\n",
       "<g id=\"node6\" class=\"node\"><title>A4</title>\r\n",
       "<ellipse fill=\"#eeeed1\" stroke=\"#eeeed1\" cx=\"179.847\" cy=\"-90\" rx=\"48.9926\" ry=\"18\"/>\r\n",
       "<text text-anchor=\"middle\" x=\"179.847\" y=\"-86.3\" font-family=\"Times New Roman,serif\" font-size=\"14.00\">FranÃ§ois</text>\r\n",
       "</g>\r\n",
       "<!-- A2&#45;&gt;A4 -->\r\n",
       "<g id=\"edge4\" class=\"edge\"><title>A2&#45;&gt;A4</title>\r\n",
       "<path fill=\"none\" stroke=\"red\" d=\"M179.847,-143.697C179.847,-138.95 179.847,-133.613 179.847,-128.206\"/>\r\n",
       "<polygon fill=\"red\" stroke=\"red\" points=\"186.847,-128.104 179.847,-108.104 172.847,-128.104 186.847,-128.104\"/>\r\n",
       "</g>\r\n",
       "</g>\r\n",
       "</svg>\r\n"
      ],
      "text/plain": [
       "<IPython.core.display.HTML object>"
      ]
     },
     "metadata": {},
     "output_type": "display_data"
    }
   ],
   "source": [
    "echo 'digraph G { \n",
    "        edge [color=red, arrowsize=2]; \n",
    "        node [color=lightyellow2, style=filled]; \n",
    "        A1 -> A3; \n",
    "        A3 -> A5; \n",
    "        A3 -> A6; \n",
    "        A2 -> A4; \n",
    "        A1 [label=\"Hugo\"]; \n",
    "        A2 [label=\"Boris\"]; \n",
    "        A3 [label=\"Cécile\"]; \n",
    "        A4 [label=\"François\"]; \n",
    "        A5 [label=\"Frank\"]; \n",
    "        A6 [label=\"Elise\"]; \n",
    "} ' | pydot"
   ]
  },
  {
   "cell_type": "code",
   "execution_count": 32,
   "metadata": {
    "collapsed": false
   },
   "outputs": [
    {
     "data": {
      "text/html": [
       "<?xml version=\"1.0\" encoding=\"UTF-8\" standalone=\"no\"?>\r\n",
       "<!DOCTYPE svg PUBLIC \"-//W3C//DTD SVG 1.1//EN\"\r\n",
       " \"http://www.w3.org/Graphics/SVG/1.1/DTD/svg11.dtd\">\r\n",
       "<!-- Generated by graphviz version 2.38.0 (20140413.2041)\r\n",
       " -->\r\n",
       "<!-- Title: G Pages: 1 -->\r\n",
       "<svg width=\"494pt\" height=\"332pt\"\r\n",
       " viewBox=\"0.00 0.00 494.00 332.00\" xmlns=\"http://www.w3.org/2000/svg\" xmlns:xlink=\"http://www.w3.org/1999/xlink\">\r\n",
       "<g id=\"graph0\" class=\"graph\" transform=\"scale(1 1) rotate(0) translate(4 328)\">\r\n",
       "<title>G</title>\r\n",
       "<polygon fill=\"white\" stroke=\"none\" points=\"-4,4 -4,-328 490,-328 490,4 -4,4\"/>\r\n",
       "<!-- a -->\r\n",
       "<g id=\"node1\" class=\"node\"><title>a</title>\r\n",
       "<ellipse fill=\"none\" stroke=\"black\" cx=\"27\" cy=\"-306\" rx=\"27\" ry=\"18\"/>\r\n",
       "<text text-anchor=\"middle\" x=\"27\" y=\"-302.3\" font-family=\"Times New Roman,serif\" font-size=\"14.00\">a</text>\r\n",
       "</g>\r\n",
       "<!-- b -->\r\n",
       "<g id=\"node2\" class=\"node\"><title>b</title>\r\n",
       "<ellipse fill=\"none\" stroke=\"black\" cx=\"27\" cy=\"-234\" rx=\"27\" ry=\"18\"/>\r\n",
       "<text text-anchor=\"middle\" x=\"27\" y=\"-230.3\" font-family=\"Times New Roman,serif\" font-size=\"14.00\">b</text>\r\n",
       "</g>\r\n",
       "<!-- a&#45;&#45;b -->\r\n",
       "<g id=\"edge1\" class=\"edge\"><title>a&#45;&#45;b</title>\r\n",
       "<path fill=\"none\" stroke=\"black\" d=\"M27,-287.697C27,-276.846 27,-262.917 27,-252.104\"/>\r\n",
       "</g>\r\n",
       "<!-- c -->\r\n",
       "<g id=\"node3\" class=\"node\"><title>c</title>\r\n",
       "<ellipse fill=\"none\" stroke=\"black\" cx=\"27\" cy=\"-162\" rx=\"27\" ry=\"18\"/>\r\n",
       "<text text-anchor=\"middle\" x=\"27\" y=\"-158.3\" font-family=\"Times New Roman,serif\" font-size=\"14.00\">c</text>\r\n",
       "</g>\r\n",
       "<!-- b&#45;&#45;c -->\r\n",
       "<g id=\"edge2\" class=\"edge\"><title>b&#45;&#45;c</title>\r\n",
       "<path fill=\"none\" stroke=\"black\" d=\"M27,-215.697C27,-204.846 27,-190.917 27,-180.104\"/>\r\n",
       "</g>\r\n",
       "<!-- d -->\r\n",
       "<g id=\"node4\" class=\"node\"><title>d</title>\r\n",
       "<ellipse fill=\"none\" stroke=\"black\" cx=\"27\" cy=\"-90\" rx=\"27\" ry=\"18\"/>\r\n",
       "<text text-anchor=\"middle\" x=\"27\" y=\"-86.3\" font-family=\"Times New Roman,serif\" font-size=\"14.00\">d</text>\r\n",
       "</g>\r\n",
       "<!-- c&#45;&#45;d -->\r\n",
       "<g id=\"edge3\" class=\"edge\"><title>c&#45;&#45;d</title>\r\n",
       "<path fill=\"none\" stroke=\"black\" d=\"M27,-143.697C27,-132.846 27,-118.917 27,-108.104\"/>\r\n",
       "</g>\r\n",
       "<!-- e -->\r\n",
       "<g id=\"node5\" class=\"node\"><title>e</title>\r\n",
       "<ellipse fill=\"none\" stroke=\"black\" cx=\"27\" cy=\"-18\" rx=\"27\" ry=\"18\"/>\r\n",
       "<text text-anchor=\"middle\" x=\"27\" y=\"-14.3\" font-family=\"Times New Roman,serif\" font-size=\"14.00\">e</text>\r\n",
       "</g>\r\n",
       "<!-- d&#45;&#45;e -->\r\n",
       "<g id=\"edge4\" class=\"edge\"><title>d&#45;&#45;e</title>\r\n",
       "<path fill=\"none\" stroke=\"black\" d=\"M27,-71.6966C27,-60.8463 27,-46.9167 27,-36.1043\"/>\r\n",
       "</g>\r\n",
       "<!-- 1 -->\r\n",
       "<g id=\"node6\" class=\"node\"><title>1</title>\r\n",
       "<ellipse fill=\"none\" stroke=\"black\" cx=\"279\" cy=\"-306\" rx=\"27\" ry=\"18\"/>\r\n",
       "<text text-anchor=\"middle\" x=\"279\" y=\"-302.3\" font-family=\"Times New Roman,serif\" font-size=\"14.00\">1</text>\r\n",
       "</g>\r\n",
       "<!-- 2 -->\r\n",
       "<g id=\"node7\" class=\"node\"><title>2</title>\r\n",
       "<ellipse fill=\"none\" stroke=\"black\" cx=\"99\" cy=\"-234\" rx=\"27\" ry=\"18\"/>\r\n",
       "<text text-anchor=\"middle\" x=\"99\" y=\"-230.3\" font-family=\"Times New Roman,serif\" font-size=\"14.00\">2</text>\r\n",
       "</g>\r\n",
       "<!-- 1&#45;&#45;2 -->\r\n",
       "<g id=\"edge5\" class=\"edge\"><title>1&#45;&#45;2</title>\r\n",
       "<path fill=\"none\" stroke=\"black\" d=\"M255.306,-297.002C226.563,-287.135 176.766,-269.507 135,-252 130.155,-249.969 125.014,-247.646 120.18,-245.383\"/>\r\n",
       "</g>\r\n",
       "<!-- 3 -->\r\n",
       "<g id=\"node8\" class=\"node\"><title>3</title>\r\n",
       "<ellipse fill=\"none\" stroke=\"black\" cx=\"171\" cy=\"-234\" rx=\"27\" ry=\"18\"/>\r\n",
       "<text text-anchor=\"middle\" x=\"171\" y=\"-230.3\" font-family=\"Times New Roman,serif\" font-size=\"14.00\">3</text>\r\n",
       "</g>\r\n",
       "<!-- 1&#45;&#45;3 -->\r\n",
       "<g id=\"edge6\" class=\"edge\"><title>1&#45;&#45;3</title>\r\n",
       "<path fill=\"none\" stroke=\"black\" d=\"M260.188,-292.807C240.365,-279.959 209.338,-259.848 189.597,-247.053\"/>\r\n",
       "</g>\r\n",
       "<!-- 4 -->\r\n",
       "<g id=\"node9\" class=\"node\"><title>4</title>\r\n",
       "<ellipse fill=\"none\" stroke=\"black\" cx=\"243\" cy=\"-234\" rx=\"27\" ry=\"18\"/>\r\n",
       "<text text-anchor=\"middle\" x=\"243\" y=\"-230.3\" font-family=\"Times New Roman,serif\" font-size=\"14.00\">4</text>\r\n",
       "</g>\r\n",
       "<!-- 1&#45;&#45;4 -->\r\n",
       "<g id=\"edge7\" class=\"edge\"><title>1&#45;&#45;4</title>\r\n",
       "<path fill=\"none\" stroke=\"black\" d=\"M270.65,-288.765C264.835,-277.456 257.11,-262.437 251.304,-251.147\"/>\r\n",
       "</g>\r\n",
       "<!-- 5 -->\r\n",
       "<g id=\"node10\" class=\"node\"><title>5</title>\r\n",
       "<ellipse fill=\"none\" stroke=\"black\" cx=\"315\" cy=\"-234\" rx=\"27\" ry=\"18\"/>\r\n",
       "<text text-anchor=\"middle\" x=\"315\" y=\"-230.3\" font-family=\"Times New Roman,serif\" font-size=\"14.00\">5</text>\r\n",
       "</g>\r\n",
       "<!-- 1&#45;&#45;5 -->\r\n",
       "<g id=\"edge8\" class=\"edge\"><title>1&#45;&#45;5</title>\r\n",
       "<path fill=\"none\" stroke=\"black\" d=\"M287.35,-288.765C293.165,-277.456 300.89,-262.437 306.696,-251.147\"/>\r\n",
       "</g>\r\n",
       "<!-- 6 -->\r\n",
       "<g id=\"node11\" class=\"node\"><title>6</title>\r\n",
       "<ellipse fill=\"none\" stroke=\"black\" cx=\"387\" cy=\"-234\" rx=\"27\" ry=\"18\"/>\r\n",
       "<text text-anchor=\"middle\" x=\"387\" y=\"-230.3\" font-family=\"Times New Roman,serif\" font-size=\"14.00\">6</text>\r\n",
       "</g>\r\n",
       "<!-- 1&#45;&#45;6 -->\r\n",
       "<g id=\"edge9\" class=\"edge\"><title>1&#45;&#45;6</title>\r\n",
       "<path fill=\"none\" stroke=\"black\" d=\"M297.812,-292.807C317.635,-279.959 348.662,-259.848 368.403,-247.053\"/>\r\n",
       "</g>\r\n",
       "<!-- 7 -->\r\n",
       "<g id=\"node12\" class=\"node\"><title>7</title>\r\n",
       "<ellipse fill=\"none\" stroke=\"black\" cx=\"459\" cy=\"-234\" rx=\"27\" ry=\"18\"/>\r\n",
       "<text text-anchor=\"middle\" x=\"459\" y=\"-230.3\" font-family=\"Times New Roman,serif\" font-size=\"14.00\">7</text>\r\n",
       "</g>\r\n",
       "<!-- 1&#45;&#45;7 -->\r\n",
       "<g id=\"edge10\" class=\"edge\"><title>1&#45;&#45;7</title>\r\n",
       "<path fill=\"none\" stroke=\"black\" d=\"M302.694,-297.002C331.437,-287.135 381.234,-269.507 423,-252 427.845,-249.969 432.986,-247.646 437.82,-245.383\"/>\r\n",
       "</g>\r\n",
       "</g>\r\n",
       "</svg>\r\n"
      ],
      "text/plain": [
       "<IPython.core.display.HTML object>"
      ]
     },
     "metadata": {},
     "output_type": "display_data"
    }
   ],
   "source": [
    "echo 'graph G { \n",
    "        a -- b -- c -- d -- e; \n",
    "        1 -- {2; 3; 4; 5; 6; 7;} \n",
    "}' | pydot"
   ]
  },
  {
   "cell_type": "code",
   "execution_count": 33,
   "metadata": {
    "collapsed": false
   },
   "outputs": [
    {
     "data": {
      "text/html": [
       "<?xml version=\"1.0\" encoding=\"UTF-8\" standalone=\"no\"?>\r\n",
       "<!DOCTYPE svg PUBLIC \"-//W3C//DTD SVG 1.1//EN\"\r\n",
       " \"http://www.w3.org/Graphics/SVG/1.1/DTD/svg11.dtd\">\r\n",
       "<!-- Generated by graphviz version 2.38.0 (20140413.2041)\r\n",
       " -->\r\n",
       "<!-- Title: G Pages: 1 -->\r\n",
       "<svg width=\"170pt\" height=\"260pt\"\r\n",
       " viewBox=\"0.00 0.00 170.00 260.00\" xmlns=\"http://www.w3.org/2000/svg\" xmlns:xlink=\"http://www.w3.org/1999/xlink\">\r\n",
       "<g id=\"graph0\" class=\"graph\" transform=\"scale(1 1) rotate(0) translate(4 256)\">\r\n",
       "<title>G</title>\r\n",
       "<polygon fill=\"white\" stroke=\"none\" points=\"-4,4 -4,-256 166,-256 166,4 -4,4\"/>\r\n",
       "<!-- root -->\r\n",
       "<g id=\"node1\" class=\"node\"><title>root</title>\r\n",
       "<ellipse fill=\"#eeeed1\" stroke=\"#eeeed1\" cx=\"63\" cy=\"-234\" rx=\"56.59\" ry=\"18\"/>\r\n",
       "<text text-anchor=\"middle\" x=\"63\" y=\"-230.3\" font-family=\"Times New Roman,serif\" font-size=\"14.00\">/tmp/findtest</text>\r\n",
       "</g>\r\n",
       "<!-- f1 -->\r\n",
       "<g id=\"node2\" class=\"node\"><title>f1</title>\r\n",
       "<ellipse fill=\"#eeeed1\" stroke=\"#eeeed1\" cx=\"27\" cy=\"-162\" rx=\"27\" ry=\"18\"/>\r\n",
       "<text text-anchor=\"middle\" x=\"27\" y=\"-158.3\" font-family=\"Times New Roman,serif\" font-size=\"14.00\">file1</text>\r\n",
       "</g>\r\n",
       "<!-- root&#45;&gt;f1 -->\r\n",
       "<g id=\"edge1\" class=\"edge\"><title>root&#45;&gt;f1</title>\r\n",
       "<path fill=\"none\" stroke=\"blue\" d=\"M54.2854,-216.055C51.3689,-210.384 48.0045,-203.842 44.6559,-197.331\"/>\r\n",
       "<polygon fill=\"blue\" stroke=\"blue\" points=\"50.7585,-193.891 35.3865,-179.307 38.3085,-200.294 50.7585,-193.891\"/>\r\n",
       "</g>\r\n",
       "<!-- f2 -->\r\n",
       "<g id=\"node3\" class=\"node\"><title>f2</title>\r\n",
       "<ellipse fill=\"#eeeed1\" stroke=\"#eeeed1\" cx=\"99\" cy=\"-162\" rx=\"27\" ry=\"18\"/>\r\n",
       "<text text-anchor=\"middle\" x=\"99\" y=\"-158.3\" font-family=\"Times New Roman,serif\" font-size=\"14.00\">file2</text>\r\n",
       "</g>\r\n",
       "<!-- root&#45;&gt;f2 -->\r\n",
       "<g id=\"edge2\" class=\"edge\"><title>root&#45;&gt;f2</title>\r\n",
       "<path fill=\"none\" stroke=\"blue\" d=\"M71.7146,-216.055C74.6311,-210.384 77.9955,-203.842 81.3441,-197.331\"/>\r\n",
       "<polygon fill=\"blue\" stroke=\"blue\" points=\"87.6915,-200.294 90.6135,-179.307 75.2415,-193.891 87.6915,-200.294\"/>\r\n",
       "</g>\r\n",
       "<!-- f4 -->\r\n",
       "<g id=\"node4\" class=\"node\"><title>f4</title>\r\n",
       "<ellipse fill=\"#eeeed1\" stroke=\"#eeeed1\" cx=\"27\" cy=\"-90\" rx=\"27\" ry=\"18\"/>\r\n",
       "<text text-anchor=\"middle\" x=\"27\" y=\"-86.3\" font-family=\"Times New Roman,serif\" font-size=\"14.00\">file4</text>\r\n",
       "</g>\r\n",
       "<!-- f1&#45;&gt;f4 -->\r\n",
       "<g id=\"edge3\" class=\"edge\"><title>f1&#45;&gt;f4</title>\r\n",
       "<path fill=\"none\" stroke=\"blue\" d=\"M27,-143.697C27,-138.95 27,-133.613 27,-128.206\"/>\r\n",
       "<polygon fill=\"blue\" stroke=\"blue\" points=\"34.0001,-128.104 27,-108.104 20.0001,-128.104 34.0001,-128.104\"/>\r\n",
       "</g>\r\n",
       "<!-- f3 -->\r\n",
       "<g id=\"node5\" class=\"node\"><title>f3</title>\r\n",
       "<ellipse fill=\"#eeeed1\" stroke=\"#eeeed1\" cx=\"99\" cy=\"-90\" rx=\"27\" ry=\"18\"/>\r\n",
       "<text text-anchor=\"middle\" x=\"99\" y=\"-86.3\" font-family=\"Times New Roman,serif\" font-size=\"14.00\">file3</text>\r\n",
       "</g>\r\n",
       "<!-- f2&#45;&gt;f3 -->\r\n",
       "<g id=\"edge6\" class=\"edge\"><title>f2&#45;&gt;f3</title>\r\n",
       "<path fill=\"none\" stroke=\"blue\" d=\"M99,-143.697C99,-138.95 99,-133.613 99,-128.206\"/>\r\n",
       "<polygon fill=\"blue\" stroke=\"blue\" points=\"106,-128.104 99,-108.104 92.0001,-128.104 106,-128.104\"/>\r\n",
       "</g>\r\n",
       "<!-- f5 -->\r\n",
       "<g id=\"node6\" class=\"node\"><title>f5</title>\r\n",
       "<ellipse fill=\"#eeeed1\" stroke=\"#eeeed1\" cx=\"63\" cy=\"-18\" rx=\"27\" ry=\"18\"/>\r\n",
       "<text text-anchor=\"middle\" x=\"63\" y=\"-14.3\" font-family=\"Times New Roman,serif\" font-size=\"14.00\">file5</text>\r\n",
       "</g>\r\n",
       "<!-- f3&#45;&gt;f5 -->\r\n",
       "<g id=\"edge4\" class=\"edge\"><title>f3&#45;&gt;f5</title>\r\n",
       "<path fill=\"none\" stroke=\"blue\" d=\"M90.6504,-72.7646C87.6061,-66.8453 84.039,-59.9092 80.4978,-53.0236\"/>\r\n",
       "<polygon fill=\"blue\" stroke=\"blue\" points=\"86.6764,-49.7316 71.3043,-35.1473 74.2263,-56.1345 86.6764,-49.7316\"/>\r\n",
       "</g>\r\n",
       "<!-- f6 -->\r\n",
       "<g id=\"node7\" class=\"node\"><title>f6</title>\r\n",
       "<ellipse fill=\"#eeeed1\" stroke=\"#eeeed1\" cx=\"135\" cy=\"-18\" rx=\"27\" ry=\"18\"/>\r\n",
       "<text text-anchor=\"middle\" x=\"135\" y=\"-14.3\" font-family=\"Times New Roman,serif\" font-size=\"14.00\">file6</text>\r\n",
       "</g>\r\n",
       "<!-- f3&#45;&gt;f6 -->\r\n",
       "<g id=\"edge5\" class=\"edge\"><title>f3&#45;&gt;f6</title>\r\n",
       "<path fill=\"none\" stroke=\"blue\" d=\"M107.35,-72.7646C110.394,-66.8453 113.961,-59.9092 117.502,-53.0236\"/>\r\n",
       "<polygon fill=\"blue\" stroke=\"blue\" points=\"123.774,-56.1345 126.696,-35.1473 111.324,-49.7316 123.774,-56.1345\"/>\r\n",
       "</g>\r\n",
       "</g>\r\n",
       "</svg>\r\n"
      ],
      "text/plain": [
       "<IPython.core.display.HTML object>"
      ]
     },
     "metadata": {},
     "output_type": "display_data"
    }
   ],
   "source": [
    "echo 'digraph G { \n",
    "        edge [color=blue, arrowsize=2]; \n",
    "        node [color=lightyellow2, style=filled]; \n",
    "        root -> f1; \n",
    "        root -> f2; \n",
    "        f1 -> f4;\n",
    "        f3 -> f5; \n",
    "        f3 -> f6; \n",
    "        f2 -> f3; \n",
    "        root [label=\"/tmp/findtest\"]; \n",
    "        f1 [label=\"file1\"]; \n",
    "        f2 [label=\"file2\"]; \n",
    "        f3 [label=\"file3\"]; \n",
    "        f4 [label=\"file4\"]; \n",
    "        f5 [label=\"file5\"]; \n",
    "        f6 [label=\"file6\"]; \n",
    "} ' | pydot"
   ]
  },
  {
   "cell_type": "code",
   "execution_count": 34,
   "metadata": {
    "collapsed": false
   },
   "outputs": [
    {
     "data": {
      "text/html": [
       "<?xml version=\"1.0\" encoding=\"UTF-8\" standalone=\"no\"?>\r\n",
       "<!DOCTYPE svg PUBLIC \"-//W3C//DTD SVG 1.1//EN\"\r\n",
       " \"http://www.w3.org/Graphics/SVG/1.1/DTD/svg11.dtd\">\r\n",
       "<!-- Generated by graphviz version 2.38.0 (20140413.2041)\r\n",
       " -->\r\n",
       "<!-- Title: G Pages: 1 -->\r\n",
       "<svg width=\"350pt\" height=\"188pt\"\r\n",
       " viewBox=\"0.00 0.00 350.00 188.00\" xmlns=\"http://www.w3.org/2000/svg\" xmlns:xlink=\"http://www.w3.org/1999/xlink\">\r\n",
       "<g id=\"graph0\" class=\"graph\" transform=\"scale(1 1) rotate(0) translate(4 184)\">\r\n",
       "<title>G</title>\r\n",
       "<polygon fill=\"white\" stroke=\"none\" points=\"-4,4 -4,-184 346,-184 346,4 -4,4\"/>\r\n",
       "<!-- _tmp_findtest -->\r\n",
       "<g id=\"node1\" class=\"node\"><title>_tmp_findtest</title>\r\n",
       "<ellipse fill=\"#eeeed1\" stroke=\"#eeeed1\" cx=\"243\" cy=\"-162\" rx=\"56.59\" ry=\"18\"/>\r\n",
       "<text text-anchor=\"middle\" x=\"243\" y=\"-158.3\" font-family=\"Times New Roman,serif\" font-size=\"14.00\">/tmp/findtest</text>\r\n",
       "</g>\r\n",
       "<!-- _tmp_findtest_dir1 -->\r\n",
       "<g id=\"node2\" class=\"node\"><title>_tmp_findtest_dir1</title>\r\n",
       "<ellipse fill=\"#eeeed1\" stroke=\"#eeeed1\" cx=\"135\" cy=\"-90\" rx=\"27\" ry=\"18\"/>\r\n",
       "<text text-anchor=\"middle\" x=\"135\" y=\"-86.3\" font-family=\"Times New Roman,serif\" font-size=\"14.00\">dir1</text>\r\n",
       "</g>\r\n",
       "<!-- _tmp_findtest&#45;&gt;_tmp_findtest_dir1 -->\r\n",
       "<g id=\"edge1\" class=\"edge\"><title>_tmp_findtest&#45;&gt;_tmp_findtest_dir1</title>\r\n",
       "<path fill=\"none\" stroke=\"blue\" d=\"M219.299,-145.638C205.03,-136.39 186.587,-124.436 170.592,-114.069\"/>\r\n",
       "<polygon fill=\"blue\" stroke=\"blue\" points=\"174.222,-108.08 153.632,-103.076 166.608,-119.828 174.222,-108.08\"/>\r\n",
       "</g>\r\n",
       "<!-- _tmp_findtest_dir2 -->\r\n",
       "<g id=\"node6\" class=\"node\"><title>_tmp_findtest_dir2</title>\r\n",
       "<ellipse fill=\"#eeeed1\" stroke=\"#eeeed1\" cx=\"243\" cy=\"-90\" rx=\"27\" ry=\"18\"/>\r\n",
       "<text text-anchor=\"middle\" x=\"243\" y=\"-86.3\" font-family=\"Times New Roman,serif\" font-size=\"14.00\">dir2</text>\r\n",
       "</g>\r\n",
       "<!-- _tmp_findtest&#45;&gt;_tmp_findtest_dir2 -->\r\n",
       "<g id=\"edge5\" class=\"edge\"><title>_tmp_findtest&#45;&gt;_tmp_findtest_dir2</title>\r\n",
       "<path fill=\"none\" stroke=\"blue\" d=\"M243,-143.697C243,-138.95 243,-133.613 243,-128.206\"/>\r\n",
       "<polygon fill=\"blue\" stroke=\"blue\" points=\"250,-128.104 243,-108.104 236,-128.104 250,-128.104\"/>\r\n",
       "</g>\r\n",
       "<!-- _tmp_findtest_file1 -->\r\n",
       "<g id=\"node9\" class=\"node\"><title>_tmp_findtest_file1</title>\r\n",
       "<ellipse fill=\"#eeeed1\" stroke=\"#eeeed1\" cx=\"315\" cy=\"-90\" rx=\"27\" ry=\"18\"/>\r\n",
       "<text text-anchor=\"middle\" x=\"315\" y=\"-86.3\" font-family=\"Times New Roman,serif\" font-size=\"14.00\">file1</text>\r\n",
       "</g>\r\n",
       "<!-- _tmp_findtest&#45;&gt;_tmp_findtest_file1 -->\r\n",
       "<g id=\"edge8\" class=\"edge\"><title>_tmp_findtest&#45;&gt;_tmp_findtest_file1</title>\r\n",
       "<path fill=\"none\" stroke=\"blue\" d=\"M259.699,-144.765C267.481,-137.199 276.97,-127.974 285.876,-119.315\"/>\r\n",
       "<polygon fill=\"blue\" stroke=\"blue\" points=\"290.883,-124.21 300.343,-105.25 281.123,-114.173 290.883,-124.21\"/>\r\n",
       "</g>\r\n",
       "<!-- _tmp_findtest_dir1_file1 -->\r\n",
       "<g id=\"node3\" class=\"node\"><title>_tmp_findtest_dir1_file1</title>\r\n",
       "<ellipse fill=\"#eeeed1\" stroke=\"#eeeed1\" cx=\"27\" cy=\"-18\" rx=\"27\" ry=\"18\"/>\r\n",
       "<text text-anchor=\"middle\" x=\"27\" y=\"-14.3\" font-family=\"Times New Roman,serif\" font-size=\"14.00\">file1</text>\r\n",
       "</g>\r\n",
       "<!-- _tmp_findtest_dir1&#45;&gt;_tmp_findtest_dir1_file1 -->\r\n",
       "<g id=\"edge2\" class=\"edge\"><title>_tmp_findtest_dir1&#45;&gt;_tmp_findtest_dir1_file1</title>\r\n",
       "<path fill=\"none\" stroke=\"blue\" d=\"M116.188,-76.8069C101.398,-67.2211 80.3714,-53.5926 62.4484,-41.9758\"/>\r\n",
       "<polygon fill=\"blue\" stroke=\"blue\" points=\"66.1869,-36.0572 45.5966,-31.0533 58.5724,-47.8054 66.1869,-36.0572\"/>\r\n",
       "</g>\r\n",
       "<!-- _tmp_findtest_dir1_file2 -->\r\n",
       "<g id=\"node4\" class=\"node\"><title>_tmp_findtest_dir1_file2</title>\r\n",
       "<ellipse fill=\"#eeeed1\" stroke=\"#eeeed1\" cx=\"99\" cy=\"-18\" rx=\"27\" ry=\"18\"/>\r\n",
       "<text text-anchor=\"middle\" x=\"99\" y=\"-14.3\" font-family=\"Times New Roman,serif\" font-size=\"14.00\">file2</text>\r\n",
       "</g>\r\n",
       "<!-- _tmp_findtest_dir1&#45;&gt;_tmp_findtest_dir1_file2 -->\r\n",
       "<g id=\"edge3\" class=\"edge\"><title>_tmp_findtest_dir1&#45;&gt;_tmp_findtest_dir1_file2</title>\r\n",
       "<path fill=\"none\" stroke=\"blue\" d=\"M126.65,-72.7646C123.606,-66.8453 120.039,-59.9092 116.498,-53.0236\"/>\r\n",
       "<polygon fill=\"blue\" stroke=\"blue\" points=\"122.676,-49.7316 107.304,-35.1473 110.226,-56.1345 122.676,-49.7316\"/>\r\n",
       "</g>\r\n",
       "<!-- _tmp_findtest_dir1_file3 -->\r\n",
       "<g id=\"node5\" class=\"node\"><title>_tmp_findtest_dir1_file3</title>\r\n",
       "<ellipse fill=\"#eeeed1\" stroke=\"#eeeed1\" cx=\"171\" cy=\"-18\" rx=\"27\" ry=\"18\"/>\r\n",
       "<text text-anchor=\"middle\" x=\"171\" y=\"-14.3\" font-family=\"Times New Roman,serif\" font-size=\"14.00\">file3</text>\r\n",
       "</g>\r\n",
       "<!-- _tmp_findtest_dir1&#45;&gt;_tmp_findtest_dir1_file3 -->\r\n",
       "<g id=\"edge4\" class=\"edge\"><title>_tmp_findtest_dir1&#45;&gt;_tmp_findtest_dir1_file3</title>\r\n",
       "<path fill=\"none\" stroke=\"blue\" d=\"M143.35,-72.7646C146.394,-66.8453 149.961,-59.9092 153.502,-53.0236\"/>\r\n",
       "<polygon fill=\"blue\" stroke=\"blue\" points=\"159.774,-56.1345 162.696,-35.1473 147.324,-49.7316 159.774,-56.1345\"/>\r\n",
       "</g>\r\n",
       "<!-- _tmp_findtest_dir2_file1 -->\r\n",
       "<g id=\"node7\" class=\"node\"><title>_tmp_findtest_dir2_file1</title>\r\n",
       "<ellipse fill=\"#eeeed1\" stroke=\"#eeeed1\" cx=\"243\" cy=\"-18\" rx=\"27\" ry=\"18\"/>\r\n",
       "<text text-anchor=\"middle\" x=\"243\" y=\"-14.3\" font-family=\"Times New Roman,serif\" font-size=\"14.00\">file1</text>\r\n",
       "</g>\r\n",
       "<!-- _tmp_findtest_dir2&#45;&gt;_tmp_findtest_dir2_file1 -->\r\n",
       "<g id=\"edge6\" class=\"edge\"><title>_tmp_findtest_dir2&#45;&gt;_tmp_findtest_dir2_file1</title>\r\n",
       "<path fill=\"none\" stroke=\"blue\" d=\"M243,-71.6966C243,-66.9496 243,-61.6132 243,-56.2063\"/>\r\n",
       "<polygon fill=\"blue\" stroke=\"blue\" points=\"250,-56.1043 243,-36.1043 236,-56.1044 250,-56.1043\"/>\r\n",
       "</g>\r\n",
       "<!-- _tmp_findtest_dir2_file2 -->\r\n",
       "<g id=\"node8\" class=\"node\"><title>_tmp_findtest_dir2_file2</title>\r\n",
       "<ellipse fill=\"#eeeed1\" stroke=\"#eeeed1\" cx=\"315\" cy=\"-18\" rx=\"27\" ry=\"18\"/>\r\n",
       "<text text-anchor=\"middle\" x=\"315\" y=\"-14.3\" font-family=\"Times New Roman,serif\" font-size=\"14.00\">file2</text>\r\n",
       "</g>\r\n",
       "<!-- _tmp_findtest_dir2&#45;&gt;_tmp_findtest_dir2_file2 -->\r\n",
       "<g id=\"edge7\" class=\"edge\"><title>_tmp_findtest_dir2&#45;&gt;_tmp_findtest_dir2_file2</title>\r\n",
       "<path fill=\"none\" stroke=\"blue\" d=\"M257.57,-74.8345C265.617,-67.0112 275.91,-57.0044 285.553,-47.6289\"/>\r\n",
       "<polygon fill=\"blue\" stroke=\"blue\" points=\"290.744,-52.3453 300.204,-33.3847 280.985,-42.3074 290.744,-52.3453\"/>\r\n",
       "</g>\r\n",
       "</g>\r\n",
       "</svg>\r\n"
      ],
      "text/plain": [
       "<IPython.core.display.HTML object>"
      ]
     },
     "metadata": {},
     "output_type": "display_data"
    }
   ],
   "source": [
    "rm -rf /tmp/findtest\n",
    "\n",
    "mkdir -p /tmp/findtest/\n",
    "touch /tmp/findtest/file1\n",
    "mkdir /tmp/findtest/dir1\n",
    "  touch /tmp/findtest/dir1/file1\n",
    "  touch /tmp/findtest/dir1/file2\n",
    "  touch /tmp/findtest/dir1/file3\n",
    "mkdir /tmp/findtest/dir2\n",
    "  touch /tmp/findtest/dir2/file1\n",
    "  touch /tmp/findtest/dir2/file2\n",
    "\n",
    "find /tmp/findtest | perl -ne '\n",
    "  BEGIN {\n",
    "    print \"digraph G {\\n  edge [color=blue, arrowsize=2];\\n  node [color=lightyellow2, style=filled];\\n\";\n",
    "  };\n",
    "\n",
    "  chomp();\n",
    "  if (!defined($ROOT)) {\n",
    "    $ROOT=\"$_\"; $ROOT =~ s/\\//_/g;\n",
    "    $ROOTLABEL=$_;\n",
    "    $NODES{$ROOT}=\"root\";\n",
    "    print \"\\n  $ROOT [label=\\\"$ROOTLABEL\\\"];\\n\"; \n",
    "  } else {\n",
    "    m/^(.+)\\/([^\\/]+)/;\n",
    "    ($PARENT,$CHILD)=($1,$2);\n",
    "    $NODE = $_;\n",
    "    $NODE =~ s/\\//_/g;\n",
    "    $PARENTNODE = $PARENT;\n",
    "    $PARENTNODE =~ s/\\//_/g;\n",
    "\n",
    "    $NODES{$NODE}=$CHILD;\n",
    "    print \"  $PARENTNODE -> $NODE;\\n\";\n",
    "    print \"\\n  $NODE [label=\\\"$CHILD\\\"];\\n\"; \n",
    "};\n",
    "\n",
    "END { print \"}\\n\"; }; ' | pydot"
   ]
  },
  {
   "cell_type": "code",
   "execution_count": 35,
   "metadata": {
    "collapsed": false
   },
   "outputs": [
    {
     "data": {
      "text/plain": [
       "[Sun, May 15, 2016 5:11:58 PM] Sourcing <</home/mjbright/src/git/GIT_mjbright/metakernel/metakernel_bash/metakernelrc>>"
      ]
     },
     "execution_count": 35,
     "metadata": {},
     "output_type": "execute_result"
    }
   ],
   "source": [
    "#source ~/.metakernelrc\n",
    "source /home/mjbright/src/git/GIT_mjbright/metakernel/metakernel_bash/metakernelrc"
   ]
  },
  {
   "cell_type": "code",
   "execution_count": 36,
   "metadata": {
    "collapsed": false
   },
   "outputs": [
    {
     "data": {
      "text/html": [
       "<?xml version=\"1.0\" encoding=\"UTF-8\" standalone=\"no\"?>\r\n",
       "<!DOCTYPE svg PUBLIC \"-//W3C//DTD SVG 1.1//EN\"\r\n",
       " \"http://www.w3.org/Graphics/SVG/1.1/DTD/svg11.dtd\">\r\n",
       "<!-- Generated by graphviz version 2.38.0 (20140413.2041)\r\n",
       " -->\r\n",
       "<!-- Title: G Pages: 1 -->\r\n",
       "<svg width=\"350pt\" height=\"188pt\"\r\n",
       " viewBox=\"0.00 0.00 350.00 188.00\" xmlns=\"http://www.w3.org/2000/svg\" xmlns:xlink=\"http://www.w3.org/1999/xlink\">\r\n",
       "<g id=\"graph0\" class=\"graph\" transform=\"scale(1 1) rotate(0) translate(4 184)\">\r\n",
       "<title>G</title>\r\n",
       "<polygon fill=\"white\" stroke=\"none\" points=\"-4,4 -4,-184 346,-184 346,4 -4,4\"/>\r\n",
       "<!-- _tmp_findtest -->\r\n",
       "<g id=\"node1\" class=\"node\"><title>_tmp_findtest</title>\r\n",
       "<ellipse fill=\"#eeeed1\" stroke=\"#eeeed1\" cx=\"243\" cy=\"-162\" rx=\"56.59\" ry=\"18\"/>\r\n",
       "<text text-anchor=\"middle\" x=\"243\" y=\"-158.3\" font-family=\"Times New Roman,serif\" font-size=\"14.00\">/tmp/findtest</text>\r\n",
       "</g>\r\n",
       "<!-- _tmp_findtest_dir1 -->\r\n",
       "<g id=\"node2\" class=\"node\"><title>_tmp_findtest_dir1</title>\r\n",
       "<ellipse fill=\"#eeeed1\" stroke=\"#eeeed1\" cx=\"135\" cy=\"-90\" rx=\"27\" ry=\"18\"/>\r\n",
       "<text text-anchor=\"middle\" x=\"135\" y=\"-86.3\" font-family=\"Times New Roman,serif\" font-size=\"14.00\">dir1</text>\r\n",
       "</g>\r\n",
       "<!-- _tmp_findtest&#45;&gt;_tmp_findtest_dir1 -->\r\n",
       "<g id=\"edge1\" class=\"edge\"><title>_tmp_findtest&#45;&gt;_tmp_findtest_dir1</title>\r\n",
       "<path fill=\"none\" stroke=\"blue\" d=\"M219.299,-145.638C205.03,-136.39 186.587,-124.436 170.592,-114.069\"/>\r\n",
       "<polygon fill=\"blue\" stroke=\"blue\" points=\"174.222,-108.08 153.632,-103.076 166.608,-119.828 174.222,-108.08\"/>\r\n",
       "</g>\r\n",
       "<!-- _tmp_findtest_dir2 -->\r\n",
       "<g id=\"node6\" class=\"node\"><title>_tmp_findtest_dir2</title>\r\n",
       "<ellipse fill=\"#eeeed1\" stroke=\"#eeeed1\" cx=\"243\" cy=\"-90\" rx=\"27\" ry=\"18\"/>\r\n",
       "<text text-anchor=\"middle\" x=\"243\" y=\"-86.3\" font-family=\"Times New Roman,serif\" font-size=\"14.00\">dir2</text>\r\n",
       "</g>\r\n",
       "<!-- _tmp_findtest&#45;&gt;_tmp_findtest_dir2 -->\r\n",
       "<g id=\"edge5\" class=\"edge\"><title>_tmp_findtest&#45;&gt;_tmp_findtest_dir2</title>\r\n",
       "<path fill=\"none\" stroke=\"blue\" d=\"M243,-143.697C243,-138.95 243,-133.613 243,-128.206\"/>\r\n",
       "<polygon fill=\"blue\" stroke=\"blue\" points=\"250,-128.104 243,-108.104 236,-128.104 250,-128.104\"/>\r\n",
       "</g>\r\n",
       "<!-- _tmp_findtest_file1 -->\r\n",
       "<g id=\"node9\" class=\"node\"><title>_tmp_findtest_file1</title>\r\n",
       "<ellipse fill=\"#eeeed1\" stroke=\"#eeeed1\" cx=\"315\" cy=\"-90\" rx=\"27\" ry=\"18\"/>\r\n",
       "<text text-anchor=\"middle\" x=\"315\" y=\"-86.3\" font-family=\"Times New Roman,serif\" font-size=\"14.00\">file1</text>\r\n",
       "</g>\r\n",
       "<!-- _tmp_findtest&#45;&gt;_tmp_findtest_file1 -->\r\n",
       "<g id=\"edge8\" class=\"edge\"><title>_tmp_findtest&#45;&gt;_tmp_findtest_file1</title>\r\n",
       "<path fill=\"none\" stroke=\"blue\" d=\"M259.699,-144.765C267.481,-137.199 276.97,-127.974 285.876,-119.315\"/>\r\n",
       "<polygon fill=\"blue\" stroke=\"blue\" points=\"290.883,-124.21 300.343,-105.25 281.123,-114.173 290.883,-124.21\"/>\r\n",
       "</g>\r\n",
       "<!-- _tmp_findtest_dir1_file1 -->\r\n",
       "<g id=\"node3\" class=\"node\"><title>_tmp_findtest_dir1_file1</title>\r\n",
       "<ellipse fill=\"#eeeed1\" stroke=\"#eeeed1\" cx=\"27\" cy=\"-18\" rx=\"27\" ry=\"18\"/>\r\n",
       "<text text-anchor=\"middle\" x=\"27\" y=\"-14.3\" font-family=\"Times New Roman,serif\" font-size=\"14.00\">file1</text>\r\n",
       "</g>\r\n",
       "<!-- _tmp_findtest_dir1&#45;&gt;_tmp_findtest_dir1_file1 -->\r\n",
       "<g id=\"edge2\" class=\"edge\"><title>_tmp_findtest_dir1&#45;&gt;_tmp_findtest_dir1_file1</title>\r\n",
       "<path fill=\"none\" stroke=\"blue\" d=\"M116.188,-76.8069C101.398,-67.2211 80.3714,-53.5926 62.4484,-41.9758\"/>\r\n",
       "<polygon fill=\"blue\" stroke=\"blue\" points=\"66.1869,-36.0572 45.5966,-31.0533 58.5724,-47.8054 66.1869,-36.0572\"/>\r\n",
       "</g>\r\n",
       "<!-- _tmp_findtest_dir1_file2 -->\r\n",
       "<g id=\"node4\" class=\"node\"><title>_tmp_findtest_dir1_file2</title>\r\n",
       "<ellipse fill=\"#eeeed1\" stroke=\"#eeeed1\" cx=\"99\" cy=\"-18\" rx=\"27\" ry=\"18\"/>\r\n",
       "<text text-anchor=\"middle\" x=\"99\" y=\"-14.3\" font-family=\"Times New Roman,serif\" font-size=\"14.00\">file2</text>\r\n",
       "</g>\r\n",
       "<!-- _tmp_findtest_dir1&#45;&gt;_tmp_findtest_dir1_file2 -->\r\n",
       "<g id=\"edge3\" class=\"edge\"><title>_tmp_findtest_dir1&#45;&gt;_tmp_findtest_dir1_file2</title>\r\n",
       "<path fill=\"none\" stroke=\"blue\" d=\"M126.65,-72.7646C123.606,-66.8453 120.039,-59.9092 116.498,-53.0236\"/>\r\n",
       "<polygon fill=\"blue\" stroke=\"blue\" points=\"122.676,-49.7316 107.304,-35.1473 110.226,-56.1345 122.676,-49.7316\"/>\r\n",
       "</g>\r\n",
       "<!-- _tmp_findtest_dir1_file3 -->\r\n",
       "<g id=\"node5\" class=\"node\"><title>_tmp_findtest_dir1_file3</title>\r\n",
       "<ellipse fill=\"#eeeed1\" stroke=\"#eeeed1\" cx=\"171\" cy=\"-18\" rx=\"27\" ry=\"18\"/>\r\n",
       "<text text-anchor=\"middle\" x=\"171\" y=\"-14.3\" font-family=\"Times New Roman,serif\" font-size=\"14.00\">file3</text>\r\n",
       "</g>\r\n",
       "<!-- _tmp_findtest_dir1&#45;&gt;_tmp_findtest_dir1_file3 -->\r\n",
       "<g id=\"edge4\" class=\"edge\"><title>_tmp_findtest_dir1&#45;&gt;_tmp_findtest_dir1_file3</title>\r\n",
       "<path fill=\"none\" stroke=\"blue\" d=\"M143.35,-72.7646C146.394,-66.8453 149.961,-59.9092 153.502,-53.0236\"/>\r\n",
       "<polygon fill=\"blue\" stroke=\"blue\" points=\"159.774,-56.1345 162.696,-35.1473 147.324,-49.7316 159.774,-56.1345\"/>\r\n",
       "</g>\r\n",
       "<!-- _tmp_findtest_dir2_file1 -->\r\n",
       "<g id=\"node7\" class=\"node\"><title>_tmp_findtest_dir2_file1</title>\r\n",
       "<ellipse fill=\"#eeeed1\" stroke=\"#eeeed1\" cx=\"243\" cy=\"-18\" rx=\"27\" ry=\"18\"/>\r\n",
       "<text text-anchor=\"middle\" x=\"243\" y=\"-14.3\" font-family=\"Times New Roman,serif\" font-size=\"14.00\">file1</text>\r\n",
       "</g>\r\n",
       "<!-- _tmp_findtest_dir2&#45;&gt;_tmp_findtest_dir2_file1 -->\r\n",
       "<g id=\"edge6\" class=\"edge\"><title>_tmp_findtest_dir2&#45;&gt;_tmp_findtest_dir2_file1</title>\r\n",
       "<path fill=\"none\" stroke=\"blue\" d=\"M243,-71.6966C243,-66.9496 243,-61.6132 243,-56.2063\"/>\r\n",
       "<polygon fill=\"blue\" stroke=\"blue\" points=\"250,-56.1043 243,-36.1043 236,-56.1044 250,-56.1043\"/>\r\n",
       "</g>\r\n",
       "<!-- _tmp_findtest_dir2_file2 -->\r\n",
       "<g id=\"node8\" class=\"node\"><title>_tmp_findtest_dir2_file2</title>\r\n",
       "<ellipse fill=\"#eeeed1\" stroke=\"#eeeed1\" cx=\"315\" cy=\"-18\" rx=\"27\" ry=\"18\"/>\r\n",
       "<text text-anchor=\"middle\" x=\"315\" y=\"-14.3\" font-family=\"Times New Roman,serif\" font-size=\"14.00\">file2</text>\r\n",
       "</g>\r\n",
       "<!-- _tmp_findtest_dir2&#45;&gt;_tmp_findtest_dir2_file2 -->\r\n",
       "<g id=\"edge7\" class=\"edge\"><title>_tmp_findtest_dir2&#45;&gt;_tmp_findtest_dir2_file2</title>\r\n",
       "<path fill=\"none\" stroke=\"blue\" d=\"M257.57,-74.8345C265.617,-67.0112 275.91,-57.0044 285.553,-47.6289\"/>\r\n",
       "<polygon fill=\"blue\" stroke=\"blue\" points=\"290.744,-52.3453 300.204,-33.3847 280.985,-42.3074 290.744,-52.3453\"/>\r\n",
       "</g>\r\n",
       "</g>\r\n",
       "</svg>\r\n"
      ],
      "text/plain": [
       "<IPython.core.display.HTML object>"
      ]
     },
     "metadata": {},
     "output_type": "display_data"
    }
   ],
   "source": [
    "rm -rf /tmp/findtest\n",
    "\n",
    "mkdir -p /tmp/findtest/\n",
    "touch /tmp/findtest/file1\n",
    "mkdir /tmp/findtest/dir1\n",
    "  touch /tmp/findtest/dir1/file1\n",
    "  touch /tmp/findtest/dir1/file2\n",
    "  touch /tmp/findtest/dir1/file3\n",
    "mkdir /tmp/findtest/dir2\n",
    "  touch /tmp/findtest/dir2/file1\n",
    "  touch /tmp/findtest/dir2/file2\n",
    "\n",
    "source /home/mjbright/src/git/GIT_mjbright/metakernel/metakernel_bash/metakernelrc\n",
    "find /tmp/findtest | pydot_show_filetree"
   ]
  },
  {
   "cell_type": "code",
   "execution_count": 37,
   "metadata": {
    "collapsed": false
   },
   "outputs": [
    {
     "data": {
      "text/plain": [
       "[Sun, May 15, 2016 5:12:03 PM] Sourcing <</home/mjbright/src/git/GIT_mjbright/metakernel/metakernel_bash/metakernelrc>>"
      ]
     },
     "execution_count": 37,
     "metadata": {},
     "output_type": "execute_result"
    }
   ],
   "source": [
    "source /home/mjbright/src/git/GIT_mjbright/metakernel/metakernel_bash/metakernelrc"
   ]
  },
  {
   "cell_type": "code",
   "execution_count": 38,
   "metadata": {
    "collapsed": false
   },
   "outputs": [
    {
     "data": {
      "text/html": [
       "<?xml version=\"1.0\" encoding=\"UTF-8\" standalone=\"no\"?>\r\n",
       "<!DOCTYPE svg PUBLIC \"-//W3C//DTD SVG 1.1//EN\"\r\n",
       " \"http://www.w3.org/Graphics/SVG/1.1/DTD/svg11.dtd\">\r\n",
       "<!-- Generated by graphviz version 2.38.0 (20140413.2041)\r\n",
       " -->\r\n",
       "<!-- Title: G Pages: 1 -->\r\n",
       "<svg width=\"960pt\" height=\"728pt\"\r\n",
       " viewBox=\"0.00 0.00 960.00 728.00\" xmlns=\"http://www.w3.org/2000/svg\" xmlns:xlink=\"http://www.w3.org/1999/xlink\">\r\n",
       "<g id=\"graph0\" class=\"graph\" transform=\"scale(1 1) rotate(0) translate(4 724)\">\r\n",
       "<title>G</title>\r\n",
       "<polygon fill=\"white\" stroke=\"none\" points=\"-4,4 -4,-724 956,-724 956,4 -4,4\"/>\r\n",
       "<g id=\"clust1\" class=\"cluster\"><title>cluster_01</title>\r\n",
       "<polygon fill=\"none\" stroke=\"black\" points=\"8,-334 8,-409 222,-409 222,-334 8,-334\"/>\r\n",
       "<text text-anchor=\"middle\" x=\"115\" y=\"-393.8\" font-family=\"Times New Roman,serif\" font-size=\"14.00\">Disk Usage under /tmp</text>\r\n",
       "</g>\r\n",
       "<!-- key3 -->\r\n",
       "<g id=\"node1\" class=\"node\"><title>key3</title>\r\n",
       "<polygon fill=\"lightgrey\" stroke=\"none\" points=\"214,-378 160,-378 160,-342 214,-342 214,-378\"/>\r\n",
       "<text text-anchor=\"middle\" x=\"187\" y=\"-356.3\" font-family=\"Times New Roman,serif\" font-size=\"14.00\">file1</text>\r\n",
       "</g>\r\n",
       "<!-- key2 -->\r\n",
       "<g id=\"node2\" class=\"node\"><title>key2</title>\r\n",
       "<polygon fill=\"lightgrey\" stroke=\"none\" points=\"142,-378 88,-378 88,-342 142,-342 142,-378\"/>\r\n",
       "<text text-anchor=\"middle\" x=\"115\" y=\"-356.3\" font-family=\"Times New Roman,serif\" font-size=\"14.00\">dir2/</text>\r\n",
       "</g>\r\n",
       "<!-- key1 -->\r\n",
       "<g id=\"node3\" class=\"node\"><title>key1</title>\r\n",
       "<polygon fill=\"lightgrey\" stroke=\"none\" points=\"70,-378 16,-378 16,-342 70,-342 70,-378\"/>\r\n",
       "<text text-anchor=\"middle\" x=\"43\" y=\"-356.3\" font-family=\"Times New Roman,serif\" font-size=\"14.00\">dir1/</text>\r\n",
       "</g>\r\n",
       "<!-- A -->\r\n",
       "<g id=\"node4\" class=\"node\"><title>A</title>\r\n",
       "<path fill=\"red\" stroke=\"black\" stroke-width=\"0.5\" d=\"M592,-360C592,-360 952,-360 952,-360 952,-363.534 951.948,-367.069 951.844,-370.601 951.74,-374.134 951.584,-377.665 951.376,-381.193 951.168,-384.722 950.908,-388.247 950.596,-391.767 950.284,-395.288 949.92,-398.804 949.505,-402.313 949.089,-405.823 948.622,-409.327 948.104,-412.823 947.585,-416.319 947.015,-419.807 946.394,-423.287 945.772,-426.766 945.1,-430.236 944.376,-433.695 943.653,-437.155 942.878,-440.604 942.053,-444.04 941.228,-447.477 940.352,-450.901 939.427,-454.312 938.501,-457.723 937.524,-461.12 936.499,-464.502 935.473,-467.885 934.397,-471.252 933.272,-474.602 932.147,-477.953 930.972,-481.286 929.749,-484.602 928.526,-487.918 927.254,-491.216 925.933,-494.494 924.613,-497.773 923.244,-501.031 921.828,-504.27 920.411,-507.508 918.947,-510.725 917.436,-513.92 915.925,-517.115 914.367,-520.287 912.762,-523.437 911.158,-526.586 909.507,-529.711 907.81,-532.812 906.114,-535.912 904.372,-538.987 902.584,-542.037 900.797,-545.086 898.965,-548.109 897.089,-551.104 895.213,-554.099 893.293,-557.067 891.329,-560.005 889.365,-562.944 887.359,-565.854 885.309,-568.733 883.26,-571.613 881.169,-574.462 879.035,-577.28 876.902,-580.098 874.728,-582.885 872.512,-585.639 870.297,-588.393 868.042,-591.114 865.746,-593.801 863.451,-596.489 861.116,-599.142 858.742,-601.761 856.369,-604.38 853.957,-606.964 851.507,-609.511 849.058,-612.059 846.571,-614.571 844.047,-617.045 841.524,-619.52 838.964,-621.957 836.368,-624.356 833.773,-626.755 831.142,-629.116 828.477,-631.438 825.813,-633.759 823.114,-636.042 820.382,-638.284 817.649,-640.526 814.885,-642.728 812.088,-644.889 809.291,-647.049 806.462,-649.169 803.603,-651.246 800.743,-653.324 797.854,-655.359 794.934,-657.351 792.015,-659.343 789.066,-661.293 786.09,-663.198 783.113,-665.104 780.108,-666.965 777.077,-668.782 774.045,-670.599 770.987,-672.372 767.904,-674.099 764.82,-675.826 761.711,-677.507 758.578,-679.142 755.444,-680.778 752.287,-682.367 749.107,-683.909 745.927,-685.452 742.725,-686.947 739.501,-688.395 736.277,-689.844 733.031,-691.244 729.766,-692.597 726.501,-693.949 723.216,-695.254 719.912,-696.509 716.608,-697.765 713.286,-698.972 709.947,-700.13 706.608,-701.288 703.251,-702.397 699.879,-703.456 696.508,-704.515 693.12,-705.525 689.719,-706.484 686.317,-707.443 682.901,-708.352 679.473,-709.211 676.044,-710.07 672.604,-710.878 669.151,-711.636 665.699,-712.393 662.236,-713.1 658.763,-713.755 655.29,-714.411 651.807,-715.015 648.316,-715.568 644.826,-716.121 641.327,-716.622 637.821,-717.072 634.316,-717.522 630.803,-717.92 627.286,-718.267 623.769,-718.613 620.247,-718.908 616.721,-719.15 613.195,-719.393 609.665,-719.584 606.134,-719.722 602.602,-719.861 599.068,-719.948 595.534,-719.983 592,-720.017 588.466,-720 584.932,-719.931 581.398,-719.861 577.866,-719.74 574.336,-719.566 570.806,-719.393 567.278,-719.168 563.755,-718.89 560.231,-718.613 556.712,-718.284 553.198,-717.903 549.685,-717.522 546.177,-717.089 542.676,-716.605 539.175,-716.121 535.681,-715.585 532.196,-714.998 528.71,-714.411 525.234,-713.772 521.767,-713.083 518.301,-712.393 514.845,-711.653 511.4,-710.861 507.956,-710.07 504.523,-709.228 501.103,-708.336 497.683,-707.443 494.277,-706.501 490.885,-705.508 487.493,-704.515 484.115,-703.473 480.754,-702.38 480.754,-702.38 592,-360 592,-360\"/>\r\n",
       "<path fill=\"green\" stroke=\"black\" stroke-width=\"0.5\" d=\"M592,-360C592,-360 480.754,-702.38 480.754,-702.38 477.392,-701.288 474.047,-700.147 470.72,-698.956 467.392,-697.765 464.082,-696.526 460.791,-695.237 457.499,-693.949 454.227,-692.613 450.975,-691.228 447.723,-689.844 444.492,-688.411 441.282,-686.932 438.073,-685.452 434.885,-683.925 431.72,-682.351 428.556,-680.778 425.414,-679.158 422.297,-677.492 419.18,-675.826 416.088,-674.114 413.021,-672.357 409.955,-670.599 406.914,-668.797 403.9,-666.95 400.887,-665.104 397.901,-663.213 394.943,-661.278 391.985,-659.343 389.056,-657.365 386.156,-655.345 383.257,-653.324 380.387,-651.26 377.548,-649.155 374.709,-647.049 371.902,-644.902 369.126,-642.714 366.351,-640.526 363.607,-638.297 360.897,-636.028 358.187,-633.759 355.511,-631.451 352.869,-629.103 350.227,-626.755 347.62,-624.369 345.048,-621.944 342.477,-619.52 339.941,-617.058 337.442,-614.558 334.942,-612.059 332.48,-609.523 330.056,-606.952 327.631,-604.38 325.245,-601.773 322.897,-599.131 320.549,-596.489 318.241,-593.813 315.972,-591.103 313.703,-588.393 311.474,-585.649 309.286,-582.874 307.098,-580.098 304.951,-577.291 302.845,-574.452 300.74,-571.613 298.676,-568.743 296.655,-565.844 294.635,-562.944 292.656,-560.015 290.722,-557.057 288.787,-554.099 286.896,-551.113 285.05,-548.099 283.203,-545.086 281.401,-542.045 279.643,-538.979 277.886,-535.912 276.174,-532.82 274.508,-529.703 272.842,-526.586 271.222,-523.444 269.649,-520.28 268.075,-517.115 266.548,-513.927 265.068,-510.717 263.589,-507.508 262.156,-504.276 260.772,-501.025 259.387,-497.773 258.051,-494.501 256.763,-491.209 255.474,-487.918 254.235,-484.608 253.044,-481.28 251.853,-477.953 250.712,-474.607 249.62,-471.246 248.527,-467.885 247.485,-464.507 246.492,-461.115 245.499,-457.723 244.557,-454.317 243.664,-450.897 242.772,-447.477 241.93,-444.044 241.139,-440.6 240.347,-437.155 239.607,-433.699 238.917,-430.232 238.228,-426.766 237.589,-423.29 237.002,-419.804 236.415,-416.319 235.879,-412.825 235.395,-409.324 234.911,-405.823 234.478,-402.315 234.097,-398.802 233.716,-395.288 233.387,-391.769 233.11,-388.245 232.832,-384.722 232.607,-381.194 232.434,-377.664 232.26,-374.134 232.139,-370.602 232.069,-367.068 232,-363.534 231.983,-360 232.017,-356.466 232.052,-352.932 232.139,-349.398 232.278,-345.866 232.416,-342.335 232.607,-338.805 232.85,-335.279 233.092,-331.753 233.387,-328.231 233.734,-324.714 234.08,-321.196 234.478,-317.684 234.928,-314.179 235.378,-310.673 235.879,-307.174 236.432,-303.684 236.985,-300.193 237.589,-296.71 238.245,-293.237 238.9,-289.764 239.607,-286.301 240.364,-282.849 241.122,-279.396 241.93,-275.956 242.789,-272.527 243.648,-269.099 244.557,-265.683 245.516,-262.281 246.475,-258.88 247.485,-255.492 248.544,-252.12 249.603,-248.749 250.712,-245.392 251.87,-242.053 253.028,-238.714 254.235,-235.392 255.491,-232.088 256.746,-228.784 258.051,-225.499 259.403,-222.234 260.756,-218.969 262.156,-215.723 263.605,-212.499 265.053,-209.275 266.548,-206.073 268.091,-202.893 269.633,-199.713 271.222,-196.555 272.858,-193.422 274.493,-190.289 276.175,-187.18 277.901,-184.096 279.628,-181.013 281.401,-177.954 283.218,-174.923 285.035,-171.891 286.896,-168.887 288.802,-165.91 290.707,-162.933 292.657,-159.985 294.649,-157.066 296.641,-154.146 298.676,-151.257 300.754,-148.397 302.831,-145.538 304.951,-142.709 307.112,-139.912 309.272,-137.115 311.474,-134.35 313.716,-131.618 315.958,-128.886 318.241,-126.187 320.562,-123.522 322.884,-120.858 325.245,-118.227 327.644,-115.632 330.043,-113.036 332.48,-110.476 334.955,-107.953 337.429,-105.429 339.941,-102.942 342.489,-100.493 345.036,-98.043 347.62,-95.6311 350.239,-93.2576 352.858,-90.884 355.511,-88.5492 358.199,-86.2538 360.886,-83.9584 363.607,-81.7028 366.361,-79.4875 369.115,-77.2723 371.902,-75.0977 374.72,-72.9645 377.538,-70.8313 380.387,-68.7398 383.267,-66.6905 386.146,-64.6412 389.056,-62.6345 391.995,-60.6709 394.933,-58.7073 397.901,-56.7871 400.896,-54.9109 403.891,-53.0347 406.914,-51.2028 409.963,-49.4156 413.013,-47.6284 416.088,-45.8862 419.188,-44.1896 422.289,-42.493 425.414,-40.8422 428.563,-39.2376 431.713,-37.6331 434.885,-36.075 438.08,-34.5638 441.275,-33.0527 444.492,-31.5887 447.73,-30.1723 450.969,-28.7559 454.227,-27.3873 457.506,-26.0669 460.784,-24.7465 464.082,-23.4744 467.398,-22.2511 470.714,-21.0278 474.048,-19.8534 477.398,-18.7283 480.749,-17.6032 484.115,-16.5274 487.498,-15.5015 490.88,-14.4755 494.277,-13.4994 497.688,-12.5735 501.099,-11.6475 504.523,-10.7719 507.96,-9.94681 511.396,-9.12174 514.845,-8.34731 518.305,-7.6238 521.764,-6.90028 525.234,-6.22775 528.713,-5.60642 532.193,-4.9851 535.681,-4.41504 539.177,-3.89645 542.673,-3.37785 546.177,-2.91077 549.687,-2.49535 553.196,-2.07993 556.712,-1.71622 560.233,-1.40434 563.753,-1.09246 567.278,-0.832446 570.807,-0.624376 574.335,-0.416307 577.866,-0.260207 581.399,-0.156127 584.932,-0.0520473 588.466,6.61814e-007 592,-6.30962e-012 595.534,-6.61827e-007 599.069,-0.05205 602.601,-0.156131 606.134,-0.260212 609.665,-0.416313 613.194,-0.624384 616.722,-0.832455 620.247,-1.09247 623.767,-1.40435 627.288,-1.71623 630.804,-2.07994 634.314,-2.49536 637.823,-2.91078 641.327,-3.37787 644.823,-3.89647 648.319,-4.41506 651.807,-4.98512 655.287,-5.60645 658.766,-6.22778 662.236,-6.90031 665.696,-7.62382 669.155,-8.34734 672.604,-9.12177 676.04,-9.94685 679.477,-10.7719 682.901,-11.6476 686.312,-12.5735 689.723,-13.4994 693.12,-14.4755 696.503,-15.5015 699.885,-16.5275 703.252,-17.6032 706.602,-18.7283 709.953,-19.8534 713.286,-21.0278 716.602,-22.2511 719.918,-23.4744 723.216,-24.7465 726.494,-26.0669 729.773,-27.3873 733.032,-28.756 736.27,-30.1724 739.508,-31.5888 742.725,-33.0528 745.92,-34.5639 749.115,-36.075 752.288,-37.6331 755.437,-39.2377 758.586,-40.8422 761.711,-42.4931 764.812,-44.1897 767.912,-45.8863 770.988,-47.6285 774.037,-49.4157 777.086,-51.2028 780.109,-53.0348 783.104,-54.911 786.099,-56.7872 789.067,-58.7074 792.005,-60.671 794.944,-62.6346 797.854,-64.6413 800.733,-66.6906 803.613,-68.7399 806.462,-70.8314 809.28,-72.9646 812.098,-75.0978 814.885,-77.2724 817.639,-79.4876 820.393,-81.7028 823.114,-83.9585 825.801,-86.2539 828.489,-88.5493 831.142,-90.8841 833.761,-93.2576 836.38,-95.6312 838.964,-98.0431 841.512,-100.493 844.059,-102.942 846.571,-105.429 849.045,-107.953 851.52,-110.477 853.957,-113.036 856.356,-115.632 858.755,-118.227 861.116,-120.858 863.438,-123.523 865.759,-126.187 868.042,-128.886 870.284,-131.618 872.526,-134.351 874.728,-137.116 876.889,-139.912 879.049,-142.709 881.169,-145.538 883.246,-148.397 883.246,-148.397 592,-360 592,-360\"/>\r\n",
       "<path fill=\"orange\" stroke=\"black\" stroke-width=\"0.5\" d=\"M592,-360C592,-360 883.246,-148.397 883.246,-148.397 884.631,-150.304 885.997,-152.223 887.345,-154.156 888.692,-156.089 890.02,-158.036 891.329,-159.995 892.638,-161.954 893.928,-163.926 895.198,-165.91 896.469,-167.895 897.719,-169.892 898.95,-171.901 900.182,-173.91 901.393,-175.931 902.584,-177.963 903.776,-179.996 904.947,-182.041 906.099,-184.096 907.25,-186.152 908.381,-188.219 909.492,-190.297 910.602,-192.375 911.693,-194.464 912.762,-196.563 913.832,-198.663 914.881,-200.773 915.909,-202.893 916.938,-205.013 917.945,-207.143 918.932,-209.283 919.918,-211.422 920.883,-213.572 921.828,-215.73 922.772,-217.889 923.695,-220.057 924.597,-222.234 925.498,-224.411 926.379,-226.597 927.237,-228.791 928.096,-230.985 928.933,-233.187 929.749,-235.398 930.564,-237.608 931.358,-239.827 932.13,-242.053 932.902,-244.279 933.652,-246.513 934.38,-248.754 935.108,-250.995 935.815,-253.243 936.499,-255.498 937.183,-257.752 937.844,-260.014 938.484,-262.281 939.123,-264.549 939.741,-266.823 940.336,-269.103 940.931,-271.383 941.503,-273.669 942.053,-275.96 942.603,-278.251 943.131,-280.547 943.636,-282.849 944.141,-285.15 944.623,-287.457 945.083,-289.768 945.542,-292.078 945.979,-294.394 946.394,-296.713 946.808,-299.033 947.199,-301.356 947.568,-303.684 947.936,-306.011 948.282,-308.342 948.605,-310.676 948.928,-313.01 949.228,-315.347 949.505,-317.687 949.782,-320.026 950.036,-322.369 950.267,-324.714 950.497,-327.059 950.705,-329.406 950.89,-331.755 951.075,-334.104 951.237,-336.454 951.376,-338.807 951.514,-341.159 951.63,-343.512 951.722,-345.866 951.815,-348.221 951.884,-350.576 951.931,-352.932 951.977,-355.288 952,-357.644 952,-360 952,-360 592,-360 592,-360\"/>\r\n",
       "<ellipse fill=\"none\" stroke=\"black\" cx=\"592\" cy=\"-360\" rx=\"360\" ry=\"360\"/>\r\n",
       "</g>\r\n",
       "</g>\r\n",
       "</svg>\r\n"
      ],
      "text/plain": [
       "<IPython.core.display.HTML object>"
      ]
     },
     "metadata": {},
     "output_type": "display_data"
    }
   ],
   "source": [
    "%%dot\n",
    "\n",
    "digraph G {\n",
    "    rankdir=TB;\n",
    "    node [shape=plaintext style=\"filled\"];\n",
    "    \n",
    "    subgraph cluster_01 {\n",
    "        label = \"Disk Usage under /tmp\";\n",
    "        key3 [label=\"file1\"]\n",
    "        key2 [label=\"dir2/\"]\n",
    "        key1 [label=\"dir1/\"]\n",
    "    };\n",
    "    node [shape=circle fizedsize=true width=10 style=wedged fillcolor=\"red;0.3:green;0.6:orange\"];\n",
    "    \n",
    "    A [label=\"\"]\n",
    "}"
   ]
  },
  {
   "cell_type": "code",
   "execution_count": 39,
   "metadata": {
    "collapsed": false
   },
   "outputs": [
    {
     "data": {
      "text/html": [
       "<?xml version=\"1.0\" encoding=\"UTF-8\" standalone=\"no\"?>\r\n",
       "<!DOCTYPE svg PUBLIC \"-//W3C//DTD SVG 1.1//EN\"\r\n",
       " \"http://www.w3.org/Graphics/SVG/1.1/DTD/svg11.dtd\">\r\n",
       "<!-- Generated by graphviz version 2.38.0 (20140413.2041)\r\n",
       " -->\r\n",
       "<!-- Title: G Pages: 1 -->\r\n",
       "<svg width=\"748pt\" height=\"472pt\"\r\n",
       " viewBox=\"0.00 0.00 748.00 472.00\" xmlns=\"http://www.w3.org/2000/svg\" xmlns:xlink=\"http://www.w3.org/1999/xlink\">\r\n",
       "<g id=\"graph0\" class=\"graph\" transform=\"scale(1 1) rotate(0) translate(4 468)\">\r\n",
       "<title>G</title>\r\n",
       "<polygon fill=\"white\" stroke=\"none\" points=\"-4,4 -4,-468 744,-468 744,4 -4,4\"/>\r\n",
       "<g id=\"clust1\" class=\"cluster\"><title>cluster_02</title>\r\n",
       "<polygon fill=\"none\" stroke=\"none\" points=\"8,-8 8,-456 456,-456 456,-8 8,-8\"/>\r\n",
       "</g>\r\n",
       "<g id=\"clust2\" class=\"cluster\"><title>cluster_01</title>\r\n",
       "<polygon fill=\"none\" stroke=\"black\" points=\"464,-206 464,-281 732,-281 732,-206 464,-206\"/>\r\n",
       "<text text-anchor=\"middle\" x=\"598\" y=\"-265.8\" font-family=\"Times New Roman,serif\" font-size=\"14.00\">Disk Usage under /tmp</text>\r\n",
       "</g>\r\n",
       "<!-- A -->\r\n",
       "<g id=\"node1\" class=\"node\"><title>A</title>\r\n",
       "<path fill=\"red\" stroke=\"black\" stroke-width=\"0.5\" d=\"M232,-232C232,-232 448,-232 448,-232 448,-234.121 447.969,-236.241 447.906,-238.361 447.844,-240.48 447.75,-242.599 447.625,-244.716 447.501,-246.833 447.345,-248.948 447.157,-251.06 446.97,-253.173 446.752,-255.282 446.503,-257.388 446.254,-259.494 445.973,-261.596 445.662,-263.694 445.351,-265.791 445.009,-267.884 444.636,-269.972 444.263,-272.06 443.86,-274.142 443.426,-276.217 442.992,-278.293 442.527,-280.362 442.032,-282.424 441.537,-284.486 441.011,-286.541 440.456,-288.587 439.9,-290.634 439.315,-292.672 438.699,-294.701 438.084,-296.731 437.438,-298.751 436.763,-300.761 436.088,-302.772 435.383,-304.772 434.649,-306.761 433.915,-308.751 433.152,-310.729 432.36,-312.697 431.568,-314.664 430.746,-316.619 429.897,-318.562 429.047,-320.505 428.168,-322.435 427.262,-324.352 426.355,-326.269 425.42,-328.172 424.457,-330.062 423.495,-331.951 422.504,-333.827 421.486,-335.687 420.468,-337.547 419.423,-339.392 418.351,-341.222 417.278,-343.052 416.179,-344.865 415.053,-346.662 413.928,-348.459 412.776,-350.24 411.597,-352.003 410.419,-353.766 409.215,-355.512 407.986,-357.24 406.756,-358.968 405.501,-360.677 404.221,-362.368 402.941,-364.059 401.637,-365.731 400.307,-367.383 398.978,-369.036 397.625,-370.668 396.248,-372.281 394.87,-373.893 393.47,-375.485 392.045,-377.057 390.621,-378.628 389.174,-380.178 387.704,-381.707 386.235,-383.236 384.742,-384.742 383.228,-386.227 381.714,-387.712 380.178,-389.174 378.621,-390.614 377.064,-392.053 375.485,-393.47 373.886,-394.863 372.288,-396.256 370.668,-397.625 369.029,-398.97 367.39,-400.316 365.731,-401.637 364.053,-402.933 362.374,-404.23 360.677,-405.501 358.962,-406.748 357.246,-407.994 355.512,-409.215 353.761,-410.411 352.009,-411.606 350.24,-412.776 348.454,-413.919 346.668,-415.062 344.865,-416.179 343.046,-417.269 341.227,-418.36 339.392,-419.423 337.542,-420.459 335.692,-421.495 333.827,-422.504 331.947,-423.485 330.067,-424.467 328.172,-425.42 326.264,-426.346 324.356,-427.271 322.435,-428.168 320.5,-429.037 318.566,-429.906 316.619,-430.746 314.66,-431.558 312.7,-432.37 310.729,-433.152 308.747,-433.906 306.765,-434.659 304.772,-435.383 302.768,-436.078 300.765,-436.773 298.751,-437.438 296.728,-438.074 294.705,-438.709 292.672,-439.315 290.631,-439.89 288.59,-440.466 286.541,-441.011 284.484,-441.527 282.427,-442.042 280.362,-442.527 278.291,-442.981 276.219,-443.436 274.141,-443.86 272.058,-444.253 269.974,-444.646 267.884,-445.009 265.79,-445.341 263.695,-445.672 261.596,-445.973 259.493,-446.243 257.389,-446.513 255.282,-446.752 253.172,-446.96 251.061,-447.168 248.948,-447.345 246.832,-447.49 244.717,-447.636 242.599,-447.75 240.48,-447.833 238.361,-447.917 236.241,-447.969 234.121,-447.99 232,-448.01 229.879,-448 227.759,-447.958 225.639,-447.917 223.519,-447.844 221.401,-447.74 219.283,-447.636 217.167,-447.501 215.053,-447.334 212.939,-447.168 210.827,-446.97 208.719,-446.742 206.611,-446.513 204.506,-446.254 202.405,-445.963 200.305,-445.672 198.208,-445.351 196.117,-444.999 194.026,-444.646 191.94,-444.263 189.86,-443.85 187.781,-443.436 185.707,-442.992 183.64,-442.517 181.573,-442.042 179.514,-441.537 177.462,-441.001 175.41,-440.466 173.366,-439.9 171.331,-439.305 169.296,-438.709 167.269,-438.084 165.252,-437.428 165.252,-437.428 232,-232 232,-232\"/>\r\n",
       "<path fill=\"green\" stroke=\"black\" stroke-width=\"0.5\" d=\"M232,-232C232,-232 165.252,-437.428 165.252,-437.428 163.235,-436.773 161.228,-436.088 159.232,-435.374 157.235,-434.659 155.249,-433.915 153.274,-433.142 151.3,-432.37 149.336,-431.568 147.385,-430.737 145.434,-429.906 143.495,-429.047 141.569,-428.159 139.644,-427.271 137.731,-426.355 135.832,-425.411 133.933,-424.467 132.049,-423.495 130.178,-422.495 128.308,-421.495 126.453,-420.468 124.613,-419.414 122.773,-418.36 120.948,-417.278 119.14,-416.17 117.332,-415.062 115.54,-413.928 113.766,-412.767 111.991,-411.606 110.234,-410.419 108.494,-409.207 106.754,-407.994 105.032,-406.756 103.329,-405.493 101.626,-404.23 99.941,-402.941 98.2757,-401.628 96.6103,-400.316 94.9644,-398.978 93.3384,-397.617 91.7125,-396.256 90.1066,-394.87 88.5215,-393.462 86.9363,-392.053 85.3719,-390.621 83.8289,-389.167 82.2859,-387.712 80.7644,-386.235 79.2649,-384.735 77.7654,-383.236 76.2881,-381.714 74.8334,-380.171 73.3787,-378.628 71.9468,-377.064 70.5382,-375.479 69.1296,-373.893 67.7444,-372.288 66.383,-370.662 65.0217,-369.036 63.6844,-367.39 62.3715,-365.724 61.0587,-364.059 59.7704,-362.374 58.5072,-360.671 57.2439,-358.968 56.0058,-357.246 54.7933,-355.506 53.5807,-353.766 52.3939,-352.009 51.2331,-350.234 50.0723,-348.459 48.9377,-346.668 47.8297,-344.86 46.7217,-343.052 45.6404,-341.227 44.5861,-339.387 43.5318,-337.547 42.5046,-335.692 41.505,-333.822 40.5053,-331.951 39.5333,-330.067 38.5891,-328.168 37.645,-326.269 36.7289,-324.356 35.8411,-322.43 34.9532,-320.505 34.0938,-318.566 33.2631,-316.615 32.4324,-314.664 31.6305,-312.7 30.8576,-310.726 30.0847,-308.751 29.3409,-306.765 28.6265,-304.768 27.9121,-302.772 27.2271,-300.764 26.5718,-298.748 25.9165,-296.731 25.2909,-294.704 24.6953,-292.669 24.0997,-290.634 23.534,-288.59 22.9986,-286.538 22.4632,-284.486 21.958,-282.427 21.4832,-280.36 21.0084,-278.293 20.5641,-276.219 20.1504,-274.139 19.7367,-272.06 19.3536,-269.974 19.0013,-267.883 18.649,-265.791 18.3276,-263.695 18.037,-261.595 17.7465,-259.494 17.4869,-257.389 17.2583,-255.281 17.0297,-253.173 16.8322,-251.061 16.6659,-248.947 16.4995,-246.833 16.3642,-244.717 16.2602,-242.599 16.1561,-240.481 16.0833,-238.361 16.0416,-236.241 16,-234.121 15.9896,-232 16.0104,-229.879 16.0312,-227.759 16.0833,-225.639 16.1665,-223.52 16.2498,-221.401 16.3642,-219.283 16.5099,-217.168 16.6555,-215.052 16.8322,-212.939 17.0401,-210.828 17.248,-208.718 17.4869,-206.611 17.7568,-204.507 18.0267,-202.404 18.3276,-200.305 18.6593,-198.21 18.9911,-196.116 19.3536,-194.026 19.7469,-191.942 20.1402,-189.858 20.5641,-187.781 21.0186,-185.709 21.473,-183.638 21.958,-181.573 22.4733,-179.516 22.9885,-177.459 23.5341,-175.41 24.1097,-173.369 24.6853,-171.328 25.2909,-169.295 25.9264,-167.272 26.5619,-165.249 27.2271,-163.235 27.9219,-161.232 28.6167,-159.228 29.3409,-157.235 30.0944,-155.253 30.8479,-153.271 31.6305,-151.3 32.442,-149.34 33.2536,-147.381 34.0939,-145.434 34.9628,-143.5 35.8316,-141.565 36.7289,-139.644 37.6544,-137.736 38.5798,-135.828 39.5333,-133.933 40.5146,-132.053 41.4958,-130.173 42.5047,-128.308 43.5409,-126.458 44.5771,-124.608 45.6404,-122.773 46.7306,-120.954 47.8208,-119.135 48.9378,-117.332 50.0811,-115.546 51.2244,-113.76 52.3939,-111.991 53.5893,-110.239 54.7847,-108.488 56.0059,-106.754 57.2523,-105.038 58.4988,-103.323 59.7705,-101.626 61.0669,-99.9474 62.3634,-98.2693 63.6845,-96.6103 65.0298,-94.971 66.3751,-93.3318 67.7444,-91.7124 69.1374,-90.1135 70.5304,-88.5146 71.9469,-86.9362 73.3864,-85.379 74.8258,-83.8218 76.2882,-82.2859 77.7729,-80.7717 79.2576,-79.2576 80.7645,-77.7654 82.2932,-76.2956 83.8218,-74.8258 85.372,-73.3787 86.9433,-71.9545 88.5146,-70.5304 90.1067,-69.1295 91.7192,-67.7523 93.3318,-66.3751 94.9645,-65.0217 96.6169,-63.6925 98.2693,-62.3634 99.9411,-61.0586 101.632,-59.7787 103.323,-58.4988 105.032,-57.2439 106.76,-56.0143 108.488,-54.7847 110.234,-53.5807 111.997,-52.4025 113.76,-51.2244 115.541,-50.0723 117.338,-48.9466 119.135,-47.8208 120.949,-46.7217 122.778,-45.6494 124.608,-44.5771 126.453,-43.5317 128.313,-42.5138 130.173,-41.4958 132.049,-40.5053 133.938,-39.5426 135.828,-38.5798 137.731,-37.645 139.648,-36.7383 141.565,-35.8316 143.495,-34.9532 145.438,-34.1034 147.381,-33.2536 149.336,-32.4324 151.304,-31.6401 153.271,-30.8479 155.249,-30.0846 157.239,-29.3507 159.228,-28.6167 161.229,-27.912 163.239,-27.237 165.249,-26.5619 167.269,-25.9165 169.299,-25.3009 171.328,-24.6853 173.366,-24.0996 175.413,-23.5441 177.459,-22.9885 179.514,-22.4631 181.576,-21.9681 183.638,-21.473 185.707,-21.0084 187.783,-20.5743 189.858,-20.1402 191.94,-19.7367 194.028,-19.3639 196.116,-18.9911 198.209,-18.649 200.306,-18.3379 202.404,-18.0267 204.506,-17.7465 206.612,-17.4972 208.718,-17.248 210.827,-17.0297 212.94,-16.8426 215.052,-16.6555 217.167,-16.4995 219.284,-16.3746 221.401,-16.2498 223.52,-16.1561 225.639,-16.0937 227.759,-16.0312 229.879,-16 232,-16 234.121,-16 236.241,-16.0312 238.361,-16.0937 240.481,-16.1561 242.599,-16.2498 244.716,-16.3746 246.833,-16.4995 248.948,-16.6555 251.06,-16.8426 253.173,-17.0297 255.282,-17.248 257.388,-17.4972 259.494,-17.7465 261.596,-18.0267 263.694,-18.3379 265.791,-18.649 267.884,-18.9911 269.972,-19.3639 272.06,-19.7367 274.142,-20.1402 276.217,-20.5743 278.293,-21.0084 280.362,-21.4731 282.424,-21.9681 284.486,-22.4632 286.541,-22.9885 288.587,-23.5441 290.634,-24.0997 292.672,-24.6853 294.702,-25.3009 296.731,-25.9165 298.751,-26.5619 300.761,-27.237 302.772,-27.9121 304.772,-28.6167 306.761,-29.3507 308.751,-30.0847 310.729,-30.8479 312.697,-31.6402 314.664,-32.4324 316.619,-33.2536 318.562,-34.1034 320.505,-34.9533 322.435,-35.8317 324.352,-36.7383 326.269,-37.645 328.173,-38.5799 330.062,-39.5426 331.951,-40.5053 333.827,-41.4959 335.687,-42.5138 337.547,-43.5318 339.393,-44.5771 341.222,-45.6494 343.052,-46.7217 344.865,-47.8209 346.662,-48.9466 348.46,-50.0723 350.24,-51.2244 352.003,-52.4026 353.766,-53.5807 355.512,-54.7848 357.24,-56.0144 358.968,-57.2439 360.677,-58.4989 362.368,-59.7788 364.059,-61.0587 365.731,-62.3634 367.383,-63.6926 369.036,-65.0217 370.668,-66.3751 372.281,-67.7523 373.893,-69.1296 375.485,-70.5305 377.057,-71.9546 378.628,-73.3787 380.178,-74.8259 381.707,-76.2957 383.236,-77.7654 384.742,-79.2576 386.227,-80.7718 387.712,-82.2859 389.174,-83.8219 390.614,-85.3791 392.053,-86.9363 393.47,-88.5146 394.863,-90.1135 396.256,-91.7125 397.625,-93.3318 398.97,-94.9711 400.316,-96.6103 401.637,-98.2693 402.933,-99.9475 404.23,-101.626 405.501,-103.323 406.748,-105.038 406.748,-105.038 232,-232 232,-232\"/>\r\n",
       "<path fill=\"orange\" stroke=\"black\" stroke-width=\"0.5\" d=\"M232,-232C232,-232 406.748,-105.038 406.748,-105.038 408.41,-107.326 410.027,-109.646 411.597,-111.997 413.168,-114.348 414.693,-116.729 416.17,-119.14 417.648,-121.551 419.078,-123.991 420.459,-126.458 421.841,-128.925 423.174,-131.419 424.457,-133.938 425.741,-136.457 426.975,-139.002 428.159,-141.57 429.343,-144.137 430.476,-146.728 431.558,-149.34 432.64,-151.953 433.671,-154.586 434.649,-157.239 435.628,-159.891 436.554,-162.563 437.428,-165.252 438.302,-167.941 439.123,-170.648 439.89,-173.369 440.658,-176.09 441.372,-178.826 442.032,-181.576 442.692,-184.325 443.298,-187.087 443.85,-189.861 444.401,-192.634 444.898,-195.417 445.341,-198.21 445.783,-201.003 446.17,-203.804 446.503,-206.612 446.835,-209.42 447.112,-212.234 447.334,-215.053 447.556,-217.872 447.722,-220.695 447.833,-223.52 447.944,-226.345 448,-229.172 448,-232 448,-232 232,-232 232,-232\"/>\r\n",
       "<ellipse fill=\"none\" stroke=\"black\" cx=\"232\" cy=\"-232\" rx=\"216\" ry=\"216\"/>\r\n",
       "</g>\r\n",
       "<!-- key1 -->\r\n",
       "<g id=\"node2\" class=\"node\"><title>key1</title>\r\n",
       "<polygon fill=\"red\" stroke=\"none\" points=\"724,-250 652,-250 652,-214 724,-214 724,-250\"/>\r\n",
       "<text text-anchor=\"middle\" x=\"688\" y=\"-228.3\" font-family=\"Times New Roman,serif\" font-size=\"14.00\">dir1/</text>\r\n",
       "</g>\r\n",
       "<!-- key2 -->\r\n",
       "<g id=\"node3\" class=\"node\"><title>key2</title>\r\n",
       "<polygon fill=\"green\" stroke=\"none\" points=\"634,-250 562,-250 562,-214 634,-214 634,-250\"/>\r\n",
       "<text text-anchor=\"middle\" x=\"598\" y=\"-228.3\" font-family=\"Times New Roman,serif\" font-size=\"14.00\">dir2/</text>\r\n",
       "</g>\r\n",
       "<!-- key3 -->\r\n",
       "<g id=\"node4\" class=\"node\"><title>key3</title>\r\n",
       "<polygon fill=\"orange\" stroke=\"none\" points=\"544,-250 472,-250 472,-214 544,-214 544,-250\"/>\r\n",
       "<text text-anchor=\"middle\" x=\"508\" y=\"-228.3\" font-family=\"Times New Roman,serif\" font-size=\"14.00\">file1</text>\r\n",
       "</g>\r\n",
       "</g>\r\n",
       "</svg>\r\n"
      ],
      "text/plain": [
       "<IPython.core.display.HTML object>"
      ]
     },
     "metadata": {},
     "output_type": "display_data"
    }
   ],
   "source": [
    "%%dot\n",
    "\n",
    "digraph G {\n",
    "    //rankdir=TB;\n",
    "    node [shape=circle fizedsize=true width=6 style=wedged fillcolor=\"red;0.3:green;0.6:orange\"];\n",
    "    \n",
    "    subgraph cluster_02 {\n",
    "        //rankType=\"same\";\n",
    "        color=\"invis\"; // No border on cluster\n",
    "\n",
    "    A [label=\"\"]\n",
    "    }\n",
    "    \n",
    "    //rankdir=TB;\n",
    "    node [shape=plaintext fixedsize=true width=1 style=\"filled\" fillcolor=\"lightyellow2\"];\n",
    "    subgraph cluster_01 {\n",
    "        //rankType=\"min\";\n",
    "\n",
    "        label = \"Disk Usage under /tmp\";\n",
    "        width=1\n",
    "        key1 [label=\"dir1/\" fillcolor=\"red\"]\n",
    "        key2 [label=\"dir2/\" fillcolor=\"green\"]\n",
    "        key3 [label=\"file1\" fillcolor=\"orange\"]\n",
    "    };\n",
    "    \n",
    "}"
   ]
  },
  {
   "cell_type": "code",
   "execution_count": 40,
   "metadata": {
    "collapsed": false
   },
   "outputs": [
    {
     "data": {
      "text/html": [
       "<?xml version=\"1.0\" encoding=\"UTF-8\" standalone=\"no\"?>\r\n",
       "<!DOCTYPE svg PUBLIC \"-//W3C//DTD SVG 1.1//EN\"\r\n",
       " \"http://www.w3.org/Graphics/SVG/1.1/DTD/svg11.dtd\">\r\n",
       "<!-- Generated by graphviz version 2.38.0 (20140413.2041)\r\n",
       " -->\r\n",
       "<!-- Title: G Pages: 1 -->\r\n",
       "<svg width=\"726pt\" height=\"440pt\"\r\n",
       " viewBox=\"0.00 0.00 726.00 440.00\" xmlns=\"http://www.w3.org/2000/svg\" xmlns:xlink=\"http://www.w3.org/1999/xlink\">\r\n",
       "<g id=\"graph0\" class=\"graph\" transform=\"scale(1 1) rotate(0) translate(4 436)\">\r\n",
       "<title>G</title>\r\n",
       "<polygon fill=\"white\" stroke=\"none\" points=\"-4,4 -4,-436 722,-436 722,4 -4,4\"/>\r\n",
       "<g id=\"clust1\" class=\"cluster\"><title>cluster_01</title>\r\n",
       "<polygon fill=\"none\" stroke=\"black\" points=\"442,-190 442,-265 710,-265 710,-190 442,-190\"/>\r\n",
       "<text text-anchor=\"middle\" x=\"576\" y=\"-249.8\" font-family=\"Times New Roman,serif\" font-size=\"14.00\">Disk Usage under /tmp</text>\r\n",
       "</g>\r\n",
       "<!-- A -->\r\n",
       "<g id=\"node1\" class=\"node\"><title>A</title>\r\n",
       "<path fill=\"red\" stroke=\"black\" stroke-width=\"0.5\" d=\"M216,-216C216,-216 432,-216 432,-216 432,-218.121 431.969,-220.241 431.906,-222.361 431.844,-224.48 431.75,-226.599 431.625,-228.716 431.501,-230.833 431.345,-232.948 431.157,-235.06 430.97,-237.173 430.752,-239.282 430.503,-241.388 430.254,-243.494 429.973,-245.596 429.662,-247.694 429.351,-249.791 429.009,-251.884 428.636,-253.972 428.263,-256.06 427.86,-258.142 427.426,-260.217 426.992,-262.293 426.527,-264.362 426.032,-266.424 425.537,-268.486 425.011,-270.541 424.456,-272.587 423.9,-274.634 423.315,-276.672 422.699,-278.701 422.084,-280.731 421.438,-282.751 420.763,-284.761 420.088,-286.772 419.383,-288.772 418.649,-290.761 417.915,-292.751 417.152,-294.729 416.36,-296.697 415.568,-298.664 414.746,-300.619 413.897,-302.562 413.047,-304.505 412.168,-306.435 411.262,-308.352 410.355,-310.269 409.42,-312.172 408.457,-314.062 407.495,-315.951 406.504,-317.827 405.486,-319.687 404.468,-321.547 403.423,-323.392 402.351,-325.222 401.278,-327.052 400.179,-328.865 399.053,-330.662 397.928,-332.459 396.776,-334.24 395.597,-336.003 394.419,-337.766 393.215,-339.512 391.986,-341.24 390.756,-342.968 389.501,-344.677 388.221,-346.368 386.941,-348.059 385.637,-349.731 384.307,-351.383 382.978,-353.036 381.625,-354.668 380.248,-356.281 378.87,-357.893 377.47,-359.485 376.045,-361.057 374.621,-362.628 373.174,-364.178 371.704,-365.707 370.235,-367.236 368.742,-368.742 367.228,-370.227 365.714,-371.712 364.178,-373.174 362.621,-374.614 361.064,-376.053 359.485,-377.47 357.886,-378.863 356.288,-380.256 354.668,-381.625 353.029,-382.97 351.39,-384.316 349.731,-385.637 348.053,-386.933 346.374,-388.23 344.677,-389.501 342.962,-390.748 341.246,-391.994 339.512,-393.215 337.761,-394.411 336.009,-395.606 334.24,-396.776 332.454,-397.919 330.668,-399.062 328.865,-400.179 327.046,-401.269 325.227,-402.36 323.392,-403.423 321.542,-404.459 319.692,-405.495 317.827,-406.504 315.947,-407.485 314.067,-408.467 312.172,-409.42 310.264,-410.346 308.356,-411.271 306.435,-412.168 304.5,-413.037 302.566,-413.906 300.619,-414.746 298.66,-415.558 296.7,-416.37 294.729,-417.152 292.747,-417.906 290.765,-418.659 288.772,-419.383 286.768,-420.078 284.765,-420.773 282.751,-421.438 280.728,-422.074 278.705,-422.709 276.672,-423.315 274.631,-423.89 272.59,-424.466 270.541,-425.011 268.484,-425.527 266.427,-426.042 264.362,-426.527 262.291,-426.981 260.219,-427.436 258.141,-427.86 256.058,-428.253 253.974,-428.646 251.884,-429.009 249.79,-429.341 247.695,-429.672 245.596,-429.973 243.493,-430.243 241.389,-430.513 239.282,-430.752 237.172,-430.96 235.061,-431.168 232.948,-431.345 230.832,-431.49 228.717,-431.636 226.599,-431.75 224.48,-431.833 222.361,-431.917 220.241,-431.969 218.121,-431.99 216,-432.01 213.879,-432 211.759,-431.958 209.639,-431.917 207.519,-431.844 205.401,-431.74 203.283,-431.636 201.167,-431.501 199.053,-431.334 196.939,-431.168 194.827,-430.97 192.719,-430.742 190.611,-430.513 188.506,-430.254 186.405,-429.963 184.305,-429.672 182.208,-429.351 180.117,-428.999 178.026,-428.646 175.94,-428.263 173.86,-427.85 171.781,-427.436 169.707,-426.992 167.64,-426.517 165.573,-426.042 163.514,-425.537 161.462,-425.001 159.41,-424.466 157.366,-423.9 155.331,-423.305 153.296,-422.709 151.269,-422.084 149.252,-421.428 149.252,-421.428 216,-216 216,-216\"/>\r\n",
       "<path fill=\"green\" stroke=\"black\" stroke-width=\"0.5\" d=\"M216,-216C216,-216 149.252,-421.428 149.252,-421.428 147.235,-420.773 145.228,-420.088 143.232,-419.374 141.235,-418.659 139.249,-417.915 137.274,-417.142 135.3,-416.37 133.336,-415.568 131.385,-414.737 129.434,-413.906 127.495,-413.047 125.569,-412.159 123.644,-411.271 121.731,-410.355 119.832,-409.411 117.933,-408.467 116.049,-407.495 114.178,-406.495 112.308,-405.495 110.453,-404.468 108.613,-403.414 106.773,-402.36 104.948,-401.278 103.14,-400.17 101.332,-399.062 99.5405,-397.928 97.7658,-396.767 95.9911,-395.606 94.2335,-394.419 92.4938,-393.207 90.754,-391.994 89.0322,-390.756 87.3289,-389.493 85.6256,-388.23 83.941,-386.941 82.2757,-385.628 80.6103,-384.316 78.9644,-382.978 77.3384,-381.617 75.7125,-380.256 74.1066,-378.87 72.5215,-377.462 70.9363,-376.053 69.3719,-374.621 67.8289,-373.167 66.2859,-371.712 64.7644,-370.235 63.2649,-368.735 61.7654,-367.236 60.2881,-365.714 58.8334,-364.171 57.3787,-362.628 55.9468,-361.064 54.5382,-359.479 53.1296,-357.893 51.7444,-356.288 50.383,-354.662 49.0217,-353.036 47.6844,-351.39 46.3715,-349.724 45.0587,-348.059 43.7704,-346.374 42.5072,-344.671 41.2439,-342.968 40.0058,-341.246 38.7933,-339.506 37.5807,-337.766 36.3939,-336.009 35.2331,-334.234 34.0723,-332.459 32.9377,-330.668 31.8297,-328.86 30.7217,-327.052 29.6404,-325.227 28.5861,-323.387 27.5318,-321.547 26.5046,-319.692 25.505,-317.822 24.5053,-315.951 23.5333,-314.067 22.5891,-312.168 21.645,-310.269 20.7289,-308.356 19.8411,-306.43 18.9532,-304.505 18.0938,-302.566 17.2631,-300.615 16.4324,-298.664 15.6305,-296.7 14.8576,-294.726 14.0847,-292.751 13.3409,-290.765 12.6265,-288.768 11.9121,-286.772 11.2271,-284.764 10.5718,-282.748 9.91648,-280.731 9.29091,-278.704 8.69528,-276.669 8.09965,-274.634 7.53403,-272.59 6.99859,-270.538 6.46315,-268.486 5.95796,-266.427 5.48318,-264.36 5.0084,-262.293 4.56409,-260.219 4.15037,-258.139 3.73666,-256.06 3.3536,-253.974 3.00132,-251.883 2.64904,-249.791 2.32757,-247.695 2.03702,-245.595 1.74647,-243.494 1.48687,-241.389 1.2583,-239.281 1.02974,-237.173 0.832235,-235.061 0.665854,-232.947 0.499473,-230.833 0.364233,-228.717 0.26018,-226.599 0.156127,-224.481 0.0832707,-222.361 0.0416355,-220.241 3.20543e-007,-218.121 -0.0104095,-216 0.0104095,-213.879 0.0312285,-211.759 0.0832741,-209.639 0.166529,-207.52 0.249784,-205.401 0.36424,-203.283 0.509859,-201.168 0.655478,-199.052 0.832245,-196.939 1.0401,-194.828 1.24796,-192.718 1.48688,-190.611 1.7568,-188.507 2.02671,-186.404 2.32759,-184.305 2.65932,-182.21 2.99106,-180.116 3.35362,-178.026 3.7469,-175.942 4.14017,-173.858 4.56411,-171.781 5.01858,-169.709 5.47304,-167.638 5.95799,-165.573 6.47326,-163.516 6.98852,-161.459 7.53406,-159.41 8.10968,-157.369 8.6853,-155.328 9.29094,-153.295 9.92642,-151.272 10.5619,-149.249 11.2271,-147.235 11.9219,-145.232 12.6167,-143.228 13.3409,-141.235 14.0944,-139.253 14.8479,-137.271 15.6305,-135.3 16.442,-133.34 17.2536,-131.381 18.0939,-129.434 18.9628,-127.5 19.8316,-125.565 20.7289,-123.644 21.6544,-121.736 22.5798,-119.828 23.5333,-117.933 24.5146,-116.053 25.4958,-114.173 26.5047,-112.308 27.5409,-110.458 28.5771,-108.608 29.6404,-106.773 30.7306,-104.954 31.8208,-103.135 32.9378,-101.332 34.0811,-99.5461 35.2244,-97.7601 36.3939,-95.991 37.5893,-94.2394 38.7847,-92.4878 40.0059,-90.754 41.2523,-89.0384 42.4988,-87.3227 43.7705,-85.6256 45.0669,-83.9474 46.3634,-82.2693 47.6845,-80.6103 49.0298,-78.971 50.3751,-77.3318 51.7444,-75.7124 53.1374,-74.1135 54.5304,-72.5146 55.9469,-70.9362 57.3864,-69.379 58.8258,-67.8218 60.2882,-66.2859 61.7729,-64.7717 63.2576,-63.2576 64.7645,-61.7654 66.2932,-60.2956 67.8218,-58.8258 69.372,-57.3787 70.9433,-55.9545 72.5146,-54.5304 74.1067,-53.1295 75.7192,-51.7523 77.3318,-50.3751 78.9645,-49.0217 80.6169,-47.6925 82.2693,-46.3634 83.9411,-45.0586 85.6319,-43.7787 87.3228,-42.4988 89.0323,-41.2439 90.7601,-40.0143 92.4879,-38.7847 94.2336,-37.5807 95.9969,-36.4025 97.7601,-35.2244 99.5406,-34.0723 101.338,-32.9466 103.135,-31.8208 104.949,-30.7217 106.778,-29.6494 108.608,-28.5771 110.453,-27.5317 112.313,-26.5138 114.173,-25.4958 116.049,-24.5053 117.938,-23.5426 119.828,-22.5798 121.731,-21.645 123.648,-20.7383 125.565,-19.8316 127.495,-18.9532 129.438,-18.1034 131.381,-17.2536 133.336,-16.4324 135.304,-15.6401 137.271,-14.8479 139.249,-14.0846 141.239,-13.3507 143.228,-12.6167 145.229,-11.912 147.239,-11.237 149.249,-10.5619 151.269,-9.91646 153.299,-9.30088 155.328,-8.6853 157.366,-8.09963 159.413,-7.54408 161.459,-6.98852 163.514,-6.46314 165.576,-5.96809 167.638,-5.47304 169.707,-5.00839 171.783,-4.57428 173.858,-4.14017 175.94,-3.73665 178.028,-3.36385 180.116,-2.99106 182.209,-2.64903 184.306,-2.33787 186.404,-2.02671 188.506,-1.74646 190.612,-1.49721 192.718,-1.24796 194.827,-1.02973 196.94,-0.842605 199.052,-0.655478 201.167,-0.499468 203.284,-0.374626 205.401,-0.249784 207.52,-0.156124 209.639,-0.0936762 211.759,-0.0312284 213.879,3.97089e-007 216,-3.78009e-012 218.121,-3.97096e-007 220.241,-0.03123 222.361,-0.0936786 224.481,-0.156127 226.599,-0.249788 228.716,-0.374631 230.833,-0.499473 232.948,-0.655484 235.06,-0.842612 237.173,-1.02974 239.282,-1.24797 241.388,-1.49722 243.494,-1.74647 245.596,-2.02672 247.694,-2.33788 249.791,-2.64904 251.884,-2.99107 253.972,-3.36387 256.06,-3.73667 258.142,-4.14018 260.217,-4.57429 262.293,-5.0084 264.362,-5.47306 266.424,-5.96811 268.486,-6.46315 270.541,-6.98854 272.587,-7.5441 274.634,-8.09965 276.672,-8.68532 278.702,-9.3009 280.731,-9.91648 282.751,-10.5619 284.761,-11.237 286.772,-11.9121 288.772,-12.6167 290.761,-13.3507 292.751,-14.0847 294.729,-14.8479 296.697,-15.6402 298.664,-16.4324 300.619,-17.2536 302.562,-18.1034 304.505,-18.9533 306.435,-19.8317 308.352,-20.7383 310.269,-21.645 312.173,-22.5799 314.062,-23.5426 315.951,-24.5053 317.827,-25.4959 319.687,-26.5138 321.547,-27.5318 323.393,-28.5771 325.222,-29.6494 327.052,-30.7217 328.865,-31.8209 330.662,-32.9466 332.46,-34.0723 334.24,-35.2244 336.003,-36.4026 337.766,-37.5807 339.512,-38.7848 341.24,-40.0144 342.968,-41.2439 344.677,-42.4989 346.368,-43.7788 348.059,-45.0587 349.731,-46.3634 351.383,-47.6926 353.036,-49.0217 354.668,-50.3751 356.281,-51.7523 357.893,-53.1296 359.485,-54.5305 361.057,-55.9546 362.628,-57.3787 364.178,-58.8259 365.707,-60.2957 367.236,-61.7654 368.742,-63.2576 370.227,-64.7718 371.712,-66.2859 373.174,-67.8219 374.614,-69.3791 376.053,-70.9363 377.47,-72.5146 378.863,-74.1135 380.256,-75.7125 381.625,-77.3318 382.97,-78.9711 384.316,-80.6103 385.637,-82.2693 386.933,-83.9475 388.23,-85.6256 389.501,-87.3228 390.748,-89.0384 390.748,-89.0384 216,-216 216,-216\"/>\r\n",
       "<path fill=\"orange\" stroke=\"black\" stroke-width=\"0.5\" d=\"M216,-216C216,-216 390.748,-89.0384 390.748,-89.0384 392.41,-91.3259 394.027,-93.6459 395.597,-95.9969 397.168,-98.3479 398.693,-100.729 400.17,-103.14 401.648,-105.551 403.078,-107.991 404.459,-110.458 405.841,-112.925 407.174,-115.419 408.457,-117.938 409.741,-120.457 410.975,-123.002 412.159,-125.57 413.343,-128.137 414.476,-130.728 415.558,-133.34 416.64,-135.953 417.671,-138.586 418.649,-141.239 419.628,-143.891 420.554,-146.563 421.428,-149.252 422.302,-151.941 423.123,-154.648 423.89,-157.369 424.658,-160.09 425.372,-162.826 426.032,-165.576 426.692,-168.325 427.298,-171.087 427.85,-173.861 428.401,-176.634 428.898,-179.417 429.341,-182.21 429.783,-185.003 430.17,-187.804 430.503,-190.612 430.835,-193.42 431.112,-196.234 431.334,-199.053 431.556,-201.872 431.722,-204.695 431.833,-207.52 431.944,-210.345 432,-213.172 432,-216 432,-216 216,-216 216,-216\"/>\r\n",
       "<ellipse fill=\"none\" stroke=\"black\" cx=\"216\" cy=\"-216\" rx=\"216\" ry=\"216\"/>\r\n",
       "</g>\r\n",
       "<!-- key1 -->\r\n",
       "<g id=\"node2\" class=\"node\"><title>key1</title>\r\n",
       "<polygon fill=\"red\" stroke=\"none\" points=\"702,-234 630,-234 630,-198 702,-198 702,-234\"/>\r\n",
       "<text text-anchor=\"middle\" x=\"666\" y=\"-212.3\" font-family=\"Times New Roman,serif\" font-size=\"14.00\">dir1/</text>\r\n",
       "</g>\r\n",
       "<!-- key2 -->\r\n",
       "<g id=\"node3\" class=\"node\"><title>key2</title>\r\n",
       "<polygon fill=\"green\" stroke=\"none\" points=\"612,-234 540,-234 540,-198 612,-198 612,-234\"/>\r\n",
       "<text text-anchor=\"middle\" x=\"576\" y=\"-212.3\" font-family=\"Times New Roman,serif\" font-size=\"14.00\">dir2/</text>\r\n",
       "</g>\r\n",
       "<!-- key3 -->\r\n",
       "<g id=\"node4\" class=\"node\"><title>key3</title>\r\n",
       "<polygon fill=\"orange\" stroke=\"none\" points=\"522,-234 450,-234 450,-198 522,-198 522,-234\"/>\r\n",
       "<text text-anchor=\"middle\" x=\"486\" y=\"-212.3\" font-family=\"Times New Roman,serif\" font-size=\"14.00\">file1</text>\r\n",
       "</g>\r\n",
       "</g>\r\n",
       "</svg>\r\n"
      ],
      "text/plain": [
       "<IPython.core.display.HTML object>"
      ]
     },
     "metadata": {},
     "output_type": "display_data"
    }
   ],
   "source": [
    "%%dot\n",
    "\n",
    "digraph G {\n",
    "    rankdir=TB;\n",
    "    node [shape=circle fizedsize=true width=6 style=wedged fillcolor=\"red;0.3:green;0.6:orange\"];\n",
    "    \n",
    "    A [label=\"\"]\n",
    "    \n",
    "    rankdir=TB;\n",
    "    node [shape=plaintext fixedsize=true width=1 style=\"filled\" fillcolor=\"lightyellow2\"];\n",
    "    subgraph cluster_01 {\n",
    "        rankdir=LR;\n",
    "\n",
    "        label = \"Disk Usage under /tmp\";\n",
    "        width=1\n",
    "        key1 [label=\"dir1/\" fillcolor=\"red\"]\n",
    "        key2 [label=\"dir2/\" fillcolor=\"green\"]\n",
    "        key3 [label=\"file1\" fillcolor=\"orange\"]\n",
    "    };\n",
    "    \n",
    "}"
   ]
  },
  {
   "cell_type": "code",
   "execution_count": 41,
   "metadata": {
    "collapsed": false
   },
   "outputs": [
    {
     "data": {
      "text/html": [
       "<?xml version=\"1.0\" encoding=\"UTF-8\" standalone=\"no\"?>\r\n",
       "<!DOCTYPE svg PUBLIC \"-//W3C//DTD SVG 1.1//EN\"\r\n",
       " \"http://www.w3.org/Graphics/SVG/1.1/DTD/svg11.dtd\">\r\n",
       "<!-- Generated by graphviz version 2.38.0 (20140413.2041)\r\n",
       " -->\r\n",
       "<!-- Title: G Pages: 1 -->\r\n",
       "<svg width=\"728pt\" height=\"927pt\"\r\n",
       " viewBox=\"0.00 0.00 728.00 927.00\" xmlns=\"http://www.w3.org/2000/svg\" xmlns:xlink=\"http://www.w3.org/1999/xlink\">\r\n",
       "<g id=\"graph0\" class=\"graph\" transform=\"scale(1 1) rotate(0) translate(4 923)\">\r\n",
       "<title>G</title>\r\n",
       "<polygon fill=\"white\" stroke=\"none\" points=\"-4,4 -4,-923 724,-923 724,4 -4,4\"/>\r\n",
       "<g id=\"clust1\" class=\"cluster\"><title>cluster_01</title>\r\n",
       "<polygon fill=\"none\" stroke=\"black\" points=\"325,-8 325,-191 395,-191 395,-8 325,-8\"/>\r\n",
       "<text text-anchor=\"middle\" x=\"360\" y=\"-175.8\" font-family=\"Times New Roman,serif\" font-size=\"14.00\">du</text>\r\n",
       "</g>\r\n",
       "<!-- key3 -->\r\n",
       "<g id=\"node1\" class=\"node\"><title>key3</title>\r\n",
       "<polygon fill=\"lightgrey\" stroke=\"none\" points=\"387,-160 333,-160 333,-124 387,-124 387,-160\"/>\r\n",
       "<text text-anchor=\"middle\" x=\"360\" y=\"-138.3\" font-family=\"Times New Roman,serif\" font-size=\"14.00\">key3</text>\r\n",
       "</g>\r\n",
       "<!-- key2 -->\r\n",
       "<g id=\"node2\" class=\"node\"><title>key2</title>\r\n",
       "<polygon fill=\"lightgrey\" stroke=\"none\" points=\"387,-106 333,-106 333,-70 387,-70 387,-106\"/>\r\n",
       "<text text-anchor=\"middle\" x=\"360\" y=\"-84.3\" font-family=\"Times New Roman,serif\" font-size=\"14.00\">key2</text>\r\n",
       "</g>\r\n",
       "<!-- key1 -->\r\n",
       "<g id=\"node3\" class=\"node\"><title>key1</title>\r\n",
       "<polygon fill=\"lightgrey\" stroke=\"none\" points=\"387,-52 333,-52 333,-16 387,-16 387,-52\"/>\r\n",
       "<text text-anchor=\"middle\" x=\"360\" y=\"-30.3\" font-family=\"Times New Roman,serif\" font-size=\"14.00\">key1</text>\r\n",
       "</g>\r\n",
       "<!-- A -->\r\n",
       "<g id=\"node4\" class=\"node\"><title>A</title>\r\n",
       "<path fill=\"red\" stroke=\"black\" stroke-width=\"0.5\" d=\"M360,-559C360,-559 720,-559 720,-559 720,-562.534 719.948,-566.069 719.844,-569.601 719.74,-573.134 719.584,-576.665 719.376,-580.193 719.168,-583.722 718.908,-587.247 718.596,-590.767 718.284,-594.288 717.92,-597.804 717.505,-601.313 717.089,-604.823 716.622,-608.327 716.104,-611.823 715.585,-615.319 715.015,-618.807 714.394,-622.287 713.772,-625.766 713.1,-629.236 712.376,-632.695 711.653,-636.155 710.878,-639.604 710.053,-643.04 709.228,-646.477 708.352,-649.901 707.427,-653.312 706.501,-656.723 705.524,-660.12 704.499,-663.502 703.473,-666.885 702.397,-670.252 701.272,-673.602 700.147,-676.953 698.972,-680.286 697.749,-683.602 696.526,-686.918 695.254,-690.216 693.933,-693.494 692.613,-696.773 691.244,-700.031 689.828,-703.27 688.411,-706.508 686.947,-709.725 685.436,-712.92 683.925,-716.115 682.367,-719.287 680.762,-722.437 679.158,-725.586 677.507,-728.711 675.81,-731.812 674.114,-734.912 672.372,-737.987 670.584,-741.037 668.797,-744.086 666.965,-747.109 665.089,-750.104 663.213,-753.099 661.293,-756.067 659.329,-759.005 657.365,-761.944 655.359,-764.854 653.309,-767.733 651.26,-770.613 649.169,-773.462 647.035,-776.28 644.902,-779.098 642.728,-781.885 640.512,-784.639 638.297,-787.393 636.042,-790.114 633.746,-792.801 631.451,-795.489 629.116,-798.142 626.742,-800.761 624.369,-803.38 621.957,-805.964 619.507,-808.511 617.058,-811.059 614.571,-813.571 612.047,-816.045 609.524,-818.52 606.964,-820.957 604.368,-823.356 601.773,-825.755 599.142,-828.116 596.477,-830.438 593.813,-832.759 591.114,-835.042 588.382,-837.284 585.649,-839.526 582.885,-841.728 580.088,-843.889 577.291,-846.049 574.462,-848.169 571.603,-850.246 568.743,-852.324 565.854,-854.359 562.934,-856.351 560.015,-858.343 557.066,-860.293 554.09,-862.198 551.113,-864.104 548.108,-865.965 545.077,-867.782 542.045,-869.599 538.987,-871.372 535.904,-873.099 532.82,-874.826 529.711,-876.507 526.578,-878.142 523.444,-879.778 520.287,-881.367 517.107,-882.909 513.927,-884.452 510.725,-885.947 507.501,-887.395 504.277,-888.844 501.031,-890.244 497.766,-891.597 494.501,-892.949 491.216,-894.254 487.912,-895.509 484.608,-896.765 481.286,-897.972 477.947,-899.13 474.608,-900.288 471.251,-901.397 467.879,-902.456 464.508,-903.515 461.12,-904.525 457.719,-905.484 454.317,-906.443 450.901,-907.352 447.473,-908.211 444.044,-909.07 440.604,-909.878 437.151,-910.636 433.699,-911.393 430.236,-912.1 426.763,-912.755 423.29,-913.411 419.807,-914.015 416.316,-914.568 412.826,-915.121 409.327,-915.622 405.821,-916.072 402.316,-916.522 398.803,-916.92 395.286,-917.267 391.769,-917.613 388.247,-917.908 384.721,-918.15 381.195,-918.393 377.665,-918.584 374.134,-918.722 370.602,-918.861 367.068,-918.948 363.534,-918.983 360,-919.017 356.466,-919 352.932,-918.931 349.398,-918.861 345.866,-918.74 342.336,-918.566 338.806,-918.393 335.278,-918.168 331.755,-917.89 328.231,-917.613 324.712,-917.284 321.198,-916.903 317.685,-916.522 314.177,-916.089 310.676,-915.605 307.175,-915.121 303.681,-914.585 300.196,-913.998 296.71,-913.411 293.234,-912.772 289.767,-912.083 286.301,-911.393 282.845,-910.653 279.4,-909.861 275.956,-909.07 272.523,-908.228 269.103,-907.336 265.683,-906.443 262.277,-905.501 258.885,-904.508 255.493,-903.515 252.115,-902.473 248.754,-901.38 248.754,-901.38 360,-559 360,-559\"/>\r\n",
       "<path fill=\"green\" stroke=\"black\" stroke-width=\"0.5\" d=\"M360,-559C360,-559 248.754,-901.38 248.754,-901.38 245.392,-900.288 242.047,-899.147 238.72,-897.956 235.392,-896.765 232.082,-895.526 228.791,-894.237 225.499,-892.949 222.227,-891.613 218.975,-890.228 215.723,-888.844 212.492,-887.411 209.282,-885.932 206.073,-884.452 202.885,-882.925 199.72,-881.351 196.556,-879.778 193.414,-878.158 190.297,-876.492 187.18,-874.826 184.088,-873.114 181.021,-871.357 177.955,-869.599 174.914,-867.797 171.9,-865.95 168.887,-864.104 165.901,-862.213 162.943,-860.278 159.985,-858.343 157.056,-856.365 154.156,-854.345 151.257,-852.324 148.387,-850.26 145.548,-848.155 142.709,-846.049 139.902,-843.902 137.126,-841.714 134.351,-839.526 131.607,-837.297 128.897,-835.028 126.187,-832.759 123.511,-830.451 120.869,-828.103 118.227,-825.755 115.62,-823.369 113.048,-820.944 110.477,-818.52 107.941,-816.058 105.442,-813.558 102.942,-811.059 100.48,-808.523 98.0557,-805.952 95.6312,-803.38 93.2447,-800.773 90.897,-798.131 88.5493,-795.489 86.2406,-792.813 83.9717,-790.103 81.7028,-787.393 79.474,-784.649 77.2859,-781.874 75.0978,-779.098 72.9507,-776.291 70.8453,-773.452 68.7399,-770.613 66.6764,-767.743 64.6555,-764.844 62.6346,-761.944 60.6565,-759.015 58.7218,-756.057 56.7872,-753.099 54.8962,-750.113 53.0495,-747.099 51.2028,-744.086 49.4006,-741.045 47.6435,-737.979 45.8863,-734.912 44.1744,-731.82 42.5083,-728.703 40.8422,-725.586 39.2222,-722.444 37.6486,-719.28 36.075,-716.115 34.5481,-712.927 33.0684,-709.717 31.5887,-706.508 30.1564,-703.276 28.7719,-700.025 27.3873,-696.773 26.0508,-693.501 24.7626,-690.209 23.4744,-686.918 22.2348,-683.608 21.0441,-680.28 19.8534,-676.953 18.7118,-673.607 17.6196,-670.246 16.5275,-666.885 15.4849,-663.507 14.4921,-660.115 13.4994,-656.723 12.5567,-653.317 11.6643,-649.897 10.7719,-646.477 9.92994,-643.044 9.13864,-639.6 8.34734,-636.155 7.60681,-632.699 6.91729,-629.232 6.22777,-625.766 5.58934,-622.29 5.0022,-618.804 4.41506,-615.319 3.87928,-611.825 3.39503,-608.324 2.91078,-604.823 2.47812,-601.315 2.09717,-597.802 1.71623,-594.288 1.38706,-590.769 1.10976,-587.245 0.832454,-583.722 0.607056,-580.194 0.433634,-576.664 0.260211,-573.134 0.138785,-569.602 0.0693925,-566.068 5.34238e-007,-562.534 -0.0173491,-559 0.0173492,-555.466 0.0520476,-551.932 0.13879,-548.398 0.277549,-544.866 0.416307,-541.335 0.607067,-537.805 0.849765,-534.279 1.09246,-530.753 1.38708,-527.231 1.7335,-523.714 2.07993,-520.196 2.47814,-516.684 2.92799,-513.179 3.37785,-509.673 3.87931,-506.174 4.4322,-502.684 4.9851,-499.193 5.58937,-495.71 6.24483,-492.237 6.90028,-488.764 7.60685,-485.301 8.36429,-481.849 9.12174,-478.396 9.92998,-474.956 10.7888,-471.527 11.6475,-468.099 12.5568,-464.683 13.5161,-461.281 14.4755,-457.88 15.4849,-454.492 16.544,-451.12 17.6032,-447.749 18.7119,-444.392 19.8698,-441.053 21.0278,-437.714 22.2349,-434.392 23.4907,-431.088 24.7465,-427.784 26.0508,-424.499 27.4034,-421.234 28.7559,-417.969 30.1565,-414.723 31.6046,-411.499 33.0527,-408.275 34.5482,-405.073 36.0906,-401.893 37.6331,-398.713 39.2222,-395.555 40.8576,-392.422 42.493,-389.289 44.1745,-386.18 45.9015,-383.096 47.6284,-380.013 49.4007,-376.954 51.2177,-373.923 53.0347,-370.891 54.8963,-367.887 56.8018,-364.91 58.7073,-361.933 60.6566,-358.985 62.6489,-356.066 64.6412,-353.146 66.6765,-350.257 68.7539,-347.397 70.8314,-344.538 72.9508,-341.709 75.1115,-338.912 77.2723,-336.115 79.4741,-333.35 81.7163,-330.618 83.9584,-327.886 86.2407,-325.187 88.5624,-322.522 90.884,-319.858 93.2448,-317.227 95.6439,-314.632 98.0431,-312.036 100.48,-309.476 102.955,-306.953 105.429,-304.429 107.941,-301.942 110.489,-299.493 113.036,-297.043 115.62,-294.631 118.239,-292.258 120.858,-289.884 123.511,-287.549 126.199,-285.254 128.886,-282.958 131.607,-280.703 134.361,-278.488 137.115,-276.272 139.902,-274.098 142.72,-271.965 145.538,-269.831 148.387,-267.74 151.267,-265.691 154.146,-263.641 157.056,-261.634 159.995,-259.671 162.933,-257.707 165.901,-255.787 168.896,-253.911 171.891,-252.035 174.914,-250.203 177.963,-248.416 181.013,-246.628 184.088,-244.886 187.188,-243.19 190.289,-241.493 193.414,-239.842 196.563,-238.238 199.713,-236.633 202.885,-235.075 206.08,-233.564 209.275,-232.053 212.492,-230.589 215.73,-229.172 218.969,-227.756 222.227,-226.387 225.506,-225.067 228.784,-223.746 232.082,-222.474 235.398,-221.251 238.714,-220.028 242.048,-218.853 245.398,-217.728 248.749,-216.603 252.115,-215.527 255.498,-214.501 258.88,-213.475 262.277,-212.499 265.688,-211.573 269.099,-210.648 272.523,-209.772 275.96,-208.947 279.396,-208.122 282.845,-207.347 286.305,-206.624 289.764,-205.9 293.234,-205.228 296.713,-204.606 300.193,-203.985 303.681,-203.415 307.177,-202.896 310.673,-202.378 314.177,-201.911 317.687,-201.495 321.196,-201.08 324.712,-200.716 328.233,-200.404 331.753,-200.092 335.278,-199.832 338.807,-199.624 342.335,-199.416 345.866,-199.26 349.399,-199.156 352.932,-199.052 356.466,-199 360,-199 363.534,-199 367.069,-199.052 370.601,-199.156 374.134,-199.26 377.665,-199.416 381.194,-199.624 384.722,-199.832 388.247,-200.092 391.767,-200.404 395.288,-200.716 398.804,-201.08 402.314,-201.495 405.823,-201.911 409.327,-202.378 412.823,-202.896 416.319,-203.415 419.807,-203.985 423.287,-204.606 426.766,-205.228 430.236,-205.9 433.696,-206.624 437.155,-207.347 440.604,-208.122 444.04,-208.947 447.477,-209.772 450.901,-210.648 454.312,-211.573 457.723,-212.499 461.12,-213.476 464.503,-214.501 467.885,-215.527 471.252,-216.603 474.602,-217.728 477.953,-218.853 481.286,-220.028 484.602,-221.251 487.918,-222.474 491.216,-223.747 494.494,-225.067 497.773,-226.387 501.032,-227.756 504.27,-229.172 507.508,-230.589 510.725,-232.053 513.92,-233.564 517.115,-235.075 520.288,-236.633 523.437,-238.238 526.586,-239.842 529.711,-241.493 532.812,-243.19 535.912,-244.886 538.988,-246.628 542.037,-248.416 545.086,-250.203 548.109,-252.035 551.104,-253.911 554.099,-255.787 557.067,-257.707 560.005,-259.671 562.944,-261.635 565.854,-263.641 568.733,-265.691 571.613,-267.74 574.462,-269.831 577.28,-271.965 580.098,-274.098 582.885,-276.272 585.639,-278.488 588.393,-280.703 591.114,-282.959 593.801,-285.254 596.489,-287.549 599.142,-289.884 601.761,-292.258 604.38,-294.631 606.964,-297.043 609.512,-299.493 612.059,-301.942 614.571,-304.429 617.045,-306.953 619.52,-309.477 621.957,-312.036 624.356,-314.632 626.755,-317.227 629.116,-319.858 631.438,-322.523 633.759,-325.187 636.042,-327.886 638.284,-330.618 640.526,-333.351 642.728,-336.116 644.889,-338.912 647.049,-341.709 649.169,-344.538 651.246,-347.397 651.246,-347.397 360,-559 360,-559\"/>\r\n",
       "<path fill=\"orange\" stroke=\"black\" stroke-width=\"0.5\" d=\"M360,-559C360,-559 651.246,-347.397 651.246,-347.397 652.631,-349.304 653.997,-351.223 655.345,-353.156 656.692,-355.089 658.02,-357.036 659.329,-358.995 660.638,-360.954 661.928,-362.926 663.198,-364.91 664.469,-366.895 665.719,-368.892 666.95,-370.901 668.182,-372.91 669.393,-374.931 670.584,-376.963 671.776,-378.996 672.947,-381.041 674.099,-383.096 675.25,-385.152 676.381,-387.219 677.492,-389.297 678.602,-391.375 679.693,-393.464 680.762,-395.563 681.832,-397.663 682.881,-399.773 683.909,-401.893 684.938,-404.013 685.945,-406.143 686.932,-408.283 687.918,-410.422 688.883,-412.572 689.828,-414.73 690.772,-416.889 691.695,-419.057 692.597,-421.234 693.498,-423.411 694.379,-425.597 695.237,-427.791 696.096,-429.985 696.933,-432.187 697.749,-434.398 698.564,-436.608 699.358,-438.827 700.13,-441.053 700.902,-443.279 701.652,-445.513 702.38,-447.754 703.108,-449.995 703.815,-452.243 704.499,-454.498 705.183,-456.752 705.844,-459.014 706.484,-461.281 707.123,-463.549 707.741,-465.823 708.336,-468.103 708.931,-470.383 709.503,-472.669 710.053,-474.96 710.603,-477.251 711.131,-479.547 711.636,-481.849 712.141,-484.15 712.623,-486.457 713.083,-488.768 713.542,-491.078 713.979,-493.394 714.394,-495.713 714.808,-498.033 715.199,-500.356 715.568,-502.684 715.936,-505.011 716.282,-507.342 716.605,-509.676 716.928,-512.01 717.228,-514.347 717.505,-516.687 717.782,-519.026 718.036,-521.369 718.267,-523.714 718.497,-526.059 718.705,-528.406 718.89,-530.755 719.075,-533.104 719.237,-535.454 719.376,-537.807 719.514,-540.159 719.63,-542.512 719.722,-544.866 719.815,-547.221 719.884,-549.576 719.931,-551.932 719.977,-554.288 720,-556.644 720,-559 720,-559 360,-559 360,-559\"/>\r\n",
       "<ellipse fill=\"none\" stroke=\"black\" cx=\"360\" cy=\"-559\" rx=\"360\" ry=\"360\"/>\r\n",
       "<text text-anchor=\"middle\" x=\"360\" y=\"-555.3\" font-family=\"Times New Roman,serif\" font-size=\"14.00\">A</text>\r\n",
       "</g>\r\n",
       "</g>\r\n",
       "</svg>\r\n"
      ],
      "text/plain": [
       "<IPython.core.display.HTML object>"
      ]
     },
     "metadata": {},
     "output_type": "display_data"
    }
   ],
   "source": [
    "source /home/mjbright/src/git/GIT_mjbright/metakernel/metakernel_bash/metakernelrc\n",
    "du -s /tmp/* | pydot_show_du"
   ]
  },
  {
   "cell_type": "raw",
   "metadata": {},
   "source": [
    "%%dot\n",
    "\n",
    "# Not working\n",
    "digraph hierarchy {\n",
    "\n",
    "                nodesep=1.0 // increases the separation between nodes\n",
    "                \n",
    "                node [color=Red,fontname=Courier,shape=box] //All nodes will this shape and colour\n",
    "                edge [color=Blue, style=dashed] //All the lines look like this\n",
    "\n",
    "                Headteacher->{Deputy1 Deputy2 BusinessManager}\n",
    "                Deputy1->{Teacher1 Teacher2}\n",
    "                BusinessManager->ITManager\n",
    "                {rank=same;ITManager Teacher1 Teacher2}  // Put them on the same level\n",
    "}"
   ]
  },
  {
   "cell_type": "raw",
   "metadata": {
    "collapsed": false
   },
   "source": [
    "# Same as above ... so ... not working either ...\n",
    "echo \"digraph hierarchy {\n",
    "\n",
    "                nodesep=1.0 // increases the separation between nodes\n",
    "                \n",
    "                node [color=Red,fontname=Courier,shape=box] //All nodes will this shape and colour\n",
    "                edge [color=Blue, style=dashed] //All the lines look like this\n",
    "\n",
    "                Headteacher->{Deputy1 Deputy2 BusinessManager}\n",
    "                Deputy1->{Teacher1 Teacher2}\n",
    "                BusinessManager->ITManager\n",
    "                {rank=same;ITManager Teacher1 Teacher2}  // Put them on the same level\n",
    "}\" | pydot"
   ]
  },
  {
   "cell_type": "code",
   "execution_count": 43,
   "metadata": {
    "collapsed": false
   },
   "outputs": [
    {
     "data": {
      "text/html": [
       "<?xml version=\"1.0\" encoding=\"UTF-8\" standalone=\"no\"?>\r\n",
       "<!DOCTYPE svg PUBLIC \"-//W3C//DTD SVG 1.1//EN\"\r\n",
       " \"http://www.w3.org/Graphics/SVG/1.1/DTD/svg11.dtd\">\r\n",
       "<!-- Generated by graphviz version 2.38.0 (20140413.2041)\r\n",
       " -->\r\n",
       "<!-- Title: hierarchy Pages: 1 -->\r\n",
       "<svg width=\"936pt\" height=\"116pt\"\r\n",
       " viewBox=\"0.00 0.00 936.00 116.00\" xmlns=\"http://www.w3.org/2000/svg\" xmlns:xlink=\"http://www.w3.org/1999/xlink\">\r\n",
       "<g id=\"graph0\" class=\"graph\" transform=\"scale(1 1) rotate(0) translate(4 112)\">\r\n",
       "<title>hierarchy</title>\r\n",
       "<polygon fill=\"white\" stroke=\"none\" points=\"-4,4 -4,-112 932,-112 932,4 -4,4\"/>\r\n",
       "<!-- CEO -->\r\n",
       "<g id=\"node1\" class=\"node\"><title>CEO</title>\r\n",
       "<ellipse fill=\"none\" stroke=\"Blue\" cx=\"593\" cy=\"-90\" rx=\"27\" ry=\"18\"/>\r\n",
       "<text text-anchor=\"middle\" x=\"593\" y=\"-86.3\" font-family=\"Courier,monospace\" font-size=\"14.00\">CEO</text>\r\n",
       "</g>\r\n",
       "<!-- CTO -->\r\n",
       "<g id=\"node2\" class=\"node\"><title>CTO</title>\r\n",
       "<ellipse fill=\"none\" stroke=\"Blue\" cx=\"27\" cy=\"-18\" rx=\"27\" ry=\"18\"/>\r\n",
       "<text text-anchor=\"middle\" x=\"27\" y=\"-14.3\" font-family=\"Courier,monospace\" font-size=\"14.00\">CTO</text>\r\n",
       "</g>\r\n",
       "<!-- CEO&#45;&gt;CTO -->\r\n",
       "<g id=\"edge1\" class=\"edge\"><title>CEO&#45;&gt;CTO</title>\r\n",
       "<path fill=\"none\" stroke=\"Blue\" d=\"M566.064,-87.6679C490.448,-83.6056 269.984,-69.5466 90,-36 80.431,-34.2165 70.1884,-31.7151 60.8023,-29.1787\"/>\r\n",
       "<polygon fill=\"Blue\" stroke=\"Blue\" points=\"61.5992,-25.7673 51.0261,-26.445 59.7141,-32.5087 61.5992,-25.7673\"/>\r\n",
       "</g>\r\n",
       "<!-- CFO -->\r\n",
       "<g id=\"node3\" class=\"node\"><title>CFO</title>\r\n",
       "<ellipse fill=\"none\" stroke=\"Blue\" cx=\"901\" cy=\"-18\" rx=\"27\" ry=\"18\"/>\r\n",
       "<text text-anchor=\"middle\" x=\"901\" y=\"-14.3\" font-family=\"Courier,monospace\" font-size=\"14.00\">CFO</text>\r\n",
       "</g>\r\n",
       "<!-- CEO&#45;&gt;CFO -->\r\n",
       "<g id=\"edge2\" class=\"edge\"><title>CEO&#45;&gt;CFO</title>\r\n",
       "<path fill=\"none\" stroke=\"Blue\" d=\"M619.094,-85.1829C666.729,-77.8978 770.726,-60.5238 856,-36 860.153,-34.8055 864.467,-33.3993 868.705,-31.9157\"/>\r\n",
       "<polygon fill=\"Blue\" stroke=\"Blue\" points=\"870.167,-35.1075 878.349,-28.3769 867.756,-28.5359 870.167,-35.1075\"/>\r\n",
       "</g>\r\n",
       "<!-- BusinessManager -->\r\n",
       "<g id=\"node4\" class=\"node\"><title>BusinessManager</title>\r\n",
       "<ellipse fill=\"none\" stroke=\"Blue\" cx=\"593\" cy=\"-18\" rx=\"90.9839\" ry=\"18\"/>\r\n",
       "<text text-anchor=\"middle\" x=\"593\" y=\"-14.3\" font-family=\"Courier,monospace\" font-size=\"14.00\">BusinessManager</text>\r\n",
       "</g>\r\n",
       "<!-- CEO&#45;&gt;BusinessManager -->\r\n",
       "<g id=\"edge3\" class=\"edge\"><title>CEO&#45;&gt;BusinessManager</title>\r\n",
       "<path fill=\"none\" stroke=\"Blue\" d=\"M593,-71.6966C593,-63.9827 593,-54.7125 593,-46.1124\"/>\r\n",
       "<polygon fill=\"Blue\" stroke=\"Blue\" points=\"596.5,-46.1043 593,-36.1043 589.5,-46.1044 596.5,-46.1043\"/>\r\n",
       "</g>\r\n",
       "<!-- CTO&#45;&gt;CTO -->\r\n",
       "<g id=\"edge4\" class=\"edge\"><title>CTO&#45;&gt;CTO</title>\r\n",
       "<path fill=\"none\" stroke=\"Blue\" d=\"M48.6268,-29.0075C68.5379,-34.5363 90,-30.8672 90,-18 90,-7.24384 75.0025,-2.91518 58.4504,-5.01402\"/>\r\n",
       "<polygon fill=\"Blue\" stroke=\"Blue\" points=\"57.7389,-1.58695 48.6268,-6.99252 59.1211,-8.44916 57.7389,-1.58695\"/>\r\n",
       "</g>\r\n",
       "<!-- CTO&#45;&gt;CFO -->\r\n",
       "<g id=\"edge5\" class=\"edge\"><title>CTO&#45;&gt;CFO</title>\r\n",
       "<path fill=\"none\" stroke=\"Blue\" d=\"M47.4984,-30.001C63.4036,-38.5842 86.3228,-49.3998 108,-54 187.344,-70.838 759.606,-74.8186 838,-54 850.841,-50.5899 863.795,-43.8792 874.588,-37.1663\"/>\r\n",
       "<polygon fill=\"Blue\" stroke=\"Blue\" points=\"876.645,-40.0032 883.097,-31.5994 872.813,-34.1454 876.645,-40.0032\"/>\r\n",
       "</g>\r\n",
       "<!-- CTO&#45;&gt;BusinessManager -->\r\n",
       "<g id=\"edge6\" class=\"edge\"><title>CTO&#45;&gt;BusinessManager</title>\r\n",
       "<path fill=\"none\" stroke=\"Blue\" d=\"M47.4984,-30.001C63.4036,-38.5842 86.3228,-49.3998 108,-54 185.822,-70.5151 387.202,-64.9525 466,-54 490.42,-50.6058 516.743,-43.7068 539.058,-36.8481\"/>\r\n",
       "<polygon fill=\"Blue\" stroke=\"Blue\" points=\"540.195,-40.1596 548.682,-33.8174 538.093,-33.4828 540.195,-40.1596\"/>\r\n",
       "</g>\r\n",
       "<!-- LabManager -->\r\n",
       "<g id=\"node5\" class=\"node\"><title>LabManager</title>\r\n",
       "<ellipse fill=\"none\" stroke=\"Blue\" cx=\"402\" cy=\"-18\" rx=\"64.189\" ry=\"18\"/>\r\n",
       "<text text-anchor=\"middle\" x=\"402\" y=\"-14.3\" font-family=\"Courier,monospace\" font-size=\"14.00\">LabManager</text>\r\n",
       "</g>\r\n",
       "<!-- CTO&#45;&gt;LabManager -->\r\n",
       "<g id=\"edge7\" class=\"edge\"><title>CTO&#45;&gt;LabManager</title>\r\n",
       "<path fill=\"none\" stroke=\"Blue\" d=\"M47.4984,-30.001C63.4036,-38.5842 86.3228,-49.3998 108,-54 192.344,-71.899 217.062,-68.8233 302,-54 320.994,-50.6853 341.142,-44.0787 358.339,-37.4199\"/>\r\n",
       "<polygon fill=\"Blue\" stroke=\"Blue\" points=\"360.107,-40.4821 368.092,-33.5177 357.507,-33.983 360.107,-40.4821\"/>\r\n",
       "</g>\r\n",
       "<!-- MarketingManager -->\r\n",
       "<g id=\"node6\" class=\"node\"><title>MarketingManager</title>\r\n",
       "<ellipse fill=\"none\" stroke=\"Blue\" cx=\"205\" cy=\"-18\" rx=\"96.6831\" ry=\"18\"/>\r\n",
       "<text text-anchor=\"middle\" x=\"205\" y=\"-14.3\" font-family=\"Courier,monospace\" font-size=\"14.00\">MarketingManager</text>\r\n",
       "</g>\r\n",
       "<!-- CTO&#45;&gt;MarketingManager -->\r\n",
       "<g id=\"edge8\" class=\"edge\"><title>CTO&#45;&gt;MarketingManager</title>\r\n",
       "<path fill=\"none\" stroke=\"Blue\" d=\"M54.1172,-18C68.7229,-18 83.3286,-18 97.9344,-18\"/>\r\n",
       "<polygon fill=\"Blue\" stroke=\"Blue\" points=\"98.046,-21.5001 108.046,-18 98.046,-14.5001 98.046,-21.5001\"/>\r\n",
       "</g>\r\n",
       "<!-- ITManager -->\r\n",
       "<g id=\"node7\" class=\"node\"><title>ITManager</title>\r\n",
       "<ellipse fill=\"none\" stroke=\"Blue\" cx=\"779\" cy=\"-18\" rx=\"59.2899\" ry=\"18\"/>\r\n",
       "<text text-anchor=\"middle\" x=\"779\" y=\"-14.3\" font-family=\"Courier,monospace\" font-size=\"14.00\">ITManager</text>\r\n",
       "</g>\r\n",
       "<!-- BusinessManager&#45;&gt;ITManager -->\r\n",
       "<g id=\"edge9\" class=\"edge\"><title>BusinessManager&#45;&gt;ITManager</title>\r\n",
       "<path fill=\"none\" stroke=\"Blue\" d=\"M684.184,-18C692.702,-18 701.221,-18 709.74,-18\"/>\r\n",
       "<polygon fill=\"Blue\" stroke=\"Blue\" points=\"709.74,-21.5001 719.74,-18 709.74,-14.5001 709.74,-21.5001\"/>\r\n",
       "</g>\r\n",
       "</g>\r\n",
       "</svg>\r\n"
      ],
      "text/plain": [
       "<IPython.core.display.HTML object>"
      ]
     },
     "metadata": {},
     "output_type": "display_data"
    }
   ],
   "source": [
    "echo \"digraph hierarchy {\n",
    "                nodesep=0.5 // increases the separation between nodes\n",
    "                \n",
    "                node [color=Blue, fontname=Courier,shape=oval] //All nodes will this shape and colour\n",
    "                edge [color=Blue, style=solid] //All the lines look like this\n",
    "\n",
    "                CEO->{CTO CFO BusinessManager}\n",
    "                CTO->{LabManager MarketingManager}\n",
    "                BusinessManager->ITManager\n",
    "                {rank=same;ITManager LabManager MarketingManager}  // Put them on the same level\n",
    "}\" | pydot"
   ]
  },
  {
   "cell_type": "code",
   "execution_count": 44,
   "metadata": {
    "collapsed": false
   },
   "outputs": [
    {
     "data": {
      "text/html": [
       "<?xml version=\"1.0\" encoding=\"UTF-8\" standalone=\"no\"?>\r\n",
       "<!DOCTYPE svg PUBLIC \"-//W3C//DTD SVG 1.1//EN\"\r\n",
       " \"http://www.w3.org/Graphics/SVG/1.1/DTD/svg11.dtd\">\r\n",
       "<!-- Generated by graphviz version 2.38.0 (20140413.2041)\r\n",
       " -->\r\n",
       "<!-- Title: hierarchy Pages: 1 -->\r\n",
       "<svg width=\"289pt\" height=\"305pt\"\r\n",
       " viewBox=\"0.00 0.00 288.64 305.00\" xmlns=\"http://www.w3.org/2000/svg\" xmlns:xlink=\"http://www.w3.org/1999/xlink\">\r\n",
       "<g id=\"graph0\" class=\"graph\" transform=\"scale(1 1) rotate(0) translate(4 301)\">\r\n",
       "<title>hierarchy</title>\r\n",
       "<polygon fill=\"white\" stroke=\"none\" points=\"-4,4 -4,-301 284.637,-301 284.637,4 -4,4\"/>\r\n",
       "<!-- S0 -->\r\n",
       "<g id=\"node1\" class=\"node\"><title>S0</title>\r\n",
       "<ellipse fill=\"none\" stroke=\"black\" cx=\"87.6369\" cy=\"-279\" rx=\"27\" ry=\"18\"/>\r\n",
       "<text text-anchor=\"middle\" x=\"87.6369\" y=\"-275.3\" font-family=\"Times New Roman,serif\" font-size=\"14.00\">S0</text>\r\n",
       "</g>\r\n",
       "<!-- S1 -->\r\n",
       "<g id=\"node2\" class=\"node\"><title>S1</title>\r\n",
       "<ellipse fill=\"none\" stroke=\"black\" cx=\"84.6369\" cy=\"-192\" rx=\"27\" ry=\"18\"/>\r\n",
       "<text text-anchor=\"middle\" x=\"84.6369\" y=\"-188.3\" font-family=\"Times New Roman,serif\" font-size=\"14.00\">S1</text>\r\n",
       "</g>\r\n",
       "<!-- S0&#45;&gt;S1 -->\r\n",
       "<g id=\"edge1\" class=\"edge\"><title>S0&#45;&gt;S1</title>\r\n",
       "<path fill=\"none\" stroke=\"black\" d=\"M61.1219,-274.716C41.6049,-270.758 16.344,-262.061 3.63695,-243 -10.4056,-221.936 21.3612,-208.178 49.142,-200.524\"/>\r\n",
       "<polygon fill=\"black\" stroke=\"black\" points=\"50.2824,-203.845 59.1045,-197.978 48.5492,-197.063 50.2824,-203.845\"/>\r\n",
       "<text text-anchor=\"middle\" x=\"34.6369\" y=\"-231.8\" font-family=\"Times New Roman,serif\" font-size=\"14.00\">Lift Nozzle</text>\r\n",
       "</g>\r\n",
       "<!-- S1&#45;&gt;S0 -->\r\n",
       "<g id=\"edge2\" class=\"edge\"><title>S1&#45;&gt;S0</title>\r\n",
       "<path fill=\"none\" stroke=\"black\" d=\"M85.2431,-210.175C85.6536,-221.806 86.2047,-237.419 86.6746,-250.734\"/>\r\n",
       "<polygon fill=\"black\" stroke=\"black\" points=\"83.1792,-250.929 87.0299,-260.799 90.1749,-250.682 83.1792,-250.929\"/>\r\n",
       "<text text-anchor=\"middle\" x=\"129.637\" y=\"-231.8\" font-family=\"Times New Roman,serif\" font-size=\"14.00\">Replace Nozzle</text>\r\n",
       "</g>\r\n",
       "<!-- S2 -->\r\n",
       "<g id=\"node3\" class=\"node\"><title>S2</title>\r\n",
       "<ellipse fill=\"none\" stroke=\"black\" cx=\"137.637\" cy=\"-105\" rx=\"27\" ry=\"18\"/>\r\n",
       "<text text-anchor=\"middle\" x=\"137.637\" y=\"-101.3\" font-family=\"Times New Roman,serif\" font-size=\"14.00\">S2</text>\r\n",
       "</g>\r\n",
       "<!-- S1&#45;&gt;S2 -->\r\n",
       "<g id=\"edge3\" class=\"edge\"><title>S1&#45;&gt;S2</title>\r\n",
       "<path fill=\"none\" stroke=\"black\" d=\"M81.1985,-173.788C80.0603,-163.649 80.2338,-150.91 85.6369,-141 90.3043,-132.44 98.0738,-125.585 106.202,-120.289\"/>\r\n",
       "<polygon fill=\"black\" stroke=\"black\" points=\"108.152,-123.204 115.034,-115.149 104.631,-117.154 108.152,-123.204\"/>\r\n",
       "<text text-anchor=\"middle\" x=\"131.137\" y=\"-144.8\" font-family=\"Times New Roman,serif\" font-size=\"14.00\">Authorize Pump</text>\r\n",
       "</g>\r\n",
       "<!-- S2&#45;&gt;S0 -->\r\n",
       "<g id=\"edge4\" class=\"edge\"><title>S2&#45;&gt;S0</title>\r\n",
       "<path fill=\"none\" stroke=\"black\" d=\"M156.833,-117.932C164.501,-123.833 172.485,-131.695 176.637,-141 195.11,-182.399 202.161,-205.535 176.637,-243 164.909,-260.214 143.303,-268.962 124.316,-273.407\"/>\r\n",
       "<polygon fill=\"black\" stroke=\"black\" points=\"123.513,-269.999 114.405,-275.411 124.9,-276.86 123.513,-269.999\"/>\r\n",
       "<text text-anchor=\"middle\" x=\"236.637\" y=\"-188.3\" font-family=\"Times New Roman,serif\" font-size=\"14.00\">Replace Nozzle</text>\r\n",
       "</g>\r\n",
       "<!-- S3 -->\r\n",
       "<g id=\"node4\" class=\"node\"><title>S3</title>\r\n",
       "<ellipse fill=\"none\" stroke=\"black\" cx=\"137.637\" cy=\"-18\" rx=\"27\" ry=\"18\"/>\r\n",
       "<text text-anchor=\"middle\" x=\"137.637\" y=\"-14.3\" font-family=\"Times New Roman,serif\" font-size=\"14.00\">S3</text>\r\n",
       "</g>\r\n",
       "<!-- S2&#45;&gt;S3 -->\r\n",
       "<g id=\"edge5\" class=\"edge\"><title>S2&#45;&gt;S3</title>\r\n",
       "<path fill=\"none\" stroke=\"black\" d=\"M116.973,-92.7878C108.391,-86.9347 99.3486,-78.9102 94.6369,-69 88.7823,-56.6857 97.681,-45.0079 108.873,-36.0394\"/>\r\n",
       "<polygon fill=\"black\" stroke=\"black\" points=\"111.174,-38.6964 117.25,-30.0174 107.088,-33.0126 111.174,-38.6964\"/>\r\n",
       "<text text-anchor=\"middle\" x=\"127.637\" y=\"-57.8\" font-family=\"Times New Roman,serif\" font-size=\"14.00\">Pull Trigger</text>\r\n",
       "</g>\r\n",
       "<!-- S3&#45;&gt;S2 -->\r\n",
       "<g id=\"edge6\" class=\"edge\"><title>S3&#45;&gt;S2</title>\r\n",
       "<path fill=\"none\" stroke=\"black\" d=\"M150.829,-33.8859C157.833,-43.6092 164.307,-56.7336 160.637,-69 159.474,-72.8857 157.727,-76.7398 155.704,-80.3915\"/>\r\n",
       "<polygon fill=\"black\" stroke=\"black\" points=\"152.674,-78.6331 150.285,-88.955 158.59,-82.3761 152.674,-78.6331\"/>\r\n",
       "<text text-anchor=\"middle\" x=\"205.637\" y=\"-57.8\" font-family=\"Times New Roman,serif\" font-size=\"14.00\">Release Trigger</text>\r\n",
       "</g>\r\n",
       "</g>\r\n",
       "</svg>\r\n"
      ],
      "text/plain": [
       "<IPython.core.display.HTML object>"
      ]
     },
     "metadata": {},
     "output_type": "display_data"
    }
   ],
   "source": [
    "# QUOTES IN THIS WAY, WORKS:\n",
    "echo 'digraph hierarchy {\n",
    "        S0->S1 [ label = \"Lift Nozzle\" ]\n",
    "        S1->S0 [ label = \"Replace Nozzle\" ]\n",
    "        S1->S2 [ label = \"Authorize Pump\" ]\n",
    "        S2->S0 [ label = \"Replace Nozzle\" ]\n",
    "        S2->S3 [ label = \"Pull Trigger\" ]\n",
    "        S3->S2 [ label = \"Release Trigger\" ]\n",
    "}' | pydot"
   ]
  },
  {
   "cell_type": "code",
   "execution_count": null,
   "metadata": {
    "collapsed": false
   },
   "outputs": [],
   "source": [
    "# QUOTES IN THIS WAY, FAILS: careful - may mess up following notebook execution ... \n",
    "echo \"digraph hierarchy {\n",
    "        S0->S1 [ label = 'Lift Nozzle' ]\n",
    "        S1->S0 [ label = 'Replace Nozzle' ]\n",
    "        S1->S2 [ label = 'Authorize Pump' ]\n",
    "        S2->S0 [ label = 'Replace Nozzle' ]\n",
    "        S2->S3 [ label = 'Pull Trigger\"' ]\n",
    "        S3->S2 [ label = 'Release Trigger' ]\n",
    "}\" | pydot"
   ]
  },
  {
   "cell_type": "code",
   "execution_count": 1,
   "metadata": {
    "collapsed": false
   },
   "outputs": [
    {
     "data": {
      "text/html": [
       "<?xml version=\"1.0\" encoding=\"UTF-8\" standalone=\"no\"?>\r\n",
       "<!DOCTYPE svg PUBLIC \"-//W3C//DTD SVG 1.1//EN\"\r\n",
       " \"http://www.w3.org/Graphics/SVG/1.1/DTD/svg11.dtd\">\r\n",
       "<!-- Generated by graphviz version 2.38.0 (20140413.2041)\r\n",
       " -->\r\n",
       "<!-- Title: finite_state_machine Pages: 1 -->\r\n",
       "<svg width=\"576pt\" height=\"85pt\"\r\n",
       " viewBox=\"0.00 0.00 576.00 84.66\" xmlns=\"http://www.w3.org/2000/svg\" xmlns:xlink=\"http://www.w3.org/1999/xlink\">\r\n",
       "<g id=\"graph0\" class=\"graph\" transform=\"scale(0.966785 0.966785) rotate(0) translate(4 83.568)\">\r\n",
       "<title>finite_state_machine</title>\r\n",
       "<polygon fill=\"white\" stroke=\"none\" points=\"-4,4 -4,-83.568 591.789,-83.568 591.789,4 -4,4\"/>\r\n",
       "<!-- S0 -->\r\n",
       "<g id=\"node1\" class=\"node\"><title>S0</title>\r\n",
       "<ellipse fill=\"none\" stroke=\"black\" cx=\"20.7982\" cy=\"-37.7699\" rx=\"20.5982\" ry=\"20.5982\"/>\r\n",
       "<text text-anchor=\"middle\" x=\"20.7982\" y=\"-34.0699\" font-family=\"Times New Roman,serif\" font-size=\"14.00\">S0</text>\r\n",
       "</g>\r\n",
       "<!-- S1 -->\r\n",
       "<g id=\"node2\" class=\"node\"><title>S1</title>\r\n",
       "<ellipse fill=\"none\" stroke=\"black\" cx=\"209.596\" cy=\"-58.7699\" rx=\"20.5982\" ry=\"20.5982\"/>\r\n",
       "<text text-anchor=\"middle\" x=\"209.596\" y=\"-55.0699\" font-family=\"Times New Roman,serif\" font-size=\"14.00\">S1</text>\r\n",
       "</g>\r\n",
       "<!-- S0&#45;&gt;S1 -->\r\n",
       "<g id=\"edge1\" class=\"edge\"><title>S0&#45;&gt;S1</title>\r\n",
       "<path fill=\"none\" stroke=\"black\" d=\"M39.8081,-46.9815C45.9304,-49.6789 52.9159,-52.2971 59.5963,-53.7699 99.8913,-62.6532 147.783,-62.4116 178.183,-60.9649\"/>\r\n",
       "<polygon fill=\"black\" stroke=\"black\" points=\"178.753,-64.4388 188.545,-60.3921 178.367,-57.4495 178.753,-64.4388\"/>\r\n",
       "<text text-anchor=\"middle\" x=\"103.596\" y=\"-64.5699\" font-family=\"Times New Roman,serif\" font-size=\"14.00\">Lift Nozzle</text>\r\n",
       "</g>\r\n",
       "<!-- S1&#45;&gt;S0 -->\r\n",
       "<g id=\"edge2\" class=\"edge\"><title>S1&#45;&gt;S0</title>\r\n",
       "<path fill=\"none\" stroke=\"black\" d=\"M190.712,-49.6718C178.829,-44.1501 162.691,-37.6325 147.596,-34.7699 115.294,-28.6438 77.494,-30.7575 51.825,-33.5401\"/>\r\n",
       "<polygon fill=\"black\" stroke=\"black\" points=\"51.1359,-30.0972 41.6181,-34.7515 51.9609,-37.0484 51.1359,-30.0972\"/>\r\n",
       "<text text-anchor=\"middle\" x=\"103.596\" y=\"-38.5699\" font-family=\"Times New Roman,serif\" font-size=\"14.00\">Replace Nozzle</text>\r\n",
       "</g>\r\n",
       "<!-- S2 -->\r\n",
       "<g id=\"node3\" class=\"node\"><title>S2</title>\r\n",
       "<ellipse fill=\"none\" stroke=\"black\" cx=\"401.394\" cy=\"-25.7699\" rx=\"20.5982\" ry=\"20.5982\"/>\r\n",
       "<text text-anchor=\"middle\" x=\"401.394\" y=\"-22.0699\" font-family=\"Times New Roman,serif\" font-size=\"14.00\">S2</text>\r\n",
       "</g>\r\n",
       "<!-- S1&#45;&gt;S2 -->\r\n",
       "<g id=\"edge3\" class=\"edge\"><title>S1&#45;&gt;S2</title>\r\n",
       "<path fill=\"none\" stroke=\"black\" d=\"M230.193,-55.3626C263.509,-49.5701 331.38,-37.7693 370.603,-30.9497\"/>\r\n",
       "<polygon fill=\"black\" stroke=\"black\" points=\"371.367,-34.3694 380.62,-29.2081 370.168,-27.4729 371.367,-34.3694\"/>\r\n",
       "<text text-anchor=\"middle\" x=\"317.096\" y=\"-52.5699\" font-family=\"Times New Roman,serif\" font-size=\"14.00\">Authorize Pump</text>\r\n",
       "</g>\r\n",
       "<!-- S2&#45;&gt;S0 -->\r\n",
       "<g id=\"edge4\" class=\"edge\"><title>S2&#45;&gt;S0</title>\r\n",
       "<path fill=\"none\" stroke=\"black\" d=\"M380.481,-23.6235C352.281,-20.7022 299.074,-15.6256 253.596,-13.7699 167.222,-10.2454 144.405,-11.0214 59.5963,-27.7699 56.7245,-28.337 53.7476,-28.9969 50.7825,-29.7021\"/>\r\n",
       "<polygon fill=\"black\" stroke=\"black\" points=\"49.7488,-26.3534 40.917,-32.2058 51.4707,-33.1383 49.7488,-26.3534\"/>\r\n",
       "<text text-anchor=\"middle\" x=\"209.596\" y=\"-17.5699\" font-family=\"Times New Roman,serif\" font-size=\"14.00\">Replace Nozzle</text>\r\n",
       "</g>\r\n",
       "<!-- S3 -->\r\n",
       "<g id=\"node4\" class=\"node\"><title>S3</title>\r\n",
       "<ellipse fill=\"none\" stroke=\"black\" cx=\"566.991\" cy=\"-25.7699\" rx=\"20.5982\" ry=\"20.5982\"/>\r\n",
       "<text text-anchor=\"middle\" x=\"566.991\" y=\"-22.0699\" font-family=\"Times New Roman,serif\" font-size=\"14.00\">S3</text>\r\n",
       "</g>\r\n",
       "<!-- S2&#45;&gt;S3 -->\r\n",
       "<g id=\"edge5\" class=\"edge\"><title>S2&#45;&gt;S3</title>\r\n",
       "<path fill=\"none\" stroke=\"black\" d=\"M422.455,-25.7699C450.741,-25.7699 502.576,-25.7699 535.604,-25.7699\"/>\r\n",
       "<polygon fill=\"black\" stroke=\"black\" points=\"536.023,-29.27 546.023,-25.7699 536.023,-22.27 536.023,-29.27\"/>\r\n",
       "<text text-anchor=\"middle\" x=\"484.193\" y=\"-29.5699\" font-family=\"Times New Roman,serif\" font-size=\"14.00\">Pull Trigger</text>\r\n",
       "</g>\r\n",
       "<!-- S3&#45;&gt;S2 -->\r\n",
       "<g id=\"edge6\" class=\"edge\"><title>S3&#45;&gt;S2</title>\r\n",
       "<path fill=\"none\" stroke=\"black\" d=\"M548.95,-15.0907C542.67,-11.7349 535.339,-8.46494 528.193,-6.76987 490.137,2.25662 478.248,2.25662 440.193,-6.76987 436.284,-7.69686 432.321,-9.09486 428.505,-10.7203\"/>\r\n",
       "<polygon fill=\"black\" stroke=\"black\" points=\"426.924,-7.59669 419.435,-15.0907 429.963,-13.9028 426.924,-7.59669\"/>\r\n",
       "<text text-anchor=\"middle\" x=\"484.193\" y=\"-10.5699\" font-family=\"Times New Roman,serif\" font-size=\"14.00\">Release Trigger</text>\r\n",
       "</g>\r\n",
       "</g>\r\n",
       "</svg>\r\n"
      ],
      "text/plain": [
       "<IPython.core.display.HTML object>"
      ]
     },
     "metadata": {},
     "output_type": "display_data"
    }
   ],
   "source": [
    "echo 'digraph finite_state_machine {\n",
    "        rankdir=LR;\n",
    "        size=\"8,5\"\n",
    "        node [shape = circle];\n",
    "        S0 -> S1 [ label = \"Lift Nozzle\" ]\n",
    "        S1 -> S0 [ label = \"Replace Nozzle\" ]\n",
    "        S1 -> S2 [ label = \"Authorize Pump\" ]\n",
    "        S2 -> S0 [ label = \"Replace Nozzle\" ]\n",
    "        S2 -> S3 [ label = \"Pull Trigger\" ]\n",
    "        S3 -> S2 [ label = \"Release Trigger\" ]\n",
    "}' | pydot"
   ]
  },
  {
   "cell_type": "code",
   "execution_count": 2,
   "metadata": {
    "collapsed": false
   },
   "outputs": [
    {
     "data": {
      "text/html": [
       "<?xml version=\"1.0\" encoding=\"UTF-8\" standalone=\"no\"?>\r\n",
       "<!DOCTYPE svg PUBLIC \"-//W3C//DTD SVG 1.1//EN\"\r\n",
       " \"http://www.w3.org/Graphics/SVG/1.1/DTD/svg11.dtd\">\r\n",
       "<!-- Generated by graphviz version 2.38.0 (20140413.2041)\r\n",
       " -->\r\n",
       "<!-- Title: dfd Pages: 1 -->\r\n",
       "<svg width=\"238pt\" height=\"160pt\"\r\n",
       " viewBox=\"0.00 0.00 238.00 160.00\" xmlns=\"http://www.w3.org/2000/svg\" xmlns:xlink=\"http://www.w3.org/1999/xlink\">\r\n",
       "<g id=\"graph0\" class=\"graph\" transform=\"scale(1 1) rotate(0) translate(4 156)\">\r\n",
       "<title>dfd</title>\r\n",
       "<polygon fill=\"white\" stroke=\"none\" points=\"-4,4 -4,-156 234,-156 234,4 -4,4\"/>\r\n",
       "<!-- store1 -->\r\n",
       "<g id=\"node1\" class=\"node\"><title>store1</title>\r\n",
       "<polygon fill=\"none\" stroke=\"black\" points=\"0,-115.5 0,-151.5 141,-151.5 141,-115.5 0,-115.5\"/>\r\n",
       "<text text-anchor=\"middle\" x=\"17\" y=\"-129.8\" font-family=\"Times New Roman,serif\" font-size=\"14.00\">left</text>\r\n",
       "<polyline fill=\"none\" stroke=\"black\" points=\"34,-115.5 34,-151.5 \"/>\r\n",
       "<text text-anchor=\"middle\" x=\"87.5\" y=\"-129.8\" font-family=\"Times New Roman,serif\" font-size=\"14.00\">Some data store</text>\r\n",
       "</g>\r\n",
       "<!-- proc1 -->\r\n",
       "<g id=\"node2\" class=\"node\"><title>proc1</title>\r\n",
       "<path fill=\"none\" stroke=\"black\" d=\"M90.5,-0.5C90.5,-0.5 190.5,-0.5 190.5,-0.5 196.5,-0.5 202.5,-6.5 202.5,-12.5 202.5,-12.5 202.5,-66.5 202.5,-66.5 202.5,-72.5 196.5,-78.5 190.5,-78.5 190.5,-78.5 90.5,-78.5 90.5,-78.5 84.5,-78.5 78.5,-72.5 78.5,-66.5 78.5,-66.5 78.5,-12.5 78.5,-12.5 78.5,-6.5 84.5,-0.5 90.5,-0.5\"/>\r\n",
       "<text text-anchor=\"middle\" x=\"140.5\" y=\"-63.3\" font-family=\"Times New Roman,serif\" font-size=\"14.00\">1.0</text>\r\n",
       "<polyline fill=\"none\" stroke=\"black\" points=\"78.5,-55.5 202.5,-55.5 \"/>\r\n",
       "<text text-anchor=\"middle\" x=\"140.5\" y=\"-40.3\" font-family=\"Times New Roman,serif\" font-size=\"14.00\">Some process here</text>\r\n",
       "</g>\r\n",
       "<!-- store1&#45;&gt;proc1 -->\r\n",
       "<g id=\"edge1\" class=\"edge\"><title>store1:f1&#45;&gt;proc1:f0</title>\r\n",
       "<path fill=\"none\" stroke=\"black\" d=\"M87.5,-115C87.5,-100.337 72.9137,-83.6624 70.3434,-74.485\"/>\r\n",
       "<polygon fill=\"black\" stroke=\"black\" points=\"72.7883,-76.9895 77.5,-67.5 67.899,-71.9801 72.7883,-76.9895\"/>\r\n",
       "</g>\r\n",
       "<!-- enti1 -->\r\n",
       "<g id=\"node3\" class=\"node\"><title>enti1</title>\r\n",
       "<polygon fill=\"none\" stroke=\"black\" points=\"230,-151.5 159,-151.5 159,-115.5 230,-115.5 230,-151.5\"/>\r\n",
       "<text text-anchor=\"middle\" x=\"194.5\" y=\"-129.8\" font-family=\"Times New Roman,serif\" font-size=\"14.00\">Customer</text>\r\n",
       "</g>\r\n",
       "<!-- enti1&#45;&gt;proc1 -->\r\n",
       "<g id=\"edge2\" class=\"edge\"><title>enti1&#45;&gt;proc1:f0</title>\r\n",
       "<path fill=\"none\" stroke=\"black\" d=\"M203.422,-115.422C210.405,-100.677 218.094,-80.4194 212.622,-71.7335\"/>\r\n",
       "<polygon fill=\"black\" stroke=\"black\" points=\"214.044,-68.5349 203.5,-67.5 211.097,-74.8844 214.044,-68.5349\"/>\r\n",
       "</g>\r\n",
       "</g>\r\n",
       "</svg>\r\n"
      ],
      "text/plain": [
       "<IPython.core.display.HTML object>"
      ]
     },
     "metadata": {},
     "output_type": "display_data"
    }
   ],
   "source": [
    "echo 'digraph dfd {    \n",
    "        node[shape=record]\n",
    "        store1 [label=\"<f0> left|<f1> Some data store\"];\n",
    "        proc1 [label=\"{<f0> 1.0|<f1> Some process here\\n\\n\\n}\" shape=Mrecord];\n",
    "        enti1 [label=\"Customer\" shape=box];\n",
    "        store1:f1 -> proc1:f0;\n",
    "        enti1-> proc1:f0;\n",
    "}' | pydot"
   ]
  },
  {
   "cell_type": "code",
   "execution_count": 3,
   "metadata": {
    "collapsed": false
   },
   "outputs": [
    {
     "data": {
      "text/html": [
       "<?xml version=\"1.0\" encoding=\"UTF-8\" standalone=\"no\"?>\r\n",
       "<!DOCTYPE svg PUBLIC \"-//W3C//DTD SVG 1.1//EN\"\r\n",
       " \"http://www.w3.org/Graphics/SVG/1.1/DTD/svg11.dtd\">\r\n",
       "<!-- Generated by graphviz version 2.38.0 (20140413.2041)\r\n",
       " -->\r\n",
       "<!-- Title: dfd2 Pages: 1 -->\r\n",
       "<svg width=\"362pt\" height=\"366pt\"\r\n",
       " viewBox=\"0.00 0.00 361.50 366.00\" xmlns=\"http://www.w3.org/2000/svg\" xmlns:xlink=\"http://www.w3.org/1999/xlink\">\r\n",
       "<g id=\"graph0\" class=\"graph\" transform=\"scale(1 1) rotate(0) translate(4 362)\">\r\n",
       "<title>dfd2</title>\r\n",
       "<polygon fill=\"white\" stroke=\"none\" points=\"-4,4 -4,-362 357.5,-362 357.5,4 -4,4\"/>\r\n",
       "<g id=\"clust2\" class=\"cluster\"><title>cluster_level1</title>\r\n",
       "<polygon fill=\"none\" stroke=\"black\" points=\"8,-8 8,-314 278,-314 278,-8 8,-8\"/>\r\n",
       "<text text-anchor=\"middle\" x=\"143\" y=\"-298.8\" font-family=\"Times New Roman,serif\" font-size=\"14.00\">Level 1</text>\r\n",
       "</g>\r\n",
       "<!-- enti1 -->\r\n",
       "<g id=\"node1\" class=\"node\"><title>enti1</title>\r\n",
       "<polygon fill=\"none\" stroke=\"black\" points=\"110.5,-358 39.5,-358 39.5,-322 110.5,-322 110.5,-358\"/>\r\n",
       "<text text-anchor=\"middle\" x=\"75\" y=\"-336.3\" font-family=\"Times New Roman,serif\" font-size=\"14.00\">Customer</text>\r\n",
       "</g>\r\n",
       "<!-- proc1 -->\r\n",
       "<g id=\"node3\" class=\"node\"><title>proc1</title>\r\n",
       "<path fill=\"none\" stroke=\"black\" d=\"M29.5,-204.5C29.5,-204.5 120.5,-204.5 120.5,-204.5 126.5,-204.5 132.5,-210.5 132.5,-216.5 132.5,-216.5 132.5,-270.5 132.5,-270.5 132.5,-276.5 126.5,-282.5 120.5,-282.5 120.5,-282.5 29.5,-282.5 29.5,-282.5 23.5,-282.5 17.5,-276.5 17.5,-270.5 17.5,-270.5 17.5,-216.5 17.5,-216.5 17.5,-210.5 23.5,-204.5 29.5,-204.5\"/>\r\n",
       "<text text-anchor=\"middle\" x=\"75\" y=\"-267.3\" font-family=\"Times New Roman,serif\" font-size=\"14.00\">1.0</text>\r\n",
       "<polyline fill=\"none\" stroke=\"black\" points=\"17.5,-259.5 132.5,-259.5 \"/>\r\n",
       "<text text-anchor=\"middle\" x=\"75\" y=\"-244.3\" font-family=\"Times New Roman,serif\" font-size=\"14.00\">One process here</text>\r\n",
       "</g>\r\n",
       "<!-- enti1&#45;&gt;proc1 -->\r\n",
       "<g id=\"edge1\" class=\"edge\"><title>enti1&#45;&gt;proc1</title>\r\n",
       "<path fill=\"none\" stroke=\"black\" d=\"M75,-321.667C75,-313.515 75,-303.344 75,-293.089\"/>\r\n",
       "<polygon fill=\"black\" stroke=\"black\" points=\"78.5001,-292.877 75,-282.877 71.5001,-292.877 78.5001,-292.877\"/>\r\n",
       "</g>\r\n",
       "<!-- enti2 -->\r\n",
       "<g id=\"node2\" class=\"node\"><title>enti2</title>\r\n",
       "<polygon fill=\"none\" stroke=\"black\" points=\"353.5,-167.5 288.5,-167.5 288.5,-131.5 353.5,-131.5 353.5,-167.5\"/>\r\n",
       "<text text-anchor=\"middle\" x=\"321\" y=\"-145.8\" font-family=\"Times New Roman,serif\" font-size=\"14.00\">Manager</text>\r\n",
       "</g>\r\n",
       "<!-- proc2 -->\r\n",
       "<g id=\"node4\" class=\"node\"><title>proc2</title>\r\n",
       "<path fill=\"none\" stroke=\"black\" d=\"M93.5,-16.5C93.5,-16.5 192.5,-16.5 192.5,-16.5 198.5,-16.5 204.5,-22.5 204.5,-28.5 204.5,-28.5 204.5,-82.5 204.5,-82.5 204.5,-88.5 198.5,-94.5 192.5,-94.5 192.5,-94.5 93.5,-94.5 93.5,-94.5 87.5,-94.5 81.5,-88.5 81.5,-82.5 81.5,-82.5 81.5,-28.5 81.5,-28.5 81.5,-22.5 87.5,-16.5 93.5,-16.5\"/>\r\n",
       "<text text-anchor=\"middle\" x=\"143\" y=\"-79.3\" font-family=\"Times New Roman,serif\" font-size=\"14.00\">2.0</text>\r\n",
       "<polyline fill=\"none\" stroke=\"black\" points=\"81.5,-71.5 204.5,-71.5 \"/>\r\n",
       "<text text-anchor=\"middle\" x=\"143\" y=\"-56.3\" font-family=\"Times New Roman,serif\" font-size=\"14.00\">Other process here</text>\r\n",
       "</g>\r\n",
       "<!-- enti2&#45;&gt;proc2 -->\r\n",
       "<g id=\"edge2\" class=\"edge\"><title>enti2&#45;&gt;proc2</title>\r\n",
       "<path fill=\"none\" stroke=\"black\" d=\"M288.352,-131.626C267.433,-120.814 239.459,-106.355 213.64,-93.0103\"/>\r\n",
       "<polygon fill=\"black\" stroke=\"black\" points=\"215.103,-89.8267 204.612,-88.3444 211.889,-96.0452 215.103,-89.8267\"/>\r\n",
       "</g>\r\n",
       "<!-- store2 -->\r\n",
       "<g id=\"node6\" class=\"node\"><title>store2</title>\r\n",
       "<polygon fill=\"none\" stroke=\"black\" points=\"16,-131.5 16,-167.5 134,-167.5 134,-131.5 16,-131.5\"/>\r\n",
       "<text text-anchor=\"middle\" x=\"26\" y=\"-145.8\" font-family=\"Times New Roman,serif\" font-size=\"14.00\"> </text>\r\n",
       "<polyline fill=\"none\" stroke=\"black\" points=\"36,-131.5 36,-167.5 \"/>\r\n",
       "<text text-anchor=\"middle\" x=\"85\" y=\"-145.8\" font-family=\"Times New Roman,serif\" font-size=\"14.00\">Data store two</text>\r\n",
       "</g>\r\n",
       "<!-- proc1&#45;&gt;store2 -->\r\n",
       "<g id=\"edge5\" class=\"edge\"><title>proc1&#45;&gt;store2</title>\r\n",
       "<path fill=\"none\" stroke=\"black\" d=\"M68.3366,-204.283C68.1393,-195.495 68.2791,-186.317 68.7559,-178.083\"/>\r\n",
       "<polygon fill=\"black\" stroke=\"black\" points=\"72.2608,-178.162 69.5768,-167.913 65.2835,-177.599 72.2608,-178.162\"/>\r\n",
       "</g>\r\n",
       "<!-- store1 -->\r\n",
       "<g id=\"node5\" class=\"node\"><title>store1</title>\r\n",
       "<polygon fill=\"none\" stroke=\"black\" points=\"152,-131.5 152,-167.5 270,-167.5 270,-131.5 152,-131.5\"/>\r\n",
       "<text text-anchor=\"middle\" x=\"162\" y=\"-145.8\" font-family=\"Times New Roman,serif\" font-size=\"14.00\"> </text>\r\n",
       "<polyline fill=\"none\" stroke=\"black\" points=\"172,-131.5 172,-167.5 \"/>\r\n",
       "<text text-anchor=\"middle\" x=\"221\" y=\"-145.8\" font-family=\"Times New Roman,serif\" font-size=\"14.00\">Data store one</text>\r\n",
       "</g>\r\n",
       "<!-- store1&#45;&gt;proc1 -->\r\n",
       "<g id=\"edge3\" class=\"edge\"><title>store1&#45;&gt;proc1</title>\r\n",
       "<path fill=\"none\" stroke=\"black\" d=\"M185.615,-167.672C172.628,-176.457 156.168,-187.592 139.94,-198.57\"/>\r\n",
       "<polygon fill=\"black\" stroke=\"black\" points=\"137.816,-195.781 131.495,-204.283 141.739,-201.579 137.816,-195.781\"/>\r\n",
       "</g>\r\n",
       "<!-- store2&#45;&gt;proc1 -->\r\n",
       "<g id=\"edge6\" class=\"edge\"><title>store2&#45;&gt;proc1</title>\r\n",
       "<path fill=\"none\" stroke=\"black\" d=\"M80.4232,-167.913C81.2387,-175.467 81.6783,-184.724 81.7419,-194.115\"/>\r\n",
       "<polygon fill=\"black\" stroke=\"black\" points=\"78.2408,-194.256 81.6634,-204.283 85.2406,-194.31 78.2408,-194.256\"/>\r\n",
       "</g>\r\n",
       "<!-- store2&#45;&gt;proc2 -->\r\n",
       "<g id=\"edge4\" class=\"edge\"><title>store2&#45;&gt;proc2</title>\r\n",
       "<path fill=\"none\" stroke=\"black\" d=\"M87.7903,-131.196C93.801,-123.063 101.284,-112.939 108.782,-102.795\"/>\r\n",
       "<polygon fill=\"black\" stroke=\"black\" points=\"111.64,-104.816 114.77,-94.6942 106.011,-100.656 111.64,-104.816\"/>\r\n",
       "</g>\r\n",
       "</g>\r\n",
       "</svg>\r\n"
      ],
      "text/plain": [
       "<IPython.core.display.HTML object>"
      ]
     },
     "metadata": {},
     "output_type": "display_data"
    }
   ],
   "source": [
    "echo 'digraph dfd2{\n",
    "        node[shape=record]\n",
    "        subgraph level0{\n",
    "        enti1 [label=\"Customer\" shape=box];\n",
    "        enti2 [label=\"Manager\" shape=box];\n",
    "        }\n",
    "        subgraph cluster_level1{\n",
    "                        label =\"Level 1\";\n",
    "                        proc1 [label=\"{<f0> 1.0|<f1> One process here\\n\\n\\n}\" shape=Mrecord];\n",
    "                        proc2 [label=\"{<f0> 2.0|<f1> Other process here\\n\\n\\n}\" shape=Mrecord];\n",
    "                        store1 [label=\"<f0>    |<f1> Data store one\"];\n",
    "                        store2 [label=\"<f0>   |<f1> Data store two\"];\n",
    "                        {rank=same; store1 store2}\n",
    "\n",
    "        }\n",
    "        enti1 -> proc1\n",
    "        enti2 -> proc2\n",
    "        store1 -> proc1\n",
    "        store2 -> proc2\n",
    "        proc1 -> store2\n",
    "        store2 -> proc1 \n",
    "}' | pydot"
   ]
  },
  {
   "cell_type": "code",
   "execution_count": 4,
   "metadata": {
    "collapsed": false
   },
   "outputs": [
    {
     "data": {
      "text/html": [
       "<?xml version=\"1.0\" encoding=\"UTF-8\" standalone=\"no\"?>\r\n",
       "<!DOCTYPE svg PUBLIC \"-//W3C//DTD SVG 1.1//EN\"\r\n",
       " \"http://www.w3.org/Graphics/SVG/1.1/DTD/svg11.dtd\">\r\n",
       "<!-- Generated by graphviz version 2.38.0 (20140413.2041)\r\n",
       " -->\r\n",
       "<!-- Title: obj Pages: 1 -->\r\n",
       "<svg width=\"355pt\" height=\"296pt\"\r\n",
       " viewBox=\"0.00 0.00 355.00 296.00\" xmlns=\"http://www.w3.org/2000/svg\" xmlns:xlink=\"http://www.w3.org/1999/xlink\">\r\n",
       "<g id=\"graph0\" class=\"graph\" transform=\"scale(1 1) rotate(0) translate(4 292)\">\r\n",
       "<title>obj</title>\r\n",
       "<polygon fill=\"white\" stroke=\"none\" points=\"-4,4 -4,-292 351,-292 351,4 -4,4\"/>\r\n",
       "<!-- teacher -->\r\n",
       "<g id=\"node1\" class=\"node\"><title>teacher</title>\r\n",
       "<polygon fill=\"none\" stroke=\"black\" points=\"0,-216.5 0,-287.5 62,-287.5 62,-216.5 0,-216.5\"/>\r\n",
       "<text text-anchor=\"middle\" x=\"31\" y=\"-272.3\" font-family=\"Times New Roman,serif\" font-size=\"14.00\">Teacher</text>\r\n",
       "<polyline fill=\"none\" stroke=\"black\" points=\"0,-264.5 62,-264.5 \"/>\r\n",
       "<polyline fill=\"none\" stroke=\"black\" points=\"0,-240.5 62,-240.5 \"/>\r\n",
       "</g>\r\n",
       "<!-- course -->\r\n",
       "<g id=\"node2\" class=\"node\"><title>course</title>\r\n",
       "<polygon fill=\"none\" stroke=\"black\" points=\"157.5,-216.5 157.5,-287.5 214.5,-287.5 214.5,-216.5 157.5,-216.5\"/>\r\n",
       "<text text-anchor=\"middle\" x=\"186\" y=\"-272.3\" font-family=\"Times New Roman,serif\" font-size=\"14.00\">Course</text>\r\n",
       "<polyline fill=\"none\" stroke=\"black\" points=\"157.5,-264.5 214.5,-264.5 \"/>\r\n",
       "<polyline fill=\"none\" stroke=\"black\" points=\"157.5,-240.5 214.5,-240.5 \"/>\r\n",
       "</g>\r\n",
       "<!-- teacher&#45;&gt;course -->\r\n",
       "<g id=\"edge1\" class=\"edge\"><title>teacher&#45;&gt;course</title>\r\n",
       "<path fill=\"none\" stroke=\"black\" d=\"M55.5051,-216.34C62.4826,-208.913 70.7402,-202.101 80,-198 104.382,-187.201 115.79,-186.82 140,-198 148.945,-202.131 156.791,-208.953 163.352,-216.381\"/>\r\n",
       "<text text-anchor=\"middle\" x=\"159.852\" y=\"-205.181\" font-family=\"Times New Roman,serif\" font-size=\"14.00\">1</text>\r\n",
       "<text text-anchor=\"middle\" x=\"63.0051\" y=\"-205.14\" font-family=\"Times New Roman,serif\" font-size=\"14.00\">1..</text>\r\n",
       "</g>\r\n",
       "<!-- student -->\r\n",
       "<g id=\"node3\" class=\"node\"><title>student</title>\r\n",
       "<polygon fill=\"none\" stroke=\"black\" points=\"80.5,-216.5 80.5,-287.5 139.5,-287.5 139.5,-216.5 80.5,-216.5\"/>\r\n",
       "<text text-anchor=\"middle\" x=\"110\" y=\"-272.3\" font-family=\"Times New Roman,serif\" font-size=\"14.00\">Student</text>\r\n",
       "<polyline fill=\"none\" stroke=\"black\" points=\"80.5,-264.5 139.5,-264.5 \"/>\r\n",
       "<polyline fill=\"none\" stroke=\"black\" points=\"80.5,-240.5 139.5,-240.5 \"/>\r\n",
       "</g>\r\n",
       "<!-- student&#45;&gt;course -->\r\n",
       "<g id=\"edge2\" class=\"edge\"><title>student&#45;&gt;course</title>\r\n",
       "<path fill=\"none\" stroke=\"black\" d=\"M139.688,-252C145.597,-252 151.507,-252 157.417,-252\"/>\r\n",
       "<text text-anchor=\"middle\" x=\"153.917\" y=\"-255.8\" font-family=\"Times New Roman,serif\" font-size=\"14.00\">1</text>\r\n",
       "<text text-anchor=\"middle\" x=\"147.188\" y=\"-240.8\" font-family=\"Times New Roman,serif\" font-size=\"14.00\">1..</text>\r\n",
       "</g>\r\n",
       "<!-- lesson -->\r\n",
       "<g id=\"node4\" class=\"node\"><title>lesson</title>\r\n",
       "<polygon fill=\"none\" stroke=\"black\" points=\"80.5,-108.5 80.5,-179.5 137.5,-179.5 137.5,-108.5 80.5,-108.5\"/>\r\n",
       "<text text-anchor=\"middle\" x=\"109\" y=\"-164.3\" font-family=\"Times New Roman,serif\" font-size=\"14.00\">Lesson</text>\r\n",
       "<polyline fill=\"none\" stroke=\"black\" points=\"80.5,-156.5 137.5,-156.5 \"/>\r\n",
       "<polyline fill=\"none\" stroke=\"black\" points=\"80.5,-132.5 137.5,-132.5 \"/>\r\n",
       "</g>\r\n",
       "<!-- lesson&#45;&gt;course -->\r\n",
       "<g id=\"edge3\" class=\"edge\"><title>lesson&#45;&gt;course</title>\r\n",
       "<path fill=\"none\" stroke=\"black\" d=\"M134.213,-179.708C140.395,-188.219 147.098,-197.447 153.567,-206.352\"/>\r\n",
       "<polygon fill=\"black\" stroke=\"black\" points=\"153.678,-206.505 160.441,-209.008 160.731,-216.214 153.968,-213.71 153.678,-206.505\"/>\r\n",
       "</g>\r\n",
       "<!-- tutorial -->\r\n",
       "<g id=\"node5\" class=\"node\"><title>tutorial</title>\r\n",
       "<polygon fill=\"none\" stroke=\"black\" points=\"156,-108.5 156,-179.5 216,-179.5 216,-108.5 156,-108.5\"/>\r\n",
       "<text text-anchor=\"middle\" x=\"186\" y=\"-164.3\" font-family=\"Times New Roman,serif\" font-size=\"14.00\">Tutorial</text>\r\n",
       "<polyline fill=\"none\" stroke=\"black\" points=\"156,-156.5 216,-156.5 \"/>\r\n",
       "<polyline fill=\"none\" stroke=\"black\" points=\"156,-132.5 216,-132.5 \"/>\r\n",
       "</g>\r\n",
       "<!-- tutorial&#45;&gt;course -->\r\n",
       "<g id=\"edge4\" class=\"edge\"><title>tutorial&#45;&gt;course</title>\r\n",
       "<path fill=\"none\" stroke=\"black\" d=\"M186,-179.708C186,-187.487 186,-195.865 186,-204.047\"/>\r\n",
       "<polygon fill=\"black\" stroke=\"black\" points=\"186,-204.214 190,-210.214 186,-216.214 182,-210.214 186,-204.214\"/>\r\n",
       "</g>\r\n",
       "<!-- assessment -->\r\n",
       "<g id=\"node6\" class=\"node\"><title>assessment</title>\r\n",
       "<polygon fill=\"none\" stroke=\"black\" points=\"234.5,-108.5 234.5,-179.5 317.5,-179.5 317.5,-108.5 234.5,-108.5\"/>\r\n",
       "<text text-anchor=\"middle\" x=\"276\" y=\"-164.3\" font-family=\"Times New Roman,serif\" font-size=\"14.00\">Assessment</text>\r\n",
       "<polyline fill=\"none\" stroke=\"black\" points=\"234.5,-156.5 317.5,-156.5 \"/>\r\n",
       "<polyline fill=\"none\" stroke=\"black\" points=\"234.5,-132.5 317.5,-132.5 \"/>\r\n",
       "</g>\r\n",
       "<!-- assessment&#45;&gt;course -->\r\n",
       "<g id=\"edge5\" class=\"edge\"><title>assessment&#45;&gt;course</title>\r\n",
       "<path fill=\"none\" stroke=\"black\" d=\"M246.531,-179.708C238.841,-188.765 230.461,-198.634 222.456,-208.062\"/>\r\n",
       "<polygon fill=\"black\" stroke=\"black\" points=\"222.382,-208.15 221.548,-215.312 214.616,-217.297 215.45,-210.134 222.382,-208.15\"/>\r\n",
       "</g>\r\n",
       "<!-- coursework -->\r\n",
       "<g id=\"node7\" class=\"node\"><title>coursework</title>\r\n",
       "<polygon fill=\"none\" stroke=\"black\" points=\"189,-0.5 189,-71.5 275,-71.5 275,-0.5 189,-0.5\"/>\r\n",
       "<text text-anchor=\"middle\" x=\"232\" y=\"-56.3\" font-family=\"Times New Roman,serif\" font-size=\"14.00\">Coursework</text>\r\n",
       "<polyline fill=\"none\" stroke=\"black\" points=\"189,-48.5 275,-48.5 \"/>\r\n",
       "<polyline fill=\"none\" stroke=\"black\" points=\"189,-24.5 275,-24.5 \"/>\r\n",
       "</g>\r\n",
       "<!-- coursework&#45;&gt;assessment -->\r\n",
       "<g id=\"edge6\" class=\"edge\"><title>coursework&#45;&gt;assessment</title>\r\n",
       "<path fill=\"none\" stroke=\"black\" d=\"M246.407,-71.7084C250.016,-80.402 253.935,-89.8441 257.705,-98.9261\"/>\r\n",
       "<polygon fill=\"black\" stroke=\"black\" points=\"254.494,-100.32 261.56,-108.214 260.959,-97.6359 254.494,-100.32\"/>\r\n",
       "</g>\r\n",
       "<!-- exam -->\r\n",
       "<g id=\"node8\" class=\"node\"><title>exam</title>\r\n",
       "<polygon fill=\"none\" stroke=\"black\" points=\"293,-0.5 293,-71.5 347,-71.5 347,-0.5 293,-0.5\"/>\r\n",
       "<text text-anchor=\"middle\" x=\"320\" y=\"-56.3\" font-family=\"Times New Roman,serif\" font-size=\"14.00\">Exam</text>\r\n",
       "<polyline fill=\"none\" stroke=\"black\" points=\"293,-48.5 347,-48.5 \"/>\r\n",
       "<polyline fill=\"none\" stroke=\"black\" points=\"293,-24.5 347,-24.5 \"/>\r\n",
       "</g>\r\n",
       "<!-- exam&#45;&gt;assessment -->\r\n",
       "<g id=\"edge7\" class=\"edge\"><title>exam&#45;&gt;assessment</title>\r\n",
       "<path fill=\"none\" stroke=\"black\" d=\"M305.593,-71.7084C301.984,-80.402 298.065,-89.8441 294.295,-98.9261\"/>\r\n",
       "<polygon fill=\"black\" stroke=\"black\" points=\"291.041,-97.6359 290.44,-108.214 297.506,-100.32 291.041,-97.6359\"/>\r\n",
       "</g>\r\n",
       "</g>\r\n",
       "</svg>\r\n"
      ],
      "text/plain": [
       "<IPython.core.display.HTML object>"
      ]
     },
     "metadata": {},
     "output_type": "display_data"
    }
   ],
   "source": [
    "echo 'digraph obj{\n",
    "        node[shape=record];\n",
    "        rankdir=\"BT\";\n",
    "        \n",
    "        teacher [label = \"{<f0> Teacher|<f1> \\n  |<f2> \\n   }\"];\n",
    "        course [label = \"{<f0> Course|<f1> \\n  |<f2> \\n   }\"];\n",
    "        student [label = \"{<f0> Student|<f1> \\n  |<f2> \\n   }\"];\n",
    "        lesson [label = \"{<f0> Lesson |<f1> \\n  |<f2> \\n   }\"];\n",
    "        tutorial [label = \"{<f0> Tutorial|<f1> \\n  |<f2> \\n   }\"];\n",
    "        assessment[label = \"{<f0> Assessment|<f1> \\n  |<f2> \\n   }\"];\n",
    "        coursework [label = \"{<f0> Coursework|<f1> \\n  |<f2> \\n   }\"];\n",
    "        exam [label = \"{<f0> Exam|<f1> \\n  |<f2> \\n   }\"];\n",
    "\n",
    "        {rank=same; teacher course student}\n",
    "\n",
    "        teacher->course [dir=\"forward\",arrowhead=\"none\",arrowtail=\"normal\",headlabel=\"1\",taillabel=\"1..\"];\n",
    "        student->course [dir=\"forward\",arrowhead=\"none\",arrowtail=\"normal\",headlabel=\"1\",taillabel=\"1..\"];\n",
    "        lesson->course [dir=\"forward\",arrowhead=\"diamond\",arrowtail=\"normal\"];\n",
    "        tutorial->course [dir=\"forward\",arrowhead=\"diamond\",arrowtail=\"normal\"];\n",
    "        assessment->course [dir=\"forward\",arrowhead=\"diamond\",arrowtail=\"normal\"];\n",
    "        coursework->assessment;\n",
    "        exam->assessment;\n",
    "\n",
    "}' | pydot"
   ]
  },
  {
   "cell_type": "code",
   "execution_count": 5,
   "metadata": {
    "collapsed": false
   },
   "outputs": [
    {
     "data": {
      "text/html": [
       "<?xml version=\"1.0\" encoding=\"UTF-8\" standalone=\"no\"?>\r\n",
       "<!DOCTYPE svg PUBLIC \"-//W3C//DTD SVG 1.1//EN\"\r\n",
       " \"http://www.w3.org/Graphics/SVG/1.1/DTD/svg11.dtd\">\r\n",
       "<!-- Generated by graphviz version 2.38.0 (20140413.2041)\r\n",
       " -->\r\n",
       "<!-- Title: ER Pages: 1 -->\r\n",
       "<svg width=\"224pt\" height=\"70pt\"\r\n",
       " viewBox=\"0.00 0.00 224.00 69.78\" xmlns=\"http://www.w3.org/2000/svg\" xmlns:xlink=\"http://www.w3.org/1999/xlink\">\r\n",
       "<g id=\"graph0\" class=\"graph\" transform=\"scale(1 1) rotate(0) translate(4 65.784)\">\r\n",
       "<title>ER</title>\r\n",
       "<polygon fill=\"white\" stroke=\"none\" points=\"-4,4 -4,-65.784 220,-65.784 220,4 -4,4\"/>\r\n",
       "<!-- Book -->\r\n",
       "<g id=\"node1\" class=\"node\"><title>Book</title>\r\n",
       "<polygon fill=\"none\" stroke=\"black\" points=\"54,-36 0,-36 0,-0 54,-0 54,-36\"/>\r\n",
       "<text text-anchor=\"middle\" x=\"27\" y=\"-14.3\" font-family=\"Times New Roman,serif\" font-size=\"14.00\">Book</text>\r\n",
       "</g>\r\n",
       "<!-- Loan -->\r\n",
       "<g id=\"node3\" class=\"node\"><title>Loan</title>\r\n",
       "<polygon fill=\"none\" stroke=\"black\" points=\"216,-36 162,-36 162,-0 216,-0 216,-36\"/>\r\n",
       "<text text-anchor=\"middle\" x=\"189\" y=\"-14.3\" font-family=\"Times New Roman,serif\" font-size=\"14.00\">Loan</text>\r\n",
       "</g>\r\n",
       "<!-- Book&#45;&gt;Loan -->\r\n",
       "<g id=\"edge1\" class=\"edge\"><title>Book&#45;&gt;Loan</title>\r\n",
       "<path fill=\"none\" stroke=\"black\" d=\"M44.5292,-36.2239C52.478,-43.2059 62.4541,-50.3639 73,-54 102.832,-64.2857 114.223,-64.4451 144,-54 151.14,-51.4955 157.988,-47.3291 164.094,-42.7013\"/>\r\n",
       "<polygon fill=\"black\" stroke=\"black\" points=\"164.219,-42.5981 174.79,-39.6821 168.069,-39.4077 171.919,-36.2173 171.919,-36.2173 171.919,-36.2173 168.069,-39.4077 169.047,-32.7524 164.219,-42.5981 164.219,-42.5981\"/>\r\n",
       "</g>\r\n",
       "<!-- Customer -->\r\n",
       "<g id=\"node2\" class=\"node\"><title>Customer</title>\r\n",
       "<polygon fill=\"none\" stroke=\"black\" points=\"143.5,-36 72.5,-36 72.5,-0 143.5,-0 143.5,-36\"/>\r\n",
       "<text text-anchor=\"middle\" x=\"108\" y=\"-14.3\" font-family=\"Times New Roman,serif\" font-size=\"14.00\">Customer</text>\r\n",
       "</g>\r\n",
       "<!-- Customer&#45;&gt;Loan -->\r\n",
       "<g id=\"edge2\" class=\"edge\"><title>Customer&#45;&gt;Loan</title>\r\n",
       "<path fill=\"none\" stroke=\"black\" d=\"M143.754,-18C146.383,-18 149.012,-18 151.641,-18\"/>\r\n",
       "<polygon fill=\"black\" stroke=\"black\" points=\"151.782,-18.0001 161.782,-22.5 156.782,-18 161.782,-18 161.782,-18 161.782,-18 156.782,-18 161.782,-13.5 151.782,-18.0001 151.782,-18.0001\"/>\r\n",
       "</g>\r\n",
       "</g>\r\n",
       "</svg>\r\n"
      ],
      "text/plain": [
       "<IPython.core.display.HTML object>"
      ]
     },
     "metadata": {},
     "output_type": "display_data"
    }
   ],
   "source": [
    "echo 'digraph ER{\n",
    "        node[shape=box];\n",
    "        Book;\n",
    "        Customer;\n",
    "        Loan;\n",
    "        {rank=same;Book Customer Loan}\n",
    "        Book->Loan[dir=\"forward\",arrowhead=\"crow\",arrowtail=\"normal\"];\n",
    "        Customer->Loan[dir=\"forward\",arrowhead=\"crow\",arrowtail=\"normal\"];\n",
    "}' | pydot"
   ]
  },
  {
   "cell_type": "code",
   "execution_count": 6,
   "metadata": {
    "collapsed": false
   },
   "outputs": [
    {
     "data": {
      "text/plain": [
       "digraph G { \n",
       "        a; \n",
       "        b; \n",
       "        c -> d; \n",
       "        a -> c; \n",
       "}"
      ]
     },
     "execution_count": 6,
     "metadata": {},
     "output_type": "execute_result"
    }
   ],
   "source": [
    "# HERE document:\n",
    "cat <<EOF\n",
    "digraph G { \n",
    "        a; \n",
    "        b; \n",
    "        c -> d; \n",
    "        a -> c; \n",
    "}\n",
    "EOF"
   ]
  },
  {
   "cell_type": "code",
   "execution_count": null,
   "metadata": {
    "collapsed": false
   },
   "outputs": [],
   "source": [
    "# HERE document, piped: (sometimes fails ... fails to see command-prompt in 'shell_magic.py'?)\n",
    "cat <<EOF\n",
    "digraph G { \n",
    "        a; \n",
    "        b; \n",
    "        c -> d; \n",
    "        a -> c; \n",
    "}\n",
    "EOF | cat"
   ]
  },
  {
   "cell_type": "code",
   "execution_count": null,
   "metadata": {
    "collapsed": false
   },
   "outputs": [],
   "source": [
    "# HERE document, piped to pydot:\n",
    "\n",
    "# FAILS: messes up kernel ...\n",
    "type pydot\n",
    "cat <<EOF\n",
    "digraph G { \n",
    "        piped; \n",
    "        b; \n",
    "        c -> d; \n",
    "        a -> c; \n",
    "}\n",
    "EOF | pydot"
   ]
  },
  {
   "cell_type": "code",
   "execution_count": 1,
   "metadata": {
    "collapsed": false
   },
   "outputs": [
    {
     "data": {
      "text/plain": [
       "echo \"Invoked ${FUNCNAME[0]} $*\" 1>&2;\n",
       "    MAX_nel_bash_kernel\n",
       "TZ=Europe/Paris\n",
       "UID=1250621\n",
       "USER=mjbright\n",
       "USERDNSDOMAIN=EMEA.CPQCORP.NET\n",
       "USERDOMAIN=EMEA\n",
       "USERDOMAIN_ROAMINGPROFILE=EMEA\n",
       "USERNAME=mjbright\n",
       "USERPROFILE='C:\\Users\\mjbright'\n",
       "VBOX_MSI_INSTALL_PATH='C:\\Program Files\\Oracle\\VirtualBox\\'\n",
       "VIM=/cygdrive/c/Portable/PortableApps//gVimPortable\n",
       "VSEDEFLOGDIR='C:\\ProgramData\\McAfee\\DesktopProtection'\n",
       "WINDIR='C:\\windows'\n",
       "WINDOWS_TRACING_FLAGS=3\n",
       "WINDOWS_TRACING_LOGFILE='C:\\BVTBin\\Tests\\installpackage\\csilogfile.log'\n",
       "_="
      ]
     },
     "execution_count": 1,
     "metadata": {},
     "output_type": "execute_result"
    }
   ],
   "source": [
    "typeset +f"
   ]
  },
  {
   "cell_type": "code",
   "execution_count": 2,
   "metadata": {
    "collapsed": false
   },
   "outputs": [
    {
     "data": {
      "text/plain": [
       "strip())[1:-1].split('|')]\n",
       "                value x(d.date); })\n",
       "    .y(function(d) { return y(d.close); });\n",
       "    \n",
       "// Adds the svg canvas\n",
       "var svg = d3.select(\"#myd3\")\n",
       "    .append(\"svg\")\n",
       "        .attr(\"width\", width + margin.left + margin.right)\n",
       "        .attr(\"height\", height + margin.top + margin.bottom)\n",
       "    .append(\"g\")\n",
       "        .attr(\"transform\", \n",
       "              \"translate(\" + margin.left + \",\" + margin.top + \")\");\n",
       "\n",
       "// Get the data\n",
       "d3.csv(\"data.csv\", function(error, data) {\n",
       "    data.forEach(function(d) {\n",
       "        d.date = parseDate(d.date);\n",
       "        d.close = +d.close;\n",
       "    });\n",
       "\n",
       "    // Scale the range of the data\n",
       "    x.domain(d3.extent(data, function(d) { return d.date; }));\n",
       "    y.domain([0, d3.max(data, function(d) { return d.close; })]);\n",
       "\n",
       "    // Add the valueline path.\n",
       "    svg.append(\"path\")\n",
       "        .attr(\"class\", \"line\")\n",
       "        .attr(\"d\", valueline(data));\n",
       "\n",
       "    // Add the X Axis\n",
       "    svg.append(\"g\")\n",
       "        .attr(\"class\", \"x axis\")\n",
       "        .attr(\"transform\", \"translate(0,\" + height + \")\")\n",
       "        .call(xAxis);\n",
       "\n",
       "    // Add the Y Axis\n",
       "    svg.append(\"g\")\n",
       "        .attr(\"class\", \"y axis\")\n",
       "        .call(yAxis);\n",
       "\n",
       "});\n",
       "\n",
       "</script>\n",
       "</div>\n",
       "\n",
       "EOF\n",
       "\n",
       "    cat $HTMLSCRIPT 2>&1 | tee $TMPDIR/${FUNCNAME[0]}.stdout | html\n",
       "}\n",
       "test_fn () \n",
       "{ \n",
       "    MESSAGE=\"[$(date)] Hello from test_fn() (declared in ${BASH_SOURCE[0]})\";\n",
       "    echo $MESSAGE\n",
       "}\n",
       "test_html_table () \n",
       "{ \n",
       "    echo \"Invoked ${FUNCNAME[0]} $*\" 1>&2;\n",
       "    PYSCRIPT=$CYGROOT/$TMPDIR/${FUNCNAME[0]}.py;\n",
       "    cat  > $PYSCRIPT <<EOF\n",
       "\n",
       "import IPython\n",
       "\n",
       "# This is nice to have but we want rather something which is callable from a bash kernel\n",
       "# how?\n",
       "def displayMysqlTableTextAsHTML(text):\n",
       "    header=False\n",
       "    colNames=[]\n",
       "    values=[]\n",
       "    for line in text.split('\\n'):\n",
       "        line = line.strip()\n",
       "        row=[]\n",
       "        if len(line) != 0 and line[0] != '+' and line[0] == '|':\n",
       "            if not header:\n",
       "                header=True\n",
       "                colNames = [ colName.strip() for colName in (line.strip())[1:-1].split('|')]\n",
       "            else:\n",
       "                row      = [ value.strip()   for value   in (line.s.append(row)\n",
       "\n",
       "    table = '<table>' +         '<tr>' + '\\n'.join( [ '<th>'+colName+'</th>' for colName in colNames ] ) + '\\n</tr>\\n' +         '\\n'.join([ '<tr>'+             '\\n    '.join( [ '<td>'+value+'</td>' for value in row ] ) +\n",
       "          '\\n</tr>' for row in values ]) +        '</table>'\n",
       "\n",
       "    return table\n",
       "\n",
       "text='''\n",
       "+-------+-------+-------+-----+\n",
       "  |  col1 | col2  |  col3 |col4 |  \n",
       "+-------+-------+-------+-----+\n",
       "|  val1 | val2  |  val3 |val4 |\n",
       "|  valu1|value2 |value3|val4|\n",
       "+-------+-------+-------+-----+\n",
       "'''\n",
       "\n",
       "retval = displayMysqlTableTextAsHTML(text)\n",
       "print(retval)\n",
       "\n",
       "EOF\n",
       "\n",
       "    python $PYSCRIPT 2>&1 | tee $TMPDIR/${FUNCNAME[0]}.stdout\n",
       "}\n",
       "utest_fn () \n",
       "{ \n",
       "    MESSAGE=\"[$(date)] Hello from utest_fn() (declared in ${BASH_SOURCE[0]})\";\n",
       "    echo $MESSAGE\n",
       "}"
      ]
     },
     "execution_count": 2,
     "metadata": {},
     "output_type": "execute_result"
    }
   ],
   "source": [
    "type pydot"
   ]
  },
  {
   "cell_type": "code",
   "execution_count": null,
   "metadata": {
    "collapsed": false,
    "slideshow": {
     "slide_type": "slide"
    }
   },
   "outputs": [],
   "source": [
    "cat <<EOF\n",
    "digraph G { \n",
    "        a; \n",
    "        b; \n",
    "        c -> d; \n",
    "        a -> c; \n",
    "}\n",
    "EOF | pydot"
   ]
  },
  {
   "cell_type": "code",
   "execution_count": 3,
   "metadata": {
    "collapsed": false
   },
   "outputs": [
    {
     "data": {
      "text/html": [
       "<?xml version=\"1.0\" encoding=\"UTF-8\" standalone=\"no\"?>\r\n",
       "<!DOCTYPE svg PUBLIC \"-//W3C//DTD SVG 1.1//EN\"\r\n",
       " \"http://www.w3.org/Graphics/SVG/1.1/DTD/svg11.dtd\">\r\n",
       "<!-- Generated by graphviz version 2.38.0 (20140413.2041)\r\n",
       " -->\r\n",
       "<!-- Title: A Pages: 1 -->\r\n",
       "<svg width=\"62pt\" height=\"116pt\"\r\n",
       " viewBox=\"0.00 0.00 62.00 116.00\" xmlns=\"http://www.w3.org/2000/svg\" xmlns:xlink=\"http://www.w3.org/1999/xlink\">\r\n",
       "<g id=\"graph0\" class=\"graph\" transform=\"scale(1 1) rotate(0) translate(4 112)\">\r\n",
       "<title>A</title>\r\n",
       "<polygon fill=\"white\" stroke=\"none\" points=\"-4,4 -4,-112 58,-112 58,4 -4,4\"/>\r\n",
       "<!-- a -->\r\n",
       "<g id=\"node1\" class=\"node\"><title>a</title>\r\n",
       "<ellipse fill=\"none\" stroke=\"black\" cx=\"27\" cy=\"-90\" rx=\"27\" ry=\"18\"/>\r\n",
       "<text text-anchor=\"middle\" x=\"27\" y=\"-86.3\" font-family=\"Times New Roman,serif\" font-size=\"14.00\">a</text>\r\n",
       "</g>\r\n",
       "<!-- b -->\r\n",
       "<g id=\"node2\" class=\"node\"><title>b</title>\r\n",
       "<ellipse fill=\"none\" stroke=\"black\" cx=\"27\" cy=\"-18\" rx=\"27\" ry=\"18\"/>\r\n",
       "<text text-anchor=\"middle\" x=\"27\" y=\"-14.3\" font-family=\"Times New Roman,serif\" font-size=\"14.00\">b</text>\r\n",
       "</g>\r\n",
       "<!-- a&#45;&#45;b -->\r\n",
       "<g id=\"edge1\" class=\"edge\"><title>a&#45;&#45;b</title>\r\n",
       "<path fill=\"none\" stroke=\"black\" d=\"M27,-71.6966C27,-60.8463 27,-46.9167 27,-36.1043\"/>\r\n",
       "</g>\r\n",
       "</g>\r\n",
       "</svg>\r\n"
      ],
      "text/plain": [
       "<IPython.core.display.HTML object>"
      ]
     },
     "metadata": {},
     "output_type": "display_data"
    }
   ],
   "source": [
    "%%dot\n",
    "\n",
    "graph A { a->b }\n",
    "\n"
   ]
  },
  {
   "cell_type": "code",
   "execution_count": 5,
   "metadata": {
    "collapsed": false,
    "slideshow": {
     "slide_type": "subslide"
    }
   },
   "outputs": [
    {
     "data": {
      "text/plain": [
       "r--r--  1 mjbright Domain Users      57 May  7 08:56 test2.dot\n",
       "-rw-r--r--  1 mjbright Domain Users       0 May  7 11:24 b\n",
       "-rwxr-xr-x  1 mjbright Domain Users    4021 May  7 20:58 Python3_render_html_table_from_MySQLTableText.ipynb\n",
       "-rwxr-xr-x  1 mjbright Domain Users     921 May  9 17:31 Python3_LightningExperiments.ipynb\n",
       "-rw-r--r--  1 mjbright Domain Users 3134247 May  9 17:31 severless.ipynb\n",
       "drwxr-xr-x+ 1 mjbright Domain Users       0 May 10 14:38 lightning-examples\n",
       "drwxr-xr-x+ 1 mjbright Domain Users       0 May 12 10:06 ..\n",
       "-rwxr-xr-x  1 mjbright Domain Users      30 May 13 18:24 jupyter.sh\n",
       "-rwxr-xr-x  1 mjbright Domain Users   27384 May 13 18:27 PRESENTATION - Jupyter for Everything Else.ipynb\n",
       "-rwxr-xr-x  1 mjbright Domain Users   17780 May 13 21:21 2016-Jun-DockerCon-KeynoteHacks.ipynb\n",
       "drwxr-xr-x+ 1 mjbright Domain Users       0 May 15 08:27 .git\n",
       "total 3442\n",
       "-rwxr-xr-x  1 mjbright Domain Users    6563 May  6 19:58 Metakernel_echo.ipynb\n",
       "-rw-r--r--  1 mjbright Domain Users     102 May  7 08:08 README.md\n",
       "-rw-r--r--  1 mjbright Domain Users      57 May  7 08:56 test2.dot\n",
       "-rw-r--r--  1 mjbright Domain Users       0 May  7 11:24 b\n",
       "-rwxr-xr-x  1 mjbright Domain Users    4021 May  7 20:58 Python3_render_html_table_from_MySQLTableText.ipynb\n",
       "-rwxr-xr-x  1 mjbright Domain Users     921 May  9 17:31 Python3_LightningExperiments.ipynb\n",
       "-rw-r--r--  1 mjbright Domain Users 3134247 May  9 17:31 severless.ipynb\n",
       "drwxr-xr-x+ 1 mjbright Domain Users       0 May 10 14:38 lightning-examples\n",
       "drwxr-xr-x+ 1 mjbright Domain Users       0 May 12 10:06 ..\n",
       "-rwxr-xr-x  1 mjbright Domain Users      30 May 13 18:24 jupyter.sh\n",
       "-rwxr-xr-x  1 mjbright Domain Users   27384 May 13 18:27 PRESENTATION - Jupyter for Everything Else.ipynb\n",
       "-rwxr-xr-x  1 mjbright Domain Users   17780 May 13 21:21 2016-Jun-DockerCon-KeynoteHacks.ipynb\n",
       "drwxr-xr-x+ 1 mjbright Domain Users       0 May 15 08:27 .git\n",
       "drwxr-xr-x+ 1 mjbright Domain Users       0 May 15 15:49 .ipynb_checkpoints\n",
       "-rwxr-xr-x  1 mjbright Domain Users     592 May 15 15:51 Untitled.ipynb\n",
       "-rw-r--r--  1 mjbright Domain Users       0 May 15 17:09 proc1:f0\n",
       "-rwxr-xr-x  1 mjbright Domain Users      33 May 15 17:09 test.dot\n",
       "-rwxr-xr-x  1 mjbright Domain Users   24506 May 15 17:09 example1_graph.png\n",
       "-rwxr-xr-x  1 mjbright Domain Users     467 May 15 17:11 data.csv\n",
       "-rw-r--r--  1 mjbright Domain Users       0 May 15 17:14 S1\n",
       "-rw-r--r--  1 mjbright Domain Users       0 May 15 17:14 S0\n",
       "-rw-r--r--  1 mjbright Domain Users       0 May 15 17:14 S3\n",
       "-rw-r--r--  1 mjbright Domain Users       0 May 15 17:14 S2\n",
       "-rwxr-xr-x  1 mjbright Domain Users  245344 May 15 17:15 Metakernel_bash.ipynb\n",
       "drwxr-xr-x+ 1 mjbright Domain Users       0 May 15 17:15 ."
      ]
     },
     "execution_count": 5,
     "metadata": {},
     "output_type": "execute_result"
    }
   ],
   "source": [
    "ls -altr"
   ]
  },
  {
   "cell_type": "code",
   "execution_count": 6,
   "metadata": {
    "collapsed": false,
    "slideshow": {
     "slide_type": "subslide"
    }
   },
   "outputs": [
    {
     "data": {
      "text/plain": [
       "total 3442\n",
       "-rwxr-xr-x  1 mjbright Domain Users    6563 May  6 19:58 Metakernel_echo.ipynb\n",
       "-rw-r--r--  1 mjbright Domain Users     102 May  7 08:08 README.md\n",
       "-rw-drwxr-xr-x+ 1 mjbright Domain Users       0 May 15 15:49 .ipynb_checkpoints\n",
       "-rwxr-xr-x  1 mjbright Domain Users     592 May 15 15:51 Untitled.ipynb\n",
       "-rw-r--r--  1 mjbright Domain Users       0 May 15 17:09 proc1:f0\n",
       "-rwxr-xr-x  1 mjbright Domain Users      33 May 15 17:09 test.dot\n",
       "-rwxr-xr-x  1 mjbright Domain Users   24506 May 15 17:09 example1_graph.png\n",
       "-rwxr-xr-x  1 mjbright Domain Users     467 May 15 17:11 data.csv\n",
       "-rw-r--r--  1 mjbright Domain Users       0 May 15 17:14 S1\n",
       "-rw-r--r--  1 mjbright Domain Users       0 May 15 17:14 S0\n",
       "-rw-r--r--  1 mjbright Domain Users       0 May 15 17:14 S3\n",
       "-rw-r--r--  1 mjbright Domain Users       0 May 15 17:14 S2\n",
       "-rwxr-xr-x  1 mjbright Domain Users  245344 May 15 17:15 Metakernel_bash.ipynb\n",
       "drwxr-xr-x+ 1 mjbright Domain Users       0 May 15 17:15 ."
      ]
     },
     "execution_count": 6,
     "metadata": {},
     "output_type": "execute_result"
    }
   ],
   "source": [
    "cd /tmp\n",
    "ls -altr"
   ]
  },
  {
   "cell_type": "code",
   "execution_count": 7,
   "metadata": {
    "collapsed": false,
    "slideshow": {
     "slide_type": "subslide"
    }
   },
   "outputs": [
    {
     "data": {
      "text/plain": [
       "58 vagrant20160510-15440-he8ydj2\n",
       "-rwxr-xr-x  1 m22:13 vagrant20160508-9032-1ct9se92\n",
       "-rwxr-xr-x  1 mjbright Domain Users 1972 May  8 22:13 vagrant20160508-9032-1ct9se92.lock\n",
       "drwxr-xr-x+ 1 mjbright Domain Users    0 May  8 22:21 d20160508-3164-1v3js4\n",
       "-rwxr-xr-x  1 mjbright Domain Users    0 May  8 22:21 vagrant20160508-3164-qmwvel\n",
       "-rwxr-xr-x  1 mjbright Domain Users    0 May  8 22:21 vagrant20160508-3164-tug08o\n",
       "-rwxr-xr-x  1 mjbright Domain Users   80 May  8 22:21 vagrant20160508-3164-tug08o2\n",
       "-rwxr-xr-x  1 mjbright Domain Users 1972 May  8 22:21 vagrant20160508-3164-tug08o2.lock\n",
       "drwxr-xr-x+ 1 mjbright Domain Users    0 May  8 22:21 d20160508-18720-m46oq\n",
       "-rwxr-xr-x  1 mjbright Domain Users    0 May  8 22:21 vagrant20160508-18720-186vtcl\n",
       "-rwxr-xr-x  1 mjbright Domain Users    0 May  8 22:21 vagrant20160508-18720-1ez85h5\n",
       "-rwxr-xr-x  1 mjbright Domain Users   80 May  8 22:21 vagrant20160508-18720-1ez85h52\n",
       "-rwxr-xr-x  1 mjbright Domain Users 1972 May  8 22:21 vagrant20160508-18720-1ez85h52.lock\n",
       "drwxr-xr-x+ 1 mjbright Domain Users    0 May  8 22:21 d20160508-17384-jt8qq\n",
       "-rwxr-xr-x  1 mjbright Domain Users    0 May  8 22:21 vagrant20160508-17384-198s6kq\n",
       "-rwxr-xr-x  1 mjbright Domain Users    0 May  8 22:21 vagrant20160508-17384-vlurmi\n",
       "-rwxr-xr-x  1 mjbright Domain Users   80 May  8 22:21 vagrant20160508-17384-vlurmi2\n",
       "-rwxr-xr-x  1 mjbright Domain Users 1972 May  8 22:21 vagrant20160508-17384-vlurmi2.lock\n",
       "drwxr-xr-x+ 1 mjbright Domain Users    0 May 10 15:55 d20160510-15292-13t03l\n",
       "-rwxr-xr-x  1 mjbright Domain Users    0 May 10 15:55 vagrant20160510-15292-7j9o32\n",
       "-rwxr-xr-x  1 mjbright Domain Users    0 May 10 15:55 vagrant20160510-15292-jzep01\n",
       "-rwxr-xr-x  1 mjbright Domain Users   80 May 10 15:55 vagrant20160510-15292-jzep012\n",
       "-rwxr-xr-x  1 mjbright Domain Users 1972 May 10 15:55 vagrant20160510-15292-jzep012.lock\n",
       "drwxr-xr-x+ 1 mjbright Domain Users    0 May 10 15:58 d20160510-15440-1w3apqs\n",
       "-rwxr-xr-x  1 mjbright Domain Users    0 May 10 15:58 vagrant20160510-15440-1mlgjt1\n",
       "-rwxr-xr-x  1 mjbright Domain Users   80 May 10 15:jbright Domain Users    0 May 10 15:58 vagrant20160510-15440-he8ydj\n",
       "-rwxr-xr-x  1 mjbright Domain Users 1972 May 10 15:58 vagrant20160510-15440-he8ydj2.lock\n",
       "-rw-r--r--  1 mjbright Domain Users   39 May 11 17:31 dwn\n",
       "-rw-r--r--  1 mjbright Domain Users  120 May 13 20:33 matched.txt\n",
       "-rw-r--r--  1 mjbright Domain Users    1 May 13 20:33 matched1.txt\n",
       "-rw-r--r--  1 mjbright Domain Users  442 May 14 07:54 data.csv\n",
       "-rw-r--r--  1 mjbright Domain Users   64 May 15 15:25 metakernel.running.pwd\n",
       "drwxr-xr-x+ 1 mjbright Domain Users    0 May 15 17:12 findtest\n",
       "drwxr-xr-x+ 1 mjbright Domain Users    0 May 15 17:15 metakernel_bash_kernel\n",
       "drwxrwxrwt+ 1 mjbright Domain Users    0 May 15 17:16 ."
      ]
     },
     "execution_count": 7,
     "metadata": {},
     "output_type": "execute_result"
    }
   ],
   "source": [
    "pwd; cd / ; date"
   ]
  },
  {
   "cell_type": "code",
   "execution_count": 8,
   "metadata": {
    "collapsed": false
   },
   "outputs": [
    {
     "data": {
      "text/plain": [
       "/tmp\n",
       "Sun, May 15, 2016  5:16:26 PM"
      ]
     },
     "execution_count": 8,
     "metadata": {},
     "output_type": "execute_result"
    }
   ],
   "source": [
    "df -h"
   ]
  },
  {
   "cell_type": "code",
   "execution_count": 10,
   "metadata": {
    "collapsed": false
   },
   "outputs": [
    {
     "data": {
      "image/png": "[encoded data removed]"
     },
     "metadata": {},
     "output_type": "display_data"
    },
    {
     "data": {},
     "execution_count": 10,
     "metadata": {},
     "output_type": "execute_result"
    }
   ],
   "source": [
    "cat /cygdrive/c/HP/drivers/touchpad/img_clicking.png | display"
   ]
  },
  {
   "cell_type": "code",
   "execution_count": 12,
   "metadata": {
    "collapsed": false
   },
   "outputs": [
    {
     "data": {
      "image/png": "[encoded data removed]"
     },
     "metadata": {},
     "output_type": "display_data"
    },
    {
     "data": {},
     "execution_count": 12,
     "metadata": {},
     "output_type": "execute_result"
    }
   ],
   "source": [
    "curl -s 'http://mjbright.github.io/images/Mike_4_Chili_Constitucion.smaller.png' | display"
   ]
  },
  {
   "cell_type": "code",
   "execution_count": null,
   "metadata": {
    "collapsed": false,
    "slideshow": {
     "slide_type": "subslide"
    }
   },
   "outputs": [],
   "source": [
    "typeset +f"
   ]
  },
  {
   "cell_type": "code",
   "execution_count": null,
   "metadata": {
    "collapsed": false,
    "slideshow": {
     "slide_type": "slide"
    }
   },
   "outputs": [],
   "source": [
    "%magic"
   ]
  },
  {
   "cell_type": "code",
   "execution_count": null,
   "metadata": {
    "collapsed": false,
    "slideshow": {
     "slide_type": "slide"
    }
   },
   "outputs": [],
   "source": [
    "%%python\n",
    "\n",
    "print(\"Hello World\")"
   ]
  },
  {
   "cell_type": "code",
   "execution_count": null,
   "metadata": {
    "collapsed": false,
    "slideshow": {
     "slide_type": "slide"
    }
   },
   "outputs": [],
   "source": [
    "%%html\n",
    "<h1> Some hypertext </h1>"
   ]
  },
  {
   "cell_type": "code",
   "execution_count": null,
   "metadata": {
    "collapsed": false
   },
   "outputs": [],
   "source": [
    "%%python\n",
    "\n",
    "import os, re\n",
    "\n",
    "def getCygwinPath():\n",
    "    ''' Search in available drives for a cygwin installation '''\n",
    "    \n",
    "    # Find available drives in form \"C:\\\"\n",
    "    drives = re.findall(r\"[A-Z]+:.*$\", os.popen(\"mountvol /\").read(),re.MULTILINE)\n",
    "\n",
    "    # For each drive look for C:\\cygwin, C:\\cygwin64, C:\\*\\cygwin, C:\\*\\cygwin64\n",
    "    for drive in drives:\n",
    "        drive_root = drive[:2] + '/'\n",
    "        \n",
    "        dirs = [ '' ]\n",
    "        dirs.extend( os.listdir( drive_root ) )\n",
    "        for path in dirs:\n",
    "            path = drive_root + path\n",
    "            for cygwin in ['cygwin', 'cygwin64']:\n",
    "                if os.path.exists( path + '/' + cygwin):\n",
    "                    return(path + '/' + cygwin)\n",
    "    return None\n",
    "\n",
    "cygwinPath = getCygwinPath()\n",
    "if cygwinPath: print(cygwinPath)"
   ]
  },
  {
   "cell_type": "code",
   "execution_count": null,
   "metadata": {
    "collapsed": false
   },
   "outputs": [],
   "source": [
    "%%python\n",
    "\n",
    "import IPython\n",
    "\n",
    "# This is nice to have but we want rather something which is callable from a bash kernel\n",
    "# how?\n",
    "def displayMysqlTableTextAsHTML(text):\n",
    "    header=False\n",
    "    colNames=[]\n",
    "    values=[]\n",
    "    for line in text.split('\\n'):\n",
    "        line = line.strip()\n",
    "        row=[]\n",
    "        if len(line) != 0 and line[0] != '+' and line[0] == '|':\n",
    "            if not header:\n",
    "                header=True\n",
    "                colNames = [ colName.strip() for colName in (line.strip())[1:-1].split('|')]\n",
    "            else:\n",
    "                row = [ value.strip() for value in (line.strip())[1:-1].split('|')]\n",
    "                values.append(row)\n",
    "\n",
    "    table = '<table>' + \\\n",
    "        '<tr>' + '\\n'.join( [ '<th>'+colName+'</th>' for colName in colNames ] ) + '\\n</tr>\\n' + \\\n",
    "        '\\n'.join([ '<tr>'+ \\\n",
    "            #str(row) + \\\n",
    "                   '\\n    '.join( [ '<td>'+value+'</td>' for value in row ] ) +\n",
    "          '\\n</tr>' for row in values ]) +\\\n",
    "        '</table>'\n",
    "\n",
    "    #print(table)\n",
    "    return IPython.display.HTML(table)\n",
    "\n",
    "text='''\n",
    "+-------+-------+-------+-----+\n",
    "  |  col1 | col2  |  col3 |col4 |  \n",
    "+-------+-------+-------+-----+\n",
    "|  val1 | val2  |  val3 |val4 |\n",
    "|  valu1|value2 |value3|val4|\n",
    "+-------+-------+-------+-----+\n",
    "'''\n",
    "retval = displayMysqlTableTextAsHTML(text)"
   ]
  },
  {
   "cell_type": "code",
   "execution_count": null,
   "metadata": {
    "collapsed": false
   },
   "outputs": [],
   "source": [
    "%%python\n",
    "\n",
    "s = \"\"\"<table>\n",
    "<tr>\n",
    "<th>Header 1</th>\n",
    "<th>Header 2</th>\n",
    "</tr>\n",
    "<tr>\n",
    "<td>row 1, cell 1</td>\n",
    "<td>row 1, cell 2</td>\n",
    "</tr>\n",
    "<tr>\n",
    "<td>row 2, cell 1</td>\n",
    "<td>row 2, cell 2</td>\n",
    "</tr>\n",
    "</table>\"\"\"\n",
    "\n",
    "#h = IPython.display.HTML(s); h\n",
    "h = IPython.display.HTML(s);\n",
    "#IPython.display(h)\n"
   ]
  },
  {
   "cell_type": "code",
   "execution_count": null,
   "metadata": {
    "collapsed": false
   },
   "outputs": [],
   "source": [
    "%%python\n",
    "\n",
    "from IPython.core.display import display, HTML\n",
    "display(HTML('<h1>Hello, world!</h1>'))\n",
    "IPython.display.HTML(\"<b>bold</b>\")"
   ]
  },
  {
   "cell_type": "code",
   "execution_count": null,
   "metadata": {
    "collapsed": true
   },
   "outputs": [],
   "source": [
    "%%python\n",
    "\n",
    "import IPython\n",
    "#from IPython.core.display import display, HTML\n",
    "IPython.display.HTML(\"<b>bold</b>\")"
   ]
  },
  {
   "cell_type": "code",
   "execution_count": null,
   "metadata": {
    "collapsed": true
   },
   "outputs": [],
   "source": [
    "%python import IPython; IPython.display.HTML(\"<b>bold</b>\")"
   ]
  },
  {
   "cell_type": "code",
   "execution_count": null,
   "metadata": {
    "collapsed": false
   },
   "outputs": [],
   "source": [
    "%python print(\"Hi from Python\")"
   ]
  },
  {
   "cell_type": "code",
   "execution_count": null,
   "metadata": {
    "collapsed": true
   },
   "outputs": [],
   "source": [
    "%set A 1\n",
    "%get A\n",
    "echo $A\n",
    "set\n",
    "pwd\n",
    "echo $PWD"
   ]
  },
  {
   "cell_type": "code",
   "execution_count": null,
   "metadata": {
    "collapsed": false
   },
   "outputs": [],
   "source": [
    "pwd"
   ]
  },
  {
   "cell_type": "code",
   "execution_count": null,
   "metadata": {
    "collapsed": true
   },
   "outputs": [],
   "source": [
    "%help"
   ]
  },
  {
   "cell_type": "code",
   "execution_count": null,
   "metadata": {
    "collapsed": false
   },
   "outputs": [],
   "source": [
    "%%debug\n",
    "echo \"HERE OK\"\n",
    "A=1\n",
    "B=2\n",
    "echo $A"
   ]
  },
  {
   "cell_type": "code",
   "execution_count": null,
   "metadata": {
    "collapsed": false
   },
   "outputs": [],
   "source": [
    "A=\"Hello World\"\n",
    "echo $A\n",
    "echo hi\n",
    "export A"
   ]
  },
  {
   "cell_type": "code",
   "execution_count": null,
   "metadata": {
    "collapsed": false
   },
   "outputs": [],
   "source": [
    "%%python\n",
    "\n",
    "import os\n",
    "\n",
    "print(os.getenv(\"A\"))"
   ]
  },
  {
   "cell_type": "code",
   "execution_count": null,
   "metadata": {
    "collapsed": false
   },
   "outputs": [],
   "source": [
    "%html <b>Be bold, ok!<b>"
   ]
  },
  {
   "cell_type": "code",
   "execution_count": null,
   "metadata": {
    "collapsed": true
   },
   "outputs": [],
   "source": [
    "%get A\n",
    "\n",
    "print(A)"
   ]
  },
  {
   "cell_type": "code",
   "execution_count": null,
   "metadata": {
    "collapsed": true
   },
   "outputs": [],
   "source": [
    "%help help"
   ]
  },
  {
   "cell_type": "code",
   "execution_count": null,
   "metadata": {
    "collapsed": false
   },
   "outputs": [],
   "source": [
    "%dot graph A { a->b };"
   ]
  },
  {
   "cell_type": "code",
   "execution_count": null,
   "metadata": {
    "collapsed": false
   },
   "outputs": [],
   "source": [
    "%%python\n",
    "\n",
    "import pydotplus as pydot\n",
    "\n"
   ]
  },
  {
   "cell_type": "code",
   "execution_count": null,
   "metadata": {
    "collapsed": false
   },
   "outputs": [],
   "source": [
    "%%python\n",
    "\n",
    "import os\n",
    "print(os.name)\n",
    "\n",
    "import platform\n",
    "print(platform.system())\n",
    "print(platform.platform())\n",
    "print(platform.machine())\n",
    "#print(platform.os)\n",
    "print(platform.release())\n",
    "print(platform.version())\n",
    "\n",
    "#print('\\n'.join(dir(platform)))\n"
   ]
  },
  {
   "cell_type": "code",
   "execution_count": null,
   "metadata": {
    "collapsed": false
   },
   "outputs": [],
   "source": [
    "uname -a"
   ]
  },
  {
   "cell_type": "code",
   "execution_count": null,
   "metadata": {
    "collapsed": false
   },
   "outputs": [],
   "source": [
    "uname"
   ]
  },
  {
   "cell_type": "code",
   "execution_count": null,
   "metadata": {
    "collapsed": false
   },
   "outputs": [],
   "source": [
    "%%file test.dot\n",
    "%%dot\n",
    "graph A { a->b->itworks };"
   ]
  },
  {
   "cell_type": "code",
   "execution_count": null,
   "metadata": {
    "collapsed": true
   },
   "outputs": [],
   "source": [
    "%load test.dot"
   ]
  },
  {
   "cell_type": "code",
   "execution_count": null,
   "metadata": {
    "collapsed": true
   },
   "outputs": [],
   "source": [
    "%%dot\n",
    "graph A { a->b->itworks };"
   ]
  },
  {
   "cell_type": "code",
   "execution_count": null,
   "metadata": {
    "collapsed": false
   },
   "outputs": [],
   "source": [
    "%%dot\n",
    "graph A { a->b->itworks };"
   ]
  },
  {
   "cell_type": "code",
   "execution_count": null,
   "metadata": {
    "collapsed": false
   },
   "outputs": [],
   "source": [
    "%%dot\n",
    "graph A { a->b->itworks };"
   ]
  },
  {
   "cell_type": "code",
   "execution_count": null,
   "metadata": {
    "collapsed": false
   },
   "outputs": [],
   "source": [
    "%%dot\n",
    "graph A { a->b->itworks };"
   ]
  },
  {
   "cell_type": "code",
   "execution_count": null,
   "metadata": {
    "collapsed": false
   },
   "outputs": [],
   "source": [
    "%%dot\n",
    "graph A { a->b->itworks };"
   ]
  },
  {
   "cell_type": "code",
   "execution_count": null,
   "metadata": {
    "collapsed": false
   },
   "outputs": [],
   "source": [
    "echo -e \"%%dot\\ngraph A { a->b->\\\"$(date)\\\" };\" > test2.dot"
   ]
  },
  {
   "cell_type": "code",
   "execution_count": null,
   "metadata": {
    "collapsed": false
   },
   "outputs": [],
   "source": [
    "%run test2.dot"
   ]
  },
  {
   "cell_type": "code",
   "execution_count": null,
   "metadata": {
    "collapsed": false
   },
   "outputs": [],
   "source": [
    "%%dot\n",
    "graph A { a->b->itworks };\n"
   ]
  },
  {
   "cell_type": "code",
   "execution_count": null,
   "metadata": {
    "collapsed": false
   },
   "outputs": [],
   "source": [
    "%%dot\n",
    "\n",
    "graph A { a->b->itworks };\n"
   ]
  },
  {
   "cell_type": "code",
   "execution_count": null,
   "metadata": {
    "collapsed": false
   },
   "outputs": [],
   "source": [
    "%%dot\n",
    "graph A { a->b->itworks };"
   ]
  },
  {
   "cell_type": "code",
   "execution_count": null,
   "metadata": {
    "collapsed": false
   },
   "outputs": [],
   "source": [
    "%run test.dot"
   ]
  },
  {
   "cell_type": "code",
   "execution_count": null,
   "metadata": {
    "collapsed": false
   },
   "outputs": [],
   "source": [
    "%dot graph A { a->b->c->d; b->d };"
   ]
  },
  {
   "cell_type": "code",
   "execution_count": null,
   "metadata": {
    "collapsed": false
   },
   "outputs": [],
   "source": [
    "%%dot\n",
    "graph A { a->b->c };"
   ]
  },
  {
   "cell_type": "code",
   "execution_count": null,
   "metadata": {
    "collapsed": false
   },
   "outputs": [],
   "source": [
    "echo \"Hello\""
   ]
  },
  {
   "cell_type": "code",
   "execution_count": null,
   "metadata": {
    "collapsed": false
   },
   "outputs": [],
   "source": [
    "%%python -e\n",
    "\"echo hello world from bash\""
   ]
  },
  {
   "cell_type": "code",
   "execution_count": null,
   "metadata": {
    "collapsed": true
   },
   "outputs": [],
   "source": [
    "%%python -e\n",
    "retval = \"'(echo this is code in the kernel language)\""
   ]
  },
  {
   "cell_type": "code",
   "execution_count": null,
   "metadata": {
    "collapsed": true
   },
   "outputs": [],
   "source": [
    "%%python -e\n",
    "\"'(echo this is code in the kernel language)\""
   ]
  },
  {
   "cell_type": "code",
   "execution_count": null,
   "metadata": {
    "collapsed": true
   },
   "outputs": [],
   "source": [
    "%%python -e\n",
    "\"date\""
   ]
  },
  {
   "cell_type": "code",
   "execution_count": null,
   "metadata": {
    "collapsed": false
   },
   "outputs": [],
   "source": [
    "%%python -e\n",
    "\"'(date)\""
   ]
  },
  {
   "cell_type": "code",
   "execution_count": null,
   "metadata": {
    "collapsed": false
   },
   "outputs": [],
   "source": [
    "%%python -e\n",
    "\"'echo this is code in the kernel language\""
   ]
  },
  {
   "cell_type": "code",
   "execution_count": null,
   "metadata": {
    "collapsed": true
   },
   "outputs": [],
   "source": [
    "%%show --output\n",
    "retval = 54 * 54"
   ]
  },
  {
   "cell_type": "code",
   "execution_count": null,
   "metadata": {
    "collapsed": false
   },
   "outputs": [],
   "source": [
    "%set pycmd \"print('Hello World')\""
   ]
  },
  {
   "cell_type": "code",
   "execution_count": null,
   "metadata": {
    "collapsed": false
   },
   "outputs": [],
   "source": [
    "%get pycmd"
   ]
  },
  {
   "cell_type": "code",
   "execution_count": null,
   "metadata": {
    "collapsed": true
   },
   "outputs": [],
   "source": []
  },
  {
   "cell_type": "code",
   "execution_count": null,
   "metadata": {
    "collapsed": false
   },
   "outputs": [],
   "source": [
    "%%time\n",
    "ls -al"
   ]
  },
  {
   "cell_type": "code",
   "execution_count": null,
   "metadata": {
    "collapsed": false
   },
   "outputs": [],
   "source": [
    "%html <u>This is underlined!</u>"
   ]
  },
  {
   "cell_type": "code",
   "execution_count": null,
   "metadata": {
    "collapsed": false
   },
   "outputs": [],
   "source": [
    "%javascript console.log(\"Print in the browser console\")\n",
    "%javascript alert(\"Show this popup!\")"
   ]
  },
  {
   "cell_type": "code",
   "execution_count": null,
   "metadata": {
    "collapsed": true
   },
   "outputs": [],
   "source": [
    "#%kernel bash_kernel BashKernel -k bash\n",
    "%kernel bash_kernel MetaKernel_Bash -k bash\n",
    "#%kx echo hello\n",
    "%kernel ls -al\n",
    "%kx ls -al"
   ]
  },
  {
   "cell_type": "code",
   "execution_count": null,
   "metadata": {
    "collapsed": false
   },
   "outputs": [],
   "source": [
    "%kx -k bash ls -al"
   ]
  },
  {
   "cell_type": "code",
   "execution_count": null,
   "metadata": {
    "collapsed": false
   },
   "outputs": [],
   "source": [
    "ls -al\n",
    "echo HELLO\n",
    "%load README.md"
   ]
  },
  {
   "cell_type": "code",
   "execution_count": null,
   "metadata": {
    "collapsed": false
   },
   "outputs": [],
   "source": [
    "%macro -l all"
   ]
  },
  {
   "cell_type": "code",
   "execution_count": null,
   "metadata": {
    "collapsed": true
   },
   "outputs": [],
   "source": [
    "%%macro my_test_macro\n",
    "#print \"Ok!\"\n",
    "#ls -al\n",
    "echo \"This is a test macro!\""
   ]
  },
  {
   "cell_type": "code",
   "execution_count": null,
   "metadata": {
    "collapsed": false
   },
   "outputs": [],
   "source": [
    "%macro my_test_macro"
   ]
  },
  {
   "cell_type": "code",
   "execution_count": null,
   "metadata": {
    "collapsed": false
   },
   "outputs": [],
   "source": [
    "%macro -l learned"
   ]
  },
  {
   "cell_type": "code",
   "execution_count": null,
   "metadata": {
    "collapsed": false
   },
   "outputs": [],
   "source": [
    "%macro -s my_test_macro"
   ]
  },
  {
   "cell_type": "code",
   "execution_count": null,
   "metadata": {
    "collapsed": false
   },
   "outputs": [],
   "source": [
    "myfunc() { echo \"My function with arg[$1]!\"; }"
   ]
  },
  {
   "cell_type": "code",
   "execution_count": null,
   "metadata": {
    "collapsed": false
   },
   "outputs": [],
   "source": [
    "myfunc test_arg"
   ]
  },
  {
   "cell_type": "code",
   "execution_count": null,
   "metadata": {
    "collapsed": false
   },
   "outputs": [],
   "source": [
    "%parallel bash_kernel BashKernel --i [0,2:5,9,...]"
   ]
  },
  {
   "cell_type": "code",
   "execution_count": null,
   "metadata": {
    "collapsed": true
   },
   "outputs": [],
   "source": [
    "%plot qt --format=png\n",
    "%plot inline -s 640,480"
   ]
  },
  {
   "cell_type": "code",
   "execution_count": null,
   "metadata": {
    "collapsed": false
   },
   "outputs": [],
   "source": [
    "%pmap function-name-in-language range(10)\n",
    "%pmap function-name-in-language [1,2,3,4]\n",
    "%pmap run_experiment range(1,100,5)\n",
    "%pmap run_experiment [\"test1\",\"test2\",\"test3\"]\n",
    "%pmap f [(1,4,7),(2,3,5),(7,2,2)]"
   ]
  },
  {
   "cell_type": "code",
   "execution_count": null,
   "metadata": {
    "collapsed": false
   },
   "outputs": [],
   "source": [
    "%%px\n",
    "(define myfunc\n",
    "   (lambda (n)\n",
    "     (+ n 1)))"
   ]
  },
  {
   "cell_type": "code",
   "execution_count": null,
   "metadata": {
    "collapsed": false
   },
   "outputs": [],
   "source": [
    "%px sys.version"
   ]
  },
  {
   "cell_type": "code",
   "execution_count": null,
   "metadata": {
    "collapsed": false
   },
   "outputs": [],
   "source": [
    "%lsmagic"
   ]
  },
  {
   "cell_type": "code",
   "execution_count": null,
   "metadata": {
    "collapsed": false
   },
   "outputs": [],
   "source": [
    "%%tutor --language=python3\n",
    "\n",
    "a=1\n",
    "print(a)"
   ]
  },
  {
   "cell_type": "code",
   "execution_count": null,
   "metadata": {
    "collapsed": false
   },
   "outputs": [],
   "source": [
    "%magic"
   ]
  },
  {
   "cell_type": "code",
   "execution_count": null,
   "metadata": {
    "collapsed": false
   },
   "outputs": [],
   "source": [
    "%ls"
   ]
  },
  {
   "cell_type": "code",
   "execution_count": null,
   "metadata": {
    "collapsed": false
   },
   "outputs": [],
   "source": [
    "# NOTE: Installed GraphViz for Windows from .msi (http://www.graphviz.org/Download_windows.php)\n",
    "# NOTE: Modified metakernel/magics/dot_magic.py to use\n",
    "#        import pydotplus as pydot\n",
    "%dot graph A { a->b };"
   ]
  },
  {
   "cell_type": "code",
   "execution_count": null,
   "metadata": {
    "collapsed": false
   },
   "outputs": [],
   "source": [
    "%%python\n",
    "\n",
    "import pydotplus as pydot\n",
    "\n",
    "pydot.graph_from_dot_data(\"graph A { a->b }\")"
   ]
  },
  {
   "cell_type": "code",
   "execution_count": null,
   "metadata": {
    "collapsed": false
   },
   "outputs": [],
   "source": [
    "%%python\n",
    "\n",
    "# -*- coding: utf-8 -*-\n",
    "\"\"\"\n",
    "pydot example 1\n",
    "@author: Federico Cáceres\n",
    "@url: http://pythonhaven.wordpress.com/2009/12/09/generating_graphs_with_pydot\n",
    "\"\"\"\n",
    "import pydotplus as pydot # import pydot or you're not going to get anywhere my friend :D\n",
    "\n",
    "# first you create a new graph, you do that with pydot.Dot()\n",
    "graph = pydot.Dot(graph_type='graph')\n",
    "\n",
    "# the idea here is not to cover how to represent the hierarchical data\n",
    "# but rather how to graph it, so I'm not going to work on some fancy\n",
    "# recursive function to traverse a multidimensional array...\n",
    "# I'm going to hardcode stuff... sorry if that offends you\n",
    "\n",
    "# let's add the relationship between the king and vassals\n",
    "for i in range(3):\n",
    "    # we can get right into action by \"drawing\" edges between the nodes in our graph\n",
    "    # we do not need to CREATE nodes, but if you want to give them some custom style\n",
    "    # then I would recomend you to do so... let's cover that later\n",
    "    # the pydot.Edge() constructor receives two parameters, a source node and a destination\n",
    "    # node, they are just strings like you can see\n",
    "    edge = pydot.Edge(\"king\", \"lord%d\" % i)\n",
    "    # and we obviosuly need to add the edge to our graph\n",
    "    graph.add_edge(edge)\n",
    "\n",
    "# now let us add some vassals\n",
    "vassal_num = 0\n",
    "for i in range(3):\n",
    "    # we create new edges, now between our previous lords and the new vassals\n",
    "    # let us create two vassals for each lord\n",
    "    for j in range(2):\n",
    "        edge = pydot.Edge(\"lord%d\" % i, \"vassal%d\" % vassal_num)\n",
    "        graph.add_edge(edge)\n",
    "        vassal_num += 1\n",
    "\n",
    "# ok, we are set, let's save our graph into a file\n",
    "graph.write_png('example1_graph.png')\n",
    "\n",
    "# and we are done!"
   ]
  },
  {
   "cell_type": "code",
   "execution_count": null,
   "metadata": {
    "collapsed": false
   },
   "outputs": [],
   "source": [
    "source /home/mjbright/src/git/GIT_mjbright/metakernel/metakernel_bash/metakernelrc"
   ]
  },
  {
   "cell_type": "code",
   "execution_count": null,
   "metadata": {
    "collapsed": false
   },
   "outputs": [],
   "source": [
    "lightning"
   ]
  },
  {
   "cell_type": "code",
   "execution_count": null,
   "metadata": {
    "collapsed": false
   },
   "outputs": [],
   "source": [
    "echo | html_table"
   ]
  },
  {
   "cell_type": "code",
   "execution_count": null,
   "metadata": {
    "collapsed": true
   },
   "outputs": [],
   "source": []
  }
 ],
 "metadata": {
  "celltoolbar": "Slideshow",
  "kernelspec": {
   "display_name": "MetaKernel Bash",
   "language": "bash",
   "name": "metakernel_bash"
  },
  "language_info": {
   "file_extension": ".sh",
   "help_links": [
    {
     "text": "MetaKernel Magics",
     "url": "https://github.com/calysto/metakernel/blob/master/metakernel/magics/README.md"
    }
   ],
   "mimetype": "text/x-bash",
   "name": "bash"
  }
 },
 "nbformat": 4,
 "nbformat_minor": 0
}
