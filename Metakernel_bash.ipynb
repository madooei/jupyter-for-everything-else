{
 "cells": [
  {
   "cell_type": "markdown",
   "metadata": {},
   "source": [
    "# TODO\n",
    "- Try \"display\" or D3.js like functionality for results of bash commands, e.g. du -s\n",
    "  - direct in cells, or via %%javascript, %%python magics\n",
    "- Try interactive widgets\n",
    "- Extend metakernel_bash with display, d3, interactive widgets, HTML table rendering"
   ]
  },
  {
   "cell_type": "code",
   "execution_count": 10,
   "metadata": {
    "collapsed": false,
    "slideshow": {
     "slide_type": "slide"
    }
   },
   "outputs": [
    {
     "data": {
      "text/plain": [
       "5-9680-1vkb5xl2.lock\n",
       "vagrant20160505-9680-53vi2v0505-15104-mqm7b0\n",
       "vagrant20160505-15104-mqm7b02\n",
       "vagrant20160505-15104-mqm7b02.lock\n",
       "vagrant20160505-15156-1vb4b91\n",
       "vagrant20160505-15156-6pk1y\n",
       "vagrant20160505-15156-6pk1y2\n",
       "vagrant20160505-15156-6pk1y2.lock\n",
       "vagrant20160505-15232-2keo8m\n",
       "vagrant20160505-15232-82fn5j\n",
       "vagrant20160505-15232-82fn5j2\n",
       "vagrant20160505-15232-82fn5j2.lock\n",
       "vagrant20160505-15244-12iun35\n",
       "vagrant20160505-15244-12iun352\n",
       "vagrant20160505-15244-12iun352.lock\n",
       "vagrant20160505-15244-sdeqnq\n",
       "vagrant20160505-1968-1ydnlqe\n",
       "vagrant20160505-1968-1ydnlqe2\n",
       "vagrant20160505-1968-1ydnlqe2.lock\n",
       "vagrant20160505-1968-8p3dcw\n",
       "vagrant20160505-3824-6ghj1g\n",
       "vagrant20160505-3824-edw8na\n",
       "vagrant20160505-3824-edw8na2\n",
       "vagrant20160505-3824-edw8na2.lock\n",
       "vagrant20160505-4532-1ohpkky\n",
       "vagrant20160505-4532-apud4w\n",
       "vagrant20160505-4532-apud4w2\n",
       "vagrant20160505-4532-apud4w2.lock\n",
       "vagrant20160505-5412-j4ejo2\n",
       "vagrant20160505-5412-j4ejo22\n",
       "vagrant20160505-5412-j4ejo22.lock\n",
       "vagrant20160505-5412-pips4\n",
       "vagrant20160505-5524-1nkjikt\n",
       "vagrant20160505-5524-1nkjikt2\n",
       "vagrant20160505-5524-1nkjikt2.lock\n",
       "vagrant20160505-5524-p20bl8\n",
       "vagrant20160505-7176-5k07lv\n",
       "vagrant20160505-7176-e8ku1m\n",
       "vagrant20160505-7176-e8ku1m2\n",
       "vagrant20160505-7176-e8ku1m2.lock\n",
       "vagrant20160505-7884-1ukim1o\n",
       "vagrant20160505-7884-1ukim1o2\n",
       "vagrant20160505-7884-1ukim1o2.lock\n",
       "vagrant20160505-7884-lyqd39\n",
       "vagrant20160505-8472-1i6txrz\n",
       "vagrant20160505-8472-jcoybr\n",
       "vagrant20160505-8472-jcoybr2\n",
       "vagrant20160505-8472-jcoybr2.lock\n",
       "vagrant20160505-8804-1iw7f4t\n",
       "vagrant20160505-8804-1iw7f4t2\n",
       "vagrant20160505-8804-1iw7f4t2.lock\n",
       "vagrant20160505-8804-wfyqac\n",
       "vagrant20160505-9232-1pg25ja\n",
       "vagrant20160505-9232-ody1rw\n",
       "vagrant20160505-9232-ody1rw2\n",
       "vagrant20160505-9232-ody1rw2.lock\n",
       "vagrant20160505-9284-s6v89u\n",
       "vagrant20160505-9284-s6v89u1\n",
       "vagrant20160505-9284-xbxh2s\n",
       "vagrant20160505-9284-xbxh2s2\n",
       "vagrant20160505-9284-xbxh2s2.lock\n",
       "vagrant20160505-9404-16b9tq1\n",
       "vagrant20160505-9404-16b9tq12\n",
       "vagrant20160505-9404-16b9tq12.lock\n",
       "vagrant20160505-9404-qu8p9j\n",
       "vagrant20160505-9680-1vkb5xl\n",
       "vagrant20160505-9680-1vkb5xl2\n",
       "vagrant2016050\n",
       "vagrant20160505-9868-17rgqo9\n",
       "vagrant20160505-9868-184ytif\n",
       "vagrant20160505-9868-184ytif2\n",
       "vagrant20160505-9868-184ytif2.lock\n",
       "vagrant20160505-9900-arrux8\n",
       "vagrant20160505-9900-arrux82\n",
       "vagrant20160505-9900-arrux82.lock\n",
       "vagrant20160505-9900-tjrh79"
      ]
     },
     "execution_count": 10,
     "metadata": {},
     "output_type": "execute_result"
    }
   ],
   "source": [
    "ls"
   ]
  },
  {
   "cell_type": "code",
   "execution_count": 11,
   "metadata": {
    "collapsed": false,
    "slideshow": {
     "slide_type": "subslide"
    }
   },
   "outputs": [
    {
     "data": {
      "text/plain": [
       "Domain Users    0 May  5 10:06 vagrant20160505-n Users   80 May  5 09:56 vagrant20160505-14176-1escr7h2\n",
       "-rwxr-xr-x  1 mjbright Domain Users 1972 May  5 09:56 vagrant20160505-14176-1escr7h2.lock\n",
       "drwxr-xr-x+ 1 mjbright Domain Users    0 May  5 10:03 d20160505-13296-1v9u94d\n",
       "-rwxr-xr-x  1 mjbright Domain Users    0 May  5 10:03 vagrant20160505-13296-17uf5ml\n",
       "-rwxr-xr-x  1 mjbright Domain Users   80 May  5 10:03 vagrant20160505-13296-1aelly12\n",
       "-rwxr-xr-x  1 mjbright Domain Users    0 May  5 10:03 vagrant20160505-13296-1aelly1\n",
       "-rwxr-xr-x  1 mjbright Domain Users 1972 May  5 10:03 vagrant20160505-13296-1aelly12.lock\n",
       "-rwxr-xr-x  1 mjbright Domain Users    0 May  5 10:03 vagrant20160505-15048-1x9whu7\n",
       "drwxr-xr-x+ 1 mjbright Domain Users    0 May  5 10:03 d20160505-15048-ar821s\n",
       "-rwxr-xr-x  1 mjbright Domain Users    0 May  5 10:03 vagrant20160505-15048-mgzgy3\n",
       "-rwxr-xr-x  1 mjbright Domain Users   80 May  5 10:03 vagrant20160505-15048-mgzgy32\n",
       "-rwxr-xr-x  1 mjbright Domain Users 1972 May  5 10:03 vagrant20160505-15048-mgzgy32.lock\n",
       "-rwxr-xr-x  1 mjbright Domain Users    0 May  5 10:04 vagrant20160505-15104-gqh97s\n",
       "drwxr-xr-x+ 1 mjbright Domain Users    0 May  5 10:04 d20160505-15104-12un5d5\n",
       "-rwxr-xr-x  1 mjbright Domain Users    0 May  5 10:04 vagrant20160505-15104-mqm7b0\n",
       "-rwxr-xr-x  1 mjbright Domain Users   80 May  5 10:04 vagrant20160505-15104-mqm7b02\n",
       "-rwxr-xr-x  1 mjbright Domain Users 1972 May  5 10:04 vagrant20160505-15104-mqm7b02.lock\n",
       "drwxr-xr-x+ 1 mjbright Domain Users    0 May  5 10:05 d20160505-9404-1av91z0\n",
       "-rwxr-xr-x  1 mjbright Domain Users    0 May  5 10:05 vagrant20160505-9404-qu8p9j\n",
       "-rwxr-xr-x  1 mjbright Domain Users    0 May  5 10:05 vagrant20160505-9404-16b9tq1\n",
       "-rwxr-xr-x  1 mjbright Domain Users   80 May  5 10:05 vagrant20160505-9404-16b9tq12\n",
       "-rwxr-xr-x  1 mjbright Domain Users 1972 May  5 10:05 vagrant20160505-9404-16b9tq12.lock\n",
       "drwxr-xr-x+ 1 mjbright Domain Users    0 May  5 10:06 d20160505-14996-9t03q1\n",
       "-rwxr-xr-x  1 mjbright Domain Users    0 May  5 10:06 vagrant20160505-14996-1gcybmp\n",
       "-rwxr-xr-x  1 mjbright14996-1f659ll\n",
       "-rwxr-xr-x  1 mjbright Domain Users   80 May  5 10:06 vagrant20160505-14996-1gcybmp2\n",
       "-rwxr-xr-x  1 mjbright Domain Users 1972 May  5 10:06 vagrant20160505-14996-1gcybmp2.lock\n",
       "drwxr-xr-x+ 1 mjbright Domain Users    0 May  5 10:07 d20160505-11856-67ia28\n",
       "-rwxr-xr-x  1 mjbright Domain Users    0 May  5 10:07 vagrant20160505-11856-1sgozqn\n",
       "-rwxr-xr-x  1 mjbright Domain Users   80 May  5 10:07 vagrant20160505-11856-18v248f2\n",
       "-rwxr-xr-x  1 mjbright Domain Users    0 May  5 10:07 vagrant20160505-11856-18v248f\n",
       "-rwxr-xr-x  1 mjbright Domain Users 1972 May  5 10:07 vagrant20160505-11856-18v248f2.lock\n",
       "drwxr-xr-x+ 1 mjbright Domain Users    0 May  5 20:40 d20160505-7884-1oumyui\n",
       "-rwxr-xr-x  1 mjbright Domain Users    0 May  5 20:40 vagrant20160505-7884-lyqd39\n",
       "-rwxr-xr-x  1 mjbright Domain Users    0 May  5 20:40 vagrant20160505-7884-1ukim1o\n",
       "-rwxr-xr-x  1 mjbright Domain Users   80 May  5 20:40 vagrant20160505-7884-1ukim1o2\n",
       "-rwxr-xr-x  1 mjbright Domain Users 1972 May  5 20:40 vagrant20160505-7884-1ukim1o2.lock\n",
       "-rw-r--r--  1 mjbright Domain Users  133 May  6 16:24 matched1.txt\n",
       "-rw-r--r--  1 mjbright Domain Users 2058 May  6 16:24 matched.txt\n",
       "drwxr-xr-x+ 1 mjbright Domain Users    0 May  6 19:28 gen_py\n",
       "drwxrwxrwt+ 1 mjbright Domain Users    0 May  6 20:09 ."
      ]
     },
     "execution_count": 11,
     "metadata": {},
     "output_type": "execute_result"
    }
   ],
   "source": [
    "ls -altr"
   ]
  },
  {
   "cell_type": "code",
   "execution_count": 12,
   "metadata": {
    "collapsed": false,
    "slideshow": {
     "slide_type": "subslide"
    }
   },
   "outputs": [
    {
     "data": {
      "text/plain": [
       "Domain Users    0 May  5 10:06 vagrant20160505-n Users   80 May  5 09:56 vagrant20160505-14176-1escr7h2\n",
       "-rwxr-xr-x  1 mjbright Domain Users 1972 May  5 09:56 vagrant20160505-14176-1escr7h2.lock\n",
       "drwxr-xr-x+ 1 mjbright Domain Users    0 May  5 10:03 d20160505-13296-1v9u94d\n",
       "-rwxr-xr-x  1 mjbright Domain Users    0 May  5 10:03 vagrant20160505-13296-17uf5ml\n",
       "-rwxr-xr-x  1 mjbright Domain Users   80 May  5 10:03 vagrant20160505-13296-1aelly12\n",
       "-rwxr-xr-x  1 mjbright Domain Users    0 May  5 10:03 vagrant20160505-13296-1aelly1\n",
       "-rwxr-xr-x  1 mjbright Domain Users 1972 May  5 10:03 vagrant20160505-13296-1aelly12.lock\n",
       "-rwxr-xr-x  1 mjbright Domain Users    0 May  5 10:03 vagrant20160505-15048-1x9whu7\n",
       "drwxr-xr-x+ 1 mjbright Domain Users    0 May  5 10:03 d20160505-15048-ar821s\n",
       "-rwxr-xr-x  1 mjbright Domain Users    0 May  5 10:03 vagrant20160505-15048-mgzgy3\n",
       "-rwxr-xr-x  1 mjbright Domain Users   80 May  5 10:03 vagrant20160505-15048-mgzgy32\n",
       "-rwxr-xr-x  1 mjbright Domain Users 1972 May  5 10:03 vagrant20160505-15048-mgzgy32.lock\n",
       "-rwxr-xr-x  1 mjbright Domain Users    0 May  5 10:04 vagrant20160505-15104-gqh97s\n",
       "drwxr-xr-x+ 1 mjbright Domain Users    0 May  5 10:04 d20160505-15104-12un5d5\n",
       "-rwxr-xr-x  1 mjbright Domain Users    0 May  5 10:04 vagrant20160505-15104-mqm7b0\n",
       "-rwxr-xr-x  1 mjbright Domain Users   80 May  5 10:04 vagrant20160505-15104-mqm7b02\n",
       "-rwxr-xr-x  1 mjbright Domain Users 1972 May  5 10:04 vagrant20160505-15104-mqm7b02.lock\n",
       "drwxr-xr-x+ 1 mjbright Domain Users    0 May  5 10:05 d20160505-9404-1av91z0\n",
       "-rwxr-xr-x  1 mjbright Domain Users    0 May  5 10:05 vagrant20160505-9404-qu8p9j\n",
       "-rwxr-xr-x  1 mjbright Domain Users    0 May  5 10:05 vagrant20160505-9404-16b9tq1\n",
       "-rwxr-xr-x  1 mjbright Domain Users   80 May  5 10:05 vagrant20160505-9404-16b9tq12\n",
       "-rwxr-xr-x  1 mjbright Domain Users 1972 May  5 10:05 vagrant20160505-9404-16b9tq12.lock\n",
       "drwxr-xr-x+ 1 mjbright Domain Users    0 May  5 10:06 d20160505-14996-9t03q1\n",
       "-rwxr-xr-x  1 mjbright Domain Users    0 May  5 10:06 vagrant20160505-14996-1gcybmp\n",
       "-rwxr-xr-x  1 mjbright14996-1f659ll\n",
       "-rwxr-xr-x  1 mjbright Domain Users   80 May  5 10:06 vagrant20160505-14996-1gcybmp2\n",
       "-rwxr-xr-x  1 mjbright Domain Users 1972 May  5 10:06 vagrant20160505-14996-1gcybmp2.lock\n",
       "drwxr-xr-x+ 1 mjbright Domain Users    0 May  5 10:07 d20160505-11856-67ia28\n",
       "-rwxr-xr-x  1 mjbright Domain Users    0 May  5 10:07 vagrant20160505-11856-1sgozqn\n",
       "-rwxr-xr-x  1 mjbright Domain Users   80 May  5 10:07 vagrant20160505-11856-18v248f2\n",
       "-rwxr-xr-x  1 mjbright Domain Users    0 May  5 10:07 vagrant20160505-11856-18v248f\n",
       "-rwxr-xr-x  1 mjbright Domain Users 1972 May  5 10:07 vagrant20160505-11856-18v248f2.lock\n",
       "drwxr-xr-x+ 1 mjbright Domain Users    0 May  5 20:40 d20160505-7884-1oumyui\n",
       "-rwxr-xr-x  1 mjbright Domain Users    0 May  5 20:40 vagrant20160505-7884-lyqd39\n",
       "-rwxr-xr-x  1 mjbright Domain Users    0 May  5 20:40 vagrant20160505-7884-1ukim1o\n",
       "-rwxr-xr-x  1 mjbright Domain Users   80 May  5 20:40 vagrant20160505-7884-1ukim1o2\n",
       "-rwxr-xr-x  1 mjbright Domain Users 1972 May  5 20:40 vagrant20160505-7884-1ukim1o2.lock\n",
       "-rw-r--r--  1 mjbright Domain Users  133 May  6 16:24 matched1.txt\n",
       "-rw-r--r--  1 mjbright Domain Users 2058 May  6 16:24 matched.txt\n",
       "drwxr-xr-x+ 1 mjbright Domain Users    0 May  6 19:28 gen_py\n",
       "drwxrwxrwt+ 1 mjbright Domain Users    0 May  6 20:09 ."
      ]
     },
     "execution_count": 12,
     "metadata": {},
     "output_type": "execute_result"
    }
   ],
   "source": [
    "cd /tmp\n",
    "ls -altr"
   ]
  },
  {
   "cell_type": "code",
   "execution_count": 13,
   "metadata": {
    "collapsed": false,
    "slideshow": {
     "slide_type": "subslide"
    }
   },
   "outputs": [
    {
     "data": {
      "text/plain": [
       "/tmp"
      ]
     },
     "execution_count": 13,
     "metadata": {},
     "output_type": "execute_result"
    }
   ],
   "source": [
    "pwd"
   ]
  },
  {
   "cell_type": "code",
   "execution_count": 14,
   "metadata": {
    "collapsed": false,
    "slideshow": {
     "slide_type": "subslide"
    }
   },
   "outputs": [
    {
     "data": {
      "text/plain": [
       "Filesystem       Size  Used Avail Use% Mounted on\n",
       "C:/tools/cygwin  465G  103G  363G  22% /"
      ]
     },
     "execution_count": 14,
     "metadata": {},
     "output_type": "execute_result"
    }
   ],
   "source": [
    "df -h"
   ]
  },
  {
   "cell_type": "code",
   "execution_count": 15,
   "metadata": {
    "collapsed": false,
    "slideshow": {
     "slide_type": "slide"
    }
   },
   "outputs": [
    {
     "name": "stdout",
     "output_type": "stream",
     "text": [
      "Line magics:\n",
      "    %activity FILENAME - run a widget-based activity\n",
      "    %cd PATH - change current directory of session\n",
      "    %connect_info - show connection information\n",
      "    %dot CODE - render code as Graphviz image\n",
      "    %download URL [-f FILENAME] - download file from URL\n",
      "    %edit FILENAME - load code from filename into next cell for editing\n",
      "    %get VARIABLE - get a variable from the kernel in a Python-type.\n",
      "    %help TEXT - get help on the given text\n",
      "    %html CODE - display code as HTML\n",
      "    %include FILENAME ... - include code from filename into this code\n",
      "    %install PACKAGE - install package\n",
      "    %install_magic URL - download and install magic from URL\n",
      "    %javascript CODE - send code as JavaScript\n",
      "    %jigsaw LANGUAGE - show visual code editor/generator\n",
      "    %kernel MODULE CLASS [-k NAME] - construct a kernel for sending code.\n",
      "    %kx CODE [-k NAME] - send the code to the kernel.\n",
      "    %latex TEXT - display text as LaTeX\n",
      "    %load FILENAME - load code from filename into next cell\n",
      "    %ls PATH - list files and directories under PATH\n",
      "    %lsmagic - list the current line and cell magics\n",
      "    %macro NAME - execute a macro\n",
      "    %magic - show installed magics\n",
      "    %parallel MODULE CLASS [-k NAME] [-i [...]] - construct an interface to the cluster.\n",
      "    %plot [options] backend - configure plotting for the session.\n",
      "    %pmap FUNCTION [ARGS1,ARGS2,...] - (\"parallel map\") call a FUNCTION on args\n",
      "    %px EXPRESSION - send EXPRESSION to the cluster.\n",
      "    %python CODE - evaluate code as Python\n",
      "    %reload_magics - reload the magics from the installed files\n",
      "    %restart - restart session\n",
      "    %run [--language LANG] FILENAME - run code in filename by\n",
      "    %set VARIABLE VALUE - set a variable in the kernel.\n",
      "    %shell COMMAND - run the line as a shell command\n",
      "\n",
      "Cell magics:\n",
      "     %%shell - run the contents of the cell as shell commands\n",
      "    %%activity FILENAME - make an activity from\n",
      "    %%brain - run a cell as brain control code\n",
      "    %%debug - step through the code expression by expression\n",
      "    %%dot - render contents of cell as Graphviz image\n",
      "    %%file [--append|-a] FILENAME - write contents of cell to file\n",
      "    %%help TEXT - get detailed help on the given text\n",
      "    %%html - display contents of cell as HTML\n",
      "    %%javascript - send contents of cell as JavaScript\n",
      "    %%kx [-k NAME] - send the cell code to the kernel.\n",
      "    %%latex - display contents of cell as LaTeX\n",
      "    %%macro NAME - learn a new macro\n",
      "    %%processing - run the cell in the language Processing\n",
      "    %%px - send cell to the cluster.\n",
      "    %%python - evaluate contents of cell as Python\n",
      "    %%show [-o]- show cell contents or results in system pager\n",
      "    %%time - show time to run cell\n",
      "    %%tutor [--language=LANGUAGE] - show cell with\n",
      "\n",
      "Shell shortcut:\n",
      "    ! COMMAND ... - execute command in shell\n",
      "\n",
      "Any cell magic can be made persistent for rest of session by using %%% prefix.\n",
      "\n",
      "Help on items:\n"
     ]
    },
    {
     "name": "stderr",
     "output_type": "stream",
     "text": [
      "Error in calling magic 'magic' on line:\n",
      "    string indices must be integers\n",
      "    args: []\n",
      "    kwargs: {}\n",
      "Traceback (most recent call last):\n",
      "  File \"C:\\Progs\\Anaconda3\\lib\\site-packages\\metakernel-0.12.6-py3.5.egg\\metakernel\\magic.py\", line 81, in call_magic\n",
      "    func(*args, **kwargs)\n",
      "TypeError: line_magic() missing 1 required positional argument: 'line'\n",
      "\n",
      "During handling of the above exception, another exception occurred:\n",
      "\n",
      "Traceback (most recent call last):\n",
      "  File \"C:\\Progs\\Anaconda3\\lib\\site-packages\\metakernel-0.12.6-py3.5.egg\\metakernel\\magic.py\", line 83, in call_magic\n",
      "    func(old_args)\n",
      "  File \"C:\\Progs\\Anaconda3\\lib\\site-packages\\metakernel-0.12.6-py3.5.egg\\metakernel\\magics\\magic_magic.py\", line 44, in line_magic\n",
      "    for string in self.kernel.line_magics['help'].help_strings():\n",
      "  File \"C:\\Progs\\Anaconda3\\lib\\site-packages\\metakernel-0.12.6-py3.5.egg\\metakernel\\magics\\help_magic.py\", line 22, in help_strings\n",
      "    for s in suffixes]\n",
      "  File \"C:\\Progs\\Anaconda3\\lib\\site-packages\\metakernel-0.12.6-py3.5.egg\\metakernel\\magics\\help_magic.py\", line 22, in <listcomp>\n",
      "    for s in suffixes]\n",
      "TypeError: string indices must be integers\n",
      "\n",
      "%magic - show installed magics\n",
      "\n",
      "This line magic shows all of the install magics, either from\n",
      "the system magic folder, or your own private magic folder.\n"
     ]
    }
   ],
   "source": [
    "%magic"
   ]
  },
  {
   "cell_type": "code",
   "execution_count": 16,
   "metadata": {
    "collapsed": false,
    "slideshow": {
     "slide_type": "slide"
    }
   },
   "outputs": [
    {
     "name": "stdout",
     "output_type": "stream",
     "text": [
      "Hello World\n"
     ]
    }
   ],
   "source": [
    "%%python\n",
    "\n",
    "print(\"Hello World\")"
   ]
  },
  {
   "cell_type": "code",
   "execution_count": 17,
   "metadata": {
    "collapsed": false,
    "slideshow": {
     "slide_type": "slide"
    }
   },
   "outputs": [
    {
     "data": {
      "text/html": [
       "<h1> Some hypertext </h1>"
      ],
      "text/plain": [
       "<IPython.core.display.HTML object>"
      ]
     },
     "metadata": {},
     "output_type": "display_data"
    }
   ],
   "source": [
    "%%html\n",
    "<h1> Some hypertext </h1>"
   ]
  },
  {
   "cell_type": "code",
   "execution_count": null,
   "metadata": {
    "collapsed": true
   },
   "outputs": [],
   "source": []
  }
 ],
 "metadata": {
  "celltoolbar": "Slideshow",
  "kernelspec": {
   "display_name": "MetaKernel Bash",
   "language": "bash",
   "name": "metakernel_bash"
  },
  "language_info": {
   "file_extension": ".sh",
   "help_links": [
    {
     "text": "MetaKernel Magics",
     "url": "https://github.com/calysto/metakernel/blob/master/metakernel/magics/README.md"
    }
   ],
   "mimetype": "text/x-bash",
   "name": "bash"
  }
 },
 "nbformat": 4,
 "nbformat_minor": 0
}
