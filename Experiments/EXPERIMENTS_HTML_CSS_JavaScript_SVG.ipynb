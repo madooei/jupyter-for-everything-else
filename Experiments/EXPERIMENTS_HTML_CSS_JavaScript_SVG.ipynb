{
 "cells": [
  {
   "cell_type": "markdown",
   "metadata": {},
   "source": [
    "In the IPython kernel we can use\n",
    "- **%%html** (for html, css, javascript or even svg), and\n",
    "- **%%javascript**\n",
    "- **%%svg**\n",
    "\n",
    "magics to experiment with HTML, CSS, Javascript, SVG\n",
    "\n",
    "**Note:** This example notebook is using a Python3 kernel, so these are IPython magics, but some other kernels might also implement these magics\n",
    "- e.g. kernels based on Calysto Metakernel, such as Metakernel_bash.\n",
    "\n",
    "Below we list the IPython magics:\n"
   ]
  },
  {
   "cell_type": "code",
   "execution_count": 66,
   "metadata": {
    "collapsed": false
   },
   "outputs": [
    {
     "data": {
      "application/json": {
       "cell": {
        "!": "OSMagics",
        "HTML": "Other",
        "SVG": "Other",
        "bash": "Other",
        "capture": "ExecutionMagics",
        "cmd": "Other",
        "debug": "ExecutionMagics",
        "file": "Other",
        "html": "DisplayMagics",
        "javascript": "DisplayMagics",
        "latex": "DisplayMagics",
        "perl": "Other",
        "prun": "ExecutionMagics",
        "pypy": "Other",
        "python": "Other",
        "python2": "Other",
        "python3": "Other",
        "ruby": "Other",
        "script": "ScriptMagics",
        "sh": "Other",
        "svg": "DisplayMagics",
        "sx": "OSMagics",
        "system": "OSMagics",
        "time": "ExecutionMagics",
        "timeit": "ExecutionMagics",
        "writefile": "OSMagics"
       },
       "line": {
        "alias": "OSMagics",
        "alias_magic": "BasicMagics",
        "autocall": "AutoMagics",
        "automagic": "AutoMagics",
        "autosave": "KernelMagics",
        "bookmark": "OSMagics",
        "cd": "OSMagics",
        "clear": "KernelMagics",
        "cls": "KernelMagics",
        "colors": "BasicMagics",
        "config": "ConfigMagics",
        "connect_info": "KernelMagics",
        "copy": "Other",
        "ddir": "Other",
        "debug": "ExecutionMagics",
        "dhist": "OSMagics",
        "dirs": "OSMagics",
        "doctest_mode": "BasicMagics",
        "echo": "Other",
        "ed": "Other",
        "edit": "KernelMagics",
        "env": "OSMagics",
        "gui": "BasicMagics",
        "hist": "Other",
        "history": "HistoryMagics",
        "install_default_config": "DeprecatedMagics",
        "install_ext": "ExtensionMagics",
        "install_profiles": "DeprecatedMagics",
        "killbgscripts": "ScriptMagics",
        "ldir": "Other",
        "less": "KernelMagics",
        "load": "CodeMagics",
        "load_ext": "ExtensionMagics",
        "loadpy": "CodeMagics",
        "logoff": "LoggingMagics",
        "logon": "LoggingMagics",
        "logstart": "LoggingMagics",
        "logstate": "LoggingMagics",
        "logstop": "LoggingMagics",
        "ls": "Other",
        "lsmagic": "BasicMagics",
        "macro": "ExecutionMagics",
        "magic": "BasicMagics",
        "matplotlib": "PylabMagics",
        "mkdir": "Other",
        "more": "KernelMagics",
        "notebook": "BasicMagics",
        "page": "BasicMagics",
        "pastebin": "CodeMagics",
        "pdb": "ExecutionMagics",
        "pdef": "NamespaceMagics",
        "pdoc": "NamespaceMagics",
        "pfile": "NamespaceMagics",
        "pinfo": "NamespaceMagics",
        "pinfo2": "NamespaceMagics",
        "popd": "OSMagics",
        "pprint": "BasicMagics",
        "precision": "BasicMagics",
        "profile": "BasicMagics",
        "prun": "ExecutionMagics",
        "psearch": "NamespaceMagics",
        "psource": "NamespaceMagics",
        "pushd": "OSMagics",
        "pwd": "OSMagics",
        "pycat": "OSMagics",
        "pylab": "PylabMagics",
        "qtconsole": "KernelMagics",
        "quickref": "BasicMagics",
        "recall": "HistoryMagics",
        "rehashx": "OSMagics",
        "reload_ext": "ExtensionMagics",
        "ren": "Other",
        "rep": "Other",
        "rerun": "HistoryMagics",
        "reset": "NamespaceMagics",
        "reset_selective": "NamespaceMagics",
        "rmdir": "Other",
        "run": "ExecutionMagics",
        "save": "CodeMagics",
        "sc": "OSMagics",
        "set_env": "OSMagics",
        "store": "StoreMagics",
        "sx": "OSMagics",
        "system": "OSMagics",
        "tb": "ExecutionMagics",
        "time": "ExecutionMagics",
        "timeit": "ExecutionMagics",
        "unalias": "OSMagics",
        "unload_ext": "ExtensionMagics",
        "who": "NamespaceMagics",
        "who_ls": "NamespaceMagics",
        "whos": "NamespaceMagics",
        "xdel": "NamespaceMagics",
        "xmode": "BasicMagics"
       }
      },
      "text/plain": [
       "Available line magics:\n",
       "%alias  %alias_magic  %autocall  %automagic  %autosave  %bookmark  %cd  %clear  %cls  %colors  %config  %connect_info  %copy  %ddir  %debug  %dhist  %dirs  %doctest_mode  %echo  %ed  %edit  %env  %gui  %hist  %history  %install_default_config  %install_ext  %install_profiles  %killbgscripts  %ldir  %less  %load  %load_ext  %loadpy  %logoff  %logon  %logstart  %logstate  %logstop  %ls  %lsmagic  %macro  %magic  %matplotlib  %mkdir  %more  %notebook  %page  %pastebin  %pdb  %pdef  %pdoc  %pfile  %pinfo  %pinfo2  %popd  %pprint  %precision  %profile  %prun  %psearch  %psource  %pushd  %pwd  %pycat  %pylab  %qtconsole  %quickref  %recall  %rehashx  %reload_ext  %ren  %rep  %rerun  %reset  %reset_selective  %rmdir  %run  %save  %sc  %set_env  %store  %sx  %system  %tb  %time  %timeit  %unalias  %unload_ext  %who  %who_ls  %whos  %xdel  %xmode\n",
       "\n",
       "Available cell magics:\n",
       "%%!  %%HTML  %%SVG  %%bash  %%capture  %%cmd  %%debug  %%file  %%html  %%javascript  %%latex  %%perl  %%prun  %%pypy  %%python  %%python2  %%python3  %%ruby  %%script  %%sh  %%svg  %%sx  %%system  %%time  %%timeit  %%writefile\n",
       "\n",
       "Automagic is ON, % prefix IS NOT needed for line magics."
      ]
     },
     "execution_count": 66,
     "metadata": {},
     "output_type": "execute_result"
    }
   ],
   "source": [
    "%lsmagic"
   ]
  },
  {
   "cell_type": "markdown",
   "metadata": {},
   "source": [
    "## HTML\n",
    "\n",
    "We can write html (*possibly accompanied by CSS, Javascript, SVG*) to the notebook using\n",
    "- %%html cell magic\n",
    "or within an IPython kernel via the display and HTML functions\n",
    "\n",
    "e.g. with %%html cell magic:"
   ]
  },
  {
   "cell_type": "code",
   "execution_count": 13,
   "metadata": {
    "collapsed": false
   },
   "outputs": [
    {
     "data": {
      "text/html": [
       "<h4> Here is a H4 header </H4>"
      ],
      "text/plain": [
       "<IPython.core.display.HTML object>"
      ]
     },
     "metadata": {},
     "output_type": "display_data"
    }
   ],
   "source": [
    "%%html\n",
    "<h4> Here is a H4 header </H4>"
   ]
  },
  {
   "cell_type": "markdown",
   "metadata": {},
   "source": [
    "Or using Python:"
   ]
  },
  {
   "cell_type": "code",
   "execution_count": 17,
   "metadata": {
    "collapsed": false
   },
   "outputs": [
    {
     "data": {
      "text/html": [
       "<h4>Here is an H4 header [Written from Python] </h4>"
      ],
      "text/plain": [
       "<IPython.core.display.HTML object>"
      ]
     },
     "metadata": {},
     "output_type": "display_data"
    }
   ],
   "source": [
    "from IPython.core.display import display,HTML\n",
    "display(HTML('<h4>Here is an H4 header [{}] </h4>'.format(\"Written from Python\")))"
   ]
  },
  {
   "cell_type": "markdown",
   "metadata": {},
   "source": [
    "When writing HTML we must be careful not to overwrite parts of the notebook HTML itself\n",
    "- Choose id, class values without conflict\n",
    "- Not overwrite the body\n",
    "\n",
    "... unless you want to play of course ...\n",
    "\n",
    "we can insert CSS, SVG, javascript as required\n"
   ]
  },
  {
   "cell_type": "code",
   "execution_count": null,
   "metadata": {
    "collapsed": true
   },
   "outputs": [],
   "source": [
    "%%html\n",
    "\n",
    "<pre>\n",
    "   A bit of HTML mixed with ...\n",
    "</pre>\n",
    "\n",
    "<style>\n",
    "   #test_styled {\n",
    "    text-align: center;\n",
    "    color: red;\n",
    "}\n",
    "</style>\n",
    "\n",
    "<h4>Some CSS styled text:</h4>\n",
    "<div id=\"test_styled\">\n",
    "   Some styled text\n",
    "</div>\n",
    "\n",
    "<h4>Some JavaScript controlled text to the console (hidden):</h4>\n",
    "<br/>\n",
    "you'll need to open a debugger to view the text.\n",
    "<br/>\n",
    "                                           \n",
    "<script>\n",
    "    console.log(\"Let's write some text to the browser console\")\n",
    "</script>\n",
    "\n",
    "<h4>Some JavaScript controlled text to parts of the page:</h4>\n",
    "                                           \n",
    "We can also write to an element of our page from javascript"
   ]
  },
  {
   "cell_type": "code",
   "execution_count": 67,
   "metadata": {
    "collapsed": false
   },
   "outputs": [
    {
     "data": {
      "text/html": [
       "<div id=\"test_text\">\n",
       "   PLACE HOLDER TEXT FOR NOW\n",
       "</div>\n",
       "   "
      ],
      "text/plain": [
       "<IPython.core.display.HTML object>"
      ]
     },
     "metadata": {},
     "output_type": "display_data"
    }
   ],
   "source": [
    "%%html\n",
    "<div id=\"test_text\">\n",
    "   PLACE HOLDER TEXT FOR NOW\n",
    "</div>\n",
    "   "
   ]
  },
  {
   "cell_type": "code",
   "execution_count": 69,
   "metadata": {
    "collapsed": false
   },
   "outputs": [
    {
     "data": {
      "text/html": [
       "<script>\n",
       "    document.getElementById(\"test_text\").innerHTML = '<b><i><u>We can place this text ...</b></i></u>'\n",
       "</script>"
      ],
      "text/plain": [
       "<IPython.core.display.HTML object>"
      ]
     },
     "metadata": {},
     "output_type": "display_data"
    }
   ],
   "source": [
    "%%html                                        \n",
    "<script>\n",
    "    document.getElementById(\"test_text\").innerHTML = '<b><i><u>We can place this text ...</b></i></u>'\n",
    "</script>"
   ]
  },
  {
   "cell_type": "markdown",
   "metadata": {},
   "source": [
    "## Javascript\n",
    "\n",
    "We can of course send output from java script to\n",
    "- an alert popup, via window.alert(): which can be a bit of a pain\n",
    "- to the browser console, vai console.log(): which is fine if you want to have the debugger running\n",
    "- into an HTML element, by modifying it's innerHTML attribute\n",
    "\n",
    "We cannot just use document.write() as this will overwrite the notebook output itself.\n"
   ]
  },
  {
   "cell_type": "markdown",
   "metadata": {},
   "source": [
    "It can be a useful way to experiment with html, css, javascript, svg\n",
    "and to keep a record (a narrative!)\n",
    "\n",
    "The following shows how we can directly embed javascript into the page.\n",
    "This example creates a popup displaying the version of jQuery we are running"
   ]
  },
  {
   "cell_type": "code",
   "execution_count": 115,
   "metadata": {
    "collapsed": false
   },
   "outputs": [
    {
     "data": {
      "application/javascript": [
       "alert( \"You are running jQuery version: \" + $.fn.jquery );"
      ],
      "text/plain": [
       "<IPython.core.display.Javascript object>"
      ]
     },
     "metadata": {},
     "output_type": "display_data"
    }
   ],
   "source": [
    "%%javascript\n",
    "alert( \"You are running jQuery version: \" + $.fn.jquery );"
   ]
  },
  {
   "cell_type": "code",
   "execution_count": 116,
   "metadata": {
    "collapsed": false
   },
   "outputs": [
    {
     "data": {
      "text/html": [
       "<script src=\"https://code.jquery.com/jquery-3.0.0.min.js\"></script>\n",
       "<script>\n",
       "alert($.fn.jquery)\n",
       "</script>"
      ],
      "text/plain": [
       "<IPython.core.display.HTML object>"
      ]
     },
     "metadata": {},
     "output_type": "display_data"
    }
   ],
   "source": [
    "%%html\n",
    "<script src=\"https://code.jquery.com/jquery-3.0.0.min.js\"></script>\n",
    "<script>\n",
    "alert($.fn.jquery)\n",
    "</script>"
   ]
  },
  {
   "cell_type": "code",
   "execution_count": 128,
   "metadata": {
    "collapsed": false
   },
   "outputs": [
    {
     "data": {
      "text/html": [
       "\n",
       "<!-- See\n",
       "        http://stackoverflow.com/questions/1566595/can-i-use-multiple-versions-of-jquery-on-the-same-page\n",
       "-->\n",
       "\n",
       "<!-- load jQuery 1.1.3 -->\n",
       "<script type=\"text/javascript\" src=\"http://example.com/jquery-1.1.3.js\"></script>\n",
       "<script type=\"text/javascript\">\n",
       "//var jQuery_1_1_3 = $.noConflict(true);\n",
       "var $jQuery_1_1_3 = jQuery.noConflict(true);\n",
       "alert( \"You are running jQuery version XX: \" + $jQuery_1_1_3.fn.jquery );\n",
       "</script>\n",
       "\n",
       "<!-- load jQuery 1.3.2 -->\n",
       "<script type=\"text/javascript\" src=\"http://example.com/jquery-1.3.2.js\"></script>\n",
       "<script type=\"text/javascript\">\n",
       "var $jQuery_1_3_2 = jQuery.noConflict(true);\n",
       "alert( \"You are running jQuery version: \" + $jQuery_1_3_2.fn.jquery );\n",
       "</script>\n",
       "\n",
       "<script>\n",
       "alert( \"You are running jQuery version: \" + $.fn.jquery );\n",
       "</script>"
      ],
      "text/plain": [
       "<IPython.core.display.HTML object>"
      ]
     },
     "metadata": {},
     "output_type": "display_data"
    }
   ],
   "source": [
    "%%html\n",
    "\n",
    "<!-- See\n",
    "        http://stackoverflow.com/questions/1566595/can-i-use-multiple-versions-of-jquery-on-the-same-page\n",
    "-->\n",
    "\n",
    "<!-- load jQuery 1.1.3 -->\n",
    "<script type=\"text/javascript\" src=\"http://example.com/jquery-1.1.3.js\"></script>\n",
    "<script type=\"text/javascript\">\n",
    "//var jQuery_1_1_3 = $.noConflict(true);\n",
    "var $jQuery_1_1_3 = jQuery.noConflict(true);\n",
    "alert( \"You are running jQuery version XX: \" + $jQuery_1_1_3.fn.jquery );\n",
    "</script>\n",
    "\n",
    "<!-- load jQuery 1.3.2 -->\n",
    "<script type=\"text/javascript\" src=\"http://example.com/jquery-1.3.2.js\"></script>\n",
    "<script type=\"text/javascript\">\n",
    "var $jQuery_1_3_2 = jQuery.noConflict(true);\n",
    "alert( \"You are running jQuery version: \" + $jQuery_1_3_2.fn.jquery );\n",
    "</script>\n",
    "\n",
    "<script>\n",
    "alert( \"You are running jQuery version: \" + $.fn.jquery );\n",
    "</script>\n"
   ]
  },
  {
   "cell_type": "code",
   "execution_count": 127,
   "metadata": {
    "collapsed": false
   },
   "outputs": [
    {
     "data": {
      "text/html": [
       "\n",
       "<script type=\"text/javascript\" src=\"http://ajax.googleapis.com/ajax/libs/jquery/1.8.2/jquery.min.js\"></script>\n",
       "<script type=\"text/javascript\" src=\"http://ajax.googleapis.com/ajax/libs/jquery/1.6.4/jquery.min.js\"></script>\n",
       "<script type=\"text/javascript\">\n",
       "    var jQueryTemp = jQuery.noConflict(true);\n",
       "    var jQueryOriginal = jQuery || jQueryTemp;\n",
       "    if (window.jQuery){\n",
       "        alert('Original jQuery: '+ jQuery.fn.jquery);\n",
       "        alert('Second jQuery: '+ jQueryTemp.fn.jquery);\n",
       "    }\n",
       "    window.jQuery = window.$ = jQueryTemp;\n",
       "</script>\n",
       "<script type=\"text/javascript\">\n",
       "    alert('Script using second: '+ jQuery.fn.jquery);\n",
       "</script>\n",
       "<script type=\"text/javascript\">\n",
       "    // Restore original jQuery:\n",
       "    window.jQuery = window.$ = jQueryOriginal;\n",
       "    alert('Script using original or the only version: '+ jQuery.fn.jquery);\n",
       "</script>"
      ],
      "text/plain": [
       "<IPython.core.display.HTML object>"
      ]
     },
     "metadata": {},
     "output_type": "display_data"
    }
   ],
   "source": [
    "%%html\n",
    "\n",
    "<script type=\"text/javascript\" src=\"http://ajax.googleapis.com/ajax/libs/jquery/1.8.2/jquery.min.js\"></script>\n",
    "<script type=\"text/javascript\" src=\"http://ajax.googleapis.com/ajax/libs/jquery/1.6.4/jquery.min.js\"></script>\n",
    "<script type=\"text/javascript\">\n",
    "    var jQueryTemp = jQuery.noConflict(true);\n",
    "    var jQueryOriginal = jQuery || jQueryTemp;\n",
    "    if (window.jQuery){\n",
    "        alert('Original jQuery: '+ jQuery.fn.jquery);\n",
    "        alert('Second jQuery: '+ jQueryTemp.fn.jquery);\n",
    "    }\n",
    "    window.jQuery = window.$ = jQueryTemp;\n",
    "</script>\n",
    "<script type=\"text/javascript\">\n",
    "    alert('Script using second: '+ jQuery.fn.jquery);\n",
    "</script>\n",
    "<script type=\"text/javascript\">\n",
    "    // Restore original jQuery:\n",
    "    window.jQuery = window.$ = jQueryOriginal;\n",
    "    alert('Script using original or the only version: '+ jQuery.fn.jquery);\n",
    "</script>\n"
   ]
  },
  {
   "cell_type": "code",
   "execution_count": 126,
   "metadata": {
    "collapsed": false
   },
   "outputs": [
    {
     "data": {
      "text/html": [
       "<!-- my attempt -->\n",
       "<script type=\"text/javascript\" src=\"http://ajax.googleapis.com/ajax/libs/jquery/1.4.2/jquery.min.js\"></script>\n",
       "<script type=\"text/javascript\" src=\"http://ajax.googleapis.com/ajax/libs/jquery/1.9.1/jquery.min.js\"></script>\n",
       "<script type=\"text/javascript\">\n",
       "    var $jQueryTemp = jQuery.noConflict(true);\n",
       "    var $jQueryOriginal = jQuery || $jQueryTemp;\n",
       "    if (window.jQuery){\n",
       "        alert('Original jQuery: '+ jQuery.fn.jquery);\n",
       "        alert('Second jQuery: '+ $jQueryTemp.fn.jquery);\n",
       "    }\n",
       "    window.jQuery = window.$ = jQueryTemp;\n",
       "</script>\n",
       "<script type=\"text/javascript\">\n",
       "    alert('Script using second: '+ jQuery.fn.jquery);\n",
       "</script>\n",
       "<script type=\"text/javascript\">\n",
       "    // Restore original jQuery:\n",
       "    window.jQuery = window.$ = jQueryOriginal;\n",
       "    alert('Script using original or the only version: '+ jQuery.fn.jquery);\n",
       "</script>"
      ],
      "text/plain": [
       "<IPython.core.display.HTML object>"
      ]
     },
     "metadata": {},
     "output_type": "display_data"
    }
   ],
   "source": [
    "%%html\n",
    "<!-- my attempt -->\n",
    "<script type=\"text/javascript\" src=\"http://ajax.googleapis.com/ajax/libs/jquery/1.4.2/jquery.min.js\"></script>\n",
    "<script type=\"text/javascript\" src=\"http://ajax.googleapis.com/ajax/libs/jquery/1.9.1/jquery.min.js\"></script>\n",
    "<script type=\"text/javascript\">\n",
    "    var $jQueryTemp = jQuery.noConflict(true);\n",
    "    var $jQueryOriginal = jQuery || $jQueryTemp;\n",
    "    if (window.jQuery){\n",
    "        alert('Original jQuery: '+ jQuery.fn.jquery);\n",
    "        alert('Second jQuery: '+ $jQueryTemp.fn.jquery);\n",
    "    }\n",
    "    window.jQuery = window.$ = jQueryTemp;\n",
    "</script>\n",
    "<script type=\"text/javascript\">\n",
    "    alert('Script using second: '+ jQuery.fn.jquery);\n",
    "</script>\n",
    "<script type=\"text/javascript\">\n",
    "    // Restore original jQuery:\n",
    "    window.jQuery = window.$ = jQueryOriginal;\n",
    "    alert('Script using original or the only version: '+ jQuery.fn.jquery);\n",
    "</script>\n"
   ]
  },
  {
   "cell_type": "code",
   "execution_count": null,
   "metadata": {
    "collapsed": true
   },
   "outputs": [],
   "source": [
    "%%html\n",
    "\n",
    "<script src=\"http://ajax.googleapis.com/ajax/libs/jquery/1.4.2/jquery.min.js\" type=\"text/javascript\"></script>\n",
    "<script src=\"http://ajax.googleapis.com/ajax/libs/jquery/1.9.1/jquery.min.js\" type=\"text/javascript\"></script>\n",
    "<script>var $j = jQuery.noConflict(true);</script>\n",
    "<script>\n",
    "    $(document).ready(function(){\n",
    "       alert(\"1st:\" + $().jquery); // This prints v1.4.2\n",
    "       alert(\"2nd:\" + $j().jquery); // This prints v1.9.1\n",
    "    });\n",
    "</script>"
   ]
  },
  {
   "cell_type": "code",
   "execution_count": 125,
   "metadata": {
    "collapsed": false
   },
   "outputs": [
    {
     "data": {
      "text/html": [
       "\n",
       "<script src=\"https://ajax.googleapis.com/ajax/libs/jquery/1.8.3/jquery.min.js\" type=\"text/javascript\"></script>\n",
       "<script>\n",
       "    var $i = jQuery.noConflict();\n",
       "    alert(\"i=\" + $i.fn.jquery);\n",
       "</script> \n",
       "\n",
       "<script src=\"https://ajax.googleapis.com/ajax/libs/jquery/1.9.1/jquery.min.js\"></script>\n",
       "<script>\n",
       "    var $j = jQuery.noConflict();\n",
       "    alert(\"j=\" + $j.fn.jquery);\n",
       "</script> \n",
       "\n",
       "<script type=\"text/javascript\" src=\"http://ajax.googleapis.com/ajax/libs/jquery/1.4.2/jquery.min.js\"></script>\n",
       "<script>\n",
       "    var $k = jQuery.noConflict();\n",
       "    alert(\"k=\" + $k.fn.jquery);\n",
       "</script> "
      ],
      "text/plain": [
       "<IPython.core.display.HTML object>"
      ]
     },
     "metadata": {},
     "output_type": "display_data"
    }
   ],
   "source": [
    "%%html\n",
    "\n",
    "<script src=\"https://ajax.googleapis.com/ajax/libs/jquery/1.8.3/jquery.min.js\" type=\"text/javascript\"></script>\n",
    "<script>\n",
    "    var $i = jQuery.noConflict();\n",
    "    alert(\"i=\" + $i.fn.jquery);\n",
    "</script> \n",
    "\n",
    "<script src=\"https://ajax.googleapis.com/ajax/libs/jquery/1.9.1/jquery.min.js\"></script>\n",
    "<script>\n",
    "    var $j = jQuery.noConflict();\n",
    "    alert(\"j=\" + $j.fn.jquery);\n",
    "</script> \n",
    "\n",
    "<script type=\"text/javascript\" src=\"http://ajax.googleapis.com/ajax/libs/jquery/1.4.2/jquery.min.js\"></script>\n",
    "<script>\n",
    "    var $k = jQuery.noConflict();\n",
    "    alert(\"k=\" + $k.fn.jquery);\n",
    "</script> "
   ]
  },
  {
   "cell_type": "markdown",
   "metadata": {},
   "source": [
    "The following was an experiment with passing named arguments in to a javascript function:"
   ]
  },
  {
   "cell_type": "code",
   "execution_count": 43,
   "metadata": {
    "collapsed": false
   },
   "outputs": [
    {
     "data": {
      "text/html": [
       "\n",
       "<p id=\"test_output\"/>\n",
       "\n",
       "<script>\n",
       "var f1 = function(args) {\n",
       "    document.getElementById(\"test_output\").innerHTML = args['a']\n",
       "}\n",
       "\n",
       "f({a:'VALUE_a',b:'VALUE_b'})\n",
       "</script>"
      ],
      "text/plain": [
       "<IPython.core.display.HTML object>"
      ]
     },
     "metadata": {},
     "output_type": "display_data"
    }
   ],
   "source": [
    "%%html\n",
    "\n",
    "<p id=\"test_output\"/>\n",
    "\n",
    "<script>\n",
    "var f1 = function(args) {\n",
    "    document.getElementById(\"test_output\").innerHTML = args['a']\n",
    "}\n",
    "\n",
    "f({a:'VALUE_a',b:'VALUE_b'})\n",
    "</script>"
   ]
  },
  {
   "cell_type": "markdown",
   "metadata": {},
   "source": [
    "## Note:\n",
    "\n",
    "Note that in this 2nd example we must use a different id, else the javascript will overwrite the 'test_output' defined in the previously output cell."
   ]
  },
  {
   "cell_type": "code",
   "execution_count": 49,
   "metadata": {
    "collapsed": false
   },
   "outputs": [
    {
     "data": {
      "text/html": [
       "\n",
       "<p id=\"test_output2\">XX<p/>\n",
       "\n",
       "<script>\n",
       "var f2 = function(args) {\n",
       "    document.getElementById(\"test_output2\").innerHTML = args['b']\n",
       "}\n",
       "\n",
       "f2({a:'VALUE_a',b:'VALUE_b'})\n",
       "</script>"
      ],
      "text/plain": [
       "<IPython.core.display.HTML object>"
      ]
     },
     "metadata": {},
     "output_type": "display_data"
    }
   ],
   "source": [
    "%%html\n",
    "\n",
    "<p id=\"test_output2\">XX<p/>\n",
    "\n",
    "<script>\n",
    "var f2 = function(args) {\n",
    "    document.getElementById(\"test_output2\").innerHTML = args['b']\n",
    "}\n",
    "\n",
    "f2({a:'VALUE_a',b:'VALUE_b'})\n",
    "</script>"
   ]
  },
  {
   "cell_type": "code",
   "execution_count": 57,
   "metadata": {
    "collapsed": false
   },
   "outputs": [
    {
     "data": {
      "text/html": [
       "\n",
       "<p id=\"test_output3\">XX<p/>\n",
       "\n",
       "<script>\n",
       "var f3 = function(args) {\n",
       "    if (typeof(args['a'])==='undefined') args['a'] = \"DEFAULT_a\";\n",
       "    if (typeof(args['b'])==='undefined') args['b'] = \"DEFAULT_b\";\n",
       "    if (typeof(args['c'])==='undefined') args['c'] = \"DEFAULT_c\";\n",
       "    if (typeof(args['d'])==='undefined') args['d'] = \"DEFAULT_d\";\n",
       "\n",
       "    document.getElementById(\"test_output3\").innerHTML = args['a'] + ',' + args['b'] + ',' + args['c'] + ',' + args['d']\n",
       "}\n",
       "\n",
       "f3({a:'VALUE_a',b:'VALUE_b',d:'VALUE_d'})\n",
       "</script>"
      ],
      "text/plain": [
       "<IPython.core.display.HTML object>"
      ]
     },
     "metadata": {},
     "output_type": "display_data"
    }
   ],
   "source": [
    "%%html\n",
    "\n",
    "<p id=\"test_output3\">XX<p/>\n",
    "\n",
    "<script>\n",
    "var f3 = function(args) {\n",
    "    if (typeof(args['a'])==='undefined') args['a'] = \"DEFAULT_a\";\n",
    "    if (typeof(args['b'])==='undefined') args['b'] = \"DEFAULT_b\";\n",
    "    if (typeof(args['c'])==='undefined') args['c'] = \"DEFAULT_c\";\n",
    "    if (typeof(args['d'])==='undefined') args['d'] = \"DEFAULT_d\";\n",
    "\n",
    "    document.getElementById(\"test_output3\").innerHTML = args['a'] + ',' + args['b'] + ',' + args['c'] + ',' + args['d']\n",
    "}\n",
    "\n",
    "f3({a:'VALUE_a',b:'VALUE_b',d:'VALUE_d'})\n",
    "</script>"
   ]
  },
  {
   "cell_type": "markdown",
   "metadata": {},
   "source": [
    "## SVG\n",
    "\n",
    "Note: won't be rendered by *most?* mail clients\n",
    "\n",
    "SVG samples taken from (**W3Schools.com SVG Examples**)[http://www.w3schools.com/svg/svg_examples.asp]"
   ]
  },
  {
   "cell_type": "code",
   "execution_count": 70,
   "metadata": {
    "collapsed": false
   },
   "outputs": [
    {
     "data": {
      "image/svg+xml": [
       "<svg height=\"120\" width=\"120\">\n",
       "  <circle cx=\"50\" cy=\"50\" fill=\"red\" r=\"40\" stroke=\"black\" stroke-width=\"3\"/>\n",
       "</svg>"
      ],
      "text/plain": [
       "<IPython.core.display.SVG object>"
      ]
     },
     "metadata": {},
     "output_type": "display_data"
    }
   ],
   "source": [
    "%%svg\n",
    "\n",
    "<svg width=\"120\" height=\"120\">\n",
    "  <circle cx=\"50\" cy=\"50\" r=\"40\" stroke=\"black\" stroke-width=\"3\" fill=\"red\" />\n",
    "</svg>"
   ]
  },
  {
   "cell_type": "markdown",
   "metadata": {},
   "source": [
    "... including animations"
   ]
  },
  {
   "cell_type": "code",
   "execution_count": 71,
   "metadata": {
    "collapsed": false
   },
   "outputs": [
    {
     "data": {
      "image/svg+xml": [
       "<svg height=\"600\" width=\"600\">\n",
       "  <rect height=\"100\" id=\"rec\" style=\"fill:lime\" width=\"300\" x=\"300\" y=\"100\"> \n",
       "    <animate attributeName=\"x\" attributeType=\"XML\" begin=\"0s\" dur=\"6s\" fill=\"freeze\" from=\"300\" to=\"0\"/> \n",
       "    <animate attributeName=\"y\" attributeType=\"XML\" begin=\"0s\" dur=\"6s\" fill=\"freeze\" from=\"100\" to=\"0\"/> \n",
       "    <animate attributeName=\"width\" attributeType=\"XML\" begin=\"0s\" dur=\"6s\" fill=\"freeze\" from=\"300\" to=\"800\"/> \n",
       "    <animate attributeName=\"height\" attributeType=\"XML\" begin=\"0s\" dur=\"6s\" fill=\"freeze\" from=\"100\" to=\"300\"/> \n",
       "    <animate attributeName=\"fill\" attributeType=\"CSS\" begin=\"2s\" dur=\"4s\" fill=\"freeze\" from=\"lime\" to=\"red\"/>\n",
       "  </rect>\n",
       "  <g transform=\"translate(100,100)\"> \n",
       "    <text id=\"TextElement\" style=\"font-family:Verdana;font-size:24; visibility:hidden\" x=\"0\" y=\"0\"> It's SVG!\n",
       "      <set attributeName=\"visibility\" attributeType=\"CSS\" begin=\"1s\" dur=\"5s\" fill=\"freeze\" to=\"visible\"/>\n",
       "      <animateMotion begin=\"1s\" dur=\"5s\" fill=\"freeze\" path=\"M 0 0 L 100 100\"/>\n",
       "      <animate attributeName=\"fill\" attributeType=\"CSS\" begin=\"1s\" dur=\"5s\" fill=\"freeze\" from=\"red\" to=\"blue\"/> \n",
       "      <animateTransform attributeName=\"transform\" attributeType=\"XML\" begin=\"1s\" dur=\"5s\" fill=\"freeze\" from=\"-30\" to=\"0\" type=\"rotate\"/> \n",
       "      <animateTransform additive=\"sum\" attributeName=\"transform\" attributeType=\"XML\" begin=\"1s\" dur=\"5s\" fill=\"freeze\" from=\"1\" to=\"3\" type=\"scale\"/> \n",
       "    </text> \n",
       "  </g>\n",
       "  Sorry, your browser does not support inline SVG.\n",
       "</svg>"
      ],
      "text/plain": [
       "<IPython.core.display.SVG object>"
      ]
     },
     "metadata": {},
     "output_type": "display_data"
    }
   ],
   "source": [
    "%%svg\n",
    "\n",
    "<svg width=\"600\" height=\"600\">\n",
    "  <rect id=\"rec\" x=\"300\" y=\"100\" width=\"300\" height=\"100\" style=\"fill:lime\"> \n",
    "    <animate attributeName=\"x\" attributeType=\"XML\" begin=\"0s\" dur=\"6s\" fill=\"freeze\" from=\"300\" to=\"0\" /> \n",
    "    <animate attributeName=\"y\" attributeType=\"XML\" begin=\"0s\" dur=\"6s\" fill=\"freeze\" from=\"100\" to=\"0\" /> \n",
    "    <animate attributeName=\"width\" attributeType=\"XML\" begin=\"0s\" dur=\"6s\" fill=\"freeze\" from=\"300\" to=\"800\" /> \n",
    "    <animate attributeName=\"height\" attributeType=\"XML\" begin=\"0s\" dur=\"6s\" fill=\"freeze\" from=\"100\" to=\"300\" /> \n",
    "    <animate attributeName=\"fill\" attributeType=\"CSS\" from=\"lime\" to=\"red\" begin=\"2s\" dur=\"4s\" fill=\"freeze\" />\n",
    "  </rect>\n",
    "  <g transform=\"translate(100,100)\"> \n",
    "    <text id=\"TextElement\" x=\"0\" y=\"0\" style=\"font-family:Verdana;font-size:24; visibility:hidden\"> It's SVG!\n",
    "      <set attributeName=\"visibility\" attributeType=\"CSS\" to=\"visible\" begin=\"1s\" dur=\"5s\" fill=\"freeze\" />\n",
    "      <animateMotion path=\"M 0 0 L 100 100\" begin=\"1s\" dur=\"5s\" fill=\"freeze\" />\n",
    "      <animate attributeName=\"fill\" attributeType=\"CSS\" from=\"red\" to=\"blue\" begin=\"1s\" dur=\"5s\" fill=\"freeze\" /> \n",
    "      <animateTransform attributeName=\"transform\" attributeType=\"XML\" type=\"rotate\" from=\"-30\" to=\"0\" begin=\"1s\" dur=\"5s\" fill=\"freeze\" /> \n",
    "      <animateTransform attributeName=\"transform\" attributeType=\"XML\" type=\"scale\" from=\"1\" to=\"3\" additive=\"sum\" begin=\"1s\" dur=\"5s\" fill=\"freeze\" /> \n",
    "    </text> \n",
    "  </g>\n",
    "  Sorry, your browser does not support inline SVG.\n",
    "</svg>"
   ]
  },
  {
   "cell_type": "code",
   "execution_count": null,
   "metadata": {
    "collapsed": true
   },
   "outputs": [],
   "source": []
  }
 ],
 "metadata": {
  "kernelspec": {
   "display_name": "Python 3",
   "language": "python",
   "name": "python3"
  },
  "language_info": {
   "codemirror_mode": {
    "name": "ipython",
    "version": 3
   },
   "file_extension": ".py",
   "mimetype": "text/x-python",
   "name": "python",
   "nbconvert_exporter": "python",
   "pygments_lexer": "ipython3",
   "version": "3.5.1"
  }
 },
 "nbformat": 4,
 "nbformat_minor": 0
}
