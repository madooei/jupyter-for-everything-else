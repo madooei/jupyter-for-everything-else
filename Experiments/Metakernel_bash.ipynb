{
 "cells": [
  {
   "cell_type": "code",
   "execution_count": null,
   "metadata": {
    "collapsed": false
   },
   "outputs": [],
   "source": [
    "%lsmagic"
   ]
  },
  {
   "cell_type": "markdown",
   "metadata": {
    "slideshow": {
     "slide_type": "notes"
    }
   },
   "source": [
    "# TODO:\n",
    "  \n",
    "- Look at GraphTerm ([see e-mails](https://mail.google.com/mail/u/0/#search/xmlterm/138d5fe41f1ce24c), [see github](https://github.com/mitotic/graphterm))\n",
    "  - Investigate ideas, evaluate value of Jupyter/metakernel_bash versus GraphTerm\n",
    "  - Kudos to this guy for GraphTerm, xmlterm and [xmlterm](https://github.com/gandrewstone/xmlterm) and mention other projects mentioned in his github page\n",
    "  - Try out these other projects ..\n",
    "  \n",
    "- Put forward bash advantages of pipelines (e.g. pipe cmd-line tools into graphic render functions)\n",
    "\n",
    "- Use command-line data handling tools: See [dhoban](https://github.com/dbohdan/structured-text-tools?utm_source=hackernewsletter&utm_medium=email&utm_term=fav)\n",
    "\n",
    "- csv_linechart <csvfile> (or stdin, or URL like metakernel_magics)\n",
    "    - USE unique div ids (based on what -> cell number or *date_time*?)\n",
    "    \n",
    "- du_d3js # show pie chart\n",
    "    - watch_du_d3js # show pie chart - with periodic updates\n",
    "    - interactive d3.js examples\n",
    "\n",
    "- xmlterm: xls, xfind, ...\n",
    "    - xwatch <watchoptions> [<du> -a/-s|df| ls -h]\n",
    "\n",
    "- how to do lightning from js w/o npm ?\n",
    "  - Can I just ref js files from https://github.com/lightning-viz/lightning.js/tree/master/lib\n",
    "\n",
    "- Graphical or HTML/pretty displays of\n",
    "  - OpenStack images, instances, networks\n",
    "  - Docker images, instances, networks\n",
    "  - Database data: MySQL, PostgreSQL, MongoDB, BerkelyDB?\n",
    "  - bash structures (arrays, assoc. arrays)\n",
    "  \n",
    "- Create bash functions which invoke Python interactivity,\n",
    "  - e.g. du -s DIR (choose DIR from Python dropdown box?)"
   ]
  },
  {
   "cell_type": "markdown",
   "metadata": {},
   "source": [
    "# TODO\n",
    "\n",
    "#### Top level\n",
    "- Ability to display images (useful use cases?)\n",
    "- OpenStack cli\n",
    "  - nova list/nova images ==> html table\n",
    "- Docker cli\n",
    "  - docker ps ==> html table (or graphic showing image size/resources, coloured by image?)\n",
    "  - docker images ==> html table (or graphic showing relations, size/resources)\n",
    "- du -s (any spaced or csv tabular output) ==> html table OR graphics (histogram, pie chart)\n",
    "  - hierarchical pie chart like overdisk?\n",
    "- Integration with d3.js visualizations\n",
    "\n",
    "#### To add\n",
    "- %functions and %lsmagic: to list bash functions (display, pydot)\n",
    "- Create pydot function dimilar to display, allowing to create graphs by:\n",
    "    - echo -e \"%%dot\\nGRAPH\" | pydot\n",
    "- How to **pass variables** between bash and Python?\n",
    "- Try \"display\" or D3.js like functionality for results of bash commands, e.g. du -s\n",
    "  - direct in cells, or via %%javascript, %%python magics\n",
    "- Try interactive widgets\n",
    "- Extend metakernel_bash with display, d3, interactive widgets, HTML table rendering"
   ]
  },
  {
   "cell_type": "code",
   "execution_count": null,
   "metadata": {
    "collapsed": false
   },
   "outputs": [],
   "source": [
    "# NO: don't do piped 'here' documents, this crashes the metakernel ...\n",
    "#cat <<EOF\n",
    "#hello\n",
    "#EOF | cat"
   ]
  },
  {
   "cell_type": "code",
   "execution_count": null,
   "metadata": {
    "collapsed": false
   },
   "outputs": [],
   "source": [
    "# Functions to reload local metakernelrcs:\n",
    "function reread_local_metakernelrc { source /home/mjbright/src/git/GIT_mjbright/metakernel/metakernel_bash/metakernelrc; }\n",
    "function reread_local_user_metakernelrc { source /home/mjbright/src/git/GIT_mjbright/metakernel/metakernel_bash/metakernelrc.user; }"
   ]
  },
  {
   "cell_type": "code",
   "execution_count": null,
   "metadata": {
    "collapsed": false
   },
   "outputs": [],
   "source": [
    "pwd"
   ]
  },
  {
   "cell_type": "code",
   "execution_count": null,
   "metadata": {
    "collapsed": false
   },
   "outputs": [],
   "source": [
    "%%javascript\n",
    "\n",
    "// NOT WORKING: maybe because of gvim path?\n",
    "//  **KILLS KERNEL*\n",
    "\n",
    "// -----------------------------------------------------------\n",
    "// To edit cell contents with gvim, type 'g':\n",
    "// -----------------------------------------------------------\n",
    "//var file='.toto.py';\n",
    "var file='c:/tools/cygwin/tmp/edit_file';\n",
    "\n",
    "IPython.keyboard_manager.command_shortcuts.add_shortcut('g', {\n",
    "    handler : function (event) {\n",
    "        var input = IPython.notebook.get_selected_cell().get_text();\n",
    "        var cmd = \"f = open('\" + file + \"', 'w');f.close()\";\n",
    "        if (input != \"\") {\n",
    "            //cmd = '%%writefile ' + file + '\\n' + input;\n",
    "            cmd = '%%file ' + file + '\\n' + input;\n",
    "        }\n",
    "        //var loc = window.location.pathname;\n",
    "        //window.alert('writing input <' + input + '> to file: <' + loc + '/' + file + '>');\n",
    "        window.alert('writing input <' + input + '> to file: <' + file + '>');\n",
    "        window.alert('running cmd <' + cmd + '> ');\n",
    "        IPython.notebook.kernel.execute(cmd);\n",
    "        \n",
    "        //cmd = \"import os;os.system('c:/tools/cygwin/bin/ls '\" + file + \")\";\n",
    "        //cmd = \"import os;os.system('ls -al')\";\n",
    "        //cmd = \"import os;os.system('c:/Portable/PortableApps/gVimPortable/gVimPortable.exe .toto.py')\";\n",
    "        cmd = \"import os;os.system('c:/Portable/PortableApps/gVimPortable/gVimPortable.exe \" + file + \"')\";\n",
    "        window.alert('running cmd <' + cmd + '> ');\n",
    "\n",
    "        IPython.notebook.kernel.execute(cmd);\n",
    "        return false;\n",
    "    }}\n",
    ");\n",
    "\n",
    "// -----------------------------------------------------------\n",
    "// To update cell contents with gvim saved text, type 'u':\n",
    "// -----------------------------------------------------------\n",
    "IPython.keyboard_manager.command_shortcuts.add_shortcut('u', {\n",
    "    handler : function (event) {\n",
    "        function handle_output(msg) {\n",
    "            var ret = msg.content.text;\n",
    "            IPython.notebook.get_selected_cell().set_text(ret);\n",
    "        }\n",
    "        var callback = {'output': handle_output};\n",
    "        var cmd = \"f = open('\" + file + \"', 'r');print(f.read())\";\n",
    "        IPython.notebook.kernel.execute(cmd, {iopub: callback}, {silent: false});\n",
    "        return false;\n",
    "    }}\n",
    ");"
   ]
  },
  {
   "cell_type": "code",
   "execution_count": null,
   "metadata": {
    "collapsed": false
   },
   "outputs": [],
   "source": [
    "wget -O test.png http://thesuntoday.wpengine.netdna-cdn.com/wp-content/uploads/2011/04/Sun-April62011.001.001.png"
   ]
  },
  {
   "cell_type": "code",
   "execution_count": null,
   "metadata": {
    "collapsed": false
   },
   "outputs": [],
   "source": [
    "ls -al test.png"
   ]
  },
  {
   "cell_type": "code",
   "execution_count": 40,
   "metadata": {
    "collapsed": false
   },
   "outputs": [
    {
     "data": {
      "text/html": [
       "<?xml version=\"1.0\" encoding=\"UTF-8\" standalone=\"no\"?>\r\n",
       "<!DOCTYPE svg PUBLIC \"-//W3C//DTD SVG 1.1//EN\"\r\n",
       " \"http://www.w3.org/Graphics/SVG/1.1/DTD/svg11.dtd\">\r\n",
       "<!-- Generated by graphviz version 2.38.0 (20140413.2041)\r\n",
       " -->\r\n",
       "<!-- Title: A Pages: 1 -->\r\n",
       "<svg width=\"62pt\" height=\"116pt\"\r\n",
       " viewBox=\"0.00 0.00 62.00 116.00\" xmlns=\"http://www.w3.org/2000/svg\" xmlns:xlink=\"http://www.w3.org/1999/xlink\">\r\n",
       "<g id=\"graph0\" class=\"graph\" transform=\"scale(1 1) rotate(0) translate(4 112)\">\r\n",
       "<title>A</title>\r\n",
       "<polygon fill=\"white\" stroke=\"none\" points=\"-4,4 -4,-112 58,-112 58,4 -4,4\"/>\r\n",
       "<!-- a -->\r\n",
       "<g id=\"node1\" class=\"node\"><title>a</title>\r\n",
       "<ellipse fill=\"none\" stroke=\"black\" cx=\"27\" cy=\"-90\" rx=\"27\" ry=\"18\"/>\r\n",
       "<text text-anchor=\"middle\" x=\"27\" y=\"-86.3\" font-family=\"Times New Roman,serif\" font-size=\"14.00\">a</text>\r\n",
       "</g>\r\n",
       "<!-- b -->\r\n",
       "<g id=\"node2\" class=\"node\"><title>b</title>\r\n",
       "<ellipse fill=\"none\" stroke=\"black\" cx=\"27\" cy=\"-18\" rx=\"27\" ry=\"18\"/>\r\n",
       "<text text-anchor=\"middle\" x=\"27\" y=\"-14.3\" font-family=\"Times New Roman,serif\" font-size=\"14.00\">b</text>\r\n",
       "</g>\r\n",
       "<!-- a&#45;&#45;b -->\r\n",
       "<g id=\"edge1\" class=\"edge\"><title>a&#45;&#45;b</title>\r\n",
       "<path fill=\"none\" stroke=\"black\" d=\"M27,-71.6966C27,-60.8463 27,-46.9167 27,-36.1043\"/>\r\n",
       "</g>\r\n",
       "</g>\r\n",
       "</svg>\r\n"
      ],
      "text/plain": [
       "<IPython.core.display.HTML object>"
      ]
     },
     "metadata": {},
     "output_type": "display_data"
    }
   ],
   "source": [
    "%dot graph A { a->b };"
   ]
  },
  {
   "cell_type": "code",
   "execution_count": null,
   "metadata": {
    "collapsed": false
   },
   "outputs": [],
   "source": [
    "echo \"graph A { a->b };\" | pydot"
   ]
  },
  {
   "cell_type": "code",
   "execution_count": null,
   "metadata": {
    "collapsed": false
   },
   "outputs": [],
   "source": [
    "echo \"graph A { a->b };\" | pydot"
   ]
  },
  {
   "cell_type": "code",
   "execution_count": null,
   "metadata": {
    "collapsed": true
   },
   "outputs": [],
   "source": [
    "display test.png"
   ]
  },
  {
   "cell_type": "code",
   "execution_count": null,
   "metadata": {
    "collapsed": true
   },
   "outputs": [],
   "source": [
    "cat test.png | display"
   ]
  },
  {
   "cell_type": "code",
   "execution_count": null,
   "metadata": {
    "collapsed": true
   },
   "outputs": [],
   "source": [
    "display http://thesuntoday.wpengine.netdna-cdn.com/wp-content/uploads/2011/04/Sun-April62011.001.001.png"
   ]
  },
  {
   "cell_type": "code",
   "execution_count": null,
   "metadata": {
    "collapsed": true
   },
   "outputs": [],
   "source": [
    "display 'http://images6.fanpop.com/image/photos/38500000/beautiful-wallpaper-2-beautiful-pictures-38538867-2560-1600.jpg'"
   ]
  },
  {
   "cell_type": "code",
   "execution_count": null,
   "metadata": {
    "collapsed": false
   },
   "outputs": [],
   "source": [
    "%%file c:/tools/cygwin/tmp/test_file\n",
    "\n",
    "hello world"
   ]
  },
  {
   "cell_type": "code",
   "execution_count": null,
   "metadata": {
    "collapsed": false
   },
   "outputs": [],
   "source": [
    "ls -al"
   ]
  },
  {
   "cell_type": "code",
   "execution_count": null,
   "metadata": {
    "collapsed": false
   },
   "outputs": [],
   "source": [
    "reread_metakernelrc"
   ]
  },
  {
   "cell_type": "code",
   "execution_count": null,
   "metadata": {
    "collapsed": false
   },
   "outputs": [],
   "source": [
    "reread_user_metakernelrc"
   ]
  },
  {
   "cell_type": "code",
   "execution_count": null,
   "metadata": {
    "collapsed": false
   },
   "outputs": [],
   "source": [
    "reread_metakernelrc"
   ]
  },
  {
   "cell_type": "code",
   "execution_count": 1,
   "metadata": {
    "collapsed": false
   },
   "outputs": [
    {
     "data": {
      "application/javascript": [
       "window.alert('hello world - via \"window.alert() | js\"')\n"
      ],
      "text/plain": [
       "<IPython.core.display.Javascript object>"
      ]
     },
     "metadata": {},
     "output_type": "display_data"
    }
   ],
   "source": [
    "echo \"window.alert('hello world - via \\\"window.alert() | js\\\"')\" | js"
   ]
  },
  {
   "cell_type": "code",
   "execution_count": 2,
   "metadata": {
    "collapsed": false
   },
   "outputs": [
    {
     "data": {
      "application/javascript": [
       "- console.log(\"Print in the browser console via \\\"%javascript magic (console.log)\\\"\")"
      ],
      "text/plain": [
       "<IPython.core.display.Javascript object>"
      ]
     },
     "metadata": {},
     "output_type": "display_data"
    },
    {
     "data": {
      "application/javascript": [
       "- window.alert(\"Show this popup via \\\"%javascript magic (alert())\\\"\")"
      ],
      "text/plain": [
       "<IPython.core.display.Javascript object>"
      ]
     },
     "metadata": {},
     "output_type": "display_data"
    }
   ],
   "source": [
    "%javascript console.log(\"Print in the browser console - via \\\"%javascript magic (console.log)\\\"\")\n",
    "%javascript window.alert(\"Show this popup - via \\\"%javascript magic (alert())\\\"\")"
   ]
  },
  {
   "cell_type": "code",
   "execution_count": 3,
   "metadata": {
    "collapsed": false
   },
   "outputs": [
    {
     "name": "stdout",
     "output_type": "stream",
     "text": [
      "hello world from Python v3.5.1(final)\n"
     ]
    }
   ],
   "source": [
    "echo \"import sys; print('hello world from Python v{}.{}.{}({})'.format(sys.version_info[0],sys.version_info[1],sys.version_info[2],sys.version_info[3]))\" | PYTHON"
   ]
  },
  {
   "cell_type": "code",
   "execution_count": 4,
   "metadata": {
    "collapsed": false
   },
   "outputs": [
    {
     "data": {
      "text/html": [
       "<h1>An html header <!-- A comment --></h1>\n"
      ],
      "text/plain": [
       "<IPython.core.display.HTML object>"
      ]
     },
     "metadata": {},
     "output_type": "display_data"
    }
   ],
   "source": [
    "echo \"<h1>An html header <!-- A comment --></h1>\" | html"
   ]
  },
  {
   "cell_type": "code",
   "execution_count": 5,
   "metadata": {
    "collapsed": false
   },
   "outputs": [
    {
     "data": {
      "text/html": [
       "<h1>A table <!-- A comment --></h1>\n",
       "\n",
       "<table><tr><th>col1</th>\n",
       "\n",
       "<th>col2</th>\n",
       "\n",
       "<th>col3</th>\n",
       "\n",
       "<th>col4</th>\n",
       "\n",
       "</tr>\n",
       "\n",
       "<tr><td>val1</td>\n",
       "\n",
       "    <td>val2</td>\n",
       "\n",
       "    <td>val3</td>\n",
       "\n",
       "    <td>val4</td>\n",
       "\n",
       "</tr>\n",
       "\n",
       "<tr><td>valu1</td>\n",
       "\n",
       "    <td>value2</td>\n",
       "\n",
       "    <td>value3</td>\n",
       "\n",
       "    <td>val4</td>\n",
       "\n",
       "</tr></table>\n"
      ],
      "text/plain": [
       "<IPython.core.display.HTML object>"
      ]
     },
     "metadata": {},
     "output_type": "display_data"
    }
   ],
   "source": [
    "echo \"<h1>A table <!-- A comment --></h1>\n",
    "<table><tr><th>col1</th>\n",
    "<th>col2</th>\n",
    "<th>col3</th>\n",
    "<th>col4</th>\n",
    "</tr>\n",
    "<tr><td>val1</td>\n",
    "    <td>val2</td>\n",
    "    <td>val3</td>\n",
    "    <td>val4</td>\n",
    "</tr>\n",
    "<tr><td>valu1</td>\n",
    "    <td>value2</td>\n",
    "    <td>value3</td>\n",
    "    <td>val4</td>\n",
    "</tr></table>\" | html"
   ]
  },
  {
   "cell_type": "code",
   "execution_count": null,
   "metadata": {
    "collapsed": false
   },
   "outputs": [],
   "source": [
    "test_html_table | html"
   ]
  },
  {
   "cell_type": "code",
   "execution_count": null,
   "metadata": {
    "collapsed": false
   },
   "outputs": [],
   "source": [
    "reread_local_metakernelrc\n",
    "reread_local_user_metakernelrc"
   ]
  },
  {
   "cell_type": "markdown",
   "metadata": {},
   "source": [
    "Below data and initial csv_linechart copied/adapted from one of [d3noobs blocks](http://bl.ocks.org/d3noob) here:\n",
    " http://bl.ocks.org/d3noob/b3ff6ae1c120eea654b5"
   ]
  },
  {
   "cell_type": "code",
   "execution_count": 6,
   "metadata": {
    "collapsed": false
   },
   "outputs": [
    {
     "name": "stdout",
     "output_type": "stream",
     "text": [
      "Created file 'C:\\tools\\cygwin\\home\\mjbright\\src\\git\\GIT_mjbright\\jupyter-for-everything-else\\data.csv'.\n"
     ]
    }
   ],
   "source": [
    "%%file data.csv\n",
    "xValue,yValue\n",
    "1,10\n",
    "2,20\n",
    "3,30\n",
    "4,20\n",
    "5,10\n",
    "6,0"
   ]
  },
  {
   "cell_type": "code",
   "execution_count": 7,
   "metadata": {
    "collapsed": false
   },
   "outputs": [
    {
     "name": "stdout",
     "output_type": "stream",
     "text": [
      "Created file 'C:\\tools\\cygwin\\home\\mjbright\\src\\git\\GIT_mjbright\\jupyter-for-everything-else\\date_trend.csv'.\n"
     ]
    }
   ],
   "source": [
    "%%file date_trend.csv\n",
    "date,yValue\n",
    "1-May-12,58.13\n",
    "30-Apr-12,53.98\n",
    "27-Apr-12,67.00\n",
    "26-Apr-12,89.70\n",
    "25-Apr-12,99.00\n",
    "24-Apr-12,130.28\n",
    "23-Apr-12,166.70\n",
    "20-Apr-12,234.98\n",
    "19-Apr-12,345.44\n",
    "18-Apr-12,443.34\n",
    "17-Apr-12,543.70\n",
    "16-Apr-12,580.13\n",
    "13-Apr-12,605.23\n",
    "12-Apr-12,622.77\n",
    "11-Apr-12,626.20\n",
    "10-Apr-12,628.44\n",
    "9-Apr-12,636.23\n",
    "5-Apr-12,633.68\n",
    "4-Apr-12,624.31\n",
    "3-Apr-12,629.32\n",
    "2-Apr-12,618.63\n",
    "30-Mar-12,599.55\n",
    "29-Mar-12,609.86\n",
    "28-Mar-12,617.62\n",
    "27-Mar-12,614.48\n",
    "26-Mar-12,606.98"
   ]
  },
  {
   "cell_type": "markdown",
   "metadata": {},
   "source": [
    "How about displaying that csv data in d3.js, called from a bash function?"
   ]
  },
  {
   "cell_type": "code",
   "execution_count": 8,
   "metadata": {
    "collapsed": false
   },
   "outputs": [
    {
     "data": {
      "text/plain": [
       ".call(xAxis);\n",
       "\n",
       "    // Add the Y Axis\n",
       "    sv<!DOCTYPE html>\n",
       "<meta charset=\"utf-8\">\n",
       "<style> /* set the CSS */\n",
       "\n",
       "body { font: 12px Arial;}\n",
       "\n",
       "path { \n",
       "    stroke: steelblue;\n",
       "    stroke-width: 2;\n",
       "    fill: none;\n",
       "}\n",
       "\n",
       ".axis path,\n",
       ".axis line {\n",
       "    fill: none;\n",
       "    stroke: grey;\n",
       "    stroke-width: 1;\n",
       "    shape-rendering: crispEdges;\n",
       "}\n",
       "\n",
       "</style>\n",
       "<div id=\"myd3_date_linechart\">\n",
       "\n",
       "<!-- load the d3.js library -->    \n",
       "<script src=\"http://d3js.org/d3.v3.min.js\"></script>\n",
       "\n",
       "<script>\n",
       "\n",
       "// Set the dimensions of the canvas / graph\n",
       "var margin = {top: 30, right: 20, bottom: 30, left: 50},\n",
       "    width = 600 - margin.left - margin.right,\n",
       "    height = 270 - margin.top - margin.bottom;\n",
       "\n",
       "// Parse the date / time\n",
       "var parseDate = d3.time.format(\"%d-%b-%y\").parse;\n",
       "\n",
       "// Set the ranges\n",
       "var x = d3.time.scale().range([0, width]);\n",
       "var y = d3.scale.linear().range([height, 0]);\n",
       "\n",
       "// Define the axes\n",
       "var xAxis = d3.svg.axis().scale(x)\n",
       "    .orient(\"bottom\").ticks(5);\n",
       "\n",
       "var yAxis = d3.svg.axis().scale(y)\n",
       "    .orient(\"left\").ticks(5);\n",
       "\n",
       "// Define the line\n",
       "var valueline = d3.svg.line()\n",
       "    .x(function(d) { return x(d.date); })\n",
       "    .y(function(d) { return y(d.yValue); });\n",
       "    \n",
       "// Adds the svg canvas\n",
       "var svg = d3.select(\"#myd3_date_linechart\")\n",
       "    .append(\"svg\")\n",
       "        .attr(\"width\", width + margin.left + margin.right)\n",
       "        .attr(\"height\", height + margin.top + margin.bottom)\n",
       "    .append(\"g\")\n",
       "        .attr(\"transform\", \n",
       "              \"translate(\" + margin.left + \",\" + margin.top + \")\");\n",
       "\n",
       "// Get the data\n",
       "d3.csv(\"tmp/\", function(error, data) {\n",
       "    data.forEach(function(d) {\n",
       "        d.date = parseDate(d.date);\n",
       "        d.yValue = +d.yValue;\n",
       "    });\n",
       "\n",
       "    // Scale the range of the data\n",
       "    x.domain(d3.extent(data, function(d) { return d.date; }));\n",
       "    y.domain([0, d3.max(data, function(d) { return d.yValue; })]);\n",
       "\n",
       "    // Add the valueline path.\n",
       "    svg.append(\"path\")\n",
       "        .attr(\"class\", \"line\")\n",
       "        .attr(\"d\", valueline(data));\n",
       "\n",
       "    // Add the X Axis\n",
       "    svg.append(\"g\")\n",
       "        .attr(\"class\", \"x axis\")\n",
       "        .attr(\"transform\", \"translate(0,\" + height + \")\")\n",
       "   g.append(\"g\")\n",
       "        .attr(\"class\", \"y axis\")\n",
       "        .call(yAxis);\n",
       "\n",
       "});\n",
       "\n",
       "</script>\n",
       "</div>"
      ]
     },
     "execution_count": 8,
     "metadata": {},
     "output_type": "execute_result"
    }
   ],
   "source": [
    "csv_date_linechart date_trend.csv"
   ]
  },
  {
   "cell_type": "code",
   "execution_count": 9,
   "metadata": {
    "collapsed": false
   },
   "outputs": [
    {
     "data": {
      "text/plain": [
       "axis\")\n",
       "        .call(yAxis);\n",
       "\n",
       "});\n",
       "\n",
       "</script>\n",
       "</<!DOCTYPE html>\n",
       "<meta charset=\"utf-8\">\n",
       "<style> /* set the CSS */\n",
       "\n",
       "body { font: 12px Arial;}\n",
       "\n",
       "path { \n",
       "    stroke: steelblue;\n",
       "    stroke-width: 2;\n",
       "    fill: none;\n",
       "}\n",
       "\n",
       ".axis path,\n",
       ".axis line {\n",
       "    fill: none;\n",
       "    stroke: grey;\n",
       "    stroke-width: 1;\n",
       "    shape-rendering: crispEdges;\n",
       "}\n",
       "\n",
       "</style>\n",
       "<div id=\"myd3_linechart\">\n",
       "\n",
       "<!-- load the d3.js library -->    \n",
       "<script src=\"http://d3js.org/d3.v3.min.js\"></script>\n",
       "\n",
       "<script>\n",
       "\n",
       "// Set the dimensions of the canvas / graph\n",
       "var margin = {top: 30, right: 20, bottom: 30, left: 50},\n",
       "    width = 600 - margin.left - margin.right,\n",
       "    height = 270 - margin.top - margin.bottom;\n",
       "\n",
       "// Set the ranges\n",
       "var x = d3.scale.linear().range([0, width]);\n",
       "var y = d3.scale.linear().range([height, 0]);\n",
       "\n",
       "// Define the axes\n",
       "var xAxis = d3.svg.axis().scale(x)\n",
       "    .orient(\"bottom\").ticks(5);\n",
       "\n",
       "var yAxis = d3.svg.axis().scale(y)\n",
       "    .orient(\"left\").ticks(5);\n",
       "\n",
       "// Define the line\n",
       "var valueline = d3.svg.line()\n",
       "    .x(function(d) { return x(d.xValue); })\n",
       "    .y(function(d) { return y(d.yValue); });\n",
       "    \n",
       "// Adds the svg canvas\n",
       "var svg = d3.select(\"#myd3_linechart\")\n",
       "    .append(\"svg\")\n",
       "        .attr(\"width\", width + margin.left + margin.right)\n",
       "        .attr(\"height\", height + margin.top + margin.bottom)\n",
       "    .append(\"g\")\n",
       "        .attr(\"transform\", \n",
       "              \"translate(\" + margin.left + \",\" + margin.top + \")\");\n",
       "\n",
       "// Get the data\n",
       "d3.csv(\"tmp/\", function(error, data) {\n",
       "    data.forEach(function(d) {\n",
       "        d.xValue = d.xValue;\n",
       "        d.yValue = +d.yValue;\n",
       "    });\n",
       "\n",
       "    // Scale the range of the data\n",
       "    x.domain(d3.extent(data, function(d) { return d.xValue; }));\n",
       "    y.domain([0, d3.max(data, function(d) { return d.yValue; })]);\n",
       "\n",
       "    // Add the valueline path.\n",
       "    svg.append(\"path\")\n",
       "        .attr(\"class\", \"line\")\n",
       "        .attr(\"d\", valueline(data));\n",
       "\n",
       "    // Add the X Axis\n",
       "    svg.append(\"g\")\n",
       "        .attr(\"class\", \"x axis\")\n",
       "        .attr(\"transform\", \"translate(0,\" + height + \")\")\n",
       "        .call(xAxis);\n",
       "\n",
       "    // Add the Y Axis\n",
       "    svg.append(\"g\")\n",
       "        .attr(\"class\", \"ydiv>"
      ]
     },
     "execution_count": 9,
     "metadata": {},
     "output_type": "execute_result"
    }
   ],
   "source": [
    "cat data.csv | csv_linechart"
   ]
  },
  {
   "cell_type": "code",
   "execution_count": 10,
   "metadata": {
    "collapsed": false
   },
   "outputs": [
    {
     "data": {
      "text/plain": [
       "xValue,yValue\n",
       "0,b\n",
       "1,clouds.yaml\n",
       "1,data.csv\n",
       "1,date_trend.csv\n",
       "1,lightning_test.py\n",
       "1,README.md\n",
       "4,Dockerfile\n",
       "4,Python3_Leather_SimpleCharting.ipynb\n",
       "4,Python3_render_html_table_from_MySQLTableText.ipynb\n",
       "4,Xonsh.ipynb\n",
       "6,env\n",
       "8,CSS_Test.ipynb\n",
       "8,Metakernel_Bash_SVG_via_HTMLmagic.ipynb\n",
       "8,Metakernel_echo.ipynb\n",
       "8,OpenStack_Monitoring_Py3.ipynb\n",
       "8,xonsh_kernel.ipynb\n",
       "16,Python3_LightningExperiments.ipynb\n",
       "24,example1_graph.png\n",
       "24,EXPERIMENTS_HTML_CSS_JavaScript_SVG.ipynb\n",
       "24,PRESENTATION\n",
       "24,Test1.ipynb\n",
       "24,Test1.nbconvert.ipynb\n",
       "25,__pycache__\n",
       "25,scripts\n",
       "48,Xkcd_example.ipynb\n",
       "60,nbconvert_jakevdp_blogging.ipynb\n",
       "64,openstack_errorlog.txt\n",
       "70,xkcd\n",
       "94,modules\n",
       "100,Metakernel_bash.ipynb\n",
       "236,OTHER\n",
       "297,tmp\n",
       "588,lightning-examples\n",
       "788,test.png\n",
       "1276,Bokeh_Jupyter_Interactors.ipynb\n",
       "4823,OLD\n",
       "7472,lightning-example-notebooks\n",
       "13353,node_modules"
      ]
     },
     "execution_count": 10,
     "metadata": {},
     "output_type": "execute_result"
    }
   ],
   "source": [
    "du -s * | sort -n | awk 'BEGIN { print \"xValue,yValue\"; }; { print $1\",\"$2; }'"
   ]
  },
  {
   "cell_type": "code",
   "execution_count": null,
   "metadata": {
    "collapsed": false
   },
   "outputs": [],
   "source": [
    "source ~/.metakernelrc"
   ]
  },
  {
   "cell_type": "code",
   "execution_count": null,
   "metadata": {
    "collapsed": false
   },
   "outputs": [],
   "source": [
    "%%file pop_age.csv\n",
    "age,population\n",
    "<5,2704659\n",
    "5-13,4499890\n",
    "14-17,2159981\n",
    "18-24,3853788\n",
    "25-44,14106543\n",
    "45-64,8819342\n",
    ">65,612463"
   ]
  },
  {
   "cell_type": "code",
   "execution_count": null,
   "metadata": {
    "collapsed": false
   },
   "outputs": [],
   "source": [
    "ls -altr *.csv"
   ]
  },
  {
   "cell_type": "code",
   "execution_count": null,
   "metadata": {
    "collapsed": false
   },
   "outputs": [],
   "source": [
    "csv_piechart_test pop_age.csv"
   ]
  },
  {
   "cell_type": "code",
   "execution_count": null,
   "metadata": {
    "collapsed": false
   },
   "outputs": [],
   "source": [
    "source ~/.metakernelrc"
   ]
  },
  {
   "cell_type": "code",
   "execution_count": 11,
   "metadata": {
    "collapsed": false
   },
   "outputs": [
    {
     "data": {},
     "execution_count": 11,
     "metadata": {},
     "output_type": "execute_result"
    }
   ],
   "source": [
    "(echo \"item,value\"; du -s * | sort -nr | head -10 | awk '{ print $2\",\"$1;}') > disk_usage.csv"
   ]
  },
  {
   "cell_type": "code",
   "execution_count": 12,
   "metadata": {
    "collapsed": false
   },
   "outputs": [
    {
     "data": {
      "text/plain": [
       "-rwxr-xr-x 1 mjbright Domain Users  48 Jun 13 17:45 data.csv\n",
       "-rwxr-xr-x 1 mjbright Domain Users 468 Jun 13 17:45 date_trend.csv\n",
       "-rw-r--r-- 1 mjbright Domain Users 201 Jun 13 17:47 disk_usage.csv\n",
       "item,value\n",
       "node_modules,14241\n",
       "lightning-example-notebooks,7500\n",
       "OLD,4851\n",
       "Bokeh_Jupyter_Interactors.ipynb,1276\n",
       "test.png,788\n",
       "lightning-examples,596\n",
       "tmp,313\n",
       "OTHER,236\n",
       "modules,102\n",
       "Metakernel_bash.ipynb,100"
      ]
     },
     "execution_count": 12,
     "metadata": {},
     "output_type": "execute_result"
    }
   ],
   "source": [
    "ls -altr *.csv; cat disk_usage.csv"
   ]
  },
  {
   "cell_type": "code",
   "execution_count": 16,
   "metadata": {
    "collapsed": false
   },
   "outputs": [
    {
     "data": {
      "text/plain": [
       "[Mon, Jun 13, 2016 5:48:06 PM] Sourcing <</home/mjbright/.metakernelrc>>"
      ]
     },
     "execution_count": 16,
     "metadata": {},
     "output_type": "execute_result"
    }
   ],
   "source": [
    "source ~/.metakernelrc"
   ]
  },
  {
   "cell_type": "code",
   "execution_count": 21,
   "metadata": {
    "collapsed": false
   },
   "outputs": [
    {
     "data": {
      "text/html": [
       "<script src=\"http://d3js.org/d3.v3.min.js\"></script>"
      ],
      "text/plain": [
       "<IPython.core.display.HTML object>"
      ]
     },
     "metadata": {},
     "output_type": "display_data"
    }
   ],
   "source": [
    "%%html\n",
    "<script src=\"http://d3js.org/d3.v3.min.js\"></script>\n"
   ]
  },
  {
   "cell_type": "code",
   "execution_count": 22,
   "metadata": {
    "collapsed": false
   },
   "outputs": [
    {
     "data": {
      "text/html": [
       "\n",
       "\n",
       "<!DOCTYPE html>\n",
       "\n",
       "<meta charset=\"utf-8\">\n",
       "\n",
       "<style>\n",
       "\n",
       "\n",
       "\n",
       ".arc text {\n",
       "\n",
       "  font: 10px sans-serif;\n",
       "\n",
       "  text-anchor: middle;\n",
       "\n",
       "}\n",
       "\n",
       "\n",
       "\n",
       ".arc path {\n",
       "\n",
       "  stroke: #fff;\n",
       "\n",
       "}\n",
       "\n",
       "\n",
       "\n",
       "</style>\n",
       "\n",
       "<div id=\"csv_d3piechart_1465833075\">\n",
       "\n",
       "</div>\n",
       "\n",
       "<script src=\"//d3js.org/d3.v3.min.js\"></script>\n",
       "\n",
       "<script>\n",
       "\n",
       "\n",
       "\n",
       "var width = 960,\n",
       "\n",
       "    height = 500,\n",
       "\n",
       "    radius = Math.min(width, height) / 2;\n",
       "\n",
       "\n",
       "\n",
       "    //.range([\"#98abc5\", \"#8a89a6\", \"#7b6888\", \"#6b486b\", \"#a05d56\", \"#d0743c\", \"#ff8c00\"]);\n",
       "\n",
       "var color = d3.scale.ordinal()\n",
       "\n",
       " .range([\"#98abc5\", \"#8a89a6\", \"#7b6888\", \"#6b486b\", \"#a05d56\", \"#d0743c\", \"#ff8c00\", \"#333333\", \"#336666\", \"#339999\"]);\n",
       "\n",
       "\n",
       "\n",
       "var arc = d3.svg.arc()\n",
       "\n",
       "    .outerRadius(radius - 10)\n",
       "\n",
       "    .innerRadius(0);\n",
       "\n",
       "\n",
       "\n",
       "var labelArc = d3.svg.arc()\n",
       "\n",
       "    .outerRadius(radius - 40)\n",
       "\n",
       "    .innerRadius(radius - 40);\n",
       "\n",
       "\n",
       "\n",
       "var pie = d3.layout.pie()\n",
       "\n",
       "    .sort(null)\n",
       "\n",
       "    .value(function(d) { return d.value; });\n",
       "\n",
       "\n",
       "\n",
       "var svg = d3.select(\"#csv_d3piechart_1465833075\").append(\"svg\")\n",
       "\n",
       "    .attr(\"width\", width)\n",
       "\n",
       "    .attr(\"height\", height)\n",
       "\n",
       "  .append(\"g\")\n",
       "\n",
       "    .attr(\"transform\", \"translate(\" + width / 2 + \",\" + height / 2 + \")\");\n",
       "\n",
       "\n",
       "\n",
       "d3.csv(\"tmp/csv_d3piechart.umiwse\", type, function(error, data) {\n",
       "\n",
       "  if (error) throw error;\n",
       "\n",
       "\n",
       "\n",
       "  var g = svg.selectAll(\".arc\")\n",
       "\n",
       "      .data(pie(data))\n",
       "\n",
       "    .enter().append(\"g\")\n",
       "\n",
       "      .attr(\"class\", \"arc\");\n",
       "\n",
       "\n",
       "\n",
       "  g.append(\"path\")\n",
       "\n",
       "      .attr(\"d\", arc)\n",
       "\n",
       "      .style(\"fill\", function(d) { return color(d.value); }); // color based on value\n",
       "\n",
       "\n",
       "\n",
       "  g.append(\"text\")\n",
       "\n",
       "      .attr(\"transform\", function(d) { return \"translate(\" + labelArc.centroid(d) + \")\"; })\n",
       "\n",
       "      .attr(\"dy\", \".35em\")\n",
       "\n",
       "      .text(function(d) { return \"\"+d.data.item+\"  \"+d.value+\" by\"; });\n",
       "\n",
       "});\n",
       "\n",
       "\n",
       "\n",
       "function type(d) {\n",
       "\n",
       "  d.value = +d.value;\n",
       "\n",
       "  return d;\n",
       "\n",
       "}\n",
       "\n",
       "\n",
       "\n",
       "</script>\n",
       "\n",
       "\n",
       "\n",
       "\n"
      ],
      "text/plain": [
       "<IPython.core.display.HTML object>"
      ]
     },
     "metadata": {},
     "output_type": "display_data"
    }
   ],
   "source": [
    "csv_d3piechart disk_usage.csv"
   ]
  },
  {
   "cell_type": "markdown",
   "metadata": {},
   "source": [
    "# Using Lightning Visualization\n",
    "\n",
    "## From Python (from metakernel_bash)"
   ]
  },
  {
   "cell_type": "code",
   "execution_count": 23,
   "metadata": {
    "collapsed": false
   },
   "outputs": [
    {
     "name": "stdout",
     "output_type": "stream",
     "text": [
      "Lightning initialized\n",
      "Connected to server at http://public.lightning-viz.org\n"
     ]
    },
    {
     "data": {
      "text/html": [
       "<meta name=\"viewport\" content=\"width=device-width, initial-scale=1, maximum-scale=1\"/><meta http-equiv=\"X-UA-Compatible\" content=\"IE=10; IE=9; IE=8; IE=7; IE=EDGE\"/><meta charset=\"UTF-8\"/><link href=\"//fonts.googleapis.com/css?family=Open+Sans:400,700\" rel=\"stylesheet\" type=\"text/css\"/><link rel=\"stylesheet\" href=\"http://public.lightning-viz.org/css/app.css\"/><div id=\"lightning-body\" class=\"container content wrap push\"><div class=\"feed-container\"><div data-model=\"visualization\" data-model-id=\"7cc62677-cf1a-4781-954c-e0e0ee8d0476\" class=\"feed-item-container\"><div data-type=\"lightning-line\" data-data=\"{&quot;series&quot;:[0.45490457784436267,0.13310867826798511,0.20461351870083744,0.3206135985149753,0.24277738108184943,0.8469561492978176,0.9467971875522002,0.5382672187963425,0.38168172558159497,0.055083879133724145,0.10656033219500016,0.5219746177121543,0.45116407654565416,0.18248730670259727,0.32014602991507857,0.6452611618972811,0.8386355192033901,0.6260310836970225,0.8554645851311141,0.2171109531021922,0.8937083605919148,0.5409053326055944,0.9338379335898499,0.022913769324748645,0.8825084166357103,0.7686360820381056,0.14827341747346634,0.4145184470010982,0.6077322758495105,0.9194538486445932,0.4316275971763044,0.05144600577216285,0.6776019962084904,0.8189430310996153,0.0392920133212441,0.5238733142953064,0.5484568461961625,0.8944252724580086,0.32608561792499513,0.4586815624093612,0.6803262359864062,0.9045128904328624,0.40824255427699496,0.5360955259701425,0.7722091237582415,0.26070257180272494,0.9557145549794281,0.8165928502309806,0.9351155551501357,0.9976693199359488,0.43390539502411485,0.4556651801383387,0.5165809534233432,0.23979773568990193,0.6862763285050623,0.7990725861696666,0.887970365681378,0.5746612049971151,0.5790732294712805,0.4979315595110043,0.29987978595358566,0.8508122091652669,0.11356746036595733,0.07283933713397583,0.5463020437229201,0.883293279166879,0.13909495053205267,0.8280696966074131,0.6654340616081408,0.7887431667736933,0.9677910621514202,0.7430105063332433,0.7181936204261122,0.148365102436528,0.8040487163981477,0.24315982159214045,0.3850453651180724,0.7777307631106527,0.6799243327234797,0.5777884072144172,0.8567752487884306,0.6554937258581316,0.8878363269327414,0.8598861673139269,0.5091447097939723,0.5376389667897927,0.3656480119197568,0.8194887054437743,0.5080037362941199,0.9362081292735424,0.818781975837919,0.7037075892267837,0.6638147689737932,0.008106170875307517,0.1865983570489842,0.9623918591844921,0.8379533087773363,0.4218818862083521,0.03216572452005262,0.0534896492103365]}\" data-images=\"null\" data-options=\"{&quot;width&quot;:null,&quot;height&quot;:null,&quot;zoom&quot;:true,&quot;description&quot;:null}\" id=\"viz-7cc62677-cf1a-4781-954c-e0e0ee8d0476\" data-initialized=\"false\" class=\"feed-item\"></div></div></div></div><script>window.lightning = window.lightning || {};\n",
       "window.lightning.host = \"http://public.lightning-viz.org/\" || 'http://127.0.0.1:3000/';\n",
       "window.lightning.vizCount = (window.lightning.vizCount + 1) || 1;\n",
       "window.lightning.requiredVizTypes = window.lightning.requiredVizTypes || [];\n",
       "if(window.lightning.requiredVizTypes.indexOf(\"line\") === -1) {\n",
       "    window.lightning.requiredVizTypes.push(\"line\");\n",
       "}\n",
       "window._require = window.require;\n",
       "window.require = undefined;\n",
       "window._define = window.define;\n",
       "window.define = undefined;</script><script src=\"http://public.lightning-viz.org/js/embed.js\"></script>"
      ],
      "text/plain": [
       "<IPython.core.display.HTML object>"
      ]
     },
     "execution_count": 23,
     "metadata": {},
     "output_type": "execute_result"
    }
   ],
   "source": [
    "%%python\n",
    "\n",
    "import IPython\n",
    "from lightning import Lightning\n",
    "lgn = Lightning(host=\"http://public.lightning-viz.org\")\n",
    "#lgn = Lightning(local=True)\n",
    "\n",
    "from numpy import random\n",
    "viz=lgn.line(random.random(100))\n",
    "\n",
    "html=viz.get_html()\n",
    "\n",
    "# NOTE: use of retval makes this html displayable:\n",
    "retval=IPython.display.HTML(html)"
   ]
  },
  {
   "cell_type": "code",
   "execution_count": null,
   "metadata": {
    "collapsed": false
   },
   "outputs": [],
   "source": [
    "%%python\n",
    "# Doesn't work (can't use IPython display from metakernel_python magic)\n",
    "\n",
    "from lightning import Lightning\n",
    "\n",
    "from numpy import random, asarray\n",
    "\n",
    "#lgn = Lightning(ipython=True, host='http://public.lightning-viz.org')\n",
    "lgn = Lightning(ipython=False, host='http://public.lightning-viz.org')\n",
    "\n",
    "series = random.randn(5, 50)\n",
    "\n",
    "op = lgn.line(series)\n",
    "#print(op)\n",
    "#retval=op\n",
    "import IPython\n",
    "retval=IPython.display.HTML(op.get_html())"
   ]
  },
  {
   "cell_type": "markdown",
   "metadata": {},
   "source": [
    "## From a bash function:"
   ]
  },
  {
   "cell_type": "code",
   "execution_count": null,
   "metadata": {
    "collapsed": false
   },
   "outputs": [],
   "source": [
    "reread_user_metakernelrc"
   ]
  },
  {
   "cell_type": "code",
   "execution_count": 24,
   "metadata": {
    "collapsed": false
   },
   "outputs": [
    {
     "data": {
      "text/plain": [
       "redVizTypes = window.lightning.requiredVizTypes 6660466132209,1.441926603689528,1.9153508221697857,0.5372315961710803,-1.339129849357669,-1.8338848832327204,-0.8730200205148756,-0.8311061281514083,0.493843060869469,0.2932218057880494,-0.07448924303558453,0.8609957271875547,-0.16849480003487166,0.2968945778566475,0.7447846622538579,1.3675853875935229,-2.566301998417264,0.2487455213363642,-0.7816558179521494,1.44170169179483,2.412815475862702,-0.3488742549265046,0.5169483311946808,-0.6686458887845237,-0.7628240982975532,0.6547068533784088,-1.298407400777623,0.10311680979730178],[2.637035486549446,0.23046630677082955,1.4000537795571282,-1.0851215044739662,0.7862325625503727,0.6539643299387992,-0.1370576386276495,0.46408325167459313,1.180674072066725,-1.0462820226681881,-0.18077926989102872,-0.2474965772569689,-0.14390439901550692,1.315210102241071,0.5798600653657039,0.6049362346080768,-0.2164091707269336,-1.7046841213811297,0.26946991020094047,1.4136036161363825,1.7753566662356262,-1.540575622917438,0.6048781366072521,-0.1074366247228197,-0.4758652733123904,-0.8556718296112148,-0.14379574759564134,-0.5300652028583276,0.14695253132434663,0.43986946887254147,0.3088467449867882,2.0543272099671244,-0.5935031618046376,0.0984722942832533,0.12770337978825208,-0.1973440310748943,-0.2482819362865195,1.2547431401687692,0.6712971003232652,-0.0019275939564635223,-0.4642087527075543,-1.7293905575332593,-1.2084252059332705,-1.7264605015322134,0.6653255139378282,-1.5706806462189928,0.7989902182264007,-1.9518098311014382,0.5398974516973571,-0.1901333970398889]]}\" data-images=\"null\" data-options=\"{&quot;width&quot;:null,&quot;description&quot;:null,&quot;height&quot;:null,&quot;zoom&quot;:true}\" id=\"viz-08610a55-5f28-402c-8742-04d19ba6f92b\" data-initialized=\"false\" class=\"feed-item\"></div></div></div></div><script>window.lightning = window.lightning || {};\r\n",
       "window.lightning.host = \"http://public.lightning-viz.org/\" || 'http://127.0.0.1:3000/';\r\n",
       "window.lightning.vizCount = (window.lightning.vizCount + 1) || 1;\r\n",
       "window.lightning.requi|| [];\r\n",
       "if(window.lightning.requiredVizTypes.indexOf(\"line\") === -1) {\r\n",
       "    window.lightning.requiredVizTypes.push(\"line\");\r\n",
       "}\r\n",
       "window._require = window.require;\r\n",
       "window.require = undefined;\r\n",
       "window._define = window.define;\r\n",
       "window.define = undefined;</script><script src=\"http://public.lightning-viz.org/js/embed.js\"></script>"
      ]
     },
     "execution_count": 24,
     "metadata": {},
     "output_type": "execute_result"
    }
   ],
   "source": [
    "lightning_line_test | html"
   ]
  },
  {
   "cell_type": "code",
   "execution_count": null,
   "metadata": {
    "collapsed": false
   },
   "outputs": [],
   "source": [
    "type csv_linechart"
   ]
  },
  {
   "cell_type": "markdown",
   "metadata": {},
   "source": [
    "# Using Bokeh Visualization\n",
    "\n",
    "## From Python (from metakernel_bash)"
   ]
  },
  {
   "cell_type": "code",
   "execution_count": 26,
   "metadata": {
    "collapsed": false
   },
   "outputs": [
    {
     "data": {
      "text/html": [
       "\n",
       "<!DOCTYPE html>\n",
       "<html lang=\"en\">\n",
       "    <head>\n",
       "        <meta charset=\"utf-8\">\n",
       "        <title>my plot</title>\n",
       "        \n",
       "<link rel=\"stylesheet\" href=\"https://cdn.pydata.org/bokeh/release/bokeh-0.11.1.min.css\" type=\"text/css\" />\n",
       "        \n",
       "<script type=\"text/javascript\" src=\"https://cdn.pydata.org/bokeh/release/bokeh-0.11.1.min.js\"></script>\n",
       "<script type=\"text/javascript\">\n",
       "    Bokeh.set_log_level(\"info\");\n",
       "</script>\n",
       "    </head>\n",
       "    <body>\n",
       "        \n",
       "        <div class=\"plotdiv\" id=\"2fe524f7-b09a-450d-9d90-d63d5dc00d23\"></div>\n",
       "        \n",
       "        <script type=\"text/javascript\">\n",
       "            Bokeh.$(function() {\n",
       "            var docs_json = {\"6562ae5f-74ca-42a8-9696-d35eae355e5c\":{\"roots\":{\"references\":[{\"attributes\":{\"fill_alpha\":{\"value\":0.1},\"fill_color\":{\"value\":\"#1f77b4\"},\"line_alpha\":{\"value\":0.1},\"line_color\":{\"value\":\"#1f77b4\"},\"x\":{\"field\":\"x\"},\"y\":{\"field\":\"y\"}},\"id\":\"e050708e-2bff-4fce-a1f9-dc840ac30192\",\"type\":\"Circle\"},{\"attributes\":{\"callback\":null},\"id\":\"03a1c37b-1acd-47d7-bbf1-3a5703f55508\",\"type\":\"DataRange1d\"},{\"attributes\":{\"plot\":{\"id\":\"bed68b3a-7a11-4cb2-ba05-9c8e6068d027\",\"subtype\":\"Figure\",\"type\":\"Plot\"}},\"id\":\"05b80fe2-0266-4494-9633-385ebb454909\",\"type\":\"PanTool\"},{\"attributes\":{\"plot\":{\"id\":\"299cc4fc-88e8-49fc-8bdc-ef9cec59ff92\",\"subtype\":\"Figure\",\"type\":\"Plot\"}},\"id\":\"9791e1c5-e52d-4e46-ba95-0ba84a8393ea\",\"type\":\"HelpTool\"},{\"attributes\":{\"fill_color\":{\"value\":\"#1f77b4\"},\"line_color\":{\"value\":\"#1f77b4\"},\"x\":{\"field\":\"x\"},\"y\":{\"field\":\"y\"}},\"id\":\"a769bea4-cc09-44bb-baa3-87895add7ff1\",\"type\":\"Circle\"},{\"attributes\":{\"overlay\":{\"id\":\"b5b4f190-33ea-476c-9afd-c9b87df74f81\",\"type\":\"BoxAnnotation\"},\"plot\":{\"id\":\"bed68b3a-7a11-4cb2-ba05-9c8e6068d027\",\"subtype\":\"Figure\",\"type\":\"Plot\"}},\"id\":\"75fca814-5277-4677-9939-0a690fa32fda\",\"type\":\"BoxZoomTool\"},{\"attributes\":{\"plot\":{\"id\":\"bed68b3a-7a11-4cb2-ba05-9c8e6068d027\",\"subtype\":\"Figure\",\"type\":\"Plot\"}},\"id\":\"8e72db2c-7935-4c1a-b0b5-29c40345f8f2\",\"type\":\"HelpTool\"},{\"attributes\":{\"below\":[{\"id\":\"8d9d373b-58de-4337-8ab2-1dedaf3001cc\",\"type\":\"LinearAxis\"}],\"left\":[{\"id\":\"933ce699-1f50-4d3f-8f3a-0859eea88f51\",\"type\":\"LinearAxis\"}],\"renderers\":[{\"id\":\"8d9d373b-58de-4337-8ab2-1dedaf3001cc\",\"type\":\"LinearAxis\"},{\"id\":\"9023c4d3-eae5-4c10-9899-f3b6220974b0\",\"type\":\"Grid\"},{\"id\":\"933ce699-1f50-4d3f-8f3a-0859eea88f51\",\"type\":\"LinearAxis\"},{\"id\":\"adcb8077-d342-4539-ba35-c2d19adc33a2\",\"type\":\"Grid\"},{\"id\":\"7eb9b728-64c6-40d7-9f58-34f1e65fa6fa\",\"type\":\"BoxAnnotation\"},{\"id\":\"53fbdd9c-f029-4a0f-b662-1587f4525db4\",\"type\":\"GlyphRenderer\"}],\"tool_events\":{\"id\":\"369f1ca7-791f-43e3-8190-f3ec29fdf127\",\"type\":\"ToolEvents\"},\"tools\":[{\"id\":\"cbdfc30a-f01b-4b8c-aeaf-dcf70f4a7405\",\"type\":\"PanTool\"},{\"id\":\"b8be3e01-bfb9-41cf-95e6-30b016e8574b\",\"type\":\"WheelZoomTool\"},{\"id\":\"1029d9f9-dbb5-40f3-a2c1-138e38400bcd\",\"type\":\"BoxZoomTool\"},{\"id\":\"c85d183e-7faa-4716-8dc0-313a42bf48a6\",\"type\":\"PreviewSaveTool\"},{\"id\":\"0dcdd069-9688-40d2-b68c-acdecb4b6804\",\"type\":\"ResizeTool\"},{\"id\":\"143f906b-d1d9-46d9-a5ab-f03838a19f5b\",\"type\":\"ResetTool\"},{\"id\":\"9791e1c5-e52d-4e46-ba95-0ba84a8393ea\",\"type\":\"HelpTool\"}],\"x_range\":{\"id\":\"c035b4c7-caaa-4c8a-b3eb-c1b0a7205624\",\"type\":\"DataRange1d\"},\"y_range\":{\"id\":\"2aa63548-720f-4cc5-b145-6e996d265d1a\",\"type\":\"DataRange1d\"}},\"id\":\"299cc4fc-88e8-49fc-8bdc-ef9cec59ff92\",\"subtype\":\"Figure\",\"type\":\"Plot\"},{\"attributes\":{\"plot\":{\"id\":\"bed68b3a-7a11-4cb2-ba05-9c8e6068d027\",\"subtype\":\"Figure\",\"type\":\"Plot\"}},\"id\":\"f06a67b1-832f-4290-a6ae-ba82a406f2e3\",\"type\":\"WheelZoomTool\"},{\"attributes\":{\"formatter\":{\"id\":\"538af4bd-1a0f-4e5c-b0b2-ad79a0734929\",\"type\":\"BasicTickFormatter\"},\"plot\":{\"id\":\"bed68b3a-7a11-4cb2-ba05-9c8e6068d027\",\"subtype\":\"Figure\",\"type\":\"Plot\"},\"ticker\":{\"id\":\"9eb44cd5-b5d0-4865-aec5-0d5fa181b966\",\"type\":\"BasicTicker\"}},\"id\":\"844c7d06-d8ae-45c0-8bfa-9a865ef814fc\",\"type\":\"LinearAxis\"},{\"attributes\":{\"callback\":null},\"id\":\"bac05c8f-87e8-4dde-bcfb-801e8cefeecf\",\"type\":\"DataRange1d\"},{\"attributes\":{\"plot\":{\"id\":\"bed68b3a-7a11-4cb2-ba05-9c8e6068d027\",\"subtype\":\"Figure\",\"type\":\"Plot\"},\"ticker\":{\"id\":\"916234c3-1127-4be1-ac71-59dda8a629ae\",\"type\":\"BasicTicker\"}},\"id\":\"588b555a-12e8-47ff-8a2f-403503274239\",\"type\":\"Grid\"},{\"attributes\":{\"plot\":{\"id\":\"299cc4fc-88e8-49fc-8bdc-ef9cec59ff92\",\"subtype\":\"Figure\",\"type\":\"Plot\"},\"ticker\":{\"id\":\"2eab25a8-53df-4396-8158-842f347335f8\",\"type\":\"BasicTicker\"}},\"id\":\"9023c4d3-eae5-4c10-9899-f3b6220974b0\",\"type\":\"Grid\"},{\"attributes\":{},\"id\":\"2eab25a8-53df-4396-8158-842f347335f8\",\"type\":\"BasicTicker\"},{\"attributes\":{\"bottom_units\":\"screen\",\"fill_alpha\":{\"value\":0.5},\"fill_color\":{\"value\":\"lightgrey\"},\"left_units\":\"screen\",\"level\":\"overlay\",\"line_alpha\":{\"value\":1.0},\"line_color\":{\"value\":\"black\"},\"line_dash\":[4,4],\"line_width\":{\"value\":2},\"plot\":null,\"render_mode\":\"css\",\"right_units\":\"screen\",\"top_units\":\"screen\"},\"id\":\"b5b4f190-33ea-476c-9afd-c9b87df74f81\",\"type\":\"BoxAnnotation\"},{\"attributes\":{},\"id\":\"369f1ca7-791f-43e3-8190-f3ec29fdf127\",\"type\":\"ToolEvents\"},{\"attributes\":{\"callback\":null,\"column_names\":[\"x\",\"y\"],\"data\":{\"x\":[1,2],\"y\":[3,4]}},\"id\":\"e0960db2-3e98-4e5b-bef2-735c18822df4\",\"type\":\"ColumnDataSource\"},{\"attributes\":{},\"id\":\"916234c3-1127-4be1-ac71-59dda8a629ae\",\"type\":\"BasicTicker\"},{\"attributes\":{},\"id\":\"9eb44cd5-b5d0-4865-aec5-0d5fa181b966\",\"type\":\"BasicTicker\"},{\"attributes\":{\"formatter\":{\"id\":\"94befa20-e3b3-482c-abe0-52836ee0726d\",\"type\":\"BasicTickFormatter\"},\"plot\":{\"id\":\"bed68b3a-7a11-4cb2-ba05-9c8e6068d027\",\"subtype\":\"Figure\",\"type\":\"Plot\"},\"ticker\":{\"id\":\"916234c3-1127-4be1-ac71-59dda8a629ae\",\"type\":\"BasicTicker\"}},\"id\":\"23afe945-55dd-4356-b032-72244aa53e9a\",\"type\":\"LinearAxis\"},{\"attributes\":{\"callback\":null},\"id\":\"2aa63548-720f-4cc5-b145-6e996d265d1a\",\"type\":\"DataRange1d\"},{\"attributes\":{\"dimension\":1,\"plot\":{\"id\":\"299cc4fc-88e8-49fc-8bdc-ef9cec59ff92\",\"subtype\":\"Figure\",\"type\":\"Plot\"},\"ticker\":{\"id\":\"2068550e-6ed5-429e-bdbe-a8a3b9c06e0a\",\"type\":\"BasicTicker\"}},\"id\":\"adcb8077-d342-4539-ba35-c2d19adc33a2\",\"type\":\"Grid\"},{\"attributes\":{\"data_source\":{\"id\":\"e10304ae-9770-4e8b-8b28-b004455499b3\",\"type\":\"ColumnDataSource\"},\"glyph\":{\"id\":\"5b070184-71c1-48f0-a2ad-6a5dacd331ac\",\"type\":\"Circle\"},\"hover_glyph\":null,\"nonselection_glyph\":{\"id\":\"38837142-01af-43c3-8b39-b549edc266a2\",\"type\":\"Circle\"},\"selection_glyph\":null},\"id\":\"a7e1fd36-dcfc-48e9-a3be-cc3715026793\",\"type\":\"GlyphRenderer\"},{\"attributes\":{\"plot\":{\"id\":\"299cc4fc-88e8-49fc-8bdc-ef9cec59ff92\",\"subtype\":\"Figure\",\"type\":\"Plot\"}},\"id\":\"143f906b-d1d9-46d9-a5ab-f03838a19f5b\",\"type\":\"ResetTool\"},{\"attributes\":{\"callback\":null},\"id\":\"c035b4c7-caaa-4c8a-b3eb-c1b0a7205624\",\"type\":\"DataRange1d\"},{\"attributes\":{\"dimension\":1,\"plot\":{\"id\":\"bed68b3a-7a11-4cb2-ba05-9c8e6068d027\",\"subtype\":\"Figure\",\"type\":\"Plot\"},\"ticker\":{\"id\":\"9eb44cd5-b5d0-4865-aec5-0d5fa181b966\",\"type\":\"BasicTicker\"}},\"id\":\"ee6d0e3f-4e5b-4368-869f-be34c7dfaf36\",\"type\":\"Grid\"},{\"attributes\":{},\"id\":\"538af4bd-1a0f-4e5c-b0b2-ad79a0734929\",\"type\":\"BasicTickFormatter\"},{\"attributes\":{\"overlay\":{\"id\":\"7eb9b728-64c6-40d7-9f58-34f1e65fa6fa\",\"type\":\"BoxAnnotation\"},\"plot\":{\"id\":\"299cc4fc-88e8-49fc-8bdc-ef9cec59ff92\",\"subtype\":\"Figure\",\"type\":\"Plot\"}},\"id\":\"1029d9f9-dbb5-40f3-a2c1-138e38400bcd\",\"type\":\"BoxZoomTool\"},{\"attributes\":{\"bottom_units\":\"screen\",\"fill_alpha\":{\"value\":0.5},\"fill_color\":{\"value\":\"lightgrey\"},\"left_units\":\"screen\",\"level\":\"overlay\",\"line_alpha\":{\"value\":1.0},\"line_color\":{\"value\":\"black\"},\"line_dash\":[4,4],\"line_width\":{\"value\":2},\"plot\":null,\"render_mode\":\"css\",\"right_units\":\"screen\",\"top_units\":\"screen\"},\"id\":\"7eb9b728-64c6-40d7-9f58-34f1e65fa6fa\",\"type\":\"BoxAnnotation\"},{\"attributes\":{\"formatter\":{\"id\":\"fed83b97-2b8a-4f7c-a736-ffaf7b5a8d4e\",\"type\":\"BasicTickFormatter\"},\"plot\":{\"id\":\"299cc4fc-88e8-49fc-8bdc-ef9cec59ff92\",\"subtype\":\"Figure\",\"type\":\"Plot\"},\"ticker\":{\"id\":\"2eab25a8-53df-4396-8158-842f347335f8\",\"type\":\"BasicTicker\"}},\"id\":\"8d9d373b-58de-4337-8ab2-1dedaf3001cc\",\"type\":\"LinearAxis\"},{\"attributes\":{\"fill_color\":{\"value\":\"#1f77b4\"},\"line_color\":{\"value\":\"#1f77b4\"},\"x\":{\"field\":\"x\"},\"y\":{\"field\":\"y\"}},\"id\":\"5b070184-71c1-48f0-a2ad-6a5dacd331ac\",\"type\":\"Circle\"},{\"attributes\":{\"plot\":{\"id\":\"299cc4fc-88e8-49fc-8bdc-ef9cec59ff92\",\"subtype\":\"Figure\",\"type\":\"Plot\"}},\"id\":\"b8be3e01-bfb9-41cf-95e6-30b016e8574b\",\"type\":\"WheelZoomTool\"},{\"attributes\":{\"plot\":{\"id\":\"299cc4fc-88e8-49fc-8bdc-ef9cec59ff92\",\"subtype\":\"Figure\",\"type\":\"Plot\"}},\"id\":\"cbdfc30a-f01b-4b8c-aeaf-dcf70f4a7405\",\"type\":\"PanTool\"},{\"attributes\":{\"plot\":{\"id\":\"299cc4fc-88e8-49fc-8bdc-ef9cec59ff92\",\"subtype\":\"Figure\",\"type\":\"Plot\"}},\"id\":\"0dcdd069-9688-40d2-b68c-acdecb4b6804\",\"type\":\"ResizeTool\"},{\"attributes\":{\"plot\":{\"id\":\"bed68b3a-7a11-4cb2-ba05-9c8e6068d027\",\"subtype\":\"Figure\",\"type\":\"Plot\"}},\"id\":\"2fad12f6-d27f-4bc5-8a60-7e77845af77c\",\"type\":\"ResetTool\"},{\"attributes\":{\"data_source\":{\"id\":\"e0960db2-3e98-4e5b-bef2-735c18822df4\",\"type\":\"ColumnDataSource\"},\"glyph\":{\"id\":\"a769bea4-cc09-44bb-baa3-87895add7ff1\",\"type\":\"Circle\"},\"hover_glyph\":null,\"nonselection_glyph\":{\"id\":\"e050708e-2bff-4fce-a1f9-dc840ac30192\",\"type\":\"Circle\"},\"selection_glyph\":null},\"id\":\"53fbdd9c-f029-4a0f-b662-1587f4525db4\",\"type\":\"GlyphRenderer\"},{\"attributes\":{\"plot\":{\"id\":\"bed68b3a-7a11-4cb2-ba05-9c8e6068d027\",\"subtype\":\"Figure\",\"type\":\"Plot\"}},\"id\":\"4c4ab564-4410-479a-a13d-9dee0d14b112\",\"type\":\"ResizeTool\"},{\"attributes\":{},\"id\":\"2068550e-6ed5-429e-bdbe-a8a3b9c06e0a\",\"type\":\"BasicTicker\"},{\"attributes\":{},\"id\":\"aca22cf5-433b-487f-9c0a-a7c16f2bda0a\",\"type\":\"BasicTickFormatter\"},{\"attributes\":{},\"id\":\"fed83b97-2b8a-4f7c-a736-ffaf7b5a8d4e\",\"type\":\"BasicTickFormatter\"},{\"attributes\":{\"callback\":null,\"column_names\":[\"x\",\"y\"],\"data\":{\"x\":[1,2],\"y\":[3,4]}},\"id\":\"e10304ae-9770-4e8b-8b28-b004455499b3\",\"type\":\"ColumnDataSource\"},{\"attributes\":{},\"id\":\"94befa20-e3b3-482c-abe0-52836ee0726d\",\"type\":\"BasicTickFormatter\"},{\"attributes\":{\"plot\":{\"id\":\"299cc4fc-88e8-49fc-8bdc-ef9cec59ff92\",\"subtype\":\"Figure\",\"type\":\"Plot\"}},\"id\":\"c85d183e-7faa-4716-8dc0-313a42bf48a6\",\"type\":\"PreviewSaveTool\"},{\"attributes\":{},\"id\":\"069abbea-a48f-42e7-beab-3c2b7f10b907\",\"type\":\"ToolEvents\"},{\"attributes\":{\"formatter\":{\"id\":\"aca22cf5-433b-487f-9c0a-a7c16f2bda0a\",\"type\":\"BasicTickFormatter\"},\"plot\":{\"id\":\"299cc4fc-88e8-49fc-8bdc-ef9cec59ff92\",\"subtype\":\"Figure\",\"type\":\"Plot\"},\"ticker\":{\"id\":\"2068550e-6ed5-429e-bdbe-a8a3b9c06e0a\",\"type\":\"BasicTicker\"}},\"id\":\"933ce699-1f50-4d3f-8f3a-0859eea88f51\",\"type\":\"LinearAxis\"},{\"attributes\":{\"fill_alpha\":{\"value\":0.1},\"fill_color\":{\"value\":\"#1f77b4\"},\"line_alpha\":{\"value\":0.1},\"line_color\":{\"value\":\"#1f77b4\"},\"x\":{\"field\":\"x\"},\"y\":{\"field\":\"y\"}},\"id\":\"38837142-01af-43c3-8b39-b549edc266a2\",\"type\":\"Circle\"},{\"attributes\":{\"plot\":{\"id\":\"bed68b3a-7a11-4cb2-ba05-9c8e6068d027\",\"subtype\":\"Figure\",\"type\":\"Plot\"}},\"id\":\"9e4b64b2-7fb5-4ad0-a886-c1bc4916df8e\",\"type\":\"PreviewSaveTool\"},{\"attributes\":{\"below\":[{\"id\":\"23afe945-55dd-4356-b032-72244aa53e9a\",\"type\":\"LinearAxis\"}],\"left\":[{\"id\":\"844c7d06-d8ae-45c0-8bfa-9a865ef814fc\",\"type\":\"LinearAxis\"}],\"renderers\":[{\"id\":\"23afe945-55dd-4356-b032-72244aa53e9a\",\"type\":\"LinearAxis\"},{\"id\":\"588b555a-12e8-47ff-8a2f-403503274239\",\"type\":\"Grid\"},{\"id\":\"844c7d06-d8ae-45c0-8bfa-9a865ef814fc\",\"type\":\"LinearAxis\"},{\"id\":\"ee6d0e3f-4e5b-4368-869f-be34c7dfaf36\",\"type\":\"Grid\"},{\"id\":\"b5b4f190-33ea-476c-9afd-c9b87df74f81\",\"type\":\"BoxAnnotation\"},{\"id\":\"a7e1fd36-dcfc-48e9-a3be-cc3715026793\",\"type\":\"GlyphRenderer\"}],\"tool_events\":{\"id\":\"069abbea-a48f-42e7-beab-3c2b7f10b907\",\"type\":\"ToolEvents\"},\"tools\":[{\"id\":\"05b80fe2-0266-4494-9633-385ebb454909\",\"type\":\"PanTool\"},{\"id\":\"f06a67b1-832f-4290-a6ae-ba82a406f2e3\",\"type\":\"WheelZoomTool\"},{\"id\":\"75fca814-5277-4677-9939-0a690fa32fda\",\"type\":\"BoxZoomTool\"},{\"id\":\"9e4b64b2-7fb5-4ad0-a886-c1bc4916df8e\",\"type\":\"PreviewSaveTool\"},{\"id\":\"4c4ab564-4410-479a-a13d-9dee0d14b112\",\"type\":\"ResizeTool\"},{\"id\":\"2fad12f6-d27f-4bc5-8a60-7e77845af77c\",\"type\":\"ResetTool\"},{\"id\":\"8e72db2c-7935-4c1a-b0b5-29c40345f8f2\",\"type\":\"HelpTool\"}],\"x_range\":{\"id\":\"03a1c37b-1acd-47d7-bbf1-3a5703f55508\",\"type\":\"DataRange1d\"},\"y_range\":{\"id\":\"bac05c8f-87e8-4dde-bcfb-801e8cefeecf\",\"type\":\"DataRange1d\"}},\"id\":\"bed68b3a-7a11-4cb2-ba05-9c8e6068d027\",\"subtype\":\"Figure\",\"type\":\"Plot\"}],\"root_ids\":[\"bed68b3a-7a11-4cb2-ba05-9c8e6068d027\",\"299cc4fc-88e8-49fc-8bdc-ef9cec59ff92\"]},\"title\":\"Bokeh Application\",\"version\":\"0.11.1\"}};\n",
       "            var render_items = [{\"docid\":\"6562ae5f-74ca-42a8-9696-d35eae355e5c\",\"elementid\":\"2fe524f7-b09a-450d-9d90-d63d5dc00d23\",\"modelid\":\"299cc4fc-88e8-49fc-8bdc-ef9cec59ff92\"}];\n",
       "            \n",
       "            Bokeh.embed.embed_items(docs_json, render_items);\n",
       "        });\n",
       "        </script>\n",
       "    </body>\n",
       "</html>"
      ],
      "text/plain": [
       "<IPython.core.display.HTML object>"
      ]
     },
     "execution_count": 26,
     "metadata": {},
     "output_type": "execute_result"
    }
   ],
   "source": [
    "%%python\n",
    "\n",
    "from bokeh.plotting import figure\n",
    "from bokeh.resources import CDN\n",
    "from bokeh.embed import file_html\n",
    "\n",
    "plot = figure()\n",
    "plot.circle([1,2], [3,4])\n",
    "\n",
    "html = file_html(plot, CDN, \"my plot\")\n",
    "#DONT PRINT - this crashes the browser tab: print(html)\n",
    "\n",
    "import IPython\n",
    "retval=IPython.display.HTML(html)"
   ]
  },
  {
   "cell_type": "code",
   "execution_count": 27,
   "metadata": {
    "collapsed": false
   },
   "outputs": [
    {
     "data": {
      "text/html": [
       "\n",
       "<!DOCTYPE html>\n",
       "<html lang=\"en\">\n",
       "    <head>\n",
       "        <meta charset=\"utf-8\">\n",
       "        <title>my 2nd plot</title>\n",
       "        \n",
       "<link rel=\"stylesheet\" href=\"https://cdn.pydata.org/bokeh/release/bokeh-0.11.1.min.css\" type=\"text/css\" />\n",
       "        \n",
       "<script type=\"text/javascript\" src=\"https://cdn.pydata.org/bokeh/release/bokeh-0.11.1.min.js\"></script>\n",
       "<script type=\"text/javascript\">\n",
       "    Bokeh.set_log_level(\"info\");\n",
       "</script>\n",
       "    </head>\n",
       "    <body>\n",
       "        \n",
       "        <div class=\"plotdiv\" id=\"5d6b39b8-beda-4dae-b014-76ff2d43af9e\"></div>\n",
       "        \n",
       "        <script type=\"text/javascript\">\n",
       "            Bokeh.$(function() {\n",
       "            var docs_json = {\"d0960966-06d4-4c5c-9558-8f3f205de51b\":{\"roots\":{\"references\":[{\"attributes\":{\"plot\":{\"id\":\"7c0c78fd-2c17-46c5-bc5a-09fa76c1bb29\",\"subtype\":\"Figure\",\"type\":\"Plot\"}},\"id\":\"b686b303-126e-47f5-a9bd-1891968b5f8b\",\"type\":\"ResizeTool\"},{\"attributes\":{\"callback\":null},\"id\":\"03a1c37b-1acd-47d7-bbf1-3a5703f55508\",\"type\":\"DataRange1d\"},{\"attributes\":{\"plot\":{\"id\":\"7c0c78fd-2c17-46c5-bc5a-09fa76c1bb29\",\"subtype\":\"Figure\",\"type\":\"Plot\"}},\"id\":\"a9f16df4-16ca-408d-8d5b-cf9dd5bf4aff\",\"type\":\"ResetTool\"},{\"attributes\":{\"data_source\":{\"id\":\"e10304ae-9770-4e8b-8b28-b004455499b3\",\"type\":\"ColumnDataSource\"},\"glyph\":{\"id\":\"5b070184-71c1-48f0-a2ad-6a5dacd331ac\",\"type\":\"Circle\"},\"hover_glyph\":null,\"nonselection_glyph\":{\"id\":\"38837142-01af-43c3-8b39-b549edc266a2\",\"type\":\"Circle\"},\"selection_glyph\":null},\"id\":\"a7e1fd36-dcfc-48e9-a3be-cc3715026793\",\"type\":\"GlyphRenderer\"},{\"attributes\":{\"plot\":{\"id\":\"7c0c78fd-2c17-46c5-bc5a-09fa76c1bb29\",\"subtype\":\"Figure\",\"type\":\"Plot\"},\"ticker\":{\"id\":\"1de07b0d-b3a1-4b47-8d1d-3b6ff011f74c\",\"type\":\"BasicTicker\"}},\"id\":\"dc204248-ba5d-4b18-b032-ce4e4af8d5c8\",\"type\":\"Grid\"},{\"attributes\":{\"plot\":{\"id\":\"bed68b3a-7a11-4cb2-ba05-9c8e6068d027\",\"subtype\":\"Figure\",\"type\":\"Plot\"}},\"id\":\"05b80fe2-0266-4494-9633-385ebb454909\",\"type\":\"PanTool\"},{\"attributes\":{\"fill_alpha\":{\"value\":0.1},\"fill_color\":{\"value\":\"#1f77b4\"},\"line_alpha\":{\"value\":0.1},\"line_color\":{\"value\":\"#1f77b4\"},\"x\":{\"field\":\"x\"},\"y\":{\"field\":\"y\"}},\"id\":\"e050708e-2bff-4fce-a1f9-dc840ac30192\",\"type\":\"Circle\"},{\"attributes\":{\"callback\":null},\"id\":\"c51defc7-4449-4250-8033-3754a4ec725a\",\"type\":\"DataRange1d\"},{\"attributes\":{\"line_alpha\":{\"value\":0.1},\"line_color\":{\"value\":\"#1f77b4\"},\"line_width\":{\"value\":3},\"x\":{\"field\":\"x\"},\"y\":{\"field\":\"y\"}},\"id\":\"2d2c2eac-e0c6-4c92-96e2-6cf1b93e404e\",\"type\":\"Line\"},{\"attributes\":{\"fill_color\":{\"value\":\"#1f77b4\"},\"line_color\":{\"value\":\"#1f77b4\"},\"x\":{\"field\":\"x\"},\"y\":{\"field\":\"y\"}},\"id\":\"a769bea4-cc09-44bb-baa3-87895add7ff1\",\"type\":\"Circle\"},{\"attributes\":{\"overlay\":{\"id\":\"b5b4f190-33ea-476c-9afd-c9b87df74f81\",\"type\":\"BoxAnnotation\"},\"plot\":{\"id\":\"bed68b3a-7a11-4cb2-ba05-9c8e6068d027\",\"subtype\":\"Figure\",\"type\":\"Plot\"}},\"id\":\"75fca814-5277-4677-9939-0a690fa32fda\",\"type\":\"BoxZoomTool\"},{\"attributes\":{\"dimension\":1,\"plot\":{\"id\":\"7c0c78fd-2c17-46c5-bc5a-09fa76c1bb29\",\"subtype\":\"Figure\",\"type\":\"Plot\"},\"ticker\":{\"id\":\"315259c8-aced-48d9-adf3-08c74aa338bd\",\"type\":\"BasicTicker\"}},\"id\":\"b0bd6c33-4aa1-4f5b-bd13-6eb4eb502acb\",\"type\":\"Grid\"},{\"attributes\":{\"plot\":{\"id\":\"bed68b3a-7a11-4cb2-ba05-9c8e6068d027\",\"subtype\":\"Figure\",\"type\":\"Plot\"}},\"id\":\"8e72db2c-7935-4c1a-b0b5-29c40345f8f2\",\"type\":\"HelpTool\"},{\"attributes\":{\"data_source\":{\"id\":\"c4433c7e-ff9c-46e7-957c-16cd875a28e7\",\"type\":\"ColumnDataSource\"},\"glyph\":{\"id\":\"2dd6d7f2-f3a8-42b6-b327-0b181d58d699\",\"type\":\"Line\"},\"hover_glyph\":null,\"nonselection_glyph\":{\"id\":\"2d2c2eac-e0c6-4c92-96e2-6cf1b93e404e\",\"type\":\"Line\"},\"selection_glyph\":null},\"id\":\"087c9f2f-1e1f-4e10-91c8-cf5d48b72f29\",\"type\":\"GlyphRenderer\"},{\"attributes\":{\"below\":[{\"id\":\"8d9d373b-58de-4337-8ab2-1dedaf3001cc\",\"type\":\"LinearAxis\"}],\"left\":[{\"id\":\"933ce699-1f50-4d3f-8f3a-0859eea88f51\",\"type\":\"LinearAxis\"}],\"renderers\":[{\"id\":\"8d9d373b-58de-4337-8ab2-1dedaf3001cc\",\"type\":\"LinearAxis\"},{\"id\":\"9023c4d3-eae5-4c10-9899-f3b6220974b0\",\"type\":\"Grid\"},{\"id\":\"933ce699-1f50-4d3f-8f3a-0859eea88f51\",\"type\":\"LinearAxis\"},{\"id\":\"adcb8077-d342-4539-ba35-c2d19adc33a2\",\"type\":\"Grid\"},{\"id\":\"7eb9b728-64c6-40d7-9f58-34f1e65fa6fa\",\"type\":\"BoxAnnotation\"},{\"id\":\"53fbdd9c-f029-4a0f-b662-1587f4525db4\",\"type\":\"GlyphRenderer\"}],\"tool_events\":{\"id\":\"369f1ca7-791f-43e3-8190-f3ec29fdf127\",\"type\":\"ToolEvents\"},\"tools\":[{\"id\":\"cbdfc30a-f01b-4b8c-aeaf-dcf70f4a7405\",\"type\":\"PanTool\"},{\"id\":\"b8be3e01-bfb9-41cf-95e6-30b016e8574b\",\"type\":\"WheelZoomTool\"},{\"id\":\"1029d9f9-dbb5-40f3-a2c1-138e38400bcd\",\"type\":\"BoxZoomTool\"},{\"id\":\"c85d183e-7faa-4716-8dc0-313a42bf48a6\",\"type\":\"PreviewSaveTool\"},{\"id\":\"0dcdd069-9688-40d2-b68c-acdecb4b6804\",\"type\":\"ResizeTool\"},{\"id\":\"143f906b-d1d9-46d9-a5ab-f03838a19f5b\",\"type\":\"ResetTool\"},{\"id\":\"9791e1c5-e52d-4e46-ba95-0ba84a8393ea\",\"type\":\"HelpTool\"}],\"x_range\":{\"id\":\"c035b4c7-caaa-4c8a-b3eb-c1b0a7205624\",\"type\":\"DataRange1d\"},\"y_range\":{\"id\":\"2aa63548-720f-4cc5-b145-6e996d265d1a\",\"type\":\"DataRange1d\"}},\"id\":\"299cc4fc-88e8-49fc-8bdc-ef9cec59ff92\",\"subtype\":\"Figure\",\"type\":\"Plot\"},{\"attributes\":{\"plot\":{\"id\":\"bed68b3a-7a11-4cb2-ba05-9c8e6068d027\",\"subtype\":\"Figure\",\"type\":\"Plot\"}},\"id\":\"f06a67b1-832f-4290-a6ae-ba82a406f2e3\",\"type\":\"WheelZoomTool\"},{\"attributes\":{\"formatter\":{\"id\":\"538af4bd-1a0f-4e5c-b0b2-ad79a0734929\",\"type\":\"BasicTickFormatter\"},\"plot\":{\"id\":\"bed68b3a-7a11-4cb2-ba05-9c8e6068d027\",\"subtype\":\"Figure\",\"type\":\"Plot\"},\"ticker\":{\"id\":\"9eb44cd5-b5d0-4865-aec5-0d5fa181b966\",\"type\":\"BasicTicker\"}},\"id\":\"844c7d06-d8ae-45c0-8bfa-9a865ef814fc\",\"type\":\"LinearAxis\"},{\"attributes\":{\"callback\":null},\"id\":\"bac05c8f-87e8-4dde-bcfb-801e8cefeecf\",\"type\":\"DataRange1d\"},{\"attributes\":{},\"id\":\"26272baa-7527-43e6-8ede-e0f53cc1e499\",\"type\":\"BasicTickFormatter\"},{\"attributes\":{},\"id\":\"1de07b0d-b3a1-4b47-8d1d-3b6ff011f74c\",\"type\":\"BasicTicker\"},{\"attributes\":{\"plot\":{\"id\":\"bed68b3a-7a11-4cb2-ba05-9c8e6068d027\",\"subtype\":\"Figure\",\"type\":\"Plot\"},\"ticker\":{\"id\":\"916234c3-1127-4be1-ac71-59dda8a629ae\",\"type\":\"BasicTicker\"}},\"id\":\"588b555a-12e8-47ff-8a2f-403503274239\",\"type\":\"Grid\"},{\"attributes\":{\"plot\":{\"id\":\"299cc4fc-88e8-49fc-8bdc-ef9cec59ff92\",\"subtype\":\"Figure\",\"type\":\"Plot\"},\"ticker\":{\"id\":\"2eab25a8-53df-4396-8158-842f347335f8\",\"type\":\"BasicTicker\"}},\"id\":\"9023c4d3-eae5-4c10-9899-f3b6220974b0\",\"type\":\"Grid\"},{\"attributes\":{},\"id\":\"2eab25a8-53df-4396-8158-842f347335f8\",\"type\":\"BasicTicker\"},{\"attributes\":{\"bottom_units\":\"screen\",\"fill_alpha\":{\"value\":0.5},\"fill_color\":{\"value\":\"lightgrey\"},\"left_units\":\"screen\",\"level\":\"overlay\",\"line_alpha\":{\"value\":1.0},\"line_color\":{\"value\":\"black\"},\"line_dash\":[4,4],\"line_width\":{\"value\":2},\"plot\":null,\"render_mode\":\"css\",\"right_units\":\"screen\",\"top_units\":\"screen\"},\"id\":\"b5b4f190-33ea-476c-9afd-c9b87df74f81\",\"type\":\"BoxAnnotation\"},{\"attributes\":{},\"id\":\"369f1ca7-791f-43e3-8190-f3ec29fdf127\",\"type\":\"ToolEvents\"},{\"attributes\":{\"callback\":null,\"column_names\":[\"x\",\"y\"],\"data\":{\"x\":[1,2],\"y\":[3,4]}},\"id\":\"e0960db2-3e98-4e5b-bef2-735c18822df4\",\"type\":\"ColumnDataSource\"},{\"attributes\":{},\"id\":\"916234c3-1127-4be1-ac71-59dda8a629ae\",\"type\":\"BasicTicker\"},{\"attributes\":{},\"id\":\"9eb44cd5-b5d0-4865-aec5-0d5fa181b966\",\"type\":\"BasicTicker\"},{\"attributes\":{},\"id\":\"0af5cb66-3287-4fd3-bdf9-24226dd2e191\",\"type\":\"ToolEvents\"},{\"attributes\":{\"formatter\":{\"id\":\"94befa20-e3b3-482c-abe0-52836ee0726d\",\"type\":\"BasicTickFormatter\"},\"plot\":{\"id\":\"bed68b3a-7a11-4cb2-ba05-9c8e6068d027\",\"subtype\":\"Figure\",\"type\":\"Plot\"},\"ticker\":{\"id\":\"916234c3-1127-4be1-ac71-59dda8a629ae\",\"type\":\"BasicTicker\"}},\"id\":\"23afe945-55dd-4356-b032-72244aa53e9a\",\"type\":\"LinearAxis\"},{\"attributes\":{\"plot\":{\"id\":\"299cc4fc-88e8-49fc-8bdc-ef9cec59ff92\",\"subtype\":\"Figure\",\"type\":\"Plot\"}},\"id\":\"143f906b-d1d9-46d9-a5ab-f03838a19f5b\",\"type\":\"ResetTool\"},{\"attributes\":{\"callback\":null},\"id\":\"2aa63548-720f-4cc5-b145-6e996d265d1a\",\"type\":\"DataRange1d\"},{\"attributes\":{\"dimension\":1,\"plot\":{\"id\":\"299cc4fc-88e8-49fc-8bdc-ef9cec59ff92\",\"subtype\":\"Figure\",\"type\":\"Plot\"},\"ticker\":{\"id\":\"2068550e-6ed5-429e-bdbe-a8a3b9c06e0a\",\"type\":\"BasicTicker\"}},\"id\":\"adcb8077-d342-4539-ba35-c2d19adc33a2\",\"type\":\"Grid\"},{\"attributes\":{},\"id\":\"069abbea-a48f-42e7-beab-3c2b7f10b907\",\"type\":\"ToolEvents\"},{\"attributes\":{\"line_color\":{\"value\":\"#2222aa\"},\"line_width\":{\"value\":3},\"x\":{\"field\":\"x\"},\"y\":{\"field\":\"y\"}},\"id\":\"2dd6d7f2-f3a8-42b6-b327-0b181d58d699\",\"type\":\"Line\"},{\"attributes\":{\"overlay\":{\"id\":\"7eb9b728-64c6-40d7-9f58-34f1e65fa6fa\",\"type\":\"BoxAnnotation\"},\"plot\":{\"id\":\"299cc4fc-88e8-49fc-8bdc-ef9cec59ff92\",\"subtype\":\"Figure\",\"type\":\"Plot\"}},\"id\":\"1029d9f9-dbb5-40f3-a2c1-138e38400bcd\",\"type\":\"BoxZoomTool\"},{\"attributes\":{\"callback\":null,\"column_names\":[\"x\",\"y\"],\"data\":{\"x\":[0.0,0.003143164235707647,0.006286328471415294,0.009429492707122941,0.012572656942830588,0.015715821178538234,0.018858985414245882,0.022002149649953527,0.025145313885661175,0.028288478121368824,0.03143164235707647,0.03457480659278411,0.037717970828491765,0.04086113506419941,0.044004299299907054,0.047147463535614706,0.05029062777132235,0.053433792007029995,0.05657695624273765,0.05972012047844529,0.06286328471415294,0.06600644894986059,0.06914961318556823,0.07229277742127588,0.07543594165698353,0.07857910589269117,0.08172227012839882,0.08486543436410647,0.08800859859981411,0.09115176283552176,0.09429492707122941,0.09743809130693705,0.1005812555426447,0.10372441977835235,0.10686758401405999,0.11001074824976764,0.1131539124854753,0.11629707672118293,0.11944024095689058,0.12258340519259824,0.12572656942830587,0.12886973366401352,0.13201289789972118,0.13515606213542883,0.13829922637113645,0.1414423906068441,0.14458555484255176,0.1477287190782594,0.15087188331396706,0.1540150475496747,0.15715821178538233,0.16030137602109,0.16344454025679764,0.1665877044925053,0.16973086872821294,0.1728740329639206,0.17601719719962822,0.17916036143533587,0.18230352567104352,0.18544668990675117,0.18858985414245882,0.19173301837816648,0.1948761826138741,0.19801934684958175,0.2011625110852894,0.20430567532099705,0.2074488395567047,0.21059200379241233,0.21373516802811998,0.21687833226382763,0.22002149649953529,0.22316466073524294,0.2263078249709506,0.2294509892066582,0.23259415344236586,0.23573731767807352,0.23888048191378117,0.24202364614948882,0.24516681038519647,0.2483099746209041,0.25145313885661175,0.2545963030923194,0.25773946732802705,0.2608826315637347,0.26402579579944235,0.26716896003515,0.27031212427085766,0.2734552885065653,0.2765984527422729,0.27974161697798056,0.2828847812136882,0.28602794544939586,0.2891711096851035,0.29231427392081116,0.2954574381565188,0.29860060239222647,0.3017437666279341,0.30488693086364177,0.3080300950993494,0.311173259335057,0.31431642357076467,0.3174595878064723,0.32060275204218,0.3237459162778876,0.3268890805135953,0.3300322447493029,0.3331754089850106,0.33631857322071823,0.3394617374564259,0.34260490169213353,0.3457480659278412,0.3488912301635488,0.35203439439925643,0.3551775586349641,0.35832072287067174,0.3614638871063794,0.36460705134208704,0.3677502155777947,0.37089337981350234,0.37403654404921,0.37717970828491765,0.3803228725206253,0.38346603675633295,0.38660920099204055,0.3897523652277482,0.39289552946345585,0.3960386936991635,0.39918185793487115,0.4023250221705788,0.40546818640628646,0.4086113506419941,0.41175451487770176,0.4148976791134094,0.41804084334911706,0.42118400758482466,0.4243271718205323,0.42747033605623996,0.4306135002919476,0.43375666452765527,0.4368998287633629,0.44004299299907057,0.4431861572347782,0.4463293214704859,0.4494724857061935,0.4526156499419012,0.45575881417760883,0.4589019784133164,0.4620451426490241,0.46518830688473173,0.4683314711204394,0.47147463535614703,0.4746177995918547,0.47776096382756233,0.48090412806327,0.48404729229897764,0.4871904565346853,0.49033362077039294,0.4934767850061006,0.4966199492418082,0.49976311347751584,0.5029062777132235,0.5060494419489312,0.5091926061846388,0.5123357704203464,0.5154789346560541,0.5186220988917617,0.5217652631274694,0.524908427363177,0.5280515915988847,0.5311947558345923,0.5343379200703,0.5374810843060076,0.5406242485417153,0.5437674127774229,0.5469105770131306,0.5500537412488382,0.5531969054845458,0.5563400697202535,0.5594832339559611,0.5626263981916688,0.5657695624273764,0.5689127266630841,0.5720558908987917,0.5751990551344994,0.578342219370207,0.5814853836059147,0.5846285478416223,0.5877717120773299,0.5909148763130376,0.5940580405487452,0.5972012047844529,0.6003443690201605,0.6034875332558682,0.6066306974915758,0.6097738617272835,0.6129170259629911,0.6160601901986988,0.6192033544344064,0.622346518670114,0.6254896829058217,0.6286328471415293,0.631776011377237,0.6349191756129446,0.6380623398486523,0.64120550408436,0.6443486683200677,0.6474918325557752,0.650634996791483,0.6537781610271906,0.6569213252628983,0.6600644894986059,0.6632076537343135,0.6663508179700212,0.6694939822057288,0.6726371464414365,0.6757803106771441,0.6789234749128518,0.6820666391485594,0.6852098033842671,0.6883529676199747,0.6914961318556824,0.69463929609139,0.6977824603270976,0.7009256245628053,0.7040687887985129,0.7072119530342206,0.7103551172699282,0.7134982815056359,0.7166414457413435,0.7197846099770512,0.7229277742127588,0.7260709384484665,0.7292141026841741,0.7323572669198817,0.7355004311555894,0.738643595391297,0.7417867596270047,0.7449299238627123,0.74807308809842,0.7512162523341276,0.7543594165698353,0.7575025808055429,0.7606457450412506,0.7637889092769582,0.7669320735126659,0.7700752377483735,0.7732184019840811,0.7763615662197888,0.7795047304554964,0.7826478946912041,0.7857910589269117,0.7889342231626194,0.792077387398327,0.7952205516340347,0.7983637158697423,0.80150688010545,0.8046500443411576,0.8077932085768652,0.8109363728125729,0.8140795370482805,0.8172227012839882,0.8203658655196958,0.8235090297554035,0.8266521939911111,0.8297953582268188,0.8329385224625264,0.8360816866982341,0.8392248509339417,0.8423680151696493,0.845511179405357,0.8486543436410646,0.8517975078767723,0.8549406721124799,0.8580838363481876,0.8612270005838952,0.8643701648196029,0.8675133290553105,0.8706564932910182,0.8737996575267258,0.8769428217624335,0.8800859859981411,0.8832291502338487,0.8863723144695564,0.889515478705264,0.8926586429409717,0.8958018071766793,0.898944971412387,0.9020881356480946,0.9052312998838024,0.90837446411951,0.9115176283552177,0.9146607925909253,0.9178039568266328,0.9209471210623406,0.9240902852980482,0.9272334495337559,0.9303766137694635,0.9335197780051712,0.9366629422408788,0.9398061064765865,0.9429492707122941,0.9460924349480018,0.9492355991837094,0.952378763419417,0.9555219276551247,0.9586650918908323,0.96180825612654,0.9649514203622476,0.9680945845979553,0.9712377488336629,0.9743809130693706,0.9775240773050782,0.9806672415407859,0.9838104057764935,0.9869535700122012,0.9900967342479088,0.9932398984836164,0.9963830627193241,0.9995262269550317,1.0026693911907394,1.005812555426447,1.0089557196621546,1.0120988838978624,1.01524204813357,1.0183852123692776,1.0215283766049852,1.0246715408406928,1.0278147050764006,1.0309578693121082,1.0341010335478158,1.0372441977835234,1.0403873620192312,1.0435305262549388,1.0466736904906464,1.049816854726354,1.0529600189620618,1.0561031831977694,1.059246347433477,1.0623895116691846,1.0655326759048922,1.0686758401406,1.0718190043763076,1.0749621686120152,1.0781053328477228,1.0812484970834306,1.0843916613191382,1.0875348255548458,1.0906779897905534,1.0938211540262612,1.0969643182619688,1.1001074824976764,1.103250646733384,1.1063938109690916,1.1095369752047994,1.112680139440507,1.1158233036762146,1.1189664679119222,1.12210963214763,1.1252527963833376,1.1283959606190452,1.1315391248547528,1.1346822890904604,1.1378254533261682,1.1409686175618758,1.1441117817975834,1.147254946033291,1.1503981102689989,1.1535412745047064,1.156684438740414,1.1598276029761216,1.1629707672118295,1.166113931447537,1.1692570956832447,1.1724002599189522,1.1755434241546598,1.1786865883903677,1.1818297526260753,1.1849729168617829,1.1881160810974905,1.1912592453331983,1.1944024095689059,1.1975455738046135,1.200688738040321,1.2038319022760289,1.2069750665117365,1.210118230747444,1.2132613949831517,1.2164045592188593,1.219547723454567,1.2226908876902747,1.2258340519259823,1.2289772161616899,1.2321203803973977,1.2352635446331053,1.2384067088688129,1.2415498731045205,1.244693037340228,1.2478362015759359,1.2509793658116435,1.254122530047351,1.2572656942830587,1.2604088585187665,1.263552022754474,1.2666951869901817,1.2698383512258893,1.272981515461597,1.2761246796973047,1.2792678439330123,1.28241100816872,1.2855541724044275,1.2886973366401353,1.291840500875843,1.2949836651115505,1.298126829347258,1.301269993582966,1.3044131578186735,1.307556322054381,1.3106994862900887,1.3138426505257965,1.3169858147615041,1.3201289789972117,1.3232721432329193,1.326415307468627,1.3295584717043347,1.3327016359400423,1.33584480017575,1.3389879644114575,1.3421311286471653,1.345274292882873,1.3484174571185805,1.3515606213542881,1.3547037855899957,1.3578469498257035,1.3609901140614111,1.3641332782971187,1.3672764425328263,1.3704196067685341,1.3735627710042417,1.3767059352399493,1.379849099475657,1.3829922637113647,1.3861354279470723,1.38927859218278,1.3924217564184875,1.3955649206541951,1.398708084889903,1.4018512491256105,1.4049944133613181,1.4081375775970257,1.4112807418327336,1.4144239060684412,1.4175670703041487,1.4207102345398563,1.4238533987755642,1.4269965630112718,1.4301397272469794,1.433282891482687,1.4364260557183945,1.4395692199541024,1.44271238418981,1.4458555484255176,1.4489987126612252,1.452141876896933,1.4552850411326406,1.4584282053683482,1.4615713696040558,1.4647145338397634,1.4678576980754712,1.4710008623111788,1.4741440265468864,1.477287190782594,1.4804303550183018,1.4835735192540094,1.486716683489717,1.4898598477254246,1.4930030119611324,1.49614617619684,1.4992893404325476,1.5024325046682552,1.5055756689039628,1.5087188331396706,1.5118619973753782,1.5150051616110858,1.5181483258467934,1.5212914900825012,1.5244346543182088,1.5275778185539164,1.530720982789624,1.5338641470253318,1.5370073112610394,1.540150475496747,1.5432936397324546,1.5464368039681622,1.54957996820387,1.5527231324395776,1.5558662966752852,1.5590094609109928,1.5621526251467006,1.5652957893824082,1.5684389536181158,1.5715821178538234,1.574725282089531,1.5778684463252388,1.5810116105609464,1.584154774796654,1.5872979390323616,1.5904411032680694,1.593584267503777,1.5967274317394846,1.5998705959751922,1.6030137602109,1.6061569244466076,1.6093000886823152,1.6124432529180228,1.6155864171537304,1.6187295813894382,1.6218727456251458,1.6250159098608534,1.628159074096561,1.6313022383322688,1.6344454025679764,1.637588566803684,1.6407317310393916,1.6438748952750994,1.647018059510807,1.6501612237465146,1.6533043879822222,1.6564475522179298,1.6595907164536376,1.6627338806893452,1.6658770449250528,1.6690202091607604,1.6721633733964683,1.6753065376321759,1.6784497018678834,1.681592866103591,1.6847360303392986,1.6878791945750065,1.691022358810714,1.6941655230464217,1.6973086872821292,1.700451851517837,1.7035950157535447,1.7067381799892523,1.7098813442249599,1.7130245084606677,1.7161676726963753,1.7193108369320829,1.7224540011677905,1.725597165403498,1.7287403296392059,1.7318834938749135,1.735026658110621,1.7381698223463287,1.7413129865820365,1.744456150817744,1.7475993150534517,1.7507424792891593,1.753885643524867,1.7570288077605747,1.7601719719962823,1.7633151362319899,1.7664583004676975,1.7696014647034053,1.7727446289391129,1.7758877931748205,1.779030957410528,1.782174121646236,1.7853172858819435,1.788460450117651,1.7916036143533587,1.7947467785890663,1.797889942824774,1.8010331070604817,1.8041762712961893,1.807319435531897,1.8104625997676047,1.8136057640033123,1.81674892823902,1.8198920924747275,1.8230352567104353,1.826178420946143,1.8293215851818505,1.832464749417558,1.8356079136532657,1.8387510778889735,1.8418942421246811,1.8450374063603887,1.8481805705960963,1.8513237348318041,1.8544668990675117,1.8576100633032193,1.860753227538927,1.8638963917746347,1.8670395560103423,1.87018272024605,1.8733258844817575,1.8764690487174651,1.879612212953173,1.8827553771888805,1.8858985414245881,1.8890417056602957,1.8921848698960035,1.8953280341317111,1.8984711983674187,1.9016143626031263,1.904757526838834,1.9079006910745417,1.9110438553102493,1.914187019545957,1.9173301837816645,1.9204733480173724,1.92361651225308,1.9267596764887875,1.9299028407244951,1.933046004960203,1.9361891691959106,1.9393323334316181,1.9424754976673257,1.9456186619030333,1.9487618261387412,1.9519049903744488,1.9550481546101564,1.958191318845864,1.9613344830815718,1.9644776473172794,1.967620811552987,1.9707639757886946,1.9739071400244024,1.97705030426011,1.9801934684958176,1.9833366327315252,1.9864797969672328,1.9896229612029406,1.9927661254386482,1.9959092896743558,1.9990524539100634,2.002195618145771,2.005338782381479,2.0084819466171866,2.011625110852894,2.014768275088602,2.017911439324309,2.021054603560017,2.024197767795725,2.027340932031432,2.03048409626714,2.0336272605028474,2.036770424738555,2.039913588974263,2.0430567532099704,2.046199917445678,2.0493430816813856,2.0524862459170934,2.055629410152801,2.0587725743885086,2.0619157386242164,2.065058902859924,2.0682020670956316,2.0713452313313394,2.074488395567047,2.0776315598027546,2.0807747240384624,2.08391788827417,2.0870610525098776,2.090204216745585,2.093347380981293,2.0964905452170006,2.099633709452708,2.102776873688416,2.1059200379241236,2.109063202159831,2.112206366395539,2.115349530631246,2.118492694866954,2.121635859102662,2.124779023338369,2.127922187574077,2.1310653518097844,2.134208516045492,2.1373516802812,2.1404948445169074,2.1436380087526152,2.146781172988323,2.1499243372240304,2.1530675014597382,2.1562106656954456,2.1593538299311534,2.1624969941668613,2.1656401584025686,2.1687833226382764,2.171926486873984,2.1750696511096916,2.1782128153453995,2.181355979581107,2.1844991438168146,2.1876423080525225,2.19078547228823,2.1939286365239377,2.197071800759645,2.200214964995353,2.2033581292310607,2.206501293466768,2.209644457702476,2.2127876219381832,2.215930786173891,2.219073950409599,2.2222171146453062,2.225360278881014,2.228503443116722,2.2316466073524293,2.234789771588137,2.2379329358238444,2.2410761000595523,2.24421926429526,2.2473624285309675,2.2505055927666753,2.2536487570023827,2.2567919212380905,2.2599350854737983,2.2630782497095057,2.2662214139452135,2.269364578180921,2.2725077424166287,2.2756509066523365,2.278794070888044,2.2819372351237517,2.2850803993594595,2.288223563595167,2.2913667278308747,2.294509892066582,2.29765305630229,2.3007962205379977,2.303939384773705,2.307082549009413,2.3102257132451203,2.313368877480828,2.316512041716536,2.3196552059522433,2.322798370187951,2.325941534423659,2.3290846986593663,2.332227862895074,2.3353710271307815,2.3385141913664893,2.341657355602197,2.3448005198379045,2.3479436840736123,2.3510868483093197,2.3542300125450275,2.3573731767807353,2.3605163410164427,2.3636595052521505,2.3668026694878583,2.3699458337235657,2.3730889979592735,2.376232162194981,2.3793753264306887,2.3825184906663965,2.385661654902104,2.3888048191378117,2.391947983373519,2.395091147609227,2.3982343118449347,2.401377476080642,2.40452064031635,2.4076638045520578,2.410806968787765,2.413950133023473,2.4170932972591803,2.420236461494888,2.423379625730596,2.4265227899663033,2.429665954202011,2.4328091184377185,2.4359522826734263,2.439095446909134,2.4422386111448415,2.4453817753805493,2.448524939616257,2.4516681038519645,2.4548112680876724,2.4579544323233797,2.4610975965590876,2.4642407607947954,2.4673839250305027,2.4705270892662106,2.473670253501918,2.4768134177376258,2.4799565819733336,2.483099746209041,2.4862429104447488,2.489386074680456,2.492529238916164,2.4956724031518718,2.498815567387579,2.501958731623287,2.505101895858995,2.508245060094702,2.51138822433041,2.5145313885661174,2.517674552801825,2.520817717037533,2.5239608812732404,2.527104045508948,2.5302472097446556,2.5333903739803634,2.536533538216071,2.5396767024517786,2.5428198666874864,2.545963030923194,2.5491061951589016,2.5522493593946094,2.5553925236303168,2.5585356878660246,2.5616788521017324,2.56482201633744,2.5679651805731476,2.571108344808855,2.574251509044563,2.5773946732802706,2.580537837515978,2.583681001751686,2.5868241659873936,2.589967330223101,2.593110494458809,2.596253658694516,2.599396822930224,2.602539987165932,2.605683151401639,2.608826315637347,2.6119694798730544,2.615112644108762,2.61825580834447,2.6213989725801774,2.624542136815885,2.627685301051593,2.6308284652873004,2.6339716295230082,2.6371147937587156,2.6402579579944234,2.6434011222301312,2.6465442864658386,2.6496874507015464,2.652830614937254,2.6559737791729616,2.6591169434086694,2.662260107644377,2.6654032718800846,2.6685464361157925,2.6716896003515,2.6748327645872076,2.677975928822915,2.681119093058623,2.6842622572943307,2.687405421530038,2.690548585765746,2.6936917500014532,2.696834914237161,2.699978078472869,2.7031212427085762,2.706264406944284,2.7094075711799914,2.7125507354156992,2.715693899651407,2.7188370638871144,2.7219802281228223,2.72512339235853,2.7282665565942374,2.7314097208299453,2.7345528850656526,2.7376960493013605,2.7408392135370683,2.7439823777727756,2.7471255420084835,2.750268706244191,2.7534118704798987,2.7565550347156065,2.759698198951314,2.7628413631870217,2.7659845274227295,2.769127691658437,2.7722708558941447,2.775414020129852,2.77855718436556,2.7817003486012677,2.784843512836975,2.787986677072683,2.7911298413083903,2.794273005544098,2.797416169779806,2.8005593340155133,2.803702498251221,2.806845662486929,2.8099888267226363,2.813131990958344,2.8162751551940515,2.8194183194297593,2.822561483665467,2.8257046479011745,2.8288478121368823,2.8319909763725897,2.8351341406082975,2.8382773048440053,2.8414204690797127,2.8445636333154205,2.8477067975511283,2.8508499617868357,2.8539931260225435,2.857136290258251,2.8602794544939587,2.8634226187296665,2.866565782965374,2.8697089472010817,2.872852111436789,2.875995275672497,2.8791384399082047,2.882281604143912,2.88542476837962,2.8885679326153277,2.891711096851035,2.894854261086743,2.8979974253224503,2.901140589558158,2.904283753793866,2.9074269180295733,2.910570082265281,2.9137132465009885,2.9168564107366963,2.919999574972404,2.9231427392081115,2.9262859034438193,2.9294290676795267,2.9325722319152345,2.9357153961509423,2.9388585603866497,2.9420017246223575,2.9451448888580654,2.9482880530937727,2.9514312173294805,2.954574381565188,2.9577175458008957,2.9608607100366036,2.964003874272311,2.9671470385080188,2.970290202743726,2.973433366979434,2.9765765312151418,2.979719695450849,2.982862859686557,2.9860060239222648,2.989149188157972,2.99229235239368,2.9954355166293873,2.998578680865095,3.001721845100803,3.0048650093365104,3.008008173572218,3.0111513378079255,3.0142945020436334,3.017437666279341,3.0205808305150486,3.0237239947507564,3.026867158986464,3.0300103232221716,3.0331534874578794,3.0362966516935868,3.0394398159292946,3.0425829801650024,3.0457261444007098,3.0488693086364176,3.052012472872125,3.0551556371078328,3.0582988013435406,3.061441965579248,3.064585129814956,3.0677282940506636,3.070871458286371,3.074014622522079,3.077157786757786,3.080300950993494,3.083444115229202,3.086587279464909,3.089730443700617,3.0928736079363244,3.096016772172032,3.09915993640774,3.1023031006434474,3.105446264879155,3.108589429114863,3.1117325933505704,3.114875757586278,3.1180189218219856,3.1211620860576934,3.1243052502934012,3.1274484145291086,3.1305915787648164,3.133734743000524,3.1368779072362316,3.1400210714719394,3.143164235707647,3.1463073999433546,3.149450564179062,3.15259372841477,3.1557368926504776,3.158880056886185,3.162023221121893,3.1651663853576006,3.168309549593308,3.171452713829016,3.174595878064723,3.177739042300431,3.180882206536139,3.184025370771846,3.187168535007554,3.1903116992432614,3.1934548634789692,3.196598027714677,3.1997411919503844,3.2028843561860922,3.2060275204218,3.2091706846575074,3.2123138488932153,3.2154570131289226,3.2186001773646304,3.2217433416003383,3.2248865058360456,3.2280296700717535,3.231172834307461,3.2343159985431686,3.2374591627788765,3.240602327014584,3.2437454912502917,3.2468886554859995,3.250031819721707,3.2531749839574147,3.256318148193122,3.25946131242883,3.2626044766645377,3.265747640900245,3.268890805135953,3.2720339693716602,3.275177133607368,3.278320297843076,3.2814634620787833,3.284606626314491,3.287749790550199,3.2908929547859063,3.294036119021614,3.2971792832573215,3.3003224474930293,3.303465611728737,3.3066087759644445,3.3097519402001523,3.3128951044358597,3.3160382686715675,3.3191814329072753,3.3223245971429827,3.3254677613786905,3.328610925614398,3.3317540898501057,3.3348972540858135,3.338040418321521,3.3411835825572287,3.3443267467929365,3.347469911028644,3.3506130752643517,3.353756239500059,3.356899403735767,3.3600425679714747,3.363185732207182,3.36632889644289,3.3694720606785973,3.372615224914305,3.375758389150013,3.3789015533857203,3.382044717621428,3.385187881857136,3.3883310460928433,3.391474210328551,3.3946173745642585,3.3977605387999663,3.400903703035674,3.4040468672713815,3.4071900315070893,3.4103331957427967,3.4134763599785045,3.4166195242142123,3.4197626884499197,3.4229058526856275,3.4260490169213353,3.4291921811570427,3.4323353453927505,3.435478509628458,3.4386216738641657,3.4417648380998735,3.444908002335581,3.4480511665712887,3.451194330806996,3.454337495042704,3.4574806592784117,3.460623823514119,3.463766987749827,3.4669101519855348,3.470053316221242,3.47319648045695,3.4763396446926573,3.479482808928365,3.482625973164073,3.4857691373997803,3.488912301635488,3.4920554658711955,3.4951986301069033,3.498341794342611,3.5014849585783185,3.5046281228140264,3.507771287049734,3.5109144512854416,3.5140576155211494,3.5172007797568567,3.5203439439925646,3.5234871082282724,3.5266302724639798,3.5297734366996876,3.532916600935395,3.5360597651711028,3.5392029294068106,3.542346093642518,3.5454892578782258,3.548632422113933,3.551775586349641,3.554918750585349,3.558061914821056,3.561205079056764,3.564348243292472,3.567491407528179,3.570634571763887,3.5737777359995944,3.576920900235302,3.58006406447101,3.5832072287067174,3.586350392942425,3.5894935571781326,3.5926367214138404,3.595779885649548,3.5989230498852556,3.6020662141209634,3.605209378356671,3.6083525425923786,3.6114957068280864,3.614638871063794,3.6177820352995016,3.6209251995352094,3.624068363770917,3.6272115280066246,3.630354692242332,3.63349785647804,3.6366410207137476,3.639784184949455,3.642927349185163,3.6460705134208706,3.649213677656578,3.652356841892286,3.655500006127993,3.658643170363701,3.661786334599409,3.664929498835116,3.668072663070824,3.6712158273065314,3.674358991542239,3.677502155777947,3.6806453200136544,3.6837884842493622,3.68693164848507,3.6900748127207774,3.6932179769564852,3.6963611411921926,3.6995043054279004,3.7026474696636082,3.7057906338993156,3.7089337981350234,3.712076962370731,3.7152201266064386,3.7183632908421465,3.721506455077854,3.7246496193135616,3.7277927835492695,3.730935947784977,3.7340791120206847,3.737222276256392,3.7403654404921,3.7435086047278077,3.746651768963515,3.749794933199223,3.7529380974349302,3.756081261670638,3.759224425906346,3.7623675901420532,3.765510754377761,3.7686539186134684,3.7717970828491763,3.774940247084884,3.7780834113205914,3.7812265755562993,3.784369739792007,3.7875129040277145,3.7906560682634223,3.7937992324991296,3.7969423967348375,3.8000855609705453,3.8032287252062527,3.8063718894419605,3.809515053677668,3.8126582179133757,3.8158013821490835,3.818944546384791,3.8220877106204987,3.8252308748562065,3.828374039091914,3.8315172033276217,3.834660367563329,3.837803531799037,3.8409466960347447,3.844089860270452,3.84723302450616,3.8503761887418673,3.853519352977575,3.856662517213283,3.8598056814489903,3.862948845684698,3.866092009920406,3.8692351741561133,3.872378338391821,3.8755215026275285,3.8786646668632363,3.881807831098944,3.8849509953346515,3.8880941595703593,3.8912373238060667,3.8943804880417745,3.8975236522774823,3.9006668165131897,3.9038099807488975,3.9069531449846053,3.9100963092203127,3.9132394734560205,3.916382637691728,3.9195258019274357,3.9226689661631435,3.925812130398851,3.9289552946345587,3.932098458870266,3.935241623105974,3.9383847873416817,3.941527951577389,3.944671115813097,3.9478142800488047,3.950957444284512,3.95410060852022,3.9572437727559273,3.960386936991635,3.963530101227343,3.9666732654630503,3.969816429698758,3.9729595939344655,3.9761027581701733,3.979245922405881,3.9823890866415885,3.9855322508772963,3.9886754151130037,3.9918185793487115,3.9949617435844194,3.9981049078201267,4.0012480720558345,4.004391236291542,4.00753440052725,4.010677564762958,4.013820728998665,4.016963893234373,4.020107057470081,4.023250221705788,4.026393385941495,4.029536550177204,4.032679714412911,4.035822878648618,4.038966042884327,4.042109207120034,4.045252371355741,4.04839553559145,4.051538699827157,4.054681864062864,4.057825028298573,4.06096819253428,4.064111356769987,4.067254521005695,4.070397685241403,4.07354084947711,4.076684013712818,4.079827177948526,4.082970342184233,4.086113506419941,4.089256670655649,4.092399834891356,4.095542999127064,4.098686163362771,4.101829327598479,4.104972491834187,4.108115656069894,4.111258820305602,4.11440198454131,4.117545148777017,4.120688313012725,4.123831477248433,4.12697464148414,4.130117805719848,4.133260969955556,4.136404134191263,4.139547298426971,4.142690462662679,4.145833626898386,4.148976791134094,4.152119955369802,4.155263119605509,4.158406283841217,4.161549448076925,4.164692612312632,4.16783577654834,4.170978940784048,4.174122105019755,4.177265269255463,4.18040843349117,4.183551597726878,4.186694761962586,4.189837926198293,4.192981090434001,4.196124254669709,4.199267418905416,4.202410583141124,4.205553747376832,4.208696911612539,4.211840075848247,4.214983240083955,4.218126404319662,4.221269568555369,4.224412732791078,4.227555897026785,4.230699061262492,4.233842225498201,4.236985389733908,4.240128553969615,4.243271718205324,4.246414882441031,4.249558046676738,4.252701210912447,4.255844375148154,4.258987539383861,4.262130703619569,4.265273867855277,4.268417032090984,4.271560196326692,4.2747033605624,4.2778465247981075,4.280989689033815,4.284132853269523,4.2872760175052305,4.290419181740938,4.293562345976646,4.2967055102123535,4.299848674448061,4.302991838683768,4.3061350029194765,4.309278167155184,4.312421331390891,4.3155644956265995,4.318707659862307,4.321850824098014,4.3249939883337225,4.32813715256943,4.331280316805137,4.3344234810408455,4.337566645276553,4.34070980951226,4.343852973747968,4.346996137983676,4.350139302219383,4.353282466455091,4.356425630690799,4.359568794926506,4.362711959162214,4.365855123397922,4.368998287633629,4.372141451869337,4.375284616105045,4.378427780340752,4.38157094457646,4.384714108812167,4.387857273047875,4.391000437283583,4.39414360151929,4.397286765754998,4.400429929990706,4.403573094226413,4.406716258462121,4.409859422697829,4.413002586933536,4.416145751169244,4.419288915404952,4.422432079640659,4.4255752438763665,4.428718408112075,4.431861572347782,4.4350047365834895,4.438147900819198,4.441291065054905,4.4444342292906125,4.447577393526321,4.450720557762028,4.4538637219977355,4.457006886233444,4.460150050469151,4.4632932147048585,4.466436378940566,4.469579543176274,4.4727227074119815,4.475865871647689,4.479009035883397,4.4821522001191045,4.485295364354812,4.48843852859052,4.4915816928262275,4.494724857061935,4.497868021297643,4.501011185533351,4.504154349769058,4.507297514004765,4.510440678240474,4.513583842476181,4.516727006711888,4.519870170947597,4.523013335183304,4.526156499419011,4.52929966365472,4.532442827890427,4.535585992126134,4.538729156361842,4.54187232059755,4.545015484833257,4.548158649068965,4.551301813304673,4.55444497754038,4.557588141776088,4.560731306011796,4.563874470247503,4.567017634483211,4.570160798718919,4.573303962954626,4.576447127190334,4.579590291426041,4.582733455661749,4.585876619897457,4.589019784133164,4.592162948368872,4.59530611260458,4.598449276840287,4.601592441075995,4.604735605311703,4.60787876954741,4.611021933783118,4.614165098018826,4.617308262254533,4.6204514264902405,4.623594590725949,4.626737754961656,4.6298809191973636,4.633024083433072,4.636167247668779,4.639310411904487,4.642453576140195,4.645596740375902,4.64873990461161,4.651883068847318,4.655026233083025,4.658169397318733,4.66131256155444,4.664455725790148,4.667598890025856,4.670742054261563,4.673885218497271,4.677028382732979,4.680171546968686,4.683314711204394,4.686457875440102,4.689601039675809,4.692744203911517,4.695887368147225,4.699030532382932,4.702173696618639,4.705316860854348,4.708460025090055,4.711603189325762,4.714746353561471,4.717889517797178,4.721032682032885,4.724175846268594,4.727319010504301,4.730462174740008,4.733605338975717,4.736748503211424,4.739891667447131,4.743034831682839,4.746177995918547,4.749321160154254,4.752464324389962,4.75560748862567,4.758750652861377,4.761893817097085,4.765036981332793,4.7681801455685004,4.771323309804208,4.774466474039916,4.7776096382756235,4.780752802511331,4.783895966747038,4.7870391309827465,4.790182295218454,4.793325459454161,4.7964686236898695,4.799611787925577,4.802754952161284,4.8058981163969925,4.8090412806327,4.812184444868407,4.8153276091041155,4.818470773339823,4.82161393757553,4.824757101811238,4.827900266046946,4.831043430282653,4.834186594518361,4.837329758754069,4.840472922989776,4.843616087225484,4.846759251461192,4.849902415696899,4.853045579932607,4.856188744168315,4.859331908404022,4.86247507263973,4.865618236875437,4.868761401111145,4.871904565346853,4.87504772958256,4.878190893818268,4.881334058053976,4.884477222289683,4.887620386525391,4.890763550761099,4.893906714996806,4.897049879232514,4.900193043468222,4.903336207703929,4.9064793719396365,4.909622536175345,4.912765700411052,4.9159088646467595,4.919052028882468,4.922195193118175,4.9253383573538825,4.928481521589591,4.931624685825298,4.9347678500610055,4.937911014296713,4.941054178532421,4.9441973427681285,4.947340507003836,4.950483671239544,4.9536268354752515,4.956769999710959,4.959913163946667,4.9630563281823745,4.966199492418082,4.96934265665379,4.9724858208894975,4.975628985125205,4.978772149360912,4.9819153135966205,4.985058477832328,4.988201642068035,4.9913448063037436,4.994487970539451,4.997631134775158,5.000774299010867,5.003917463246574,5.007060627482281,5.01020379171799,5.013346955953697,5.016490120189404,5.019633284425112,5.02277644866082,5.025919612896527,5.029062777132235,5.032205941367943,5.03534910560365,5.038492269839358,5.041635434075066,5.044778598310773,5.047921762546481,5.051064926782189,5.054208091017896,5.057351255253604,5.060494419489311,5.063637583725019,5.066780747960727,5.069923912196434,5.073067076432142,5.07621024066785,5.079353404903557,5.082496569139265,5.085639733374973,5.08878289761068,5.091926061846388,5.095069226082096,5.098212390317803,5.1013555545535105,5.104498718789219,5.107641883024926,5.1107850472606335,5.113928211496342,5.117071375732049,5.1202145399677566,5.123357704203465,5.126500868439172,5.12964403267488,5.132787196910588,5.135930361146295,5.139073525382003,5.14221668961771,5.145359853853418,5.148503018089126,5.151646182324833,5.154789346560541,5.157932510796249,5.161075675031956,5.164218839267664,5.167362003503372,5.170505167739079,5.173648331974787,5.176791496210495,5.179934660446202,5.183077824681909,5.186220988917618,5.189364153153325,5.192507317389032,5.195650481624741,5.198793645860448,5.201936810096155,5.205079974331864,5.208223138567571,5.211366302803278,5.214509467038987,5.217652631274694,5.220795795510401,5.223938959746109,5.227082123981817,5.230225288217524,5.233368452453232,5.23651161668894,5.239654780924647,5.242797945160355,5.245941109396063,5.24908427363177,5.252227437867478,5.255370602103186,5.2585137663388934,5.261656930574601,5.264800094810308,5.2679432590460165,5.271086423281724,5.274229587517431,5.2773727517531395,5.280515915988847,5.283659080224554,5.2868022444602625,5.28994540869597,5.293088572931677,5.2962317371673855,5.299374901403093,5.3025180656388,5.305661229874508,5.308804394110216,5.311947558345923,5.315090722581631,5.318233886817339,5.321377051053046,5.324520215288754,5.327663379524462,5.330806543760169,5.333949707995877,5.337092872231585,5.340236036467292,5.343379200703,5.346522364938707,5.349665529174415,5.352808693410123,5.35595185764583,5.359095021881538,5.362238186117246,5.365381350352953,5.368524514588661,5.371667678824369,5.374810843060076,5.377954007295783,5.381097171531492,5.384240335767199,5.3873835000029064,5.390526664238615,5.393669828474322,5.3968129927100295,5.399956156945738,5.403099321181445,5.4062424854171525,5.409385649652861,5.412528813888568,5.4156719781242755,5.418815142359983,5.421958306595691,5.4251014708313985,5.428244635067106,5.431387799302814,5.4345309635385215,5.437674127774229,5.440817292009937,5.4439604562456445,5.447103620481352,5.45024678471706,5.4533899489527675,5.456533113188475,5.459676277424182,5.4628194416598905,5.465962605895598,5.469105770131305,5.4722489343670135,5.475392098602721,5.478535262838428,5.4816784270741366,5.484821591309844,5.487964755545551,5.49110791978126,5.494251084016967,5.497394248252674,5.500537412488382,5.50368057672409,5.506823740959797,5.509966905195505,5.513110069431213,5.51625323366692,5.519396397902628,5.522539562138336,5.525682726374043,5.528825890609751,5.531969054845459,5.535112219081166,5.538255383316874,5.541398547552581,5.544541711788289,5.547684876023997,5.550828040259704,5.553971204495412,5.55711436873112,5.560257532966827,5.563400697202535,5.566543861438243,5.56968702567395,5.572830189909658,5.575973354145366,5.579116518381073,5.5822596826167805,5.585402846852489,5.588546011088196,5.5916891753239035,5.594832339559612,5.597975503795319,5.6011186680310265,5.604261832266735,5.607404996502442,5.6105481607381495,5.613691324973858,5.616834489209565,5.619977653445273,5.62312081768098,5.626263981916688,5.629407146152396,5.632550310388103,5.635693474623811,5.638836638859519,5.641979803095226,5.645122967330934,5.648266131566642,5.651409295802349,5.654552460038057,5.657695624273765,5.660838788509472,5.663981952745179,5.667125116980888,5.670268281216595,5.673411445452302,5.676554609688011,5.679697773923718,5.682840938159425,5.685984102395134,5.689127266630841,5.692270430866548,5.695413595102257,5.698556759337964,5.701699923573671,5.704843087809379,5.707986252045087,5.711129416280794,5.714272580516502,5.71741574475221,5.720558908987917,5.723702073223625,5.726845237459333,5.72998840169504,5.733131565930748,5.736274730166456,5.739417894402163,5.742561058637871,5.745704222873578,5.7488473871092864,5.751990551344994,5.755133715580701,5.7582768798164095,5.761420044052117,5.764563208287824,5.7677063725235325,5.77084953675924,5.773992700994947,5.7771358652306555,5.780279029466363,5.78342219370207,5.786565357937778,5.789708522173486,5.792851686409193,5.795994850644901,5.799138014880609,5.802281179116316,5.805424343352024,5.808567507587732,5.811710671823439,5.814853836059147,5.817997000294854,5.821140164530562,5.82428332876627,5.827426493001977,5.830569657237685,5.833712821473393,5.8368559857091,5.839999149944808,5.843142314180516,5.846285478416223,5.849428642651931,5.852571806887639,5.855714971123346,5.858858135359053,5.862001299594762,5.865144463830469,5.868287628066176,5.871430792301885,5.874573956537592,5.877717120773299,5.880860285009008,5.884003449244715,5.8871466134804225,5.890289777716131,5.893432941951838,5.8965761061875455,5.899719270423253,5.902862434658961,5.9060055988946685,5.909148763130376,5.912291927366084,5.9154350916017915,5.918578255837499,5.921721420073207,5.9248645843089145,5.928007748544622,5.93115091278033,5.9342940770160375,5.937437241251745,5.940580405487452,5.9437235697231605,5.946866733958868,5.950009898194575,5.9531530624302835,5.956296226665991,5.959439390901698,5.9625825551374065,5.965725719373114,5.968868883608821,5.9720120478445295,5.975155212080237,5.978298376315944,5.981441540551652,5.98458470478736,5.987727869023067,5.990871033258775,5.994014197494483,5.99715736173019,6.000300525965898,6.003443690201606,6.006586854437313,6.009730018673021,6.012873182908729,6.016016347144436,6.019159511380144,6.022302675615851,6.025445839851559,6.028589004087267,6.031732168322974,6.034875332558682,6.03801849679439,6.041161661030097,6.044304825265805,6.047447989501513,6.05059115373722,6.053734317972928,6.056877482208636,6.060020646444343,6.0631638106800505,6.066306974915759,6.069450139151466,6.0725933033871735,6.075736467622882,6.078879631858589,6.0820227960942965,6.085165960330005,6.088309124565712,6.0914522888014195,6.094595453037128,6.097738617272835,6.1008817815085425,6.10402494574425,6.107168109979958,6.1103112742156656,6.113454438451373,6.116597602687081,6.119740766922789,6.122883931158496,6.126027095394204,6.129170259629912,6.132313423865619,6.135456588101327,6.138599752337035,6.141742916572742,6.144886080808449,6.148029245044158,6.151172409279865,6.154315573515572,6.157458737751281,6.160601901986988,6.163745066222695,6.166888230458404,6.170031394694111,6.173174558929818,6.176317723165527,6.179460887401234,6.182604051636941,6.185747215872649,6.188890380108357,6.192033544344064,6.195176708579772,6.19831987281548,6.201463037051187,6.204606201286895,6.207749365522603,6.21089252975831,6.214035693994018,6.217178858229726,6.220322022465433,6.223465186701141,6.226608350936848,6.229751515172556,6.232894679408264,6.236037843643971,6.239181007879679,6.242324172115387,6.245467336351094,6.2486105005868025,6.25175366482251,6.254896829058217,6.258039993293925,6.261183157529633,6.26432632176534,6.267469486001048,6.270612650236756,6.273755814472463,6.276898978708171,6.280042142943879,6.283185307179586],\"y\":[0.0,0.003143159060238096,0.006286287067720245,0.009429352969997286,0.01257232571523362,0.015715174252513998,0.018857867532150272,0.022000374505988164,0.025142664127713998,0.028284705353161424,0.0314264671406181,0.03456791845113242,0.03770902824882009,0.040849765501170796,0.04399009917935478,0.04712999825852939,0.05026943171814557,0.05340836854225433,0.056546777719813215,0.059684628244992606,0.06282188911748207,0.0659585293427967,0.06909451793258313,0.07222982390492594,0.07536441628465354,0.07849826410364426,0.08163133640113233,0.08476360222401372,0.08789503062715187,0.09102559067368361,0.09415525143532459,0.09728398199267493,0.10041175143552472,0.1035385288631593,0.10666428338466463,0.10978898411923245,0.11291260019646535,0.11603510075668172,0.11915645495122076,0.12227663194274711,0.12539560090555552,0.1285133310258755,0.1316297915021756,0.13474495154546787,0.13785878037961183,0.1409712472416188,0.14408232138195554,0.1471919720648482,0.150300168568586,0.15340688018582457,0.15651207622388952,0.15961572600507962,0.16271779886696974,0.16581826416271395,0.1689170912613482,0.17201424954809297,0.17510970842465573,0.17820343730953322,0.1812954056383136,0.18438558286397838,0.18747393845720423,0.1905604419066646,0.1936450627193311,0.19672777042077488,0.19980853455546754,0.20288732468708218,0.20596411039879395,0.20903886129358054,0.21211154699452278,0.2151821371451043,0.21825060140951183,0.2213169094729346,0.22438103104186405,0.22744293584439296,0.23050259363051478,0.23355997417242208,0.2366150472648055,0.23966778272515207,0.2427181503940434,0.24576612013545354,0.24881166183704698,0.2518547454104758,0.25489534079167714,0.25793341794117025,0.260968946844353,0.2640018975117988,0.26703223997955255,0.27005994430942676,0.2730849805892974,0.2761073189333995,0.27912692948262213,0.2821437824048034,0.28515784789502563,0.2881690961759093,0.29117749749790744,0.2941830221395997,0.2971856404079855,0.30018532263877806,0.3031820391966969,0.3061757604757607,0.30916645689958033,0.3121540989216503,0.315138657025641,0.31812010172569044,0.32109840356669545,0.32407353312460246,0.32704546100669857,0.33001415785190163,0.3329795943310505,0.33594174114719483,0.3389005690358841,0.3418560487654574,0.34480815113733165,0.34775684698629045,0.3507021071807718,0.3536439026231564,0.3565822042500548,0.35951698303259455,0.3624482099767071,0.36537585612341417,0.36829989254911394,0.37122029036586657,0.3741370207216799,0.37705005480079434,0.3799593638239676,0.3828649190487589,0.385766691769813,0.3886646533191438,0.3915587750664177,0.3944490284192361,0.39733538482341846,0.4002178157632836,0.40309629276193215,0.4059707873815275,0.40884127122357683,0.41170771592921185,0.4145700931794686,0.41742837469556754,0.42028253223919276,0.42313253761277114,0.4259783626597507,0.42881997926487897,0.43165735935448063,0.4344904748967348,0.43731929790195234,0.4401438004228519,0.44296395455483617,0.44577973243626795,0.4485911062487449,0.4513980482173744,0.45420053061104837,0.4569985257427169,0.45979200596966185,0.4625809436937699,0.4653653113618054,0.46814508146568234,0.4709202265427363,0.4736907191759956,0.47645653199445226,0.47921763767333253,0.4819740089343666,0.4847256185460583,0.48747243932395384,0.4902144441309109,0.4929516058773663,0.49568389752160347,0.4984112920700204,0.5011337625773953,0.5038512821471537,0.5065638239316335,0.5092713611323508,0.5119738670002639,0.5146713148360386,0.5173636779903108,0.5200509298639509,0.5227330439083256,0.525409993625561,0.528081752568804,0.5307482943424833,0.5334095926025708,0.5360656210568414,0.5387163534651331,0.5413617636396058,0.5440018254450003,0.5466365127988966,0.5492657996719715,0.5518896600882554,0.5545080681253896,0.5571209979148817,0.5597284236423617,0.5623303195478371,0.5649266599259464,0.5675174191262146,0.5701025715533049,0.5726820916672735,0.57525595398382,0.5778241330745406,0.5803866035671786,0.5829433401458751,0.5854943175514196,0.5880395105814988,0.5905788940909463,0.5931124429919904,0.5956401322545027,0.5981619369062444,0.600677832033114,0.6031877927793927,0.6056917943479906,0.6081898120006908,0.6106818210583949,0.6131677969013658,0.6156477149694718,0.6181215507624285,0.6205892798400412,0.6230508778224466,0.6255063203903531,0.6279555832852816,0.6303986423098045,0.6328354733277857,0.6352660522646181,0.6376903551074622,0.6401083579054827,0.6425200367700856,0.6449253678751542,0.6473243274572839,0.6497168918160177,0.6521030373140798,0.6544827403776098,0.6568559774963945,0.6592227252241015,0.6615829601785098,0.6639366590417412,0.6662837985604906,0.6686243555462559,0.670958306875567,0.6732856294902141,0.6756063003974755,0.6779202966703449,0.6802275954477582,0.6825281739348187,0.6848220094030226,0.6871090791904838,0.6893893607021574,0.6916628314100631,0.6939294688535079,0.6961892506393077,0.6984421544420086,0.700688158004108,0.7029272391362733,0.7051593757175627,0.7073845456956421,0.7096027270870046,0.711813897977186,0.7140180365209827,0.7162151209426669,0.718405129536202,0.7205880406654561,0.7227638327644174,0.7249324843374059,0.7270939739592863,0.7292482802756799,0.7313953820031746,0.7335352579295364,0.7356678869139185,0.7377932478870696,0.7399113198515427,0.7420220818819026,0.7441255131249321,0.7462215927998385,0.7483103001984588,0.7503916146854637,0.7524655156985628,0.754531982748706,0.7565909954202877,0.7586425333713469,0.7606865763337695,0.7627231041134874,0.7647520965906791,0.7667735337199675,0.7687873955306185,0.7707936621267382,0.7727923136874691,0.774783330467187,0.7767666927956944,0.7787423810784165,0.7807103757965934,0.7826706575074741,0.7846232068445077,0.7865680045175353,0.7885050313129801,0.7904342680940378,0.7923556958008651,0.7942692954507682,0.7961750481383906,0.7980729350358996,0.7999629373931723,0.8018450365379808,0.8037192138761771,0.8055854508918759,0.8074437291476388,0.8092940302846554,0.8111363360229249,0.8129706281614371,0.8147968885783518,0.816615099231178,0.8184252421569521,0.8202272994724157,0.8220212533741913,0.8238070861389596,0.8255847801236331,0.8273543177655321,0.8291156815825564,0.8308688541733595,0.8326138182175193,0.8343505564757104,0.8360790517898736,0.8377992870833855,0.8395112453612275,0.8412149097101534,0.8429102632988572,0.8445972893781382,0.8462759712810671,0.8479462924231513,0.8496082363024975,0.8512617864999755,0.8529069266793804,0.8545436405875937,0.8561719120547442,0.8577917249943673,0.8594030634035643,0.8610059113631607,0.8626002530378628,0.8641860726764146,0.8657633546117531,0.8673320832611641,0.8688922431264344,0.8704438187940066,0.87198679493513,0.8735211563060132,0.8750468877479742,0.8765639741875899,0.8780724006368452,0.8795721521932816,0.8810632140401432,0.8825455714465249,0.8840192097675159,0.8854841144443459,0.8869402710045283,0.8883876650620035,0.8898262823172801,0.8912561085575778,0.8926771296569662,0.8940893315765054,0.8954927003643844,0.8968872221560586,0.8982728831743872,0.8996496697297693,0.9010175682202791,0.9023765651317996,0.9037266470381573,0.9050678006012541,0.9064000125711993,0.9077232697864404,0.9090375591738927,0.9103428677490696,0.9116391826162099,0.9129264909684057,0.9142047800877281,0.9154740373453542,0.9167342502016907,0.9179854062064986,0.9192274929990153,0.9204604983080776,0.9216844099522427,0.9228992158399079,0.9241049039694311,0.9253014624292485,0.9264888793979928,0.9276671431446101,0.9288362420284748,0.9299961644995058,0.9311468990982801,0.932288434456146,0.9334207592953355,0.9345438624290754,0.9356577327616985,0.9367623592887524,0.9378577310971091,0.938943837365072,0.9400206673624831,0.9410882104508294,0.9421464560833474,0.9431953938051277,0.944235013253218,0.9452653041567258,0.9462862563369197,0.9472978597073298,0.9483001042738479,0.9492929801348252,0.9502764774811715,0.9512505865964508,0.9522152978569783,0.9531706017319148,0.9541164887833612,0.9550529496664516,0.9559799751294459,0.9568975560138205,0.9578056832543599,0.9587043478792451,0.959593541010143,0.960473253862294,0.9613434777445982,0.9622042040597021,0.9630554243040831,0.9638971300681336,0.9647293130362439,0.9655519649868846,0.9663650777926878,0.9671686434205272,0.9679626539315976,0.9687471014814936,0.9695219783202864,0.970287276792601,0.9710429893376917,0.9717891084895165,0.9725256268768111,0.973252537223162,0.9739698323470777,0.9746775051620601,0.9753755486766748,0.9760639559946193,0.976742720314792,0.9774118349313591,0.9780712932338202,0.9787210887070751,0.9793612149314864,0.9799916655829445,0.9806124344329288,0.9812235153485701,0.9818249022927109,0.9824165893239648,0.9829985705967758,0.9835708403614751,0.9841333929643393,0.9846862228476447,0.9852293245497233,0.9857626927050165,0.9862863220441276,0.9868002073938746,0.9873043436773412,0.9877987259139261,0.9882833492193934,0.98875820880592,0.9892232999821434,0.9896786181532077,0.9901241588208092,0.9905599175832408,0.9909858901354354,0.9914020722690086,0.9918084598723,0.9922050489304145,0.9925918355252606,0.9929688158355909,0.9933359861370382,0.9936933428021535,0.9940408823004411,0.9943786011983938,0.9947064961595269,0.9950245639444106,0.995332801410703,0.9956312055131803,0.9959197733037669,0.9961985019315652,0.9964673886428831,0.9967264307812617,0.9969756257875008,0.9972149711996852,0.9974444646532082,0.9976641038807956,0.9978738867125272,0.9980738110758594,0.9982638749956445,0.9984440765941512,0.9986144140910828,0.9987748858035943,0.9989254901463098,0.9990662256313378,0.9991970908682858,0.9993180845642742,0.9994292055239488,0.9995304526494934,0.9996218249406393,0.9997033214946769,0.9997749415064627,0.9998366842684291,0.9998885491705899,0.9999305357005471,0.9999626434434962,0.9999848720822294,0.9999972213971394,0.9999996912662218,0.9999922816650751,0.9999749926669027,0.9999478244425106,0.9999107772603066,0.9998638514862973,0.9998070475840847,0.9997403661148613,0.9996638077374049,0.9995773732080722,0.9994810633807905,0.9993748792070504,0.9992588217358954,0.9991328921139124,0.9989970915852197,0.9988514214914548,0.9986958832717616,0.998530478462776,0.99835520869861,0.9981700757108368,0.9979750813284729,0.9977702274779598,0.997555516183146,0.9973309495652656,0.9970965298429187,0.9968522593320488,0.9965981404459197,0.9963341756950921,0.9960603676873989,0.995776719127919,0.9954832328189506,0.9951799116599839,0.9948667586476722,0.9945437768758023,0.994210969535264,0.9938683399140186,0.9935158913970662,0.9931536274664124,0.9927815517010343,0.9923996677768443,0.9920079794666544,0.991606490640139,0.9911952052637959,0.9907741274009082,0.9903432612115034,0.9899026109523125,0.9894521809767279,0.9889919757347606,0.9885219997729958,0.9880422577345487,0.9875527543590178,0.9870534944824386,0.9865444830372357,0.9860257250521743,0.9854972256523098,0.984958990058938,0.984411023589543,0.983853331657745,0.9832859197732465,0.982708793541778,0.9821219586650427,0.9815254209406601,0.9809191862621087,0.9803032606186678,0.9796776500953583,0.9790423608728828,0.978397399227564,0.9777427715312833,0.9770784842514176,0.9764045439507755,0.9757209572875317,0.9750277310151628,0.974324871982379,0.9736123871330575,0.9728902835061733,0.9721585682357299,0.9714172485506886,0.9706663317748975,0.9699058253270189,0.9691357367204558,0.9683560735632782,0.9675668435581473,0.9667680545022398,0.965959714287171,0.9651418308989163,0.9643144124177327,0.9634774670180793,0.9626310029685355,0.9617750286317205,0.9609095524642097,0.9600345830164518,0.9591501289326843,0.9582561989508472,0.9573528019024984,0.9564399467127246,0.9555176424000543,0.9545858980763684,0.9536447229468099,0.9526941263096935,0.9517341175564132,0.9507647061713498,0.9497859017317772,0.9487977139077678,0.9478001524620966,0.9467932272501455,0.945776948219805,0.9447513254113767,0.9437163689574737,0.9426720890829208,0.9416184961046529,0.9405556004316138,0.9394834125646527,0.9384019430964213,0.9373112027112682,0.9362112021851339,0.9351019523854439,0.9339834642710024,0.9328557488918827,0.9317188173893186,0.9305726809955946,0.9294173510339345,0.92825283891839,0.9270791561537273,0.9258963143353139,0.9247043251490038,0.9235032003710226,0.9222929518678503,0.9210735915961046,0.9198451316024228,0.9186075840233425,0.9173609610851821,0.9161052751039194,0.9148405384850706,0.9135667637235674,0.9122839634036334,0.9109921501986602,0.9096913368710817,0.9083815362722486,0.9070627613423007,0.9057350251100397,0.9043983406928006,0.9030527212963207,0.9016981802146117,0.9003347308298253,0.8989623866121235,0.8975811611195446,0.8961910679978685,0.8947921209804836,0.893384333888249,0.8919677206293598,0.8905422951992092,0.8891080716802493,0.8876650642418533,0.8862132871401742,0.8847527547180054,0.8832834814046381,0.8818054817157183,0.8803187702531046,0.8788233617047235,0.8773192708444233,0.8758065125318298,0.8742851017121981,0.8727550534162658,0.8712163827601044,0.8696691049449691,0.8681132352571502,0.8665487890678203,0.8649757818328839,0.8633942290928242,0.8618041464725485,0.8602055496812363,0.8585984545121818,0.8569828768426383,0.8553588326336627,0.853726337929956,0.8520854088597062,0.8504360616344284,0.848778312548804,0.8471121779805212,0.8454376743901115,0.8437548183207888,0.8420636263982847,0.8403641153306841,0.8386563019082616,0.8369402030033143,0.8352158355699951,0.8334832166441466,0.8317423633431305,0.8299932928656607,0.8282360224916326,0.8264705695819514,0.8246969515783624,0.8229151860032768,0.8211252904596004,0.8193272826305583,0.8175211802795205,0.8157070012498272,0.8138847634646118,0.8120544849266234,0.8102161837180503,0.8083698780003398,0.80651558601402,0.8046533260785194,0.8027831165919848,0.8009049760311012,0.7990189229509077,0.7971249759846155,0.7952231538434233,0.7933134753163317,0.7913959592699589,0.7894706246483536,0.7875374904728074,0.7855965758416681,0.7836478999301495,0.7816914819901434,0.7797273413500289,0.7777554974144804,0.7757759696642779,0.7737887776561122,0.7717939410223943,0.7697914794710594,0.7677814127853725,0.7657637608237341,0.7637385435194824,0.7617057808806978,0.7596654929900051,0.757617700004373,0.755562422154918,0.7534996797467031,0.7514294931585361,0.7493518828427708,0.747266869325102,0.7451744732043656,0.7430747151523333,0.740967615913508,0.738853196304921,0.7367314772159238,0.7346024796079836,0.7324662245144758,0.7303227330404749,0.728172026362548,0.7260141257285443,0.7238490524573851,0.7216768279388545,0.7194974736333859,0.7173110110718521,0.7151174618553523,0.7129168476549963,0.7107091902116941,0.7084945113359379,0.7062728329075885,0.7040441768756591,0.7018085652580968,0.6995660201415671,0.6973165636812348,0.6950602181005443,0.6927970056910022,0.6905269488119543,0.6882500698903672,0.6859663914206058,0.6836759359642096,0.681378726149673,0.6790747846722183,0.6767641342935738,0.6744467978417489,0.6721227982108063,0.6697921583606385,0.6674549013167402,0.6651110501699791,0.6627606280763705,0.6604036582568462,0.6580401639970268,0.6556701686469911,0.6532936956210441,0.6509107683974883,0.6485214105183887,0.646125645589343,0.6437234972792474,0.6413149893200609,0.638900145506574,0.636478989696172,0.6340515458085985,0.6316178378257209,0.6291778897912916,0.6267317258107125,0.6242793700507955,0.6218208467395231,0.6193561801658114,0.6168853946792673,0.6144085146899502,0.6119255646681303,0.6094365691440451,0.6069415527076603,0.6044405400084232,0.6019335557550224,0.5994206247151421,0.5969017717152167,0.5943770216401876,0.5918463994332559,0.5893099300956354,0.5867676386863079,0.5842195503217725,0.5816656901758008,0.5791060834791861,0.5765407555194936,0.573969731640813,0.5713930372435054,0.5688106977839547,0.5662227387743147,0.5636291857822566,0.5610300644307185,0.5584254003976504,0.5558152194157605,0.5531995472722627,0.5505784098086193,0.5479518329202883,0.545319842556466,0.5426824647198305,0.5400397254662861,0.5373916509047041,0.5347382671966666,0.5320796005562075,0.529415677249552,0.5267465235948596,0.524072165961963,0.5213926307721063,0.5187079444976863,0.5160181336619887,0.513323224838928,0.5106232446527845,0.5079182197779395,0.5052081769386148,0.5024931429086051,0.4997731445110173,0.49704820861800314,0.4943183621504932,0.4915836320779331,0.48884404541801585,0.486099629236414,0.48335041064651457,0.4805964168091484,0.4778376749323244,0.4750742122709596,0.47230605612660875,0.4695332338471973,0.4667557728267481,0.4639737005051135,0.46118704436770297,0.4583958319452106,0.45560009081334535,0.45279984859255745,0.4499951329477642,0.4471859715880798,0.44437239226653796,0.4415544227798208,0.43873209096798305,0.4359054247141755,0.4330744519443727,0.43023920062709375,0.42739969877312867,0.4245559744352605,0.4217080557079871,0.4188559707272462,0.41599974767013437,0.41313941475463134,0.41027500023932023,0.4074065324231068,0.4045340396449426,0.4016575502835437,0.39877709275710915,0.3958926955230428,0.39300438707766927,0.39011219595595514,0.3872161507312257,0.38431628001488144,0.38141261245611857,0.37850517674164225,0.37559400159538636,0.37267911577822843,0.3697605480877041,0.3668383273577253,0.3639124824582941,0.3609830422952162,0.3580500358098182,0.35511349197865844,0.35217343981324367,0.34922990835974116,0.3462829266986904,0.3433325239447187,0.3403787292462505,0.33742157178522203,0.33446108077679176,0.33149728546905066,0.3285302151427358,0.32555989911093947,0.32258636671881874,0.31960964734330827,0.3166297703928268,0.3136467653069894,0.31066066155631555,0.30767148864193655,0.3046792760953073,0.3016840534779108,0.29868585038096923,0.2956846964251505,0.29268062126027394,0.2896736545650204,0.2866638260466374,0.28365116544064456,0.2806357025105426,0.2776174670475161,0.27459648887014215,0.2715727978240943,0.26854642378184673,0.2655173966423816,0.26248574633089083,0.2594515027984831,0.2564146960218867,0.2533753560031522,0.2503335127693585,0.247289196372315,0.24424243688826333,0.2411932644175833,0.23814170908449195,0.23508780103674906,0.2320315704453581,0.22897304750426659,0.2259122624300711,0.2228492454617151,0.21978402686019335,0.21671663690825152,0.21364710591008582,0.21057546419104656,0.2075017420973352,0.20442596999570747,0.20134817827317206,0.19826839733668922,0.19518665761287282,0.19210298954768854,0.1890174236061518,0.18592999027202972,0.18284072004753657,0.17974964345303537,0.17665679102673523,0.1735621933243882,0.17046588091899034,0.1673678844004766,0.16426823437542112,0.161166961466734,0.15806409631335722,0.15495966956996451,0.15185371190665742,0.1487462540086608,0.14563732657602277,0.142526960323308,0.13941518597929717,0.13630203428668222,0.13318753600176125,0.13007172189413768,0.12695462274641287,0.123836269353885,0.12071669252424352,0.11759592307726349,0.1144739918445037,0.11135092966900079,0.10822676740496319,0.10510153591746937,0.10197526608215945,0.09884798878493316,0.09571973492164343,0.09259053539778982,0.08946042112821631,0.0863294230368023,0.08319757205616021,0.08006489912732856,0.07693143519946496,0.073797211229543,0.07066225818204507,0.06752660702865515,0.06439028874795592,0.061253334325119146,0.05811577475160265,0.05497764102484286,0.051838964147947184,0.04869977512939083,0.04556010498270696,0.04241998472618333,0.03927944538255454,0.036138517978694246,0.032997233545311234,0.029855623116641576,0.026713717730140668,0.023571548426179704,0.02042914624773548,0.01728654224008679,0.014143767450506394,0.011000852927952965,0.007857829722767433,0.00471472888636268,0.001571581470919876,-0.001571581470919631,-0.0047147288863624345,-0.007857829722766744,-0.01100085292795272,-0.01414376745050615,-0.017286542240086543,-0.020429146247735234,-0.02357154842617946,-0.026713717730140422,-0.02985562311664133,-0.032997233545310985,-0.036138517978693996,-0.0392794453825543,-0.04241998472618309,-0.04556010498270672,-0.048699775129390145,-0.051838964147946934,-0.054977641024842615,-0.05811577475160241,-0.061253334325118904,-0.06439028874795567,-0.06752660702865491,-0.07066225818204482,-0.07379721122954275,-0.07693143519946471,-0.08006489912732832,-0.08319757205615996,-0.08632942303680206,-0.08946042112821563,-0.09259053539778958,-0.09571973492164318,-0.09884798878493291,-0.1019752660821592,-0.10510153591746914,-0.10822676740496294,-0.11135092966900055,-0.11447399184450346,-0.11759592307726326,-0.12071669252424329,-0.12383626935388475,-0.12695462274641264,-0.130071721894137,-0.133187536001761,-0.136302034286682,-0.13941518597929692,-0.14252696032330775,-0.14563732657602252,-0.14874625400866054,-0.15185371190665717,-0.15495966956996426,-0.15806409631335697,-0.1611669614667338,-0.1642682343754209,-0.16736788440047634,-0.17046588091898968,-0.17356219332438794,-0.176656791026735,-0.17974964345303515,-0.18284072004753632,-0.18592999027202906,-0.18901742360615156,-0.1921029895476883,-0.19518665761287257,-0.19826839733668897,-0.20134817827317184,-0.20442596999570722,-0.20750174209733496,-0.2105754641910459,-0.21364710591008557,-0.21671663690825127,-0.2197840268601931,-0.22284924546171486,-0.22591226243007043,-0.22897304750426634,-0.23203157044535785,-0.23508780103674884,-0.2381417090844917,-0.24119326441758304,-0.2442424368882631,-0.24728919637231475,-0.2503335127693582,-0.2533753560031519,-0.25641469602188643,-0.25945150279848284,-0.2624857463308906,-0.26551739664238094,-0.26854642378184646,-0.2715727978240941,-0.27459648887014193,-0.27761746704751583,-0.2806357025105423,-0.28365116544064434,-0.2866638260466372,-0.2896736545650202,-0.2926806212602737,-0.2956846964251502,-0.298685850380969,-0.30168405347791055,-0.30467927609530665,-0.30767148864193633,-0.3106606615563153,-0.31364676530698915,-0.3166297703928266,-0.31960964734330805,-0.3225863667188185,-0.3255598991109392,-0.32853021514273556,-0.33149728546905044,-0.33446108077679154,-0.3374215717852218,-0.3403787292462503,-0.343332523944718,-0.34628292669869015,-0.34922990835974094,-0.35217343981324345,-0.3551134919786582,-0.3580500358098179,-0.360983042295216,-0.3639124824582939,-0.3668383273577251,-0.36976054808770387,-0.3726791157782282,-0.37559400159538614,-0.378505176741642,-0.3814126124561179,-0.3843162800148812,-0.38721615073122545,-0.3901121959559549,-0.39300438707766905,-0.3958926955230422,-0.39877709275710893,-0.4016575502835435,-0.4045340396449424,-0.4074065324231066,-0.41027500023932,-0.4131394147546311,-0.41599974767013415,-0.41885597072724556,-0.42170805570798686,-0.4245559744352603,-0.42739969877312844,-0.43023920062709353,-0.4330744519443721,-0.43590542471417526,-0.4387320909679828,-0.4415544227798206,-0.44437239226653774,-0.4471859715880796,-0.44999513294776405,-0.45279984859255723,-0.4556000908133451,-0.4583958319452104,-0.46118704436770275,-0.4639737005051133,-0.4667557728267479,-0.4695332338471967,-0.47230605612660853,-0.47507421227095936,-0.47783767493232415,-0.48059641680914816,-0.48335041064651435,-0.4860996292364138,-0.4888440454180157,-0.4915836320779329,-0.49431836215049296,-0.4970482086180029,-0.49977314451101706,-0.5024931429086049,-0.5052081769386141,-0.5079182197779393,-0.5106232446527843,-0.5133232248389278,-0.5160181336619885,-0.5187079444976861,-0.5213926307721061,-0.5240721659619629,-0.5267465235948594,-0.5294156772495517,-0.5320796005562073,-0.5347382671966664,-0.5373916509047039,-0.5400397254662855,-0.5426824647198303,-0.5453198425564658,-0.547951832920288,-0.5505784098086192,-0.5531995472722625,-0.5558152194157603,-0.5584254003976502,-0.5610300644307183,-0.5636291857822565,-0.5662227387743145,-0.5688106977839544,-0.5713930372435052,-0.5739697316408124,-0.5765407555194934,-0.5791060834791859,-0.5816656901758006,-0.5842195503217723,-0.5867676386863072,-0.5893099300956351,-0.5918463994332557,-0.5943770216401875,-0.5969017717152165,-0.5994206247151419,-0.6019335557550222,-0.604440540008423,-0.6069415527076597,-0.6094365691440449,-0.6119255646681301,-0.6144085146899501,-0.6168853946792671,-0.6193561801658108,-0.6218208467395229,-0.6242793700507953,-0.6267317258107123,-0.6291778897912914,-0.6316178378257207,-0.6340515458085982,-0.6364789896961719,-0.6389001455065738,-0.6413149893200607,-0.6437234972792472,-0.6461256455893429,-0.6485214105183885,-0.6509107683974877,-0.6532936956210439,-0.6556701686469909,-0.6580401639970267,-0.660403658256846,-0.6627606280763703,-0.6651110501699788,-0.66745490131674,-0.6697921583606384,-0.6721227982108061,-0.6744467978417488,-0.6767641342935737,-0.679074784672218,-0.6813787261496725,-0.6836759359642095,-0.6859663914206056,-0.6882500698903671,-0.6905269488119541,-0.692797005691002,-0.6950602181005442,-0.6973165636812346,-0.6995660201415669,-0.7018085652580967,-0.704044176875659,-0.7062728329075884,-0.7084945113359377,-0.7107091902116937,-0.7129168476549961,-0.7151174618553521,-0.717311011071852,-0.7194974736333857,-0.7216768279388543,-0.723849052457385,-0.7260141257285442,-0.7281720263625479,-0.7303227330404748,-0.7324662245144757,-0.7346024796079834,-0.7367314772159236,-0.7388531963049205,-0.7409676159135078,-0.743074715152333,-0.7451744732043655,-0.7472668693251019,-0.7493518828427703,-0.7514294931585359,-0.753499679746703,-0.7555624221549179,-0.7576177000043728,-0.7596654929900046,-0.7617057808806981,-0.7637385435194822,-0.7657637608237337,-0.7677814127853726,-0.7697914794710593,-0.7717939410223942,-0.7737887776561119,-0.7757759696642776,-0.7777554974144802,-0.7797273413500284,-0.7816914819901435,-0.7836478999301494,-0.7855965758416676,-0.7875374904728075,-0.7894706246483535,-0.7913959592699588,-0.7933134753163319,-0.7952231538434232,-0.7971249759846153,-0.7990189229509073,-0.800904976031101,-0.8027831165919846,-0.804653326078519,-0.8065155860140201,-0.8083698780003397,-0.8102161837180499,-0.8120544849266235,-0.8138847634646117,-0.815707001249827,-0.8175211802795201,-0.8193272826305581,-0.8211252904596001,-0.8229151860032765,-0.8246969515783623,-0.8264705695819513,-0.8282360224916322,-0.8299932928656608,-0.8317423633431303,-0.8334832166441462,-0.8352158355699952,-0.8369402030033142,-0.8386563019082613,-0.8403641153306838,-0.8420636263982846,-0.8437548183207887,-0.8454376743901112,-0.8471121779805211,-0.8487783125488039,-0.8504360616344281,-0.8520854088597063,-0.8537263379299559,-0.8553588326336623,-0.8569828768426383,-0.8585984545121816,-0.8602055496812362,-0.8618041464725482,-0.863394229092824,-0.8649757818328837,-0.86654878906782,-0.8681132352571501,-0.869669104944969,-0.871216382760104,-0.8727550534162659,-0.874285101712198,-0.8758065125318295,-0.8773192708444233,-0.8788233617047233,-0.8803187702531045,-0.8818054817157179,-0.883283481404638,-0.8847527547180053,-0.8862132871401739,-0.8876650642418532,-0.8891080716802492,-0.890542295199209,-0.8919677206293599,-0.8933843338882489,-0.8947921209804832,-0.8961910679978686,-0.8975811611195444,-0.8989623866121234,-0.900334730829825,-0.9016981802146116,-0.9030527212963206,-0.9043983406928002,-0.9057350251100398,-0.9070627613423006,-0.9083815362722483,-0.9096913368710817,-0.9109921501986601,-0.9122839634036333,-0.9135667637235675,-0.9148405384850705,-0.9161052751039193,-0.9173609610851817,-0.9186075840233424,-0.9198451316024226,-0.9210735915961044,-0.9222929518678502,-0.9235032003710225,-0.9247043251490037,-0.9258963143353138,-0.9270791561537273,-0.9282528389183898,-0.9294173510339346,-0.9305726809955945,-0.9317188173893184,-0.9328557488918824,-0.9339834642710024,-0.9351019523854439,-0.9362112021851337,-0.9373112027112682,-0.9384019430964213,-0.9394834125646526,-0.9405556004316138,-0.9416184961046528,-0.9426720890829206,-0.9437163689574738,-0.9447513254113766,-0.9457769482198048,-0.9467932272501453,-0.9478001524620966,-0.9487977139077677,-0.949785901731777,-0.9507647061713498,-0.9517341175564131,-0.9526941263096933,-0.9536447229468099,-0.9545858980763683,-0.9555176424000542,-0.9564399467127246,-0.9573528019024984,-0.9582561989508471,-0.959150128932684,-0.9600345830164518,-0.9609095524642096,-0.9617750286317204,-0.9626310029685355,-0.9634774670180792,-0.9643144124177326,-0.9651418308989163,-0.965959714287171,-0.9667680545022397,-0.9675668435581474,-0.9683560735632782,-0.9691357367204557,-0.9699058253270187,-0.9706663317748975,-0.9714172485506885,-0.9721585682357297,-0.9728902835061733,-0.9736123871330575,-0.9743248719823789,-0.9750277310151628,-0.9757209572875317,-0.9764045439507754,-0.9770784842514177,-0.9777427715312833,-0.978397399227564,-0.9790423608728827,-0.9796776500953583,-0.9803032606186677,-0.9809191862621086,-0.9815254209406601,-0.9821219586650426,-0.9827087935417779,-0.9832859197732465,-0.983853331657745,-0.984411023589543,-0.9849589900589379,-0.9854972256523098,-0.9860257250521742,-0.9865444830372356,-0.9870534944824386,-0.9875527543590177,-0.9880422577345486,-0.9885219997729958,-0.9889919757347605,-0.9894521809767278,-0.9899026109523126,-0.9903432612115034,-0.9907741274009082,-0.9911952052637958,-0.991606490640139,-0.9920079794666544,-0.9923996677768442,-0.9927815517010343,-0.9931536274664124,-0.9935158913970661,-0.9938683399140186,-0.994210969535264,-0.9945437768758022,-0.9948667586476722,-0.9951799116599839,-0.9954832328189505,-0.9957767191279189,-0.9960603676873989,-0.9963341756950921,-0.9965981404459195,-0.9968522593320487,-0.9970965298429187,-0.9973309495652656,-0.9975555161831459,-0.9977702274779598,-0.9979750813284729,-0.9981700757108369,-0.99835520869861,-0.9985304784627759,-0.9986958832717616,-0.9988514214914548,-0.9989970915852197,-0.9991328921139124,-0.9992588217358954,-0.9993748792070504,-0.9994810633807905,-0.9995773732080722,-0.9996638077374049,-0.9997403661148613,-0.9998070475840847,-0.9998638514862973,-0.9999107772603066,-0.9999478244425106,-0.9999749926669027,-0.9999922816650751,-0.9999996912662218,-0.9999972213971394,-0.9999848720822294,-0.9999626434434962,-0.9999305357005471,-0.9998885491705899,-0.9998366842684291,-0.9997749415064627,-0.9997033214946769,-0.9996218249406393,-0.9995304526494934,-0.9994292055239488,-0.9993180845642742,-0.9991970908682858,-0.9990662256313378,-0.9989254901463098,-0.9987748858035943,-0.9986144140910828,-0.9984440765941512,-0.9982638749956445,-0.9980738110758594,-0.9978738867125272,-0.9976641038807956,-0.9974444646532084,-0.9972149711996852,-0.9969756257875008,-0.9967264307812617,-0.9964673886428831,-0.9961985019315652,-0.9959197733037669,-0.9956312055131803,-0.995332801410703,-0.9950245639444106,-0.9947064961595268,-0.9943786011983938,-0.9940408823004412,-0.9936933428021536,-0.9933359861370382,-0.9929688158355909,-0.9925918355252608,-0.9922050489304145,-0.9918084598723002,-0.9914020722690087,-0.9909858901354354,-0.9905599175832408,-0.9901241588208093,-0.9896786181532077,-0.9892232999821434,-0.9887582088059201,-0.9882833492193935,-0.9877987259139261,-0.9873043436773412,-0.9868002073938748,-0.9862863220441276,-0.9857626927050165,-0.9852293245497235,-0.9846862228476447,-0.9841333929643393,-0.9835708403614752,-0.9829985705967756,-0.9824165893239648,-0.9818249022927109,-0.9812235153485702,-0.9806124344329288,-0.9799916655829446,-0.9793612149314866,-0.9787210887070751,-0.9780712932338204,-0.9774118349313592,-0.976742720314792,-0.9760639559946194,-0.9753755486766749,-0.9746775051620603,-0.9739698323470777,-0.9732525372231621,-0.9725256268768113,-0.9717891084895165,-0.9710429893376917,-0.9702872767926012,-0.9695219783202864,-0.9687471014814937,-0.9679626539315977,-0.9671686434205271,-0.9663650777926878,-0.9655519649868847,-0.964729313036244,-0.9638971300681336,-0.9630554243040832,-0.9622042040597023,-0.9613434777445982,-0.9604732538622941,-0.9595935410101433,-0.9587043478792452,-0.95780568325436,-0.9568975560138206,-0.9559799751294458,-0.9550529496664516,-0.9541164887833613,-0.953170601731915,-0.9522152978569783,-0.9512505865964509,-0.9502764774811717,-0.9492929801348252,-0.9483001042738479,-0.94729785970733,-0.9462862563369197,-0.9452653041567259,-0.9442350132532181,-0.9431953938051276,-0.9421464560833475,-0.9410882104508296,-0.9400206673624834,-0.938943837365072,-0.9378577310971092,-0.9367623592887527,-0.9356577327616985,-0.9345438624290755,-0.9334207592953356,-0.9322884344561461,-0.9311468990982802,-0.929996164499506,-0.9288362420284747,-0.9276671431446101,-0.9264888793979931,-0.9253014624292488,-0.9241049039694311,-0.922899215839908,-0.9216844099522429,-0.9204604983080776,-0.9192274929990154,-0.9179854062064988,-0.9167342502016907,-0.9154740373453543,-0.9142047800877283,-0.9129264909684056,-0.91163918261621,-0.9103428677490698,-0.909037559173893,-0.9077232697864404,-0.9064000125711995,-0.9050678006012545,-0.9037266470381573,-0.9023765651317998,-0.9010175682202793,-0.8996496697297695,-0.8982728831743874,-0.8968872221560589,-0.8954927003643843,-0.8940893315765055,-0.8926771296569664,-0.8912561085575781,-0.8898262823172802,-0.8883876650620036,-0.8869402710045287,-0.8854841144443459,-0.884019209767516,-0.8825455714465251,-0.8810632140401433,-0.8795721521932817,-0.8780724006368454,-0.8765639741875898,-0.8750468877479743,-0.8735211563060135,-0.8719867949351303,-0.8704438187940066,-0.8688922431264346,-0.8673320832611644,-0.8657633546117532,-0.8641860726764147,-0.862600253037863,-0.8610059113631607,-0.8594030634035644,-0.8577917249943675,-0.8561719120547441,-0.8545436405875938,-0.8529069266793806,-0.8512617864999759,-0.8496082363024975,-0.8479462924231514,-0.8462759712810675,-0.8445972893781382,-0.8429102632988574,-0.8412149097101538,-0.8395112453612273,-0.8377992870833856,-0.8360790517898739,-0.8343505564757103,-0.8326138182175195,-0.8308688541733596,-0.8291156815825569,-0.8273543177655321,-0.8255847801236333,-0.8238070861389598,-0.8220212533741913,-0.8202272994724158,-0.8184252421569524,-0.816615099231178,-0.8147968885783519,-0.8129706281614374,-0.8111363360229248,-0.8092940302846554,-0.8074437291476391,-0.8055854508918763,-0.8037192138761771,-0.801845036537981,-0.7999629373931727,-0.7980729350358996,-0.7961750481383908,-0.7942692954507685,-0.792355695800865,-0.7904342680940378,-0.7885050313129803,-0.7865680045175357,-0.7846232068445078,-0.7826706575074743,-0.7807103757965939,-0.7787423810784165,-0.7767666927956947,-0.7747833304671874,-0.7727923136874691,-0.7707936621267383,-0.7687873955306188,-0.7667735337199675,-0.7647520965906792,-0.7627231041134878,-0.7606865763337699,-0.758642533371347,-0.7565909954202878,-0.7545319827487065,-0.7524655156985628,-0.750391614685464,-0.7483103001984591,-0.7462215927998386,-0.7441255131249322,-0.742022081881903,-0.7399113198515426,-0.7377932478870697,-0.7356678869139188,-0.733535257929537,-0.7313953820031747,-0.7292482802756801,-0.7270939739592869,-0.724932484337406,-0.7227638327644176,-0.7205880406654565,-0.7184051295362018,-0.7162151209426671,-0.7140180365209831,-0.7118138979771859,-0.7096027270870047,-0.7073845456956425,-0.7051593757175632,-0.7029272391362734,-0.7006881580041082,-0.6984421544420092,-0.6961892506393077,-0.6939294688535081,-0.6916628314100636,-0.6893893607021574,-0.6871090791904839,-0.684822009403023,-0.6825281739348186,-0.6802275954477583,-0.6779202966703453,-0.6756063003974759,-0.6732856294902141,-0.6709583068755673,-0.6686243555462564,-0.6662837985604906,-0.6639366590417414,-0.6615829601785101,-0.6592227252241014,-0.6568559774963947,-0.6544827403776101,-0.6521030373140797,-0.6497168918160178,-0.6473243274572842,-0.6449253678751548,-0.6425200367700857,-0.640108357905483,-0.6376903551074626,-0.6352660522646181,-0.6328354733277859,-0.6303986423098049,-0.6279555832852814,-0.6255063203903533,-0.6230508778224471,-0.6205892798400411,-0.6181215507624286,-0.6156477149694721,-0.6131677969013664,-0.610681821058395,-0.6081898120006911,-0.605691794347991,-0.6031877927793927,-0.6006778320331142,-0.5981619369062449,-0.5956401322545026,-0.5931124429919906,-0.5905788940909467,-0.5880395105814987,-0.5854943175514197,-0.5829433401458755,-0.5803866035671792,-0.5778241330745407,-0.5752559539838203,-0.5726820916672739,-0.5701025715533049,-0.5675174191262147,-0.5649266599259469,-0.5623303195478371,-0.559728423642362,-0.5571209979148821,-0.5545080681253894,-0.5518896600882555,-0.5492657996719718,-0.5466365127988971,-0.5440018254450003,-0.541361763639606,-0.5387163534651336,-0.5360656210568414,-0.533409592602571,-0.5307482943424837,-0.5280817525688039,-0.5254099936255612,-0.522733043908326,-0.5200509298639507,-0.5173636779903109,-0.5146713148360389,-0.5119738670002645,-0.5092713611323508,-0.5065638239316338,-0.5038512821471542,-0.5011337625773953,-0.4984112920700206,-0.49568389752160397,-0.4929516058773662,-0.4902144441309111,-0.4874724393239543,-0.4847256185460581,-0.4819740089343667,-0.47921763767333286,-0.4764565319944528,-0.4736907191759956,-0.4709202265427366,-0.4681450814656829,-0.46536531136180537,-0.4625809436937701,-0.4597920059696623,-0.4569985257427168,-0.45420053061104854,-0.4513980482173748,-0.44859110624874554,-0.4457797324362681,-0.44296395455483656,-0.44014380042285245,-0.4373192979019524,-0.4344904748967351,-0.43165735935448113,-0.42881997926487897,-0.4259783626597509,-0.4231325376127716,-0.4202825322391927,-0.4174283746955677,-0.414570093179469,-0.4117077159292125,-0.40884127122357694,-0.4059707873815278,-0.4030962927619327,-0.4002178157632836,-0.39733538482341874,-0.3944490284192367,-0.3915587750664176,-0.388664653319144,-0.38576669176981343,-0.3828649190487588,-0.3799593638239678,-0.3770500548007948,-0.3741370207216806,-0.3712202903658666,-0.36829989254911427,-0.3653758561234148,-0.3624482099767071,-0.35951698303259483,-0.3565822042500554,-0.3536439026231564,-0.35070210718077205,-0.34775684698629095,-0.3448081511373316,-0.34185604876545755,-0.3389005690358845,-0.33594174114719544,-0.3329795943310506,-0.33001415785190197,-0.3270454610066992,-0.32407353312460246,-0.3210984035666957,-0.318120101725691,-0.315138657025641,-0.3121540989216505,-0.30916645689958083,-0.3061757604757606,-0.303182039196697,-0.30018532263877845,-0.2971856404079862,-0.29418302213959974,-0.2911774974979078,-0.2881690961759099,-0.2851578478950257,-0.2821437824048037,-0.2791269294826227,-0.2761073189333995,-0.2730849805892977,-0.2700599443094272,-0.2670322399795524,-0.2640018975117989,-0.2609689468443534,-0.2579334179411709,-0.25489534079167725,-0.25185474541047614,-0.2488116618370476,-0.24576612013545357,-0.24271815039404365,-0.2396677827251526,-0.23661504726480545,-0.23355997417242227,-0.23050259363051526,-0.22744293584439285,-0.22438103104186416,-0.221316909472935,-0.2182506014095125,-0.2151821371451044,-0.21211154699452314,-0.20903886129358118,-0.20596411039879395,-0.20288732468708245,-0.1998085345554681,-0.1967277704207748,-0.1936450627193313,-0.19056044190666505,-0.1874739384572041,-0.18438558286397852,-0.181295405638314,-0.1782034373095339,-0.17510970842465579,-0.1720142495480933,-0.1689170912613488,-0.16581826416271395,-0.16271779886697002,-0.15961572600508017,-0.15651207622388946,-0.15340688018582477,-0.15030016856858644,-0.14719197206484805,-0.14408232138195565,-0.1409712472416192,-0.13785878037961252,-0.13474495154546792,-0.13162979150217594,-0.1285133310258761,-0.12539560090555552,-0.12227663194274736,-0.1191564549512213,-0.11603510075668165,-0.11291260019646553,-0.10978898411923292,-0.1066642833846645,-0.10353852886315942,-0.10041175143552511,-0.09728398199267561,-0.09415525143532465,-0.09102559067368395,-0.08789503062715248,-0.08476360222401369,-0.0816313364011326,-0.0784982641036448,-0.07536441628465346,-0.07222982390492613,-0.06909451793258359,-0.06595852934279653,-0.0628218891174822,-0.059684628244992995,-0.05654677771981388,-0.053408368542254385,-0.050269431718145886,-0.04712999825852999,-0.043990099179354765,-0.040849765501171045,-0.03770902824882061,-0.03456791845113233,-0.03142646714061829,-0.028284705353161875,-0.025142664127714726,-0.022000374505988275,-0.018857867532150657,-0.015715174252514653,-0.012572325715233661,-0.0094293529699976,-0.006286287067720833,-0.0031431590602380684,-2.4492935982947064e-16]}},\"id\":\"c4433c7e-ff9c-46e7-957c-16cd875a28e7\",\"type\":\"ColumnDataSource\"},{\"attributes\":{\"formatter\":{\"id\":\"26272baa-7527-43e6-8ede-e0f53cc1e499\",\"type\":\"BasicTickFormatter\"},\"plot\":{\"id\":\"7c0c78fd-2c17-46c5-bc5a-09fa76c1bb29\",\"subtype\":\"Figure\",\"type\":\"Plot\"},\"ticker\":{\"id\":\"315259c8-aced-48d9-adf3-08c74aa338bd\",\"type\":\"BasicTicker\"}},\"id\":\"660b1c03-3d39-45be-9229-7d001f3398ad\",\"type\":\"LinearAxis\"},{\"attributes\":{\"callback\":null},\"id\":\"c035b4c7-caaa-4c8a-b3eb-c1b0a7205624\",\"type\":\"DataRange1d\"},{\"attributes\":{\"dimension\":1,\"plot\":{\"id\":\"bed68b3a-7a11-4cb2-ba05-9c8e6068d027\",\"subtype\":\"Figure\",\"type\":\"Plot\"},\"ticker\":{\"id\":\"9eb44cd5-b5d0-4865-aec5-0d5fa181b966\",\"type\":\"BasicTicker\"}},\"id\":\"ee6d0e3f-4e5b-4368-869f-be34c7dfaf36\",\"type\":\"Grid\"},{\"attributes\":{},\"id\":\"538af4bd-1a0f-4e5c-b0b2-ad79a0734929\",\"type\":\"BasicTickFormatter\"},{\"attributes\":{\"overlay\":{\"id\":\"bb8b700c-4847-433e-bc4d-58edac84c14f\",\"type\":\"BoxAnnotation\"},\"plot\":{\"id\":\"7c0c78fd-2c17-46c5-bc5a-09fa76c1bb29\",\"subtype\":\"Figure\",\"type\":\"Plot\"}},\"id\":\"175c77c5-3970-446f-a293-711981c055c1\",\"type\":\"BoxZoomTool\"},{\"attributes\":{\"bottom_units\":\"screen\",\"fill_alpha\":{\"value\":0.5},\"fill_color\":{\"value\":\"lightgrey\"},\"left_units\":\"screen\",\"level\":\"overlay\",\"line_alpha\":{\"value\":1.0},\"line_color\":{\"value\":\"black\"},\"line_dash\":[4,4],\"line_width\":{\"value\":2},\"plot\":null,\"render_mode\":\"css\",\"right_units\":\"screen\",\"top_units\":\"screen\"},\"id\":\"7eb9b728-64c6-40d7-9f58-34f1e65fa6fa\",\"type\":\"BoxAnnotation\"},{\"attributes\":{\"formatter\":{\"id\":\"fed83b97-2b8a-4f7c-a736-ffaf7b5a8d4e\",\"type\":\"BasicTickFormatter\"},\"plot\":{\"id\":\"299cc4fc-88e8-49fc-8bdc-ef9cec59ff92\",\"subtype\":\"Figure\",\"type\":\"Plot\"},\"ticker\":{\"id\":\"2eab25a8-53df-4396-8158-842f347335f8\",\"type\":\"BasicTicker\"}},\"id\":\"8d9d373b-58de-4337-8ab2-1dedaf3001cc\",\"type\":\"LinearAxis\"},{\"attributes\":{\"fill_color\":{\"value\":\"#1f77b4\"},\"line_color\":{\"value\":\"#1f77b4\"},\"x\":{\"field\":\"x\"},\"y\":{\"field\":\"y\"}},\"id\":\"5b070184-71c1-48f0-a2ad-6a5dacd331ac\",\"type\":\"Circle\"},{\"attributes\":{},\"id\":\"b50499a8-38b5-44c9-a62f-e09b1e5fec3f\",\"type\":\"BasicTickFormatter\"},{\"attributes\":{\"plot\":{\"id\":\"299cc4fc-88e8-49fc-8bdc-ef9cec59ff92\",\"subtype\":\"Figure\",\"type\":\"Plot\"}},\"id\":\"b8be3e01-bfb9-41cf-95e6-30b016e8574b\",\"type\":\"WheelZoomTool\"},{\"attributes\":{\"plot\":{\"id\":\"299cc4fc-88e8-49fc-8bdc-ef9cec59ff92\",\"subtype\":\"Figure\",\"type\":\"Plot\"}},\"id\":\"cbdfc30a-f01b-4b8c-aeaf-dcf70f4a7405\",\"type\":\"PanTool\"},{\"attributes\":{\"plot\":{\"id\":\"299cc4fc-88e8-49fc-8bdc-ef9cec59ff92\",\"subtype\":\"Figure\",\"type\":\"Plot\"}},\"id\":\"0dcdd069-9688-40d2-b68c-acdecb4b6804\",\"type\":\"ResizeTool\"},{\"attributes\":{\"plot\":{\"id\":\"7c0c78fd-2c17-46c5-bc5a-09fa76c1bb29\",\"subtype\":\"Figure\",\"type\":\"Plot\"}},\"id\":\"31172b3d-411a-4e92-a843-262937fb8836\",\"type\":\"PanTool\"},{\"attributes\":{\"fill_alpha\":{\"value\":0.1},\"fill_color\":{\"value\":\"#1f77b4\"},\"line_alpha\":{\"value\":0.1},\"line_color\":{\"value\":\"#1f77b4\"},\"x\":{\"field\":\"x\"},\"y\":{\"field\":\"y\"}},\"id\":\"38837142-01af-43c3-8b39-b549edc266a2\",\"type\":\"Circle\"},{\"attributes\":{\"plot\":{\"id\":\"bed68b3a-7a11-4cb2-ba05-9c8e6068d027\",\"subtype\":\"Figure\",\"type\":\"Plot\"}},\"id\":\"2fad12f6-d27f-4bc5-8a60-7e77845af77c\",\"type\":\"ResetTool\"},{\"attributes\":{\"plot\":{\"id\":\"7c0c78fd-2c17-46c5-bc5a-09fa76c1bb29\",\"subtype\":\"Figure\",\"type\":\"Plot\"}},\"id\":\"3d865875-ceb6-44ed-ada0-f242fb3accfe\",\"type\":\"PreviewSaveTool\"},{\"attributes\":{\"plot\":{\"id\":\"299cc4fc-88e8-49fc-8bdc-ef9cec59ff92\",\"subtype\":\"Figure\",\"type\":\"Plot\"}},\"id\":\"9791e1c5-e52d-4e46-ba95-0ba84a8393ea\",\"type\":\"HelpTool\"},{\"attributes\":{\"formatter\":{\"id\":\"b50499a8-38b5-44c9-a62f-e09b1e5fec3f\",\"type\":\"BasicTickFormatter\"},\"plot\":{\"id\":\"7c0c78fd-2c17-46c5-bc5a-09fa76c1bb29\",\"subtype\":\"Figure\",\"type\":\"Plot\"},\"ticker\":{\"id\":\"1de07b0d-b3a1-4b47-8d1d-3b6ff011f74c\",\"type\":\"BasicTicker\"}},\"id\":\"e368015e-2f5e-4a1e-bb64-1055e88d79c2\",\"type\":\"LinearAxis\"},{\"attributes\":{\"plot\":{\"id\":\"bed68b3a-7a11-4cb2-ba05-9c8e6068d027\",\"subtype\":\"Figure\",\"type\":\"Plot\"}},\"id\":\"4c4ab564-4410-479a-a13d-9dee0d14b112\",\"type\":\"ResizeTool\"},{\"attributes\":{},\"id\":\"2068550e-6ed5-429e-bdbe-a8a3b9c06e0a\",\"type\":\"BasicTicker\"},{\"attributes\":{\"callback\":null,\"end\":5,\"start\":-5},\"id\":\"1359e249-5175-4630-b128-934ff9081eba\",\"type\":\"Range1d\"},{\"attributes\":{},\"id\":\"aca22cf5-433b-487f-9c0a-a7c16f2bda0a\",\"type\":\"BasicTickFormatter\"},{\"attributes\":{},\"id\":\"315259c8-aced-48d9-adf3-08c74aa338bd\",\"type\":\"BasicTicker\"},{\"attributes\":{},\"id\":\"fed83b97-2b8a-4f7c-a736-ffaf7b5a8d4e\",\"type\":\"BasicTickFormatter\"},{\"attributes\":{\"callback\":null,\"column_names\":[\"x\",\"y\"],\"data\":{\"x\":[1,2],\"y\":[3,4]}},\"id\":\"e10304ae-9770-4e8b-8b28-b004455499b3\",\"type\":\"ColumnDataSource\"},{\"attributes\":{},\"id\":\"94befa20-e3b3-482c-abe0-52836ee0726d\",\"type\":\"BasicTickFormatter\"},{\"attributes\":{\"plot\":{\"id\":\"7c0c78fd-2c17-46c5-bc5a-09fa76c1bb29\",\"subtype\":\"Figure\",\"type\":\"Plot\"}},\"id\":\"0823386f-1b2a-47ec-b3ea-6eb85cf7c4eb\",\"type\":\"HelpTool\"},{\"attributes\":{\"plot\":{\"id\":\"299cc4fc-88e8-49fc-8bdc-ef9cec59ff92\",\"subtype\":\"Figure\",\"type\":\"Plot\"}},\"id\":\"c85d183e-7faa-4716-8dc0-313a42bf48a6\",\"type\":\"PreviewSaveTool\"},{\"attributes\":{\"bottom_units\":\"screen\",\"fill_alpha\":{\"value\":0.5},\"fill_color\":{\"value\":\"lightgrey\"},\"left_units\":\"screen\",\"level\":\"overlay\",\"line_alpha\":{\"value\":1.0},\"line_color\":{\"value\":\"black\"},\"line_dash\":[4,4],\"line_width\":{\"value\":2},\"plot\":null,\"render_mode\":\"css\",\"right_units\":\"screen\",\"top_units\":\"screen\"},\"id\":\"bb8b700c-4847-433e-bc4d-58edac84c14f\",\"type\":\"BoxAnnotation\"},{\"attributes\":{\"plot\":{\"id\":\"7c0c78fd-2c17-46c5-bc5a-09fa76c1bb29\",\"subtype\":\"Figure\",\"type\":\"Plot\"}},\"id\":\"a7d1d711-f8f6-4426-a821-5a588ed425a8\",\"type\":\"WheelZoomTool\"},{\"attributes\":{\"formatter\":{\"id\":\"aca22cf5-433b-487f-9c0a-a7c16f2bda0a\",\"type\":\"BasicTickFormatter\"},\"plot\":{\"id\":\"299cc4fc-88e8-49fc-8bdc-ef9cec59ff92\",\"subtype\":\"Figure\",\"type\":\"Plot\"},\"ticker\":{\"id\":\"2068550e-6ed5-429e-bdbe-a8a3b9c06e0a\",\"type\":\"BasicTicker\"}},\"id\":\"933ce699-1f50-4d3f-8f3a-0859eea88f51\",\"type\":\"LinearAxis\"},{\"attributes\":{\"data_source\":{\"id\":\"e0960db2-3e98-4e5b-bef2-735c18822df4\",\"type\":\"ColumnDataSource\"},\"glyph\":{\"id\":\"a769bea4-cc09-44bb-baa3-87895add7ff1\",\"type\":\"Circle\"},\"hover_glyph\":null,\"nonselection_glyph\":{\"id\":\"e050708e-2bff-4fce-a1f9-dc840ac30192\",\"type\":\"Circle\"},\"selection_glyph\":null},\"id\":\"53fbdd9c-f029-4a0f-b662-1587f4525db4\",\"type\":\"GlyphRenderer\"},{\"attributes\":{\"below\":[{\"id\":\"e368015e-2f5e-4a1e-bb64-1055e88d79c2\",\"type\":\"LinearAxis\"}],\"left\":[{\"id\":\"660b1c03-3d39-45be-9229-7d001f3398ad\",\"type\":\"LinearAxis\"}],\"plot_height\":300,\"renderers\":[{\"id\":\"e368015e-2f5e-4a1e-bb64-1055e88d79c2\",\"type\":\"LinearAxis\"},{\"id\":\"dc204248-ba5d-4b18-b032-ce4e4af8d5c8\",\"type\":\"Grid\"},{\"id\":\"660b1c03-3d39-45be-9229-7d001f3398ad\",\"type\":\"LinearAxis\"},{\"id\":\"b0bd6c33-4aa1-4f5b-bd13-6eb4eb502acb\",\"type\":\"Grid\"},{\"id\":\"bb8b700c-4847-433e-bc4d-58edac84c14f\",\"type\":\"BoxAnnotation\"},{\"id\":\"087c9f2f-1e1f-4e10-91c8-cf5d48b72f29\",\"type\":\"GlyphRenderer\"}],\"title\":\"simple line example\",\"tool_events\":{\"id\":\"0af5cb66-3287-4fd3-bdf9-24226dd2e191\",\"type\":\"ToolEvents\"},\"tools\":[{\"id\":\"31172b3d-411a-4e92-a843-262937fb8836\",\"type\":\"PanTool\"},{\"id\":\"a7d1d711-f8f6-4426-a821-5a588ed425a8\",\"type\":\"WheelZoomTool\"},{\"id\":\"175c77c5-3970-446f-a293-711981c055c1\",\"type\":\"BoxZoomTool\"},{\"id\":\"3d865875-ceb6-44ed-ada0-f242fb3accfe\",\"type\":\"PreviewSaveTool\"},{\"id\":\"b686b303-126e-47f5-a9bd-1891968b5f8b\",\"type\":\"ResizeTool\"},{\"id\":\"a9f16df4-16ca-408d-8d5b-cf9dd5bf4aff\",\"type\":\"ResetTool\"},{\"id\":\"0823386f-1b2a-47ec-b3ea-6eb85cf7c4eb\",\"type\":\"HelpTool\"}],\"x_range\":{\"id\":\"c51defc7-4449-4250-8033-3754a4ec725a\",\"type\":\"DataRange1d\"},\"y_range\":{\"id\":\"1359e249-5175-4630-b128-934ff9081eba\",\"type\":\"Range1d\"}},\"id\":\"7c0c78fd-2c17-46c5-bc5a-09fa76c1bb29\",\"subtype\":\"Figure\",\"type\":\"Plot\"},{\"attributes\":{\"plot\":{\"id\":\"bed68b3a-7a11-4cb2-ba05-9c8e6068d027\",\"subtype\":\"Figure\",\"type\":\"Plot\"}},\"id\":\"9e4b64b2-7fb5-4ad0-a886-c1bc4916df8e\",\"type\":\"PreviewSaveTool\"},{\"attributes\":{\"below\":[{\"id\":\"23afe945-55dd-4356-b032-72244aa53e9a\",\"type\":\"LinearAxis\"}],\"left\":[{\"id\":\"844c7d06-d8ae-45c0-8bfa-9a865ef814fc\",\"type\":\"LinearAxis\"}],\"renderers\":[{\"id\":\"23afe945-55dd-4356-b032-72244aa53e9a\",\"type\":\"LinearAxis\"},{\"id\":\"588b555a-12e8-47ff-8a2f-403503274239\",\"type\":\"Grid\"},{\"id\":\"844c7d06-d8ae-45c0-8bfa-9a865ef814fc\",\"type\":\"LinearAxis\"},{\"id\":\"ee6d0e3f-4e5b-4368-869f-be34c7dfaf36\",\"type\":\"Grid\"},{\"id\":\"b5b4f190-33ea-476c-9afd-c9b87df74f81\",\"type\":\"BoxAnnotation\"},{\"id\":\"a7e1fd36-dcfc-48e9-a3be-cc3715026793\",\"type\":\"GlyphRenderer\"}],\"tool_events\":{\"id\":\"069abbea-a48f-42e7-beab-3c2b7f10b907\",\"type\":\"ToolEvents\"},\"tools\":[{\"id\":\"05b80fe2-0266-4494-9633-385ebb454909\",\"type\":\"PanTool\"},{\"id\":\"f06a67b1-832f-4290-a6ae-ba82a406f2e3\",\"type\":\"WheelZoomTool\"},{\"id\":\"75fca814-5277-4677-9939-0a690fa32fda\",\"type\":\"BoxZoomTool\"},{\"id\":\"9e4b64b2-7fb5-4ad0-a886-c1bc4916df8e\",\"type\":\"PreviewSaveTool\"},{\"id\":\"4c4ab564-4410-479a-a13d-9dee0d14b112\",\"type\":\"ResizeTool\"},{\"id\":\"2fad12f6-d27f-4bc5-8a60-7e77845af77c\",\"type\":\"ResetTool\"},{\"id\":\"8e72db2c-7935-4c1a-b0b5-29c40345f8f2\",\"type\":\"HelpTool\"}],\"x_range\":{\"id\":\"03a1c37b-1acd-47d7-bbf1-3a5703f55508\",\"type\":\"DataRange1d\"},\"y_range\":{\"id\":\"bac05c8f-87e8-4dde-bcfb-801e8cefeecf\",\"type\":\"DataRange1d\"}},\"id\":\"bed68b3a-7a11-4cb2-ba05-9c8e6068d027\",\"subtype\":\"Figure\",\"type\":\"Plot\"}],\"root_ids\":[\"bed68b3a-7a11-4cb2-ba05-9c8e6068d027\",\"299cc4fc-88e8-49fc-8bdc-ef9cec59ff92\",\"7c0c78fd-2c17-46c5-bc5a-09fa76c1bb29\"]},\"title\":\"Bokeh Application\",\"version\":\"0.11.1\"}};\n",
       "            var render_items = [{\"docid\":\"d0960966-06d4-4c5c-9558-8f3f205de51b\",\"elementid\":\"5d6b39b8-beda-4dae-b014-76ff2d43af9e\",\"modelid\":\"7c0c78fd-2c17-46c5-bc5a-09fa76c1bb29\"}];\n",
       "            \n",
       "            Bokeh.embed.embed_items(docs_json, render_items);\n",
       "        });\n",
       "        </script>\n",
       "    </body>\n",
       "</html>"
      ],
      "text/plain": [
       "<IPython.core.display.HTML object>"
      ]
     },
     "execution_count": 27,
     "metadata": {},
     "output_type": "execute_result"
    }
   ],
   "source": [
    "%%python\n",
    "\n",
    "from ipywidgets import interact\n",
    "import numpy as np\n",
    "\n",
    "from bokeh.io import push_notebook\n",
    "from bokeh.plotting import figure, show, output_file\n",
    "from bokeh.resources import CDN\n",
    "from bokeh.embed import file_html\n",
    "\n",
    "\n",
    "x = np.linspace(0, 2*np.pi, 2000)\n",
    "y = np.sin(x)\n",
    "\n",
    "p = figure(title=\"simple line example\", plot_height=300, plot_width=600, y_range=(-5,5))\n",
    "r = p.line(x, y, color=\"#2222aa\", line_width=3)\n",
    "\n",
    "html = file_html(p, CDN, \"my 2nd plot\")\n",
    "#DONT PRINT - this crashes the browser tab: print(html)\n",
    "\n",
    "import IPython\n",
    "retval=IPython.display.HTML(html)"
   ]
  },
  {
   "cell_type": "code",
   "execution_count": 28,
   "metadata": {
    "collapsed": false
   },
   "outputs": [
    {
     "data": {
      "text/html": [
       "\n",
       "<!DOCTYPE html>\n",
       "<html lang=\"en\">\n",
       "    <head>\n",
       "        <meta charset=\"utf-8\">\n",
       "        <title>my pie-chart plot</title>\n",
       "        \n",
       "<link rel=\"stylesheet\" href=\"https://cdn.pydata.org/bokeh/release/bokeh-0.11.1.min.css\" type=\"text/css\" />\n",
       "        \n",
       "<script type=\"text/javascript\" src=\"https://cdn.pydata.org/bokeh/release/bokeh-0.11.1.min.js\"></script>\n",
       "<script type=\"text/javascript\">\n",
       "    Bokeh.set_log_level(\"info\");\n",
       "</script>\n",
       "    </head>\n",
       "    <body>\n",
       "        \n",
       "        <div class=\"plotdiv\" id=\"42774c30-7f15-4044-b979-0da2c3a7ea85\"></div>\n",
       "        \n",
       "        <script type=\"text/javascript\">\n",
       "            Bokeh.$(function() {\n",
       "            var docs_json = {\"527436ab-76b2-4936-a23b-818902eb2fad\":{\"roots\":{\"references\":[{\"attributes\":{\"fill_alpha\":{\"value\":0.1},\"fill_color\":{\"value\":\"#1f77b4\"},\"line_alpha\":{\"value\":0.1},\"line_color\":{\"value\":\"#1f77b4\"},\"x\":{\"field\":\"x\"},\"y\":{\"field\":\"y\"}},\"id\":\"e050708e-2bff-4fce-a1f9-dc840ac30192\",\"type\":\"Circle\"},{\"attributes\":{\"callback\":null},\"id\":\"03a1c37b-1acd-47d7-bbf1-3a5703f55508\",\"type\":\"DataRange1d\"},{\"attributes\":{\"plot\":{\"id\":\"7c0c78fd-2c17-46c5-bc5a-09fa76c1bb29\",\"subtype\":\"Figure\",\"type\":\"Plot\"}},\"id\":\"a9f16df4-16ca-408d-8d5b-cf9dd5bf4aff\",\"type\":\"ResetTool\"},{\"attributes\":{\"formatter\":{\"id\":\"cf6580b7-072d-4ac3-8ab5-0dc73041f0ac\",\"type\":\"BasicTickFormatter\"},\"plot\":{\"id\":\"9b714429-3700-4b21-9aee-15f7c0ca97e5\",\"subtype\":\"Figure\",\"type\":\"Plot\"},\"ticker\":{\"id\":\"552383e9-0490-4785-8f35-e060ce61a403\",\"type\":\"BasicTicker\"}},\"id\":\"0468cea5-af58-4763-b6b3-2c042cdea0a7\",\"type\":\"LinearAxis\"},{\"attributes\":{\"plot\":{\"id\":\"9b714429-3700-4b21-9aee-15f7c0ca97e5\",\"subtype\":\"Figure\",\"type\":\"Plot\"},\"ticker\":{\"id\":\"8f026af3-e83c-4791-ac1e-c9bee98e9c4e\",\"type\":\"BasicTicker\"}},\"id\":\"fc7be952-e6d2-4802-bcb4-d4108e97f2d6\",\"type\":\"Grid\"},{\"attributes\":{\"data_source\":{\"id\":\"84290008-1ac4-41d1-8dad-188a944188b9\",\"type\":\"ColumnDataSource\"},\"glyph\":{\"id\":\"8f498bdd-9c8e-4652-a237-58dd9b5f3e98\",\"type\":\"Wedge\"},\"hover_glyph\":null,\"nonselection_glyph\":{\"id\":\"225c88ff-9fa2-4908-a358-bf46e6a93cee\",\"type\":\"Wedge\"},\"selection_glyph\":null},\"id\":\"1060d4dd-a937-48eb-aec0-4f77a8593637\",\"type\":\"GlyphRenderer\"},{\"attributes\":{\"callback\":null},\"id\":\"c51defc7-4449-4250-8033-3754a4ec725a\",\"type\":\"DataRange1d\"},{\"attributes\":{\"end_angle\":{\"field\":\"end_angle\",\"units\":\"rad\"},\"fill_alpha\":{\"value\":0.1},\"fill_color\":{\"value\":\"#1f77b4\"},\"line_alpha\":{\"value\":0.1},\"line_color\":{\"value\":\"#1f77b4\"},\"radius\":{\"units\":\"data\",\"value\":1},\"start_angle\":{\"field\":\"start_angle\",\"units\":\"rad\"},\"x\":{\"value\":0},\"y\":{\"value\":0}},\"id\":\"225c88ff-9fa2-4908-a358-bf46e6a93cee\",\"type\":\"Wedge\"},{\"attributes\":{\"line_alpha\":{\"value\":0.1},\"line_color\":{\"value\":\"#1f77b4\"},\"line_width\":{\"value\":3},\"x\":{\"field\":\"x\"},\"y\":{\"field\":\"y\"}},\"id\":\"2d2c2eac-e0c6-4c92-96e2-6cf1b93e404e\",\"type\":\"Line\"},{\"attributes\":{\"fill_color\":{\"value\":\"#1f77b4\"},\"line_color\":{\"value\":\"#1f77b4\"},\"x\":{\"field\":\"x\"},\"y\":{\"field\":\"y\"}},\"id\":\"a769bea4-cc09-44bb-baa3-87895add7ff1\",\"type\":\"Circle\"},{\"attributes\":{\"bottom_units\":\"screen\",\"fill_alpha\":{\"value\":0.5},\"fill_color\":{\"value\":\"lightgrey\"},\"left_units\":\"screen\",\"level\":\"overlay\",\"line_alpha\":{\"value\":1.0},\"line_color\":{\"value\":\"black\"},\"line_dash\":[4,4],\"line_width\":{\"value\":2},\"plot\":null,\"render_mode\":\"css\",\"right_units\":\"screen\",\"top_units\":\"screen\"},\"id\":\"e2caaeab-b50b-406f-a2db-2e322e0b37ed\",\"type\":\"BoxAnnotation\"},{\"attributes\":{\"dimension\":1,\"plot\":{\"id\":\"7c0c78fd-2c17-46c5-bc5a-09fa76c1bb29\",\"subtype\":\"Figure\",\"type\":\"Plot\"},\"ticker\":{\"id\":\"315259c8-aced-48d9-adf3-08c74aa338bd\",\"type\":\"BasicTicker\"}},\"id\":\"b0bd6c33-4aa1-4f5b-bd13-6eb4eb502acb\",\"type\":\"Grid\"},{\"attributes\":{},\"id\":\"552383e9-0490-4785-8f35-e060ce61a403\",\"type\":\"BasicTicker\"},{\"attributes\":{},\"id\":\"8f026af3-e83c-4791-ac1e-c9bee98e9c4e\",\"type\":\"BasicTicker\"},{\"attributes\":{\"data_source\":{\"id\":\"c4433c7e-ff9c-46e7-957c-16cd875a28e7\",\"type\":\"ColumnDataSource\"},\"glyph\":{\"id\":\"2dd6d7f2-f3a8-42b6-b327-0b181d58d699\",\"type\":\"Line\"},\"hover_glyph\":null,\"nonselection_glyph\":{\"id\":\"2d2c2eac-e0c6-4c92-96e2-6cf1b93e404e\",\"type\":\"Line\"},\"selection_glyph\":null},\"id\":\"087c9f2f-1e1f-4e10-91c8-cf5d48b72f29\",\"type\":\"GlyphRenderer\"},{\"attributes\":{\"plot\":{\"id\":\"bed68b3a-7a11-4cb2-ba05-9c8e6068d027\",\"subtype\":\"Figure\",\"type\":\"Plot\"}},\"id\":\"f06a67b1-832f-4290-a6ae-ba82a406f2e3\",\"type\":\"WheelZoomTool\"},{\"attributes\":{\"formatter\":{\"id\":\"538af4bd-1a0f-4e5c-b0b2-ad79a0734929\",\"type\":\"BasicTickFormatter\"},\"plot\":{\"id\":\"bed68b3a-7a11-4cb2-ba05-9c8e6068d027\",\"subtype\":\"Figure\",\"type\":\"Plot\"},\"ticker\":{\"id\":\"9eb44cd5-b5d0-4865-aec5-0d5fa181b966\",\"type\":\"BasicTicker\"}},\"id\":\"844c7d06-d8ae-45c0-8bfa-9a865ef814fc\",\"type\":\"LinearAxis\"},{\"attributes\":{\"callback\":null},\"id\":\"bac05c8f-87e8-4dde-bcfb-801e8cefeecf\",\"type\":\"DataRange1d\"},{\"attributes\":{},\"id\":\"1de07b0d-b3a1-4b47-8d1d-3b6ff011f74c\",\"type\":\"BasicTicker\"},{\"attributes\":{\"formatter\":{\"id\":\"c2771b79-7fbf-4743-87a6-4b8a28568e95\",\"type\":\"BasicTickFormatter\"},\"plot\":{\"id\":\"9b714429-3700-4b21-9aee-15f7c0ca97e5\",\"subtype\":\"Figure\",\"type\":\"Plot\"},\"ticker\":{\"id\":\"8f026af3-e83c-4791-ac1e-c9bee98e9c4e\",\"type\":\"BasicTicker\"}},\"id\":\"aac7d3c1-2748-49e3-942b-664e37f37df2\",\"type\":\"LinearAxis\"},{\"attributes\":{\"plot\":{\"id\":\"7c0c78fd-2c17-46c5-bc5a-09fa76c1bb29\",\"subtype\":\"Figure\",\"type\":\"Plot\"}},\"id\":\"0823386f-1b2a-47ec-b3ea-6eb85cf7c4eb\",\"type\":\"HelpTool\"},{\"attributes\":{\"callback\":null,\"start\":-1},\"id\":\"bbea05b9-786d-423c-baa1-4b3e709119a1\",\"type\":\"Range1d\"},{\"attributes\":{\"bottom_units\":\"screen\",\"fill_alpha\":{\"value\":0.5},\"fill_color\":{\"value\":\"lightgrey\"},\"left_units\":\"screen\",\"level\":\"overlay\",\"line_alpha\":{\"value\":1.0},\"line_color\":{\"value\":\"black\"},\"line_dash\":[4,4],\"line_width\":{\"value\":2},\"plot\":null,\"render_mode\":\"css\",\"right_units\":\"screen\",\"top_units\":\"screen\"},\"id\":\"b5b4f190-33ea-476c-9afd-c9b87df74f81\",\"type\":\"BoxAnnotation\"},{\"attributes\":{},\"id\":\"916234c3-1127-4be1-ac71-59dda8a629ae\",\"type\":\"BasicTicker\"},{\"attributes\":{\"plot\":{\"id\":\"9b714429-3700-4b21-9aee-15f7c0ca97e5\",\"subtype\":\"Figure\",\"type\":\"Plot\"}},\"id\":\"1af55884-357e-4df2-8367-ed9ae9455be1\",\"type\":\"PanTool\"},{\"attributes\":{\"dimension\":1,\"plot\":{\"id\":\"299cc4fc-88e8-49fc-8bdc-ef9cec59ff92\",\"subtype\":\"Figure\",\"type\":\"Plot\"},\"ticker\":{\"id\":\"2068550e-6ed5-429e-bdbe-a8a3b9c06e0a\",\"type\":\"BasicTicker\"}},\"id\":\"adcb8077-d342-4539-ba35-c2d19adc33a2\",\"type\":\"Grid\"},{\"attributes\":{\"data_source\":{\"id\":\"e10304ae-9770-4e8b-8b28-b004455499b3\",\"type\":\"ColumnDataSource\"},\"glyph\":{\"id\":\"5b070184-71c1-48f0-a2ad-6a5dacd331ac\",\"type\":\"Circle\"},\"hover_glyph\":null,\"nonselection_glyph\":{\"id\":\"38837142-01af-43c3-8b39-b549edc266a2\",\"type\":\"Circle\"},\"selection_glyph\":null},\"id\":\"a7e1fd36-dcfc-48e9-a3be-cc3715026793\",\"type\":\"GlyphRenderer\"},{\"attributes\":{\"plot\":{\"id\":\"299cc4fc-88e8-49fc-8bdc-ef9cec59ff92\",\"subtype\":\"Figure\",\"type\":\"Plot\"}},\"id\":\"143f906b-d1d9-46d9-a5ab-f03838a19f5b\",\"type\":\"ResetTool\"},{\"attributes\":{\"overlay\":{\"id\":\"7eb9b728-64c6-40d7-9f58-34f1e65fa6fa\",\"type\":\"BoxAnnotation\"},\"plot\":{\"id\":\"299cc4fc-88e8-49fc-8bdc-ef9cec59ff92\",\"subtype\":\"Figure\",\"type\":\"Plot\"}},\"id\":\"1029d9f9-dbb5-40f3-a2c1-138e38400bcd\",\"type\":\"BoxZoomTool\"},{\"attributes\":{\"bottom_units\":\"screen\",\"fill_alpha\":{\"value\":0.5},\"fill_color\":{\"value\":\"lightgrey\"},\"left_units\":\"screen\",\"level\":\"overlay\",\"line_alpha\":{\"value\":1.0},\"line_color\":{\"value\":\"black\"},\"line_dash\":[4,4],\"line_width\":{\"value\":2},\"plot\":null,\"render_mode\":\"css\",\"right_units\":\"screen\",\"top_units\":\"screen\"},\"id\":\"7eb9b728-64c6-40d7-9f58-34f1e65fa6fa\",\"type\":\"BoxAnnotation\"},{\"attributes\":{},\"id\":\"315259c8-aced-48d9-adf3-08c74aa338bd\",\"type\":\"BasicTicker\"},{\"attributes\":{\"fill_color\":{\"value\":\"#1f77b4\"},\"line_color\":{\"value\":\"#1f77b4\"},\"x\":{\"field\":\"x\"},\"y\":{\"field\":\"y\"}},\"id\":\"5b070184-71c1-48f0-a2ad-6a5dacd331ac\",\"type\":\"Circle\"},{\"attributes\":{},\"id\":\"b50499a8-38b5-44c9-a62f-e09b1e5fec3f\",\"type\":\"BasicTickFormatter\"},{\"attributes\":{\"below\":[{\"id\":\"23afe945-55dd-4356-b032-72244aa53e9a\",\"type\":\"LinearAxis\"}],\"left\":[{\"id\":\"844c7d06-d8ae-45c0-8bfa-9a865ef814fc\",\"type\":\"LinearAxis\"}],\"renderers\":[{\"id\":\"23afe945-55dd-4356-b032-72244aa53e9a\",\"type\":\"LinearAxis\"},{\"id\":\"588b555a-12e8-47ff-8a2f-403503274239\",\"type\":\"Grid\"},{\"id\":\"844c7d06-d8ae-45c0-8bfa-9a865ef814fc\",\"type\":\"LinearAxis\"},{\"id\":\"ee6d0e3f-4e5b-4368-869f-be34c7dfaf36\",\"type\":\"Grid\"},{\"id\":\"b5b4f190-33ea-476c-9afd-c9b87df74f81\",\"type\":\"BoxAnnotation\"},{\"id\":\"a7e1fd36-dcfc-48e9-a3be-cc3715026793\",\"type\":\"GlyphRenderer\"}],\"tool_events\":{\"id\":\"069abbea-a48f-42e7-beab-3c2b7f10b907\",\"type\":\"ToolEvents\"},\"tools\":[{\"id\":\"05b80fe2-0266-4494-9633-385ebb454909\",\"type\":\"PanTool\"},{\"id\":\"f06a67b1-832f-4290-a6ae-ba82a406f2e3\",\"type\":\"WheelZoomTool\"},{\"id\":\"75fca814-5277-4677-9939-0a690fa32fda\",\"type\":\"BoxZoomTool\"},{\"id\":\"9e4b64b2-7fb5-4ad0-a886-c1bc4916df8e\",\"type\":\"PreviewSaveTool\"},{\"id\":\"4c4ab564-4410-479a-a13d-9dee0d14b112\",\"type\":\"ResizeTool\"},{\"id\":\"2fad12f6-d27f-4bc5-8a60-7e77845af77c\",\"type\":\"ResetTool\"},{\"id\":\"8e72db2c-7935-4c1a-b0b5-29c40345f8f2\",\"type\":\"HelpTool\"}],\"x_range\":{\"id\":\"03a1c37b-1acd-47d7-bbf1-3a5703f55508\",\"type\":\"DataRange1d\"},\"y_range\":{\"id\":\"bac05c8f-87e8-4dde-bcfb-801e8cefeecf\",\"type\":\"DataRange1d\"}},\"id\":\"bed68b3a-7a11-4cb2-ba05-9c8e6068d027\",\"subtype\":\"Figure\",\"type\":\"Plot\"},{\"attributes\":{\"plot\":{\"id\":\"bed68b3a-7a11-4cb2-ba05-9c8e6068d027\",\"subtype\":\"Figure\",\"type\":\"Plot\"}},\"id\":\"2fad12f6-d27f-4bc5-8a60-7e77845af77c\",\"type\":\"ResetTool\"},{\"attributes\":{\"formatter\":{\"id\":\"94befa20-e3b3-482c-abe0-52836ee0726d\",\"type\":\"BasicTickFormatter\"},\"plot\":{\"id\":\"bed68b3a-7a11-4cb2-ba05-9c8e6068d027\",\"subtype\":\"Figure\",\"type\":\"Plot\"},\"ticker\":{\"id\":\"916234c3-1127-4be1-ac71-59dda8a629ae\",\"type\":\"BasicTicker\"}},\"id\":\"23afe945-55dd-4356-b032-72244aa53e9a\",\"type\":\"LinearAxis\"},{\"attributes\":{\"plot\":{\"id\":\"7c0c78fd-2c17-46c5-bc5a-09fa76c1bb29\",\"subtype\":\"Figure\",\"type\":\"Plot\"}},\"id\":\"3d865875-ceb6-44ed-ada0-f242fb3accfe\",\"type\":\"PreviewSaveTool\"},{\"attributes\":{\"plot\":{\"id\":\"9b714429-3700-4b21-9aee-15f7c0ca97e5\",\"subtype\":\"Figure\",\"type\":\"Plot\"}},\"id\":\"d1db1d7f-0f83-4df2-8590-521afa47eb1e\",\"type\":\"ResizeTool\"},{\"attributes\":{\"callback\":null,\"end\":5,\"start\":-5},\"id\":\"1359e249-5175-4630-b128-934ff9081eba\",\"type\":\"Range1d\"},{\"attributes\":{},\"id\":\"0af5cb66-3287-4fd3-bdf9-24226dd2e191\",\"type\":\"ToolEvents\"},{\"attributes\":{\"plot\":{\"id\":\"9b714429-3700-4b21-9aee-15f7c0ca97e5\",\"subtype\":\"Figure\",\"type\":\"Plot\"}},\"id\":\"6f048a36-5947-4405-903a-6e741be30a75\",\"type\":\"HelpTool\"},{\"attributes\":{},\"id\":\"94befa20-e3b3-482c-abe0-52836ee0726d\",\"type\":\"BasicTickFormatter\"},{\"attributes\":{},\"id\":\"069abbea-a48f-42e7-beab-3c2b7f10b907\",\"type\":\"ToolEvents\"},{\"attributes\":{\"plot\":{\"id\":\"7c0c78fd-2c17-46c5-bc5a-09fa76c1bb29\",\"subtype\":\"Figure\",\"type\":\"Plot\"}},\"id\":\"a7d1d711-f8f6-4426-a821-5a588ed425a8\",\"type\":\"WheelZoomTool\"},{\"attributes\":{\"below\":[{\"id\":\"aac7d3c1-2748-49e3-942b-664e37f37df2\",\"type\":\"LinearAxis\"}],\"left\":[{\"id\":\"0468cea5-af58-4763-b6b3-2c042cdea0a7\",\"type\":\"LinearAxis\"}],\"renderers\":[{\"id\":\"aac7d3c1-2748-49e3-942b-664e37f37df2\",\"type\":\"LinearAxis\"},{\"id\":\"fc7be952-e6d2-4802-bcb4-d4108e97f2d6\",\"type\":\"Grid\"},{\"id\":\"0468cea5-af58-4763-b6b3-2c042cdea0a7\",\"type\":\"LinearAxis\"},{\"id\":\"6f1984c0-20ab-4e27-b2e2-5c80749add84\",\"type\":\"Grid\"},{\"id\":\"e2caaeab-b50b-406f-a2db-2e322e0b37ed\",\"type\":\"BoxAnnotation\"},{\"id\":\"1060d4dd-a937-48eb-aec0-4f77a8593637\",\"type\":\"GlyphRenderer\"}],\"tool_events\":{\"id\":\"c61f722e-ebd6-494b-94f7-659db38d60f5\",\"type\":\"ToolEvents\"},\"tools\":[{\"id\":\"1af55884-357e-4df2-8367-ed9ae9455be1\",\"type\":\"PanTool\"},{\"id\":\"c2cd1b3d-8c40-41f6-b210-e8c54718cad1\",\"type\":\"WheelZoomTool\"},{\"id\":\"a5510243-584f-4e8d-9077-4888ce2e8d0c\",\"type\":\"BoxZoomTool\"},{\"id\":\"6a58e667-b40c-4635-94b9-7bedfaa27e4c\",\"type\":\"PreviewSaveTool\"},{\"id\":\"d1db1d7f-0f83-4df2-8590-521afa47eb1e\",\"type\":\"ResizeTool\"},{\"id\":\"c8278bc7-8242-44d3-9e62-6b6391274b65\",\"type\":\"ResetTool\"},{\"id\":\"6f048a36-5947-4405-903a-6e741be30a75\",\"type\":\"HelpTool\"}],\"x_range\":{\"id\":\"bbea05b9-786d-423c-baa1-4b3e709119a1\",\"type\":\"Range1d\"},\"y_range\":{\"id\":\"d76ff21a-e389-4c8a-b3c6-14deb3b0f51b\",\"type\":\"Range1d\"}},\"id\":\"9b714429-3700-4b21-9aee-15f7c0ca97e5\",\"subtype\":\"Figure\",\"type\":\"Plot\"},{\"attributes\":{\"data_source\":{\"id\":\"e0960db2-3e98-4e5b-bef2-735c18822df4\",\"type\":\"ColumnDataSource\"},\"glyph\":{\"id\":\"a769bea4-cc09-44bb-baa3-87895add7ff1\",\"type\":\"Circle\"},\"hover_glyph\":null,\"nonselection_glyph\":{\"id\":\"e050708e-2bff-4fce-a1f9-dc840ac30192\",\"type\":\"Circle\"},\"selection_glyph\":null},\"id\":\"53fbdd9c-f029-4a0f-b662-1587f4525db4\",\"type\":\"GlyphRenderer\"},{\"attributes\":{\"below\":[{\"id\":\"e368015e-2f5e-4a1e-bb64-1055e88d79c2\",\"type\":\"LinearAxis\"}],\"left\":[{\"id\":\"660b1c03-3d39-45be-9229-7d001f3398ad\",\"type\":\"LinearAxis\"}],\"plot_height\":300,\"renderers\":[{\"id\":\"e368015e-2f5e-4a1e-bb64-1055e88d79c2\",\"type\":\"LinearAxis\"},{\"id\":\"dc204248-ba5d-4b18-b032-ce4e4af8d5c8\",\"type\":\"Grid\"},{\"id\":\"660b1c03-3d39-45be-9229-7d001f3398ad\",\"type\":\"LinearAxis\"},{\"id\":\"b0bd6c33-4aa1-4f5b-bd13-6eb4eb502acb\",\"type\":\"Grid\"},{\"id\":\"bb8b700c-4847-433e-bc4d-58edac84c14f\",\"type\":\"BoxAnnotation\"},{\"id\":\"087c9f2f-1e1f-4e10-91c8-cf5d48b72f29\",\"type\":\"GlyphRenderer\"}],\"title\":\"simple line example\",\"tool_events\":{\"id\":\"0af5cb66-3287-4fd3-bdf9-24226dd2e191\",\"type\":\"ToolEvents\"},\"tools\":[{\"id\":\"31172b3d-411a-4e92-a843-262937fb8836\",\"type\":\"PanTool\"},{\"id\":\"a7d1d711-f8f6-4426-a821-5a588ed425a8\",\"type\":\"WheelZoomTool\"},{\"id\":\"175c77c5-3970-446f-a293-711981c055c1\",\"type\":\"BoxZoomTool\"},{\"id\":\"3d865875-ceb6-44ed-ada0-f242fb3accfe\",\"type\":\"PreviewSaveTool\"},{\"id\":\"b686b303-126e-47f5-a9bd-1891968b5f8b\",\"type\":\"ResizeTool\"},{\"id\":\"a9f16df4-16ca-408d-8d5b-cf9dd5bf4aff\",\"type\":\"ResetTool\"},{\"id\":\"0823386f-1b2a-47ec-b3ea-6eb85cf7c4eb\",\"type\":\"HelpTool\"}],\"x_range\":{\"id\":\"c51defc7-4449-4250-8033-3754a4ec725a\",\"type\":\"DataRange1d\"},\"y_range\":{\"id\":\"1359e249-5175-4630-b128-934ff9081eba\",\"type\":\"Range1d\"}},\"id\":\"7c0c78fd-2c17-46c5-bc5a-09fa76c1bb29\",\"subtype\":\"Figure\",\"type\":\"Plot\"},{\"attributes\":{\"plot\":{\"id\":\"bed68b3a-7a11-4cb2-ba05-9c8e6068d027\",\"subtype\":\"Figure\",\"type\":\"Plot\"}},\"id\":\"9e4b64b2-7fb5-4ad0-a886-c1bc4916df8e\",\"type\":\"PreviewSaveTool\"},{\"attributes\":{\"end_angle\":{\"field\":\"end_angle\",\"units\":\"rad\"},\"fill_color\":{\"field\":\"fill_color\"},\"line_color\":{\"field\":\"line_color\"},\"radius\":{\"units\":\"data\",\"value\":1},\"start_angle\":{\"field\":\"start_angle\",\"units\":\"rad\"},\"x\":{\"value\":0},\"y\":{\"value\":0}},\"id\":\"8f498bdd-9c8e-4652-a237-58dd9b5f3e98\",\"type\":\"Wedge\"},{\"attributes\":{\"plot\":{\"id\":\"7c0c78fd-2c17-46c5-bc5a-09fa76c1bb29\",\"subtype\":\"Figure\",\"type\":\"Plot\"}},\"id\":\"b686b303-126e-47f5-a9bd-1891968b5f8b\",\"type\":\"ResizeTool\"},{\"attributes\":{\"line_color\":{\"value\":\"#2222aa\"},\"line_width\":{\"value\":3},\"x\":{\"field\":\"x\"},\"y\":{\"field\":\"y\"}},\"id\":\"2dd6d7f2-f3a8-42b6-b327-0b181d58d699\",\"type\":\"Line\"},{\"attributes\":{\"plot\":{\"id\":\"7c0c78fd-2c17-46c5-bc5a-09fa76c1bb29\",\"subtype\":\"Figure\",\"type\":\"Plot\"},\"ticker\":{\"id\":\"1de07b0d-b3a1-4b47-8d1d-3b6ff011f74c\",\"type\":\"BasicTicker\"}},\"id\":\"dc204248-ba5d-4b18-b032-ce4e4af8d5c8\",\"type\":\"Grid\"},{\"attributes\":{\"plot\":{\"id\":\"bed68b3a-7a11-4cb2-ba05-9c8e6068d027\",\"subtype\":\"Figure\",\"type\":\"Plot\"}},\"id\":\"05b80fe2-0266-4494-9633-385ebb454909\",\"type\":\"PanTool\"},{\"attributes\":{\"plot\":{\"id\":\"299cc4fc-88e8-49fc-8bdc-ef9cec59ff92\",\"subtype\":\"Figure\",\"type\":\"Plot\"}},\"id\":\"9791e1c5-e52d-4e46-ba95-0ba84a8393ea\",\"type\":\"HelpTool\"},{\"attributes\":{\"overlay\":{\"id\":\"b5b4f190-33ea-476c-9afd-c9b87df74f81\",\"type\":\"BoxAnnotation\"},\"plot\":{\"id\":\"bed68b3a-7a11-4cb2-ba05-9c8e6068d027\",\"subtype\":\"Figure\",\"type\":\"Plot\"}},\"id\":\"75fca814-5277-4677-9939-0a690fa32fda\",\"type\":\"BoxZoomTool\"},{\"attributes\":{\"plot\":{\"id\":\"9b714429-3700-4b21-9aee-15f7c0ca97e5\",\"subtype\":\"Figure\",\"type\":\"Plot\"}},\"id\":\"6a58e667-b40c-4635-94b9-7bedfaa27e4c\",\"type\":\"PreviewSaveTool\"},{\"attributes\":{\"plot\":{\"id\":\"bed68b3a-7a11-4cb2-ba05-9c8e6068d027\",\"subtype\":\"Figure\",\"type\":\"Plot\"}},\"id\":\"8e72db2c-7935-4c1a-b0b5-29c40345f8f2\",\"type\":\"HelpTool\"},{\"attributes\":{\"callback\":null,\"column_names\":[\"x\",\"y\"],\"data\":{\"x\":[0.0,0.003143164235707647,0.006286328471415294,0.009429492707122941,0.012572656942830588,0.015715821178538234,0.018858985414245882,0.022002149649953527,0.025145313885661175,0.028288478121368824,0.03143164235707647,0.03457480659278411,0.037717970828491765,0.04086113506419941,0.044004299299907054,0.047147463535614706,0.05029062777132235,0.053433792007029995,0.05657695624273765,0.05972012047844529,0.06286328471415294,0.06600644894986059,0.06914961318556823,0.07229277742127588,0.07543594165698353,0.07857910589269117,0.08172227012839882,0.08486543436410647,0.08800859859981411,0.09115176283552176,0.09429492707122941,0.09743809130693705,0.1005812555426447,0.10372441977835235,0.10686758401405999,0.11001074824976764,0.1131539124854753,0.11629707672118293,0.11944024095689058,0.12258340519259824,0.12572656942830587,0.12886973366401352,0.13201289789972118,0.13515606213542883,0.13829922637113645,0.1414423906068441,0.14458555484255176,0.1477287190782594,0.15087188331396706,0.1540150475496747,0.15715821178538233,0.16030137602109,0.16344454025679764,0.1665877044925053,0.16973086872821294,0.1728740329639206,0.17601719719962822,0.17916036143533587,0.18230352567104352,0.18544668990675117,0.18858985414245882,0.19173301837816648,0.1948761826138741,0.19801934684958175,0.2011625110852894,0.20430567532099705,0.2074488395567047,0.21059200379241233,0.21373516802811998,0.21687833226382763,0.22002149649953529,0.22316466073524294,0.2263078249709506,0.2294509892066582,0.23259415344236586,0.23573731767807352,0.23888048191378117,0.24202364614948882,0.24516681038519647,0.2483099746209041,0.25145313885661175,0.2545963030923194,0.25773946732802705,0.2608826315637347,0.26402579579944235,0.26716896003515,0.27031212427085766,0.2734552885065653,0.2765984527422729,0.27974161697798056,0.2828847812136882,0.28602794544939586,0.2891711096851035,0.29231427392081116,0.2954574381565188,0.29860060239222647,0.3017437666279341,0.30488693086364177,0.3080300950993494,0.311173259335057,0.31431642357076467,0.3174595878064723,0.32060275204218,0.3237459162778876,0.3268890805135953,0.3300322447493029,0.3331754089850106,0.33631857322071823,0.3394617374564259,0.34260490169213353,0.3457480659278412,0.3488912301635488,0.35203439439925643,0.3551775586349641,0.35832072287067174,0.3614638871063794,0.36460705134208704,0.3677502155777947,0.37089337981350234,0.37403654404921,0.37717970828491765,0.3803228725206253,0.38346603675633295,0.38660920099204055,0.3897523652277482,0.39289552946345585,0.3960386936991635,0.39918185793487115,0.4023250221705788,0.40546818640628646,0.4086113506419941,0.41175451487770176,0.4148976791134094,0.41804084334911706,0.42118400758482466,0.4243271718205323,0.42747033605623996,0.4306135002919476,0.43375666452765527,0.4368998287633629,0.44004299299907057,0.4431861572347782,0.4463293214704859,0.4494724857061935,0.4526156499419012,0.45575881417760883,0.4589019784133164,0.4620451426490241,0.46518830688473173,0.4683314711204394,0.47147463535614703,0.4746177995918547,0.47776096382756233,0.48090412806327,0.48404729229897764,0.4871904565346853,0.49033362077039294,0.4934767850061006,0.4966199492418082,0.49976311347751584,0.5029062777132235,0.5060494419489312,0.5091926061846388,0.5123357704203464,0.5154789346560541,0.5186220988917617,0.5217652631274694,0.524908427363177,0.5280515915988847,0.5311947558345923,0.5343379200703,0.5374810843060076,0.5406242485417153,0.5437674127774229,0.5469105770131306,0.5500537412488382,0.5531969054845458,0.5563400697202535,0.5594832339559611,0.5626263981916688,0.5657695624273764,0.5689127266630841,0.5720558908987917,0.5751990551344994,0.578342219370207,0.5814853836059147,0.5846285478416223,0.5877717120773299,0.5909148763130376,0.5940580405487452,0.5972012047844529,0.6003443690201605,0.6034875332558682,0.6066306974915758,0.6097738617272835,0.6129170259629911,0.6160601901986988,0.6192033544344064,0.622346518670114,0.6254896829058217,0.6286328471415293,0.631776011377237,0.6349191756129446,0.6380623398486523,0.64120550408436,0.6443486683200677,0.6474918325557752,0.650634996791483,0.6537781610271906,0.6569213252628983,0.6600644894986059,0.6632076537343135,0.6663508179700212,0.6694939822057288,0.6726371464414365,0.6757803106771441,0.6789234749128518,0.6820666391485594,0.6852098033842671,0.6883529676199747,0.6914961318556824,0.69463929609139,0.6977824603270976,0.7009256245628053,0.7040687887985129,0.7072119530342206,0.7103551172699282,0.7134982815056359,0.7166414457413435,0.7197846099770512,0.7229277742127588,0.7260709384484665,0.7292141026841741,0.7323572669198817,0.7355004311555894,0.738643595391297,0.7417867596270047,0.7449299238627123,0.74807308809842,0.7512162523341276,0.7543594165698353,0.7575025808055429,0.7606457450412506,0.7637889092769582,0.7669320735126659,0.7700752377483735,0.7732184019840811,0.7763615662197888,0.7795047304554964,0.7826478946912041,0.7857910589269117,0.7889342231626194,0.792077387398327,0.7952205516340347,0.7983637158697423,0.80150688010545,0.8046500443411576,0.8077932085768652,0.8109363728125729,0.8140795370482805,0.8172227012839882,0.8203658655196958,0.8235090297554035,0.8266521939911111,0.8297953582268188,0.8329385224625264,0.8360816866982341,0.8392248509339417,0.8423680151696493,0.845511179405357,0.8486543436410646,0.8517975078767723,0.8549406721124799,0.8580838363481876,0.8612270005838952,0.8643701648196029,0.8675133290553105,0.8706564932910182,0.8737996575267258,0.8769428217624335,0.8800859859981411,0.8832291502338487,0.8863723144695564,0.889515478705264,0.8926586429409717,0.8958018071766793,0.898944971412387,0.9020881356480946,0.9052312998838024,0.90837446411951,0.9115176283552177,0.9146607925909253,0.9178039568266328,0.9209471210623406,0.9240902852980482,0.9272334495337559,0.9303766137694635,0.9335197780051712,0.9366629422408788,0.9398061064765865,0.9429492707122941,0.9460924349480018,0.9492355991837094,0.952378763419417,0.9555219276551247,0.9586650918908323,0.96180825612654,0.9649514203622476,0.9680945845979553,0.9712377488336629,0.9743809130693706,0.9775240773050782,0.9806672415407859,0.9838104057764935,0.9869535700122012,0.9900967342479088,0.9932398984836164,0.9963830627193241,0.9995262269550317,1.0026693911907394,1.005812555426447,1.0089557196621546,1.0120988838978624,1.01524204813357,1.0183852123692776,1.0215283766049852,1.0246715408406928,1.0278147050764006,1.0309578693121082,1.0341010335478158,1.0372441977835234,1.0403873620192312,1.0435305262549388,1.0466736904906464,1.049816854726354,1.0529600189620618,1.0561031831977694,1.059246347433477,1.0623895116691846,1.0655326759048922,1.0686758401406,1.0718190043763076,1.0749621686120152,1.0781053328477228,1.0812484970834306,1.0843916613191382,1.0875348255548458,1.0906779897905534,1.0938211540262612,1.0969643182619688,1.1001074824976764,1.103250646733384,1.1063938109690916,1.1095369752047994,1.112680139440507,1.1158233036762146,1.1189664679119222,1.12210963214763,1.1252527963833376,1.1283959606190452,1.1315391248547528,1.1346822890904604,1.1378254533261682,1.1409686175618758,1.1441117817975834,1.147254946033291,1.1503981102689989,1.1535412745047064,1.156684438740414,1.1598276029761216,1.1629707672118295,1.166113931447537,1.1692570956832447,1.1724002599189522,1.1755434241546598,1.1786865883903677,1.1818297526260753,1.1849729168617829,1.1881160810974905,1.1912592453331983,1.1944024095689059,1.1975455738046135,1.200688738040321,1.2038319022760289,1.2069750665117365,1.210118230747444,1.2132613949831517,1.2164045592188593,1.219547723454567,1.2226908876902747,1.2258340519259823,1.2289772161616899,1.2321203803973977,1.2352635446331053,1.2384067088688129,1.2415498731045205,1.244693037340228,1.2478362015759359,1.2509793658116435,1.254122530047351,1.2572656942830587,1.2604088585187665,1.263552022754474,1.2666951869901817,1.2698383512258893,1.272981515461597,1.2761246796973047,1.2792678439330123,1.28241100816872,1.2855541724044275,1.2886973366401353,1.291840500875843,1.2949836651115505,1.298126829347258,1.301269993582966,1.3044131578186735,1.307556322054381,1.3106994862900887,1.3138426505257965,1.3169858147615041,1.3201289789972117,1.3232721432329193,1.326415307468627,1.3295584717043347,1.3327016359400423,1.33584480017575,1.3389879644114575,1.3421311286471653,1.345274292882873,1.3484174571185805,1.3515606213542881,1.3547037855899957,1.3578469498257035,1.3609901140614111,1.3641332782971187,1.3672764425328263,1.3704196067685341,1.3735627710042417,1.3767059352399493,1.379849099475657,1.3829922637113647,1.3861354279470723,1.38927859218278,1.3924217564184875,1.3955649206541951,1.398708084889903,1.4018512491256105,1.4049944133613181,1.4081375775970257,1.4112807418327336,1.4144239060684412,1.4175670703041487,1.4207102345398563,1.4238533987755642,1.4269965630112718,1.4301397272469794,1.433282891482687,1.4364260557183945,1.4395692199541024,1.44271238418981,1.4458555484255176,1.4489987126612252,1.452141876896933,1.4552850411326406,1.4584282053683482,1.4615713696040558,1.4647145338397634,1.4678576980754712,1.4710008623111788,1.4741440265468864,1.477287190782594,1.4804303550183018,1.4835735192540094,1.486716683489717,1.4898598477254246,1.4930030119611324,1.49614617619684,1.4992893404325476,1.5024325046682552,1.5055756689039628,1.5087188331396706,1.5118619973753782,1.5150051616110858,1.5181483258467934,1.5212914900825012,1.5244346543182088,1.5275778185539164,1.530720982789624,1.5338641470253318,1.5370073112610394,1.540150475496747,1.5432936397324546,1.5464368039681622,1.54957996820387,1.5527231324395776,1.5558662966752852,1.5590094609109928,1.5621526251467006,1.5652957893824082,1.5684389536181158,1.5715821178538234,1.574725282089531,1.5778684463252388,1.5810116105609464,1.584154774796654,1.5872979390323616,1.5904411032680694,1.593584267503777,1.5967274317394846,1.5998705959751922,1.6030137602109,1.6061569244466076,1.6093000886823152,1.6124432529180228,1.6155864171537304,1.6187295813894382,1.6218727456251458,1.6250159098608534,1.628159074096561,1.6313022383322688,1.6344454025679764,1.637588566803684,1.6407317310393916,1.6438748952750994,1.647018059510807,1.6501612237465146,1.6533043879822222,1.6564475522179298,1.6595907164536376,1.6627338806893452,1.6658770449250528,1.6690202091607604,1.6721633733964683,1.6753065376321759,1.6784497018678834,1.681592866103591,1.6847360303392986,1.6878791945750065,1.691022358810714,1.6941655230464217,1.6973086872821292,1.700451851517837,1.7035950157535447,1.7067381799892523,1.7098813442249599,1.7130245084606677,1.7161676726963753,1.7193108369320829,1.7224540011677905,1.725597165403498,1.7287403296392059,1.7318834938749135,1.735026658110621,1.7381698223463287,1.7413129865820365,1.744456150817744,1.7475993150534517,1.7507424792891593,1.753885643524867,1.7570288077605747,1.7601719719962823,1.7633151362319899,1.7664583004676975,1.7696014647034053,1.7727446289391129,1.7758877931748205,1.779030957410528,1.782174121646236,1.7853172858819435,1.788460450117651,1.7916036143533587,1.7947467785890663,1.797889942824774,1.8010331070604817,1.8041762712961893,1.807319435531897,1.8104625997676047,1.8136057640033123,1.81674892823902,1.8198920924747275,1.8230352567104353,1.826178420946143,1.8293215851818505,1.832464749417558,1.8356079136532657,1.8387510778889735,1.8418942421246811,1.8450374063603887,1.8481805705960963,1.8513237348318041,1.8544668990675117,1.8576100633032193,1.860753227538927,1.8638963917746347,1.8670395560103423,1.87018272024605,1.8733258844817575,1.8764690487174651,1.879612212953173,1.8827553771888805,1.8858985414245881,1.8890417056602957,1.8921848698960035,1.8953280341317111,1.8984711983674187,1.9016143626031263,1.904757526838834,1.9079006910745417,1.9110438553102493,1.914187019545957,1.9173301837816645,1.9204733480173724,1.92361651225308,1.9267596764887875,1.9299028407244951,1.933046004960203,1.9361891691959106,1.9393323334316181,1.9424754976673257,1.9456186619030333,1.9487618261387412,1.9519049903744488,1.9550481546101564,1.958191318845864,1.9613344830815718,1.9644776473172794,1.967620811552987,1.9707639757886946,1.9739071400244024,1.97705030426011,1.9801934684958176,1.9833366327315252,1.9864797969672328,1.9896229612029406,1.9927661254386482,1.9959092896743558,1.9990524539100634,2.002195618145771,2.005338782381479,2.0084819466171866,2.011625110852894,2.014768275088602,2.017911439324309,2.021054603560017,2.024197767795725,2.027340932031432,2.03048409626714,2.0336272605028474,2.036770424738555,2.039913588974263,2.0430567532099704,2.046199917445678,2.0493430816813856,2.0524862459170934,2.055629410152801,2.0587725743885086,2.0619157386242164,2.065058902859924,2.0682020670956316,2.0713452313313394,2.074488395567047,2.0776315598027546,2.0807747240384624,2.08391788827417,2.0870610525098776,2.090204216745585,2.093347380981293,2.0964905452170006,2.099633709452708,2.102776873688416,2.1059200379241236,2.109063202159831,2.112206366395539,2.115349530631246,2.118492694866954,2.121635859102662,2.124779023338369,2.127922187574077,2.1310653518097844,2.134208516045492,2.1373516802812,2.1404948445169074,2.1436380087526152,2.146781172988323,2.1499243372240304,2.1530675014597382,2.1562106656954456,2.1593538299311534,2.1624969941668613,2.1656401584025686,2.1687833226382764,2.171926486873984,2.1750696511096916,2.1782128153453995,2.181355979581107,2.1844991438168146,2.1876423080525225,2.19078547228823,2.1939286365239377,2.197071800759645,2.200214964995353,2.2033581292310607,2.206501293466768,2.209644457702476,2.2127876219381832,2.215930786173891,2.219073950409599,2.2222171146453062,2.225360278881014,2.228503443116722,2.2316466073524293,2.234789771588137,2.2379329358238444,2.2410761000595523,2.24421926429526,2.2473624285309675,2.2505055927666753,2.2536487570023827,2.2567919212380905,2.2599350854737983,2.2630782497095057,2.2662214139452135,2.269364578180921,2.2725077424166287,2.2756509066523365,2.278794070888044,2.2819372351237517,2.2850803993594595,2.288223563595167,2.2913667278308747,2.294509892066582,2.29765305630229,2.3007962205379977,2.303939384773705,2.307082549009413,2.3102257132451203,2.313368877480828,2.316512041716536,2.3196552059522433,2.322798370187951,2.325941534423659,2.3290846986593663,2.332227862895074,2.3353710271307815,2.3385141913664893,2.341657355602197,2.3448005198379045,2.3479436840736123,2.3510868483093197,2.3542300125450275,2.3573731767807353,2.3605163410164427,2.3636595052521505,2.3668026694878583,2.3699458337235657,2.3730889979592735,2.376232162194981,2.3793753264306887,2.3825184906663965,2.385661654902104,2.3888048191378117,2.391947983373519,2.395091147609227,2.3982343118449347,2.401377476080642,2.40452064031635,2.4076638045520578,2.410806968787765,2.413950133023473,2.4170932972591803,2.420236461494888,2.423379625730596,2.4265227899663033,2.429665954202011,2.4328091184377185,2.4359522826734263,2.439095446909134,2.4422386111448415,2.4453817753805493,2.448524939616257,2.4516681038519645,2.4548112680876724,2.4579544323233797,2.4610975965590876,2.4642407607947954,2.4673839250305027,2.4705270892662106,2.473670253501918,2.4768134177376258,2.4799565819733336,2.483099746209041,2.4862429104447488,2.489386074680456,2.492529238916164,2.4956724031518718,2.498815567387579,2.501958731623287,2.505101895858995,2.508245060094702,2.51138822433041,2.5145313885661174,2.517674552801825,2.520817717037533,2.5239608812732404,2.527104045508948,2.5302472097446556,2.5333903739803634,2.536533538216071,2.5396767024517786,2.5428198666874864,2.545963030923194,2.5491061951589016,2.5522493593946094,2.5553925236303168,2.5585356878660246,2.5616788521017324,2.56482201633744,2.5679651805731476,2.571108344808855,2.574251509044563,2.5773946732802706,2.580537837515978,2.583681001751686,2.5868241659873936,2.589967330223101,2.593110494458809,2.596253658694516,2.599396822930224,2.602539987165932,2.605683151401639,2.608826315637347,2.6119694798730544,2.615112644108762,2.61825580834447,2.6213989725801774,2.624542136815885,2.627685301051593,2.6308284652873004,2.6339716295230082,2.6371147937587156,2.6402579579944234,2.6434011222301312,2.6465442864658386,2.6496874507015464,2.652830614937254,2.6559737791729616,2.6591169434086694,2.662260107644377,2.6654032718800846,2.6685464361157925,2.6716896003515,2.6748327645872076,2.677975928822915,2.681119093058623,2.6842622572943307,2.687405421530038,2.690548585765746,2.6936917500014532,2.696834914237161,2.699978078472869,2.7031212427085762,2.706264406944284,2.7094075711799914,2.7125507354156992,2.715693899651407,2.7188370638871144,2.7219802281228223,2.72512339235853,2.7282665565942374,2.7314097208299453,2.7345528850656526,2.7376960493013605,2.7408392135370683,2.7439823777727756,2.7471255420084835,2.750268706244191,2.7534118704798987,2.7565550347156065,2.759698198951314,2.7628413631870217,2.7659845274227295,2.769127691658437,2.7722708558941447,2.775414020129852,2.77855718436556,2.7817003486012677,2.784843512836975,2.787986677072683,2.7911298413083903,2.794273005544098,2.797416169779806,2.8005593340155133,2.803702498251221,2.806845662486929,2.8099888267226363,2.813131990958344,2.8162751551940515,2.8194183194297593,2.822561483665467,2.8257046479011745,2.8288478121368823,2.8319909763725897,2.8351341406082975,2.8382773048440053,2.8414204690797127,2.8445636333154205,2.8477067975511283,2.8508499617868357,2.8539931260225435,2.857136290258251,2.8602794544939587,2.8634226187296665,2.866565782965374,2.8697089472010817,2.872852111436789,2.875995275672497,2.8791384399082047,2.882281604143912,2.88542476837962,2.8885679326153277,2.891711096851035,2.894854261086743,2.8979974253224503,2.901140589558158,2.904283753793866,2.9074269180295733,2.910570082265281,2.9137132465009885,2.9168564107366963,2.919999574972404,2.9231427392081115,2.9262859034438193,2.9294290676795267,2.9325722319152345,2.9357153961509423,2.9388585603866497,2.9420017246223575,2.9451448888580654,2.9482880530937727,2.9514312173294805,2.954574381565188,2.9577175458008957,2.9608607100366036,2.964003874272311,2.9671470385080188,2.970290202743726,2.973433366979434,2.9765765312151418,2.979719695450849,2.982862859686557,2.9860060239222648,2.989149188157972,2.99229235239368,2.9954355166293873,2.998578680865095,3.001721845100803,3.0048650093365104,3.008008173572218,3.0111513378079255,3.0142945020436334,3.017437666279341,3.0205808305150486,3.0237239947507564,3.026867158986464,3.0300103232221716,3.0331534874578794,3.0362966516935868,3.0394398159292946,3.0425829801650024,3.0457261444007098,3.0488693086364176,3.052012472872125,3.0551556371078328,3.0582988013435406,3.061441965579248,3.064585129814956,3.0677282940506636,3.070871458286371,3.074014622522079,3.077157786757786,3.080300950993494,3.083444115229202,3.086587279464909,3.089730443700617,3.0928736079363244,3.096016772172032,3.09915993640774,3.1023031006434474,3.105446264879155,3.108589429114863,3.1117325933505704,3.114875757586278,3.1180189218219856,3.1211620860576934,3.1243052502934012,3.1274484145291086,3.1305915787648164,3.133734743000524,3.1368779072362316,3.1400210714719394,3.143164235707647,3.1463073999433546,3.149450564179062,3.15259372841477,3.1557368926504776,3.158880056886185,3.162023221121893,3.1651663853576006,3.168309549593308,3.171452713829016,3.174595878064723,3.177739042300431,3.180882206536139,3.184025370771846,3.187168535007554,3.1903116992432614,3.1934548634789692,3.196598027714677,3.1997411919503844,3.2028843561860922,3.2060275204218,3.2091706846575074,3.2123138488932153,3.2154570131289226,3.2186001773646304,3.2217433416003383,3.2248865058360456,3.2280296700717535,3.231172834307461,3.2343159985431686,3.2374591627788765,3.240602327014584,3.2437454912502917,3.2468886554859995,3.250031819721707,3.2531749839574147,3.256318148193122,3.25946131242883,3.2626044766645377,3.265747640900245,3.268890805135953,3.2720339693716602,3.275177133607368,3.278320297843076,3.2814634620787833,3.284606626314491,3.287749790550199,3.2908929547859063,3.294036119021614,3.2971792832573215,3.3003224474930293,3.303465611728737,3.3066087759644445,3.3097519402001523,3.3128951044358597,3.3160382686715675,3.3191814329072753,3.3223245971429827,3.3254677613786905,3.328610925614398,3.3317540898501057,3.3348972540858135,3.338040418321521,3.3411835825572287,3.3443267467929365,3.347469911028644,3.3506130752643517,3.353756239500059,3.356899403735767,3.3600425679714747,3.363185732207182,3.36632889644289,3.3694720606785973,3.372615224914305,3.375758389150013,3.3789015533857203,3.382044717621428,3.385187881857136,3.3883310460928433,3.391474210328551,3.3946173745642585,3.3977605387999663,3.400903703035674,3.4040468672713815,3.4071900315070893,3.4103331957427967,3.4134763599785045,3.4166195242142123,3.4197626884499197,3.4229058526856275,3.4260490169213353,3.4291921811570427,3.4323353453927505,3.435478509628458,3.4386216738641657,3.4417648380998735,3.444908002335581,3.4480511665712887,3.451194330806996,3.454337495042704,3.4574806592784117,3.460623823514119,3.463766987749827,3.4669101519855348,3.470053316221242,3.47319648045695,3.4763396446926573,3.479482808928365,3.482625973164073,3.4857691373997803,3.488912301635488,3.4920554658711955,3.4951986301069033,3.498341794342611,3.5014849585783185,3.5046281228140264,3.507771287049734,3.5109144512854416,3.5140576155211494,3.5172007797568567,3.5203439439925646,3.5234871082282724,3.5266302724639798,3.5297734366996876,3.532916600935395,3.5360597651711028,3.5392029294068106,3.542346093642518,3.5454892578782258,3.548632422113933,3.551775586349641,3.554918750585349,3.558061914821056,3.561205079056764,3.564348243292472,3.567491407528179,3.570634571763887,3.5737777359995944,3.576920900235302,3.58006406447101,3.5832072287067174,3.586350392942425,3.5894935571781326,3.5926367214138404,3.595779885649548,3.5989230498852556,3.6020662141209634,3.605209378356671,3.6083525425923786,3.6114957068280864,3.614638871063794,3.6177820352995016,3.6209251995352094,3.624068363770917,3.6272115280066246,3.630354692242332,3.63349785647804,3.6366410207137476,3.639784184949455,3.642927349185163,3.6460705134208706,3.649213677656578,3.652356841892286,3.655500006127993,3.658643170363701,3.661786334599409,3.664929498835116,3.668072663070824,3.6712158273065314,3.674358991542239,3.677502155777947,3.6806453200136544,3.6837884842493622,3.68693164848507,3.6900748127207774,3.6932179769564852,3.6963611411921926,3.6995043054279004,3.7026474696636082,3.7057906338993156,3.7089337981350234,3.712076962370731,3.7152201266064386,3.7183632908421465,3.721506455077854,3.7246496193135616,3.7277927835492695,3.730935947784977,3.7340791120206847,3.737222276256392,3.7403654404921,3.7435086047278077,3.746651768963515,3.749794933199223,3.7529380974349302,3.756081261670638,3.759224425906346,3.7623675901420532,3.765510754377761,3.7686539186134684,3.7717970828491763,3.774940247084884,3.7780834113205914,3.7812265755562993,3.784369739792007,3.7875129040277145,3.7906560682634223,3.7937992324991296,3.7969423967348375,3.8000855609705453,3.8032287252062527,3.8063718894419605,3.809515053677668,3.8126582179133757,3.8158013821490835,3.818944546384791,3.8220877106204987,3.8252308748562065,3.828374039091914,3.8315172033276217,3.834660367563329,3.837803531799037,3.8409466960347447,3.844089860270452,3.84723302450616,3.8503761887418673,3.853519352977575,3.856662517213283,3.8598056814489903,3.862948845684698,3.866092009920406,3.8692351741561133,3.872378338391821,3.8755215026275285,3.8786646668632363,3.881807831098944,3.8849509953346515,3.8880941595703593,3.8912373238060667,3.8943804880417745,3.8975236522774823,3.9006668165131897,3.9038099807488975,3.9069531449846053,3.9100963092203127,3.9132394734560205,3.916382637691728,3.9195258019274357,3.9226689661631435,3.925812130398851,3.9289552946345587,3.932098458870266,3.935241623105974,3.9383847873416817,3.941527951577389,3.944671115813097,3.9478142800488047,3.950957444284512,3.95410060852022,3.9572437727559273,3.960386936991635,3.963530101227343,3.9666732654630503,3.969816429698758,3.9729595939344655,3.9761027581701733,3.979245922405881,3.9823890866415885,3.9855322508772963,3.9886754151130037,3.9918185793487115,3.9949617435844194,3.9981049078201267,4.0012480720558345,4.004391236291542,4.00753440052725,4.010677564762958,4.013820728998665,4.016963893234373,4.020107057470081,4.023250221705788,4.026393385941495,4.029536550177204,4.032679714412911,4.035822878648618,4.038966042884327,4.042109207120034,4.045252371355741,4.04839553559145,4.051538699827157,4.054681864062864,4.057825028298573,4.06096819253428,4.064111356769987,4.067254521005695,4.070397685241403,4.07354084947711,4.076684013712818,4.079827177948526,4.082970342184233,4.086113506419941,4.089256670655649,4.092399834891356,4.095542999127064,4.098686163362771,4.101829327598479,4.104972491834187,4.108115656069894,4.111258820305602,4.11440198454131,4.117545148777017,4.120688313012725,4.123831477248433,4.12697464148414,4.130117805719848,4.133260969955556,4.136404134191263,4.139547298426971,4.142690462662679,4.145833626898386,4.148976791134094,4.152119955369802,4.155263119605509,4.158406283841217,4.161549448076925,4.164692612312632,4.16783577654834,4.170978940784048,4.174122105019755,4.177265269255463,4.18040843349117,4.183551597726878,4.186694761962586,4.189837926198293,4.192981090434001,4.196124254669709,4.199267418905416,4.202410583141124,4.205553747376832,4.208696911612539,4.211840075848247,4.214983240083955,4.218126404319662,4.221269568555369,4.224412732791078,4.227555897026785,4.230699061262492,4.233842225498201,4.236985389733908,4.240128553969615,4.243271718205324,4.246414882441031,4.249558046676738,4.252701210912447,4.255844375148154,4.258987539383861,4.262130703619569,4.265273867855277,4.268417032090984,4.271560196326692,4.2747033605624,4.2778465247981075,4.280989689033815,4.284132853269523,4.2872760175052305,4.290419181740938,4.293562345976646,4.2967055102123535,4.299848674448061,4.302991838683768,4.3061350029194765,4.309278167155184,4.312421331390891,4.3155644956265995,4.318707659862307,4.321850824098014,4.3249939883337225,4.32813715256943,4.331280316805137,4.3344234810408455,4.337566645276553,4.34070980951226,4.343852973747968,4.346996137983676,4.350139302219383,4.353282466455091,4.356425630690799,4.359568794926506,4.362711959162214,4.365855123397922,4.368998287633629,4.372141451869337,4.375284616105045,4.378427780340752,4.38157094457646,4.384714108812167,4.387857273047875,4.391000437283583,4.39414360151929,4.397286765754998,4.400429929990706,4.403573094226413,4.406716258462121,4.409859422697829,4.413002586933536,4.416145751169244,4.419288915404952,4.422432079640659,4.4255752438763665,4.428718408112075,4.431861572347782,4.4350047365834895,4.438147900819198,4.441291065054905,4.4444342292906125,4.447577393526321,4.450720557762028,4.4538637219977355,4.457006886233444,4.460150050469151,4.4632932147048585,4.466436378940566,4.469579543176274,4.4727227074119815,4.475865871647689,4.479009035883397,4.4821522001191045,4.485295364354812,4.48843852859052,4.4915816928262275,4.494724857061935,4.497868021297643,4.501011185533351,4.504154349769058,4.507297514004765,4.510440678240474,4.513583842476181,4.516727006711888,4.519870170947597,4.523013335183304,4.526156499419011,4.52929966365472,4.532442827890427,4.535585992126134,4.538729156361842,4.54187232059755,4.545015484833257,4.548158649068965,4.551301813304673,4.55444497754038,4.557588141776088,4.560731306011796,4.563874470247503,4.567017634483211,4.570160798718919,4.573303962954626,4.576447127190334,4.579590291426041,4.582733455661749,4.585876619897457,4.589019784133164,4.592162948368872,4.59530611260458,4.598449276840287,4.601592441075995,4.604735605311703,4.60787876954741,4.611021933783118,4.614165098018826,4.617308262254533,4.6204514264902405,4.623594590725949,4.626737754961656,4.6298809191973636,4.633024083433072,4.636167247668779,4.639310411904487,4.642453576140195,4.645596740375902,4.64873990461161,4.651883068847318,4.655026233083025,4.658169397318733,4.66131256155444,4.664455725790148,4.667598890025856,4.670742054261563,4.673885218497271,4.677028382732979,4.680171546968686,4.683314711204394,4.686457875440102,4.689601039675809,4.692744203911517,4.695887368147225,4.699030532382932,4.702173696618639,4.705316860854348,4.708460025090055,4.711603189325762,4.714746353561471,4.717889517797178,4.721032682032885,4.724175846268594,4.727319010504301,4.730462174740008,4.733605338975717,4.736748503211424,4.739891667447131,4.743034831682839,4.746177995918547,4.749321160154254,4.752464324389962,4.75560748862567,4.758750652861377,4.761893817097085,4.765036981332793,4.7681801455685004,4.771323309804208,4.774466474039916,4.7776096382756235,4.780752802511331,4.783895966747038,4.7870391309827465,4.790182295218454,4.793325459454161,4.7964686236898695,4.799611787925577,4.802754952161284,4.8058981163969925,4.8090412806327,4.812184444868407,4.8153276091041155,4.818470773339823,4.82161393757553,4.824757101811238,4.827900266046946,4.831043430282653,4.834186594518361,4.837329758754069,4.840472922989776,4.843616087225484,4.846759251461192,4.849902415696899,4.853045579932607,4.856188744168315,4.859331908404022,4.86247507263973,4.865618236875437,4.868761401111145,4.871904565346853,4.87504772958256,4.878190893818268,4.881334058053976,4.884477222289683,4.887620386525391,4.890763550761099,4.893906714996806,4.897049879232514,4.900193043468222,4.903336207703929,4.9064793719396365,4.909622536175345,4.912765700411052,4.9159088646467595,4.919052028882468,4.922195193118175,4.9253383573538825,4.928481521589591,4.931624685825298,4.9347678500610055,4.937911014296713,4.941054178532421,4.9441973427681285,4.947340507003836,4.950483671239544,4.9536268354752515,4.956769999710959,4.959913163946667,4.9630563281823745,4.966199492418082,4.96934265665379,4.9724858208894975,4.975628985125205,4.978772149360912,4.9819153135966205,4.985058477832328,4.988201642068035,4.9913448063037436,4.994487970539451,4.997631134775158,5.000774299010867,5.003917463246574,5.007060627482281,5.01020379171799,5.013346955953697,5.016490120189404,5.019633284425112,5.02277644866082,5.025919612896527,5.029062777132235,5.032205941367943,5.03534910560365,5.038492269839358,5.041635434075066,5.044778598310773,5.047921762546481,5.051064926782189,5.054208091017896,5.057351255253604,5.060494419489311,5.063637583725019,5.066780747960727,5.069923912196434,5.073067076432142,5.07621024066785,5.079353404903557,5.082496569139265,5.085639733374973,5.08878289761068,5.091926061846388,5.095069226082096,5.098212390317803,5.1013555545535105,5.104498718789219,5.107641883024926,5.1107850472606335,5.113928211496342,5.117071375732049,5.1202145399677566,5.123357704203465,5.126500868439172,5.12964403267488,5.132787196910588,5.135930361146295,5.139073525382003,5.14221668961771,5.145359853853418,5.148503018089126,5.151646182324833,5.154789346560541,5.157932510796249,5.161075675031956,5.164218839267664,5.167362003503372,5.170505167739079,5.173648331974787,5.176791496210495,5.179934660446202,5.183077824681909,5.186220988917618,5.189364153153325,5.192507317389032,5.195650481624741,5.198793645860448,5.201936810096155,5.205079974331864,5.208223138567571,5.211366302803278,5.214509467038987,5.217652631274694,5.220795795510401,5.223938959746109,5.227082123981817,5.230225288217524,5.233368452453232,5.23651161668894,5.239654780924647,5.242797945160355,5.245941109396063,5.24908427363177,5.252227437867478,5.255370602103186,5.2585137663388934,5.261656930574601,5.264800094810308,5.2679432590460165,5.271086423281724,5.274229587517431,5.2773727517531395,5.280515915988847,5.283659080224554,5.2868022444602625,5.28994540869597,5.293088572931677,5.2962317371673855,5.299374901403093,5.3025180656388,5.305661229874508,5.308804394110216,5.311947558345923,5.315090722581631,5.318233886817339,5.321377051053046,5.324520215288754,5.327663379524462,5.330806543760169,5.333949707995877,5.337092872231585,5.340236036467292,5.343379200703,5.346522364938707,5.349665529174415,5.352808693410123,5.35595185764583,5.359095021881538,5.362238186117246,5.365381350352953,5.368524514588661,5.371667678824369,5.374810843060076,5.377954007295783,5.381097171531492,5.384240335767199,5.3873835000029064,5.390526664238615,5.393669828474322,5.3968129927100295,5.399956156945738,5.403099321181445,5.4062424854171525,5.409385649652861,5.412528813888568,5.4156719781242755,5.418815142359983,5.421958306595691,5.4251014708313985,5.428244635067106,5.431387799302814,5.4345309635385215,5.437674127774229,5.440817292009937,5.4439604562456445,5.447103620481352,5.45024678471706,5.4533899489527675,5.456533113188475,5.459676277424182,5.4628194416598905,5.465962605895598,5.469105770131305,5.4722489343670135,5.475392098602721,5.478535262838428,5.4816784270741366,5.484821591309844,5.487964755545551,5.49110791978126,5.494251084016967,5.497394248252674,5.500537412488382,5.50368057672409,5.506823740959797,5.509966905195505,5.513110069431213,5.51625323366692,5.519396397902628,5.522539562138336,5.525682726374043,5.528825890609751,5.531969054845459,5.535112219081166,5.538255383316874,5.541398547552581,5.544541711788289,5.547684876023997,5.550828040259704,5.553971204495412,5.55711436873112,5.560257532966827,5.563400697202535,5.566543861438243,5.56968702567395,5.572830189909658,5.575973354145366,5.579116518381073,5.5822596826167805,5.585402846852489,5.588546011088196,5.5916891753239035,5.594832339559612,5.597975503795319,5.6011186680310265,5.604261832266735,5.607404996502442,5.6105481607381495,5.613691324973858,5.616834489209565,5.619977653445273,5.62312081768098,5.626263981916688,5.629407146152396,5.632550310388103,5.635693474623811,5.638836638859519,5.641979803095226,5.645122967330934,5.648266131566642,5.651409295802349,5.654552460038057,5.657695624273765,5.660838788509472,5.663981952745179,5.667125116980888,5.670268281216595,5.673411445452302,5.676554609688011,5.679697773923718,5.682840938159425,5.685984102395134,5.689127266630841,5.692270430866548,5.695413595102257,5.698556759337964,5.701699923573671,5.704843087809379,5.707986252045087,5.711129416280794,5.714272580516502,5.71741574475221,5.720558908987917,5.723702073223625,5.726845237459333,5.72998840169504,5.733131565930748,5.736274730166456,5.739417894402163,5.742561058637871,5.745704222873578,5.7488473871092864,5.751990551344994,5.755133715580701,5.7582768798164095,5.761420044052117,5.764563208287824,5.7677063725235325,5.77084953675924,5.773992700994947,5.7771358652306555,5.780279029466363,5.78342219370207,5.786565357937778,5.789708522173486,5.792851686409193,5.795994850644901,5.799138014880609,5.802281179116316,5.805424343352024,5.808567507587732,5.811710671823439,5.814853836059147,5.817997000294854,5.821140164530562,5.82428332876627,5.827426493001977,5.830569657237685,5.833712821473393,5.8368559857091,5.839999149944808,5.843142314180516,5.846285478416223,5.849428642651931,5.852571806887639,5.855714971123346,5.858858135359053,5.862001299594762,5.865144463830469,5.868287628066176,5.871430792301885,5.874573956537592,5.877717120773299,5.880860285009008,5.884003449244715,5.8871466134804225,5.890289777716131,5.893432941951838,5.8965761061875455,5.899719270423253,5.902862434658961,5.9060055988946685,5.909148763130376,5.912291927366084,5.9154350916017915,5.918578255837499,5.921721420073207,5.9248645843089145,5.928007748544622,5.93115091278033,5.9342940770160375,5.937437241251745,5.940580405487452,5.9437235697231605,5.946866733958868,5.950009898194575,5.9531530624302835,5.956296226665991,5.959439390901698,5.9625825551374065,5.965725719373114,5.968868883608821,5.9720120478445295,5.975155212080237,5.978298376315944,5.981441540551652,5.98458470478736,5.987727869023067,5.990871033258775,5.994014197494483,5.99715736173019,6.000300525965898,6.003443690201606,6.006586854437313,6.009730018673021,6.012873182908729,6.016016347144436,6.019159511380144,6.022302675615851,6.025445839851559,6.028589004087267,6.031732168322974,6.034875332558682,6.03801849679439,6.041161661030097,6.044304825265805,6.047447989501513,6.05059115373722,6.053734317972928,6.056877482208636,6.060020646444343,6.0631638106800505,6.066306974915759,6.069450139151466,6.0725933033871735,6.075736467622882,6.078879631858589,6.0820227960942965,6.085165960330005,6.088309124565712,6.0914522888014195,6.094595453037128,6.097738617272835,6.1008817815085425,6.10402494574425,6.107168109979958,6.1103112742156656,6.113454438451373,6.116597602687081,6.119740766922789,6.122883931158496,6.126027095394204,6.129170259629912,6.132313423865619,6.135456588101327,6.138599752337035,6.141742916572742,6.144886080808449,6.148029245044158,6.151172409279865,6.154315573515572,6.157458737751281,6.160601901986988,6.163745066222695,6.166888230458404,6.170031394694111,6.173174558929818,6.176317723165527,6.179460887401234,6.182604051636941,6.185747215872649,6.188890380108357,6.192033544344064,6.195176708579772,6.19831987281548,6.201463037051187,6.204606201286895,6.207749365522603,6.21089252975831,6.214035693994018,6.217178858229726,6.220322022465433,6.223465186701141,6.226608350936848,6.229751515172556,6.232894679408264,6.236037843643971,6.239181007879679,6.242324172115387,6.245467336351094,6.2486105005868025,6.25175366482251,6.254896829058217,6.258039993293925,6.261183157529633,6.26432632176534,6.267469486001048,6.270612650236756,6.273755814472463,6.276898978708171,6.280042142943879,6.283185307179586],\"y\":[0.0,0.003143159060238096,0.006286287067720245,0.009429352969997286,0.01257232571523362,0.015715174252513998,0.018857867532150272,0.022000374505988164,0.025142664127713998,0.028284705353161424,0.0314264671406181,0.03456791845113242,0.03770902824882009,0.040849765501170796,0.04399009917935478,0.04712999825852939,0.05026943171814557,0.05340836854225433,0.056546777719813215,0.059684628244992606,0.06282188911748207,0.0659585293427967,0.06909451793258313,0.07222982390492594,0.07536441628465354,0.07849826410364426,0.08163133640113233,0.08476360222401372,0.08789503062715187,0.09102559067368361,0.09415525143532459,0.09728398199267493,0.10041175143552472,0.1035385288631593,0.10666428338466463,0.10978898411923245,0.11291260019646535,0.11603510075668172,0.11915645495122076,0.12227663194274711,0.12539560090555552,0.1285133310258755,0.1316297915021756,0.13474495154546787,0.13785878037961183,0.1409712472416188,0.14408232138195554,0.1471919720648482,0.150300168568586,0.15340688018582457,0.15651207622388952,0.15961572600507962,0.16271779886696974,0.16581826416271395,0.1689170912613482,0.17201424954809297,0.17510970842465573,0.17820343730953322,0.1812954056383136,0.18438558286397838,0.18747393845720423,0.1905604419066646,0.1936450627193311,0.19672777042077488,0.19980853455546754,0.20288732468708218,0.20596411039879395,0.20903886129358054,0.21211154699452278,0.2151821371451043,0.21825060140951183,0.2213169094729346,0.22438103104186405,0.22744293584439296,0.23050259363051478,0.23355997417242208,0.2366150472648055,0.23966778272515207,0.2427181503940434,0.24576612013545354,0.24881166183704698,0.2518547454104758,0.25489534079167714,0.25793341794117025,0.260968946844353,0.2640018975117988,0.26703223997955255,0.27005994430942676,0.2730849805892974,0.2761073189333995,0.27912692948262213,0.2821437824048034,0.28515784789502563,0.2881690961759093,0.29117749749790744,0.2941830221395997,0.2971856404079855,0.30018532263877806,0.3031820391966969,0.3061757604757607,0.30916645689958033,0.3121540989216503,0.315138657025641,0.31812010172569044,0.32109840356669545,0.32407353312460246,0.32704546100669857,0.33001415785190163,0.3329795943310505,0.33594174114719483,0.3389005690358841,0.3418560487654574,0.34480815113733165,0.34775684698629045,0.3507021071807718,0.3536439026231564,0.3565822042500548,0.35951698303259455,0.3624482099767071,0.36537585612341417,0.36829989254911394,0.37122029036586657,0.3741370207216799,0.37705005480079434,0.3799593638239676,0.3828649190487589,0.385766691769813,0.3886646533191438,0.3915587750664177,0.3944490284192361,0.39733538482341846,0.4002178157632836,0.40309629276193215,0.4059707873815275,0.40884127122357683,0.41170771592921185,0.4145700931794686,0.41742837469556754,0.42028253223919276,0.42313253761277114,0.4259783626597507,0.42881997926487897,0.43165735935448063,0.4344904748967348,0.43731929790195234,0.4401438004228519,0.44296395455483617,0.44577973243626795,0.4485911062487449,0.4513980482173744,0.45420053061104837,0.4569985257427169,0.45979200596966185,0.4625809436937699,0.4653653113618054,0.46814508146568234,0.4709202265427363,0.4736907191759956,0.47645653199445226,0.47921763767333253,0.4819740089343666,0.4847256185460583,0.48747243932395384,0.4902144441309109,0.4929516058773663,0.49568389752160347,0.4984112920700204,0.5011337625773953,0.5038512821471537,0.5065638239316335,0.5092713611323508,0.5119738670002639,0.5146713148360386,0.5173636779903108,0.5200509298639509,0.5227330439083256,0.525409993625561,0.528081752568804,0.5307482943424833,0.5334095926025708,0.5360656210568414,0.5387163534651331,0.5413617636396058,0.5440018254450003,0.5466365127988966,0.5492657996719715,0.5518896600882554,0.5545080681253896,0.5571209979148817,0.5597284236423617,0.5623303195478371,0.5649266599259464,0.5675174191262146,0.5701025715533049,0.5726820916672735,0.57525595398382,0.5778241330745406,0.5803866035671786,0.5829433401458751,0.5854943175514196,0.5880395105814988,0.5905788940909463,0.5931124429919904,0.5956401322545027,0.5981619369062444,0.600677832033114,0.6031877927793927,0.6056917943479906,0.6081898120006908,0.6106818210583949,0.6131677969013658,0.6156477149694718,0.6181215507624285,0.6205892798400412,0.6230508778224466,0.6255063203903531,0.6279555832852816,0.6303986423098045,0.6328354733277857,0.6352660522646181,0.6376903551074622,0.6401083579054827,0.6425200367700856,0.6449253678751542,0.6473243274572839,0.6497168918160177,0.6521030373140798,0.6544827403776098,0.6568559774963945,0.6592227252241015,0.6615829601785098,0.6639366590417412,0.6662837985604906,0.6686243555462559,0.670958306875567,0.6732856294902141,0.6756063003974755,0.6779202966703449,0.6802275954477582,0.6825281739348187,0.6848220094030226,0.6871090791904838,0.6893893607021574,0.6916628314100631,0.6939294688535079,0.6961892506393077,0.6984421544420086,0.700688158004108,0.7029272391362733,0.7051593757175627,0.7073845456956421,0.7096027270870046,0.711813897977186,0.7140180365209827,0.7162151209426669,0.718405129536202,0.7205880406654561,0.7227638327644174,0.7249324843374059,0.7270939739592863,0.7292482802756799,0.7313953820031746,0.7335352579295364,0.7356678869139185,0.7377932478870696,0.7399113198515427,0.7420220818819026,0.7441255131249321,0.7462215927998385,0.7483103001984588,0.7503916146854637,0.7524655156985628,0.754531982748706,0.7565909954202877,0.7586425333713469,0.7606865763337695,0.7627231041134874,0.7647520965906791,0.7667735337199675,0.7687873955306185,0.7707936621267382,0.7727923136874691,0.774783330467187,0.7767666927956944,0.7787423810784165,0.7807103757965934,0.7826706575074741,0.7846232068445077,0.7865680045175353,0.7885050313129801,0.7904342680940378,0.7923556958008651,0.7942692954507682,0.7961750481383906,0.7980729350358996,0.7999629373931723,0.8018450365379808,0.8037192138761771,0.8055854508918759,0.8074437291476388,0.8092940302846554,0.8111363360229249,0.8129706281614371,0.8147968885783518,0.816615099231178,0.8184252421569521,0.8202272994724157,0.8220212533741913,0.8238070861389596,0.8255847801236331,0.8273543177655321,0.8291156815825564,0.8308688541733595,0.8326138182175193,0.8343505564757104,0.8360790517898736,0.8377992870833855,0.8395112453612275,0.8412149097101534,0.8429102632988572,0.8445972893781382,0.8462759712810671,0.8479462924231513,0.8496082363024975,0.8512617864999755,0.8529069266793804,0.8545436405875937,0.8561719120547442,0.8577917249943673,0.8594030634035643,0.8610059113631607,0.8626002530378628,0.8641860726764146,0.8657633546117531,0.8673320832611641,0.8688922431264344,0.8704438187940066,0.87198679493513,0.8735211563060132,0.8750468877479742,0.8765639741875899,0.8780724006368452,0.8795721521932816,0.8810632140401432,0.8825455714465249,0.8840192097675159,0.8854841144443459,0.8869402710045283,0.8883876650620035,0.8898262823172801,0.8912561085575778,0.8926771296569662,0.8940893315765054,0.8954927003643844,0.8968872221560586,0.8982728831743872,0.8996496697297693,0.9010175682202791,0.9023765651317996,0.9037266470381573,0.9050678006012541,0.9064000125711993,0.9077232697864404,0.9090375591738927,0.9103428677490696,0.9116391826162099,0.9129264909684057,0.9142047800877281,0.9154740373453542,0.9167342502016907,0.9179854062064986,0.9192274929990153,0.9204604983080776,0.9216844099522427,0.9228992158399079,0.9241049039694311,0.9253014624292485,0.9264888793979928,0.9276671431446101,0.9288362420284748,0.9299961644995058,0.9311468990982801,0.932288434456146,0.9334207592953355,0.9345438624290754,0.9356577327616985,0.9367623592887524,0.9378577310971091,0.938943837365072,0.9400206673624831,0.9410882104508294,0.9421464560833474,0.9431953938051277,0.944235013253218,0.9452653041567258,0.9462862563369197,0.9472978597073298,0.9483001042738479,0.9492929801348252,0.9502764774811715,0.9512505865964508,0.9522152978569783,0.9531706017319148,0.9541164887833612,0.9550529496664516,0.9559799751294459,0.9568975560138205,0.9578056832543599,0.9587043478792451,0.959593541010143,0.960473253862294,0.9613434777445982,0.9622042040597021,0.9630554243040831,0.9638971300681336,0.9647293130362439,0.9655519649868846,0.9663650777926878,0.9671686434205272,0.9679626539315976,0.9687471014814936,0.9695219783202864,0.970287276792601,0.9710429893376917,0.9717891084895165,0.9725256268768111,0.973252537223162,0.9739698323470777,0.9746775051620601,0.9753755486766748,0.9760639559946193,0.976742720314792,0.9774118349313591,0.9780712932338202,0.9787210887070751,0.9793612149314864,0.9799916655829445,0.9806124344329288,0.9812235153485701,0.9818249022927109,0.9824165893239648,0.9829985705967758,0.9835708403614751,0.9841333929643393,0.9846862228476447,0.9852293245497233,0.9857626927050165,0.9862863220441276,0.9868002073938746,0.9873043436773412,0.9877987259139261,0.9882833492193934,0.98875820880592,0.9892232999821434,0.9896786181532077,0.9901241588208092,0.9905599175832408,0.9909858901354354,0.9914020722690086,0.9918084598723,0.9922050489304145,0.9925918355252606,0.9929688158355909,0.9933359861370382,0.9936933428021535,0.9940408823004411,0.9943786011983938,0.9947064961595269,0.9950245639444106,0.995332801410703,0.9956312055131803,0.9959197733037669,0.9961985019315652,0.9964673886428831,0.9967264307812617,0.9969756257875008,0.9972149711996852,0.9974444646532082,0.9976641038807956,0.9978738867125272,0.9980738110758594,0.9982638749956445,0.9984440765941512,0.9986144140910828,0.9987748858035943,0.9989254901463098,0.9990662256313378,0.9991970908682858,0.9993180845642742,0.9994292055239488,0.9995304526494934,0.9996218249406393,0.9997033214946769,0.9997749415064627,0.9998366842684291,0.9998885491705899,0.9999305357005471,0.9999626434434962,0.9999848720822294,0.9999972213971394,0.9999996912662218,0.9999922816650751,0.9999749926669027,0.9999478244425106,0.9999107772603066,0.9998638514862973,0.9998070475840847,0.9997403661148613,0.9996638077374049,0.9995773732080722,0.9994810633807905,0.9993748792070504,0.9992588217358954,0.9991328921139124,0.9989970915852197,0.9988514214914548,0.9986958832717616,0.998530478462776,0.99835520869861,0.9981700757108368,0.9979750813284729,0.9977702274779598,0.997555516183146,0.9973309495652656,0.9970965298429187,0.9968522593320488,0.9965981404459197,0.9963341756950921,0.9960603676873989,0.995776719127919,0.9954832328189506,0.9951799116599839,0.9948667586476722,0.9945437768758023,0.994210969535264,0.9938683399140186,0.9935158913970662,0.9931536274664124,0.9927815517010343,0.9923996677768443,0.9920079794666544,0.991606490640139,0.9911952052637959,0.9907741274009082,0.9903432612115034,0.9899026109523125,0.9894521809767279,0.9889919757347606,0.9885219997729958,0.9880422577345487,0.9875527543590178,0.9870534944824386,0.9865444830372357,0.9860257250521743,0.9854972256523098,0.984958990058938,0.984411023589543,0.983853331657745,0.9832859197732465,0.982708793541778,0.9821219586650427,0.9815254209406601,0.9809191862621087,0.9803032606186678,0.9796776500953583,0.9790423608728828,0.978397399227564,0.9777427715312833,0.9770784842514176,0.9764045439507755,0.9757209572875317,0.9750277310151628,0.974324871982379,0.9736123871330575,0.9728902835061733,0.9721585682357299,0.9714172485506886,0.9706663317748975,0.9699058253270189,0.9691357367204558,0.9683560735632782,0.9675668435581473,0.9667680545022398,0.965959714287171,0.9651418308989163,0.9643144124177327,0.9634774670180793,0.9626310029685355,0.9617750286317205,0.9609095524642097,0.9600345830164518,0.9591501289326843,0.9582561989508472,0.9573528019024984,0.9564399467127246,0.9555176424000543,0.9545858980763684,0.9536447229468099,0.9526941263096935,0.9517341175564132,0.9507647061713498,0.9497859017317772,0.9487977139077678,0.9478001524620966,0.9467932272501455,0.945776948219805,0.9447513254113767,0.9437163689574737,0.9426720890829208,0.9416184961046529,0.9405556004316138,0.9394834125646527,0.9384019430964213,0.9373112027112682,0.9362112021851339,0.9351019523854439,0.9339834642710024,0.9328557488918827,0.9317188173893186,0.9305726809955946,0.9294173510339345,0.92825283891839,0.9270791561537273,0.9258963143353139,0.9247043251490038,0.9235032003710226,0.9222929518678503,0.9210735915961046,0.9198451316024228,0.9186075840233425,0.9173609610851821,0.9161052751039194,0.9148405384850706,0.9135667637235674,0.9122839634036334,0.9109921501986602,0.9096913368710817,0.9083815362722486,0.9070627613423007,0.9057350251100397,0.9043983406928006,0.9030527212963207,0.9016981802146117,0.9003347308298253,0.8989623866121235,0.8975811611195446,0.8961910679978685,0.8947921209804836,0.893384333888249,0.8919677206293598,0.8905422951992092,0.8891080716802493,0.8876650642418533,0.8862132871401742,0.8847527547180054,0.8832834814046381,0.8818054817157183,0.8803187702531046,0.8788233617047235,0.8773192708444233,0.8758065125318298,0.8742851017121981,0.8727550534162658,0.8712163827601044,0.8696691049449691,0.8681132352571502,0.8665487890678203,0.8649757818328839,0.8633942290928242,0.8618041464725485,0.8602055496812363,0.8585984545121818,0.8569828768426383,0.8553588326336627,0.853726337929956,0.8520854088597062,0.8504360616344284,0.848778312548804,0.8471121779805212,0.8454376743901115,0.8437548183207888,0.8420636263982847,0.8403641153306841,0.8386563019082616,0.8369402030033143,0.8352158355699951,0.8334832166441466,0.8317423633431305,0.8299932928656607,0.8282360224916326,0.8264705695819514,0.8246969515783624,0.8229151860032768,0.8211252904596004,0.8193272826305583,0.8175211802795205,0.8157070012498272,0.8138847634646118,0.8120544849266234,0.8102161837180503,0.8083698780003398,0.80651558601402,0.8046533260785194,0.8027831165919848,0.8009049760311012,0.7990189229509077,0.7971249759846155,0.7952231538434233,0.7933134753163317,0.7913959592699589,0.7894706246483536,0.7875374904728074,0.7855965758416681,0.7836478999301495,0.7816914819901434,0.7797273413500289,0.7777554974144804,0.7757759696642779,0.7737887776561122,0.7717939410223943,0.7697914794710594,0.7677814127853725,0.7657637608237341,0.7637385435194824,0.7617057808806978,0.7596654929900051,0.757617700004373,0.755562422154918,0.7534996797467031,0.7514294931585361,0.7493518828427708,0.747266869325102,0.7451744732043656,0.7430747151523333,0.740967615913508,0.738853196304921,0.7367314772159238,0.7346024796079836,0.7324662245144758,0.7303227330404749,0.728172026362548,0.7260141257285443,0.7238490524573851,0.7216768279388545,0.7194974736333859,0.7173110110718521,0.7151174618553523,0.7129168476549963,0.7107091902116941,0.7084945113359379,0.7062728329075885,0.7040441768756591,0.7018085652580968,0.6995660201415671,0.6973165636812348,0.6950602181005443,0.6927970056910022,0.6905269488119543,0.6882500698903672,0.6859663914206058,0.6836759359642096,0.681378726149673,0.6790747846722183,0.6767641342935738,0.6744467978417489,0.6721227982108063,0.6697921583606385,0.6674549013167402,0.6651110501699791,0.6627606280763705,0.6604036582568462,0.6580401639970268,0.6556701686469911,0.6532936956210441,0.6509107683974883,0.6485214105183887,0.646125645589343,0.6437234972792474,0.6413149893200609,0.638900145506574,0.636478989696172,0.6340515458085985,0.6316178378257209,0.6291778897912916,0.6267317258107125,0.6242793700507955,0.6218208467395231,0.6193561801658114,0.6168853946792673,0.6144085146899502,0.6119255646681303,0.6094365691440451,0.6069415527076603,0.6044405400084232,0.6019335557550224,0.5994206247151421,0.5969017717152167,0.5943770216401876,0.5918463994332559,0.5893099300956354,0.5867676386863079,0.5842195503217725,0.5816656901758008,0.5791060834791861,0.5765407555194936,0.573969731640813,0.5713930372435054,0.5688106977839547,0.5662227387743147,0.5636291857822566,0.5610300644307185,0.5584254003976504,0.5558152194157605,0.5531995472722627,0.5505784098086193,0.5479518329202883,0.545319842556466,0.5426824647198305,0.5400397254662861,0.5373916509047041,0.5347382671966666,0.5320796005562075,0.529415677249552,0.5267465235948596,0.524072165961963,0.5213926307721063,0.5187079444976863,0.5160181336619887,0.513323224838928,0.5106232446527845,0.5079182197779395,0.5052081769386148,0.5024931429086051,0.4997731445110173,0.49704820861800314,0.4943183621504932,0.4915836320779331,0.48884404541801585,0.486099629236414,0.48335041064651457,0.4805964168091484,0.4778376749323244,0.4750742122709596,0.47230605612660875,0.4695332338471973,0.4667557728267481,0.4639737005051135,0.46118704436770297,0.4583958319452106,0.45560009081334535,0.45279984859255745,0.4499951329477642,0.4471859715880798,0.44437239226653796,0.4415544227798208,0.43873209096798305,0.4359054247141755,0.4330744519443727,0.43023920062709375,0.42739969877312867,0.4245559744352605,0.4217080557079871,0.4188559707272462,0.41599974767013437,0.41313941475463134,0.41027500023932023,0.4074065324231068,0.4045340396449426,0.4016575502835437,0.39877709275710915,0.3958926955230428,0.39300438707766927,0.39011219595595514,0.3872161507312257,0.38431628001488144,0.38141261245611857,0.37850517674164225,0.37559400159538636,0.37267911577822843,0.3697605480877041,0.3668383273577253,0.3639124824582941,0.3609830422952162,0.3580500358098182,0.35511349197865844,0.35217343981324367,0.34922990835974116,0.3462829266986904,0.3433325239447187,0.3403787292462505,0.33742157178522203,0.33446108077679176,0.33149728546905066,0.3285302151427358,0.32555989911093947,0.32258636671881874,0.31960964734330827,0.3166297703928268,0.3136467653069894,0.31066066155631555,0.30767148864193655,0.3046792760953073,0.3016840534779108,0.29868585038096923,0.2956846964251505,0.29268062126027394,0.2896736545650204,0.2866638260466374,0.28365116544064456,0.2806357025105426,0.2776174670475161,0.27459648887014215,0.2715727978240943,0.26854642378184673,0.2655173966423816,0.26248574633089083,0.2594515027984831,0.2564146960218867,0.2533753560031522,0.2503335127693585,0.247289196372315,0.24424243688826333,0.2411932644175833,0.23814170908449195,0.23508780103674906,0.2320315704453581,0.22897304750426659,0.2259122624300711,0.2228492454617151,0.21978402686019335,0.21671663690825152,0.21364710591008582,0.21057546419104656,0.2075017420973352,0.20442596999570747,0.20134817827317206,0.19826839733668922,0.19518665761287282,0.19210298954768854,0.1890174236061518,0.18592999027202972,0.18284072004753657,0.17974964345303537,0.17665679102673523,0.1735621933243882,0.17046588091899034,0.1673678844004766,0.16426823437542112,0.161166961466734,0.15806409631335722,0.15495966956996451,0.15185371190665742,0.1487462540086608,0.14563732657602277,0.142526960323308,0.13941518597929717,0.13630203428668222,0.13318753600176125,0.13007172189413768,0.12695462274641287,0.123836269353885,0.12071669252424352,0.11759592307726349,0.1144739918445037,0.11135092966900079,0.10822676740496319,0.10510153591746937,0.10197526608215945,0.09884798878493316,0.09571973492164343,0.09259053539778982,0.08946042112821631,0.0863294230368023,0.08319757205616021,0.08006489912732856,0.07693143519946496,0.073797211229543,0.07066225818204507,0.06752660702865515,0.06439028874795592,0.061253334325119146,0.05811577475160265,0.05497764102484286,0.051838964147947184,0.04869977512939083,0.04556010498270696,0.04241998472618333,0.03927944538255454,0.036138517978694246,0.032997233545311234,0.029855623116641576,0.026713717730140668,0.023571548426179704,0.02042914624773548,0.01728654224008679,0.014143767450506394,0.011000852927952965,0.007857829722767433,0.00471472888636268,0.001571581470919876,-0.001571581470919631,-0.0047147288863624345,-0.007857829722766744,-0.01100085292795272,-0.01414376745050615,-0.017286542240086543,-0.020429146247735234,-0.02357154842617946,-0.026713717730140422,-0.02985562311664133,-0.032997233545310985,-0.036138517978693996,-0.0392794453825543,-0.04241998472618309,-0.04556010498270672,-0.048699775129390145,-0.051838964147946934,-0.054977641024842615,-0.05811577475160241,-0.061253334325118904,-0.06439028874795567,-0.06752660702865491,-0.07066225818204482,-0.07379721122954275,-0.07693143519946471,-0.08006489912732832,-0.08319757205615996,-0.08632942303680206,-0.08946042112821563,-0.09259053539778958,-0.09571973492164318,-0.09884798878493291,-0.1019752660821592,-0.10510153591746914,-0.10822676740496294,-0.11135092966900055,-0.11447399184450346,-0.11759592307726326,-0.12071669252424329,-0.12383626935388475,-0.12695462274641264,-0.130071721894137,-0.133187536001761,-0.136302034286682,-0.13941518597929692,-0.14252696032330775,-0.14563732657602252,-0.14874625400866054,-0.15185371190665717,-0.15495966956996426,-0.15806409631335697,-0.1611669614667338,-0.1642682343754209,-0.16736788440047634,-0.17046588091898968,-0.17356219332438794,-0.176656791026735,-0.17974964345303515,-0.18284072004753632,-0.18592999027202906,-0.18901742360615156,-0.1921029895476883,-0.19518665761287257,-0.19826839733668897,-0.20134817827317184,-0.20442596999570722,-0.20750174209733496,-0.2105754641910459,-0.21364710591008557,-0.21671663690825127,-0.2197840268601931,-0.22284924546171486,-0.22591226243007043,-0.22897304750426634,-0.23203157044535785,-0.23508780103674884,-0.2381417090844917,-0.24119326441758304,-0.2442424368882631,-0.24728919637231475,-0.2503335127693582,-0.2533753560031519,-0.25641469602188643,-0.25945150279848284,-0.2624857463308906,-0.26551739664238094,-0.26854642378184646,-0.2715727978240941,-0.27459648887014193,-0.27761746704751583,-0.2806357025105423,-0.28365116544064434,-0.2866638260466372,-0.2896736545650202,-0.2926806212602737,-0.2956846964251502,-0.298685850380969,-0.30168405347791055,-0.30467927609530665,-0.30767148864193633,-0.3106606615563153,-0.31364676530698915,-0.3166297703928266,-0.31960964734330805,-0.3225863667188185,-0.3255598991109392,-0.32853021514273556,-0.33149728546905044,-0.33446108077679154,-0.3374215717852218,-0.3403787292462503,-0.343332523944718,-0.34628292669869015,-0.34922990835974094,-0.35217343981324345,-0.3551134919786582,-0.3580500358098179,-0.360983042295216,-0.3639124824582939,-0.3668383273577251,-0.36976054808770387,-0.3726791157782282,-0.37559400159538614,-0.378505176741642,-0.3814126124561179,-0.3843162800148812,-0.38721615073122545,-0.3901121959559549,-0.39300438707766905,-0.3958926955230422,-0.39877709275710893,-0.4016575502835435,-0.4045340396449424,-0.4074065324231066,-0.41027500023932,-0.4131394147546311,-0.41599974767013415,-0.41885597072724556,-0.42170805570798686,-0.4245559744352603,-0.42739969877312844,-0.43023920062709353,-0.4330744519443721,-0.43590542471417526,-0.4387320909679828,-0.4415544227798206,-0.44437239226653774,-0.4471859715880796,-0.44999513294776405,-0.45279984859255723,-0.4556000908133451,-0.4583958319452104,-0.46118704436770275,-0.4639737005051133,-0.4667557728267479,-0.4695332338471967,-0.47230605612660853,-0.47507421227095936,-0.47783767493232415,-0.48059641680914816,-0.48335041064651435,-0.4860996292364138,-0.4888440454180157,-0.4915836320779329,-0.49431836215049296,-0.4970482086180029,-0.49977314451101706,-0.5024931429086049,-0.5052081769386141,-0.5079182197779393,-0.5106232446527843,-0.5133232248389278,-0.5160181336619885,-0.5187079444976861,-0.5213926307721061,-0.5240721659619629,-0.5267465235948594,-0.5294156772495517,-0.5320796005562073,-0.5347382671966664,-0.5373916509047039,-0.5400397254662855,-0.5426824647198303,-0.5453198425564658,-0.547951832920288,-0.5505784098086192,-0.5531995472722625,-0.5558152194157603,-0.5584254003976502,-0.5610300644307183,-0.5636291857822565,-0.5662227387743145,-0.5688106977839544,-0.5713930372435052,-0.5739697316408124,-0.5765407555194934,-0.5791060834791859,-0.5816656901758006,-0.5842195503217723,-0.5867676386863072,-0.5893099300956351,-0.5918463994332557,-0.5943770216401875,-0.5969017717152165,-0.5994206247151419,-0.6019335557550222,-0.604440540008423,-0.6069415527076597,-0.6094365691440449,-0.6119255646681301,-0.6144085146899501,-0.6168853946792671,-0.6193561801658108,-0.6218208467395229,-0.6242793700507953,-0.6267317258107123,-0.6291778897912914,-0.6316178378257207,-0.6340515458085982,-0.6364789896961719,-0.6389001455065738,-0.6413149893200607,-0.6437234972792472,-0.6461256455893429,-0.6485214105183885,-0.6509107683974877,-0.6532936956210439,-0.6556701686469909,-0.6580401639970267,-0.660403658256846,-0.6627606280763703,-0.6651110501699788,-0.66745490131674,-0.6697921583606384,-0.6721227982108061,-0.6744467978417488,-0.6767641342935737,-0.679074784672218,-0.6813787261496725,-0.6836759359642095,-0.6859663914206056,-0.6882500698903671,-0.6905269488119541,-0.692797005691002,-0.6950602181005442,-0.6973165636812346,-0.6995660201415669,-0.7018085652580967,-0.704044176875659,-0.7062728329075884,-0.7084945113359377,-0.7107091902116937,-0.7129168476549961,-0.7151174618553521,-0.717311011071852,-0.7194974736333857,-0.7216768279388543,-0.723849052457385,-0.7260141257285442,-0.7281720263625479,-0.7303227330404748,-0.7324662245144757,-0.7346024796079834,-0.7367314772159236,-0.7388531963049205,-0.7409676159135078,-0.743074715152333,-0.7451744732043655,-0.7472668693251019,-0.7493518828427703,-0.7514294931585359,-0.753499679746703,-0.7555624221549179,-0.7576177000043728,-0.7596654929900046,-0.7617057808806981,-0.7637385435194822,-0.7657637608237337,-0.7677814127853726,-0.7697914794710593,-0.7717939410223942,-0.7737887776561119,-0.7757759696642776,-0.7777554974144802,-0.7797273413500284,-0.7816914819901435,-0.7836478999301494,-0.7855965758416676,-0.7875374904728075,-0.7894706246483535,-0.7913959592699588,-0.7933134753163319,-0.7952231538434232,-0.7971249759846153,-0.7990189229509073,-0.800904976031101,-0.8027831165919846,-0.804653326078519,-0.8065155860140201,-0.8083698780003397,-0.8102161837180499,-0.8120544849266235,-0.8138847634646117,-0.815707001249827,-0.8175211802795201,-0.8193272826305581,-0.8211252904596001,-0.8229151860032765,-0.8246969515783623,-0.8264705695819513,-0.8282360224916322,-0.8299932928656608,-0.8317423633431303,-0.8334832166441462,-0.8352158355699952,-0.8369402030033142,-0.8386563019082613,-0.8403641153306838,-0.8420636263982846,-0.8437548183207887,-0.8454376743901112,-0.8471121779805211,-0.8487783125488039,-0.8504360616344281,-0.8520854088597063,-0.8537263379299559,-0.8553588326336623,-0.8569828768426383,-0.8585984545121816,-0.8602055496812362,-0.8618041464725482,-0.863394229092824,-0.8649757818328837,-0.86654878906782,-0.8681132352571501,-0.869669104944969,-0.871216382760104,-0.8727550534162659,-0.874285101712198,-0.8758065125318295,-0.8773192708444233,-0.8788233617047233,-0.8803187702531045,-0.8818054817157179,-0.883283481404638,-0.8847527547180053,-0.8862132871401739,-0.8876650642418532,-0.8891080716802492,-0.890542295199209,-0.8919677206293599,-0.8933843338882489,-0.8947921209804832,-0.8961910679978686,-0.8975811611195444,-0.8989623866121234,-0.900334730829825,-0.9016981802146116,-0.9030527212963206,-0.9043983406928002,-0.9057350251100398,-0.9070627613423006,-0.9083815362722483,-0.9096913368710817,-0.9109921501986601,-0.9122839634036333,-0.9135667637235675,-0.9148405384850705,-0.9161052751039193,-0.9173609610851817,-0.9186075840233424,-0.9198451316024226,-0.9210735915961044,-0.9222929518678502,-0.9235032003710225,-0.9247043251490037,-0.9258963143353138,-0.9270791561537273,-0.9282528389183898,-0.9294173510339346,-0.9305726809955945,-0.9317188173893184,-0.9328557488918824,-0.9339834642710024,-0.9351019523854439,-0.9362112021851337,-0.9373112027112682,-0.9384019430964213,-0.9394834125646526,-0.9405556004316138,-0.9416184961046528,-0.9426720890829206,-0.9437163689574738,-0.9447513254113766,-0.9457769482198048,-0.9467932272501453,-0.9478001524620966,-0.9487977139077677,-0.949785901731777,-0.9507647061713498,-0.9517341175564131,-0.9526941263096933,-0.9536447229468099,-0.9545858980763683,-0.9555176424000542,-0.9564399467127246,-0.9573528019024984,-0.9582561989508471,-0.959150128932684,-0.9600345830164518,-0.9609095524642096,-0.9617750286317204,-0.9626310029685355,-0.9634774670180792,-0.9643144124177326,-0.9651418308989163,-0.965959714287171,-0.9667680545022397,-0.9675668435581474,-0.9683560735632782,-0.9691357367204557,-0.9699058253270187,-0.9706663317748975,-0.9714172485506885,-0.9721585682357297,-0.9728902835061733,-0.9736123871330575,-0.9743248719823789,-0.9750277310151628,-0.9757209572875317,-0.9764045439507754,-0.9770784842514177,-0.9777427715312833,-0.978397399227564,-0.9790423608728827,-0.9796776500953583,-0.9803032606186677,-0.9809191862621086,-0.9815254209406601,-0.9821219586650426,-0.9827087935417779,-0.9832859197732465,-0.983853331657745,-0.984411023589543,-0.9849589900589379,-0.9854972256523098,-0.9860257250521742,-0.9865444830372356,-0.9870534944824386,-0.9875527543590177,-0.9880422577345486,-0.9885219997729958,-0.9889919757347605,-0.9894521809767278,-0.9899026109523126,-0.9903432612115034,-0.9907741274009082,-0.9911952052637958,-0.991606490640139,-0.9920079794666544,-0.9923996677768442,-0.9927815517010343,-0.9931536274664124,-0.9935158913970661,-0.9938683399140186,-0.994210969535264,-0.9945437768758022,-0.9948667586476722,-0.9951799116599839,-0.9954832328189505,-0.9957767191279189,-0.9960603676873989,-0.9963341756950921,-0.9965981404459195,-0.9968522593320487,-0.9970965298429187,-0.9973309495652656,-0.9975555161831459,-0.9977702274779598,-0.9979750813284729,-0.9981700757108369,-0.99835520869861,-0.9985304784627759,-0.9986958832717616,-0.9988514214914548,-0.9989970915852197,-0.9991328921139124,-0.9992588217358954,-0.9993748792070504,-0.9994810633807905,-0.9995773732080722,-0.9996638077374049,-0.9997403661148613,-0.9998070475840847,-0.9998638514862973,-0.9999107772603066,-0.9999478244425106,-0.9999749926669027,-0.9999922816650751,-0.9999996912662218,-0.9999972213971394,-0.9999848720822294,-0.9999626434434962,-0.9999305357005471,-0.9998885491705899,-0.9998366842684291,-0.9997749415064627,-0.9997033214946769,-0.9996218249406393,-0.9995304526494934,-0.9994292055239488,-0.9993180845642742,-0.9991970908682858,-0.9990662256313378,-0.9989254901463098,-0.9987748858035943,-0.9986144140910828,-0.9984440765941512,-0.9982638749956445,-0.9980738110758594,-0.9978738867125272,-0.9976641038807956,-0.9974444646532084,-0.9972149711996852,-0.9969756257875008,-0.9967264307812617,-0.9964673886428831,-0.9961985019315652,-0.9959197733037669,-0.9956312055131803,-0.995332801410703,-0.9950245639444106,-0.9947064961595268,-0.9943786011983938,-0.9940408823004412,-0.9936933428021536,-0.9933359861370382,-0.9929688158355909,-0.9925918355252608,-0.9922050489304145,-0.9918084598723002,-0.9914020722690087,-0.9909858901354354,-0.9905599175832408,-0.9901241588208093,-0.9896786181532077,-0.9892232999821434,-0.9887582088059201,-0.9882833492193935,-0.9877987259139261,-0.9873043436773412,-0.9868002073938748,-0.9862863220441276,-0.9857626927050165,-0.9852293245497235,-0.9846862228476447,-0.9841333929643393,-0.9835708403614752,-0.9829985705967756,-0.9824165893239648,-0.9818249022927109,-0.9812235153485702,-0.9806124344329288,-0.9799916655829446,-0.9793612149314866,-0.9787210887070751,-0.9780712932338204,-0.9774118349313592,-0.976742720314792,-0.9760639559946194,-0.9753755486766749,-0.9746775051620603,-0.9739698323470777,-0.9732525372231621,-0.9725256268768113,-0.9717891084895165,-0.9710429893376917,-0.9702872767926012,-0.9695219783202864,-0.9687471014814937,-0.9679626539315977,-0.9671686434205271,-0.9663650777926878,-0.9655519649868847,-0.964729313036244,-0.9638971300681336,-0.9630554243040832,-0.9622042040597023,-0.9613434777445982,-0.9604732538622941,-0.9595935410101433,-0.9587043478792452,-0.95780568325436,-0.9568975560138206,-0.9559799751294458,-0.9550529496664516,-0.9541164887833613,-0.953170601731915,-0.9522152978569783,-0.9512505865964509,-0.9502764774811717,-0.9492929801348252,-0.9483001042738479,-0.94729785970733,-0.9462862563369197,-0.9452653041567259,-0.9442350132532181,-0.9431953938051276,-0.9421464560833475,-0.9410882104508296,-0.9400206673624834,-0.938943837365072,-0.9378577310971092,-0.9367623592887527,-0.9356577327616985,-0.9345438624290755,-0.9334207592953356,-0.9322884344561461,-0.9311468990982802,-0.929996164499506,-0.9288362420284747,-0.9276671431446101,-0.9264888793979931,-0.9253014624292488,-0.9241049039694311,-0.922899215839908,-0.9216844099522429,-0.9204604983080776,-0.9192274929990154,-0.9179854062064988,-0.9167342502016907,-0.9154740373453543,-0.9142047800877283,-0.9129264909684056,-0.91163918261621,-0.9103428677490698,-0.909037559173893,-0.9077232697864404,-0.9064000125711995,-0.9050678006012545,-0.9037266470381573,-0.9023765651317998,-0.9010175682202793,-0.8996496697297695,-0.8982728831743874,-0.8968872221560589,-0.8954927003643843,-0.8940893315765055,-0.8926771296569664,-0.8912561085575781,-0.8898262823172802,-0.8883876650620036,-0.8869402710045287,-0.8854841144443459,-0.884019209767516,-0.8825455714465251,-0.8810632140401433,-0.8795721521932817,-0.8780724006368454,-0.8765639741875898,-0.8750468877479743,-0.8735211563060135,-0.8719867949351303,-0.8704438187940066,-0.8688922431264346,-0.8673320832611644,-0.8657633546117532,-0.8641860726764147,-0.862600253037863,-0.8610059113631607,-0.8594030634035644,-0.8577917249943675,-0.8561719120547441,-0.8545436405875938,-0.8529069266793806,-0.8512617864999759,-0.8496082363024975,-0.8479462924231514,-0.8462759712810675,-0.8445972893781382,-0.8429102632988574,-0.8412149097101538,-0.8395112453612273,-0.8377992870833856,-0.8360790517898739,-0.8343505564757103,-0.8326138182175195,-0.8308688541733596,-0.8291156815825569,-0.8273543177655321,-0.8255847801236333,-0.8238070861389598,-0.8220212533741913,-0.8202272994724158,-0.8184252421569524,-0.816615099231178,-0.8147968885783519,-0.8129706281614374,-0.8111363360229248,-0.8092940302846554,-0.8074437291476391,-0.8055854508918763,-0.8037192138761771,-0.801845036537981,-0.7999629373931727,-0.7980729350358996,-0.7961750481383908,-0.7942692954507685,-0.792355695800865,-0.7904342680940378,-0.7885050313129803,-0.7865680045175357,-0.7846232068445078,-0.7826706575074743,-0.7807103757965939,-0.7787423810784165,-0.7767666927956947,-0.7747833304671874,-0.7727923136874691,-0.7707936621267383,-0.7687873955306188,-0.7667735337199675,-0.7647520965906792,-0.7627231041134878,-0.7606865763337699,-0.758642533371347,-0.7565909954202878,-0.7545319827487065,-0.7524655156985628,-0.750391614685464,-0.7483103001984591,-0.7462215927998386,-0.7441255131249322,-0.742022081881903,-0.7399113198515426,-0.7377932478870697,-0.7356678869139188,-0.733535257929537,-0.7313953820031747,-0.7292482802756801,-0.7270939739592869,-0.724932484337406,-0.7227638327644176,-0.7205880406654565,-0.7184051295362018,-0.7162151209426671,-0.7140180365209831,-0.7118138979771859,-0.7096027270870047,-0.7073845456956425,-0.7051593757175632,-0.7029272391362734,-0.7006881580041082,-0.6984421544420092,-0.6961892506393077,-0.6939294688535081,-0.6916628314100636,-0.6893893607021574,-0.6871090791904839,-0.684822009403023,-0.6825281739348186,-0.6802275954477583,-0.6779202966703453,-0.6756063003974759,-0.6732856294902141,-0.6709583068755673,-0.6686243555462564,-0.6662837985604906,-0.6639366590417414,-0.6615829601785101,-0.6592227252241014,-0.6568559774963947,-0.6544827403776101,-0.6521030373140797,-0.6497168918160178,-0.6473243274572842,-0.6449253678751548,-0.6425200367700857,-0.640108357905483,-0.6376903551074626,-0.6352660522646181,-0.6328354733277859,-0.6303986423098049,-0.6279555832852814,-0.6255063203903533,-0.6230508778224471,-0.6205892798400411,-0.6181215507624286,-0.6156477149694721,-0.6131677969013664,-0.610681821058395,-0.6081898120006911,-0.605691794347991,-0.6031877927793927,-0.6006778320331142,-0.5981619369062449,-0.5956401322545026,-0.5931124429919906,-0.5905788940909467,-0.5880395105814987,-0.5854943175514197,-0.5829433401458755,-0.5803866035671792,-0.5778241330745407,-0.5752559539838203,-0.5726820916672739,-0.5701025715533049,-0.5675174191262147,-0.5649266599259469,-0.5623303195478371,-0.559728423642362,-0.5571209979148821,-0.5545080681253894,-0.5518896600882555,-0.5492657996719718,-0.5466365127988971,-0.5440018254450003,-0.541361763639606,-0.5387163534651336,-0.5360656210568414,-0.533409592602571,-0.5307482943424837,-0.5280817525688039,-0.5254099936255612,-0.522733043908326,-0.5200509298639507,-0.5173636779903109,-0.5146713148360389,-0.5119738670002645,-0.5092713611323508,-0.5065638239316338,-0.5038512821471542,-0.5011337625773953,-0.4984112920700206,-0.49568389752160397,-0.4929516058773662,-0.4902144441309111,-0.4874724393239543,-0.4847256185460581,-0.4819740089343667,-0.47921763767333286,-0.4764565319944528,-0.4736907191759956,-0.4709202265427366,-0.4681450814656829,-0.46536531136180537,-0.4625809436937701,-0.4597920059696623,-0.4569985257427168,-0.45420053061104854,-0.4513980482173748,-0.44859110624874554,-0.4457797324362681,-0.44296395455483656,-0.44014380042285245,-0.4373192979019524,-0.4344904748967351,-0.43165735935448113,-0.42881997926487897,-0.4259783626597509,-0.4231325376127716,-0.4202825322391927,-0.4174283746955677,-0.414570093179469,-0.4117077159292125,-0.40884127122357694,-0.4059707873815278,-0.4030962927619327,-0.4002178157632836,-0.39733538482341874,-0.3944490284192367,-0.3915587750664176,-0.388664653319144,-0.38576669176981343,-0.3828649190487588,-0.3799593638239678,-0.3770500548007948,-0.3741370207216806,-0.3712202903658666,-0.36829989254911427,-0.3653758561234148,-0.3624482099767071,-0.35951698303259483,-0.3565822042500554,-0.3536439026231564,-0.35070210718077205,-0.34775684698629095,-0.3448081511373316,-0.34185604876545755,-0.3389005690358845,-0.33594174114719544,-0.3329795943310506,-0.33001415785190197,-0.3270454610066992,-0.32407353312460246,-0.3210984035666957,-0.318120101725691,-0.315138657025641,-0.3121540989216505,-0.30916645689958083,-0.3061757604757606,-0.303182039196697,-0.30018532263877845,-0.2971856404079862,-0.29418302213959974,-0.2911774974979078,-0.2881690961759099,-0.2851578478950257,-0.2821437824048037,-0.2791269294826227,-0.2761073189333995,-0.2730849805892977,-0.2700599443094272,-0.2670322399795524,-0.2640018975117989,-0.2609689468443534,-0.2579334179411709,-0.25489534079167725,-0.25185474541047614,-0.2488116618370476,-0.24576612013545357,-0.24271815039404365,-0.2396677827251526,-0.23661504726480545,-0.23355997417242227,-0.23050259363051526,-0.22744293584439285,-0.22438103104186416,-0.221316909472935,-0.2182506014095125,-0.2151821371451044,-0.21211154699452314,-0.20903886129358118,-0.20596411039879395,-0.20288732468708245,-0.1998085345554681,-0.1967277704207748,-0.1936450627193313,-0.19056044190666505,-0.1874739384572041,-0.18438558286397852,-0.181295405638314,-0.1782034373095339,-0.17510970842465579,-0.1720142495480933,-0.1689170912613488,-0.16581826416271395,-0.16271779886697002,-0.15961572600508017,-0.15651207622388946,-0.15340688018582477,-0.15030016856858644,-0.14719197206484805,-0.14408232138195565,-0.1409712472416192,-0.13785878037961252,-0.13474495154546792,-0.13162979150217594,-0.1285133310258761,-0.12539560090555552,-0.12227663194274736,-0.1191564549512213,-0.11603510075668165,-0.11291260019646553,-0.10978898411923292,-0.1066642833846645,-0.10353852886315942,-0.10041175143552511,-0.09728398199267561,-0.09415525143532465,-0.09102559067368395,-0.08789503062715248,-0.08476360222401369,-0.0816313364011326,-0.0784982641036448,-0.07536441628465346,-0.07222982390492613,-0.06909451793258359,-0.06595852934279653,-0.0628218891174822,-0.059684628244992995,-0.05654677771981388,-0.053408368542254385,-0.050269431718145886,-0.04712999825852999,-0.043990099179354765,-0.040849765501171045,-0.03770902824882061,-0.03456791845113233,-0.03142646714061829,-0.028284705353161875,-0.025142664127714726,-0.022000374505988275,-0.018857867532150657,-0.015715174252514653,-0.012572325715233661,-0.0094293529699976,-0.006286287067720833,-0.0031431590602380684,-2.4492935982947064e-16]}},\"id\":\"c4433c7e-ff9c-46e7-957c-16cd875a28e7\",\"type\":\"ColumnDataSource\"},{\"attributes\":{\"plot\":{\"id\":\"9b714429-3700-4b21-9aee-15f7c0ca97e5\",\"subtype\":\"Figure\",\"type\":\"Plot\"}},\"id\":\"c2cd1b3d-8c40-41f6-b210-e8c54718cad1\",\"type\":\"WheelZoomTool\"},{\"attributes\":{\"below\":[{\"id\":\"8d9d373b-58de-4337-8ab2-1dedaf3001cc\",\"type\":\"LinearAxis\"}],\"left\":[{\"id\":\"933ce699-1f50-4d3f-8f3a-0859eea88f51\",\"type\":\"LinearAxis\"}],\"renderers\":[{\"id\":\"8d9d373b-58de-4337-8ab2-1dedaf3001cc\",\"type\":\"LinearAxis\"},{\"id\":\"9023c4d3-eae5-4c10-9899-f3b6220974b0\",\"type\":\"Grid\"},{\"id\":\"933ce699-1f50-4d3f-8f3a-0859eea88f51\",\"type\":\"LinearAxis\"},{\"id\":\"adcb8077-d342-4539-ba35-c2d19adc33a2\",\"type\":\"Grid\"},{\"id\":\"7eb9b728-64c6-40d7-9f58-34f1e65fa6fa\",\"type\":\"BoxAnnotation\"},{\"id\":\"53fbdd9c-f029-4a0f-b662-1587f4525db4\",\"type\":\"GlyphRenderer\"}],\"tool_events\":{\"id\":\"369f1ca7-791f-43e3-8190-f3ec29fdf127\",\"type\":\"ToolEvents\"},\"tools\":[{\"id\":\"cbdfc30a-f01b-4b8c-aeaf-dcf70f4a7405\",\"type\":\"PanTool\"},{\"id\":\"b8be3e01-bfb9-41cf-95e6-30b016e8574b\",\"type\":\"WheelZoomTool\"},{\"id\":\"1029d9f9-dbb5-40f3-a2c1-138e38400bcd\",\"type\":\"BoxZoomTool\"},{\"id\":\"c85d183e-7faa-4716-8dc0-313a42bf48a6\",\"type\":\"PreviewSaveTool\"},{\"id\":\"0dcdd069-9688-40d2-b68c-acdecb4b6804\",\"type\":\"ResizeTool\"},{\"id\":\"143f906b-d1d9-46d9-a5ab-f03838a19f5b\",\"type\":\"ResetTool\"},{\"id\":\"9791e1c5-e52d-4e46-ba95-0ba84a8393ea\",\"type\":\"HelpTool\"}],\"x_range\":{\"id\":\"c035b4c7-caaa-4c8a-b3eb-c1b0a7205624\",\"type\":\"DataRange1d\"},\"y_range\":{\"id\":\"2aa63548-720f-4cc5-b145-6e996d265d1a\",\"type\":\"DataRange1d\"}},\"id\":\"299cc4fc-88e8-49fc-8bdc-ef9cec59ff92\",\"subtype\":\"Figure\",\"type\":\"Plot\"},{\"attributes\":{\"callback\":null,\"column_names\":[\"end_angle\",\"start_angle\",\"line_color\",\"fill_color\"],\"data\":{\"end_angle\":[1.8849555921538759,2.5132741228718345,3.7699111843077517,5.654866776461628,6.283185307179586],\"fill_color\":[\"red\",\"green\",\"blue\",\"orange\",\"yellow\"],\"line_color\":[\"red\",\"green\",\"blue\",\"orange\",\"yellow\"],\"start_angle\":[0.0,1.8849555921538759,2.5132741228718345,3.7699111843077517,5.654866776461628]}},\"id\":\"84290008-1ac4-41d1-8dad-188a944188b9\",\"type\":\"ColumnDataSource\"},{\"attributes\":{},\"id\":\"fed83b97-2b8a-4f7c-a736-ffaf7b5a8d4e\",\"type\":\"BasicTickFormatter\"},{\"attributes\":{},\"id\":\"26272baa-7527-43e6-8ede-e0f53cc1e499\",\"type\":\"BasicTickFormatter\"},{\"attributes\":{},\"id\":\"c2771b79-7fbf-4743-87a6-4b8a28568e95\",\"type\":\"BasicTickFormatter\"},{\"attributes\":{\"plot\":{\"id\":\"bed68b3a-7a11-4cb2-ba05-9c8e6068d027\",\"subtype\":\"Figure\",\"type\":\"Plot\"},\"ticker\":{\"id\":\"916234c3-1127-4be1-ac71-59dda8a629ae\",\"type\":\"BasicTicker\"}},\"id\":\"588b555a-12e8-47ff-8a2f-403503274239\",\"type\":\"Grid\"},{\"attributes\":{},\"id\":\"2eab25a8-53df-4396-8158-842f347335f8\",\"type\":\"BasicTicker\"},{\"attributes\":{},\"id\":\"369f1ca7-791f-43e3-8190-f3ec29fdf127\",\"type\":\"ToolEvents\"},{\"attributes\":{\"callback\":null,\"column_names\":[\"x\",\"y\"],\"data\":{\"x\":[1,2],\"y\":[3,4]}},\"id\":\"e0960db2-3e98-4e5b-bef2-735c18822df4\",\"type\":\"ColumnDataSource\"},{\"attributes\":{},\"id\":\"9eb44cd5-b5d0-4865-aec5-0d5fa181b966\",\"type\":\"BasicTicker\"},{\"attributes\":{},\"id\":\"cf6580b7-072d-4ac3-8ab5-0dc73041f0ac\",\"type\":\"BasicTickFormatter\"},{\"attributes\":{},\"id\":\"538af4bd-1a0f-4e5c-b0b2-ad79a0734929\",\"type\":\"BasicTickFormatter\"},{\"attributes\":{\"bottom_units\":\"screen\",\"fill_alpha\":{\"value\":0.5},\"fill_color\":{\"value\":\"lightgrey\"},\"left_units\":\"screen\",\"level\":\"overlay\",\"line_alpha\":{\"value\":1.0},\"line_color\":{\"value\":\"black\"},\"line_dash\":[4,4],\"line_width\":{\"value\":2},\"plot\":null,\"render_mode\":\"css\",\"right_units\":\"screen\",\"top_units\":\"screen\"},\"id\":\"bb8b700c-4847-433e-bc4d-58edac84c14f\",\"type\":\"BoxAnnotation\"},{\"attributes\":{\"overlay\":{\"id\":\"bb8b700c-4847-433e-bc4d-58edac84c14f\",\"type\":\"BoxAnnotation\"},\"plot\":{\"id\":\"7c0c78fd-2c17-46c5-bc5a-09fa76c1bb29\",\"subtype\":\"Figure\",\"type\":\"Plot\"}},\"id\":\"175c77c5-3970-446f-a293-711981c055c1\",\"type\":\"BoxZoomTool\"},{\"attributes\":{\"dimension\":1,\"plot\":{\"id\":\"9b714429-3700-4b21-9aee-15f7c0ca97e5\",\"subtype\":\"Figure\",\"type\":\"Plot\"},\"ticker\":{\"id\":\"552383e9-0490-4785-8f35-e060ce61a403\",\"type\":\"BasicTicker\"}},\"id\":\"6f1984c0-20ab-4e27-b2e2-5c80749add84\",\"type\":\"Grid\"},{\"attributes\":{\"formatter\":{\"id\":\"26272baa-7527-43e6-8ede-e0f53cc1e499\",\"type\":\"BasicTickFormatter\"},\"plot\":{\"id\":\"7c0c78fd-2c17-46c5-bc5a-09fa76c1bb29\",\"subtype\":\"Figure\",\"type\":\"Plot\"},\"ticker\":{\"id\":\"315259c8-aced-48d9-adf3-08c74aa338bd\",\"type\":\"BasicTicker\"}},\"id\":\"660b1c03-3d39-45be-9229-7d001f3398ad\",\"type\":\"LinearAxis\"},{\"attributes\":{\"callback\":null},\"id\":\"c035b4c7-caaa-4c8a-b3eb-c1b0a7205624\",\"type\":\"DataRange1d\"},{\"attributes\":{\"dimension\":1,\"plot\":{\"id\":\"bed68b3a-7a11-4cb2-ba05-9c8e6068d027\",\"subtype\":\"Figure\",\"type\":\"Plot\"},\"ticker\":{\"id\":\"9eb44cd5-b5d0-4865-aec5-0d5fa181b966\",\"type\":\"BasicTicker\"}},\"id\":\"ee6d0e3f-4e5b-4368-869f-be34c7dfaf36\",\"type\":\"Grid\"},{\"attributes\":{\"callback\":null},\"id\":\"2aa63548-720f-4cc5-b145-6e996d265d1a\",\"type\":\"DataRange1d\"},{\"attributes\":{\"overlay\":{\"id\":\"e2caaeab-b50b-406f-a2db-2e322e0b37ed\",\"type\":\"BoxAnnotation\"},\"plot\":{\"id\":\"9b714429-3700-4b21-9aee-15f7c0ca97e5\",\"subtype\":\"Figure\",\"type\":\"Plot\"}},\"id\":\"a5510243-584f-4e8d-9077-4888ce2e8d0c\",\"type\":\"BoxZoomTool\"},{\"attributes\":{\"formatter\":{\"id\":\"fed83b97-2b8a-4f7c-a736-ffaf7b5a8d4e\",\"type\":\"BasicTickFormatter\"},\"plot\":{\"id\":\"299cc4fc-88e8-49fc-8bdc-ef9cec59ff92\",\"subtype\":\"Figure\",\"type\":\"Plot\"},\"ticker\":{\"id\":\"2eab25a8-53df-4396-8158-842f347335f8\",\"type\":\"BasicTicker\"}},\"id\":\"8d9d373b-58de-4337-8ab2-1dedaf3001cc\",\"type\":\"LinearAxis\"},{\"attributes\":{\"plot\":{\"id\":\"299cc4fc-88e8-49fc-8bdc-ef9cec59ff92\",\"subtype\":\"Figure\",\"type\":\"Plot\"}},\"id\":\"b8be3e01-bfb9-41cf-95e6-30b016e8574b\",\"type\":\"WheelZoomTool\"},{\"attributes\":{\"plot\":{\"id\":\"299cc4fc-88e8-49fc-8bdc-ef9cec59ff92\",\"subtype\":\"Figure\",\"type\":\"Plot\"}},\"id\":\"cbdfc30a-f01b-4b8c-aeaf-dcf70f4a7405\",\"type\":\"PanTool\"},{\"attributes\":{\"plot\":{\"id\":\"299cc4fc-88e8-49fc-8bdc-ef9cec59ff92\",\"subtype\":\"Figure\",\"type\":\"Plot\"}},\"id\":\"0dcdd069-9688-40d2-b68c-acdecb4b6804\",\"type\":\"ResizeTool\"},{\"attributes\":{},\"id\":\"c61f722e-ebd6-494b-94f7-659db38d60f5\",\"type\":\"ToolEvents\"},{\"attributes\":{\"plot\":{\"id\":\"7c0c78fd-2c17-46c5-bc5a-09fa76c1bb29\",\"subtype\":\"Figure\",\"type\":\"Plot\"}},\"id\":\"31172b3d-411a-4e92-a843-262937fb8836\",\"type\":\"PanTool\"},{\"attributes\":{\"plot\":{\"id\":\"9b714429-3700-4b21-9aee-15f7c0ca97e5\",\"subtype\":\"Figure\",\"type\":\"Plot\"}},\"id\":\"c8278bc7-8242-44d3-9e62-6b6391274b65\",\"type\":\"ResetTool\"},{\"attributes\":{\"formatter\":{\"id\":\"b50499a8-38b5-44c9-a62f-e09b1e5fec3f\",\"type\":\"BasicTickFormatter\"},\"plot\":{\"id\":\"7c0c78fd-2c17-46c5-bc5a-09fa76c1bb29\",\"subtype\":\"Figure\",\"type\":\"Plot\"},\"ticker\":{\"id\":\"1de07b0d-b3a1-4b47-8d1d-3b6ff011f74c\",\"type\":\"BasicTicker\"}},\"id\":\"e368015e-2f5e-4a1e-bb64-1055e88d79c2\",\"type\":\"LinearAxis\"},{\"attributes\":{\"plot\":{\"id\":\"bed68b3a-7a11-4cb2-ba05-9c8e6068d027\",\"subtype\":\"Figure\",\"type\":\"Plot\"}},\"id\":\"4c4ab564-4410-479a-a13d-9dee0d14b112\",\"type\":\"ResizeTool\"},{\"attributes\":{},\"id\":\"2068550e-6ed5-429e-bdbe-a8a3b9c06e0a\",\"type\":\"BasicTicker\"},{\"attributes\":{\"callback\":null,\"start\":-1},\"id\":\"d76ff21a-e389-4c8a-b3c6-14deb3b0f51b\",\"type\":\"Range1d\"},{\"attributes\":{\"callback\":null,\"column_names\":[\"x\",\"y\"],\"data\":{\"x\":[1,2],\"y\":[3,4]}},\"id\":\"e10304ae-9770-4e8b-8b28-b004455499b3\",\"type\":\"ColumnDataSource\"},{\"attributes\":{},\"id\":\"aca22cf5-433b-487f-9c0a-a7c16f2bda0a\",\"type\":\"BasicTickFormatter\"},{\"attributes\":{\"plot\":{\"id\":\"299cc4fc-88e8-49fc-8bdc-ef9cec59ff92\",\"subtype\":\"Figure\",\"type\":\"Plot\"},\"ticker\":{\"id\":\"2eab25a8-53df-4396-8158-842f347335f8\",\"type\":\"BasicTicker\"}},\"id\":\"9023c4d3-eae5-4c10-9899-f3b6220974b0\",\"type\":\"Grid\"},{\"attributes\":{\"plot\":{\"id\":\"299cc4fc-88e8-49fc-8bdc-ef9cec59ff92\",\"subtype\":\"Figure\",\"type\":\"Plot\"}},\"id\":\"c85d183e-7faa-4716-8dc0-313a42bf48a6\",\"type\":\"PreviewSaveTool\"},{\"attributes\":{\"formatter\":{\"id\":\"aca22cf5-433b-487f-9c0a-a7c16f2bda0a\",\"type\":\"BasicTickFormatter\"},\"plot\":{\"id\":\"299cc4fc-88e8-49fc-8bdc-ef9cec59ff92\",\"subtype\":\"Figure\",\"type\":\"Plot\"},\"ticker\":{\"id\":\"2068550e-6ed5-429e-bdbe-a8a3b9c06e0a\",\"type\":\"BasicTicker\"}},\"id\":\"933ce699-1f50-4d3f-8f3a-0859eea88f51\",\"type\":\"LinearAxis\"},{\"attributes\":{\"fill_alpha\":{\"value\":0.1},\"fill_color\":{\"value\":\"#1f77b4\"},\"line_alpha\":{\"value\":0.1},\"line_color\":{\"value\":\"#1f77b4\"},\"x\":{\"field\":\"x\"},\"y\":{\"field\":\"y\"}},\"id\":\"38837142-01af-43c3-8b39-b549edc266a2\",\"type\":\"Circle\"}],\"root_ids\":[\"bed68b3a-7a11-4cb2-ba05-9c8e6068d027\",\"299cc4fc-88e8-49fc-8bdc-ef9cec59ff92\",\"7c0c78fd-2c17-46c5-bc5a-09fa76c1bb29\",\"9b714429-3700-4b21-9aee-15f7c0ca97e5\"]},\"title\":\"Bokeh Application\",\"version\":\"0.11.1\"}};\n",
       "            var render_items = [{\"docid\":\"527436ab-76b2-4936-a23b-818902eb2fad\",\"elementid\":\"42774c30-7f15-4044-b979-0da2c3a7ea85\",\"modelid\":\"9b714429-3700-4b21-9aee-15f7c0ca97e5\"}];\n",
       "            \n",
       "            Bokeh.embed.embed_items(docs_json, render_items);\n",
       "        });\n",
       "        </script>\n",
       "    </body>\n",
       "</html>"
      ],
      "text/plain": [
       "<IPython.core.display.HTML object>"
      ]
     },
     "execution_count": 28,
     "metadata": {},
     "output_type": "execute_result"
    }
   ],
   "source": [
    "%%python\n",
    "\n",
    "from bokeh.plotting import *\n",
    "from numpy import pi\n",
    "\n",
    "# define starts/ends for wedges from percentages of a circle\n",
    "percents = [0, 0.3, 0.4, 0.6, 0.9, 1]\n",
    "starts = [p*2*pi for p in percents[:-1]]\n",
    "ends = [p*2*pi for p in percents[1:]]\n",
    "\n",
    "# a color for each pie piece\n",
    "colors = [\"red\", \"green\", \"blue\", \"orange\", \"yellow\"]\n",
    "\n",
    "p = figure(x_range=(-1,1), y_range=(-1,1))\n",
    "\n",
    "p.wedge(x=0, y=0, radius=1, start_angle=starts, end_angle=ends, color=colors)\n",
    "\n",
    "# display/save everything  \n",
    "output_file(\"pie.html\")\n",
    "#show(p)\n",
    "\n",
    "html = file_html(p, CDN, \"my pie-chart plot\")\n",
    "#DONT PRINT - this crashes the browser tab: print(html)\n",
    "\n",
    "\n",
    "\n",
    "import IPython\n",
    "retval=IPython.display.HTML(html)"
   ]
  },
  {
   "cell_type": "code",
   "execution_count": null,
   "metadata": {
    "collapsed": false
   },
   "outputs": [],
   "source": [
    "ls -altr | tail -3"
   ]
  },
  {
   "cell_type": "code",
   "execution_count": null,
   "metadata": {
    "collapsed": false
   },
   "outputs": [],
   "source": [
    "%%python\n",
    "\n",
    "from bokeh.charts import Donut, output_file, show\n",
    "\n",
    "#output_file('donut.html')\n",
    "\n",
    "# prepare the data\n",
    "data = [[2., 5., 3.], [4., 1., 4.], [6., 4., 3.]]\n",
    "\n",
    "donut = Donut(data, ['cpu1', 'cpu2', 'cpu3'])\n",
    "\n",
    "#show(donut)\n",
    "\n",
    "#html = file_html(donut, CDN, \"my donut plot\")\n",
    "#DONT PRINT - this crashes the browser tab: print(html)\n",
    "\n",
    "#import IPython\n",
    "#retval=IPython.display.HTML(html)"
   ]
  },
  {
   "cell_type": "markdown",
   "metadata": {},
   "source": [
    "## From a bash function:"
   ]
  },
  {
   "cell_type": "code",
   "execution_count": null,
   "metadata": {
    "collapsed": false
   },
   "outputs": [],
   "source": [
    "source ~/.metakernelrc"
   ]
  },
  {
   "cell_type": "code",
   "execution_count": 29,
   "metadata": {
    "collapsed": false
   },
   "outputs": [
    {
     "data": {
      "text/plain": [
       "lumnDataSource\"},{\"attributes\":{\"plot\":{\"id\":\"2859099,-0.2851578478950257,-0.2821437824048037,-0.2791269294826227,-0.2761073189333995,-0.2730849805892977,-0.2700599443094272,-0.2670322399795524,-0.2640018975117989,-0.2609689468443534,-0.2579334179411709,-0.25489534079167725,-0.25185474541047614,-0.2488116618370476,-0.24576612013545357,-0.24271815039404365,-0.2396677827251526,-0.23661504726480545,-0.23355997417242227,-0.23050259363051526,-0.22744293584439285,-0.22438103104186416,-0.221316909472935,-0.2182506014095125,-0.2151821371451044,-0.21211154699452314,-0.20903886129358118,-0.20596411039879395,-0.20288732468708245,-0.1998085345554681,-0.1967277704207748,-0.1936450627193313,-0.19056044190666505,-0.1874739384572041,-0.18438558286397852,-0.181295405638314,-0.1782034373095339,-0.17510970842465579,-0.1720142495480933,-0.1689170912613488,-0.16581826416271395,-0.16271779886697002,-0.15961572600508017,-0.15651207622388946,-0.15340688018582477,-0.15030016856858644,-0.14719197206484805,-0.14408232138195565,-0.1409712472416192,-0.13785878037961252,-0.13474495154546792,-0.13162979150217594,-0.1285133310258761,-0.12539560090555552,-0.12227663194274736,-0.1191564549512213,-0.11603510075668165,-0.11291260019646553,-0.10978898411923292,-0.1066642833846645,-0.10353852886315942,-0.10041175143552511,-0.09728398199267561,-0.09415525143532465,-0.09102559067368395,-0.08789503062715248,-0.08476360222401369,-0.0816313364011326,-0.0784982641036448,-0.07536441628465346,-0.07222982390492613,-0.06909451793258359,-0.06595852934279653,-0.0628218891174822,-0.059684628244992995,-0.05654677771981388,-0.053408368542254385,-0.050269431718145886,-0.04712999825852999,-0.043990099179354765,-0.040849765501171045,-0.03770902824882061,-0.03456791845113233,-0.03142646714061829,-0.028284705353161875,-0.025142664127714726,-0.022000374505988275,-0.018857867532150657,-0.015715174252514653,-0.012572325715233661,-0.0094293529699976,-0.006286287067720833,-0.0031431590602380684,-2.4492935982947064e-16]}},\"id\":\"310caf76-67f5-4b31-9a68-591087d14328\",\"type\":\"Cofa45c7-9cc9-4f4c-9333-e1dfaa947ba5\",\"subtype\":\"Figure\",\"type\":\"Plot\"}},\"id\":\"e11a1b9d-2fdf-49dc-abda-5fc8c73e8c4c\",\"type\":\"PreviewSaveTool\"},{\"attributes\":{},\"id\":\"bad3ec4d-b282-4dbd-afc3-e2e600824727\",\"type\":\"BasicTicker\"},{\"attributes\":{\"formatter\":{\"id\":\"64b817df-6113-4ed9-ab38-e01fc5b2a36a\",\"type\":\"BasicTickFormatter\"},\"plot\":{\"id\":\"28fa45c7-9cc9-4f4c-9333-e1dfaa947ba5\",\"subtype\":\"Figure\",\"type\":\"Plot\"},\"ticker\":{\"id\":\"bad3ec4d-b282-4dbd-afc3-e2e600824727\",\"type\":\"BasicTicker\"}},\"id\":\"178179e9-4345-4146-8b8b-7c5e835881f6\",\"type\":\"LinearAxis\"},{\"attributes\":{\"plot\":{\"id\":\"28fa45c7-9cc9-4f4c-9333-e1dfaa947ba5\",\"subtype\":\"Figure\",\"type\":\"Plot\"}},\"id\":\"54612717-2c79-4a59-a0d1-17280079a5ff\",\"type\":\"HelpTool\"}],\"root_ids\":[\"28fa45c7-9cc9-4f4c-9333-e1dfaa947ba5\"]},\"title\":\"Bokeh Application\",\"version\":\"0.11.1\"}};\r\n",
       "            var render_items = [{\"docid\":\"40e7ce28-06d8-47be-8fb8-5e17bba01190\",\"elementid\":\"2262aa93-ba54-4489-b80f-f6e3fa8dd153\",\"modelid\":\"28fa45c7-9cc9-4f4c-9333-e1dfaa947ba5\"}];\r\n",
       "            \r\n",
       "            Bokeh.embed.embed_items(docs_json, render_items);\r\n",
       "        });\r\n",
       "        </script>\r\n",
       "    </body>\r\n",
       "</html>"
      ]
     },
     "execution_count": 29,
     "metadata": {},
     "output_type": "execute_result"
    }
   ],
   "source": [
    "bokeh_line_test|html"
   ]
  },
  {
   "cell_type": "code",
   "execution_count": 30,
   "metadata": {
    "collapsed": false
   },
   "outputs": [
    {
     "data": {
      "text/html": [
       "<table><tr><th>col1</th>\n",
       "\n",
       "<th>col2</th>\n",
       "\n",
       "<th>col3</th>\n",
       "\n",
       "<th>col4</th>\n",
       "\n",
       "</tr>\n",
       "\n",
       "<tr><td>val1</td>\n",
       "\n",
       "    <td>val2</td>\n",
       "\n",
       "    <td>val3</td>\n",
       "\n",
       "    <td>val4</td>\n",
       "\n",
       "</tr>\n",
       "\n",
       "<tr><td>valu1</td>\n",
       "\n",
       "    <td>value2</td>\n",
       "\n",
       "    <td>value3</td>\n",
       "\n",
       "    <td>val4</td>\n",
       "\n",
       "</tr></table>\n"
      ],
      "text/plain": [
       "<IPython.core.display.HTML object>"
      ]
     },
     "metadata": {},
     "output_type": "display_data"
    }
   ],
   "source": [
    "test_html_table|html"
   ]
  },
  {
   "cell_type": "code",
   "execution_count": 31,
   "metadata": {
    "collapsed": false
   },
   "outputs": [
    {
     "data": {
      "text/html": [
       "<table><tr><th>col1</th>\n",
       "\n",
       "<th>col2</th>\n",
       "\n",
       "<th>col3</th>\n",
       "\n",
       "<th>col4</th>\n",
       "\n",
       "</tr>\n",
       "\n",
       "<tr><td>val1</td>\n",
       "\n",
       "    <td>val2</td>\n",
       "\n",
       "    <td>val3</td>\n",
       "\n",
       "    <td>val4</td>\n",
       "\n",
       "</tr>\n",
       "\n",
       "<tr><td>valu1</td>\n",
       "\n",
       "    <td>value2</td>\n",
       "\n",
       "    <td>value3</td>\n",
       "\n",
       "    <td>val4</td>\n",
       "\n",
       "</tr></table>\n"
      ],
      "text/plain": [
       "<IPython.core.display.HTML object>"
      ]
     },
     "metadata": {},
     "output_type": "display_data"
    }
   ],
   "source": [
    "#{bokeh_piechart_test;test_html_table}|html\n",
    "test_html_table|html"
   ]
  },
  {
   "cell_type": "code",
   "execution_count": 32,
   "metadata": {
    "collapsed": false
   },
   "outputs": [
    {
     "data": {
      "text/plain": [
       "06-9f39b24ba3fc\",\"type\":\"PanTool\"},{\"id\":\"c269fcd\":\"d07adf7b-b853-402c-8b34-6db58ff14324\",\"subtype\":\"Figure\",\"type\":\"Plot\"},\"ticker\":{\"id\":\"30c30227-b944-43df-b373-9d8cc7a26f87\",\"type\":\"BasicTicker\"}},\"id\":\"3be26913-5ca1-4ab1-9c0e-8a5cb874a17f\",\"type\":\"LinearAxis\"},{\"attributes\":{\"end_angle\":{\"field\":\"end_angle\",\"units\":\"rad\"},\"fill_alpha\":{\"value\":0.1},\"fill_color\":{\"value\":\"#1f77b4\"},\"line_alpha\":{\"value\":0.1},\"line_color\":{\"value\":\"#1f77b4\"},\"radius\":{\"units\":\"data\",\"value\":1},\"start_angle\":{\"field\":\"start_angle\",\"units\":\"rad\"},\"x\":{\"value\":0},\"y\":{\"value\":0}},\"id\":\"3ec4521e-9023-4c89-8dd6-7c4658782447\",\"type\":\"Wedge\"},{\"attributes\":{\"callback\":null,\"start\":-1},\"id\":\"d28fdaf7-a73b-4420-80e7-59c5f27c1543\",\"type\":\"Range1d\"},{\"attributes\":{},\"id\":\"937f6265-0e7e-43f8-8e0e-71ea577160b3\",\"type\":\"BasicTickFormatter\"},{\"attributes\":{\"data_source\":{\"id\":\"30a94124-314d-4bf2-ae2b-808e21c763f4\",\"type\":\"ColumnDataSource\"},\"glyph\":{\"id\":\"3996a4fd-7d67-4174-9405-3bb1241ea563\",\"type\":\"Wedge\"},\"hover_glyph\":null,\"nonselection_glyph\":{\"id\":\"3ec4521e-9023-4c89-8dd6-7c4658782447\",\"type\":\"Wedge\"},\"selection_glyph\":null},\"id\":\"ddfe2a21-8a0a-4a7a-b5e9-280b29aaf1cb\",\"type\":\"GlyphRenderer\"},{\"attributes\":{},\"id\":\"22bd1689-9dc1-42f6-a800-f2063bfb65ea\",\"type\":\"BasicTicker\"},{\"attributes\":{},\"id\":\"7783ef5a-f207-4d05-96d9-0580bf0194b3\",\"type\":\"BasicTickFormatter\"},{\"attributes\":{\"below\":[{\"id\":\"3be26913-5ca1-4ab1-9c0e-8a5cb874a17f\",\"type\":\"LinearAxis\"}],\"left\":[{\"id\":\"2564ac98-3a48-4787-ad82-d8c173c28160\",\"type\":\"LinearAxis\"}],\"renderers\":[{\"id\":\"3be26913-5ca1-4ab1-9c0e-8a5cb874a17f\",\"type\":\"LinearAxis\"},{\"id\":\"9eeb1637-b20a-4c66-ad53-a69be8b5b0ed\",\"type\":\"Grid\"},{\"id\":\"2564ac98-3a48-4787-ad82-d8c173c28160\",\"type\":\"LinearAxis\"},{\"id\":\"6d897c49-0a12-42f8-9029-0fec2ef0fb5c\",\"type\":\"Grid\"},{\"id\":\"d36b10cb-cbd8-4375-ba36-769201f87aa0\",\"type\":\"BoxAnnotation\"},{\"id\":\"ddfe2a21-8a0a-4a7a-b5e9-280b29aaf1cb\",\"type\":\"GlyphRenderer\"}],\"tool_events\":{\"id\":\"d074f61a-3895-4b9b-97b9-a39ad7596d71\",\"type\":\"ToolEvents\"},\"tools\":[{\"id\":\"878a18c4-9758-44cd-b80f-6d6e-4581-85b0-cdd70a5e5650\",\"type\":\"WheelZoomTool\"},{\"id\":\"3cb6d6db-06b7-4d07-bc0a-7073829e9997\",\"type\":\"BoxZoomTool\"},{\"id\":\"d21415e3-eefa-4f91-be0c-d770596c6002\",\"type\":\"PreviewSaveTool\"},{\"id\":\"9479bf7b-2cbb-48da-96a6-65276ed4ac05\",\"type\":\"ResizeTool\"},{\"id\":\"93d2e44b-2733-4f96-bec1-5e339f9f7618\",\"type\":\"ResetTool\"},{\"id\":\"14faf234-385c-459f-ae70-e21f829a6360\",\"type\":\"HelpTool\"}],\"x_range\":{\"id\":\"d28fdaf7-a73b-4420-80e7-59c5f27c1543\",\"type\":\"Range1d\"},\"y_range\":{\"id\":\"a64ec0c0-d6bb-4fca-91b4-7383feb92c70\",\"type\":\"Range1d\"}},\"id\":\"d07adf7b-b853-402c-8b34-6db58ff14324\",\"subtype\":\"Figure\",\"type\":\"Plot\"},{\"attributes\":{\"callback\":null,\"start\":-1},\"id\":\"a64ec0c0-d6bb-4fca-91b4-7383feb92c70\",\"type\":\"Range1d\"},{\"attributes\":{\"plot\":{\"id\":\"d07adf7b-b853-402c-8b34-6db58ff14324\",\"subtype\":\"Figure\",\"type\":\"Plot\"}},\"id\":\"9479bf7b-2cbb-48da-96a6-65276ed4ac05\",\"type\":\"ResizeTool\"}],\"root_ids\":[\"d07adf7b-b853-402c-8b34-6db58ff14324\"]},\"title\":\"Bokeh Application\",\"version\":\"0.11.1\"}};\r\n",
       "            var render_items = [{\"docid\":\"9177021e-7906-4fa0-87d3-570f002581bf\",\"elementid\":\"abfc51a2-2d9c-46fd-8780-c7d468c35664\",\"modelid\":\"d07adf7b-b853-402c-8b34-6db58ff14324\"}];\r\n",
       "            \r\n",
       "            Bokeh.embed.embed_items(docs_json, render_items);\r\n",
       "        });\r\n",
       "        </script>\r\n",
       "    </body>\r\n",
       "</html>\r\n",
       "<table><tr><th>col1</th>\r\n",
       "<th>col2</th>\r\n",
       "<th>col3</th>\r\n",
       "<th>col4</th>\r\n",
       "</tr>\r\n",
       "<tr><td>val1</td>\r\n",
       "    <td>val2</td>\r\n",
       "    <td>val3</td>\r\n",
       "    <td>val4</td>\r\n",
       "</tr>\r\n",
       "<tr><td>valu1</td>\r\n",
       "    <td>value2</td>\r\n",
       "    <td>value3</td>\r\n",
       "    <td>val4</td>\r\n",
       "</tr></table>"
      ]
     },
     "execution_count": 32,
     "metadata": {},
     "output_type": "execute_result"
    }
   ],
   "source": [
    "(bokeh_piechart_test;test_html_table)|html"
   ]
  },
  {
   "cell_type": "code",
   "execution_count": null,
   "metadata": {
    "collapsed": false
   },
   "outputs": [],
   "source": [
    "source ~/.metakernelrc"
   ]
  },
  {
   "cell_type": "code",
   "execution_count": 33,
   "metadata": {
    "collapsed": false
   },
   "outputs": [
    {
     "data": {
      "text/html": [
       "<table><tr><th>A</th>\n",
       "\n",
       "</tr>\n",
       "\n",
       "<tr><td>B</td>\n",
       "\n",
       "</tr></table>\n"
      ],
      "text/plain": [
       "<IPython.core.display.HTML object>"
      ]
     },
     "metadata": {},
     "output_type": "display_data"
    }
   ],
   "source": [
    "echo \"\n",
    "+---+\n",
    "| A |\n",
    "+---+\n",
    "| B |\n",
    "+---+\n",
    "\" | html_table|html"
   ]
  },
  {
   "cell_type": "code",
   "execution_count": 34,
   "metadata": {
    "collapsed": false
   },
   "outputs": [
    {
     "data": {
      "text/plain": [
       "gle\",\"start_angle\",\"line_color\",\"fill_color\"],\"dd00fcbce\",\"type\":\"LinearAxis\"}],\"renderers\":[{\"id\":\"e7300b36-0aac-4e9a-a543-1297067f5906\",\"type\":\"LinearAxis\"},{\"id\":\"0d585a77-be93-41b6-8bb5-6e70fc8be178\",\"type\":\"Grid\"},{\"id\":\"5f404ad3-827c-492f-984f-c0e0d00fcbce\",\"type\":\"LinearAxis\"},{\"id\":\"9eed491d-5762-4bc7-b938-e28744d8ffb2\",\"type\":\"Grid\"},{\"id\":\"e870d13b-4833-4923-abe9-e23b6fe6779b\",\"type\":\"BoxAnnotation\"},{\"id\":\"b4859571-27ea-4c3b-982c-e2960c7358b7\",\"type\":\"GlyphRenderer\"}],\"tool_events\":{\"id\":\"21956213-12a9-43a0-bde3-485e69b953e4\",\"type\":\"ToolEvents\"},\"tools\":[{\"id\":\"1d2f791b-41cc-4cac-83e4-bb14bd910eb8\",\"type\":\"PanTool\"},{\"id\":\"55958706-09ab-473c-85d0-2f294f0f3287\",\"type\":\"WheelZoomTool\"},{\"id\":\"053a88d0-b400-4ce8-9173-387d245a49dc\",\"type\":\"BoxZoomTool\"},{\"id\":\"825f14ab-0b24-4d5f-8b42-bfb46230e1a2\",\"type\":\"PreviewSaveTool\"},{\"id\":\"70920e68-8423-4f52-8863-e51d66a84310\",\"type\":\"ResizeTool\"},{\"id\":\"26d4f89f-5357-47f5-8bed-51a76b2788ef\",\"type\":\"ResetTool\"},{\"id\":\"3a49674b-57c8-49d0-9936-a2855e56bdf1\",\"type\":\"HelpTool\"}],\"x_range\":{\"id\":\"3e5226ee-73a1-4a72-8185-aefa32aaa858\",\"type\":\"Range1d\"},\"y_range\":{\"id\":\"f3340da8-1c97-4035-9a6a-1ceebc7ab1e9\",\"type\":\"Range1d\"}},\"id\":\"c5f5e4d4-1494-423f-ac1a-b8df26443e6c\",\"subtype\":\"Figure\",\"type\":\"Plot\"},{\"attributes\":{},\"id\":\"a92dd5e9-af9f-4bc8-acd5-1d9833aa229f\",\"type\":\"BasicTicker\"},{\"attributes\":{\"plot\":{\"id\":\"c5f5e4d4-1494-423f-ac1a-b8df26443e6c\",\"subtype\":\"Figure\",\"type\":\"Plot\"}},\"id\":\"55958706-09ab-473c-85d0-2f294f0f3287\",\"type\":\"WheelZoomTool\"},{\"attributes\":{\"bottom_units\":\"screen\",\"fill_alpha\":{\"value\":0.5},\"fill_color\":{\"value\":\"lightgrey\"},\"left_units\":\"screen\",\"level\":\"overlay\",\"line_alpha\":{\"value\":1.0},\"line_color\":{\"value\":\"black\"},\"line_dash\":[4,4],\"line_width\":{\"value\":2},\"plot\":null,\"render_mode\":\"css\",\"right_units\":\"screen\",\"top_units\":\"screen\"},\"id\":\"e870d13b-4833-4923-abe9-e23b6fe6779b\",\"type\":\"BoxAnnotation\"},{\"attributes\":{},\"id\":\"a3cdf7d5-e5a4-4c24-80c3-ff9aac80eca4\",\"type\":\"BasicTickFormatter\"},{\"attributes\":{\"callback\":null,\"column_names\":[\"end_anata\":{\"end_angle\":[1.8849555921538759,2.5132741228718345,3.7699111843077517,5.654866776461628,6.283185307179586],\"fill_color\":[\"red\",\"green\",\"blue\",\"orange\",\"yellow\"],\"line_color\":[\"red\",\"green\",\"blue\",\"orange\",\"yellow\"],\"start_angle\":[0.0,1.8849555921538759,2.5132741228718345,3.7699111843077517,5.654866776461628]}},\"id\":\"357136c1-4402-4418-a7dc-17bcd19606fb\",\"type\":\"ColumnDataSource\"},{\"attributes\":{\"overlay\":{\"id\":\"e870d13b-4833-4923-abe9-e23b6fe6779b\",\"type\":\"BoxAnnotation\"},\"plot\":{\"id\":\"c5f5e4d4-1494-423f-ac1a-b8df26443e6c\",\"subtype\":\"Figure\",\"type\":\"Plot\"}},\"id\":\"053a88d0-b400-4ce8-9173-387d245a49dc\",\"type\":\"BoxZoomTool\"},{\"attributes\":{\"dimension\":1,\"plot\":{\"id\":\"c5f5e4d4-1494-423f-ac1a-b8df26443e6c\",\"subtype\":\"Figure\",\"type\":\"Plot\"},\"ticker\":{\"id\":\"a92dd5e9-af9f-4bc8-acd5-1d9833aa229f\",\"type\":\"BasicTicker\"}},\"id\":\"9eed491d-5762-4bc7-b938-e28744d8ffb2\",\"type\":\"Grid\"}],\"root_ids\":[\"c5f5e4d4-1494-423f-ac1a-b8df26443e6c\"]},\"title\":\"Bokeh Application\",\"version\":\"0.11.1\"}};\r\n",
       "            var render_items = [{\"docid\":\"848e1d67-13db-4d3e-83f1-fadd36f3aaa1\",\"elementid\":\"1bcfee6b-58fd-4264-b7d2-d9a861e8f97d\",\"modelid\":\"c5f5e4d4-1494-423f-ac1a-b8df26443e6c\"}];\r\n",
       "            \r\n",
       "            Bokeh.embed.embed_items(docs_json, render_items);\r\n",
       "        });\r\n",
       "        </script>\r\n",
       "    </body>\r\n",
       "</html>\r\n",
       "<table><tr><th>col1</th>\r\n",
       "<th>col2</th>\r\n",
       "<th>col3</th>\r\n",
       "<th>col4</th>\r\n",
       "</tr>\r\n",
       "<tr><td>val1</td>\r\n",
       "    <td>val2</td>\r\n",
       "    <td>val3</td>\r\n",
       "    <td>val4</td>\r\n",
       "</tr>\r\n",
       "<tr><td>valu1</td>\r\n",
       "    <td>value2</td>\r\n",
       "    <td>value3</td>\r\n",
       "    <td>val4</td>\r\n",
       "</tr></table>"
      ]
     },
     "execution_count": 34,
     "metadata": {},
     "output_type": "execute_result"
    }
   ],
   "source": [
    "(bokeh_piechart_test;test_html_table;)|html"
   ]
  },
  {
   "cell_type": "code",
   "execution_count": null,
   "metadata": {
    "collapsed": false
   },
   "outputs": [],
   "source": [
    "#output_notebook()\n",
    "\n",
    "#from bokeh.plotting import figure\n",
    "from bokeh.resources import CDN\n",
    "from bokeh.embed import file_html\n",
    "\n",
    "#plot = figure()\n",
    "#plot.circle([1,2], [3,4])\n",
    "\n",
    "p = figure(title=\"simple line example\", plot_height=300, plot_width=600, y_range=(-5,5))\n",
    "r = p.line(x, y, color=\"#2222aa\", line_width=3)\n",
    "\n",
    "html = file_html(r, CDN, \"my plot\")\n",
    "\n",
    "import IPython\n",
    "retval=IPython.display.HTML(html)"
   ]
  },
  {
   "cell_type": "code",
   "execution_count": null,
   "metadata": {
    "collapsed": true
   },
   "outputs": [],
   "source": [
    "p = figure(title=\"simple line example\", plot_height=300, plot_width=600, y_range=(-5,5))\n",
    "r = p.line(x, y, color=\"#2222aa\", line_width=3)\n",
    "\n",
    "def update(f, w=1, A=1, phi=0):\n",
    "    if   f == \"sin\": func = np.sin\n",
    "    elif f == \"cos\": func = np.cos\n",
    "    elif f == \"tan\": func = np.tan\n",
    "    r.data_source.data['y'] = A * func(w * x + phi)\n",
    "    push_notebook()\n",
    "    \n",
    "show(p)"
   ]
  },
  {
   "cell_type": "code",
   "execution_count": null,
   "metadata": {
    "collapsed": false
   },
   "outputs": [],
   "source": [
    "%%python\n",
    "\n",
    "#from bokeh.plotting import figure, output_file, show\n",
    "from bokeh.plotting import figure, output_notebook, show\n",
    "\n",
    "# prepare some data\n",
    "x = [1, 2, 3, 4, 5]\n",
    "y = [6, 7, 2, 4, 5]\n",
    "\n",
    "# output to static HTML file\n",
    "#output_file(\"lines.html\", title=\"line plot example\")\n",
    "output_notebook()\n",
    "\n",
    "# create a new plot with a title and axis labels\n",
    "p = figure(title=\"simple line example\", x_axis_label='x', y_axis_label='y')\n",
    "\n",
    "# add a line renderer with legend and line thickness\n",
    "p.line(x, y, legend=\"Temp.\", line_width=2)\n",
    "\n",
    "# show the results\n",
    "#hdl = show(p, browser=None)\n",
    "#p\n",
    "#show"
   ]
  },
  {
   "cell_type": "code",
   "execution_count": null,
   "metadata": {
    "collapsed": false
   },
   "outputs": [],
   "source": [
    "%%python\n",
    "\n",
    "from lightning import Lightning\n",
    "from numpy import random, asarray, sqrt, arctan2, pi, clip\n",
    "from seaborn import color_palette\n",
    "from sklearn import datasets\n",
    "from colorsys import hsv_to_rgb"
   ]
  },
  {
   "cell_type": "code",
   "execution_count": null,
   "metadata": {
    "collapsed": false
   },
   "outputs": [],
   "source": [
    "%%python\n",
    "from lightning import Lightning\n",
    "from numpy import random, asarray, sqrt, arctan2, pi, clip\n",
    "from seaborn import color_palette\n",
    "from sklearn import datasets\n",
    "from colorsys import hsv_to_rgb\n",
    "\n",
    "\n",
    "print(1)\n"
   ]
  },
  {
   "cell_type": "markdown",
   "metadata": {},
   "source": [
    "# Experimenting with templates"
   ]
  },
  {
   "cell_type": "code",
   "execution_count": null,
   "metadata": {
    "collapsed": false
   },
   "outputs": [],
   "source": [
    "source ~/.metakernelrc"
   ]
  },
  {
   "cell_type": "code",
   "execution_count": null,
   "metadata": {
    "collapsed": false
   },
   "outputs": [],
   "source": [
    "type test_alert_js"
   ]
  },
  {
   "cell_type": "code",
   "execution_count": null,
   "metadata": {
    "collapsed": false
   },
   "outputs": [],
   "source": [
    "test_alert_js \"BE WARNED\" \"ignored arguments\""
   ]
  },
  {
   "cell_type": "code",
   "execution_count": null,
   "metadata": {
    "collapsed": false
   },
   "outputs": [],
   "source": [
    "ls -altr *.csv"
   ]
  },
  {
   "cell_type": "code",
   "execution_count": null,
   "metadata": {
    "collapsed": false
   },
   "outputs": [],
   "source": [
    "date +%s"
   ]
  },
  {
   "cell_type": "code",
   "execution_count": null,
   "metadata": {
    "collapsed": false
   },
   "outputs": [],
   "source": [
    "type csv_d3piechart"
   ]
  },
  {
   "cell_type": "code",
   "execution_count": null,
   "metadata": {
    "collapsed": false
   },
   "outputs": [],
   "source": [
    "type csv_d3piechart_0"
   ]
  },
  {
   "cell_type": "code",
   "execution_count": null,
   "metadata": {
    "collapsed": false
   },
   "outputs": [],
   "source": [
    "csv_d3piechart_0 pop_age.csv"
   ]
  },
  {
   "cell_type": "code",
   "execution_count": null,
   "metadata": {
    "collapsed": false
   },
   "outputs": [],
   "source": [
    "du -a * | sort -nr | head -4 | awk 'BEGIN { print \"item,value\";}; { print $2\",\"$1;}' > du.csv"
   ]
  },
  {
   "cell_type": "code",
   "execution_count": null,
   "metadata": {
    "collapsed": false
   },
   "outputs": [],
   "source": [
    "source ~/.metakernelrc"
   ]
  },
  {
   "cell_type": "code",
   "execution_count": null,
   "metadata": {
    "collapsed": false
   },
   "outputs": [],
   "source": [
    "DU_MAX=10 du_d3piechart -a"
   ]
  },
  {
   "cell_type": "code",
   "execution_count": null,
   "metadata": {
    "collapsed": false
   },
   "outputs": [],
   "source": [
    "du_d3piechart -a"
   ]
  },
  {
   "cell_type": "code",
   "execution_count": null,
   "metadata": {
    "collapsed": false
   },
   "outputs": [],
   "source": [
    "du_d3piechart -s *"
   ]
  },
  {
   "cell_type": "code",
   "execution_count": null,
   "metadata": {
    "collapsed": false
   },
   "outputs": [],
   "source": [
    "DU_MAX=4 du_d3piechart -s *"
   ]
  },
  {
   "cell_type": "code",
   "execution_count": null,
   "metadata": {
    "collapsed": false,
    "scrolled": true
   },
   "outputs": [],
   "source": [
    "du -a * | sort -nr | head -4 | awk 'BEGIN { print \"item,value\";}; { print $2\",\"$1;}' | csv_d3piechart"
   ]
  },
  {
   "cell_type": "code",
   "execution_count": null,
   "metadata": {
    "collapsed": false
   },
   "outputs": [],
   "source": [
    "csv_d3piechart du.csv"
   ]
  },
  {
   "cell_type": "code",
   "execution_count": null,
   "metadata": {
    "collapsed": false
   },
   "outputs": [],
   "source": [
    "cat disk_usage.csv"
   ]
  },
  {
   "cell_type": "code",
   "execution_count": null,
   "metadata": {
    "collapsed": false
   },
   "outputs": [],
   "source": [
    "csv_d3piechart disk_usage.csv"
   ]
  },
  {
   "cell_type": "code",
   "execution_count": null,
   "metadata": {
    "collapsed": false
   },
   "outputs": [],
   "source": [
    "test_piechart_js disk_usage.csv"
   ]
  },
  {
   "cell_type": "code",
   "execution_count": null,
   "metadata": {
    "collapsed": false
   },
   "outputs": [],
   "source": [
    "echo \"graph A { a->b };\" | pydot"
   ]
  },
  {
   "cell_type": "code",
   "execution_count": null,
   "metadata": {
    "collapsed": false
   },
   "outputs": [],
   "source": [
    "echo \"digraph G { \n",
    "        a; \n",
    "        b; \n",
    "        c -> d; \n",
    "        a -> c; \n",
    "}\" | pydot"
   ]
  },
  {
   "cell_type": "code",
   "execution_count": null,
   "metadata": {
    "collapsed": false
   },
   "outputs": [],
   "source": [
    "echo 'graph graphname { \n",
    "                a -- b; \n",
    "                b -- c;\n",
    "                b -- d;\n",
    "                d -- a;\n",
    "        }' | pydot"
   ]
  },
  {
   "cell_type": "code",
   "execution_count": null,
   "metadata": {
    "collapsed": false
   },
   "outputs": [],
   "source": [
    "echo 'graph graphname {\n",
    "                rankdir=LR;  //Rank Direction Left to Right\n",
    "                a -- b; \n",
    "                b -- c;\n",
    "                b -- d;\n",
    "                d -- a;\n",
    "        }' | pydot"
   ]
  },
  {
   "cell_type": "code",
   "execution_count": null,
   "metadata": {
    "collapsed": false
   },
   "outputs": [],
   "source": [
    "echo 'digraph graphname{\n",
    "                a -> b;\n",
    "                b -> c;\n",
    "                a -> c;\n",
    "        }' | pydot"
   ]
  },
  {
   "cell_type": "code",
   "execution_count": null,
   "metadata": {
    "collapsed": false
   },
   "outputs": [],
   "source": [
    "echo 'digraph graphname{\n",
    "\n",
    "                T [label=\"Teacher\"]      // node T\n",
    "                P [label=\"Pupil\"]  // node P\n",
    "\n",
    "                T->P [label=\"Instructions\", fontcolor=darkgreen] // edge T->P\n",
    "}\n",
    "' | pydot"
   ]
  },
  {
   "cell_type": "code",
   "execution_count": null,
   "metadata": {
    "collapsed": false
   },
   "outputs": [],
   "source": [
    "echo 'digraph graphname {\n",
    "                T [label=\"Teacher\" color=Blue, fontcolor=Red, fontsize=24, shape=box]      // node T\n",
    "                P [label=\"Pupil\" color=Blue, fontcolor=Red, fontsize=24, shape=box]  // node P\n",
    "\n",
    "                T->P [label=\"Instructions\", fontcolor=darkgreen] // edge T->P\n",
    "}' | pydot"
   ]
  },
  {
   "cell_type": "code",
   "execution_count": null,
   "metadata": {
    "collapsed": false
   },
   "outputs": [],
   "source": [
    "echo 'digraph summary{\n",
    "                start [label=\"Start with a Node\"]\n",
    "                end [label=\"Draw your graph\", shape=box, style=filled, fillcolor=yellow]\n",
    "\n",
    "                start->next\n",
    "                start->warning \n",
    "                next->end [label=\"Getting Better...\", fontcolor=darkblue]\n",
    "\n",
    "}' | pydot"
   ]
  },
  {
   "cell_type": "code",
   "execution_count": 35,
   "metadata": {
    "collapsed": false
   },
   "outputs": [
    {
     "data": {
      "text/html": [
       "<?xml version=\"1.0\" encoding=\"UTF-8\" standalone=\"no\"?>\r\n",
       "<!DOCTYPE svg PUBLIC \"-//W3C//DTD SVG 1.1//EN\"\r\n",
       " \"http://www.w3.org/Graphics/SVG/1.1/DTD/svg11.dtd\">\r\n",
       "<!-- Generated by graphviz version 2.38.0 (20140413.2041)\r\n",
       " -->\r\n",
       "<!-- Title: summary Pages: 1 -->\r\n",
       "<svg width=\"452pt\" height=\"220pt\"\r\n",
       " viewBox=\"0.00 0.00 451.51 220.04\" xmlns=\"http://www.w3.org/2000/svg\" xmlns:xlink=\"http://www.w3.org/1999/xlink\">\r\n",
       "<g id=\"graph0\" class=\"graph\" transform=\"scale(1 1) rotate(0) translate(4 216.045)\">\r\n",
       "<title>summary</title>\r\n",
       "<polygon fill=\"white\" stroke=\"none\" points=\"-4,4 -4,-216.045 447.512,-216.045 447.512,4 -4,4\"/>\r\n",
       "<!-- start -->\r\n",
       "<g id=\"node1\" class=\"node\"><title>start</title>\r\n",
       "<ellipse fill=\"none\" stroke=\"black\" cx=\"235.5\" cy=\"-194.045\" rx=\"74.187\" ry=\"18\"/>\r\n",
       "<text text-anchor=\"middle\" x=\"235.5\" y=\"-190.345\" font-family=\"Times New Roman,serif\" font-size=\"14.00\">Start with a Node</text>\r\n",
       "</g>\r\n",
       "<!-- next -->\r\n",
       "<g id=\"node3\" class=\"node\"><title>next</title>\r\n",
       "<polygon fill=\"none\" stroke=\"black\" points=\"125,-131.022 0,-131.022 0,-95.0225 125,-95.0225 125,-131.022\"/>\r\n",
       "<text text-anchor=\"middle\" x=\"62.5\" y=\"-109.322\" font-family=\"Times New Roman,serif\" font-size=\"14.00\">Choose your shape</text>\r\n",
       "</g>\r\n",
       "<!-- start&#45;&gt;next -->\r\n",
       "<g id=\"edge1\" class=\"edge\"><title>start&#45;&gt;next</title>\r\n",
       "<path fill=\"none\" stroke=\"black\" d=\"M202.144,-177.809C175.742,-165.749 138.554,-148.762 109.193,-135.351\"/>\r\n",
       "<polygon fill=\"black\" stroke=\"black\" points=\"110.509,-132.104 99.9585,-131.133 107.6,-138.471 110.509,-132.104\"/>\r\n",
       "</g>\r\n",
       "<!-- warning -->\r\n",
       "<g id=\"node4\" class=\"node\"><title>warning</title>\r\n",
       "<polygon fill=\"green\" stroke=\"Blue\" points=\"443.524,-102.234 443.524,-123.811 355.642,-139.067 231.358,-139.067 143.476,-123.811 143.476,-102.234 231.358,-86.9775 355.642,-86.9775 443.524,-102.234\"/>\r\n",
       "<text text-anchor=\"middle\" x=\"293.5\" y=\"-106.822\" font-family=\"Times New Roman,serif\" font-size=\"24.00\" fill=\"Red\">Dont go overboard</text>\r\n",
       "</g>\r\n",
       "<!-- start&#45;&gt;warning -->\r\n",
       "<g id=\"edge2\" class=\"edge\"><title>start&#45;&gt;warning</title>\r\n",
       "<path fill=\"none\" stroke=\"black\" d=\"M247.8,-176.286C253.983,-167.862 261.702,-157.345 269.027,-147.366\"/>\r\n",
       "<polygon fill=\"black\" stroke=\"black\" points=\"271.948,-149.301 275.044,-139.168 266.305,-145.159 271.948,-149.301\"/>\r\n",
       "</g>\r\n",
       "<!-- end -->\r\n",
       "<g id=\"node2\" class=\"node\"><title>end</title>\r\n",
       "<polygon fill=\"yellow\" stroke=\"black\" points=\"118,-36 7,-36 7,-0 118,-0 118,-36\"/>\r\n",
       "<text text-anchor=\"middle\" x=\"62.5\" y=\"-14.3\" font-family=\"Times New Roman,serif\" font-size=\"14.00\">Draw your graph</text>\r\n",
       "</g>\r\n",
       "<!-- next&#45;&gt;end -->\r\n",
       "<g id=\"edge3\" class=\"edge\"><title>next&#45;&gt;end</title>\r\n",
       "<path fill=\"none\" stroke=\"black\" d=\"M62.5,-94.9607C62.5,-81.4087 62.5,-62.1903 62.5,-46.4756\"/>\r\n",
       "<polygon fill=\"black\" stroke=\"black\" points=\"66.0001,-46.2686 62.5,-36.2686 59.0001,-46.2686 66.0001,-46.2686\"/>\r\n",
       "<text text-anchor=\"middle\" x=\"107\" y=\"-57.8\" font-family=\"Times New Roman,serif\" font-size=\"14.00\" fill=\"darkblue\">Getting Better...</text>\r\n",
       "</g>\r\n",
       "</g>\r\n",
       "</svg>\r\n"
      ],
      "text/plain": [
       "<IPython.core.display.HTML object>"
      ]
     },
     "metadata": {},
     "output_type": "display_data"
    }
   ],
   "source": [
    "# Don't know how to put quote ' in \"Dont go overboard\"\n",
    "echo 'digraph summary{\n",
    "                start [label=\"Start with a Node\"]\n",
    "                end [label=\"Draw your graph\", shape=box, style=filled, fillcolor=yellow]\n",
    "                next [label=\"Choose your shape\", shape=box]\n",
    "                warning [label=\"Dont go overboard\", color=Blue, fontcolor=Red, fontsize=24, style=filled, fillcolor=green, shape=octagon]\n",
    "\n",
    "                start->next\n",
    "                start->warning \n",
    "                next->end [label=\"Getting Better...\", fontcolor=darkblue]\n",
    "\n",
    "}' | pydot"
   ]
  },
  {
   "cell_type": "code",
   "execution_count": 36,
   "metadata": {
    "collapsed": false
   },
   "outputs": [
    {
     "data": {
      "text/html": [
       "<?xml version=\"1.0\" encoding=\"UTF-8\" standalone=\"no\"?>\r\n",
       "<!DOCTYPE svg PUBLIC \"-//W3C//DTD SVG 1.1//EN\"\r\n",
       " \"http://www.w3.org/Graphics/SVG/1.1/DTD/svg11.dtd\">\r\n",
       "<!-- Generated by graphviz version 2.38.0 (20140413.2041)\r\n",
       " -->\r\n",
       "<!-- Title: G Pages: 1 -->\r\n",
       "<svg width=\"206pt\" height=\"116pt\"\r\n",
       " viewBox=\"0.00 0.00 206.00 116.00\" xmlns=\"http://www.w3.org/2000/svg\" xmlns:xlink=\"http://www.w3.org/1999/xlink\">\r\n",
       "<g id=\"graph0\" class=\"graph\" transform=\"scale(1 1) rotate(0) translate(4 112)\">\r\n",
       "<title>G</title>\r\n",
       "<polygon fill=\"azure\" stroke=\"none\" points=\"-4,4 -4,-112 202,-112 202,4 -4,4\"/>\r\n",
       "<!-- zero -->\r\n",
       "<g id=\"node1\" class=\"node\"><title>zero</title>\r\n",
       "<polygon fill=\"#b2dfee\" stroke=\"#b2dfee\" points=\"126,-108 72,-108 72,-72 126,-72 126,-108\"/>\r\n",
       "<text text-anchor=\"middle\" x=\"99\" y=\"-86.3\" font-family=\"Times New Roman,serif\" font-size=\"14.00\">zero</text>\r\n",
       "</g>\r\n",
       "<!-- dix -->\r\n",
       "<g id=\"node2\" class=\"node\"><title>dix</title>\r\n",
       "<polygon fill=\"#b2dfee\" stroke=\"#b2dfee\" points=\"72,-36 18,-36 18,-0 72,-0 72,-36\"/>\r\n",
       "<text text-anchor=\"middle\" x=\"45\" y=\"-14.3\" font-family=\"Times New Roman,serif\" font-size=\"14.00\">dix</text>\r\n",
       "</g>\r\n",
       "<!-- zero&#45;&gt;dix -->\r\n",
       "<g id=\"edge1\" class=\"edge\"><title>zero&#45;&gt;dix</title>\r\n",
       "<path fill=\"none\" stroke=\"gold\" d=\"M85.6517,-71.6966C81.0742,-65.7628 75.7863,-58.9082 70.5698,-52.146\"/>\r\n",
       "<polygon fill=\"gold\" stroke=\"gold\" points=\"75.9534,-47.6644 58.1948,-36.1043 64.8684,-56.2156 75.9534,-47.6644\"/>\r\n",
       "</g>\r\n",
       "<!-- vingt -->\r\n",
       "<g id=\"node4\" class=\"node\"><title>vingt</title>\r\n",
       "<polygon fill=\"#b2dfee\" stroke=\"#b2dfee\" points=\"180,-36 126,-36 126,-0 180,-0 180,-36\"/>\r\n",
       "<text text-anchor=\"middle\" x=\"153\" y=\"-14.3\" font-family=\"Times New Roman,serif\" font-size=\"14.00\">vingt</text>\r\n",
       "</g>\r\n",
       "<!-- zero&#45;&gt;vingt -->\r\n",
       "<g id=\"edge3\" class=\"edge\"><title>zero&#45;&gt;vingt</title>\r\n",
       "<path fill=\"none\" stroke=\"gold\" d=\"M112.348,-71.6966C116.926,-65.7628 122.214,-58.9082 127.43,-52.146\"/>\r\n",
       "<polygon fill=\"gold\" stroke=\"gold\" points=\"133.132,-56.2156 139.805,-36.1043 122.047,-47.6644 133.132,-56.2156\"/>\r\n",
       "</g>\r\n",
       "<!-- un -->\r\n",
       "<g id=\"node3\" class=\"node\"><title>un</title>\r\n",
       "<polygon fill=\"#b2dfee\" stroke=\"#b2dfee\" points=\"54,-108 0,-108 0,-72 54,-72 54,-108\"/>\r\n",
       "<text text-anchor=\"middle\" x=\"27\" y=\"-86.3\" font-family=\"Times New Roman,serif\" font-size=\"14.00\">un</text>\r\n",
       "</g>\r\n",
       "<!-- un&#45;&gt;dix -->\r\n",
       "<g id=\"edge2\" class=\"edge\"><title>un&#45;&gt;dix</title>\r\n",
       "<path fill=\"none\" stroke=\"gold\" d=\"M31.4494,-71.6966C32.7137,-66.7801 34.1405,-61.2313 35.5817,-55.6267\"/>\r\n",
       "<polygon fill=\"gold\" stroke=\"gold\" points=\"42.4003,-57.2175 40.6017,-36.1043 28.8414,-53.7309 42.4003,-57.2175\"/>\r\n",
       "</g>\r\n",
       "<!-- deux -->\r\n",
       "<g id=\"node5\" class=\"node\"><title>deux</title>\r\n",
       "<polygon fill=\"#b2dfee\" stroke=\"#b2dfee\" points=\"198,-108 144,-108 144,-72 198,-72 198,-108\"/>\r\n",
       "<text text-anchor=\"middle\" x=\"171\" y=\"-86.3\" font-family=\"Times New Roman,serif\" font-size=\"14.00\">deux</text>\r\n",
       "</g>\r\n",
       "<!-- deux&#45;&gt;vingt -->\r\n",
       "<g id=\"edge4\" class=\"edge\"><title>deux&#45;&gt;vingt</title>\r\n",
       "<path fill=\"none\" stroke=\"gold\" d=\"M166.551,-71.6966C165.286,-66.7801 163.859,-61.2313 162.418,-55.6267\"/>\r\n",
       "<polygon fill=\"gold\" stroke=\"gold\" points=\"169.159,-53.7309 157.398,-36.1043 155.6,-57.2175 169.159,-53.7309\"/>\r\n",
       "</g>\r\n",
       "</g>\r\n",
       "</svg>\r\n"
      ],
      "text/plain": [
       "<IPython.core.display.HTML object>"
      ]
     },
     "metadata": {},
     "output_type": "display_data"
    }
   ],
   "source": [
    "echo 'digraph G { \n",
    "        bgcolor=azure; \n",
    "        node [shape=box, color=lightblue2, style=filled]; \n",
    "        edge [arrowsize=2, color=gold]; \n",
    "        \"zero\" -> \"dix\"; \n",
    "        \"un\" -> \"dix\"; \n",
    "        \"zero\" -> \"vingt\"; \n",
    "        \"deux\" -> \"vingt\"; \n",
    "} ' | pydot"
   ]
  },
  {
   "cell_type": "code",
   "execution_count": null,
   "metadata": {
    "collapsed": false
   },
   "outputs": [],
   "source": [
    "echo 'digraph G { \n",
    "        bgcolor=azure; \n",
    "        node [shape=box, color=lightblue2, style=filled]; \n",
    "        edge [arrowsize=2, color=gold]; \n",
    "        \"zero\" -> \"dix\" [color=purple]; \n",
    "        \"un\" -> \"dix\"; \n",
    "        \"zero\" -> \"vingt\"; \n",
    "        \"deux\" -> \"vingt\"; \n",
    "        \"zero\" [shape=circle, color=thistle1, fontcolor=purple]; \n",
    "}' | pydot"
   ]
  },
  {
   "cell_type": "code",
   "execution_count": null,
   "metadata": {
    "collapsed": false
   },
   "outputs": [],
   "source": [
    "echo 'digraph G { \n",
    "        graph [bgcolor=lightyellow2, splines=true]; \n",
    "        edge [color=red, arrowsize=2]; \n",
    "        node [color=yellow, style=filled, shape=polygon, sides=6, fontname=\"Verdana\"]; \n",
    "        A1 -> A3 [label=\"est parrain de\", arrowtail=dot, arrowhead=open]; \n",
    "        A3 -> A5; \n",
    "        A3 -> A6; \n",
    "        A2 -> A4; \n",
    "        A1 [label=\"Hugo\", shape=circle, color=blue, fontcolor=white]; \n",
    "        A2 [label=\"Boris\"]; \n",
    "        A3 [label=\"Cécile\"]; \n",
    "        A4 [label=\"François\"]; \n",
    "        A5 [label=\"Frank\"]; \n",
    "        A6 [label=\"Elise\"]; \n",
    "} ' | pydot"
   ]
  },
  {
   "cell_type": "code",
   "execution_count": null,
   "metadata": {
    "collapsed": false
   },
   "outputs": [],
   "source": [
    "echo 'digraph G { \n",
    "        edge [color=red, arrowsize=2]; \n",
    "        node [color=lightyellow2, style=filled]; \n",
    "        A1 -> A3; \n",
    "        A3 -> A5; \n",
    "        A3 -> A6; \n",
    "        A2 -> A4; \n",
    "        A1 [label=\"Hugo\"]; \n",
    "        A2 [label=\"Boris\"]; \n",
    "        A3 [label=\"Cécile\"]; \n",
    "        A4 [label=\"François\"]; \n",
    "        A5 [label=\"Frank\"]; \n",
    "        A6 [label=\"Elise\"]; \n",
    "} ' | pydot"
   ]
  },
  {
   "cell_type": "code",
   "execution_count": null,
   "metadata": {
    "collapsed": false
   },
   "outputs": [],
   "source": [
    "echo 'graph G { \n",
    "        a -- b -- c -- d -- e; \n",
    "        1 -- {2; 3; 4; 5; 6; 7;} \n",
    "}' | pydot"
   ]
  },
  {
   "cell_type": "code",
   "execution_count": 37,
   "metadata": {
    "collapsed": false
   },
   "outputs": [
    {
     "data": {
      "text/html": [
       "<?xml version=\"1.0\" encoding=\"UTF-8\" standalone=\"no\"?>\r\n",
       "<!DOCTYPE svg PUBLIC \"-//W3C//DTD SVG 1.1//EN\"\r\n",
       " \"http://www.w3.org/Graphics/SVG/1.1/DTD/svg11.dtd\">\r\n",
       "<!-- Generated by graphviz version 2.38.0 (20140413.2041)\r\n",
       " -->\r\n",
       "<!-- Title: G Pages: 1 -->\r\n",
       "<svg width=\"170pt\" height=\"260pt\"\r\n",
       " viewBox=\"0.00 0.00 170.00 260.00\" xmlns=\"http://www.w3.org/2000/svg\" xmlns:xlink=\"http://www.w3.org/1999/xlink\">\r\n",
       "<g id=\"graph0\" class=\"graph\" transform=\"scale(1 1) rotate(0) translate(4 256)\">\r\n",
       "<title>G</title>\r\n",
       "<polygon fill=\"white\" stroke=\"none\" points=\"-4,4 -4,-256 166,-256 166,4 -4,4\"/>\r\n",
       "<!-- root -->\r\n",
       "<g id=\"node1\" class=\"node\"><title>root</title>\r\n",
       "<ellipse fill=\"#eeeed1\" stroke=\"#eeeed1\" cx=\"63\" cy=\"-234\" rx=\"56.59\" ry=\"18\"/>\r\n",
       "<text text-anchor=\"middle\" x=\"63\" y=\"-230.3\" font-family=\"Times New Roman,serif\" font-size=\"14.00\">/tmp/findtest</text>\r\n",
       "</g>\r\n",
       "<!-- f1 -->\r\n",
       "<g id=\"node2\" class=\"node\"><title>f1</title>\r\n",
       "<ellipse fill=\"#eeeed1\" stroke=\"#eeeed1\" cx=\"27\" cy=\"-162\" rx=\"27\" ry=\"18\"/>\r\n",
       "<text text-anchor=\"middle\" x=\"27\" y=\"-158.3\" font-family=\"Times New Roman,serif\" font-size=\"14.00\">file1</text>\r\n",
       "</g>\r\n",
       "<!-- root&#45;&gt;f1 -->\r\n",
       "<g id=\"edge1\" class=\"edge\"><title>root&#45;&gt;f1</title>\r\n",
       "<path fill=\"none\" stroke=\"blue\" d=\"M54.2854,-216.055C51.3689,-210.384 48.0045,-203.842 44.6559,-197.331\"/>\r\n",
       "<polygon fill=\"blue\" stroke=\"blue\" points=\"50.7585,-193.891 35.3865,-179.307 38.3085,-200.294 50.7585,-193.891\"/>\r\n",
       "</g>\r\n",
       "<!-- f2 -->\r\n",
       "<g id=\"node3\" class=\"node\"><title>f2</title>\r\n",
       "<ellipse fill=\"#eeeed1\" stroke=\"#eeeed1\" cx=\"99\" cy=\"-162\" rx=\"27\" ry=\"18\"/>\r\n",
       "<text text-anchor=\"middle\" x=\"99\" y=\"-158.3\" font-family=\"Times New Roman,serif\" font-size=\"14.00\">file2</text>\r\n",
       "</g>\r\n",
       "<!-- root&#45;&gt;f2 -->\r\n",
       "<g id=\"edge2\" class=\"edge\"><title>root&#45;&gt;f2</title>\r\n",
       "<path fill=\"none\" stroke=\"blue\" d=\"M71.7146,-216.055C74.6311,-210.384 77.9955,-203.842 81.3441,-197.331\"/>\r\n",
       "<polygon fill=\"blue\" stroke=\"blue\" points=\"87.6915,-200.294 90.6135,-179.307 75.2415,-193.891 87.6915,-200.294\"/>\r\n",
       "</g>\r\n",
       "<!-- f4 -->\r\n",
       "<g id=\"node4\" class=\"node\"><title>f4</title>\r\n",
       "<ellipse fill=\"#eeeed1\" stroke=\"#eeeed1\" cx=\"27\" cy=\"-90\" rx=\"27\" ry=\"18\"/>\r\n",
       "<text text-anchor=\"middle\" x=\"27\" y=\"-86.3\" font-family=\"Times New Roman,serif\" font-size=\"14.00\">file4</text>\r\n",
       "</g>\r\n",
       "<!-- f1&#45;&gt;f4 -->\r\n",
       "<g id=\"edge3\" class=\"edge\"><title>f1&#45;&gt;f4</title>\r\n",
       "<path fill=\"none\" stroke=\"blue\" d=\"M27,-143.697C27,-138.95 27,-133.613 27,-128.206\"/>\r\n",
       "<polygon fill=\"blue\" stroke=\"blue\" points=\"34.0001,-128.104 27,-108.104 20.0001,-128.104 34.0001,-128.104\"/>\r\n",
       "</g>\r\n",
       "<!-- f3 -->\r\n",
       "<g id=\"node5\" class=\"node\"><title>f3</title>\r\n",
       "<ellipse fill=\"#eeeed1\" stroke=\"#eeeed1\" cx=\"99\" cy=\"-90\" rx=\"27\" ry=\"18\"/>\r\n",
       "<text text-anchor=\"middle\" x=\"99\" y=\"-86.3\" font-family=\"Times New Roman,serif\" font-size=\"14.00\">file3</text>\r\n",
       "</g>\r\n",
       "<!-- f2&#45;&gt;f3 -->\r\n",
       "<g id=\"edge6\" class=\"edge\"><title>f2&#45;&gt;f3</title>\r\n",
       "<path fill=\"none\" stroke=\"blue\" d=\"M99,-143.697C99,-138.95 99,-133.613 99,-128.206\"/>\r\n",
       "<polygon fill=\"blue\" stroke=\"blue\" points=\"106,-128.104 99,-108.104 92.0001,-128.104 106,-128.104\"/>\r\n",
       "</g>\r\n",
       "<!-- f5 -->\r\n",
       "<g id=\"node6\" class=\"node\"><title>f5</title>\r\n",
       "<ellipse fill=\"#eeeed1\" stroke=\"#eeeed1\" cx=\"63\" cy=\"-18\" rx=\"27\" ry=\"18\"/>\r\n",
       "<text text-anchor=\"middle\" x=\"63\" y=\"-14.3\" font-family=\"Times New Roman,serif\" font-size=\"14.00\">file5</text>\r\n",
       "</g>\r\n",
       "<!-- f3&#45;&gt;f5 -->\r\n",
       "<g id=\"edge4\" class=\"edge\"><title>f3&#45;&gt;f5</title>\r\n",
       "<path fill=\"none\" stroke=\"blue\" d=\"M90.6504,-72.7646C87.6061,-66.8453 84.039,-59.9092 80.4978,-53.0236\"/>\r\n",
       "<polygon fill=\"blue\" stroke=\"blue\" points=\"86.6764,-49.7316 71.3043,-35.1473 74.2263,-56.1345 86.6764,-49.7316\"/>\r\n",
       "</g>\r\n",
       "<!-- f6 -->\r\n",
       "<g id=\"node7\" class=\"node\"><title>f6</title>\r\n",
       "<ellipse fill=\"#eeeed1\" stroke=\"#eeeed1\" cx=\"135\" cy=\"-18\" rx=\"27\" ry=\"18\"/>\r\n",
       "<text text-anchor=\"middle\" x=\"135\" y=\"-14.3\" font-family=\"Times New Roman,serif\" font-size=\"14.00\">file6</text>\r\n",
       "</g>\r\n",
       "<!-- f3&#45;&gt;f6 -->\r\n",
       "<g id=\"edge5\" class=\"edge\"><title>f3&#45;&gt;f6</title>\r\n",
       "<path fill=\"none\" stroke=\"blue\" d=\"M107.35,-72.7646C110.394,-66.8453 113.961,-59.9092 117.502,-53.0236\"/>\r\n",
       "<polygon fill=\"blue\" stroke=\"blue\" points=\"123.774,-56.1345 126.696,-35.1473 111.324,-49.7316 123.774,-56.1345\"/>\r\n",
       "</g>\r\n",
       "</g>\r\n",
       "</svg>\r\n"
      ],
      "text/plain": [
       "<IPython.core.display.HTML object>"
      ]
     },
     "metadata": {},
     "output_type": "display_data"
    }
   ],
   "source": [
    "echo 'digraph G { \n",
    "        edge [color=blue, arrowsize=2]; \n",
    "        node [color=lightyellow2, style=filled]; \n",
    "        root -> f1; \n",
    "        root -> f2; \n",
    "        f1 -> f4;\n",
    "        f3 -> f5; \n",
    "        f3 -> f6; \n",
    "        f2 -> f3; \n",
    "        root [label=\"/tmp/findtest\"]; \n",
    "        f1 [label=\"file1\"]; \n",
    "        f2 [label=\"file2\"]; \n",
    "        f3 [label=\"file3\"]; \n",
    "        f4 [label=\"file4\"]; \n",
    "        f5 [label=\"file5\"]; \n",
    "        f6 [label=\"file6\"]; \n",
    "} ' | pydot"
   ]
  },
  {
   "cell_type": "code",
   "execution_count": 38,
   "metadata": {
    "collapsed": false
   },
   "outputs": [
    {
     "data": {
      "text/html": [
       "<?xml version=\"1.0\" encoding=\"UTF-8\" standalone=\"no\"?>\r\n",
       "<!DOCTYPE svg PUBLIC \"-//W3C//DTD SVG 1.1//EN\"\r\n",
       " \"http://www.w3.org/Graphics/SVG/1.1/DTD/svg11.dtd\">\r\n",
       "<!-- Generated by graphviz version 2.38.0 (20140413.2041)\r\n",
       " -->\r\n",
       "<!-- Title: G Pages: 1 -->\r\n",
       "<svg width=\"350pt\" height=\"188pt\"\r\n",
       " viewBox=\"0.00 0.00 350.00 188.00\" xmlns=\"http://www.w3.org/2000/svg\" xmlns:xlink=\"http://www.w3.org/1999/xlink\">\r\n",
       "<g id=\"graph0\" class=\"graph\" transform=\"scale(1 1) rotate(0) translate(4 184)\">\r\n",
       "<title>G</title>\r\n",
       "<polygon fill=\"white\" stroke=\"none\" points=\"-4,4 -4,-184 346,-184 346,4 -4,4\"/>\r\n",
       "<!-- _tmp_findtest -->\r\n",
       "<g id=\"node1\" class=\"node\"><title>_tmp_findtest</title>\r\n",
       "<ellipse fill=\"#eeeed1\" stroke=\"#eeeed1\" cx=\"243\" cy=\"-162\" rx=\"56.59\" ry=\"18\"/>\r\n",
       "<text text-anchor=\"middle\" x=\"243\" y=\"-158.3\" font-family=\"Times New Roman,serif\" font-size=\"14.00\">/tmp/findtest</text>\r\n",
       "</g>\r\n",
       "<!-- _tmp_findtest_dir1 -->\r\n",
       "<g id=\"node2\" class=\"node\"><title>_tmp_findtest_dir1</title>\r\n",
       "<ellipse fill=\"#eeeed1\" stroke=\"#eeeed1\" cx=\"135\" cy=\"-90\" rx=\"27\" ry=\"18\"/>\r\n",
       "<text text-anchor=\"middle\" x=\"135\" y=\"-86.3\" font-family=\"Times New Roman,serif\" font-size=\"14.00\">dir1</text>\r\n",
       "</g>\r\n",
       "<!-- _tmp_findtest&#45;&gt;_tmp_findtest_dir1 -->\r\n",
       "<g id=\"edge1\" class=\"edge\"><title>_tmp_findtest&#45;&gt;_tmp_findtest_dir1</title>\r\n",
       "<path fill=\"none\" stroke=\"blue\" d=\"M219.299,-145.638C205.03,-136.39 186.587,-124.436 170.592,-114.069\"/>\r\n",
       "<polygon fill=\"blue\" stroke=\"blue\" points=\"174.222,-108.08 153.632,-103.076 166.608,-119.828 174.222,-108.08\"/>\r\n",
       "</g>\r\n",
       "<!-- _tmp_findtest_dir2 -->\r\n",
       "<g id=\"node6\" class=\"node\"><title>_tmp_findtest_dir2</title>\r\n",
       "<ellipse fill=\"#eeeed1\" stroke=\"#eeeed1\" cx=\"243\" cy=\"-90\" rx=\"27\" ry=\"18\"/>\r\n",
       "<text text-anchor=\"middle\" x=\"243\" y=\"-86.3\" font-family=\"Times New Roman,serif\" font-size=\"14.00\">dir2</text>\r\n",
       "</g>\r\n",
       "<!-- _tmp_findtest&#45;&gt;_tmp_findtest_dir2 -->\r\n",
       "<g id=\"edge5\" class=\"edge\"><title>_tmp_findtest&#45;&gt;_tmp_findtest_dir2</title>\r\n",
       "<path fill=\"none\" stroke=\"blue\" d=\"M243,-143.697C243,-138.95 243,-133.613 243,-128.206\"/>\r\n",
       "<polygon fill=\"blue\" stroke=\"blue\" points=\"250,-128.104 243,-108.104 236,-128.104 250,-128.104\"/>\r\n",
       "</g>\r\n",
       "<!-- _tmp_findtest_file1 -->\r\n",
       "<g id=\"node9\" class=\"node\"><title>_tmp_findtest_file1</title>\r\n",
       "<ellipse fill=\"#eeeed1\" stroke=\"#eeeed1\" cx=\"315\" cy=\"-90\" rx=\"27\" ry=\"18\"/>\r\n",
       "<text text-anchor=\"middle\" x=\"315\" y=\"-86.3\" font-family=\"Times New Roman,serif\" font-size=\"14.00\">file1</text>\r\n",
       "</g>\r\n",
       "<!-- _tmp_findtest&#45;&gt;_tmp_findtest_file1 -->\r\n",
       "<g id=\"edge8\" class=\"edge\"><title>_tmp_findtest&#45;&gt;_tmp_findtest_file1</title>\r\n",
       "<path fill=\"none\" stroke=\"blue\" d=\"M259.699,-144.765C267.481,-137.199 276.97,-127.974 285.876,-119.315\"/>\r\n",
       "<polygon fill=\"blue\" stroke=\"blue\" points=\"290.883,-124.21 300.343,-105.25 281.123,-114.173 290.883,-124.21\"/>\r\n",
       "</g>\r\n",
       "<!-- _tmp_findtest_dir1_file1 -->\r\n",
       "<g id=\"node3\" class=\"node\"><title>_tmp_findtest_dir1_file1</title>\r\n",
       "<ellipse fill=\"#eeeed1\" stroke=\"#eeeed1\" cx=\"27\" cy=\"-18\" rx=\"27\" ry=\"18\"/>\r\n",
       "<text text-anchor=\"middle\" x=\"27\" y=\"-14.3\" font-family=\"Times New Roman,serif\" font-size=\"14.00\">file1</text>\r\n",
       "</g>\r\n",
       "<!-- _tmp_findtest_dir1&#45;&gt;_tmp_findtest_dir1_file1 -->\r\n",
       "<g id=\"edge2\" class=\"edge\"><title>_tmp_findtest_dir1&#45;&gt;_tmp_findtest_dir1_file1</title>\r\n",
       "<path fill=\"none\" stroke=\"blue\" d=\"M116.188,-76.8069C101.398,-67.2211 80.3714,-53.5926 62.4484,-41.9758\"/>\r\n",
       "<polygon fill=\"blue\" stroke=\"blue\" points=\"66.1869,-36.0572 45.5966,-31.0533 58.5724,-47.8054 66.1869,-36.0572\"/>\r\n",
       "</g>\r\n",
       "<!-- _tmp_findtest_dir1_file2 -->\r\n",
       "<g id=\"node4\" class=\"node\"><title>_tmp_findtest_dir1_file2</title>\r\n",
       "<ellipse fill=\"#eeeed1\" stroke=\"#eeeed1\" cx=\"99\" cy=\"-18\" rx=\"27\" ry=\"18\"/>\r\n",
       "<text text-anchor=\"middle\" x=\"99\" y=\"-14.3\" font-family=\"Times New Roman,serif\" font-size=\"14.00\">file2</text>\r\n",
       "</g>\r\n",
       "<!-- _tmp_findtest_dir1&#45;&gt;_tmp_findtest_dir1_file2 -->\r\n",
       "<g id=\"edge3\" class=\"edge\"><title>_tmp_findtest_dir1&#45;&gt;_tmp_findtest_dir1_file2</title>\r\n",
       "<path fill=\"none\" stroke=\"blue\" d=\"M126.65,-72.7646C123.606,-66.8453 120.039,-59.9092 116.498,-53.0236\"/>\r\n",
       "<polygon fill=\"blue\" stroke=\"blue\" points=\"122.676,-49.7316 107.304,-35.1473 110.226,-56.1345 122.676,-49.7316\"/>\r\n",
       "</g>\r\n",
       "<!-- _tmp_findtest_dir1_file3 -->\r\n",
       "<g id=\"node5\" class=\"node\"><title>_tmp_findtest_dir1_file3</title>\r\n",
       "<ellipse fill=\"#eeeed1\" stroke=\"#eeeed1\" cx=\"171\" cy=\"-18\" rx=\"27\" ry=\"18\"/>\r\n",
       "<text text-anchor=\"middle\" x=\"171\" y=\"-14.3\" font-family=\"Times New Roman,serif\" font-size=\"14.00\">file3</text>\r\n",
       "</g>\r\n",
       "<!-- _tmp_findtest_dir1&#45;&gt;_tmp_findtest_dir1_file3 -->\r\n",
       "<g id=\"edge4\" class=\"edge\"><title>_tmp_findtest_dir1&#45;&gt;_tmp_findtest_dir1_file3</title>\r\n",
       "<path fill=\"none\" stroke=\"blue\" d=\"M143.35,-72.7646C146.394,-66.8453 149.961,-59.9092 153.502,-53.0236\"/>\r\n",
       "<polygon fill=\"blue\" stroke=\"blue\" points=\"159.774,-56.1345 162.696,-35.1473 147.324,-49.7316 159.774,-56.1345\"/>\r\n",
       "</g>\r\n",
       "<!-- _tmp_findtest_dir2_file1 -->\r\n",
       "<g id=\"node7\" class=\"node\"><title>_tmp_findtest_dir2_file1</title>\r\n",
       "<ellipse fill=\"#eeeed1\" stroke=\"#eeeed1\" cx=\"243\" cy=\"-18\" rx=\"27\" ry=\"18\"/>\r\n",
       "<text text-anchor=\"middle\" x=\"243\" y=\"-14.3\" font-family=\"Times New Roman,serif\" font-size=\"14.00\">file1</text>\r\n",
       "</g>\r\n",
       "<!-- _tmp_findtest_dir2&#45;&gt;_tmp_findtest_dir2_file1 -->\r\n",
       "<g id=\"edge6\" class=\"edge\"><title>_tmp_findtest_dir2&#45;&gt;_tmp_findtest_dir2_file1</title>\r\n",
       "<path fill=\"none\" stroke=\"blue\" d=\"M243,-71.6966C243,-66.9496 243,-61.6132 243,-56.2063\"/>\r\n",
       "<polygon fill=\"blue\" stroke=\"blue\" points=\"250,-56.1043 243,-36.1043 236,-56.1044 250,-56.1043\"/>\r\n",
       "</g>\r\n",
       "<!-- _tmp_findtest_dir2_file2 -->\r\n",
       "<g id=\"node8\" class=\"node\"><title>_tmp_findtest_dir2_file2</title>\r\n",
       "<ellipse fill=\"#eeeed1\" stroke=\"#eeeed1\" cx=\"315\" cy=\"-18\" rx=\"27\" ry=\"18\"/>\r\n",
       "<text text-anchor=\"middle\" x=\"315\" y=\"-14.3\" font-family=\"Times New Roman,serif\" font-size=\"14.00\">file2</text>\r\n",
       "</g>\r\n",
       "<!-- _tmp_findtest_dir2&#45;&gt;_tmp_findtest_dir2_file2 -->\r\n",
       "<g id=\"edge7\" class=\"edge\"><title>_tmp_findtest_dir2&#45;&gt;_tmp_findtest_dir2_file2</title>\r\n",
       "<path fill=\"none\" stroke=\"blue\" d=\"M257.57,-74.8345C265.617,-67.0112 275.91,-57.0044 285.553,-47.6289\"/>\r\n",
       "<polygon fill=\"blue\" stroke=\"blue\" points=\"290.744,-52.3453 300.204,-33.3847 280.985,-42.3074 290.744,-52.3453\"/>\r\n",
       "</g>\r\n",
       "</g>\r\n",
       "</svg>\r\n"
      ],
      "text/plain": [
       "<IPython.core.display.HTML object>"
      ]
     },
     "metadata": {},
     "output_type": "display_data"
    }
   ],
   "source": [
    "rm -rf /tmp/findtest\n",
    "\n",
    "mkdir -p /tmp/findtest/\n",
    "touch /tmp/findtest/file1\n",
    "mkdir /tmp/findtest/dir1\n",
    "  touch /tmp/findtest/dir1/file1\n",
    "  touch /tmp/findtest/dir1/file2\n",
    "  touch /tmp/findtest/dir1/file3\n",
    "mkdir /tmp/findtest/dir2\n",
    "  touch /tmp/findtest/dir2/file1\n",
    "  touch /tmp/findtest/dir2/file2\n",
    "\n",
    "find /tmp/findtest | perl -ne '\n",
    "  BEGIN {\n",
    "    print \"digraph G {\\n  edge [color=blue, arrowsize=2];\\n  node [color=lightyellow2, style=filled];\\n\";\n",
    "  };\n",
    "\n",
    "  chomp();\n",
    "  if (!defined($ROOT)) {\n",
    "    $ROOT=\"$_\"; $ROOT =~ s/\\//_/g;\n",
    "    $ROOTLABEL=$_;\n",
    "    $NODES{$ROOT}=\"root\";\n",
    "    print \"\\n  $ROOT [label=\\\"$ROOTLABEL\\\"];\\n\"; \n",
    "  } else {\n",
    "    m/^(.+)\\/([^\\/]+)/;\n",
    "    ($PARENT,$CHILD)=($1,$2);\n",
    "    $NODE = $_;\n",
    "    $NODE =~ s/\\//_/g;\n",
    "    $PARENTNODE = $PARENT;\n",
    "    $PARENTNODE =~ s/\\//_/g;\n",
    "\n",
    "    $NODES{$NODE}=$CHILD;\n",
    "    print \"  $PARENTNODE -> $NODE;\\n\";\n",
    "    print \"\\n  $NODE [label=\\\"$CHILD\\\"];\\n\"; \n",
    "};\n",
    "\n",
    "END { print \"}\\n\"; }; ' | pydot"
   ]
  },
  {
   "cell_type": "code",
   "execution_count": null,
   "metadata": {
    "collapsed": false
   },
   "outputs": [],
   "source": [
    "reread_local_metakernelrc"
   ]
  },
  {
   "cell_type": "code",
   "execution_count": null,
   "metadata": {
    "collapsed": false
   },
   "outputs": [],
   "source": [
    "rm -rf /tmp/findtest\n",
    "\n",
    "mkdir -p /tmp/findtest/\n",
    "touch /tmp/findtest/file1\n",
    "mkdir /tmp/findtest/dir1\n",
    "  touch /tmp/findtest/dir1/file1\n",
    "  touch /tmp/findtest/dir1/file2\n",
    "  touch /tmp/findtest/dir1/file3\n",
    "mkdir /tmp/findtest/dir2\n",
    "  touch /tmp/findtest/dir2/file1\n",
    "  touch /tmp/findtest/dir2/file2\n",
    "\n",
    "source /home/mjbright/src/git/GIT_mjbright/metakernel/metakernel_bash/metakernelrc\n",
    "find /tmp/findtest | pydot_show_filetree"
   ]
  },
  {
   "cell_type": "code",
   "execution_count": null,
   "metadata": {
    "collapsed": false
   },
   "outputs": [],
   "source": [
    "reread_local_metakernelrc"
   ]
  },
  {
   "cell_type": "code",
   "execution_count": 39,
   "metadata": {
    "collapsed": false
   },
   "outputs": [
    {
     "data": {
      "text/html": [
       "<?xml version=\"1.0\" encoding=\"UTF-8\" standalone=\"no\"?>\r\n",
       "<!DOCTYPE svg PUBLIC \"-//W3C//DTD SVG 1.1//EN\"\r\n",
       " \"http://www.w3.org/Graphics/SVG/1.1/DTD/svg11.dtd\">\r\n",
       "<!-- Generated by graphviz version 2.38.0 (20140413.2041)\r\n",
       " -->\r\n",
       "<!-- Title: G Pages: 1 -->\r\n",
       "<svg width=\"960pt\" height=\"728pt\"\r\n",
       " viewBox=\"0.00 0.00 960.00 728.00\" xmlns=\"http://www.w3.org/2000/svg\" xmlns:xlink=\"http://www.w3.org/1999/xlink\">\r\n",
       "<g id=\"graph0\" class=\"graph\" transform=\"scale(1 1) rotate(0) translate(4 724)\">\r\n",
       "<title>G</title>\r\n",
       "<polygon fill=\"white\" stroke=\"none\" points=\"-4,4 -4,-724 956,-724 956,4 -4,4\"/>\r\n",
       "<g id=\"clust1\" class=\"cluster\"><title>cluster_01</title>\r\n",
       "<polygon fill=\"none\" stroke=\"black\" points=\"8,-334 8,-409 222,-409 222,-334 8,-334\"/>\r\n",
       "<text text-anchor=\"middle\" x=\"115\" y=\"-393.8\" font-family=\"Times New Roman,serif\" font-size=\"14.00\">Disk Usage under /tmp</text>\r\n",
       "</g>\r\n",
       "<!-- key3 -->\r\n",
       "<g id=\"node1\" class=\"node\"><title>key3</title>\r\n",
       "<polygon fill=\"lightgrey\" stroke=\"none\" points=\"214,-378 160,-378 160,-342 214,-342 214,-378\"/>\r\n",
       "<text text-anchor=\"middle\" x=\"187\" y=\"-356.3\" font-family=\"Times New Roman,serif\" font-size=\"14.00\">file1</text>\r\n",
       "</g>\r\n",
       "<!-- key2 -->\r\n",
       "<g id=\"node2\" class=\"node\"><title>key2</title>\r\n",
       "<polygon fill=\"lightgrey\" stroke=\"none\" points=\"142,-378 88,-378 88,-342 142,-342 142,-378\"/>\r\n",
       "<text text-anchor=\"middle\" x=\"115\" y=\"-356.3\" font-family=\"Times New Roman,serif\" font-size=\"14.00\">dir2/</text>\r\n",
       "</g>\r\n",
       "<!-- key1 -->\r\n",
       "<g id=\"node3\" class=\"node\"><title>key1</title>\r\n",
       "<polygon fill=\"lightgrey\" stroke=\"none\" points=\"70,-378 16,-378 16,-342 70,-342 70,-378\"/>\r\n",
       "<text text-anchor=\"middle\" x=\"43\" y=\"-356.3\" font-family=\"Times New Roman,serif\" font-size=\"14.00\">dir1/</text>\r\n",
       "</g>\r\n",
       "<!-- A -->\r\n",
       "<g id=\"node4\" class=\"node\"><title>A</title>\r\n",
       "<path fill=\"red\" stroke=\"black\" stroke-width=\"0.5\" d=\"M592,-360C592,-360 952,-360 952,-360 952,-363.534 951.948,-367.069 951.844,-370.601 951.74,-374.134 951.584,-377.665 951.376,-381.193 951.168,-384.722 950.908,-388.247 950.596,-391.767 950.284,-395.288 949.92,-398.804 949.505,-402.313 949.089,-405.823 948.622,-409.327 948.104,-412.823 947.585,-416.319 947.015,-419.807 946.394,-423.287 945.772,-426.766 945.1,-430.236 944.376,-433.695 943.653,-437.155 942.878,-440.604 942.053,-444.04 941.228,-447.477 940.352,-450.901 939.427,-454.312 938.501,-457.723 937.524,-461.12 936.499,-464.502 935.473,-467.885 934.397,-471.252 933.272,-474.602 932.147,-477.953 930.972,-481.286 929.749,-484.602 928.526,-487.918 927.254,-491.216 925.933,-494.494 924.613,-497.773 923.244,-501.031 921.828,-504.27 920.411,-507.508 918.947,-510.725 917.436,-513.92 915.925,-517.115 914.367,-520.287 912.762,-523.437 911.158,-526.586 909.507,-529.711 907.81,-532.812 906.114,-535.912 904.372,-538.987 902.584,-542.037 900.797,-545.086 898.965,-548.109 897.089,-551.104 895.213,-554.099 893.293,-557.067 891.329,-560.005 889.365,-562.944 887.359,-565.854 885.309,-568.733 883.26,-571.613 881.169,-574.462 879.035,-577.28 876.902,-580.098 874.728,-582.885 872.512,-585.639 870.297,-588.393 868.042,-591.114 865.746,-593.801 863.451,-596.489 861.116,-599.142 858.742,-601.761 856.369,-604.38 853.957,-606.964 851.507,-609.511 849.058,-612.059 846.571,-614.571 844.047,-617.045 841.524,-619.52 838.964,-621.957 836.368,-624.356 833.773,-626.755 831.142,-629.116 828.477,-631.438 825.813,-633.759 823.114,-636.042 820.382,-638.284 817.649,-640.526 814.885,-642.728 812.088,-644.889 809.291,-647.049 806.462,-649.169 803.603,-651.246 800.743,-653.324 797.854,-655.359 794.934,-657.351 792.015,-659.343 789.066,-661.293 786.09,-663.198 783.113,-665.104 780.108,-666.965 777.077,-668.782 774.045,-670.599 770.987,-672.372 767.904,-674.099 764.82,-675.826 761.711,-677.507 758.578,-679.142 755.444,-680.778 752.287,-682.367 749.107,-683.909 745.927,-685.452 742.725,-686.947 739.501,-688.395 736.277,-689.844 733.031,-691.244 729.766,-692.597 726.501,-693.949 723.216,-695.254 719.912,-696.509 716.608,-697.765 713.286,-698.972 709.947,-700.13 706.608,-701.288 703.251,-702.397 699.879,-703.456 696.508,-704.515 693.12,-705.525 689.719,-706.484 686.317,-707.443 682.901,-708.352 679.473,-709.211 676.044,-710.07 672.604,-710.878 669.151,-711.636 665.699,-712.393 662.236,-713.1 658.763,-713.755 655.29,-714.411 651.807,-715.015 648.316,-715.568 644.826,-716.121 641.327,-716.622 637.821,-717.072 634.316,-717.522 630.803,-717.92 627.286,-718.267 623.769,-718.613 620.247,-718.908 616.721,-719.15 613.195,-719.393 609.665,-719.584 606.134,-719.722 602.602,-719.861 599.068,-719.948 595.534,-719.983 592,-720.017 588.466,-720 584.932,-719.931 581.398,-719.861 577.866,-719.74 574.336,-719.566 570.806,-719.393 567.278,-719.168 563.755,-718.89 560.231,-718.613 556.712,-718.284 553.198,-717.903 549.685,-717.522 546.177,-717.089 542.676,-716.605 539.175,-716.121 535.681,-715.585 532.196,-714.998 528.71,-714.411 525.234,-713.772 521.767,-713.083 518.301,-712.393 514.845,-711.653 511.4,-710.861 507.956,-710.07 504.523,-709.228 501.103,-708.336 497.683,-707.443 494.277,-706.501 490.885,-705.508 487.493,-704.515 484.115,-703.473 480.754,-702.38 480.754,-702.38 592,-360 592,-360\"/>\r\n",
       "<path fill=\"green\" stroke=\"black\" stroke-width=\"0.5\" d=\"M592,-360C592,-360 480.754,-702.38 480.754,-702.38 477.392,-701.288 474.047,-700.147 470.72,-698.956 467.392,-697.765 464.082,-696.526 460.791,-695.237 457.499,-693.949 454.227,-692.613 450.975,-691.228 447.723,-689.844 444.492,-688.411 441.282,-686.932 438.073,-685.452 434.885,-683.925 431.72,-682.351 428.556,-680.778 425.414,-679.158 422.297,-677.492 419.18,-675.826 416.088,-674.114 413.021,-672.357 409.955,-670.599 406.914,-668.797 403.9,-666.95 400.887,-665.104 397.901,-663.213 394.943,-661.278 391.985,-659.343 389.056,-657.365 386.156,-655.345 383.257,-653.324 380.387,-651.26 377.548,-649.155 374.709,-647.049 371.902,-644.902 369.126,-642.714 366.351,-640.526 363.607,-638.297 360.897,-636.028 358.187,-633.759 355.511,-631.451 352.869,-629.103 350.227,-626.755 347.62,-624.369 345.048,-621.944 342.477,-619.52 339.941,-617.058 337.442,-614.558 334.942,-612.059 332.48,-609.523 330.056,-606.952 327.631,-604.38 325.245,-601.773 322.897,-599.131 320.549,-596.489 318.241,-593.813 315.972,-591.103 313.703,-588.393 311.474,-585.649 309.286,-582.874 307.098,-580.098 304.951,-577.291 302.845,-574.452 300.74,-571.613 298.676,-568.743 296.655,-565.844 294.635,-562.944 292.656,-560.015 290.722,-557.057 288.787,-554.099 286.896,-551.113 285.05,-548.099 283.203,-545.086 281.401,-542.045 279.643,-538.979 277.886,-535.912 276.174,-532.82 274.508,-529.703 272.842,-526.586 271.222,-523.444 269.649,-520.28 268.075,-517.115 266.548,-513.927 265.068,-510.717 263.589,-507.508 262.156,-504.276 260.772,-501.025 259.387,-497.773 258.051,-494.501 256.763,-491.209 255.474,-487.918 254.235,-484.608 253.044,-481.28 251.853,-477.953 250.712,-474.607 249.62,-471.246 248.527,-467.885 247.485,-464.507 246.492,-461.115 245.499,-457.723 244.557,-454.317 243.664,-450.897 242.772,-447.477 241.93,-444.044 241.139,-440.6 240.347,-437.155 239.607,-433.699 238.917,-430.232 238.228,-426.766 237.589,-423.29 237.002,-419.804 236.415,-416.319 235.879,-412.825 235.395,-409.324 234.911,-405.823 234.478,-402.315 234.097,-398.802 233.716,-395.288 233.387,-391.769 233.11,-388.245 232.832,-384.722 232.607,-381.194 232.434,-377.664 232.26,-374.134 232.139,-370.602 232.069,-367.068 232,-363.534 231.983,-360 232.017,-356.466 232.052,-352.932 232.139,-349.398 232.278,-345.866 232.416,-342.335 232.607,-338.805 232.85,-335.279 233.092,-331.753 233.387,-328.231 233.734,-324.714 234.08,-321.196 234.478,-317.684 234.928,-314.179 235.378,-310.673 235.879,-307.174 236.432,-303.684 236.985,-300.193 237.589,-296.71 238.245,-293.237 238.9,-289.764 239.607,-286.301 240.364,-282.849 241.122,-279.396 241.93,-275.956 242.789,-272.527 243.648,-269.099 244.557,-265.683 245.516,-262.281 246.475,-258.88 247.485,-255.492 248.544,-252.12 249.603,-248.749 250.712,-245.392 251.87,-242.053 253.028,-238.714 254.235,-235.392 255.491,-232.088 256.746,-228.784 258.051,-225.499 259.403,-222.234 260.756,-218.969 262.156,-215.723 263.605,-212.499 265.053,-209.275 266.548,-206.073 268.091,-202.893 269.633,-199.713 271.222,-196.555 272.858,-193.422 274.493,-190.289 276.175,-187.18 277.901,-184.096 279.628,-181.013 281.401,-177.954 283.218,-174.923 285.035,-171.891 286.896,-168.887 288.802,-165.91 290.707,-162.933 292.657,-159.985 294.649,-157.066 296.641,-154.146 298.676,-151.257 300.754,-148.397 302.831,-145.538 304.951,-142.709 307.112,-139.912 309.272,-137.115 311.474,-134.35 313.716,-131.618 315.958,-128.886 318.241,-126.187 320.562,-123.522 322.884,-120.858 325.245,-118.227 327.644,-115.632 330.043,-113.036 332.48,-110.476 334.955,-107.953 337.429,-105.429 339.941,-102.942 342.489,-100.493 345.036,-98.043 347.62,-95.6311 350.239,-93.2576 352.858,-90.884 355.511,-88.5492 358.199,-86.2538 360.886,-83.9584 363.607,-81.7028 366.361,-79.4875 369.115,-77.2723 371.902,-75.0977 374.72,-72.9645 377.538,-70.8313 380.387,-68.7398 383.267,-66.6905 386.146,-64.6412 389.056,-62.6345 391.995,-60.6709 394.933,-58.7073 397.901,-56.7871 400.896,-54.9109 403.891,-53.0347 406.914,-51.2028 409.963,-49.4156 413.013,-47.6284 416.088,-45.8862 419.188,-44.1896 422.289,-42.493 425.414,-40.8422 428.563,-39.2376 431.713,-37.6331 434.885,-36.075 438.08,-34.5638 441.275,-33.0527 444.492,-31.5887 447.73,-30.1723 450.969,-28.7559 454.227,-27.3873 457.506,-26.0669 460.784,-24.7465 464.082,-23.4744 467.398,-22.2511 470.714,-21.0278 474.048,-19.8534 477.398,-18.7283 480.749,-17.6032 484.115,-16.5274 487.498,-15.5015 490.88,-14.4755 494.277,-13.4994 497.688,-12.5735 501.099,-11.6475 504.523,-10.7719 507.96,-9.94681 511.396,-9.12174 514.845,-8.34731 518.305,-7.6238 521.764,-6.90028 525.234,-6.22775 528.713,-5.60642 532.193,-4.9851 535.681,-4.41504 539.177,-3.89645 542.673,-3.37785 546.177,-2.91077 549.687,-2.49535 553.196,-2.07993 556.712,-1.71622 560.233,-1.40434 563.753,-1.09246 567.278,-0.832446 570.807,-0.624376 574.335,-0.416307 577.866,-0.260207 581.399,-0.156127 584.932,-0.0520473 588.466,6.61814e-007 592,-6.30962e-012 595.534,-6.61827e-007 599.069,-0.05205 602.601,-0.156131 606.134,-0.260212 609.665,-0.416313 613.194,-0.624384 616.722,-0.832455 620.247,-1.09247 623.767,-1.40435 627.288,-1.71623 630.804,-2.07994 634.314,-2.49536 637.823,-2.91078 641.327,-3.37787 644.823,-3.89647 648.319,-4.41506 651.807,-4.98512 655.287,-5.60645 658.766,-6.22778 662.236,-6.90031 665.696,-7.62382 669.155,-8.34734 672.604,-9.12177 676.04,-9.94685 679.477,-10.7719 682.901,-11.6476 686.312,-12.5735 689.723,-13.4994 693.12,-14.4755 696.503,-15.5015 699.885,-16.5275 703.252,-17.6032 706.602,-18.7283 709.953,-19.8534 713.286,-21.0278 716.602,-22.2511 719.918,-23.4744 723.216,-24.7465 726.494,-26.0669 729.773,-27.3873 733.032,-28.756 736.27,-30.1724 739.508,-31.5888 742.725,-33.0528 745.92,-34.5639 749.115,-36.075 752.288,-37.6331 755.437,-39.2377 758.586,-40.8422 761.711,-42.4931 764.812,-44.1897 767.912,-45.8863 770.988,-47.6285 774.037,-49.4157 777.086,-51.2028 780.109,-53.0348 783.104,-54.911 786.099,-56.7872 789.067,-58.7074 792.005,-60.671 794.944,-62.6346 797.854,-64.6413 800.733,-66.6906 803.613,-68.7399 806.462,-70.8314 809.28,-72.9646 812.098,-75.0978 814.885,-77.2724 817.639,-79.4876 820.393,-81.7028 823.114,-83.9585 825.801,-86.2539 828.489,-88.5493 831.142,-90.8841 833.761,-93.2576 836.38,-95.6312 838.964,-98.0431 841.512,-100.493 844.059,-102.942 846.571,-105.429 849.045,-107.953 851.52,-110.477 853.957,-113.036 856.356,-115.632 858.755,-118.227 861.116,-120.858 863.438,-123.523 865.759,-126.187 868.042,-128.886 870.284,-131.618 872.526,-134.351 874.728,-137.116 876.889,-139.912 879.049,-142.709 881.169,-145.538 883.246,-148.397 883.246,-148.397 592,-360 592,-360\"/>\r\n",
       "<path fill=\"orange\" stroke=\"black\" stroke-width=\"0.5\" d=\"M592,-360C592,-360 883.246,-148.397 883.246,-148.397 884.631,-150.304 885.997,-152.223 887.345,-154.156 888.692,-156.089 890.02,-158.036 891.329,-159.995 892.638,-161.954 893.928,-163.926 895.198,-165.91 896.469,-167.895 897.719,-169.892 898.95,-171.901 900.182,-173.91 901.393,-175.931 902.584,-177.963 903.776,-179.996 904.947,-182.041 906.099,-184.096 907.25,-186.152 908.381,-188.219 909.492,-190.297 910.602,-192.375 911.693,-194.464 912.762,-196.563 913.832,-198.663 914.881,-200.773 915.909,-202.893 916.938,-205.013 917.945,-207.143 918.932,-209.283 919.918,-211.422 920.883,-213.572 921.828,-215.73 922.772,-217.889 923.695,-220.057 924.597,-222.234 925.498,-224.411 926.379,-226.597 927.237,-228.791 928.096,-230.985 928.933,-233.187 929.749,-235.398 930.564,-237.608 931.358,-239.827 932.13,-242.053 932.902,-244.279 933.652,-246.513 934.38,-248.754 935.108,-250.995 935.815,-253.243 936.499,-255.498 937.183,-257.752 937.844,-260.014 938.484,-262.281 939.123,-264.549 939.741,-266.823 940.336,-269.103 940.931,-271.383 941.503,-273.669 942.053,-275.96 942.603,-278.251 943.131,-280.547 943.636,-282.849 944.141,-285.15 944.623,-287.457 945.083,-289.768 945.542,-292.078 945.979,-294.394 946.394,-296.713 946.808,-299.033 947.199,-301.356 947.568,-303.684 947.936,-306.011 948.282,-308.342 948.605,-310.676 948.928,-313.01 949.228,-315.347 949.505,-317.687 949.782,-320.026 950.036,-322.369 950.267,-324.714 950.497,-327.059 950.705,-329.406 950.89,-331.755 951.075,-334.104 951.237,-336.454 951.376,-338.807 951.514,-341.159 951.63,-343.512 951.722,-345.866 951.815,-348.221 951.884,-350.576 951.931,-352.932 951.977,-355.288 952,-357.644 952,-360 952,-360 592,-360 592,-360\"/>\r\n",
       "<ellipse fill=\"none\" stroke=\"black\" cx=\"592\" cy=\"-360\" rx=\"360\" ry=\"360\"/>\r\n",
       "</g>\r\n",
       "</g>\r\n",
       "</svg>\r\n"
      ],
      "text/plain": [
       "<IPython.core.display.HTML object>"
      ]
     },
     "metadata": {},
     "output_type": "display_data"
    }
   ],
   "source": [
    "%%dot\n",
    "\n",
    "digraph G {\n",
    "    rankdir=TB;\n",
    "    node [shape=plaintext style=\"filled\"];\n",
    "    \n",
    "    subgraph cluster_01 {\n",
    "        label = \"Disk Usage under /tmp\";\n",
    "        key3 [label=\"file1\"]\n",
    "        key2 [label=\"dir2/\"]\n",
    "        key1 [label=\"dir1/\"]\n",
    "    };\n",
    "    node [shape=circle fizedsize=true width=10 style=wedged fillcolor=\"red;0.3:green;0.6:orange\"];\n",
    "    \n",
    "    A [label=\"\"]\n",
    "}"
   ]
  },
  {
   "cell_type": "code",
   "execution_count": null,
   "metadata": {
    "collapsed": false
   },
   "outputs": [],
   "source": [
    "%%dot\n",
    "\n",
    "digraph G {\n",
    "    //rankdir=TB;\n",
    "    node [shape=circle fizedsize=true width=6 style=wedged fillcolor=\"red;0.3:green;0.6:orange\"];\n",
    "    \n",
    "    subgraph cluster_02 {\n",
    "        //rankType=\"same\";\n",
    "        color=\"invis\"; // No border on cluster\n",
    "\n",
    "    A [label=\"\"]\n",
    "    }\n",
    "    \n",
    "    //rankdir=TB;\n",
    "    node [shape=plaintext fixedsize=true width=1 style=\"filled\" fillcolor=\"lightyellow2\"];\n",
    "    subgraph cluster_01 {\n",
    "        //rankType=\"min\";\n",
    "\n",
    "        label = \"Disk Usage under /tmp\";\n",
    "        width=1\n",
    "        key1 [label=\"dir1/\" fillcolor=\"red\"]\n",
    "        key2 [label=\"dir2/\" fillcolor=\"green\"]\n",
    "        key3 [label=\"file1\" fillcolor=\"orange\"]\n",
    "    };\n",
    "    \n",
    "}"
   ]
  },
  {
   "cell_type": "code",
   "execution_count": 41,
   "metadata": {
    "collapsed": false
   },
   "outputs": [
    {
     "data": {
      "text/html": [
       "<?xml version=\"1.0\" encoding=\"UTF-8\" standalone=\"no\"?>\r\n",
       "<!DOCTYPE svg PUBLIC \"-//W3C//DTD SVG 1.1//EN\"\r\n",
       " \"http://www.w3.org/Graphics/SVG/1.1/DTD/svg11.dtd\">\r\n",
       "<!-- Generated by graphviz version 2.38.0 (20140413.2041)\r\n",
       " -->\r\n",
       "<!-- Title: G Pages: 1 -->\r\n",
       "<svg width=\"726pt\" height=\"440pt\"\r\n",
       " viewBox=\"0.00 0.00 726.00 440.00\" xmlns=\"http://www.w3.org/2000/svg\" xmlns:xlink=\"http://www.w3.org/1999/xlink\">\r\n",
       "<g id=\"graph0\" class=\"graph\" transform=\"scale(1 1) rotate(0) translate(4 436)\">\r\n",
       "<title>G</title>\r\n",
       "<polygon fill=\"white\" stroke=\"none\" points=\"-4,4 -4,-436 722,-436 722,4 -4,4\"/>\r\n",
       "<g id=\"clust1\" class=\"cluster\"><title>cluster_01</title>\r\n",
       "<polygon fill=\"none\" stroke=\"black\" points=\"442,-190 442,-265 710,-265 710,-190 442,-190\"/>\r\n",
       "<text text-anchor=\"middle\" x=\"576\" y=\"-249.8\" font-family=\"Times New Roman,serif\" font-size=\"14.00\">Disk Usage under /tmp</text>\r\n",
       "</g>\r\n",
       "<!-- A -->\r\n",
       "<g id=\"node1\" class=\"node\"><title>A</title>\r\n",
       "<path fill=\"red\" stroke=\"black\" stroke-width=\"0.5\" d=\"M216,-216C216,-216 432,-216 432,-216 432,-218.121 431.969,-220.241 431.906,-222.361 431.844,-224.48 431.75,-226.599 431.625,-228.716 431.501,-230.833 431.345,-232.948 431.157,-235.06 430.97,-237.173 430.752,-239.282 430.503,-241.388 430.254,-243.494 429.973,-245.596 429.662,-247.694 429.351,-249.791 429.009,-251.884 428.636,-253.972 428.263,-256.06 427.86,-258.142 427.426,-260.217 426.992,-262.293 426.527,-264.362 426.032,-266.424 425.537,-268.486 425.011,-270.541 424.456,-272.587 423.9,-274.634 423.315,-276.672 422.699,-278.701 422.084,-280.731 421.438,-282.751 420.763,-284.761 420.088,-286.772 419.383,-288.772 418.649,-290.761 417.915,-292.751 417.152,-294.729 416.36,-296.697 415.568,-298.664 414.746,-300.619 413.897,-302.562 413.047,-304.505 412.168,-306.435 411.262,-308.352 410.355,-310.269 409.42,-312.172 408.457,-314.062 407.495,-315.951 406.504,-317.827 405.486,-319.687 404.468,-321.547 403.423,-323.392 402.351,-325.222 401.278,-327.052 400.179,-328.865 399.053,-330.662 397.928,-332.459 396.776,-334.24 395.597,-336.003 394.419,-337.766 393.215,-339.512 391.986,-341.24 390.756,-342.968 389.501,-344.677 388.221,-346.368 386.941,-348.059 385.637,-349.731 384.307,-351.383 382.978,-353.036 381.625,-354.668 380.248,-356.281 378.87,-357.893 377.47,-359.485 376.045,-361.057 374.621,-362.628 373.174,-364.178 371.704,-365.707 370.235,-367.236 368.742,-368.742 367.228,-370.227 365.714,-371.712 364.178,-373.174 362.621,-374.614 361.064,-376.053 359.485,-377.47 357.886,-378.863 356.288,-380.256 354.668,-381.625 353.029,-382.97 351.39,-384.316 349.731,-385.637 348.053,-386.933 346.374,-388.23 344.677,-389.501 342.962,-390.748 341.246,-391.994 339.512,-393.215 337.761,-394.411 336.009,-395.606 334.24,-396.776 332.454,-397.919 330.668,-399.062 328.865,-400.179 327.046,-401.269 325.227,-402.36 323.392,-403.423 321.542,-404.459 319.692,-405.495 317.827,-406.504 315.947,-407.485 314.067,-408.467 312.172,-409.42 310.264,-410.346 308.356,-411.271 306.435,-412.168 304.5,-413.037 302.566,-413.906 300.619,-414.746 298.66,-415.558 296.7,-416.37 294.729,-417.152 292.747,-417.906 290.765,-418.659 288.772,-419.383 286.768,-420.078 284.765,-420.773 282.751,-421.438 280.728,-422.074 278.705,-422.709 276.672,-423.315 274.631,-423.89 272.59,-424.466 270.541,-425.011 268.484,-425.527 266.427,-426.042 264.362,-426.527 262.291,-426.981 260.219,-427.436 258.141,-427.86 256.058,-428.253 253.974,-428.646 251.884,-429.009 249.79,-429.341 247.695,-429.672 245.596,-429.973 243.493,-430.243 241.389,-430.513 239.282,-430.752 237.172,-430.96 235.061,-431.168 232.948,-431.345 230.832,-431.49 228.717,-431.636 226.599,-431.75 224.48,-431.833 222.361,-431.917 220.241,-431.969 218.121,-431.99 216,-432.01 213.879,-432 211.759,-431.958 209.639,-431.917 207.519,-431.844 205.401,-431.74 203.283,-431.636 201.167,-431.501 199.053,-431.334 196.939,-431.168 194.827,-430.97 192.719,-430.742 190.611,-430.513 188.506,-430.254 186.405,-429.963 184.305,-429.672 182.208,-429.351 180.117,-428.999 178.026,-428.646 175.94,-428.263 173.86,-427.85 171.781,-427.436 169.707,-426.992 167.64,-426.517 165.573,-426.042 163.514,-425.537 161.462,-425.001 159.41,-424.466 157.366,-423.9 155.331,-423.305 153.296,-422.709 151.269,-422.084 149.252,-421.428 149.252,-421.428 216,-216 216,-216\"/>\r\n",
       "<path fill=\"green\" stroke=\"black\" stroke-width=\"0.5\" d=\"M216,-216C216,-216 149.252,-421.428 149.252,-421.428 147.235,-420.773 145.228,-420.088 143.232,-419.374 141.235,-418.659 139.249,-417.915 137.274,-417.142 135.3,-416.37 133.336,-415.568 131.385,-414.737 129.434,-413.906 127.495,-413.047 125.569,-412.159 123.644,-411.271 121.731,-410.355 119.832,-409.411 117.933,-408.467 116.049,-407.495 114.178,-406.495 112.308,-405.495 110.453,-404.468 108.613,-403.414 106.773,-402.36 104.948,-401.278 103.14,-400.17 101.332,-399.062 99.5405,-397.928 97.7658,-396.767 95.9911,-395.606 94.2335,-394.419 92.4938,-393.207 90.754,-391.994 89.0322,-390.756 87.3289,-389.493 85.6256,-388.23 83.941,-386.941 82.2757,-385.628 80.6103,-384.316 78.9644,-382.978 77.3384,-381.617 75.7125,-380.256 74.1066,-378.87 72.5215,-377.462 70.9363,-376.053 69.3719,-374.621 67.8289,-373.167 66.2859,-371.712 64.7644,-370.235 63.2649,-368.735 61.7654,-367.236 60.2881,-365.714 58.8334,-364.171 57.3787,-362.628 55.9468,-361.064 54.5382,-359.479 53.1296,-357.893 51.7444,-356.288 50.383,-354.662 49.0217,-353.036 47.6844,-351.39 46.3715,-349.724 45.0587,-348.059 43.7704,-346.374 42.5072,-344.671 41.2439,-342.968 40.0058,-341.246 38.7933,-339.506 37.5807,-337.766 36.3939,-336.009 35.2331,-334.234 34.0723,-332.459 32.9377,-330.668 31.8297,-328.86 30.7217,-327.052 29.6404,-325.227 28.5861,-323.387 27.5318,-321.547 26.5046,-319.692 25.505,-317.822 24.5053,-315.951 23.5333,-314.067 22.5891,-312.168 21.645,-310.269 20.7289,-308.356 19.8411,-306.43 18.9532,-304.505 18.0938,-302.566 17.2631,-300.615 16.4324,-298.664 15.6305,-296.7 14.8576,-294.726 14.0847,-292.751 13.3409,-290.765 12.6265,-288.768 11.9121,-286.772 11.2271,-284.764 10.5718,-282.748 9.91648,-280.731 9.29091,-278.704 8.69528,-276.669 8.09965,-274.634 7.53403,-272.59 6.99859,-270.538 6.46315,-268.486 5.95796,-266.427 5.48318,-264.36 5.0084,-262.293 4.56409,-260.219 4.15037,-258.139 3.73666,-256.06 3.3536,-253.974 3.00132,-251.883 2.64904,-249.791 2.32757,-247.695 2.03702,-245.595 1.74647,-243.494 1.48687,-241.389 1.2583,-239.281 1.02974,-237.173 0.832235,-235.061 0.665854,-232.947 0.499473,-230.833 0.364233,-228.717 0.26018,-226.599 0.156127,-224.481 0.0832707,-222.361 0.0416355,-220.241 3.20543e-007,-218.121 -0.0104095,-216 0.0104095,-213.879 0.0312285,-211.759 0.0832741,-209.639 0.166529,-207.52 0.249784,-205.401 0.36424,-203.283 0.509859,-201.168 0.655478,-199.052 0.832245,-196.939 1.0401,-194.828 1.24796,-192.718 1.48688,-190.611 1.7568,-188.507 2.02671,-186.404 2.32759,-184.305 2.65932,-182.21 2.99106,-180.116 3.35362,-178.026 3.7469,-175.942 4.14017,-173.858 4.56411,-171.781 5.01858,-169.709 5.47304,-167.638 5.95799,-165.573 6.47326,-163.516 6.98852,-161.459 7.53406,-159.41 8.10968,-157.369 8.6853,-155.328 9.29094,-153.295 9.92642,-151.272 10.5619,-149.249 11.2271,-147.235 11.9219,-145.232 12.6167,-143.228 13.3409,-141.235 14.0944,-139.253 14.8479,-137.271 15.6305,-135.3 16.442,-133.34 17.2536,-131.381 18.0939,-129.434 18.9628,-127.5 19.8316,-125.565 20.7289,-123.644 21.6544,-121.736 22.5798,-119.828 23.5333,-117.933 24.5146,-116.053 25.4958,-114.173 26.5047,-112.308 27.5409,-110.458 28.5771,-108.608 29.6404,-106.773 30.7306,-104.954 31.8208,-103.135 32.9378,-101.332 34.0811,-99.5461 35.2244,-97.7601 36.3939,-95.991 37.5893,-94.2394 38.7847,-92.4878 40.0059,-90.754 41.2523,-89.0384 42.4988,-87.3227 43.7705,-85.6256 45.0669,-83.9474 46.3634,-82.2693 47.6845,-80.6103 49.0298,-78.971 50.3751,-77.3318 51.7444,-75.7124 53.1374,-74.1135 54.5304,-72.5146 55.9469,-70.9362 57.3864,-69.379 58.8258,-67.8218 60.2882,-66.2859 61.7729,-64.7717 63.2576,-63.2576 64.7645,-61.7654 66.2932,-60.2956 67.8218,-58.8258 69.372,-57.3787 70.9433,-55.9545 72.5146,-54.5304 74.1067,-53.1295 75.7192,-51.7523 77.3318,-50.3751 78.9645,-49.0217 80.6169,-47.6925 82.2693,-46.3634 83.9411,-45.0586 85.6319,-43.7787 87.3228,-42.4988 89.0323,-41.2439 90.7601,-40.0143 92.4879,-38.7847 94.2336,-37.5807 95.9969,-36.4025 97.7601,-35.2244 99.5406,-34.0723 101.338,-32.9466 103.135,-31.8208 104.949,-30.7217 106.778,-29.6494 108.608,-28.5771 110.453,-27.5317 112.313,-26.5138 114.173,-25.4958 116.049,-24.5053 117.938,-23.5426 119.828,-22.5798 121.731,-21.645 123.648,-20.7383 125.565,-19.8316 127.495,-18.9532 129.438,-18.1034 131.381,-17.2536 133.336,-16.4324 135.304,-15.6401 137.271,-14.8479 139.249,-14.0846 141.239,-13.3507 143.228,-12.6167 145.229,-11.912 147.239,-11.237 149.249,-10.5619 151.269,-9.91646 153.299,-9.30088 155.328,-8.6853 157.366,-8.09963 159.413,-7.54408 161.459,-6.98852 163.514,-6.46314 165.576,-5.96809 167.638,-5.47304 169.707,-5.00839 171.783,-4.57428 173.858,-4.14017 175.94,-3.73665 178.028,-3.36385 180.116,-2.99106 182.209,-2.64903 184.306,-2.33787 186.404,-2.02671 188.506,-1.74646 190.612,-1.49721 192.718,-1.24796 194.827,-1.02973 196.94,-0.842605 199.052,-0.655478 201.167,-0.499468 203.284,-0.374626 205.401,-0.249784 207.52,-0.156124 209.639,-0.0936762 211.759,-0.0312284 213.879,3.97089e-007 216,-3.78009e-012 218.121,-3.97096e-007 220.241,-0.03123 222.361,-0.0936786 224.481,-0.156127 226.599,-0.249788 228.716,-0.374631 230.833,-0.499473 232.948,-0.655484 235.06,-0.842612 237.173,-1.02974 239.282,-1.24797 241.388,-1.49722 243.494,-1.74647 245.596,-2.02672 247.694,-2.33788 249.791,-2.64904 251.884,-2.99107 253.972,-3.36387 256.06,-3.73667 258.142,-4.14018 260.217,-4.57429 262.293,-5.0084 264.362,-5.47306 266.424,-5.96811 268.486,-6.46315 270.541,-6.98854 272.587,-7.5441 274.634,-8.09965 276.672,-8.68532 278.702,-9.3009 280.731,-9.91648 282.751,-10.5619 284.761,-11.237 286.772,-11.9121 288.772,-12.6167 290.761,-13.3507 292.751,-14.0847 294.729,-14.8479 296.697,-15.6402 298.664,-16.4324 300.619,-17.2536 302.562,-18.1034 304.505,-18.9533 306.435,-19.8317 308.352,-20.7383 310.269,-21.645 312.173,-22.5799 314.062,-23.5426 315.951,-24.5053 317.827,-25.4959 319.687,-26.5138 321.547,-27.5318 323.393,-28.5771 325.222,-29.6494 327.052,-30.7217 328.865,-31.8209 330.662,-32.9466 332.46,-34.0723 334.24,-35.2244 336.003,-36.4026 337.766,-37.5807 339.512,-38.7848 341.24,-40.0144 342.968,-41.2439 344.677,-42.4989 346.368,-43.7788 348.059,-45.0587 349.731,-46.3634 351.383,-47.6926 353.036,-49.0217 354.668,-50.3751 356.281,-51.7523 357.893,-53.1296 359.485,-54.5305 361.057,-55.9546 362.628,-57.3787 364.178,-58.8259 365.707,-60.2957 367.236,-61.7654 368.742,-63.2576 370.227,-64.7718 371.712,-66.2859 373.174,-67.8219 374.614,-69.3791 376.053,-70.9363 377.47,-72.5146 378.863,-74.1135 380.256,-75.7125 381.625,-77.3318 382.97,-78.9711 384.316,-80.6103 385.637,-82.2693 386.933,-83.9475 388.23,-85.6256 389.501,-87.3228 390.748,-89.0384 390.748,-89.0384 216,-216 216,-216\"/>\r\n",
       "<path fill=\"orange\" stroke=\"black\" stroke-width=\"0.5\" d=\"M216,-216C216,-216 390.748,-89.0384 390.748,-89.0384 392.41,-91.3259 394.027,-93.6459 395.597,-95.9969 397.168,-98.3479 398.693,-100.729 400.17,-103.14 401.648,-105.551 403.078,-107.991 404.459,-110.458 405.841,-112.925 407.174,-115.419 408.457,-117.938 409.741,-120.457 410.975,-123.002 412.159,-125.57 413.343,-128.137 414.476,-130.728 415.558,-133.34 416.64,-135.953 417.671,-138.586 418.649,-141.239 419.628,-143.891 420.554,-146.563 421.428,-149.252 422.302,-151.941 423.123,-154.648 423.89,-157.369 424.658,-160.09 425.372,-162.826 426.032,-165.576 426.692,-168.325 427.298,-171.087 427.85,-173.861 428.401,-176.634 428.898,-179.417 429.341,-182.21 429.783,-185.003 430.17,-187.804 430.503,-190.612 430.835,-193.42 431.112,-196.234 431.334,-199.053 431.556,-201.872 431.722,-204.695 431.833,-207.52 431.944,-210.345 432,-213.172 432,-216 432,-216 216,-216 216,-216\"/>\r\n",
       "<ellipse fill=\"none\" stroke=\"black\" cx=\"216\" cy=\"-216\" rx=\"216\" ry=\"216\"/>\r\n",
       "</g>\r\n",
       "<!-- key1 -->\r\n",
       "<g id=\"node2\" class=\"node\"><title>key1</title>\r\n",
       "<polygon fill=\"red\" stroke=\"none\" points=\"702,-234 630,-234 630,-198 702,-198 702,-234\"/>\r\n",
       "<text text-anchor=\"middle\" x=\"666\" y=\"-212.3\" font-family=\"Times New Roman,serif\" font-size=\"14.00\">dir1/</text>\r\n",
       "</g>\r\n",
       "<!-- key2 -->\r\n",
       "<g id=\"node3\" class=\"node\"><title>key2</title>\r\n",
       "<polygon fill=\"green\" stroke=\"none\" points=\"612,-234 540,-234 540,-198 612,-198 612,-234\"/>\r\n",
       "<text text-anchor=\"middle\" x=\"576\" y=\"-212.3\" font-family=\"Times New Roman,serif\" font-size=\"14.00\">dir2/</text>\r\n",
       "</g>\r\n",
       "<!-- key3 -->\r\n",
       "<g id=\"node4\" class=\"node\"><title>key3</title>\r\n",
       "<polygon fill=\"orange\" stroke=\"none\" points=\"522,-234 450,-234 450,-198 522,-198 522,-234\"/>\r\n",
       "<text text-anchor=\"middle\" x=\"486\" y=\"-212.3\" font-family=\"Times New Roman,serif\" font-size=\"14.00\">file1</text>\r\n",
       "</g>\r\n",
       "</g>\r\n",
       "</svg>\r\n"
      ],
      "text/plain": [
       "<IPython.core.display.HTML object>"
      ]
     },
     "metadata": {},
     "output_type": "display_data"
    }
   ],
   "source": [
    "%%dot\n",
    "\n",
    "digraph G {\n",
    "    rankdir=TB;\n",
    "    node [shape=circle fizedsize=true width=6 style=wedged fillcolor=\"red;0.3:green;0.6:orange\"];\n",
    "    \n",
    "    A [label=\"\"]\n",
    "    \n",
    "    rankdir=TB;\n",
    "    node [shape=plaintext fixedsize=true width=1 style=\"filled\" fillcolor=\"lightyellow2\"];\n",
    "    subgraph cluster_01 {\n",
    "        rankdir=LR;\n",
    "\n",
    "        label = \"Disk Usage under /tmp\";\n",
    "        width=1\n",
    "        key1 [label=\"dir1/\" fillcolor=\"red\"]\n",
    "        key2 [label=\"dir2/\" fillcolor=\"green\"]\n",
    "        key3 [label=\"file1\" fillcolor=\"orange\"]\n",
    "    };\n",
    "    \n",
    "}"
   ]
  },
  {
   "cell_type": "code",
   "execution_count": null,
   "metadata": {
    "collapsed": false
   },
   "outputs": [],
   "source": [
    "source /home/mjbright/src/git/GIT_mjbright/metakernel/metakernel_bash/metakernelrc\n",
    "du -s /tmp/* | pydot_show_du"
   ]
  },
  {
   "cell_type": "raw",
   "metadata": {},
   "source": [
    "%%dot\n",
    "\n",
    "# Not working\n",
    "digraph hierarchy {\n",
    "\n",
    "                nodesep=1.0 // increases the separation between nodes\n",
    "                \n",
    "                node [color=Red,fontname=Courier,shape=box] //All nodes will this shape and colour\n",
    "                edge [color=Blue, style=dashed] //All the lines look like this\n",
    "\n",
    "                Headteacher->{Deputy1 Deputy2 BusinessManager}\n",
    "                Deputy1->{Teacher1 Teacher2}\n",
    "                BusinessManager->ITManager\n",
    "                {rank=same;ITManager Teacher1 Teacher2}  // Put them on the same level\n",
    "}"
   ]
  },
  {
   "cell_type": "raw",
   "metadata": {
    "collapsed": false
   },
   "source": [
    "# Same as above ... so ... not working either ...\n",
    "echo \"digraph hierarchy {\n",
    "\n",
    "                nodesep=1.0 // increases the separation between nodes\n",
    "                \n",
    "                node [color=Red,fontname=Courier,shape=box] //All nodes will this shape and colour\n",
    "                edge [color=Blue, style=dashed] //All the lines look like this\n",
    "\n",
    "                Headteacher->{Deputy1 Deputy2 BusinessManager}\n",
    "                Deputy1->{Teacher1 Teacher2}\n",
    "                BusinessManager->ITManager\n",
    "                {rank=same;ITManager Teacher1 Teacher2}  // Put them on the same level\n",
    "}\" | pydot"
   ]
  },
  {
   "cell_type": "code",
   "execution_count": 42,
   "metadata": {
    "collapsed": false
   },
   "outputs": [
    {
     "data": {
      "text/html": [
       "<?xml version=\"1.0\" encoding=\"UTF-8\" standalone=\"no\"?>\r\n",
       "<!DOCTYPE svg PUBLIC \"-//W3C//DTD SVG 1.1//EN\"\r\n",
       " \"http://www.w3.org/Graphics/SVG/1.1/DTD/svg11.dtd\">\r\n",
       "<!-- Generated by graphviz version 2.38.0 (20140413.2041)\r\n",
       " -->\r\n",
       "<!-- Title: hierarchy Pages: 1 -->\r\n",
       "<svg width=\"936pt\" height=\"116pt\"\r\n",
       " viewBox=\"0.00 0.00 936.00 116.00\" xmlns=\"http://www.w3.org/2000/svg\" xmlns:xlink=\"http://www.w3.org/1999/xlink\">\r\n",
       "<g id=\"graph0\" class=\"graph\" transform=\"scale(1 1) rotate(0) translate(4 112)\">\r\n",
       "<title>hierarchy</title>\r\n",
       "<polygon fill=\"white\" stroke=\"none\" points=\"-4,4 -4,-112 932,-112 932,4 -4,4\"/>\r\n",
       "<!-- CEO -->\r\n",
       "<g id=\"node1\" class=\"node\"><title>CEO</title>\r\n",
       "<ellipse fill=\"none\" stroke=\"Blue\" cx=\"593\" cy=\"-90\" rx=\"27\" ry=\"18\"/>\r\n",
       "<text text-anchor=\"middle\" x=\"593\" y=\"-86.3\" font-family=\"Courier,monospace\" font-size=\"14.00\">CEO</text>\r\n",
       "</g>\r\n",
       "<!-- CTO -->\r\n",
       "<g id=\"node2\" class=\"node\"><title>CTO</title>\r\n",
       "<ellipse fill=\"none\" stroke=\"Blue\" cx=\"27\" cy=\"-18\" rx=\"27\" ry=\"18\"/>\r\n",
       "<text text-anchor=\"middle\" x=\"27\" y=\"-14.3\" font-family=\"Courier,monospace\" font-size=\"14.00\">CTO</text>\r\n",
       "</g>\r\n",
       "<!-- CEO&#45;&gt;CTO -->\r\n",
       "<g id=\"edge1\" class=\"edge\"><title>CEO&#45;&gt;CTO</title>\r\n",
       "<path fill=\"none\" stroke=\"Blue\" d=\"M566.064,-87.6679C490.448,-83.6056 269.984,-69.5466 90,-36 80.431,-34.2165 70.1884,-31.7151 60.8023,-29.1787\"/>\r\n",
       "<polygon fill=\"Blue\" stroke=\"Blue\" points=\"61.5992,-25.7673 51.0261,-26.445 59.7141,-32.5087 61.5992,-25.7673\"/>\r\n",
       "</g>\r\n",
       "<!-- CFO -->\r\n",
       "<g id=\"node3\" class=\"node\"><title>CFO</title>\r\n",
       "<ellipse fill=\"none\" stroke=\"Blue\" cx=\"901\" cy=\"-18\" rx=\"27\" ry=\"18\"/>\r\n",
       "<text text-anchor=\"middle\" x=\"901\" y=\"-14.3\" font-family=\"Courier,monospace\" font-size=\"14.00\">CFO</text>\r\n",
       "</g>\r\n",
       "<!-- CEO&#45;&gt;CFO -->\r\n",
       "<g id=\"edge2\" class=\"edge\"><title>CEO&#45;&gt;CFO</title>\r\n",
       "<path fill=\"none\" stroke=\"Blue\" d=\"M619.094,-85.1829C666.729,-77.8978 770.726,-60.5238 856,-36 860.153,-34.8055 864.467,-33.3993 868.705,-31.9157\"/>\r\n",
       "<polygon fill=\"Blue\" stroke=\"Blue\" points=\"870.167,-35.1075 878.349,-28.3769 867.756,-28.5359 870.167,-35.1075\"/>\r\n",
       "</g>\r\n",
       "<!-- BusinessManager -->\r\n",
       "<g id=\"node4\" class=\"node\"><title>BusinessManager</title>\r\n",
       "<ellipse fill=\"none\" stroke=\"Blue\" cx=\"593\" cy=\"-18\" rx=\"90.9839\" ry=\"18\"/>\r\n",
       "<text text-anchor=\"middle\" x=\"593\" y=\"-14.3\" font-family=\"Courier,monospace\" font-size=\"14.00\">BusinessManager</text>\r\n",
       "</g>\r\n",
       "<!-- CEO&#45;&gt;BusinessManager -->\r\n",
       "<g id=\"edge3\" class=\"edge\"><title>CEO&#45;&gt;BusinessManager</title>\r\n",
       "<path fill=\"none\" stroke=\"Blue\" d=\"M593,-71.6966C593,-63.9827 593,-54.7125 593,-46.1124\"/>\r\n",
       "<polygon fill=\"Blue\" stroke=\"Blue\" points=\"596.5,-46.1043 593,-36.1043 589.5,-46.1044 596.5,-46.1043\"/>\r\n",
       "</g>\r\n",
       "<!-- CTO&#45;&gt;CTO -->\r\n",
       "<g id=\"edge4\" class=\"edge\"><title>CTO&#45;&gt;CTO</title>\r\n",
       "<path fill=\"none\" stroke=\"Blue\" d=\"M48.6268,-29.0075C68.5379,-34.5363 90,-30.8672 90,-18 90,-7.24384 75.0025,-2.91518 58.4504,-5.01402\"/>\r\n",
       "<polygon fill=\"Blue\" stroke=\"Blue\" points=\"57.7389,-1.58695 48.6268,-6.99252 59.1211,-8.44916 57.7389,-1.58695\"/>\r\n",
       "</g>\r\n",
       "<!-- CTO&#45;&gt;CFO -->\r\n",
       "<g id=\"edge5\" class=\"edge\"><title>CTO&#45;&gt;CFO</title>\r\n",
       "<path fill=\"none\" stroke=\"Blue\" d=\"M47.4984,-30.001C63.4036,-38.5842 86.3228,-49.3998 108,-54 187.344,-70.838 759.606,-74.8186 838,-54 850.841,-50.5899 863.795,-43.8792 874.588,-37.1663\"/>\r\n",
       "<polygon fill=\"Blue\" stroke=\"Blue\" points=\"876.645,-40.0032 883.097,-31.5994 872.813,-34.1454 876.645,-40.0032\"/>\r\n",
       "</g>\r\n",
       "<!-- CTO&#45;&gt;BusinessManager -->\r\n",
       "<g id=\"edge6\" class=\"edge\"><title>CTO&#45;&gt;BusinessManager</title>\r\n",
       "<path fill=\"none\" stroke=\"Blue\" d=\"M47.4984,-30.001C63.4036,-38.5842 86.3228,-49.3998 108,-54 185.822,-70.5151 387.202,-64.9525 466,-54 490.42,-50.6058 516.743,-43.7068 539.058,-36.8481\"/>\r\n",
       "<polygon fill=\"Blue\" stroke=\"Blue\" points=\"540.195,-40.1596 548.682,-33.8174 538.093,-33.4828 540.195,-40.1596\"/>\r\n",
       "</g>\r\n",
       "<!-- LabManager -->\r\n",
       "<g id=\"node5\" class=\"node\"><title>LabManager</title>\r\n",
       "<ellipse fill=\"none\" stroke=\"Blue\" cx=\"402\" cy=\"-18\" rx=\"64.189\" ry=\"18\"/>\r\n",
       "<text text-anchor=\"middle\" x=\"402\" y=\"-14.3\" font-family=\"Courier,monospace\" font-size=\"14.00\">LabManager</text>\r\n",
       "</g>\r\n",
       "<!-- CTO&#45;&gt;LabManager -->\r\n",
       "<g id=\"edge7\" class=\"edge\"><title>CTO&#45;&gt;LabManager</title>\r\n",
       "<path fill=\"none\" stroke=\"Blue\" d=\"M47.4984,-30.001C63.4036,-38.5842 86.3228,-49.3998 108,-54 192.344,-71.899 217.062,-68.8233 302,-54 320.994,-50.6853 341.142,-44.0787 358.339,-37.4199\"/>\r\n",
       "<polygon fill=\"Blue\" stroke=\"Blue\" points=\"360.107,-40.4821 368.092,-33.5177 357.507,-33.983 360.107,-40.4821\"/>\r\n",
       "</g>\r\n",
       "<!-- MarketingManager -->\r\n",
       "<g id=\"node6\" class=\"node\"><title>MarketingManager</title>\r\n",
       "<ellipse fill=\"none\" stroke=\"Blue\" cx=\"205\" cy=\"-18\" rx=\"96.6831\" ry=\"18\"/>\r\n",
       "<text text-anchor=\"middle\" x=\"205\" y=\"-14.3\" font-family=\"Courier,monospace\" font-size=\"14.00\">MarketingManager</text>\r\n",
       "</g>\r\n",
       "<!-- CTO&#45;&gt;MarketingManager -->\r\n",
       "<g id=\"edge8\" class=\"edge\"><title>CTO&#45;&gt;MarketingManager</title>\r\n",
       "<path fill=\"none\" stroke=\"Blue\" d=\"M54.1172,-18C68.7229,-18 83.3286,-18 97.9344,-18\"/>\r\n",
       "<polygon fill=\"Blue\" stroke=\"Blue\" points=\"98.046,-21.5001 108.046,-18 98.046,-14.5001 98.046,-21.5001\"/>\r\n",
       "</g>\r\n",
       "<!-- ITManager -->\r\n",
       "<g id=\"node7\" class=\"node\"><title>ITManager</title>\r\n",
       "<ellipse fill=\"none\" stroke=\"Blue\" cx=\"779\" cy=\"-18\" rx=\"59.2899\" ry=\"18\"/>\r\n",
       "<text text-anchor=\"middle\" x=\"779\" y=\"-14.3\" font-family=\"Courier,monospace\" font-size=\"14.00\">ITManager</text>\r\n",
       "</g>\r\n",
       "<!-- BusinessManager&#45;&gt;ITManager -->\r\n",
       "<g id=\"edge9\" class=\"edge\"><title>BusinessManager&#45;&gt;ITManager</title>\r\n",
       "<path fill=\"none\" stroke=\"Blue\" d=\"M684.184,-18C692.702,-18 701.221,-18 709.74,-18\"/>\r\n",
       "<polygon fill=\"Blue\" stroke=\"Blue\" points=\"709.74,-21.5001 719.74,-18 709.74,-14.5001 709.74,-21.5001\"/>\r\n",
       "</g>\r\n",
       "</g>\r\n",
       "</svg>\r\n"
      ],
      "text/plain": [
       "<IPython.core.display.HTML object>"
      ]
     },
     "metadata": {},
     "output_type": "display_data"
    }
   ],
   "source": [
    "echo \"digraph hierarchy {\n",
    "                nodesep=0.5 // increases the separation between nodes\n",
    "                \n",
    "                node [color=Blue, fontname=Courier,shape=oval] //All nodes will this shape and colour\n",
    "                edge [color=Blue, style=solid] //All the lines look like this\n",
    "\n",
    "                CEO->{CTO CFO BusinessManager}\n",
    "                CTO->{LabManager MarketingManager}\n",
    "                BusinessManager->ITManager\n",
    "                {rank=same;ITManager LabManager MarketingManager}  // Put them on the same level\n",
    "}\" | pydot"
   ]
  },
  {
   "cell_type": "code",
   "execution_count": 43,
   "metadata": {
    "collapsed": false
   },
   "outputs": [
    {
     "data": {
      "text/html": [
       "<?xml version=\"1.0\" encoding=\"UTF-8\" standalone=\"no\"?>\r\n",
       "<!DOCTYPE svg PUBLIC \"-//W3C//DTD SVG 1.1//EN\"\r\n",
       " \"http://www.w3.org/Graphics/SVG/1.1/DTD/svg11.dtd\">\r\n",
       "<!-- Generated by graphviz version 2.38.0 (20140413.2041)\r\n",
       " -->\r\n",
       "<!-- Title: hierarchy Pages: 1 -->\r\n",
       "<svg width=\"289pt\" height=\"305pt\"\r\n",
       " viewBox=\"0.00 0.00 288.64 305.00\" xmlns=\"http://www.w3.org/2000/svg\" xmlns:xlink=\"http://www.w3.org/1999/xlink\">\r\n",
       "<g id=\"graph0\" class=\"graph\" transform=\"scale(1 1) rotate(0) translate(4 301)\">\r\n",
       "<title>hierarchy</title>\r\n",
       "<polygon fill=\"white\" stroke=\"none\" points=\"-4,4 -4,-301 284.637,-301 284.637,4 -4,4\"/>\r\n",
       "<!-- S0 -->\r\n",
       "<g id=\"node1\" class=\"node\"><title>S0</title>\r\n",
       "<ellipse fill=\"none\" stroke=\"black\" cx=\"87.6369\" cy=\"-279\" rx=\"27\" ry=\"18\"/>\r\n",
       "<text text-anchor=\"middle\" x=\"87.6369\" y=\"-275.3\" font-family=\"Times New Roman,serif\" font-size=\"14.00\">S0</text>\r\n",
       "</g>\r\n",
       "<!-- S1 -->\r\n",
       "<g id=\"node2\" class=\"node\"><title>S1</title>\r\n",
       "<ellipse fill=\"none\" stroke=\"black\" cx=\"84.6369\" cy=\"-192\" rx=\"27\" ry=\"18\"/>\r\n",
       "<text text-anchor=\"middle\" x=\"84.6369\" y=\"-188.3\" font-family=\"Times New Roman,serif\" font-size=\"14.00\">S1</text>\r\n",
       "</g>\r\n",
       "<!-- S0&#45;&gt;S1 -->\r\n",
       "<g id=\"edge1\" class=\"edge\"><title>S0&#45;&gt;S1</title>\r\n",
       "<path fill=\"none\" stroke=\"black\" d=\"M61.1219,-274.716C41.6049,-270.758 16.344,-262.061 3.63695,-243 -10.4056,-221.936 21.3612,-208.178 49.142,-200.524\"/>\r\n",
       "<polygon fill=\"black\" stroke=\"black\" points=\"50.2824,-203.845 59.1045,-197.978 48.5492,-197.063 50.2824,-203.845\"/>\r\n",
       "<text text-anchor=\"middle\" x=\"34.6369\" y=\"-231.8\" font-family=\"Times New Roman,serif\" font-size=\"14.00\">Lift Nozzle</text>\r\n",
       "</g>\r\n",
       "<!-- S1&#45;&gt;S0 -->\r\n",
       "<g id=\"edge2\" class=\"edge\"><title>S1&#45;&gt;S0</title>\r\n",
       "<path fill=\"none\" stroke=\"black\" d=\"M85.2431,-210.175C85.6536,-221.806 86.2047,-237.419 86.6746,-250.734\"/>\r\n",
       "<polygon fill=\"black\" stroke=\"black\" points=\"83.1792,-250.929 87.0299,-260.799 90.1749,-250.682 83.1792,-250.929\"/>\r\n",
       "<text text-anchor=\"middle\" x=\"129.637\" y=\"-231.8\" font-family=\"Times New Roman,serif\" font-size=\"14.00\">Replace Nozzle</text>\r\n",
       "</g>\r\n",
       "<!-- S2 -->\r\n",
       "<g id=\"node3\" class=\"node\"><title>S2</title>\r\n",
       "<ellipse fill=\"none\" stroke=\"black\" cx=\"137.637\" cy=\"-105\" rx=\"27\" ry=\"18\"/>\r\n",
       "<text text-anchor=\"middle\" x=\"137.637\" y=\"-101.3\" font-family=\"Times New Roman,serif\" font-size=\"14.00\">S2</text>\r\n",
       "</g>\r\n",
       "<!-- S1&#45;&gt;S2 -->\r\n",
       "<g id=\"edge3\" class=\"edge\"><title>S1&#45;&gt;S2</title>\r\n",
       "<path fill=\"none\" stroke=\"black\" d=\"M81.1985,-173.788C80.0603,-163.649 80.2338,-150.91 85.6369,-141 90.3043,-132.44 98.0738,-125.585 106.202,-120.289\"/>\r\n",
       "<polygon fill=\"black\" stroke=\"black\" points=\"108.152,-123.204 115.034,-115.149 104.631,-117.154 108.152,-123.204\"/>\r\n",
       "<text text-anchor=\"middle\" x=\"131.137\" y=\"-144.8\" font-family=\"Times New Roman,serif\" font-size=\"14.00\">Authorize Pump</text>\r\n",
       "</g>\r\n",
       "<!-- S2&#45;&gt;S0 -->\r\n",
       "<g id=\"edge4\" class=\"edge\"><title>S2&#45;&gt;S0</title>\r\n",
       "<path fill=\"none\" stroke=\"black\" d=\"M156.833,-117.932C164.501,-123.833 172.485,-131.695 176.637,-141 195.11,-182.399 202.161,-205.535 176.637,-243 164.909,-260.214 143.303,-268.962 124.316,-273.407\"/>\r\n",
       "<polygon fill=\"black\" stroke=\"black\" points=\"123.513,-269.999 114.405,-275.411 124.9,-276.86 123.513,-269.999\"/>\r\n",
       "<text text-anchor=\"middle\" x=\"236.637\" y=\"-188.3\" font-family=\"Times New Roman,serif\" font-size=\"14.00\">Replace Nozzle</text>\r\n",
       "</g>\r\n",
       "<!-- S3 -->\r\n",
       "<g id=\"node4\" class=\"node\"><title>S3</title>\r\n",
       "<ellipse fill=\"none\" stroke=\"black\" cx=\"137.637\" cy=\"-18\" rx=\"27\" ry=\"18\"/>\r\n",
       "<text text-anchor=\"middle\" x=\"137.637\" y=\"-14.3\" font-family=\"Times New Roman,serif\" font-size=\"14.00\">S3</text>\r\n",
       "</g>\r\n",
       "<!-- S2&#45;&gt;S3 -->\r\n",
       "<g id=\"edge5\" class=\"edge\"><title>S2&#45;&gt;S3</title>\r\n",
       "<path fill=\"none\" stroke=\"black\" d=\"M116.973,-92.7878C108.391,-86.9347 99.3486,-78.9102 94.6369,-69 88.7823,-56.6857 97.681,-45.0079 108.873,-36.0394\"/>\r\n",
       "<polygon fill=\"black\" stroke=\"black\" points=\"111.174,-38.6964 117.25,-30.0174 107.088,-33.0126 111.174,-38.6964\"/>\r\n",
       "<text text-anchor=\"middle\" x=\"127.637\" y=\"-57.8\" font-family=\"Times New Roman,serif\" font-size=\"14.00\">Pull Trigger</text>\r\n",
       "</g>\r\n",
       "<!-- S3&#45;&gt;S2 -->\r\n",
       "<g id=\"edge6\" class=\"edge\"><title>S3&#45;&gt;S2</title>\r\n",
       "<path fill=\"none\" stroke=\"black\" d=\"M150.829,-33.8859C157.833,-43.6092 164.307,-56.7336 160.637,-69 159.474,-72.8857 157.727,-76.7398 155.704,-80.3915\"/>\r\n",
       "<polygon fill=\"black\" stroke=\"black\" points=\"152.674,-78.6331 150.285,-88.955 158.59,-82.3761 152.674,-78.6331\"/>\r\n",
       "<text text-anchor=\"middle\" x=\"205.637\" y=\"-57.8\" font-family=\"Times New Roman,serif\" font-size=\"14.00\">Release Trigger</text>\r\n",
       "</g>\r\n",
       "</g>\r\n",
       "</svg>\r\n"
      ],
      "text/plain": [
       "<IPython.core.display.HTML object>"
      ]
     },
     "metadata": {},
     "output_type": "display_data"
    }
   ],
   "source": [
    "# QUOTES IN THIS WAY, WORKS:\n",
    "echo 'digraph hierarchy {\n",
    "        S0->S1 [ label = \"Lift Nozzle\" ]\n",
    "        S1->S0 [ label = \"Replace Nozzle\" ]\n",
    "        S1->S2 [ label = \"Authorize Pump\" ]\n",
    "        S2->S0 [ label = \"Replace Nozzle\" ]\n",
    "        S2->S3 [ label = \"Pull Trigger\" ]\n",
    "        S3->S2 [ label = \"Release Trigger\" ]\n",
    "}' | pydot"
   ]
  },
  {
   "cell_type": "code",
   "execution_count": 44,
   "metadata": {
    "collapsed": false
   },
   "outputs": [
    {
     "data": {},
     "execution_count": 44,
     "metadata": {},
     "output_type": "execute_result"
    }
   ],
   "source": [
    "# QUOTES IN THIS WAY, FAILS: careful - may mess up following notebook execution ... \n",
    "# echo \"digraph hierarchy {\n",
    "#         S0->S1 [ label = 'Lift Nozzle' ]\n",
    "#         S1->S0 [ label = 'Replace Nozzle' ]\n",
    "#         S1->S2 [ label = 'Authorize Pump' ]\n",
    "#         S2->S0 [ label = 'Replace Nozzle' ]\n",
    "#         S2->S3 [ label = 'Pull Trigger\"' ]\n",
    "#         S3->S2 [ label = 'Release Trigger' ]\n",
    "# }\" | pydot"
   ]
  },
  {
   "cell_type": "code",
   "execution_count": 45,
   "metadata": {
    "collapsed": false
   },
   "outputs": [
    {
     "data": {
      "text/html": [
       "<?xml version=\"1.0\" encoding=\"UTF-8\" standalone=\"no\"?>\r\n",
       "<!DOCTYPE svg PUBLIC \"-//W3C//DTD SVG 1.1//EN\"\r\n",
       " \"http://www.w3.org/Graphics/SVG/1.1/DTD/svg11.dtd\">\r\n",
       "<!-- Generated by graphviz version 2.38.0 (20140413.2041)\r\n",
       " -->\r\n",
       "<!-- Title: finite_state_machine Pages: 1 -->\r\n",
       "<svg width=\"576pt\" height=\"85pt\"\r\n",
       " viewBox=\"0.00 0.00 576.00 84.66\" xmlns=\"http://www.w3.org/2000/svg\" xmlns:xlink=\"http://www.w3.org/1999/xlink\">\r\n",
       "<g id=\"graph0\" class=\"graph\" transform=\"scale(0.966785 0.966785) rotate(0) translate(4 83.568)\">\r\n",
       "<title>finite_state_machine</title>\r\n",
       "<polygon fill=\"white\" stroke=\"none\" points=\"-4,4 -4,-83.568 591.789,-83.568 591.789,4 -4,4\"/>\r\n",
       "<!-- S0 -->\r\n",
       "<g id=\"node1\" class=\"node\"><title>S0</title>\r\n",
       "<ellipse fill=\"none\" stroke=\"black\" cx=\"20.7982\" cy=\"-37.7699\" rx=\"20.5982\" ry=\"20.5982\"/>\r\n",
       "<text text-anchor=\"middle\" x=\"20.7982\" y=\"-34.0699\" font-family=\"Times New Roman,serif\" font-size=\"14.00\">S0</text>\r\n",
       "</g>\r\n",
       "<!-- S1 -->\r\n",
       "<g id=\"node2\" class=\"node\"><title>S1</title>\r\n",
       "<ellipse fill=\"none\" stroke=\"black\" cx=\"209.596\" cy=\"-58.7699\" rx=\"20.5982\" ry=\"20.5982\"/>\r\n",
       "<text text-anchor=\"middle\" x=\"209.596\" y=\"-55.0699\" font-family=\"Times New Roman,serif\" font-size=\"14.00\">S1</text>\r\n",
       "</g>\r\n",
       "<!-- S0&#45;&gt;S1 -->\r\n",
       "<g id=\"edge1\" class=\"edge\"><title>S0&#45;&gt;S1</title>\r\n",
       "<path fill=\"none\" stroke=\"black\" d=\"M39.8081,-46.9815C45.9304,-49.6789 52.9159,-52.2971 59.5963,-53.7699 99.8913,-62.6532 147.783,-62.4116 178.183,-60.9649\"/>\r\n",
       "<polygon fill=\"black\" stroke=\"black\" points=\"178.753,-64.4388 188.545,-60.3921 178.367,-57.4495 178.753,-64.4388\"/>\r\n",
       "<text text-anchor=\"middle\" x=\"103.596\" y=\"-64.5699\" font-family=\"Times New Roman,serif\" font-size=\"14.00\">Lift Nozzle</text>\r\n",
       "</g>\r\n",
       "<!-- S1&#45;&gt;S0 -->\r\n",
       "<g id=\"edge2\" class=\"edge\"><title>S1&#45;&gt;S0</title>\r\n",
       "<path fill=\"none\" stroke=\"black\" d=\"M190.712,-49.6718C178.829,-44.1501 162.691,-37.6325 147.596,-34.7699 115.294,-28.6438 77.494,-30.7575 51.825,-33.5401\"/>\r\n",
       "<polygon fill=\"black\" stroke=\"black\" points=\"51.1359,-30.0972 41.6181,-34.7515 51.9609,-37.0484 51.1359,-30.0972\"/>\r\n",
       "<text text-anchor=\"middle\" x=\"103.596\" y=\"-38.5699\" font-family=\"Times New Roman,serif\" font-size=\"14.00\">Replace Nozzle</text>\r\n",
       "</g>\r\n",
       "<!-- S2 -->\r\n",
       "<g id=\"node3\" class=\"node\"><title>S2</title>\r\n",
       "<ellipse fill=\"none\" stroke=\"black\" cx=\"401.394\" cy=\"-25.7699\" rx=\"20.5982\" ry=\"20.5982\"/>\r\n",
       "<text text-anchor=\"middle\" x=\"401.394\" y=\"-22.0699\" font-family=\"Times New Roman,serif\" font-size=\"14.00\">S2</text>\r\n",
       "</g>\r\n",
       "<!-- S1&#45;&gt;S2 -->\r\n",
       "<g id=\"edge3\" class=\"edge\"><title>S1&#45;&gt;S2</title>\r\n",
       "<path fill=\"none\" stroke=\"black\" d=\"M230.193,-55.3626C263.509,-49.5701 331.38,-37.7693 370.603,-30.9497\"/>\r\n",
       "<polygon fill=\"black\" stroke=\"black\" points=\"371.367,-34.3694 380.62,-29.2081 370.168,-27.4729 371.367,-34.3694\"/>\r\n",
       "<text text-anchor=\"middle\" x=\"317.096\" y=\"-52.5699\" font-family=\"Times New Roman,serif\" font-size=\"14.00\">Authorize Pump</text>\r\n",
       "</g>\r\n",
       "<!-- S2&#45;&gt;S0 -->\r\n",
       "<g id=\"edge4\" class=\"edge\"><title>S2&#45;&gt;S0</title>\r\n",
       "<path fill=\"none\" stroke=\"black\" d=\"M380.481,-23.6235C352.281,-20.7022 299.074,-15.6256 253.596,-13.7699 167.222,-10.2454 144.405,-11.0214 59.5963,-27.7699 56.7245,-28.337 53.7476,-28.9969 50.7825,-29.7021\"/>\r\n",
       "<polygon fill=\"black\" stroke=\"black\" points=\"49.7488,-26.3534 40.917,-32.2058 51.4707,-33.1383 49.7488,-26.3534\"/>\r\n",
       "<text text-anchor=\"middle\" x=\"209.596\" y=\"-17.5699\" font-family=\"Times New Roman,serif\" font-size=\"14.00\">Replace Nozzle</text>\r\n",
       "</g>\r\n",
       "<!-- S3 -->\r\n",
       "<g id=\"node4\" class=\"node\"><title>S3</title>\r\n",
       "<ellipse fill=\"none\" stroke=\"black\" cx=\"566.991\" cy=\"-25.7699\" rx=\"20.5982\" ry=\"20.5982\"/>\r\n",
       "<text text-anchor=\"middle\" x=\"566.991\" y=\"-22.0699\" font-family=\"Times New Roman,serif\" font-size=\"14.00\">S3</text>\r\n",
       "</g>\r\n",
       "<!-- S2&#45;&gt;S3 -->\r\n",
       "<g id=\"edge5\" class=\"edge\"><title>S2&#45;&gt;S3</title>\r\n",
       "<path fill=\"none\" stroke=\"black\" d=\"M422.455,-25.7699C450.741,-25.7699 502.576,-25.7699 535.604,-25.7699\"/>\r\n",
       "<polygon fill=\"black\" stroke=\"black\" points=\"536.023,-29.27 546.023,-25.7699 536.023,-22.27 536.023,-29.27\"/>\r\n",
       "<text text-anchor=\"middle\" x=\"484.193\" y=\"-29.5699\" font-family=\"Times New Roman,serif\" font-size=\"14.00\">Pull Trigger</text>\r\n",
       "</g>\r\n",
       "<!-- S3&#45;&gt;S2 -->\r\n",
       "<g id=\"edge6\" class=\"edge\"><title>S3&#45;&gt;S2</title>\r\n",
       "<path fill=\"none\" stroke=\"black\" d=\"M548.95,-15.0907C542.67,-11.7349 535.339,-8.46494 528.193,-6.76987 490.137,2.25662 478.248,2.25662 440.193,-6.76987 436.284,-7.69686 432.321,-9.09486 428.505,-10.7203\"/>\r\n",
       "<polygon fill=\"black\" stroke=\"black\" points=\"426.924,-7.59669 419.435,-15.0907 429.963,-13.9028 426.924,-7.59669\"/>\r\n",
       "<text text-anchor=\"middle\" x=\"484.193\" y=\"-10.5699\" font-family=\"Times New Roman,serif\" font-size=\"14.00\">Release Trigger</text>\r\n",
       "</g>\r\n",
       "</g>\r\n",
       "</svg>\r\n"
      ],
      "text/plain": [
       "<IPython.core.display.HTML object>"
      ]
     },
     "metadata": {},
     "output_type": "display_data"
    }
   ],
   "source": [
    "echo 'digraph finite_state_machine {\n",
    "        rankdir=LR;\n",
    "        size=\"8,5\"\n",
    "        node [shape = circle];\n",
    "        S0 -> S1 [ label = \"Lift Nozzle\" ]\n",
    "        S1 -> S0 [ label = \"Replace Nozzle\" ]\n",
    "        S1 -> S2 [ label = \"Authorize Pump\" ]\n",
    "        S2 -> S0 [ label = \"Replace Nozzle\" ]\n",
    "        S2 -> S3 [ label = \"Pull Trigger\" ]\n",
    "        S3 -> S2 [ label = \"Release Trigger\" ]\n",
    "}' | pydot"
   ]
  },
  {
   "cell_type": "code",
   "execution_count": 46,
   "metadata": {
    "collapsed": false
   },
   "outputs": [
    {
     "data": {
      "text/html": [
       "<?xml version=\"1.0\" encoding=\"UTF-8\" standalone=\"no\"?>\r\n",
       "<!DOCTYPE svg PUBLIC \"-//W3C//DTD SVG 1.1//EN\"\r\n",
       " \"http://www.w3.org/Graphics/SVG/1.1/DTD/svg11.dtd\">\r\n",
       "<!-- Generated by graphviz version 2.38.0 (20140413.2041)\r\n",
       " -->\r\n",
       "<!-- Title: dfd Pages: 1 -->\r\n",
       "<svg width=\"238pt\" height=\"160pt\"\r\n",
       " viewBox=\"0.00 0.00 238.00 160.00\" xmlns=\"http://www.w3.org/2000/svg\" xmlns:xlink=\"http://www.w3.org/1999/xlink\">\r\n",
       "<g id=\"graph0\" class=\"graph\" transform=\"scale(1 1) rotate(0) translate(4 156)\">\r\n",
       "<title>dfd</title>\r\n",
       "<polygon fill=\"white\" stroke=\"none\" points=\"-4,4 -4,-156 234,-156 234,4 -4,4\"/>\r\n",
       "<!-- store1 -->\r\n",
       "<g id=\"node1\" class=\"node\"><title>store1</title>\r\n",
       "<polygon fill=\"none\" stroke=\"black\" points=\"0,-115.5 0,-151.5 141,-151.5 141,-115.5 0,-115.5\"/>\r\n",
       "<text text-anchor=\"middle\" x=\"17\" y=\"-129.8\" font-family=\"Times New Roman,serif\" font-size=\"14.00\">left</text>\r\n",
       "<polyline fill=\"none\" stroke=\"black\" points=\"34,-115.5 34,-151.5 \"/>\r\n",
       "<text text-anchor=\"middle\" x=\"87.5\" y=\"-129.8\" font-family=\"Times New Roman,serif\" font-size=\"14.00\">Some data store</text>\r\n",
       "</g>\r\n",
       "<!-- proc1 -->\r\n",
       "<g id=\"node2\" class=\"node\"><title>proc1</title>\r\n",
       "<path fill=\"none\" stroke=\"black\" d=\"M90.5,-0.5C90.5,-0.5 190.5,-0.5 190.5,-0.5 196.5,-0.5 202.5,-6.5 202.5,-12.5 202.5,-12.5 202.5,-66.5 202.5,-66.5 202.5,-72.5 196.5,-78.5 190.5,-78.5 190.5,-78.5 90.5,-78.5 90.5,-78.5 84.5,-78.5 78.5,-72.5 78.5,-66.5 78.5,-66.5 78.5,-12.5 78.5,-12.5 78.5,-6.5 84.5,-0.5 90.5,-0.5\"/>\r\n",
       "<text text-anchor=\"middle\" x=\"140.5\" y=\"-63.3\" font-family=\"Times New Roman,serif\" font-size=\"14.00\">1.0</text>\r\n",
       "<polyline fill=\"none\" stroke=\"black\" points=\"78.5,-55.5 202.5,-55.5 \"/>\r\n",
       "<text text-anchor=\"middle\" x=\"140.5\" y=\"-40.3\" font-family=\"Times New Roman,serif\" font-size=\"14.00\">Some process here</text>\r\n",
       "</g>\r\n",
       "<!-- store1&#45;&gt;proc1 -->\r\n",
       "<g id=\"edge1\" class=\"edge\"><title>store1:f1&#45;&gt;proc1:f0</title>\r\n",
       "<path fill=\"none\" stroke=\"black\" d=\"M87.5,-115C87.5,-100.337 72.9137,-83.6624 70.3434,-74.485\"/>\r\n",
       "<polygon fill=\"black\" stroke=\"black\" points=\"72.7883,-76.9895 77.5,-67.5 67.899,-71.9801 72.7883,-76.9895\"/>\r\n",
       "</g>\r\n",
       "<!-- enti1 -->\r\n",
       "<g id=\"node3\" class=\"node\"><title>enti1</title>\r\n",
       "<polygon fill=\"none\" stroke=\"black\" points=\"230,-151.5 159,-151.5 159,-115.5 230,-115.5 230,-151.5\"/>\r\n",
       "<text text-anchor=\"middle\" x=\"194.5\" y=\"-129.8\" font-family=\"Times New Roman,serif\" font-size=\"14.00\">Customer</text>\r\n",
       "</g>\r\n",
       "<!-- enti1&#45;&gt;proc1 -->\r\n",
       "<g id=\"edge2\" class=\"edge\"><title>enti1&#45;&gt;proc1:f0</title>\r\n",
       "<path fill=\"none\" stroke=\"black\" d=\"M203.422,-115.422C210.405,-100.677 218.094,-80.4194 212.622,-71.7335\"/>\r\n",
       "<polygon fill=\"black\" stroke=\"black\" points=\"214.044,-68.5349 203.5,-67.5 211.097,-74.8844 214.044,-68.5349\"/>\r\n",
       "</g>\r\n",
       "</g>\r\n",
       "</svg>\r\n"
      ],
      "text/plain": [
       "<IPython.core.display.HTML object>"
      ]
     },
     "metadata": {},
     "output_type": "display_data"
    }
   ],
   "source": [
    "echo 'digraph dfd {    \n",
    "        node[shape=record]\n",
    "        store1 [label=\"<f0> left|<f1> Some data store\"];\n",
    "        proc1 [label=\"{<f0> 1.0|<f1> Some process here\\n\\n\\n}\" shape=Mrecord];\n",
    "        enti1 [label=\"Customer\" shape=box];\n",
    "        store1:f1 -> proc1:f0;\n",
    "        enti1-> proc1:f0;\n",
    "}' | pydot"
   ]
  },
  {
   "cell_type": "code",
   "execution_count": 47,
   "metadata": {
    "collapsed": false
   },
   "outputs": [
    {
     "data": {
      "text/html": [
       "<?xml version=\"1.0\" encoding=\"UTF-8\" standalone=\"no\"?>\r\n",
       "<!DOCTYPE svg PUBLIC \"-//W3C//DTD SVG 1.1//EN\"\r\n",
       " \"http://www.w3.org/Graphics/SVG/1.1/DTD/svg11.dtd\">\r\n",
       "<!-- Generated by graphviz version 2.38.0 (20140413.2041)\r\n",
       " -->\r\n",
       "<!-- Title: dfd2 Pages: 1 -->\r\n",
       "<svg width=\"362pt\" height=\"366pt\"\r\n",
       " viewBox=\"0.00 0.00 361.50 366.00\" xmlns=\"http://www.w3.org/2000/svg\" xmlns:xlink=\"http://www.w3.org/1999/xlink\">\r\n",
       "<g id=\"graph0\" class=\"graph\" transform=\"scale(1 1) rotate(0) translate(4 362)\">\r\n",
       "<title>dfd2</title>\r\n",
       "<polygon fill=\"white\" stroke=\"none\" points=\"-4,4 -4,-362 357.5,-362 357.5,4 -4,4\"/>\r\n",
       "<g id=\"clust2\" class=\"cluster\"><title>cluster_level1</title>\r\n",
       "<polygon fill=\"none\" stroke=\"black\" points=\"8,-8 8,-314 278,-314 278,-8 8,-8\"/>\r\n",
       "<text text-anchor=\"middle\" x=\"143\" y=\"-298.8\" font-family=\"Times New Roman,serif\" font-size=\"14.00\">Level 1</text>\r\n",
       "</g>\r\n",
       "<!-- enti1 -->\r\n",
       "<g id=\"node1\" class=\"node\"><title>enti1</title>\r\n",
       "<polygon fill=\"none\" stroke=\"black\" points=\"110.5,-358 39.5,-358 39.5,-322 110.5,-322 110.5,-358\"/>\r\n",
       "<text text-anchor=\"middle\" x=\"75\" y=\"-336.3\" font-family=\"Times New Roman,serif\" font-size=\"14.00\">Customer</text>\r\n",
       "</g>\r\n",
       "<!-- proc1 -->\r\n",
       "<g id=\"node3\" class=\"node\"><title>proc1</title>\r\n",
       "<path fill=\"none\" stroke=\"black\" d=\"M29.5,-204.5C29.5,-204.5 120.5,-204.5 120.5,-204.5 126.5,-204.5 132.5,-210.5 132.5,-216.5 132.5,-216.5 132.5,-270.5 132.5,-270.5 132.5,-276.5 126.5,-282.5 120.5,-282.5 120.5,-282.5 29.5,-282.5 29.5,-282.5 23.5,-282.5 17.5,-276.5 17.5,-270.5 17.5,-270.5 17.5,-216.5 17.5,-216.5 17.5,-210.5 23.5,-204.5 29.5,-204.5\"/>\r\n",
       "<text text-anchor=\"middle\" x=\"75\" y=\"-267.3\" font-family=\"Times New Roman,serif\" font-size=\"14.00\">1.0</text>\r\n",
       "<polyline fill=\"none\" stroke=\"black\" points=\"17.5,-259.5 132.5,-259.5 \"/>\r\n",
       "<text text-anchor=\"middle\" x=\"75\" y=\"-244.3\" font-family=\"Times New Roman,serif\" font-size=\"14.00\">One process here</text>\r\n",
       "</g>\r\n",
       "<!-- enti1&#45;&gt;proc1 -->\r\n",
       "<g id=\"edge1\" class=\"edge\"><title>enti1&#45;&gt;proc1</title>\r\n",
       "<path fill=\"none\" stroke=\"black\" d=\"M75,-321.667C75,-313.515 75,-303.344 75,-293.089\"/>\r\n",
       "<polygon fill=\"black\" stroke=\"black\" points=\"78.5001,-292.877 75,-282.877 71.5001,-292.877 78.5001,-292.877\"/>\r\n",
       "</g>\r\n",
       "<!-- enti2 -->\r\n",
       "<g id=\"node2\" class=\"node\"><title>enti2</title>\r\n",
       "<polygon fill=\"none\" stroke=\"black\" points=\"353.5,-167.5 288.5,-167.5 288.5,-131.5 353.5,-131.5 353.5,-167.5\"/>\r\n",
       "<text text-anchor=\"middle\" x=\"321\" y=\"-145.8\" font-family=\"Times New Roman,serif\" font-size=\"14.00\">Manager</text>\r\n",
       "</g>\r\n",
       "<!-- proc2 -->\r\n",
       "<g id=\"node4\" class=\"node\"><title>proc2</title>\r\n",
       "<path fill=\"none\" stroke=\"black\" d=\"M93.5,-16.5C93.5,-16.5 192.5,-16.5 192.5,-16.5 198.5,-16.5 204.5,-22.5 204.5,-28.5 204.5,-28.5 204.5,-82.5 204.5,-82.5 204.5,-88.5 198.5,-94.5 192.5,-94.5 192.5,-94.5 93.5,-94.5 93.5,-94.5 87.5,-94.5 81.5,-88.5 81.5,-82.5 81.5,-82.5 81.5,-28.5 81.5,-28.5 81.5,-22.5 87.5,-16.5 93.5,-16.5\"/>\r\n",
       "<text text-anchor=\"middle\" x=\"143\" y=\"-79.3\" font-family=\"Times New Roman,serif\" font-size=\"14.00\">2.0</text>\r\n",
       "<polyline fill=\"none\" stroke=\"black\" points=\"81.5,-71.5 204.5,-71.5 \"/>\r\n",
       "<text text-anchor=\"middle\" x=\"143\" y=\"-56.3\" font-family=\"Times New Roman,serif\" font-size=\"14.00\">Other process here</text>\r\n",
       "</g>\r\n",
       "<!-- enti2&#45;&gt;proc2 -->\r\n",
       "<g id=\"edge2\" class=\"edge\"><title>enti2&#45;&gt;proc2</title>\r\n",
       "<path fill=\"none\" stroke=\"black\" d=\"M288.352,-131.626C267.433,-120.814 239.459,-106.355 213.64,-93.0103\"/>\r\n",
       "<polygon fill=\"black\" stroke=\"black\" points=\"215.103,-89.8267 204.612,-88.3444 211.889,-96.0452 215.103,-89.8267\"/>\r\n",
       "</g>\r\n",
       "<!-- store2 -->\r\n",
       "<g id=\"node6\" class=\"node\"><title>store2</title>\r\n",
       "<polygon fill=\"none\" stroke=\"black\" points=\"16,-131.5 16,-167.5 134,-167.5 134,-131.5 16,-131.5\"/>\r\n",
       "<text text-anchor=\"middle\" x=\"26\" y=\"-145.8\" font-family=\"Times New Roman,serif\" font-size=\"14.00\"> </text>\r\n",
       "<polyline fill=\"none\" stroke=\"black\" points=\"36,-131.5 36,-167.5 \"/>\r\n",
       "<text text-anchor=\"middle\" x=\"85\" y=\"-145.8\" font-family=\"Times New Roman,serif\" font-size=\"14.00\">Data store two</text>\r\n",
       "</g>\r\n",
       "<!-- proc1&#45;&gt;store2 -->\r\n",
       "<g id=\"edge5\" class=\"edge\"><title>proc1&#45;&gt;store2</title>\r\n",
       "<path fill=\"none\" stroke=\"black\" d=\"M68.3366,-204.283C68.1393,-195.495 68.2791,-186.317 68.7559,-178.083\"/>\r\n",
       "<polygon fill=\"black\" stroke=\"black\" points=\"72.2608,-178.162 69.5768,-167.913 65.2835,-177.599 72.2608,-178.162\"/>\r\n",
       "</g>\r\n",
       "<!-- store1 -->\r\n",
       "<g id=\"node5\" class=\"node\"><title>store1</title>\r\n",
       "<polygon fill=\"none\" stroke=\"black\" points=\"152,-131.5 152,-167.5 270,-167.5 270,-131.5 152,-131.5\"/>\r\n",
       "<text text-anchor=\"middle\" x=\"162\" y=\"-145.8\" font-family=\"Times New Roman,serif\" font-size=\"14.00\"> </text>\r\n",
       "<polyline fill=\"none\" stroke=\"black\" points=\"172,-131.5 172,-167.5 \"/>\r\n",
       "<text text-anchor=\"middle\" x=\"221\" y=\"-145.8\" font-family=\"Times New Roman,serif\" font-size=\"14.00\">Data store one</text>\r\n",
       "</g>\r\n",
       "<!-- store1&#45;&gt;proc1 -->\r\n",
       "<g id=\"edge3\" class=\"edge\"><title>store1&#45;&gt;proc1</title>\r\n",
       "<path fill=\"none\" stroke=\"black\" d=\"M185.615,-167.672C172.628,-176.457 156.168,-187.592 139.94,-198.57\"/>\r\n",
       "<polygon fill=\"black\" stroke=\"black\" points=\"137.816,-195.781 131.495,-204.283 141.739,-201.579 137.816,-195.781\"/>\r\n",
       "</g>\r\n",
       "<!-- store2&#45;&gt;proc1 -->\r\n",
       "<g id=\"edge6\" class=\"edge\"><title>store2&#45;&gt;proc1</title>\r\n",
       "<path fill=\"none\" stroke=\"black\" d=\"M80.4232,-167.913C81.2387,-175.467 81.6783,-184.724 81.7419,-194.115\"/>\r\n",
       "<polygon fill=\"black\" stroke=\"black\" points=\"78.2408,-194.256 81.6634,-204.283 85.2406,-194.31 78.2408,-194.256\"/>\r\n",
       "</g>\r\n",
       "<!-- store2&#45;&gt;proc2 -->\r\n",
       "<g id=\"edge4\" class=\"edge\"><title>store2&#45;&gt;proc2</title>\r\n",
       "<path fill=\"none\" stroke=\"black\" d=\"M87.7903,-131.196C93.801,-123.063 101.284,-112.939 108.782,-102.795\"/>\r\n",
       "<polygon fill=\"black\" stroke=\"black\" points=\"111.64,-104.816 114.77,-94.6942 106.011,-100.656 111.64,-104.816\"/>\r\n",
       "</g>\r\n",
       "</g>\r\n",
       "</svg>\r\n"
      ],
      "text/plain": [
       "<IPython.core.display.HTML object>"
      ]
     },
     "metadata": {},
     "output_type": "display_data"
    }
   ],
   "source": [
    "echo 'digraph dfd2{\n",
    "        node[shape=record]\n",
    "        subgraph level0{\n",
    "        enti1 [label=\"Customer\" shape=box];\n",
    "        enti2 [label=\"Manager\" shape=box];\n",
    "        }\n",
    "        subgraph cluster_level1{\n",
    "                        label =\"Level 1\";\n",
    "                        proc1 [label=\"{<f0> 1.0|<f1> One process here\\n\\n\\n}\" shape=Mrecord];\n",
    "                        proc2 [label=\"{<f0> 2.0|<f1> Other process here\\n\\n\\n}\" shape=Mrecord];\n",
    "                        store1 [label=\"<f0>    |<f1> Data store one\"];\n",
    "                        store2 [label=\"<f0>   |<f1> Data store two\"];\n",
    "                        {rank=same; store1 store2}\n",
    "\n",
    "        }\n",
    "        enti1 -> proc1\n",
    "        enti2 -> proc2\n",
    "        store1 -> proc1\n",
    "        store2 -> proc2\n",
    "        proc1 -> store2\n",
    "        store2 -> proc1 \n",
    "}' | pydot"
   ]
  },
  {
   "cell_type": "code",
   "execution_count": 48,
   "metadata": {
    "collapsed": false
   },
   "outputs": [
    {
     "data": {
      "text/html": [
       "<?xml version=\"1.0\" encoding=\"UTF-8\" standalone=\"no\"?>\r\n",
       "<!DOCTYPE svg PUBLIC \"-//W3C//DTD SVG 1.1//EN\"\r\n",
       " \"http://www.w3.org/Graphics/SVG/1.1/DTD/svg11.dtd\">\r\n",
       "<!-- Generated by graphviz version 2.38.0 (20140413.2041)\r\n",
       " -->\r\n",
       "<!-- Title: obj Pages: 1 -->\r\n",
       "<svg width=\"355pt\" height=\"296pt\"\r\n",
       " viewBox=\"0.00 0.00 355.00 296.00\" xmlns=\"http://www.w3.org/2000/svg\" xmlns:xlink=\"http://www.w3.org/1999/xlink\">\r\n",
       "<g id=\"graph0\" class=\"graph\" transform=\"scale(1 1) rotate(0) translate(4 292)\">\r\n",
       "<title>obj</title>\r\n",
       "<polygon fill=\"white\" stroke=\"none\" points=\"-4,4 -4,-292 351,-292 351,4 -4,4\"/>\r\n",
       "<!-- teacher -->\r\n",
       "<g id=\"node1\" class=\"node\"><title>teacher</title>\r\n",
       "<polygon fill=\"none\" stroke=\"black\" points=\"0,-216.5 0,-287.5 62,-287.5 62,-216.5 0,-216.5\"/>\r\n",
       "<text text-anchor=\"middle\" x=\"31\" y=\"-272.3\" font-family=\"Times New Roman,serif\" font-size=\"14.00\">Teacher</text>\r\n",
       "<polyline fill=\"none\" stroke=\"black\" points=\"0,-264.5 62,-264.5 \"/>\r\n",
       "<polyline fill=\"none\" stroke=\"black\" points=\"0,-240.5 62,-240.5 \"/>\r\n",
       "</g>\r\n",
       "<!-- course -->\r\n",
       "<g id=\"node2\" class=\"node\"><title>course</title>\r\n",
       "<polygon fill=\"none\" stroke=\"black\" points=\"157.5,-216.5 157.5,-287.5 214.5,-287.5 214.5,-216.5 157.5,-216.5\"/>\r\n",
       "<text text-anchor=\"middle\" x=\"186\" y=\"-272.3\" font-family=\"Times New Roman,serif\" font-size=\"14.00\">Course</text>\r\n",
       "<polyline fill=\"none\" stroke=\"black\" points=\"157.5,-264.5 214.5,-264.5 \"/>\r\n",
       "<polyline fill=\"none\" stroke=\"black\" points=\"157.5,-240.5 214.5,-240.5 \"/>\r\n",
       "</g>\r\n",
       "<!-- teacher&#45;&gt;course -->\r\n",
       "<g id=\"edge1\" class=\"edge\"><title>teacher&#45;&gt;course</title>\r\n",
       "<path fill=\"none\" stroke=\"black\" d=\"M55.5051,-216.34C62.4826,-208.913 70.7402,-202.101 80,-198 104.382,-187.201 115.79,-186.82 140,-198 148.945,-202.131 156.791,-208.953 163.352,-216.381\"/>\r\n",
       "<text text-anchor=\"middle\" x=\"159.852\" y=\"-205.181\" font-family=\"Times New Roman,serif\" font-size=\"14.00\">1</text>\r\n",
       "<text text-anchor=\"middle\" x=\"63.0051\" y=\"-205.14\" font-family=\"Times New Roman,serif\" font-size=\"14.00\">1..</text>\r\n",
       "</g>\r\n",
       "<!-- student -->\r\n",
       "<g id=\"node3\" class=\"node\"><title>student</title>\r\n",
       "<polygon fill=\"none\" stroke=\"black\" points=\"80.5,-216.5 80.5,-287.5 139.5,-287.5 139.5,-216.5 80.5,-216.5\"/>\r\n",
       "<text text-anchor=\"middle\" x=\"110\" y=\"-272.3\" font-family=\"Times New Roman,serif\" font-size=\"14.00\">Student</text>\r\n",
       "<polyline fill=\"none\" stroke=\"black\" points=\"80.5,-264.5 139.5,-264.5 \"/>\r\n",
       "<polyline fill=\"none\" stroke=\"black\" points=\"80.5,-240.5 139.5,-240.5 \"/>\r\n",
       "</g>\r\n",
       "<!-- student&#45;&gt;course -->\r\n",
       "<g id=\"edge2\" class=\"edge\"><title>student&#45;&gt;course</title>\r\n",
       "<path fill=\"none\" stroke=\"black\" d=\"M139.688,-252C145.597,-252 151.507,-252 157.417,-252\"/>\r\n",
       "<text text-anchor=\"middle\" x=\"153.917\" y=\"-255.8\" font-family=\"Times New Roman,serif\" font-size=\"14.00\">1</text>\r\n",
       "<text text-anchor=\"middle\" x=\"147.188\" y=\"-240.8\" font-family=\"Times New Roman,serif\" font-size=\"14.00\">1..</text>\r\n",
       "</g>\r\n",
       "<!-- lesson -->\r\n",
       "<g id=\"node4\" class=\"node\"><title>lesson</title>\r\n",
       "<polygon fill=\"none\" stroke=\"black\" points=\"80.5,-108.5 80.5,-179.5 137.5,-179.5 137.5,-108.5 80.5,-108.5\"/>\r\n",
       "<text text-anchor=\"middle\" x=\"109\" y=\"-164.3\" font-family=\"Times New Roman,serif\" font-size=\"14.00\">Lesson</text>\r\n",
       "<polyline fill=\"none\" stroke=\"black\" points=\"80.5,-156.5 137.5,-156.5 \"/>\r\n",
       "<polyline fill=\"none\" stroke=\"black\" points=\"80.5,-132.5 137.5,-132.5 \"/>\r\n",
       "</g>\r\n",
       "<!-- lesson&#45;&gt;course -->\r\n",
       "<g id=\"edge3\" class=\"edge\"><title>lesson&#45;&gt;course</title>\r\n",
       "<path fill=\"none\" stroke=\"black\" d=\"M134.213,-179.708C140.395,-188.219 147.098,-197.447 153.567,-206.352\"/>\r\n",
       "<polygon fill=\"black\" stroke=\"black\" points=\"153.678,-206.505 160.441,-209.008 160.731,-216.214 153.968,-213.71 153.678,-206.505\"/>\r\n",
       "</g>\r\n",
       "<!-- tutorial -->\r\n",
       "<g id=\"node5\" class=\"node\"><title>tutorial</title>\r\n",
       "<polygon fill=\"none\" stroke=\"black\" points=\"156,-108.5 156,-179.5 216,-179.5 216,-108.5 156,-108.5\"/>\r\n",
       "<text text-anchor=\"middle\" x=\"186\" y=\"-164.3\" font-family=\"Times New Roman,serif\" font-size=\"14.00\">Tutorial</text>\r\n",
       "<polyline fill=\"none\" stroke=\"black\" points=\"156,-156.5 216,-156.5 \"/>\r\n",
       "<polyline fill=\"none\" stroke=\"black\" points=\"156,-132.5 216,-132.5 \"/>\r\n",
       "</g>\r\n",
       "<!-- tutorial&#45;&gt;course -->\r\n",
       "<g id=\"edge4\" class=\"edge\"><title>tutorial&#45;&gt;course</title>\r\n",
       "<path fill=\"none\" stroke=\"black\" d=\"M186,-179.708C186,-187.487 186,-195.865 186,-204.047\"/>\r\n",
       "<polygon fill=\"black\" stroke=\"black\" points=\"186,-204.214 190,-210.214 186,-216.214 182,-210.214 186,-204.214\"/>\r\n",
       "</g>\r\n",
       "<!-- assessment -->\r\n",
       "<g id=\"node6\" class=\"node\"><title>assessment</title>\r\n",
       "<polygon fill=\"none\" stroke=\"black\" points=\"234.5,-108.5 234.5,-179.5 317.5,-179.5 317.5,-108.5 234.5,-108.5\"/>\r\n",
       "<text text-anchor=\"middle\" x=\"276\" y=\"-164.3\" font-family=\"Times New Roman,serif\" font-size=\"14.00\">Assessment</text>\r\n",
       "<polyline fill=\"none\" stroke=\"black\" points=\"234.5,-156.5 317.5,-156.5 \"/>\r\n",
       "<polyline fill=\"none\" stroke=\"black\" points=\"234.5,-132.5 317.5,-132.5 \"/>\r\n",
       "</g>\r\n",
       "<!-- assessment&#45;&gt;course -->\r\n",
       "<g id=\"edge5\" class=\"edge\"><title>assessment&#45;&gt;course</title>\r\n",
       "<path fill=\"none\" stroke=\"black\" d=\"M246.531,-179.708C238.841,-188.765 230.461,-198.634 222.456,-208.062\"/>\r\n",
       "<polygon fill=\"black\" stroke=\"black\" points=\"222.382,-208.15 221.548,-215.312 214.616,-217.297 215.45,-210.134 222.382,-208.15\"/>\r\n",
       "</g>\r\n",
       "<!-- coursework -->\r\n",
       "<g id=\"node7\" class=\"node\"><title>coursework</title>\r\n",
       "<polygon fill=\"none\" stroke=\"black\" points=\"189,-0.5 189,-71.5 275,-71.5 275,-0.5 189,-0.5\"/>\r\n",
       "<text text-anchor=\"middle\" x=\"232\" y=\"-56.3\" font-family=\"Times New Roman,serif\" font-size=\"14.00\">Coursework</text>\r\n",
       "<polyline fill=\"none\" stroke=\"black\" points=\"189,-48.5 275,-48.5 \"/>\r\n",
       "<polyline fill=\"none\" stroke=\"black\" points=\"189,-24.5 275,-24.5 \"/>\r\n",
       "</g>\r\n",
       "<!-- coursework&#45;&gt;assessment -->\r\n",
       "<g id=\"edge6\" class=\"edge\"><title>coursework&#45;&gt;assessment</title>\r\n",
       "<path fill=\"none\" stroke=\"black\" d=\"M246.407,-71.7084C250.016,-80.402 253.935,-89.8441 257.705,-98.9261\"/>\r\n",
       "<polygon fill=\"black\" stroke=\"black\" points=\"254.494,-100.32 261.56,-108.214 260.959,-97.6359 254.494,-100.32\"/>\r\n",
       "</g>\r\n",
       "<!-- exam -->\r\n",
       "<g id=\"node8\" class=\"node\"><title>exam</title>\r\n",
       "<polygon fill=\"none\" stroke=\"black\" points=\"293,-0.5 293,-71.5 347,-71.5 347,-0.5 293,-0.5\"/>\r\n",
       "<text text-anchor=\"middle\" x=\"320\" y=\"-56.3\" font-family=\"Times New Roman,serif\" font-size=\"14.00\">Exam</text>\r\n",
       "<polyline fill=\"none\" stroke=\"black\" points=\"293,-48.5 347,-48.5 \"/>\r\n",
       "<polyline fill=\"none\" stroke=\"black\" points=\"293,-24.5 347,-24.5 \"/>\r\n",
       "</g>\r\n",
       "<!-- exam&#45;&gt;assessment -->\r\n",
       "<g id=\"edge7\" class=\"edge\"><title>exam&#45;&gt;assessment</title>\r\n",
       "<path fill=\"none\" stroke=\"black\" d=\"M305.593,-71.7084C301.984,-80.402 298.065,-89.8441 294.295,-98.9261\"/>\r\n",
       "<polygon fill=\"black\" stroke=\"black\" points=\"291.041,-97.6359 290.44,-108.214 297.506,-100.32 291.041,-97.6359\"/>\r\n",
       "</g>\r\n",
       "</g>\r\n",
       "</svg>\r\n"
      ],
      "text/plain": [
       "<IPython.core.display.HTML object>"
      ]
     },
     "metadata": {},
     "output_type": "display_data"
    }
   ],
   "source": [
    "echo 'digraph obj{\n",
    "        node[shape=record];\n",
    "        rankdir=\"BT\";\n",
    "        \n",
    "        teacher [label = \"{<f0> Teacher|<f1> \\n  |<f2> \\n   }\"];\n",
    "        course [label = \"{<f0> Course|<f1> \\n  |<f2> \\n   }\"];\n",
    "        student [label = \"{<f0> Student|<f1> \\n  |<f2> \\n   }\"];\n",
    "        lesson [label = \"{<f0> Lesson |<f1> \\n  |<f2> \\n   }\"];\n",
    "        tutorial [label = \"{<f0> Tutorial|<f1> \\n  |<f2> \\n   }\"];\n",
    "        assessment[label = \"{<f0> Assessment|<f1> \\n  |<f2> \\n   }\"];\n",
    "        coursework [label = \"{<f0> Coursework|<f1> \\n  |<f2> \\n   }\"];\n",
    "        exam [label = \"{<f0> Exam|<f1> \\n  |<f2> \\n   }\"];\n",
    "\n",
    "        {rank=same; teacher course student}\n",
    "\n",
    "        teacher->course [dir=\"forward\",arrowhead=\"none\",arrowtail=\"normal\",headlabel=\"1\",taillabel=\"1..\"];\n",
    "        student->course [dir=\"forward\",arrowhead=\"none\",arrowtail=\"normal\",headlabel=\"1\",taillabel=\"1..\"];\n",
    "        lesson->course [dir=\"forward\",arrowhead=\"diamond\",arrowtail=\"normal\"];\n",
    "        tutorial->course [dir=\"forward\",arrowhead=\"diamond\",arrowtail=\"normal\"];\n",
    "        assessment->course [dir=\"forward\",arrowhead=\"diamond\",arrowtail=\"normal\"];\n",
    "        coursework->assessment;\n",
    "        exam->assessment;\n",
    "\n",
    "}' | pydot"
   ]
  },
  {
   "cell_type": "code",
   "execution_count": 49,
   "metadata": {
    "collapsed": false
   },
   "outputs": [
    {
     "data": {
      "text/html": [
       "<?xml version=\"1.0\" encoding=\"UTF-8\" standalone=\"no\"?>\r\n",
       "<!DOCTYPE svg PUBLIC \"-//W3C//DTD SVG 1.1//EN\"\r\n",
       " \"http://www.w3.org/Graphics/SVG/1.1/DTD/svg11.dtd\">\r\n",
       "<!-- Generated by graphviz version 2.38.0 (20140413.2041)\r\n",
       " -->\r\n",
       "<!-- Title: ER Pages: 1 -->\r\n",
       "<svg width=\"224pt\" height=\"70pt\"\r\n",
       " viewBox=\"0.00 0.00 224.00 69.78\" xmlns=\"http://www.w3.org/2000/svg\" xmlns:xlink=\"http://www.w3.org/1999/xlink\">\r\n",
       "<g id=\"graph0\" class=\"graph\" transform=\"scale(1 1) rotate(0) translate(4 65.784)\">\r\n",
       "<title>ER</title>\r\n",
       "<polygon fill=\"white\" stroke=\"none\" points=\"-4,4 -4,-65.784 220,-65.784 220,4 -4,4\"/>\r\n",
       "<!-- Book -->\r\n",
       "<g id=\"node1\" class=\"node\"><title>Book</title>\r\n",
       "<polygon fill=\"none\" stroke=\"black\" points=\"54,-36 0,-36 0,-0 54,-0 54,-36\"/>\r\n",
       "<text text-anchor=\"middle\" x=\"27\" y=\"-14.3\" font-family=\"Times New Roman,serif\" font-size=\"14.00\">Book</text>\r\n",
       "</g>\r\n",
       "<!-- Loan -->\r\n",
       "<g id=\"node3\" class=\"node\"><title>Loan</title>\r\n",
       "<polygon fill=\"none\" stroke=\"black\" points=\"216,-36 162,-36 162,-0 216,-0 216,-36\"/>\r\n",
       "<text text-anchor=\"middle\" x=\"189\" y=\"-14.3\" font-family=\"Times New Roman,serif\" font-size=\"14.00\">Loan</text>\r\n",
       "</g>\r\n",
       "<!-- Book&#45;&gt;Loan -->\r\n",
       "<g id=\"edge1\" class=\"edge\"><title>Book&#45;&gt;Loan</title>\r\n",
       "<path fill=\"none\" stroke=\"black\" d=\"M44.5292,-36.2239C52.478,-43.2059 62.4541,-50.3639 73,-54 102.832,-64.2857 114.223,-64.4451 144,-54 151.14,-51.4955 157.988,-47.3291 164.094,-42.7013\"/>\r\n",
       "<polygon fill=\"black\" stroke=\"black\" points=\"164.219,-42.5981 174.79,-39.6821 168.069,-39.4077 171.919,-36.2173 171.919,-36.2173 171.919,-36.2173 168.069,-39.4077 169.047,-32.7524 164.219,-42.5981 164.219,-42.5981\"/>\r\n",
       "</g>\r\n",
       "<!-- Customer -->\r\n",
       "<g id=\"node2\" class=\"node\"><title>Customer</title>\r\n",
       "<polygon fill=\"none\" stroke=\"black\" points=\"143.5,-36 72.5,-36 72.5,-0 143.5,-0 143.5,-36\"/>\r\n",
       "<text text-anchor=\"middle\" x=\"108\" y=\"-14.3\" font-family=\"Times New Roman,serif\" font-size=\"14.00\">Customer</text>\r\n",
       "</g>\r\n",
       "<!-- Customer&#45;&gt;Loan -->\r\n",
       "<g id=\"edge2\" class=\"edge\"><title>Customer&#45;&gt;Loan</title>\r\n",
       "<path fill=\"none\" stroke=\"black\" d=\"M143.754,-18C146.383,-18 149.012,-18 151.641,-18\"/>\r\n",
       "<polygon fill=\"black\" stroke=\"black\" points=\"151.782,-18.0001 161.782,-22.5 156.782,-18 161.782,-18 161.782,-18 161.782,-18 156.782,-18 161.782,-13.5 151.782,-18.0001 151.782,-18.0001\"/>\r\n",
       "</g>\r\n",
       "</g>\r\n",
       "</svg>\r\n"
      ],
      "text/plain": [
       "<IPython.core.display.HTML object>"
      ]
     },
     "metadata": {},
     "output_type": "display_data"
    }
   ],
   "source": [
    "echo 'digraph ER{\n",
    "        node[shape=box];\n",
    "        Book;\n",
    "        Customer;\n",
    "        Loan;\n",
    "        {rank=same;Book Customer Loan}\n",
    "        Book->Loan[dir=\"forward\",arrowhead=\"crow\",arrowtail=\"normal\"];\n",
    "        Customer->Loan[dir=\"forward\",arrowhead=\"crow\",arrowtail=\"normal\"];\n",
    "}' | pydot"
   ]
  },
  {
   "cell_type": "code",
   "execution_count": 50,
   "metadata": {
    "collapsed": false
   },
   "outputs": [
    {
     "data": {
      "text/plain": [
       "digraph G { \n",
       "        a; \n",
       "        b; \n",
       "        c -> d; \n",
       "        a -> c; \n",
       "}"
      ]
     },
     "execution_count": 50,
     "metadata": {},
     "output_type": "execute_result"
    }
   ],
   "source": [
    "# HERE document:\n",
    "cat <<EOF\n",
    "digraph G { \n",
    "        a; \n",
    "        b; \n",
    "        c -> d; \n",
    "        a -> c; \n",
    "}\n",
    "EOF"
   ]
  },
  {
   "cell_type": "code",
   "execution_count": null,
   "metadata": {
    "collapsed": false
   },
   "outputs": [],
   "source": [
    "# HERE document, piped: (sometimes fails ... fails to see command-prompt in 'shell_magic.py'?)\n",
    "# cat <<EOF\n",
    "# digraph G { \n",
    "#         a; \n",
    "#         b; \n",
    "#         c -> d; \n",
    "#         a -> c; \n",
    "# }\n",
    "# EOF | cat"
   ]
  },
  {
   "cell_type": "code",
   "execution_count": null,
   "metadata": {
    "collapsed": false
   },
   "outputs": [],
   "source": [
    "# HERE document, piped to pydot:\n",
    "\n",
    "# FAILS: messes up kernel ...\n",
    "# type pydot\n",
    "# cat <<EOF\n",
    "# digraph G { \n",
    "#         piped; \n",
    "#         b; \n",
    "#         c -> d; \n",
    "#         a -> c; \n",
    "# }\n",
    "# EOF | pydot"
   ]
  },
  {
   "cell_type": "code",
   "execution_count": null,
   "metadata": {
    "collapsed": false
   },
   "outputs": [],
   "source": [
    "\n",
    "#type pydot\n",
    "#typeset +f"
   ]
  },
  {
   "cell_type": "code",
   "execution_count": null,
   "metadata": {
    "collapsed": false
   },
   "outputs": [],
   "source": [
    "type pydot"
   ]
  },
  {
   "cell_type": "code",
   "execution_count": null,
   "metadata": {
    "collapsed": false
   },
   "outputs": [],
   "source": [
    "%%dot\n",
    "\n",
    "graph A { a->b }\n",
    "\n"
   ]
  },
  {
   "cell_type": "code",
   "execution_count": null,
   "metadata": {
    "collapsed": false
   },
   "outputs": [],
   "source": [
    "ls"
   ]
  },
  {
   "cell_type": "code",
   "execution_count": null,
   "metadata": {
    "collapsed": false
   },
   "outputs": [],
   "source": [
    "df -h"
   ]
  },
  {
   "cell_type": "code",
   "execution_count": null,
   "metadata": {
    "collapsed": false
   },
   "outputs": [],
   "source": [
    "reread_metakernelrc"
   ]
  },
  {
   "cell_type": "code",
   "execution_count": null,
   "metadata": {
    "collapsed": false
   },
   "outputs": [],
   "source": [
    "display 'http://images6.fanpop.com/image/photos/38500000/beautiful-wallpaper-2-beautiful-pictures-38538867-2560-1600.jpg'"
   ]
  },
  {
   "cell_type": "code",
   "execution_count": null,
   "metadata": {
    "collapsed": false
   },
   "outputs": [],
   "source": [
    "display 'data:image/jpeg;base64,/9j/4AAQSkZJRgABAQAAAQABAAD/2wCEAAkGBxMTEhUTExMWFhUXGRgaGBcYGBgaHxcYGhsZGBcYHRgbHSggGxolGxgXIjEiJSkrLi4vGB8zODMtNygtLisBCgoKDg0OGxAQGy0lICUvLS8tLy8tLS0tLS0tLS0tLS8vLS0tLS0tLS0tLS0tLS0tLS0tLS0uLS0tLS0tLS0tLf/AABEIAKgBLAMBIgACEQEDEQH/xAAcAAACAgMBAQAAAAAAAAAAAAAEBQMGAAIHAQj/xABAEAABAgQEAwYFAgUDAwQDAAABAhEAAyExBAUSQVFhcQYTIoGRoTKxwdHwQuEUFSNS8QdykmKCokOywtIWJDP/xAAaAQADAQEBAQAAAAAAAAAAAAACAwQBAAUG/8QALxEAAgIBBAECBAYBBQAAAAAAAAECEQMEEiExQSJRE2Fx8BQygaGx0ZEFQmLB4f/aAAwDAQACEQMRAD8A5tpBiHEYZJFa/m8bCW9U+nGPAkD4kkA/Whryj64mPJOWpUDUjkNjt13hxLwjADhAmWitapCqeQatOUNZc51BPH36eUL4XRoOmURBWXJZUwKDgpQK1/ve8Hy5AiSVhAHYXvC3M0W4zLkqBCFFJNtwPI9Ijw2EBLCXV2Labs4U5IeoBeHRwT2jQyFJLp+Ie/KM3nFRzTKJqUhSgCdTMB4iHu4HiO3KNJeICFgfAlSWUCEq06npuRUVBAozw4GX4iZMM5TA1uSAkA1HEirjizRvNyYMkJeZqU7Uqk+FagVfCbbv0eG710zAebj58ogEBY8LGtdTfq4O4BPnWLVgU6kJUUsTteF2QYBUtc1C3UlOnSTUEOSKGxD7MKQ/TMDxPlkukaio4jJT/F6H8BQFE0ctsUhgQ6d6RYc8yxJR3SQ8xKVFLUYmhINnrQD2g+ZgtS5cxOkKSSHIJ8JbUBzoLxvm+CM0ACYUgBTs41OKVBoxgXkto6hF2dy0ISXl6VkJ1kWJHyNa8a3rHuI7OSNCvCAW+M1rsSN/3MO8nwhlSkoJJLB32JFQOTvAuMxyRNMssUUcpckF2Ltare8HdsJL2KbnGSJliUlIKmS6iWDanIJFKuHY1pAOOycy5eoaUhg6iSSmr0etS+24rFvzHLJU1ClJIJAbxn4GOwNqWLPQQrzDLpRlBfeFayEkAgl67c6jkD1ifPhTt1+5ZippIpyPHNIJKkqIKlFLVFRQW4NvDmRlgMuadJ1IYhSh8fAAG3lyEOsmyB1LUuWdSh4Aw/p8zwNCPI84PwxVJmBCgVBg7bbClnqeHGE6fD6bn5+//QpYnFteV/BS5WBK9DgpKiyiASFfqdxXXanMRNmOFKChBSzrp8SqAgkVvtt12iy5pi0atKk0YEAEULtqSWFQz0JvCeXmajNS6tRTLaVSjFws7eJgw6Qv8PhhKnK3/Qe6W3hdi3FZQZkrXZf6Ukt4QKM9DbrD/s9gVo0gywzklW4LUDgsSKgtvwaE+JlqVNPejUSsJooDQxBfVuGTWlKdIf4SVMCCmUQlCRzJYHxDUdy7vvtDsCgpNoRktjSbPSgEqLAX9HimZ/nfetYyiSyQSFUFybB3tXeLXj8AqXIKZQKtQZTspgxDAUfbyEUrA5FMmlglVSwJAFgVF/IDhtFUm/BPQvOqYoKXqIDAliaCgAPmPwxHNRQqA0gnwgtYvtd4scpCEJ7oLQos8wBGpikVqzMPDuBc9E2Y4YkqUVFQFdTgg7gEigOzRFqE1Gw4xFS5hKtRL+XC1B5RKMQVBlVD8noOPnaNpGFWv4UkgX2pzOwoYmXKSlGpyDqYJ3DVc+os+/CIUpdhUwRVFGlOBa3MDfpEq5ZWCQAyQSwegHXqIfZdlZXKK0KBmBhUAuLuoFwKfOI5uXICFhZJWo1IPHSTvpIB+T7Q5YJVfhm7QCRhkmTVQBukEHxUq35wjdEpCAVKLWISbkFykhjZ2oeUZLzIqlplaEkJd1AtTYvt9YGBS/8AVJLWYClwN32twaNlkjGq54NUUwuZnCtBQgAFRdSh8RUaq5sLDpCtSACCXZ6vc82/HaCZs1OkBKAndyqp526RomTqFXKi5u9g4cetY55Hkrc7/gBx9iSRhysgUZqOeXB7xtOwYeh2HTycu0EyJJCErC6t4Q7aSTf577iAVpBO21yeFduMejBx28qxcotDOWkhlB+bVv0gibMCwWvSnOw94VYbFlO1IYoxCCtBDs4dwasCr2IimOaE1wwHFob4XDNLA1bV62PSvziSQoFyoU2H1HAHi5gWVNSt1FTIexuo222+Z9ze5KwdT6f7QWPUm/C3vBmBuUTStAOznzqYbS5iXAJqbQsyKSnuUEOHSmoP5xjZZHfEay6U0FGKlVq52AH/AC6QmStm0WBCBEgw4MUZGdLCyQdKiW07cHoOQhplHaIqrMFNSUvShL3/ADaA2m7WWSdgh+4gZGCSFlddRAF6AANRNv8AJgRHaRNlCjkP0LEsQ44wfIxiSygXBsY6mc0SGVHicO8ESMekqCaV61jMRixr7sBiXZjy+bt6mAaZlGsuURG4RB5QCpn29eH51jJuBIMBZ1EMiXGuNwCVoLpdmPNx84nFNoIlrA84bE3plD7tCVVEzQLpWhk3/uS7eldVzGi5QWuWZA//AKAOA7Ap8RHsD5Rc8zwEuagptc3IBUQzlusVc4EyFSyjvAWWVNSwBOnZudYRkjJeOPfz+h6GKUZdPn28EktRwyHXM8av0q2JNL7XHGMlYo6hMU3idJCN1BnLlwdhS0K8HiFTFaUpDvqclykOwclwAw5PFmwOUzFKSpaiEpYhiCCdyEswoGsKGnGFYc0p04flVFObHGN72rf34E03L1INJOoKNNIAsSRQF3KXfyNIUZ3gZap2HQkEkjSoJKdRZJLkN4WLguLDjHS8WtKEFSmASK9IqXZuScROXi17DRLHAfqV51H/ACil4oOW1+SX40nEhyXDB096xmJSUAHYXUDTd/8AxhliMtTMU5FCCFDYgj5u340MlSZcsh6EjTvYmj+YicSa0h8YpR2k83zaF2Ey/QlnJHPnU+8aY2WhLAoKlHVpCUubMSDYFjd4fCTSOX9r8ZNVilS5KlKv8BJagBFNgRyrANiwnFZVKQSZiwVEFJAdZMt1H9INVEpUXtttEM3C4dIXrKUlaElrEEHwjSl/DYu7l4V4TK5gSuZMmJlaAG1OSXNClqioItxhPPwM1R1JJWkHSlTu5AdgONLQnI6XKDi34NMZikjwylKID8hppRg9q1JiLDp1gpoDcruw4O9mflSC5mVplkhailYSCUtVizUNKvZ9rViEqVqKkpKklQ8LaUqZm1JFzyBjyZvnn/A9Rads2yzHzkOiXZe5Q5Y0cD5CIZkpTLSVsAWYAkFTtV6i5NuMGYjCqBBWtGt2IJI7sVIY7B3FeHnEOJeePBKSEpU2sBVaAAElyTR/OD3Sa2+3g5woUzPCaHl1HHzgqViSlJZY8QY/Ku4ADwyR2erLGsEq+IJ8Tb7Wcc6QqxQAUU6QNLh9y297wuUZR5YG1x5N8PN0F/CWcODxoSHHDeDcFj2cskEjTYcw2sijirvtCdxw/OPWPNJaMUqOjka6CzPYBJFLvxfZ4gmEPQMPMxFyjHEOWdinyES1v1gvBzdJSxsp2IcWIevW0RSJNf8APrBExDhJFgRW21z0hUMsk7i+SuOL0+pDbD6VqSANOmhUf7tupuepEOJCNJGtyl2d97Pdq+UV+XMamk0uSK9eZ5wzGOQtGlSQTevow9vSPS0+vi7UuzMuka5Q4weIlpw6DqIKUAsCDs9j9IVzAtYDpLhRKlPStFJ0uASnjyhZKGoSwCoEs5d6JPiZ3banziz4OQW06ksHDFgAGd61faK8eRZehEsW3kQYfCf1UpIGpJYkAssEeFY2r9IlwaFaXUohKFsNyVBPhIrRuXGGGbZeQElQDJYAjgC4DGrX9eUK8bPs7mtamp9Y83U6tYsnw0nZZp9NvjvfR6rxLck1YEuXBJ1K0gXJ58of5ZnQSBLKGAJq9wag9d2isIX+q1Ku4cmnG0ZNxK5jsD3b/CAHYb6gOtzvvGYNXKqfaOz6aKarplwmY1Da0mhALkMWLsQwDBxuI0w+PKSFKbUztWhCVAbXLtFfkYrSQpSCUhikCjkMKPtQU3glU/vRqNFBisVdqU2q49+Yj045IyR58sddFwl5j46JNN63L3Hp78otWAzR1aSnzO/Xhx845zh5hSRqGlmAB/UTQqZy58XveHmW48oUFrNSosbNdx1FfMxk4JgUXqfg9VQkQN/LTHuU5vrTVgXs4O5H0hmFBVjCN0ocG0LP4Boq3auRODzZNVSwRoKfjBYr0niw4cd4u82Uwd4WYl2NHp0hkJbuw48Mq3ZiXKWELSkArBUEgOkClzxFacSbtFll4iXqKUlyCaM3VjY823vFSRik5fiVuP8A9ecp6f8AozP1U/sPL/Jua5hqL6pak6dSakMHAd9TAubitA0BJrFH5FVPJLkD7bZmFS0SJVVzmU9GQh7n8sDC9GMSEhGHctoBCW1saa6s54jm78KricWrvW1AaWSFV2LegD+0WDLsakO8pJJYhaUuQ1NWolmPGhtwjzpapzyU0l/JTDD6eBijE4kp1IK0pGlOpSQ5ADjws6nD0obdIZSM/aXL/vJIUVA2DuaWJ58DAuTa56gjSAlIoCAoq2JJd2YkBqCu4i4ZdlKCokoWgskctKSRp4EFrNaKMM5VdiM0YxdNAiccmfJm90CaKSCNQelGLO9dooGcyBhJiikq74pLlhpYkUe5o9DyfhHX8XKEtB7uW7JJDMEghqFqgVJcA0Bjkef4ebqJWhkqU4UX5qDj9Jtetg14pxzsiaK+lRWFhRSiUAGRUBRVUEl7gkvwJNKRBjcxlaGlooP1aEmoDMxDBJ43cehU6QmYADrUpgzgHXtp4J8/eI5GXqU6H03UALBqE1YPRn6RmomtoeJO+BL45y9RJD1cgndn3J6kxNLQonwsGUPHtX4T/tsahjeCJqEp1B1OGASaggOS7cmoOJjJmLmFAAUpRLsGI0k3Yndz7x4cpU7rn78noQxp8M2/l2gqWlYmrcjSG+JguxfwBnJ6MawJPlTVqoSErdhspw5qzVI6xNixMQPChgG/6jUAEGjF2/HgydgJhkpVNmaWYJSCE7OSePNQEH8S1x18jljt0BT5glhSNKmcVC3003UPCbi3LhCYSNTaQq9XqG439obY+XKSB3TLIqSxUE8iTRXF+nSI5XhalVVrW27NblSFyyexk8LbpgOIQlLBIdiXoQ/nEIl1dTtT/LGGUyQouVMo8BQB923hbOlNenKjtGRlYnJGndECqRGYnEgmwjQo5QyyZxYyk1sfP5X2goXTxcW5b9YzDYYn6O30rBkuXyfpEkslPg+k0+mk4qzJE9ySqpo9LD6bVjRaAVXYENRuR35PzpE05DMWHMOLGj24P6RJJlh3alf0sduMd8dvlj5aarh7fwD4XDkEWJCaM7eLieg2hzhJswCo8JLAJ00I3Yn/AKeJtC/DGWKs7kUNHFOFjs0MMKnvHSnbUQC71J02NwARUesXaTPJNpP6Ij1Gmgop1fv9/aJcZMSpNVm7EFIZ60AFeO+9oT/w7AP4jqIYV5g9aivODp2ELuzkUI0szca8eD3hVNmeJ6sS/ny4s8Fnm5epq37kyUY+lcfIjKAyQQfTSGeu1faJ1y2SAvSlJchi5IpsklhXleIZwUoDh8IrxYCN8MlCdQITyJd/IWHmeEdimhORMLM0EgKSpRD0WWAd2JoCSQ9DG2VYdSiDfUT4Ut+nc8AHBfnBcsKTKTMUVBbggKregBYMIIwyCFDRQ6EpSACS9y7HZIBvw4xcpepX8hDjwF5gtYSSlS9QAcBKQkbkWpcGAVhSylAWvwivCrWA/wAwbhBMbSEKL83cX/uDFyDxqI3UkIkqKQACpT0qVA+ElxRgAG6wzJN3us6MI1XkbZNiFJUaagCA9C9mtxrsNovuU4zWmpGrccOUVLKpehEs+GrlxqfSxArU8v8AEO5LS0oUQoEqKaAkpuWJHNn4tBuakueyaWNp8DnMm0g6FLILjTdJYh/QmA1YqUQS9AwLg0ezv1EC/wA21MlelGpmLuDU7bHwlgdx5QlzgTATpCCQNMwpKkNQafCaB6VF6DaFOWxWOxYt72sYT5+HmK7tKBNBFSGISDfyrtxirz8rThJ/dkq7icDoDlWmYmosHKTZhu1958HPxMoBCZelSmUSTfk36duDNEPaoYnFy9KQAuX/AFApLuNIJNhwZrVaEx1UZqpJ/qiyWmlidxfH1KbkmWKnY1cgy1FSSrUlJA0BOoKqXA8ZTVzajuI65lPZeVLAJSCopAUCARtS3EXvFC/0u1rx2ImrA1LlrUoizqmIUW846xJSdxD1jgvUqJPizqrJsPhUJsADyp7wYMMWfaNMOBu0Solkm8KkxMuTXw25MX3isZ7iZRHdCQFBZZWnSVB0s7MdKmAq22zUsOb4pEgAqQouQH4kuaMDwaKxMzJcwkBHcoLmgGomwWFNxo4tSsbB3yLYszLKMWpC1aRKQQQxKQ6dvDx0hqB39ueYvKFOpStRLtQMA19XGpFufGL3mOHxE1PiXMDAVWlIYqAJBIVypR7QCjIZ0kJmSpyVlYfSbaRU6kFt+fFgq8NvjsOBSsowiCta1oWQkjTW77Va7cRR4eYKWJywvuJaU6iBdIIKTWhFiKM5J9YkyXKZcyUZ06Zp0lYSl/1PZKU+Ilqk2ZQ8ijNQ6JKZenSnSFuQ6QE30g1Le8ebqGoP1M9HBFyVoHkypRWEKVLSAtwhSCxZPiJUqYUgMRWppTZ1eKRKmBpeH1KBa1w5dQGkBiP+oW3i54/BhCNZlpISE6VOoCYwZIFAwY1O7APFPxGHOrX4hcKLEAqvQ8PtEOozRiqotx7u/BX8YorJQyUpADi2nyBZzGs5IBBAJA+nDhB6kfpcXa4677c4W4mYo0Kgwe5KgT+PCoO+ELyyk05PyaS5juxSAfzq8RGWn9KSebf5AEazAxDAvub129oxS1AAEEsNmFofXsTprpohWkhy4rYAWaItYNSCfL9xHk5bly/EXiMkcPnDUiWUlfBYpZCS6reXoREyJouEniGo2zwNgJRWNSt+gfzd4PIYEBmN2tzqYhyJJ0fS6fK3C+l2vchWhKmBckF+DecEJGmvK5YEPYO7DasQunSSE7jYXdq9DEygoOoUDPsW8vtxhfPRQpQkm/Puv19zZJ0iw8Xok0ALjlyake4PDLVq0EFjb4gXINgPysSIWCQ9Dxb6DytBGHASpmDHfr0tDMOdRklI7NpHNOeJ/oH4ZC1oCFIIFPEDpAcvUOaViv4rCFM1QCn06iCCbnr6dOMW8zAZalhQDUeymAGzbfSEOLwomT1JL6RVrEgAU8y348evqZRkoJPn/o+e2u3aEMqSpagA7JNzvcM9nqYZ4FCAf6gUmtyP1dU7OYIk4RLHwuwPmASHPNgPSJMEnSRQfFSqTWl+ItaJ45IwW7g7bJ8M3zM+Dw6iliQ7GoYjU7vRvx4zAYlICvH45hNK0BKks46O4gybPJdKgANJDJoCCGqAaVI9Y9yXCCiksVC4cigSOBDb8bQ2OqUp7oHPBxTD8vlhR1u4d23AoHYM9QLcfTec3iTodOogukJuAGrY6lfaC0YsJlSwJNdIIUCCbXu46mBZcpZK9YVUuz8UioALPwaziCz6q/T5Mx4knbGOSkDu1Uoh2BqS3LcBj6wf/NhKHiSWbWlgLks9qARX8tmnQEqYEBL8QElT8gOvEcIbY+dJnYcnUQsEXPxAnnwBPlE09W48Rav5j4YIy9UlwTHGJntqWEqIcOHKTsetQbceUVfNJsyVMDzHUGDu5IuEqFRcuKnoIYZQtCVVn6UvdibfIsGtxg7OFpeXpTLWhQUKEpCgnYpSXFWoTwjcmeWWPdNe39G4McYStdP36/yT5Xm6DJ1E6VFQSXSo6mFgQQVKJUS5IvGudrxCsNP1gSpaZKjrSkgzCK3JBAJ4uOrwt/08IGNnypgdkhaaE6WuQ+zFnNbR0DtplhmZdiAk/wDpkt/tZTN0EV77S3y8IkyNRk0vc5t/o5hJizOnBQSgMiofUT4jwt4fWOqd2evP9ooX+h6kmTPk6hqCwsJPApCSR6D2jq8rDoF2jZ6rFCTimStUvULUMNh8oLlD8Bg0SUcI2EpPAQt54sW2hacG5JJU5sTXTyD2FbRrjZKZaApRASCPCWAUX8Ie92PlDekIs9C1FJRpBS7aiGc0tua/OJ8urhjVyZ0Ib5UV3Gzps5ZlfwwJurcauKjqAADhxWFuKy/u5Cu8ElRDMhJBrv49IJ8JsKc4s/8ADTSHJZx4gFFiSXJITe1uZiXCZSlLApoBQqO9Q+kAJD3s9uMKf+q4qqI9Y4x7ZzPsdka1d+o6UJBCTRBIcmzg8GeHWeSJuHUfEhlJ0gkALIYu6ggJU73c3veHuW43D4bETkEy0lJSbXqoU9vaFfaDPZU0lgVKNlEElLbJGwrCc2tllXCZbgTjPrgrOOzSYp3VpA2LnmzPxEKFLcBRDHi4HVga7mJs2xVapcjcmp2vcnnAMs94xSgUuLeV2ZuPCPOnjn+eR60NTjSUF39/Ijm4aXV3D36cH3F4VT5KDRBYUuxIFdyKNwg+eol06X6EAAcHgJSHDISzc/TZ4djTXknzTi1UV/YumyaEjnUVcD3jMKa+J6MwPE2NDG+NnKCSrrQfUjzhbhiNLqJcvv8AR4vjjcoWzz5ZIwmqPcUQCS4d7fttA6pgP6T7faNlIBJLeW7xqZwFAn5RQoce5NLJbfNItuHkJYKKTUbqdhRhpjeYEhwpIY3o7jmaUhycGsV01PT23MCTME6vEHNDzT+fWJvw7lJuz0nrIxilXP0FiQiY6Qk0JFaV6Cke4jDqDBPicUDfJiXpDaRlqhUJZ+kEJwKzvpG9Q1P8Qp4ZqXp5X1GfioShUrT90vv9xKErSQSghzy8hz9YhQtQ+IFxbhsSTWLIMtm6noQNnfz5nnEwykLfUACQx/N2hcMUm/Uv8FOTVJpOEmvrxfzK2SVzAyvCKml/tBGGUoLJSTSgZ9ufrDyXk/dgpSASf1ezt0j1GWsGBFvffbrD3hkuI9eDypai22yu96oBVw+9nq9vONJSy4YGvl5Nf3ixHKSRUh+NftGv8l3oegb6Q78PapiPjtPgHl4nwJSoJIbo92BIuHb0jfJcamUgagFVUAAejV4UG+8FSMp0s9+heCpGCd6GnBP48Hgwyx3zZss6k+eP3IU5iyEhKaBIcUqzM9Kij1jP48nVpoKeGp/Sztbz5wWMvCQ+k+kYcES5Eo15D1gsmFzRy1KT56EffrC1VYKa/PpxJiSVOJUEgFg70u1AWpV/KC8Vlpr4SDQ1NTyf7xJIwK3+C43MLy6O0nfJ0NXVpdCqYpjVJHGh9Rb8MMJeOWtQFBpSA4DBLuT8LeIgD084KGSqNdPHdvZonwOVL1FwXJtfYNBfC2xfPIUdTbS5or+dT1yJ6MWlTkUUWDKAsClm252EWz/8ymTJOnWPEkhwA7H9ozHdlFTZRCkKL1Zh1EUrs/g1onTsLMB1IBUAzlhej8GPrBQwxzY/X3H+DZz2y9PKfuumCdj84XhsayCz60HmKn5gR0qZ2pnM/e8mA+nGOR9lcOZ+Plpb4lLLD/aomOtzOybNTnt9TCNdp8Xxk2+TsU3s/KmTS+3M3TpCw+xIDxHI7WzSr4zxudto1ldkn8RS/wDxiXD9mkuB3aqc5cKnDFtaTZsW91uK+YartlMuUhxa4p9Y1zLteFJHhCVcXf04Ruvsqk/pX6p+8E4jsbL0v/Ufdin6iJHpsMn6m39/U5ygnaihVh+2aghQqs7cj9d6Qlndo5iVuVk7kajU+Rd4s57J4ZIJmKWDwUUP5ABzC3EZHhVWE1v+wfV/aLMGk06/2ipZX4pHPsPmhXil1YEHlsD5VgxOKAmWI2ZySS4ZgYLR2OIxBmFQ01YPVuBPG0OJWTpSaAXfaPSlDH0vYVLLOXZT8xxSSzG+5v8AaIf41KUkMQohuI5U2eLn/KEi4R/xB+keJyWU9k/8U/aJcmCEo7WHjyTjLcjnc/4dJUTanLeI5kopZQBAIpxZ23jo/wDJJLuUgnon7RGns/JDuNXU+g6VhihBXwa2/c5diFqJDp/KPAs8EOkixp6x1leUyf7B+eUDTsnlGugPFEHD2J5pvycq7nwtvd4HKDwMdZOUSm+FMBzMkkv8KfT94pxuHlCZI9E2ocq9D943kpZRdVDV7QMnEkpOkiluNYEVNWTUE+0LnF8jUuUPpaRuSfOJdKQQ9HivZfOUUkJBo7ueEHoSSQ6t/WIZycG1ZTHDvVjmSgAu9IlkqDwrUkJI1FxX7/URNLnawQncsOjNC8eWUhs9PCK5LBhglRcAHYty+sb4YIUVCjAt5MT9IS5GteGmnXY1HW0T4PEHvlpFS5pxqR9Yp+H1bI21fBOQFB0u2/t94yVMQ4B477RAFqTLUOLH0JH/AMYFlKduJJL9P8R3KQO1FmlyUkAgU48d/oY3wq092CA7qP8A4hx84ri8ctmBZKA79aQRkmYaUjXUF26kA/MiCxJvs6dIt2DwUpaEhwHHu0GnJkAK8TMw9RFMlT5oSlQBIKE+VHjxOeKVrBfUW8jpb86QyWMXY1m4dKlqSKsR9o3w2GUVBk0JI9IrWV5kof1ATUj/ANym+Yix4nG6cIpayxKvABxfxH0hOTH4HwVqzeSHUQ4p9YfYfL0SluptOkedwY57lWay1L0zNWl3p0A9A5hvn2YqCZKZbsCpiTViGJPn8o5YVtthRfhHQJ06QhDsCGcAcB+0fPHbLPZK8XMnIllD30uXoz1ZnHzMdFyztD3SgTqUGZi3s8VjPkyZs5cwICUGydFRQB3HE184bi2RZjTjwmUbJM2EicJ0tSkTAolJ0AhLhiCCS4Yx2bs5/qRImpaegagPilhTK/7VW9TFGkFKaIAA5Bn9qwQnEDifaA1EYZe0FG6pnUcL2zwigPCtPVILehiZXaXCCyn/AO0/WOWIxZHMdIk/i4meCJ2xfMvec9pwoASCUl6qKRbgKwoxOdLUllzVLY8gH6NFXVjOcRrxAe5hkMUUY1XRYJmOF6x4MwivjFB2cxJLUD5w7oCh2jEEmN1TYVoUAbxv37/4BgWwlEPXPDXgUz4HVOHXygbUC7UjjqDjieZj0Twf1e8LaHeMkgG59I0GhiqYOMDLmkm8DqUIFXOrQwyItoInLIgczeUDzcQ+8CLxFbw+LAaJMNoADHmYnMxJud/z5RWZONZweUEJW4cGn0NIfmwjMcxoqciXVJqfrEWZYyx4MPVyYBIDpD7/AEaI5gUp/wC2l+TR5s4xTtl0NzjQ3weJ1EufxoeZCsJWlyGBD+sVXDli4Fx7tDPKJZIdRILv5MT9oDHFt2uhmTbFc9nRM2ElaKVVrYnk4+kVA44S5yyD/cAeloZTVgYdwWJcnizfcxSZmKDly9Pd4pzLlHnryWP+aUNdh9fvA+DxKlLA4VPSK4jFMb3tDLL8wLuGcO45AQqK8HFozKYEoazo+gb3gTLwp0/2j76fpCrNcYqYhMz9J0j3t6RJhMeRrQSwNQeoKk+5ilQuQDfBdcLmqwEyQANNCTv+0KswnAKUhKa6iHHQP7P6wol9oRqCm3HnQU9RHmKzNXdKVQKUpfozP5NDtgsf5LhErRLH96aDnQ//AGg5eAM9LE6dKTTibkwtyRAEuSoKcpOluFItuUpCkVodbn5NASxJ9jI5Guiqyct7kFRDqSlSmNlBLM8UvH5oVKK1LZ78OjbR3PE4NBUC2zesU/POwMhaipB0A/pZwOm8ZtTpI5S9zmGGxgJB1Hhcww74kX3vxP40FHskg404ZM0slOpStIpQUvxIhniOxK0IKkYgHSCWKdO3Fy0dLG/AcJR8iRU/TcxqqeCQxhOrE0JuaVrAsqco778YTsGP/iWuXO405vHpmjZ4qxxM2z3P58xEyMwI4fnSFyx10apMe9+OHWNFYgjenrCxGZG+gGnH6RIjMR/YW8oxRZtjJC9zBCJnCFCcUDy6GCMPi+BH14xzRqGJmkNz3NY3ViKVU/51gL+I4jyYxGcTVmbrT5wJ1DJU5TXECifzgfvy/wAqxHNmHz4xxlBMyeaMT67RtLxRZnHnAKFK4iNZk1Tn9oJASTDZ2IULQOqaTY84DmzDxrEC8QRdhDEA1ROJqqufmflGneH8ECzMUR+FoHVj1fghiQBFhkhTvc/gieQq4hZJmGsFYVJNXYaSfSPUzx7F42HqqpkuafKMViGEwHgG9oyVixLAYOdJfzaBUYgFJJG8eNnVHo43fBYslxqUoS4FAfXjBpzEJQGTUpRT/a4+0VPALdYuUg1HX/MXXB4ZKgAAXJJPIAuIPApTj9AcrjF2K8djVpYAvqFuUI5qGZRq7nysIYZxMTKUSlyq1djCjFY46Qkj9IA6XjJKnQl88nmLmDUjYb+bj7RsJ2g6UnUDf1+3zgPG1ZjsI0VN8IsGoOdavHLgFj3EY0kJQkaU1IfgxgjLcWlZAWfCtDN/tt84RS5pIJS6iEsQ3GCspw5A1kEVDdDeKINtgNDqdikypZGl1MGPXeBZGNUElExiFHwq9CYbYzCIIYVcJ6Db5RFOyELRLCbgkdOftFe0XY3yDF6f6d2KS/G0dDyKS41k0u3m8Vrs3k4T4mew8xSLcJ4SGtAyXFIwIxuaJQH8qRT857VplzGUSA1TsC7CCe0WZJEpRCgD+U9Y5RiEzVHSoukr33OqjvsGjlFY11yauR3leYr72djCCQ4HkS59gIsk3PUzUKlBwtSFADqCxinrz46BLEqxKFabFQLpr+XgMz8QhSZoBCnUGI2cUJ4V9o6L2qgmrGv+m6kd7OSsA6kJoahgS9D5Q1zXsJrUVyFJANdCnDcWUNuUUnsvjVJxaSGBUogjq7iOtYbFFq0jMcYzjRjbTObYvs3iZROqStrak+MHnR4Cm4NSD45ak3bUCPmI7AifHqylQZQBHAhx6GFy0nsxsdQ12jj0tJvv+e0SolG5PmTeOnT8kwygXkorwAHuGhRjuyknSdKlIZ2chQHkYS9NkXQ1Z4PsoqHPSlvysRnEBJ8QX7feGeIwZ+FK0tuQD6t5c4FTiElwAosWchmFvvArH8jpS44ZJKx8tQbUR1cfePZqXqPLhAkwSyWLfbjEaklJ/pqbb62jHiBWR+Q6Wovc+nrWME3iYXLxKgQFu39yeMSoUFBwxD8r83/KQuUK5Dg93CC0zbj1f8vWPFTmHLzgZaCCzbOHIf8AOUbolk0byNzwqYFJGtMkACt36PEM9LChcc3j2YlQehjRcviHPX7wVAECwK/eBVSy9E+4+8TLWR9A37xqlXUcoMFpC/Co1KAghJ1K0pNk/wCYASpoY5Rg1LW1o9rJyrIosmy7BKmqYXaG+NyIolBIuWJ5klmhvkWGACgG12PJoaY/CLXoUo0CkDqXiP8ADqXZSsrXCKdk+FWmaUMz+IeUW8BUqWCFDWQB61+sb9osF3elcseKo6PFWzDHzNRSHGkAEmwNiY5QWJUY5uYsx4KpqquAC56XMLMQg0OxFPlEpxVJgH9oSOdamN/4VZSgbFLjkAY8/JD1OSHwdrawXDKZQfYv6QXJwBWoFIJLks20e4XAlxTcHyMdQyvAypSEkJDt84dptNLL3wZOSiV3Lsl7tbkAamd+e3kIhz9PdrSEjwj3r+0PcxXrB00NW68YAMhJUEqLlwPIBz7x6fwlFbUTuVg+EITMAdkgJfmposeVMmZpNQ7+RtCufISZlB19YbJSlJfeDjjAbLEnFhIZIbeAMwBmpA1EeIGm4hf/ABcejF84YsUUZYGrLdBK5qhoSSQL7uOsarwicQS8vwJSdJG5v9oJxuOOgsATSh6xLhcZpSBAvGujbKicHomrMxOlCrcEq4jnQQf2sx6ZeEUAoFambi5aPO0alTUaioJSKl+R/aKJNlrnL1qURLKgATxNm5QifpTSXYVnshaZM+Sp6AJUrkS7x0nC5mlQcKBEcjx+HKFsS5Z/WJMHmkyWNKTRwWiPHqIwk4SVGM7KjH84kGN5xyodpphubWEWHD5wsqA0vR3Hk0WRkpflZh0CTiYEzpHeI0helRo3F4VScWWLXanWK72gzebJnBRD/C3UfsTGtHAeNQlKinUDouXNa0r1+UCYwlJ8Lg+Fw77OOvtEMnFS5y/6nhdyeZ4RAucVTjoTvpAe450gVBM7cFKlTEkAiiq24/4gifLlhQ/SWsePlSAsVmU3vAH+FgBwbYxriJxYAOL7W3hc4UEpjISgB+fhieUlCSPDV77DnCHDzTRqcTf59YYmY6QNVquGZ2cRDliU45cWazgRN32IMGiSCWN6XJ+8K5mNK0AltQNNjzEe4fGanoTCpJ9hQasazEtS45/d/aBZqCSwFOv584iRiXDV9R6tvHkufcN0LNXpGLgY0mbLCtLBVuR25wHXdaweR+5gnvQbGvn+NA8+pv7CDiwJIkyPI1TlVBAiwycn0qXpNUFPo0ZGR7U5c0eYhvhdOoqA8JqeRtBeZTU6ZelX60/OMjIxBIbYnSpBB3EVbH4FK5GmWPEr4j0vHsZBTipdhxK1hOzC1jgPnFtyvI0Ilsr4mI6CMjIDFgguaNlN9BeHy6UguwgmbPEZGRTFKPCMtsB1AKcc4CxEnxlYvHkZGNHBiCAXjaZiIyMjUYCrxEanFxkZGsE0GLjY4yMjIxo2ytZpmPfzkSQpkXXz5QT2gw4VpQmgA8IAuYyMiaD3KTfuEVLH4VaVEqBYED7R5hJIUoV0iMjIgljjHM1+v7moMVgkqIcgFVusFS8zVKSJek6gxP1jIyKvyq0YxnlXaQKUEqo9vpG/aqfqGk0ZOoc9iPlGRkdhyPJC2cVGUtnPEQ3/AJVq0qkrejlyxBF4yMjcT7XsCa4SVM7wldSXFWvSN8QplEOCN9LkD0asZGQcgkREsKEsTx6fvGxJAaoPCMjI87KV41wBKmNQ0e/IixiTDhqP+f5jyMie7VHJUyeYl93f8vEQKgak/nlGRkYmMa8kkueQLFjvEE+bW0exkMgBPo//2Q=='"
   ]
  },
  {
   "cell_type": "code",
   "execution_count": null,
   "metadata": {
    "collapsed": false
   },
   "outputs": [],
   "source": [
    "display /cygdrive/c/HP/drivers/touchpad/img_clicking.png"
   ]
  },
  {
   "cell_type": "code",
   "execution_count": null,
   "metadata": {
    "collapsed": false
   },
   "outputs": [],
   "source": [
    "cat /cygdrive/c/HP/drivers/touchpad/img_clicking.png | display"
   ]
  },
  {
   "cell_type": "code",
   "execution_count": null,
   "metadata": {
    "collapsed": false
   },
   "outputs": [],
   "source": [
    "curl -s 'http://mjbright.github.io/images/Mike_4_Chili_Constitucion.smaller.png' | display"
   ]
  },
  {
   "cell_type": "code",
   "execution_count": null,
   "metadata": {
    "collapsed": false,
    "slideshow": {
     "slide_type": "subslide"
    }
   },
   "outputs": [],
   "source": [
    "typeset +f"
   ]
  },
  {
   "cell_type": "code",
   "execution_count": null,
   "metadata": {
    "collapsed": false
   },
   "outputs": [],
   "source": [
    "%lsmagic"
   ]
  },
  {
   "cell_type": "code",
   "execution_count": null,
   "metadata": {
    "collapsed": false,
    "slideshow": {
     "slide_type": "slide"
    }
   },
   "outputs": [],
   "source": [
    "%magic"
   ]
  },
  {
   "cell_type": "code",
   "execution_count": null,
   "metadata": {
    "collapsed": false,
    "slideshow": {
     "slide_type": "slide"
    }
   },
   "outputs": [],
   "source": [
    "%%python\n",
    "\n",
    "print(\"Hello World\")"
   ]
  },
  {
   "cell_type": "code",
   "execution_count": null,
   "metadata": {
    "collapsed": false,
    "slideshow": {
     "slide_type": "slide"
    }
   },
   "outputs": [],
   "source": [
    "%%html\n",
    "<h1> Some hypertext </h1>"
   ]
  },
  {
   "cell_type": "code",
   "execution_count": null,
   "metadata": {
    "collapsed": false
   },
   "outputs": [],
   "source": [
    "%%python\n",
    "\n",
    "import os, re\n",
    "\n",
    "def getCygwinPath():\n",
    "    ''' Search in available drives for a cygwin installation '''\n",
    "    \n",
    "    # Find available drives in form \"C:\\\"\n",
    "    drives = re.findall(r\"[A-Z]+:.*$\", os.popen(\"mountvol /\").read(),re.MULTILINE)\n",
    "\n",
    "    # For each drive look for C:\\cygwin, C:\\cygwin64, C:\\*\\cygwin, C:\\*\\cygwin64\n",
    "    for drive in drives:\n",
    "        drive_root = drive[:2] + '/'\n",
    "        \n",
    "        dirs = [ '' ]\n",
    "        dirs.extend( os.listdir( drive_root ) )\n",
    "        for path in dirs:\n",
    "            path = drive_root + path\n",
    "            for cygwin in ['cygwin', 'cygwin64']:\n",
    "                if os.path.exists( path + '/' + cygwin):\n",
    "                    return(path + '/' + cygwin)\n",
    "    return None\n",
    "\n",
    "cygwinPath = getCygwinPath()\n",
    "if cygwinPath: print(cygwinPath)"
   ]
  },
  {
   "cell_type": "code",
   "execution_count": null,
   "metadata": {
    "collapsed": false
   },
   "outputs": [],
   "source": [
    "%%python\n",
    "\n",
    "import IPython\n",
    "\n",
    "# This is nice to have but we want rather something which is callable from a bash kernel\n",
    "# how?\n",
    "def displayMysqlTableTextAsHTML(text):\n",
    "    header=False\n",
    "    colNames=[]\n",
    "    values=[]\n",
    "    for line in text.split('\\n'):\n",
    "        line = line.strip()\n",
    "        row=[]\n",
    "        if len(line) != 0 and line[0] != '+' and line[0] == '|':\n",
    "            if not header:\n",
    "                header=True\n",
    "                colNames = [ colName.strip() for colName in (line.strip())[1:-1].split('|')]\n",
    "            else:\n",
    "                row = [ value.strip() for value in (line.strip())[1:-1].split('|')]\n",
    "                values.append(row)\n",
    "\n",
    "    table = '<table>' + \\\n",
    "        '<tr>' + '\\n'.join( [ '<th>'+colName+'</th>' for colName in colNames ] ) + '\\n</tr>\\n' + \\\n",
    "        '\\n'.join([ '<tr>'+ \\\n",
    "            #str(row) + \\\n",
    "                   '\\n    '.join( [ '<td>'+value+'</td>' for value in row ] ) +\n",
    "          '\\n</tr>' for row in values ]) +\\\n",
    "        '</table>'\n",
    "\n",
    "    #print(table)\n",
    "    return IPython.display.HTML(table)\n",
    "\n",
    "text='''\n",
    "+-------+-------+-------+-----+\n",
    "  |  col1 | col2  |  col3 |col4 |  \n",
    "+-------+-------+-------+-----+\n",
    "|  val1 | val2  |  val3 |val4 |\n",
    "|  valu1|value2 |value3|val4|\n",
    "+-------+-------+-------+-----+\n",
    "'''\n",
    "retval = displayMysqlTableTextAsHTML(text)"
   ]
  },
  {
   "cell_type": "code",
   "execution_count": null,
   "metadata": {
    "collapsed": false
   },
   "outputs": [],
   "source": [
    "%%python\n",
    "\n",
    "s = \"\"\"<table>\n",
    "<tr>\n",
    "<th>Header 1</th>\n",
    "<th>Header 2</th>\n",
    "</tr>\n",
    "<tr>\n",
    "<td>row 1, cell 1</td>\n",
    "<td>row 1, cell 2</td>\n",
    "</tr>\n",
    "<tr>\n",
    "<td>row 2, cell 1</td>\n",
    "<td>row 2, cell 2</td>\n",
    "</tr>\n",
    "</table>\"\"\"\n",
    "\n",
    "#h = IPython.display.HTML(s); h\n",
    "h = IPython.display.HTML(s);\n",
    "#IPython.display(h)\n"
   ]
  },
  {
   "cell_type": "code",
   "execution_count": null,
   "metadata": {
    "collapsed": false
   },
   "outputs": [],
   "source": [
    "%%python\n",
    "\n",
    "from IPython.core.display import display, HTML\n",
    "display(HTML('<h1>Hello, world!</h1>'))\n",
    "IPython.display.HTML(\"<b>bold</b>\")"
   ]
  },
  {
   "cell_type": "code",
   "execution_count": null,
   "metadata": {
    "collapsed": true
   },
   "outputs": [],
   "source": [
    "%%python\n",
    "\n",
    "import IPython\n",
    "#from IPython.core.display import display, HTML\n",
    "IPython.display.HTML(\"<b>bold</b>\")"
   ]
  },
  {
   "cell_type": "code",
   "execution_count": null,
   "metadata": {
    "collapsed": false
   },
   "outputs": [],
   "source": [
    "%python import IPython; IPython.core.display.display_html( \"<b>bold</b>\" )"
   ]
  },
  {
   "cell_type": "code",
   "execution_count": null,
   "metadata": {
    "collapsed": false
   },
   "outputs": [],
   "source": [
    "%python import IPython; IPython.core.display.display(IPython.display.HTML(\"<b>bold</b>\"))"
   ]
  },
  {
   "cell_type": "code",
   "execution_count": null,
   "metadata": {
    "collapsed": false
   },
   "outputs": [],
   "source": [
    "%python print(\"Hi from Python\")"
   ]
  },
  {
   "cell_type": "code",
   "execution_count": null,
   "metadata": {
    "collapsed": true
   },
   "outputs": [],
   "source": [
    "%set A 1\n",
    "%get A\n",
    "echo $A\n",
    "set\n",
    "pwd\n",
    "echo $PWD"
   ]
  },
  {
   "cell_type": "code",
   "execution_count": null,
   "metadata": {
    "collapsed": false
   },
   "outputs": [],
   "source": [
    "pwd"
   ]
  },
  {
   "cell_type": "code",
   "execution_count": null,
   "metadata": {
    "collapsed": true
   },
   "outputs": [],
   "source": [
    "%help"
   ]
  },
  {
   "cell_type": "code",
   "execution_count": null,
   "metadata": {
    "collapsed": false
   },
   "outputs": [],
   "source": [
    "%%debug\n",
    "echo \"HERE OK\"\n",
    "A=1\n",
    "B=2\n",
    "echo $A"
   ]
  },
  {
   "cell_type": "code",
   "execution_count": null,
   "metadata": {
    "collapsed": false
   },
   "outputs": [],
   "source": [
    "A=\"Hello World\"\n",
    "echo $A\n",
    "echo hi\n",
    "export A"
   ]
  },
  {
   "cell_type": "code",
   "execution_count": null,
   "metadata": {
    "collapsed": false
   },
   "outputs": [],
   "source": [
    "%%python\n",
    "\n",
    "import os\n",
    "\n",
    "print(os.getenv(\"A\"))"
   ]
  },
  {
   "cell_type": "code",
   "execution_count": null,
   "metadata": {
    "collapsed": false
   },
   "outputs": [],
   "source": [
    "%html <b>Be bold, ok!<b>"
   ]
  },
  {
   "cell_type": "code",
   "execution_count": null,
   "metadata": {
    "collapsed": true
   },
   "outputs": [],
   "source": [
    "%get A\n",
    "\n",
    "print(A)"
   ]
  },
  {
   "cell_type": "code",
   "execution_count": null,
   "metadata": {
    "collapsed": true
   },
   "outputs": [],
   "source": [
    "%help help"
   ]
  },
  {
   "cell_type": "code",
   "execution_count": null,
   "metadata": {
    "collapsed": false
   },
   "outputs": [],
   "source": [
    "%dot graph A { a->b };"
   ]
  },
  {
   "cell_type": "code",
   "execution_count": null,
   "metadata": {
    "collapsed": false
   },
   "outputs": [],
   "source": [
    "%%python\n",
    "\n",
    "import pydotplus as pydot\n",
    "\n"
   ]
  },
  {
   "cell_type": "code",
   "execution_count": null,
   "metadata": {
    "collapsed": false
   },
   "outputs": [],
   "source": [
    "%%python\n",
    "\n",
    "import os\n",
    "print(os.name)\n",
    "\n",
    "import platform\n",
    "print(platform.system())\n",
    "print(platform.platform())\n",
    "print(platform.machine())\n",
    "#print(platform.os)\n",
    "print(platform.release())\n",
    "print(platform.version())\n",
    "\n",
    "#print('\\n'.join(dir(platform)))\n"
   ]
  },
  {
   "cell_type": "code",
   "execution_count": null,
   "metadata": {
    "collapsed": false
   },
   "outputs": [],
   "source": [
    "uname -a"
   ]
  },
  {
   "cell_type": "code",
   "execution_count": null,
   "metadata": {
    "collapsed": false
   },
   "outputs": [],
   "source": [
    "uname"
   ]
  },
  {
   "cell_type": "code",
   "execution_count": null,
   "metadata": {
    "collapsed": false
   },
   "outputs": [],
   "source": [
    "%%file test.dot\n",
    "%%dot\n",
    "graph A { a->b->itworks };"
   ]
  },
  {
   "cell_type": "code",
   "execution_count": null,
   "metadata": {
    "collapsed": true
   },
   "outputs": [],
   "source": [
    "%load test.dot"
   ]
  },
  {
   "cell_type": "code",
   "execution_count": null,
   "metadata": {
    "collapsed": true
   },
   "outputs": [],
   "source": [
    "%%dot\n",
    "graph A { a->b->itworks };"
   ]
  },
  {
   "cell_type": "code",
   "execution_count": null,
   "metadata": {
    "collapsed": false
   },
   "outputs": [],
   "source": [
    "%%dot\n",
    "graph A { a->b->itworks };"
   ]
  },
  {
   "cell_type": "code",
   "execution_count": null,
   "metadata": {
    "collapsed": false
   },
   "outputs": [],
   "source": [
    "%%dot\n",
    "graph A { a->b->itworks };"
   ]
  },
  {
   "cell_type": "code",
   "execution_count": null,
   "metadata": {
    "collapsed": false
   },
   "outputs": [],
   "source": [
    "%%dot\n",
    "graph A { a->b->itworks };"
   ]
  },
  {
   "cell_type": "code",
   "execution_count": null,
   "metadata": {
    "collapsed": false
   },
   "outputs": [],
   "source": [
    "%%dot\n",
    "graph A { a->b->itworks };"
   ]
  },
  {
   "cell_type": "code",
   "execution_count": null,
   "metadata": {
    "collapsed": false
   },
   "outputs": [],
   "source": [
    "%%dot\n",
    "graph A { a->b->itworks };"
   ]
  },
  {
   "cell_type": "code",
   "execution_count": null,
   "metadata": {
    "collapsed": false
   },
   "outputs": [],
   "source": [
    "%%dot\n",
    "graph A { a->b->itworks };"
   ]
  },
  {
   "cell_type": "code",
   "execution_count": null,
   "metadata": {
    "collapsed": false
   },
   "outputs": [],
   "source": [
    "%%dot\n",
    "graph A { a->b->itworks };"
   ]
  },
  {
   "cell_type": "code",
   "execution_count": null,
   "metadata": {
    "collapsed": false
   },
   "outputs": [],
   "source": [
    "%%dot\n",
    "graph A { a->b->itworks };"
   ]
  },
  {
   "cell_type": "code",
   "execution_count": null,
   "metadata": {
    "collapsed": false
   },
   "outputs": [],
   "source": [
    "%%dot\n",
    "graph A { a->b->itworks };"
   ]
  },
  {
   "cell_type": "code",
   "execution_count": null,
   "metadata": {
    "collapsed": false
   },
   "outputs": [],
   "source": [
    "%%dot\n",
    "graph A { a->b->itworks };"
   ]
  },
  {
   "cell_type": "code",
   "execution_count": null,
   "metadata": {
    "collapsed": false
   },
   "outputs": [],
   "source": [
    "%%dot\n",
    "graph A { a->b->itworks };"
   ]
  },
  {
   "cell_type": "code",
   "execution_count": null,
   "metadata": {
    "collapsed": false
   },
   "outputs": [],
   "source": [
    "echo -e \"%%dot\\ngraph A { a->b->\\\"$(date)\\\" };\" > test2.dot"
   ]
  },
  {
   "cell_type": "code",
   "execution_count": null,
   "metadata": {
    "collapsed": false
   },
   "outputs": [],
   "source": [
    "ls -al *.dot"
   ]
  },
  {
   "cell_type": "code",
   "execution_count": null,
   "metadata": {
    "collapsed": false
   },
   "outputs": [],
   "source": [
    "%run test2.dot"
   ]
  },
  {
   "cell_type": "code",
   "execution_count": null,
   "metadata": {
    "collapsed": false
   },
   "outputs": [],
   "source": [
    "%%dot\n",
    "graph A { a->b->itworks };"
   ]
  },
  {
   "cell_type": "code",
   "execution_count": null,
   "metadata": {
    "collapsed": false
   },
   "outputs": [],
   "source": [
    "%run test.dot"
   ]
  },
  {
   "cell_type": "code",
   "execution_count": null,
   "metadata": {
    "collapsed": false
   },
   "outputs": [],
   "source": [
    "%dot graph A { a->b->c->d; b->d };"
   ]
  },
  {
   "cell_type": "code",
   "execution_count": null,
   "metadata": {
    "collapsed": false
   },
   "outputs": [],
   "source": [
    "%%dot\n",
    "graph A { a->b->c };"
   ]
  },
  {
   "cell_type": "code",
   "execution_count": null,
   "metadata": {
    "collapsed": false
   },
   "outputs": [],
   "source": [
    "echo \"Hello\""
   ]
  },
  {
   "cell_type": "code",
   "execution_count": null,
   "metadata": {
    "collapsed": false
   },
   "outputs": [],
   "source": [
    "%%python -e\n",
    "print(\"echo hello world from bash\")"
   ]
  },
  {
   "cell_type": "code",
   "execution_count": null,
   "metadata": {
    "collapsed": true
   },
   "outputs": [],
   "source": [
    "%%python -e\n",
    "retval = \"'(echo this is code in the kernel language)\""
   ]
  },
  {
   "cell_type": "code",
   "execution_count": null,
   "metadata": {
    "collapsed": true
   },
   "outputs": [],
   "source": [
    "%%python -e\n",
    "\"'(echo this is code in the kernel language)\""
   ]
  },
  {
   "cell_type": "code",
   "execution_count": null,
   "metadata": {
    "collapsed": true
   },
   "outputs": [],
   "source": [
    "%%python -e\n",
    "\"date\""
   ]
  },
  {
   "cell_type": "code",
   "execution_count": null,
   "metadata": {
    "collapsed": false
   },
   "outputs": [],
   "source": [
    "%%python -e\n",
    "\"'(date)\""
   ]
  },
  {
   "cell_type": "code",
   "execution_count": null,
   "metadata": {
    "collapsed": false
   },
   "outputs": [],
   "source": [
    "%%python -e\n",
    "\"'echo this is code in the kernel language\""
   ]
  },
  {
   "cell_type": "code",
   "execution_count": null,
   "metadata": {
    "collapsed": true
   },
   "outputs": [],
   "source": [
    "%%show --output\n",
    "retval = 54 * 54"
   ]
  },
  {
   "cell_type": "code",
   "execution_count": null,
   "metadata": {
    "collapsed": false
   },
   "outputs": [],
   "source": [
    "%set pycmd \"print('Hello World')\""
   ]
  },
  {
   "cell_type": "code",
   "execution_count": null,
   "metadata": {
    "collapsed": false
   },
   "outputs": [],
   "source": [
    "%get pycmd"
   ]
  },
  {
   "cell_type": "code",
   "execution_count": null,
   "metadata": {
    "collapsed": false
   },
   "outputs": [],
   "source": [
    "%%time\n",
    "ls -al"
   ]
  },
  {
   "cell_type": "code",
   "execution_count": null,
   "metadata": {
    "collapsed": false
   },
   "outputs": [],
   "source": [
    "%%time\n",
    "sleep 2"
   ]
  },
  {
   "cell_type": "code",
   "execution_count": null,
   "metadata": {
    "collapsed": false
   },
   "outputs": [],
   "source": [
    "%html <u>This is underlined!</u>"
   ]
  },
  {
   "cell_type": "code",
   "execution_count": null,
   "metadata": {
    "collapsed": false
   },
   "outputs": [],
   "source": [
    "#%kernel bash_kernel BashKernel -k bash\n",
    "%kernel bash_kernel MetaKernel_Bash -k bash\n",
    "#%kx echo hello\n",
    "%kernel ls -al\n",
    "%kx ls -al"
   ]
  },
  {
   "cell_type": "code",
   "execution_count": null,
   "metadata": {
    "collapsed": false
   },
   "outputs": [],
   "source": [
    "%kx -k bash ls -al"
   ]
  },
  {
   "cell_type": "code",
   "execution_count": null,
   "metadata": {
    "collapsed": false
   },
   "outputs": [],
   "source": [
    "ls -al\n",
    "echo HELLO\n",
    "%load README.md"
   ]
  },
  {
   "cell_type": "code",
   "execution_count": null,
   "metadata": {
    "collapsed": false
   },
   "outputs": [],
   "source": [
    "%macro -l all"
   ]
  },
  {
   "cell_type": "code",
   "execution_count": null,
   "metadata": {
    "collapsed": true
   },
   "outputs": [],
   "source": [
    "%%macro my_test_macro\n",
    "#print \"Ok!\"\n",
    "#ls -al\n",
    "echo \"This is a test macro!\""
   ]
  },
  {
   "cell_type": "code",
   "execution_count": null,
   "metadata": {
    "collapsed": false
   },
   "outputs": [],
   "source": [
    "%macro my_test_macro"
   ]
  },
  {
   "cell_type": "code",
   "execution_count": null,
   "metadata": {
    "collapsed": false
   },
   "outputs": [],
   "source": [
    "%macro -l learned"
   ]
  },
  {
   "cell_type": "code",
   "execution_count": null,
   "metadata": {
    "collapsed": false
   },
   "outputs": [],
   "source": [
    "%macro -s my_test_macro"
   ]
  },
  {
   "cell_type": "code",
   "execution_count": null,
   "metadata": {
    "collapsed": false
   },
   "outputs": [],
   "source": [
    "myfunc() { echo \"My function with arg[$1]!\"; }"
   ]
  },
  {
   "cell_type": "code",
   "execution_count": null,
   "metadata": {
    "collapsed": false
   },
   "outputs": [],
   "source": [
    "myfunc test_arg"
   ]
  },
  {
   "cell_type": "code",
   "execution_count": null,
   "metadata": {
    "collapsed": false
   },
   "outputs": [],
   "source": [
    "%parallel bash_kernel BashKernel --i [0,2:5,9,...]"
   ]
  },
  {
   "cell_type": "code",
   "execution_count": null,
   "metadata": {
    "collapsed": true
   },
   "outputs": [],
   "source": [
    "%plot qt --format=png\n",
    "%plot inline -s 640,480"
   ]
  },
  {
   "cell_type": "code",
   "execution_count": null,
   "metadata": {
    "collapsed": false
   },
   "outputs": [],
   "source": [
    "%pmap function-name-in-language range(10)\n",
    "%pmap function-name-in-language [1,2,3,4]\n",
    "%pmap run_experiment range(1,100,5)\n",
    "%pmap run_experiment [\"test1\",\"test2\",\"test3\"]\n",
    "%pmap f [(1,4,7),(2,3,5),(7,2,2)]"
   ]
  },
  {
   "cell_type": "code",
   "execution_count": null,
   "metadata": {
    "collapsed": false
   },
   "outputs": [],
   "source": [
    "%%px\n",
    "(define myfunc\n",
    "   (lambda (n)\n",
    "     (+ n 1)))"
   ]
  },
  {
   "cell_type": "code",
   "execution_count": null,
   "metadata": {
    "collapsed": false
   },
   "outputs": [],
   "source": [
    "%px sys.version"
   ]
  },
  {
   "cell_type": "code",
   "execution_count": null,
   "metadata": {
    "collapsed": false
   },
   "outputs": [],
   "source": [
    "%lsmagic"
   ]
  },
  {
   "cell_type": "code",
   "execution_count": null,
   "metadata": {
    "collapsed": false
   },
   "outputs": [],
   "source": [
    "%%tutor --language=python3\n",
    "\n",
    "a=1\n",
    "print(a)"
   ]
  },
  {
   "cell_type": "code",
   "execution_count": null,
   "metadata": {
    "collapsed": false
   },
   "outputs": [],
   "source": [
    "%magic"
   ]
  },
  {
   "cell_type": "code",
   "execution_count": null,
   "metadata": {
    "collapsed": false
   },
   "outputs": [],
   "source": [
    "%lsmagic"
   ]
  },
  {
   "cell_type": "code",
   "execution_count": null,
   "metadata": {
    "collapsed": false
   },
   "outputs": [],
   "source": [
    "%ls"
   ]
  },
  {
   "cell_type": "code",
   "execution_count": null,
   "metadata": {
    "collapsed": false
   },
   "outputs": [],
   "source": [
    "%%dot\n",
    "# NOTE: Installed GraphViz for Windows from .msi (http://www.graphviz.org/Download_windows.php)\n",
    "# NOTE: Modified metakernel/magics/dot_magic.py to use\n",
    "#        import pydotplus as pydot\n",
    "graph A { a->b };"
   ]
  },
  {
   "cell_type": "code",
   "execution_count": null,
   "metadata": {
    "collapsed": false
   },
   "outputs": [],
   "source": [
    "%dot graph A { a->b };"
   ]
  },
  {
   "cell_type": "code",
   "execution_count": null,
   "metadata": {
    "collapsed": false
   },
   "outputs": [],
   "source": [
    "%%python\n",
    "\n",
    "import pydotplus as pydot\n",
    "\n",
    "pydot.graph_from_dot_data(\"graph A { a->b }\")"
   ]
  },
  {
   "cell_type": "code",
   "execution_count": null,
   "metadata": {
    "collapsed": false
   },
   "outputs": [],
   "source": [
    "%%python\n",
    "\n",
    "# -*- coding: utf-8 -*-\n",
    "\"\"\"\n",
    "pydot example 1\n",
    "@author: Federico Cáceres\n",
    "@url: http://pythonhaven.wordpress.com/2009/12/09/generating_graphs_with_pydot\n",
    "\"\"\"\n",
    "import pydotplus as pydot # import pydot or you're not going to get anywhere my friend :D\n",
    "\n",
    "# first you create a new graph, you do that with pydot.Dot()\n",
    "graph = pydot.Dot(graph_type='graph')\n",
    "\n",
    "# the idea here is not to cover how to represent the hierarchical data\n",
    "# but rather how to graph it, so I'm not going to work on some fancy\n",
    "# recursive function to traverse a multidimensional array...\n",
    "# I'm going to hardcode stuff... sorry if that offends you\n",
    "\n",
    "# let's add the relationship between the king and vassals\n",
    "for i in range(3):\n",
    "    # we can get right into action by \"drawing\" edges between the nodes in our graph\n",
    "    # we do not need to CREATE nodes, but if you want to give them some custom style\n",
    "    # then I would recomend you to do so... let's cover that later\n",
    "    # the pydot.Edge() constructor receives two parameters, a source node and a destination\n",
    "    # node, they are just strings like you can see\n",
    "    edge = pydot.Edge(\"king\", \"lord%d\" % i)\n",
    "    # and we obviosuly need to add the edge to our graph\n",
    "    graph.add_edge(edge)\n",
    "\n",
    "# now let us add some vassals\n",
    "vassal_num = 0\n",
    "for i in range(3):\n",
    "    # we create new edges, now between our previous lords and the new vassals\n",
    "    # let us create two vassals for each lord\n",
    "    for j in range(2):\n",
    "        edge = pydot.Edge(\"lord%d\" % i, \"vassal%d\" % vassal_num)\n",
    "        graph.add_edge(edge)\n",
    "        vassal_num += 1\n",
    "\n",
    "# ok, we are set, let's save our graph into a file\n",
    "graph.write_png('example1_graph.png')\n",
    "\n",
    "# and we are done!"
   ]
  },
  {
   "cell_type": "code",
   "execution_count": null,
   "metadata": {
    "collapsed": true
   },
   "outputs": [],
   "source": []
  }
 ],
 "metadata": {
  "celltoolbar": "Slideshow",
  "kernelspec": {
   "display_name": "MetaKernel Bash",
   "language": "bash",
   "name": "metakernel_bash"
  },
  "language_info": {
   "file_extension": ".sh",
   "help_links": [
    {
     "text": "MetaKernel Magics",
     "url": "https://github.com/calysto/metakernel/blob/master/metakernel/magics/README.md"
    }
   ],
   "mimetype": "text/x-bash",
   "name": "bash"
  }
 },
 "nbformat": 4,
 "nbformat_minor": 0
}
