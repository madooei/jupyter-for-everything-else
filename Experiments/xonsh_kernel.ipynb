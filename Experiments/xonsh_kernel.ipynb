{
 "cells": [
  {
   "cell_type": "markdown",
   "metadata": {},
   "source": [
    "Jupyter Xonsh Kernel\n",
    "============\n",
    "\n",
    "Interact with Xonsh in Notebook. All commands are interpreted by Xonsh.  Since this is a [MetaKernel](https://github.com/Calysto/metakernel), a standard set of magics are available.  Help on commands is available using the `%help` magic or using `?` with a command."
   ]
  },
  {
   "cell_type": "code",
   "execution_count": 1,
   "metadata": {
    "collapsed": false
   },
   "outputs": [
    {
     "name": "stdout",
     "output_type": "stream",
     "text": [
      "Hello, world!\n"
     ]
    }
   ],
   "source": [
    "print('Hello, world!')"
   ]
  },
  {
   "cell_type": "code",
   "execution_count": 2,
   "metadata": {
    "collapsed": false
   },
   "outputs": [
    {
     "name": "stdout",
     "output_type": "stream",
     "text": [
      "total 2060\n",
      "drwxr-xr-x+ 1 mjbright Domain Users       0 Jun 21 15:09 .\n",
      "drwxr-xr-x+ 1 mjbright Domain Users       0 Jun 21 15:09 .ipynb_checkpoints\n",
      "drwxr-xr-x+ 1 mjbright Domain Users       0 Jun 21 14:39 ..\n",
      "-rwxr-xr-x  1 mjbright Domain Users  441109 Jun 19 16:11 Metakernel_bash.ipynb\n",
      "-rwxr-x---  1 mjbright Domain Users   24398 Jun 19 16:07 Calysto Turtle Graphics.ipynb\n",
      "-rwxr-xr-x  1 mjbright Domain Users   13515 Jun 19 04:49 Example_Python3_RPy2.ipynb\n",
      "-rwxr-xr-x  1 mjbright Domain Users    3233 Jun 18 23:37 Xonsh.ipynb\n",
      "-rw-r--r--  1 mjbright Domain Users   10291 Jun 18 23:08 xonsh_kernel.ipynb\n",
      "-rwxr-xr-x  1 mjbright Domain Users   32083 Jun 18 23:05 EXPERIMENTS_HTML_CSS_JavaScript_SVG.ipynb\n",
      "-rwxr-xr-x  1 mjbright Domain Users    9589 Jun 18 23:04 Example_Scheme.ipynb\n",
      "-rwxr-xr-x  1 mjbright Domain Users    1358 Jun 18 22:30 Example_R.ipynb\n",
      "-rwxr-xr-x  1 mjbright Domain Users    5422 Jun 18 22:29 Examples_Prolog.ipynb\n",
      "-rwxr-xr-x  1 mjbright Domain Users   47141 Jun 12 21:16 Xkcd_example.ipynb\n",
      "-rwxr-xr-x  1 mjbr\n",
      "ight Domain Users    7078 Jun 12 18:58 Metakernel_Bash_SVG_via_HTMLmagic.ipynb\n",
      "-rwxr-xr-x  1 mjbright Domain Users    7094 Jun 10 11:47 CSS_Test.ipynb\n",
      "-rwxr-xr-x  1 mjbright Domain Users    2531 Jun 10 11:47 Python3_Leather_SimpleCharting.ipynb\n",
      "-rwxr-xr-x  1 mjbright Domain Users   58758 May 24 17:24 nbconvert_jakevdp_blogging.ipynb\n",
      "-rwxr-xr-x  1 mjbright Domain Users   22905 May 24 16:25 Test1.nbconvert.ipynb\n",
      "-rwxr-xr-x  1 mjbright Domain Users   22156 May 24 16:24 Test1.ipynb\n",
      "-rw-r--r--  1 mjbright Domain Users 1303731 May 23 14:05 Bokeh_Jupyter_Interactors.ipynb\n",
      "-rwxr-xr-x  1 mjbright Domain Users   13064 May 23 12:11 Python3_LightningExperiments.ipynb\n",
      "-rwxr-xr-x  1 mjbright Domain Users    4021 May  7 20:58 Python3_render_html_table_from_MySQLTableText.ipynb\n",
      "-rwxr-xr-x  1 mjbright Domain Users    6563 May  6 19:58 Metakernel_echo.ipynb\n"
     ]
    }
   ],
   "source": [
    "ls -alt"
   ]
  },
  {
   "cell_type": "code",
   "execution_count": 3,
   "metadata": {
    "collapsed": false
   },
   "outputs": [
    {
     "name": "stderr",
     "output_type": "stream",
     "text": [
      "/usr/bin/cat: README.md: No such file or directory\n"
     ]
    }
   ],
   "source": [
    "cat README.md"
   ]
  },
  {
   "cell_type": "code",
   "execution_count": 4,
   "metadata": {
    "collapsed": false
   },
   "outputs": [],
   "source": [
    "a = 1"
   ]
  },
  {
   "cell_type": "code",
   "execution_count": 5,
   "metadata": {
    "collapsed": false
   },
   "outputs": [
    {
     "name": "stdout",
     "output_type": "stream",
     "text": [
      "4\n"
     ]
    }
   ],
   "source": [
    "b = a + 3; print(b)"
   ]
  },
  {
   "cell_type": "code",
   "execution_count": 6,
   "metadata": {
    "collapsed": false
   },
   "outputs": [
    {
     "name": "stdout",
     "output_type": "stream",
     "text": [
      "Available line magics:\n",
      "%activity  %cd  %connect_info  %dot  %download  %edit  %get  %help  %html  %include  %install  %install_magic  %javascript  %jigsaw  %kernel  %kx  %latex  %load  %ls  %lsmagic  %macro  %magic  %parallel  %plot  %pmap  %px  %python  %reload_magics  %restart  %run  %set  %shell\n",
      "\n",
      "Available cell magics:\n",
      "%%activity  %%brain  %%debug  %%dot  %%file  %%help  %%html  %%javascript  %%kx  %%latex  %%macro  %%processing  %%px  %%python  %%shell  %%show  %%time  %%tutor\n"
     ]
    }
   ],
   "source": [
    "%lsmagic"
   ]
  },
  {
   "cell_type": "code",
   "execution_count": 7,
   "metadata": {
    "collapsed": false
   },
   "outputs": [
    {
     "name": "stdout",
     "output_type": "stream",
     "text": [
      "total 357\n",
      "drwxr-xr-x+ 1 mjbright Domain Users      0 May  4 21:39 ..\n",
      "drwxr-xr-x+ 1 mjbright Domain Users      0 May 24 21:25 gen_py\n",
      "-rw-r--r--  1 mjbright Domain Users   6272 May 25 11:41 ipconfig.txt\n",
      "drwxr-xr-x+ 1 mjbright Domain Users      0 May 31 18:34 d20160531-34408-11xe4rp\n",
      "-rwxr-xr-x  1 mjbright Domain Users      0 May 31 18:34 vagrant20160531-34408-iqwzfn\n",
      "-rwxr-xr-x  1 mjbright Domain Users      0 May 31 18:34 vagrant20160531-34408-tpoh2\n",
      "-rwxr-xr-x  1 mjbright Domain Users     80 May 31 18:34 vagrant20160531-34408-tpoh22\n",
      "-rwxr-xr-x  1 mjbright Domain Users   1972 May 31 18:34 vagrant20160531-34408-tpoh22.lock\n",
      "drwx------+ 1 mjbright Domain Users      0 Jun  2 14:32 tmux-1250621\n",
      "drwxr-xr-x+ 1 mjbright Domain Users      0 Jun  5 20:46 Low\n",
      "drwxr-xr-x+ 1 mjbright Domain Users      0 Jun  6 10:03 acrord32_sbx\n",
      "drwxr-xr-x+ 1 mjbright Domain Users      0 Jun 12 14:02 nuget\n",
      "drwxr-xr-x+ 1 mjbright Domain Users      0 Jun 12 14:03 chocolatey\n",
      "drwxr-xr-x+ 1 mjbright Domain Users      0 Jun 14 19:57 pip-jm427rue-uni\n",
      "nstall\n",
      "drwxr-xr-x+ 1 mjbright Domain Users      0 Jun 18 08:25 ipython-contrib-IPython-notebook-extensions-e1gc4x0z\n",
      "drwxr-xr-x+ 1 mjbright Domain Users      0 Jun 19 04:02 npm-18056-cvYEUbvn\n",
      "-rw-r--r--  1 mjbright Domain Users     32 Jun 21 06:36 matched1.txt\n",
      "-rw-r--r--  1 mjbright Domain Users    190 Jun 21 06:36 matched.txt\n",
      "-rwxr-xr-x  1 mjbright Domain Users     13 Jun 21 09:43 test_file\n",
      "drwxr-xr-x+ 1 mjbright Domain Users      0 Jun 21 13:22 findtest\n",
      "-rw-r--r--  1 mjbright Domain Users 163940 Jun 21 13:22 template.log\n",
      "drwxr-xr-x+ 1 mjbright Domain Users      0 Jun 21 13:49 metakernel_bash_kernel\n",
      "-rw-r--r--  1 mjbright Domain Users     65 Jun 21 13:49 input.file\n",
      "-rw-r--r--  1 mjbright Domain Users     44 Jun 21 14:27 dwn\n",
      "-rwxr-xr-x  1 mjbright Domain Users      0 Jun 21 15:10 tmpu_axpu9x\n",
      "-rwxr-xr-x  1 mjbright Domain Users      0 Jun 21 15:10 tmp8dqxczx8\n",
      "drwxrwxrwt+ 1 mjbright Domain Users      0 Jun 21 15:10 .\n"
     ]
    }
   ],
   "source": [
    "ls -altr /tmp"
   ]
  },
  {
   "cell_type": "code",
   "execution_count": 8,
   "metadata": {
    "collapsed": false
   },
   "outputs": [
    {
     "name": "stderr",
     "output_type": "stream",
     "text": [
      "xonsh: For full traceback set: $XONSH_SHOW_TRACEBACK = True\n",
      "AttributeError: '_io.StringIO' object has no attribute 'softspace'\n"
     ]
    }
   ],
   "source": [
    "from IPython.display import display,HTML\n",
    "#from IPython.core.display import display,HTML\n",
    "display(HTML('<h4>Here is an H4 header [{}] </h4>'.format(\"Written from Python\")))"
   ]
  },
  {
   "cell_type": "code",
   "execution_count": null,
   "metadata": {
    "collapsed": true
   },
   "outputs": [],
   "source": []
  }
 ],
 "metadata": {
  "kernelspec": {
   "display_name": "Calysto Xonsh",
   "language": "xonsh",
   "name": "calysto_xonsh"
  },
  "language_info": {
   "codemirror_mode": "shell",
   "file_extension": ".xsh",
   "mimetype": "text/x-sh",
   "name": "xonsh",
   "pygments_lexer": "xonsh",
   "version": "0.3.0"
  }
 },
 "nbformat": 4,
 "nbformat_minor": 0
}
