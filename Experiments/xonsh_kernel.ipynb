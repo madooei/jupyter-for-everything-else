{
 "cells": [
  {
   "cell_type": "markdown",
   "metadata": {},
   "source": [
    "Jupyter Xonsh Kernel\n",
    "============\n",
    "\n",
    "Interact with Xonsh in Notebook. All commands are interpreted by Xonsh.  Since this is a [MetaKernel](https://github.com/Calysto/metakernel), a standard set of magics are available.  Help on commands is available using the `%help` magic or using `?` with a command."
   ]
  },
  {
   "cell_type": "code",
   "execution_count": 1,
   "metadata": {
    "collapsed": false
   },
   "outputs": [
    {
     "name": "stdout",
     "output_type": "stream",
     "text": [
      "Hello, world!\n"
     ]
    }
   ],
   "source": [
    "print('Hello, world!')"
   ]
  },
  {
   "cell_type": "code",
   "execution_count": 2,
   "metadata": {
    "collapsed": false
   },
   "outputs": [
    {
     "name": "stdout",
     "output_type": "stream",
     "text": [
      "total 3329\n",
      "drwxr-xr-x+ 1 mjbright Domain Users       0 Jun 18 23:07 .\n",
      "-rwxr-xr-x  1 mjbright Domain Users    3233 Jun 18 23:07 Xonsh.ipynb\n",
      "-rwxr-xr-x  1 mjbright Domain Users   32083 Jun 18 23:05 EXPERIMENTS_HTML_CSS_JavaScript_SVG.ipynb\n",
      "-rwxr-xr-x  1 mjbright Domain Users   38185 Jun 18 23:05 PRESENTATION - Jupyter for Everything Else.ipynb\n",
      "-rwxr-xr-x  1 mjbright Domain Users    9589 Jun 18 23:04 Example_Scheme.ipynb\n",
      "-rwxr-x---  1 mjbright Domain Users   23643 Jun 18 23:04 Calysto Turtle Graphics.ipynb\n",
      "drwxr-xr-x+ 1 mjbright Domain Users       0 Jun 18 22:32 .ipynb_checkpoints\n",
      "-rwxr-xr-x  1 mjbright Domain Users    1358 Jun 18 22:30 Example_R.ipynb\n",
      "-rwxr-xr-x  1 mjbright Domain Users    5422 Jun 18 22:29 Examples_Prolog.ipynb\n",
      "drwxr-xr-x+ 1 mjbright Domain Users       0 Jun 17 10:46 .git\n",
      "-rw-r--r--  1 mjbright Domain Users     128 Jun 15 23:09 downloaded.log\n",
      "drwxr-xr-x+ 1 mjbright Domain Users       0 Jun 15 10:05 modules\n",
      "-rwxr-xr-x  1 mjbright Domain Users    6259 Jun 15 10:05 OpenStack_Monitoring_Py3.ipynb\n",
      "\n",
      "-rw-r--r--  1 mjbright Domain Users      37 Jun 15 09:57 8888\n",
      "-rwxr-xr-x  1 mjbright Domain Users  226651 Jun 14 22:44 PRESENTATION - Jupyter for Everything Else.slides.html\n",
      "drwxr-xr-x+ 1 mjbright Domain Users       0 Jun 14 22:18 images\n",
      "-rw-r--r--  1 mjbright Domain Users   20586 Jun 14 21:20 2015-Oct-17_Pyconfr_Pau_IPython_vers_Jupyter.ipynb\n",
      "lrwxrwxrwx  1 mjbright Domain Users      88 Jun 14 21:08 2015-Oct-17_Pyconfr_Pau_IPython_vers_Jupyter -> /home/mjbright/z/bin/jupyter/PRESENTATIONS/2015-Oct-17_Pyconfr_Pau_IPython_vers_Jupyter/\n",
      "-rw-r--r--  1 mjbright Domain Users    6802 Jun 13 18:04 xonsh_kernel.ipynb\n",
      "drwxr-xr-x+ 1 mjbright Domain Users       0 Jun 13 18:02 xkcd\n",
      "-rwxr-xr-x  1 mjbright Domain Users  441109 Jun 13 18:01 Metakernel_bash.ipynb\n",
      "drwxr-xr-x+ 1 mjbright Domain Users       0 Jun 13 17:51 tmp\n",
      "-rw-r--r--  1 mjbright Domain Users     201 Jun 13 17:47 disk_usage.csv\n",
      "-rwxr-xr-x  1 mjbright Domain Users     468 Jun 13 17:45 date_trend.csv\n",
      "-rwxr-xr-x  1 mjbright Domain Users      48 Jun 13 17:45 data.\n",
      "csv\n",
      "-rw-r--r--  1 mjbright Domain Users       0 Jun 13 17:38 b\n",
      "-rwxr-xr-x  1 mjbright Domain Users   47141 Jun 12 21:16 Xkcd_example.ipynb\n",
      "-rwxr-xr-x  1 mjbright Domain Users    7078 Jun 12 18:58 Metakernel_Bash_SVG_via_HTMLmagic.ipynb\n",
      "drwxr-xr-x+ 1 mjbright Domain Users       0 Jun 12 17:16 OLD\n",
      "drwxr-xr-x+ 1 mjbright Domain Users       0 Jun 12 17:15 scripts\n",
      "drwxr-xr-x+ 1 mjbright Domain Users       0 Jun 12 17:10 env\n",
      "drwxr-xr-x+ 1 mjbright Domain Users       0 Jun 12 17:10 OTHER\n",
      "drwxr-xr-x+ 1 mjbright Domain Users       0 Jun 11 20:47 ..\n",
      "-rwxr-xr-x  1 mjbright Domain Users    7094 Jun 10 11:47 CSS_Test.ipynb\n",
      "-rwxr-xr-x  1 mjbright Domain Users    2531 Jun 10 11:47 Python3_Leather_SimpleCharting.ipynb\n",
      "-rwxr-xr-x  1 mjbright Domain Users   63364 Jun  7 23:08 openstack_errorlog.txt\n",
      "drwxr-xr-x+ 1 mjbright Domain Users       0 Jun  7 21:16 __pycache__\n",
      "-rw-r--r--  1 mjbright Domain Users     447 Jun  7 16:48 clouds.yaml\n",
      "-rwxr-xr-x  1 mjbright Domain Users   24506 Jun  6 18:13 example1_graph.png\n",
      "-rwxr-xr-x  1 mjbr\n",
      "ight Domain Users   58758 May 24 17:24 nbconvert_jakevdp_blogging.ipynb\n",
      "-rwxr-xr-x  1 mjbright Domain Users   22905 May 24 16:25 Test1.nbconvert.ipynb\n",
      "-rwxr-xr-x  1 mjbright Domain Users   22156 May 24 16:24 Test1.ipynb\n",
      "-rw-r--r--  1 mjbright Domain Users 1303731 May 23 14:05 Bokeh_Jupyter_Interactors.ipynb\n",
      "-rwxr-xr-x  1 mjbright Domain Users   13064 May 23 12:11 Python3_LightningExperiments.ipynb\n",
      "drwxr-xr-x+ 1 mjbright Domain Users       0 May 23 10:15 lightning-example-notebooks\n",
      "drwxr-xr-x+ 1 mjbright Domain Users       0 May 18 23:49 node_modules\n",
      "-rw-r--r--  1 mjbright Domain Users     204 May 18 23:27 lightning_test.py\n",
      "-rw-r--r--  1 mjbright Domain Users     945 May 16 10:54 Dockerfile\n",
      "drwxr-xr-x+ 1 mjbright Domain Users       0 May 10 14:38 lightning-examples\n",
      "-rwxr-xr-x  1 mjbright Domain Users    4021 May  7 20:58 Python3_render_html_table_from_MySQLTableText.ipynb\n",
      "-rw-r--r--  1 mjbright Domain Users     102 May  7 08:08 README.md\n",
      "-rwxr-xr-x  1 mjbright Domain Users    6563 May  6 19:58 Metakernel_echo.\n",
      "ipynb\n",
      "-rw-r--r--  1 mjbright Domain Users  804810 Nov 20  2013 test.png\n"
     ]
    }
   ],
   "source": [
    "ls -alt"
   ]
  },
  {
   "cell_type": "code",
   "execution_count": 3,
   "metadata": {
    "collapsed": false
   },
   "outputs": [
    {
     "name": "stdout",
     "output_type": "stream",
     "text": [
      "# jupyter-for-everything-else\n",
      "Repository for \"Jupyter for Everything Else\" presentations, experiments\n"
     ]
    }
   ],
   "source": [
    "cat README.md"
   ]
  },
  {
   "cell_type": "code",
   "execution_count": 4,
   "metadata": {
    "collapsed": false
   },
   "outputs": [],
   "source": [
    "a = 1"
   ]
  },
  {
   "cell_type": "code",
   "execution_count": 5,
   "metadata": {
    "collapsed": false
   },
   "outputs": [
    {
     "name": "stdout",
     "output_type": "stream",
     "text": [
      "4\n"
     ]
    }
   ],
   "source": [
    "b = a + 3; print(b)"
   ]
  },
  {
   "cell_type": "code",
   "execution_count": 6,
   "metadata": {
    "collapsed": false
   },
   "outputs": [
    {
     "name": "stdout",
     "output_type": "stream",
     "text": [
      "Available line magics:\n",
      "%activity  %cd  %connect_info  %dot  %download  %edit  %get  %help  %html  %include  %install  %install_magic  %javascript  %jigsaw  %kernel  %kx  %latex  %load  %ls  %lsmagic  %macro  %magic  %parallel  %plot  %pmap  %px  %python  %reload_magics  %restart  %run  %set  %shell\n",
      "\n",
      "Available cell magics:\n",
      "%%activity  %%brain  %%debug  %%dot  %%file  %%help  %%html  %%javascript  %%kx  %%latex  %%macro  %%processing  %%px  %%python  %%shell  %%show  %%time  %%tutor\n"
     ]
    }
   ],
   "source": [
    "%lsmagic"
   ]
  },
  {
   "cell_type": "code",
   "execution_count": 7,
   "metadata": {
    "collapsed": false
   },
   "outputs": [
    {
     "name": "stdout",
     "output_type": "stream",
     "text": [
      "total 177\n",
      "drwxr-xr-x+ 1 mjbright Domain Users      0 May  4 21:39 ..\n",
      "drwxr-xr-x+ 1 mjbright Domain Users      0 May 24 21:25 gen_py\n",
      "-rw-r--r--  1 mjbright Domain Users   6272 May 25 11:41 ipconfig.txt\n",
      "drwxr-xr-x+ 1 mjbright Domain Users      0 May 31 18:34 d20160531-34408-11xe4rp\n",
      "-rwxr-xr-x  1 mjbright Domain Users      0 May 31 18:34 vagrant20160531-34408-iqwzfn\n",
      "-rwxr-xr-x  1 mjbright Domain Users      0 May 31 18:34 vagrant20160531-34408-tpoh2\n",
      "-rwxr-xr-x  1 mjbright Domain Users     80 May 31 18:34 vagrant20160531-34408-tpoh22\n",
      "-rwxr-xr-x  1 mjbright Domain Users   1972 May 31 18:34 vagrant20160531-34408-tpoh22.lock\n",
      "-rw-r--r--  1 mjbright Domain Users     68 Jun  2 14:28 dwn\n",
      "drwx------+ 1 mjbright Domain Users      0 Jun  2 14:32 tmux-1250621\n",
      "drwxr-xr-x+ 1 mjbright Domain Users      0 Jun  5 20:46 Low\n",
      "drwxr-xr-x+ 1 mjbright Domain Users      0 Jun  6 10:03 acrord32_sbx\n",
      "-rwxr-xr-x  1 mjbright Domain Users     13 Jun  6 18:20 test_file\n",
      "drwxr-xr-x+ 1 mjbright Domain Users      0 Jun 12 14:02 nuget\n",
      "drwxr-xr-x+ 1\n",
      " mjbright Domain Users      0 Jun 12 14:03 chocolatey\n",
      "-rw-r--r--  1 mjbright Domain Users 140767 Jun 13 17:51 template.log\n",
      "drwxr-xr-x+ 1 mjbright Domain Users      0 Jun 13 17:56 findtest\n",
      "drwxr-xr-x+ 1 mjbright Domain Users      0 Jun 14 19:57 pip-jm427rue-uninstall\n",
      "drwxr-xr-x+ 1 mjbright Domain Users      0 Jun 17 18:18 metakernel_bash_kernel\n",
      "-rw-r--r--  1 mjbright Domain Users     63 Jun 17 18:18 input.file\n",
      "drwxr-xr-x+ 1 mjbright Domain Users      0 Jun 18 08:25 ipython-contrib-IPython-notebook-extensions-e1gc4x0z\n",
      "-rw-r--r--  1 mjbright Domain Users      8 Jun 18 13:38 matched1.txt\n",
      "-rw-r--r--  1 mjbright Domain Users    115 Jun 18 13:38 matched.txt\n",
      "-rwxr-xr-x  1 mjbright Domain Users      0 Jun 18 23:08 tmp82pjw8_h\n",
      "-rwxr-xr-x  1 mjbright Domain Users      0 Jun 18 23:08 tmpnq1t184m\n",
      "drwxrwxrwt+ 1 mjbright Domain Users      0 Jun 18 23:08 .\n"
     ]
    }
   ],
   "source": [
    "ls -altr /tmp"
   ]
  },
  {
   "cell_type": "code",
   "execution_count": null,
   "metadata": {
    "collapsed": true
   },
   "outputs": [],
   "source": []
  }
 ],
 "metadata": {
  "kernelspec": {
   "display_name": "Calysto Xonsh",
   "language": "xonsh",
   "name": "calysto_xonsh"
  },
  "language_info": {
   "codemirror_mode": "shell",
   "file_extension": ".xsh",
   "mimetype": "text/x-sh",
   "name": "xonsh",
   "pygments_lexer": "xonsh",
   "version": "0.3.0"
  }
 },
 "nbformat": 4,
 "nbformat_minor": 0
}
