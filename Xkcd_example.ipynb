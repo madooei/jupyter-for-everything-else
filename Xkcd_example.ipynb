{
 "cells": [
  {
   "cell_type": "markdown",
   "metadata": {},
   "source": [
    "\n",
    "# Experimenting with XKCD style graphics using D3.js\n",
    "\n",
    "This 1st example is taken from\n",
    "- [XKCD-style plots in d3](http://bl.ocks.org/dfm/3914862) by Dan Foreman-Mackey\n"
   ]
  },
  {
   "cell_type": "code",
   "execution_count": 29,
   "metadata": {
    "collapsed": false
   },
   "outputs": [
    {
     "data": {
      "text/html": [
       "\n",
       "<script src=\"http://d3js.org/d3.v2.min.js?2.10.0\"></script>\n",
       "<script src=\"xkcd/xkcd.js\"></script>\n",
       "<style src=\"xkcd/xkcd.css\"></style>\n",
       "\n",
       "<script>\n",
       "\n",
       "        // Generate some data.\n",
       "        function f1 (x) {\n",
       "            return Math.exp(-0.5 * (x - 1) * (x - 1)) * Math.sin(x + 0.2) + 0.05;\n",
       "        }\n",
       "\n",
       "        function f2 (x) {\n",
       "            return 0.5 * Math.cos(x - 0.5) + 0.1;\n",
       "        }\n",
       "\n",
       "        var xmin = -1.0,\n",
       "            xmax = 7,\n",
       "            N = 100,\n",
       "            data = d3.range(xmin, xmax, (xmax - xmin) / N).map(function (d) {\n",
       "                return {x: d, y: f1(d)};\n",
       "            })\n",
       "            data2 = d3.range(xmin, xmax, (xmax - xmin) / N).map(function (d) {\n",
       "                return {x: d, y: f2(d)};\n",
       "            });\n",
       "\n",
       "        // Build the plot.\n",
       "        var plot = xkcdplot();\n",
       "        plot(\"#grapharea\");\n",
       "\n",
       "        // Add the lines.\n",
       "        plot.plot(data);\n",
       "        plot.plot(data2, {stroke: \"red\"});\n",
       "\n",
       "        // Render the image.\n",
       "        plot.xlim([-1.5, 7.5]).draw();\n",
       "\n",
       "    </script>\n",
       "\n",
       "<div id=\"grapharea\">\n",
       "\n",
       "</div>"
      ],
      "text/plain": [
       "<IPython.core.display.HTML object>"
      ]
     },
     "metadata": {},
     "output_type": "display_data"
    }
   ],
   "source": [
    "%%html\n",
    "\n",
    "<script src=\"http://d3js.org/d3.v2.min.js?2.10.0\"></script>\n",
    "<script src=\"xkcd/xkcd.js\"></script>\n",
    "<style src=\"xkcd/xkcd.css\"></style>\n",
    "\n",
    "<script>\n",
    "\n",
    "        // Generate some data.\n",
    "        function f1 (x) {\n",
    "            return Math.exp(-0.5 * (x - 1) * (x - 1)) * Math.sin(x + 0.2) + 0.05;\n",
    "        }\n",
    "\n",
    "        function f2 (x) {\n",
    "            return 0.5 * Math.cos(x - 0.5) + 0.1;\n",
    "        }\n",
    "\n",
    "        var xmin = -1.0,\n",
    "            xmax = 7,\n",
    "            N = 100,\n",
    "            data = d3.range(xmin, xmax, (xmax - xmin) / N).map(function (d) {\n",
    "                return {x: d, y: f1(d)};\n",
    "            })\n",
    "            data2 = d3.range(xmin, xmax, (xmax - xmin) / N).map(function (d) {\n",
    "                return {x: d, y: f2(d)};\n",
    "            });\n",
    "\n",
    "        // Build the plot.\n",
    "        var plot = xkcdplot();\n",
    "        plot(\"#grapharea\");\n",
    "\n",
    "        // Add the lines.\n",
    "        plot.plot(data);\n",
    "        plot.plot(data2, {stroke: \"red\"});\n",
    "\n",
    "        // Render the image.\n",
    "        plot.xlim([-1.5, 7.5]).draw();\n",
    "\n",
    "    </script>\n",
    "\n",
    "<div id=\"grapharea\">\n",
    "\n",
    "</div>"
   ]
  },
  {
   "cell_type": "code",
   "execution_count": 31,
   "metadata": {
    "collapsed": false
   },
   "outputs": [
    {
     "data": {
      "text/html": [
       "\n",
       "<script src=\"http://d3js.org/d3.v2.min.js?2.10.0\"></script>\n",
       "<script src=\"xkcd/xkcd.js\"></script>\n",
       "<style src=\"xkcd/xkcd.css\"></style>\n",
       "\n",
       "<script>\n",
       "\n",
       "        // Generate some data.\n",
       "        function f1 (x) {\n",
       "            return Math.sin(x + 0.2) + 0.05;\n",
       "        }\n",
       "\n",
       "        function f2 (x) {\n",
       "            return 0.5 * Math.cos(x - 0.5) + 0.1;\n",
       "        }\n",
       "\n",
       "        var xmin = -1.0,\n",
       "            xmax = 7,\n",
       "            N = 100,\n",
       "            data = d3.range(xmin, xmax, (xmax - xmin) / N).map(function (d) {\n",
       "                return {x: d, y: f1(d)};\n",
       "            })\n",
       "            data2 = d3.range(xmin, xmax, (xmax - xmin) / N).map(function (d) {\n",
       "                return {x: d, y: f2(d)};\n",
       "            });\n",
       "\n",
       "        // Build the plot.\n",
       "        var plot = xkcdplot(xlabel='My xlabel');\n",
       "        plot(\"#grapharea2\");\n",
       "\n",
       "        // Add the lines.\n",
       "        plot.plot(data);\n",
       "        plot.plot(data2, {stroke: \"red\"});\n",
       "\n",
       "        // Render the image.\n",
       "        plot.xlim([-1.5, 7.5]).draw();\n",
       "\n",
       "    </script>\n",
       "\n",
       "<div id=\"grapharea2\">\n",
       "\n",
       "</div>"
      ],
      "text/plain": [
       "<IPython.core.display.HTML object>"
      ]
     },
     "metadata": {},
     "output_type": "display_data"
    }
   ],
   "source": [
    "%%html\n",
    "\n",
    "<script src=\"http://d3js.org/d3.v2.min.js?2.10.0\"></script>\n",
    "<script src=\"xkcd/xkcd.js\"></script>\n",
    "<style src=\"xkcd/xkcd.css\"></style>\n",
    "\n",
    "<script>\n",
    "\n",
    "        // Generate some data.\n",
    "        function f1 (x) {\n",
    "            return Math.sin(x + 0.2) + 0.05;\n",
    "        }\n",
    "\n",
    "        function f2 (x) {\n",
    "            return 0.5 * Math.cos(x - 0.5) + 0.1;\n",
    "        }\n",
    "\n",
    "        var xmin = -1.0,\n",
    "            xmax = 7,\n",
    "            N = 100,\n",
    "            data = d3.range(xmin, xmax, (xmax - xmin) / N).map(function (d) {\n",
    "                return {x: d, y: f1(d)};\n",
    "            })\n",
    "            data2 = d3.range(xmin, xmax, (xmax - xmin) / N).map(function (d) {\n",
    "                return {x: d, y: f2(d)};\n",
    "            });\n",
    "\n",
    "        // Build the plot.\n",
    "        var plot = xkcdplot(xlabel='My xlabel');\n",
    "        plot(\"#grapharea2\");\n",
    "\n",
    "        // Add the lines.\n",
    "        plot.plot(data);\n",
    "        plot.plot(data2, {stroke: \"red\"});\n",
    "\n",
    "        // Render the image.\n",
    "        plot.xlim([-1.5, 7.5]).draw();\n",
    "\n",
    "    </script>\n",
    "\n",
    "<div id=\"grapharea2\">\n",
    "\n",
    "</div>"
   ]
  },
  {
   "cell_type": "code",
   "execution_count": null,
   "metadata": {
    "collapsed": true
   },
   "outputs": [],
   "source": []
  }
 ],
 "metadata": {
  "kernelspec": {
   "display_name": "Python 3",
   "language": "python",
   "name": "python3"
  },
  "language_info": {
   "codemirror_mode": {
    "name": "ipython",
    "version": 3
   },
   "file_extension": ".py",
   "mimetype": "text/x-python",
   "name": "python",
   "nbconvert_exporter": "python",
   "pygments_lexer": "ipython3",
   "version": "3.5.1"
  }
 },
 "nbformat": 4,
 "nbformat_minor": 0
}
