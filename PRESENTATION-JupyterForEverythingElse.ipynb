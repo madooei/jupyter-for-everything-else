{
 "cells": [
  {
   "cell_type": "markdown",
   "metadata": {
    "slideshow": {
     "slide_type": "notes"
    }
   },
   "source": [
    "# NOTES: Develop presentation outline/narrative\n",
    "\n",
    "- Start with RISE/slides\n",
    "- Move to notebook\n",
    "- Move back to RISE/slides\n",
    "- MS Azure?\n",
    "- Move to notebook\n",
    "- Binder?"
   ]
  },
  {
   "cell_type": "markdown",
   "metadata": {
    "slideshow": {
     "slide_type": "notes"
    }
   },
   "source": [
    "# INCLUDE architecture diagrams\n",
    "\n",
    "https://www.google.fr/search?q=jupyter+ipython+architecture+diagram&espv=2&biw=513&bih=361&source=lnms&tbm=isch&sa=X&ved=0ahUKEwjjo9T6qOvNAhWCmBoKHdpuAX4Q_AUIBigB\n",
    "\n",
    "- [LINK to Binder demos](http://localhost:8888/notebooks/Demos/Demo_0_INDEX.ipynb#BINDER)\n",
    "- [LINK to Metakernel demos](http://localhost:8888/notebooks/Demos/Demo_0_INDEX.ipynb#METAKERNELS)\n",
    "- [LINK to Nbconvert demos](http://localhost:8888/notebooks/Demos/Demo_0_INDEX.ipynb#NBCONVERT)\n"
   ]
  },
  {
   "cell_type": "markdown",
   "metadata": {
    "slideshow": {
     "slide_type": "notes"
    }
   },
   "source": [
    "# NOTES: Develop 'command-line' narrative\n",
    "\n",
    "#### Initial use of Jupyter/command-line : \"Live/prepared\" Docker Demo, then Docker Lab document creation\n",
    "- 1st use: Python notebook and !magic/alias to run Dokcer commands\n",
    "- 2nd use: Better to be in pure bash (less confusing)\n",
    "- 3rd use: Useful to create Lab guide, easy to rerun all cells\n",
    "\n",
    "#### Bash metakernel\n",
    "- Good to have magics\n",
    "- Easy to fix for Windows/Cygwin\n",
    "- Extended to have *takluyver/bash_kernel* like display functionality\n",
    "- Extended to different types html, js, graphview (as included in Metakernels)\n",
    "- Extended to read from stdin, filename, url, ...\n",
    "\n",
    "#### Use for live tutorials on mybinder.org\n",
    "- Initial 'ls' tutorial + blog post\n",
    "- 2 months later 'tcpdump' tutorial + blog post\n",
    "- EuroPython: Perl6 1-liner tutorial ;-)\n",
    "\n",
    "#### Use for platform monitoring\n",
    "- Initally pure (self-contained) Python\n",
    "- Gradually abstracted methods into separate modules for\n",
    "  - abstraction\n",
    "  - reduce code in results page\n",
    "- link to html\n",
    "- tested e-mail to 2 clients (GMail, Outlook)\n",
    "  - clipped message under GMail ==> --template basic\n",
    "  - tried to render graphics: not rendered by e-mail clients\n",
    "  - tried SVG, CSS: not rendered by e-mail clients\n",
    "\n",
    "\n",
    "## TO INVESTIGATE or DEVELOP\n",
    "- MS Azure\n",
    "- IBM DataScientist WorkBench\n",
    "- nbsphynx (esp. as Sphynx used for Linux Kernel ...)\n",
    "- Use of JupyterHub + nbgrader (or binder?) for labs e.g. Docker lab\n",
    "\n",
    "## FUTURE\n",
    "- Use of JupyterHub + nbgrader (or binder?) for labs e.g. Docker lab\n",
    "- Merge metakernel_bash\n",
    "- More cli/graphics capabilities with proper \"api\"s\n",
    "- Good cli/grahics use cases"
   ]
  },
  {
   "cell_type": "markdown",
   "metadata": {
    "slideshow": {
     "slide_type": "notes"
    }
   },
   "source": [
    "# NOTES: Next steps\n",
    "\n",
    "Presentation\n",
    "\n",
    "#### IPython vs. Jupyter:\n",
    "The rule of thumb is: Jupyter is all the pieces that can work with other languages, IPython is the Python-specific backend for Jupyter.\n",
    "https://groups.google.com/forum/#!topic/jupyter/zbG08MP6wJc\n",
    "\n",
    "- install a fresh Anaconda3 environment and test\n",
    "- look at nbgrader example\n",
    "- create example notebook(s):\n",
    "  - Use Python, R, MK_Bash, Scheme, ...\n",
    "    - Use R \"demo scenarii\"\n",
    "    - Use past MOOCs materials (MOOCs)\n",
    "  - MathJax/Sympy example\n",
    "  - INSTALL nbgrader ...\n",
    "- Under VBox\n",
    "  - xonsh\n",
    "  - ...\n",
    "- BINDER / command-line\n",
    "  - DONE: BETTER Live notebook example e.g. tcpdump analysis\n",
    "  - DONE: create tcpdump file from VBox with some example traffic, e.g. running virtual servers/Docker\n",
    "- DONE: Add a Mybinder slide showing initial \"dependencies\" form ...\n",
    "- Self promote: Blog post, Docker demo, Docker lab (+ next steps)\n",
    "- Investigate CLing\n",
    "- more interesting mk_bash examples\n",
    "- extend Monitoring?\n",
    "  - Better describe monitoring\n",
    "  - nfv5 + multi-system view (OK/NOTOK status summary)\n",
    "  - df, df trends as html table, as pie chart\n",
    "- docker-demo image (show image with kernels, or run under VBox?)\n",
    "- RISE usage\n",
    "  - correct In/Out cell spacing (middle of page):a\n",
    "      https://github.com/damianavila/RISE/issues/196\n",
    "  - Latest RISE maybe has fix for this\n",
    "  - mix of markdown and <HTML>\n",
    "  - probs\n",
    "  - non-LIVE version (and blogging): http://www.damian.oquanta.info/posts/make-your-slides-with-ipython.html\n",
    "- Blogging: pelican ++ (blog articles)\n",
    "- Education environments for labs (git, docker, ..)\n",
    "  - using nbgrader\n",
    "  - hosted binder\n",
    "  - hosted JupyterHub"
   ]
  },
  {
   "cell_type": "markdown",
   "metadata": {
    "slideshow": {
     "slide_type": "notes"
    }
   },
   "source": [
    "# Cells to execute before:"
   ]
  },
  {
   "cell_type": "code",
   "execution_count": 14,
   "metadata": {
    "collapsed": false,
    "slideshow": {
     "slide_type": "slide"
    }
   },
   "outputs": [
    {
     "name": "stdout",
     "output_type": "stream",
     "text": [
      "Last update: 2016-07-12 21:58:21.492154\n"
     ]
    }
   ],
   "source": [
    "#echo \"NOTES: Last update: $(date)\"\n",
    "import datetime\n",
    "print(\"Last update: \" + str(datetime.datetime.now()))"
   ]
  },
  {
   "cell_type": "code",
   "execution_count": 27,
   "metadata": {
    "collapsed": false,
    "slideshow": {
     "slide_type": "subslide"
    }
   },
   "outputs": [
    {
     "data": {
      "text/html": [
       "<h3>Select Theme</h3><select id=\"theme-list0\"></select>"
      ],
      "text/plain": [
       "<IPython.core.display.HTML object>"
      ]
     },
     "metadata": {},
     "output_type": "display_data"
    }
   ],
   "source": [
    "%%html\n",
    "<h3>Select Theme</h3><select id=\"theme-list0\"></select>"
   ]
  },
  {
   "cell_type": "code",
   "execution_count": 28,
   "metadata": {
    "collapsed": false,
    "slideshow": {
     "slide_type": "subslide"
    }
   },
   "outputs": [
    {
     "data": {
      "text/html": [
       "<!-- setup for theme selection: -->\n",
       "<script src=\"js/d3.min.js\"></script>\n",
       "<script> var alertChange = function() {\n",
       "    var selectedValue = d3.event.target.value;\n",
       "    var selectedIndex = d3.event.target.selectedIndex;\n",
       "    var selectedDOMElement = d3.event.target.children[selectedIndex];\n",
       "    var selection = d3.select(selectedDOMElement);\n",
       "    loadcss(themes[ selection.text()]);   \n",
       "}\n",
       "var theme_opts = {\n",
       "    \"mybloodredsky\": \"RISE_themes/mybloodredsky.css\",\n",
       "    \"mysky\": \"RISE_themes/mysky.css\",\n",
       "    \"mysky.pyconfr2015\": \"RISE_themes/mysky.pyconfr2015.css\",\n",
       "    \"night\": \"RISE_themes/night.css\",         \n",
       "    \"serif\": \"RISE_themes/serif.css\",         \n",
       "    \"simple\": \"RISE_themes/simple.css\",       \n",
       "    \"sky\": \"RISE_themes/sky.css\",             \n",
       "    \"solarized\": \"RISE_themes/solarized.css\"\n",
       "};\n",
       "function loadcss(filename) {\n",
       "    var fileref=document.createElement(\"link\");\n",
       "        fileref.setAttribute(\"rel\", \"stylesheet\");\n",
       "        fileref.setAttribute(\"type\", \"text/css\");\n",
       "        fileref.setAttribute(\"href\", filename);      \n",
       "        document.getElementsByTagName(\"head\")[0].appendChild(fileref);\n",
       "}\n",
       "var theme_opts = Object.keys(themes);\n",
       "//add event listener to the 'theme-list' menu:\n",
       "d3.select(\"#theme-list\").on(\"change\", alertChange).selectAll('option').data(theme_opts).enter().append(\"option\").text(function(d){return d;});\n",
       "d3.select(\"#theme-list0\").on(\"change\", alertChange).selectAll('option').data(theme_opts).enter().append(\"option\").text(function(d){return d;});\n",
       "loadcss(\"mysky\");\n",
       "</script>"
      ],
      "text/plain": [
       "<IPython.core.display.HTML object>"
      ]
     },
     "metadata": {},
     "output_type": "display_data"
    }
   ],
   "source": [
    "%%html\n",
    "<!-- setup for theme selection: -->\n",
    "<script src=\"js/d3.min.js\"></script>\n",
    "<script> var alertChange = function() {\n",
    "    var selectedValue = d3.event.target.value;\n",
    "    var selectedIndex = d3.event.target.selectedIndex;\n",
    "    var selectedDOMElement = d3.event.target.children[selectedIndex];\n",
    "    var selection = d3.select(selectedDOMElement);\n",
    "    loadcss(themes[ selection.text()]);   \n",
    "}\n",
    "var theme_opts = {\n",
    "    \"mybloodredsky\": \"RISE_themes/mybloodredsky.css\",\n",
    "    \"mysky\": \"RISE_themes/mysky.css\",\n",
    "    \"mysky.pyconfr2015\": \"RISE_themes/mysky.pyconfr2015.css\",\n",
    "    \"night\": \"RISE_themes/night.css\",         \n",
    "    \"serif\": \"RISE_themes/serif.css\",         \n",
    "    \"simple\": \"RISE_themes/simple.css\",       \n",
    "    \"sky\": \"RISE_themes/sky.css\",             \n",
    "    \"solarized\": \"RISE_themes/solarized.css\"\n",
    "};\n",
    "function loadcss(filename) {\n",
    "    var fileref=document.createElement(\"link\");\n",
    "        fileref.setAttribute(\"rel\", \"stylesheet\");\n",
    "        fileref.setAttribute(\"type\", \"text/css\");\n",
    "        fileref.setAttribute(\"href\", filename);      \n",
    "        document.getElementsByTagName(\"head\")[0].appendChild(fileref);\n",
    "}\n",
    "var theme_opts = Object.keys(themes);\n",
    "//add event listener to the 'theme-list' menu:\n",
    "d3.select(\"#theme-list\").on(\"change\", alertChange).selectAll('option').data(theme_opts).enter().append(\"option\").text(function(d){return d;});\n",
    "d3.select(\"#theme-list0\").on(\"change\", alertChange).selectAll('option').data(theme_opts).enter().append(\"option\").text(function(d){return d;});\n",
    "loadcss(\"mysky\");\n",
    "</script>"
   ]
  },
  {
   "cell_type": "code",
   "execution_count": 29,
   "metadata": {
    "collapsed": false,
    "slideshow": {
     "slide_type": "subslide"
    }
   },
   "outputs": [
    {
     "data": {
      "text/html": [
       "<!-- NOTE: This cell must be code/%%html not markdown for css to be handled -->\n",
       "    \n",
       "<!-- <h1>Notes: table test (class \"noborder\"): want no borders:</h1> -->\n",
       "<style> .noborder, .noborder tr, .noborder th, .noborder td { \n",
       "    border-collapse: collapse; border: 0px; border: none!important;\n",
       "} </style>\n",
       "\n",
       "<table class=\"noborder\"><tbody><tr><td> Cell1 </td><td> Cell2 </td></tr></tbody></table>\n",
       "<table><tbody><tr><td> BorderedCell1 </td><td> BorderedCell2 </td></tr></tbody></table>\n",
       "\n",
       "<!-- This will remove borders of *all* tables -->\n",
       "<!-- UNUSED: <style type=\"text/css\" scoped>\n",
       "table { border-collapse: collapse; }\n",
       "td, th { padding: 0; } /* remove padding */\n",
       "table,td,tr,th {border:none!important}\n",
       "</style> -->"
      ],
      "text/plain": [
       "<IPython.core.display.HTML object>"
      ]
     },
     "metadata": {},
     "output_type": "display_data"
    }
   ],
   "source": [
    "%%html\n",
    "<!-- NOTE: This cell must be code/%%html not markdown for css to be handled -->\n",
    "    \n",
    "<!-- <h1>Notes: table test (class \"noborder\"): want no borders:</h1> -->\n",
    "<style> .noborder, .noborder tr, .noborder th, .noborder td { \n",
    "    border-collapse: collapse; border: 0px; border: none!important;\n",
    "} </style>\n",
    "\n",
    "<table class=\"noborder\"><tbody><tr><td> Cell1 </td><td> Cell2 </td></tr></tbody></table>\n",
    "<table><tbody><tr><td> BorderedCell1 </td><td> BorderedCell2 </td></tr></tbody></table>\n",
    "\n",
    "<!-- This will remove borders of *all* tables -->\n",
    "<!-- UNUSED: <style type=\"text/css\" scoped>\n",
    "table { border-collapse: collapse; }\n",
    "td, th { padding: 0; } /* remove padding */\n",
    "table,td,tr,th {border:none!important}\n",
    "</style> -->"
   ]
  },
  {
   "cell_type": "markdown",
   "metadata": {
    "slideshow": {
     "slide_type": "notes"
    }
   },
   "source": [
    "# NOTES:\n",
    "\n",
    "45 mins inc. Q&A, English\n",
    "So ~ 13 slides\n",
    "Friday 22 July at 10:30\n",
    "https://ep2016.europython.eu/conference/talks/jupyter-for-everything-else\n",
    "\n",
    "#### Qns: program@europython.eu\n",
    "\n",
    "Dear Mike, -- please use program@europython.eu for all speaker related matters in the future -- The room has 180 seats but this doesn't necessarily mean 180 people will attend, last years' trainings had between 50-100 attendees on average. I hope this - unfortunately vague - information helps. The room for your talk has 120 seats, please note that the talk rooms may still change. Best, Alexander\n",
    "\n",
    "#### Screen resolution\n",
    "Ask conference organizers ...\n",
    "\n",
    "For the moment test with 800x600 screen resolution, F11 to hide browser tabs\n",
    "and Edit notebook metadata to set 800x600 resolution\n",
    "\n",
    "==> Hi Mike, most projector for the talks/training are FullHD or at least HD. Regards, Christian\n",
    "==> Assume HD to be safe ==> but go for WXGA 1280 x 800 to be safer still ;-)\n",
    "https://en.wikipedia.org/wiki/Display_resolution\n",
    "\n",
    "#### hierarchical links (image around a link)\n",
    "[![alt-text](image/path)](link/path) \n",
    "\n",
    "#### Nice MathJax example\n",
    "http://nbviewer.jupyter.org/github/ipython/ipython/blob/2.x/examples/Notebook/Typesetting%20Math%20Using%20MathJax.ipynb\n",
    "\n",
    "#### How to reduce RISE margins?"
   ]
  },
  {
   "cell_type": "markdown",
   "metadata": {
    "slideshow": {
     "slide_type": "notes"
    }
   },
   "source": [
    "#### Try javascript slider to modify header colour and size (on one slide)\n",
    "\n",
    "#### Refer to Roadmap (https://github.com/jupyter/roadmap)\n",
    "\n",
    "#### Excellent ideas from Bryn Mawr college (https://athena.brynmawr.edu/jupyter/hub/dblank/public/Experiments)\n",
    "\n",
    "#### Turtles (http://interactivepython.org/runestone/static/thinkcspy/PythonTurtle/OurFirstTurtleProgram.html)\n",
    "(or Calysto ...)\n",
    "\n",
    "#### Later: Try with Docker images\n",
    "- JupyterHub (need Jupyter also): https://hub.docker.com/r/jupyterhub/jupyterhub/\n",
    "  (on github: https://github.com/jupyterhub/jupyterhub)\n",
    "  \n",
    "- CLing image?\n",
    "\n",
    "#### Xkcd plots/images\n",
    "https://nbviewer.jupyter.org/url/jakevdp.github.com/downloads/notebooks/XKCD_plots.ipynb\n",
    "\n",
    "## Reference online sites:\n",
    "\n",
    "https://nbviewer.jupyter.org/\n",
    "\n",
    "https://try.jupyter.org/\n",
    "Uses [jupyter-demo](https://hub.docker.com/r/jupyter/demo/) image [github](https://github.com/jupyter/docker-demo-images)\n",
    "\n",
    "http://jupyter.org/\n",
    "\n",
    "http://ipython.org/\n",
    "\n",
    "#### Widgets\n",
    "http://jupyter.org/widgets.html\n",
    "\n",
    "#### Theming notebooks\n",
    "https://github.com/transcranial/jupyter-themer\n",
    "\n",
    "#### Table style sheets\n",
    "https://www.linkedin.com/pulse/pandas-table-style-sheets-jupyter-notebooks-dale-smith\n",
    "https://github.com/jupyter/notebook/issues/1182\n",
    "\n",
    "http://stackoverflow.com/questions/23725638/in-ipython-notebook-cant-hide-table-borders-as-usual\n",
    "\n",
    "\n",
    "#### D3 (show as is for now/later adapt)\n",
    "https://github.com/stitchfix/d3-jupyter-tutorial\n",
    "\n",
    "#### Mining the social web - available as notebooks\n",
    "https://nbviewer.jupyter.org/github/ptwobrussell/Mining-the-Social-Web-2nd-Edition/tree/master/ipynb/\n",
    "\n",
    "\n",
    "<!-- <script src=\"https://npmcdn.com/jupyter-js-widgets@~1.1.2/dist/embed.js\"></script>\n",
    "     <script type=\"application/vnd.jupyter-embedded-widgets\">{}</script> -->"
   ]
  },
  {
   "cell_type": "markdown",
   "metadata": {
    "slideshow": {
     "slide_type": "notes"
    }
   },
   "source": [
    "# Notes: Outline\n",
    "- Introduction: From IPython to Jupyter\n",
    "  - IPython kernel (with magics)\n",
    "  - Jupyter notebook and kernels (diagram)\n",
    "- \"*Classic*\" use\n",
    "  - Data analysis, visualisation, multi-language\n",
    "- The Jupyter Ecosystem:\n",
    "  - The \"inner\" ecosystem: nbviewer, nbconvert, tmpnb, binder, jupyterhub, incubating, ...\n",
    "  - The \"outer\" ecosystem: Thebe, Azure, ...\n",
    "- Doing everything else with Jupyter\n",
    "\n",
    "- From IPython to Jupyter\n",
    "  - IPython\n",
    "      - magics, notebook\n",
    "  - Jupyter (diagram)\n",
    "  - Show IPython+magics(langs), Jupyter + kernels(IPython,bash,...)\n",
    "  - Show Python data anal+graphics\n",
    "  - Show R + graphics\n",
    "  - Show bash_kernel + graphics\n",
    "      \n",
    "- Jupyter Ecosystem\n",
    "- Doing lots of stuff with Jupyter\n",
    "- Doing everything else with Jupyter\n",
    "\n",
    "\n",
    "Very rough draft of Jupyter presn (scenarii, search ideas, look at “awesome-python++”)\n",
    "What is Jupyter and why?\n",
    "Getting started\t\n",
    "What it’s used for\n",
    "Many uses, extensions, eco-system\n",
    "What Else?\n",
    "My favourites; bash_kernel, RISE, nbgrader, jupyter-hub\n",
    "HTML? JavaScript? BrythonMagic? Polymer? NodeJS?\n",
    "End? Alternatives? (Zeppelin, SMC, MathLab)"
   ]
  },
  {
   "cell_type": "markdown",
   "metadata": {
    "collapsed": true,
    "slideshow": {
     "slide_type": "notes"
    }
   },
   "source": [
    "From:\n",
    "    https://ep2016.europython.eu/conference/talks/jupyter-for-everything-else\n",
    "    \n",
    "# JUPYTER FOR EVERYTHING ELSE\n",
    "\n",
    "Speaker(s) Mike BRIGHT\n",
    "\n",
    "Sure you can do a chunk of scientific exploration and stuff in Jupyter in your choice of language supplemented with visuals and that’s already awesome !\n",
    "\n",
    "But let’s head off the beaten track a little to look at other uses, especially command-line.\n",
    "\n",
    "We’ll look at some alternate uses of Jupyter …\n",
    "\n",
    "- Write command-line tutorials, cheat sheets in an easy to maintain format.\n",
    "- Perform visualization tasks for command-line tools\n",
    "- Write blog posts\n",
    "- Create interactive presentations (thanks Damian !)\n",
    "- Publish interactive books, articles and blog posts\n",
    "- HTML/js/css experimentation\n",
    "\n",
    "is on Friday 22 July at 10:30\n",
    "EN, Duration 45 minutes (inc. Q&A)\n",
    "TAGs: Visualization, Docker, Jupyter/iPython Notebook, Command-Line, Use Case\n",
    "    \n",
    "CONTACTS EUROPYTHON 2016 TEAM PRIVACY POLICY CODE OF CONDUCT\n",
    "© 2015-2016 EUROPYTHON SOCIETY (EPS) | TRADEMARKS | IMPRINT | CODE OF CONDUCT | PHOTO REFERENCES"
   ]
  },
  {
   "cell_type": "markdown",
   "metadata": {
    "slideshow": {
     "slide_type": "notes"
    }
   },
   "source": [
    "## Things to investigate, references ...\n",
    "\n",
    "Ask on Google Groups about HTML/CSS/JS limits and workarounds, e.g. IFrames for HTML ...\n",
    "- [Use of HTML in Jupyter](https://www.google.fr/webhp?sourceid=chrome-instant&ion=1&espv=2&ie=UTF-8#q=using%20html%20in%20jupyter%20ipython)\n",
    "- [Use of CSS in Jupyter](https://www.google.fr/webhp?sourceid=chrome-instant&ion=1&espv=2&ie=UTF-8#q=using+css+in+jupyter+ipython)\n",
    "- [Use of JS in Jupyter](https://www.google.fr/webhp?sourceid=chrome-instant&ion=1&espv=2&ie=UTF-8#q=using%20javascript%20in%20jupyter%20ipython)\n",
    "\n",
    "- [BashPlotlib ??!!](https://github.com/glamp/bashplotlib)\n",
    "- [DataFrame as table](http://stackoverflow.com/questions/26873127/print-dataframe-as-table-in-ipython-notebook)\n",
    "\n"
   ]
  },
  {
   "cell_type": "markdown",
   "metadata": {
    "slideshow": {
     "slide_type": "slide"
    }
   },
   "source": [
    "<center> <h1>Jupyter for Everything Else</h1>\n",
    "<br/>\n",
    "<h3>Michael Bright, <a href=\"https://ep2016.europython.eu/conference/talks/jupyter-for-everything-else\">EuroPython 2016 - Bilbao, 22 July</a>.</h3>\n",
    "<img src=\"images/DEMO_OpenStack_API_D3.png\" width=300 />\n",
    "<br/>\n",
    "<font size=-1>\n",
    "<i class=\"fa-github fa-2x fa\"> [mjbright](https://github.com/mjbright)</i>&nbsp;&nbsp;\n",
    "<i class=\"fa-twitter fa-2x fa\"> [@mjbright](http://twitter.com/mjbright)</i>&nbsp;&nbsp;\n",
    "<i class=\"fa-envelope fa-2x fa\"> mjbrightfr AT gmail</i>&nbsp;&nbsp;\n",
    "<i class=\"fa-user fa-2x fa\"> [mjbright.github.io](http://mjbright.github.io)</i>\n",
    "</font>\n",
    "</center>"
   ]
  },
  {
   "cell_type": "markdown",
   "metadata": {
    "slideshow": {
     "slide_type": "notes"
    }
   },
   "source": [
    "# Notes: TO ADD\n",
    "\n",
    "- embedded web, video, audio\n",
    "- math, latex, sympy\n",
    "- DataScience solutions\n",
    "- EVOLUTIONS + JupyterLab\n",
    "- BLOGGING examples\n",
    "- WORK in OpenStack monitoring examples\n",
    "  - details steps - all Jupyter, then abstract/libraries\n",
    "  - nbconvert: execute, to html\n",
    "  - limitations: basic template, no SVG, no animated CSS (no pie charts)\n",
    "  - next: need summary, need multi-platform summary"
   ]
  },
  {
   "cell_type": "markdown",
   "metadata": {
    "slideshow": {
     "slide_type": "slide"
    }
   },
   "source": [
    "<center> <h1> Outline </h1> </center>\n",
    "- Introduction: From IPython to Jupyter\n",
    "- The Jupyter Project & Ecosystem:\n",
    "  - Kernels, Widgets, Extensions, Tools\n",
    "  - Incubating projects\n",
    "  - External: Thebe, Hosting, Binder ...\n",
    "- Jupyter for Everything Else\n",
    "  - Blog, Present, Web, Command-line, Status reports"
   ]
  },
  {
   "cell_type": "markdown",
   "metadata": {
    "slideshow": {
     "slide_type": "notes"
    }
   },
   "source": [
    "# NOTES: OUTLINE\n",
    "- Intro: IPython to Jupyter\n",
    "  - What are Jupyter & IPython ?\n",
    "      - IPython beginnings\n",
    "          - The console and notebook\n",
    "          - The messaging protocol and kernels\n",
    "      - Jupyter Project\n",
    "       \n",
    "- \"*Classic*\" use (Python/R/Julia/..)\n",
    "  - What is Jupyter being used for?\n",
    "  - Data analysis, scientific investigation, visualisation\n",
    " \n",
    "- The Jupyter Project & Ecosystem:\n",
    "  - Project: kernels, widgets, extensions, tools, incubating\n",
    "             nb*, tmpnb, jupyterhub, \n",
    "  - External: Thebe, Hosting, Binder ...\n",
    "    - Static hosting: nbviewer, github, IPython Gallery\n",
    "    - Dynamic hosting: Binder, Azure, GCE, AWS?\n",
    "  - Related Projects\n",
    "    \n",
    "- Jupyter for Everything Else"
   ]
  },
  {
   "cell_type": "markdown",
   "metadata": {
    "slideshow": {
     "slide_type": "notes"
    }
   },
   "source": [
    "# NOTES: \n",
    "#### Intro: IPython to Jupyter\n",
    "\n",
    "- How IPython started: A REPL console\n",
    "- IPython evolution / architecture\n",
    "  - magics\n",
    "- zeromq protocol enabling\n",
    "  - IPyParallel\n",
    "  - multiple front-ends\n",
    "  - different language kernels\n",
    "- \"The Big Split\"\n",
    "  - Project Jupyter: the language independent notebook\n",
    "\n",
    "\n",
    "\n",
    "- What is Jupyter / IPython ?\n",
    "    - A bit of history\n",
    "    - Show basic REPL (as secn 2 of user guide)\n",
    "    - Zeromq: allows parallel and multiple front-ends\n",
    "    - Show use of protocol for parallel, but also multiple front-ends\n",
    "    - Now multiple kernels\n",
    "      - Also magics (for IPython at least)\n",
    "    - Notebooks (show screenshot)\n",
    "- How is it architected\n",
    "  - image(s) with magics also"
   ]
  },
  {
   "cell_type": "markdown",
   "metadata": {
    "slideshow": {
     "slide_type": "skip"
    }
   },
   "source": [
    "<center> <h1> Intro: IPython to Jupyter </h1> </center>\n",
    "\n",
    "- How IPython started: A REPL console\n",
    "- Multiple kernel backends\n",
    "- Jupyter: \"The Big Split\""
   ]
  },
  {
   "cell_type": "markdown",
   "metadata": {
    "slideshow": {
     "slide_type": "skip"
    }
   },
   "source": [
    "- evolutions\n",
    "  - messaging protocol enabling\n",
    "  - the notebook\n",
    "  - \"The Big Split\": Jupyter"
   ]
  },
  {
   "cell_type": "markdown",
   "metadata": {
    "slideshow": {
     "slide_type": "subslide"
    }
   },
   "source": [
    "<table class=\"noborder\">\n",
    "<tbody>\n",
    "<tr><td><a href=\"http://ipython.org/\"><img src=\"http://www.i-programmer.info/images/stories/News/2013/Aug/A/ipython.jpg\" border=0 height=90 width=90/></a></td><td>\n",
    "<center> <h1> IPython - the Console </h1> </center> </td></tr>\n",
    "</tbody>\n",
    "</table>\n",
    "\n",
    "<center>\"*an afternoon hack*\" (Nov 2001) by Fernando Perez<br/><br/>\n",
    "<!-- Input & Output cells, with magics, retrospection -->\n",
    "</center> \n",
    "\n",
    "<table class=\"noborder\">\n",
    "<tbody>\n",
    "<tr><td>\n",
    "The exploration process\n",
    "<ul>\n",
    "<li>Individual Analysis\n",
    "</li><li>Collaborative work\n",
    "</li><li>Publication of **reproducible results**\n",
    "</li><li>Education\n",
    "</li><li>Repeat\n",
    "</li>\n",
    "</ul>\n",
    "</td><td> <center>\n",
    "    <img src=\"images/IPythonConsole.png\" width=400 />IPython console **REPL** of In/Out cells<br/> (Read-Eval-Print-Loop)\n",
    "</center> </td></tr>\n",
    "</tbody>\n",
    "</table>\n",
    "\n",
    "</center>"
   ]
  },
  {
   "cell_type": "markdown",
   "metadata": {
    "slideshow": {
     "slide_type": "skip"
    }
   },
   "source": [
    "<table class=\"noborder\">\n",
    "<tbody>\n",
    "<tr><td><a href=\"http://ipython.org/\"><img src=\"http://www.i-programmer.info/images/stories/News/2013/Aug/A/ipython.jpg\" border=0 height=90 width=90/></a></td><td>\n",
    "<center> <h1> IPython - the Kernel </h1> </center> </td></tr>\n",
    "</tbody>\n",
    "</table>\n",
    "\n",
    "The IPython kernel provided a set of magic features to allow code introspection, shell break-outs, etc\n"
   ]
  },
  {
   "cell_type": "code",
   "execution_count": null,
   "metadata": {
    "collapsed": false,
    "slideshow": {
     "slide_type": "skip"
    }
   },
   "outputs": [],
   "source": [
    "%lsmagic"
   ]
  },
  {
   "cell_type": "markdown",
   "metadata": {
    "slideshow": {
     "slide_type": "skip"
    }
   },
   "source": [
    "<center> <h1> The messaging protocol </h1>  \n",
    "<img src=\"images/IPython_Architecture1.png\" width=600 />\n",
    "2010: envisaged to support multi-processing\n",
    "<br/><br/>\n",
    "enabled multiple front-ends for the IPython kernel\n",
    "</center>"
   ]
  },
  {
   "cell_type": "markdown",
   "metadata": {
    "slideshow": {
     "slide_type": "subslide"
    }
   },
   "source": [
    "<center> <h1> ... the protocol enables different kernels </h1>  \n",
    "<img src=\"images/IPython_Architecture2.png\" width=600/>\n",
    "<br/>\n",
    "**Note**: persistent kernels, unlike **cell magics**.\n",
    "<br/>\n",
    "<br/>\n",
    "A notebook runs under one kernel\n",
    "</center>"
   ]
  },
  {
   "cell_type": "markdown",
   "metadata": {
    "slideshow": {
     "slide_type": "skip"
    }
   },
   "source": [
    "<center> <h1> IPython - the QtConsole </h1> \n",
    "<br/><br/>\n",
    "![QtConsole](images/ExampleConsole.png)\n",
    "</center>"
   ]
  },
  {
   "cell_type": "markdown",
   "metadata": {
    "slideshow": {
     "slide_type": "subslide"
    }
   },
   "source": [
    "<center><h1>The (Jupyter) [Notebook](http://localhost:8888/notebooks/Demos/Demo_0_INDEX.ipynb#NOTEBOOK) </h1>\n",
    "Create & share documents of code, equations, visualizations and explanatory text as a **(reproducible) narrative**\n",
    "\n",
    "</center><img class=\"img-responsive\" src=\"images/NotebookRichOutput.png\" width=800 />\n",
    "\n",
    "<!--\n",
    "![Notebook](images/JupyterNotebook.png) \n",
    "The Jupyter Notebook is a web application that allows you to create and share documents that contain live code, equations, visualizations and explanatory text.\n",
    "<br/>Uses include: data cleaning and transformation, numerical simulation, statistical modeling, machine learning and much more.\n",
    "<img class=\"img-responsive\" src=\"http://jupyter.org/assets/jupyterpreview.png\" width=600 />\n",
    "-->\n"
   ]
  },
  {
   "cell_type": "code",
   "execution_count": null,
   "metadata": {
    "collapsed": false,
    "slideshow": {
     "slide_type": "slide"
    }
   },
   "outputs": [],
   "source": [
    "%matplotlib inline\n",
    "\n",
    "import matplotlib\n",
    "import numpy as np\n",
    "import matplotlib.pyplot as plt\n",
    "\n",
    "x = np.linspace(0, 3*np.pi, 500)\n",
    "plt.plot(x, np.sin(x**2))\n",
    "plt.title('A simple chirp')"
   ]
  },
  {
   "cell_type": "code",
   "execution_count": null,
   "metadata": {
    "collapsed": true,
    "slideshow": {
     "slide_type": "skip"
    }
   },
   "outputs": [],
   "source": [
    "from ipywidgets import interactive\n",
    "from IPython.display import Audio, display\n",
    "\n",
    "def beat_freq(f1=220.0, f2=224.0):\n",
    "    max_time = 10\n",
    "    rate = 8000\n",
    "    times = np.linspace(0,max_time,rate*max_time)\n",
    "    signal = np.sin(2*np.pi*f1*times) + np.sin(2*np.pi*f2*times)\n",
    "    #print(f1, f2, abs(f1-f2))\n",
    "    display(Audio(data=signal, rate=rate))\n",
    "    return signal"
   ]
  },
  {
   "cell_type": "code",
   "execution_count": null,
   "metadata": {
    "collapsed": false,
    "slideshow": {
     "slide_type": "skip"
    }
   },
   "outputs": [],
   "source": [
    "v = interactive(beat_freq, f1=(200.0,300.0), f2=(200.0,300.0))\n",
    "display(v)\n",
    "plt.plot(v.result[0:6000])"
   ]
  },
  {
   "cell_type": "code",
   "execution_count": null,
   "metadata": {
    "collapsed": false,
    "slideshow": {
     "slide_type": "skip"
    }
   },
   "outputs": [],
   "source": [
    "v = interactive(beat_freq, f1=(200.0,300.0), f2=(200.0,300.0))\n",
    "f1, f2 = v.children\n",
    "f1.value = 255\n",
    "f2.value = 260\n",
    "plt.plot(v.result[0:6000])"
   ]
  },
  {
   "cell_type": "markdown",
   "metadata": {
    "slideshow": {
     "slide_type": "notes"
    }
   },
   "source": [
    "###### Notes: Examples:\n",
    "http://jakevdp.github.io/mpl_tutorial/tutorial_pages/tut1.html"
   ]
  },
  {
   "cell_type": "code",
   "execution_count": null,
   "metadata": {
    "collapsed": false,
    "slideshow": {
     "slide_type": "skip"
    }
   },
   "outputs": [],
   "source": [
    "# Rich display examples: http://jeffskinnerbox.me/notebooks/ipython's-rich-display-system.html\n",
    "from IPython.display import HTML\n",
    " \n",
    "HTML('<iframe src=http://matplotlib.org/examples/index.html width=1400 height=350></iframe>')"
   ]
  },
  {
   "cell_type": "code",
   "execution_count": 50,
   "metadata": {
    "collapsed": false,
    "slideshow": {
     "slide_type": "subslide"
    }
   },
   "outputs": [
    {
     "data": {
      "text/html": [
       "<a href=\"http://localhost:8888/notebooks/Demos/Demo_0_INDEX.ipynb#NOTEBOOK\">LINK</a><iframe src=\"http://localhost:8888/notebooks/Demos/Demo_0_INDEX.ipynb#NOTEBOOK\" width=1400 height=350></iframe>"
      ],
      "text/plain": [
       "<IPython.core.display.HTML object>"
      ]
     },
     "execution_count": 50,
     "metadata": {},
     "output_type": "execute_result"
    }
   ],
   "source": [
    "# Rich display examples: http://jeffskinnerbox.me/notebooks/ipython's-rich-display-system.html\n",
    "from IPython.display import HTML\n",
    " \n",
    "HTML('<a href=\"http://localhost:8888/notebooks/Demos/Demo_0_INDEX.ipynb#NOTEBOOK\">LINK</a><iframe src=\"http://localhost:8888/notebooks/Demos/Demo_0_INDEX.ipynb#NOTEBOOK\" width=1400 height=350></iframe>')"
   ]
  },
  {
   "cell_type": "code",
   "execution_count": null,
   "metadata": {
    "collapsed": false,
    "slideshow": {
     "slide_type": "skip"
    }
   },
   "outputs": [],
   "source": [
    "HTML('<iframe src=http://localhost:8888/notebooks width=1400 height=1000></iframe>')"
   ]
  },
  {
   "cell_type": "code",
   "execution_count": null,
   "metadata": {
    "collapsed": true,
    "slideshow": {
     "slide_type": "skip"
    }
   },
   "outputs": [],
   "source": [
    "%load http://matplotlib.org/examples/animation/histogram.py\n",
    "    #%load http://matplotlib.org/mpl_examples/pylab_examples/interp_demo.py"
   ]
  },
  {
   "cell_type": "code",
   "execution_count": null,
   "metadata": {
    "collapsed": false,
    "slideshow": {
     "slide_type": "skip"
    }
   },
   "outputs": [],
   "source": [
    "# %load http://matplotlib.org/mpl_examples/pylab_examples/interp_demo.py\n",
    "import matplotlib.pyplot as plt\n",
    "from numpy import pi, sin, linspace\n",
    "from matplotlib.mlab import stineman_interp\n",
    "\n",
    "x = linspace(0, 2*pi, 20)\n",
    "y = sin(x)\n",
    "yp = None\n",
    "xi = linspace(x[0], x[-1], 100)\n",
    "yi = stineman_interp(xi, x, y, yp)\n",
    "\n",
    "fig, ax = plt.subplots()\n",
    "ax.plot(x, y, 'ro', xi, yi, '-b.')\n",
    "plt.show()"
   ]
  },
  {
   "cell_type": "markdown",
   "metadata": {
    "slideshow": {
     "slide_type": "notes"
    }
   },
   "source": [
    "# What is Jupyter (& IPython) ?\n",
    "\n",
    "The Jupyter [notebook interface](http://localhost:8870/tree) consists of\n",
    "- a Dashboard (File explorer, Running, Clusters)\n",
    "- a File editor\n",
    "- a Terminal\n",
    "- The notebook itself running the selected kernel, comprised of\n",
    "  - input cells: code or markdown\n",
    " ** ability to mix code, markdown and rich media allows to create a narrative **\n",
    "  - output cells: can include plots, graphics\n",
    "\n",
    "Notebooks are stored in the JSON-based .ipynb file format"
   ]
  },
  {
   "cell_type": "markdown",
   "metadata": {
    "slideshow": {
     "slide_type": "skip"
    }
   },
   "source": [
    "<table class=\"noborder\">\n",
    "<tbody>\n",
    "<tr><td><a href=\"http://jupyter.org/\"><img src=\"https://encrypted-tbn3.gstatic.com/images?q=tbn:ANd9GcSnQKaJ94EsgiFwt6RrjGxvYV_LbJKAW0KZkpM9TUuk4F28wLTbWQ\" border=0 height=90 width=90/></a></td><td>\n",
    "<center><h1>The Jupyter Project</h1></center>\n",
    "</td></tr></tbody>\n",
    "</table>\n",
    "The Jupyter Project *\"Big Split\"* was announced at SciPy in July 2014.\n",
    "<br/><br/>\n",
    "2015: release of **Jupyter 1.0** and **IPython 4.0**.\n",
    "<table class=\"noborder\"><tr><td>\n",
    "Repackaging of monolithic IPython code:\n",
    "<br/><br/>\n",
    "- IPython - one of many kernels\n",
    "<br/><br/>\n",
    "- Jupyter - notebook front-end\n",
    "</td><td>\n",
    "<a href=\"http://www.splung.com/cosmology/images/galileonotebook.gif\"><img src=\"images/Gallileo_Jupiter_Moons_Notebook.png\" border=0 height=100 width=500/>Gallileos' notebooks</a></td></tr></table>"
   ]
  },
  {
   "cell_type": "markdown",
   "metadata": {
    "slideshow": {
     "slide_type": "subslide"
    }
   },
   "source": [
    "<center> <h1> Jupyter: \"*Classic*\" uses </h1> </center>\n",
    "- Data analysis, visualisation, multi-language, across all domains\n",
    "  - physics, astro-physics, LHC, [LIGO proof](https://losc.ligo.org/events/GW150914/), chemistry, biology, genomics\n",
    "  - Finance, \"whistle blowers\" Panama Papers (Neo4J)\n",
    "\n",
    "-  Viewable examples at\n",
    "   - [nbviewer [https://nbviewer.org] - links to github](https://nbviewer.org)\n",
    "   - [github - more than 200k notebooks](https://github.com)  [**Announcement - May '15**](http://blog.jupyter.org/2015/05/07/rendering-notebooks-on-github/)\n",
    "   - [IPython gallery [https://github.com/ipython/ipython/wiki]](https://github.com/ipython/ipython/wiki/A-gallery-of-interesting-IPython-Notebooks)\n",
    "   - [**nb.binap.net [http://nb.bianp.net/]** most viewed](http://nb.bianp.net/sort/views/) [recent](http://nb.bianp.net/sort/date/)"
   ]
  },
  {
   "cell_type": "code",
   "execution_count": null,
   "metadata": {
    "collapsed": false,
    "slideshow": {
     "slide_type": "skip"
    }
   },
   "outputs": [],
   "source": [
    "from IPython.display import HTML\n",
    " \n",
    "HTML('<iframe src=\"http://nb.bianp.net/\" width=1400 height=350></iframe>')"
   ]
  },
  {
   "cell_type": "markdown",
   "metadata": {
    "slideshow": {
     "slide_type": "subslide"
    }
   },
   "source": [
    "<center> <h1> Jupyter: Running notebooks </h1> </center>\n",
    "- Native OS Python distribution + Pip, or Anaconda\n",
    "- JupyterHub, multi-user server\n",
    "- Under Docker [e.g. *docker-stacks* images]\n",
    "- Integrated into data science Cloud Hosting or plain IaaS:\n",
    "  - [Azure ML Studio](https://blogs.technet.microsoft.com/machinelearning/2015/07/24/introducing-jupyter-notebooks-in-azure-ml-studio/)\n",
    "  - [Google Cloud DataLab Beta](https://cloud.google.com/datalab/)\n",
    "  - [IBM Data Scientist Workbench](https://my.datascientistworkbench.com/)\n",
    "- Cloud hosted (ephemereal)\n",
    "  - [**tryjupyter.org**](https://try.jupyter.org/) [uses *docker-demo* image]\n",
    "  - **Binder** (https://mybinder.org), an example [github repo](https://github.com/mjbright/binder_jupyter_notebook)"
   ]
  },
  {
   "cell_type": "code",
   "execution_count": null,
   "metadata": {
    "collapsed": true,
    "slideshow": {
     "slide_type": "skip"
    }
   },
   "outputs": [],
   "source": [
    "From above:\n",
    "      - [AWS EC2](http://efavdb.com/deep-learning-with-jupyter-on-aws/) [Iaas]\n"
   ]
  },
  {
   "cell_type": "markdown",
   "metadata": {
    "slideshow": {
     "slide_type": "subslide"
    }
   },
   "source": [
    "<center><h1>Jupyter & Azure ML Studio</h1></center>\n",
    "<table class=\"noborder\"><tbody>\n",
    "<tr><td width=\"25%\">Jupyter integration in\n",
    "<a href=\"https://blogs.technet.microsoft.com/machinelearning/2015/07/24/introducing-jupyter-notebooks-in-azure-ml-studio/\"> Azure ML Studio </a><br/><br/><br/>\n",
    "- R\n",
    "<br/><br/>\n",
    "- Python\n",
    "</td><td><img src=\"https://msdnshared.blob.core.windows.net/media/2016/03/032916_2008_JupyterNote1.png\" border=0 height=900 width=900/></td></tr></tbody>\n",
    "</table>"
   ]
  },
  {
   "cell_type": "markdown",
   "metadata": {
    "slideshow": {
     "slide_type": "skip"
    }
   },
   "source": [
    "<center><h1>Jupyter & Google Cloud DataLab</h1></center>\n",
    "<table class=\"noborder\"><tbody>\n",
    "<tr><td width=\"25%\">Jupyter integration in\n",
    "<a href=\"https://cloud.google.com/datalab/\"> Google Cloud DataLab [*Beta*] </a><br/><br/><br/>\n",
    "<br/><br/>\n",
    "- Python\n",
    "<br/><br/>\n",
    "- SQL\n",
    "<br/><br/>\n",
    "- js\n",
    "</td><td><img src=\"https://cloud.google.com/datalab/images/nb-list.png\" border=0 height=900 width=900/></td></tr></tbody>\n",
    "</table>\n"
   ]
  },
  {
   "cell_type": "markdown",
   "metadata": {
    "slideshow": {
     "slide_type": "subslide"
    }
   },
   "source": [
    "<center><h1>Jupyter & IBM Data Scientist Workbench</h1></center>\n",
    "<table class=\"noborder\"><tbody>\n",
    "<tr><td width=\"25%\">Jupyter integration in\n",
    "<a href=\"https://my.datascientistworkbench.com/\"> Data Scientist Workbench </a><br/><br/>\n",
    "</td><td><img src=\"images/IBM_DSWB_Jupyter.PNG\" border=0 height=900 width=900/></td></tr></tbody>\n",
    "</table>"
   ]
  },
  {
   "cell_type": "markdown",
   "metadata": {
    "slideshow": {
     "slide_type": "skip"
    }
   },
   "source": [
    "<center><h1>Jupyter & AWS EC2 [IaaS]</h1></center>\n",
    "<a href=\"http://efavdb.com/deep-learning-with-jupyter-on-aws\">Stanford CS231n: Convolutional Neural Networks for Visual Recognition</a>\n",
    "\n",
    "<table class=\"noborder\"><tbody>\n",
    "<tr><td><img src=\"http://efavdb.com/wp-content/uploads/2016/03/run-00-classification-ipynb.png\" border=0 height=900 width=900/></td></tr></tbody>\n",
    "</table>\n"
   ]
  },
  {
   "cell_type": "markdown",
   "metadata": {
    "slideshow": {
     "slide_type": "notes"
    }
   },
   "source": [
    "# NOTES: Installing Jupyter\n",
    "\n",
    "For a native installation\n",
    "- Recommended: install Jupyter using the Anaconda distribution [Continuum Analytics]\n",
    "<br/>\n",
    "This provides the IPython kernel only.\n",
    "<br/>\n",
    "- or pip install jupyter\n",
    "<br/>\n",
    "<br/>\n",
    "You can then customize your config and install\n",
    "  - Kernels for other languages/environments, e.g. Anaconda's R-Essentials package\n",
    "  - Extension widgets\n",
    "  - Notebooks !!\n",
    "\n",
    "Or\n",
    "- Alternatively, several docker images are available on DockerHub (e.g. [jupyter/demo](https://hub.docker.com/r/jupyter/demo/))\n",
    "- or you can try out [try.jupyter.org](https://try.jupyter.org/)"
   ]
  },
  {
   "cell_type": "markdown",
   "metadata": {
    "slideshow": {
     "slide_type": "slide"
    }
   },
   "source": [
    "<center>\n",
    "    <h1> Kernels, Widgets & Extensions </h1>\n",
    "</center>\n",
    "\n",
    "<img src=\"images/notebook_components.png\" />\n"
   ]
  },
  {
   "cell_type": "markdown",
   "metadata": {
    "slideshow": {
     "slide_type": "subslide"
    }
   },
   "source": [
    "<center>\n",
    "<h1>~ 50 Kernels</h1>\n",
    "Kernels are execution environments - typically a language\n",
    "[[Kernels Page]](https://github.com/ipython/ipython/wiki/IPython-kernels-for-other-languages)\n",
    "</center>\n",
    "\n",
    "<table class=\"noborder\">\n",
    "<tr>\n",
    "<td>**IJulia** </td><td> IHaskell </td><td> IFSharp </td><td> IRuby </td><td> IGo</td>\n",
    "</tr><tr>\n",
    "<td>IScilab </td><td> IMatlab </td><td> **Bash** </td><td> Clojure </td><td> Hy</td>\n",
    "</tr><tr>\n",
    "<td> Lua</td><td> Mochi </td><td> IErlang </td><td> **Spark** </td><td> **MetaKernel**</td>\n",
    "</tr><tr>\n",
    "<td> IVisual VP </td><td> Brainfuck </td><td> Brython </td><td>IOCaml </td><td> **MetaKernel_Bash**</td>\n",
    "</tr><tr>\n",
    "<td>IScala </td><td> IMathics </td><td> IAldor </td><td> Calico Pro </td><td> Calysto Prolog</td>\n",
    "</tr><tr>\n",
    "<td>IForth </td><td> **IPerl** </td><td> **IPerl6** </td><td> IPHP </td><td> IOctave</td>\n",
    "</tr><tr>\n",
    "<td>KDB+/Q Ker </td><td> ICryptol </td><td> **C++ (cling)** </td><td> **Xonsh** </td><td> IJavascript </td>\n",
    "</tr><tr>\n",
    "<td>cl-jupyter </td><td> **IRKernel** </td><td> IElixir </td><td> Java 9 </td><td> Calysto LC</td>\n",
    "</tr><tr>\n",
    "<td>Redis </td><td> jove </td><td>Prolog </td><td>  </td><td>Calysto Scheme</td>\n",
    "</tr>\n",
    "</table>\n"
   ]
  },
  {
   "cell_type": "markdown",
   "metadata": {
    "slideshow": {
     "slide_type": "subslide"
    }
   },
   "source": [
    "<center><h1>Widgets</h1></center>\n",
    "#### Widgets are eventful python objects that have a representation in the browser, often as a control like a slider, textbox, etc. [[documentation]](https://ipywidgets.readthedocs.io/en/latest/examples/Widget%20Basics.html#What-are-widgets?)\n",
    "\n",
    "Provided widgets include:\n",
    "- IntSlider, FloatSlider, FloatProgress\n",
    "- Buttons, Checkboxes, Radio buttons\n",
    "- Dropdown menus"
   ]
  },
  {
   "cell_type": "code",
   "execution_count": null,
   "metadata": {
    "collapsed": true,
    "slideshow": {
     "slide_type": "fragment"
    }
   },
   "outputs": [],
   "source": [
    "from ipywidgets import *\n",
    "\n",
    "IntSlider()"
   ]
  },
  {
   "cell_type": "code",
   "execution_count": null,
   "metadata": {
    "collapsed": false,
    "slideshow": {
     "slide_type": "fragment"
    }
   },
   "outputs": [],
   "source": [
    "widgets.FloatProgress(\n",
    "    value=7.5,\n",
    "    min=5.0,\n",
    "    max=10.0,\n",
    "    step=0.1,\n",
    "    description='Loading:',\n",
    ")"
   ]
  },
  {
   "cell_type": "markdown",
   "metadata": {
    "slideshow": {
     "slide_type": "subslide"
    }
   },
   "source": [
    "<center><h1>Extensions</h1>\n",
    "<!-- https://carreau.gitbooks.io/jupyter-book/content/notebook-extensions.html -->\n",
    "</center>\n",
    "- Collection [github]: [ipython-contrib/IPython-notebook-extensions](https://github.com/ipython-contrib/IPython-notebook-extensions)\n",
    "- Installed to http://localhost:8888/nbextensions/\n",
    "\n",
    "Many extensions available, including:\n",
    "- [**RISE**](https://github.com/damianavila/RISE) - **these slides are running under Jupyter**\n",
    "- [nbgrader](https://nbgrader.readthedocs.org/en/stable/) - creation/grading of classroom assignments\n",
    "\n",
    "<!-- [plotchecker](https://github.com/jhamrick/plotchecker) - grading of plots\n",
    "- [hide_code](https://pypi.python.org/pypi/hide_code) - hide code cells\n",
    "- [clicker](https://athena.brynmawr.edu/jupyter/hub/dblank/public//Activity%20Magic.ipynb) - anonymous polls\n",
    "-->\n",
    "\n",
    "Generally installable via pip or from github repo"
   ]
  },
  {
   "cell_type": "markdown",
   "metadata": {
    "slideshow": {
     "slide_type": "subslide"
    }
   },
   "source": [
    "<center><h1>nbgrader</h1>\n",
    "\n",
    "<img src=\"images/nbgrader_creating_assignment.gif\" />"
   ]
  },
  {
   "cell_type": "markdown",
   "metadata": {
    "slideshow": {
     "slide_type": "slide"
    }
   },
   "source": [
    "<center>\n",
    "    <h1> The Ecosystem & Future Projects </h1>\n",
    "</center>"
   ]
  },
  {
   "cell_type": "markdown",
   "metadata": {
    "slideshow": {
     "slide_type": "notes"
    }
   },
   "source": [
    "# NOTES: Jupyter Incubator Projects\n",
    "(https://github.com/jupyter-incubator)\n",
    "\n",
    "<table class=\"noborder\">\n",
    "<tr><td><b> sparkmagic</b></td><td>\n",
    "Jupyter magics and kernels for working with remote Spark clusters\n",
    "</td></tr><tr><td><b> dashboards_setup</b></td><td>\n",
    "Recipes for setting up components related to the incubating dashboards effort\n",
    "</td></tr><tr><td><b> declarativewidgets</b></td><td>\n",
    "Jupyter Declarative Widget Extension\n",
    "</td></tr><tr><td><b> dashboards_server</b></td><td>\n",
    "Server that runs and renders Jupyter notebooks as interactive dashboards\n",
    "</td></tr><tr><td><b> dashboards</b></td><td>\n",
    "Jupyter Dynamic Dashboards from Notebooks\n",
    "</td></tr><tr><td><b> dashboards_bundlers</b></td><td>cv\n",
    "Converts a notebook to a dashboard and deploys it / downloads it\n",
    "</td></tr><tr><td><b> contentmanagement</b></td><td>\n",
    "Jupyter Content Management Extensions\n",
    "</td></tr><tr><td><b> showcase</b></td><td>\n",
    "A spot to try demos of one or more incubating Jupyter projects in Binder\n",
    "</td></tr><tr><td><b> kernel_gateway_bundlers</b></td><td>\n",
    "Converts a notebook to a kernel gateway microservice bundle for download\n",
    "</td></tr><tr><td><b> traittypes</b></td><td>\n",
    "Traitlets types for NumPy, SciPy and friends\n",
    "</td></tr><tr><td><b> proposals</b></td><td>\n",
    "Proposals for new Jupyter subprojects to enter into incubation\n",
    "</td></tr>\n",
    "</table>"
   ]
  },
  {
   "cell_type": "markdown",
   "metadata": {
    "slideshow": {
     "slide_type": "subslide"
    }
   },
   "source": [
    "<center><h1>Jupyter Incubator Projects</h1> (https://github.com/jupyter-incubator)\n",
    "[proposals](https://github.com/jupyter-incubator/proposals)</center>\n",
    "\n",
    "<table class=\"noborder\">\n",
    "<tr><td><b> [showcase](https://github.com/jupyter-incubator/showcase)</b></td><td>\n",
    "A spot to try demos of one or more incubating Jupyter projects in **Binder** [demos](http://jupyter.cloudet.xyz/)</td>\n",
    "\n",
    "<tr><td><b> [sparkmagic](https://github.com/jupyter-incubator/sparkmagic)</b></td><td>\n",
    "Jupyter magics and kernels for working with remote Spark clusters\n",
    "\n",
    "</td></tr><tr><td><b> [declarativewidgets](https://github.com/jupyter-incubator/declarativewidgets)</b></td><td>\n",
    "Declare Widgets in HTML\n",
    "\n",
    "</td></tr><tr><td><b> [dashboards](https://github.com/jupyter-incubator/dashboards)</b></td><td>\n",
    "Create Dashboards from Notebooks\n",
    "\n",
    "</td></tr><tr><td><b> [contentmanagement](https://github.com/jupyter-incubator/contentmanagement)</b></td><td>\n",
    "Extensions for search, notebook modules/[cookbooks](https://github.com/jupyter-incubator/contentmanagement/blob/master/etc/notebooks/cookbooks_demo/use_cookbooks.ipynb), ToC, [bundlers](https://github.com/jupyter-incubator/contentmanagement/blob/master/etc/notebooks/associations_demo/associations_demo.ipynb) [vid](https://www.youtube.com/watch?v=SJiezXPhVv8)\n",
    "\n",
    "</td></tr><tr><td><b> [kernel_gateway](https://github.com/jupyter-incubator/kernel_gateway)</b></td><td>\n",
    "Support different protocols to Jupyter server, e.g. non-nb web clients, u-services, cluster\n",
    "\n",
    "</td></tr><tr><td><b> [traittypes](https://github.com/jupyter-incubator/traittypes)</b></td><td>\n",
    "Traitlet types for NumPy, SciPy and friends\n",
    "\n",
    "</td></tr>\n",
    "</table>"
   ]
  },
  {
   "cell_type": "markdown",
   "metadata": {
    "slideshow": {
     "slide_type": "subslide"
    }
   },
   "source": [
    "<center><h1>Incubator: Jupyter Dashboards</h1> (https://github.com/jupyter-incubator/dashboards) - alternative layouts</center>\n",
    "\n",
    "![dashboards](https://github.com/jupyter-incubator/dashboards/raw/master/etc/dashboards_intro.png)"
   ]
  },
  {
   "cell_type": "markdown",
   "metadata": {
    "slideshow": {
     "slide_type": "subslide"
    }
   },
   "source": [
    "<center><h1>JupyterLab</h1> (https://github.com/jupyter/jupyterlab/) - the future interface</center>\n",
    "\n",
    "\n",
    "\n",
    "![JupyterLab](https://raw.githubusercontent.com/jupyter/jupyterlab/master/jupyter-plugins-demo.gif)"
   ]
  },
  {
   "cell_type": "markdown",
   "metadata": {
    "slideshow": {
     "slide_type": "slide"
    }
   },
   "source": [
    "<center><h1>External Jupyter Projects</h1></center>\n",
    "<br/>\n",
    "- Publishers\n",
    "  - books, blogs, reports, theses\n",
    "  - executable books, articles\n",
    "    - e.g. [**Thebe** (O'Reilly)](https://github.com/oreillymedia/thebe) is a simplified notebook interface\n",
    "       [Blog Post using Thebe](https://www.oreilly.com/learning/introducing-pandas-objects)\n",
    "    - Nature, Scientific American Magazines\n",
    "\n",
    "- Educators\n",
    "  - tutorials, assignments, presentations, documenting\n",
    "  - MOOCs - online education:\n",
    "    - notebook-based (**Edx/Apache Spark**)\n",
    "    - jupyter-integrated (**F.U.N.**)\n",
    "  - in classrooms using JupyterHub\n",
    "</font>"
   ]
  },
  {
   "cell_type": "markdown",
   "metadata": {
    "slideshow": {
     "slide_type": "notes"
    }
   },
   "source": [
    "# NOTES:\n",
    "\n",
    "#### Jupyter Ecosystem\n",
    "The \"*Big Split*\" facilitates innovation around the platform<br/><br/>\n",
    "</center>\n",
    "\n",
    "There are many ongoing projects\n",
    "- static notebook viewers:\n",
    "  - [*IPython Gallery*]() &nbsp;**-->** &nbsp;[nbviewer](http://nbviewer.org), &nbsp;[github](https://github.com)\n",
    "- dynamic notebook viewers:\n",
    "  - [tryjupyter.org](http://tryjupyter.org),&nbsp; JupyterHub,&nbsp; [Bindr](http://bindr.org),&nbsp; [Quantopian](http://quantopian.org)\n",
    "- alternative front-ends:\n",
    "  - Sidecar,&nbsp; [Rodeo IDE v2](http://blog.yhat.com/posts/rodeo-2.0-release.html),&nbsp; [Hydrogen (ATOM)](https://atom.io/packages/hydrogen),&nbsp; [EIN (emacs)](http://millejoh.github.io/emacs-ipython-notebook/)\n",
    "- tools\n",
    "  - nbconvert  (convert between .ipynb and other formats: PDF, html, ...)\n",
    "- kernels & extensions\n",
    "</center>\n",
    "\n",
    "#### Jupyter projects - static notebook rendering\n",
    "**[IPython Gallery](https://github.com/ipython/ipython/wiki/A-gallery-of-interesting-IPython-Notebooks)**\n",
    "Has a list of interesting notebooks ... rendered on **nbviewer** or **github** ...\n",
    "\n",
    "**[nbviewer](http://nbviewer.org)** -You can upload your notebooks to nbviewer which renders them statically (the output cells you already created).\n",
    "Users can download the original notebook.\n",
    "\n",
    "**[github - (example)](https://github.com/rasbt/algorithms_in_ipython_notebooks) ** also renders notebooks statically\n",
    "\n",
    "\n",
    "#### Jupyter projects - dynamic notebook rendering\n",
    "\n",
    "- Try Jupyter: [try.jupyter.org](https://try.jupyter.org/)\n",
    "\n",
    "- JupyterHub: multi-user environment for education\n",
    "\n",
    "- Binder (mybinder.org)\n",
    "\n",
    "- [**Thebe** (O'Reilly)](https://www.oreilly.com/learning/introducing-pandas-objects)\n",
    "OReilly publishing - simplified notebook widget\n",
    "\n",
    "- Watakari (Continuum Analytics)\n",
    "\n",
    "- Stocks Analysis (Quantopian)\n",
    "[quantopian](https://www.quantopian.com/research/survey)\n",
    "\n",
    "- Escherpad"
   ]
  },
  {
   "cell_type": "markdown",
   "metadata": {
    "slideshow": {
     "slide_type": "notes"
    }
   },
   "source": [
    "# NOTES: Jupyter Core Projects\n",
    "<br/><br/><font size=+1>Basic UI enhancements: e.g. shortcuts, cell marking</font>\n",
    "<br/><br/><font size=+1>Notebook tests\n",
    "- unit testing\n",
    "- regression testing\n",
    "- dependency testing\n",
    "\n",
    "#### The Jupyter Project\n",
    "- magics, lanugage kernels, extensions, widgets \n",
    "- nbviewer.org\n",
    "- nbconvert\n",
    "- tmpnb, jupyterhub\n",
    "- incubating projects\n",
    "\n",
    "#### The Jupyter Ecosystem: External projects\n",
    "\n",
    "- Thebe: \"????\"\n",
    "- Hosting: Azure, GCE, ...\n",
    "- Blogs, Books, ...\n",
    "- Binder: [mybinder.org](http://mybinder.org)\n",
    "\n",
    "\n",
    "Currently [incubating sub-projects](https://github.com/jupyter-incubator) (IBM, MSFT involvement)\n",
    "</font>\n",
    "  - [Content Management](https://github.com/jupyter-incubator/contentmanagement)\n",
    "    - Search, include, modularity, ToC  [ex](http://jupyter.cloudet.xyz/user/BWjC4e69eYwv/notebooks/index.ipynb)\n",
    "  - [Dashboards](https://github.com/jupyter-incubator/dashboards)\n",
    "    - Different notebook layouts, bundling as web apps [ex](http://jupyter.cloudet.xyz/user/BWjC4e69eYwv/notebooks/index.ipynb)\n",
    "  - [SparkMagic](https://github.com/jupyter-incubator/sparkmagic)\n",
    "    - Connecting to external Spark Engines\n",
    "  - [Declarative Widgets](https://github.com/jupyter-incubator/declarativewidgets)\n",
    "    - Widgets with less code [ex](http://jupyter.cloudet.xyz/user/BWjC4e69eYwv/notebooks/index.ipynb)\n",
    "  - [Kernel Gateway](https://github.com/jupyter-incubator/kernel_gateway)\n",
    "    - Enable more deployment scenarios at scale\n",
    "</font>"
   ]
  },
  {
   "cell_type": "markdown",
   "metadata": {
    "slideshow": {
     "slide_type": "subslide"
    }
   },
   "source": [
    "<center><h1>OReilly Blog Article - using Thebe</h1></center>\n",
    "\n",
    "Thebe allows to interact with Jupyter notebook from a standard web page\n",
    "<a href=\"https://www.oreilly.com/learning/introducing-pandas-objects\"> <img src=\"images/OReilly_Phebe_PandasArticle.PNG\" width=500/> <a/>"
   ]
  },
  {
   "cell_type": "markdown",
   "metadata": {
    "slideshow": {
     "slide_type": "subslide"
    }
   },
   "source": [
    "<center><h1> MOOCs, e.g. F.U.N., GWU, EdX/Spark... </h1></center>\n",
    "<br/><a href=\"https://www.france-universite-numerique-mooc.fr/courses/inria/41001S02/session02/courseware/5ec24fe4d294490795d69befc8e19870/8ff1435df3c846fdb0cb42adfd11c3ab/\">\n",
    "<img src=\"images/MOOC_FUN_Jupyter_Integrated.png\" width=1400 />\n",
    "</a>"
   ]
  },
  {
   "cell_type": "markdown",
   "metadata": {
    "slideshow": {
     "slide_type": "slide"
    }
   },
   "source": [
    "<center><h1> Jupyter for Everything Else </h1></center>\n",
    "\n",
    "- Use of web technologies: mix-in HTML, CSS, js, SVG ...\n",
    "- Use of bash kernel for command-line work\n",
    "- Supplement command-line tools with graphics\n",
    "- Create interactive presentations (thanks *RISE* extension !)\n",
    "- Publish interactive books, articles and blog posts"
   ]
  },
  {
   "cell_type": "markdown",
   "metadata": {
    "slideshow": {
     "slide_type": "notes"
    }
   },
   "source": [
    "# NOTES: Jupyter for Everything Else\n",
    "\n",
    "- HTML/JavaScript/css/SVG experimentation\n",
    "  - Show useful d3.js animation (chart, or chart+js widget)\n",
    "- Write command-line tutorials, cheat sheets in an easy to maintain format.\n",
    "- Supplement command-line tools with graphics\n",
    "- Write blog posts\n",
    "- Create interactive presentations (thanks *RISE* extension !)\n",
    "- Publish interactive books, articles and blog posts\n",
    "  - OReilly, ... (bring in Pao slides)\n",
    "- nbconvert to automatically execute, convert notebooks"
   ]
  },
  {
   "cell_type": "markdown",
   "metadata": {
    "slideshow": {
     "slide_type": "subslide"
    }
   },
   "source": [
    "<center><h1> Everything Else: web technologies </h1></center>\n",
    "\n",
    "- HTML/JavaScript/css experimentation\n",
    "  - Many HTML, CSS, JS capabilities if you **proceed with care**\n",
    "  - d3.js animations if\n",
    "    - Need more interactivity\n",
    "    - Prototyping a D3 project\n",
    "    - Reusing existing D3 e.g. from http://bl.orcks.org\n",
    "\n",
    "- SVG\n",
    "- [Example notebook](http://localhost:8888/notebooks/CSS_Graphics_and_Charts.ipynb)"
   ]
  },
  {
   "cell_type": "markdown",
   "metadata": {
    "collapsed": false,
    "slideshow": {
     "slide_type": "slide"
    }
   },
   "source": [
    "<h3>Select Theme</h3><select id=\"theme-list\"></select>"
   ]
  },
  {
   "cell_type": "code",
   "execution_count": null,
   "metadata": {
    "collapsed": true,
    "slideshow": {
     "slide_type": "skip"
    }
   },
   "outputs": [],
   "source": [
    "%%html\n",
    "<!-- USE WITH CARE: This code will change the RISE theming -->\n",
    "<script src=\"js/d3.min.js\"></script>\n",
    "<script>\n",
    "d3.select(\"body\").\n",
    "  style(\"background\", \"#ad4944\").\n",
    "  style(\"background\", \"-moz-radial-gradient(center, circle cover, #f7fbfc 0%, #ad4944 100%\").\n",
    "  style(\"background\", \"-webkit-gradient(radial, center center, 0px, center center, 100%, color-stop(0%, #f7fbfc), color-stop(100%, #ad4944))\").\n",
    "  style(\"background\", \"-webkit-radial-gradient(center, circle cover, #f7fbfc 0%, #ad4944 100%)\").\n",
    "  style(\"background\", \"-o-radial-gradient(center, circle cover, #f7fbfc 0%, #ad4944 100%)\").\n",
    "  style(\"background\", \"-ms-radial-gradient(center, circle cover, #f7fbfc 0%, #ad4944 100%)\").\n",
    "  style(\"background\", \"radial-gradient(center, circle cover, #f7fbfc 0%, #ad4944 100%)\").\n",
    "  style(\"background-color\", \"#f7fbfc\");\n",
    "</script>"
   ]
  },
  {
   "cell_type": "code",
   "execution_count": null,
   "metadata": {
    "collapsed": true,
    "slideshow": {
     "slide_type": "skip"
    }
   },
   "outputs": [],
   "source": [
    "%%html\n",
    "<!-- USE WITH CARE: This code will apply a background image (but without transparency ..) -->\n",
    "<script src=\"js/d3.min.js\"></script>\n",
    "<script>\n",
    "d3.select(\".rise-enabled\").\n",
    "  style(\"background-color\", \"azure !important\").\n",
    "  style(\"font-size\", \"125% !important\").\n",
    "  style(\"background-image\", \"url(images/Jupyter_background.png), linear-gradient(30deg, #7ab8ec, white 75%, white)\").\n",
    "  style(\"background-position\", \"center\").\n",
    "  style(\"background-repeat\", \"no-repeat\").\n",
    "  style(\"background-origin\", \"content-box\").\n",
    "  style(\"filter\", \"alpha(opacity=40)\").\n",
    "  style(\"padding\", \"5px 5px 5px 5px\");\n",
    "</script>"
   ]
  },
  {
   "cell_type": "code",
   "execution_count": 9,
   "metadata": {
    "collapsed": false,
    "slideshow": {
     "slide_type": "subslide"
    }
   },
   "outputs": [
    {
     "data": {
      "text/html": [
       "<!-- Placeholder for colorPicker: from https://github.com/thetylerwolf/d3-colorpicker -->\n",
       "<div class=\"colorPicker\"> <svg width=\"750\"></svg> </ div>\n",
       "<script type=\"text/javascript\" src=\"js/d3.min.js\"></script>\n",
       "<link rel=\"stylesheet\" type=\"text/css\" href=\"d3-colorpicker/colorpicker.css\">\n",
       "<script type=\"text/javascript\" src=\"d3-colorpicker/colorPicker.js\"></script>\n",
       "<style> .colorPicker {  height:200px;  width:645px;  margin:auto;  margin-top:200px;  position:relative;} </style>"
      ],
      "text/plain": [
       "<IPython.core.display.HTML object>"
      ]
     },
     "metadata": {},
     "output_type": "display_data"
    }
   ],
   "source": [
    "%%html\n",
    "<!-- Placeholder for colorPicker: from https://github.com/thetylerwolf/d3-colorpicker -->\n",
    "<div class=\"colorPicker\"> <svg width=\"750\"></svg> </ div>\n",
    "<script type=\"text/javascript\" src=\"js/d3.min.js\"></script>\n",
    "<link rel=\"stylesheet\" type=\"text/css\" href=\"d3-colorpicker/colorpicker.css\">\n",
    "<script type=\"text/javascript\" src=\"d3-colorpicker/colorPicker.js\"></script>\n",
    "<style> .colorPicker {  height:200px;  width:645px;  margin:auto;  margin-top:200px;  position:relative;} </style>"
   ]
  },
  {
   "cell_type": "code",
   "execution_count": null,
   "metadata": {
    "collapsed": false,
    "slideshow": {
     "slide_type": "skip"
    }
   },
   "outputs": [],
   "source": [
    "%%html\n",
    "\n",
    "TODO: svg"
   ]
  },
  {
   "cell_type": "markdown",
   "metadata": {
    "slideshow": {
     "slide_type": "subslide"
    }
   },
   "source": [
    "<center><h1> Everything Else: command-line </h1></center>\n",
    "\n",
    "Two bash kernels are available for Jupyter bash_kernel and calysto/metakernel_bash\n",
    "\n",
    "<table class=\"noborder\"><tbody>\n",
    "<tr>\n",
    "<td>\n",
    "[Calysto](https://github.com/Calysto) Metakernels\n",
    "<ul>\n",
    "<li>easy to fix for Windows/Cygwin</li>\n",
    "<li>Provides magics</li>\n",
    "<li>Family of metakernels</li>\n",
    "<li>Under development</li>\n",
    "</ul>\n",
    "</td>\n",
    "<td>\n",
    "<img src=\"images/github_Calysto.PNG\" width=300/>\n",
    "</td>\n",
    "</tr>\n",
    "</tbody></table>\n",
    "\n",
    "\n",
    "\n"
   ]
  },
  {
   "cell_type": "markdown",
   "metadata": {
    "slideshow": {
     "slide_type": "subslide"
    }
   },
   "source": [
    "<center><h1> Everything Else: command-line </h1></center>\n",
    "\n",
    "### Why?\n",
    "\n",
    "Inspired by the notebook as an educational tool I wanted to use it for command-line tasks\n",
    "- [**Docker demos / labs in Jupyter**](http://mjbright.blogspot.fr/2016/02/creating-docker-build-lab-with-jupyter.html\n",
    "\n",
    "\n",
    "- Write command-line tutorials, cheat sheets in an easy to maintain format.\n",
    "   - host \"live\" notebooks online on [Binder (https://mybinder.org)](https://mybinder.org)\n",
    "   - just click on the binder icon in a [github repo](https://github.com/mjbright/binder_jupyter_notebook)\n",
    "   ![](images/launch_binder.svg)\n",
    "   \n",
    "- [Blog posting](http://mjbright.blogspot.fr/2016/05/the-art-of-command-line-ls-seen-from.html) with link to live notebook of bash tutorials\n",
    "   "
   ]
  },
  {
   "cell_type": "markdown",
   "metadata": {
    "slideshow": {
     "slide_type": "subslide"
    }
   },
   "source": [
    "# Binder\n",
    "\n",
    "![Binder](images/MyBinder.org.PNG)"
   ]
  },
  {
   "cell_type": "markdown",
   "metadata": {
    "slideshow": {
     "slide_type": "subslide"
    }
   },
   "source": [
    "# Binder\n",
    "\n",
    "![Binder](images/MyBinder_CommandLineTutorialsIndexPage.PNG)"
   ]
  },
  {
   "cell_type": "markdown",
   "metadata": {
    "slideshow": {
     "slide_type": "subslide"
    }
   },
   "source": [
    "# Binder\n",
    "\n",
    "**TODO**:\n",
    "- Detail image creation\n",
    "  - all root operations are to be done at binder creation time (apt-get update/install for example)\n",
    "- versus image instanciation\n",
    "\n",
    "- What it is\n",
    "- Binder launch logo\n",
    "- Launch a binder from github repo - full Jupyter server (new notebooks, terminal, kernels, ...)\n",
    "- Launch directly a notebook (and server)\n",
    "\n",
    "\n",
    "- Launch a new server from my '<a href=\"https://github.com/mjbright/binder_jupyter_notebook\">mjbright/binder_jupyter_notebook</a>' github repo\n",
    "\n",
    "<a href=\"http://mybinder.org/repo/mjbright/binder_jupyter_notebook\">\n",
    "<img src=\"images/launchbinder.svg\"/>\n",
    "</a>\n",
    "\n",
    "- Launch a new server, as above, opening directly a specific notebook\n",
    "\n",
    "<a href=\"http://mybinder.org/repo/mjbright/binder_jupyter_notebook/Example_bash_kernel.ipynb\">\n",
    "<img src=\"images/launchbinder.svg\"/>\n",
    "</a>\n",
    "\n",
    "- Launch a new server, as above, opening directlythe index notebook\n",
    "\n",
    "<a href=\"http://mybinder.org/repo/mjbright/binder_jupyter_notebook/INDEX_Tutorials.ipynb\">\n",
    "<img src=\"images/launchbinder.svg\"/>\n",
    "</a>\n",
    "\n",
    "- From a running server link to another notebook, or link to the server\n",
    "<hr/>"
   ]
  },
  {
   "cell_type": "markdown",
   "metadata": {
    "slideshow": {
     "slide_type": "subslide"
    }
   },
   "source": [
    "# Binder Workflow\n",
    "- launch binder\n",
    "- edit notebooks\n",
    "- upload new notebooks or supporting files (e.g. pcap files for tcpdump)\n",
    "- download your modified notebooks\n",
    "- \"git add\" them to your githhub repo for inclusion\n",
    "\n",
    "### Careful: save your notebook periodically, this is an ephemeral container !\n",
    "\n",
    "### With the notebook we advance quickly\n",
    "### Combination of markdown and code allows to quickly produce a usable tutorial online (even for command-line)"
   ]
  },
  {
   "cell_type": "markdown",
   "metadata": {
    "slideshow": {
     "slide_type": "subslide"
    }
   },
   "source": [
    "# Binder Resources\n",
    "\n",
    "- MyBinder.org http://mybinder.org/\n",
    "   - include image\n",
    "- Gitter https://gitter.im/binder-project/binder\n",
    "- Docs   http://docs.mybinder.org/\n",
    "- Github https://github.com/binder-project\n",
    "- Blog posts\n",
    "  - http://ivory.idyll.org/blog/2016-mybinder.html\n",
    "  - http://ivory.idyll.org/blog/2016-mybinder-workshop-proposal.html\n"
   ]
  },
  {
   "cell_type": "markdown",
   "metadata": {
    "slideshow": {
     "slide_type": "notes"
    }
   },
   "source": [
    "# NOTES: Jupyter / LIGO\n",
    "\n",
    "Want to play with gravity wave data? Reproducible science FTW! LIGO tutorial + @ProjectJupyter + Binder = http://mybinder.org/repo/minrk/ligo-binder/GW150914_tutorial.ipynb\n",
    "\n",
    "https://t.co/b1DfMFV5HK"
   ]
  },
  {
   "cell_type": "markdown",
   "metadata": {
    "slideshow": {
     "slide_type": "subslide"
    }
   },
   "source": [
    "<center><h1> Everything Else: command-line w. graphics </h1></center>\n",
    "\n",
    "- Supplement command-line tools with graphics\n",
    "\n",
    "  Stay within command-line paradigm but supplement with graphic tools\n",
    "  \n",
    "  [Example notebook](http://localhost:8888/notebooks/TEST_Metakernel_bash.ipynb)"
   ]
  },
  {
   "cell_type": "markdown",
   "metadata": {
    "slideshow": {
     "slide_type": "subslide"
    }
   },
   "source": [
    "<center><h1> Everything Else: Publishing </h1></center>\n",
    "\n",
    "- Publish interactive books, articles and blog posts\n",
    "  - OReilly, Thebe/Atlas\n",
    "  - TODO: Pelican (jvdp)\n"
   ]
  },
  {
   "cell_type": "markdown",
   "metadata": {
    "slideshow": {
     "slide_type": "subslide"
    }
   },
   "source": [
    "<center><h1> Everything Else: Live Presentations </h1></center>\n",
    "\n",
    "We can create interactive presentations within Jupyter thanks to the [*RISE*](https://github.com/damianavila/RISE) \"Live Reveal\" extension\n",
    "\n",
    "Embed live code using\n",
    "- the running kernel, e.g. Python\n",
    "- kernel magics (html, css, js, svg)\n",
    "\n",
    "This presentation is a [notebook](http://localhost:8888/notebooks/PRESENTATION-JupyterForEverythingElse.ipynb)"
   ]
  },
  {
   "cell_type": "code",
   "execution_count": null,
   "metadata": {
    "collapsed": false,
    "slideshow": {
     "slide_type": "fragment"
    }
   },
   "outputs": [],
   "source": [
    "import sys\n",
    "print('hello world from Python v{}.{}.{}({})'.format(sys.version_info[0],sys.version_info[1],sys.version_info[2],sys.version_info[3]))"
   ]
  },
  {
   "cell_type": "markdown",
   "metadata": {},
   "source": [
    "<center><h1> Everything Else: Creating e-mail reports </h1></center>\n",
    "\n",
    "Using nbconvert we can [execute notebooks](http://10.3.216.210:8888/notebooks/notebooks/OpenStack_Monitoring_Py3.ipynb#) from the command-line\n",
    "- Automatically run the notebook under cron\n",
    "- Convert notebook result to html<br/>\n",
    "    ```nbconvert --execute --template basic --to html Monitoring.ipynb```\n",
    "- send html [report](https://mail.google.com/mail/u/0/#inbox/155b805d4e9f68df) as e-mail via cron\n",
    "\n",
    "Capabilities created incrementally in notebook, code migrated to modules to reduce notebook (report) code"
   ]
  },
  {
   "cell_type": "markdown",
   "metadata": {
    "slideshow": {
     "slide_type": "subslide"
    }
   },
   "source": [
    "# nbconvert\n",
    "\n",
    "<img src=\"images/nbconvert.png\" />"
   ]
  },
  {
   "cell_type": "markdown",
   "metadata": {
    "slideshow": {
     "slide_type": "subslide"
    }
   },
   "source": [
    "<center><h1> Everything Else: Coming up ... </h1></center>\n",
    "\n",
    "- More Metakernel_Bash experimebts\n",
    "\n",
    "- Xonsh_kernel\n",
    "  - Take advantage of new Python / unix-like shell\n",
    "  \n",
    "- CLing kernel\n",
    "  "
   ]
  },
  {
   "cell_type": "markdown",
   "metadata": {
    "slideshow": {
     "slide_type": "slide"
    }
   },
   "source": [
    "<center><h1>References: IPython / Jupyter Books</h1></center>\n",
    "\n",
    "<table class=\"noborder\">\n",
    "<tr>\n",
    "<td><a href=\"http://cyrille.rossant.net/books/\"><h3>Learning IPython for Interactive Computing & Data Visualization </h3> </a> Cyrille Rossant<h6> Introductory usage</h6></td>\n",
    "<td><img src=\"images/Books/PPub_Rossant_minibook.jpg\" width=140 /></td>\n",
    "</tr><tr>\n",
    "<td><a href=\"http://cyrille.rossant.net/books/\"><h3> IPython Interactive Computing & Visualization Cookbook  </h3></a> Cyrille Rossant<h6>Advanced usage </h6></td>\n",
    "<td><img src=\"images/Books/PPub_Rossant_cookbook.jpg\" width=140 /></td>\n",
    "</tr>\n",
    "<tr>\n",
    "<td><a href=\"https://www.gitbook.com/book/carreau/jupyter-book/details\"><h3>The Jupyter GitBook</h3></a><h6>Extension writing</h6>\n",
    "</td><td><img src=\"images/Books/gitbook_jupyter-book.jpg\" width=140 />\n",
    "</td>\n",
    "</tr><tr>\n",
    "<tr>\n",
    "<td><a href=\"https://www.readthedocs.io/\"><h3>Documentation on ReadTheDocs</h3></a><h6>Extension writing</h6>\n",
    "</td><td></td>\n",
    "</tr><tr>\n",
    "</table>"
   ]
  },
  {
   "cell_type": "markdown",
   "metadata": {
    "slideshow": {
     "slide_type": "slide"
    }
   },
   "source": [
    "<center>\n",
    "<br/><br/>\n",
    "<h3> <font color=\"#448\"> Jupyter is widely used in may domains<br/>\n",
    "has many active projects ... <br/>\n",
    "has a vibrant ecosystem ... <br/>\n",
    "and has many uses outside science [and Python/R/Julia]\n",
    "</font></h3>\n",
    "<br/><br/>\n",
    "    <h1> Questions ?</h1>\n",
    "<br/><br/>\n",
    "    ![The End](images/END_sillywalk.jpg)\n",
    "    <br/>\n",
    "<font size=+1>\n",
    "<i class=\"fa-github fa-2x fa\"> [mjbright](https://github.com/mjbright)</i>&nbsp;&nbsp;\n",
    "<i class=\"fa-twitter fa-2x fa\"> [@mjbright](http://twitter.com/mjbright)</i>&nbsp;&nbsp;\n",
    "<i class=\"fa-envelope fa-2x fa\"> mjbrightfr AT gmail</i>&nbsp;&nbsp;\n",
    "<i class=\"fa-user fa-2x fa\"> [mjbright.github.io](http://mjbright.github.io)</i>\n",
    "</font>\n",
    "</center>\n"
   ]
  },
  {
   "cell_type": "markdown",
   "metadata": {
    "slideshow": {
     "slide_type": "slide"
    }
   },
   "source": [
    "# References\n",
    "\n",
    "[Jupyter HackPad](https://jupyter.hackpad.com/)"
   ]
  },
  {
   "cell_type": "markdown",
   "metadata": {
    "slideshow": {
     "slide_type": "notes"
    }
   },
   "source": [
    "# Notes: Other envts\n",
    "\n",
    "## Tensor Flow\n",
    "http://raspberry-python.blogspot.fr/2015/12/tensorflow-jupyter-notebook.html\n",
    "\n",
    "## Tensor Flow on RPi (no Jupyter!)\n",
    "https://github.com/samjabrahams/tensorflow-on-raspberry-pi\n",
    "\n",
    "## BeagleBone ?\n",
    "http://mrandrewandrade.com/blog/2015/10/23/measure-temperature-thermistor-beaglebone.html\n",
    "\n",
    "\n"
   ]
  },
  {
   "cell_type": "markdown",
   "metadata": {
    "slideshow": {
     "slide_type": "slide"
    }
   },
   "source": [
    "# The End ..."
   ]
  }
 ],
 "metadata": {
  "celltoolbar": "Slideshow",
  "kernelspec": {
   "display_name": "Python 3",
   "language": "python",
   "name": "python3"
  },
  "language_info": {
   "codemirror_mode": {
    "name": "ipython",
    "version": 3
   },
   "file_extension": ".py",
   "mimetype": "text/x-python",
   "name": "python",
   "nbconvert_exporter": "python",
   "pygments_lexer": "ipython3",
   "version": "3.5.1"
  },
  "livereveal": {
   "height": "800",
   "scroll": true,
   "theme": "sky",
   "width": "1280"
  },
  "toc": {
   "navigate_menu": true,
   "number_sections": true,
   "sideBar": true,
   "threshold": 6,
   "toc_cell": true,
   "toc_section_display": "block",
   "toc_window_display": true
  },
  "widgets": {
   "state": {},
   "version": "1.1.2"
  }
 },
 "nbformat": 4,
 "nbformat_minor": 0
}
