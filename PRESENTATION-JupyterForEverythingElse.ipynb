{
 "cells": [
  {
   "cell_type": "markdown",
   "metadata": {
    "slideshow": {
     "slide_type": "notes"
    }
   },
   "source": [
    "# NOTES: Develop presentation outline/narrative\n",
    "\n",
    "- Start with RISE/slides\n",
    "- Move to notebook\n",
    "- Move back to RISE/slides\n",
    "- MS Azure?\n",
    "- Move to notebook\n",
    "- Binder?"
   ]
  },
  {
   "cell_type": "markdown",
   "metadata": {
    "slideshow": {
     "slide_type": "notes"
    }
   },
   "source": [
    "# INCLUDE architecture diagrams\n",
    "\n",
    "https://www.google.fr/search?q=jupyter+ipython+architecture+diagram&espv=2&biw=513&bih=361&source=lnms&tbm=isch&sa=X&ved=0ahUKEwjjo9T6qOvNAhWCmBoKHdpuAX4Q_AUIBigB\n",
    "\n",
    "- [LINK to Binder demos](http://localhost:8888/notebooks/Demos/Demo_0_INDEX.ipynb#BINDER)\n",
    "- [LINK to Metakernel demos](http://localhost:8888/notebooks/Demos/Demo_0_INDEX.ipynb#METAKERNELS)\n",
    "- [LINK to Nbconvert demos](http://localhost:8888/notebooks/Demos/Demo_0_INDEX.ipynb#NBCONVERT)\n"
   ]
  },
  {
   "cell_type": "markdown",
   "metadata": {
    "slideshow": {
     "slide_type": "notes"
    }
   },
   "source": [
    "# NOTES: Develop 'command-line' narrative\n",
    "\n",
    "#### Initial use of Jupyter/command-line : \"Live/prepared\" Docker Demo, then Docker Lab document creation\n",
    "- 1st use: Python notebook and !magic/alias to run Dokcer commands\n",
    "- 2nd use: Better to be in pure bash (less confusing)\n",
    "- 3rd use: Useful to create Lab guide, easy to rerun all cells\n",
    "\n",
    "#### Bash metakernel\n",
    "- Good to have magics\n",
    "- Easy to fix for Windows/Cygwin\n",
    "- Extended to have *takluyver/bash_kernel* like display functionality\n",
    "- Extended to different types html, js, graphview (as included in Metakernels)\n",
    "- Extended to read from stdin, filename, url, ...\n",
    "\n",
    "#### Use for live tutorials on mybinder.org\n",
    "- Initial 'ls' tutorial + blog post\n",
    "- 2 months later 'tcpdump' tutorial + blog post\n",
    "- EuroPython: Perl6 1-liner tutorial ;-)\n",
    "\n",
    "#### Use for platform monitoring\n",
    "- Initally pure (self-contained) Python\n",
    "- Gradually abstracted methods into separate modules for\n",
    "  - abstraction\n",
    "  - reduce code in results page\n",
    "- link to html\n",
    "- tested e-mail to 2 clients (GMail, Outlook)\n",
    "  - clipped message under GMail ==> --template basic\n",
    "  - tried to render graphics: not rendered by e-mail clients\n",
    "  - tried SVG, CSS: not rendered by e-mail clients\n",
    "\n",
    "\n",
    "## TO INVESTIGATE or DEVELOP\n",
    "- MS Azure\n",
    "- IBM DataScientist WorkBench\n",
    "- nbsphynx (esp. as Sphynx used for Linux Kernel ...)\n",
    "- Use of JupyterHub + nbgrader (or binder?) for labs e.g. Docker lab\n",
    "\n",
    "## FUTURE\n",
    "- Use of JupyterHub + nbgrader (or binder?) for labs e.g. Docker lab\n",
    "- Merge metakernel_bash\n",
    "- More cli/graphics capabilities with proper \"api\"s\n",
    "- Good cli/grahics use cases"
   ]
  },
  {
   "cell_type": "markdown",
   "metadata": {
    "slideshow": {
     "slide_type": "notes"
    }
   },
   "source": [
    "# NOTES: Next steps\n",
    "\n",
    "Presentation\n",
    "\n",
    "#### IPython vs. Jupyter:\n",
    "The rule of thumb is: Jupyter is all the pieces that can work with other languages, IPython is the Python-specific backend for Jupyter.\n",
    "https://groups.google.com/forum/#!topic/jupyter/zbG08MP6wJc\n",
    "\n",
    "- install a fresh Anaconda3 environment and test\n",
    "- look at nbgrader example\n",
    "- create example notebook(s):\n",
    "  - Use Python, R, MK_Bash, Scheme, ...\n",
    "    - Use R \"demo scenarii\"\n",
    "    - Use past MOOCs materials (MOOCs)\n",
    "  - MathJax/Sympy example\n",
    "  - INSTALL nbgrader ...\n",
    "- Under VBox\n",
    "  - xonsh\n",
    "  - ...\n",
    "- BINDER / command-line\n",
    "  - DONE: BETTER Live notebook example e.g. tcpdump analysis\n",
    "  - DONE: create tcpdump file from VBox with some example traffic, e.g. running virtual servers/Docker\n",
    "- DONE: Add a Mybinder slide showing initial \"dependencies\" form ...\n",
    "- Self promote: Blog post, Docker demo, Docker lab (+ next steps)\n",
    "- Investigate CLing\n",
    "- more interesting mk_bash examples\n",
    "- extend Monitoring?\n",
    "  - Better describe monitoring\n",
    "  - nfv5 + multi-system view (OK/NOTOK status summary)\n",
    "  - df, df trends as html table, as pie chart\n",
    "- docker-demo image (show image with kernels, or run under VBox?)\n",
    "- RISE usage\n",
    "  - correct In/Out cell spacing (middle of page):a\n",
    "      https://github.com/damianavila/RISE/issues/196\n",
    "  - Latest RISE maybe has fix for this\n",
    "  - mix of markdown and <HTML>\n",
    "  - probs\n",
    "  - non-LIVE version (and blogging): http://www.damian.oquanta.info/posts/make-your-slides-with-ipython.html\n",
    "- Blogging: pelican ++ (blog articles)\n",
    "- Education environments for labs (git, docker, ..)\n",
    "  - using nbgrader\n",
    "  - hosted binder\n",
    "  - hosted JupyterHub"
   ]
  },
  {
   "cell_type": "markdown",
   "metadata": {
    "slideshow": {
     "slide_type": "notes"
    }
   },
   "source": [
    "# Cells to execute before:"
   ]
  },
  {
   "cell_type": "code",
   "execution_count": 7,
   "metadata": {
    "collapsed": false,
    "slideshow": {
     "slide_type": "slide"
    }
   },
   "outputs": [
    {
     "name": "stdout",
     "output_type": "stream",
     "text": [
      "Last update: 2016-07-15 06:09:42.821337\n"
     ]
    }
   ],
   "source": [
    "import datetime\n",
    "print(\"Last update: \" + str(datetime.datetime.now()))"
   ]
  },
  {
   "cell_type": "code",
   "execution_count": 9,
   "metadata": {
    "collapsed": false,
    "slideshow": {
     "slide_type": "subslide"
    }
   },
   "outputs": [
    {
     "data": {
      "text/html": [
       "<h3>Select Theme</h3><select id=\"theme-list0\"></select>\n",
       "<script src=\"js/d3.min.js\"></script>\n",
       "<script src=\"RISE_themes/RISE_themes.js\"></script>\n",
       "<!-- NOTE: This cell must be code/%%html not markdown for css to be handled -->    \n",
       "<!-- NOTE: table test (class \"noborder\"): want no borders                -->\n",
       "<style> .noborder, .noborder tr, .noborder th, .noborder td { \n",
       "    border-collapse: collapse; border: 0px; border: none!important;\n",
       "} </style>\n",
       "\n",
       "<table class=\"noborder\"><tbody><tr><td> Cell1 </td><td> Cell2 </td></tr></tbody></table>\n",
       "<table><tbody><tr><td> BorderedCell1 </td><td> BorderedCell2 </td></tr></tbody></table>"
      ],
      "text/plain": [
       "<IPython.core.display.HTML object>"
      ]
     },
     "metadata": {},
     "output_type": "display_data"
    }
   ],
   "source": [
    "%%html\n",
    "<h3>Select Theme</h3><select id=\"theme-list0\"></select>\n",
    "<script src=\"js/d3.min.js\"></script>\n",
    "<script src=\"RISE_themes/RISE_themes.js\"></script>\n",
    "<!-- NOTE: This cell must be code/%%html not markdown for css to be handled -->    \n",
    "<!-- NOTE: table test (class \"noborder\"): want no borders                -->\n",
    "<style> .noborder, .noborder tr, .noborder th, .noborder td { \n",
    "    border-collapse: collapse; border: 0px; border: none!important;\n",
    "} </style>\n",
    "\n",
    "<table class=\"noborder\"><tbody><tr><td> Cell1 </td><td> Cell2 </td></tr></tbody></table>\n",
    "<table><tbody><tr><td> BorderedCell1 </td><td> BorderedCell2 </td></tr></tbody></table>"
   ]
  },
  {
   "cell_type": "markdown",
   "metadata": {
    "slideshow": {
     "slide_type": "notes"
    }
   },
   "source": [
    "# NOTES:\n",
    "\n",
    "45 mins inc. Q&A, English\n",
    "So ~ 13 slides\n",
    "Friday 22 July at 10:30\n",
    "https://ep2016.europython.eu/conference/talks/jupyter-for-everything-else\n",
    "\n",
    "#### Qns: program@europython.eu\n",
    "\n",
    "Dear Mike, -- please use program@europython.eu for all speaker related matters in the future -- The room has 180 seats but this doesn't necessarily mean 180 people will attend, last years' trainings had between 50-100 attendees on average. I hope this - unfortunately vague - information helps. The room for your talk has 120 seats, please note that the talk rooms may still change. Best, Alexander\n",
    "\n",
    "#### Screen resolution\n",
    "Ask conference organizers ...\n",
    "\n",
    "For the moment test with 800x600 screen resolution, F11 to hide browser tabs\n",
    "and Edit notebook metadata to set 800x600 resolution\n",
    "\n",
    "==> Hi Mike, most projector for the talks/training are FullHD or at least HD. Regards, Christian\n",
    "==> Assume HD to be safe ==> but go for WXGA 1280 x 800 to be safer still ;-)\n",
    "https://en.wikipedia.org/wiki/Display_resolution\n",
    "\n",
    "#### hierarchical links (image around a link)\n",
    "[![alt-text](image/path)](link/path) \n",
    "\n",
    "#### Nice MathJax example\n",
    "http://nbviewer.jupyter.org/github/ipython/ipython/blob/2.x/examples/Notebook/Typesetting%20Math%20Using%20MathJax.ipynb\n",
    "\n",
    "#### How to reduce RISE margins?"
   ]
  },
  {
   "cell_type": "markdown",
   "metadata": {
    "slideshow": {
     "slide_type": "notes"
    }
   },
   "source": [
    "#### Try javascript slider to modify header colour and size (on one slide)\n",
    "\n",
    "#### Refer to Roadmap (https://github.com/jupyter/roadmap)\n",
    "\n",
    "#### Excellent ideas from Bryn Mawr college (https://athena.brynmawr.edu/jupyter/hub/dblank/public/Experiments)\n",
    "\n",
    "#### Turtles (http://interactivepython.org/runestone/static/thinkcspy/PythonTurtle/OurFirstTurtleProgram.html)\n",
    "(or Calysto ...)\n",
    "\n",
    "#### Later: Try with Docker images\n",
    "- JupyterHub (need Jupyter also): https://hub.docker.com/r/jupyterhub/jupyterhub/\n",
    "  (on github: https://github.com/jupyterhub/jupyterhub)\n",
    "  \n",
    "- CLing image?\n",
    "\n",
    "#### Xkcd plots/images\n",
    "https://nbviewer.jupyter.org/url/jakevdp.github.com/downloads/notebooks/XKCD_plots.ipynb\n",
    "\n",
    "## Reference online sites:\n",
    "\n",
    "https://nbviewer.jupyter.org/\n",
    "\n",
    "https://try.jupyter.org/\n",
    "Uses [jupyter-demo](https://hub.docker.com/r/jupyter/demo/) image [github](https://github.com/jupyter/docker-demo-images)\n",
    "\n",
    "http://jupyter.org/\n",
    "\n",
    "http://ipython.org/\n",
    "\n",
    "#### Widgets\n",
    "http://jupyter.org/widgets.html\n",
    "\n",
    "#### Theming notebooks\n",
    "https://github.com/transcranial/jupyter-themer\n",
    "\n",
    "#### Table style sheets\n",
    "https://www.linkedin.com/pulse/pandas-table-style-sheets-jupyter-notebooks-dale-smith\n",
    "https://github.com/jupyter/notebook/issues/1182\n",
    "\n",
    "http://stackoverflow.com/questions/23725638/in-ipython-notebook-cant-hide-table-borders-as-usual\n",
    "\n",
    "\n",
    "#### D3 (show as is for now/later adapt)\n",
    "https://github.com/stitchfix/d3-jupyter-tutorial\n",
    "\n",
    "#### Mining the social web - available as notebooks\n",
    "https://nbviewer.jupyter.org/github/ptwobrussell/Mining-the-Social-Web-2nd-Edition/tree/master/ipynb/\n",
    "\n",
    "\n",
    "<!-- <script src=\"https://unpkg.com/jupyter-js-widgets@~1.1.2/dist/embed.js\"></script>\n",
    "     <script type=\"application/vnd.jupyter-embedded-widgets\">{}</script> -->"
   ]
  },
  {
   "cell_type": "markdown",
   "metadata": {
    "slideshow": {
     "slide_type": "notes"
    }
   },
   "source": [
    "# Notes: Outline\n",
    "- Introduction: From IPython to Jupyter\n",
    "  - IPython kernel (with magics)\n",
    "  - Jupyter notebook and kernels (diagram)\n",
    "- \"*Classic*\" use\n",
    "  - Data analysis, visualisation, multi-language\n",
    "- The Jupyter Ecosystem:\n",
    "  - The \"inner\" ecosystem: nbviewer, nbconvert, tmpnb, binder, jupyterhub, incubating, ...\n",
    "  - The \"outer\" ecosystem: Thebe, Azure, ...\n",
    "- Doing everything else with Jupyter\n",
    "\n",
    "- From IPython to Jupyter\n",
    "  - IPython\n",
    "      - magics, notebook\n",
    "  - Jupyter (diagram)\n",
    "  - Show IPython+magics(langs), Jupyter + kernels(IPython,bash,...)\n",
    "  - Show Python data anal+graphics\n",
    "  - Show R + graphics\n",
    "  - Show bash_kernel + graphics\n",
    "      \n",
    "- Jupyter Ecosystem\n",
    "- Doing lots of stuff with Jupyter\n",
    "- Doing everything else with Jupyter\n",
    "\n",
    "\n",
    "Very rough draft of Jupyter presn (scenarii, search ideas, look at “awesome-python++”)\n",
    "What is Jupyter and why?\n",
    "Getting started\t\n",
    "What it’s used for\n",
    "Many uses, extensions, eco-system\n",
    "What Else?\n",
    "My favourites; bash_kernel, RISE, nbgrader, jupyter-hub\n",
    "HTML? JavaScript? BrythonMagic? Polymer? NodeJS?\n",
    "End? Alternatives? (Zeppelin, SMC, MathLab)"
   ]
  },
  {
   "cell_type": "markdown",
   "metadata": {
    "collapsed": true,
    "slideshow": {
     "slide_type": "notes"
    }
   },
   "source": [
    "From:\n",
    "    https://ep2016.europython.eu/conference/talks/jupyter-for-everything-else\n",
    "    \n",
    "# JUPYTER FOR EVERYTHING ELSE\n",
    "\n",
    "Speaker(s) Mike BRIGHT\n",
    "\n",
    "Sure you can do a chunk of scientific exploration and stuff in Jupyter in your choice of language supplemented with visuals and that’s already awesome !\n",
    "\n",
    "But let’s head off the beaten track a little to look at other uses, especially command-line.\n",
    "\n",
    "We’ll look at some alternate uses of Jupyter …\n",
    "\n",
    "- Write command-line tutorials, cheat sheets in an easy to maintain format.\n",
    "- Perform visualization tasks for command-line tools\n",
    "- Write blog posts\n",
    "- Create interactive presentations (thanks Damian !)\n",
    "- Publish interactive books, articles and blog posts\n",
    "- HTML/js/css experimentation\n",
    "\n",
    "is on Friday 22 July at 10:30\n",
    "EN, Duration 45 minutes (inc. Q&A)\n",
    "TAGs: Visualization, Docker, Jupyter/iPython Notebook, Command-Line, Use Case\n",
    "    \n",
    "CONTACTS EUROPYTHON 2016 TEAM PRIVACY POLICY CODE OF CONDUCT\n",
    "© 2015-2016 EUROPYTHON SOCIETY (EPS) | TRADEMARKS | IMPRINT | CODE OF CONDUCT | PHOTO REFERENCES"
   ]
  },
  {
   "cell_type": "markdown",
   "metadata": {
    "slideshow": {
     "slide_type": "notes"
    }
   },
   "source": [
    "## Things to investigate, references ...\n",
    "\n",
    "Ask on Google Groups about HTML/CSS/JS limits and workarounds, e.g. IFrames for HTML ...\n",
    "- [Use of HTML in Jupyter](https://www.google.fr/webhp?sourceid=chrome-instant&ion=1&espv=2&ie=UTF-8#q=using%20html%20in%20jupyter%20ipython)\n",
    "- [Use of CSS in Jupyter](https://www.google.fr/webhp?sourceid=chrome-instant&ion=1&espv=2&ie=UTF-8#q=using+css+in+jupyter+ipython)\n",
    "- [Use of JS in Jupyter](https://www.google.fr/webhp?sourceid=chrome-instant&ion=1&espv=2&ie=UTF-8#q=using%20javascript%20in%20jupyter%20ipython)\n",
    "\n",
    "- [BashPlotlib ??!!](https://github.com/glamp/bashplotlib)\n",
    "- [DataFrame as table](http://stackoverflow.com/questions/26873127/print-dataframe-as-table-in-ipython-notebook)\n",
    "\n"
   ]
  },
  {
   "cell_type": "markdown",
   "metadata": {
    "slideshow": {
     "slide_type": "slide"
    }
   },
   "source": [
    "<center> <h1>Jupyter for Everything Else</h1>\n",
    "<h3>Michael Bright, <a href=\"https://ep2016.europython.eu/conference/talks/jupyter-for-everything-else\">EuroPython 2016 - Bilbao, 22 July</a>.</h3>\n",
    "<img src=\"images/DEMO_OpenStack_API_D3.png\" width=350 />\n",
    "<br/>\n",
    "<font size=-1>\n",
    "<i class=\"fa-github fa-2x fa\"> [mjbright](https://github.com/mjbright)</i>&nbsp;&nbsp;\n",
    "<i class=\"fa-twitter fa-2x fa\"> [@mjbright](http://twitter.com/mjbright)</i>&nbsp;&nbsp;\n",
    "<i class=\"fa-envelope fa-2x fa\"> mjbrightfr AT gmail</i>&nbsp;&nbsp;\n",
    "<i class=\"fa-user fa-2x fa\"> [mjbright.github.io](http://mjbright.github.io)</i>\n",
    "</font>\n",
    "</center>"
   ]
  },
  {
   "cell_type": "markdown",
   "metadata": {
    "slideshow": {
     "slide_type": "notes"
    }
   },
   "source": [
    "# Transcript: Title slide\n",
    "\n",
    "Good Morning, I'd like to talk to you today about Jupyter.\n",
    "In particular about some things I've been experimenting with \"Jupyter for Everything Else\".\n",
    "But that's a quite arrogant title given the enormous extent of the Jupyter ecosystem.\n",
    "Nevertheless, I hope to bring some interesting ideas, hopefully everyone will be able to take away something from my talk.\n",
    "\n",
    "\n"
   ]
  },
  {
   "cell_type": "markdown",
   "metadata": {
    "slideshow": {
     "slide_type": "slide"
    }
   },
   "source": [
    "<center> <h1>About Me</h1>\n",
    "<h3>Solution Architect working at Hewlett-Packard Enterprise, Grenoble, France</h3>\n",
    "Working in the EMEA OpenNFV lab.\n",
    "</center>\n",
    "Interests:\n",
    "- Docker, Docker, Docker, Jupyter, Python, OpenStack\n",
    "- Run a local Python User Group in Grenoble\n",
    "- From the UK, married to a Chilean, living in France for 24 years\n",
    "- Argentinian Tango, Salsa, ...\n",
    "\n",
    "TODO: add images ... Grenoble mountains, unicycle, Argentinian Tango, UK, NFV? SDN? Python UserGroup, Docker!!!, Jupyter, Linux, OStack"
   ]
  },
  {
   "cell_type": "markdown",
   "metadata": {
    "slideshow": {
     "slide_type": "notes"
    }
   },
   "source": [
    "# Transcript: Self\n",
    "\n",
    "A little bit about myself, I work for HPE as a Solution Architect in the NFV program - that's basically Cloud for Telecom.\n",
    "We use OpenStack on a daily basis for running customer/partner PoCs.\n",
    "\n",
    "I'm really keen on Docker, Jupyter and I run a local Python User Group in Grenoble.\n",
    "\n",
    "I'm from the UK but living in Grenoble, France for 24 years.  My wife is Chilean.\n",
    "\n",
    "Keen on Argentinian Tango.\n",
    "\n"
   ]
  },
  {
   "cell_type": "markdown",
   "metadata": {
    "slideshow": {
     "slide_type": "notes"
    }
   },
   "source": [
    "# Notes: TO ADD\n",
    "\n",
    "- embedded web, video, audio\n",
    "- math, latex, sympy\n",
    "- DataScience solutions\n",
    "- EVOLUTIONS + JupyterLab\n",
    "- BLOGGING examples\n",
    "- WORK in OpenStack monitoring examples\n",
    "  - details steps - all Jupyter, then abstract/libraries\n",
    "  - nbconvert: execute, to html\n",
    "  - limitations: basic template, no SVG, no animated CSS (no pie charts)\n",
    "  - next: need summary, need multi-platform summary"
   ]
  },
  {
   "cell_type": "markdown",
   "metadata": {
    "slideshow": {
     "slide_type": "slide"
    }
   },
   "source": [
    "<center> <h1> Outline </h1> </center>\n",
    "- Introduction: From IPython to Jupyter\n",
    "- The Jupyter Project & Ecosystem:\n",
    "  - Kernels, Widgets, Extensions, Tools\n",
    "  - Incubating projects\n",
    "  - External: Thebe, Hosting, Binder ...\n",
    "- Jupyter for Everything Else\n",
    "  - Blog, Present, Web, Command-line, Status reports"
   ]
  },
  {
   "cell_type": "markdown",
   "metadata": {
    "slideshow": {
     "slide_type": "notes"
    }
   },
   "source": [
    "# Transcript: Outline\n",
    "\n",
    "We'll look at IPython and how this relates to the Jupyter project.\n",
    "The Ipython interpreter is how all this started, which then evolved into a multi-language platform.\n",
    "Then the project split into the IPython kernel and the language-agnostic Jupyter notebook and console.\n",
    "\n",
    "We'll look at the Jupyter eco-system including the language kernels, of which IPython is just one example, widgets, and extensions to the notebook.\n",
    "\n",
    "We'll look at the Incubating Projects aswell as some of the interesting external projects around Jupyter.\n",
    "\n",
    "Then I'll show you some of the things I've been looking at, some unusual uses of Jupyter for \"live blogging\", presentations, web, command-line tutorials and automated status reports generated using the notebook.\n"
   ]
  },
  {
   "cell_type": "markdown",
   "metadata": {
    "slideshow": {
     "slide_type": "notes"
    }
   },
   "source": [
    "# NOTES: OUTLINE\n",
    "- Intro: IPython to Jupyter\n",
    "  - What are Jupyter & IPython ?\n",
    "      - IPython beginnings\n",
    "          - The console and notebook\n",
    "          - The messaging protocol and kernels\n",
    "      - Jupyter Project\n",
    "       \n",
    "- \"*Classic*\" use (Python/R/Julia/..)\n",
    "  - What is Jupyter being used for?\n",
    "  - Data analysis, scientific investigation, visualisation\n",
    " \n",
    "- The Jupyter Project & Ecosystem:\n",
    "  - Project: kernels, widgets, extensions, tools, incubating\n",
    "             nb*, tmpnb, jupyterhub, \n",
    "  - External: Thebe, Hosting, Binder ...\n",
    "    - Static hosting: nbviewer, github, IPython Gallery\n",
    "    - Dynamic hosting: Binder, Azure, GCE, AWS?\n",
    "  - Related Projects\n",
    "    \n",
    "- Jupyter for Everything Else"
   ]
  },
  {
   "cell_type": "markdown",
   "metadata": {
    "slideshow": {
     "slide_type": "notes"
    }
   },
   "source": [
    "# NOTES: \n",
    "#### Intro: IPython to Jupyter\n",
    "\n",
    "- How IPython started: A REPL console\n",
    "- IPython evolution / architecture\n",
    "  - magics\n",
    "- zeromq protocol enabling\n",
    "  - IPyParallel\n",
    "  - multiple front-ends\n",
    "  - different language kernels\n",
    "- \"The Big Split\"\n",
    "  - Project Jupyter: the language independent notebook\n",
    "\n",
    "\n",
    "\n",
    "- What is Jupyter / IPython ?\n",
    "    - A bit of history\n",
    "    - Show basic REPL (as secn 2 of user guide)\n",
    "    - Zeromq: allows parallel and multiple front-ends\n",
    "    - Show use of protocol for parallel, but also multiple front-ends\n",
    "    - Now multiple kernels\n",
    "      - Also magics (for IPython at least)\n",
    "    - Notebooks (show screenshot)\n",
    "- How is it architected\n",
    "  - image(s) with magics also"
   ]
  },
  {
   "cell_type": "markdown",
   "metadata": {
    "slideshow": {
     "slide_type": "skip"
    }
   },
   "source": [
    "<center> <h1> Intro: IPython to Jupyter </h1> </center>\n",
    "\n",
    "- How IPython started: A REPL console\n",
    "- Multiple kernel backends\n",
    "- Jupyter: \"The Big Split\""
   ]
  },
  {
   "cell_type": "markdown",
   "metadata": {
    "slideshow": {
     "slide_type": "skip"
    }
   },
   "source": [
    "- evolutions\n",
    "  - messaging protocol enabling\n",
    "  - the notebook\n",
    "  - \"The Big Split\": Jupyter"
   ]
  },
  {
   "cell_type": "markdown",
   "metadata": {
    "slideshow": {
     "slide_type": "subslide"
    }
   },
   "source": [
    "<table class=\"noborder\">\n",
    "<tbody>\n",
    "<tr><td><a href=\"http://ipython.org/\"><img src=\"http://www.i-programmer.info/images/stories/News/2013/Aug/A/ipython.jpg\" border=0 height690 width=60/></a></td><td>\n",
    "<center> <h1> IPython - the Console </h1> </center> </td></tr>\n",
    "</tbody>\n",
    "</table>\n",
    "\n",
    "<center>\"*an afternoon hack*\" (Nov 2001) by Fernando Perez<br/><br/>\n",
    "<!-- Input & Output cells, with magics, retrospection -->\n",
    "</center> \n",
    "\n",
    "A tool to help in the exploration process\n",
    "- Individual exploration\n",
    "- Collaborative work\n",
    "- Parallel Production Runs\n",
    "- Publication odf **reproducible** results\n",
    "- Education\n",
    "- Repeat\n"
   ]
  },
  {
   "cell_type": "markdown",
   "metadata": {
    "slideshow": {
     "slide_type": "notes"
    }
   },
   "source": [
    "# Transcript: IPython Console - for exploration\n",
    "\n",
    "The IPython interpreter was created by Fernando Perez, then a PhD student, in an afternoon hack as a way of facilitating the\n",
    "scientific exploration process.\n",
    "\n",
    "That process typically involves\n",
    "- Performing some individual exploratory work (at that time with Matlab - a proprietary tool)\n",
    "- Perform some collaborative evelopment - swapping scripts with colleagues\n",
    "- Parallel production runs (HPC) - rewriting for HPC\n",
    "- Publication - copy/pasting code into a PowerPoint, but want something reproduceable\n",
    "- Education - \n",
    "- Loop\n",
    "\n",
    "He wanted to create a tool in Python which would facilitate this exploration task and the sharing of results as code and data in reproducible fomr.\n",
    "\n"
   ]
  },
  {
   "cell_type": "markdown",
   "metadata": {
    "slideshow": {
     "slide_type": "subslide"
    }
   },
   "source": [
    "<table class=\"noborder\">\n",
    "<tbody>\n",
    "<tr><td><a href=\"http://ipython.org/\"><img src=\"http://www.i-programmer.info/images/stories/News/2013/Aug/A/ipython.jpg\" border=0 height690 width=60/></a></td><td>\n",
    "<center> <h1> IPython - the Console </h1> </center> </td></tr>\n",
    "</tbody>\n",
    "</table>\n",
    "\n",
    "<table style=\"font-size: 120%;\" class=\"noborder\">\n",
    "<tbody>\n",
    "<tr><td width=50%>\n",
    "Initial 0.0.1 version <a href=\"https://gist.github.com/fperez/1579699\"> Gist </a>\n",
    "<ul>\n",
    "<li>REPL in 259 lines\n",
    "</li><li>Input / Output cells\n",
    "</li><li>History\n",
    "</li><li>Plotting\n",
    "</li>\n",
    "</ul>\n",
    "</td><td> <center>\n",
    "    <img src=\"images/IPythonConsole.png\" width=600 />\n",
    "</center> </td></tr>\n",
    "</tbody>\n",
    "</table>\n",
    "\n",
    "</center>"
   ]
  },
  {
   "cell_type": "markdown",
   "metadata": {
    "slideshow": {
     "slide_type": "notes"
    }
   },
   "source": [
    "# Transcript: IPython Console - 259 lines.py\n",
    "\n",
    "So he wrote a Python interpreter in an afternoon, in 259 lines of code.\n",
    "\n",
    "This interpreter provided a REPL, with input and output cells (like Matlab) had a history mechanism and allowed plotting of results.\n",
    "\n"
   ]
  },
  {
   "cell_type": "markdown",
   "metadata": {
    "slideshow": {
     "slide_type": "subslide"
    }
   },
   "source": [
    "<table class=\"noborder\">\n",
    "<tbody>\n",
    "<tr><td><a href=\"http://ipython.org/\"><img src=\"http://www.i-programmer.info/images/stories/News/2013/Aug/A/ipython.jpg\" border=0 height=60 width=60/></a></td><td>\n",
    "<center> <h1> IPython - the Console </h1> </center> </td></tr>\n",
    "</tbody>\n",
    "</table>\n",
    "\n",
    "<img src=\"images/IPython5_creation.PNG\" width=800 />\n"
   ]
  },
  {
   "cell_type": "markdown",
   "metadata": {
    "slideshow": {
     "slide_type": "notes"
    }
   },
   "source": [
    "# Transcript: IPython 5\n",
    "\n",
    "Today the IPython interpreter, or kernel, still exists and has been extended.\n",
    "IPython 5 was [*announced*](http://blog.jupyter.org/2016/07/08/ipython-5-0-released/) 2 weeks ago.\n",
    "\n",
    "IPython5 integrates the prompt_toolkit a pure Python readline replacement, which works across all platforms.\n",
    "\n",
    "This enables\n",
    "- Syntax highlighting as you type\n",
    "- Real multi-line editing (up and down arrow keys move between lines)\n",
    "- Multi-line paste without breaking indentation or immediately executing code\n",
    "- Better code completion interface (we plan to improve that more)\n",
    "- Optional mouse support\n",
    "\n",
    "Here we can see how Input/Output cells are used and how we can introspect objects.  In this case avar + ? will display the\n",
    "docstring associated with the variable avar (or in this case of it's integer type).\n",
    "\n",
    "The IPython kernel also provides a set of \"magic\" functions which we will see later in the Jupyter notebook."
   ]
  },
  {
   "cell_type": "markdown",
   "metadata": {
    "slideshow": {
     "slide_type": "skip"
    }
   },
   "source": [
    "<table class=\"noborder\">\n",
    "<tbody>\n",
    "<tr><td><a href=\"http://ipython.org/\"><img src=\"http://www.i-programmer.info/images/stories/News/2013/Aug/A/ipython.jpg\" border=0 height=60 width=60/></a></td><td>\n",
    "<center> <h1> IPython - the Console </h1> </center> </td></tr>\n",
    "</tbody>\n",
    "</table>\n",
    "\n",
    "<img src=\"images/IPython5_magics.PNG\" width=1000 />\n"
   ]
  },
  {
   "cell_type": "markdown",
   "metadata": {
    "slideshow": {
     "slide_type": "skip"
    }
   },
   "source": [
    "# Transcript: IPython 5 - magics\n",
    "\n",
    "The IPython kernel also provides a set of \"magic\" functions as shown here by the %lsmagic command.  These commands allow to create aliases, to break out into shell commands, Ruby, Perl, HTML, javascript, SVG as required.\n",
    "\n",
    "Some aliases are predefined such as ls.\n",
    "\n",
    "! allows to invoke a shell command\n",
    "\n",
    "These are features of the IPython kernel"
   ]
  },
  {
   "cell_type": "markdown",
   "metadata": {
    "slideshow": {
     "slide_type": "skip"
    }
   },
   "source": [
    "<center> <h1> The messaging protocol </h1>  \n",
    "<img src=\"images/IPython_Architecture1.png\" width=600 />\n",
    "2010: envisaged to support multi-processing\n",
    "<br/><br/>\n",
    "enabled multiple front-ends for the IPython kernel\n",
    "</center>"
   ]
  },
  {
   "cell_type": "markdown",
   "metadata": {
    "slideshow": {
     "slide_type": "skip"
    }
   },
   "source": [
    "<center> <h1> ... the protocol enables different kernels </h1>  \n",
    "<img src=\"images/IPython_Architecture2.png\" width=600/>\n",
    "<br/>\n",
    "**Note**: persistent kernels, unlike **cell magics**.\n",
    "<br/>\n",
    "<br/>\n",
    "A notebook runs under one kernel\n",
    "</center>"
   ]
  },
  {
   "cell_type": "markdown",
   "metadata": {
    "slideshow": {
     "slide_type": "subslide"
    }
   },
   "source": [
    "<center> <h1> The Jupyter Project </h1>  \n",
    "<img src=\"images/IPython_Architecture2.png\" width=600/>\n",
    "<br/>\n",
    "<br/>\n",
    "A notebook runs under one kernel\n",
    "</center>"
   ]
  },
  {
   "cell_type": "markdown",
   "metadata": {
    "slideshow": {
     "slide_type": "notes"
    }
   },
   "source": [
    "# Transcript: The Jupyter Project\n",
    "\n",
    "Until 2014, everything on this slide was considered to be IPython.\n",
    "A messaging protocol had been devised which allowed to have multiple front-ends to the IPython kernel, and this also allowed to communicate with different language kernels - note: a notebook only runs under one kernel.\n",
    "\n",
    "Also note that the magics we saw are associated with the IPython kernel, other kernels may implement no magics.\n",
    "\n",
    "Since the \"big split\", the language  independent elements such as the notebook become part of the Jupyter project and IPython now represents the \"IPython kernel\", one of many available language kernels.\n",
    "\n",
    "So we now have the *jupyter console*, *jupyter qtconsole* and the *jupyter notebook* each of which is capable of communicating with any of the available language kernels.\n"
   ]
  },
  {
   "cell_type": "markdown",
   "metadata": {
    "slideshow": {
     "slide_type": "skip"
    }
   },
   "source": [
    "<center> <h1> IPython - the QtConsole </h1> \n",
    "<br/><br/>\n",
    "![QtConsole](images/ExampleConsole.png)\n",
    "</center>"
   ]
  },
  {
   "cell_type": "markdown",
   "metadata": {
    "slideshow": {
     "slide_type": "subslide"
    }
   },
   "source": [
    "<center><h1>The (Jupyter) Dashboard & [Notebook](http://localhost:8888/notebooks/Demos/Demo_0_INDEX.ipynb#NOTEBOOK) </h1>\n",
    "Create & share documents of code, equations, visualizations and explanatory text as a **(reproducible) narrative**\n",
    "\n",
    "</center><img class=\"img-responsive\" src=\"images/NotebookRichOutput.png\" width=800 />\n",
    "\n",
    "<!--\n",
    "![Notebook](images/JupyterNotebook.png) \n",
    "The Jupyter Notebook is a web application that allows you to create and share documents that contain live code, equations, visualizations and explanatory text.\n",
    "<br/>Uses include: data cleaning and transformation, numerical simulation, statistical modeling, machine learning and much more.\n",
    "<img class=\"img-responsive\" src=\"http://jupyter.org/assets/jupyterpreview.png\" width=600 />\n",
    "-->\n"
   ]
  },
  {
   "cell_type": "markdown",
   "metadata": {
    "slideshow": {
     "slide_type": "notes"
    }
   },
   "source": [
    "# Transcript: The Jupyter Dashboard & Notebook\n",
    "\n",
    "Now we'll have a look at the Jupyter Dashboard and Notebook browser-based front-end.\n",
    "\n",
    "#### CLICK ON \"Notebook\" link in title, then on \"Dasbboard\" link.\n",
    "\n",
    "We are now looking at the Jupyter dashboard.\n",
    "We see a listing of files and folders, with folders listed first, then notebooks and then other files.\n",
    "Note that historically the notebooks have kept their .ipynb (IPython Notebook) name - they are actually in JSON format.\n",
    "\n",
    "If we click on the Running tab we can see a list of currently running notebooks and their kernels.\n",
    "From here we can shutdown notebooks, though it is generally best to do this cleanly from the notebook itself, saving the file first.\n",
    "\n",
    "There is also a CLusters tab for clusters of IPython kernels if IPyParallel is being used.\n",
    "\n",
    "Moving back to the file tab we see several buttons top right.\n",
    "We can upload a notebook for example (the notebook server may be running remotely).\n",
    "\n",
    "Via the New menu we can edit a new textfile (with syntax highlighting based for the lanugage), open a terminal (except under Windows) or create a new Notebook using one of the available language kernels.\n",
    "\n",
    "By default Jupyter comes with the IPython kernel for Python 2 or 3 installed and other language kernels are to be installed manually.  Here we see some of the kernels installed on my system (not all are working!) such as Prolog, Scheme, Bash, Python3, R and Coconut a functional programming language.\n",
    "\n",
    "We will see that about 50 kernels exist - however, not all kernels are fully functional especially on Windows.\n",
    "\n",
    "Now let's look at some example Notebooks\n",
    "\n",
    "#### GO TO DEMO INDEX\n"
   ]
  },
  {
   "cell_type": "markdown",
   "metadata": {
    "slideshow": {
     "slide_type": "notes"
    }
   },
   "source": [
    "# Transcript: The Notebook\n",
    "\n",
    "Here is an example notebook.\n",
    "\n",
    "** Walk through the notebook (until 1st the interactive plot)**\n",
    "\n",
    "** Emphasize that it is a series of input/output cells.**\n",
    "\n",
    "Input cells can be code or markdown cells.\n",
    "\n",
    "Output cells are the result of executing code cells but may include rich media such as HTML, javascript, graphical plots, images.\n",
    "\n",
    "**-----------**\n",
    "\n",
    "We see top right that this is a Python3 notebook.\n",
    "\n",
    "Note that the first cell is a markdown cell.\n",
    "Double clicking on this cell takes us to the markdown and we can edit this.\n",
    "Pressing shift-ENTER will cause the markdown to be rendered.\n",
    "\n",
    "Below this is a code cell, which can also be executed by pressing shift-ENTER.\n",
    "Note that in this case, the line '%matplotlib inline' is an IPython magic command which tells the kernel to show any matplotlib graphics inline in the notebook rather than in some external window.\n",
    "\n",
    "Let us step through these initial cells.\n",
    "\n",
    "The plot_sin code shows us how we can use the \"interact\" function to allow (IPyWidget) widgets to control the parameters passed to a function, \"plot_sin\" in this case.\n",
    "\n",
    "This shows how we can use interact to control parameters passed to a graphical function.\n",
    "The code calls interact with arguments plot_sin, the function which we want to interact with and parmeters freq and phase.\n",
    "Because we provide floating numbers for freq and phase, FLoatingSlider sliders will be used to control freq and phase.\n",
    "\n",
    "Every time we change freq, phase values the plot is redrawn taking into account the changes.\n",
    "\n",
    "We can see that thr notebook allows us to mix markdown, code and generated graphics (and even rick media: audio/video) to create a narrative.\n",
    "\n",
    "#### Stop there - close the notebook\n"
   ]
  },
  {
   "cell_type": "markdown",
   "metadata": {
    "slideshow": {
     "slide_type": "notes"
    }
   },
   "source": [
    "# Transcript: R Notebook\n",
    "\n",
    "Now let's look at a notebook using another language kernel.\n",
    "\n",
    "We will use the R kernel.\n",
    "\n",
    "#### GO TO DEMO INDEX, click on MOOC R\n",
    "\n",
    "This is a notebook I created when following a Coursera Data Analysis course.\n",
    "I created this notebook, using R, to document the quizzes and assignments I performed in a way which allows me to document my experiments and rerun the code\n",
    "\n",
    "Notice top-right that we are now running the R kerel.\n",
    "\n",
    "Notice how this notebook includes the output of previous runs of the notebook.\n",
    "We can clear those outputs or we can replace them by running all cells in the notebook again.\n",
    "\n",
    "I will first run the code cell to create some useful R functions.\n",
    "I will then follow the link to PA1 and start executing cells.\n",
    "We will read in some data (128M already downloaded) using R functions and then perform operations on that data and create a histogram.\n",
    "\n",
    "#### Stop there - close the notebook\n"
   ]
  },
  {
   "cell_type": "markdown",
   "metadata": {
    "slideshow": {
     "slide_type": "notes"
    }
   },
   "source": [
    "# What is Jupyter (& IPython) ?\n",
    "\n",
    "The Jupyter [notebook interface](http://localhost:8870/tree) consists of\n",
    "- a Dashboard (File explorer, Running, Clusters)\n",
    "- a File editor\n",
    "- a Terminal\n",
    "- The notebook itself running the selected kernel, comprised of\n",
    "  - input cells: code or markdown\n",
    " ** ability to mix code, markdown and rich media allows to create a narrative **\n",
    "  - output cells: can include plots, graphics\n",
    "\n",
    "Notebooks are stored in the JSON-based .ipynb file format"
   ]
  },
  {
   "cell_type": "markdown",
   "metadata": {
    "slideshow": {
     "slide_type": "skip"
    }
   },
   "source": [
    "<table class=\"noborder\">\n",
    "<tbody>\n",
    "<tr><td><a href=\"http://jupyter.org/\"><img src=\"https://encrypted-tbn3.gstatic.com/images?q=tbn:ANd9GcSnQKaJ94EsgiFwt6RrjGxvYV_LbJKAW0KZkpM9TUuk4F28wLTbWQ\" border=0 height=90 width=90/></a></td><td>\n",
    "<center><h1>The Jupyter Project</h1></center>\n",
    "</td></tr></tbody>\n",
    "</table>\n",
    "The Jupyter Project *\"Big Split\"* was announced at SciPy in July 2014.\n",
    "<br/><br/>\n",
    "2015: release of **Jupyter 1.0** and **IPython 4.0**.\n",
    "<table class=\"noborder\"><tr><td>\n",
    "Repackaging of monolithic IPython code:\n",
    "<br/><br/>\n",
    "- IPython - one of many kernels\n",
    "<br/><br/>\n",
    "- Jupyter - notebook front-end\n",
    "</td><td>\n",
    "<a href=\"http://www.splung.com/cosmology/images/galileonotebook.gif\"><img src=\"images/Gallileo_Jupiter_Moons_Notebook.png\" border=0 height=100 width=500/>Gallileos' notebooks</a></td></tr></table>"
   ]
  },
  {
   "cell_type": "markdown",
   "metadata": {
    "slideshow": {
     "slide_type": "subslide"
    }
   },
   "source": [
    "<center> <h1> Jupyter: Public Notebooks </h1> </center>\n",
    "\n",
    "Jupyter notebooks are used in many\n",
    "- scientific (physics, chemistry, biology, genomics, data analysis)\n",
    "- and non-scientific (finance) domains\n",
    "\n",
    "| Site        | URL           | Info  |\n",
    "|:-------------:|:-------------|:-----|\n",
    "| nbviewer      | [https://nbviewer.org]](https://nbviewer.org) | submit your url, browse by theme |\n",
    "| github      | [https://github.com](https://github.com) |  *> 200k notebooks* [[*Announcement - May '15*]](http://blog.jupyter.org/2015/05/07/rendering-notebooks-on-github/) |\n",
    "| IPython gallery | [A-gallery-of-interesting-IPython-Notebooks](https://github.com/ipython/ipython/wiki/A-gallery-of-interesting-IPython-Notebooks)      | many notebooks organized by domain |\n",
    "| Notebook Gallery | [**nb.binap.net [http://nb.bianp.net/]**      |    view submitted notebooks by '*most viewed*' or '*data*' |\n"
   ]
  },
  {
   "cell_type": "markdown",
   "metadata": {
    "slideshow": {
     "slide_type": "notes"
    }
   },
   "source": [
    "# Transcript: Jupyter: Public Notebooks\n",
    "\n",
    "Jupyter notebooks are used across many scientific, non-scientific domains.\n",
    "\n",
    "There are examples of notebooks for famous/infamous **discoveries**:\n",
    "- [LIGO proof of existence of *Gravitational Waves* as theorized by Einstein](https://www.ligo.caltech.edu/news/ligo20160211) [**notebook tutorial**](https://losc.ligo.org/s/events/GW150914/GW150914_tutorial.html)\n",
    "- [Panama Papers/Neo4J](https://blog.ouseful.info/2016/06/13/querying-panama-papers-neo4j-database-container-from-a-linked-jupyter-notebook-container/)\n",
    "\n",
    "But there are many 100's of thousands of public available notebooks covering many domains.\n",
    "\n",
    "- nbviewer.org provides a \"A simple way to share Jupyter Notebooks\" from a URL.\n",
    "   - The site can be browsed for notebooks by theme\n",
    "   \n",
    "- github itself is capable of rendering the json-based notebook format since May 2015.\n",
    "   - There are > 200k notebooks on github alone\n",
    "\n",
    "- The IPython Gallery on github.com/ipython links to 100's of showcased notebooks\n",
    "   - for scientific study, tutorials, books organized by domain\n",
    "\n",
    "- The Notebook Gallery is another site where you can submit or browse notebooks, by '*most viewed*' or '*recent*'\n",
    "   - particularly nice as it shows screenshots of each notebook in an easy to browse fashion\n",
    "   - also interesting to see how many diverse notebooks are added on a daily basis"
   ]
  },
  {
   "cell_type": "markdown",
   "metadata": {
    "slideshow": {
     "slide_type": "subslide"
    }
   },
   "source": [
    "<center> <h1> Jupyter: Running notebooks </h1> </center>\n",
    "- Native OS Python distribution + Pip, or Anaconda\n",
    "- JupyterHub, multi-user server\n",
    "- Under Docker [e.g. *docker-stacks* images]\n",
    "- Integrated into data science Cloud Hosting or plain IaaS:\n",
    "  - [Azure ML Studio](https://blogs.technet.microsoft.com/machinelearning/2015/07/24/introducing-jupyter-notebooks-in-azure-ml-studio/)\n",
    "  - [Google Cloud DataLab Beta](https://cloud.google.com/datalab/)\n",
    "  - [IBM Data Scientist Workbench](https://my.datascientistworkbench.com/)\n",
    "- Cloud hosted (ephemereal)\n",
    "  - [**tryjupyter.org**](https://try.jupyter.org/) [uses *docker-demo* image]\n",
    "  - **Binder** (https://mybinder.org), an example [github repo](https://github.com/mjbright/binder_jupyter_notebook)"
   ]
  },
  {
   "cell_type": "markdown",
   "metadata": {
    "collapsed": true,
    "slideshow": {
     "slide_type": "notes"
    }
   },
   "source": [
    "# Transcript: Running Jupyter\n",
    "\n",
    "You can of course install jupyter using the pip of your OS native Python distribution, or download the Anaconda Python distribution\n",
    "\n",
    "If you want to run labs for a group of users then JupyterHub will allow you to do this.\n",
    "\n",
    "There are also many Docker images, including the semi-official *docker-stacks* and *docker-demo* images with pre-installed language environments.\n",
    "Very convenient.\n",
    "\n",
    "Several Cloud Hosting companies are providing '*data science*' platforms which integrate Jupyter.\n",
    "Azures' Machine Learning Studio, Google Cloud's DataLab and IBM DataScientist Workbench.\n",
    "\n",
    "Of course you can just run a VM on any IaaS infrastructure such as Amazon EC2 (or docker image on ECS).\n",
    "- [AWS EC2](http://efavdb.com/deep-learning-with-jupyter-on-aws/) [Iaas]\n",
    "Stanford class, CS231n: Convolutional Neural Networksfor Visual Recognition provides such a VM image (AMI) with all course depencies all pre-installed.\n",
    "\n",
    "**Ephemereal**\n",
    "But there are also a set of ephemereal hosting sites which will launch a container instance of a Jupyter server on demand.\n",
    "\n",
    "- tryjupyter.org, hosted by Rackspace will launch the *docker-demo* image with several language kernels and sample notebooks\n",
    "- mybinder.org, will create a docker image from your github repo, from which anyone can launch a jupyter instance\n",
    "\n"
   ]
  },
  {
   "cell_type": "markdown",
   "metadata": {
    "slideshow": {
     "slide_type": "subslide"
    }
   },
   "source": [
    "<center><h1>Jupyter & Azure ML Studio</h1></center>\n",
    "<table class=\"noborder\"><tbody>\n",
    "<tr><td width=\"25%\">Jupyter integration in\n",
    "<a href=\"https://blogs.technet.microsoft.com/machinelearning/2015/07/24/introducing-jupyter-notebooks-in-azure-ml-studio/\"> Azure ML Studio </a><br/><br/><br/>\n",
    "- R\n",
    "<br/><br/>\n",
    "- Python\n",
    "</td><td><img src=\"https://msdnshared.blob.core.windows.net/media/2016/03/032916_2008_JupyterNote1.png\" border=0 height=900 width=900/></td></tr></tbody>\n",
    "</table>"
   ]
  },
  {
   "cell_type": "markdown",
   "metadata": {
    "collapsed": true,
    "slideshow": {
     "slide_type": "notes"
    }
   },
   "source": [
    "# Transcript: Azure ML Studio\n",
    "\n",
    "The Azure Machine Learning platform integrated Jupyter notebooks for Python in 2015 and this year integrated the R kernel.\n",
    "The environment is limited to working on Azure datasets *for the moment* but Microsoft have ambitious plans for the platform.\n"
   ]
  },
  {
   "cell_type": "markdown",
   "metadata": {
    "slideshow": {
     "slide_type": "subslide"
    }
   },
   "source": [
    "<center><h1>try.jupyter.org</h1></center>\n",
    "<img src=\"images/TryJupyter.png\" border=0 height=900 width=900/>"
   ]
  },
  {
   "cell_type": "markdown",
   "metadata": {
    "collapsed": true,
    "slideshow": {
     "slide_type": "notes"
    }
   },
   "source": [
    "# Transcript: try.jupyter.org\n",
    "\n",
    "Here we can see that the try.jupyter.org site provides a temporary notebook server with a selection of notebooks/kernels for several interesting languages.\n",
    "\n"
   ]
  },
  {
   "cell_type": "markdown",
   "metadata": {
    "slideshow": {
     "slide_type": "skip"
    }
   },
   "source": [
    "<center><h1>Jupyter & Google Cloud DataLab</h1></center>\n",
    "<table class=\"noborder\"><tbody>\n",
    "<tr><td width=\"25%\">Jupyter integration in\n",
    "<a href=\"https://cloud.google.com/datalab/\"> Google Cloud DataLab [*Beta*] </a><br/><br/><br/>\n",
    "<br/><br/>\n",
    "- Python\n",
    "<br/><br/>\n",
    "- SQL\n",
    "<br/><br/>\n",
    "- js\n",
    "</td><td>\n",
    "<!-- to lighten notebook\n",
    "    <img src=\"https://cloud.google.com/datalab/images/nb-list.png\" border=0 height=900 width=900/>\n",
    " --> \n",
    "</td></tr></tbody>\n",
    "</table>"
   ]
  },
  {
   "cell_type": "markdown",
   "metadata": {
    "slideshow": {
     "slide_type": "skip"
    }
   },
   "source": [
    "<center><h1>Jupyter & IBM Data Scientist Workbench</h1></center>\n",
    "<table class=\"noborder\"><tbody>\n",
    "<tr><td width=\"25%\">Jupyter integration in\n",
    "<a href=\"https://my.datascientistworkbench.com/\"> Data Scientist Workbench </a><br/><br/>\n",
    "</td><td>\n",
    "<!-- to lighten notebook\n",
    "<img src=\"images/IBM_DSWB_Jupyter.PNG\" border=0 height=900 width=900/>\n",
    "-->\n",
    "</td></tr></tbody>\n",
    "</table>"
   ]
  },
  {
   "cell_type": "markdown",
   "metadata": {
    "slideshow": {
     "slide_type": "skip"
    }
   },
   "source": [
    "<center><h1>Jupyter & AWS EC2 [IaaS]</h1></center>\n",
    "<a href=\"http://efavdb.com/deep-learning-with-jupyter-on-aws\">Stanford CS231n: Convolutional Neural Networks for Visual Recognition</a>\n",
    "\n",
    "<table class=\"noborder\"><tbody>\n",
    "<tr><td>\n",
    "<!-- to lighten notebook\n",
    "<img src=\"http://efavdb.com/wp-content/uploads/2016/03/run-00-classification-ipynb.png\" border=0 height=900 width=900/>\n",
    "-->\n",
    "</td></tr></tbody>\n",
    "</table>\n"
   ]
  },
  {
   "cell_type": "markdown",
   "metadata": {
    "slideshow": {
     "slide_type": "notes"
    }
   },
   "source": [
    "# NOTES: Installing Jupyter\n",
    "\n",
    "For a native installation\n",
    "- Recommended: install Jupyter using the Anaconda distribution [Continuum Analytics]\n",
    "<br/>\n",
    "This provides the IPython kernel only.\n",
    "<br/>\n",
    "- or pip install jupyter\n",
    "<br/>\n",
    "<br/>\n",
    "You can then customize your config and install\n",
    "  - Kernels for other languages/environments, e.g. Anaconda's R-Essentials package\n",
    "  - Extension widgets\n",
    "  - Notebooks !!\n",
    "\n",
    "Or\n",
    "- Alternatively, several docker images are available on DockerHub (e.g. [jupyter/demo](https://hub.docker.com/r/jupyter/demo/))\n",
    "- or you can try out [try.jupyter.org](https://try.jupyter.org/)"
   ]
  },
  {
   "cell_type": "markdown",
   "metadata": {
    "slideshow": {
     "slide_type": "slide"
    }
   },
   "source": [
    "<center>\n",
    "    <h1> Kernels, Widgets & Extensions </h1>\n",
    "</center>\n",
    "\n",
    "<center>\n",
    "<img src=\"images/notebook_components.png\" />\n",
    "</center>\n"
   ]
  },
  {
   "cell_type": "markdown",
   "metadata": {
    "collapsed": true,
    "slideshow": {
     "slide_type": "notes"
    }
   },
   "source": [
    "# Transcript: Kernels, Widgets, Extensions\n",
    "\n",
    "The Jupyter project provides and enables others to provide kernels (language environments), graphical widgets (allowing to interact with code) and extensions (providing new features).\n",
    "\n",
    "We will look briefly at each of these aspects"
   ]
  },
  {
   "cell_type": "markdown",
   "metadata": {
    "slideshow": {
     "slide_type": "subslide"
    }
   },
   "source": [
    "<center>\n",
    "<h1>~ 50 Kernels</h1>\n",
    "Kernels are execution environments - typically a language\n",
    "[[Kernels Page]](https://github.com/ipython/ipython/wiki/IPython-kernels-for-other-languages)\n",
    "</center>\n",
    "\n",
    "<table class=\"noborder\">\n",
    "<tr>\n",
    "<td style=\"color:blue\">**IJulia** </td><td style=\"color:blue\"> **IRKernel** </td><td style=\"color:blue\"> **IPython** </td><td style=\"color:green\"> IRuby </td><td> IGo</td>\n",
    "</tr><tr>\n",
    "<td>IScilab </td><td> IMatlab </td><td> Hy </td><td> Clojure </td><td style=\"color:violet\"> **Bash** </td>\n",
    "</tr><tr>\n",
    "<td> Lua</td><td> Mochi </td><td> IErlang </td><td> **Spark** </td><td style=\"color:violet\"> **MetaKernel**</td>\n",
    "</tr><tr>\n",
    "<td> IVisual VP </td><td> Brainfuck </td><td> Brython </td><td>IOCaml </td><td style=\"color:violet\"> **MetaKernel_Bash**</td>\n",
    "</tr><tr>\n",
    "<td>IScala </td><td> IMathics </td><td> IAldor </td><td> Calico Pro </td><td> Calysto Prolog</td>\n",
    "</tr><tr>\n",
    "<td>IForth </td><td style=\"color:green\"> **IPerl** </td><td style=\"color:green\"> **IPerl6** </td><td> IPHP </td><td> IOctave</td>\n",
    "</tr><tr>\n",
    "<td>KDB+/Q Ker </td><td> ICryptol </td><td style=\"color:green\"> **C++ (cling)** </td><td style=\"color:green\"> **Xonsh** </td><td> IJavascript </td>\n",
    "</tr><tr>\n",
    "<td>cl-jupyter </td><td> IHaskell </td><td> IElixir </td><td> Java 9 </td><td> Calysto LC</td>\n",
    "</tr><tr>\n",
    "<td>Redis </td><td> jove </td><td>Prolog </td><td> IFSharp </td><td>Calysto Scheme</td>\n",
    "</tr>\n",
    "</table>\n"
   ]
  },
  {
   "cell_type": "markdown",
   "metadata": {
    "collapsed": true,
    "slideshow": {
     "slide_type": "notes"
    }
   },
   "source": [
    "# Transcript: Kernels\n",
    "\n",
    "There are currently about 50 kernels available for the Jupyter project, but YMMV.  It can be tricky to install, especially on Windows.\n"
   ]
  },
  {
   "cell_type": "markdown",
   "metadata": {
    "slideshow": {
     "slide_type": "subslide"
    }
   },
   "source": [
    "<center><h1>Widgets</h1>\n",
    "Widgets are eventful python objects with a representation in the browser. [[documentation]](https://ipywidgets.readthedocs.io/en/latest/examples/Widget%20Basics.html#What-are-widgets?)\n",
    "</center>\n",
    "\n",
    "<table class=\"noborder\"><tbody>\n",
    "<tr><td>Provided widgets include:\n",
    "<ul>\n",
    "<li>IntSlider, FloatSlider, FloatProgress\n",
    "</li><li>Buttons, Checkboxes, Radio buttons\n",
    "</li>Dropdown menus\n",
    "</ul>\n",
    "</td><td><img src=\"images/interact.png\" border=0 height=300 width=300/></td></tr></tbody>\n",
    "</table>\n"
   ]
  },
  {
   "cell_type": "markdown",
   "metadata": {
    "collapsed": true,
    "slideshow": {
     "slide_type": "notes"
    }
   },
   "source": [
    "# Transcript: Widgets\n",
    "\n",
    "A set of Graphical widgets are provided by the ipywidgets package allowing to interact with Python code.\n",
    "In the future such widgets will be provided to other languages via '*delclarative HTML widgets*'"
   ]
  },
  {
   "cell_type": "markdown",
   "metadata": {
    "slideshow": {
     "slide_type": "subslide"
    }
   },
   "source": [
    "<center><h1>Extensions</h1>\n",
    "<!-- https://carreau.gitbooks.io/jupyter-book/content/notebook-extensions.html -->\n",
    "</center>\n",
    "- Collection [github]: [ipython-contrib/IPython-notebook-extensions](https://github.com/ipython-contrib/IPython-notebook-extensions)\n",
    "- Installed to http://localhost:8888/nbextensions/\n",
    "\n",
    "Many extensions available, including:\n",
    "- [**RISE**](https://github.com/damianavila/RISE) - **these slides are running under Jupyter**\n",
    "- [nbgrader](https://nbgrader.readthedocs.org/en/stable/) - creation/grading of classroom assignments\n",
    "\n",
    "<!-- [plotchecker](https://github.com/jhamrick/plotchecker) - grading of plots\n",
    "- [hide_code](https://pypi.python.org/pypi/hide_code) - hide code cells\n",
    "- [clicker](https://athena.brynmawr.edu/jupyter/hub/dblank/public//Activity%20Magic.ipynb) - anonymous polls\n",
    "-->\n",
    "\n",
    "Generally installable via pip or from github repo"
   ]
  },
  {
   "cell_type": "markdown",
   "metadata": {
    "collapsed": true,
    "slideshow": {
     "slide_type": "notes"
    }
   },
   "source": [
    "# Transcript: Extensions\n",
    "\n",
    "There exists many notebook extensions, including the '*notebook-extensions*' package.\n",
    "\n",
    "Some other extensions of note are\n",
    "- RISE: which allows to use the notebook to run a Reveal.js slide show - this is what I'm using now\n",
    "- nbgrader: this extension (**next slide**) allows to create graded assignments in the notebook, typically used in a classroom environment using the JupyterHub multi-user server.\n",
    "\n",
    "There are generally easy to install directly via pip, or from their github repo."
   ]
  },
  {
   "cell_type": "markdown",
   "metadata": {
    "slideshow": {
     "slide_type": "subslide"
    }
   },
   "source": [
    "<center><h1>nbgrader</h1>\n",
    "\n",
    "<img src=\"images/nbgrader_creating_assignment.gif\" />"
   ]
  },
  {
   "cell_type": "markdown",
   "metadata": {
    "slideshow": {
     "slide_type": "notes"
    }
   },
   "source": [
    "# Transcript: nbgrader Extension\n",
    "\n",
    "Here we can see the nbgrader extension in action.\n",
    "\n",
    "When creating the assignment we designate cell as\n",
    "- \"autograded answer\" : where a student will enter their answer to be submitted)\n",
    "- \"autograded tests\"  : with assertions to auto-grade the students' answer\n",
    "- \"manually graded\"\n"
   ]
  },
  {
   "cell_type": "markdown",
   "metadata": {
    "slideshow": {
     "slide_type": "slide"
    }
   },
   "source": [
    "<center>\n",
    "    <h1> The Ecosystem & Future Projects </h1>\n",
    "</center>"
   ]
  },
  {
   "cell_type": "markdown",
   "metadata": {
    "slideshow": {
     "slide_type": "notes"
    }
   },
   "source": [
    "# NOTES: Jupyter Incubator Projects\n",
    "(https://github.com/jupyter-incubator)\n",
    "\n",
    "<table class=\"noborder\">\n",
    "<tr><td><b> sparkmagic</b></td><td>\n",
    "Jupyter magics and kernels for working with remote Spark clusters\n",
    "</td></tr><tr><td><b> dashboards_setup</b></td><td>\n",
    "Recipes for setting up components related to the incubating dashboards effort\n",
    "</td></tr><tr><td><b> declarativewidgets</b></td><td>\n",
    "Jupyter Declarative Widget Extension\n",
    "</td></tr><tr><td><b> dashboards_server</b></td><td>\n",
    "Server that runs and renders Jupyter notebooks as interactive dashboards\n",
    "</td></tr><tr><td><b> dashboards</b></td><td>\n",
    "Jupyter Dynamic Dashboards from Notebooks\n",
    "</td></tr><tr><td><b> dashboards_bundlers</b></td><td>cv\n",
    "Converts a notebook to a dashboard and deploys it / downloads it\n",
    "</td></tr><tr><td><b> contentmanagement</b></td><td>\n",
    "Jupyter Content Management Extensions\n",
    "</td></tr><tr><td><b> showcase</b></td><td>\n",
    "A spot to try demos of one or more incubating Jupyter projects in Binder\n",
    "</td></tr><tr><td><b> kernel_gateway_bundlers</b></td><td>\n",
    "Converts a notebook to a kernel gateway microservice bundle for download\n",
    "</td></tr><tr><td><b> traittypes</b></td><td>\n",
    "Traitlets types for NumPy, SciPy and friends\n",
    "</td></tr><tr><td><b> proposals</b></td><td>\n",
    "Proposals for new Jupyter subprojects to enter into incubation\n",
    "</td></tr>\n",
    "</table>"
   ]
  },
  {
   "cell_type": "markdown",
   "metadata": {
    "slideshow": {
     "slide_type": "subslide"
    }
   },
   "source": [
    "<center><h1>Jupyter Incubator Projects</h1> (https://github.com/jupyter-incubator)\n",
    "[proposals](https://github.com/jupyter-incubator/proposals)</center>\n",
    "\n",
    "<table class=\"noborder\">\n",
    "\n",
    "<!--\n",
    "<tr><td style=\"color:red\"><b> showcase   [link](https://github.com/jupyter-incubator/showcase)</b></td><td>\n",
    "A spot to try demos of one or more incubating Jupyter projects in **Binder** [demos](http://jupyter.cloudet.xyz/)</td>\n",
    "-->\n",
    "\n",
    "<tr><td><b> [sparkmagic](https://github.com/jupyter-incubator/sparkmagic)</b></td><td>\n",
    "Jupyter magics and kernels for working with remote Spark clusters\n",
    "\n",
    "</td></tr><tr><td><b> [declarativewidgets](https://github.com/jupyter-incubator/declarativewidgets)</b></td><td>\n",
    "Declare Widgets in HTML\n",
    "\n",
    "</td></tr><tr><td><b> [dashboards](https://github.com/jupyter-incubator/dashboards)</b></td><td>\n",
    "Create Dashboards from Notebooks\n",
    "\n",
    "</td></tr><tr><td><b> [contentmanagement](https://github.com/jupyter-incubator/contentmanagement)</b></td><td>\n",
    "Extensions for search, notebook modules/[cookbooks](https://github.com/jupyter-incubator/contentmanagement/blob/master/etc/notebooks/cookbooks_demo/use_cookbooks.ipynb), ToC, [bundlers](https://github.com/jupyter-incubator/contentmanagement/blob/master/etc/notebooks/associations_demo/associations_demo.ipynb) [vid](https://www.youtube.com/watch?v=SJiezXPhVv8)\n",
    "\n",
    "</td></tr><tr><td><b> [kernel_gateway](https://github.com/jupyter-incubator/kernel_gateway)</b></td><td>\n",
    "Support different protocols to Jupyter server, e.g. non-nb web clients, u-services, cluster\n",
    "\n",
    "<!--\n",
    "</td></tr><tr><td><b> [traittypes](https://github.com/jupyter-incubator/traittypes)</b></td><td>\n",
    "Traitlet types for NumPy, SciPy and friends\n",
    "-->\n",
    "\n",
    "</td></tr>\n",
    "</table>"
   ]
  },
  {
   "cell_type": "markdown",
   "metadata": {
    "slideshow": {
     "slide_type": "notes"
    }
   },
   "source": [
    "# Transcript: Incubating Projects\n",
    "\n",
    "There are a number of incubating projects, including a showcase site with live demos of the projects.\n",
    "- sparkmagic: We've seen that there exist Spark kernels, but these integrate Spark into the local kernel.  Microsoft initially proposed this project to allow to integrate with an external Spark engine, in Azure for example\n",
    "- declarative widgets: This will allow to declare widgets in HTML which can be used from different language kernels\n",
    "- dashboard: Provides the ability to create different notebook layouts which we will see on the [**next slide**] , rather than the strictly linear layout currently used\n",
    "- content management: allows notebooks to be included in other notebooks as modules, to include table of contents, to bundle notebook and dependent files in a zip file\n",
    "- kernel gateway: will allow different protocols to communicate with the Jupyter server allowing to integrate cell interaction into non-notebook web clients, such as a standard web page, blog post etc"
   ]
  },
  {
   "cell_type": "markdown",
   "metadata": {
    "slideshow": {
     "slide_type": "subslide"
    }
   },
   "source": [
    "<center><h1>Incubator: Jupyter Dashboards</h1> (https://github.com/jupyter-incubator/dashboards) - alternative layouts</center>\n",
    "\n",
    "![dashboards](https://github.com/jupyter-incubator/dashboards/raw/master/etc/dashboards_intro.png)"
   ]
  },
  {
   "cell_type": "markdown",
   "metadata": {
    "slideshow": {
     "slide_type": "notes"
    }
   },
   "source": [
    "# Transcript: Jupyter Dashboards\n",
    "\n",
    "Dashboards allow to create a alternative cell layouts, rather than the standard linear layout\n",
    "\n"
   ]
  },
  {
   "cell_type": "markdown",
   "metadata": {
    "slideshow": {
     "slide_type": "subslide"
    }
   },
   "source": [
    "<center><h1>JupyterLab</h1> (https://github.com/jupyter/jupyterlab/) - the future interface</center>\n",
    "\n",
    "\n",
    "\n",
    "![JupyterLab](https://raw.githubusercontent.com/jupyter/jupyterlab/master/jupyter-plugins-demo.gif)"
   ]
  },
  {
   "cell_type": "markdown",
   "metadata": {
    "slideshow": {
     "slide_type": "notes"
    }
   },
   "source": [
    "# Transcript: Jupyter Lab\n",
    "\n",
    "Jupyter Lab is the upcoming user interface for the Jupyter Notebook, hosts notebook editors, text editors, terminals, file browsers, and other tools in responsive, extensible panels.\n"
   ]
  },
  {
   "cell_type": "markdown",
   "metadata": {
    "slideshow": {
     "slide_type": "skip"
    }
   },
   "source": [
    "<center><h1>External Jupyter Projects</h1></center>\n",
    "<br/>\n",
    "- Publishers\n",
    "  - books, blogs, reports, theses\n",
    "  - executable books, articles\n",
    "    - e.g. [**Thebe** (O'Reilly)](https://github.com/oreillymedia/thebe) is a simplified notebook interface\n",
    "       [Blog Post using Thebe](https://www.oreilly.com/learning/introducing-pandas-objects)\n",
    "    - Nature, Scientific American Magazines\n",
    "\n",
    "- Educators\n",
    "  - tutorials, assignments, presentations, documenting\n",
    "  - MOOCs - online education:\n",
    "    - notebook-based (**Edx/Apache Spark**)\n",
    "    - jupyter-integrated (**F.U.N.**)\n",
    "  - in classrooms using JupyterHub\n",
    "</font>"
   ]
  },
  {
   "cell_type": "markdown",
   "metadata": {
    "slideshow": {
     "slide_type": "slide"
    }
   },
   "source": [
    "<center><h1>External Jupyter Projects</h1></center>\n",
    "<br/>\n",
    "There are many external projects such as *Beaker*, *Hydrogen (ATOM)*, *EIN (Emacs)*, *Rodeo*, *SageMathCloud* integrating Jupyter.\n",
    "\n",
    "Publishers are also turning to Jupyter for books, blogs, reports, theses sometimes with live code examples.\n",
    "- e.g. [**Thebe** (O'Reilly)](https://github.com/oreillymedia/thebe)\n",
    "- Nature, Scientific American Magazines\n",
    "    is a simplified notebook interface\n",
    "\n",
    "Educators\n",
    "- tutorials, assignments, presentations, documenting\n",
    "- MOOCs - online education:\n",
    "  - notebook-based (**Edx/Apache Spark**)\n",
    "  - jupyter-integrated (**F.U.N.**)\n",
    "- in classrooms using JupyterHub"
   ]
  },
  {
   "cell_type": "markdown",
   "metadata": {
    "slideshow": {
     "slide_type": "notes"
    }
   },
   "source": [
    "# Transcript: External projects\n",
    "\n",
    "There are many external projects integrating Jupyter, for example in IDEs such as ATOM, Emacs.\n",
    "\n",
    "There have been examples of live blog posts (which we'll see next) from O'Reilly, Nature and Scientific American Magazines.\n",
    "\n",
    "Jupyter is being increasingly used in Education, in MOOCs by providing runnable environments\n",
    "- in the cloud\n",
    "- as downloadable VMs, e.g. Edx/Spark\n",
    "- or integrated into the MOOC platform"
   ]
  },
  {
   "cell_type": "markdown",
   "metadata": {
    "slideshow": {
     "slide_type": "notes"
    }
   },
   "source": [
    "# NOTES:\n",
    "\n",
    "#### Jupyter Ecosystem\n",
    "The \"*Big Split*\" facilitates innovation around the platform<br/><br/>\n",
    "</center>\n",
    "\n",
    "There are many ongoing projects\n",
    "- static notebook viewers:\n",
    "  - [*IPython Gallery*]() &nbsp;**-->** &nbsp;[nbviewer](http://nbviewer.org), &nbsp;[github](https://github.com)\n",
    "- dynamic notebook viewers:\n",
    "  - [tryjupyter.org](http://tryjupyter.org),&nbsp; JupyterHub,&nbsp; [Bindr](http://bindr.org),&nbsp; [Quantopian](http://quantopian.org)\n",
    "- alternative front-ends:\n",
    "  - Sidecar,&nbsp; [Rodeo IDE v2](http://blog.yhat.com/posts/rodeo-2.0-release.html),&nbsp; [Hydrogen (ATOM)](https://atom.io/packages/hydrogen),&nbsp; [EIN (emacs)](http://millejoh.github.io/emacs-ipython-notebook/)\n",
    "- tools\n",
    "  - nbconvert  (convert between .ipynb and other formats: PDF, html, ...)\n",
    "- kernels & extensions\n",
    "</center>\n",
    "\n",
    "#### Jupyter projects - static notebook rendering\n",
    "**[IPython Gallery](https://github.com/ipython/ipython/wiki/A-gallery-of-interesting-IPython-Notebooks)**\n",
    "Has a list of interesting notebooks ... rendered on **nbviewer** or **github** ...\n",
    "\n",
    "**[nbviewer](http://nbviewer.org)** -You can upload your notebooks to nbviewer which renders them statically (the output cells you already created).\n",
    "Users can download the original notebook.\n",
    "\n",
    "**[github - (example)](https://github.com/rasbt/algorithms_in_ipython_notebooks) ** also renders notebooks statically\n",
    "\n",
    "\n",
    "#### Jupyter projects - dynamic notebook rendering\n",
    "\n",
    "- Try Jupyter: [try.jupyter.org](https://try.jupyter.org/)\n",
    "\n",
    "- JupyterHub: multi-user environment for education\n",
    "\n",
    "- Binder (mybinder.org)\n",
    "\n",
    "- [**Thebe** (O'Reilly)](https://www.oreilly.com/learning/introducing-pandas-objects)\n",
    "OReilly publishing - simplified notebook widget\n",
    "\n",
    "- Watakari (Continuum Analytics)\n",
    "\n",
    "- Stocks Analysis (Quantopian)\n",
    "[quantopian](https://www.quantopian.com/research/survey)\n",
    "\n",
    "- Escherpad"
   ]
  },
  {
   "cell_type": "markdown",
   "metadata": {
    "slideshow": {
     "slide_type": "notes"
    }
   },
   "source": [
    "# NOTES: Jupyter Core Projects\n",
    "<br/><br/><font size=+1>Basic UI enhancements: e.g. shortcuts, cell marking</font>\n",
    "<br/><br/><font size=+1>Notebook tests\n",
    "- unit testing\n",
    "- regression testing\n",
    "- dependency testing\n",
    "\n",
    "#### The Jupyter Project\n",
    "- magics, lanugage kernels, extensions, widgets \n",
    "- nbviewer.org\n",
    "- nbconvert\n",
    "- tmpnb, jupyterhub\n",
    "- incubating projects\n",
    "\n",
    "#### The Jupyter Ecosystem: External projects\n",
    "\n",
    "- Thebe: \"????\"\n",
    "- Hosting: Azure, GCE, ...\n",
    "- Blogs, Books, ...\n",
    "- Binder: [mybinder.org](http://mybinder.org)\n",
    "\n",
    "\n",
    "Currently [incubating sub-projects](https://github.com/jupyter-incubator) (IBM, MSFT involvement)\n",
    "</font>\n",
    "  - [Content Management](https://github.com/jupyter-incubator/contentmanagement)\n",
    "    - Search, include, modularity, ToC  [ex](http://jupyter.cloudet.xyz/user/BWjC4e69eYwv/notebooks/index.ipynb)\n",
    "  - [Dashboards](https://github.com/jupyter-incubator/dashboards)\n",
    "    - Different notebook layouts, bundling as web apps [ex](http://jupyter.cloudet.xyz/user/BWjC4e69eYwv/notebooks/index.ipynb)\n",
    "  - [SparkMagic](https://github.com/jupyter-incubator/sparkmagic)\n",
    "    - Connecting to external Spark Engines\n",
    "  - [Declarative Widgets](https://github.com/jupyter-incubator/declarativewidgets)\n",
    "    - Widgets with less code [ex](http://jupyter.cloudet.xyz/user/BWjC4e69eYwv/notebooks/index.ipynb)\n",
    "  - [Kernel Gateway](https://github.com/jupyter-incubator/kernel_gateway)\n",
    "    - Enable more deployment scenarios at scale\n",
    "</font>"
   ]
  },
  {
   "cell_type": "markdown",
   "metadata": {
    "slideshow": {
     "slide_type": "subslide"
    }
   },
   "source": [
    "<center><h1>OReilly Blog Article - using Thebe</h1></center>\n",
    "\n",
    "<a href=\"https://www.oreilly.com/learning/introducing-pandas-objects\">\n",
    "<table class=\"noborder\"><tbody><tr><td>\n",
    "<img src=\"images/OReilly_Thebe1.PNG\" width=200/>\n",
    "</td><td>\n",
    "<center>This blog post containers modifiable, runnable code cells<br/>with a **RUN** button as shown below</center>\n",
    "<img src=\"images/OReilly_Thebe2.PNG\" width=400/><a/>\n",
    "</td></tr></tbody></table>"
   ]
  },
  {
   "cell_type": "markdown",
   "metadata": {
    "slideshow": {
     "slide_type": "notes"
    }
   },
   "source": [
    "# Transcript: Thebe\n",
    "\n",
    "Thebe is an O'Reilly project on github, allowing to interact with Jupyter notebook from a standard web page, embedding runnable cells in the blog post\n"
   ]
  },
  {
   "cell_type": "markdown",
   "metadata": {
    "slideshow": {
     "slide_type": "subslide"
    }
   },
   "source": [
    "<center><h1> MOOCs, e.g. F.U.N., GWU, EdX/Spark... </h1></center>\n",
    "<br/><a href=\"https://www.france-universite-numerique-mooc.fr/courses/inria/41001S02/session02/courseware/5ec24fe4d294490795d69befc8e19870/8ff1435df3c846fdb0cb42adfd11c3ab/\">\n",
    "<img src=\"images/MOOC_FUN_Jupyter_Integrated.png\" width=1400 />\n",
    "</a>"
   ]
  },
  {
   "cell_type": "markdown",
   "metadata": {
    "slideshow": {
     "slide_type": "notes"
    }
   },
   "source": [
    "# Transcript: MOOCs\n",
    "\n",
    "An example where **IPython v2!!**  was embedded into the MOOC itself"
   ]
  },
  {
   "cell_type": "markdown",
   "metadata": {
    "slideshow": {
     "slide_type": "slide"
    }
   },
   "source": [
    "<center><h1> Jupyter for Everything Else </h1></center>\n",
    "\n",
    "- Use of web technologies: mix-in HTML, CSS, js, SVG ...\n",
    "- Use of bash kernel for command-line work\n",
    "- Supplement command-line tools with graphics\n",
    "- Create interactive presentations (thanks *RISE* extension !)\n",
    "- Publish \"live blog posts\"\n",
    "- Creating status reports from notebooks using nbconvert"
   ]
  },
  {
   "cell_type": "markdown",
   "metadata": {
    "slideshow": {
     "slide_type": "notes"
    }
   },
   "source": [
    "# Transcript: Jupyter for Everything Else\n",
    "\n",
    "I've been experimenting with Jupyter for some uses quite different from the **usual** data science, finance **programming language** approaches.\n",
    "\n",
    "We've already seen how we can mix HTML, CSS, javascript and SVG into notebooks.\n",
    "\n",
    "We'll look at use of Jupyter for command line use (bash kernel), and how this can be supplemented with graphcs.\n",
    "\n",
    "I've mentioned the RISE jupyter extension\n",
    "\n",
    "I've mentioned how publishers are using Jupyter to create interactive books, articles.\n",
    "Others are also using Jupyter for creating blog posts directly.\n",
    "\n",
    "I'll took about blog posts where I have referenced \"live tutorials\" using Binder.\n",
    "\n",
    "As an experiment I've been using nbconvert to do monitoring of some OpenStack platforms under cron"
   ]
  },
  {
   "cell_type": "markdown",
   "metadata": {
    "slideshow": {
     "slide_type": "notes"
    }
   },
   "source": [
    "# NOTES: Jupyter for Everything Else\n",
    "\n",
    "- HTML/JavaScript/css/SVG experimentation\n",
    "  - Show useful d3.js animation (chart, or chart+js widget)\n",
    "- Write command-line tutorials, cheat sheets in an easy to maintain format.\n",
    "- Supplement command-line tools with graphics\n",
    "- Write blog posts\n",
    "- Create interactive presentations (thanks *RISE* extension !)\n",
    "- Publish interactive books, articles and blog posts\n",
    "  - OReilly, ... (bring in Pao slides)\n",
    "- nbconvert to automatically execute, convert notebooks"
   ]
  },
  {
   "cell_type": "markdown",
   "metadata": {
    "slideshow": {
     "slide_type": "subslide"
    }
   },
   "source": [
    "<center><h1> Everything Else: web technologies </h1></center>\n",
    "\n",
    "- HTML/JavaScript/css experimentation\n",
    "  - Many HTML, CSS, JS capabilities if you **proceed with care**\n",
    "  - d3.js animations if\n",
    "    - Need more interactivity\n",
    "    - Prototyping a D3 project\n",
    "    - Reusing existing D3 e.g. from http://bl.orcks.org\n",
    "- SVG\n",
    "- [Example notebook](http://localhost:8888/notebooks/CSS_Graphics_and_Charts.ipynb)\n",
    "\n",
    "<center><b>Select Theme: </b><select id=\"theme-list\"></select></center>"
   ]
  },
  {
   "cell_type": "markdown",
   "metadata": {
    "slideshow": {
     "slide_type": "notes"
    }
   },
   "source": [
    "# Transcript: web technologies\n",
    "\n",
    "I won't go much further on this here, but I will just demonstrate how we can do any javascript in the notebook.\n",
    "\n",
    "We have enough rope to hang ourselves.\n",
    "\n",
    "I'll just show an example of how javascript can be used to interact with the notebook, in this case by creating a menu (populated before I started the presentation) to allow me to select the theme of my presentation\n"
   ]
  },
  {
   "cell_type": "code",
   "execution_count": null,
   "metadata": {
    "collapsed": true,
    "slideshow": {
     "slide_type": "skip"
    }
   },
   "outputs": [],
   "source": [
    "%%html\n",
    "<!-- USE WITH CARE: This code will change the RISE theming -->\n",
    "<script src=\"js/d3.min.js\"></script>\n",
    "<script>\n",
    "d3.select(\"body\").\n",
    "  style(\"background\", \"#ad4944\").\n",
    "  style(\"background\", \"-moz-radial-gradient(center, circle cover, #f7fbfc 0%, #ad4944 100%\").\n",
    "  style(\"background\", \"-webkit-gradient(radial, center center, 0px, center center, 100%, color-stop(0%, #f7fbfc), color-stop(100%, #ad4944))\").\n",
    "  style(\"background\", \"-webkit-radial-gradient(center, circle cover, #f7fbfc 0%, #ad4944 100%)\").\n",
    "  style(\"background\", \"-o-radial-gradient(center, circle cover, #f7fbfc 0%, #ad4944 100%)\").\n",
    "  style(\"background\", \"-ms-radial-gradient(center, circle cover, #f7fbfc 0%, #ad4944 100%)\").\n",
    "  style(\"background\", \"radial-gradient(center, circle cover, #f7fbfc 0%, #ad4944 100%)\").\n",
    "  style(\"background-color\", \"#f7fbfc\");\n",
    "</script>"
   ]
  },
  {
   "cell_type": "code",
   "execution_count": null,
   "metadata": {
    "collapsed": true,
    "slideshow": {
     "slide_type": "skip"
    }
   },
   "outputs": [],
   "source": [
    "%%html\n",
    "<!-- USE WITH CARE: This code will apply a background image (but without transparency ..) -->\n",
    "<script src=\"js/d3.min.js\"></script>\n",
    "<script>\n",
    "d3.select(\".rise-enabled\").\n",
    "  style(\"background-color\", \"azure !important\").\n",
    "  style(\"font-size\", \"125% !important\").\n",
    "  style(\"background-image\", \"url(images/Jupyter_background.png), linear-gradient(30deg, #7ab8ec, white 75%, white)\").\n",
    "  style(\"background-position\", \"center\").\n",
    "  style(\"background-repeat\", \"no-repeat\").\n",
    "  style(\"background-origin\", \"content-box\").\n",
    "  style(\"filter\", \"alpha(opacity=40)\").\n",
    "  style(\"padding\", \"5px 5px 5px 5px\");\n",
    "</script>"
   ]
  },
  {
   "cell_type": "code",
   "execution_count": 17,
   "metadata": {
    "collapsed": false,
    "slideshow": {
     "slide_type": "skip"
    }
   },
   "outputs": [
    {
     "data": {
      "text/html": [
       "<!-- Placeholder for colorPicker: from https://github.com/thetylerwolf/d3-colorpicker -->\n",
       "<div class=\"colorPicker\"> <svg width=\"750\"></svg> </ div>\n",
       "<script type=\"text/javascript\" src=\"js/d3.min.js\"></script>\n",
       "<link rel=\"stylesheet\" type=\"text/css\" href=\"d3-colorpicker/colorpicker.css\">\n",
       "<script type=\"text/javascript\" src=\"d3-colorpicker/colorPicker.js\"></script>\n",
       "<style> .colorPicker {  height:200px;  width:645px;  margin:auto;  margin-top:200px;  position:relative;} </style>"
      ],
      "text/plain": [
       "<IPython.core.display.HTML object>"
      ]
     },
     "metadata": {},
     "output_type": "display_data"
    }
   ],
   "source": [
    "%%html\n",
    "<!-- Placeholder for colorPicker: from https://github.com/thetylerwolf/d3-colorpicker -->\n",
    "<div class=\"colorPicker\"> <svg width=\"750\"></svg> </ div>\n",
    "<script type=\"text/javascript\" src=\"js/d3.min.js\"></script>\n",
    "<link rel=\"stylesheet\" type=\"text/css\" href=\"d3-colorpicker/colorpicker.css\">\n",
    "<script type=\"text/javascript\" src=\"d3-colorpicker/colorPicker.js\"></script>\n",
    "<style> .colorPicker {  height:200px;  width:645px;  margin:auto;  margin-top:200px;  position:relative;} </style>"
   ]
  },
  {
   "cell_type": "markdown",
   "metadata": {
    "slideshow": {
     "slide_type": "subslide"
    }
   },
   "source": [
    "<center><h1> Everything Else: command-line </h1></center>\n",
    "\n",
    "Two bash kernels are available for Jupyter bash_kernel and calysto/metakernel_bash\n",
    "\n",
    "<table class=\"noborder\"><tbody>\n",
    "<tr>\n",
    "<td>\n",
    "[Calysto](https://github.com/Calysto) Metakernels\n",
    "<ul>\n",
    "<li>easy to fix for Windows/Cygwin</li>\n",
    "<li>Provides magics</li>\n",
    "<li>Family of metakernels</li>\n",
    "<li>Under development</li>\n",
    "</ul>\n",
    "</td>\n",
    "<td>\n",
    "<img src=\"images/github_Calysto.PNG\" width=300/>\n",
    "</td>\n",
    "</tr>\n",
    "</tbody></table>"
   ]
  },
  {
   "cell_type": "markdown",
   "metadata": {
    "slideshow": {
     "slide_type": "notes"
    }
   },
   "source": [
    "# Transcript: Command-line\n",
    "\n",
    "For my experiments I decided to use the *metakernel_bash* kernel rather than *bash_kernel*, because I could easily get it working on Windows/Cygwin, it is one of a family of metakernels which have the same magics and it is under active development.\n",
    "\n"
   ]
  },
  {
   "cell_type": "markdown",
   "metadata": {
    "slideshow": {
     "slide_type": "subslide"
    }
   },
   "source": [
    "<center><h1> Everything Else: command-line </h1></center>\n",
    "\n",
    "### Why?\n",
    "\n",
    "<table class=\"noborder\"><tbody>\n",
    "<tr>\n",
    "<td>\n",
    "Inspired by the notebook as an educational tool\n",
    "<br/><br/>\n",
    "I wanted to use it for command-line tasks\n",
    "<ul>\n",
    "<li>[**Docker demos / labs in Jupyter**](http://mjbright.blogspot.fr/2016/02/creating-docker-build-lab-with-jupyter.html)</li>\n",
    "<li>Why not Bash as 1st-class citizen with magics, graphics ?</li>\n",
    "<li>[**Example notebook**](Demos/Demo_Metakernel_Bash.ipynb)</li>\n",
    "<li>Write command-line tutorials, cheat sheets<br/>in an easy to maintain \"live notebook\"<br/>(runnable) format.</li>\n",
    "</ul>\n",
    "</td>\n",
    "<td>\n",
    "<img src=\"images/bash_graphics.PNG\" width=500/>\n",
    "</td>\n",
    "</tr>\n",
    "</tbody></table>"
   ]
  },
  {
   "cell_type": "markdown",
   "metadata": {
    "slideshow": {
     "slide_type": "notes"
    }
   },
   "source": [
    "# Transcript: Command-line notebooks - why?\n",
    "\n",
    "I started this work because I liked the notebook paradigm for creating **narratives**, which could be used as repeatable, auto-documenting demos.  I have presented Docker at least 10 times at work or elsewhere and experimented with using the Python notebook for documenting command-line demos.  Initially, I used the '!' bang operator or a '*docker*' alias to breakout from a Python notebook.  However, these were breaking out from the '*command-line*' paradigm I was demonstrating and could be confusing.\n",
    "\n",
    "So next I tried using the bash kernel and created a **runnable** demo notebook and a Docker lab (**runnable to re-create the documentation**).\n",
    "\n",
    "I've been playing with extending the bash kernel (*actually the **metakernel_bash** kernel*) to display graphics.\n",
    "The idea is to provide an api of available functions which augment command-line usage.\n",
    "I've created example notebooks where it is possible to invoke html, javascript, graphviz (provided by the metakernels) and images from bash.\n",
    "\n",
    "** NOW LET's look at an example bash notebook supplemented with graphics **\n",
    "\n",
    "Another thing in the '*bash camp*' I've been playing with is creating **live notebooks** on mybinder.org.\n"
   ]
  },
  {
   "cell_type": "markdown",
   "metadata": {
    "slideshow": {
     "slide_type": "subslide"
    }
   },
   "source": [
    "<center><h1> Everything Else: Binder \"live notebooks\" </h1></center>\n",
    "\n",
    "<img src=\"images/MyBinder.org.PNG\" width=600 />"
   ]
  },
  {
   "cell_type": "markdown",
   "metadata": {
    "slideshow": {
     "slide_type": "notes"
    }
   },
   "source": [
    "# Transcript: Binder - \"live notebooks\" as runnable tutorials\n",
    "\n",
    "Binder allows to build a docker image from a github repo using your requirements (Dockerfile, requirements.txt for Pip or environment.yaml file for Conda).\n",
    "\n",
    "This allows anyone to launch a jupyter server on the binder web-site with that image.\n",
    "\n",
    "It's possible to share live tutorials/demos based on Jupyter.\n",
    "\n",
    "With the new interface you simply submit the URL of your github repo and the image will be build,\n",
    "    e.g. https://github.com/mjbright/binder_jupyter_notebook\n",
    "\n",
    "You or someone else can now run a new instance using the resulting image at\n",
    "    http://mybinder.org/repo/mjbright/binder_jupyter_notebook\n",
    "\n",
    "This is very powerful, instant compute resources with the necessary environment setup for you.\n"
   ]
  },
  {
   "cell_type": "markdown",
   "metadata": {
    "slideshow": {
     "slide_type": "subslide"
    }
   },
   "source": [
    "<center><h1> Everything Else: \"live notebooks\" as runnable tutorials </h1></center>\n",
    "\n",
    "<table class=\"noborder\"><tbody>\n",
    "<tr>\n",
    "<td>\n",
    "We can create live tutorials online on Binder.\n",
    "<br/><br/>\n",
    "The notebook server can be launched by clicking on\n",
    "\n",
    "<br/><br/>\n",
    "the binder icon in a [github repo](https://github.com/mjbright/binder_jupyter_notebook)\n",
    "   ![](images/launch_binder.svg)\n",
    "\n",
    "<br/><br/>   \n",
    "I wrote a [Blog post](http://mjbright.blogspot.fr/2016/05/the-art-of-command-line-ls-seen-from.html) with link to \"**live notebook**\" of bash tutorials\n",
    "</td>\n",
    "<td>\n",
    "<img src=\"images/Blog_cli_tutorials.PNG\" width=600 />\n",
    "</td>\n",
    "</tr>\n",
    "</tbody></table>"
   ]
  },
  {
   "cell_type": "markdown",
   "metadata": {
    "slideshow": {
     "slide_type": "notes"
    }
   },
   "source": [
    "# Transcript: Binder - \"live notebooks\" as runnable tutorials\n",
    "\n",
    "So we can create \"live\" or runnable tutorials online on Binder.\n",
    "\n",
    "On github if you see this \"launch binder\" icon, if you click on this you will be taken to a new notebook server instance on binder where you can run code from that repo.\n",
    "\n",
    "I wrote a blog post about using this for command-line tutorials and linked to a ... ahem \"ls tutorial\" !!\n",
    "\n",
    "I wanted to start from the most basic tutorial and build up, I've added more tutorials.\n",
    "\n",
    "The point was to show that you can create live environments like this where people can run and play with your code."
   ]
  },
  {
   "cell_type": "markdown",
   "metadata": {
    "slideshow": {
     "slide_type": "subslide"
    }
   },
   "source": [
    "<center><h1> Everything Else: Binder command-line \"live notebooks\" </h1></center>\n",
    "\n",
    "<table class=\"noborder\"><tbody>\n",
    "<tr>\n",
    "<td>\n",
    "In that [github **repo**](http://mybinder.org/repo/mjbright/binder_jupyter_notebook) I created an **INDEX notebook**\n",
    "<br/><br/>\n",
    "other notebooks in the same repo<br/><br/>\n",
    "<br/><br/>\n",
    "\n",
    "</td>\n",
    "<td>\n",
    "<a href=\"http://mybinder.org/repo/mjbright/binder_jupyter_notebook\">\n",
    "<img src=\"images/MyBinder_CommandLineTutorialsIndexPage.PNG\" width=600 />\n",
    "</a>\n",
    "</td>\n",
    "</tr>\n",
    "</tbody></table>"
   ]
  },
  {
   "cell_type": "markdown",
   "metadata": {
    "slideshow": {
     "slide_type": "notes"
    }
   },
   "source": [
    "# Transcript: Binder - command-line \"live notebooks\"\n",
    "\n",
    "I created an INDEX page notebook in that repo.\n",
    "\n",
    "Now let's launch an instance of this repo on Binder **--finger's crossed everybody--**\n",
    "\n",
    "As you can see there are a few notebooks included in the repo\n",
    "- the initial ls tutorial\n",
    "- a bash arrays tutorial (not done)\n",
    "- a tcpdump networking tutorial\n",
    "- a **Perl6 1-liners tutorial** ... **will I be the first to demonstrate Perl6 at EuroPython ??!!**\n",
    "\n",
    "**NOW - Let's look at the tcpdump tutorial ... and maybe even Perl6 ?**"
   ]
  },
  {
   "cell_type": "markdown",
   "metadata": {
    "slideshow": {
     "slide_type": "skip"
    }
   },
   "source": [
    "# Binder\n",
    "\n",
    "**TODO**:\n",
    "- Detail image creation\n",
    "  - all root operations are to be done at binder creation time (apt-get update/install for example)\n",
    "- versus image instanciation\n",
    "\n",
    "- What it is\n",
    "- Binder launch logo\n",
    "- Launch a binder from github repo - full Jupyter server (new notebooks, terminal, kernels, ...)\n",
    "- Launch directly a notebook (and server)\n",
    "\n",
    "\n",
    "- Launch a new server from my '<a href=\"https://github.com/mjbright/binder_jupyter_notebook\">mjbright/binder_jupyter_notebook</a>' github repo\n",
    "\n",
    "<a href=\"http://mybinder.org/repo/mjbright/binder_jupyter_notebook\">\n",
    "<img src=\"images/launchbinder.svg\"/>\n",
    "</a>\n",
    "\n",
    "- [** NO LONGER POSSIBLE**] Launch a new server, as above, opening directly a specific notebook\n",
    "\n",
    "<a href=\"http://mybinder.org/repo/mjbright/binder_jupyter_notebook/Example_bash_kernel.ipynb\">\n",
    "<img src=\"images/launchbinder.svg\"/>\n",
    "</a>\n",
    "\n",
    "- [** NO LONGER POSSIBLE**] Launch a new server, as above, opening directlythe index notebook\n",
    "\n",
    "<a href=\"http://mybinder.org/repo/mjbright/binder_jupyter_notebook/INDEX_Tutorials.ipynb\">\n",
    "<img src=\"images/launchbinder.svg\"/>\n",
    "</a>\n",
    "\n",
    "- From a running server link to another notebook, or link to the server\n",
    "<hr/>"
   ]
  },
  {
   "cell_type": "markdown",
   "metadata": {
    "slideshow": {
     "slide_type": "skip"
    }
   },
   "source": [
    "# Binder Workflow\n",
    "- launch binder\n",
    "- edit notebooks\n",
    "- upload new notebooks or supporting files (e.g. pcap files for tcpdump)\n",
    "- download your modified notebooks\n",
    "- \"git add\" them to your githhub repo for inclusion\n",
    "\n",
    "### Careful: save your notebook periodically, this is an ephemeral container !\n",
    "\n",
    "### With the notebook we advance quickly\n",
    "### Combination of markdown and code allows to quickly produce a usable tutorial online (even for command-line)"
   ]
  },
  {
   "cell_type": "markdown",
   "metadata": {
    "slideshow": {
     "slide_type": "skip"
    }
   },
   "source": [
    "# Binder Resources\n",
    "\n",
    "- MyBinder.org http://mybinder.org/\n",
    "   - include image\n",
    "- Gitter https://gitter.im/binder-project/binder\n",
    "- Docs   http://docs.mybinder.org/\n",
    "- Github https://github.com/binder-project\n",
    "- Blog posts\n",
    "  - http://ivory.idyll.org/blog/2016-mybinder.html\n",
    "  - http://ivory.idyll.org/blog/2016-mybinder-workshop-proposal.html\n"
   ]
  },
  {
   "cell_type": "markdown",
   "metadata": {
    "slideshow": {
     "slide_type": "subslide"
    }
   },
   "source": [
    "<center><h1> Everything Else: Slideshows </h1></center>\n",
    "\n",
    "<table class=\"noborder\"><tbody>\n",
    "<tr>\n",
    "<td>\n",
    "This <a href=\"PRESENTATION-JupyterForEverythingElse.ipynb\"><b>slideshow</b></a> is made using Jupyter<br/>\n",
    "with the RISE extensions\n",
    "\n",
    "<br/><br/>\n",
    "RISE adds special \"Slide Type\" menu<br/>\n",
    "options to each cell to specify one of\n",
    "\n",
    "<ul>\n",
    "<li>Slide</li>\n",
    "<li>Sub-Slide</li>\n",
    "<li>Fragment</li>\n",
    "<li>Notes</li>\n",
    "<li>Skip</li>\n",
    "</ul>\n",
    "\n",
    "</td>\n",
    "<td>\n",
    "<img src=\"images/RISE_slideshows.PNG\" width=500 />\n",
    "</td>\n",
    "</tr>\n",
    "</tbody></table>\n",
    "   "
   ]
  },
  {
   "cell_type": "markdown",
   "metadata": {
    "slideshow": {
     "slide_type": "notes"
    }
   },
   "source": [
    "# Transcript: RISE\n",
    "\n",
    "RISE is a Jupyter extension allowing to run a Reveal.js slideshow based on the notebook.\n",
    "\n",
    "This slideshow is a notebook - **I can show you by clickng on this link.**\n",
    "\n",
    "There are several Slide types introduced\n",
    "\n",
    "- Slide represents a new vertical sequence of slides in Reveal (they go from left to right)\n",
    "- Sub-Slide represents a slide below the previous slide/sub-slide\n",
    "- Fragment allows to reveal fragments of a slide oe by one (surprise effect)\n",
    "- Notes and Skip won't be displayed\n",
    "\n",
    "** Note that we can also embed live code, markdown, HTML as a standard notebook **\n",
    "\n",
    "**Also notice how I can edit this text during the slideshow itself.**\n"
   ]
  },
  {
   "cell_type": "markdown",
   "metadata": {
    "slideshow": {
     "slide_type": "skip"
    }
   },
   "source": [
    "<center><h1> Everything Else: Publishing </h1></center>\n",
    "\n",
    "- Publish interactive books, articles and blog posts\n",
    "  - OReilly, Thebe/Atlas\n",
    "  - TODO: Pelican (jvdp)\n"
   ]
  },
  {
   "cell_type": "markdown",
   "metadata": {
    "slideshow": {
     "slide_type": "subslide"
    }
   },
   "source": [
    "<center><h1> Everything Else: Automated e-mail status reports </h1></center>\n",
    "\n",
    "<table class=\"noborder\"><tbody>\n",
    "<tr>\n",
    "<td>\n",
    "Using nbconvert we can [execute notebooks](http://10.3.216.210:8888/notebooks/notebooks/OpenStack_Monitoring_Py3.ipynb#) from the command-line\n",
    "\n",
    "<ul><li>\n",
    "Automatically run the notebook under cron\n",
    "</li><li>\n",
    "**nbconvert** notebook result to html<br/>\n",
    "</li><li>\n",
    "send html [report](https://mail.google.com/mail/u/0/#inbox/155b805d4e9f68df) as e-mail via cron\n",
    "</li><li>\n",
    "Capabilities created incrementally in notebook,<br/>\n",
    "code migrated to modules to reduce notebook (report) code\n",
    "</li></ul>\n",
    "</td>\n",
    "<td>\n",
    "<img src=\"images/GMail_OpenStack_Status.PNG\" width=500 />\n",
    "</td>\n",
    "</tr>\n",
    "</tbody></table>"
   ]
  },
  {
   "cell_type": "markdown",
   "metadata": {
    "slideshow": {
     "slide_type": "notes"
    }
   },
   "source": [
    "# Transcript: Everything Else: Automated e-mail status reports\n",
    "\n",
    "This was an experiment to see if it was possible to create status reports automatically under cron using the jupyter notebook.\n",
    "\n",
    "In my work we manager currently 6 OpenStack platforms which are used for NFV (Telecom) Proof of Concept projects and demos.\n",
    "Each platform is comprised of 10 to 30 servers.\n",
    "\n",
    "I wanted to auto-generate e-mails showing the status of physical nodes, ip address/ports, API URLs and VMs.\n",
    "\n",
    "I'm not proposing this as a real use-case, just a fun experiment.\n",
    "\n",
    "After a message on the Jupyter mailing list about using nbconvert to automatically execute notebooks I decided to give it a go.\n",
    "\n",
    "The process was very iterative.\n",
    "\n",
    "I developed code in the notebook and periodically abstracted the code into methods which I placed into a separate module.\n",
    "The goal was not only to abstract the code but limit the amount of code visible in the resulting notebook.\n",
    "**NOTE**: in the future it should be possible to hide the input cells.\n",
    "\n",
    "I now receive these reports on a daily basis (1 hour was too much!)\n",
    "\n",
    "There were many steps\n",
    "- Decided to use the OpenStack Python APIs (whence Python kernel) rather than bash !\n",
    "- Creating a {platform}_hosts.ini file format a but like an ansible inventory\n",
    "  - Using ansible was another technology I considered, so I wanted to keep my options open\n",
    "- Developing a pure python3 ping function (one existed)\n",
    "  - Discovered that ping is normally a setuid function !\n",
    "- Create DictTable and ListTable classes with _repr_html() method which creates an HTML table from Python structures\n",
    "  - Added highlight capability to hightlight keywords such as \"OK\", \"ACTIVE\", \"TIMEOUT\"\n",
    "- Tried to add summary information at the top of the notebook using JavaScript\n",
    "  - This worked fine **BUT** javascript isn't handled in the e-mail\n",
    "- So abstracted more the code to gather HTML output, to allow to print a status table for all platforms\n",
    "  - added links to individual platform statuses\n",
    "- Tried adding images into the notebook via graph plotting, via SVG creation, via CSS\n",
    "  - none of these worked because e-mail clients consider them unsafe\n",
    "  "
   ]
  },
  {
   "cell_type": "markdown",
   "metadata": {
    "slideshow": {
     "slide_type": "subslide"
    }
   },
   "source": [
    "\n",
    "<center><h1> Everything Else: Automated e-mail status reports (nbconvert)</h1></center>\n",
    "\n",
    "<table class=\"noborder\"><tbody>\n",
    "<tr>\n",
    "<td width=60%>\n",
    "We can use nbconvert to automatically run the notebook under cron<br/>\n",
    "and send the results by e-mail<br/>\n",
    "<br/>\n",
    "    ```nbconvert --execute --template basic --to html Monitoring.ipynb```\n",
    "\n",
    "<ul><li>\n",
    "--execute: execute the notebook\n",
    "</li><li>\n",
    "--template: specify the o/p template\n",
    "</li><li>\n",
    "--to: specify o/p format\n",
    "</li><li>\n",
    "Input notebook\n",
    "</li></ul>\n",
    "</td>\n",
    "<td>\n",
    "<img src=\"images/nbconvert.png\" width=500 />\n",
    "</td>\n",
    "</tr>\n",
    "</tbody></table>\n"
   ]
  },
  {
   "cell_type": "markdown",
   "metadata": {
    "slideshow": {
     "slide_type": "notes"
    }
   },
   "source": [
    "# Transcript: Everything Else: Automated e-mail status reports (nbconvert)\n",
    "\n",
    "It's fairly easy to use nbconvert to (optionally) execute a notebook and to convert (to html in this case) the output.\n",
    "\n",
    "Nevertheless there was some experimentation\n",
    "- to get some graphic output\n",
    "  - finally html tables was used for everything\n",
    "  - would like to show disk usage\n",
    "    - either do this as html tables without borders (to simulate bar chart)\n",
    "    - or link to the html output so that rich media can be used\n",
    "- to get the output to display in e-mail clients\n",
    "  - Easier to get working in Outlook than GMail\n",
    "    - Needed to limit e-mail size to avoid \"... [Message clipped]  View entire message\" messages in GMail\n",
    "      - use of --template basic' permitted this, vastly reducing html o/p size (requires < ~ 120k)\n",
    "    - Sometimes GMail \"folds\" html in unrecuperable ways !\n",
    "\n"
   ]
  },
  {
   "cell_type": "markdown",
   "metadata": {
    "slideshow": {
     "slide_type": "subslide"
    }
   },
   "source": [
    "<center><h1> Everything Else: Coming up ... </h1></center>\n",
    "\n",
    "- Experiment with JupyterHub, nbgrader, Binder\n",
    "  - I'd like to reimplement some labs as a set of graded assignments\n",
    "\n",
    "- More Metakernel_Bash experiments\n",
    "\n",
    "- Make pull requests to Metakernel_bash\n",
    "\n",
    "- Propose this stuff outside of the Python community\n",
    "\n",
    "- Xonsh_kernel\n",
    "  - Take advantage of new Python / unix-like shell\n",
    "  \n",
    "- CLing C++ interpreter kernel\n",
    "  "
   ]
  },
  {
   "cell_type": "markdown",
   "metadata": {
    "slideshow": {
     "slide_type": "notes"
    }
   },
   "source": [
    "# Transcript: Everything Else: Coming up ...\n",
    "\n",
    "I've played with a lot of stuff, and I've only shown a fraction.\n",
    "\n",
    "**EXPERIMENT with reimplementing existing Docker/Git labs using JupyterHub and/or Binder with nbgrader**\n",
    "\n",
    "** may need to host my own Binder - from it's github/docker image**\n",
    "\n",
    "I'd like to extend the metakernel_bash experiments, especially coming up with some '**killer** use cases', but I also need to try to get this stuff merged.  That won't be so easy as I know the authors want to provide all functionality to all of their metakernels where as I want something that works best in the bash paradigm ...\n",
    "\n",
    "I'd like to propose the use of Jupyter + unix shells outside of the Python community - proposed a talk for LinuxConEU.\n",
    "\n",
    "I'd like to experiment with **xonsh** the new shell/python shell, but I suspect it won't really fit with what I'm trying to do here.  It would be more stable than a bash kernel (they can get messed up as they depend upon expect to detect when a command is complete), more expressive but with a too *pythonesque* paradigm.  I need to try.\n",
    "\n",
    "Try out the CLing C++ interpreter kernel.  It looks to be tricky to install, so I'll probably settle on a Docker environment to set this up.\n",
    "\n",
    "**I'm keen to hear your ideas for all this**"
   ]
  },
  {
   "cell_type": "markdown",
   "metadata": {
    "slideshow": {
     "slide_type": "slide"
    }
   },
   "source": [
    "<center><h1> Questions ?</h1>\n",
    "<br/><br/>\n",
    "    ![The End](images/END_sillywalk.jpg)\n",
    "    <br/>\n",
    "<font size=+1>\n",
    "<i class=\"fa-github fa-2x fa\"> [mjbright](https://github.com/mjbright)</i>&nbsp;&nbsp;\n",
    "<i class=\"fa-twitter fa-2x fa\"> [@mjbright](http://twitter.com/mjbright)</i>&nbsp;&nbsp;\n",
    "<i class=\"fa-envelope fa-2x fa\"> mjbrightfr AT gmail</i>&nbsp;&nbsp;\n",
    "<i class=\"fa-user fa-2x fa\"> [mjbright.github.io](http://mjbright.github.io)</i>\n",
    "</font>\n",
    "</center>\n"
   ]
  },
  {
   "cell_type": "markdown",
   "metadata": {
    "slideshow": {
     "slide_type": "notes"
    }
   },
   "source": [
    "# Transcript: This is the End, my only friend the end ...\n",
    "\n",
    "## Questions?\n",
    "\n",
    "## Suggestions?\n",
    "\n",
    "So I hope that some of you will have discovered Jupyter/IPython, some will have discovered the extent of these tools or the extensive eco-system and incubating projects.\n",
    "\n",
    "I hope that my bash shell experiments, or \"live tutorials\" inspire some of you - but not too many, I want Binder to still be useable as a free service ...\n"
   ]
  },
  {
   "cell_type": "markdown",
   "metadata": {
    "slideshow": {
     "slide_type": "slide"
    }
   },
   "source": [
    "<center><h1> The End ... </h1>\n",
    "</center>"
   ]
  },
  {
   "cell_type": "markdown",
   "metadata": {
    "slideshow": {
     "slide_type": "slide"
    }
   },
   "source": [
    "<center><h1>References: IPython / Jupyter Books</h1></center>\n",
    "\n",
    "<table class=\"noborder\">\n",
    "<tr>\n",
    "<td><a href=\"http://cyrille.rossant.net/books/\"><h3>Learning IPython for Interactive Computing & Data Visualization </h3> </a> Cyrille Rossant<h6> Introductory usage</h6></td>\n",
    "<td><img src=\"images/Books/PPub_Rossant_minibook.jpg\" width=140 /></td>\n",
    "</tr><tr>\n",
    "<td><a href=\"http://cyrille.rossant.net/books/\"><h3> IPython Interactive Computing & Visualization Cookbook  </h3></a> Cyrille Rossant<h6>Advanced usage </h6></td>\n",
    "<td><img src=\"images/Books/PPub_Rossant_cookbook.jpg\" width=140 /></td>\n",
    "</tr>\n",
    "<tr>\n",
    "<td><a href=\"https://www.gitbook.com/book/carreau/jupyter-book/details\"><h3>The Jupyter GitBook</h3></a><h6>Extension writing</h6>\n",
    "</td><td><img src=\"images/Books/gitbook_jupyter-book.jpg\" width=140 />\n",
    "</td>\n",
    "</tr><tr>\n",
    "<tr>\n",
    "<td><a href=\"https://www.readthedocs.io/\"><h3>Documentation on ReadTheDocs</h3></a><h6>Extension writing</h6>\n",
    "</td><td></td>\n",
    "</tr><tr>\n",
    "</table>"
   ]
  },
  {
   "cell_type": "markdown",
   "metadata": {
    "slideshow": {
     "slide_type": "skip"
    }
   },
   "source": [
    "# References\n",
    "\n",
    "[Jupyter HackPad](https://jupyter.hackpad.com/)"
   ]
  },
  {
   "cell_type": "markdown",
   "metadata": {
    "slideshow": {
     "slide_type": "skip"
    }
   },
   "source": [
    "# NOTES: Jupyter / LIGO\n",
    "\n",
    "Want to play with gravity wave data? Reproducible science FTW! LIGO tutorial + @ProjectJupyter + Binder = http://mybinder.org/repo/minrk/ligo-binder/GW150914_tutorial.ipynb\n",
    "\n",
    "https://t.co/b1DfMFV5HK"
   ]
  },
  {
   "cell_type": "markdown",
   "metadata": {
    "slideshow": {
     "slide_type": "notes"
    }
   },
   "source": [
    "# Notes: Other envts\n",
    "\n",
    "## Tensor Flow\n",
    "http://raspberry-python.blogspot.fr/2015/12/tensorflow-jupyter-notebook.html\n",
    "\n",
    "## Tensor Flow on RPi (no Jupyter!)\n",
    "https://github.com/samjabrahams/tensorflow-on-raspberry-pi\n",
    "\n",
    "## BeagleBone ?\n",
    "http://mrandrewandrade.com/blog/2015/10/23/measure-temperature-thermistor-beaglebone.html\n",
    "\n",
    "\n"
   ]
  }
 ],
 "metadata": {
  "celltoolbar": "Slideshow",
  "kernelspec": {
   "display_name": "Python 3",
   "language": "python",
   "name": "python3"
  },
  "language_info": {
   "codemirror_mode": {
    "name": "ipython",
    "version": 3
   },
   "file_extension": ".py",
   "mimetype": "text/x-python",
   "name": "python",
   "nbconvert_exporter": "python",
   "pygments_lexer": "ipython3",
   "version": "3.5.1"
  },
  "livereveal": {
   "height": "800",
   "scroll": true,
   "theme": "sky",
   "width": "1280"
  },
  "toc": {
   "navigate_menu": true,
   "number_sections": true,
   "sideBar": true,
   "threshold": 6,
   "toc_cell": true,
   "toc_section_display": "block",
   "toc_window_display": true
  },
  "widgets": {
   "state": {},
   "version": "1.1.2"
  }
 },
 "nbformat": 4,
 "nbformat_minor": 0
}
