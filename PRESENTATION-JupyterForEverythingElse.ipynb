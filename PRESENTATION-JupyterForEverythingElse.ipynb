{
 "cells": [
  {
   "cell_type": "code",
   "execution_count": 2,
   "metadata": {
    "collapsed": false
   },
   "outputs": [
    {
     "name": "stdout",
     "output_type": "stream",
     "text": [
      "Last update: 2016-06-23 16:11:34.183245\n"
     ]
    }
   ],
   "source": [
    "#echo \"NOTES: Last update: $(date)\"\n",
    "import datetime\n",
    "print(\"Last update: \" + str(datetime.datetime.now())) "
   ]
  },
  {
   "cell_type": "code",
   "execution_count": 3,
   "metadata": {
    "collapsed": false,
    "slideshow": {
     "slide_type": "notes"
    }
   },
   "outputs": [
    {
     "data": {
      "text/html": [
       "<script src=\"https://npmcdn.com/jupyter-js-widgets@~1.1.2/dist/embed.js\"></script><script type=\"application/vnd.jupyter-embedded-widgets\">{}</script>"
      ],
      "text/plain": [
       "<IPython.core.display.HTML object>"
      ]
     },
     "metadata": {},
     "output_type": "display_data"
    }
   ],
   "source": [
    "%%html\n",
    "<script src=\"https://npmcdn.com/jupyter-js-widgets@~1.1.2/dist/embed.js\"></script><script type=\"application/vnd.jupyter-embedded-widgets\">{}</script>"
   ]
  },
  {
   "cell_type": "markdown",
   "metadata": {
    "slideshow": {
     "slide_type": "notes"
    }
   },
   "source": [
    "# NOTES:\n",
    "\n",
    "45 mins inc. Q&A, English\n",
    "So ~ 13 slides\n",
    "Friday 22 July at 10:30\n",
    "https://ep2016.europython.eu/conference/talks/jupyter-for-everything-else\n",
    "\n",
    "#### Qns: program@europython.eu\n",
    "\n",
    "Dear Mike, -- please use program@europython.eu for all speaker related matters in the future -- The room has 180 seats but this doesn't necessarily mean 180 people will attend, last years' trainings had between 50-100 attendees on average. I hope this - unfortunately vague - information helps. The room for your talk has 120 seats, please note that the talk rooms may still change. Best, Alexander\n",
    "\n",
    "#### Screen resolution\n",
    "Ask conference organizers ...\n",
    "\n",
    "For the moment test with 800x600 screen resolution, F11 to hide browser tabs\n",
    "and Edit notebook metadata to set 800x600 resolution\n",
    "\n",
    "==> Hi Mike, most projector for the talks/training are FullHD or at least HD. Regards, Christian\n",
    "==> Assume HD to be safe ==> but go for WXGA 1280 x 800 to be safer still ;-)\n",
    "https://en.wikipedia.org/wiki/Display_resolution\n",
    "\n",
    "#### hierarchical links (image around a link)\n",
    "[![alt-text](image/path)](link/path) \n",
    "\n",
    "#### Nice MathJax example\n",
    "http://nbviewer.jupyter.org/github/ipython/ipython/blob/2.x/examples/Notebook/Typesetting%20Math%20Using%20MathJax.ipynb\n",
    "\n",
    "#### How to reduce RISE margins?"
   ]
  },
  {
   "cell_type": "markdown",
   "metadata": {
    "slideshow": {
     "slide_type": "notes"
    }
   },
   "source": [
    "#### Try javascript slider to modify header colour and size (on one slide)\n",
    "\n",
    "#### Refer to Roadmap (https://github.com/jupyter/roadmap)\n",
    "\n",
    "#### Excellent ideas from Bryn Mawr college (https://athena.brynmawr.edu/jupyter/hub/dblank/public/Experiments)\n",
    "\n",
    "#### Turtles (http://interactivepython.org/runestone/static/thinkcspy/PythonTurtle/OurFirstTurtleProgram.html)\n",
    "(or Calysto ...)\n",
    "\n",
    "#### Later: Try with Docker images\n",
    "- JupyterHub (need Jupyter also): https://hub.docker.com/r/jupyterhub/jupyterhub/\n",
    "  (on github: https://github.com/jupyterhub/jupyterhub)\n",
    "  \n",
    "- CLing image?\n",
    "\n",
    "#### Xkcd plots/images\n",
    "https://nbviewer.jupyter.org/url/jakevdp.github.com/downloads/notebooks/XKCD_plots.ipynb\n",
    "\n",
    "## Reference online sites:\n",
    "\n",
    "https://nbviewer.jupyter.org/\n",
    "\n",
    "https://try.jupyter.org/\n",
    "\n",
    "http://jupyter.org/\n",
    "\n",
    "http://ipython.org/\n",
    "\n",
    "#### Widgets\n",
    "http://jupyter.org/widgets.html\n",
    "\n",
    "#### Theming notebooks\n",
    "https://github.com/transcranial/jupyter-themer\n",
    "\n",
    "#### Table style sheets\n",
    "https://www.linkedin.com/pulse/pandas-table-style-sheets-jupyter-notebooks-dale-smith\n",
    "https://github.com/jupyter/notebook/issues/1182\n",
    "\n",
    "http://stackoverflow.com/questions/23725638/in-ipython-notebook-cant-hide-table-borders-as-usual\n",
    "\n",
    "\n",
    "#### D3 (show as is for now/later adapt)\n",
    "https://github.com/stitchfix/d3-jupyter-tutorial\n",
    "\n",
    "#### Mining the social web - available as notebooks\n",
    "https://nbviewer.jupyter.org/github/ptwobrussell/Mining-the-Social-Web-2nd-Edition/tree/master/ipynb/\n"
   ]
  },
  {
   "cell_type": "markdown",
   "metadata": {
    "slideshow": {
     "slide_type": "slide"
    }
   },
   "source": [
    "<center> <h1>Jupyter for Everything Else</h1>\n",
    "<br/>\n",
    "<h3>Michael Bright, <a href=\"https://ep2016.europython.eu/conference/talks/jupyter-for-everything-else\">EuroPython 2016 - Bilbao, 22 July</a>.</h3>\n",
    "<img src=\"images/DEMO_OpenStack_API_D3.png\" width=300 />\n",
    "<br/>\n",
    "<font size=-1>\n",
    "<i class=\"fa-github fa-2x fa\"> [mjbright](https://github.com/mjbright)</i>&nbsp;&nbsp;\n",
    "<i class=\"fa-twitter fa-2x fa\"> [@mjbright](http://twitter.com/mjbright)</i>&nbsp;&nbsp;\n",
    "<i class=\"fa-envelope fa-2x fa\"> mjbrightfr AT gmail</i>&nbsp;&nbsp;\n",
    "<i class=\"fa-user fa-2x fa\"> [mjbright.github.io](http://mjbright.github.io)</i>\n",
    "</font>\n",
    "</center>"
   ]
  },
  {
   "cell_type": "markdown",
   "metadata": {
    "slideshow": {
     "slide_type": "slide"
    }
   },
   "source": [
    "<center> <h1> Outline </h1> </center>\n",
    "- Introduction: From IPython to Jupyter\n",
    "- \"*Classic*\" use\n",
    "  - Data analysis, scientific investigation, visualisation\n",
    "- The Jupyter Project & Ecosystem:\n",
    "  - Project: kernels, widgets, extensions, tools, incubating\n",
    "  - External: Thebe, Hosting, Binder ...\n",
    "- Jupyter for Everything Else"
   ]
  },
  {
   "cell_type": "markdown",
   "metadata": {
    "slideshow": {
     "slide_type": "notes"
    }
   },
   "source": [
    "# NOTES: OUTLINE\n",
    "- Intro: IPython to Jupyter\n",
    "  - What are Jupyter & IPython ?\n",
    "      - IPython beginnings\n",
    "          - The console and notebook\n",
    "          - The messaging protocol and kernels\n",
    "      - Jupyter Project\n",
    "       \n",
    "- \"*Classic*\" use (Python/R/Julia/..)\n",
    "  - What is Jupyter being used for?\n",
    "  - Data analysis, scientific investigation, visualisation\n",
    " \n",
    "- The Jupyter Project & Ecosystem:\n",
    "  - Project: kernels, widgets, extensions, tools, incubating\n",
    "             nb*, tmpnb, jupyterhub, \n",
    "  - External: Thebe, Hosting, Binder ...\n",
    "    - Static hosting: nbviewer, github, IPython Gallery\n",
    "    - Dynamic hosting: Binder, Azure, GCE, AWS?\n",
    "  - Related Projects\n",
    "    \n",
    "- Jupyter for Everything Else"
   ]
  },
  {
   "cell_type": "markdown",
   "metadata": {
    "slideshow": {
     "slide_type": "notes"
    }
   },
   "source": [
    "# NOTES: \n",
    "#### Intro: IPython to Jupyter\n",
    "\n",
    "- How IPython started: A REPL console\n",
    "- IPython evolution / architecture\n",
    "  - magics\n",
    "- zeromq protocol enabling\n",
    "  - IPyParallel\n",
    "  - multiple front-ends\n",
    "  - different language kernels\n",
    "- \"The Big Split\"\n",
    "  - Project Jupyter: the language independent notebook\n",
    "\n",
    "\n",
    "\n",
    "- What is Jupyter / IPython ?\n",
    "    - A bit of history\n",
    "    - Show basic REPL (as secn 2 of user guide)\n",
    "    - Zeromq: allows parallel and multiple front-ends\n",
    "    - Show use of protocol for parallel, but also multiple front-ends\n",
    "    - Now multiple kernels\n",
    "      - Also magics (for IPython at least)\n",
    "    - Notebooks (show screenshot)\n",
    "- How is it architected\n",
    "  - image(s) with magics also"
   ]
  },
  {
   "cell_type": "markdown",
   "metadata": {
    "slideshow": {
     "slide_type": "subslide"
    }
   },
   "source": [
    "<center> <h1> Intro: IPython to Jupyter </h1> </center>\n",
    "\n",
    "- How IPython started: A REPL console\n"
   ]
  },
  {
   "cell_type": "markdown",
   "metadata": {
    "slideshow": {
     "slide_type": "fragment"
    }
   },
   "source": [
    "- evolutions\n",
    "  - messaging protocol enabling\n",
    "  - the notebook\n",
    "  - \"The Big Split\": Jupyter"
   ]
  },
  {
   "cell_type": "code",
   "execution_count": 2,
   "metadata": {
    "collapsed": false,
    "slideshow": {
     "slide_type": "notes"
    }
   },
   "outputs": [
    {
     "data": {
      "text/html": [
       "\n",
       "<!-- Remove html table borders -->\n",
       "<style type=\"text/css\" scoped>\n",
       ".bltab {border-collapse:collapse;}\n",
       ".bltab .first {border-bottom:1px solid #EEE;}\n",
       ".bltab .second {border-top:1px solid #CCC;box-shadow: inset 0 1px 0 #CCC;}\n",
       "</style>"
      ],
      "text/plain": [
       "<IPython.core.display.HTML object>"
      ]
     },
     "metadata": {},
     "output_type": "display_data"
    }
   ],
   "source": [
    "%%html\n",
    "\n",
    "<!-- Remove html table borders -->\n",
    "<style type=\"text/css\" scoped>\n",
    ".bltab {border-collapse:collapse;}\n",
    ".bltab .first {border-bottom:1px solid #EEE;}\n",
    ".bltab .second {border-top:1px solid #CCC;box-shadow: inset 0 1px 0 #CCC;}\n",
    "</style>"
   ]
  },
  {
   "cell_type": "code",
   "execution_count": 3,
   "metadata": {
    "collapsed": false,
    "slideshow": {
     "slide_type": "notes"
    }
   },
   "outputs": [
    {
     "data": {
      "text/html": [
       "<style type=\"text/css\" scoped>\n",
       ".bltab table {     border-collapse: collapse; }\n",
       ".bltab td, th { padding: 0; } /* remove padding */\n",
       ".bltab table,td,tr,th {border:none!important}\n",
       "</style>"
      ],
      "text/plain": [
       "<IPython.core.display.HTML object>"
      ]
     },
     "metadata": {},
     "output_type": "display_data"
    }
   ],
   "source": [
    "%%html\n",
    "<style type=\"text/css\" scoped>\n",
    ".bltab table {     border-collapse: collapse; }\n",
    ".bltab td, th { padding: 0; } /* remove padding */\n",
    ".bltab table,td,tr,th {border:none!important}\n",
    "</style>"
   ]
  },
  {
   "cell_type": "code",
   "execution_count": 4,
   "metadata": {
    "collapsed": false,
    "slideshow": {
     "slide_type": "notes"
    }
   },
   "outputs": [
    {
     "data": {
      "text/html": [
       "<!-- This will remove borders of *all* tables -->\n",
       "<style type=\"text/css\" scoped>\n",
       ".bltab table {     border-collapse: collapse; }\n",
       ".bltab td, th { padding: 0; } /* remove padding */\n",
       ".bltab table,td,tr,th {border:none!important}\n",
       "</style>"
      ],
      "text/plain": [
       "<IPython.core.display.HTML object>"
      ]
     },
     "metadata": {},
     "output_type": "display_data"
    }
   ],
   "source": [
    "%%html\n",
    "<!-- This will remove borders of *all* tables -->\n",
    "<style type=\"text/css\" scoped>\n",
    ".bltab table {     border-collapse: collapse; }\n",
    ".bltab td, th { padding: 0; } /* remove padding */\n",
    ".bltab table,td,tr,th {border:none!important}\n",
    "</style>"
   ]
  },
  {
   "cell_type": "code",
   "execution_count": 4,
   "metadata": {
    "collapsed": false,
    "slideshow": {
     "slide_type": "notes"
    }
   },
   "outputs": [
    {
     "data": {
      "text/html": [
       "<!-- This will remove borders of *all* tables -->\n",
       "<style type=\"text/css\" scoped>\n",
       "table {     border-collapse: collapse; }\n",
       "td, th { padding: 0; } /* remove padding */\n",
       "table,td,tr,th {border:none!important}\n",
       "</style>"
      ],
      "text/plain": [
       "<IPython.core.display.HTML object>"
      ]
     },
     "metadata": {},
     "output_type": "display_data"
    }
   ],
   "source": [
    "%%html\n",
    "<!-- This will remove borders of *all* tables -->\n",
    "<style type=\"text/css\" scoped>\n",
    "table {     border-collapse: collapse; }\n",
    "td, th { padding: 0; } /* remove padding */\n",
    "table,td,tr,th {border:none!important}\n",
    "</style>"
   ]
  },
  {
   "cell_type": "markdown",
   "metadata": {
    "slideshow": {
     "slide_type": "subslide"
    }
   },
   "source": [
    "<style type=\"text/css\" scoped>\n",
    ".bltab {border-collapse:collapse;}\n",
    ".bltab .first {border-bottom:1px solid #EEE;}\n",
    ".bltab .second {border-top:1px solid #CCC;box-shadow: inset 0 1px 0 #CCC;}\n",
    "\n",
    "/*#table {  border-collapse: collapse; }\n",
    "td, th { padding: 0; } /* remove padding */\n",
    "table,td,tr,th {border:none!important}*/\n",
    "</style>\n",
    "<table class=\"bltab\">\n",
    "<tbody>\n",
    "<tr><td><a href=\"http://ipython.org/\"><img src=\"http://www.i-programmer.info/images/stories/News/2013/Aug/A/ipython.jpg\" border=0 height=90 width=90/></a></td><td>\n",
    "<center> <h1> IPython - the Console </h1> </center> </td></tr>\n",
    "</tbody>\n",
    "</table>\n",
    "\n",
    "<center>\"*an afternoon hack*\" (Nov 2001) by Fernando Perez</center> \n",
    "\n",
    "<table class=\"bltab\">\n",
    "<tbody>\n",
    "<tr><td>\n",
    "The exploration process\n",
    "<ul>\n",
    "<li>Individual Analysis\n",
    "</li><li>Collaborative work\n",
    "</li><li>Publication of **reproducible results**\n",
    "</li><li>Education\n",
    "</li><li>Repeat\n",
    "</li>\n",
    "</ul>\n",
    "</td><td> <center>\n",
    "    <img src=\"images/IPythonConsole.png\" width=400 />IPython console **REPL**<br/> (Read-Eval-Print-Loop)\n",
    "</center> </td></tr>\n",
    "</tbody>\n",
    "</table>\n",
    "\n",
    "</center>"
   ]
  },
  {
   "cell_type": "markdown",
   "metadata": {
    "slideshow": {
     "slide_type": "subslide"
    }
   },
   "source": [
    "<center> <h1> The messaging protocol </h1>  \n",
    "<img src=\"images/IPython_Architecture1.png\" width=600 />\n",
    "2010: envisaged to support multi-processing\n",
    "<br/><br/>\n",
    "enabled multiple front-ends for the IPython kernel\n",
    "</center>"
   ]
  },
  {
   "cell_type": "markdown",
   "metadata": {
    "slideshow": {
     "slide_type": "subslide"
    }
   },
   "source": [
    "<center> <h1> ... the protocol enables different kernels </h1>  \n",
    "<img src=\"images/IPython_Architecture2.png\" width=600/>\n",
    "<br/>\n",
    "**Note**: persistent kernels, unlike **cell magics**.\n",
    "<br/>\n",
    "<br/>\n",
    "A notebook runs under one kernel\n",
    "</center>"
   ]
  },
  {
   "cell_type": "markdown",
   "metadata": {
    "slideshow": {
     "slide_type": "subslide"
    }
   },
   "source": [
    "<center> <h1> IPython - the QtConsole </h1> \n",
    "<br/><br/>\n",
    "![QtConsole](images/ExampleConsole.png)\n",
    "</center>"
   ]
  },
  {
   "cell_type": "markdown",
   "metadata": {
    "slideshow": {
     "slide_type": "subslide"
    }
   },
   "source": [
    "<center><h1>The (Jupyter) Notebook</h1></center>\n",
    "<pre>web app to create & share documents of  code, equations, visualizations and explanatory text as a **(reproducible) narrative**.</pre>\n",
    "<img class=\"img-responsive\" src=\"images/NotebookRichOutput.png\" width=800 />\n",
    "\n",
    "<!--\n",
    "![Notebook](images/JupyterNotebook.png) \n",
    "The Jupyter Notebook is a web application that allows you to create and share documents that contain live code, equations, visualizations and explanatory text.\n",
    "<br/>Uses include: data cleaning and transformation, numerical simulation, statistical modeling, machine learning and much more.\n",
    "<img class=\"img-responsive\" src=\"http://jupyter.org/assets/jupyterpreview.png\" width=600 />\n",
    "-->\n"
   ]
  },
  {
   "cell_type": "markdown",
   "metadata": {
    "slideshow": {
     "slide_type": "notes"
    }
   },
   "source": [
    "# What is Jupyter (& IPython) ?\n",
    "\n",
    "The Jupyter [notebook interface](http://localhost:8870/tree) consists of\n",
    "- a Dashboard (File explorer, Running, Clusters)\n",
    "- a File editor\n",
    "- a Terminal\n",
    "- The notebook itself running the selected kernel, comprised of\n",
    "  - input cells: code or markdown\n",
    " ** ability to mix code, markdown and rich media allows to create a narrative **\n",
    "  - output cells: can include plots, graphics\n",
    "\n",
    "Notebooks are stored in the JSON-based .ipynb file format"
   ]
  },
  {
   "cell_type": "markdown",
   "metadata": {
    "slideshow": {
     "slide_type": "slide"
    }
   },
   "source": [
    "<table class=\"bltab\">\n",
    "<tbody>\n",
    "<tr><td><a href=\"http://jupyter.org/\"><img src=\"https://encrypted-tbn3.gstatic.com/images?q=tbn:ANd9GcSnQKaJ94EsgiFwt6RrjGxvYV_LbJKAW0KZkpM9TUuk4F28wLTbWQ\" border=0 height=90 width=90/></a></td><td>\n",
    "<center><h1>The Jupyter Project</h1></center>\n",
    "</td></tr></tbody>\n",
    "</table>\n",
    "The Jupyter Project *\"Big Split\"* was announced at SciPy in July 2014.\n",
    "<br/><br/>\n",
    "2015: release of **Jupyter 1.0** and **IPython 4.0**.\n",
    "<table border=\"0\"><tr><td>\n",
    "Repackaging of monolithic IPython code:\n",
    "<br/>\n",
    "- IPython - one of many kernels\n",
    "- Jupyter - notebook front-end\n",
    "</td><td>\n",
    "<a href=\"http://www.splung.com/cosmology/images/galileonotebook.gif\"><img src=\"images/Gallileo_Jupiter_Moons_Notebook.png\" border=0 height=100 width=500/>Gallileos' notebooks</a></td></tr></table><br/><br/>"
   ]
  },
  {
   "cell_type": "markdown",
   "metadata": {
    "slideshow": {
     "slide_type": "slide"
    }
   },
   "source": [
    "<center> <h1> Jupyter: \"*Classic*\" uses </h1> </center>\n",
    "- Data analysis, visualisation, multi-language, across all domains\n",
    "  - physics, astro-physics, LHC, [LIGO proof](https://losc.ligo.org/events/GW150914/), chemistry, biology, genomics\n",
    "  - Finance, \"whistle blowers\" Panama Papers\n",
    "\n",
    "-  Viewable examples at\n",
    "   - [nbviewer [https://nbviewer.org] - links to github](https://nbviewer.org)\n",
    "   - [github - more than 200k notebooks](https://github.com)\n",
    "   - [IPython gallery [https://github.com/ipython/ipython/wiki]](https://github.com/ipython/ipython/wiki/A-gallery-of-interesting-IPython-Notebooks)\n",
    "   - [nb.binap.net [http://nb.bianp.net/]](http://nb.bianp.net/sort/views/)\n"
   ]
  },
  {
   "cell_type": "markdown",
   "metadata": {
    "slideshow": {
     "slide_type": "slide"
    }
   },
   "source": [
    "<center> <h1> Jupyter: Running notebooks </h1> </center>\n",
    "- Install via your Linux, OSX, Windows Python distribution + Pip, or Anaconda\n",
    "- JupyterHub\n",
    "  \n",
    "-  Or via hosting\n",
    "  - Azure [TODO: name ..]\n",
    "  - Google [TODO: name ..]\n",
    "  - IBM [TODO: name ..]\n",
    "  - AWS?\n",
    "\n",
    "-  Or via runnable environments\n",
    "  - tryjupyter.org\n",
    "  - Binder (https://mybinder.org)\n",
    "\n"
   ]
  },
  {
   "cell_type": "markdown",
   "metadata": {
    "slideshow": {
     "slide_type": "notes"
    }
   },
   "source": [
    "# NOTES: Installing Jupyter\n",
    "\n",
    "For a native installation\n",
    "- Recommended: install Jupyter using the Anaconda distribution [Continuum Analytics]\n",
    "<br/>\n",
    "This provides the IPython kernel only.\n",
    "<br/>\n",
    "- or pip install jupyter\n",
    "<br/>\n",
    "<br/>\n",
    "You can then customize your config and install\n",
    "  - Kernels for other languages/environments, e.g. Anaconda's R-Essentials package\n",
    "  - Extension widgets\n",
    "  - Notebooks !!\n",
    "\n",
    "Or\n",
    "- Alternatively, several docker images are available on DockerHub (e.g. [jupyter/demo](https://hub.docker.com/r/jupyter/demo/))\n",
    "- or you can try out [try.jupyter.org](https://try.jupyter.org/)"
   ]
  },
  {
   "cell_type": "markdown",
   "metadata": {
    "slideshow": {
     "slide_type": "slide"
    }
   },
   "source": [
    "<center>\n",
    "    <h1> Kernels, Widgets & Extensions </h1>\n",
    "</center>"
   ]
  },
  {
   "cell_type": "markdown",
   "metadata": {
    "slideshow": {
     "slide_type": "subslide"
    }
   },
   "source": [
    "<center>\n",
    "<h4>~ 50 Kernels</h4>\n",
    "Kernels are execution environments - typically a language\n",
    "[[Kernels Page]](https://github.com/ipython/ipython/wiki/IPython-kernels-for-other-languages)\n",
    "</center>\n",
    "\n",
    "|||||\n",
    "---- | ---\n",
    "**IJulia** | IHaskell | IFSharp | IRuby | IGo\n",
    "IScilab | IMatlab | **Bash** | Clojure | Hy\n",
    "idl_kernel | Mochi | Lua | **Spark** | Skulpt Pyt\n",
    "**MetaKernel** | MetaKernel_Bash | Brython | IVisual VP | Brainfuck\n",
    "IScala | IMathics | IAldor | Calico Pro | LuaJIT/Tor\n",
    "IForth | **IPerl** | **IPerl6** | IPHP | IOctave\n",
    "KDB+/Q Ker | ICryptol | **C++ (cling)** | Xonsh | Prolog\n",
    "cl-jupyter | **IRKernel** | Calysto LC | Java 9 |\n",
    "Redis | jove | IJavascrip | Calysto Sc | Calysto Pr\n",
    "Lua | Simple exa | IErlang | IElixir | IOCaml"
   ]
  },
  {
   "cell_type": "markdown",
   "metadata": {
    "slideshow": {
     "slide_type": "subslide"
    }
   },
   "source": [
    "<center><h1>Widgets - TODO</h1>\n",
    "#### Widgets TODO [[Widgets page]](http://TODO)\n",
    "Collection of extensions available at https://github.com/ipython-contrib/IPython-notebook-extensions\n",
    "<br/>Show http://localhost:8888/nbextensions/\n",
    "</center>\n",
    "Widgets available:\n",
    "- [**TODO**](https://github.com/damianavila/RISE) - **these slides are running under Jupyter**\n",
    "- [TODO](https://nbgrader.readthedocs.org/en/stable/) - creation/grading of classroom assignments\n",
    "- [TODO](https://github.com/jhamrick/plotchecker) - grading of plots\n",
    "- [TODO](https://pypi.python.org/pypi/hide_code) - hide code cells\n",
    "- [TODO](https://athena.brynmawr.edu/jupyter/hub/dblank/public//Activity%20Magic.ipynb) - anonymous polls\n"
   ]
  },
  {
   "cell_type": "markdown",
   "metadata": {
    "slideshow": {
     "slide_type": "subslide"
    }
   },
   "source": [
    "<center><h1>Extensions</h1>\n",
    "#### Notebook Extensions [[Extensions page]](https://carreau.gitbooks.io/jupyter-book/content/notebook-extensions.html)\n",
    "Collection of extensions available at https://github.com/ipython-contrib/IPython-notebook-extensions\n",
    "<br/>Show http://localhost:8888/nbextensions/\n",
    "</center>\n",
    "Many other extensions available, including:\n",
    "- [**RISE**](https://github.com/damianavila/RISE) - **these slides are running under Jupyter**\n",
    "- [nbgrader](https://nbgrader.readthedocs.org/en/stable/) - creation/grading of classroom assignments\n",
    "- [plotchecker](https://github.com/jhamrick/plotchecker) - grading of plots\n",
    "- [hide_code](https://pypi.python.org/pypi/hide_code) - hide code cells\n",
    "- [clicker](https://athena.brynmawr.edu/jupyter/hub/dblank/public//Activity%20Magic.ipynb) - anonymous polls\n",
    "\n",
    "Generally installable via pip or from github repo"
   ]
  },
  {
   "cell_type": "code",
   "execution_count": null,
   "metadata": {
    "collapsed": true,
    "slideshow": {
     "slide_type": "skip"
    }
   },
   "outputs": [],
   "source": [
    "%%html\n",
    "<!-- USE WITH CARE: This code will change the RISE theming -->\n",
    "<script src=\"js/d3.min.js\"></script>\n",
    "<script>\n",
    "d3.select(\"body\").\n",
    "  style(\"background\", \"#ad4944\").\n",
    "  style(\"background\", \"-moz-radial-gradient(center, circle cover, #f7fbfc 0%, #ad4944 100%\").\n",
    "  style(\"background\", \"-webkit-gradient(radial, center center, 0px, center center, 100%, color-stop(0%, #f7fbfc), color-stop(100%, #ad4944))\").\n",
    "  style(\"background\", \"-webkit-radial-gradient(center, circle cover, #f7fbfc 0%, #ad4944 100%)\").\n",
    "  style(\"background\", \"-o-radial-gradient(center, circle cover, #f7fbfc 0%, #ad4944 100%)\").\n",
    "  style(\"background\", \"-ms-radial-gradient(center, circle cover, #f7fbfc 0%, #ad4944 100%)\").\n",
    "  style(\"background\", \"radial-gradient(center, circle cover, #f7fbfc 0%, #ad4944 100%)\").\n",
    "  style(\"background-color\", \"#f7fbfc\");\n",
    "</script>"
   ]
  },
  {
   "cell_type": "code",
   "execution_count": null,
   "metadata": {
    "collapsed": true,
    "slideshow": {
     "slide_type": "skip"
    }
   },
   "outputs": [],
   "source": [
    "%%html\n",
    "<!-- USE WITH CARE: This code will apply a background image (but without transparency ..) -->\n",
    "<script src=\"js/d3.min.js\"></script>\n",
    "<script>\n",
    "d3.select(\".rise-enabled\").\n",
    "  style(\"background-color\", \"azure !important\").\n",
    "  style(\"font-size\", \"125% !important\").\n",
    "  style(\"background-image\", \"url(images/Jupyter_background.png), linear-gradient(30deg, #7ab8ec, white 75%, white)\").\n",
    "  style(\"background-position\", \"center\").\n",
    "  style(\"background-repeat\", \"no-repeat\").\n",
    "  style(\"background-origin\", \"content-box\").\n",
    "  style(\"filter\", \"alpha(opacity=40)\").\n",
    "  style(\"padding\", \"5px 5px 5px 5px\");\n",
    "</script>"
   ]
  },
  {
   "cell_type": "code",
   "execution_count": 1,
   "metadata": {
    "collapsed": false,
    "slideshow": {
     "slide_type": "subslide"
    }
   },
   "outputs": [
    {
     "data": {
      "text/html": [
       "<!-- Placeholder for colorPicker: from https://github.com/thetylerwolf/d3-colorpicker -->\n",
       "<div class=\"colorPicker\"> <svg width=\"750\"></svg> </div>\n",
       "<script type=\"text/javascript\" src=\"js/d3.min.js\"></script>\n",
       "<link rel=\"stylesheet\" type=\"text/css\" href=\"d3-colorpicker/colorpicker.css\">\n",
       "<script type=\"text/javascript\" src=\"d3-colorpicker/colorPicker.js\"></script>\n",
       "<style> .colorPicker {  height:200px;  width:645px;  margin:auto;  margin-top:200px;  position:relative;} </style>"
      ],
      "text/plain": [
       "<IPython.core.display.HTML object>"
      ]
     },
     "metadata": {},
     "output_type": "display_data"
    }
   ],
   "source": [
    "%%html\n",
    "<!-- Placeholder for colorPicker: from https://github.com/thetylerwolf/d3-colorpicker -->\n",
    "<div class=\"colorPicker\"> <svg width=\"750\"></svg> </ div>\n",
    "<script type=\"text/javascript\" src=\"js/d3.min.js\"></script>\n",
    "<link rel=\"stylesheet\" type=\"text/css\" href=\"d3-colorpicker/colorpicker.css\">\n",
    "<script type=\"text/javascript\" src=\"d3-colorpicker/colorPicker.js\"></script>\n",
    "<style> .colorPicker {  height:200px;  width:645px;  margin:auto;  margin-top:200px;  position:relative;} </style>"
   ]
  },
  {
   "cell_type": "markdown",
   "metadata": {
    "slideshow": {
     "slide_type": "slide"
    }
   },
   "source": [
    "<center>\n",
    "    <h1> The Ecosystem & Future Projects </h1>\n",
    "</center>"
   ]
  },
  {
   "cell_type": "markdown",
   "metadata": {
    "slideshow": {
     "slide_type": "notes"
    }
   },
   "source": [
    "# NOTES: Jupyter Incubator Projects\n",
    "(https://github.com/jupyter-incubator)\n",
    "\n",
    "<table>\n",
    "<tr><td><b> sparkmagic</b></td><td>\n",
    "Jupyter magics and kernels for working with remote Spark clusters\n",
    "</td></tr><tr><td><b> dashboards_setup</b></td><td>\n",
    "Recipes for setting up components related to the incubating dashboards effort\n",
    "</td></tr><tr><td><b> declarativewidgets</b></td><td>\n",
    "Jupyter Declarative Widget Extension\n",
    "</td></tr><tr><td><b> dashboards_server</b></td><td>\n",
    "Server that runs and renders Jupyter notebooks as interactive dashboards\n",
    "</td></tr><tr><td><b> dashboards</b></td><td>\n",
    "Jupyter Dynamic Dashboards from Notebooks\n",
    "</td></tr><tr><td><b> dashboards_bundlers</b></td><td>cv\n",
    "Converts a notebook to a dashboard and deploys it / downloads it\n",
    "</td></tr><tr><td><b> contentmanagement</b></td><td>\n",
    "Jupyter Content Management Extensions\n",
    "</td></tr><tr><td><b> showcase</b></td><td>\n",
    "A spot to try demos of one or more incubating Jupyter projects in Binder\n",
    "</td></tr><tr><td><b> kernel_gateway_bundlers</b></td><td>\n",
    "Converts a notebook to a kernel gateway microservice bundle for download\n",
    "</td></tr><tr><td><b> traittypes</b></td><td>\n",
    "Traitlets types for NumPy, SciPy and friends\n",
    "</td></tr><tr><td><b> proposals</b></td><td>\n",
    "Proposals for new Jupyter subprojects to enter into incubation\n",
    "</td></tr>\n",
    "</table>"
   ]
  },
  {
   "cell_type": "markdown",
   "metadata": {
    "slideshow": {
     "slide_type": "subslide"
    }
   },
   "source": [
    "<center><h1>Jupyter Incubator Projects</h1> (https://github.com/jupyter-incubator)</center>\n",
    "\n",
    "<table>\n",
    "<tr><td><b> proposals</b></td><td>\n",
    "Proposals for new Jupyter subprojects to enter into incubation\n",
    "\n",
    "<tr><td><b> sparkmagic</b></td><td>\n",
    "Jupyter magics and kernels for working with remote Spark clusters\n",
    "\n",
    "</td></tr><tr><td><b> declarativewidgets</b></td><td>\n",
    "Jupyter Declarative Widget Extension\n",
    "\n",
    "</td></tr><tr><td><b> dashboards*</b></td><td>\n",
    "Jupyter Dynamic Dashboards from Notebooks\n",
    "\n",
    "</td></tr><tr><td><b> contentmanagement</b></td><td>\n",
    "Jupyter Content Management Extensions\n",
    "\n",
    "</td></tr><tr><td><b> [showcase](https://github.com/jupyter-incubator/showcase)</b></td><td>\n",
    "A spot to try demos of one or more incubating Jupyter projects in Binder\n",
    "\n",
    "</td></tr><tr><td><b> kernel_gateway_bundlers</b></td><td>\n",
    "Converts a notebook to a kernel gateway microservice bundle for download\n",
    "\n",
    "</td></tr><tr><td><b> traittypes</b></td><td>\n",
    "Traitlets types for NumPy, SciPy and friends\n",
    "\n",
    "</td></tr>\n",
    "</table>"
   ]
  },
  {
   "cell_type": "markdown",
   "metadata": {
    "slideshow": {
     "slide_type": "subslide"
    }
   },
   "source": [
    "# JupyterLab\n",
    "\n",
    "https://github.com/jupyter/jupyterlab/\n",
    "\n",
    "![JupyterLab](https://raw.githubusercontent.com/jupyter/jupyterlab/master/jupyter-plugins-demo.gif)"
   ]
  },
  {
   "cell_type": "markdown",
   "metadata": {},
   "source": [
    "<center><h1>External Jupyter Projects</h1></center>\n",
    "<br/>\n",
    "- Publishers\n",
    "  - books, blogs, reports, theses\n",
    "  - executable books, articles\n",
    "    - e.g. [**Thebe** (O'Reilly)](https://github.com/oreillymedia/thebe) is a simplified notebook interfce\n",
    "       [Blog Post using Thebe](https://www.oreilly.com/learning/introducing-pandas-objects)\n",
    "    - Nature, Scientific American Magazines\n",
    "\n",
    "- Educators\n",
    "  - tutorials, assignments, presentations, documenting\n",
    "  - MOOCs - online education:\n",
    "    - notebook-based (**Edx/Apache Spark**)\n",
    "    - jupyter-integrated (**F.U.N.**)\n",
    "  - in classrooms using JupyterHub\n",
    "</font>"
   ]
  },
  {
   "cell_type": "markdown",
   "metadata": {
    "slideshow": {
     "slide_type": "notes"
    }
   },
   "source": [
    "# NOTES:\n",
    "\n",
    "#### Jupyter Ecosystem\n",
    "The \"*Big Split*\" facilitates innovation around the platform<br/><br/>\n",
    "</center>\n",
    "\n",
    "There are many ongoing projects\n",
    "- static notebook viewers:\n",
    "  - [*IPython Gallery*]() &nbsp;**-->** &nbsp;[nbviewer](http://nbviewer.org), &nbsp;[github](https://github.com)\n",
    "- dynamic notebook viewers:\n",
    "  - [tryjupyter.org](http://tryjupyter.org),&nbsp; JupyterHub,&nbsp; [Bindr](http://bindr.org),&nbsp; [Quantopian](http://quantopian.org)\n",
    "- alternative front-ends:\n",
    "  - Sidecar,&nbsp; [Rodeo IDE v2](http://blog.yhat.com/posts/rodeo-2.0-release.html),&nbsp; [Hydrogen (ATOM)](https://atom.io/packages/hydrogen),&nbsp; [EIN (emacs)](http://millejoh.github.io/emacs-ipython-notebook/)\n",
    "- tools\n",
    "  - nbconvert  (convert between .ipynb and other formats: PDF, html, ...)\n",
    "- kernels & extensions\n",
    "</center>\n",
    "\n",
    "#### Jupyter projects - static notebook rendering\n",
    "**[IPython Gallery](https://github.com/ipython/ipython/wiki/A-gallery-of-interesting-IPython-Notebooks)**\n",
    "Has a list of interesting notebooks ... rendered on **nbviewer** or **github** ...\n",
    "\n",
    "**[nbviewer](http://nbviewer.org)** -You can upload your notebooks to nbviewer which renders them statically (the output cells you already created).\n",
    "Users can download the original notebook.\n",
    "\n",
    "**[github - (example)](https://github.com/rasbt/algorithms_in_ipython_notebooks) ** also renders notebooks statically\n",
    "\n",
    "\n",
    "#### Jupyter projects - dynamic notebook rendering\n",
    "\n",
    "- Try Jupyter: [try.jupyter.org](https://try.jupyter.org/)\n",
    "\n",
    "- JupyterHub: multi-user environment for education\n",
    "\n",
    "- Binder (mybinder.org)\n",
    "\n",
    "- [**Thebe** (O'Reilly)](https://www.oreilly.com/learning/introducing-pandas-objects)\n",
    "OReilly publishing - simplified notebook widget\n",
    "\n",
    "- Watakari (Continuum Analytics)\n",
    "\n",
    "- Stocks Analysis (Quantopian)\n",
    "[quantopian](https://www.quantopian.com/research/survey)\n",
    "\n",
    "- Escherpad"
   ]
  },
  {
   "cell_type": "markdown",
   "metadata": {
    "slideshow": {
     "slide_type": "notes"
    }
   },
   "source": [
    "# NOTES: Jupyter Core Projects\n",
    "<br/><br/><font size=+1>Basic UI enhancements: e.g. shortcuts, cell marking</font>\n",
    "<br/><br/><font size=+1>Notebook tests\n",
    "- unit testing\n",
    "- regression testing\n",
    "- dependency testing\n",
    "\n",
    "#### The Jupyter Project\n",
    "- magics, lanugage kernels, extensions, widgets \n",
    "- nbviewer.org\n",
    "- nbconvert\n",
    "- tmpnb, jupyterhub\n",
    "- incubating projects\n",
    "\n",
    "#### The Jupyter Ecosystem: External projects\n",
    "\n",
    "- Thebe: \"????\"\n",
    "- Hosting: Azure, GCE, ...\n",
    "- Blogs, Books, ...\n",
    "- Binder: [mybinder.org](http://mybinder.org)\n",
    "\n",
    "\n",
    "Currently [incubating sub-projects](https://github.com/jupyter-incubator) (IBM, MSFT involvement)\n",
    "</font>\n",
    "  - [Content Management](https://github.com/jupyter-incubator/contentmanagement)\n",
    "    - Search, include, modularity, ToC  [ex](http://jupyter.cloudet.xyz/user/BWjC4e69eYwv/notebooks/index.ipynb)\n",
    "  - [Dashboards](https://github.com/jupyter-incubator/dashboards)\n",
    "    - Different notebook layouts, bundling as web apps [ex](http://jupyter.cloudet.xyz/user/BWjC4e69eYwv/notebooks/index.ipynb)\n",
    "  - [SparkMagic](https://github.com/jupyter-incubator/sparkmagic)\n",
    "    - Connecting to external Spark Engines\n",
    "  - [Declarative Widgets](https://github.com/jupyter-incubator/declarativewidgets)\n",
    "    - Widgets with less code [ex](http://jupyter.cloudet.xyz/user/BWjC4e69eYwv/notebooks/index.ipynb)\n",
    "  - [Kernel Gateway](https://github.com/jupyter-incubator/kernel_gateway)\n",
    "    - Enable more deployment scenarios at scale\n",
    "</font>"
   ]
  },
  {
   "cell_type": "markdown",
   "metadata": {
    "slideshow": {
     "slide_type": "subslide"
    }
   },
   "source": [
    "<center><h1>OReilly [Blog Article](https://www.oreilly.com/learning/introducing-pandas-objects) - web page Front End</h1></center>\n",
    "\n",
    "<img src=\"images/OReilly_Phebe_PandasArticle.PNG\" width=500/>"
   ]
  },
  {
   "cell_type": "markdown",
   "metadata": {
    "slideshow": {
     "slide_type": "subslide"
    }
   },
   "source": [
    "<center><h1> MOOCs, e.g. F.U.N. </h1></center>\n",
    "<br/><a href=\"https://www.france-universite-numerique-mooc.fr/courses/inria/41001S02/session02/courseware/5ec24fe4d294490795d69befc8e19870/8ff1435df3c846fdb0cb42adfd11c3ab/\">\n",
    "<img src=\"images/MOOC_FUN_Jupyter_Integrated.png\" width=1400 />\n",
    "</a>"
   ]
  },
  {
   "cell_type": "markdown",
   "metadata": {
    "slideshow": {
     "slide_type": "slide"
    }
   },
   "source": [
    "# Jupyter for Everything Else\n",
    "\n",
    "- Use of web technologies: anythig goes\n",
    "- Use of bash kernel for command-line work\n",
    "- Supplement command-line tools with graphics\n",
    "- Create interactive presentations (thanks *RISE* extension !)\n",
    "- Publish interactive books, articles and blog posts"
   ]
  },
  {
   "cell_type": "markdown",
   "metadata": {
    "slideshow": {
     "slide_type": "notes"
    }
   },
   "source": [
    "# NOTES: Jupyter for Everything Else\n",
    "\n",
    "- HTML/JavaScript/css/SVG experimentation\n",
    "  - Show useful d3.js animation (chart, or chart+js widget)\n",
    "- Write command-line tutorials, cheat sheets in an easy to maintain format.\n",
    "- Supplement command-line tools with graphics\n",
    "- Write blog posts\n",
    "- Create interactive presentations (thanks *RISE* extension !)\n",
    "- Publish interactive books, articles and blog posts\n",
    "  - OReilly, ... (bring in Pao slides)\n",
    "- nbconvert to automatically execute, convert notebooks"
   ]
  },
  {
   "cell_type": "markdown",
   "metadata": {
    "slideshow": {
     "slide_type": "subslide"
    }
   },
   "source": [
    "# Everything Else : web technologies\n",
    "\n",
    "- HTML/JavaScript/css experimentation\n",
    "  - Many HTML, CSS, JS capabilities if you proceed with care\n",
    "  - d3.js animation in some cases\n",
    "    - Want more interactivity\n",
    "    - Prototyping a D3 project\n",
    "    - Want to reuse existing D3 e.g. from http://bl.orcks.org\n",
    "\n",
    "- SVG"
   ]
  },
  {
   "cell_type": "code",
   "execution_count": 9,
   "metadata": {
    "collapsed": false,
    "slideshow": {
     "slide_type": "fragment"
    }
   },
   "outputs": [
    {
     "data": {
      "text/html": [
       "\n",
       "TODO: svg"
      ],
      "text/plain": [
       "<IPython.core.display.HTML object>"
      ]
     },
     "metadata": {},
     "output_type": "display_data"
    }
   ],
   "source": [
    "%%html\n",
    "\n",
    "TODO: svg"
   ]
  },
  {
   "cell_type": "markdown",
   "metadata": {},
   "source": [
    "# Everything Else : command-line\n",
    "\n",
    "## About [Calysto](https://github.com/Calysto) Metakernels\n",
    "\n",
    "<img src=\"images/github_Calysto.PNG\" width=300/>\n",
    "\n"
   ]
  },
  {
   "cell_type": "markdown",
   "metadata": {
    "slideshow": {
     "slide_type": "subslide"
    }
   },
   "source": [
    "# Everything Else : command-line\n",
    "\n",
    "- Write command-line tutorials, cheat sheets in an easy to maintain format.\n",
    "   - host \"live\" notebooks online on [Binder (https://mybinder.org)](https://mybinder.org)\n",
    "   ![](images/launch_binder.svg)\n",
    "   \n",
    "- [Blog posting](http://mjbright.blogspot.fr/2016/05/the-art-of-command-line-ls-seen-from.html) with link to live notebook of bash tutorials\n",
    "   "
   ]
  },
  {
   "cell_type": "markdown",
   "metadata": {
    "slideshow": {
     "slide_type": "subslide"
    }
   },
   "source": [
    "# Everything Else : command-line / graphics\n",
    "\n",
    "- Supplement command-line tools with graphics\n",
    "\n",
    "  Stay within command-line paradigm but supplement with graphic tools"
   ]
  },
  {
   "cell_type": "markdown",
   "metadata": {
    "slideshow": {
     "slide_type": "subslide"
    }
   },
   "source": [
    "# Everything Else : Publishing\n",
    "\n",
    "- Publish interactive books, articles and blog posts\n",
    "  - OReilly, Thebe/Atlas\n",
    "  - TODO: Pelican (jvdp)\n"
   ]
  },
  {
   "cell_type": "markdown",
   "metadata": {
    "slideshow": {
     "slide_type": "subslide"
    }
   },
   "source": [
    "# Everything Else : Live Presentations\n",
    "\n",
    "- Create interactive presentations (thanks *RISE* extension !)\n",
    "\n",
    "with integrated runnable code"
   ]
  },
  {
   "cell_type": "code",
   "execution_count": 5,
   "metadata": {
    "collapsed": false,
    "slideshow": {
     "slide_type": "fragment"
    }
   },
   "outputs": [
    {
     "name": "stdout",
     "output_type": "stream",
     "text": [
      "hello world from Python v3.5.1(final)\n"
     ]
    }
   ],
   "source": [
    "%%python\n",
    "\n",
    "import sys\n",
    "print('hello world from Python v{}.{}.{}({})'.format(sys.version_info[0],sys.version_info[1],sys.version_info[2],sys.version_info[3]))\n"
   ]
  },
  {
   "cell_type": "markdown",
   "metadata": {
    "slideshow": {
     "slide_type": "subslide"
    }
   },
   "source": [
    "# Everything Else : Using nbconvert\n",
    "\n",
    "- Use nbconvert\n",
    "  - To execute notebooks from the command-line, from cron\n",
    "  - Automatically run notebook, create html<br/>\n",
    "    ```nbconvert --execute --to html Monitoring.ipynb```\n",
    "  - Run status reports, send results as HTML e-mail\n",
    "  \n",
    "  - send html as e-mail via cron\n",
    "  - SNAPSHOT image of status e-mail"
   ]
  },
  {
   "cell_type": "markdown",
   "metadata": {
    "slideshow": {
     "slide_type": "subslide"
    }
   },
   "source": [
    "# Everything Else : To come ..\n",
    "\n",
    "- More Metakernel_Bash experimebts\n",
    "\n",
    "- Xonsh_kernel\n",
    "  - Take advantage of new Python / unix-like shell\n",
    "  \n",
    "- CLing kernel\n",
    "  "
   ]
  },
  {
   "cell_type": "markdown",
   "metadata": {
    "slideshow": {
     "slide_type": "slide"
    }
   },
   "source": [
    "<center><h1>IPython / Jupyter Books</h1></center>\n",
    "\n",
    "|  | \n",
    "------------- | -------------\n",
    "<a href=\"https://www.gitbook.com/book/carreau/jupyter-book/details\"><h3>The Jupyter GitBook</h3></a> <h6>Extension writing</h6> | <img src=\"images/Books/gitbook_jupyter-book.jpg\" width=180 />\n",
    "<a href=\"http://cyrille.rossant.net/books/\"><h3>Learning IPython for Interactive Computing & Data Visualization </h3> </a> Cyrille Rossant <h6> Introductory usage</h6> | <img src=\"images/Books/PPub_Rossant_minibook.jpg\" width=180 />\n",
    "<a href=\"http://cyrille.rossant.net/books/\"><h3> IPython Interactive Computing & Visualization Cookbook  </h3></a> Cyrille Rossant<h6>Advanced usage </h6>  | <img src=\"images/Books/PPub_Rossant_cookbook.jpg\" width=180 />"
   ]
  },
  {
   "cell_type": "markdown",
   "metadata": {
    "slideshow": {
     "slide_type": "slide"
    }
   },
   "source": [
    "<center>\n",
    "<br/><br/>\n",
    "<h3> <font color=\"#88f\"> Jupyter is a fast-moving Open Source project<br/>\n",
    "widely used for Data Analysis<br/>\n",
    "with a vibrant ecosystem ... <br/>\n",
    "<b>but it has many uses outside Python/R/Julia, and data science</font></h3>\n",
    "<br/><br/><br/>\n",
    "    <h1> Questions ?</h1>\n",
    "<br/><br/><br/>\n",
    "    ![The End](images/END_sillywalk.jpg)\n",
    "    <br/>\n",
    "<font size=+1>\n",
    "<i class=\"fa-github fa-2x fa\"> [mjbright](https://github.com/mjbright)</i>&nbsp;&nbsp;\n",
    "<i class=\"fa-twitter fa-2x fa\"> [@mjbright](http://twitter.com/mjbright)</i>&nbsp;&nbsp;\n",
    "<i class=\"fa-envelope fa-2x fa\"> mjbrightfr AT gmail</i>&nbsp;&nbsp;\n",
    "<i class=\"fa-user fa-2x fa\"> [mjbright.github.io](http://mjbright.github.io)</i>\n",
    "</font>\n",
    "</center>\n"
   ]
  },
  {
   "cell_type": "markdown",
   "metadata": {
    "slideshow": {
     "slide_type": "slide"
    }
   },
   "source": [
    "# References\n",
    "\n",
    "[Jupyter HackPad](https://jupyter.hackpad.com/)"
   ]
  },
  {
   "cell_type": "markdown",
   "metadata": {},
   "source": [
    "# Other envts\n",
    "\n",
    "# Tensor Flow\n",
    "http://raspberry-python.blogspot.fr/2015/12/tensorflow-jupyter-notebook.html\n",
    "\n",
    "# Tensor Flow on RPi (no Jupyter!)\n",
    "https://github.com/samjabrahams/tensorflow-on-raspberry-pi\n",
    "\n",
    "# BeagleBone ?\n",
    "http://mrandrewandrade.com/blog/2015/10/23/measure-temperature-thermistor-beaglebone.html\n",
    "\n",
    "\n"
   ]
  },
  {
   "cell_type": "markdown",
   "metadata": {
    "slideshow": {
     "slide_type": "notes"
    }
   },
   "source": [
    "# Outline\n",
    "- Introduction: From IPython to Jupyter\n",
    "  - IPython kernel (with magics)\n",
    "  - Jupyter notebook and kernels (diagram)\n",
    "- \"*Classic*\" use\n",
    "  - Data analysis, visualisation, multi-language\n",
    "- The Jupyter Ecosystem:\n",
    "  - The \"inner\" ecosystem: nbviewer, nbconvert, tmpnb, binder, jupyterhub, incubating, ...\n",
    "  - The \"outer\" ecosystem: Thebe, Azure, ...\n",
    "- Doing everything else with Jupyter\n",
    "\n",
    "- From IPython to Jupyter\n",
    "  - IPython\n",
    "      - magics, notebook\n",
    "  - Jupyter (diagram)\n",
    "  - Show IPython+magics(langs), Jupyter + kernels(IPython,bash,...)\n",
    "  - Show Python data anal+graphics\n",
    "  - Show R + graphics\n",
    "  - Show bash_kernel + graphics\n",
    "      \n",
    "- Jupyter Ecosystem\n",
    "- Doing lots of stuff with Jupyter\n",
    "- Doing everything else with Jupyter\n",
    "\n",
    "\n",
    "Very rough draft of Jupyter presn (scenarii, search ideas, look at “awesome-python++”)\n",
    "What is Jupyter and why?\n",
    "Getting started\t\n",
    "What it’s used for\n",
    "Many uses, extensions, eco-system\n",
    "What Else?\n",
    "My favourites; bash_kernel, RISE, nbgrader, jupyter-hub\n",
    "HTML? JavaScript? BrythonMagic? Polymer? NodeJS?\n",
    "End? Alternatives? (Zeppelin, SMC, MathLab)"
   ]
  },
  {
   "cell_type": "markdown",
   "metadata": {
    "collapsed": true,
    "slideshow": {
     "slide_type": "notes"
    }
   },
   "source": [
    "From:\n",
    "    https://ep2016.europython.eu/conference/talks/jupyter-for-everything-else\n",
    "    \n",
    "# JUPYTER FOR EVERYTHING ELSE\n",
    "\n",
    "Speaker(s) Mike BRIGHT\n",
    "\n",
    "Sure you can do a chunk of scientific exploration and stuff in Jupyter in your choice of language supplemented with visuals and that’s already awesome !\n",
    "\n",
    "But let’s head off the beaten track a little to look at other uses, especially command-line.\n",
    "\n",
    "We’ll look at some alternate uses of Jupyter …\n",
    "\n",
    "- Write command-line tutorials, cheat sheets in an easy to maintain format.\n",
    "- Perform visualization tasks for command-line tools\n",
    "- Write blog posts\n",
    "- Create interactive presentations (thanks Damian !)\n",
    "- Publish interactive books, articles and blog posts\n",
    "- HTML/js/css experimentation\n",
    "\n",
    "is on Friday 22 July at 10:30\n",
    "EN, Duration 45 minutes (inc. Q&A)\n",
    "TAGs: Visualization, Docker, Jupyter/iPython Notebook, Command-Line, Use Case\n",
    "    \n",
    "CONTACTS EUROPYTHON 2016 TEAM PRIVACY POLICY CODE OF CONDUCT\n",
    "© 2015-2016 EUROPYTHON SOCIETY (EPS) | TRADEMARKS | IMPRINT | CODE OF CONDUCT | PHOTO REFERENCES"
   ]
  },
  {
   "cell_type": "markdown",
   "metadata": {
    "slideshow": {
     "slide_type": "notes"
    }
   },
   "source": [
    "## Things to investigate, references ...\n",
    "\n",
    "Ask on Google Groups about HTML/CSS/JS limits and workarounds, e.g. IFrames for HTML ...\n",
    "- [Use of HTML in Jupyter](https://www.google.fr/webhp?sourceid=chrome-instant&ion=1&espv=2&ie=UTF-8#q=using%20html%20in%20jupyter%20ipython)\n",
    "- [Use of CSS in Jupyter](https://www.google.fr/webhp?sourceid=chrome-instant&ion=1&espv=2&ie=UTF-8#q=using+css+in+jupyter+ipython)\n",
    "- [Use of JS in Jupyter](https://www.google.fr/webhp?sourceid=chrome-instant&ion=1&espv=2&ie=UTF-8#q=using%20javascript%20in%20jupyter%20ipython)\n",
    "\n",
    "- [BashPlotlib ??!!](https://github.com/glamp/bashplotlib)\n",
    "- [DataFrame as table](http://stackoverflow.com/questions/26873127/print-dataframe-as-table-in-ipython-notebook)\n",
    "\n"
   ]
  },
  {
   "cell_type": "markdown",
   "metadata": {
    "slideshow": {
     "slide_type": "slide"
    }
   },
   "source": [
    "# The End ..."
   ]
  }
 ],
 "metadata": {
  "celltoolbar": "Slideshow",
  "kernelspec": {
   "display_name": "Python 3",
   "language": "python",
   "name": "python3"
  },
  "language_info": {
   "codemirror_mode": {
    "name": "ipython",
    "version": 3
   },
   "file_extension": ".py",
   "mimetype": "text/x-python",
   "name": "python",
   "nbconvert_exporter": "python",
   "pygments_lexer": "ipython3",
   "version": "3.5.1"
  },
  "livereveal": {
   "height": "800",
   "theme": "sky",
   "width": "1280"
  },
  "toc": {
   "navigate_menu": true,
   "number_sections": true,
   "sideBar": true,
   "threshold": 6,
   "toc_cell": false,
   "toc_section_display": "block",
   "toc_window_display": false
  },
  "widgets": {
   "state": {},
   "version": "1.1.2"
  }
 },
 "nbformat": 4,
 "nbformat_minor": 0
}
