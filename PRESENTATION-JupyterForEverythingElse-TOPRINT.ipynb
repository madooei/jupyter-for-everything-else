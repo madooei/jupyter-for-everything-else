{
 "cells": [
  {
   "cell_type": "code",
   "execution_count": 1,
   "metadata": {
    "collapsed": false,
    "slideshow": {
     "slide_type": "slide"
    }
   },
   "outputs": [
    {
     "name": "stdout",
     "output_type": "stream",
     "text": [
      "Last update: 2016-07-28 21:21:49.986345\n"
     ]
    }
   ],
   "source": [
    "import datetime\n",
    "print(\"Last update: \" + str(datetime.datetime.now()))"
   ]
  },
  {
   "cell_type": "code",
   "execution_count": 2,
   "metadata": {
    "collapsed": false,
    "slideshow": {
     "slide_type": "subslide"
    }
   },
   "outputs": [
    {
     "data": {
      "text/html": [
       "<h3>Select Theme</h3><select id=\"theme-list0\"></select>\n",
       "<script src=\"js/d3.min.js\"></script>\n",
       "<script src=\"RISE_themes/RISE_themes.js\"></script>\n",
       "<!-- NOTE: This cell must be code/%%html not markdown for css to be handled -->    \n",
       "<!-- NOTE: table test (class \"noborder\"): want no borders                -->\n",
       "<style> .noborder, .noborder tr, .noborder th, .noborder td { \n",
       "    border-collapse: collapse; border: 0px; border: none!important;\n",
       "} </style>\n",
       "\n",
       "<table class=\"noborder\"><tbody><tr><td> Cell1 </td><td> Cell2 </td></tr></tbody></table>\n",
       "<table><tbody><tr><td> BorderedCell1 </td><td> BorderedCell2 </td></tr></tbody></table>"
      ],
      "text/plain": [
       "<IPython.core.display.HTML object>"
      ]
     },
     "metadata": {},
     "output_type": "display_data"
    }
   ],
   "source": [
    "%%html\n",
    "<h3>Select Theme</h3><select id=\"theme-list0\"></select>\n",
    "<script src=\"js/d3.min.js\"></script>\n",
    "<script src=\"RISE_themes/RISE_themes.js\"></script>\n",
    "<!-- NOTE: This cell must be code/%%html not markdown for css to be handled -->    \n",
    "<!-- NOTE: table test (class \"noborder\"): want no borders                -->\n",
    "<style> .noborder, .noborder tr, .noborder th, .noborder td { \n",
    "    border-collapse: collapse; border: 0px; border: none!important;\n",
    "} </style>\n",
    "\n",
    "<table class=\"noborder\"><tbody><tr><td> Cell1 </td><td> Cell2 </td></tr></tbody></table>\n",
    "<table><tbody><tr><td> BorderedCell1 </td><td> BorderedCell2 </td></tr></tbody></table>"
   ]
  },
  {
   "cell_type": "markdown",
   "metadata": {
    "slideshow": {
     "slide_type": "slide"
    }
   },
   "source": [
    "<center> <h1>Jupyter for Everything Else</h1>\n",
    "<h3>Michael Bright, <a href=\"https://ep2016.europython.eu/conference/talks/jupyter-for-everything-else\">EuroPython 2016 - Bilbao, 22 July</a>.</h3>\n",
    "<img src=\"images/DEMO_OpenStack_API_D3.png\" width=350 />\n",
    "<br/>\n",
    "<font size=-1>\n",
    "<i class=\"fa-github fa-2x fa\"> [mjbright](https://github.com/mjbright)</i>&nbsp;&nbsp;\n",
    "<i class=\"fa-twitter fa-2x fa\"> [@mjbright](http://twitter.com/mjbright)</i>&nbsp;&nbsp;\n",
    "<i class=\"fa-envelope fa-2x fa\"> mjbrightfr AT gmail</i>&nbsp;&nbsp;\n",
    "<i class=\"fa-user fa-2x fa\"> [mjbright.github.io](http://mjbright.github.io)</i>\n",
    "</font>\n",
    "</center>"
   ]
  },
  {
   "cell_type": "markdown",
   "metadata": {
    "slideshow": {
     "slide_type": "subslide"
    }
   },
   "source": [
    "<center>\n",
    "<h3>Solution Architect Hewlett-Packard Enterprise</h3>\n",
    "Working in the EMEA OpenNFV lab, Grenoble, France.\n",
    "</center>\n",
    "\n",
    "\n",
    "![xx](images_me/grenoble-pont-st-laurent.png)\n",
    "![xx](images_me/python.png)\n"
   ]
  },
  {
   "cell_type": "markdown",
   "metadata": {
    "slideshow": {
     "slide_type": "slide"
    }
   },
   "source": [
    "<center> <h1> Outline </h1> </center>\n",
    "- Introduction: From IPython to Jupyter\n",
    "- The Jupyter Project & Ecosystem:\n",
    "  - Kernels, Widgets, Extensions, Tools\n",
    "  - Incubating & ext. projects, Hosting\n",
    "- Jupyter for Everything Else\n",
    "  - Web, Command-line, Live Blogging\n",
    "  - Presenting, Automated Status reports"
   ]
  },
  {
   "cell_type": "markdown",
   "metadata": {
    "slideshow": {
     "slide_type": "subslide"
    }
   },
   "source": [
    "<table class=\"noborder\">\n",
    "<tbody>\n",
    "<tr><td><a href=\"http://ipython.org/\"><img src=\"http://www.i-programmer.info/images/stories/News/2013/Aug/A/ipython.jpg\" border=0 height690 width=60/></a></td><td>\n",
    "<center> <h1> IPython - the Console </h1> </center> </td></tr>\n",
    "</tbody>\n",
    "</table>\n",
    "\n",
    "<center>\"*an afternoon hack*\" (Nov 2001) by Fernando Perez<br/><br/>\n",
    "<!-- Input & Output cells, with magics, retrospection -->\n",
    "</center> \n",
    "\n",
    "A tool to help in the exploration process\n",
    "- Individual exploration\n",
    "- Collaborative work\n",
    "- Parallel Production Runs\n",
    "- Publication of **reproducible** results\n",
    "- Education\n",
    "- Repeat\n"
   ]
  },
  {
   "cell_type": "markdown",
   "metadata": {
    "slideshow": {
     "slide_type": "subslide"
    }
   },
   "source": [
    " <table class=\"noborder\">\n",
    "<tbody>\n",
    "<tr><td><a href=\"http://ipython.org/\"><img src=\"http://www.i-programmer.info/images/stories/News/2013/Aug/A/ipython.jpg\" border=0 height690 width=60/></a></td><td>\n",
    "<center> <h1> IPython - the Console </h1> </center> </td></tr>\n",
    "</tbody>\n",
    "</table>\n",
    "\n",
    "<table style=\"font-size: 120%;\" class=\"noborder\">\n",
    "<tbody>\n",
    "<tr><td width=50%>\n",
    "Initial 0.0.1 version <a href=\"https://gist.github.com/fperez/1579699\"> Gist </a>\n",
    "<ul>\n",
    "<li>REPL in 259 lines\n",
    "</li><li>Input/Output cells\n",
    "</li><li>History\n",
    "</li><li>Plotting\n",
    "</li>\n",
    "</ul>\n",
    "</td><td> <center>\n",
    "    <img src=\"images/IPython5.png\" width=600 />\n",
    "</center> </td></tr>\n",
    "</tbody>\n",
    "</table>\n",
    "\n",
    "</center>"
   ]
  },
  {
   "cell_type": "markdown",
   "metadata": {
    "slideshow": {
     "slide_type": "skip"
    }
   },
   "source": [
    "<table class=\"noborder\">\n",
    "<tbody>\n",
    "<tr><td><a href=\"http://ipython.org/\"><img src=\"http://www.i-programmer.info/images/stories/News/2013/Aug/A/ipython.jpg\" border=0 height=60 width=60/></a></td><td>\n",
    "<center> <h1> IPython - the Console </h1> </center> </td></tr>\n",
    "</tbody>\n",
    "</table>\n",
    "\n",
    "<img src=\"images/IPython5_creation.PNG\" width=800 />\n"
   ]
  },
  {
   "cell_type": "markdown",
   "metadata": {
    "slideshow": {
     "slide_type": "subslide"
    }
   },
   "source": [
    "<center> <h1> The Jupyter Project </h1>  \n",
    "<img src=\"images/IPython_Architecture2.png\" width=600/>\n",
    "<br/>\n",
    "<br/>\n",
    "A notebook runs under one kernel\n",
    "</center>"
   ]
  },
  {
   "cell_type": "markdown",
   "metadata": {
    "slideshow": {
     "slide_type": "subslide"
    }
   },
   "source": [
    "<center><h1>The (Jupyter) Dashboard & [Notebook](http://localhost:8888/notebooks/Demos/Demo_0_INDEX.ipynb#NOTEBOOK) </h1>\n",
    "Create & share documents of code, equations, visualizations and explanatory text as a **(reproducible) narrative**\n",
    "\n",
    "</center><img class=\"img-responsive\" src=\"images/NotebookRichOutput.png\" width=800 />\n",
    "\n",
    "<!--\n",
    "![Notebook](images/JupyterNotebook.png) \n",
    "The Jupyter Notebook is a web application that allows you to create and share documents that contain live code, equations, visualizations and explanatory text.\n",
    "<br/>Uses include: data cleaning and transformation, numerical simulation, statistical modeling, machine learning and much more.\n",
    "<img class=\"img-responsive\" src=\"http://jupyter.org/assets/jupyterpreview.png\" width=600 />\n",
    "-->\n"
   ]
  },
  {
   "cell_type": "markdown",
   "metadata": {
    "slideshow": {
     "slide_type": "subslide"
    }
   },
   "source": [
    "<center> <h1> Jupyter: Public Notebooks </h1> </center>\n",
    "\n",
    "Jupyter notebooks are used in many domains\n",
    "- scientific (physics, chemistry, biology, genomics, data analysis)\n",
    "- and non-scientific (finance)\n",
    "\n",
    "| Site        | URL           | Info  |\n",
    "|:-------------:|:-------------|:-----|\n",
    "| nbviewer      | [https://nbviewer.org](https://nbviewer.org) | submit your url, browse by theme |\n",
    "| github      | [https://github.com](https://github.com) |  *> 200k notebooks* [[*Announcement - May '15*]](http://blog.jupyter.org/2015/05/07/rendering-notebooks-on-github/) |\n",
    "| IPython gallery | [A-gallery-of-interesting-IPython-Notebooks](https://github.com/ipython/ipython/wiki/A-gallery-of-interesting-IPython-Notebooks)      | many notebooks organized by domain |\n",
    "| Notebook Gallery | **[http://nb.bianp.net/](http://nb.bianp.net/)**      |    view submitted notebooks by '*most viewed*' or '*data*' |\n"
   ]
  },
  {
   "cell_type": "markdown",
   "metadata": {
    "slideshow": {
     "slide_type": "subslide"
    }
   },
   "source": [
    "<center> <h1> Jupyter: Running notebooks </h1> </center>\n",
    "- Native OS Python distribution + Pip, or Anaconda\n",
    "- JupyterHub, multi-user server\n",
    "- Under Docker [e.g. *docker-stacks* images]\n",
    "- Integrated into data science Cloud Hosting or plain IaaS:\n",
    "  - [Azure ML Studio](https://blogs.technet.microsoft.com/machinelearning/2015/07/24/introducing-jupyter-notebooks-in-azure-ml-studio/)\n",
    "  - [Google Cloud DataLab Beta](https://cloud.google.com/datalab/)\n",
    "  - [IBM Data Scientist Workbench](https://my.datascientistworkbench.com/)\n",
    "- **Cloud hosted (ephemereal)**\n",
    "  - [**tryjupyter.org**](https://try.jupyter.org/) [uses *docker-demo* image]\n",
    "  - **Binder** (https://mybinder.org)"
   ]
  },
  {
   "cell_type": "markdown",
   "metadata": {
    "slideshow": {
     "slide_type": "subslide"
    }
   },
   "source": [
    "<center><h1>Jupyter & Azure ML Studio</h1></center>\n",
    "<table class=\"noborder\"><tbody>\n",
    "<tr><td width=\"25%\">Jupyter integration in\n",
    "<a href=\"https://blogs.technet.microsoft.com/machinelearning/2015/07/24/introducing-jupyter-notebooks-in-azure-ml-studio/\"> Azure ML Studio </a><br/><br/><br/>\n",
    "- R\n",
    "<br/><br/>\n",
    "- Python\n",
    "</td><td><img src=\"https://msdnshared.blob.core.windows.net/media/2016/03/032916_2008_JupyterNote1.png\" border=0 height=900 width=900/></td></tr></tbody>\n",
    "</table>"
   ]
  },
  {
   "cell_type": "markdown",
   "metadata": {
    "slideshow": {
     "slide_type": "subslide"
    }
   },
   "source": [
    "<center><h1>try.jupyter.org</h1></center>\n",
    "<img src=\"images/TryJupyter.png\" border=0 height=900 width=900/>"
   ]
  },
  {
   "cell_type": "markdown",
   "metadata": {
    "slideshow": {
     "slide_type": "slide"
    }
   },
   "source": [
    "<center>\n",
    "    <h1> Kernels, Widgets & Extensions </h1>\n",
    "</center>\n",
    "\n",
    "<center>\n",
    "<img src=\"images/notebook_components.png\" />\n",
    "</center>\n"
   ]
  },
  {
   "cell_type": "markdown",
   "metadata": {
    "slideshow": {
     "slide_type": "subslide"
    }
   },
   "source": [
    "<center>\n",
    "<h1>~ 50 Kernels</h1>\n",
    "Kernels are execution environments - typically a language\n",
    "[[Kernels Page]](https://github.com/ipython/ipython/wiki/IPython-kernels-for-other-languages)\n",
    "</center>\n",
    "\n",
    "<table class=\"noborder\">\n",
    "<tr>\n",
    "<td style=\"color:blue\">**IJulia** </td><td style=\"color:blue\"> **IRKernel** </td><td style=\"color:blue\"> **IPython** </td><td style=\"color:green\"> IRuby </td><td> IGo</td>\n",
    "</tr><tr>\n",
    "<td>IScilab </td><td> IMatlab </td><td> Hy </td><td> Clojure </td><td style=\"color:violet\"> **Bash** </td>\n",
    "</tr><tr>\n",
    "<td> Lua</td><td> Mochi </td><td> IErlang </td><td> **Spark** </td><td style=\"color:violet\"> **MetaKernel**</td>\n",
    "</tr><tr>\n",
    "<td> IVisual VP </td><td> Brainfuck </td><td> Brython </td><td>IOCaml </td><td style=\"color:violet\"> **MetaKernel_Bash**</td>\n",
    "</tr><tr>\n",
    "<td>IScala </td><td> IMathics </td><td> IAldor </td><td> Calico Pro </td><td> Calysto Prolog</td>\n",
    "</tr><tr>\n",
    "<td>IForth </td><td style=\"color:green\"> **IPerl** </td><td style=\"color:green\"> **IPerl6** </td><td> IPHP </td><td> IOctave</td>\n",
    "</tr><tr>\n",
    "<td>KDB+/Q Ker </td><td> ICryptol </td><td style=\"color:green\"> **C++ (cling)** </td><td style=\"color:green\"> **Xonsh** </td><td> IJavascript </td>\n",
    "</tr><tr>\n",
    "<td>cl-jupyter </td><td> IHaskell </td><td> IElixir </td><td> Java 9 </td><td> Calysto LC</td>\n",
    "</tr><tr>\n",
    "<td>Redis </td><td> jove </td><td>Prolog </td><td> IFSharp </td><td>Calysto Scheme</td>\n",
    "</tr>\n",
    "</table>\n"
   ]
  },
  {
   "cell_type": "markdown",
   "metadata": {
    "slideshow": {
     "slide_type": "skip"
    }
   },
   "source": [
    "<center><h1>Widgets</h1>\n",
    "Widgets are eventful python objects with a representation in the browser. [[documentation]](https://ipywidgets.readthedocs.io/en/latest/examples/Widget%20Basics.html#What-are-widgets?)\n",
    "</center>\n",
    "\n",
    "<table class=\"noborder\"><tbody>\n",
    "<tr><td>Provided widgets include:\n",
    "<ul>\n",
    "<li>IntSlider, FloatSlider, FloatProgress\n",
    "</li><li>Buttons, Checkboxes, Radio buttons\n",
    "</li>Dropdown menus\n",
    "</ul>\n",
    "</td><td><img src=\"images/interact.png\" border=0 height=500 width=500/></td></tr></tbody>\n",
    "</table>\n"
   ]
  },
  {
   "cell_type": "markdown",
   "metadata": {
    "slideshow": {
     "slide_type": "subslide"
    }
   },
   "source": [
    "<center><h1>Extensions</h1>\n",
    "<!-- https://carreau.gitbooks.io/jupyter-book/content/notebook-extensions.html -->\n",
    "</center>\n",
    "- Collection [github]: [ipython-contrib/IPython-notebook-extensions](https://github.com/ipython-contrib/IPython-notebook-extensions)\n",
    "- Installed to http://localhost:8888/nbextensions/\n",
    "\n",
    "Many extensions available, including:\n",
    "- [**RISE**](https://github.com/damianavila/RISE) - **these slides are running under Jupyter**\n",
    "- nbpresenter\n",
    "- [nbgrader](https://nbgrader.readthedocs.org/en/stable/) - creation/grading of classroom assignments\n",
    "\n",
    "<!-- [plotchecker](https://github.com/jhamrick/plotchecker) - grading of plots\n",
    "- [hide_code](https://pypi.python.org/pypi/hide_code) - hide code cells\n",
    "- [clicker](https://athena.brynmawr.edu/jupyter/hub/dblank/public//Activity%20Magic.ipynb) - anonymous polls\n",
    "-->\n",
    "\n",
    "Generally installable via pip or from github repo"
   ]
  },
  {
   "cell_type": "markdown",
   "metadata": {
    "slideshow": {
     "slide_type": "skip"
    }
   },
   "source": [
    "<center><h1>nbgrader</h1>\n",
    "\n",
    "<img src=\"images/nbgrader_creating_assignment.gif\" />"
   ]
  },
  {
   "cell_type": "markdown",
   "metadata": {
    "slideshow": {
     "slide_type": "slide"
    }
   },
   "source": [
    "<center>\n",
    "    <h1> The Ecosystem & Future Projects </h1>\n",
    "</center>"
   ]
  },
  {
   "cell_type": "markdown",
   "metadata": {
    "slideshow": {
     "slide_type": "subslide"
    }
   },
   "source": [
    "<center><h1>Jupyter Incubator Projects</h1> (https://github.com/jupyter-incubator)\n",
    "[proposals](https://github.com/jupyter-incubator/proposals)</center>\n",
    "\n",
    "<table class=\"noborder\">\n",
    "\n",
    "<!--\n",
    "<tr><td style=\"color:red\"><b> showcase   [link](https://github.com/jupyter-incubator/showcase)</b></td><td>\n",
    "A spot to try demos of one or more incubating Jupyter projects in **Binder** [demos](http://jupyter.cloudet.xyz/)</td>\n",
    "-->\n",
    "\n",
    "<tr><td><b> [sparkmagic](https://github.com/jupyter-incubator/sparkmagic)</b></td><td>\n",
    "Jupyter magics and kernels for working with remote Spark clusters\n",
    "\n",
    "</td></tr><tr><td><b> [declarativewidgets](https://github.com/jupyter-incubator/declarativewidgets)</b></td><td>\n",
    "Declare Widgets in HTML\n",
    "\n",
    "</td></tr><tr><td><b> [dashboards](https://github.com/jupyter-incubator/dashboards)</b></td><td>\n",
    "Create Dashboards from Notebooks\n",
    "\n",
    "</td></tr><tr><td><b> [contentmanagement](https://github.com/jupyter-incubator/contentmanagement)</b></td><td>\n",
    "Extensions for search, notebook modules/[cookbooks](https://github.com/jupyter-incubator/contentmanagement/blob/master/etc/notebooks/cookbooks_demo/use_cookbooks.ipynb), ToC, [bundlers](https://github.com/jupyter-incubator/contentmanagement/blob/master/etc/notebooks/associations_demo/associations_demo.ipynb) [vid](https://www.youtube.com/watch?v=SJiezXPhVv8)\n",
    "\n",
    "</td></tr><tr><td><b> [kernel_gateway](https://github.com/jupyter-incubator/kernel_gateway)</b></td><td>\n",
    "Support different protocols to Jupyter server, e.g. non-nb web clients, u-services, cluster\n",
    "\n",
    "<!--\n",
    "</td></tr><tr><td><b> [traittypes](https://github.com/jupyter-incubator/traittypes)</b></td><td>\n",
    "Traitlet types for NumPy, SciPy and friends\n",
    "-->\n",
    "\n",
    "</td></tr>\n",
    "</table>"
   ]
  },
  {
   "cell_type": "markdown",
   "metadata": {
    "slideshow": {
     "slide_type": "subslide"
    }
   },
   "source": [
    "<center><h1>Incubator: Jupyter Dashboards</h1> (https://github.com/jupyter-incubator/dashboards) - alternative layouts</center>\n",
    "\n",
    "![dashboards](https://github.com/jupyter-incubator/dashboards/raw/master/etc/dashboards_intro.png)"
   ]
  },
  {
   "cell_type": "markdown",
   "metadata": {
    "slideshow": {
     "slide_type": "subslide"
    }
   },
   "source": [
    "<center><h1>JupyterLab - pre-Alpha</h1> (https://github.com/jupyter/jupyterlab/) - the future interface</center>\n",
    "\n",
    "\n",
    "\n",
    "![JupyterLab](https://raw.githubusercontent.com/jupyter/jupyterlab/master/jupyter-plugins-demo.gif)"
   ]
  },
  {
   "cell_type": "markdown",
   "metadata": {
    "slideshow": {
     "slide_type": "slide"
    }
   },
   "source": [
    "<center><h1>External Jupyter Projects</h1></center>\n",
    "<br/>\n",
    "Many external projects integrating Jupyter:<br/><br/> *Beaker*, *Hydrogen (ATOM)*, *EIN (Emacs)*, *Rodeo*, *SageMathCloud*.\n",
    "\n",
    "Publishers are turning to Jupyter for books, blogs, reports, theses sometimes with live code examples.\n",
    "- e.g. [**Thebe** (O'Reilly)](https://github.com/oreillymedia/thebe)\n",
    "- Nature, Scientific American Magazines\n",
    "\n",
    "Educators\n",
    "- tutorials, assignments, presentations, documenting\n",
    "- MOOCs - online education:\n",
    "  - notebook-based (**Edx/Apache Spark**)\n",
    "  - jupyter-integrated (**F.U.N.**)\n",
    "- in classrooms using JupyterHub"
   ]
  },
  {
   "cell_type": "markdown",
   "metadata": {
    "slideshow": {
     "slide_type": "subslide"
    }
   },
   "source": [
    "<center><h1>OReilly Blog Article - using Thebe</h1></center>\n",
    "\n",
    "<a href=\"https://www.oreilly.com/learning/introducing-pandas-objects\">\n",
    "<table class=\"noborder\"><tbody><tr><td>\n",
    "<img src=\"images/OReilly_Thebe1.PNG\" width=600/>\n",
    "</td><td>\n",
    "<center>Blog post with modifiable, runnable code cells with **RUN** button :<br/>\n",
    "<img src=\"images/OReilly_Thebe2.PNG\" width=400/></center>\n",
    "</td></tr></tbody></table></a>"
   ]
  },
  {
   "cell_type": "markdown",
   "metadata": {
    "slideshow": {
     "slide_type": "slide"
    }
   },
   "source": [
    "<center><h1> Jupyter for Everything Else </h1></center>\n",
    "\n",
    "- Use of web technologies: mix-in HTML, CSS, js, SVG ...\n",
    "- Use of bash kernel for command-line work\n",
    "- Supplement command-line tools with graphics\n",
    "- Create interactive presentations (thanks *RISE* extension !)\n",
    "- Publish \"live blog posts\"\n",
    "- Creating status reports from notebooks using nbconvert"
   ]
  },
  {
   "cell_type": "markdown",
   "metadata": {
    "slideshow": {
     "slide_type": "subslide"
    }
   },
   "source": [
    "<center><h1> Everything Else: web technologies </h1></center>\n",
    "\n",
    "- HTML/JavaScript/css experimentation\n",
    "  - HTML, CSS, JS capabilities but **proceed with care**\n",
    "  - d3.js animations if\n",
    "    - Need more interactivity\n",
    "    - Prototyping a D3 project\n",
    "    - Reusing existing D3 e.g. from http://bl.orcks.org\n",
    "- SVG\n",
    "\n",
    "<center><b>Select Theme: </b><select id=\"theme-list\"></select></center>"
   ]
  },
  {
   "cell_type": "markdown",
   "metadata": {
    "slideshow": {
     "slide_type": "subslide"
    }
   },
   "source": [
    "<center><h1> Everything Else: command-line </h1>\n",
    "\n",
    "Two bash kernels exist for Jupyter: bash_kernel and calysto/metakernel_bash\n",
    "</center>\n",
    "\n",
    "<table class=\"noborder\"><tbody>\n",
    "<tr>\n",
    "<td>\n",
    "[Calysto](https://github.com/Calysto) Metakernels\n",
    "<ul>\n",
    "<li>easy to fix for Windows/Cygwin</li>\n",
    "<li>Family of metakernels</li>\n",
    "<li>- Common magics</li>\n",
    "<li>Active development</li>\n",
    "</ul>\n",
    "</td>\n",
    "<td>\n",
    "<img src=\"images/github_Calysto.PNG\" width=400/>\n",
    "</td>\n",
    "</tr>\n",
    "</tbody></table>"
   ]
  },
  {
   "cell_type": "markdown",
   "metadata": {
    "slideshow": {
     "slide_type": "subslide"
    }
   },
   "source": [
    "<center><h1> Everything Else: command-line </h1>\n",
    "<h2>Why? ... I hear you ask</h2>\n",
    "<h3>Inspired by the notebook as an educational tool, I used it for CLI-based tutorials</h3>\n",
    "</center>\n",
    "\n",
    "<table class=\"noborder\"><tbody>\n",
    "<tr>\n",
    "<td>\n",
    "<ul>\n",
    "<li>[**Docker demos / labs **](http://mjbright.blogspot.fr/2016/02/creating-docker-build-lab-with-jupyter.html)</li>\n",
    "<li>Bash:1st-class citizen with magics+</li>\n",
    "<li>[**Example notebook**](Demos/Demo_Metakernel_Bash.ipynb)</li>\n",
    "<li>CLI tutorials\n",
    "as runnable<br/>\"live notebook\".</li>\n",
    "</ul>\n",
    "</td>\n",
    "<td>\n",
    "<img src=\"images/bash_graphics.PNG\" height=800 width=500/>\n",
    "</td>\n",
    "</tr>\n",
    "</tbody></table>"
   ]
  },
  {
   "cell_type": "markdown",
   "metadata": {
    "slideshow": {
     "slide_type": "subslide"
    }
   },
   "source": [
    "<center><h1> Everything Else: Binder \"live notebooks\" </h1></center>\n",
    "\n",
    "<img src=\"images/MyBinder.org.PNG\" width=600 />"
   ]
  },
  {
   "cell_type": "markdown",
   "metadata": {
    "slideshow": {
     "slide_type": "subslide"
    }
   },
   "source": [
    "<center><h1> Everything Else: \"live tutorials\"</h1></center>\n",
    "\n",
    "<table class=\"noborder\"><tbody>\n",
    "<tr>\n",
    "<td>\n",
    "Create live tutorials online on Binder.\n",
    "<br/><br/>\n",
    "Notebook server is launched by clicking on the binder icon <img width=150 src=\"images/launch_binder.svg\" /> in a github repo\n",
    "<br/><br/>   \n",
    "[Blog post](http://mjbright.blogspot.fr/2016/05/the-art-of-command-line-ls-seen-from.html) with link to \"**live tutorial**\"\n",
    "</td>\n",
    "<td>\n",
    "<img src=\"images/Blog_cli_tutorials.PNG\" width=800 />\n",
    "</td>\n",
    "</tr>\n",
    "</tbody></table>\n",
    "https://github.com/mjbright/binder_jupyter_notebook"
   ]
  },
  {
   "cell_type": "markdown",
   "metadata": {
    "slideshow": {
     "slide_type": "subslide"
    }
   },
   "source": [
    "<center><h1> Everything Else: Binder CLI \"live tutorials\" </h1></center>\n",
    "\n",
    "<table class=\"noborder\"><tbody>\n",
    "<tr>\n",
    "<td>\n",
    "In that [github **repo**](http://mybinder.org/repo/mjbright/binder_jupyter_notebook) is an\n",
    "<br/><br/>\n",
    "**INDEX** notebook to tutorial\n",
    "<br/><br/>\n",
    "notebooks in the same repo<br/><br/>\n",
    "<br/><br/>\n",
    "\n",
    "</td>\n",
    "<td>\n",
    "<a href=\"http://mybinder.org/repo/mjbright/binder_jupyter_notebook\">\n",
    "<img src=\"images/MyBinder_CommandLineTutorialsIndexPage.PNG\" width=600 />\n",
    "</a>\n",
    "</td>\n",
    "</tr>\n",
    "</tbody></table>"
   ]
  },
  {
   "cell_type": "markdown",
   "metadata": {
    "slideshow": {
     "slide_type": "subslide"
    }
   },
   "source": [
    "<center><h1> Everything Else: Slideshows </h1>This <a href=\"PRESENTATION-JupyterForEverythingElse.ipynb\"><b>slideshow</b></a> is made using Jupyter<br/>\n",
    "with the RISE extension\n",
    "</center>\n",
    "\n",
    "<table class=\"noborder\"><tbody>\n",
    "<tr>\n",
    "<td>\n",
    "RISE adds special \"Slide Type\"<br/> menu\n",
    "options to each cell to specify one of\n",
    "\n",
    "<ul>\n",
    "<li>Slide</li>\n",
    "<li>Sub-Slide</li>\n",
    "<li>Fragment</li>\n",
    "<li>Notes</li>\n",
    "<li>Skip</li>\n",
    "</ul>\n",
    "\n",
    "</td>\n",
    "<td>\n",
    "<img src=\"images/RISE_slideshows.PNG\" width=500 />\n",
    "</td>\n",
    "</tr>\n",
    "</tbody></table>\n",
    "   "
   ]
  },
  {
   "cell_type": "markdown",
   "metadata": {
    "slideshow": {
     "slide_type": "subslide"
    }
   },
   "source": [
    "<center><h1> Everything Else: Cron e-mail status reports </h1>\n",
    "nbconvert can [execute notebooks](http://10.3.216.210:8888/notebooks/notebooks/OpenStack_Monitoring_Py3.ipynb#) from the command-line</center>\n",
    "\n",
    "<table class=\"noborder\"><tbody>\n",
    "<tr>\n",
    "<td>\n",
    "<ul><li>\n",
    "Run the notebook under cron\n",
    "</li><li>\n",
    "**nbconvert** the result to html<br/>\n",
    "</li><li>\n",
    "send html [report](https://mail.google.com/mail/u/0/#inbox/155b805d4e9f68df) as e-mail\n",
    "</li><li>\n",
    "Capabilities created incrementally in notebook, \n",
    "code migrated to modules to reduce notebook (report) code\n",
    "</li></ul>\n",
    "</td>\n",
    "<td>\n",
    "<img src=\"images/GMail_OpenStack_Status.PNG\" width=1200 />\n",
    "</td>\n",
    "</tr>\n",
    "</tbody></table>"
   ]
  },
  {
   "cell_type": "markdown",
   "metadata": {
    "slideshow": {
     "slide_type": "subslide"
    }
   },
   "source": [
    "<center><h1> Everything Else: Cron e-mail status reports (nbconvert)</h1>\n",
    "<br/>\n",
    "```\n",
    "nbconvert --execute --template basic --to html  \n",
    "\n",
    "Monitoring.ipynb\n",
    "```\n",
    "\n",
    "</center>\n",
    "\n",
    "<table class=\"noborder\"><tbody>\n",
    "<tr>\n",
    "<td width=60%>\n",
    "\n",
    "<ul><li>\n",
    "--execute: run the notebook\n",
    "</li><li>\n",
    "--template: specify o/p template\n",
    "</li><li>\n",
    "--to: specify o/p format\n",
    "</li><li>\n",
    "Input notebook\n",
    "</li></ul>\n",
    "</td><td>\n",
    "<img src=\"images/nbconvert.png\" width=500 />\n",
    "</td>\n",
    "</tr>\n",
    "</tbody>\n",
    "</table>"
   ]
  },
  {
   "cell_type": "markdown",
   "metadata": {
    "slideshow": {
     "slide_type": "subslide"
    }
   },
   "source": [
    "<center><h1> Everything Else: Coming up ... </h1></center>\n",
    "\n",
    "- Experiment with JupyterHub, nbgrader, Binder\n",
    "  - Reimplement labs as graded assignments\n",
    "\n",
    "- More Metakernel_Bash experiments\n",
    "\n",
    "- Make pull requests to Metakernel_bash\n",
    "\n",
    "- Propose this stuff outside of the Python community\n",
    "\n",
    "- Xonsh_kernel\n",
    "  - Take advantage of new Python / unix-like shell\n",
    "  \n",
    "- CLing C++ interpreter kernel\n",
    "  "
   ]
  },
  {
   "cell_type": "markdown",
   "metadata": {
    "slideshow": {
     "slide_type": "slide"
    }
   },
   "source": [
    "<center><h1> Questions ?</h1>\n",
    "<br/><br/>\n",
    "    ![The End](images/END_sillywalk.jpg)\n",
    "    <br/>\n",
    "<font size=+1>\n",
    "<i class=\"fa-github fa-2x fa\"> [mjbright](https://github.com/mjbright)</i>&nbsp;&nbsp;\n",
    "<i class=\"fa-twitter fa-2x fa\"> [@mjbright](http://twitter.com/mjbright)</i>&nbsp;&nbsp;\n",
    "<i class=\"fa-envelope fa-2x fa\"> mjbrightfr AT gmail</i>&nbsp;&nbsp;\n",
    "<i class=\"fa-user fa-2x fa\"> [mjbright.github.io](http://mjbright.github.io)</i>\n",
    "</font>\n",
    "</center>\n"
   ]
  },
  {
   "cell_type": "markdown",
   "metadata": {
    "slideshow": {
     "slide_type": "subslide"
    }
   },
   "source": [
    "<center><h1> The End ... </h1>\n",
    "</center>"
   ]
  },
  {
   "cell_type": "markdown",
   "metadata": {
    "slideshow": {
     "slide_type": "subslide"
    }
   },
   "source": [
    "<center><h1>References: IPython / Jupyter Books</h1></center>\n",
    "\n",
    "<table class=\"noborder\">\n",
    "<tr>\n",
    "<td><a href=\"http://cyrille.rossant.net/books/\"><h3>Learning IPython for Interactive Computing & Data Visualization </h3> </a> Cyrille Rossant<h6> Introductory usage</h6></td>\n",
    "<td><img src=\"images/Books/PPub_Rossant_minibook.jpg\" width=140 /></td>\n",
    "</tr><tr>\n",
    "<td><a href=\"http://cyrille.rossant.net/books/\"><h3> IPython Interactive Computing & Visualization Cookbook  </h3></a> Cyrille Rossant<h6>Advanced usage </h6></td>\n",
    "<td><img src=\"images/Books/PPub_Rossant_cookbook.jpg\" width=140 /></td>\n",
    "</tr>\n",
    "<tr>\n",
    "<td><a href=\"https://www.gitbook.com/book/carreau/jupyter-book/details\"><h3>The Jupyter GitBook</h3></a><h6>Extension writing</h6>\n",
    "</td><td><img src=\"images/Books/gitbook_jupyter-book.jpg\" width=140 />\n",
    "</td>\n",
    "</tr><tr>\n",
    "<tr>\n",
    "<td><a href=\"https://www.readthedocs.io/\"><h3>Documentation on ReadTheDocs</h3></a><h6>Extension writing</h6>\n",
    "</td><td></td>\n",
    "</tr><tr>\n",
    "</table>"
   ]
  }
 ],
 "metadata": {
  "celltoolbar": "Slideshow",
  "kernelspec": {
   "display_name": "Python 3",
   "language": "python",
   "name": "python3"
  },
  "language_info": {
   "codemirror_mode": {
    "name": "ipython",
    "version": 3
   },
   "file_extension": ".py",
   "mimetype": "text/x-python",
   "name": "python",
   "nbconvert_exporter": "python",
   "pygments_lexer": "ipython3",
   "version": "3.5.1"
  },
  "livereveal": {
   "height": "800",
   "scroll": true,
   "theme": "sky",
   "width": "1280"
  },
  "toc": {
   "navigate_menu": true,
   "number_sections": true,
   "sideBar": true,
   "threshold": 6,
   "toc_cell": true,
   "toc_section_display": "block",
   "toc_window_display": true
  },
  "widgets": {
   "state": {},
   "version": "1.1.2"
  }
 },
 "nbformat": 4,
 "nbformat_minor": 0
}
