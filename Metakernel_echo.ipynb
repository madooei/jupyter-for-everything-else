{
 "cells": [
  {
   "cell_type": "code",
   "execution_count": 1,
   "metadata": {
    "collapsed": false
   },
   "outputs": [
    {
     "data": {
      "text/plain": [
       "'fork:hi'"
      ]
     },
     "execution_count": 1,
     "metadata": {},
     "output_type": "execute_result"
    }
   ],
   "source": [
    "hi"
   ]
  },
  {
   "cell_type": "code",
   "execution_count": 2,
   "metadata": {
    "collapsed": true
   },
   "outputs": [],
   "source": [
    "%help"
   ]
  },
  {
   "cell_type": "code",
   "execution_count": 3,
   "metadata": {
    "collapsed": false
   },
   "outputs": [
    {
     "name": "stdout",
     "output_type": "stream",
     "text": [
      "Line magics:\n",
      "    %activity FILENAME - run a widget-based activity\n",
      "    %cd PATH - change current directory of session\n",
      "    %connect_info - show connection information\n",
      "    %dot CODE - render code as Graphviz image\n",
      "    %download URL [-f FILENAME] - download file from URL\n",
      "    %edit FILENAME - load code from filename into next cell for editing\n",
      "    %get VARIABLE - get a variable from the kernel in a Python-type.\n",
      "    %help TEXT - get help on the given text\n",
      "    %html CODE - display code as HTML\n",
      "    %include FILENAME ... - include code from filename into this code\n",
      "    %install PACKAGE - install package\n",
      "    %install_magic URL - download and install magic from URL\n",
      "    %javascript CODE - send code as JavaScript\n",
      "    %jigsaw LANGUAGE - show visual code editor/generator\n",
      "    %kernel MODULE CLASS [-k NAME] - construct a kernel for sending code.\n",
      "    %kx CODE [-k NAME] - send the code to the kernel.\n",
      "    %latex TEXT - display text as LaTeX\n",
      "    %load FILENAME - load code from filename into next cell\n",
      "    %ls PATH - list files and directories under PATH\n",
      "    %lsmagic - list the current line and cell magics\n",
      "    %macro NAME - execute a macro\n",
      "    %magic - show installed magics\n",
      "    %parallel MODULE CLASS [-k NAME] [-i [...]] - construct an interface to the cluster.\n",
      "    %plot [options] backend - configure plotting for the session.\n",
      "    %pmap FUNCTION [ARGS1,ARGS2,...] - (\"parallel map\") call a FUNCTION on args\n",
      "    %px EXPRESSION - send EXPRESSION to the cluster.\n",
      "    %python CODE - evaluate code as Python\n",
      "    %reload_magics - reload the magics from the installed files\n",
      "    %restart - restart session\n",
      "    %run [--language LANG] FILENAME - run code in filename by\n",
      "    %set VARIABLE VALUE - set a variable in the kernel.\n",
      "    %shell COMMAND - run the line as a shell command\n",
      "\n",
      "Cell magics:\n",
      "     %%shell - run the contents of the cell as shell commands\n",
      "    %%activity FILENAME - make an activity from\n",
      "    %%brain - run a cell as brain control code\n",
      "    %%debug - step through the code expression by expression\n",
      "    %%dot - render contents of cell as Graphviz image\n",
      "    %%file [--append|-a] FILENAME - write contents of cell to file\n",
      "    %%help TEXT - get detailed help on the given text\n",
      "    %%html - display contents of cell as HTML\n",
      "    %%javascript - send contents of cell as JavaScript\n",
      "    %%kx [-k NAME] - send the cell code to the kernel.\n",
      "    %%latex - display contents of cell as LaTeX\n",
      "    %%macro NAME - learn a new macro\n",
      "    %%processing - run the cell in the language Processing\n",
      "    %%px - send cell to the cluster.\n",
      "    %%python - evaluate contents of cell as Python\n",
      "    %%show [-o]- show cell contents or results in system pager\n",
      "    %%time - show time to run cell\n",
      "    %%tutor [--language=LANGUAGE] - show cell with\n",
      "\n",
      "Shell shortcut:\n",
      "    ! COMMAND ... - execute command in shell\n",
      "\n",
      "Any cell magic can be made persistent for rest of session by using %%% prefix.\n",
      "\n",
      "Help on items:\n"
     ]
    },
    {
     "name": "stderr",
     "output_type": "stream",
     "text": [
      "Error in calling magic 'magic' on line:\n",
      "    string indices must be integers\n",
      "    args: []\n",
      "    kwargs: {}\n",
      "Traceback (most recent call last):\n",
      "  File \"C:\\Progs\\Anaconda3\\lib\\site-packages\\metakernel-0.12.6-py3.5.egg\\metakernel\\magic.py\", line 81, in call_magic\n",
      "    func(*args, **kwargs)\n",
      "TypeError: line_magic() missing 1 required positional argument: 'line'\n",
      "\n",
      "During handling of the above exception, another exception occurred:\n",
      "\n",
      "Traceback (most recent call last):\n",
      "  File \"C:\\Progs\\Anaconda3\\lib\\site-packages\\metakernel-0.12.6-py3.5.egg\\metakernel\\magic.py\", line 83, in call_magic\n",
      "    func(old_args)\n",
      "  File \"C:\\Progs\\Anaconda3\\lib\\site-packages\\metakernel-0.12.6-py3.5.egg\\metakernel\\magics\\magic_magic.py\", line 44, in line_magic\n",
      "    for string in self.kernel.line_magics['help'].help_strings():\n",
      "  File \"C:\\Progs\\Anaconda3\\lib\\site-packages\\metakernel-0.12.6-py3.5.egg\\metakernel\\magics\\help_magic.py\", line 22, in help_strings\n",
      "    for s in suffixes]\n",
      "  File \"C:\\Progs\\Anaconda3\\lib\\site-packages\\metakernel-0.12.6-py3.5.egg\\metakernel\\magics\\help_magic.py\", line 22, in <listcomp>\n",
      "    for s in suffixes]\n",
      "TypeError: string indices must be integers\n",
      "\n",
      "%magic - show installed magics\n",
      "\n",
      "This line magic shows all of the install magics, either from\n",
      "the system magic folder, or your own private magic folder.\n"
     ]
    }
   ],
   "source": [
    "%magic"
   ]
  },
  {
   "cell_type": "code",
   "execution_count": null,
   "metadata": {
    "collapsed": true
   },
   "outputs": [],
   "source": []
  }
 ],
 "metadata": {
  "kernelspec": {
   "display_name": "MetaKernel Echo 3",
   "language": "echo",
   "name": "metakernel_echo"
  },
  "language_info": {
   "file_extension": ".txt",
   "help_links": [
    {
     "text": "MetaKernel Magics",
     "url": "https://github.com/calysto/metakernel/blob/master/metakernel/magics/README.md"
    }
   ],
   "mimetype": "text/plain",
   "name": "text"
  }
 },
 "nbformat": 4,
 "nbformat_minor": 0
}
