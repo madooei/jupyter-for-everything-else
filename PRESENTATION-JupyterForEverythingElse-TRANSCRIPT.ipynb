{
 "cells": [
  {
   "cell_type": "markdown",
   "metadata": {
    "slideshow": {
     "slide_type": "notes"
    }
   },
   "source": [
    "# Cells to execute before:"
   ]
  },
  {
   "cell_type": "code",
   "execution_count": 10,
   "metadata": {
    "collapsed": false,
    "slideshow": {
     "slide_type": "slide"
    }
   },
   "outputs": [
    {
     "name": "stdout",
     "output_type": "stream",
     "text": [
      "Last update: 2016-07-22 07:11:28.121286\n"
     ]
    }
   ],
   "source": [
    "import datetime\n",
    "print(\"Last update: \" + str(datetime.datetime.now()))"
   ]
  },
  {
   "cell_type": "code",
   "execution_count": 12,
   "metadata": {
    "collapsed": false,
    "slideshow": {
     "slide_type": "subslide"
    }
   },
   "outputs": [
    {
     "data": {
      "text/html": [
       "<h3>Select Theme</h3><select id=\"theme-list0\"></select>\n",
       "<script src=\"js/d3.min.js\"></script>\n",
       "<script src=\"RISE_themes/RISE_themes.js\"></script>\n",
       "<!-- NOTE: This cell must be code/%%html not markdown for css to be handled -->    \n",
       "<!-- NOTE: table test (class \"noborder\"): want no borders                -->\n",
       "<style> .noborder, .noborder tr, .noborder th, .noborder td { \n",
       "    border-collapse: collapse; border: 0px; border: none!important;\n",
       "} </style>\n",
       "\n",
       "<table class=\"noborder\"><tbody><tr><td> Cell1 </td><td> Cell2 </td></tr></tbody></table>\n",
       "<table><tbody><tr><td> BorderedCell1 </td><td> BorderedCell2 </td></tr></tbody></table>"
      ],
      "text/plain": [
       "<IPython.core.display.HTML object>"
      ]
     },
     "metadata": {},
     "output_type": "display_data"
    }
   ],
   "source": [
    "%%html\n",
    "<h3>Select Theme</h3><select id=\"theme-list0\"></select>\n",
    "<script src=\"js/d3.min.js\"></script>\n",
    "<script src=\"RISE_themes/RISE_themes.js\"></script>\n",
    "<!-- NOTE: This cell must be code/%%html not markdown for css to be handled -->    \n",
    "<!-- NOTE: table test (class \"noborder\"): want no borders                -->\n",
    "<style> .noborder, .noborder tr, .noborder th, .noborder td { \n",
    "    border-collapse: collapse; border: 0px; border: none!important;\n",
    "} </style>\n",
    "\n",
    "<table class=\"noborder\"><tbody><tr><td> Cell1 </td><td> Cell2 </td></tr></tbody></table>\n",
    "<table><tbody><tr><td> BorderedCell1 </td><td> BorderedCell2 </td></tr></tbody></table>"
   ]
  },
  {
   "cell_type": "markdown",
   "metadata": {
    "slideshow": {
     "slide_type": "slide"
    }
   },
   "source": [
    "<center> <h1>Jupyter for Everything Else</h1>\n",
    "<h3>Michael Bright, <a href=\"https://ep2016.europython.eu/conference/talks/jupyter-for-everything-else\">EuroPython 2016 - Bilbao, 22 July</a>.</h3>\n",
    "<img src=\"images/DEMO_OpenStack_API_D3.png\" width=350 />\n",
    "<br/>\n",
    "<font size=-1>\n",
    "<i class=\"fa-github fa-2x fa\"> [mjbright](https://github.com/mjbright)</i>&nbsp;&nbsp;\n",
    "<i class=\"fa-twitter fa-2x fa\"> [@mjbright](http://twitter.com/mjbright)</i>&nbsp;&nbsp;\n",
    "<i class=\"fa-envelope fa-2x fa\"> mjbrightfr AT gmail</i>&nbsp;&nbsp;\n",
    "<i class=\"fa-user fa-2x fa\"> [mjbright.github.io](http://mjbright.github.io)</i>\n",
    "</font>\n",
    "</center>"
   ]
  },
  {
   "cell_type": "markdown",
   "metadata": {
    "slideshow": {
     "slide_type": "notes"
    }
   },
   "source": [
    "# Transcript: Title slide\n",
    "\n",
    "Good Morning, I'd like to talk to you today about Jupyter.\n",
    "In particular about some things I've been experimenting with \"Jupyter for Everything Else\".\n",
    "But that's a quite arrogant title given the enormous extent of the Jupyter ecosystem.\n",
    "Nevertheless, I hope to bring some interesting ideas, hopefully everyone will be able to take away something from my talk.\n",
    "\n",
    "\n"
   ]
  },
  {
   "cell_type": "markdown",
   "metadata": {
    "slideshow": {
     "slide_type": "skip"
    }
   },
   "source": [
    "<center> <h1>About Me</h1>\n",
    "<h3>Solution Architect working at Hewlett-Packard Enterprise, Grenoble, France</h3>\n",
    "Working in the EMEA OpenNFV lab.\n",
    "</center>\n",
    "Interests:\n",
    "- Docker, Docker, Docker, Jupyter, Python, OpenStack\n",
    "- Run a local Python User Group in Grenoble\n",
    "- From the UK, married to a Chilean, living in France for 24 years\n",
    "- Argentinian Tango, Salsa, ...\n",
    "\n",
    "TODO: add images ... Grenoble mountains, unicycle, Argentinian Tango, UK, NFV? SDN? Python UserGroup, Docker!!!, Jupyter, Linux, OStack"
   ]
  },
  {
   "cell_type": "markdown",
   "metadata": {
    "slideshow": {
     "slide_type": "subslide"
    }
   },
   "source": [
    "<center>\n",
    "<h3>Solution Architect Hewlett-Packard Enterprise</h3>\n",
    "Working in the EMEA OpenNFV lab, Grenoble, France.\n",
    "</center>\n",
    "\n",
    "\n",
    "![xx](images_me/grenoble-pont-st-laurent.png)\n",
    "![xx](images_me/python.png)\n"
   ]
  },
  {
   "cell_type": "markdown",
   "metadata": {
    "slideshow": {
     "slide_type": "notes"
    }
   },
   "source": [
    "# Transcript: Self\n",
    "\n",
    "A little bit about myself, I work for HPE as a Solution Architect in the NFV program - that's basically Cloud for Telecom.\n",
    "We use OpenStack on a daily basis for running customer/partner PoCs.\n",
    "\n",
    "I'm really keen on Docker, Jupyter and I run a local Python User Group in Grenoble.\n",
    "\n",
    "I'm from the UK but living in Grenoble, France for 24 years.  My wife is Chilean.\n",
    "\n",
    "Keen on Argentinian Tango.\n",
    "\n"
   ]
  },
  {
   "cell_type": "markdown",
   "metadata": {
    "slideshow": {
     "slide_type": "slide"
    }
   },
   "source": [
    "<center> <h1> Outline </h1> </center>\n",
    "- Introduction: From IPython to Jupyter\n",
    "- The Jupyter Project & Ecosystem:\n",
    "  - Kernels, Widgets, Extensions, Tools\n",
    "  - Incubating & ext. projects, Hosting\n",
    "- Jupyter for Everything Else\n",
    "  - Web, Command-line, Blog, Present, Status reports"
   ]
  },
  {
   "cell_type": "markdown",
   "metadata": {
    "slideshow": {
     "slide_type": "notes"
    }
   },
   "source": [
    "# Transcript: Outline\n",
    "\n",
    "We'll look at IPython and how this relates to the Jupyter project.\n",
    "The Ipython interpreter is how all this started, which then evolved into a multi-language platform.\n",
    "Then the project split into the IPython kernel and the language-agnostic Jupyter notebook and console.\n",
    "\n",
    "We'll look at the Jupyter eco-system including the language kernels, of which IPython is just one example, widgets, and extensions to the notebook.\n",
    "\n",
    "We'll look at the Incubating Projects aswell as some of the interesting external projects around Jupyter.\n",
    "\n",
    "Then I'll show you some of the things I've been looking at, some unusual uses of Jupyter for \"live blogging\", presentations, web, command-line tutorials and automated status reports generated using the notebook.\n"
   ]
  },
  {
   "cell_type": "markdown",
   "metadata": {
    "slideshow": {
     "slide_type": "subslide"
    }
   },
   "source": [
    "<table class=\"noborder\">\n",
    "<tbody>\n",
    "<tr><td><a href=\"http://ipython.org/\"><img src=\"http://www.i-programmer.info/images/stories/News/2013/Aug/A/ipython.jpg\" border=0 height690 width=60/></a></td><td>\n",
    "<center> <h1> IPython - the Console </h1> </center> </td></tr>\n",
    "</tbody>\n",
    "</table>\n",
    "\n",
    "<center>\"*an afternoon hack*\" (Nov 2001) by Fernando Perez<br/><br/>\n",
    "<!-- Input & Output cells, with magics, retrospection -->\n",
    "</center> \n",
    "\n",
    "A tool to help in the exploration process\n",
    "- Individual exploration\n",
    "- Collaborative work\n",
    "- Parallel Production Runs\n",
    "- Publication odf **reproducible** results\n",
    "- Education\n",
    "- Repeat\n"
   ]
  },
  {
   "cell_type": "markdown",
   "metadata": {
    "slideshow": {
     "slide_type": "notes"
    }
   },
   "source": [
    "# Transcript: IPython Console - for exploration\n",
    "\n",
    "The IPython interpreter was created by Fernando Perez, then a PhD student, in an afternoon hack as a way of facilitating the\n",
    "scientific exploration process.\n",
    "\n",
    "That process typically involves\n",
    "- Performing some individual exploratory work (at that time with Matlab - a proprietary tool)\n",
    "- Perform some collaborative evelopment - swapping scripts with colleagues\n",
    "- Parallel production runs (HPC) - rewriting for HPC\n",
    "- Publication - copy/pasting code into a PowerPoint, but want something reproduceable\n",
    "- Education - \n",
    "- Loop\n",
    "\n",
    "He wanted to create a tool in Python which would facilitate this exploration task and the sharing of results as code and data in reproducible fomr.\n",
    "\n"
   ]
  },
  {
   "cell_type": "markdown",
   "metadata": {
    "slideshow": {
     "slide_type": "subslide"
    }
   },
   "source": [
    " <table class=\"noborder\">\n",
    "<tbody>\n",
    "<tr><td><a href=\"http://ipython.org/\"><img src=\"http://www.i-programmer.info/images/stories/News/2013/Aug/A/ipython.jpg\" border=0 height690 width=60/></a></td><td>\n",
    "<center> <h1> IPython - the Console </h1> </center> </td></tr>\n",
    "</tbody>\n",
    "</table>\n",
    "\n",
    "<table style=\"font-size: 120%;\" class=\"noborder\">\n",
    "<tbody>\n",
    "<tr><td width=50%>\n",
    "Initial 0.0.1 version <a href=\"https://gist.github.com/fperez/1579699\"> Gist </a>\n",
    "<ul>\n",
    "<li>REPL in 259 lines\n",
    "</li><li>Input / Output cells\n",
    "</li><li>History\n",
    "</li><li>Plotting\n",
    "</li>\n",
    "</ul>\n",
    "</td><td> <center>\n",
    "    <img src=\"images/IPython5.png\" width=600 />\n",
    "</center> </td></tr>\n",
    "</tbody>\n",
    "</table>\n",
    "\n",
    "</center>"
   ]
  },
  {
   "cell_type": "markdown",
   "metadata": {
    "slideshow": {
     "slide_type": "notes"
    }
   },
   "source": [
    "# Transcript: IPython Console - 259 lines.py\n",
    "\n",
    "So he wrote a Python interpreter in an afternoon, in 259 lines of code.\n",
    "\n",
    "This interpreter provided a REPL, with input and output cells (like Matlab) had a history mechanism and allowed plotting of results.\n",
    "\n"
   ]
  },
  {
   "cell_type": "markdown",
   "metadata": {
    "slideshow": {
     "slide_type": "skip"
    }
   },
   "source": [
    "<table class=\"noborder\">\n",
    "<tbody>\n",
    "<tr><td><a href=\"http://ipython.org/\"><img src=\"http://www.i-programmer.info/images/stories/News/2013/Aug/A/ipython.jpg\" border=0 height=60 width=60/></a></td><td>\n",
    "<center> <h1> IPython - the Console </h1> </center> </td></tr>\n",
    "</tbody>\n",
    "</table>\n",
    "\n",
    "<img src=\"images/IPython5_creation.PNG\" width=800 />\n"
   ]
  },
  {
   "cell_type": "markdown",
   "metadata": {
    "slideshow": {
     "slide_type": "notes"
    }
   },
   "source": [
    "# Transcript: IPython 5\n",
    "\n",
    "Today the IPython interpreter, or kernel, still exists and has been extended.\n",
    "IPython 5 was [*announced*](http://blog.jupyter.org/2016/07/08/ipython-5-0-released/) 2 weeks ago.\n",
    "\n",
    "IPython5 integrates the prompt_toolkit a pure Python readline replacement, which works across all platforms.\n",
    "\n",
    "This enables\n",
    "- Syntax highlighting as you type\n",
    "- Real multi-line editing (up and down arrow keys move between lines)\n",
    "- Multi-line paste without breaking indentation or immediately executing code\n",
    "- Better code completion interface (we plan to improve that more)\n",
    "- Optional mouse support\n",
    "\n",
    "Here we can see how Input/Output cells are used and how we can introspect objects.  In this case avar + ? will display the\n",
    "docstring associated with the variable avar (or in this case of it's integer type).\n",
    "\n",
    "The IPython kernel also provides a set of \"magic\" functions which we will see later in the Jupyter notebook."
   ]
  },
  {
   "cell_type": "markdown",
   "metadata": {
    "slideshow": {
     "slide_type": "subslide"
    }
   },
   "source": [
    "<center> <h1> The Jupyter Project </h1>  \n",
    "<img src=\"images/IPython_Architecture2.png\" width=600/>\n",
    "<br/>\n",
    "<br/>\n",
    "A notebook runs under one kernel\n",
    "</center>"
   ]
  },
  {
   "cell_type": "markdown",
   "metadata": {
    "slideshow": {
     "slide_type": "notes"
    }
   },
   "source": [
    "# Transcript: The Jupyter Project\n",
    "\n",
    "Until 2014, everything on this slide was considered to be IPython.\n",
    "A messaging protocol had been devised which allowed to have multiple front-ends to the IPython kernel, and this also allowed to communicate with different language kernels - note: a notebook only runs under one kernel.\n",
    "\n",
    "Also note that the magics we saw are associated with the IPython kernel, other kernels may implement no magics.\n",
    "\n",
    "Since the \"big split\", the language  independent elements such as the notebook become part of the Jupyter project and IPython now represents the \"IPython kernel\", one of many available language kernels.\n",
    "\n",
    "So we now have the *jupyter console*, *jupyter qtconsole* and the *jupyter notebook* each of which is capable of communicating with any of the available language kernels.\n"
   ]
  },
  {
   "cell_type": "markdown",
   "metadata": {
    "slideshow": {
     "slide_type": "subslide"
    }
   },
   "source": [
    "<center><h1>The (Jupyter) Dashboard & [Notebook](http://localhost:8888/notebooks/Demos/Demo_0_INDEX.ipynb#NOTEBOOK) </h1>\n",
    "Create & share documents of code, equations, visualizations and explanatory text as a **(reproducible) narrative**\n",
    "\n",
    "</center><img class=\"img-responsive\" src=\"images/NotebookRichOutput.png\" width=800 />\n",
    "\n",
    "<!--\n",
    "![Notebook](images/JupyterNotebook.png) \n",
    "The Jupyter Notebook is a web application that allows you to create and share documents that contain live code, equations, visualizations and explanatory text.\n",
    "<br/>Uses include: data cleaning and transformation, numerical simulation, statistical modeling, machine learning and much more.\n",
    "<img class=\"img-responsive\" src=\"http://jupyter.org/assets/jupyterpreview.png\" width=600 />\n",
    "-->\n"
   ]
  },
  {
   "cell_type": "markdown",
   "metadata": {
    "slideshow": {
     "slide_type": "notes"
    }
   },
   "source": [
    "# Transcript: The Jupyter Dashboard & Notebook\n",
    "\n",
    "Now we'll have a look at the Jupyter Dashboard and Notebook browser-based front-end.\n",
    "\n",
    "#### CLICK ON \"Notebook\" link in title, then on \"Dasbboard\" link.\n",
    "\n",
    "We are now looking at the Jupyter dashboard.\n",
    "We see a listing of files and folders, with folders listed first, then notebooks and then other files.\n",
    "Note that historically the notebooks have kept their .ipynb (IPython Notebook) name - they are actually in JSON format.\n",
    "\n",
    "If we click on the Running tab we can see a list of currently running notebooks and their kernels.\n",
    "From here we can shutdown notebooks, though it is generally best to do this cleanly from the notebook itself, saving the file first.\n",
    "\n",
    "There is also a CLusters tab for clusters of IPython kernels if IPyParallel is being used.\n",
    "\n",
    "Moving back to the file tab we see several buttons top right.\n",
    "We can upload a notebook for example (the notebook server may be running remotely).\n",
    "\n",
    "Via the New menu we can edit a new textfile (with syntax highlighting based for the lanugage), open a terminal (except under Windows) or create a new Notebook using one of the available language kernels.\n",
    "\n",
    "By default Jupyter comes with the IPython kernel for Python 2 or 3 installed and other language kernels are to be installed manually.  Here we see some of the kernels installed on my system (not all are working!) such as Prolog, Scheme, Bash, Python3, R and Coconut a functional programming language.\n",
    "\n",
    "We will see that about 50 kernels exist - however, not all kernels are fully functional especially on Windows.\n",
    "\n",
    "Now let's look at some example Notebooks\n",
    "\n",
    "#### GO TO DEMO INDEX\n"
   ]
  },
  {
   "cell_type": "markdown",
   "metadata": {
    "slideshow": {
     "slide_type": "notes"
    }
   },
   "source": [
    "# Transcript: The Notebook\n",
    "\n",
    "Here is an example notebook.\n",
    "\n",
    "** Walk through the notebook (until 1st the interactive plot)**\n",
    "\n",
    "** Emphasize that it is a series of input/output cells.**\n",
    "\n",
    "Input cells can be code or markdown cells.\n",
    "\n",
    "Output cells are the result of executing code cells but may include rich media such as HTML, javascript, graphical plots, images.\n",
    "\n",
    "**-----------**\n",
    "\n",
    "We see top right that this is a Python3 notebook.\n",
    "\n",
    "Note that the first cell is a markdown cell.\n",
    "Double clicking on this cell takes us to the markdown and we can edit this.\n",
    "Pressing shift-ENTER will cause the markdown to be rendered.\n",
    "\n",
    "Below this is a code cell, which can also be executed by pressing shift-ENTER.\n",
    "Note that in this case, the line '%matplotlib inline' is an IPython magic command which tells the kernel to show any matplotlib graphics inline in the notebook rather than in some external window.\n",
    "\n",
    "Let us step through these initial cells.\n",
    "\n",
    "The plot_sin code shows us how we can use the \"interact\" function to allow (IPyWidget) widgets to control the parameters passed to a function, \"plot_sin\" in this case.\n",
    "\n",
    "This shows how we can use interact to control parameters passed to a graphical function.\n",
    "The code calls interact with arguments plot_sin, the function which we want to interact with and parmeters freq and phase.\n",
    "Because we provide floating numbers for freq and phase, FLoatingSlider sliders will be used to control freq and phase.\n",
    "\n",
    "Every time we change freq, phase values the plot is redrawn taking into account the changes.\n",
    "\n",
    "We can see that thr notebook allows us to mix markdown, code and generated graphics (and even rick media: audio/video) to create a narrative.\n",
    "\n",
    "#### Stop there - close the notebook\n"
   ]
  },
  {
   "cell_type": "markdown",
   "metadata": {
    "slideshow": {
     "slide_type": "notes"
    }
   },
   "source": [
    "# Transcript: R Notebook\n",
    "\n",
    "Now let's look at a notebook using another language kernel.\n",
    "\n",
    "We will use the R kernel.\n",
    "\n",
    "#### GO TO DEMO INDEX, click on MOOC R\n",
    "\n",
    "This is a notebook I created when following a Coursera Data Analysis course.\n",
    "I created this notebook, using R, to document the quizzes and assignments I performed in a way which allows me to document my experiments and rerun the code\n",
    "\n",
    "Notice top-right that we are now running the R kerel.\n",
    "\n",
    "Notice how this notebook includes the output of previous runs of the notebook.\n",
    "We can clear those outputs or we can replace them by running all cells in the notebook again.\n",
    "\n",
    "I will first run the code cell to create some useful R functions.\n",
    "I will then follow the link to PA1 and start executing cells.\n",
    "We will read in some data (128M already downloaded) using R functions and then perform operations on that data and create a histogram.\n",
    "\n",
    "#### Stop there - close the notebook\n"
   ]
  },
  {
   "cell_type": "markdown",
   "metadata": {
    "slideshow": {
     "slide_type": "subslide"
    }
   },
   "source": [
    "<center> <h1> Jupyter: Public Notebooks </h1> </center>\n",
    "\n",
    "Jupyter notebooks are used in many domains\n",
    "- scientific (physics, chemistry, biology, genomics, data analysis)\n",
    "- and non-scientific (finance)\n",
    "\n",
    "| Site        | URL           | Info  |\n",
    "|:-------------:|:-------------|:-----|\n",
    "| nbviewer      | [https://nbviewer.org](https://nbviewer.org) | submit your url, browse by theme |\n",
    "| github      | [https://github.com](https://github.com) |  *> 200k notebooks* [[*Announcement - May '15*]](http://blog.jupyter.org/2015/05/07/rendering-notebooks-on-github/) |\n",
    "| IPython gallery | [A-gallery-of-interesting-IPython-Notebooks](https://github.com/ipython/ipython/wiki/A-gallery-of-interesting-IPython-Notebooks)      | many notebooks organized by domain |\n",
    "| Notebook Gallery | **[http://nb.bianp.net/](http://nb.bianp.net/)**      |    view submitted notebooks by '*most viewed*' or '*data*' |\n"
   ]
  },
  {
   "cell_type": "markdown",
   "metadata": {
    "slideshow": {
     "slide_type": "notes"
    }
   },
   "source": [
    "# Transcript: Jupyter: Public Notebooks\n",
    "\n",
    "Jupyter notebooks are used across many scientific, non-scientific domains.\n",
    "\n",
    "There are examples of notebooks for famous/infamous **discoveries**:\n",
    "- [LIGO proof of existence of *Gravitational Waves* as theorized by Einstein](https://www.ligo.caltech.edu/news/ligo20160211) [**notebook tutorial**](https://losc.ligo.org/s/events/GW150914/GW150914_tutorial.html)\n",
    "- [Panama Papers/Neo4J](https://blog.ouseful.info/2016/06/13/querying-panama-papers-neo4j-database-container-from-a-linked-jupyter-notebook-container/)\n",
    "\n",
    "But there are many 100's of thousands of public available notebooks covering many domains.\n",
    "\n",
    "- nbviewer.org provides a \"A simple way to share Jupyter Notebooks\" from a URL.\n",
    "   - The site can be browsed for notebooks by theme\n",
    "   \n",
    "- github itself is capable of rendering the json-based notebook format since May 2015.\n",
    "   - There are > 200k notebooks on github alone\n",
    "\n",
    "- The IPython Gallery on github.com/ipython links to 100's of showcased notebooks\n",
    "   - for scientific study, tutorials, books organized by domain\n",
    "\n",
    "- The Notebook Gallery is another site where you can submit or browse notebooks, by '*most viewed*' or '*recent*'\n",
    "   - particularly nice as it shows screenshots of each notebook in an easy to browse fashion\n",
    "   - also interesting to see how many diverse notebooks are added on a daily basis"
   ]
  },
  {
   "cell_type": "markdown",
   "metadata": {
    "slideshow": {
     "slide_type": "subslide"
    }
   },
   "source": [
    "<center> <h1> Jupyter: Running notebooks </h1> </center>\n",
    "- Native OS Python distribution + Pip, or Anaconda\n",
    "- JupyterHub, multi-user server\n",
    "- Under Docker [e.g. *docker-stacks* images]\n",
    "- Integrated into data science Cloud Hosting or plain IaaS:\n",
    "  - [Azure ML Studio](https://blogs.technet.microsoft.com/machinelearning/2015/07/24/introducing-jupyter-notebooks-in-azure-ml-studio/)\n",
    "  - [Google Cloud DataLab Beta](https://cloud.google.com/datalab/)\n",
    "  - [IBM Data Scientist Workbench](https://my.datascientistworkbench.com/)\n",
    "- **Cloud hosted (ephemereal)**\n",
    "  - [**tryjupyter.org**](https://try.jupyter.org/) [uses *docker-demo* image]\n",
    "  - **Binder** (https://mybinder.org), an example [github repo](https://github.com/mjbright/binder_jupyter_notebook)"
   ]
  },
  {
   "cell_type": "markdown",
   "metadata": {
    "collapsed": true,
    "slideshow": {
     "slide_type": "notes"
    }
   },
   "source": [
    "# Transcript: Running Jupyter\n",
    "\n",
    "You can of course install jupyter using the pip of your OS native Python distribution, or download the Anaconda Python distribution\n",
    "\n",
    "If you want to run labs for a group of users then JupyterHub will allow you to do this.\n",
    "\n",
    "There are also many Docker images, including the semi-official *docker-stacks* and *docker-demo* images with pre-installed language environments.\n",
    "Very convenient.\n",
    "\n",
    "Several Cloud Hosting companies are providing '*data science*' platforms which integrate Jupyter.\n",
    "Azures' Machine Learning Studio, Google Cloud's DataLab and IBM DataScientist Workbench.\n",
    "\n",
    "Of course you can just run a VM on any IaaS infrastructure such as Amazon EC2 (or docker image on ECS).\n",
    "- [AWS EC2](http://efavdb.com/deep-learning-with-jupyter-on-aws/) [Iaas]\n",
    "Stanford class, CS231n: Convolutional Neural Networksfor Visual Recognition provides such a VM image (AMI) with all course depencies all pre-installed.\n",
    "\n",
    "**Ephemereal**\n",
    "But there are also a set of ephemereal hosting sites which will launch a container instance of a Jupyter server on demand.\n",
    "\n",
    "- tryjupyter.org, hosted by Rackspace will launch the *docker-demo* image with several language kernels and sample notebooks\n",
    "- mybinder.org, will create a docker image from your github repo, from which anyone can launch a jupyter instance\n",
    "\n"
   ]
  },
  {
   "cell_type": "markdown",
   "metadata": {
    "slideshow": {
     "slide_type": "subslide"
    }
   },
   "source": [
    "<center><h1>Jupyter & Azure ML Studio</h1></center>\n",
    "<table class=\"noborder\"><tbody>\n",
    "<tr><td width=\"25%\">Jupyter integration in\n",
    "<a href=\"https://blogs.technet.microsoft.com/machinelearning/2015/07/24/introducing-jupyter-notebooks-in-azure-ml-studio/\"> Azure ML Studio </a><br/><br/><br/>\n",
    "- R\n",
    "<br/><br/>\n",
    "- Python\n",
    "</td><td><img src=\"https://msdnshared.blob.core.windows.net/media/2016/03/032916_2008_JupyterNote1.png\" border=0 height=900 width=900/></td></tr></tbody>\n",
    "</table>"
   ]
  },
  {
   "cell_type": "markdown",
   "metadata": {
    "collapsed": true,
    "slideshow": {
     "slide_type": "notes"
    }
   },
   "source": [
    "# Transcript: Azure ML Studio\n",
    "\n",
    "The Azure Machine Learning platform integrated Jupyter notebooks for Python in 2015 and this year integrated the R kernel.\n",
    "The environment is limited to working on Azure datasets *for the moment* but Microsoft have ambitious plans for the platform.\n"
   ]
  },
  {
   "cell_type": "markdown",
   "metadata": {
    "slideshow": {
     "slide_type": "subslide"
    }
   },
   "source": [
    "<center><h1>try.jupyter.org</h1></center>\n",
    "<img src=\"images/TryJupyter.png\" border=0 height=900 width=900/>"
   ]
  },
  {
   "cell_type": "markdown",
   "metadata": {
    "collapsed": true,
    "slideshow": {
     "slide_type": "notes"
    }
   },
   "source": [
    "# Transcript: try.jupyter.org\n",
    "\n",
    "Here we can see that the try.jupyter.org site provides a temporary notebook server with a selection of notebooks/kernels for several interesting languages.\n",
    "\n"
   ]
  },
  {
   "cell_type": "markdown",
   "metadata": {
    "slideshow": {
     "slide_type": "slide"
    }
   },
   "source": [
    "<center>\n",
    "    <h1> Kernels, Widgets & Extensions </h1>\n",
    "</center>\n",
    "\n",
    "<center>\n",
    "<img src=\"images/notebook_components.png\" />\n",
    "</center>\n"
   ]
  },
  {
   "cell_type": "markdown",
   "metadata": {
    "collapsed": true,
    "slideshow": {
     "slide_type": "notes"
    }
   },
   "source": [
    "# Transcript: Kernels, Widgets, Extensions\n",
    "\n",
    "The Jupyter project provides and enables others to provide kernels (language environments), graphical widgets (allowing to interact with code) and extensions (providing new features).\n",
    "\n",
    "We will look briefly at each of these aspects"
   ]
  },
  {
   "cell_type": "markdown",
   "metadata": {
    "slideshow": {
     "slide_type": "subslide"
    }
   },
   "source": [
    "<center>\n",
    "<h1>~ 50 Kernels</h1>\n",
    "Kernels are execution environments - typically a language\n",
    "[[Kernels Page]](https://github.com/ipython/ipython/wiki/IPython-kernels-for-other-languages)\n",
    "</center>\n",
    "\n",
    "<table class=\"noborder\">\n",
    "<tr>\n",
    "<td style=\"color:blue\">**IJulia** </td><td style=\"color:blue\"> **IRKernel** </td><td style=\"color:blue\"> **IPython** </td><td style=\"color:green\"> IRuby </td><td> IGo</td>\n",
    "</tr><tr>\n",
    "<td>IScilab </td><td> IMatlab </td><td> Hy </td><td> Clojure </td><td style=\"color:violet\"> **Bash** </td>\n",
    "</tr><tr>\n",
    "<td> Lua</td><td> Mochi </td><td> IErlang </td><td> **Spark** </td><td style=\"color:violet\"> **MetaKernel**</td>\n",
    "</tr><tr>\n",
    "<td> IVisual VP </td><td> Brainfuck </td><td> Brython </td><td>IOCaml </td><td style=\"color:violet\"> **MetaKernel_Bash**</td>\n",
    "</tr><tr>\n",
    "<td>IScala </td><td> IMathics </td><td> IAldor </td><td> Calico Pro </td><td> Calysto Prolog</td>\n",
    "</tr><tr>\n",
    "<td>IForth </td><td style=\"color:green\"> **IPerl** </td><td style=\"color:green\"> **IPerl6** </td><td> IPHP </td><td> IOctave</td>\n",
    "</tr><tr>\n",
    "<td>KDB+/Q Ker </td><td> ICryptol </td><td style=\"color:green\"> **C++ (cling)** </td><td style=\"color:green\"> **Xonsh** </td><td> IJavascript </td>\n",
    "</tr><tr>\n",
    "<td>cl-jupyter </td><td> IHaskell </td><td> IElixir </td><td> Java 9 </td><td> Calysto LC</td>\n",
    "</tr><tr>\n",
    "<td>Redis </td><td> jove </td><td>Prolog </td><td> IFSharp </td><td>Calysto Scheme</td>\n",
    "</tr>\n",
    "</table>\n"
   ]
  },
  {
   "cell_type": "markdown",
   "metadata": {
    "collapsed": true,
    "slideshow": {
     "slide_type": "notes"
    }
   },
   "source": [
    "# Transcript: Kernels\n",
    "\n",
    "There are currently about 50 kernels available for the Jupyter project, but YMMV.  It can be tricky to install, especially on Windows.\n"
   ]
  },
  {
   "cell_type": "markdown",
   "metadata": {
    "slideshow": {
     "slide_type": "skip"
    }
   },
   "source": [
    "<center><h1>Widgets</h1>\n",
    "Widgets are eventful python objects with a representation in the browser. [[documentation]](https://ipywidgets.readthedocs.io/en/latest/examples/Widget%20Basics.html#What-are-widgets?)\n",
    "</center>\n",
    "\n",
    "<table class=\"noborder\"><tbody>\n",
    "<tr><td>Provided widgets include:\n",
    "<ul>\n",
    "<li>IntSlider, FloatSlider, FloatProgress\n",
    "</li><li>Buttons, Checkboxes, Radio buttons\n",
    "</li>Dropdown menus\n",
    "</ul>\n",
    "</td><td><img src=\"images/interact.png\" border=0 height=500 width=500/></td></tr></tbody>\n",
    "</table>\n"
   ]
  },
  {
   "cell_type": "markdown",
   "metadata": {
    "collapsed": true,
    "slideshow": {
     "slide_type": "notes"
    }
   },
   "source": [
    "# Transcript: Widgets\n",
    "\n",
    "A set of Graphical widgets are provided by the ipywidgets package allowing to interact with Python code.\n",
    "In the future such widgets will be provided to other languages via '*delclarative HTML widgets*'"
   ]
  },
  {
   "cell_type": "markdown",
   "metadata": {
    "slideshow": {
     "slide_type": "subslide"
    }
   },
   "source": [
    "<center><h1>Extensions</h1>\n",
    "<!-- https://carreau.gitbooks.io/jupyter-book/content/notebook-extensions.html -->\n",
    "</center>\n",
    "- Collection [github]: [ipython-contrib/IPython-notebook-extensions](https://github.com/ipython-contrib/IPython-notebook-extensions)\n",
    "- Installed to http://localhost:8888/nbextensions/\n",
    "\n",
    "Many extensions available, including:\n",
    "- [**RISE**](https://github.com/damianavila/RISE) - **these slides are running under Jupyter**\n",
    "- nbpresenter\n",
    "- [nbgrader](https://nbgrader.readthedocs.org/en/stable/) - creation/grading of classroom assignments\n",
    "\n",
    "<!-- [plotchecker](https://github.com/jhamrick/plotchecker) - grading of plots\n",
    "- [hide_code](https://pypi.python.org/pypi/hide_code) - hide code cells\n",
    "- [clicker](https://athena.brynmawr.edu/jupyter/hub/dblank/public//Activity%20Magic.ipynb) - anonymous polls\n",
    "-->\n",
    "\n",
    "Generally installable via pip or from github repo"
   ]
  },
  {
   "cell_type": "markdown",
   "metadata": {
    "collapsed": true,
    "slideshow": {
     "slide_type": "notes"
    }
   },
   "source": [
    "# Transcript: Extensions\n",
    "\n",
    "There exists many notebook extensions, including the '*notebook-extensions*' package.\n",
    "\n",
    "Some other extensions of note are\n",
    "- RISE: which allows to use the notebook to run a Reveal.js slide show - this is what I'm using now\n",
    "- nbgrader: this extension (**next slide**) allows to create graded assignments in the notebook, typically used in a classroom environment using the JupyterHub multi-user server.\n",
    "\n",
    "There are generally easy to install directly via pip, or from their github repo."
   ]
  },
  {
   "cell_type": "markdown",
   "metadata": {
    "slideshow": {
     "slide_type": "skip"
    }
   },
   "source": [
    "<center><h1>nbgrader</h1>\n",
    "\n",
    "<img src=\"images/nbgrader_creating_assignment.gif\" />"
   ]
  },
  {
   "cell_type": "markdown",
   "metadata": {
    "slideshow": {
     "slide_type": "notes"
    }
   },
   "source": [
    "# Transcript: nbgrader Extension\n",
    "\n",
    "Here we can see the nbgrader extension in action.\n",
    "\n",
    "When creating the assignment we designate cell as\n",
    "- \"autograded answer\" : where a student will enter their answer to be submitted)\n",
    "- \"autograded tests\"  : with assertions to auto-grade the students' answer\n",
    "- \"manually graded\"\n"
   ]
  },
  {
   "cell_type": "markdown",
   "metadata": {
    "slideshow": {
     "slide_type": "slide"
    }
   },
   "source": [
    "<center>\n",
    "    <h1> The Ecosystem & Future Projects </h1>\n",
    "</center>"
   ]
  },
  {
   "cell_type": "markdown",
   "metadata": {
    "slideshow": {
     "slide_type": "subslide"
    }
   },
   "source": [
    "<center><h1>Jupyter Incubator Projects</h1> (https://github.com/jupyter-incubator)\n",
    "[proposals](https://github.com/jupyter-incubator/proposals)</center>\n",
    "\n",
    "<table class=\"noborder\">\n",
    "\n",
    "<!--\n",
    "<tr><td style=\"color:red\"><b> showcase   [link](https://github.com/jupyter-incubator/showcase)</b></td><td>\n",
    "A spot to try demos of one or more incubating Jupyter projects in **Binder** [demos](http://jupyter.cloudet.xyz/)</td>\n",
    "-->\n",
    "\n",
    "<tr><td><b> [sparkmagic](https://github.com/jupyter-incubator/sparkmagic)</b></td><td>\n",
    "Jupyter magics and kernels for working with remote Spark clusters\n",
    "\n",
    "</td></tr><tr><td><b> [declarativewidgets](https://github.com/jupyter-incubator/declarativewidgets)</b></td><td>\n",
    "Declare Widgets in HTML\n",
    "\n",
    "</td></tr><tr><td><b> [dashboards](https://github.com/jupyter-incubator/dashboards)</b></td><td>\n",
    "Create Dashboards from Notebooks\n",
    "\n",
    "</td></tr><tr><td><b> [contentmanagement](https://github.com/jupyter-incubator/contentmanagement)</b></td><td>\n",
    "Extensions for search, notebook modules/[cookbooks](https://github.com/jupyter-incubator/contentmanagement/blob/master/etc/notebooks/cookbooks_demo/use_cookbooks.ipynb), ToC, [bundlers](https://github.com/jupyter-incubator/contentmanagement/blob/master/etc/notebooks/associations_demo/associations_demo.ipynb) [vid](https://www.youtube.com/watch?v=SJiezXPhVv8)\n",
    "\n",
    "</td></tr><tr><td><b> [kernel_gateway](https://github.com/jupyter-incubator/kernel_gateway)</b></td><td>\n",
    "Support different protocols to Jupyter server, e.g. non-nb web clients, u-services, cluster\n",
    "\n",
    "<!--\n",
    "</td></tr><tr><td><b> [traittypes](https://github.com/jupyter-incubator/traittypes)</b></td><td>\n",
    "Traitlet types for NumPy, SciPy and friends\n",
    "-->\n",
    "\n",
    "</td></tr>\n",
    "</table>"
   ]
  },
  {
   "cell_type": "markdown",
   "metadata": {
    "slideshow": {
     "slide_type": "notes"
    }
   },
   "source": [
    "# Transcript: Incubating Projects\n",
    "\n",
    "There are a number of incubating projects, including a showcase site with live demos of the projects.\n",
    "- sparkmagic: We've seen that there exist Spark kernels, but these integrate Spark into the local kernel.  Microsoft initially proposed this project to allow to integrate with an external Spark engine, in Azure for example\n",
    "- declarative widgets: This will allow to declare widgets in HTML which can be used from different language kernels\n",
    "- dashboard: Provides the ability to create different notebook layouts which we will see on the [**next slide**] , rather than the strictly linear layout currently used\n",
    "- content management: allows notebooks to be included in other notebooks as modules, to include table of contents, to bundle notebook and dependent files in a zip file\n",
    "- kernel gateway: will allow different protocols to communicate with the Jupyter server allowing to integrate cell interaction into non-notebook web clients, such as a standard web page, blog post etc"
   ]
  },
  {
   "cell_type": "markdown",
   "metadata": {
    "slideshow": {
     "slide_type": "subslide"
    }
   },
   "source": [
    "<center><h1>Incubator: Jupyter Dashboards</h1> (https://github.com/jupyter-incubator/dashboards) - alternative layouts</center>\n",
    "\n",
    "![dashboards](https://github.com/jupyter-incubator/dashboards/raw/master/etc/dashboards_intro.png)"
   ]
  },
  {
   "cell_type": "markdown",
   "metadata": {
    "slideshow": {
     "slide_type": "notes"
    }
   },
   "source": [
    "# Transcript: Jupyter Dashboards\n",
    "\n",
    "Dashboards allow to create a alternative cell layouts, rather than the standard linear layout\n",
    "\n"
   ]
  },
  {
   "cell_type": "markdown",
   "metadata": {
    "slideshow": {
     "slide_type": "subslide"
    }
   },
   "source": [
    "<center><h1>JupyterLab - pre-Alpha</h1> (https://github.com/jupyter/jupyterlab/) - the future interface</center>\n",
    "\n",
    "\n",
    "\n",
    "![JupyterLab](https://raw.githubusercontent.com/jupyter/jupyterlab/master/jupyter-plugins-demo.gif)"
   ]
  },
  {
   "cell_type": "markdown",
   "metadata": {
    "slideshow": {
     "slide_type": "notes"
    }
   },
   "source": [
    "# Transcript: Jupyter Lab\n",
    "\n",
    "Jupyter Lab is the upcoming user interface for the Jupyter Notebook, hosts notebook editors, text editors, terminals, file browsers, and other tools in responsive, extensible panels.\n"
   ]
  },
  {
   "cell_type": "markdown",
   "metadata": {
    "slideshow": {
     "slide_type": "slide"
    }
   },
   "source": [
    "<center><h1>External Jupyter Projects</h1></center>\n",
    "<br/>\n",
    "There are many external projects such as *Beaker*, *Hydrogen (ATOM)*, *EIN (Emacs)*, *Rodeo*, *SageMathCloud* integrating Jupyter.\n",
    "\n",
    "Publishers are also turning to Jupyter for books, blogs, reports, theses sometimes with live code examples.\n",
    "- e.g. [**Thebe** (O'Reilly)](https://github.com/oreillymedia/thebe)\n",
    "- Nature, Scientific American Magazines\n",
    "\n",
    "Educators\n",
    "- tutorials, assignments, presentations, documenting\n",
    "- MOOCs - online education:\n",
    "  - notebook-based (**Edx/Apache Spark**)\n",
    "  - jupyter-integrated (**F.U.N.**)\n",
    "- in classrooms using JupyterHub"
   ]
  },
  {
   "cell_type": "markdown",
   "metadata": {
    "slideshow": {
     "slide_type": "notes"
    }
   },
   "source": [
    "# Transcript: External projects\n",
    "\n",
    "There are many external projects integrating Jupyter, for example in IDEs such as ATOM, Emacs.\n",
    "\n",
    "There have been examples of live blog posts (which we'll see next) from O'Reilly, Nature and Scientific American Magazines.\n",
    "\n",
    "Jupyter is being increasingly used in Education, in MOOCs by providing runnable environments\n",
    "- in the cloud\n",
    "- as downloadable VMs, e.g. Edx/Spark\n",
    "- or integrated into the MOOC platform"
   ]
  },
  {
   "cell_type": "markdown",
   "metadata": {
    "slideshow": {
     "slide_type": "subslide"
    }
   },
   "source": [
    "<center><h1>OReilly Blog Article - using Thebe</h1></center>\n",
    "\n",
    "<a href=\"https://www.oreilly.com/learning/introducing-pandas-objects\">\n",
    "<table class=\"noborder\"><tbody><tr><td>\n",
    "<img src=\"images/OReilly_Thebe1.PNG\" width=600/>\n",
    "</td><td>\n",
    "<center>Blog post with modifiable, runnable  <br/><br/>code cells with **RUN** button :<br/>\n",
    "<img src=\"images/OReilly_Thebe2.PNG\" width=400/></center>\n",
    "</td></tr></tbody></table></a>"
   ]
  },
  {
   "cell_type": "markdown",
   "metadata": {
    "slideshow": {
     "slide_type": "notes"
    }
   },
   "source": [
    "# Transcript: Thebe\n",
    "\n",
    "Thebe is an O'Reilly project on github, allowing to interact with Jupyter notebook from a standard web page, embedding runnable cells in the blog post\n"
   ]
  },
  {
   "cell_type": "markdown",
   "metadata": {
    "slideshow": {
     "slide_type": "skip"
    }
   },
   "source": [
    "<center><h1> MOOCs, e.g. F.U.N., GWU, EdX/Spark... </h1></center>\n",
    "<br/><a href=\"https://www.france-universite-numerique-mooc.fr/courses/inria/41001S02/session02/courseware/5ec24fe4d294490795d69befc8e19870/8ff1435df3c846fdb0cb42adfd11c3ab/\">\n",
    "<img src=\"images/MOOC_FUN_Jupyter_Integrated.png\" width=1400 />\n",
    "</a>"
   ]
  },
  {
   "cell_type": "markdown",
   "metadata": {
    "slideshow": {
     "slide_type": "notes"
    }
   },
   "source": [
    "# Transcript: MOOCs\n",
    "\n",
    "An example where **IPython v2!!**  was embedded into the MOOC itself"
   ]
  },
  {
   "cell_type": "markdown",
   "metadata": {
    "slideshow": {
     "slide_type": "slide"
    }
   },
   "source": [
    "<center><h1> Jupyter for Everything Else </h1></center>\n",
    "\n",
    "- Use of web technologies: mix-in HTML, CSS, js, SVG ...\n",
    "- Use of bash kernel for command-line work\n",
    "- Supplement command-line tools with graphics\n",
    "- Create interactive presentations (thanks *RISE* extension !)\n",
    "- Publish \"live blog posts\"\n",
    "- Creating status reports from notebooks using nbconvert"
   ]
  },
  {
   "cell_type": "markdown",
   "metadata": {
    "slideshow": {
     "slide_type": "notes"
    }
   },
   "source": [
    "# Transcript: Jupyter for Everything Else\n",
    "\n",
    "I've been experimenting with Jupyter for some uses quite different from the **usual** data science, finance **programming language** approaches.\n",
    "\n",
    "We've already seen how we can mix HTML, CSS, javascript and SVG into notebooks.\n",
    "\n",
    "We'll look at use of Jupyter for command line use (bash kernel), and how this can be supplemented with graphcs.\n",
    "\n",
    "I've mentioned the RISE jupyter extension\n",
    "\n",
    "I've mentioned how publishers are using Jupyter to create interactive books, articles.\n",
    "Others are also using Jupyter for creating blog posts directly.\n",
    "\n",
    "I'll took about blog posts where I have referenced \"live tutorials\" using Binder.\n",
    "\n",
    "As an experiment I've been using nbconvert to do monitoring of some OpenStack platforms under cron"
   ]
  },
  {
   "cell_type": "markdown",
   "metadata": {
    "slideshow": {
     "slide_type": "subslide"
    }
   },
   "source": [
    "<center><h1> Everything Else: web technologies </h1></center>\n",
    "\n",
    "- HTML/JavaScript/css experimentation\n",
    "  - Many HTML, CSS, JS capabilities if you **proceed with care**\n",
    "  - d3.js animations if\n",
    "    - Need more interactivity\n",
    "    - Prototyping a D3 project\n",
    "    - Reusing existing D3 e.g. from http://bl.orcks.org\n",
    "- SVG\n",
    "\n",
    "<center><b>Select Theme: </b><select id=\"theme-list\"></select></center>"
   ]
  },
  {
   "cell_type": "markdown",
   "metadata": {
    "slideshow": {
     "slide_type": "notes"
    }
   },
   "source": [
    "# Transcript: web technologies\n",
    "\n",
    "I won't go much further on this here, but I will just demonstrate how we can do any javascript in the notebook.\n",
    "\n",
    "We have enough rope to hang ourselves.\n",
    "\n",
    "I'll just show an example of how javascript can be used to interact with the notebook, in this case by creating a menu (populated before I started the presentation) to allow me to select the theme of my presentation\n"
   ]
  },
  {
   "cell_type": "markdown",
   "metadata": {
    "slideshow": {
     "slide_type": "subslide"
    }
   },
   "source": [
    "<center><h1> Everything Else: command-line </h1>\n",
    "\n",
    "Two bash kernels exist for Jupyter: bash_kernel and calysto/metakernel_bash\n",
    "</center>\n",
    "\n",
    "<table class=\"noborder\"><tbody>\n",
    "<tr>\n",
    "<td>\n",
    "[Calysto](https://github.com/Calysto) Metakernels\n",
    "<ul>\n",
    "<li>easy to fix for Windows/Cygwin</li>\n",
    "<li>Family of metakernels</li>\n",
    "<li>- Common magics</li>\n",
    "<li>Active development</li>\n",
    "</ul>\n",
    "</td>\n",
    "<td>\n",
    "<img src=\"images/github_Calysto.PNG\" width=400/>\n",
    "</td>\n",
    "</tr>\n",
    "</tbody></table>"
   ]
  },
  {
   "cell_type": "markdown",
   "metadata": {
    "slideshow": {
     "slide_type": "notes"
    }
   },
   "source": [
    "# Transcript: Command-line\n",
    "\n",
    "For my experiments I decided to use the *metakernel_bash* kernel rather than *bash_kernel*, because I could easily get it working on Windows/Cygwin, it is one of a family of metakernels which have the same magics and it is under active development.\n",
    "\n"
   ]
  },
  {
   "cell_type": "markdown",
   "metadata": {
    "slideshow": {
     "slide_type": "subslide"
    }
   },
   "source": [
    "<center><h1> Everything Else: command-line </h1>\n",
    "<h2>Why? ... I hear you ask</h2>\n",
    "<h2>Inspired by the notebook as an educational tool, I used it for CLI tasks</h2>\n",
    "</center>\n",
    "\n",
    "\n",
    "<table class=\"noborder\"><tbody>\n",
    "<tr>\n",
    "<td>\n",
    "<ul>\n",
    "<li>[**Docker demos / labs in Jupyter**](http://mjbright.blogspot.fr/2016/02/creating-docker-build-lab-with-jupyter.html)</li>\n",
    "<li>Bash:1st-class citizen with magics+</li>\n",
    "<li>[**Example notebook**](Demos/Demo_Metakernel_Bash.ipynb)</li>\n",
    "<li>CLI tutorials in an easy to maintain<br/>\n",
    "as runnable \"live notebook\".</li>\n",
    "<li>It \"floats my boat\".</li>\n",
    "</ul>\n",
    "</td>\n",
    "<td>\n",
    "<img src=\"images/bash_graphics.PNG\" height=800 width=500/>\n",
    "</td>\n",
    "</tr>\n",
    "</tbody></table>"
   ]
  },
  {
   "cell_type": "markdown",
   "metadata": {
    "slideshow": {
     "slide_type": "notes"
    }
   },
   "source": [
    "# Transcript: Command-line notebooks - why?\n",
    "\n",
    "I started this work because I liked the notebook paradigm for creating **narratives**, which could be used as repeatable, auto-documenting demos.  I have presented Docker at least 10 times at work or elsewhere and experimented with using the Python notebook for documenting command-line demos.  Initially, I used the '!' bang operator or a '*docker*' alias to breakout from a Python notebook.  However, these were breaking out from the '*command-line*' paradigm I was demonstrating and could be confusing.\n",
    "\n",
    "So next I tried using the bash kernel and created a **runnable** demo notebook and a Docker lab (**runnable to re-create the documentation**).\n",
    "\n",
    "I've been playing with extending the bash kernel (*actually the **metakernel_bash** kernel*) to display graphics.\n",
    "The idea is to provide an api of available functions which augment command-line usage.\n",
    "I've created example notebooks where it is possible to invoke html, javascript, graphviz (provided by the metakernels) and images from bash.\n",
    "\n",
    "** NOW LET's look at an example bash notebook supplemented with graphics **\n",
    "\n",
    "Another thing in the '*bash camp*' I've been playing with is creating **live notebooks** on mybinder.org.\n"
   ]
  },
  {
   "cell_type": "markdown",
   "metadata": {
    "slideshow": {
     "slide_type": "subslide"
    }
   },
   "source": [
    "<center><h1> Everything Else: Binder \"live notebooks\" </h1></center>\n",
    "\n",
    "<img src=\"images/MyBinder.org.PNG\" width=600 />"
   ]
  },
  {
   "cell_type": "markdown",
   "metadata": {
    "slideshow": {
     "slide_type": "notes"
    }
   },
   "source": [
    "# Transcript: Binder - \"live notebooks\" as runnable tutorials\n",
    "\n",
    "Binder allows to build a docker image from a github repo using your requirements (Dockerfile, requirements.txt for Pip or environment.yaml file for Conda).\n",
    "\n",
    "This allows anyone to launch a jupyter server on the binder web-site with that image.\n",
    "\n",
    "It's possible to share live tutorials/demos based on Jupyter.\n",
    "\n",
    "With the new interface you simply submit the URL of your github repo and the image will be build,\n",
    "    e.g. https://github.com/mjbright/binder_jupyter_notebook\n",
    "\n",
    "You or someone else can now run a new instance using the resulting image at\n",
    "    http://mybinder.org/repo/mjbright/binder_jupyter_notebook\n",
    "\n",
    "This is very powerful, instant compute resources with the necessary environment setup for you.\n"
   ]
  },
  {
   "cell_type": "markdown",
   "metadata": {
    "slideshow": {
     "slide_type": "subslide"
    }
   },
   "source": [
    "<center><h1> Everything Else: \"live tutorials\"</h1></center>\n",
    "\n",
    "<table class=\"noborder\"><tbody>\n",
    "<tr>\n",
    "<td>\n",
    "We can create live tutorials online on Binder.\n",
    "<br/><br/>\n",
    "The notebook server can be launched by clicking on the binder icon in a [github repo](https://github.com/mjbright/binder_jupyter_notebook)\n",
    "   ![](images/launch_binder.svg)\n",
    "<br/><br/>   \n",
    "[Blog post](http://mjbright.blogspot.fr/2016/05/the-art-of-command-line-ls-seen-from.html) with link to \"**live tutorial**\"\n",
    "</td>\n",
    "<td>\n",
    "<img src=\"images/Blog_cli_tutorials.PNG\" width=800 />\n",
    "</td>\n",
    "</tr>\n",
    "</tbody></table>"
   ]
  },
  {
   "cell_type": "markdown",
   "metadata": {
    "slideshow": {
     "slide_type": "notes"
    }
   },
   "source": [
    "# Transcript: Binder - \"live notebooks\" as runnable tutorials\n",
    "\n",
    "So we can create \"live\" or runnable tutorials online on Binder.\n",
    "\n",
    "On github if you see this \"launch binder\" icon, if you click on this you will be taken to a new notebook server instance on binder where you can run code from that repo.\n",
    "\n",
    "I wrote a blog post about using this for command-line tutorials and linked to a ... ahem \"ls tutorial\" !!\n",
    "\n",
    "I wanted to start from the most basic tutorial and build up, I've added more tutorials.\n",
    "\n",
    "The point was to show that you can create live environments like this where people can run and play with your code."
   ]
  },
  {
   "cell_type": "markdown",
   "metadata": {
    "slideshow": {
     "slide_type": "subslide"
    }
   },
   "source": [
    "<center><h1> Everything Else: Binder CLI \"live tutorials\" </h1></center>\n",
    "\n",
    "<table class=\"noborder\"><tbody>\n",
    "<tr>\n",
    "<td>\n",
    "In that [github **repo**](http://mybinder.org/repo/mjbright/binder_jupyter_notebook) I created an **INDEX notebook**\n",
    "<br/><br/>\n",
    "other notebooks in the same repo<br/><br/>\n",
    "<br/><br/>\n",
    "\n",
    "</td>\n",
    "<td>\n",
    "<a href=\"http://mybinder.org/repo/mjbright/binder_jupyter_notebook\">\n",
    "<img src=\"images/MyBinder_CommandLineTutorialsIndexPage.PNG\" width=600 />\n",
    "</a>\n",
    "</td>\n",
    "</tr>\n",
    "</tbody></table>"
   ]
  },
  {
   "cell_type": "markdown",
   "metadata": {
    "slideshow": {
     "slide_type": "notes"
    }
   },
   "source": [
    "# Transcript: Binder - command-line \"live notebooks\"\n",
    "\n",
    "I created an INDEX page notebook in that repo.\n",
    "\n",
    "Now let's launch an instance of this repo on Binder **--finger's crossed everybody--**\n",
    "\n",
    "As you can see there are a few notebooks included in the repo\n",
    "- the initial ls tutorial\n",
    "- a bash arrays tutorial (not done)\n",
    "- a tcpdump networking tutorial\n",
    "- a **Perl6 1-liners tutorial** ... **will I be the first to demonstrate Perl6 at EuroPython ??!!**\n",
    "\n",
    "**NOW - Let's look at the tcpdump tutorial ... and maybe even Perl6 ?**"
   ]
  },
  {
   "cell_type": "markdown",
   "metadata": {
    "slideshow": {
     "slide_type": "subslide"
    }
   },
   "source": [
    "<center><h1> Everything Else: Slideshows </h1></center>\n",
    "\n",
    "<table class=\"noborder\"><tbody>\n",
    "<tr>\n",
    "<td>\n",
    "This <a href=\"PRESENTATION-JupyterForEverythingElse.ipynb\"><b>slideshow</b></a> is made using Jupyter<br/>\n",
    "with the RISE extensions\n",
    "\n",
    "<br/><br/>\n",
    "RISE adds special \"Slide Type\" menu<br/>\n",
    "options to each cell to specify one of\n",
    "\n",
    "<ul>\n",
    "<li>Slide</li>\n",
    "<li>Sub-Slide</li>\n",
    "<li>Fragment</li>\n",
    "<li>Notes</li>\n",
    "<li>Skip</li>\n",
    "</ul>\n",
    "\n",
    "</td>\n",
    "<td>\n",
    "<img src=\"images/RISE_slideshows.PNG\" width=500 />\n",
    "</td>\n",
    "</tr>\n",
    "</tbody></table>\n",
    "   "
   ]
  },
  {
   "cell_type": "markdown",
   "metadata": {
    "slideshow": {
     "slide_type": "notes"
    }
   },
   "source": [
    "# Transcript: RISE\n",
    "\n",
    "RISE is a Jupyter extension allowing to run a Reveal.js slideshow based on the notebook.\n",
    "\n",
    "This slideshow is a notebook - **I can show you by clickng on this link.**\n",
    "\n",
    "There are several Slide types introduced\n",
    "\n",
    "- Slide represents a new vertical sequence of slides in Reveal (they go from left to right)\n",
    "- Sub-Slide represents a slide below the previous slide/sub-slide\n",
    "- Fragment allows to reveal fragments of a slide oe by one (surprise effect)\n",
    "- Notes and Skip won't be displayed\n",
    "\n",
    "** Note that we can also embed live code, markdown, HTML as a standard notebook **\n",
    "\n",
    "**Also notice how I can edit this text during the slideshow itself.**\n"
   ]
  },
  {
   "cell_type": "markdown",
   "metadata": {
    "slideshow": {
     "slide_type": "subslide"
    }
   },
   "source": [
    "<center><h1> Everything Else: Cron e-mail status reports </h1>\n",
    "Using nbconvert we can [execute notebooks](http://10.3.216.210:8888/notebooks/notebooks/OpenStack_Monitoring_Py3.ipynb#) from the command-line</center>\n",
    "\n",
    "<table class=\"noborder\"><tbody>\n",
    "<tr>\n",
    "<td>\n",
    "<ul><li>\n",
    "Run the notebook under cron\n",
    "</li><li>\n",
    "**nbconvert** notebook result to html<br/>\n",
    "</li><li>\n",
    "send html [report](https://mail.google.com/mail/u/0/#inbox/155b805d4e9f68df) as e-mail via cron\n",
    "</li><li>\n",
    "Capabilities created incrementally in notebook, \n",
    "code migrated to modules to reduce notebook (report) code\n",
    "</li></ul>\n",
    "</td>\n",
    "<td>\n",
    "<img src=\"images/GMail_OpenStack_Status.PNG\" width=1200 />\n",
    "</td>\n",
    "</tr>\n",
    "</tbody></table>"
   ]
  },
  {
   "cell_type": "markdown",
   "metadata": {
    "slideshow": {
     "slide_type": "notes"
    }
   },
   "source": [
    "# Transcript: Everything Else: Automated e-mail status reports\n",
    "\n",
    "This was an experiment to see if it was possible to create status reports automatically under cron using the jupyter notebook.\n",
    "\n",
    "In my work we manager currently 6 OpenStack platforms which are used for NFV (Telecom) Proof of Concept projects and demos.\n",
    "Each platform is comprised of 10 to 30 servers.\n",
    "\n",
    "I wanted to auto-generate e-mails showing the status of physical nodes, ip address/ports, API URLs and VMs.\n",
    "\n",
    "I'm not proposing this as a real use-case, just a fun experiment.\n",
    "\n",
    "After a message on the Jupyter mailing list about using nbconvert to automatically execute notebooks I decided to give it a go.\n",
    "\n",
    "The process was very iterative.\n",
    "\n",
    "I developed code in the notebook and periodically abstracted the code into methods which I placed into a separate module.\n",
    "The goal was not only to abstract the code but limit the amount of code visible in the resulting notebook.\n",
    "**NOTE**: in the future it should be possible to hide the input cells.\n",
    "\n",
    "I now receive these reports on a daily basis (1 hour was too much!)\n",
    "\n",
    "There were many steps\n",
    "- Decided to use the OpenStack Python APIs (whence Python kernel) rather than bash !\n",
    "- Creating a {platform}_hosts.ini file format a but like an ansible inventory\n",
    "  - Using ansible was another technology I considered, so I wanted to keep my options open\n",
    "- Developing a pure python3 ping function (one existed)\n",
    "  - Discovered that ping is normally a setuid function !\n",
    "- Create DictTable and ListTable classes with _repr_html() method which creates an HTML table from Python structures\n",
    "  - Added highlight capability to hightlight keywords such as \"OK\", \"ACTIVE\", \"TIMEOUT\"\n",
    "- Tried to add summary information at the top of the notebook using JavaScript\n",
    "  - This worked fine **BUT** javascript isn't handled in the e-mail\n",
    "- So abstracted more the code to gather HTML output, to allow to print a status table for all platforms\n",
    "  - added links to individual platform statuses\n",
    "- Tried adding images into the notebook via graph plotting, via SVG creation, via CSS\n",
    "  - none of these worked because e-mail clients consider them unsafe\n",
    "  "
   ]
  },
  {
   "cell_type": "markdown",
   "metadata": {
    "slideshow": {
     "slide_type": "subslide"
    }
   },
   "source": [
    "\n",
    "<center><h1> Everything Else: Cron e-mail status reports (nbconvert)</h1></center>\n",
    "\n",
    "Use nbconvert under cron to run the notebook \n",
    "and send results by e-mail<br/>\n",
    "\n",
    "```shell\n",
    "nbconvert --execute --template basic --to html Monitoring.ipynb```\n",
    "<table class=\"noborder\"><tbody>\n",
    "<tr>\n",
    "<td width=60%>\n",
    "\n",
    "\n",
    "<ul><li>\n",
    "--execute: execute the notebook\n",
    "</li><li>\n",
    "--template: specify the o/p template\n",
    "</li><li>\n",
    "--to: specify o/p format\n",
    "</li><li>\n",
    "Input notebook\n",
    "</li></ul>\n",
    "</td>\n",
    "<td>\n",
    "<img src=\"images/nbconvert.png\" width=500 />\n",
    "</td>\n",
    "</tr>\n",
    "</tbody></table>\n"
   ]
  },
  {
   "cell_type": "markdown",
   "metadata": {
    "slideshow": {
     "slide_type": "slide"
    }
   },
   "source": [
    "<center><h1> Everything Else: Coming up ... </h1></center>\n",
    "\n",
    "- Experiment with JupyterHub, nbgrader, Binder\n",
    "  - I'd like to reimplement some labs as a set of graded assignments\n",
    "\n",
    "- More Metakernel_Bash experiments\n",
    "\n",
    "- Make pull requests to Metakernel_bash\n",
    "\n",
    "- Propose this stuff outside of the Python community\n",
    "\n",
    "- Xonsh_kernel\n",
    "  - Take advantage of new Python / unix-like shell\n",
    "  \n",
    "- CLing C++ interpreter kernel\n",
    "  "
   ]
  },
  {
   "cell_type": "markdown",
   "metadata": {
    "slideshow": {
     "slide_type": "subslide"
    }
   },
   "source": [
    "<center><h1> The End ... </h1>\n",
    "</center>"
   ]
  }
 ],
 "metadata": {
  "celltoolbar": "Slideshow",
  "kernelspec": {
   "display_name": "Python 3",
   "language": "python",
   "name": "python3"
  },
  "language_info": {
   "codemirror_mode": {
    "name": "ipython",
    "version": 3
   },
   "file_extension": ".py",
   "mimetype": "text/x-python",
   "name": "python",
   "nbconvert_exporter": "python",
   "pygments_lexer": "ipython3",
   "version": "3.5.1"
  },
  "livereveal": {
   "height": "800",
   "scroll": true,
   "theme": "sky",
   "width": "1280"
  },
  "toc": {
   "navigate_menu": true,
   "number_sections": true,
   "sideBar": true,
   "threshold": 6,
   "toc_cell": true,
   "toc_section_display": "block",
   "toc_window_display": true
  },
  "widgets": {
   "state": {},
   "version": "1.1.2"
  }
 },
 "nbformat": 4,
 "nbformat_minor": 0
}
