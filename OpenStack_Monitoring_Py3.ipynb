{
 "cells": [
  {
   "cell_type": "code",
   "execution_count": 96,
   "metadata": {
    "collapsed": true
   },
   "outputs": [],
   "source": [
    "import sys, os\n",
    "sys.path.append('./modules')\n",
    "from Monitoring_Tools import *\n",
    "from OpenStack_Tools  import *"
   ]
  },
  {
   "cell_type": "code",
   "execution_count": 97,
   "metadata": {
    "collapsed": true
   },
   "outputs": [],
   "source": [
    "# TODO:\n",
    "# ssh WRCO0 df -h / /opt/platform /etc/nova/instances\n",
    "# Add new computes, add keys"
   ]
  },
  {
   "cell_type": "code",
   "execution_count": 98,
   "metadata": {
    "collapsed": false
   },
   "outputs": [
    {
     "data": {
      "text/html": [
       "<script>jQuery(function() {if (jQuery(\"body.notebook_app\").length == 0) { jQuery(\".input_area\").toggle(); jQuery(\".prompt\").toggle();}});</script>"
      ]
     },
     "metadata": {},
     "output_type": "display_data"
    },
    {
     "data": {
      "text/html": [
       "<button onclick=\"jQuery('.input_area').toggle(); jQuery('.prompt').toggle();\">Toggle code</button>"
      ]
     },
     "metadata": {},
     "output_type": "display_data"
    }
   ],
   "source": [
    "from IPython.display import display\n",
    "from IPython.display import HTML\n",
    "import IPython.core.display as di\n",
    "\n",
    "# This line will hide code by default when the notebook is exported as HTML\n",
    "di.display_html('<script>jQuery(function() {if (jQuery(\"body.notebook_app\").length == 0) { jQuery(\".input_area\").toggle(); jQuery(\".prompt\").toggle();}});</script>', raw=True)\n",
    "\n",
    "# This line will add a button to toggle visibility of code blocks, for use with the HTML export version\n",
    "di.display_html('''<button onclick=\"jQuery('.input_area').toggle(); jQuery('.prompt').toggle();\">Toggle code</button>''', raw=True)"
   ]
  },
  {
   "cell_type": "code",
   "execution_count": 153,
   "metadata": {
    "collapsed": false
   },
   "outputs": [
    {
     "data": {
      "text/html": [
       "<h1>Platform: poc2</h1><h4>Run at: 2016-06-29 17:53:24</h4>"
      ],
      "text/plain": [
       "<IPython.core.display.HTML object>"
      ]
     },
     "metadata": {},
     "output_type": "display_data"
    }
   ],
   "source": [
    "platform=os.getenv('OS_PLATFORM', 'poc2')\n",
    "display_platform(platform)\n",
    "inventory = read_inventory(\"$HOME/env/{}_hosts.ini\".format(platform))\n",
    "conn = connectToCloud(platform)\n",
    "#inventory"
   ]
  },
  {
   "cell_type": "code",
   "execution_count": 100,
   "metadata": {
    "collapsed": false
   },
   "outputs": [
    {
     "data": {
      "text/html": [
       "<h4>The latest version of this status is available at <a href=\"http://10.3.216.210:8888/tree/notebooks/cron/OpenStack_Monitoring_poc2.html\">http://10.3.216.210:8888/tree/notebooks/cron/OpenStack_Monitoring_poc2.html</a></h4>"
      ],
      "text/plain": [
       "<IPython.core.display.HTML object>"
      ]
     },
     "metadata": {},
     "output_type": "display_data"
    }
   ],
   "source": [
    "show_notebook_url(platform, host_ip=\"10.3.216.210\", port=8888)"
   ]
  },
  {
   "cell_type": "markdown",
   "metadata": {},
   "source": [
    "#### Servers status (ping servers in 'ping_check' group)"
   ]
  },
  {
   "cell_type": "code",
   "execution_count": 101,
   "metadata": {
    "collapsed": false
   },
   "outputs": [
    {
     "name": "stdout",
     "output_type": "stream",
     "text": [
      "ping(hos2[10.3.219.32]) ... ping(hos3[10.3.219.33]) ... ping(hos_vip[10.3.216.30]) ... ping(wrcl1[10.3.219.131]) ... ping(wrco1[10.3.219.178]) ... ping(hlm1[10.3.216.10]) ... ping(wrcl2[10.3.219.132]) ... ping(wrco3[10.3.219.134]) ... ping(hlm1vm[10.3.219.30]) ... ping(wrco0[10.3.219.177]) ... ping(wrcl_vip[10.3.219.130]) ... ping(hos1[10.3.219.31]) ... ping(wrco2[10.3.219.179]) ... "
     ]
    },
    {
     "data": {
      "text/html": [
       "<table style=\"border: 1px solid black; border-style: collapse;\" border=\"1\" width=100%>\"<tr><td>wrco3[10.3.219.134]</td><td><div style=\"background-color: green; color: white\"><b>OK: 0.119 msec</b></div></td></tr><tr><td>wrcl2[10.3.219.132]</td><td><div style=\"background-color: green; color: white\"><b>OK: 0.137 msec</b></div></td></tr><tr><td>wrco0[10.3.219.177]</td><td><div style=\"background-color: green; color: white\"><b>OK: 0.113 msec</b></div></td></tr><tr><td>wrco1[10.3.219.178]</td><td><div style=\"background-color: green; color: white\"><b>OK: 0.110 msec</b></div></td></tr><tr><td>hos3[10.3.219.33]</td><td><div style=\"background-color: green; color: white\"><b>OK: 0.254 msec</b></div></td></tr><tr><td>wrco2[10.3.219.179]</td><td><div style=\"background-color: green; color: white\"><b>OK: 0.095 msec</b></div></td></tr><tr><td>hlm1vm[10.3.219.30]</td><td><div style=\"background-color: green; color: white\"><b>OK: 0.323 msec</b></div></td></tr><tr><td>hlm1[10.3.216.10]</td><td><div style=\"background-color: green; color: white\"><b>OK: 0.182 msec</b></div></td></tr><tr><td>hos1[10.3.219.31]</td><td><div style=\"background-color: green; color: white\"><b>OK: 0.211 msec</b></div></td></tr><tr><td>hos_vip[10.3.216.30]</td><td><div style=\"background-color: green; color: white\"><b>OK: 0.248 msec</b></div></td></tr><tr><td>wrcl_vip[10.3.219.130]</td><td><div style=\"background-color: green; color: white\"><b>OK: 0.132 msec</b></div></td></tr><tr><td>hos2[10.3.219.32]</td><td><div style=\"background-color: green; color: white\"><b>OK: 0.259 msec</b></div></td></tr><tr><td>wrcl1[10.3.219.131]</td><td><div style=\"background-color: green; color: white\"><b>OK: 0.190 msec</b></div></td></tr></table>"
      ],
      "text/plain": [
       "<IPython.core.display.HTML object>"
      ]
     },
     "metadata": {},
     "output_type": "display_data"
    }
   ],
   "source": [
    "display_html_ping_all(inventory, False)"
   ]
  },
  {
   "cell_type": "markdown",
   "metadata": {},
   "source": [
    "#### Show VMs (servers)"
   ]
  },
  {
   "cell_type": "code",
   "execution_count": 102,
   "metadata": {
    "collapsed": false
   },
   "outputs": [
    {
     "name": "stdout",
     "output_type": "stream",
     "text": [
      "2 flavors\n",
      "11 images\n",
      "0 servers\n"
     ]
    },
    {
     "data": {
      "text/html": [
       "<table style=\"border: 1px solid black; border-style: collapse;\" border=\"1\" width=100%>\"<tr><td><center><b>name</b></center></td><td><center><b>status</b></center></td><td><center><b>flavor</b></center></td><td><center><b>image</b></center></td><td><center><b>addresses</b></center></td></tr></table>"
      ],
      "text/plain": [
       "<IPython.core.display.HTML object>"
      ]
     },
     "metadata": {},
     "output_type": "display_data"
    }
   ],
   "source": [
    "showServerList( conn )"
   ]
  },
  {
   "cell_type": "markdown",
   "metadata": {},
   "source": [
    "#### Show server port status"
   ]
  },
  {
   "cell_type": "code",
   "execution_count": 103,
   "metadata": {
    "collapsed": false,
    "scrolled": true
   },
   "outputs": [
    {
     "name": "stdout",
     "output_type": "stream",
     "text": [
      "ping(wrco5[10.3.219.135:22]) ... ping(hos2[10.3.219.32:22]) ... ping(hos3[10.3.219.33:22]) ... ping(hos_vip[10.3.216.30:22]) ... ping(wrcl1[10.3.219.131:22]) ... ping(wrco1[10.3.219.178:22]) ... ping(hlm1[10.3.216.10:22]) ... ping(wrcl2[10.3.219.132:22]) ... ping(wrco7[10.3.219.138:22]) ... ping(wrco3[10.3.219.134:22]) ... ping(hlm1vm[10.3.219.30:22]) ... ping(wrco0[10.3.219.177:22]) ... ping(wrco6[10.3.219.137:22]) ... ping(wrcl_vip[10.3.219.130:22]) ... ping(hos1[10.3.219.31:22]) ... ping(wrco4[10.3.219.135:22]) ... ping(wrco2[10.3.219.179:22]) ... "
     ]
    },
    {
     "data": {
      "text/html": [
       "<table style=\"border: 1px solid black; border-style: collapse;\" border=\"1\" width=100%>\"<tr><td>wrco1[10.3.219.178:22]</td><td><div style=\"background-color: green; color: white\"><b>OK</b></div></td></tr><tr><td>wrcl_vip[10.3.219.130:22]</td><td><div style=\"background-color: green; color: white\"><b>OK</b></div></td></tr><tr><td>wrco0[10.3.219.177:22]</td><td><div style=\"background-color: green; color: white\"><b>OK</b></div></td></tr><tr><td>hos2[10.3.219.32:22]</td><td><div style=\"background-color: green; color: white\"><b>OK</b></div></td></tr><tr><td>hlm1vm[10.3.219.30:22]</td><td><div style=\"background-color: green; color: white\"><b>OK</b></div></td></tr><tr><td>hos1[10.3.219.31:22]</td><td><div style=\"background-color: green; color: white\"><b>OK</b></div></td></tr><tr><td>wrcl1[10.3.219.131:22]</td><td><div style=\"background-color: green; color: white\"><b>OK</b></div></td></tr><tr><td>wrco4[10.3.219.135:22]</td><td><div style=\"background-color: green; color: white\"><b>OK</b></div></td></tr><tr><td>wrco6[10.3.219.137:22]</td><td><div style=\"background-color: green; color: white\"><b>OK</b></div></td></tr><tr><td>hlm1[10.3.216.10:22]</td><td><div style=\"background-color: green; color: white\"><b>OK</b></div></td></tr><tr><td>wrco3[10.3.219.134:22]</td><td><div style=\"background-color: green; color: white\"><b>OK</b></div></td></tr><tr><td>hos3[10.3.219.33:22]</td><td><div style=\"background-color: green; color: white\"><b>OK</b></div></td></tr><tr><td>wrco5[10.3.219.135:22]</td><td><div style=\"background-color: green; color: white\"><b>OK</b></div></td></tr><tr><td>wrco7[10.3.219.138:22]</td><td><div style=\"background-color: green; color: white\"><b>OK</b></div></td></tr><tr><td>wrcl2[10.3.219.132:22]</td><td><div style=\"background-color: green; color: white\"><b>OK</b></div></td></tr><tr><td>hos_vip[10.3.216.30:22]</td><td><div style=\"background-color: green; color: white\"><b>OK</b></div></td></tr><tr><td>wrco2[10.3.219.179:22]</td><td><div style=\"background-color: green; color: white\"><b>OK</b></div></td></tr></table>"
      ],
      "text/plain": [
       "<IPython.core.display.HTML object>"
      ]
     },
     "metadata": {},
     "output_type": "display_data"
    }
   ],
   "source": [
    "display_html_ping_ports_all(inventory)"
   ]
  },
  {
   "cell_type": "markdown",
   "metadata": {},
   "source": [
    "#### Show Endpoint URLs status (check ports open)"
   ]
  },
  {
   "cell_type": "code",
   "execution_count": 104,
   "metadata": {
    "collapsed": false
   },
   "outputs": [
    {
     "data": {
      "text/html": [
       "<table style=\"border: 1px solid black; border-style: collapse;\" border=\"1\" width=100%>\"<tr><td>10.3.216.30:9292 [image]</td><td><div style=\"background-color: green; color: white\"><b>OK</b></div></td></tr><tr><td>10.3.216.30:5000 [identity]</td><td><div style=\"background-color: green; color: white\"><b>OK</b></div></td></tr><tr><td>10.3.216.130:9696 [network]</td><td><div style=\"background-color: green; color: white\"><b>OK</b></div></td></tr><tr><td>10.3.216.30:8776 [volume]</td><td><div style=\"background-color: green; color: white\"><b>OK</b></div></td></tr><tr><td>10.3.216.130:8774 [compute]</td><td><div style=\"background-color: green; color: white\"><b>OK</b></div></td></tr></table>"
      ],
      "text/plain": [
       "<IPython.core.display.HTML object>"
      ]
     },
     "metadata": {},
     "output_type": "display_data"
    }
   ],
   "source": [
    "display_html_endpoint_urls(conn)"
   ]
  },
  {
   "cell_type": "code",
   "execution_count": 151,
   "metadata": {
    "collapsed": false
   },
   "outputs": [
    {
     "name": "stdout",
     "output_type": "stream",
     "text": [
      "hlm1:99 days,  5:30\n",
      "hlm1vm:97 days, 20:50\n",
      "hos1:84 days, 23:54\n",
      "hos2:84 days, 23:54\n",
      "hos3:29 days,  2:06\n",
      "hos_vip:84 days, 23:54\n",
      "wrcl1:48 days, 28 min\n",
      "wrcl2:57 days,  6:29\n",
      "wrcl_vip:57 days,  6:29\n",
      "wrco0:57 days,  3:55\n",
      "wrco1:46 days, 23:58\n",
      "wrco2:47 days,  3:13\n",
      "wrco3:47 days,  3:09\n",
      "wrco4:13 days, 5 min\n",
      "wrco5:13 days, 5 min\n",
      "wrco6:10 days, 19:44\n",
      "wrco7:10 days, 19:44\n"
     ]
    }
   ],
   "source": [
    "#print(inventory)\n",
    "\n",
    "import paramiko\n",
    "\n",
    "#hosts = list(inventory['ssh_check'].keys()).sorted()\n",
    "ssh_hosts = sorted(inventory['ssh_check'])\n",
    "\n",
    "for host in ssh_hosts:    \n",
    "    ip = inventory['hosts'][host]['ansible_host']\n",
    "    user = inventory['hosts'][host]['ansible_user']\n",
    "    pkey = inventory['hosts'][host]['ssh_key']\n",
    "    \n",
    "    ssh = paramiko.SSHClient()\n",
    "    ssh.set_missing_host_key_policy(paramiko.AutoAddPolicy())\n",
    "    ssh.connect(ip, username=user, key_filename=pkey, look_for_keys=False)\n",
    "    stdin, stdout, stderr = ssh.exec_command(\"uptime\")\n",
    "    \n",
    "    line=str(stdout.read())\n",
    "    #print(line)\n",
    "    up_pos = line.find(\" up \")\n",
    "    if up_pos != -1:\n",
    "        up_str = line[up_pos + 4:]\n",
    "        comma_pos = up_str.find(\",\")\n",
    "        if comma_pos != -1:\n",
    "            comma_pos2 = up_str[comma_pos+1:].find(\",\")\n",
    "            if comma_pos2 != -1:\n",
    "                up_str=up_str[:comma_pos+comma_pos2+1]\n",
    "                print(host + \":\" + up_str)\n",
    "    \n",
    "#inventory"
   ]
  },
  {
   "cell_type": "code",
   "execution_count": 166,
   "metadata": {
    "collapsed": false,
    "scrolled": true
   },
   "outputs": [
    {
     "name": "stdout",
     "output_type": "stream",
     "text": [
      "hlm1 21%  /\n",
      "hlm1vm 4%  /\n",
      "hos1 52%  /\n",
      "hos2 52%  /\n",
      "hos3 53%  /\n",
      "wrcl1 23%  /\n",
      "wrcl1 1%  /scratch\n",
      "wrcl1 11%  /var/log\n",
      "wrcl1 1%  /opt/backups\n",
      "wrcl1 23%  /\n",
      "wrcl1 23%  /\n",
      "wrcl1 23%  /\n",
      "wrcl1 23%  /\n",
      "wrcl2 22%  /\n",
      "wrcl2 4%  /scratch\n",
      "wrcl2 13%  /var/log\n",
      "wrcl2 1%  /opt/backups\n",
      "wrcl2 2%  /var/lib/rabbitmq\n",
      "wrcl2 4%  /var/lib/postgresql\n",
      "wrcl2 25%  /opt/cgcs\n",
      "wrcl2 1%  /opt/platform\n",
      "wrco0 11%  /\n",
      "wrco0 3%  /var/log\n",
      "wrco0 1%  /scratch\n",
      "wrco0 1%  /local_pv\n",
      "wrco0 25%  /etc/nova/instances\n",
      "wrco0 1%  /opt/platform\n",
      "wrco1 11%  /\n",
      "wrco1 3%  /var/log\n",
      "wrco1 1%  /scratch\n",
      "wrco1 1%  /local_pv\n",
      "wrco1 25%  /etc/nova/instances\n",
      "wrco1 1%  /opt/platform\n",
      "wrco2 11%  /\n",
      "wrco2 5%  /var/log\n",
      "wrco2 1%  /scratch\n",
      "wrco2 1%  /local_pv\n",
      "wrco2 25%  /etc/nova/instances\n",
      "wrco2 1%  /opt/platform\n",
      "wrco3 11%  /\n",
      "wrco3 3%  /var/log\n",
      "wrco3 1%  /scratch\n",
      "wrco3 1%  /local_pv\n",
      "wrco3 25%  /etc/nova/instances\n",
      "wrco3 1%  /opt/platform\n",
      "wrco4 11%  /\n",
      "wrco4 3%  /var/log\n",
      "wrco4 1%  /scratch\n",
      "wrco4 1%  /local_pv\n",
      "wrco4 25%  /etc/nova/instances\n",
      "wrco4 1%  /opt/platform\n",
      "wrco5 11%  /\n",
      "wrco5 3%  /var/log\n",
      "wrco5 1%  /scratch\n",
      "wrco5 1%  /local_pv\n",
      "wrco5 25%  /etc/nova/instances\n",
      "wrco5 1%  /opt/platform\n",
      "wrco6 11%  /\n",
      "wrco6 3%  /var/log\n",
      "wrco6 1%  /scratch\n",
      "wrco6 1%  /local_pv\n",
      "wrco6 25%  /etc/nova/instances\n",
      "wrco6 1%  /opt/platform\n",
      "wrco7 11%  /\n",
      "wrco7 3%  /var/log\n",
      "wrco7 1%  /scratch\n",
      "wrco7 1%  /local_pv\n",
      "wrco7 25%  /etc/nova/instances\n",
      "wrco7 1%  /opt/platform\n"
     ]
    }
   ],
   "source": [
    "\n",
    "df_hosts = sorted(inventory['df_check'])\n",
    "\n",
    "for host in df_hosts:    \n",
    "    ip = inventory['hosts'][host]['ansible_host']\n",
    "    user = inventory['hosts'][host]['ansible_user']\n",
    "    pkey = inventory['hosts'][host]['ssh_key']\n",
    "    df_check = inventory['hosts'][host]['df_check']\n",
    "    #print(df_check)\n",
    "    \n",
    "    ssh = paramiko.SSHClient()\n",
    "    ssh.set_missing_host_key_policy(paramiko.AutoAddPolicy())\n",
    "    ssh.connect(ip, username=user, key_filename=pkey, look_for_keys=False)\n",
    "    #stdin, stdout, stderr = ssh.exec_command(\"df -n+2 \" + df_check.replace(\",\", \" \"))\n",
    "    df_cmd=\"df \" + df_check.replace(\",\", \" \") + \"| grep -v ^Filesystem\"\n",
    "    stdin, stdout, stderr = ssh.exec_command(df_cmd)\n",
    "    df_op = stdout.read().decode('utf8')\n",
    "    #print(\"HOST[\" + host + \"]<\" + df_check + \">{\" + df_cmd +\"}:\" + df_op)\n",
    "    \n",
    "    df_lines=df_op.split(\"\\n\")\n",
    "    for df_line in df_lines:\n",
    "        #print(\"LINE: \" + df_line)\n",
    "        pc_pos = df_line.find(\"%\")\n",
    "        if pc_pos != -1:\n",
    "            pc=int(df_line[pc_pos-3:pc_pos])\n",
    "            partn=df_line[pc_pos+1:]\n",
    "            print(host + \" \" + str(pc) + \"% \" + partn)\n"
   ]
  },
  {
   "cell_type": "code",
   "execution_count": 167,
   "metadata": {
    "collapsed": false
   },
   "outputs": [],
   "source": [
    "# TODO: \n",
    "# equivalent of openstack service list"
   ]
  },
  {
   "cell_type": "code",
   "execution_count": null,
   "metadata": {
    "collapsed": true
   },
   "outputs": [],
   "source": []
  }
 ],
 "metadata": {
  "kernelspec": {
   "display_name": "Python 3",
   "language": "python",
   "name": "python3"
  },
  "language_info": {
   "codemirror_mode": {
    "name": "ipython",
    "version": 3
   },
   "file_extension": ".py",
   "mimetype": "text/x-python",
   "name": "python",
   "nbconvert_exporter": "python",
   "pygments_lexer": "ipython3",
   "version": "3.5.1"
  }
 },
 "nbformat": 4,
 "nbformat_minor": 0
}
