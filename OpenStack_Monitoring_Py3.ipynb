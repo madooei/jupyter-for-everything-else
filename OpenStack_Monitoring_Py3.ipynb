{
 "cells": [
  {
   "cell_type": "code",
   "execution_count": 76,
   "metadata": {
    "collapsed": true
   },
   "outputs": [],
   "source": [
    "import sys, os\n",
    "sys.path.append('./modules')\n",
    "from Monitoring_Tools import *\n",
    "from OpenStack_Tools  import *"
   ]
  },
  {
   "cell_type": "code",
   "execution_count": 77,
   "metadata": {
    "collapsed": true
   },
   "outputs": [],
   "source": [
    "# TODO:\n",
    "# ssh WRCO0 df -h / /opt/platform /etc/nova/instances\n",
    "# Add new computes, add keys"
   ]
  },
  {
   "cell_type": "code",
   "execution_count": 78,
   "metadata": {
    "collapsed": false
   },
   "outputs": [
    {
     "data": {
      "text/html": [
       "<script>jQuery(function() {if (jQuery(\"body.notebook_app\").length == 0) { jQuery(\".input_area\").toggle(); jQuery(\".prompt\").toggle();}});</script>"
      ]
     },
     "metadata": {},
     "output_type": "display_data"
    },
    {
     "data": {
      "text/html": [
       "<button onclick=\"jQuery('.input_area').toggle(); jQuery('.prompt').toggle();\">Toggle code</button>"
      ]
     },
     "metadata": {},
     "output_type": "display_data"
    }
   ],
   "source": [
    "from IPython.display import display\n",
    "from IPython.display import HTML\n",
    "import IPython.core.display as di\n",
    "\n",
    "# This line will hide code by default when the notebook is exported as HTML\n",
    "di.display_html('<script>jQuery(function() {if (jQuery(\"body.notebook_app\").length == 0) { jQuery(\".input_area\").toggle(); jQuery(\".prompt\").toggle();}});</script>', raw=True)\n",
    "\n",
    "# This line will add a button to toggle visibility of code blocks, for use with the HTML export version\n",
    "di.display_html('''<button onclick=\"jQuery('.input_area').toggle(); jQuery('.prompt').toggle();\">Toggle code</button>''', raw=True)"
   ]
  },
  {
   "cell_type": "code",
   "execution_count": 90,
   "metadata": {
    "collapsed": false
   },
   "outputs": [
    {
     "data": {
      "text/html": [
       "<h1>Platform: poc2</h1><h4>Run at: 2016-06-28 17:42:08</h4>"
      ],
      "text/plain": [
       "<IPython.core.display.HTML object>"
      ]
     },
     "metadata": {},
     "output_type": "display_data"
    }
   ],
   "source": [
    "platform=os.getenv('OS_PLATFORM', 'poc2')\n",
    "display_platform(platform)\n",
    "inventory = read_inventory(\"$HOME/env/{}_hosts.ini\".format(platform))\n",
    "conn = connectToCloud(platform)\n",
    "#inventory"
   ]
  },
  {
   "cell_type": "code",
   "execution_count": 80,
   "metadata": {
    "collapsed": false
   },
   "outputs": [
    {
     "data": {
      "text/html": [
       "<h4>The latest version of this status is available at <a href=\"http://10.3.216.210:8888/tree/notebooks/cron/OpenStack_Monitoring_poc2.html\">http://10.3.216.210:8888/tree/notebooks/cron/OpenStack_Monitoring_poc2.html</a></h4>"
      ],
      "text/plain": [
       "<IPython.core.display.HTML object>"
      ]
     },
     "metadata": {},
     "output_type": "display_data"
    }
   ],
   "source": [
    "show_notebook_url(platform, host_ip=\"10.3.216.210\", port=8888)"
   ]
  },
  {
   "cell_type": "markdown",
   "metadata": {},
   "source": [
    "#### Servers status (ping servers in 'ping_check' group)"
   ]
  },
  {
   "cell_type": "code",
   "execution_count": 81,
   "metadata": {
    "collapsed": false
   },
   "outputs": [
    {
     "name": "stdout",
     "output_type": "stream",
     "text": [
      "ping(hos2[10.3.219.32]) ... ping(hos3[10.3.219.33]) ... ping(hos_vip[10.3.216.30]) ... ping(wrcl1[10.3.219.131]) ... ping(wrco1[10.3.219.178]) ... ping(hlm1[10.3.216.10]) ... ping(wrcl2[10.3.219.132]) ... ping(wrco3[10.3.219.134]) ... ping(hlm1vm[10.3.219.30]) ... ping(wrco0[10.3.219.177]) ... ping(wrcl_vip[10.3.219.130]) ... ping(hos1[10.3.219.31]) ... ping(wrco2[10.3.219.179]) ... "
     ]
    },
    {
     "data": {
      "text/html": [
       "<table style=\"border: 1px solid black; border-style: collapse;\" border=\"1\" width=100%>\"<tr><td>wrco3[10.3.219.134]</td><td><div style=\"background-color: green; color: white\"><b>OK: 0.122 msec</b></div></td></tr><tr><td>wrcl2[10.3.219.132]</td><td><div style=\"background-color: green; color: white\"><b>OK: 0.120 msec</b></div></td></tr><tr><td>wrco0[10.3.219.177]</td><td><div style=\"background-color: green; color: white\"><b>OK: 0.109 msec</b></div></td></tr><tr><td>wrco1[10.3.219.178]</td><td><div style=\"background-color: green; color: white\"><b>OK: 0.106 msec</b></div></td></tr><tr><td>hos3[10.3.219.33]</td><td><div style=\"background-color: green; color: white\"><b>OK: 0.323 msec</b></div></td></tr><tr><td>wrco2[10.3.219.179]</td><td><div style=\"background-color: green; color: white\"><b>OK: 0.107 msec</b></div></td></tr><tr><td>hlm1vm[10.3.219.30]</td><td><div style=\"background-color: green; color: white\"><b>OK: 0.322 msec</b></div></td></tr><tr><td>hlm1[10.3.216.10]</td><td><div style=\"background-color: green; color: white\"><b>OK: 0.166 msec</b></div></td></tr><tr><td>hos1[10.3.219.31]</td><td><div style=\"background-color: green; color: white\"><b>OK: 0.186 msec</b></div></td></tr><tr><td>hos_vip[10.3.216.30]</td><td><div style=\"background-color: green; color: white\"><b>OK: 0.274 msec</b></div></td></tr><tr><td>wrcl_vip[10.3.219.130]</td><td><div style=\"background-color: green; color: white\"><b>OK: 0.128 msec</b></div></td></tr><tr><td>hos2[10.3.219.32]</td><td><div style=\"background-color: green; color: white\"><b>OK: 0.254 msec</b></div></td></tr><tr><td>wrcl1[10.3.219.131]</td><td><div style=\"background-color: green; color: white\"><b>OK: 0.210 msec</b></div></td></tr></table>"
      ],
      "text/plain": [
       "<IPython.core.display.HTML object>"
      ]
     },
     "metadata": {},
     "output_type": "display_data"
    }
   ],
   "source": [
    "display_html_ping_all(inventory, False)"
   ]
  },
  {
   "cell_type": "markdown",
   "metadata": {},
   "source": [
    "#### Show VMs (servers)"
   ]
  },
  {
   "cell_type": "code",
   "execution_count": 82,
   "metadata": {
    "collapsed": false
   },
   "outputs": [
    {
     "name": "stdout",
     "output_type": "stream",
     "text": [
      "2 flavors\n",
      "11 images\n",
      "0 servers\n"
     ]
    },
    {
     "data": {
      "text/html": [
       "<table style=\"border: 1px solid black; border-style: collapse;\" border=\"1\" width=100%>\"<tr><td><center><b>name</b></center></td><td><center><b>status</b></center></td><td><center><b>flavor</b></center></td><td><center><b>image</b></center></td><td><center><b>addresses</b></center></td></tr></table>"
      ],
      "text/plain": [
       "<IPython.core.display.HTML object>"
      ]
     },
     "metadata": {},
     "output_type": "display_data"
    }
   ],
   "source": [
    "showServerList( conn )"
   ]
  },
  {
   "cell_type": "markdown",
   "metadata": {},
   "source": [
    "#### Show server port status"
   ]
  },
  {
   "cell_type": "code",
   "execution_count": 83,
   "metadata": {
    "collapsed": false,
    "scrolled": true
   },
   "outputs": [
    {
     "name": "stdout",
     "output_type": "stream",
     "text": [
      "ping(wrco5[10.3.219.135:22]) ... ping(hos2[10.3.219.32:22]) ... ping(hos3[10.3.219.33:22]) ... ping(hos_vip[10.3.216.30:22]) ... ping(wrcl1[10.3.219.131:22]) ... ping(wrco1[10.3.219.178:22]) ... ping(hlm1[10.3.216.10:22]) ... ping(wrcl2[10.3.219.132:22]) ... ping(wrco7[10.3.219.138:22]) ... ping(wrco3[10.3.219.134:22]) ... ping(hlm1vm[10.3.219.30:22]) ... ping(wrco0[10.3.219.177:22]) ... ping(wrco6[10.3.219.137:22]) ... ping(wrcl_vip[10.3.219.130:22]) ... ping(hos1[10.3.219.31:22]) ... ping(wrco4[10.3.219.135:22]) ... ping(wrco2[10.3.219.179:22]) ... "
     ]
    },
    {
     "data": {
      "text/html": [
       "<table style=\"border: 1px solid black; border-style: collapse;\" border=\"1\" width=100%>\"<tr><td>wrco1[10.3.219.178:22]</td><td><div style=\"background-color: green; color: white\"><b>OK</b></div></td></tr><tr><td>wrcl_vip[10.3.219.130:22]</td><td><div style=\"background-color: green; color: white\"><b>OK</b></div></td></tr><tr><td>wrco0[10.3.219.177:22]</td><td><div style=\"background-color: green; color: white\"><b>OK</b></div></td></tr><tr><td>hos2[10.3.219.32:22]</td><td><div style=\"background-color: green; color: white\"><b>OK</b></div></td></tr><tr><td>hlm1vm[10.3.219.30:22]</td><td><div style=\"background-color: green; color: white\"><b>OK</b></div></td></tr><tr><td>hos1[10.3.219.31:22]</td><td><div style=\"background-color: green; color: white\"><b>OK</b></div></td></tr><tr><td>wrcl1[10.3.219.131:22]</td><td><div style=\"background-color: green; color: white\"><b>OK</b></div></td></tr><tr><td>wrco4[10.3.219.135:22]</td><td><div style=\"background-color: green; color: white\"><b>OK</b></div></td></tr><tr><td>wrco6[10.3.219.137:22]</td><td><div style=\"background-color: green; color: white\"><b>OK</b></div></td></tr><tr><td>hlm1[10.3.216.10:22]</td><td><div style=\"background-color: green; color: white\"><b>OK</b></div></td></tr><tr><td>wrco3[10.3.219.134:22]</td><td><div style=\"background-color: green; color: white\"><b>OK</b></div></td></tr><tr><td>hos3[10.3.219.33:22]</td><td><div style=\"background-color: green; color: white\"><b>OK</b></div></td></tr><tr><td>wrco5[10.3.219.135:22]</td><td><div style=\"background-color: green; color: white\"><b>OK</b></div></td></tr><tr><td>wrco7[10.3.219.138:22]</td><td><div style=\"background-color: green; color: white\"><b>OK</b></div></td></tr><tr><td>wrcl2[10.3.219.132:22]</td><td><div style=\"background-color: green; color: white\"><b>OK</b></div></td></tr><tr><td>hos_vip[10.3.216.30:22]</td><td><div style=\"background-color: green; color: white\"><b>OK</b></div></td></tr><tr><td>wrco2[10.3.219.179:22]</td><td><div style=\"background-color: green; color: white\"><b>OK</b></div></td></tr></table>"
      ],
      "text/plain": [
       "<IPython.core.display.HTML object>"
      ]
     },
     "metadata": {},
     "output_type": "display_data"
    }
   ],
   "source": [
    "display_html_ping_ports_all(inventory)"
   ]
  },
  {
   "cell_type": "markdown",
   "metadata": {},
   "source": [
    "#### Show Endpoint URLs status (check ports open)"
   ]
  },
  {
   "cell_type": "code",
   "execution_count": 84,
   "metadata": {
    "collapsed": false
   },
   "outputs": [
    {
     "data": {
      "text/html": [
       "<table style=\"border: 1px solid black; border-style: collapse;\" border=\"1\" width=100%>\"<tr><td>10.3.216.30:9292 [image]</td><td><div style=\"background-color: green; color: white\"><b>OK</b></div></td></tr><tr><td>10.3.216.30:5000 [identity]</td><td><div style=\"background-color: green; color: white\"><b>OK</b></div></td></tr><tr><td>10.3.216.130:9696 [network]</td><td><div style=\"background-color: green; color: white\"><b>OK</b></div></td></tr><tr><td>10.3.216.30:8776 [volume]</td><td><div style=\"background-color: green; color: white\"><b>OK</b></div></td></tr><tr><td>10.3.216.130:8774 [compute]</td><td><div style=\"background-color: green; color: white\"><b>OK</b></div></td></tr></table>"
      ],
      "text/plain": [
       "<IPython.core.display.HTML object>"
      ]
     },
     "metadata": {},
     "output_type": "display_data"
    }
   ],
   "source": [
    "display_html_endpoint_urls(conn)"
   ]
  },
  {
   "cell_type": "code",
   "execution_count": 94,
   "metadata": {
    "collapsed": false
   },
   "outputs": [
    {
     "name": "stdout",
     "output_type": "stream",
     "text": [
      "b' 15:53:33 up 12 days, 0 min,  0 users,  load average: 2.04, 2.07, 2.06\\n'\n",
      "b' 15:53:33 up 83 days, 23:48,  0 users,  load average: 2.49, 2.10, 1.95\\n'\n",
      "b' 15:53:33 up 28 days,  2:00,  0 users,  load average: 1.76, 2.09, 1.92\\n'\n",
      "b' 15:53:33 up 83 days, 23:48,  0 users,  load average: 3.43, 2.62, 2.63\\n'\n",
      "b' 15:53:33 up 47 days, 22 min,  0 users,  load average: 0.02, 0.06, 0.13\\n'\n",
      "b' 15:53:33 up 45 days, 23:53,  0 users,  load average: 2.06, 2.03, 2.05\\n'\n",
      "b' 17:52:07 up 98 days,  5:24,  3 users,  load average: 4.70, 4.92, 4.94\\n'\n",
      "b' 15:53:33 up 56 days,  6:23,  0 users,  load average: 1.76, 1.66, 1.60\\n'\n",
      "b' 15:53:33 up 9 days, 19:38,  0 users,  load average: 2.23, 2.18, 2.22\\n'\n",
      "b' 15:53:33 up 46 days,  3:03,  0 users,  load average: 2.01, 2.02, 2.05\\n'\n",
      "b' 15:52:07 up 96 days, 20:44,  2 users,  load average: 0.00, 0.01, 0.05\\n'\n",
      "b' 15:53:34 up 56 days,  3:49,  0 users,  load average: 2.08, 2.07, 2.05\\n'\n",
      "b' 15:53:34 up 9 days, 19:39,  0 users,  load average: 2.06, 2.13, 2.13\\n'\n",
      "b' 15:53:34 up 56 days,  6:23,  0 users,  load average: 1.76, 1.66, 1.60\\n'\n",
      "b' 15:53:34 up 83 days, 23:48,  0 users,  load average: 3.43, 2.62, 2.63\\n'\n",
      "b' 15:53:34 up 12 days, 0 min,  0 users,  load average: 2.04, 2.07, 2.06\\n'\n",
      "b' 15:53:34 up 46 days,  3:07,  0 users,  load average: 2.01, 2.05, 2.05\\n'\n"
     ]
    }
   ],
   "source": [
    "import paramiko\n",
    "from io import StringIO\n",
    "\n",
    "#print(inventory)\n",
    "for host in inventory['ssh_check']:    \n",
    "    ip = inventory['hosts'][host]['ansible_host']\n",
    "    user = inventory['hosts'][host]['ansible_user']\n",
    "    pkey = inventory['hosts'][host]['ssh_key']\n",
    "    \n",
    "    ssh = paramiko.SSHClient()\n",
    "    ssh.set_missing_host_key_policy(paramiko.AutoAddPolicy())\n",
    "    ssh.connect(ip, username=user, key_filename=pkey, look_for_keys=False)\n",
    "    # ssh.connect(ssh_host, username=user, pkey=\"$ENV{HOME}/poc2_hcg21/poc2_hcg21\", look_for_keys=False)\n",
    "    stdin, stdout, stderr = ssh.exec_command(\"uptime\")\n",
    "    print(stdout.read())\n",
    "    \n",
    "#inventory"
   ]
  },
  {
   "cell_type": "code",
   "execution_count": null,
   "metadata": {
    "collapsed": true
   },
   "outputs": [],
   "source": []
  }
 ],
 "metadata": {
  "kernelspec": {
   "display_name": "Python 3",
   "language": "python",
   "name": "python3"
  },
  "language_info": {
   "codemirror_mode": {
    "name": "ipython",
    "version": 3
   },
   "file_extension": ".py",
   "mimetype": "text/x-python",
   "name": "python",
   "nbconvert_exporter": "python",
   "pygments_lexer": "ipython3",
   "version": "3.5.1"
  }
 },
 "nbformat": 4,
 "nbformat_minor": 0
}
