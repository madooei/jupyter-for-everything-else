{
 "cells": [
  {
   "cell_type": "code",
   "execution_count": 1,
   "metadata": {
    "collapsed": true
   },
   "outputs": [],
   "source": [
    "import sys, os\n",
    "sys.path.append('./modules')\n",
    "from Monitoring_Tools import *\n",
    "from OpenStack_Tools  import *"
   ]
  },
  {
   "cell_type": "code",
   "execution_count": 2,
   "metadata": {
    "collapsed": true
   },
   "outputs": [],
   "source": [
    "# TODO:\n",
    "# ssh WRCO0 df -h / /opt/platform /etc/nova/instances\n",
    "# Add new computes, add keys"
   ]
  },
  {
   "cell_type": "code",
   "execution_count": 3,
   "metadata": {
    "collapsed": false
   },
   "outputs": [
    {
     "data": {
      "text/html": [
       "<script>jQuery(function() {if (jQuery(\"body.notebook_app\").length == 0) { jQuery(\".input_area\").toggle(); jQuery(\".prompt\").toggle();}});</script>"
      ]
     },
     "metadata": {},
     "output_type": "display_data"
    },
    {
     "data": {
      "text/html": [
       "<button onclick=\"jQuery('.input_area').toggle(); jQuery('.prompt').toggle();\">Toggle code</button>"
      ]
     },
     "metadata": {},
     "output_type": "display_data"
    }
   ],
   "source": [
    "from IPython.display import display\n",
    "from IPython.display import HTML\n",
    "import IPython.core.display as di\n",
    "\n",
    "# This line will hide code by default when the notebook is exported as HTML\n",
    "di.display_html('<script>jQuery(function() {if (jQuery(\"body.notebook_app\").length == 0) { jQuery(\".input_area\").toggle(); jQuery(\".prompt\").toggle();}});</script>', raw=True)\n",
    "\n",
    "# This line will add a button to toggle visibility of code blocks, for use with the HTML export version\n",
    "di.display_html('''<button onclick=\"jQuery('.input_area').toggle(); jQuery('.prompt').toggle();\">Toggle code</button>''', raw=True)"
   ]
  },
  {
   "cell_type": "code",
   "execution_count": 4,
   "metadata": {
    "collapsed": false
   },
   "outputs": [
    {
     "data": {
      "text/html": [
       "<h1>Platform: poc2</h1><h4>Run at: 2016-06-30 14:31:33</h4>"
      ],
      "text/plain": [
       "<IPython.core.display.HTML object>"
      ]
     },
     "metadata": {},
     "output_type": "display_data"
    }
   ],
   "source": [
    "platform=os.getenv('OS_PLATFORM', 'poc2')\n",
    "display_platform(platform)\n",
    "inventory = read_inventory(\"$HOME/env/{}_hosts.ini\".format(platform))\n",
    "conn = connectToCloud(platform)\n",
    "#inventory"
   ]
  },
  {
   "cell_type": "code",
   "execution_count": 5,
   "metadata": {
    "collapsed": false
   },
   "outputs": [
    {
     "data": {
      "text/html": [
       "<h4>The latest version of this status is available at <a href=\"http://10.3.216.210:8888/tree/notebooks/cron/OpenStack_Monitoring_poc2.html\">http://10.3.216.210:8888/tree/notebooks/cron/OpenStack_Monitoring_poc2.html</a></h4>"
      ],
      "text/plain": [
       "<IPython.core.display.HTML object>"
      ]
     },
     "metadata": {},
     "output_type": "display_data"
    }
   ],
   "source": [
    "show_notebook_url(platform, host_ip=\"10.3.216.210\", port=8888)"
   ]
  },
  {
   "cell_type": "markdown",
   "metadata": {},
   "source": [
    "#### Servers status (ping servers in 'ping_check' group)"
   ]
  },
  {
   "cell_type": "code",
   "execution_count": 6,
   "metadata": {
    "collapsed": false
   },
   "outputs": [
    {
     "name": "stdout",
     "output_type": "stream",
     "text": [
      "ping(hlm1[10.3.216.10]) ... ping(hlm1vm[10.3.219.30]) ... ping(hos1[10.3.219.31]) ... ping(hos2[10.3.219.32]) ... ping(hos3[10.3.219.33]) ... ping(hos_vip[10.3.216.30]) ... ping(wrcl1[10.3.219.131]) ... ping(wrcl2[10.3.219.132]) ... ping(wrcl_vip[10.3.219.130]) ... ping(wrco0[10.3.219.177]) ... ping(wrco1[10.3.219.178]) ... ping(wrco2[10.3.219.179]) ... ping(wrco3[10.3.219.134]) ... "
     ]
    },
    {
     "data": {
      "text/html": [
       "<table style=\"border: 1px solid black; border-style: collapse;\" border=\"1\" width=100%>\"<tr><td>hlm1[10.3.216.10]</td><td><div style=\"background-color: green; color: white\"><b>OK: 0.140 msec</b></div></td></tr><tr><td>hlm1vm[10.3.219.30]</td><td><div style=\"background-color: green; color: white\"><b>OK: 0.405 msec</b></div></td></tr><tr><td>hos1[10.3.219.31]</td><td><div style=\"background-color: green; color: white\"><b>OK: 0.220 msec</b></div></td></tr><tr><td>hos2[10.3.219.32]</td><td><div style=\"background-color: green; color: white\"><b>OK: 0.199 msec</b></div></td></tr><tr><td>hos3[10.3.219.33]</td><td><div style=\"background-color: green; color: white\"><b>OK: 0.204 msec</b></div></td></tr><tr><td>hos_vip[10.3.216.30]</td><td><div style=\"background-color: green; color: white\"><b>OK: 0.230 msec</b></div></td></tr><tr><td>wrcl1[10.3.219.131]</td><td><div style=\"background-color: green; color: white\"><b>OK: 0.190 msec</b></div></td></tr><tr><td>wrcl2[10.3.219.132]</td><td><div style=\"background-color: green; color: white\"><b>OK: 0.177 msec</b></div></td></tr><tr><td>wrcl_vip[10.3.219.130]</td><td><div style=\"background-color: green; color: white\"><b>OK: 0.155 msec</b></div></td></tr><tr><td>wrco0[10.3.219.177]</td><td><div style=\"background-color: green; color: white\"><b>OK: 0.094 msec</b></div></td></tr><tr><td>wrco1[10.3.219.178]</td><td><div style=\"background-color: green; color: white\"><b>OK: 0.120 msec</b></div></td></tr><tr><td>wrco2[10.3.219.179]</td><td><div style=\"background-color: green; color: white\"><b>OK: 0.110 msec</b></div></td></tr><tr><td>wrco3[10.3.219.134]</td><td><div style=\"background-color: green; color: white\"><b>OK: 0.102 msec</b></div></td></tr></table>"
      ],
      "text/plain": [
       "<IPython.core.display.HTML object>"
      ]
     },
     "metadata": {},
     "output_type": "display_data"
    }
   ],
   "source": [
    "display_html_ping_all(inventory, False)"
   ]
  },
  {
   "cell_type": "markdown",
   "metadata": {},
   "source": [
    "#### Show VMs (servers)"
   ]
  },
  {
   "cell_type": "code",
   "execution_count": 7,
   "metadata": {
    "collapsed": false
   },
   "outputs": [
    {
     "name": "stdout",
     "output_type": "stream",
     "text": [
      "2 flavors\n",
      "11 images\n",
      "0 servers\n"
     ]
    },
    {
     "data": {
      "text/html": [
       "<table style=\"border: 1px solid black; border-style: collapse;\" border=\"1\" width=100%>\"<tr><td><center><b>name</b></center></td><td><center><b>status</b></center></td><td><center><b>flavor</b></center></td><td><center><b>image</b></center></td><td><center><b>addresses</b></center></td></tr></table>"
      ],
      "text/plain": [
       "<IPython.core.display.HTML object>"
      ]
     },
     "metadata": {},
     "output_type": "display_data"
    }
   ],
   "source": [
    "showServerList( conn )"
   ]
  },
  {
   "cell_type": "markdown",
   "metadata": {},
   "source": [
    "#### Show server port status"
   ]
  },
  {
   "cell_type": "code",
   "execution_count": 8,
   "metadata": {
    "collapsed": false,
    "scrolled": true
   },
   "outputs": [
    {
     "name": "stdout",
     "output_type": "stream",
     "text": [
      "ping(hlm1[10.3.216.10:22]) ... ping(hlm1vm[10.3.219.30:22]) ... ping(hos1[10.3.219.31:22]) ... ping(hos2[10.3.219.32:22]) ... ping(hos3[10.3.219.33:22]) ... ping(hos_vip[10.3.216.30:22]) ... ping(wrcl1[10.3.219.131:22]) ... ping(wrcl2[10.3.219.132:22]) ... ping(wrcl_vip[10.3.219.130:22]) ... ping(wrco0[10.3.219.177:22]) ... ping(wrco1[10.3.219.178:22]) ... ping(wrco2[10.3.219.179:22]) ... ping(wrco3[10.3.219.134:22]) ... ping(wrco4[10.3.219.135:22]) ... ping(wrco5[10.3.219.135:22]) ... ping(wrco6[10.3.219.137:22]) ... ping(wrco7[10.3.219.138:22]) ... "
     ]
    },
    {
     "data": {
      "text/html": [
       "<table style=\"border: 1px solid black; border-style: collapse;\" border=\"1\" width=100%>\"<tr><td>hlm1[10.3.216.10:22]</td><td><div style=\"background-color: green; color: white\"><b>OK</b></div></td></tr><tr><td>hlm1vm[10.3.219.30:22]</td><td><div style=\"background-color: green; color: white\"><b>OK</b></div></td></tr><tr><td>hos1[10.3.219.31:22]</td><td><div style=\"background-color: green; color: white\"><b>OK</b></div></td></tr><tr><td>hos2[10.3.219.32:22]</td><td><div style=\"background-color: green; color: white\"><b>OK</b></div></td></tr><tr><td>hos3[10.3.219.33:22]</td><td><div style=\"background-color: green; color: white\"><b>OK</b></div></td></tr><tr><td>hos_vip[10.3.216.30:22]</td><td><div style=\"background-color: green; color: white\"><b>OK</b></div></td></tr><tr><td>wrcl1[10.3.219.131:22]</td><td><div style=\"background-color: green; color: white\"><b>OK</b></div></td></tr><tr><td>wrcl2[10.3.219.132:22]</td><td><div style=\"background-color: green; color: white\"><b>OK</b></div></td></tr><tr><td>wrcl_vip[10.3.219.130:22]</td><td><div style=\"background-color: green; color: white\"><b>OK</b></div></td></tr><tr><td>wrco0[10.3.219.177:22]</td><td><div style=\"background-color: green; color: white\"><b>OK</b></div></td></tr><tr><td>wrco1[10.3.219.178:22]</td><td><div style=\"background-color: green; color: white\"><b>OK</b></div></td></tr><tr><td>wrco2[10.3.219.179:22]</td><td><div style=\"background-color: green; color: white\"><b>OK</b></div></td></tr><tr><td>wrco3[10.3.219.134:22]</td><td><div style=\"background-color: green; color: white\"><b>OK</b></div></td></tr><tr><td>wrco4[10.3.219.135:22]</td><td><div style=\"background-color: green; color: white\"><b>OK</b></div></td></tr><tr><td>wrco5[10.3.219.135:22]</td><td><div style=\"background-color: green; color: white\"><b>OK</b></div></td></tr><tr><td>wrco6[10.3.219.137:22]</td><td><div style=\"background-color: green; color: white\"><b>OK</b></div></td></tr><tr><td>wrco7[10.3.219.138:22]</td><td><div style=\"background-color: green; color: white\"><b>OK</b></div></td></tr></table>"
      ],
      "text/plain": [
       "<IPython.core.display.HTML object>"
      ]
     },
     "metadata": {},
     "output_type": "display_data"
    }
   ],
   "source": [
    "display_html_ping_ports_all(inventory)"
   ]
  },
  {
   "cell_type": "markdown",
   "metadata": {},
   "source": [
    "#### Show Endpoint URLs status (check ports open)"
   ]
  },
  {
   "cell_type": "code",
   "execution_count": 9,
   "metadata": {
    "collapsed": false
   },
   "outputs": [
    {
     "data": {
      "text/html": [
       "<table style=\"border: 1px solid black; border-style: collapse;\" border=\"1\" width=100%>\"<tr><td>10.3.216.130:8774 [compute]</td><td><div style=\"background-color: green; color: white\"><b>OK</b></div></td></tr><tr><td>10.3.216.130:9696 [network]</td><td><div style=\"background-color: green; color: white\"><b>OK</b></div></td></tr><tr><td>10.3.216.30:5000 [identity]</td><td><div style=\"background-color: green; color: white\"><b>OK</b></div></td></tr><tr><td>10.3.216.30:8776 [volume]</td><td><div style=\"background-color: green; color: white\"><b>OK</b></div></td></tr><tr><td>10.3.216.30:9292 [image]</td><td><div style=\"background-color: green; color: white\"><b>OK</b></div></td></tr></table>"
      ],
      "text/plain": [
       "<IPython.core.display.HTML object>"
      ]
     },
     "metadata": {},
     "output_type": "display_data"
    }
   ],
   "source": [
    "display_html_endpoint_urls(conn)"
   ]
  },
  {
   "cell_type": "code",
   "execution_count": 10,
   "metadata": {
    "collapsed": false
   },
   "outputs": [
    {
     "name": "stdout",
     "output_type": "stream",
     "text": [
      "hlm1:100 days,  2:13\n",
      "hlm1vm:98 days, 17:33\n",
      "hos1:85 days, 20:37\n",
      "hos2:85 days, 20:37\n",
      "hos3:29 days, 22:49\n",
      "hos_vip:85 days, 20:37\n",
      "wrcl1:48 days, 21:11\n",
      "wrcl2:58 days,  3:12\n",
      "wrcl_vip:58 days,  3:12\n",
      "wrco0:58 days, 38 min\n",
      "wrco1:47 days, 20:41\n",
      "wrco2:47 days, 23:56\n",
      "wrco3:47 days, 23:52\n",
      "wrco4:13 days, 20:48\n",
      "wrco5:13 days, 20:48\n",
      "wrco6:11 days, 16:28\n",
      "wrco7:11 days, 16:27\n"
     ]
    }
   ],
   "source": [
    "#print(inventory)\n",
    "\n",
    "import paramiko\n",
    "\n",
    "#hosts = list(inventory['ssh_check'].keys()).sorted()\n",
    "ssh_hosts = sorted(inventory['ssh_check'])\n",
    "\n",
    "for host in ssh_hosts:    \n",
    "    ip = inventory['hosts'][host]['ansible_host']\n",
    "    user = inventory['hosts'][host]['ansible_user']\n",
    "    pkey = inventory['hosts'][host]['ssh_key']\n",
    "    \n",
    "    ssh = paramiko.SSHClient()\n",
    "    ssh.set_missing_host_key_policy(paramiko.AutoAddPolicy())\n",
    "    ssh.connect(ip, username=user, key_filename=pkey, look_for_keys=False)\n",
    "    stdin, stdout, stderr = ssh.exec_command(\"uptime\")\n",
    "    \n",
    "    line=str(stdout.read())\n",
    "    #print(line)\n",
    "    up_pos = line.find(\" up \")\n",
    "    if up_pos != -1:\n",
    "        up_str = line[up_pos + 4:]\n",
    "        comma_pos = up_str.find(\",\")\n",
    "        if comma_pos != -1:\n",
    "            comma_pos2 = up_str[comma_pos+1:].find(\",\")\n",
    "            if comma_pos2 != -1:\n",
    "                up_str=up_str[:comma_pos+comma_pos2+1]\n",
    "                print(host + \":\" + up_str)\n",
    "    \n",
    "#inventory"
   ]
  },
  {
   "cell_type": "code",
   "execution_count": 11,
   "metadata": {
    "collapsed": false,
    "scrolled": true
   },
   "outputs": [
    {
     "name": "stdout",
     "output_type": "stream",
     "text": [
      "hlm1 21%  /\n",
      "hlm1vm 4%  /\n",
      "hos1 50%  /\n",
      "hos2 51%  /\n",
      "hos3 52%  /\n",
      "wrcl1 23%  /\n",
      "wrcl1 1%  /scratch\n",
      "wrcl1 11%  /var/log\n",
      "wrcl1 1%  /opt/backups\n",
      "wrcl1 23%  /\n",
      "wrcl1 23%  /\n",
      "wrcl1 23%  /\n",
      "wrcl1 23%  /\n",
      "wrcl2 22%  /\n",
      "wrcl2 4%  /scratch\n",
      "wrcl2 11%  /var/log\n",
      "wrcl2 1%  /opt/backups\n",
      "wrcl2 2%  /var/lib/rabbitmq\n",
      "wrcl2 4%  /var/lib/postgresql\n",
      "wrcl2 25%  /opt/cgcs\n",
      "wrcl2 1%  /opt/platform\n",
      "wrco0 11%  /\n",
      "wrco0 2%  /var/log\n",
      "wrco0 1%  /scratch\n",
      "wrco0 1%  /local_pv\n",
      "wrco0 25%  /etc/nova/instances\n",
      "wrco0 1%  /opt/platform\n",
      "wrco1 11%  /\n",
      "wrco1 3%  /var/log\n",
      "wrco1 1%  /scratch\n",
      "wrco1 1%  /local_pv\n",
      "wrco1 25%  /etc/nova/instances\n",
      "wrco1 1%  /opt/platform\n",
      "wrco2 11%  /\n",
      "wrco2 5%  /var/log\n",
      "wrco2 1%  /scratch\n",
      "wrco2 1%  /local_pv\n",
      "wrco2 25%  /etc/nova/instances\n",
      "wrco2 1%  /opt/platform\n",
      "wrco3 11%  /\n",
      "wrco3 3%  /var/log\n",
      "wrco3 1%  /scratch\n",
      "wrco3 1%  /local_pv\n",
      "wrco3 25%  /etc/nova/instances\n",
      "wrco3 1%  /opt/platform\n",
      "wrco4 11%  /\n",
      "wrco4 3%  /var/log\n",
      "wrco4 1%  /scratch\n",
      "wrco4 1%  /local_pv\n",
      "wrco4 25%  /etc/nova/instances\n",
      "wrco4 1%  /opt/platform\n",
      "wrco5 11%  /\n",
      "wrco5 3%  /var/log\n",
      "wrco5 1%  /scratch\n",
      "wrco5 1%  /local_pv\n",
      "wrco5 25%  /etc/nova/instances\n",
      "wrco5 1%  /opt/platform\n",
      "wrco6 11%  /\n",
      "wrco6 3%  /var/log\n",
      "wrco6 1%  /scratch\n",
      "wrco6 1%  /local_pv\n",
      "wrco6 25%  /etc/nova/instances\n",
      "wrco6 1%  /opt/platform\n",
      "wrco7 11%  /\n",
      "wrco7 3%  /var/log\n",
      "wrco7 1%  /scratch\n",
      "wrco7 1%  /local_pv\n",
      "wrco7 25%  /etc/nova/instances\n",
      "wrco7 1%  /opt/platform\n"
     ]
    }
   ],
   "source": [
    "\n",
    "! [ ! -d history ] && mkdir history\n",
    "\n",
    "df_hosts = sorted(inventory['df_check'])\n",
    "\n",
    "import datetime\n",
    "import time\n",
    "\n",
    "d = datetime.date.today().strftime(\"%B %d, %Y\")\n",
    "dt = datetime.datetime.now().strftime(\"%I:%M%p on %B %d, %Y\")\n",
    "\n",
    "for host in df_hosts:    \n",
    "    ip = inventory['hosts'][host]['ansible_host']\n",
    "    user = inventory['hosts'][host]['ansible_user']\n",
    "    pkey = inventory['hosts'][host]['ssh_key']\n",
    "    df_check = inventory['hosts'][host]['df_check']\n",
    "    \n",
    "    #print(df_check)\n",
    "    \n",
    "    ssh = paramiko.SSHClient()\n",
    "    ssh.set_missing_host_key_policy(paramiko.AutoAddPolicy())\n",
    "    ssh.connect(ip, username=user, key_filename=pkey, look_for_keys=False)\n",
    "    #stdin, stdout, stderr = ssh.exec_command(\"df -n+2 \" + df_check.replace(\",\", \" \"))\n",
    "    \n",
    "    history_file='history/df_history_' + platform + '_' + host + '.txt'\n",
    "    history_fd = open(history_file, 'a')\n",
    "    \n",
    "    full_df_cmd=\"df 2>&1\"\n",
    "    stdin, stdout, stderr = ssh.exec_command(full_df_cmd)\n",
    "    #time.sleep(1)\n",
    "    df_op = stdout.read().decode('utf8')\n",
    "    history_fd.write(dt + '\\n' + df_op)\n",
    "    \n",
    "    df_cmd=\"df \" + df_check.replace(\",\", \" \") + \"| grep -v ^Filesystem\"\n",
    "    stdin, stdout, stderr = ssh.exec_command(df_cmd)\n",
    "    df_op = stdout.read().decode('utf8')\n",
    "    #print(\"HOST[\" + host + \"]<\" + df_check + \">{\" + df_cmd +\"}:\" + df_op)\n",
    "    \n",
    "    df_lines=df_op.split(\"\\n\")\n",
    "    for df_line in df_lines:\n",
    "        #print(\"LINE: \" + df_line)\n",
    "        pc_pos = df_line.find(\"%\")\n",
    "        if pc_pos != -1:\n",
    "            pc=int(df_line[pc_pos-3:pc_pos])\n",
    "            partn=df_line[pc_pos+1:]\n",
    "            print(host + \" \" + str(pc) + \"% \" + partn)\n"
   ]
  },
  {
   "cell_type": "code",
   "execution_count": 12,
   "metadata": {
    "collapsed": true
   },
   "outputs": [],
   "source": [
    "# TODO: \n",
    "# equivalent of openstack service list\n",
    "\n",
    "# See: how service list is implemented:\n",
    "#    https://github.com/openstack/python-openstackclient/blob/master/openstackclient/compute/v2/service.py\n",
    "# (compute_client = client_manager.compute)\n",
    "#\n",
    "# See also: how to create/use a clientmanager:\n",
    "#    https://github.com/openstack/python-openstackclient/blob/master/examples/osc-lib.py\n",
    "\n",
    "#from openstackclient.common import clientmanager\n",
    "#from openstackclient.common import utils\n",
    "\n"
   ]
  },
  {
   "cell_type": "code",
   "execution_count": null,
   "metadata": {
    "collapsed": true
   },
   "outputs": [],
   "source": []
  }
 ],
 "metadata": {
  "kernelspec": {
   "display_name": "Python 3",
   "language": "python",
   "name": "python3"
  },
  "language_info": {
   "codemirror_mode": {
    "name": "ipython",
    "version": 3
   },
   "file_extension": ".py",
   "mimetype": "text/x-python",
   "name": "python",
   "nbconvert_exporter": "python",
   "pygments_lexer": "ipython3",
   "version": "3.5.1"
  }
 },
 "nbformat": 4,
 "nbformat_minor": 0
}
