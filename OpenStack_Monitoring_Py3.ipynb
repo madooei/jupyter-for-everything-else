{
 "cells": [
  {
   "cell_type": "code",
   "execution_count": 1,
   "metadata": {
    "collapsed": false
   },
   "outputs": [],
   "source": [
    "import sys, os\n",
    "sys.path.append('./modules')\n",
    "from Monitoring_Tools import *\n",
    "from OpenStack_Tools  import *"
   ]
  },
  {
   "cell_type": "code",
   "execution_count": 2,
   "metadata": {
    "collapsed": false
   },
   "outputs": [
    {
     "data": {
      "text/html": [
       "<h1>Platform: demo8</h1><h4>Run at: 2016-06-12 21:52:26</h4>"
      ],
      "text/plain": [
       "<IPython.core.display.HTML object>"
      ]
     },
     "metadata": {},
     "output_type": "display_data"
    }
   ],
   "source": [
    "platform=os.getenv('OS_PLATFORM', 'demo8')\n",
    "display_platform(platform)\n",
    "inventory = read_inventory(\"$HOME/env/{}_hosts.ini\".format(platform))\n",
    "conn = connectToCloud(platform)"
   ]
  },
  {
   "cell_type": "code",
   "execution_count": 3,
   "metadata": {
    "collapsed": false
   },
   "outputs": [
    {
     "data": {
      "text/html": [
       "<h4>The latest version of this status is available at <a href=\"http://10.3.216.210:8888/notebooks/notebooks/cron/OpenStack_Monitoring_demo8.ipynb\">http://10.3.216.210:8888/notebooks/notebooks/cron/OpenStack_Monitoring_demo8.ipynb</a></h4>"
      ],
      "text/plain": [
       "<IPython.core.display.HTML object>"
      ]
     },
     "metadata": {},
     "output_type": "display_data"
    }
   ],
   "source": [
    "show_notebook_url(platform, host_ip=\"10.3.216.210\", port=8888)"
   ]
  },
  {
   "cell_type": "markdown",
   "metadata": {},
   "source": [
    "#### Servers status (ping servers in 'ping_check' group)"
   ]
  },
  {
   "cell_type": "code",
   "execution_count": 4,
   "metadata": {
    "collapsed": false
   },
   "outputs": [
    {
     "data": {
      "text/html": [
       "<table style=\"border: 1px solid black; border-style: collapse;\" border=\"1\" width=100%>\"</table>"
      ],
      "text/plain": [
       "<IPython.core.display.HTML object>"
      ]
     },
     "metadata": {},
     "output_type": "display_data"
    }
   ],
   "source": [
    "display_html_ping_all(inventory, False)"
   ]
  },
  {
   "cell_type": "markdown",
   "metadata": {},
   "source": [
    "#### Show VMs (servers)"
   ]
  },
  {
   "cell_type": "code",
   "execution_count": 5,
   "metadata": {
    "collapsed": false
   },
   "outputs": [
    {
     "name": "stdout",
     "output_type": "stream",
     "text": [
      "6 flavors\n",
      "37 images\n",
      "1 servers\n"
     ]
    },
    {
     "data": {
      "text/html": [
       "<table style=\"border: 1px solid black; border-style: collapse;\" border=\"1\" width=100%>\"<tr><td><center><b>name</b></center></td><td><center><b>status</b></center></td><td><center><b>flavor</b></center></td><td><center><b>image</b></center></td><td><center><b>addresses</b></center></td></tr><tr><td>karimtestvm</td><td><div style=\"background-color: green; color: white\"><b>ACTIVE</b></div></td><td><u>m1.small</u><br/>[2]</td><td><u>debian-wheezy-amd64-20140929-disk</u><br/>[44d35d8c-cc29-4134-a342-dd92507f3add]</td><td><u>default-net</u><br/>172.0.100.53<br/></td></tr></table>"
      ],
      "text/plain": [
       "<IPython.core.display.HTML object>"
      ]
     },
     "metadata": {},
     "output_type": "display_data"
    }
   ],
   "source": [
    "showServerList( conn )"
   ]
  },
  {
   "cell_type": "markdown",
   "metadata": {},
   "source": [
    "#### Show server port status"
   ]
  },
  {
   "cell_type": "code",
   "execution_count": 6,
   "metadata": {
    "collapsed": false,
    "scrolled": true
   },
   "outputs": [
    {
     "name": "stdout",
     "output_type": "stream",
     "text": [
      "ping(seeduc[10.3.160.11:22]) ... ping(seed[10.3.160.10:22]) ... ping(seedvm[10.3.160.6:22]) ... "
     ]
    },
    {
     "data": {
      "text/html": [
       "<table style=\"border: 1px solid black; border-style: collapse;\" border=\"1\" width=100%>\"<tr><td>seeduc[10.3.160.11:22]</td><td><div style=\"background-color: green; color: white\"><b>OK</b></div></td></tr><tr><td>seedvm[10.3.160.6:22]</td><td><div style=\"background-color: red; color: white\"><b>TIMEOUT</b></div></td></tr><tr><td>seed[10.3.160.10:22]</td><td><div style=\"background-color: green; color: white\"><b>OK</b></div></td></tr></table>"
      ],
      "text/plain": [
       "<IPython.core.display.HTML object>"
      ]
     },
     "metadata": {},
     "output_type": "display_data"
    }
   ],
   "source": [
    "display_html_ping_ports_all(inventory)"
   ]
  },
  {
   "cell_type": "markdown",
   "metadata": {},
   "source": [
    "#### Show Endpoint URLs status (check ports open)"
   ]
  },
  {
   "cell_type": "code",
   "execution_count": 7,
   "metadata": {
    "collapsed": false
   },
   "outputs": [
    {
     "data": {
      "text/html": [
       "<table style=\"border: 1px solid black; border-style: collapse;\" border=\"1\" width=100%>\"<tr><td>10.3.160.26:8774 [compute]</td><td><div style=\"background-color: green; color: white\"><b>OK</b></div></td></tr><tr><td>10.3.160.26:9292 [image]</td><td><div style=\"background-color: green; color: white\"><b>OK</b></div></td></tr><tr><td>10.3.160.26:5000 [identity]</td><td><div style=\"background-color: green; color: white\"><b>OK</b></div></td></tr><tr><td>10.3.160.26:8776 [volume]</td><td><div style=\"background-color: green; color: white\"><b>OK</b></div></td></tr><tr><td>10.3.160.26:9696 [network]</td><td><div style=\"background-color: green; color: white\"><b>OK</b></div></td></tr></table>"
      ],
      "text/plain": [
       "<IPython.core.display.HTML object>"
      ]
     },
     "metadata": {},
     "output_type": "display_data"
    }
   ],
   "source": [
    "display_html_endpoint_urls(conn)"
   ]
  }
 ],
 "metadata": {
  "kernelspec": {
   "display_name": "Python 3",
   "language": "python",
   "name": "python3"
  },
  "language_info": {
   "codemirror_mode": {
    "name": "ipython",
    "version": 3
   },
   "file_extension": ".py",
   "mimetype": "text/x-python",
   "name": "python",
   "nbconvert_exporter": "python",
   "pygments_lexer": "ipython3",
   "version": "3.5.1"
  }
 },
 "nbformat": 4,
 "nbformat_minor": 0
}
