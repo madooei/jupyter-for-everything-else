{
 "cells": [
  {
   "cell_type": "code",
   "execution_count": 4,
   "metadata": {
    "collapsed": false
   },
   "outputs": [],
   "source": [
    "import sys, os\n",
    "sys.path.append('./modules')\n",
    "\n",
    "from IPython.core.display import display,HTML\n",
    "\n",
    "from Ping3      import ping\n",
    "from Monitoring_Tools import read_inventory, ping_all, html_ping_all, DictTable, ListTable, display_platform\n",
    "from OpenStack_Tools import connectToCloud, getServerFields, showServerList\n",
    "#import pprint\n",
    "\n",
    "platform=os.getenv('OS_PLATFORM', 'demo8')"
   ]
  },
  {
   "cell_type": "code",
   "execution_count": null,
   "metadata": {
    "collapsed": true
   },
   "outputs": [],
   "source": [
    "display_platform(platform)\n",
    "inventory = read_inventory(\"{}_hosts.ini\".format(platform))"
   ]
  },
  {
   "cell_type": "code",
   "execution_count": 5,
   "metadata": {
    "collapsed": false
   },
   "outputs": [
    {
     "data": {
      "text/html": [
       "<h1>Platform: demo8</h1>"
      ],
      "text/plain": [
       "<IPython.core.display.HTML object>"
      ]
     },
     "metadata": {},
     "output_type": "display_data"
    },
    {
     "name": "stdout",
     "output_type": "stream",
     "text": [
      "ping(seed[10.3.160.10]) ... ping(seeduc[10.3.160.11]) ... "
     ]
    },
    {
     "data": {
      "text/html": [
       "<table style=\"border: 1px solid black; border-style: collapse;\" border=\"1\" width=100%>\"<tr><td>10.3.160.10</td><td><div style=\"background-color: green; color: white\"><b>OK: 50.039313147086155 msec</b></div></td></tr><tr><td>10.3.160.11</td><td><div style=\"background-color: green; color: white\"><b>OK: 49.93117908283986 msec</b></div></td></tr></table>"
      ],
      "text/plain": [
       "<IPython.core.display.HTML object>"
      ]
     },
     "metadata": {},
     "output_type": "display_data"
    }
   ],
   "source": [
    "html = html_ping_all(inventory, False)\n",
    "display( HTML(html) )"
   ]
  },
  {
   "cell_type": "code",
   "execution_count": 6,
   "metadata": {
    "collapsed": false
   },
   "outputs": [
    {
     "name": "stdout",
     "output_type": "stream",
     "text": [
      "6 flavors\n",
      "37 images\n",
      "1 servers\n"
     ]
    },
    {
     "data": {
      "text/html": [
       "<table style=\"border: 1px solid black; border-style: collapse;\" border=\"1\" width=100%>\"<tr><td><center><b>name</b></center></td><td><center><b>status</b></center></td><td><center><b>flavor</b></center></td><td><center><b>image</b></center></td><td><center><b>addresses</b></center></td></tr><tr><td>karimtestvm</td><td><div style=\"background-color: green; color: white\"><b>ACTIVE</b></div></td><td><u>m1.small</u><br/>[2]</td><td><u>debian-wheezy-amd64-20140929-disk</u><br/>[44d35d8c-cc29-4134-a342-dd92507f3add]</td><td><u>default-net</u><br/>172.0.100.53<br/></td></tr></table>"
      ],
      "text/plain": [
       "<IPython.core.display.HTML object>"
      ]
     },
     "metadata": {},
     "output_type": "display_data"
    }
   ],
   "source": [
    "conn = connectToCloud(platform)\n",
    "showServerList(conn)"
   ]
  },
  {
   "cell_type": "code",
   "execution_count": null,
   "metadata": {
    "collapsed": true
   },
   "outputs": [],
   "source": []
  }
 ],
 "metadata": {
  "kernelspec": {
   "display_name": "Python 3",
   "language": "python",
   "name": "python3"
  },
  "language_info": {
   "codemirror_mode": {
    "name": "ipython",
    "version": 3
   },
   "file_extension": ".py",
   "mimetype": "text/x-python",
   "name": "python",
   "nbconvert_exporter": "python",
   "pygments_lexer": "ipython3",
   "version": "3.5.1"
  }
 },
 "nbformat": 4,
 "nbformat_minor": 0
}
